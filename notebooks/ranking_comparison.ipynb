{
 "cells": [
  {
   "cell_type": "code",
   "execution_count": 1,
   "id": "4fee7492-09ca-4cf9-9a0d-aaadf212b8dd",
   "metadata": {},
   "outputs": [],
   "source": [
    "import pandas as pd\n",
    "import altair as alt\n",
    "from altair_saver import save\n",
    "import numpy as np\n",
    "from IPython.display import Image\n",
    "from nltk.stem import PorterStemmer\n",
    "ps = PorterStemmer()"
   ]
  },
  {
   "cell_type": "markdown",
   "id": "53c34db2-9139-4283-bf45-f4c6cbc3ec0c",
   "metadata": {},
   "source": [
    "# Ranking comparison - surverys and dueling-bandints"
   ]
  },
  {
   "cell_type": "markdown",
   "id": "3e7fc1bc-097b-463f-b077-1080cb762f39",
   "metadata": {},
   "source": [
    "## Read in data"
   ]
  },
  {
   "cell_type": "code",
   "execution_count": 2,
   "id": "3ea6fd81-fa3c-4377-acd4-ca7421d5ff3f",
   "metadata": {},
   "outputs": [],
   "source": [
    "df_free = pd.read_csv('../clean_data/free_choice_emotion_uw_students.csv')\n",
    "df_free_labels = pd.read_csv('../data/emotion_labels_free_choice.csv')\n",
    "\n",
    "df_forced = pd.read_csv('../clean_data/forced_choice_emotion_uw_students.csv')\n",
    "df_forced_labels = pd.read_csv('../data/emotion_labels.csv')"
   ]
  },
  {
   "cell_type": "code",
   "execution_count": 3,
   "id": "723ee7b9-433e-4367-9cf3-8fd8cc23f0a3",
   "metadata": {},
   "outputs": [],
   "source": [
    "df_emo_answers_free = df_free.loc[:, 'Q2.1_1':'Q195.1_4'] # get cols with words only\n",
    "df_emo_answers_forced = df_forced.loc[:, 'Q2.1':'Q195.1'] "
   ]
  },
  {
   "cell_type": "code",
   "execution_count": 4,
   "id": "2e0a0207-9828-4741-baed-a8cad1d87256",
   "metadata": {},
   "outputs": [],
   "source": [
    "def emotion_df_formated(df_emo_answers, emotion_label, df_labels):\n",
    "    df_emo_cat = df_emo_answers.copy() \n",
    "    df_emo_cat_t = df_emo_cat.T # transpose\n",
    "    df_emo_cat_t['photo_id'] = df_emo_cat_t.index # get index as col\n",
    "    df_emo_cat_t = df_emo_cat_t.reset_index(drop=True) # clean index\n",
    "    df_emo_cat_t_labels = pd.concat([df_emo_cat_t, df_labels], axis=1) # add metadata cols\n",
    "    df_label =  df_emo_cat_t_labels[df_emo_cat_t_labels['label'] == emotion_label]\n",
    "    \n",
    "    return df_label"
   ]
  },
  {
   "cell_type": "code",
   "execution_count": 5,
   "id": "a475409b-0f5b-436b-aab4-d5b02341aa04",
   "metadata": {},
   "outputs": [],
   "source": [
    "def formating_words(df, len_words=1, len_letters=2):\n",
    "    df_stack = df.stack().reset_index(drop=True) # stack as series\n",
    "    df_stack = df_stack.to_frame(name='emotion') # as DF\n",
    "    df_stack['emotion'] = df_stack['emotion'].str.strip() # remove blank spaces\n",
    "    df_stack['emotion'] = df_stack['emotion'].str.lower() # as lower case\n",
    "    df_stack['emotion'] = df_stack['emotion'].replace({'na':'none'}) \n",
    "    df_stack['len_words'] = df_stack['emotion'].str.split().apply(len) # cnt number of words\n",
    "    df_stack['len_letters'] = df_stack['emotion'].apply(len) # cont number of letters\n",
    "    # get df with single words of 3 or more letters\n",
    "    df_stack_single_word = df_stack[(df_stack['len_words'] == len_words) & (df_stack['len_letters'] > len_letters)] \n",
    "    return df_stack_single_word"
   ]
  },
  {
   "cell_type": "code",
   "execution_count": 6,
   "id": "7bb15d22-a772-4b5f-9092-86beb48a853b",
   "metadata": {},
   "outputs": [],
   "source": [
    "def simple_per_bar_concat(\n",
    "    df, title='Title', X='percent:Q', Y='emotion:N', \\\n",
    "    width=450, height=250, sort='-x', \\\n",
    "    text_size = 12, label_size = 11, title_size=12, \\\n",
    "    emotion='Some', color1='#0570b0', color2='orange'):\n",
    "    \n",
    "    bars = alt.Chart(df, title=title).mark_bar().encode(\n",
    "        alt.X(X, axis=alt.Axis(format='.0%')),\n",
    "        y=alt.Y(Y, sort=sort), \n",
    "        color=alt.condition(\n",
    "            alt.datum.emotion == emotion,\n",
    "            alt.value(color2),\n",
    "            alt.value(color1)\n",
    "        ))\n",
    "    \n",
    "    text = bars.mark_text(\n",
    "    align='left',\n",
    "    baseline='middle',\n",
    "    dx=3,  # Nudges text to right so it doesn't appear on top of the bar\n",
    "    fontSize=text_size\n",
    "    ).encode(\n",
    "        alt.Text(X, format='.1%')\n",
    "    )\n",
    "    \n",
    "    chart = (bars + text)\n",
    "    \n",
    "    return chart"
   ]
  },
  {
   "cell_type": "code",
   "execution_count": 7,
   "id": "c80c0f8a-be25-42c8-be04-c9691865fba6",
   "metadata": {},
   "outputs": [],
   "source": [
    "def simple_cnt_bar_concat(\n",
    "    df, title='Title', X='percent:Q', Y='emotion:N', \\\n",
    "    width=450, height=250, sort='-x', \\\n",
    "    text_size = 12, label_size = 11, title_size=12, \\\n",
    "    emotion='Some', color1='#0570b0', color2='orange'):\n",
    "    \n",
    "    bars = alt.Chart(df, title=title).mark_bar().encode(\n",
    "        alt.X(X, axis=alt.Axis(format='.0%')),\n",
    "        y=alt.Y(Y, sort=sort), \n",
    "        color=alt.condition(\n",
    "            alt.datum.emotion == emotion,\n",
    "            alt.value(color2),\n",
    "            alt.value(color1)\n",
    "        ))\n",
    "    \n",
    "    text = bars.mark_text(\n",
    "    align='left',\n",
    "    baseline='middle',\n",
    "    dx=3,  # Nudges text to right so it doesn't appear on top of the bar\n",
    "    fontSize=text_size\n",
    "    ).encode(\n",
    "        alt.Text(X)\n",
    "    )\n",
    "    \n",
    "    chart = (bars + text)\n",
    "    \n",
    "    return chart"
   ]
  },
  {
   "cell_type": "code",
   "execution_count": 8,
   "id": "77e7f511-d522-4805-878b-02e122f3c239",
   "metadata": {},
   "outputs": [],
   "source": [
    "def count_freq_labels(df, X=\"all\", col=\"emotion\"):\n",
    "    if X == \"all\":\n",
    "        df_counts = df.stack().reset_index(drop=True).value_counts() # stack as series\n",
    "        df_counts = df_counts.to_frame('counts') # get value_counts as df\n",
    "        df_counts['emotion'] = df_counts.index # get index as col\n",
    "    elif X == \"stacked\":\n",
    "        df_counts = df[col].value_counts() # count word frequency\n",
    "        df_counts = df_counts.to_frame('counts') # get value_counts as df\n",
    "        df_counts['emotion'] = df_counts.index # get index as col    \n",
    "    else:\n",
    "        df_counts = df[X].reset_index(drop=True).value_counts() # stack as series\n",
    "        df_counts = df_counts.to_frame('counts') # get value_counts as df\n",
    "        df_counts[X] = df_counts.index # get index as col\n",
    "\n",
    "    df_counts = df_counts.reset_index(drop=True) # clean index\n",
    "    df_counts['percent'] = df_counts['counts'] / df_counts['counts'].sum() # compute percentage\n",
    "    return df_counts"
   ]
  },
  {
   "cell_type": "code",
   "execution_count": 9,
   "id": "7af36db2-a13e-4ee1-87e4-ed59f5538321",
   "metadata": {},
   "outputs": [],
   "source": [
    "def photo_chart(df_emo_answers, emotion,  i, df_labels, yoffset=220, emotion_st = None, n_mentions=2, photo = None):\n",
    "    df = emotion_df_formated(df_emo_answers, emotion, df_labels) # add emotion label\n",
    "    photo_id_list = df['photo_id'].tolist() # photo id to list\n",
    "    splited_photo_id = np.array_split(photo_id_list, 24) # split photo id by photo\n",
    "    df = df[df['photo_id'].isin(splited_photo_id[i])] # select photo rows   \n",
    "    df_url = df[['url']].head(1)  # get url for chart\n",
    "    \n",
    "    face = alt.Chart(df_url).mark_image(width=150, height=150, align='center', xOffset=-100, yOffset=yoffset).encode(url='url')\n",
    "    \n",
    "    df_emotion_ans = df.drop(['photo_id', 'ethnicity', 'sex', 'age', 'label', 'url', 'photoId'], axis=1) # clean cols\n",
    "    df_stack_emotion = formating_words(df_emotion_ans) # clean up words\n",
    "    df_stack_emotion['emotion_ps_steamed'] = df_stack_emotion['emotion'].apply(lambda x: ps.stem(x)) # steam\n",
    "    df_stack_emotion_count = count_freq_labels(df_stack_emotion, X=\"stacked\", col='emotion_ps_steamed') # group and count\n",
    "    source = df_stack_emotion_count[df_stack_emotion_count['counts'] >= n_mentions]\n",
    "    \n",
    "    chart = simple_per_bar_concat(source,\\\n",
    "                           title=f\"Categories with {n_mentions} or more mentions | n= {source['counts'].sum().astype(str)}\", \\\n",
    "                           X='percent:Q', Y='emotion:N', emotion=emotion_st)\n",
    "\n",
    "    if photo == True:\n",
    "        return chart + face\n",
    "    else:\n",
    "        return chart"
   ]
  },
  {
   "cell_type": "code",
   "execution_count": 10,
   "id": "45af3462-90d8-4d84-a9bc-5cde2af9c936",
   "metadata": {},
   "outputs": [],
   "source": [
    "def next_chart_wrapper(file_path, emotion, head):\n",
    "    df = pd.read_csv(file_path)\n",
    "    \n",
    "    df = df.round(decimals=2)\n",
    "\n",
    "    df.rename(columns={\n",
    "        'Target': 'emotion',\n",
    "        'Score': 'borda score'}, inplace=True)\n",
    "\n",
    "    title=f\"Dueling bandits ranking | Top: {head}\"\n",
    "\n",
    "    chart = simple_cnt_bar_concat(df.head(head), title= title, \\\n",
    "                                  X='borda score:Q', Y='emotion:N', emotion=emotion)\n",
    "    return chart"
   ]
  },
  {
   "cell_type": "markdown",
   "id": "e43e4006-a86e-4a96-8d55-0b8519afbd38",
   "metadata": {},
   "source": [
    "## Anger - Female of color"
   ]
  },
  {
   "cell_type": "code",
   "execution_count": 11,
   "id": "f68cb923-3472-472e-b916-2b2f0a6becba",
   "metadata": {},
   "outputs": [],
   "source": [
    "anger_bfa_forced = photo_chart(df_emo_answers_forced, 'anger',  0, df_forced_labels, emotion_st='anger', n_mentions=2, photo=True, yoffset=230)\n",
    "anger_bfa_free = photo_chart(df_emo_answers_free, 'anger',  0, df_free_labels, emotion_st='angri', n_mentions=2)"
   ]
  },
  {
   "cell_type": "code",
   "execution_count": 12,
   "id": "67d419dd-3064-428b-9d8a-2f1d6b5c2ab1",
   "metadata": {},
   "outputs": [],
   "source": [
    "path = '../../emo-ranking-next/anger_bipoc_female/borda_lilucb_ranking.csv'\n",
    "\n",
    "anger_bfa_next = next_chart_wrapper(path, emotion='angry', head=15)"
   ]
  },
  {
   "cell_type": "code",
   "execution_count": 13,
   "id": "197d9711-4675-4668-bead-5c4afd2f2e33",
   "metadata": {},
   "outputs": [
    {
     "data": {
      "text/html": [
       "\n",
       "<div id=\"altair-viz-6d0a049804da4aacb35bbf66c1b38beb\"></div>\n",
       "<script type=\"text/javascript\">\n",
       "  (function(spec, embedOpt){\n",
       "    let outputDiv = document.currentScript.previousElementSibling;\n",
       "    if (outputDiv.id !== \"altair-viz-6d0a049804da4aacb35bbf66c1b38beb\") {\n",
       "      outputDiv = document.getElementById(\"altair-viz-6d0a049804da4aacb35bbf66c1b38beb\");\n",
       "    }\n",
       "    const paths = {\n",
       "      \"vega\": \"https://cdn.jsdelivr.net/npm//vega@5?noext\",\n",
       "      \"vega-lib\": \"https://cdn.jsdelivr.net/npm//vega-lib?noext\",\n",
       "      \"vega-lite\": \"https://cdn.jsdelivr.net/npm//vega-lite@4.8.1?noext\",\n",
       "      \"vega-embed\": \"https://cdn.jsdelivr.net/npm//vega-embed@6?noext\",\n",
       "    };\n",
       "\n",
       "    function loadScript(lib) {\n",
       "      return new Promise(function(resolve, reject) {\n",
       "        var s = document.createElement('script');\n",
       "        s.src = paths[lib];\n",
       "        s.async = true;\n",
       "        s.onload = () => resolve(paths[lib]);\n",
       "        s.onerror = () => reject(`Error loading script: ${paths[lib]}`);\n",
       "        document.getElementsByTagName(\"head\")[0].appendChild(s);\n",
       "      });\n",
       "    }\n",
       "\n",
       "    function showError(err) {\n",
       "      outputDiv.innerHTML = `<div class=\"error\" style=\"color:red;\">${err}</div>`;\n",
       "      throw err;\n",
       "    }\n",
       "\n",
       "    function displayChart(vegaEmbed) {\n",
       "      vegaEmbed(outputDiv, spec, embedOpt)\n",
       "        .catch(err => showError(`Javascript Error: ${err.message}<br>This usually means there's a typo in your chart specification. See the javascript console for the full traceback.`));\n",
       "    }\n",
       "\n",
       "    if(typeof define === \"function\" && define.amd) {\n",
       "      requirejs.config({paths});\n",
       "      require([\"vega-embed\"], displayChart, err => showError(`Error loading script: ${err.message}`));\n",
       "    } else if (typeof vegaEmbed === \"function\") {\n",
       "      displayChart(vegaEmbed);\n",
       "    } else {\n",
       "      loadScript(\"vega\")\n",
       "        .then(() => loadScript(\"vega-lite\"))\n",
       "        .then(() => loadScript(\"vega-embed\"))\n",
       "        .catch(showError)\n",
       "        .then(() => displayChart(vegaEmbed));\n",
       "    }\n",
       "  })({\"config\": {\"view\": {\"continuousWidth\": 400, \"continuousHeight\": 300}}, \"hconcat\": [{\"layer\": [{\"mark\": \"bar\", \"encoding\": {\"color\": {\"condition\": {\"value\": \"orange\", \"test\": \"(datum.emotion === 'anger')\"}, \"value\": \"#0570b0\"}, \"x\": {\"type\": \"quantitative\", \"axis\": {\"format\": \".0%\"}, \"field\": \"percent\"}, \"y\": {\"type\": \"nominal\", \"field\": \"emotion\", \"sort\": \"-x\"}}, \"title\": \"Categories with 2 or more mentions | n= 49\"}, {\"mark\": {\"type\": \"text\", \"align\": \"left\", \"baseline\": \"middle\", \"dx\": 3, \"fontSize\": 12}, \"encoding\": {\"color\": {\"condition\": {\"value\": \"orange\", \"test\": \"(datum.emotion === 'anger')\"}, \"value\": \"#0570b0\"}, \"text\": {\"type\": \"quantitative\", \"field\": \"percent\", \"format\": \".1%\"}, \"x\": {\"type\": \"quantitative\", \"axis\": {\"format\": \".0%\"}, \"field\": \"percent\"}, \"y\": {\"type\": \"nominal\", \"field\": \"emotion\", \"sort\": \"-x\"}}, \"title\": \"Categories with 2 or more mentions | n= 49\"}, {\"data\": {\"name\": \"data-54b2d285cd54819d962f2bd59b444e40\"}, \"mark\": {\"type\": \"image\", \"align\": \"center\", \"height\": 150, \"width\": 150, \"xOffset\": -100, \"yOffset\": 230}, \"encoding\": {\"url\": {\"type\": \"nominal\", \"field\": \"url\"}}}], \"data\": {\"name\": \"data-10ce7ba54f9577f764739d23abdc4981\"}, \"width\": 200}, {\"layer\": [{\"mark\": \"bar\", \"encoding\": {\"color\": {\"condition\": {\"value\": \"orange\", \"test\": \"(datum.emotion === 'angri')\"}, \"value\": \"#0570b0\"}, \"x\": {\"type\": \"quantitative\", \"axis\": {\"format\": \".0%\"}, \"field\": \"percent\"}, \"y\": {\"type\": \"nominal\", \"field\": \"emotion\", \"sort\": \"-x\"}}, \"title\": \"Categories with 2 or more mentions | n= 37\"}, {\"mark\": {\"type\": \"text\", \"align\": \"left\", \"baseline\": \"middle\", \"dx\": 3, \"fontSize\": 12}, \"encoding\": {\"color\": {\"condition\": {\"value\": \"orange\", \"test\": \"(datum.emotion === 'angri')\"}, \"value\": \"#0570b0\"}, \"text\": {\"type\": \"quantitative\", \"field\": \"percent\", \"format\": \".1%\"}, \"x\": {\"type\": \"quantitative\", \"axis\": {\"format\": \".0%\"}, \"field\": \"percent\"}, \"y\": {\"type\": \"nominal\", \"field\": \"emotion\", \"sort\": \"-x\"}}, \"title\": \"Categories with 2 or more mentions | n= 37\"}], \"data\": {\"name\": \"data-bcf7779eaa63c7dfa5148195a3e951ac\"}, \"width\": 200}, {\"layer\": [{\"mark\": \"bar\", \"encoding\": {\"color\": {\"condition\": {\"value\": \"orange\", \"test\": \"(datum.emotion === 'angry')\"}, \"value\": \"#0570b0\"}, \"x\": {\"type\": \"quantitative\", \"axis\": {\"format\": \".0%\"}, \"field\": \"borda score\"}, \"y\": {\"type\": \"nominal\", \"field\": \"emotion\", \"sort\": \"-x\"}}, \"title\": \"Dueling bandits ranking | Top: 15\"}, {\"mark\": {\"type\": \"text\", \"align\": \"left\", \"baseline\": \"middle\", \"dx\": 3, \"fontSize\": 12}, \"encoding\": {\"color\": {\"condition\": {\"value\": \"orange\", \"test\": \"(datum.emotion === 'angry')\"}, \"value\": \"#0570b0\"}, \"text\": {\"type\": \"quantitative\", \"field\": \"borda score\"}, \"x\": {\"type\": \"quantitative\", \"axis\": {\"format\": \".0%\"}, \"field\": \"borda score\"}, \"y\": {\"type\": \"nominal\", \"field\": \"emotion\", \"sort\": \"-x\"}}, \"title\": \"Dueling bandits ranking | Top: 15\"}], \"data\": {\"name\": \"data-4d759d0a3a22a7ed32fc47e9d310cbe8\"}, \"width\": 200}], \"$schema\": \"https://vega.github.io/schema/vega-lite/v4.8.1.json\", \"datasets\": {\"data-10ce7ba54f9577f764739d23abdc4981\": [{\"counts\": 19, \"emotion\": \"neutral\", \"percent\": 0.37254901960784315}, {\"counts\": 14, \"emotion\": \"anger\", \"percent\": 0.27450980392156865}, {\"counts\": 7, \"emotion\": \"uncertain\", \"percent\": 0.13725490196078433}, {\"counts\": 5, \"emotion\": \"disgust\", \"percent\": 0.09803921568627451}, {\"counts\": 4, \"emotion\": \"other\", \"percent\": 0.0784313725490196}], \"data-54b2d285cd54819d962f2bd59b444e40\": [{\"url\": \"https://uwmadison.co1.qualtrics.com/ControlPanel/Graphic.php?IM=IM_bJXdODAZHOaG0rI\"}], \"data-bcf7779eaa63c7dfa5148195a3e951ac\": [{\"counts\": 10, \"emotion\": \"angri\", \"percent\": 0.14084507042253522}, {\"counts\": 5, \"emotion\": \"mad\", \"percent\": 0.07042253521126761}, {\"counts\": 4, \"emotion\": \"silli\", \"percent\": 0.056338028169014086}, {\"counts\": 3, \"emotion\": \"calm\", \"percent\": 0.04225352112676056}, {\"counts\": 3, \"emotion\": \"focus\", \"percent\": 0.04225352112676056}, {\"counts\": 3, \"emotion\": \"seriou\", \"percent\": 0.04225352112676056}, {\"counts\": 3, \"emotion\": \"confus\", \"percent\": 0.04225352112676056}, {\"counts\": 2, \"emotion\": \"frustrat\", \"percent\": 0.028169014084507043}, {\"counts\": 2, \"emotion\": \"intrigu\", \"percent\": 0.028169014084507043}, {\"counts\": 2, \"emotion\": \"none\", \"percent\": 0.028169014084507043}], \"data-4d759d0a3a22a7ed32fc47e9d310cbe8\": [{\"Rank\": 0, \"emotion\": \"frustrated\", \"borda score\": 0.93, \"Precision\": 0.09}, {\"Rank\": 1, \"emotion\": \"stern\", \"borda score\": 0.81, \"Precision\": 0.12}, {\"Rank\": 2, \"emotion\": \"dislike\", \"borda score\": 0.72, \"Precision\": 0.16}, {\"Rank\": 3, \"emotion\": \"stare\", \"borda score\": 0.69, \"Precision\": 0.17}, {\"Rank\": 4, \"emotion\": \"grumpy\", \"borda score\": 0.66, \"Precision\": 0.19}, {\"Rank\": 5, \"emotion\": \"uncomfortable\", \"borda score\": 0.61, \"Precision\": 0.21}, {\"Rank\": 6, \"emotion\": \"disappointed\", \"borda score\": 0.61, \"Precision\": 0.21}, {\"Rank\": 7, \"emotion\": \"goofy\", \"borda score\": 0.61, \"Precision\": 0.21}, {\"Rank\": 8, \"emotion\": \"displeased\", \"borda score\": 0.58, \"Precision\": 0.23}, {\"Rank\": 9, \"emotion\": \"curious\", \"borda score\": 0.58, \"Precision\": 0.23}, {\"Rank\": 10, \"emotion\": \"scared\", \"borda score\": 0.56, \"Precision\": 0.24}, {\"Rank\": 11, \"emotion\": \"confusion\", \"borda score\": 0.56, \"Precision\": 0.24}, {\"Rank\": 12, \"emotion\": \"frusturated\", \"borda score\": 0.55, \"Precision\": 0.22}, {\"Rank\": 13, \"emotion\": \"angry\", \"borda score\": 0.53, \"Precision\": 0.24}, {\"Rank\": 14, \"emotion\": \"unpleasant\", \"borda score\": 0.5, \"Precision\": 0.27}]}}, {\"mode\": \"vega-lite\"});\n",
       "</script>"
      ],
      "text/plain": [
       "alt.HConcatChart(...)"
      ]
     },
     "execution_count": 13,
     "metadata": {},
     "output_type": "execute_result"
    }
   ],
   "source": [
    "anger_bfa_next_panel = (anger_bfa_forced.properties(width=200) | anger_bfa_free.properties(width=200) | anger_bfa_next.properties(width=200))\n",
    "anger_bfa_next_panel"
   ]
  },
  {
   "cell_type": "code",
   "execution_count": 14,
   "id": "aeda61b4-8256-416b-ba9e-820e7c611a59",
   "metadata": {},
   "outputs": [],
   "source": [
    "save(anger_bfa_next_panel, \"../../emotions_dashboard/data/anger_bfa_next_panel.png\")"
   ]
  },
  {
   "cell_type": "markdown",
   "id": "bd38f499-394f-417f-b540-3aec467202d2",
   "metadata": {},
   "source": [
    "## Anger - Male of color"
   ]
  },
  {
   "cell_type": "code",
   "execution_count": 15,
   "id": "863d95d1-c486-43b1-9e4e-a2b250cb25a3",
   "metadata": {},
   "outputs": [],
   "source": [
    "anger_bma_forced = photo_chart(df_emo_answers_forced, 'anger',  2, df_forced_labels, emotion_st='anger', n_mentions=2, photo=True)\n",
    "anger_bma_free = photo_chart(df_emo_answers_free, 'anger',  2, df_free_labels, emotion_st='angri', n_mentions=2)"
   ]
  },
  {
   "cell_type": "code",
   "execution_count": 16,
   "id": "ee7c2d94-73d5-4f73-9422-2024106ba158",
   "metadata": {},
   "outputs": [],
   "source": [
    "path = '../../emo-ranking-next/anger_bipoc_male/borda_lilucb_ranking.csv'\n",
    "\n",
    "anger_bma_next = next_chart_wrapper(path, emotion='angry', head=15)"
   ]
  },
  {
   "cell_type": "code",
   "execution_count": 17,
   "id": "5ac8dedc-2492-491f-9d5e-c1b636f65904",
   "metadata": {},
   "outputs": [
    {
     "data": {
      "text/html": [
       "\n",
       "<div id=\"altair-viz-0f9742a9a8054fed8f4247fb49c2ab0c\"></div>\n",
       "<script type=\"text/javascript\">\n",
       "  (function(spec, embedOpt){\n",
       "    let outputDiv = document.currentScript.previousElementSibling;\n",
       "    if (outputDiv.id !== \"altair-viz-0f9742a9a8054fed8f4247fb49c2ab0c\") {\n",
       "      outputDiv = document.getElementById(\"altair-viz-0f9742a9a8054fed8f4247fb49c2ab0c\");\n",
       "    }\n",
       "    const paths = {\n",
       "      \"vega\": \"https://cdn.jsdelivr.net/npm//vega@5?noext\",\n",
       "      \"vega-lib\": \"https://cdn.jsdelivr.net/npm//vega-lib?noext\",\n",
       "      \"vega-lite\": \"https://cdn.jsdelivr.net/npm//vega-lite@4.8.1?noext\",\n",
       "      \"vega-embed\": \"https://cdn.jsdelivr.net/npm//vega-embed@6?noext\",\n",
       "    };\n",
       "\n",
       "    function loadScript(lib) {\n",
       "      return new Promise(function(resolve, reject) {\n",
       "        var s = document.createElement('script');\n",
       "        s.src = paths[lib];\n",
       "        s.async = true;\n",
       "        s.onload = () => resolve(paths[lib]);\n",
       "        s.onerror = () => reject(`Error loading script: ${paths[lib]}`);\n",
       "        document.getElementsByTagName(\"head\")[0].appendChild(s);\n",
       "      });\n",
       "    }\n",
       "\n",
       "    function showError(err) {\n",
       "      outputDiv.innerHTML = `<div class=\"error\" style=\"color:red;\">${err}</div>`;\n",
       "      throw err;\n",
       "    }\n",
       "\n",
       "    function displayChart(vegaEmbed) {\n",
       "      vegaEmbed(outputDiv, spec, embedOpt)\n",
       "        .catch(err => showError(`Javascript Error: ${err.message}<br>This usually means there's a typo in your chart specification. See the javascript console for the full traceback.`));\n",
       "    }\n",
       "\n",
       "    if(typeof define === \"function\" && define.amd) {\n",
       "      requirejs.config({paths});\n",
       "      require([\"vega-embed\"], displayChart, err => showError(`Error loading script: ${err.message}`));\n",
       "    } else if (typeof vegaEmbed === \"function\") {\n",
       "      displayChart(vegaEmbed);\n",
       "    } else {\n",
       "      loadScript(\"vega\")\n",
       "        .then(() => loadScript(\"vega-lite\"))\n",
       "        .then(() => loadScript(\"vega-embed\"))\n",
       "        .catch(showError)\n",
       "        .then(() => displayChart(vegaEmbed));\n",
       "    }\n",
       "  })({\"config\": {\"view\": {\"continuousWidth\": 400, \"continuousHeight\": 300}}, \"hconcat\": [{\"layer\": [{\"mark\": \"bar\", \"encoding\": {\"color\": {\"condition\": {\"value\": \"orange\", \"test\": \"(datum.emotion === 'anger')\"}, \"value\": \"#0570b0\"}, \"x\": {\"type\": \"quantitative\", \"axis\": {\"format\": \".0%\"}, \"field\": \"percent\"}, \"y\": {\"type\": \"nominal\", \"field\": \"emotion\", \"sort\": \"-x\"}}, \"title\": \"Categories with 2 or more mentions | n= 49\"}, {\"mark\": {\"type\": \"text\", \"align\": \"left\", \"baseline\": \"middle\", \"dx\": 3, \"fontSize\": 12}, \"encoding\": {\"color\": {\"condition\": {\"value\": \"orange\", \"test\": \"(datum.emotion === 'anger')\"}, \"value\": \"#0570b0\"}, \"text\": {\"type\": \"quantitative\", \"field\": \"percent\", \"format\": \".1%\"}, \"x\": {\"type\": \"quantitative\", \"axis\": {\"format\": \".0%\"}, \"field\": \"percent\"}, \"y\": {\"type\": \"nominal\", \"field\": \"emotion\", \"sort\": \"-x\"}}, \"title\": \"Categories with 2 or more mentions | n= 49\"}, {\"data\": {\"name\": \"data-5e9b87a0f072ea79ba61c3038bc2edb5\"}, \"mark\": {\"type\": \"image\", \"align\": \"center\", \"height\": 150, \"width\": 150, \"xOffset\": -100, \"yOffset\": 220}, \"encoding\": {\"url\": {\"type\": \"nominal\", \"field\": \"url\"}}}], \"data\": {\"name\": \"data-29a81955e55ea0657ab5b8815ae4359a\"}, \"width\": 200}, {\"layer\": [{\"mark\": \"bar\", \"encoding\": {\"color\": {\"condition\": {\"value\": \"orange\", \"test\": \"(datum.emotion === 'angri')\"}, \"value\": \"#0570b0\"}, \"x\": {\"type\": \"quantitative\", \"axis\": {\"format\": \".0%\"}, \"field\": \"percent\"}, \"y\": {\"type\": \"nominal\", \"field\": \"emotion\", \"sort\": \"-x\"}}, \"title\": \"Categories with 2 or more mentions | n= 62\"}, {\"mark\": {\"type\": \"text\", \"align\": \"left\", \"baseline\": \"middle\", \"dx\": 3, \"fontSize\": 12}, \"encoding\": {\"color\": {\"condition\": {\"value\": \"orange\", \"test\": \"(datum.emotion === 'angri')\"}, \"value\": \"#0570b0\"}, \"text\": {\"type\": \"quantitative\", \"field\": \"percent\", \"format\": \".1%\"}, \"x\": {\"type\": \"quantitative\", \"axis\": {\"format\": \".0%\"}, \"field\": \"percent\"}, \"y\": {\"type\": \"nominal\", \"field\": \"emotion\", \"sort\": \"-x\"}}, \"title\": \"Categories with 2 or more mentions | n= 62\"}], \"data\": {\"name\": \"data-2df47eba5c6a32b552d5915a66882456\"}, \"width\": 200}, {\"layer\": [{\"mark\": \"bar\", \"encoding\": {\"color\": {\"condition\": {\"value\": \"orange\", \"test\": \"(datum.emotion === 'angry')\"}, \"value\": \"#0570b0\"}, \"x\": {\"type\": \"quantitative\", \"axis\": {\"format\": \".0%\"}, \"field\": \"borda score\"}, \"y\": {\"type\": \"nominal\", \"field\": \"emotion\", \"sort\": \"-x\"}}, \"title\": \"Dueling bandits ranking | Top: 15\"}, {\"mark\": {\"type\": \"text\", \"align\": \"left\", \"baseline\": \"middle\", \"dx\": 3, \"fontSize\": 12}, \"encoding\": {\"color\": {\"condition\": {\"value\": \"orange\", \"test\": \"(datum.emotion === 'angry')\"}, \"value\": \"#0570b0\"}, \"text\": {\"type\": \"quantitative\", \"field\": \"borda score\"}, \"x\": {\"type\": \"quantitative\", \"axis\": {\"format\": \".0%\"}, \"field\": \"borda score\"}, \"y\": {\"type\": \"nominal\", \"field\": \"emotion\", \"sort\": \"-x\"}}, \"title\": \"Dueling bandits ranking | Top: 15\"}], \"data\": {\"name\": \"data-cffe8507a8135f338481e3ae43701281\"}, \"width\": 200}], \"$schema\": \"https://vega.github.io/schema/vega-lite/v4.8.1.json\", \"datasets\": {\"data-29a81955e55ea0657ab5b8815ae4359a\": [{\"counts\": 47, \"emotion\": \"anger\", \"percent\": 0.9215686274509803}, {\"counts\": 2, \"emotion\": \"neutral\", \"percent\": 0.0392156862745098}], \"data-5e9b87a0f072ea79ba61c3038bc2edb5\": [{\"url\": \"https://uwmadison.co1.qualtrics.com/ControlPanel/Graphic.php?IM=IM_3QLhY3LefdXzwfI\"}], \"data-2df47eba5c6a32b552d5915a66882456\": [{\"counts\": 32, \"emotion\": \"angri\", \"percent\": 0.3950617283950617}, {\"counts\": 9, \"emotion\": \"mad\", \"percent\": 0.1111111111111111}, {\"counts\": 7, \"emotion\": \"upset\", \"percent\": 0.08641975308641975}, {\"counts\": 3, \"emotion\": \"yell\", \"percent\": 0.037037037037037035}, {\"counts\": 3, \"emotion\": \"frustur\", \"percent\": 0.037037037037037035}, {\"counts\": 3, \"emotion\": \"frustrat\", \"percent\": 0.037037037037037035}, {\"counts\": 3, \"emotion\": \"anger\", \"percent\": 0.037037037037037035}, {\"counts\": 2, \"emotion\": \"shout\", \"percent\": 0.024691358024691357}], \"data-cffe8507a8135f338481e3ae43701281\": [{\"Rank\": 0, \"emotion\": \"yelling\", \"borda score\": 0.83, \"Precision\": 0.12}, {\"Rank\": 1, \"emotion\": \"stern\", \"borda score\": 0.82, \"Precision\": 0.13}, {\"Rank\": 2, \"emotion\": \"intense\", \"borda score\": 0.8, \"Precision\": 0.13}, {\"Rank\": 3, \"emotion\": \"concerned\", \"borda score\": 0.76, \"Precision\": 0.16}, {\"Rank\": 4, \"emotion\": \"confused\", \"borda score\": 0.75, \"Precision\": 0.16}, {\"Rank\": 5, \"emotion\": \"serious\", \"borda score\": 0.75, \"Precision\": 0.16}, {\"Rank\": 6, \"emotion\": \"frustrated\", \"borda score\": 0.75, \"Precision\": 0.14}, {\"Rank\": 7, \"emotion\": \"passionate\", \"borda score\": 0.75, \"Precision\": 0.16}, {\"Rank\": 8, \"emotion\": \"pissed\", \"borda score\": 0.75, \"Precision\": 0.16}, {\"Rank\": 9, \"emotion\": \"annoyed\", \"borda score\": 0.7, \"Precision\": 0.18}, {\"Rank\": 10, \"emotion\": \"unpleasant\", \"borda score\": 0.7, \"Precision\": 0.18}, {\"Rank\": 11, \"emotion\": \"uncomfortable\", \"borda score\": 0.67, \"Precision\": 0.19}, {\"Rank\": 12, \"emotion\": \"unhappy\", \"borda score\": 0.67, \"Precision\": 0.17}, {\"Rank\": 13, \"emotion\": \"angry\", \"borda score\": 0.64, \"Precision\": 0.2}, {\"Rank\": 14, \"emotion\": \"crazy\", \"borda score\": 0.62, \"Precision\": 0.2}]}}, {\"mode\": \"vega-lite\"});\n",
       "</script>"
      ],
      "text/plain": [
       "alt.HConcatChart(...)"
      ]
     },
     "execution_count": 17,
     "metadata": {},
     "output_type": "execute_result"
    }
   ],
   "source": [
    "anger_bma_next_panel = (anger_bma_forced.properties(width=200) | anger_bma_free.properties(width=200) | anger_bma_next.properties(width=200))\n",
    "anger_bma_next_panel"
   ]
  },
  {
   "cell_type": "code",
   "execution_count": 18,
   "id": "a6eb07f4-7dc9-49df-b066-218fc7d33c44",
   "metadata": {},
   "outputs": [],
   "source": [
    "save(anger_bma_next_panel, \"../../emotions_dashboard/data/anger_bma_next_panel.png\")"
   ]
  },
  {
   "cell_type": "markdown",
   "id": "9719fcc4-6235-41b3-96d5-edf8ddcc5ae4",
   "metadata": {},
   "source": [
    "## Anger - White Female "
   ]
  },
  {
   "cell_type": "code",
   "execution_count": 19,
   "id": "9ae65273-8ce5-43f1-8c00-72823e7aef1f",
   "metadata": {},
   "outputs": [],
   "source": [
    "anger_wfa_forced = photo_chart(df_emo_answers_forced, 'anger',  12, df_forced_labels, emotion_st='anger', n_mentions=2, photo=True)\n",
    "anger_wfa_free = photo_chart(df_emo_answers_free, 'anger',  12, df_free_labels, emotion_st='angri', n_mentions=2)"
   ]
  },
  {
   "cell_type": "code",
   "execution_count": 20,
   "id": "2486139d-7d05-492e-8486-0f1815e7ac9a",
   "metadata": {},
   "outputs": [],
   "source": [
    "path = '../../emo-ranking-next/anger_white_female/borda_lilucb_ranking.csv'\n",
    "\n",
    "anger_wfa_next = next_chart_wrapper(path, emotion='angry', head=10)"
   ]
  },
  {
   "cell_type": "code",
   "execution_count": 21,
   "id": "4d469708-593f-40e8-85c6-6ba5ceee139c",
   "metadata": {},
   "outputs": [
    {
     "data": {
      "text/html": [
       "\n",
       "<div id=\"altair-viz-8667820631ca41649b327c15dd35ea12\"></div>\n",
       "<script type=\"text/javascript\">\n",
       "  (function(spec, embedOpt){\n",
       "    let outputDiv = document.currentScript.previousElementSibling;\n",
       "    if (outputDiv.id !== \"altair-viz-8667820631ca41649b327c15dd35ea12\") {\n",
       "      outputDiv = document.getElementById(\"altair-viz-8667820631ca41649b327c15dd35ea12\");\n",
       "    }\n",
       "    const paths = {\n",
       "      \"vega\": \"https://cdn.jsdelivr.net/npm//vega@5?noext\",\n",
       "      \"vega-lib\": \"https://cdn.jsdelivr.net/npm//vega-lib?noext\",\n",
       "      \"vega-lite\": \"https://cdn.jsdelivr.net/npm//vega-lite@4.8.1?noext\",\n",
       "      \"vega-embed\": \"https://cdn.jsdelivr.net/npm//vega-embed@6?noext\",\n",
       "    };\n",
       "\n",
       "    function loadScript(lib) {\n",
       "      return new Promise(function(resolve, reject) {\n",
       "        var s = document.createElement('script');\n",
       "        s.src = paths[lib];\n",
       "        s.async = true;\n",
       "        s.onload = () => resolve(paths[lib]);\n",
       "        s.onerror = () => reject(`Error loading script: ${paths[lib]}`);\n",
       "        document.getElementsByTagName(\"head\")[0].appendChild(s);\n",
       "      });\n",
       "    }\n",
       "\n",
       "    function showError(err) {\n",
       "      outputDiv.innerHTML = `<div class=\"error\" style=\"color:red;\">${err}</div>`;\n",
       "      throw err;\n",
       "    }\n",
       "\n",
       "    function displayChart(vegaEmbed) {\n",
       "      vegaEmbed(outputDiv, spec, embedOpt)\n",
       "        .catch(err => showError(`Javascript Error: ${err.message}<br>This usually means there's a typo in your chart specification. See the javascript console for the full traceback.`));\n",
       "    }\n",
       "\n",
       "    if(typeof define === \"function\" && define.amd) {\n",
       "      requirejs.config({paths});\n",
       "      require([\"vega-embed\"], displayChart, err => showError(`Error loading script: ${err.message}`));\n",
       "    } else if (typeof vegaEmbed === \"function\") {\n",
       "      displayChart(vegaEmbed);\n",
       "    } else {\n",
       "      loadScript(\"vega\")\n",
       "        .then(() => loadScript(\"vega-lite\"))\n",
       "        .then(() => loadScript(\"vega-embed\"))\n",
       "        .catch(showError)\n",
       "        .then(() => displayChart(vegaEmbed));\n",
       "    }\n",
       "  })({\"config\": {\"view\": {\"continuousWidth\": 400, \"continuousHeight\": 300}}, \"hconcat\": [{\"layer\": [{\"mark\": \"bar\", \"encoding\": {\"color\": {\"condition\": {\"value\": \"orange\", \"test\": \"(datum.emotion === 'anger')\"}, \"value\": \"#0570b0\"}, \"x\": {\"type\": \"quantitative\", \"axis\": {\"format\": \".0%\"}, \"field\": \"percent\"}, \"y\": {\"type\": \"nominal\", \"field\": \"emotion\", \"sort\": \"-x\"}}, \"title\": \"Categories with 2 or more mentions | n= 48\"}, {\"mark\": {\"type\": \"text\", \"align\": \"left\", \"baseline\": \"middle\", \"dx\": 3, \"fontSize\": 12}, \"encoding\": {\"color\": {\"condition\": {\"value\": \"orange\", \"test\": \"(datum.emotion === 'anger')\"}, \"value\": \"#0570b0\"}, \"text\": {\"type\": \"quantitative\", \"field\": \"percent\", \"format\": \".1%\"}, \"x\": {\"type\": \"quantitative\", \"axis\": {\"format\": \".0%\"}, \"field\": \"percent\"}, \"y\": {\"type\": \"nominal\", \"field\": \"emotion\", \"sort\": \"-x\"}}, \"title\": \"Categories with 2 or more mentions | n= 48\"}, {\"data\": {\"name\": \"data-8390ab7374ef847ecf75ab69cd82095f\"}, \"mark\": {\"type\": \"image\", \"align\": \"center\", \"height\": 150, \"width\": 150, \"xOffset\": -100, \"yOffset\": 220}, \"encoding\": {\"url\": {\"type\": \"nominal\", \"field\": \"url\"}}}], \"data\": {\"name\": \"data-e38793438cc6b593f907d92eb8aca068\"}, \"width\": 200}, {\"layer\": [{\"mark\": \"bar\", \"encoding\": {\"color\": {\"condition\": {\"value\": \"orange\", \"test\": \"(datum.emotion === 'angri')\"}, \"value\": \"#0570b0\"}, \"x\": {\"type\": \"quantitative\", \"axis\": {\"format\": \".0%\"}, \"field\": \"percent\"}, \"y\": {\"type\": \"nominal\", \"field\": \"emotion\", \"sort\": \"-x\"}}, \"title\": \"Categories with 2 or more mentions | n= 45\"}, {\"mark\": {\"type\": \"text\", \"align\": \"left\", \"baseline\": \"middle\", \"dx\": 3, \"fontSize\": 12}, \"encoding\": {\"color\": {\"condition\": {\"value\": \"orange\", \"test\": \"(datum.emotion === 'angri')\"}, \"value\": \"#0570b0\"}, \"text\": {\"type\": \"quantitative\", \"field\": \"percent\", \"format\": \".1%\"}, \"x\": {\"type\": \"quantitative\", \"axis\": {\"format\": \".0%\"}, \"field\": \"percent\"}, \"y\": {\"type\": \"nominal\", \"field\": \"emotion\", \"sort\": \"-x\"}}, \"title\": \"Categories with 2 or more mentions | n= 45\"}], \"data\": {\"name\": \"data-e53c68100110033e7fff26a0073caa14\"}, \"width\": 200}, {\"layer\": [{\"mark\": \"bar\", \"encoding\": {\"color\": {\"condition\": {\"value\": \"orange\", \"test\": \"(datum.emotion === 'angry')\"}, \"value\": \"#0570b0\"}, \"x\": {\"type\": \"quantitative\", \"axis\": {\"format\": \".0%\"}, \"field\": \"borda score\"}, \"y\": {\"type\": \"nominal\", \"field\": \"emotion\", \"sort\": \"-x\"}}, \"title\": \"Dueling bandits ranking | Top: 10\"}, {\"mark\": {\"type\": \"text\", \"align\": \"left\", \"baseline\": \"middle\", \"dx\": 3, \"fontSize\": 12}, \"encoding\": {\"color\": {\"condition\": {\"value\": \"orange\", \"test\": \"(datum.emotion === 'angry')\"}, \"value\": \"#0570b0\"}, \"text\": {\"type\": \"quantitative\", \"field\": \"borda score\"}, \"x\": {\"type\": \"quantitative\", \"axis\": {\"format\": \".0%\"}, \"field\": \"borda score\"}, \"y\": {\"type\": \"nominal\", \"field\": \"emotion\", \"sort\": \"-x\"}}, \"title\": \"Dueling bandits ranking | Top: 10\"}], \"data\": {\"name\": \"data-a3c09e5e982013fcf0692a60df970f65\"}, \"width\": 200}], \"$schema\": \"https://vega.github.io/schema/vega-lite/v4.8.1.json\", \"datasets\": {\"data-e38793438cc6b593f907d92eb8aca068\": [{\"counts\": 38, \"emotion\": \"anger\", \"percent\": 0.7450980392156863}, {\"counts\": 7, \"emotion\": \"disgust\", \"percent\": 0.13725490196078433}, {\"counts\": 3, \"emotion\": \"uncertain\", \"percent\": 0.058823529411764705}], \"data-8390ab7374ef847ecf75ab69cd82095f\": [{\"url\": \"https://uwmadison.co1.qualtrics.com/ControlPanel/Graphic.php?IM=IM_b1KYrTe9d0HebfU\"}], \"data-e53c68100110033e7fff26a0073caa14\": [{\"counts\": 25, \"emotion\": \"angri\", \"percent\": 0.3472222222222222}, {\"counts\": 6, \"emotion\": \"upset\", \"percent\": 0.08333333333333333}, {\"counts\": 5, \"emotion\": \"mad\", \"percent\": 0.06944444444444445}, {\"counts\": 3, \"emotion\": \"frustrat\", \"percent\": 0.041666666666666664}, {\"counts\": 2, \"emotion\": \"teeth\", \"percent\": 0.027777777777777776}, {\"counts\": 2, \"emotion\": \"piss\", \"percent\": 0.027777777777777776}, {\"counts\": 2, \"emotion\": \"frustur\", \"percent\": 0.027777777777777776}], \"data-a3c09e5e982013fcf0692a60df970f65\": [{\"Rank\": 0, \"emotion\": \"pissed\", \"borda score\": 0.92, \"Precision\": 0.11}, {\"Rank\": 1, \"emotion\": \"frusturated\", \"borda score\": 0.88, \"Precision\": 0.12}, {\"Rank\": 2, \"emotion\": \"displeased\", \"borda score\": 0.86, \"Precision\": 0.13}, {\"Rank\": 3, \"emotion\": \"angry\", \"borda score\": 0.82, \"Precision\": 0.13}, {\"Rank\": 4, \"emotion\": \"upset\", \"borda score\": 0.81, \"Precision\": 0.15}, {\"Rank\": 5, \"emotion\": \"intense\", \"borda score\": 0.81, \"Precision\": 0.15}, {\"Rank\": 6, \"emotion\": \"mad\", \"borda score\": 0.81, \"Precision\": 0.15}, {\"Rank\": 7, \"emotion\": \"unhappy\", \"borda score\": 0.76, \"Precision\": 0.17}, {\"Rank\": 8, \"emotion\": \"disgusted\", \"borda score\": 0.75, \"Precision\": 0.18}, {\"Rank\": 9, \"emotion\": \"frustrated\", \"borda score\": 0.71, \"Precision\": 0.16}]}}, {\"mode\": \"vega-lite\"});\n",
       "</script>"
      ],
      "text/plain": [
       "alt.HConcatChart(...)"
      ]
     },
     "execution_count": 21,
     "metadata": {},
     "output_type": "execute_result"
    }
   ],
   "source": [
    "anger_wfa_next_panel = (anger_wfa_forced.properties(width=200) | anger_wfa_free.properties(width=200) | anger_wfa_next.properties(width=200))\n",
    "anger_wfa_next_panel"
   ]
  },
  {
   "cell_type": "code",
   "execution_count": 22,
   "id": "63ee1e5f-481c-40a9-9b39-c55d1d2e34cd",
   "metadata": {},
   "outputs": [],
   "source": [
    "save(anger_wfa_next_panel, \"../../emotions_dashboard/data/anger_wfa_next_panel.png\")"
   ]
  },
  {
   "cell_type": "markdown",
   "id": "b82c12cf-71c2-487a-adf4-8a5f66586401",
   "metadata": {},
   "source": [
    "## Anger - White male"
   ]
  },
  {
   "cell_type": "code",
   "execution_count": 23,
   "id": "75a8d340-dc10-4020-8b92-e603174a94d8",
   "metadata": {},
   "outputs": [],
   "source": [
    "anger_wma_forced = photo_chart(df_emo_answers_forced, 'anger',  6, df_forced_labels, emotion_st='anger', n_mentions=2, photo=True, yoffset=230)\n",
    "anger_wma_free = photo_chart(df_emo_answers_free, 'anger',  6, df_free_labels, emotion_st='angri', n_mentions=2)"
   ]
  },
  {
   "cell_type": "code",
   "execution_count": 24,
   "id": "29111d8a-8e3a-4122-ac67-d98020fdd2f9",
   "metadata": {},
   "outputs": [],
   "source": [
    "path = '../../emo-ranking-next/anger_white_male/borda_lilucb_ranking.csv'\n",
    "\n",
    "anger_wma_next = next_chart_wrapper(path, emotion='angry', head=30)"
   ]
  },
  {
   "cell_type": "code",
   "execution_count": 25,
   "id": "54a352dc-982e-4f8a-9ae8-ab483eeea146",
   "metadata": {},
   "outputs": [
    {
     "data": {
      "text/html": [
       "\n",
       "<div id=\"altair-viz-8c8a3ea9344e46b7b55136d3ee90e9a6\"></div>\n",
       "<script type=\"text/javascript\">\n",
       "  (function(spec, embedOpt){\n",
       "    let outputDiv = document.currentScript.previousElementSibling;\n",
       "    if (outputDiv.id !== \"altair-viz-8c8a3ea9344e46b7b55136d3ee90e9a6\") {\n",
       "      outputDiv = document.getElementById(\"altair-viz-8c8a3ea9344e46b7b55136d3ee90e9a6\");\n",
       "    }\n",
       "    const paths = {\n",
       "      \"vega\": \"https://cdn.jsdelivr.net/npm//vega@5?noext\",\n",
       "      \"vega-lib\": \"https://cdn.jsdelivr.net/npm//vega-lib?noext\",\n",
       "      \"vega-lite\": \"https://cdn.jsdelivr.net/npm//vega-lite@4.8.1?noext\",\n",
       "      \"vega-embed\": \"https://cdn.jsdelivr.net/npm//vega-embed@6?noext\",\n",
       "    };\n",
       "\n",
       "    function loadScript(lib) {\n",
       "      return new Promise(function(resolve, reject) {\n",
       "        var s = document.createElement('script');\n",
       "        s.src = paths[lib];\n",
       "        s.async = true;\n",
       "        s.onload = () => resolve(paths[lib]);\n",
       "        s.onerror = () => reject(`Error loading script: ${paths[lib]}`);\n",
       "        document.getElementsByTagName(\"head\")[0].appendChild(s);\n",
       "      });\n",
       "    }\n",
       "\n",
       "    function showError(err) {\n",
       "      outputDiv.innerHTML = `<div class=\"error\" style=\"color:red;\">${err}</div>`;\n",
       "      throw err;\n",
       "    }\n",
       "\n",
       "    function displayChart(vegaEmbed) {\n",
       "      vegaEmbed(outputDiv, spec, embedOpt)\n",
       "        .catch(err => showError(`Javascript Error: ${err.message}<br>This usually means there's a typo in your chart specification. See the javascript console for the full traceback.`));\n",
       "    }\n",
       "\n",
       "    if(typeof define === \"function\" && define.amd) {\n",
       "      requirejs.config({paths});\n",
       "      require([\"vega-embed\"], displayChart, err => showError(`Error loading script: ${err.message}`));\n",
       "    } else if (typeof vegaEmbed === \"function\") {\n",
       "      displayChart(vegaEmbed);\n",
       "    } else {\n",
       "      loadScript(\"vega\")\n",
       "        .then(() => loadScript(\"vega-lite\"))\n",
       "        .then(() => loadScript(\"vega-embed\"))\n",
       "        .catch(showError)\n",
       "        .then(() => displayChart(vegaEmbed));\n",
       "    }\n",
       "  })({\"config\": {\"view\": {\"continuousWidth\": 400, \"continuousHeight\": 300}}, \"hconcat\": [{\"layer\": [{\"mark\": \"bar\", \"encoding\": {\"color\": {\"condition\": {\"value\": \"orange\", \"test\": \"(datum.emotion === 'anger')\"}, \"value\": \"#0570b0\"}, \"x\": {\"type\": \"quantitative\", \"axis\": {\"format\": \".0%\"}, \"field\": \"percent\"}, \"y\": {\"type\": \"nominal\", \"field\": \"emotion\", \"sort\": \"-x\"}}, \"title\": \"Categories with 2 or more mentions | n= 48\"}, {\"mark\": {\"type\": \"text\", \"align\": \"left\", \"baseline\": \"middle\", \"dx\": 3, \"fontSize\": 12}, \"encoding\": {\"color\": {\"condition\": {\"value\": \"orange\", \"test\": \"(datum.emotion === 'anger')\"}, \"value\": \"#0570b0\"}, \"text\": {\"type\": \"quantitative\", \"field\": \"percent\", \"format\": \".1%\"}, \"x\": {\"type\": \"quantitative\", \"axis\": {\"format\": \".0%\"}, \"field\": \"percent\"}, \"y\": {\"type\": \"nominal\", \"field\": \"emotion\", \"sort\": \"-x\"}}, \"title\": \"Categories with 2 or more mentions | n= 48\"}, {\"data\": {\"name\": \"data-362ba215a055845cb6b0505d31f91a2f\"}, \"mark\": {\"type\": \"image\", \"align\": \"center\", \"height\": 150, \"width\": 150, \"xOffset\": -100, \"yOffset\": 230}, \"encoding\": {\"url\": {\"type\": \"nominal\", \"field\": \"url\"}}}], \"data\": {\"name\": \"data-e92d97e77579774f64da3f8979cf74a0\"}, \"width\": 200}, {\"layer\": [{\"mark\": \"bar\", \"encoding\": {\"color\": {\"condition\": {\"value\": \"orange\", \"test\": \"(datum.emotion === 'angri')\"}, \"value\": \"#0570b0\"}, \"x\": {\"type\": \"quantitative\", \"axis\": {\"format\": \".0%\"}, \"field\": \"percent\"}, \"y\": {\"type\": \"nominal\", \"field\": \"emotion\", \"sort\": \"-x\"}}, \"title\": \"Categories with 2 or more mentions | n= 55\"}, {\"mark\": {\"type\": \"text\", \"align\": \"left\", \"baseline\": \"middle\", \"dx\": 3, \"fontSize\": 12}, \"encoding\": {\"color\": {\"condition\": {\"value\": \"orange\", \"test\": \"(datum.emotion === 'angri')\"}, \"value\": \"#0570b0\"}, \"text\": {\"type\": \"quantitative\", \"field\": \"percent\", \"format\": \".1%\"}, \"x\": {\"type\": \"quantitative\", \"axis\": {\"format\": \".0%\"}, \"field\": \"percent\"}, \"y\": {\"type\": \"nominal\", \"field\": \"emotion\", \"sort\": \"-x\"}}, \"title\": \"Categories with 2 or more mentions | n= 55\"}], \"data\": {\"name\": \"data-607eaea9960d3693a1ccb158f2ddd6b3\"}, \"width\": 200}, {\"layer\": [{\"mark\": \"bar\", \"encoding\": {\"color\": {\"condition\": {\"value\": \"orange\", \"test\": \"(datum.emotion === 'angry')\"}, \"value\": \"#0570b0\"}, \"x\": {\"type\": \"quantitative\", \"axis\": {\"format\": \".0%\"}, \"field\": \"borda score\"}, \"y\": {\"type\": \"nominal\", \"field\": \"emotion\", \"sort\": \"-x\"}}, \"title\": \"Dueling bandits ranking | Top: 30\"}, {\"mark\": {\"type\": \"text\", \"align\": \"left\", \"baseline\": \"middle\", \"dx\": 3, \"fontSize\": 12}, \"encoding\": {\"color\": {\"condition\": {\"value\": \"orange\", \"test\": \"(datum.emotion === 'angry')\"}, \"value\": \"#0570b0\"}, \"text\": {\"type\": \"quantitative\", \"field\": \"borda score\"}, \"x\": {\"type\": \"quantitative\", \"axis\": {\"format\": \".0%\"}, \"field\": \"borda score\"}, \"y\": {\"type\": \"nominal\", \"field\": \"emotion\", \"sort\": \"-x\"}}, \"title\": \"Dueling bandits ranking | Top: 30\"}], \"data\": {\"name\": \"data-55a192df898dc3f40e227266858ad4d2\"}, \"width\": 200}], \"$schema\": \"https://vega.github.io/schema/vega-lite/v4.8.1.json\", \"datasets\": {\"data-e92d97e77579774f64da3f8979cf74a0\": [{\"counts\": 17, \"emotion\": \"anger\", \"percent\": 0.3333333333333333}, {\"counts\": 13, \"emotion\": \"neutral\", \"percent\": 0.2549019607843137}, {\"counts\": 7, \"emotion\": \"uncertain\", \"percent\": 0.13725490196078433}, {\"counts\": 6, \"emotion\": \"other\", \"percent\": 0.11764705882352941}, {\"counts\": 5, \"emotion\": \"disgust\", \"percent\": 0.09803921568627451}], \"data-362ba215a055845cb6b0505d31f91a2f\": [{\"url\": \"https://uwmadison.co1.qualtrics.com/ControlPanel/Graphic.php?IM=IM_7PC2cgcyr5yUiOy\"}], \"data-607eaea9960d3693a1ccb158f2ddd6b3\": [{\"counts\": 12, \"emotion\": \"angri\", \"percent\": 0.14285714285714285}, {\"counts\": 10, \"emotion\": \"confus\", \"percent\": 0.11904761904761904}, {\"counts\": 9, \"emotion\": \"mad\", \"percent\": 0.10714285714285714}, {\"counts\": 6, \"emotion\": \"seriou\", \"percent\": 0.07142857142857142}, {\"counts\": 4, \"emotion\": \"focus\", \"percent\": 0.047619047619047616}, {\"counts\": 2, \"emotion\": \"disappoint\", \"percent\": 0.023809523809523808}, {\"counts\": 2, \"emotion\": \"annoy\", \"percent\": 0.023809523809523808}, {\"counts\": 2, \"emotion\": \"intens\", \"percent\": 0.023809523809523808}, {\"counts\": 2, \"emotion\": \"calm\", \"percent\": 0.023809523809523808}, {\"counts\": 2, \"emotion\": \"upset\", \"percent\": 0.023809523809523808}, {\"counts\": 2, \"emotion\": \"frustrat\", \"percent\": 0.023809523809523808}, {\"counts\": 2, \"emotion\": \"interest\", \"percent\": 0.023809523809523808}], \"data-55a192df898dc3f40e227266858ad4d2\": [{\"Rank\": 0, \"emotion\": \"stern\", \"borda score\": 0.95, \"Precision\": 0.09}, {\"Rank\": 1, \"emotion\": \"serious\", \"borda score\": 0.89, \"Precision\": 0.12}, {\"Rank\": 2, \"emotion\": \"concerned\", \"borda score\": 0.89, \"Precision\": 0.12}, {\"Rank\": 3, \"emotion\": \"disappointed\", \"borda score\": 0.85, \"Precision\": 0.13}, {\"Rank\": 4, \"emotion\": \"displeased\", \"borda score\": 0.78, \"Precision\": 0.16}, {\"Rank\": 5, \"emotion\": \"unpleasant\", \"borda score\": 0.77, \"Precision\": 0.15}, {\"Rank\": 6, \"emotion\": \"frustrated\", \"borda score\": 0.76, \"Precision\": 0.17}, {\"Rank\": 7, \"emotion\": \"uncomfortable\", \"borda score\": 0.74, \"Precision\": 0.17}, {\"Rank\": 8, \"emotion\": \"worried\", \"borda score\": 0.7, \"Precision\": 0.19}, {\"Rank\": 9, \"emotion\": \"stare\", \"borda score\": 0.7, \"Precision\": 0.19}, {\"Rank\": 10, \"emotion\": \"confusion\", \"borda score\": 0.7, \"Precision\": 0.19}, {\"Rank\": 11, \"emotion\": \"frusturated\", \"borda score\": 0.7, \"Precision\": 0.19}, {\"Rank\": 12, \"emotion\": \"furious\", \"borda score\": 0.68, \"Precision\": 0.2}, {\"Rank\": 13, \"emotion\": \"upset\", \"borda score\": 0.65, \"Precision\": 0.21}, {\"Rank\": 14, \"emotion\": \"bad\", \"borda score\": 0.65, \"Precision\": 0.21}, {\"Rank\": 15, \"emotion\": \"disgusted\", \"borda score\": 0.65, \"Precision\": 0.22}, {\"Rank\": 16, \"emotion\": \"dislike\", \"borda score\": 0.63, \"Precision\": 0.23}, {\"Rank\": 17, \"emotion\": \"annoyed\", \"borda score\": 0.61, \"Precision\": 0.24}, {\"Rank\": 18, \"emotion\": \"sad\", \"borda score\": 0.59, \"Precision\": 0.24}, {\"Rank\": 19, \"emotion\": \"focused\", \"borda score\": 0.58, \"Precision\": 0.23}, {\"Rank\": 20, \"emotion\": \"confused\", \"borda score\": 0.53, \"Precision\": 0.18}, {\"Rank\": 21, \"emotion\": \"unhappy\", \"borda score\": 0.5, \"Precision\": 0.29}, {\"Rank\": 22, \"emotion\": \"grumpy\", \"borda score\": 0.5, \"Precision\": 0.27}, {\"Rank\": 23, \"emotion\": \"mad\", \"borda score\": 0.5, \"Precision\": 0.27}, {\"Rank\": 24, \"emotion\": \"content\", \"borda score\": 0.46, \"Precision\": 0.28}, {\"Rank\": 25, \"emotion\": \"angry\", \"borda score\": 0.45, \"Precision\": 0.3}, {\"Rank\": 26, \"emotion\": \"boring\", \"borda score\": 0.44, \"Precision\": 0.24}, {\"Rank\": 27, \"emotion\": \"pissed\", \"borda score\": 0.44, \"Precision\": 0.33}, {\"Rank\": 28, \"emotion\": \"passionate\", \"borda score\": 0.38, \"Precision\": 0.35}, {\"Rank\": 29, \"emotion\": \"shocked\", \"borda score\": 0.38, \"Precision\": 0.35}]}}, {\"mode\": \"vega-lite\"});\n",
       "</script>"
      ],
      "text/plain": [
       "alt.HConcatChart(...)"
      ]
     },
     "execution_count": 25,
     "metadata": {},
     "output_type": "execute_result"
    }
   ],
   "source": [
    "anger_wma_next_panel = (anger_wma_forced.properties(width=200) | anger_wma_free.properties(width=200) | anger_wma_next.properties(width=200))\n",
    "anger_wma_next_panel"
   ]
  },
  {
   "cell_type": "code",
   "execution_count": 26,
   "id": "2e5df4bc-a5cb-46f3-aa85-8861b78a3d04",
   "metadata": {},
   "outputs": [],
   "source": [
    "save(anger_wma_next_panel, \"../../emotions_dashboard/data/anger_wma_next_panel.png\")"
   ]
  },
  {
   "cell_type": "markdown",
   "id": "83be7c6f-6796-4578-b4a7-ba6b5ef246a3",
   "metadata": {},
   "source": [
    "## Disgust - Female of color"
   ]
  },
  {
   "cell_type": "code",
   "execution_count": 27,
   "id": "3bea8153-2484-4287-b528-b67f0234951d",
   "metadata": {},
   "outputs": [],
   "source": [
    "disgust_bfa_forced = photo_chart(df_emo_answers_forced, 'disgust',  0, df_forced_labels, emotion_st='disgust', n_mentions=2, photo=True, yoffset=230)\n",
    "disgust_bfa_free = photo_chart(df_emo_answers_free, 'disgust',  0, df_free_labels, emotion_st='disgust', n_mentions=2)"
   ]
  },
  {
   "cell_type": "code",
   "execution_count": 28,
   "id": "4dea4e4f-d47c-4fff-91ad-eac03499ceac",
   "metadata": {},
   "outputs": [],
   "source": [
    "path = '../../emo-ranking-next/disgust_bipoc_female/borda_lilucb_ranking.csv'\n",
    "\n",
    "disgust_bfa_next = next_chart_wrapper(path, emotion='disgusted', head=10)"
   ]
  },
  {
   "cell_type": "code",
   "execution_count": 29,
   "id": "6f57cef3-7273-4cb1-bbc4-a0f77b1e7713",
   "metadata": {},
   "outputs": [
    {
     "data": {
      "text/html": [
       "\n",
       "<div id=\"altair-viz-3516d937bfda420aabb0f2ce359cd470\"></div>\n",
       "<script type=\"text/javascript\">\n",
       "  (function(spec, embedOpt){\n",
       "    let outputDiv = document.currentScript.previousElementSibling;\n",
       "    if (outputDiv.id !== \"altair-viz-3516d937bfda420aabb0f2ce359cd470\") {\n",
       "      outputDiv = document.getElementById(\"altair-viz-3516d937bfda420aabb0f2ce359cd470\");\n",
       "    }\n",
       "    const paths = {\n",
       "      \"vega\": \"https://cdn.jsdelivr.net/npm//vega@5?noext\",\n",
       "      \"vega-lib\": \"https://cdn.jsdelivr.net/npm//vega-lib?noext\",\n",
       "      \"vega-lite\": \"https://cdn.jsdelivr.net/npm//vega-lite@4.8.1?noext\",\n",
       "      \"vega-embed\": \"https://cdn.jsdelivr.net/npm//vega-embed@6?noext\",\n",
       "    };\n",
       "\n",
       "    function loadScript(lib) {\n",
       "      return new Promise(function(resolve, reject) {\n",
       "        var s = document.createElement('script');\n",
       "        s.src = paths[lib];\n",
       "        s.async = true;\n",
       "        s.onload = () => resolve(paths[lib]);\n",
       "        s.onerror = () => reject(`Error loading script: ${paths[lib]}`);\n",
       "        document.getElementsByTagName(\"head\")[0].appendChild(s);\n",
       "      });\n",
       "    }\n",
       "\n",
       "    function showError(err) {\n",
       "      outputDiv.innerHTML = `<div class=\"error\" style=\"color:red;\">${err}</div>`;\n",
       "      throw err;\n",
       "    }\n",
       "\n",
       "    function displayChart(vegaEmbed) {\n",
       "      vegaEmbed(outputDiv, spec, embedOpt)\n",
       "        .catch(err => showError(`Javascript Error: ${err.message}<br>This usually means there's a typo in your chart specification. See the javascript console for the full traceback.`));\n",
       "    }\n",
       "\n",
       "    if(typeof define === \"function\" && define.amd) {\n",
       "      requirejs.config({paths});\n",
       "      require([\"vega-embed\"], displayChart, err => showError(`Error loading script: ${err.message}`));\n",
       "    } else if (typeof vegaEmbed === \"function\") {\n",
       "      displayChart(vegaEmbed);\n",
       "    } else {\n",
       "      loadScript(\"vega\")\n",
       "        .then(() => loadScript(\"vega-lite\"))\n",
       "        .then(() => loadScript(\"vega-embed\"))\n",
       "        .catch(showError)\n",
       "        .then(() => displayChart(vegaEmbed));\n",
       "    }\n",
       "  })({\"config\": {\"view\": {\"continuousWidth\": 400, \"continuousHeight\": 300}}, \"hconcat\": [{\"layer\": [{\"mark\": \"bar\", \"encoding\": {\"color\": {\"condition\": {\"value\": \"orange\", \"test\": \"(datum.emotion === 'disgust')\"}, \"value\": \"#0570b0\"}, \"x\": {\"type\": \"quantitative\", \"axis\": {\"format\": \".0%\"}, \"field\": \"percent\"}, \"y\": {\"type\": \"nominal\", \"field\": \"emotion\", \"sort\": \"-x\"}}, \"title\": \"Categories with 2 or more mentions | n= 51\"}, {\"mark\": {\"type\": \"text\", \"align\": \"left\", \"baseline\": \"middle\", \"dx\": 3, \"fontSize\": 12}, \"encoding\": {\"color\": {\"condition\": {\"value\": \"orange\", \"test\": \"(datum.emotion === 'disgust')\"}, \"value\": \"#0570b0\"}, \"text\": {\"type\": \"quantitative\", \"field\": \"percent\", \"format\": \".1%\"}, \"x\": {\"type\": \"quantitative\", \"axis\": {\"format\": \".0%\"}, \"field\": \"percent\"}, \"y\": {\"type\": \"nominal\", \"field\": \"emotion\", \"sort\": \"-x\"}}, \"title\": \"Categories with 2 or more mentions | n= 51\"}, {\"data\": {\"name\": \"data-f7a6f6e08699cd8173b565f07474386f\"}, \"mark\": {\"type\": \"image\", \"align\": \"center\", \"height\": 150, \"width\": 150, \"xOffset\": -100, \"yOffset\": 230}, \"encoding\": {\"url\": {\"type\": \"nominal\", \"field\": \"url\"}}}], \"data\": {\"name\": \"data-df381d4a84907b5fd42f71661f16f2cd\"}, \"width\": 200}, {\"layer\": [{\"mark\": \"bar\", \"encoding\": {\"color\": {\"condition\": {\"value\": \"orange\", \"test\": \"(datum.emotion === 'disgust')\"}, \"value\": \"#0570b0\"}, \"x\": {\"type\": \"quantitative\", \"axis\": {\"format\": \".0%\"}, \"field\": \"percent\"}, \"y\": {\"type\": \"nominal\", \"field\": \"emotion\", \"sort\": \"-x\"}}, \"title\": \"Categories with 2 or more mentions | n= 52\"}, {\"mark\": {\"type\": \"text\", \"align\": \"left\", \"baseline\": \"middle\", \"dx\": 3, \"fontSize\": 12}, \"encoding\": {\"color\": {\"condition\": {\"value\": \"orange\", \"test\": \"(datum.emotion === 'disgust')\"}, \"value\": \"#0570b0\"}, \"text\": {\"type\": \"quantitative\", \"field\": \"percent\", \"format\": \".1%\"}, \"x\": {\"type\": \"quantitative\", \"axis\": {\"format\": \".0%\"}, \"field\": \"percent\"}, \"y\": {\"type\": \"nominal\", \"field\": \"emotion\", \"sort\": \"-x\"}}, \"title\": \"Categories with 2 or more mentions | n= 52\"}], \"data\": {\"name\": \"data-6a70080854973fbfb0e950df870ce52b\"}, \"width\": 200}, {\"layer\": [{\"mark\": \"bar\", \"encoding\": {\"color\": {\"condition\": {\"value\": \"orange\", \"test\": \"(datum.emotion === 'disgusted')\"}, \"value\": \"#0570b0\"}, \"x\": {\"type\": \"quantitative\", \"axis\": {\"format\": \".0%\"}, \"field\": \"borda score\"}, \"y\": {\"type\": \"nominal\", \"field\": \"emotion\", \"sort\": \"-x\"}}, \"title\": \"Dueling bandits ranking | Top: 10\"}, {\"mark\": {\"type\": \"text\", \"align\": \"left\", \"baseline\": \"middle\", \"dx\": 3, \"fontSize\": 12}, \"encoding\": {\"color\": {\"condition\": {\"value\": \"orange\", \"test\": \"(datum.emotion === 'disgusted')\"}, \"value\": \"#0570b0\"}, \"text\": {\"type\": \"quantitative\", \"field\": \"borda score\"}, \"x\": {\"type\": \"quantitative\", \"axis\": {\"format\": \".0%\"}, \"field\": \"borda score\"}, \"y\": {\"type\": \"nominal\", \"field\": \"emotion\", \"sort\": \"-x\"}}, \"title\": \"Dueling bandits ranking | Top: 10\"}], \"data\": {\"name\": \"data-77c287d17ee44bcb0e7bd8a1c67982da\"}, \"width\": 200}], \"$schema\": \"https://vega.github.io/schema/vega-lite/v4.8.1.json\", \"datasets\": {\"data-df381d4a84907b5fd42f71661f16f2cd\": [{\"counts\": 24, \"emotion\": \"disgust\", \"percent\": 0.47058823529411764}, {\"counts\": 11, \"emotion\": \"other\", \"percent\": 0.21568627450980393}, {\"counts\": 11, \"emotion\": \"uncertain\", \"percent\": 0.21568627450980393}, {\"counts\": 3, \"emotion\": \"surpris\", \"percent\": 0.058823529411764705}, {\"counts\": 2, \"emotion\": \"sad\", \"percent\": 0.0392156862745098}], \"data-f7a6f6e08699cd8173b565f07474386f\": [{\"url\": \"https://uwmadison.co1.qualtrics.com/ControlPanel/Graphic.php?IM=IM_cvFjQlP07m9S7VY\"}], \"data-6a70080854973fbfb0e950df870ce52b\": [{\"counts\": 30, \"emotion\": \"confus\", \"percent\": 0.38961038961038963}, {\"counts\": 4, \"emotion\": \"shock\", \"percent\": 0.05194805194805195}, {\"counts\": 3, \"emotion\": \"annoy\", \"percent\": 0.03896103896103896}, {\"counts\": 3, \"emotion\": \"disgust\", \"percent\": 0.03896103896103896}, {\"counts\": 3, \"emotion\": \"surpris\", \"percent\": 0.03896103896103896}, {\"counts\": 3, \"emotion\": \"question\", \"percent\": 0.03896103896103896}, {\"counts\": 2, \"emotion\": \"curiou\", \"percent\": 0.025974025974025976}, {\"counts\": 2, \"emotion\": \"interest\", \"percent\": 0.025974025974025976}, {\"counts\": 2, \"emotion\": \"lost\", \"percent\": 0.025974025974025976}], \"data-77c287d17ee44bcb0e7bd8a1c67982da\": [{\"Rank\": 0, \"emotion\": \"sour\", \"borda score\": 0.81, \"Precision\": 0.12}, {\"Rank\": 1, \"emotion\": \"disappointed\", \"borda score\": 0.81, \"Precision\": 0.12}, {\"Rank\": 2, \"emotion\": \"disgusted\", \"borda score\": 0.81, \"Precision\": 0.13}, {\"Rank\": 3, \"emotion\": \"boring\", \"borda score\": 0.78, \"Precision\": 0.14}, {\"Rank\": 4, \"emotion\": \"displeased\", \"borda score\": 0.78, \"Precision\": 0.14}, {\"Rank\": 5, \"emotion\": \"questioning\", \"borda score\": 0.77, \"Precision\": 0.14}, {\"Rank\": 6, \"emotion\": \"upset\", \"borda score\": 0.73, \"Precision\": 0.16}, {\"Rank\": 7, \"emotion\": \"confused\", \"borda score\": 0.7, \"Precision\": 0.17}, {\"Rank\": 8, \"emotion\": \"dislike\", \"borda score\": 0.69, \"Precision\": 0.19}, {\"Rank\": 9, \"emotion\": \"concerned\", \"borda score\": 0.67, \"Precision\": 0.17}]}}, {\"mode\": \"vega-lite\"});\n",
       "</script>"
      ],
      "text/plain": [
       "alt.HConcatChart(...)"
      ]
     },
     "execution_count": 29,
     "metadata": {},
     "output_type": "execute_result"
    }
   ],
   "source": [
    "disgust_bfa_next_panel = (disgust_bfa_forced.properties(width=200) | disgust_bfa_free.properties(width=200) | disgust_bfa_next.properties(width=200))\n",
    "disgust_bfa_next_panel"
   ]
  },
  {
   "cell_type": "code",
   "execution_count": 30,
   "id": "9d178c2a-6919-403f-a3f4-08c50ba68912",
   "metadata": {},
   "outputs": [],
   "source": [
    "save(disgust_bfa_next_panel, \"../../emotions_dashboard/data/disgust_bfa_next_panel.png\")"
   ]
  },
  {
   "cell_type": "markdown",
   "id": "6256795d-79a9-45a0-93de-b6699d2557f7",
   "metadata": {},
   "source": [
    "## Disgust - Male of color"
   ]
  },
  {
   "cell_type": "code",
   "execution_count": 31,
   "id": "e8f25aab-1326-4042-ae6a-567772008c60",
   "metadata": {},
   "outputs": [],
   "source": [
    "disgust_bma_forced = photo_chart(df_emo_answers_forced, 'disgust',  2, df_forced_labels, emotion_st='disgust', n_mentions=2, photo=True)\n",
    "disgust_bma_free = photo_chart(df_emo_answers_free, 'disgust',  2, df_free_labels, emotion_st='disgust', n_mentions=2)"
   ]
  },
  {
   "cell_type": "code",
   "execution_count": 32,
   "id": "39b8c824-4876-43ae-bdac-619a49b0b065",
   "metadata": {},
   "outputs": [],
   "source": [
    "path = '../../emo-ranking-next/disgust_bipoc_male/borda_lilucb_ranking.csv'\n",
    "\n",
    "disgust_bma_next = next_chart_wrapper(path, emotion='disgusted', head=10)"
   ]
  },
  {
   "cell_type": "code",
   "execution_count": 33,
   "id": "0ab9e47c-0a93-4c01-b6c2-137f7bdc9590",
   "metadata": {},
   "outputs": [
    {
     "data": {
      "text/html": [
       "\n",
       "<div id=\"altair-viz-a5486841c475479ca05c25617114756e\"></div>\n",
       "<script type=\"text/javascript\">\n",
       "  (function(spec, embedOpt){\n",
       "    let outputDiv = document.currentScript.previousElementSibling;\n",
       "    if (outputDiv.id !== \"altair-viz-a5486841c475479ca05c25617114756e\") {\n",
       "      outputDiv = document.getElementById(\"altair-viz-a5486841c475479ca05c25617114756e\");\n",
       "    }\n",
       "    const paths = {\n",
       "      \"vega\": \"https://cdn.jsdelivr.net/npm//vega@5?noext\",\n",
       "      \"vega-lib\": \"https://cdn.jsdelivr.net/npm//vega-lib?noext\",\n",
       "      \"vega-lite\": \"https://cdn.jsdelivr.net/npm//vega-lite@4.8.1?noext\",\n",
       "      \"vega-embed\": \"https://cdn.jsdelivr.net/npm//vega-embed@6?noext\",\n",
       "    };\n",
       "\n",
       "    function loadScript(lib) {\n",
       "      return new Promise(function(resolve, reject) {\n",
       "        var s = document.createElement('script');\n",
       "        s.src = paths[lib];\n",
       "        s.async = true;\n",
       "        s.onload = () => resolve(paths[lib]);\n",
       "        s.onerror = () => reject(`Error loading script: ${paths[lib]}`);\n",
       "        document.getElementsByTagName(\"head\")[0].appendChild(s);\n",
       "      });\n",
       "    }\n",
       "\n",
       "    function showError(err) {\n",
       "      outputDiv.innerHTML = `<div class=\"error\" style=\"color:red;\">${err}</div>`;\n",
       "      throw err;\n",
       "    }\n",
       "\n",
       "    function displayChart(vegaEmbed) {\n",
       "      vegaEmbed(outputDiv, spec, embedOpt)\n",
       "        .catch(err => showError(`Javascript Error: ${err.message}<br>This usually means there's a typo in your chart specification. See the javascript console for the full traceback.`));\n",
       "    }\n",
       "\n",
       "    if(typeof define === \"function\" && define.amd) {\n",
       "      requirejs.config({paths});\n",
       "      require([\"vega-embed\"], displayChart, err => showError(`Error loading script: ${err.message}`));\n",
       "    } else if (typeof vegaEmbed === \"function\") {\n",
       "      displayChart(vegaEmbed);\n",
       "    } else {\n",
       "      loadScript(\"vega\")\n",
       "        .then(() => loadScript(\"vega-lite\"))\n",
       "        .then(() => loadScript(\"vega-embed\"))\n",
       "        .catch(showError)\n",
       "        .then(() => displayChart(vegaEmbed));\n",
       "    }\n",
       "  })({\"config\": {\"view\": {\"continuousWidth\": 400, \"continuousHeight\": 300}}, \"hconcat\": [{\"layer\": [{\"mark\": \"bar\", \"encoding\": {\"color\": {\"condition\": {\"value\": \"orange\", \"test\": \"(datum.emotion === 'disgust')\"}, \"value\": \"#0570b0\"}, \"x\": {\"type\": \"quantitative\", \"axis\": {\"format\": \".0%\"}, \"field\": \"percent\"}, \"y\": {\"type\": \"nominal\", \"field\": \"emotion\", \"sort\": \"-x\"}}, \"title\": \"Categories with 2 or more mentions | n= 48\"}, {\"mark\": {\"type\": \"text\", \"align\": \"left\", \"baseline\": \"middle\", \"dx\": 3, \"fontSize\": 12}, \"encoding\": {\"color\": {\"condition\": {\"value\": \"orange\", \"test\": \"(datum.emotion === 'disgust')\"}, \"value\": \"#0570b0\"}, \"text\": {\"type\": \"quantitative\", \"field\": \"percent\", \"format\": \".1%\"}, \"x\": {\"type\": \"quantitative\", \"axis\": {\"format\": \".0%\"}, \"field\": \"percent\"}, \"y\": {\"type\": \"nominal\", \"field\": \"emotion\", \"sort\": \"-x\"}}, \"title\": \"Categories with 2 or more mentions | n= 48\"}, {\"data\": {\"name\": \"data-eace73718200b64ae9bedde17c60850e\"}, \"mark\": {\"type\": \"image\", \"align\": \"center\", \"height\": 150, \"width\": 150, \"xOffset\": -100, \"yOffset\": 220}, \"encoding\": {\"url\": {\"type\": \"nominal\", \"field\": \"url\"}}}], \"data\": {\"name\": \"data-b6d8fe4e9e841a0abfa6b9f3574ce362\"}, \"width\": 200}, {\"layer\": [{\"mark\": \"bar\", \"encoding\": {\"color\": {\"condition\": {\"value\": \"orange\", \"test\": \"(datum.emotion === 'disgust')\"}, \"value\": \"#0570b0\"}, \"x\": {\"type\": \"quantitative\", \"axis\": {\"format\": \".0%\"}, \"field\": \"percent\"}, \"y\": {\"type\": \"nominal\", \"field\": \"emotion\", \"sort\": \"-x\"}}, \"title\": \"Categories with 2 or more mentions | n= 54\"}, {\"mark\": {\"type\": \"text\", \"align\": \"left\", \"baseline\": \"middle\", \"dx\": 3, \"fontSize\": 12}, \"encoding\": {\"color\": {\"condition\": {\"value\": \"orange\", \"test\": \"(datum.emotion === 'disgust')\"}, \"value\": \"#0570b0\"}, \"text\": {\"type\": \"quantitative\", \"field\": \"percent\", \"format\": \".1%\"}, \"x\": {\"type\": \"quantitative\", \"axis\": {\"format\": \".0%\"}, \"field\": \"percent\"}, \"y\": {\"type\": \"nominal\", \"field\": \"emotion\", \"sort\": \"-x\"}}, \"title\": \"Categories with 2 or more mentions | n= 54\"}], \"data\": {\"name\": \"data-0c194633609ee68925ab2c0070819ecc\"}, \"width\": 200}, {\"layer\": [{\"mark\": \"bar\", \"encoding\": {\"color\": {\"condition\": {\"value\": \"orange\", \"test\": \"(datum.emotion === 'disgusted')\"}, \"value\": \"#0570b0\"}, \"x\": {\"type\": \"quantitative\", \"axis\": {\"format\": \".0%\"}, \"field\": \"borda score\"}, \"y\": {\"type\": \"nominal\", \"field\": \"emotion\", \"sort\": \"-x\"}}, \"title\": \"Dueling bandits ranking | Top: 10\"}, {\"mark\": {\"type\": \"text\", \"align\": \"left\", \"baseline\": \"middle\", \"dx\": 3, \"fontSize\": 12}, \"encoding\": {\"color\": {\"condition\": {\"value\": \"orange\", \"test\": \"(datum.emotion === 'disgusted')\"}, \"value\": \"#0570b0\"}, \"text\": {\"type\": \"quantitative\", \"field\": \"borda score\"}, \"x\": {\"type\": \"quantitative\", \"axis\": {\"format\": \".0%\"}, \"field\": \"borda score\"}, \"y\": {\"type\": \"nominal\", \"field\": \"emotion\", \"sort\": \"-x\"}}, \"title\": \"Dueling bandits ranking | Top: 10\"}], \"data\": {\"name\": \"data-f6209d27ed8c8268e25a99f3df4f10ee\"}, \"width\": 200}], \"$schema\": \"https://vega.github.io/schema/vega-lite/v4.8.1.json\", \"datasets\": {\"data-b6d8fe4e9e841a0abfa6b9f3574ce362\": [{\"counts\": 34, \"emotion\": \"disgust\", \"percent\": 0.6666666666666666}, {\"counts\": 12, \"emotion\": \"anger\", \"percent\": 0.23529411764705882}, {\"counts\": 2, \"emotion\": \"uncertain\", \"percent\": 0.0392156862745098}], \"data-eace73718200b64ae9bedde17c60850e\": [{\"url\": \"https://uwmadison.co1.qualtrics.com/ControlPanel/Graphic.php?IM=IM_cIvdFisSzzSMNRI\"}], \"data-0c194633609ee68925ab2c0070819ecc\": [{\"counts\": 20, \"emotion\": \"disgust\", \"percent\": 0.23529411764705882}, {\"counts\": 12, \"emotion\": \"angri\", \"percent\": 0.1411764705882353}, {\"counts\": 7, \"emotion\": \"mad\", \"percent\": 0.08235294117647059}, {\"counts\": 5, \"emotion\": \"annoy\", \"percent\": 0.058823529411764705}, {\"counts\": 4, \"emotion\": \"confus\", \"percent\": 0.047058823529411764}, {\"counts\": 2, \"emotion\": \"upset\", \"percent\": 0.023529411764705882}, {\"counts\": 2, \"emotion\": \"hate\", \"percent\": 0.023529411764705882}, {\"counts\": 2, \"emotion\": \"frustrat\", \"percent\": 0.023529411764705882}], \"data-f6209d27ed8c8268e25a99f3df4f10ee\": [{\"Rank\": 0, \"emotion\": \"disgusted\", \"borda score\": 0.95, \"Precision\": 0.15}, {\"Rank\": 1, \"emotion\": \"pissed\", \"borda score\": 0.92, \"Precision\": 0.16}, {\"Rank\": 2, \"emotion\": \"annoyed\", \"borda score\": 0.87, \"Precision\": 0.18}, {\"Rank\": 3, \"emotion\": \"sour\", \"borda score\": 0.85, \"Precision\": 0.19}, {\"Rank\": 4, \"emotion\": \"dislike\", \"borda score\": 0.84, \"Precision\": 0.2}, {\"Rank\": 5, \"emotion\": \"displeased\", \"borda score\": 0.83, \"Precision\": 0.2}, {\"Rank\": 6, \"emotion\": \"angry\", \"borda score\": 0.81, \"Precision\": 0.22}, {\"Rank\": 7, \"emotion\": \"unhappy\", \"borda score\": 0.81, \"Precision\": 0.22}, {\"Rank\": 8, \"emotion\": \"frustrated\", \"borda score\": 0.8, \"Precision\": 0.22}, {\"Rank\": 9, \"emotion\": \"uncomfortable\", \"borda score\": 0.78, \"Precision\": 0.24}]}}, {\"mode\": \"vega-lite\"});\n",
       "</script>"
      ],
      "text/plain": [
       "alt.HConcatChart(...)"
      ]
     },
     "execution_count": 33,
     "metadata": {},
     "output_type": "execute_result"
    }
   ],
   "source": [
    "disgust_bma_next_panel = (disgust_bma_forced.properties(width=200) | disgust_bma_free.properties(width=200) | disgust_bma_next.properties(width=200))\n",
    "disgust_bma_next_panel"
   ]
  },
  {
   "cell_type": "code",
   "execution_count": 34,
   "id": "196fd667-0b6d-455b-bb0b-0af6d19c203c",
   "metadata": {},
   "outputs": [],
   "source": [
    "save(disgust_bma_next_panel, \"../../emotions_dashboard/data/disgust_bma_next_panel.png\")"
   ]
  },
  {
   "cell_type": "markdown",
   "id": "613874d1-9490-489e-ae61-93b1395a1bd8",
   "metadata": {},
   "source": [
    "## Disgust - White female"
   ]
  },
  {
   "cell_type": "code",
   "execution_count": 35,
   "id": "6b1542c4-8141-4cfd-af5f-c174fb3cbae4",
   "metadata": {},
   "outputs": [],
   "source": [
    "disgust_wfa_forced = photo_chart(df_emo_answers_forced, 'disgust',  4, df_forced_labels, emotion_st='disgust', n_mentions=2, photo=True)\n",
    "disgust_wfa_free = photo_chart(df_emo_answers_free, 'disgust',  4, df_free_labels, emotion_st='disgust', n_mentions=2)"
   ]
  },
  {
   "cell_type": "code",
   "execution_count": 36,
   "id": "8cb2f2db-d74e-4e29-89c4-cc090915afc0",
   "metadata": {},
   "outputs": [],
   "source": [
    "path = '../../emo-ranking-next/disgust_white_female/borda_lilucb_ranking.csv'\n",
    "\n",
    "disgust_wfa_next = next_chart_wrapper(path, emotion='disgusted', head=10)"
   ]
  },
  {
   "cell_type": "code",
   "execution_count": 37,
   "id": "9e6de04e-c773-464d-9774-0fea786a7ab5",
   "metadata": {},
   "outputs": [
    {
     "data": {
      "text/html": [
       "\n",
       "<div id=\"altair-viz-947531419b054684affd608fab540642\"></div>\n",
       "<script type=\"text/javascript\">\n",
       "  (function(spec, embedOpt){\n",
       "    let outputDiv = document.currentScript.previousElementSibling;\n",
       "    if (outputDiv.id !== \"altair-viz-947531419b054684affd608fab540642\") {\n",
       "      outputDiv = document.getElementById(\"altair-viz-947531419b054684affd608fab540642\");\n",
       "    }\n",
       "    const paths = {\n",
       "      \"vega\": \"https://cdn.jsdelivr.net/npm//vega@5?noext\",\n",
       "      \"vega-lib\": \"https://cdn.jsdelivr.net/npm//vega-lib?noext\",\n",
       "      \"vega-lite\": \"https://cdn.jsdelivr.net/npm//vega-lite@4.8.1?noext\",\n",
       "      \"vega-embed\": \"https://cdn.jsdelivr.net/npm//vega-embed@6?noext\",\n",
       "    };\n",
       "\n",
       "    function loadScript(lib) {\n",
       "      return new Promise(function(resolve, reject) {\n",
       "        var s = document.createElement('script');\n",
       "        s.src = paths[lib];\n",
       "        s.async = true;\n",
       "        s.onload = () => resolve(paths[lib]);\n",
       "        s.onerror = () => reject(`Error loading script: ${paths[lib]}`);\n",
       "        document.getElementsByTagName(\"head\")[0].appendChild(s);\n",
       "      });\n",
       "    }\n",
       "\n",
       "    function showError(err) {\n",
       "      outputDiv.innerHTML = `<div class=\"error\" style=\"color:red;\">${err}</div>`;\n",
       "      throw err;\n",
       "    }\n",
       "\n",
       "    function displayChart(vegaEmbed) {\n",
       "      vegaEmbed(outputDiv, spec, embedOpt)\n",
       "        .catch(err => showError(`Javascript Error: ${err.message}<br>This usually means there's a typo in your chart specification. See the javascript console for the full traceback.`));\n",
       "    }\n",
       "\n",
       "    if(typeof define === \"function\" && define.amd) {\n",
       "      requirejs.config({paths});\n",
       "      require([\"vega-embed\"], displayChart, err => showError(`Error loading script: ${err.message}`));\n",
       "    } else if (typeof vegaEmbed === \"function\") {\n",
       "      displayChart(vegaEmbed);\n",
       "    } else {\n",
       "      loadScript(\"vega\")\n",
       "        .then(() => loadScript(\"vega-lite\"))\n",
       "        .then(() => loadScript(\"vega-embed\"))\n",
       "        .catch(showError)\n",
       "        .then(() => displayChart(vegaEmbed));\n",
       "    }\n",
       "  })({\"config\": {\"view\": {\"continuousWidth\": 400, \"continuousHeight\": 300}}, \"hconcat\": [{\"layer\": [{\"mark\": \"bar\", \"encoding\": {\"color\": {\"condition\": {\"value\": \"orange\", \"test\": \"(datum.emotion === 'disgust')\"}, \"value\": \"#0570b0\"}, \"x\": {\"type\": \"quantitative\", \"axis\": {\"format\": \".0%\"}, \"field\": \"percent\"}, \"y\": {\"type\": \"nominal\", \"field\": \"emotion\", \"sort\": \"-x\"}}, \"title\": \"Categories with 2 or more mentions | n= 48\"}, {\"mark\": {\"type\": \"text\", \"align\": \"left\", \"baseline\": \"middle\", \"dx\": 3, \"fontSize\": 12}, \"encoding\": {\"color\": {\"condition\": {\"value\": \"orange\", \"test\": \"(datum.emotion === 'disgust')\"}, \"value\": \"#0570b0\"}, \"text\": {\"type\": \"quantitative\", \"field\": \"percent\", \"format\": \".1%\"}, \"x\": {\"type\": \"quantitative\", \"axis\": {\"format\": \".0%\"}, \"field\": \"percent\"}, \"y\": {\"type\": \"nominal\", \"field\": \"emotion\", \"sort\": \"-x\"}}, \"title\": \"Categories with 2 or more mentions | n= 48\"}, {\"data\": {\"name\": \"data-e0c3a0789c43d326315576e172ef9be8\"}, \"mark\": {\"type\": \"image\", \"align\": \"center\", \"height\": 150, \"width\": 150, \"xOffset\": -100, \"yOffset\": 220}, \"encoding\": {\"url\": {\"type\": \"nominal\", \"field\": \"url\"}}}], \"data\": {\"name\": \"data-92b818156ab45d1cb782df2fcef670a0\"}, \"width\": 200}, {\"layer\": [{\"mark\": \"bar\", \"encoding\": {\"color\": {\"condition\": {\"value\": \"orange\", \"test\": \"(datum.emotion === 'disgust')\"}, \"value\": \"#0570b0\"}, \"x\": {\"type\": \"quantitative\", \"axis\": {\"format\": \".0%\"}, \"field\": \"percent\"}, \"y\": {\"type\": \"nominal\", \"field\": \"emotion\", \"sort\": \"-x\"}}, \"title\": \"Categories with 2 or more mentions | n= 60\"}, {\"mark\": {\"type\": \"text\", \"align\": \"left\", \"baseline\": \"middle\", \"dx\": 3, \"fontSize\": 12}, \"encoding\": {\"color\": {\"condition\": {\"value\": \"orange\", \"test\": \"(datum.emotion === 'disgust')\"}, \"value\": \"#0570b0\"}, \"text\": {\"type\": \"quantitative\", \"field\": \"percent\", \"format\": \".1%\"}, \"x\": {\"type\": \"quantitative\", \"axis\": {\"format\": \".0%\"}, \"field\": \"percent\"}, \"y\": {\"type\": \"nominal\", \"field\": \"emotion\", \"sort\": \"-x\"}}, \"title\": \"Categories with 2 or more mentions | n= 60\"}], \"data\": {\"name\": \"data-3ffee23e9912135a64ee04cc0e8dff66\"}, \"width\": 200}, {\"layer\": [{\"mark\": \"bar\", \"encoding\": {\"color\": {\"condition\": {\"value\": \"orange\", \"test\": \"(datum.emotion === 'disgusted')\"}, \"value\": \"#0570b0\"}, \"x\": {\"type\": \"quantitative\", \"axis\": {\"format\": \".0%\"}, \"field\": \"borda score\"}, \"y\": {\"type\": \"nominal\", \"field\": \"emotion\", \"sort\": \"-x\"}}, \"title\": \"Dueling bandits ranking | Top: 10\"}, {\"mark\": {\"type\": \"text\", \"align\": \"left\", \"baseline\": \"middle\", \"dx\": 3, \"fontSize\": 12}, \"encoding\": {\"color\": {\"condition\": {\"value\": \"orange\", \"test\": \"(datum.emotion === 'disgusted')\"}, \"value\": \"#0570b0\"}, \"text\": {\"type\": \"quantitative\", \"field\": \"borda score\"}, \"x\": {\"type\": \"quantitative\", \"axis\": {\"format\": \".0%\"}, \"field\": \"borda score\"}, \"y\": {\"type\": \"nominal\", \"field\": \"emotion\", \"sort\": \"-x\"}}, \"title\": \"Dueling bandits ranking | Top: 10\"}], \"data\": {\"name\": \"data-f867fdccc99605132e5df94100f64e31\"}, \"width\": 200}], \"$schema\": \"https://vega.github.io/schema/vega-lite/v4.8.1.json\", \"datasets\": {\"data-92b818156ab45d1cb782df2fcef670a0\": [{\"counts\": 41, \"emotion\": \"disgust\", \"percent\": 0.803921568627451}, {\"counts\": 3, \"emotion\": \"anger\", \"percent\": 0.058823529411764705}, {\"counts\": 2, \"emotion\": \"sad\", \"percent\": 0.0392156862745098}, {\"counts\": 2, \"emotion\": \"uncertain\", \"percent\": 0.0392156862745098}], \"data-e0c3a0789c43d326315576e172ef9be8\": [{\"url\": \"https://uwmadison.co1.qualtrics.com/ControlPanel/Graphic.php?IM=IM_er3kGiV5nUJCkse\"}], \"data-3ffee23e9912135a64ee04cc0e8dff66\": [{\"counts\": 21, \"emotion\": \"disgust\", \"percent\": 0.2625}, {\"counts\": 7, \"emotion\": \"upset\", \"percent\": 0.0875}, {\"counts\": 7, \"emotion\": \"angri\", \"percent\": 0.0875}, {\"counts\": 4, \"emotion\": \"gross\", \"percent\": 0.05}, {\"counts\": 4, \"emotion\": \"mad\", \"percent\": 0.05}, {\"counts\": 3, \"emotion\": \"distast\", \"percent\": 0.0375}, {\"counts\": 3, \"emotion\": \"silli\", \"percent\": 0.0375}, {\"counts\": 3, \"emotion\": \"frustrat\", \"percent\": 0.0375}, {\"counts\": 2, \"emotion\": \"sour\", \"percent\": 0.025}, {\"counts\": 2, \"emotion\": \"unpleas\", \"percent\": 0.025}, {\"counts\": 2, \"emotion\": \"afraid\", \"percent\": 0.025}, {\"counts\": 2, \"emotion\": \"sad\", \"percent\": 0.025}], \"data-f867fdccc99605132e5df94100f64e31\": [{\"Rank\": 0, \"emotion\": \"gross\", \"borda score\": 0.95, \"Precision\": 0.11}, {\"Rank\": 1, \"emotion\": \"dislike\", \"borda score\": 0.9, \"Precision\": 0.09}, {\"Rank\": 2, \"emotion\": \"disgusted\", \"borda score\": 0.9, \"Precision\": 0.1}, {\"Rank\": 3, \"emotion\": \"sour\", \"borda score\": 0.84, \"Precision\": 0.12}, {\"Rank\": 4, \"emotion\": \"displeased\", \"borda score\": 0.79, \"Precision\": 0.14}, {\"Rank\": 5, \"emotion\": \"goofy\", \"borda score\": 0.77, \"Precision\": 0.15}, {\"Rank\": 6, \"emotion\": \"weird\", \"borda score\": 0.74, \"Precision\": 0.16}, {\"Rank\": 7, \"emotion\": \"sassy\", \"borda score\": 0.74, \"Precision\": 0.16}, {\"Rank\": 8, \"emotion\": \"pissed\", \"borda score\": 0.71, \"Precision\": 0.17}, {\"Rank\": 9, \"emotion\": \"squint\", \"borda score\": 0.7, \"Precision\": 0.18}]}}, {\"mode\": \"vega-lite\"});\n",
       "</script>"
      ],
      "text/plain": [
       "alt.HConcatChart(...)"
      ]
     },
     "execution_count": 37,
     "metadata": {},
     "output_type": "execute_result"
    }
   ],
   "source": [
    "disgust_wfa_next_panel = (disgust_wfa_forced.properties(width=200) | disgust_wfa_free.properties(width=200) | disgust_wfa_next.properties(width=200))\n",
    "disgust_wfa_next_panel"
   ]
  },
  {
   "cell_type": "code",
   "execution_count": 38,
   "id": "167ce8b2-7bd9-43ab-b585-17a7f5d896c7",
   "metadata": {},
   "outputs": [],
   "source": [
    "save(disgust_wfa_next_panel, \"../../emotions_dashboard/data/disgust_wfa_next_panel.png\")"
   ]
  },
  {
   "cell_type": "markdown",
   "id": "0d730df6-5e83-46ce-a429-4c64c3b74de6",
   "metadata": {},
   "source": [
    "## Disgust - White male"
   ]
  },
  {
   "cell_type": "code",
   "execution_count": 39,
   "id": "84e6444a-9917-4adf-9c7e-fc96d7da3b82",
   "metadata": {},
   "outputs": [],
   "source": [
    "disgust_wma_forced = photo_chart(df_emo_answers_forced, 'disgust',  6, df_forced_labels, emotion_st='disgust', n_mentions=2, photo=True)\n",
    "disgust_wma_free = photo_chart(df_emo_answers_free, 'disgust',  6, df_free_labels, emotion_st='disgust', n_mentions=2)"
   ]
  },
  {
   "cell_type": "code",
   "execution_count": 40,
   "id": "049c05fb-53c2-43b0-a5ef-7a4fbc89acb2",
   "metadata": {},
   "outputs": [],
   "source": [
    "path = '../../emo-ranking-next/disgust_white_male/borda_lilucb_ranking.csv'\n",
    "\n",
    "disgust_wma_next = next_chart_wrapper(path, emotion='disgusted', head=30)"
   ]
  },
  {
   "cell_type": "code",
   "execution_count": 41,
   "id": "4c7226fb-f2fa-4324-ade1-72d46ea6a886",
   "metadata": {},
   "outputs": [
    {
     "data": {
      "text/html": [
       "\n",
       "<div id=\"altair-viz-bae519eb599b4e0c8dfa38f8d4fcbafd\"></div>\n",
       "<script type=\"text/javascript\">\n",
       "  (function(spec, embedOpt){\n",
       "    let outputDiv = document.currentScript.previousElementSibling;\n",
       "    if (outputDiv.id !== \"altair-viz-bae519eb599b4e0c8dfa38f8d4fcbafd\") {\n",
       "      outputDiv = document.getElementById(\"altair-viz-bae519eb599b4e0c8dfa38f8d4fcbafd\");\n",
       "    }\n",
       "    const paths = {\n",
       "      \"vega\": \"https://cdn.jsdelivr.net/npm//vega@5?noext\",\n",
       "      \"vega-lib\": \"https://cdn.jsdelivr.net/npm//vega-lib?noext\",\n",
       "      \"vega-lite\": \"https://cdn.jsdelivr.net/npm//vega-lite@4.8.1?noext\",\n",
       "      \"vega-embed\": \"https://cdn.jsdelivr.net/npm//vega-embed@6?noext\",\n",
       "    };\n",
       "\n",
       "    function loadScript(lib) {\n",
       "      return new Promise(function(resolve, reject) {\n",
       "        var s = document.createElement('script');\n",
       "        s.src = paths[lib];\n",
       "        s.async = true;\n",
       "        s.onload = () => resolve(paths[lib]);\n",
       "        s.onerror = () => reject(`Error loading script: ${paths[lib]}`);\n",
       "        document.getElementsByTagName(\"head\")[0].appendChild(s);\n",
       "      });\n",
       "    }\n",
       "\n",
       "    function showError(err) {\n",
       "      outputDiv.innerHTML = `<div class=\"error\" style=\"color:red;\">${err}</div>`;\n",
       "      throw err;\n",
       "    }\n",
       "\n",
       "    function displayChart(vegaEmbed) {\n",
       "      vegaEmbed(outputDiv, spec, embedOpt)\n",
       "        .catch(err => showError(`Javascript Error: ${err.message}<br>This usually means there's a typo in your chart specification. See the javascript console for the full traceback.`));\n",
       "    }\n",
       "\n",
       "    if(typeof define === \"function\" && define.amd) {\n",
       "      requirejs.config({paths});\n",
       "      require([\"vega-embed\"], displayChart, err => showError(`Error loading script: ${err.message}`));\n",
       "    } else if (typeof vegaEmbed === \"function\") {\n",
       "      displayChart(vegaEmbed);\n",
       "    } else {\n",
       "      loadScript(\"vega\")\n",
       "        .then(() => loadScript(\"vega-lite\"))\n",
       "        .then(() => loadScript(\"vega-embed\"))\n",
       "        .catch(showError)\n",
       "        .then(() => displayChart(vegaEmbed));\n",
       "    }\n",
       "  })({\"config\": {\"view\": {\"continuousWidth\": 400, \"continuousHeight\": 300}}, \"hconcat\": [{\"layer\": [{\"mark\": \"bar\", \"encoding\": {\"color\": {\"condition\": {\"value\": \"orange\", \"test\": \"(datum.emotion === 'disgust')\"}, \"value\": \"#0570b0\"}, \"x\": {\"type\": \"quantitative\", \"axis\": {\"format\": \".0%\"}, \"field\": \"percent\"}, \"y\": {\"type\": \"nominal\", \"field\": \"emotion\", \"sort\": \"-x\"}}, \"title\": \"Categories with 2 or more mentions | n= 50\"}, {\"mark\": {\"type\": \"text\", \"align\": \"left\", \"baseline\": \"middle\", \"dx\": 3, \"fontSize\": 12}, \"encoding\": {\"color\": {\"condition\": {\"value\": \"orange\", \"test\": \"(datum.emotion === 'disgust')\"}, \"value\": \"#0570b0\"}, \"text\": {\"type\": \"quantitative\", \"field\": \"percent\", \"format\": \".1%\"}, \"x\": {\"type\": \"quantitative\", \"axis\": {\"format\": \".0%\"}, \"field\": \"percent\"}, \"y\": {\"type\": \"nominal\", \"field\": \"emotion\", \"sort\": \"-x\"}}, \"title\": \"Categories with 2 or more mentions | n= 50\"}, {\"data\": {\"name\": \"data-2012166b063905d308a3d4955bb4a206\"}, \"mark\": {\"type\": \"image\", \"align\": \"center\", \"height\": 150, \"width\": 150, \"xOffset\": -100, \"yOffset\": 220}, \"encoding\": {\"url\": {\"type\": \"nominal\", \"field\": \"url\"}}}], \"data\": {\"name\": \"data-1e8eaf4516f2e6746bc4621fe2faeb20\"}, \"width\": 200}, {\"layer\": [{\"mark\": \"bar\", \"encoding\": {\"color\": {\"condition\": {\"value\": \"orange\", \"test\": \"(datum.emotion === 'disgust')\"}, \"value\": \"#0570b0\"}, \"x\": {\"type\": \"quantitative\", \"axis\": {\"format\": \".0%\"}, \"field\": \"percent\"}, \"y\": {\"type\": \"nominal\", \"field\": \"emotion\", \"sort\": \"-x\"}}, \"title\": \"Categories with 2 or more mentions | n= 51\"}, {\"mark\": {\"type\": \"text\", \"align\": \"left\", \"baseline\": \"middle\", \"dx\": 3, \"fontSize\": 12}, \"encoding\": {\"color\": {\"condition\": {\"value\": \"orange\", \"test\": \"(datum.emotion === 'disgust')\"}, \"value\": \"#0570b0\"}, \"text\": {\"type\": \"quantitative\", \"field\": \"percent\", \"format\": \".1%\"}, \"x\": {\"type\": \"quantitative\", \"axis\": {\"format\": \".0%\"}, \"field\": \"percent\"}, \"y\": {\"type\": \"nominal\", \"field\": \"emotion\", \"sort\": \"-x\"}}, \"title\": \"Categories with 2 or more mentions | n= 51\"}], \"data\": {\"name\": \"data-a9f9cc39c905936ab6886bb2e10bc7db\"}, \"width\": 200}, {\"layer\": [{\"mark\": \"bar\", \"encoding\": {\"color\": {\"condition\": {\"value\": \"orange\", \"test\": \"(datum.emotion === 'disgusted')\"}, \"value\": \"#0570b0\"}, \"x\": {\"type\": \"quantitative\", \"axis\": {\"format\": \".0%\"}, \"field\": \"borda score\"}, \"y\": {\"type\": \"nominal\", \"field\": \"emotion\", \"sort\": \"-x\"}}, \"title\": \"Dueling bandits ranking | Top: 30\"}, {\"mark\": {\"type\": \"text\", \"align\": \"left\", \"baseline\": \"middle\", \"dx\": 3, \"fontSize\": 12}, \"encoding\": {\"color\": {\"condition\": {\"value\": \"orange\", \"test\": \"(datum.emotion === 'disgusted')\"}, \"value\": \"#0570b0\"}, \"text\": {\"type\": \"quantitative\", \"field\": \"borda score\"}, \"x\": {\"type\": \"quantitative\", \"axis\": {\"format\": \".0%\"}, \"field\": \"borda score\"}, \"y\": {\"type\": \"nominal\", \"field\": \"emotion\", \"sort\": \"-x\"}}, \"title\": \"Dueling bandits ranking | Top: 30\"}], \"data\": {\"name\": \"data-d6ab663445be184d989f751dc9db7cae\"}, \"width\": 200}], \"$schema\": \"https://vega.github.io/schema/vega-lite/v4.8.1.json\", \"datasets\": {\"data-1e8eaf4516f2e6746bc4621fe2faeb20\": [{\"counts\": 42, \"emotion\": \"disgust\", \"percent\": 0.8235294117647058}, {\"counts\": 4, \"emotion\": \"surpris\", \"percent\": 0.0784313725490196}, {\"counts\": 2, \"emotion\": \"anger\", \"percent\": 0.0392156862745098}, {\"counts\": 2, \"emotion\": \"other\", \"percent\": 0.0392156862745098}], \"data-2012166b063905d308a3d4955bb4a206\": [{\"url\": \"https://uwmadison.co1.qualtrics.com/ControlPanel/Graphic.php?IM=IM_4Iuz8TahQUf5rCu\"}], \"data-a9f9cc39c905936ab6886bb2e10bc7db\": [{\"counts\": 17, \"emotion\": \"confus\", \"percent\": 0.21518987341772153}, {\"counts\": 14, \"emotion\": \"disgust\", \"percent\": 0.17721518987341772}, {\"counts\": 5, \"emotion\": \"shock\", \"percent\": 0.06329113924050633}, {\"counts\": 4, \"emotion\": \"annoy\", \"percent\": 0.05063291139240506}, {\"counts\": 3, \"emotion\": \"surpris\", \"percent\": 0.0379746835443038}, {\"counts\": 2, \"emotion\": \"mad\", \"percent\": 0.02531645569620253}, {\"counts\": 2, \"emotion\": \"concern\", \"percent\": 0.02531645569620253}, {\"counts\": 2, \"emotion\": \"unhappi\", \"percent\": 0.02531645569620253}, {\"counts\": 2, \"emotion\": \"supris\", \"percent\": 0.02531645569620253}], \"data-d6ab663445be184d989f751dc9db7cae\": [{\"Rank\": 0, \"emotion\": \"questioning\", \"borda score\": 0.83, \"Precision\": 0.11}, {\"Rank\": 1, \"emotion\": \"unpleasant\", \"borda score\": 0.8, \"Precision\": 0.12}, {\"Rank\": 2, \"emotion\": \"goofy\", \"borda score\": 0.78, \"Precision\": 0.14}, {\"Rank\": 3, \"emotion\": \"displeased\", \"borda score\": 0.77, \"Precision\": 0.14}, {\"Rank\": 4, \"emotion\": \"suprised\", \"borda score\": 0.76, \"Precision\": 0.14}, {\"Rank\": 5, \"emotion\": \"uncomfortable\", \"borda score\": 0.76, \"Precision\": 0.14}, {\"Rank\": 6, \"emotion\": \"disappointed\", \"borda score\": 0.75, \"Precision\": 0.15}, {\"Rank\": 7, \"emotion\": \"surprised\", \"borda score\": 0.71, \"Precision\": 0.17}, {\"Rank\": 8, \"emotion\": \"intrigued\", \"borda score\": 0.7, \"Precision\": 0.17}, {\"Rank\": 9, \"emotion\": \"confused\", \"borda score\": 0.68, \"Precision\": 0.19}, {\"Rank\": 10, \"emotion\": \"curious\", \"borda score\": 0.65, \"Precision\": 0.2}, {\"Rank\": 11, \"emotion\": \"dislike\", \"borda score\": 0.65, \"Precision\": 0.2}, {\"Rank\": 12, \"emotion\": \"crazy\", \"borda score\": 0.64, \"Precision\": 0.2}, {\"Rank\": 13, \"emotion\": \"weird\", \"borda score\": 0.61, \"Precision\": 0.21}, {\"Rank\": 14, \"emotion\": \"sour\", \"borda score\": 0.58, \"Precision\": 0.2}, {\"Rank\": 15, \"emotion\": \"pissed\", \"borda score\": 0.57, \"Precision\": 0.22}, {\"Rank\": 16, \"emotion\": \"playful\", \"borda score\": 0.57, \"Precision\": 0.22}, {\"Rank\": 17, \"emotion\": \"unhappy\", \"borda score\": 0.57, \"Precision\": 0.22}, {\"Rank\": 18, \"emotion\": \"frustrated\", \"borda score\": 0.56, \"Precision\": 0.24}, {\"Rank\": 19, \"emotion\": \"shocked\", \"borda score\": 0.56, \"Precision\": 0.24}, {\"Rank\": 20, \"emotion\": \"squint\", \"borda score\": 0.55, \"Precision\": 0.21}, {\"Rank\": 21, \"emotion\": \"ugly\", \"borda score\": 0.52, \"Precision\": 0.22}, {\"Rank\": 22, \"emotion\": \"silly\", \"borda score\": 0.5, \"Precision\": 0.27}, {\"Rank\": 23, \"emotion\": \"concerned\", \"borda score\": 0.5, \"Precision\": 0.27}, {\"Rank\": 24, \"emotion\": \"gross\", \"borda score\": 0.5, \"Precision\": 0.27}, {\"Rank\": 25, \"emotion\": \"annoyed\", \"borda score\": 0.5, \"Precision\": 0.25}, {\"Rank\": 26, \"emotion\": \"disgusted\", \"borda score\": 0.5, \"Precision\": 0.22}, {\"Rank\": 27, \"emotion\": \"upset\", \"borda score\": 0.46, \"Precision\": 0.28}, {\"Rank\": 28, \"emotion\": \"serious\", \"borda score\": 0.4, \"Precision\": 0.32}, {\"Rank\": 29, \"emotion\": \"excited\", \"borda score\": 0.17, \"Precision\": 0.41}]}}, {\"mode\": \"vega-lite\"});\n",
       "</script>"
      ],
      "text/plain": [
       "alt.HConcatChart(...)"
      ]
     },
     "execution_count": 41,
     "metadata": {},
     "output_type": "execute_result"
    }
   ],
   "source": [
    "disgust_wma_next_panel = (disgust_wma_forced.properties(width=200) | disgust_wma_free.properties(width=200) | disgust_wma_next.properties(width=200))\n",
    "disgust_wma_next_panel"
   ]
  },
  {
   "cell_type": "code",
   "execution_count": 42,
   "id": "fa59a796-5c11-4507-a156-37a6cd2b935c",
   "metadata": {},
   "outputs": [],
   "source": [
    "save(disgust_wma_next_panel, \"../../emotions_dashboard/data/disgust_wma_next_panel.png\")"
   ]
  },
  {
   "cell_type": "markdown",
   "id": "358b717a-b19e-4861-825d-d7eeafb404f8",
   "metadata": {},
   "source": [
    "## Fear - Female of color"
   ]
  },
  {
   "cell_type": "code",
   "execution_count": 43,
   "id": "960155af-8775-4f64-9eea-03666af32a6c",
   "metadata": {},
   "outputs": [],
   "source": [
    "fear_bfa_forced = photo_chart(df_emo_answers_forced, 'fear',  0, df_forced_labels, emotion_st='fear', n_mentions=2, photo=True, yoffset=260)\n",
    "fear_bfa_free = photo_chart(df_emo_answers_free, 'fear',  0, df_free_labels, emotion_st='fear', n_mentions=2)"
   ]
  },
  {
   "cell_type": "code",
   "execution_count": 44,
   "id": "18b47eb4-261d-4d71-a999-9cf7e7d94f0e",
   "metadata": {},
   "outputs": [],
   "source": [
    "path = '../../emo-ranking-next/fear_bipoc_female/borda_lilucb_ranking.csv'\n",
    "\n",
    "fear_bfa_next = next_chart_wrapper(path, emotion='fear', head=25)"
   ]
  },
  {
   "cell_type": "code",
   "execution_count": 45,
   "id": "adab2d8f-991c-4181-8e77-94452b9694ae",
   "metadata": {},
   "outputs": [
    {
     "data": {
      "text/html": [
       "\n",
       "<div id=\"altair-viz-8c4c0e14e43d44d39d359b7c95bae5ec\"></div>\n",
       "<script type=\"text/javascript\">\n",
       "  (function(spec, embedOpt){\n",
       "    let outputDiv = document.currentScript.previousElementSibling;\n",
       "    if (outputDiv.id !== \"altair-viz-8c4c0e14e43d44d39d359b7c95bae5ec\") {\n",
       "      outputDiv = document.getElementById(\"altair-viz-8c4c0e14e43d44d39d359b7c95bae5ec\");\n",
       "    }\n",
       "    const paths = {\n",
       "      \"vega\": \"https://cdn.jsdelivr.net/npm//vega@5?noext\",\n",
       "      \"vega-lib\": \"https://cdn.jsdelivr.net/npm//vega-lib?noext\",\n",
       "      \"vega-lite\": \"https://cdn.jsdelivr.net/npm//vega-lite@4.8.1?noext\",\n",
       "      \"vega-embed\": \"https://cdn.jsdelivr.net/npm//vega-embed@6?noext\",\n",
       "    };\n",
       "\n",
       "    function loadScript(lib) {\n",
       "      return new Promise(function(resolve, reject) {\n",
       "        var s = document.createElement('script');\n",
       "        s.src = paths[lib];\n",
       "        s.async = true;\n",
       "        s.onload = () => resolve(paths[lib]);\n",
       "        s.onerror = () => reject(`Error loading script: ${paths[lib]}`);\n",
       "        document.getElementsByTagName(\"head\")[0].appendChild(s);\n",
       "      });\n",
       "    }\n",
       "\n",
       "    function showError(err) {\n",
       "      outputDiv.innerHTML = `<div class=\"error\" style=\"color:red;\">${err}</div>`;\n",
       "      throw err;\n",
       "    }\n",
       "\n",
       "    function displayChart(vegaEmbed) {\n",
       "      vegaEmbed(outputDiv, spec, embedOpt)\n",
       "        .catch(err => showError(`Javascript Error: ${err.message}<br>This usually means there's a typo in your chart specification. See the javascript console for the full traceback.`));\n",
       "    }\n",
       "\n",
       "    if(typeof define === \"function\" && define.amd) {\n",
       "      requirejs.config({paths});\n",
       "      require([\"vega-embed\"], displayChart, err => showError(`Error loading script: ${err.message}`));\n",
       "    } else if (typeof vegaEmbed === \"function\") {\n",
       "      displayChart(vegaEmbed);\n",
       "    } else {\n",
       "      loadScript(\"vega\")\n",
       "        .then(() => loadScript(\"vega-lite\"))\n",
       "        .then(() => loadScript(\"vega-embed\"))\n",
       "        .catch(showError)\n",
       "        .then(() => displayChart(vegaEmbed));\n",
       "    }\n",
       "  })({\"config\": {\"view\": {\"continuousWidth\": 400, \"continuousHeight\": 300}}, \"hconcat\": [{\"layer\": [{\"mark\": \"bar\", \"encoding\": {\"color\": {\"condition\": {\"value\": \"orange\", \"test\": \"(datum.emotion === 'fear')\"}, \"value\": \"#0570b0\"}, \"x\": {\"type\": \"quantitative\", \"axis\": {\"format\": \".0%\"}, \"field\": \"percent\"}, \"y\": {\"type\": \"nominal\", \"field\": \"emotion\", \"sort\": \"-x\"}}, \"title\": \"Categories with 2 or more mentions | n= 49\"}, {\"mark\": {\"type\": \"text\", \"align\": \"left\", \"baseline\": \"middle\", \"dx\": 3, \"fontSize\": 12}, \"encoding\": {\"color\": {\"condition\": {\"value\": \"orange\", \"test\": \"(datum.emotion === 'fear')\"}, \"value\": \"#0570b0\"}, \"text\": {\"type\": \"quantitative\", \"field\": \"percent\", \"format\": \".1%\"}, \"x\": {\"type\": \"quantitative\", \"axis\": {\"format\": \".0%\"}, \"field\": \"percent\"}, \"y\": {\"type\": \"nominal\", \"field\": \"emotion\", \"sort\": \"-x\"}}, \"title\": \"Categories with 2 or more mentions | n= 49\"}, {\"data\": {\"name\": \"data-28dc72565ecf5e28a8159ef35035e3e6\"}, \"mark\": {\"type\": \"image\", \"align\": \"center\", \"height\": 150, \"width\": 150, \"xOffset\": -100, \"yOffset\": 260}, \"encoding\": {\"url\": {\"type\": \"nominal\", \"field\": \"url\"}}}], \"data\": {\"name\": \"data-437ff0d8cee97b56f78f5980f117e6b5\"}, \"width\": 200}, {\"layer\": [{\"mark\": \"bar\", \"encoding\": {\"color\": {\"condition\": {\"value\": \"orange\", \"test\": \"(datum.emotion === 'fear')\"}, \"value\": \"#0570b0\"}, \"x\": {\"type\": \"quantitative\", \"axis\": {\"format\": \".0%\"}, \"field\": \"percent\"}, \"y\": {\"type\": \"nominal\", \"field\": \"emotion\", \"sort\": \"-x\"}}, \"title\": \"Categories with 2 or more mentions | n= 70\"}, {\"mark\": {\"type\": \"text\", \"align\": \"left\", \"baseline\": \"middle\", \"dx\": 3, \"fontSize\": 12}, \"encoding\": {\"color\": {\"condition\": {\"value\": \"orange\", \"test\": \"(datum.emotion === 'fear')\"}, \"value\": \"#0570b0\"}, \"text\": {\"type\": \"quantitative\", \"field\": \"percent\", \"format\": \".1%\"}, \"x\": {\"type\": \"quantitative\", \"axis\": {\"format\": \".0%\"}, \"field\": \"percent\"}, \"y\": {\"type\": \"nominal\", \"field\": \"emotion\", \"sort\": \"-x\"}}, \"title\": \"Categories with 2 or more mentions | n= 70\"}], \"data\": {\"name\": \"data-b20f22a9ac1758a4a005c43d250dfd5f\"}, \"width\": 200}, {\"layer\": [{\"mark\": \"bar\", \"encoding\": {\"color\": {\"condition\": {\"value\": \"orange\", \"test\": \"(datum.emotion === 'fear')\"}, \"value\": \"#0570b0\"}, \"x\": {\"type\": \"quantitative\", \"axis\": {\"format\": \".0%\"}, \"field\": \"borda score\"}, \"y\": {\"type\": \"nominal\", \"field\": \"emotion\", \"sort\": \"-x\"}}, \"title\": \"Dueling bandits ranking | Top: 25\"}, {\"mark\": {\"type\": \"text\", \"align\": \"left\", \"baseline\": \"middle\", \"dx\": 3, \"fontSize\": 12}, \"encoding\": {\"color\": {\"condition\": {\"value\": \"orange\", \"test\": \"(datum.emotion === 'fear')\"}, \"value\": \"#0570b0\"}, \"text\": {\"type\": \"quantitative\", \"field\": \"borda score\"}, \"x\": {\"type\": \"quantitative\", \"axis\": {\"format\": \".0%\"}, \"field\": \"borda score\"}, \"y\": {\"type\": \"nominal\", \"field\": \"emotion\", \"sort\": \"-x\"}}, \"title\": \"Dueling bandits ranking | Top: 25\"}], \"data\": {\"name\": \"data-0663c3266420c72c458506b9d1b63f0b\"}, \"width\": 200}], \"$schema\": \"https://vega.github.io/schema/vega-lite/v4.8.1.json\", \"datasets\": {\"data-437ff0d8cee97b56f78f5980f117e6b5\": [{\"counts\": 29, \"emotion\": \"fear\", \"percent\": 0.5686274509803921}, {\"counts\": 8, \"emotion\": \"disgust\", \"percent\": 0.1568627450980392}, {\"counts\": 3, \"emotion\": \"anger\", \"percent\": 0.058823529411764705}, {\"counts\": 3, \"emotion\": \"sad\", \"percent\": 0.058823529411764705}, {\"counts\": 2, \"emotion\": \"happi\", \"percent\": 0.0392156862745098}, {\"counts\": 2, \"emotion\": \"surpris\", \"percent\": 0.0392156862745098}, {\"counts\": 2, \"emotion\": \"other\", \"percent\": 0.0392156862745098}], \"data-28dc72565ecf5e28a8159ef35035e3e6\": [{\"url\": \"https://uwmadison.co1.qualtrics.com/ControlPanel/Graphic.php?IM=IM_6qVleJUYoACmf6C\"}], \"data-b20f22a9ac1758a4a005c43d250dfd5f\": [{\"counts\": 15, \"emotion\": \"scare\", \"percent\": 0.16666666666666666}, {\"counts\": 14, \"emotion\": \"shock\", \"percent\": 0.15555555555555556}, {\"counts\": 9, \"emotion\": \"surpris\", \"percent\": 0.1}, {\"counts\": 7, \"emotion\": \"confus\", \"percent\": 0.07777777777777778}, {\"counts\": 6, \"emotion\": \"upset\", \"percent\": 0.06666666666666667}, {\"counts\": 6, \"emotion\": \"disgust\", \"percent\": 0.06666666666666667}, {\"counts\": 5, \"emotion\": \"angri\", \"percent\": 0.05555555555555555}, {\"counts\": 2, \"emotion\": \"frighten\", \"percent\": 0.022222222222222223}, {\"counts\": 2, \"emotion\": \"fear\", \"percent\": 0.022222222222222223}, {\"counts\": 2, \"emotion\": \"afraid\", \"percent\": 0.022222222222222223}, {\"counts\": 2, \"emotion\": \"annoy\", \"percent\": 0.022222222222222223}], \"data-0663c3266420c72c458506b9d1b63f0b\": [{\"Rank\": 0, \"emotion\": \"disgusted\", \"borda score\": 0.9, \"Precision\": 0.11}, {\"Rank\": 1, \"emotion\": \"uncomfortable\", \"borda score\": 0.88, \"Precision\": 0.12}, {\"Rank\": 2, \"emotion\": \"distraught\", \"borda score\": 0.86, \"Precision\": 0.13}, {\"Rank\": 3, \"emotion\": \"frightened\", \"borda score\": 0.83, \"Precision\": 0.14}, {\"Rank\": 4, \"emotion\": \"anxious\", \"borda score\": 0.83, \"Precision\": 0.14}, {\"Rank\": 5, \"emotion\": \"nervous\", \"borda score\": 0.83, \"Precision\": 0.14}, {\"Rank\": 6, \"emotion\": \"disbelief\", \"borda score\": 0.82, \"Precision\": 0.14}, {\"Rank\": 7, \"emotion\": \"strange\", \"borda score\": 0.79, \"Precision\": 0.16}, {\"Rank\": 8, \"emotion\": \"concerned\", \"borda score\": 0.78, \"Precision\": 0.16}, {\"Rank\": 9, \"emotion\": \"shocked\", \"borda score\": 0.75, \"Precision\": 0.18}, {\"Rank\": 10, \"emotion\": \"scared\", \"borda score\": 0.73, \"Precision\": 0.18}, {\"Rank\": 11, \"emotion\": \"unpleasant\", \"borda score\": 0.72, \"Precision\": 0.19}, {\"Rank\": 12, \"emotion\": \"worried\", \"borda score\": 0.7, \"Precision\": 0.19}, {\"Rank\": 13, \"emotion\": \"hurt\", \"borda score\": 0.69, \"Precision\": 0.2}, {\"Rank\": 14, \"emotion\": \"unhappy\", \"borda score\": 0.67, \"Precision\": 0.22}, {\"Rank\": 15, \"emotion\": \"bewildered\", \"borda score\": 0.66, \"Precision\": 0.18}, {\"Rank\": 16, \"emotion\": \"afraid\", \"borda score\": 0.65, \"Precision\": 0.21}, {\"Rank\": 17, \"emotion\": \"annoyed\", \"borda score\": 0.65, \"Precision\": 0.21}, {\"Rank\": 18, \"emotion\": \"terrified\", \"borda score\": 0.63, \"Precision\": 0.23}, {\"Rank\": 19, \"emotion\": \"surprised\", \"borda score\": 0.63, \"Precision\": 0.23}, {\"Rank\": 20, \"emotion\": \"fear\", \"borda score\": 0.61, \"Precision\": 0.24}, {\"Rank\": 21, \"emotion\": \"confused\", \"borda score\": 0.59, \"Precision\": 0.24}, {\"Rank\": 22, \"emotion\": \"upset\", \"borda score\": 0.56, \"Precision\": 0.25}, {\"Rank\": 23, \"emotion\": \"intrigued\", \"borda score\": 0.5, \"Precision\": 0.29}, {\"Rank\": 24, \"emotion\": \"angry\", \"borda score\": 0.44, \"Precision\": 0.33}]}}, {\"mode\": \"vega-lite\"});\n",
       "</script>"
      ],
      "text/plain": [
       "alt.HConcatChart(...)"
      ]
     },
     "execution_count": 45,
     "metadata": {},
     "output_type": "execute_result"
    }
   ],
   "source": [
    "fear_bfa_next_panel = (fear_bfa_forced.properties(width=200) | fear_bfa_free.properties(width=200) | fear_bfa_next.properties(width=200))\n",
    "fear_bfa_next_panel"
   ]
  },
  {
   "cell_type": "code",
   "execution_count": 46,
   "id": "86073a67-d1c8-44bd-b7be-c7e513d467a5",
   "metadata": {},
   "outputs": [],
   "source": [
    "save(fear_bfa_next_panel, \"../../emotions_dashboard/data/fear_bfa_next_panel.png\")"
   ]
  },
  {
   "cell_type": "markdown",
   "id": "cd307cbc-0bdb-4867-805e-e7632ae76236",
   "metadata": {},
   "source": [
    "## Fear - Male of color"
   ]
  },
  {
   "cell_type": "code",
   "execution_count": 47,
   "id": "9c4322b3-62a6-4d45-b388-57b5fec391f1",
   "metadata": {},
   "outputs": [],
   "source": [
    "fear_bma_forced = photo_chart(df_emo_answers_forced, 'fear',  2, df_forced_labels, emotion_st='fear', n_mentions=2, photo=True, yoffset=230)\n",
    "fear_bma_free = photo_chart(df_emo_answers_free, 'fear',  2, df_free_labels, emotion_st='fear', n_mentions=2)"
   ]
  },
  {
   "cell_type": "code",
   "execution_count": 48,
   "id": "c7e8c7f1-8052-46f2-a8f4-5459a31d040c",
   "metadata": {},
   "outputs": [],
   "source": [
    "path = '../../emo-ranking-next/fear_bipoc_male/borda_lilucb_ranking.csv'\n",
    "\n",
    "fear_bma_next = next_chart_wrapper(path, emotion='fear', head=35)"
   ]
  },
  {
   "cell_type": "code",
   "execution_count": 49,
   "id": "c30666ac-3aaf-4040-9335-ad87434acae2",
   "metadata": {},
   "outputs": [
    {
     "data": {
      "text/html": [
       "\n",
       "<div id=\"altair-viz-7d9bf6674bc5472babf01f64be95a691\"></div>\n",
       "<script type=\"text/javascript\">\n",
       "  (function(spec, embedOpt){\n",
       "    let outputDiv = document.currentScript.previousElementSibling;\n",
       "    if (outputDiv.id !== \"altair-viz-7d9bf6674bc5472babf01f64be95a691\") {\n",
       "      outputDiv = document.getElementById(\"altair-viz-7d9bf6674bc5472babf01f64be95a691\");\n",
       "    }\n",
       "    const paths = {\n",
       "      \"vega\": \"https://cdn.jsdelivr.net/npm//vega@5?noext\",\n",
       "      \"vega-lib\": \"https://cdn.jsdelivr.net/npm//vega-lib?noext\",\n",
       "      \"vega-lite\": \"https://cdn.jsdelivr.net/npm//vega-lite@4.8.1?noext\",\n",
       "      \"vega-embed\": \"https://cdn.jsdelivr.net/npm//vega-embed@6?noext\",\n",
       "    };\n",
       "\n",
       "    function loadScript(lib) {\n",
       "      return new Promise(function(resolve, reject) {\n",
       "        var s = document.createElement('script');\n",
       "        s.src = paths[lib];\n",
       "        s.async = true;\n",
       "        s.onload = () => resolve(paths[lib]);\n",
       "        s.onerror = () => reject(`Error loading script: ${paths[lib]}`);\n",
       "        document.getElementsByTagName(\"head\")[0].appendChild(s);\n",
       "      });\n",
       "    }\n",
       "\n",
       "    function showError(err) {\n",
       "      outputDiv.innerHTML = `<div class=\"error\" style=\"color:red;\">${err}</div>`;\n",
       "      throw err;\n",
       "    }\n",
       "\n",
       "    function displayChart(vegaEmbed) {\n",
       "      vegaEmbed(outputDiv, spec, embedOpt)\n",
       "        .catch(err => showError(`Javascript Error: ${err.message}<br>This usually means there's a typo in your chart specification. See the javascript console for the full traceback.`));\n",
       "    }\n",
       "\n",
       "    if(typeof define === \"function\" && define.amd) {\n",
       "      requirejs.config({paths});\n",
       "      require([\"vega-embed\"], displayChart, err => showError(`Error loading script: ${err.message}`));\n",
       "    } else if (typeof vegaEmbed === \"function\") {\n",
       "      displayChart(vegaEmbed);\n",
       "    } else {\n",
       "      loadScript(\"vega\")\n",
       "        .then(() => loadScript(\"vega-lite\"))\n",
       "        .then(() => loadScript(\"vega-embed\"))\n",
       "        .catch(showError)\n",
       "        .then(() => displayChart(vegaEmbed));\n",
       "    }\n",
       "  })({\"config\": {\"view\": {\"continuousWidth\": 400, \"continuousHeight\": 300}}, \"hconcat\": [{\"layer\": [{\"mark\": \"bar\", \"encoding\": {\"color\": {\"condition\": {\"value\": \"orange\", \"test\": \"(datum.emotion === 'fear')\"}, \"value\": \"#0570b0\"}, \"x\": {\"type\": \"quantitative\", \"axis\": {\"format\": \".0%\"}, \"field\": \"percent\"}, \"y\": {\"type\": \"nominal\", \"field\": \"emotion\", \"sort\": \"-x\"}}, \"title\": \"Categories with 2 or more mentions | n= 49\"}, {\"mark\": {\"type\": \"text\", \"align\": \"left\", \"baseline\": \"middle\", \"dx\": 3, \"fontSize\": 12}, \"encoding\": {\"color\": {\"condition\": {\"value\": \"orange\", \"test\": \"(datum.emotion === 'fear')\"}, \"value\": \"#0570b0\"}, \"text\": {\"type\": \"quantitative\", \"field\": \"percent\", \"format\": \".1%\"}, \"x\": {\"type\": \"quantitative\", \"axis\": {\"format\": \".0%\"}, \"field\": \"percent\"}, \"y\": {\"type\": \"nominal\", \"field\": \"emotion\", \"sort\": \"-x\"}}, \"title\": \"Categories with 2 or more mentions | n= 49\"}, {\"data\": {\"name\": \"data-25383f6d1dddef03557ff5fb4f5b6a4c\"}, \"mark\": {\"type\": \"image\", \"align\": \"center\", \"height\": 150, \"width\": 150, \"xOffset\": -100, \"yOffset\": 230}, \"encoding\": {\"url\": {\"type\": \"nominal\", \"field\": \"url\"}}}], \"data\": {\"name\": \"data-cfc0c647c53424cb7ada12b80bb41d35\"}, \"width\": 200}, {\"layer\": [{\"mark\": \"bar\", \"encoding\": {\"color\": {\"condition\": {\"value\": \"orange\", \"test\": \"(datum.emotion === 'fear')\"}, \"value\": \"#0570b0\"}, \"x\": {\"type\": \"quantitative\", \"axis\": {\"format\": \".0%\"}, \"field\": \"percent\"}, \"y\": {\"type\": \"nominal\", \"field\": \"emotion\", \"sort\": \"-x\"}}, \"title\": \"Categories with 2 or more mentions | n= 61\"}, {\"mark\": {\"type\": \"text\", \"align\": \"left\", \"baseline\": \"middle\", \"dx\": 3, \"fontSize\": 12}, \"encoding\": {\"color\": {\"condition\": {\"value\": \"orange\", \"test\": \"(datum.emotion === 'fear')\"}, \"value\": \"#0570b0\"}, \"text\": {\"type\": \"quantitative\", \"field\": \"percent\", \"format\": \".1%\"}, \"x\": {\"type\": \"quantitative\", \"axis\": {\"format\": \".0%\"}, \"field\": \"percent\"}, \"y\": {\"type\": \"nominal\", \"field\": \"emotion\", \"sort\": \"-x\"}}, \"title\": \"Categories with 2 or more mentions | n= 61\"}], \"data\": {\"name\": \"data-c81798b8760acc4f95763a347a25b19f\"}, \"width\": 200}, {\"layer\": [{\"mark\": \"bar\", \"encoding\": {\"color\": {\"condition\": {\"value\": \"orange\", \"test\": \"(datum.emotion === 'fear')\"}, \"value\": \"#0570b0\"}, \"x\": {\"type\": \"quantitative\", \"axis\": {\"format\": \".0%\"}, \"field\": \"borda score\"}, \"y\": {\"type\": \"nominal\", \"field\": \"emotion\", \"sort\": \"-x\"}}, \"title\": \"Dueling bandits ranking | Top: 35\"}, {\"mark\": {\"type\": \"text\", \"align\": \"left\", \"baseline\": \"middle\", \"dx\": 3, \"fontSize\": 12}, \"encoding\": {\"color\": {\"condition\": {\"value\": \"orange\", \"test\": \"(datum.emotion === 'fear')\"}, \"value\": \"#0570b0\"}, \"text\": {\"type\": \"quantitative\", \"field\": \"borda score\"}, \"x\": {\"type\": \"quantitative\", \"axis\": {\"format\": \".0%\"}, \"field\": \"borda score\"}, \"y\": {\"type\": \"nominal\", \"field\": \"emotion\", \"sort\": \"-x\"}}, \"title\": \"Dueling bandits ranking | Top: 35\"}], \"data\": {\"name\": \"data-6c2fb6c508219b8e80aea6b55a0648cb\"}, \"width\": 200}], \"$schema\": \"https://vega.github.io/schema/vega-lite/v4.8.1.json\", \"datasets\": {\"data-cfc0c647c53424cb7ada12b80bb41d35\": [{\"counts\": 29, \"emotion\": \"fear\", \"percent\": 0.5686274509803921}, {\"counts\": 9, \"emotion\": \"disgust\", \"percent\": 0.17647058823529413}, {\"counts\": 5, \"emotion\": \"surpris\", \"percent\": 0.09803921568627451}, {\"counts\": 4, \"emotion\": \"sad\", \"percent\": 0.0784313725490196}, {\"counts\": 2, \"emotion\": \"other\", \"percent\": 0.0392156862745098}], \"data-25383f6d1dddef03557ff5fb4f5b6a4c\": [{\"url\": \"https://uwmadison.co1.qualtrics.com/ControlPanel/Graphic.php?IM=IM_54KW05fRgzNmLfE\"}], \"data-c81798b8760acc4f95763a347a25b19f\": [{\"counts\": 12, \"emotion\": \"disgust\", \"percent\": 0.13953488372093023}, {\"counts\": 10, \"emotion\": \"sad\", \"percent\": 0.11627906976744186}, {\"counts\": 8, \"emotion\": \"scare\", \"percent\": 0.09302325581395349}, {\"counts\": 7, \"emotion\": \"surpris\", \"percent\": 0.08139534883720931}, {\"counts\": 6, \"emotion\": \"shock\", \"percent\": 0.06976744186046512}, {\"counts\": 4, \"emotion\": \"confus\", \"percent\": 0.046511627906976744}, {\"counts\": 3, \"emotion\": \"upset\", \"percent\": 0.03488372093023256}, {\"counts\": 3, \"emotion\": \"worri\", \"percent\": 0.03488372093023256}, {\"counts\": 2, \"emotion\": \"frighten\", \"percent\": 0.023255813953488372}, {\"counts\": 2, \"emotion\": \"fear\", \"percent\": 0.023255813953488372}, {\"counts\": 2, \"emotion\": \"supris\", \"percent\": 0.023255813953488372}, {\"counts\": 2, \"emotion\": \"silli\", \"percent\": 0.023255813953488372}], \"data-6c2fb6c508219b8e80aea6b55a0648cb\": [{\"Rank\": 0, \"emotion\": \"distraught\", \"borda score\": 0.9, \"Precision\": 0.09}, {\"Rank\": 1, \"emotion\": \"frightened\", \"borda score\": 0.89, \"Precision\": 0.09}, {\"Rank\": 2, \"emotion\": \"unpleasant\", \"borda score\": 0.83, \"Precision\": 0.11}, {\"Rank\": 3, \"emotion\": \"disgusted\", \"borda score\": 0.82, \"Precision\": 0.12}, {\"Rank\": 4, \"emotion\": \"scared\", \"borda score\": 0.82, \"Precision\": 0.12}, {\"Rank\": 5, \"emotion\": \"uncomfortable\", \"borda score\": 0.8, \"Precision\": 0.12}, {\"Rank\": 6, \"emotion\": \"concerned\", \"borda score\": 0.78, \"Precision\": 0.14}, {\"Rank\": 7, \"emotion\": \"anxious\", \"borda score\": 0.76, \"Precision\": 0.15}, {\"Rank\": 8, \"emotion\": \"annoyed\", \"borda score\": 0.71, \"Precision\": 0.17}, {\"Rank\": 9, \"emotion\": \"nervous\", \"borda score\": 0.68, \"Precision\": 0.19}, {\"Rank\": 10, \"emotion\": \"intrigued\", \"borda score\": 0.66, \"Precision\": 0.19}, {\"Rank\": 11, \"emotion\": \"confused\", \"borda score\": 0.65, \"Precision\": 0.2}, {\"Rank\": 12, \"emotion\": \"surprised\", \"borda score\": 0.64, \"Precision\": 0.19}, {\"Rank\": 13, \"emotion\": \"unhappy\", \"borda score\": 0.62, \"Precision\": 0.2}, {\"Rank\": 14, \"emotion\": \"shocked\", \"borda score\": 0.61, \"Precision\": 0.21}, {\"Rank\": 15, \"emotion\": \"worried\", \"borda score\": 0.61, \"Precision\": 0.19}, {\"Rank\": 16, \"emotion\": \"strange\", \"borda score\": 0.59, \"Precision\": 0.19}, {\"Rank\": 17, \"emotion\": \"bad\", \"borda score\": 0.59, \"Precision\": 0.21}, {\"Rank\": 18, \"emotion\": \"goofy\", \"borda score\": 0.59, \"Precision\": 0.21}, {\"Rank\": 19, \"emotion\": \"disbelief\", \"borda score\": 0.57, \"Precision\": 0.22}, {\"Rank\": 20, \"emotion\": \"dislike\", \"borda score\": 0.56, \"Precision\": 0.24}, {\"Rank\": 21, \"emotion\": \"crying\", \"borda score\": 0.53, \"Precision\": 0.26}, {\"Rank\": 22, \"emotion\": \"upset\", \"borda score\": 0.53, \"Precision\": 0.24}, {\"Rank\": 23, \"emotion\": \"mad\", \"borda score\": 0.46, \"Precision\": 0.28}, {\"Rank\": 24, \"emotion\": \"crazy\", \"borda score\": 0.46, \"Precision\": 0.28}, {\"Rank\": 25, \"emotion\": \"bewildered\", \"borda score\": 0.43, \"Precision\": 0.27}, {\"Rank\": 26, \"emotion\": \"hurt\", \"borda score\": 0.43, \"Precision\": 0.27}, {\"Rank\": 27, \"emotion\": \"sad\", \"borda score\": 0.42, \"Precision\": 0.29}, {\"Rank\": 28, \"emotion\": \"funny\", \"borda score\": 0.4, \"Precision\": 0.32}, {\"Rank\": 29, \"emotion\": \"sacred\", \"borda score\": 0.4, \"Precision\": 0.32}, {\"Rank\": 30, \"emotion\": \"afraid\", \"borda score\": 0.4, \"Precision\": 0.32}, {\"Rank\": 31, \"emotion\": \"angry\", \"borda score\": 0.4, \"Precision\": 0.32}, {\"Rank\": 32, \"emotion\": \"fear\", \"borda score\": 0.36, \"Precision\": 0.3}, {\"Rank\": 33, \"emotion\": \"happy\", \"borda score\": 0.33, \"Precision\": 0.33}, {\"Rank\": 34, \"emotion\": \"boring\", \"borda score\": 0.29, \"Precision\": 0.38}]}}, {\"mode\": \"vega-lite\"});\n",
       "</script>"
      ],
      "text/plain": [
       "alt.HConcatChart(...)"
      ]
     },
     "execution_count": 49,
     "metadata": {},
     "output_type": "execute_result"
    }
   ],
   "source": [
    "fear_bma_next_panel = (fear_bma_forced.properties(width=200) | fear_bma_free.properties(width=200) | fear_bma_next.properties(width=200))\n",
    "fear_bma_next_panel"
   ]
  },
  {
   "cell_type": "code",
   "execution_count": 50,
   "id": "0fad71b0-335a-4618-9214-65f3a86df76c",
   "metadata": {},
   "outputs": [],
   "source": [
    "save(fear_bma_next_panel, \"../../emotions_dashboard/data/fear_bma_next_panel.png\")"
   ]
  },
  {
   "cell_type": "markdown",
   "id": "8216d58a-759b-45a0-bfcb-8c88a8d5dbdf",
   "metadata": {},
   "source": [
    "## Fear - White female"
   ]
  },
  {
   "cell_type": "code",
   "execution_count": 51,
   "id": "4997b476-ce7d-4e19-9ea3-e9b27f05ee1b",
   "metadata": {},
   "outputs": [],
   "source": [
    "fear_wfa_forced = photo_chart(df_emo_answers_forced, 'fear',  20, df_forced_labels, emotion_st='fear', n_mentions=2, photo=True)\n",
    "fear_wfa_free = photo_chart(df_emo_answers_free, 'fear',  20, df_free_labels, emotion_st='fear', n_mentions=2)"
   ]
  },
  {
   "cell_type": "code",
   "execution_count": 52,
   "id": "42bd63c6-54de-47e6-ae5e-9a7b60528ad0",
   "metadata": {},
   "outputs": [],
   "source": [
    "path = '../../emo-ranking-next/fear_white_female/borda_lilucb_ranking.csv'\n",
    "\n",
    "fear_wfa_next = next_chart_wrapper(path, emotion='fear', head=15)"
   ]
  },
  {
   "cell_type": "code",
   "execution_count": 53,
   "id": "554f43dc-b9cc-4165-a47e-331dd7f063f9",
   "metadata": {},
   "outputs": [
    {
     "data": {
      "text/html": [
       "\n",
       "<div id=\"altair-viz-a270383431b945b58985336c24631c1e\"></div>\n",
       "<script type=\"text/javascript\">\n",
       "  (function(spec, embedOpt){\n",
       "    let outputDiv = document.currentScript.previousElementSibling;\n",
       "    if (outputDiv.id !== \"altair-viz-a270383431b945b58985336c24631c1e\") {\n",
       "      outputDiv = document.getElementById(\"altair-viz-a270383431b945b58985336c24631c1e\");\n",
       "    }\n",
       "    const paths = {\n",
       "      \"vega\": \"https://cdn.jsdelivr.net/npm//vega@5?noext\",\n",
       "      \"vega-lib\": \"https://cdn.jsdelivr.net/npm//vega-lib?noext\",\n",
       "      \"vega-lite\": \"https://cdn.jsdelivr.net/npm//vega-lite@4.8.1?noext\",\n",
       "      \"vega-embed\": \"https://cdn.jsdelivr.net/npm//vega-embed@6?noext\",\n",
       "    };\n",
       "\n",
       "    function loadScript(lib) {\n",
       "      return new Promise(function(resolve, reject) {\n",
       "        var s = document.createElement('script');\n",
       "        s.src = paths[lib];\n",
       "        s.async = true;\n",
       "        s.onload = () => resolve(paths[lib]);\n",
       "        s.onerror = () => reject(`Error loading script: ${paths[lib]}`);\n",
       "        document.getElementsByTagName(\"head\")[0].appendChild(s);\n",
       "      });\n",
       "    }\n",
       "\n",
       "    function showError(err) {\n",
       "      outputDiv.innerHTML = `<div class=\"error\" style=\"color:red;\">${err}</div>`;\n",
       "      throw err;\n",
       "    }\n",
       "\n",
       "    function displayChart(vegaEmbed) {\n",
       "      vegaEmbed(outputDiv, spec, embedOpt)\n",
       "        .catch(err => showError(`Javascript Error: ${err.message}<br>This usually means there's a typo in your chart specification. See the javascript console for the full traceback.`));\n",
       "    }\n",
       "\n",
       "    if(typeof define === \"function\" && define.amd) {\n",
       "      requirejs.config({paths});\n",
       "      require([\"vega-embed\"], displayChart, err => showError(`Error loading script: ${err.message}`));\n",
       "    } else if (typeof vegaEmbed === \"function\") {\n",
       "      displayChart(vegaEmbed);\n",
       "    } else {\n",
       "      loadScript(\"vega\")\n",
       "        .then(() => loadScript(\"vega-lite\"))\n",
       "        .then(() => loadScript(\"vega-embed\"))\n",
       "        .catch(showError)\n",
       "        .then(() => displayChart(vegaEmbed));\n",
       "    }\n",
       "  })({\"config\": {\"view\": {\"continuousWidth\": 400, \"continuousHeight\": 300}}, \"hconcat\": [{\"layer\": [{\"mark\": \"bar\", \"encoding\": {\"color\": {\"condition\": {\"value\": \"orange\", \"test\": \"(datum.emotion === 'fear')\"}, \"value\": \"#0570b0\"}, \"x\": {\"type\": \"quantitative\", \"axis\": {\"format\": \".0%\"}, \"field\": \"percent\"}, \"y\": {\"type\": \"nominal\", \"field\": \"emotion\", \"sort\": \"-x\"}}, \"title\": \"Categories with 2 or more mentions | n= 48\"}, {\"mark\": {\"type\": \"text\", \"align\": \"left\", \"baseline\": \"middle\", \"dx\": 3, \"fontSize\": 12}, \"encoding\": {\"color\": {\"condition\": {\"value\": \"orange\", \"test\": \"(datum.emotion === 'fear')\"}, \"value\": \"#0570b0\"}, \"text\": {\"type\": \"quantitative\", \"field\": \"percent\", \"format\": \".1%\"}, \"x\": {\"type\": \"quantitative\", \"axis\": {\"format\": \".0%\"}, \"field\": \"percent\"}, \"y\": {\"type\": \"nominal\", \"field\": \"emotion\", \"sort\": \"-x\"}}, \"title\": \"Categories with 2 or more mentions | n= 48\"}, {\"data\": {\"name\": \"data-de9b636e2ec8b8355df2fd7986441fdb\"}, \"mark\": {\"type\": \"image\", \"align\": \"center\", \"height\": 150, \"width\": 150, \"xOffset\": -100, \"yOffset\": 220}, \"encoding\": {\"url\": {\"type\": \"nominal\", \"field\": \"url\"}}}], \"data\": {\"name\": \"data-6516bccdffa9a8395367169b440b495d\"}, \"width\": 200}, {\"layer\": [{\"mark\": \"bar\", \"encoding\": {\"color\": {\"condition\": {\"value\": \"orange\", \"test\": \"(datum.emotion === 'fear')\"}, \"value\": \"#0570b0\"}, \"x\": {\"type\": \"quantitative\", \"axis\": {\"format\": \".0%\"}, \"field\": \"percent\"}, \"y\": {\"type\": \"nominal\", \"field\": \"emotion\", \"sort\": \"-x\"}}, \"title\": \"Categories with 2 or more mentions | n= 58\"}, {\"mark\": {\"type\": \"text\", \"align\": \"left\", \"baseline\": \"middle\", \"dx\": 3, \"fontSize\": 12}, \"encoding\": {\"color\": {\"condition\": {\"value\": \"orange\", \"test\": \"(datum.emotion === 'fear')\"}, \"value\": \"#0570b0\"}, \"text\": {\"type\": \"quantitative\", \"field\": \"percent\", \"format\": \".1%\"}, \"x\": {\"type\": \"quantitative\", \"axis\": {\"format\": \".0%\"}, \"field\": \"percent\"}, \"y\": {\"type\": \"nominal\", \"field\": \"emotion\", \"sort\": \"-x\"}}, \"title\": \"Categories with 2 or more mentions | n= 58\"}], \"data\": {\"name\": \"data-b23db57d75ab2f00c5325ebc58a423ba\"}, \"width\": 200}, {\"layer\": [{\"mark\": \"bar\", \"encoding\": {\"color\": {\"condition\": {\"value\": \"orange\", \"test\": \"(datum.emotion === 'fear')\"}, \"value\": \"#0570b0\"}, \"x\": {\"type\": \"quantitative\", \"axis\": {\"format\": \".0%\"}, \"field\": \"borda score\"}, \"y\": {\"type\": \"nominal\", \"field\": \"emotion\", \"sort\": \"-x\"}}, \"title\": \"Dueling bandits ranking | Top: 15\"}, {\"mark\": {\"type\": \"text\", \"align\": \"left\", \"baseline\": \"middle\", \"dx\": 3, \"fontSize\": 12}, \"encoding\": {\"color\": {\"condition\": {\"value\": \"orange\", \"test\": \"(datum.emotion === 'fear')\"}, \"value\": \"#0570b0\"}, \"text\": {\"type\": \"quantitative\", \"field\": \"borda score\"}, \"x\": {\"type\": \"quantitative\", \"axis\": {\"format\": \".0%\"}, \"field\": \"borda score\"}, \"y\": {\"type\": \"nominal\", \"field\": \"emotion\", \"sort\": \"-x\"}}, \"title\": \"Dueling bandits ranking | Top: 15\"}], \"data\": {\"name\": \"data-7ba35e2ca435c505f160ffbe69f69add\"}, \"width\": 200}], \"$schema\": \"https://vega.github.io/schema/vega-lite/v4.8.1.json\", \"datasets\": {\"data-6516bccdffa9a8395367169b440b495d\": [{\"counts\": 32, \"emotion\": \"fear\", \"percent\": 0.6274509803921569}, {\"counts\": 12, \"emotion\": \"surpris\", \"percent\": 0.23529411764705882}, {\"counts\": 2, \"emotion\": \"disgust\", \"percent\": 0.0392156862745098}, {\"counts\": 2, \"emotion\": \"sad\", \"percent\": 0.0392156862745098}], \"data-de9b636e2ec8b8355df2fd7986441fdb\": [{\"url\": \"https://uwmadison.co1.qualtrics.com/ControlPanel/Graphic.php?IM=IM_e38mxw6nO1WY6Cq\"}], \"data-b23db57d75ab2f00c5325ebc58a423ba\": [{\"counts\": 16, \"emotion\": \"scare\", \"percent\": 0.21621621621621623}, {\"counts\": 9, \"emotion\": \"shock\", \"percent\": 0.12162162162162163}, {\"counts\": 6, \"emotion\": \"surpris\", \"percent\": 0.08108108108108109}, {\"counts\": 6, \"emotion\": \"disgust\", \"percent\": 0.08108108108108109}, {\"counts\": 4, \"emotion\": \"worri\", \"percent\": 0.05405405405405406}, {\"counts\": 3, \"emotion\": \"confus\", \"percent\": 0.04054054054054054}, {\"counts\": 3, \"emotion\": \"angri\", \"percent\": 0.04054054054054054}, {\"counts\": 3, \"emotion\": \"upset\", \"percent\": 0.04054054054054054}, {\"counts\": 2, \"emotion\": \"fear\", \"percent\": 0.02702702702702703}, {\"counts\": 2, \"emotion\": \"sad\", \"percent\": 0.02702702702702703}, {\"counts\": 2, \"emotion\": \"concern\", \"percent\": 0.02702702702702703}, {\"counts\": 2, \"emotion\": \"none\", \"percent\": 0.02702702702702703}], \"data-7ba35e2ca435c505f160ffbe69f69add\": [{\"Rank\": 0, \"emotion\": \"distraught\", \"borda score\": 0.92, \"Precision\": 0.09}, {\"Rank\": 1, \"emotion\": \"frightened\", \"borda score\": 0.88, \"Precision\": 0.1}, {\"Rank\": 2, \"emotion\": \"uncomfortable\", \"borda score\": 0.87, \"Precision\": 0.11}, {\"Rank\": 3, \"emotion\": \"bewildered\", \"borda score\": 0.85, \"Precision\": 0.12}, {\"Rank\": 4, \"emotion\": \"shocked\", \"borda score\": 0.8, \"Precision\": 0.14}, {\"Rank\": 5, \"emotion\": \"terrified\", \"borda score\": 0.77, \"Precision\": 0.12}, {\"Rank\": 6, \"emotion\": \"afraid\", \"borda score\": 0.77, \"Precision\": 0.15}, {\"Rank\": 7, \"emotion\": \"surprised\", \"borda score\": 0.75, \"Precision\": 0.16}, {\"Rank\": 8, \"emotion\": \"disbelief\", \"borda score\": 0.75, \"Precision\": 0.16}, {\"Rank\": 9, \"emotion\": \"concerned\", \"borda score\": 0.75, \"Precision\": 0.16}, {\"Rank\": 10, \"emotion\": \"confused\", \"borda score\": 0.74, \"Precision\": 0.16}, {\"Rank\": 11, \"emotion\": \"anxious\", \"borda score\": 0.72, \"Precision\": 0.18}, {\"Rank\": 12, \"emotion\": \"worried\", \"borda score\": 0.72, \"Precision\": 0.18}, {\"Rank\": 13, \"emotion\": \"fear\", \"borda score\": 0.67, \"Precision\": 0.19}, {\"Rank\": 14, \"emotion\": \"unpleasant\", \"borda score\": 0.64, \"Precision\": 0.27}]}}, {\"mode\": \"vega-lite\"});\n",
       "</script>"
      ],
      "text/plain": [
       "alt.HConcatChart(...)"
      ]
     },
     "execution_count": 53,
     "metadata": {},
     "output_type": "execute_result"
    }
   ],
   "source": [
    "fear_wfa_next_panel = (fear_wfa_forced.properties(width=200) | fear_wfa_free.properties(width=200) | fear_wfa_next.properties(width=200))\n",
    "fear_wfa_next_panel"
   ]
  },
  {
   "cell_type": "code",
   "execution_count": 54,
   "id": "aac29407-51d6-4dea-adfc-f5a632db2d07",
   "metadata": {},
   "outputs": [],
   "source": [
    "save(fear_wfa_next_panel, \"../../emotions_dashboard/data/fear_wfa_next_panel.png\")"
   ]
  },
  {
   "cell_type": "markdown",
   "id": "de354dc4-d9b6-48e8-934e-5b9ac6c7994a",
   "metadata": {},
   "source": [
    "## Fear - White male"
   ]
  },
  {
   "cell_type": "code",
   "execution_count": 55,
   "id": "359a628a-a08c-458b-af05-5664f83a8e82",
   "metadata": {},
   "outputs": [],
   "source": [
    "fear_wma_forced = photo_chart(df_emo_answers_forced, 'fear',  6, df_forced_labels, emotion_st='fear', n_mentions=2, photo=True, yoffset=250)\n",
    "fear_wma_free = photo_chart(df_emo_answers_free, 'fear',  6, df_free_labels, emotion_st='fear', n_mentions=2)"
   ]
  },
  {
   "cell_type": "code",
   "execution_count": 56,
   "id": "50002a0d-c4f0-4716-86bb-6add1628e578",
   "metadata": {},
   "outputs": [],
   "source": [
    "path = '../../emo-ranking-next/fear_white_male/borda_lilucb_ranking.csv'\n",
    "\n",
    "fear_wma_next = next_chart_wrapper(path, emotion='fear', head=15)"
   ]
  },
  {
   "cell_type": "code",
   "execution_count": 57,
   "id": "7c7fc1b5-d83f-4f5f-ae99-c5b285fae6c3",
   "metadata": {},
   "outputs": [
    {
     "data": {
      "text/html": [
       "\n",
       "<div id=\"altair-viz-757ce1aac4954062908f36702f6bc362\"></div>\n",
       "<script type=\"text/javascript\">\n",
       "  (function(spec, embedOpt){\n",
       "    let outputDiv = document.currentScript.previousElementSibling;\n",
       "    if (outputDiv.id !== \"altair-viz-757ce1aac4954062908f36702f6bc362\") {\n",
       "      outputDiv = document.getElementById(\"altair-viz-757ce1aac4954062908f36702f6bc362\");\n",
       "    }\n",
       "    const paths = {\n",
       "      \"vega\": \"https://cdn.jsdelivr.net/npm//vega@5?noext\",\n",
       "      \"vega-lib\": \"https://cdn.jsdelivr.net/npm//vega-lib?noext\",\n",
       "      \"vega-lite\": \"https://cdn.jsdelivr.net/npm//vega-lite@4.8.1?noext\",\n",
       "      \"vega-embed\": \"https://cdn.jsdelivr.net/npm//vega-embed@6?noext\",\n",
       "    };\n",
       "\n",
       "    function loadScript(lib) {\n",
       "      return new Promise(function(resolve, reject) {\n",
       "        var s = document.createElement('script');\n",
       "        s.src = paths[lib];\n",
       "        s.async = true;\n",
       "        s.onload = () => resolve(paths[lib]);\n",
       "        s.onerror = () => reject(`Error loading script: ${paths[lib]}`);\n",
       "        document.getElementsByTagName(\"head\")[0].appendChild(s);\n",
       "      });\n",
       "    }\n",
       "\n",
       "    function showError(err) {\n",
       "      outputDiv.innerHTML = `<div class=\"error\" style=\"color:red;\">${err}</div>`;\n",
       "      throw err;\n",
       "    }\n",
       "\n",
       "    function displayChart(vegaEmbed) {\n",
       "      vegaEmbed(outputDiv, spec, embedOpt)\n",
       "        .catch(err => showError(`Javascript Error: ${err.message}<br>This usually means there's a typo in your chart specification. See the javascript console for the full traceback.`));\n",
       "    }\n",
       "\n",
       "    if(typeof define === \"function\" && define.amd) {\n",
       "      requirejs.config({paths});\n",
       "      require([\"vega-embed\"], displayChart, err => showError(`Error loading script: ${err.message}`));\n",
       "    } else if (typeof vegaEmbed === \"function\") {\n",
       "      displayChart(vegaEmbed);\n",
       "    } else {\n",
       "      loadScript(\"vega\")\n",
       "        .then(() => loadScript(\"vega-lite\"))\n",
       "        .then(() => loadScript(\"vega-embed\"))\n",
       "        .catch(showError)\n",
       "        .then(() => displayChart(vegaEmbed));\n",
       "    }\n",
       "  })({\"config\": {\"view\": {\"continuousWidth\": 400, \"continuousHeight\": 300}}, \"hconcat\": [{\"layer\": [{\"mark\": \"bar\", \"encoding\": {\"color\": {\"condition\": {\"value\": \"orange\", \"test\": \"(datum.emotion === 'fear')\"}, \"value\": \"#0570b0\"}, \"x\": {\"type\": \"quantitative\", \"axis\": {\"format\": \".0%\"}, \"field\": \"percent\"}, \"y\": {\"type\": \"nominal\", \"field\": \"emotion\", \"sort\": \"-x\"}}, \"title\": \"Categories with 2 or more mentions | n= 49\"}, {\"mark\": {\"type\": \"text\", \"align\": \"left\", \"baseline\": \"middle\", \"dx\": 3, \"fontSize\": 12}, \"encoding\": {\"color\": {\"condition\": {\"value\": \"orange\", \"test\": \"(datum.emotion === 'fear')\"}, \"value\": \"#0570b0\"}, \"text\": {\"type\": \"quantitative\", \"field\": \"percent\", \"format\": \".1%\"}, \"x\": {\"type\": \"quantitative\", \"axis\": {\"format\": \".0%\"}, \"field\": \"percent\"}, \"y\": {\"type\": \"nominal\", \"field\": \"emotion\", \"sort\": \"-x\"}}, \"title\": \"Categories with 2 or more mentions | n= 49\"}, {\"data\": {\"name\": \"data-5b45deab7cb2540758f2ac6a4ce05197\"}, \"mark\": {\"type\": \"image\", \"align\": \"center\", \"height\": 150, \"width\": 150, \"xOffset\": -100, \"yOffset\": 250}, \"encoding\": {\"url\": {\"type\": \"nominal\", \"field\": \"url\"}}}], \"data\": {\"name\": \"data-3edf6fdbb14dab8e0a661c71201ebb3d\"}, \"width\": 200}, {\"layer\": [{\"mark\": \"bar\", \"encoding\": {\"color\": {\"condition\": {\"value\": \"orange\", \"test\": \"(datum.emotion === 'fear')\"}, \"value\": \"#0570b0\"}, \"x\": {\"type\": \"quantitative\", \"axis\": {\"format\": \".0%\"}, \"field\": \"percent\"}, \"y\": {\"type\": \"nominal\", \"field\": \"emotion\", \"sort\": \"-x\"}}, \"title\": \"Categories with 2 or more mentions | n= 55\"}, {\"mark\": {\"type\": \"text\", \"align\": \"left\", \"baseline\": \"middle\", \"dx\": 3, \"fontSize\": 12}, \"encoding\": {\"color\": {\"condition\": {\"value\": \"orange\", \"test\": \"(datum.emotion === 'fear')\"}, \"value\": \"#0570b0\"}, \"text\": {\"type\": \"quantitative\", \"field\": \"percent\", \"format\": \".1%\"}, \"x\": {\"type\": \"quantitative\", \"axis\": {\"format\": \".0%\"}, \"field\": \"percent\"}, \"y\": {\"type\": \"nominal\", \"field\": \"emotion\", \"sort\": \"-x\"}}, \"title\": \"Categories with 2 or more mentions | n= 55\"}], \"data\": {\"name\": \"data-32a56474c24c75063b8e047752fae37d\"}, \"width\": 200}, {\"layer\": [{\"mark\": \"bar\", \"encoding\": {\"color\": {\"condition\": {\"value\": \"orange\", \"test\": \"(datum.emotion === 'fear')\"}, \"value\": \"#0570b0\"}, \"x\": {\"type\": \"quantitative\", \"axis\": {\"format\": \".0%\"}, \"field\": \"borda score\"}, \"y\": {\"type\": \"nominal\", \"field\": \"emotion\", \"sort\": \"-x\"}}, \"title\": \"Dueling bandits ranking | Top: 15\"}, {\"mark\": {\"type\": \"text\", \"align\": \"left\", \"baseline\": \"middle\", \"dx\": 3, \"fontSize\": 12}, \"encoding\": {\"color\": {\"condition\": {\"value\": \"orange\", \"test\": \"(datum.emotion === 'fear')\"}, \"value\": \"#0570b0\"}, \"text\": {\"type\": \"quantitative\", \"field\": \"borda score\"}, \"x\": {\"type\": \"quantitative\", \"axis\": {\"format\": \".0%\"}, \"field\": \"borda score\"}, \"y\": {\"type\": \"nominal\", \"field\": \"emotion\", \"sort\": \"-x\"}}, \"title\": \"Dueling bandits ranking | Top: 15\"}], \"data\": {\"name\": \"data-d957828778a0ea7f0ac7fe9142d66b4e\"}, \"width\": 200}], \"$schema\": \"https://vega.github.io/schema/vega-lite/v4.8.1.json\", \"datasets\": {\"data-3edf6fdbb14dab8e0a661c71201ebb3d\": [{\"counts\": 23, \"emotion\": \"fear\", \"percent\": 0.45098039215686275}, {\"counts\": 14, \"emotion\": \"surpris\", \"percent\": 0.27450980392156865}, {\"counts\": 5, \"emotion\": \"uncertain\", \"percent\": 0.09803921568627451}, {\"counts\": 3, \"emotion\": \"disgust\", \"percent\": 0.058823529411764705}, {\"counts\": 2, \"emotion\": \"neutral\", \"percent\": 0.0392156862745098}, {\"counts\": 2, \"emotion\": \"other\", \"percent\": 0.0392156862745098}], \"data-5b45deab7cb2540758f2ac6a4ce05197\": [{\"url\": \"https://uwmadison.co1.qualtrics.com/ControlPanel/Graphic.php?IM=IM_1z4YnfSQVdhj1Rk\"}], \"data-32a56474c24c75063b8e047752fae37d\": [{\"counts\": 11, \"emotion\": \"shock\", \"percent\": 0.13414634146341464}, {\"counts\": 10, \"emotion\": \"scare\", \"percent\": 0.12195121951219512}, {\"counts\": 8, \"emotion\": \"surpris\", \"percent\": 0.0975609756097561}, {\"counts\": 5, \"emotion\": \"silli\", \"percent\": 0.06097560975609756}, {\"counts\": 4, \"emotion\": \"worri\", \"percent\": 0.04878048780487805}, {\"counts\": 3, \"emotion\": \"confus\", \"percent\": 0.036585365853658534}, {\"counts\": 2, \"emotion\": \"weird\", \"percent\": 0.024390243902439025}, {\"counts\": 2, \"emotion\": \"fear\", \"percent\": 0.024390243902439025}, {\"counts\": 2, \"emotion\": \"funni\", \"percent\": 0.024390243902439025}, {\"counts\": 2, \"emotion\": \"sad\", \"percent\": 0.024390243902439025}, {\"counts\": 2, \"emotion\": \"goofi\", \"percent\": 0.024390243902439025}, {\"counts\": 2, \"emotion\": \"concern\", \"percent\": 0.024390243902439025}, {\"counts\": 2, \"emotion\": \"disgust\", \"percent\": 0.024390243902439025}], \"data-d957828778a0ea7f0ac7fe9142d66b4e\": [{\"Rank\": 0, \"emotion\": \"nervous\", \"borda score\": 0.89, \"Precision\": 0.12}, {\"Rank\": 1, \"emotion\": \"frightened\", \"borda score\": 0.84, \"Precision\": 0.13}, {\"Rank\": 2, \"emotion\": \"anxious\", \"borda score\": 0.83, \"Precision\": 0.14}, {\"Rank\": 3, \"emotion\": \"confused\", \"borda score\": 0.82, \"Precision\": 0.12}, {\"Rank\": 4, \"emotion\": \"concerned\", \"borda score\": 0.8, \"Precision\": 0.15}, {\"Rank\": 5, \"emotion\": \"bewildered\", \"borda score\": 0.75, \"Precision\": 0.18}, {\"Rank\": 6, \"emotion\": \"unhappy\", \"borda score\": 0.74, \"Precision\": 0.15}, {\"Rank\": 7, \"emotion\": \"afraid\", \"borda score\": 0.7, \"Precision\": 0.19}, {\"Rank\": 8, \"emotion\": \"dislike\", \"borda score\": 0.68, \"Precision\": 0.16}, {\"Rank\": 9, \"emotion\": \"disbelief\", \"borda score\": 0.66, \"Precision\": 0.15}, {\"Rank\": 10, \"emotion\": \"fear\", \"borda score\": 0.64, \"Precision\": 0.19}, {\"Rank\": 11, \"emotion\": \"goofy\", \"borda score\": 0.61, \"Precision\": 0.24}, {\"Rank\": 12, \"emotion\": \"disgusted\", \"borda score\": 0.61, \"Precision\": 0.24}, {\"Rank\": 13, \"emotion\": \"playful\", \"borda score\": 0.61, \"Precision\": 0.24}, {\"Rank\": 14, \"emotion\": \"interested\", \"borda score\": 0.59, \"Precision\": 0.24}]}}, {\"mode\": \"vega-lite\"});\n",
       "</script>"
      ],
      "text/plain": [
       "alt.HConcatChart(...)"
      ]
     },
     "execution_count": 57,
     "metadata": {},
     "output_type": "execute_result"
    }
   ],
   "source": [
    "fear_wma_next_panel = (fear_wma_forced.properties(width=200) | fear_wma_free.properties(width=200) | fear_wma_next.properties(width=200))\n",
    "fear_wma_next_panel"
   ]
  },
  {
   "cell_type": "code",
   "execution_count": 58,
   "id": "16d9fb9c-bca1-42de-a996-5c143a27db89",
   "metadata": {},
   "outputs": [],
   "source": [
    "save(fear_wma_next_panel, \"../../emotions_dashboard/data/fear_wma_next_panel.png\")"
   ]
  },
  {
   "cell_type": "markdown",
   "id": "9aecf418-849a-4cd6-aaa3-b520671e9698",
   "metadata": {},
   "source": [
    "## Happiness - Female of color"
   ]
  },
  {
   "cell_type": "code",
   "execution_count": 59,
   "id": "c0730ba3-0296-42e5-843c-192b8cac100e",
   "metadata": {},
   "outputs": [],
   "source": [
    "happiness_bfa_forced = photo_chart(df_emo_answers_forced, 'happiness',  0, df_forced_labels, emotion_st='happi', n_mentions=2, photo=True)\n",
    "happiness_bfa_free = photo_chart(df_emo_answers_free, 'happiness',  0, df_free_labels, emotion_st='happi', n_mentions=2)"
   ]
  },
  {
   "cell_type": "code",
   "execution_count": 60,
   "id": "3f98abfb-0268-499b-8929-1654a625f549",
   "metadata": {},
   "outputs": [],
   "source": [
    "path = '../../emo-ranking-next/happiness_bipoc_female/borda_lilucb_ranking.csv'\n",
    "\n",
    "happiness_bfa_next = next_chart_wrapper(path, emotion='happy', head=30)"
   ]
  },
  {
   "cell_type": "code",
   "execution_count": 61,
   "id": "d9dd6ee3-a6f0-46db-89d3-76d4e18d8923",
   "metadata": {},
   "outputs": [
    {
     "data": {
      "text/html": [
       "\n",
       "<div id=\"altair-viz-74c403b100db4fc1bd8f28cb52a0c152\"></div>\n",
       "<script type=\"text/javascript\">\n",
       "  (function(spec, embedOpt){\n",
       "    let outputDiv = document.currentScript.previousElementSibling;\n",
       "    if (outputDiv.id !== \"altair-viz-74c403b100db4fc1bd8f28cb52a0c152\") {\n",
       "      outputDiv = document.getElementById(\"altair-viz-74c403b100db4fc1bd8f28cb52a0c152\");\n",
       "    }\n",
       "    const paths = {\n",
       "      \"vega\": \"https://cdn.jsdelivr.net/npm//vega@5?noext\",\n",
       "      \"vega-lib\": \"https://cdn.jsdelivr.net/npm//vega-lib?noext\",\n",
       "      \"vega-lite\": \"https://cdn.jsdelivr.net/npm//vega-lite@4.8.1?noext\",\n",
       "      \"vega-embed\": \"https://cdn.jsdelivr.net/npm//vega-embed@6?noext\",\n",
       "    };\n",
       "\n",
       "    function loadScript(lib) {\n",
       "      return new Promise(function(resolve, reject) {\n",
       "        var s = document.createElement('script');\n",
       "        s.src = paths[lib];\n",
       "        s.async = true;\n",
       "        s.onload = () => resolve(paths[lib]);\n",
       "        s.onerror = () => reject(`Error loading script: ${paths[lib]}`);\n",
       "        document.getElementsByTagName(\"head\")[0].appendChild(s);\n",
       "      });\n",
       "    }\n",
       "\n",
       "    function showError(err) {\n",
       "      outputDiv.innerHTML = `<div class=\"error\" style=\"color:red;\">${err}</div>`;\n",
       "      throw err;\n",
       "    }\n",
       "\n",
       "    function displayChart(vegaEmbed) {\n",
       "      vegaEmbed(outputDiv, spec, embedOpt)\n",
       "        .catch(err => showError(`Javascript Error: ${err.message}<br>This usually means there's a typo in your chart specification. See the javascript console for the full traceback.`));\n",
       "    }\n",
       "\n",
       "    if(typeof define === \"function\" && define.amd) {\n",
       "      requirejs.config({paths});\n",
       "      require([\"vega-embed\"], displayChart, err => showError(`Error loading script: ${err.message}`));\n",
       "    } else if (typeof vegaEmbed === \"function\") {\n",
       "      displayChart(vegaEmbed);\n",
       "    } else {\n",
       "      loadScript(\"vega\")\n",
       "        .then(() => loadScript(\"vega-lite\"))\n",
       "        .then(() => loadScript(\"vega-embed\"))\n",
       "        .catch(showError)\n",
       "        .then(() => displayChart(vegaEmbed));\n",
       "    }\n",
       "  })({\"config\": {\"view\": {\"continuousWidth\": 400, \"continuousHeight\": 300}}, \"hconcat\": [{\"layer\": [{\"mark\": \"bar\", \"encoding\": {\"color\": {\"condition\": {\"value\": \"orange\", \"test\": \"(datum.emotion === 'happi')\"}, \"value\": \"#0570b0\"}, \"x\": {\"type\": \"quantitative\", \"axis\": {\"format\": \".0%\"}, \"field\": \"percent\"}, \"y\": {\"type\": \"nominal\", \"field\": \"emotion\", \"sort\": \"-x\"}}, \"title\": \"Categories with 2 or more mentions | n= 48\"}, {\"mark\": {\"type\": \"text\", \"align\": \"left\", \"baseline\": \"middle\", \"dx\": 3, \"fontSize\": 12}, \"encoding\": {\"color\": {\"condition\": {\"value\": \"orange\", \"test\": \"(datum.emotion === 'happi')\"}, \"value\": \"#0570b0\"}, \"text\": {\"type\": \"quantitative\", \"field\": \"percent\", \"format\": \".1%\"}, \"x\": {\"type\": \"quantitative\", \"axis\": {\"format\": \".0%\"}, \"field\": \"percent\"}, \"y\": {\"type\": \"nominal\", \"field\": \"emotion\", \"sort\": \"-x\"}}, \"title\": \"Categories with 2 or more mentions | n= 48\"}, {\"data\": {\"name\": \"data-ffb4e26fa5cbea5c5901d004d5675ad7\"}, \"mark\": {\"type\": \"image\", \"align\": \"center\", \"height\": 150, \"width\": 150, \"xOffset\": -100, \"yOffset\": 220}, \"encoding\": {\"url\": {\"type\": \"nominal\", \"field\": \"url\"}}}], \"data\": {\"name\": \"data-acf1d98d0351c46a1c74428bdcdd8a0a\"}, \"width\": 200}, {\"layer\": [{\"mark\": \"bar\", \"encoding\": {\"color\": {\"condition\": {\"value\": \"orange\", \"test\": \"(datum.emotion === 'happi')\"}, \"value\": \"#0570b0\"}, \"x\": {\"type\": \"quantitative\", \"axis\": {\"format\": \".0%\"}, \"field\": \"percent\"}, \"y\": {\"type\": \"nominal\", \"field\": \"emotion\", \"sort\": \"-x\"}}, \"title\": \"Categories with 2 or more mentions | n= 44\"}, {\"mark\": {\"type\": \"text\", \"align\": \"left\", \"baseline\": \"middle\", \"dx\": 3, \"fontSize\": 12}, \"encoding\": {\"color\": {\"condition\": {\"value\": \"orange\", \"test\": \"(datum.emotion === 'happi')\"}, \"value\": \"#0570b0\"}, \"text\": {\"type\": \"quantitative\", \"field\": \"percent\", \"format\": \".1%\"}, \"x\": {\"type\": \"quantitative\", \"axis\": {\"format\": \".0%\"}, \"field\": \"percent\"}, \"y\": {\"type\": \"nominal\", \"field\": \"emotion\", \"sort\": \"-x\"}}, \"title\": \"Categories with 2 or more mentions | n= 44\"}], \"data\": {\"name\": \"data-8ac1f935f73c8df6ea3046a4987b88ae\"}, \"width\": 200}, {\"layer\": [{\"mark\": \"bar\", \"encoding\": {\"color\": {\"condition\": {\"value\": \"orange\", \"test\": \"(datum.emotion === 'happy')\"}, \"value\": \"#0570b0\"}, \"x\": {\"type\": \"quantitative\", \"axis\": {\"format\": \".0%\"}, \"field\": \"borda score\"}, \"y\": {\"type\": \"nominal\", \"field\": \"emotion\", \"sort\": \"-x\"}}, \"title\": \"Dueling bandits ranking | Top: 30\"}, {\"mark\": {\"type\": \"text\", \"align\": \"left\", \"baseline\": \"middle\", \"dx\": 3, \"fontSize\": 12}, \"encoding\": {\"color\": {\"condition\": {\"value\": \"orange\", \"test\": \"(datum.emotion === 'happy')\"}, \"value\": \"#0570b0\"}, \"text\": {\"type\": \"quantitative\", \"field\": \"borda score\"}, \"x\": {\"type\": \"quantitative\", \"axis\": {\"format\": \".0%\"}, \"field\": \"borda score\"}, \"y\": {\"type\": \"nominal\", \"field\": \"emotion\", \"sort\": \"-x\"}}, \"title\": \"Dueling bandits ranking | Top: 30\"}], \"data\": {\"name\": \"data-38d70e5e2f5369f47e0b99ca8dfbe2ea\"}, \"width\": 200}], \"$schema\": \"https://vega.github.io/schema/vega-lite/v4.8.1.json\", \"datasets\": {\"data-acf1d98d0351c46a1c74428bdcdd8a0a\": [{\"counts\": 22, \"emotion\": \"neutral\", \"percent\": 0.43137254901960786}, {\"counts\": 19, \"emotion\": \"happi\", \"percent\": 0.37254901960784315}, {\"counts\": 4, \"emotion\": \"other\", \"percent\": 0.0784313725490196}, {\"counts\": 3, \"emotion\": \"uncertain\", \"percent\": 0.058823529411764705}], \"data-ffb4e26fa5cbea5c5901d004d5675ad7\": [{\"url\": \"https://uwmadison.co1.qualtrics.com/ControlPanel/Graphic.php?IM=IM_5uIGlackw1zchRY\"}], \"data-8ac1f935f73c8df6ea3046a4987b88ae\": [{\"counts\": 19, \"emotion\": \"happi\", \"percent\": 0.2714285714285714}, {\"counts\": 9, \"emotion\": \"content\", \"percent\": 0.12857142857142856}, {\"counts\": 6, \"emotion\": \"calm\", \"percent\": 0.08571428571428572}, {\"counts\": 2, \"emotion\": \"smile\", \"percent\": 0.02857142857142857}, {\"counts\": 2, \"emotion\": \"chill\", \"percent\": 0.02857142857142857}, {\"counts\": 2, \"emotion\": \"surpris\", \"percent\": 0.02857142857142857}, {\"counts\": 2, \"emotion\": \"pleas\", \"percent\": 0.02857142857142857}, {\"counts\": 2, \"emotion\": \"startl\", \"percent\": 0.02857142857142857}], \"data-38d70e5e2f5369f47e0b99ca8dfbe2ea\": [{\"Rank\": 0, \"emotion\": \"proud\", \"borda score\": 0.82, \"Precision\": 0.07}, {\"Rank\": 1, \"emotion\": \"satisfied\", \"borda score\": 0.81, \"Precision\": 0.08}, {\"Rank\": 2, \"emotion\": \"enthusiastic\", \"borda score\": 0.74, \"Precision\": 0.11}, {\"Rank\": 3, \"emotion\": \"content\", \"borda score\": 0.72, \"Precision\": 0.12}, {\"Rank\": 4, \"emotion\": \"interested\", \"borda score\": 0.65, \"Precision\": 0.14}, {\"Rank\": 5, \"emotion\": \"eager\", \"borda score\": 0.62, \"Precision\": 0.16}, {\"Rank\": 6, \"emotion\": \"silly\", \"borda score\": 0.62, \"Precision\": 0.16}, {\"Rank\": 7, \"emotion\": \"pleased\", \"borda score\": 0.61, \"Precision\": 0.17}, {\"Rank\": 8, \"emotion\": \"cheerful\", \"borda score\": 0.61, \"Precision\": 0.16}, {\"Rank\": 9, \"emotion\": \"grinning\", \"borda score\": 0.61, \"Precision\": 0.16}, {\"Rank\": 10, \"emotion\": \"chill\", \"borda score\": 0.6, \"Precision\": 0.17}, {\"Rank\": 11, \"emotion\": \"calm\", \"borda score\": 0.6, \"Precision\": 0.17}, {\"Rank\": 12, \"emotion\": \"boring\", \"borda score\": 0.59, \"Precision\": 0.12}, {\"Rank\": 13, \"emotion\": \"intrigued\", \"borda score\": 0.56, \"Precision\": 0.13}, {\"Rank\": 14, \"emotion\": \"smiling\", \"borda score\": 0.56, \"Precision\": 0.19}, {\"Rank\": 15, \"emotion\": \"comfortable\", \"borda score\": 0.55, \"Precision\": 0.16}, {\"Rank\": 16, \"emotion\": \"well\", \"borda score\": 0.55, \"Precision\": 0.17}, {\"Rank\": 17, \"emotion\": \"confident\", \"borda score\": 0.52, \"Precision\": 0.21}, {\"Rank\": 18, \"emotion\": \"goofy\", \"borda score\": 0.52, \"Precision\": 0.18}, {\"Rank\": 19, \"emotion\": \"playful\", \"borda score\": 0.5, \"Precision\": 0.18}, {\"Rank\": 20, \"emotion\": \"cute\", \"borda score\": 0.44, \"Precision\": 0.24}, {\"Rank\": 21, \"emotion\": \"teeth\", \"borda score\": 0.43, \"Precision\": 0.15}, {\"Rank\": 22, \"emotion\": \"uncomfortable\", \"borda score\": 0.38, \"Precision\": 0.28}, {\"Rank\": 23, \"emotion\": \"funny\", \"borda score\": 0.38, \"Precision\": 0.28}, {\"Rank\": 24, \"emotion\": \"excited\", \"borda score\": 0.38, \"Precision\": 0.28}, {\"Rank\": 25, \"emotion\": \"surprised\", \"borda score\": 0.38, \"Precision\": 0.25}, {\"Rank\": 26, \"emotion\": \"happy\", \"borda score\": 0.35, \"Precision\": 0.2}, {\"Rank\": 27, \"emotion\": \"unpleasant\", \"borda score\": 0.33, \"Precision\": 0.26}, {\"Rank\": 28, \"emotion\": \"joyful\", \"borda score\": 0.3, \"Precision\": 0.32}, {\"Rank\": 29, \"emotion\": \"thrilled\", \"borda score\": 0.22, \"Precision\": 0.33}]}}, {\"mode\": \"vega-lite\"});\n",
       "</script>"
      ],
      "text/plain": [
       "alt.HConcatChart(...)"
      ]
     },
     "execution_count": 61,
     "metadata": {},
     "output_type": "execute_result"
    }
   ],
   "source": [
    "happiness_bfa_next_panel = (happiness_bfa_forced.properties(width=200) | happiness_bfa_free.properties(width=200) | happiness_bfa_next.properties(width=200))\n",
    "happiness_bfa_next_panel"
   ]
  },
  {
   "cell_type": "code",
   "execution_count": 62,
   "id": "bbfb372d-ee57-452d-8330-55eac6e996e8",
   "metadata": {},
   "outputs": [],
   "source": [
    "save(happiness_bfa_next_panel, \"../../emotions_dashboard/data/happiness_bfa_next_panel.png\")"
   ]
  },
  {
   "cell_type": "markdown",
   "id": "1dfc9f32-426f-4e7e-979f-9d2698b3e145",
   "metadata": {},
   "source": [
    "## Happiness - Male of color"
   ]
  },
  {
   "cell_type": "code",
   "execution_count": 63,
   "id": "6e2ff933-e3d2-4078-bc8c-888938956532",
   "metadata": {},
   "outputs": [],
   "source": [
    "happiness_bma_forced = photo_chart(df_emo_answers_forced, 'happiness',  2, df_forced_labels, emotion_st='happi', n_mentions=2, photo=True, yoffset=230)\n",
    "happiness_bma_free = photo_chart(df_emo_answers_free, 'happiness',  2, df_free_labels, emotion_st='happi', n_mentions=2)"
   ]
  },
  {
   "cell_type": "code",
   "execution_count": 64,
   "id": "fa6ffa8f-fdc1-4f18-9e22-d458fa9dceaf",
   "metadata": {},
   "outputs": [],
   "source": [
    "path = '../../emo-ranking-next/happiness_bipoc_male/borda_lilucb_ranking.csv'\n",
    "\n",
    "happiness_bma_next = next_chart_wrapper(path, emotion='happy', head=10)"
   ]
  },
  {
   "cell_type": "code",
   "execution_count": 65,
   "id": "93061155-3bb2-4668-bdc5-72d2e3e88e0d",
   "metadata": {},
   "outputs": [
    {
     "data": {
      "text/html": [
       "\n",
       "<div id=\"altair-viz-e35ded1e42864ea6876f03a8f6de970d\"></div>\n",
       "<script type=\"text/javascript\">\n",
       "  (function(spec, embedOpt){\n",
       "    let outputDiv = document.currentScript.previousElementSibling;\n",
       "    if (outputDiv.id !== \"altair-viz-e35ded1e42864ea6876f03a8f6de970d\") {\n",
       "      outputDiv = document.getElementById(\"altair-viz-e35ded1e42864ea6876f03a8f6de970d\");\n",
       "    }\n",
       "    const paths = {\n",
       "      \"vega\": \"https://cdn.jsdelivr.net/npm//vega@5?noext\",\n",
       "      \"vega-lib\": \"https://cdn.jsdelivr.net/npm//vega-lib?noext\",\n",
       "      \"vega-lite\": \"https://cdn.jsdelivr.net/npm//vega-lite@4.8.1?noext\",\n",
       "      \"vega-embed\": \"https://cdn.jsdelivr.net/npm//vega-embed@6?noext\",\n",
       "    };\n",
       "\n",
       "    function loadScript(lib) {\n",
       "      return new Promise(function(resolve, reject) {\n",
       "        var s = document.createElement('script');\n",
       "        s.src = paths[lib];\n",
       "        s.async = true;\n",
       "        s.onload = () => resolve(paths[lib]);\n",
       "        s.onerror = () => reject(`Error loading script: ${paths[lib]}`);\n",
       "        document.getElementsByTagName(\"head\")[0].appendChild(s);\n",
       "      });\n",
       "    }\n",
       "\n",
       "    function showError(err) {\n",
       "      outputDiv.innerHTML = `<div class=\"error\" style=\"color:red;\">${err}</div>`;\n",
       "      throw err;\n",
       "    }\n",
       "\n",
       "    function displayChart(vegaEmbed) {\n",
       "      vegaEmbed(outputDiv, spec, embedOpt)\n",
       "        .catch(err => showError(`Javascript Error: ${err.message}<br>This usually means there's a typo in your chart specification. See the javascript console for the full traceback.`));\n",
       "    }\n",
       "\n",
       "    if(typeof define === \"function\" && define.amd) {\n",
       "      requirejs.config({paths});\n",
       "      require([\"vega-embed\"], displayChart, err => showError(`Error loading script: ${err.message}`));\n",
       "    } else if (typeof vegaEmbed === \"function\") {\n",
       "      displayChart(vegaEmbed);\n",
       "    } else {\n",
       "      loadScript(\"vega\")\n",
       "        .then(() => loadScript(\"vega-lite\"))\n",
       "        .then(() => loadScript(\"vega-embed\"))\n",
       "        .catch(showError)\n",
       "        .then(() => displayChart(vegaEmbed));\n",
       "    }\n",
       "  })({\"config\": {\"view\": {\"continuousWidth\": 400, \"continuousHeight\": 300}}, \"hconcat\": [{\"layer\": [{\"mark\": \"bar\", \"encoding\": {\"color\": {\"condition\": {\"value\": \"orange\", \"test\": \"(datum.emotion === 'happi')\"}, \"value\": \"#0570b0\"}, \"x\": {\"type\": \"quantitative\", \"axis\": {\"format\": \".0%\"}, \"field\": \"percent\"}, \"y\": {\"type\": \"nominal\", \"field\": \"emotion\", \"sort\": \"-x\"}}, \"title\": \"Categories with 2 or more mentions | n= 50\"}, {\"mark\": {\"type\": \"text\", \"align\": \"left\", \"baseline\": \"middle\", \"dx\": 3, \"fontSize\": 12}, \"encoding\": {\"color\": {\"condition\": {\"value\": \"orange\", \"test\": \"(datum.emotion === 'happi')\"}, \"value\": \"#0570b0\"}, \"text\": {\"type\": \"quantitative\", \"field\": \"percent\", \"format\": \".1%\"}, \"x\": {\"type\": \"quantitative\", \"axis\": {\"format\": \".0%\"}, \"field\": \"percent\"}, \"y\": {\"type\": \"nominal\", \"field\": \"emotion\", \"sort\": \"-x\"}}, \"title\": \"Categories with 2 or more mentions | n= 50\"}, {\"data\": {\"name\": \"data-aced2402712c673fb1749409a80789bd\"}, \"mark\": {\"type\": \"image\", \"align\": \"center\", \"height\": 150, \"width\": 150, \"xOffset\": -100, \"yOffset\": 230}, \"encoding\": {\"url\": {\"type\": \"nominal\", \"field\": \"url\"}}}], \"data\": {\"name\": \"data-7b50f9bd5151933f400ee9c60df9ef28\"}, \"width\": 200}, {\"layer\": [{\"mark\": \"bar\", \"encoding\": {\"color\": {\"condition\": {\"value\": \"orange\", \"test\": \"(datum.emotion === 'happi')\"}, \"value\": \"#0570b0\"}, \"x\": {\"type\": \"quantitative\", \"axis\": {\"format\": \".0%\"}, \"field\": \"percent\"}, \"y\": {\"type\": \"nominal\", \"field\": \"emotion\", \"sort\": \"-x\"}}, \"title\": \"Categories with 2 or more mentions | n= 50\"}, {\"mark\": {\"type\": \"text\", \"align\": \"left\", \"baseline\": \"middle\", \"dx\": 3, \"fontSize\": 12}, \"encoding\": {\"color\": {\"condition\": {\"value\": \"orange\", \"test\": \"(datum.emotion === 'happi')\"}, \"value\": \"#0570b0\"}, \"text\": {\"type\": \"quantitative\", \"field\": \"percent\", \"format\": \".1%\"}, \"x\": {\"type\": \"quantitative\", \"axis\": {\"format\": \".0%\"}, \"field\": \"percent\"}, \"y\": {\"type\": \"nominal\", \"field\": \"emotion\", \"sort\": \"-x\"}}, \"title\": \"Categories with 2 or more mentions | n= 50\"}], \"data\": {\"name\": \"data-9d27bcce05a8aedec601c75cb3f592ef\"}, \"width\": 200}, {\"layer\": [{\"mark\": \"bar\", \"encoding\": {\"color\": {\"condition\": {\"value\": \"orange\", \"test\": \"(datum.emotion === 'happy')\"}, \"value\": \"#0570b0\"}, \"x\": {\"type\": \"quantitative\", \"axis\": {\"format\": \".0%\"}, \"field\": \"borda score\"}, \"y\": {\"type\": \"nominal\", \"field\": \"emotion\", \"sort\": \"-x\"}}, \"title\": \"Dueling bandits ranking | Top: 10\"}, {\"mark\": {\"type\": \"text\", \"align\": \"left\", \"baseline\": \"middle\", \"dx\": 3, \"fontSize\": 12}, \"encoding\": {\"color\": {\"condition\": {\"value\": \"orange\", \"test\": \"(datum.emotion === 'happy')\"}, \"value\": \"#0570b0\"}, \"text\": {\"type\": \"quantitative\", \"field\": \"borda score\"}, \"x\": {\"type\": \"quantitative\", \"axis\": {\"format\": \".0%\"}, \"field\": \"borda score\"}, \"y\": {\"type\": \"nominal\", \"field\": \"emotion\", \"sort\": \"-x\"}}, \"title\": \"Dueling bandits ranking | Top: 10\"}], \"data\": {\"name\": \"data-d1713ff2b585f0d995fe4a5793b2ffe0\"}, \"width\": 200}], \"$schema\": \"https://vega.github.io/schema/vega-lite/v4.8.1.json\", \"datasets\": {\"data-7b50f9bd5151933f400ee9c60df9ef28\": [{\"counts\": 36, \"emotion\": \"happi\", \"percent\": 0.7058823529411765}, {\"counts\": 8, \"emotion\": \"neutral\", \"percent\": 0.1568627450980392}, {\"counts\": 2, \"emotion\": \"uncertain\", \"percent\": 0.0392156862745098}, {\"counts\": 2, \"emotion\": \"surpris\", \"percent\": 0.0392156862745098}, {\"counts\": 2, \"emotion\": \"other\", \"percent\": 0.0392156862745098}], \"data-aced2402712c673fb1749409a80789bd\": [{\"url\": \"https://uwmadison.co1.qualtrics.com/ControlPanel/Graphic.php?IM=IM_aVKZzBmzWSoXCXY\"}], \"data-9d27bcce05a8aedec601c75cb3f592ef\": [{\"counts\": 28, \"emotion\": \"happi\", \"percent\": 0.3888888888888889}, {\"counts\": 4, \"emotion\": \"funni\", \"percent\": 0.05555555555555555}, {\"counts\": 4, \"emotion\": \"smile\", \"percent\": 0.05555555555555555}, {\"counts\": 4, \"emotion\": \"content\", \"percent\": 0.05555555555555555}, {\"counts\": 2, \"emotion\": \"chill\", \"percent\": 0.027777777777777776}, {\"counts\": 2, \"emotion\": \"silli\", \"percent\": 0.027777777777777776}, {\"counts\": 2, \"emotion\": \"calm\", \"percent\": 0.027777777777777776}, {\"counts\": 2, \"emotion\": \"friendli\", \"percent\": 0.027777777777777776}, {\"counts\": 2, \"emotion\": \"amus\", \"percent\": 0.027777777777777776}], \"data-d1713ff2b585f0d995fe4a5793b2ffe0\": [{\"Rank\": 0, \"emotion\": \"funny\", \"borda score\": 0.91, \"Precision\": 0.07}, {\"Rank\": 1, \"emotion\": \"smiling\", \"borda score\": 0.88, \"Precision\": 0.09}, {\"Rank\": 2, \"emotion\": \"pleased\", \"borda score\": 0.82, \"Precision\": 0.1}, {\"Rank\": 3, \"emotion\": \"confident\", \"borda score\": 0.82, \"Precision\": 0.1}, {\"Rank\": 4, \"emotion\": \"comfortable\", \"borda score\": 0.79, \"Precision\": 0.11}, {\"Rank\": 5, \"emotion\": \"content\", \"borda score\": 0.77, \"Precision\": 0.12}, {\"Rank\": 6, \"emotion\": \"happy\", \"borda score\": 0.75, \"Precision\": 0.13}, {\"Rank\": 7, \"emotion\": \"chill\", \"borda score\": 0.73, \"Precision\": 0.14}, {\"Rank\": 8, \"emotion\": \"joyful\", \"borda score\": 0.67, \"Precision\": 0.17}, {\"Rank\": 9, \"emotion\": \"teeth\", \"borda score\": 0.67, \"Precision\": 0.17}]}}, {\"mode\": \"vega-lite\"});\n",
       "</script>"
      ],
      "text/plain": [
       "alt.HConcatChart(...)"
      ]
     },
     "execution_count": 65,
     "metadata": {},
     "output_type": "execute_result"
    }
   ],
   "source": [
    "happiness_bma_next_panel = (happiness_bma_forced.properties(width=200) | happiness_bma_free.properties(width=200) | happiness_bma_next.properties(width=200))\n",
    "happiness_bma_next_panel"
   ]
  },
  {
   "cell_type": "code",
   "execution_count": 66,
   "id": "a5c8fdf8-2a27-4540-8c7e-7eb373f9e358",
   "metadata": {},
   "outputs": [],
   "source": [
    "save(happiness_bma_next_panel, \"../../emotions_dashboard/data/happiness_bma_next_panel.png\")"
   ]
  }
 ],
 "metadata": {
  "kernelspec": {
   "display_name": "Python 3 (ipykernel)",
   "language": "python",
   "name": "python3"
  },
  "language_info": {
   "codemirror_mode": {
    "name": "ipython",
    "version": 3
   },
   "file_extension": ".py",
   "mimetype": "text/x-python",
   "name": "python",
   "nbconvert_exporter": "python",
   "pygments_lexer": "ipython3",
   "version": "3.9.7"
  }
 },
 "nbformat": 4,
 "nbformat_minor": 5
}
