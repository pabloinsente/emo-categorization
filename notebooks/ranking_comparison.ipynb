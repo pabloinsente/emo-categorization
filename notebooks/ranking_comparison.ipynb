{
 "cells": [
  {
   "cell_type": "code",
   "execution_count": 1,
   "id": "4fee7492-09ca-4cf9-9a0d-aaadf212b8dd",
   "metadata": {},
   "outputs": [],
   "source": [
    "import pandas as pd\n",
    "import altair as alt\n",
    "import numpy as np\n",
    "from nltk.stem import PorterStemmer\n",
    "ps = PorterStemmer()"
   ]
  },
  {
   "cell_type": "markdown",
   "id": "53c34db2-9139-4283-bf45-f4c6cbc3ec0c",
   "metadata": {},
   "source": [
    "# Ranking comparison - surverys and dueuling-bandints"
   ]
  },
  {
   "cell_type": "markdown",
   "id": "3e7fc1bc-097b-463f-b077-1080cb762f39",
   "metadata": {},
   "source": [
    "## Read in data"
   ]
  },
  {
   "cell_type": "code",
   "execution_count": 2,
   "id": "3ea6fd81-fa3c-4377-acd4-ca7421d5ff3f",
   "metadata": {},
   "outputs": [],
   "source": [
    "df_free = pd.read_csv('../clean_data/free_choice_emotion_uw_students.csv')\n",
    "df_free_labels = pd.read_csv('../data/emotion_labels_free_choice.csv')\n",
    "\n",
    "df_forced = pd.read_csv('../clean_data/forced_choice_emotion_uw_students.csv')\n",
    "df_forced_labels = pd.read_csv('../data/emotion_labels.csv')"
   ]
  },
  {
   "cell_type": "code",
   "execution_count": 3,
   "id": "723ee7b9-433e-4367-9cf3-8fd8cc23f0a3",
   "metadata": {},
   "outputs": [],
   "source": [
    "df_emo_answers_free = df_free.loc[:, 'Q2.1_1':'Q195.1_4'] # get cols with words only\n",
    "df_emo_answers_forced = df_forced.loc[:, 'Q2.1':'Q195.1'] "
   ]
  },
  {
   "cell_type": "code",
   "execution_count": 4,
   "id": "2e0a0207-9828-4741-baed-a8cad1d87256",
   "metadata": {},
   "outputs": [],
   "source": [
    "def emotion_df_formated(df_emo_answers, emotion_label, df_labels):\n",
    "    df_emo_cat = df_emo_answers.copy() \n",
    "    df_emo_cat_t = df_emo_cat.T # transpose\n",
    "    df_emo_cat_t['photo_id'] = df_emo_cat_t.index # get index as col\n",
    "    df_emo_cat_t = df_emo_cat_t.reset_index(drop=True) # clean index\n",
    "    df_emo_cat_t_labels = pd.concat([df_emo_cat_t, df_labels], axis=1) # add metadata cols\n",
    "    df_label =  df_emo_cat_t_labels[df_emo_cat_t_labels['label'] == emotion_label]\n",
    "    \n",
    "    return df_label"
   ]
  },
  {
   "cell_type": "code",
   "execution_count": 5,
   "id": "a475409b-0f5b-436b-aab4-d5b02341aa04",
   "metadata": {},
   "outputs": [],
   "source": [
    "def formating_words(df, len_words=1, len_letters=2):\n",
    "    df_stack = df.stack().reset_index(drop=True) # stack as series\n",
    "    df_stack = df_stack.to_frame(name='emotion') # as DF\n",
    "    df_stack['emotion'] = df_stack['emotion'].str.strip() # remove blank spaces\n",
    "    df_stack['emotion'] = df_stack['emotion'].str.lower() # as lower case\n",
    "    df_stack['emotion'] = df_stack['emotion'].replace({'na':'none'}) \n",
    "    df_stack['len_words'] = df_stack['emotion'].str.split().apply(len) # cnt number of words\n",
    "    df_stack['len_letters'] = df_stack['emotion'].apply(len) # cont number of letters\n",
    "    # get df with single words of 3 or more letters\n",
    "    df_stack_single_word = df_stack[(df_stack['len_words'] == len_words) & (df_stack['len_letters'] > len_letters)] \n",
    "    return df_stack_single_word"
   ]
  },
  {
   "cell_type": "code",
   "execution_count": 6,
   "id": "7bb15d22-a772-4b5f-9092-86beb48a853b",
   "metadata": {},
   "outputs": [],
   "source": [
    "def simple_per_bar_concat(\n",
    "    df, title='Title', X='percent:Q', Y='emotion:N', \\\n",
    "    width=450, height=250, sort='-x', \\\n",
    "    text_size = 12, label_size = 11, title_size=12, \\\n",
    "    emotion='Some', color1='#0570b0', color2='orange'):\n",
    "    \n",
    "    bars = alt.Chart(df, title=title).mark_bar().encode(\n",
    "        alt.X(X, axis=alt.Axis(format='.0%')),\n",
    "        y=alt.Y(Y, sort=sort), \n",
    "        color=alt.condition(\n",
    "            alt.datum.emotion == emotion,\n",
    "            alt.value(color2),\n",
    "            alt.value(color1)\n",
    "        ))\n",
    "    \n",
    "    text = bars.mark_text(\n",
    "    align='left',\n",
    "    baseline='middle',\n",
    "    dx=3,  # Nudges text to right so it doesn't appear on top of the bar\n",
    "    fontSize=text_size\n",
    "    ).encode(\n",
    "        alt.Text(X, format='.1%')\n",
    "    )\n",
    "    \n",
    "    chart = (bars + text)\n",
    "    \n",
    "    return chart"
   ]
  },
  {
   "cell_type": "code",
   "execution_count": 7,
   "id": "c80c0f8a-be25-42c8-be04-c9691865fba6",
   "metadata": {},
   "outputs": [],
   "source": [
    "def simple_cnt_bar_concat(\n",
    "    df, title='Title', X='percent:Q', Y='emotion:N', \\\n",
    "    width=450, height=250, sort='-x', \\\n",
    "    text_size = 12, label_size = 11, title_size=12, \\\n",
    "    emotion='Some', color1='#0570b0', color2='orange'):\n",
    "    \n",
    "    bars = alt.Chart(df, title=title).mark_bar().encode(\n",
    "        alt.X(X, axis=alt.Axis(format='.0%')),\n",
    "        y=alt.Y(Y, sort=sort), \n",
    "        color=alt.condition(\n",
    "            alt.datum.emotion == emotion,\n",
    "            alt.value(color2),\n",
    "            alt.value(color1)\n",
    "        ))\n",
    "    \n",
    "    text = bars.mark_text(\n",
    "    align='left',\n",
    "    baseline='middle',\n",
    "    dx=3,  # Nudges text to right so it doesn't appear on top of the bar\n",
    "    fontSize=text_size\n",
    "    ).encode(\n",
    "        alt.Text(X)\n",
    "    )\n",
    "    \n",
    "    chart = (bars + text)\n",
    "    \n",
    "    return chart"
   ]
  },
  {
   "cell_type": "code",
   "execution_count": 10,
   "id": "77e7f511-d522-4805-878b-02e122f3c239",
   "metadata": {},
   "outputs": [],
   "source": [
    "def count_freq_labels(df, X=\"all\", col=\"emotion\"):\n",
    "    if X == \"all\":\n",
    "        df_counts = df.stack().reset_index(drop=True).value_counts() # stack as series\n",
    "        df_counts = df_counts.to_frame('counts') # get value_counts as df\n",
    "        df_counts['emotion'] = df_counts.index # get index as col\n",
    "    elif X == \"stacked\":\n",
    "        df_counts = df[col].value_counts() # count word frequency\n",
    "        df_counts = df_counts.to_frame('counts') # get value_counts as df\n",
    "        df_counts['emotion'] = df_counts.index # get index as col    \n",
    "    else:\n",
    "        df_counts = df[X].reset_index(drop=True).value_counts() # stack as series\n",
    "        df_counts = df_counts.to_frame('counts') # get value_counts as df\n",
    "        df_counts[X] = df_counts.index # get index as col\n",
    "\n",
    "    df_counts = df_counts.reset_index(drop=True) # clean index\n",
    "    df_counts['percent'] = df_counts['counts'] / df_counts['counts'].sum() # compute percentage\n",
    "    return df_counts"
   ]
  },
  {
   "cell_type": "code",
   "execution_count": 11,
   "id": "7af36db2-a13e-4ee1-87e4-ed59f5538321",
   "metadata": {},
   "outputs": [],
   "source": [
    "def photo_chart(df_emo_answers, emotion,  i, df_labels, emotion_st = None, n_mentions=2, photo = None):\n",
    "    df = emotion_df_formated(df_emo_answers, emotion, df_labels) # add emotion label\n",
    "    photo_id_list = df['photo_id'].tolist() # photo id to list\n",
    "    splited_photo_id = np.array_split(photo_id_list, 24) # split photo id by photo\n",
    "    df = df[df['photo_id'].isin(splited_photo_id[i])] # select photo rows   \n",
    "    df_url = df[['url']].head(1)  # get url for chart\n",
    "    \n",
    "    face = alt.Chart(df_url).mark_image(width=110, height=110, align='right', xOffset=0, yOffset=230).encode(url='url')\n",
    "    \n",
    "    df_emotion_ans = df.drop(['photo_id', 'ethnicity', 'sex', 'age', 'label', 'url', 'photoId'], axis=1) # clean cols\n",
    "    df_stack_emotion = formating_words(df_emotion_ans) # clean up words\n",
    "    df_stack_emotion['emotion_ps_steamed'] = df_stack_emotion['emotion'].apply(lambda x: ps.stem(x)) # steam\n",
    "    df_stack_emotion_count = count_freq_labels(df_stack_emotion, X=\"stacked\", col='emotion_ps_steamed') # group and count\n",
    "    source = df_stack_emotion_count[df_stack_emotion_count['counts'] >= n_mentions]\n",
    "    \n",
    "    chart = simple_per_bar_concat(source,\\\n",
    "                           title=f\"Categories with {n_mentions} or more mentions | n= {source['counts'].sum().astype(str)}\", \\\n",
    "                           X='percent:Q', Y='emotion:N', emotion=emotion_st)\n",
    "\n",
    "    if photo == True:\n",
    "        return chart + face\n",
    "    else:\n",
    "        return chart"
   ]
  },
  {
   "cell_type": "code",
   "execution_count": 12,
   "id": "45af3462-90d8-4d84-a9bc-5cde2af9c936",
   "metadata": {},
   "outputs": [],
   "source": [
    "def next_chart_wrapper(file_path, emotion, head):\n",
    "    df = pd.read_csv(file_path)\n",
    "    \n",
    "    df = df.round(decimals=2)\n",
    "\n",
    "    df.rename(columns={\n",
    "        'Target': 'emotion',\n",
    "        'Score': 'borda score'}, inplace=True)\n",
    "\n",
    "    title=f\"Dueling bandits ranking\"\n",
    "\n",
    "    chart = simple_cnt_bar_concat(df.head(head), title= title, \\\n",
    "                                  X='borda score:Q', Y='emotion:N', emotion=emotion)\n",
    "    return chart"
   ]
  },
  {
   "cell_type": "markdown",
   "id": "e43e4006-a86e-4a96-8d55-0b8519afbd38",
   "metadata": {},
   "source": [
    "## Anger - Female of color"
   ]
  },
  {
   "cell_type": "code",
   "execution_count": 13,
   "id": "f68cb923-3472-472e-b916-2b2f0a6becba",
   "metadata": {},
   "outputs": [],
   "source": [
    "anger_bfa_forced = photo_chart(df_emo_answers_forced, 'anger',  0, df_forced_labels, emotion_st='anger', n_mentions=2)\n",
    "anger_bfa_free = photo_chart(df_emo_answers_free, 'anger',  0, df_free_labels, emotion_st='angri', n_mentions=2)"
   ]
  },
  {
   "cell_type": "code",
   "execution_count": 14,
   "id": "67d419dd-3064-428b-9d8a-2f1d6b5c2ab1",
   "metadata": {},
   "outputs": [],
   "source": [
    "path = '../../emo-ranking-next/anger_bipoc_female/borda_lilucb_ranking.csv'\n",
    "\n",
    "anger_bfa_next = next_chart_wrapper(path, emotion='angry', head=15)"
   ]
  },
  {
   "cell_type": "code",
   "execution_count": 15,
   "id": "197d9711-4675-4668-bead-5c4afd2f2e33",
   "metadata": {},
   "outputs": [
    {
     "data": {
      "text/html": [
       "\n",
       "<div id=\"altair-viz-1db5b13dfeba47dab0a129ef81a17911\"></div>\n",
       "<script type=\"text/javascript\">\n",
       "  (function(spec, embedOpt){\n",
       "    let outputDiv = document.currentScript.previousElementSibling;\n",
       "    if (outputDiv.id !== \"altair-viz-1db5b13dfeba47dab0a129ef81a17911\") {\n",
       "      outputDiv = document.getElementById(\"altair-viz-1db5b13dfeba47dab0a129ef81a17911\");\n",
       "    }\n",
       "    const paths = {\n",
       "      \"vega\": \"https://cdn.jsdelivr.net/npm//vega@5?noext\",\n",
       "      \"vega-lib\": \"https://cdn.jsdelivr.net/npm//vega-lib?noext\",\n",
       "      \"vega-lite\": \"https://cdn.jsdelivr.net/npm//vega-lite@4.8.1?noext\",\n",
       "      \"vega-embed\": \"https://cdn.jsdelivr.net/npm//vega-embed@6?noext\",\n",
       "    };\n",
       "\n",
       "    function loadScript(lib) {\n",
       "      return new Promise(function(resolve, reject) {\n",
       "        var s = document.createElement('script');\n",
       "        s.src = paths[lib];\n",
       "        s.async = true;\n",
       "        s.onload = () => resolve(paths[lib]);\n",
       "        s.onerror = () => reject(`Error loading script: ${paths[lib]}`);\n",
       "        document.getElementsByTagName(\"head\")[0].appendChild(s);\n",
       "      });\n",
       "    }\n",
       "\n",
       "    function showError(err) {\n",
       "      outputDiv.innerHTML = `<div class=\"error\" style=\"color:red;\">${err}</div>`;\n",
       "      throw err;\n",
       "    }\n",
       "\n",
       "    function displayChart(vegaEmbed) {\n",
       "      vegaEmbed(outputDiv, spec, embedOpt)\n",
       "        .catch(err => showError(`Javascript Error: ${err.message}<br>This usually means there's a typo in your chart specification. See the javascript console for the full traceback.`));\n",
       "    }\n",
       "\n",
       "    if(typeof define === \"function\" && define.amd) {\n",
       "      requirejs.config({paths});\n",
       "      require([\"vega-embed\"], displayChart, err => showError(`Error loading script: ${err.message}`));\n",
       "    } else if (typeof vegaEmbed === \"function\") {\n",
       "      displayChart(vegaEmbed);\n",
       "    } else {\n",
       "      loadScript(\"vega\")\n",
       "        .then(() => loadScript(\"vega-lite\"))\n",
       "        .then(() => loadScript(\"vega-embed\"))\n",
       "        .catch(showError)\n",
       "        .then(() => displayChart(vegaEmbed));\n",
       "    }\n",
       "  })({\"config\": {\"view\": {\"continuousWidth\": 400, \"continuousHeight\": 300}}, \"hconcat\": [{\"layer\": [{\"mark\": \"bar\", \"encoding\": {\"color\": {\"condition\": {\"value\": \"orange\", \"test\": \"(datum.emotion === 'anger')\"}, \"value\": \"#0570b0\"}, \"x\": {\"type\": \"quantitative\", \"axis\": {\"format\": \".0%\"}, \"field\": \"percent\"}, \"y\": {\"type\": \"nominal\", \"field\": \"emotion\", \"sort\": \"-x\"}}, \"title\": \"Categories with 2 or more mentions | n= 49\"}, {\"mark\": {\"type\": \"text\", \"align\": \"left\", \"baseline\": \"middle\", \"dx\": 3, \"fontSize\": 12}, \"encoding\": {\"color\": {\"condition\": {\"value\": \"orange\", \"test\": \"(datum.emotion === 'anger')\"}, \"value\": \"#0570b0\"}, \"text\": {\"type\": \"quantitative\", \"field\": \"percent\", \"format\": \".1%\"}, \"x\": {\"type\": \"quantitative\", \"axis\": {\"format\": \".0%\"}, \"field\": \"percent\"}, \"y\": {\"type\": \"nominal\", \"field\": \"emotion\", \"sort\": \"-x\"}}, \"title\": \"Categories with 2 or more mentions | n= 49\"}], \"data\": {\"name\": \"data-10ce7ba54f9577f764739d23abdc4981\"}, \"width\": 200}, {\"layer\": [{\"mark\": \"bar\", \"encoding\": {\"color\": {\"condition\": {\"value\": \"orange\", \"test\": \"(datum.emotion === 'angri')\"}, \"value\": \"#0570b0\"}, \"x\": {\"type\": \"quantitative\", \"axis\": {\"format\": \".0%\"}, \"field\": \"percent\"}, \"y\": {\"type\": \"nominal\", \"field\": \"emotion\", \"sort\": \"-x\"}}, \"title\": \"Categories with 2 or more mentions | n= 37\"}, {\"mark\": {\"type\": \"text\", \"align\": \"left\", \"baseline\": \"middle\", \"dx\": 3, \"fontSize\": 12}, \"encoding\": {\"color\": {\"condition\": {\"value\": \"orange\", \"test\": \"(datum.emotion === 'angri')\"}, \"value\": \"#0570b0\"}, \"text\": {\"type\": \"quantitative\", \"field\": \"percent\", \"format\": \".1%\"}, \"x\": {\"type\": \"quantitative\", \"axis\": {\"format\": \".0%\"}, \"field\": \"percent\"}, \"y\": {\"type\": \"nominal\", \"field\": \"emotion\", \"sort\": \"-x\"}}, \"title\": \"Categories with 2 or more mentions | n= 37\"}], \"data\": {\"name\": \"data-bcf7779eaa63c7dfa5148195a3e951ac\"}, \"width\": 200}, {\"layer\": [{\"mark\": \"bar\", \"encoding\": {\"color\": {\"condition\": {\"value\": \"orange\", \"test\": \"(datum.emotion === 'angry')\"}, \"value\": \"#0570b0\"}, \"x\": {\"type\": \"quantitative\", \"axis\": {\"format\": \".0%\"}, \"field\": \"borda score\"}, \"y\": {\"type\": \"nominal\", \"field\": \"emotion\", \"sort\": \"-x\"}}, \"title\": \"Dueling bandits ranking\"}, {\"mark\": {\"type\": \"text\", \"align\": \"left\", \"baseline\": \"middle\", \"dx\": 3, \"fontSize\": 12}, \"encoding\": {\"color\": {\"condition\": {\"value\": \"orange\", \"test\": \"(datum.emotion === 'angry')\"}, \"value\": \"#0570b0\"}, \"text\": {\"type\": \"quantitative\", \"field\": \"borda score\"}, \"x\": {\"type\": \"quantitative\", \"axis\": {\"format\": \".0%\"}, \"field\": \"borda score\"}, \"y\": {\"type\": \"nominal\", \"field\": \"emotion\", \"sort\": \"-x\"}}, \"title\": \"Dueling bandits ranking\"}], \"data\": {\"name\": \"data-4d759d0a3a22a7ed32fc47e9d310cbe8\"}, \"width\": 200}], \"$schema\": \"https://vega.github.io/schema/vega-lite/v4.8.1.json\", \"datasets\": {\"data-10ce7ba54f9577f764739d23abdc4981\": [{\"counts\": 19, \"emotion\": \"neutral\", \"percent\": 0.37254901960784315}, {\"counts\": 14, \"emotion\": \"anger\", \"percent\": 0.27450980392156865}, {\"counts\": 7, \"emotion\": \"uncertain\", \"percent\": 0.13725490196078433}, {\"counts\": 5, \"emotion\": \"disgust\", \"percent\": 0.09803921568627451}, {\"counts\": 4, \"emotion\": \"other\", \"percent\": 0.0784313725490196}], \"data-bcf7779eaa63c7dfa5148195a3e951ac\": [{\"counts\": 10, \"emotion\": \"angri\", \"percent\": 0.14084507042253522}, {\"counts\": 5, \"emotion\": \"mad\", \"percent\": 0.07042253521126761}, {\"counts\": 4, \"emotion\": \"silli\", \"percent\": 0.056338028169014086}, {\"counts\": 3, \"emotion\": \"calm\", \"percent\": 0.04225352112676056}, {\"counts\": 3, \"emotion\": \"focus\", \"percent\": 0.04225352112676056}, {\"counts\": 3, \"emotion\": \"seriou\", \"percent\": 0.04225352112676056}, {\"counts\": 3, \"emotion\": \"confus\", \"percent\": 0.04225352112676056}, {\"counts\": 2, \"emotion\": \"frustrat\", \"percent\": 0.028169014084507043}, {\"counts\": 2, \"emotion\": \"intrigu\", \"percent\": 0.028169014084507043}, {\"counts\": 2, \"emotion\": \"none\", \"percent\": 0.028169014084507043}], \"data-4d759d0a3a22a7ed32fc47e9d310cbe8\": [{\"Rank\": 0, \"emotion\": \"frustrated\", \"borda score\": 0.93, \"Precision\": 0.09}, {\"Rank\": 1, \"emotion\": \"stern\", \"borda score\": 0.81, \"Precision\": 0.12}, {\"Rank\": 2, \"emotion\": \"dislike\", \"borda score\": 0.72, \"Precision\": 0.16}, {\"Rank\": 3, \"emotion\": \"stare\", \"borda score\": 0.69, \"Precision\": 0.17}, {\"Rank\": 4, \"emotion\": \"grumpy\", \"borda score\": 0.66, \"Precision\": 0.19}, {\"Rank\": 5, \"emotion\": \"uncomfortable\", \"borda score\": 0.61, \"Precision\": 0.21}, {\"Rank\": 6, \"emotion\": \"disappointed\", \"borda score\": 0.61, \"Precision\": 0.21}, {\"Rank\": 7, \"emotion\": \"goofy\", \"borda score\": 0.61, \"Precision\": 0.21}, {\"Rank\": 8, \"emotion\": \"displeased\", \"borda score\": 0.58, \"Precision\": 0.23}, {\"Rank\": 9, \"emotion\": \"curious\", \"borda score\": 0.58, \"Precision\": 0.23}, {\"Rank\": 10, \"emotion\": \"scared\", \"borda score\": 0.56, \"Precision\": 0.24}, {\"Rank\": 11, \"emotion\": \"confusion\", \"borda score\": 0.56, \"Precision\": 0.24}, {\"Rank\": 12, \"emotion\": \"frusturated\", \"borda score\": 0.55, \"Precision\": 0.22}, {\"Rank\": 13, \"emotion\": \"angry\", \"borda score\": 0.53, \"Precision\": 0.24}, {\"Rank\": 14, \"emotion\": \"unpleasant\", \"borda score\": 0.5, \"Precision\": 0.27}]}}, {\"mode\": \"vega-lite\"});\n",
       "</script>"
      ],
      "text/plain": [
       "alt.HConcatChart(...)"
      ]
     },
     "execution_count": 15,
     "metadata": {},
     "output_type": "execute_result"
    }
   ],
   "source": [
    "(anger_bfa_forced.properties(width=200) | anger_bfa_free.properties(width=200) | anger_bfa_next.properties(width=200))"
   ]
  },
  {
   "cell_type": "markdown",
   "id": "bd38f499-394f-417f-b540-3aec467202d2",
   "metadata": {},
   "source": [
    "## Anger - Male of color"
   ]
  },
  {
   "cell_type": "code",
   "execution_count": 16,
   "id": "863d95d1-c486-43b1-9e4e-a2b250cb25a3",
   "metadata": {},
   "outputs": [],
   "source": [
    "anger_bma_forced = photo_chart(df_emo_answers_forced, 'anger',  2, df_forced_labels, emotion_st='anger', n_mentions=2)\n",
    "anger_bma_free = photo_chart(df_emo_answers_free, 'anger',  2, df_free_labels, emotion_st='angri', n_mentions=2)"
   ]
  },
  {
   "cell_type": "code",
   "execution_count": 17,
   "id": "ee7c2d94-73d5-4f73-9422-2024106ba158",
   "metadata": {},
   "outputs": [],
   "source": [
    "path = '../../emo-ranking-next/anger_bipoc_male/borda_lilucb_ranking.csv'\n",
    "\n",
    "anger_bma_next = next_chart_wrapper(path, emotion='angry', head=15)"
   ]
  },
  {
   "cell_type": "code",
   "execution_count": 18,
   "id": "5ac8dedc-2492-491f-9d5e-c1b636f65904",
   "metadata": {},
   "outputs": [
    {
     "data": {
      "text/html": [
       "\n",
       "<div id=\"altair-viz-e3976bf29e094aef8e088e66249d2b2e\"></div>\n",
       "<script type=\"text/javascript\">\n",
       "  (function(spec, embedOpt){\n",
       "    let outputDiv = document.currentScript.previousElementSibling;\n",
       "    if (outputDiv.id !== \"altair-viz-e3976bf29e094aef8e088e66249d2b2e\") {\n",
       "      outputDiv = document.getElementById(\"altair-viz-e3976bf29e094aef8e088e66249d2b2e\");\n",
       "    }\n",
       "    const paths = {\n",
       "      \"vega\": \"https://cdn.jsdelivr.net/npm//vega@5?noext\",\n",
       "      \"vega-lib\": \"https://cdn.jsdelivr.net/npm//vega-lib?noext\",\n",
       "      \"vega-lite\": \"https://cdn.jsdelivr.net/npm//vega-lite@4.8.1?noext\",\n",
       "      \"vega-embed\": \"https://cdn.jsdelivr.net/npm//vega-embed@6?noext\",\n",
       "    };\n",
       "\n",
       "    function loadScript(lib) {\n",
       "      return new Promise(function(resolve, reject) {\n",
       "        var s = document.createElement('script');\n",
       "        s.src = paths[lib];\n",
       "        s.async = true;\n",
       "        s.onload = () => resolve(paths[lib]);\n",
       "        s.onerror = () => reject(`Error loading script: ${paths[lib]}`);\n",
       "        document.getElementsByTagName(\"head\")[0].appendChild(s);\n",
       "      });\n",
       "    }\n",
       "\n",
       "    function showError(err) {\n",
       "      outputDiv.innerHTML = `<div class=\"error\" style=\"color:red;\">${err}</div>`;\n",
       "      throw err;\n",
       "    }\n",
       "\n",
       "    function displayChart(vegaEmbed) {\n",
       "      vegaEmbed(outputDiv, spec, embedOpt)\n",
       "        .catch(err => showError(`Javascript Error: ${err.message}<br>This usually means there's a typo in your chart specification. See the javascript console for the full traceback.`));\n",
       "    }\n",
       "\n",
       "    if(typeof define === \"function\" && define.amd) {\n",
       "      requirejs.config({paths});\n",
       "      require([\"vega-embed\"], displayChart, err => showError(`Error loading script: ${err.message}`));\n",
       "    } else if (typeof vegaEmbed === \"function\") {\n",
       "      displayChart(vegaEmbed);\n",
       "    } else {\n",
       "      loadScript(\"vega\")\n",
       "        .then(() => loadScript(\"vega-lite\"))\n",
       "        .then(() => loadScript(\"vega-embed\"))\n",
       "        .catch(showError)\n",
       "        .then(() => displayChart(vegaEmbed));\n",
       "    }\n",
       "  })({\"config\": {\"view\": {\"continuousWidth\": 400, \"continuousHeight\": 300}}, \"hconcat\": [{\"layer\": [{\"mark\": \"bar\", \"encoding\": {\"color\": {\"condition\": {\"value\": \"orange\", \"test\": \"(datum.emotion === 'anger')\"}, \"value\": \"#0570b0\"}, \"x\": {\"type\": \"quantitative\", \"axis\": {\"format\": \".0%\"}, \"field\": \"percent\"}, \"y\": {\"type\": \"nominal\", \"field\": \"emotion\", \"sort\": \"-x\"}}, \"title\": \"Categories with 2 or more mentions | n= 49\"}, {\"mark\": {\"type\": \"text\", \"align\": \"left\", \"baseline\": \"middle\", \"dx\": 3, \"fontSize\": 12}, \"encoding\": {\"color\": {\"condition\": {\"value\": \"orange\", \"test\": \"(datum.emotion === 'anger')\"}, \"value\": \"#0570b0\"}, \"text\": {\"type\": \"quantitative\", \"field\": \"percent\", \"format\": \".1%\"}, \"x\": {\"type\": \"quantitative\", \"axis\": {\"format\": \".0%\"}, \"field\": \"percent\"}, \"y\": {\"type\": \"nominal\", \"field\": \"emotion\", \"sort\": \"-x\"}}, \"title\": \"Categories with 2 or more mentions | n= 49\"}], \"data\": {\"name\": \"data-29a81955e55ea0657ab5b8815ae4359a\"}, \"width\": 200}, {\"layer\": [{\"mark\": \"bar\", \"encoding\": {\"color\": {\"condition\": {\"value\": \"orange\", \"test\": \"(datum.emotion === 'angri')\"}, \"value\": \"#0570b0\"}, \"x\": {\"type\": \"quantitative\", \"axis\": {\"format\": \".0%\"}, \"field\": \"percent\"}, \"y\": {\"type\": \"nominal\", \"field\": \"emotion\", \"sort\": \"-x\"}}, \"title\": \"Categories with 2 or more mentions | n= 62\"}, {\"mark\": {\"type\": \"text\", \"align\": \"left\", \"baseline\": \"middle\", \"dx\": 3, \"fontSize\": 12}, \"encoding\": {\"color\": {\"condition\": {\"value\": \"orange\", \"test\": \"(datum.emotion === 'angri')\"}, \"value\": \"#0570b0\"}, \"text\": {\"type\": \"quantitative\", \"field\": \"percent\", \"format\": \".1%\"}, \"x\": {\"type\": \"quantitative\", \"axis\": {\"format\": \".0%\"}, \"field\": \"percent\"}, \"y\": {\"type\": \"nominal\", \"field\": \"emotion\", \"sort\": \"-x\"}}, \"title\": \"Categories with 2 or more mentions | n= 62\"}], \"data\": {\"name\": \"data-2df47eba5c6a32b552d5915a66882456\"}, \"width\": 200}, {\"layer\": [{\"mark\": \"bar\", \"encoding\": {\"color\": {\"condition\": {\"value\": \"orange\", \"test\": \"(datum.emotion === 'angry')\"}, \"value\": \"#0570b0\"}, \"x\": {\"type\": \"quantitative\", \"axis\": {\"format\": \".0%\"}, \"field\": \"borda score\"}, \"y\": {\"type\": \"nominal\", \"field\": \"emotion\", \"sort\": \"-x\"}}, \"title\": \"Dueling bandits ranking\"}, {\"mark\": {\"type\": \"text\", \"align\": \"left\", \"baseline\": \"middle\", \"dx\": 3, \"fontSize\": 12}, \"encoding\": {\"color\": {\"condition\": {\"value\": \"orange\", \"test\": \"(datum.emotion === 'angry')\"}, \"value\": \"#0570b0\"}, \"text\": {\"type\": \"quantitative\", \"field\": \"borda score\"}, \"x\": {\"type\": \"quantitative\", \"axis\": {\"format\": \".0%\"}, \"field\": \"borda score\"}, \"y\": {\"type\": \"nominal\", \"field\": \"emotion\", \"sort\": \"-x\"}}, \"title\": \"Dueling bandits ranking\"}], \"data\": {\"name\": \"data-cffe8507a8135f338481e3ae43701281\"}, \"width\": 200}], \"$schema\": \"https://vega.github.io/schema/vega-lite/v4.8.1.json\", \"datasets\": {\"data-29a81955e55ea0657ab5b8815ae4359a\": [{\"counts\": 47, \"emotion\": \"anger\", \"percent\": 0.9215686274509803}, {\"counts\": 2, \"emotion\": \"neutral\", \"percent\": 0.0392156862745098}], \"data-2df47eba5c6a32b552d5915a66882456\": [{\"counts\": 32, \"emotion\": \"angri\", \"percent\": 0.3950617283950617}, {\"counts\": 9, \"emotion\": \"mad\", \"percent\": 0.1111111111111111}, {\"counts\": 7, \"emotion\": \"upset\", \"percent\": 0.08641975308641975}, {\"counts\": 3, \"emotion\": \"yell\", \"percent\": 0.037037037037037035}, {\"counts\": 3, \"emotion\": \"frustur\", \"percent\": 0.037037037037037035}, {\"counts\": 3, \"emotion\": \"frustrat\", \"percent\": 0.037037037037037035}, {\"counts\": 3, \"emotion\": \"anger\", \"percent\": 0.037037037037037035}, {\"counts\": 2, \"emotion\": \"shout\", \"percent\": 0.024691358024691357}], \"data-cffe8507a8135f338481e3ae43701281\": [{\"Rank\": 0, \"emotion\": \"yelling\", \"borda score\": 0.83, \"Precision\": 0.12}, {\"Rank\": 1, \"emotion\": \"stern\", \"borda score\": 0.82, \"Precision\": 0.13}, {\"Rank\": 2, \"emotion\": \"intense\", \"borda score\": 0.8, \"Precision\": 0.13}, {\"Rank\": 3, \"emotion\": \"concerned\", \"borda score\": 0.76, \"Precision\": 0.16}, {\"Rank\": 4, \"emotion\": \"confused\", \"borda score\": 0.75, \"Precision\": 0.16}, {\"Rank\": 5, \"emotion\": \"serious\", \"borda score\": 0.75, \"Precision\": 0.16}, {\"Rank\": 6, \"emotion\": \"frustrated\", \"borda score\": 0.75, \"Precision\": 0.14}, {\"Rank\": 7, \"emotion\": \"passionate\", \"borda score\": 0.75, \"Precision\": 0.16}, {\"Rank\": 8, \"emotion\": \"pissed\", \"borda score\": 0.75, \"Precision\": 0.16}, {\"Rank\": 9, \"emotion\": \"annoyed\", \"borda score\": 0.7, \"Precision\": 0.18}, {\"Rank\": 10, \"emotion\": \"unpleasant\", \"borda score\": 0.7, \"Precision\": 0.18}, {\"Rank\": 11, \"emotion\": \"uncomfortable\", \"borda score\": 0.67, \"Precision\": 0.19}, {\"Rank\": 12, \"emotion\": \"unhappy\", \"borda score\": 0.67, \"Precision\": 0.17}, {\"Rank\": 13, \"emotion\": \"angry\", \"borda score\": 0.64, \"Precision\": 0.2}, {\"Rank\": 14, \"emotion\": \"crazy\", \"borda score\": 0.62, \"Precision\": 0.2}]}}, {\"mode\": \"vega-lite\"});\n",
       "</script>"
      ],
      "text/plain": [
       "alt.HConcatChart(...)"
      ]
     },
     "execution_count": 18,
     "metadata": {},
     "output_type": "execute_result"
    }
   ],
   "source": [
    "(anger_bma_forced.properties(width=200) | anger_bma_free.properties(width=200) | anger_bma_next.properties(width=200))"
   ]
  },
  {
   "cell_type": "markdown",
   "id": "9719fcc4-6235-41b3-96d5-edf8ddcc5ae4",
   "metadata": {},
   "source": [
    "## Anger - White Female "
   ]
  },
  {
   "cell_type": "code",
   "execution_count": 19,
   "id": "9ae65273-8ce5-43f1-8c00-72823e7aef1f",
   "metadata": {},
   "outputs": [],
   "source": [
    "anger_wfa_forced = photo_chart(df_emo_answers_forced, 'anger',  12, df_forced_labels, emotion_st='anger', n_mentions=2)\n",
    "anger_wfa_free = photo_chart(df_emo_answers_free, 'anger',  12, df_free_labels, emotion_st='angri', n_mentions=2)"
   ]
  },
  {
   "cell_type": "code",
   "execution_count": 20,
   "id": "2486139d-7d05-492e-8486-0f1815e7ac9a",
   "metadata": {},
   "outputs": [],
   "source": [
    "path = '../../emo-ranking-next/anger_white_female/borda_lilucb_ranking.csv'\n",
    "\n",
    "anger_wfa_next = next_chart_wrapper(path, emotion='angry', head=15)"
   ]
  },
  {
   "cell_type": "code",
   "execution_count": 21,
   "id": "4d469708-593f-40e8-85c6-6ba5ceee139c",
   "metadata": {},
   "outputs": [
    {
     "data": {
      "text/html": [
       "\n",
       "<div id=\"altair-viz-524c236e3a6f4ae2a1c38f81f5d7b069\"></div>\n",
       "<script type=\"text/javascript\">\n",
       "  (function(spec, embedOpt){\n",
       "    let outputDiv = document.currentScript.previousElementSibling;\n",
       "    if (outputDiv.id !== \"altair-viz-524c236e3a6f4ae2a1c38f81f5d7b069\") {\n",
       "      outputDiv = document.getElementById(\"altair-viz-524c236e3a6f4ae2a1c38f81f5d7b069\");\n",
       "    }\n",
       "    const paths = {\n",
       "      \"vega\": \"https://cdn.jsdelivr.net/npm//vega@5?noext\",\n",
       "      \"vega-lib\": \"https://cdn.jsdelivr.net/npm//vega-lib?noext\",\n",
       "      \"vega-lite\": \"https://cdn.jsdelivr.net/npm//vega-lite@4.8.1?noext\",\n",
       "      \"vega-embed\": \"https://cdn.jsdelivr.net/npm//vega-embed@6?noext\",\n",
       "    };\n",
       "\n",
       "    function loadScript(lib) {\n",
       "      return new Promise(function(resolve, reject) {\n",
       "        var s = document.createElement('script');\n",
       "        s.src = paths[lib];\n",
       "        s.async = true;\n",
       "        s.onload = () => resolve(paths[lib]);\n",
       "        s.onerror = () => reject(`Error loading script: ${paths[lib]}`);\n",
       "        document.getElementsByTagName(\"head\")[0].appendChild(s);\n",
       "      });\n",
       "    }\n",
       "\n",
       "    function showError(err) {\n",
       "      outputDiv.innerHTML = `<div class=\"error\" style=\"color:red;\">${err}</div>`;\n",
       "      throw err;\n",
       "    }\n",
       "\n",
       "    function displayChart(vegaEmbed) {\n",
       "      vegaEmbed(outputDiv, spec, embedOpt)\n",
       "        .catch(err => showError(`Javascript Error: ${err.message}<br>This usually means there's a typo in your chart specification. See the javascript console for the full traceback.`));\n",
       "    }\n",
       "\n",
       "    if(typeof define === \"function\" && define.amd) {\n",
       "      requirejs.config({paths});\n",
       "      require([\"vega-embed\"], displayChart, err => showError(`Error loading script: ${err.message}`));\n",
       "    } else if (typeof vegaEmbed === \"function\") {\n",
       "      displayChart(vegaEmbed);\n",
       "    } else {\n",
       "      loadScript(\"vega\")\n",
       "        .then(() => loadScript(\"vega-lite\"))\n",
       "        .then(() => loadScript(\"vega-embed\"))\n",
       "        .catch(showError)\n",
       "        .then(() => displayChart(vegaEmbed));\n",
       "    }\n",
       "  })({\"config\": {\"view\": {\"continuousWidth\": 400, \"continuousHeight\": 300}}, \"hconcat\": [{\"layer\": [{\"mark\": \"bar\", \"encoding\": {\"color\": {\"condition\": {\"value\": \"orange\", \"test\": \"(datum.emotion === 'anger')\"}, \"value\": \"#0570b0\"}, \"x\": {\"type\": \"quantitative\", \"axis\": {\"format\": \".0%\"}, \"field\": \"percent\"}, \"y\": {\"type\": \"nominal\", \"field\": \"emotion\", \"sort\": \"-x\"}}, \"title\": \"Categories with 2 or more mentions | n= 48\"}, {\"mark\": {\"type\": \"text\", \"align\": \"left\", \"baseline\": \"middle\", \"dx\": 3, \"fontSize\": 12}, \"encoding\": {\"color\": {\"condition\": {\"value\": \"orange\", \"test\": \"(datum.emotion === 'anger')\"}, \"value\": \"#0570b0\"}, \"text\": {\"type\": \"quantitative\", \"field\": \"percent\", \"format\": \".1%\"}, \"x\": {\"type\": \"quantitative\", \"axis\": {\"format\": \".0%\"}, \"field\": \"percent\"}, \"y\": {\"type\": \"nominal\", \"field\": \"emotion\", \"sort\": \"-x\"}}, \"title\": \"Categories with 2 or more mentions | n= 48\"}], \"data\": {\"name\": \"data-e38793438cc6b593f907d92eb8aca068\"}, \"width\": 200}, {\"layer\": [{\"mark\": \"bar\", \"encoding\": {\"color\": {\"condition\": {\"value\": \"orange\", \"test\": \"(datum.emotion === 'angri')\"}, \"value\": \"#0570b0\"}, \"x\": {\"type\": \"quantitative\", \"axis\": {\"format\": \".0%\"}, \"field\": \"percent\"}, \"y\": {\"type\": \"nominal\", \"field\": \"emotion\", \"sort\": \"-x\"}}, \"title\": \"Categories with 2 or more mentions | n= 45\"}, {\"mark\": {\"type\": \"text\", \"align\": \"left\", \"baseline\": \"middle\", \"dx\": 3, \"fontSize\": 12}, \"encoding\": {\"color\": {\"condition\": {\"value\": \"orange\", \"test\": \"(datum.emotion === 'angri')\"}, \"value\": \"#0570b0\"}, \"text\": {\"type\": \"quantitative\", \"field\": \"percent\", \"format\": \".1%\"}, \"x\": {\"type\": \"quantitative\", \"axis\": {\"format\": \".0%\"}, \"field\": \"percent\"}, \"y\": {\"type\": \"nominal\", \"field\": \"emotion\", \"sort\": \"-x\"}}, \"title\": \"Categories with 2 or more mentions | n= 45\"}], \"data\": {\"name\": \"data-e53c68100110033e7fff26a0073caa14\"}, \"width\": 200}, {\"layer\": [{\"mark\": \"bar\", \"encoding\": {\"color\": {\"condition\": {\"value\": \"orange\", \"test\": \"(datum.emotion === 'angry')\"}, \"value\": \"#0570b0\"}, \"x\": {\"type\": \"quantitative\", \"axis\": {\"format\": \".0%\"}, \"field\": \"borda score\"}, \"y\": {\"type\": \"nominal\", \"field\": \"emotion\", \"sort\": \"-x\"}}, \"title\": \"Dueling bandits ranking\"}, {\"mark\": {\"type\": \"text\", \"align\": \"left\", \"baseline\": \"middle\", \"dx\": 3, \"fontSize\": 12}, \"encoding\": {\"color\": {\"condition\": {\"value\": \"orange\", \"test\": \"(datum.emotion === 'angry')\"}, \"value\": \"#0570b0\"}, \"text\": {\"type\": \"quantitative\", \"field\": \"borda score\"}, \"x\": {\"type\": \"quantitative\", \"axis\": {\"format\": \".0%\"}, \"field\": \"borda score\"}, \"y\": {\"type\": \"nominal\", \"field\": \"emotion\", \"sort\": \"-x\"}}, \"title\": \"Dueling bandits ranking\"}], \"data\": {\"name\": \"data-9a28134bebbd506da1b9fe8ccd70cc9c\"}, \"width\": 200}], \"$schema\": \"https://vega.github.io/schema/vega-lite/v4.8.1.json\", \"datasets\": {\"data-e38793438cc6b593f907d92eb8aca068\": [{\"counts\": 38, \"emotion\": \"anger\", \"percent\": 0.7450980392156863}, {\"counts\": 7, \"emotion\": \"disgust\", \"percent\": 0.13725490196078433}, {\"counts\": 3, \"emotion\": \"uncertain\", \"percent\": 0.058823529411764705}], \"data-e53c68100110033e7fff26a0073caa14\": [{\"counts\": 25, \"emotion\": \"angri\", \"percent\": 0.3472222222222222}, {\"counts\": 6, \"emotion\": \"upset\", \"percent\": 0.08333333333333333}, {\"counts\": 5, \"emotion\": \"mad\", \"percent\": 0.06944444444444445}, {\"counts\": 3, \"emotion\": \"frustrat\", \"percent\": 0.041666666666666664}, {\"counts\": 2, \"emotion\": \"teeth\", \"percent\": 0.027777777777777776}, {\"counts\": 2, \"emotion\": \"piss\", \"percent\": 0.027777777777777776}, {\"counts\": 2, \"emotion\": \"frustur\", \"percent\": 0.027777777777777776}], \"data-9a28134bebbd506da1b9fe8ccd70cc9c\": [{\"Rank\": 0, \"emotion\": \"pissed\", \"borda score\": 0.92, \"Precision\": 0.11}, {\"Rank\": 1, \"emotion\": \"frusturated\", \"borda score\": 0.88, \"Precision\": 0.12}, {\"Rank\": 2, \"emotion\": \"displeased\", \"borda score\": 0.86, \"Precision\": 0.13}, {\"Rank\": 3, \"emotion\": \"angry\", \"borda score\": 0.82, \"Precision\": 0.13}, {\"Rank\": 4, \"emotion\": \"upset\", \"borda score\": 0.81, \"Precision\": 0.15}, {\"Rank\": 5, \"emotion\": \"intense\", \"borda score\": 0.81, \"Precision\": 0.15}, {\"Rank\": 6, \"emotion\": \"mad\", \"borda score\": 0.81, \"Precision\": 0.15}, {\"Rank\": 7, \"emotion\": \"unhappy\", \"borda score\": 0.76, \"Precision\": 0.17}, {\"Rank\": 8, \"emotion\": \"disgusted\", \"borda score\": 0.75, \"Precision\": 0.18}, {\"Rank\": 9, \"emotion\": \"frustrated\", \"borda score\": 0.71, \"Precision\": 0.16}, {\"Rank\": 10, \"emotion\": \"stern\", \"borda score\": 0.7, \"Precision\": 0.19}, {\"Rank\": 11, \"emotion\": \"furious\", \"borda score\": 0.67, \"Precision\": 0.13}, {\"Rank\": 12, \"emotion\": \"worried\", \"borda score\": 0.67, \"Precision\": 0.22}, {\"Rank\": 13, \"emotion\": \"grumpy\", \"borda score\": 0.66, \"Precision\": 0.16}, {\"Rank\": 14, \"emotion\": \"bad\", \"borda score\": 0.65, \"Precision\": 0.22}]}}, {\"mode\": \"vega-lite\"});\n",
       "</script>"
      ],
      "text/plain": [
       "alt.HConcatChart(...)"
      ]
     },
     "execution_count": 21,
     "metadata": {},
     "output_type": "execute_result"
    }
   ],
   "source": [
    "(anger_wfa_forced.properties(width=200) | anger_wfa_free.properties(width=200) | anger_wfa_next.properties(width=200))"
   ]
  },
  {
   "cell_type": "markdown",
   "id": "b82c12cf-71c2-487a-adf4-8a5f66586401",
   "metadata": {},
   "source": [
    "## Anger - White male"
   ]
  },
  {
   "cell_type": "code",
   "execution_count": 22,
   "id": "75a8d340-dc10-4020-8b92-e603174a94d8",
   "metadata": {},
   "outputs": [],
   "source": [
    "anger_wma_forced = photo_chart(df_emo_answers_forced, 'anger',  6, df_forced_labels, emotion_st='anger', n_mentions=2)\n",
    "anger_wma_free = photo_chart(df_emo_answers_free, 'anger',  6, df_free_labels, emotion_st='angri', n_mentions=2)"
   ]
  },
  {
   "cell_type": "code",
   "execution_count": 23,
   "id": "29111d8a-8e3a-4122-ac67-d98020fdd2f9",
   "metadata": {},
   "outputs": [],
   "source": [
    "path = '../../emo-ranking-next/anger_white_male/borda_lilucb_ranking.csv'\n",
    "\n",
    "anger_wma_next = next_chart_wrapper(path, emotion='angry', head=28)"
   ]
  },
  {
   "cell_type": "code",
   "execution_count": 24,
   "id": "54a352dc-982e-4f8a-9ae8-ab483eeea146",
   "metadata": {},
   "outputs": [
    {
     "data": {
      "text/html": [
       "\n",
       "<div id=\"altair-viz-1c55e148688f4e10b6224cb53d8cc6a7\"></div>\n",
       "<script type=\"text/javascript\">\n",
       "  (function(spec, embedOpt){\n",
       "    let outputDiv = document.currentScript.previousElementSibling;\n",
       "    if (outputDiv.id !== \"altair-viz-1c55e148688f4e10b6224cb53d8cc6a7\") {\n",
       "      outputDiv = document.getElementById(\"altair-viz-1c55e148688f4e10b6224cb53d8cc6a7\");\n",
       "    }\n",
       "    const paths = {\n",
       "      \"vega\": \"https://cdn.jsdelivr.net/npm//vega@5?noext\",\n",
       "      \"vega-lib\": \"https://cdn.jsdelivr.net/npm//vega-lib?noext\",\n",
       "      \"vega-lite\": \"https://cdn.jsdelivr.net/npm//vega-lite@4.8.1?noext\",\n",
       "      \"vega-embed\": \"https://cdn.jsdelivr.net/npm//vega-embed@6?noext\",\n",
       "    };\n",
       "\n",
       "    function loadScript(lib) {\n",
       "      return new Promise(function(resolve, reject) {\n",
       "        var s = document.createElement('script');\n",
       "        s.src = paths[lib];\n",
       "        s.async = true;\n",
       "        s.onload = () => resolve(paths[lib]);\n",
       "        s.onerror = () => reject(`Error loading script: ${paths[lib]}`);\n",
       "        document.getElementsByTagName(\"head\")[0].appendChild(s);\n",
       "      });\n",
       "    }\n",
       "\n",
       "    function showError(err) {\n",
       "      outputDiv.innerHTML = `<div class=\"error\" style=\"color:red;\">${err}</div>`;\n",
       "      throw err;\n",
       "    }\n",
       "\n",
       "    function displayChart(vegaEmbed) {\n",
       "      vegaEmbed(outputDiv, spec, embedOpt)\n",
       "        .catch(err => showError(`Javascript Error: ${err.message}<br>This usually means there's a typo in your chart specification. See the javascript console for the full traceback.`));\n",
       "    }\n",
       "\n",
       "    if(typeof define === \"function\" && define.amd) {\n",
       "      requirejs.config({paths});\n",
       "      require([\"vega-embed\"], displayChart, err => showError(`Error loading script: ${err.message}`));\n",
       "    } else if (typeof vegaEmbed === \"function\") {\n",
       "      displayChart(vegaEmbed);\n",
       "    } else {\n",
       "      loadScript(\"vega\")\n",
       "        .then(() => loadScript(\"vega-lite\"))\n",
       "        .then(() => loadScript(\"vega-embed\"))\n",
       "        .catch(showError)\n",
       "        .then(() => displayChart(vegaEmbed));\n",
       "    }\n",
       "  })({\"config\": {\"view\": {\"continuousWidth\": 400, \"continuousHeight\": 300}}, \"hconcat\": [{\"layer\": [{\"mark\": \"bar\", \"encoding\": {\"color\": {\"condition\": {\"value\": \"orange\", \"test\": \"(datum.emotion === 'anger')\"}, \"value\": \"#0570b0\"}, \"x\": {\"type\": \"quantitative\", \"axis\": {\"format\": \".0%\"}, \"field\": \"percent\"}, \"y\": {\"type\": \"nominal\", \"field\": \"emotion\", \"sort\": \"-x\"}}, \"title\": \"Categories with 2 or more mentions | n= 48\"}, {\"mark\": {\"type\": \"text\", \"align\": \"left\", \"baseline\": \"middle\", \"dx\": 3, \"fontSize\": 12}, \"encoding\": {\"color\": {\"condition\": {\"value\": \"orange\", \"test\": \"(datum.emotion === 'anger')\"}, \"value\": \"#0570b0\"}, \"text\": {\"type\": \"quantitative\", \"field\": \"percent\", \"format\": \".1%\"}, \"x\": {\"type\": \"quantitative\", \"axis\": {\"format\": \".0%\"}, \"field\": \"percent\"}, \"y\": {\"type\": \"nominal\", \"field\": \"emotion\", \"sort\": \"-x\"}}, \"title\": \"Categories with 2 or more mentions | n= 48\"}], \"data\": {\"name\": \"data-e92d97e77579774f64da3f8979cf74a0\"}, \"width\": 200}, {\"layer\": [{\"mark\": \"bar\", \"encoding\": {\"color\": {\"condition\": {\"value\": \"orange\", \"test\": \"(datum.emotion === 'angri')\"}, \"value\": \"#0570b0\"}, \"x\": {\"type\": \"quantitative\", \"axis\": {\"format\": \".0%\"}, \"field\": \"percent\"}, \"y\": {\"type\": \"nominal\", \"field\": \"emotion\", \"sort\": \"-x\"}}, \"title\": \"Categories with 2 or more mentions | n= 55\"}, {\"mark\": {\"type\": \"text\", \"align\": \"left\", \"baseline\": \"middle\", \"dx\": 3, \"fontSize\": 12}, \"encoding\": {\"color\": {\"condition\": {\"value\": \"orange\", \"test\": \"(datum.emotion === 'angri')\"}, \"value\": \"#0570b0\"}, \"text\": {\"type\": \"quantitative\", \"field\": \"percent\", \"format\": \".1%\"}, \"x\": {\"type\": \"quantitative\", \"axis\": {\"format\": \".0%\"}, \"field\": \"percent\"}, \"y\": {\"type\": \"nominal\", \"field\": \"emotion\", \"sort\": \"-x\"}}, \"title\": \"Categories with 2 or more mentions | n= 55\"}], \"data\": {\"name\": \"data-607eaea9960d3693a1ccb158f2ddd6b3\"}, \"width\": 200}, {\"layer\": [{\"mark\": \"bar\", \"encoding\": {\"color\": {\"condition\": {\"value\": \"orange\", \"test\": \"(datum.emotion === 'angry')\"}, \"value\": \"#0570b0\"}, \"x\": {\"type\": \"quantitative\", \"axis\": {\"format\": \".0%\"}, \"field\": \"borda score\"}, \"y\": {\"type\": \"nominal\", \"field\": \"emotion\", \"sort\": \"-x\"}}, \"title\": \"Dueling bandits ranking\"}, {\"mark\": {\"type\": \"text\", \"align\": \"left\", \"baseline\": \"middle\", \"dx\": 3, \"fontSize\": 12}, \"encoding\": {\"color\": {\"condition\": {\"value\": \"orange\", \"test\": \"(datum.emotion === 'angry')\"}, \"value\": \"#0570b0\"}, \"text\": {\"type\": \"quantitative\", \"field\": \"borda score\"}, \"x\": {\"type\": \"quantitative\", \"axis\": {\"format\": \".0%\"}, \"field\": \"borda score\"}, \"y\": {\"type\": \"nominal\", \"field\": \"emotion\", \"sort\": \"-x\"}}, \"title\": \"Dueling bandits ranking\"}], \"data\": {\"name\": \"data-e5aa82a0813ec7d083800a4fb7227425\"}, \"width\": 200}], \"$schema\": \"https://vega.github.io/schema/vega-lite/v4.8.1.json\", \"datasets\": {\"data-e92d97e77579774f64da3f8979cf74a0\": [{\"counts\": 17, \"emotion\": \"anger\", \"percent\": 0.3333333333333333}, {\"counts\": 13, \"emotion\": \"neutral\", \"percent\": 0.2549019607843137}, {\"counts\": 7, \"emotion\": \"uncertain\", \"percent\": 0.13725490196078433}, {\"counts\": 6, \"emotion\": \"other\", \"percent\": 0.11764705882352941}, {\"counts\": 5, \"emotion\": \"disgust\", \"percent\": 0.09803921568627451}], \"data-607eaea9960d3693a1ccb158f2ddd6b3\": [{\"counts\": 12, \"emotion\": \"angri\", \"percent\": 0.14285714285714285}, {\"counts\": 10, \"emotion\": \"confus\", \"percent\": 0.11904761904761904}, {\"counts\": 9, \"emotion\": \"mad\", \"percent\": 0.10714285714285714}, {\"counts\": 6, \"emotion\": \"seriou\", \"percent\": 0.07142857142857142}, {\"counts\": 4, \"emotion\": \"focus\", \"percent\": 0.047619047619047616}, {\"counts\": 2, \"emotion\": \"disappoint\", \"percent\": 0.023809523809523808}, {\"counts\": 2, \"emotion\": \"annoy\", \"percent\": 0.023809523809523808}, {\"counts\": 2, \"emotion\": \"intens\", \"percent\": 0.023809523809523808}, {\"counts\": 2, \"emotion\": \"calm\", \"percent\": 0.023809523809523808}, {\"counts\": 2, \"emotion\": \"upset\", \"percent\": 0.023809523809523808}, {\"counts\": 2, \"emotion\": \"frustrat\", \"percent\": 0.023809523809523808}, {\"counts\": 2, \"emotion\": \"interest\", \"percent\": 0.023809523809523808}], \"data-e5aa82a0813ec7d083800a4fb7227425\": [{\"Rank\": 0, \"emotion\": \"stern\", \"borda score\": 0.95, \"Precision\": 0.09}, {\"Rank\": 1, \"emotion\": \"serious\", \"borda score\": 0.89, \"Precision\": 0.12}, {\"Rank\": 2, \"emotion\": \"concerned\", \"borda score\": 0.89, \"Precision\": 0.12}, {\"Rank\": 3, \"emotion\": \"disappointed\", \"borda score\": 0.85, \"Precision\": 0.13}, {\"Rank\": 4, \"emotion\": \"displeased\", \"borda score\": 0.78, \"Precision\": 0.16}, {\"Rank\": 5, \"emotion\": \"unpleasant\", \"borda score\": 0.77, \"Precision\": 0.15}, {\"Rank\": 6, \"emotion\": \"frustrated\", \"borda score\": 0.76, \"Precision\": 0.17}, {\"Rank\": 7, \"emotion\": \"uncomfortable\", \"borda score\": 0.74, \"Precision\": 0.17}, {\"Rank\": 8, \"emotion\": \"worried\", \"borda score\": 0.7, \"Precision\": 0.19}, {\"Rank\": 9, \"emotion\": \"stare\", \"borda score\": 0.7, \"Precision\": 0.19}, {\"Rank\": 10, \"emotion\": \"confusion\", \"borda score\": 0.7, \"Precision\": 0.19}, {\"Rank\": 11, \"emotion\": \"frusturated\", \"borda score\": 0.7, \"Precision\": 0.19}, {\"Rank\": 12, \"emotion\": \"furious\", \"borda score\": 0.68, \"Precision\": 0.2}, {\"Rank\": 13, \"emotion\": \"upset\", \"borda score\": 0.65, \"Precision\": 0.21}, {\"Rank\": 14, \"emotion\": \"bad\", \"borda score\": 0.65, \"Precision\": 0.21}, {\"Rank\": 15, \"emotion\": \"disgusted\", \"borda score\": 0.65, \"Precision\": 0.22}, {\"Rank\": 16, \"emotion\": \"dislike\", \"borda score\": 0.63, \"Precision\": 0.23}, {\"Rank\": 17, \"emotion\": \"annoyed\", \"borda score\": 0.61, \"Precision\": 0.24}, {\"Rank\": 18, \"emotion\": \"sad\", \"borda score\": 0.59, \"Precision\": 0.24}, {\"Rank\": 19, \"emotion\": \"focused\", \"borda score\": 0.58, \"Precision\": 0.23}, {\"Rank\": 20, \"emotion\": \"confused\", \"borda score\": 0.53, \"Precision\": 0.18}, {\"Rank\": 21, \"emotion\": \"unhappy\", \"borda score\": 0.5, \"Precision\": 0.29}, {\"Rank\": 22, \"emotion\": \"grumpy\", \"borda score\": 0.5, \"Precision\": 0.27}, {\"Rank\": 23, \"emotion\": \"mad\", \"borda score\": 0.5, \"Precision\": 0.27}, {\"Rank\": 24, \"emotion\": \"content\", \"borda score\": 0.46, \"Precision\": 0.28}, {\"Rank\": 25, \"emotion\": \"angry\", \"borda score\": 0.45, \"Precision\": 0.3}, {\"Rank\": 26, \"emotion\": \"boring\", \"borda score\": 0.44, \"Precision\": 0.24}, {\"Rank\": 27, \"emotion\": \"pissed\", \"borda score\": 0.44, \"Precision\": 0.33}]}}, {\"mode\": \"vega-lite\"});\n",
       "</script>"
      ],
      "text/plain": [
       "alt.HConcatChart(...)"
      ]
     },
     "execution_count": 24,
     "metadata": {},
     "output_type": "execute_result"
    }
   ],
   "source": [
    "(anger_wma_forced.properties(width=200) | anger_wma_free.properties(width=200) | anger_wma_next.properties(width=200))"
   ]
  },
  {
   "cell_type": "markdown",
   "id": "83be7c6f-6796-4578-b4a7-ba6b5ef246a3",
   "metadata": {},
   "source": [
    "## Disgust - Female of color"
   ]
  },
  {
   "cell_type": "code",
   "execution_count": null,
   "id": "3bea8153-2484-4287-b528-b67f0234951d",
   "metadata": {},
   "outputs": [],
   "source": []
  },
  {
   "cell_type": "code",
   "execution_count": null,
   "id": "4dea4e4f-d47c-4fff-91ad-eac03499ceac",
   "metadata": {},
   "outputs": [],
   "source": []
  },
  {
   "cell_type": "markdown",
   "id": "6256795d-79a9-45a0-93de-b6699d2557f7",
   "metadata": {},
   "source": [
    "## Disgust - Male of color"
   ]
  },
  {
   "cell_type": "code",
   "execution_count": null,
   "id": "e8f25aab-1326-4042-ae6a-567772008c60",
   "metadata": {},
   "outputs": [],
   "source": []
  },
  {
   "cell_type": "code",
   "execution_count": null,
   "id": "39b8c824-4876-43ae-bdac-619a49b0b065",
   "metadata": {},
   "outputs": [],
   "source": []
  },
  {
   "cell_type": "markdown",
   "id": "613874d1-9490-489e-ae61-93b1395a1bd8",
   "metadata": {},
   "source": [
    "## Disgust - White female"
   ]
  },
  {
   "cell_type": "markdown",
   "id": "0d730df6-5e83-46ce-a429-4c64c3b74de6",
   "metadata": {},
   "source": [
    "## Disgust - Whie male"
   ]
  },
  {
   "cell_type": "code",
   "execution_count": null,
   "id": "84e6444a-9917-4adf-9c7e-fc96d7da3b82",
   "metadata": {},
   "outputs": [],
   "source": []
  }
 ],
 "metadata": {
  "kernelspec": {
   "display_name": "Python 3 (ipykernel)",
   "language": "python",
   "name": "python3"
  },
  "language_info": {
   "codemirror_mode": {
    "name": "ipython",
    "version": 3
   },
   "file_extension": ".py",
   "mimetype": "text/x-python",
   "name": "python",
   "nbconvert_exporter": "python",
   "pygments_lexer": "ipython3",
   "version": "3.7.12"
  }
 },
 "nbformat": 4,
 "nbformat_minor": 5
}
