{
 "cells": [
  {
   "cell_type": "code",
   "execution_count": 1,
   "id": "3a00be86-2ebf-402f-b132-bf2d9d98e958",
   "metadata": {},
   "outputs": [],
   "source": [
    "import pandas as pd\n",
    "from deep_translator import GoogleTranslator\n",
    "from spellchecker import SpellChecker\n",
    "import numpy as np"
   ]
  },
  {
   "cell_type": "markdown",
   "id": "6f113379-5b2d-4fd1-821b-db82ccb4d776",
   "metadata": {},
   "source": [
    "# Forced-choice "
   ]
  },
  {
   "cell_type": "code",
   "execution_count": 2,
   "id": "eed4ea2f-53a3-45f4-b5f9-569b4f017de7",
   "metadata": {},
   "outputs": [],
   "source": [
    "df_esp = pd.read_csv('../clean_data_mturk_espanol/forced_choice_emotion_mturk_espanol.csv')\n",
    "df_labels_esp = pd.read_csv('../data_mturk_espanol/emotion_labels_espanol.csv')"
   ]
  },
  {
   "cell_type": "markdown",
   "id": "382a8e48-87b0-4982-8d2e-d22d7ce309e4",
   "metadata": {
    "tags": []
   },
   "source": [
    "## Manual translation\n",
    "\n",
    "**The VADER sentiment analyzer only works in English**. I had two options:\n",
    "\n",
    "- Using a bilingual sentiment analyzer\n",
    "- Translating to English and then use VADER \n",
    "\n",
    "Since I couldn't find a \"widely used\" bilingual sentiment analyzer, and translating was straightforward, I opted fot the latter "
   ]
  },
  {
   "cell_type": "code",
   "execution_count": 3,
   "id": "9e3dc5e6-90cd-4249-a260-bb798f853729",
   "metadata": {
    "tags": []
   },
   "outputs": [],
   "source": [
    "def translation_emotions(df):\n",
    "    df.replace(['Enfado'], 'Anger', inplace=True)\n",
    "    df.replace(['Felicidad'], 'Happiness', inplace=True)\n",
    "    df.replace(['Sorpresa'], 'Surprise', inplace=True)\n",
    "    df.replace(['Tristeza'], 'Sadness', inplace=True)\n",
    "    df.replace(['Asco'], 'Disgust', inplace=True)\n",
    "    df.replace(['Incertidumbre'], 'Uncertain', inplace=True)\n",
    "    df.replace(['Miedo'], 'Fear', inplace=True)\n",
    "    df.replace(['Otra'], 'Other', inplace=True)\n",
    "    \n",
    "    return df"
   ]
  },
  {
   "cell_type": "code",
   "execution_count": 4,
   "id": "4b27a53e-2a33-4436-ad04-63eaa63927da",
   "metadata": {},
   "outputs": [],
   "source": [
    "df = translation_emotions(df_esp).copy(deep=True)\n",
    "df_labels = df_labels_esp.copy(deep=True)"
   ]
  },
  {
   "cell_type": "code",
   "execution_count": 5,
   "id": "b4dab471-b181-4da8-a37a-4c69d145ff79",
   "metadata": {},
   "outputs": [],
   "source": [
    "df_emo_answers_wide = df.loc[:, 'Q2.1':'Q195.1'] # subset photos"
   ]
  },
  {
   "cell_type": "markdown",
   "id": "1791c825-98ff-4007-a838-1819245300b7",
   "metadata": {},
   "source": [
    "## Long format DF"
   ]
  },
  {
   "cell_type": "code",
   "execution_count": 6,
   "id": "6f09c365-9717-4c41-a6d5-10bee08f0b7f",
   "metadata": {},
   "outputs": [
    {
     "data": {
      "text/html": [
       "<div>\n",
       "<style scoped>\n",
       "    .dataframe tbody tr th:only-of-type {\n",
       "        vertical-align: middle;\n",
       "    }\n",
       "\n",
       "    .dataframe tbody tr th {\n",
       "        vertical-align: top;\n",
       "    }\n",
       "\n",
       "    .dataframe thead th {\n",
       "        text-align: right;\n",
       "    }\n",
       "</style>\n",
       "<table border=\"1\" class=\"dataframe\">\n",
       "  <thead>\n",
       "    <tr style=\"text-align: right;\">\n",
       "      <th></th>\n",
       "      <th>participantId</th>\n",
       "      <th>Q2.1</th>\n",
       "      <th>Q3.1</th>\n",
       "      <th>Q4.1</th>\n",
       "      <th>Q5.1</th>\n",
       "      <th>Q6.1</th>\n",
       "      <th>Q7.1</th>\n",
       "      <th>Q8.1</th>\n",
       "      <th>Q9.1</th>\n",
       "      <th>Q10.1</th>\n",
       "      <th>...</th>\n",
       "      <th>Q186.1</th>\n",
       "      <th>Q187.1</th>\n",
       "      <th>Q188.1</th>\n",
       "      <th>Q189.1</th>\n",
       "      <th>Q190.1</th>\n",
       "      <th>Q191.1</th>\n",
       "      <th>Q192.1</th>\n",
       "      <th>Q193.1</th>\n",
       "      <th>Q194.1</th>\n",
       "      <th>Q195.1</th>\n",
       "    </tr>\n",
       "  </thead>\n",
       "  <tbody>\n",
       "    <tr>\n",
       "      <th>0</th>\n",
       "      <td>0</td>\n",
       "      <td>Other</td>\n",
       "      <td>Uncertain</td>\n",
       "      <td>Anger</td>\n",
       "      <td>Other</td>\n",
       "      <td>Anger</td>\n",
       "      <td>Anger</td>\n",
       "      <td>Other</td>\n",
       "      <td>Anger</td>\n",
       "      <td>Disgust</td>\n",
       "      <td>...</td>\n",
       "      <td>Surprise</td>\n",
       "      <td>Neutral</td>\n",
       "      <td>Other</td>\n",
       "      <td>Uncertain</td>\n",
       "      <td>Disgust</td>\n",
       "      <td>Neutral</td>\n",
       "      <td>Other</td>\n",
       "      <td>Other</td>\n",
       "      <td>Uncertain</td>\n",
       "      <td>Neutral</td>\n",
       "    </tr>\n",
       "    <tr>\n",
       "      <th>1</th>\n",
       "      <td>1</td>\n",
       "      <td>Neutral</td>\n",
       "      <td>Anger</td>\n",
       "      <td>Anger</td>\n",
       "      <td>Uncertain</td>\n",
       "      <td>Anger</td>\n",
       "      <td>Anger</td>\n",
       "      <td>Neutral</td>\n",
       "      <td>Other</td>\n",
       "      <td>Uncertain</td>\n",
       "      <td>...</td>\n",
       "      <td>Surprise</td>\n",
       "      <td>Neutral</td>\n",
       "      <td>Other</td>\n",
       "      <td>Happiness</td>\n",
       "      <td>Uncertain</td>\n",
       "      <td>Neutral</td>\n",
       "      <td>Uncertain</td>\n",
       "      <td>Other</td>\n",
       "      <td>Other</td>\n",
       "      <td>Neutral</td>\n",
       "    </tr>\n",
       "  </tbody>\n",
       "</table>\n",
       "<p>2 rows × 195 columns</p>\n",
       "</div>"
      ],
      "text/plain": [
       "   participantId     Q2.1       Q3.1   Q4.1       Q5.1   Q6.1   Q7.1     Q8.1  \\\n",
       "0              0    Other  Uncertain  Anger      Other  Anger  Anger    Other   \n",
       "1              1  Neutral      Anger  Anger  Uncertain  Anger  Anger  Neutral   \n",
       "\n",
       "    Q9.1      Q10.1  ...    Q186.1   Q187.1 Q188.1     Q189.1     Q190.1  \\\n",
       "0  Anger    Disgust  ...  Surprise  Neutral  Other  Uncertain    Disgust   \n",
       "1  Other  Uncertain  ...  Surprise  Neutral  Other  Happiness  Uncertain   \n",
       "\n",
       "    Q191.1     Q192.1 Q193.1     Q194.1   Q195.1  \n",
       "0  Neutral      Other  Other  Uncertain  Neutral  \n",
       "1  Neutral  Uncertain  Other      Other  Neutral  \n",
       "\n",
       "[2 rows x 195 columns]"
      ]
     },
     "execution_count": 6,
     "metadata": {},
     "output_type": "execute_result"
    }
   ],
   "source": [
    "df_emo_answers_long = df_emo_answers_wide.reset_index()\n",
    "df_emo_answers_long['index'] = df_emo_answers_long.index\n",
    "df_emo_answers_long = df_emo_answers_long.rename(columns={'index':'participantId'})\n",
    "df_emo_answers_long.head(2)"
   ]
  },
  {
   "cell_type": "code",
   "execution_count": 7,
   "id": "59b4216f-96f3-4dd6-b332-fbcb6bbf6fa0",
   "metadata": {},
   "outputs": [],
   "source": [
    "df_labels['photoId'] =  df_labels['photoId'].str.strip()\n",
    "photoIds = df_labels['photoId'].tolist()"
   ]
  },
  {
   "cell_type": "code",
   "execution_count": 8,
   "id": "103fc155-c2e0-4a8c-9583-30bb293e50a9",
   "metadata": {},
   "outputs": [],
   "source": [
    "df_emo_answers_long = pd.melt(df_emo_answers_long, id_vars=['participantId'], value_vars=photoIds).reset_index(drop=True).sort_values(by=['participantId'])"
   ]
  },
  {
   "cell_type": "code",
   "execution_count": 9,
   "id": "fd9ef761-c2ca-41d5-a566-f200b0516d3b",
   "metadata": {},
   "outputs": [],
   "source": [
    "df_emo_answers_long = df_emo_answers_long.rename(columns={'variable':'photoId', 'value':'emotion'})"
   ]
  },
  {
   "cell_type": "code",
   "execution_count": 10,
   "id": "73ef6d9d-5859-463f-9778-a178d8c47637",
   "metadata": {},
   "outputs": [],
   "source": [
    "df_emo_answers_long_m = pd.merge(df_emo_answers_long, df_labels, how=\"left\", on=[\"photoId\"], validate=\"many_to_one\")"
   ]
  },
  {
   "cell_type": "code",
   "execution_count": 11,
   "id": "16cf294d-c586-4ea7-b045-f51e7b3b8ec5",
   "metadata": {},
   "outputs": [
    {
     "data": {
      "text/html": [
       "<div>\n",
       "<style scoped>\n",
       "    .dataframe tbody tr th:only-of-type {\n",
       "        vertical-align: middle;\n",
       "    }\n",
       "\n",
       "    .dataframe tbody tr th {\n",
       "        vertical-align: top;\n",
       "    }\n",
       "\n",
       "    .dataframe thead th {\n",
       "        text-align: right;\n",
       "    }\n",
       "</style>\n",
       "<table border=\"1\" class=\"dataframe\">\n",
       "  <thead>\n",
       "    <tr style=\"text-align: right;\">\n",
       "      <th></th>\n",
       "      <th>participantId</th>\n",
       "      <th>photoId</th>\n",
       "      <th>emotion</th>\n",
       "      <th>ethnicity</th>\n",
       "      <th>sex</th>\n",
       "      <th>age</th>\n",
       "      <th>label</th>\n",
       "      <th>url</th>\n",
       "    </tr>\n",
       "  </thead>\n",
       "  <tbody>\n",
       "    <tr>\n",
       "      <th>0</th>\n",
       "      <td>0</td>\n",
       "      <td>Q2.1</td>\n",
       "      <td>Other</td>\n",
       "      <td>bipoc</td>\n",
       "      <td>female</td>\n",
       "      <td>adult</td>\n",
       "      <td>enfado</td>\n",
       "      <td>https://uwmadison.co1.qualtrics.com/ControlPan...</td>\n",
       "    </tr>\n",
       "    <tr>\n",
       "      <th>1</th>\n",
       "      <td>0</td>\n",
       "      <td>Q99.1</td>\n",
       "      <td>Neutral</td>\n",
       "      <td>bipoc</td>\n",
       "      <td>female</td>\n",
       "      <td>adult</td>\n",
       "      <td>neutral</td>\n",
       "      <td>https://uwmadison.co1.qualtrics.com/ControlPan...</td>\n",
       "    </tr>\n",
       "  </tbody>\n",
       "</table>\n",
       "</div>"
      ],
      "text/plain": [
       "   participantId photoId  emotion ethnicity     sex    age    label  \\\n",
       "0              0    Q2.1    Other     bipoc  female  adult   enfado   \n",
       "1              0   Q99.1  Neutral     bipoc  female  adult  neutral   \n",
       "\n",
       "                                                 url  \n",
       "0  https://uwmadison.co1.qualtrics.com/ControlPan...  \n",
       "1  https://uwmadison.co1.qualtrics.com/ControlPan...  "
      ]
     },
     "execution_count": 11,
     "metadata": {},
     "output_type": "execute_result"
    }
   ],
   "source": [
    "df_emo_answers_long_m.head(2)"
   ]
  },
  {
   "cell_type": "markdown",
   "id": "63d3282b-ce4b-4a8e-903b-09ca6b73f83a",
   "metadata": {},
   "source": [
    "## Sentiment score"
   ]
  },
  {
   "cell_type": "code",
   "execution_count": 12,
   "id": "cf831ba4-b443-48ae-ac72-af0fa693565a",
   "metadata": {},
   "outputs": [],
   "source": [
    "from nltk.sentiment import SentimentIntensityAnalyzer"
   ]
  },
  {
   "cell_type": "code",
   "execution_count": 13,
   "id": "b691762e-d485-410e-a932-59cf11fffbcb",
   "metadata": {},
   "outputs": [],
   "source": [
    "sia = SentimentIntensityAnalyzer()"
   ]
  },
  {
   "cell_type": "code",
   "execution_count": 14,
   "id": "13f34ddc-4d3f-4e81-b4a9-6b9004e80436",
   "metadata": {},
   "outputs": [],
   "source": [
    "df_emo_answers_long_m['sentimentScore'] = df_emo_answers_long_m['emotion'].apply(lambda x: sia.polarity_scores(x)['compound'])"
   ]
  },
  {
   "cell_type": "code",
   "execution_count": 15,
   "id": "668a46cf-ffe9-47cd-a9cd-1136ae0cd49f",
   "metadata": {},
   "outputs": [
    {
     "data": {
      "text/html": [
       "<div>\n",
       "<style scoped>\n",
       "    .dataframe tbody tr th:only-of-type {\n",
       "        vertical-align: middle;\n",
       "    }\n",
       "\n",
       "    .dataframe tbody tr th {\n",
       "        vertical-align: top;\n",
       "    }\n",
       "\n",
       "    .dataframe thead th {\n",
       "        text-align: right;\n",
       "    }\n",
       "</style>\n",
       "<table border=\"1\" class=\"dataframe\">\n",
       "  <thead>\n",
       "    <tr style=\"text-align: right;\">\n",
       "      <th></th>\n",
       "      <th>participantId</th>\n",
       "      <th>photoId</th>\n",
       "      <th>emotion</th>\n",
       "      <th>ethnicity</th>\n",
       "      <th>sex</th>\n",
       "      <th>age</th>\n",
       "      <th>label</th>\n",
       "      <th>url</th>\n",
       "      <th>sentimentScore</th>\n",
       "    </tr>\n",
       "  </thead>\n",
       "  <tbody>\n",
       "    <tr>\n",
       "      <th>0</th>\n",
       "      <td>0</td>\n",
       "      <td>Q2.1</td>\n",
       "      <td>Other</td>\n",
       "      <td>bipoc</td>\n",
       "      <td>female</td>\n",
       "      <td>adult</td>\n",
       "      <td>enfado</td>\n",
       "      <td>https://uwmadison.co1.qualtrics.com/ControlPan...</td>\n",
       "      <td>0.0</td>\n",
       "    </tr>\n",
       "    <tr>\n",
       "      <th>1</th>\n",
       "      <td>0</td>\n",
       "      <td>Q99.1</td>\n",
       "      <td>Neutral</td>\n",
       "      <td>bipoc</td>\n",
       "      <td>female</td>\n",
       "      <td>adult</td>\n",
       "      <td>neutral</td>\n",
       "      <td>https://uwmadison.co1.qualtrics.com/ControlPan...</td>\n",
       "      <td>0.0</td>\n",
       "    </tr>\n",
       "  </tbody>\n",
       "</table>\n",
       "</div>"
      ],
      "text/plain": [
       "   participantId photoId  emotion ethnicity     sex    age    label  \\\n",
       "0              0    Q2.1    Other     bipoc  female  adult   enfado   \n",
       "1              0   Q99.1  Neutral     bipoc  female  adult  neutral   \n",
       "\n",
       "                                                 url  sentimentScore  \n",
       "0  https://uwmadison.co1.qualtrics.com/ControlPan...             0.0  \n",
       "1  https://uwmadison.co1.qualtrics.com/ControlPan...             0.0  "
      ]
     },
     "execution_count": 15,
     "metadata": {},
     "output_type": "execute_result"
    }
   ],
   "source": [
    "df_emo_answers_long_m.head(2)"
   ]
  },
  {
   "cell_type": "markdown",
   "id": "4250e64c-555a-4584-b5d8-edcf06e73988",
   "metadata": {},
   "source": [
    "## Center predictors"
   ]
  },
  {
   "cell_type": "code",
   "execution_count": 16,
   "id": "b3261213-688e-4d3b-82d1-9605a05dd20a",
   "metadata": {},
   "outputs": [],
   "source": [
    "df_emo_answers_long_m['sexC'] = df_emo_answers_long_m['sex'].replace({'female': -0.5, 'male': 0.5})\n",
    "df_emo_answers_long_m['ageC'] = df_emo_answers_long_m['age'].replace({'child': -0.5, 'adult': 0.5})\n",
    "df_emo_answers_long_m['ethnicityC'] = df_emo_answers_long_m['ethnicity'].replace({'bipoc': -0.5, 'white': 0.5})"
   ]
  },
  {
   "cell_type": "code",
   "execution_count": 17,
   "id": "a07ab656-e1a4-4319-b4b4-bdec6b6d6ded",
   "metadata": {},
   "outputs": [
    {
     "data": {
      "text/html": [
       "<div>\n",
       "<style scoped>\n",
       "    .dataframe tbody tr th:only-of-type {\n",
       "        vertical-align: middle;\n",
       "    }\n",
       "\n",
       "    .dataframe tbody tr th {\n",
       "        vertical-align: top;\n",
       "    }\n",
       "\n",
       "    .dataframe thead th {\n",
       "        text-align: right;\n",
       "    }\n",
       "</style>\n",
       "<table border=\"1\" class=\"dataframe\">\n",
       "  <thead>\n",
       "    <tr style=\"text-align: right;\">\n",
       "      <th></th>\n",
       "      <th>participantId</th>\n",
       "      <th>photoId</th>\n",
       "      <th>emotion</th>\n",
       "      <th>ethnicity</th>\n",
       "      <th>sex</th>\n",
       "      <th>age</th>\n",
       "      <th>label</th>\n",
       "      <th>url</th>\n",
       "      <th>sentimentScore</th>\n",
       "      <th>sexC</th>\n",
       "      <th>ageC</th>\n",
       "      <th>ethnicityC</th>\n",
       "    </tr>\n",
       "  </thead>\n",
       "  <tbody>\n",
       "    <tr>\n",
       "      <th>0</th>\n",
       "      <td>0</td>\n",
       "      <td>Q2.1</td>\n",
       "      <td>Other</td>\n",
       "      <td>bipoc</td>\n",
       "      <td>female</td>\n",
       "      <td>adult</td>\n",
       "      <td>enfado</td>\n",
       "      <td>https://uwmadison.co1.qualtrics.com/ControlPan...</td>\n",
       "      <td>0.0</td>\n",
       "      <td>-0.5</td>\n",
       "      <td>0.5</td>\n",
       "      <td>-0.5</td>\n",
       "    </tr>\n",
       "    <tr>\n",
       "      <th>1</th>\n",
       "      <td>0</td>\n",
       "      <td>Q99.1</td>\n",
       "      <td>Neutral</td>\n",
       "      <td>bipoc</td>\n",
       "      <td>female</td>\n",
       "      <td>adult</td>\n",
       "      <td>neutral</td>\n",
       "      <td>https://uwmadison.co1.qualtrics.com/ControlPan...</td>\n",
       "      <td>0.0</td>\n",
       "      <td>-0.5</td>\n",
       "      <td>0.5</td>\n",
       "      <td>-0.5</td>\n",
       "    </tr>\n",
       "  </tbody>\n",
       "</table>\n",
       "</div>"
      ],
      "text/plain": [
       "   participantId photoId  emotion ethnicity     sex    age    label  \\\n",
       "0              0    Q2.1    Other     bipoc  female  adult   enfado   \n",
       "1              0   Q99.1  Neutral     bipoc  female  adult  neutral   \n",
       "\n",
       "                                                 url  sentimentScore  sexC  \\\n",
       "0  https://uwmadison.co1.qualtrics.com/ControlPan...             0.0  -0.5   \n",
       "1  https://uwmadison.co1.qualtrics.com/ControlPan...             0.0  -0.5   \n",
       "\n",
       "   ageC  ethnicityC  \n",
       "0   0.5        -0.5  \n",
       "1   0.5        -0.5  "
      ]
     },
     "execution_count": 17,
     "metadata": {},
     "output_type": "execute_result"
    }
   ],
   "source": [
    "df_emo_answers_long_m.head(2)"
   ]
  },
  {
   "cell_type": "code",
   "execution_count": 18,
   "id": "8582a97c-34f0-4b7e-8fba-1d206af87c94",
   "metadata": {},
   "outputs": [],
   "source": [
    "df_emo_answers_long_m_fil = df_emo_answers_long_m[df_emo_answers_long_m['label'] != 'attention']\n",
    "df_emo_answers_long_m_fil = df_emo_answers_long_m_fil.reset_index(drop=True)"
   ]
  },
  {
   "cell_type": "code",
   "execution_count": 19,
   "id": "d33c4cd3-0885-46ee-9634-4fdfd035ee99",
   "metadata": {},
   "outputs": [],
   "source": [
    "df_emo_answers_long_m_fil.to_csv('../clean_data_mturk/forced_choice_emotion_mturk_long_format_lmer.csv', index=False)"
   ]
  },
  {
   "cell_type": "code",
   "execution_count": 20,
   "id": "f12e45d8-3965-42c4-8e80-18557a2f964e",
   "metadata": {},
   "outputs": [
    {
     "data": {
      "text/html": [
       "<div>\n",
       "<style scoped>\n",
       "    .dataframe tbody tr th:only-of-type {\n",
       "        vertical-align: middle;\n",
       "    }\n",
       "\n",
       "    .dataframe tbody tr th {\n",
       "        vertical-align: top;\n",
       "    }\n",
       "\n",
       "    .dataframe thead th {\n",
       "        text-align: right;\n",
       "    }\n",
       "</style>\n",
       "<table border=\"1\" class=\"dataframe\">\n",
       "  <thead>\n",
       "    <tr style=\"text-align: right;\">\n",
       "      <th></th>\n",
       "      <th>participantId</th>\n",
       "      <th>photoId</th>\n",
       "      <th>emotion</th>\n",
       "      <th>ethnicity</th>\n",
       "      <th>sex</th>\n",
       "      <th>age</th>\n",
       "      <th>label</th>\n",
       "      <th>url</th>\n",
       "      <th>sentimentScore</th>\n",
       "      <th>sexC</th>\n",
       "      <th>ageC</th>\n",
       "      <th>ethnicityC</th>\n",
       "    </tr>\n",
       "  </thead>\n",
       "  <tbody>\n",
       "    <tr>\n",
       "      <th>0</th>\n",
       "      <td>0</td>\n",
       "      <td>Q2.1</td>\n",
       "      <td>Other</td>\n",
       "      <td>bipoc</td>\n",
       "      <td>female</td>\n",
       "      <td>adult</td>\n",
       "      <td>enfado</td>\n",
       "      <td>https://uwmadison.co1.qualtrics.com/ControlPan...</td>\n",
       "      <td>0.0000</td>\n",
       "      <td>-0.5</td>\n",
       "      <td>0.5</td>\n",
       "      <td>-0.5</td>\n",
       "    </tr>\n",
       "    <tr>\n",
       "      <th>1</th>\n",
       "      <td>0</td>\n",
       "      <td>Q99.1</td>\n",
       "      <td>Neutral</td>\n",
       "      <td>bipoc</td>\n",
       "      <td>female</td>\n",
       "      <td>adult</td>\n",
       "      <td>neutral</td>\n",
       "      <td>https://uwmadison.co1.qualtrics.com/ControlPan...</td>\n",
       "      <td>0.0000</td>\n",
       "      <td>-0.5</td>\n",
       "      <td>0.5</td>\n",
       "      <td>-0.5</td>\n",
       "    </tr>\n",
       "    <tr>\n",
       "      <th>2</th>\n",
       "      <td>0</td>\n",
       "      <td>Q98.1</td>\n",
       "      <td>Happiness</td>\n",
       "      <td>white</td>\n",
       "      <td>male</td>\n",
       "      <td>child</td>\n",
       "      <td>felicidad</td>\n",
       "      <td>https://uwmadison.co1.qualtrics.com/ControlPan...</td>\n",
       "      <td>0.5574</td>\n",
       "      <td>0.5</td>\n",
       "      <td>-0.5</td>\n",
       "      <td>0.5</td>\n",
       "    </tr>\n",
       "    <tr>\n",
       "      <th>3</th>\n",
       "      <td>0</td>\n",
       "      <td>Q97.1</td>\n",
       "      <td>Neutral</td>\n",
       "      <td>white</td>\n",
       "      <td>male</td>\n",
       "      <td>adult</td>\n",
       "      <td>felicidad</td>\n",
       "      <td>https://uwmadison.co1.qualtrics.com/ControlPan...</td>\n",
       "      <td>0.0000</td>\n",
       "      <td>0.5</td>\n",
       "      <td>0.5</td>\n",
       "      <td>0.5</td>\n",
       "    </tr>\n",
       "    <tr>\n",
       "      <th>4</th>\n",
       "      <td>0</td>\n",
       "      <td>Q96.1</td>\n",
       "      <td>Happiness</td>\n",
       "      <td>white</td>\n",
       "      <td>female</td>\n",
       "      <td>child</td>\n",
       "      <td>felicidad</td>\n",
       "      <td>https://uwmadison.co1.qualtrics.com/ControlPan...</td>\n",
       "      <td>0.5574</td>\n",
       "      <td>-0.5</td>\n",
       "      <td>-0.5</td>\n",
       "      <td>0.5</td>\n",
       "    </tr>\n",
       "  </tbody>\n",
       "</table>\n",
       "</div>"
      ],
      "text/plain": [
       "   participantId photoId    emotion ethnicity     sex    age      label  \\\n",
       "0              0    Q2.1      Other     bipoc  female  adult     enfado   \n",
       "1              0   Q99.1    Neutral     bipoc  female  adult    neutral   \n",
       "2              0   Q98.1  Happiness     white    male  child  felicidad   \n",
       "3              0   Q97.1    Neutral     white    male  adult  felicidad   \n",
       "4              0   Q96.1  Happiness     white  female  child  felicidad   \n",
       "\n",
       "                                                 url  sentimentScore  sexC  \\\n",
       "0  https://uwmadison.co1.qualtrics.com/ControlPan...          0.0000  -0.5   \n",
       "1  https://uwmadison.co1.qualtrics.com/ControlPan...          0.0000  -0.5   \n",
       "2  https://uwmadison.co1.qualtrics.com/ControlPan...          0.5574   0.5   \n",
       "3  https://uwmadison.co1.qualtrics.com/ControlPan...          0.0000   0.5   \n",
       "4  https://uwmadison.co1.qualtrics.com/ControlPan...          0.5574  -0.5   \n",
       "\n",
       "   ageC  ethnicityC  \n",
       "0   0.5        -0.5  \n",
       "1   0.5        -0.5  \n",
       "2  -0.5         0.5  \n",
       "3   0.5         0.5  \n",
       "4  -0.5         0.5  "
      ]
     },
     "execution_count": 20,
     "metadata": {},
     "output_type": "execute_result"
    }
   ],
   "source": [
    "df_emo_answers_long_m_fil.head()"
   ]
  },
  {
   "cell_type": "markdown",
   "id": "66591cc8-2c46-4653-b586-38f07b1f07d3",
   "metadata": {},
   "source": [
    "# Free-labeling"
   ]
  },
  {
   "cell_type": "code",
   "execution_count": 21,
   "id": "d1353c05-3405-4308-924f-55c46a3bb598",
   "metadata": {},
   "outputs": [],
   "source": [
    "df_free_esp = pd.read_csv('../clean_data_mturk_espanol/free_choice_emotion_mturk_espanol.csv')\n",
    "df_labels_free = pd.read_csv('../data_mturk_espanol/emotion_labels_free_choice_mturk_espanol.csv')"
   ]
  },
  {
   "cell_type": "code",
   "execution_count": 22,
   "id": "bb35da53-87c9-4c7a-becd-e4bf8812872f",
   "metadata": {},
   "outputs": [],
   "source": [
    "df_emo_answers_free = df_free_esp.loc[:, 'Q2.1_1':'Q195.1_4'] # get cols with words only"
   ]
  },
  {
   "cell_type": "markdown",
   "id": "65d8de4e-ec72-4792-87ae-53f42a2e1e03",
   "metadata": {},
   "source": [
    "## Manual word clean up"
   ]
  },
  {
   "cell_type": "code",
   "execution_count": 23,
   "id": "fe987a9d-338b-4832-8040-a26037d889e5",
   "metadata": {},
   "outputs": [],
   "source": [
    "df_emo_answers_free = df_emo_answers_free.transform(lambda x: x.str.strip(), axis = 1)\n",
    "df_emo_answers_free = df_emo_answers_free.transform(lambda x: x.str.lower(), axis = 1)\n",
    "df_emo_answers_free = df_emo_answers_free.transform(lambda x: x.replace({'na':'none'}) , axis = 1)\n",
    "df_emo_answers_free = df_emo_answers_free.fillna('NAN')"
   ]
  },
  {
   "cell_type": "code",
   "execution_count": 24,
   "id": "040cc641-27ab-4b00-8675-c8e1819ac0f5",
   "metadata": {},
   "outputs": [
    {
     "data": {
      "text/html": [
       "<div>\n",
       "<style scoped>\n",
       "    .dataframe tbody tr th:only-of-type {\n",
       "        vertical-align: middle;\n",
       "    }\n",
       "\n",
       "    .dataframe tbody tr th {\n",
       "        vertical-align: top;\n",
       "    }\n",
       "\n",
       "    .dataframe thead th {\n",
       "        text-align: right;\n",
       "    }\n",
       "</style>\n",
       "<table border=\"1\" class=\"dataframe\">\n",
       "  <thead>\n",
       "    <tr style=\"text-align: right;\">\n",
       "      <th></th>\n",
       "      <th>Q2.1_1</th>\n",
       "      <th>Q2.1_2</th>\n",
       "      <th>Q2.1_3</th>\n",
       "      <th>Q2.1_4</th>\n",
       "      <th>Q3.1_1</th>\n",
       "      <th>Q3.1_2</th>\n",
       "      <th>Q3.1_3</th>\n",
       "      <th>Q3.1_4</th>\n",
       "      <th>Q4.1_1</th>\n",
       "      <th>Q4.1_2</th>\n",
       "      <th>...</th>\n",
       "      <th>Q193.1_3</th>\n",
       "      <th>Q193.1_4</th>\n",
       "      <th>Q194.1_1</th>\n",
       "      <th>Q194.1_2</th>\n",
       "      <th>Q194.1_3</th>\n",
       "      <th>Q194.1_4</th>\n",
       "      <th>Q195.1_1</th>\n",
       "      <th>Q195.1_2</th>\n",
       "      <th>Q195.1_3</th>\n",
       "      <th>Q195.1_4</th>\n",
       "    </tr>\n",
       "  </thead>\n",
       "  <tbody>\n",
       "    <tr>\n",
       "      <th>0</th>\n",
       "      <td>molesta</td>\n",
       "      <td>NAN</td>\n",
       "      <td>NAN</td>\n",
       "      <td>NAN</td>\n",
       "      <td>molesta</td>\n",
       "      <td>NAN</td>\n",
       "      <td>NAN</td>\n",
       "      <td>NAN</td>\n",
       "      <td>molesto</td>\n",
       "      <td>NAN</td>\n",
       "      <td>...</td>\n",
       "      <td>NAN</td>\n",
       "      <td>NAN</td>\n",
       "      <td>molesto</td>\n",
       "      <td>NAN</td>\n",
       "      <td>NAN</td>\n",
       "      <td>NAN</td>\n",
       "      <td>molesto</td>\n",
       "      <td>NAN</td>\n",
       "      <td>NAN</td>\n",
       "      <td>NAN</td>\n",
       "    </tr>\n",
       "    <tr>\n",
       "      <th>1</th>\n",
       "      <td>enfado</td>\n",
       "      <td>NAN</td>\n",
       "      <td>NAN</td>\n",
       "      <td>NAN</td>\n",
       "      <td>enfado</td>\n",
       "      <td>NAN</td>\n",
       "      <td>NAN</td>\n",
       "      <td>NAN</td>\n",
       "      <td>enfado</td>\n",
       "      <td>NAN</td>\n",
       "      <td>...</td>\n",
       "      <td>NAN</td>\n",
       "      <td>NAN</td>\n",
       "      <td>NAN</td>\n",
       "      <td>NAN</td>\n",
       "      <td>NAN</td>\n",
       "      <td>NAN</td>\n",
       "      <td>neutral</td>\n",
       "      <td>NAN</td>\n",
       "      <td>NAN</td>\n",
       "      <td>NAN</td>\n",
       "    </tr>\n",
       "  </tbody>\n",
       "</table>\n",
       "<p>2 rows × 776 columns</p>\n",
       "</div>"
      ],
      "text/plain": [
       "    Q2.1_1 Q2.1_2 Q2.1_3 Q2.1_4   Q3.1_1 Q3.1_2 Q3.1_3 Q3.1_4   Q4.1_1 Q4.1_2  \\\n",
       "0  molesta    NAN    NAN    NAN  molesta    NAN    NAN    NAN  molesto    NAN   \n",
       "1   enfado    NAN    NAN    NAN   enfado    NAN    NAN    NAN   enfado    NAN   \n",
       "\n",
       "   ... Q193.1_3 Q193.1_4 Q194.1_1 Q194.1_2 Q194.1_3 Q194.1_4 Q195.1_1  \\\n",
       "0  ...      NAN      NAN  molesto      NAN      NAN      NAN  molesto   \n",
       "1  ...      NAN      NAN      NAN      NAN      NAN      NAN  neutral   \n",
       "\n",
       "  Q195.1_2 Q195.1_3 Q195.1_4  \n",
       "0      NAN      NAN      NAN  \n",
       "1      NAN      NAN      NAN  \n",
       "\n",
       "[2 rows x 776 columns]"
      ]
     },
     "execution_count": 24,
     "metadata": {},
     "output_type": "execute_result"
    }
   ],
   "source": [
    "df_emo_answers_free.head(2)"
   ]
  },
  {
   "cell_type": "markdown",
   "id": "012da50e-d2be-4632-ba8d-a630bd8b7da1",
   "metadata": {},
   "source": [
    "## English translation"
   ]
  },
  {
   "cell_type": "code",
   "execution_count": 25,
   "id": "4c0540a2-efeb-42bb-89b6-686035eeacd7",
   "metadata": {},
   "outputs": [],
   "source": [
    "df_stack = df_emo_answers_free.stack().reset_index(drop=True) # stack as series\n",
    "df_stack = df_stack.to_frame(name='emotion') # as DF\n",
    "emotion_set = list(set(df_stack['emotion'])) # get distinc words"
   ]
  },
  {
   "cell_type": "code",
   "execution_count": null,
   "id": "c09dd642-4f66-4ced-bdc1-70c90d74d9b6",
   "metadata": {},
   "outputs": [],
   "source": [
    "## dic for translation\n",
    "emotion_dic = {}\n",
    "for i in emotion_set:\n",
    "    emotion_dic[i] = GoogleTranslator(source='spanish', target='english').translate(i)"
   ]
  },
  {
   "cell_type": "code",
   "execution_count": null,
   "id": "c91aeb08-4fc1-46fd-885e-7f2ace02b301",
   "metadata": {},
   "outputs": [],
   "source": [
    "df_emo_answers_free_en = df_emo_answers_free.replace(emotion_dic)"
   ]
  },
  {
   "cell_type": "code",
   "execution_count": null,
   "id": "4b4c21f2-0572-4206-8aac-3c923a4fa676",
   "metadata": {},
   "outputs": [],
   "source": [
    "df_labels_free['photoId'] = df_emo_answers_free.columns.tolist()\n",
    "df_labels_free.tail(2)"
   ]
  },
  {
   "cell_type": "markdown",
   "id": "591c4f44-d226-4865-b892-f7806ed49bbe",
   "metadata": {},
   "source": [
    "## Long-form DF"
   ]
  },
  {
   "cell_type": "code",
   "execution_count": null,
   "id": "12a64a93-4f2f-4255-b7c1-ae7e387f0fa0",
   "metadata": {},
   "outputs": [],
   "source": [
    "df_emo_answers_free_long = df_emo_answers_free_en.reset_index()\n",
    "df_emo_answers_free_long['index'] = df_emo_answers_free_long.index\n",
    "df_emo_answers_free_long = df_emo_answers_free_long.rename(columns={'index':'participantId'})\n",
    "df_emo_answers_free_long.head(2)"
   ]
  },
  {
   "cell_type": "code",
   "execution_count": null,
   "id": "056af123-cf4b-4b2b-940d-77407818960b",
   "metadata": {},
   "outputs": [],
   "source": [
    "# df_labels['photoId'] =  df_labels['photoId'].str.strip()\n",
    "photoIds = df_labels_free['photoId'].tolist()"
   ]
  },
  {
   "cell_type": "code",
   "execution_count": null,
   "id": "86c4e514-983d-4aaa-8680-5ab1826becc3",
   "metadata": {},
   "outputs": [],
   "source": [
    "df_emo_answers_free_long = pd.melt(df_emo_answers_free_long, id_vars=['participantId'], value_vars=photoIds).reset_index(drop=True).sort_values(by=['participantId'])"
   ]
  },
  {
   "cell_type": "code",
   "execution_count": null,
   "id": "db91018c-4d11-4625-80e9-c20975aa9e80",
   "metadata": {},
   "outputs": [],
   "source": [
    "df_emo_answers_free_long = df_emo_answers_free_long.rename(columns={'variable':'photoId', 'value':'emotion'})"
   ]
  },
  {
   "cell_type": "code",
   "execution_count": null,
   "id": "808db177-b1a4-46eb-acc0-b0b35a5125b7",
   "metadata": {},
   "outputs": [],
   "source": [
    "## replace with np.nan to drop it \n",
    "dic_nan = {'nan': np.nan, 'none': np.nan}\n",
    "\n",
    "df_emo_answers_free_long['emotion'] = df_emo_answers_free_long['emotion'].replace(dic_nan)"
   ]
  },
  {
   "cell_type": "code",
   "execution_count": null,
   "id": "103a1a10-61ec-42ae-8ae4-dab98597f5a6",
   "metadata": {},
   "outputs": [],
   "source": [
    "df_emo_answers_free_long.head()"
   ]
  },
  {
   "cell_type": "code",
   "execution_count": null,
   "id": "0696063c-7cb2-49af-ba73-b61fc53494bc",
   "metadata": {},
   "outputs": [],
   "source": [
    "df_emo_answers_free_long.isna().sum(), df_emo_answers_free_long.shape"
   ]
  },
  {
   "cell_type": "code",
   "execution_count": null,
   "id": "54f731e1-95ef-4c6e-afcc-93df85a59fec",
   "metadata": {},
   "outputs": [],
   "source": [
    "## drop np.nan\n",
    "df_emo_answers_free_long_drop = df_emo_answers_free_long.dropna()\n",
    "\n",
    "df_emo_answers_free_long_drop.isna().sum(), df_emo_answers_free_long_drop.shape"
   ]
  },
  {
   "cell_type": "code",
   "execution_count": null,
   "id": "37aa667e-d3e5-4e6a-a0af-7882ee566ed3",
   "metadata": {},
   "outputs": [],
   "source": [
    "df_emo_answers_free_long_m = pd.merge(df_emo_answers_free_long_drop, df_labels_free, how=\"left\", on=[\"photoId\"], validate=\"many_to_one\")"
   ]
  },
  {
   "cell_type": "code",
   "execution_count": null,
   "id": "654cf605-374c-4a11-bcc8-b8137d0f818c",
   "metadata": {},
   "outputs": [],
   "source": [
    "df_emo_answers_free_long_m.head(2)"
   ]
  },
  {
   "cell_type": "markdown",
   "id": "065fa54c-0df3-4e41-92cd-441a2e8cdefa",
   "metadata": {},
   "source": [
    "## Sentiment score"
   ]
  },
  {
   "cell_type": "code",
   "execution_count": null,
   "id": "d4a1e641-d3a2-4598-886c-2f5dcc5d0d06",
   "metadata": {},
   "outputs": [],
   "source": [
    "df_emo_answers_free_long_m['sentimentScore'] = df_emo_answers_free_long_m['emotion'].apply(lambda x: sia.polarity_scores(x)['compound'])"
   ]
  },
  {
   "cell_type": "code",
   "execution_count": null,
   "id": "3b1f4e15-3403-4339-a05b-017992919045",
   "metadata": {},
   "outputs": [],
   "source": [
    "df_emo_answers_free_long_m.head(2)"
   ]
  },
  {
   "cell_type": "markdown",
   "id": "e2cb10c7-0a13-406b-8f79-2ae3a7d47a5d",
   "metadata": {},
   "source": [
    "## Center predictors"
   ]
  },
  {
   "cell_type": "code",
   "execution_count": null,
   "id": "f522ad77-ebae-4439-b213-40c94f4f5fab",
   "metadata": {},
   "outputs": [],
   "source": [
    "df_emo_answers_free_long_m['sexC'] = df_emo_answers_free_long_m['sex'].replace({'female': -0.5, 'male': 0.5})\n",
    "df_emo_answers_free_long_m['ageC'] = df_emo_answers_free_long_m['age'].replace({'child': -0.5, 'adult': 0.5})\n",
    "df_emo_answers_free_long_m['ethnicityC'] = df_emo_answers_free_long_m['ethnicity'].replace({'bipoc': -0.5, 'white': 0.5})"
   ]
  },
  {
   "cell_type": "code",
   "execution_count": null,
   "id": "56195e9e-4222-45cb-8415-1fb3f31b3639",
   "metadata": {},
   "outputs": [],
   "source": [
    "df_emo_answers_free_long_m.head(2)"
   ]
  },
  {
   "cell_type": "code",
   "execution_count": null,
   "id": "9c061498-67ef-4ad4-a452-3529b1229928",
   "metadata": {},
   "outputs": [],
   "source": [
    "df_emo_answers_free_long_m_fil = df_emo_answers_free_long_m[df_emo_answers_free_long_m['label'] != 'attention']\n",
    "df_emo_answers_free_long_m_fil = df_emo_answers_free_long_m_fil.reset_index(drop=True)"
   ]
  },
  {
   "cell_type": "code",
   "execution_count": null,
   "id": "31a05963-4c0a-4586-ae12-fb25ad2eacce",
   "metadata": {},
   "outputs": [],
   "source": [
    "df_emo_answers_free_long_m_fil.head(2)"
   ]
  },
  {
   "cell_type": "code",
   "execution_count": null,
   "id": "9967c788-440c-4e8c-8660-1e769c3a0b6a",
   "metadata": {},
   "outputs": [],
   "source": [
    "df_emo_answers_free_long_m_fil.to_csv('../clean_data_mturk_espanol/free_labeling_emotion_mturk_long_format_lmer_espanol.csv', index=False)"
   ]
  }
 ],
 "metadata": {
  "kernelspec": {
   "display_name": "Python 3 (ipykernel)",
   "language": "python",
   "name": "python3"
  },
  "language_info": {
   "codemirror_mode": {
    "name": "ipython",
    "version": 3
   },
   "file_extension": ".py",
   "mimetype": "text/x-python",
   "name": "python",
   "nbconvert_exporter": "python",
   "pygments_lexer": "ipython3",
   "version": "3.9.7"
  }
 },
 "nbformat": 4,
 "nbformat_minor": 5
}
