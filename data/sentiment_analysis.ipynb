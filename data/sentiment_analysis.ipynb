{
 "cells": [
  {
   "cell_type": "code",
   "execution_count": 15,
   "id": "f6572b0c-8342-4b8b-a54e-f1dd6725dcdd",
   "metadata": {},
   "outputs": [],
   "source": [
    "import nltk\n",
    "import pandas as pd\n",
    "from nltk.sentiment import SentimentIntensityAnalyzer"
   ]
  },
  {
   "cell_type": "code",
   "execution_count": 17,
   "id": "8c8fdce1-d58f-49fa-becb-3fe62f518cc3",
   "metadata": {},
   "outputs": [],
   "source": [
    "# nltk.download([\n",
    "#     \"names\",\n",
    "#     \"stopwords\",\n",
    "#     \"state_union\",\n",
    "#     \"twitter_samples\",\n",
    "#     \"movie_reviews\",\n",
    "#     \"averaged_perceptron_tagger\",\n",
    "#     \"vader_lexicon\",\n",
    "#     \"punkt\",\n",
    "# ])"
   ]
  },
  {
   "cell_type": "markdown",
   "id": "8e0adba2-c4d0-4310-a4e6-31d23680df0a",
   "metadata": {},
   "source": [
    "# Forced choice sentiment scores"
   ]
  },
  {
   "cell_type": "code",
   "execution_count": 29,
   "id": "ceb51689-8a4c-47b3-bf05-cc1497fc89c7",
   "metadata": {},
   "outputs": [],
   "source": [
    "forced_choice_df = pd.read_csv('../clean_data/forced_choice_uw_students_count_emotions.csv')"
   ]
  },
  {
   "cell_type": "code",
   "execution_count": 18,
   "id": "ad58355b-078f-487c-8b1b-9a2552795f6d",
   "metadata": {},
   "outputs": [],
   "source": [
    "sia = SentimentIntensityAnalyzer()"
   ]
  },
  {
   "cell_type": "code",
   "execution_count": 30,
   "id": "3b700753-b04a-4289-a808-66bff7abcde2",
   "metadata": {},
   "outputs": [],
   "source": [
    "forced_choice_emo_list = ['happiness', 'neutral', 'surprise' , 'sadness', 'disgust', 'anger', 'fear', 'uncertain']"
   ]
  },
  {
   "cell_type": "code",
   "execution_count": 36,
   "id": "328b4e00-44f0-4661-9b98-0976e1a0e289",
   "metadata": {},
   "outputs": [],
   "source": [
    "emo_scores_forced = dict.fromkeys(forced_choice_emo_list)"
   ]
  },
  {
   "cell_type": "code",
   "execution_count": 52,
   "id": "78243b10-fce7-4a48-9868-59b75dc3bdc9",
   "metadata": {},
   "outputs": [],
   "source": [
    "emo_scores_forced.update({k: sia.polarity_scores(k) for k, v in emo_scores_forced.items()})"
   ]
  },
  {
   "cell_type": "code",
   "execution_count": 67,
   "id": "f079f55a-a8bb-464d-9d05-c6a55c79b0ee",
   "metadata": {},
   "outputs": [],
   "source": [
    "for emo in emo_scores_forced:\n",
    "    forced_choice_df[f\"{emo}_neg\"] = forced_choice_df[emo] * emo_scores_forced[emo]['neg']\n",
    "    forced_choice_df[f\"{emo}_pos\"] = forced_choice_df[emo] * emo_scores_forced[emo]['pos']\n",
    "    forced_choice_df[f\"{emo}_neu\"] = forced_choice_df[emo] * emo_scores_forced[emo]['neu']\n",
    "    forced_choice_df[f\"{emo}_com\"] = forced_choice_df[emo] * emo_scores_forced[emo]['compound']"
   ]
  },
  {
   "cell_type": "code",
   "execution_count": 93,
   "id": "48759d85-78f3-4f32-a8d7-b41411c69614",
   "metadata": {},
   "outputs": [],
   "source": [
    "forced_choice_df.to_csv('../clean_data/forced_choice_df_uw_students_sentiment_scores.csv', index=False)"
   ]
  },
  {
   "cell_type": "markdown",
   "id": "ea479432-17f1-4ce5-8466-a266cbaf2b03",
   "metadata": {},
   "source": [
    "# Free labeling sentiment scores"
   ]
  },
  {
   "cell_type": "code",
   "execution_count": 77,
   "id": "13a60fb4-86bd-4130-b01d-2f3eb516b133",
   "metadata": {},
   "outputs": [],
   "source": [
    "free_labeling_df = pd.read_csv('../clean_data/free_choice_uw_students_count_emotions.csv')\n",
    "free_labeling_emo_list = pd.read_csv('../clean_data/free_choice_word_list.csv')"
   ]
  },
  {
   "cell_type": "code",
   "execution_count": 87,
   "id": "b1647634-5617-4b51-b1ee-0265e6772e8d",
   "metadata": {},
   "outputs": [],
   "source": [
    "emo_scores_free = dict.fromkeys(free_labeling_emo_list['emotion'].tolist())"
   ]
  },
  {
   "cell_type": "code",
   "execution_count": 89,
   "id": "ee839df9-e1ce-4242-a2c7-d48341a570af",
   "metadata": {},
   "outputs": [],
   "source": [
    "emo_scores_free.update({k: sia.polarity_scores(k) for k, v in emo_scores_free.items()})"
   ]
  },
  {
   "cell_type": "code",
   "execution_count": 91,
   "id": "ab9b5932-0c0b-4bc5-93e1-1370714e0914",
   "metadata": {},
   "outputs": [
    {
     "name": "stderr",
     "output_type": "stream",
     "text": [
      "/tmp/ipykernel_9531/1621190609.py:4: PerformanceWarning: DataFrame is highly fragmented.  This is usually the result of calling `frame.insert` many times, which has poor performance.  Consider using pd.concat instead.  To get a de-fragmented frame, use `newframe = frame.copy()`\n",
      "  free_labeling_df[f\"{emo}_neu\"] = free_labeling_df[emo] * emo_scores_free[emo]['neu']\n",
      "/tmp/ipykernel_9531/1621190609.py:5: PerformanceWarning: DataFrame is highly fragmented.  This is usually the result of calling `frame.insert` many times, which has poor performance.  Consider using pd.concat instead.  To get a de-fragmented frame, use `newframe = frame.copy()`\n",
      "  free_labeling_df[f\"{emo}_com\"] = free_labeling_df[emo] * emo_scores_free[emo]['compound']\n",
      "/tmp/ipykernel_9531/1621190609.py:2: PerformanceWarning: DataFrame is highly fragmented.  This is usually the result of calling `frame.insert` many times, which has poor performance.  Consider using pd.concat instead.  To get a de-fragmented frame, use `newframe = frame.copy()`\n",
      "  free_labeling_df[f\"{emo}_neg\"] = free_labeling_df[emo] * emo_scores_free[emo]['neg']\n",
      "/tmp/ipykernel_9531/1621190609.py:3: PerformanceWarning: DataFrame is highly fragmented.  This is usually the result of calling `frame.insert` many times, which has poor performance.  Consider using pd.concat instead.  To get a de-fragmented frame, use `newframe = frame.copy()`\n",
      "  free_labeling_df[f\"{emo}_pos\"] = free_labeling_df[emo] * emo_scores_free[emo]['pos']\n"
     ]
    }
   ],
   "source": [
    "for emo in emo_scores_free:\n",
    "    free_labeling_df[f\"{emo}_neg\"] = free_labeling_df[emo] * emo_scores_free[emo]['neg']\n",
    "    free_labeling_df[f\"{emo}_pos\"] = free_labeling_df[emo] * emo_scores_free[emo]['pos']\n",
    "    free_labeling_df[f\"{emo}_neu\"] = free_labeling_df[emo] * emo_scores_free[emo]['neu']\n",
    "    free_labeling_df[f\"{emo}_com\"] = free_labeling_df[emo] * emo_scores_free[emo]['compound']"
   ]
  },
  {
   "cell_type": "code",
   "execution_count": 94,
   "id": "9c8902a8-3540-4277-b102-82f34b404b7c",
   "metadata": {},
   "outputs": [],
   "source": [
    "free_labeling_df.to_csv('../clean_data/free_labeling_df_uw_students_sentiment_scores.csv', index=False)"
   ]
  },
  {
   "cell_type": "code",
   "execution_count": null,
   "id": "37c9948b-6cc1-438b-be3e-a925450507e0",
   "metadata": {},
   "outputs": [],
   "source": []
  }
 ],
 "metadata": {
  "kernelspec": {
   "display_name": "Python 3 (ipykernel)",
   "language": "python",
   "name": "python3"
  },
  "language_info": {
   "codemirror_mode": {
    "name": "ipython",
    "version": 3
   },
   "file_extension": ".py",
   "mimetype": "text/x-python",
   "name": "python",
   "nbconvert_exporter": "python",
   "pygments_lexer": "ipython3",
   "version": "3.9.7"
  }
 },
 "nbformat": 4,
 "nbformat_minor": 5
}
