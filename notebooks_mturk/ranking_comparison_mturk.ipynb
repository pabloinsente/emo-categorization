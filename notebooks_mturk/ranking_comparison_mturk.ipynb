{
 "cells": [
  {
   "cell_type": "code",
   "execution_count": 1,
   "id": "4fee7492-09ca-4cf9-9a0d-aaadf212b8dd",
   "metadata": {},
   "outputs": [],
   "source": [
    "import pandas as pd\n",
    "import altair as alt\n",
    "from altair_saver import save\n",
    "import numpy as np\n",
    "from IPython.display import Image\n",
    "pd.options.mode.chained_assignment = None  # default='warn'"
   ]
  },
  {
   "cell_type": "markdown",
   "id": "53c34db2-9139-4283-bf45-f4c6cbc3ec0c",
   "metadata": {},
   "source": [
    "# Ranking comparison - surverys and dueling-bandints"
   ]
  },
  {
   "cell_type": "markdown",
   "id": "3e7fc1bc-097b-463f-b077-1080cb762f39",
   "metadata": {},
   "source": [
    "## Read in data"
   ]
  },
  {
   "cell_type": "code",
   "execution_count": 2,
   "id": "3ea6fd81-fa3c-4377-acd4-ca7421d5ff3f",
   "metadata": {},
   "outputs": [],
   "source": [
    "df_free = pd.read_csv('../clean_data_mturk/free_choice_emotion_mturk.csv')\n",
    "df_free_labels = pd.read_csv('../data_mturk/emotion_labels_free_choice.csv')\n",
    "\n",
    "df_forced = pd.read_csv('../clean_data_mturk/forced_choice_emotion_mturk.csv')\n",
    "df_forced_labels = pd.read_csv('../data_mturk/emotion_labels.csv')"
   ]
  },
  {
   "cell_type": "code",
   "execution_count": 3,
   "id": "723ee7b9-433e-4367-9cf3-8fd8cc23f0a3",
   "metadata": {},
   "outputs": [],
   "source": [
    "df_emo_answers_free = df_free.loc[:, 'Q2.1_1':'Q195.1_4'] # get cols with words only\n",
    "df_emo_answers_forced = df_forced.loc[:, 'Q2.1':'Q195.1'] "
   ]
  },
  {
   "cell_type": "markdown",
   "id": "5ed14ff6-3dc8-4ffc-a07c-d2e58739a24b",
   "metadata": {},
   "source": [
    "## Text pre-processing"
   ]
  },
  {
   "cell_type": "code",
   "execution_count": 4,
   "id": "477c9e38-fe05-453e-b9f0-2f06c340ddb6",
   "metadata": {},
   "outputs": [],
   "source": [
    "# word clean up\n",
    "def manual_spell_check(df):\n",
    "    \"\"\"manual replacement of mispelled words\"\"\"\n",
    "    \n",
    "    df.replace(['happy', 'happiness', 'happyness', 'hapiness', 'happines', 'happpy',\\\n",
    "                                  'happyniess', 'happyu', 'hapy', 'happynes','hapyness'], 'happiness', inplace=True)\n",
    "    \n",
    "    df.replace(['angry', 'anger', 'angery', 'angered', 'angary', 'angri'], 'anger', inplace=True)\n",
    "    \n",
    "    df.replace(['sad', 'sandness', 'sadnesss', 'sadness', 'sading', 'sand'], 'sadness', inplace=True)\n",
    "    \n",
    "    df.replace(['disgust', 'disgusted', 'disgusting', 'disgus', 'disgusting'], 'disgust', inplace=True)\n",
    "    \n",
    "    df.replace(['surprised', 'surprise', 'surprising', 'surpise'], 'surprise', inplace=True)\n",
    "    \n",
    "    df.replace(['fear', 'fearful', 'fearsome', 'fera'], 'fear', inplace=True)\n",
    "    \n",
    "    df.replace(['nerural', 'neutral', 'netural', 'netrul', 'neutal'], 'neutral', inplace=True)\n",
    "    \n",
    "    return df"
   ]
  },
  {
   "cell_type": "code",
   "execution_count": 5,
   "id": "56b4711f-74d3-4d71-aefa-392c27171425",
   "metadata": {},
   "outputs": [],
   "source": [
    "# df_emo_answers_free = manual_replace(df_emo_answers_free)"
   ]
  },
  {
   "cell_type": "code",
   "execution_count": 6,
   "id": "2e0a0207-9828-4741-baed-a8cad1d87256",
   "metadata": {},
   "outputs": [],
   "source": [
    "def emotion_df_formated(df_emo_answers, emotion_label, df_labels):\n",
    "    df_emo_cat = df_emo_answers.copy() \n",
    "    df_emo_cat_t = df_emo_cat.T # transpose\n",
    "    df_emo_cat_t['photo_id'] = df_emo_cat_t.index # get index as col\n",
    "    df_emo_cat_t = df_emo_cat_t.reset_index(drop=True) # clean index\n",
    "    df_emo_cat_t_labels = pd.concat([df_emo_cat_t, df_labels], axis=1) # add metadata cols\n",
    "    df_label =  df_emo_cat_t_labels[df_emo_cat_t_labels['label'] == emotion_label]\n",
    "    \n",
    "    return df_label"
   ]
  },
  {
   "cell_type": "code",
   "execution_count": 7,
   "id": "a475409b-0f5b-436b-aab4-d5b02341aa04",
   "metadata": {},
   "outputs": [],
   "source": [
    "def formating_words(df, len_words=1, len_letters=2):\n",
    "    df_stack = df.stack().reset_index(drop=True) # stack as series\n",
    "    df_stack = df_stack.to_frame(name='emotion') # as DF\n",
    "    df_stack['emotion'] = df_stack['emotion'].str.strip() # remove blank spaces\n",
    "    df_stack['emotion'] = df_stack['emotion'].str.lower() # as lower case\n",
    "    df_stack['emotion'] = df_stack['emotion'].replace({'na':'none'}) \n",
    "    df_stack['len_words'] = df_stack['emotion'].str.split().apply(len) # cnt number of words\n",
    "    df_stack['len_letters'] = df_stack['emotion'].apply(len) # cont number of letters\n",
    "    # get df with single words of 3 or more letters\n",
    "    df_stack_single_word = df_stack[(df_stack['len_words'] == len_words) & (df_stack['len_letters'] > len_letters)] \n",
    "    df_stack_single_word['emotion'] = df_stack_single_word['emotion'].str.replace('[^a-zA-Z]', '') # remove non-alphabetic characters\n",
    "    df_stack_single_word = df_stack_single_word[~df_stack_single_word['emotion'].str.contains(r'[0-9]')] #drop words containing numbers\n",
    "    df_stack_single_word = df_stack_single_word[df_stack_single_word.groupby('emotion').emotion.transform(len) > 1] # keep words that ocurr > 1\n",
    "    return df_stack_single_word"
   ]
  },
  {
   "cell_type": "markdown",
   "id": "9f446cff-49aa-4f50-ab76-9d5f5479072b",
   "metadata": {},
   "source": [
    "## Grouping "
   ]
  },
  {
   "cell_type": "code",
   "execution_count": 8,
   "id": "f73ee5e4-8cd1-43c5-9c99-4f6f295aa8e4",
   "metadata": {},
   "outputs": [],
   "source": [
    "# importing the module\n",
    "import json\n",
    " \n",
    "# synsets \n",
    "with open('../clean_data/syn_dict_emotions.json') as json_file:\n",
    "    syns = json.load(json_file)\n",
    "\n",
    "# hyponyms \n",
    "with open('../clean_data/hyp_dict_emotions.json') as json_file:\n",
    "    hyps = json.load(json_file)"
   ]
  },
  {
   "cell_type": "code",
   "execution_count": 9,
   "id": "d1e3daaa-ac78-4e7e-816a-70825907b682",
   "metadata": {},
   "outputs": [],
   "source": [
    "def update_dic(syns, emo, emo_variant):\n",
    "    '''to merge key variants'''\n",
    "    \n",
    "    syns[emo].extend(syns[emo_variant])\n",
    "    syns.pop(emo_variant)"
   ]
  },
  {
   "cell_type": "code",
   "execution_count": 10,
   "id": "2a878efe-2795-4f4d-a61d-d94120b51860",
   "metadata": {},
   "outputs": [],
   "source": [
    "update_dic(syns, emo='anger', emo_variant='angry')\n",
    "update_dic(syns, emo='disgust', emo_variant='disgusted')\n",
    "update_dic(syns, emo='sadness', emo_variant='sad')\n",
    "update_dic(syns, emo='fear', emo_variant='fearful')\n",
    "update_dic(syns, emo='surprise', emo_variant='surprised')\n",
    "update_dic(syns, emo='happiness', emo_variant='happy')"
   ]
  },
  {
   "cell_type": "code",
   "execution_count": 11,
   "id": "59eadae2-cd2c-4aa8-8ddb-4acc07b15a76",
   "metadata": {},
   "outputs": [],
   "source": [
    "def grouping(df, syns):\n",
    "    '''to group (replace) by synsets and hyponyms'''\n",
    "    \n",
    "    for key in syns:\n",
    "        synset = syns[key]\n",
    "        df.replace(synset, key, inplace=True)\n",
    "    \n",
    "    return df"
   ]
  },
  {
   "cell_type": "markdown",
   "id": "29039444-7951-4aa5-bdb5-c43e0875f2bb",
   "metadata": {},
   "source": [
    "## Chart functions"
   ]
  },
  {
   "cell_type": "code",
   "execution_count": 12,
   "id": "7bb15d22-a772-4b5f-9092-86beb48a853b",
   "metadata": {},
   "outputs": [],
   "source": [
    "def simple_per_bar_concat(\n",
    "    df, title='Title', X='percent:Q', Y='emotion:N', \\\n",
    "    width=450, height=250, sort='-x', \\\n",
    "    text_size = 12, label_size = 11, title_size=12, \\\n",
    "    emotion='Some', color1='#0570b0', color2='orange'):\n",
    "    \n",
    "    bars = alt.Chart(df, title=title).mark_bar().encode(\n",
    "        alt.X(X, axis=alt.Axis(format='.0%')),\n",
    "        y=alt.Y(Y, sort=sort), \n",
    "        color=alt.condition(\n",
    "            alt.datum.emotion == emotion,\n",
    "            alt.value(color2),\n",
    "            alt.value(color1)\n",
    "        ))\n",
    "\n",
    "    text_placeholder = alt.Chart(df).mark_circle(color=\"black\", opacity=0.1).encode(\n",
    "        alt.X(X),\n",
    "        alt.Y(Y, sort=sort))\n",
    "\n",
    "    text = text_placeholder.mark_text(\n",
    "    align='left',\n",
    "    baseline='middle',\n",
    "    dx=3,  # Nudges text to right so it doesn't appear on top of the bar\n",
    "    fontSize=text_size\n",
    "    ).encode(\n",
    "        alt.Text(X, format='.1%')\n",
    "    )\n",
    "    \n",
    "    chart = (bars + text)\n",
    "    \n",
    "    return chart"
   ]
  },
  {
   "cell_type": "code",
   "execution_count": 13,
   "id": "65d5febe-ba64-49e4-ad8c-b6d0f2a1743c",
   "metadata": {},
   "outputs": [],
   "source": [
    "def simple_cnt_bar_concat(\n",
    "    df, title='Title', X='percent:Q', Y='emotion:N', \\\n",
    "    width=450, height=250, sort='-x', \\\n",
    "    text_size = 12, label_size = 11, title_size=12, \\\n",
    "    emotion='Some', color1='#0570b0', color2='orange'):\n",
    "    \n",
    "    bars = alt.Chart(df, title=title).mark_bar().encode(\n",
    "        alt.X(X, axis=alt.Axis(format='.0',title='Borda score(bar and number), Score precision (horizontal line)')),\n",
    "        y=alt.Y(Y, sort=sort), \n",
    "        color=alt.condition(\n",
    "            alt.datum.emotion == emotion,\n",
    "            alt.value(color2),\n",
    "            alt.value(color1)\n",
    "        ))\n",
    "    \n",
    "    rule =alt.Chart(df).mark_rule(color=\"black\").encode(\n",
    "    alt.X('lower:Q', scale=alt.Scale(zero=False)),\n",
    "    alt.X2('upper:Q'),\n",
    "    alt.Y(Y,sort=alt.SortField(field=\"borda score\", order='descending')))\n",
    "\n",
    "    text_placeholder = alt.Chart(df).mark_circle(opacity=0.1).encode(\n",
    "        alt.X('upper:Q'),\n",
    "        alt.Y(Y,sort=alt.SortField(field=\"borda score\", order='descending')))\n",
    "\n",
    "    text = text_placeholder.mark_text(\n",
    "    align='left',\n",
    "    baseline='middle',\n",
    "    dx=3,  # Nudges text to right so it doesn't appear on top of the bar\n",
    "    fontSize=text_size\n",
    "    ).encode(\n",
    "        alt.Text(X)\n",
    "    )\n",
    "    \n",
    "    chart = (bars + text + rule)\n",
    "    \n",
    "    return chart"
   ]
  },
  {
   "cell_type": "code",
   "execution_count": 14,
   "id": "77e7f511-d522-4805-878b-02e122f3c239",
   "metadata": {},
   "outputs": [],
   "source": [
    "def count_freq_labels(df, X=\"all\", col=\"emotion\"):\n",
    "    if X == \"all\":\n",
    "        df_counts = df.stack().reset_index(drop=True).value_counts() # stack as series\n",
    "        df_counts = df_counts.to_frame('counts') # get value_counts as df\n",
    "        df_counts['emotion'] = df_counts.index # get index as col\n",
    "    elif X == \"stacked\":\n",
    "        df_counts = df[col].value_counts() # count word frequency\n",
    "        df_counts = df_counts.to_frame('counts') # get value_counts as df\n",
    "        df_counts['emotion'] = df_counts.index # get index as col    \n",
    "    else:\n",
    "        df_counts = df[X].reset_index(drop=True).value_counts() # stack as series\n",
    "        df_counts = df_counts.to_frame('counts') # get value_counts as df\n",
    "        df_counts[X] = df_counts.index # get index as col\n",
    "\n",
    "    df_counts = df_counts.reset_index(drop=True) # clean index\n",
    "    df_counts['percent'] = df_counts['counts'] / df_counts['counts'].sum() # compute percentage\n",
    "    return df_counts"
   ]
  },
  {
   "cell_type": "code",
   "execution_count": 15,
   "id": "7af36db2-a13e-4ee1-87e4-ed59f5538321",
   "metadata": {},
   "outputs": [],
   "source": [
    "def photo_chart(df_emo_answers, emotion,  i, df_labels, yoffset=220, emotion_st = None, n_mentions=2, photo = None):\n",
    "    df = emotion_df_formated(df_emo_answers, emotion, df_labels) # add emotion label\n",
    "    photo_id_list = df['photo_id'].tolist() # photo id to list\n",
    "    splited_photo_id = np.array_split(photo_id_list, 24) # split photo id by photo\n",
    "    df = df[df['photo_id'].isin(splited_photo_id[i])] # select photo rows   \n",
    "    df_url = df[['url']].head(1)  # get url for chart\n",
    "    \n",
    "    face = alt.Chart(df_url).mark_image(width=150, height=150, align='center', xOffset=-100, yOffset=yoffset).encode(url='url')\n",
    "    \n",
    "    df_emotion_ans = df.drop(['photo_id', 'ethnicity', 'sex', 'age', 'label', 'url', 'photoId'], axis=1) # clean cols\n",
    "    df_stack_emotion = formating_words(df_emotion_ans) # clean up words\n",
    "    #df_stack_emotion['emotion_ps_steamed'] = df_stack_emotion['emotion'].apply(lambda x: ps.stem(x)) # steam\n",
    "    df_stack_emotion = manual_spell_check(df_stack_emotion) # manual fix\n",
    "    df_stack_emotion = grouping(df_stack_emotion, syns) # group by synonyms\n",
    "    df_stack_emotion = grouping(df_stack_emotion, hyps) # group by hyponyms\n",
    "    df_stack_emotion = df_stack_emotion.replace({'scared': 'fear'}) # manual scare fix\n",
    "    df_stack_emotion_count = count_freq_labels(df_stack_emotion, X=\"stacked\", col='emotion') # group and count\n",
    "    source = df_stack_emotion_count[df_stack_emotion_count['counts'] >= n_mentions]\n",
    "    \n",
    "    chart = simple_per_bar_concat(source,\\\n",
    "                           title=f\"Categories with {n_mentions} or more mentions | n= {source['counts'].sum().astype(str)}\", \\\n",
    "                           X='percent:Q', Y='emotion:N', emotion=emotion_st)\n",
    "\n",
    "    if photo == True:\n",
    "        return chart + face\n",
    "    else:\n",
    "        return chart"
   ]
  },
  {
   "cell_type": "code",
   "execution_count": 16,
   "id": "980311e5-952c-4a39-8bc4-42d970b38995",
   "metadata": {},
   "outputs": [],
   "source": [
    "def next_chart_wrapper(file_path, emotion, head):\n",
    "    df = pd.read_csv(file_path)\n",
    "    \n",
    "    df = df.round(decimals=2)\n",
    "    \n",
    "    df = df.replace({'Target' : {'angry' : 'anger', \n",
    "                                 'disgusted' : 'disgust',\n",
    "                                 'fearful' : 'fear', \n",
    "                                 'happy': 'happiness', \n",
    "                                 'surprised': 'surprise',\n",
    "                                  'sad': 'sadness'}})\n",
    "\n",
    "    df['upper'] = df['Score'] + df['Precision'] /2\n",
    "    df['lower'] = df['Score'] - df['Precision'] /2\n",
    "    \n",
    "    df.rename(columns={\n",
    "        'Target': 'emotion',\n",
    "        'Score': 'borda score'}, inplace=True)\n",
    "\n",
    "    title=f\"Dueling bandits ranking | Top: {head}\"\n",
    "\n",
    "    chart = simple_cnt_bar_concat(df.head(head), title= title, \\\n",
    "                                  X='borda score:Q', Y='emotion:N', emotion=emotion)\n",
    "    return chart"
   ]
  },
  {
   "cell_type": "markdown",
   "id": "e43e4006-a86e-4a96-8d55-0b8519afbd38",
   "metadata": {},
   "source": [
    "## Anger - Female of color"
   ]
  },
  {
   "cell_type": "code",
   "execution_count": 17,
   "id": "f68cb923-3472-472e-b916-2b2f0a6becba",
   "metadata": {},
   "outputs": [
    {
     "name": "stderr",
     "output_type": "stream",
     "text": [
      "/tmp/ipykernel_11424/2691402293.py:11: FutureWarning: The default value of regex will change from True to False in a future version.\n",
      "  df_stack_single_word['emotion'] = df_stack_single_word['emotion'].str.replace('[^a-zA-Z]', '') # remove non-alphabetic characters\n"
     ]
    }
   ],
   "source": [
    "anger_bfa_forced = photo_chart(df_emo_answers_forced, 'anger',  0, df_forced_labels, emotion_st='anger', n_mentions=2, photo=True, yoffset=280)\n",
    "anger_bfa_free = photo_chart(df_emo_answers_free, 'anger',  0, df_free_labels, emotion_st='anger', n_mentions=2)"
   ]
  },
  {
   "cell_type": "code",
   "execution_count": 18,
   "id": "67d419dd-3064-428b-9d8a-2f1d6b5c2ab1",
   "metadata": {},
   "outputs": [],
   "source": [
    "path = '../../emo-ranking-next/anger_bipoc_female/mturk/borda_lilucb_ranking_mturk.csv'\n",
    "\n",
    "anger_bfa_next = next_chart_wrapper(path, emotion='anger', head=54)"
   ]
  },
  {
   "cell_type": "code",
   "execution_count": 19,
   "id": "197d9711-4675-4668-bead-5c4afd2f2e33",
   "metadata": {},
   "outputs": [
    {
     "data": {
      "text/html": [
       "\n",
       "<div id=\"altair-viz-449a57b5b8cd432ca2108d721a1edc80\"></div>\n",
       "<script type=\"text/javascript\">\n",
       "  (function(spec, embedOpt){\n",
       "    let outputDiv = document.currentScript.previousElementSibling;\n",
       "    if (outputDiv.id !== \"altair-viz-449a57b5b8cd432ca2108d721a1edc80\") {\n",
       "      outputDiv = document.getElementById(\"altair-viz-449a57b5b8cd432ca2108d721a1edc80\");\n",
       "    }\n",
       "    const paths = {\n",
       "      \"vega\": \"https://cdn.jsdelivr.net/npm//vega@5?noext\",\n",
       "      \"vega-lib\": \"https://cdn.jsdelivr.net/npm//vega-lib?noext\",\n",
       "      \"vega-lite\": \"https://cdn.jsdelivr.net/npm//vega-lite@4.8.1?noext\",\n",
       "      \"vega-embed\": \"https://cdn.jsdelivr.net/npm//vega-embed@6?noext\",\n",
       "    };\n",
       "\n",
       "    function loadScript(lib) {\n",
       "      return new Promise(function(resolve, reject) {\n",
       "        var s = document.createElement('script');\n",
       "        s.src = paths[lib];\n",
       "        s.async = true;\n",
       "        s.onload = () => resolve(paths[lib]);\n",
       "        s.onerror = () => reject(`Error loading script: ${paths[lib]}`);\n",
       "        document.getElementsByTagName(\"head\")[0].appendChild(s);\n",
       "      });\n",
       "    }\n",
       "\n",
       "    function showError(err) {\n",
       "      outputDiv.innerHTML = `<div class=\"error\" style=\"color:red;\">${err}</div>`;\n",
       "      throw err;\n",
       "    }\n",
       "\n",
       "    function displayChart(vegaEmbed) {\n",
       "      vegaEmbed(outputDiv, spec, embedOpt)\n",
       "        .catch(err => showError(`Javascript Error: ${err.message}<br>This usually means there's a typo in your chart specification. See the javascript console for the full traceback.`));\n",
       "    }\n",
       "\n",
       "    if(typeof define === \"function\" && define.amd) {\n",
       "      requirejs.config({paths});\n",
       "      require([\"vega-embed\"], displayChart, err => showError(`Error loading script: ${err.message}`));\n",
       "    } else if (typeof vegaEmbed === \"function\") {\n",
       "      displayChart(vegaEmbed);\n",
       "    } else {\n",
       "      loadScript(\"vega\")\n",
       "        .then(() => loadScript(\"vega-lite\"))\n",
       "        .then(() => loadScript(\"vega-embed\"))\n",
       "        .catch(showError)\n",
       "        .then(() => displayChart(vegaEmbed));\n",
       "    }\n",
       "  })({\"config\": {\"view\": {\"continuousWidth\": 400, \"continuousHeight\": 300, \"strokeWidth\": 0}, \"axis\": {\"grid\": false, \"labelFontSize\": 12, \"titleFontSize\": 12}, \"title\": {\"dy\": -12}}, \"hconcat\": [{\"layer\": [{\"mark\": \"bar\", \"encoding\": {\"color\": {\"condition\": {\"value\": \"orange\", \"test\": \"(datum.emotion === 'anger')\"}, \"value\": \"#0570b0\"}, \"x\": {\"type\": \"quantitative\", \"axis\": {\"format\": \".0%\"}, \"field\": \"percent\"}, \"y\": {\"type\": \"nominal\", \"field\": \"emotion\", \"sort\": \"-x\"}}, \"title\": \"Categories with 2 or more mentions | n= 52\"}, {\"mark\": {\"type\": \"text\", \"align\": \"left\", \"baseline\": \"middle\", \"dx\": 3, \"fontSize\": 12}, \"encoding\": {\"text\": {\"type\": \"quantitative\", \"field\": \"percent\", \"format\": \".1%\"}, \"x\": {\"type\": \"quantitative\", \"field\": \"percent\"}, \"y\": {\"type\": \"nominal\", \"field\": \"emotion\", \"sort\": \"-x\"}}}, {\"data\": {\"name\": \"data-54b2d285cd54819d962f2bd59b444e40\"}, \"mark\": {\"type\": \"image\", \"align\": \"center\", \"height\": 150, \"width\": 150, \"xOffset\": -100, \"yOffset\": 280}, \"encoding\": {\"url\": {\"type\": \"nominal\", \"field\": \"url\"}}}], \"data\": {\"name\": \"data-1aef1d059ce98057a84c71db57f9a297\"}, \"width\": 200}, {\"layer\": [{\"mark\": \"bar\", \"encoding\": {\"color\": {\"condition\": {\"value\": \"orange\", \"test\": \"(datum.emotion === 'anger')\"}, \"value\": \"#0570b0\"}, \"x\": {\"type\": \"quantitative\", \"axis\": {\"format\": \".0%\"}, \"field\": \"percent\"}, \"y\": {\"type\": \"nominal\", \"field\": \"emotion\", \"sort\": \"-x\"}}, \"title\": \"Categories with 2 or more mentions | n= 46\"}, {\"mark\": {\"type\": \"text\", \"align\": \"left\", \"baseline\": \"middle\", \"dx\": 3, \"fontSize\": 12}, \"encoding\": {\"text\": {\"type\": \"quantitative\", \"field\": \"percent\", \"format\": \".1%\"}, \"x\": {\"type\": \"quantitative\", \"field\": \"percent\"}, \"y\": {\"type\": \"nominal\", \"field\": \"emotion\", \"sort\": \"-x\"}}}], \"data\": {\"name\": \"data-181d2d6c418dffe4e7eeb82a5c544c1b\"}, \"width\": 200}, {\"layer\": [{\"mark\": \"bar\", \"encoding\": {\"color\": {\"condition\": {\"value\": \"orange\", \"test\": \"(datum.emotion === 'anger')\"}, \"value\": \"#0570b0\"}, \"x\": {\"type\": \"quantitative\", \"axis\": {\"format\": \".0\", \"title\": \"Borda score(bar and number), Score precision (horizontal line)\"}, \"field\": \"borda score\"}, \"y\": {\"type\": \"nominal\", \"field\": \"emotion\", \"sort\": \"-x\"}}, \"title\": \"Dueling bandits ranking | Top: 54\"}, {\"mark\": {\"type\": \"text\", \"align\": \"left\", \"baseline\": \"middle\", \"dx\": 3, \"fontSize\": 12}, \"encoding\": {\"text\": {\"type\": \"quantitative\", \"field\": \"borda score\"}, \"x\": {\"type\": \"quantitative\", \"field\": \"upper\"}, \"y\": {\"type\": \"nominal\", \"field\": \"emotion\", \"sort\": {\"field\": \"borda score\", \"order\": \"descending\"}}}}, {\"mark\": {\"type\": \"rule\", \"color\": \"black\"}, \"encoding\": {\"x\": {\"type\": \"quantitative\", \"field\": \"lower\", \"scale\": {\"zero\": false}}, \"x2\": {\"field\": \"upper\"}, \"y\": {\"type\": \"nominal\", \"field\": \"emotion\", \"sort\": {\"field\": \"borda score\", \"order\": \"descending\"}}}}], \"data\": {\"name\": \"data-f48a9ef4320386190dcdb96782b7dcc6\"}, \"width\": 200}], \"title\": \"Female of color - Anger\", \"$schema\": \"https://vega.github.io/schema/vega-lite/v4.8.1.json\", \"datasets\": {\"data-1aef1d059ce98057a84c71db57f9a297\": [{\"counts\": 22, \"emotion\": \"anger\", \"percent\": 0.4230769230769231}, {\"counts\": 13, \"emotion\": \"neutral\", \"percent\": 0.25}, {\"counts\": 6, \"emotion\": \"disgust\", \"percent\": 0.11538461538461539}, {\"counts\": 3, \"emotion\": \"other\", \"percent\": 0.057692307692307696}, {\"counts\": 2, \"emotion\": \"surprise\", \"percent\": 0.038461538461538464}, {\"counts\": 2, \"emotion\": \"fear\", \"percent\": 0.038461538461538464}, {\"counts\": 2, \"emotion\": \"uncertain\", \"percent\": 0.038461538461538464}, {\"counts\": 2, \"emotion\": \"sadness\", \"percent\": 0.038461538461538464}], \"data-54b2d285cd54819d962f2bd59b444e40\": [{\"url\": \"https://uwmadison.co1.qualtrics.com/ControlPanel/Graphic.php?IM=IM_bJXdODAZHOaG0rI\"}], \"data-181d2d6c418dffe4e7eeb82a5c544c1b\": [{\"counts\": 24, \"emotion\": \"anger\", \"percent\": 0.5217391304347826}, {\"counts\": 4, \"emotion\": \"mad\", \"percent\": 0.08695652173913043}, {\"counts\": 4, \"emotion\": \"none\", \"percent\": 0.08695652173913043}, {\"counts\": 3, \"emotion\": \"irritated\", \"percent\": 0.06521739130434782}, {\"counts\": 3, \"emotion\": \"sadness\", \"percent\": 0.06521739130434782}, {\"counts\": 3, \"emotion\": \"upset\", \"percent\": 0.06521739130434782}, {\"counts\": 3, \"emotion\": \"disgust\", \"percent\": 0.06521739130434782}, {\"counts\": 2, \"emotion\": \"stern\", \"percent\": 0.043478260869565216}], \"data-f48a9ef4320386190dcdb96782b7dcc6\": [{\"Rank\": 0, \"emotion\": \"annoyed\", \"borda score\": 0.93, \"Precision\": 0.1, \"upper\": 0.9800000000000001, \"lower\": 0.88}, {\"Rank\": 1, \"emotion\": \"perturbed\", \"borda score\": 0.83, \"Precision\": 0.14, \"upper\": 0.8999999999999999, \"lower\": 0.76}, {\"Rank\": 2, \"emotion\": \"grumpy\", \"borda score\": 0.8, \"Precision\": 0.14, \"upper\": 0.8700000000000001, \"lower\": 0.73}, {\"Rank\": 3, \"emotion\": \"aggressive\", \"borda score\": 0.76, \"Precision\": 0.19, \"upper\": 0.855, \"lower\": 0.665}, {\"Rank\": 4, \"emotion\": \"confused\", \"borda score\": 0.75, \"Precision\": 0.17, \"upper\": 0.835, \"lower\": 0.665}, {\"Rank\": 5, \"emotion\": \"doubt\", \"borda score\": 0.75, \"Precision\": 0.18, \"upper\": 0.84, \"lower\": 0.66}, {\"Rank\": 6, \"emotion\": \"unhappy\", \"borda score\": 0.74, \"Precision\": 0.17, \"upper\": 0.825, \"lower\": 0.655}, {\"Rank\": 7, \"emotion\": \"unamused\", \"borda score\": 0.74, \"Precision\": 0.18, \"upper\": 0.83, \"lower\": 0.65}, {\"Rank\": 8, \"emotion\": \"focused\", \"borda score\": 0.73, \"Precision\": 0.18, \"upper\": 0.82, \"lower\": 0.64}, {\"Rank\": 9, \"emotion\": \"disgust\", \"borda score\": 0.72, \"Precision\": 0.19, \"upper\": 0.815, \"lower\": 0.625}, {\"Rank\": 10, \"emotion\": \"frustration\", \"borda score\": 0.72, \"Precision\": 0.19, \"upper\": 0.815, \"lower\": 0.625}, {\"Rank\": 11, \"emotion\": \"defiant\", \"borda score\": 0.71, \"Precision\": 0.17, \"upper\": 0.7949999999999999, \"lower\": 0.625}, {\"Rank\": 12, \"emotion\": \"confrontational\", \"borda score\": 0.71, \"Precision\": 0.19, \"upper\": 0.8049999999999999, \"lower\": 0.615}, {\"Rank\": 13, \"emotion\": \"uncertain\", \"borda score\": 0.71, \"Precision\": 0.14, \"upper\": 0.78, \"lower\": 0.6399999999999999}, {\"Rank\": 14, \"emotion\": \"screaming\", \"borda score\": 0.69, \"Precision\": 0.15, \"upper\": 0.7649999999999999, \"lower\": 0.615}, {\"Rank\": 15, \"emotion\": \"irritated\", \"borda score\": 0.68, \"Precision\": 0.2, \"upper\": 0.78, \"lower\": 0.5800000000000001}, {\"Rank\": 16, \"emotion\": \"intense\", \"borda score\": 0.67, \"Precision\": 0.22, \"upper\": 0.78, \"lower\": 0.56}, {\"Rank\": 17, \"emotion\": \"shocked\", \"borda score\": 0.64, \"Precision\": 0.15, \"upper\": 0.715, \"lower\": 0.5650000000000001}, {\"Rank\": 18, \"emotion\": \"rage\", \"borda score\": 0.59, \"Precision\": 0.19, \"upper\": 0.6849999999999999, \"lower\": 0.495}, {\"Rank\": 19, \"emotion\": \"contempt\", \"borda score\": 0.59, \"Precision\": 0.19, \"upper\": 0.6849999999999999, \"lower\": 0.495}, {\"Rank\": 20, \"emotion\": \"serious\", \"borda score\": 0.59, \"Precision\": 0.24, \"upper\": 0.71, \"lower\": 0.47}, {\"Rank\": 21, \"emotion\": \"displeased\", \"borda score\": 0.56, \"Precision\": 0.25, \"upper\": 0.685, \"lower\": 0.43500000000000005}, {\"Rank\": 22, \"emotion\": \"funny\", \"borda score\": 0.56, \"Precision\": 0.24, \"upper\": 0.68, \"lower\": 0.44000000000000006}, {\"Rank\": 23, \"emotion\": \"cute\", \"borda score\": 0.53, \"Precision\": 0.26, \"upper\": 0.66, \"lower\": 0.4}, {\"Rank\": 24, \"emotion\": \"questioning\", \"borda score\": 0.53, \"Precision\": 0.26, \"upper\": 0.66, \"lower\": 0.4}, {\"Rank\": 25, \"emotion\": \"sadness\", \"borda score\": 0.53, \"Precision\": 0.24, \"upper\": 0.65, \"lower\": 0.41000000000000003}, {\"Rank\": 26, \"emotion\": \"tension\", \"borda score\": 0.5, \"Precision\": 0.29, \"upper\": 0.645, \"lower\": 0.355}, {\"Rank\": 27, \"emotion\": \"suspicious\", \"borda score\": 0.5, \"Precision\": 0.24, \"upper\": 0.62, \"lower\": 0.38}, {\"Rank\": 28, \"emotion\": \"furious\", \"borda score\": 0.5, \"Precision\": 0.29, \"upper\": 0.645, \"lower\": 0.355}, {\"Rank\": 29, \"emotion\": \"mad\", \"borda score\": 0.5, \"Precision\": 0.29, \"upper\": 0.645, \"lower\": 0.355}, {\"Rank\": 30, \"emotion\": \"skeptical\", \"borda score\": 0.47, \"Precision\": 0.26, \"upper\": 0.6, \"lower\": 0.33999999999999997}, {\"Rank\": 31, \"emotion\": \"simply\", \"borda score\": 0.45, \"Precision\": 0.3, \"upper\": 0.6, \"lower\": 0.30000000000000004}, {\"Rank\": 32, \"emotion\": \"other\", \"borda score\": 0.45, \"Precision\": 0.3, \"upper\": 0.6, \"lower\": 0.30000000000000004}, {\"Rank\": 33, \"emotion\": \"confusion\", \"borda score\": 0.45, \"Precision\": 0.3, \"upper\": 0.6, \"lower\": 0.30000000000000004}, {\"Rank\": 34, \"emotion\": \"looking\", \"borda score\": 0.44, \"Precision\": 0.33, \"upper\": 0.605, \"lower\": 0.275}, {\"Rank\": 35, \"emotion\": \"love\", \"borda score\": 0.44, \"Precision\": 0.33, \"upper\": 0.605, \"lower\": 0.275}, {\"Rank\": 36, \"emotion\": \"thinking\", \"borda score\": 0.42, \"Precision\": 0.29, \"upper\": 0.565, \"lower\": 0.275}, {\"Rank\": 37, \"emotion\": \"concerned\", \"borda score\": 0.41, \"Precision\": 0.24, \"upper\": 0.53, \"lower\": 0.29}, {\"Rank\": 38, \"emotion\": \"disappointment\", \"borda score\": 0.4, \"Precision\": 0.32, \"upper\": 0.56, \"lower\": 0.24000000000000002}, {\"Rank\": 39, \"emotion\": \"worried\", \"borda score\": 0.38, \"Precision\": 0.35, \"upper\": 0.5549999999999999, \"lower\": 0.20500000000000002}, {\"Rank\": 40, \"emotion\": \"frustrated\", \"borda score\": 0.38, \"Precision\": 0.35, \"upper\": 0.5549999999999999, \"lower\": 0.20500000000000002}, {\"Rank\": 41, \"emotion\": \"happiness\", \"borda score\": 0.38, \"Precision\": 0.35, \"upper\": 0.5549999999999999, \"lower\": 0.20500000000000002}, {\"Rank\": 42, \"emotion\": \"silly\", \"borda score\": 0.38, \"Precision\": 0.35, \"upper\": 0.5549999999999999, \"lower\": 0.20500000000000002}, {\"Rank\": 43, \"emotion\": \"irate\", \"borda score\": 0.29, \"Precision\": 0.38, \"upper\": 0.48, \"lower\": 0.09999999999999998}, {\"Rank\": 44, \"emotion\": \"fear\", \"borda score\": 0.29, \"Precision\": 0.38, \"upper\": 0.48, \"lower\": 0.09999999999999998}, {\"Rank\": 45, \"emotion\": \"upset\", \"borda score\": 0.29, \"Precision\": 0.38, \"upper\": 0.48, \"lower\": 0.09999999999999998}, {\"Rank\": 46, \"emotion\": \"nice\", \"borda score\": 0.17, \"Precision\": 0.41, \"upper\": 0.375, \"lower\": -0.034999999999999976}, {\"Rank\": 47, \"emotion\": \"teeth\", \"borda score\": 0.0, \"Precision\": 0.58, \"upper\": 0.29, \"lower\": -0.29}, {\"Rank\": 48, \"emotion\": \"determined\", \"borda score\": 0.0, \"Precision\": 0.58, \"upper\": 0.29, \"lower\": -0.29}, {\"Rank\": 49, \"emotion\": \"shouting\", \"borda score\": 0.0, \"Precision\": 0.58, \"upper\": 0.29, \"lower\": -0.29}, {\"Rank\": 50, \"emotion\": \"neutral\", \"borda score\": 0.0, \"Precision\": 0.58, \"upper\": 0.29, \"lower\": -0.29}, {\"Rank\": 51, \"emotion\": \"hair\", \"borda score\": 0.0, \"Precision\": 0.58, \"upper\": 0.29, \"lower\": -0.29}, {\"Rank\": 52, \"emotion\": \"calm\", \"borda score\": 0.0, \"Precision\": 0.58, \"upper\": 0.29, \"lower\": -0.29}, {\"Rank\": 53, \"emotion\": \"anger\", \"borda score\": 0.0, \"Precision\": 0.58, \"upper\": 0.29, \"lower\": -0.29}]}}, {\"mode\": \"vega-lite\"});\n",
       "</script>"
      ],
      "text/plain": [
       "alt.HConcatChart(...)"
      ]
     },
     "execution_count": 19,
     "metadata": {},
     "output_type": "execute_result"
    }
   ],
   "source": [
    "anger_bfa_next_panel = (anger_bfa_forced.properties(width=200) | anger_bfa_free.properties(width=200) | anger_bfa_next.properties(width=200)).properties(title=\"Female of color - Anger\")\n",
    "anger_bfa_next_panel.configure_axis(grid=False, labelFontSize=12, titleFontSize=12).configure_view(strokeWidth=0).configure_title(dy=-12)"
   ]
  },
  {
   "cell_type": "code",
   "execution_count": 20,
   "id": "aeda61b4-8256-416b-ba9e-820e7c611a59",
   "metadata": {},
   "outputs": [],
   "source": [
    "save(anger_bfa_next_panel, \"../../emotions_dashboard/data/anger_bfa_next_panel_mturk.png\")"
   ]
  },
  {
   "cell_type": "markdown",
   "id": "bd38f499-394f-417f-b540-3aec467202d2",
   "metadata": {},
   "source": [
    "## Anger - Male of color"
   ]
  },
  {
   "cell_type": "code",
   "execution_count": 21,
   "id": "863d95d1-c486-43b1-9e4e-a2b250cb25a3",
   "metadata": {},
   "outputs": [
    {
     "name": "stderr",
     "output_type": "stream",
     "text": [
      "/tmp/ipykernel_11424/2691402293.py:11: FutureWarning: The default value of regex will change from True to False in a future version.\n",
      "  df_stack_single_word['emotion'] = df_stack_single_word['emotion'].str.replace('[^a-zA-Z]', '') # remove non-alphabetic characters\n"
     ]
    }
   ],
   "source": [
    "anger_bma_forced = photo_chart(df_emo_answers_forced, 'anger',  2, df_forced_labels, emotion_st='anger', n_mentions=2, photo=True)\n",
    "anger_bma_free = photo_chart(df_emo_answers_free, 'anger',  2, df_free_labels, emotion_st='anger', n_mentions=2)"
   ]
  },
  {
   "cell_type": "code",
   "execution_count": 22,
   "id": "ee7c2d94-73d5-4f73-9422-2024106ba158",
   "metadata": {},
   "outputs": [],
   "source": [
    "path = '../../emo-ranking-next/anger_bipoc_male/mturk/borda_lilucb_ranking_mturk.csv'\n",
    "\n",
    "anger_bma_next = next_chart_wrapper(path, emotion='anger', head=35)"
   ]
  },
  {
   "cell_type": "code",
   "execution_count": 23,
   "id": "5ac8dedc-2492-491f-9d5e-c1b636f65904",
   "metadata": {},
   "outputs": [
    {
     "data": {
      "text/html": [
       "\n",
       "<div id=\"altair-viz-73b7aeb552db4c89a826376784939ae8\"></div>\n",
       "<script type=\"text/javascript\">\n",
       "  (function(spec, embedOpt){\n",
       "    let outputDiv = document.currentScript.previousElementSibling;\n",
       "    if (outputDiv.id !== \"altair-viz-73b7aeb552db4c89a826376784939ae8\") {\n",
       "      outputDiv = document.getElementById(\"altair-viz-73b7aeb552db4c89a826376784939ae8\");\n",
       "    }\n",
       "    const paths = {\n",
       "      \"vega\": \"https://cdn.jsdelivr.net/npm//vega@5?noext\",\n",
       "      \"vega-lib\": \"https://cdn.jsdelivr.net/npm//vega-lib?noext\",\n",
       "      \"vega-lite\": \"https://cdn.jsdelivr.net/npm//vega-lite@4.8.1?noext\",\n",
       "      \"vega-embed\": \"https://cdn.jsdelivr.net/npm//vega-embed@6?noext\",\n",
       "    };\n",
       "\n",
       "    function loadScript(lib) {\n",
       "      return new Promise(function(resolve, reject) {\n",
       "        var s = document.createElement('script');\n",
       "        s.src = paths[lib];\n",
       "        s.async = true;\n",
       "        s.onload = () => resolve(paths[lib]);\n",
       "        s.onerror = () => reject(`Error loading script: ${paths[lib]}`);\n",
       "        document.getElementsByTagName(\"head\")[0].appendChild(s);\n",
       "      });\n",
       "    }\n",
       "\n",
       "    function showError(err) {\n",
       "      outputDiv.innerHTML = `<div class=\"error\" style=\"color:red;\">${err}</div>`;\n",
       "      throw err;\n",
       "    }\n",
       "\n",
       "    function displayChart(vegaEmbed) {\n",
       "      vegaEmbed(outputDiv, spec, embedOpt)\n",
       "        .catch(err => showError(`Javascript Error: ${err.message}<br>This usually means there's a typo in your chart specification. See the javascript console for the full traceback.`));\n",
       "    }\n",
       "\n",
       "    if(typeof define === \"function\" && define.amd) {\n",
       "      requirejs.config({paths});\n",
       "      require([\"vega-embed\"], displayChart, err => showError(`Error loading script: ${err.message}`));\n",
       "    } else if (typeof vegaEmbed === \"function\") {\n",
       "      displayChart(vegaEmbed);\n",
       "    } else {\n",
       "      loadScript(\"vega\")\n",
       "        .then(() => loadScript(\"vega-lite\"))\n",
       "        .then(() => loadScript(\"vega-embed\"))\n",
       "        .catch(showError)\n",
       "        .then(() => displayChart(vegaEmbed));\n",
       "    }\n",
       "  })({\"config\": {\"view\": {\"continuousWidth\": 400, \"continuousHeight\": 300, \"strokeWidth\": 0}, \"axis\": {\"grid\": false, \"labelFontSize\": 12, \"titleFontSize\": 12}, \"title\": {\"dy\": -12}}, \"hconcat\": [{\"layer\": [{\"mark\": \"bar\", \"encoding\": {\"color\": {\"condition\": {\"value\": \"orange\", \"test\": \"(datum.emotion === 'anger')\"}, \"value\": \"#0570b0\"}, \"x\": {\"type\": \"quantitative\", \"axis\": {\"format\": \".0%\"}, \"field\": \"percent\"}, \"y\": {\"type\": \"nominal\", \"field\": \"emotion\", \"sort\": \"-x\"}}, \"title\": \"Categories with 2 or more mentions | n= 50\"}, {\"mark\": {\"type\": \"text\", \"align\": \"left\", \"baseline\": \"middle\", \"dx\": 3, \"fontSize\": 12}, \"encoding\": {\"text\": {\"type\": \"quantitative\", \"field\": \"percent\", \"format\": \".1%\"}, \"x\": {\"type\": \"quantitative\", \"field\": \"percent\"}, \"y\": {\"type\": \"nominal\", \"field\": \"emotion\", \"sort\": \"-x\"}}}, {\"data\": {\"name\": \"data-5e9b87a0f072ea79ba61c3038bc2edb5\"}, \"mark\": {\"type\": \"image\", \"align\": \"center\", \"height\": 150, \"width\": 150, \"xOffset\": -100, \"yOffset\": 220}, \"encoding\": {\"url\": {\"type\": \"nominal\", \"field\": \"url\"}}}], \"data\": {\"name\": \"data-59bcb956966fb8c60fed3cce3592991f\"}, \"width\": 200}, {\"layer\": [{\"mark\": \"bar\", \"encoding\": {\"color\": {\"condition\": {\"value\": \"orange\", \"test\": \"(datum.emotion === 'anger')\"}, \"value\": \"#0570b0\"}, \"x\": {\"type\": \"quantitative\", \"axis\": {\"format\": \".0%\"}, \"field\": \"percent\"}, \"y\": {\"type\": \"nominal\", \"field\": \"emotion\", \"sort\": \"-x\"}}, \"title\": \"Categories with 2 or more mentions | n= 64\"}, {\"mark\": {\"type\": \"text\", \"align\": \"left\", \"baseline\": \"middle\", \"dx\": 3, \"fontSize\": 12}, \"encoding\": {\"text\": {\"type\": \"quantitative\", \"field\": \"percent\", \"format\": \".1%\"}, \"x\": {\"type\": \"quantitative\", \"field\": \"percent\"}, \"y\": {\"type\": \"nominal\", \"field\": \"emotion\", \"sort\": \"-x\"}}}], \"data\": {\"name\": \"data-97a36f83f3d835522cc5a989e6af85eb\"}, \"width\": 200}, {\"layer\": [{\"mark\": \"bar\", \"encoding\": {\"color\": {\"condition\": {\"value\": \"orange\", \"test\": \"(datum.emotion === 'anger')\"}, \"value\": \"#0570b0\"}, \"x\": {\"type\": \"quantitative\", \"axis\": {\"format\": \".0\", \"title\": \"Borda score(bar and number), Score precision (horizontal line)\"}, \"field\": \"borda score\"}, \"y\": {\"type\": \"nominal\", \"field\": \"emotion\", \"sort\": \"-x\"}}, \"title\": \"Dueling bandits ranking | Top: 35\"}, {\"mark\": {\"type\": \"text\", \"align\": \"left\", \"baseline\": \"middle\", \"dx\": 3, \"fontSize\": 12}, \"encoding\": {\"text\": {\"type\": \"quantitative\", \"field\": \"borda score\"}, \"x\": {\"type\": \"quantitative\", \"field\": \"upper\"}, \"y\": {\"type\": \"nominal\", \"field\": \"emotion\", \"sort\": {\"field\": \"borda score\", \"order\": \"descending\"}}}}, {\"mark\": {\"type\": \"rule\", \"color\": \"black\"}, \"encoding\": {\"x\": {\"type\": \"quantitative\", \"field\": \"lower\", \"scale\": {\"zero\": false}}, \"x2\": {\"field\": \"upper\"}, \"y\": {\"type\": \"nominal\", \"field\": \"emotion\", \"sort\": {\"field\": \"borda score\", \"order\": \"descending\"}}}}], \"data\": {\"name\": \"data-80538002bdd3be4f927402e4d799eaa6\"}, \"width\": 200}], \"title\": \"Male of color - Anger\", \"$schema\": \"https://vega.github.io/schema/vega-lite/v4.8.1.json\", \"datasets\": {\"data-59bcb956966fb8c60fed3cce3592991f\": [{\"counts\": 42, \"emotion\": \"anger\", \"percent\": 0.84}, {\"counts\": 3, \"emotion\": \"other\", \"percent\": 0.06}, {\"counts\": 3, \"emotion\": \"disgust\", \"percent\": 0.06}, {\"counts\": 2, \"emotion\": \"uncertain\", \"percent\": 0.04}], \"data-5e9b87a0f072ea79ba61c3038bc2edb5\": [{\"url\": \"https://uwmadison.co1.qualtrics.com/ControlPanel/Graphic.php?IM=IM_3QLhY3LefdXzwfI\"}], \"data-97a36f83f3d835522cc5a989e6af85eb\": [{\"counts\": 35, \"emotion\": \"anger\", \"percent\": 0.546875}, {\"counts\": 7, \"emotion\": \"upset\", \"percent\": 0.109375}, {\"counts\": 3, \"emotion\": \"shouting\", \"percent\": 0.046875}, {\"counts\": 3, \"emotion\": \"confrontational\", \"percent\": 0.046875}, {\"counts\": 3, \"emotion\": \"sadness\", \"percent\": 0.046875}, {\"counts\": 3, \"emotion\": \"worried\", \"percent\": 0.046875}, {\"counts\": 2, \"emotion\": \"mad\", \"percent\": 0.03125}, {\"counts\": 2, \"emotion\": \"disgust\", \"percent\": 0.03125}, {\"counts\": 2, \"emotion\": \"screaming\", \"percent\": 0.03125}, {\"counts\": 2, \"emotion\": \"yelling\", \"percent\": 0.03125}, {\"counts\": 2, \"emotion\": \"none\", \"percent\": 0.03125}], \"data-80538002bdd3be4f927402e4d799eaa6\": [{\"Rank\": 0, \"emotion\": \"displeased\", \"borda score\": 0.87, \"Precision\": 0.11, \"upper\": 0.925, \"lower\": 0.815}, {\"Rank\": 1, \"emotion\": \"perturbed\", \"borda score\": 0.85, \"Precision\": 0.11, \"upper\": 0.905, \"lower\": 0.7949999999999999}, {\"Rank\": 2, \"emotion\": \"irate\", \"borda score\": 0.83, \"Precision\": 0.12, \"upper\": 0.8899999999999999, \"lower\": 0.77}, {\"Rank\": 3, \"emotion\": \"irritated\", \"borda score\": 0.82, \"Precision\": 0.13, \"upper\": 0.885, \"lower\": 0.7549999999999999}, {\"Rank\": 4, \"emotion\": \"rage\", \"borda score\": 0.82, \"Precision\": 0.13, \"upper\": 0.885, \"lower\": 0.7549999999999999}, {\"Rank\": 5, \"emotion\": \"mad\", \"borda score\": 0.81, \"Precision\": 0.14, \"upper\": 0.8800000000000001, \"lower\": 0.74}, {\"Rank\": 6, \"emotion\": \"serious\", \"borda score\": 0.81, \"Precision\": 0.14, \"upper\": 0.8800000000000001, \"lower\": 0.74}, {\"Rank\": 7, \"emotion\": \"upset\", \"borda score\": 0.8, \"Precision\": 0.13, \"upper\": 0.865, \"lower\": 0.7350000000000001}, {\"Rank\": 8, \"emotion\": \"confrontational\", \"borda score\": 0.76, \"Precision\": 0.12, \"upper\": 0.8200000000000001, \"lower\": 0.7}, {\"Rank\": 9, \"emotion\": \"disgust\", \"borda score\": 0.76, \"Precision\": 0.16, \"upper\": 0.84, \"lower\": 0.68}, {\"Rank\": 10, \"emotion\": \"frustrated\", \"borda score\": 0.75, \"Precision\": 0.15, \"upper\": 0.825, \"lower\": 0.675}, {\"Rank\": 11, \"emotion\": \"disappointment\", \"borda score\": 0.74, \"Precision\": 0.16, \"upper\": 0.82, \"lower\": 0.66}, {\"Rank\": 12, \"emotion\": \"concerned\", \"borda score\": 0.74, \"Precision\": 0.17, \"upper\": 0.825, \"lower\": 0.655}, {\"Rank\": 13, \"emotion\": \"defiant\", \"borda score\": 0.74, \"Precision\": 0.17, \"upper\": 0.825, \"lower\": 0.655}, {\"Rank\": 14, \"emotion\": \"shouting\", \"borda score\": 0.69, \"Precision\": 0.19, \"upper\": 0.7849999999999999, \"lower\": 0.595}, {\"Rank\": 15, \"emotion\": \"uncertain\", \"borda score\": 0.67, \"Precision\": 0.19, \"upper\": 0.765, \"lower\": 0.5750000000000001}, {\"Rank\": 16, \"emotion\": \"unhappy\", \"borda score\": 0.65, \"Precision\": 0.21, \"upper\": 0.755, \"lower\": 0.545}, {\"Rank\": 17, \"emotion\": \"frustration\", \"borda score\": 0.65, \"Precision\": 0.21, \"upper\": 0.755, \"lower\": 0.545}, {\"Rank\": 18, \"emotion\": \"confusion\", \"borda score\": 0.64, \"Precision\": 0.21, \"upper\": 0.745, \"lower\": 0.535}, {\"Rank\": 19, \"emotion\": \"suspicious\", \"borda score\": 0.59, \"Precision\": 0.24, \"upper\": 0.71, \"lower\": 0.47}, {\"Rank\": 20, \"emotion\": \"teeth\", \"borda score\": 0.58, \"Precision\": 0.23, \"upper\": 0.695, \"lower\": 0.46499999999999997}, {\"Rank\": 21, \"emotion\": \"determined\", \"borda score\": 0.56, \"Precision\": 0.25, \"upper\": 0.685, \"lower\": 0.43500000000000005}, {\"Rank\": 22, \"emotion\": \"intense\", \"borda score\": 0.56, \"Precision\": 0.25, \"upper\": 0.685, \"lower\": 0.43500000000000005}, {\"Rank\": 23, \"emotion\": \"doubt\", \"borda score\": 0.56, \"Precision\": 0.25, \"upper\": 0.685, \"lower\": 0.43500000000000005}, {\"Rank\": 24, \"emotion\": \"questioning\", \"borda score\": 0.56, \"Precision\": 0.25, \"upper\": 0.685, \"lower\": 0.43500000000000005}, {\"Rank\": 25, \"emotion\": \"screaming\", \"borda score\": 0.53, \"Precision\": 0.26, \"upper\": 0.66, \"lower\": 0.4}, {\"Rank\": 26, \"emotion\": \"grumpy\", \"borda score\": 0.53, \"Precision\": 0.26, \"upper\": 0.66, \"lower\": 0.4}, {\"Rank\": 27, \"emotion\": \"aggressive\", \"borda score\": 0.5, \"Precision\": 0.29, \"upper\": 0.645, \"lower\": 0.355}, {\"Rank\": 28, \"emotion\": \"other\", \"borda score\": 0.45, \"Precision\": 0.3, \"upper\": 0.6, \"lower\": 0.30000000000000004}, {\"Rank\": 29, \"emotion\": \"fear\", \"borda score\": 0.42, \"Precision\": 0.29, \"upper\": 0.565, \"lower\": 0.275}, {\"Rank\": 30, \"emotion\": \"confused\", \"borda score\": 0.4, \"Precision\": 0.32, \"upper\": 0.56, \"lower\": 0.24000000000000002}, {\"Rank\": 31, \"emotion\": \"anger\", \"borda score\": 0.4, \"Precision\": 0.32, \"upper\": 0.56, \"lower\": 0.24000000000000002}, {\"Rank\": 32, \"emotion\": \"shocked\", \"borda score\": 0.38, \"Precision\": 0.28, \"upper\": 0.52, \"lower\": 0.24}, {\"Rank\": 33, \"emotion\": \"unamused\", \"borda score\": 0.38, \"Precision\": 0.35, \"upper\": 0.5549999999999999, \"lower\": 0.20500000000000002}, {\"Rank\": 34, \"emotion\": \"thinking\", \"borda score\": 0.29, \"Precision\": 0.38, \"upper\": 0.48, \"lower\": 0.09999999999999998}]}}, {\"mode\": \"vega-lite\"});\n",
       "</script>"
      ],
      "text/plain": [
       "alt.HConcatChart(...)"
      ]
     },
     "execution_count": 23,
     "metadata": {},
     "output_type": "execute_result"
    }
   ],
   "source": [
    "anger_bma_next_panel = (anger_bma_forced.properties(width=200) | anger_bma_free.properties(width=200) | anger_bma_next.properties(width=200)).properties(title=\"Male of color - Anger\")\n",
    "anger_bma_next_panel.configure_axis(grid=False, labelFontSize=12, titleFontSize=12).configure_view(strokeWidth=0).configure_title(dy=-12)"
   ]
  },
  {
   "cell_type": "code",
   "execution_count": 24,
   "id": "a6eb07f4-7dc9-49df-b066-218fc7d33c44",
   "metadata": {},
   "outputs": [],
   "source": [
    "save(anger_bma_next_panel, \"../../emotions_dashboard/data/anger_bma_next_panel_mturk.png\")"
   ]
  },
  {
   "cell_type": "markdown",
   "id": "9719fcc4-6235-41b3-96d5-edf8ddcc5ae4",
   "metadata": {},
   "source": [
    "## Anger - White Female "
   ]
  },
  {
   "cell_type": "code",
   "execution_count": 25,
   "id": "9ae65273-8ce5-43f1-8c00-72823e7aef1f",
   "metadata": {},
   "outputs": [
    {
     "name": "stderr",
     "output_type": "stream",
     "text": [
      "/tmp/ipykernel_11424/2691402293.py:11: FutureWarning: The default value of regex will change from True to False in a future version.\n",
      "  df_stack_single_word['emotion'] = df_stack_single_word['emotion'].str.replace('[^a-zA-Z]', '') # remove non-alphabetic characters\n"
     ]
    }
   ],
   "source": [
    "anger_wfa_forced = photo_chart(df_emo_answers_forced, 'anger',  12, df_forced_labels, emotion_st='anger', n_mentions=2, photo=True)\n",
    "anger_wfa_free = photo_chart(df_emo_answers_free, 'anger',  12, df_free_labels, emotion_st='anger', n_mentions=2)"
   ]
  },
  {
   "cell_type": "code",
   "execution_count": 26,
   "id": "2486139d-7d05-492e-8486-0f1815e7ac9a",
   "metadata": {},
   "outputs": [],
   "source": [
    "path = '../../emo-ranking-next/anger_white_female/mturk/borda_lilucb_ranking_mturk.csv'\n",
    "\n",
    "anger_wfa_next = next_chart_wrapper(path, emotion='anger', head=10)"
   ]
  },
  {
   "cell_type": "code",
   "execution_count": 27,
   "id": "4d469708-593f-40e8-85c6-6ba5ceee139c",
   "metadata": {},
   "outputs": [
    {
     "data": {
      "text/html": [
       "\n",
       "<div id=\"altair-viz-3aa3e1b4617442f0a89965a7ae168ff0\"></div>\n",
       "<script type=\"text/javascript\">\n",
       "  (function(spec, embedOpt){\n",
       "    let outputDiv = document.currentScript.previousElementSibling;\n",
       "    if (outputDiv.id !== \"altair-viz-3aa3e1b4617442f0a89965a7ae168ff0\") {\n",
       "      outputDiv = document.getElementById(\"altair-viz-3aa3e1b4617442f0a89965a7ae168ff0\");\n",
       "    }\n",
       "    const paths = {\n",
       "      \"vega\": \"https://cdn.jsdelivr.net/npm//vega@5?noext\",\n",
       "      \"vega-lib\": \"https://cdn.jsdelivr.net/npm//vega-lib?noext\",\n",
       "      \"vega-lite\": \"https://cdn.jsdelivr.net/npm//vega-lite@4.8.1?noext\",\n",
       "      \"vega-embed\": \"https://cdn.jsdelivr.net/npm//vega-embed@6?noext\",\n",
       "    };\n",
       "\n",
       "    function loadScript(lib) {\n",
       "      return new Promise(function(resolve, reject) {\n",
       "        var s = document.createElement('script');\n",
       "        s.src = paths[lib];\n",
       "        s.async = true;\n",
       "        s.onload = () => resolve(paths[lib]);\n",
       "        s.onerror = () => reject(`Error loading script: ${paths[lib]}`);\n",
       "        document.getElementsByTagName(\"head\")[0].appendChild(s);\n",
       "      });\n",
       "    }\n",
       "\n",
       "    function showError(err) {\n",
       "      outputDiv.innerHTML = `<div class=\"error\" style=\"color:red;\">${err}</div>`;\n",
       "      throw err;\n",
       "    }\n",
       "\n",
       "    function displayChart(vegaEmbed) {\n",
       "      vegaEmbed(outputDiv, spec, embedOpt)\n",
       "        .catch(err => showError(`Javascript Error: ${err.message}<br>This usually means there's a typo in your chart specification. See the javascript console for the full traceback.`));\n",
       "    }\n",
       "\n",
       "    if(typeof define === \"function\" && define.amd) {\n",
       "      requirejs.config({paths});\n",
       "      require([\"vega-embed\"], displayChart, err => showError(`Error loading script: ${err.message}`));\n",
       "    } else if (typeof vegaEmbed === \"function\") {\n",
       "      displayChart(vegaEmbed);\n",
       "    } else {\n",
       "      loadScript(\"vega\")\n",
       "        .then(() => loadScript(\"vega-lite\"))\n",
       "        .then(() => loadScript(\"vega-embed\"))\n",
       "        .catch(showError)\n",
       "        .then(() => displayChart(vegaEmbed));\n",
       "    }\n",
       "  })({\"config\": {\"view\": {\"continuousWidth\": 400, \"continuousHeight\": 300, \"strokeWidth\": 0}, \"axis\": {\"grid\": false, \"labelFontSize\": 12, \"titleFontSize\": 12}, \"title\": {\"dy\": -12}}, \"hconcat\": [{\"layer\": [{\"mark\": \"bar\", \"encoding\": {\"color\": {\"condition\": {\"value\": \"orange\", \"test\": \"(datum.emotion === 'anger')\"}, \"value\": \"#0570b0\"}, \"x\": {\"type\": \"quantitative\", \"axis\": {\"format\": \".0%\"}, \"field\": \"percent\"}, \"y\": {\"type\": \"nominal\", \"field\": \"emotion\", \"sort\": \"-x\"}}, \"title\": \"Categories with 2 or more mentions | n= 49\"}, {\"mark\": {\"type\": \"text\", \"align\": \"left\", \"baseline\": \"middle\", \"dx\": 3, \"fontSize\": 12}, \"encoding\": {\"text\": {\"type\": \"quantitative\", \"field\": \"percent\", \"format\": \".1%\"}, \"x\": {\"type\": \"quantitative\", \"field\": \"percent\"}, \"y\": {\"type\": \"nominal\", \"field\": \"emotion\", \"sort\": \"-x\"}}}, {\"data\": {\"name\": \"data-8390ab7374ef847ecf75ab69cd82095f\"}, \"mark\": {\"type\": \"image\", \"align\": \"center\", \"height\": 150, \"width\": 150, \"xOffset\": -100, \"yOffset\": 220}, \"encoding\": {\"url\": {\"type\": \"nominal\", \"field\": \"url\"}}}], \"data\": {\"name\": \"data-5da286d4b89963299111e1856965ab4e\"}, \"width\": 200}, {\"layer\": [{\"mark\": \"bar\", \"encoding\": {\"color\": {\"condition\": {\"value\": \"orange\", \"test\": \"(datum.emotion === 'anger')\"}, \"value\": \"#0570b0\"}, \"x\": {\"type\": \"quantitative\", \"axis\": {\"format\": \".0%\"}, \"field\": \"percent\"}, \"y\": {\"type\": \"nominal\", \"field\": \"emotion\", \"sort\": \"-x\"}}, \"title\": \"Categories with 2 or more mentions | n= 65\"}, {\"mark\": {\"type\": \"text\", \"align\": \"left\", \"baseline\": \"middle\", \"dx\": 3, \"fontSize\": 12}, \"encoding\": {\"text\": {\"type\": \"quantitative\", \"field\": \"percent\", \"format\": \".1%\"}, \"x\": {\"type\": \"quantitative\", \"field\": \"percent\"}, \"y\": {\"type\": \"nominal\", \"field\": \"emotion\", \"sort\": \"-x\"}}}], \"data\": {\"name\": \"data-946b9dc2fa3af00a538e6156384ee059\"}, \"width\": 200}, {\"layer\": [{\"mark\": \"bar\", \"encoding\": {\"color\": {\"condition\": {\"value\": \"orange\", \"test\": \"(datum.emotion === 'anger')\"}, \"value\": \"#0570b0\"}, \"x\": {\"type\": \"quantitative\", \"axis\": {\"format\": \".0\", \"title\": \"Borda score(bar and number), Score precision (horizontal line)\"}, \"field\": \"borda score\"}, \"y\": {\"type\": \"nominal\", \"field\": \"emotion\", \"sort\": \"-x\"}}, \"title\": \"Dueling bandits ranking | Top: 10\"}, {\"mark\": {\"type\": \"text\", \"align\": \"left\", \"baseline\": \"middle\", \"dx\": 3, \"fontSize\": 12}, \"encoding\": {\"text\": {\"type\": \"quantitative\", \"field\": \"borda score\"}, \"x\": {\"type\": \"quantitative\", \"field\": \"upper\"}, \"y\": {\"type\": \"nominal\", \"field\": \"emotion\", \"sort\": {\"field\": \"borda score\", \"order\": \"descending\"}}}}, {\"mark\": {\"type\": \"rule\", \"color\": \"black\"}, \"encoding\": {\"x\": {\"type\": \"quantitative\", \"field\": \"lower\", \"scale\": {\"zero\": false}}, \"x2\": {\"field\": \"upper\"}, \"y\": {\"type\": \"nominal\", \"field\": \"emotion\", \"sort\": {\"field\": \"borda score\", \"order\": \"descending\"}}}}], \"data\": {\"name\": \"data-3e60b69a76e893ff9c3992579e748840\"}, \"width\": 200}], \"title\": \"White female - Anger\", \"$schema\": \"https://vega.github.io/schema/vega-lite/v4.8.1.json\", \"datasets\": {\"data-5da286d4b89963299111e1856965ab4e\": [{\"counts\": 32, \"emotion\": \"anger\", \"percent\": 0.6530612244897959}, {\"counts\": 15, \"emotion\": \"disgust\", \"percent\": 0.30612244897959184}, {\"counts\": 2, \"emotion\": \"sadness\", \"percent\": 0.04081632653061224}], \"data-8390ab7374ef847ecf75ab69cd82095f\": [{\"url\": \"https://uwmadison.co1.qualtrics.com/ControlPanel/Graphic.php?IM=IM_b1KYrTe9d0HebfU\"}], \"data-946b9dc2fa3af00a538e6156384ee059\": [{\"counts\": 34, \"emotion\": \"anger\", \"percent\": 0.5230769230769231}, {\"counts\": 5, \"emotion\": \"disgust\", \"percent\": 0.07692307692307693}, {\"counts\": 4, \"emotion\": \"upset\", \"percent\": 0.06153846153846154}, {\"counts\": 3, \"emotion\": \"mad\", \"percent\": 0.046153846153846156}, {\"counts\": 3, \"emotion\": \"sadness\", \"percent\": 0.046153846153846156}, {\"counts\": 3, \"emotion\": \"annoyed\", \"percent\": 0.046153846153846156}, {\"counts\": 3, \"emotion\": \"none\", \"percent\": 0.046153846153846156}, {\"counts\": 2, \"emotion\": \"frustration\", \"percent\": 0.03076923076923077}, {\"counts\": 2, \"emotion\": \"teeth\", \"percent\": 0.03076923076923077}, {\"counts\": 2, \"emotion\": \"worried\", \"percent\": 0.03076923076923077}, {\"counts\": 2, \"emotion\": \"aggressive\", \"percent\": 0.03076923076923077}, {\"counts\": 2, \"emotion\": \"fear\", \"percent\": 0.03076923076923077}], \"data-3e60b69a76e893ff9c3992579e748840\": [{\"Rank\": 0, \"emotion\": \"upset\", \"borda score\": 0.83, \"Precision\": 0.11, \"upper\": 0.885, \"lower\": 0.7749999999999999}, {\"Rank\": 1, \"emotion\": \"irate\", \"borda score\": 0.81, \"Precision\": 0.12, \"upper\": 0.8700000000000001, \"lower\": 0.75}, {\"Rank\": 2, \"emotion\": \"aggressive\", \"borda score\": 0.79, \"Precision\": 0.13, \"upper\": 0.855, \"lower\": 0.7250000000000001}, {\"Rank\": 3, \"emotion\": \"anger\", \"borda score\": 0.78, \"Precision\": 0.13, \"upper\": 0.845, \"lower\": 0.7150000000000001}, {\"Rank\": 4, \"emotion\": \"confrontational\", \"borda score\": 0.76, \"Precision\": 0.14, \"upper\": 0.8300000000000001, \"lower\": 0.69}, {\"Rank\": 5, \"emotion\": \"screaming\", \"borda score\": 0.76, \"Precision\": 0.15, \"upper\": 0.835, \"lower\": 0.685}, {\"Rank\": 6, \"emotion\": \"intense\", \"borda score\": 0.76, \"Precision\": 0.14, \"upper\": 0.8300000000000001, \"lower\": 0.69}, {\"Rank\": 7, \"emotion\": \"furious\", \"borda score\": 0.72, \"Precision\": 0.15, \"upper\": 0.7949999999999999, \"lower\": 0.645}, {\"Rank\": 8, \"emotion\": \"disgust\", \"borda score\": 0.71, \"Precision\": 0.17, \"upper\": 0.7949999999999999, \"lower\": 0.625}, {\"Rank\": 9, \"emotion\": \"unhappy\", \"borda score\": 0.68, \"Precision\": 0.14, \"upper\": 0.75, \"lower\": 0.6100000000000001}]}}, {\"mode\": \"vega-lite\"});\n",
       "</script>"
      ],
      "text/plain": [
       "alt.HConcatChart(...)"
      ]
     },
     "execution_count": 27,
     "metadata": {},
     "output_type": "execute_result"
    }
   ],
   "source": [
    "anger_wfa_next_panel = (anger_wfa_forced.properties(width=200) | anger_wfa_free.properties(width=200) | anger_wfa_next.properties(width=200)).properties(title=\"White female - Anger\")\n",
    "anger_wfa_next_panel.configure_axis(grid=False, labelFontSize=12, titleFontSize=12).configure_view(strokeWidth=0).configure_title(dy=-12)"
   ]
  },
  {
   "cell_type": "code",
   "execution_count": 28,
   "id": "63ee1e5f-481c-40a9-9b39-c55d1d2e34cd",
   "metadata": {},
   "outputs": [],
   "source": [
    "save(anger_wfa_next_panel, \"../../emotions_dashboard/data/anger_wfa_next_panel_mturk.png\")"
   ]
  },
  {
   "cell_type": "markdown",
   "id": "b82c12cf-71c2-487a-adf4-8a5f66586401",
   "metadata": {},
   "source": [
    "## Anger - White male"
   ]
  },
  {
   "cell_type": "code",
   "execution_count": 29,
   "id": "75a8d340-dc10-4020-8b92-e603174a94d8",
   "metadata": {},
   "outputs": [
    {
     "name": "stderr",
     "output_type": "stream",
     "text": [
      "/tmp/ipykernel_11424/2691402293.py:11: FutureWarning: The default value of regex will change from True to False in a future version.\n",
      "  df_stack_single_word['emotion'] = df_stack_single_word['emotion'].str.replace('[^a-zA-Z]', '') # remove non-alphabetic characters\n"
     ]
    }
   ],
   "source": [
    "anger_wma_forced = photo_chart(df_emo_answers_forced, 'anger',  6, df_forced_labels, emotion_st='anger', n_mentions=2, photo=True, yoffset=260)\n",
    "anger_wma_free = photo_chart(df_emo_answers_free, 'anger',  6, df_free_labels, emotion_st='anger', n_mentions=2)"
   ]
  },
  {
   "cell_type": "code",
   "execution_count": 30,
   "id": "29111d8a-8e3a-4122-ac67-d98020fdd2f9",
   "metadata": {},
   "outputs": [],
   "source": [
    "path = '../../emo-ranking-next/anger_white_male/mturk/borda_lilucb_ranking_mturk.csv'\n",
    "\n",
    "anger_wma_next = next_chart_wrapper(path, emotion='anger', head=15)"
   ]
  },
  {
   "cell_type": "code",
   "execution_count": 31,
   "id": "54a352dc-982e-4f8a-9ae8-ab483eeea146",
   "metadata": {},
   "outputs": [
    {
     "data": {
      "text/html": [
       "\n",
       "<div id=\"altair-viz-0657a7916d95497da56e18c78fd8ce59\"></div>\n",
       "<script type=\"text/javascript\">\n",
       "  (function(spec, embedOpt){\n",
       "    let outputDiv = document.currentScript.previousElementSibling;\n",
       "    if (outputDiv.id !== \"altair-viz-0657a7916d95497da56e18c78fd8ce59\") {\n",
       "      outputDiv = document.getElementById(\"altair-viz-0657a7916d95497da56e18c78fd8ce59\");\n",
       "    }\n",
       "    const paths = {\n",
       "      \"vega\": \"https://cdn.jsdelivr.net/npm//vega@5?noext\",\n",
       "      \"vega-lib\": \"https://cdn.jsdelivr.net/npm//vega-lib?noext\",\n",
       "      \"vega-lite\": \"https://cdn.jsdelivr.net/npm//vega-lite@4.8.1?noext\",\n",
       "      \"vega-embed\": \"https://cdn.jsdelivr.net/npm//vega-embed@6?noext\",\n",
       "    };\n",
       "\n",
       "    function loadScript(lib) {\n",
       "      return new Promise(function(resolve, reject) {\n",
       "        var s = document.createElement('script');\n",
       "        s.src = paths[lib];\n",
       "        s.async = true;\n",
       "        s.onload = () => resolve(paths[lib]);\n",
       "        s.onerror = () => reject(`Error loading script: ${paths[lib]}`);\n",
       "        document.getElementsByTagName(\"head\")[0].appendChild(s);\n",
       "      });\n",
       "    }\n",
       "\n",
       "    function showError(err) {\n",
       "      outputDiv.innerHTML = `<div class=\"error\" style=\"color:red;\">${err}</div>`;\n",
       "      throw err;\n",
       "    }\n",
       "\n",
       "    function displayChart(vegaEmbed) {\n",
       "      vegaEmbed(outputDiv, spec, embedOpt)\n",
       "        .catch(err => showError(`Javascript Error: ${err.message}<br>This usually means there's a typo in your chart specification. See the javascript console for the full traceback.`));\n",
       "    }\n",
       "\n",
       "    if(typeof define === \"function\" && define.amd) {\n",
       "      requirejs.config({paths});\n",
       "      require([\"vega-embed\"], displayChart, err => showError(`Error loading script: ${err.message}`));\n",
       "    } else if (typeof vegaEmbed === \"function\") {\n",
       "      displayChart(vegaEmbed);\n",
       "    } else {\n",
       "      loadScript(\"vega\")\n",
       "        .then(() => loadScript(\"vega-lite\"))\n",
       "        .then(() => loadScript(\"vega-embed\"))\n",
       "        .catch(showError)\n",
       "        .then(() => displayChart(vegaEmbed));\n",
       "    }\n",
       "  })({\"config\": {\"view\": {\"continuousWidth\": 400, \"continuousHeight\": 300, \"strokeWidth\": 0}, \"axis\": {\"grid\": false, \"labelFontSize\": 12, \"titleFontSize\": 12}, \"title\": {\"dy\": -12}}, \"hconcat\": [{\"layer\": [{\"mark\": \"bar\", \"encoding\": {\"color\": {\"condition\": {\"value\": \"orange\", \"test\": \"(datum.emotion === 'anger')\"}, \"value\": \"#0570b0\"}, \"x\": {\"type\": \"quantitative\", \"axis\": {\"format\": \".0%\"}, \"field\": \"percent\"}, \"y\": {\"type\": \"nominal\", \"field\": \"emotion\", \"sort\": \"-x\"}}, \"title\": \"Categories with 2 or more mentions | n= 50\"}, {\"mark\": {\"type\": \"text\", \"align\": \"left\", \"baseline\": \"middle\", \"dx\": 3, \"fontSize\": 12}, \"encoding\": {\"text\": {\"type\": \"quantitative\", \"field\": \"percent\", \"format\": \".1%\"}, \"x\": {\"type\": \"quantitative\", \"field\": \"percent\"}, \"y\": {\"type\": \"nominal\", \"field\": \"emotion\", \"sort\": \"-x\"}}}, {\"data\": {\"name\": \"data-362ba215a055845cb6b0505d31f91a2f\"}, \"mark\": {\"type\": \"image\", \"align\": \"center\", \"height\": 150, \"width\": 150, \"xOffset\": -100, \"yOffset\": 260}, \"encoding\": {\"url\": {\"type\": \"nominal\", \"field\": \"url\"}}}], \"data\": {\"name\": \"data-63d5d5810fe6591b813d3d576ad5dabc\"}, \"width\": 200}, {\"layer\": [{\"mark\": \"bar\", \"encoding\": {\"color\": {\"condition\": {\"value\": \"orange\", \"test\": \"(datum.emotion === 'anger')\"}, \"value\": \"#0570b0\"}, \"x\": {\"type\": \"quantitative\", \"axis\": {\"format\": \".0%\"}, \"field\": \"percent\"}, \"y\": {\"type\": \"nominal\", \"field\": \"emotion\", \"sort\": \"-x\"}}, \"title\": \"Categories with 2 or more mentions | n= 53\"}, {\"mark\": {\"type\": \"text\", \"align\": \"left\", \"baseline\": \"middle\", \"dx\": 3, \"fontSize\": 12}, \"encoding\": {\"text\": {\"type\": \"quantitative\", \"field\": \"percent\", \"format\": \".1%\"}, \"x\": {\"type\": \"quantitative\", \"field\": \"percent\"}, \"y\": {\"type\": \"nominal\", \"field\": \"emotion\", \"sort\": \"-x\"}}}], \"data\": {\"name\": \"data-bb3928ba0e0495cafc7e0138b583c492\"}, \"width\": 200}, {\"layer\": [{\"mark\": \"bar\", \"encoding\": {\"color\": {\"condition\": {\"value\": \"orange\", \"test\": \"(datum.emotion === 'anger')\"}, \"value\": \"#0570b0\"}, \"x\": {\"type\": \"quantitative\", \"axis\": {\"format\": \".0\", \"title\": \"Borda score(bar and number), Score precision (horizontal line)\"}, \"field\": \"borda score\"}, \"y\": {\"type\": \"nominal\", \"field\": \"emotion\", \"sort\": \"-x\"}}, \"title\": \"Dueling bandits ranking | Top: 15\"}, {\"mark\": {\"type\": \"text\", \"align\": \"left\", \"baseline\": \"middle\", \"dx\": 3, \"fontSize\": 12}, \"encoding\": {\"text\": {\"type\": \"quantitative\", \"field\": \"borda score\"}, \"x\": {\"type\": \"quantitative\", \"field\": \"upper\"}, \"y\": {\"type\": \"nominal\", \"field\": \"emotion\", \"sort\": {\"field\": \"borda score\", \"order\": \"descending\"}}}}, {\"mark\": {\"type\": \"rule\", \"color\": \"black\"}, \"encoding\": {\"x\": {\"type\": \"quantitative\", \"field\": \"lower\", \"scale\": {\"zero\": false}}, \"x2\": {\"field\": \"upper\"}, \"y\": {\"type\": \"nominal\", \"field\": \"emotion\", \"sort\": {\"field\": \"borda score\", \"order\": \"descending\"}}}}], \"data\": {\"name\": \"data-af51ee38e9377eebdeb76abc332e047e\"}, \"width\": 200}], \"title\": \"White male - Anger\", \"$schema\": \"https://vega.github.io/schema/vega-lite/v4.8.1.json\", \"datasets\": {\"data-63d5d5810fe6591b813d3d576ad5dabc\": [{\"counts\": 25, \"emotion\": \"anger\", \"percent\": 0.5}, {\"counts\": 13, \"emotion\": \"neutral\", \"percent\": 0.26}, {\"counts\": 3, \"emotion\": \"other\", \"percent\": 0.06}, {\"counts\": 3, \"emotion\": \"sadness\", \"percent\": 0.06}, {\"counts\": 2, \"emotion\": \"uncertain\", \"percent\": 0.04}, {\"counts\": 2, \"emotion\": \"fear\", \"percent\": 0.04}, {\"counts\": 2, \"emotion\": \"disgust\", \"percent\": 0.04}], \"data-362ba215a055845cb6b0505d31f91a2f\": [{\"url\": \"https://uwmadison.co1.qualtrics.com/ControlPanel/Graphic.php?IM=IM_7PC2cgcyr5yUiOy\"}], \"data-bb3928ba0e0495cafc7e0138b583c492\": [{\"counts\": 16, \"emotion\": \"anger\", \"percent\": 0.3018867924528302}, {\"counts\": 4, \"emotion\": \"serious\", \"percent\": 0.07547169811320754}, {\"counts\": 4, \"emotion\": \"sadness\", \"percent\": 0.07547169811320754}, {\"counts\": 4, \"emotion\": \"worried\", \"percent\": 0.07547169811320754}, {\"counts\": 3, \"emotion\": \"none\", \"percent\": 0.05660377358490566}, {\"counts\": 2, \"emotion\": \"perturbed\", \"percent\": 0.03773584905660377}, {\"counts\": 2, \"emotion\": \"irritated\", \"percent\": 0.03773584905660377}, {\"counts\": 2, \"emotion\": \"confusion\", \"percent\": 0.03773584905660377}, {\"counts\": 2, \"emotion\": \"nice\", \"percent\": 0.03773584905660377}, {\"counts\": 2, \"emotion\": \"neutral\", \"percent\": 0.03773584905660377}, {\"counts\": 2, \"emotion\": \"disgust\", \"percent\": 0.03773584905660377}, {\"counts\": 2, \"emotion\": \"suspicious\", \"percent\": 0.03773584905660377}, {\"counts\": 2, \"emotion\": \"mad\", \"percent\": 0.03773584905660377}, {\"counts\": 2, \"emotion\": \"doubtful\", \"percent\": 0.03773584905660377}, {\"counts\": 2, \"emotion\": \"frowning\", \"percent\": 0.03773584905660377}, {\"counts\": 2, \"emotion\": \"concerned\", \"percent\": 0.03773584905660377}], \"data-af51ee38e9377eebdeb76abc332e047e\": [{\"Rank\": 0, \"emotion\": \"disappointment\", \"borda score\": 0.82, \"Precision\": 0.1, \"upper\": 0.87, \"lower\": 0.7699999999999999}, {\"Rank\": 1, \"emotion\": \"rage\", \"borda score\": 0.78, \"Precision\": 0.12, \"upper\": 0.8400000000000001, \"lower\": 0.72}, {\"Rank\": 2, \"emotion\": \"frustration\", \"borda score\": 0.78, \"Precision\": 0.12, \"upper\": 0.8400000000000001, \"lower\": 0.72}, {\"Rank\": 3, \"emotion\": \"displeased\", \"borda score\": 0.78, \"Precision\": 0.12, \"upper\": 0.8400000000000001, \"lower\": 0.72}, {\"Rank\": 4, \"emotion\": \"tension\", \"borda score\": 0.77, \"Precision\": 0.12, \"upper\": 0.8300000000000001, \"lower\": 0.71}, {\"Rank\": 5, \"emotion\": \"irate\", \"borda score\": 0.75, \"Precision\": 0.13, \"upper\": 0.815, \"lower\": 0.685}, {\"Rank\": 6, \"emotion\": \"irritated\", \"borda score\": 0.75, \"Precision\": 0.13, \"upper\": 0.815, \"lower\": 0.685}, {\"Rank\": 7, \"emotion\": \"shocked\", \"borda score\": 0.72, \"Precision\": 0.15, \"upper\": 0.7949999999999999, \"lower\": 0.645}, {\"Rank\": 8, \"emotion\": \"annoyed\", \"borda score\": 0.71, \"Precision\": 0.15, \"upper\": 0.7849999999999999, \"lower\": 0.635}, {\"Rank\": 9, \"emotion\": \"furious\", \"borda score\": 0.69, \"Precision\": 0.15, \"upper\": 0.7649999999999999, \"lower\": 0.615}, {\"Rank\": 10, \"emotion\": \"anger\", \"borda score\": 0.66, \"Precision\": 0.18, \"upper\": 0.75, \"lower\": 0.5700000000000001}, {\"Rank\": 11, \"emotion\": \"grumpy\", \"borda score\": 0.65, \"Precision\": 0.17, \"upper\": 0.735, \"lower\": 0.5650000000000001}, {\"Rank\": 12, \"emotion\": \"fear\", \"borda score\": 0.63, \"Precision\": 0.18, \"upper\": 0.72, \"lower\": 0.54}, {\"Rank\": 13, \"emotion\": \"unamused\", \"borda score\": 0.62, \"Precision\": 0.19, \"upper\": 0.715, \"lower\": 0.525}, {\"Rank\": 14, \"emotion\": \"uncertain\", \"borda score\": 0.62, \"Precision\": 0.2, \"upper\": 0.72, \"lower\": 0.52}]}}, {\"mode\": \"vega-lite\"});\n",
       "</script>"
      ],
      "text/plain": [
       "alt.HConcatChart(...)"
      ]
     },
     "execution_count": 31,
     "metadata": {},
     "output_type": "execute_result"
    }
   ],
   "source": [
    "anger_wma_next_panel = (anger_wma_forced.properties(width=200) | anger_wma_free.properties(width=200) | anger_wma_next.properties(width=200)).properties(title=\"White male - Anger\")\n",
    "anger_wma_next_panel.configure_axis(grid=False, labelFontSize=12, titleFontSize=12).configure_view(strokeWidth=0).configure_title(dy=-12)"
   ]
  },
  {
   "cell_type": "code",
   "execution_count": 32,
   "id": "2e5df4bc-a5cb-46f3-aa85-8861b78a3d04",
   "metadata": {},
   "outputs": [],
   "source": [
    "save(anger_wma_next_panel, \"../../emotions_dashboard/data/anger_wma_next_panel_mturk.png\")"
   ]
  },
  {
   "cell_type": "code",
   "execution_count": 33,
   "id": "01b2480c-919a-44e8-8525-a600e8892b10",
   "metadata": {},
   "outputs": [],
   "source": [
    "## JOIN PANELS\n",
    "anger_panel = (anger_bfa_next_panel & anger_bma_next_panel & anger_wfa_next_panel & anger_wma_next_panel).configure_axis(grid=False, labelFontSize=12, titleFontSize=12).configure_view(strokeWidth=0)\n",
    "save(anger_panel, \"/mnt/c/Users/pablo/Desktop/dissertation-docs/images/anger_panel_mturk.png\")"
   ]
  },
  {
   "cell_type": "markdown",
   "id": "83be7c6f-6796-4578-b4a7-ba6b5ef246a3",
   "metadata": {},
   "source": [
    "## Disgust - Female of color"
   ]
  },
  {
   "cell_type": "code",
   "execution_count": 34,
   "id": "3bea8153-2484-4287-b528-b67f0234951d",
   "metadata": {},
   "outputs": [
    {
     "name": "stderr",
     "output_type": "stream",
     "text": [
      "/tmp/ipykernel_11424/2691402293.py:11: FutureWarning: The default value of regex will change from True to False in a future version.\n",
      "  df_stack_single_word['emotion'] = df_stack_single_word['emotion'].str.replace('[^a-zA-Z]', '') # remove non-alphabetic characters\n"
     ]
    }
   ],
   "source": [
    "disgust_bfa_forced = photo_chart(df_emo_answers_forced, 'disgust',  0, df_forced_labels, emotion_st='disgust', n_mentions=2, photo=True, yoffset=260)\n",
    "disgust_bfa_free = photo_chart(df_emo_answers_free, 'disgust',  0, df_free_labels, emotion_st='disgust', n_mentions=2)"
   ]
  },
  {
   "cell_type": "code",
   "execution_count": 35,
   "id": "4dea4e4f-d47c-4fff-91ad-eac03499ceac",
   "metadata": {},
   "outputs": [],
   "source": [
    "path = '../../emo-ranking-next/disgust_bipoc_female/mturk/borda_lilucb_ranking_mturk.csv'\n",
    "\n",
    "disgust_bfa_next = next_chart_wrapper(path, emotion='disgust', head=10)"
   ]
  },
  {
   "cell_type": "code",
   "execution_count": 36,
   "id": "6f57cef3-7273-4cb1-bbc4-a0f77b1e7713",
   "metadata": {},
   "outputs": [
    {
     "data": {
      "text/html": [
       "\n",
       "<div id=\"altair-viz-298ba2474923495ca5f1b4317bf68c1f\"></div>\n",
       "<script type=\"text/javascript\">\n",
       "  (function(spec, embedOpt){\n",
       "    let outputDiv = document.currentScript.previousElementSibling;\n",
       "    if (outputDiv.id !== \"altair-viz-298ba2474923495ca5f1b4317bf68c1f\") {\n",
       "      outputDiv = document.getElementById(\"altair-viz-298ba2474923495ca5f1b4317bf68c1f\");\n",
       "    }\n",
       "    const paths = {\n",
       "      \"vega\": \"https://cdn.jsdelivr.net/npm//vega@5?noext\",\n",
       "      \"vega-lib\": \"https://cdn.jsdelivr.net/npm//vega-lib?noext\",\n",
       "      \"vega-lite\": \"https://cdn.jsdelivr.net/npm//vega-lite@4.8.1?noext\",\n",
       "      \"vega-embed\": \"https://cdn.jsdelivr.net/npm//vega-embed@6?noext\",\n",
       "    };\n",
       "\n",
       "    function loadScript(lib) {\n",
       "      return new Promise(function(resolve, reject) {\n",
       "        var s = document.createElement('script');\n",
       "        s.src = paths[lib];\n",
       "        s.async = true;\n",
       "        s.onload = () => resolve(paths[lib]);\n",
       "        s.onerror = () => reject(`Error loading script: ${paths[lib]}`);\n",
       "        document.getElementsByTagName(\"head\")[0].appendChild(s);\n",
       "      });\n",
       "    }\n",
       "\n",
       "    function showError(err) {\n",
       "      outputDiv.innerHTML = `<div class=\"error\" style=\"color:red;\">${err}</div>`;\n",
       "      throw err;\n",
       "    }\n",
       "\n",
       "    function displayChart(vegaEmbed) {\n",
       "      vegaEmbed(outputDiv, spec, embedOpt)\n",
       "        .catch(err => showError(`Javascript Error: ${err.message}<br>This usually means there's a typo in your chart specification. See the javascript console for the full traceback.`));\n",
       "    }\n",
       "\n",
       "    if(typeof define === \"function\" && define.amd) {\n",
       "      requirejs.config({paths});\n",
       "      require([\"vega-embed\"], displayChart, err => showError(`Error loading script: ${err.message}`));\n",
       "    } else if (typeof vegaEmbed === \"function\") {\n",
       "      displayChart(vegaEmbed);\n",
       "    } else {\n",
       "      loadScript(\"vega\")\n",
       "        .then(() => loadScript(\"vega-lite\"))\n",
       "        .then(() => loadScript(\"vega-embed\"))\n",
       "        .catch(showError)\n",
       "        .then(() => displayChart(vegaEmbed));\n",
       "    }\n",
       "  })({\"config\": {\"view\": {\"continuousWidth\": 400, \"continuousHeight\": 300, \"strokeWidth\": 0}, \"axis\": {\"grid\": false, \"labelFontSize\": 12, \"titleFontSize\": 12}, \"title\": {\"dy\": -12}}, \"hconcat\": [{\"layer\": [{\"mark\": \"bar\", \"encoding\": {\"color\": {\"condition\": {\"value\": \"orange\", \"test\": \"(datum.emotion === 'disgust')\"}, \"value\": \"#0570b0\"}, \"x\": {\"type\": \"quantitative\", \"axis\": {\"format\": \".0%\"}, \"field\": \"percent\"}, \"y\": {\"type\": \"nominal\", \"field\": \"emotion\", \"sort\": \"-x\"}}, \"title\": \"Categories with 2 or more mentions | n= 52\"}, {\"mark\": {\"type\": \"text\", \"align\": \"left\", \"baseline\": \"middle\", \"dx\": 3, \"fontSize\": 12}, \"encoding\": {\"text\": {\"type\": \"quantitative\", \"field\": \"percent\", \"format\": \".1%\"}, \"x\": {\"type\": \"quantitative\", \"field\": \"percent\"}, \"y\": {\"type\": \"nominal\", \"field\": \"emotion\", \"sort\": \"-x\"}}}, {\"data\": {\"name\": \"data-f7a6f6e08699cd8173b565f07474386f\"}, \"mark\": {\"type\": \"image\", \"align\": \"center\", \"height\": 150, \"width\": 150, \"xOffset\": -100, \"yOffset\": 260}, \"encoding\": {\"url\": {\"type\": \"nominal\", \"field\": \"url\"}}}], \"data\": {\"name\": \"data-a5ee00ed5c06a8584a4e83ac549670b4\"}, \"width\": 200}, {\"layer\": [{\"mark\": \"bar\", \"encoding\": {\"color\": {\"condition\": {\"value\": \"orange\", \"test\": \"(datum.emotion === 'disgust')\"}, \"value\": \"#0570b0\"}, \"x\": {\"type\": \"quantitative\", \"axis\": {\"format\": \".0%\"}, \"field\": \"percent\"}, \"y\": {\"type\": \"nominal\", \"field\": \"emotion\", \"sort\": \"-x\"}}, \"title\": \"Categories with 2 or more mentions | n= 58\"}, {\"mark\": {\"type\": \"text\", \"align\": \"left\", \"baseline\": \"middle\", \"dx\": 3, \"fontSize\": 12}, \"encoding\": {\"text\": {\"type\": \"quantitative\", \"field\": \"percent\", \"format\": \".1%\"}, \"x\": {\"type\": \"quantitative\", \"field\": \"percent\"}, \"y\": {\"type\": \"nominal\", \"field\": \"emotion\", \"sort\": \"-x\"}}}], \"data\": {\"name\": \"data-a2fddc6a609805327dac7b7139d550c6\"}, \"width\": 200}, {\"layer\": [{\"mark\": \"bar\", \"encoding\": {\"color\": {\"condition\": {\"value\": \"orange\", \"test\": \"(datum.emotion === 'disgust')\"}, \"value\": \"#0570b0\"}, \"x\": {\"type\": \"quantitative\", \"axis\": {\"format\": \".0\", \"title\": \"Borda score(bar and number), Score precision (horizontal line)\"}, \"field\": \"borda score\"}, \"y\": {\"type\": \"nominal\", \"field\": \"emotion\", \"sort\": \"-x\"}}, \"title\": \"Dueling bandits ranking | Top: 10\"}, {\"mark\": {\"type\": \"text\", \"align\": \"left\", \"baseline\": \"middle\", \"dx\": 3, \"fontSize\": 12}, \"encoding\": {\"text\": {\"type\": \"quantitative\", \"field\": \"borda score\"}, \"x\": {\"type\": \"quantitative\", \"field\": \"upper\"}, \"y\": {\"type\": \"nominal\", \"field\": \"emotion\", \"sort\": {\"field\": \"borda score\", \"order\": \"descending\"}}}}, {\"mark\": {\"type\": \"rule\", \"color\": \"black\"}, \"encoding\": {\"x\": {\"type\": \"quantitative\", \"field\": \"lower\", \"scale\": {\"zero\": false}}, \"x2\": {\"field\": \"upper\"}, \"y\": {\"type\": \"nominal\", \"field\": \"emotion\", \"sort\": {\"field\": \"borda score\", \"order\": \"descending\"}}}}], \"data\": {\"name\": \"data-364483e83ae9c6eb7eeb64cf152d1e65\"}, \"width\": 200}], \"title\": \"Female of color - Disgust\", \"$schema\": \"https://vega.github.io/schema/vega-lite/v4.8.1.json\", \"datasets\": {\"data-a5ee00ed5c06a8584a4e83ac549670b4\": [{\"counts\": 26, \"emotion\": \"disgust\", \"percent\": 0.5}, {\"counts\": 7, \"emotion\": \"anger\", \"percent\": 0.1346153846153846}, {\"counts\": 6, \"emotion\": \"fear\", \"percent\": 0.11538461538461539}, {\"counts\": 5, \"emotion\": \"uncertain\", \"percent\": 0.09615384615384616}, {\"counts\": 3, \"emotion\": \"other\", \"percent\": 0.057692307692307696}, {\"counts\": 3, \"emotion\": \"sadness\", \"percent\": 0.057692307692307696}, {\"counts\": 2, \"emotion\": \"surprise\", \"percent\": 0.038461538461538464}], \"data-f7a6f6e08699cd8173b565f07474386f\": [{\"url\": \"https://uwmadison.co1.qualtrics.com/ControlPanel/Graphic.php?IM=IM_cvFjQlP07m9S7VY\"}], \"data-a2fddc6a609805327dac7b7139d550c6\": [{\"counts\": 14, \"emotion\": \"disgust\", \"percent\": 0.2413793103448276}, {\"counts\": 9, \"emotion\": \"confused\", \"percent\": 0.15517241379310345}, {\"counts\": 9, \"emotion\": \"anger\", \"percent\": 0.15517241379310345}, {\"counts\": 5, \"emotion\": \"confusion\", \"percent\": 0.08620689655172414}, {\"counts\": 3, \"emotion\": \"skeptical\", \"percent\": 0.05172413793103448}, {\"counts\": 3, \"emotion\": \"annoyed\", \"percent\": 0.05172413793103448}, {\"counts\": 3, \"emotion\": \"sadness\", \"percent\": 0.05172413793103448}, {\"counts\": 2, \"emotion\": \"unsure\", \"percent\": 0.034482758620689655}, {\"counts\": 2, \"emotion\": \"questioning\", \"percent\": 0.034482758620689655}, {\"counts\": 2, \"emotion\": \"doubtful\", \"percent\": 0.034482758620689655}, {\"counts\": 2, \"emotion\": \"fear\", \"percent\": 0.034482758620689655}, {\"counts\": 2, \"emotion\": \"disbelief\", \"percent\": 0.034482758620689655}, {\"counts\": 2, \"emotion\": \"none\", \"percent\": 0.034482758620689655}], \"data-364483e83ae9c6eb7eeb64cf152d1e65\": [{\"Rank\": 0, \"emotion\": \"dislike\", \"borda score\": 0.9, \"Precision\": 0.09, \"upper\": 0.9450000000000001, \"lower\": 0.855}, {\"Rank\": 1, \"emotion\": \"repulsed\", \"borda score\": 0.9, \"Precision\": 0.09, \"upper\": 0.9450000000000001, \"lower\": 0.855}, {\"Rank\": 2, \"emotion\": \"irritated\", \"borda score\": 0.86, \"Precision\": 0.11, \"upper\": 0.915, \"lower\": 0.8049999999999999}, {\"Rank\": 3, \"emotion\": \"confusion\", \"borda score\": 0.85, \"Precision\": 0.11, \"upper\": 0.905, \"lower\": 0.7949999999999999}, {\"Rank\": 4, \"emotion\": \"frustrated\", \"borda score\": 0.77, \"Precision\": 0.15, \"upper\": 0.845, \"lower\": 0.6950000000000001}, {\"Rank\": 5, \"emotion\": \"uncertain\", \"borda score\": 0.76, \"Precision\": 0.15, \"upper\": 0.835, \"lower\": 0.685}, {\"Rank\": 6, \"emotion\": \"questioning\", \"borda score\": 0.75, \"Precision\": 0.16, \"upper\": 0.83, \"lower\": 0.67}, {\"Rank\": 7, \"emotion\": \"disgust\", \"borda score\": 0.74, \"Precision\": 0.16, \"upper\": 0.82, \"lower\": 0.66}, {\"Rank\": 8, \"emotion\": \"disbelief\", \"borda score\": 0.74, \"Precision\": 0.16, \"upper\": 0.82, \"lower\": 0.66}, {\"Rank\": 9, \"emotion\": \"aggravated\", \"borda score\": 0.72, \"Precision\": 0.17, \"upper\": 0.8049999999999999, \"lower\": 0.635}]}}, {\"mode\": \"vega-lite\"});\n",
       "</script>"
      ],
      "text/plain": [
       "alt.HConcatChart(...)"
      ]
     },
     "execution_count": 36,
     "metadata": {},
     "output_type": "execute_result"
    }
   ],
   "source": [
    "disgust_bfa_next_panel = (disgust_bfa_forced.properties(width=200) | disgust_bfa_free.properties(width=200) | disgust_bfa_next.properties(width=200)).properties(title=\"Female of color - Disgust\")\n",
    "disgust_bfa_next_panel.configure_axis(grid=False, labelFontSize=12, titleFontSize=12).configure_view(strokeWidth=0).configure_title(dy=-12)"
   ]
  },
  {
   "cell_type": "code",
   "execution_count": 37,
   "id": "9d178c2a-6919-403f-a3f4-08c50ba68912",
   "metadata": {},
   "outputs": [],
   "source": [
    "save(disgust_bfa_next_panel, \"../../emotions_dashboard/data/disgust_bfa_next_panel_mturk.png\")"
   ]
  },
  {
   "cell_type": "markdown",
   "id": "6256795d-79a9-45a0-93de-b6699d2557f7",
   "metadata": {},
   "source": [
    "## Disgust - Male of color"
   ]
  },
  {
   "cell_type": "code",
   "execution_count": 38,
   "id": "e8f25aab-1326-4042-ae6a-567772008c60",
   "metadata": {},
   "outputs": [
    {
     "name": "stderr",
     "output_type": "stream",
     "text": [
      "/tmp/ipykernel_11424/2691402293.py:11: FutureWarning: The default value of regex will change from True to False in a future version.\n",
      "  df_stack_single_word['emotion'] = df_stack_single_word['emotion'].str.replace('[^a-zA-Z]', '') # remove non-alphabetic characters\n"
     ]
    }
   ],
   "source": [
    "disgust_bma_forced = photo_chart(df_emo_answers_forced, 'disgust',  2, df_forced_labels, emotion_st='disgust', n_mentions=2, photo=True)\n",
    "disgust_bma_free = photo_chart(df_emo_answers_free, 'disgust',  2, df_free_labels, emotion_st='disgust', n_mentions=2)"
   ]
  },
  {
   "cell_type": "code",
   "execution_count": 39,
   "id": "39b8c824-4876-43ae-bdac-619a49b0b065",
   "metadata": {},
   "outputs": [],
   "source": [
    "path = '../../emo-ranking-next/disgust_bipoc_male/mturk/borda_lilucb_ranking_mturk.csv'\n",
    "\n",
    "disgust_bma_next = next_chart_wrapper(path, emotion='disgust', head=10)"
   ]
  },
  {
   "cell_type": "code",
   "execution_count": 40,
   "id": "0ab9e47c-0a93-4c01-b6c2-137f7bdc9590",
   "metadata": {},
   "outputs": [
    {
     "data": {
      "text/html": [
       "\n",
       "<div id=\"altair-viz-0d9fa2881e6c43e590738b4245c17edc\"></div>\n",
       "<script type=\"text/javascript\">\n",
       "  (function(spec, embedOpt){\n",
       "    let outputDiv = document.currentScript.previousElementSibling;\n",
       "    if (outputDiv.id !== \"altair-viz-0d9fa2881e6c43e590738b4245c17edc\") {\n",
       "      outputDiv = document.getElementById(\"altair-viz-0d9fa2881e6c43e590738b4245c17edc\");\n",
       "    }\n",
       "    const paths = {\n",
       "      \"vega\": \"https://cdn.jsdelivr.net/npm//vega@5?noext\",\n",
       "      \"vega-lib\": \"https://cdn.jsdelivr.net/npm//vega-lib?noext\",\n",
       "      \"vega-lite\": \"https://cdn.jsdelivr.net/npm//vega-lite@4.8.1?noext\",\n",
       "      \"vega-embed\": \"https://cdn.jsdelivr.net/npm//vega-embed@6?noext\",\n",
       "    };\n",
       "\n",
       "    function loadScript(lib) {\n",
       "      return new Promise(function(resolve, reject) {\n",
       "        var s = document.createElement('script');\n",
       "        s.src = paths[lib];\n",
       "        s.async = true;\n",
       "        s.onload = () => resolve(paths[lib]);\n",
       "        s.onerror = () => reject(`Error loading script: ${paths[lib]}`);\n",
       "        document.getElementsByTagName(\"head\")[0].appendChild(s);\n",
       "      });\n",
       "    }\n",
       "\n",
       "    function showError(err) {\n",
       "      outputDiv.innerHTML = `<div class=\"error\" style=\"color:red;\">${err}</div>`;\n",
       "      throw err;\n",
       "    }\n",
       "\n",
       "    function displayChart(vegaEmbed) {\n",
       "      vegaEmbed(outputDiv, spec, embedOpt)\n",
       "        .catch(err => showError(`Javascript Error: ${err.message}<br>This usually means there's a typo in your chart specification. See the javascript console for the full traceback.`));\n",
       "    }\n",
       "\n",
       "    if(typeof define === \"function\" && define.amd) {\n",
       "      requirejs.config({paths});\n",
       "      require([\"vega-embed\"], displayChart, err => showError(`Error loading script: ${err.message}`));\n",
       "    } else if (typeof vegaEmbed === \"function\") {\n",
       "      displayChart(vegaEmbed);\n",
       "    } else {\n",
       "      loadScript(\"vega\")\n",
       "        .then(() => loadScript(\"vega-lite\"))\n",
       "        .then(() => loadScript(\"vega-embed\"))\n",
       "        .catch(showError)\n",
       "        .then(() => displayChart(vegaEmbed));\n",
       "    }\n",
       "  })({\"config\": {\"view\": {\"continuousWidth\": 400, \"continuousHeight\": 300, \"strokeWidth\": 0}, \"axis\": {\"grid\": false, \"labelFontSize\": 12, \"titleFontSize\": 12}, \"title\": {\"dy\": -12}}, \"hconcat\": [{\"layer\": [{\"mark\": \"bar\", \"encoding\": {\"color\": {\"condition\": {\"value\": \"orange\", \"test\": \"(datum.emotion === 'disgust')\"}, \"value\": \"#0570b0\"}, \"x\": {\"type\": \"quantitative\", \"axis\": {\"format\": \".0%\"}, \"field\": \"percent\"}, \"y\": {\"type\": \"nominal\", \"field\": \"emotion\", \"sort\": \"-x\"}}, \"title\": \"Categories with 2 or more mentions | n= 51\"}, {\"mark\": {\"type\": \"text\", \"align\": \"left\", \"baseline\": \"middle\", \"dx\": 3, \"fontSize\": 12}, \"encoding\": {\"text\": {\"type\": \"quantitative\", \"field\": \"percent\", \"format\": \".1%\"}, \"x\": {\"type\": \"quantitative\", \"field\": \"percent\"}, \"y\": {\"type\": \"nominal\", \"field\": \"emotion\", \"sort\": \"-x\"}}}, {\"data\": {\"name\": \"data-eace73718200b64ae9bedde17c60850e\"}, \"mark\": {\"type\": \"image\", \"align\": \"center\", \"height\": 150, \"width\": 150, \"xOffset\": -100, \"yOffset\": 220}, \"encoding\": {\"url\": {\"type\": \"nominal\", \"field\": \"url\"}}}], \"data\": {\"name\": \"data-8829b566de0c1afe1140324d38b79839\"}, \"width\": 200}, {\"layer\": [{\"mark\": \"bar\", \"encoding\": {\"color\": {\"condition\": {\"value\": \"orange\", \"test\": \"(datum.emotion === 'disgust')\"}, \"value\": \"#0570b0\"}, \"x\": {\"type\": \"quantitative\", \"axis\": {\"format\": \".0%\"}, \"field\": \"percent\"}, \"y\": {\"type\": \"nominal\", \"field\": \"emotion\", \"sort\": \"-x\"}}, \"title\": \"Categories with 2 or more mentions | n= 57\"}, {\"mark\": {\"type\": \"text\", \"align\": \"left\", \"baseline\": \"middle\", \"dx\": 3, \"fontSize\": 12}, \"encoding\": {\"text\": {\"type\": \"quantitative\", \"field\": \"percent\", \"format\": \".1%\"}, \"x\": {\"type\": \"quantitative\", \"field\": \"percent\"}, \"y\": {\"type\": \"nominal\", \"field\": \"emotion\", \"sort\": \"-x\"}}}], \"data\": {\"name\": \"data-4bd2f1feae003a8c12c3c0029a0bfe85\"}, \"width\": 200}, {\"layer\": [{\"mark\": \"bar\", \"encoding\": {\"color\": {\"condition\": {\"value\": \"orange\", \"test\": \"(datum.emotion === 'disgust')\"}, \"value\": \"#0570b0\"}, \"x\": {\"type\": \"quantitative\", \"axis\": {\"format\": \".0\", \"title\": \"Borda score(bar and number), Score precision (horizontal line)\"}, \"field\": \"borda score\"}, \"y\": {\"type\": \"nominal\", \"field\": \"emotion\", \"sort\": \"-x\"}}, \"title\": \"Dueling bandits ranking | Top: 10\"}, {\"mark\": {\"type\": \"text\", \"align\": \"left\", \"baseline\": \"middle\", \"dx\": 3, \"fontSize\": 12}, \"encoding\": {\"text\": {\"type\": \"quantitative\", \"field\": \"borda score\"}, \"x\": {\"type\": \"quantitative\", \"field\": \"upper\"}, \"y\": {\"type\": \"nominal\", \"field\": \"emotion\", \"sort\": {\"field\": \"borda score\", \"order\": \"descending\"}}}}, {\"mark\": {\"type\": \"rule\", \"color\": \"black\"}, \"encoding\": {\"x\": {\"type\": \"quantitative\", \"field\": \"lower\", \"scale\": {\"zero\": false}}, \"x2\": {\"field\": \"upper\"}, \"y\": {\"type\": \"nominal\", \"field\": \"emotion\", \"sort\": {\"field\": \"borda score\", \"order\": \"descending\"}}}}], \"data\": {\"name\": \"data-becb93b3d1590bd85d1a386b706bad01\"}, \"width\": 200}], \"title\": \"Male of color - Disgust\", \"$schema\": \"https://vega.github.io/schema/vega-lite/v4.8.1.json\", \"datasets\": {\"data-8829b566de0c1afe1140324d38b79839\": [{\"counts\": 25, \"emotion\": \"disgust\", \"percent\": 0.49019607843137253}, {\"counts\": 17, \"emotion\": \"anger\", \"percent\": 0.3333333333333333}, {\"counts\": 5, \"emotion\": \"fear\", \"percent\": 0.09803921568627451}, {\"counts\": 2, \"emotion\": \"sadness\", \"percent\": 0.0392156862745098}, {\"counts\": 2, \"emotion\": \"uncertain\", \"percent\": 0.0392156862745098}], \"data-eace73718200b64ae9bedde17c60850e\": [{\"url\": \"https://uwmadison.co1.qualtrics.com/ControlPanel/Graphic.php?IM=IM_cIvdFisSzzSMNRI\"}], \"data-4bd2f1feae003a8c12c3c0029a0bfe85\": [{\"counts\": 21, \"emotion\": \"anger\", \"percent\": 0.3684210526315789}, {\"counts\": 20, \"emotion\": \"disgust\", \"percent\": 0.3508771929824561}, {\"counts\": 3, \"emotion\": \"mad\", \"percent\": 0.05263157894736842}, {\"counts\": 3, \"emotion\": \"irritated\", \"percent\": 0.05263157894736842}, {\"counts\": 2, \"emotion\": \"annoyed\", \"percent\": 0.03508771929824561}, {\"counts\": 2, \"emotion\": \"sadness\", \"percent\": 0.03508771929824561}, {\"counts\": 2, \"emotion\": \"worried\", \"percent\": 0.03508771929824561}, {\"counts\": 2, \"emotion\": \"none\", \"percent\": 0.03508771929824561}, {\"counts\": 2, \"emotion\": \"fear\", \"percent\": 0.03508771929824561}], \"data-becb93b3d1590bd85d1a386b706bad01\": [{\"Rank\": 0, \"emotion\": \"disbelief\", \"borda score\": 0.81, \"Precision\": 0.11, \"upper\": 0.8650000000000001, \"lower\": 0.755}, {\"Rank\": 1, \"emotion\": \"repulsive\", \"borda score\": 0.8, \"Precision\": 0.12, \"upper\": 0.8600000000000001, \"lower\": 0.74}, {\"Rank\": 2, \"emotion\": \"repulsed\", \"borda score\": 0.8, \"Precision\": 0.12, \"upper\": 0.8600000000000001, \"lower\": 0.74}, {\"Rank\": 3, \"emotion\": \"contempt\", \"borda score\": 0.8, \"Precision\": 0.12, \"upper\": 0.8600000000000001, \"lower\": 0.74}, {\"Rank\": 4, \"emotion\": \"upset\", \"borda score\": 0.78, \"Precision\": 0.12, \"upper\": 0.8400000000000001, \"lower\": 0.72}, {\"Rank\": 5, \"emotion\": \"disgust\", \"borda score\": 0.77, \"Precision\": 0.12, \"upper\": 0.8300000000000001, \"lower\": 0.71}, {\"Rank\": 6, \"emotion\": \"aggravated\", \"borda score\": 0.76, \"Precision\": 0.13, \"upper\": 0.825, \"lower\": 0.6950000000000001}, {\"Rank\": 7, \"emotion\": \"gross\", \"borda score\": 0.75, \"Precision\": 0.13, \"upper\": 0.815, \"lower\": 0.685}, {\"Rank\": 8, \"emotion\": \"tension\", \"borda score\": 0.75, \"Precision\": 0.13, \"upper\": 0.815, \"lower\": 0.685}, {\"Rank\": 9, \"emotion\": \"annoyed\", \"borda score\": 0.75, \"Precision\": 0.14, \"upper\": 0.8200000000000001, \"lower\": 0.6799999999999999}]}}, {\"mode\": \"vega-lite\"});\n",
       "</script>"
      ],
      "text/plain": [
       "alt.HConcatChart(...)"
      ]
     },
     "execution_count": 40,
     "metadata": {},
     "output_type": "execute_result"
    }
   ],
   "source": [
    "disgust_bma_next_panel = (disgust_bma_forced.properties(width=200) | disgust_bma_free.properties(width=200) | disgust_bma_next.properties(width=200)).properties(title=\"Male of color - Disgust\")\n",
    "disgust_bma_next_panel.configure_axis(grid=False, labelFontSize=12, titleFontSize=12).configure_view(strokeWidth=0).configure_title(dy=-12)"
   ]
  },
  {
   "cell_type": "code",
   "execution_count": 41,
   "id": "196fd667-0b6d-455b-bb0b-0af6d19c203c",
   "metadata": {},
   "outputs": [],
   "source": [
    "save(disgust_bma_next_panel, \"../../emotions_dashboard/data/disgust_bma_next_panel_mturk.png\")"
   ]
  },
  {
   "cell_type": "markdown",
   "id": "613874d1-9490-489e-ae61-93b1395a1bd8",
   "metadata": {},
   "source": [
    "## Disgust - White female"
   ]
  },
  {
   "cell_type": "code",
   "execution_count": 42,
   "id": "6b1542c4-8141-4cfd-af5f-c174fb3cbae4",
   "metadata": {},
   "outputs": [
    {
     "name": "stderr",
     "output_type": "stream",
     "text": [
      "/tmp/ipykernel_11424/2691402293.py:11: FutureWarning: The default value of regex will change from True to False in a future version.\n",
      "  df_stack_single_word['emotion'] = df_stack_single_word['emotion'].str.replace('[^a-zA-Z]', '') # remove non-alphabetic characters\n"
     ]
    }
   ],
   "source": [
    "disgust_wfa_forced = photo_chart(df_emo_answers_forced, 'disgust',  4, df_forced_labels, emotion_st='disgust', n_mentions=2, photo=True, yoffset=240)\n",
    "disgust_wfa_free = photo_chart(df_emo_answers_free, 'disgust',  4, df_free_labels, emotion_st='disgust', n_mentions=2)"
   ]
  },
  {
   "cell_type": "code",
   "execution_count": 43,
   "id": "8cb2f2db-d74e-4e29-89c4-cc090915afc0",
   "metadata": {},
   "outputs": [],
   "source": [
    "path = '../../emo-ranking-next/disgust_white_female/mturk/borda_lilucb_ranking_mturk.csv'\n",
    "\n",
    "disgust_wfa_next = next_chart_wrapper(path, emotion='disgust', head=10)"
   ]
  },
  {
   "cell_type": "code",
   "execution_count": 44,
   "id": "9e6de04e-c773-464d-9774-0fea786a7ab5",
   "metadata": {},
   "outputs": [
    {
     "data": {
      "text/html": [
       "\n",
       "<div id=\"altair-viz-1ef407b853714f0eb5d90e39fb1b38d5\"></div>\n",
       "<script type=\"text/javascript\">\n",
       "  (function(spec, embedOpt){\n",
       "    let outputDiv = document.currentScript.previousElementSibling;\n",
       "    if (outputDiv.id !== \"altair-viz-1ef407b853714f0eb5d90e39fb1b38d5\") {\n",
       "      outputDiv = document.getElementById(\"altair-viz-1ef407b853714f0eb5d90e39fb1b38d5\");\n",
       "    }\n",
       "    const paths = {\n",
       "      \"vega\": \"https://cdn.jsdelivr.net/npm//vega@5?noext\",\n",
       "      \"vega-lib\": \"https://cdn.jsdelivr.net/npm//vega-lib?noext\",\n",
       "      \"vega-lite\": \"https://cdn.jsdelivr.net/npm//vega-lite@4.8.1?noext\",\n",
       "      \"vega-embed\": \"https://cdn.jsdelivr.net/npm//vega-embed@6?noext\",\n",
       "    };\n",
       "\n",
       "    function loadScript(lib) {\n",
       "      return new Promise(function(resolve, reject) {\n",
       "        var s = document.createElement('script');\n",
       "        s.src = paths[lib];\n",
       "        s.async = true;\n",
       "        s.onload = () => resolve(paths[lib]);\n",
       "        s.onerror = () => reject(`Error loading script: ${paths[lib]}`);\n",
       "        document.getElementsByTagName(\"head\")[0].appendChild(s);\n",
       "      });\n",
       "    }\n",
       "\n",
       "    function showError(err) {\n",
       "      outputDiv.innerHTML = `<div class=\"error\" style=\"color:red;\">${err}</div>`;\n",
       "      throw err;\n",
       "    }\n",
       "\n",
       "    function displayChart(vegaEmbed) {\n",
       "      vegaEmbed(outputDiv, spec, embedOpt)\n",
       "        .catch(err => showError(`Javascript Error: ${err.message}<br>This usually means there's a typo in your chart specification. See the javascript console for the full traceback.`));\n",
       "    }\n",
       "\n",
       "    if(typeof define === \"function\" && define.amd) {\n",
       "      requirejs.config({paths});\n",
       "      require([\"vega-embed\"], displayChart, err => showError(`Error loading script: ${err.message}`));\n",
       "    } else if (typeof vegaEmbed === \"function\") {\n",
       "      displayChart(vegaEmbed);\n",
       "    } else {\n",
       "      loadScript(\"vega\")\n",
       "        .then(() => loadScript(\"vega-lite\"))\n",
       "        .then(() => loadScript(\"vega-embed\"))\n",
       "        .catch(showError)\n",
       "        .then(() => displayChart(vegaEmbed));\n",
       "    }\n",
       "  })({\"config\": {\"view\": {\"continuousWidth\": 400, \"continuousHeight\": 300, \"strokeWidth\": 0}, \"axis\": {\"grid\": false, \"labelFontSize\": 12, \"titleFontSize\": 12}, \"title\": {\"dy\": -12}}, \"hconcat\": [{\"layer\": [{\"mark\": \"bar\", \"encoding\": {\"color\": {\"condition\": {\"value\": \"orange\", \"test\": \"(datum.emotion === 'disgust')\"}, \"value\": \"#0570b0\"}, \"x\": {\"type\": \"quantitative\", \"axis\": {\"format\": \".0%\"}, \"field\": \"percent\"}, \"y\": {\"type\": \"nominal\", \"field\": \"emotion\", \"sort\": \"-x\"}}, \"title\": \"Categories with 2 or more mentions | n= 51\"}, {\"mark\": {\"type\": \"text\", \"align\": \"left\", \"baseline\": \"middle\", \"dx\": 3, \"fontSize\": 12}, \"encoding\": {\"text\": {\"type\": \"quantitative\", \"field\": \"percent\", \"format\": \".1%\"}, \"x\": {\"type\": \"quantitative\", \"field\": \"percent\"}, \"y\": {\"type\": \"nominal\", \"field\": \"emotion\", \"sort\": \"-x\"}}}, {\"data\": {\"name\": \"data-e0c3a0789c43d326315576e172ef9be8\"}, \"mark\": {\"type\": \"image\", \"align\": \"center\", \"height\": 150, \"width\": 150, \"xOffset\": -100, \"yOffset\": 240}, \"encoding\": {\"url\": {\"type\": \"nominal\", \"field\": \"url\"}}}], \"data\": {\"name\": \"data-20a01b0cdfbb9bf48d8fea94dbe93dc9\"}, \"width\": 200}, {\"layer\": [{\"mark\": \"bar\", \"encoding\": {\"color\": {\"condition\": {\"value\": \"orange\", \"test\": \"(datum.emotion === 'disgust')\"}, \"value\": \"#0570b0\"}, \"x\": {\"type\": \"quantitative\", \"axis\": {\"format\": \".0%\"}, \"field\": \"percent\"}, \"y\": {\"type\": \"nominal\", \"field\": \"emotion\", \"sort\": \"-x\"}}, \"title\": \"Categories with 2 or more mentions | n= 59\"}, {\"mark\": {\"type\": \"text\", \"align\": \"left\", \"baseline\": \"middle\", \"dx\": 3, \"fontSize\": 12}, \"encoding\": {\"text\": {\"type\": \"quantitative\", \"field\": \"percent\", \"format\": \".1%\"}, \"x\": {\"type\": \"quantitative\", \"field\": \"percent\"}, \"y\": {\"type\": \"nominal\", \"field\": \"emotion\", \"sort\": \"-x\"}}}], \"data\": {\"name\": \"data-3eddd25d6f25eac437c511ebbc28c6cb\"}, \"width\": 200}, {\"layer\": [{\"mark\": \"bar\", \"encoding\": {\"color\": {\"condition\": {\"value\": \"orange\", \"test\": \"(datum.emotion === 'disgust')\"}, \"value\": \"#0570b0\"}, \"x\": {\"type\": \"quantitative\", \"axis\": {\"format\": \".0\", \"title\": \"Borda score(bar and number), Score precision (horizontal line)\"}, \"field\": \"borda score\"}, \"y\": {\"type\": \"nominal\", \"field\": \"emotion\", \"sort\": \"-x\"}}, \"title\": \"Dueling bandits ranking | Top: 10\"}, {\"mark\": {\"type\": \"text\", \"align\": \"left\", \"baseline\": \"middle\", \"dx\": 3, \"fontSize\": 12}, \"encoding\": {\"text\": {\"type\": \"quantitative\", \"field\": \"borda score\"}, \"x\": {\"type\": \"quantitative\", \"field\": \"upper\"}, \"y\": {\"type\": \"nominal\", \"field\": \"emotion\", \"sort\": {\"field\": \"borda score\", \"order\": \"descending\"}}}}, {\"mark\": {\"type\": \"rule\", \"color\": \"black\"}, \"encoding\": {\"x\": {\"type\": \"quantitative\", \"field\": \"lower\", \"scale\": {\"zero\": false}}, \"x2\": {\"field\": \"upper\"}, \"y\": {\"type\": \"nominal\", \"field\": \"emotion\", \"sort\": {\"field\": \"borda score\", \"order\": \"descending\"}}}}], \"data\": {\"name\": \"data-2eb9cbbdd64b0db99c1d4e6854bf4e72\"}, \"width\": 200}], \"title\": \"White female - Disgust\", \"$schema\": \"https://vega.github.io/schema/vega-lite/v4.8.1.json\", \"datasets\": {\"data-20a01b0cdfbb9bf48d8fea94dbe93dc9\": [{\"counts\": 38, \"emotion\": \"disgust\", \"percent\": 0.7450980392156863}, {\"counts\": 4, \"emotion\": \"anger\", \"percent\": 0.0784313725490196}, {\"counts\": 3, \"emotion\": \"sadness\", \"percent\": 0.058823529411764705}, {\"counts\": 2, \"emotion\": \"other\", \"percent\": 0.0392156862745098}, {\"counts\": 2, \"emotion\": \"fear\", \"percent\": 0.0392156862745098}, {\"counts\": 2, \"emotion\": \"uncertain\", \"percent\": 0.0392156862745098}], \"data-e0c3a0789c43d326315576e172ef9be8\": [{\"url\": \"https://uwmadison.co1.qualtrics.com/ControlPanel/Graphic.php?IM=IM_er3kGiV5nUJCkse\"}], \"data-3eddd25d6f25eac437c511ebbc28c6cb\": [{\"counts\": 33, \"emotion\": \"disgust\", \"percent\": 0.559322033898305}, {\"counts\": 6, \"emotion\": \"anger\", \"percent\": 0.1016949152542373}, {\"counts\": 4, \"emotion\": \"sadness\", \"percent\": 0.06779661016949153}, {\"counts\": 3, \"emotion\": \"gross\", \"percent\": 0.05084745762711865}, {\"counts\": 3, \"emotion\": \"none\", \"percent\": 0.05084745762711865}, {\"counts\": 2, \"emotion\": \"repulsed\", \"percent\": 0.03389830508474576}, {\"counts\": 2, \"emotion\": \"dislike\", \"percent\": 0.03389830508474576}, {\"counts\": 2, \"emotion\": \"fear\", \"percent\": 0.03389830508474576}, {\"counts\": 2, \"emotion\": \"unhappy\", \"percent\": 0.03389830508474576}, {\"counts\": 2, \"emotion\": \"contempt\", \"percent\": 0.03389830508474576}], \"data-2eb9cbbdd64b0db99c1d4e6854bf4e72\": [{\"Rank\": 0, \"emotion\": \"horrified\", \"borda score\": 0.88, \"Precision\": 0.09, \"upper\": 0.925, \"lower\": 0.835}, {\"Rank\": 1, \"emotion\": \"disgust\", \"borda score\": 0.87, \"Precision\": 0.09, \"upper\": 0.915, \"lower\": 0.825}, {\"Rank\": 2, \"emotion\": \"aggravated\", \"borda score\": 0.79, \"Precision\": 0.12, \"upper\": 0.8500000000000001, \"lower\": 0.73}, {\"Rank\": 3, \"emotion\": \"goofy\", \"borda score\": 0.77, \"Precision\": 0.13, \"upper\": 0.835, \"lower\": 0.7050000000000001}, {\"Rank\": 4, \"emotion\": \"annoyed\", \"borda score\": 0.74, \"Precision\": 0.15, \"upper\": 0.815, \"lower\": 0.665}, {\"Rank\": 5, \"emotion\": \"dislike\", \"borda score\": 0.7, \"Precision\": 0.16, \"upper\": 0.7799999999999999, \"lower\": 0.62}, {\"Rank\": 6, \"emotion\": \"repulsed\", \"borda score\": 0.69, \"Precision\": 0.16, \"upper\": 0.7699999999999999, \"lower\": 0.61}, {\"Rank\": 7, \"emotion\": \"upset\", \"borda score\": 0.69, \"Precision\": 0.17, \"upper\": 0.7749999999999999, \"lower\": 0.605}, {\"Rank\": 8, \"emotion\": \"confused\", \"borda score\": 0.67, \"Precision\": 0.17, \"upper\": 0.755, \"lower\": 0.5850000000000001}, {\"Rank\": 9, \"emotion\": \"revulsion\", \"borda score\": 0.66, \"Precision\": 0.18, \"upper\": 0.75, \"lower\": 0.5700000000000001}]}}, {\"mode\": \"vega-lite\"});\n",
       "</script>"
      ],
      "text/plain": [
       "alt.HConcatChart(...)"
      ]
     },
     "execution_count": 44,
     "metadata": {},
     "output_type": "execute_result"
    }
   ],
   "source": [
    "disgust_wfa_next_panel = (disgust_wfa_forced.properties(width=200) | disgust_wfa_free.properties(width=200) | disgust_wfa_next.properties(width=200)).properties(title=\"White female - Disgust\")\n",
    "disgust_wfa_next_panel.configure_axis(grid=False, labelFontSize=12, titleFontSize=12).configure_view(strokeWidth=0).configure_title(dy=-12)"
   ]
  },
  {
   "cell_type": "code",
   "execution_count": 45,
   "id": "167ce8b2-7bd9-43ab-b585-17a7f5d896c7",
   "metadata": {},
   "outputs": [],
   "source": [
    "save(disgust_wfa_next_panel, \"../../emotions_dashboard/data/disgust_wfa_next_panel_mturk.png\")"
   ]
  },
  {
   "cell_type": "markdown",
   "id": "0d730df6-5e83-46ce-a429-4c64c3b74de6",
   "metadata": {},
   "source": [
    "## Disgust - White male"
   ]
  },
  {
   "cell_type": "code",
   "execution_count": 46,
   "id": "84e6444a-9917-4adf-9c7e-fc96d7da3b82",
   "metadata": {},
   "outputs": [
    {
     "name": "stderr",
     "output_type": "stream",
     "text": [
      "/tmp/ipykernel_11424/2691402293.py:11: FutureWarning: The default value of regex will change from True to False in a future version.\n",
      "  df_stack_single_word['emotion'] = df_stack_single_word['emotion'].str.replace('[^a-zA-Z]', '') # remove non-alphabetic characters\n"
     ]
    }
   ],
   "source": [
    "disgust_wma_forced = photo_chart(df_emo_answers_forced, 'disgust',  6, df_forced_labels, emotion_st='disgust', n_mentions=2, photo=True)\n",
    "disgust_wma_free = photo_chart(df_emo_answers_free, 'disgust',  6, df_free_labels, emotion_st='disgust', n_mentions=2)"
   ]
  },
  {
   "cell_type": "code",
   "execution_count": 47,
   "id": "049c05fb-53c2-43b0-a5ef-7a4fbc89acb2",
   "metadata": {},
   "outputs": [],
   "source": [
    "path = '../../emo-ranking-next/disgust_white_male/mturk/borda_lilucb_ranking_mturk.csv'\n",
    "\n",
    "disgust_wma_next = next_chart_wrapper(path, emotion='disgust', head=25)"
   ]
  },
  {
   "cell_type": "code",
   "execution_count": 48,
   "id": "4c7226fb-f2fa-4324-ade1-72d46ea6a886",
   "metadata": {},
   "outputs": [
    {
     "data": {
      "text/html": [
       "\n",
       "<div id=\"altair-viz-891e4e35b7484373a7ca9d2a2b9b50e6\"></div>\n",
       "<script type=\"text/javascript\">\n",
       "  (function(spec, embedOpt){\n",
       "    let outputDiv = document.currentScript.previousElementSibling;\n",
       "    if (outputDiv.id !== \"altair-viz-891e4e35b7484373a7ca9d2a2b9b50e6\") {\n",
       "      outputDiv = document.getElementById(\"altair-viz-891e4e35b7484373a7ca9d2a2b9b50e6\");\n",
       "    }\n",
       "    const paths = {\n",
       "      \"vega\": \"https://cdn.jsdelivr.net/npm//vega@5?noext\",\n",
       "      \"vega-lib\": \"https://cdn.jsdelivr.net/npm//vega-lib?noext\",\n",
       "      \"vega-lite\": \"https://cdn.jsdelivr.net/npm//vega-lite@4.8.1?noext\",\n",
       "      \"vega-embed\": \"https://cdn.jsdelivr.net/npm//vega-embed@6?noext\",\n",
       "    };\n",
       "\n",
       "    function loadScript(lib) {\n",
       "      return new Promise(function(resolve, reject) {\n",
       "        var s = document.createElement('script');\n",
       "        s.src = paths[lib];\n",
       "        s.async = true;\n",
       "        s.onload = () => resolve(paths[lib]);\n",
       "        s.onerror = () => reject(`Error loading script: ${paths[lib]}`);\n",
       "        document.getElementsByTagName(\"head\")[0].appendChild(s);\n",
       "      });\n",
       "    }\n",
       "\n",
       "    function showError(err) {\n",
       "      outputDiv.innerHTML = `<div class=\"error\" style=\"color:red;\">${err}</div>`;\n",
       "      throw err;\n",
       "    }\n",
       "\n",
       "    function displayChart(vegaEmbed) {\n",
       "      vegaEmbed(outputDiv, spec, embedOpt)\n",
       "        .catch(err => showError(`Javascript Error: ${err.message}<br>This usually means there's a typo in your chart specification. See the javascript console for the full traceback.`));\n",
       "    }\n",
       "\n",
       "    if(typeof define === \"function\" && define.amd) {\n",
       "      requirejs.config({paths});\n",
       "      require([\"vega-embed\"], displayChart, err => showError(`Error loading script: ${err.message}`));\n",
       "    } else if (typeof vegaEmbed === \"function\") {\n",
       "      displayChart(vegaEmbed);\n",
       "    } else {\n",
       "      loadScript(\"vega\")\n",
       "        .then(() => loadScript(\"vega-lite\"))\n",
       "        .then(() => loadScript(\"vega-embed\"))\n",
       "        .catch(showError)\n",
       "        .then(() => displayChart(vegaEmbed));\n",
       "    }\n",
       "  })({\"config\": {\"view\": {\"continuousWidth\": 400, \"continuousHeight\": 300, \"strokeWidth\": 0}, \"axis\": {\"grid\": false, \"labelFontSize\": 12, \"titleFontSize\": 12}, \"title\": {\"dy\": -12}}, \"hconcat\": [{\"layer\": [{\"mark\": \"bar\", \"encoding\": {\"color\": {\"condition\": {\"value\": \"orange\", \"test\": \"(datum.emotion === 'disgust')\"}, \"value\": \"#0570b0\"}, \"x\": {\"type\": \"quantitative\", \"axis\": {\"format\": \".0%\"}, \"field\": \"percent\"}, \"y\": {\"type\": \"nominal\", \"field\": \"emotion\", \"sort\": \"-x\"}}, \"title\": \"Categories with 2 or more mentions | n= 51\"}, {\"mark\": {\"type\": \"text\", \"align\": \"left\", \"baseline\": \"middle\", \"dx\": 3, \"fontSize\": 12}, \"encoding\": {\"text\": {\"type\": \"quantitative\", \"field\": \"percent\", \"format\": \".1%\"}, \"x\": {\"type\": \"quantitative\", \"field\": \"percent\"}, \"y\": {\"type\": \"nominal\", \"field\": \"emotion\", \"sort\": \"-x\"}}}, {\"data\": {\"name\": \"data-2012166b063905d308a3d4955bb4a206\"}, \"mark\": {\"type\": \"image\", \"align\": \"center\", \"height\": 150, \"width\": 150, \"xOffset\": -100, \"yOffset\": 220}, \"encoding\": {\"url\": {\"type\": \"nominal\", \"field\": \"url\"}}}], \"data\": {\"name\": \"data-30c41b6ffd9cbadd909e5c04633790f8\"}, \"width\": 200}, {\"layer\": [{\"mark\": \"bar\", \"encoding\": {\"color\": {\"condition\": {\"value\": \"orange\", \"test\": \"(datum.emotion === 'disgust')\"}, \"value\": \"#0570b0\"}, \"x\": {\"type\": \"quantitative\", \"axis\": {\"format\": \".0%\"}, \"field\": \"percent\"}, \"y\": {\"type\": \"nominal\", \"field\": \"emotion\", \"sort\": \"-x\"}}, \"title\": \"Categories with 2 or more mentions | n= 52\"}, {\"mark\": {\"type\": \"text\", \"align\": \"left\", \"baseline\": \"middle\", \"dx\": 3, \"fontSize\": 12}, \"encoding\": {\"text\": {\"type\": \"quantitative\", \"field\": \"percent\", \"format\": \".1%\"}, \"x\": {\"type\": \"quantitative\", \"field\": \"percent\"}, \"y\": {\"type\": \"nominal\", \"field\": \"emotion\", \"sort\": \"-x\"}}}], \"data\": {\"name\": \"data-d4d698930704bf7f07b7f4925ec146e8\"}, \"width\": 200}, {\"layer\": [{\"mark\": \"bar\", \"encoding\": {\"color\": {\"condition\": {\"value\": \"orange\", \"test\": \"(datum.emotion === 'disgust')\"}, \"value\": \"#0570b0\"}, \"x\": {\"type\": \"quantitative\", \"axis\": {\"format\": \".0\", \"title\": \"Borda score(bar and number), Score precision (horizontal line)\"}, \"field\": \"borda score\"}, \"y\": {\"type\": \"nominal\", \"field\": \"emotion\", \"sort\": \"-x\"}}, \"title\": \"Dueling bandits ranking | Top: 25\"}, {\"mark\": {\"type\": \"text\", \"align\": \"left\", \"baseline\": \"middle\", \"dx\": 3, \"fontSize\": 12}, \"encoding\": {\"text\": {\"type\": \"quantitative\", \"field\": \"borda score\"}, \"x\": {\"type\": \"quantitative\", \"field\": \"upper\"}, \"y\": {\"type\": \"nominal\", \"field\": \"emotion\", \"sort\": {\"field\": \"borda score\", \"order\": \"descending\"}}}}, {\"mark\": {\"type\": \"rule\", \"color\": \"black\"}, \"encoding\": {\"x\": {\"type\": \"quantitative\", \"field\": \"lower\", \"scale\": {\"zero\": false}}, \"x2\": {\"field\": \"upper\"}, \"y\": {\"type\": \"nominal\", \"field\": \"emotion\", \"sort\": {\"field\": \"borda score\", \"order\": \"descending\"}}}}], \"data\": {\"name\": \"data-d3f53e7775f8d8a949d3dc1b2605072c\"}, \"width\": 200}], \"title\": \"White male - Disgust\", \"$schema\": \"https://vega.github.io/schema/vega-lite/v4.8.1.json\", \"datasets\": {\"data-30c41b6ffd9cbadd909e5c04633790f8\": [{\"counts\": 31, \"emotion\": \"disgust\", \"percent\": 0.6078431372549019}, {\"counts\": 8, \"emotion\": \"sadness\", \"percent\": 0.1568627450980392}, {\"counts\": 5, \"emotion\": \"uncertain\", \"percent\": 0.09803921568627451}, {\"counts\": 5, \"emotion\": \"fear\", \"percent\": 0.09803921568627451}, {\"counts\": 2, \"emotion\": \"anger\", \"percent\": 0.0392156862745098}], \"data-2012166b063905d308a3d4955bb4a206\": [{\"url\": \"https://uwmadison.co1.qualtrics.com/ControlPanel/Graphic.php?IM=IM_4Iuz8TahQUf5rCu\"}], \"data-d4d698930704bf7f07b7f4925ec146e8\": [{\"counts\": 23, \"emotion\": \"disgust\", \"percent\": 0.4423076923076923}, {\"counts\": 9, \"emotion\": \"sadness\", \"percent\": 0.17307692307692307}, {\"counts\": 4, \"emotion\": \"upset\", \"percent\": 0.07692307692307693}, {\"counts\": 3, \"emotion\": \"confused\", \"percent\": 0.057692307692307696}, {\"counts\": 3, \"emotion\": \"anger\", \"percent\": 0.057692307692307696}, {\"counts\": 2, \"emotion\": \"confusion\", \"percent\": 0.038461538461538464}, {\"counts\": 2, \"emotion\": \"worried\", \"percent\": 0.038461538461538464}, {\"counts\": 2, \"emotion\": \"crying\", \"percent\": 0.038461538461538464}, {\"counts\": 2, \"emotion\": \"surprise\", \"percent\": 0.038461538461538464}, {\"counts\": 2, \"emotion\": \"questioning\", \"percent\": 0.038461538461538464}], \"data-d3f53e7775f8d8a949d3dc1b2605072c\": [{\"Rank\": 0, \"emotion\": \"gross\", \"borda score\": 0.92, \"Precision\": 0.1, \"upper\": 0.9700000000000001, \"lower\": 0.87}, {\"Rank\": 1, \"emotion\": \"uncertain\", \"borda score\": 0.91, \"Precision\": 0.09, \"upper\": 0.9550000000000001, \"lower\": 0.865}, {\"Rank\": 2, \"emotion\": \"annoyed\", \"borda score\": 0.82, \"Precision\": 0.12, \"upper\": 0.8799999999999999, \"lower\": 0.76}, {\"Rank\": 3, \"emotion\": \"worried\", \"borda score\": 0.81, \"Precision\": 0.14, \"upper\": 0.8800000000000001, \"lower\": 0.74}, {\"Rank\": 4, \"emotion\": \"concerned\", \"borda score\": 0.79, \"Precision\": 0.14, \"upper\": 0.8600000000000001, \"lower\": 0.72}, {\"Rank\": 5, \"emotion\": \"aggravated\", \"borda score\": 0.77, \"Precision\": 0.13, \"upper\": 0.835, \"lower\": 0.7050000000000001}, {\"Rank\": 6, \"emotion\": \"skeptical\", \"borda score\": 0.76, \"Precision\": 0.11, \"upper\": 0.8150000000000001, \"lower\": 0.705}, {\"Rank\": 7, \"emotion\": \"questioning\", \"borda score\": 0.72, \"Precision\": 0.18, \"upper\": 0.8099999999999999, \"lower\": 0.63}, {\"Rank\": 8, \"emotion\": \"shocked\", \"borda score\": 0.72, \"Precision\": 0.18, \"upper\": 0.8099999999999999, \"lower\": 0.63}, {\"Rank\": 9, \"emotion\": \"disbelief\", \"borda score\": 0.68, \"Precision\": 0.19, \"upper\": 0.775, \"lower\": 0.5850000000000001}, {\"Rank\": 10, \"emotion\": \"nervous\", \"borda score\": 0.68, \"Precision\": 0.19, \"upper\": 0.775, \"lower\": 0.5850000000000001}, {\"Rank\": 11, \"emotion\": \"confused\", \"borda score\": 0.65, \"Precision\": 0.2, \"upper\": 0.75, \"lower\": 0.55}, {\"Rank\": 12, \"emotion\": \"upset\", \"borda score\": 0.65, \"Precision\": 0.21, \"upper\": 0.755, \"lower\": 0.545}, {\"Rank\": 13, \"emotion\": \"suspicious\", \"borda score\": 0.65, \"Precision\": 0.14, \"upper\": 0.72, \"lower\": 0.5800000000000001}, {\"Rank\": 14, \"emotion\": \"tension\", \"borda score\": 0.64, \"Precision\": 0.21, \"upper\": 0.745, \"lower\": 0.535}, {\"Rank\": 15, \"emotion\": \"unsure\", \"borda score\": 0.64, \"Precision\": 0.21, \"upper\": 0.745, \"lower\": 0.535}, {\"Rank\": 16, \"emotion\": \"horrified\", \"borda score\": 0.61, \"Precision\": 0.17, \"upper\": 0.695, \"lower\": 0.525}, {\"Rank\": 17, \"emotion\": \"unhappy\", \"borda score\": 0.6, \"Precision\": 0.22, \"upper\": 0.71, \"lower\": 0.49}, {\"Rank\": 18, \"emotion\": \"scared\", \"borda score\": 0.59, \"Precision\": 0.24, \"upper\": 0.71, \"lower\": 0.47}, {\"Rank\": 19, \"emotion\": \"irritated\", \"borda score\": 0.58, \"Precision\": 0.17, \"upper\": 0.6649999999999999, \"lower\": 0.49499999999999994}, {\"Rank\": 20, \"emotion\": \"silly\", \"borda score\": 0.53, \"Precision\": 0.26, \"upper\": 0.66, \"lower\": 0.4}, {\"Rank\": 21, \"emotion\": \"disgust\", \"borda score\": 0.5, \"Precision\": 0.27, \"upper\": 0.635, \"lower\": 0.365}, {\"Rank\": 22, \"emotion\": \"contempt\", \"borda score\": 0.5, \"Precision\": 0.15, \"upper\": 0.575, \"lower\": 0.425}, {\"Rank\": 23, \"emotion\": \"screaming\", \"borda score\": 0.48, \"Precision\": 0.21, \"upper\": 0.585, \"lower\": 0.375}, {\"Rank\": 24, \"emotion\": \"crying\", \"borda score\": 0.48, \"Precision\": 0.22, \"upper\": 0.59, \"lower\": 0.37}]}}, {\"mode\": \"vega-lite\"});\n",
       "</script>"
      ],
      "text/plain": [
       "alt.HConcatChart(...)"
      ]
     },
     "execution_count": 48,
     "metadata": {},
     "output_type": "execute_result"
    }
   ],
   "source": [
    "disgust_wma_next_panel = (disgust_wma_forced.properties(width=200) | disgust_wma_free.properties(width=200) | disgust_wma_next.properties(width=200)).properties(title=\"White male - Disgust\")\n",
    "disgust_wma_next_panel.configure_axis(grid=False, labelFontSize=12, titleFontSize=12).configure_view(strokeWidth=0).configure_title(dy=-12)"
   ]
  },
  {
   "cell_type": "code",
   "execution_count": 49,
   "id": "fa59a796-5c11-4507-a156-37a6cd2b935c",
   "metadata": {},
   "outputs": [],
   "source": [
    "save(disgust_wma_next_panel, \"../../emotions_dashboard/data/disgust_wma_next_panel_mturk.png\")"
   ]
  },
  {
   "cell_type": "code",
   "execution_count": 50,
   "id": "487cd72b-c358-4d11-b631-e6c14a07522e",
   "metadata": {},
   "outputs": [],
   "source": [
    "## JOIN PANELS\n",
    "disgust_panel = (disgust_bfa_next_panel & disgust_bma_next_panel & disgust_wfa_next_panel & disgust_wma_next_panel).configure_axis(grid=False, labelFontSize=12, titleFontSize=12).configure_view(strokeWidth=0)\n",
    "save(disgust_panel, \"/mnt/c/Users/pablo/Desktop/dissertation-docs/images/disgust_panel_mturk.png\")"
   ]
  },
  {
   "cell_type": "markdown",
   "id": "358b717a-b19e-4861-825d-d7eeafb404f8",
   "metadata": {},
   "source": [
    "## Fear - Female of color"
   ]
  },
  {
   "cell_type": "code",
   "execution_count": 51,
   "id": "960155af-8775-4f64-9eea-03666af32a6c",
   "metadata": {},
   "outputs": [
    {
     "name": "stderr",
     "output_type": "stream",
     "text": [
      "/tmp/ipykernel_11424/2691402293.py:11: FutureWarning: The default value of regex will change from True to False in a future version.\n",
      "  df_stack_single_word['emotion'] = df_stack_single_word['emotion'].str.replace('[^a-zA-Z]', '') # remove non-alphabetic characters\n"
     ]
    }
   ],
   "source": [
    "fear_bfa_forced = photo_chart(df_emo_answers_forced, 'fear',  0, df_forced_labels, emotion_st='fear', n_mentions=2, photo=True, yoffset=240)\n",
    "fear_bfa_free = photo_chart(df_emo_answers_free, 'fear',  0, df_free_labels, emotion_st='fear', n_mentions=2)"
   ]
  },
  {
   "cell_type": "code",
   "execution_count": 52,
   "id": "18b47eb4-261d-4d71-a999-9cf7e7d94f0e",
   "metadata": {},
   "outputs": [],
   "source": [
    "path = '../../emo-ranking-next/fear_bipoc_female/mturk/borda_lilucb_ranking_mturk.csv'\n",
    "\n",
    "fear_bfa_next = next_chart_wrapper(path, emotion='fear', head=10)"
   ]
  },
  {
   "cell_type": "code",
   "execution_count": 53,
   "id": "adab2d8f-991c-4181-8e77-94452b9694ae",
   "metadata": {},
   "outputs": [
    {
     "data": {
      "text/html": [
       "\n",
       "<div id=\"altair-viz-8ed85b9b3e4643ab8fa2cf7188d53f9e\"></div>\n",
       "<script type=\"text/javascript\">\n",
       "  (function(spec, embedOpt){\n",
       "    let outputDiv = document.currentScript.previousElementSibling;\n",
       "    if (outputDiv.id !== \"altair-viz-8ed85b9b3e4643ab8fa2cf7188d53f9e\") {\n",
       "      outputDiv = document.getElementById(\"altair-viz-8ed85b9b3e4643ab8fa2cf7188d53f9e\");\n",
       "    }\n",
       "    const paths = {\n",
       "      \"vega\": \"https://cdn.jsdelivr.net/npm//vega@5?noext\",\n",
       "      \"vega-lib\": \"https://cdn.jsdelivr.net/npm//vega-lib?noext\",\n",
       "      \"vega-lite\": \"https://cdn.jsdelivr.net/npm//vega-lite@4.8.1?noext\",\n",
       "      \"vega-embed\": \"https://cdn.jsdelivr.net/npm//vega-embed@6?noext\",\n",
       "    };\n",
       "\n",
       "    function loadScript(lib) {\n",
       "      return new Promise(function(resolve, reject) {\n",
       "        var s = document.createElement('script');\n",
       "        s.src = paths[lib];\n",
       "        s.async = true;\n",
       "        s.onload = () => resolve(paths[lib]);\n",
       "        s.onerror = () => reject(`Error loading script: ${paths[lib]}`);\n",
       "        document.getElementsByTagName(\"head\")[0].appendChild(s);\n",
       "      });\n",
       "    }\n",
       "\n",
       "    function showError(err) {\n",
       "      outputDiv.innerHTML = `<div class=\"error\" style=\"color:red;\">${err}</div>`;\n",
       "      throw err;\n",
       "    }\n",
       "\n",
       "    function displayChart(vegaEmbed) {\n",
       "      vegaEmbed(outputDiv, spec, embedOpt)\n",
       "        .catch(err => showError(`Javascript Error: ${err.message}<br>This usually means there's a typo in your chart specification. See the javascript console for the full traceback.`));\n",
       "    }\n",
       "\n",
       "    if(typeof define === \"function\" && define.amd) {\n",
       "      requirejs.config({paths});\n",
       "      require([\"vega-embed\"], displayChart, err => showError(`Error loading script: ${err.message}`));\n",
       "    } else if (typeof vegaEmbed === \"function\") {\n",
       "      displayChart(vegaEmbed);\n",
       "    } else {\n",
       "      loadScript(\"vega\")\n",
       "        .then(() => loadScript(\"vega-lite\"))\n",
       "        .then(() => loadScript(\"vega-embed\"))\n",
       "        .catch(showError)\n",
       "        .then(() => displayChart(vegaEmbed));\n",
       "    }\n",
       "  })({\"config\": {\"view\": {\"continuousWidth\": 400, \"continuousHeight\": 300, \"strokeWidth\": 0}, \"axis\": {\"grid\": false, \"labelFontSize\": 12, \"titleFontSize\": 12}, \"title\": {\"dy\": -12}}, \"hconcat\": [{\"layer\": [{\"mark\": \"bar\", \"encoding\": {\"color\": {\"condition\": {\"value\": \"orange\", \"test\": \"(datum.emotion === 'fear')\"}, \"value\": \"#0570b0\"}, \"x\": {\"type\": \"quantitative\", \"axis\": {\"format\": \".0%\"}, \"field\": \"percent\"}, \"y\": {\"type\": \"nominal\", \"field\": \"emotion\", \"sort\": \"-x\"}}, \"title\": \"Categories with 2 or more mentions | n= 50\"}, {\"mark\": {\"type\": \"text\", \"align\": \"left\", \"baseline\": \"middle\", \"dx\": 3, \"fontSize\": 12}, \"encoding\": {\"text\": {\"type\": \"quantitative\", \"field\": \"percent\", \"format\": \".1%\"}, \"x\": {\"type\": \"quantitative\", \"field\": \"percent\"}, \"y\": {\"type\": \"nominal\", \"field\": \"emotion\", \"sort\": \"-x\"}}}, {\"data\": {\"name\": \"data-28dc72565ecf5e28a8159ef35035e3e6\"}, \"mark\": {\"type\": \"image\", \"align\": \"center\", \"height\": 150, \"width\": 150, \"xOffset\": -100, \"yOffset\": 240}, \"encoding\": {\"url\": {\"type\": \"nominal\", \"field\": \"url\"}}}], \"data\": {\"name\": \"data-410570778971d6e51db902b10b0fa40c\"}, \"width\": 200}, {\"layer\": [{\"mark\": \"bar\", \"encoding\": {\"color\": {\"condition\": {\"value\": \"orange\", \"test\": \"(datum.emotion === 'fear')\"}, \"value\": \"#0570b0\"}, \"x\": {\"type\": \"quantitative\", \"axis\": {\"format\": \".0%\"}, \"field\": \"percent\"}, \"y\": {\"type\": \"nominal\", \"field\": \"emotion\", \"sort\": \"-x\"}}, \"title\": \"Categories with 2 or more mentions | n= 70\"}, {\"mark\": {\"type\": \"text\", \"align\": \"left\", \"baseline\": \"middle\", \"dx\": 3, \"fontSize\": 12}, \"encoding\": {\"text\": {\"type\": \"quantitative\", \"field\": \"percent\", \"format\": \".1%\"}, \"x\": {\"type\": \"quantitative\", \"field\": \"percent\"}, \"y\": {\"type\": \"nominal\", \"field\": \"emotion\", \"sort\": \"-x\"}}}], \"data\": {\"name\": \"data-bcdaaf00ba9cfecb46b9b448e6177057\"}, \"width\": 200}, {\"layer\": [{\"mark\": \"bar\", \"encoding\": {\"color\": {\"condition\": {\"value\": \"orange\", \"test\": \"(datum.emotion === 'fear')\"}, \"value\": \"#0570b0\"}, \"x\": {\"type\": \"quantitative\", \"axis\": {\"format\": \".0\", \"title\": \"Borda score(bar and number), Score precision (horizontal line)\"}, \"field\": \"borda score\"}, \"y\": {\"type\": \"nominal\", \"field\": \"emotion\", \"sort\": \"-x\"}}, \"title\": \"Dueling bandits ranking | Top: 10\"}, {\"mark\": {\"type\": \"text\", \"align\": \"left\", \"baseline\": \"middle\", \"dx\": 3, \"fontSize\": 12}, \"encoding\": {\"text\": {\"type\": \"quantitative\", \"field\": \"borda score\"}, \"x\": {\"type\": \"quantitative\", \"field\": \"upper\"}, \"y\": {\"type\": \"nominal\", \"field\": \"emotion\", \"sort\": {\"field\": \"borda score\", \"order\": \"descending\"}}}}, {\"mark\": {\"type\": \"rule\", \"color\": \"black\"}, \"encoding\": {\"x\": {\"type\": \"quantitative\", \"field\": \"lower\", \"scale\": {\"zero\": false}}, \"x2\": {\"field\": \"upper\"}, \"y\": {\"type\": \"nominal\", \"field\": \"emotion\", \"sort\": {\"field\": \"borda score\", \"order\": \"descending\"}}}}], \"data\": {\"name\": \"data-981a2e6699ea7b7323f42c839e75bc33\"}, \"width\": 200}], \"title\": \"Female of color - Fear\", \"$schema\": \"https://vega.github.io/schema/vega-lite/v4.8.1.json\", \"datasets\": {\"data-410570778971d6e51db902b10b0fa40c\": [{\"counts\": 31, \"emotion\": \"fear\", \"percent\": 0.62}, {\"counts\": 10, \"emotion\": \"sadness\", \"percent\": 0.2}, {\"counts\": 4, \"emotion\": \"disgust\", \"percent\": 0.08}, {\"counts\": 3, \"emotion\": \"anger\", \"percent\": 0.06}, {\"counts\": 2, \"emotion\": \"uncertain\", \"percent\": 0.04}], \"data-28dc72565ecf5e28a8159ef35035e3e6\": [{\"url\": \"https://uwmadison.co1.qualtrics.com/ControlPanel/Graphic.php?IM=IM_6qVleJUYoACmf6C\"}], \"data-bcdaaf00ba9cfecb46b9b448e6177057\": [{\"counts\": 23, \"emotion\": \"fear\", \"percent\": 0.32857142857142857}, {\"counts\": 9, \"emotion\": \"upset\", \"percent\": 0.12857142857142856}, {\"counts\": 9, \"emotion\": \"anger\", \"percent\": 0.12857142857142856}, {\"counts\": 7, \"emotion\": \"sadness\", \"percent\": 0.1}, {\"counts\": 3, \"emotion\": \"disgust\", \"percent\": 0.04285714285714286}, {\"counts\": 3, \"emotion\": \"worried\", \"percent\": 0.04285714285714286}, {\"counts\": 2, \"emotion\": \"confused\", \"percent\": 0.02857142857142857}, {\"counts\": 2, \"emotion\": \"terrified\", \"percent\": 0.02857142857142857}, {\"counts\": 2, \"emotion\": \"apprehensive\", \"percent\": 0.02857142857142857}, {\"counts\": 2, \"emotion\": \"black\", \"percent\": 0.02857142857142857}, {\"counts\": 2, \"emotion\": \"afraid\", \"percent\": 0.02857142857142857}, {\"counts\": 2, \"emotion\": \"cry\", \"percent\": 0.02857142857142857}, {\"counts\": 2, \"emotion\": \"nervous\", \"percent\": 0.02857142857142857}, {\"counts\": 2, \"emotion\": \"none\", \"percent\": 0.02857142857142857}], \"data-981a2e6699ea7b7323f42c839e75bc33\": [{\"Rank\": 0, \"emotion\": \"horrified\", \"borda score\": 0.92, \"Precision\": 0.08, \"upper\": 0.9600000000000001, \"lower\": 0.88}, {\"Rank\": 1, \"emotion\": \"fear\", \"borda score\": 0.85, \"Precision\": 0.11, \"upper\": 0.905, \"lower\": 0.7949999999999999}, {\"Rank\": 2, \"emotion\": \"terror\", \"borda score\": 0.84, \"Precision\": 0.12, \"upper\": 0.8999999999999999, \"lower\": 0.78}, {\"Rank\": 3, \"emotion\": \"confused\", \"borda score\": 0.79, \"Precision\": 0.13, \"upper\": 0.855, \"lower\": 0.7250000000000001}, {\"Rank\": 4, \"emotion\": \"depressed\", \"borda score\": 0.78, \"Precision\": 0.14, \"upper\": 0.8500000000000001, \"lower\": 0.71}, {\"Rank\": 5, \"emotion\": \"uncertain\", \"borda score\": 0.74, \"Precision\": 0.15, \"upper\": 0.815, \"lower\": 0.665}, {\"Rank\": 6, \"emotion\": \"frightened\", \"borda score\": 0.72, \"Precision\": 0.17, \"upper\": 0.8049999999999999, \"lower\": 0.635}, {\"Rank\": 7, \"emotion\": \"confusion\", \"borda score\": 0.67, \"Precision\": 0.18, \"upper\": 0.76, \"lower\": 0.5800000000000001}, {\"Rank\": 8, \"emotion\": \"shock\", \"borda score\": 0.66, \"Precision\": 0.19, \"upper\": 0.755, \"lower\": 0.5650000000000001}, {\"Rank\": 9, \"emotion\": \"shouting\", \"borda score\": 0.65, \"Precision\": 0.2, \"upper\": 0.75, \"lower\": 0.55}]}}, {\"mode\": \"vega-lite\"});\n",
       "</script>"
      ],
      "text/plain": [
       "alt.HConcatChart(...)"
      ]
     },
     "execution_count": 53,
     "metadata": {},
     "output_type": "execute_result"
    }
   ],
   "source": [
    "fear_bfa_next_panel = (fear_bfa_forced.properties(width=200) | fear_bfa_free.properties(width=200) | fear_bfa_next.properties(width=200)).properties(title=\"Female of color - Fear\")\n",
    "fear_bfa_next_panel.configure_axis(grid=False, labelFontSize=12, titleFontSize=12).configure_view(strokeWidth=0).configure_title(dy=-12)"
   ]
  },
  {
   "cell_type": "code",
   "execution_count": 54,
   "id": "86073a67-d1c8-44bd-b7be-c7e513d467a5",
   "metadata": {},
   "outputs": [],
   "source": [
    "save(fear_bfa_next_panel, \"../../emotions_dashboard/data/fear_bfa_next_panel_mturk.png\")"
   ]
  },
  {
   "cell_type": "markdown",
   "id": "cd307cbc-0bdb-4867-805e-e7632ae76236",
   "metadata": {},
   "source": [
    "## Fear - Male of color"
   ]
  },
  {
   "cell_type": "code",
   "execution_count": 55,
   "id": "9c4322b3-62a6-4d45-b388-57b5fec391f1",
   "metadata": {},
   "outputs": [
    {
     "name": "stderr",
     "output_type": "stream",
     "text": [
      "/tmp/ipykernel_11424/2691402293.py:11: FutureWarning: The default value of regex will change from True to False in a future version.\n",
      "  df_stack_single_word['emotion'] = df_stack_single_word['emotion'].str.replace('[^a-zA-Z]', '') # remove non-alphabetic characters\n"
     ]
    }
   ],
   "source": [
    "fear_bma_forced = photo_chart(df_emo_answers_forced, 'fear',  2, df_forced_labels, emotion_st='fear', n_mentions=2, photo=True, yoffset=240)\n",
    "fear_bma_free = photo_chart(df_emo_answers_free, 'fear',  2, df_free_labels, emotion_st='fear', n_mentions=2)"
   ]
  },
  {
   "cell_type": "code",
   "execution_count": 56,
   "id": "c7e8c7f1-8052-46f2-a8f4-5459a31d040c",
   "metadata": {},
   "outputs": [],
   "source": [
    "path = '../../emo-ranking-next/fear_bipoc_male/mturk/borda_lilucb_ranking_mturk.csv'\n",
    "\n",
    "fear_bma_next = next_chart_wrapper(path, emotion='fear', head=10)"
   ]
  },
  {
   "cell_type": "code",
   "execution_count": 57,
   "id": "c30666ac-3aaf-4040-9335-ad87434acae2",
   "metadata": {},
   "outputs": [
    {
     "data": {
      "text/html": [
       "\n",
       "<div id=\"altair-viz-f55d717ee5e540ceb1a3f6ec6e72387b\"></div>\n",
       "<script type=\"text/javascript\">\n",
       "  (function(spec, embedOpt){\n",
       "    let outputDiv = document.currentScript.previousElementSibling;\n",
       "    if (outputDiv.id !== \"altair-viz-f55d717ee5e540ceb1a3f6ec6e72387b\") {\n",
       "      outputDiv = document.getElementById(\"altair-viz-f55d717ee5e540ceb1a3f6ec6e72387b\");\n",
       "    }\n",
       "    const paths = {\n",
       "      \"vega\": \"https://cdn.jsdelivr.net/npm//vega@5?noext\",\n",
       "      \"vega-lib\": \"https://cdn.jsdelivr.net/npm//vega-lib?noext\",\n",
       "      \"vega-lite\": \"https://cdn.jsdelivr.net/npm//vega-lite@4.8.1?noext\",\n",
       "      \"vega-embed\": \"https://cdn.jsdelivr.net/npm//vega-embed@6?noext\",\n",
       "    };\n",
       "\n",
       "    function loadScript(lib) {\n",
       "      return new Promise(function(resolve, reject) {\n",
       "        var s = document.createElement('script');\n",
       "        s.src = paths[lib];\n",
       "        s.async = true;\n",
       "        s.onload = () => resolve(paths[lib]);\n",
       "        s.onerror = () => reject(`Error loading script: ${paths[lib]}`);\n",
       "        document.getElementsByTagName(\"head\")[0].appendChild(s);\n",
       "      });\n",
       "    }\n",
       "\n",
       "    function showError(err) {\n",
       "      outputDiv.innerHTML = `<div class=\"error\" style=\"color:red;\">${err}</div>`;\n",
       "      throw err;\n",
       "    }\n",
       "\n",
       "    function displayChart(vegaEmbed) {\n",
       "      vegaEmbed(outputDiv, spec, embedOpt)\n",
       "        .catch(err => showError(`Javascript Error: ${err.message}<br>This usually means there's a typo in your chart specification. See the javascript console for the full traceback.`));\n",
       "    }\n",
       "\n",
       "    if(typeof define === \"function\" && define.amd) {\n",
       "      requirejs.config({paths});\n",
       "      require([\"vega-embed\"], displayChart, err => showError(`Error loading script: ${err.message}`));\n",
       "    } else if (typeof vegaEmbed === \"function\") {\n",
       "      displayChart(vegaEmbed);\n",
       "    } else {\n",
       "      loadScript(\"vega\")\n",
       "        .then(() => loadScript(\"vega-lite\"))\n",
       "        .then(() => loadScript(\"vega-embed\"))\n",
       "        .catch(showError)\n",
       "        .then(() => displayChart(vegaEmbed));\n",
       "    }\n",
       "  })({\"config\": {\"view\": {\"continuousWidth\": 400, \"continuousHeight\": 300, \"strokeWidth\": 0}, \"axis\": {\"grid\": false, \"labelFontSize\": 12, \"titleFontSize\": 12}, \"title\": {\"dy\": -12}}, \"hconcat\": [{\"layer\": [{\"mark\": \"bar\", \"encoding\": {\"color\": {\"condition\": {\"value\": \"orange\", \"test\": \"(datum.emotion === 'fear')\"}, \"value\": \"#0570b0\"}, \"x\": {\"type\": \"quantitative\", \"axis\": {\"format\": \".0%\"}, \"field\": \"percent\"}, \"y\": {\"type\": \"nominal\", \"field\": \"emotion\", \"sort\": \"-x\"}}, \"title\": \"Categories with 2 or more mentions | n= 51\"}, {\"mark\": {\"type\": \"text\", \"align\": \"left\", \"baseline\": \"middle\", \"dx\": 3, \"fontSize\": 12}, \"encoding\": {\"text\": {\"type\": \"quantitative\", \"field\": \"percent\", \"format\": \".1%\"}, \"x\": {\"type\": \"quantitative\", \"field\": \"percent\"}, \"y\": {\"type\": \"nominal\", \"field\": \"emotion\", \"sort\": \"-x\"}}}, {\"data\": {\"name\": \"data-25383f6d1dddef03557ff5fb4f5b6a4c\"}, \"mark\": {\"type\": \"image\", \"align\": \"center\", \"height\": 150, \"width\": 150, \"xOffset\": -100, \"yOffset\": 240}, \"encoding\": {\"url\": {\"type\": \"nominal\", \"field\": \"url\"}}}], \"data\": {\"name\": \"data-1a3bf6cdd257c7f124e99f746372e95f\"}, \"width\": 200}, {\"layer\": [{\"mark\": \"bar\", \"encoding\": {\"color\": {\"condition\": {\"value\": \"orange\", \"test\": \"(datum.emotion === 'fear')\"}, \"value\": \"#0570b0\"}, \"x\": {\"type\": \"quantitative\", \"axis\": {\"format\": \".0%\"}, \"field\": \"percent\"}, \"y\": {\"type\": \"nominal\", \"field\": \"emotion\", \"sort\": \"-x\"}}, \"title\": \"Categories with 2 or more mentions | n= 65\"}, {\"mark\": {\"type\": \"text\", \"align\": \"left\", \"baseline\": \"middle\", \"dx\": 3, \"fontSize\": 12}, \"encoding\": {\"text\": {\"type\": \"quantitative\", \"field\": \"percent\", \"format\": \".1%\"}, \"x\": {\"type\": \"quantitative\", \"field\": \"percent\"}, \"y\": {\"type\": \"nominal\", \"field\": \"emotion\", \"sort\": \"-x\"}}}], \"data\": {\"name\": \"data-349950573e04eed1916e2c283412415b\"}, \"width\": 200}, {\"layer\": [{\"mark\": \"bar\", \"encoding\": {\"color\": {\"condition\": {\"value\": \"orange\", \"test\": \"(datum.emotion === 'fear')\"}, \"value\": \"#0570b0\"}, \"x\": {\"type\": \"quantitative\", \"axis\": {\"format\": \".0\", \"title\": \"Borda score(bar and number), Score precision (horizontal line)\"}, \"field\": \"borda score\"}, \"y\": {\"type\": \"nominal\", \"field\": \"emotion\", \"sort\": \"-x\"}}, \"title\": \"Dueling bandits ranking | Top: 10\"}, {\"mark\": {\"type\": \"text\", \"align\": \"left\", \"baseline\": \"middle\", \"dx\": 3, \"fontSize\": 12}, \"encoding\": {\"text\": {\"type\": \"quantitative\", \"field\": \"borda score\"}, \"x\": {\"type\": \"quantitative\", \"field\": \"upper\"}, \"y\": {\"type\": \"nominal\", \"field\": \"emotion\", \"sort\": {\"field\": \"borda score\", \"order\": \"descending\"}}}}, {\"mark\": {\"type\": \"rule\", \"color\": \"black\"}, \"encoding\": {\"x\": {\"type\": \"quantitative\", \"field\": \"lower\", \"scale\": {\"zero\": false}}, \"x2\": {\"field\": \"upper\"}, \"y\": {\"type\": \"nominal\", \"field\": \"emotion\", \"sort\": {\"field\": \"borda score\", \"order\": \"descending\"}}}}], \"data\": {\"name\": \"data-cc42851e78d2a1355b1ba49c2432a205\"}, \"width\": 200}], \"title\": \"Male of color - Fear\", \"$schema\": \"https://vega.github.io/schema/vega-lite/v4.8.1.json\", \"datasets\": {\"data-1a3bf6cdd257c7f124e99f746372e95f\": [{\"counts\": 38, \"emotion\": \"fear\", \"percent\": 0.7450980392156863}, {\"counts\": 5, \"emotion\": \"sadness\", \"percent\": 0.09803921568627451}, {\"counts\": 2, \"emotion\": \"uncertain\", \"percent\": 0.0392156862745098}, {\"counts\": 2, \"emotion\": \"neutral\", \"percent\": 0.0392156862745098}, {\"counts\": 2, \"emotion\": \"anger\", \"percent\": 0.0392156862745098}, {\"counts\": 2, \"emotion\": \"disgust\", \"percent\": 0.0392156862745098}], \"data-25383f6d1dddef03557ff5fb4f5b6a4c\": [{\"url\": \"https://uwmadison.co1.qualtrics.com/ControlPanel/Graphic.php?IM=IM_54KW05fRgzNmLfE\"}], \"data-349950573e04eed1916e2c283412415b\": [{\"counts\": 30, \"emotion\": \"fear\", \"percent\": 0.46153846153846156}, {\"counts\": 15, \"emotion\": \"sadness\", \"percent\": 0.23076923076923078}, {\"counts\": 5, \"emotion\": \"disgust\", \"percent\": 0.07692307692307693}, {\"counts\": 3, \"emotion\": \"nervous\", \"percent\": 0.046153846153846156}, {\"counts\": 3, \"emotion\": \"afraid\", \"percent\": 0.046153846153846156}, {\"counts\": 3, \"emotion\": \"worried\", \"percent\": 0.046153846153846156}, {\"counts\": 2, \"emotion\": \"upset\", \"percent\": 0.03076923076923077}, {\"counts\": 2, \"emotion\": \"crying\", \"percent\": 0.03076923076923077}, {\"counts\": 2, \"emotion\": \"cry\", \"percent\": 0.03076923076923077}], \"data-cc42851e78d2a1355b1ba49c2432a205\": [{\"Rank\": 0, \"emotion\": \"fear\", \"borda score\": 0.89, \"Precision\": 0.08, \"upper\": 0.93, \"lower\": 0.85}, {\"Rank\": 1, \"emotion\": \"horrified\", \"borda score\": 0.82, \"Precision\": 0.11, \"upper\": 0.875, \"lower\": 0.7649999999999999}, {\"Rank\": 2, \"emotion\": \"shocking\", \"borda score\": 0.81, \"Precision\": 0.1, \"upper\": 0.8600000000000001, \"lower\": 0.76}, {\"Rank\": 3, \"emotion\": \"cry\", \"borda score\": 0.7, \"Precision\": 0.16, \"upper\": 0.7799999999999999, \"lower\": 0.62}, {\"Rank\": 4, \"emotion\": \"uncertain\", \"borda score\": 0.68, \"Precision\": 0.16, \"upper\": 0.76, \"lower\": 0.6000000000000001}, {\"Rank\": 5, \"emotion\": \"scared\", \"borda score\": 0.67, \"Precision\": 0.15, \"upper\": 0.745, \"lower\": 0.5950000000000001}, {\"Rank\": 6, \"emotion\": \"apprehensive\", \"borda score\": 0.66, \"Precision\": 0.17, \"upper\": 0.745, \"lower\": 0.5750000000000001}, {\"Rank\": 7, \"emotion\": \"shocked\", \"borda score\": 0.66, \"Precision\": 0.18, \"upper\": 0.75, \"lower\": 0.5700000000000001}, {\"Rank\": 8, \"emotion\": \"shock\", \"borda score\": 0.65, \"Precision\": 0.16, \"upper\": 0.73, \"lower\": 0.5700000000000001}, {\"Rank\": 9, \"emotion\": \"worried\", \"borda score\": 0.64, \"Precision\": 0.17, \"upper\": 0.725, \"lower\": 0.555}]}}, {\"mode\": \"vega-lite\"});\n",
       "</script>"
      ],
      "text/plain": [
       "alt.HConcatChart(...)"
      ]
     },
     "execution_count": 57,
     "metadata": {},
     "output_type": "execute_result"
    }
   ],
   "source": [
    "fear_bma_next_panel = (fear_bma_forced.properties(width=200) | fear_bma_free.properties(width=200) | fear_bma_next.properties(width=200)).properties(title=\"Male of color - Fear\")\n",
    "fear_bma_next_panel.configure_axis(grid=False, labelFontSize=12, titleFontSize=12).configure_view(strokeWidth=0).configure_title(dy=-12)"
   ]
  },
  {
   "cell_type": "code",
   "execution_count": 58,
   "id": "0fad71b0-335a-4618-9214-65f3a86df76c",
   "metadata": {},
   "outputs": [],
   "source": [
    "save(fear_bma_next_panel, \"../../emotions_dashboard/data/fear_bma_next_panel_mturk.png\")"
   ]
  },
  {
   "cell_type": "markdown",
   "id": "8216d58a-759b-45a0-bfcb-8c88a8d5dbdf",
   "metadata": {},
   "source": [
    "## Fear - White female"
   ]
  },
  {
   "cell_type": "code",
   "execution_count": 59,
   "id": "4997b476-ce7d-4e19-9ea3-e9b27f05ee1b",
   "metadata": {},
   "outputs": [
    {
     "name": "stderr",
     "output_type": "stream",
     "text": [
      "/tmp/ipykernel_11424/2691402293.py:11: FutureWarning: The default value of regex will change from True to False in a future version.\n",
      "  df_stack_single_word['emotion'] = df_stack_single_word['emotion'].str.replace('[^a-zA-Z]', '') # remove non-alphabetic characters\n"
     ]
    }
   ],
   "source": [
    "fear_wfa_forced = photo_chart(df_emo_answers_forced, 'fear',  20, df_forced_labels, emotion_st='fear', n_mentions=2, photo=True)\n",
    "fear_wfa_free = photo_chart(df_emo_answers_free, 'fear',  20, df_free_labels, emotion_st='fear', n_mentions=2)"
   ]
  },
  {
   "cell_type": "code",
   "execution_count": 60,
   "id": "42bd63c6-54de-47e6-ae5e-9a7b60528ad0",
   "metadata": {},
   "outputs": [],
   "source": [
    "path = '../../emo-ranking-next/fear_white_female/mturk/borda_lilucb_ranking_mturk.csv'\n",
    "\n",
    "fear_wfa_next = next_chart_wrapper(path, emotion='fear', head=15)"
   ]
  },
  {
   "cell_type": "code",
   "execution_count": 61,
   "id": "554f43dc-b9cc-4165-a47e-331dd7f063f9",
   "metadata": {},
   "outputs": [
    {
     "data": {
      "text/html": [
       "\n",
       "<div id=\"altair-viz-6ba88f74839549a4be7368e3dda5401c\"></div>\n",
       "<script type=\"text/javascript\">\n",
       "  (function(spec, embedOpt){\n",
       "    let outputDiv = document.currentScript.previousElementSibling;\n",
       "    if (outputDiv.id !== \"altair-viz-6ba88f74839549a4be7368e3dda5401c\") {\n",
       "      outputDiv = document.getElementById(\"altair-viz-6ba88f74839549a4be7368e3dda5401c\");\n",
       "    }\n",
       "    const paths = {\n",
       "      \"vega\": \"https://cdn.jsdelivr.net/npm//vega@5?noext\",\n",
       "      \"vega-lib\": \"https://cdn.jsdelivr.net/npm//vega-lib?noext\",\n",
       "      \"vega-lite\": \"https://cdn.jsdelivr.net/npm//vega-lite@4.8.1?noext\",\n",
       "      \"vega-embed\": \"https://cdn.jsdelivr.net/npm//vega-embed@6?noext\",\n",
       "    };\n",
       "\n",
       "    function loadScript(lib) {\n",
       "      return new Promise(function(resolve, reject) {\n",
       "        var s = document.createElement('script');\n",
       "        s.src = paths[lib];\n",
       "        s.async = true;\n",
       "        s.onload = () => resolve(paths[lib]);\n",
       "        s.onerror = () => reject(`Error loading script: ${paths[lib]}`);\n",
       "        document.getElementsByTagName(\"head\")[0].appendChild(s);\n",
       "      });\n",
       "    }\n",
       "\n",
       "    function showError(err) {\n",
       "      outputDiv.innerHTML = `<div class=\"error\" style=\"color:red;\">${err}</div>`;\n",
       "      throw err;\n",
       "    }\n",
       "\n",
       "    function displayChart(vegaEmbed) {\n",
       "      vegaEmbed(outputDiv, spec, embedOpt)\n",
       "        .catch(err => showError(`Javascript Error: ${err.message}<br>This usually means there's a typo in your chart specification. See the javascript console for the full traceback.`));\n",
       "    }\n",
       "\n",
       "    if(typeof define === \"function\" && define.amd) {\n",
       "      requirejs.config({paths});\n",
       "      require([\"vega-embed\"], displayChart, err => showError(`Error loading script: ${err.message}`));\n",
       "    } else if (typeof vegaEmbed === \"function\") {\n",
       "      displayChart(vegaEmbed);\n",
       "    } else {\n",
       "      loadScript(\"vega\")\n",
       "        .then(() => loadScript(\"vega-lite\"))\n",
       "        .then(() => loadScript(\"vega-embed\"))\n",
       "        .catch(showError)\n",
       "        .then(() => displayChart(vegaEmbed));\n",
       "    }\n",
       "  })({\"config\": {\"view\": {\"continuousWidth\": 400, \"continuousHeight\": 300, \"strokeWidth\": 0}, \"axis\": {\"grid\": false, \"labelFontSize\": 12, \"titleFontSize\": 12}, \"title\": {\"dy\": -12}}, \"hconcat\": [{\"layer\": [{\"mark\": \"bar\", \"encoding\": {\"color\": {\"condition\": {\"value\": \"orange\", \"test\": \"(datum.emotion === 'fear')\"}, \"value\": \"#0570b0\"}, \"x\": {\"type\": \"quantitative\", \"axis\": {\"format\": \".0%\"}, \"field\": \"percent\"}, \"y\": {\"type\": \"nominal\", \"field\": \"emotion\", \"sort\": \"-x\"}}, \"title\": \"Categories with 2 or more mentions | n= 49\"}, {\"mark\": {\"type\": \"text\", \"align\": \"left\", \"baseline\": \"middle\", \"dx\": 3, \"fontSize\": 12}, \"encoding\": {\"text\": {\"type\": \"quantitative\", \"field\": \"percent\", \"format\": \".1%\"}, \"x\": {\"type\": \"quantitative\", \"field\": \"percent\"}, \"y\": {\"type\": \"nominal\", \"field\": \"emotion\", \"sort\": \"-x\"}}}, {\"data\": {\"name\": \"data-de9b636e2ec8b8355df2fd7986441fdb\"}, \"mark\": {\"type\": \"image\", \"align\": \"center\", \"height\": 150, \"width\": 150, \"xOffset\": -100, \"yOffset\": 220}, \"encoding\": {\"url\": {\"type\": \"nominal\", \"field\": \"url\"}}}], \"data\": {\"name\": \"data-abc19705a57332d2ad8c3f900528a3e8\"}, \"width\": 200}, {\"layer\": [{\"mark\": \"bar\", \"encoding\": {\"color\": {\"condition\": {\"value\": \"orange\", \"test\": \"(datum.emotion === 'fear')\"}, \"value\": \"#0570b0\"}, \"x\": {\"type\": \"quantitative\", \"axis\": {\"format\": \".0%\"}, \"field\": \"percent\"}, \"y\": {\"type\": \"nominal\", \"field\": \"emotion\", \"sort\": \"-x\"}}, \"title\": \"Categories with 2 or more mentions | n= 67\"}, {\"mark\": {\"type\": \"text\", \"align\": \"left\", \"baseline\": \"middle\", \"dx\": 3, \"fontSize\": 12}, \"encoding\": {\"text\": {\"type\": \"quantitative\", \"field\": \"percent\", \"format\": \".1%\"}, \"x\": {\"type\": \"quantitative\", \"field\": \"percent\"}, \"y\": {\"type\": \"nominal\", \"field\": \"emotion\", \"sort\": \"-x\"}}}], \"data\": {\"name\": \"data-4f08af42157b413f0a9ac7d93034524a\"}, \"width\": 200}, {\"layer\": [{\"mark\": \"bar\", \"encoding\": {\"color\": {\"condition\": {\"value\": \"orange\", \"test\": \"(datum.emotion === 'fear')\"}, \"value\": \"#0570b0\"}, \"x\": {\"type\": \"quantitative\", \"axis\": {\"format\": \".0\", \"title\": \"Borda score(bar and number), Score precision (horizontal line)\"}, \"field\": \"borda score\"}, \"y\": {\"type\": \"nominal\", \"field\": \"emotion\", \"sort\": \"-x\"}}, \"title\": \"Dueling bandits ranking | Top: 15\"}, {\"mark\": {\"type\": \"text\", \"align\": \"left\", \"baseline\": \"middle\", \"dx\": 3, \"fontSize\": 12}, \"encoding\": {\"text\": {\"type\": \"quantitative\", \"field\": \"borda score\"}, \"x\": {\"type\": \"quantitative\", \"field\": \"upper\"}, \"y\": {\"type\": \"nominal\", \"field\": \"emotion\", \"sort\": {\"field\": \"borda score\", \"order\": \"descending\"}}}}, {\"mark\": {\"type\": \"rule\", \"color\": \"black\"}, \"encoding\": {\"x\": {\"type\": \"quantitative\", \"field\": \"lower\", \"scale\": {\"zero\": false}}, \"x2\": {\"field\": \"upper\"}, \"y\": {\"type\": \"nominal\", \"field\": \"emotion\", \"sort\": {\"field\": \"borda score\", \"order\": \"descending\"}}}}], \"data\": {\"name\": \"data-7e0818cd2fa7c2b3cb678bba94b2ca1b\"}, \"width\": 200}], \"title\": \"White female- Fear\", \"$schema\": \"https://vega.github.io/schema/vega-lite/v4.8.1.json\", \"datasets\": {\"data-abc19705a57332d2ad8c3f900528a3e8\": [{\"counts\": 32, \"emotion\": \"fear\", \"percent\": 0.6530612244897959}, {\"counts\": 6, \"emotion\": \"disgust\", \"percent\": 0.12244897959183673}, {\"counts\": 5, \"emotion\": \"surprise\", \"percent\": 0.10204081632653061}, {\"counts\": 4, \"emotion\": \"anger\", \"percent\": 0.08163265306122448}, {\"counts\": 2, \"emotion\": \"sadness\", \"percent\": 0.04081632653061224}], \"data-de9b636e2ec8b8355df2fd7986441fdb\": [{\"url\": \"https://uwmadison.co1.qualtrics.com/ControlPanel/Graphic.php?IM=IM_e38mxw6nO1WY6Cq\"}], \"data-4f08af42157b413f0a9ac7d93034524a\": [{\"counts\": 24, \"emotion\": \"fear\", \"percent\": 0.3582089552238806}, {\"counts\": 10, \"emotion\": \"disgust\", \"percent\": 0.14925373134328357}, {\"counts\": 10, \"emotion\": \"shocked\", \"percent\": 0.14925373134328357}, {\"counts\": 7, \"emotion\": \"none\", \"percent\": 0.1044776119402985}, {\"counts\": 4, \"emotion\": \"anger\", \"percent\": 0.05970149253731343}, {\"counts\": 4, \"emotion\": \"upset\", \"percent\": 0.05970149253731343}, {\"counts\": 3, \"emotion\": \"horrified\", \"percent\": 0.04477611940298507}, {\"counts\": 3, \"emotion\": \"surprise\", \"percent\": 0.04477611940298507}, {\"counts\": 2, \"emotion\": \"sadness\", \"percent\": 0.029850746268656716}], \"data-7e0818cd2fa7c2b3cb678bba94b2ca1b\": [{\"Rank\": 0, \"emotion\": \"horrified\", \"borda score\": 0.9, \"Precision\": 0.08, \"upper\": 0.9400000000000001, \"lower\": 0.86}, {\"Rank\": 1, \"emotion\": \"terrified\", \"borda score\": 0.88, \"Precision\": 0.08, \"upper\": 0.92, \"lower\": 0.84}, {\"Rank\": 2, \"emotion\": \"shocked\", \"borda score\": 0.82, \"Precision\": 0.11, \"upper\": 0.875, \"lower\": 0.7649999999999999}, {\"Rank\": 3, \"emotion\": \"terror\", \"borda score\": 0.81, \"Precision\": 0.12, \"upper\": 0.8700000000000001, \"lower\": 0.75}, {\"Rank\": 4, \"emotion\": \"stunned\", \"borda score\": 0.81, \"Precision\": 0.12, \"upper\": 0.8700000000000001, \"lower\": 0.75}, {\"Rank\": 5, \"emotion\": \"scared\", \"borda score\": 0.8, \"Precision\": 0.12, \"upper\": 0.8600000000000001, \"lower\": 0.74}, {\"Rank\": 6, \"emotion\": \"depressed\", \"borda score\": 0.8, \"Precision\": 0.11, \"upper\": 0.8550000000000001, \"lower\": 0.745}, {\"Rank\": 7, \"emotion\": \"frightened\", \"borda score\": 0.76, \"Precision\": 0.1, \"upper\": 0.81, \"lower\": 0.71}, {\"Rank\": 8, \"emotion\": \"hurt\", \"borda score\": 0.74, \"Precision\": 0.15, \"upper\": 0.815, \"lower\": 0.665}, {\"Rank\": 9, \"emotion\": \"shocking\", \"borda score\": 0.68, \"Precision\": 0.16, \"upper\": 0.76, \"lower\": 0.6000000000000001}, {\"Rank\": 10, \"emotion\": \"anxious\", \"borda score\": 0.67, \"Precision\": 0.15, \"upper\": 0.745, \"lower\": 0.5950000000000001}, {\"Rank\": 11, \"emotion\": \"disgust\", \"borda score\": 0.67, \"Precision\": 0.13, \"upper\": 0.7350000000000001, \"lower\": 0.605}, {\"Rank\": 12, \"emotion\": \"afraid\", \"borda score\": 0.62, \"Precision\": 0.2, \"upper\": 0.72, \"lower\": 0.52}, {\"Rank\": 13, \"emotion\": \"fear\", \"borda score\": 0.56, \"Precision\": 0.14, \"upper\": 0.6300000000000001, \"lower\": 0.49000000000000005}, {\"Rank\": 14, \"emotion\": \"excited\", \"borda score\": 0.56, \"Precision\": 0.24, \"upper\": 0.68, \"lower\": 0.44000000000000006}]}}, {\"mode\": \"vega-lite\"});\n",
       "</script>"
      ],
      "text/plain": [
       "alt.HConcatChart(...)"
      ]
     },
     "execution_count": 61,
     "metadata": {},
     "output_type": "execute_result"
    }
   ],
   "source": [
    "fear_wfa_next_panel = (fear_wfa_forced.properties(width=200) | fear_wfa_free.properties(width=200) | fear_wfa_next.properties(width=200)).properties(title=\"White female- Fear\")\n",
    "fear_wfa_next_panel.configure_axis(grid=False, labelFontSize=12, titleFontSize=12).configure_view(strokeWidth=0).configure_title(dy=-12)"
   ]
  },
  {
   "cell_type": "code",
   "execution_count": 62,
   "id": "aac29407-51d6-4dea-adfc-f5a632db2d07",
   "metadata": {},
   "outputs": [],
   "source": [
    "save(fear_wfa_next_panel, \"../../emotions_dashboard/data/fear_wfa_next_panel_mturk.png\")"
   ]
  },
  {
   "cell_type": "markdown",
   "id": "de354dc4-d9b6-48e8-934e-5b9ac6c7994a",
   "metadata": {},
   "source": [
    "## Fear - White male"
   ]
  },
  {
   "cell_type": "code",
   "execution_count": 63,
   "id": "359a628a-a08c-458b-af05-5664f83a8e82",
   "metadata": {},
   "outputs": [
    {
     "name": "stderr",
     "output_type": "stream",
     "text": [
      "/tmp/ipykernel_11424/2691402293.py:11: FutureWarning: The default value of regex will change from True to False in a future version.\n",
      "  df_stack_single_word['emotion'] = df_stack_single_word['emotion'].str.replace('[^a-zA-Z]', '') # remove non-alphabetic characters\n"
     ]
    }
   ],
   "source": [
    "fear_wma_forced = photo_chart(df_emo_answers_forced, 'fear',  6, df_forced_labels, emotion_st='fear', n_mentions=2, photo=True, yoffset=220)\n",
    "fear_wma_free = photo_chart(df_emo_answers_free, 'fear',  6, df_free_labels, emotion_st='fear', n_mentions=2)"
   ]
  },
  {
   "cell_type": "code",
   "execution_count": 64,
   "id": "50002a0d-c4f0-4716-86bb-6add1628e578",
   "metadata": {},
   "outputs": [],
   "source": [
    "path = '../../emo-ranking-next/fear_white_male/mturk/borda_lilucb_ranking_mturk.csv'\n",
    "\n",
    "fear_wma_next = next_chart_wrapper(path, emotion='fear', head=25)"
   ]
  },
  {
   "cell_type": "code",
   "execution_count": 65,
   "id": "7c7fc1b5-d83f-4f5f-ae99-c5b285fae6c3",
   "metadata": {},
   "outputs": [
    {
     "data": {
      "text/html": [
       "\n",
       "<div id=\"altair-viz-01cb167b3f2441929d79294d76c512f0\"></div>\n",
       "<script type=\"text/javascript\">\n",
       "  (function(spec, embedOpt){\n",
       "    let outputDiv = document.currentScript.previousElementSibling;\n",
       "    if (outputDiv.id !== \"altair-viz-01cb167b3f2441929d79294d76c512f0\") {\n",
       "      outputDiv = document.getElementById(\"altair-viz-01cb167b3f2441929d79294d76c512f0\");\n",
       "    }\n",
       "    const paths = {\n",
       "      \"vega\": \"https://cdn.jsdelivr.net/npm//vega@5?noext\",\n",
       "      \"vega-lib\": \"https://cdn.jsdelivr.net/npm//vega-lib?noext\",\n",
       "      \"vega-lite\": \"https://cdn.jsdelivr.net/npm//vega-lite@4.8.1?noext\",\n",
       "      \"vega-embed\": \"https://cdn.jsdelivr.net/npm//vega-embed@6?noext\",\n",
       "    };\n",
       "\n",
       "    function loadScript(lib) {\n",
       "      return new Promise(function(resolve, reject) {\n",
       "        var s = document.createElement('script');\n",
       "        s.src = paths[lib];\n",
       "        s.async = true;\n",
       "        s.onload = () => resolve(paths[lib]);\n",
       "        s.onerror = () => reject(`Error loading script: ${paths[lib]}`);\n",
       "        document.getElementsByTagName(\"head\")[0].appendChild(s);\n",
       "      });\n",
       "    }\n",
       "\n",
       "    function showError(err) {\n",
       "      outputDiv.innerHTML = `<div class=\"error\" style=\"color:red;\">${err}</div>`;\n",
       "      throw err;\n",
       "    }\n",
       "\n",
       "    function displayChart(vegaEmbed) {\n",
       "      vegaEmbed(outputDiv, spec, embedOpt)\n",
       "        .catch(err => showError(`Javascript Error: ${err.message}<br>This usually means there's a typo in your chart specification. See the javascript console for the full traceback.`));\n",
       "    }\n",
       "\n",
       "    if(typeof define === \"function\" && define.amd) {\n",
       "      requirejs.config({paths});\n",
       "      require([\"vega-embed\"], displayChart, err => showError(`Error loading script: ${err.message}`));\n",
       "    } else if (typeof vegaEmbed === \"function\") {\n",
       "      displayChart(vegaEmbed);\n",
       "    } else {\n",
       "      loadScript(\"vega\")\n",
       "        .then(() => loadScript(\"vega-lite\"))\n",
       "        .then(() => loadScript(\"vega-embed\"))\n",
       "        .catch(showError)\n",
       "        .then(() => displayChart(vegaEmbed));\n",
       "    }\n",
       "  })({\"config\": {\"view\": {\"continuousWidth\": 400, \"continuousHeight\": 300, \"strokeWidth\": 0}, \"axis\": {\"grid\": false, \"labelFontSize\": 12, \"titleFontSize\": 12}, \"title\": {\"dy\": -12}}, \"hconcat\": [{\"layer\": [{\"mark\": \"bar\", \"encoding\": {\"color\": {\"condition\": {\"value\": \"orange\", \"test\": \"(datum.emotion === 'fear')\"}, \"value\": \"#0570b0\"}, \"x\": {\"type\": \"quantitative\", \"axis\": {\"format\": \".0%\"}, \"field\": \"percent\"}, \"y\": {\"type\": \"nominal\", \"field\": \"emotion\", \"sort\": \"-x\"}}, \"title\": \"Categories with 2 or more mentions | n= 50\"}, {\"mark\": {\"type\": \"text\", \"align\": \"left\", \"baseline\": \"middle\", \"dx\": 3, \"fontSize\": 12}, \"encoding\": {\"text\": {\"type\": \"quantitative\", \"field\": \"percent\", \"format\": \".1%\"}, \"x\": {\"type\": \"quantitative\", \"field\": \"percent\"}, \"y\": {\"type\": \"nominal\", \"field\": \"emotion\", \"sort\": \"-x\"}}}, {\"data\": {\"name\": \"data-5b45deab7cb2540758f2ac6a4ce05197\"}, \"mark\": {\"type\": \"image\", \"align\": \"center\", \"height\": 150, \"width\": 150, \"xOffset\": -100, \"yOffset\": 220}, \"encoding\": {\"url\": {\"type\": \"nominal\", \"field\": \"url\"}}}], \"data\": {\"name\": \"data-06ba6c36caa7a24622bfa8eb173d3837\"}, \"width\": 200}, {\"layer\": [{\"mark\": \"bar\", \"encoding\": {\"color\": {\"condition\": {\"value\": \"orange\", \"test\": \"(datum.emotion === 'fear')\"}, \"value\": \"#0570b0\"}, \"x\": {\"type\": \"quantitative\", \"axis\": {\"format\": \".0%\"}, \"field\": \"percent\"}, \"y\": {\"type\": \"nominal\", \"field\": \"emotion\", \"sort\": \"-x\"}}, \"title\": \"Categories with 2 or more mentions | n= 58\"}, {\"mark\": {\"type\": \"text\", \"align\": \"left\", \"baseline\": \"middle\", \"dx\": 3, \"fontSize\": 12}, \"encoding\": {\"text\": {\"type\": \"quantitative\", \"field\": \"percent\", \"format\": \".1%\"}, \"x\": {\"type\": \"quantitative\", \"field\": \"percent\"}, \"y\": {\"type\": \"nominal\", \"field\": \"emotion\", \"sort\": \"-x\"}}}], \"data\": {\"name\": \"data-b9267317326b7d4e7ee765addf22c8c4\"}, \"width\": 200}, {\"layer\": [{\"mark\": \"bar\", \"encoding\": {\"color\": {\"condition\": {\"value\": \"orange\", \"test\": \"(datum.emotion === 'fear')\"}, \"value\": \"#0570b0\"}, \"x\": {\"type\": \"quantitative\", \"axis\": {\"format\": \".0\", \"title\": \"Borda score(bar and number), Score precision (horizontal line)\"}, \"field\": \"borda score\"}, \"y\": {\"type\": \"nominal\", \"field\": \"emotion\", \"sort\": \"-x\"}}, \"title\": \"Dueling bandits ranking | Top: 25\"}, {\"mark\": {\"type\": \"text\", \"align\": \"left\", \"baseline\": \"middle\", \"dx\": 3, \"fontSize\": 12}, \"encoding\": {\"text\": {\"type\": \"quantitative\", \"field\": \"borda score\"}, \"x\": {\"type\": \"quantitative\", \"field\": \"upper\"}, \"y\": {\"type\": \"nominal\", \"field\": \"emotion\", \"sort\": {\"field\": \"borda score\", \"order\": \"descending\"}}}}, {\"mark\": {\"type\": \"rule\", \"color\": \"black\"}, \"encoding\": {\"x\": {\"type\": \"quantitative\", \"field\": \"lower\", \"scale\": {\"zero\": false}}, \"x2\": {\"field\": \"upper\"}, \"y\": {\"type\": \"nominal\", \"field\": \"emotion\", \"sort\": {\"field\": \"borda score\", \"order\": \"descending\"}}}}], \"data\": {\"name\": \"data-67fa656f3315e2714bcf680fffa7a55f\"}, \"width\": 200}], \"title\": \"White male - Fear\", \"$schema\": \"https://vega.github.io/schema/vega-lite/v4.8.1.json\", \"datasets\": {\"data-06ba6c36caa7a24622bfa8eb173d3837\": [{\"counts\": 37, \"emotion\": \"fear\", \"percent\": 0.74}, {\"counts\": 8, \"emotion\": \"surprise\", \"percent\": 0.16}, {\"counts\": 3, \"emotion\": \"uncertain\", \"percent\": 0.06}, {\"counts\": 2, \"emotion\": \"disgust\", \"percent\": 0.04}], \"data-5b45deab7cb2540758f2ac6a4ce05197\": [{\"url\": \"https://uwmadison.co1.qualtrics.com/ControlPanel/Graphic.php?IM=IM_1z4YnfSQVdhj1Rk\"}], \"data-b9267317326b7d4e7ee765addf22c8c4\": [{\"counts\": 27, \"emotion\": \"fear\", \"percent\": 0.46551724137931033}, {\"counts\": 7, \"emotion\": \"worried\", \"percent\": 0.1206896551724138}, {\"counts\": 7, \"emotion\": \"disgust\", \"percent\": 0.1206896551724138}, {\"counts\": 5, \"emotion\": \"surprise\", \"percent\": 0.08620689655172414}, {\"counts\": 4, \"emotion\": \"sadness\", \"percent\": 0.06896551724137931}, {\"counts\": 4, \"emotion\": \"shocked\", \"percent\": 0.06896551724137931}, {\"counts\": 2, \"emotion\": \"afraid\", \"percent\": 0.034482758620689655}, {\"counts\": 2, \"emotion\": \"none\", \"percent\": 0.034482758620689655}], \"data-67fa656f3315e2714bcf680fffa7a55f\": [{\"Rank\": 0, \"emotion\": \"disgust\", \"borda score\": 0.88, \"Precision\": 0.1, \"upper\": 0.93, \"lower\": 0.83}, {\"Rank\": 1, \"emotion\": \"shocking\", \"borda score\": 0.86, \"Precision\": 0.11, \"upper\": 0.915, \"lower\": 0.8049999999999999}, {\"Rank\": 2, \"emotion\": \"scared\", \"borda score\": 0.83, \"Precision\": 0.11, \"upper\": 0.885, \"lower\": 0.7749999999999999}, {\"Rank\": 3, \"emotion\": \"shocked\", \"borda score\": 0.83, \"Precision\": 0.12, \"upper\": 0.8899999999999999, \"lower\": 0.77}, {\"Rank\": 4, \"emotion\": \"unhappy\", \"borda score\": 0.81, \"Precision\": 0.13, \"upper\": 0.875, \"lower\": 0.7450000000000001}, {\"Rank\": 5, \"emotion\": \"depressed\", \"borda score\": 0.76, \"Precision\": 0.15, \"upper\": 0.835, \"lower\": 0.685}, {\"Rank\": 6, \"emotion\": \"terrified\", \"borda score\": 0.72, \"Precision\": 0.16, \"upper\": 0.7999999999999999, \"lower\": 0.64}, {\"Rank\": 7, \"emotion\": \"frightened\", \"borda score\": 0.69, \"Precision\": 0.18, \"upper\": 0.7799999999999999, \"lower\": 0.6}, {\"Rank\": 8, \"emotion\": \"disbelief\", \"borda score\": 0.68, \"Precision\": 0.18, \"upper\": 0.77, \"lower\": 0.5900000000000001}, {\"Rank\": 9, \"emotion\": \"worried\", \"borda score\": 0.67, \"Precision\": 0.18, \"upper\": 0.76, \"lower\": 0.5800000000000001}, {\"Rank\": 10, \"emotion\": \"apprehensive\", \"borda score\": 0.66, \"Precision\": 0.18, \"upper\": 0.75, \"lower\": 0.5700000000000001}, {\"Rank\": 11, \"emotion\": \"uncertain\", \"borda score\": 0.66, \"Precision\": 0.19, \"upper\": 0.755, \"lower\": 0.5650000000000001}, {\"Rank\": 12, \"emotion\": \"upset\", \"borda score\": 0.65, \"Precision\": 0.2, \"upper\": 0.75, \"lower\": 0.55}, {\"Rank\": 13, \"emotion\": \"anxious\", \"borda score\": 0.64, \"Precision\": 0.2, \"upper\": 0.74, \"lower\": 0.54}, {\"Rank\": 14, \"emotion\": \"afraid\", \"borda score\": 0.62, \"Precision\": 0.2, \"upper\": 0.72, \"lower\": 0.52}, {\"Rank\": 15, \"emotion\": \"nervous\", \"borda score\": 0.59, \"Precision\": 0.19, \"upper\": 0.6849999999999999, \"lower\": 0.495}, {\"Rank\": 16, \"emotion\": \"stunned\", \"borda score\": 0.55, \"Precision\": 0.22, \"upper\": 0.66, \"lower\": 0.44000000000000006}, {\"Rank\": 17, \"emotion\": \"horrified\", \"borda score\": 0.53, \"Precision\": 0.26, \"upper\": 0.66, \"lower\": 0.4}, {\"Rank\": 18, \"emotion\": \"terror\", \"borda score\": 0.53, \"Precision\": 0.24, \"upper\": 0.65, \"lower\": 0.41000000000000003}, {\"Rank\": 19, \"emotion\": \"silly\", \"borda score\": 0.53, \"Precision\": 0.24, \"upper\": 0.65, \"lower\": 0.41000000000000003}, {\"Rank\": 20, \"emotion\": \"concerned\", \"borda score\": 0.53, \"Precision\": 0.24, \"upper\": 0.65, \"lower\": 0.41000000000000003}, {\"Rank\": 21, \"emotion\": \"skeptical\", \"borda score\": 0.5, \"Precision\": 0.27, \"upper\": 0.635, \"lower\": 0.365}, {\"Rank\": 22, \"emotion\": \"black\", \"borda score\": 0.5, \"Precision\": 0.25, \"upper\": 0.625, \"lower\": 0.375}, {\"Rank\": 23, \"emotion\": \"fear\", \"borda score\": 0.5, \"Precision\": 0.25, \"upper\": 0.625, \"lower\": 0.375}, {\"Rank\": 24, \"emotion\": \"mad\", \"borda score\": 0.46, \"Precision\": 0.28, \"upper\": 0.6000000000000001, \"lower\": 0.32}]}}, {\"mode\": \"vega-lite\"});\n",
       "</script>"
      ],
      "text/plain": [
       "alt.HConcatChart(...)"
      ]
     },
     "execution_count": 65,
     "metadata": {},
     "output_type": "execute_result"
    }
   ],
   "source": [
    "fear_wma_next_panel = (fear_wma_forced.properties(width=200) | fear_wma_free.properties(width=200) | fear_wma_next.properties(width=200)).properties(title=\"White male - Fear\")\n",
    "fear_wma_next_panel.configure_axis(grid=False, labelFontSize=12, titleFontSize=12).configure_view(strokeWidth=0).configure_title(dy=-12)"
   ]
  },
  {
   "cell_type": "code",
   "execution_count": 66,
   "id": "16d9fb9c-bca1-42de-a996-5c143a27db89",
   "metadata": {},
   "outputs": [],
   "source": [
    "save(fear_wma_next_panel, \"../../emotions_dashboard/data/fear_wma_next_panel_mturk.png\")"
   ]
  },
  {
   "cell_type": "code",
   "execution_count": 67,
   "id": "cd34495e-3e63-44ac-a571-7f23825e8833",
   "metadata": {},
   "outputs": [],
   "source": [
    "## JOIN PANELS\n",
    "fear_panel = (fear_bfa_next_panel & fear_bma_next_panel & fear_wfa_next_panel & fear_wma_next_panel).configure_axis(grid=False, labelFontSize=12, titleFontSize=12).configure_view(strokeWidth=0)\n",
    "save(fear_panel, \"/mnt/c/Users/pablo/Desktop/dissertation-docs/images/fear_panel_mturk.png\")"
   ]
  },
  {
   "cell_type": "markdown",
   "id": "9aecf418-849a-4cd6-aaa3-b520671e9698",
   "metadata": {},
   "source": [
    "## Happiness - Female of color"
   ]
  },
  {
   "cell_type": "code",
   "execution_count": 68,
   "id": "c0730ba3-0296-42e5-843c-192b8cac100e",
   "metadata": {},
   "outputs": [
    {
     "name": "stderr",
     "output_type": "stream",
     "text": [
      "/tmp/ipykernel_11424/2691402293.py:11: FutureWarning: The default value of regex will change from True to False in a future version.\n",
      "  df_stack_single_word['emotion'] = df_stack_single_word['emotion'].str.replace('[^a-zA-Z]', '') # remove non-alphabetic characters\n"
     ]
    }
   ],
   "source": [
    "happiness_bfa_forced = photo_chart(df_emo_answers_forced, 'happiness',  0, df_forced_labels, emotion_st='happiness', n_mentions=2, photo=True)\n",
    "happiness_bfa_free = photo_chart(df_emo_answers_free, 'happiness',  0, df_free_labels, emotion_st='happiness', n_mentions=2)"
   ]
  },
  {
   "cell_type": "code",
   "execution_count": 69,
   "id": "3f98abfb-0268-499b-8929-1654a625f549",
   "metadata": {},
   "outputs": [],
   "source": [
    "path = '../../emo-ranking-next/happiness_bipoc_female/mturk/borda_lilucb_ranking_mturk.csv'\n",
    "\n",
    "happiness_bfa_next = next_chart_wrapper(path, emotion='happiness', head=10)"
   ]
  },
  {
   "cell_type": "code",
   "execution_count": 70,
   "id": "d9dd6ee3-a6f0-46db-89d3-76d4e18d8923",
   "metadata": {},
   "outputs": [
    {
     "data": {
      "text/html": [
       "\n",
       "<div id=\"altair-viz-dcd742d92ee34242a5c929244561a133\"></div>\n",
       "<script type=\"text/javascript\">\n",
       "  (function(spec, embedOpt){\n",
       "    let outputDiv = document.currentScript.previousElementSibling;\n",
       "    if (outputDiv.id !== \"altair-viz-dcd742d92ee34242a5c929244561a133\") {\n",
       "      outputDiv = document.getElementById(\"altair-viz-dcd742d92ee34242a5c929244561a133\");\n",
       "    }\n",
       "    const paths = {\n",
       "      \"vega\": \"https://cdn.jsdelivr.net/npm//vega@5?noext\",\n",
       "      \"vega-lib\": \"https://cdn.jsdelivr.net/npm//vega-lib?noext\",\n",
       "      \"vega-lite\": \"https://cdn.jsdelivr.net/npm//vega-lite@4.8.1?noext\",\n",
       "      \"vega-embed\": \"https://cdn.jsdelivr.net/npm//vega-embed@6?noext\",\n",
       "    };\n",
       "\n",
       "    function loadScript(lib) {\n",
       "      return new Promise(function(resolve, reject) {\n",
       "        var s = document.createElement('script');\n",
       "        s.src = paths[lib];\n",
       "        s.async = true;\n",
       "        s.onload = () => resolve(paths[lib]);\n",
       "        s.onerror = () => reject(`Error loading script: ${paths[lib]}`);\n",
       "        document.getElementsByTagName(\"head\")[0].appendChild(s);\n",
       "      });\n",
       "    }\n",
       "\n",
       "    function showError(err) {\n",
       "      outputDiv.innerHTML = `<div class=\"error\" style=\"color:red;\">${err}</div>`;\n",
       "      throw err;\n",
       "    }\n",
       "\n",
       "    function displayChart(vegaEmbed) {\n",
       "      vegaEmbed(outputDiv, spec, embedOpt)\n",
       "        .catch(err => showError(`Javascript Error: ${err.message}<br>This usually means there's a typo in your chart specification. See the javascript console for the full traceback.`));\n",
       "    }\n",
       "\n",
       "    if(typeof define === \"function\" && define.amd) {\n",
       "      requirejs.config({paths});\n",
       "      require([\"vega-embed\"], displayChart, err => showError(`Error loading script: ${err.message}`));\n",
       "    } else if (typeof vegaEmbed === \"function\") {\n",
       "      displayChart(vegaEmbed);\n",
       "    } else {\n",
       "      loadScript(\"vega\")\n",
       "        .then(() => loadScript(\"vega-lite\"))\n",
       "        .then(() => loadScript(\"vega-embed\"))\n",
       "        .catch(showError)\n",
       "        .then(() => displayChart(vegaEmbed));\n",
       "    }\n",
       "  })({\"config\": {\"view\": {\"continuousWidth\": 400, \"continuousHeight\": 300, \"strokeWidth\": 0}, \"axis\": {\"grid\": false, \"labelFontSize\": 12, \"titleFontSize\": 12}, \"title\": {\"dy\": -12}}, \"hconcat\": [{\"layer\": [{\"mark\": \"bar\", \"encoding\": {\"color\": {\"condition\": {\"value\": \"orange\", \"test\": \"(datum.emotion === 'happiness')\"}, \"value\": \"#0570b0\"}, \"x\": {\"type\": \"quantitative\", \"axis\": {\"format\": \".0%\"}, \"field\": \"percent\"}, \"y\": {\"type\": \"nominal\", \"field\": \"emotion\", \"sort\": \"-x\"}}, \"title\": \"Categories with 2 or more mentions | n= 49\"}, {\"mark\": {\"type\": \"text\", \"align\": \"left\", \"baseline\": \"middle\", \"dx\": 3, \"fontSize\": 12}, \"encoding\": {\"text\": {\"type\": \"quantitative\", \"field\": \"percent\", \"format\": \".1%\"}, \"x\": {\"type\": \"quantitative\", \"field\": \"percent\"}, \"y\": {\"type\": \"nominal\", \"field\": \"emotion\", \"sort\": \"-x\"}}}, {\"data\": {\"name\": \"data-ffb4e26fa5cbea5c5901d004d5675ad7\"}, \"mark\": {\"type\": \"image\", \"align\": \"center\", \"height\": 150, \"width\": 150, \"xOffset\": -100, \"yOffset\": 220}, \"encoding\": {\"url\": {\"type\": \"nominal\", \"field\": \"url\"}}}], \"data\": {\"name\": \"data-5c4153427123be5313eaabc2ad61e252\"}, \"width\": 200}, {\"layer\": [{\"mark\": \"bar\", \"encoding\": {\"color\": {\"condition\": {\"value\": \"orange\", \"test\": \"(datum.emotion === 'happiness')\"}, \"value\": \"#0570b0\"}, \"x\": {\"type\": \"quantitative\", \"axis\": {\"format\": \".0%\"}, \"field\": \"percent\"}, \"y\": {\"type\": \"nominal\", \"field\": \"emotion\", \"sort\": \"-x\"}}, \"title\": \"Categories with 2 or more mentions | n= 43\"}, {\"mark\": {\"type\": \"text\", \"align\": \"left\", \"baseline\": \"middle\", \"dx\": 3, \"fontSize\": 12}, \"encoding\": {\"text\": {\"type\": \"quantitative\", \"field\": \"percent\", \"format\": \".1%\"}, \"x\": {\"type\": \"quantitative\", \"field\": \"percent\"}, \"y\": {\"type\": \"nominal\", \"field\": \"emotion\", \"sort\": \"-x\"}}}], \"data\": {\"name\": \"data-1bf1827e1e204b7c2c64b48b6eb9583b\"}, \"width\": 200}, {\"layer\": [{\"mark\": \"bar\", \"encoding\": {\"color\": {\"condition\": {\"value\": \"orange\", \"test\": \"(datum.emotion === 'happiness')\"}, \"value\": \"#0570b0\"}, \"x\": {\"type\": \"quantitative\", \"axis\": {\"format\": \".0\", \"title\": \"Borda score(bar and number), Score precision (horizontal line)\"}, \"field\": \"borda score\"}, \"y\": {\"type\": \"nominal\", \"field\": \"emotion\", \"sort\": \"-x\"}}, \"title\": \"Dueling bandits ranking | Top: 10\"}, {\"mark\": {\"type\": \"text\", \"align\": \"left\", \"baseline\": \"middle\", \"dx\": 3, \"fontSize\": 12}, \"encoding\": {\"text\": {\"type\": \"quantitative\", \"field\": \"borda score\"}, \"x\": {\"type\": \"quantitative\", \"field\": \"upper\"}, \"y\": {\"type\": \"nominal\", \"field\": \"emotion\", \"sort\": {\"field\": \"borda score\", \"order\": \"descending\"}}}}, {\"mark\": {\"type\": \"rule\", \"color\": \"black\"}, \"encoding\": {\"x\": {\"type\": \"quantitative\", \"field\": \"lower\", \"scale\": {\"zero\": false}}, \"x2\": {\"field\": \"upper\"}, \"y\": {\"type\": \"nominal\", \"field\": \"emotion\", \"sort\": {\"field\": \"borda score\", \"order\": \"descending\"}}}}], \"data\": {\"name\": \"data-27473c53e01a1f8cd91a41df0cbcf1c6\"}, \"width\": 200}], \"title\": \"Female of color - happiness\", \"$schema\": \"https://vega.github.io/schema/vega-lite/v4.8.1.json\", \"datasets\": {\"data-5c4153427123be5313eaabc2ad61e252\": [{\"counts\": 28, \"emotion\": \"happiness\", \"percent\": 0.5714285714285714}, {\"counts\": 17, \"emotion\": \"neutral\", \"percent\": 0.3469387755102041}, {\"counts\": 2, \"emotion\": \"other\", \"percent\": 0.04081632653061224}, {\"counts\": 2, \"emotion\": \"disgust\", \"percent\": 0.04081632653061224}], \"data-ffb4e26fa5cbea5c5901d004d5675ad7\": [{\"url\": \"https://uwmadison.co1.qualtrics.com/ControlPanel/Graphic.php?IM=IM_5uIGlackw1zchRY\"}], \"data-1bf1827e1e204b7c2c64b48b6eb9583b\": [{\"counts\": 22, \"emotion\": \"happiness\", \"percent\": 0.5116279069767442}, {\"counts\": 6, \"emotion\": \"content\", \"percent\": 0.13953488372093023}, {\"counts\": 4, \"emotion\": \"calm\", \"percent\": 0.09302325581395349}, {\"counts\": 3, \"emotion\": \"none\", \"percent\": 0.06976744186046512}, {\"counts\": 2, \"emotion\": \"smiling\", \"percent\": 0.046511627906976744}, {\"counts\": 2, \"emotion\": \"neutral\", \"percent\": 0.046511627906976744}, {\"counts\": 2, \"emotion\": \"looking\", \"percent\": 0.046511627906976744}, {\"counts\": 2, \"emotion\": \"smile\", \"percent\": 0.046511627906976744}], \"data-27473c53e01a1f8cd91a41df0cbcf1c6\": [{\"Rank\": 0, \"emotion\": \"interested\", \"borda score\": 0.86, \"Precision\": 0.08, \"upper\": 0.9, \"lower\": 0.82}, {\"Rank\": 1, \"emotion\": \"friendly\", \"borda score\": 0.78, \"Precision\": 0.1, \"upper\": 0.8300000000000001, \"lower\": 0.73}, {\"Rank\": 2, \"emotion\": \"pleasant\", \"borda score\": 0.78, \"Precision\": 0.1, \"upper\": 0.8300000000000001, \"lower\": 0.73}, {\"Rank\": 3, \"emotion\": \"smile\", \"borda score\": 0.77, \"Precision\": 0.1, \"upper\": 0.8200000000000001, \"lower\": 0.72}, {\"Rank\": 4, \"emotion\": \"relaxed\", \"borda score\": 0.76, \"Precision\": 0.11, \"upper\": 0.8150000000000001, \"lower\": 0.705}, {\"Rank\": 5, \"emotion\": \"content\", \"borda score\": 0.75, \"Precision\": 0.11, \"upper\": 0.805, \"lower\": 0.695}, {\"Rank\": 6, \"emotion\": \"cheerful\", \"borda score\": 0.74, \"Precision\": 0.12, \"upper\": 0.8, \"lower\": 0.6799999999999999}, {\"Rank\": 7, \"emotion\": \"happiness\", \"borda score\": 0.69, \"Precision\": 0.14, \"upper\": 0.76, \"lower\": 0.6199999999999999}, {\"Rank\": 8, \"emotion\": \"carefree\", \"borda score\": 0.67, \"Precision\": 0.15, \"upper\": 0.745, \"lower\": 0.5950000000000001}, {\"Rank\": 9, \"emotion\": \"hopeful\", \"borda score\": 0.64, \"Precision\": 0.16, \"upper\": 0.72, \"lower\": 0.56}]}}, {\"mode\": \"vega-lite\"});\n",
       "</script>"
      ],
      "text/plain": [
       "alt.HConcatChart(...)"
      ]
     },
     "execution_count": 70,
     "metadata": {},
     "output_type": "execute_result"
    }
   ],
   "source": [
    "happiness_bfa_next_panel = (happiness_bfa_forced.properties(width=200) | happiness_bfa_free.properties(width=200) | happiness_bfa_next.properties(width=200)).properties(title=\"Female of color - happiness\")\n",
    "happiness_bfa_next_panel.configure_axis(grid=False, labelFontSize=12, titleFontSize=12).configure_view(strokeWidth=0).configure_title(dy=-12)"
   ]
  },
  {
   "cell_type": "code",
   "execution_count": 71,
   "id": "bbfb372d-ee57-452d-8330-55eac6e996e8",
   "metadata": {},
   "outputs": [],
   "source": [
    "save(happiness_bfa_next_panel, \"../../emotions_dashboard/data/happiness_bfa_next_panel_mturk.png\")"
   ]
  },
  {
   "cell_type": "markdown",
   "id": "1dfc9f32-426f-4e7e-979f-9d2698b3e145",
   "metadata": {},
   "source": [
    "## Happiness - Male of color"
   ]
  },
  {
   "cell_type": "code",
   "execution_count": 72,
   "id": "6e2ff933-e3d2-4078-bc8c-888938956532",
   "metadata": {},
   "outputs": [
    {
     "name": "stderr",
     "output_type": "stream",
     "text": [
      "/tmp/ipykernel_11424/2691402293.py:11: FutureWarning: The default value of regex will change from True to False in a future version.\n",
      "  df_stack_single_word['emotion'] = df_stack_single_word['emotion'].str.replace('[^a-zA-Z]', '') # remove non-alphabetic characters\n"
     ]
    }
   ],
   "source": [
    "happiness_bma_forced = photo_chart(df_emo_answers_forced, 'happiness',  2, df_forced_labels, emotion_st='happiness', n_mentions=2, photo=True, yoffset=220)\n",
    "happiness_bma_free = photo_chart(df_emo_answers_free, 'happiness',  2, df_free_labels, emotion_st='happiness', n_mentions=2)"
   ]
  },
  {
   "cell_type": "code",
   "execution_count": 73,
   "id": "fa6ffa8f-fdc1-4f18-9e22-d458fa9dceaf",
   "metadata": {},
   "outputs": [],
   "source": [
    "path = '../../emo-ranking-next/happiness_bipoc_male/mturk/borda_lilucb_ranking_mturk.csv'\n",
    "\n",
    "happiness_bma_next = next_chart_wrapper(path, emotion='happiness', head=35)"
   ]
  },
  {
   "cell_type": "code",
   "execution_count": 74,
   "id": "93061155-3bb2-4668-bdc5-72d2e3e88e0d",
   "metadata": {},
   "outputs": [
    {
     "data": {
      "text/html": [
       "\n",
       "<div id=\"altair-viz-28f39ef8db85482d8b1b4aebcf85f9b1\"></div>\n",
       "<script type=\"text/javascript\">\n",
       "  (function(spec, embedOpt){\n",
       "    let outputDiv = document.currentScript.previousElementSibling;\n",
       "    if (outputDiv.id !== \"altair-viz-28f39ef8db85482d8b1b4aebcf85f9b1\") {\n",
       "      outputDiv = document.getElementById(\"altair-viz-28f39ef8db85482d8b1b4aebcf85f9b1\");\n",
       "    }\n",
       "    const paths = {\n",
       "      \"vega\": \"https://cdn.jsdelivr.net/npm//vega@5?noext\",\n",
       "      \"vega-lib\": \"https://cdn.jsdelivr.net/npm//vega-lib?noext\",\n",
       "      \"vega-lite\": \"https://cdn.jsdelivr.net/npm//vega-lite@4.8.1?noext\",\n",
       "      \"vega-embed\": \"https://cdn.jsdelivr.net/npm//vega-embed@6?noext\",\n",
       "    };\n",
       "\n",
       "    function loadScript(lib) {\n",
       "      return new Promise(function(resolve, reject) {\n",
       "        var s = document.createElement('script');\n",
       "        s.src = paths[lib];\n",
       "        s.async = true;\n",
       "        s.onload = () => resolve(paths[lib]);\n",
       "        s.onerror = () => reject(`Error loading script: ${paths[lib]}`);\n",
       "        document.getElementsByTagName(\"head\")[0].appendChild(s);\n",
       "      });\n",
       "    }\n",
       "\n",
       "    function showError(err) {\n",
       "      outputDiv.innerHTML = `<div class=\"error\" style=\"color:red;\">${err}</div>`;\n",
       "      throw err;\n",
       "    }\n",
       "\n",
       "    function displayChart(vegaEmbed) {\n",
       "      vegaEmbed(outputDiv, spec, embedOpt)\n",
       "        .catch(err => showError(`Javascript Error: ${err.message}<br>This usually means there's a typo in your chart specification. See the javascript console for the full traceback.`));\n",
       "    }\n",
       "\n",
       "    if(typeof define === \"function\" && define.amd) {\n",
       "      requirejs.config({paths});\n",
       "      require([\"vega-embed\"], displayChart, err => showError(`Error loading script: ${err.message}`));\n",
       "    } else if (typeof vegaEmbed === \"function\") {\n",
       "      displayChart(vegaEmbed);\n",
       "    } else {\n",
       "      loadScript(\"vega\")\n",
       "        .then(() => loadScript(\"vega-lite\"))\n",
       "        .then(() => loadScript(\"vega-embed\"))\n",
       "        .catch(showError)\n",
       "        .then(() => displayChart(vegaEmbed));\n",
       "    }\n",
       "  })({\"config\": {\"view\": {\"continuousWidth\": 400, \"continuousHeight\": 300, \"strokeWidth\": 0}, \"axis\": {\"grid\": false, \"labelFontSize\": 12, \"titleFontSize\": 12}, \"title\": {\"dy\": -12}}, \"hconcat\": [{\"layer\": [{\"mark\": \"bar\", \"encoding\": {\"color\": {\"condition\": {\"value\": \"orange\", \"test\": \"(datum.emotion === 'happiness')\"}, \"value\": \"#0570b0\"}, \"x\": {\"type\": \"quantitative\", \"axis\": {\"format\": \".0%\"}, \"field\": \"percent\"}, \"y\": {\"type\": \"nominal\", \"field\": \"emotion\", \"sort\": \"-x\"}}, \"title\": \"Categories with 2 or more mentions | n= 50\"}, {\"mark\": {\"type\": \"text\", \"align\": \"left\", \"baseline\": \"middle\", \"dx\": 3, \"fontSize\": 12}, \"encoding\": {\"text\": {\"type\": \"quantitative\", \"field\": \"percent\", \"format\": \".1%\"}, \"x\": {\"type\": \"quantitative\", \"field\": \"percent\"}, \"y\": {\"type\": \"nominal\", \"field\": \"emotion\", \"sort\": \"-x\"}}}, {\"data\": {\"name\": \"data-aced2402712c673fb1749409a80789bd\"}, \"mark\": {\"type\": \"image\", \"align\": \"center\", \"height\": 150, \"width\": 150, \"xOffset\": -100, \"yOffset\": 220}, \"encoding\": {\"url\": {\"type\": \"nominal\", \"field\": \"url\"}}}], \"data\": {\"name\": \"data-dce462810528f79cf0ec75bb057d71e6\"}, \"width\": 200}, {\"layer\": [{\"mark\": \"bar\", \"encoding\": {\"color\": {\"condition\": {\"value\": \"orange\", \"test\": \"(datum.emotion === 'happiness')\"}, \"value\": \"#0570b0\"}, \"x\": {\"type\": \"quantitative\", \"axis\": {\"format\": \".0%\"}, \"field\": \"percent\"}, \"y\": {\"type\": \"nominal\", \"field\": \"emotion\", \"sort\": \"-x\"}}, \"title\": \"Categories with 2 or more mentions | n= 56\"}, {\"mark\": {\"type\": \"text\", \"align\": \"left\", \"baseline\": \"middle\", \"dx\": 3, \"fontSize\": 12}, \"encoding\": {\"text\": {\"type\": \"quantitative\", \"field\": \"percent\", \"format\": \".1%\"}, \"x\": {\"type\": \"quantitative\", \"field\": \"percent\"}, \"y\": {\"type\": \"nominal\", \"field\": \"emotion\", \"sort\": \"-x\"}}}], \"data\": {\"name\": \"data-63a8168d862f6bc26e977d6663569487\"}, \"width\": 200}, {\"layer\": [{\"mark\": \"bar\", \"encoding\": {\"color\": {\"condition\": {\"value\": \"orange\", \"test\": \"(datum.emotion === 'happiness')\"}, \"value\": \"#0570b0\"}, \"x\": {\"type\": \"quantitative\", \"axis\": {\"format\": \".0\", \"title\": \"Borda score(bar and number), Score precision (horizontal line)\"}, \"field\": \"borda score\"}, \"y\": {\"type\": \"nominal\", \"field\": \"emotion\", \"sort\": \"-x\"}}, \"title\": \"Dueling bandits ranking | Top: 35\"}, {\"mark\": {\"type\": \"text\", \"align\": \"left\", \"baseline\": \"middle\", \"dx\": 3, \"fontSize\": 12}, \"encoding\": {\"text\": {\"type\": \"quantitative\", \"field\": \"borda score\"}, \"x\": {\"type\": \"quantitative\", \"field\": \"upper\"}, \"y\": {\"type\": \"nominal\", \"field\": \"emotion\", \"sort\": {\"field\": \"borda score\", \"order\": \"descending\"}}}}, {\"mark\": {\"type\": \"rule\", \"color\": \"black\"}, \"encoding\": {\"x\": {\"type\": \"quantitative\", \"field\": \"lower\", \"scale\": {\"zero\": false}}, \"x2\": {\"field\": \"upper\"}, \"y\": {\"type\": \"nominal\", \"field\": \"emotion\", \"sort\": {\"field\": \"borda score\", \"order\": \"descending\"}}}}], \"data\": {\"name\": \"data-b787cdf25405226904cd6088fef5aab6\"}, \"width\": 200}], \"title\": \"Male of color - happiness\", \"$schema\": \"https://vega.github.io/schema/vega-lite/v4.8.1.json\", \"datasets\": {\"data-dce462810528f79cf0ec75bb057d71e6\": [{\"counts\": 40, \"emotion\": \"happiness\", \"percent\": 0.8}, {\"counts\": 5, \"emotion\": \"neutral\", \"percent\": 0.1}, {\"counts\": 3, \"emotion\": \"uncertain\", \"percent\": 0.06}, {\"counts\": 2, \"emotion\": \"other\", \"percent\": 0.04}], \"data-aced2402712c673fb1749409a80789bd\": [{\"url\": \"https://uwmadison.co1.qualtrics.com/ControlPanel/Graphic.php?IM=IM_aVKZzBmzWSoXCXY\"}], \"data-63a8168d862f6bc26e977d6663569487\": [{\"counts\": 31, \"emotion\": \"happiness\", \"percent\": 0.5535714285714286}, {\"counts\": 4, \"emotion\": \"amused\", \"percent\": 0.07142857142857142}, {\"counts\": 4, \"emotion\": \"joy\", \"percent\": 0.07142857142857142}, {\"counts\": 3, \"emotion\": \"smiling\", \"percent\": 0.05357142857142857}, {\"counts\": 2, \"emotion\": \"amusement\", \"percent\": 0.03571428571428571}, {\"counts\": 2, \"emotion\": \"smile\", \"percent\": 0.03571428571428571}, {\"counts\": 2, \"emotion\": \"active\", \"percent\": 0.03571428571428571}, {\"counts\": 2, \"emotion\": \"funny\", \"percent\": 0.03571428571428571}, {\"counts\": 2, \"emotion\": \"laughing\", \"percent\": 0.03571428571428571}, {\"counts\": 2, \"emotion\": \"smiled\", \"percent\": 0.03571428571428571}, {\"counts\": 2, \"emotion\": \"none\", \"percent\": 0.03571428571428571}], \"data-b787cdf25405226904cd6088fef5aab6\": [{\"Rank\": 0, \"emotion\": \"pleasant\", \"borda score\": 0.81, \"Precision\": 0.1, \"upper\": 0.8600000000000001, \"lower\": 0.76}, {\"Rank\": 1, \"emotion\": \"smiling\", \"borda score\": 0.76, \"Precision\": 0.11, \"upper\": 0.8150000000000001, \"lower\": 0.705}, {\"Rank\": 2, \"emotion\": \"smiled\", \"borda score\": 0.75, \"Precision\": 0.12, \"upper\": 0.81, \"lower\": 0.69}, {\"Rank\": 3, \"emotion\": \"friendly\", \"borda score\": 0.71, \"Precision\": 0.13, \"upper\": 0.7749999999999999, \"lower\": 0.645}, {\"Rank\": 4, \"emotion\": \"interested\", \"borda score\": 0.68, \"Precision\": 0.13, \"upper\": 0.7450000000000001, \"lower\": 0.615}, {\"Rank\": 5, \"emotion\": \"pleased\", \"borda score\": 0.67, \"Precision\": 0.12, \"upper\": 0.73, \"lower\": 0.6100000000000001}, {\"Rank\": 6, \"emotion\": \"cheerful\", \"borda score\": 0.65, \"Precision\": 0.14, \"upper\": 0.72, \"lower\": 0.5800000000000001}, {\"Rank\": 7, \"emotion\": \"amused\", \"borda score\": 0.62, \"Precision\": 0.17, \"upper\": 0.705, \"lower\": 0.535}, {\"Rank\": 8, \"emotion\": \"joyful\", \"borda score\": 0.62, \"Precision\": 0.11, \"upper\": 0.675, \"lower\": 0.565}, {\"Rank\": 9, \"emotion\": \"amusement\", \"borda score\": 0.61, \"Precision\": 0.17, \"upper\": 0.695, \"lower\": 0.525}, {\"Rank\": 10, \"emotion\": \"relaxed\", \"borda score\": 0.59, \"Precision\": 0.18, \"upper\": 0.6799999999999999, \"lower\": 0.5}, {\"Rank\": 11, \"emotion\": \"laughing\", \"borda score\": 0.59, \"Precision\": 0.19, \"upper\": 0.6849999999999999, \"lower\": 0.495}, {\"Rank\": 12, \"emotion\": \"surprise\", \"borda score\": 0.56, \"Precision\": 0.2, \"upper\": 0.66, \"lower\": 0.4600000000000001}, {\"Rank\": 13, \"emotion\": \"nice\", \"borda score\": 0.54, \"Precision\": 0.2, \"upper\": 0.64, \"lower\": 0.44000000000000006}, {\"Rank\": 14, \"emotion\": \"glad\", \"borda score\": 0.54, \"Precision\": 0.2, \"upper\": 0.64, \"lower\": 0.44000000000000006}, {\"Rank\": 15, \"emotion\": \"neutral\", \"borda score\": 0.52, \"Precision\": 0.22, \"upper\": 0.63, \"lower\": 0.41000000000000003}, {\"Rank\": 16, \"emotion\": \"fun\", \"borda score\": 0.52, \"Precision\": 0.22, \"upper\": 0.63, \"lower\": 0.41000000000000003}, {\"Rank\": 17, \"emotion\": \"love\", \"borda score\": 0.47, \"Precision\": 0.23, \"upper\": 0.585, \"lower\": 0.355}, {\"Rank\": 18, \"emotion\": \"good\", \"borda score\": 0.47, \"Precision\": 0.24, \"upper\": 0.59, \"lower\": 0.35}, {\"Rank\": 19, \"emotion\": \"confident\", \"borda score\": 0.47, \"Precision\": 0.24, \"upper\": 0.59, \"lower\": 0.35}, {\"Rank\": 20, \"emotion\": \"social\", \"borda score\": 0.47, \"Precision\": 0.24, \"upper\": 0.59, \"lower\": 0.35}, {\"Rank\": 21, \"emotion\": \"smile\", \"borda score\": 0.47, \"Precision\": 0.24, \"upper\": 0.59, \"lower\": 0.35}, {\"Rank\": 22, \"emotion\": \"eager\", \"borda score\": 0.44, \"Precision\": 0.25, \"upper\": 0.565, \"lower\": 0.315}, {\"Rank\": 23, \"emotion\": \"excited\", \"borda score\": 0.4, \"Precision\": 0.2, \"upper\": 0.5, \"lower\": 0.30000000000000004}, {\"Rank\": 24, \"emotion\": \"normal\", \"borda score\": 0.38, \"Precision\": 0.28, \"upper\": 0.52, \"lower\": 0.24}, {\"Rank\": 25, \"emotion\": \"cute\", \"borda score\": 0.33, \"Precision\": 0.29, \"upper\": 0.475, \"lower\": 0.18500000000000003}, {\"Rank\": 26, \"emotion\": \"hopeful\", \"borda score\": 0.33, \"Precision\": 0.29, \"upper\": 0.475, \"lower\": 0.18500000000000003}, {\"Rank\": 27, \"emotion\": \"content\", \"borda score\": 0.3, \"Precision\": 0.32, \"upper\": 0.45999999999999996, \"lower\": 0.13999999999999999}, {\"Rank\": 28, \"emotion\": \"joy\", \"borda score\": 0.3, \"Precision\": 0.32, \"upper\": 0.45999999999999996, \"lower\": 0.13999999999999999}, {\"Rank\": 29, \"emotion\": \"uncertain\", \"borda score\": 0.25, \"Precision\": 0.35, \"upper\": 0.425, \"lower\": 0.07500000000000001}, {\"Rank\": 30, \"emotion\": \"calm\", \"borda score\": 0.25, \"Precision\": 0.35, \"upper\": 0.425, \"lower\": 0.07500000000000001}, {\"Rank\": 31, \"emotion\": \"other\", \"borda score\": 0.25, \"Precision\": 0.35, \"upper\": 0.425, \"lower\": 0.07500000000000001}, {\"Rank\": 32, \"emotion\": \"hair\", \"borda score\": 0.25, \"Precision\": 0.35, \"upper\": 0.425, \"lower\": 0.07500000000000001}, {\"Rank\": 33, \"emotion\": \"active\", \"borda score\": 0.25, \"Precision\": 0.35, \"upper\": 0.425, \"lower\": 0.07500000000000001}, {\"Rank\": 34, \"emotion\": \"happiness\", \"borda score\": 0.25, \"Precision\": 0.35, \"upper\": 0.425, \"lower\": 0.07500000000000001}]}}, {\"mode\": \"vega-lite\"});\n",
       "</script>"
      ],
      "text/plain": [
       "alt.HConcatChart(...)"
      ]
     },
     "execution_count": 74,
     "metadata": {},
     "output_type": "execute_result"
    }
   ],
   "source": [
    "happiness_bma_next_panel = (happiness_bma_forced.properties(width=200) | happiness_bma_free.properties(width=200) | happiness_bma_next.properties(width=200)).properties(title=\"Male of color - happiness\")\n",
    "happiness_bma_next_panel.configure_axis(grid=False, labelFontSize=12, titleFontSize=12).configure_view(strokeWidth=0).configure_title(dy=-12)"
   ]
  },
  {
   "cell_type": "code",
   "execution_count": 75,
   "id": "a5c8fdf8-2a27-4540-8c7e-7eb373f9e358",
   "metadata": {},
   "outputs": [],
   "source": [
    "save(happiness_bma_next_panel, \"../../emotions_dashboard/data/happiness_bma_next_panel_mturk.png\")"
   ]
  },
  {
   "cell_type": "markdown",
   "id": "a4c10d7d-afdc-455a-8119-f0d8faf188f7",
   "metadata": {},
   "source": [
    "## Happiness - White female"
   ]
  },
  {
   "cell_type": "code",
   "execution_count": 76,
   "id": "005a677c-2d05-4cc2-a374-8af50b7239f5",
   "metadata": {},
   "outputs": [
    {
     "name": "stderr",
     "output_type": "stream",
     "text": [
      "/tmp/ipykernel_11424/2691402293.py:11: FutureWarning: The default value of regex will change from True to False in a future version.\n",
      "  df_stack_single_word['emotion'] = df_stack_single_word['emotion'].str.replace('[^a-zA-Z]', '') # remove non-alphabetic characters\n"
     ]
    }
   ],
   "source": [
    "happiness_wfa_forced = photo_chart(df_emo_answers_forced, 'happiness',  12, df_forced_labels, emotion_st='happiness', n_mentions=2, photo=True, yoffset=220)\n",
    "happiness_wfa_free = photo_chart(df_emo_answers_free, 'happiness',  12, df_free_labels, emotion_st='happiness', n_mentions=2)"
   ]
  },
  {
   "cell_type": "code",
   "execution_count": 77,
   "id": "67a2a738-27ef-48a9-9b19-be236ef12f56",
   "metadata": {},
   "outputs": [],
   "source": [
    "path = '../../emo-ranking-next/happiness_white_female/mturk/borda_lilucb_ranking_mturk.csv'\n",
    "\n",
    "happiness_wfa_next = next_chart_wrapper(path, emotion='happiness', head=10)"
   ]
  },
  {
   "cell_type": "code",
   "execution_count": 78,
   "id": "30df08cd-bf1e-4986-8514-18e4975465a5",
   "metadata": {},
   "outputs": [
    {
     "data": {
      "text/html": [
       "\n",
       "<div id=\"altair-viz-6efcedfb0da14614a350606fbccc6e47\"></div>\n",
       "<script type=\"text/javascript\">\n",
       "  (function(spec, embedOpt){\n",
       "    let outputDiv = document.currentScript.previousElementSibling;\n",
       "    if (outputDiv.id !== \"altair-viz-6efcedfb0da14614a350606fbccc6e47\") {\n",
       "      outputDiv = document.getElementById(\"altair-viz-6efcedfb0da14614a350606fbccc6e47\");\n",
       "    }\n",
       "    const paths = {\n",
       "      \"vega\": \"https://cdn.jsdelivr.net/npm//vega@5?noext\",\n",
       "      \"vega-lib\": \"https://cdn.jsdelivr.net/npm//vega-lib?noext\",\n",
       "      \"vega-lite\": \"https://cdn.jsdelivr.net/npm//vega-lite@4.8.1?noext\",\n",
       "      \"vega-embed\": \"https://cdn.jsdelivr.net/npm//vega-embed@6?noext\",\n",
       "    };\n",
       "\n",
       "    function loadScript(lib) {\n",
       "      return new Promise(function(resolve, reject) {\n",
       "        var s = document.createElement('script');\n",
       "        s.src = paths[lib];\n",
       "        s.async = true;\n",
       "        s.onload = () => resolve(paths[lib]);\n",
       "        s.onerror = () => reject(`Error loading script: ${paths[lib]}`);\n",
       "        document.getElementsByTagName(\"head\")[0].appendChild(s);\n",
       "      });\n",
       "    }\n",
       "\n",
       "    function showError(err) {\n",
       "      outputDiv.innerHTML = `<div class=\"error\" style=\"color:red;\">${err}</div>`;\n",
       "      throw err;\n",
       "    }\n",
       "\n",
       "    function displayChart(vegaEmbed) {\n",
       "      vegaEmbed(outputDiv, spec, embedOpt)\n",
       "        .catch(err => showError(`Javascript Error: ${err.message}<br>This usually means there's a typo in your chart specification. See the javascript console for the full traceback.`));\n",
       "    }\n",
       "\n",
       "    if(typeof define === \"function\" && define.amd) {\n",
       "      requirejs.config({paths});\n",
       "      require([\"vega-embed\"], displayChart, err => showError(`Error loading script: ${err.message}`));\n",
       "    } else if (typeof vegaEmbed === \"function\") {\n",
       "      displayChart(vegaEmbed);\n",
       "    } else {\n",
       "      loadScript(\"vega\")\n",
       "        .then(() => loadScript(\"vega-lite\"))\n",
       "        .then(() => loadScript(\"vega-embed\"))\n",
       "        .catch(showError)\n",
       "        .then(() => displayChart(vegaEmbed));\n",
       "    }\n",
       "  })({\"config\": {\"view\": {\"continuousWidth\": 400, \"continuousHeight\": 300, \"strokeWidth\": 0}, \"axis\": {\"grid\": false, \"labelFontSize\": 12, \"titleFontSize\": 12}, \"title\": {\"dy\": -12}}, \"hconcat\": [{\"layer\": [{\"mark\": \"bar\", \"encoding\": {\"color\": {\"condition\": {\"value\": \"orange\", \"test\": \"(datum.emotion === 'happiness')\"}, \"value\": \"#0570b0\"}, \"x\": {\"type\": \"quantitative\", \"axis\": {\"format\": \".0%\"}, \"field\": \"percent\"}, \"y\": {\"type\": \"nominal\", \"field\": \"emotion\", \"sort\": \"-x\"}}, \"title\": \"Categories with 2 or more mentions | n= 51\"}, {\"mark\": {\"type\": \"text\", \"align\": \"left\", \"baseline\": \"middle\", \"dx\": 3, \"fontSize\": 12}, \"encoding\": {\"text\": {\"type\": \"quantitative\", \"field\": \"percent\", \"format\": \".1%\"}, \"x\": {\"type\": \"quantitative\", \"field\": \"percent\"}, \"y\": {\"type\": \"nominal\", \"field\": \"emotion\", \"sort\": \"-x\"}}}, {\"data\": {\"name\": \"data-4b8dcb824147c85761e5aae0c74dffe9\"}, \"mark\": {\"type\": \"image\", \"align\": \"center\", \"height\": 150, \"width\": 150, \"xOffset\": -100, \"yOffset\": 220}, \"encoding\": {\"url\": {\"type\": \"nominal\", \"field\": \"url\"}}}], \"data\": {\"name\": \"data-2e738bcfd96b9786102b0aee52de27f8\"}, \"width\": 200}, {\"layer\": [{\"mark\": \"bar\", \"encoding\": {\"color\": {\"condition\": {\"value\": \"orange\", \"test\": \"(datum.emotion === 'happiness')\"}, \"value\": \"#0570b0\"}, \"x\": {\"type\": \"quantitative\", \"axis\": {\"format\": \".0%\"}, \"field\": \"percent\"}, \"y\": {\"type\": \"nominal\", \"field\": \"emotion\", \"sort\": \"-x\"}}, \"title\": \"Categories with 2 or more mentions | n= 47\"}, {\"mark\": {\"type\": \"text\", \"align\": \"left\", \"baseline\": \"middle\", \"dx\": 3, \"fontSize\": 12}, \"encoding\": {\"text\": {\"type\": \"quantitative\", \"field\": \"percent\", \"format\": \".1%\"}, \"x\": {\"type\": \"quantitative\", \"field\": \"percent\"}, \"y\": {\"type\": \"nominal\", \"field\": \"emotion\", \"sort\": \"-x\"}}}], \"data\": {\"name\": \"data-6eac5cd1d50efdceb77a22d325ee57f4\"}, \"width\": 200}, {\"layer\": [{\"mark\": \"bar\", \"encoding\": {\"color\": {\"condition\": {\"value\": \"orange\", \"test\": \"(datum.emotion === 'happiness')\"}, \"value\": \"#0570b0\"}, \"x\": {\"type\": \"quantitative\", \"axis\": {\"format\": \".0\", \"title\": \"Borda score(bar and number), Score precision (horizontal line)\"}, \"field\": \"borda score\"}, \"y\": {\"type\": \"nominal\", \"field\": \"emotion\", \"sort\": \"-x\"}}, \"title\": \"Dueling bandits ranking | Top: 10\"}, {\"mark\": {\"type\": \"text\", \"align\": \"left\", \"baseline\": \"middle\", \"dx\": 3, \"fontSize\": 12}, \"encoding\": {\"text\": {\"type\": \"quantitative\", \"field\": \"borda score\"}, \"x\": {\"type\": \"quantitative\", \"field\": \"upper\"}, \"y\": {\"type\": \"nominal\", \"field\": \"emotion\", \"sort\": {\"field\": \"borda score\", \"order\": \"descending\"}}}}, {\"mark\": {\"type\": \"rule\", \"color\": \"black\"}, \"encoding\": {\"x\": {\"type\": \"quantitative\", \"field\": \"lower\", \"scale\": {\"zero\": false}}, \"x2\": {\"field\": \"upper\"}, \"y\": {\"type\": \"nominal\", \"field\": \"emotion\", \"sort\": {\"field\": \"borda score\", \"order\": \"descending\"}}}}], \"data\": {\"name\": \"data-83739a0faeb688d87505e0093b3a1490\"}, \"width\": 200}], \"title\": \"White female - happiness\", \"$schema\": \"https://vega.github.io/schema/vega-lite/v4.8.1.json\", \"datasets\": {\"data-2e738bcfd96b9786102b0aee52de27f8\": [{\"counts\": 43, \"emotion\": \"happiness\", \"percent\": 0.8431372549019608}, {\"counts\": 5, \"emotion\": \"neutral\", \"percent\": 0.09803921568627451}, {\"counts\": 3, \"emotion\": \"surprise\", \"percent\": 0.058823529411764705}], \"data-4b8dcb824147c85761e5aae0c74dffe9\": [{\"url\": \"https://uwmadison.co1.qualtrics.com/ControlPanel/Graphic.php?IM=IM_3sodPsRm6g6as06\"}], \"data-6eac5cd1d50efdceb77a22d325ee57f4\": [{\"counts\": 23, \"emotion\": \"happiness\", \"percent\": 0.48936170212765956}, {\"counts\": 5, \"emotion\": \"content\", \"percent\": 0.10638297872340426}, {\"counts\": 4, \"emotion\": \"none\", \"percent\": 0.0851063829787234}, {\"counts\": 3, \"emotion\": \"pleased\", \"percent\": 0.06382978723404255}, {\"counts\": 2, \"emotion\": \"smug\", \"percent\": 0.0425531914893617}, {\"counts\": 2, \"emotion\": \"neutral\", \"percent\": 0.0425531914893617}, {\"counts\": 2, \"emotion\": \"smugness\", \"percent\": 0.0425531914893617}, {\"counts\": 2, \"emotion\": \"smile\", \"percent\": 0.0425531914893617}, {\"counts\": 2, \"emotion\": \"calm\", \"percent\": 0.0425531914893617}, {\"counts\": 2, \"emotion\": \"amused\", \"percent\": 0.0425531914893617}], \"data-83739a0faeb688d87505e0093b3a1490\": [{\"Rank\": 0, \"emotion\": \"smiling\", \"borda score\": 0.87, \"Precision\": 0.09, \"upper\": 0.915, \"lower\": 0.825}, {\"Rank\": 1, \"emotion\": \"amused\", \"borda score\": 0.86, \"Precision\": 0.09, \"upper\": 0.905, \"lower\": 0.815}, {\"Rank\": 2, \"emotion\": \"amusement\", \"borda score\": 0.85, \"Precision\": 0.1, \"upper\": 0.9, \"lower\": 0.7999999999999999}, {\"Rank\": 3, \"emotion\": \"neutral\", \"borda score\": 0.81, \"Precision\": 0.11, \"upper\": 0.8650000000000001, \"lower\": 0.755}, {\"Rank\": 4, \"emotion\": \"calm\", \"borda score\": 0.77, \"Precision\": 0.13, \"upper\": 0.835, \"lower\": 0.7050000000000001}, {\"Rank\": 5, \"emotion\": \"smug\", \"borda score\": 0.76, \"Precision\": 0.14, \"upper\": 0.8300000000000001, \"lower\": 0.69}, {\"Rank\": 6, \"emotion\": \"glad\", \"borda score\": 0.75, \"Precision\": 0.14, \"upper\": 0.8200000000000001, \"lower\": 0.6799999999999999}, {\"Rank\": 7, \"emotion\": \"laughing\", \"borda score\": 0.75, \"Precision\": 0.14, \"upper\": 0.8200000000000001, \"lower\": 0.6799999999999999}, {\"Rank\": 8, \"emotion\": \"cheerful\", \"borda score\": 0.73, \"Precision\": 0.14, \"upper\": 0.8, \"lower\": 0.6599999999999999}, {\"Rank\": 9, \"emotion\": \"happiness\", \"borda score\": 0.73, \"Precision\": 0.15, \"upper\": 0.8049999999999999, \"lower\": 0.655}]}}, {\"mode\": \"vega-lite\"});\n",
       "</script>"
      ],
      "text/plain": [
       "alt.HConcatChart(...)"
      ]
     },
     "execution_count": 78,
     "metadata": {},
     "output_type": "execute_result"
    }
   ],
   "source": [
    "happiness_wfa_next_panel = (happiness_wfa_forced.properties(width=200) | happiness_wfa_free.properties(width=200) | happiness_wfa_next.properties(width=200)).properties(title=\"White female - happiness\")\n",
    "happiness_wfa_next_panel.configure_axis(grid=False, labelFontSize=12, titleFontSize=12).configure_view(strokeWidth=0).configure_title(dy=-12)"
   ]
  },
  {
   "cell_type": "code",
   "execution_count": 79,
   "id": "f052edbb-f080-483b-ba70-410b60202e1a",
   "metadata": {},
   "outputs": [],
   "source": [
    "save(happiness_wfa_next_panel, \"../../emotions_dashboard/data/happiness_wfa_next_panel_mturk.png\")"
   ]
  },
  {
   "cell_type": "markdown",
   "id": "88413ff1-839d-41f5-a484-36643c0180f2",
   "metadata": {},
   "source": [
    "## Happiness - White male"
   ]
  },
  {
   "cell_type": "code",
   "execution_count": 80,
   "id": "48cba59b-2224-4a73-ac3c-d05a9b6e7afb",
   "metadata": {},
   "outputs": [
    {
     "name": "stderr",
     "output_type": "stream",
     "text": [
      "/tmp/ipykernel_11424/2691402293.py:11: FutureWarning: The default value of regex will change from True to False in a future version.\n",
      "  df_stack_single_word['emotion'] = df_stack_single_word['emotion'].str.replace('[^a-zA-Z]', '') # remove non-alphabetic characters\n"
     ]
    }
   ],
   "source": [
    "happiness_wma_forced = photo_chart(df_emo_answers_forced, 'happiness',  22, df_forced_labels, emotion_st='happiness', n_mentions=2, photo=True, yoffset=220)\n",
    "happiness_wma_free = photo_chart(df_emo_answers_free, 'happiness',  22, df_free_labels, emotion_st='happiness', n_mentions=2)\n",
    "\n",
    "path = '../../emo-ranking-next/happiness_white_male/mturk/borda_lilucb_ranking_mturk.csv'\n",
    "\n",
    "happiness_wma_next = next_chart_wrapper(path, emotion='happiness', head=10)"
   ]
  },
  {
   "cell_type": "code",
   "execution_count": 81,
   "id": "a74ac7a3-b0f2-4df6-8204-516ce4e5e70e",
   "metadata": {},
   "outputs": [
    {
     "data": {
      "text/html": [
       "\n",
       "<div id=\"altair-viz-1f770f4715444b70813ee3bfa940b941\"></div>\n",
       "<script type=\"text/javascript\">\n",
       "  (function(spec, embedOpt){\n",
       "    let outputDiv = document.currentScript.previousElementSibling;\n",
       "    if (outputDiv.id !== \"altair-viz-1f770f4715444b70813ee3bfa940b941\") {\n",
       "      outputDiv = document.getElementById(\"altair-viz-1f770f4715444b70813ee3bfa940b941\");\n",
       "    }\n",
       "    const paths = {\n",
       "      \"vega\": \"https://cdn.jsdelivr.net/npm//vega@5?noext\",\n",
       "      \"vega-lib\": \"https://cdn.jsdelivr.net/npm//vega-lib?noext\",\n",
       "      \"vega-lite\": \"https://cdn.jsdelivr.net/npm//vega-lite@4.8.1?noext\",\n",
       "      \"vega-embed\": \"https://cdn.jsdelivr.net/npm//vega-embed@6?noext\",\n",
       "    };\n",
       "\n",
       "    function loadScript(lib) {\n",
       "      return new Promise(function(resolve, reject) {\n",
       "        var s = document.createElement('script');\n",
       "        s.src = paths[lib];\n",
       "        s.async = true;\n",
       "        s.onload = () => resolve(paths[lib]);\n",
       "        s.onerror = () => reject(`Error loading script: ${paths[lib]}`);\n",
       "        document.getElementsByTagName(\"head\")[0].appendChild(s);\n",
       "      });\n",
       "    }\n",
       "\n",
       "    function showError(err) {\n",
       "      outputDiv.innerHTML = `<div class=\"error\" style=\"color:red;\">${err}</div>`;\n",
       "      throw err;\n",
       "    }\n",
       "\n",
       "    function displayChart(vegaEmbed) {\n",
       "      vegaEmbed(outputDiv, spec, embedOpt)\n",
       "        .catch(err => showError(`Javascript Error: ${err.message}<br>This usually means there's a typo in your chart specification. See the javascript console for the full traceback.`));\n",
       "    }\n",
       "\n",
       "    if(typeof define === \"function\" && define.amd) {\n",
       "      requirejs.config({paths});\n",
       "      require([\"vega-embed\"], displayChart, err => showError(`Error loading script: ${err.message}`));\n",
       "    } else if (typeof vegaEmbed === \"function\") {\n",
       "      displayChart(vegaEmbed);\n",
       "    } else {\n",
       "      loadScript(\"vega\")\n",
       "        .then(() => loadScript(\"vega-lite\"))\n",
       "        .then(() => loadScript(\"vega-embed\"))\n",
       "        .catch(showError)\n",
       "        .then(() => displayChart(vegaEmbed));\n",
       "    }\n",
       "  })({\"config\": {\"view\": {\"continuousWidth\": 400, \"continuousHeight\": 300, \"strokeWidth\": 0}, \"axis\": {\"grid\": false, \"labelFontSize\": 12, \"titleFontSize\": 12}, \"title\": {\"dy\": -12}}, \"hconcat\": [{\"layer\": [{\"mark\": \"bar\", \"encoding\": {\"color\": {\"condition\": {\"value\": \"orange\", \"test\": \"(datum.emotion === 'happiness')\"}, \"value\": \"#0570b0\"}, \"x\": {\"type\": \"quantitative\", \"axis\": {\"format\": \".0%\"}, \"field\": \"percent\"}, \"y\": {\"type\": \"nominal\", \"field\": \"emotion\", \"sort\": \"-x\"}}, \"title\": \"Categories with 2 or more mentions | n= 50\"}, {\"mark\": {\"type\": \"text\", \"align\": \"left\", \"baseline\": \"middle\", \"dx\": 3, \"fontSize\": 12}, \"encoding\": {\"text\": {\"type\": \"quantitative\", \"field\": \"percent\", \"format\": \".1%\"}, \"x\": {\"type\": \"quantitative\", \"field\": \"percent\"}, \"y\": {\"type\": \"nominal\", \"field\": \"emotion\", \"sort\": \"-x\"}}}, {\"data\": {\"name\": \"data-56265aee482bd2cc13c775b990f75adc\"}, \"mark\": {\"type\": \"image\", \"align\": \"center\", \"height\": 150, \"width\": 150, \"xOffset\": -100, \"yOffset\": 220}, \"encoding\": {\"url\": {\"type\": \"nominal\", \"field\": \"url\"}}}], \"data\": {\"name\": \"data-eb5ce72d2f5c990f52a369785998032c\"}, \"width\": 200}, {\"layer\": [{\"mark\": \"bar\", \"encoding\": {\"color\": {\"condition\": {\"value\": \"orange\", \"test\": \"(datum.emotion === 'happiness')\"}, \"value\": \"#0570b0\"}, \"x\": {\"type\": \"quantitative\", \"axis\": {\"format\": \".0%\"}, \"field\": \"percent\"}, \"y\": {\"type\": \"nominal\", \"field\": \"emotion\", \"sort\": \"-x\"}}, \"title\": \"Categories with 2 or more mentions | n= 54\"}, {\"mark\": {\"type\": \"text\", \"align\": \"left\", \"baseline\": \"middle\", \"dx\": 3, \"fontSize\": 12}, \"encoding\": {\"text\": {\"type\": \"quantitative\", \"field\": \"percent\", \"format\": \".1%\"}, \"x\": {\"type\": \"quantitative\", \"field\": \"percent\"}, \"y\": {\"type\": \"nominal\", \"field\": \"emotion\", \"sort\": \"-x\"}}}], \"data\": {\"name\": \"data-080d590ba83db61dc954ca771beabbae\"}, \"width\": 200}, {\"layer\": [{\"mark\": \"bar\", \"encoding\": {\"color\": {\"condition\": {\"value\": \"orange\", \"test\": \"(datum.emotion === 'happiness')\"}, \"value\": \"#0570b0\"}, \"x\": {\"type\": \"quantitative\", \"axis\": {\"format\": \".0\", \"title\": \"Borda score(bar and number), Score precision (horizontal line)\"}, \"field\": \"borda score\"}, \"y\": {\"type\": \"nominal\", \"field\": \"emotion\", \"sort\": \"-x\"}}, \"title\": \"Dueling bandits ranking | Top: 10\"}, {\"mark\": {\"type\": \"text\", \"align\": \"left\", \"baseline\": \"middle\", \"dx\": 3, \"fontSize\": 12}, \"encoding\": {\"text\": {\"type\": \"quantitative\", \"field\": \"borda score\"}, \"x\": {\"type\": \"quantitative\", \"field\": \"upper\"}, \"y\": {\"type\": \"nominal\", \"field\": \"emotion\", \"sort\": {\"field\": \"borda score\", \"order\": \"descending\"}}}}, {\"mark\": {\"type\": \"rule\", \"color\": \"black\"}, \"encoding\": {\"x\": {\"type\": \"quantitative\", \"field\": \"lower\", \"scale\": {\"zero\": false}}, \"x2\": {\"field\": \"upper\"}, \"y\": {\"type\": \"nominal\", \"field\": \"emotion\", \"sort\": {\"field\": \"borda score\", \"order\": \"descending\"}}}}], \"data\": {\"name\": \"data-00099912a09ef46719a3a2b882b96244\"}, \"width\": 200}], \"title\": \"White male - happiness\", \"$schema\": \"https://vega.github.io/schema/vega-lite/v4.8.1.json\", \"datasets\": {\"data-eb5ce72d2f5c990f52a369785998032c\": [{\"counts\": 46, \"emotion\": \"happiness\", \"percent\": 0.92}, {\"counts\": 2, \"emotion\": \"other\", \"percent\": 0.04}, {\"counts\": 2, \"emotion\": \"neutral\", \"percent\": 0.04}], \"data-56265aee482bd2cc13c775b990f75adc\": [{\"url\": \"https://uwmadison.co1.qualtrics.com/ControlPanel/Graphic.php?IM=IM_3NR7AkPxBUkdOQe\"}], \"data-080d590ba83db61dc954ca771beabbae\": [{\"counts\": 39, \"emotion\": \"happiness\", \"percent\": 0.7222222222222222}, {\"counts\": 7, \"emotion\": \"none\", \"percent\": 0.12962962962962962}, {\"counts\": 5, \"emotion\": \"joy\", \"percent\": 0.09259259259259259}, {\"counts\": 3, \"emotion\": \"smiling\", \"percent\": 0.05555555555555555}], \"data-00099912a09ef46719a3a2b882b96244\": [{\"Rank\": 0, \"emotion\": \"smiling\", \"borda score\": 0.89, \"Precision\": 0.07, \"upper\": 0.925, \"lower\": 0.855}, {\"Rank\": 1, \"emotion\": \"happiness\", \"borda score\": 0.82, \"Precision\": 0.1, \"upper\": 0.87, \"lower\": 0.7699999999999999}, {\"Rank\": 2, \"emotion\": \"cute\", \"borda score\": 0.81, \"Precision\": 0.14, \"upper\": 0.8800000000000001, \"lower\": 0.74}, {\"Rank\": 3, \"emotion\": \"joy\", \"borda score\": 0.8, \"Precision\": 0.1, \"upper\": 0.8500000000000001, \"lower\": 0.75}, {\"Rank\": 4, \"emotion\": \"laughing\", \"borda score\": 0.79, \"Precision\": 0.11, \"upper\": 0.8450000000000001, \"lower\": 0.735}, {\"Rank\": 5, \"emotion\": \"content\", \"borda score\": 0.78, \"Precision\": 0.11, \"upper\": 0.8350000000000001, \"lower\": 0.725}, {\"Rank\": 6, \"emotion\": \"glad\", \"borda score\": 0.71, \"Precision\": 0.14, \"upper\": 0.78, \"lower\": 0.6399999999999999}, {\"Rank\": 7, \"emotion\": \"cheerful\", \"borda score\": 0.7, \"Precision\": 0.15, \"upper\": 0.7749999999999999, \"lower\": 0.625}, {\"Rank\": 8, \"emotion\": \"relaxed\", \"borda score\": 0.67, \"Precision\": 0.16, \"upper\": 0.75, \"lower\": 0.5900000000000001}, {\"Rank\": 9, \"emotion\": \"amused\", \"borda score\": 0.66, \"Precision\": 0.17, \"upper\": 0.745, \"lower\": 0.5750000000000001}]}}, {\"mode\": \"vega-lite\"});\n",
       "</script>"
      ],
      "text/plain": [
       "alt.HConcatChart(...)"
      ]
     },
     "execution_count": 81,
     "metadata": {},
     "output_type": "execute_result"
    }
   ],
   "source": [
    "happiness_wma_next_panel = (happiness_wma_forced.properties(width=200) | happiness_wma_free.properties(width=200) | happiness_wma_next.properties(width=200)).properties(title=\"White male - happiness\")\n",
    "happiness_wma_next_panel.configure_axis(grid=False, labelFontSize=12, titleFontSize=12).configure_view(strokeWidth=0).configure_title(dy=-12)"
   ]
  },
  {
   "cell_type": "code",
   "execution_count": 82,
   "id": "bcd890b3-fc68-47d1-96b0-b31b98363145",
   "metadata": {},
   "outputs": [],
   "source": [
    "save(happiness_wma_next_panel, \"../../emotions_dashboard/data/happiness_wma_next_panel_mturk.png\")"
   ]
  },
  {
   "cell_type": "code",
   "execution_count": 83,
   "id": "c8ae09d2-94d4-4446-8802-d6839247986d",
   "metadata": {},
   "outputs": [],
   "source": [
    "## JOIN PANELS\n",
    "happiness_panel = (happiness_bfa_next_panel & happiness_bma_next_panel & happiness_wfa_next_panel & happiness_wma_next_panel).configure_axis(grid=False, labelFontSize=12, titleFontSize=12).configure_view(strokeWidth=0)\n",
    "save(happiness_panel, \"/mnt/c/Users/pablo/Desktop/dissertation-docs/images/happiness_panel_mturk.png\")"
   ]
  },
  {
   "cell_type": "markdown",
   "id": "e9b780a5-f048-4d7b-9474-e5e6b8557435",
   "metadata": {},
   "source": [
    "## Sadness - Female of color"
   ]
  },
  {
   "cell_type": "code",
   "execution_count": 84,
   "id": "2e0a1119-6550-4e60-a4ad-48583da1ae65",
   "metadata": {},
   "outputs": [
    {
     "name": "stderr",
     "output_type": "stream",
     "text": [
      "/tmp/ipykernel_11424/2691402293.py:11: FutureWarning: The default value of regex will change from True to False in a future version.\n",
      "  df_stack_single_word['emotion'] = df_stack_single_word['emotion'].str.replace('[^a-zA-Z]', '') # remove non-alphabetic characters\n"
     ]
    }
   ],
   "source": [
    "sadness_bfa_forced = photo_chart(df_emo_answers_forced, 'sadness',  0, df_forced_labels, emotion_st='sadness', n_mentions=2, photo=True)\n",
    "sadness_bfa_free = photo_chart(df_emo_answers_free, 'sadness',  0, df_free_labels, emotion_st='sadness', n_mentions=2)\n",
    "\n",
    "path = '../../emo-ranking-next/sadness_bipoc_female/mturk/borda_lilucb_ranking_mturk.csv'\n",
    "\n",
    "sadness_bfa_next = next_chart_wrapper(path, emotion='sadness', head=10)"
   ]
  },
  {
   "cell_type": "code",
   "execution_count": 85,
   "id": "545b2658-8630-4ce5-af36-d5447e838704",
   "metadata": {},
   "outputs": [
    {
     "data": {
      "text/html": [
       "\n",
       "<div id=\"altair-viz-d3b636d70c144fcdbdcf5f3820fe5988\"></div>\n",
       "<script type=\"text/javascript\">\n",
       "  (function(spec, embedOpt){\n",
       "    let outputDiv = document.currentScript.previousElementSibling;\n",
       "    if (outputDiv.id !== \"altair-viz-d3b636d70c144fcdbdcf5f3820fe5988\") {\n",
       "      outputDiv = document.getElementById(\"altair-viz-d3b636d70c144fcdbdcf5f3820fe5988\");\n",
       "    }\n",
       "    const paths = {\n",
       "      \"vega\": \"https://cdn.jsdelivr.net/npm//vega@5?noext\",\n",
       "      \"vega-lib\": \"https://cdn.jsdelivr.net/npm//vega-lib?noext\",\n",
       "      \"vega-lite\": \"https://cdn.jsdelivr.net/npm//vega-lite@4.8.1?noext\",\n",
       "      \"vega-embed\": \"https://cdn.jsdelivr.net/npm//vega-embed@6?noext\",\n",
       "    };\n",
       "\n",
       "    function loadScript(lib) {\n",
       "      return new Promise(function(resolve, reject) {\n",
       "        var s = document.createElement('script');\n",
       "        s.src = paths[lib];\n",
       "        s.async = true;\n",
       "        s.onload = () => resolve(paths[lib]);\n",
       "        s.onerror = () => reject(`Error loading script: ${paths[lib]}`);\n",
       "        document.getElementsByTagName(\"head\")[0].appendChild(s);\n",
       "      });\n",
       "    }\n",
       "\n",
       "    function showError(err) {\n",
       "      outputDiv.innerHTML = `<div class=\"error\" style=\"color:red;\">${err}</div>`;\n",
       "      throw err;\n",
       "    }\n",
       "\n",
       "    function displayChart(vegaEmbed) {\n",
       "      vegaEmbed(outputDiv, spec, embedOpt)\n",
       "        .catch(err => showError(`Javascript Error: ${err.message}<br>This usually means there's a typo in your chart specification. See the javascript console for the full traceback.`));\n",
       "    }\n",
       "\n",
       "    if(typeof define === \"function\" && define.amd) {\n",
       "      requirejs.config({paths});\n",
       "      require([\"vega-embed\"], displayChart, err => showError(`Error loading script: ${err.message}`));\n",
       "    } else if (typeof vegaEmbed === \"function\") {\n",
       "      displayChart(vegaEmbed);\n",
       "    } else {\n",
       "      loadScript(\"vega\")\n",
       "        .then(() => loadScript(\"vega-lite\"))\n",
       "        .then(() => loadScript(\"vega-embed\"))\n",
       "        .catch(showError)\n",
       "        .then(() => displayChart(vegaEmbed));\n",
       "    }\n",
       "  })({\"config\": {\"view\": {\"continuousWidth\": 400, \"continuousHeight\": 300, \"strokeWidth\": 0}, \"axis\": {\"grid\": false, \"labelFontSize\": 12, \"titleFontSize\": 12}, \"title\": {\"dy\": -12}}, \"hconcat\": [{\"layer\": [{\"mark\": \"bar\", \"encoding\": {\"color\": {\"condition\": {\"value\": \"orange\", \"test\": \"(datum.emotion === 'sadness')\"}, \"value\": \"#0570b0\"}, \"x\": {\"type\": \"quantitative\", \"axis\": {\"format\": \".0%\"}, \"field\": \"percent\"}, \"y\": {\"type\": \"nominal\", \"field\": \"emotion\", \"sort\": \"-x\"}}, \"title\": \"Categories with 2 or more mentions | n= 49\"}, {\"mark\": {\"type\": \"text\", \"align\": \"left\", \"baseline\": \"middle\", \"dx\": 3, \"fontSize\": 12}, \"encoding\": {\"text\": {\"type\": \"quantitative\", \"field\": \"percent\", \"format\": \".1%\"}, \"x\": {\"type\": \"quantitative\", \"field\": \"percent\"}, \"y\": {\"type\": \"nominal\", \"field\": \"emotion\", \"sort\": \"-x\"}}}, {\"data\": {\"name\": \"data-d563a92ed207f398ca3c200101cde81e\"}, \"mark\": {\"type\": \"image\", \"align\": \"center\", \"height\": 150, \"width\": 150, \"xOffset\": -100, \"yOffset\": 220}, \"encoding\": {\"url\": {\"type\": \"nominal\", \"field\": \"url\"}}}], \"data\": {\"name\": \"data-3a4b7c25657289f6fb65d3339be57f36\"}, \"width\": 200}, {\"layer\": [{\"mark\": \"bar\", \"encoding\": {\"color\": {\"condition\": {\"value\": \"orange\", \"test\": \"(datum.emotion === 'sadness')\"}, \"value\": \"#0570b0\"}, \"x\": {\"type\": \"quantitative\", \"axis\": {\"format\": \".0%\"}, \"field\": \"percent\"}, \"y\": {\"type\": \"nominal\", \"field\": \"emotion\", \"sort\": \"-x\"}}, \"title\": \"Categories with 2 or more mentions | n= 66\"}, {\"mark\": {\"type\": \"text\", \"align\": \"left\", \"baseline\": \"middle\", \"dx\": 3, \"fontSize\": 12}, \"encoding\": {\"text\": {\"type\": \"quantitative\", \"field\": \"percent\", \"format\": \".1%\"}, \"x\": {\"type\": \"quantitative\", \"field\": \"percent\"}, \"y\": {\"type\": \"nominal\", \"field\": \"emotion\", \"sort\": \"-x\"}}}], \"data\": {\"name\": \"data-9b16fdab256e5fbec15f78e8b7fb8cd8\"}, \"width\": 200}, {\"layer\": [{\"mark\": \"bar\", \"encoding\": {\"color\": {\"condition\": {\"value\": \"orange\", \"test\": \"(datum.emotion === 'sadness')\"}, \"value\": \"#0570b0\"}, \"x\": {\"type\": \"quantitative\", \"axis\": {\"format\": \".0\", \"title\": \"Borda score(bar and number), Score precision (horizontal line)\"}, \"field\": \"borda score\"}, \"y\": {\"type\": \"nominal\", \"field\": \"emotion\", \"sort\": \"-x\"}}, \"title\": \"Dueling bandits ranking | Top: 10\"}, {\"mark\": {\"type\": \"text\", \"align\": \"left\", \"baseline\": \"middle\", \"dx\": 3, \"fontSize\": 12}, \"encoding\": {\"text\": {\"type\": \"quantitative\", \"field\": \"borda score\"}, \"x\": {\"type\": \"quantitative\", \"field\": \"upper\"}, \"y\": {\"type\": \"nominal\", \"field\": \"emotion\", \"sort\": {\"field\": \"borda score\", \"order\": \"descending\"}}}}, {\"mark\": {\"type\": \"rule\", \"color\": \"black\"}, \"encoding\": {\"x\": {\"type\": \"quantitative\", \"field\": \"lower\", \"scale\": {\"zero\": false}}, \"x2\": {\"field\": \"upper\"}, \"y\": {\"type\": \"nominal\", \"field\": \"emotion\", \"sort\": {\"field\": \"borda score\", \"order\": \"descending\"}}}}], \"data\": {\"name\": \"data-3a7980055d69571c9dfb4de86dba0ae9\"}, \"width\": 200}], \"title\": \"Female of color - sadness\", \"$schema\": \"https://vega.github.io/schema/vega-lite/v4.8.1.json\", \"datasets\": {\"data-3a4b7c25657289f6fb65d3339be57f36\": [{\"counts\": 40, \"emotion\": \"sadness\", \"percent\": 0.8163265306122449}, {\"counts\": 5, \"emotion\": \"fear\", \"percent\": 0.10204081632653061}, {\"counts\": 2, \"emotion\": \"other\", \"percent\": 0.04081632653061224}, {\"counts\": 2, \"emotion\": \"uncertain\", \"percent\": 0.04081632653061224}], \"data-d563a92ed207f398ca3c200101cde81e\": [{\"url\": \"https://uwmadison.co1.qualtrics.com/ControlPanel/Graphic.php?IM=IM_6KEpMh9qlyvMRAa\"}], \"data-9b16fdab256e5fbec15f78e8b7fb8cd8\": [{\"counts\": 36, \"emotion\": \"sadness\", \"percent\": 0.5454545454545454}, {\"counts\": 6, \"emotion\": \"upset\", \"percent\": 0.09090909090909091}, {\"counts\": 4, \"emotion\": \"crying\", \"percent\": 0.06060606060606061}, {\"counts\": 3, \"emotion\": \"annoyed\", \"percent\": 0.045454545454545456}, {\"counts\": 3, \"emotion\": \"cry\", \"percent\": 0.045454545454545456}, {\"counts\": 2, \"emotion\": \"worried\", \"percent\": 0.030303030303030304}, {\"counts\": 2, \"emotion\": \"worry\", \"percent\": 0.030303030303030304}, {\"counts\": 2, \"emotion\": \"hurt\", \"percent\": 0.030303030303030304}, {\"counts\": 2, \"emotion\": \"disgust\", \"percent\": 0.030303030303030304}, {\"counts\": 2, \"emotion\": \"anger\", \"percent\": 0.030303030303030304}, {\"counts\": 2, \"emotion\": \"emotional\", \"percent\": 0.030303030303030304}, {\"counts\": 2, \"emotion\": \"none\", \"percent\": 0.030303030303030304}], \"data-3a7980055d69571c9dfb4de86dba0ae9\": [{\"Rank\": 0, \"emotion\": \"upset\", \"borda score\": 0.85, \"Precision\": 0.08, \"upper\": 0.89, \"lower\": 0.8099999999999999}, {\"Rank\": 1, \"emotion\": \"heartbroken\", \"borda score\": 0.83, \"Precision\": 0.09, \"upper\": 0.875, \"lower\": 0.7849999999999999}, {\"Rank\": 2, \"emotion\": \"crying\", \"borda score\": 0.8, \"Precision\": 0.1, \"upper\": 0.8500000000000001, \"lower\": 0.75}, {\"Rank\": 3, \"emotion\": \"unhappy\", \"borda score\": 0.8, \"Precision\": 0.1, \"upper\": 0.8500000000000001, \"lower\": 0.75}, {\"Rank\": 4, \"emotion\": \"sadness\", \"borda score\": 0.77, \"Precision\": 0.11, \"upper\": 0.8250000000000001, \"lower\": 0.715}, {\"Rank\": 5, \"emotion\": \"worried\", \"borda score\": 0.69, \"Precision\": 0.14, \"upper\": 0.76, \"lower\": 0.6199999999999999}, {\"Rank\": 6, \"emotion\": \"disappointed\", \"borda score\": 0.69, \"Precision\": 0.13, \"upper\": 0.7549999999999999, \"lower\": 0.625}, {\"Rank\": 7, \"emotion\": \"despair\", \"borda score\": 0.69, \"Precision\": 0.17, \"upper\": 0.7749999999999999, \"lower\": 0.605}, {\"Rank\": 8, \"emotion\": \"hopeless\", \"borda score\": 0.68, \"Precision\": 0.15, \"upper\": 0.755, \"lower\": 0.6050000000000001}, {\"Rank\": 9, \"emotion\": \"emotional\", \"borda score\": 0.64, \"Precision\": 0.17, \"upper\": 0.725, \"lower\": 0.555}]}}, {\"mode\": \"vega-lite\"});\n",
       "</script>"
      ],
      "text/plain": [
       "alt.HConcatChart(...)"
      ]
     },
     "execution_count": 85,
     "metadata": {},
     "output_type": "execute_result"
    }
   ],
   "source": [
    "sadness_bfa_next_panel = (sadness_bfa_forced.properties(width=200) | sadness_bfa_free.properties(width=200) | sadness_bfa_next.properties(width=200)).properties(title=\"Female of color - sadness\")\n",
    "sadness_bfa_next_panel.configure_axis(grid=False, labelFontSize=12, titleFontSize=12).configure_view(strokeWidth=0).configure_title(dy=-12)"
   ]
  },
  {
   "cell_type": "code",
   "execution_count": 86,
   "id": "e365706a-59ed-46e0-a6e7-b7ed91c4d2f5",
   "metadata": {},
   "outputs": [],
   "source": [
    "save(sadness_bfa_next_panel, \"../../emotions_dashboard/data/sadness_bfa_next_panel_mturk.png\")"
   ]
  },
  {
   "cell_type": "markdown",
   "id": "37e6913a-8bb0-4047-959b-3334c0384d90",
   "metadata": {},
   "source": [
    "## Sadness - Male of color"
   ]
  },
  {
   "cell_type": "code",
   "execution_count": 87,
   "id": "525474c5-1f6e-4122-9ca3-fa15a658ca33",
   "metadata": {},
   "outputs": [
    {
     "name": "stderr",
     "output_type": "stream",
     "text": [
      "/tmp/ipykernel_11424/2691402293.py:11: FutureWarning: The default value of regex will change from True to False in a future version.\n",
      "  df_stack_single_word['emotion'] = df_stack_single_word['emotion'].str.replace('[^a-zA-Z]', '') # remove non-alphabetic characters\n"
     ]
    }
   ],
   "source": [
    "sadness_bma_forced = photo_chart(df_emo_answers_forced, 'sadness',  2, df_forced_labels, emotion_st='sadness', n_mentions=2, photo=True, yoffset=260)\n",
    "sadness_bma_free = photo_chart(df_emo_answers_free, 'sadness',  2, df_free_labels, emotion_st='sadness', n_mentions=2)\n",
    "\n",
    "path = '../../emo-ranking-next/sadness_bipoc_male/mturk/borda_lilucb_ranking_mturk.csv'\n",
    "\n",
    "sadness_bma_next = next_chart_wrapper(path, emotion='sadness', head=10)"
   ]
  },
  {
   "cell_type": "code",
   "execution_count": 88,
   "id": "9992df26-4aa6-4841-b328-a848d46ab0e9",
   "metadata": {},
   "outputs": [
    {
     "data": {
      "text/html": [
       "\n",
       "<div id=\"altair-viz-ee355a3e31ba449c81febf59812f5a35\"></div>\n",
       "<script type=\"text/javascript\">\n",
       "  (function(spec, embedOpt){\n",
       "    let outputDiv = document.currentScript.previousElementSibling;\n",
       "    if (outputDiv.id !== \"altair-viz-ee355a3e31ba449c81febf59812f5a35\") {\n",
       "      outputDiv = document.getElementById(\"altair-viz-ee355a3e31ba449c81febf59812f5a35\");\n",
       "    }\n",
       "    const paths = {\n",
       "      \"vega\": \"https://cdn.jsdelivr.net/npm//vega@5?noext\",\n",
       "      \"vega-lib\": \"https://cdn.jsdelivr.net/npm//vega-lib?noext\",\n",
       "      \"vega-lite\": \"https://cdn.jsdelivr.net/npm//vega-lite@4.8.1?noext\",\n",
       "      \"vega-embed\": \"https://cdn.jsdelivr.net/npm//vega-embed@6?noext\",\n",
       "    };\n",
       "\n",
       "    function loadScript(lib) {\n",
       "      return new Promise(function(resolve, reject) {\n",
       "        var s = document.createElement('script');\n",
       "        s.src = paths[lib];\n",
       "        s.async = true;\n",
       "        s.onload = () => resolve(paths[lib]);\n",
       "        s.onerror = () => reject(`Error loading script: ${paths[lib]}`);\n",
       "        document.getElementsByTagName(\"head\")[0].appendChild(s);\n",
       "      });\n",
       "    }\n",
       "\n",
       "    function showError(err) {\n",
       "      outputDiv.innerHTML = `<div class=\"error\" style=\"color:red;\">${err}</div>`;\n",
       "      throw err;\n",
       "    }\n",
       "\n",
       "    function displayChart(vegaEmbed) {\n",
       "      vegaEmbed(outputDiv, spec, embedOpt)\n",
       "        .catch(err => showError(`Javascript Error: ${err.message}<br>This usually means there's a typo in your chart specification. See the javascript console for the full traceback.`));\n",
       "    }\n",
       "\n",
       "    if(typeof define === \"function\" && define.amd) {\n",
       "      requirejs.config({paths});\n",
       "      require([\"vega-embed\"], displayChart, err => showError(`Error loading script: ${err.message}`));\n",
       "    } else if (typeof vegaEmbed === \"function\") {\n",
       "      displayChart(vegaEmbed);\n",
       "    } else {\n",
       "      loadScript(\"vega\")\n",
       "        .then(() => loadScript(\"vega-lite\"))\n",
       "        .then(() => loadScript(\"vega-embed\"))\n",
       "        .catch(showError)\n",
       "        .then(() => displayChart(vegaEmbed));\n",
       "    }\n",
       "  })({\"config\": {\"view\": {\"continuousWidth\": 400, \"continuousHeight\": 300, \"strokeWidth\": 0}, \"axis\": {\"grid\": false, \"labelFontSize\": 12, \"titleFontSize\": 12}, \"title\": {\"dy\": -12}}, \"hconcat\": [{\"layer\": [{\"mark\": \"bar\", \"encoding\": {\"color\": {\"condition\": {\"value\": \"orange\", \"test\": \"(datum.emotion === 'sadness')\"}, \"value\": \"#0570b0\"}, \"x\": {\"type\": \"quantitative\", \"axis\": {\"format\": \".0%\"}, \"field\": \"percent\"}, \"y\": {\"type\": \"nominal\", \"field\": \"emotion\", \"sort\": \"-x\"}}, \"title\": \"Categories with 2 or more mentions | n= 52\"}, {\"mark\": {\"type\": \"text\", \"align\": \"left\", \"baseline\": \"middle\", \"dx\": 3, \"fontSize\": 12}, \"encoding\": {\"text\": {\"type\": \"quantitative\", \"field\": \"percent\", \"format\": \".1%\"}, \"x\": {\"type\": \"quantitative\", \"field\": \"percent\"}, \"y\": {\"type\": \"nominal\", \"field\": \"emotion\", \"sort\": \"-x\"}}}, {\"data\": {\"name\": \"data-b086b74ab8720a490694baeb9285dbad\"}, \"mark\": {\"type\": \"image\", \"align\": \"center\", \"height\": 150, \"width\": 150, \"xOffset\": -100, \"yOffset\": 260}, \"encoding\": {\"url\": {\"type\": \"nominal\", \"field\": \"url\"}}}], \"data\": {\"name\": \"data-e841b976a6a321d9355b48924b20462a\"}, \"width\": 200}, {\"layer\": [{\"mark\": \"bar\", \"encoding\": {\"color\": {\"condition\": {\"value\": \"orange\", \"test\": \"(datum.emotion === 'sadness')\"}, \"value\": \"#0570b0\"}, \"x\": {\"type\": \"quantitative\", \"axis\": {\"format\": \".0%\"}, \"field\": \"percent\"}, \"y\": {\"type\": \"nominal\", \"field\": \"emotion\", \"sort\": \"-x\"}}, \"title\": \"Categories with 2 or more mentions | n= 70\"}, {\"mark\": {\"type\": \"text\", \"align\": \"left\", \"baseline\": \"middle\", \"dx\": 3, \"fontSize\": 12}, \"encoding\": {\"text\": {\"type\": \"quantitative\", \"field\": \"percent\", \"format\": \".1%\"}, \"x\": {\"type\": \"quantitative\", \"field\": \"percent\"}, \"y\": {\"type\": \"nominal\", \"field\": \"emotion\", \"sort\": \"-x\"}}}], \"data\": {\"name\": \"data-cd21b5bbe09f1bd9893725e807c7c412\"}, \"width\": 200}, {\"layer\": [{\"mark\": \"bar\", \"encoding\": {\"color\": {\"condition\": {\"value\": \"orange\", \"test\": \"(datum.emotion === 'sadness')\"}, \"value\": \"#0570b0\"}, \"x\": {\"type\": \"quantitative\", \"axis\": {\"format\": \".0\", \"title\": \"Borda score(bar and number), Score precision (horizontal line)\"}, \"field\": \"borda score\"}, \"y\": {\"type\": \"nominal\", \"field\": \"emotion\", \"sort\": \"-x\"}}, \"title\": \"Dueling bandits ranking | Top: 10\"}, {\"mark\": {\"type\": \"text\", \"align\": \"left\", \"baseline\": \"middle\", \"dx\": 3, \"fontSize\": 12}, \"encoding\": {\"text\": {\"type\": \"quantitative\", \"field\": \"borda score\"}, \"x\": {\"type\": \"quantitative\", \"field\": \"upper\"}, \"y\": {\"type\": \"nominal\", \"field\": \"emotion\", \"sort\": {\"field\": \"borda score\", \"order\": \"descending\"}}}}, {\"mark\": {\"type\": \"rule\", \"color\": \"black\"}, \"encoding\": {\"x\": {\"type\": \"quantitative\", \"field\": \"lower\", \"scale\": {\"zero\": false}}, \"x2\": {\"field\": \"upper\"}, \"y\": {\"type\": \"nominal\", \"field\": \"emotion\", \"sort\": {\"field\": \"borda score\", \"order\": \"descending\"}}}}], \"data\": {\"name\": \"data-89609e3f2cf084bd02b412aa1667d76a\"}, \"width\": 200}], \"title\": \"Male of color - sadness\", \"$schema\": \"https://vega.github.io/schema/vega-lite/v4.8.1.json\", \"datasets\": {\"data-e841b976a6a321d9355b48924b20462a\": [{\"counts\": 33, \"emotion\": \"sadness\", \"percent\": 0.6346153846153846}, {\"counts\": 4, \"emotion\": \"fear\", \"percent\": 0.07692307692307693}, {\"counts\": 4, \"emotion\": \"anger\", \"percent\": 0.07692307692307693}, {\"counts\": 3, \"emotion\": \"neutral\", \"percent\": 0.057692307692307696}, {\"counts\": 3, \"emotion\": \"other\", \"percent\": 0.057692307692307696}, {\"counts\": 3, \"emotion\": \"uncertain\", \"percent\": 0.057692307692307696}, {\"counts\": 2, \"emotion\": \"disgust\", \"percent\": 0.038461538461538464}], \"data-b086b74ab8720a490694baeb9285dbad\": [{\"url\": \"https://uwmadison.co1.qualtrics.com/ControlPanel/Graphic.php?IM=IM_dbf2dyj7KGtrN2e\"}], \"data-cd21b5bbe09f1bd9893725e807c7c412\": [{\"counts\": 33, \"emotion\": \"sadness\", \"percent\": 0.4714285714285714}, {\"counts\": 11, \"emotion\": \"upset\", \"percent\": 0.15714285714285714}, {\"counts\": 9, \"emotion\": \"fear\", \"percent\": 0.12857142857142856}, {\"counts\": 5, \"emotion\": \"crying\", \"percent\": 0.07142857142857142}, {\"counts\": 4, \"emotion\": \"worried\", \"percent\": 0.05714285714285714}, {\"counts\": 2, \"emotion\": \"disappointment\", \"percent\": 0.02857142857142857}, {\"counts\": 2, \"emotion\": \"cry\", \"percent\": 0.02857142857142857}, {\"counts\": 2, \"emotion\": \"unhappy\", \"percent\": 0.02857142857142857}, {\"counts\": 2, \"emotion\": \"none\", \"percent\": 0.02857142857142857}], \"data-89609e3f2cf084bd02b412aa1667d76a\": [{\"Rank\": 0, \"emotion\": \"heartbroken\", \"borda score\": 0.89, \"Precision\": 0.06, \"upper\": 0.92, \"lower\": 0.86}, {\"Rank\": 1, \"emotion\": \"sorrow\", \"borda score\": 0.85, \"Precision\": 0.08, \"upper\": 0.89, \"lower\": 0.8099999999999999}, {\"Rank\": 2, \"emotion\": \"emotional\", \"borda score\": 0.82, \"Precision\": 0.09, \"upper\": 0.865, \"lower\": 0.7749999999999999}, {\"Rank\": 3, \"emotion\": \"despair\", \"borda score\": 0.81, \"Precision\": 0.1, \"upper\": 0.8600000000000001, \"lower\": 0.76}, {\"Rank\": 4, \"emotion\": \"sadness\", \"borda score\": 0.8, \"Precision\": 0.1, \"upper\": 0.8500000000000001, \"lower\": 0.75}, {\"Rank\": 5, \"emotion\": \"crying\", \"borda score\": 0.78, \"Precision\": 0.11, \"upper\": 0.8350000000000001, \"lower\": 0.725}, {\"Rank\": 6, \"emotion\": \"hurt\", \"borda score\": 0.77, \"Precision\": 0.11, \"upper\": 0.8250000000000001, \"lower\": 0.715}, {\"Rank\": 7, \"emotion\": \"worried\", \"borda score\": 0.73, \"Precision\": 0.13, \"upper\": 0.7949999999999999, \"lower\": 0.665}, {\"Rank\": 8, \"emotion\": \"depressed\", \"borda score\": 0.7, \"Precision\": 0.15, \"upper\": 0.7749999999999999, \"lower\": 0.625}, {\"Rank\": 9, \"emotion\": \"hopeless\", \"borda score\": 0.68, \"Precision\": 0.15, \"upper\": 0.755, \"lower\": 0.6050000000000001}]}}, {\"mode\": \"vega-lite\"});\n",
       "</script>"
      ],
      "text/plain": [
       "alt.HConcatChart(...)"
      ]
     },
     "execution_count": 88,
     "metadata": {},
     "output_type": "execute_result"
    }
   ],
   "source": [
    "sadness_bma_next_panel = (sadness_bma_forced.properties(width=200) | sadness_bma_free.properties(width=200) | sadness_bma_next.properties(width=200)).properties(title=\"Male of color - sadness\")\n",
    "sadness_bma_next_panel.configure_axis(grid=False, labelFontSize=12, titleFontSize=12).configure_view(strokeWidth=0).configure_title(dy=-12)"
   ]
  },
  {
   "cell_type": "code",
   "execution_count": 89,
   "id": "573c1deb-87c9-4337-b6c3-9996e9257dca",
   "metadata": {},
   "outputs": [],
   "source": [
    "save(sadness_bma_next_panel, \"../../emotions_dashboard/data/sadness_bma_next_panel_mturk.png\")"
   ]
  },
  {
   "cell_type": "markdown",
   "id": "11a412a4-8f86-4dca-a2c5-7bb63b50cac2",
   "metadata": {},
   "source": [
    "## Sadness - White female"
   ]
  },
  {
   "cell_type": "code",
   "execution_count": 90,
   "id": "ad1e9739-5cbc-4d97-8fa9-b979ecbb9f17",
   "metadata": {},
   "outputs": [
    {
     "name": "stderr",
     "output_type": "stream",
     "text": [
      "/tmp/ipykernel_11424/2691402293.py:11: FutureWarning: The default value of regex will change from True to False in a future version.\n",
      "  df_stack_single_word['emotion'] = df_stack_single_word['emotion'].str.replace('[^a-zA-Z]', '') # remove non-alphabetic characters\n"
     ]
    }
   ],
   "source": [
    "sadness_wfa_forced = photo_chart(df_emo_answers_forced, 'sadness',  4, df_forced_labels, emotion_st='sadness', n_mentions=2, photo=True)\n",
    "sadness_wfa_free = photo_chart(df_emo_answers_free, 'sadness',  4, df_free_labels, emotion_st='sadness', n_mentions=2)\n",
    "\n",
    "path = '../../emo-ranking-next/sadness_white_female/mturk/borda_lilucb_ranking_mturk.csv'\n",
    "\n",
    "sadness_wfa_next = next_chart_wrapper(path, emotion='sadness', head=10)"
   ]
  },
  {
   "cell_type": "code",
   "execution_count": 91,
   "id": "5aee5f18-b148-4366-8280-6982c60a40a2",
   "metadata": {},
   "outputs": [
    {
     "data": {
      "text/html": [
       "\n",
       "<div id=\"altair-viz-b7a5dad802ca418f96ad3a2d058f0e53\"></div>\n",
       "<script type=\"text/javascript\">\n",
       "  (function(spec, embedOpt){\n",
       "    let outputDiv = document.currentScript.previousElementSibling;\n",
       "    if (outputDiv.id !== \"altair-viz-b7a5dad802ca418f96ad3a2d058f0e53\") {\n",
       "      outputDiv = document.getElementById(\"altair-viz-b7a5dad802ca418f96ad3a2d058f0e53\");\n",
       "    }\n",
       "    const paths = {\n",
       "      \"vega\": \"https://cdn.jsdelivr.net/npm//vega@5?noext\",\n",
       "      \"vega-lib\": \"https://cdn.jsdelivr.net/npm//vega-lib?noext\",\n",
       "      \"vega-lite\": \"https://cdn.jsdelivr.net/npm//vega-lite@4.8.1?noext\",\n",
       "      \"vega-embed\": \"https://cdn.jsdelivr.net/npm//vega-embed@6?noext\",\n",
       "    };\n",
       "\n",
       "    function loadScript(lib) {\n",
       "      return new Promise(function(resolve, reject) {\n",
       "        var s = document.createElement('script');\n",
       "        s.src = paths[lib];\n",
       "        s.async = true;\n",
       "        s.onload = () => resolve(paths[lib]);\n",
       "        s.onerror = () => reject(`Error loading script: ${paths[lib]}`);\n",
       "        document.getElementsByTagName(\"head\")[0].appendChild(s);\n",
       "      });\n",
       "    }\n",
       "\n",
       "    function showError(err) {\n",
       "      outputDiv.innerHTML = `<div class=\"error\" style=\"color:red;\">${err}</div>`;\n",
       "      throw err;\n",
       "    }\n",
       "\n",
       "    function displayChart(vegaEmbed) {\n",
       "      vegaEmbed(outputDiv, spec, embedOpt)\n",
       "        .catch(err => showError(`Javascript Error: ${err.message}<br>This usually means there's a typo in your chart specification. See the javascript console for the full traceback.`));\n",
       "    }\n",
       "\n",
       "    if(typeof define === \"function\" && define.amd) {\n",
       "      requirejs.config({paths});\n",
       "      require([\"vega-embed\"], displayChart, err => showError(`Error loading script: ${err.message}`));\n",
       "    } else if (typeof vegaEmbed === \"function\") {\n",
       "      displayChart(vegaEmbed);\n",
       "    } else {\n",
       "      loadScript(\"vega\")\n",
       "        .then(() => loadScript(\"vega-lite\"))\n",
       "        .then(() => loadScript(\"vega-embed\"))\n",
       "        .catch(showError)\n",
       "        .then(() => displayChart(vegaEmbed));\n",
       "    }\n",
       "  })({\"config\": {\"view\": {\"continuousWidth\": 400, \"continuousHeight\": 300, \"strokeWidth\": 0}, \"axis\": {\"grid\": false, \"labelFontSize\": 12, \"titleFontSize\": 12}, \"title\": {\"dy\": -12}}, \"hconcat\": [{\"layer\": [{\"mark\": \"bar\", \"encoding\": {\"color\": {\"condition\": {\"value\": \"orange\", \"test\": \"(datum.emotion === 'sadness')\"}, \"value\": \"#0570b0\"}, \"x\": {\"type\": \"quantitative\", \"axis\": {\"format\": \".0%\"}, \"field\": \"percent\"}, \"y\": {\"type\": \"nominal\", \"field\": \"emotion\", \"sort\": \"-x\"}}, \"title\": \"Categories with 2 or more mentions | n= 50\"}, {\"mark\": {\"type\": \"text\", \"align\": \"left\", \"baseline\": \"middle\", \"dx\": 3, \"fontSize\": 12}, \"encoding\": {\"text\": {\"type\": \"quantitative\", \"field\": \"percent\", \"format\": \".1%\"}, \"x\": {\"type\": \"quantitative\", \"field\": \"percent\"}, \"y\": {\"type\": \"nominal\", \"field\": \"emotion\", \"sort\": \"-x\"}}}, {\"data\": {\"name\": \"data-2cebe9b780a03822f088dc12c7c2c863\"}, \"mark\": {\"type\": \"image\", \"align\": \"center\", \"height\": 150, \"width\": 150, \"xOffset\": -100, \"yOffset\": 220}, \"encoding\": {\"url\": {\"type\": \"nominal\", \"field\": \"url\"}}}], \"data\": {\"name\": \"data-137c3c1c1a27fe91bc0fd2d17b494cfe\"}, \"width\": 200}, {\"layer\": [{\"mark\": \"bar\", \"encoding\": {\"color\": {\"condition\": {\"value\": \"orange\", \"test\": \"(datum.emotion === 'sadness')\"}, \"value\": \"#0570b0\"}, \"x\": {\"type\": \"quantitative\", \"axis\": {\"format\": \".0%\"}, \"field\": \"percent\"}, \"y\": {\"type\": \"nominal\", \"field\": \"emotion\", \"sort\": \"-x\"}}, \"title\": \"Categories with 2 or more mentions | n= 76\"}, {\"mark\": {\"type\": \"text\", \"align\": \"left\", \"baseline\": \"middle\", \"dx\": 3, \"fontSize\": 12}, \"encoding\": {\"text\": {\"type\": \"quantitative\", \"field\": \"percent\", \"format\": \".1%\"}, \"x\": {\"type\": \"quantitative\", \"field\": \"percent\"}, \"y\": {\"type\": \"nominal\", \"field\": \"emotion\", \"sort\": \"-x\"}}}], \"data\": {\"name\": \"data-74ba565e8fb7b9061404170324f2d110\"}, \"width\": 200}, {\"layer\": [{\"mark\": \"bar\", \"encoding\": {\"color\": {\"condition\": {\"value\": \"orange\", \"test\": \"(datum.emotion === 'sadness')\"}, \"value\": \"#0570b0\"}, \"x\": {\"type\": \"quantitative\", \"axis\": {\"format\": \".0\", \"title\": \"Borda score(bar and number), Score precision (horizontal line)\"}, \"field\": \"borda score\"}, \"y\": {\"type\": \"nominal\", \"field\": \"emotion\", \"sort\": \"-x\"}}, \"title\": \"Dueling bandits ranking | Top: 10\"}, {\"mark\": {\"type\": \"text\", \"align\": \"left\", \"baseline\": \"middle\", \"dx\": 3, \"fontSize\": 12}, \"encoding\": {\"text\": {\"type\": \"quantitative\", \"field\": \"borda score\"}, \"x\": {\"type\": \"quantitative\", \"field\": \"upper\"}, \"y\": {\"type\": \"nominal\", \"field\": \"emotion\", \"sort\": {\"field\": \"borda score\", \"order\": \"descending\"}}}}, {\"mark\": {\"type\": \"rule\", \"color\": \"black\"}, \"encoding\": {\"x\": {\"type\": \"quantitative\", \"field\": \"lower\", \"scale\": {\"zero\": false}}, \"x2\": {\"field\": \"upper\"}, \"y\": {\"type\": \"nominal\", \"field\": \"emotion\", \"sort\": {\"field\": \"borda score\", \"order\": \"descending\"}}}}], \"data\": {\"name\": \"data-db07bf06fb61238f967e6ad7c8cbc24b\"}, \"width\": 200}], \"title\": \"White female - sadness\", \"$schema\": \"https://vega.github.io/schema/vega-lite/v4.8.1.json\", \"datasets\": {\"data-137c3c1c1a27fe91bc0fd2d17b494cfe\": [{\"counts\": 43, \"emotion\": \"sadness\", \"percent\": 0.86}, {\"counts\": 3, \"emotion\": \"fear\", \"percent\": 0.06}, {\"counts\": 2, \"emotion\": \"disgust\", \"percent\": 0.04}, {\"counts\": 2, \"emotion\": \"anger\", \"percent\": 0.04}], \"data-2cebe9b780a03822f088dc12c7c2c863\": [{\"url\": \"https://uwmadison.co1.qualtrics.com/ControlPanel/Graphic.php?IM=IM_9EKbisrli19qicS\"}], \"data-74ba565e8fb7b9061404170324f2d110\": [{\"counts\": 36, \"emotion\": \"sadness\", \"percent\": 0.47368421052631576}, {\"counts\": 11, \"emotion\": \"upset\", \"percent\": 0.14473684210526316}, {\"counts\": 8, \"emotion\": \"crying\", \"percent\": 0.10526315789473684}, {\"counts\": 7, \"emotion\": \"fear\", \"percent\": 0.09210526315789473}, {\"counts\": 5, \"emotion\": \"worried\", \"percent\": 0.06578947368421052}, {\"counts\": 4, \"emotion\": \"cry\", \"percent\": 0.05263157894736842}, {\"counts\": 3, \"emotion\": \"hurt\", \"percent\": 0.039473684210526314}, {\"counts\": 2, \"emotion\": \"anger\", \"percent\": 0.02631578947368421}], \"data-db07bf06fb61238f967e6ad7c8cbc24b\": [{\"Rank\": 0, \"emotion\": \"heartbroken\", \"borda score\": 0.93, \"Precision\": 0.06, \"upper\": 0.9600000000000001, \"lower\": 0.9}, {\"Rank\": 1, \"emotion\": \"sorrow\", \"borda score\": 0.89, \"Precision\": 0.08, \"upper\": 0.93, \"lower\": 0.85}, {\"Rank\": 2, \"emotion\": \"worried\", \"borda score\": 0.87, \"Precision\": 0.09, \"upper\": 0.915, \"lower\": 0.825}, {\"Rank\": 3, \"emotion\": \"sadness\", \"borda score\": 0.85, \"Precision\": 0.09, \"upper\": 0.895, \"lower\": 0.8049999999999999}, {\"Rank\": 4, \"emotion\": \"upset\", \"borda score\": 0.84, \"Precision\": 0.1, \"upper\": 0.89, \"lower\": 0.7899999999999999}, {\"Rank\": 5, \"emotion\": \"unhappy\", \"borda score\": 0.78, \"Precision\": 0.12, \"upper\": 0.8400000000000001, \"lower\": 0.72}, {\"Rank\": 6, \"emotion\": \"crying\", \"borda score\": 0.74, \"Precision\": 0.14, \"upper\": 0.81, \"lower\": 0.6699999999999999}, {\"Rank\": 7, \"emotion\": \"anxiety\", \"borda score\": 0.7, \"Precision\": 0.16, \"upper\": 0.7799999999999999, \"lower\": 0.62}, {\"Rank\": 8, \"emotion\": \"fear\", \"borda score\": 0.67, \"Precision\": 0.17, \"upper\": 0.755, \"lower\": 0.5850000000000001}, {\"Rank\": 9, \"emotion\": \"confused\", \"borda score\": 0.67, \"Precision\": 0.17, \"upper\": 0.755, \"lower\": 0.5850000000000001}]}}, {\"mode\": \"vega-lite\"});\n",
       "</script>"
      ],
      "text/plain": [
       "alt.HConcatChart(...)"
      ]
     },
     "execution_count": 91,
     "metadata": {},
     "output_type": "execute_result"
    }
   ],
   "source": [
    "sadness_wfa_next_panel = (sadness_wfa_forced.properties(width=200) | sadness_wfa_free.properties(width=200) | sadness_wfa_next.properties(width=200)).properties(title=\"White female - sadness\")\n",
    "sadness_wfa_next_panel.configure_axis(grid=False, labelFontSize=12, titleFontSize=12).configure_view(strokeWidth=0).configure_title(dy=-12)"
   ]
  },
  {
   "cell_type": "code",
   "execution_count": 92,
   "id": "34390216-05bc-4864-ab24-3db6e1fec86b",
   "metadata": {},
   "outputs": [],
   "source": [
    "save(sadness_wfa_next_panel, \"../../emotions_dashboard/data/sadness_wfa_next_panel_mturk.png\")"
   ]
  },
  {
   "cell_type": "markdown",
   "id": "1a3c5489-91ae-46ed-acf9-2b3e402e5e60",
   "metadata": {},
   "source": [
    "## Sadness - White male"
   ]
  },
  {
   "cell_type": "code",
   "execution_count": 93,
   "id": "102605f4-f4d3-48a7-b535-30830881a57c",
   "metadata": {},
   "outputs": [
    {
     "name": "stderr",
     "output_type": "stream",
     "text": [
      "/tmp/ipykernel_11424/2691402293.py:11: FutureWarning: The default value of regex will change from True to False in a future version.\n",
      "  df_stack_single_word['emotion'] = df_stack_single_word['emotion'].str.replace('[^a-zA-Z]', '') # remove non-alphabetic characters\n"
     ]
    }
   ],
   "source": [
    "sadness_wma_forced = photo_chart(df_emo_answers_forced, 'sadness',  6, df_forced_labels, emotion_st='sadness', n_mentions=2, photo=True, yoffset=260)\n",
    "sadness_wma_free = photo_chart(df_emo_answers_free, 'sadness',  6, df_free_labels, emotion_st='sadness', n_mentions=2)\n",
    "\n",
    "path = '../../emo-ranking-next/sadness_white_male/mturk/borda_lilucb_ranking_mturk.csv'\n",
    "\n",
    "sadness_wma_next = next_chart_wrapper(path, emotion='sadness', head=15)"
   ]
  },
  {
   "cell_type": "code",
   "execution_count": 94,
   "id": "ddefe0ce-8b4c-4521-8ffe-672fd803e445",
   "metadata": {},
   "outputs": [
    {
     "data": {
      "text/html": [
       "\n",
       "<div id=\"altair-viz-b7bf2611afed46e29adf2bd289c7c155\"></div>\n",
       "<script type=\"text/javascript\">\n",
       "  (function(spec, embedOpt){\n",
       "    let outputDiv = document.currentScript.previousElementSibling;\n",
       "    if (outputDiv.id !== \"altair-viz-b7bf2611afed46e29adf2bd289c7c155\") {\n",
       "      outputDiv = document.getElementById(\"altair-viz-b7bf2611afed46e29adf2bd289c7c155\");\n",
       "    }\n",
       "    const paths = {\n",
       "      \"vega\": \"https://cdn.jsdelivr.net/npm//vega@5?noext\",\n",
       "      \"vega-lib\": \"https://cdn.jsdelivr.net/npm//vega-lib?noext\",\n",
       "      \"vega-lite\": \"https://cdn.jsdelivr.net/npm//vega-lite@4.8.1?noext\",\n",
       "      \"vega-embed\": \"https://cdn.jsdelivr.net/npm//vega-embed@6?noext\",\n",
       "    };\n",
       "\n",
       "    function loadScript(lib) {\n",
       "      return new Promise(function(resolve, reject) {\n",
       "        var s = document.createElement('script');\n",
       "        s.src = paths[lib];\n",
       "        s.async = true;\n",
       "        s.onload = () => resolve(paths[lib]);\n",
       "        s.onerror = () => reject(`Error loading script: ${paths[lib]}`);\n",
       "        document.getElementsByTagName(\"head\")[0].appendChild(s);\n",
       "      });\n",
       "    }\n",
       "\n",
       "    function showError(err) {\n",
       "      outputDiv.innerHTML = `<div class=\"error\" style=\"color:red;\">${err}</div>`;\n",
       "      throw err;\n",
       "    }\n",
       "\n",
       "    function displayChart(vegaEmbed) {\n",
       "      vegaEmbed(outputDiv, spec, embedOpt)\n",
       "        .catch(err => showError(`Javascript Error: ${err.message}<br>This usually means there's a typo in your chart specification. See the javascript console for the full traceback.`));\n",
       "    }\n",
       "\n",
       "    if(typeof define === \"function\" && define.amd) {\n",
       "      requirejs.config({paths});\n",
       "      require([\"vega-embed\"], displayChart, err => showError(`Error loading script: ${err.message}`));\n",
       "    } else if (typeof vegaEmbed === \"function\") {\n",
       "      displayChart(vegaEmbed);\n",
       "    } else {\n",
       "      loadScript(\"vega\")\n",
       "        .then(() => loadScript(\"vega-lite\"))\n",
       "        .then(() => loadScript(\"vega-embed\"))\n",
       "        .catch(showError)\n",
       "        .then(() => displayChart(vegaEmbed));\n",
       "    }\n",
       "  })({\"config\": {\"view\": {\"continuousWidth\": 400, \"continuousHeight\": 300, \"strokeWidth\": 0}, \"axis\": {\"grid\": false, \"labelFontSize\": 12, \"titleFontSize\": 12}, \"title\": {\"dy\": -12}}, \"hconcat\": [{\"layer\": [{\"mark\": \"bar\", \"encoding\": {\"color\": {\"condition\": {\"value\": \"orange\", \"test\": \"(datum.emotion === 'sadness')\"}, \"value\": \"#0570b0\"}, \"x\": {\"type\": \"quantitative\", \"axis\": {\"format\": \".0%\"}, \"field\": \"percent\"}, \"y\": {\"type\": \"nominal\", \"field\": \"emotion\", \"sort\": \"-x\"}}, \"title\": \"Categories with 2 or more mentions | n= 52\"}, {\"mark\": {\"type\": \"text\", \"align\": \"left\", \"baseline\": \"middle\", \"dx\": 3, \"fontSize\": 12}, \"encoding\": {\"text\": {\"type\": \"quantitative\", \"field\": \"percent\", \"format\": \".1%\"}, \"x\": {\"type\": \"quantitative\", \"field\": \"percent\"}, \"y\": {\"type\": \"nominal\", \"field\": \"emotion\", \"sort\": \"-x\"}}}, {\"data\": {\"name\": \"data-9c9ac5180961ec16998ae5c21ff60c17\"}, \"mark\": {\"type\": \"image\", \"align\": \"center\", \"height\": 150, \"width\": 150, \"xOffset\": -100, \"yOffset\": 260}, \"encoding\": {\"url\": {\"type\": \"nominal\", \"field\": \"url\"}}}], \"data\": {\"name\": \"data-2716a948bcc30646677e4eba0030e21f\"}, \"width\": 200}, {\"layer\": [{\"mark\": \"bar\", \"encoding\": {\"color\": {\"condition\": {\"value\": \"orange\", \"test\": \"(datum.emotion === 'sadness')\"}, \"value\": \"#0570b0\"}, \"x\": {\"type\": \"quantitative\", \"axis\": {\"format\": \".0%\"}, \"field\": \"percent\"}, \"y\": {\"type\": \"nominal\", \"field\": \"emotion\", \"sort\": \"-x\"}}, \"title\": \"Categories with 2 or more mentions | n= 44\"}, {\"mark\": {\"type\": \"text\", \"align\": \"left\", \"baseline\": \"middle\", \"dx\": 3, \"fontSize\": 12}, \"encoding\": {\"text\": {\"type\": \"quantitative\", \"field\": \"percent\", \"format\": \".1%\"}, \"x\": {\"type\": \"quantitative\", \"field\": \"percent\"}, \"y\": {\"type\": \"nominal\", \"field\": \"emotion\", \"sort\": \"-x\"}}}], \"data\": {\"name\": \"data-18c1dff72d84434e12ecfa46926658a3\"}, \"width\": 200}, {\"layer\": [{\"mark\": \"bar\", \"encoding\": {\"color\": {\"condition\": {\"value\": \"orange\", \"test\": \"(datum.emotion === 'sadness')\"}, \"value\": \"#0570b0\"}, \"x\": {\"type\": \"quantitative\", \"axis\": {\"format\": \".0\", \"title\": \"Borda score(bar and number), Score precision (horizontal line)\"}, \"field\": \"borda score\"}, \"y\": {\"type\": \"nominal\", \"field\": \"emotion\", \"sort\": \"-x\"}}, \"title\": \"Dueling bandits ranking | Top: 15\"}, {\"mark\": {\"type\": \"text\", \"align\": \"left\", \"baseline\": \"middle\", \"dx\": 3, \"fontSize\": 12}, \"encoding\": {\"text\": {\"type\": \"quantitative\", \"field\": \"borda score\"}, \"x\": {\"type\": \"quantitative\", \"field\": \"upper\"}, \"y\": {\"type\": \"nominal\", \"field\": \"emotion\", \"sort\": {\"field\": \"borda score\", \"order\": \"descending\"}}}}, {\"mark\": {\"type\": \"rule\", \"color\": \"black\"}, \"encoding\": {\"x\": {\"type\": \"quantitative\", \"field\": \"lower\", \"scale\": {\"zero\": false}}, \"x2\": {\"field\": \"upper\"}, \"y\": {\"type\": \"nominal\", \"field\": \"emotion\", \"sort\": {\"field\": \"borda score\", \"order\": \"descending\"}}}}], \"data\": {\"name\": \"data-ca5fa36c58fef20e2d4f6b294b83aba2\"}, \"width\": 200}], \"title\": \"White male - sadness\", \"$schema\": \"https://vega.github.io/schema/vega-lite/v4.8.1.json\", \"datasets\": {\"data-2716a948bcc30646677e4eba0030e21f\": [{\"counts\": 18, \"emotion\": \"sadness\", \"percent\": 0.34615384615384615}, {\"counts\": 10, \"emotion\": \"neutral\", \"percent\": 0.19230769230769232}, {\"counts\": 8, \"emotion\": \"anger\", \"percent\": 0.15384615384615385}, {\"counts\": 5, \"emotion\": \"uncertain\", \"percent\": 0.09615384615384616}, {\"counts\": 5, \"emotion\": \"fear\", \"percent\": 0.09615384615384616}, {\"counts\": 4, \"emotion\": \"other\", \"percent\": 0.07692307692307693}, {\"counts\": 2, \"emotion\": \"disgust\", \"percent\": 0.038461538461538464}], \"data-9c9ac5180961ec16998ae5c21ff60c17\": [{\"url\": \"https://uwmadison.co1.qualtrics.com/ControlPanel/Graphic.php?IM=IM_8j4LSlE16vL228e\"}], \"data-18c1dff72d84434e12ecfa46926658a3\": [{\"counts\": 16, \"emotion\": \"sadness\", \"percent\": 0.36363636363636365}, {\"counts\": 6, \"emotion\": \"neutral\", \"percent\": 0.13636363636363635}, {\"counts\": 3, \"emotion\": \"serious\", \"percent\": 0.06818181818181818}, {\"counts\": 3, \"emotion\": \"anger\", \"percent\": 0.06818181818181818}, {\"counts\": 3, \"emotion\": \"worried\", \"percent\": 0.06818181818181818}, {\"counts\": 3, \"emotion\": \"none\", \"percent\": 0.06818181818181818}, {\"counts\": 2, \"emotion\": \"fear\", \"percent\": 0.045454545454545456}, {\"counts\": 2, \"emotion\": \"mad\", \"percent\": 0.045454545454545456}, {\"counts\": 2, \"emotion\": \"disgust\", \"percent\": 0.045454545454545456}, {\"counts\": 2, \"emotion\": \"disappointed\", \"percent\": 0.045454545454545456}, {\"counts\": 2, \"emotion\": \"doubt\", \"percent\": 0.045454545454545456}], \"data-ca5fa36c58fef20e2d4f6b294b83aba2\": [{\"Rank\": 0, \"emotion\": \"heartbroken\", \"borda score\": 0.92, \"Precision\": 0.06, \"upper\": 0.9500000000000001, \"lower\": 0.89}, {\"Rank\": 1, \"emotion\": \"serious\", \"borda score\": 0.9, \"Precision\": 0.07, \"upper\": 0.935, \"lower\": 0.865}, {\"Rank\": 2, \"emotion\": \"bothered\", \"borda score\": 0.8, \"Precision\": 0.1, \"upper\": 0.8500000000000001, \"lower\": 0.75}, {\"Rank\": 3, \"emotion\": \"anger\", \"borda score\": 0.76, \"Precision\": 0.17, \"upper\": 0.845, \"lower\": 0.675}, {\"Rank\": 4, \"emotion\": \"disappointed\", \"borda score\": 0.76, \"Precision\": 0.12, \"upper\": 0.8200000000000001, \"lower\": 0.7}, {\"Rank\": 5, \"emotion\": \"upset\", \"borda score\": 0.74, \"Precision\": 0.13, \"upper\": 0.8049999999999999, \"lower\": 0.675}, {\"Rank\": 6, \"emotion\": \"anxiety\", \"borda score\": 0.71, \"Precision\": 0.14, \"upper\": 0.78, \"lower\": 0.6399999999999999}, {\"Rank\": 7, \"emotion\": \"depressed\", \"borda score\": 0.71, \"Precision\": 0.14, \"upper\": 0.78, \"lower\": 0.6399999999999999}, {\"Rank\": 8, \"emotion\": \"despair\", \"borda score\": 0.7, \"Precision\": 0.15, \"upper\": 0.7749999999999999, \"lower\": 0.625}, {\"Rank\": 9, \"emotion\": \"sadness\", \"borda score\": 0.69, \"Precision\": 0.15, \"upper\": 0.7649999999999999, \"lower\": 0.615}, {\"Rank\": 10, \"emotion\": \"hurt\", \"borda score\": 0.68, \"Precision\": 0.15, \"upper\": 0.755, \"lower\": 0.6050000000000001}, {\"Rank\": 11, \"emotion\": \"disgust\", \"borda score\": 0.68, \"Precision\": 0.16, \"upper\": 0.76, \"lower\": 0.6000000000000001}, {\"Rank\": 12, \"emotion\": \"annoyed\", \"borda score\": 0.66, \"Precision\": 0.17, \"upper\": 0.745, \"lower\": 0.5750000000000001}, {\"Rank\": 13, \"emotion\": \"worried\", \"borda score\": 0.65, \"Precision\": 0.16, \"upper\": 0.73, \"lower\": 0.5700000000000001}, {\"Rank\": 14, \"emotion\": \"emotional\", \"borda score\": 0.62, \"Precision\": 0.19, \"upper\": 0.715, \"lower\": 0.525}]}}, {\"mode\": \"vega-lite\"});\n",
       "</script>"
      ],
      "text/plain": [
       "alt.HConcatChart(...)"
      ]
     },
     "execution_count": 94,
     "metadata": {},
     "output_type": "execute_result"
    }
   ],
   "source": [
    "sadness_wma_next_panel = (sadness_wma_forced.properties(width=200) | sadness_wma_free.properties(width=200) | sadness_wma_next.properties(width=200)).properties(title=\"White male - sadness\")\n",
    "sadness_wma_next_panel.configure_axis(grid=False, labelFontSize=12, titleFontSize=12).configure_view(strokeWidth=0).configure_title(dy=-12)"
   ]
  },
  {
   "cell_type": "code",
   "execution_count": 95,
   "id": "648d435d-4f35-4b20-a384-f54d7434510c",
   "metadata": {},
   "outputs": [],
   "source": [
    "save(sadness_wma_next_panel, \"../../emotions_dashboard/data/sadness_wma_next_panel_mturk.png\")"
   ]
  },
  {
   "cell_type": "code",
   "execution_count": 96,
   "id": "66540f60-7db0-4afa-b9fa-5e7bf15dfc5d",
   "metadata": {},
   "outputs": [],
   "source": [
    "## JOIN PANELS\n",
    "sadness_panel = (sadness_bfa_next_panel & sadness_bma_next_panel & sadness_wfa_next_panel & sadness_wma_next_panel).configure_axis(grid=False, labelFontSize=12, titleFontSize=12).configure_view(strokeWidth=0)\n",
    "save(sadness_panel, \"/mnt/c/Users/pablo/Desktop/dissertation-docs/images/sadness_panel_mturk.png\")"
   ]
  },
  {
   "cell_type": "markdown",
   "id": "337a1888-7317-4dd6-bb9d-1c3260baa245",
   "metadata": {},
   "source": [
    "## Surprise - Female of color"
   ]
  },
  {
   "cell_type": "code",
   "execution_count": 97,
   "id": "67cc22ae-8830-4d17-9e7f-192c0bb2ee5f",
   "metadata": {},
   "outputs": [
    {
     "name": "stderr",
     "output_type": "stream",
     "text": [
      "/tmp/ipykernel_11424/2691402293.py:11: FutureWarning: The default value of regex will change from True to False in a future version.\n",
      "  df_stack_single_word['emotion'] = df_stack_single_word['emotion'].str.replace('[^a-zA-Z]', '') # remove non-alphabetic characters\n"
     ]
    }
   ],
   "source": [
    "surprise_bfa_forced = photo_chart(df_emo_answers_forced, 'surprise',  0, df_forced_labels, emotion_st='surprise', n_mentions=2, photo=True)\n",
    "surprise_bfa_free = photo_chart(df_emo_answers_free, 'surprise',  0, df_free_labels, emotion_st='surprise', n_mentions=2)\n",
    "\n",
    "path = '../../emo-ranking-next/surprise_bipoc_female/mturk/borda_lilucb_ranking_mturk.csv'\n",
    "\n",
    "surprise_bfa_next = next_chart_wrapper(path, emotion='surprise', head=10)"
   ]
  },
  {
   "cell_type": "code",
   "execution_count": 98,
   "id": "05831dda-dcef-43c0-bfef-40633785475c",
   "metadata": {},
   "outputs": [
    {
     "data": {
      "text/html": [
       "\n",
       "<div id=\"altair-viz-f160f792112c44b68876b34fa030bedb\"></div>\n",
       "<script type=\"text/javascript\">\n",
       "  (function(spec, embedOpt){\n",
       "    let outputDiv = document.currentScript.previousElementSibling;\n",
       "    if (outputDiv.id !== \"altair-viz-f160f792112c44b68876b34fa030bedb\") {\n",
       "      outputDiv = document.getElementById(\"altair-viz-f160f792112c44b68876b34fa030bedb\");\n",
       "    }\n",
       "    const paths = {\n",
       "      \"vega\": \"https://cdn.jsdelivr.net/npm//vega@5?noext\",\n",
       "      \"vega-lib\": \"https://cdn.jsdelivr.net/npm//vega-lib?noext\",\n",
       "      \"vega-lite\": \"https://cdn.jsdelivr.net/npm//vega-lite@4.8.1?noext\",\n",
       "      \"vega-embed\": \"https://cdn.jsdelivr.net/npm//vega-embed@6?noext\",\n",
       "    };\n",
       "\n",
       "    function loadScript(lib) {\n",
       "      return new Promise(function(resolve, reject) {\n",
       "        var s = document.createElement('script');\n",
       "        s.src = paths[lib];\n",
       "        s.async = true;\n",
       "        s.onload = () => resolve(paths[lib]);\n",
       "        s.onerror = () => reject(`Error loading script: ${paths[lib]}`);\n",
       "        document.getElementsByTagName(\"head\")[0].appendChild(s);\n",
       "      });\n",
       "    }\n",
       "\n",
       "    function showError(err) {\n",
       "      outputDiv.innerHTML = `<div class=\"error\" style=\"color:red;\">${err}</div>`;\n",
       "      throw err;\n",
       "    }\n",
       "\n",
       "    function displayChart(vegaEmbed) {\n",
       "      vegaEmbed(outputDiv, spec, embedOpt)\n",
       "        .catch(err => showError(`Javascript Error: ${err.message}<br>This usually means there's a typo in your chart specification. See the javascript console for the full traceback.`));\n",
       "    }\n",
       "\n",
       "    if(typeof define === \"function\" && define.amd) {\n",
       "      requirejs.config({paths});\n",
       "      require([\"vega-embed\"], displayChart, err => showError(`Error loading script: ${err.message}`));\n",
       "    } else if (typeof vegaEmbed === \"function\") {\n",
       "      displayChart(vegaEmbed);\n",
       "    } else {\n",
       "      loadScript(\"vega\")\n",
       "        .then(() => loadScript(\"vega-lite\"))\n",
       "        .then(() => loadScript(\"vega-embed\"))\n",
       "        .catch(showError)\n",
       "        .then(() => displayChart(vegaEmbed));\n",
       "    }\n",
       "  })({\"config\": {\"view\": {\"continuousWidth\": 400, \"continuousHeight\": 300, \"strokeWidth\": 0}, \"axis\": {\"grid\": false, \"labelFontSize\": 12, \"titleFontSize\": 12}, \"title\": {\"dy\": -12}}, \"hconcat\": [{\"layer\": [{\"mark\": \"bar\", \"encoding\": {\"color\": {\"condition\": {\"value\": \"orange\", \"test\": \"(datum.emotion === 'surprise')\"}, \"value\": \"#0570b0\"}, \"x\": {\"type\": \"quantitative\", \"axis\": {\"format\": \".0%\"}, \"field\": \"percent\"}, \"y\": {\"type\": \"nominal\", \"field\": \"emotion\", \"sort\": \"-x\"}}, \"title\": \"Categories with 2 or more mentions | n= 52\"}, {\"mark\": {\"type\": \"text\", \"align\": \"left\", \"baseline\": \"middle\", \"dx\": 3, \"fontSize\": 12}, \"encoding\": {\"text\": {\"type\": \"quantitative\", \"field\": \"percent\", \"format\": \".1%\"}, \"x\": {\"type\": \"quantitative\", \"field\": \"percent\"}, \"y\": {\"type\": \"nominal\", \"field\": \"emotion\", \"sort\": \"-x\"}}}, {\"data\": {\"name\": \"data-29d7474c3d3834731c50deaabc63c59b\"}, \"mark\": {\"type\": \"image\", \"align\": \"center\", \"height\": 150, \"width\": 150, \"xOffset\": -100, \"yOffset\": 220}, \"encoding\": {\"url\": {\"type\": \"nominal\", \"field\": \"url\"}}}], \"data\": {\"name\": \"data-fe0b07b65925b29410012269cc7f8507\"}, \"width\": 200}, {\"layer\": [{\"mark\": \"bar\", \"encoding\": {\"color\": {\"condition\": {\"value\": \"orange\", \"test\": \"(datum.emotion === 'surprise')\"}, \"value\": \"#0570b0\"}, \"x\": {\"type\": \"quantitative\", \"axis\": {\"format\": \".0%\"}, \"field\": \"percent\"}, \"y\": {\"type\": \"nominal\", \"field\": \"emotion\", \"sort\": \"-x\"}}, \"title\": \"Categories with 2 or more mentions | n= 54\"}, {\"mark\": {\"type\": \"text\", \"align\": \"left\", \"baseline\": \"middle\", \"dx\": 3, \"fontSize\": 12}, \"encoding\": {\"text\": {\"type\": \"quantitative\", \"field\": \"percent\", \"format\": \".1%\"}, \"x\": {\"type\": \"quantitative\", \"field\": \"percent\"}, \"y\": {\"type\": \"nominal\", \"field\": \"emotion\", \"sort\": \"-x\"}}}], \"data\": {\"name\": \"data-bbf9be982ee05155f4e99e130f0d7a6f\"}, \"width\": 200}, {\"layer\": [{\"mark\": \"bar\", \"encoding\": {\"color\": {\"condition\": {\"value\": \"orange\", \"test\": \"(datum.emotion === 'surprise')\"}, \"value\": \"#0570b0\"}, \"x\": {\"type\": \"quantitative\", \"axis\": {\"format\": \".0\", \"title\": \"Borda score(bar and number), Score precision (horizontal line)\"}, \"field\": \"borda score\"}, \"y\": {\"type\": \"nominal\", \"field\": \"emotion\", \"sort\": \"-x\"}}, \"title\": \"Dueling bandits ranking | Top: 10\"}, {\"mark\": {\"type\": \"text\", \"align\": \"left\", \"baseline\": \"middle\", \"dx\": 3, \"fontSize\": 12}, \"encoding\": {\"text\": {\"type\": \"quantitative\", \"field\": \"borda score\"}, \"x\": {\"type\": \"quantitative\", \"field\": \"upper\"}, \"y\": {\"type\": \"nominal\", \"field\": \"emotion\", \"sort\": {\"field\": \"borda score\", \"order\": \"descending\"}}}}, {\"mark\": {\"type\": \"rule\", \"color\": \"black\"}, \"encoding\": {\"x\": {\"type\": \"quantitative\", \"field\": \"lower\", \"scale\": {\"zero\": false}}, \"x2\": {\"field\": \"upper\"}, \"y\": {\"type\": \"nominal\", \"field\": \"emotion\", \"sort\": {\"field\": \"borda score\", \"order\": \"descending\"}}}}], \"data\": {\"name\": \"data-d7fe6b69910f5efa4bba73c04a60a4cb\"}, \"width\": 200}], \"title\": \"Female of color - surprise\", \"$schema\": \"https://vega.github.io/schema/vega-lite/v4.8.1.json\", \"datasets\": {\"data-fe0b07b65925b29410012269cc7f8507\": [{\"counts\": 38, \"emotion\": \"happiness\", \"percent\": 0.7307692307692307}, {\"counts\": 7, \"emotion\": \"surprise\", \"percent\": 0.1346153846153846}, {\"counts\": 3, \"emotion\": \"neutral\", \"percent\": 0.057692307692307696}, {\"counts\": 2, \"emotion\": \"uncertain\", \"percent\": 0.038461538461538464}, {\"counts\": 2, \"emotion\": \"other\", \"percent\": 0.038461538461538464}], \"data-29d7474c3d3834731c50deaabc63c59b\": [{\"url\": \"https://uwmadison.co1.qualtrics.com/ControlPanel/Graphic.php?IM=IM_8FZs4DGyzYKeKQ6\"}], \"data-bbf9be982ee05155f4e99e130f0d7a6f\": [{\"counts\": 28, \"emotion\": \"happiness\", \"percent\": 0.5185185185185185}, {\"counts\": 6, \"emotion\": \"surprise\", \"percent\": 0.1111111111111111}, {\"counts\": 5, \"emotion\": \"smile\", \"percent\": 0.09259259259259259}, {\"counts\": 3, \"emotion\": \"none\", \"percent\": 0.05555555555555555}, {\"counts\": 2, \"emotion\": \"curious\", \"percent\": 0.037037037037037035}, {\"counts\": 2, \"emotion\": \"jovial\", \"percent\": 0.037037037037037035}, {\"counts\": 2, \"emotion\": \"amused\", \"percent\": 0.037037037037037035}, {\"counts\": 2, \"emotion\": \"interested\", \"percent\": 0.037037037037037035}, {\"counts\": 2, \"emotion\": \"good\", \"percent\": 0.037037037037037035}, {\"counts\": 2, \"emotion\": \"engaged\", \"percent\": 0.037037037037037035}], \"data-d7fe6b69910f5efa4bba73c04a60a4cb\": [{\"Rank\": 0, \"emotion\": \"surprise\", \"borda score\": 0.91, \"Precision\": 0.05, \"upper\": 0.935, \"lower\": 0.885}, {\"Rank\": 1, \"emotion\": \"curious\", \"borda score\": 0.78, \"Precision\": 0.11, \"upper\": 0.8350000000000001, \"lower\": 0.725}, {\"Rank\": 2, \"emotion\": \"simple\", \"borda score\": 0.77, \"Precision\": 0.11, \"upper\": 0.8250000000000001, \"lower\": 0.715}, {\"Rank\": 3, \"emotion\": \"wonder\", \"borda score\": 0.73, \"Precision\": 0.12, \"upper\": 0.79, \"lower\": 0.6699999999999999}, {\"Rank\": 4, \"emotion\": \"eager\", \"borda score\": 0.71, \"Precision\": 0.13, \"upper\": 0.7749999999999999, \"lower\": 0.645}, {\"Rank\": 5, \"emotion\": \"shocked\", \"borda score\": 0.68, \"Precision\": 0.15, \"upper\": 0.755, \"lower\": 0.6050000000000001}, {\"Rank\": 6, \"emotion\": \"startled\", \"borda score\": 0.65, \"Precision\": 0.16, \"upper\": 0.73, \"lower\": 0.5700000000000001}, {\"Rank\": 7, \"emotion\": \"excited\", \"borda score\": 0.65, \"Precision\": 0.16, \"upper\": 0.73, \"lower\": 0.5700000000000001}, {\"Rank\": 8, \"emotion\": \"happiness\", \"borda score\": 0.65, \"Precision\": 0.16, \"upper\": 0.73, \"lower\": 0.5700000000000001}, {\"Rank\": 9, \"emotion\": \"amazed\", \"borda score\": 0.65, \"Precision\": 0.16, \"upper\": 0.73, \"lower\": 0.5700000000000001}]}}, {\"mode\": \"vega-lite\"});\n",
       "</script>"
      ],
      "text/plain": [
       "alt.HConcatChart(...)"
      ]
     },
     "execution_count": 98,
     "metadata": {},
     "output_type": "execute_result"
    }
   ],
   "source": [
    "surprise_bfa_next_panel = (surprise_bfa_forced.properties(width=200) | surprise_bfa_free.properties(width=200) | surprise_bfa_next.properties(width=200)).properties(title=\"Female of color - surprise\")\n",
    "surprise_bfa_next_panel.configure_axis(grid=False, labelFontSize=12, titleFontSize=12).configure_view(strokeWidth=0).configure_title(dy=-12)"
   ]
  },
  {
   "cell_type": "code",
   "execution_count": 99,
   "id": "27664cbf-e686-485a-a4ab-627674caf998",
   "metadata": {},
   "outputs": [],
   "source": [
    "save(surprise_bfa_next_panel, \"../../emotions_dashboard/data/surprise_bfa_next_panel_mturk.png\")"
   ]
  },
  {
   "cell_type": "markdown",
   "id": "18cd81ee-c51d-4d7d-a4f3-8f7d35167a24",
   "metadata": {},
   "source": [
    "## Surprise - Male of color"
   ]
  },
  {
   "cell_type": "code",
   "execution_count": 100,
   "id": "ac5e4d7b-9a1c-44be-b8a2-e292982c95d4",
   "metadata": {},
   "outputs": [
    {
     "name": "stderr",
     "output_type": "stream",
     "text": [
      "/tmp/ipykernel_11424/2691402293.py:11: FutureWarning: The default value of regex will change from True to False in a future version.\n",
      "  df_stack_single_word['emotion'] = df_stack_single_word['emotion'].str.replace('[^a-zA-Z]', '') # remove non-alphabetic characters\n"
     ]
    }
   ],
   "source": [
    "surprise_bma_forced = photo_chart(df_emo_answers_forced, 'surprise',  10, df_forced_labels, emotion_st='surprise', n_mentions=2, photo=True, yoffset=260)\n",
    "surprise_bma_free = photo_chart(df_emo_answers_free, 'surprise',  10, df_free_labels, emotion_st='surprise', n_mentions=2)\n",
    "\n",
    "path = '../../emo-ranking-next/surprise_bipoc_male/mturk/borda_lilucb_ranking_mturk.csv'\n",
    "\n",
    "surprise_bma_next = next_chart_wrapper(path, emotion='surprise', head=30)"
   ]
  },
  {
   "cell_type": "code",
   "execution_count": 101,
   "id": "5ba2f850-e4c7-4ee6-ae45-73a49ce49c3e",
   "metadata": {},
   "outputs": [
    {
     "data": {
      "text/html": [
       "\n",
       "<div id=\"altair-viz-5f70774646e94a2daeee57826f1c9c9f\"></div>\n",
       "<script type=\"text/javascript\">\n",
       "  (function(spec, embedOpt){\n",
       "    let outputDiv = document.currentScript.previousElementSibling;\n",
       "    if (outputDiv.id !== \"altair-viz-5f70774646e94a2daeee57826f1c9c9f\") {\n",
       "      outputDiv = document.getElementById(\"altair-viz-5f70774646e94a2daeee57826f1c9c9f\");\n",
       "    }\n",
       "    const paths = {\n",
       "      \"vega\": \"https://cdn.jsdelivr.net/npm//vega@5?noext\",\n",
       "      \"vega-lib\": \"https://cdn.jsdelivr.net/npm//vega-lib?noext\",\n",
       "      \"vega-lite\": \"https://cdn.jsdelivr.net/npm//vega-lite@4.8.1?noext\",\n",
       "      \"vega-embed\": \"https://cdn.jsdelivr.net/npm//vega-embed@6?noext\",\n",
       "    };\n",
       "\n",
       "    function loadScript(lib) {\n",
       "      return new Promise(function(resolve, reject) {\n",
       "        var s = document.createElement('script');\n",
       "        s.src = paths[lib];\n",
       "        s.async = true;\n",
       "        s.onload = () => resolve(paths[lib]);\n",
       "        s.onerror = () => reject(`Error loading script: ${paths[lib]}`);\n",
       "        document.getElementsByTagName(\"head\")[0].appendChild(s);\n",
       "      });\n",
       "    }\n",
       "\n",
       "    function showError(err) {\n",
       "      outputDiv.innerHTML = `<div class=\"error\" style=\"color:red;\">${err}</div>`;\n",
       "      throw err;\n",
       "    }\n",
       "\n",
       "    function displayChart(vegaEmbed) {\n",
       "      vegaEmbed(outputDiv, spec, embedOpt)\n",
       "        .catch(err => showError(`Javascript Error: ${err.message}<br>This usually means there's a typo in your chart specification. See the javascript console for the full traceback.`));\n",
       "    }\n",
       "\n",
       "    if(typeof define === \"function\" && define.amd) {\n",
       "      requirejs.config({paths});\n",
       "      require([\"vega-embed\"], displayChart, err => showError(`Error loading script: ${err.message}`));\n",
       "    } else if (typeof vegaEmbed === \"function\") {\n",
       "      displayChart(vegaEmbed);\n",
       "    } else {\n",
       "      loadScript(\"vega\")\n",
       "        .then(() => loadScript(\"vega-lite\"))\n",
       "        .then(() => loadScript(\"vega-embed\"))\n",
       "        .catch(showError)\n",
       "        .then(() => displayChart(vegaEmbed));\n",
       "    }\n",
       "  })({\"config\": {\"view\": {\"continuousWidth\": 400, \"continuousHeight\": 300, \"strokeWidth\": 0}, \"axis\": {\"grid\": false, \"labelFontSize\": 12, \"titleFontSize\": 12}, \"title\": {\"dy\": -12}}, \"hconcat\": [{\"layer\": [{\"mark\": \"bar\", \"encoding\": {\"color\": {\"condition\": {\"value\": \"orange\", \"test\": \"(datum.emotion === 'surprise')\"}, \"value\": \"#0570b0\"}, \"x\": {\"type\": \"quantitative\", \"axis\": {\"format\": \".0%\"}, \"field\": \"percent\"}, \"y\": {\"type\": \"nominal\", \"field\": \"emotion\", \"sort\": \"-x\"}}, \"title\": \"Categories with 2 or more mentions | n= 50\"}, {\"mark\": {\"type\": \"text\", \"align\": \"left\", \"baseline\": \"middle\", \"dx\": 3, \"fontSize\": 12}, \"encoding\": {\"text\": {\"type\": \"quantitative\", \"field\": \"percent\", \"format\": \".1%\"}, \"x\": {\"type\": \"quantitative\", \"field\": \"percent\"}, \"y\": {\"type\": \"nominal\", \"field\": \"emotion\", \"sort\": \"-x\"}}}, {\"data\": {\"name\": \"data-cb6dbca13b3fce6227b15a3daaa08266\"}, \"mark\": {\"type\": \"image\", \"align\": \"center\", \"height\": 150, \"width\": 150, \"xOffset\": -100, \"yOffset\": 260}, \"encoding\": {\"url\": {\"type\": \"nominal\", \"field\": \"url\"}}}], \"data\": {\"name\": \"data-041323758e5aba8a10bb7cd53d3f4dcc\"}, \"width\": 200}, {\"layer\": [{\"mark\": \"bar\", \"encoding\": {\"color\": {\"condition\": {\"value\": \"orange\", \"test\": \"(datum.emotion === 'surprise')\"}, \"value\": \"#0570b0\"}, \"x\": {\"type\": \"quantitative\", \"axis\": {\"format\": \".0%\"}, \"field\": \"percent\"}, \"y\": {\"type\": \"nominal\", \"field\": \"emotion\", \"sort\": \"-x\"}}, \"title\": \"Categories with 2 or more mentions | n= 47\"}, {\"mark\": {\"type\": \"text\", \"align\": \"left\", \"baseline\": \"middle\", \"dx\": 3, \"fontSize\": 12}, \"encoding\": {\"text\": {\"type\": \"quantitative\", \"field\": \"percent\", \"format\": \".1%\"}, \"x\": {\"type\": \"quantitative\", \"field\": \"percent\"}, \"y\": {\"type\": \"nominal\", \"field\": \"emotion\", \"sort\": \"-x\"}}}], \"data\": {\"name\": \"data-a98bebe946fefa3b25e8f47bcbd9d922\"}, \"width\": 200}, {\"layer\": [{\"mark\": \"bar\", \"encoding\": {\"color\": {\"condition\": {\"value\": \"orange\", \"test\": \"(datum.emotion === 'surprise')\"}, \"value\": \"#0570b0\"}, \"x\": {\"type\": \"quantitative\", \"axis\": {\"format\": \".0\", \"title\": \"Borda score(bar and number), Score precision (horizontal line)\"}, \"field\": \"borda score\"}, \"y\": {\"type\": \"nominal\", \"field\": \"emotion\", \"sort\": \"-x\"}}, \"title\": \"Dueling bandits ranking | Top: 30\"}, {\"mark\": {\"type\": \"text\", \"align\": \"left\", \"baseline\": \"middle\", \"dx\": 3, \"fontSize\": 12}, \"encoding\": {\"text\": {\"type\": \"quantitative\", \"field\": \"borda score\"}, \"x\": {\"type\": \"quantitative\", \"field\": \"upper\"}, \"y\": {\"type\": \"nominal\", \"field\": \"emotion\", \"sort\": {\"field\": \"borda score\", \"order\": \"descending\"}}}}, {\"mark\": {\"type\": \"rule\", \"color\": \"black\"}, \"encoding\": {\"x\": {\"type\": \"quantitative\", \"field\": \"lower\", \"scale\": {\"zero\": false}}, \"x2\": {\"field\": \"upper\"}, \"y\": {\"type\": \"nominal\", \"field\": \"emotion\", \"sort\": {\"field\": \"borda score\", \"order\": \"descending\"}}}}], \"data\": {\"name\": \"data-4e46c0272e364e1d221a8d0e1422cf5b\"}, \"width\": 200}], \"title\": \"Male of color - surprise\", \"$schema\": \"https://vega.github.io/schema/vega-lite/v4.8.1.json\", \"datasets\": {\"data-041323758e5aba8a10bb7cd53d3f4dcc\": [{\"counts\": 13, \"emotion\": \"fear\", \"percent\": 0.26}, {\"counts\": 13, \"emotion\": \"neutral\", \"percent\": 0.26}, {\"counts\": 13, \"emotion\": \"surprise\", \"percent\": 0.26}, {\"counts\": 5, \"emotion\": \"uncertain\", \"percent\": 0.1}, {\"counts\": 4, \"emotion\": \"sadness\", \"percent\": 0.08}, {\"counts\": 2, \"emotion\": \"anger\", \"percent\": 0.04}], \"data-cb6dbca13b3fce6227b15a3daaa08266\": [{\"url\": \"https://uwmadison.co1.qualtrics.com/ControlPanel/Graphic.php?IM=IM_aaEwobdBBZ4nn02\"}], \"data-a98bebe946fefa3b25e8f47bcbd9d922\": [{\"counts\": 8, \"emotion\": \"confused\", \"percent\": 0.1702127659574468}, {\"counts\": 6, \"emotion\": \"surprise\", \"percent\": 0.1276595744680851}, {\"counts\": 4, \"emotion\": \"concerned\", \"percent\": 0.0851063829787234}, {\"counts\": 4, \"emotion\": \"shocked\", \"percent\": 0.0851063829787234}, {\"counts\": 4, \"emotion\": \"sadness\", \"percent\": 0.0851063829787234}, {\"counts\": 4, \"emotion\": \"none\", \"percent\": 0.0851063829787234}, {\"counts\": 3, \"emotion\": \"unsure\", \"percent\": 0.06382978723404255}, {\"counts\": 3, \"emotion\": \"confusion\", \"percent\": 0.06382978723404255}, {\"counts\": 3, \"emotion\": \"fear\", \"percent\": 0.06382978723404255}, {\"counts\": 2, \"emotion\": \"skeptical\", \"percent\": 0.0425531914893617}, {\"counts\": 2, \"emotion\": \"disgust\", \"percent\": 0.0425531914893617}, {\"counts\": 2, \"emotion\": \"uncertain\", \"percent\": 0.0425531914893617}, {\"counts\": 2, \"emotion\": \"thinking\", \"percent\": 0.0425531914893617}], \"data-4e46c0272e364e1d221a8d0e1422cf5b\": [{\"Rank\": 0, \"emotion\": \"confused\", \"borda score\": 0.89, \"Precision\": 0.1, \"upper\": 0.9400000000000001, \"lower\": 0.84}, {\"Rank\": 1, \"emotion\": \"startled\", \"borda score\": 0.89, \"Precision\": 0.08, \"upper\": 0.93, \"lower\": 0.85}, {\"Rank\": 2, \"emotion\": \"scared\", \"borda score\": 0.88, \"Precision\": 0.09, \"upper\": 0.925, \"lower\": 0.835}, {\"Rank\": 3, \"emotion\": \"stunned\", \"borda score\": 0.84, \"Precision\": 0.11, \"upper\": 0.895, \"lower\": 0.7849999999999999}, {\"Rank\": 4, \"emotion\": \"fear\", \"borda score\": 0.84, \"Precision\": 0.1, \"upper\": 0.89, \"lower\": 0.7899999999999999}, {\"Rank\": 5, \"emotion\": \"worried\", \"borda score\": 0.83, \"Precision\": 0.11, \"upper\": 0.885, \"lower\": 0.7749999999999999}, {\"Rank\": 6, \"emotion\": \"shocked\", \"borda score\": 0.82, \"Precision\": 0.11, \"upper\": 0.875, \"lower\": 0.7649999999999999}, {\"Rank\": 7, \"emotion\": \"unsure\", \"borda score\": 0.81, \"Precision\": 0.12, \"upper\": 0.8700000000000001, \"lower\": 0.75}, {\"Rank\": 8, \"emotion\": \"uncertain\", \"borda score\": 0.81, \"Precision\": 0.12, \"upper\": 0.8700000000000001, \"lower\": 0.75}, {\"Rank\": 9, \"emotion\": \"awe\", \"borda score\": 0.75, \"Precision\": 0.14, \"upper\": 0.8200000000000001, \"lower\": 0.6799999999999999}, {\"Rank\": 10, \"emotion\": \"neutral\", \"borda score\": 0.69, \"Precision\": 0.17, \"upper\": 0.7749999999999999, \"lower\": 0.605}, {\"Rank\": 11, \"emotion\": \"other\", \"borda score\": 0.69, \"Precision\": 0.17, \"upper\": 0.7749999999999999, \"lower\": 0.605}, {\"Rank\": 12, \"emotion\": \"skeptical\", \"borda score\": 0.68, \"Precision\": 0.18, \"upper\": 0.77, \"lower\": 0.5900000000000001}, {\"Rank\": 13, \"emotion\": \"silly\", \"borda score\": 0.61, \"Precision\": 0.21, \"upper\": 0.715, \"lower\": 0.505}, {\"Rank\": 14, \"emotion\": \"simple\", \"borda score\": 0.59, \"Precision\": 0.21, \"upper\": 0.695, \"lower\": 0.485}, {\"Rank\": 15, \"emotion\": \"concerned\", \"borda score\": 0.59, \"Precision\": 0.21, \"upper\": 0.695, \"lower\": 0.485}, {\"Rank\": 16, \"emotion\": \"curious\", \"borda score\": 0.59, \"Precision\": 0.21, \"upper\": 0.695, \"lower\": 0.485}, {\"Rank\": 17, \"emotion\": \"nice\", \"borda score\": 0.53, \"Precision\": 0.24, \"upper\": 0.65, \"lower\": 0.41000000000000003}, {\"Rank\": 18, \"emotion\": \"good\", \"borda score\": 0.53, \"Precision\": 0.24, \"upper\": 0.65, \"lower\": 0.41000000000000003}, {\"Rank\": 19, \"emotion\": \"excited\", \"borda score\": 0.5, \"Precision\": 0.24, \"upper\": 0.62, \"lower\": 0.38}, {\"Rank\": 20, \"emotion\": \"normal\", \"borda score\": 0.5, \"Precision\": 0.25, \"upper\": 0.625, \"lower\": 0.375}, {\"Rank\": 21, \"emotion\": \"amused\", \"borda score\": 0.42, \"Precision\": 0.29, \"upper\": 0.565, \"lower\": 0.275}, {\"Rank\": 22, \"emotion\": \"anger\", \"borda score\": 0.42, \"Precision\": 0.29, \"upper\": 0.565, \"lower\": 0.275}, {\"Rank\": 23, \"emotion\": \"sadness\", \"borda score\": 0.4, \"Precision\": 0.32, \"upper\": 0.56, \"lower\": 0.24000000000000002}, {\"Rank\": 24, \"emotion\": \"wonder\", \"borda score\": 0.4, \"Precision\": 0.32, \"upper\": 0.56, \"lower\": 0.24000000000000002}, {\"Rank\": 25, \"emotion\": \"playful\", \"borda score\": 0.36, \"Precision\": 0.3, \"upper\": 0.51, \"lower\": 0.21}, {\"Rank\": 26, \"emotion\": \"thrilled\", \"borda score\": 0.35, \"Precision\": 0.24, \"upper\": 0.47, \"lower\": 0.22999999999999998}, {\"Rank\": 27, \"emotion\": \"calm\", \"borda score\": 0.33, \"Precision\": 0.33, \"upper\": 0.495, \"lower\": 0.165}, {\"Rank\": 28, \"emotion\": \"surprise\", \"borda score\": 0.3, \"Precision\": 0.32, \"upper\": 0.45999999999999996, \"lower\": 0.13999999999999999}, {\"Rank\": 29, \"emotion\": \"amazed\", \"borda score\": 0.29, \"Precision\": 0.38, \"upper\": 0.48, \"lower\": 0.09999999999999998}]}}, {\"mode\": \"vega-lite\"});\n",
       "</script>"
      ],
      "text/plain": [
       "alt.HConcatChart(...)"
      ]
     },
     "execution_count": 101,
     "metadata": {},
     "output_type": "execute_result"
    }
   ],
   "source": [
    "surprise_bma_next_panel = (surprise_bma_forced.properties(width=200) | surprise_bma_free.properties(width=200) | surprise_bma_next.properties(width=200)).properties(title=\"Male of color - surprise\")\n",
    "surprise_bma_next_panel.configure_axis(grid=False, labelFontSize=12, titleFontSize=12).configure_view(strokeWidth=0).configure_title(dy=-12)"
   ]
  },
  {
   "cell_type": "code",
   "execution_count": 102,
   "id": "b1c83099-7b21-4635-9483-9f1756a3b65b",
   "metadata": {},
   "outputs": [],
   "source": [
    "save(surprise_bma_next_panel, \"../../emotions_dashboard/data/surprise_bma_next_panel_mturk.png\")"
   ]
  },
  {
   "cell_type": "markdown",
   "id": "aa4e33ba-eda0-49c5-ad37-92e631632fa3",
   "metadata": {},
   "source": [
    "## Surprise - White female"
   ]
  },
  {
   "cell_type": "code",
   "execution_count": 103,
   "id": "7853bae0-c3d7-438e-bc93-40ddf26afda6",
   "metadata": {},
   "outputs": [
    {
     "name": "stderr",
     "output_type": "stream",
     "text": [
      "/tmp/ipykernel_11424/2691402293.py:11: FutureWarning: The default value of regex will change from True to False in a future version.\n",
      "  df_stack_single_word['emotion'] = df_stack_single_word['emotion'].str.replace('[^a-zA-Z]', '') # remove non-alphabetic characters\n"
     ]
    }
   ],
   "source": [
    "surprise_wfa_forced = photo_chart(df_emo_answers_forced, 'surprise',  20, df_forced_labels, emotion_st='surprise', n_mentions=2, photo=True, yoffset=260)\n",
    "surprise_wfa_free = photo_chart(df_emo_answers_free, 'surprise',  20, df_free_labels, emotion_st='surprise', n_mentions=2)\n",
    "\n",
    "path = '../../emo-ranking-next/surprise_white_female/mturk/borda_lilucb_ranking_mturk.csv'\n",
    "\n",
    "surprise_wfa_next = next_chart_wrapper(path, emotion='surprise', head=10)"
   ]
  },
  {
   "cell_type": "code",
   "execution_count": 104,
   "id": "c901a606-3bb7-49ef-9587-4535d13ca616",
   "metadata": {},
   "outputs": [
    {
     "data": {
      "text/html": [
       "\n",
       "<div id=\"altair-viz-97977f95f7544b48b411292f4fe12b60\"></div>\n",
       "<script type=\"text/javascript\">\n",
       "  (function(spec, embedOpt){\n",
       "    let outputDiv = document.currentScript.previousElementSibling;\n",
       "    if (outputDiv.id !== \"altair-viz-97977f95f7544b48b411292f4fe12b60\") {\n",
       "      outputDiv = document.getElementById(\"altair-viz-97977f95f7544b48b411292f4fe12b60\");\n",
       "    }\n",
       "    const paths = {\n",
       "      \"vega\": \"https://cdn.jsdelivr.net/npm//vega@5?noext\",\n",
       "      \"vega-lib\": \"https://cdn.jsdelivr.net/npm//vega-lib?noext\",\n",
       "      \"vega-lite\": \"https://cdn.jsdelivr.net/npm//vega-lite@4.8.1?noext\",\n",
       "      \"vega-embed\": \"https://cdn.jsdelivr.net/npm//vega-embed@6?noext\",\n",
       "    };\n",
       "\n",
       "    function loadScript(lib) {\n",
       "      return new Promise(function(resolve, reject) {\n",
       "        var s = document.createElement('script');\n",
       "        s.src = paths[lib];\n",
       "        s.async = true;\n",
       "        s.onload = () => resolve(paths[lib]);\n",
       "        s.onerror = () => reject(`Error loading script: ${paths[lib]}`);\n",
       "        document.getElementsByTagName(\"head\")[0].appendChild(s);\n",
       "      });\n",
       "    }\n",
       "\n",
       "    function showError(err) {\n",
       "      outputDiv.innerHTML = `<div class=\"error\" style=\"color:red;\">${err}</div>`;\n",
       "      throw err;\n",
       "    }\n",
       "\n",
       "    function displayChart(vegaEmbed) {\n",
       "      vegaEmbed(outputDiv, spec, embedOpt)\n",
       "        .catch(err => showError(`Javascript Error: ${err.message}<br>This usually means there's a typo in your chart specification. See the javascript console for the full traceback.`));\n",
       "    }\n",
       "\n",
       "    if(typeof define === \"function\" && define.amd) {\n",
       "      requirejs.config({paths});\n",
       "      require([\"vega-embed\"], displayChart, err => showError(`Error loading script: ${err.message}`));\n",
       "    } else if (typeof vegaEmbed === \"function\") {\n",
       "      displayChart(vegaEmbed);\n",
       "    } else {\n",
       "      loadScript(\"vega\")\n",
       "        .then(() => loadScript(\"vega-lite\"))\n",
       "        .then(() => loadScript(\"vega-embed\"))\n",
       "        .catch(showError)\n",
       "        .then(() => displayChart(vegaEmbed));\n",
       "    }\n",
       "  })({\"config\": {\"view\": {\"continuousWidth\": 400, \"continuousHeight\": 300, \"strokeWidth\": 0}, \"axis\": {\"grid\": false, \"labelFontSize\": 12, \"titleFontSize\": 12}, \"title\": {\"dy\": -12}}, \"hconcat\": [{\"layer\": [{\"mark\": \"bar\", \"encoding\": {\"color\": {\"condition\": {\"value\": \"orange\", \"test\": \"(datum.emotion === 'surprise')\"}, \"value\": \"#0570b0\"}, \"x\": {\"type\": \"quantitative\", \"axis\": {\"format\": \".0%\"}, \"field\": \"percent\"}, \"y\": {\"type\": \"nominal\", \"field\": \"emotion\", \"sort\": \"-x\"}}, \"title\": \"Categories with 2 or more mentions | n= 51\"}, {\"mark\": {\"type\": \"text\", \"align\": \"left\", \"baseline\": \"middle\", \"dx\": 3, \"fontSize\": 12}, \"encoding\": {\"text\": {\"type\": \"quantitative\", \"field\": \"percent\", \"format\": \".1%\"}, \"x\": {\"type\": \"quantitative\", \"field\": \"percent\"}, \"y\": {\"type\": \"nominal\", \"field\": \"emotion\", \"sort\": \"-x\"}}}, {\"data\": {\"name\": \"data-9424a8a6aeff9363a4dec93573a5ee94\"}, \"mark\": {\"type\": \"image\", \"align\": \"center\", \"height\": 150, \"width\": 150, \"xOffset\": -100, \"yOffset\": 260}, \"encoding\": {\"url\": {\"type\": \"nominal\", \"field\": \"url\"}}}], \"data\": {\"name\": \"data-12f65a25df4c2c6517b45465c680d2cb\"}, \"width\": 200}, {\"layer\": [{\"mark\": \"bar\", \"encoding\": {\"color\": {\"condition\": {\"value\": \"orange\", \"test\": \"(datum.emotion === 'surprise')\"}, \"value\": \"#0570b0\"}, \"x\": {\"type\": \"quantitative\", \"axis\": {\"format\": \".0%\"}, \"field\": \"percent\"}, \"y\": {\"type\": \"nominal\", \"field\": \"emotion\", \"sort\": \"-x\"}}, \"title\": \"Categories with 2 or more mentions | n= 44\"}, {\"mark\": {\"type\": \"text\", \"align\": \"left\", \"baseline\": \"middle\", \"dx\": 3, \"fontSize\": 12}, \"encoding\": {\"text\": {\"type\": \"quantitative\", \"field\": \"percent\", \"format\": \".1%\"}, \"x\": {\"type\": \"quantitative\", \"field\": \"percent\"}, \"y\": {\"type\": \"nominal\", \"field\": \"emotion\", \"sort\": \"-x\"}}}], \"data\": {\"name\": \"data-25c2edca125b81d3a3361b9d77ce43bf\"}, \"width\": 200}, {\"layer\": [{\"mark\": \"bar\", \"encoding\": {\"color\": {\"condition\": {\"value\": \"orange\", \"test\": \"(datum.emotion === 'surprise')\"}, \"value\": \"#0570b0\"}, \"x\": {\"type\": \"quantitative\", \"axis\": {\"format\": \".0\", \"title\": \"Borda score(bar and number), Score precision (horizontal line)\"}, \"field\": \"borda score\"}, \"y\": {\"type\": \"nominal\", \"field\": \"emotion\", \"sort\": \"-x\"}}, \"title\": \"Dueling bandits ranking | Top: 10\"}, {\"mark\": {\"type\": \"text\", \"align\": \"left\", \"baseline\": \"middle\", \"dx\": 3, \"fontSize\": 12}, \"encoding\": {\"text\": {\"type\": \"quantitative\", \"field\": \"borda score\"}, \"x\": {\"type\": \"quantitative\", \"field\": \"upper\"}, \"y\": {\"type\": \"nominal\", \"field\": \"emotion\", \"sort\": {\"field\": \"borda score\", \"order\": \"descending\"}}}}, {\"mark\": {\"type\": \"rule\", \"color\": \"black\"}, \"encoding\": {\"x\": {\"type\": \"quantitative\", \"field\": \"lower\", \"scale\": {\"zero\": false}}, \"x2\": {\"field\": \"upper\"}, \"y\": {\"type\": \"nominal\", \"field\": \"emotion\", \"sort\": {\"field\": \"borda score\", \"order\": \"descending\"}}}}], \"data\": {\"name\": \"data-23f6bc5a542612bd2766ad3d3283fc35\"}, \"width\": 200}], \"title\": \"White female - surprise\", \"$schema\": \"https://vega.github.io/schema/vega-lite/v4.8.1.json\", \"datasets\": {\"data-12f65a25df4c2c6517b45465c680d2cb\": [{\"counts\": 24, \"emotion\": \"surprise\", \"percent\": 0.47058823529411764}, {\"counts\": 9, \"emotion\": \"fear\", \"percent\": 0.17647058823529413}, {\"counts\": 5, \"emotion\": \"other\", \"percent\": 0.09803921568627451}, {\"counts\": 4, \"emotion\": \"anger\", \"percent\": 0.0784313725490196}, {\"counts\": 3, \"emotion\": \"uncertain\", \"percent\": 0.058823529411764705}, {\"counts\": 3, \"emotion\": \"sadness\", \"percent\": 0.058823529411764705}, {\"counts\": 3, \"emotion\": \"disgust\", \"percent\": 0.058823529411764705}], \"data-9424a8a6aeff9363a4dec93573a5ee94\": [{\"url\": \"https://uwmadison.co1.qualtrics.com/ControlPanel/Graphic.php?IM=IM_eeAoCMWS4pQvliK\"}], \"data-25c2edca125b81d3a3361b9d77ce43bf\": [{\"counts\": 15, \"emotion\": \"surprise\", \"percent\": 0.3409090909090909}, {\"counts\": 8, \"emotion\": \"shocked\", \"percent\": 0.18181818181818182}, {\"counts\": 7, \"emotion\": \"none\", \"percent\": 0.1590909090909091}, {\"counts\": 4, \"emotion\": \"fear\", \"percent\": 0.09090909090909091}, {\"counts\": 4, \"emotion\": \"sadness\", \"percent\": 0.09090909090909091}, {\"counts\": 3, \"emotion\": \"silly\", \"percent\": 0.06818181818181818}, {\"counts\": 3, \"emotion\": \"disgust\", \"percent\": 0.06818181818181818}], \"data-23f6bc5a542612bd2766ad3d3283fc35\": [{\"Rank\": 0, \"emotion\": \"scared\", \"borda score\": 0.89, \"Precision\": 0.06, \"upper\": 0.92, \"lower\": 0.86}, {\"Rank\": 1, \"emotion\": \"unsure\", \"borda score\": 0.83, \"Precision\": 0.08, \"upper\": 0.87, \"lower\": 0.7899999999999999}, {\"Rank\": 2, \"emotion\": \"shocked\", \"borda score\": 0.7, \"Precision\": 0.14, \"upper\": 0.77, \"lower\": 0.6299999999999999}, {\"Rank\": 3, \"emotion\": \"fear\", \"borda score\": 0.7, \"Precision\": 0.13, \"upper\": 0.7649999999999999, \"lower\": 0.635}, {\"Rank\": 4, \"emotion\": \"confused\", \"borda score\": 0.7, \"Precision\": 0.13, \"upper\": 0.7649999999999999, \"lower\": 0.635}, {\"Rank\": 5, \"emotion\": \"excited\", \"borda score\": 0.69, \"Precision\": 0.14, \"upper\": 0.76, \"lower\": 0.6199999999999999}, {\"Rank\": 6, \"emotion\": \"funny\", \"borda score\": 0.65, \"Precision\": 0.16, \"upper\": 0.73, \"lower\": 0.5700000000000001}, {\"Rank\": 7, \"emotion\": \"surprise\", \"borda score\": 0.63, \"Precision\": 0.17, \"upper\": 0.715, \"lower\": 0.545}, {\"Rank\": 8, \"emotion\": \"neutral\", \"borda score\": 0.63, \"Precision\": 0.17, \"upper\": 0.715, \"lower\": 0.545}, {\"Rank\": 9, \"emotion\": \"simple\", \"borda score\": 0.63, \"Precision\": 0.17, \"upper\": 0.715, \"lower\": 0.545}]}}, {\"mode\": \"vega-lite\"});\n",
       "</script>"
      ],
      "text/plain": [
       "alt.HConcatChart(...)"
      ]
     },
     "execution_count": 104,
     "metadata": {},
     "output_type": "execute_result"
    }
   ],
   "source": [
    "surprise_wfa_next_panel = (surprise_wfa_forced.properties(width=200) | surprise_wfa_free.properties(width=200) | surprise_wfa_next.properties(width=200)).properties(title=\"White female - surprise\")\n",
    "surprise_wfa_next_panel.configure_axis(grid=False, labelFontSize=12, titleFontSize=12).configure_view(strokeWidth=0).configure_title(dy=-12)"
   ]
  },
  {
   "cell_type": "code",
   "execution_count": 105,
   "id": "046f2edb-cab2-450b-8835-a0dbee0e4c04",
   "metadata": {},
   "outputs": [],
   "source": [
    "save(surprise_wfa_next_panel, \"../../emotions_dashboard/data/surprise_wfa_next_panel_mturk.png\")"
   ]
  },
  {
   "cell_type": "markdown",
   "id": "57276d33-d6a5-4132-8f01-ed901eabd3a3",
   "metadata": {},
   "source": [
    "## Surprise - White male"
   ]
  },
  {
   "cell_type": "code",
   "execution_count": 106,
   "id": "f3d118c4-4182-44f4-b926-a0bd16e91e26",
   "metadata": {},
   "outputs": [
    {
     "name": "stderr",
     "output_type": "stream",
     "text": [
      "/tmp/ipykernel_11424/2691402293.py:11: FutureWarning: The default value of regex will change from True to False in a future version.\n",
      "  df_stack_single_word['emotion'] = df_stack_single_word['emotion'].str.replace('[^a-zA-Z]', '') # remove non-alphabetic characters\n"
     ]
    }
   ],
   "source": [
    "surprise_wma_forced = photo_chart(df_emo_answers_forced, 'surprise',  22, df_forced_labels, emotion_st='surprise', n_mentions=2, photo=True, yoffset=260)\n",
    "surprise_wma_free = photo_chart(df_emo_answers_free, 'surprise',  22, df_free_labels, emotion_st='surprise', n_mentions=2)\n",
    "\n",
    "path = '../../emo-ranking-next/surprise_white_male/mturk/borda_lilucb_ranking_mturk.csv'\n",
    "\n",
    "surprise_wma_next = next_chart_wrapper(path, emotion='surprise', head=10)"
   ]
  },
  {
   "cell_type": "code",
   "execution_count": 107,
   "id": "091c692e-4701-4f11-901c-74a50b363475",
   "metadata": {},
   "outputs": [
    {
     "data": {
      "text/html": [
       "\n",
       "<div id=\"altair-viz-a3e7bcad9b4946b58a6e7553f2e03f20\"></div>\n",
       "<script type=\"text/javascript\">\n",
       "  (function(spec, embedOpt){\n",
       "    let outputDiv = document.currentScript.previousElementSibling;\n",
       "    if (outputDiv.id !== \"altair-viz-a3e7bcad9b4946b58a6e7553f2e03f20\") {\n",
       "      outputDiv = document.getElementById(\"altair-viz-a3e7bcad9b4946b58a6e7553f2e03f20\");\n",
       "    }\n",
       "    const paths = {\n",
       "      \"vega\": \"https://cdn.jsdelivr.net/npm//vega@5?noext\",\n",
       "      \"vega-lib\": \"https://cdn.jsdelivr.net/npm//vega-lib?noext\",\n",
       "      \"vega-lite\": \"https://cdn.jsdelivr.net/npm//vega-lite@4.8.1?noext\",\n",
       "      \"vega-embed\": \"https://cdn.jsdelivr.net/npm//vega-embed@6?noext\",\n",
       "    };\n",
       "\n",
       "    function loadScript(lib) {\n",
       "      return new Promise(function(resolve, reject) {\n",
       "        var s = document.createElement('script');\n",
       "        s.src = paths[lib];\n",
       "        s.async = true;\n",
       "        s.onload = () => resolve(paths[lib]);\n",
       "        s.onerror = () => reject(`Error loading script: ${paths[lib]}`);\n",
       "        document.getElementsByTagName(\"head\")[0].appendChild(s);\n",
       "      });\n",
       "    }\n",
       "\n",
       "    function showError(err) {\n",
       "      outputDiv.innerHTML = `<div class=\"error\" style=\"color:red;\">${err}</div>`;\n",
       "      throw err;\n",
       "    }\n",
       "\n",
       "    function displayChart(vegaEmbed) {\n",
       "      vegaEmbed(outputDiv, spec, embedOpt)\n",
       "        .catch(err => showError(`Javascript Error: ${err.message}<br>This usually means there's a typo in your chart specification. See the javascript console for the full traceback.`));\n",
       "    }\n",
       "\n",
       "    if(typeof define === \"function\" && define.amd) {\n",
       "      requirejs.config({paths});\n",
       "      require([\"vega-embed\"], displayChart, err => showError(`Error loading script: ${err.message}`));\n",
       "    } else if (typeof vegaEmbed === \"function\") {\n",
       "      displayChart(vegaEmbed);\n",
       "    } else {\n",
       "      loadScript(\"vega\")\n",
       "        .then(() => loadScript(\"vega-lite\"))\n",
       "        .then(() => loadScript(\"vega-embed\"))\n",
       "        .catch(showError)\n",
       "        .then(() => displayChart(vegaEmbed));\n",
       "    }\n",
       "  })({\"config\": {\"view\": {\"continuousWidth\": 400, \"continuousHeight\": 300, \"strokeWidth\": 0}, \"axis\": {\"grid\": false, \"labelFontSize\": 12, \"titleFontSize\": 12}, \"title\": {\"dy\": -12}}, \"hconcat\": [{\"layer\": [{\"mark\": \"bar\", \"encoding\": {\"color\": {\"condition\": {\"value\": \"orange\", \"test\": \"(datum.emotion === 'surprise')\"}, \"value\": \"#0570b0\"}, \"x\": {\"type\": \"quantitative\", \"axis\": {\"format\": \".0%\"}, \"field\": \"percent\"}, \"y\": {\"type\": \"nominal\", \"field\": \"emotion\", \"sort\": \"-x\"}}, \"title\": \"Categories with 2 or more mentions | n= 51\"}, {\"mark\": {\"type\": \"text\", \"align\": \"left\", \"baseline\": \"middle\", \"dx\": 3, \"fontSize\": 12}, \"encoding\": {\"text\": {\"type\": \"quantitative\", \"field\": \"percent\", \"format\": \".1%\"}, \"x\": {\"type\": \"quantitative\", \"field\": \"percent\"}, \"y\": {\"type\": \"nominal\", \"field\": \"emotion\", \"sort\": \"-x\"}}}, {\"data\": {\"name\": \"data-7d1b174d59d279ca1feee9456fd288e3\"}, \"mark\": {\"type\": \"image\", \"align\": \"center\", \"height\": 150, \"width\": 150, \"xOffset\": -100, \"yOffset\": 260}, \"encoding\": {\"url\": {\"type\": \"nominal\", \"field\": \"url\"}}}], \"data\": {\"name\": \"data-2e225228bda0b2c623526486dfc4f1be\"}, \"width\": 200}, {\"layer\": [{\"mark\": \"bar\", \"encoding\": {\"color\": {\"condition\": {\"value\": \"orange\", \"test\": \"(datum.emotion === 'surprise')\"}, \"value\": \"#0570b0\"}, \"x\": {\"type\": \"quantitative\", \"axis\": {\"format\": \".0%\"}, \"field\": \"percent\"}, \"y\": {\"type\": \"nominal\", \"field\": \"emotion\", \"sort\": \"-x\"}}, \"title\": \"Categories with 2 or more mentions | n= 54\"}, {\"mark\": {\"type\": \"text\", \"align\": \"left\", \"baseline\": \"middle\", \"dx\": 3, \"fontSize\": 12}, \"encoding\": {\"text\": {\"type\": \"quantitative\", \"field\": \"percent\", \"format\": \".1%\"}, \"x\": {\"type\": \"quantitative\", \"field\": \"percent\"}, \"y\": {\"type\": \"nominal\", \"field\": \"emotion\", \"sort\": \"-x\"}}}], \"data\": {\"name\": \"data-6abd24749eb68b4190f4bd6f67e243b7\"}, \"width\": 200}, {\"layer\": [{\"mark\": \"bar\", \"encoding\": {\"color\": {\"condition\": {\"value\": \"orange\", \"test\": \"(datum.emotion === 'surprise')\"}, \"value\": \"#0570b0\"}, \"x\": {\"type\": \"quantitative\", \"axis\": {\"format\": \".0\", \"title\": \"Borda score(bar and number), Score precision (horizontal line)\"}, \"field\": \"borda score\"}, \"y\": {\"type\": \"nominal\", \"field\": \"emotion\", \"sort\": \"-x\"}}, \"title\": \"Dueling bandits ranking | Top: 10\"}, {\"mark\": {\"type\": \"text\", \"align\": \"left\", \"baseline\": \"middle\", \"dx\": 3, \"fontSize\": 12}, \"encoding\": {\"text\": {\"type\": \"quantitative\", \"field\": \"borda score\"}, \"x\": {\"type\": \"quantitative\", \"field\": \"upper\"}, \"y\": {\"type\": \"nominal\", \"field\": \"emotion\", \"sort\": {\"field\": \"borda score\", \"order\": \"descending\"}}}}, {\"mark\": {\"type\": \"rule\", \"color\": \"black\"}, \"encoding\": {\"x\": {\"type\": \"quantitative\", \"field\": \"lower\", \"scale\": {\"zero\": false}}, \"x2\": {\"field\": \"upper\"}, \"y\": {\"type\": \"nominal\", \"field\": \"emotion\", \"sort\": {\"field\": \"borda score\", \"order\": \"descending\"}}}}], \"data\": {\"name\": \"data-0bdc0f5cbffe67500f7ac954fe407559\"}, \"width\": 200}], \"title\": \"White male - surprise\", \"$schema\": \"https://vega.github.io/schema/vega-lite/v4.8.1.json\", \"datasets\": {\"data-2e225228bda0b2c623526486dfc4f1be\": [{\"counts\": 35, \"emotion\": \"surprise\", \"percent\": 0.6862745098039216}, {\"counts\": 5, \"emotion\": \"fear\", \"percent\": 0.09803921568627451}, {\"counts\": 3, \"emotion\": \"disgust\", \"percent\": 0.058823529411764705}, {\"counts\": 2, \"emotion\": \"other\", \"percent\": 0.0392156862745098}, {\"counts\": 2, \"emotion\": \"uncertain\", \"percent\": 0.0392156862745098}, {\"counts\": 2, \"emotion\": \"sadness\", \"percent\": 0.0392156862745098}, {\"counts\": 2, \"emotion\": \"happiness\", \"percent\": 0.0392156862745098}], \"data-7d1b174d59d279ca1feee9456fd288e3\": [{\"url\": \"https://uwmadison.co1.qualtrics.com/ControlPanel/Graphic.php?IM=IM_eIZrStbqVC3oHTo\"}], \"data-6abd24749eb68b4190f4bd6f67e243b7\": [{\"counts\": 22, \"emotion\": \"surprise\", \"percent\": 0.4074074074074074}, {\"counts\": 13, \"emotion\": \"shocked\", \"percent\": 0.24074074074074073}, {\"counts\": 7, \"emotion\": \"none\", \"percent\": 0.12962962962962962}, {\"counts\": 5, \"emotion\": \"disgust\", \"percent\": 0.09259259259259259}, {\"counts\": 3, \"emotion\": \"fear\", \"percent\": 0.05555555555555555}, {\"counts\": 2, \"emotion\": \"shocking\", \"percent\": 0.037037037037037035}, {\"counts\": 2, \"emotion\": \"sadness\", \"percent\": 0.037037037037037035}], \"data-0bdc0f5cbffe67500f7ac954fe407559\": [{\"Rank\": 0, \"emotion\": \"shocked\", \"borda score\": 0.88, \"Precision\": 0.09, \"upper\": 0.925, \"lower\": 0.835}, {\"Rank\": 1, \"emotion\": \"surprise\", \"borda score\": 0.87, \"Precision\": 0.08, \"upper\": 0.91, \"lower\": 0.83}, {\"Rank\": 2, \"emotion\": \"funny\", \"borda score\": 0.86, \"Precision\": 0.09, \"upper\": 0.905, \"lower\": 0.815}, {\"Rank\": 3, \"emotion\": \"wow\", \"borda score\": 0.83, \"Precision\": 0.1, \"upper\": 0.88, \"lower\": 0.7799999999999999}, {\"Rank\": 4, \"emotion\": \"startled\", \"borda score\": 0.77, \"Precision\": 0.13, \"upper\": 0.835, \"lower\": 0.7050000000000001}, {\"Rank\": 5, \"emotion\": \"awe\", \"borda score\": 0.75, \"Precision\": 0.14, \"upper\": 0.8200000000000001, \"lower\": 0.6799999999999999}, {\"Rank\": 6, \"emotion\": \"thrilled\", \"borda score\": 0.7, \"Precision\": 0.15, \"upper\": 0.7749999999999999, \"lower\": 0.625}, {\"Rank\": 7, \"emotion\": \"amazed\", \"borda score\": 0.68, \"Precision\": 0.17, \"upper\": 0.765, \"lower\": 0.5950000000000001}, {\"Rank\": 8, \"emotion\": \"stunned\", \"borda score\": 0.65, \"Precision\": 0.18, \"upper\": 0.74, \"lower\": 0.56}, {\"Rank\": 9, \"emotion\": \"scared\", \"borda score\": 0.63, \"Precision\": 0.19, \"upper\": 0.725, \"lower\": 0.535}]}}, {\"mode\": \"vega-lite\"});\n",
       "</script>"
      ],
      "text/plain": [
       "alt.HConcatChart(...)"
      ]
     },
     "execution_count": 107,
     "metadata": {},
     "output_type": "execute_result"
    }
   ],
   "source": [
    "surprise_wma_next_panel = (surprise_wma_forced.properties(width=200) | surprise_wma_free.properties(width=200) | surprise_wma_next.properties(width=200)).properties(title=\"White male - surprise\")\n",
    "surprise_wma_next_panel.configure_axis(grid=False, labelFontSize=12, titleFontSize=12).configure_view(strokeWidth=0).configure_title(dy=-12)"
   ]
  },
  {
   "cell_type": "code",
   "execution_count": 108,
   "id": "d2163039-f4dc-4a95-97f1-0544bbce6eb7",
   "metadata": {},
   "outputs": [],
   "source": [
    "save(surprise_wma_next_panel, \"../../emotions_dashboard/data/surprise_wma_next_panel_mturk.png\")"
   ]
  },
  {
   "cell_type": "code",
   "execution_count": 109,
   "id": "ddcf4385-9848-439a-ae9d-f1a4a4b5e9b0",
   "metadata": {},
   "outputs": [],
   "source": [
    "## JOIN PANELS\n",
    "surprise_panel = (surprise_bfa_next_panel & surprise_bma_next_panel & surprise_wfa_next_panel & surprise_wma_next_panel).configure_axis(grid=False, labelFontSize=12, titleFontSize=12).configure_view(strokeWidth=0)\n",
    "save(surprise_panel, \"/mnt/c/Users/pablo/Desktop/dissertation-docs/images/surprise_panel_mturk.png\")"
   ]
  }
 ],
 "metadata": {
  "kernelspec": {
   "display_name": "Python 3 (ipykernel)",
   "language": "python",
   "name": "python3"
  },
  "language_info": {
   "codemirror_mode": {
    "name": "ipython",
    "version": 3
   },
   "file_extension": ".py",
   "mimetype": "text/x-python",
   "name": "python",
   "nbconvert_exporter": "python",
   "pygments_lexer": "ipython3",
   "version": "3.9.7"
  }
 },
 "nbformat": 4,
 "nbformat_minor": 5
}
