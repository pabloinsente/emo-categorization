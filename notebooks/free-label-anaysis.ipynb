{
 "cells": [
  {
   "cell_type": "code",
   "execution_count": 2,
   "id": "ffd5fb88-26c9-4781-b45a-408d2b3cf8f8",
   "metadata": {},
   "outputs": [],
   "source": [
    "import pandas as pd\n",
    "import numpy as np\n",
    "import altair as alt\n",
    "import altair_saver"
   ]
  },
  {
   "cell_type": "markdown",
   "id": "d853dbc9-91a5-430c-b601-41594bb65c54",
   "metadata": {},
   "source": [
    "## Data ingestion"
   ]
  },
  {
   "cell_type": "code",
   "execution_count": 3,
   "id": "be8df92d-3e76-4141-89c4-daee0e6154ca",
   "metadata": {},
   "outputs": [],
   "source": [
    "df = pd.read_csv('../data/emotion_free_choice_uw_students.csv')\n",
    "df_label = pd.read_csv('../data/emotion_labels.csv')"
   ]
  },
  {
   "cell_type": "code",
   "execution_count": 4,
   "id": "d4effccc-1de0-45d6-ad68-44e790f74042",
   "metadata": {},
   "outputs": [],
   "source": [
    "df_label['url'] = df_label['url'].astype(str)"
   ]
  },
  {
   "cell_type": "code",
   "execution_count": 5,
   "id": "62f7d6c8-0b0a-4a54-8377-8582815e52b0",
   "metadata": {},
   "outputs": [],
   "source": [
    "# replicate rows by 4 to match with free responses\n",
    "df_labels = pd.DataFrame(np.repeat(df_label.values, 4, axis=0))\n",
    "df_labels.columns = df_label.columns"
   ]
  },
  {
   "cell_type": "code",
   "execution_count": 6,
   "id": "49d09f59-548a-4cd0-8a9d-f8fe8e78390a",
   "metadata": {},
   "outputs": [],
   "source": [
    "df_labels.to_csv('../data/emotion_labels_free_choice.csv', index=False)"
   ]
  },
  {
   "cell_type": "code",
   "execution_count": 7,
   "id": "d2c42396-5dca-4f13-a299-64626ca3f01c",
   "metadata": {},
   "outputs": [
    {
     "name": "stdout",
     "output_type": "stream",
     "text": [
      "<class 'pandas.core.frame.DataFrame'>\n",
      "RangeIndex: 101 entries, 0 to 100\n",
      "Columns: 802 entries, StartDate to Q195.1_4\n",
      "dtypes: object(802)\n",
      "memory usage: 633.0+ KB\n"
     ]
    }
   ],
   "source": [
    "df.info()"
   ]
  },
  {
   "cell_type": "code",
   "execution_count": 8,
   "id": "bdfb7630-fc0f-4f70-947b-fd6b2f5dd1f5",
   "metadata": {},
   "outputs": [],
   "source": [
    "df = df.iloc[19:, :]  # filter out test rows"
   ]
  },
  {
   "cell_type": "code",
   "execution_count": 9,
   "id": "d513fa30-34cb-4314-aebf-7a6a441af17b",
   "metadata": {},
   "outputs": [
    {
     "name": "stdout",
     "output_type": "stream",
     "text": [
      "<class 'pandas.core.frame.DataFrame'>\n",
      "RangeIndex: 82 entries, 19 to 100\n",
      "Columns: 802 entries, StartDate to Q195.1_4\n",
      "dtypes: object(802)\n",
      "memory usage: 513.9+ KB\n"
     ]
    }
   ],
   "source": [
    "df.info()"
   ]
  },
  {
   "cell_type": "code",
   "execution_count": 10,
   "id": "58d7ead7-f3ce-4f48-8bed-44e0c61e94d8",
   "metadata": {},
   "outputs": [],
   "source": [
    "df = df[df['Finished'] =='True'] # filter out incomplete surveys"
   ]
  },
  {
   "cell_type": "code",
   "execution_count": 11,
   "id": "c52e5026-17bb-4fd8-b6c7-7c0fd010407d",
   "metadata": {},
   "outputs": [
    {
     "name": "stdout",
     "output_type": "stream",
     "text": [
      "<class 'pandas.core.frame.DataFrame'>\n",
      "Int64Index: 51 entries, 19 to 95\n",
      "Columns: 802 entries, StartDate to Q195.1_4\n",
      "dtypes: object(802)\n",
      "memory usage: 319.9+ KB\n"
     ]
    }
   ],
   "source": [
    "df.info()"
   ]
  },
  {
   "cell_type": "code",
   "execution_count": 12,
   "id": "e3f02196-2ef9-45c7-8745-e273eeccc7be",
   "metadata": {},
   "outputs": [],
   "source": [
    "df.rename(columns={\n",
    "    'Q1.2': 'sex',\n",
    "    'Q1.3_1': 'age',\n",
    "    'Q1.4': 'ethnicity',\n",
    "    'Q1.5': 'formal education',\n",
    "    'Q1.6_1': 'income'}, inplace=True)"
   ]
  },
  {
   "cell_type": "code",
   "execution_count": 13,
   "id": "57c9bad2-f874-4c4a-bc0e-77041a295d08",
   "metadata": {},
   "outputs": [],
   "source": [
    "df.to_csv('../clean_data/free_choice_emotion_uw_students.csv', index=False)"
   ]
  },
  {
   "cell_type": "code",
   "execution_count": 14,
   "id": "da12a2e4-317e-47b1-8aa9-f14571ce3e0c",
   "metadata": {},
   "outputs": [],
   "source": [
    "# placeholders to save svg strings\n",
    "svg_str = []\n",
    "image_title = []"
   ]
  },
  {
   "cell_type": "markdown",
   "id": "e483bc62-c6bb-453d-b764-87c769f3fccb",
   "metadata": {},
   "source": [
    "## Demographics"
   ]
  },
  {
   "cell_type": "code",
   "execution_count": 15,
   "id": "f1c38d81-f011-4d8b-986e-c15c54c0774e",
   "metadata": {},
   "outputs": [],
   "source": [
    "def count_freq_labels(df, X=\"all\", col=\"emotion\"):\n",
    "    if X == \"all\":\n",
    "        df_counts = df.stack().reset_index(drop=True).value_counts() # stack as series\n",
    "        df_counts = df_counts.to_frame('counts') # get value_counts as df\n",
    "        df_counts['emotion'] = df_counts.index # get index as col\n",
    "    elif X == \"stacked\":\n",
    "        df_counts = df[col].value_counts() # count word frequency\n",
    "        df_counts = df_counts.to_frame('counts') # get value_counts as df\n",
    "        df_counts['emotion'] = df_counts.index # get index as col    \n",
    "    else:\n",
    "        df_counts = df[X].reset_index(drop=True).value_counts() # stack as series\n",
    "        df_counts = df_counts.to_frame('counts') # get value_counts as df\n",
    "        df_counts[X] = df_counts.index # get index as col\n",
    "\n",
    "    df_counts = df_counts.reset_index(drop=True) # clean index\n",
    "    df_counts['percent'] = df_counts['counts'] / df_counts['counts'].sum() # compute percentage\n",
    "    return df_counts"
   ]
  },
  {
   "cell_type": "code",
   "execution_count": 16,
   "id": "14fdf161-816c-45e3-abd3-42fe93cad5f9",
   "metadata": {},
   "outputs": [],
   "source": [
    "def simple_per_bar(\n",
    "    df, title='Title', X='percent:Q', Y='emotion:N', \\\n",
    "    width=450, height=250, sort='-x', \\\n",
    "    text_size = 12, label_size = 11, title_size=12, \\\n",
    "    emotion='Some', color1='#0570b0', color2='orange'):\n",
    "    \n",
    "    bars = alt.Chart(df, title=title).mark_bar().encode(\n",
    "        alt.X(X, axis=alt.Axis(format='.0%')),\n",
    "        y=alt.Y(Y, sort=sort), \n",
    "        color=alt.condition(\n",
    "            alt.datum.emotion == emotion,\n",
    "            alt.value(color2),\n",
    "            alt.value(color1)\n",
    "        ))\n",
    "    \n",
    "    text = bars.mark_text(\n",
    "    align='left',\n",
    "    baseline='middle',\n",
    "    dx=3,  # Nudges text to right so it doesn't appear on top of the bar\n",
    "    fontSize=text_size\n",
    "    ).encode(\n",
    "        alt.Text(X, format='.1%')\n",
    "    )\n",
    "    \n",
    "    chart = (bars + text).configure_axis(\n",
    "            labelFontSize=label_size,\n",
    "            titleFontSize=title_size).properties(\n",
    "                width=width, \n",
    "                height=height)\n",
    "    \n",
    "    \n",
    "    return chart"
   ]
  },
  {
   "cell_type": "code",
   "execution_count": 17,
   "id": "feab7d3c-676f-4b3e-8c3c-cc03c6c2e8e1",
   "metadata": {},
   "outputs": [],
   "source": [
    "def simple_count_bar(\n",
    "    df, title='Title', X='counts:Q', Y='emotion:N', \\\n",
    "    width=450, height=250, sort='-x', \\\n",
    "    text_size = 12, label_size = 11, title_size=12,\n",
    "    emotion='Some', color1='#0570b0', color2='#orange'):\n",
    "    \n",
    "    bars = alt.Chart(df, title=title).mark_bar().encode(\n",
    "        alt.X(X),\n",
    "        y=alt.Y(Y, sort=sort), \n",
    "        color=alt.condition(\n",
    "            alt.datum.emotion == emotion,\n",
    "            alt.value(color2),\n",
    "            alt.value(color1)\n",
    "        ))\n",
    "    \n",
    "    text = bars.mark_text(\n",
    "    align='left',\n",
    "    baseline='middle',\n",
    "    dx=3,  # Nudges text to right so it doesn't appear on top of the bar\n",
    "    fontSize=text_size\n",
    "    ).encode(\n",
    "        alt.Text(X)\n",
    "    )\n",
    "    \n",
    "    chart = (bars + text).configure_axis(\n",
    "            labelFontSize=label_size,\n",
    "            titleFontSize=title_size).properties(\n",
    "                width=width, \n",
    "                height=height)\n",
    "    \n",
    "    \n",
    "    return chart"
   ]
  },
  {
   "cell_type": "code",
   "execution_count": 18,
   "id": "427b03c3-848f-413a-9fbf-b7d2d65681e1",
   "metadata": {},
   "outputs": [],
   "source": [
    "source = count_freq_labels(df, X=\"sex\") \n",
    "title = 'Sex | n = '+ source['counts'].sum().astype(str)\n",
    "X, Y = 'percent:Q', 'sex:N'\n",
    "w, h= 450, 100\n",
    "txs, ls, ts = 12, 12, 12\n",
    "\n",
    "chart_sex = simple_per_bar(source, title=title, X=X, Y=Y, width=w, height=h, text_size = txs, label_size = ls, title_size=ts)"
   ]
  },
  {
   "cell_type": "code",
   "execution_count": 19,
   "id": "4339abf2-e757-438b-8d2e-90993d18e3b3",
   "metadata": {},
   "outputs": [
    {
     "data": {
      "text/html": [
       "\n",
       "<div id=\"altair-viz-0184249c941b434ba2fcbf139c59121b\"></div>\n",
       "<script type=\"text/javascript\">\n",
       "  (function(spec, embedOpt){\n",
       "    let outputDiv = document.currentScript.previousElementSibling;\n",
       "    if (outputDiv.id !== \"altair-viz-0184249c941b434ba2fcbf139c59121b\") {\n",
       "      outputDiv = document.getElementById(\"altair-viz-0184249c941b434ba2fcbf139c59121b\");\n",
       "    }\n",
       "    const paths = {\n",
       "      \"vega\": \"https://cdn.jsdelivr.net/npm//vega@5?noext\",\n",
       "      \"vega-lib\": \"https://cdn.jsdelivr.net/npm//vega-lib?noext\",\n",
       "      \"vega-lite\": \"https://cdn.jsdelivr.net/npm//vega-lite@4.8.1?noext\",\n",
       "      \"vega-embed\": \"https://cdn.jsdelivr.net/npm//vega-embed@6?noext\",\n",
       "    };\n",
       "\n",
       "    function loadScript(lib) {\n",
       "      return new Promise(function(resolve, reject) {\n",
       "        var s = document.createElement('script');\n",
       "        s.src = paths[lib];\n",
       "        s.async = true;\n",
       "        s.onload = () => resolve(paths[lib]);\n",
       "        s.onerror = () => reject(`Error loading script: ${paths[lib]}`);\n",
       "        document.getElementsByTagName(\"head\")[0].appendChild(s);\n",
       "      });\n",
       "    }\n",
       "\n",
       "    function showError(err) {\n",
       "      outputDiv.innerHTML = `<div class=\"error\" style=\"color:red;\">${err}</div>`;\n",
       "      throw err;\n",
       "    }\n",
       "\n",
       "    function displayChart(vegaEmbed) {\n",
       "      vegaEmbed(outputDiv, spec, embedOpt)\n",
       "        .catch(err => showError(`Javascript Error: ${err.message}<br>This usually means there's a typo in your chart specification. See the javascript console for the full traceback.`));\n",
       "    }\n",
       "\n",
       "    if(typeof define === \"function\" && define.amd) {\n",
       "      requirejs.config({paths});\n",
       "      require([\"vega-embed\"], displayChart, err => showError(`Error loading script: ${err.message}`));\n",
       "    } else if (typeof vegaEmbed === \"function\") {\n",
       "      displayChart(vegaEmbed);\n",
       "    } else {\n",
       "      loadScript(\"vega\")\n",
       "        .then(() => loadScript(\"vega-lite\"))\n",
       "        .then(() => loadScript(\"vega-embed\"))\n",
       "        .catch(showError)\n",
       "        .then(() => displayChart(vegaEmbed));\n",
       "    }\n",
       "  })({\"config\": {\"view\": {\"continuousWidth\": 400, \"continuousHeight\": 300}, \"axis\": {\"labelFontSize\": 12, \"titleFontSize\": 12}}, \"layer\": [{\"mark\": \"bar\", \"encoding\": {\"color\": {\"condition\": {\"value\": \"orange\", \"test\": \"(datum.emotion === 'Some')\"}, \"value\": \"#0570b0\"}, \"x\": {\"type\": \"quantitative\", \"axis\": {\"format\": \".0%\"}, \"field\": \"percent\"}, \"y\": {\"type\": \"nominal\", \"field\": \"sex\", \"sort\": \"-x\"}}, \"title\": \"Sex | n = 49\"}, {\"mark\": {\"type\": \"text\", \"align\": \"left\", \"baseline\": \"middle\", \"dx\": 3, \"fontSize\": 12}, \"encoding\": {\"color\": {\"condition\": {\"value\": \"orange\", \"test\": \"(datum.emotion === 'Some')\"}, \"value\": \"#0570b0\"}, \"text\": {\"type\": \"quantitative\", \"field\": \"percent\", \"format\": \".1%\"}, \"x\": {\"type\": \"quantitative\", \"axis\": {\"format\": \".0%\"}, \"field\": \"percent\"}, \"y\": {\"type\": \"nominal\", \"field\": \"sex\", \"sort\": \"-x\"}}, \"title\": \"Sex | n = 49\"}], \"data\": {\"name\": \"data-f532128b48499339a56e8d7ba73b9a75\"}, \"height\": 100, \"width\": 450, \"$schema\": \"https://vega.github.io/schema/vega-lite/v4.8.1.json\", \"datasets\": {\"data-f532128b48499339a56e8d7ba73b9a75\": [{\"counts\": 30, \"sex\": \"Female\", \"percent\": 0.6122448979591837}, {\"counts\": 18, \"sex\": \"Male\", \"percent\": 0.3673469387755102}, {\"counts\": 1, \"sex\": \"Non-binary / third gender\", \"percent\": 0.02040816326530612}]}}, {\"renderer\": \"svg\", \"mode\": \"vega-lite\"});\n",
       "</script>"
      ],
      "text/plain": [
       "alt.LayerChart(...)"
      ]
     },
     "metadata": {},
     "output_type": "display_data"
    }
   ],
   "source": [
    "chart_sex.display(renderer='svg')"
   ]
  },
  {
   "cell_type": "code",
   "execution_count": 20,
   "id": "fdcc43d1-bd77-4971-95e0-cb7997910bd0",
   "metadata": {},
   "outputs": [],
   "source": [
    "chart_sex_string = altair_saver.save(chart_sex, fmt='svg')\n",
    "image_title.append('Participants by sex')\n",
    "svg_str.append(chart_sex_string)"
   ]
  },
  {
   "cell_type": "code",
   "execution_count": 21,
   "id": "f1ff63e2-4577-4610-a865-bd32bef0757e",
   "metadata": {},
   "outputs": [
    {
     "data": {
      "text/html": [
       "\n",
       "<div id=\"altair-viz-4e4ac0f9f51b4b628e1d69bf522a824c\"></div>\n",
       "<script type=\"text/javascript\">\n",
       "  (function(spec, embedOpt){\n",
       "    let outputDiv = document.currentScript.previousElementSibling;\n",
       "    if (outputDiv.id !== \"altair-viz-4e4ac0f9f51b4b628e1d69bf522a824c\") {\n",
       "      outputDiv = document.getElementById(\"altair-viz-4e4ac0f9f51b4b628e1d69bf522a824c\");\n",
       "    }\n",
       "    const paths = {\n",
       "      \"vega\": \"https://cdn.jsdelivr.net/npm//vega@5?noext\",\n",
       "      \"vega-lib\": \"https://cdn.jsdelivr.net/npm//vega-lib?noext\",\n",
       "      \"vega-lite\": \"https://cdn.jsdelivr.net/npm//vega-lite@4.8.1?noext\",\n",
       "      \"vega-embed\": \"https://cdn.jsdelivr.net/npm//vega-embed@6?noext\",\n",
       "    };\n",
       "\n",
       "    function loadScript(lib) {\n",
       "      return new Promise(function(resolve, reject) {\n",
       "        var s = document.createElement('script');\n",
       "        s.src = paths[lib];\n",
       "        s.async = true;\n",
       "        s.onload = () => resolve(paths[lib]);\n",
       "        s.onerror = () => reject(`Error loading script: ${paths[lib]}`);\n",
       "        document.getElementsByTagName(\"head\")[0].appendChild(s);\n",
       "      });\n",
       "    }\n",
       "\n",
       "    function showError(err) {\n",
       "      outputDiv.innerHTML = `<div class=\"error\" style=\"color:red;\">${err}</div>`;\n",
       "      throw err;\n",
       "    }\n",
       "\n",
       "    function displayChart(vegaEmbed) {\n",
       "      vegaEmbed(outputDiv, spec, embedOpt)\n",
       "        .catch(err => showError(`Javascript Error: ${err.message}<br>This usually means there's a typo in your chart specification. See the javascript console for the full traceback.`));\n",
       "    }\n",
       "\n",
       "    if(typeof define === \"function\" && define.amd) {\n",
       "      requirejs.config({paths});\n",
       "      require([\"vega-embed\"], displayChart, err => showError(`Error loading script: ${err.message}`));\n",
       "    } else if (typeof vegaEmbed === \"function\") {\n",
       "      displayChart(vegaEmbed);\n",
       "    } else {\n",
       "      loadScript(\"vega\")\n",
       "        .then(() => loadScript(\"vega-lite\"))\n",
       "        .then(() => loadScript(\"vega-embed\"))\n",
       "        .catch(showError)\n",
       "        .then(() => displayChart(vegaEmbed));\n",
       "    }\n",
       "  })({\"config\": {\"view\": {\"continuousWidth\": 400, \"continuousHeight\": 300}, \"axis\": {\"labelFontSize\": 11, \"titleFontSize\": 12}}, \"layer\": [{\"mark\": \"bar\", \"encoding\": {\"color\": {\"condition\": {\"value\": \"orange\", \"test\": \"(datum.emotion === 'Some')\"}, \"value\": \"#0570b0\"}, \"x\": {\"type\": \"quantitative\", \"axis\": {\"format\": \".0%\"}, \"field\": \"percent\"}, \"y\": {\"type\": \"nominal\", \"field\": \"age\", \"sort\": \"-x\"}}, \"title\": \"Age | n = 40\"}, {\"mark\": {\"type\": \"text\", \"align\": \"left\", \"baseline\": \"middle\", \"dx\": 3, \"fontSize\": 12}, \"encoding\": {\"color\": {\"condition\": {\"value\": \"orange\", \"test\": \"(datum.emotion === 'Some')\"}, \"value\": \"#0570b0\"}, \"text\": {\"type\": \"quantitative\", \"field\": \"percent\", \"format\": \".1%\"}, \"x\": {\"type\": \"quantitative\", \"axis\": {\"format\": \".0%\"}, \"field\": \"percent\"}, \"y\": {\"type\": \"nominal\", \"field\": \"age\", \"sort\": \"-x\"}}, \"title\": \"Age | n = 40\"}], \"data\": {\"name\": \"data-c1505fd350018eb246ebeb88a5103d05\"}, \"height\": 150, \"width\": 450, \"$schema\": \"https://vega.github.io/schema/vega-lite/v4.8.1.json\", \"datasets\": {\"data-c1505fd350018eb246ebeb88a5103d05\": [{\"counts\": 31, \"age\": \"18\", \"percent\": 0.775}, {\"counts\": 7, \"age\": \"19\", \"percent\": 0.175}, {\"counts\": 2, \"age\": \"20\", \"percent\": 0.05}]}}, {\"renderer\": \"svg\", \"mode\": \"vega-lite\"});\n",
       "</script>"
      ],
      "text/plain": [
       "alt.LayerChart(...)"
      ]
     },
     "metadata": {},
     "output_type": "display_data"
    }
   ],
   "source": [
    "source = count_freq_labels(df, X=\"age\") \n",
    "title = 'Age | n = '+ source['counts'].sum().astype(str)\n",
    "X, Y = 'percent:Q', 'age:N'\n",
    "w, h= 450, 150\n",
    "txs, ls, ts = 12, 11, 12\n",
    "\n",
    "chart_age = simple_per_bar(\n",
    "    source, title=title, X=X, Y=Y, \\\n",
    "    width=w, height=h, \\\n",
    "    text_size = txs, label_size = ls, title_size=ts)\n",
    "chart_age.display(renderer='svg')"
   ]
  },
  {
   "cell_type": "code",
   "execution_count": 22,
   "id": "2ad121e1-cdd4-4b5d-8ecd-85f8c3cb833b",
   "metadata": {},
   "outputs": [],
   "source": [
    "chart_age_str = altair_saver.save(chart_age, fmt='svg')\n",
    "image_title.append('Participants by age')\n",
    "svg_str.append(chart_age_str)"
   ]
  },
  {
   "cell_type": "code",
   "execution_count": 23,
   "id": "6a1920f7-006a-492e-bf43-88df78d13f6c",
   "metadata": {},
   "outputs": [
    {
     "data": {
      "text/html": [
       "\n",
       "<div id=\"altair-viz-cb27ad2ed1d749d6a1e230ee64efa351\"></div>\n",
       "<script type=\"text/javascript\">\n",
       "  (function(spec, embedOpt){\n",
       "    let outputDiv = document.currentScript.previousElementSibling;\n",
       "    if (outputDiv.id !== \"altair-viz-cb27ad2ed1d749d6a1e230ee64efa351\") {\n",
       "      outputDiv = document.getElementById(\"altair-viz-cb27ad2ed1d749d6a1e230ee64efa351\");\n",
       "    }\n",
       "    const paths = {\n",
       "      \"vega\": \"https://cdn.jsdelivr.net/npm//vega@5?noext\",\n",
       "      \"vega-lib\": \"https://cdn.jsdelivr.net/npm//vega-lib?noext\",\n",
       "      \"vega-lite\": \"https://cdn.jsdelivr.net/npm//vega-lite@4.8.1?noext\",\n",
       "      \"vega-embed\": \"https://cdn.jsdelivr.net/npm//vega-embed@6?noext\",\n",
       "    };\n",
       "\n",
       "    function loadScript(lib) {\n",
       "      return new Promise(function(resolve, reject) {\n",
       "        var s = document.createElement('script');\n",
       "        s.src = paths[lib];\n",
       "        s.async = true;\n",
       "        s.onload = () => resolve(paths[lib]);\n",
       "        s.onerror = () => reject(`Error loading script: ${paths[lib]}`);\n",
       "        document.getElementsByTagName(\"head\")[0].appendChild(s);\n",
       "      });\n",
       "    }\n",
       "\n",
       "    function showError(err) {\n",
       "      outputDiv.innerHTML = `<div class=\"error\" style=\"color:red;\">${err}</div>`;\n",
       "      throw err;\n",
       "    }\n",
       "\n",
       "    function displayChart(vegaEmbed) {\n",
       "      vegaEmbed(outputDiv, spec, embedOpt)\n",
       "        .catch(err => showError(`Javascript Error: ${err.message}<br>This usually means there's a typo in your chart specification. See the javascript console for the full traceback.`));\n",
       "    }\n",
       "\n",
       "    if(typeof define === \"function\" && define.amd) {\n",
       "      requirejs.config({paths});\n",
       "      require([\"vega-embed\"], displayChart, err => showError(`Error loading script: ${err.message}`));\n",
       "    } else if (typeof vegaEmbed === \"function\") {\n",
       "      displayChart(vegaEmbed);\n",
       "    } else {\n",
       "      loadScript(\"vega\")\n",
       "        .then(() => loadScript(\"vega-lite\"))\n",
       "        .then(() => loadScript(\"vega-embed\"))\n",
       "        .catch(showError)\n",
       "        .then(() => displayChart(vegaEmbed));\n",
       "    }\n",
       "  })({\"config\": {\"view\": {\"continuousWidth\": 400, \"continuousHeight\": 300}, \"axis\": {\"labelFontSize\": 11, \"titleFontSize\": 12}}, \"layer\": [{\"mark\": \"bar\", \"encoding\": {\"color\": {\"condition\": {\"value\": \"orange\", \"test\": \"(datum.emotion === 'Some')\"}, \"value\": \"#0570b0\"}, \"x\": {\"type\": \"quantitative\", \"axis\": {\"format\": \".0%\"}, \"field\": \"percent\"}, \"y\": {\"type\": \"nominal\", \"field\": \"ethnicity\", \"sort\": \"-x\"}}, \"title\": \"Ethnicity | n = 49\"}, {\"mark\": {\"type\": \"text\", \"align\": \"left\", \"baseline\": \"middle\", \"dx\": 3, \"fontSize\": 12}, \"encoding\": {\"color\": {\"condition\": {\"value\": \"orange\", \"test\": \"(datum.emotion === 'Some')\"}, \"value\": \"#0570b0\"}, \"text\": {\"type\": \"quantitative\", \"field\": \"percent\", \"format\": \".1%\"}, \"x\": {\"type\": \"quantitative\", \"axis\": {\"format\": \".0%\"}, \"field\": \"percent\"}, \"y\": {\"type\": \"nominal\", \"field\": \"ethnicity\", \"sort\": \"-x\"}}, \"title\": \"Ethnicity | n = 49\"}], \"data\": {\"name\": \"data-8e06e6c63e6fb15bb270e1d70b3c64b1\"}, \"height\": 150, \"width\": 450, \"$schema\": \"https://vega.github.io/schema/vega-lite/v4.8.1.json\", \"datasets\": {\"data-8e06e6c63e6fb15bb270e1d70b3c64b1\": [{\"counts\": 33, \"ethnicity\": \"White or Caucasian\", \"percent\": 0.673469387755102}, {\"counts\": 11, \"ethnicity\": \"Asian\", \"percent\": 0.22448979591836735}, {\"counts\": 3, \"ethnicity\": \"Multiple ethnicities\", \"percent\": 0.061224489795918366}, {\"counts\": 1, \"ethnicity\": \"Other\", \"percent\": 0.02040816326530612}, {\"counts\": 1, \"ethnicity\": \"Hispanic or Latino\", \"percent\": 0.02040816326530612}]}}, {\"renderer\": \"svg\", \"mode\": \"vega-lite\"});\n",
       "</script>"
      ],
      "text/plain": [
       "alt.LayerChart(...)"
      ]
     },
     "metadata": {},
     "output_type": "display_data"
    }
   ],
   "source": [
    "source = count_freq_labels(df, X=\"ethnicity\") \n",
    "title = 'Ethnicity | n = '+ source['counts'].sum().astype(str)\n",
    "X, Y = 'percent:Q', 'ethnicity:N'\n",
    "w, h= 450, 150\n",
    "txs, ls, ts = 12, 11, 12\n",
    "\n",
    "chart_ethnicity= simple_per_bar(\n",
    "    source, title=title, X=X, Y=Y, \\\n",
    "    width=w, height=h, \\\n",
    "    text_size = txs, label_size = ls, title_size=ts)\n",
    "chart_ethnicity.display(renderer='svg')"
   ]
  },
  {
   "cell_type": "code",
   "execution_count": 24,
   "id": "382a2a5f-229d-4f53-b95b-8d7cb3e5b985",
   "metadata": {},
   "outputs": [],
   "source": [
    "chart_et_str = altair_saver.save(chart_ethnicity, fmt='svg')\n",
    "image_title.append('Participants by ethnicity')\n",
    "svg_str.append(chart_et_str)"
   ]
  },
  {
   "cell_type": "code",
   "execution_count": 25,
   "id": "b3b02fd5-9ba0-4f9e-9bb6-2c4d4f0cd643",
   "metadata": {},
   "outputs": [
    {
     "data": {
      "text/html": [
       "\n",
       "<div id=\"altair-viz-a9a576365db44479823546d8bf56517b\"></div>\n",
       "<script type=\"text/javascript\">\n",
       "  (function(spec, embedOpt){\n",
       "    let outputDiv = document.currentScript.previousElementSibling;\n",
       "    if (outputDiv.id !== \"altair-viz-a9a576365db44479823546d8bf56517b\") {\n",
       "      outputDiv = document.getElementById(\"altair-viz-a9a576365db44479823546d8bf56517b\");\n",
       "    }\n",
       "    const paths = {\n",
       "      \"vega\": \"https://cdn.jsdelivr.net/npm//vega@5?noext\",\n",
       "      \"vega-lib\": \"https://cdn.jsdelivr.net/npm//vega-lib?noext\",\n",
       "      \"vega-lite\": \"https://cdn.jsdelivr.net/npm//vega-lite@4.8.1?noext\",\n",
       "      \"vega-embed\": \"https://cdn.jsdelivr.net/npm//vega-embed@6?noext\",\n",
       "    };\n",
       "\n",
       "    function loadScript(lib) {\n",
       "      return new Promise(function(resolve, reject) {\n",
       "        var s = document.createElement('script');\n",
       "        s.src = paths[lib];\n",
       "        s.async = true;\n",
       "        s.onload = () => resolve(paths[lib]);\n",
       "        s.onerror = () => reject(`Error loading script: ${paths[lib]}`);\n",
       "        document.getElementsByTagName(\"head\")[0].appendChild(s);\n",
       "      });\n",
       "    }\n",
       "\n",
       "    function showError(err) {\n",
       "      outputDiv.innerHTML = `<div class=\"error\" style=\"color:red;\">${err}</div>`;\n",
       "      throw err;\n",
       "    }\n",
       "\n",
       "    function displayChart(vegaEmbed) {\n",
       "      vegaEmbed(outputDiv, spec, embedOpt)\n",
       "        .catch(err => showError(`Javascript Error: ${err.message}<br>This usually means there's a typo in your chart specification. See the javascript console for the full traceback.`));\n",
       "    }\n",
       "\n",
       "    if(typeof define === \"function\" && define.amd) {\n",
       "      requirejs.config({paths});\n",
       "      require([\"vega-embed\"], displayChart, err => showError(`Error loading script: ${err.message}`));\n",
       "    } else if (typeof vegaEmbed === \"function\") {\n",
       "      displayChart(vegaEmbed);\n",
       "    } else {\n",
       "      loadScript(\"vega\")\n",
       "        .then(() => loadScript(\"vega-lite\"))\n",
       "        .then(() => loadScript(\"vega-embed\"))\n",
       "        .catch(showError)\n",
       "        .then(() => displayChart(vegaEmbed));\n",
       "    }\n",
       "  })({\"config\": {\"view\": {\"continuousWidth\": 400, \"continuousHeight\": 300}, \"axis\": {\"labelFontSize\": 11, \"titleFontSize\": 12}}, \"layer\": [{\"mark\": \"bar\", \"encoding\": {\"color\": {\"condition\": {\"value\": \"orange\", \"test\": \"(datum.emotion === 'Some')\"}, \"value\": \"#0570b0\"}, \"x\": {\"type\": \"quantitative\", \"axis\": {\"format\": \".0%\"}, \"field\": \"percent\"}, \"y\": {\"type\": \"nominal\", \"field\": \"formal education\", \"sort\": \"-x\"}}, \"title\": \"Formal education | n = 49\"}, {\"mark\": {\"type\": \"text\", \"align\": \"left\", \"baseline\": \"middle\", \"dx\": 3, \"fontSize\": 12}, \"encoding\": {\"color\": {\"condition\": {\"value\": \"orange\", \"test\": \"(datum.emotion === 'Some')\"}, \"value\": \"#0570b0\"}, \"text\": {\"type\": \"quantitative\", \"field\": \"percent\", \"format\": \".1%\"}, \"x\": {\"type\": \"quantitative\", \"axis\": {\"format\": \".0%\"}, \"field\": \"percent\"}, \"y\": {\"type\": \"nominal\", \"field\": \"formal education\", \"sort\": \"-x\"}}, \"title\": \"Formal education | n = 49\"}], \"data\": {\"name\": \"data-979927214065e24f5998995f1052d647\"}, \"height\": 150, \"width\": 450, \"$schema\": \"https://vega.github.io/schema/vega-lite/v4.8.1.json\", \"datasets\": {\"data-979927214065e24f5998995f1052d647\": [{\"counts\": 26, \"formal education\": \"High school graduate\", \"percent\": 0.5306122448979592}, {\"counts\": 22, \"formal education\": \"Some college\", \"percent\": 0.4489795918367347}, {\"counts\": 1, \"formal education\": \"2 year degree\", \"percent\": 0.02040816326530612}]}}, {\"renderer\": \"svg\", \"mode\": \"vega-lite\"});\n",
       "</script>"
      ],
      "text/plain": [
       "alt.LayerChart(...)"
      ]
     },
     "metadata": {},
     "output_type": "display_data"
    }
   ],
   "source": [
    "source = count_freq_labels(df, X=\"formal education\") \n",
    "title = 'Formal education | n = '+ source['counts'].sum().astype(str)\n",
    "X, Y = 'percent:Q', 'formal education:N'\n",
    "w, h= 450, 150\n",
    "txs, ls, ts = 12, 11, 12\n",
    "\n",
    "chart_formal_education= simple_per_bar(\n",
    "    source, title=title, X=X, Y=Y, width=w, height=h, text_size = txs, label_size = ls, title_size=ts)\n",
    "chart_formal_education.display(renderer='svg')"
   ]
  },
  {
   "cell_type": "code",
   "execution_count": 26,
   "id": "772ab4dc-23a2-44e8-b8e2-10ccaff58091",
   "metadata": {},
   "outputs": [],
   "source": [
    "chart_formal_education_str = altair_saver.save(chart_formal_education, fmt='svg')\n",
    "image_title.append('Participants by formal education')\n",
    "svg_str.append(chart_formal_education_str)"
   ]
  },
  {
   "cell_type": "markdown",
   "id": "edfd4fca-d6c2-4288-99b1-88b9342462bc",
   "metadata": {},
   "source": [
    "## Formating"
   ]
  },
  {
   "cell_type": "code",
   "execution_count": 27,
   "id": "e830f16d-ad56-47d0-844f-6ef6493a613a",
   "metadata": {},
   "outputs": [],
   "source": [
    "df_emo_answers = df.loc[:, 'Q2.1_1':'Q195.1_4'] # get cols with words only"
   ]
  },
  {
   "cell_type": "code",
   "execution_count": 28,
   "id": "cd16fd24-6b52-458b-8e3b-0204ead9aec1",
   "metadata": {},
   "outputs": [],
   "source": [
    "def formating_words(df, len_words=1, len_letters=2):\n",
    "    df_stack = df.stack().reset_index(drop=True) # stack as series\n",
    "    df_stack = df_stack.to_frame(name='emotion') # as DF\n",
    "    df_stack['emotion'] = df_stack['emotion'].str.strip() # remove blank spaces\n",
    "    df_stack['emotion'] = df_stack['emotion'].str.lower() # as lower case\n",
    "    df_stack['emotion'] = df_stack['emotion'].replace({'na':'none'}) \n",
    "    df_stack['len_words'] = df_stack['emotion'].str.split().apply(len) # cnt number of words\n",
    "    df_stack['len_letters'] = df_stack['emotion'].apply(len) # cont number of letters\n",
    "    # get df with single words of 3 or more letters\n",
    "    df_stack_single_word = df_stack[(df_stack['len_words'] == len_words) & (df_stack['len_letters'] > len_letters)] \n",
    "    return df_stack_single_word"
   ]
  },
  {
   "cell_type": "code",
   "execution_count": 29,
   "id": "60df8da0-21da-48e6-8257-5708b9300e1e",
   "metadata": {},
   "outputs": [],
   "source": [
    "df_stack_single_word = formating_words(df_emo_answers)"
   ]
  },
  {
   "cell_type": "markdown",
   "id": "88d5fa3f-dd87-434c-b9dd-5e230fbbd229",
   "metadata": {},
   "source": [
    "## Spell checking \n",
    "**NOTE**: poor results with automated spell-check, so I did it manually for now"
   ]
  },
  {
   "cell_type": "code",
   "execution_count": 30,
   "id": "8691f5e4-dee1-44f6-a52d-a7cd6eeceb24",
   "metadata": {},
   "outputs": [],
   "source": [
    "# conda install -c conda-forge pattern \n",
    "# from pattern.en import suggest"
   ]
  },
  {
   "cell_type": "code",
   "execution_count": 31,
   "id": "c8d26779-5c1f-4c06-bbbc-2d28739d9118",
   "metadata": {},
   "outputs": [],
   "source": [
    "# df_stack_single_word['emotion_spell_check'] = df_stack_single_word['emotion'].apply(lambda x: suggest(x)[0][0])\n",
    "# df_stack_single_word['emotion'].size\n",
    "# df_stack_single_word['emotion'].size - sum(df_stack_single_word['emotion'] == df_stack_single_word['emotion_spell_check']) # number of words changed"
   ]
  },
  {
   "cell_type": "code",
   "execution_count": 32,
   "id": "40522437-5fdc-44a4-a23e-014d306dd9ff",
   "metadata": {},
   "outputs": [],
   "source": [
    "df_stack_single_word.replace(['happy', 'happu', 'hapy', 'happyy', 'happyb', 'happt', 'haapy', 'hapoy'], 'happiness', inplace=True)\n",
    "df_stack_single_word.replace(['angry', 'angr'], 'anger', inplace=True)\n",
    "df_stack_single_word.replace(['sad', 'sadd', 'sadness'], 'sadness', inplace=True)\n",
    "df_stack_single_word.replace(['disgusted', 'disgust', 'disgusting', 'disguetsed', 'disugested'], 'disgust', inplace=True)\n",
    "df_stack_single_word.replace(['surprise', 'surprised', 'surpsied', 'surpise', 'surprising', 'surprisef'], 'surprise', inplace=True)\n",
    "df_stack_single_word.replace(['fear', 'fearful', 'fearfulness'], 'fear', inplace=True)"
   ]
  },
  {
   "cell_type": "markdown",
   "id": "360c6136-bdb5-43df-9afc-8f4710c759f8",
   "metadata": {},
   "source": [
    "## Steamming"
   ]
  },
  {
   "cell_type": "code",
   "execution_count": 33,
   "id": "5a1e61e2-b0d6-4173-8154-0b0aaa584076",
   "metadata": {},
   "outputs": [],
   "source": [
    "from nltk.stem import PorterStemmer\n",
    "from nltk.stem import LancasterStemmer\n",
    "from nltk.stem import SnowballStemmer"
   ]
  },
  {
   "cell_type": "code",
   "execution_count": 34,
   "id": "60389dd9-44bf-471e-9bce-6bab9ceb2dd2",
   "metadata": {},
   "outputs": [],
   "source": [
    "ps = PorterStemmer()\n",
    "ls = LancasterStemmer()\n",
    "snowball = SnowballStemmer(language='english')"
   ]
  },
  {
   "cell_type": "code",
   "execution_count": 35,
   "id": "d7530869-e9a4-4a7b-8468-5969bc30cbae",
   "metadata": {},
   "outputs": [],
   "source": [
    "# Porter stemmer\n",
    "df_stack_single_word['emotion_ps_steamed'] = df_stack_single_word['emotion'].apply(lambda x: ps.stem(x))"
   ]
  },
  {
   "cell_type": "code",
   "execution_count": 36,
   "id": "ab532d7e-cf02-4769-aff3-5460801381b6",
   "metadata": {},
   "outputs": [],
   "source": [
    "# Lancaster stemmer\n",
    "df_stack_single_word['emotion_ls_steamed'] = df_stack_single_word['emotion'].apply(lambda x: ls.stem(x))"
   ]
  },
  {
   "cell_type": "code",
   "execution_count": 37,
   "id": "444eee6d-0e8f-4aa4-b676-c2b8d67db2db",
   "metadata": {},
   "outputs": [],
   "source": [
    "# Snowball stemmer\n",
    "df_stack_single_word['emotion_sb_steamed'] = df_stack_single_word['emotion'].apply(lambda x: snowball.stem(x))"
   ]
  },
  {
   "cell_type": "markdown",
   "id": "c8693d96-f4ba-4c34-a8d5-4ad3ff9e1bca",
   "metadata": {},
   "source": [
    "## Count frequency and plot"
   ]
  },
  {
   "cell_type": "code",
   "execution_count": 38,
   "id": "21b3d2e0-43c0-4bb5-b4b7-1017d984b7e8",
   "metadata": {},
   "outputs": [],
   "source": [
    "df_emo_overall = count_freq_labels(df_stack_single_word, X=\"stacked\", col='emotion_ps_steamed')"
   ]
  },
  {
   "cell_type": "code",
   "execution_count": 39,
   "id": "6dd3533f-34a9-49be-9e87-a7c644fbdc7f",
   "metadata": {},
   "outputs": [],
   "source": [
    "free_choice_word_list = count_freq_labels(df_stack_single_word, 'emotion')['emotion']"
   ]
  },
  {
   "cell_type": "code",
   "execution_count": 40,
   "id": "2e5391e6-a15e-4620-9245-48123e7075b0",
   "metadata": {},
   "outputs": [],
   "source": [
    "# free_choice_word_list.to_csv('../clean_data/free_choice_word_list.csv', index=False)"
   ]
  },
  {
   "cell_type": "code",
   "execution_count": 41,
   "id": "8a5a79c5-9d28-433f-b1b0-8678b65daf00",
   "metadata": {},
   "outputs": [],
   "source": [
    "# df_emo_overall.to_csv('../clean_data/free_choice_emotion_uw_students_overall.csv', index=False)"
   ]
  },
  {
   "cell_type": "code",
   "execution_count": 42,
   "id": "29212eb3-fc07-409a-9179-1277d8accd74",
   "metadata": {},
   "outputs": [
    {
     "data": {
      "text/html": [
       "\n",
       "<div id=\"altair-viz-a6926e81ffab4831a3c5081928cf64d5\"></div>\n",
       "<script type=\"text/javascript\">\n",
       "  (function(spec, embedOpt){\n",
       "    let outputDiv = document.currentScript.previousElementSibling;\n",
       "    if (outputDiv.id !== \"altair-viz-a6926e81ffab4831a3c5081928cf64d5\") {\n",
       "      outputDiv = document.getElementById(\"altair-viz-a6926e81ffab4831a3c5081928cf64d5\");\n",
       "    }\n",
       "    const paths = {\n",
       "      \"vega\": \"https://cdn.jsdelivr.net/npm//vega@5?noext\",\n",
       "      \"vega-lib\": \"https://cdn.jsdelivr.net/npm//vega-lib?noext\",\n",
       "      \"vega-lite\": \"https://cdn.jsdelivr.net/npm//vega-lite@4.8.1?noext\",\n",
       "      \"vega-embed\": \"https://cdn.jsdelivr.net/npm//vega-embed@6?noext\",\n",
       "    };\n",
       "\n",
       "    function loadScript(lib) {\n",
       "      return new Promise(function(resolve, reject) {\n",
       "        var s = document.createElement('script');\n",
       "        s.src = paths[lib];\n",
       "        s.async = true;\n",
       "        s.onload = () => resolve(paths[lib]);\n",
       "        s.onerror = () => reject(`Error loading script: ${paths[lib]}`);\n",
       "        document.getElementsByTagName(\"head\")[0].appendChild(s);\n",
       "      });\n",
       "    }\n",
       "\n",
       "    function showError(err) {\n",
       "      outputDiv.innerHTML = `<div class=\"error\" style=\"color:red;\">${err}</div>`;\n",
       "      throw err;\n",
       "    }\n",
       "\n",
       "    function displayChart(vegaEmbed) {\n",
       "      vegaEmbed(outputDiv, spec, embedOpt)\n",
       "        .catch(err => showError(`Javascript Error: ${err.message}<br>This usually means there's a typo in your chart specification. See the javascript console for the full traceback.`));\n",
       "    }\n",
       "\n",
       "    if(typeof define === \"function\" && define.amd) {\n",
       "      requirejs.config({paths});\n",
       "      require([\"vega-embed\"], displayChart, err => showError(`Error loading script: ${err.message}`));\n",
       "    } else if (typeof vegaEmbed === \"function\") {\n",
       "      displayChart(vegaEmbed);\n",
       "    } else {\n",
       "      loadScript(\"vega\")\n",
       "        .then(() => loadScript(\"vega-lite\"))\n",
       "        .then(() => loadScript(\"vega-embed\"))\n",
       "        .catch(showError)\n",
       "        .then(() => displayChart(vegaEmbed));\n",
       "    }\n",
       "  })({\"config\": {\"view\": {\"continuousWidth\": 400, \"continuousHeight\": 300}, \"axis\": {\"labelFontSize\": 11, \"titleFontSize\": 12}}, \"layer\": [{\"mark\": \"bar\", \"encoding\": {\"color\": {\"condition\": {\"value\": \"orange\", \"test\": \"(datum.emotion === 'Some')\"}, \"value\": \"#0570b0\"}, \"x\": {\"type\": \"quantitative\", \"axis\": {\"format\": \".0%\"}, \"field\": \"percent\"}, \"y\": {\"type\": \"nominal\", \"field\": \"emotion\", \"sort\": \"-x\"}}, \"title\": \"Labels with 50 or more mentions (steamed) | n = 10892\"}, {\"mark\": {\"type\": \"text\", \"align\": \"left\", \"baseline\": \"middle\", \"dx\": 3, \"fontSize\": 12}, \"encoding\": {\"color\": {\"condition\": {\"value\": \"orange\", \"test\": \"(datum.emotion === 'Some')\"}, \"value\": \"#0570b0\"}, \"text\": {\"type\": \"quantitative\", \"field\": \"percent\", \"format\": \".1%\"}, \"x\": {\"type\": \"quantitative\", \"axis\": {\"format\": \".0%\"}, \"field\": \"percent\"}, \"y\": {\"type\": \"nominal\", \"field\": \"emotion\", \"sort\": \"-x\"}}, \"title\": \"Labels with 50 or more mentions (steamed) | n = 10892\"}], \"data\": {\"name\": \"data-b761b7ec1c21abaf7643242cf9d27a4d\"}, \"height\": 600, \"width\": 450, \"$schema\": \"https://vega.github.io/schema/vega-lite/v4.8.1.json\", \"datasets\": {\"data-b761b7ec1c21abaf7643242cf9d27a4d\": [{\"counts\": 1411, \"emotion\": \"happi\", \"percent\": 0.09823169033695349}, {\"counts\": 1130, \"emotion\": \"sad\", \"percent\": 0.07866889445836814}, {\"counts\": 753, \"emotion\": \"anger\", \"percent\": 0.05242272347535505}, {\"counts\": 633, \"emotion\": \"confus\", \"percent\": 0.04406850459482038}, {\"counts\": 588, \"emotion\": \"shock\", \"percent\": 0.04093567251461988}, {\"counts\": 532, \"emotion\": \"surpris\", \"percent\": 0.037037037037037035}, {\"counts\": 499, \"emotion\": \"upset\", \"percent\": 0.03473962684489}, {\"counts\": 403, \"emotion\": \"mad\", \"percent\": 0.028056251740462265}, {\"counts\": 402, \"emotion\": \"disgust\", \"percent\": 0.027986633249791143}, {\"counts\": 350, \"emotion\": \"scare\", \"percent\": 0.024366471734892786}, {\"counts\": 327, \"emotion\": \"none\", \"percent\": 0.022765246449456975}, {\"counts\": 303, \"emotion\": \"excit\", \"percent\": 0.02109440267335004}, {\"counts\": 296, \"emotion\": \"silli\", \"percent\": 0.020607073238652185}, {\"counts\": 280, \"emotion\": \"content\", \"percent\": 0.01949317738791423}, {\"counts\": 176, \"emotion\": \"annoy\", \"percent\": 0.012252854358117515}, {\"counts\": 164, \"emotion\": \"calm\", \"percent\": 0.011417432470064048}, {\"counts\": 161, \"emotion\": \"goofi\", \"percent\": 0.011208576998050682}, {\"counts\": 158, \"emotion\": \"seriou\", \"percent\": 0.010999721526037315}, {\"counts\": 157, \"emotion\": \"unhappi\", \"percent\": 0.010930103035366193}, {\"counts\": 131, \"emotion\": \"bore\", \"percent\": 0.009120022277917014}, {\"counts\": 126, \"emotion\": \"worri\", \"percent\": 0.008771929824561403}, {\"counts\": 125, \"emotion\": \"funni\", \"percent\": 0.00870231133389028}, {\"counts\": 122, \"emotion\": \"unpleas\", \"percent\": 0.008493455861876914}, {\"counts\": 117, \"emotion\": \"supris\", \"percent\": 0.008145363408521303}, {\"counts\": 110, \"emotion\": \"smile\", \"percent\": 0.007658033973823447}, {\"counts\": 109, \"emotion\": \"cri\", \"percent\": 0.007588415483152325}, {\"counts\": 101, \"emotion\": \"uncomfort\", \"percent\": 0.007031467557783347}, {\"counts\": 96, \"emotion\": \"frustrat\", \"percent\": 0.006683375104427736}, {\"counts\": 92, \"emotion\": \"disappoint\", \"percent\": 0.006404901141743247}, {\"counts\": 80, \"emotion\": \"concern\", \"percent\": 0.00556947925368978}, {\"counts\": 74, \"emotion\": \"interest\", \"percent\": 0.005151768309663046}, {\"counts\": 71, \"emotion\": \"focus\", \"percent\": 0.0049429128376496795}, {\"counts\": 70, \"emotion\": \"intrigu\", \"percent\": 0.004873294346978557}, {\"counts\": 67, \"emotion\": \"blank\", \"percent\": 0.0046644388749651905}, {\"counts\": 67, \"emotion\": \"play\", \"percent\": 0.0046644388749651905}, {\"counts\": 66, \"emotion\": \"tire\", \"percent\": 0.004594820384294068}, {\"counts\": 65, \"emotion\": \"stare\", \"percent\": 0.004525201893622946}, {\"counts\": 60, \"emotion\": \"curiou\", \"percent\": 0.004177109440267335}, {\"counts\": 57, \"emotion\": \"pleas\", \"percent\": 0.003968253968253968}, {\"counts\": 54, \"emotion\": \"bad\", \"percent\": 0.0037593984962406013}, {\"counts\": 53, \"emotion\": \"regret\", \"percent\": 0.003689780005569479}, {\"counts\": 52, \"emotion\": \"cute\", \"percent\": 0.003620161514898357}, {\"counts\": 52, \"emotion\": \"confid\", \"percent\": 0.003620161514898357}, {\"counts\": 51, \"emotion\": \"indiffer\", \"percent\": 0.0035505430242272346}, {\"counts\": 51, \"emotion\": \"chill\", \"percent\": 0.0035505430242272346}, {\"counts\": 50, \"emotion\": \"crazi\", \"percent\": 0.0034809245335561123}]}}, {\"renderer\": \"svg\", \"mode\": \"vega-lite\"});\n",
       "</script>"
      ],
      "text/plain": [
       "alt.LayerChart(...)"
      ]
     },
     "metadata": {},
     "output_type": "display_data"
    }
   ],
   "source": [
    "source = df_emo_overall[df_emo_overall['counts'] > 49]\n",
    "title = 'Labels with 50 or more mentions (steamed) | n = '+ source['counts'].sum().astype(str)\n",
    "X, Y = 'percent:Q', 'emotion:N'\n",
    "w, h= 450, 600\n",
    "txs, ls, ts = 12, 11, 12\n",
    "\n",
    "chart_overall_per = simple_per_bar(source, title=title, X=X, Y=Y, width=w, height=h, text_size = txs, label_size = ls, title_size=ts)\n",
    "chart_overall_per.display(renderer='svg')"
   ]
  },
  {
   "cell_type": "code",
   "execution_count": 43,
   "id": "844cb3e8-f9f7-4101-8255-4d6e6f198b9a",
   "metadata": {},
   "outputs": [],
   "source": [
    "chart_overall_per_str = altair_saver.save(chart_overall_per, fmt='svg')\n",
    "image_title.append('Overall results by expected label as %')\n",
    "svg_str.append(chart_overall_per_str)"
   ]
  },
  {
   "cell_type": "code",
   "execution_count": 44,
   "id": "2ce867ce-3b2d-4f2f-8b92-598b8d5ea9d7",
   "metadata": {},
   "outputs": [
    {
     "data": {
      "text/html": [
       "\n",
       "<div id=\"altair-viz-025ca406f3844d69b7f479c2d73b5ad0\"></div>\n",
       "<script type=\"text/javascript\">\n",
       "  (function(spec, embedOpt){\n",
       "    let outputDiv = document.currentScript.previousElementSibling;\n",
       "    if (outputDiv.id !== \"altair-viz-025ca406f3844d69b7f479c2d73b5ad0\") {\n",
       "      outputDiv = document.getElementById(\"altair-viz-025ca406f3844d69b7f479c2d73b5ad0\");\n",
       "    }\n",
       "    const paths = {\n",
       "      \"vega\": \"https://cdn.jsdelivr.net/npm//vega@5?noext\",\n",
       "      \"vega-lib\": \"https://cdn.jsdelivr.net/npm//vega-lib?noext\",\n",
       "      \"vega-lite\": \"https://cdn.jsdelivr.net/npm//vega-lite@4.8.1?noext\",\n",
       "      \"vega-embed\": \"https://cdn.jsdelivr.net/npm//vega-embed@6?noext\",\n",
       "    };\n",
       "\n",
       "    function loadScript(lib) {\n",
       "      return new Promise(function(resolve, reject) {\n",
       "        var s = document.createElement('script');\n",
       "        s.src = paths[lib];\n",
       "        s.async = true;\n",
       "        s.onload = () => resolve(paths[lib]);\n",
       "        s.onerror = () => reject(`Error loading script: ${paths[lib]}`);\n",
       "        document.getElementsByTagName(\"head\")[0].appendChild(s);\n",
       "      });\n",
       "    }\n",
       "\n",
       "    function showError(err) {\n",
       "      outputDiv.innerHTML = `<div class=\"error\" style=\"color:red;\">${err}</div>`;\n",
       "      throw err;\n",
       "    }\n",
       "\n",
       "    function displayChart(vegaEmbed) {\n",
       "      vegaEmbed(outputDiv, spec, embedOpt)\n",
       "        .catch(err => showError(`Javascript Error: ${err.message}<br>This usually means there's a typo in your chart specification. See the javascript console for the full traceback.`));\n",
       "    }\n",
       "\n",
       "    if(typeof define === \"function\" && define.amd) {\n",
       "      requirejs.config({paths});\n",
       "      require([\"vega-embed\"], displayChart, err => showError(`Error loading script: ${err.message}`));\n",
       "    } else if (typeof vegaEmbed === \"function\") {\n",
       "      displayChart(vegaEmbed);\n",
       "    } else {\n",
       "      loadScript(\"vega\")\n",
       "        .then(() => loadScript(\"vega-lite\"))\n",
       "        .then(() => loadScript(\"vega-embed\"))\n",
       "        .catch(showError)\n",
       "        .then(() => displayChart(vegaEmbed));\n",
       "    }\n",
       "  })({\"config\": {\"view\": {\"continuousWidth\": 400, \"continuousHeight\": 300}, \"axis\": {\"labelFontSize\": 11, \"titleFontSize\": 12}}, \"layer\": [{\"mark\": \"bar\", \"encoding\": {\"color\": {\"condition\": {\"value\": \"#orange\", \"test\": \"(datum.emotion === 'Some')\"}, \"value\": \"#0570b0\"}, \"x\": {\"type\": \"quantitative\", \"field\": \"counts\"}, \"y\": {\"type\": \"nominal\", \"field\": \"emotion\", \"sort\": \"-x\"}}, \"title\": \"Labels with 50 or more mentions (steamed) | n = 10892\"}, {\"mark\": {\"type\": \"text\", \"align\": \"left\", \"baseline\": \"middle\", \"dx\": 3, \"fontSize\": 12}, \"encoding\": {\"color\": {\"condition\": {\"value\": \"#orange\", \"test\": \"(datum.emotion === 'Some')\"}, \"value\": \"#0570b0\"}, \"text\": {\"type\": \"quantitative\", \"field\": \"counts\"}, \"x\": {\"type\": \"quantitative\", \"field\": \"counts\"}, \"y\": {\"type\": \"nominal\", \"field\": \"emotion\", \"sort\": \"-x\"}}, \"title\": \"Labels with 50 or more mentions (steamed) | n = 10892\"}], \"data\": {\"name\": \"data-b761b7ec1c21abaf7643242cf9d27a4d\"}, \"height\": 600, \"width\": 450, \"$schema\": \"https://vega.github.io/schema/vega-lite/v4.8.1.json\", \"datasets\": {\"data-b761b7ec1c21abaf7643242cf9d27a4d\": [{\"counts\": 1411, \"emotion\": \"happi\", \"percent\": 0.09823169033695349}, {\"counts\": 1130, \"emotion\": \"sad\", \"percent\": 0.07866889445836814}, {\"counts\": 753, \"emotion\": \"anger\", \"percent\": 0.05242272347535505}, {\"counts\": 633, \"emotion\": \"confus\", \"percent\": 0.04406850459482038}, {\"counts\": 588, \"emotion\": \"shock\", \"percent\": 0.04093567251461988}, {\"counts\": 532, \"emotion\": \"surpris\", \"percent\": 0.037037037037037035}, {\"counts\": 499, \"emotion\": \"upset\", \"percent\": 0.03473962684489}, {\"counts\": 403, \"emotion\": \"mad\", \"percent\": 0.028056251740462265}, {\"counts\": 402, \"emotion\": \"disgust\", \"percent\": 0.027986633249791143}, {\"counts\": 350, \"emotion\": \"scare\", \"percent\": 0.024366471734892786}, {\"counts\": 327, \"emotion\": \"none\", \"percent\": 0.022765246449456975}, {\"counts\": 303, \"emotion\": \"excit\", \"percent\": 0.02109440267335004}, {\"counts\": 296, \"emotion\": \"silli\", \"percent\": 0.020607073238652185}, {\"counts\": 280, \"emotion\": \"content\", \"percent\": 0.01949317738791423}, {\"counts\": 176, \"emotion\": \"annoy\", \"percent\": 0.012252854358117515}, {\"counts\": 164, \"emotion\": \"calm\", \"percent\": 0.011417432470064048}, {\"counts\": 161, \"emotion\": \"goofi\", \"percent\": 0.011208576998050682}, {\"counts\": 158, \"emotion\": \"seriou\", \"percent\": 0.010999721526037315}, {\"counts\": 157, \"emotion\": \"unhappi\", \"percent\": 0.010930103035366193}, {\"counts\": 131, \"emotion\": \"bore\", \"percent\": 0.009120022277917014}, {\"counts\": 126, \"emotion\": \"worri\", \"percent\": 0.008771929824561403}, {\"counts\": 125, \"emotion\": \"funni\", \"percent\": 0.00870231133389028}, {\"counts\": 122, \"emotion\": \"unpleas\", \"percent\": 0.008493455861876914}, {\"counts\": 117, \"emotion\": \"supris\", \"percent\": 0.008145363408521303}, {\"counts\": 110, \"emotion\": \"smile\", \"percent\": 0.007658033973823447}, {\"counts\": 109, \"emotion\": \"cri\", \"percent\": 0.007588415483152325}, {\"counts\": 101, \"emotion\": \"uncomfort\", \"percent\": 0.007031467557783347}, {\"counts\": 96, \"emotion\": \"frustrat\", \"percent\": 0.006683375104427736}, {\"counts\": 92, \"emotion\": \"disappoint\", \"percent\": 0.006404901141743247}, {\"counts\": 80, \"emotion\": \"concern\", \"percent\": 0.00556947925368978}, {\"counts\": 74, \"emotion\": \"interest\", \"percent\": 0.005151768309663046}, {\"counts\": 71, \"emotion\": \"focus\", \"percent\": 0.0049429128376496795}, {\"counts\": 70, \"emotion\": \"intrigu\", \"percent\": 0.004873294346978557}, {\"counts\": 67, \"emotion\": \"blank\", \"percent\": 0.0046644388749651905}, {\"counts\": 67, \"emotion\": \"play\", \"percent\": 0.0046644388749651905}, {\"counts\": 66, \"emotion\": \"tire\", \"percent\": 0.004594820384294068}, {\"counts\": 65, \"emotion\": \"stare\", \"percent\": 0.004525201893622946}, {\"counts\": 60, \"emotion\": \"curiou\", \"percent\": 0.004177109440267335}, {\"counts\": 57, \"emotion\": \"pleas\", \"percent\": 0.003968253968253968}, {\"counts\": 54, \"emotion\": \"bad\", \"percent\": 0.0037593984962406013}, {\"counts\": 53, \"emotion\": \"regret\", \"percent\": 0.003689780005569479}, {\"counts\": 52, \"emotion\": \"cute\", \"percent\": 0.003620161514898357}, {\"counts\": 52, \"emotion\": \"confid\", \"percent\": 0.003620161514898357}, {\"counts\": 51, \"emotion\": \"indiffer\", \"percent\": 0.0035505430242272346}, {\"counts\": 51, \"emotion\": \"chill\", \"percent\": 0.0035505430242272346}, {\"counts\": 50, \"emotion\": \"crazi\", \"percent\": 0.0034809245335561123}]}}, {\"renderer\": \"svg\", \"mode\": \"vega-lite\"});\n",
       "</script>"
      ],
      "text/plain": [
       "alt.LayerChart(...)"
      ]
     },
     "metadata": {},
     "output_type": "display_data"
    }
   ],
   "source": [
    "source = df_emo_overall[df_emo_overall['counts'] > 49]\n",
    "title = 'Labels with 50 or more mentions (steamed) | n = '+ source['counts'].sum().astype(str)\n",
    "X, Y = 'counts:Q', 'emotion:N'\n",
    "w, h= 450, 600\n",
    "txs, ls, ts = 12, 11, 12\n",
    "\n",
    "chart_overall_count = simple_count_bar(source, title=title, X=X, Y=Y, width=w, height=h, text_size = txs, label_size = ls, title_size=ts)\n",
    "chart_overall_count.display(renderer='svg')"
   ]
  },
  {
   "cell_type": "code",
   "execution_count": 45,
   "id": "2239ed37-a7ac-4961-8e31-615c17964db6",
   "metadata": {},
   "outputs": [],
   "source": [
    "chart_overall_count_str = altair_saver.save(chart_overall_count, fmt='svg')\n",
    "image_title.append('Overall results by expected label as count')\n",
    "svg_str.append(chart_overall_count_str)"
   ]
  },
  {
   "cell_type": "markdown",
   "id": "4e3eaddf-437e-419a-a980-764acbf78fbe",
   "metadata": {},
   "source": [
    "## Most frequently used word for each emotion category (grouping pictures by expected-emotion)"
   ]
  },
  {
   "cell_type": "code",
   "execution_count": 46,
   "id": "909288ea-8571-461f-a7af-f21051b7e524",
   "metadata": {},
   "outputs": [],
   "source": [
    "def emotion_df_formated(df_emo_answers, emotion_label):\n",
    "    df_emo_cat = df_emo_answers.copy() \n",
    "    df_emo_cat_t = df_emo_cat.T # transpose\n",
    "    df_emo_cat_t['photo_id'] = df_emo_cat_t.index # get index as col\n",
    "    df_emo_cat_t = df_emo_cat_t.reset_index(drop=True) # clean index\n",
    "    df_emo_cat_t_labels = pd.concat([df_emo_cat_t, df_labels], axis=1) # add metadata cols\n",
    "    df_label =  df_emo_cat_t_labels[df_emo_cat_t_labels['label'] == emotion_label]\n",
    "    \n",
    "    return df_label"
   ]
  },
  {
   "cell_type": "markdown",
   "id": "3df9927c-cb19-4b09-b608-5fa1cfadb4bf",
   "metadata": {},
   "source": [
    "### Anger"
   ]
  },
  {
   "cell_type": "code",
   "execution_count": 47,
   "id": "24517f07-7395-4d75-b84c-6fe547ff9697",
   "metadata": {},
   "outputs": [
    {
     "data": {
      "text/html": [
       "\n",
       "<div id=\"altair-viz-ffd7d54e1db34a6f88e44d7040411097\"></div>\n",
       "<script type=\"text/javascript\">\n",
       "  (function(spec, embedOpt){\n",
       "    let outputDiv = document.currentScript.previousElementSibling;\n",
       "    if (outputDiv.id !== \"altair-viz-ffd7d54e1db34a6f88e44d7040411097\") {\n",
       "      outputDiv = document.getElementById(\"altair-viz-ffd7d54e1db34a6f88e44d7040411097\");\n",
       "    }\n",
       "    const paths = {\n",
       "      \"vega\": \"https://cdn.jsdelivr.net/npm//vega@5?noext\",\n",
       "      \"vega-lib\": \"https://cdn.jsdelivr.net/npm//vega-lib?noext\",\n",
       "      \"vega-lite\": \"https://cdn.jsdelivr.net/npm//vega-lite@4.8.1?noext\",\n",
       "      \"vega-embed\": \"https://cdn.jsdelivr.net/npm//vega-embed@6?noext\",\n",
       "    };\n",
       "\n",
       "    function loadScript(lib) {\n",
       "      return new Promise(function(resolve, reject) {\n",
       "        var s = document.createElement('script');\n",
       "        s.src = paths[lib];\n",
       "        s.async = true;\n",
       "        s.onload = () => resolve(paths[lib]);\n",
       "        s.onerror = () => reject(`Error loading script: ${paths[lib]}`);\n",
       "        document.getElementsByTagName(\"head\")[0].appendChild(s);\n",
       "      });\n",
       "    }\n",
       "\n",
       "    function showError(err) {\n",
       "      outputDiv.innerHTML = `<div class=\"error\" style=\"color:red;\">${err}</div>`;\n",
       "      throw err;\n",
       "    }\n",
       "\n",
       "    function displayChart(vegaEmbed) {\n",
       "      vegaEmbed(outputDiv, spec, embedOpt)\n",
       "        .catch(err => showError(`Javascript Error: ${err.message}<br>This usually means there's a typo in your chart specification. See the javascript console for the full traceback.`));\n",
       "    }\n",
       "\n",
       "    if(typeof define === \"function\" && define.amd) {\n",
       "      requirejs.config({paths});\n",
       "      require([\"vega-embed\"], displayChart, err => showError(`Error loading script: ${err.message}`));\n",
       "    } else if (typeof vegaEmbed === \"function\") {\n",
       "      displayChart(vegaEmbed);\n",
       "    } else {\n",
       "      loadScript(\"vega\")\n",
       "        .then(() => loadScript(\"vega-lite\"))\n",
       "        .then(() => loadScript(\"vega-embed\"))\n",
       "        .catch(showError)\n",
       "        .then(() => displayChart(vegaEmbed));\n",
       "    }\n",
       "  })({\"config\": {\"view\": {\"continuousWidth\": 400, \"continuousHeight\": 300}, \"axis\": {\"labelFontSize\": 11, \"titleFontSize\": 12}}, \"layer\": [{\"mark\": \"bar\", \"encoding\": {\"color\": {\"condition\": {\"value\": \"orange\", \"test\": \"(datum.emotion === 'angri')\"}, \"value\": \"#0570b0\"}, \"x\": {\"type\": \"quantitative\", \"axis\": {\"format\": \".0%\"}, \"field\": \"percent\"}, \"y\": {\"type\": \"nominal\", \"field\": \"emotion\", \"sort\": \"-x\"}}, \"title\": \"Expcted label: anger | Labels with 10 or more mentions | n = 1786\"}, {\"mark\": {\"type\": \"text\", \"align\": \"left\", \"baseline\": \"middle\", \"dx\": 3, \"fontSize\": 12}, \"encoding\": {\"color\": {\"condition\": {\"value\": \"orange\", \"test\": \"(datum.emotion === 'angri')\"}, \"value\": \"#0570b0\"}, \"text\": {\"type\": \"quantitative\", \"field\": \"percent\", \"format\": \".1%\"}, \"x\": {\"type\": \"quantitative\", \"axis\": {\"format\": \".0%\"}, \"field\": \"percent\"}, \"y\": {\"type\": \"nominal\", \"field\": \"emotion\", \"sort\": \"-x\"}}, \"title\": \"Expcted label: anger | Labels with 10 or more mentions | n = 1786\"}], \"data\": {\"name\": \"data-6cd517731dea546649db8f4d943129bc\"}, \"height\": 600, \"width\": 450, \"$schema\": \"https://vega.github.io/schema/vega-lite/v4.8.1.json\", \"datasets\": {\"data-6cd517731dea546649db8f4d943129bc\": [{\"counts\": 408, \"emotion\": \"angri\", \"percent\": 0.2284434490481523}, {\"counts\": 191, \"emotion\": \"mad\", \"percent\": 0.10694288913773796}, {\"counts\": 120, \"emotion\": \"upset\", \"percent\": 0.0671892497200448}, {\"counts\": 72, \"emotion\": \"confus\", \"percent\": 0.040313549832026875}, {\"counts\": 65, \"emotion\": \"sad\", \"percent\": 0.036394176931690926}, {\"counts\": 61, \"emotion\": \"seriou\", \"percent\": 0.0341545352743561}, {\"counts\": 42, \"emotion\": \"frustrat\", \"percent\": 0.023516237402015677}, {\"counts\": 40, \"emotion\": \"none\", \"percent\": 0.022396416573348264}, {\"counts\": 35, \"emotion\": \"annoy\", \"percent\": 0.01959686450167973}, {\"counts\": 26, \"emotion\": \"silli\", \"percent\": 0.014557670772676373}, {\"counts\": 24, \"emotion\": \"anger\", \"percent\": 0.013437849944008958}, {\"counts\": 21, \"emotion\": \"disappoint\", \"percent\": 0.011758118701007838}, {\"counts\": 18, \"emotion\": \"happi\", \"percent\": 0.010078387458006719}, {\"counts\": 18, \"emotion\": \"unhappi\", \"percent\": 0.010078387458006719}, {\"counts\": 17, \"emotion\": \"disgust\", \"percent\": 0.009518477043673012}, {\"counts\": 16, \"emotion\": \"focus\", \"percent\": 0.008958566629339306}, {\"counts\": 15, \"emotion\": \"unpleas\", \"percent\": 0.0083986562150056}, {\"counts\": 14, \"emotion\": \"frustur\", \"percent\": 0.007838745800671893}, {\"counts\": 13, \"emotion\": \"concern\", \"percent\": 0.007278835386338186}, {\"counts\": 13, \"emotion\": \"calm\", \"percent\": 0.007278835386338186}, {\"counts\": 13, \"emotion\": \"piss\", \"percent\": 0.007278835386338186}, {\"counts\": 12, \"emotion\": \"goofi\", \"percent\": 0.006718924972004479}, {\"counts\": 12, \"emotion\": \"shock\", \"percent\": 0.006718924972004479}, {\"counts\": 11, \"emotion\": \"bore\", \"percent\": 0.006159014557670772}]}}, {\"renderer\": \"svg\", \"mode\": \"vega-lite\"});\n",
       "</script>"
      ],
      "text/plain": [
       "alt.LayerChart(...)"
      ]
     },
     "metadata": {},
     "output_type": "display_data"
    }
   ],
   "source": [
    "emotion = 'anger'\n",
    "emotion_st = 'angri'\n",
    "df_emotion = emotion_df_formated(df_emo_answers, emotion) # subset 'emotion' rows\n",
    "df_emotion_ans = df_emotion.drop(['photo_id', 'ethnicity', 'sex','age', 'label', 'url', 'photoId'], axis=1)\n",
    "df_stack_emotion = formating_words(df_emotion_ans) # clean up\n",
    "df_stack_emotion['emotion_ps_steamed'] = df_stack_emotion['emotion'].apply(lambda x: ps.stem(x)) #steam\n",
    "source = count_freq_labels(df_stack_emotion,X='stacked', col='emotion_ps_steamed')\n",
    "source_10 = source[source['counts'] > 10]\n",
    "\n",
    "title = 'Expcted label: '+ emotion + ' | Labels with 10 or more mentions | n = '+ source['counts'].sum().astype(str)\n",
    "X, Y = 'percent:Q', 'emotion:N'\n",
    "w, h= 450, 600\n",
    "txs, ls, ts = 12, 11, 12\n",
    "\n",
    "\n",
    "chart_anger = simple_per_bar(\n",
    "    source_10, title=title, X=X, Y=Y, \\\n",
    "    width=w, height=h, emotion=emotion_st, \\\n",
    "    text_size = txs, label_size = ls, title_size=ts)\n",
    "chart_anger.display(renderer='svg')"
   ]
  },
  {
   "cell_type": "code",
   "execution_count": 48,
   "id": "36817d00-bf12-4fbc-818b-094d06a1b3f9",
   "metadata": {},
   "outputs": [],
   "source": [
    "chart_anger_str = altair_saver.save(chart_anger, fmt='svg')\n",
    "image_title.append(\"Images depicting 'anger'\")\n",
    "svg_str.append(chart_anger_str)"
   ]
  },
  {
   "cell_type": "markdown",
   "id": "db518d52-b7fb-41de-850c-886ff041069f",
   "metadata": {},
   "source": [
    "### Disgust"
   ]
  },
  {
   "cell_type": "code",
   "execution_count": 49,
   "id": "f4840547-189d-4364-ac4d-08a6a4d83dbf",
   "metadata": {},
   "outputs": [
    {
     "data": {
      "text/html": [
       "\n",
       "<div id=\"altair-viz-804106d206aa49baa78c376741d5249e\"></div>\n",
       "<script type=\"text/javascript\">\n",
       "  (function(spec, embedOpt){\n",
       "    let outputDiv = document.currentScript.previousElementSibling;\n",
       "    if (outputDiv.id !== \"altair-viz-804106d206aa49baa78c376741d5249e\") {\n",
       "      outputDiv = document.getElementById(\"altair-viz-804106d206aa49baa78c376741d5249e\");\n",
       "    }\n",
       "    const paths = {\n",
       "      \"vega\": \"https://cdn.jsdelivr.net/npm//vega@5?noext\",\n",
       "      \"vega-lib\": \"https://cdn.jsdelivr.net/npm//vega-lib?noext\",\n",
       "      \"vega-lite\": \"https://cdn.jsdelivr.net/npm//vega-lite@4.8.1?noext\",\n",
       "      \"vega-embed\": \"https://cdn.jsdelivr.net/npm//vega-embed@6?noext\",\n",
       "    };\n",
       "\n",
       "    function loadScript(lib) {\n",
       "      return new Promise(function(resolve, reject) {\n",
       "        var s = document.createElement('script');\n",
       "        s.src = paths[lib];\n",
       "        s.async = true;\n",
       "        s.onload = () => resolve(paths[lib]);\n",
       "        s.onerror = () => reject(`Error loading script: ${paths[lib]}`);\n",
       "        document.getElementsByTagName(\"head\")[0].appendChild(s);\n",
       "      });\n",
       "    }\n",
       "\n",
       "    function showError(err) {\n",
       "      outputDiv.innerHTML = `<div class=\"error\" style=\"color:red;\">${err}</div>`;\n",
       "      throw err;\n",
       "    }\n",
       "\n",
       "    function displayChart(vegaEmbed) {\n",
       "      vegaEmbed(outputDiv, spec, embedOpt)\n",
       "        .catch(err => showError(`Javascript Error: ${err.message}<br>This usually means there's a typo in your chart specification. See the javascript console for the full traceback.`));\n",
       "    }\n",
       "\n",
       "    if(typeof define === \"function\" && define.amd) {\n",
       "      requirejs.config({paths});\n",
       "      require([\"vega-embed\"], displayChart, err => showError(`Error loading script: ${err.message}`));\n",
       "    } else if (typeof vegaEmbed === \"function\") {\n",
       "      displayChart(vegaEmbed);\n",
       "    } else {\n",
       "      loadScript(\"vega\")\n",
       "        .then(() => loadScript(\"vega-lite\"))\n",
       "        .then(() => loadScript(\"vega-embed\"))\n",
       "        .catch(showError)\n",
       "        .then(() => displayChart(vegaEmbed));\n",
       "    }\n",
       "  })({\"config\": {\"view\": {\"continuousWidth\": 400, \"continuousHeight\": 300}, \"axis\": {\"labelFontSize\": 11, \"titleFontSize\": 12}}, \"layer\": [{\"mark\": \"bar\", \"encoding\": {\"color\": {\"condition\": {\"value\": \"orange\", \"test\": \"(datum.emotion === 'disgust')\"}, \"value\": \"#0570b0\"}, \"x\": {\"type\": \"quantitative\", \"axis\": {\"format\": \".0%\"}, \"field\": \"percent\"}, \"y\": {\"type\": \"nominal\", \"field\": \"emotion\", \"sort\": \"-x\"}}, \"title\": \"Expcted label: disgust | Labels with 10 or more mentions | n = 1763\"}, {\"mark\": {\"type\": \"text\", \"align\": \"left\", \"baseline\": \"middle\", \"dx\": 3, \"fontSize\": 12}, \"encoding\": {\"color\": {\"condition\": {\"value\": \"orange\", \"test\": \"(datum.emotion === 'disgust')\"}, \"value\": \"#0570b0\"}, \"text\": {\"type\": \"quantitative\", \"field\": \"percent\", \"format\": \".1%\"}, \"x\": {\"type\": \"quantitative\", \"axis\": {\"format\": \".0%\"}, \"field\": \"percent\"}, \"y\": {\"type\": \"nominal\", \"field\": \"emotion\", \"sort\": \"-x\"}}, \"title\": \"Expcted label: disgust | Labels with 10 or more mentions | n = 1763\"}], \"data\": {\"name\": \"data-f9a483f04b8158e05d565abc0b1a40c3\"}, \"height\": 600, \"width\": 450, \"$schema\": \"https://vega.github.io/schema/vega-lite/v4.8.1.json\", \"datasets\": {\"data-f9a483f04b8158e05d565abc0b1a40c3\": [{\"counts\": 286, \"emotion\": \"disgust\", \"percent\": 0.16222348269994327}, {\"counts\": 153, \"emotion\": \"confus\", \"percent\": 0.0867838910947249}, {\"counts\": 117, \"emotion\": \"angri\", \"percent\": 0.06636415201361316}, {\"counts\": 90, \"emotion\": \"mad\", \"percent\": 0.05104934770277935}, {\"counts\": 69, \"emotion\": \"silli\", \"percent\": 0.039137833238797506}, {\"counts\": 66, \"emotion\": \"upset\", \"percent\": 0.03743618831537152}, {\"counts\": 54, \"emotion\": \"happi\", \"percent\": 0.030629608621667612}, {\"counts\": 51, \"emotion\": \"annoy\", \"percent\": 0.028927963698241632}, {\"counts\": 44, \"emotion\": \"shock\", \"percent\": 0.024957458876914352}, {\"counts\": 38, \"emotion\": \"sad\", \"percent\": 0.021554169030062395}, {\"counts\": 34, \"emotion\": \"none\", \"percent\": 0.019285309132161088}, {\"counts\": 31, \"emotion\": \"surpris\", \"percent\": 0.01758366420873511}, {\"counts\": 29, \"emotion\": \"goofi\", \"percent\": 0.016449234259784458}, {\"counts\": 24, \"emotion\": \"scare\", \"percent\": 0.013613159387407828}, {\"counts\": 22, \"emotion\": \"unhappi\", \"percent\": 0.012478729438457176}, {\"counts\": 22, \"emotion\": \"funni\", \"percent\": 0.012478729438457176}, {\"counts\": 20, \"emotion\": \"gross\", \"percent\": 0.011344299489506523}, {\"counts\": 18, \"emotion\": \"sour\", \"percent\": 0.01020986954055587}, {\"counts\": 18, \"emotion\": \"unpleas\", \"percent\": 0.01020986954055587}, {\"counts\": 16, \"emotion\": \"play\", \"percent\": 0.009075439591605219}, {\"counts\": 16, \"emotion\": \"cute\", \"percent\": 0.009075439591605219}, {\"counts\": 16, \"emotion\": \"frustrat\", \"percent\": 0.009075439591605219}, {\"counts\": 14, \"emotion\": \"hate\", \"percent\": 0.007941009642654566}, {\"counts\": 13, \"emotion\": \"uncomfort\", \"percent\": 0.00737379466817924}, {\"counts\": 13, \"emotion\": \"squint\", \"percent\": 0.00737379466817924}, {\"counts\": 13, \"emotion\": \"weird\", \"percent\": 0.00737379466817924}, {\"counts\": 12, \"emotion\": \"bore\", \"percent\": 0.006806579693703914}]}}, {\"renderer\": \"svg\", \"mode\": \"vega-lite\"});\n",
       "</script>"
      ],
      "text/plain": [
       "alt.LayerChart(...)"
      ]
     },
     "metadata": {},
     "output_type": "display_data"
    }
   ],
   "source": [
    "emotion = 'disgust'\n",
    "emotion_st = 'disgust'\n",
    "df_emotion = emotion_df_formated(df_emo_answers, emotion) # subset 'emotion' rows\n",
    "df_emotion_ans = df_emotion.drop(['photo_id', 'ethnicity', 'sex','age', 'label', 'url', 'photoId'], axis=1)\n",
    "df_stack_emotion = formating_words(df_emotion_ans) # clean up\n",
    "df_stack_emotion['emotion_ps_steamed'] = df_stack_emotion['emotion'].apply(lambda x: ps.stem(x)) #steam\n",
    "source = count_freq_labels(df_stack_emotion,X='stacked', col='emotion_ps_steamed')\n",
    "source_10 = source[source['counts'] > 10]\n",
    "\n",
    "title = 'Expcted label: '+ emotion + ' | Labels with 10 or more mentions | n = '+ source['counts'].sum().astype(str)\n",
    "X, Y = 'percent:Q', 'emotion:N'\n",
    "w, h= 450, 600\n",
    "txs, ls, ts = 12, 11, 12\n",
    "\n",
    "\n",
    "chart_disgust = simple_per_bar(\n",
    "    source_10, title=title, X=X, Y=Y, \\\n",
    "    width=w, height=h, emotion=emotion_st, \\\n",
    "    text_size = txs, label_size = ls, title_size=ts)\n",
    "chart_disgust.display(renderer='svg')"
   ]
  },
  {
   "cell_type": "code",
   "execution_count": 50,
   "id": "124a7e61-ad14-48c4-99f9-9a0b7231d5b4",
   "metadata": {},
   "outputs": [],
   "source": [
    "chart_disgust_str = altair_saver.save(chart_disgust, fmt='svg')\n",
    "image_title.append(\"Images depicting 'disgust'\")\n",
    "svg_str.append(chart_disgust_str)"
   ]
  },
  {
   "cell_type": "markdown",
   "id": "0bd073e8-0081-4e8c-9180-83285022c59a",
   "metadata": {},
   "source": [
    "### Fear"
   ]
  },
  {
   "cell_type": "code",
   "execution_count": 51,
   "id": "226e0c9c-0887-4c4d-8fad-83616d272d3c",
   "metadata": {},
   "outputs": [
    {
     "data": {
      "text/html": [
       "\n",
       "<div id=\"altair-viz-24bc68b9ac67427c89cb577d8aa2adf6\"></div>\n",
       "<script type=\"text/javascript\">\n",
       "  (function(spec, embedOpt){\n",
       "    let outputDiv = document.currentScript.previousElementSibling;\n",
       "    if (outputDiv.id !== \"altair-viz-24bc68b9ac67427c89cb577d8aa2adf6\") {\n",
       "      outputDiv = document.getElementById(\"altair-viz-24bc68b9ac67427c89cb577d8aa2adf6\");\n",
       "    }\n",
       "    const paths = {\n",
       "      \"vega\": \"https://cdn.jsdelivr.net/npm//vega@5?noext\",\n",
       "      \"vega-lib\": \"https://cdn.jsdelivr.net/npm//vega-lib?noext\",\n",
       "      \"vega-lite\": \"https://cdn.jsdelivr.net/npm//vega-lite@4.8.1?noext\",\n",
       "      \"vega-embed\": \"https://cdn.jsdelivr.net/npm//vega-embed@6?noext\",\n",
       "    };\n",
       "\n",
       "    function loadScript(lib) {\n",
       "      return new Promise(function(resolve, reject) {\n",
       "        var s = document.createElement('script');\n",
       "        s.src = paths[lib];\n",
       "        s.async = true;\n",
       "        s.onload = () => resolve(paths[lib]);\n",
       "        s.onerror = () => reject(`Error loading script: ${paths[lib]}`);\n",
       "        document.getElementsByTagName(\"head\")[0].appendChild(s);\n",
       "      });\n",
       "    }\n",
       "\n",
       "    function showError(err) {\n",
       "      outputDiv.innerHTML = `<div class=\"error\" style=\"color:red;\">${err}</div>`;\n",
       "      throw err;\n",
       "    }\n",
       "\n",
       "    function displayChart(vegaEmbed) {\n",
       "      vegaEmbed(outputDiv, spec, embedOpt)\n",
       "        .catch(err => showError(`Javascript Error: ${err.message}<br>This usually means there's a typo in your chart specification. See the javascript console for the full traceback.`));\n",
       "    }\n",
       "\n",
       "    if(typeof define === \"function\" && define.amd) {\n",
       "      requirejs.config({paths});\n",
       "      require([\"vega-embed\"], displayChart, err => showError(`Error loading script: ${err.message}`));\n",
       "    } else if (typeof vegaEmbed === \"function\") {\n",
       "      displayChart(vegaEmbed);\n",
       "    } else {\n",
       "      loadScript(\"vega\")\n",
       "        .then(() => loadScript(\"vega-lite\"))\n",
       "        .then(() => loadScript(\"vega-embed\"))\n",
       "        .catch(showError)\n",
       "        .then(() => displayChart(vegaEmbed));\n",
       "    }\n",
       "  })({\"config\": {\"view\": {\"continuousWidth\": 400, \"continuousHeight\": 300}, \"axis\": {\"labelFontSize\": 11, \"titleFontSize\": 12}}, \"layer\": [{\"mark\": \"bar\", \"encoding\": {\"color\": {\"condition\": {\"value\": \"orange\", \"test\": \"(datum.emotion === 'fear')\"}, \"value\": \"#0570b0\"}, \"x\": {\"type\": \"quantitative\", \"axis\": {\"format\": \".0%\"}, \"field\": \"percent\"}, \"y\": {\"type\": \"nominal\", \"field\": \"emotion\", \"sort\": \"-x\"}}, \"title\": \"Expcted label: fear | Labels with 10 or more mentions | n = 1872\"}, {\"mark\": {\"type\": \"text\", \"align\": \"left\", \"baseline\": \"middle\", \"dx\": 3, \"fontSize\": 12}, \"encoding\": {\"color\": {\"condition\": {\"value\": \"orange\", \"test\": \"(datum.emotion === 'fear')\"}, \"value\": \"#0570b0\"}, \"text\": {\"type\": \"quantitative\", \"field\": \"percent\", \"format\": \".1%\"}, \"x\": {\"type\": \"quantitative\", \"axis\": {\"format\": \".0%\"}, \"field\": \"percent\"}, \"y\": {\"type\": \"nominal\", \"field\": \"emotion\", \"sort\": \"-x\"}}, \"title\": \"Expcted label: fear | Labels with 10 or more mentions | n = 1872\"}], \"data\": {\"name\": \"data-b9ad02463db6196e030fb2d26a14d97c\"}, \"height\": 600, \"width\": 450, \"$schema\": \"https://vega.github.io/schema/vega-lite/v4.8.1.json\", \"datasets\": {\"data-b9ad02463db6196e030fb2d26a14d97c\": [{\"counts\": 227, \"emotion\": \"shock\", \"percent\": 0.12126068376068376}, {\"counts\": 202, \"emotion\": \"scare\", \"percent\": 0.10790598290598291}, {\"counts\": 160, \"emotion\": \"sad\", \"percent\": 0.08547008547008547}, {\"counts\": 156, \"emotion\": \"surpris\", \"percent\": 0.08333333333333333}, {\"counts\": 101, \"emotion\": \"confus\", \"percent\": 0.053952991452991456}, {\"counts\": 69, \"emotion\": \"upset\", \"percent\": 0.03685897435897436}, {\"counts\": 61, \"emotion\": \"disgust\", \"percent\": 0.03258547008547009}, {\"counts\": 54, \"emotion\": \"happi\", \"percent\": 0.028846153846153848}, {\"counts\": 54, \"emotion\": \"excit\", \"percent\": 0.028846153846153848}, {\"counts\": 51, \"emotion\": \"worri\", \"percent\": 0.027243589743589744}, {\"counts\": 37, \"emotion\": \"supris\", \"percent\": 0.019764957264957264}, {\"counts\": 32, \"emotion\": \"none\", \"percent\": 0.017094017094017096}, {\"counts\": 27, \"emotion\": \"silli\", \"percent\": 0.014423076923076924}, {\"counts\": 26, \"emotion\": \"angri\", \"percent\": 0.013888888888888888}, {\"counts\": 19, \"emotion\": \"fear\", \"percent\": 0.01014957264957265}, {\"counts\": 19, \"emotion\": \"cri\", \"percent\": 0.01014957264957265}, {\"counts\": 18, \"emotion\": \"concern\", \"percent\": 0.009615384615384616}, {\"counts\": 17, \"emotion\": \"mad\", \"percent\": 0.009081196581196582}, {\"counts\": 16, \"emotion\": \"goofi\", \"percent\": 0.008547008547008548}, {\"counts\": 16, \"emotion\": \"funni\", \"percent\": 0.008547008547008548}, {\"counts\": 16, \"emotion\": \"frighten\", \"percent\": 0.008547008547008548}, {\"counts\": 13, \"emotion\": \"afraid\", \"percent\": 0.006944444444444444}, {\"counts\": 13, \"emotion\": \"uncomfort\", \"percent\": 0.006944444444444444}, {\"counts\": 13, \"emotion\": \"unhappi\", \"percent\": 0.006944444444444444}, {\"counts\": 13, \"emotion\": \"unpleas\", \"percent\": 0.006944444444444444}, {\"counts\": 11, \"emotion\": \"nervou\", \"percent\": 0.005876068376068376}, {\"counts\": 11, \"emotion\": \"disbelief\", \"percent\": 0.005876068376068376}]}}, {\"renderer\": \"svg\", \"mode\": \"vega-lite\"});\n",
       "</script>"
      ],
      "text/plain": [
       "alt.LayerChart(...)"
      ]
     },
     "metadata": {},
     "output_type": "display_data"
    }
   ],
   "source": [
    "emotion = 'fear'\n",
    "emotion_st = 'fear'\n",
    "df_emotion = emotion_df_formated(df_emo_answers, emotion) # subset 'emotion' rows\n",
    "df_emotion_ans = df_emotion.drop(['photo_id', 'ethnicity', 'sex','age', 'label', 'url', 'photoId'], axis=1)\n",
    "df_stack_emotion = formating_words(df_emotion_ans) # clean up\n",
    "df_stack_emotion['emotion_ps_steamed'] = df_stack_emotion['emotion'].apply(lambda x: ps.stem(x)) #steam\n",
    "source = count_freq_labels(df_stack_emotion,X='stacked', col='emotion_ps_steamed')\n",
    "source_10 = source[source['counts'] > 10]\n",
    "\n",
    "title = 'Expcted label: '+ emotion + ' | Labels with 10 or more mentions | n = '+ source['counts'].sum().astype(str)\n",
    "X, Y = 'percent:Q', 'emotion:N'\n",
    "w, h= 450, 600\n",
    "txs, ls, ts = 12, 11, 12\n",
    "\n",
    "\n",
    "chart_fear = simple_per_bar(\n",
    "    source_10, title=title, X=X, Y=Y, \\\n",
    "    width=w, height=h, emotion=emotion_st, \\\n",
    "    text_size = txs, label_size = ls, title_size=ts)\n",
    "chart_fear.display(renderer='svg')"
   ]
  },
  {
   "cell_type": "code",
   "execution_count": 52,
   "id": "77cab166-6b3b-4f3e-b020-b187b3d1851e",
   "metadata": {},
   "outputs": [],
   "source": [
    "chart_fear_str = altair_saver.save(chart_fear, fmt='svg')\n",
    "image_title.append(\"Images depicting 'fear'\")\n",
    "svg_str.append(chart_fear_str)"
   ]
  },
  {
   "cell_type": "markdown",
   "id": "9321945e-348d-4bf4-8ab7-c7e492d541a9",
   "metadata": {},
   "source": [
    "### Surprise"
   ]
  },
  {
   "cell_type": "code",
   "execution_count": 53,
   "id": "f6e9a0c6-d0a8-4525-b6d7-b593dafb0a3c",
   "metadata": {},
   "outputs": [
    {
     "data": {
      "text/html": [
       "\n",
       "<div id=\"altair-viz-a5cc47dfade64be98dd5a44298efb473\"></div>\n",
       "<script type=\"text/javascript\">\n",
       "  (function(spec, embedOpt){\n",
       "    let outputDiv = document.currentScript.previousElementSibling;\n",
       "    if (outputDiv.id !== \"altair-viz-a5cc47dfade64be98dd5a44298efb473\") {\n",
       "      outputDiv = document.getElementById(\"altair-viz-a5cc47dfade64be98dd5a44298efb473\");\n",
       "    }\n",
       "    const paths = {\n",
       "      \"vega\": \"https://cdn.jsdelivr.net/npm//vega@5?noext\",\n",
       "      \"vega-lib\": \"https://cdn.jsdelivr.net/npm//vega-lib?noext\",\n",
       "      \"vega-lite\": \"https://cdn.jsdelivr.net/npm//vega-lite@4.8.1?noext\",\n",
       "      \"vega-embed\": \"https://cdn.jsdelivr.net/npm//vega-embed@6?noext\",\n",
       "    };\n",
       "\n",
       "    function loadScript(lib) {\n",
       "      return new Promise(function(resolve, reject) {\n",
       "        var s = document.createElement('script');\n",
       "        s.src = paths[lib];\n",
       "        s.async = true;\n",
       "        s.onload = () => resolve(paths[lib]);\n",
       "        s.onerror = () => reject(`Error loading script: ${paths[lib]}`);\n",
       "        document.getElementsByTagName(\"head\")[0].appendChild(s);\n",
       "      });\n",
       "    }\n",
       "\n",
       "    function showError(err) {\n",
       "      outputDiv.innerHTML = `<div class=\"error\" style=\"color:red;\">${err}</div>`;\n",
       "      throw err;\n",
       "    }\n",
       "\n",
       "    function displayChart(vegaEmbed) {\n",
       "      vegaEmbed(outputDiv, spec, embedOpt)\n",
       "        .catch(err => showError(`Javascript Error: ${err.message}<br>This usually means there's a typo in your chart specification. See the javascript console for the full traceback.`));\n",
       "    }\n",
       "\n",
       "    if(typeof define === \"function\" && define.amd) {\n",
       "      requirejs.config({paths});\n",
       "      require([\"vega-embed\"], displayChart, err => showError(`Error loading script: ${err.message}`));\n",
       "    } else if (typeof vegaEmbed === \"function\") {\n",
       "      displayChart(vegaEmbed);\n",
       "    } else {\n",
       "      loadScript(\"vega\")\n",
       "        .then(() => loadScript(\"vega-lite\"))\n",
       "        .then(() => loadScript(\"vega-embed\"))\n",
       "        .catch(showError)\n",
       "        .then(() => displayChart(vegaEmbed));\n",
       "    }\n",
       "  })({\"config\": {\"view\": {\"continuousWidth\": 400, \"continuousHeight\": 300}, \"axis\": {\"labelFontSize\": 11, \"titleFontSize\": 12}}, \"layer\": [{\"mark\": \"bar\", \"encoding\": {\"color\": {\"condition\": {\"value\": \"orange\", \"test\": \"(datum.emotion === 'surpris')\"}, \"value\": \"#0570b0\"}, \"x\": {\"type\": \"quantitative\", \"axis\": {\"format\": \".0%\"}, \"field\": \"percent\"}, \"y\": {\"type\": \"nominal\", \"field\": \"emotion\", \"sort\": \"-x\"}}, \"title\": \"Expcted label: surprise | Labels with 10 or more mentions | n = 1826\"}, {\"mark\": {\"type\": \"text\", \"align\": \"left\", \"baseline\": \"middle\", \"dx\": 3, \"fontSize\": 12}, \"encoding\": {\"color\": {\"condition\": {\"value\": \"orange\", \"test\": \"(datum.emotion === 'surpris')\"}, \"value\": \"#0570b0\"}, \"text\": {\"type\": \"quantitative\", \"field\": \"percent\", \"format\": \".1%\"}, \"x\": {\"type\": \"quantitative\", \"axis\": {\"format\": \".0%\"}, \"field\": \"percent\"}, \"y\": {\"type\": \"nominal\", \"field\": \"emotion\", \"sort\": \"-x\"}}, \"title\": \"Expcted label: surprise | Labels with 10 or more mentions | n = 1826\"}], \"data\": {\"name\": \"data-11ea2f5b73ff637a9cc732f3aed3484c\"}, \"height\": 600, \"width\": 450, \"$schema\": \"https://vega.github.io/schema/vega-lite/v4.8.1.json\", \"datasets\": {\"data-11ea2f5b73ff637a9cc732f3aed3484c\": [{\"counts\": 273, \"emotion\": \"surpris\", \"percent\": 0.14950711938663747}, {\"counts\": 254, \"emotion\": \"shock\", \"percent\": 0.13910186199342825}, {\"counts\": 198, \"emotion\": \"happi\", \"percent\": 0.10843373493975904}, {\"counts\": 99, \"emotion\": \"confus\", \"percent\": 0.05421686746987952}, {\"counts\": 93, \"emotion\": \"excit\", \"percent\": 0.05093099671412924}, {\"counts\": 61, \"emotion\": \"scare\", \"percent\": 0.033406352683461114}, {\"counts\": 51, \"emotion\": \"supris\", \"percent\": 0.02792990142387733}, {\"counts\": 42, \"emotion\": \"silli\", \"percent\": 0.023001095290251915}, {\"counts\": 30, \"emotion\": \"none\", \"percent\": 0.01642935377875137}, {\"counts\": 27, \"emotion\": \"goofi\", \"percent\": 0.014786418400876232}, {\"counts\": 24, \"emotion\": \"funni\", \"percent\": 0.013143483023001095}, {\"counts\": 21, \"emotion\": \"interest\", \"percent\": 0.011500547645125958}, {\"counts\": 20, \"emotion\": \"intrigu\", \"percent\": 0.01095290251916758}, {\"counts\": 20, \"emotion\": \"worri\", \"percent\": 0.01095290251916758}, {\"counts\": 17, \"emotion\": \"sad\", \"percent\": 0.009309967141292442}, {\"counts\": 17, \"emotion\": \"unhappi\", \"percent\": 0.009309967141292442}, {\"counts\": 15, \"emotion\": \"uncomfort\", \"percent\": 0.008214676889375685}, {\"counts\": 15, \"emotion\": \"curiou\", \"percent\": 0.008214676889375685}, {\"counts\": 15, \"emotion\": \"amaz\", \"percent\": 0.008214676889375685}, {\"counts\": 14, \"emotion\": \"unpleas\", \"percent\": 0.007667031763417305}, {\"counts\": 13, \"emotion\": \"content\", \"percent\": 0.007119386637458927}, {\"counts\": 13, \"emotion\": \"bore\", \"percent\": 0.007119386637458927}, {\"counts\": 13, \"emotion\": \"concern\", \"percent\": 0.007119386637458927}, {\"counts\": 13, \"emotion\": \"crazi\", \"percent\": 0.007119386637458927}, {\"counts\": 12, \"emotion\": \"disbelief\", \"percent\": 0.0065717415115005475}, {\"counts\": 12, \"emotion\": \"focus\", \"percent\": 0.0065717415115005475}]}}, {\"renderer\": \"svg\", \"mode\": \"vega-lite\"});\n",
       "</script>"
      ],
      "text/plain": [
       "alt.LayerChart(...)"
      ]
     },
     "metadata": {},
     "output_type": "display_data"
    }
   ],
   "source": [
    "emotion = 'surprise'\n",
    "emotion_st = 'surpris'\n",
    "df_emotion = emotion_df_formated(df_emo_answers, emotion) # subset 'emotion' rows\n",
    "df_emotion_ans = df_emotion.drop(['photo_id', 'ethnicity', 'sex','age', 'label', 'url', 'photoId'], axis=1)\n",
    "df_stack_emotion = formating_words(df_emotion_ans) # clean up\n",
    "df_stack_emotion['emotion_ps_steamed'] = df_stack_emotion['emotion'].apply(lambda x: ps.stem(x)) #steam\n",
    "source = count_freq_labels(df_stack_emotion,X='stacked', col='emotion_ps_steamed')\n",
    "source_10 = source[source['counts'] > 10]\n",
    "\n",
    "title = 'Expcted label: '+ emotion + ' | Labels with 10 or more mentions | n = '+ source['counts'].sum().astype(str)\n",
    "X, Y = 'percent:Q', 'emotion:N'\n",
    "w, h= 450, 600\n",
    "txs, ls, ts = 12, 11, 12\n",
    "\n",
    "\n",
    "chart_surprise = simple_per_bar(\n",
    "    source_10, title=title, X=X, Y=Y, \\\n",
    "    width=w, height=h, emotion=emotion_st, \\\n",
    "    text_size = txs, label_size = ls, title_size=ts)\n",
    "chart_surprise.display(renderer='svg')"
   ]
  },
  {
   "cell_type": "code",
   "execution_count": 54,
   "id": "f1a456a0-7f88-44ee-835a-7021577a4a7d",
   "metadata": {},
   "outputs": [],
   "source": [
    "chart_surprise_str = altair_saver.save(chart_surprise, fmt='svg')\n",
    "image_title.append(\"Images depicting 'surprise'\")\n",
    "svg_str.append(chart_surprise_str)"
   ]
  },
  {
   "cell_type": "markdown",
   "id": "2c1d3a35-2813-4e74-83e3-0c387b07c2d9",
   "metadata": {},
   "source": [
    "### Happiness"
   ]
  },
  {
   "cell_type": "code",
   "execution_count": 55,
   "id": "b7f629b1-3420-43b7-9253-b93e763e9a61",
   "metadata": {},
   "outputs": [
    {
     "data": {
      "text/html": [
       "\n",
       "<div id=\"altair-viz-6c067dcfb38446a4add4e6510bb50169\"></div>\n",
       "<script type=\"text/javascript\">\n",
       "  (function(spec, embedOpt){\n",
       "    let outputDiv = document.currentScript.previousElementSibling;\n",
       "    if (outputDiv.id !== \"altair-viz-6c067dcfb38446a4add4e6510bb50169\") {\n",
       "      outputDiv = document.getElementById(\"altair-viz-6c067dcfb38446a4add4e6510bb50169\");\n",
       "    }\n",
       "    const paths = {\n",
       "      \"vega\": \"https://cdn.jsdelivr.net/npm//vega@5?noext\",\n",
       "      \"vega-lib\": \"https://cdn.jsdelivr.net/npm//vega-lib?noext\",\n",
       "      \"vega-lite\": \"https://cdn.jsdelivr.net/npm//vega-lite@4.8.1?noext\",\n",
       "      \"vega-embed\": \"https://cdn.jsdelivr.net/npm//vega-embed@6?noext\",\n",
       "    };\n",
       "\n",
       "    function loadScript(lib) {\n",
       "      return new Promise(function(resolve, reject) {\n",
       "        var s = document.createElement('script');\n",
       "        s.src = paths[lib];\n",
       "        s.async = true;\n",
       "        s.onload = () => resolve(paths[lib]);\n",
       "        s.onerror = () => reject(`Error loading script: ${paths[lib]}`);\n",
       "        document.getElementsByTagName(\"head\")[0].appendChild(s);\n",
       "      });\n",
       "    }\n",
       "\n",
       "    function showError(err) {\n",
       "      outputDiv.innerHTML = `<div class=\"error\" style=\"color:red;\">${err}</div>`;\n",
       "      throw err;\n",
       "    }\n",
       "\n",
       "    function displayChart(vegaEmbed) {\n",
       "      vegaEmbed(outputDiv, spec, embedOpt)\n",
       "        .catch(err => showError(`Javascript Error: ${err.message}<br>This usually means there's a typo in your chart specification. See the javascript console for the full traceback.`));\n",
       "    }\n",
       "\n",
       "    if(typeof define === \"function\" && define.amd) {\n",
       "      requirejs.config({paths});\n",
       "      require([\"vega-embed\"], displayChart, err => showError(`Error loading script: ${err.message}`));\n",
       "    } else if (typeof vegaEmbed === \"function\") {\n",
       "      displayChart(vegaEmbed);\n",
       "    } else {\n",
       "      loadScript(\"vega\")\n",
       "        .then(() => loadScript(\"vega-lite\"))\n",
       "        .then(() => loadScript(\"vega-embed\"))\n",
       "        .catch(showError)\n",
       "        .then(() => displayChart(vegaEmbed));\n",
       "    }\n",
       "  })({\"config\": {\"view\": {\"continuousWidth\": 400, \"continuousHeight\": 300}, \"axis\": {\"labelFontSize\": 11, \"titleFontSize\": 12}}, \"layer\": [{\"mark\": \"bar\", \"encoding\": {\"color\": {\"condition\": {\"value\": \"orange\", \"test\": \"(datum.emotion === 'happi')\"}, \"value\": \"#0570b0\"}, \"x\": {\"type\": \"quantitative\", \"axis\": {\"format\": \".0%\"}, \"field\": \"percent\"}, \"y\": {\"type\": \"nominal\", \"field\": \"emotion\", \"sort\": \"-x\"}}, \"title\": \"Expcted label: happiness | Labels with 10 or more mentions | n = 1793\"}, {\"mark\": {\"type\": \"text\", \"align\": \"left\", \"baseline\": \"middle\", \"dx\": 3, \"fontSize\": 12}, \"encoding\": {\"color\": {\"condition\": {\"value\": \"orange\", \"test\": \"(datum.emotion === 'happi')\"}, \"value\": \"#0570b0\"}, \"text\": {\"type\": \"quantitative\", \"field\": \"percent\", \"format\": \".1%\"}, \"x\": {\"type\": \"quantitative\", \"axis\": {\"format\": \".0%\"}, \"field\": \"percent\"}, \"y\": {\"type\": \"nominal\", \"field\": \"emotion\", \"sort\": \"-x\"}}, \"title\": \"Expcted label: happiness | Labels with 10 or more mentions | n = 1793\"}], \"data\": {\"name\": \"data-d741fae8e6b1b63a139eb2ff2b8c56ce\"}, \"height\": 600, \"width\": 450, \"$schema\": \"https://vega.github.io/schema/vega-lite/v4.8.1.json\", \"datasets\": {\"data-d741fae8e6b1b63a139eb2ff2b8c56ce\": [{\"counts\": 832, \"emotion\": \"happi\", \"percent\": 0.464026770775237}, {\"counts\": 121, \"emotion\": \"content\", \"percent\": 0.06748466257668712}, {\"counts\": 112, \"emotion\": \"excit\", \"percent\": 0.06246514221974345}, {\"counts\": 87, \"emotion\": \"smile\", \"percent\": 0.04852203011712214}, {\"counts\": 38, \"emotion\": \"pleas\", \"percent\": 0.021193530395984383}, {\"counts\": 31, \"emotion\": \"calm\", \"percent\": 0.01728945900725042}, {\"counts\": 27, \"emotion\": \"none\", \"percent\": 0.01505856107083101}, {\"counts\": 19, \"emotion\": \"joy\", \"percent\": 0.010596765197992191}, {\"counts\": 17, \"emotion\": \"confid\", \"percent\": 0.009481316229782488}, {\"counts\": 17, \"emotion\": \"cheer\", \"percent\": 0.009481316229782488}, {\"counts\": 15, \"emotion\": \"silli\", \"percent\": 0.008365867261572783}, {\"counts\": 15, \"emotion\": \"unhappi\", \"percent\": 0.008365867261572783}, {\"counts\": 13, \"emotion\": \"surpris\", \"percent\": 0.007250418293363078}, {\"counts\": 13, \"emotion\": \"unpleas\", \"percent\": 0.007250418293363078}, {\"counts\": 13, \"emotion\": \"proud\", \"percent\": 0.007250418293363078}, {\"counts\": 12, \"emotion\": \"uncomfort\", \"percent\": 0.006692693809258227}, {\"counts\": 11, \"emotion\": \"thrill\", \"percent\": 0.006134969325153374}]}}, {\"renderer\": \"svg\", \"mode\": \"vega-lite\"});\n",
       "</script>"
      ],
      "text/plain": [
       "alt.LayerChart(...)"
      ]
     },
     "metadata": {},
     "output_type": "display_data"
    }
   ],
   "source": [
    "emotion = 'happiness'\n",
    "emotion_st = 'happi'\n",
    "df_emotion = emotion_df_formated(df_emo_answers, emotion) # subset 'emotion' rows\n",
    "df_emotion_ans = df_emotion.drop(['photo_id', 'ethnicity', 'sex','age', 'label', 'url', 'photoId'], axis=1)\n",
    "df_stack_emotion = formating_words(df_emotion_ans) # clean up\n",
    "df_stack_emotion['emotion_ps_steamed'] = df_stack_emotion['emotion'].apply(lambda x: ps.stem(x)) #steam\n",
    "source = count_freq_labels(df_stack_emotion,X='stacked', col='emotion_ps_steamed')\n",
    "source_10 = source[source['counts'] > 10]\n",
    "\n",
    "title = 'Expcted label: '+ emotion + ' | Labels with 10 or more mentions | n = '+ source['counts'].sum().astype(str)\n",
    "X, Y = 'percent:Q', 'emotion:N'\n",
    "w, h= 450, 600\n",
    "txs, ls, ts = 12, 11, 12\n",
    "\n",
    "\n",
    "chart_happiness = simple_per_bar(\n",
    "    source_10, title=title, X=X, Y=Y, \\\n",
    "    width=w, height=h, emotion=emotion_st, \\\n",
    "    text_size = txs, label_size = ls, title_size=ts)\n",
    "chart_happiness.display(renderer='svg')"
   ]
  },
  {
   "cell_type": "code",
   "execution_count": 56,
   "id": "78e494df-05f1-4ab7-a789-b3341b2f6c6d",
   "metadata": {},
   "outputs": [],
   "source": [
    "chart_happiness_str = altair_saver.save(chart_happiness, fmt='svg')\n",
    "image_title.append(\"Images depicting 'happiness'\")\n",
    "svg_str.append(chart_happiness_str)"
   ]
  },
  {
   "cell_type": "markdown",
   "id": "e27dd1ae-1bc0-4700-b2ec-e4b7e50c9481",
   "metadata": {},
   "source": [
    "### Sadness"
   ]
  },
  {
   "cell_type": "code",
   "execution_count": 57,
   "id": "4d78f9e3-cec5-4dfa-9b28-d2b087fe5bbe",
   "metadata": {},
   "outputs": [
    {
     "data": {
      "text/html": [
       "\n",
       "<div id=\"altair-viz-f36f56c80a674445b452be9996b6e159\"></div>\n",
       "<script type=\"text/javascript\">\n",
       "  (function(spec, embedOpt){\n",
       "    let outputDiv = document.currentScript.previousElementSibling;\n",
       "    if (outputDiv.id !== \"altair-viz-f36f56c80a674445b452be9996b6e159\") {\n",
       "      outputDiv = document.getElementById(\"altair-viz-f36f56c80a674445b452be9996b6e159\");\n",
       "    }\n",
       "    const paths = {\n",
       "      \"vega\": \"https://cdn.jsdelivr.net/npm//vega@5?noext\",\n",
       "      \"vega-lib\": \"https://cdn.jsdelivr.net/npm//vega-lib?noext\",\n",
       "      \"vega-lite\": \"https://cdn.jsdelivr.net/npm//vega-lite@4.8.1?noext\",\n",
       "      \"vega-embed\": \"https://cdn.jsdelivr.net/npm//vega-embed@6?noext\",\n",
       "    };\n",
       "\n",
       "    function loadScript(lib) {\n",
       "      return new Promise(function(resolve, reject) {\n",
       "        var s = document.createElement('script');\n",
       "        s.src = paths[lib];\n",
       "        s.async = true;\n",
       "        s.onload = () => resolve(paths[lib]);\n",
       "        s.onerror = () => reject(`Error loading script: ${paths[lib]}`);\n",
       "        document.getElementsByTagName(\"head\")[0].appendChild(s);\n",
       "      });\n",
       "    }\n",
       "\n",
       "    function showError(err) {\n",
       "      outputDiv.innerHTML = `<div class=\"error\" style=\"color:red;\">${err}</div>`;\n",
       "      throw err;\n",
       "    }\n",
       "\n",
       "    function displayChart(vegaEmbed) {\n",
       "      vegaEmbed(outputDiv, spec, embedOpt)\n",
       "        .catch(err => showError(`Javascript Error: ${err.message}<br>This usually means there's a typo in your chart specification. See the javascript console for the full traceback.`));\n",
       "    }\n",
       "\n",
       "    if(typeof define === \"function\" && define.amd) {\n",
       "      requirejs.config({paths});\n",
       "      require([\"vega-embed\"], displayChart, err => showError(`Error loading script: ${err.message}`));\n",
       "    } else if (typeof vegaEmbed === \"function\") {\n",
       "      displayChart(vegaEmbed);\n",
       "    } else {\n",
       "      loadScript(\"vega\")\n",
       "        .then(() => loadScript(\"vega-lite\"))\n",
       "        .then(() => loadScript(\"vega-embed\"))\n",
       "        .catch(showError)\n",
       "        .then(() => displayChart(vegaEmbed));\n",
       "    }\n",
       "  })({\"config\": {\"view\": {\"continuousWidth\": 400, \"continuousHeight\": 300}, \"axis\": {\"labelFontSize\": 11, \"titleFontSize\": 12}}, \"layer\": [{\"mark\": \"bar\", \"encoding\": {\"color\": {\"condition\": {\"value\": \"orange\", \"test\": \"(datum.emotion === 'sad')\"}, \"value\": \"#0570b0\"}, \"x\": {\"type\": \"quantitative\", \"axis\": {\"format\": \".0%\"}, \"field\": \"percent\"}, \"y\": {\"type\": \"nominal\", \"field\": \"emotion\", \"sort\": \"-x\"}}, \"title\": \"Expcted label: sadness | Labels with 10 or more mentions | n = 1910\"}, {\"mark\": {\"type\": \"text\", \"align\": \"left\", \"baseline\": \"middle\", \"dx\": 3, \"fontSize\": 12}, \"encoding\": {\"color\": {\"condition\": {\"value\": \"orange\", \"test\": \"(datum.emotion === 'sad')\"}, \"value\": \"#0570b0\"}, \"text\": {\"type\": \"quantitative\", \"field\": \"percent\", \"format\": \".1%\"}, \"x\": {\"type\": \"quantitative\", \"axis\": {\"format\": \".0%\"}, \"field\": \"percent\"}, \"y\": {\"type\": \"nominal\", \"field\": \"emotion\", \"sort\": \"-x\"}}, \"title\": \"Expcted label: sadness | Labels with 10 or more mentions | n = 1910\"}], \"data\": {\"name\": \"data-c3971217591e0aafa92b4feef5535288\"}, \"height\": 600, \"width\": 450, \"$schema\": \"https://vega.github.io/schema/vega-lite/v4.8.1.json\", \"datasets\": {\"data-c3971217591e0aafa92b4feef5535288\": [{\"counts\": 657, \"emotion\": \"sad\", \"percent\": 0.34397905759162306}, {\"counts\": 170, \"emotion\": \"upset\", \"percent\": 0.08900523560209424}, {\"counts\": 67, \"emotion\": \"cri\", \"percent\": 0.03507853403141361}, {\"counts\": 62, \"emotion\": \"angri\", \"percent\": 0.032460732984293195}, {\"counts\": 43, \"emotion\": \"regret\", \"percent\": 0.022513089005235604}, {\"counts\": 39, \"emotion\": \"confus\", \"percent\": 0.020418848167539267}, {\"counts\": 38, \"emotion\": \"mad\", \"percent\": 0.019895287958115182}, {\"counts\": 37, \"emotion\": \"scare\", \"percent\": 0.0193717277486911}, {\"counts\": 32, \"emotion\": \"worri\", \"percent\": 0.016753926701570682}, {\"counts\": 30, \"emotion\": \"none\", \"percent\": 0.015706806282722512}, {\"counts\": 30, \"emotion\": \"disappoint\", \"percent\": 0.015706806282722512}, {\"counts\": 26, \"emotion\": \"unhappi\", \"percent\": 0.013612565445026177}, {\"counts\": 26, \"emotion\": \"hurt\", \"percent\": 0.013612565445026177}, {\"counts\": 23, \"emotion\": \"depress\", \"percent\": 0.012041884816753926}, {\"counts\": 21, \"emotion\": \"distress\", \"percent\": 0.01099476439790576}, {\"counts\": 18, \"emotion\": \"distraught\", \"percent\": 0.009424083769633508}, {\"counts\": 18, \"emotion\": \"tear\", \"percent\": 0.009424083769633508}, {\"counts\": 17, \"emotion\": \"seriou\", \"percent\": 0.008900523560209424}, {\"counts\": 17, \"emotion\": \"unpleas\", \"percent\": 0.008900523560209424}, {\"counts\": 16, \"emotion\": \"frustrat\", \"percent\": 0.008376963350785341}, {\"counts\": 16, \"emotion\": \"disgust\", \"percent\": 0.008376963350785341}, {\"counts\": 15, \"emotion\": \"concern\", \"percent\": 0.007853403141361256}, {\"counts\": 15, \"emotion\": \"guilti\", \"percent\": 0.007853403141361256}, {\"counts\": 14, \"emotion\": \"uncomfort\", \"percent\": 0.007329842931937173}, {\"counts\": 14, \"emotion\": \"bore\", \"percent\": 0.007329842931937173}, {\"counts\": 13, \"emotion\": \"tire\", \"percent\": 0.006806282722513089}, {\"counts\": 12, \"emotion\": \"bad\", \"percent\": 0.0062827225130890054}, {\"counts\": 12, \"emotion\": \"annoy\", \"percent\": 0.0062827225130890054}]}}, {\"renderer\": \"svg\", \"mode\": \"vega-lite\"});\n",
       "</script>"
      ],
      "text/plain": [
       "alt.LayerChart(...)"
      ]
     },
     "metadata": {},
     "output_type": "display_data"
    }
   ],
   "source": [
    "emotion = 'sadness'\n",
    "emotion_st = 'sad'\n",
    "df_emotion = emotion_df_formated(df_emo_answers, emotion) # subset 'emotion' rows\n",
    "df_emotion_ans = df_emotion.drop(['photo_id', 'ethnicity', 'sex','age', 'label', 'url', 'photoId'], axis=1)\n",
    "df_stack_emotion = formating_words(df_emotion_ans) # clean up\n",
    "df_stack_emotion['emotion_ps_steamed'] = df_stack_emotion['emotion'].apply(lambda x: ps.stem(x)) #steam\n",
    "source = count_freq_labels(df_stack_emotion,X='stacked', col='emotion_ps_steamed')\n",
    "source_10 = source[source['counts'] > 10]\n",
    "\n",
    "title = 'Expcted label: '+ emotion + ' | Labels with 10 or more mentions | n = '+ source['counts'].sum().astype(str)\n",
    "X, Y = 'percent:Q', 'emotion:N'\n",
    "w, h= 450, 600\n",
    "txs, ls, ts = 12, 11, 12\n",
    "\n",
    "\n",
    "chart_sadness = simple_per_bar(\n",
    "    source_10, title=title, X=X, Y=Y, \\\n",
    "    width=w, height=h, emotion=emotion_st, \\\n",
    "    text_size = txs, label_size = ls, title_size=ts)\n",
    "chart_sadness.display(renderer='svg')"
   ]
  },
  {
   "cell_type": "code",
   "execution_count": 58,
   "id": "d0ddba34-c423-4f47-a62d-33f65c23b263",
   "metadata": {},
   "outputs": [],
   "source": [
    "chart_sadness_str = altair_saver.save(chart_sadness, fmt='svg')\n",
    "image_title.append(\"Images depicting 'sadness'\")\n",
    "svg_str.append(chart_sadness_str)"
   ]
  },
  {
   "cell_type": "markdown",
   "id": "43506741-32cd-4375-8606-fa54c6a012f5",
   "metadata": {},
   "source": [
    "### Uncertain"
   ]
  },
  {
   "cell_type": "code",
   "execution_count": 59,
   "id": "7121b4a7-ced9-4fcc-9148-8532bbff3009",
   "metadata": {},
   "outputs": [
    {
     "data": {
      "text/html": [
       "\n",
       "<div id=\"altair-viz-e35a760c00784a76993cd81d545416c7\"></div>\n",
       "<script type=\"text/javascript\">\n",
       "  (function(spec, embedOpt){\n",
       "    let outputDiv = document.currentScript.previousElementSibling;\n",
       "    if (outputDiv.id !== \"altair-viz-e35a760c00784a76993cd81d545416c7\") {\n",
       "      outputDiv = document.getElementById(\"altair-viz-e35a760c00784a76993cd81d545416c7\");\n",
       "    }\n",
       "    const paths = {\n",
       "      \"vega\": \"https://cdn.jsdelivr.net/npm//vega@5?noext\",\n",
       "      \"vega-lib\": \"https://cdn.jsdelivr.net/npm//vega-lib?noext\",\n",
       "      \"vega-lite\": \"https://cdn.jsdelivr.net/npm//vega-lite@4.8.1?noext\",\n",
       "      \"vega-embed\": \"https://cdn.jsdelivr.net/npm//vega-embed@6?noext\",\n",
       "    };\n",
       "\n",
       "    function loadScript(lib) {\n",
       "      return new Promise(function(resolve, reject) {\n",
       "        var s = document.createElement('script');\n",
       "        s.src = paths[lib];\n",
       "        s.async = true;\n",
       "        s.onload = () => resolve(paths[lib]);\n",
       "        s.onerror = () => reject(`Error loading script: ${paths[lib]}`);\n",
       "        document.getElementsByTagName(\"head\")[0].appendChild(s);\n",
       "      });\n",
       "    }\n",
       "\n",
       "    function showError(err) {\n",
       "      outputDiv.innerHTML = `<div class=\"error\" style=\"color:red;\">${err}</div>`;\n",
       "      throw err;\n",
       "    }\n",
       "\n",
       "    function displayChart(vegaEmbed) {\n",
       "      vegaEmbed(outputDiv, spec, embedOpt)\n",
       "        .catch(err => showError(`Javascript Error: ${err.message}<br>This usually means there's a typo in your chart specification. See the javascript console for the full traceback.`));\n",
       "    }\n",
       "\n",
       "    if(typeof define === \"function\" && define.amd) {\n",
       "      requirejs.config({paths});\n",
       "      require([\"vega-embed\"], displayChart, err => showError(`Error loading script: ${err.message}`));\n",
       "    } else if (typeof vegaEmbed === \"function\") {\n",
       "      displayChart(vegaEmbed);\n",
       "    } else {\n",
       "      loadScript(\"vega\")\n",
       "        .then(() => loadScript(\"vega-lite\"))\n",
       "        .then(() => loadScript(\"vega-embed\"))\n",
       "        .catch(showError)\n",
       "        .then(() => displayChart(vegaEmbed));\n",
       "    }\n",
       "  })({\"config\": {\"view\": {\"continuousWidth\": 400, \"continuousHeight\": 300}, \"axis\": {\"labelFontSize\": 11, \"titleFontSize\": 12}}, \"layer\": [{\"mark\": \"bar\", \"encoding\": {\"color\": {\"condition\": {\"value\": \"orange\", \"test\": \"(datum.emotion === 'uncertain')\"}, \"value\": \"#0570b0\"}, \"x\": {\"type\": \"quantitative\", \"axis\": {\"format\": \".0%\"}, \"field\": \"percent\"}, \"y\": {\"type\": \"nominal\", \"field\": \"emotion\", \"sort\": \"-x\"}}, \"title\": \"Expcted label: uncertain | Labels with 10 or more mentions | n = 1674\"}, {\"mark\": {\"type\": \"text\", \"align\": \"left\", \"baseline\": \"middle\", \"dx\": 3, \"fontSize\": 12}, \"encoding\": {\"color\": {\"condition\": {\"value\": \"orange\", \"test\": \"(datum.emotion === 'uncertain')\"}, \"value\": \"#0570b0\"}, \"text\": {\"type\": \"quantitative\", \"field\": \"percent\", \"format\": \".1%\"}, \"x\": {\"type\": \"quantitative\", \"axis\": {\"format\": \".0%\"}, \"field\": \"percent\"}, \"y\": {\"type\": \"nominal\", \"field\": \"emotion\", \"sort\": \"-x\"}}, \"title\": \"Expcted label: uncertain | Labels with 10 or more mentions | n = 1674\"}], \"data\": {\"name\": \"data-1573a545ae6108b6dd9ec3d08f785544\"}, \"height\": 600, \"width\": 450, \"$schema\": \"https://vega.github.io/schema/vega-lite/v4.8.1.json\", \"datasets\": {\"data-1573a545ae6108b6dd9ec3d08f785544\": [{\"counts\": 158, \"emotion\": \"happi\", \"percent\": 0.09438470728793309}, {\"counts\": 114, \"emotion\": \"silli\", \"percent\": 0.06810035842293907}, {\"counts\": 101, \"emotion\": \"confus\", \"percent\": 0.06033452807646356}, {\"counts\": 69, \"emotion\": \"goofi\", \"percent\": 0.04121863799283154}, {\"counts\": 55, \"emotion\": \"none\", \"percent\": 0.032855436081242535}, {\"counts\": 46, \"emotion\": \"funni\", \"percent\": 0.027479091995221028}, {\"counts\": 41, \"emotion\": \"surpris\", \"percent\": 0.024492234169653525}, {\"counts\": 40, \"emotion\": \"angri\", \"percent\": 0.023894862604540025}, {\"counts\": 40, \"emotion\": \"annoy\", \"percent\": 0.023894862604540025}, {\"counts\": 37, \"emotion\": \"sad\", \"percent\": 0.022102747909199524}, {\"counts\": 37, \"emotion\": \"shock\", \"percent\": 0.022102747909199524}, {\"counts\": 30, \"emotion\": \"content\", \"percent\": 0.017921146953405017}, {\"counts\": 27, \"emotion\": \"excit\", \"percent\": 0.016129032258064516}, {\"counts\": 21, \"emotion\": \"bore\", \"percent\": 0.012544802867383513}, {\"counts\": 21, \"emotion\": \"upset\", \"percent\": 0.012544802867383513}, {\"counts\": 19, \"emotion\": \"crazi\", \"percent\": 0.011350059737156512}, {\"counts\": 19, \"emotion\": \"calm\", \"percent\": 0.011350059737156512}, {\"counts\": 18, \"emotion\": \"unhappi\", \"percent\": 0.010752688172043012}, {\"counts\": 18, \"emotion\": \"disappoint\", \"percent\": 0.010752688172043012}, {\"counts\": 17, \"emotion\": \"confid\", \"percent\": 0.01015531660692951}, {\"counts\": 17, \"emotion\": \"pose\", \"percent\": 0.01015531660692951}, {\"counts\": 16, \"emotion\": \"play\", \"percent\": 0.009557945041816009}, {\"counts\": 15, \"emotion\": \"supris\", \"percent\": 0.008960573476702509}, {\"counts\": 15, \"emotion\": \"interest\", \"percent\": 0.008960573476702509}, {\"counts\": 15, \"emotion\": \"tire\", \"percent\": 0.008960573476702509}, {\"counts\": 15, \"emotion\": \"unpleas\", \"percent\": 0.008960573476702509}, {\"counts\": 15, \"emotion\": \"mad\", \"percent\": 0.008960573476702509}, {\"counts\": 14, \"emotion\": \"guilti\", \"percent\": 0.008363201911589008}, {\"counts\": 13, \"emotion\": \"curiou\", \"percent\": 0.007765830346475508}, {\"counts\": 13, \"emotion\": \"disgust\", \"percent\": 0.007765830346475508}, {\"counts\": 11, \"emotion\": \"chill\", \"percent\": 0.006571087216248507}]}}, {\"renderer\": \"svg\", \"mode\": \"vega-lite\"});\n",
       "</script>"
      ],
      "text/plain": [
       "alt.LayerChart(...)"
      ]
     },
     "metadata": {},
     "output_type": "display_data"
    }
   ],
   "source": [
    "emotion = 'uncertain'\n",
    "emotion_st = 'uncertain'\n",
    "df_emotion = emotion_df_formated(df_emo_answers, emotion) # subset 'emotion' rows\n",
    "df_emotion_ans = df_emotion.drop(['photo_id', 'ethnicity', 'sex','age', 'label', 'url', 'photoId'], axis=1)\n",
    "df_stack_emotion = formating_words(df_emotion_ans) # clean up\n",
    "df_stack_emotion['emotion_ps_steamed'] = df_stack_emotion['emotion'].apply(lambda x: ps.stem(x)) #steam\n",
    "source = count_freq_labels(df_stack_emotion,X='stacked', col='emotion_ps_steamed')\n",
    "source_10 = source[source['counts'] > 10]\n",
    "\n",
    "title = 'Expcted label: '+ emotion + ' | Labels with 10 or more mentions | n = '+ source['counts'].sum().astype(str)\n",
    "X, Y = 'percent:Q', 'emotion:N'\n",
    "w, h= 450, 600\n",
    "txs, ls, ts = 12, 11, 12\n",
    "\n",
    "\n",
    "chart_uncertain = simple_per_bar(\n",
    "    source_10, title=title, X=X, Y=Y, \\\n",
    "    width=w, height=h, emotion=emotion_st, \\\n",
    "    text_size = txs, label_size = ls, title_size=ts)\n",
    "chart_uncertain.display(renderer='svg')"
   ]
  },
  {
   "cell_type": "code",
   "execution_count": 60,
   "id": "6c225102-c389-4158-8e11-bca882247356",
   "metadata": {},
   "outputs": [],
   "source": [
    "chart_uncertain_str = altair_saver.save(chart_uncertain, fmt='svg')\n",
    "image_title.append(\"Images depicting 'uncertain (unknown)'\")\n",
    "svg_str.append(chart_uncertain_str)"
   ]
  },
  {
   "cell_type": "markdown",
   "id": "33082aff-3ef8-40c6-849d-7d64516bc9f3",
   "metadata": {},
   "source": [
    "### Neutral"
   ]
  },
  {
   "cell_type": "code",
   "execution_count": 61,
   "id": "39de86d9-a1cb-4de5-ac1f-d8a3c890941c",
   "metadata": {},
   "outputs": [
    {
     "data": {
      "text/html": [
       "\n",
       "<div id=\"altair-viz-361cc738f3ab4d48a0157b3a1ed0dba1\"></div>\n",
       "<script type=\"text/javascript\">\n",
       "  (function(spec, embedOpt){\n",
       "    let outputDiv = document.currentScript.previousElementSibling;\n",
       "    if (outputDiv.id !== \"altair-viz-361cc738f3ab4d48a0157b3a1ed0dba1\") {\n",
       "      outputDiv = document.getElementById(\"altair-viz-361cc738f3ab4d48a0157b3a1ed0dba1\");\n",
       "    }\n",
       "    const paths = {\n",
       "      \"vega\": \"https://cdn.jsdelivr.net/npm//vega@5?noext\",\n",
       "      \"vega-lib\": \"https://cdn.jsdelivr.net/npm//vega-lib?noext\",\n",
       "      \"vega-lite\": \"https://cdn.jsdelivr.net/npm//vega-lite@4.8.1?noext\",\n",
       "      \"vega-embed\": \"https://cdn.jsdelivr.net/npm//vega-embed@6?noext\",\n",
       "    };\n",
       "\n",
       "    function loadScript(lib) {\n",
       "      return new Promise(function(resolve, reject) {\n",
       "        var s = document.createElement('script');\n",
       "        s.src = paths[lib];\n",
       "        s.async = true;\n",
       "        s.onload = () => resolve(paths[lib]);\n",
       "        s.onerror = () => reject(`Error loading script: ${paths[lib]}`);\n",
       "        document.getElementsByTagName(\"head\")[0].appendChild(s);\n",
       "      });\n",
       "    }\n",
       "\n",
       "    function showError(err) {\n",
       "      outputDiv.innerHTML = `<div class=\"error\" style=\"color:red;\">${err}</div>`;\n",
       "      throw err;\n",
       "    }\n",
       "\n",
       "    function displayChart(vegaEmbed) {\n",
       "      vegaEmbed(outputDiv, spec, embedOpt)\n",
       "        .catch(err => showError(`Javascript Error: ${err.message}<br>This usually means there's a typo in your chart specification. See the javascript console for the full traceback.`));\n",
       "    }\n",
       "\n",
       "    if(typeof define === \"function\" && define.amd) {\n",
       "      requirejs.config({paths});\n",
       "      require([\"vega-embed\"], displayChart, err => showError(`Error loading script: ${err.message}`));\n",
       "    } else if (typeof vegaEmbed === \"function\") {\n",
       "      displayChart(vegaEmbed);\n",
       "    } else {\n",
       "      loadScript(\"vega\")\n",
       "        .then(() => loadScript(\"vega-lite\"))\n",
       "        .then(() => loadScript(\"vega-embed\"))\n",
       "        .catch(showError)\n",
       "        .then(() => displayChart(vegaEmbed));\n",
       "    }\n",
       "  })({\"config\": {\"view\": {\"continuousWidth\": 400, \"continuousHeight\": 300}, \"axis\": {\"labelFontSize\": 11, \"titleFontSize\": 12}}, \"layer\": [{\"mark\": \"bar\", \"encoding\": {\"color\": {\"condition\": {\"value\": \"orange\", \"test\": \"(datum.emotion === 'neutral')\"}, \"value\": \"#0570b0\"}, \"x\": {\"type\": \"quantitative\", \"axis\": {\"format\": \".0%\"}, \"field\": \"percent\"}, \"y\": {\"type\": \"nominal\", \"field\": \"emotion\", \"sort\": \"-x\"}}, \"title\": \"Expcted label: neutral | Labels with 10 or more mentions | n = 1566\"}, {\"mark\": {\"type\": \"text\", \"align\": \"left\", \"baseline\": \"middle\", \"dx\": 3, \"fontSize\": 12}, \"encoding\": {\"color\": {\"condition\": {\"value\": \"orange\", \"test\": \"(datum.emotion === 'neutral')\"}, \"value\": \"#0570b0\"}, \"text\": {\"type\": \"quantitative\", \"field\": \"percent\", \"format\": \".1%\"}, \"x\": {\"type\": \"quantitative\", \"axis\": {\"format\": \".0%\"}, \"field\": \"percent\"}, \"y\": {\"type\": \"nominal\", \"field\": \"emotion\", \"sort\": \"-x\"}}, \"title\": \"Expcted label: neutral | Labels with 10 or more mentions | n = 1566\"}], \"data\": {\"name\": \"data-9f69ff70b3c16864fced6f6b43a18034\"}, \"height\": 600, \"width\": 450, \"$schema\": \"https://vega.github.io/schema/vega-lite/v4.8.1.json\", \"datasets\": {\"data-9f69ff70b3c16864fced6f6b43a18034\": [{\"counts\": 97, \"emotion\": \"content\", \"percent\": 0.06194125159642401}, {\"counts\": 87, \"emotion\": \"happi\", \"percent\": 0.05555555555555555}, {\"counts\": 79, \"emotion\": \"sad\", \"percent\": 0.05044699872286079}, {\"counts\": 79, \"emotion\": \"calm\", \"percent\": 0.05044699872286079}, {\"counts\": 78, \"emotion\": \"none\", \"percent\": 0.04980842911877394}, {\"counts\": 64, \"emotion\": \"seriou\", \"percent\": 0.04086845466155811}, {\"counts\": 60, \"emotion\": \"confus\", \"percent\": 0.038314176245210725}, {\"counts\": 42, \"emotion\": \"mad\", \"percent\": 0.02681992337164751}, {\"counts\": 42, \"emotion\": \"bore\", \"percent\": 0.02681992337164751}, {\"counts\": 38, \"emotion\": \"blank\", \"percent\": 0.024265644955300127}, {\"counts\": 37, \"emotion\": \"angri\", \"percent\": 0.02362707535121328}, {\"counts\": 36, \"emotion\": \"indiffer\", \"percent\": 0.022988505747126436}, {\"counts\": 27, \"emotion\": \"focus\", \"percent\": 0.017241379310344827}, {\"counts\": 27, \"emotion\": \"tire\", \"percent\": 0.017241379310344827}, {\"counts\": 27, \"emotion\": \"annoy\", \"percent\": 0.017241379310344827}, {\"counts\": 26, \"emotion\": \"stare\", \"percent\": 0.016602809706257982}, {\"counts\": 26, \"emotion\": \"chill\", \"percent\": 0.016602809706257982}, {\"counts\": 24, \"emotion\": \"unhappi\", \"percent\": 0.01532567049808429}, {\"counts\": 23, \"emotion\": \"upset\", \"percent\": 0.014687100893997445}, {\"counts\": 17, \"emotion\": \"normal\", \"percent\": 0.010855683269476373}, {\"counts\": 15, \"emotion\": \"unpleas\", \"percent\": 0.009578544061302681}, {\"counts\": 14, \"emotion\": \"uninterest\", \"percent\": 0.008939974457215836}, {\"counts\": 13, \"emotion\": \"uncomfort\", \"percent\": 0.008301404853128991}, {\"counts\": 13, \"emotion\": \"neutral\", \"percent\": 0.008301404853128991}, {\"counts\": 12, \"emotion\": \"unamus\", \"percent\": 0.007662835249042145}, {\"counts\": 11, \"emotion\": \"intrigu\", \"percent\": 0.0070242656449553}, {\"counts\": 11, \"emotion\": \"curiou\", \"percent\": 0.0070242656449553}, {\"counts\": 11, \"emotion\": \"cool\", \"percent\": 0.0070242656449553}, {\"counts\": 11, \"emotion\": \"disappoint\", \"percent\": 0.0070242656449553}, {\"counts\": 11, \"emotion\": \"confid\", \"percent\": 0.0070242656449553}]}}, {\"renderer\": \"svg\", \"mode\": \"vega-lite\"});\n",
       "</script>"
      ],
      "text/plain": [
       "alt.LayerChart(...)"
      ]
     },
     "metadata": {},
     "output_type": "display_data"
    }
   ],
   "source": [
    "emotion = 'neutral'\n",
    "emotion_st = 'neutral'\n",
    "df_emotion = emotion_df_formated(df_emo_answers, emotion) # subset 'emotion' rows\n",
    "df_emotion_ans = df_emotion.drop(['photo_id', 'ethnicity', 'sex','age', 'label', 'url', 'photoId'], axis=1)\n",
    "df_stack_emotion = formating_words(df_emotion_ans) # clean up\n",
    "df_stack_emotion['emotion_ps_steamed'] = df_stack_emotion['emotion'].apply(lambda x: ps.stem(x)) #steam\n",
    "source = count_freq_labels(df_stack_emotion, X='stacked', col='emotion_ps_steamed')\n",
    "source_10 = source[source['counts'] > 10]\n",
    "\n",
    "title = 'Expcted label: '+ emotion + ' | Labels with 10 or more mentions | n = '+ source['counts'].sum().astype(str)\n",
    "X, Y = 'percent:Q', 'emotion:N'\n",
    "w, h= 450, 600\n",
    "txs, ls, ts = 12, 11, 12\n",
    "\n",
    "\n",
    "chart_neutral = simple_per_bar(\n",
    "    source_10, title=title, X=X, Y=Y, \\\n",
    "    width=w, height=h, emotion=emotion_st, \\\n",
    "    text_size = txs, label_size = ls, title_size=ts)\n",
    "chart_neutral.display(renderer='svg')"
   ]
  },
  {
   "cell_type": "code",
   "execution_count": 62,
   "id": "33ffafc7-79e9-4fe2-8b09-42417634c57c",
   "metadata": {},
   "outputs": [],
   "source": [
    "chart_neutral_str = altair_saver.save(chart_neutral, fmt='svg')\n",
    "image_title.append(\"Images depicting 'neutral'\")\n",
    "svg_str.append(chart_neutral_str)"
   ]
  },
  {
   "cell_type": "markdown",
   "id": "6c859964-9f02-47c1-b752-eb006368b86f",
   "metadata": {},
   "source": [
    "## Most frequently used word for each emotion category (grouping pictures by expected-emotion), by ethnicity group"
   ]
  },
  {
   "cell_type": "code",
   "execution_count": 63,
   "id": "30a4083c-1d88-4e21-a362-7451465de3e6",
   "metadata": {},
   "outputs": [],
   "source": [
    "def simple_per_bar_concat(\n",
    "    df, title='Title', X='percent:Q', Y='emotion:N', \\\n",
    "    width=450, height=250, sort='-x', \\\n",
    "    text_size = 12, label_size = 11, title_size=12, \\\n",
    "    emotion='Some', color1='#0570b0', color2='orange'):\n",
    "    \n",
    "    bars = alt.Chart(df, title=title).mark_bar().encode(\n",
    "        alt.X(X, axis=alt.Axis(format='.0%')),\n",
    "        y=alt.Y(Y, sort=sort), \n",
    "        color=alt.condition(\n",
    "            alt.datum.emotion == emotion,\n",
    "            alt.value(color2),\n",
    "            alt.value(color1)\n",
    "        ))\n",
    "    \n",
    "    text = bars.mark_text(\n",
    "    align='left',\n",
    "    baseline='middle',\n",
    "    dx=3,  # Nudges text to right so it doesn't appear on top of the bar\n",
    "    fontSize=text_size\n",
    "    ).encode(\n",
    "        alt.Text(X, format='.1%')\n",
    "    )\n",
    "    \n",
    "    chart = (bars + text)\n",
    "    \n",
    "    return chart"
   ]
  },
  {
   "cell_type": "code",
   "execution_count": 64,
   "id": "a4bef1e0-1cf5-454b-bcf0-5c7161935b5e",
   "metadata": {},
   "outputs": [],
   "source": [
    "def emotion_df_formated_et(df_emo_answers, emotion_label, ethnicity):\n",
    "    df_emo_cat = df_emo_answers.copy() \n",
    "    df_emo_cat_t = df_emo_cat.T # transpose\n",
    "    df_emo_cat_t['photo_id'] = df_emo_cat_t.index # get index as col\n",
    "    df_emo_cat_t = df_emo_cat_t.reset_index(drop=True) # clean index\n",
    "    df_emo_cat_t_labels = pd.concat([df_emo_cat_t, df_labels], axis=1) # add metadata cols\n",
    "    df_label =  df_emo_cat_t_labels[(df_emo_cat_t_labels['label'] == emotion_label) & (df_emo_cat_t_labels['ethnicity'] == ethnicity)]\n",
    "    return df_label"
   ]
  },
  {
   "cell_type": "code",
   "execution_count": 65,
   "id": "00fb32f1-709a-4b41-83e2-463bcfc936d2",
   "metadata": {},
   "outputs": [],
   "source": [
    "def wrapper_chart_emotion(df_emo_answers, emotion, ethnicity, emotion_st='angri', n_mentions=10):\n",
    "    df = emotion_df_formated_et(df_emo_answers, emotion,  ethnicity) # subset 'anger' rows\n",
    "    df_emotion_ans = df.drop(['photo_id', 'ethnicity', 'sex','age', 'label', 'url', 'photoId'], axis=1)\n",
    "    df_stack_emotion = formating_words(df_emotion_ans) # clean up\n",
    "    df_stack_emotion['emotion_ps_steamed'] = df_stack_emotion['emotion'].apply(lambda x: ps.stem(x)) #steam\n",
    "    df_count = count_freq_labels(df_stack_emotion, X='stacked', col='emotion_ps_steamed') # count label freq\n",
    "    source = df_count[df_count['counts'] >= n_mentions]\n",
    "\n",
    "    chart = simple_per_bar_concat(\n",
    "        source, \\\n",
    "        title=f\"Expected label: {emotion} | Labels with {n_mentions} or more mentions | n= {source['counts'].sum().astype(str)}\", \\\n",
    "        emotion=emotion_st)\n",
    "    return chart"
   ]
  },
  {
   "cell_type": "markdown",
   "id": "caaeb72b-474a-486a-b356-45b1d01f6f12",
   "metadata": {},
   "source": [
    "### Anger"
   ]
  },
  {
   "cell_type": "code",
   "execution_count": 66,
   "id": "1db8bdf5-d01d-4f13-b217-24a87e07b761",
   "metadata": {},
   "outputs": [],
   "source": [
    "chart_anger_bipoc = wrapper_chart_emotion(df_emo_answers, 'anger', 'bipoc', emotion_st='angri', n_mentions=10)\n",
    "chart_anger_white = wrapper_chart_emotion(df_emo_answers, 'anger', 'white', emotion_st='angri', n_mentions=10)"
   ]
  },
  {
   "cell_type": "code",
   "execution_count": 67,
   "id": "b0361e6c-54f6-4a67-b8e6-eeea07ecebcc",
   "metadata": {},
   "outputs": [],
   "source": [
    "chart_anger_layered =  (chart_anger_bipoc | chart_anger_white)"
   ]
  },
  {
   "cell_type": "code",
   "execution_count": 68,
   "id": "856c5cce-c970-4a92-a0ea-9cdb06053789",
   "metadata": {},
   "outputs": [
    {
     "data": {
      "text/html": [
       "\n",
       "<div id=\"altair-viz-8c837bd6be234d25b274ce1d5d61a294\"></div>\n",
       "<script type=\"text/javascript\">\n",
       "  (function(spec, embedOpt){\n",
       "    let outputDiv = document.currentScript.previousElementSibling;\n",
       "    if (outputDiv.id !== \"altair-viz-8c837bd6be234d25b274ce1d5d61a294\") {\n",
       "      outputDiv = document.getElementById(\"altair-viz-8c837bd6be234d25b274ce1d5d61a294\");\n",
       "    }\n",
       "    const paths = {\n",
       "      \"vega\": \"https://cdn.jsdelivr.net/npm//vega@5?noext\",\n",
       "      \"vega-lib\": \"https://cdn.jsdelivr.net/npm//vega-lib?noext\",\n",
       "      \"vega-lite\": \"https://cdn.jsdelivr.net/npm//vega-lite@4.8.1?noext\",\n",
       "      \"vega-embed\": \"https://cdn.jsdelivr.net/npm//vega-embed@6?noext\",\n",
       "    };\n",
       "\n",
       "    function loadScript(lib) {\n",
       "      return new Promise(function(resolve, reject) {\n",
       "        var s = document.createElement('script');\n",
       "        s.src = paths[lib];\n",
       "        s.async = true;\n",
       "        s.onload = () => resolve(paths[lib]);\n",
       "        s.onerror = () => reject(`Error loading script: ${paths[lib]}`);\n",
       "        document.getElementsByTagName(\"head\")[0].appendChild(s);\n",
       "      });\n",
       "    }\n",
       "\n",
       "    function showError(err) {\n",
       "      outputDiv.innerHTML = `<div class=\"error\" style=\"color:red;\">${err}</div>`;\n",
       "      throw err;\n",
       "    }\n",
       "\n",
       "    function displayChart(vegaEmbed) {\n",
       "      vegaEmbed(outputDiv, spec, embedOpt)\n",
       "        .catch(err => showError(`Javascript Error: ${err.message}<br>This usually means there's a typo in your chart specification. See the javascript console for the full traceback.`));\n",
       "    }\n",
       "\n",
       "    if(typeof define === \"function\" && define.amd) {\n",
       "      requirejs.config({paths});\n",
       "      require([\"vega-embed\"], displayChart, err => showError(`Error loading script: ${err.message}`));\n",
       "    } else if (typeof vegaEmbed === \"function\") {\n",
       "      displayChart(vegaEmbed);\n",
       "    } else {\n",
       "      loadScript(\"vega\")\n",
       "        .then(() => loadScript(\"vega-lite\"))\n",
       "        .then(() => loadScript(\"vega-embed\"))\n",
       "        .catch(showError)\n",
       "        .then(() => displayChart(vegaEmbed));\n",
       "    }\n",
       "  })({\"config\": {\"view\": {\"continuousWidth\": 400, \"continuousHeight\": 300}}, \"hconcat\": [{\"layer\": [{\"mark\": \"bar\", \"encoding\": {\"color\": {\"condition\": {\"value\": \"orange\", \"test\": \"(datum.emotion === 'angri')\"}, \"value\": \"#0570b0\"}, \"x\": {\"type\": \"quantitative\", \"axis\": {\"format\": \".0%\"}, \"field\": \"percent\"}, \"y\": {\"type\": \"nominal\", \"field\": \"emotion\", \"sort\": \"-x\"}}, \"title\": \"Expected label: anger | Labels with 10 or more mentions | n= 572\"}, {\"mark\": {\"type\": \"text\", \"align\": \"left\", \"baseline\": \"middle\", \"dx\": 3, \"fontSize\": 12}, \"encoding\": {\"color\": {\"condition\": {\"value\": \"orange\", \"test\": \"(datum.emotion === 'angri')\"}, \"value\": \"#0570b0\"}, \"text\": {\"type\": \"quantitative\", \"field\": \"percent\", \"format\": \".1%\"}, \"x\": {\"type\": \"quantitative\", \"axis\": {\"format\": \".0%\"}, \"field\": \"percent\"}, \"y\": {\"type\": \"nominal\", \"field\": \"emotion\", \"sort\": \"-x\"}}, \"title\": \"Expected label: anger | Labels with 10 or more mentions | n= 572\"}], \"data\": {\"name\": \"data-d6dfc1a6ccd18e1d84d53791c1ec6618\"}}, {\"layer\": [{\"mark\": \"bar\", \"encoding\": {\"color\": {\"condition\": {\"value\": \"orange\", \"test\": \"(datum.emotion === 'angri')\"}, \"value\": \"#0570b0\"}, \"x\": {\"type\": \"quantitative\", \"axis\": {\"format\": \".0%\"}, \"field\": \"percent\"}, \"y\": {\"type\": \"nominal\", \"field\": \"emotion\", \"sort\": \"-x\"}}, \"title\": \"Expected label: anger | Labels with 10 or more mentions | n= 576\"}, {\"mark\": {\"type\": \"text\", \"align\": \"left\", \"baseline\": \"middle\", \"dx\": 3, \"fontSize\": 12}, \"encoding\": {\"color\": {\"condition\": {\"value\": \"orange\", \"test\": \"(datum.emotion === 'angri')\"}, \"value\": \"#0570b0\"}, \"text\": {\"type\": \"quantitative\", \"field\": \"percent\", \"format\": \".1%\"}, \"x\": {\"type\": \"quantitative\", \"axis\": {\"format\": \".0%\"}, \"field\": \"percent\"}, \"y\": {\"type\": \"nominal\", \"field\": \"emotion\", \"sort\": \"-x\"}}, \"title\": \"Expected label: anger | Labels with 10 or more mentions | n= 576\"}], \"data\": {\"name\": \"data-b5c2aa036ffeb847edb7970e344c2d6a\"}}], \"$schema\": \"https://vega.github.io/schema/vega-lite/v4.8.1.json\", \"datasets\": {\"data-d6dfc1a6ccd18e1d84d53791c1ec6618\": [{\"counts\": 204, \"emotion\": \"angri\", \"percent\": 0.2328767123287671}, {\"counts\": 98, \"emotion\": \"mad\", \"percent\": 0.11187214611872145}, {\"counts\": 66, \"emotion\": \"upset\", \"percent\": 0.07534246575342465}, {\"counts\": 40, \"emotion\": \"sad\", \"percent\": 0.045662100456621}, {\"counts\": 35, \"emotion\": \"confus\", \"percent\": 0.03995433789954338}, {\"counts\": 30, \"emotion\": \"seriou\", \"percent\": 0.03424657534246575}, {\"counts\": 26, \"emotion\": \"none\", \"percent\": 0.02968036529680365}, {\"counts\": 22, \"emotion\": \"annoy\", \"percent\": 0.02511415525114155}, {\"counts\": 20, \"emotion\": \"frustrat\", \"percent\": 0.0228310502283105}, {\"counts\": 11, \"emotion\": \"disappoint\", \"percent\": 0.012557077625570776}, {\"counts\": 10, \"emotion\": \"unhappi\", \"percent\": 0.01141552511415525}, {\"counts\": 10, \"emotion\": \"anger\", \"percent\": 0.01141552511415525}], \"data-b5c2aa036ffeb847edb7970e344c2d6a\": [{\"counts\": 204, \"emotion\": \"angri\", \"percent\": 0.22417582417582418}, {\"counts\": 93, \"emotion\": \"mad\", \"percent\": 0.1021978021978022}, {\"counts\": 54, \"emotion\": \"upset\", \"percent\": 0.05934065934065934}, {\"counts\": 37, \"emotion\": \"confus\", \"percent\": 0.04065934065934066}, {\"counts\": 31, \"emotion\": \"seriou\", \"percent\": 0.03406593406593406}, {\"counts\": 25, \"emotion\": \"sad\", \"percent\": 0.027472527472527472}, {\"counts\": 22, \"emotion\": \"frustrat\", \"percent\": 0.024175824175824177}, {\"counts\": 22, \"emotion\": \"silli\", \"percent\": 0.024175824175824177}, {\"counts\": 15, \"emotion\": \"happi\", \"percent\": 0.016483516483516484}, {\"counts\": 14, \"emotion\": \"anger\", \"percent\": 0.015384615384615385}, {\"counts\": 14, \"emotion\": \"none\", \"percent\": 0.015384615384615385}, {\"counts\": 13, \"emotion\": \"annoy\", \"percent\": 0.014285714285714285}, {\"counts\": 12, \"emotion\": \"goofi\", \"percent\": 0.013186813186813187}, {\"counts\": 10, \"emotion\": \"disappoint\", \"percent\": 0.01098901098901099}, {\"counts\": 10, \"emotion\": \"disgust\", \"percent\": 0.01098901098901099}]}}, {\"renderer\": \"svg\", \"mode\": \"vega-lite\"});\n",
       "</script>"
      ],
      "text/plain": [
       "alt.HConcatChart(...)"
      ]
     },
     "metadata": {},
     "output_type": "display_data"
    }
   ],
   "source": [
    "chart_anger_layered.display(renderer='svg')"
   ]
  },
  {
   "cell_type": "code",
   "execution_count": 69,
   "id": "197c4a49-de5b-484d-9b61-a6ff24f91e9a",
   "metadata": {},
   "outputs": [],
   "source": [
    "chart_anger_layered_str = altair_saver.save(chart_anger_layered, fmt='svg')\n",
    "image_title.append(\"'anger' by ethnicity\")\n",
    "svg_str.append(chart_anger_layered_str)"
   ]
  },
  {
   "cell_type": "markdown",
   "id": "7fd9c35a-e602-4840-b70f-94d300aeab77",
   "metadata": {},
   "source": [
    "### Disgust"
   ]
  },
  {
   "cell_type": "code",
   "execution_count": 70,
   "id": "9cd126b5-3460-499c-a179-d6da39aeb29c",
   "metadata": {},
   "outputs": [],
   "source": [
    "chart_disgust_bipoc = wrapper_chart_emotion(df_emo_answers, 'disgust', 'bipoc', emotion_st='disgust', n_mentions=10)\n",
    "chart_disgust_white = wrapper_chart_emotion(df_emo_answers, 'disgust', 'white', emotion_st='disgust', n_mentions=10)"
   ]
  },
  {
   "cell_type": "code",
   "execution_count": 71,
   "id": "8828bf4d-a91c-4ba7-99a6-012287754ee5",
   "metadata": {},
   "outputs": [
    {
     "data": {
      "text/html": [
       "\n",
       "<div id=\"altair-viz-78ef93d83e4a45a885c9d5171f553fa4\"></div>\n",
       "<script type=\"text/javascript\">\n",
       "  (function(spec, embedOpt){\n",
       "    let outputDiv = document.currentScript.previousElementSibling;\n",
       "    if (outputDiv.id !== \"altair-viz-78ef93d83e4a45a885c9d5171f553fa4\") {\n",
       "      outputDiv = document.getElementById(\"altair-viz-78ef93d83e4a45a885c9d5171f553fa4\");\n",
       "    }\n",
       "    const paths = {\n",
       "      \"vega\": \"https://cdn.jsdelivr.net/npm//vega@5?noext\",\n",
       "      \"vega-lib\": \"https://cdn.jsdelivr.net/npm//vega-lib?noext\",\n",
       "      \"vega-lite\": \"https://cdn.jsdelivr.net/npm//vega-lite@4.8.1?noext\",\n",
       "      \"vega-embed\": \"https://cdn.jsdelivr.net/npm//vega-embed@6?noext\",\n",
       "    };\n",
       "\n",
       "    function loadScript(lib) {\n",
       "      return new Promise(function(resolve, reject) {\n",
       "        var s = document.createElement('script');\n",
       "        s.src = paths[lib];\n",
       "        s.async = true;\n",
       "        s.onload = () => resolve(paths[lib]);\n",
       "        s.onerror = () => reject(`Error loading script: ${paths[lib]}`);\n",
       "        document.getElementsByTagName(\"head\")[0].appendChild(s);\n",
       "      });\n",
       "    }\n",
       "\n",
       "    function showError(err) {\n",
       "      outputDiv.innerHTML = `<div class=\"error\" style=\"color:red;\">${err}</div>`;\n",
       "      throw err;\n",
       "    }\n",
       "\n",
       "    function displayChart(vegaEmbed) {\n",
       "      vegaEmbed(outputDiv, spec, embedOpt)\n",
       "        .catch(err => showError(`Javascript Error: ${err.message}<br>This usually means there's a typo in your chart specification. See the javascript console for the full traceback.`));\n",
       "    }\n",
       "\n",
       "    if(typeof define === \"function\" && define.amd) {\n",
       "      requirejs.config({paths});\n",
       "      require([\"vega-embed\"], displayChart, err => showError(`Error loading script: ${err.message}`));\n",
       "    } else if (typeof vegaEmbed === \"function\") {\n",
       "      displayChart(vegaEmbed);\n",
       "    } else {\n",
       "      loadScript(\"vega\")\n",
       "        .then(() => loadScript(\"vega-lite\"))\n",
       "        .then(() => loadScript(\"vega-embed\"))\n",
       "        .catch(showError)\n",
       "        .then(() => displayChart(vegaEmbed));\n",
       "    }\n",
       "  })({\"config\": {\"view\": {\"continuousWidth\": 400, \"continuousHeight\": 300}}, \"hconcat\": [{\"layer\": [{\"mark\": \"bar\", \"encoding\": {\"color\": {\"condition\": {\"value\": \"orange\", \"test\": \"(datum.emotion === 'disgust')\"}, \"value\": \"#0570b0\"}, \"x\": {\"type\": \"quantitative\", \"axis\": {\"format\": \".0%\"}, \"field\": \"percent\"}, \"y\": {\"type\": \"nominal\", \"field\": \"emotion\", \"sort\": \"-x\"}}, \"title\": \"Expected label: disgust | Labels with 10 or more mentions | n= 546\"}, {\"mark\": {\"type\": \"text\", \"align\": \"left\", \"baseline\": \"middle\", \"dx\": 3, \"fontSize\": 12}, \"encoding\": {\"color\": {\"condition\": {\"value\": \"orange\", \"test\": \"(datum.emotion === 'disgust')\"}, \"value\": \"#0570b0\"}, \"text\": {\"type\": \"quantitative\", \"field\": \"percent\", \"format\": \".1%\"}, \"x\": {\"type\": \"quantitative\", \"axis\": {\"format\": \".0%\"}, \"field\": \"percent\"}, \"y\": {\"type\": \"nominal\", \"field\": \"emotion\", \"sort\": \"-x\"}}, \"title\": \"Expected label: disgust | Labels with 10 or more mentions | n= 546\"}], \"data\": {\"name\": \"data-a04b923c97689ca762fb45993129cee3\"}}, {\"layer\": [{\"mark\": \"bar\", \"encoding\": {\"color\": {\"condition\": {\"value\": \"orange\", \"test\": \"(datum.emotion === 'disgust')\"}, \"value\": \"#0570b0\"}, \"x\": {\"type\": \"quantitative\", \"axis\": {\"format\": \".0%\"}, \"field\": \"percent\"}, \"y\": {\"type\": \"nominal\", \"field\": \"emotion\", \"sort\": \"-x\"}}, \"title\": \"Expected label: disgust | Labels with 10 or more mentions | n= 631\"}, {\"mark\": {\"type\": \"text\", \"align\": \"left\", \"baseline\": \"middle\", \"dx\": 3, \"fontSize\": 12}, \"encoding\": {\"color\": {\"condition\": {\"value\": \"orange\", \"test\": \"(datum.emotion === 'disgust')\"}, \"value\": \"#0570b0\"}, \"text\": {\"type\": \"quantitative\", \"field\": \"percent\", \"format\": \".1%\"}, \"x\": {\"type\": \"quantitative\", \"axis\": {\"format\": \".0%\"}, \"field\": \"percent\"}, \"y\": {\"type\": \"nominal\", \"field\": \"emotion\", \"sort\": \"-x\"}}, \"title\": \"Expected label: disgust | Labels with 10 or more mentions | n= 631\"}], \"data\": {\"name\": \"data-4c3d4d3819a88e1ff3bf7d9a1617f6e1\"}}], \"$schema\": \"https://vega.github.io/schema/vega-lite/v4.8.1.json\", \"datasets\": {\"data-a04b923c97689ca762fb45993129cee3\": [{\"counts\": 119, \"emotion\": \"disgust\", \"percent\": 0.13693901035673187}, {\"counts\": 110, \"emotion\": \"confus\", \"percent\": 0.12658227848101267}, {\"counts\": 81, \"emotion\": \"angri\", \"percent\": 0.09321058688147296}, {\"counts\": 60, \"emotion\": \"mad\", \"percent\": 0.06904487917146145}, {\"counts\": 36, \"emotion\": \"upset\", \"percent\": 0.04142692750287687}, {\"counts\": 29, \"emotion\": \"annoy\", \"percent\": 0.0333716915995397}, {\"counts\": 23, \"emotion\": \"shock\", \"percent\": 0.026467203682393557}, {\"counts\": 23, \"emotion\": \"happi\", \"percent\": 0.026467203682393557}, {\"counts\": 19, \"emotion\": \"surpris\", \"percent\": 0.02186421173762946}, {\"counts\": 18, \"emotion\": \"none\", \"percent\": 0.020713463751438434}, {\"counts\": 16, \"emotion\": \"silli\", \"percent\": 0.018411967779056387}, {\"counts\": 12, \"emotion\": \"sad\", \"percent\": 0.01380897583429229}], \"data-4c3d4d3819a88e1ff3bf7d9a1617f6e1\": [{\"counts\": 167, \"emotion\": \"disgust\", \"percent\": 0.18680089485458612}, {\"counts\": 53, \"emotion\": \"silli\", \"percent\": 0.0592841163310962}, {\"counts\": 43, \"emotion\": \"confus\", \"percent\": 0.04809843400447427}, {\"counts\": 36, \"emotion\": \"angri\", \"percent\": 0.040268456375838924}, {\"counts\": 31, \"emotion\": \"happi\", \"percent\": 0.03467561521252797}, {\"counts\": 30, \"emotion\": \"mad\", \"percent\": 0.03355704697986577}, {\"counts\": 30, \"emotion\": \"upset\", \"percent\": 0.03355704697986577}, {\"counts\": 26, \"emotion\": \"sad\", \"percent\": 0.029082774049217}, {\"counts\": 24, \"emotion\": \"goofi\", \"percent\": 0.026845637583892617}, {\"counts\": 22, \"emotion\": \"annoy\", \"percent\": 0.024608501118568233}, {\"counts\": 21, \"emotion\": \"shock\", \"percent\": 0.02348993288590604}, {\"counts\": 20, \"emotion\": \"scare\", \"percent\": 0.02237136465324385}, {\"counts\": 19, \"emotion\": \"funni\", \"percent\": 0.021252796420581657}, {\"counts\": 16, \"emotion\": \"none\", \"percent\": 0.017897091722595078}, {\"counts\": 13, \"emotion\": \"unhappi\", \"percent\": 0.0145413870246085}, {\"counts\": 13, \"emotion\": \"gross\", \"percent\": 0.0145413870246085}, {\"counts\": 12, \"emotion\": \"sour\", \"percent\": 0.013422818791946308}, {\"counts\": 12, \"emotion\": \"cute\", \"percent\": 0.013422818791946308}, {\"counts\": 12, \"emotion\": \"surpris\", \"percent\": 0.013422818791946308}, {\"counts\": 11, \"emotion\": \"weird\", \"percent\": 0.012304250559284116}, {\"counts\": 10, \"emotion\": \"play\", \"percent\": 0.011185682326621925}, {\"counts\": 10, \"emotion\": \"unpleas\", \"percent\": 0.011185682326621925}]}}, {\"renderer\": \"svg\", \"mode\": \"vega-lite\"});\n",
       "</script>"
      ],
      "text/plain": [
       "alt.HConcatChart(...)"
      ]
     },
     "metadata": {},
     "output_type": "display_data"
    }
   ],
   "source": [
    "chart_disgust_layered =  (chart_disgust_bipoc | chart_disgust_white)\n",
    "chart_disgust_layered.display(renderer='svg')"
   ]
  },
  {
   "cell_type": "code",
   "execution_count": 72,
   "id": "31f8789d-70fe-41ca-b6ed-abc842884fab",
   "metadata": {},
   "outputs": [],
   "source": [
    "chart_disgust_layered_str = altair_saver.save(chart_disgust_layered, fmt='svg')\n",
    "image_title.append(\"'disgust' by ethnicity\")\n",
    "svg_str.append(chart_disgust_layered_str)"
   ]
  },
  {
   "cell_type": "markdown",
   "id": "ebcaba8d-d035-470e-b05f-dbbcbf4abb34",
   "metadata": {},
   "source": [
    "### Fear"
   ]
  },
  {
   "cell_type": "code",
   "execution_count": 73,
   "id": "ef03c51e-064e-4cef-b2a6-f6f41b6bbeb3",
   "metadata": {},
   "outputs": [],
   "source": [
    "chart_fear_bipoc = wrapper_chart_emotion(df_emo_answers, 'fear', 'bipoc', emotion_st='fear', n_mentions=10)\n",
    "chart_fear_white = wrapper_chart_emotion(df_emo_answers, 'fear', 'white', emotion_st='fear', n_mentions=10)"
   ]
  },
  {
   "cell_type": "code",
   "execution_count": 74,
   "id": "ee89ddf2-176c-4b02-837d-4bc1bc904a19",
   "metadata": {},
   "outputs": [
    {
     "data": {
      "text/html": [
       "\n",
       "<div id=\"altair-viz-044f542c0a2a4bdbad687ad555be2ffa\"></div>\n",
       "<script type=\"text/javascript\">\n",
       "  (function(spec, embedOpt){\n",
       "    let outputDiv = document.currentScript.previousElementSibling;\n",
       "    if (outputDiv.id !== \"altair-viz-044f542c0a2a4bdbad687ad555be2ffa\") {\n",
       "      outputDiv = document.getElementById(\"altair-viz-044f542c0a2a4bdbad687ad555be2ffa\");\n",
       "    }\n",
       "    const paths = {\n",
       "      \"vega\": \"https://cdn.jsdelivr.net/npm//vega@5?noext\",\n",
       "      \"vega-lib\": \"https://cdn.jsdelivr.net/npm//vega-lib?noext\",\n",
       "      \"vega-lite\": \"https://cdn.jsdelivr.net/npm//vega-lite@4.8.1?noext\",\n",
       "      \"vega-embed\": \"https://cdn.jsdelivr.net/npm//vega-embed@6?noext\",\n",
       "    };\n",
       "\n",
       "    function loadScript(lib) {\n",
       "      return new Promise(function(resolve, reject) {\n",
       "        var s = document.createElement('script');\n",
       "        s.src = paths[lib];\n",
       "        s.async = true;\n",
       "        s.onload = () => resolve(paths[lib]);\n",
       "        s.onerror = () => reject(`Error loading script: ${paths[lib]}`);\n",
       "        document.getElementsByTagName(\"head\")[0].appendChild(s);\n",
       "      });\n",
       "    }\n",
       "\n",
       "    function showError(err) {\n",
       "      outputDiv.innerHTML = `<div class=\"error\" style=\"color:red;\">${err}</div>`;\n",
       "      throw err;\n",
       "    }\n",
       "\n",
       "    function displayChart(vegaEmbed) {\n",
       "      vegaEmbed(outputDiv, spec, embedOpt)\n",
       "        .catch(err => showError(`Javascript Error: ${err.message}<br>This usually means there's a typo in your chart specification. See the javascript console for the full traceback.`));\n",
       "    }\n",
       "\n",
       "    if(typeof define === \"function\" && define.amd) {\n",
       "      requirejs.config({paths});\n",
       "      require([\"vega-embed\"], displayChart, err => showError(`Error loading script: ${err.message}`));\n",
       "    } else if (typeof vegaEmbed === \"function\") {\n",
       "      displayChart(vegaEmbed);\n",
       "    } else {\n",
       "      loadScript(\"vega\")\n",
       "        .then(() => loadScript(\"vega-lite\"))\n",
       "        .then(() => loadScript(\"vega-embed\"))\n",
       "        .catch(showError)\n",
       "        .then(() => displayChart(vegaEmbed));\n",
       "    }\n",
       "  })({\"config\": {\"view\": {\"continuousWidth\": 400, \"continuousHeight\": 300}}, \"hconcat\": [{\"layer\": [{\"mark\": \"bar\", \"encoding\": {\"color\": {\"condition\": {\"value\": \"orange\", \"test\": \"(datum.emotion === 'fear')\"}, \"value\": \"#0570b0\"}, \"x\": {\"type\": \"quantitative\", \"axis\": {\"format\": \".0%\"}, \"field\": \"percent\"}, \"y\": {\"type\": \"nominal\", \"field\": \"emotion\", \"sort\": \"-x\"}}, \"title\": \"Expected label: fear | Labels with 10 or more mentions | n= 673\"}, {\"mark\": {\"type\": \"text\", \"align\": \"left\", \"baseline\": \"middle\", \"dx\": 3, \"fontSize\": 12}, \"encoding\": {\"color\": {\"condition\": {\"value\": \"orange\", \"test\": \"(datum.emotion === 'fear')\"}, \"value\": \"#0570b0\"}, \"text\": {\"type\": \"quantitative\", \"field\": \"percent\", \"format\": \".1%\"}, \"x\": {\"type\": \"quantitative\", \"axis\": {\"format\": \".0%\"}, \"field\": \"percent\"}, \"y\": {\"type\": \"nominal\", \"field\": \"emotion\", \"sort\": \"-x\"}}, \"title\": \"Expected label: fear | Labels with 10 or more mentions | n= 673\"}], \"data\": {\"name\": \"data-f251f9218e6718966fb7d9e837d58361\"}}, {\"layer\": [{\"mark\": \"bar\", \"encoding\": {\"color\": {\"condition\": {\"value\": \"orange\", \"test\": \"(datum.emotion === 'fear')\"}, \"value\": \"#0570b0\"}, \"x\": {\"type\": \"quantitative\", \"axis\": {\"format\": \".0%\"}, \"field\": \"percent\"}, \"y\": {\"type\": \"nominal\", \"field\": \"emotion\", \"sort\": \"-x\"}}, \"title\": \"Expected label: fear | Labels with 10 or more mentions | n= 652\"}, {\"mark\": {\"type\": \"text\", \"align\": \"left\", \"baseline\": \"middle\", \"dx\": 3, \"fontSize\": 12}, \"encoding\": {\"color\": {\"condition\": {\"value\": \"orange\", \"test\": \"(datum.emotion === 'fear')\"}, \"value\": \"#0570b0\"}, \"text\": {\"type\": \"quantitative\", \"field\": \"percent\", \"format\": \".1%\"}, \"x\": {\"type\": \"quantitative\", \"axis\": {\"format\": \".0%\"}, \"field\": \"percent\"}, \"y\": {\"type\": \"nominal\", \"field\": \"emotion\", \"sort\": \"-x\"}}, \"title\": \"Expected label: fear | Labels with 10 or more mentions | n= 652\"}], \"data\": {\"name\": \"data-8930cfb34fafc22d91d391ea68df815b\"}}], \"$schema\": \"https://vega.github.io/schema/vega-lite/v4.8.1.json\", \"datasets\": {\"data-f251f9218e6718966fb7d9e837d58361\": [{\"counts\": 109, \"emotion\": \"scare\", \"percent\": 0.11608093716719915}, {\"counts\": 101, \"emotion\": \"sad\", \"percent\": 0.10756123535676251}, {\"counts\": 101, \"emotion\": \"shock\", \"percent\": 0.10756123535676251}, {\"counts\": 64, \"emotion\": \"confus\", \"percent\": 0.06815761448349308}, {\"counts\": 58, \"emotion\": \"surpris\", \"percent\": 0.0617678381256656}, {\"counts\": 48, \"emotion\": \"disgust\", \"percent\": 0.051118210862619806}, {\"counts\": 39, \"emotion\": \"upset\", \"percent\": 0.04153354632587859}, {\"counts\": 29, \"emotion\": \"worri\", \"percent\": 0.0308839190628328}, {\"counts\": 19, \"emotion\": \"excit\", \"percent\": 0.02023429179978701}, {\"counts\": 18, \"emotion\": \"supris\", \"percent\": 0.019169329073482427}, {\"counts\": 15, \"emotion\": \"happi\", \"percent\": 0.01597444089456869}, {\"counts\": 15, \"emotion\": \"angri\", \"percent\": 0.01597444089456869}, {\"counts\": 13, \"emotion\": \"none\", \"percent\": 0.013844515441959531}, {\"counts\": 13, \"emotion\": \"cri\", \"percent\": 0.013844515441959531}, {\"counts\": 11, \"emotion\": \"fear\", \"percent\": 0.011714589989350373}, {\"counts\": 10, \"emotion\": \"concern\", \"percent\": 0.010649627263045794}, {\"counts\": 10, \"emotion\": \"mad\", \"percent\": 0.010649627263045794}], \"data-8930cfb34fafc22d91d391ea68df815b\": [{\"counts\": 126, \"emotion\": \"shock\", \"percent\": 0.13504823151125403}, {\"counts\": 98, \"emotion\": \"surpris\", \"percent\": 0.10503751339764202}, {\"counts\": 93, \"emotion\": \"scare\", \"percent\": 0.09967845659163987}, {\"counts\": 59, \"emotion\": \"sad\", \"percent\": 0.0632368703108253}, {\"counts\": 39, \"emotion\": \"happi\", \"percent\": 0.04180064308681672}, {\"counts\": 37, \"emotion\": \"confus\", \"percent\": 0.03965702036441586}, {\"counts\": 35, \"emotion\": \"excit\", \"percent\": 0.03751339764201501}, {\"counts\": 30, \"emotion\": \"upset\", \"percent\": 0.03215434083601286}, {\"counts\": 25, \"emotion\": \"silli\", \"percent\": 0.02679528403001072}, {\"counts\": 22, \"emotion\": \"worri\", \"percent\": 0.023579849946409433}, {\"counts\": 19, \"emotion\": \"none\", \"percent\": 0.020364415862808145}, {\"counts\": 19, \"emotion\": \"supris\", \"percent\": 0.020364415862808145}, {\"counts\": 14, \"emotion\": \"goofi\", \"percent\": 0.015005359056806002}, {\"counts\": 13, \"emotion\": \"disgust\", \"percent\": 0.013933547695605574}, {\"counts\": 12, \"emotion\": \"funni\", \"percent\": 0.012861736334405145}, {\"counts\": 11, \"emotion\": \"angri\", \"percent\": 0.011789924973204717}]}}, {\"renderer\": \"svg\", \"mode\": \"vega-lite\"});\n",
       "</script>"
      ],
      "text/plain": [
       "alt.HConcatChart(...)"
      ]
     },
     "metadata": {},
     "output_type": "display_data"
    }
   ],
   "source": [
    "chart_fear_layered =  (chart_fear_bipoc | chart_fear_white)\n",
    "chart_fear_layered.display(renderer='svg')"
   ]
  },
  {
   "cell_type": "code",
   "execution_count": 75,
   "id": "31d55aad-114b-4aa8-98ae-c4786ac9c248",
   "metadata": {},
   "outputs": [],
   "source": [
    "chart_fear_layered_str = altair_saver.save(chart_fear_layered, fmt='svg')\n",
    "image_title.append(\"'fear' by ethnicity\")\n",
    "svg_str.append(chart_fear_layered_str)"
   ]
  },
  {
   "cell_type": "markdown",
   "id": "977cf63b-569c-4617-97d7-ebc19e56f620",
   "metadata": {},
   "source": [
    "### Surprise"
   ]
  },
  {
   "cell_type": "code",
   "execution_count": 76,
   "id": "eabe78e8-cd99-4f97-ab73-dc5d368ae7bd",
   "metadata": {},
   "outputs": [],
   "source": [
    "chart_surprise_bipoc= wrapper_chart_emotion(df_emo_answers, 'surprise', 'bipoc', emotion_st='surpris', n_mentions=10)\n",
    "chart_surprise_white = wrapper_chart_emotion(df_emo_answers, 'surprise', 'white', emotion_st='surpris', n_mentions=10)"
   ]
  },
  {
   "cell_type": "code",
   "execution_count": 77,
   "id": "dce6c56c-c2e7-496e-9b45-0cc053cd360d",
   "metadata": {},
   "outputs": [
    {
     "data": {
      "text/html": [
       "\n",
       "<div id=\"altair-viz-240f84383fb44ff5bb8b4b02839d62a1\"></div>\n",
       "<script type=\"text/javascript\">\n",
       "  (function(spec, embedOpt){\n",
       "    let outputDiv = document.currentScript.previousElementSibling;\n",
       "    if (outputDiv.id !== \"altair-viz-240f84383fb44ff5bb8b4b02839d62a1\") {\n",
       "      outputDiv = document.getElementById(\"altair-viz-240f84383fb44ff5bb8b4b02839d62a1\");\n",
       "    }\n",
       "    const paths = {\n",
       "      \"vega\": \"https://cdn.jsdelivr.net/npm//vega@5?noext\",\n",
       "      \"vega-lib\": \"https://cdn.jsdelivr.net/npm//vega-lib?noext\",\n",
       "      \"vega-lite\": \"https://cdn.jsdelivr.net/npm//vega-lite@4.8.1?noext\",\n",
       "      \"vega-embed\": \"https://cdn.jsdelivr.net/npm//vega-embed@6?noext\",\n",
       "    };\n",
       "\n",
       "    function loadScript(lib) {\n",
       "      return new Promise(function(resolve, reject) {\n",
       "        var s = document.createElement('script');\n",
       "        s.src = paths[lib];\n",
       "        s.async = true;\n",
       "        s.onload = () => resolve(paths[lib]);\n",
       "        s.onerror = () => reject(`Error loading script: ${paths[lib]}`);\n",
       "        document.getElementsByTagName(\"head\")[0].appendChild(s);\n",
       "      });\n",
       "    }\n",
       "\n",
       "    function showError(err) {\n",
       "      outputDiv.innerHTML = `<div class=\"error\" style=\"color:red;\">${err}</div>`;\n",
       "      throw err;\n",
       "    }\n",
       "\n",
       "    function displayChart(vegaEmbed) {\n",
       "      vegaEmbed(outputDiv, spec, embedOpt)\n",
       "        .catch(err => showError(`Javascript Error: ${err.message}<br>This usually means there's a typo in your chart specification. See the javascript console for the full traceback.`));\n",
       "    }\n",
       "\n",
       "    if(typeof define === \"function\" && define.amd) {\n",
       "      requirejs.config({paths});\n",
       "      require([\"vega-embed\"], displayChart, err => showError(`Error loading script: ${err.message}`));\n",
       "    } else if (typeof vegaEmbed === \"function\") {\n",
       "      displayChart(vegaEmbed);\n",
       "    } else {\n",
       "      loadScript(\"vega\")\n",
       "        .then(() => loadScript(\"vega-lite\"))\n",
       "        .then(() => loadScript(\"vega-embed\"))\n",
       "        .catch(showError)\n",
       "        .then(() => displayChart(vegaEmbed));\n",
       "    }\n",
       "  })({\"config\": {\"view\": {\"continuousWidth\": 400, \"continuousHeight\": 300}}, \"hconcat\": [{\"layer\": [{\"mark\": \"bar\", \"encoding\": {\"color\": {\"condition\": {\"value\": \"orange\", \"test\": \"(datum.emotion === 'surpris')\"}, \"value\": \"#0570b0\"}, \"x\": {\"type\": \"quantitative\", \"axis\": {\"format\": \".0%\"}, \"field\": \"percent\"}, \"y\": {\"type\": \"nominal\", \"field\": \"emotion\", \"sort\": \"-x\"}}, \"title\": \"Expected label: surprise | Labels with 10 or more mentions | n= 619\"}, {\"mark\": {\"type\": \"text\", \"align\": \"left\", \"baseline\": \"middle\", \"dx\": 3, \"fontSize\": 12}, \"encoding\": {\"color\": {\"condition\": {\"value\": \"orange\", \"test\": \"(datum.emotion === 'surpris')\"}, \"value\": \"#0570b0\"}, \"text\": {\"type\": \"quantitative\", \"field\": \"percent\", \"format\": \".1%\"}, \"x\": {\"type\": \"quantitative\", \"axis\": {\"format\": \".0%\"}, \"field\": \"percent\"}, \"y\": {\"type\": \"nominal\", \"field\": \"emotion\", \"sort\": \"-x\"}}, \"title\": \"Expected label: surprise | Labels with 10 or more mentions | n= 619\"}], \"data\": {\"name\": \"data-a636b1b9558005d7bde9f34eb102c0c7\"}}, {\"layer\": [{\"mark\": \"bar\", \"encoding\": {\"color\": {\"condition\": {\"value\": \"orange\", \"test\": \"(datum.emotion === 'surpris')\"}, \"value\": \"#0570b0\"}, \"x\": {\"type\": \"quantitative\", \"axis\": {\"format\": \".0%\"}, \"field\": \"percent\"}, \"y\": {\"type\": \"nominal\", \"field\": \"emotion\", \"sort\": \"-x\"}}, \"title\": \"Expected label: surprise | Labels with 10 or more mentions | n= 589\"}, {\"mark\": {\"type\": \"text\", \"align\": \"left\", \"baseline\": \"middle\", \"dx\": 3, \"fontSize\": 12}, \"encoding\": {\"color\": {\"condition\": {\"value\": \"orange\", \"test\": \"(datum.emotion === 'surpris')\"}, \"value\": \"#0570b0\"}, \"text\": {\"type\": \"quantitative\", \"field\": \"percent\", \"format\": \".1%\"}, \"x\": {\"type\": \"quantitative\", \"axis\": {\"format\": \".0%\"}, \"field\": \"percent\"}, \"y\": {\"type\": \"nominal\", \"field\": \"emotion\", \"sort\": \"-x\"}}, \"title\": \"Expected label: surprise | Labels with 10 or more mentions | n= 589\"}], \"data\": {\"name\": \"data-53cac704d1b35fa29de4b36f36124586\"}}], \"$schema\": \"https://vega.github.io/schema/vega-lite/v4.8.1.json\", \"datasets\": {\"data-a636b1b9558005d7bde9f34eb102c0c7\": [{\"counts\": 136, \"emotion\": \"happi\", \"percent\": 0.14928649835345773}, {\"counts\": 124, \"emotion\": \"surpris\", \"percent\": 0.13611416026344675}, {\"counts\": 107, \"emotion\": \"shock\", \"percent\": 0.11745334796926454}, {\"counts\": 61, \"emotion\": \"confus\", \"percent\": 0.06695938529088913}, {\"counts\": 47, \"emotion\": \"excit\", \"percent\": 0.05159165751920966}, {\"counts\": 33, \"emotion\": \"scare\", \"percent\": 0.036223929747530186}, {\"counts\": 24, \"emotion\": \"supris\", \"percent\": 0.026344676180021953}, {\"counts\": 22, \"emotion\": \"silli\", \"percent\": 0.024149286498353458}, {\"counts\": 15, \"emotion\": \"goofi\", \"percent\": 0.01646542261251372}, {\"counts\": 15, \"emotion\": \"none\", \"percent\": 0.01646542261251372}, {\"counts\": 13, \"emotion\": \"funni\", \"percent\": 0.014270032930845226}, {\"counts\": 12, \"emotion\": \"worri\", \"percent\": 0.013172338090010977}, {\"counts\": 10, \"emotion\": \"interest\", \"percent\": 0.010976948408342482}], \"data-53cac704d1b35fa29de4b36f36124586\": [{\"counts\": 149, \"emotion\": \"surpris\", \"percent\": 0.1628415300546448}, {\"counts\": 147, \"emotion\": \"shock\", \"percent\": 0.16065573770491803}, {\"counts\": 62, \"emotion\": \"happi\", \"percent\": 0.06775956284153005}, {\"counts\": 46, \"emotion\": \"excit\", \"percent\": 0.05027322404371585}, {\"counts\": 38, \"emotion\": \"confus\", \"percent\": 0.041530054644808745}, {\"counts\": 28, \"emotion\": \"scare\", \"percent\": 0.030601092896174863}, {\"counts\": 27, \"emotion\": \"supris\", \"percent\": 0.029508196721311476}, {\"counts\": 20, \"emotion\": \"silli\", \"percent\": 0.02185792349726776}, {\"counts\": 15, \"emotion\": \"none\", \"percent\": 0.01639344262295082}, {\"counts\": 12, \"emotion\": \"goofi\", \"percent\": 0.013114754098360656}, {\"counts\": 12, \"emotion\": \"intrigu\", \"percent\": 0.013114754098360656}, {\"counts\": 11, \"emotion\": \"funni\", \"percent\": 0.012021857923497269}, {\"counts\": 11, \"emotion\": \"interest\", \"percent\": 0.012021857923497269}, {\"counts\": 11, \"emotion\": \"curiou\", \"percent\": 0.012021857923497269}]}}, {\"renderer\": \"svg\", \"mode\": \"vega-lite\"});\n",
       "</script>"
      ],
      "text/plain": [
       "alt.HConcatChart(...)"
      ]
     },
     "metadata": {},
     "output_type": "display_data"
    }
   ],
   "source": [
    "chart_surprise_layered =  (chart_surprise_bipoc | chart_surprise_white)\n",
    "chart_surprise_layered.display(renderer='svg')"
   ]
  },
  {
   "cell_type": "code",
   "execution_count": 78,
   "id": "7edd15b5-f8f2-4919-bcf7-c0f76daa46b9",
   "metadata": {},
   "outputs": [],
   "source": [
    "chart_surprise_layered_str = altair_saver.save(chart_surprise_layered, fmt='svg')\n",
    "image_title.append(\"'surprise' by ethnicity\")\n",
    "svg_str.append(chart_surprise_layered_str)"
   ]
  },
  {
   "cell_type": "markdown",
   "id": "b28b1abd-8ef0-44a8-9980-66b6acaee068",
   "metadata": {},
   "source": [
    "### Happiness"
   ]
  },
  {
   "cell_type": "code",
   "execution_count": 79,
   "id": "3d33aac8-eda3-487a-a2f2-c4c6ca8146c6",
   "metadata": {},
   "outputs": [],
   "source": [
    "chart_happiness_bipoc = wrapper_chart_emotion(df_emo_answers, 'happiness', 'bipoc', emotion_st='happi', n_mentions=10)\n",
    "chart_happiness_white = wrapper_chart_emotion(df_emo_answers, 'happiness', 'white', emotion_st='happi', n_mentions=10)"
   ]
  },
  {
   "cell_type": "code",
   "execution_count": 80,
   "id": "0ac906cb-888d-431b-a5f3-1b092f9b272e",
   "metadata": {},
   "outputs": [
    {
     "data": {
      "text/html": [
       "\n",
       "<div id=\"altair-viz-11dfd72450634e0da5fc0115b0ee07bd\"></div>\n",
       "<script type=\"text/javascript\">\n",
       "  (function(spec, embedOpt){\n",
       "    let outputDiv = document.currentScript.previousElementSibling;\n",
       "    if (outputDiv.id !== \"altair-viz-11dfd72450634e0da5fc0115b0ee07bd\") {\n",
       "      outputDiv = document.getElementById(\"altair-viz-11dfd72450634e0da5fc0115b0ee07bd\");\n",
       "    }\n",
       "    const paths = {\n",
       "      \"vega\": \"https://cdn.jsdelivr.net/npm//vega@5?noext\",\n",
       "      \"vega-lib\": \"https://cdn.jsdelivr.net/npm//vega-lib?noext\",\n",
       "      \"vega-lite\": \"https://cdn.jsdelivr.net/npm//vega-lite@4.8.1?noext\",\n",
       "      \"vega-embed\": \"https://cdn.jsdelivr.net/npm//vega-embed@6?noext\",\n",
       "    };\n",
       "\n",
       "    function loadScript(lib) {\n",
       "      return new Promise(function(resolve, reject) {\n",
       "        var s = document.createElement('script');\n",
       "        s.src = paths[lib];\n",
       "        s.async = true;\n",
       "        s.onload = () => resolve(paths[lib]);\n",
       "        s.onerror = () => reject(`Error loading script: ${paths[lib]}`);\n",
       "        document.getElementsByTagName(\"head\")[0].appendChild(s);\n",
       "      });\n",
       "    }\n",
       "\n",
       "    function showError(err) {\n",
       "      outputDiv.innerHTML = `<div class=\"error\" style=\"color:red;\">${err}</div>`;\n",
       "      throw err;\n",
       "    }\n",
       "\n",
       "    function displayChart(vegaEmbed) {\n",
       "      vegaEmbed(outputDiv, spec, embedOpt)\n",
       "        .catch(err => showError(`Javascript Error: ${err.message}<br>This usually means there's a typo in your chart specification. See the javascript console for the full traceback.`));\n",
       "    }\n",
       "\n",
       "    if(typeof define === \"function\" && define.amd) {\n",
       "      requirejs.config({paths});\n",
       "      require([\"vega-embed\"], displayChart, err => showError(`Error loading script: ${err.message}`));\n",
       "    } else if (typeof vegaEmbed === \"function\") {\n",
       "      displayChart(vegaEmbed);\n",
       "    } else {\n",
       "      loadScript(\"vega\")\n",
       "        .then(() => loadScript(\"vega-lite\"))\n",
       "        .then(() => loadScript(\"vega-embed\"))\n",
       "        .catch(showError)\n",
       "        .then(() => displayChart(vegaEmbed));\n",
       "    }\n",
       "  })({\"config\": {\"view\": {\"continuousWidth\": 400, \"continuousHeight\": 300}}, \"hconcat\": [{\"layer\": [{\"mark\": \"bar\", \"encoding\": {\"color\": {\"condition\": {\"value\": \"orange\", \"test\": \"(datum.emotion === 'happi')\"}, \"value\": \"#0570b0\"}, \"x\": {\"type\": \"quantitative\", \"axis\": {\"format\": \".0%\"}, \"field\": \"percent\"}, \"y\": {\"type\": \"nominal\", \"field\": \"emotion\", \"sort\": \"-x\"}}, \"title\": \"Expected label: happiness | Labels with 10 or more mentions | n= 639\"}, {\"mark\": {\"type\": \"text\", \"align\": \"left\", \"baseline\": \"middle\", \"dx\": 3, \"fontSize\": 12}, \"encoding\": {\"color\": {\"condition\": {\"value\": \"orange\", \"test\": \"(datum.emotion === 'happi')\"}, \"value\": \"#0570b0\"}, \"text\": {\"type\": \"quantitative\", \"field\": \"percent\", \"format\": \".1%\"}, \"x\": {\"type\": \"quantitative\", \"axis\": {\"format\": \".0%\"}, \"field\": \"percent\"}, \"y\": {\"type\": \"nominal\", \"field\": \"emotion\", \"sort\": \"-x\"}}, \"title\": \"Expected label: happiness | Labels with 10 or more mentions | n= 639\"}], \"data\": {\"name\": \"data-9e77809f2de5751acd2132bae7281ce8\"}}, {\"layer\": [{\"mark\": \"bar\", \"encoding\": {\"color\": {\"condition\": {\"value\": \"orange\", \"test\": \"(datum.emotion === 'happi')\"}, \"value\": \"#0570b0\"}, \"x\": {\"type\": \"quantitative\", \"axis\": {\"format\": \".0%\"}, \"field\": \"percent\"}, \"y\": {\"type\": \"nominal\", \"field\": \"emotion\", \"sort\": \"-x\"}}, \"title\": \"Expected label: happiness | Labels with 10 or more mentions | n= 633\"}, {\"mark\": {\"type\": \"text\", \"align\": \"left\", \"baseline\": \"middle\", \"dx\": 3, \"fontSize\": 12}, \"encoding\": {\"color\": {\"condition\": {\"value\": \"orange\", \"test\": \"(datum.emotion === 'happi')\"}, \"value\": \"#0570b0\"}, \"text\": {\"type\": \"quantitative\", \"field\": \"percent\", \"format\": \".1%\"}, \"x\": {\"type\": \"quantitative\", \"axis\": {\"format\": \".0%\"}, \"field\": \"percent\"}, \"y\": {\"type\": \"nominal\", \"field\": \"emotion\", \"sort\": \"-x\"}}, \"title\": \"Expected label: happiness | Labels with 10 or more mentions | n= 633\"}], \"data\": {\"name\": \"data-6f13eb4d203ec9bb3e7bd5a2739dfb27\"}}], \"$schema\": \"https://vega.github.io/schema/vega-lite/v4.8.1.json\", \"datasets\": {\"data-9e77809f2de5751acd2132bae7281ce8\": [{\"counts\": 398, \"emotion\": \"happi\", \"percent\": 0.4517593643586833}, {\"counts\": 65, \"emotion\": \"content\", \"percent\": 0.07377979568671963}, {\"counts\": 48, \"emotion\": \"excit\", \"percent\": 0.05448354143019296}, {\"counts\": 42, \"emotion\": \"smile\", \"percent\": 0.04767309875141884}, {\"counts\": 18, \"emotion\": \"none\", \"percent\": 0.02043132803632236}, {\"counts\": 18, \"emotion\": \"pleas\", \"percent\": 0.02043132803632236}, {\"counts\": 17, \"emotion\": \"calm\", \"percent\": 0.019296254256526674}, {\"counts\": 13, \"emotion\": \"joy\", \"percent\": 0.014755959137343927}, {\"counts\": 10, \"emotion\": \"silli\", \"percent\": 0.011350737797956867}, {\"counts\": 10, \"emotion\": \"confid\", \"percent\": 0.011350737797956867}], \"data-6f13eb4d203ec9bb3e7bd5a2739dfb27\": [{\"counts\": 434, \"emotion\": \"happi\", \"percent\": 0.4758771929824561}, {\"counts\": 64, \"emotion\": \"excit\", \"percent\": 0.07017543859649122}, {\"counts\": 56, \"emotion\": \"content\", \"percent\": 0.06140350877192982}, {\"counts\": 45, \"emotion\": \"smile\", \"percent\": 0.049342105263157895}, {\"counts\": 20, \"emotion\": \"pleas\", \"percent\": 0.021929824561403508}, {\"counts\": 14, \"emotion\": \"calm\", \"percent\": 0.015350877192982455}]}}, {\"renderer\": \"svg\", \"mode\": \"vega-lite\"});\n",
       "</script>"
      ],
      "text/plain": [
       "alt.HConcatChart(...)"
      ]
     },
     "metadata": {},
     "output_type": "display_data"
    }
   ],
   "source": [
    "chart_happiness_layered =  (chart_happiness_bipoc | chart_happiness_white)\n",
    "chart_happiness_layered.display(renderer='svg')"
   ]
  },
  {
   "cell_type": "code",
   "execution_count": 81,
   "id": "ac57bb6c-e89e-4aa9-8b44-95c19203f760",
   "metadata": {},
   "outputs": [],
   "source": [
    "chart_happiness_layered_str = altair_saver.save(chart_happiness_layered, fmt='svg')\n",
    "image_title.append(\"'happiness' by ethnicity\")\n",
    "svg_str.append(chart_happiness_layered_str)"
   ]
  },
  {
   "cell_type": "markdown",
   "id": "6b856651-9720-4c13-a096-b7bc6e824be7",
   "metadata": {},
   "source": [
    "### Sadness"
   ]
  },
  {
   "cell_type": "code",
   "execution_count": 82,
   "id": "9e10048e-b58c-4be5-86eb-3d2ce761075a",
   "metadata": {},
   "outputs": [],
   "source": [
    "chart_sadness_bipoc = wrapper_chart_emotion(df_emo_answers, 'sadness', 'bipoc',  emotion_st='sad', n_mentions=10)\n",
    "chart_sadness_white = wrapper_chart_emotion(df_emo_answers, 'sadness', 'white', emotion_st='sad', n_mentions=10)"
   ]
  },
  {
   "cell_type": "code",
   "execution_count": 83,
   "id": "dc71c2f6-fc72-492f-b099-bcd896d85aea",
   "metadata": {},
   "outputs": [
    {
     "data": {
      "text/html": [
       "\n",
       "<div id=\"altair-viz-34eb5c2a62184105be85385060e8b859\"></div>\n",
       "<script type=\"text/javascript\">\n",
       "  (function(spec, embedOpt){\n",
       "    let outputDiv = document.currentScript.previousElementSibling;\n",
       "    if (outputDiv.id !== \"altair-viz-34eb5c2a62184105be85385060e8b859\") {\n",
       "      outputDiv = document.getElementById(\"altair-viz-34eb5c2a62184105be85385060e8b859\");\n",
       "    }\n",
       "    const paths = {\n",
       "      \"vega\": \"https://cdn.jsdelivr.net/npm//vega@5?noext\",\n",
       "      \"vega-lib\": \"https://cdn.jsdelivr.net/npm//vega-lib?noext\",\n",
       "      \"vega-lite\": \"https://cdn.jsdelivr.net/npm//vega-lite@4.8.1?noext\",\n",
       "      \"vega-embed\": \"https://cdn.jsdelivr.net/npm//vega-embed@6?noext\",\n",
       "    };\n",
       "\n",
       "    function loadScript(lib) {\n",
       "      return new Promise(function(resolve, reject) {\n",
       "        var s = document.createElement('script');\n",
       "        s.src = paths[lib];\n",
       "        s.async = true;\n",
       "        s.onload = () => resolve(paths[lib]);\n",
       "        s.onerror = () => reject(`Error loading script: ${paths[lib]}`);\n",
       "        document.getElementsByTagName(\"head\")[0].appendChild(s);\n",
       "      });\n",
       "    }\n",
       "\n",
       "    function showError(err) {\n",
       "      outputDiv.innerHTML = `<div class=\"error\" style=\"color:red;\">${err}</div>`;\n",
       "      throw err;\n",
       "    }\n",
       "\n",
       "    function displayChart(vegaEmbed) {\n",
       "      vegaEmbed(outputDiv, spec, embedOpt)\n",
       "        .catch(err => showError(`Javascript Error: ${err.message}<br>This usually means there's a typo in your chart specification. See the javascript console for the full traceback.`));\n",
       "    }\n",
       "\n",
       "    if(typeof define === \"function\" && define.amd) {\n",
       "      requirejs.config({paths});\n",
       "      require([\"vega-embed\"], displayChart, err => showError(`Error loading script: ${err.message}`));\n",
       "    } else if (typeof vegaEmbed === \"function\") {\n",
       "      displayChart(vegaEmbed);\n",
       "    } else {\n",
       "      loadScript(\"vega\")\n",
       "        .then(() => loadScript(\"vega-lite\"))\n",
       "        .then(() => loadScript(\"vega-embed\"))\n",
       "        .catch(showError)\n",
       "        .then(() => displayChart(vegaEmbed));\n",
       "    }\n",
       "  })({\"config\": {\"view\": {\"continuousWidth\": 400, \"continuousHeight\": 300}}, \"hconcat\": [{\"layer\": [{\"mark\": \"bar\", \"encoding\": {\"color\": {\"condition\": {\"value\": \"orange\", \"test\": \"(datum.emotion === 'sad')\"}, \"value\": \"#0570b0\"}, \"x\": {\"type\": \"quantitative\", \"axis\": {\"format\": \".0%\"}, \"field\": \"percent\"}, \"y\": {\"type\": \"nominal\", \"field\": \"emotion\", \"sort\": \"-x\"}}, \"title\": \"Expected label: sadness | Labels with 10 or more mentions | n= 745\"}, {\"mark\": {\"type\": \"text\", \"align\": \"left\", \"baseline\": \"middle\", \"dx\": 3, \"fontSize\": 12}, \"encoding\": {\"color\": {\"condition\": {\"value\": \"orange\", \"test\": \"(datum.emotion === 'sad')\"}, \"value\": \"#0570b0\"}, \"text\": {\"type\": \"quantitative\", \"field\": \"percent\", \"format\": \".1%\"}, \"x\": {\"type\": \"quantitative\", \"axis\": {\"format\": \".0%\"}, \"field\": \"percent\"}, \"y\": {\"type\": \"nominal\", \"field\": \"emotion\", \"sort\": \"-x\"}}, \"title\": \"Expected label: sadness | Labels with 10 or more mentions | n= 745\"}], \"data\": {\"name\": \"data-2c6dc2d7aca5e8e3112bfe62be7574cf\"}}, {\"layer\": [{\"mark\": \"bar\", \"encoding\": {\"color\": {\"condition\": {\"value\": \"orange\", \"test\": \"(datum.emotion === 'sad')\"}, \"value\": \"#0570b0\"}, \"x\": {\"type\": \"quantitative\", \"axis\": {\"format\": \".0%\"}, \"field\": \"percent\"}, \"y\": {\"type\": \"nominal\", \"field\": \"emotion\", \"sort\": \"-x\"}}, \"title\": \"Expected label: sadness | Labels with 10 or more mentions | n= 626\"}, {\"mark\": {\"type\": \"text\", \"align\": \"left\", \"baseline\": \"middle\", \"dx\": 3, \"fontSize\": 12}, \"encoding\": {\"color\": {\"condition\": {\"value\": \"orange\", \"test\": \"(datum.emotion === 'sad')\"}, \"value\": \"#0570b0\"}, \"text\": {\"type\": \"quantitative\", \"field\": \"percent\", \"format\": \".1%\"}, \"x\": {\"type\": \"quantitative\", \"axis\": {\"format\": \".0%\"}, \"field\": \"percent\"}, \"y\": {\"type\": \"nominal\", \"field\": \"emotion\", \"sort\": \"-x\"}}, \"title\": \"Expected label: sadness | Labels with 10 or more mentions | n= 626\"}], \"data\": {\"name\": \"data-08e999332a9c97002bad400de4e9f652\"}}], \"$schema\": \"https://vega.github.io/schema/vega-lite/v4.8.1.json\", \"datasets\": {\"data-2c6dc2d7aca5e8e3112bfe62be7574cf\": [{\"counts\": 343, \"emotion\": \"sad\", \"percent\": 0.34928716904276985}, {\"counts\": 89, \"emotion\": \"upset\", \"percent\": 0.09063136456211812}, {\"counts\": 35, \"emotion\": \"cri\", \"percent\": 0.035641547861507125}, {\"counts\": 29, \"emotion\": \"angri\", \"percent\": 0.029531568228105907}, {\"counts\": 27, \"emotion\": \"scare\", \"percent\": 0.0274949083503055}, {\"counts\": 24, \"emotion\": \"regret\", \"percent\": 0.024439918533604887}, {\"counts\": 23, \"emotion\": \"worri\", \"percent\": 0.023421588594704685}, {\"counts\": 21, \"emotion\": \"confus\", \"percent\": 0.021384928716904276}, {\"counts\": 17, \"emotion\": \"disappoint\", \"percent\": 0.017311608961303463}, {\"counts\": 16, \"emotion\": \"none\", \"percent\": 0.016293279022403257}, {\"counts\": 16, \"emotion\": \"distress\", \"percent\": 0.016293279022403257}, {\"counts\": 16, \"emotion\": \"depress\", \"percent\": 0.016293279022403257}, {\"counts\": 13, \"emotion\": \"disgust\", \"percent\": 0.013238289205702648}, {\"counts\": 13, \"emotion\": \"tear\", \"percent\": 0.013238289205702648}, {\"counts\": 11, \"emotion\": \"hurt\", \"percent\": 0.01120162932790224}, {\"counts\": 11, \"emotion\": \"concern\", \"percent\": 0.01120162932790224}, {\"counts\": 11, \"emotion\": \"distraught\", \"percent\": 0.01120162932790224}, {\"counts\": 10, \"emotion\": \"mad\", \"percent\": 0.010183299389002037}, {\"counts\": 10, \"emotion\": \"unhappi\", \"percent\": 0.010183299389002037}, {\"counts\": 10, \"emotion\": \"frustrat\", \"percent\": 0.010183299389002037}], \"data-08e999332a9c97002bad400de4e9f652\": [{\"counts\": 314, \"emotion\": \"sad\", \"percent\": 0.33836206896551724}, {\"counts\": 81, \"emotion\": \"upset\", \"percent\": 0.08728448275862069}, {\"counts\": 33, \"emotion\": \"angri\", \"percent\": 0.03556034482758621}, {\"counts\": 32, \"emotion\": \"cri\", \"percent\": 0.034482758620689655}, {\"counts\": 28, \"emotion\": \"mad\", \"percent\": 0.03017241379310345}, {\"counts\": 19, \"emotion\": \"regret\", \"percent\": 0.020474137931034482}, {\"counts\": 18, \"emotion\": \"confus\", \"percent\": 0.01939655172413793}, {\"counts\": 16, \"emotion\": \"unhappi\", \"percent\": 0.017241379310344827}, {\"counts\": 15, \"emotion\": \"hurt\", \"percent\": 0.016163793103448277}, {\"counts\": 14, \"emotion\": \"none\", \"percent\": 0.015086206896551725}, {\"counts\": 13, \"emotion\": \"disappoint\", \"percent\": 0.014008620689655173}, {\"counts\": 12, \"emotion\": \"seriou\", \"percent\": 0.01293103448275862}, {\"counts\": 11, \"emotion\": \"guilti\", \"percent\": 0.011853448275862068}, {\"counts\": 10, \"emotion\": \"scare\", \"percent\": 0.010775862068965518}, {\"counts\": 10, \"emotion\": \"unpleas\", \"percent\": 0.010775862068965518}]}}, {\"renderer\": \"svg\", \"mode\": \"vega-lite\"});\n",
       "</script>"
      ],
      "text/plain": [
       "alt.HConcatChart(...)"
      ]
     },
     "metadata": {},
     "output_type": "display_data"
    }
   ],
   "source": [
    "chart_sadness_layered =  (chart_sadness_bipoc | chart_sadness_white)\n",
    "chart_sadness_layered.display(renderer='svg')"
   ]
  },
  {
   "cell_type": "code",
   "execution_count": 84,
   "id": "5fe82575-1839-4a59-bbf8-0b09fea0b8a9",
   "metadata": {},
   "outputs": [],
   "source": [
    "chart_sadness_layered_str = altair_saver.save(chart_sadness_layered, fmt='svg')\n",
    "image_title.append(\"'sadness' by ethnicity\")\n",
    "svg_str.append(chart_sadness_layered_str)"
   ]
  },
  {
   "cell_type": "markdown",
   "id": "f642a6ba-7ed4-4922-b56e-04e35a7a8e84",
   "metadata": {},
   "source": [
    "### Neutral"
   ]
  },
  {
   "cell_type": "code",
   "execution_count": 85,
   "id": "09c628b3-1d0d-4917-8fec-46a5dc5f844a",
   "metadata": {},
   "outputs": [],
   "source": [
    "chart_neutral_bipoc = wrapper_chart_emotion(df_emo_answers, 'neutral', 'bipoc',  emotion_st='neutral', n_mentions=10)\n",
    "chart_neutral_white = wrapper_chart_emotion(df_emo_answers, 'neutral', 'white', emotion_st='neutral', n_mentions=10)"
   ]
  },
  {
   "cell_type": "code",
   "execution_count": 86,
   "id": "0fec59d7-413c-4212-9e22-b4862d2cd07c",
   "metadata": {},
   "outputs": [
    {
     "data": {
      "text/html": [
       "\n",
       "<div id=\"altair-viz-2639375b31f149afa4736b2d54ee448a\"></div>\n",
       "<script type=\"text/javascript\">\n",
       "  (function(spec, embedOpt){\n",
       "    let outputDiv = document.currentScript.previousElementSibling;\n",
       "    if (outputDiv.id !== \"altair-viz-2639375b31f149afa4736b2d54ee448a\") {\n",
       "      outputDiv = document.getElementById(\"altair-viz-2639375b31f149afa4736b2d54ee448a\");\n",
       "    }\n",
       "    const paths = {\n",
       "      \"vega\": \"https://cdn.jsdelivr.net/npm//vega@5?noext\",\n",
       "      \"vega-lib\": \"https://cdn.jsdelivr.net/npm//vega-lib?noext\",\n",
       "      \"vega-lite\": \"https://cdn.jsdelivr.net/npm//vega-lite@4.8.1?noext\",\n",
       "      \"vega-embed\": \"https://cdn.jsdelivr.net/npm//vega-embed@6?noext\",\n",
       "    };\n",
       "\n",
       "    function loadScript(lib) {\n",
       "      return new Promise(function(resolve, reject) {\n",
       "        var s = document.createElement('script');\n",
       "        s.src = paths[lib];\n",
       "        s.async = true;\n",
       "        s.onload = () => resolve(paths[lib]);\n",
       "        s.onerror = () => reject(`Error loading script: ${paths[lib]}`);\n",
       "        document.getElementsByTagName(\"head\")[0].appendChild(s);\n",
       "      });\n",
       "    }\n",
       "\n",
       "    function showError(err) {\n",
       "      outputDiv.innerHTML = `<div class=\"error\" style=\"color:red;\">${err}</div>`;\n",
       "      throw err;\n",
       "    }\n",
       "\n",
       "    function displayChart(vegaEmbed) {\n",
       "      vegaEmbed(outputDiv, spec, embedOpt)\n",
       "        .catch(err => showError(`Javascript Error: ${err.message}<br>This usually means there's a typo in your chart specification. See the javascript console for the full traceback.`));\n",
       "    }\n",
       "\n",
       "    if(typeof define === \"function\" && define.amd) {\n",
       "      requirejs.config({paths});\n",
       "      require([\"vega-embed\"], displayChart, err => showError(`Error loading script: ${err.message}`));\n",
       "    } else if (typeof vegaEmbed === \"function\") {\n",
       "      displayChart(vegaEmbed);\n",
       "    } else {\n",
       "      loadScript(\"vega\")\n",
       "        .then(() => loadScript(\"vega-lite\"))\n",
       "        .then(() => loadScript(\"vega-embed\"))\n",
       "        .catch(showError)\n",
       "        .then(() => displayChart(vegaEmbed));\n",
       "    }\n",
       "  })({\"config\": {\"view\": {\"continuousWidth\": 400, \"continuousHeight\": 300}}, \"hconcat\": [{\"layer\": [{\"mark\": \"bar\", \"encoding\": {\"color\": {\"condition\": {\"value\": \"orange\", \"test\": \"(datum.emotion === 'neutral')\"}, \"value\": \"#0570b0\"}, \"x\": {\"type\": \"quantitative\", \"axis\": {\"format\": \".0%\"}, \"field\": \"percent\"}, \"y\": {\"type\": \"nominal\", \"field\": \"emotion\", \"sort\": \"-x\"}}, \"title\": \"Expected label: neutral | Labels with 10 or more mentions | n= 479\"}, {\"mark\": {\"type\": \"text\", \"align\": \"left\", \"baseline\": \"middle\", \"dx\": 3, \"fontSize\": 12}, \"encoding\": {\"color\": {\"condition\": {\"value\": \"orange\", \"test\": \"(datum.emotion === 'neutral')\"}, \"value\": \"#0570b0\"}, \"text\": {\"type\": \"quantitative\", \"field\": \"percent\", \"format\": \".1%\"}, \"x\": {\"type\": \"quantitative\", \"axis\": {\"format\": \".0%\"}, \"field\": \"percent\"}, \"y\": {\"type\": \"nominal\", \"field\": \"emotion\", \"sort\": \"-x\"}}, \"title\": \"Expected label: neutral | Labels with 10 or more mentions | n= 479\"}], \"data\": {\"name\": \"data-0b8a34b4b2f53f1f60ddd7f8cc55a98b\"}}, {\"layer\": [{\"mark\": \"bar\", \"encoding\": {\"color\": {\"condition\": {\"value\": \"orange\", \"test\": \"(datum.emotion === 'neutral')\"}, \"value\": \"#0570b0\"}, \"x\": {\"type\": \"quantitative\", \"axis\": {\"format\": \".0%\"}, \"field\": \"percent\"}, \"y\": {\"type\": \"nominal\", \"field\": \"emotion\", \"sort\": \"-x\"}}, \"title\": \"Expected label: neutral | Labels with 10 or more mentions | n= 454\"}, {\"mark\": {\"type\": \"text\", \"align\": \"left\", \"baseline\": \"middle\", \"dx\": 3, \"fontSize\": 12}, \"encoding\": {\"color\": {\"condition\": {\"value\": \"orange\", \"test\": \"(datum.emotion === 'neutral')\"}, \"value\": \"#0570b0\"}, \"text\": {\"type\": \"quantitative\", \"field\": \"percent\", \"format\": \".1%\"}, \"x\": {\"type\": \"quantitative\", \"axis\": {\"format\": \".0%\"}, \"field\": \"percent\"}, \"y\": {\"type\": \"nominal\", \"field\": \"emotion\", \"sort\": \"-x\"}}, \"title\": \"Expected label: neutral | Labels with 10 or more mentions | n= 454\"}], \"data\": {\"name\": \"data-b8c2fa1462115bb17a761c436392124d\"}}], \"$schema\": \"https://vega.github.io/schema/vega-lite/v4.8.1.json\", \"datasets\": {\"data-0b8a34b4b2f53f1f60ddd7f8cc55a98b\": [{\"counts\": 51, \"emotion\": \"happi\", \"percent\": 0.06455696202531645}, {\"counts\": 50, \"emotion\": \"sad\", \"percent\": 0.06329113924050633}, {\"counts\": 48, \"emotion\": \"content\", \"percent\": 0.060759493670886074}, {\"counts\": 46, \"emotion\": \"calm\", \"percent\": 0.05822784810126582}, {\"counts\": 39, \"emotion\": \"none\", \"percent\": 0.049367088607594936}, {\"counts\": 33, \"emotion\": \"seriou\", \"percent\": 0.04177215189873418}, {\"counts\": 25, \"emotion\": \"confus\", \"percent\": 0.03164556962025317}, {\"counts\": 25, \"emotion\": \"mad\", \"percent\": 0.03164556962025317}, {\"counts\": 20, \"emotion\": \"indiffer\", \"percent\": 0.02531645569620253}, {\"counts\": 20, \"emotion\": \"bore\", \"percent\": 0.02531645569620253}, {\"counts\": 17, \"emotion\": \"angri\", \"percent\": 0.021518987341772152}, {\"counts\": 17, \"emotion\": \"blank\", \"percent\": 0.021518987341772152}, {\"counts\": 14, \"emotion\": \"tire\", \"percent\": 0.017721518987341773}, {\"counts\": 14, \"emotion\": \"chill\", \"percent\": 0.017721518987341773}, {\"counts\": 14, \"emotion\": \"focus\", \"percent\": 0.017721518987341773}, {\"counts\": 13, \"emotion\": \"annoy\", \"percent\": 0.016455696202531647}, {\"counts\": 12, \"emotion\": \"normal\", \"percent\": 0.015189873417721518}, {\"counts\": 11, \"emotion\": \"stare\", \"percent\": 0.013924050632911392}, {\"counts\": 10, \"emotion\": \"unhappi\", \"percent\": 0.012658227848101266}], \"data-b8c2fa1462115bb17a761c436392124d\": [{\"counts\": 49, \"emotion\": \"content\", \"percent\": 0.06314432989690721}, {\"counts\": 39, \"emotion\": \"none\", \"percent\": 0.05025773195876289}, {\"counts\": 36, \"emotion\": \"happi\", \"percent\": 0.04639175257731959}, {\"counts\": 35, \"emotion\": \"confus\", \"percent\": 0.045103092783505154}, {\"counts\": 33, \"emotion\": \"calm\", \"percent\": 0.04252577319587629}, {\"counts\": 31, \"emotion\": \"seriou\", \"percent\": 0.03994845360824742}, {\"counts\": 29, \"emotion\": \"sad\", \"percent\": 0.037371134020618556}, {\"counts\": 22, \"emotion\": \"bore\", \"percent\": 0.028350515463917526}, {\"counts\": 21, \"emotion\": \"blank\", \"percent\": 0.027061855670103094}, {\"counts\": 20, \"emotion\": \"angri\", \"percent\": 0.02577319587628866}, {\"counts\": 17, \"emotion\": \"mad\", \"percent\": 0.02190721649484536}, {\"counts\": 16, \"emotion\": \"indiffer\", \"percent\": 0.020618556701030927}, {\"counts\": 15, \"emotion\": \"stare\", \"percent\": 0.019329896907216496}, {\"counts\": 15, \"emotion\": \"upset\", \"percent\": 0.019329896907216496}, {\"counts\": 14, \"emotion\": \"unhappi\", \"percent\": 0.01804123711340206}, {\"counts\": 14, \"emotion\": \"annoy\", \"percent\": 0.01804123711340206}, {\"counts\": 13, \"emotion\": \"tire\", \"percent\": 0.01675257731958763}, {\"counts\": 13, \"emotion\": \"focus\", \"percent\": 0.01675257731958763}, {\"counts\": 12, \"emotion\": \"chill\", \"percent\": 0.015463917525773196}, {\"counts\": 10, \"emotion\": \"unpleas\", \"percent\": 0.01288659793814433}]}}, {\"renderer\": \"svg\", \"mode\": \"vega-lite\"});\n",
       "</script>"
      ],
      "text/plain": [
       "alt.HConcatChart(...)"
      ]
     },
     "metadata": {},
     "output_type": "display_data"
    }
   ],
   "source": [
    "chart_neutral_layered =  (chart_neutral_bipoc | chart_neutral_white)\n",
    "chart_neutral_layered.display(renderer='svg')"
   ]
  },
  {
   "cell_type": "code",
   "execution_count": 87,
   "id": "49754497-fbec-4f7a-ac1a-23962360479e",
   "metadata": {},
   "outputs": [],
   "source": [
    "chart_neutral_layered_str = altair_saver.save(chart_neutral_layered, fmt='svg')\n",
    "image_title.append(\"'neutral' by ethnicity\")\n",
    "svg_str.append(chart_neutral_layered_str)"
   ]
  },
  {
   "cell_type": "markdown",
   "id": "d6dfa416-a0eb-4569-83e7-7179397785f7",
   "metadata": {},
   "source": [
    "### Uncertain/Other"
   ]
  },
  {
   "cell_type": "code",
   "execution_count": 88,
   "id": "57ebdcb8-a230-4537-9c9a-e5bc25225ead",
   "metadata": {},
   "outputs": [],
   "source": [
    "chart_uncertain_bipoc = wrapper_chart_emotion(df_emo_answers, 'uncertain', 'bipoc',  emotion_st='neutral', n_mentions=10)\n",
    "chart_uncertain_white = wrapper_chart_emotion(df_emo_answers, 'uncertain', 'white',  emotion_st='neutral', n_mentions=10)"
   ]
  },
  {
   "cell_type": "code",
   "execution_count": 89,
   "id": "ca81dfba-f4c1-4527-9835-66a7400d3e70",
   "metadata": {},
   "outputs": [
    {
     "data": {
      "text/html": [
       "\n",
       "<div id=\"altair-viz-a4eb87b061ef48c1bac02d1daad84955\"></div>\n",
       "<script type=\"text/javascript\">\n",
       "  (function(spec, embedOpt){\n",
       "    let outputDiv = document.currentScript.previousElementSibling;\n",
       "    if (outputDiv.id !== \"altair-viz-a4eb87b061ef48c1bac02d1daad84955\") {\n",
       "      outputDiv = document.getElementById(\"altair-viz-a4eb87b061ef48c1bac02d1daad84955\");\n",
       "    }\n",
       "    const paths = {\n",
       "      \"vega\": \"https://cdn.jsdelivr.net/npm//vega@5?noext\",\n",
       "      \"vega-lib\": \"https://cdn.jsdelivr.net/npm//vega-lib?noext\",\n",
       "      \"vega-lite\": \"https://cdn.jsdelivr.net/npm//vega-lite@4.8.1?noext\",\n",
       "      \"vega-embed\": \"https://cdn.jsdelivr.net/npm//vega-embed@6?noext\",\n",
       "    };\n",
       "\n",
       "    function loadScript(lib) {\n",
       "      return new Promise(function(resolve, reject) {\n",
       "        var s = document.createElement('script');\n",
       "        s.src = paths[lib];\n",
       "        s.async = true;\n",
       "        s.onload = () => resolve(paths[lib]);\n",
       "        s.onerror = () => reject(`Error loading script: ${paths[lib]}`);\n",
       "        document.getElementsByTagName(\"head\")[0].appendChild(s);\n",
       "      });\n",
       "    }\n",
       "\n",
       "    function showError(err) {\n",
       "      outputDiv.innerHTML = `<div class=\"error\" style=\"color:red;\">${err}</div>`;\n",
       "      throw err;\n",
       "    }\n",
       "\n",
       "    function displayChart(vegaEmbed) {\n",
       "      vegaEmbed(outputDiv, spec, embedOpt)\n",
       "        .catch(err => showError(`Javascript Error: ${err.message}<br>This usually means there's a typo in your chart specification. See the javascript console for the full traceback.`));\n",
       "    }\n",
       "\n",
       "    if(typeof define === \"function\" && define.amd) {\n",
       "      requirejs.config({paths});\n",
       "      require([\"vega-embed\"], displayChart, err => showError(`Error loading script: ${err.message}`));\n",
       "    } else if (typeof vegaEmbed === \"function\") {\n",
       "      displayChart(vegaEmbed);\n",
       "    } else {\n",
       "      loadScript(\"vega\")\n",
       "        .then(() => loadScript(\"vega-lite\"))\n",
       "        .then(() => loadScript(\"vega-embed\"))\n",
       "        .catch(showError)\n",
       "        .then(() => displayChart(vegaEmbed));\n",
       "    }\n",
       "  })({\"config\": {\"view\": {\"continuousWidth\": 400, \"continuousHeight\": 300}}, \"hconcat\": [{\"layer\": [{\"mark\": \"bar\", \"encoding\": {\"color\": {\"condition\": {\"value\": \"orange\", \"test\": \"(datum.emotion === 'neutral')\"}, \"value\": \"#0570b0\"}, \"x\": {\"type\": \"quantitative\", \"axis\": {\"format\": \".0%\"}, \"field\": \"percent\"}, \"y\": {\"type\": \"nominal\", \"field\": \"emotion\", \"sort\": \"-x\"}}, \"title\": \"Expected label: uncertain | Labels with 10 or more mentions | n= 449\"}, {\"mark\": {\"type\": \"text\", \"align\": \"left\", \"baseline\": \"middle\", \"dx\": 3, \"fontSize\": 12}, \"encoding\": {\"color\": {\"condition\": {\"value\": \"orange\", \"test\": \"(datum.emotion === 'neutral')\"}, \"value\": \"#0570b0\"}, \"text\": {\"type\": \"quantitative\", \"field\": \"percent\", \"format\": \".1%\"}, \"x\": {\"type\": \"quantitative\", \"axis\": {\"format\": \".0%\"}, \"field\": \"percent\"}, \"y\": {\"type\": \"nominal\", \"field\": \"emotion\", \"sort\": \"-x\"}}, \"title\": \"Expected label: uncertain | Labels with 10 or more mentions | n= 449\"}], \"data\": {\"name\": \"data-03c890b73f24ef6869e91e3833d5600c\"}}, {\"layer\": [{\"mark\": \"bar\", \"encoding\": {\"color\": {\"condition\": {\"value\": \"orange\", \"test\": \"(datum.emotion === 'neutral')\"}, \"value\": \"#0570b0\"}, \"x\": {\"type\": \"quantitative\", \"axis\": {\"format\": \".0%\"}, \"field\": \"percent\"}, \"y\": {\"type\": \"nominal\", \"field\": \"emotion\", \"sort\": \"-x\"}}, \"title\": \"Expected label: uncertain | Labels with 10 or more mentions | n= 476\"}, {\"mark\": {\"type\": \"text\", \"align\": \"left\", \"baseline\": \"middle\", \"dx\": 3, \"fontSize\": 12}, \"encoding\": {\"color\": {\"condition\": {\"value\": \"orange\", \"test\": \"(datum.emotion === 'neutral')\"}, \"value\": \"#0570b0\"}, \"text\": {\"type\": \"quantitative\", \"field\": \"percent\", \"format\": \".1%\"}, \"x\": {\"type\": \"quantitative\", \"axis\": {\"format\": \".0%\"}, \"field\": \"percent\"}, \"y\": {\"type\": \"nominal\", \"field\": \"emotion\", \"sort\": \"-x\"}}, \"title\": \"Expected label: uncertain | Labels with 10 or more mentions | n= 476\"}], \"data\": {\"name\": \"data-0b1e4e6c367d5870a457e8525dd93f82\"}}], \"$schema\": \"https://vega.github.io/schema/vega-lite/v4.8.1.json\", \"datasets\": {\"data-03c890b73f24ef6869e91e3833d5600c\": [{\"counts\": 125, \"emotion\": \"happi\", \"percent\": 0.1481042654028436}, {\"counts\": 52, \"emotion\": \"silli\", \"percent\": 0.061611374407582936}, {\"counts\": 43, \"emotion\": \"confus\", \"percent\": 0.0509478672985782}, {\"counts\": 32, \"emotion\": \"goofi\", \"percent\": 0.037914691943127965}, {\"counts\": 26, \"emotion\": \"none\", \"percent\": 0.030805687203791468}, {\"counts\": 24, \"emotion\": \"sad\", \"percent\": 0.02843601895734597}, {\"counts\": 21, \"emotion\": \"excit\", \"percent\": 0.024881516587677725}, {\"counts\": 20, \"emotion\": \"content\", \"percent\": 0.023696682464454975}, {\"counts\": 15, \"emotion\": \"annoy\", \"percent\": 0.017772511848341232}, {\"counts\": 15, \"emotion\": \"confid\", \"percent\": 0.017772511848341232}, {\"counts\": 14, \"emotion\": \"angri\", \"percent\": 0.016587677725118485}, {\"counts\": 14, \"emotion\": \"funni\", \"percent\": 0.016587677725118485}, {\"counts\": 13, \"emotion\": \"pose\", \"percent\": 0.015402843601895734}, {\"counts\": 12, \"emotion\": \"play\", \"percent\": 0.014218009478672985}, {\"counts\": 12, \"emotion\": \"crazi\", \"percent\": 0.014218009478672985}, {\"counts\": 11, \"emotion\": \"calm\", \"percent\": 0.013033175355450236}], \"data-0b1e4e6c367d5870a457e8525dd93f82\": [{\"counts\": 62, \"emotion\": \"silli\", \"percent\": 0.0746987951807229}, {\"counts\": 58, \"emotion\": \"confus\", \"percent\": 0.06987951807228916}, {\"counts\": 37, \"emotion\": \"goofi\", \"percent\": 0.04457831325301205}, {\"counts\": 36, \"emotion\": \"surpris\", \"percent\": 0.043373493975903614}, {\"counts\": 35, \"emotion\": \"shock\", \"percent\": 0.04216867469879518}, {\"counts\": 33, \"emotion\": \"happi\", \"percent\": 0.03975903614457831}, {\"counts\": 32, \"emotion\": \"funni\", \"percent\": 0.03855421686746988}, {\"counts\": 29, \"emotion\": \"none\", \"percent\": 0.03493975903614458}, {\"counts\": 26, \"emotion\": \"angri\", \"percent\": 0.03132530120481928}, {\"counts\": 25, \"emotion\": \"annoy\", \"percent\": 0.030120481927710843}, {\"counts\": 14, \"emotion\": \"guilti\", \"percent\": 0.016867469879518072}, {\"counts\": 13, \"emotion\": \"sad\", \"percent\": 0.01566265060240964}, {\"counts\": 13, \"emotion\": \"upset\", \"percent\": 0.01566265060240964}, {\"counts\": 12, \"emotion\": \"bore\", \"percent\": 0.014457831325301205}, {\"counts\": 11, \"emotion\": \"supris\", \"percent\": 0.01325301204819277}, {\"counts\": 10, \"emotion\": \"content\", \"percent\": 0.012048192771084338}, {\"counts\": 10, \"emotion\": \"unhappi\", \"percent\": 0.012048192771084338}, {\"counts\": 10, \"emotion\": \"disappoint\", \"percent\": 0.012048192771084338}, {\"counts\": 10, \"emotion\": \"mad\", \"percent\": 0.012048192771084338}]}}, {\"renderer\": \"svg\", \"mode\": \"vega-lite\"});\n",
       "</script>"
      ],
      "text/plain": [
       "alt.HConcatChart(...)"
      ]
     },
     "metadata": {},
     "output_type": "display_data"
    }
   ],
   "source": [
    "chart_uncertain_layered =  (chart_uncertain_bipoc | chart_uncertain_white)\n",
    "chart_uncertain_layered.display(renderer='svg')"
   ]
  },
  {
   "cell_type": "code",
   "execution_count": 90,
   "id": "adce9d92-7525-4849-8efd-e84f72f3491c",
   "metadata": {},
   "outputs": [],
   "source": [
    "chart_uncertain_layered_str = altair_saver.save(chart_uncertain_layered, fmt='svg')\n",
    "image_title.append(\"'uncertain' by ethnicity\")\n",
    "svg_str.append(chart_uncertain_layered_str)"
   ]
  },
  {
   "cell_type": "markdown",
   "id": "724515dd-27e3-4c52-bf63-f6633fb5a2ba",
   "metadata": {},
   "source": [
    "### Most frequently used labels by photo"
   ]
  },
  {
   "cell_type": "code",
   "execution_count": 91,
   "id": "9e54fc68-bf4a-4fc2-81f8-a2f3a71388e5",
   "metadata": {},
   "outputs": [],
   "source": [
    "def photo_chart(df_emo_answers, emotion,  i, n_mentions=2):\n",
    "    df = emotion_df_formated(df_emo_answers, emotion) # add emotion label\n",
    "    photo_id_list = df['photo_id'].tolist() # photo id to list\n",
    "    splited_photo_id = np.array_split(photo_id_list, 24) # split photo id by photo\n",
    "    df = df[df['photo_id'].isin(splited_photo_id[i])] # select photo rows   \n",
    "    df_url = df[['url']].head(1)  # get url for chart\n",
    "    \n",
    "    face = alt.Chart(df_url).mark_image(width=110, height=110, align='right', xOffset=0, yOffset=230).encode(url='url')\n",
    "    \n",
    "    df_emotion_ans = df.drop(['photo_id', 'ethnicity', 'sex', 'age', 'label', 'url', 'photoId'], axis=1) # clean cols\n",
    "    df_stack_emotion = formating_words(df_emotion_ans) # clean up words\n",
    "    df_stack_emotion['emotion_ps_steamed'] = df_stack_emotion['emotion'].apply(lambda x: ps.stem(x)) # steam\n",
    "    df_stack_emotion_count = count_freq_labels(df_stack_emotion, X=\"stacked\", col='emotion_ps_steamed') # group and count\n",
    "    source = df_stack_emotion_count[df_stack_emotion_count['counts'] >= n_mentions]\n",
    "    \n",
    "    chart = simple_per_bar(source,\\\n",
    "                           title=f\"Expected label: {emotion} | Labels with {n_mentions} or more mentions | n= {source['counts'].sum().astype(str)}\", \\\n",
    "                           X='percent:Q', Y='emotion:N', width=300, height=300)\n",
    "    \n",
    "    return chart + face"
   ]
  },
  {
   "cell_type": "code",
   "execution_count": 92,
   "id": "e1f8095a-533a-45ab-92e8-91b168c8880e",
   "metadata": {},
   "outputs": [
    {
     "data": {
      "text/html": [
       "\n",
       "<div id=\"altair-viz-5938a38edbc342b9a98a102cc2640e52\"></div>\n",
       "<script type=\"text/javascript\">\n",
       "  (function(spec, embedOpt){\n",
       "    let outputDiv = document.currentScript.previousElementSibling;\n",
       "    if (outputDiv.id !== \"altair-viz-5938a38edbc342b9a98a102cc2640e52\") {\n",
       "      outputDiv = document.getElementById(\"altair-viz-5938a38edbc342b9a98a102cc2640e52\");\n",
       "    }\n",
       "    const paths = {\n",
       "      \"vega\": \"https://cdn.jsdelivr.net/npm//vega@5?noext\",\n",
       "      \"vega-lib\": \"https://cdn.jsdelivr.net/npm//vega-lib?noext\",\n",
       "      \"vega-lite\": \"https://cdn.jsdelivr.net/npm//vega-lite@4.8.1?noext\",\n",
       "      \"vega-embed\": \"https://cdn.jsdelivr.net/npm//vega-embed@6?noext\",\n",
       "    };\n",
       "\n",
       "    function loadScript(lib) {\n",
       "      return new Promise(function(resolve, reject) {\n",
       "        var s = document.createElement('script');\n",
       "        s.src = paths[lib];\n",
       "        s.async = true;\n",
       "        s.onload = () => resolve(paths[lib]);\n",
       "        s.onerror = () => reject(`Error loading script: ${paths[lib]}`);\n",
       "        document.getElementsByTagName(\"head\")[0].appendChild(s);\n",
       "      });\n",
       "    }\n",
       "\n",
       "    function showError(err) {\n",
       "      outputDiv.innerHTML = `<div class=\"error\" style=\"color:red;\">${err}</div>`;\n",
       "      throw err;\n",
       "    }\n",
       "\n",
       "    function displayChart(vegaEmbed) {\n",
       "      vegaEmbed(outputDiv, spec, embedOpt)\n",
       "        .catch(err => showError(`Javascript Error: ${err.message}<br>This usually means there's a typo in your chart specification. See the javascript console for the full traceback.`));\n",
       "    }\n",
       "\n",
       "    if(typeof define === \"function\" && define.amd) {\n",
       "      requirejs.config({paths});\n",
       "      require([\"vega-embed\"], displayChart, err => showError(`Error loading script: ${err.message}`));\n",
       "    } else if (typeof vegaEmbed === \"function\") {\n",
       "      displayChart(vegaEmbed);\n",
       "    } else {\n",
       "      loadScript(\"vega\")\n",
       "        .then(() => loadScript(\"vega-lite\"))\n",
       "        .then(() => loadScript(\"vega-embed\"))\n",
       "        .catch(showError)\n",
       "        .then(() => displayChart(vegaEmbed));\n",
       "    }\n",
       "  })({\"config\": {\"view\": {\"continuousWidth\": 400, \"continuousHeight\": 300}, \"axis\": {\"labelFontSize\": 11, \"titleFontSize\": 12}}, \"layer\": [{\"mark\": \"bar\", \"encoding\": {\"color\": {\"condition\": {\"value\": \"orange\", \"test\": \"(datum.emotion === 'Some')\"}, \"value\": \"#0570b0\"}, \"x\": {\"type\": \"quantitative\", \"axis\": {\"format\": \".0%\"}, \"field\": \"percent\"}, \"y\": {\"type\": \"nominal\", \"field\": \"emotion\", \"sort\": \"-x\"}}, \"title\": \"Expected label: anger | Labels with 2 or more mentions | n= 37\"}, {\"mark\": {\"type\": \"text\", \"align\": \"left\", \"baseline\": \"middle\", \"dx\": 3, \"fontSize\": 12}, \"encoding\": {\"color\": {\"condition\": {\"value\": \"orange\", \"test\": \"(datum.emotion === 'Some')\"}, \"value\": \"#0570b0\"}, \"text\": {\"type\": \"quantitative\", \"field\": \"percent\", \"format\": \".1%\"}, \"x\": {\"type\": \"quantitative\", \"axis\": {\"format\": \".0%\"}, \"field\": \"percent\"}, \"y\": {\"type\": \"nominal\", \"field\": \"emotion\", \"sort\": \"-x\"}}, \"title\": \"Expected label: anger | Labels with 2 or more mentions | n= 37\"}, {\"data\": {\"name\": \"data-54b2d285cd54819d962f2bd59b444e40\"}, \"mark\": {\"type\": \"image\", \"align\": \"right\", \"height\": 110, \"width\": 110, \"xOffset\": 0, \"yOffset\": 230}, \"encoding\": {\"url\": {\"type\": \"nominal\", \"field\": \"url\"}}}], \"data\": {\"name\": \"data-bcf7779eaa63c7dfa5148195a3e951ac\"}, \"height\": 300, \"width\": 300, \"$schema\": \"https://vega.github.io/schema/vega-lite/v4.8.1.json\", \"datasets\": {\"data-bcf7779eaa63c7dfa5148195a3e951ac\": [{\"counts\": 10, \"emotion\": \"angri\", \"percent\": 0.14084507042253522}, {\"counts\": 5, \"emotion\": \"mad\", \"percent\": 0.07042253521126761}, {\"counts\": 4, \"emotion\": \"silli\", \"percent\": 0.056338028169014086}, {\"counts\": 3, \"emotion\": \"calm\", \"percent\": 0.04225352112676056}, {\"counts\": 3, \"emotion\": \"focus\", \"percent\": 0.04225352112676056}, {\"counts\": 3, \"emotion\": \"seriou\", \"percent\": 0.04225352112676056}, {\"counts\": 3, \"emotion\": \"confus\", \"percent\": 0.04225352112676056}, {\"counts\": 2, \"emotion\": \"frustrat\", \"percent\": 0.028169014084507043}, {\"counts\": 2, \"emotion\": \"intrigu\", \"percent\": 0.028169014084507043}, {\"counts\": 2, \"emotion\": \"none\", \"percent\": 0.028169014084507043}], \"data-54b2d285cd54819d962f2bd59b444e40\": [{\"url\": \"https://uwmadison.co1.qualtrics.com/ControlPanel/Graphic.php?IM=IM_bJXdODAZHOaG0rI\"}]}}, {\"mode\": \"vega-lite\"});\n",
       "</script>"
      ],
      "text/plain": [
       "alt.LayerChart(...)"
      ]
     },
     "execution_count": 92,
     "metadata": {},
     "output_type": "execute_result"
    }
   ],
   "source": [
    "photo_chart(df_emo_answers, 'anger',  0, n_mentions=2)"
   ]
  },
  {
   "cell_type": "code",
   "execution_count": 93,
   "id": "e217f91e-d775-4ade-aad3-fc5f88bc98cd",
   "metadata": {},
   "outputs": [],
   "source": [
    "# def charts_emotion_faces(df_emo_answers, emotion):\n",
    "#     charts = []\n",
    "#     for i in range(0, 24):\n",
    "#         charts.append(photo_chart(df_emo_answers, emotion,  i))\n",
    "#     return charts"
   ]
  },
  {
   "cell_type": "code",
   "execution_count": 94,
   "id": "bdba3ffd-63df-47fd-b53b-b255c367d61e",
   "metadata": {},
   "outputs": [],
   "source": [
    "# def dashboard_emotion_faces(charts, rows):\n",
    "#     if rows == 1:\n",
    "#         dashboard= (charts[0] | charts[1] | charts[2])\n",
    "#     if rows == 2:\n",
    "#         dashboard= (charts[0] | charts[1] | charts[2]) & \\\n",
    "#                    (charts[3] | charts[4] | charts[5]) \n",
    "#     if rows == 3:\n",
    "#         dashboard= (charts[0] | charts[1] | charts[2]) & \\\n",
    "#                    (charts[3] | charts[4] | charts[5]) & \\\n",
    "#                    (charts[6] | charts[7] | charts[8])\n",
    "#     if rows == 4:\n",
    "#         dashboard= (charts[0] | charts[1] | charts[2]) & \\\n",
    "#                    (charts[3] | charts[4] | charts[5]) & \\\n",
    "#                    (charts[6] | charts[7] | charts[8]) & \\\n",
    "#                    (charts[9] | charts[10] | charts[11])\n",
    "#     if rows == 5:\n",
    "#         dashboard= (charts[0] | charts[1] | charts[2]) & \\\n",
    "#                    (charts[3] | charts[4] | charts[5]) & \\\n",
    "#                    (charts[6] | charts[7] | charts[8]) & \\\n",
    "#                    (charts[9] | charts[10] | charts[11]) & \\\n",
    "#                    (charts[12] | charts[13] | charts[14]) \n",
    "#     if rows == 6:\n",
    "#         dashboard= (charts[0] | charts[1] | charts[2]) & \\\n",
    "#                    (charts[3] | charts[4] | charts[5]) & \\\n",
    "#                    (charts[6] | charts[7] | charts[8]) & \\\n",
    "#                    (charts[9] | charts[10] | charts[11]) & \\\n",
    "#                    (charts[12] | charts[13] | charts[14]) & \\\n",
    "#                    (charts[15] | charts[16] | charts[17])\n",
    "#     if rows == 7:\n",
    "#         dashboard= (charts[0] | charts[1] | charts[2]) & \\\n",
    "#                    (charts[3] | charts[4] | charts[5]) & \\\n",
    "#                    (charts[6] | charts[7] | charts[8]) & \\\n",
    "#                    (charts[9] | charts[10] | charts[11]) & \\\n",
    "#                    (charts[12] | charts[13] | charts[14]) & \\\n",
    "#                    (charts[15] | charts[16] | charts[17]) & \\\n",
    "#                    (charts[18] | charts[19] | charts[20]) \n",
    "#     if rows == 8:\n",
    "#         dashboard= (charts[0] | charts[1] | charts[2]) & \\\n",
    "#                    (charts[3] | charts[4] | charts[5]) & \\\n",
    "#                    (charts[6] | charts[7] | charts[8]) & \\\n",
    "#                    (charts[9] | charts[10] | charts[11]) & \\\n",
    "#                    (charts[12] | charts[13] | charts[14]) & \\\n",
    "#                    (charts[15] | charts[16] | charts[17]) & \\\n",
    "#                    (charts[18] | charts[19] | charts[20]) & \\\n",
    "#                    (charts[21] | charts[22] | charts[23]) \n",
    "        \n",
    "#     return dashboard"
   ]
  },
  {
   "cell_type": "code",
   "execution_count": 95,
   "id": "05da152b-2b10-450e-b9f8-10bd591f603b",
   "metadata": {},
   "outputs": [],
   "source": [
    "# charts = charts_emotion_faces(df_emo_answers, 'sadness')\n",
    "# dashboard_emotion_faces(charts, 8)"
   ]
  },
  {
   "cell_type": "markdown",
   "id": "80b28cc1-a0f4-4fee-b6c2-bd0568e47514",
   "metadata": {},
   "source": [
    "## Emotion percentages as feature vectors"
   ]
  },
  {
   "cell_type": "code",
   "execution_count": 96,
   "id": "e5e6061d-45bf-4c75-b2b0-fb84d090f692",
   "metadata": {},
   "outputs": [],
   "source": [
    "photo_ids = pd.read_csv('../clean_data/photo_ids.csv')"
   ]
  },
  {
   "cell_type": "code",
   "execution_count": 97,
   "id": "f83674b7-91a3-4ff0-8af1-1897793164cb",
   "metadata": {},
   "outputs": [],
   "source": [
    "df_emo_overall_raw = count_freq_labels(df_stack_single_word, X='stacked', col='emotion_ps_steamed')\n",
    "emotion_words_list_steam = df_emo_overall_raw['emotion'].str.lower().tolist()\n",
    "emotion_words_list = ['happiness','neutral', 'surprise','sadness', 'disgust', 'anger', 'fear', 'uncertain']"
   ]
  },
  {
   "cell_type": "code",
   "execution_count": 494,
   "id": "9f8c99a4-7371-471c-802c-19e2864f6afb",
   "metadata": {},
   "outputs": [],
   "source": [
    "# placeholder dataframe\n",
    "index_photos = photo_ids.iloc[:, 0] + '_1'\n",
    "df_emo_features = pd.DataFrame(columns=emotion_words_list_steam) \n",
    "# add key-ids\n",
    "df_emo_features.insert(loc=0, column='photo_id', value=index_photos)"
   ]
  },
  {
   "cell_type": "code",
   "execution_count": 495,
   "id": "7db3d4ef-53c6-4967-991a-8c9814a93a9d",
   "metadata": {},
   "outputs": [],
   "source": [
    "def fill_in_emotion_vectors(df_emo_features, df_emo_answers, emotion_words_list):\n",
    "    for emo in range(0, len(emotion_words_list)):\n",
    "        \n",
    "        emotion = emotion_words_list[emo] # get emotion word\n",
    "        df_ans = emotion_df_formated(df_emo_answers, emotion) # ans for all pics of emo-word\n",
    "        photo_id_list = df_ans['photo_id'].tolist() # photo ids for the emotion word\n",
    "        splited_photo_id = np.array_split(photo_id_list, 24) # photo_id_list as an array \n",
    "        \n",
    "        for ids in range(0, len(splited_photo_id)):\n",
    "            photo_id = splited_photo_id[ids]                \n",
    "            df_single = df_ans[df_ans['photo_id'].isin(photo_id)] # get row for nth photo\n",
    "            df_emotion_ans = df_single.drop(['photo_id', 'ethnicity', 'sex', \\\n",
    "                                             'age', 'label', 'url', 'photoId'], axis=1) # clean up for calculation\n",
    "            df_stack_emotion = formating_words(df_emotion_ans) \n",
    "            df_stack_emotion['emotion_ps_steamed'] = df_stack_emotion['emotion'].apply(lambda x: ps.stem(x)) # steam\n",
    "            source = count_freq_labels(df_stack_emotion, X='stacked', col='emotion_ps_steamed') # group and count / compute vectors\n",
    "            source = source[['percent', 'emotion']].T\n",
    "            source.columns = source.iloc[1].str.lower() # emotion words as cols\n",
    "            source.drop('emotion', axis=0, inplace=True) # clean up emotion row\n",
    "            source.reset_index(drop=True, inplace=True) # clean up index\n",
    "            source.columns.name = None\n",
    "            photo_id_str = photo_id[0] # photo id as str\n",
    "            source.insert(0, 'photo_id', photo_id_str) # photo id as col\n",
    "            # set photo id as col for easier manipulation\n",
    "            df_emo_features = df_emo_features.set_index('photo_id') \n",
    "            # fill in vectors where the value is available\n",
    "            df_emo_features.loc[photo_id_str] = pd.Series(source.T.to_dict()[0])\n",
    "            \n",
    "            df_emo_features['photo_id'] = df_emo_features.index # index back to column\n",
    "            df_emo_features.index.name = None \n",
    "            df_emo_features.reset_index(drop=True, inplace=True) # clean up index\n",
    "    \n",
    "    return df_emo_features\n",
    "            "
   ]
  },
  {
   "cell_type": "code",
   "execution_count": 496,
   "id": "4e05beab-2271-4c39-902f-fd096de97225",
   "metadata": {},
   "outputs": [],
   "source": [
    "df_emo_vectors = fill_in_emotion_vectors(df_emo_features, df_emo_answers, emotion_words_list)\n",
    "df_emo_vectors = df_emo_vectors.fillna(0)\n",
    "df_label_raw = pd.read_csv('../data/emotion_labels.csv')\n",
    "df_emo_vectors = pd.concat([df_emo_vectors, df_label_raw], axis=1) # concat metadata\n",
    "df_emo_vectors.to_csv('../clean_data/free_choice_uw_students_vectors.csv', index=False)"
   ]
  },
  {
   "cell_type": "markdown",
   "id": "bb3435a8-f27d-4b61-a9f3-d25922503414",
   "metadata": {},
   "source": [
    "## Emotion percentages as feature vectors - count (for sentiment analysis)"
   ]
  },
  {
   "cell_type": "code",
   "execution_count": 497,
   "id": "1216d606-73b7-40a9-b03f-2dc01dd424a7",
   "metadata": {},
   "outputs": [],
   "source": [
    "# placeholder dataframe\n",
    "index_photos = photo_ids.iloc[:, 0] + '_1'\n",
    "df_emo_features = pd.DataFrame(columns=free_choice_word_list) # CHANGE TO NOT STEAMED\n",
    "# add key-ids\n",
    "df_emo_features.insert(loc=0, column='photo_id', value=index_photos)"
   ]
  },
  {
   "cell_type": "code",
   "execution_count": 498,
   "id": "1d819e1c-7708-417e-bc94-03e0c2d516ba",
   "metadata": {},
   "outputs": [],
   "source": [
    "def fill_in_emotion_counts(df_emo_features, df_emo_answers, emotion_words_list):\n",
    "    for emo in range(0, len(emotion_words_list)):\n",
    "        \n",
    "        emotion = emotion_words_list[emo] # get emotion word\n",
    "        df_ans = emotion_df_formated(df_emo_answers, emotion) # ans for all pics of emo-word\n",
    "        photo_id_list = df_ans['photo_id'].tolist() # photo ids for the emotion word\n",
    "        splited_photo_id = np.array_split(photo_id_list, 24) # photo_id_list as an array \n",
    "        \n",
    "        for ids in range(0, len(splited_photo_id)):\n",
    "            photo_id = splited_photo_id[ids]\n",
    "            df_single = df_ans[df_ans['photo_id'].isin(photo_id)] # get row for nth photo\n",
    "            df_emotion_ans = df_single.drop(['photo_id', 'ethnicity', 'sex', \\\n",
    "                                             'age', 'label', 'url', 'photoId'], axis=1) # clean up for calculation\n",
    "            df_stack_emotion = formating_words(df_emotion_ans) \n",
    "            source = count_freq_labels(df_stack_emotion, X='stacked', col='emotion') # group and count / compute vectors   \n",
    "            ## count or percet\n",
    "            source = source[['counts', 'emotion']].T\n",
    "            source.columns = source.iloc[1].str.lower() # emotion words as cols\n",
    "            source.drop('emotion', axis=0, inplace=True) # clean up emotion row\n",
    "            source.reset_index(drop=True, inplace=True) # clean up index\n",
    "            source.columns.name = None\n",
    "            photo_id_str = photo_id[0] # photo id as str\n",
    "            source.insert(0, 'photo_id', photo_id_str) # photo id as col\n",
    "            # set photo id as col for easier manipulation\n",
    "            df_emo_features = df_emo_features.set_index('photo_id') \n",
    "            # fill in vectors where the value is available\n",
    "            df_emo_features.loc[photo_id_str] = pd.Series(source.T.to_dict()[0])\n",
    "            \n",
    "            df_emo_features['photo_id'] = df_emo_features.index # index back to column\n",
    "            df_emo_features.index.name = None \n",
    "            df_emo_features.reset_index(drop=True, inplace=True) # clean up index\n",
    "    \n",
    "    return df_emo_features\n",
    "            "
   ]
  },
  {
   "cell_type": "code",
   "execution_count": 499,
   "id": "c3edc761-8506-4b4c-9b4e-5db2ddf09147",
   "metadata": {},
   "outputs": [],
   "source": [
    "df_emo_counts = fill_in_emotion_counts(df_emo_features, df_emo_answers, emotion_words_list)\n",
    "# df_emo_counts = df_emo_counts.fillna(0) # No need to fill NA as means need to be computed later ignoring them\n",
    "df_label_raw = pd.read_csv('../data/emotion_labels.csv')\n",
    "df_emo_counts = pd.concat([df_emo_counts, df_label_raw], axis=1) # concat metadata\n",
    "df_emo_counts.to_csv('../clean_data/free_choice_uw_students_count_emotions.csv', index=False)"
   ]
  },
  {
   "cell_type": "markdown",
   "id": "e663d023-c93e-421b-8583-17afa0e108e6",
   "metadata": {},
   "source": [
    "# Clustering"
   ]
  },
  {
   "cell_type": "code",
   "execution_count": 500,
   "id": "529c700d-af79-4352-9a9f-e6fd2d815492",
   "metadata": {},
   "outputs": [],
   "source": [
    "from kneed import KneeLocator\n",
    "from sklearn import preprocessing as pp\n",
    "from sklearn.cluster import KMeans\n",
    "from sklearn.decomposition import PCA\n",
    "from sklearn.metrics import silhouette_score\n",
    "from sklearn.preprocessing import MinMaxScaler\n",
    "from sklearn import decomposition"
   ]
  },
  {
   "cell_type": "code",
   "execution_count": 501,
   "id": "8dd433a6-b2f7-4933-b717-493281f45bb0",
   "metadata": {},
   "outputs": [],
   "source": [
    "X = df_emo_vectors.copy().drop(['photo_id', 'ethnicity', 'sex', \\\n",
    "                                   'age', 'label', 'url', 'photoId'], axis=1)"
   ]
  },
  {
   "cell_type": "code",
   "execution_count": 502,
   "id": "ad8f22be-db62-4d1e-ab7d-509a4ed2d95b",
   "metadata": {},
   "outputs": [],
   "source": [
    "features = X.columns\n",
    "sX = pp.MinMaxScaler(copy=True)\n",
    "X.loc[:,features] = sX.fit_transform(X[features])"
   ]
  },
  {
   "cell_type": "code",
   "execution_count": 503,
   "id": "38787092-b991-4810-adc6-9200ecd09249",
   "metadata": {},
   "outputs": [
    {
     "data": {
      "text/html": [
       "<div>\n",
       "<style scoped>\n",
       "    .dataframe tbody tr th:only-of-type {\n",
       "        vertical-align: middle;\n",
       "    }\n",
       "\n",
       "    .dataframe tbody tr th {\n",
       "        vertical-align: top;\n",
       "    }\n",
       "\n",
       "    .dataframe thead th {\n",
       "        text-align: right;\n",
       "    }\n",
       "</style>\n",
       "<table border=\"1\" class=\"dataframe\">\n",
       "  <thead>\n",
       "    <tr style=\"text-align: right;\">\n",
       "      <th></th>\n",
       "      <th>happi</th>\n",
       "      <th>sad</th>\n",
       "      <th>anger</th>\n",
       "      <th>confus</th>\n",
       "      <th>shock</th>\n",
       "      <th>surpris</th>\n",
       "      <th>upset</th>\n",
       "      <th>mad</th>\n",
       "      <th>disgust</th>\n",
       "      <th>scare</th>\n",
       "      <th>...</th>\n",
       "      <th>optimist</th>\n",
       "      <th>pyscho</th>\n",
       "      <th>unknow</th>\n",
       "      <th>toung</th>\n",
       "      <th>tour</th>\n",
       "      <th>anrgi</th>\n",
       "      <th>sexi</th>\n",
       "      <th>moodi</th>\n",
       "      <th>broken</th>\n",
       "      <th>schock</th>\n",
       "    </tr>\n",
       "  </thead>\n",
       "  <tbody>\n",
       "    <tr>\n",
       "      <th>count</th>\n",
       "      <td>194.000000</td>\n",
       "      <td>194.000000</td>\n",
       "      <td>194.000000</td>\n",
       "      <td>194.000000</td>\n",
       "      <td>194.000000</td>\n",
       "      <td>194.000000</td>\n",
       "      <td>194.000000</td>\n",
       "      <td>194.000000</td>\n",
       "      <td>194.000000</td>\n",
       "      <td>194.000000</td>\n",
       "      <td>...</td>\n",
       "      <td>194.000000</td>\n",
       "      <td>194.000000</td>\n",
       "      <td>194.000000</td>\n",
       "      <td>194.000000</td>\n",
       "      <td>194.000000</td>\n",
       "      <td>194.000000</td>\n",
       "      <td>194.000000</td>\n",
       "      <td>194.000000</td>\n",
       "      <td>194.000000</td>\n",
       "      <td>194.000000</td>\n",
       "    </tr>\n",
       "    <tr>\n",
       "      <th>mean</th>\n",
       "      <td>0.166208</td>\n",
       "      <td>0.125851</td>\n",
       "      <td>0.065488</td>\n",
       "      <td>0.116144</td>\n",
       "      <td>0.122674</td>\n",
       "      <td>0.117218</td>\n",
       "      <td>0.211023</td>\n",
       "      <td>0.146708</td>\n",
       "      <td>0.069112</td>\n",
       "      <td>0.073537</td>\n",
       "      <td>...</td>\n",
       "      <td>0.005155</td>\n",
       "      <td>0.005155</td>\n",
       "      <td>0.005155</td>\n",
       "      <td>0.005155</td>\n",
       "      <td>0.005155</td>\n",
       "      <td>0.005155</td>\n",
       "      <td>0.005155</td>\n",
       "      <td>0.005155</td>\n",
       "      <td>0.005155</td>\n",
       "      <td>0.005155</td>\n",
       "    </tr>\n",
       "    <tr>\n",
       "      <th>std</th>\n",
       "      <td>0.275412</td>\n",
       "      <td>0.221431</td>\n",
       "      <td>0.164514</td>\n",
       "      <td>0.179727</td>\n",
       "      <td>0.222270</td>\n",
       "      <td>0.214432</td>\n",
       "      <td>0.257069</td>\n",
       "      <td>0.227959</td>\n",
       "      <td>0.165700</td>\n",
       "      <td>0.153340</td>\n",
       "      <td>...</td>\n",
       "      <td>0.071796</td>\n",
       "      <td>0.071796</td>\n",
       "      <td>0.071796</td>\n",
       "      <td>0.071796</td>\n",
       "      <td>0.071796</td>\n",
       "      <td>0.071796</td>\n",
       "      <td>0.071796</td>\n",
       "      <td>0.071796</td>\n",
       "      <td>0.071796</td>\n",
       "      <td>0.071796</td>\n",
       "    </tr>\n",
       "    <tr>\n",
       "      <th>min</th>\n",
       "      <td>0.000000</td>\n",
       "      <td>0.000000</td>\n",
       "      <td>0.000000</td>\n",
       "      <td>0.000000</td>\n",
       "      <td>0.000000</td>\n",
       "      <td>0.000000</td>\n",
       "      <td>0.000000</td>\n",
       "      <td>0.000000</td>\n",
       "      <td>0.000000</td>\n",
       "      <td>0.000000</td>\n",
       "      <td>...</td>\n",
       "      <td>0.000000</td>\n",
       "      <td>0.000000</td>\n",
       "      <td>0.000000</td>\n",
       "      <td>0.000000</td>\n",
       "      <td>0.000000</td>\n",
       "      <td>0.000000</td>\n",
       "      <td>0.000000</td>\n",
       "      <td>0.000000</td>\n",
       "      <td>0.000000</td>\n",
       "      <td>0.000000</td>\n",
       "    </tr>\n",
       "    <tr>\n",
       "      <th>25%</th>\n",
       "      <td>0.000000</td>\n",
       "      <td>0.000000</td>\n",
       "      <td>0.000000</td>\n",
       "      <td>0.000000</td>\n",
       "      <td>0.000000</td>\n",
       "      <td>0.000000</td>\n",
       "      <td>0.000000</td>\n",
       "      <td>0.000000</td>\n",
       "      <td>0.000000</td>\n",
       "      <td>0.000000</td>\n",
       "      <td>...</td>\n",
       "      <td>0.000000</td>\n",
       "      <td>0.000000</td>\n",
       "      <td>0.000000</td>\n",
       "      <td>0.000000</td>\n",
       "      <td>0.000000</td>\n",
       "      <td>0.000000</td>\n",
       "      <td>0.000000</td>\n",
       "      <td>0.000000</td>\n",
       "      <td>0.000000</td>\n",
       "      <td>0.000000</td>\n",
       "    </tr>\n",
       "    <tr>\n",
       "      <th>50%</th>\n",
       "      <td>0.025000</td>\n",
       "      <td>0.025668</td>\n",
       "      <td>0.000000</td>\n",
       "      <td>0.036487</td>\n",
       "      <td>0.000000</td>\n",
       "      <td>0.000000</td>\n",
       "      <td>0.099485</td>\n",
       "      <td>0.000000</td>\n",
       "      <td>0.000000</td>\n",
       "      <td>0.000000</td>\n",
       "      <td>...</td>\n",
       "      <td>0.000000</td>\n",
       "      <td>0.000000</td>\n",
       "      <td>0.000000</td>\n",
       "      <td>0.000000</td>\n",
       "      <td>0.000000</td>\n",
       "      <td>0.000000</td>\n",
       "      <td>0.000000</td>\n",
       "      <td>0.000000</td>\n",
       "      <td>0.000000</td>\n",
       "      <td>0.000000</td>\n",
       "    </tr>\n",
       "    <tr>\n",
       "      <th>75%</th>\n",
       "      <td>0.158168</td>\n",
       "      <td>0.129252</td>\n",
       "      <td>0.000000</td>\n",
       "      <td>0.138168</td>\n",
       "      <td>0.132714</td>\n",
       "      <td>0.127383</td>\n",
       "      <td>0.360070</td>\n",
       "      <td>0.209231</td>\n",
       "      <td>0.038793</td>\n",
       "      <td>0.064830</td>\n",
       "      <td>...</td>\n",
       "      <td>0.000000</td>\n",
       "      <td>0.000000</td>\n",
       "      <td>0.000000</td>\n",
       "      <td>0.000000</td>\n",
       "      <td>0.000000</td>\n",
       "      <td>0.000000</td>\n",
       "      <td>0.000000</td>\n",
       "      <td>0.000000</td>\n",
       "      <td>0.000000</td>\n",
       "      <td>0.000000</td>\n",
       "    </tr>\n",
       "    <tr>\n",
       "      <th>max</th>\n",
       "      <td>1.000000</td>\n",
       "      <td>1.000000</td>\n",
       "      <td>1.000000</td>\n",
       "      <td>1.000000</td>\n",
       "      <td>1.000000</td>\n",
       "      <td>1.000000</td>\n",
       "      <td>1.000000</td>\n",
       "      <td>1.000000</td>\n",
       "      <td>1.000000</td>\n",
       "      <td>1.000000</td>\n",
       "      <td>...</td>\n",
       "      <td>1.000000</td>\n",
       "      <td>1.000000</td>\n",
       "      <td>1.000000</td>\n",
       "      <td>1.000000</td>\n",
       "      <td>1.000000</td>\n",
       "      <td>1.000000</td>\n",
       "      <td>1.000000</td>\n",
       "      <td>1.000000</td>\n",
       "      <td>1.000000</td>\n",
       "      <td>1.000000</td>\n",
       "    </tr>\n",
       "  </tbody>\n",
       "</table>\n",
       "<p>8 rows × 880 columns</p>\n",
       "</div>"
      ],
      "text/plain": [
       "            happi         sad       anger      confus       shock     surpris  \\\n",
       "count  194.000000  194.000000  194.000000  194.000000  194.000000  194.000000   \n",
       "mean     0.166208    0.125851    0.065488    0.116144    0.122674    0.117218   \n",
       "std      0.275412    0.221431    0.164514    0.179727    0.222270    0.214432   \n",
       "min      0.000000    0.000000    0.000000    0.000000    0.000000    0.000000   \n",
       "25%      0.000000    0.000000    0.000000    0.000000    0.000000    0.000000   \n",
       "50%      0.025000    0.025668    0.000000    0.036487    0.000000    0.000000   \n",
       "75%      0.158168    0.129252    0.000000    0.138168    0.132714    0.127383   \n",
       "max      1.000000    1.000000    1.000000    1.000000    1.000000    1.000000   \n",
       "\n",
       "            upset         mad     disgust       scare  ...    optimist  \\\n",
       "count  194.000000  194.000000  194.000000  194.000000  ...  194.000000   \n",
       "mean     0.211023    0.146708    0.069112    0.073537  ...    0.005155   \n",
       "std      0.257069    0.227959    0.165700    0.153340  ...    0.071796   \n",
       "min      0.000000    0.000000    0.000000    0.000000  ...    0.000000   \n",
       "25%      0.000000    0.000000    0.000000    0.000000  ...    0.000000   \n",
       "50%      0.099485    0.000000    0.000000    0.000000  ...    0.000000   \n",
       "75%      0.360070    0.209231    0.038793    0.064830  ...    0.000000   \n",
       "max      1.000000    1.000000    1.000000    1.000000  ...    1.000000   \n",
       "\n",
       "           pyscho      unknow       toung        tour       anrgi        sexi  \\\n",
       "count  194.000000  194.000000  194.000000  194.000000  194.000000  194.000000   \n",
       "mean     0.005155    0.005155    0.005155    0.005155    0.005155    0.005155   \n",
       "std      0.071796    0.071796    0.071796    0.071796    0.071796    0.071796   \n",
       "min      0.000000    0.000000    0.000000    0.000000    0.000000    0.000000   \n",
       "25%      0.000000    0.000000    0.000000    0.000000    0.000000    0.000000   \n",
       "50%      0.000000    0.000000    0.000000    0.000000    0.000000    0.000000   \n",
       "75%      0.000000    0.000000    0.000000    0.000000    0.000000    0.000000   \n",
       "max      1.000000    1.000000    1.000000    1.000000    1.000000    1.000000   \n",
       "\n",
       "            moodi      broken      schock  \n",
       "count  194.000000  194.000000  194.000000  \n",
       "mean     0.005155    0.005155    0.005155  \n",
       "std      0.071796    0.071796    0.071796  \n",
       "min      0.000000    0.000000    0.000000  \n",
       "25%      0.000000    0.000000    0.000000  \n",
       "50%      0.000000    0.000000    0.000000  \n",
       "75%      0.000000    0.000000    0.000000  \n",
       "max      1.000000    1.000000    1.000000  \n",
       "\n",
       "[8 rows x 880 columns]"
      ]
     },
     "execution_count": 503,
     "metadata": {},
     "output_type": "execute_result"
    }
   ],
   "source": [
    "X.describe() # mean  = 0, SD =1"
   ]
  },
  {
   "cell_type": "code",
   "execution_count": 504,
   "id": "d9e26c04-1e94-478a-877e-169ed4561b0c",
   "metadata": {},
   "outputs": [],
   "source": [
    "pca = decomposition.PCA(n_components=3)\n",
    "pca.fit(X)\n",
    "X_pca = pca.transform(X)"
   ]
  },
  {
   "cell_type": "code",
   "execution_count": 505,
   "id": "564ae72b-3ef8-46cc-9f15-a39d4bdfce3b",
   "metadata": {},
   "outputs": [],
   "source": [
    "def k_means(n_clusters=3, n_inits=20, max_iter=1000, features=X):\n",
    "    kmeans = KMeans(\n",
    "    init=\"k-means++\",\n",
    "    n_clusters=n_clusters,\n",
    "    n_init=n_inits,\n",
    "    max_iter=max_iter,\n",
    "    random_state=42)\n",
    "    kmeans.fit(features)\n",
    "    \n",
    "    return kmeans"
   ]
  },
  {
   "cell_type": "code",
   "execution_count": 506,
   "id": "50b49d62-c1c3-4296-bd04-246519944873",
   "metadata": {},
   "outputs": [],
   "source": [
    "kmeans_kwargs = {\n",
    "    \"init\": \"k-means++\",\n",
    "    \"n_init\": 20,\n",
    "    \"max_iter\": 1000,\n",
    "    \"random_state\": 42,\n",
    "}\n",
    "\n",
    "# A list holds the SSE values for each k\n",
    "sse_pca = []\n",
    "for k in range(1, 100):\n",
    "    kmeans = KMeans(n_clusters=k, **kmeans_kwargs)\n",
    "    kmeans.fit(X_pca)\n",
    "    sse_pca.append(kmeans.inertia_)"
   ]
  },
  {
   "cell_type": "code",
   "execution_count": 507,
   "id": "e1764635-e904-4351-88b5-e60e12937d94",
   "metadata": {},
   "outputs": [
    {
     "data": {
      "text/plain": [
       "10"
      ]
     },
     "execution_count": 507,
     "metadata": {},
     "output_type": "execute_result"
    }
   ],
   "source": [
    "kl_pca = KneeLocator(\n",
    "    range(1, 100), sse_pca, curve=\"convex\", direction=\"decreasing\"\n",
    ")\n",
    "\n",
    "kl_pca.elbow"
   ]
  },
  {
   "cell_type": "code",
   "execution_count": 508,
   "id": "316bf7ac-6845-4abe-a2dc-a4f90b93e1e2",
   "metadata": {},
   "outputs": [],
   "source": [
    "source = pd.DataFrame({'y': sse_pca, 'x': range(1, 100)})"
   ]
  },
  {
   "cell_type": "code",
   "execution_count": 509,
   "id": "95800159-b54a-4613-9223-00646d8e9807",
   "metadata": {},
   "outputs": [],
   "source": [
    "chart_elbow_pca = alt.Chart(source).mark_line().encode(\n",
    "    alt.X('x:Q', title='Number of clusters - PCA'), \n",
    "    alt.Y('y:Q', title='SSE'))"
   ]
  },
  {
   "cell_type": "code",
   "execution_count": 510,
   "id": "14896b89-71fb-4b99-acce-4e6c22f3b7ec",
   "metadata": {},
   "outputs": [],
   "source": [
    "# A list holds the silhouette coefficients for each k\n",
    "silhouette_coefficients_pca = []\n",
    "\n",
    "# Notice you start at 2 clusters for silhouette coefficient\n",
    "for k in range(2, 100):\n",
    "    kmeans = KMeans(n_clusters=k, **kmeans_kwargs)\n",
    "    kmeans.fit(X_pca)\n",
    "    score = silhouette_score(X_pca, kmeans.labels_)\n",
    "    silhouette_coefficients_pca.append(score)"
   ]
  },
  {
   "cell_type": "code",
   "execution_count": 511,
   "id": "460473ce-470d-4b1d-91d8-9d4dfa89354e",
   "metadata": {},
   "outputs": [],
   "source": [
    "source = pd.DataFrame({'y': silhouette_coefficients_pca, 'x': range(2, 100)})"
   ]
  },
  {
   "cell_type": "code",
   "execution_count": 512,
   "id": "21fdb62a-726d-4475-a743-3a1a68ecb3d4",
   "metadata": {},
   "outputs": [],
   "source": [
    "chart_silhouette_pca = alt.Chart(source).mark_line().encode(\n",
    "    alt.X('x:Q', title='Number of clusters - PCA'), \n",
    "    alt.Y('y:Q', title='Silhouette coefficients'))"
   ]
  },
  {
   "cell_type": "code",
   "execution_count": 513,
   "id": "157b9376-3611-4a74-8766-891c78f17d59",
   "metadata": {},
   "outputs": [],
   "source": [
    "k_means_eval_chart =  chart_silhouette_pca | chart_elbow_pca"
   ]
  },
  {
   "cell_type": "code",
   "execution_count": 514,
   "id": "c63fdb91-48d6-4209-a162-b1e787a7cdf3",
   "metadata": {},
   "outputs": [
    {
     "data": {
      "text/html": [
       "\n",
       "<div id=\"altair-viz-751e931138984300a344a39af10bfe79\"></div>\n",
       "<script type=\"text/javascript\">\n",
       "  (function(spec, embedOpt){\n",
       "    let outputDiv = document.currentScript.previousElementSibling;\n",
       "    if (outputDiv.id !== \"altair-viz-751e931138984300a344a39af10bfe79\") {\n",
       "      outputDiv = document.getElementById(\"altair-viz-751e931138984300a344a39af10bfe79\");\n",
       "    }\n",
       "    const paths = {\n",
       "      \"vega\": \"https://cdn.jsdelivr.net/npm//vega@5?noext\",\n",
       "      \"vega-lib\": \"https://cdn.jsdelivr.net/npm//vega-lib?noext\",\n",
       "      \"vega-lite\": \"https://cdn.jsdelivr.net/npm//vega-lite@4.8.1?noext\",\n",
       "      \"vega-embed\": \"https://cdn.jsdelivr.net/npm//vega-embed@6?noext\",\n",
       "    };\n",
       "\n",
       "    function loadScript(lib) {\n",
       "      return new Promise(function(resolve, reject) {\n",
       "        var s = document.createElement('script');\n",
       "        s.src = paths[lib];\n",
       "        s.async = true;\n",
       "        s.onload = () => resolve(paths[lib]);\n",
       "        s.onerror = () => reject(`Error loading script: ${paths[lib]}`);\n",
       "        document.getElementsByTagName(\"head\")[0].appendChild(s);\n",
       "      });\n",
       "    }\n",
       "\n",
       "    function showError(err) {\n",
       "      outputDiv.innerHTML = `<div class=\"error\" style=\"color:red;\">${err}</div>`;\n",
       "      throw err;\n",
       "    }\n",
       "\n",
       "    function displayChart(vegaEmbed) {\n",
       "      vegaEmbed(outputDiv, spec, embedOpt)\n",
       "        .catch(err => showError(`Javascript Error: ${err.message}<br>This usually means there's a typo in your chart specification. See the javascript console for the full traceback.`));\n",
       "    }\n",
       "\n",
       "    if(typeof define === \"function\" && define.amd) {\n",
       "      requirejs.config({paths});\n",
       "      require([\"vega-embed\"], displayChart, err => showError(`Error loading script: ${err.message}`));\n",
       "    } else if (typeof vegaEmbed === \"function\") {\n",
       "      displayChart(vegaEmbed);\n",
       "    } else {\n",
       "      loadScript(\"vega\")\n",
       "        .then(() => loadScript(\"vega-lite\"))\n",
       "        .then(() => loadScript(\"vega-embed\"))\n",
       "        .catch(showError)\n",
       "        .then(() => displayChart(vegaEmbed));\n",
       "    }\n",
       "  })({\"config\": {\"view\": {\"continuousWidth\": 400, \"continuousHeight\": 300}}, \"hconcat\": [{\"data\": {\"name\": \"data-12c6c4c55b27ff301c5af85d8d9882d9\"}, \"mark\": \"line\", \"encoding\": {\"x\": {\"type\": \"quantitative\", \"field\": \"x\", \"title\": \"Number of clusters - PCA\"}, \"y\": {\"type\": \"quantitative\", \"field\": \"y\", \"title\": \"Silhouette coefficients\"}}}, {\"data\": {\"name\": \"data-a12e50e446bd5c51375f0fe248aa2ed2\"}, \"mark\": \"line\", \"encoding\": {\"x\": {\"type\": \"quantitative\", \"field\": \"x\", \"title\": \"Number of clusters - PCA\"}, \"y\": {\"type\": \"quantitative\", \"field\": \"y\", \"title\": \"SSE\"}}}], \"$schema\": \"https://vega.github.io/schema/vega-lite/v4.8.1.json\", \"datasets\": {\"data-12c6c4c55b27ff301c5af85d8d9882d9\": [{\"y\": 0.325349678767525, \"x\": 2}, {\"y\": 0.3780405750030987, \"x\": 3}, {\"y\": 0.4745715066394167, \"x\": 4}, {\"y\": 0.3956199060760967, \"x\": 5}, {\"y\": 0.3702606269111347, \"x\": 6}, {\"y\": 0.3826820094863401, \"x\": 7}, {\"y\": 0.37258550039773225, \"x\": 8}, {\"y\": 0.36412514213934855, \"x\": 9}, {\"y\": 0.3602406699024218, \"x\": 10}, {\"y\": 0.3558642653880619, \"x\": 11}, {\"y\": 0.3508382872891079, \"x\": 12}, {\"y\": 0.3441831348830915, \"x\": 13}, {\"y\": 0.3330190134787568, \"x\": 14}, {\"y\": 0.3416614077042169, \"x\": 15}, {\"y\": 0.30532868651323175, \"x\": 16}, {\"y\": 0.3278646235068031, \"x\": 17}, {\"y\": 0.30992292622275475, \"x\": 18}, {\"y\": 0.30995663302672655, \"x\": 19}, {\"y\": 0.318555541725055, \"x\": 20}, {\"y\": 0.31292956437850084, \"x\": 21}, {\"y\": 0.30227192578941764, \"x\": 22}, {\"y\": 0.30776723312332693, \"x\": 23}, {\"y\": 0.3110459871392032, \"x\": 24}, {\"y\": 0.31249029752345775, \"x\": 25}, {\"y\": 0.3148032751439977, \"x\": 26}, {\"y\": 0.3131012897857357, \"x\": 27}, {\"y\": 0.3102449727019831, \"x\": 28}, {\"y\": 0.32446647308945276, \"x\": 29}, {\"y\": 0.3099557157731629, \"x\": 30}, {\"y\": 0.30878475165629604, \"x\": 31}, {\"y\": 0.32139570428847103, \"x\": 32}, {\"y\": 0.3065507074398225, \"x\": 33}, {\"y\": 0.32830550926670454, \"x\": 34}, {\"y\": 0.30476777495908264, \"x\": 35}, {\"y\": 0.3188170046764104, \"x\": 36}, {\"y\": 0.3154536560563329, \"x\": 37}, {\"y\": 0.3230532984695527, \"x\": 38}, {\"y\": 0.312866734301792, \"x\": 39}, {\"y\": 0.3143004356311843, \"x\": 40}, {\"y\": 0.3121986137969505, \"x\": 41}, {\"y\": 0.31715691140796126, \"x\": 42}, {\"y\": 0.3298588038208657, \"x\": 43}, {\"y\": 0.30958267056060607, \"x\": 44}, {\"y\": 0.30295734577635564, \"x\": 45}, {\"y\": 0.32953803446173785, \"x\": 46}, {\"y\": 0.31498648656955547, \"x\": 47}, {\"y\": 0.3242739822571089, \"x\": 48}, {\"y\": 0.3246432570298709, \"x\": 49}, {\"y\": 0.32581942809068515, \"x\": 50}, {\"y\": 0.31722310198092146, \"x\": 51}, {\"y\": 0.31701796417918504, \"x\": 52}, {\"y\": 0.31619942121783784, \"x\": 53}, {\"y\": 0.3103689816473918, \"x\": 54}, {\"y\": 0.31781938146973904, \"x\": 55}, {\"y\": 0.31282973964595856, \"x\": 56}, {\"y\": 0.31536099813936763, \"x\": 57}, {\"y\": 0.30511743829703575, \"x\": 58}, {\"y\": 0.31744112996200047, \"x\": 59}, {\"y\": 0.31675240016230044, \"x\": 60}, {\"y\": 0.29520444450491945, \"x\": 61}, {\"y\": 0.31630950835717564, \"x\": 62}, {\"y\": 0.3131565489536625, \"x\": 63}, {\"y\": 0.32756673348996224, \"x\": 64}, {\"y\": 0.30672828078123204, \"x\": 65}, {\"y\": 0.3094449054080951, \"x\": 66}, {\"y\": 0.2887487669826474, \"x\": 67}, {\"y\": 0.32525133302017484, \"x\": 68}, {\"y\": 0.3147372776286012, \"x\": 69}, {\"y\": 0.30817871248297213, \"x\": 70}, {\"y\": 0.3155378848037902, \"x\": 71}, {\"y\": 0.30218465459456667, \"x\": 72}, {\"y\": 0.3017461666671683, \"x\": 73}, {\"y\": 0.3102910259906162, \"x\": 74}, {\"y\": 0.31368696224197634, \"x\": 75}, {\"y\": 0.30686946513226593, \"x\": 76}, {\"y\": 0.312513579354492, \"x\": 77}, {\"y\": 0.3163989721645069, \"x\": 78}, {\"y\": 0.31581137324113673, \"x\": 79}, {\"y\": 0.3194778816968241, \"x\": 80}, {\"y\": 0.3108237383634265, \"x\": 81}, {\"y\": 0.31403399515668645, \"x\": 82}, {\"y\": 0.3019542160965391, \"x\": 83}, {\"y\": 0.3102772955952534, \"x\": 84}, {\"y\": 0.2988581181326511, \"x\": 85}, {\"y\": 0.30310834404972503, \"x\": 86}, {\"y\": 0.3125903375640094, \"x\": 87}, {\"y\": 0.2898325210934863, \"x\": 88}, {\"y\": 0.30548014471578283, \"x\": 89}, {\"y\": 0.3012416762184211, \"x\": 90}, {\"y\": 0.30829962038266984, \"x\": 91}, {\"y\": 0.29931507776432165, \"x\": 92}, {\"y\": 0.2899792974968498, \"x\": 93}, {\"y\": 0.29717470725770045, \"x\": 94}, {\"y\": 0.2897236634425914, \"x\": 95}, {\"y\": 0.3073114731346614, \"x\": 96}, {\"y\": 0.2908256592402331, \"x\": 97}, {\"y\": 0.2839300782187879, \"x\": 98}, {\"y\": 0.2822961940400206, \"x\": 99}], \"data-a12e50e446bd5c51375f0fe248aa2ed2\": [{\"y\": 236.7208446229157, \"x\": 1}, {\"y\": 168.66642514667998, \"x\": 2}, {\"y\": 108.86213162478951, \"x\": 3}, {\"y\": 61.201890739289176, \"x\": 4}, {\"y\": 51.39958866197919, \"x\": 5}, {\"y\": 45.391370572423526, \"x\": 6}, {\"y\": 39.80144491779508, \"x\": 7}, {\"y\": 34.576181381950164, \"x\": 8}, {\"y\": 30.514006829189963, \"x\": 9}, {\"y\": 27.778749429572674, \"x\": 10}, {\"y\": 25.96084120171194, \"x\": 11}, {\"y\": 23.9136983608266, \"x\": 12}, {\"y\": 22.808054361103018, \"x\": 13}, {\"y\": 21.323743648313496, \"x\": 14}, {\"y\": 19.89389755211319, \"x\": 15}, {\"y\": 19.36585082702829, \"x\": 16}, {\"y\": 18.065139185151786, \"x\": 17}, {\"y\": 17.323136244533295, \"x\": 18}, {\"y\": 16.47387786614221, \"x\": 19}, {\"y\": 15.550500881448599, \"x\": 20}, {\"y\": 15.061030181932189, \"x\": 21}, {\"y\": 14.290652921510489, \"x\": 22}, {\"y\": 13.722628235876597, \"x\": 23}, {\"y\": 13.355660747184757, \"x\": 24}, {\"y\": 12.6852814858817, \"x\": 25}, {\"y\": 12.297628975532499, \"x\": 26}, {\"y\": 11.78220081702139, \"x\": 27}, {\"y\": 11.125653360231938, \"x\": 28}, {\"y\": 10.7583428184464, \"x\": 29}, {\"y\": 10.72226493775813, \"x\": 30}, {\"y\": 10.314098455911898, \"x\": 31}, {\"y\": 9.689564645339429, \"x\": 32}, {\"y\": 9.372300861504835, \"x\": 33}, {\"y\": 9.246237912280371, \"x\": 34}, {\"y\": 8.932636173035382, \"x\": 35}, {\"y\": 8.700545851834613, \"x\": 36}, {\"y\": 8.370756931334789, \"x\": 37}, {\"y\": 8.147829841601052, \"x\": 38}, {\"y\": 7.934721856584601, \"x\": 39}, {\"y\": 7.650094295821849, \"x\": 40}, {\"y\": 7.531978150098103, \"x\": 41}, {\"y\": 7.193196681950754, \"x\": 42}, {\"y\": 6.93761770406733, \"x\": 43}, {\"y\": 6.813083671437047, \"x\": 44}, {\"y\": 6.72971551980891, \"x\": 45}, {\"y\": 6.422169298939812, \"x\": 46}, {\"y\": 6.42469894993134, \"x\": 47}, {\"y\": 6.044128550506835, \"x\": 48}, {\"y\": 5.888667287333005, \"x\": 49}, {\"y\": 5.67000202700586, \"x\": 50}, {\"y\": 5.652342674093118, \"x\": 51}, {\"y\": 5.432796287793971, \"x\": 52}, {\"y\": 5.304219473064507, \"x\": 53}, {\"y\": 5.091830516127786, \"x\": 54}, {\"y\": 5.0973571630912495, \"x\": 55}, {\"y\": 4.859881049858024, \"x\": 56}, {\"y\": 4.751336498928094, \"x\": 57}, {\"y\": 4.722750807031291, \"x\": 58}, {\"y\": 4.60981553577913, \"x\": 59}, {\"y\": 4.395061917006869, \"x\": 60}, {\"y\": 4.355895539421823, \"x\": 61}, {\"y\": 4.186592352622369, \"x\": 62}, {\"y\": 4.092133510469666, \"x\": 63}, {\"y\": 4.013213619849971, \"x\": 64}, {\"y\": 3.887425062258714, \"x\": 65}, {\"y\": 3.840873646188256, \"x\": 66}, {\"y\": 3.726529811966779, \"x\": 67}, {\"y\": 3.5200605678964427, \"x\": 68}, {\"y\": 3.55477767821101, \"x\": 69}, {\"y\": 3.396535681737117, \"x\": 70}, {\"y\": 3.344819915515612, \"x\": 71}, {\"y\": 3.2200421528068737, \"x\": 72}, {\"y\": 3.153423132447623, \"x\": 73}, {\"y\": 3.0868745241096023, \"x\": 74}, {\"y\": 2.962917252346891, \"x\": 75}, {\"y\": 2.8961893907024603, \"x\": 76}, {\"y\": 2.819309504201421, \"x\": 77}, {\"y\": 2.741600722581798, \"x\": 78}, {\"y\": 2.666626346907807, \"x\": 79}, {\"y\": 2.60413008024917, \"x\": 80}, {\"y\": 2.5272940476532626, \"x\": 81}, {\"y\": 2.42463275700892, \"x\": 82}, {\"y\": 2.3718882698211674, \"x\": 83}, {\"y\": 2.314826477574334, \"x\": 84}, {\"y\": 2.2604261241518704, \"x\": 85}, {\"y\": 2.1765871805860515, \"x\": 86}, {\"y\": 2.110066477630489, \"x\": 87}, {\"y\": 2.0777049236365785, \"x\": 88}, {\"y\": 2.0209024209501143, \"x\": 89}, {\"y\": 1.9569540312841942, \"x\": 90}, {\"y\": 1.8904262074902054, \"x\": 91}, {\"y\": 1.895289320818893, \"x\": 92}, {\"y\": 1.827288992205115, \"x\": 93}, {\"y\": 1.7183355911071867, \"x\": 94}, {\"y\": 1.7162020570345928, \"x\": 95}, {\"y\": 1.675477762276182, \"x\": 96}, {\"y\": 1.6433267474495286, \"x\": 97}, {\"y\": 1.6352172281665573, \"x\": 98}, {\"y\": 1.5540517771670779, \"x\": 99}]}}, {\"mode\": \"vega-lite\"});\n",
       "</script>"
      ],
      "text/plain": [
       "alt.HConcatChart(...)"
      ]
     },
     "execution_count": 514,
     "metadata": {},
     "output_type": "execute_result"
    }
   ],
   "source": [
    "k_means_eval_chart"
   ]
  },
  {
   "cell_type": "code",
   "execution_count": 515,
   "id": "5f5c2df7-24e5-480b-adc9-6aaf75da76ab",
   "metadata": {},
   "outputs": [],
   "source": [
    "k_means_eval_str = altair_saver.save(k_means_eval_chart, fmt='svg')\n",
    "image_title.append('K-means evaluation')\n",
    "svg_str.append(k_means_eval_str)"
   ]
  },
  {
   "cell_type": "code",
   "execution_count": null,
   "id": "530e19e3-5468-4c9b-ab35-0cb16f1834ab",
   "metadata": {},
   "outputs": [],
   "source": [
    "# k_means_run_pca = k_means(n_clusters=10, features=X_pca)"
   ]
  },
  {
   "cell_type": "code",
   "execution_count": null,
   "id": "b848ea40-41a4-4564-8cf8-9ed03e00f76c",
   "metadata": {},
   "outputs": [],
   "source": [
    "# df_label_raw['clusters_pca'] = k_means_run_pca.labels_"
   ]
  },
  {
   "cell_type": "code",
   "execution_count": null,
   "id": "a7d9ce47-1b3d-4d95-9015-3789fe5a13f5",
   "metadata": {},
   "outputs": [],
   "source": [
    "# dfs_kmeans_pca = [pd.DataFrame(y) for x, y in df_label_raw.groupby('clusters_pca', as_index=False)]"
   ]
  },
  {
   "cell_type": "code",
   "execution_count": null,
   "id": "44f6f403-b496-419a-98d0-47a0735931f2",
   "metadata": {},
   "outputs": [],
   "source": [
    "# ## add photo coordinates\n",
    "# for i in range(0, len(dfs_kmeans_pca)):\n",
    "#     num_items = len(dfs_kmeans_pca[i])\n",
    "#     dfs_kmeans_pca[i]['x'] = np.linspace(0.1, 3.0, num=num_items)\n",
    "#     dfs_kmeans_pca[i]['y'] = np.linspace(0.1, 3.0, num=num_items)"
   ]
  },
  {
   "cell_type": "code",
   "execution_count": null,
   "id": "d9ce26f4-c25b-44f0-b2dd-862101a95aa4",
   "metadata": {},
   "outputs": [],
   "source": [
    "# def grid_photos(dfs_kmeans=dfs_kmeans_pca, nx=6, ny=6, cluster=0, width=600, height=600,title='title'):\n",
    "    \n",
    "#     nx, ny = (nx, ny)\n",
    "#     x = np.linspace(0, 1, nx)\n",
    "#     y = np.linspace(0, 1, ny)\n",
    "#     xv, yv = np.meshgrid(x, y)\n",
    "    \n",
    "#     dfs_kmeans[cluster]['x'] = xv.ravel()[0:len(dfs_kmeans[cluster])]\n",
    "#     dfs_kmeans[cluster]['y'] = yv.ravel()[0:len(dfs_kmeans[cluster])]\n",
    "    \n",
    "#     chart = alt.Chart(dfs_kmeans[cluster], title=title).mark_image(\n",
    "#         width=50,\n",
    "#         height=50\n",
    "#     ).encode(\n",
    "#         alt.X('x', axis=None),\n",
    "#         alt.Y('y', axis=None),\n",
    "#         url='url'\n",
    "#     )\n",
    "    \n",
    "#     text = chart.mark_text(\n",
    "#     align='center',\n",
    "#     baseline='bottom',\n",
    "#     yOffset = -25\n",
    "#     ).encode(\n",
    "#         alt.Text('label'),\n",
    "#         color=alt.Color('label',\n",
    "#                         scale=alt.Scale(\n",
    "#                             domain=emotion_words_list,\n",
    "#                             range=['#ff4444', '#4c809c', '#9ae354', '#0000AA', '#FFA500', '#E4D00A', '#c41cac', '#50C878']))\n",
    "#     )\n",
    "    \n",
    "    \n",
    "#     return (chart + text).properties(width=width, height=height)"
   ]
  },
  {
   "cell_type": "code",
   "execution_count": null,
   "id": "d2bd2bd8-9700-4b9c-ad1a-c6a9a3ff2f51",
   "metadata": {},
   "outputs": [],
   "source": [
    "# dims_clusters = []\n",
    "# for i in range (0, 10):\n",
    "#     dims_clusters.append(dfs_kmeans_pca[i].shape[0])\n",
    "# dims_clusters"
   ]
  },
  {
   "cell_type": "code",
   "execution_count": null,
   "id": "7c46b3e3-9ffb-448e-868d-061eab1f9227",
   "metadata": {},
   "outputs": [],
   "source": [
    "cluster_0 = grid_photos(dfs_kmeans = dfs_kmeans_pca, nx=6, ny=6, cluster=0,  width=400, height=400, title='Cluster 1')\n",
    "cluster_1 = grid_photos(dfs_kmeans = dfs_kmeans_pca, nx=6, ny=6, cluster=1,  width=400, height=400, title='Cluster 2')\n",
    "cluster_2 = grid_photos(dfs_kmeans = dfs_kmeans_pca, nx=3, ny=3, cluster=2,  width=400, height=400, title='Cluster 3')\n",
    "cluster_3 = grid_photos(dfs_kmeans = dfs_kmeans_pca, nx=6, ny=6, cluster=3,  width=400, height=400, title='Cluster 4')\n",
    "cluster_4 = grid_photos(dfs_kmeans = dfs_kmeans_pca, nx=4, ny=4, cluster=4,  width=400, height=400, title='Cluster 5')\n",
    "cluster_5 = grid_photos(dfs_kmeans = dfs_kmeans_pca, nx=5, ny=5, cluster=5,  width=400, height=400, title='Cluster 6')\n",
    "cluster_6 = grid_photos(dfs_kmeans = dfs_kmeans_pca, nx=5, ny=5, cluster=6,  width=400, height=400, title='Cluster 7')\n",
    "cluster_7 = grid_photos(dfs_kmeans = dfs_kmeans_pca, nx=4, ny=4, cluster=7,  width=400, height=400, title='Cluster 8')\n",
    "cluster_8 = grid_photos(dfs_kmeans = dfs_kmeans_pca, nx=4, ny=4, cluster=8,  width=400, height=400, title='Cluster 9')\n",
    "cluster_9 = grid_photos(dfs_kmeans = dfs_kmeans_pca, nx=5, ny=5, cluster=9,  width=400, height=400, title='Cluster 10')\n",
    "# cluster_10 = grid_photos(dfs_kmeans = dfs_kmeans_pca, nx=4, ny=4, cluster=10,  width=300, height=300, title='Cluster 11')\n",
    "# cluster_11 = grid_photos(dfs_kmeans = dfs_kmeans_pca, nx=1, ny=1, cluster=11,  width=300, height=300, title='Cluster 12')"
   ]
  },
  {
   "cell_type": "code",
   "execution_count": null,
   "id": "5ed7922c-25c3-4338-bd6e-9cc0a7de9b59",
   "metadata": {},
   "outputs": [],
   "source": [
    "k_means_clusters = ((cluster_0 | cluster_1) & \\\n",
    "(cluster_2 | cluster_3) & \\\n",
    "(cluster_4 | cluster_5) & \\\n",
    "(cluster_6 | cluster_7) & \\\n",
    "(cluster_8 | cluster_9)).configure_axis(\n",
    "        grid=False\n",
    "    ).configure_view(\n",
    "        strokeOpacity=0\n",
    "    ).configure_concat(\n",
    "    spacing=50\n",
    ")"
   ]
  },
  {
   "cell_type": "code",
   "execution_count": null,
   "id": "74fc694e-66e4-4c62-8c97-2b0cc72d13c7",
   "metadata": {},
   "outputs": [],
   "source": [
    "k_means_clusters.display(renderer='svg')"
   ]
  },
  {
   "cell_type": "markdown",
   "id": "9ff262c8-5492-4d7c-9875-b5a81011f9a5",
   "metadata": {},
   "source": [
    "# Dataframe for dashboard"
   ]
  },
  {
   "cell_type": "code",
   "execution_count": 516,
   "id": "705d64a6-a002-495b-bcee-0d00a1afc2c2",
   "metadata": {},
   "outputs": [],
   "source": [
    "images_strings = pd.DataFrame({'image_title': image_title, 'svg': svg_str})"
   ]
  },
  {
   "cell_type": "code",
   "execution_count": 517,
   "id": "fc6b220b-83b4-493b-b965-b3238933f95c",
   "metadata": {},
   "outputs": [],
   "source": [
    "images_strings.to_csv('../clean_data/free_choice_svg_strings.csv', index=False)\n",
    "images_strings.to_csv('../../emotions_dashboard/data/free_choice_svg_strings.csv', index=False)"
   ]
  },
  {
   "cell_type": "code",
   "execution_count": 518,
   "id": "d3fb4705-2200-4fcf-ba20-ecff9de7050e",
   "metadata": {},
   "outputs": [],
   "source": [
    "df_svg = pd.read_csv('../clean_data/free_choice_svg_strings.csv')"
   ]
  },
  {
   "cell_type": "code",
   "execution_count": 519,
   "id": "2e6a8e16-6cf3-4db6-a33d-e061a32d4248",
   "metadata": {},
   "outputs": [
    {
     "data": {
      "text/plain": [
       "0                            Participants by sex\n",
       "1                            Participants by age\n",
       "2                      Participants by ethnicity\n",
       "3               Participants by formal education\n",
       "4         Overall results by expected label as %\n",
       "5     Overall results by expected label as count\n",
       "6                       Images depicting 'anger'\n",
       "7                     Images depicting 'disgust'\n",
       "8                        Images depicting 'fear'\n",
       "9                    Images depicting 'surprise'\n",
       "10                  Images depicting 'happiness'\n",
       "11                    Images depicting 'sadness'\n",
       "12        Images depicting 'uncertain (unknown)'\n",
       "13                    Images depicting 'neutral'\n",
       "14                          'anger' by ethnicity\n",
       "15                        'disgust' by ethnicity\n",
       "16                           'fear' by ethnicity\n",
       "17                       'surprise' by ethnicity\n",
       "18                      'happiness' by ethnicity\n",
       "19                        'sadness' by ethnicity\n",
       "20                        'neutral' by ethnicity\n",
       "21                      'uncertain' by ethnicity\n",
       "22                            K-means evaluation\n",
       "Name: image_title, dtype: object"
      ]
     },
     "execution_count": 519,
     "metadata": {},
     "output_type": "execute_result"
    }
   ],
   "source": [
    "df_svg['image_title']"
   ]
  }
 ],
 "metadata": {
  "interpreter": {
   "hash": "0353e939db601dafb04d2c079fe964b10a82a41961934d9a2462ee642708624d"
  },
  "kernelspec": {
   "display_name": "Python 3 (ipykernel)",
   "language": "python",
   "name": "python3"
  },
  "language_info": {
   "codemirror_mode": {
    "name": "ipython",
    "version": 3
   },
   "file_extension": ".py",
   "mimetype": "text/x-python",
   "name": "python",
   "nbconvert_exporter": "python",
   "pygments_lexer": "ipython3",
   "version": "3.9.7"
  }
 },
 "nbformat": 4,
 "nbformat_minor": 5
}
