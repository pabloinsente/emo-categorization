{
 "cells": [
  {
   "cell_type": "code",
   "execution_count": 1,
   "id": "7f401dc1",
   "metadata": {},
   "outputs": [
    {
     "name": "stderr",
     "output_type": "stream",
     "text": [
      "Warning message:\n",
      "“package ‘rstatix’ was built under R version 4.0.3”\n",
      "\n",
      "Attaching package: ‘rstatix’\n",
      "\n",
      "\n",
      "The following object is masked from ‘package:stats’:\n",
      "\n",
      "    filter\n",
      "\n",
      "\n",
      "Warning message:\n",
      "“package ‘readr’ was built under R version 4.0.5”\n",
      "Warning message:\n",
      "“package ‘afex’ was built under R version 4.0.5”\n",
      "Loading required package: lme4\n",
      "\n",
      "Warning message:\n",
      "“package ‘lme4’ was built under R version 4.0.5”\n",
      "Loading required package: Matrix\n",
      "\n",
      "Warning message:\n",
      "“package ‘Matrix’ was built under R version 4.0.5”\n",
      "************\n",
      "Welcome to afex. For support visit: http://afex.singmann.science/\n",
      "\n",
      "- Functions for ANOVAs: aov_car(), aov_ez(), and aov_4()\n",
      "- Methods for calculating p-values with mixed(): 'S', 'KR', 'LRT', and 'PB'\n",
      "- 'afex_aov' and 'mixed' objects can be passed to emmeans() for follow-up tests\n",
      "- NEWS: emmeans() for ANOVA models now uses model = 'multivariate' as default.\n",
      "- Get and set global package options with: afex_options()\n",
      "- Set orthogonal sum-to-zero contrasts globally: set_sum_contrasts()\n",
      "- For example analyses see: browseVignettes(\"afex\")\n",
      "************\n",
      "\n",
      "\n",
      "Attaching package: ‘afex’\n",
      "\n",
      "\n",
      "The following object is masked from ‘package:lme4’:\n",
      "\n",
      "    lmer\n",
      "\n",
      "\n",
      "Warning message:\n",
      "“package ‘performance’ was built under R version 4.0.5”\n",
      "Warning message:\n",
      "“package ‘optimx’ was built under R version 4.0.5”\n",
      "Warning message:\n",
      "“package ‘minqa’ was built under R version 4.0.3”\n",
      "Warning message:\n",
      "“package ‘ggpubr’ was built under R version 4.0.5”\n",
      "Loading required package: ggplot2\n",
      "\n",
      "Warning message:\n",
      "“package ‘ggplot2’ was built under R version 4.0.5”\n"
     ]
    }
   ],
   "source": [
    "library(rstatix)\n",
    "library(readr)\n",
    "# library(lme4)\n",
    "library(afex)\n",
    "library(performance)\n",
    "library(RCurl)\n",
    "library(optimx)\n",
    "library(parallel)\n",
    "library(minqa)\n",
    "library(ggpubr)\n",
    "library(ez) \n",
    "# https://github.com/mike-lawrence/ez"
   ]
  },
  {
   "cell_type": "code",
   "execution_count": 2,
   "id": "3aa961b0",
   "metadata": {},
   "outputs": [
    {
     "name": "stderr",
     "output_type": "stream",
     "text": [
      "\n",
      "\u001b[36m──\u001b[39m \u001b[1m\u001b[1mColumn specification\u001b[1m\u001b[22m \u001b[36m──────────────────────────────────────────────────────────────────────────────────────\u001b[39m\n",
      "cols(\n",
      "  participantId = \u001b[32mcol_double()\u001b[39m,\n",
      "  photoId = \u001b[31mcol_character()\u001b[39m,\n",
      "  emotion = \u001b[31mcol_character()\u001b[39m,\n",
      "  ethnicity = \u001b[31mcol_character()\u001b[39m,\n",
      "  sex = \u001b[31mcol_character()\u001b[39m,\n",
      "  age = \u001b[31mcol_character()\u001b[39m,\n",
      "  label = \u001b[31mcol_character()\u001b[39m,\n",
      "  url = \u001b[31mcol_character()\u001b[39m,\n",
      "  sentimentScore = \u001b[32mcol_double()\u001b[39m,\n",
      "  sexC = \u001b[32mcol_double()\u001b[39m,\n",
      "  ageC = \u001b[32mcol_double()\u001b[39m,\n",
      "  ethnicityC = \u001b[32mcol_double()\u001b[39m\n",
      ")\n",
      "\n",
      "\n"
     ]
    }
   ],
   "source": [
    "df = read_csv(\"../clean_data/forced_choice_emotion_uw_students_long_format_lmer.csv\")"
   ]
  },
  {
   "cell_type": "markdown",
   "id": "a2593d5b",
   "metadata": {},
   "source": [
    "# LMER"
   ]
  },
  {
   "cell_type": "markdown",
   "id": "b6465f98",
   "metadata": {},
   "source": [
    "## Run model with Nelder-Mead opt"
   ]
  },
  {
   "cell_type": "code",
   "execution_count": 4,
   "id": "86fc9a94",
   "metadata": {},
   "outputs": [
    {
     "name": "stderr",
     "output_type": "stream",
     "text": [
      "Warning message in checkConv(attr(opt, \"derivs\"), opt$par, ctrl = control$checkConv, :\n",
      "“Model failed to converge with max|grad| = 0.0833579 (tol = 0.002, component 1)”\n"
     ]
    },
    {
     "data": {
      "text/plain": [
       "Linear mixed model fit by maximum likelihood . t-tests use Satterthwaite's\n",
       "  method [lmerModLmerTest]\n",
       "Formula: sentimentScore ~ 1 + sexC * ethnicityC + (1 + sexC * ethnicityC |  \n",
       "    participantId)\n",
       "   Data: df\n",
       "Control: lmerControl(optimizer = \"Nelder_Mead\")\n",
       "\n",
       "     AIC      BIC   logLik deviance df.resid \n",
       " 10453.6  10561.5  -5211.8  10423.6     9777 \n",
       "\n",
       "Scaled residuals: \n",
       "    Min      1Q  Median      3Q     Max \n",
       "-1.2719 -0.9327  0.1997  0.9007  1.7652 \n",
       "\n",
       "Random effects:\n",
       " Groups        Name            Variance  Std.Dev.  Corr             \n",
       " participantId (Intercept)     5.006e-04 0.0223734                  \n",
       "               sexC            1.391e-06 0.0011792 -1.00            \n",
       "               ethnicityC      7.550e-07 0.0008689 -0.99  0.99      \n",
       "               sexC:ethnicityC 6.703e-06 0.0025890  0.86 -0.86 -0.84\n",
       " Residual                      1.694e-01 0.4115362                  \n",
       "Number of obs: 9792, groups:  participantId, 51\n",
       "\n",
       "Fixed effects:\n",
       "                  Estimate Std. Error         df t value Pr(>|t|)    \n",
       "(Intercept)     -1.153e-01  5.207e-03  5.106e+01 -22.149  < 2e-16 ***\n",
       "sexC            -1.602e-02  8.319e-03  8.130e+03  -1.925  0.05426 .  \n",
       "ethnicityC       2.871e-02  8.319e-03  8.805e+03   3.451  0.00056 ***\n",
       "sexC:ethnicityC  4.087e-02  1.664e-02  7.666e+03   2.456  0.01407 *  \n",
       "---\n",
       "Signif. codes:  0 ‘***’ 0.001 ‘**’ 0.01 ‘*’ 0.05 ‘.’ 0.1 ‘ ’ 1\n",
       "\n",
       "Correlation of Fixed Effects:\n",
       "            (Intr) sexC   ethncC\n",
       "sexC        -0.012              \n",
       "ethnicityC  -0.009  0.000       \n",
       "sxC:thnctyC  0.011  0.000  0.000\n",
       "optimizer (Nelder_Mead) convergence code: 0 (OK)\n",
       "Model failed to converge with max|grad| = 0.0833579 (tol = 0.002, component 1)\n"
      ]
     },
     "metadata": {},
     "output_type": "display_data"
    }
   ],
   "source": [
    "lmer_fc_uw = lmer(sentimentScore ~ 1 + sexC*ethnicityC + (1 + sexC*ethnicityC|participantId), data = df, REML = FALSE, \n",
    "          control = lmerControl(optimizer =\"Nelder_Mead\"))\n",
    "summary(lmer_fc_uw)"
   ]
  },
  {
   "cell_type": "markdown",
   "id": "fcdd98ce",
   "metadata": {},
   "source": [
    "## Check collinearity"
   ]
  },
  {
   "cell_type": "code",
   "execution_count": 5,
   "id": "40c0fda2",
   "metadata": {},
   "outputs": [
    {
     "data": {
      "text/html": [
       "<table class=\"dataframe\">\n",
       "<caption>A check_collinearity: 3 × 3</caption>\n",
       "<thead>\n",
       "\t<tr><th></th><th scope=col>Term</th><th scope=col>VIF</th><th scope=col>SE_factor</th></tr>\n",
       "\t<tr><th></th><th scope=col>&lt;chr&gt;</th><th scope=col>&lt;dbl&gt;</th><th scope=col>&lt;dbl&gt;</th></tr>\n",
       "</thead>\n",
       "<tbody>\n",
       "\t<tr><th scope=row>1</th><td>sexC           </td><td>1</td><td>1</td></tr>\n",
       "\t<tr><th scope=row>2</th><td>ethnicityC     </td><td>1</td><td>1</td></tr>\n",
       "\t<tr><th scope=row>3</th><td>sexC:ethnicityC</td><td>1</td><td>1</td></tr>\n",
       "</tbody>\n",
       "</table>\n"
      ],
      "text/latex": [
       "A check\\_collinearity: 3 × 3\n",
       "\\begin{tabular}{r|lll}\n",
       "  & Term & VIF & SE\\_factor\\\\\n",
       "  & <chr> & <dbl> & <dbl>\\\\\n",
       "\\hline\n",
       "\t1 & sexC            & 1 & 1\\\\\n",
       "\t2 & ethnicityC      & 1 & 1\\\\\n",
       "\t3 & sexC:ethnicityC & 1 & 1\\\\\n",
       "\\end{tabular}\n"
      ],
      "text/markdown": [
       "\n",
       "A check_collinearity: 3 × 3\n",
       "\n",
       "| <!--/--> | Term &lt;chr&gt; | VIF &lt;dbl&gt; | SE_factor &lt;dbl&gt; |\n",
       "|---|---|---|---|\n",
       "| 1 | sexC            | 1 | 1 |\n",
       "| 2 | ethnicityC      | 1 | 1 |\n",
       "| 3 | sexC:ethnicityC | 1 | 1 |\n",
       "\n"
      ],
      "text/plain": [
       "  Term            VIF SE_factor\n",
       "1 sexC            1   1        \n",
       "2 ethnicityC      1   1        \n",
       "3 sexC:ethnicityC 1   1        "
      ]
     },
     "metadata": {},
     "output_type": "display_data"
    }
   ],
   "source": [
    "check_collinearity(lmer_fc_uw)"
   ]
  },
  {
   "cell_type": "code",
   "execution_count": 6,
   "id": "e8d1e45e",
   "metadata": {},
   "outputs": [
    {
     "data": {
      "image/png": "[encoded data removed]",
      "text/plain": [
       "plot without title"
      ]
     },
     "metadata": {
      "image/png": {
       "height": 420,
       "width": 420
      }
     },
     "output_type": "display_data"
    }
   ],
   "source": [
    "plot(check_collinearity(lmer_fc_uw))"
   ]
  },
  {
   "cell_type": "markdown",
   "id": "741323ce",
   "metadata": {},
   "source": [
    "## Check singularity"
   ]
  },
  {
   "cell_type": "code",
   "execution_count": 7,
   "id": "eda999e1",
   "metadata": {},
   "outputs": [
    {
     "data": {
      "text/html": [
       "0.000128365022550146"
      ],
      "text/latex": [
       "0.000128365022550146"
      ],
      "text/markdown": [
       "0.000128365022550146"
      ],
      "text/plain": [
       "[1] 0.000128365"
      ]
     },
     "metadata": {},
     "output_type": "display_data"
    }
   ],
   "source": [
    "# https://rstudio-pubs-static.s3.amazonaws.com/33653_57fc7b8e5d484c909b615d8633c01d51.html\n",
    "tt = getME(lmer_fc_uw,\"theta\")\n",
    "ll = getME(lmer_fc_uw,\"lower\")\n",
    "tt_value = min(tt[ll==0])\n",
    "tt_value"
   ]
  },
  {
   "cell_type": "code",
   "execution_count": 8,
   "id": "85df3749",
   "metadata": {},
   "outputs": [
    {
     "data": {
      "text/html": [
       "FALSE"
      ],
      "text/latex": [
       "FALSE"
      ],
      "text/markdown": [
       "FALSE"
      ],
      "text/plain": [
       "[1] FALSE"
      ]
     },
     "metadata": {},
     "output_type": "display_data"
    }
   ],
   "source": [
    "tt_value < 0.000001\n",
    "# not a problem, problably a false positive"
   ]
  },
  {
   "cell_type": "code",
   "execution_count": 100,
   "id": "dfb263f0",
   "metadata": {},
   "outputs": [
    {
     "data": {
      "text/html": [
       "FALSE"
      ],
      "text/latex": [
       "FALSE"
      ],
      "text/markdown": [
       "FALSE"
      ],
      "text/plain": [
       "[1] FALSE"
      ]
     },
     "metadata": {},
     "output_type": "display_data"
    }
   ],
   "source": [
    "theta <- getME(lmer_fc_uw,\"theta\")\n",
    "## diagonal elements are identifiable because they are fitted\n",
    "##  with a lower bound of zero ...\n",
    "diag.element <- getME(lmer_fc_uw,\"lower\")==0\n",
    "any(theta[diag.element]<1e-5)"
   ]
  },
  {
   "cell_type": "markdown",
   "id": "bed94f48",
   "metadata": {},
   "source": [
    "## Testing multiple optimizers\n"
   ]
  },
  {
   "cell_type": "code",
   "execution_count": 10,
   "id": "bf98970d",
   "metadata": {},
   "outputs": [
    {
     "name": "stderr",
     "output_type": "stream",
     "text": [
      "boundary (singular) fit: see ?isSingular\n",
      "\n"
     ]
    }
   ],
   "source": [
    "lmer_fc_uw_m = lmer(sentimentScore ~ 1 + sexC*ethnicityC + (1 + sexC*ethnicityC|participantId), data = df)"
   ]
  },
  {
   "cell_type": "code",
   "execution_count": 11,
   "id": "272d7cf1",
   "metadata": {},
   "outputs": [
    {
     "name": "stderr",
     "output_type": "stream",
     "text": [
      "Loading required namespace: dfoptim\n",
      "\n"
     ]
    }
   ],
   "source": [
    "ncores <- detectCores()\n",
    "diff_optims <- allFit(lmer_fc_uw_m, maxfun = 1e5, parallel = 'multicore', ncpus = ncores)"
   ]
  },
  {
   "cell_type": "code",
   "execution_count": 12,
   "id": "e4668261",
   "metadata": {},
   "outputs": [
    {
     "data": {
      "text/html": [
       "<dl>\n",
       "\t<dt>$bobyqa</dt>\n",
       "\t\t<dd>'boundary (singular) fit: see ?isSingular'</dd>\n",
       "\t<dt>$Nelder_Mead</dt>\n",
       "\t\t<dd>'boundary (singular) fit: see ?isSingular'</dd>\n",
       "\t<dt>$nlminbwrap</dt>\n",
       "\t\t<dd>'boundary (singular) fit: see ?isSingular'</dd>\n",
       "\t<dt>$`optimx.L-BFGS-B`</dt>\n",
       "\t\t<dd>'boundary (singular) fit: see ?isSingular'</dd>\n",
       "\t<dt>$nloptwrap.NLOPT_LN_NELDERMEAD</dt>\n",
       "\t\t<dd>'boundary (singular) fit: see ?isSingular'</dd>\n",
       "\t<dt>$nloptwrap.NLOPT_LN_BOBYQA</dt>\n",
       "\t\t<dd>'boundary (singular) fit: see ?isSingular'</dd>\n",
       "</dl>\n"
      ],
      "text/latex": [
       "\\begin{description}\n",
       "\\item[\\$bobyqa] 'boundary (singular) fit: see ?isSingular'\n",
       "\\item[\\$Nelder\\_Mead] 'boundary (singular) fit: see ?isSingular'\n",
       "\\item[\\$nlminbwrap] 'boundary (singular) fit: see ?isSingular'\n",
       "\\item[\\$`optimx.L-BFGS-B`] 'boundary (singular) fit: see ?isSingular'\n",
       "\\item[\\$nloptwrap.NLOPT\\_LN\\_NELDERMEAD] 'boundary (singular) fit: see ?isSingular'\n",
       "\\item[\\$nloptwrap.NLOPT\\_LN\\_BOBYQA] 'boundary (singular) fit: see ?isSingular'\n",
       "\\end{description}\n"
      ],
      "text/markdown": [
       "$bobyqa\n",
       ":   'boundary (singular) fit: see ?isSingular'\n",
       "$Nelder_Mead\n",
       ":   'boundary (singular) fit: see ?isSingular'\n",
       "$nlminbwrap\n",
       ":   'boundary (singular) fit: see ?isSingular'\n",
       "$`optimx.L-BFGS-B`\n",
       ":   'boundary (singular) fit: see ?isSingular'\n",
       "$nloptwrap.NLOPT_LN_NELDERMEAD\n",
       ":   'boundary (singular) fit: see ?isSingular'\n",
       "$nloptwrap.NLOPT_LN_BOBYQA\n",
       ":   'boundary (singular) fit: see ?isSingular'\n",
       "\n",
       "\n"
      ],
      "text/plain": [
       "$bobyqa\n",
       "[1] \"boundary (singular) fit: see ?isSingular\"\n",
       "\n",
       "$Nelder_Mead\n",
       "[1] \"boundary (singular) fit: see ?isSingular\"\n",
       "\n",
       "$nlminbwrap\n",
       "[1] \"boundary (singular) fit: see ?isSingular\"\n",
       "\n",
       "$`optimx.L-BFGS-B`\n",
       "[1] \"boundary (singular) fit: see ?isSingular\"\n",
       "\n",
       "$nloptwrap.NLOPT_LN_NELDERMEAD\n",
       "[1] \"boundary (singular) fit: see ?isSingular\"\n",
       "\n",
       "$nloptwrap.NLOPT_LN_BOBYQA\n",
       "[1] \"boundary (singular) fit: see ?isSingular\"\n"
      ]
     },
     "metadata": {},
     "output_type": "display_data"
    }
   ],
   "source": [
    "is.OK <- sapply(diff_optims, is, \"merMod\")\n",
    "diff_optims.OK <- diff_optims[is.OK]\n",
    "lapply(diff_optims.OK,function(x) x@optinfo$conv$lme4$messages)"
   ]
  },
  {
   "cell_type": "code",
   "execution_count": 13,
   "id": "ee85d7d7",
   "metadata": {},
   "outputs": [
    {
     "data": {
      "text/html": [
       "<style>\n",
       ".dl-inline {width: auto; margin:0; padding: 0}\n",
       ".dl-inline>dt, .dl-inline>dd {float: none; width: auto; display: inline-block}\n",
       ".dl-inline>dt::after {content: \":\\0020\"; padding-right: .5ex}\n",
       ".dl-inline>dt:not(:first-of-type) {padding-left: .5ex}\n",
       "</style><dl class=dl-inline><dt>Nelder_Mead</dt><dd>-5227.06769100075</dd><dt>nloptwrap.NLOPT_LN_BOBYQA</dt><dd>-5227.06769032234</dd><dt>optimx.L-BFGS-B</dt><dd>-5227.06768912943</dd><dt>nloptwrap.NLOPT_LN_NELDERMEAD</dt><dd>-5227.06768892215</dd><dt>bobyqa</dt><dd>-5227.06768891527</dd><dt>nlminbwrap</dt><dd>-5227.06768891516</dd></dl>\n"
      ],
      "text/latex": [
       "\\begin{description*}\n",
       "\\item[Nelder\\textbackslash{}\\_Mead] -5227.06769100075\n",
       "\\item[nloptwrap.NLOPT\\textbackslash{}\\_LN\\textbackslash{}\\_BOBYQA] -5227.06769032234\n",
       "\\item[optimx.L-BFGS-B] -5227.06768912943\n",
       "\\item[nloptwrap.NLOPT\\textbackslash{}\\_LN\\textbackslash{}\\_NELDERMEAD] -5227.06768892215\n",
       "\\item[bobyqa] -5227.06768891527\n",
       "\\item[nlminbwrap] -5227.06768891516\n",
       "\\end{description*}\n"
      ],
      "text/markdown": [
       "Nelder_Mead\n",
       ":   -5227.06769100075nloptwrap.NLOPT_LN_BOBYQA\n",
       ":   -5227.06769032234optimx.L-BFGS-B\n",
       ":   -5227.06768912943nloptwrap.NLOPT_LN_NELDERMEAD\n",
       ":   -5227.06768892215bobyqa\n",
       ":   -5227.06768891527nlminbwrap\n",
       ":   -5227.06768891516\n",
       "\n"
      ],
      "text/plain": [
       "                  Nelder_Mead     nloptwrap.NLOPT_LN_BOBYQA \n",
       "                    -5227.068                     -5227.068 \n",
       "              optimx.L-BFGS-B nloptwrap.NLOPT_LN_NELDERMEAD \n",
       "                    -5227.068                     -5227.068 \n",
       "                       bobyqa                    nlminbwrap \n",
       "                    -5227.068                     -5227.068 "
      ]
     },
     "metadata": {},
     "output_type": "display_data"
    }
   ],
   "source": [
    "(lliks <- sort(sapply(diff_optims.OK,logLik)))"
   ]
  },
  {
   "cell_type": "markdown",
   "id": "d135a3c4",
   "metadata": {},
   "source": [
    "# Three-way Anova"
   ]
  },
  {
   "cell_type": "markdown",
   "id": "b5e24a68",
   "metadata": {},
   "source": [
    "## Descriptives"
   ]
  },
  {
   "cell_type": "code",
   "execution_count": 17,
   "id": "76fb305a",
   "metadata": {},
   "outputs": [
    {
     "data": {
      "text/html": [
       "<table class=\"dataframe\">\n",
       "<caption>A tibble: 8 × 7</caption>\n",
       "<thead>\n",
       "\t<tr><th scope=col>ethnicity</th><th scope=col>sex</th><th scope=col>age</th><th scope=col>variable</th><th scope=col>n</th><th scope=col>mean</th><th scope=col>sd</th></tr>\n",
       "\t<tr><th scope=col>&lt;chr&gt;</th><th scope=col>&lt;chr&gt;</th><th scope=col>&lt;chr&gt;</th><th scope=col>&lt;chr&gt;</th><th scope=col>&lt;dbl&gt;</th><th scope=col>&lt;dbl&gt;</th><th scope=col>&lt;dbl&gt;</th></tr>\n",
       "</thead>\n",
       "<tbody>\n",
       "\t<tr><td>bipoc</td><td>female</td><td>adult</td><td>sentimentScore</td><td>1224</td><td>-0.134</td><td>0.417</td></tr>\n",
       "\t<tr><td>bipoc</td><td>female</td><td>child</td><td>sentimentScore</td><td>1224</td><td>-0.089</td><td>0.418</td></tr>\n",
       "\t<tr><td>bipoc</td><td>male  </td><td>adult</td><td>sentimentScore</td><td>1224</td><td>-0.175</td><td>0.406</td></tr>\n",
       "\t<tr><td>bipoc</td><td>male  </td><td>child</td><td>sentimentScore</td><td>1224</td><td>-0.121</td><td>0.416</td></tr>\n",
       "\t<tr><td>white</td><td>female</td><td>adult</td><td>sentimentScore</td><td>1224</td><td>-0.118</td><td>0.410</td></tr>\n",
       "\t<tr><td>white</td><td>female</td><td>child</td><td>sentimentScore</td><td>1224</td><td>-0.089</td><td>0.412</td></tr>\n",
       "\t<tr><td>white</td><td>male  </td><td>adult</td><td>sentimentScore</td><td>1224</td><td>-0.094</td><td>0.395</td></tr>\n",
       "\t<tr><td>white</td><td>male  </td><td>child</td><td>sentimentScore</td><td>1224</td><td>-0.104</td><td>0.420</td></tr>\n",
       "</tbody>\n",
       "</table>\n"
      ],
      "text/latex": [
       "A tibble: 8 × 7\n",
       "\\begin{tabular}{lllllll}\n",
       " ethnicity & sex & age & variable & n & mean & sd\\\\\n",
       " <chr> & <chr> & <chr> & <chr> & <dbl> & <dbl> & <dbl>\\\\\n",
       "\\hline\n",
       "\t bipoc & female & adult & sentimentScore & 1224 & -0.134 & 0.417\\\\\n",
       "\t bipoc & female & child & sentimentScore & 1224 & -0.089 & 0.418\\\\\n",
       "\t bipoc & male   & adult & sentimentScore & 1224 & -0.175 & 0.406\\\\\n",
       "\t bipoc & male   & child & sentimentScore & 1224 & -0.121 & 0.416\\\\\n",
       "\t white & female & adult & sentimentScore & 1224 & -0.118 & 0.410\\\\\n",
       "\t white & female & child & sentimentScore & 1224 & -0.089 & 0.412\\\\\n",
       "\t white & male   & adult & sentimentScore & 1224 & -0.094 & 0.395\\\\\n",
       "\t white & male   & child & sentimentScore & 1224 & -0.104 & 0.420\\\\\n",
       "\\end{tabular}\n"
      ],
      "text/markdown": [
       "\n",
       "A tibble: 8 × 7\n",
       "\n",
       "| ethnicity &lt;chr&gt; | sex &lt;chr&gt; | age &lt;chr&gt; | variable &lt;chr&gt; | n &lt;dbl&gt; | mean &lt;dbl&gt; | sd &lt;dbl&gt; |\n",
       "|---|---|---|---|---|---|---|\n",
       "| bipoc | female | adult | sentimentScore | 1224 | -0.134 | 0.417 |\n",
       "| bipoc | female | child | sentimentScore | 1224 | -0.089 | 0.418 |\n",
       "| bipoc | male   | adult | sentimentScore | 1224 | -0.175 | 0.406 |\n",
       "| bipoc | male   | child | sentimentScore | 1224 | -0.121 | 0.416 |\n",
       "| white | female | adult | sentimentScore | 1224 | -0.118 | 0.410 |\n",
       "| white | female | child | sentimentScore | 1224 | -0.089 | 0.412 |\n",
       "| white | male   | adult | sentimentScore | 1224 | -0.094 | 0.395 |\n",
       "| white | male   | child | sentimentScore | 1224 | -0.104 | 0.420 |\n",
       "\n"
      ],
      "text/plain": [
       "  ethnicity sex    age   variable       n    mean   sd   \n",
       "1 bipoc     female adult sentimentScore 1224 -0.134 0.417\n",
       "2 bipoc     female child sentimentScore 1224 -0.089 0.418\n",
       "3 bipoc     male   adult sentimentScore 1224 -0.175 0.406\n",
       "4 bipoc     male   child sentimentScore 1224 -0.121 0.416\n",
       "5 white     female adult sentimentScore 1224 -0.118 0.410\n",
       "6 white     female child sentimentScore 1224 -0.089 0.412\n",
       "7 white     male   adult sentimentScore 1224 -0.094 0.395\n",
       "8 white     male   child sentimentScore 1224 -0.104 0.420"
      ]
     },
     "metadata": {},
     "output_type": "display_data"
    }
   ],
   "source": [
    "df %>%\n",
    "  group_by(ethnicity, sex, age) %>%\n",
    "  get_summary_stats(sentimentScore, type = \"mean_sd\")"
   ]
  },
  {
   "cell_type": "code",
   "execution_count": 14,
   "id": "4b469038",
   "metadata": {},
   "outputs": [
    {
     "data": {
      "image/png": "[encoded data removed]",
      "text/plain": [
       "plot without title"
      ]
     },
     "metadata": {
      "image/png": {
       "height": 420,
       "width": 420
      }
     },
     "output_type": "display_data"
    }
   ],
   "source": [
    "bxp <- ggboxplot(\n",
    "  df, x = \"ethnicity\", y = \"sentimentScore\",\n",
    "  color = \"sex\", palette = \"jco\",\n",
    "  facet.by = \"age\", short.panel.labs = FALSE\n",
    "  )\n",
    "bxp"
   ]
  },
  {
   "cell_type": "markdown",
   "id": "dec69cc4",
   "metadata": {},
   "source": [
    "## Check assumptions"
   ]
  },
  {
   "cell_type": "markdown",
   "id": "449a89d5",
   "metadata": {},
   "source": [
    "### Outliers"
   ]
  },
  {
   "cell_type": "code",
   "execution_count": 16,
   "id": "478ebbf3",
   "metadata": {},
   "outputs": [
    {
     "data": {
      "text/html": [
       "<table class=\"dataframe\">\n",
       "<caption>A data.frame: 0 × 14</caption>\n",
       "<thead>\n",
       "\t<tr><th scope=col>ethnicity</th><th scope=col>sex</th><th scope=col>age</th><th scope=col>participantId</th><th scope=col>photoId</th><th scope=col>emotion</th><th scope=col>label</th><th scope=col>url</th><th scope=col>sentimentScore</th><th scope=col>sexC</th><th scope=col>ageC</th><th scope=col>ethnicityC</th><th scope=col>is.outlier</th><th scope=col>is.extreme</th></tr>\n",
       "\t<tr><th scope=col>&lt;chr&gt;</th><th scope=col>&lt;chr&gt;</th><th scope=col>&lt;chr&gt;</th><th scope=col>&lt;dbl&gt;</th><th scope=col>&lt;chr&gt;</th><th scope=col>&lt;chr&gt;</th><th scope=col>&lt;chr&gt;</th><th scope=col>&lt;chr&gt;</th><th scope=col>&lt;dbl&gt;</th><th scope=col>&lt;dbl&gt;</th><th scope=col>&lt;dbl&gt;</th><th scope=col>&lt;dbl&gt;</th><th scope=col>&lt;lgl&gt;</th><th scope=col>&lt;lgl&gt;</th></tr>\n",
       "</thead>\n",
       "<tbody>\n",
       "</tbody>\n",
       "</table>\n"
      ],
      "text/latex": [
       "A data.frame: 0 × 14\n",
       "\\begin{tabular}{llllllllllllll}\n",
       " ethnicity & sex & age & participantId & photoId & emotion & label & url & sentimentScore & sexC & ageC & ethnicityC & is.outlier & is.extreme\\\\\n",
       " <chr> & <chr> & <chr> & <dbl> & <chr> & <chr> & <chr> & <chr> & <dbl> & <dbl> & <dbl> & <dbl> & <lgl> & <lgl>\\\\\n",
       "\\hline\n",
       "\\end{tabular}\n"
      ],
      "text/markdown": [
       "\n",
       "A data.frame: 0 × 14\n",
       "\n",
       "| ethnicity &lt;chr&gt; | sex &lt;chr&gt; | age &lt;chr&gt; | participantId &lt;dbl&gt; | photoId &lt;chr&gt; | emotion &lt;chr&gt; | label &lt;chr&gt; | url &lt;chr&gt; | sentimentScore &lt;dbl&gt; | sexC &lt;dbl&gt; | ageC &lt;dbl&gt; | ethnicityC &lt;dbl&gt; | is.outlier &lt;lgl&gt; | is.extreme &lt;lgl&gt; |\n",
       "|---|---|---|---|---|---|---|---|---|---|---|---|---|---|\n",
       "\n"
      ],
      "text/plain": [
       "     ethnicity sex age participantId photoId emotion label url sentimentScore\n",
       "     sexC ageC ethnicityC is.outlier is.extreme"
      ]
     },
     "metadata": {},
     "output_type": "display_data"
    }
   ],
   "source": [
    "df %>% group_by(ethnicity, sex, age) %>% identify_outliers(sentimentScore)"
   ]
  },
  {
   "cell_type": "markdown",
   "id": "3cb68f76",
   "metadata": {},
   "source": [
    "### Normality assumption"
   ]
  },
  {
   "cell_type": "code",
   "execution_count": 18,
   "id": "5a0ad1a2",
   "metadata": {},
   "outputs": [
    {
     "data": {
      "text/html": [
       "<table class=\"dataframe\">\n",
       "<caption>A tibble: 8 × 6</caption>\n",
       "<thead>\n",
       "\t<tr><th scope=col>ethnicity</th><th scope=col>sex</th><th scope=col>age</th><th scope=col>variable</th><th scope=col>statistic</th><th scope=col>p</th></tr>\n",
       "\t<tr><th scope=col>&lt;chr&gt;</th><th scope=col>&lt;chr&gt;</th><th scope=col>&lt;chr&gt;</th><th scope=col>&lt;chr&gt;</th><th scope=col>&lt;dbl&gt;</th><th scope=col>&lt;dbl&gt;</th></tr>\n",
       "</thead>\n",
       "<tbody>\n",
       "\t<tr><td>bipoc</td><td>female</td><td>adult</td><td>sentimentScore</td><td>0.8573349</td><td>6.875608e-32</td></tr>\n",
       "\t<tr><td>bipoc</td><td>female</td><td>child</td><td>sentimentScore</td><td>0.8650087</td><td>3.461563e-31</td></tr>\n",
       "\t<tr><td>bipoc</td><td>male  </td><td>adult</td><td>sentimentScore</td><td>0.8444974</td><td>5.333350e-33</td></tr>\n",
       "\t<tr><td>bipoc</td><td>male  </td><td>child</td><td>sentimentScore</td><td>0.8590749</td><td>9.858681e-32</td></tr>\n",
       "\t<tr><td>white</td><td>female</td><td>adult</td><td>sentimentScore</td><td>0.8656738</td><td>3.995529e-31</td></tr>\n",
       "\t<tr><td>white</td><td>female</td><td>child</td><td>sentimentScore</td><td>0.8739884</td><td>2.521951e-30</td></tr>\n",
       "\t<tr><td>white</td><td>male  </td><td>adult</td><td>sentimentScore</td><td>0.8864712</td><td>4.836086e-29</td></tr>\n",
       "\t<tr><td>white</td><td>male  </td><td>child</td><td>sentimentScore</td><td>0.8626490</td><td>2.089945e-31</td></tr>\n",
       "</tbody>\n",
       "</table>\n"
      ],
      "text/latex": [
       "A tibble: 8 × 6\n",
       "\\begin{tabular}{llllll}\n",
       " ethnicity & sex & age & variable & statistic & p\\\\\n",
       " <chr> & <chr> & <chr> & <chr> & <dbl> & <dbl>\\\\\n",
       "\\hline\n",
       "\t bipoc & female & adult & sentimentScore & 0.8573349 & 6.875608e-32\\\\\n",
       "\t bipoc & female & child & sentimentScore & 0.8650087 & 3.461563e-31\\\\\n",
       "\t bipoc & male   & adult & sentimentScore & 0.8444974 & 5.333350e-33\\\\\n",
       "\t bipoc & male   & child & sentimentScore & 0.8590749 & 9.858681e-32\\\\\n",
       "\t white & female & adult & sentimentScore & 0.8656738 & 3.995529e-31\\\\\n",
       "\t white & female & child & sentimentScore & 0.8739884 & 2.521951e-30\\\\\n",
       "\t white & male   & adult & sentimentScore & 0.8864712 & 4.836086e-29\\\\\n",
       "\t white & male   & child & sentimentScore & 0.8626490 & 2.089945e-31\\\\\n",
       "\\end{tabular}\n"
      ],
      "text/markdown": [
       "\n",
       "A tibble: 8 × 6\n",
       "\n",
       "| ethnicity &lt;chr&gt; | sex &lt;chr&gt; | age &lt;chr&gt; | variable &lt;chr&gt; | statistic &lt;dbl&gt; | p &lt;dbl&gt; |\n",
       "|---|---|---|---|---|---|\n",
       "| bipoc | female | adult | sentimentScore | 0.8573349 | 6.875608e-32 |\n",
       "| bipoc | female | child | sentimentScore | 0.8650087 | 3.461563e-31 |\n",
       "| bipoc | male   | adult | sentimentScore | 0.8444974 | 5.333350e-33 |\n",
       "| bipoc | male   | child | sentimentScore | 0.8590749 | 9.858681e-32 |\n",
       "| white | female | adult | sentimentScore | 0.8656738 | 3.995529e-31 |\n",
       "| white | female | child | sentimentScore | 0.8739884 | 2.521951e-30 |\n",
       "| white | male   | adult | sentimentScore | 0.8864712 | 4.836086e-29 |\n",
       "| white | male   | child | sentimentScore | 0.8626490 | 2.089945e-31 |\n",
       "\n"
      ],
      "text/plain": [
       "  ethnicity sex    age   variable       statistic p           \n",
       "1 bipoc     female adult sentimentScore 0.8573349 6.875608e-32\n",
       "2 bipoc     female child sentimentScore 0.8650087 3.461563e-31\n",
       "3 bipoc     male   adult sentimentScore 0.8444974 5.333350e-33\n",
       "4 bipoc     male   child sentimentScore 0.8590749 9.858681e-32\n",
       "5 white     female adult sentimentScore 0.8656738 3.995529e-31\n",
       "6 white     female child sentimentScore 0.8739884 2.521951e-30\n",
       "7 white     male   adult sentimentScore 0.8864712 4.836086e-29\n",
       "8 white     male   child sentimentScore 0.8626490 2.089945e-31"
      ]
     },
     "metadata": {},
     "output_type": "display_data"
    }
   ],
   "source": [
    "# Compute Shapiro-Wilk test for each combinations of factor levels\n",
    "\n",
    "df %>%\n",
    "  group_by(ethnicity, sex, age) %>%\n",
    "  shapiro_test(sentimentScore)"
   ]
  },
  {
   "cell_type": "code",
   "execution_count": 20,
   "id": "1040162b",
   "metadata": {},
   "outputs": [
    {
     "data": {
      "text/html": [
       "TRUE"
      ],
      "text/latex": [
       "TRUE"
      ],
      "text/markdown": [
       "TRUE"
      ],
      "text/plain": [
       "[1] TRUE"
      ]
     },
     "metadata": {},
     "output_type": "display_data"
    }
   ],
   "source": [
    "3.461563e-31 < 0.05"
   ]
  },
  {
   "cell_type": "markdown",
   "id": "0fea83ec",
   "metadata": {},
   "source": [
    "### QQ plot "
   ]
  },
  {
   "cell_type": "code",
   "execution_count": 21,
   "id": "35aaad5f",
   "metadata": {},
   "outputs": [
    {
     "data": {
      "image/png": "[encoded data removed]",
      "text/plain": [
       "plot without title"
      ]
     },
     "metadata": {
      "image/png": {
       "height": 420,
       "width": 420
      }
     },
     "output_type": "display_data"
    }
   ],
   "source": [
    "ggqqplot(df, \"sentimentScore\", ggtheme = theme_bw()) +\n",
    "  facet_grid(sex + ethnicity ~ age, labeller = \"label_both\")"
   ]
  },
  {
   "cell_type": "markdown",
   "id": "46af06ef",
   "metadata": {},
   "source": [
    "**Definetively not normal data**"
   ]
  },
  {
   "cell_type": "markdown",
   "id": "f6684eb6",
   "metadata": {},
   "source": [
    "## Anova 2x2x2 computation \n",
    "\n",
    "\n",
    "My design is 2x2x2 fully-crosses, meaning will yield a singular decomposition. \n",
    "This is probably why LMER doesn't converge regardless of the optimizer and other hyper-params\n",
    "\n",
    "Guide: https://www.datanovia.com/en/lessons/repeated-measures-anova-in-r/#summary-statistics-2"
   ]
  },
  {
   "cell_type": "code",
   "execution_count": 91,
   "id": "cee63b7d",
   "metadata": {},
   "outputs": [
    {
     "data": {
      "text/html": [
       "<table class=\"dataframe\">\n",
       "<caption>A spec_tbl_df: 9792 × 14</caption>\n",
       "<thead>\n",
       "\t<tr><th scope=col>participantId</th><th scope=col>photoId</th><th scope=col>emotion</th><th scope=col>ethnicity</th><th scope=col>sex</th><th scope=col>age</th><th scope=col>label</th><th scope=col>url</th><th scope=col>sentimentScore</th><th scope=col>sexC</th><th scope=col>ageC</th><th scope=col>ethnicityC</th><th scope=col>ID</th><th scope=col>participantIdF</th></tr>\n",
       "\t<tr><th scope=col>&lt;chr&gt;</th><th scope=col>&lt;chr&gt;</th><th scope=col>&lt;chr&gt;</th><th scope=col>&lt;chr&gt;</th><th scope=col>&lt;chr&gt;</th><th scope=col>&lt;chr&gt;</th><th scope=col>&lt;chr&gt;</th><th scope=col>&lt;chr&gt;</th><th scope=col>&lt;dbl&gt;</th><th scope=col>&lt;dbl&gt;</th><th scope=col>&lt;dbl&gt;</th><th scope=col>&lt;dbl&gt;</th><th scope=col>&lt;int&gt;</th><th scope=col>&lt;fct&gt;</th></tr>\n",
       "</thead>\n",
       "<tbody>\n",
       "\t<tr><td>0</td><td>Q2.1  </td><td>Neutral  </td><td>bipoc</td><td>female</td><td>adult</td><td>anger    </td><td>https://uwmadison.co1.qualtrics.com/ControlPanel/Graphic.php?IM=IM_bJXdODAZHOaG0rI</td><td> 0.0000</td><td>-0.5</td><td> 0.5</td><td>-0.5</td><td> 1</td><td>0</td></tr>\n",
       "\t<tr><td>0</td><td>Q163.1</td><td>Happiness</td><td>white</td><td>male  </td><td>child</td><td>happiness</td><td>https://uwmadison.co1.qualtrics.com/ControlPanel/Graphic.php?IM=IM_eWnGys8SLE5J3Cu</td><td> 0.5574</td><td> 0.5</td><td>-0.5</td><td> 0.5</td><td> 2</td><td>0</td></tr>\n",
       "\t<tr><td>0</td><td>Q77.1 </td><td>Disgust  </td><td>bipoc</td><td>male  </td><td>adult</td><td>disgust  </td><td>https://uwmadison.co1.qualtrics.com/ControlPanel/Graphic.php?IM=IM_1Zx26VAbwv9uFFQ</td><td>-0.5994</td><td> 0.5</td><td> 0.5</td><td>-0.5</td><td> 3</td><td>0</td></tr>\n",
       "\t<tr><td>0</td><td>Q78.1 </td><td>Disgust  </td><td>bipoc</td><td>male  </td><td>child</td><td>disgust  </td><td>https://uwmadison.co1.qualtrics.com/ControlPanel/Graphic.php?IM=IM_bjzYq2UEKkXH7aC</td><td>-0.5994</td><td> 0.5</td><td>-0.5</td><td>-0.5</td><td> 4</td><td>0</td></tr>\n",
       "\t<tr><td>0</td><td>Q162.1</td><td>Happiness</td><td>white</td><td>male  </td><td>adult</td><td>happiness</td><td>https://uwmadison.co1.qualtrics.com/ControlPanel/Graphic.php?IM=IM_3NR7AkPxBUkdOQe</td><td> 0.5574</td><td> 0.5</td><td> 0.5</td><td> 0.5</td><td> 5</td><td>0</td></tr>\n",
       "\t<tr><td>0</td><td>Q79.1 </td><td>Uncertain</td><td>white</td><td>female</td><td>adult</td><td>disgust  </td><td>https://uwmadison.co1.qualtrics.com/ControlPanel/Graphic.php?IM=IM_5hkOSrFORUoHopM</td><td>-0.2960</td><td>-0.5</td><td> 0.5</td><td> 0.5</td><td> 6</td><td>0</td></tr>\n",
       "\t<tr><td>0</td><td>Q130.1</td><td>Happiness</td><td>white</td><td>male  </td><td>child</td><td>uncertain</td><td>https://uwmadison.co1.qualtrics.com/ControlPanel/Graphic.php?IM=IM_eMb3pnSJgKC0VFk</td><td> 0.5574</td><td> 0.5</td><td>-0.5</td><td> 0.5</td><td> 7</td><td>0</td></tr>\n",
       "\t<tr><td>0</td><td>Q20.1 </td><td>Fear     </td><td>bipoc</td><td>male  </td><td>adult</td><td>fear     </td><td>https://uwmadison.co1.qualtrics.com/ControlPanel/Graphic.php?IM=IM_54KW05fRgzNmLfE</td><td>-0.4939</td><td> 0.5</td><td> 0.5</td><td>-0.5</td><td> 8</td><td>0</td></tr>\n",
       "\t<tr><td>0</td><td>Q7.1  </td><td>Anger    </td><td>white</td><td>female</td><td>child</td><td>anger    </td><td>https://uwmadison.co1.qualtrics.com/ControlPanel/Graphic.php?IM=IM_1XqAx3FzoRDFZt4</td><td>-0.5719</td><td>-0.5</td><td>-0.5</td><td> 0.5</td><td> 9</td><td>0</td></tr>\n",
       "\t<tr><td>0</td><td>Q80.1 </td><td>Other    </td><td>white</td><td>female</td><td>child</td><td>disgust  </td><td>https://uwmadison.co1.qualtrics.com/ControlPanel/Graphic.php?IM=IM_244QOC2to2Jetca</td><td> 0.0000</td><td>-0.5</td><td>-0.5</td><td> 0.5</td><td>10</td><td>0</td></tr>\n",
       "\t<tr><td>0</td><td>Q81.1 </td><td>Disgust  </td><td>white</td><td>male  </td><td>adult</td><td>disgust  </td><td>https://uwmadison.co1.qualtrics.com/ControlPanel/Graphic.php?IM=IM_7aEgC4sWsfM5I5E</td><td>-0.5994</td><td> 0.5</td><td> 0.5</td><td> 0.5</td><td>11</td><td>0</td></tr>\n",
       "\t<tr><td>0</td><td>Q160.1</td><td>Happiness</td><td>white</td><td>female</td><td>adult</td><td>happiness</td><td>https://uwmadison.co1.qualtrics.com/ControlPanel/Graphic.php?IM=IM_57Gr1XAHK9uhWES</td><td> 0.5574</td><td>-0.5</td><td> 0.5</td><td> 0.5</td><td>12</td><td>0</td></tr>\n",
       "\t<tr><td>0</td><td>Q82.1 </td><td>Disgust  </td><td>white</td><td>male  </td><td>child</td><td>disgust  </td><td>https://uwmadison.co1.qualtrics.com/ControlPanel/Graphic.php?IM=IM_7P182C9dn0ypgtE</td><td>-0.5994</td><td> 0.5</td><td>-0.5</td><td> 0.5</td><td>13</td><td>0</td></tr>\n",
       "\t<tr><td>0</td><td>Q83.1 </td><td>Fear     </td><td>bipoc</td><td>female</td><td>adult</td><td>fear     </td><td>https://uwmadison.co1.qualtrics.com/ControlPanel/Graphic.php?IM=IM_9tzXvOnfZ589gH4</td><td>-0.4939</td><td>-0.5</td><td> 0.5</td><td>-0.5</td><td>14</td><td>0</td></tr>\n",
       "\t<tr><td>0</td><td>Q159.1</td><td>Happiness</td><td>bipoc</td><td>male  </td><td>child</td><td>happiness</td><td>https://uwmadison.co1.qualtrics.com/ControlPanel/Graphic.php?IM=IM_d060VdjZY82W38W</td><td> 0.5574</td><td> 0.5</td><td>-0.5</td><td>-0.5</td><td>15</td><td>0</td></tr>\n",
       "\t<tr><td>0</td><td>Q84.1 </td><td>Sadness  </td><td>bipoc</td><td>female</td><td>child</td><td>fear     </td><td>https://uwmadison.co1.qualtrics.com/ControlPanel/Graphic.php?IM=IM_0BVeUJelcjahWwC</td><td>-0.4404</td><td>-0.5</td><td>-0.5</td><td>-0.5</td><td>16</td><td>0</td></tr>\n",
       "\t<tr><td>0</td><td>Q85.1 </td><td>Surprise </td><td>bipoc</td><td>male  </td><td>adult</td><td>fear     </td><td>https://uwmadison.co1.qualtrics.com/ControlPanel/Graphic.php?IM=IM_e3vAzbw1fMlXZyu</td><td> 0.2732</td><td> 0.5</td><td> 0.5</td><td>-0.5</td><td>17</td><td>0</td></tr>\n",
       "\t<tr><td>0</td><td>Q158.1</td><td>Happiness</td><td>bipoc</td><td>male  </td><td>adult</td><td>happiness</td><td>https://uwmadison.co1.qualtrics.com/ControlPanel/Graphic.php?IM=IM_agxa9UIrTk07jxQ</td><td> 0.5574</td><td> 0.5</td><td> 0.5</td><td>-0.5</td><td>18</td><td>0</td></tr>\n",
       "\t<tr><td>0</td><td>Q18.1 </td><td>Fear     </td><td>bipoc</td><td>female</td><td>adult</td><td>fear     </td><td>https://uwmadison.co1.qualtrics.com/ControlPanel/Graphic.php?IM=IM_6qVleJUYoACmf6C</td><td>-0.4939</td><td>-0.5</td><td> 0.5</td><td>-0.5</td><td>19</td><td>0</td></tr>\n",
       "\t<tr><td>0</td><td>Q193.1</td><td>Uncertain</td><td>white</td><td>female</td><td>child</td><td>uncertain</td><td>https://uwmadison.co1.qualtrics.com/ControlPanel/Graphic.php?IM=IM_beic5cGPkQFDmhU</td><td>-0.2960</td><td>-0.5</td><td>-0.5</td><td> 0.5</td><td>20</td><td>0</td></tr>\n",
       "\t<tr><td>0</td><td>Q154.1</td><td>Surprise </td><td>white</td><td>male  </td><td>adult</td><td>fear     </td><td>https://uwmadison.co1.qualtrics.com/ControlPanel/Graphic.php?IM=IM_4Z1hhf1G3PvXBci</td><td> 0.2732</td><td> 0.5</td><td> 0.5</td><td> 0.5</td><td>21</td><td>0</td></tr>\n",
       "\t<tr><td>0</td><td>Q91.1 </td><td>Happiness</td><td>bipoc</td><td>female</td><td>adult</td><td>happiness</td><td>https://uwmadison.co1.qualtrics.com/ControlPanel/Graphic.php?IM=IM_0xPTvIpG1sPU3QO</td><td> 0.5574</td><td>-0.5</td><td> 0.5</td><td>-0.5</td><td>22</td><td>0</td></tr>\n",
       "\t<tr><td>0</td><td>Q8.1  </td><td>Anger    </td><td>white</td><td>male  </td><td>adult</td><td>anger    </td><td>https://uwmadison.co1.qualtrics.com/ControlPanel/Graphic.php?IM=IM_7PC2cgcyr5yUiOy</td><td>-0.5719</td><td> 0.5</td><td> 0.5</td><td> 0.5</td><td>23</td><td>0</td></tr>\n",
       "\t<tr><td>0</td><td>Q90.1 </td><td>Fear     </td><td>white</td><td>male  </td><td>child</td><td>fear     </td><td>https://uwmadison.co1.qualtrics.com/ControlPanel/Graphic.php?IM=IM_0AKqpsdouereE5M</td><td>-0.4939</td><td> 0.5</td><td>-0.5</td><td> 0.5</td><td>24</td><td>0</td></tr>\n",
       "\t<tr><td>0</td><td>Q76.1 </td><td>Other    </td><td>bipoc</td><td>female</td><td>child</td><td>disgust  </td><td>https://uwmadison.co1.qualtrics.com/ControlPanel/Graphic.php?IM=IM_e9BJyTeFPLQ7ZUq</td><td> 0.0000</td><td>-0.5</td><td>-0.5</td><td>-0.5</td><td>25</td><td>0</td></tr>\n",
       "\t<tr><td>0</td><td>Q155.1</td><td>Surprise </td><td>white</td><td>male  </td><td>child</td><td>fear     </td><td>https://uwmadison.co1.qualtrics.com/ControlPanel/Graphic.php?IM=IM_9mNPsRAgBbHenPM</td><td> 0.2732</td><td> 0.5</td><td>-0.5</td><td> 0.5</td><td>26</td><td>0</td></tr>\n",
       "\t<tr><td>0</td><td>Q88.1 </td><td>Surprise </td><td>white</td><td>female</td><td>child</td><td>fear     </td><td>https://uwmadison.co1.qualtrics.com/ControlPanel/Graphic.php?IM=IM_40G6uAIeohgXMGi</td><td> 0.2732</td><td>-0.5</td><td>-0.5</td><td> 0.5</td><td>27</td><td>0</td></tr>\n",
       "\t<tr><td>0</td><td>Q156.1</td><td>Happiness</td><td>bipoc</td><td>female</td><td>adult</td><td>happiness</td><td>https://uwmadison.co1.qualtrics.com/ControlPanel/Graphic.php?IM=IM_0GtSGAki0COJYO2</td><td> 0.5574</td><td>-0.5</td><td> 0.5</td><td>-0.5</td><td>28</td><td>0</td></tr>\n",
       "\t<tr><td>0</td><td>Q87.1 </td><td>Surprise </td><td>white</td><td>female</td><td>adult</td><td>fear     </td><td>https://uwmadison.co1.qualtrics.com/ControlPanel/Graphic.php?IM=IM_5AWayt9Py1ZQmUe</td><td> 0.2732</td><td>-0.5</td><td> 0.5</td><td> 0.5</td><td>29</td><td>0</td></tr>\n",
       "\t<tr><td>0</td><td>Q86.1 </td><td>Other    </td><td>bipoc</td><td>male  </td><td>child</td><td>fear     </td><td>https://uwmadison.co1.qualtrics.com/ControlPanel/Graphic.php?IM=IM_byJrSqTzp3ZhZ9Y</td><td> 0.0000</td><td> 0.5</td><td>-0.5</td><td>-0.5</td><td>30</td><td>0</td></tr>\n",
       "\t<tr><td>⋮</td><td>⋮</td><td>⋮</td><td>⋮</td><td>⋮</td><td>⋮</td><td>⋮</td><td>⋮</td><td>⋮</td><td>⋮</td><td>⋮</td><td>⋮</td><td>⋮</td><td>⋮</td></tr>\n",
       "\t<tr><td>50</td><td>Q102.1</td><td>Surprise </td><td>bipoc</td><td>male  </td><td>child</td><td>neutral  </td><td>https://uwmadison.co1.qualtrics.com/ControlPanel/Graphic.php?IM=IM_bw2zfW24xOcYU9o</td><td> 0.2732</td><td> 0.5</td><td>-0.5</td><td>-0.5</td><td>9763</td><td>50</td></tr>\n",
       "\t<tr><td>50</td><td>Q101.1</td><td>Neutral  </td><td>bipoc</td><td>male  </td><td>adult</td><td>neutral  </td><td>https://uwmadison.co1.qualtrics.com/ControlPanel/Graphic.php?IM=IM_3gSfRO9Zt2G8NP8</td><td> 0.0000</td><td> 0.5</td><td> 0.5</td><td>-0.5</td><td>9764</td><td>50</td></tr>\n",
       "\t<tr><td>50</td><td>Q100.1</td><td>Neutral  </td><td>bipoc</td><td>female</td><td>child</td><td>neutral  </td><td>https://uwmadison.co1.qualtrics.com/ControlPanel/Graphic.php?IM=IM_5bFJqMaV53Zsy0K</td><td> 0.0000</td><td>-0.5</td><td>-0.5</td><td>-0.5</td><td>9765</td><td>50</td></tr>\n",
       "\t<tr><td>50</td><td>Q99.1 </td><td>Anger    </td><td>bipoc</td><td>female</td><td>adult</td><td>neutral  </td><td>https://uwmadison.co1.qualtrics.com/ControlPanel/Graphic.php?IM=IM_39Riowawi2KEmV0</td><td>-0.5719</td><td>-0.5</td><td> 0.5</td><td>-0.5</td><td>9766</td><td>50</td></tr>\n",
       "\t<tr><td>50</td><td>Q97.1 </td><td>Happiness</td><td>white</td><td>male  </td><td>adult</td><td>happiness</td><td>https://uwmadison.co1.qualtrics.com/ControlPanel/Graphic.php?IM=IM_ewCuSR8n6UYi2MK</td><td> 0.5574</td><td> 0.5</td><td> 0.5</td><td> 0.5</td><td>9767</td><td>50</td></tr>\n",
       "\t<tr><td>50</td><td>Q107.1</td><td>Sadness  </td><td>bipoc</td><td>female</td><td>adult</td><td>sadness  </td><td>https://uwmadison.co1.qualtrics.com/ControlPanel/Graphic.php?IM=IM_83amQw1mO0Wac06</td><td>-0.4404</td><td>-0.5</td><td> 0.5</td><td>-0.5</td><td>9768</td><td>50</td></tr>\n",
       "\t<tr><td>50</td><td>Q143.1</td><td>Disgust  </td><td>bipoc</td><td>male  </td><td>child</td><td>disgust  </td><td>https://uwmadison.co1.qualtrics.com/ControlPanel/Graphic.php?IM=IM_7WCRz9fBbsgi9Qq</td><td>-0.5994</td><td> 0.5</td><td>-0.5</td><td>-0.5</td><td>9769</td><td>50</td></tr>\n",
       "\t<tr><td>50</td><td>Q119.1</td><td>Surprise </td><td>white</td><td>female</td><td>adult</td><td>surprise </td><td>https://uwmadison.co1.qualtrics.com/ControlPanel/Graphic.php?IM=IM_2s03op8efMn39Eq</td><td> 0.2732</td><td>-0.5</td><td> 0.5</td><td> 0.5</td><td>9770</td><td>50</td></tr>\n",
       "\t<tr><td>50</td><td>Q121.1</td><td>Surprise </td><td>white</td><td>male  </td><td>adult</td><td>surprise </td><td>https://uwmadison.co1.qualtrics.com/ControlPanel/Graphic.php?IM=IM_2004WZkMOAt3rVk</td><td> 0.2732</td><td> 0.5</td><td> 0.5</td><td> 0.5</td><td>9771</td><td>50</td></tr>\n",
       "\t<tr><td>50</td><td>Q141.1</td><td>Anger    </td><td>bipoc</td><td>female</td><td>child</td><td>disgust  </td><td>https://uwmadison.co1.qualtrics.com/ControlPanel/Graphic.php?IM=IM_0SwhYgwrLxTB3LM</td><td>-0.5719</td><td>-0.5</td><td>-0.5</td><td>-0.5</td><td>9772</td><td>50</td></tr>\n",
       "\t<tr><td>50</td><td>Q140.1</td><td>Fear     </td><td>bipoc</td><td>female</td><td>adult</td><td>disgust  </td><td>https://uwmadison.co1.qualtrics.com/ControlPanel/Graphic.php?IM=IM_bsHb1M3p1kgjsF0</td><td>-0.4939</td><td>-0.5</td><td> 0.5</td><td>-0.5</td><td>9773</td><td>50</td></tr>\n",
       "\t<tr><td>50</td><td>Q139.1</td><td>Disgust  </td><td>white</td><td>male  </td><td>child</td><td>anger    </td><td>https://uwmadison.co1.qualtrics.com/ControlPanel/Graphic.php?IM=IM_5AcJkrT27k6XRmm</td><td>-0.5994</td><td> 0.5</td><td>-0.5</td><td> 0.5</td><td>9774</td><td>50</td></tr>\n",
       "\t<tr><td>50</td><td>Q138.1</td><td>Anger    </td><td>white</td><td>male  </td><td>adult</td><td>anger    </td><td>https://uwmadison.co1.qualtrics.com/ControlPanel/Graphic.php?IM=IM_cCHIBQubXKS0CiO</td><td>-0.5719</td><td> 0.5</td><td> 0.5</td><td> 0.5</td><td>9775</td><td>50</td></tr>\n",
       "\t<tr><td>50</td><td>Q137.1</td><td>Anger    </td><td>white</td><td>female</td><td>child</td><td>anger    </td><td>https://uwmadison.co1.qualtrics.com/ControlPanel/Graphic.php?IM=IM_bHfE8z5stIRm0zI</td><td>-0.5719</td><td>-0.5</td><td>-0.5</td><td> 0.5</td><td>9776</td><td>50</td></tr>\n",
       "\t<tr><td>50</td><td>Q136.1</td><td>Anger    </td><td>white</td><td>female</td><td>adult</td><td>anger    </td><td>https://uwmadison.co1.qualtrics.com/ControlPanel/Graphic.php?IM=IM_cPfESJKHoFDaWUe</td><td>-0.5719</td><td>-0.5</td><td> 0.5</td><td> 0.5</td><td>9777</td><td>50</td></tr>\n",
       "\t<tr><td>50</td><td>Q135.1</td><td>Anger    </td><td>bipoc</td><td>male  </td><td>child</td><td>anger    </td><td>https://uwmadison.co1.qualtrics.com/ControlPanel/Graphic.php?IM=IM_3rsoVFgV6TcS9fg</td><td>-0.5719</td><td> 0.5</td><td>-0.5</td><td>-0.5</td><td>9778</td><td>50</td></tr>\n",
       "\t<tr><td>50</td><td>Q134.1</td><td>Anger    </td><td>bipoc</td><td>male  </td><td>adult</td><td>anger    </td><td>https://uwmadison.co1.qualtrics.com/ControlPanel/Graphic.php?IM=IM_bkMyZNBgUg8ZlNY</td><td>-0.5719</td><td> 0.5</td><td> 0.5</td><td>-0.5</td><td>9779</td><td>50</td></tr>\n",
       "\t<tr><td>50</td><td>Q133.1</td><td>Anger    </td><td>bipoc</td><td>female</td><td>child</td><td>anger    </td><td>https://uwmadison.co1.qualtrics.com/ControlPanel/Graphic.php?IM=IM_824LzNsLYNku2OO</td><td>-0.5719</td><td>-0.5</td><td>-0.5</td><td>-0.5</td><td>9780</td><td>50</td></tr>\n",
       "\t<tr><td>50</td><td>Q120.1</td><td>Neutral  </td><td>white</td><td>female</td><td>child</td><td>surprise </td><td>https://uwmadison.co1.qualtrics.com/ControlPanel/Graphic.php?IM=IM_3VrkAIN5BOdlfWm</td><td> 0.0000</td><td>-0.5</td><td>-0.5</td><td> 0.5</td><td>9781</td><td>50</td></tr>\n",
       "\t<tr><td>50</td><td>Q132.1</td><td>Fear     </td><td>bipoc</td><td>female</td><td>adult</td><td>anger    </td><td>https://uwmadison.co1.qualtrics.com/ControlPanel/Graphic.php?IM=IM_9WTZdrQmZK2OL54</td><td>-0.4939</td><td>-0.5</td><td> 0.5</td><td>-0.5</td><td>9782</td><td>50</td></tr>\n",
       "\t<tr><td>50</td><td>Q130.1</td><td>Happiness</td><td>white</td><td>male  </td><td>child</td><td>uncertain</td><td>https://uwmadison.co1.qualtrics.com/ControlPanel/Graphic.php?IM=IM_eMb3pnSJgKC0VFk</td><td> 0.5574</td><td> 0.5</td><td>-0.5</td><td> 0.5</td><td>9783</td><td>50</td></tr>\n",
       "\t<tr><td>50</td><td>Q129.1</td><td>Other    </td><td>white</td><td>male  </td><td>adult</td><td>uncertain</td><td>https://uwmadison.co1.qualtrics.com/ControlPanel/Graphic.php?IM=IM_3wreUCj6TLHFC4K</td><td> 0.0000</td><td> 0.5</td><td> 0.5</td><td> 0.5</td><td>9784</td><td>50</td></tr>\n",
       "\t<tr><td>50</td><td>Q128.1</td><td>Surprise </td><td>white</td><td>female</td><td>child</td><td>uncertain</td><td>https://uwmadison.co1.qualtrics.com/ControlPanel/Graphic.php?IM=IM_8bHO7XfbqxRugTQ</td><td> 0.2732</td><td>-0.5</td><td>-0.5</td><td> 0.5</td><td>9785</td><td>50</td></tr>\n",
       "\t<tr><td>50</td><td>Q127.1</td><td>Surprise </td><td>white</td><td>female</td><td>adult</td><td>uncertain</td><td>https://uwmadison.co1.qualtrics.com/ControlPanel/Graphic.php?IM=IM_4Z2olPR08fo1FQO</td><td> 0.2732</td><td>-0.5</td><td> 0.5</td><td> 0.5</td><td>9786</td><td>50</td></tr>\n",
       "\t<tr><td>50</td><td>Q126.1</td><td>Disgust  </td><td>bipoc</td><td>male  </td><td>child</td><td>uncertain</td><td>https://uwmadison.co1.qualtrics.com/ControlPanel/Graphic.php?IM=IM_eaf2nwmlYn6uJKu</td><td>-0.5994</td><td> 0.5</td><td>-0.5</td><td>-0.5</td><td>9787</td><td>50</td></tr>\n",
       "\t<tr><td>50</td><td>Q125.1</td><td>Other    </td><td>bipoc</td><td>male  </td><td>adult</td><td>uncertain</td><td>https://uwmadison.co1.qualtrics.com/ControlPanel/Graphic.php?IM=IM_afrF8KFiXbEcR2S</td><td> 0.0000</td><td> 0.5</td><td> 0.5</td><td>-0.5</td><td>9788</td><td>50</td></tr>\n",
       "\t<tr><td>50</td><td>Q124.1</td><td>Other    </td><td>bipoc</td><td>female</td><td>child</td><td>uncertain</td><td>https://uwmadison.co1.qualtrics.com/ControlPanel/Graphic.php?IM=IM_cJi6x6m1lHypqN8</td><td> 0.0000</td><td>-0.5</td><td>-0.5</td><td>-0.5</td><td>9789</td><td>50</td></tr>\n",
       "\t<tr><td>50</td><td>Q123.1</td><td>Surprise </td><td>bipoc</td><td>female</td><td>adult</td><td>uncertain</td><td>https://uwmadison.co1.qualtrics.com/ControlPanel/Graphic.php?IM=IM_74kgKNSWDU7crjM</td><td> 0.2732</td><td>-0.5</td><td> 0.5</td><td>-0.5</td><td>9790</td><td>50</td></tr>\n",
       "\t<tr><td>50</td><td>Q122.1</td><td>Anger    </td><td>white</td><td>male  </td><td>child</td><td>surprise </td><td>https://uwmadison.co1.qualtrics.com/ControlPanel/Graphic.php?IM=IM_0Tk0DUpmSjqZP9Q</td><td>-0.5719</td><td> 0.5</td><td>-0.5</td><td> 0.5</td><td>9791</td><td>50</td></tr>\n",
       "\t<tr><td>50</td><td>Q195.1</td><td>Neutral  </td><td>white</td><td>male  </td><td>child</td><td>uncertain</td><td>https://uwmadison.co1.qualtrics.com/ControlPanel/Graphic.php?IM=IM_9tcpk2rnvGGXq7A</td><td> 0.0000</td><td> 0.5</td><td>-0.5</td><td> 0.5</td><td>9792</td><td>50</td></tr>\n",
       "</tbody>\n",
       "</table>\n"
      ],
      "text/latex": [
       "A spec\\_tbl\\_df: 9792 × 14\n",
       "\\begin{tabular}{llllllllllllll}\n",
       " participantId & photoId & emotion & ethnicity & sex & age & label & url & sentimentScore & sexC & ageC & ethnicityC & ID & participantIdF\\\\\n",
       " <chr> & <chr> & <chr> & <chr> & <chr> & <chr> & <chr> & <chr> & <dbl> & <dbl> & <dbl> & <dbl> & <int> & <fct>\\\\\n",
       "\\hline\n",
       "\t 0 & Q2.1   & Neutral   & bipoc & female & adult & anger     & https://uwmadison.co1.qualtrics.com/ControlPanel/Graphic.php?IM=IM\\_bJXdODAZHOaG0rI &  0.0000 & -0.5 &  0.5 & -0.5 &  1 & 0\\\\\n",
       "\t 0 & Q163.1 & Happiness & white & male   & child & happiness & https://uwmadison.co1.qualtrics.com/ControlPanel/Graphic.php?IM=IM\\_eWnGys8SLE5J3Cu &  0.5574 &  0.5 & -0.5 &  0.5 &  2 & 0\\\\\n",
       "\t 0 & Q77.1  & Disgust   & bipoc & male   & adult & disgust   & https://uwmadison.co1.qualtrics.com/ControlPanel/Graphic.php?IM=IM\\_1Zx26VAbwv9uFFQ & -0.5994 &  0.5 &  0.5 & -0.5 &  3 & 0\\\\\n",
       "\t 0 & Q78.1  & Disgust   & bipoc & male   & child & disgust   & https://uwmadison.co1.qualtrics.com/ControlPanel/Graphic.php?IM=IM\\_bjzYq2UEKkXH7aC & -0.5994 &  0.5 & -0.5 & -0.5 &  4 & 0\\\\\n",
       "\t 0 & Q162.1 & Happiness & white & male   & adult & happiness & https://uwmadison.co1.qualtrics.com/ControlPanel/Graphic.php?IM=IM\\_3NR7AkPxBUkdOQe &  0.5574 &  0.5 &  0.5 &  0.5 &  5 & 0\\\\\n",
       "\t 0 & Q79.1  & Uncertain & white & female & adult & disgust   & https://uwmadison.co1.qualtrics.com/ControlPanel/Graphic.php?IM=IM\\_5hkOSrFORUoHopM & -0.2960 & -0.5 &  0.5 &  0.5 &  6 & 0\\\\\n",
       "\t 0 & Q130.1 & Happiness & white & male   & child & uncertain & https://uwmadison.co1.qualtrics.com/ControlPanel/Graphic.php?IM=IM\\_eMb3pnSJgKC0VFk &  0.5574 &  0.5 & -0.5 &  0.5 &  7 & 0\\\\\n",
       "\t 0 & Q20.1  & Fear      & bipoc & male   & adult & fear      & https://uwmadison.co1.qualtrics.com/ControlPanel/Graphic.php?IM=IM\\_54KW05fRgzNmLfE & -0.4939 &  0.5 &  0.5 & -0.5 &  8 & 0\\\\\n",
       "\t 0 & Q7.1   & Anger     & white & female & child & anger     & https://uwmadison.co1.qualtrics.com/ControlPanel/Graphic.php?IM=IM\\_1XqAx3FzoRDFZt4 & -0.5719 & -0.5 & -0.5 &  0.5 &  9 & 0\\\\\n",
       "\t 0 & Q80.1  & Other     & white & female & child & disgust   & https://uwmadison.co1.qualtrics.com/ControlPanel/Graphic.php?IM=IM\\_244QOC2to2Jetca &  0.0000 & -0.5 & -0.5 &  0.5 & 10 & 0\\\\\n",
       "\t 0 & Q81.1  & Disgust   & white & male   & adult & disgust   & https://uwmadison.co1.qualtrics.com/ControlPanel/Graphic.php?IM=IM\\_7aEgC4sWsfM5I5E & -0.5994 &  0.5 &  0.5 &  0.5 & 11 & 0\\\\\n",
       "\t 0 & Q160.1 & Happiness & white & female & adult & happiness & https://uwmadison.co1.qualtrics.com/ControlPanel/Graphic.php?IM=IM\\_57Gr1XAHK9uhWES &  0.5574 & -0.5 &  0.5 &  0.5 & 12 & 0\\\\\n",
       "\t 0 & Q82.1  & Disgust   & white & male   & child & disgust   & https://uwmadison.co1.qualtrics.com/ControlPanel/Graphic.php?IM=IM\\_7P182C9dn0ypgtE & -0.5994 &  0.5 & -0.5 &  0.5 & 13 & 0\\\\\n",
       "\t 0 & Q83.1  & Fear      & bipoc & female & adult & fear      & https://uwmadison.co1.qualtrics.com/ControlPanel/Graphic.php?IM=IM\\_9tzXvOnfZ589gH4 & -0.4939 & -0.5 &  0.5 & -0.5 & 14 & 0\\\\\n",
       "\t 0 & Q159.1 & Happiness & bipoc & male   & child & happiness & https://uwmadison.co1.qualtrics.com/ControlPanel/Graphic.php?IM=IM\\_d060VdjZY82W38W &  0.5574 &  0.5 & -0.5 & -0.5 & 15 & 0\\\\\n",
       "\t 0 & Q84.1  & Sadness   & bipoc & female & child & fear      & https://uwmadison.co1.qualtrics.com/ControlPanel/Graphic.php?IM=IM\\_0BVeUJelcjahWwC & -0.4404 & -0.5 & -0.5 & -0.5 & 16 & 0\\\\\n",
       "\t 0 & Q85.1  & Surprise  & bipoc & male   & adult & fear      & https://uwmadison.co1.qualtrics.com/ControlPanel/Graphic.php?IM=IM\\_e3vAzbw1fMlXZyu &  0.2732 &  0.5 &  0.5 & -0.5 & 17 & 0\\\\\n",
       "\t 0 & Q158.1 & Happiness & bipoc & male   & adult & happiness & https://uwmadison.co1.qualtrics.com/ControlPanel/Graphic.php?IM=IM\\_agxa9UIrTk07jxQ &  0.5574 &  0.5 &  0.5 & -0.5 & 18 & 0\\\\\n",
       "\t 0 & Q18.1  & Fear      & bipoc & female & adult & fear      & https://uwmadison.co1.qualtrics.com/ControlPanel/Graphic.php?IM=IM\\_6qVleJUYoACmf6C & -0.4939 & -0.5 &  0.5 & -0.5 & 19 & 0\\\\\n",
       "\t 0 & Q193.1 & Uncertain & white & female & child & uncertain & https://uwmadison.co1.qualtrics.com/ControlPanel/Graphic.php?IM=IM\\_beic5cGPkQFDmhU & -0.2960 & -0.5 & -0.5 &  0.5 & 20 & 0\\\\\n",
       "\t 0 & Q154.1 & Surprise  & white & male   & adult & fear      & https://uwmadison.co1.qualtrics.com/ControlPanel/Graphic.php?IM=IM\\_4Z1hhf1G3PvXBci &  0.2732 &  0.5 &  0.5 &  0.5 & 21 & 0\\\\\n",
       "\t 0 & Q91.1  & Happiness & bipoc & female & adult & happiness & https://uwmadison.co1.qualtrics.com/ControlPanel/Graphic.php?IM=IM\\_0xPTvIpG1sPU3QO &  0.5574 & -0.5 &  0.5 & -0.5 & 22 & 0\\\\\n",
       "\t 0 & Q8.1   & Anger     & white & male   & adult & anger     & https://uwmadison.co1.qualtrics.com/ControlPanel/Graphic.php?IM=IM\\_7PC2cgcyr5yUiOy & -0.5719 &  0.5 &  0.5 &  0.5 & 23 & 0\\\\\n",
       "\t 0 & Q90.1  & Fear      & white & male   & child & fear      & https://uwmadison.co1.qualtrics.com/ControlPanel/Graphic.php?IM=IM\\_0AKqpsdouereE5M & -0.4939 &  0.5 & -0.5 &  0.5 & 24 & 0\\\\\n",
       "\t 0 & Q76.1  & Other     & bipoc & female & child & disgust   & https://uwmadison.co1.qualtrics.com/ControlPanel/Graphic.php?IM=IM\\_e9BJyTeFPLQ7ZUq &  0.0000 & -0.5 & -0.5 & -0.5 & 25 & 0\\\\\n",
       "\t 0 & Q155.1 & Surprise  & white & male   & child & fear      & https://uwmadison.co1.qualtrics.com/ControlPanel/Graphic.php?IM=IM\\_9mNPsRAgBbHenPM &  0.2732 &  0.5 & -0.5 &  0.5 & 26 & 0\\\\\n",
       "\t 0 & Q88.1  & Surprise  & white & female & child & fear      & https://uwmadison.co1.qualtrics.com/ControlPanel/Graphic.php?IM=IM\\_40G6uAIeohgXMGi &  0.2732 & -0.5 & -0.5 &  0.5 & 27 & 0\\\\\n",
       "\t 0 & Q156.1 & Happiness & bipoc & female & adult & happiness & https://uwmadison.co1.qualtrics.com/ControlPanel/Graphic.php?IM=IM\\_0GtSGAki0COJYO2 &  0.5574 & -0.5 &  0.5 & -0.5 & 28 & 0\\\\\n",
       "\t 0 & Q87.1  & Surprise  & white & female & adult & fear      & https://uwmadison.co1.qualtrics.com/ControlPanel/Graphic.php?IM=IM\\_5AWayt9Py1ZQmUe &  0.2732 & -0.5 &  0.5 &  0.5 & 29 & 0\\\\\n",
       "\t 0 & Q86.1  & Other     & bipoc & male   & child & fear      & https://uwmadison.co1.qualtrics.com/ControlPanel/Graphic.php?IM=IM\\_byJrSqTzp3ZhZ9Y &  0.0000 &  0.5 & -0.5 & -0.5 & 30 & 0\\\\\n",
       "\t ⋮ & ⋮ & ⋮ & ⋮ & ⋮ & ⋮ & ⋮ & ⋮ & ⋮ & ⋮ & ⋮ & ⋮ & ⋮ & ⋮\\\\\n",
       "\t 50 & Q102.1 & Surprise  & bipoc & male   & child & neutral   & https://uwmadison.co1.qualtrics.com/ControlPanel/Graphic.php?IM=IM\\_bw2zfW24xOcYU9o &  0.2732 &  0.5 & -0.5 & -0.5 & 9763 & 50\\\\\n",
       "\t 50 & Q101.1 & Neutral   & bipoc & male   & adult & neutral   & https://uwmadison.co1.qualtrics.com/ControlPanel/Graphic.php?IM=IM\\_3gSfRO9Zt2G8NP8 &  0.0000 &  0.5 &  0.5 & -0.5 & 9764 & 50\\\\\n",
       "\t 50 & Q100.1 & Neutral   & bipoc & female & child & neutral   & https://uwmadison.co1.qualtrics.com/ControlPanel/Graphic.php?IM=IM\\_5bFJqMaV53Zsy0K &  0.0000 & -0.5 & -0.5 & -0.5 & 9765 & 50\\\\\n",
       "\t 50 & Q99.1  & Anger     & bipoc & female & adult & neutral   & https://uwmadison.co1.qualtrics.com/ControlPanel/Graphic.php?IM=IM\\_39Riowawi2KEmV0 & -0.5719 & -0.5 &  0.5 & -0.5 & 9766 & 50\\\\\n",
       "\t 50 & Q97.1  & Happiness & white & male   & adult & happiness & https://uwmadison.co1.qualtrics.com/ControlPanel/Graphic.php?IM=IM\\_ewCuSR8n6UYi2MK &  0.5574 &  0.5 &  0.5 &  0.5 & 9767 & 50\\\\\n",
       "\t 50 & Q107.1 & Sadness   & bipoc & female & adult & sadness   & https://uwmadison.co1.qualtrics.com/ControlPanel/Graphic.php?IM=IM\\_83amQw1mO0Wac06 & -0.4404 & -0.5 &  0.5 & -0.5 & 9768 & 50\\\\\n",
       "\t 50 & Q143.1 & Disgust   & bipoc & male   & child & disgust   & https://uwmadison.co1.qualtrics.com/ControlPanel/Graphic.php?IM=IM\\_7WCRz9fBbsgi9Qq & -0.5994 &  0.5 & -0.5 & -0.5 & 9769 & 50\\\\\n",
       "\t 50 & Q119.1 & Surprise  & white & female & adult & surprise  & https://uwmadison.co1.qualtrics.com/ControlPanel/Graphic.php?IM=IM\\_2s03op8efMn39Eq &  0.2732 & -0.5 &  0.5 &  0.5 & 9770 & 50\\\\\n",
       "\t 50 & Q121.1 & Surprise  & white & male   & adult & surprise  & https://uwmadison.co1.qualtrics.com/ControlPanel/Graphic.php?IM=IM\\_2004WZkMOAt3rVk &  0.2732 &  0.5 &  0.5 &  0.5 & 9771 & 50\\\\\n",
       "\t 50 & Q141.1 & Anger     & bipoc & female & child & disgust   & https://uwmadison.co1.qualtrics.com/ControlPanel/Graphic.php?IM=IM\\_0SwhYgwrLxTB3LM & -0.5719 & -0.5 & -0.5 & -0.5 & 9772 & 50\\\\\n",
       "\t 50 & Q140.1 & Fear      & bipoc & female & adult & disgust   & https://uwmadison.co1.qualtrics.com/ControlPanel/Graphic.php?IM=IM\\_bsHb1M3p1kgjsF0 & -0.4939 & -0.5 &  0.5 & -0.5 & 9773 & 50\\\\\n",
       "\t 50 & Q139.1 & Disgust   & white & male   & child & anger     & https://uwmadison.co1.qualtrics.com/ControlPanel/Graphic.php?IM=IM\\_5AcJkrT27k6XRmm & -0.5994 &  0.5 & -0.5 &  0.5 & 9774 & 50\\\\\n",
       "\t 50 & Q138.1 & Anger     & white & male   & adult & anger     & https://uwmadison.co1.qualtrics.com/ControlPanel/Graphic.php?IM=IM\\_cCHIBQubXKS0CiO & -0.5719 &  0.5 &  0.5 &  0.5 & 9775 & 50\\\\\n",
       "\t 50 & Q137.1 & Anger     & white & female & child & anger     & https://uwmadison.co1.qualtrics.com/ControlPanel/Graphic.php?IM=IM\\_bHfE8z5stIRm0zI & -0.5719 & -0.5 & -0.5 &  0.5 & 9776 & 50\\\\\n",
       "\t 50 & Q136.1 & Anger     & white & female & adult & anger     & https://uwmadison.co1.qualtrics.com/ControlPanel/Graphic.php?IM=IM\\_cPfESJKHoFDaWUe & -0.5719 & -0.5 &  0.5 &  0.5 & 9777 & 50\\\\\n",
       "\t 50 & Q135.1 & Anger     & bipoc & male   & child & anger     & https://uwmadison.co1.qualtrics.com/ControlPanel/Graphic.php?IM=IM\\_3rsoVFgV6TcS9fg & -0.5719 &  0.5 & -0.5 & -0.5 & 9778 & 50\\\\\n",
       "\t 50 & Q134.1 & Anger     & bipoc & male   & adult & anger     & https://uwmadison.co1.qualtrics.com/ControlPanel/Graphic.php?IM=IM\\_bkMyZNBgUg8ZlNY & -0.5719 &  0.5 &  0.5 & -0.5 & 9779 & 50\\\\\n",
       "\t 50 & Q133.1 & Anger     & bipoc & female & child & anger     & https://uwmadison.co1.qualtrics.com/ControlPanel/Graphic.php?IM=IM\\_824LzNsLYNku2OO & -0.5719 & -0.5 & -0.5 & -0.5 & 9780 & 50\\\\\n",
       "\t 50 & Q120.1 & Neutral   & white & female & child & surprise  & https://uwmadison.co1.qualtrics.com/ControlPanel/Graphic.php?IM=IM\\_3VrkAIN5BOdlfWm &  0.0000 & -0.5 & -0.5 &  0.5 & 9781 & 50\\\\\n",
       "\t 50 & Q132.1 & Fear      & bipoc & female & adult & anger     & https://uwmadison.co1.qualtrics.com/ControlPanel/Graphic.php?IM=IM\\_9WTZdrQmZK2OL54 & -0.4939 & -0.5 &  0.5 & -0.5 & 9782 & 50\\\\\n",
       "\t 50 & Q130.1 & Happiness & white & male   & child & uncertain & https://uwmadison.co1.qualtrics.com/ControlPanel/Graphic.php?IM=IM\\_eMb3pnSJgKC0VFk &  0.5574 &  0.5 & -0.5 &  0.5 & 9783 & 50\\\\\n",
       "\t 50 & Q129.1 & Other     & white & male   & adult & uncertain & https://uwmadison.co1.qualtrics.com/ControlPanel/Graphic.php?IM=IM\\_3wreUCj6TLHFC4K &  0.0000 &  0.5 &  0.5 &  0.5 & 9784 & 50\\\\\n",
       "\t 50 & Q128.1 & Surprise  & white & female & child & uncertain & https://uwmadison.co1.qualtrics.com/ControlPanel/Graphic.php?IM=IM\\_8bHO7XfbqxRugTQ &  0.2732 & -0.5 & -0.5 &  0.5 & 9785 & 50\\\\\n",
       "\t 50 & Q127.1 & Surprise  & white & female & adult & uncertain & https://uwmadison.co1.qualtrics.com/ControlPanel/Graphic.php?IM=IM\\_4Z2olPR08fo1FQO &  0.2732 & -0.5 &  0.5 &  0.5 & 9786 & 50\\\\\n",
       "\t 50 & Q126.1 & Disgust   & bipoc & male   & child & uncertain & https://uwmadison.co1.qualtrics.com/ControlPanel/Graphic.php?IM=IM\\_eaf2nwmlYn6uJKu & -0.5994 &  0.5 & -0.5 & -0.5 & 9787 & 50\\\\\n",
       "\t 50 & Q125.1 & Other     & bipoc & male   & adult & uncertain & https://uwmadison.co1.qualtrics.com/ControlPanel/Graphic.php?IM=IM\\_afrF8KFiXbEcR2S &  0.0000 &  0.5 &  0.5 & -0.5 & 9788 & 50\\\\\n",
       "\t 50 & Q124.1 & Other     & bipoc & female & child & uncertain & https://uwmadison.co1.qualtrics.com/ControlPanel/Graphic.php?IM=IM\\_cJi6x6m1lHypqN8 &  0.0000 & -0.5 & -0.5 & -0.5 & 9789 & 50\\\\\n",
       "\t 50 & Q123.1 & Surprise  & bipoc & female & adult & uncertain & https://uwmadison.co1.qualtrics.com/ControlPanel/Graphic.php?IM=IM\\_74kgKNSWDU7crjM &  0.2732 & -0.5 &  0.5 & -0.5 & 9790 & 50\\\\\n",
       "\t 50 & Q122.1 & Anger     & white & male   & child & surprise  & https://uwmadison.co1.qualtrics.com/ControlPanel/Graphic.php?IM=IM\\_0Tk0DUpmSjqZP9Q & -0.5719 &  0.5 & -0.5 &  0.5 & 9791 & 50\\\\\n",
       "\t 50 & Q195.1 & Neutral   & white & male   & child & uncertain & https://uwmadison.co1.qualtrics.com/ControlPanel/Graphic.php?IM=IM\\_9tcpk2rnvGGXq7A &  0.0000 &  0.5 & -0.5 &  0.5 & 9792 & 50\\\\\n",
       "\\end{tabular}\n"
      ],
      "text/markdown": [
       "\n",
       "A spec_tbl_df: 9792 × 14\n",
       "\n",
       "| participantId &lt;chr&gt; | photoId &lt;chr&gt; | emotion &lt;chr&gt; | ethnicity &lt;chr&gt; | sex &lt;chr&gt; | age &lt;chr&gt; | label &lt;chr&gt; | url &lt;chr&gt; | sentimentScore &lt;dbl&gt; | sexC &lt;dbl&gt; | ageC &lt;dbl&gt; | ethnicityC &lt;dbl&gt; | ID &lt;int&gt; | participantIdF &lt;fct&gt; |\n",
       "|---|---|---|---|---|---|---|---|---|---|---|---|---|---|\n",
       "| 0 | Q2.1   | Neutral   | bipoc | female | adult | anger     | https://uwmadison.co1.qualtrics.com/ControlPanel/Graphic.php?IM=IM_bJXdODAZHOaG0rI |  0.0000 | -0.5 |  0.5 | -0.5 |  1 | 0 |\n",
       "| 0 | Q163.1 | Happiness | white | male   | child | happiness | https://uwmadison.co1.qualtrics.com/ControlPanel/Graphic.php?IM=IM_eWnGys8SLE5J3Cu |  0.5574 |  0.5 | -0.5 |  0.5 |  2 | 0 |\n",
       "| 0 | Q77.1  | Disgust   | bipoc | male   | adult | disgust   | https://uwmadison.co1.qualtrics.com/ControlPanel/Graphic.php?IM=IM_1Zx26VAbwv9uFFQ | -0.5994 |  0.5 |  0.5 | -0.5 |  3 | 0 |\n",
       "| 0 | Q78.1  | Disgust   | bipoc | male   | child | disgust   | https://uwmadison.co1.qualtrics.com/ControlPanel/Graphic.php?IM=IM_bjzYq2UEKkXH7aC | -0.5994 |  0.5 | -0.5 | -0.5 |  4 | 0 |\n",
       "| 0 | Q162.1 | Happiness | white | male   | adult | happiness | https://uwmadison.co1.qualtrics.com/ControlPanel/Graphic.php?IM=IM_3NR7AkPxBUkdOQe |  0.5574 |  0.5 |  0.5 |  0.5 |  5 | 0 |\n",
       "| 0 | Q79.1  | Uncertain | white | female | adult | disgust   | https://uwmadison.co1.qualtrics.com/ControlPanel/Graphic.php?IM=IM_5hkOSrFORUoHopM | -0.2960 | -0.5 |  0.5 |  0.5 |  6 | 0 |\n",
       "| 0 | Q130.1 | Happiness | white | male   | child | uncertain | https://uwmadison.co1.qualtrics.com/ControlPanel/Graphic.php?IM=IM_eMb3pnSJgKC0VFk |  0.5574 |  0.5 | -0.5 |  0.5 |  7 | 0 |\n",
       "| 0 | Q20.1  | Fear      | bipoc | male   | adult | fear      | https://uwmadison.co1.qualtrics.com/ControlPanel/Graphic.php?IM=IM_54KW05fRgzNmLfE | -0.4939 |  0.5 |  0.5 | -0.5 |  8 | 0 |\n",
       "| 0 | Q7.1   | Anger     | white | female | child | anger     | https://uwmadison.co1.qualtrics.com/ControlPanel/Graphic.php?IM=IM_1XqAx3FzoRDFZt4 | -0.5719 | -0.5 | -0.5 |  0.5 |  9 | 0 |\n",
       "| 0 | Q80.1  | Other     | white | female | child | disgust   | https://uwmadison.co1.qualtrics.com/ControlPanel/Graphic.php?IM=IM_244QOC2to2Jetca |  0.0000 | -0.5 | -0.5 |  0.5 | 10 | 0 |\n",
       "| 0 | Q81.1  | Disgust   | white | male   | adult | disgust   | https://uwmadison.co1.qualtrics.com/ControlPanel/Graphic.php?IM=IM_7aEgC4sWsfM5I5E | -0.5994 |  0.5 |  0.5 |  0.5 | 11 | 0 |\n",
       "| 0 | Q160.1 | Happiness | white | female | adult | happiness | https://uwmadison.co1.qualtrics.com/ControlPanel/Graphic.php?IM=IM_57Gr1XAHK9uhWES |  0.5574 | -0.5 |  0.5 |  0.5 | 12 | 0 |\n",
       "| 0 | Q82.1  | Disgust   | white | male   | child | disgust   | https://uwmadison.co1.qualtrics.com/ControlPanel/Graphic.php?IM=IM_7P182C9dn0ypgtE | -0.5994 |  0.5 | -0.5 |  0.5 | 13 | 0 |\n",
       "| 0 | Q83.1  | Fear      | bipoc | female | adult | fear      | https://uwmadison.co1.qualtrics.com/ControlPanel/Graphic.php?IM=IM_9tzXvOnfZ589gH4 | -0.4939 | -0.5 |  0.5 | -0.5 | 14 | 0 |\n",
       "| 0 | Q159.1 | Happiness | bipoc | male   | child | happiness | https://uwmadison.co1.qualtrics.com/ControlPanel/Graphic.php?IM=IM_d060VdjZY82W38W |  0.5574 |  0.5 | -0.5 | -0.5 | 15 | 0 |\n",
       "| 0 | Q84.1  | Sadness   | bipoc | female | child | fear      | https://uwmadison.co1.qualtrics.com/ControlPanel/Graphic.php?IM=IM_0BVeUJelcjahWwC | -0.4404 | -0.5 | -0.5 | -0.5 | 16 | 0 |\n",
       "| 0 | Q85.1  | Surprise  | bipoc | male   | adult | fear      | https://uwmadison.co1.qualtrics.com/ControlPanel/Graphic.php?IM=IM_e3vAzbw1fMlXZyu |  0.2732 |  0.5 |  0.5 | -0.5 | 17 | 0 |\n",
       "| 0 | Q158.1 | Happiness | bipoc | male   | adult | happiness | https://uwmadison.co1.qualtrics.com/ControlPanel/Graphic.php?IM=IM_agxa9UIrTk07jxQ |  0.5574 |  0.5 |  0.5 | -0.5 | 18 | 0 |\n",
       "| 0 | Q18.1  | Fear      | bipoc | female | adult | fear      | https://uwmadison.co1.qualtrics.com/ControlPanel/Graphic.php?IM=IM_6qVleJUYoACmf6C | -0.4939 | -0.5 |  0.5 | -0.5 | 19 | 0 |\n",
       "| 0 | Q193.1 | Uncertain | white | female | child | uncertain | https://uwmadison.co1.qualtrics.com/ControlPanel/Graphic.php?IM=IM_beic5cGPkQFDmhU | -0.2960 | -0.5 | -0.5 |  0.5 | 20 | 0 |\n",
       "| 0 | Q154.1 | Surprise  | white | male   | adult | fear      | https://uwmadison.co1.qualtrics.com/ControlPanel/Graphic.php?IM=IM_4Z1hhf1G3PvXBci |  0.2732 |  0.5 |  0.5 |  0.5 | 21 | 0 |\n",
       "| 0 | Q91.1  | Happiness | bipoc | female | adult | happiness | https://uwmadison.co1.qualtrics.com/ControlPanel/Graphic.php?IM=IM_0xPTvIpG1sPU3QO |  0.5574 | -0.5 |  0.5 | -0.5 | 22 | 0 |\n",
       "| 0 | Q8.1   | Anger     | white | male   | adult | anger     | https://uwmadison.co1.qualtrics.com/ControlPanel/Graphic.php?IM=IM_7PC2cgcyr5yUiOy | -0.5719 |  0.5 |  0.5 |  0.5 | 23 | 0 |\n",
       "| 0 | Q90.1  | Fear      | white | male   | child | fear      | https://uwmadison.co1.qualtrics.com/ControlPanel/Graphic.php?IM=IM_0AKqpsdouereE5M | -0.4939 |  0.5 | -0.5 |  0.5 | 24 | 0 |\n",
       "| 0 | Q76.1  | Other     | bipoc | female | child | disgust   | https://uwmadison.co1.qualtrics.com/ControlPanel/Graphic.php?IM=IM_e9BJyTeFPLQ7ZUq |  0.0000 | -0.5 | -0.5 | -0.5 | 25 | 0 |\n",
       "| 0 | Q155.1 | Surprise  | white | male   | child | fear      | https://uwmadison.co1.qualtrics.com/ControlPanel/Graphic.php?IM=IM_9mNPsRAgBbHenPM |  0.2732 |  0.5 | -0.5 |  0.5 | 26 | 0 |\n",
       "| 0 | Q88.1  | Surprise  | white | female | child | fear      | https://uwmadison.co1.qualtrics.com/ControlPanel/Graphic.php?IM=IM_40G6uAIeohgXMGi |  0.2732 | -0.5 | -0.5 |  0.5 | 27 | 0 |\n",
       "| 0 | Q156.1 | Happiness | bipoc | female | adult | happiness | https://uwmadison.co1.qualtrics.com/ControlPanel/Graphic.php?IM=IM_0GtSGAki0COJYO2 |  0.5574 | -0.5 |  0.5 | -0.5 | 28 | 0 |\n",
       "| 0 | Q87.1  | Surprise  | white | female | adult | fear      | https://uwmadison.co1.qualtrics.com/ControlPanel/Graphic.php?IM=IM_5AWayt9Py1ZQmUe |  0.2732 | -0.5 |  0.5 |  0.5 | 29 | 0 |\n",
       "| 0 | Q86.1  | Other     | bipoc | male   | child | fear      | https://uwmadison.co1.qualtrics.com/ControlPanel/Graphic.php?IM=IM_byJrSqTzp3ZhZ9Y |  0.0000 |  0.5 | -0.5 | -0.5 | 30 | 0 |\n",
       "| ⋮ | ⋮ | ⋮ | ⋮ | ⋮ | ⋮ | ⋮ | ⋮ | ⋮ | ⋮ | ⋮ | ⋮ | ⋮ | ⋮ |\n",
       "| 50 | Q102.1 | Surprise  | bipoc | male   | child | neutral   | https://uwmadison.co1.qualtrics.com/ControlPanel/Graphic.php?IM=IM_bw2zfW24xOcYU9o |  0.2732 |  0.5 | -0.5 | -0.5 | 9763 | 50 |\n",
       "| 50 | Q101.1 | Neutral   | bipoc | male   | adult | neutral   | https://uwmadison.co1.qualtrics.com/ControlPanel/Graphic.php?IM=IM_3gSfRO9Zt2G8NP8 |  0.0000 |  0.5 |  0.5 | -0.5 | 9764 | 50 |\n",
       "| 50 | Q100.1 | Neutral   | bipoc | female | child | neutral   | https://uwmadison.co1.qualtrics.com/ControlPanel/Graphic.php?IM=IM_5bFJqMaV53Zsy0K |  0.0000 | -0.5 | -0.5 | -0.5 | 9765 | 50 |\n",
       "| 50 | Q99.1  | Anger     | bipoc | female | adult | neutral   | https://uwmadison.co1.qualtrics.com/ControlPanel/Graphic.php?IM=IM_39Riowawi2KEmV0 | -0.5719 | -0.5 |  0.5 | -0.5 | 9766 | 50 |\n",
       "| 50 | Q97.1  | Happiness | white | male   | adult | happiness | https://uwmadison.co1.qualtrics.com/ControlPanel/Graphic.php?IM=IM_ewCuSR8n6UYi2MK |  0.5574 |  0.5 |  0.5 |  0.5 | 9767 | 50 |\n",
       "| 50 | Q107.1 | Sadness   | bipoc | female | adult | sadness   | https://uwmadison.co1.qualtrics.com/ControlPanel/Graphic.php?IM=IM_83amQw1mO0Wac06 | -0.4404 | -0.5 |  0.5 | -0.5 | 9768 | 50 |\n",
       "| 50 | Q143.1 | Disgust   | bipoc | male   | child | disgust   | https://uwmadison.co1.qualtrics.com/ControlPanel/Graphic.php?IM=IM_7WCRz9fBbsgi9Qq | -0.5994 |  0.5 | -0.5 | -0.5 | 9769 | 50 |\n",
       "| 50 | Q119.1 | Surprise  | white | female | adult | surprise  | https://uwmadison.co1.qualtrics.com/ControlPanel/Graphic.php?IM=IM_2s03op8efMn39Eq |  0.2732 | -0.5 |  0.5 |  0.5 | 9770 | 50 |\n",
       "| 50 | Q121.1 | Surprise  | white | male   | adult | surprise  | https://uwmadison.co1.qualtrics.com/ControlPanel/Graphic.php?IM=IM_2004WZkMOAt3rVk |  0.2732 |  0.5 |  0.5 |  0.5 | 9771 | 50 |\n",
       "| 50 | Q141.1 | Anger     | bipoc | female | child | disgust   | https://uwmadison.co1.qualtrics.com/ControlPanel/Graphic.php?IM=IM_0SwhYgwrLxTB3LM | -0.5719 | -0.5 | -0.5 | -0.5 | 9772 | 50 |\n",
       "| 50 | Q140.1 | Fear      | bipoc | female | adult | disgust   | https://uwmadison.co1.qualtrics.com/ControlPanel/Graphic.php?IM=IM_bsHb1M3p1kgjsF0 | -0.4939 | -0.5 |  0.5 | -0.5 | 9773 | 50 |\n",
       "| 50 | Q139.1 | Disgust   | white | male   | child | anger     | https://uwmadison.co1.qualtrics.com/ControlPanel/Graphic.php?IM=IM_5AcJkrT27k6XRmm | -0.5994 |  0.5 | -0.5 |  0.5 | 9774 | 50 |\n",
       "| 50 | Q138.1 | Anger     | white | male   | adult | anger     | https://uwmadison.co1.qualtrics.com/ControlPanel/Graphic.php?IM=IM_cCHIBQubXKS0CiO | -0.5719 |  0.5 |  0.5 |  0.5 | 9775 | 50 |\n",
       "| 50 | Q137.1 | Anger     | white | female | child | anger     | https://uwmadison.co1.qualtrics.com/ControlPanel/Graphic.php?IM=IM_bHfE8z5stIRm0zI | -0.5719 | -0.5 | -0.5 |  0.5 | 9776 | 50 |\n",
       "| 50 | Q136.1 | Anger     | white | female | adult | anger     | https://uwmadison.co1.qualtrics.com/ControlPanel/Graphic.php?IM=IM_cPfESJKHoFDaWUe | -0.5719 | -0.5 |  0.5 |  0.5 | 9777 | 50 |\n",
       "| 50 | Q135.1 | Anger     | bipoc | male   | child | anger     | https://uwmadison.co1.qualtrics.com/ControlPanel/Graphic.php?IM=IM_3rsoVFgV6TcS9fg | -0.5719 |  0.5 | -0.5 | -0.5 | 9778 | 50 |\n",
       "| 50 | Q134.1 | Anger     | bipoc | male   | adult | anger     | https://uwmadison.co1.qualtrics.com/ControlPanel/Graphic.php?IM=IM_bkMyZNBgUg8ZlNY | -0.5719 |  0.5 |  0.5 | -0.5 | 9779 | 50 |\n",
       "| 50 | Q133.1 | Anger     | bipoc | female | child | anger     | https://uwmadison.co1.qualtrics.com/ControlPanel/Graphic.php?IM=IM_824LzNsLYNku2OO | -0.5719 | -0.5 | -0.5 | -0.5 | 9780 | 50 |\n",
       "| 50 | Q120.1 | Neutral   | white | female | child | surprise  | https://uwmadison.co1.qualtrics.com/ControlPanel/Graphic.php?IM=IM_3VrkAIN5BOdlfWm |  0.0000 | -0.5 | -0.5 |  0.5 | 9781 | 50 |\n",
       "| 50 | Q132.1 | Fear      | bipoc | female | adult | anger     | https://uwmadison.co1.qualtrics.com/ControlPanel/Graphic.php?IM=IM_9WTZdrQmZK2OL54 | -0.4939 | -0.5 |  0.5 | -0.5 | 9782 | 50 |\n",
       "| 50 | Q130.1 | Happiness | white | male   | child | uncertain | https://uwmadison.co1.qualtrics.com/ControlPanel/Graphic.php?IM=IM_eMb3pnSJgKC0VFk |  0.5574 |  0.5 | -0.5 |  0.5 | 9783 | 50 |\n",
       "| 50 | Q129.1 | Other     | white | male   | adult | uncertain | https://uwmadison.co1.qualtrics.com/ControlPanel/Graphic.php?IM=IM_3wreUCj6TLHFC4K |  0.0000 |  0.5 |  0.5 |  0.5 | 9784 | 50 |\n",
       "| 50 | Q128.1 | Surprise  | white | female | child | uncertain | https://uwmadison.co1.qualtrics.com/ControlPanel/Graphic.php?IM=IM_8bHO7XfbqxRugTQ |  0.2732 | -0.5 | -0.5 |  0.5 | 9785 | 50 |\n",
       "| 50 | Q127.1 | Surprise  | white | female | adult | uncertain | https://uwmadison.co1.qualtrics.com/ControlPanel/Graphic.php?IM=IM_4Z2olPR08fo1FQO |  0.2732 | -0.5 |  0.5 |  0.5 | 9786 | 50 |\n",
       "| 50 | Q126.1 | Disgust   | bipoc | male   | child | uncertain | https://uwmadison.co1.qualtrics.com/ControlPanel/Graphic.php?IM=IM_eaf2nwmlYn6uJKu | -0.5994 |  0.5 | -0.5 | -0.5 | 9787 | 50 |\n",
       "| 50 | Q125.1 | Other     | bipoc | male   | adult | uncertain | https://uwmadison.co1.qualtrics.com/ControlPanel/Graphic.php?IM=IM_afrF8KFiXbEcR2S |  0.0000 |  0.5 |  0.5 | -0.5 | 9788 | 50 |\n",
       "| 50 | Q124.1 | Other     | bipoc | female | child | uncertain | https://uwmadison.co1.qualtrics.com/ControlPanel/Graphic.php?IM=IM_cJi6x6m1lHypqN8 |  0.0000 | -0.5 | -0.5 | -0.5 | 9789 | 50 |\n",
       "| 50 | Q123.1 | Surprise  | bipoc | female | adult | uncertain | https://uwmadison.co1.qualtrics.com/ControlPanel/Graphic.php?IM=IM_74kgKNSWDU7crjM |  0.2732 | -0.5 |  0.5 | -0.5 | 9790 | 50 |\n",
       "| 50 | Q122.1 | Anger     | white | male   | child | surprise  | https://uwmadison.co1.qualtrics.com/ControlPanel/Graphic.php?IM=IM_0Tk0DUpmSjqZP9Q | -0.5719 |  0.5 | -0.5 |  0.5 | 9791 | 50 |\n",
       "| 50 | Q195.1 | Neutral   | white | male   | child | uncertain | https://uwmadison.co1.qualtrics.com/ControlPanel/Graphic.php?IM=IM_9tcpk2rnvGGXq7A |  0.0000 |  0.5 | -0.5 |  0.5 | 9792 | 50 |\n",
       "\n"
      ],
      "text/plain": [
       "     participantId photoId emotion   ethnicity sex    age   label    \n",
       "1    0             Q2.1    Neutral   bipoc     female adult anger    \n",
       "2    0             Q163.1  Happiness white     male   child happiness\n",
       "3    0             Q77.1   Disgust   bipoc     male   adult disgust  \n",
       "4    0             Q78.1   Disgust   bipoc     male   child disgust  \n",
       "5    0             Q162.1  Happiness white     male   adult happiness\n",
       "6    0             Q79.1   Uncertain white     female adult disgust  \n",
       "7    0             Q130.1  Happiness white     male   child uncertain\n",
       "8    0             Q20.1   Fear      bipoc     male   adult fear     \n",
       "9    0             Q7.1    Anger     white     female child anger    \n",
       "10   0             Q80.1   Other     white     female child disgust  \n",
       "11   0             Q81.1   Disgust   white     male   adult disgust  \n",
       "12   0             Q160.1  Happiness white     female adult happiness\n",
       "13   0             Q82.1   Disgust   white     male   child disgust  \n",
       "14   0             Q83.1   Fear      bipoc     female adult fear     \n",
       "15   0             Q159.1  Happiness bipoc     male   child happiness\n",
       "16   0             Q84.1   Sadness   bipoc     female child fear     \n",
       "17   0             Q85.1   Surprise  bipoc     male   adult fear     \n",
       "18   0             Q158.1  Happiness bipoc     male   adult happiness\n",
       "19   0             Q18.1   Fear      bipoc     female adult fear     \n",
       "20   0             Q193.1  Uncertain white     female child uncertain\n",
       "21   0             Q154.1  Surprise  white     male   adult fear     \n",
       "22   0             Q91.1   Happiness bipoc     female adult happiness\n",
       "23   0             Q8.1    Anger     white     male   adult anger    \n",
       "24   0             Q90.1   Fear      white     male   child fear     \n",
       "25   0             Q76.1   Other     bipoc     female child disgust  \n",
       "26   0             Q155.1  Surprise  white     male   child fear     \n",
       "27   0             Q88.1   Surprise  white     female child fear     \n",
       "28   0             Q156.1  Happiness bipoc     female adult happiness\n",
       "29   0             Q87.1   Surprise  white     female adult fear     \n",
       "30   0             Q86.1   Other     bipoc     male   child fear     \n",
       "⋮    ⋮             ⋮       ⋮         ⋮         ⋮      ⋮     ⋮        \n",
       "9763 50            Q102.1  Surprise  bipoc     male   child neutral  \n",
       "9764 50            Q101.1  Neutral   bipoc     male   adult neutral  \n",
       "9765 50            Q100.1  Neutral   bipoc     female child neutral  \n",
       "9766 50            Q99.1   Anger     bipoc     female adult neutral  \n",
       "9767 50            Q97.1   Happiness white     male   adult happiness\n",
       "9768 50            Q107.1  Sadness   bipoc     female adult sadness  \n",
       "9769 50            Q143.1  Disgust   bipoc     male   child disgust  \n",
       "9770 50            Q119.1  Surprise  white     female adult surprise \n",
       "9771 50            Q121.1  Surprise  white     male   adult surprise \n",
       "9772 50            Q141.1  Anger     bipoc     female child disgust  \n",
       "9773 50            Q140.1  Fear      bipoc     female adult disgust  \n",
       "9774 50            Q139.1  Disgust   white     male   child anger    \n",
       "9775 50            Q138.1  Anger     white     male   adult anger    \n",
       "9776 50            Q137.1  Anger     white     female child anger    \n",
       "9777 50            Q136.1  Anger     white     female adult anger    \n",
       "9778 50            Q135.1  Anger     bipoc     male   child anger    \n",
       "9779 50            Q134.1  Anger     bipoc     male   adult anger    \n",
       "9780 50            Q133.1  Anger     bipoc     female child anger    \n",
       "9781 50            Q120.1  Neutral   white     female child surprise \n",
       "9782 50            Q132.1  Fear      bipoc     female adult anger    \n",
       "9783 50            Q130.1  Happiness white     male   child uncertain\n",
       "9784 50            Q129.1  Other     white     male   adult uncertain\n",
       "9785 50            Q128.1  Surprise  white     female child uncertain\n",
       "9786 50            Q127.1  Surprise  white     female adult uncertain\n",
       "9787 50            Q126.1  Disgust   bipoc     male   child uncertain\n",
       "9788 50            Q125.1  Other     bipoc     male   adult uncertain\n",
       "9789 50            Q124.1  Other     bipoc     female child uncertain\n",
       "9790 50            Q123.1  Surprise  bipoc     female adult uncertain\n",
       "9791 50            Q122.1  Anger     white     male   child surprise \n",
       "9792 50            Q195.1  Neutral   white     male   child uncertain\n",
       "     url                                                                               \n",
       "1    https://uwmadison.co1.qualtrics.com/ControlPanel/Graphic.php?IM=IM_bJXdODAZHOaG0rI\n",
       "2    https://uwmadison.co1.qualtrics.com/ControlPanel/Graphic.php?IM=IM_eWnGys8SLE5J3Cu\n",
       "3    https://uwmadison.co1.qualtrics.com/ControlPanel/Graphic.php?IM=IM_1Zx26VAbwv9uFFQ\n",
       "4    https://uwmadison.co1.qualtrics.com/ControlPanel/Graphic.php?IM=IM_bjzYq2UEKkXH7aC\n",
       "5    https://uwmadison.co1.qualtrics.com/ControlPanel/Graphic.php?IM=IM_3NR7AkPxBUkdOQe\n",
       "6    https://uwmadison.co1.qualtrics.com/ControlPanel/Graphic.php?IM=IM_5hkOSrFORUoHopM\n",
       "7    https://uwmadison.co1.qualtrics.com/ControlPanel/Graphic.php?IM=IM_eMb3pnSJgKC0VFk\n",
       "8    https://uwmadison.co1.qualtrics.com/ControlPanel/Graphic.php?IM=IM_54KW05fRgzNmLfE\n",
       "9    https://uwmadison.co1.qualtrics.com/ControlPanel/Graphic.php?IM=IM_1XqAx3FzoRDFZt4\n",
       "10   https://uwmadison.co1.qualtrics.com/ControlPanel/Graphic.php?IM=IM_244QOC2to2Jetca\n",
       "11   https://uwmadison.co1.qualtrics.com/ControlPanel/Graphic.php?IM=IM_7aEgC4sWsfM5I5E\n",
       "12   https://uwmadison.co1.qualtrics.com/ControlPanel/Graphic.php?IM=IM_57Gr1XAHK9uhWES\n",
       "13   https://uwmadison.co1.qualtrics.com/ControlPanel/Graphic.php?IM=IM_7P182C9dn0ypgtE\n",
       "14   https://uwmadison.co1.qualtrics.com/ControlPanel/Graphic.php?IM=IM_9tzXvOnfZ589gH4\n",
       "15   https://uwmadison.co1.qualtrics.com/ControlPanel/Graphic.php?IM=IM_d060VdjZY82W38W\n",
       "16   https://uwmadison.co1.qualtrics.com/ControlPanel/Graphic.php?IM=IM_0BVeUJelcjahWwC\n",
       "17   https://uwmadison.co1.qualtrics.com/ControlPanel/Graphic.php?IM=IM_e3vAzbw1fMlXZyu\n",
       "18   https://uwmadison.co1.qualtrics.com/ControlPanel/Graphic.php?IM=IM_agxa9UIrTk07jxQ\n",
       "19   https://uwmadison.co1.qualtrics.com/ControlPanel/Graphic.php?IM=IM_6qVleJUYoACmf6C\n",
       "20   https://uwmadison.co1.qualtrics.com/ControlPanel/Graphic.php?IM=IM_beic5cGPkQFDmhU\n",
       "21   https://uwmadison.co1.qualtrics.com/ControlPanel/Graphic.php?IM=IM_4Z1hhf1G3PvXBci\n",
       "22   https://uwmadison.co1.qualtrics.com/ControlPanel/Graphic.php?IM=IM_0xPTvIpG1sPU3QO\n",
       "23   https://uwmadison.co1.qualtrics.com/ControlPanel/Graphic.php?IM=IM_7PC2cgcyr5yUiOy\n",
       "24   https://uwmadison.co1.qualtrics.com/ControlPanel/Graphic.php?IM=IM_0AKqpsdouereE5M\n",
       "25   https://uwmadison.co1.qualtrics.com/ControlPanel/Graphic.php?IM=IM_e9BJyTeFPLQ7ZUq\n",
       "26   https://uwmadison.co1.qualtrics.com/ControlPanel/Graphic.php?IM=IM_9mNPsRAgBbHenPM\n",
       "27   https://uwmadison.co1.qualtrics.com/ControlPanel/Graphic.php?IM=IM_40G6uAIeohgXMGi\n",
       "28   https://uwmadison.co1.qualtrics.com/ControlPanel/Graphic.php?IM=IM_0GtSGAki0COJYO2\n",
       "29   https://uwmadison.co1.qualtrics.com/ControlPanel/Graphic.php?IM=IM_5AWayt9Py1ZQmUe\n",
       "30   https://uwmadison.co1.qualtrics.com/ControlPanel/Graphic.php?IM=IM_byJrSqTzp3ZhZ9Y\n",
       "⋮    ⋮                                                                                 \n",
       "9763 https://uwmadison.co1.qualtrics.com/ControlPanel/Graphic.php?IM=IM_bw2zfW24xOcYU9o\n",
       "9764 https://uwmadison.co1.qualtrics.com/ControlPanel/Graphic.php?IM=IM_3gSfRO9Zt2G8NP8\n",
       "9765 https://uwmadison.co1.qualtrics.com/ControlPanel/Graphic.php?IM=IM_5bFJqMaV53Zsy0K\n",
       "9766 https://uwmadison.co1.qualtrics.com/ControlPanel/Graphic.php?IM=IM_39Riowawi2KEmV0\n",
       "9767 https://uwmadison.co1.qualtrics.com/ControlPanel/Graphic.php?IM=IM_ewCuSR8n6UYi2MK\n",
       "9768 https://uwmadison.co1.qualtrics.com/ControlPanel/Graphic.php?IM=IM_83amQw1mO0Wac06\n",
       "9769 https://uwmadison.co1.qualtrics.com/ControlPanel/Graphic.php?IM=IM_7WCRz9fBbsgi9Qq\n",
       "9770 https://uwmadison.co1.qualtrics.com/ControlPanel/Graphic.php?IM=IM_2s03op8efMn39Eq\n",
       "9771 https://uwmadison.co1.qualtrics.com/ControlPanel/Graphic.php?IM=IM_2004WZkMOAt3rVk\n",
       "9772 https://uwmadison.co1.qualtrics.com/ControlPanel/Graphic.php?IM=IM_0SwhYgwrLxTB3LM\n",
       "9773 https://uwmadison.co1.qualtrics.com/ControlPanel/Graphic.php?IM=IM_bsHb1M3p1kgjsF0\n",
       "9774 https://uwmadison.co1.qualtrics.com/ControlPanel/Graphic.php?IM=IM_5AcJkrT27k6XRmm\n",
       "9775 https://uwmadison.co1.qualtrics.com/ControlPanel/Graphic.php?IM=IM_cCHIBQubXKS0CiO\n",
       "9776 https://uwmadison.co1.qualtrics.com/ControlPanel/Graphic.php?IM=IM_bHfE8z5stIRm0zI\n",
       "9777 https://uwmadison.co1.qualtrics.com/ControlPanel/Graphic.php?IM=IM_cPfESJKHoFDaWUe\n",
       "9778 https://uwmadison.co1.qualtrics.com/ControlPanel/Graphic.php?IM=IM_3rsoVFgV6TcS9fg\n",
       "9779 https://uwmadison.co1.qualtrics.com/ControlPanel/Graphic.php?IM=IM_bkMyZNBgUg8ZlNY\n",
       "9780 https://uwmadison.co1.qualtrics.com/ControlPanel/Graphic.php?IM=IM_824LzNsLYNku2OO\n",
       "9781 https://uwmadison.co1.qualtrics.com/ControlPanel/Graphic.php?IM=IM_3VrkAIN5BOdlfWm\n",
       "9782 https://uwmadison.co1.qualtrics.com/ControlPanel/Graphic.php?IM=IM_9WTZdrQmZK2OL54\n",
       "9783 https://uwmadison.co1.qualtrics.com/ControlPanel/Graphic.php?IM=IM_eMb3pnSJgKC0VFk\n",
       "9784 https://uwmadison.co1.qualtrics.com/ControlPanel/Graphic.php?IM=IM_3wreUCj6TLHFC4K\n",
       "9785 https://uwmadison.co1.qualtrics.com/ControlPanel/Graphic.php?IM=IM_8bHO7XfbqxRugTQ\n",
       "9786 https://uwmadison.co1.qualtrics.com/ControlPanel/Graphic.php?IM=IM_4Z2olPR08fo1FQO\n",
       "9787 https://uwmadison.co1.qualtrics.com/ControlPanel/Graphic.php?IM=IM_eaf2nwmlYn6uJKu\n",
       "9788 https://uwmadison.co1.qualtrics.com/ControlPanel/Graphic.php?IM=IM_afrF8KFiXbEcR2S\n",
       "9789 https://uwmadison.co1.qualtrics.com/ControlPanel/Graphic.php?IM=IM_cJi6x6m1lHypqN8\n",
       "9790 https://uwmadison.co1.qualtrics.com/ControlPanel/Graphic.php?IM=IM_74kgKNSWDU7crjM\n",
       "9791 https://uwmadison.co1.qualtrics.com/ControlPanel/Graphic.php?IM=IM_0Tk0DUpmSjqZP9Q\n",
       "9792 https://uwmadison.co1.qualtrics.com/ControlPanel/Graphic.php?IM=IM_9tcpk2rnvGGXq7A\n",
       "     sentimentScore sexC ageC ethnicityC ID   participantIdF\n",
       "1     0.0000        -0.5  0.5 -0.5        1   0             \n",
       "2     0.5574         0.5 -0.5  0.5        2   0             \n",
       "3    -0.5994         0.5  0.5 -0.5        3   0             \n",
       "4    -0.5994         0.5 -0.5 -0.5        4   0             \n",
       "5     0.5574         0.5  0.5  0.5        5   0             \n",
       "6    -0.2960        -0.5  0.5  0.5        6   0             \n",
       "7     0.5574         0.5 -0.5  0.5        7   0             \n",
       "8    -0.4939         0.5  0.5 -0.5        8   0             \n",
       "9    -0.5719        -0.5 -0.5  0.5        9   0             \n",
       "10    0.0000        -0.5 -0.5  0.5       10   0             \n",
       "11   -0.5994         0.5  0.5  0.5       11   0             \n",
       "12    0.5574        -0.5  0.5  0.5       12   0             \n",
       "13   -0.5994         0.5 -0.5  0.5       13   0             \n",
       "14   -0.4939        -0.5  0.5 -0.5       14   0             \n",
       "15    0.5574         0.5 -0.5 -0.5       15   0             \n",
       "16   -0.4404        -0.5 -0.5 -0.5       16   0             \n",
       "17    0.2732         0.5  0.5 -0.5       17   0             \n",
       "18    0.5574         0.5  0.5 -0.5       18   0             \n",
       "19   -0.4939        -0.5  0.5 -0.5       19   0             \n",
       "20   -0.2960        -0.5 -0.5  0.5       20   0             \n",
       "21    0.2732         0.5  0.5  0.5       21   0             \n",
       "22    0.5574        -0.5  0.5 -0.5       22   0             \n",
       "23   -0.5719         0.5  0.5  0.5       23   0             \n",
       "24   -0.4939         0.5 -0.5  0.5       24   0             \n",
       "25    0.0000        -0.5 -0.5 -0.5       25   0             \n",
       "26    0.2732         0.5 -0.5  0.5       26   0             \n",
       "27    0.2732        -0.5 -0.5  0.5       27   0             \n",
       "28    0.5574        -0.5  0.5 -0.5       28   0             \n",
       "29    0.2732        -0.5  0.5  0.5       29   0             \n",
       "30    0.0000         0.5 -0.5 -0.5       30   0             \n",
       "⋮    ⋮              ⋮    ⋮    ⋮          ⋮    ⋮             \n",
       "9763  0.2732         0.5 -0.5 -0.5       9763 50            \n",
       "9764  0.0000         0.5  0.5 -0.5       9764 50            \n",
       "9765  0.0000        -0.5 -0.5 -0.5       9765 50            \n",
       "9766 -0.5719        -0.5  0.5 -0.5       9766 50            \n",
       "9767  0.5574         0.5  0.5  0.5       9767 50            \n",
       "9768 -0.4404        -0.5  0.5 -0.5       9768 50            \n",
       "9769 -0.5994         0.5 -0.5 -0.5       9769 50            \n",
       "9770  0.2732        -0.5  0.5  0.5       9770 50            \n",
       "9771  0.2732         0.5  0.5  0.5       9771 50            \n",
       "9772 -0.5719        -0.5 -0.5 -0.5       9772 50            \n",
       "9773 -0.4939        -0.5  0.5 -0.5       9773 50            \n",
       "9774 -0.5994         0.5 -0.5  0.5       9774 50            \n",
       "9775 -0.5719         0.5  0.5  0.5       9775 50            \n",
       "9776 -0.5719        -0.5 -0.5  0.5       9776 50            \n",
       "9777 -0.5719        -0.5  0.5  0.5       9777 50            \n",
       "9778 -0.5719         0.5 -0.5 -0.5       9778 50            \n",
       "9779 -0.5719         0.5  0.5 -0.5       9779 50            \n",
       "9780 -0.5719        -0.5 -0.5 -0.5       9780 50            \n",
       "9781  0.0000        -0.5 -0.5  0.5       9781 50            \n",
       "9782 -0.4939        -0.5  0.5 -0.5       9782 50            \n",
       "9783  0.5574         0.5 -0.5  0.5       9783 50            \n",
       "9784  0.0000         0.5  0.5  0.5       9784 50            \n",
       "9785  0.2732        -0.5 -0.5  0.5       9785 50            \n",
       "9786  0.2732        -0.5  0.5  0.5       9786 50            \n",
       "9787 -0.5994         0.5 -0.5 -0.5       9787 50            \n",
       "9788  0.0000         0.5  0.5 -0.5       9788 50            \n",
       "9789  0.0000        -0.5 -0.5 -0.5       9789 50            \n",
       "9790  0.2732        -0.5  0.5 -0.5       9790 50            \n",
       "9791 -0.5719         0.5 -0.5  0.5       9791 50            \n",
       "9792  0.0000         0.5 -0.5  0.5       9792 50            "
      ]
     },
     "metadata": {},
     "output_type": "display_data"
    }
   ],
   "source": [
    "df"
   ]
  },
  {
   "cell_type": "code",
   "execution_count": 96,
   "id": "7b98ce41",
   "metadata": {},
   "outputs": [],
   "source": [
    "df_long = df %>% select(participantId, sex, age, ethnicity, photoId, sentimentScore)"
   ]
  },
  {
   "cell_type": "code",
   "execution_count": 98,
   "id": "9cd195b1",
   "metadata": {},
   "outputs": [
    {
     "name": "stderr",
     "output_type": "stream",
     "text": [
      "Aggregation function missing: defaulting to length\n",
      "\n"
     ]
    },
    {
     "data": {
      "text/html": [
       "<table class=\"dataframe\">\n",
       "<caption>A data.frame: 8 × 195</caption>\n",
       "<thead>\n",
       "\t<tr><th scope=col>sex</th><th scope=col>age</th><th scope=col>ethnicity</th><th scope=col>Q10.1</th><th scope=col>Q100.1</th><th scope=col>Q101.1</th><th scope=col>Q102.1</th><th scope=col>Q103.1</th><th scope=col>Q104.1</th><th scope=col>Q105.1</th><th scope=col>⋯</th><th scope=col>Q90.1</th><th scope=col>Q91.1</th><th scope=col>Q92.1</th><th scope=col>Q93.1</th><th scope=col>Q94.1</th><th scope=col>Q95.1</th><th scope=col>Q96.1</th><th scope=col>Q97.1</th><th scope=col>Q98.1</th><th scope=col>Q99.1</th></tr>\n",
       "\t<tr><th scope=col>&lt;chr&gt;</th><th scope=col>&lt;chr&gt;</th><th scope=col>&lt;chr&gt;</th><th scope=col>&lt;int&gt;</th><th scope=col>&lt;int&gt;</th><th scope=col>&lt;int&gt;</th><th scope=col>&lt;int&gt;</th><th scope=col>&lt;int&gt;</th><th scope=col>&lt;int&gt;</th><th scope=col>&lt;int&gt;</th><th scope=col>⋯</th><th scope=col>&lt;int&gt;</th><th scope=col>&lt;int&gt;</th><th scope=col>&lt;int&gt;</th><th scope=col>&lt;int&gt;</th><th scope=col>&lt;int&gt;</th><th scope=col>&lt;int&gt;</th><th scope=col>&lt;int&gt;</th><th scope=col>&lt;int&gt;</th><th scope=col>&lt;int&gt;</th><th scope=col>&lt;int&gt;</th></tr>\n",
       "</thead>\n",
       "<tbody>\n",
       "\t<tr><td>female</td><td>adult</td><td>bipoc</td><td>51</td><td> 0</td><td> 0</td><td> 0</td><td> 0</td><td> 0</td><td> 0</td><td>⋯</td><td> 0</td><td>51</td><td> 0</td><td> 0</td><td> 0</td><td> 0</td><td> 0</td><td> 0</td><td> 0</td><td>51</td></tr>\n",
       "\t<tr><td>female</td><td>adult</td><td>white</td><td> 0</td><td> 0</td><td> 0</td><td> 0</td><td>51</td><td> 0</td><td> 0</td><td>⋯</td><td> 0</td><td> 0</td><td> 0</td><td> 0</td><td> 0</td><td>51</td><td> 0</td><td> 0</td><td> 0</td><td> 0</td></tr>\n",
       "\t<tr><td>female</td><td>child</td><td>bipoc</td><td> 0</td><td>51</td><td> 0</td><td> 0</td><td> 0</td><td> 0</td><td> 0</td><td>⋯</td><td> 0</td><td> 0</td><td>51</td><td> 0</td><td> 0</td><td> 0</td><td> 0</td><td> 0</td><td> 0</td><td> 0</td></tr>\n",
       "\t<tr><td>female</td><td>child</td><td>white</td><td> 0</td><td> 0</td><td> 0</td><td> 0</td><td> 0</td><td>51</td><td> 0</td><td>⋯</td><td> 0</td><td> 0</td><td> 0</td><td> 0</td><td> 0</td><td> 0</td><td>51</td><td> 0</td><td> 0</td><td> 0</td></tr>\n",
       "\t<tr><td>male  </td><td>adult</td><td>bipoc</td><td> 0</td><td> 0</td><td>51</td><td> 0</td><td> 0</td><td> 0</td><td> 0</td><td>⋯</td><td> 0</td><td> 0</td><td> 0</td><td>51</td><td> 0</td><td> 0</td><td> 0</td><td> 0</td><td> 0</td><td> 0</td></tr>\n",
       "\t<tr><td>male  </td><td>adult</td><td>white</td><td> 0</td><td> 0</td><td> 0</td><td> 0</td><td> 0</td><td> 0</td><td>51</td><td>⋯</td><td> 0</td><td> 0</td><td> 0</td><td> 0</td><td> 0</td><td> 0</td><td> 0</td><td>51</td><td> 0</td><td> 0</td></tr>\n",
       "\t<tr><td>male  </td><td>child</td><td>bipoc</td><td> 0</td><td> 0</td><td> 0</td><td>51</td><td> 0</td><td> 0</td><td> 0</td><td>⋯</td><td> 0</td><td> 0</td><td> 0</td><td> 0</td><td>51</td><td> 0</td><td> 0</td><td> 0</td><td> 0</td><td> 0</td></tr>\n",
       "\t<tr><td>male  </td><td>child</td><td>white</td><td> 0</td><td> 0</td><td> 0</td><td> 0</td><td> 0</td><td> 0</td><td> 0</td><td>⋯</td><td>51</td><td> 0</td><td> 0</td><td> 0</td><td> 0</td><td> 0</td><td> 0</td><td> 0</td><td>51</td><td> 0</td></tr>\n",
       "</tbody>\n",
       "</table>\n"
      ],
      "text/latex": [
       "A data.frame: 8 × 195\n",
       "\\begin{tabular}{lllllllllllllllllllll}\n",
       " sex & age & ethnicity & Q10.1 & Q100.1 & Q101.1 & Q102.1 & Q103.1 & Q104.1 & Q105.1 & ⋯ & Q90.1 & Q91.1 & Q92.1 & Q93.1 & Q94.1 & Q95.1 & Q96.1 & Q97.1 & Q98.1 & Q99.1\\\\\n",
       " <chr> & <chr> & <chr> & <int> & <int> & <int> & <int> & <int> & <int> & <int> & ⋯ & <int> & <int> & <int> & <int> & <int> & <int> & <int> & <int> & <int> & <int>\\\\\n",
       "\\hline\n",
       "\t female & adult & bipoc & 51 &  0 &  0 &  0 &  0 &  0 &  0 & ⋯ &  0 & 51 &  0 &  0 &  0 &  0 &  0 &  0 &  0 & 51\\\\\n",
       "\t female & adult & white &  0 &  0 &  0 &  0 & 51 &  0 &  0 & ⋯ &  0 &  0 &  0 &  0 &  0 & 51 &  0 &  0 &  0 &  0\\\\\n",
       "\t female & child & bipoc &  0 & 51 &  0 &  0 &  0 &  0 &  0 & ⋯ &  0 &  0 & 51 &  0 &  0 &  0 &  0 &  0 &  0 &  0\\\\\n",
       "\t female & child & white &  0 &  0 &  0 &  0 &  0 & 51 &  0 & ⋯ &  0 &  0 &  0 &  0 &  0 &  0 & 51 &  0 &  0 &  0\\\\\n",
       "\t male   & adult & bipoc &  0 &  0 & 51 &  0 &  0 &  0 &  0 & ⋯ &  0 &  0 &  0 & 51 &  0 &  0 &  0 &  0 &  0 &  0\\\\\n",
       "\t male   & adult & white &  0 &  0 &  0 &  0 &  0 &  0 & 51 & ⋯ &  0 &  0 &  0 &  0 &  0 &  0 &  0 & 51 &  0 &  0\\\\\n",
       "\t male   & child & bipoc &  0 &  0 &  0 & 51 &  0 &  0 &  0 & ⋯ &  0 &  0 &  0 &  0 & 51 &  0 &  0 &  0 &  0 &  0\\\\\n",
       "\t male   & child & white &  0 &  0 &  0 &  0 &  0 &  0 &  0 & ⋯ & 51 &  0 &  0 &  0 &  0 &  0 &  0 &  0 & 51 &  0\\\\\n",
       "\\end{tabular}\n"
      ],
      "text/markdown": [
       "\n",
       "A data.frame: 8 × 195\n",
       "\n",
       "| sex &lt;chr&gt; | age &lt;chr&gt; | ethnicity &lt;chr&gt; | Q10.1 &lt;int&gt; | Q100.1 &lt;int&gt; | Q101.1 &lt;int&gt; | Q102.1 &lt;int&gt; | Q103.1 &lt;int&gt; | Q104.1 &lt;int&gt; | Q105.1 &lt;int&gt; | ⋯ ⋯ | Q90.1 &lt;int&gt; | Q91.1 &lt;int&gt; | Q92.1 &lt;int&gt; | Q93.1 &lt;int&gt; | Q94.1 &lt;int&gt; | Q95.1 &lt;int&gt; | Q96.1 &lt;int&gt; | Q97.1 &lt;int&gt; | Q98.1 &lt;int&gt; | Q99.1 &lt;int&gt; |\n",
       "|---|---|---|---|---|---|---|---|---|---|---|---|---|---|---|---|---|---|---|---|---|\n",
       "| female | adult | bipoc | 51 |  0 |  0 |  0 |  0 |  0 |  0 | ⋯ |  0 | 51 |  0 |  0 |  0 |  0 |  0 |  0 |  0 | 51 |\n",
       "| female | adult | white |  0 |  0 |  0 |  0 | 51 |  0 |  0 | ⋯ |  0 |  0 |  0 |  0 |  0 | 51 |  0 |  0 |  0 |  0 |\n",
       "| female | child | bipoc |  0 | 51 |  0 |  0 |  0 |  0 |  0 | ⋯ |  0 |  0 | 51 |  0 |  0 |  0 |  0 |  0 |  0 |  0 |\n",
       "| female | child | white |  0 |  0 |  0 |  0 |  0 | 51 |  0 | ⋯ |  0 |  0 |  0 |  0 |  0 |  0 | 51 |  0 |  0 |  0 |\n",
       "| male   | adult | bipoc |  0 |  0 | 51 |  0 |  0 |  0 |  0 | ⋯ |  0 |  0 |  0 | 51 |  0 |  0 |  0 |  0 |  0 |  0 |\n",
       "| male   | adult | white |  0 |  0 |  0 |  0 |  0 |  0 | 51 | ⋯ |  0 |  0 |  0 |  0 |  0 |  0 |  0 | 51 |  0 |  0 |\n",
       "| male   | child | bipoc |  0 |  0 |  0 | 51 |  0 |  0 |  0 | ⋯ |  0 |  0 |  0 |  0 | 51 |  0 |  0 |  0 |  0 |  0 |\n",
       "| male   | child | white |  0 |  0 |  0 |  0 |  0 |  0 |  0 | ⋯ | 51 |  0 |  0 |  0 |  0 |  0 |  0 |  0 | 51 |  0 |\n",
       "\n"
      ],
      "text/plain": [
       "  sex    age   ethnicity Q10.1 Q100.1 Q101.1 Q102.1 Q103.1 Q104.1 Q105.1 ⋯\n",
       "1 female adult bipoc     51     0      0      0      0      0      0     ⋯\n",
       "2 female adult white      0     0      0      0     51      0      0     ⋯\n",
       "3 female child bipoc      0    51      0      0      0      0      0     ⋯\n",
       "4 female child white      0     0      0      0      0     51      0     ⋯\n",
       "5 male   adult bipoc      0     0     51      0      0      0      0     ⋯\n",
       "6 male   adult white      0     0      0      0      0      0     51     ⋯\n",
       "7 male   child bipoc      0     0      0     51      0      0      0     ⋯\n",
       "8 male   child white      0     0      0      0      0      0      0     ⋯\n",
       "  Q90.1 Q91.1 Q92.1 Q93.1 Q94.1 Q95.1 Q96.1 Q97.1 Q98.1 Q99.1\n",
       "1  0    51     0     0     0     0     0     0     0    51   \n",
       "2  0     0     0     0     0    51     0     0     0     0   \n",
       "3  0     0    51     0     0     0     0     0     0     0   \n",
       "4  0     0     0     0     0     0    51     0     0     0   \n",
       "5  0     0     0    51     0     0     0     0     0     0   \n",
       "6  0     0     0     0     0     0     0    51     0     0   \n",
       "7  0     0     0     0    51     0     0     0     0     0   \n",
       "8 51     0     0     0     0     0     0     0    51     0   "
      ]
     },
     "metadata": {},
     "output_type": "display_data"
    }
   ],
   "source": [
    "library(reshape2)\n",
    "\n",
    "data_wide <- dcast(df_long,sex + age + ethnicity ~ photoId, value.var=\"sentimentScore\")\n",
    "data_wide"
   ]
  },
  {
   "cell_type": "code",
   "execution_count": 88,
   "id": "92c9bc0d",
   "metadata": {},
   "outputs": [
    {
     "data": {
      "text/html": [
       "<table class=\"dataframe\">\n",
       "<caption>A tibble: 9792 × 14</caption>\n",
       "<thead>\n",
       "\t<tr><th scope=col>participantId</th><th scope=col>photoId</th><th scope=col>emotion</th><th scope=col>ethnicity</th><th scope=col>age</th><th scope=col>label</th><th scope=col>url</th><th scope=col>sexC</th><th scope=col>ageC</th><th scope=col>ethnicityC</th><th scope=col>ID</th><th scope=col>participantIdF</th><th scope=col>female</th><th scope=col>male</th></tr>\n",
       "\t<tr><th scope=col>&lt;chr&gt;</th><th scope=col>&lt;chr&gt;</th><th scope=col>&lt;chr&gt;</th><th scope=col>&lt;chr&gt;</th><th scope=col>&lt;chr&gt;</th><th scope=col>&lt;chr&gt;</th><th scope=col>&lt;chr&gt;</th><th scope=col>&lt;dbl&gt;</th><th scope=col>&lt;dbl&gt;</th><th scope=col>&lt;dbl&gt;</th><th scope=col>&lt;int&gt;</th><th scope=col>&lt;fct&gt;</th><th scope=col>&lt;dbl&gt;</th><th scope=col>&lt;dbl&gt;</th></tr>\n",
       "</thead>\n",
       "<tbody>\n",
       "\t<tr><td>0</td><td>Q2.1  </td><td>Neutral  </td><td>bipoc</td><td>adult</td><td>anger    </td><td>https://uwmadison.co1.qualtrics.com/ControlPanel/Graphic.php?IM=IM_bJXdODAZHOaG0rI</td><td>-0.5</td><td> 0.5</td><td>-0.5</td><td> 1</td><td>0</td><td> 0.0000</td><td>     NA</td></tr>\n",
       "\t<tr><td>0</td><td>Q163.1</td><td>Happiness</td><td>white</td><td>child</td><td>happiness</td><td>https://uwmadison.co1.qualtrics.com/ControlPanel/Graphic.php?IM=IM_eWnGys8SLE5J3Cu</td><td> 0.5</td><td>-0.5</td><td> 0.5</td><td> 2</td><td>0</td><td>     NA</td><td> 0.5574</td></tr>\n",
       "\t<tr><td>0</td><td>Q77.1 </td><td>Disgust  </td><td>bipoc</td><td>adult</td><td>disgust  </td><td>https://uwmadison.co1.qualtrics.com/ControlPanel/Graphic.php?IM=IM_1Zx26VAbwv9uFFQ</td><td> 0.5</td><td> 0.5</td><td>-0.5</td><td> 3</td><td>0</td><td>     NA</td><td>-0.5994</td></tr>\n",
       "\t<tr><td>0</td><td>Q78.1 </td><td>Disgust  </td><td>bipoc</td><td>child</td><td>disgust  </td><td>https://uwmadison.co1.qualtrics.com/ControlPanel/Graphic.php?IM=IM_bjzYq2UEKkXH7aC</td><td> 0.5</td><td>-0.5</td><td>-0.5</td><td> 4</td><td>0</td><td>     NA</td><td>-0.5994</td></tr>\n",
       "\t<tr><td>0</td><td>Q162.1</td><td>Happiness</td><td>white</td><td>adult</td><td>happiness</td><td>https://uwmadison.co1.qualtrics.com/ControlPanel/Graphic.php?IM=IM_3NR7AkPxBUkdOQe</td><td> 0.5</td><td> 0.5</td><td> 0.5</td><td> 5</td><td>0</td><td>     NA</td><td> 0.5574</td></tr>\n",
       "\t<tr><td>0</td><td>Q79.1 </td><td>Uncertain</td><td>white</td><td>adult</td><td>disgust  </td><td>https://uwmadison.co1.qualtrics.com/ControlPanel/Graphic.php?IM=IM_5hkOSrFORUoHopM</td><td>-0.5</td><td> 0.5</td><td> 0.5</td><td> 6</td><td>0</td><td>-0.2960</td><td>     NA</td></tr>\n",
       "\t<tr><td>0</td><td>Q130.1</td><td>Happiness</td><td>white</td><td>child</td><td>uncertain</td><td>https://uwmadison.co1.qualtrics.com/ControlPanel/Graphic.php?IM=IM_eMb3pnSJgKC0VFk</td><td> 0.5</td><td>-0.5</td><td> 0.5</td><td> 7</td><td>0</td><td>     NA</td><td> 0.5574</td></tr>\n",
       "\t<tr><td>0</td><td>Q20.1 </td><td>Fear     </td><td>bipoc</td><td>adult</td><td>fear     </td><td>https://uwmadison.co1.qualtrics.com/ControlPanel/Graphic.php?IM=IM_54KW05fRgzNmLfE</td><td> 0.5</td><td> 0.5</td><td>-0.5</td><td> 8</td><td>0</td><td>     NA</td><td>-0.4939</td></tr>\n",
       "\t<tr><td>0</td><td>Q7.1  </td><td>Anger    </td><td>white</td><td>child</td><td>anger    </td><td>https://uwmadison.co1.qualtrics.com/ControlPanel/Graphic.php?IM=IM_1XqAx3FzoRDFZt4</td><td>-0.5</td><td>-0.5</td><td> 0.5</td><td> 9</td><td>0</td><td>-0.5719</td><td>     NA</td></tr>\n",
       "\t<tr><td>0</td><td>Q80.1 </td><td>Other    </td><td>white</td><td>child</td><td>disgust  </td><td>https://uwmadison.co1.qualtrics.com/ControlPanel/Graphic.php?IM=IM_244QOC2to2Jetca</td><td>-0.5</td><td>-0.5</td><td> 0.5</td><td>10</td><td>0</td><td> 0.0000</td><td>     NA</td></tr>\n",
       "\t<tr><td>0</td><td>Q81.1 </td><td>Disgust  </td><td>white</td><td>adult</td><td>disgust  </td><td>https://uwmadison.co1.qualtrics.com/ControlPanel/Graphic.php?IM=IM_7aEgC4sWsfM5I5E</td><td> 0.5</td><td> 0.5</td><td> 0.5</td><td>11</td><td>0</td><td>     NA</td><td>-0.5994</td></tr>\n",
       "\t<tr><td>0</td><td>Q160.1</td><td>Happiness</td><td>white</td><td>adult</td><td>happiness</td><td>https://uwmadison.co1.qualtrics.com/ControlPanel/Graphic.php?IM=IM_57Gr1XAHK9uhWES</td><td>-0.5</td><td> 0.5</td><td> 0.5</td><td>12</td><td>0</td><td> 0.5574</td><td>     NA</td></tr>\n",
       "\t<tr><td>0</td><td>Q82.1 </td><td>Disgust  </td><td>white</td><td>child</td><td>disgust  </td><td>https://uwmadison.co1.qualtrics.com/ControlPanel/Graphic.php?IM=IM_7P182C9dn0ypgtE</td><td> 0.5</td><td>-0.5</td><td> 0.5</td><td>13</td><td>0</td><td>     NA</td><td>-0.5994</td></tr>\n",
       "\t<tr><td>0</td><td>Q83.1 </td><td>Fear     </td><td>bipoc</td><td>adult</td><td>fear     </td><td>https://uwmadison.co1.qualtrics.com/ControlPanel/Graphic.php?IM=IM_9tzXvOnfZ589gH4</td><td>-0.5</td><td> 0.5</td><td>-0.5</td><td>14</td><td>0</td><td>-0.4939</td><td>     NA</td></tr>\n",
       "\t<tr><td>0</td><td>Q159.1</td><td>Happiness</td><td>bipoc</td><td>child</td><td>happiness</td><td>https://uwmadison.co1.qualtrics.com/ControlPanel/Graphic.php?IM=IM_d060VdjZY82W38W</td><td> 0.5</td><td>-0.5</td><td>-0.5</td><td>15</td><td>0</td><td>     NA</td><td> 0.5574</td></tr>\n",
       "\t<tr><td>0</td><td>Q84.1 </td><td>Sadness  </td><td>bipoc</td><td>child</td><td>fear     </td><td>https://uwmadison.co1.qualtrics.com/ControlPanel/Graphic.php?IM=IM_0BVeUJelcjahWwC</td><td>-0.5</td><td>-0.5</td><td>-0.5</td><td>16</td><td>0</td><td>-0.4404</td><td>     NA</td></tr>\n",
       "\t<tr><td>0</td><td>Q85.1 </td><td>Surprise </td><td>bipoc</td><td>adult</td><td>fear     </td><td>https://uwmadison.co1.qualtrics.com/ControlPanel/Graphic.php?IM=IM_e3vAzbw1fMlXZyu</td><td> 0.5</td><td> 0.5</td><td>-0.5</td><td>17</td><td>0</td><td>     NA</td><td> 0.2732</td></tr>\n",
       "\t<tr><td>0</td><td>Q158.1</td><td>Happiness</td><td>bipoc</td><td>adult</td><td>happiness</td><td>https://uwmadison.co1.qualtrics.com/ControlPanel/Graphic.php?IM=IM_agxa9UIrTk07jxQ</td><td> 0.5</td><td> 0.5</td><td>-0.5</td><td>18</td><td>0</td><td>     NA</td><td> 0.5574</td></tr>\n",
       "\t<tr><td>0</td><td>Q18.1 </td><td>Fear     </td><td>bipoc</td><td>adult</td><td>fear     </td><td>https://uwmadison.co1.qualtrics.com/ControlPanel/Graphic.php?IM=IM_6qVleJUYoACmf6C</td><td>-0.5</td><td> 0.5</td><td>-0.5</td><td>19</td><td>0</td><td>-0.4939</td><td>     NA</td></tr>\n",
       "\t<tr><td>0</td><td>Q193.1</td><td>Uncertain</td><td>white</td><td>child</td><td>uncertain</td><td>https://uwmadison.co1.qualtrics.com/ControlPanel/Graphic.php?IM=IM_beic5cGPkQFDmhU</td><td>-0.5</td><td>-0.5</td><td> 0.5</td><td>20</td><td>0</td><td>-0.2960</td><td>     NA</td></tr>\n",
       "\t<tr><td>0</td><td>Q154.1</td><td>Surprise </td><td>white</td><td>adult</td><td>fear     </td><td>https://uwmadison.co1.qualtrics.com/ControlPanel/Graphic.php?IM=IM_4Z1hhf1G3PvXBci</td><td> 0.5</td><td> 0.5</td><td> 0.5</td><td>21</td><td>0</td><td>     NA</td><td> 0.2732</td></tr>\n",
       "\t<tr><td>0</td><td>Q91.1 </td><td>Happiness</td><td>bipoc</td><td>adult</td><td>happiness</td><td>https://uwmadison.co1.qualtrics.com/ControlPanel/Graphic.php?IM=IM_0xPTvIpG1sPU3QO</td><td>-0.5</td><td> 0.5</td><td>-0.5</td><td>22</td><td>0</td><td> 0.5574</td><td>     NA</td></tr>\n",
       "\t<tr><td>0</td><td>Q8.1  </td><td>Anger    </td><td>white</td><td>adult</td><td>anger    </td><td>https://uwmadison.co1.qualtrics.com/ControlPanel/Graphic.php?IM=IM_7PC2cgcyr5yUiOy</td><td> 0.5</td><td> 0.5</td><td> 0.5</td><td>23</td><td>0</td><td>     NA</td><td>-0.5719</td></tr>\n",
       "\t<tr><td>0</td><td>Q90.1 </td><td>Fear     </td><td>white</td><td>child</td><td>fear     </td><td>https://uwmadison.co1.qualtrics.com/ControlPanel/Graphic.php?IM=IM_0AKqpsdouereE5M</td><td> 0.5</td><td>-0.5</td><td> 0.5</td><td>24</td><td>0</td><td>     NA</td><td>-0.4939</td></tr>\n",
       "\t<tr><td>0</td><td>Q76.1 </td><td>Other    </td><td>bipoc</td><td>child</td><td>disgust  </td><td>https://uwmadison.co1.qualtrics.com/ControlPanel/Graphic.php?IM=IM_e9BJyTeFPLQ7ZUq</td><td>-0.5</td><td>-0.5</td><td>-0.5</td><td>25</td><td>0</td><td> 0.0000</td><td>     NA</td></tr>\n",
       "\t<tr><td>0</td><td>Q155.1</td><td>Surprise </td><td>white</td><td>child</td><td>fear     </td><td>https://uwmadison.co1.qualtrics.com/ControlPanel/Graphic.php?IM=IM_9mNPsRAgBbHenPM</td><td> 0.5</td><td>-0.5</td><td> 0.5</td><td>26</td><td>0</td><td>     NA</td><td> 0.2732</td></tr>\n",
       "\t<tr><td>0</td><td>Q88.1 </td><td>Surprise </td><td>white</td><td>child</td><td>fear     </td><td>https://uwmadison.co1.qualtrics.com/ControlPanel/Graphic.php?IM=IM_40G6uAIeohgXMGi</td><td>-0.5</td><td>-0.5</td><td> 0.5</td><td>27</td><td>0</td><td> 0.2732</td><td>     NA</td></tr>\n",
       "\t<tr><td>0</td><td>Q156.1</td><td>Happiness</td><td>bipoc</td><td>adult</td><td>happiness</td><td>https://uwmadison.co1.qualtrics.com/ControlPanel/Graphic.php?IM=IM_0GtSGAki0COJYO2</td><td>-0.5</td><td> 0.5</td><td>-0.5</td><td>28</td><td>0</td><td> 0.5574</td><td>     NA</td></tr>\n",
       "\t<tr><td>0</td><td>Q87.1 </td><td>Surprise </td><td>white</td><td>adult</td><td>fear     </td><td>https://uwmadison.co1.qualtrics.com/ControlPanel/Graphic.php?IM=IM_5AWayt9Py1ZQmUe</td><td>-0.5</td><td> 0.5</td><td> 0.5</td><td>29</td><td>0</td><td> 0.2732</td><td>     NA</td></tr>\n",
       "\t<tr><td>0</td><td>Q86.1 </td><td>Other    </td><td>bipoc</td><td>child</td><td>fear     </td><td>https://uwmadison.co1.qualtrics.com/ControlPanel/Graphic.php?IM=IM_byJrSqTzp3ZhZ9Y</td><td> 0.5</td><td>-0.5</td><td>-0.5</td><td>30</td><td>0</td><td>     NA</td><td> 0.0000</td></tr>\n",
       "\t<tr><td>⋮</td><td>⋮</td><td>⋮</td><td>⋮</td><td>⋮</td><td>⋮</td><td>⋮</td><td>⋮</td><td>⋮</td><td>⋮</td><td>⋮</td><td>⋮</td><td>⋮</td><td>⋮</td></tr>\n",
       "\t<tr><td>50</td><td>Q102.1</td><td>Surprise </td><td>bipoc</td><td>child</td><td>neutral  </td><td>https://uwmadison.co1.qualtrics.com/ControlPanel/Graphic.php?IM=IM_bw2zfW24xOcYU9o</td><td> 0.5</td><td>-0.5</td><td>-0.5</td><td>9763</td><td>50</td><td>     NA</td><td> 0.2732</td></tr>\n",
       "\t<tr><td>50</td><td>Q101.1</td><td>Neutral  </td><td>bipoc</td><td>adult</td><td>neutral  </td><td>https://uwmadison.co1.qualtrics.com/ControlPanel/Graphic.php?IM=IM_3gSfRO9Zt2G8NP8</td><td> 0.5</td><td> 0.5</td><td>-0.5</td><td>9764</td><td>50</td><td>     NA</td><td> 0.0000</td></tr>\n",
       "\t<tr><td>50</td><td>Q100.1</td><td>Neutral  </td><td>bipoc</td><td>child</td><td>neutral  </td><td>https://uwmadison.co1.qualtrics.com/ControlPanel/Graphic.php?IM=IM_5bFJqMaV53Zsy0K</td><td>-0.5</td><td>-0.5</td><td>-0.5</td><td>9765</td><td>50</td><td> 0.0000</td><td>     NA</td></tr>\n",
       "\t<tr><td>50</td><td>Q99.1 </td><td>Anger    </td><td>bipoc</td><td>adult</td><td>neutral  </td><td>https://uwmadison.co1.qualtrics.com/ControlPanel/Graphic.php?IM=IM_39Riowawi2KEmV0</td><td>-0.5</td><td> 0.5</td><td>-0.5</td><td>9766</td><td>50</td><td>-0.5719</td><td>     NA</td></tr>\n",
       "\t<tr><td>50</td><td>Q97.1 </td><td>Happiness</td><td>white</td><td>adult</td><td>happiness</td><td>https://uwmadison.co1.qualtrics.com/ControlPanel/Graphic.php?IM=IM_ewCuSR8n6UYi2MK</td><td> 0.5</td><td> 0.5</td><td> 0.5</td><td>9767</td><td>50</td><td>     NA</td><td> 0.5574</td></tr>\n",
       "\t<tr><td>50</td><td>Q107.1</td><td>Sadness  </td><td>bipoc</td><td>adult</td><td>sadness  </td><td>https://uwmadison.co1.qualtrics.com/ControlPanel/Graphic.php?IM=IM_83amQw1mO0Wac06</td><td>-0.5</td><td> 0.5</td><td>-0.5</td><td>9768</td><td>50</td><td>-0.4404</td><td>     NA</td></tr>\n",
       "\t<tr><td>50</td><td>Q143.1</td><td>Disgust  </td><td>bipoc</td><td>child</td><td>disgust  </td><td>https://uwmadison.co1.qualtrics.com/ControlPanel/Graphic.php?IM=IM_7WCRz9fBbsgi9Qq</td><td> 0.5</td><td>-0.5</td><td>-0.5</td><td>9769</td><td>50</td><td>     NA</td><td>-0.5994</td></tr>\n",
       "\t<tr><td>50</td><td>Q119.1</td><td>Surprise </td><td>white</td><td>adult</td><td>surprise </td><td>https://uwmadison.co1.qualtrics.com/ControlPanel/Graphic.php?IM=IM_2s03op8efMn39Eq</td><td>-0.5</td><td> 0.5</td><td> 0.5</td><td>9770</td><td>50</td><td> 0.2732</td><td>     NA</td></tr>\n",
       "\t<tr><td>50</td><td>Q121.1</td><td>Surprise </td><td>white</td><td>adult</td><td>surprise </td><td>https://uwmadison.co1.qualtrics.com/ControlPanel/Graphic.php?IM=IM_2004WZkMOAt3rVk</td><td> 0.5</td><td> 0.5</td><td> 0.5</td><td>9771</td><td>50</td><td>     NA</td><td> 0.2732</td></tr>\n",
       "\t<tr><td>50</td><td>Q141.1</td><td>Anger    </td><td>bipoc</td><td>child</td><td>disgust  </td><td>https://uwmadison.co1.qualtrics.com/ControlPanel/Graphic.php?IM=IM_0SwhYgwrLxTB3LM</td><td>-0.5</td><td>-0.5</td><td>-0.5</td><td>9772</td><td>50</td><td>-0.5719</td><td>     NA</td></tr>\n",
       "\t<tr><td>50</td><td>Q140.1</td><td>Fear     </td><td>bipoc</td><td>adult</td><td>disgust  </td><td>https://uwmadison.co1.qualtrics.com/ControlPanel/Graphic.php?IM=IM_bsHb1M3p1kgjsF0</td><td>-0.5</td><td> 0.5</td><td>-0.5</td><td>9773</td><td>50</td><td>-0.4939</td><td>     NA</td></tr>\n",
       "\t<tr><td>50</td><td>Q139.1</td><td>Disgust  </td><td>white</td><td>child</td><td>anger    </td><td>https://uwmadison.co1.qualtrics.com/ControlPanel/Graphic.php?IM=IM_5AcJkrT27k6XRmm</td><td> 0.5</td><td>-0.5</td><td> 0.5</td><td>9774</td><td>50</td><td>     NA</td><td>-0.5994</td></tr>\n",
       "\t<tr><td>50</td><td>Q138.1</td><td>Anger    </td><td>white</td><td>adult</td><td>anger    </td><td>https://uwmadison.co1.qualtrics.com/ControlPanel/Graphic.php?IM=IM_cCHIBQubXKS0CiO</td><td> 0.5</td><td> 0.5</td><td> 0.5</td><td>9775</td><td>50</td><td>     NA</td><td>-0.5719</td></tr>\n",
       "\t<tr><td>50</td><td>Q137.1</td><td>Anger    </td><td>white</td><td>child</td><td>anger    </td><td>https://uwmadison.co1.qualtrics.com/ControlPanel/Graphic.php?IM=IM_bHfE8z5stIRm0zI</td><td>-0.5</td><td>-0.5</td><td> 0.5</td><td>9776</td><td>50</td><td>-0.5719</td><td>     NA</td></tr>\n",
       "\t<tr><td>50</td><td>Q136.1</td><td>Anger    </td><td>white</td><td>adult</td><td>anger    </td><td>https://uwmadison.co1.qualtrics.com/ControlPanel/Graphic.php?IM=IM_cPfESJKHoFDaWUe</td><td>-0.5</td><td> 0.5</td><td> 0.5</td><td>9777</td><td>50</td><td>-0.5719</td><td>     NA</td></tr>\n",
       "\t<tr><td>50</td><td>Q135.1</td><td>Anger    </td><td>bipoc</td><td>child</td><td>anger    </td><td>https://uwmadison.co1.qualtrics.com/ControlPanel/Graphic.php?IM=IM_3rsoVFgV6TcS9fg</td><td> 0.5</td><td>-0.5</td><td>-0.5</td><td>9778</td><td>50</td><td>     NA</td><td>-0.5719</td></tr>\n",
       "\t<tr><td>50</td><td>Q134.1</td><td>Anger    </td><td>bipoc</td><td>adult</td><td>anger    </td><td>https://uwmadison.co1.qualtrics.com/ControlPanel/Graphic.php?IM=IM_bkMyZNBgUg8ZlNY</td><td> 0.5</td><td> 0.5</td><td>-0.5</td><td>9779</td><td>50</td><td>     NA</td><td>-0.5719</td></tr>\n",
       "\t<tr><td>50</td><td>Q133.1</td><td>Anger    </td><td>bipoc</td><td>child</td><td>anger    </td><td>https://uwmadison.co1.qualtrics.com/ControlPanel/Graphic.php?IM=IM_824LzNsLYNku2OO</td><td>-0.5</td><td>-0.5</td><td>-0.5</td><td>9780</td><td>50</td><td>-0.5719</td><td>     NA</td></tr>\n",
       "\t<tr><td>50</td><td>Q120.1</td><td>Neutral  </td><td>white</td><td>child</td><td>surprise </td><td>https://uwmadison.co1.qualtrics.com/ControlPanel/Graphic.php?IM=IM_3VrkAIN5BOdlfWm</td><td>-0.5</td><td>-0.5</td><td> 0.5</td><td>9781</td><td>50</td><td> 0.0000</td><td>     NA</td></tr>\n",
       "\t<tr><td>50</td><td>Q132.1</td><td>Fear     </td><td>bipoc</td><td>adult</td><td>anger    </td><td>https://uwmadison.co1.qualtrics.com/ControlPanel/Graphic.php?IM=IM_9WTZdrQmZK2OL54</td><td>-0.5</td><td> 0.5</td><td>-0.5</td><td>9782</td><td>50</td><td>-0.4939</td><td>     NA</td></tr>\n",
       "\t<tr><td>50</td><td>Q130.1</td><td>Happiness</td><td>white</td><td>child</td><td>uncertain</td><td>https://uwmadison.co1.qualtrics.com/ControlPanel/Graphic.php?IM=IM_eMb3pnSJgKC0VFk</td><td> 0.5</td><td>-0.5</td><td> 0.5</td><td>9783</td><td>50</td><td>     NA</td><td> 0.5574</td></tr>\n",
       "\t<tr><td>50</td><td>Q129.1</td><td>Other    </td><td>white</td><td>adult</td><td>uncertain</td><td>https://uwmadison.co1.qualtrics.com/ControlPanel/Graphic.php?IM=IM_3wreUCj6TLHFC4K</td><td> 0.5</td><td> 0.5</td><td> 0.5</td><td>9784</td><td>50</td><td>     NA</td><td> 0.0000</td></tr>\n",
       "\t<tr><td>50</td><td>Q128.1</td><td>Surprise </td><td>white</td><td>child</td><td>uncertain</td><td>https://uwmadison.co1.qualtrics.com/ControlPanel/Graphic.php?IM=IM_8bHO7XfbqxRugTQ</td><td>-0.5</td><td>-0.5</td><td> 0.5</td><td>9785</td><td>50</td><td> 0.2732</td><td>     NA</td></tr>\n",
       "\t<tr><td>50</td><td>Q127.1</td><td>Surprise </td><td>white</td><td>adult</td><td>uncertain</td><td>https://uwmadison.co1.qualtrics.com/ControlPanel/Graphic.php?IM=IM_4Z2olPR08fo1FQO</td><td>-0.5</td><td> 0.5</td><td> 0.5</td><td>9786</td><td>50</td><td> 0.2732</td><td>     NA</td></tr>\n",
       "\t<tr><td>50</td><td>Q126.1</td><td>Disgust  </td><td>bipoc</td><td>child</td><td>uncertain</td><td>https://uwmadison.co1.qualtrics.com/ControlPanel/Graphic.php?IM=IM_eaf2nwmlYn6uJKu</td><td> 0.5</td><td>-0.5</td><td>-0.5</td><td>9787</td><td>50</td><td>     NA</td><td>-0.5994</td></tr>\n",
       "\t<tr><td>50</td><td>Q125.1</td><td>Other    </td><td>bipoc</td><td>adult</td><td>uncertain</td><td>https://uwmadison.co1.qualtrics.com/ControlPanel/Graphic.php?IM=IM_afrF8KFiXbEcR2S</td><td> 0.5</td><td> 0.5</td><td>-0.5</td><td>9788</td><td>50</td><td>     NA</td><td> 0.0000</td></tr>\n",
       "\t<tr><td>50</td><td>Q124.1</td><td>Other    </td><td>bipoc</td><td>child</td><td>uncertain</td><td>https://uwmadison.co1.qualtrics.com/ControlPanel/Graphic.php?IM=IM_cJi6x6m1lHypqN8</td><td>-0.5</td><td>-0.5</td><td>-0.5</td><td>9789</td><td>50</td><td> 0.0000</td><td>     NA</td></tr>\n",
       "\t<tr><td>50</td><td>Q123.1</td><td>Surprise </td><td>bipoc</td><td>adult</td><td>uncertain</td><td>https://uwmadison.co1.qualtrics.com/ControlPanel/Graphic.php?IM=IM_74kgKNSWDU7crjM</td><td>-0.5</td><td> 0.5</td><td>-0.5</td><td>9790</td><td>50</td><td> 0.2732</td><td>     NA</td></tr>\n",
       "\t<tr><td>50</td><td>Q122.1</td><td>Anger    </td><td>white</td><td>child</td><td>surprise </td><td>https://uwmadison.co1.qualtrics.com/ControlPanel/Graphic.php?IM=IM_0Tk0DUpmSjqZP9Q</td><td> 0.5</td><td>-0.5</td><td> 0.5</td><td>9791</td><td>50</td><td>     NA</td><td>-0.5719</td></tr>\n",
       "\t<tr><td>50</td><td>Q195.1</td><td>Neutral  </td><td>white</td><td>child</td><td>uncertain</td><td>https://uwmadison.co1.qualtrics.com/ControlPanel/Graphic.php?IM=IM_9tcpk2rnvGGXq7A</td><td> 0.5</td><td>-0.5</td><td> 0.5</td><td>9792</td><td>50</td><td>     NA</td><td> 0.0000</td></tr>\n",
       "</tbody>\n",
       "</table>\n"
      ],
      "text/latex": [
       "A tibble: 9792 × 14\n",
       "\\begin{tabular}{llllllllllllll}\n",
       " participantId & photoId & emotion & ethnicity & age & label & url & sexC & ageC & ethnicityC & ID & participantIdF & female & male\\\\\n",
       " <chr> & <chr> & <chr> & <chr> & <chr> & <chr> & <chr> & <dbl> & <dbl> & <dbl> & <int> & <fct> & <dbl> & <dbl>\\\\\n",
       "\\hline\n",
       "\t 0 & Q2.1   & Neutral   & bipoc & adult & anger     & https://uwmadison.co1.qualtrics.com/ControlPanel/Graphic.php?IM=IM\\_bJXdODAZHOaG0rI & -0.5 &  0.5 & -0.5 &  1 & 0 &  0.0000 &      NA\\\\\n",
       "\t 0 & Q163.1 & Happiness & white & child & happiness & https://uwmadison.co1.qualtrics.com/ControlPanel/Graphic.php?IM=IM\\_eWnGys8SLE5J3Cu &  0.5 & -0.5 &  0.5 &  2 & 0 &      NA &  0.5574\\\\\n",
       "\t 0 & Q77.1  & Disgust   & bipoc & adult & disgust   & https://uwmadison.co1.qualtrics.com/ControlPanel/Graphic.php?IM=IM\\_1Zx26VAbwv9uFFQ &  0.5 &  0.5 & -0.5 &  3 & 0 &      NA & -0.5994\\\\\n",
       "\t 0 & Q78.1  & Disgust   & bipoc & child & disgust   & https://uwmadison.co1.qualtrics.com/ControlPanel/Graphic.php?IM=IM\\_bjzYq2UEKkXH7aC &  0.5 & -0.5 & -0.5 &  4 & 0 &      NA & -0.5994\\\\\n",
       "\t 0 & Q162.1 & Happiness & white & adult & happiness & https://uwmadison.co1.qualtrics.com/ControlPanel/Graphic.php?IM=IM\\_3NR7AkPxBUkdOQe &  0.5 &  0.5 &  0.5 &  5 & 0 &      NA &  0.5574\\\\\n",
       "\t 0 & Q79.1  & Uncertain & white & adult & disgust   & https://uwmadison.co1.qualtrics.com/ControlPanel/Graphic.php?IM=IM\\_5hkOSrFORUoHopM & -0.5 &  0.5 &  0.5 &  6 & 0 & -0.2960 &      NA\\\\\n",
       "\t 0 & Q130.1 & Happiness & white & child & uncertain & https://uwmadison.co1.qualtrics.com/ControlPanel/Graphic.php?IM=IM\\_eMb3pnSJgKC0VFk &  0.5 & -0.5 &  0.5 &  7 & 0 &      NA &  0.5574\\\\\n",
       "\t 0 & Q20.1  & Fear      & bipoc & adult & fear      & https://uwmadison.co1.qualtrics.com/ControlPanel/Graphic.php?IM=IM\\_54KW05fRgzNmLfE &  0.5 &  0.5 & -0.5 &  8 & 0 &      NA & -0.4939\\\\\n",
       "\t 0 & Q7.1   & Anger     & white & child & anger     & https://uwmadison.co1.qualtrics.com/ControlPanel/Graphic.php?IM=IM\\_1XqAx3FzoRDFZt4 & -0.5 & -0.5 &  0.5 &  9 & 0 & -0.5719 &      NA\\\\\n",
       "\t 0 & Q80.1  & Other     & white & child & disgust   & https://uwmadison.co1.qualtrics.com/ControlPanel/Graphic.php?IM=IM\\_244QOC2to2Jetca & -0.5 & -0.5 &  0.5 & 10 & 0 &  0.0000 &      NA\\\\\n",
       "\t 0 & Q81.1  & Disgust   & white & adult & disgust   & https://uwmadison.co1.qualtrics.com/ControlPanel/Graphic.php?IM=IM\\_7aEgC4sWsfM5I5E &  0.5 &  0.5 &  0.5 & 11 & 0 &      NA & -0.5994\\\\\n",
       "\t 0 & Q160.1 & Happiness & white & adult & happiness & https://uwmadison.co1.qualtrics.com/ControlPanel/Graphic.php?IM=IM\\_57Gr1XAHK9uhWES & -0.5 &  0.5 &  0.5 & 12 & 0 &  0.5574 &      NA\\\\\n",
       "\t 0 & Q82.1  & Disgust   & white & child & disgust   & https://uwmadison.co1.qualtrics.com/ControlPanel/Graphic.php?IM=IM\\_7P182C9dn0ypgtE &  0.5 & -0.5 &  0.5 & 13 & 0 &      NA & -0.5994\\\\\n",
       "\t 0 & Q83.1  & Fear      & bipoc & adult & fear      & https://uwmadison.co1.qualtrics.com/ControlPanel/Graphic.php?IM=IM\\_9tzXvOnfZ589gH4 & -0.5 &  0.5 & -0.5 & 14 & 0 & -0.4939 &      NA\\\\\n",
       "\t 0 & Q159.1 & Happiness & bipoc & child & happiness & https://uwmadison.co1.qualtrics.com/ControlPanel/Graphic.php?IM=IM\\_d060VdjZY82W38W &  0.5 & -0.5 & -0.5 & 15 & 0 &      NA &  0.5574\\\\\n",
       "\t 0 & Q84.1  & Sadness   & bipoc & child & fear      & https://uwmadison.co1.qualtrics.com/ControlPanel/Graphic.php?IM=IM\\_0BVeUJelcjahWwC & -0.5 & -0.5 & -0.5 & 16 & 0 & -0.4404 &      NA\\\\\n",
       "\t 0 & Q85.1  & Surprise  & bipoc & adult & fear      & https://uwmadison.co1.qualtrics.com/ControlPanel/Graphic.php?IM=IM\\_e3vAzbw1fMlXZyu &  0.5 &  0.5 & -0.5 & 17 & 0 &      NA &  0.2732\\\\\n",
       "\t 0 & Q158.1 & Happiness & bipoc & adult & happiness & https://uwmadison.co1.qualtrics.com/ControlPanel/Graphic.php?IM=IM\\_agxa9UIrTk07jxQ &  0.5 &  0.5 & -0.5 & 18 & 0 &      NA &  0.5574\\\\\n",
       "\t 0 & Q18.1  & Fear      & bipoc & adult & fear      & https://uwmadison.co1.qualtrics.com/ControlPanel/Graphic.php?IM=IM\\_6qVleJUYoACmf6C & -0.5 &  0.5 & -0.5 & 19 & 0 & -0.4939 &      NA\\\\\n",
       "\t 0 & Q193.1 & Uncertain & white & child & uncertain & https://uwmadison.co1.qualtrics.com/ControlPanel/Graphic.php?IM=IM\\_beic5cGPkQFDmhU & -0.5 & -0.5 &  0.5 & 20 & 0 & -0.2960 &      NA\\\\\n",
       "\t 0 & Q154.1 & Surprise  & white & adult & fear      & https://uwmadison.co1.qualtrics.com/ControlPanel/Graphic.php?IM=IM\\_4Z1hhf1G3PvXBci &  0.5 &  0.5 &  0.5 & 21 & 0 &      NA &  0.2732\\\\\n",
       "\t 0 & Q91.1  & Happiness & bipoc & adult & happiness & https://uwmadison.co1.qualtrics.com/ControlPanel/Graphic.php?IM=IM\\_0xPTvIpG1sPU3QO & -0.5 &  0.5 & -0.5 & 22 & 0 &  0.5574 &      NA\\\\\n",
       "\t 0 & Q8.1   & Anger     & white & adult & anger     & https://uwmadison.co1.qualtrics.com/ControlPanel/Graphic.php?IM=IM\\_7PC2cgcyr5yUiOy &  0.5 &  0.5 &  0.5 & 23 & 0 &      NA & -0.5719\\\\\n",
       "\t 0 & Q90.1  & Fear      & white & child & fear      & https://uwmadison.co1.qualtrics.com/ControlPanel/Graphic.php?IM=IM\\_0AKqpsdouereE5M &  0.5 & -0.5 &  0.5 & 24 & 0 &      NA & -0.4939\\\\\n",
       "\t 0 & Q76.1  & Other     & bipoc & child & disgust   & https://uwmadison.co1.qualtrics.com/ControlPanel/Graphic.php?IM=IM\\_e9BJyTeFPLQ7ZUq & -0.5 & -0.5 & -0.5 & 25 & 0 &  0.0000 &      NA\\\\\n",
       "\t 0 & Q155.1 & Surprise  & white & child & fear      & https://uwmadison.co1.qualtrics.com/ControlPanel/Graphic.php?IM=IM\\_9mNPsRAgBbHenPM &  0.5 & -0.5 &  0.5 & 26 & 0 &      NA &  0.2732\\\\\n",
       "\t 0 & Q88.1  & Surprise  & white & child & fear      & https://uwmadison.co1.qualtrics.com/ControlPanel/Graphic.php?IM=IM\\_40G6uAIeohgXMGi & -0.5 & -0.5 &  0.5 & 27 & 0 &  0.2732 &      NA\\\\\n",
       "\t 0 & Q156.1 & Happiness & bipoc & adult & happiness & https://uwmadison.co1.qualtrics.com/ControlPanel/Graphic.php?IM=IM\\_0GtSGAki0COJYO2 & -0.5 &  0.5 & -0.5 & 28 & 0 &  0.5574 &      NA\\\\\n",
       "\t 0 & Q87.1  & Surprise  & white & adult & fear      & https://uwmadison.co1.qualtrics.com/ControlPanel/Graphic.php?IM=IM\\_5AWayt9Py1ZQmUe & -0.5 &  0.5 &  0.5 & 29 & 0 &  0.2732 &      NA\\\\\n",
       "\t 0 & Q86.1  & Other     & bipoc & child & fear      & https://uwmadison.co1.qualtrics.com/ControlPanel/Graphic.php?IM=IM\\_byJrSqTzp3ZhZ9Y &  0.5 & -0.5 & -0.5 & 30 & 0 &      NA &  0.0000\\\\\n",
       "\t ⋮ & ⋮ & ⋮ & ⋮ & ⋮ & ⋮ & ⋮ & ⋮ & ⋮ & ⋮ & ⋮ & ⋮ & ⋮ & ⋮\\\\\n",
       "\t 50 & Q102.1 & Surprise  & bipoc & child & neutral   & https://uwmadison.co1.qualtrics.com/ControlPanel/Graphic.php?IM=IM\\_bw2zfW24xOcYU9o &  0.5 & -0.5 & -0.5 & 9763 & 50 &      NA &  0.2732\\\\\n",
       "\t 50 & Q101.1 & Neutral   & bipoc & adult & neutral   & https://uwmadison.co1.qualtrics.com/ControlPanel/Graphic.php?IM=IM\\_3gSfRO9Zt2G8NP8 &  0.5 &  0.5 & -0.5 & 9764 & 50 &      NA &  0.0000\\\\\n",
       "\t 50 & Q100.1 & Neutral   & bipoc & child & neutral   & https://uwmadison.co1.qualtrics.com/ControlPanel/Graphic.php?IM=IM\\_5bFJqMaV53Zsy0K & -0.5 & -0.5 & -0.5 & 9765 & 50 &  0.0000 &      NA\\\\\n",
       "\t 50 & Q99.1  & Anger     & bipoc & adult & neutral   & https://uwmadison.co1.qualtrics.com/ControlPanel/Graphic.php?IM=IM\\_39Riowawi2KEmV0 & -0.5 &  0.5 & -0.5 & 9766 & 50 & -0.5719 &      NA\\\\\n",
       "\t 50 & Q97.1  & Happiness & white & adult & happiness & https://uwmadison.co1.qualtrics.com/ControlPanel/Graphic.php?IM=IM\\_ewCuSR8n6UYi2MK &  0.5 &  0.5 &  0.5 & 9767 & 50 &      NA &  0.5574\\\\\n",
       "\t 50 & Q107.1 & Sadness   & bipoc & adult & sadness   & https://uwmadison.co1.qualtrics.com/ControlPanel/Graphic.php?IM=IM\\_83amQw1mO0Wac06 & -0.5 &  0.5 & -0.5 & 9768 & 50 & -0.4404 &      NA\\\\\n",
       "\t 50 & Q143.1 & Disgust   & bipoc & child & disgust   & https://uwmadison.co1.qualtrics.com/ControlPanel/Graphic.php?IM=IM\\_7WCRz9fBbsgi9Qq &  0.5 & -0.5 & -0.5 & 9769 & 50 &      NA & -0.5994\\\\\n",
       "\t 50 & Q119.1 & Surprise  & white & adult & surprise  & https://uwmadison.co1.qualtrics.com/ControlPanel/Graphic.php?IM=IM\\_2s03op8efMn39Eq & -0.5 &  0.5 &  0.5 & 9770 & 50 &  0.2732 &      NA\\\\\n",
       "\t 50 & Q121.1 & Surprise  & white & adult & surprise  & https://uwmadison.co1.qualtrics.com/ControlPanel/Graphic.php?IM=IM\\_2004WZkMOAt3rVk &  0.5 &  0.5 &  0.5 & 9771 & 50 &      NA &  0.2732\\\\\n",
       "\t 50 & Q141.1 & Anger     & bipoc & child & disgust   & https://uwmadison.co1.qualtrics.com/ControlPanel/Graphic.php?IM=IM\\_0SwhYgwrLxTB3LM & -0.5 & -0.5 & -0.5 & 9772 & 50 & -0.5719 &      NA\\\\\n",
       "\t 50 & Q140.1 & Fear      & bipoc & adult & disgust   & https://uwmadison.co1.qualtrics.com/ControlPanel/Graphic.php?IM=IM\\_bsHb1M3p1kgjsF0 & -0.5 &  0.5 & -0.5 & 9773 & 50 & -0.4939 &      NA\\\\\n",
       "\t 50 & Q139.1 & Disgust   & white & child & anger     & https://uwmadison.co1.qualtrics.com/ControlPanel/Graphic.php?IM=IM\\_5AcJkrT27k6XRmm &  0.5 & -0.5 &  0.5 & 9774 & 50 &      NA & -0.5994\\\\\n",
       "\t 50 & Q138.1 & Anger     & white & adult & anger     & https://uwmadison.co1.qualtrics.com/ControlPanel/Graphic.php?IM=IM\\_cCHIBQubXKS0CiO &  0.5 &  0.5 &  0.5 & 9775 & 50 &      NA & -0.5719\\\\\n",
       "\t 50 & Q137.1 & Anger     & white & child & anger     & https://uwmadison.co1.qualtrics.com/ControlPanel/Graphic.php?IM=IM\\_bHfE8z5stIRm0zI & -0.5 & -0.5 &  0.5 & 9776 & 50 & -0.5719 &      NA\\\\\n",
       "\t 50 & Q136.1 & Anger     & white & adult & anger     & https://uwmadison.co1.qualtrics.com/ControlPanel/Graphic.php?IM=IM\\_cPfESJKHoFDaWUe & -0.5 &  0.5 &  0.5 & 9777 & 50 & -0.5719 &      NA\\\\\n",
       "\t 50 & Q135.1 & Anger     & bipoc & child & anger     & https://uwmadison.co1.qualtrics.com/ControlPanel/Graphic.php?IM=IM\\_3rsoVFgV6TcS9fg &  0.5 & -0.5 & -0.5 & 9778 & 50 &      NA & -0.5719\\\\\n",
       "\t 50 & Q134.1 & Anger     & bipoc & adult & anger     & https://uwmadison.co1.qualtrics.com/ControlPanel/Graphic.php?IM=IM\\_bkMyZNBgUg8ZlNY &  0.5 &  0.5 & -0.5 & 9779 & 50 &      NA & -0.5719\\\\\n",
       "\t 50 & Q133.1 & Anger     & bipoc & child & anger     & https://uwmadison.co1.qualtrics.com/ControlPanel/Graphic.php?IM=IM\\_824LzNsLYNku2OO & -0.5 & -0.5 & -0.5 & 9780 & 50 & -0.5719 &      NA\\\\\n",
       "\t 50 & Q120.1 & Neutral   & white & child & surprise  & https://uwmadison.co1.qualtrics.com/ControlPanel/Graphic.php?IM=IM\\_3VrkAIN5BOdlfWm & -0.5 & -0.5 &  0.5 & 9781 & 50 &  0.0000 &      NA\\\\\n",
       "\t 50 & Q132.1 & Fear      & bipoc & adult & anger     & https://uwmadison.co1.qualtrics.com/ControlPanel/Graphic.php?IM=IM\\_9WTZdrQmZK2OL54 & -0.5 &  0.5 & -0.5 & 9782 & 50 & -0.4939 &      NA\\\\\n",
       "\t 50 & Q130.1 & Happiness & white & child & uncertain & https://uwmadison.co1.qualtrics.com/ControlPanel/Graphic.php?IM=IM\\_eMb3pnSJgKC0VFk &  0.5 & -0.5 &  0.5 & 9783 & 50 &      NA &  0.5574\\\\\n",
       "\t 50 & Q129.1 & Other     & white & adult & uncertain & https://uwmadison.co1.qualtrics.com/ControlPanel/Graphic.php?IM=IM\\_3wreUCj6TLHFC4K &  0.5 &  0.5 &  0.5 & 9784 & 50 &      NA &  0.0000\\\\\n",
       "\t 50 & Q128.1 & Surprise  & white & child & uncertain & https://uwmadison.co1.qualtrics.com/ControlPanel/Graphic.php?IM=IM\\_8bHO7XfbqxRugTQ & -0.5 & -0.5 &  0.5 & 9785 & 50 &  0.2732 &      NA\\\\\n",
       "\t 50 & Q127.1 & Surprise  & white & adult & uncertain & https://uwmadison.co1.qualtrics.com/ControlPanel/Graphic.php?IM=IM\\_4Z2olPR08fo1FQO & -0.5 &  0.5 &  0.5 & 9786 & 50 &  0.2732 &      NA\\\\\n",
       "\t 50 & Q126.1 & Disgust   & bipoc & child & uncertain & https://uwmadison.co1.qualtrics.com/ControlPanel/Graphic.php?IM=IM\\_eaf2nwmlYn6uJKu &  0.5 & -0.5 & -0.5 & 9787 & 50 &      NA & -0.5994\\\\\n",
       "\t 50 & Q125.1 & Other     & bipoc & adult & uncertain & https://uwmadison.co1.qualtrics.com/ControlPanel/Graphic.php?IM=IM\\_afrF8KFiXbEcR2S &  0.5 &  0.5 & -0.5 & 9788 & 50 &      NA &  0.0000\\\\\n",
       "\t 50 & Q124.1 & Other     & bipoc & child & uncertain & https://uwmadison.co1.qualtrics.com/ControlPanel/Graphic.php?IM=IM\\_cJi6x6m1lHypqN8 & -0.5 & -0.5 & -0.5 & 9789 & 50 &  0.0000 &      NA\\\\\n",
       "\t 50 & Q123.1 & Surprise  & bipoc & adult & uncertain & https://uwmadison.co1.qualtrics.com/ControlPanel/Graphic.php?IM=IM\\_74kgKNSWDU7crjM & -0.5 &  0.5 & -0.5 & 9790 & 50 &  0.2732 &      NA\\\\\n",
       "\t 50 & Q122.1 & Anger     & white & child & surprise  & https://uwmadison.co1.qualtrics.com/ControlPanel/Graphic.php?IM=IM\\_0Tk0DUpmSjqZP9Q &  0.5 & -0.5 &  0.5 & 9791 & 50 &      NA & -0.5719\\\\\n",
       "\t 50 & Q195.1 & Neutral   & white & child & uncertain & https://uwmadison.co1.qualtrics.com/ControlPanel/Graphic.php?IM=IM\\_9tcpk2rnvGGXq7A &  0.5 & -0.5 &  0.5 & 9792 & 50 &      NA &  0.0000\\\\\n",
       "\\end{tabular}\n"
      ],
      "text/markdown": [
       "\n",
       "A tibble: 9792 × 14\n",
       "\n",
       "| participantId &lt;chr&gt; | photoId &lt;chr&gt; | emotion &lt;chr&gt; | ethnicity &lt;chr&gt; | age &lt;chr&gt; | label &lt;chr&gt; | url &lt;chr&gt; | sexC &lt;dbl&gt; | ageC &lt;dbl&gt; | ethnicityC &lt;dbl&gt; | ID &lt;int&gt; | participantIdF &lt;fct&gt; | female &lt;dbl&gt; | male &lt;dbl&gt; |\n",
       "|---|---|---|---|---|---|---|---|---|---|---|---|---|---|\n",
       "| 0 | Q2.1   | Neutral   | bipoc | adult | anger     | https://uwmadison.co1.qualtrics.com/ControlPanel/Graphic.php?IM=IM_bJXdODAZHOaG0rI | -0.5 |  0.5 | -0.5 |  1 | 0 |  0.0000 |      NA |\n",
       "| 0 | Q163.1 | Happiness | white | child | happiness | https://uwmadison.co1.qualtrics.com/ControlPanel/Graphic.php?IM=IM_eWnGys8SLE5J3Cu |  0.5 | -0.5 |  0.5 |  2 | 0 |      NA |  0.5574 |\n",
       "| 0 | Q77.1  | Disgust   | bipoc | adult | disgust   | https://uwmadison.co1.qualtrics.com/ControlPanel/Graphic.php?IM=IM_1Zx26VAbwv9uFFQ |  0.5 |  0.5 | -0.5 |  3 | 0 |      NA | -0.5994 |\n",
       "| 0 | Q78.1  | Disgust   | bipoc | child | disgust   | https://uwmadison.co1.qualtrics.com/ControlPanel/Graphic.php?IM=IM_bjzYq2UEKkXH7aC |  0.5 | -0.5 | -0.5 |  4 | 0 |      NA | -0.5994 |\n",
       "| 0 | Q162.1 | Happiness | white | adult | happiness | https://uwmadison.co1.qualtrics.com/ControlPanel/Graphic.php?IM=IM_3NR7AkPxBUkdOQe |  0.5 |  0.5 |  0.5 |  5 | 0 |      NA |  0.5574 |\n",
       "| 0 | Q79.1  | Uncertain | white | adult | disgust   | https://uwmadison.co1.qualtrics.com/ControlPanel/Graphic.php?IM=IM_5hkOSrFORUoHopM | -0.5 |  0.5 |  0.5 |  6 | 0 | -0.2960 |      NA |\n",
       "| 0 | Q130.1 | Happiness | white | child | uncertain | https://uwmadison.co1.qualtrics.com/ControlPanel/Graphic.php?IM=IM_eMb3pnSJgKC0VFk |  0.5 | -0.5 |  0.5 |  7 | 0 |      NA |  0.5574 |\n",
       "| 0 | Q20.1  | Fear      | bipoc | adult | fear      | https://uwmadison.co1.qualtrics.com/ControlPanel/Graphic.php?IM=IM_54KW05fRgzNmLfE |  0.5 |  0.5 | -0.5 |  8 | 0 |      NA | -0.4939 |\n",
       "| 0 | Q7.1   | Anger     | white | child | anger     | https://uwmadison.co1.qualtrics.com/ControlPanel/Graphic.php?IM=IM_1XqAx3FzoRDFZt4 | -0.5 | -0.5 |  0.5 |  9 | 0 | -0.5719 |      NA |\n",
       "| 0 | Q80.1  | Other     | white | child | disgust   | https://uwmadison.co1.qualtrics.com/ControlPanel/Graphic.php?IM=IM_244QOC2to2Jetca | -0.5 | -0.5 |  0.5 | 10 | 0 |  0.0000 |      NA |\n",
       "| 0 | Q81.1  | Disgust   | white | adult | disgust   | https://uwmadison.co1.qualtrics.com/ControlPanel/Graphic.php?IM=IM_7aEgC4sWsfM5I5E |  0.5 |  0.5 |  0.5 | 11 | 0 |      NA | -0.5994 |\n",
       "| 0 | Q160.1 | Happiness | white | adult | happiness | https://uwmadison.co1.qualtrics.com/ControlPanel/Graphic.php?IM=IM_57Gr1XAHK9uhWES | -0.5 |  0.5 |  0.5 | 12 | 0 |  0.5574 |      NA |\n",
       "| 0 | Q82.1  | Disgust   | white | child | disgust   | https://uwmadison.co1.qualtrics.com/ControlPanel/Graphic.php?IM=IM_7P182C9dn0ypgtE |  0.5 | -0.5 |  0.5 | 13 | 0 |      NA | -0.5994 |\n",
       "| 0 | Q83.1  | Fear      | bipoc | adult | fear      | https://uwmadison.co1.qualtrics.com/ControlPanel/Graphic.php?IM=IM_9tzXvOnfZ589gH4 | -0.5 |  0.5 | -0.5 | 14 | 0 | -0.4939 |      NA |\n",
       "| 0 | Q159.1 | Happiness | bipoc | child | happiness | https://uwmadison.co1.qualtrics.com/ControlPanel/Graphic.php?IM=IM_d060VdjZY82W38W |  0.5 | -0.5 | -0.5 | 15 | 0 |      NA |  0.5574 |\n",
       "| 0 | Q84.1  | Sadness   | bipoc | child | fear      | https://uwmadison.co1.qualtrics.com/ControlPanel/Graphic.php?IM=IM_0BVeUJelcjahWwC | -0.5 | -0.5 | -0.5 | 16 | 0 | -0.4404 |      NA |\n",
       "| 0 | Q85.1  | Surprise  | bipoc | adult | fear      | https://uwmadison.co1.qualtrics.com/ControlPanel/Graphic.php?IM=IM_e3vAzbw1fMlXZyu |  0.5 |  0.5 | -0.5 | 17 | 0 |      NA |  0.2732 |\n",
       "| 0 | Q158.1 | Happiness | bipoc | adult | happiness | https://uwmadison.co1.qualtrics.com/ControlPanel/Graphic.php?IM=IM_agxa9UIrTk07jxQ |  0.5 |  0.5 | -0.5 | 18 | 0 |      NA |  0.5574 |\n",
       "| 0 | Q18.1  | Fear      | bipoc | adult | fear      | https://uwmadison.co1.qualtrics.com/ControlPanel/Graphic.php?IM=IM_6qVleJUYoACmf6C | -0.5 |  0.5 | -0.5 | 19 | 0 | -0.4939 |      NA |\n",
       "| 0 | Q193.1 | Uncertain | white | child | uncertain | https://uwmadison.co1.qualtrics.com/ControlPanel/Graphic.php?IM=IM_beic5cGPkQFDmhU | -0.5 | -0.5 |  0.5 | 20 | 0 | -0.2960 |      NA |\n",
       "| 0 | Q154.1 | Surprise  | white | adult | fear      | https://uwmadison.co1.qualtrics.com/ControlPanel/Graphic.php?IM=IM_4Z1hhf1G3PvXBci |  0.5 |  0.5 |  0.5 | 21 | 0 |      NA |  0.2732 |\n",
       "| 0 | Q91.1  | Happiness | bipoc | adult | happiness | https://uwmadison.co1.qualtrics.com/ControlPanel/Graphic.php?IM=IM_0xPTvIpG1sPU3QO | -0.5 |  0.5 | -0.5 | 22 | 0 |  0.5574 |      NA |\n",
       "| 0 | Q8.1   | Anger     | white | adult | anger     | https://uwmadison.co1.qualtrics.com/ControlPanel/Graphic.php?IM=IM_7PC2cgcyr5yUiOy |  0.5 |  0.5 |  0.5 | 23 | 0 |      NA | -0.5719 |\n",
       "| 0 | Q90.1  | Fear      | white | child | fear      | https://uwmadison.co1.qualtrics.com/ControlPanel/Graphic.php?IM=IM_0AKqpsdouereE5M |  0.5 | -0.5 |  0.5 | 24 | 0 |      NA | -0.4939 |\n",
       "| 0 | Q76.1  | Other     | bipoc | child | disgust   | https://uwmadison.co1.qualtrics.com/ControlPanel/Graphic.php?IM=IM_e9BJyTeFPLQ7ZUq | -0.5 | -0.5 | -0.5 | 25 | 0 |  0.0000 |      NA |\n",
       "| 0 | Q155.1 | Surprise  | white | child | fear      | https://uwmadison.co1.qualtrics.com/ControlPanel/Graphic.php?IM=IM_9mNPsRAgBbHenPM |  0.5 | -0.5 |  0.5 | 26 | 0 |      NA |  0.2732 |\n",
       "| 0 | Q88.1  | Surprise  | white | child | fear      | https://uwmadison.co1.qualtrics.com/ControlPanel/Graphic.php?IM=IM_40G6uAIeohgXMGi | -0.5 | -0.5 |  0.5 | 27 | 0 |  0.2732 |      NA |\n",
       "| 0 | Q156.1 | Happiness | bipoc | adult | happiness | https://uwmadison.co1.qualtrics.com/ControlPanel/Graphic.php?IM=IM_0GtSGAki0COJYO2 | -0.5 |  0.5 | -0.5 | 28 | 0 |  0.5574 |      NA |\n",
       "| 0 | Q87.1  | Surprise  | white | adult | fear      | https://uwmadison.co1.qualtrics.com/ControlPanel/Graphic.php?IM=IM_5AWayt9Py1ZQmUe | -0.5 |  0.5 |  0.5 | 29 | 0 |  0.2732 |      NA |\n",
       "| 0 | Q86.1  | Other     | bipoc | child | fear      | https://uwmadison.co1.qualtrics.com/ControlPanel/Graphic.php?IM=IM_byJrSqTzp3ZhZ9Y |  0.5 | -0.5 | -0.5 | 30 | 0 |      NA |  0.0000 |\n",
       "| ⋮ | ⋮ | ⋮ | ⋮ | ⋮ | ⋮ | ⋮ | ⋮ | ⋮ | ⋮ | ⋮ | ⋮ | ⋮ | ⋮ |\n",
       "| 50 | Q102.1 | Surprise  | bipoc | child | neutral   | https://uwmadison.co1.qualtrics.com/ControlPanel/Graphic.php?IM=IM_bw2zfW24xOcYU9o |  0.5 | -0.5 | -0.5 | 9763 | 50 |      NA |  0.2732 |\n",
       "| 50 | Q101.1 | Neutral   | bipoc | adult | neutral   | https://uwmadison.co1.qualtrics.com/ControlPanel/Graphic.php?IM=IM_3gSfRO9Zt2G8NP8 |  0.5 |  0.5 | -0.5 | 9764 | 50 |      NA |  0.0000 |\n",
       "| 50 | Q100.1 | Neutral   | bipoc | child | neutral   | https://uwmadison.co1.qualtrics.com/ControlPanel/Graphic.php?IM=IM_5bFJqMaV53Zsy0K | -0.5 | -0.5 | -0.5 | 9765 | 50 |  0.0000 |      NA |\n",
       "| 50 | Q99.1  | Anger     | bipoc | adult | neutral   | https://uwmadison.co1.qualtrics.com/ControlPanel/Graphic.php?IM=IM_39Riowawi2KEmV0 | -0.5 |  0.5 | -0.5 | 9766 | 50 | -0.5719 |      NA |\n",
       "| 50 | Q97.1  | Happiness | white | adult | happiness | https://uwmadison.co1.qualtrics.com/ControlPanel/Graphic.php?IM=IM_ewCuSR8n6UYi2MK |  0.5 |  0.5 |  0.5 | 9767 | 50 |      NA |  0.5574 |\n",
       "| 50 | Q107.1 | Sadness   | bipoc | adult | sadness   | https://uwmadison.co1.qualtrics.com/ControlPanel/Graphic.php?IM=IM_83amQw1mO0Wac06 | -0.5 |  0.5 | -0.5 | 9768 | 50 | -0.4404 |      NA |\n",
       "| 50 | Q143.1 | Disgust   | bipoc | child | disgust   | https://uwmadison.co1.qualtrics.com/ControlPanel/Graphic.php?IM=IM_7WCRz9fBbsgi9Qq |  0.5 | -0.5 | -0.5 | 9769 | 50 |      NA | -0.5994 |\n",
       "| 50 | Q119.1 | Surprise  | white | adult | surprise  | https://uwmadison.co1.qualtrics.com/ControlPanel/Graphic.php?IM=IM_2s03op8efMn39Eq | -0.5 |  0.5 |  0.5 | 9770 | 50 |  0.2732 |      NA |\n",
       "| 50 | Q121.1 | Surprise  | white | adult | surprise  | https://uwmadison.co1.qualtrics.com/ControlPanel/Graphic.php?IM=IM_2004WZkMOAt3rVk |  0.5 |  0.5 |  0.5 | 9771 | 50 |      NA |  0.2732 |\n",
       "| 50 | Q141.1 | Anger     | bipoc | child | disgust   | https://uwmadison.co1.qualtrics.com/ControlPanel/Graphic.php?IM=IM_0SwhYgwrLxTB3LM | -0.5 | -0.5 | -0.5 | 9772 | 50 | -0.5719 |      NA |\n",
       "| 50 | Q140.1 | Fear      | bipoc | adult | disgust   | https://uwmadison.co1.qualtrics.com/ControlPanel/Graphic.php?IM=IM_bsHb1M3p1kgjsF0 | -0.5 |  0.5 | -0.5 | 9773 | 50 | -0.4939 |      NA |\n",
       "| 50 | Q139.1 | Disgust   | white | child | anger     | https://uwmadison.co1.qualtrics.com/ControlPanel/Graphic.php?IM=IM_5AcJkrT27k6XRmm |  0.5 | -0.5 |  0.5 | 9774 | 50 |      NA | -0.5994 |\n",
       "| 50 | Q138.1 | Anger     | white | adult | anger     | https://uwmadison.co1.qualtrics.com/ControlPanel/Graphic.php?IM=IM_cCHIBQubXKS0CiO |  0.5 |  0.5 |  0.5 | 9775 | 50 |      NA | -0.5719 |\n",
       "| 50 | Q137.1 | Anger     | white | child | anger     | https://uwmadison.co1.qualtrics.com/ControlPanel/Graphic.php?IM=IM_bHfE8z5stIRm0zI | -0.5 | -0.5 |  0.5 | 9776 | 50 | -0.5719 |      NA |\n",
       "| 50 | Q136.1 | Anger     | white | adult | anger     | https://uwmadison.co1.qualtrics.com/ControlPanel/Graphic.php?IM=IM_cPfESJKHoFDaWUe | -0.5 |  0.5 |  0.5 | 9777 | 50 | -0.5719 |      NA |\n",
       "| 50 | Q135.1 | Anger     | bipoc | child | anger     | https://uwmadison.co1.qualtrics.com/ControlPanel/Graphic.php?IM=IM_3rsoVFgV6TcS9fg |  0.5 | -0.5 | -0.5 | 9778 | 50 |      NA | -0.5719 |\n",
       "| 50 | Q134.1 | Anger     | bipoc | adult | anger     | https://uwmadison.co1.qualtrics.com/ControlPanel/Graphic.php?IM=IM_bkMyZNBgUg8ZlNY |  0.5 |  0.5 | -0.5 | 9779 | 50 |      NA | -0.5719 |\n",
       "| 50 | Q133.1 | Anger     | bipoc | child | anger     | https://uwmadison.co1.qualtrics.com/ControlPanel/Graphic.php?IM=IM_824LzNsLYNku2OO | -0.5 | -0.5 | -0.5 | 9780 | 50 | -0.5719 |      NA |\n",
       "| 50 | Q120.1 | Neutral   | white | child | surprise  | https://uwmadison.co1.qualtrics.com/ControlPanel/Graphic.php?IM=IM_3VrkAIN5BOdlfWm | -0.5 | -0.5 |  0.5 | 9781 | 50 |  0.0000 |      NA |\n",
       "| 50 | Q132.1 | Fear      | bipoc | adult | anger     | https://uwmadison.co1.qualtrics.com/ControlPanel/Graphic.php?IM=IM_9WTZdrQmZK2OL54 | -0.5 |  0.5 | -0.5 | 9782 | 50 | -0.4939 |      NA |\n",
       "| 50 | Q130.1 | Happiness | white | child | uncertain | https://uwmadison.co1.qualtrics.com/ControlPanel/Graphic.php?IM=IM_eMb3pnSJgKC0VFk |  0.5 | -0.5 |  0.5 | 9783 | 50 |      NA |  0.5574 |\n",
       "| 50 | Q129.1 | Other     | white | adult | uncertain | https://uwmadison.co1.qualtrics.com/ControlPanel/Graphic.php?IM=IM_3wreUCj6TLHFC4K |  0.5 |  0.5 |  0.5 | 9784 | 50 |      NA |  0.0000 |\n",
       "| 50 | Q128.1 | Surprise  | white | child | uncertain | https://uwmadison.co1.qualtrics.com/ControlPanel/Graphic.php?IM=IM_8bHO7XfbqxRugTQ | -0.5 | -0.5 |  0.5 | 9785 | 50 |  0.2732 |      NA |\n",
       "| 50 | Q127.1 | Surprise  | white | adult | uncertain | https://uwmadison.co1.qualtrics.com/ControlPanel/Graphic.php?IM=IM_4Z2olPR08fo1FQO | -0.5 |  0.5 |  0.5 | 9786 | 50 |  0.2732 |      NA |\n",
       "| 50 | Q126.1 | Disgust   | bipoc | child | uncertain | https://uwmadison.co1.qualtrics.com/ControlPanel/Graphic.php?IM=IM_eaf2nwmlYn6uJKu |  0.5 | -0.5 | -0.5 | 9787 | 50 |      NA | -0.5994 |\n",
       "| 50 | Q125.1 | Other     | bipoc | adult | uncertain | https://uwmadison.co1.qualtrics.com/ControlPanel/Graphic.php?IM=IM_afrF8KFiXbEcR2S |  0.5 |  0.5 | -0.5 | 9788 | 50 |      NA |  0.0000 |\n",
       "| 50 | Q124.1 | Other     | bipoc | child | uncertain | https://uwmadison.co1.qualtrics.com/ControlPanel/Graphic.php?IM=IM_cJi6x6m1lHypqN8 | -0.5 | -0.5 | -0.5 | 9789 | 50 |  0.0000 |      NA |\n",
       "| 50 | Q123.1 | Surprise  | bipoc | adult | uncertain | https://uwmadison.co1.qualtrics.com/ControlPanel/Graphic.php?IM=IM_74kgKNSWDU7crjM | -0.5 |  0.5 | -0.5 | 9790 | 50 |  0.2732 |      NA |\n",
       "| 50 | Q122.1 | Anger     | white | child | surprise  | https://uwmadison.co1.qualtrics.com/ControlPanel/Graphic.php?IM=IM_0Tk0DUpmSjqZP9Q |  0.5 | -0.5 |  0.5 | 9791 | 50 |      NA | -0.5719 |\n",
       "| 50 | Q195.1 | Neutral   | white | child | uncertain | https://uwmadison.co1.qualtrics.com/ControlPanel/Graphic.php?IM=IM_9tcpk2rnvGGXq7A |  0.5 | -0.5 |  0.5 | 9792 | 50 |      NA |  0.0000 |\n",
       "\n"
      ],
      "text/plain": [
       "     participantId photoId emotion   ethnicity age   label    \n",
       "1    0             Q2.1    Neutral   bipoc     adult anger    \n",
       "2    0             Q163.1  Happiness white     child happiness\n",
       "3    0             Q77.1   Disgust   bipoc     adult disgust  \n",
       "4    0             Q78.1   Disgust   bipoc     child disgust  \n",
       "5    0             Q162.1  Happiness white     adult happiness\n",
       "6    0             Q79.1   Uncertain white     adult disgust  \n",
       "7    0             Q130.1  Happiness white     child uncertain\n",
       "8    0             Q20.1   Fear      bipoc     adult fear     \n",
       "9    0             Q7.1    Anger     white     child anger    \n",
       "10   0             Q80.1   Other     white     child disgust  \n",
       "11   0             Q81.1   Disgust   white     adult disgust  \n",
       "12   0             Q160.1  Happiness white     adult happiness\n",
       "13   0             Q82.1   Disgust   white     child disgust  \n",
       "14   0             Q83.1   Fear      bipoc     adult fear     \n",
       "15   0             Q159.1  Happiness bipoc     child happiness\n",
       "16   0             Q84.1   Sadness   bipoc     child fear     \n",
       "17   0             Q85.1   Surprise  bipoc     adult fear     \n",
       "18   0             Q158.1  Happiness bipoc     adult happiness\n",
       "19   0             Q18.1   Fear      bipoc     adult fear     \n",
       "20   0             Q193.1  Uncertain white     child uncertain\n",
       "21   0             Q154.1  Surprise  white     adult fear     \n",
       "22   0             Q91.1   Happiness bipoc     adult happiness\n",
       "23   0             Q8.1    Anger     white     adult anger    \n",
       "24   0             Q90.1   Fear      white     child fear     \n",
       "25   0             Q76.1   Other     bipoc     child disgust  \n",
       "26   0             Q155.1  Surprise  white     child fear     \n",
       "27   0             Q88.1   Surprise  white     child fear     \n",
       "28   0             Q156.1  Happiness bipoc     adult happiness\n",
       "29   0             Q87.1   Surprise  white     adult fear     \n",
       "30   0             Q86.1   Other     bipoc     child fear     \n",
       "⋮    ⋮             ⋮       ⋮         ⋮         ⋮     ⋮        \n",
       "9763 50            Q102.1  Surprise  bipoc     child neutral  \n",
       "9764 50            Q101.1  Neutral   bipoc     adult neutral  \n",
       "9765 50            Q100.1  Neutral   bipoc     child neutral  \n",
       "9766 50            Q99.1   Anger     bipoc     adult neutral  \n",
       "9767 50            Q97.1   Happiness white     adult happiness\n",
       "9768 50            Q107.1  Sadness   bipoc     adult sadness  \n",
       "9769 50            Q143.1  Disgust   bipoc     child disgust  \n",
       "9770 50            Q119.1  Surprise  white     adult surprise \n",
       "9771 50            Q121.1  Surprise  white     adult surprise \n",
       "9772 50            Q141.1  Anger     bipoc     child disgust  \n",
       "9773 50            Q140.1  Fear      bipoc     adult disgust  \n",
       "9774 50            Q139.1  Disgust   white     child anger    \n",
       "9775 50            Q138.1  Anger     white     adult anger    \n",
       "9776 50            Q137.1  Anger     white     child anger    \n",
       "9777 50            Q136.1  Anger     white     adult anger    \n",
       "9778 50            Q135.1  Anger     bipoc     child anger    \n",
       "9779 50            Q134.1  Anger     bipoc     adult anger    \n",
       "9780 50            Q133.1  Anger     bipoc     child anger    \n",
       "9781 50            Q120.1  Neutral   white     child surprise \n",
       "9782 50            Q132.1  Fear      bipoc     adult anger    \n",
       "9783 50            Q130.1  Happiness white     child uncertain\n",
       "9784 50            Q129.1  Other     white     adult uncertain\n",
       "9785 50            Q128.1  Surprise  white     child uncertain\n",
       "9786 50            Q127.1  Surprise  white     adult uncertain\n",
       "9787 50            Q126.1  Disgust   bipoc     child uncertain\n",
       "9788 50            Q125.1  Other     bipoc     adult uncertain\n",
       "9789 50            Q124.1  Other     bipoc     child uncertain\n",
       "9790 50            Q123.1  Surprise  bipoc     adult uncertain\n",
       "9791 50            Q122.1  Anger     white     child surprise \n",
       "9792 50            Q195.1  Neutral   white     child uncertain\n",
       "     url                                                                               \n",
       "1    https://uwmadison.co1.qualtrics.com/ControlPanel/Graphic.php?IM=IM_bJXdODAZHOaG0rI\n",
       "2    https://uwmadison.co1.qualtrics.com/ControlPanel/Graphic.php?IM=IM_eWnGys8SLE5J3Cu\n",
       "3    https://uwmadison.co1.qualtrics.com/ControlPanel/Graphic.php?IM=IM_1Zx26VAbwv9uFFQ\n",
       "4    https://uwmadison.co1.qualtrics.com/ControlPanel/Graphic.php?IM=IM_bjzYq2UEKkXH7aC\n",
       "5    https://uwmadison.co1.qualtrics.com/ControlPanel/Graphic.php?IM=IM_3NR7AkPxBUkdOQe\n",
       "6    https://uwmadison.co1.qualtrics.com/ControlPanel/Graphic.php?IM=IM_5hkOSrFORUoHopM\n",
       "7    https://uwmadison.co1.qualtrics.com/ControlPanel/Graphic.php?IM=IM_eMb3pnSJgKC0VFk\n",
       "8    https://uwmadison.co1.qualtrics.com/ControlPanel/Graphic.php?IM=IM_54KW05fRgzNmLfE\n",
       "9    https://uwmadison.co1.qualtrics.com/ControlPanel/Graphic.php?IM=IM_1XqAx3FzoRDFZt4\n",
       "10   https://uwmadison.co1.qualtrics.com/ControlPanel/Graphic.php?IM=IM_244QOC2to2Jetca\n",
       "11   https://uwmadison.co1.qualtrics.com/ControlPanel/Graphic.php?IM=IM_7aEgC4sWsfM5I5E\n",
       "12   https://uwmadison.co1.qualtrics.com/ControlPanel/Graphic.php?IM=IM_57Gr1XAHK9uhWES\n",
       "13   https://uwmadison.co1.qualtrics.com/ControlPanel/Graphic.php?IM=IM_7P182C9dn0ypgtE\n",
       "14   https://uwmadison.co1.qualtrics.com/ControlPanel/Graphic.php?IM=IM_9tzXvOnfZ589gH4\n",
       "15   https://uwmadison.co1.qualtrics.com/ControlPanel/Graphic.php?IM=IM_d060VdjZY82W38W\n",
       "16   https://uwmadison.co1.qualtrics.com/ControlPanel/Graphic.php?IM=IM_0BVeUJelcjahWwC\n",
       "17   https://uwmadison.co1.qualtrics.com/ControlPanel/Graphic.php?IM=IM_e3vAzbw1fMlXZyu\n",
       "18   https://uwmadison.co1.qualtrics.com/ControlPanel/Graphic.php?IM=IM_agxa9UIrTk07jxQ\n",
       "19   https://uwmadison.co1.qualtrics.com/ControlPanel/Graphic.php?IM=IM_6qVleJUYoACmf6C\n",
       "20   https://uwmadison.co1.qualtrics.com/ControlPanel/Graphic.php?IM=IM_beic5cGPkQFDmhU\n",
       "21   https://uwmadison.co1.qualtrics.com/ControlPanel/Graphic.php?IM=IM_4Z1hhf1G3PvXBci\n",
       "22   https://uwmadison.co1.qualtrics.com/ControlPanel/Graphic.php?IM=IM_0xPTvIpG1sPU3QO\n",
       "23   https://uwmadison.co1.qualtrics.com/ControlPanel/Graphic.php?IM=IM_7PC2cgcyr5yUiOy\n",
       "24   https://uwmadison.co1.qualtrics.com/ControlPanel/Graphic.php?IM=IM_0AKqpsdouereE5M\n",
       "25   https://uwmadison.co1.qualtrics.com/ControlPanel/Graphic.php?IM=IM_e9BJyTeFPLQ7ZUq\n",
       "26   https://uwmadison.co1.qualtrics.com/ControlPanel/Graphic.php?IM=IM_9mNPsRAgBbHenPM\n",
       "27   https://uwmadison.co1.qualtrics.com/ControlPanel/Graphic.php?IM=IM_40G6uAIeohgXMGi\n",
       "28   https://uwmadison.co1.qualtrics.com/ControlPanel/Graphic.php?IM=IM_0GtSGAki0COJYO2\n",
       "29   https://uwmadison.co1.qualtrics.com/ControlPanel/Graphic.php?IM=IM_5AWayt9Py1ZQmUe\n",
       "30   https://uwmadison.co1.qualtrics.com/ControlPanel/Graphic.php?IM=IM_byJrSqTzp3ZhZ9Y\n",
       "⋮    ⋮                                                                                 \n",
       "9763 https://uwmadison.co1.qualtrics.com/ControlPanel/Graphic.php?IM=IM_bw2zfW24xOcYU9o\n",
       "9764 https://uwmadison.co1.qualtrics.com/ControlPanel/Graphic.php?IM=IM_3gSfRO9Zt2G8NP8\n",
       "9765 https://uwmadison.co1.qualtrics.com/ControlPanel/Graphic.php?IM=IM_5bFJqMaV53Zsy0K\n",
       "9766 https://uwmadison.co1.qualtrics.com/ControlPanel/Graphic.php?IM=IM_39Riowawi2KEmV0\n",
       "9767 https://uwmadison.co1.qualtrics.com/ControlPanel/Graphic.php?IM=IM_ewCuSR8n6UYi2MK\n",
       "9768 https://uwmadison.co1.qualtrics.com/ControlPanel/Graphic.php?IM=IM_83amQw1mO0Wac06\n",
       "9769 https://uwmadison.co1.qualtrics.com/ControlPanel/Graphic.php?IM=IM_7WCRz9fBbsgi9Qq\n",
       "9770 https://uwmadison.co1.qualtrics.com/ControlPanel/Graphic.php?IM=IM_2s03op8efMn39Eq\n",
       "9771 https://uwmadison.co1.qualtrics.com/ControlPanel/Graphic.php?IM=IM_2004WZkMOAt3rVk\n",
       "9772 https://uwmadison.co1.qualtrics.com/ControlPanel/Graphic.php?IM=IM_0SwhYgwrLxTB3LM\n",
       "9773 https://uwmadison.co1.qualtrics.com/ControlPanel/Graphic.php?IM=IM_bsHb1M3p1kgjsF0\n",
       "9774 https://uwmadison.co1.qualtrics.com/ControlPanel/Graphic.php?IM=IM_5AcJkrT27k6XRmm\n",
       "9775 https://uwmadison.co1.qualtrics.com/ControlPanel/Graphic.php?IM=IM_cCHIBQubXKS0CiO\n",
       "9776 https://uwmadison.co1.qualtrics.com/ControlPanel/Graphic.php?IM=IM_bHfE8z5stIRm0zI\n",
       "9777 https://uwmadison.co1.qualtrics.com/ControlPanel/Graphic.php?IM=IM_cPfESJKHoFDaWUe\n",
       "9778 https://uwmadison.co1.qualtrics.com/ControlPanel/Graphic.php?IM=IM_3rsoVFgV6TcS9fg\n",
       "9779 https://uwmadison.co1.qualtrics.com/ControlPanel/Graphic.php?IM=IM_bkMyZNBgUg8ZlNY\n",
       "9780 https://uwmadison.co1.qualtrics.com/ControlPanel/Graphic.php?IM=IM_824LzNsLYNku2OO\n",
       "9781 https://uwmadison.co1.qualtrics.com/ControlPanel/Graphic.php?IM=IM_3VrkAIN5BOdlfWm\n",
       "9782 https://uwmadison.co1.qualtrics.com/ControlPanel/Graphic.php?IM=IM_9WTZdrQmZK2OL54\n",
       "9783 https://uwmadison.co1.qualtrics.com/ControlPanel/Graphic.php?IM=IM_eMb3pnSJgKC0VFk\n",
       "9784 https://uwmadison.co1.qualtrics.com/ControlPanel/Graphic.php?IM=IM_3wreUCj6TLHFC4K\n",
       "9785 https://uwmadison.co1.qualtrics.com/ControlPanel/Graphic.php?IM=IM_8bHO7XfbqxRugTQ\n",
       "9786 https://uwmadison.co1.qualtrics.com/ControlPanel/Graphic.php?IM=IM_4Z2olPR08fo1FQO\n",
       "9787 https://uwmadison.co1.qualtrics.com/ControlPanel/Graphic.php?IM=IM_eaf2nwmlYn6uJKu\n",
       "9788 https://uwmadison.co1.qualtrics.com/ControlPanel/Graphic.php?IM=IM_afrF8KFiXbEcR2S\n",
       "9789 https://uwmadison.co1.qualtrics.com/ControlPanel/Graphic.php?IM=IM_cJi6x6m1lHypqN8\n",
       "9790 https://uwmadison.co1.qualtrics.com/ControlPanel/Graphic.php?IM=IM_74kgKNSWDU7crjM\n",
       "9791 https://uwmadison.co1.qualtrics.com/ControlPanel/Graphic.php?IM=IM_0Tk0DUpmSjqZP9Q\n",
       "9792 https://uwmadison.co1.qualtrics.com/ControlPanel/Graphic.php?IM=IM_9tcpk2rnvGGXq7A\n",
       "     sexC ageC ethnicityC ID   participantIdF female  male   \n",
       "1    -0.5  0.5 -0.5        1   0               0.0000      NA\n",
       "2     0.5 -0.5  0.5        2   0                   NA  0.5574\n",
       "3     0.5  0.5 -0.5        3   0                   NA -0.5994\n",
       "4     0.5 -0.5 -0.5        4   0                   NA -0.5994\n",
       "5     0.5  0.5  0.5        5   0                   NA  0.5574\n",
       "6    -0.5  0.5  0.5        6   0              -0.2960      NA\n",
       "7     0.5 -0.5  0.5        7   0                   NA  0.5574\n",
       "8     0.5  0.5 -0.5        8   0                   NA -0.4939\n",
       "9    -0.5 -0.5  0.5        9   0              -0.5719      NA\n",
       "10   -0.5 -0.5  0.5       10   0               0.0000      NA\n",
       "11    0.5  0.5  0.5       11   0                   NA -0.5994\n",
       "12   -0.5  0.5  0.5       12   0               0.5574      NA\n",
       "13    0.5 -0.5  0.5       13   0                   NA -0.5994\n",
       "14   -0.5  0.5 -0.5       14   0              -0.4939      NA\n",
       "15    0.5 -0.5 -0.5       15   0                   NA  0.5574\n",
       "16   -0.5 -0.5 -0.5       16   0              -0.4404      NA\n",
       "17    0.5  0.5 -0.5       17   0                   NA  0.2732\n",
       "18    0.5  0.5 -0.5       18   0                   NA  0.5574\n",
       "19   -0.5  0.5 -0.5       19   0              -0.4939      NA\n",
       "20   -0.5 -0.5  0.5       20   0              -0.2960      NA\n",
       "21    0.5  0.5  0.5       21   0                   NA  0.2732\n",
       "22   -0.5  0.5 -0.5       22   0               0.5574      NA\n",
       "23    0.5  0.5  0.5       23   0                   NA -0.5719\n",
       "24    0.5 -0.5  0.5       24   0                   NA -0.4939\n",
       "25   -0.5 -0.5 -0.5       25   0               0.0000      NA\n",
       "26    0.5 -0.5  0.5       26   0                   NA  0.2732\n",
       "27   -0.5 -0.5  0.5       27   0               0.2732      NA\n",
       "28   -0.5  0.5 -0.5       28   0               0.5574      NA\n",
       "29   -0.5  0.5  0.5       29   0               0.2732      NA\n",
       "30    0.5 -0.5 -0.5       30   0                   NA  0.0000\n",
       "⋮    ⋮    ⋮    ⋮          ⋮    ⋮              ⋮       ⋮      \n",
       "9763  0.5 -0.5 -0.5       9763 50                  NA  0.2732\n",
       "9764  0.5  0.5 -0.5       9764 50                  NA  0.0000\n",
       "9765 -0.5 -0.5 -0.5       9765 50              0.0000      NA\n",
       "9766 -0.5  0.5 -0.5       9766 50             -0.5719      NA\n",
       "9767  0.5  0.5  0.5       9767 50                  NA  0.5574\n",
       "9768 -0.5  0.5 -0.5       9768 50             -0.4404      NA\n",
       "9769  0.5 -0.5 -0.5       9769 50                  NA -0.5994\n",
       "9770 -0.5  0.5  0.5       9770 50              0.2732      NA\n",
       "9771  0.5  0.5  0.5       9771 50                  NA  0.2732\n",
       "9772 -0.5 -0.5 -0.5       9772 50             -0.5719      NA\n",
       "9773 -0.5  0.5 -0.5       9773 50             -0.4939      NA\n",
       "9774  0.5 -0.5  0.5       9774 50                  NA -0.5994\n",
       "9775  0.5  0.5  0.5       9775 50                  NA -0.5719\n",
       "9776 -0.5 -0.5  0.5       9776 50             -0.5719      NA\n",
       "9777 -0.5  0.5  0.5       9777 50             -0.5719      NA\n",
       "9778  0.5 -0.5 -0.5       9778 50                  NA -0.5719\n",
       "9779  0.5  0.5 -0.5       9779 50                  NA -0.5719\n",
       "9780 -0.5 -0.5 -0.5       9780 50             -0.5719      NA\n",
       "9781 -0.5 -0.5  0.5       9781 50              0.0000      NA\n",
       "9782 -0.5  0.5 -0.5       9782 50             -0.4939      NA\n",
       "9783  0.5 -0.5  0.5       9783 50                  NA  0.5574\n",
       "9784  0.5  0.5  0.5       9784 50                  NA  0.0000\n",
       "9785 -0.5 -0.5  0.5       9785 50              0.2732      NA\n",
       "9786 -0.5  0.5  0.5       9786 50              0.2732      NA\n",
       "9787  0.5 -0.5 -0.5       9787 50                  NA -0.5994\n",
       "9788  0.5  0.5 -0.5       9788 50                  NA  0.0000\n",
       "9789 -0.5 -0.5 -0.5       9789 50              0.0000      NA\n",
       "9790 -0.5  0.5 -0.5       9790 50              0.2732      NA\n",
       "9791  0.5 -0.5  0.5       9791 50                  NA -0.5719\n",
       "9792  0.5 -0.5  0.5       9792 50                  NA  0.0000"
      ]
     },
     "metadata": {},
     "output_type": "display_data"
    }
   ],
   "source": [
    "df_wide <- spread(df, sex, sentimentScore,)\n",
    "df_wide"
   ]
  },
  {
   "cell_type": "code",
   "execution_count": 86,
   "id": "030953d8",
   "metadata": {},
   "outputs": [],
   "source": [
    "# res.aov <- anova_test(\n",
    "#   data = df, dv = sentimentScore, wid = participantId,\n",
    "#   within = c(sex, age, ethnicity)\n",
    "#   )\n",
    "# get_anova_table(res.aov)"
   ]
  },
  {
   "cell_type": "code",
   "execution_count": 71,
   "id": "a360f942",
   "metadata": {},
   "outputs": [
    {
     "name": "stderr",
     "output_type": "stream",
     "text": [
      "Warning message:\n",
      "“Converting \"participantId\" to factor for ANOVA.”\n",
      "Warning message:\n",
      "“Converting \"sex\" to factor for ANOVA.”\n",
      "Warning message:\n",
      "“Converting \"age\" to factor for ANOVA.”\n",
      "Warning message:\n",
      "“Converting \"ethnicity\" to factor for ANOVA.”\n",
      "Warning message:\n",
      "“Collapsing data to cell means. *IF* the requested effects are a subset of the full design, you must use the \"within_full\" argument, else results may be inaccurate.”\n"
     ]
    },
    {
     "data": {
      "text/html": [
       "<strong>$ANOVA</strong> = <table class=\"dataframe\">\n",
       "<caption>A data.frame: 7 × 7</caption>\n",
       "<thead>\n",
       "\t<tr><th></th><th scope=col>Effect</th><th scope=col>DFn</th><th scope=col>DFd</th><th scope=col>F</th><th scope=col>p</th><th scope=col>p&lt;.05</th><th scope=col>ges</th></tr>\n",
       "\t<tr><th></th><th scope=col>&lt;chr&gt;</th><th scope=col>&lt;dbl&gt;</th><th scope=col>&lt;dbl&gt;</th><th scope=col>&lt;dbl&gt;</th><th scope=col>&lt;dbl&gt;</th><th scope=col>&lt;chr&gt;</th><th scope=col>&lt;dbl&gt;</th></tr>\n",
       "</thead>\n",
       "<tbody>\n",
       "\t<tr><th scope=row>2</th><td>sex              </td><td>1</td><td>50</td><td> 9.521419</td><td>3.306335e-03</td><td>*</td><td>0.016548360</td></tr>\n",
       "\t<tr><th scope=row>3</th><td>age              </td><td>1</td><td>50</td><td>21.604378</td><td>2.475379e-05</td><td>*</td><td>0.054099828</td></tr>\n",
       "\t<tr><th scope=row>4</th><td>ethnicity        </td><td>1</td><td>50</td><td>31.530648</td><td>8.618142e-07</td><td>*</td><td>0.051307750</td></tr>\n",
       "\t<tr><th scope=row>5</th><td>sex:age          </td><td>1</td><td>50</td><td> 2.852944</td><td>9.743446e-02</td><td> </td><td>0.003967705</td></tr>\n",
       "\t<tr><th scope=row>6</th><td>sex:ethnicity    </td><td>1</td><td>50</td><td>13.324762</td><td>6.258531e-04</td><td>*</td><td>0.026661649</td></tr>\n",
       "\t<tr><th scope=row>7</th><td>age:ethnicity    </td><td>1</td><td>50</td><td>19.737606</td><td>4.929783e-05</td><td>*</td><td>0.025649119</td></tr>\n",
       "\t<tr><th scope=row>8</th><td>sex:age:ethnicity</td><td>1</td><td>50</td><td> 5.194152</td><td>2.696674e-02</td><td>*</td><td>0.009402510</td></tr>\n",
       "</tbody>\n",
       "</table>\n"
      ],
      "text/latex": [
       "\\textbf{\\$ANOVA} = A data.frame: 7 × 7\n",
       "\\begin{tabular}{r|lllllll}\n",
       "  & Effect & DFn & DFd & F & p & p<.05 & ges\\\\\n",
       "  & <chr> & <dbl> & <dbl> & <dbl> & <dbl> & <chr> & <dbl>\\\\\n",
       "\\hline\n",
       "\t2 & sex               & 1 & 50 &  9.521419 & 3.306335e-03 & * & 0.016548360\\\\\n",
       "\t3 & age               & 1 & 50 & 21.604378 & 2.475379e-05 & * & 0.054099828\\\\\n",
       "\t4 & ethnicity         & 1 & 50 & 31.530648 & 8.618142e-07 & * & 0.051307750\\\\\n",
       "\t5 & sex:age           & 1 & 50 &  2.852944 & 9.743446e-02 &   & 0.003967705\\\\\n",
       "\t6 & sex:ethnicity     & 1 & 50 & 13.324762 & 6.258531e-04 & * & 0.026661649\\\\\n",
       "\t7 & age:ethnicity     & 1 & 50 & 19.737606 & 4.929783e-05 & * & 0.025649119\\\\\n",
       "\t8 & sex:age:ethnicity & 1 & 50 &  5.194152 & 2.696674e-02 & * & 0.009402510\\\\\n",
       "\\end{tabular}\n"
      ],
      "text/markdown": [
       "**$ANOVA** = \n",
       "A data.frame: 7 × 7\n",
       "\n",
       "| <!--/--> | Effect &lt;chr&gt; | DFn &lt;dbl&gt; | DFd &lt;dbl&gt; | F &lt;dbl&gt; | p &lt;dbl&gt; | p&lt;.05 &lt;chr&gt; | ges &lt;dbl&gt; |\n",
       "|---|---|---|---|---|---|---|---|\n",
       "| 2 | sex               | 1 | 50 |  9.521419 | 3.306335e-03 | * | 0.016548360 |\n",
       "| 3 | age               | 1 | 50 | 21.604378 | 2.475379e-05 | * | 0.054099828 |\n",
       "| 4 | ethnicity         | 1 | 50 | 31.530648 | 8.618142e-07 | * | 0.051307750 |\n",
       "| 5 | sex:age           | 1 | 50 |  2.852944 | 9.743446e-02 | <!----> | 0.003967705 |\n",
       "| 6 | sex:ethnicity     | 1 | 50 | 13.324762 | 6.258531e-04 | * | 0.026661649 |\n",
       "| 7 | age:ethnicity     | 1 | 50 | 19.737606 | 4.929783e-05 | * | 0.025649119 |\n",
       "| 8 | sex:age:ethnicity | 1 | 50 |  5.194152 | 2.696674e-02 | * | 0.009402510 |\n",
       "\n"
      ],
      "text/plain": [
       "$ANOVA\n",
       "             Effect DFn DFd         F            p p<.05         ges\n",
       "2               sex   1  50  9.521419 3.306335e-03     * 0.016548360\n",
       "3               age   1  50 21.604378 2.475379e-05     * 0.054099828\n",
       "4         ethnicity   1  50 31.530648 8.618142e-07     * 0.051307750\n",
       "5           sex:age   1  50  2.852944 9.743446e-02       0.003967705\n",
       "6     sex:ethnicity   1  50 13.324762 6.258531e-04     * 0.026661649\n",
       "7     age:ethnicity   1  50 19.737606 4.929783e-05     * 0.025649119\n",
       "8 sex:age:ethnicity   1  50  5.194152 2.696674e-02     * 0.009402510\n"
      ]
     },
     "metadata": {},
     "output_type": "display_data"
    }
   ],
   "source": [
    "res.aov  = ezANOVA(data=df, wid=.(participantId), dv=.(sentimentScore), within=.(sex, age, ethnicity))\n",
    "res.aov  "
   ]
  },
  {
   "cell_type": "markdown",
   "id": "98520a39",
   "metadata": {},
   "source": [
    "## Post-hoc tests\n",
    "\n",
    "multiple pairwise paired t-tests between the levels of the within-subjects factor"
   ]
  },
  {
   "cell_type": "code",
   "execution_count": 65,
   "id": "130f505e",
   "metadata": {},
   "outputs": [],
   "source": [
    "# # Two-way ANOVA at each diet level\n",
    "# two.way <- df %>%\n",
    "#   group_by(age) %>%\n",
    "#   anova_test(dv = sentimentScore, wid = ID, within = c(ethnicity, sex))\n",
    "# two.way"
   ]
  },
  {
   "cell_type": "code",
   "execution_count": 68,
   "id": "e2e5d448",
   "metadata": {},
   "outputs": [
    {
     "data": {
      "text/html": [
       "<table class=\"dataframe\">\n",
       "<caption>A rstatix_test: 4 × 10</caption>\n",
       "<thead>\n",
       "\t<tr><th scope=col>sex</th><th scope=col>age</th><th scope=col>.y.</th><th scope=col>group1</th><th scope=col>group2</th><th scope=col>n1</th><th scope=col>n2</th><th scope=col>p</th><th scope=col>p.adj</th><th scope=col>p.adj.signif</th></tr>\n",
       "\t<tr><th scope=col>&lt;chr&gt;</th><th scope=col>&lt;chr&gt;</th><th scope=col>&lt;chr&gt;</th><th scope=col>&lt;chr&gt;</th><th scope=col>&lt;chr&gt;</th><th scope=col>&lt;int&gt;</th><th scope=col>&lt;int&gt;</th><th scope=col>&lt;dbl&gt;</th><th scope=col>&lt;dbl&gt;</th><th scope=col>&lt;chr&gt;</th></tr>\n",
       "</thead>\n",
       "<tbody>\n",
       "\t<tr><td>female</td><td>adult</td><td>sentimentScore</td><td>bipoc</td><td>white</td><td>1224</td><td>1224</td><td>3.34e-01</td><td>3.34e-01</td><td>ns  </td></tr>\n",
       "\t<tr><td>male  </td><td>adult</td><td>sentimentScore</td><td>bipoc</td><td>white</td><td>1224</td><td>1224</td><td>8.88e-07</td><td>8.88e-07</td><td>****</td></tr>\n",
       "\t<tr><td>female</td><td>child</td><td>sentimentScore</td><td>bipoc</td><td>white</td><td>1224</td><td>1224</td><td>9.87e-01</td><td>9.87e-01</td><td>ns  </td></tr>\n",
       "\t<tr><td>male  </td><td>child</td><td>sentimentScore</td><td>bipoc</td><td>white</td><td>1224</td><td>1224</td><td>2.97e-01</td><td>2.97e-01</td><td>ns  </td></tr>\n",
       "</tbody>\n",
       "</table>\n"
      ],
      "text/latex": [
       "A rstatix\\_test: 4 × 10\n",
       "\\begin{tabular}{llllllllll}\n",
       " sex & age & .y. & group1 & group2 & n1 & n2 & p & p.adj & p.adj.signif\\\\\n",
       " <chr> & <chr> & <chr> & <chr> & <chr> & <int> & <int> & <dbl> & <dbl> & <chr>\\\\\n",
       "\\hline\n",
       "\t female & adult & sentimentScore & bipoc & white & 1224 & 1224 & 3.34e-01 & 3.34e-01 & ns  \\\\\n",
       "\t male   & adult & sentimentScore & bipoc & white & 1224 & 1224 & 8.88e-07 & 8.88e-07 & ****\\\\\n",
       "\t female & child & sentimentScore & bipoc & white & 1224 & 1224 & 9.87e-01 & 9.87e-01 & ns  \\\\\n",
       "\t male   & child & sentimentScore & bipoc & white & 1224 & 1224 & 2.97e-01 & 2.97e-01 & ns  \\\\\n",
       "\\end{tabular}\n"
      ],
      "text/markdown": [
       "\n",
       "A rstatix_test: 4 × 10\n",
       "\n",
       "| sex &lt;chr&gt; | age &lt;chr&gt; | .y. &lt;chr&gt; | group1 &lt;chr&gt; | group2 &lt;chr&gt; | n1 &lt;int&gt; | n2 &lt;int&gt; | p &lt;dbl&gt; | p.adj &lt;dbl&gt; | p.adj.signif &lt;chr&gt; |\n",
       "|---|---|---|---|---|---|---|---|---|---|\n",
       "| female | adult | sentimentScore | bipoc | white | 1224 | 1224 | 3.34e-01 | 3.34e-01 | ns   |\n",
       "| male   | adult | sentimentScore | bipoc | white | 1224 | 1224 | 8.88e-07 | 8.88e-07 | **** |\n",
       "| female | child | sentimentScore | bipoc | white | 1224 | 1224 | 9.87e-01 | 9.87e-01 | ns   |\n",
       "| male   | child | sentimentScore | bipoc | white | 1224 | 1224 | 2.97e-01 | 2.97e-01 | ns   |\n",
       "\n"
      ],
      "text/plain": [
       "  sex    age   .y.            group1 group2 n1   n2   p        p.adj   \n",
       "1 female adult sentimentScore bipoc  white  1224 1224 3.34e-01 3.34e-01\n",
       "2 male   adult sentimentScore bipoc  white  1224 1224 8.88e-07 8.88e-07\n",
       "3 female child sentimentScore bipoc  white  1224 1224 9.87e-01 9.87e-01\n",
       "4 male   child sentimentScore bipoc  white  1224 1224 2.97e-01 2.97e-01\n",
       "  p.adj.signif\n",
       "1 ns          \n",
       "2 ****        \n",
       "3 ns          \n",
       "4 ns          "
      ]
     },
     "metadata": {},
     "output_type": "display_data"
    }
   ],
   "source": [
    "# Pairwise comparisons\n",
    "pwc <- df %>%\n",
    "  group_by(age, sex) %>%\n",
    "  pairwise_t_test(sentimentScore ~ ethnicity, paired = TRUE, p.adjust.method = \"bonferroni\") %>%\n",
    "  select(-df, -statistic) # Remove details\n",
    "# Show comparison results for \"diet:no,exercises:yes\" groups\n",
    "# pwc %>% filter(diet == \"no\", exercises == \"yes\") %>%\n",
    "#   select(-p)     # remove p columns\n",
    "\n",
    "pwc"
   ]
  },
  {
   "cell_type": "code",
   "execution_count": 87,
   "id": "9a186c6f",
   "metadata": {},
   "outputs": [],
   "source": [
    "# # Visualization: box plots with p-values\n",
    "# pwc <- pwc %>% add_xy_position(x = \"sex\")\n",
    "\n",
    "# bxp + \n",
    "#   stat_pvalue_manual(pwc, tip.length = 0, hide.ns = TRUE) +\n",
    "#   labs(\n",
    "#     subtitle = get_test_label(res.aov, detailed = TRUE),\n",
    "#     caption = get_pwc_label(pwc)\n",
    "#   )"
   ]
  },
  {
   "cell_type": "markdown",
   "id": "21c6c018",
   "metadata": {},
   "source": [
    "## Report"
   ]
  },
  {
   "cell_type": "markdown",
   "id": "b445b69b",
   "metadata": {},
   "source": [
    "<!-- The **sentiment score** was statistically significantly different for:\n",
    "- age: F(2, 18) = 55.5, p < 0.0001, generalized eta squared = 0.82.\n",
    "- sex: F(2, 18) = 55.5, p < 0.0001, generalized eta squared = 0.82.\n",
    "- ethnicity: F(2, 18) = 55.5, p < 0.0001, generalized eta squared = 0.82.\n",
    "- sex:ethnicity: F(2, 18) = 55.5, p < 0.0001, generalized eta squared = 0.82.\n",
    "- age:ethnicity: F(2, 18) = 55.5, p < 0.0001, generalized eta squared = 0.82.\n",
    "- sex:age:ethnicity: F(2, 18) = 55.5, p < 0.0001, generalized eta squared = 0.82.\n",
    "\n",
    "\n",
    "\n",
    "Post-hoc analyses with a Bonferroni adjustment revealed that all the pairwise differences, between time points, were statistically significantly different (p <= 0.05).\n",
    "\n",
    "\n",
    "2\tsex \t1\t50\t9.521419\t3.306335e-03\t*\t0.016548360\n",
    "3\tage \t1\t50\t21.604378\t2.475379e-05\t*\t0.054099828\n",
    "4\tethnicity \t1\t50\t31.530648\t8.618142e-07\t*\t0.051307750\n",
    "5\tsex:age \t1\t50\t2.852944\t9.743446e-02\t\t0.003967705\n",
    "6\tsex:ethnicity \t1\t50\t13.324762\t6.258531e-04\t*\t0.026661649\n",
    "7\tage:ethnicity \t1\t50\t19.737606\t4.929783e-05\t*\t0.025649119\n",
    "8\tsex:age:ethnicity\t1\t50\t5.194152\t2.696674e-02\t*\t0.009402510 -->"
   ]
  },
  {
   "cell_type": "code",
   "execution_count": null,
   "id": "be988d18",
   "metadata": {},
   "outputs": [],
   "source": []
  },
  {
   "cell_type": "code",
   "execution_count": null,
   "id": "b627a0de",
   "metadata": {},
   "outputs": [],
   "source": []
  },
  {
   "cell_type": "markdown",
   "id": "962a811c",
   "metadata": {},
   "source": [
    "## Anova agrgegated across ethnicity for between-effect"
   ]
  },
  {
   "cell_type": "code",
   "execution_count": 44,
   "id": "b96f700f",
   "metadata": {},
   "outputs": [],
   "source": [
    "mDf = aggregate(sentimentScore ~ participantId + ethnicityC, data=df, FUN=mean)"
   ]
  },
  {
   "cell_type": "code",
   "execution_count": 45,
   "id": "0f8dfce0",
   "metadata": {},
   "outputs": [
    {
     "data": {
      "text/plain": [
       "             Df  Sum Sq  Mean Sq F value   Pr(>F)    \n",
       "ethnicityC    1 0.02102 0.021020   12.05 0.000764 ***\n",
       "Residuals   100 0.17436 0.001744                     \n",
       "---\n",
       "Signif. codes:  0 ‘***’ 0.001 ‘**’ 0.01 ‘*’ 0.05 ‘.’ 0.1 ‘ ’ 1"
      ]
     },
     "metadata": {},
     "output_type": "display_data"
    }
   ],
   "source": [
    "summary(aov(sentimentScore ~ ethnicityC, data=mDf))     # ANOVA with just the between-effect"
   ]
  },
  {
   "cell_type": "code",
   "execution_count": null,
   "id": "9c1a7239",
   "metadata": {},
   "outputs": [],
   "source": [
    "# Images depicting caucasian faces "
   ]
  },
  {
   "cell_type": "code",
   "execution_count": 50,
   "id": "a0a0350a",
   "metadata": {},
   "outputs": [
    {
     "data": {
      "text/html": [
       "<table class=\"dataframe\">\n",
       "<caption>A tibble: 2 × 5</caption>\n",
       "<thead>\n",
       "\t<tr><th scope=col>ethnicityC</th><th scope=col>variable</th><th scope=col>n</th><th scope=col>mean</th><th scope=col>sd</th></tr>\n",
       "\t<tr><th scope=col>&lt;dbl&gt;</th><th scope=col>&lt;chr&gt;</th><th scope=col>&lt;dbl&gt;</th><th scope=col>&lt;dbl&gt;</th><th scope=col>&lt;dbl&gt;</th></tr>\n",
       "</thead>\n",
       "<tbody>\n",
       "\t<tr><td>-0.5</td><td>sentimentScore</td><td>51</td><td>-0.130</td><td>0.042</td></tr>\n",
       "\t<tr><td> 0.5</td><td>sentimentScore</td><td>51</td><td>-0.101</td><td>0.041</td></tr>\n",
       "</tbody>\n",
       "</table>\n"
      ],
      "text/latex": [
       "A tibble: 2 × 5\n",
       "\\begin{tabular}{lllll}\n",
       " ethnicityC & variable & n & mean & sd\\\\\n",
       " <dbl> & <chr> & <dbl> & <dbl> & <dbl>\\\\\n",
       "\\hline\n",
       "\t -0.5 & sentimentScore & 51 & -0.130 & 0.042\\\\\n",
       "\t  0.5 & sentimentScore & 51 & -0.101 & 0.041\\\\\n",
       "\\end{tabular}\n"
      ],
      "text/markdown": [
       "\n",
       "A tibble: 2 × 5\n",
       "\n",
       "| ethnicityC &lt;dbl&gt; | variable &lt;chr&gt; | n &lt;dbl&gt; | mean &lt;dbl&gt; | sd &lt;dbl&gt; |\n",
       "|---|---|---|---|---|\n",
       "| -0.5 | sentimentScore | 51 | -0.130 | 0.042 |\n",
       "|  0.5 | sentimentScore | 51 | -0.101 | 0.041 |\n",
       "\n"
      ],
      "text/plain": [
       "  ethnicityC variable       n  mean   sd   \n",
       "1 -0.5       sentimentScore 51 -0.130 0.042\n",
       "2  0.5       sentimentScore 51 -0.101 0.041"
      ]
     },
     "metadata": {},
     "output_type": "display_data"
    }
   ],
   "source": [
    "mDf %>%\n",
    "  group_by(ethnicityC) %>%\n",
    "  get_summary_stats(sentimentScore, type = \"mean_sd\")"
   ]
  },
  {
   "cell_type": "code",
   "execution_count": 51,
   "id": "103d8cf1",
   "metadata": {},
   "outputs": [
    {
     "data": {
      "text/html": [
       "-0.029"
      ],
      "text/latex": [
       "-0.029"
      ],
      "text/markdown": [
       "-0.029"
      ],
      "text/plain": [
       "[1] -0.029"
      ]
     },
     "metadata": {},
     "output_type": "display_data"
    }
   ],
   "source": [
    "-0.130 - (-0.101)"
   ]
  }
 ],
 "metadata": {
  "kernelspec": {
   "display_name": "R",
   "language": "R",
   "name": "ir"
  },
  "language_info": {
   "codemirror_mode": "r",
   "file_extension": ".r",
   "mimetype": "text/x-r-source",
   "name": "R",
   "pygments_lexer": "r",
   "version": "4.0.1"
  }
 },
 "nbformat": 4,
 "nbformat_minor": 5
}
