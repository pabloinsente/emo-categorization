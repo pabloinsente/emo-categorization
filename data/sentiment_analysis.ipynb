{
 "cells": [
  {
   "cell_type": "code",
   "execution_count": 15,
   "id": "f6572b0c-8342-4b8b-a54e-f1dd6725dcdd",
   "metadata": {},
   "outputs": [],
   "source": [
    "import nltk\n",
    "import pandas as pd\n",
    "from nltk.sentiment import SentimentIntensityAnalyzer"
   ]
  },
  {
   "cell_type": "code",
   "execution_count": 17,
   "id": "8c8fdce1-d58f-49fa-becb-3fe62f518cc3",
   "metadata": {},
   "outputs": [],
   "source": [
    "# nltk.download([\n",
    "#     \"names\",\n",
    "#     \"stopwords\",\n",
    "#     \"state_union\",\n",
    "#     \"twitter_samples\",\n",
    "#     \"movie_reviews\",\n",
    "#     \"averaged_perceptron_tagger\",\n",
    "#     \"vader_lexicon\",\n",
    "#     \"punkt\",\n",
    "# ])"
   ]
  },
  {
   "cell_type": "markdown",
   "id": "8e0adba2-c4d0-4310-a4e6-31d23680df0a",
   "metadata": {},
   "source": [
    "# Forced choice sentiment scores"
   ]
  },
  {
   "cell_type": "code",
   "execution_count": 115,
   "id": "ceb51689-8a4c-47b3-bf05-cc1497fc89c7",
   "metadata": {},
   "outputs": [],
   "source": [
    "forced_choice_df = pd.read_csv('../clean_data/forced_choice_uw_students_count_emotions.csv')"
   ]
  },
  {
   "cell_type": "code",
   "execution_count": 116,
   "id": "ad58355b-078f-487c-8b1b-9a2552795f6d",
   "metadata": {},
   "outputs": [],
   "source": [
    "sia = SentimentIntensityAnalyzer()"
   ]
  },
  {
   "cell_type": "code",
   "execution_count": 117,
   "id": "3b700753-b04a-4289-a808-66bff7abcde2",
   "metadata": {},
   "outputs": [],
   "source": [
    "forced_choice_emo_list = ['happiness', 'neutral', 'surprise' , 'sadness', 'disgust', 'anger', 'fear', 'uncertain']"
   ]
  },
  {
   "cell_type": "code",
   "execution_count": 118,
   "id": "328b4e00-44f0-4661-9b98-0976e1a0e289",
   "metadata": {},
   "outputs": [],
   "source": [
    "emo_scores_forced = dict.fromkeys(forced_choice_emo_list) # placeholder dic with emotion-keys"
   ]
  },
  {
   "cell_type": "code",
   "execution_count": 119,
   "id": "78243b10-fce7-4a48-9868-59b75dc3bdc9",
   "metadata": {},
   "outputs": [],
   "source": [
    "emo_scores_forced.update({k: sia.polarity_scores(k) for k, v in emo_scores_forced.items()}) # dic with sentiment scores for each emotion word"
   ]
  },
  {
   "cell_type": "code",
   "execution_count": 138,
   "id": "0ca7d840-8207-4acd-81f7-086792e92acb",
   "metadata": {},
   "outputs": [],
   "source": [
    "def sentiment_matrix(dic_scores = emo_scores_forced, count_matrix = forced_choice_df, sentiment='compound', emo_list=forced_choice_emo_list):\n",
    "    scores_df = pd.DataFrame(columns=emo_list, index=range(0,194))\n",
    "    for emo in dic_scores:\n",
    "        scores_df[emo] = count_matrix[emo] * dic_scores[emo][sentiment]\n",
    "    scores_df[f\"mean-{sentiment}\"] = scores_df.mean(axis=1)\n",
    "    return scores_df"
   ]
  },
  {
   "cell_type": "code",
   "execution_count": 142,
   "id": "468c8fc2-179f-4215-b486-0d00913d37f1",
   "metadata": {},
   "outputs": [],
   "source": [
    "forced_compound = sentiment_matrix(dic_scores = emo_scores_forced, count_matrix = forced_choice_df, sentiment='compound', emo_list=forced_choice_emo_list)\n",
    "forced_neg = sentiment_matrix(dic_scores = emo_scores_forced, count_matrix = forced_choice_df, sentiment='neg', emo_list=forced_choice_emo_list)\n",
    "forced_pos = sentiment_matrix(dic_scores = emo_scores_forced, count_matrix = forced_choice_df, sentiment='pos', emo_list=forced_choice_emo_list)\n",
    "forced_neu = sentiment_matrix(dic_scores = emo_scores_forced, count_matrix = forced_choice_df, sentiment='neu', emo_list=forced_choice_emo_list)"
   ]
  },
  {
   "cell_type": "code",
   "execution_count": 93,
   "id": "48759d85-78f3-4f32-a8d7-b41411c69614",
   "metadata": {},
   "outputs": [],
   "source": [
    "# forced_choice_df.to_csv('../clean_data/forced_choice_df_uw_students_sentiment_scores.csv', index=False)"
   ]
  },
  {
   "cell_type": "markdown",
   "id": "ea479432-17f1-4ce5-8466-a266cbaf2b03",
   "metadata": {},
   "source": [
    "# Free labeling sentiment scores"
   ]
  },
  {
   "cell_type": "code",
   "execution_count": 165,
   "id": "13a60fb4-86bd-4130-b01d-2f3eb516b133",
   "metadata": {},
   "outputs": [],
   "source": [
    "free_labeling_df = pd.read_csv('../clean_data/free_choice_uw_students_count_emotions.csv')\n",
    "free_labeling_emo_list = pd.read_csv('../clean_data/free_choice_word_list.csv')\n",
    "free_labeling_emo_list = free_labeling_emo_list['emotion'].tolist()"
   ]
  },
  {
   "cell_type": "code",
   "execution_count": 166,
   "id": "b1647634-5617-4b51-b1ee-0265e6772e8d",
   "metadata": {},
   "outputs": [],
   "source": [
    "emo_scores_free = dict.fromkeys(free_labeling_emo_list)"
   ]
  },
  {
   "cell_type": "code",
   "execution_count": 169,
   "id": "a8b40013-a396-41b4-8106-1d7eaa0df264",
   "metadata": {},
   "outputs": [],
   "source": [
    "emo_scores_free.update({k: sia.polarity_scores(k) for k, v in emo_scores_free.items()}) # dic with sentiment scores for each emotion word"
   ]
  },
  {
   "cell_type": "code",
   "execution_count": 171,
   "id": "7f3afa24-85a4-4769-9e54-b6f09ebb940b",
   "metadata": {},
   "outputs": [],
   "source": [
    "free_compound = sentiment_matrix(dic_scores = emo_scores_free, count_matrix = free_labeling_df, sentiment='compound', emo_list=free_labeling_emo_list)\n",
    "free_neg = sentiment_matrix(dic_scores = emo_scores_free, count_matrix = free_labeling_df, sentiment='neg', emo_list=free_labeling_emo_list)\n",
    "free_pos = sentiment_matrix(dic_scores = emo_scores_free, count_matrix = free_labeling_df, sentiment='pos', emo_list=free_labeling_emo_list)\n",
    "free_neu = sentiment_matrix(dic_scores = emo_scores_free, count_matrix = free_labeling_df, sentiment='neu', emo_list=free_labeling_emo_list)"
   ]
  },
  {
   "cell_type": "markdown",
   "id": "3348b419-051b-463e-be4c-92630a601aa0",
   "metadata": {},
   "source": [
    "## Regression analysis"
   ]
  },
  {
   "cell_type": "code",
   "execution_count": 177,
   "id": "b60ce1bc-63b6-43ab-add2-bc0022fd680d",
   "metadata": {},
   "outputs": [],
   "source": [
    "X_free = pd.DataFrame({'sex':free_labeling_df['sex'], 'age':free_labeling_df['age'], 'ethnicity':free_labeling_df['ethnicity']})\n",
    "Y_free = pd.DataFrame({'mean-compound':free_compound['mean-compound']})"
   ]
  },
  {
   "cell_type": "code",
   "execution_count": 94,
   "id": "9c8902a8-3540-4277-b102-82f34b404b7c",
   "metadata": {},
   "outputs": [],
   "source": [
    "# free_labeling_df.to_csv('../clean_data/free_labeling_df_uw_students_sentiment_scores.csv', index=False)"
   ]
  }
 ],
 "metadata": {
  "kernelspec": {
   "display_name": "Python 3 (ipykernel)",
   "language": "python",
   "name": "python3"
  },
  "language_info": {
   "codemirror_mode": {
    "name": "ipython",
    "version": 3
   },
   "file_extension": ".py",
   "mimetype": "text/x-python",
   "name": "python",
   "nbconvert_exporter": "python",
   "pygments_lexer": "ipython3",
   "version": "3.9.7"
  }
 },
 "nbformat": 4,
 "nbformat_minor": 5
}
