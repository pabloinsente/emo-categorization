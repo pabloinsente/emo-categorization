{
 "cells": [
  {
   "cell_type": "code",
   "execution_count": 1,
   "id": "d3f82ab2-766a-475d-8cd8-394d50b9b942",
   "metadata": {},
   "outputs": [],
   "source": [
    "import pandas as pd"
   ]
  },
  {
   "cell_type": "code",
   "execution_count": 2,
   "id": "b3fa43a0-97f4-4247-8f14-cdde5e02522e",
   "metadata": {},
   "outputs": [],
   "source": [
    "df1 = pd.read_csv('../data_mturk/next/ranking_mturk_1.csv')\n",
    "df2 = pd.read_csv('../data_mturk/next/ranking_mturk_2.csv')\n",
    "df3 = pd.read_csv('../data_mturk/next/ranking_mturk_3.csv')"
   ]
  },
  {
   "cell_type": "code",
   "execution_count": 3,
   "id": "5452cfc0-f30a-4516-bb3b-3ca596f6775a",
   "metadata": {},
   "outputs": [],
   "source": [
    "df1 = df1.iloc[2:, :] # filter metadata rows\n",
    "df2 = df2.iloc[2:, :] \n",
    "df3 = df3.iloc[2:, :] "
   ]
  },
  {
   "cell_type": "code",
   "execution_count": 4,
   "id": "068ed5b9-e2d3-48aa-bded-6b9f7279cb3f",
   "metadata": {},
   "outputs": [],
   "source": [
    "df = pd.concat([df1, df2, df3])"
   ]
  },
  {
   "cell_type": "code",
   "execution_count": 5,
   "id": "9698f8cb-58f8-46ed-a753-ae7891e1e78b",
   "metadata": {},
   "outputs": [
    {
     "name": "stdout",
     "output_type": "stream",
     "text": [
      "<class 'pandas.core.frame.DataFrame'>\n",
      "Int64Index: 305 entries, 2 to 63\n",
      "Data columns (total 26 columns):\n",
      " #   Column                 Non-Null Count  Dtype \n",
      "---  ------                 --------------  ----- \n",
      " 0   StartDate              305 non-null    object\n",
      " 1   EndDate                305 non-null    object\n",
      " 2   Status                 305 non-null    object\n",
      " 3   IPAddress              305 non-null    object\n",
      " 4   Progress               305 non-null    object\n",
      " 5   Duration (in seconds)  305 non-null    object\n",
      " 6   Finished               305 non-null    object\n",
      " 7   RecordedDate           305 non-null    object\n",
      " 8   ResponseId             305 non-null    object\n",
      " 9   RecipientLastName      0 non-null      object\n",
      " 10  RecipientFirstName     0 non-null      object\n",
      " 11  RecipientEmail         0 non-null      object\n",
      " 12  ExternalReference      0 non-null      object\n",
      " 13  LocationLatitude       305 non-null    object\n",
      " 14  LocationLongitude      305 non-null    object\n",
      " 15  DistributionChannel    305 non-null    object\n",
      " 16  UserLanguage           305 non-null    object\n",
      " 17  Q1                     304 non-null    object\n",
      " 18  Q2                     304 non-null    object\n",
      " 19  Q3_1                   304 non-null    object\n",
      " 20  Q4                     304 non-null    object\n",
      " 21  Q5                     304 non-null    object\n",
      " 22  Q6_1                   300 non-null    object\n",
      " 23  Q7                     304 non-null    object\n",
      " 24  Q7_8_TEXT              7 non-null      object\n",
      " 25  random                 305 non-null    object\n",
      "dtypes: object(26)\n",
      "memory usage: 64.3+ KB\n"
     ]
    }
   ],
   "source": [
    "df.info()"
   ]
  },
  {
   "cell_type": "code",
   "execution_count": 6,
   "id": "32485d99-1c32-4651-b668-ebd22d41d7f2",
   "metadata": {},
   "outputs": [],
   "source": [
    "df.rename(columns={\n",
    "    'Q2': 'sex',\n",
    "    'Q3_1': 'age',\n",
    "    'Q4': 'ethnicity',\n",
    "    'Q5': 'formal education',\n",
    "    'Q6_1': 'income',\n",
    "    'Q7': 'language'}, inplace=True)"
   ]
  },
  {
   "cell_type": "code",
   "execution_count": 7,
   "id": "524cc4f9-79d7-414a-ba17-e173aa678b22",
   "metadata": {},
   "outputs": [
    {
     "data": {
      "text/plain": [
       "(39.63815789473684, 11.274873107585226)"
      ]
     },
     "execution_count": 7,
     "metadata": {},
     "output_type": "execute_result"
    }
   ],
   "source": [
    "age = df['age'].dropna().astype('int32')\n",
    "\n",
    "age.mean(), age.std()"
   ]
  },
  {
   "cell_type": "code",
   "execution_count": 8,
   "id": "dd1c1315-093b-42d5-9529-e216b5ad399d",
   "metadata": {},
   "outputs": [
    {
     "data": {
      "text/plain": [
       "Male                         168\n",
       "Female                       111\n",
       "Non-binary / third gender     25\n",
       "Name: sex, dtype: int64"
      ]
     },
     "execution_count": 8,
     "metadata": {},
     "output_type": "execute_result"
    }
   ],
   "source": [
    "sex = df['sex'].dropna()\n",
    "\n",
    "sex.value_counts()"
   ]
  },
  {
   "cell_type": "code",
   "execution_count": 9,
   "id": "5ed7783b-9391-46cc-aa68-4c694b3553e3",
   "metadata": {
    "tags": []
   },
   "outputs": [
    {
     "data": {
      "text/plain": [
       "White or Caucasian                     228\n",
       "Hispanic or Latino                      37\n",
       "Black or African American               16\n",
       "Asian                                   13\n",
       "Multiple ethnicities                     7\n",
       "Prefer not to say                        1\n",
       "American Indian or Alaska Native         1\n",
       "Native Hawaiian or Pacific Islander      1\n",
       "Name: ethnicity, dtype: int64"
      ]
     },
     "execution_count": 9,
     "metadata": {},
     "output_type": "execute_result"
    }
   ],
   "source": [
    "et = df['ethnicity'].dropna()\n",
    "\n",
    "et.value_counts()"
   ]
  }
 ],
 "metadata": {
  "kernelspec": {
   "display_name": "Python 3 (ipykernel)",
   "language": "python",
   "name": "python3"
  },
  "language_info": {
   "codemirror_mode": {
    "name": "ipython",
    "version": 3
   },
   "file_extension": ".py",
   "mimetype": "text/x-python",
   "name": "python",
   "nbconvert_exporter": "python",
   "pygments_lexer": "ipython3",
   "version": "3.9.7"
  }
 },
 "nbformat": 4,
 "nbformat_minor": 5
}
