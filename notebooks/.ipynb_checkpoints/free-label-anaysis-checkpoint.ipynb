{
 "cells": [
  {
   "cell_type": "code",
   "execution_count": 2,
   "id": "ffd5fb88-26c9-4781-b45a-408d2b3cf8f8",
   "metadata": {},
   "outputs": [],
   "source": [
    "import pandas as pd\n",
    "import numpy as np\n",
    "import altair as alt"
   ]
  },
  {
   "cell_type": "markdown",
   "id": "d853dbc9-91a5-430c-b601-41594bb65c54",
   "metadata": {},
   "source": [
    "## Data ingestion"
   ]
  },
  {
   "cell_type": "code",
   "execution_count": 97,
   "id": "be8df92d-3e76-4141-89c4-daee0e6154ca",
   "metadata": {},
   "outputs": [],
   "source": [
    "df = pd.read_csv('../data/emotion_free_choice_uw_students.csv')\n",
    "df_label = pd.read_csv('../data/emotion_labels.csv')"
   ]
  },
  {
   "cell_type": "code",
   "execution_count": 4,
   "id": "d4effccc-1de0-45d6-ad68-44e790f74042",
   "metadata": {},
   "outputs": [],
   "source": [
    "df_label['url'] = df_label['url'].astype(str)"
   ]
  },
  {
   "cell_type": "code",
   "execution_count": 5,
   "id": "62f7d6c8-0b0a-4a54-8377-8582815e52b0",
   "metadata": {},
   "outputs": [],
   "source": [
    "# replicate rows by 4 to match with free responses\n",
    "df_labels = pd.DataFrame(np.repeat(df_label.values, 4, axis=0))\n",
    "df_labels.columns = df_label.columns"
   ]
  },
  {
   "cell_type": "code",
   "execution_count": 6,
   "id": "49d09f59-548a-4cd0-8a9d-f8fe8e78390a",
   "metadata": {},
   "outputs": [],
   "source": [
    "df_labels.to_csv('../data/emotion_labels_free_choice.csv', index=False)"
   ]
  },
  {
   "cell_type": "code",
   "execution_count": 7,
   "id": "d2c42396-5dca-4f13-a299-64626ca3f01c",
   "metadata": {},
   "outputs": [
    {
     "name": "stdout",
     "output_type": "stream",
     "text": [
      "<class 'pandas.core.frame.DataFrame'>\n",
      "RangeIndex: 101 entries, 0 to 100\n",
      "Columns: 802 entries, StartDate to Q195.1_4\n",
      "dtypes: object(802)\n",
      "memory usage: 633.0+ KB\n"
     ]
    }
   ],
   "source": [
    "df.info()"
   ]
  },
  {
   "cell_type": "code",
   "execution_count": 8,
   "id": "bdfb7630-fc0f-4f70-947b-fd6b2f5dd1f5",
   "metadata": {},
   "outputs": [],
   "source": [
    "df = df.iloc[19:, :]  # filter out test rows"
   ]
  },
  {
   "cell_type": "code",
   "execution_count": 9,
   "id": "d513fa30-34cb-4314-aebf-7a6a441af17b",
   "metadata": {},
   "outputs": [
    {
     "name": "stdout",
     "output_type": "stream",
     "text": [
      "<class 'pandas.core.frame.DataFrame'>\n",
      "RangeIndex: 82 entries, 19 to 100\n",
      "Columns: 802 entries, StartDate to Q195.1_4\n",
      "dtypes: object(802)\n",
      "memory usage: 513.9+ KB\n"
     ]
    }
   ],
   "source": [
    "df.info()"
   ]
  },
  {
   "cell_type": "code",
   "execution_count": 10,
   "id": "58d7ead7-f3ce-4f48-8bed-44e0c61e94d8",
   "metadata": {},
   "outputs": [],
   "source": [
    "df = df[df['Finished'] =='True'] # filter out incomplete surveys"
   ]
  },
  {
   "cell_type": "code",
   "execution_count": 11,
   "id": "c52e5026-17bb-4fd8-b6c7-7c0fd010407d",
   "metadata": {},
   "outputs": [
    {
     "name": "stdout",
     "output_type": "stream",
     "text": [
      "<class 'pandas.core.frame.DataFrame'>\n",
      "Int64Index: 51 entries, 19 to 95\n",
      "Columns: 802 entries, StartDate to Q195.1_4\n",
      "dtypes: object(802)\n",
      "memory usage: 319.9+ KB\n"
     ]
    }
   ],
   "source": [
    "df.info()"
   ]
  },
  {
   "cell_type": "code",
   "execution_count": 12,
   "id": "57c9bad2-f874-4c4a-bc0e-77041a295d08",
   "metadata": {},
   "outputs": [],
   "source": [
    "df.to_csv('../clean_data/free_choice_emotion_uw_students.csv', index=False)"
   ]
  },
  {
   "cell_type": "markdown",
   "id": "edfd4fca-d6c2-4288-99b1-88b9342462bc",
   "metadata": {},
   "source": [
    "## Formating"
   ]
  },
  {
   "cell_type": "code",
   "execution_count": 13,
   "id": "e830f16d-ad56-47d0-844f-6ef6493a613a",
   "metadata": {},
   "outputs": [],
   "source": [
    "df_emo_answers = df.loc[:, 'Q2.1_1':'Q195.1_4'] # get cols with words only"
   ]
  },
  {
   "cell_type": "code",
   "execution_count": 14,
   "id": "cd16fd24-6b52-458b-8e3b-0204ead9aec1",
   "metadata": {},
   "outputs": [],
   "source": [
    "def formating_words(df, len_words=1, len_letters=2):\n",
    "    df_stack = df.stack().reset_index(drop=True) # stack as series\n",
    "    df_stack = df_stack.to_frame(name='emotion') # as DF\n",
    "    df_stack['emotion'] = df_stack['emotion'].str.strip() # remove blank spaces\n",
    "    df_stack['emotion'] = df_stack['emotion'].str.lower() # as lower case\n",
    "    df_stack['emotion'] = df_stack['emotion'].replace({'na':'none'}) \n",
    "    df_stack['len_words'] = df_stack['emotion'].str.split().apply(len) # cnt number of words\n",
    "    df_stack['len_letters'] = df_stack['emotion'].apply(len) # cont number of letters\n",
    "    # get df with single words of 3 or more letters\n",
    "    df_stack_single_word = df_stack[(df_stack['len_words'] == len_words) & (df_stack['len_letters'] > len_letters)] \n",
    "    return df_stack_single_word"
   ]
  },
  {
   "cell_type": "code",
   "execution_count": 15,
   "id": "60df8da0-21da-48e6-8257-5708b9300e1e",
   "metadata": {},
   "outputs": [],
   "source": [
    "df_stack_single_word = formating_words(df_emo_answers)"
   ]
  },
  {
   "cell_type": "markdown",
   "id": "88d5fa3f-dd87-434c-b9dd-5e230fbbd229",
   "metadata": {},
   "source": [
    "## Spell checking \n",
    "**NOTE**: poor results so far with this"
   ]
  },
  {
   "cell_type": "code",
   "execution_count": 16,
   "id": "8691f5e4-dee1-44f6-a52d-a7cd6eeceb24",
   "metadata": {},
   "outputs": [],
   "source": [
    "# conda install -c conda-forge pattern \n",
    "# from pattern.en import suggest"
   ]
  },
  {
   "cell_type": "code",
   "execution_count": 17,
   "id": "c8d26779-5c1f-4c06-bbbc-2d28739d9118",
   "metadata": {},
   "outputs": [],
   "source": [
    "# df_stack_single_word['emotion_spell_check'] = df_stack_single_word['emotion'].apply(lambda x: suggest(x)[0][0])\n",
    "# df_stack_single_word['emotion'].size\n",
    "# df_stack_single_word['emotion'].size - sum(df_stack_single_word['emotion'] == df_stack_single_word['emotion_spell_check']) # number of words changed"
   ]
  },
  {
   "cell_type": "markdown",
   "id": "360c6136-bdb5-43df-9afc-8f4710c759f8",
   "metadata": {},
   "source": [
    "## Steamming"
   ]
  },
  {
   "cell_type": "code",
   "execution_count": 18,
   "id": "5a1e61e2-b0d6-4173-8154-0b0aaa584076",
   "metadata": {},
   "outputs": [],
   "source": [
    "from nltk.stem import PorterStemmer\n",
    "from nltk.stem import LancasterStemmer\n",
    "from nltk.stem import SnowballStemmer"
   ]
  },
  {
   "cell_type": "code",
   "execution_count": 19,
   "id": "60389dd9-44bf-471e-9bce-6bab9ceb2dd2",
   "metadata": {},
   "outputs": [],
   "source": [
    "ps = PorterStemmer()\n",
    "ls = LancasterStemmer()\n",
    "snowball = SnowballStemmer(language='english')"
   ]
  },
  {
   "cell_type": "code",
   "execution_count": 20,
   "id": "d7530869-e9a4-4a7b-8468-5969bc30cbae",
   "metadata": {},
   "outputs": [],
   "source": [
    "# Porter stemmer\n",
    "df_stack_single_word['emotion_ps_steamed'] = df_stack_single_word['emotion'].apply(lambda x: ps.stem(x))"
   ]
  },
  {
   "cell_type": "code",
   "execution_count": 21,
   "id": "ab532d7e-cf02-4769-aff3-5460801381b6",
   "metadata": {},
   "outputs": [],
   "source": [
    "# Lancaster stemmer\n",
    "df_stack_single_word['emotion_ls_steamed'] = df_stack_single_word['emotion'].apply(lambda x: ls.stem(x))"
   ]
  },
  {
   "cell_type": "code",
   "execution_count": 22,
   "id": "444eee6d-0e8f-4aa4-b676-c2b8d67db2db",
   "metadata": {},
   "outputs": [],
   "source": [
    "# Snowball stemmer\n",
    "df_stack_single_word['emotion_sb_steamed'] = df_stack_single_word['emotion'].apply(lambda x: snowball.stem(x))"
   ]
  },
  {
   "cell_type": "code",
   "execution_count": 23,
   "id": "bb3edd29-b946-4eaa-9802-d73f03dd4817",
   "metadata": {},
   "outputs": [
    {
     "data": {
      "text/html": [
       "<div>\n",
       "<style scoped>\n",
       "    .dataframe tbody tr th:only-of-type {\n",
       "        vertical-align: middle;\n",
       "    }\n",
       "\n",
       "    .dataframe tbody tr th {\n",
       "        vertical-align: top;\n",
       "    }\n",
       "\n",
       "    .dataframe thead th {\n",
       "        text-align: right;\n",
       "    }\n",
       "</style>\n",
       "<table border=\"1\" class=\"dataframe\">\n",
       "  <thead>\n",
       "    <tr style=\"text-align: right;\">\n",
       "      <th></th>\n",
       "      <th>emotion</th>\n",
       "      <th>len_words</th>\n",
       "      <th>len_letters</th>\n",
       "      <th>emotion_ps_steamed</th>\n",
       "      <th>emotion_ls_steamed</th>\n",
       "      <th>emotion_sb_steamed</th>\n",
       "    </tr>\n",
       "  </thead>\n",
       "  <tbody>\n",
       "    <tr>\n",
       "      <th>0</th>\n",
       "      <td>angry</td>\n",
       "      <td>1</td>\n",
       "      <td>5</td>\n",
       "      <td>angri</td>\n",
       "      <td>angry</td>\n",
       "      <td>angri</td>\n",
       "    </tr>\n",
       "    <tr>\n",
       "      <th>1</th>\n",
       "      <td>yelling</td>\n",
       "      <td>1</td>\n",
       "      <td>7</td>\n",
       "      <td>yell</td>\n",
       "      <td>yel</td>\n",
       "      <td>yell</td>\n",
       "    </tr>\n",
       "    <tr>\n",
       "      <th>2</th>\n",
       "      <td>yelling</td>\n",
       "      <td>1</td>\n",
       "      <td>7</td>\n",
       "      <td>yell</td>\n",
       "      <td>yel</td>\n",
       "      <td>yell</td>\n",
       "    </tr>\n",
       "  </tbody>\n",
       "</table>\n",
       "</div>"
      ],
      "text/plain": [
       "   emotion  len_words  len_letters emotion_ps_steamed emotion_ls_steamed  \\\n",
       "0    angry          1            5              angri              angry   \n",
       "1  yelling          1            7               yell                yel   \n",
       "2  yelling          1            7               yell                yel   \n",
       "\n",
       "  emotion_sb_steamed  \n",
       "0              angri  \n",
       "1               yell  \n",
       "2               yell  "
      ]
     },
     "execution_count": 23,
     "metadata": {},
     "output_type": "execute_result"
    }
   ],
   "source": [
    "df_stack_single_word.head(3)"
   ]
  },
  {
   "cell_type": "markdown",
   "id": "c8693d96-f4ba-4c34-a8d5-4ad3ff9e1bca",
   "metadata": {},
   "source": [
    "## Count frequency and plot"
   ]
  },
  {
   "cell_type": "code",
   "execution_count": 24,
   "id": "fc70bdbd-5801-4724-82f1-8ebcbe308ebe",
   "metadata": {},
   "outputs": [],
   "source": [
    "def count_freq_labels(df, col):\n",
    "    df_counts = df[col].value_counts() # count word frequency \n",
    "    df_counts = df_counts.to_frame('counts') # get value_counts as df\n",
    "    df_counts['emotion'] = df_counts.index # get index as col\n",
    "    df_counts = df_counts.reset_index(drop=True) # clean index\n",
    "    df_counts['percent'] = df_counts['counts'] / df_counts['counts'].sum() # compute percentage\n",
    "    return df_counts"
   ]
  },
  {
   "cell_type": "code",
   "execution_count": 25,
   "id": "1e377bee-7de9-46b2-8192-1467f9f5356d",
   "metadata": {},
   "outputs": [],
   "source": [
    "def simple_per_bar(df, X, Y, top, width=300, height=300, title='Title'):\n",
    "    bars = alt.Chart(df.head(top), title=title).mark_bar().encode(\n",
    "        alt.X(X, axis=alt.Axis(format='.0%')),\n",
    "        y=alt.Y(Y, sort='-x'))\n",
    "    \n",
    "    text = bars.mark_text(\n",
    "        align='left',\n",
    "        baseline='middle',\n",
    "        dx=3,  # Nudges text to right so it doesn't appear on top of the bar\n",
    "        fontSize=10\n",
    "    ).encode(\n",
    "        alt.Text(X, format='.2%')\n",
    "    )\n",
    "    \n",
    "    chart = (bars + text)\n",
    "    \n",
    "    return chart.properties(width=width, height=height)"
   ]
  },
  {
   "cell_type": "code",
   "execution_count": 26,
   "id": "03a0b905-045d-4fb9-ac35-801497caec00",
   "metadata": {},
   "outputs": [],
   "source": [
    "def simple_count_bar(df, X, Y, top, width=300, height=300, title='Title'):\n",
    "    bars = alt.Chart(df.head(top), title=title).mark_bar().encode(\n",
    "        alt.X(X),\n",
    "        y=alt.Y(Y, sort='-x'))\n",
    "    \n",
    "    text = bars.mark_text(\n",
    "    align='left',\n",
    "    baseline='middle',\n",
    "    dx=3,  # Nudges text to right so it doesn't appear on top of the bar\n",
    "    fontSize=10\n",
    "    ).encode(\n",
    "        alt.Text('counts:Q')\n",
    "    )\n",
    "    \n",
    "    chart = (bars + text)\n",
    "    \n",
    "    return chart.properties(width=width, height=height)"
   ]
  },
  {
   "cell_type": "code",
   "execution_count": 27,
   "id": "21b3d2e0-43c0-4bb5-b4b7-1017d984b7e8",
   "metadata": {},
   "outputs": [],
   "source": [
    "df_emo_overall = count_freq_labels(df_stack_single_word, 'emotion_ps_steamed')"
   ]
  },
  {
   "cell_type": "code",
   "execution_count": 28,
   "id": "8a5a79c5-9d28-433f-b1b0-8678b65daf00",
   "metadata": {},
   "outputs": [],
   "source": [
    "df_emo_overall.to_csv('../clean_data/free_choice_emotion_uw_students_overall.csv', index=False)"
   ]
  },
  {
   "cell_type": "code",
   "execution_count": 31,
   "id": "d1e4ac17-617d-4f42-8708-add7e3b6cf28",
   "metadata": {},
   "outputs": [
    {
     "data": {
      "text/html": [
       "\n",
       "<div id=\"altair-viz-7fc0b4fe6e7e422b926de8a4c6c82ad6\"></div>\n",
       "<script type=\"text/javascript\">\n",
       "  (function(spec, embedOpt){\n",
       "    let outputDiv = document.currentScript.previousElementSibling;\n",
       "    if (outputDiv.id !== \"altair-viz-7fc0b4fe6e7e422b926de8a4c6c82ad6\") {\n",
       "      outputDiv = document.getElementById(\"altair-viz-7fc0b4fe6e7e422b926de8a4c6c82ad6\");\n",
       "    }\n",
       "    const paths = {\n",
       "      \"vega\": \"https://cdn.jsdelivr.net/npm//vega@5?noext\",\n",
       "      \"vega-lib\": \"https://cdn.jsdelivr.net/npm//vega-lib?noext\",\n",
       "      \"vega-lite\": \"https://cdn.jsdelivr.net/npm//vega-lite@4.8.1?noext\",\n",
       "      \"vega-embed\": \"https://cdn.jsdelivr.net/npm//vega-embed@6?noext\",\n",
       "    };\n",
       "\n",
       "    function loadScript(lib) {\n",
       "      return new Promise(function(resolve, reject) {\n",
       "        var s = document.createElement('script');\n",
       "        s.src = paths[lib];\n",
       "        s.async = true;\n",
       "        s.onload = () => resolve(paths[lib]);\n",
       "        s.onerror = () => reject(`Error loading script: ${paths[lib]}`);\n",
       "        document.getElementsByTagName(\"head\")[0].appendChild(s);\n",
       "      });\n",
       "    }\n",
       "\n",
       "    function showError(err) {\n",
       "      outputDiv.innerHTML = `<div class=\"error\" style=\"color:red;\">${err}</div>`;\n",
       "      throw err;\n",
       "    }\n",
       "\n",
       "    function displayChart(vegaEmbed) {\n",
       "      vegaEmbed(outputDiv, spec, embedOpt)\n",
       "        .catch(err => showError(`Javascript Error: ${err.message}<br>This usually means there's a typo in your chart specification. See the javascript console for the full traceback.`));\n",
       "    }\n",
       "\n",
       "    if(typeof define === \"function\" && define.amd) {\n",
       "      requirejs.config({paths});\n",
       "      require([\"vega-embed\"], displayChart, err => showError(`Error loading script: ${err.message}`));\n",
       "    } else if (typeof vegaEmbed === \"function\") {\n",
       "      displayChart(vegaEmbed);\n",
       "    } else {\n",
       "      loadScript(\"vega\")\n",
       "        .then(() => loadScript(\"vega-lite\"))\n",
       "        .then(() => loadScript(\"vega-embed\"))\n",
       "        .catch(showError)\n",
       "        .then(() => displayChart(vegaEmbed));\n",
       "    }\n",
       "  })({\"config\": {\"view\": {\"continuousWidth\": 400, \"continuousHeight\": 300}}, \"layer\": [{\"mark\": \"bar\", \"encoding\": {\"x\": {\"type\": \"quantitative\", \"axis\": {\"format\": \".0%\"}, \"field\": \"percent\"}, \"y\": {\"type\": \"nominal\", \"field\": \"emotion\", \"sort\": \"-x\"}}, \"title\": \"Most frequently selected labels | n = 14364\"}, {\"mark\": {\"type\": \"text\", \"align\": \"left\", \"baseline\": \"middle\", \"dx\": 3, \"fontSize\": 10}, \"encoding\": {\"text\": {\"type\": \"quantitative\", \"field\": \"percent\", \"format\": \".2%\"}, \"x\": {\"type\": \"quantitative\", \"axis\": {\"format\": \".0%\"}, \"field\": \"percent\"}, \"y\": {\"type\": \"nominal\", \"field\": \"emotion\", \"sort\": \"-x\"}}, \"title\": \"Most frequently selected labels | n = 14364\"}], \"data\": {\"name\": \"data-bb1cee6000133b7c6ce961b50c4bc829\"}, \"height\": 500, \"width\": 300, \"$schema\": \"https://vega.github.io/schema/vega-lite/v4.8.1.json\", \"datasets\": {\"data-bb1cee6000133b7c6ce961b50c4bc829\": [{\"counts\": 1403, \"emotion\": \"happi\", \"percent\": 0.09767474241158451}, {\"counts\": 1129, \"emotion\": \"sad\", \"percent\": 0.07859927596769702}, {\"counts\": 711, \"emotion\": \"angri\", \"percent\": 0.04949874686716792}, {\"counts\": 633, \"emotion\": \"confus\", \"percent\": 0.04406850459482038}, {\"counts\": 588, \"emotion\": \"shock\", \"percent\": 0.04093567251461988}, {\"counts\": 529, \"emotion\": \"surpris\", \"percent\": 0.03682818156502367}, {\"counts\": 499, \"emotion\": \"upset\", \"percent\": 0.03473962684489}, {\"counts\": 403, \"emotion\": \"mad\", \"percent\": 0.028056251740462265}, {\"counts\": 400, \"emotion\": \"disgust\", \"percent\": 0.0278473962684489}, {\"counts\": 350, \"emotion\": \"scare\", \"percent\": 0.024366471734892786}, {\"counts\": 327, \"emotion\": \"none\", \"percent\": 0.022765246449456975}, {\"counts\": 303, \"emotion\": \"excit\", \"percent\": 0.02109440267335004}, {\"counts\": 296, \"emotion\": \"silli\", \"percent\": 0.020607073238652185}, {\"counts\": 280, \"emotion\": \"content\", \"percent\": 0.01949317738791423}, {\"counts\": 176, \"emotion\": \"annoy\", \"percent\": 0.012252854358117515}, {\"counts\": 164, \"emotion\": \"calm\", \"percent\": 0.011417432470064048}, {\"counts\": 161, \"emotion\": \"goofi\", \"percent\": 0.011208576998050682}, {\"counts\": 158, \"emotion\": \"seriou\", \"percent\": 0.010999721526037315}, {\"counts\": 157, \"emotion\": \"unhappi\", \"percent\": 0.010930103035366193}, {\"counts\": 131, \"emotion\": \"bore\", \"percent\": 0.009120022277917014}, {\"counts\": 126, \"emotion\": \"worri\", \"percent\": 0.008771929824561403}, {\"counts\": 125, \"emotion\": \"funni\", \"percent\": 0.00870231133389028}, {\"counts\": 122, \"emotion\": \"unpleas\", \"percent\": 0.008493455861876914}, {\"counts\": 117, \"emotion\": \"supris\", \"percent\": 0.008145363408521303}, {\"counts\": 110, \"emotion\": \"smile\", \"percent\": 0.007658033973823447}, {\"counts\": 109, \"emotion\": \"cri\", \"percent\": 0.007588415483152325}, {\"counts\": 101, \"emotion\": \"uncomfort\", \"percent\": 0.007031467557783347}, {\"counts\": 96, \"emotion\": \"frustrat\", \"percent\": 0.006683375104427736}, {\"counts\": 92, \"emotion\": \"disappoint\", \"percent\": 0.006404901141743247}, {\"counts\": 80, \"emotion\": \"concern\", \"percent\": 0.00556947925368978}, {\"counts\": 74, \"emotion\": \"interest\", \"percent\": 0.005151768309663046}, {\"counts\": 71, \"emotion\": \"focus\", \"percent\": 0.0049429128376496795}, {\"counts\": 70, \"emotion\": \"intrigu\", \"percent\": 0.004873294346978557}, {\"counts\": 67, \"emotion\": \"play\", \"percent\": 0.0046644388749651905}, {\"counts\": 67, \"emotion\": \"blank\", \"percent\": 0.0046644388749651905}, {\"counts\": 66, \"emotion\": \"tire\", \"percent\": 0.004594820384294068}, {\"counts\": 65, \"emotion\": \"stare\", \"percent\": 0.004525201893622946}, {\"counts\": 60, \"emotion\": \"curiou\", \"percent\": 0.004177109440267335}, {\"counts\": 57, \"emotion\": \"pleas\", \"percent\": 0.003968253968253968}, {\"counts\": 54, \"emotion\": \"bad\", \"percent\": 0.0037593984962406013}, {\"counts\": 53, \"emotion\": \"regret\", \"percent\": 0.003689780005569479}, {\"counts\": 52, \"emotion\": \"cute\", \"percent\": 0.003620161514898357}, {\"counts\": 52, \"emotion\": \"confid\", \"percent\": 0.003620161514898357}, {\"counts\": 51, \"emotion\": \"indiffer\", \"percent\": 0.0035505430242272346}, {\"counts\": 51, \"emotion\": \"chill\", \"percent\": 0.0035505430242272346}, {\"counts\": 50, \"emotion\": \"crazi\", \"percent\": 0.0034809245335561123}, {\"counts\": 46, \"emotion\": \"guilti\", \"percent\": 0.0032024505708716233}, {\"counts\": 45, \"emotion\": \"pose\", \"percent\": 0.003132832080200501}, {\"counts\": 44, \"emotion\": \"displeas\", \"percent\": 0.003063213589529379}, {\"counts\": 42, \"emotion\": \"hate\", \"percent\": 0.0029239766081871343}]}}, {\"mode\": \"vega-lite\"});\n",
       "</script>"
      ],
      "text/plain": [
       "alt.LayerChart(...)"
      ]
     },
     "execution_count": 31,
     "metadata": {},
     "output_type": "execute_result"
    }
   ],
   "source": [
    "df_emo_overall = count_freq_labels(df_stack_single_word, 'emotion_ps_steamed')\n",
    "simple_per_bar(df_emo_overall, 'percent:Q', 'emotion:N', width=300, height=500, top=50, title='Most frequently selected labels | n = '+df_emo_overall['counts'].sum().astype(str))"
   ]
  },
  {
   "cell_type": "code",
   "execution_count": 32,
   "id": "842cf737-814a-4a7c-aedc-63be2f6618c3",
   "metadata": {},
   "outputs": [
    {
     "data": {
      "text/html": [
       "\n",
       "<div id=\"altair-viz-c952b90ecf1443bdb0b8fef35b92d345\"></div>\n",
       "<script type=\"text/javascript\">\n",
       "  (function(spec, embedOpt){\n",
       "    let outputDiv = document.currentScript.previousElementSibling;\n",
       "    if (outputDiv.id !== \"altair-viz-c952b90ecf1443bdb0b8fef35b92d345\") {\n",
       "      outputDiv = document.getElementById(\"altair-viz-c952b90ecf1443bdb0b8fef35b92d345\");\n",
       "    }\n",
       "    const paths = {\n",
       "      \"vega\": \"https://cdn.jsdelivr.net/npm//vega@5?noext\",\n",
       "      \"vega-lib\": \"https://cdn.jsdelivr.net/npm//vega-lib?noext\",\n",
       "      \"vega-lite\": \"https://cdn.jsdelivr.net/npm//vega-lite@4.8.1?noext\",\n",
       "      \"vega-embed\": \"https://cdn.jsdelivr.net/npm//vega-embed@6?noext\",\n",
       "    };\n",
       "\n",
       "    function loadScript(lib) {\n",
       "      return new Promise(function(resolve, reject) {\n",
       "        var s = document.createElement('script');\n",
       "        s.src = paths[lib];\n",
       "        s.async = true;\n",
       "        s.onload = () => resolve(paths[lib]);\n",
       "        s.onerror = () => reject(`Error loading script: ${paths[lib]}`);\n",
       "        document.getElementsByTagName(\"head\")[0].appendChild(s);\n",
       "      });\n",
       "    }\n",
       "\n",
       "    function showError(err) {\n",
       "      outputDiv.innerHTML = `<div class=\"error\" style=\"color:red;\">${err}</div>`;\n",
       "      throw err;\n",
       "    }\n",
       "\n",
       "    function displayChart(vegaEmbed) {\n",
       "      vegaEmbed(outputDiv, spec, embedOpt)\n",
       "        .catch(err => showError(`Javascript Error: ${err.message}<br>This usually means there's a typo in your chart specification. See the javascript console for the full traceback.`));\n",
       "    }\n",
       "\n",
       "    if(typeof define === \"function\" && define.amd) {\n",
       "      requirejs.config({paths});\n",
       "      require([\"vega-embed\"], displayChart, err => showError(`Error loading script: ${err.message}`));\n",
       "    } else if (typeof vegaEmbed === \"function\") {\n",
       "      displayChart(vegaEmbed);\n",
       "    } else {\n",
       "      loadScript(\"vega\")\n",
       "        .then(() => loadScript(\"vega-lite\"))\n",
       "        .then(() => loadScript(\"vega-embed\"))\n",
       "        .catch(showError)\n",
       "        .then(() => displayChart(vegaEmbed));\n",
       "    }\n",
       "  })({\"config\": {\"view\": {\"continuousWidth\": 400, \"continuousHeight\": 300}}, \"layer\": [{\"mark\": \"bar\", \"encoding\": {\"x\": {\"type\": \"quantitative\", \"field\": \"counts\"}, \"y\": {\"type\": \"nominal\", \"field\": \"emotion\", \"sort\": \"-x\"}}, \"title\": \"Most frequently selected labels | n = 14364\"}, {\"mark\": {\"type\": \"text\", \"align\": \"left\", \"baseline\": \"middle\", \"dx\": 3, \"fontSize\": 10}, \"encoding\": {\"text\": {\"type\": \"quantitative\", \"field\": \"counts\"}, \"x\": {\"type\": \"quantitative\", \"field\": \"counts\"}, \"y\": {\"type\": \"nominal\", \"field\": \"emotion\", \"sort\": \"-x\"}}, \"title\": \"Most frequently selected labels | n = 14364\"}], \"data\": {\"name\": \"data-18886bbe634ba6358f6537708c84860f\"}, \"height\": 300, \"width\": 300, \"$schema\": \"https://vega.github.io/schema/vega-lite/v4.8.1.json\", \"datasets\": {\"data-18886bbe634ba6358f6537708c84860f\": [{\"counts\": 1403, \"emotion\": \"happi\", \"percent\": 0.09767474241158451}, {\"counts\": 1129, \"emotion\": \"sad\", \"percent\": 0.07859927596769702}, {\"counts\": 711, \"emotion\": \"angri\", \"percent\": 0.04949874686716792}, {\"counts\": 633, \"emotion\": \"confus\", \"percent\": 0.04406850459482038}, {\"counts\": 588, \"emotion\": \"shock\", \"percent\": 0.04093567251461988}, {\"counts\": 529, \"emotion\": \"surpris\", \"percent\": 0.03682818156502367}, {\"counts\": 499, \"emotion\": \"upset\", \"percent\": 0.03473962684489}, {\"counts\": 403, \"emotion\": \"mad\", \"percent\": 0.028056251740462265}, {\"counts\": 400, \"emotion\": \"disgust\", \"percent\": 0.0278473962684489}, {\"counts\": 350, \"emotion\": \"scare\", \"percent\": 0.024366471734892786}, {\"counts\": 327, \"emotion\": \"none\", \"percent\": 0.022765246449456975}, {\"counts\": 303, \"emotion\": \"excit\", \"percent\": 0.02109440267335004}, {\"counts\": 296, \"emotion\": \"silli\", \"percent\": 0.020607073238652185}, {\"counts\": 280, \"emotion\": \"content\", \"percent\": 0.01949317738791423}, {\"counts\": 176, \"emotion\": \"annoy\", \"percent\": 0.012252854358117515}, {\"counts\": 164, \"emotion\": \"calm\", \"percent\": 0.011417432470064048}, {\"counts\": 161, \"emotion\": \"goofi\", \"percent\": 0.011208576998050682}, {\"counts\": 158, \"emotion\": \"seriou\", \"percent\": 0.010999721526037315}, {\"counts\": 157, \"emotion\": \"unhappi\", \"percent\": 0.010930103035366193}, {\"counts\": 131, \"emotion\": \"bore\", \"percent\": 0.009120022277917014}]}}, {\"mode\": \"vega-lite\"});\n",
       "</script>"
      ],
      "text/plain": [
       "alt.LayerChart(...)"
      ]
     },
     "execution_count": 32,
     "metadata": {},
     "output_type": "execute_result"
    }
   ],
   "source": [
    "simple_count_bar(df_emo_overall, 'counts:Q', 'emotion:N', top=20, title='Most frequently selected labels | n = '+df_emo_overall['counts'].sum().astype(str))"
   ]
  },
  {
   "cell_type": "markdown",
   "id": "4e3eaddf-437e-419a-a980-764acbf78fbe",
   "metadata": {},
   "source": [
    "## Most frequently used word for each emotion category (grouping pictures by expected-emotion)"
   ]
  },
  {
   "cell_type": "code",
   "execution_count": 33,
   "id": "909288ea-8571-461f-a7af-f21051b7e524",
   "metadata": {},
   "outputs": [],
   "source": [
    "def df_add_label(df_emo_answers, emotion_label):\n",
    "    df_emo_cat = df_emo_answers.copy() \n",
    "    df_emo_cat_t = df_emo_cat.T # transpose\n",
    "    df_emo_cat_t['photo_id'] = df_emo_cat_t.index # get index as col\n",
    "    df_emo_cat_t = df_emo_cat_t.reset_index(drop=True) # clean index\n",
    "    df_emo_cat_t_labels = pd.concat([df_emo_cat_t, df_labels], axis=1) # add metadata cols\n",
    "    df_label =  df_emo_cat_t_labels[df_emo_cat_t_labels['label'] == emotion_label]\n",
    "    \n",
    "    return df_label"
   ]
  },
  {
   "cell_type": "code",
   "execution_count": 34,
   "id": "24517f07-7395-4d75-b84c-6fe547ff9697",
   "metadata": {},
   "outputs": [],
   "source": [
    "    df_emotion = df_add_label(df, 'anger') # subset 'emotion' rows\n",
    "    df_emotion_ans = df_emotion.drop(['photo_id', 'ethnicity', 'sex','age', 'label'], axis=1)\n",
    "    df_stack_emotion = formating_words(df_emotion_ans) # clean up\n",
    "    # df_stack_anger['emotion_spell_check'] = df_stack_single_word['emotion'].apply(lambda x: suggest(x)[0][0])\n",
    "    df_stack_emotion['emotion_ps_steamed'] = df_stack_emotion['emotion'].apply(lambda x: ps.stem(x)) #steam\n",
    "    df_stack_emotion_count = count_freq_labels(df_stack_emotion, 'emotion_ps_steamed')"
   ]
  },
  {
   "cell_type": "code",
   "execution_count": 35,
   "id": "a7fc453b-ba15-4550-bddf-dbac0ba10f77",
   "metadata": {},
   "outputs": [],
   "source": [
    "def chart_wrapper(df, emotion, title):\n",
    "    df_emotion = df_add_label(df, emotion) # subset 'emotion' rows\n",
    "    df_emotion_ans = df_emotion.drop(['photo_id', 'ethnicity', 'sex','age', 'label'], axis=1)\n",
    "    df_stack_emotion = formating_words(df_emotion_ans) # clean up\n",
    "    # df_stack_anger['emotion_spell_check'] = df_stack_single_word['emotion'].apply(lambda x: suggest(x)[0][0])\n",
    "    df_stack_emotion['emotion_ps_steamed'] = df_stack_emotion['emotion'].apply(lambda x: ps.stem(x)) #steam\n",
    "    df_stack_emotion_count = count_freq_labels(df_stack_emotion, 'emotion_ps_steamed')\n",
    "    n = df_stack_emotion_count['counts'].sum()    \n",
    "    chart = simple_per_bar(df_stack_emotion_count, 'percent:Q', 'emotion:N', top=20, title=title+\" | n= \"+n.astype(str))\n",
    "    \n",
    "    return chart"
   ]
  },
  {
   "cell_type": "markdown",
   "id": "3063a6b1-451b-4cd9-be19-20a982a8b92a",
   "metadata": {},
   "source": [
    "### Charts"
   ]
  },
  {
   "cell_type": "code",
   "execution_count": 36,
   "id": "b9602f82-6520-4eea-abd4-6cf2a4a4c438",
   "metadata": {},
   "outputs": [],
   "source": [
    "chart_anger = chart_wrapper(df_emo_answers, 'anger', 'Expected label: '+ ' anger')\n",
    "chart_disgust = chart_wrapper(df_emo_answers, 'disgust', 'Expected label: '+ ' disgust')\n",
    "chart_fear = chart_wrapper(df_emo_answers, 'fear', 'Expected label: '+ ' fear')\n",
    "chart_surprise = chart_wrapper(df_emo_answers, 'surprise', 'Expected label: '+ ' surprise')\n",
    "chart_happiness = chart_wrapper(df_emo_answers, 'happiness', 'Expected label: '+ ' happiness')\n",
    "chart_sadness = chart_wrapper(df_emo_answers, 'sadness', 'Expected label: '+ ' sadness')\n",
    "chart_uncertain = chart_wrapper(df_emo_answers, 'uncertain', 'Expected label: '+ ' uncertain')\n",
    "chart_neutral = chart_wrapper(df_emo_answers, 'neutral', 'Expected label: '+ ' neutral')"
   ]
  },
  {
   "cell_type": "code",
   "execution_count": 37,
   "id": "a80e0a0c-341d-4661-9937-e7a0949fb607",
   "metadata": {},
   "outputs": [
    {
     "data": {
      "text/html": [
       "\n",
       "<div id=\"altair-viz-76ffe9e68bad4e198a2d0efb780e9050\"></div>\n",
       "<script type=\"text/javascript\">\n",
       "  (function(spec, embedOpt){\n",
       "    let outputDiv = document.currentScript.previousElementSibling;\n",
       "    if (outputDiv.id !== \"altair-viz-76ffe9e68bad4e198a2d0efb780e9050\") {\n",
       "      outputDiv = document.getElementById(\"altair-viz-76ffe9e68bad4e198a2d0efb780e9050\");\n",
       "    }\n",
       "    const paths = {\n",
       "      \"vega\": \"https://cdn.jsdelivr.net/npm//vega@5?noext\",\n",
       "      \"vega-lib\": \"https://cdn.jsdelivr.net/npm//vega-lib?noext\",\n",
       "      \"vega-lite\": \"https://cdn.jsdelivr.net/npm//vega-lite@4.8.1?noext\",\n",
       "      \"vega-embed\": \"https://cdn.jsdelivr.net/npm//vega-embed@6?noext\",\n",
       "    };\n",
       "\n",
       "    function loadScript(lib) {\n",
       "      return new Promise(function(resolve, reject) {\n",
       "        var s = document.createElement('script');\n",
       "        s.src = paths[lib];\n",
       "        s.async = true;\n",
       "        s.onload = () => resolve(paths[lib]);\n",
       "        s.onerror = () => reject(`Error loading script: ${paths[lib]}`);\n",
       "        document.getElementsByTagName(\"head\")[0].appendChild(s);\n",
       "      });\n",
       "    }\n",
       "\n",
       "    function showError(err) {\n",
       "      outputDiv.innerHTML = `<div class=\"error\" style=\"color:red;\">${err}</div>`;\n",
       "      throw err;\n",
       "    }\n",
       "\n",
       "    function displayChart(vegaEmbed) {\n",
       "      vegaEmbed(outputDiv, spec, embedOpt)\n",
       "        .catch(err => showError(`Javascript Error: ${err.message}<br>This usually means there's a typo in your chart specification. See the javascript console for the full traceback.`));\n",
       "    }\n",
       "\n",
       "    if(typeof define === \"function\" && define.amd) {\n",
       "      requirejs.config({paths});\n",
       "      require([\"vega-embed\"], displayChart, err => showError(`Error loading script: ${err.message}`));\n",
       "    } else if (typeof vegaEmbed === \"function\") {\n",
       "      displayChart(vegaEmbed);\n",
       "    } else {\n",
       "      loadScript(\"vega\")\n",
       "        .then(() => loadScript(\"vega-lite\"))\n",
       "        .then(() => loadScript(\"vega-embed\"))\n",
       "        .catch(showError)\n",
       "        .then(() => displayChart(vegaEmbed));\n",
       "    }\n",
       "  })({\"config\": {\"view\": {\"continuousWidth\": 400, \"continuousHeight\": 300}}, \"vconcat\": [{\"hconcat\": [{\"layer\": [{\"mark\": \"bar\", \"encoding\": {\"x\": {\"type\": \"quantitative\", \"axis\": {\"format\": \".0%\"}, \"field\": \"percent\"}, \"y\": {\"type\": \"nominal\", \"field\": \"emotion\", \"sort\": \"-x\"}}, \"title\": \"Expected label:  anger | n= 1882\"}, {\"mark\": {\"type\": \"text\", \"align\": \"left\", \"baseline\": \"middle\", \"dx\": 3, \"fontSize\": 10}, \"encoding\": {\"text\": {\"type\": \"quantitative\", \"field\": \"percent\", \"format\": \".2%\"}, \"x\": {\"type\": \"quantitative\", \"axis\": {\"format\": \".0%\"}, \"field\": \"percent\"}, \"y\": {\"type\": \"nominal\", \"field\": \"emotion\", \"sort\": \"-x\"}}, \"title\": \"Expected label:  anger | n= 1882\"}], \"data\": {\"name\": \"data-47c3730addeed9f7b34dd60eef7b20de\"}, \"height\": 300, \"width\": 300}, {\"layer\": [{\"mark\": \"bar\", \"encoding\": {\"x\": {\"type\": \"quantitative\", \"axis\": {\"format\": \".0%\"}, \"field\": \"percent\"}, \"y\": {\"type\": \"nominal\", \"field\": \"emotion\", \"sort\": \"-x\"}}, \"title\": \"Expected label:  disgust | n= 1859\"}, {\"mark\": {\"type\": \"text\", \"align\": \"left\", \"baseline\": \"middle\", \"dx\": 3, \"fontSize\": 10}, \"encoding\": {\"text\": {\"type\": \"quantitative\", \"field\": \"percent\", \"format\": \".2%\"}, \"x\": {\"type\": \"quantitative\", \"axis\": {\"format\": \".0%\"}, \"field\": \"percent\"}, \"y\": {\"type\": \"nominal\", \"field\": \"emotion\", \"sort\": \"-x\"}}, \"title\": \"Expected label:  disgust | n= 1859\"}], \"data\": {\"name\": \"data-ab787a3f7be1749dd0400d29215e1a19\"}, \"height\": 300, \"width\": 300}]}, {\"hconcat\": [{\"layer\": [{\"mark\": \"bar\", \"encoding\": {\"x\": {\"type\": \"quantitative\", \"axis\": {\"format\": \".0%\"}, \"field\": \"percent\"}, \"y\": {\"type\": \"nominal\", \"field\": \"emotion\", \"sort\": \"-x\"}}, \"title\": \"Expected label:  fear | n= 1968\"}, {\"mark\": {\"type\": \"text\", \"align\": \"left\", \"baseline\": \"middle\", \"dx\": 3, \"fontSize\": 10}, \"encoding\": {\"text\": {\"type\": \"quantitative\", \"field\": \"percent\", \"format\": \".2%\"}, \"x\": {\"type\": \"quantitative\", \"axis\": {\"format\": \".0%\"}, \"field\": \"percent\"}, \"y\": {\"type\": \"nominal\", \"field\": \"emotion\", \"sort\": \"-x\"}}, \"title\": \"Expected label:  fear | n= 1968\"}], \"data\": {\"name\": \"data-26d1fc5be44cbd5c66ce8b75a0a352e8\"}, \"height\": 300, \"width\": 300}, {\"layer\": [{\"mark\": \"bar\", \"encoding\": {\"x\": {\"type\": \"quantitative\", \"axis\": {\"format\": \".0%\"}, \"field\": \"percent\"}, \"y\": {\"type\": \"nominal\", \"field\": \"emotion\", \"sort\": \"-x\"}}, \"title\": \"Expected label:  surprise | n= 1922\"}, {\"mark\": {\"type\": \"text\", \"align\": \"left\", \"baseline\": \"middle\", \"dx\": 3, \"fontSize\": 10}, \"encoding\": {\"text\": {\"type\": \"quantitative\", \"field\": \"percent\", \"format\": \".2%\"}, \"x\": {\"type\": \"quantitative\", \"axis\": {\"format\": \".0%\"}, \"field\": \"percent\"}, \"y\": {\"type\": \"nominal\", \"field\": \"emotion\", \"sort\": \"-x\"}}, \"title\": \"Expected label:  surprise | n= 1922\"}], \"data\": {\"name\": \"data-72c0b522fa477c37d144ad11e2a86f05\"}, \"height\": 300, \"width\": 300}]}, {\"hconcat\": [{\"layer\": [{\"mark\": \"bar\", \"encoding\": {\"x\": {\"type\": \"quantitative\", \"axis\": {\"format\": \".0%\"}, \"field\": \"percent\"}, \"y\": {\"type\": \"nominal\", \"field\": \"emotion\", \"sort\": \"-x\"}}, \"title\": \"Expected label:  happiness | n= 1889\"}, {\"mark\": {\"type\": \"text\", \"align\": \"left\", \"baseline\": \"middle\", \"dx\": 3, \"fontSize\": 10}, \"encoding\": {\"text\": {\"type\": \"quantitative\", \"field\": \"percent\", \"format\": \".2%\"}, \"x\": {\"type\": \"quantitative\", \"axis\": {\"format\": \".0%\"}, \"field\": \"percent\"}, \"y\": {\"type\": \"nominal\", \"field\": \"emotion\", \"sort\": \"-x\"}}, \"title\": \"Expected label:  happiness | n= 1889\"}], \"data\": {\"name\": \"data-3d4648088be7417b41f02866eb216c72\"}, \"height\": 300, \"width\": 300}, {\"layer\": [{\"mark\": \"bar\", \"encoding\": {\"x\": {\"type\": \"quantitative\", \"axis\": {\"format\": \".0%\"}, \"field\": \"percent\"}, \"y\": {\"type\": \"nominal\", \"field\": \"emotion\", \"sort\": \"-x\"}}, \"title\": \"Expected label:  sadness | n= 2006\"}, {\"mark\": {\"type\": \"text\", \"align\": \"left\", \"baseline\": \"middle\", \"dx\": 3, \"fontSize\": 10}, \"encoding\": {\"text\": {\"type\": \"quantitative\", \"field\": \"percent\", \"format\": \".2%\"}, \"x\": {\"type\": \"quantitative\", \"axis\": {\"format\": \".0%\"}, \"field\": \"percent\"}, \"y\": {\"type\": \"nominal\", \"field\": \"emotion\", \"sort\": \"-x\"}}, \"title\": \"Expected label:  sadness | n= 2006\"}], \"data\": {\"name\": \"data-39f6e781a069fafd85d8fc646143b865\"}, \"height\": 300, \"width\": 300}]}, {\"hconcat\": [{\"layer\": [{\"mark\": \"bar\", \"encoding\": {\"x\": {\"type\": \"quantitative\", \"axis\": {\"format\": \".0%\"}, \"field\": \"percent\"}, \"y\": {\"type\": \"nominal\", \"field\": \"emotion\", \"sort\": \"-x\"}}, \"title\": \"Expected label:  neutral | n= 1662\"}, {\"mark\": {\"type\": \"text\", \"align\": \"left\", \"baseline\": \"middle\", \"dx\": 3, \"fontSize\": 10}, \"encoding\": {\"text\": {\"type\": \"quantitative\", \"field\": \"percent\", \"format\": \".2%\"}, \"x\": {\"type\": \"quantitative\", \"axis\": {\"format\": \".0%\"}, \"field\": \"percent\"}, \"y\": {\"type\": \"nominal\", \"field\": \"emotion\", \"sort\": \"-x\"}}, \"title\": \"Expected label:  neutral | n= 1662\"}], \"data\": {\"name\": \"data-00f2e6dde62ac15cf82f613a6841b47a\"}, \"height\": 300, \"width\": 300}, {\"layer\": [{\"mark\": \"bar\", \"encoding\": {\"x\": {\"type\": \"quantitative\", \"axis\": {\"format\": \".0%\"}, \"field\": \"percent\"}, \"y\": {\"type\": \"nominal\", \"field\": \"emotion\", \"sort\": \"-x\"}}, \"title\": \"Expected label:  uncertain | n= 1770\"}, {\"mark\": {\"type\": \"text\", \"align\": \"left\", \"baseline\": \"middle\", \"dx\": 3, \"fontSize\": 10}, \"encoding\": {\"text\": {\"type\": \"quantitative\", \"field\": \"percent\", \"format\": \".2%\"}, \"x\": {\"type\": \"quantitative\", \"axis\": {\"format\": \".0%\"}, \"field\": \"percent\"}, \"y\": {\"type\": \"nominal\", \"field\": \"emotion\", \"sort\": \"-x\"}}, \"title\": \"Expected label:  uncertain | n= 1770\"}], \"data\": {\"name\": \"data-fc304bb44a3e4b779d64acc75d8e82ed\"}, \"height\": 300, \"width\": 300}]}], \"$schema\": \"https://vega.github.io/schema/vega-lite/v4.8.1.json\", \"datasets\": {\"data-47c3730addeed9f7b34dd60eef7b20de\": [{\"counts\": 408, \"emotion\": \"angri\", \"percent\": 0.21679064824654623}, {\"counts\": 191, \"emotion\": \"mad\", \"percent\": 0.10148777895855472}, {\"counts\": 120, \"emotion\": \"upset\", \"percent\": 0.06376195536663125}, {\"counts\": 72, \"emotion\": \"confus\", \"percent\": 0.03825717321997875}, {\"counts\": 65, \"emotion\": \"sad\", \"percent\": 0.03453772582359192}, {\"counts\": 61, \"emotion\": \"seriou\", \"percent\": 0.032412327311370885}, {\"counts\": 42, \"emotion\": \"frustrat\", \"percent\": 0.022316684378320937}, {\"counts\": 40, \"emotion\": \"none\", \"percent\": 0.021253985122210415}, {\"counts\": 35, \"emotion\": \"annoy\", \"percent\": 0.018597236981934114}, {\"counts\": 26, \"emotion\": \"silli\", \"percent\": 0.01381509032943677}, {\"counts\": 24, \"emotion\": \"anger\", \"percent\": 0.012752391073326248}, {\"counts\": 21, \"emotion\": \"disappoint\", \"percent\": 0.011158342189160468}, {\"counts\": 18, \"emotion\": \"unhappi\", \"percent\": 0.009564293304994687}, {\"counts\": 18, \"emotion\": \"happi\", \"percent\": 0.009564293304994687}, {\"counts\": 17, \"emotion\": \"disgust\", \"percent\": 0.009032943676939426}, {\"counts\": 16, \"emotion\": \"focus\", \"percent\": 0.008501594048884165}, {\"counts\": 15, \"emotion\": \"unpleas\", \"percent\": 0.007970244420828906}, {\"counts\": 14, \"emotion\": \"frustur\", \"percent\": 0.007438894792773645}, {\"counts\": 13, \"emotion\": \"concern\", \"percent\": 0.006907545164718385}, {\"counts\": 13, \"emotion\": \"calm\", \"percent\": 0.006907545164718385}], \"data-ab787a3f7be1749dd0400d29215e1a19\": [{\"counts\": 286, \"emotion\": \"disgust\", \"percent\": 0.15384615384615385}, {\"counts\": 153, \"emotion\": \"confus\", \"percent\": 0.08230231307154384}, {\"counts\": 117, \"emotion\": \"angri\", \"percent\": 0.06293706293706294}, {\"counts\": 90, \"emotion\": \"mad\", \"percent\": 0.04841312533620226}, {\"counts\": 69, \"emotion\": \"silli\", \"percent\": 0.037116729424421735}, {\"counts\": 66, \"emotion\": \"upset\", \"percent\": 0.03550295857988166}, {\"counts\": 54, \"emotion\": \"happi\", \"percent\": 0.029047875201721356}, {\"counts\": 51, \"emotion\": \"annoy\", \"percent\": 0.027434104357181282}, {\"counts\": 44, \"emotion\": \"shock\", \"percent\": 0.023668639053254437}, {\"counts\": 38, \"emotion\": \"sad\", \"percent\": 0.020441097364174286}, {\"counts\": 34, \"emotion\": \"none\", \"percent\": 0.01828940290478752}, {\"counts\": 31, \"emotion\": \"surpris\", \"percent\": 0.016675632060247445}, {\"counts\": 29, \"emotion\": \"goofi\", \"percent\": 0.015599784830554062}, {\"counts\": 24, \"emotion\": \"scare\", \"percent\": 0.012910166756320602}, {\"counts\": 22, \"emotion\": \"funni\", \"percent\": 0.011834319526627219}, {\"counts\": 22, \"emotion\": \"unhappi\", \"percent\": 0.011834319526627219}, {\"counts\": 20, \"emotion\": \"gross\", \"percent\": 0.010758472296933835}, {\"counts\": 18, \"emotion\": \"unpleas\", \"percent\": 0.009682625067240451}, {\"counts\": 18, \"emotion\": \"sour\", \"percent\": 0.009682625067240451}, {\"counts\": 16, \"emotion\": \"play\", \"percent\": 0.008606777837547068}], \"data-26d1fc5be44cbd5c66ce8b75a0a352e8\": [{\"counts\": 227, \"emotion\": \"shock\", \"percent\": 0.11534552845528455}, {\"counts\": 202, \"emotion\": \"scare\", \"percent\": 0.10264227642276423}, {\"counts\": 160, \"emotion\": \"sad\", \"percent\": 0.08130081300813008}, {\"counts\": 156, \"emotion\": \"surpris\", \"percent\": 0.07926829268292683}, {\"counts\": 101, \"emotion\": \"confus\", \"percent\": 0.051321138211382115}, {\"counts\": 69, \"emotion\": \"upset\", \"percent\": 0.0350609756097561}, {\"counts\": 61, \"emotion\": \"disgust\", \"percent\": 0.030995934959349592}, {\"counts\": 54, \"emotion\": \"excit\", \"percent\": 0.027439024390243903}, {\"counts\": 54, \"emotion\": \"happi\", \"percent\": 0.027439024390243903}, {\"counts\": 51, \"emotion\": \"worri\", \"percent\": 0.025914634146341462}, {\"counts\": 37, \"emotion\": \"supris\", \"percent\": 0.018800813008130083}, {\"counts\": 32, \"emotion\": \"none\", \"percent\": 0.016260162601626018}, {\"counts\": 27, \"emotion\": \"silli\", \"percent\": 0.013719512195121951}, {\"counts\": 26, \"emotion\": \"angri\", \"percent\": 0.013211382113821139}, {\"counts\": 19, \"emotion\": \"cri\", \"percent\": 0.009654471544715448}, {\"counts\": 19, \"emotion\": \"fear\", \"percent\": 0.009654471544715448}, {\"counts\": 18, \"emotion\": \"concern\", \"percent\": 0.009146341463414634}, {\"counts\": 17, \"emotion\": \"mad\", \"percent\": 0.008638211382113821}, {\"counts\": 16, \"emotion\": \"funni\", \"percent\": 0.008130081300813009}, {\"counts\": 16, \"emotion\": \"frighten\", \"percent\": 0.008130081300813009}], \"data-72c0b522fa477c37d144ad11e2a86f05\": [{\"counts\": 273, \"emotion\": \"surpris\", \"percent\": 0.14203954214360043}, {\"counts\": 254, \"emotion\": \"shock\", \"percent\": 0.13215400624349635}, {\"counts\": 198, \"emotion\": \"happi\", \"percent\": 0.10301768990634755}, {\"counts\": 99, \"emotion\": \"confus\", \"percent\": 0.051508844953173774}, {\"counts\": 93, \"emotion\": \"excit\", \"percent\": 0.04838709677419355}, {\"counts\": 61, \"emotion\": \"scare\", \"percent\": 0.03173777315296566}, {\"counts\": 51, \"emotion\": \"supris\", \"percent\": 0.026534859521331947}, {\"counts\": 42, \"emotion\": \"silli\", \"percent\": 0.021852237252861603}, {\"counts\": 30, \"emotion\": \"none\", \"percent\": 0.015608740894901144}, {\"counts\": 27, \"emotion\": \"goofi\", \"percent\": 0.01404786680541103}, {\"counts\": 24, \"emotion\": \"funni\", \"percent\": 0.012486992715920915}, {\"counts\": 21, \"emotion\": \"interest\", \"percent\": 0.010926118626430802}, {\"counts\": 20, \"emotion\": \"intrigu\", \"percent\": 0.01040582726326743}, {\"counts\": 20, \"emotion\": \"worri\", \"percent\": 0.01040582726326743}, {\"counts\": 17, \"emotion\": \"unhappi\", \"percent\": 0.008844953173777315}, {\"counts\": 17, \"emotion\": \"sad\", \"percent\": 0.008844953173777315}, {\"counts\": 15, \"emotion\": \"curiou\", \"percent\": 0.007804370447450572}, {\"counts\": 15, \"emotion\": \"amaz\", \"percent\": 0.007804370447450572}, {\"counts\": 15, \"emotion\": \"uncomfort\", \"percent\": 0.007804370447450572}, {\"counts\": 14, \"emotion\": \"unpleas\", \"percent\": 0.007284079084287201}], \"data-3d4648088be7417b41f02866eb216c72\": [{\"counts\": 832, \"emotion\": \"happi\", \"percent\": 0.44044467972472207}, {\"counts\": 121, \"emotion\": \"content\", \"percent\": 0.06405505558496559}, {\"counts\": 112, \"emotion\": \"excit\", \"percent\": 0.059290629962943354}, {\"counts\": 87, \"emotion\": \"smile\", \"percent\": 0.04605611434621493}, {\"counts\": 38, \"emotion\": \"pleas\", \"percent\": 0.02011646373742721}, {\"counts\": 31, \"emotion\": \"calm\", \"percent\": 0.01641079936474325}, {\"counts\": 27, \"emotion\": \"none\", \"percent\": 0.014293276866066702}, {\"counts\": 19, \"emotion\": \"joy\", \"percent\": 0.010058231868713605}, {\"counts\": 17, \"emotion\": \"confid\", \"percent\": 0.008999470619375331}, {\"counts\": 17, \"emotion\": \"cheer\", \"percent\": 0.008999470619375331}, {\"counts\": 15, \"emotion\": \"silli\", \"percent\": 0.007940709370037057}, {\"counts\": 15, \"emotion\": \"unhappi\", \"percent\": 0.007940709370037057}, {\"counts\": 13, \"emotion\": \"proud\", \"percent\": 0.006881948120698782}, {\"counts\": 13, \"emotion\": \"unpleas\", \"percent\": 0.006881948120698782}, {\"counts\": 13, \"emotion\": \"surpris\", \"percent\": 0.006881948120698782}, {\"counts\": 12, \"emotion\": \"uncomfort\", \"percent\": 0.006352567496029645}, {\"counts\": 11, \"emotion\": \"thrill\", \"percent\": 0.005823186871360508}, {\"counts\": 10, \"emotion\": \"teeth\", \"percent\": 0.005293806246691371}, {\"counts\": 10, \"emotion\": \"bore\", \"percent\": 0.005293806246691371}, {\"counts\": 9, \"emotion\": \"grin\", \"percent\": 0.004764425622022234}], \"data-39f6e781a069fafd85d8fc646143b865\": [{\"counts\": 657, \"emotion\": \"sad\", \"percent\": 0.3275174476570289}, {\"counts\": 170, \"emotion\": \"upset\", \"percent\": 0.0847457627118644}, {\"counts\": 67, \"emotion\": \"cri\", \"percent\": 0.03339980059820538}, {\"counts\": 62, \"emotion\": \"angri\", \"percent\": 0.03090727816550349}, {\"counts\": 43, \"emotion\": \"regret\", \"percent\": 0.02143569292123629}, {\"counts\": 39, \"emotion\": \"confus\", \"percent\": 0.019441674975074777}, {\"counts\": 38, \"emotion\": \"mad\", \"percent\": 0.018943170488534396}, {\"counts\": 37, \"emotion\": \"scare\", \"percent\": 0.018444666001994018}, {\"counts\": 32, \"emotion\": \"worri\", \"percent\": 0.015952143569292122}, {\"counts\": 30, \"emotion\": \"disappoint\", \"percent\": 0.014955134596211365}, {\"counts\": 30, \"emotion\": \"none\", \"percent\": 0.014955134596211365}, {\"counts\": 26, \"emotion\": \"hurt\", \"percent\": 0.01296111665004985}, {\"counts\": 26, \"emotion\": \"unhappi\", \"percent\": 0.01296111665004985}, {\"counts\": 23, \"emotion\": \"depress\", \"percent\": 0.011465603190428714}, {\"counts\": 21, \"emotion\": \"distress\", \"percent\": 0.010468594217347957}, {\"counts\": 18, \"emotion\": \"distraught\", \"percent\": 0.00897308075772682}, {\"counts\": 18, \"emotion\": \"tear\", \"percent\": 0.00897308075772682}, {\"counts\": 17, \"emotion\": \"seriou\", \"percent\": 0.00847457627118644}, {\"counts\": 17, \"emotion\": \"unpleas\", \"percent\": 0.00847457627118644}, {\"counts\": 16, \"emotion\": \"disgust\", \"percent\": 0.007976071784646061}], \"data-00f2e6dde62ac15cf82f613a6841b47a\": [{\"counts\": 97, \"emotion\": \"content\", \"percent\": 0.05836341756919374}, {\"counts\": 87, \"emotion\": \"happi\", \"percent\": 0.052346570397111915}, {\"counts\": 79, \"emotion\": \"sad\", \"percent\": 0.04753309265944645}, {\"counts\": 79, \"emotion\": \"calm\", \"percent\": 0.04753309265944645}, {\"counts\": 78, \"emotion\": \"none\", \"percent\": 0.04693140794223827}, {\"counts\": 64, \"emotion\": \"seriou\", \"percent\": 0.03850782190132371}, {\"counts\": 60, \"emotion\": \"confus\", \"percent\": 0.036101083032490974}, {\"counts\": 42, \"emotion\": \"mad\", \"percent\": 0.02527075812274368}, {\"counts\": 42, \"emotion\": \"bore\", \"percent\": 0.02527075812274368}, {\"counts\": 38, \"emotion\": \"blank\", \"percent\": 0.02286401925391095}, {\"counts\": 37, \"emotion\": \"angri\", \"percent\": 0.022262334536702767}, {\"counts\": 36, \"emotion\": \"indiffer\", \"percent\": 0.021660649819494584}, {\"counts\": 27, \"emotion\": \"focus\", \"percent\": 0.016245487364620937}, {\"counts\": 27, \"emotion\": \"tire\", \"percent\": 0.016245487364620937}, {\"counts\": 27, \"emotion\": \"annoy\", \"percent\": 0.016245487364620937}, {\"counts\": 26, \"emotion\": \"stare\", \"percent\": 0.015643802647412757}, {\"counts\": 26, \"emotion\": \"chill\", \"percent\": 0.015643802647412757}, {\"counts\": 24, \"emotion\": \"unhappi\", \"percent\": 0.01444043321299639}, {\"counts\": 23, \"emotion\": \"upset\", \"percent\": 0.013838748495788207}, {\"counts\": 17, \"emotion\": \"normal\", \"percent\": 0.01022864019253911}], \"data-fc304bb44a3e4b779d64acc75d8e82ed\": [{\"counts\": 158, \"emotion\": \"happi\", \"percent\": 0.08926553672316384}, {\"counts\": 114, \"emotion\": \"silli\", \"percent\": 0.06440677966101695}, {\"counts\": 101, \"emotion\": \"confus\", \"percent\": 0.05706214689265537}, {\"counts\": 69, \"emotion\": \"goofi\", \"percent\": 0.03898305084745763}, {\"counts\": 55, \"emotion\": \"none\", \"percent\": 0.031073446327683617}, {\"counts\": 46, \"emotion\": \"funni\", \"percent\": 0.02598870056497175}, {\"counts\": 41, \"emotion\": \"surpris\", \"percent\": 0.023163841807909605}, {\"counts\": 40, \"emotion\": \"angri\", \"percent\": 0.022598870056497175}, {\"counts\": 40, \"emotion\": \"annoy\", \"percent\": 0.022598870056497175}, {\"counts\": 37, \"emotion\": \"sad\", \"percent\": 0.020903954802259886}, {\"counts\": 37, \"emotion\": \"shock\", \"percent\": 0.020903954802259886}, {\"counts\": 30, \"emotion\": \"content\", \"percent\": 0.01694915254237288}, {\"counts\": 27, \"emotion\": \"excit\", \"percent\": 0.015254237288135594}, {\"counts\": 21, \"emotion\": \"bore\", \"percent\": 0.011864406779661017}, {\"counts\": 21, \"emotion\": \"upset\", \"percent\": 0.011864406779661017}, {\"counts\": 19, \"emotion\": \"calm\", \"percent\": 0.010734463276836158}, {\"counts\": 19, \"emotion\": \"crazi\", \"percent\": 0.010734463276836158}, {\"counts\": 18, \"emotion\": \"unhappi\", \"percent\": 0.010169491525423728}, {\"counts\": 18, \"emotion\": \"disappoint\", \"percent\": 0.010169491525423728}, {\"counts\": 17, \"emotion\": \"pose\", \"percent\": 0.0096045197740113}]}}, {\"mode\": \"vega-lite\"});\n",
       "</script>"
      ],
      "text/plain": [
       "alt.VConcatChart(...)"
      ]
     },
     "execution_count": 37,
     "metadata": {},
     "output_type": "execute_result"
    }
   ],
   "source": [
    "(chart_anger | chart_disgust) & (chart_fear | chart_surprise) & (chart_happiness | chart_sadness) & (chart_neutral | chart_uncertain) "
   ]
  },
  {
   "cell_type": "markdown",
   "id": "724515dd-27e3-4c52-bf63-f6633fb5a2ba",
   "metadata": {},
   "source": [
    "### Most frequently used labels by photo"
   ]
  },
  {
   "cell_type": "code",
   "execution_count": 38,
   "id": "9e54fc68-bf4a-4fc2-81f8-a2f3a71388e5",
   "metadata": {},
   "outputs": [],
   "source": [
    "def photo_chart(df_emo_answers, emotion,  i):\n",
    "    df = df_add_label(df_emo_answers, emotion) # add emotion label\n",
    "    photo_id_list = df['photo_id'].tolist() # photo id to list\n",
    "    splited_photo_id = np.array_split(photo_id_list, 24) # split photo id by photo\n",
    "    df = df[df['photo_id'].isin(splited_photo_id[i])] # select photo rows   \n",
    "    df_url = df[['url']].head(1)  # get url for chart\n",
    "    \n",
    "    face = alt.Chart(df_url).mark_image(width=110, height=110, align='right', xOffset=0, yOffset=230).encode(url='url')\n",
    "    \n",
    "    df_emotion_ans = df.drop(['photo_id', 'ethnicity', 'sex', 'age', 'label', 'url'], axis=1) # clean cols\n",
    "    df_stack_emotion = formating_words(df_emotion_ans) # clean up words\n",
    "    df_stack_emotion['emotion_ps_steamed'] = df_stack_emotion['emotion'].apply(lambda x: ps.stem(x)) # steam\n",
    "    df_stack_emotion_count = count_freq_labels(df_stack_emotion, 'emotion_ps_steamed') # group and count\n",
    "    \n",
    "    chart = simple_per_bar(df_stack_emotion_count, 'percent:Q', 'emotion:N', width=300, height=300, top=20, title=\"Expected: \"+\" \"+emotion+\" | n = \"+    df_stack_emotion_count['counts'].sum().astype(str))\n",
    "    \n",
    "    return chart + face"
   ]
  },
  {
   "cell_type": "code",
   "execution_count": 41,
   "id": "e1f8095a-533a-45ab-92e8-91b168c8880e",
   "metadata": {},
   "outputs": [
    {
     "data": {
      "text/html": [
       "\n",
       "<div id=\"altair-viz-b990925f36514cc3875c3ecf43a487df\"></div>\n",
       "<script type=\"text/javascript\">\n",
       "  (function(spec, embedOpt){\n",
       "    let outputDiv = document.currentScript.previousElementSibling;\n",
       "    if (outputDiv.id !== \"altair-viz-b990925f36514cc3875c3ecf43a487df\") {\n",
       "      outputDiv = document.getElementById(\"altair-viz-b990925f36514cc3875c3ecf43a487df\");\n",
       "    }\n",
       "    const paths = {\n",
       "      \"vega\": \"https://cdn.jsdelivr.net/npm//vega@5?noext\",\n",
       "      \"vega-lib\": \"https://cdn.jsdelivr.net/npm//vega-lib?noext\",\n",
       "      \"vega-lite\": \"https://cdn.jsdelivr.net/npm//vega-lite@4.8.1?noext\",\n",
       "      \"vega-embed\": \"https://cdn.jsdelivr.net/npm//vega-embed@6?noext\",\n",
       "    };\n",
       "\n",
       "    function loadScript(lib) {\n",
       "      return new Promise(function(resolve, reject) {\n",
       "        var s = document.createElement('script');\n",
       "        s.src = paths[lib];\n",
       "        s.async = true;\n",
       "        s.onload = () => resolve(paths[lib]);\n",
       "        s.onerror = () => reject(`Error loading script: ${paths[lib]}`);\n",
       "        document.getElementsByTagName(\"head\")[0].appendChild(s);\n",
       "      });\n",
       "    }\n",
       "\n",
       "    function showError(err) {\n",
       "      outputDiv.innerHTML = `<div class=\"error\" style=\"color:red;\">${err}</div>`;\n",
       "      throw err;\n",
       "    }\n",
       "\n",
       "    function displayChart(vegaEmbed) {\n",
       "      vegaEmbed(outputDiv, spec, embedOpt)\n",
       "        .catch(err => showError(`Javascript Error: ${err.message}<br>This usually means there's a typo in your chart specification. See the javascript console for the full traceback.`));\n",
       "    }\n",
       "\n",
       "    if(typeof define === \"function\" && define.amd) {\n",
       "      requirejs.config({paths});\n",
       "      require([\"vega-embed\"], displayChart, err => showError(`Error loading script: ${err.message}`));\n",
       "    } else if (typeof vegaEmbed === \"function\") {\n",
       "      displayChart(vegaEmbed);\n",
       "    } else {\n",
       "      loadScript(\"vega\")\n",
       "        .then(() => loadScript(\"vega-lite\"))\n",
       "        .then(() => loadScript(\"vega-embed\"))\n",
       "        .catch(showError)\n",
       "        .then(() => displayChart(vegaEmbed));\n",
       "    }\n",
       "  })({\"config\": {\"view\": {\"continuousWidth\": 400, \"continuousHeight\": 300}}, \"layer\": [{\"mark\": \"bar\", \"encoding\": {\"x\": {\"type\": \"quantitative\", \"axis\": {\"format\": \".0%\"}, \"field\": \"percent\"}, \"y\": {\"type\": \"nominal\", \"field\": \"emotion\", \"sort\": \"-x\"}}, \"title\": \"Expected:  anger | n = 77\"}, {\"mark\": {\"type\": \"text\", \"align\": \"left\", \"baseline\": \"middle\", \"dx\": 3, \"fontSize\": 10}, \"encoding\": {\"text\": {\"type\": \"quantitative\", \"field\": \"percent\", \"format\": \".2%\"}, \"x\": {\"type\": \"quantitative\", \"axis\": {\"format\": \".0%\"}, \"field\": \"percent\"}, \"y\": {\"type\": \"nominal\", \"field\": \"emotion\", \"sort\": \"-x\"}}, \"title\": \"Expected:  anger | n = 77\"}, {\"data\": {\"name\": \"data-edba9728e004d60754c9b0a56514b93c\"}, \"mark\": {\"type\": \"image\", \"align\": \"right\", \"height\": 110, \"width\": 110, \"xOffset\": 0, \"yOffset\": 230}, \"encoding\": {\"url\": {\"type\": \"nominal\", \"field\": \"url\"}}}], \"data\": {\"name\": \"data-efd339a2767183d1bb351ebf80305350\"}, \"height\": 300, \"width\": 300, \"$schema\": \"https://vega.github.io/schema/vega-lite/v4.8.1.json\", \"datasets\": {\"data-efd339a2767183d1bb351ebf80305350\": [{\"counts\": 10, \"emotion\": \"silli\", \"percent\": 0.12987012987012986}, {\"counts\": 9, \"emotion\": \"angri\", \"percent\": 0.11688311688311688}, {\"counts\": 8, \"emotion\": \"happi\", \"percent\": 0.1038961038961039}, {\"counts\": 6, \"emotion\": \"goofi\", \"percent\": 0.07792207792207792}, {\"counts\": 5, \"emotion\": \"upset\", \"percent\": 0.06493506493506493}, {\"counts\": 4, \"emotion\": \"play\", \"percent\": 0.05194805194805195}, {\"counts\": 3, \"emotion\": \"funni\", \"percent\": 0.03896103896103896}, {\"counts\": 3, \"emotion\": \"smile\", \"percent\": 0.03896103896103896}, {\"counts\": 3, \"emotion\": \"mad\", \"percent\": 0.03896103896103896}, {\"counts\": 2, \"emotion\": \"teeth\", \"percent\": 0.025974025974025976}, {\"counts\": 2, \"emotion\": \"crazi\", \"percent\": 0.025974025974025976}, {\"counts\": 1, \"emotion\": \"grin\", \"percent\": 0.012987012987012988}, {\"counts\": 1, \"emotion\": \"young\", \"percent\": 0.012987012987012988}, {\"counts\": 1, \"emotion\": \"proud\", \"percent\": 0.012987012987012988}, {\"counts\": 1, \"emotion\": \"naughti\", \"percent\": 0.012987012987012988}, {\"counts\": 1, \"emotion\": \"anger\", \"percent\": 0.012987012987012988}, {\"counts\": 1, \"emotion\": \"anxiou\", \"percent\": 0.012987012987012988}, {\"counts\": 1, \"emotion\": \"shock\", \"percent\": 0.012987012987012988}, {\"counts\": 1, \"emotion\": \"well\", \"percent\": 0.012987012987012988}, {\"counts\": 1, \"emotion\": \"bother\", \"percent\": 0.012987012987012988}], \"data-edba9728e004d60754c9b0a56514b93c\": [{\"url\": \"https://uwmadison.co1.qualtrics.com/ControlPanel/Graphic.php?IM=IM_9Gfr3sYkHq3hHG6\"}]}}, {\"mode\": \"vega-lite\"});\n",
       "</script>"
      ],
      "text/plain": [
       "alt.LayerChart(...)"
      ]
     },
     "execution_count": 41,
     "metadata": {},
     "output_type": "execute_result"
    }
   ],
   "source": [
    "photo_chart(df_emo_answers, 'anger',  7)"
   ]
  },
  {
   "cell_type": "code",
   "execution_count": 42,
   "id": "e217f91e-d775-4ade-aad3-fc5f88bc98cd",
   "metadata": {},
   "outputs": [],
   "source": [
    "def charts_emotion_faces(df_emo_answers, emotion):\n",
    "    charts = []\n",
    "    for i in range(0, 24):\n",
    "        charts.append(photo_chart(df_emo_answers, emotion,  i))\n",
    "    return charts"
   ]
  },
  {
   "cell_type": "code",
   "execution_count": 43,
   "id": "bdba3ffd-63df-47fd-b53b-b255c367d61e",
   "metadata": {},
   "outputs": [],
   "source": [
    "def dashboard_emotion_faces(charts, rows):\n",
    "    if rows == 1:\n",
    "        dashboard= (charts[0] | charts[1] | charts[2])\n",
    "    if rows == 2:\n",
    "        dashboard= (charts[0] | charts[1] | charts[2]) & \\\n",
    "                   (charts[3] | charts[4] | charts[5]) \n",
    "    if rows == 3:\n",
    "        dashboard= (charts[0] | charts[1] | charts[2]) & \\\n",
    "                   (charts[3] | charts[4] | charts[5]) & \\\n",
    "                   (charts[6] | charts[7] | charts[8])\n",
    "    if rows == 4:\n",
    "        dashboard= (charts[0] | charts[1] | charts[2]) & \\\n",
    "                   (charts[3] | charts[4] | charts[5]) & \\\n",
    "                   (charts[6] | charts[7] | charts[8]) & \\\n",
    "                   (charts[9] | charts[10] | charts[11])\n",
    "    if rows == 5:\n",
    "        dashboard= (charts[0] | charts[1] | charts[2]) & \\\n",
    "                   (charts[3] | charts[4] | charts[5]) & \\\n",
    "                   (charts[6] | charts[7] | charts[8]) & \\\n",
    "                   (charts[9] | charts[10] | charts[11]) & \\\n",
    "                   (charts[12] | charts[13] | charts[14]) \n",
    "    if rows == 6:\n",
    "        dashboard= (charts[0] | charts[1] | charts[2]) & \\\n",
    "                   (charts[3] | charts[4] | charts[5]) & \\\n",
    "                   (charts[6] | charts[7] | charts[8]) & \\\n",
    "                   (charts[9] | charts[10] | charts[11]) & \\\n",
    "                   (charts[12] | charts[13] | charts[14]) & \\\n",
    "                   (charts[15] | charts[16] | charts[17])\n",
    "    if rows == 7:\n",
    "        dashboard= (charts[0] | charts[1] | charts[2]) & \\\n",
    "                   (charts[3] | charts[4] | charts[5]) & \\\n",
    "                   (charts[6] | charts[7] | charts[8]) & \\\n",
    "                   (charts[9] | charts[10] | charts[11]) & \\\n",
    "                   (charts[12] | charts[13] | charts[14]) & \\\n",
    "                   (charts[15] | charts[16] | charts[17]) & \\\n",
    "                   (charts[18] | charts[19] | charts[20]) \n",
    "    if rows == 8:\n",
    "        dashboard= (charts[0] | charts[1] | charts[2]) & \\\n",
    "                   (charts[3] | charts[4] | charts[5]) & \\\n",
    "                   (charts[6] | charts[7] | charts[8]) & \\\n",
    "                   (charts[9] | charts[10] | charts[11]) & \\\n",
    "                   (charts[12] | charts[13] | charts[14]) & \\\n",
    "                   (charts[15] | charts[16] | charts[17]) & \\\n",
    "                   (charts[18] | charts[19] | charts[20]) & \\\n",
    "                   (charts[21] | charts[22] | charts[23]) \n",
    "        \n",
    "    return dashboard"
   ]
  },
  {
   "cell_type": "code",
   "execution_count": 116,
   "id": "05da152b-2b10-450e-b9f8-10bd591f603b",
   "metadata": {},
   "outputs": [],
   "source": [
    "# charts = charts_emotion_faces(df_emo_answers, 'sadness')\n",
    "# dashboard_emotion_faces(charts, 8)"
   ]
  },
  {
   "cell_type": "markdown",
   "id": "80b28cc1-a0f4-4fee-b6c2-bd0568e47514",
   "metadata": {},
   "source": [
    "## Emotion percentages as feature vectors"
   ]
  },
  {
   "cell_type": "code",
   "execution_count": 230,
   "id": "e5e6061d-45bf-4c75-b2b0-fb84d090f692",
   "metadata": {},
   "outputs": [],
   "source": [
    "photo_ids = pd.read_csv('../clean_data/photo_ids.csv')"
   ]
  },
  {
   "cell_type": "code",
   "execution_count": 231,
   "id": "f83674b7-91a3-4ff0-8af1-1897793164cb",
   "metadata": {},
   "outputs": [],
   "source": [
    "df_emo_overall_raw = count_freq_labels(df_stack_single_word, 'emotion_ps_steamed')\n",
    "emotion_words_list_steam = df_emo_overall_raw['emotion'].str.lower().tolist()\n",
    "emotion_words_list = ['happiness','neutral', 'surprise','sadness', 'disgust', 'anger', 'fear', 'uncertain']"
   ]
  },
  {
   "cell_type": "code",
   "execution_count": 232,
   "id": "481cc9bd-cfe3-44fb-aad7-75250a024688",
   "metadata": {},
   "outputs": [],
   "source": [
    "# placeholder dataframe\n",
    "index_photos = photo_ids.iloc[:, 0] + '_1'\n",
    "df_emo_features = pd.DataFrame(columns=emotion_words_list_steam) \n",
    "# add key-ids\n",
    "df_emo_features.insert(loc=0, column='photo_id', value=index_photos) "
   ]
  },
  {
   "cell_type": "code",
   "execution_count": 234,
   "id": "7db3d4ef-53c6-4967-991a-8c9814a93a9d",
   "metadata": {},
   "outputs": [],
   "source": [
    "def fill_in_emotion_vectors(df_emo_features, df_emo_answers, emotion_words_list):\n",
    "    for emo in range(0, len(emotion_words_list)):\n",
    "        \n",
    "        emotion = emotion_words_list[emo] # get emotion word\n",
    "        df_ans = df_add_label(df_emo_answers, emotion) # ans for all pics of emo-word\n",
    "        photo_id_list = df_ans['photo_id'].tolist() # photo ids for the emotion word\n",
    "        splited_photo_id = np.array_split(photo_id_list, 24) # photo_id_list as an array \n",
    "        \n",
    "        for ids in range(0, len(splited_photo_id)):\n",
    "            photo_id = splited_photo_id[ids]\n",
    "            df_single = df_ans[df_ans['photo_id'].isin(photo_id)] # get row for nth photo\n",
    "            df_emotion_ans = df_single.drop(['photo_id', 'ethnicity', 'sex', \\\n",
    "                                             'age', 'label', 'url'], axis=1) # clean up for calculation\n",
    "            df_stack_emotion = formating_words(df_emotion_ans) \n",
    "            df_stack_emotion['emotion_ps_steamed'] = df_stack_emotion['emotion'].apply(lambda x: ps.stem(x)) # steam\n",
    "            source = count_freq_labels(df_stack_emotion, 'emotion_ps_steamed') # group and count / compute vectors\n",
    "            source = source[['percent', 'emotion']].T\n",
    "            source.columns = source.iloc[1].str.lower() # emotion words as cols\n",
    "            source.drop('emotion', axis=0, inplace=True) # clean up emotion row\n",
    "            source.reset_index(drop=True, inplace=True) # clean up index\n",
    "            source.columns.name = None\n",
    "            photo_id_str = photo_id[0] # photo id as str\n",
    "            source.insert(0, 'photo_id', photo_id_str) # photo id as col\n",
    "            # set photo id as col for easier manipulation\n",
    "            df_emo_features = df_emo_features.set_index('photo_id') \n",
    "            # fill in vectors where the value is available\n",
    "            df_emo_features.loc[photo_id_str] = pd.Series(source.T.to_dict()[0])\n",
    "            \n",
    "            df_emo_features['photo_id'] = df_emo_features.index # index back to column\n",
    "            df_emo_features.index.name = None \n",
    "            df_emo_features.reset_index(drop=True, inplace=True) # clean up index\n",
    "    \n",
    "    return df_emo_features \n",
    "            "
   ]
  },
  {
   "cell_type": "code",
   "execution_count": 235,
   "id": "4e05beab-2271-4c39-902f-fd096de97225",
   "metadata": {},
   "outputs": [],
   "source": [
    "df_emo_vectors = fill_in_emotion_vectors(df_emo_features, df_emo_answers, emotion_words_list)"
   ]
  },
  {
   "cell_type": "code",
   "execution_count": 237,
   "id": "826ea650-72ee-4f0e-9adf-238011882319",
   "metadata": {},
   "outputs": [],
   "source": [
    "df_emo_vectors = df_emo_vectors.fillna(0)"
   ]
  },
  {
   "cell_type": "code",
   "execution_count": 240,
   "id": "18351ca9-7697-4bf5-b4bc-7ee972494a58",
   "metadata": {},
   "outputs": [],
   "source": [
    "df_label_raw = pd.read_csv('../data/emotion_labels.csv')"
   ]
  },
  {
   "cell_type": "code",
   "execution_count": 241,
   "id": "315a0f52-9c2b-4e58-9680-33f4880ded64",
   "metadata": {},
   "outputs": [],
   "source": [
    "df_emo_vectors = pd.concat([df_emo_vectors, df_label_raw], axis=1) # concat metadata"
   ]
  },
  {
   "cell_type": "code",
   "execution_count": 243,
   "id": "50a8bce3-400c-4161-925c-76b44be77f68",
   "metadata": {},
   "outputs": [],
   "source": [
    "df_emo_vectors.to_csv('../clean_data/free_choice_uw_students_vectors.csv', index=False)"
   ]
  },
  {
   "cell_type": "markdown",
   "id": "e663d023-c93e-421b-8583-17afa0e108e6",
   "metadata": {},
   "source": [
    "# Clustering"
   ]
  },
  {
   "cell_type": "code",
   "execution_count": 244,
   "id": "4f4cabb9-f47b-49d5-a5ed-513493fb77a7",
   "metadata": {},
   "outputs": [],
   "source": [
    "from kneed import KneeLocator\n",
    "from sklearn.cluster import KMeans\n",
    "from sklearn.metrics import silhouette_score\n",
    "from sklearn import preprocessing as pp"
   ]
  },
  {
   "cell_type": "code",
   "execution_count": 245,
   "id": "8dd433a6-b2f7-4933-b717-493281f45bb0",
   "metadata": {},
   "outputs": [],
   "source": [
    "X = df_emo_vectors.copy().drop(['photo_id', 'ethnicity', 'sex', \\\n",
    "                                   'age', 'label', 'url'], axis=1)"
   ]
  },
  {
   "cell_type": "code",
   "execution_count": 247,
   "id": "ad8f22be-db62-4d1e-ab7d-509a4ed2d95b",
   "metadata": {},
   "outputs": [],
   "source": [
    "features = X.columns\n",
    "sX = pp.StandardScaler(copy=True)\n",
    "X.loc[:,features] = sX.fit_transform(X[features])"
   ]
  },
  {
   "cell_type": "code",
   "execution_count": 248,
   "id": "38787092-b991-4810-adc6-9200ecd09249",
   "metadata": {},
   "outputs": [
    {
     "data": {
      "text/html": [
       "<div>\n",
       "<style scoped>\n",
       "    .dataframe tbody tr th:only-of-type {\n",
       "        vertical-align: middle;\n",
       "    }\n",
       "\n",
       "    .dataframe tbody tr th {\n",
       "        vertical-align: top;\n",
       "    }\n",
       "\n",
       "    .dataframe thead th {\n",
       "        text-align: right;\n",
       "    }\n",
       "</style>\n",
       "<table border=\"1\" class=\"dataframe\">\n",
       "  <thead>\n",
       "    <tr style=\"text-align: right;\">\n",
       "      <th></th>\n",
       "      <th>happi</th>\n",
       "      <th>sad</th>\n",
       "      <th>angri</th>\n",
       "      <th>confus</th>\n",
       "      <th>shock</th>\n",
       "      <th>surpris</th>\n",
       "      <th>upset</th>\n",
       "      <th>mad</th>\n",
       "      <th>disgust</th>\n",
       "      <th>scare</th>\n",
       "      <th>...</th>\n",
       "      <th>pyscho</th>\n",
       "      <th>unknow</th>\n",
       "      <th>toung</th>\n",
       "      <th>tour</th>\n",
       "      <th>anrgi</th>\n",
       "      <th>sexi</th>\n",
       "      <th>moodi</th>\n",
       "      <th>broken</th>\n",
       "      <th>sinist</th>\n",
       "      <th>schock</th>\n",
       "    </tr>\n",
       "  </thead>\n",
       "  <tbody>\n",
       "    <tr>\n",
       "      <th>count</th>\n",
       "      <td>1.940000e+02</td>\n",
       "      <td>1.940000e+02</td>\n",
       "      <td>1.940000e+02</td>\n",
       "      <td>1.940000e+02</td>\n",
       "      <td>1.940000e+02</td>\n",
       "      <td>1.940000e+02</td>\n",
       "      <td>1.940000e+02</td>\n",
       "      <td>1.940000e+02</td>\n",
       "      <td>1.940000e+02</td>\n",
       "      <td>1.940000e+02</td>\n",
       "      <td>...</td>\n",
       "      <td>1.940000e+02</td>\n",
       "      <td>1.940000e+02</td>\n",
       "      <td>1.940000e+02</td>\n",
       "      <td>1.940000e+02</td>\n",
       "      <td>1.940000e+02</td>\n",
       "      <td>1.940000e+02</td>\n",
       "      <td>1.940000e+02</td>\n",
       "      <td>1.940000e+02</td>\n",
       "      <td>1.940000e+02</td>\n",
       "      <td>1.940000e+02</td>\n",
       "    </tr>\n",
       "    <tr>\n",
       "      <th>mean</th>\n",
       "      <td>-1.087332e-16</td>\n",
       "      <td>-6.066167e-17</td>\n",
       "      <td>1.333412e-16</td>\n",
       "      <td>-7.411025e-17</td>\n",
       "      <td>-7.210727e-17</td>\n",
       "      <td>2.632488e-17</td>\n",
       "      <td>1.030104e-17</td>\n",
       "      <td>7.267955e-17</td>\n",
       "      <td>-1.250432e-16</td>\n",
       "      <td>-1.619552e-16</td>\n",
       "      <td>...</td>\n",
       "      <td>1.716840e-17</td>\n",
       "      <td>-3.076005e-17</td>\n",
       "      <td>2.632488e-17</td>\n",
       "      <td>6.295079e-17</td>\n",
       "      <td>1.907123e-16</td>\n",
       "      <td>2.466526e-16</td>\n",
       "      <td>-8.355287e-17</td>\n",
       "      <td>9.957670e-17</td>\n",
       "      <td>-4.692695e-17</td>\n",
       "      <td>2.548076e-16</td>\n",
       "    </tr>\n",
       "    <tr>\n",
       "      <th>std</th>\n",
       "      <td>1.002587e+00</td>\n",
       "      <td>1.002587e+00</td>\n",
       "      <td>1.002587e+00</td>\n",
       "      <td>1.002587e+00</td>\n",
       "      <td>1.002587e+00</td>\n",
       "      <td>1.002587e+00</td>\n",
       "      <td>1.002587e+00</td>\n",
       "      <td>1.002587e+00</td>\n",
       "      <td>1.002587e+00</td>\n",
       "      <td>1.002587e+00</td>\n",
       "      <td>...</td>\n",
       "      <td>1.002587e+00</td>\n",
       "      <td>1.002587e+00</td>\n",
       "      <td>1.002587e+00</td>\n",
       "      <td>1.002587e+00</td>\n",
       "      <td>1.002587e+00</td>\n",
       "      <td>1.002587e+00</td>\n",
       "      <td>1.002587e+00</td>\n",
       "      <td>1.002587e+00</td>\n",
       "      <td>1.002587e+00</td>\n",
       "      <td>1.002587e+00</td>\n",
       "    </tr>\n",
       "    <tr>\n",
       "      <th>min</th>\n",
       "      <td>-6.050522e-01</td>\n",
       "      <td>-5.698230e-01</td>\n",
       "      <td>-5.612858e-01</td>\n",
       "      <td>-6.478960e-01</td>\n",
       "      <td>-5.533402e-01</td>\n",
       "      <td>-5.480567e-01</td>\n",
       "      <td>-8.230025e-01</td>\n",
       "      <td>-6.452364e-01</td>\n",
       "      <td>-4.181720e-01</td>\n",
       "      <td>-4.808068e-01</td>\n",
       "      <td>...</td>\n",
       "      <td>-7.198158e-02</td>\n",
       "      <td>-7.198158e-02</td>\n",
       "      <td>-7.198158e-02</td>\n",
       "      <td>-7.198158e-02</td>\n",
       "      <td>-7.198158e-02</td>\n",
       "      <td>-7.198158e-02</td>\n",
       "      <td>-7.198158e-02</td>\n",
       "      <td>-7.198158e-02</td>\n",
       "      <td>-7.198158e-02</td>\n",
       "      <td>-7.198158e-02</td>\n",
       "    </tr>\n",
       "    <tr>\n",
       "      <th>25%</th>\n",
       "      <td>-6.050522e-01</td>\n",
       "      <td>-5.698230e-01</td>\n",
       "      <td>-5.612858e-01</td>\n",
       "      <td>-6.478960e-01</td>\n",
       "      <td>-5.533402e-01</td>\n",
       "      <td>-5.480567e-01</td>\n",
       "      <td>-8.230025e-01</td>\n",
       "      <td>-6.452364e-01</td>\n",
       "      <td>-4.181720e-01</td>\n",
       "      <td>-4.808068e-01</td>\n",
       "      <td>...</td>\n",
       "      <td>-7.198158e-02</td>\n",
       "      <td>-7.198158e-02</td>\n",
       "      <td>-7.198158e-02</td>\n",
       "      <td>-7.198158e-02</td>\n",
       "      <td>-7.198158e-02</td>\n",
       "      <td>-7.198158e-02</td>\n",
       "      <td>-7.198158e-02</td>\n",
       "      <td>-7.198158e-02</td>\n",
       "      <td>-7.198158e-02</td>\n",
       "      <td>-7.198158e-02</td>\n",
       "    </tr>\n",
       "    <tr>\n",
       "      <th>50%</th>\n",
       "      <td>-5.140442e-01</td>\n",
       "      <td>-4.536030e-01</td>\n",
       "      <td>-4.280381e-01</td>\n",
       "      <td>-4.443574e-01</td>\n",
       "      <td>-5.533402e-01</td>\n",
       "      <td>-5.480567e-01</td>\n",
       "      <td>-4.350043e-01</td>\n",
       "      <td>-6.452364e-01</td>\n",
       "      <td>-4.181720e-01</td>\n",
       "      <td>-4.808068e-01</td>\n",
       "      <td>...</td>\n",
       "      <td>-7.198158e-02</td>\n",
       "      <td>-7.198158e-02</td>\n",
       "      <td>-7.198158e-02</td>\n",
       "      <td>-7.198158e-02</td>\n",
       "      <td>-7.198158e-02</td>\n",
       "      <td>-7.198158e-02</td>\n",
       "      <td>-7.198158e-02</td>\n",
       "      <td>-7.198158e-02</td>\n",
       "      <td>-7.198158e-02</td>\n",
       "      <td>-7.198158e-02</td>\n",
       "    </tr>\n",
       "    <tr>\n",
       "      <th>75%</th>\n",
       "      <td>-2.927102e-02</td>\n",
       "      <td>1.539813e-02</td>\n",
       "      <td>7.902204e-02</td>\n",
       "      <td>1.228584e-01</td>\n",
       "      <td>4.528947e-02</td>\n",
       "      <td>4.752725e-02</td>\n",
       "      <td>5.812946e-01</td>\n",
       "      <td>2.749819e-01</td>\n",
       "      <td>-1.834496e-01</td>\n",
       "      <td>-5.692729e-02</td>\n",
       "      <td>...</td>\n",
       "      <td>-7.198158e-02</td>\n",
       "      <td>-7.198158e-02</td>\n",
       "      <td>-7.198158e-02</td>\n",
       "      <td>-7.198158e-02</td>\n",
       "      <td>-7.198158e-02</td>\n",
       "      <td>-7.198158e-02</td>\n",
       "      <td>-7.198158e-02</td>\n",
       "      <td>-7.198158e-02</td>\n",
       "      <td>-7.198158e-02</td>\n",
       "      <td>-7.198158e-02</td>\n",
       "    </tr>\n",
       "    <tr>\n",
       "      <th>max</th>\n",
       "      <td>3.035271e+00</td>\n",
       "      <td>3.957941e+00</td>\n",
       "      <td>3.992014e+00</td>\n",
       "      <td>4.930494e+00</td>\n",
       "      <td>3.957329e+00</td>\n",
       "      <td>4.127494e+00</td>\n",
       "      <td>3.077062e+00</td>\n",
       "      <td>3.752866e+00</td>\n",
       "      <td>5.632451e+00</td>\n",
       "      <td>6.057532e+00</td>\n",
       "      <td>...</td>\n",
       "      <td>1.389244e+01</td>\n",
       "      <td>1.389244e+01</td>\n",
       "      <td>1.389244e+01</td>\n",
       "      <td>1.389244e+01</td>\n",
       "      <td>1.389244e+01</td>\n",
       "      <td>1.389244e+01</td>\n",
       "      <td>1.389244e+01</td>\n",
       "      <td>1.389244e+01</td>\n",
       "      <td>1.389244e+01</td>\n",
       "      <td>1.389244e+01</td>\n",
       "    </tr>\n",
       "  </tbody>\n",
       "</table>\n",
       "<p>8 rows × 894 columns</p>\n",
       "</div>"
      ],
      "text/plain": [
       "              happi           sad         angri        confus         shock  \\\n",
       "count  1.940000e+02  1.940000e+02  1.940000e+02  1.940000e+02  1.940000e+02   \n",
       "mean  -1.087332e-16 -6.066167e-17  1.333412e-16 -7.411025e-17 -7.210727e-17   \n",
       "std    1.002587e+00  1.002587e+00  1.002587e+00  1.002587e+00  1.002587e+00   \n",
       "min   -6.050522e-01 -5.698230e-01 -5.612858e-01 -6.478960e-01 -5.533402e-01   \n",
       "25%   -6.050522e-01 -5.698230e-01 -5.612858e-01 -6.478960e-01 -5.533402e-01   \n",
       "50%   -5.140442e-01 -4.536030e-01 -4.280381e-01 -4.443574e-01 -5.533402e-01   \n",
       "75%   -2.927102e-02  1.539813e-02  7.902204e-02  1.228584e-01  4.528947e-02   \n",
       "max    3.035271e+00  3.957941e+00  3.992014e+00  4.930494e+00  3.957329e+00   \n",
       "\n",
       "            surpris         upset           mad       disgust         scare  \\\n",
       "count  1.940000e+02  1.940000e+02  1.940000e+02  1.940000e+02  1.940000e+02   \n",
       "mean   2.632488e-17  1.030104e-17  7.267955e-17 -1.250432e-16 -1.619552e-16   \n",
       "std    1.002587e+00  1.002587e+00  1.002587e+00  1.002587e+00  1.002587e+00   \n",
       "min   -5.480567e-01 -8.230025e-01 -6.452364e-01 -4.181720e-01 -4.808068e-01   \n",
       "25%   -5.480567e-01 -8.230025e-01 -6.452364e-01 -4.181720e-01 -4.808068e-01   \n",
       "50%   -5.480567e-01 -4.350043e-01 -6.452364e-01 -4.181720e-01 -4.808068e-01   \n",
       "75%    4.752725e-02  5.812946e-01  2.749819e-01 -1.834496e-01 -5.692729e-02   \n",
       "max    4.127494e+00  3.077062e+00  3.752866e+00  5.632451e+00  6.057532e+00   \n",
       "\n",
       "       ...        pyscho        unknow         toung          tour  \\\n",
       "count  ...  1.940000e+02  1.940000e+02  1.940000e+02  1.940000e+02   \n",
       "mean   ...  1.716840e-17 -3.076005e-17  2.632488e-17  6.295079e-17   \n",
       "std    ...  1.002587e+00  1.002587e+00  1.002587e+00  1.002587e+00   \n",
       "min    ... -7.198158e-02 -7.198158e-02 -7.198158e-02 -7.198158e-02   \n",
       "25%    ... -7.198158e-02 -7.198158e-02 -7.198158e-02 -7.198158e-02   \n",
       "50%    ... -7.198158e-02 -7.198158e-02 -7.198158e-02 -7.198158e-02   \n",
       "75%    ... -7.198158e-02 -7.198158e-02 -7.198158e-02 -7.198158e-02   \n",
       "max    ...  1.389244e+01  1.389244e+01  1.389244e+01  1.389244e+01   \n",
       "\n",
       "              anrgi          sexi         moodi        broken        sinist  \\\n",
       "count  1.940000e+02  1.940000e+02  1.940000e+02  1.940000e+02  1.940000e+02   \n",
       "mean   1.907123e-16  2.466526e-16 -8.355287e-17  9.957670e-17 -4.692695e-17   \n",
       "std    1.002587e+00  1.002587e+00  1.002587e+00  1.002587e+00  1.002587e+00   \n",
       "min   -7.198158e-02 -7.198158e-02 -7.198158e-02 -7.198158e-02 -7.198158e-02   \n",
       "25%   -7.198158e-02 -7.198158e-02 -7.198158e-02 -7.198158e-02 -7.198158e-02   \n",
       "50%   -7.198158e-02 -7.198158e-02 -7.198158e-02 -7.198158e-02 -7.198158e-02   \n",
       "75%   -7.198158e-02 -7.198158e-02 -7.198158e-02 -7.198158e-02 -7.198158e-02   \n",
       "max    1.389244e+01  1.389244e+01  1.389244e+01  1.389244e+01  1.389244e+01   \n",
       "\n",
       "             schock  \n",
       "count  1.940000e+02  \n",
       "mean   2.548076e-16  \n",
       "std    1.002587e+00  \n",
       "min   -7.198158e-02  \n",
       "25%   -7.198158e-02  \n",
       "50%   -7.198158e-02  \n",
       "75%   -7.198158e-02  \n",
       "max    1.389244e+01  \n",
       "\n",
       "[8 rows x 894 columns]"
      ]
     },
     "execution_count": 248,
     "metadata": {},
     "output_type": "execute_result"
    }
   ],
   "source": [
    "X.describe() # mean  = 0, SD =1"
   ]
  },
  {
   "cell_type": "code",
   "execution_count": 270,
   "id": "564ae72b-3ef8-46cc-9f15-a39d4bdfce3b",
   "metadata": {},
   "outputs": [],
   "source": [
    "def k_means(n_clusters=3, n_inits=30, max_iter=1000):\n",
    "    kmeans = KMeans(\n",
    "    init=\"random\",\n",
    "    n_clusters=n_clusters,\n",
    "    n_init=n_inits,\n",
    "    max_iter=max_iter,\n",
    "    random_state=42)\n",
    "    kmeans.fit(X)\n",
    "    \n",
    "    return kmeans"
   ]
  },
  {
   "cell_type": "code",
   "execution_count": 271,
   "id": "8f95e84d-9b04-42ab-a16e-e898fa2e966b",
   "metadata": {},
   "outputs": [],
   "source": [
    "k_means_run = k_means()"
   ]
  },
  {
   "cell_type": "code",
   "execution_count": 272,
   "id": "83caae71-83eb-4007-ada7-cba7fa6dd703",
   "metadata": {},
   "outputs": [],
   "source": [
    "kmeans_kwargs = {\n",
    "    \"init\": \"random\",\n",
    "    \"n_init\": 20,\n",
    "    \"max_iter\": 1000,\n",
    "    \"random_state\": 42,\n",
    "}\n",
    "\n",
    "# A list holds the SSE values for each k\n",
    "sse = []\n",
    "for k in range(1, 100):\n",
    "    kmeans = KMeans(n_clusters=k, **kmeans_kwargs)\n",
    "    kmeans.fit(X)\n",
    "    sse.append(kmeans.inertia_)"
   ]
  },
  {
   "cell_type": "code",
   "execution_count": 273,
   "id": "c7236e78-1b55-41f1-b025-ba355122ce24",
   "metadata": {},
   "outputs": [],
   "source": [
    "source = pd.DataFrame({'y': sse, 'x': range(1, 100)})"
   ]
  },
  {
   "cell_type": "code",
   "execution_count": 274,
   "id": "9580e073-e355-4d33-aebb-600902f9ba57",
   "metadata": {},
   "outputs": [],
   "source": [
    "chart_elbow = alt.Chart(source).mark_line().encode(\n",
    "    alt.X('x:Q', title='Number of clusters'), \n",
    "    alt.Y('y:Q', title='SSE'))"
   ]
  },
  {
   "cell_type": "code",
   "execution_count": 275,
   "id": "2c5900aa-c3eb-47f6-a623-6c09eaabe595",
   "metadata": {},
   "outputs": [
    {
     "data": {
      "text/html": [
       "\n",
       "<div id=\"altair-viz-17233b247562425589782e1b1c7c9ef5\"></div>\n",
       "<script type=\"text/javascript\">\n",
       "  (function(spec, embedOpt){\n",
       "    let outputDiv = document.currentScript.previousElementSibling;\n",
       "    if (outputDiv.id !== \"altair-viz-17233b247562425589782e1b1c7c9ef5\") {\n",
       "      outputDiv = document.getElementById(\"altair-viz-17233b247562425589782e1b1c7c9ef5\");\n",
       "    }\n",
       "    const paths = {\n",
       "      \"vega\": \"https://cdn.jsdelivr.net/npm//vega@5?noext\",\n",
       "      \"vega-lib\": \"https://cdn.jsdelivr.net/npm//vega-lib?noext\",\n",
       "      \"vega-lite\": \"https://cdn.jsdelivr.net/npm//vega-lite@4.8.1?noext\",\n",
       "      \"vega-embed\": \"https://cdn.jsdelivr.net/npm//vega-embed@6?noext\",\n",
       "    };\n",
       "\n",
       "    function loadScript(lib) {\n",
       "      return new Promise(function(resolve, reject) {\n",
       "        var s = document.createElement('script');\n",
       "        s.src = paths[lib];\n",
       "        s.async = true;\n",
       "        s.onload = () => resolve(paths[lib]);\n",
       "        s.onerror = () => reject(`Error loading script: ${paths[lib]}`);\n",
       "        document.getElementsByTagName(\"head\")[0].appendChild(s);\n",
       "      });\n",
       "    }\n",
       "\n",
       "    function showError(err) {\n",
       "      outputDiv.innerHTML = `<div class=\"error\" style=\"color:red;\">${err}</div>`;\n",
       "      throw err;\n",
       "    }\n",
       "\n",
       "    function displayChart(vegaEmbed) {\n",
       "      vegaEmbed(outputDiv, spec, embedOpt)\n",
       "        .catch(err => showError(`Javascript Error: ${err.message}<br>This usually means there's a typo in your chart specification. See the javascript console for the full traceback.`));\n",
       "    }\n",
       "\n",
       "    if(typeof define === \"function\" && define.amd) {\n",
       "      requirejs.config({paths});\n",
       "      require([\"vega-embed\"], displayChart, err => showError(`Error loading script: ${err.message}`));\n",
       "    } else if (typeof vegaEmbed === \"function\") {\n",
       "      displayChart(vegaEmbed);\n",
       "    } else {\n",
       "      loadScript(\"vega\")\n",
       "        .then(() => loadScript(\"vega-lite\"))\n",
       "        .then(() => loadScript(\"vega-embed\"))\n",
       "        .catch(showError)\n",
       "        .then(() => displayChart(vegaEmbed));\n",
       "    }\n",
       "  })({\"config\": {\"view\": {\"continuousWidth\": 400, \"continuousHeight\": 300}}, \"data\": {\"name\": \"data-918d0c14608d107404afe105a33c6805\"}, \"mark\": \"line\", \"encoding\": {\"x\": {\"type\": \"quantitative\", \"field\": \"x\", \"title\": \"Number of clusters\"}, \"y\": {\"type\": \"quantitative\", \"field\": \"y\", \"title\": \"SSE\"}}, \"$schema\": \"https://vega.github.io/schema/vega-lite/v4.8.1.json\", \"datasets\": {\"data-918d0c14608d107404afe105a33c6805\": [{\"y\": 172659.9999999997, \"x\": 1}, {\"y\": 170220.5575463386, \"x\": 2}, {\"y\": 168658.0028570052, \"x\": 3}, {\"y\": 167214.7645510097, \"x\": 4}, {\"y\": 164881.04725719627, \"x\": 5}, {\"y\": 163248.84835642495, \"x\": 6}, {\"y\": 162506.35188020603, \"x\": 7}, {\"y\": 161631.7986617319, \"x\": 8}, {\"y\": 160431.80768062873, \"x\": 9}, {\"y\": 159286.61535211225, \"x\": 10}, {\"y\": 158364.705573826, \"x\": 11}, {\"y\": 157353.07888826163, \"x\": 12}, {\"y\": 155482.2327788249, \"x\": 13}, {\"y\": 154054.2038871352, \"x\": 14}, {\"y\": 153119.93593031645, \"x\": 15}, {\"y\": 152274.8047160767, \"x\": 16}, {\"y\": 151329.0778120017, \"x\": 17}, {\"y\": 149961.27939797303, \"x\": 18}, {\"y\": 148610.7535463834, \"x\": 19}, {\"y\": 146980.79179024577, \"x\": 20}, {\"y\": 146190.46559513948, \"x\": 21}, {\"y\": 145347.11304153575, \"x\": 22}, {\"y\": 144511.67231415148, \"x\": 23}, {\"y\": 143742.66196072314, \"x\": 24}, {\"y\": 143009.93971058223, \"x\": 25}, {\"y\": 141988.6739166887, \"x\": 26}, {\"y\": 139938.28518050266, \"x\": 27}, {\"y\": 138847.08587966964, \"x\": 28}, {\"y\": 138112.2026079838, \"x\": 29}, {\"y\": 137063.23878363124, \"x\": 30}, {\"y\": 136128.0909249776, \"x\": 31}, {\"y\": 135940.6657723567, \"x\": 32}, {\"y\": 134270.48060792102, \"x\": 33}, {\"y\": 133029.7808705096, \"x\": 34}, {\"y\": 131671.2225392459, \"x\": 35}, {\"y\": 130658.07906973833, \"x\": 36}, {\"y\": 129575.42833821612, \"x\": 37}, {\"y\": 128767.81816032206, \"x\": 38}, {\"y\": 128000.58313571804, \"x\": 39}, {\"y\": 127594.16902087862, \"x\": 40}, {\"y\": 126859.96567314083, \"x\": 41}, {\"y\": 126012.4010904232, \"x\": 42}, {\"y\": 125378.59735155004, \"x\": 43}, {\"y\": 124356.31718831552, \"x\": 44}, {\"y\": 123439.90047978268, \"x\": 45}, {\"y\": 122575.72990660845, \"x\": 46}, {\"y\": 120939.8913307501, \"x\": 47}, {\"y\": 120112.8262891221, \"x\": 48}, {\"y\": 119437.11613677867, \"x\": 49}, {\"y\": 118046.17350330584, \"x\": 50}, {\"y\": 117840.0091485038, \"x\": 51}, {\"y\": 116937.71112891709, \"x\": 52}, {\"y\": 115671.27856021584, \"x\": 53}, {\"y\": 114760.39789872522, \"x\": 54}, {\"y\": 113850.5329670183, \"x\": 55}, {\"y\": 111497.12400183546, \"x\": 56}, {\"y\": 110826.63139777727, \"x\": 57}, {\"y\": 110271.57651679988, \"x\": 58}, {\"y\": 109144.74324715522, \"x\": 59}, {\"y\": 108380.77767865156, \"x\": 60}, {\"y\": 107873.32999780918, \"x\": 61}, {\"y\": 107024.36717293506, \"x\": 62}, {\"y\": 106159.75389614697, \"x\": 63}, {\"y\": 104995.26921685398, \"x\": 64}, {\"y\": 104415.03186485475, \"x\": 65}, {\"y\": 103930.20070207494, \"x\": 66}, {\"y\": 102839.44471158943, \"x\": 67}, {\"y\": 102291.76437700987, \"x\": 68}, {\"y\": 101517.12319031348, \"x\": 69}, {\"y\": 100507.3939905479, \"x\": 70}, {\"y\": 99918.95417633992, \"x\": 71}, {\"y\": 99160.56080172054, \"x\": 72}, {\"y\": 97427.60327506048, \"x\": 73}, {\"y\": 96455.20414672478, \"x\": 74}, {\"y\": 97166.62636878148, \"x\": 75}, {\"y\": 96452.37454376549, \"x\": 76}, {\"y\": 95009.6768758118, \"x\": 77}, {\"y\": 93772.1258798004, \"x\": 78}, {\"y\": 93057.94198008087, \"x\": 79}, {\"y\": 92486.36362384724, \"x\": 80}, {\"y\": 91965.23919913317, \"x\": 81}, {\"y\": 90910.62289355499, \"x\": 82}, {\"y\": 90036.24260303588, \"x\": 83}, {\"y\": 88466.75035736423, \"x\": 84}, {\"y\": 87467.9044509906, \"x\": 85}, {\"y\": 86495.79929746891, \"x\": 86}, {\"y\": 85497.1561738238, \"x\": 87}, {\"y\": 84947.18262816822, \"x\": 88}, {\"y\": 84305.37309707796, \"x\": 89}, {\"y\": 82864.26087513777, \"x\": 90}, {\"y\": 82049.21590821426, \"x\": 91}, {\"y\": 81434.70796502127, \"x\": 92}, {\"y\": 81015.48663814296, \"x\": 93}, {\"y\": 79111.97897365692, \"x\": 94}, {\"y\": 78586.31238225591, \"x\": 95}, {\"y\": 77705.26990563108, \"x\": 96}, {\"y\": 76198.32293872308, \"x\": 97}, {\"y\": 75619.8547224245, \"x\": 98}, {\"y\": 74409.230211121, \"x\": 99}]}}, {\"mode\": \"vega-lite\"});\n",
       "</script>"
      ],
      "text/plain": [
       "alt.Chart(...)"
      ]
     },
     "execution_count": 275,
     "metadata": {},
     "output_type": "execute_result"
    }
   ],
   "source": [
    "chart_elbow"
   ]
  },
  {
   "cell_type": "code",
   "execution_count": 277,
   "id": "fa7f2cc8-91db-454e-ab4f-331173d163ee",
   "metadata": {},
   "outputs": [
    {
     "data": {
      "text/plain": [
       "20"
      ]
     },
     "execution_count": 277,
     "metadata": {},
     "output_type": "execute_result"
    }
   ],
   "source": [
    "kl = KneeLocator(\n",
    "    range(1, 100), sse, curve=\"convex\", direction=\"decreasing\"\n",
    ")\n",
    "\n",
    "kl.elbow"
   ]
  },
  {
   "cell_type": "code",
   "execution_count": 278,
   "id": "3649aa17-7fac-492f-bda8-e276d8a69de7",
   "metadata": {},
   "outputs": [],
   "source": [
    "# A list holds the silhouette coefficients for each k\n",
    "silhouette_coefficients = []\n",
    "\n",
    "# Notice you start at 2 clusters for silhouette coefficient\n",
    "for k in range(2, 100):\n",
    "    kmeans = KMeans(n_clusters=k, **kmeans_kwargs)\n",
    "    kmeans.fit(X)\n",
    "    score = silhouette_score(X, kmeans.labels_)\n",
    "    silhouette_coefficients.append(score)"
   ]
  },
  {
   "cell_type": "code",
   "execution_count": 279,
   "id": "537fc139-0452-4c4c-abc8-8acf2353062e",
   "metadata": {},
   "outputs": [],
   "source": [
    "source = pd.DataFrame({'y': silhouette_coefficients, 'x': range(2, 100)})"
   ]
  },
  {
   "cell_type": "code",
   "execution_count": 280,
   "id": "3c7e717a-b0ac-4873-9a02-2b4a4efc46ca",
   "metadata": {},
   "outputs": [],
   "source": [
    "chart_silhouette = alt.Chart(source).mark_line().encode(\n",
    "    alt.X('x:Q', title='Number of clusters'), \n",
    "    alt.Y('y:Q', title='Silhouette coefficients'))"
   ]
  },
  {
   "cell_type": "code",
   "execution_count": 281,
   "id": "0d4e14d6-7bbf-41eb-b09b-5642f6e4f23d",
   "metadata": {},
   "outputs": [
    {
     "data": {
      "text/html": [
       "\n",
       "<div id=\"altair-viz-4cb20ddbf0504e53b8eb5aa5ccd3aeb7\"></div>\n",
       "<script type=\"text/javascript\">\n",
       "  (function(spec, embedOpt){\n",
       "    let outputDiv = document.currentScript.previousElementSibling;\n",
       "    if (outputDiv.id !== \"altair-viz-4cb20ddbf0504e53b8eb5aa5ccd3aeb7\") {\n",
       "      outputDiv = document.getElementById(\"altair-viz-4cb20ddbf0504e53b8eb5aa5ccd3aeb7\");\n",
       "    }\n",
       "    const paths = {\n",
       "      \"vega\": \"https://cdn.jsdelivr.net/npm//vega@5?noext\",\n",
       "      \"vega-lib\": \"https://cdn.jsdelivr.net/npm//vega-lib?noext\",\n",
       "      \"vega-lite\": \"https://cdn.jsdelivr.net/npm//vega-lite@4.8.1?noext\",\n",
       "      \"vega-embed\": \"https://cdn.jsdelivr.net/npm//vega-embed@6?noext\",\n",
       "    };\n",
       "\n",
       "    function loadScript(lib) {\n",
       "      return new Promise(function(resolve, reject) {\n",
       "        var s = document.createElement('script');\n",
       "        s.src = paths[lib];\n",
       "        s.async = true;\n",
       "        s.onload = () => resolve(paths[lib]);\n",
       "        s.onerror = () => reject(`Error loading script: ${paths[lib]}`);\n",
       "        document.getElementsByTagName(\"head\")[0].appendChild(s);\n",
       "      });\n",
       "    }\n",
       "\n",
       "    function showError(err) {\n",
       "      outputDiv.innerHTML = `<div class=\"error\" style=\"color:red;\">${err}</div>`;\n",
       "      throw err;\n",
       "    }\n",
       "\n",
       "    function displayChart(vegaEmbed) {\n",
       "      vegaEmbed(outputDiv, spec, embedOpt)\n",
       "        .catch(err => showError(`Javascript Error: ${err.message}<br>This usually means there's a typo in your chart specification. See the javascript console for the full traceback.`));\n",
       "    }\n",
       "\n",
       "    if(typeof define === \"function\" && define.amd) {\n",
       "      requirejs.config({paths});\n",
       "      require([\"vega-embed\"], displayChart, err => showError(`Error loading script: ${err.message}`));\n",
       "    } else if (typeof vegaEmbed === \"function\") {\n",
       "      displayChart(vegaEmbed);\n",
       "    } else {\n",
       "      loadScript(\"vega\")\n",
       "        .then(() => loadScript(\"vega-lite\"))\n",
       "        .then(() => loadScript(\"vega-embed\"))\n",
       "        .catch(showError)\n",
       "        .then(() => displayChart(vegaEmbed));\n",
       "    }\n",
       "  })({\"config\": {\"view\": {\"continuousWidth\": 400, \"continuousHeight\": 300}}, \"hconcat\": [{\"data\": {\"name\": \"data-593ff10823b631c329720a65d2a91e50\"}, \"mark\": \"line\", \"encoding\": {\"x\": {\"type\": \"quantitative\", \"field\": \"x\", \"title\": \"Number of clusters\"}, \"y\": {\"type\": \"quantitative\", \"field\": \"y\", \"title\": \"Silhouette coefficients\"}}}, {\"data\": {\"name\": \"data-918d0c14608d107404afe105a33c6805\"}, \"mark\": \"line\", \"encoding\": {\"x\": {\"type\": \"quantitative\", \"field\": \"x\", \"title\": \"Number of clusters\"}, \"y\": {\"type\": \"quantitative\", \"field\": \"y\", \"title\": \"SSE\"}}}], \"$schema\": \"https://vega.github.io/schema/vega-lite/v4.8.1.json\", \"datasets\": {\"data-593ff10823b631c329720a65d2a91e50\": [{\"y\": 0.2817469447625407, \"x\": 2}, {\"y\": -0.011583813926850883, \"x\": 3}, {\"y\": -0.03086486561971494, \"x\": 4}, {\"y\": -0.02559889801955443, \"x\": 5}, {\"y\": -0.024536561036557235, \"x\": 6}, {\"y\": -0.03327619792538694, \"x\": 7}, {\"y\": -0.03341920416203075, \"x\": 8}, {\"y\": -0.032829934545120634, \"x\": 9}, {\"y\": -0.03226295496468757, \"x\": 10}, {\"y\": -0.03269066854404063, \"x\": 11}, {\"y\": -0.032396978372166534, \"x\": 12}, {\"y\": -0.030979200413737345, \"x\": 13}, {\"y\": -0.03007324892983187, \"x\": 14}, {\"y\": -0.02977056756788121, \"x\": 15}, {\"y\": -0.02999959869689068, \"x\": 16}, {\"y\": -0.04085478400489899, \"x\": 17}, {\"y\": -0.039964540446250786, \"x\": 18}, {\"y\": -0.038984227926192855, \"x\": 19}, {\"y\": -0.037519675074860155, \"x\": 20}, {\"y\": -0.037496927463243346, \"x\": 21}, {\"y\": -0.043763787956223724, \"x\": 22}, {\"y\": -0.06283552760382242, \"x\": 23}, {\"y\": -0.062723239006778, \"x\": 24}, {\"y\": -0.06244936547956546, \"x\": 25}, {\"y\": -0.05211431565937102, \"x\": 26}, {\"y\": -0.037979607113324654, \"x\": 27}, {\"y\": -0.0389270230909318, \"x\": 28}, {\"y\": -0.04018751091925107, \"x\": 29}, {\"y\": -0.03970643561598349, \"x\": 30}, {\"y\": -0.03889057502958881, \"x\": 31}, {\"y\": -0.0500414458583292, \"x\": 32}, {\"y\": -0.05643803542577895, \"x\": 33}, {\"y\": -0.05563085096331296, \"x\": 34}, {\"y\": -0.05466144276732881, \"x\": 35}, {\"y\": -0.05665803803763243, \"x\": 36}, {\"y\": -0.05611198014921774, \"x\": 37}, {\"y\": -0.05619520502968408, \"x\": 38}, {\"y\": -0.11510205256303423, \"x\": 39}, {\"y\": -0.1171687652691024, \"x\": 40}, {\"y\": -0.11654954061834967, \"x\": 41}, {\"y\": -0.11576151641775648, \"x\": 42}, {\"y\": -0.11522907758756293, \"x\": 43}, {\"y\": -0.11379721215974826, \"x\": 44}, {\"y\": -0.11296828862342274, \"x\": 45}, {\"y\": -0.11213228764025797, \"x\": 46}, {\"y\": -0.11071836299737131, \"x\": 47}, {\"y\": -0.10988599899672874, \"x\": 48}, {\"y\": -0.10781058794467968, \"x\": 49}, {\"y\": -0.10658153774527808, \"x\": 50}, {\"y\": -0.1079644089971592, \"x\": 51}, {\"y\": -0.1040006756918351, \"x\": 52}, {\"y\": -0.1069157202722768, \"x\": 53}, {\"y\": -0.1043865699546293, \"x\": 54}, {\"y\": -0.09327426331217172, \"x\": 55}, {\"y\": -0.10165609305112248, \"x\": 56}, {\"y\": -0.09079667811894626, \"x\": 57}, {\"y\": -0.09116564459332316, \"x\": 58}, {\"y\": -0.09044543863048406, \"x\": 59}, {\"y\": -0.08964140813219715, \"x\": 60}, {\"y\": -0.08928734716552733, \"x\": 61}, {\"y\": -0.08747691667058646, \"x\": 62}, {\"y\": -0.08668337809726466, \"x\": 63}, {\"y\": -0.0857371544135393, \"x\": 64}, {\"y\": -0.08538324229981387, \"x\": 65}, {\"y\": -0.0857123951085547, \"x\": 66}, {\"y\": -0.08437850940546571, \"x\": 67}, {\"y\": -0.08460013975928403, \"x\": 68}, {\"y\": -0.08418546888704706, \"x\": 69}, {\"y\": -0.08337666317767496, \"x\": 70}, {\"y\": -0.08332988466592745, \"x\": 71}, {\"y\": -0.08265516033923494, \"x\": 72}, {\"y\": -0.08111191679233488, \"x\": 73}, {\"y\": -0.08024994182925096, \"x\": 74}, {\"y\": -0.08209827759552703, \"x\": 75}, {\"y\": -0.12054963796140218, \"x\": 76}, {\"y\": -0.11914451032901423, \"x\": 77}, {\"y\": -0.11783537543840625, \"x\": 78}, {\"y\": -0.11694978219006598, \"x\": 79}, {\"y\": -0.11608156020070598, \"x\": 80}, {\"y\": -0.11532627538785668, \"x\": 81}, {\"y\": -0.08237187216272986, \"x\": 82}, {\"y\": -0.08149444919898753, \"x\": 83}, {\"y\": -0.08038883259183513, \"x\": 84}, {\"y\": -0.07947412711924565, \"x\": 85}, {\"y\": -0.07856266847630412, \"x\": 86}, {\"y\": -0.07762714672127548, \"x\": 87}, {\"y\": -0.07756524995262137, \"x\": 88}, {\"y\": -0.07705178774141364, \"x\": 89}, {\"y\": -0.07578008515504203, \"x\": 90}, {\"y\": -0.07473251525141038, \"x\": 91}, {\"y\": -0.0758982983388018, \"x\": 92}, {\"y\": -0.07631725561721968, \"x\": 93}, {\"y\": -0.0745348634121556, \"x\": 94}, {\"y\": -0.07407853882713152, \"x\": 95}, {\"y\": -0.07170799408238818, \"x\": 96}, {\"y\": -0.07110936317204561, \"x\": 97}, {\"y\": -0.07065121326811753, \"x\": 98}, {\"y\": -0.069166273129679, \"x\": 99}], \"data-918d0c14608d107404afe105a33c6805\": [{\"y\": 172659.9999999997, \"x\": 1}, {\"y\": 170220.5575463386, \"x\": 2}, {\"y\": 168658.0028570052, \"x\": 3}, {\"y\": 167214.7645510097, \"x\": 4}, {\"y\": 164881.04725719627, \"x\": 5}, {\"y\": 163248.84835642495, \"x\": 6}, {\"y\": 162506.35188020603, \"x\": 7}, {\"y\": 161631.7986617319, \"x\": 8}, {\"y\": 160431.80768062873, \"x\": 9}, {\"y\": 159286.61535211225, \"x\": 10}, {\"y\": 158364.705573826, \"x\": 11}, {\"y\": 157353.07888826163, \"x\": 12}, {\"y\": 155482.2327788249, \"x\": 13}, {\"y\": 154054.2038871352, \"x\": 14}, {\"y\": 153119.93593031645, \"x\": 15}, {\"y\": 152274.8047160767, \"x\": 16}, {\"y\": 151329.0778120017, \"x\": 17}, {\"y\": 149961.27939797303, \"x\": 18}, {\"y\": 148610.7535463834, \"x\": 19}, {\"y\": 146980.79179024577, \"x\": 20}, {\"y\": 146190.46559513948, \"x\": 21}, {\"y\": 145347.11304153575, \"x\": 22}, {\"y\": 144511.67231415148, \"x\": 23}, {\"y\": 143742.66196072314, \"x\": 24}, {\"y\": 143009.93971058223, \"x\": 25}, {\"y\": 141988.6739166887, \"x\": 26}, {\"y\": 139938.28518050266, \"x\": 27}, {\"y\": 138847.08587966964, \"x\": 28}, {\"y\": 138112.2026079838, \"x\": 29}, {\"y\": 137063.23878363124, \"x\": 30}, {\"y\": 136128.0909249776, \"x\": 31}, {\"y\": 135940.6657723567, \"x\": 32}, {\"y\": 134270.48060792102, \"x\": 33}, {\"y\": 133029.7808705096, \"x\": 34}, {\"y\": 131671.2225392459, \"x\": 35}, {\"y\": 130658.07906973833, \"x\": 36}, {\"y\": 129575.42833821612, \"x\": 37}, {\"y\": 128767.81816032206, \"x\": 38}, {\"y\": 128000.58313571804, \"x\": 39}, {\"y\": 127594.16902087862, \"x\": 40}, {\"y\": 126859.96567314083, \"x\": 41}, {\"y\": 126012.4010904232, \"x\": 42}, {\"y\": 125378.59735155004, \"x\": 43}, {\"y\": 124356.31718831552, \"x\": 44}, {\"y\": 123439.90047978268, \"x\": 45}, {\"y\": 122575.72990660845, \"x\": 46}, {\"y\": 120939.8913307501, \"x\": 47}, {\"y\": 120112.8262891221, \"x\": 48}, {\"y\": 119437.11613677867, \"x\": 49}, {\"y\": 118046.17350330584, \"x\": 50}, {\"y\": 117840.0091485038, \"x\": 51}, {\"y\": 116937.71112891709, \"x\": 52}, {\"y\": 115671.27856021584, \"x\": 53}, {\"y\": 114760.39789872522, \"x\": 54}, {\"y\": 113850.5329670183, \"x\": 55}, {\"y\": 111497.12400183546, \"x\": 56}, {\"y\": 110826.63139777727, \"x\": 57}, {\"y\": 110271.57651679988, \"x\": 58}, {\"y\": 109144.74324715522, \"x\": 59}, {\"y\": 108380.77767865156, \"x\": 60}, {\"y\": 107873.32999780918, \"x\": 61}, {\"y\": 107024.36717293506, \"x\": 62}, {\"y\": 106159.75389614697, \"x\": 63}, {\"y\": 104995.26921685398, \"x\": 64}, {\"y\": 104415.03186485475, \"x\": 65}, {\"y\": 103930.20070207494, \"x\": 66}, {\"y\": 102839.44471158943, \"x\": 67}, {\"y\": 102291.76437700987, \"x\": 68}, {\"y\": 101517.12319031348, \"x\": 69}, {\"y\": 100507.3939905479, \"x\": 70}, {\"y\": 99918.95417633992, \"x\": 71}, {\"y\": 99160.56080172054, \"x\": 72}, {\"y\": 97427.60327506048, \"x\": 73}, {\"y\": 96455.20414672478, \"x\": 74}, {\"y\": 97166.62636878148, \"x\": 75}, {\"y\": 96452.37454376549, \"x\": 76}, {\"y\": 95009.6768758118, \"x\": 77}, {\"y\": 93772.1258798004, \"x\": 78}, {\"y\": 93057.94198008087, \"x\": 79}, {\"y\": 92486.36362384724, \"x\": 80}, {\"y\": 91965.23919913317, \"x\": 81}, {\"y\": 90910.62289355499, \"x\": 82}, {\"y\": 90036.24260303588, \"x\": 83}, {\"y\": 88466.75035736423, \"x\": 84}, {\"y\": 87467.9044509906, \"x\": 85}, {\"y\": 86495.79929746891, \"x\": 86}, {\"y\": 85497.1561738238, \"x\": 87}, {\"y\": 84947.18262816822, \"x\": 88}, {\"y\": 84305.37309707796, \"x\": 89}, {\"y\": 82864.26087513777, \"x\": 90}, {\"y\": 82049.21590821426, \"x\": 91}, {\"y\": 81434.70796502127, \"x\": 92}, {\"y\": 81015.48663814296, \"x\": 93}, {\"y\": 79111.97897365692, \"x\": 94}, {\"y\": 78586.31238225591, \"x\": 95}, {\"y\": 77705.26990563108, \"x\": 96}, {\"y\": 76198.32293872308, \"x\": 97}, {\"y\": 75619.8547224245, \"x\": 98}, {\"y\": 74409.230211121, \"x\": 99}]}}, {\"mode\": \"vega-lite\"});\n",
       "</script>"
      ],
      "text/plain": [
       "alt.HConcatChart(...)"
      ]
     },
     "execution_count": 281,
     "metadata": {},
     "output_type": "execute_result"
    }
   ],
   "source": [
    "chart_silhouette | chart_elbow"
   ]
  },
  {
   "cell_type": "code",
   "execution_count": 282,
   "id": "87e37923-df35-4d31-93c5-4e82d45e441f",
   "metadata": {},
   "outputs": [],
   "source": [
    "k_means_run = k_means(n_clusters=20)"
   ]
  },
  {
   "cell_type": "code",
   "execution_count": 285,
   "id": "6418be88-38cb-40ca-b7c9-552d11db620b",
   "metadata": {},
   "outputs": [],
   "source": [
    "df_label_raw['clusters'] = k_means_run.labels_"
   ]
  },
  {
   "cell_type": "code",
   "execution_count": 286,
   "id": "7f8c920d-25b5-4d37-998f-b819ef61045f",
   "metadata": {},
   "outputs": [],
   "source": [
    "dfs_kmeans = [pd.DataFrame(y) for x, y in df_label_raw.groupby('clusters', as_index=False)]"
   ]
  },
  {
   "cell_type": "code",
   "execution_count": 287,
   "id": "44f6f403-b496-419a-98d0-47a0735931f2",
   "metadata": {},
   "outputs": [],
   "source": [
    "for i in range(0, len(dfs_kmeans)):\n",
    "    num_items = len(dfs_kmeans[i])\n",
    "    dfs_kmeans[i]['x'] = np.linspace(0.1, 3.0, num=num_items)\n",
    "    dfs_kmeans[i]['y'] = np.linspace(0.1, 3.0, num=num_items)"
   ]
  },
  {
   "cell_type": "code",
   "execution_count": 288,
   "id": "d9ce26f4-c25b-44f0-b2dd-862101a95aa4",
   "metadata": {},
   "outputs": [],
   "source": [
    "def grid_photos(nx=6, ny=6, cluster=0, title='title'):\n",
    "    \n",
    "    nx, ny = (nx, ny)\n",
    "    x = np.linspace(0, 1, nx)\n",
    "    y = np.linspace(0, 1, ny)\n",
    "    xv, yv = np.meshgrid(x, y)\n",
    "    \n",
    "    dfs_kmeans[cluster]['x'] = xv.ravel()[0:len(dfs_kmeans[cluster])]\n",
    "    dfs_kmeans[cluster]['y'] = yv.ravel()[0:len(dfs_kmeans[cluster])]\n",
    "    \n",
    "    chart = alt.Chart(dfs_kmeans[cluster], title=title).mark_image(\n",
    "        width=50,\n",
    "        height=50\n",
    "    ).encode(\n",
    "        alt.X('x', axis=None),\n",
    "        alt.Y('y', axis=None),\n",
    "        url='url'\n",
    "    )\n",
    "    \n",
    "    text = chart.mark_text(\n",
    "    align='center',\n",
    "    baseline='bottom',\n",
    "    yOffset = -25\n",
    "    #dx=3,  # Nudges text to right so it doesn't appear on top of the bar\n",
    "    ).encode(\n",
    "        alt.Text('label')\n",
    "    )\n",
    "    \n",
    "    return (chart + text)"
   ]
  },
  {
   "cell_type": "code",
   "execution_count": 295,
   "id": "94d3c4b1-6bf5-4a4a-8238-807dfcb6aa80",
   "metadata": {},
   "outputs": [],
   "source": [
    "cluster_2 = grid_photos(nx=10, ny=10, cluster=2, title='Cluster 1')"
   ]
  },
  {
   "cell_type": "code",
   "execution_count": 297,
   "id": "42494446-8b15-44f5-bb8b-ed4c0d542bea",
   "metadata": {},
   "outputs": [
    {
     "data": {
      "text/html": [
       "\n",
       "<div id=\"altair-viz-8b0b60c6e56047f6a15884099b269a47\"></div>\n",
       "<script type=\"text/javascript\">\n",
       "  (function(spec, embedOpt){\n",
       "    let outputDiv = document.currentScript.previousElementSibling;\n",
       "    if (outputDiv.id !== \"altair-viz-8b0b60c6e56047f6a15884099b269a47\") {\n",
       "      outputDiv = document.getElementById(\"altair-viz-8b0b60c6e56047f6a15884099b269a47\");\n",
       "    }\n",
       "    const paths = {\n",
       "      \"vega\": \"https://cdn.jsdelivr.net/npm//vega@5?noext\",\n",
       "      \"vega-lib\": \"https://cdn.jsdelivr.net/npm//vega-lib?noext\",\n",
       "      \"vega-lite\": \"https://cdn.jsdelivr.net/npm//vega-lite@4.8.1?noext\",\n",
       "      \"vega-embed\": \"https://cdn.jsdelivr.net/npm//vega-embed@6?noext\",\n",
       "    };\n",
       "\n",
       "    function loadScript(lib) {\n",
       "      return new Promise(function(resolve, reject) {\n",
       "        var s = document.createElement('script');\n",
       "        s.src = paths[lib];\n",
       "        s.async = true;\n",
       "        s.onload = () => resolve(paths[lib]);\n",
       "        s.onerror = () => reject(`Error loading script: ${paths[lib]}`);\n",
       "        document.getElementsByTagName(\"head\")[0].appendChild(s);\n",
       "      });\n",
       "    }\n",
       "\n",
       "    function showError(err) {\n",
       "      outputDiv.innerHTML = `<div class=\"error\" style=\"color:red;\">${err}</div>`;\n",
       "      throw err;\n",
       "    }\n",
       "\n",
       "    function displayChart(vegaEmbed) {\n",
       "      vegaEmbed(outputDiv, spec, embedOpt)\n",
       "        .catch(err => showError(`Javascript Error: ${err.message}<br>This usually means there's a typo in your chart specification. See the javascript console for the full traceback.`));\n",
       "    }\n",
       "\n",
       "    if(typeof define === \"function\" && define.amd) {\n",
       "      requirejs.config({paths});\n",
       "      require([\"vega-embed\"], displayChart, err => showError(`Error loading script: ${err.message}`));\n",
       "    } else if (typeof vegaEmbed === \"function\") {\n",
       "      displayChart(vegaEmbed);\n",
       "    } else {\n",
       "      loadScript(\"vega\")\n",
       "        .then(() => loadScript(\"vega-lite\"))\n",
       "        .then(() => loadScript(\"vega-embed\"))\n",
       "        .catch(showError)\n",
       "        .then(() => displayChart(vegaEmbed));\n",
       "    }\n",
       "  })({\"config\": {\"view\": {\"continuousWidth\": 400, \"continuousHeight\": 300}}, \"layer\": [{\"mark\": {\"type\": \"image\", \"height\": 50, \"width\": 50}, \"encoding\": {\"url\": {\"type\": \"nominal\", \"field\": \"url\"}, \"x\": {\"type\": \"quantitative\", \"axis\": null, \"field\": \"x\"}, \"y\": {\"type\": \"quantitative\", \"axis\": null, \"field\": \"y\"}}, \"title\": \"Cluster 1\"}, {\"mark\": {\"type\": \"text\", \"align\": \"center\", \"baseline\": \"bottom\", \"yOffset\": -25}, \"encoding\": {\"text\": {\"type\": \"nominal\", \"field\": \"label\"}, \"url\": {\"type\": \"nominal\", \"field\": \"url\"}, \"x\": {\"type\": \"quantitative\", \"axis\": null, \"field\": \"x\"}, \"y\": {\"type\": \"quantitative\", \"axis\": null, \"field\": \"y\"}}, \"title\": \"Cluster 1\"}], \"data\": {\"name\": \"data-8846afacab6a2281804b7e67f85d05e7\"}, \"$schema\": \"https://vega.github.io/schema/vega-lite/v4.8.1.json\", \"datasets\": {\"data-8846afacab6a2281804b7e67f85d05e7\": [{\"ethnicity\": \"bipoc\", \"sex\": \"female\", \"age\": \"adult\", \"label\": \"anger\", \"url\": \"https://uwmadison.co1.qualtrics.com/ControlPanel/Graphic.php?IM=IM_bJXdODAZHOaG0rI\", \"clusters\": 2, \"x\": 0.0, \"y\": 0.0}, {\"ethnicity\": \"bipoc\", \"sex\": \"female\", \"age\": \"child\", \"label\": \"anger\", \"url\": \"https://uwmadison.co1.qualtrics.com/ControlPanel/Graphic.php?IM=IM_37SAhyROGBWVpVs\", \"clusters\": 2, \"x\": 0.1111111111111111, \"y\": 0.0}, {\"ethnicity\": \"bipoc\", \"sex\": \"male\", \"age\": \"child\", \"label\": \"anger\", \"url\": \"https://uwmadison.co1.qualtrics.com/ControlPanel/Graphic.php?IM=IM_egtCOrU9KOm233M\", \"clusters\": 2, \"x\": 0.2222222222222222, \"y\": 0.0}, {\"ethnicity\": \"white\", \"sex\": \"female\", \"age\": \"adult\", \"label\": \"anger\", \"url\": \"https://uwmadison.co1.qualtrics.com/ControlPanel/Graphic.php?IM=IM_1Amo6fqrutcZYZo\", \"clusters\": 2, \"x\": 0.3333333333333333, \"y\": 0.0}, {\"ethnicity\": \"white\", \"sex\": \"female\", \"age\": \"child\", \"label\": \"anger\", \"url\": \"https://uwmadison.co1.qualtrics.com/ControlPanel/Graphic.php?IM=IM_1XqAx3FzoRDFZt4\", \"clusters\": 2, \"x\": 0.4444444444444444, \"y\": 0.0}, {\"ethnicity\": \"white\", \"sex\": \"male\", \"age\": \"adult\", \"label\": \"anger\", \"url\": \"https://uwmadison.co1.qualtrics.com/ControlPanel/Graphic.php?IM=IM_7PC2cgcyr5yUiOy\", \"clusters\": 2, \"x\": 0.5555555555555556, \"y\": 0.0}, {\"ethnicity\": \"bipoc\", \"sex\": \"female\", \"age\": \"child\", \"label\": \"disgust\", \"url\": \"https://uwmadison.co1.qualtrics.com/ControlPanel/Graphic.php?IM=IM_4Zxryb4o2ZDgHDo\", \"clusters\": 2, \"x\": 0.6666666666666666, \"y\": 0.0}, {\"ethnicity\": \"white\", \"sex\": \"male\", \"age\": \"adult\", \"label\": \"disgust\", \"url\": \"https://uwmadison.co1.qualtrics.com/ControlPanel/Graphic.php?IM=IM_4Iuz8TahQUf5rCu\", \"clusters\": 2, \"x\": 0.7777777777777777, \"y\": 0.0}, {\"ethnicity\": \"white\", \"sex\": \"male\", \"age\": \"child\", \"label\": \"disgust\", \"url\": \"https://uwmadison.co1.qualtrics.com/ControlPanel/Graphic.php?IM=IM_3dtGv9tzZmLa4Cy\", \"clusters\": 2, \"x\": 0.8888888888888888, \"y\": 0.0}, {\"ethnicity\": \"bipoc\", \"sex\": \"female\", \"age\": \"adult\", \"label\": \"fear\", \"url\": \"https://uwmadison.co1.qualtrics.com/ControlPanel/Graphic.php?IM=IM_6qVleJUYoACmf6C\", \"clusters\": 2, \"x\": 1.0, \"y\": 0.0}, {\"ethnicity\": \"bipoc\", \"sex\": \"male\", \"age\": \"adult\", \"label\": \"fear\", \"url\": \"https://uwmadison.co1.qualtrics.com/ControlPanel/Graphic.php?IM=IM_54KW05fRgzNmLfE\", \"clusters\": 2, \"x\": 0.0, \"y\": 0.1111111111111111}, {\"ethnicity\": \"white\", \"sex\": \"female\", \"age\": \"child\", \"label\": \"fear\", \"url\": \"https://uwmadison.co1.qualtrics.com/ControlPanel/Graphic.php?IM=IM_cXRPI85VJ3YAOdo\", \"clusters\": 2, \"x\": 0.1111111111111111, \"y\": 0.1111111111111111}, {\"ethnicity\": \"white\", \"sex\": \"male\", \"age\": \"adult\", \"label\": \"fear\", \"url\": \"https://uwmadison.co1.qualtrics.com/ControlPanel/Graphic.php?IM=IM_1z4YnfSQVdhj1Rk\", \"clusters\": 2, \"x\": 0.2222222222222222, \"y\": 0.1111111111111111}, {\"ethnicity\": \"bipoc\", \"sex\": \"female\", \"age\": \"adult\", \"label\": \"neutral\", \"url\": \"https://uwmadison.co1.qualtrics.com/ControlPanel/Graphic.php?IM=IM_80TvOXpOXat9RxI\", \"clusters\": 2, \"x\": 0.3333333333333333, \"y\": 0.1111111111111111}, {\"ethnicity\": \"bipoc\", \"sex\": \"male\", \"age\": \"adult\", \"label\": \"neutral\", \"url\": \"https://uwmadison.co1.qualtrics.com/ControlPanel/Graphic.php?IM=IM_cMDFM510Dzc4NKu\", \"clusters\": 2, \"x\": 0.4444444444444444, \"y\": 0.1111111111111111}, {\"ethnicity\": \"bipoc\", \"sex\": \"male\", \"age\": \"child\", \"label\": \"neutral\", \"url\": \"https://uwmadison.co1.qualtrics.com/ControlPanel/Graphic.php?IM=IM_aXk5I4i1e3iZEzk\", \"clusters\": 2, \"x\": 0.5555555555555556, \"y\": 0.1111111111111111}, {\"ethnicity\": \"white\", \"sex\": \"female\", \"age\": \"adult\", \"label\": \"neutral\", \"url\": \"https://uwmadison.co1.qualtrics.com/ControlPanel/Graphic.php?IM=IM_3lu3qPA43hGxJ4y\", \"clusters\": 2, \"x\": 0.6666666666666666, \"y\": 0.1111111111111111}, {\"ethnicity\": \"white\", \"sex\": \"female\", \"age\": \"child\", \"label\": \"neutral\", \"url\": \"https://uwmadison.co1.qualtrics.com/ControlPanel/Graphic.php?IM=IM_0pPXIzq4Mrfh7ka\", \"clusters\": 2, \"x\": 0.7777777777777777, \"y\": 0.1111111111111111}, {\"ethnicity\": \"white\", \"sex\": \"male\", \"age\": \"adult\", \"label\": \"neutral\", \"url\": \"https://uwmadison.co1.qualtrics.com/ControlPanel/Graphic.php?IM=IM_blolyGQSOOsUfLE\", \"clusters\": 2, \"x\": 0.8888888888888888, \"y\": 0.1111111111111111}, {\"ethnicity\": \"bipoc\", \"sex\": \"female\", \"age\": \"adult\", \"label\": \"sadness\", \"url\": \"https://uwmadison.co1.qualtrics.com/ControlPanel/Graphic.php?IM=IM_6KEpMh9qlyvMRAa\", \"clusters\": 2, \"x\": 1.0, \"y\": 0.1111111111111111}, {\"ethnicity\": \"bipoc\", \"sex\": \"female\", \"age\": \"child\", \"label\": \"sadness\", \"url\": \"https://uwmadison.co1.qualtrics.com/ControlPanel/Graphic.php?IM=IM_etimLaMrS2pVAAS\", \"clusters\": 2, \"x\": 0.0, \"y\": 0.2222222222222222}, {\"ethnicity\": \"bipoc\", \"sex\": \"male\", \"age\": \"child\", \"label\": \"sadness\", \"url\": \"https://uwmadison.co1.qualtrics.com/ControlPanel/Graphic.php?IM=IM_eVzPpFKIfopOW1w\", \"clusters\": 2, \"x\": 0.1111111111111111, \"y\": 0.2222222222222222}, {\"ethnicity\": \"white\", \"sex\": \"female\", \"age\": \"adult\", \"label\": \"sadness\", \"url\": \"https://uwmadison.co1.qualtrics.com/ControlPanel/Graphic.php?IM=IM_9EKbisrli19qicS\", \"clusters\": 2, \"x\": 0.2222222222222222, \"y\": 0.2222222222222222}, {\"ethnicity\": \"white\", \"sex\": \"female\", \"age\": \"child\", \"label\": \"sadness\", \"url\": \"https://uwmadison.co1.qualtrics.com/ControlPanel/Graphic.php?IM=IM_55Rjm0S1oR1ox1k\", \"clusters\": 2, \"x\": 0.3333333333333333, \"y\": 0.2222222222222222}, {\"ethnicity\": \"white\", \"sex\": \"male\", \"age\": \"adult\", \"label\": \"sadness\", \"url\": \"https://uwmadison.co1.qualtrics.com/ControlPanel/Graphic.php?IM=IM_8j4LSlE16vL228e\", \"clusters\": 2, \"x\": 0.4444444444444444, \"y\": 0.2222222222222222}, {\"ethnicity\": \"white\", \"sex\": \"male\", \"age\": \"child\", \"label\": \"sadness\", \"url\": \"https://uwmadison.co1.qualtrics.com/ControlPanel/Graphic.php?IM=IM_1BzaOxAnlvpmh8i\", \"clusters\": 2, \"x\": 0.5555555555555556, \"y\": 0.2222222222222222}, {\"ethnicity\": \"bipoc\", \"sex\": \"female\", \"age\": \"adult\", \"label\": \"surprise\", \"url\": \"https://uwmadison.co1.qualtrics.com/ControlPanel/Graphic.php?IM=IM_8FZs4DGyzYKeKQ6\", \"clusters\": 2, \"x\": 0.6666666666666666, \"y\": 0.2222222222222222}, {\"ethnicity\": \"bipoc\", \"sex\": \"female\", \"age\": \"child\", \"label\": \"uncertain\", \"url\": \"https://uwmadison.co1.qualtrics.com/ControlPanel/Graphic.php?IM=IM_9BqHT20xS13gotg\", \"clusters\": 2, \"x\": 0.7777777777777777, \"y\": 0.2222222222222222}, {\"ethnicity\": \"white\", \"sex\": \"female\", \"age\": \"adult\", \"label\": \"uncertain\", \"url\": \"https://uwmadison.co1.qualtrics.com/ControlPanel/Graphic.php?IM=IM_88R1RMz4mseoRkW\", \"clusters\": 2, \"x\": 0.8888888888888888, \"y\": 0.2222222222222222}, {\"ethnicity\": null, \"sex\": null, \"age\": null, \"label\": \"attention\", \"url\": \"https://uwmadison.co1.qualtrics.com/ControlPanel/Graphic.php?IM=IM_bHKuEbEutfv7zuu\", \"clusters\": 2, \"x\": 1.0, \"y\": 0.2222222222222222}, {\"ethnicity\": \"bipoc\", \"sex\": \"female\", \"age\": \"child\", \"label\": \"anger\", \"url\": \"https://uwmadison.co1.qualtrics.com/ControlPanel/Graphic.php?IM=IM_ehdQVRQn8kI6rNI\", \"clusters\": 2, \"x\": 0.0, \"y\": 0.3333333333333333}, {\"ethnicity\": \"bipoc\", \"sex\": \"male\", \"age\": \"adult\", \"label\": \"anger\", \"url\": \"https://uwmadison.co1.qualtrics.com/ControlPanel/Graphic.php?IM=IM_4OulgTPxBAgu0Qu\", \"clusters\": 2, \"x\": 0.1111111111111111, \"y\": 0.3333333333333333}, {\"ethnicity\": \"bipoc\", \"sex\": \"male\", \"age\": \"child\", \"label\": \"anger\", \"url\": \"https://uwmadison.co1.qualtrics.com/ControlPanel/Graphic.php?IM=IM_82jdttMjk3552E6\", \"clusters\": 2, \"x\": 0.2222222222222222, \"y\": 0.3333333333333333}, {\"ethnicity\": \"white\", \"sex\": \"female\", \"age\": \"child\", \"label\": \"anger\", \"url\": \"https://uwmadison.co1.qualtrics.com/ControlPanel/Graphic.php?IM=IM_3QtW28KFGllSVBI\", \"clusters\": 2, \"x\": 0.3333333333333333, \"y\": 0.3333333333333333}, {\"ethnicity\": \"white\", \"sex\": \"male\", \"age\": \"child\", \"label\": \"anger\", \"url\": \"https://uwmadison.co1.qualtrics.com/ControlPanel/Graphic.php?IM=IM_dhTzFnZMWrTfBGK\", \"clusters\": 2, \"x\": 0.4444444444444444, \"y\": 0.3333333333333333}, {\"ethnicity\": \"bipoc\", \"sex\": \"female\", \"age\": \"adult\", \"label\": \"disgust\", \"url\": \"https://uwmadison.co1.qualtrics.com/ControlPanel/Graphic.php?IM=IM_0kOdQHclITzXgIC\", \"clusters\": 2, \"x\": 0.5555555555555556, \"y\": 0.3333333333333333}, {\"ethnicity\": \"bipoc\", \"sex\": \"female\", \"age\": \"child\", \"label\": \"disgust\", \"url\": \"https://uwmadison.co1.qualtrics.com/ControlPanel/Graphic.php?IM=IM_e9BJyTeFPLQ7ZUq\", \"clusters\": 2, \"x\": 0.6666666666666666, \"y\": 0.3333333333333333}, {\"ethnicity\": \"bipoc\", \"sex\": \"male\", \"age\": \"adult\", \"label\": \"disgust\", \"url\": \"https://uwmadison.co1.qualtrics.com/ControlPanel/Graphic.php?IM=IM_1Zx26VAbwv9uFFQ\", \"clusters\": 2, \"x\": 0.7777777777777777, \"y\": 0.3333333333333333}, {\"ethnicity\": \"bipoc\", \"sex\": \"male\", \"age\": \"child\", \"label\": \"disgust\", \"url\": \"https://uwmadison.co1.qualtrics.com/ControlPanel/Graphic.php?IM=IM_bjzYq2UEKkXH7aC\", \"clusters\": 2, \"x\": 0.8888888888888888, \"y\": 0.3333333333333333}, {\"ethnicity\": \"white\", \"sex\": \"female\", \"age\": \"adult\", \"label\": \"disgust\", \"url\": \"https://uwmadison.co1.qualtrics.com/ControlPanel/Graphic.php?IM=IM_5hkOSrFORUoHopM\", \"clusters\": 2, \"x\": 1.0, \"y\": 0.3333333333333333}, {\"ethnicity\": \"white\", \"sex\": \"male\", \"age\": \"adult\", \"label\": \"disgust\", \"url\": \"https://uwmadison.co1.qualtrics.com/ControlPanel/Graphic.php?IM=IM_7aEgC4sWsfM5I5E\", \"clusters\": 2, \"x\": 0.0, \"y\": 0.4444444444444444}, {\"ethnicity\": \"white\", \"sex\": \"male\", \"age\": \"child\", \"label\": \"disgust\", \"url\": \"https://uwmadison.co1.qualtrics.com/ControlPanel/Graphic.php?IM=IM_7P182C9dn0ypgtE\", \"clusters\": 2, \"x\": 0.1111111111111111, \"y\": 0.4444444444444444}, {\"ethnicity\": \"bipoc\", \"sex\": \"female\", \"age\": \"adult\", \"label\": \"fear\", \"url\": \"https://uwmadison.co1.qualtrics.com/ControlPanel/Graphic.php?IM=IM_9tzXvOnfZ589gH4\", \"clusters\": 2, \"x\": 0.2222222222222222, \"y\": 0.4444444444444444}, {\"ethnicity\": \"bipoc\", \"sex\": \"female\", \"age\": \"child\", \"label\": \"fear\", \"url\": \"https://uwmadison.co1.qualtrics.com/ControlPanel/Graphic.php?IM=IM_0BVeUJelcjahWwC\", \"clusters\": 2, \"x\": 0.3333333333333333, \"y\": 0.4444444444444444}, {\"ethnicity\": \"bipoc\", \"sex\": \"male\", \"age\": \"child\", \"label\": \"fear\", \"url\": \"https://uwmadison.co1.qualtrics.com/ControlPanel/Graphic.php?IM=IM_byJrSqTzp3ZhZ9Y\", \"clusters\": 2, \"x\": 0.4444444444444444, \"y\": 0.4444444444444444}, {\"ethnicity\": \"white\", \"sex\": \"male\", \"age\": \"adult\", \"label\": \"fear\", \"url\": \"https://uwmadison.co1.qualtrics.com/ControlPanel/Graphic.php?IM=IM_9WR2cEWgwYWx7sa\", \"clusters\": 2, \"x\": 0.5555555555555556, \"y\": 0.4444444444444444}, {\"ethnicity\": \"white\", \"sex\": \"male\", \"age\": \"child\", \"label\": \"fear\", \"url\": \"https://uwmadison.co1.qualtrics.com/ControlPanel/Graphic.php?IM=IM_0AKqpsdouereE5M\", \"clusters\": 2, \"x\": 0.6666666666666666, \"y\": 0.4444444444444444}, {\"ethnicity\": \"bipoc\", \"sex\": \"female\", \"age\": \"adult\", \"label\": \"neutral\", \"url\": \"https://uwmadison.co1.qualtrics.com/ControlPanel/Graphic.php?IM=IM_39Riowawi2KEmV0\", \"clusters\": 2, \"x\": 0.7777777777777777, \"y\": 0.4444444444444444}, {\"ethnicity\": \"bipoc\", \"sex\": \"female\", \"age\": \"child\", \"label\": \"neutral\", \"url\": \"https://uwmadison.co1.qualtrics.com/ControlPanel/Graphic.php?IM=IM_5bFJqMaV53Zsy0K\", \"clusters\": 2, \"x\": 0.8888888888888888, \"y\": 0.4444444444444444}, {\"ethnicity\": \"bipoc\", \"sex\": \"male\", \"age\": \"adult\", \"label\": \"neutral\", \"url\": \"https://uwmadison.co1.qualtrics.com/ControlPanel/Graphic.php?IM=IM_3gSfRO9Zt2G8NP8\", \"clusters\": 2, \"x\": 1.0, \"y\": 0.4444444444444444}, {\"ethnicity\": \"white\", \"sex\": \"female\", \"age\": \"child\", \"label\": \"neutral\", \"url\": \"https://uwmadison.co1.qualtrics.com/ControlPanel/Graphic.php?IM=IM_7WGuIqyEG3TilMi\", \"clusters\": 2, \"x\": 0.0, \"y\": 0.5555555555555556}, {\"ethnicity\": \"white\", \"sex\": \"male\", \"age\": \"adult\", \"label\": \"neutral\", \"url\": \"https://uwmadison.co1.qualtrics.com/ControlPanel/Graphic.php?IM=IM_9zQEAVQQyKfTlUG\", \"clusters\": 2, \"x\": 0.1111111111111111, \"y\": 0.5555555555555556}, {\"ethnicity\": \"bipoc\", \"sex\": \"female\", \"age\": \"child\", \"label\": \"sadness\", \"url\": \"https://uwmadison.co1.qualtrics.com/ControlPanel/Graphic.php?IM=IM_73Yp8FVd9OfjPP8\", \"clusters\": 2, \"x\": 0.2222222222222222, \"y\": 0.5555555555555556}, {\"ethnicity\": \"bipoc\", \"sex\": \"male\", \"age\": \"child\", \"label\": \"sadness\", \"url\": \"https://uwmadison.co1.qualtrics.com/ControlPanel/Graphic.php?IM=IM_77jUBNTFvgA7yxU\", \"clusters\": 2, \"x\": 0.3333333333333333, \"y\": 0.5555555555555556}, {\"ethnicity\": \"white\", \"sex\": \"female\", \"age\": \"adult\", \"label\": \"sadness\", \"url\": \"https://uwmadison.co1.qualtrics.com/ControlPanel/Graphic.php?IM=IM_7NHotnPd2lT9Foa\", \"clusters\": 2, \"x\": 0.4444444444444444, \"y\": 0.5555555555555556}, {\"ethnicity\": \"white\", \"sex\": \"female\", \"age\": \"child\", \"label\": \"sadness\", \"url\": \"https://uwmadison.co1.qualtrics.com/ControlPanel/Graphic.php?IM=IM_0pqIA60jUTgdaQe\", \"clusters\": 2, \"x\": 0.5555555555555556, \"y\": 0.5555555555555556}, {\"ethnicity\": \"white\", \"sex\": \"male\", \"age\": \"child\", \"label\": \"sadness\", \"url\": \"https://uwmadison.co1.qualtrics.com/ControlPanel/Graphic.php?IM=IM_5au9MLWYoSZyrj0\", \"clusters\": 2, \"x\": 0.6666666666666666, \"y\": 0.5555555555555556}, {\"ethnicity\": \"bipoc\", \"sex\": \"female\", \"age\": \"child\", \"label\": \"surprise\", \"url\": \"https://uwmadison.co1.qualtrics.com/ControlPanel/Graphic.php?IM=IM_71mMacKzqNZRVpc\", \"clusters\": 2, \"x\": 0.7777777777777777, \"y\": 0.5555555555555556}, {\"ethnicity\": \"bipoc\", \"sex\": \"male\", \"age\": \"adult\", \"label\": \"surprise\", \"url\": \"https://uwmadison.co1.qualtrics.com/ControlPanel/Graphic.php?IM=IM_aaEwobdBBZ4nn02\", \"clusters\": 2, \"x\": 0.8888888888888888, \"y\": 0.5555555555555556}, {\"ethnicity\": \"white\", \"sex\": \"female\", \"age\": \"child\", \"label\": \"surprise\", \"url\": \"https://uwmadison.co1.qualtrics.com/ControlPanel/Graphic.php?IM=IM_3VrkAIN5BOdlfWm\", \"clusters\": 2, \"x\": 1.0, \"y\": 0.5555555555555556}, {\"ethnicity\": \"bipoc\", \"sex\": \"female\", \"age\": \"child\", \"label\": \"uncertain\", \"url\": \"https://uwmadison.co1.qualtrics.com/ControlPanel/Graphic.php?IM=IM_cJi6x6m1lHypqN8\", \"clusters\": 2, \"x\": 0.0, \"y\": 0.6666666666666666}, {\"ethnicity\": \"bipoc\", \"sex\": \"male\", \"age\": \"child\", \"label\": \"uncertain\", \"url\": \"https://uwmadison.co1.qualtrics.com/ControlPanel/Graphic.php?IM=IM_eaf2nwmlYn6uJKu\", \"clusters\": 2, \"x\": 0.1111111111111111, \"y\": 0.6666666666666666}, {\"ethnicity\": \"white\", \"sex\": \"male\", \"age\": \"adult\", \"label\": \"uncertain\", \"url\": \"https://uwmadison.co1.qualtrics.com/ControlPanel/Graphic.php?IM=IM_3wreUCj6TLHFC4K\", \"clusters\": 2, \"x\": 0.2222222222222222, \"y\": 0.6666666666666666}, {\"ethnicity\": null, \"sex\": null, \"age\": null, \"label\": \"attention\", \"url\": \"https://uwmadison.co1.qualtrics.com/ControlPanel/Graphic.php?IM=IM_e2rLzge28QpFG6y\", \"clusters\": 2, \"x\": 0.3333333333333333, \"y\": 0.6666666666666666}, {\"ethnicity\": \"bipoc\", \"sex\": \"female\", \"age\": \"adult\", \"label\": \"anger\", \"url\": \"https://uwmadison.co1.qualtrics.com/ControlPanel/Graphic.php?IM=IM_9WTZdrQmZK2OL54\", \"clusters\": 2, \"x\": 0.4444444444444444, \"y\": 0.6666666666666666}, {\"ethnicity\": \"bipoc\", \"sex\": \"female\", \"age\": \"child\", \"label\": \"anger\", \"url\": \"https://uwmadison.co1.qualtrics.com/ControlPanel/Graphic.php?IM=IM_824LzNsLYNku2OO\", \"clusters\": 2, \"x\": 0.5555555555555556, \"y\": 0.6666666666666666}, {\"ethnicity\": \"bipoc\", \"sex\": \"male\", \"age\": \"adult\", \"label\": \"anger\", \"url\": \"https://uwmadison.co1.qualtrics.com/ControlPanel/Graphic.php?IM=IM_bkMyZNBgUg8ZlNY\", \"clusters\": 2, \"x\": 0.6666666666666666, \"y\": 0.6666666666666666}, {\"ethnicity\": \"bipoc\", \"sex\": \"male\", \"age\": \"child\", \"label\": \"anger\", \"url\": \"https://uwmadison.co1.qualtrics.com/ControlPanel/Graphic.php?IM=IM_3rsoVFgV6TcS9fg\", \"clusters\": 2, \"x\": 0.7777777777777777, \"y\": 0.6666666666666666}, {\"ethnicity\": \"white\", \"sex\": \"female\", \"age\": \"adult\", \"label\": \"anger\", \"url\": \"https://uwmadison.co1.qualtrics.com/ControlPanel/Graphic.php?IM=IM_cPfESJKHoFDaWUe\", \"clusters\": 2, \"x\": 0.8888888888888888, \"y\": 0.6666666666666666}, {\"ethnicity\": \"white\", \"sex\": \"male\", \"age\": \"adult\", \"label\": \"anger\", \"url\": \"https://uwmadison.co1.qualtrics.com/ControlPanel/Graphic.php?IM=IM_cCHIBQubXKS0CiO\", \"clusters\": 2, \"x\": 1.0, \"y\": 0.6666666666666666}, {\"ethnicity\": \"white\", \"sex\": \"male\", \"age\": \"child\", \"label\": \"anger\", \"url\": \"https://uwmadison.co1.qualtrics.com/ControlPanel/Graphic.php?IM=IM_5AcJkrT27k6XRmm\", \"clusters\": 2, \"x\": 0.0, \"y\": 0.7777777777777777}, {\"ethnicity\": \"bipoc\", \"sex\": \"female\", \"age\": \"adult\", \"label\": \"disgust\", \"url\": \"https://uwmadison.co1.qualtrics.com/ControlPanel/Graphic.php?IM=IM_bsHb1M3p1kgjsF0\", \"clusters\": 2, \"x\": 0.1111111111111111, \"y\": 0.7777777777777777}, {\"ethnicity\": \"bipoc\", \"sex\": \"male\", \"age\": \"adult\", \"label\": \"disgust\", \"url\": \"https://uwmadison.co1.qualtrics.com/ControlPanel/Graphic.php?IM=IM_bemvKCbRtShtR0a\", \"clusters\": 2, \"x\": 0.2222222222222222, \"y\": 0.7777777777777777}, {\"ethnicity\": \"bipoc\", \"sex\": \"male\", \"age\": \"child\", \"label\": \"disgust\", \"url\": \"https://uwmadison.co1.qualtrics.com/ControlPanel/Graphic.php?IM=IM_7WCRz9fBbsgi9Qq\", \"clusters\": 2, \"x\": 0.3333333333333333, \"y\": 0.7777777777777777}, {\"ethnicity\": \"white\", \"sex\": \"female\", \"age\": \"child\", \"label\": \"disgust\", \"url\": \"https://uwmadison.co1.qualtrics.com/ControlPanel/Graphic.php?IM=IM_0JVrdbvlyGSXcLI\", \"clusters\": 2, \"x\": 0.4444444444444444, \"y\": 0.7777777777777777}, {\"ethnicity\": \"white\", \"sex\": \"male\", \"age\": \"adult\", \"label\": \"disgust\", \"url\": \"https://uwmadison.co1.qualtrics.com/ControlPanel/Graphic.php?IM=IM_1zU5YqWz2acbM8K\", \"clusters\": 2, \"x\": 0.5555555555555556, \"y\": 0.7777777777777777}, {\"ethnicity\": \"white\", \"sex\": \"male\", \"age\": \"child\", \"label\": \"disgust\", \"url\": \"https://uwmadison.co1.qualtrics.com/ControlPanel/Graphic.php?IM=IM_74HB0t6zgma9YNw\", \"clusters\": 2, \"x\": 0.6666666666666666, \"y\": 0.7777777777777777}, {\"ethnicity\": \"bipoc\", \"sex\": \"female\", \"age\": \"adult\", \"label\": \"fear\", \"url\": \"https://uwmadison.co1.qualtrics.com/ControlPanel/Graphic.php?IM=IM_0MwMgspcIIF1ew6\", \"clusters\": 2, \"x\": 0.7777777777777777, \"y\": 0.7777777777777777}, {\"ethnicity\": \"bipoc\", \"sex\": \"male\", \"age\": \"adult\", \"label\": \"fear\", \"url\": \"https://uwmadison.co1.qualtrics.com/ControlPanel/Graphic.php?IM=IM_8B72pKihkAZkIFU\", \"clusters\": 2, \"x\": 0.8888888888888888, \"y\": 0.7777777777777777}, {\"ethnicity\": \"bipoc\", \"sex\": \"male\", \"age\": \"child\", \"label\": \"fear\", \"url\": \"https://uwmadison.co1.qualtrics.com/ControlPanel/Graphic.php?IM=IM_9mlWGWUpvpQZa5M\", \"clusters\": 2, \"x\": 1.0, \"y\": 0.7777777777777777}, {\"ethnicity\": \"white\", \"sex\": \"female\", \"age\": \"adult\", \"label\": \"fear\", \"url\": \"https://uwmadison.co1.qualtrics.com/ControlPanel/Graphic.php?IM=IM_e38mxw6nO1WY6Cq\", \"clusters\": 2, \"x\": 0.0, \"y\": 0.8888888888888888}, {\"ethnicity\": \"white\", \"sex\": \"female\", \"age\": \"child\", \"label\": \"fear\", \"url\": \"https://uwmadison.co1.qualtrics.com/ControlPanel/Graphic.php?IM=IM_cBJFYlMueaaR03k\", \"clusters\": 2, \"x\": 0.1111111111111111, \"y\": 0.8888888888888888}, {\"ethnicity\": \"bipoc\", \"sex\": \"male\", \"age\": \"adult\", \"label\": \"neutral\", \"url\": \"https://uwmadison.co1.qualtrics.com/ControlPanel/Graphic.php?IM=IM_2ubTkbpnURV3shw\", \"clusters\": 2, \"x\": 0.2222222222222222, \"y\": 0.8888888888888888}, {\"ethnicity\": \"bipoc\", \"sex\": \"male\", \"age\": \"child\", \"label\": \"neutral\", \"url\": \"https://uwmadison.co1.qualtrics.com/ControlPanel/Graphic.php?IM=IM_bJGSnsoGjBoS3VY\", \"clusters\": 2, \"x\": 0.3333333333333333, \"y\": 0.8888888888888888}, {\"ethnicity\": \"white\", \"sex\": \"male\", \"age\": \"adult\", \"label\": \"neutral\", \"url\": \"https://uwmadison.co1.qualtrics.com/ControlPanel/Graphic.php?IM=IM_1X1sCzklzGvx2tg\", \"clusters\": 2, \"x\": 0.4444444444444444, \"y\": 0.8888888888888888}, {\"ethnicity\": \"white\", \"sex\": \"male\", \"age\": \"child\", \"label\": \"neutral\", \"url\": \"https://uwmadison.co1.qualtrics.com/ControlPanel/Graphic.php?IM=IM_6EA9nLCkNjdA69M\", \"clusters\": 2, \"x\": 0.5555555555555556, \"y\": 0.8888888888888888}, {\"ethnicity\": \"bipoc\", \"sex\": \"female\", \"age\": \"adult\", \"label\": \"sadness\", \"url\": \"https://uwmadison.co1.qualtrics.com/ControlPanel/Graphic.php?IM=IM_6A6ANrMmpt0lXFQ\", \"clusters\": 2, \"x\": 0.6666666666666666, \"y\": 0.8888888888888888}, {\"ethnicity\": \"bipoc\", \"sex\": \"female\", \"age\": \"child\", \"label\": \"sadness\", \"url\": \"https://uwmadison.co1.qualtrics.com/ControlPanel/Graphic.php?IM=IM_6AkMWXDnyOPXs6a\", \"clusters\": 2, \"x\": 0.7777777777777777, \"y\": 0.8888888888888888}, {\"ethnicity\": \"bipoc\", \"sex\": \"male\", \"age\": \"adult\", \"label\": \"sadness\", \"url\": \"https://uwmadison.co1.qualtrics.com/ControlPanel/Graphic.php?IM=IM_0pvcXJMnnou5XxA\", \"clusters\": 2, \"x\": 0.8888888888888888, \"y\": 0.8888888888888888}, {\"ethnicity\": \"bipoc\", \"sex\": \"male\", \"age\": \"child\", \"label\": \"sadness\", \"url\": \"https://uwmadison.co1.qualtrics.com/ControlPanel/Graphic.php?IM=IM_7365JYEsalfFK3c\", \"clusters\": 2, \"x\": 1.0, \"y\": 0.8888888888888888}, {\"ethnicity\": \"white\", \"sex\": \"female\", \"age\": \"adult\", \"label\": \"sadness\", \"url\": \"https://uwmadison.co1.qualtrics.com/ControlPanel/Graphic.php?IM=IM_4ObHALgYpr6zhn8\", \"clusters\": 2, \"x\": 0.0, \"y\": 1.0}, {\"ethnicity\": \"white\", \"sex\": \"female\", \"age\": \"child\", \"label\": \"sadness\", \"url\": \"https://uwmadison.co1.qualtrics.com/ControlPanel/Graphic.php?IM=IM_4ZMiIx0eAUH9slo\", \"clusters\": 2, \"x\": 0.1111111111111111, \"y\": 1.0}, {\"ethnicity\": \"white\", \"sex\": \"male\", \"age\": \"adult\", \"label\": \"sadness\", \"url\": \"https://uwmadison.co1.qualtrics.com/ControlPanel/Graphic.php?IM=IM_8AHT36OY3USaPe6\", \"clusters\": 2, \"x\": 0.2222222222222222, \"y\": 1.0}, {\"ethnicity\": \"white\", \"sex\": \"male\", \"age\": \"child\", \"label\": \"sadness\", \"url\": \"https://uwmadison.co1.qualtrics.com/ControlPanel/Graphic.php?IM=IM_cSZwt3HTocE50jk\", \"clusters\": 2, \"x\": 0.3333333333333333, \"y\": 1.0}, {\"ethnicity\": \"white\", \"sex\": \"male\", \"age\": \"child\", \"label\": \"surprise\", \"url\": \"https://uwmadison.co1.qualtrics.com/ControlPanel/Graphic.php?IM=IM_87ffNHa08KiAYbI\", \"clusters\": 2, \"x\": 0.4444444444444444, \"y\": 1.0}, {\"ethnicity\": \"bipoc\", \"sex\": \"male\", \"age\": \"adult\", \"label\": \"uncertain\", \"url\": \"https://uwmadison.co1.qualtrics.com/ControlPanel/Graphic.php?IM=IM_bw6Y8TC4DgP7vAq\", \"clusters\": 2, \"x\": 0.5555555555555556, \"y\": 1.0}, {\"ethnicity\": \"white\", \"sex\": \"female\", \"age\": \"adult\", \"label\": \"uncertain\", \"url\": \"https://uwmadison.co1.qualtrics.com/ControlPanel/Graphic.php?IM=IM_a64Cxa5gtL3OHKS\", \"clusters\": 2, \"x\": 0.6666666666666666, \"y\": 1.0}, {\"ethnicity\": \"white\", \"sex\": \"female\", \"age\": \"child\", \"label\": \"uncertain\", \"url\": \"https://uwmadison.co1.qualtrics.com/ControlPanel/Graphic.php?IM=IM_beic5cGPkQFDmhU\", \"clusters\": 2, \"x\": 0.7777777777777777, \"y\": 1.0}, {\"ethnicity\": \"white\", \"sex\": \"male\", \"age\": \"child\", \"label\": \"uncertain\", \"url\": \"https://uwmadison.co1.qualtrics.com/ControlPanel/Graphic.php?IM=IM_9tcpk2rnvGGXq7A\", \"clusters\": 2, \"x\": 0.8888888888888888, \"y\": 1.0}]}}, {\"mode\": \"vega-lite\"});\n",
       "</script>"
      ],
      "text/plain": [
       "alt.LayerChart(...)"
      ]
     },
     "execution_count": 297,
     "metadata": {},
     "output_type": "execute_result"
    }
   ],
   "source": [
    "cluster_2"
   ]
  },
  {
   "cell_type": "code",
   "execution_count": null,
   "id": "529c700d-af79-4352-9a9f-e6fd2d815492",
   "metadata": {},
   "outputs": [],
   "source": []
  }
 ],
 "metadata": {
  "interpreter": {
   "hash": "0353e939db601dafb04d2c079fe964b10a82a41961934d9a2462ee642708624d"
  },
  "kernelspec": {
   "display_name": "Python 3 (ipykernel)",
   "language": "python",
   "name": "python3"
  },
  "language_info": {
   "codemirror_mode": {
    "name": "ipython",
    "version": 3
   },
   "file_extension": ".py",
   "mimetype": "text/x-python",
   "name": "python",
   "nbconvert_exporter": "python",
   "pygments_lexer": "ipython3",
   "version": "3.9.7"
  }
 },
 "nbformat": 4,
 "nbformat_minor": 5
}
