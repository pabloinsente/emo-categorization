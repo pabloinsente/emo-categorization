{
 "cells": [
  {
   "cell_type": "code",
   "execution_count": 1,
   "id": "bd112134-8313-4d88-b69b-737cdf55d2ab",
   "metadata": {},
   "outputs": [],
   "source": [
    "import pandas as pd\n",
    "import numpy as np\n",
    "import altair as alt\n",
    "from altair_saver import save\n",
    "import altair_saver\n",
    "from IPython.display import Image"
   ]
  },
  {
   "cell_type": "markdown",
   "id": "3ae636b2-c470-415b-b412-e7ebe699e6c1",
   "metadata": {},
   "source": [
    "## Data ingestion and formating"
   ]
  },
  {
   "cell_type": "code",
   "execution_count": 2,
   "id": "a978c2b2-aa26-4d42-b52c-f84f5bf2a717",
   "metadata": {},
   "outputs": [],
   "source": [
    "df = pd.read_csv('../data_mturk/emotion_forced_choice_mturk.csv')\n",
    "df_labels = pd.read_csv('../data_mturk/emotion_labels.csv')\n",
    "df_reject = pd.read_csv('../data_mturk/forced_choice_mturk_rejections.csv')"
   ]
  },
  {
   "cell_type": "code",
   "execution_count": 3,
   "id": "0772e205-e17d-4a4a-a6db-0c4698faedc3",
   "metadata": {},
   "outputs": [],
   "source": [
    "df = df.iloc[3:, :] # filter metadata rows"
   ]
  },
  {
   "cell_type": "code",
   "execution_count": 4,
   "id": "ec0ba826-a79b-4c30-b63f-9aea77cfa48c",
   "metadata": {},
   "outputs": [
    {
     "name": "stdout",
     "output_type": "stream",
     "text": [
      "<class 'pandas.core.frame.DataFrame'>\n",
      "RangeIndex: 110 entries, 3 to 112\n",
      "Columns: 221 entries, StartDate to random\n",
      "dtypes: object(221)\n",
      "memory usage: 190.1+ KB\n"
     ]
    }
   ],
   "source": [
    "df.info()"
   ]
  },
  {
   "cell_type": "code",
   "execution_count": 5,
   "id": "4be5af2d-aa5c-45e1-96da-6ea23608c5ff",
   "metadata": {},
   "outputs": [],
   "source": [
    "df = df[~df['random'].isin(df_reject['id_rand'].astype('str'))] # filter out rejected surveys\n",
    "\n",
    "df = df[df['Finished'] =='TRUE'] # filter out incomplete surveys"
   ]
  },
  {
   "cell_type": "code",
   "execution_count": 6,
   "id": "139ae479-07d7-4102-bcce-af131412c5ad",
   "metadata": {},
   "outputs": [
    {
     "name": "stdout",
     "output_type": "stream",
     "text": [
      "<class 'pandas.core.frame.DataFrame'>\n",
      "Int64Index: 52 entries, 3 to 112\n",
      "Columns: 221 entries, StartDate to random\n",
      "dtypes: object(221)\n",
      "memory usage: 90.2+ KB\n"
     ]
    }
   ],
   "source": [
    "df.info()"
   ]
  },
  {
   "cell_type": "code",
   "execution_count": 7,
   "id": "563ac485-a8e7-4c3e-afa0-e36b10f3faaf",
   "metadata": {},
   "outputs": [],
   "source": [
    "df.rename(columns={\n",
    "    'Q1.2': 'sex',\n",
    "    'Q1.3_1': 'age',\n",
    "    'Q1.4': 'ethnicity',\n",
    "    'Q1.5': 'formal education',\n",
    "    'Q1.6_1': 'income'}, inplace=True)"
   ]
  },
  {
   "cell_type": "code",
   "execution_count": 8,
   "id": "e8f33c5f-5ae6-4fd8-8280-4f46b232acf2",
   "metadata": {},
   "outputs": [],
   "source": [
    "df.to_csv('../clean_data_mturk/forced_choice_emotion_mturk.csv', index=False)"
   ]
  },
  {
   "cell_type": "code",
   "execution_count": 9,
   "id": "20a8d987-e8f4-48ab-b145-1c9b4dab4f17",
   "metadata": {},
   "outputs": [],
   "source": [
    "# placeholders to save svg strings\n",
    "svg_str = []\n",
    "image_title = []"
   ]
  },
  {
   "cell_type": "code",
   "execution_count": 10,
   "id": "87bfad06-50fc-4a18-aa94-89b2b08c9b7f",
   "metadata": {},
   "outputs": [],
   "source": [
    "def count_freq_labels(df, X=\"all\" ):\n",
    "    \"\"\"Returns the frequency and percent of each emotion category in the survey \n",
    "    \n",
    "    Arguments:\n",
    "    \n",
    "    df -- dataframe \n",
    "    X  -- whether to use all participants, or a subgroup\n",
    "    \"\"\"\n",
    "\n",
    "    if X == \"all\":\n",
    "        df_counts = df.stack().reset_index(drop=True).value_counts() # stack as series\n",
    "        df_counts = df_counts.to_frame('counts') # get value_counts as df\n",
    "        df_counts['emotion'] = df_counts.index # get index as col\n",
    "    else:\n",
    "        df_counts = df[X].reset_index(drop=True).value_counts() # stack as series\n",
    "        df_counts = df_counts.to_frame('counts') # get value_counts as df\n",
    "        df_counts[X] = df_counts.index # get index as col\n",
    "\n",
    "    df_counts = df_counts.reset_index(drop=True) # clean index\n",
    "    df_counts['percent'] = df_counts['counts'] / df_counts['counts'].sum() # compute percentage\n",
    "    \n",
    "    return df_counts"
   ]
  },
  {
   "cell_type": "code",
   "execution_count": 11,
   "id": "e156068a-d41e-4714-a62c-5cfd27e4d355",
   "metadata": {},
   "outputs": [],
   "source": [
    "def simple_per_bar(\n",
    "    df, title='Title', X='percent:Q', Y='emotion:N', \\\n",
    "    width=450, height=250, sort='-x', \\\n",
    "    text_size = 12, label_size = 11, title_size=12, \\\n",
    "    emotion=None, color1='#0570b0', color2='orange'):\n",
    "    \n",
    "    \"\"\"Returns percentage bars by emotion category\"\"\"\n",
    "    \n",
    "    bars = alt.Chart(df, title=title).mark_bar().encode(\n",
    "        alt.X(X, axis=alt.Axis(format='.0%')),\n",
    "        y=alt.Y(Y, sort=sort), \n",
    "        color=alt.condition(\n",
    "            alt.datum.emotion == emotion,\n",
    "            alt.value(color2),\n",
    "            alt.value(color1)\n",
    "        ))\n",
    "    \n",
    "    text = bars.mark_text(\n",
    "    align='left',\n",
    "    baseline='middle',\n",
    "    dx=3,  # Nudges text to right so it doesn't appear on top of the bar\n",
    "    fontSize=text_size\n",
    "    ).encode(\n",
    "        alt.Text(X, format='.1%')\n",
    "    )\n",
    "    \n",
    "    chart = (bars + text).configure_axis(\n",
    "            labelFontSize=label_size,\n",
    "            titleFontSize=title_size).properties(\n",
    "                width=width, \n",
    "                height=height)\n",
    "    \n",
    "    \n",
    "    return chart"
   ]
  },
  {
   "cell_type": "code",
   "execution_count": 12,
   "id": "fbb8279a-7efb-48ca-b2c9-d1c6625bf342",
   "metadata": {},
   "outputs": [],
   "source": [
    "def simple_per_bar_concat(\n",
    "    df, title='Title', X='percent:Q', Y='emotion:N',\\\n",
    "    sort='-x', text_size = 12, emotion=None,\\\n",
    "    color1='#0570b0', color2='orange'):\n",
    "    \n",
    "    \"\"\"Returns percentage bars by emotion category for concatenation\"\"\"\n",
    "\n",
    "    bars = alt.Chart(df, title=title).mark_bar().encode(\n",
    "        alt.X(X, axis=alt.Axis(format='.0%')),\n",
    "        y=alt.Y(Y, sort=sort), \n",
    "        color=alt.condition(\n",
    "            alt.datum.emotion == emotion,\n",
    "            alt.value(color2),\n",
    "            alt.value(color1)\n",
    "        ))\n",
    "    \n",
    "    text = bars.mark_text(\n",
    "    align='left',\n",
    "    baseline='middle',\n",
    "    dx=3,  # Nudges text to right so it doesn't appear on top of the bar\n",
    "    fontSize=text_size\n",
    "    ).encode(\n",
    "        alt.Text(X, format='.1%')\n",
    "    )\n",
    "    \n",
    "    chart = (bars + text)\n",
    "    \n",
    "    return chart"
   ]
  },
  {
   "cell_type": "code",
   "execution_count": 13,
   "id": "23ab39b6-af58-4d4f-a380-62884eb8d9aa",
   "metadata": {},
   "outputs": [],
   "source": [
    "def simple_count_bar(\n",
    "    df, title='Title', X='counts:Q', Y='emotion:N', \\\n",
    "    width=450, height=250, sort='-x', \\\n",
    "    text_size = 12, label_size = 11, title_size=12,\n",
    "    emotion=None, color1='#0570b0', color2='#orange'):\n",
    "\n",
    "    \"\"\"Return percentage bars by emotion category for concatenation\"\"\"\n",
    "\n",
    "    \n",
    "    bars = alt.Chart(df, title=title).mark_bar().encode(\n",
    "        alt.X(X),\n",
    "        y=alt.Y(Y, sort=sort), \n",
    "        color=alt.condition(\n",
    "            alt.datum.emotion == emotion,\n",
    "            alt.value(color2),\n",
    "            alt.value(color1)\n",
    "        ))\n",
    "    \n",
    "    text = bars.mark_text(\n",
    "    align='left',\n",
    "    baseline='middle',\n",
    "    dx=3,  # Nudges text to right so it doesn't appear on top of the bar\n",
    "    fontSize=text_size\n",
    "    ).encode(\n",
    "        alt.Text(X)\n",
    "    )\n",
    "    \n",
    "    chart = (bars + text).configure_axis(\n",
    "            labelFontSize=label_size,\n",
    "            titleFontSize=title_size).properties(\n",
    "                width=width, \n",
    "                height=height)\n",
    "    \n",
    "    \n",
    "    return chart"
   ]
  },
  {
   "cell_type": "markdown",
   "id": "7c209f53-4797-4c6f-a110-86b29bbf8d59",
   "metadata": {},
   "source": [
    "## Demographics"
   ]
  },
  {
   "cell_type": "code",
   "execution_count": 14,
   "id": "1c6ffb49-0537-46ac-92cc-0cfe5e931c8c",
   "metadata": {},
   "outputs": [
    {
     "data": {
      "text/html": [
       "\n",
       "<div id=\"altair-viz-5a0d14100a554baa973b996a4d763c13\"></div>\n",
       "<script type=\"text/javascript\">\n",
       "  (function(spec, embedOpt){\n",
       "    let outputDiv = document.currentScript.previousElementSibling;\n",
       "    if (outputDiv.id !== \"altair-viz-5a0d14100a554baa973b996a4d763c13\") {\n",
       "      outputDiv = document.getElementById(\"altair-viz-5a0d14100a554baa973b996a4d763c13\");\n",
       "    }\n",
       "    const paths = {\n",
       "      \"vega\": \"https://cdn.jsdelivr.net/npm//vega@5?noext\",\n",
       "      \"vega-lib\": \"https://cdn.jsdelivr.net/npm//vega-lib?noext\",\n",
       "      \"vega-lite\": \"https://cdn.jsdelivr.net/npm//vega-lite@4.8.1?noext\",\n",
       "      \"vega-embed\": \"https://cdn.jsdelivr.net/npm//vega-embed@6?noext\",\n",
       "    };\n",
       "\n",
       "    function loadScript(lib) {\n",
       "      return new Promise(function(resolve, reject) {\n",
       "        var s = document.createElement('script');\n",
       "        s.src = paths[lib];\n",
       "        s.async = true;\n",
       "        s.onload = () => resolve(paths[lib]);\n",
       "        s.onerror = () => reject(`Error loading script: ${paths[lib]}`);\n",
       "        document.getElementsByTagName(\"head\")[0].appendChild(s);\n",
       "      });\n",
       "    }\n",
       "\n",
       "    function showError(err) {\n",
       "      outputDiv.innerHTML = `<div class=\"error\" style=\"color:red;\">${err}</div>`;\n",
       "      throw err;\n",
       "    }\n",
       "\n",
       "    function displayChart(vegaEmbed) {\n",
       "      vegaEmbed(outputDiv, spec, embedOpt)\n",
       "        .catch(err => showError(`Javascript Error: ${err.message}<br>This usually means there's a typo in your chart specification. See the javascript console for the full traceback.`));\n",
       "    }\n",
       "\n",
       "    if(typeof define === \"function\" && define.amd) {\n",
       "      requirejs.config({paths});\n",
       "      require([\"vega-embed\"], displayChart, err => showError(`Error loading script: ${err.message}`));\n",
       "    } else if (typeof vegaEmbed === \"function\") {\n",
       "      displayChart(vegaEmbed);\n",
       "    } else {\n",
       "      loadScript(\"vega\")\n",
       "        .then(() => loadScript(\"vega-lite\"))\n",
       "        .then(() => loadScript(\"vega-embed\"))\n",
       "        .catch(showError)\n",
       "        .then(() => displayChart(vegaEmbed));\n",
       "    }\n",
       "  })({\"config\": {\"view\": {\"continuousWidth\": 400, \"continuousHeight\": 300}, \"axis\": {\"labelFontSize\": 12, \"titleFontSize\": 12}}, \"layer\": [{\"mark\": \"bar\", \"encoding\": {\"color\": {\"condition\": {\"value\": \"orange\", \"test\": \"(datum.emotion === null)\"}, \"value\": \"#0570b0\"}, \"x\": {\"type\": \"quantitative\", \"axis\": {\"format\": \".0%\"}, \"field\": \"percent\"}, \"y\": {\"type\": \"nominal\", \"field\": \"sex\", \"sort\": \"-x\"}}, \"title\": \"Sex | n = 52\"}, {\"mark\": {\"type\": \"text\", \"align\": \"left\", \"baseline\": \"middle\", \"dx\": 3, \"fontSize\": 12}, \"encoding\": {\"color\": {\"condition\": {\"value\": \"orange\", \"test\": \"(datum.emotion === null)\"}, \"value\": \"#0570b0\"}, \"text\": {\"type\": \"quantitative\", \"field\": \"percent\", \"format\": \".1%\"}, \"x\": {\"type\": \"quantitative\", \"axis\": {\"format\": \".0%\"}, \"field\": \"percent\"}, \"y\": {\"type\": \"nominal\", \"field\": \"sex\", \"sort\": \"-x\"}}, \"title\": \"Sex | n = 52\"}], \"data\": {\"name\": \"data-e708a7f49b33404123d938fe8cc41c2e\"}, \"height\": 150, \"width\": 450, \"$schema\": \"https://vega.github.io/schema/vega-lite/v4.8.1.json\", \"datasets\": {\"data-e708a7f49b33404123d938fe8cc41c2e\": [{\"counts\": 36, \"sex\": \"Male\", \"percent\": 0.6923076923076923}, {\"counts\": 16, \"sex\": \"Female\", \"percent\": 0.3076923076923077}]}}, {\"renderer\": \"svg\", \"mode\": \"vega-lite\"});\n",
       "</script>"
      ],
      "text/plain": [
       "alt.LayerChart(...)"
      ]
     },
     "metadata": {},
     "output_type": "display_data"
    }
   ],
   "source": [
    "source = count_freq_labels(df, X=\"sex\") \n",
    "title = 'Sex | n = '+ source['counts'].sum().astype(str)\n",
    "X, Y = 'percent:Q', 'sex:N'\n",
    "w, h= 450, 150\n",
    "txs, ls, ts = 12, 12, 12\n",
    "\n",
    "chart_sex = simple_per_bar(\n",
    "    source, title=title, X=X, Y=Y, \\\n",
    "    width=w, height=h, \\\n",
    "    text_size = txs, label_size = ls, title_size=ts)\n",
    "\n",
    "chart_sex.display(renderer='svg')"
   ]
  },
  {
   "cell_type": "code",
   "execution_count": 15,
   "id": "7486ac4b-5577-4c3a-887e-d23867c8ad9e",
   "metadata": {},
   "outputs": [
    {
     "ename": "NameError",
     "evalue": "name 'altair_saver' is not defined",
     "output_type": "error",
     "traceback": [
      "\u001b[0;31m---------------------------------------------------------------------------\u001b[0m",
      "\u001b[0;31mNameError\u001b[0m                                 Traceback (most recent call last)",
      "\u001b[0;32m/tmp/ipykernel_25266/3025932282.py\u001b[0m in \u001b[0;36m<module>\u001b[0;34m\u001b[0m\n\u001b[0;32m----> 1\u001b[0;31m \u001b[0mchart_sex_string\u001b[0m \u001b[0;34m=\u001b[0m \u001b[0maltair_saver\u001b[0m\u001b[0;34m.\u001b[0m\u001b[0msave\u001b[0m\u001b[0;34m(\u001b[0m\u001b[0mchart_sex\u001b[0m\u001b[0;34m,\u001b[0m \u001b[0mfmt\u001b[0m\u001b[0;34m=\u001b[0m\u001b[0;34m'svg'\u001b[0m\u001b[0;34m)\u001b[0m\u001b[0;34m\u001b[0m\u001b[0;34m\u001b[0m\u001b[0m\n\u001b[0m\u001b[1;32m      2\u001b[0m \u001b[0mimage_title\u001b[0m\u001b[0;34m.\u001b[0m\u001b[0mappend\u001b[0m\u001b[0;34m(\u001b[0m\u001b[0;34m'Participants by sex'\u001b[0m\u001b[0;34m)\u001b[0m\u001b[0;34m\u001b[0m\u001b[0;34m\u001b[0m\u001b[0m\n\u001b[1;32m      3\u001b[0m \u001b[0msvg_str\u001b[0m\u001b[0;34m.\u001b[0m\u001b[0mappend\u001b[0m\u001b[0;34m(\u001b[0m\u001b[0mchart_sex_string\u001b[0m\u001b[0;34m)\u001b[0m\u001b[0;34m\u001b[0m\u001b[0;34m\u001b[0m\u001b[0m\n",
      "\u001b[0;31mNameError\u001b[0m: name 'altair_saver' is not defined"
     ]
    }
   ],
   "source": [
    "chart_sex_string = altair_saver.save(chart_sex, fmt='svg')\n",
    "image_title.append('Participants by sex')\n",
    "svg_str.append(chart_sex_string)"
   ]
  },
  {
   "cell_type": "code",
   "execution_count": null,
   "id": "d17aec0c-1d4b-4cb0-8149-fbf6e9272fef",
   "metadata": {},
   "outputs": [],
   "source": [
    "source = count_freq_labels(df, X=\"age\") \n",
    "n_sample = source['counts'].sum().astype(str)\n",
    "\n",
    "# binning age for chart\n",
    "bins = [20, 30, 40, 50, 60]\n",
    "source['age bins'] = pd.cut(source['age'].astype(int), bins)\n",
    "source = source.groupby(['age bins'])['percent'].sum().to_frame().reset_index()\n",
    "source['age bins'] = source['age bins'].astype(str)\n",
    "\n",
    "title = 'Age | n = '+ n_sample\n",
    "X, Y = 'percent:Q', 'age bins:N'\n",
    "w, h= 450, 150\n",
    "txs, ls, ts = 12, 12, 12\n",
    "\n",
    "chart_age = simple_per_bar(\n",
    "    source, title=title, X=X, Y=Y, \\\n",
    "    width=w, height=h, \\\n",
    "    text_size = txs, label_size = ls, title_size=ts)\n",
    "\n",
    "chart_age.display(renderer='svg')"
   ]
  },
  {
   "cell_type": "code",
   "execution_count": null,
   "id": "15170c2d-c158-408f-89a6-4e4443c215c8",
   "metadata": {},
   "outputs": [],
   "source": [
    "chart_age_str = altair_saver.save(chart_age, fmt='svg')\n",
    "image_title.append('Participants by age')\n",
    "svg_str.append(chart_age_str)"
   ]
  },
  {
   "cell_type": "code",
   "execution_count": null,
   "id": "b9793ee6-e5ab-4ccb-95e9-88d4b73ba4b6",
   "metadata": {},
   "outputs": [],
   "source": [
    "source = count_freq_labels(df, X=\"ethnicity\") \n",
    "title = 'Ethnicity | n = '+ source['counts'].sum().astype(str)\n",
    "X, Y = 'percent:Q', 'ethnicity:N'\n",
    "w, h= 450, 150\n",
    "txs, ls, ts = 12, 11, 12\n",
    "\n",
    "chart_ethnicity= simple_per_bar(\n",
    "    source, title=title, X=X, Y=Y, \\\n",
    "    width=w, height=h, \\\n",
    "    text_size = txs, label_size = ls, title_size=ts)\n",
    "chart_ethnicity.display(renderer='svg')"
   ]
  },
  {
   "cell_type": "code",
   "execution_count": null,
   "id": "f502610b-2dd3-4756-9b94-d0f6aba0535c",
   "metadata": {},
   "outputs": [],
   "source": [
    "chart_et_str = altair_saver.save(chart_ethnicity, fmt='svg')\n",
    "image_title.append('Participants by ethnicity')\n",
    "svg_str.append(chart_et_str)"
   ]
  },
  {
   "cell_type": "code",
   "execution_count": null,
   "id": "acacaf29-284f-4a9f-b378-6fad30cb14b1",
   "metadata": {},
   "outputs": [],
   "source": [
    "source = count_freq_labels(df, X=\"formal education\") \n",
    "title = 'Formal education | n = '+ source['counts'].sum().astype(str)\n",
    "X, Y = 'percent:Q', 'formal education:N'\n",
    "w, h= 450, 150\n",
    "txs, ls, ts = 12, 11, 12\n",
    "\n",
    "chart_formal_education= simple_per_bar(\n",
    "    source, title=title, X=X, Y=Y,\\\n",
    "    width=w, height=h, \\\n",
    "    text_size = txs, label_size = ls, title_size=ts)\n",
    "chart_formal_education.display(renderer='svg')"
   ]
  },
  {
   "cell_type": "code",
   "execution_count": null,
   "id": "e50ff122-4ca4-48ca-bb7f-d6a01b8227be",
   "metadata": {},
   "outputs": [],
   "source": [
    "chart_formal_education_str = altair_saver.save(chart_formal_education, fmt='svg')\n",
    "image_title.append('Participants by formal education')\n",
    "svg_str.append(chart_formal_education_str)"
   ]
  },
  {
   "cell_type": "markdown",
   "id": "06425879-d183-48fe-a47f-7cac99a2c3b8",
   "metadata": {},
   "source": [
    "df_emo_answers = df.loc[:, 'Q2.1':'Q195.1'] # subset photos\n",
    "## Overall results"
   ]
  },
  {
   "cell_type": "code",
   "execution_count": null,
   "id": "3de3ef43-fe33-40d7-af8d-037ed6a49c66",
   "metadata": {},
   "outputs": [],
   "source": [
    "df_emo_answers = df.loc[:, 'Q2.1':'Q195.1'] # subset photos"
   ]
  },
  {
   "cell_type": "code",
   "execution_count": null,
   "id": "73661864-44e3-4178-aa36-26166837085e",
   "metadata": {},
   "outputs": [],
   "source": [
    "# df_emo_answers.columns.to_frame().reset_index(drop=True).to_csv('../clean_data/photo_ids.csv', index=False)"
   ]
  },
  {
   "cell_type": "code",
   "execution_count": null,
   "id": "6b32a85c-4df2-44f4-88c3-fa9872270de6",
   "metadata": {},
   "outputs": [],
   "source": [
    "source = count_freq_labels(df_emo_answers, X=\"all\") \n",
    "\n",
    "# save list of emotions words to avoid repeating this computation later\n",
    "emotion_words_list = source['emotion'].str.lower().tolist()\n",
    "# emotion_words_list.remove('other')\n",
    "\n",
    "title = 'Labels frequency | n = '+ source['counts'].sum().astype(str)\n",
    "X, Y = 'percent:Q', 'emotion:N'\n",
    "w, h= 450, 200\n",
    "txs, ls, ts = 12, 11, 12\n",
    "\n",
    "chart_overall_per = simple_per_bar(\n",
    "    source, title=title, X=X, Y=Y, \\\n",
    "    width=w, height=h, \\\n",
    "    text_size = txs, label_size = ls, title_size=ts)\n",
    "\n",
    "chart_overall_per.display(renderer='svg')"
   ]
  },
  {
   "cell_type": "code",
   "execution_count": null,
   "id": "9b49f34d-fcb2-4126-9f6a-e697c1ba590f",
   "metadata": {},
   "outputs": [],
   "source": [
    "chart_overall_per_str = altair_saver.save(chart_overall_per, fmt='svg')\n",
    "image_title.append('Overall results by expected label as %')\n",
    "svg_str.append(chart_overall_per_str)"
   ]
  },
  {
   "cell_type": "code",
   "execution_count": null,
   "id": "2956980c-a8fb-4dd8-a65a-e2b0bb8fbc4c",
   "metadata": {},
   "outputs": [],
   "source": [
    "source = count_freq_labels(df_emo_answers, X=\"all\") \n",
    "title = 'Labels frequency | n = '+ source['counts'].sum().astype(str)\n",
    "X, Y = 'counts:Q', 'emotion:N'\n",
    "w, h= 450, 200\n",
    "txs, ls, ts = 12, 11, 12\n",
    "\n",
    "chart_overall_count = simple_count_bar(\n",
    "    source, title=title, X=X, Y=Y,\\\n",
    "    width=w, height=h, \\\n",
    "    text_size = txs, label_size = ls, title_size=ts)\n",
    "\n",
    "chart_overall_count.display(renderer='svg')"
   ]
  },
  {
   "cell_type": "code",
   "execution_count": null,
   "id": "17cc2077-4572-4454-ba27-d355b9592711",
   "metadata": {},
   "outputs": [],
   "source": [
    "chart_overall_cnt_str = altair_saver.save(chart_overall_count, fmt='svg')\n",
    "image_title.append('Overall results by expected label as count')\n",
    "svg_str.append(chart_overall_cnt_str)"
   ]
  },
  {
   "cell_type": "markdown",
   "id": "057255f1-a948-4c32-bf8c-6273541991ce",
   "metadata": {},
   "source": [
    "## Most frequently used word for each emotion category (grouping pictures by expected-emotion)"
   ]
  },
  {
   "cell_type": "code",
   "execution_count": null,
   "id": "ca60e270-4aba-4be8-b16a-b016b42a8f47",
   "metadata": {},
   "outputs": [],
   "source": [
    "def emotion_df_formated(df_emo_answers, emotion_label):\n",
    "    \n",
    "    \"\"\"Returns df with metadata in long format, filtered by emotion\n",
    "    \n",
    "    Arguments:\n",
    "    df_emo_answers -- dataframe with participants answers only\n",
    "    emotion_label -- emotion label to filter out dataframe\n",
    "    \"\"\"\n",
    "    \n",
    "    df_emo_cat = df_emo_answers.copy() \n",
    "    df_emo_cat_t = df_emo_cat.T # transpose\n",
    "    df_emo_cat_t['photo_id'] = df_emo_cat_t.index # get index as col\n",
    "    df_emo_cat_t = df_emo_cat_t.reset_index(drop=True) # clean index\n",
    "    df_emo_cat_t_labels = pd.concat([df_emo_cat_t, df_labels], axis=1) # add metadata cols\n",
    "    df_label =  df_emo_cat_t_labels[df_emo_cat_t_labels['label'] == emotion_label]\n",
    "    \n",
    "    return df_label"
   ]
  },
  {
   "cell_type": "markdown",
   "id": "d46b1a7c-579d-4a52-a7fc-53041af3bb32",
   "metadata": {},
   "source": [
    "### Anger"
   ]
  },
  {
   "cell_type": "code",
   "execution_count": null,
   "id": "a589e212-d4c4-4697-a2bd-5da277f73c98",
   "metadata": {},
   "outputs": [],
   "source": [
    "emotion = 'anger'\n",
    "df_formated = emotion_df_formated(df_emo_answers, emotion) # subset 'anger' rows\n",
    "df_formated_ans = df_formated.drop(['photo_id', 'ethnicity', 'sex','age', 'label', 'url', 'photoId'], axis=1)\n",
    "\n",
    "source = count_freq_labels(df_formated_ans, X=\"all\") \n",
    "title = 'Expcted label: '+ emotion + ' | n = '+ source['counts'].sum().astype(str)\n",
    "X, Y = 'percent:Q', 'emotion:N'\n",
    "w, h= 450, 200\n",
    "txs, ls, ts = 12, 11, 12\n",
    "\n",
    "\n",
    "chart_anger = simple_per_bar(\n",
    "    source, title=title, X=X, Y=Y, \\\n",
    "    width=w, height=h, emotion=emotion.capitalize(), \\\n",
    "    text_size = txs, label_size = ls, title_size=ts)\n",
    "\n",
    "chart_anger.display(renderer='svg')"
   ]
  },
  {
   "cell_type": "code",
   "execution_count": null,
   "id": "feeb9134-3e52-4e1a-934f-60e47b1cd08a",
   "metadata": {},
   "outputs": [],
   "source": [
    "chart_anger_str = altair_saver.save(chart_anger, fmt='svg')\n",
    "image_title.append(\"Images depicting 'anger'\")\n",
    "svg_str.append(chart_anger_str)"
   ]
  },
  {
   "cell_type": "markdown",
   "id": "b4ca27c9-a16d-4cd9-967f-1800f12124aa",
   "metadata": {},
   "source": [
    "### Disgust"
   ]
  },
  {
   "cell_type": "code",
   "execution_count": null,
   "id": "2b40e526-6311-42ee-8ed9-158df4ebdac4",
   "metadata": {},
   "outputs": [],
   "source": [
    "emotion = 'disgust'\n",
    "df_formated = emotion_df_formated(df_emo_answers, emotion) # subset 'anger' rows\n",
    "df_formated_ans = df_formated.drop(['photo_id', 'ethnicity', 'sex','age', 'label', 'url', 'photoId'], axis=1)\n",
    "\n",
    "source = count_freq_labels(df_formated_ans, X=\"all\") \n",
    "title = 'Expcted label: '+ emotion + ' | n = '+ source['counts'].sum().astype(str)\n",
    "X, Y = 'percent:Q', 'emotion:N'\n",
    "w, h= 450, 200\n",
    "txs, ls, ts = 12, 11, 12\n",
    "\n",
    "\n",
    "chart_disgust = simple_per_bar(\n",
    "    source, title=title, X=X, Y=Y, \\\n",
    "    width=w, height=h,  emotion=emotion.capitalize(),\\\n",
    "    text_size = txs, label_size = ls, title_size=ts)\n",
    "\n",
    "chart_disgust.display(renderer='svg')"
   ]
  },
  {
   "cell_type": "code",
   "execution_count": null,
   "id": "a3242aa0-63e3-4176-a120-a3dac4bd9554",
   "metadata": {},
   "outputs": [],
   "source": [
    "chart_disgust_str = altair_saver.save(chart_disgust, fmt='svg')\n",
    "image_title.append(\"Images depicting 'disgust'\")\n",
    "svg_str.append(chart_disgust_str)"
   ]
  },
  {
   "cell_type": "markdown",
   "id": "092a547e-0918-442c-b2e3-1347dbe7c445",
   "metadata": {},
   "source": [
    "### Fear"
   ]
  },
  {
   "cell_type": "code",
   "execution_count": null,
   "id": "2717c7f4-3ca0-487b-bb7e-e0a99e5bdc66",
   "metadata": {},
   "outputs": [],
   "source": [
    "emotion = 'fear'\n",
    "df_formated = emotion_df_formated(df_emo_answers, emotion) # subset 'fear' rows\n",
    "df_formated_ans = df_formated.drop(['photo_id', 'ethnicity', 'sex','age', 'label', 'url', 'photoId'], axis=1)\n",
    "\n",
    "source = count_freq_labels(df_formated_ans, X=\"all\") \n",
    "title = 'Expcted label: '+ emotion + ' | n = '+ source['counts'].sum().astype(str)\n",
    "X, Y = 'percent:Q', 'emotion:N'\n",
    "w, h= 450, 200\n",
    "txs, ls, ts = 12, 11, 12\n",
    "\n",
    "\n",
    "chart_fear = simple_per_bar(\n",
    "    source, title=title, X=X, Y=Y, \\\n",
    "    width=w, height=h,  emotion=emotion.capitalize(),\\\n",
    "    text_size = txs, label_size = ls, title_size=ts)\n",
    "\n",
    "chart_fear.display(renderer='svg')"
   ]
  },
  {
   "cell_type": "code",
   "execution_count": null,
   "id": "2b0e48ce-0272-4c3b-b886-b1746e5ff49d",
   "metadata": {},
   "outputs": [],
   "source": [
    "chart_fear_str = altair_saver.save(chart_fear, fmt='svg')\n",
    "image_title.append(\"Images depicting 'fear'\")\n",
    "svg_str.append(chart_fear_str)"
   ]
  },
  {
   "cell_type": "markdown",
   "id": "63bd2ce3-7efb-443c-a847-071d3a27c778",
   "metadata": {},
   "source": [
    "### Surprise"
   ]
  },
  {
   "cell_type": "code",
   "execution_count": null,
   "id": "a1ba5977-74cf-4032-8dfd-99782a819c68",
   "metadata": {},
   "outputs": [],
   "source": [
    "emotion = 'surprise'\n",
    "df_formated = emotion_df_formated(df_emo_answers, emotion) # subset 'surprise' rows\n",
    "df_formated_ans = df_formated.drop(['photo_id', 'ethnicity', 'sex','age', 'label', 'url', 'photoId'], axis=1)\n",
    "\n",
    "source = count_freq_labels(df_formated_ans, X=\"all\") \n",
    "title = 'Expcted label: '+ emotion + ' | n = '+ source['counts'].sum().astype(str)\n",
    "X, Y = 'percent:Q', 'emotion:N'\n",
    "w, h= 450, 200\n",
    "txs, ls, ts = 12, 11, 12\n",
    "\n",
    "\n",
    "chart_surprise = simple_per_bar(\n",
    "    source, title=title, X=X, Y=Y, \\\n",
    "    width=w, height=h,  emotion=emotion.capitalize(), \\\n",
    "    text_size = txs, label_size = ls, title_size=ts)\n",
    "\n",
    "chart_surprise.display(renderer='svg')"
   ]
  },
  {
   "cell_type": "code",
   "execution_count": null,
   "id": "80f1b1f9-d962-42c4-8f6c-fc5e2804c8ea",
   "metadata": {},
   "outputs": [],
   "source": [
    "chart_surprise_str = altair_saver.save(chart_surprise, fmt='svg')\n",
    "image_title.append(\"Images depicting 'surprise'\")\n",
    "svg_str.append(chart_surprise_str)"
   ]
  },
  {
   "cell_type": "markdown",
   "id": "8974025d-b554-4a19-803c-6f53bbbccc0a",
   "metadata": {},
   "source": [
    "### Happiness"
   ]
  },
  {
   "cell_type": "code",
   "execution_count": null,
   "id": "cc52f450-b99e-4731-9b1c-2c662ec42e41",
   "metadata": {},
   "outputs": [],
   "source": [
    "emotion = 'happiness'\n",
    "df_formated = emotion_df_formated(df_emo_answers, emotion) # subset 'happiness' rows\n",
    "df_formated_ans = df_formated.drop(['photo_id', 'ethnicity', 'sex','age', 'label', 'url', 'photoId'], axis=1)\n",
    "\n",
    "source = count_freq_labels(df_formated_ans, X=\"all\") \n",
    "title = 'Expcted label: '+ emotion + ' | n = '+ source['counts'].sum().astype(str)\n",
    "X, Y = 'percent:Q', 'emotion:N'\n",
    "w, h= 450, 200\n",
    "txs, ls, ts = 12, 11, 12\n",
    "\n",
    "\n",
    "chart_happiness = simple_per_bar(\n",
    "    source, title=title, X=X, Y=Y, \\\n",
    "    width=w, height=h,  emotion=emotion.capitalize(),\\\n",
    "    text_size = txs, label_size = ls, title_size=ts)\n",
    "\n",
    "chart_happiness.display(renderer='svg')"
   ]
  },
  {
   "cell_type": "code",
   "execution_count": null,
   "id": "b9b7592e-9ad0-40d0-97c7-1d88c65afea6",
   "metadata": {},
   "outputs": [],
   "source": [
    "chart_happiness_str = altair_saver.save(chart_happiness, fmt='svg')\n",
    "image_title.append(\"Images depicting 'happiness'\")\n",
    "svg_str.append(chart_happiness_str)"
   ]
  },
  {
   "cell_type": "markdown",
   "id": "69ee690d-ec25-457e-919d-39c507a2baff",
   "metadata": {},
   "source": [
    "### Sadness"
   ]
  },
  {
   "cell_type": "code",
   "execution_count": null,
   "id": "bf7402e9-5ac2-43e1-8fae-7ef95e20453c",
   "metadata": {},
   "outputs": [],
   "source": [
    "emotion = 'sadness'\n",
    "df_formated = emotion_df_formated(df_emo_answers, emotion) # subset 'sadnes' rows\n",
    "df_formated_ans = df_formated.drop(['photo_id', 'ethnicity', 'sex','age', 'label', 'url', 'photoId'], axis=1)\n",
    "\n",
    "source = count_freq_labels(df_formated_ans, X=\"all\") \n",
    "title = 'Expcted label: '+ emotion + ' | n = '+ source['counts'].sum().astype(str)\n",
    "X, Y = 'percent:Q', 'emotion:N'\n",
    "w, h= 450, 200\n",
    "txs, ls, ts = 12, 11, 12\n",
    "\n",
    "\n",
    "chart_sadness = simple_per_bar(\n",
    "    source, title=title, X=X, Y=Y, \\\n",
    "    width=w, height=h,  emotion=emotion.capitalize(),\\\n",
    "    text_size = txs, label_size = ls, title_size=ts)\n",
    "\n",
    "chart_sadness.display(renderer='svg')"
   ]
  },
  {
   "cell_type": "code",
   "execution_count": null,
   "id": "5015125c-4aa1-4503-b7ee-cff187da4a1a",
   "metadata": {},
   "outputs": [],
   "source": [
    "chart_sadness_str = altair_saver.save(chart_sadness, fmt='svg')\n",
    "image_title.append(\"Images depicting 'sadness'\")\n",
    "svg_str.append(chart_sadness_str)"
   ]
  },
  {
   "cell_type": "markdown",
   "id": "6f1cd91c-b687-424c-a7a3-55ddb3eef76e",
   "metadata": {},
   "source": [
    "### Uncertain"
   ]
  },
  {
   "cell_type": "code",
   "execution_count": null,
   "id": "009bcdbd-11a8-4100-ab1e-37aafea6e939",
   "metadata": {},
   "outputs": [],
   "source": [
    "emotion = 'uncertain'\n",
    "df_formated = emotion_df_formated(df_emo_answers, emotion) # subset 'uncertain' rows\n",
    "df_formated_ans = df_formated.drop(['photo_id', 'ethnicity', 'sex','age', 'label', 'url', 'photoId'], axis=1)\n",
    "\n",
    "source = count_freq_labels(df_formated_ans, X=\"all\") \n",
    "title = 'Expcted label: '+ emotion + ' | n = '+ source['counts'].sum().astype(str)\n",
    "X, Y = 'percent:Q', 'emotion:N'\n",
    "w, h= 450, 200\n",
    "txs, ls, ts = 12, 11, 12\n",
    "\n",
    "\n",
    "chart_uncertain = simple_per_bar(\n",
    "    source, title=title, X=X, Y=Y, \\\n",
    "    width=w, height=h,  emotion=emotion.capitalize(),\\\n",
    "    text_size = txs, label_size = ls, title_size=ts)\n",
    "\n",
    "chart_uncertain.display(renderer='svg')"
   ]
  },
  {
   "cell_type": "code",
   "execution_count": null,
   "id": "d00d1afd-fbde-4904-b4d0-081f1ccdaf93",
   "metadata": {},
   "outputs": [],
   "source": [
    "chart_uncertain_str = altair_saver.save(chart_uncertain, fmt='svg')\n",
    "image_title.append(\"Images depicting 'uncertain (unknown)'\")\n",
    "svg_str.append(chart_uncertain_str)"
   ]
  },
  {
   "cell_type": "markdown",
   "id": "b82d1a20-c357-4d93-932c-da8b524d4881",
   "metadata": {},
   "source": [
    "### Neutral"
   ]
  },
  {
   "cell_type": "code",
   "execution_count": null,
   "id": "077170f8-47eb-42ca-8c0a-cc4f9277bfc8",
   "metadata": {},
   "outputs": [],
   "source": [
    "emotion = 'neutral'\n",
    "df_formated = emotion_df_formated(df_emo_answers, emotion) # subset 'neutral' rows\n",
    "df_formated_ans = df_formated.drop(['photo_id', 'ethnicity', 'sex','age', 'label', 'url', 'photoId'], axis=1)\n",
    "\n",
    "source = count_freq_labels(df_formated_ans, X=\"all\") \n",
    "title = 'Expcted label: '+ emotion + ' | n = '+ source['counts'].sum().astype(str)\n",
    "X, Y = 'percent:Q', 'emotion:N'\n",
    "w, h= 450, 200\n",
    "txs, ls, ts = 12, 11, 12\n",
    "\n",
    "\n",
    "chart_neutral = simple_per_bar(\n",
    "    source, title=title, X=X, Y=Y, \\\n",
    "    width=w, height=h,  emotion=emotion.capitalize(),\\\n",
    "    text_size = txs, label_size = ls, title_size=ts)\n",
    "\n",
    "chart_neutral.display(renderer='svg')"
   ]
  },
  {
   "cell_type": "code",
   "execution_count": null,
   "id": "f5b9ae73-2a5b-443e-b0c4-924640814948",
   "metadata": {},
   "outputs": [],
   "source": [
    "chart_neutral_str = altair_saver.save(chart_neutral, fmt='svg')\n",
    "image_title.append(\"Images depicting 'neutral'\")\n",
    "svg_str.append(chart_neutral_str)"
   ]
  },
  {
   "cell_type": "markdown",
   "id": "fcacaab9-526b-45fa-b79c-719a15490b6d",
   "metadata": {},
   "source": [
    "## Most frequently used word for each emotion category (grouping pictures by expected-emotion), by ethnicity group"
   ]
  },
  {
   "cell_type": "code",
   "execution_count": null,
   "id": "c0ba0179-f3ed-4f1c-9f56-02bc59875874",
   "metadata": {},
   "outputs": [],
   "source": [
    "def emotion_df_formated_et(df_emo_answers, emotion_label, ethnicity):\n",
    "    \n",
    "    \"\"\"Returns df with metadata in long format, filtered by emotion and ethnicity\n",
    "    \n",
    "    Arguments:\n",
    "    df_emo_answers -- dataframe with participants answers only\n",
    "    emotion_label -- emotion label to filter out dataframe\n",
    "    ethnicity -- ethnicity group to filter our dataframe\n",
    "    \"\"\"\n",
    "    \n",
    "    df_emo_cat = df_emo_answers.copy() \n",
    "    df_emo_cat_t = df_emo_cat.T # transpose\n",
    "    df_emo_cat_t['photo_id'] = df_emo_cat_t.index # get index as col\n",
    "    df_emo_cat_t = df_emo_cat_t.reset_index(drop=True) # clean index\n",
    "    df_emo_cat_t_labels = pd.concat([df_emo_cat_t, df_labels], axis=1) # add metadata cols\n",
    "    df_label =  df_emo_cat_t_labels[(df_emo_cat_t_labels['label'] == emotion_label) & (df_emo_cat_t_labels['ethnicity'] == ethnicity)]\n",
    "    \n",
    "    return df_label"
   ]
  },
  {
   "cell_type": "code",
   "execution_count": null,
   "id": "d5b3cdff-f793-4598-b275-6074b7d71227",
   "metadata": {},
   "outputs": [],
   "source": [
    "def wrapper_chart_emotion(df_emo_answers, emotion, ethnicity):\n",
    "    \n",
    "    \"\"\"Convenience function to generate plots more easily.\n",
    "    It combines adding metadata, counting, and generetaing charts\n",
    "    Returns emotion categories percentages for an emotion and ethnicity group\"\"\"\n",
    "    \n",
    "    df = emotion_df_formated_et(df_emo_answers, emotion,  ethnicity) # subset 'anger' rows\n",
    "    df_formated_ans = df.drop(['photo_id', 'ethnicity', 'sex','age', 'label', 'url', 'photoId'], axis=1)\n",
    "    df_count = count_freq_labels(df_formated_ans) # count label freq\n",
    "    chart = simple_per_bar_concat(\n",
    "        df_count, \\\n",
    "        title='Expected label: '+ emotion + ' | n = '+ df_count['counts'].sum().astype(str), \\\n",
    "         emotion=emotion.capitalize())\n",
    "    \n",
    "    return chart"
   ]
  },
  {
   "cell_type": "markdown",
   "id": "a45e4186-30ed-4ed4-9697-f1d38f2ab888",
   "metadata": {},
   "source": [
    "### Anger"
   ]
  },
  {
   "cell_type": "code",
   "execution_count": null,
   "id": "805b75ed-b2fe-4f9f-8be9-210931954692",
   "metadata": {},
   "outputs": [],
   "source": [
    "chart_anger_bipoc = wrapper_chart_emotion(df_emo_answers, 'anger', 'bipoc')\n",
    "chart_anger_white = wrapper_chart_emotion(df_emo_answers, 'anger', 'white')\n",
    "\n",
    "chart_anger_layered =  (chart_anger_bipoc | chart_anger_white)\n",
    "\n",
    "chart_anger_layered.display(renderer='svg')"
   ]
  },
  {
   "cell_type": "code",
   "execution_count": null,
   "id": "45bb227c-57fc-4635-bab3-cec2b8c81bbf",
   "metadata": {},
   "outputs": [],
   "source": [
    "chart_anger_layered_str = altair_saver.save(chart_anger_layered, fmt='svg')\n",
    "image_title.append(\"'anger' by ethnicity\")\n",
    "svg_str.append(chart_anger_layered_str)"
   ]
  },
  {
   "cell_type": "markdown",
   "id": "8f3f51d7-3302-4e6f-a166-56c175c602db",
   "metadata": {},
   "source": [
    "### Disgust"
   ]
  },
  {
   "cell_type": "code",
   "execution_count": null,
   "id": "306da23a-29cf-4eb6-9081-5634afb23041",
   "metadata": {},
   "outputs": [],
   "source": [
    "chart_disgust_bipoc = wrapper_chart_emotion(df_emo_answers, 'disgust', 'bipoc')\n",
    "chart_disgust_white = wrapper_chart_emotion(df_emo_answers, 'disgust', 'white')\n",
    "\n",
    "chart_disgust_layered =  (chart_disgust_bipoc | chart_disgust_white)\n",
    "\n",
    "chart_disgust_layered.display(renderer='svg')"
   ]
  },
  {
   "cell_type": "code",
   "execution_count": null,
   "id": "99b71283-a251-4c49-8d55-01decedaa9a7",
   "metadata": {},
   "outputs": [],
   "source": [
    "chart_disgust_layered_str = altair_saver.save(chart_disgust_layered, fmt='svg')\n",
    "image_title.append(\"'disgust' by ethnicity\")\n",
    "svg_str.append(chart_disgust_layered_str)"
   ]
  },
  {
   "cell_type": "markdown",
   "id": "cd6d8120-f04a-4e5b-a323-6afda22e8447",
   "metadata": {},
   "source": [
    "### Fear"
   ]
  },
  {
   "cell_type": "code",
   "execution_count": null,
   "id": "243e367e-0733-425d-9274-1142990e18f4",
   "metadata": {},
   "outputs": [],
   "source": [
    "chart_fear_bipoc = wrapper_chart_emotion(df_emo_answers, 'fear', 'bipoc')\n",
    "chart_fear_white = wrapper_chart_emotion(df_emo_answers, 'fear', 'white')\n",
    "\n",
    "chart_fear_layered =  (chart_fear_bipoc | chart_fear_white)\n",
    "\n",
    "chart_fear_layered.display(renderer='svg')"
   ]
  },
  {
   "cell_type": "code",
   "execution_count": null,
   "id": "63a969fb-0c46-46be-8286-992f6ba65751",
   "metadata": {},
   "outputs": [],
   "source": [
    "chart_fear_layered_str = altair_saver.save(chart_fear_layered, fmt='svg')\n",
    "image_title.append(\"'fear' by ethnicity\")\n",
    "svg_str.append(chart_fear_layered_str)"
   ]
  },
  {
   "cell_type": "markdown",
   "id": "1adfd923-90a4-4971-b634-9a4355a890d2",
   "metadata": {},
   "source": [
    "### Surprise"
   ]
  },
  {
   "cell_type": "code",
   "execution_count": null,
   "id": "95cc936a-5a86-4cb0-943a-2fe9256f6323",
   "metadata": {},
   "outputs": [],
   "source": [
    "chart_surprise_bipoc= wrapper_chart_emotion(df_emo_answers, 'surprise', 'bipoc')\n",
    "chart_surprise_white = wrapper_chart_emotion(df_emo_answers, 'surprise', 'white')\n",
    "\n",
    "chart_surprise_layered =  (chart_surprise_bipoc | chart_surprise_white)\n",
    "\n",
    "chart_surprise_layered.display(renderer='svg')"
   ]
  },
  {
   "cell_type": "code",
   "execution_count": null,
   "id": "a3c93996-7ae7-4865-828c-1edb43504507",
   "metadata": {},
   "outputs": [],
   "source": [
    "chart_surprise_layered_str = altair_saver.save(chart_surprise_layered, fmt='svg')\n",
    "image_title.append(\"'surprise' by ethnicity\")\n",
    "svg_str.append(chart_surprise_layered_str)"
   ]
  },
  {
   "cell_type": "markdown",
   "id": "ae9ac560-0612-46e4-b4db-4ae2448861c1",
   "metadata": {},
   "source": [
    "### Happiness"
   ]
  },
  {
   "cell_type": "code",
   "execution_count": null,
   "id": "dd6c3cad-f29e-484c-bb29-b8d3d7ba089c",
   "metadata": {},
   "outputs": [],
   "source": [
    "chart_happiness_bipoc = wrapper_chart_emotion(df_emo_answers, 'happiness', 'bipoc')\n",
    "chart_happiness_white = wrapper_chart_emotion(df_emo_answers, 'happiness', 'white')\n",
    "\n",
    "chart_happiness_layered =  (chart_happiness_bipoc | chart_happiness_white)\n",
    "\n",
    "chart_happiness_layered.display(renderer='svg')"
   ]
  },
  {
   "cell_type": "code",
   "execution_count": null,
   "id": "a46cd93c-bf34-4ce3-b109-18f9259cdd75",
   "metadata": {},
   "outputs": [],
   "source": [
    "chart_happiness_layered_str = altair_saver.save(chart_happiness_layered, fmt='svg')\n",
    "image_title.append(\"'happiness' by ethnicity\")\n",
    "svg_str.append(chart_happiness_layered_str)"
   ]
  },
  {
   "cell_type": "markdown",
   "id": "7bbeee4f-9005-41f2-8911-a55a102248cf",
   "metadata": {},
   "source": [
    "### Sadness"
   ]
  },
  {
   "cell_type": "code",
   "execution_count": null,
   "id": "acd36892-1f06-4c3f-b87e-8057dfa73b17",
   "metadata": {},
   "outputs": [],
   "source": [
    "chart_sadness_bipoc = wrapper_chart_emotion(df_emo_answers, 'sadness', 'bipoc')\n",
    "chart_sadness_white = wrapper_chart_emotion(df_emo_answers, 'sadness', 'white')\n",
    "\n",
    "chart_sadness_layered =  (chart_sadness_bipoc | chart_sadness_white)\n",
    "\n",
    "chart_sadness_layered.display(renderer='svg')"
   ]
  },
  {
   "cell_type": "code",
   "execution_count": null,
   "id": "ae842cd1-ed22-44fc-9c6d-0a7b3b348be9",
   "metadata": {},
   "outputs": [],
   "source": [
    "chart_sadness_layered_str = altair_saver.save(chart_sadness_layered, fmt='svg')\n",
    "image_title.append(\"'sadness' by ethnicity\")\n",
    "svg_str.append(chart_sadness_layered_str)"
   ]
  },
  {
   "cell_type": "markdown",
   "id": "eabf90d5-a394-4076-9ded-a32a45e3b6cf",
   "metadata": {},
   "source": [
    "### Neutral"
   ]
  },
  {
   "cell_type": "code",
   "execution_count": null,
   "id": "b602ca74-57cc-4ab3-ab49-ae3e348e9303",
   "metadata": {},
   "outputs": [],
   "source": [
    "chart_neutral_bipoc = wrapper_chart_emotion(df_emo_answers, 'neutral', 'bipoc')\n",
    "chart_neutral_white = wrapper_chart_emotion(df_emo_answers, 'neutral', 'white')\n",
    "\n",
    "chart_neutral_layered =  (chart_neutral_bipoc | chart_neutral_white)\n",
    "\n",
    "chart_neutral_layered.display(renderer='svg')"
   ]
  },
  {
   "cell_type": "code",
   "execution_count": null,
   "id": "874a6b3a-0216-4172-b000-5a663fad837c",
   "metadata": {},
   "outputs": [],
   "source": [
    "chart_neutral_layered_str = altair_saver.save(chart_neutral_layered, fmt='svg')\n",
    "image_title.append(\"'neutral' by ethnicity\")\n",
    "svg_str.append(chart_neutral_layered_str)"
   ]
  },
  {
   "cell_type": "markdown",
   "id": "2b68ed8a-dbcf-443b-a286-785f9f4a4931",
   "metadata": {},
   "source": [
    "### Uncertain/Other"
   ]
  },
  {
   "cell_type": "code",
   "execution_count": null,
   "id": "130a3b63-5062-4fb7-85b1-6edd7819001e",
   "metadata": {},
   "outputs": [],
   "source": [
    "chart_uncertain_bipoc = wrapper_chart_emotion(df_emo_answers, 'uncertain', 'bipoc')\n",
    "chart_uncertain_white = wrapper_chart_emotion(df_emo_answers, 'uncertain', 'white')\n",
    "\n",
    "chart_uncertain_layered =  (chart_uncertain_bipoc | chart_uncertain_white)\n",
    "\n",
    "chart_uncertain_layered.display(renderer='svg')"
   ]
  },
  {
   "cell_type": "code",
   "execution_count": null,
   "id": "1220e708-99b2-45c0-8eca-408b5f6276dc",
   "metadata": {},
   "outputs": [],
   "source": [
    "chart_uncertain_layered_str = altair_saver.save(chart_uncertain_layered, fmt='svg')\n",
    "image_title.append(\"'uncertain' by ethnicity\")\n",
    "svg_str.append(chart_uncertain_layered_str)"
   ]
  },
  {
   "cell_type": "markdown",
   "id": "e133baab-5dc9-4f9d-a15a-54311ba4670b",
   "metadata": {},
   "source": [
    "# Emotion percentages as feature vectors"
   ]
  },
  {
   "cell_type": "code",
   "execution_count": null,
   "id": "495f307c-9173-444d-b3d0-b110778c086b",
   "metadata": {},
   "outputs": [],
   "source": [
    "emotion_words_list.remove('other')"
   ]
  },
  {
   "cell_type": "code",
   "execution_count": null,
   "id": "48af6bff-bb49-4436-b40d-ade99d781300",
   "metadata": {},
   "outputs": [],
   "source": [
    "# placeholder dataframe\n",
    "df_emo_features = pd.DataFrame(columns = emotion_words_list) \n",
    "\n",
    "# add key-ids\n",
    "df_emo_features.insert(loc=0, column='photo_id', value=df_emo_answers.columns) \n",
    "\n",
    "df_emo_answers = df.loc[:, 'Q2.1':'Q195.1'] # subset photos"
   ]
  },
  {
   "cell_type": "code",
   "execution_count": null,
   "id": "d8b9d146-04aa-41fa-bf81-8a54b6e0af8f",
   "metadata": {},
   "outputs": [],
   "source": [
    "def fill_in_emotion_vectors(df_emo_answers, emotion_words_list, fill='counts'):\n",
    "    \n",
    "    \"\"\"Returns dataframe with emotion labels as vector values and metadata\"\"\"\n",
    "    \n",
    "    # placeholder dataframe\n",
    "    df_emo_features = pd.DataFrame(columns = emotion_words_list) \n",
    "    # add key-ids\n",
    "    df_emo_features.insert(loc=0, column='photo_id', value=df_emo_answers.columns) \n",
    "    \n",
    "    for emo in range(0, len(emotion_words_list)):\n",
    "        \n",
    "        emotion = emotion_words_list[emo] # get emotion word\n",
    "        df_ans = emotion_df_formated(df_emo_answers, emotion) # ans for all pics of emo-word\n",
    "        photo_id_list = df_ans['photo_id'].tolist() # photo ids for the emotion word\n",
    "        splited_photo_id = np.array_split(photo_id_list, 24) # photo_id_list as an array \n",
    "        \n",
    "        for ids in range(0, len(splited_photo_id)):\n",
    "            photo_id = splited_photo_id[ids]  \n",
    "            df_single = df_ans[df_ans['photo_id'].isin(photo_id)] # get row for nth photo\n",
    "            df_emotion_ans = df_single.drop(['photo_id', 'ethnicity', 'sex', \\\n",
    "                                             'age', 'label', 'url', 'photoId'], axis=1) # clean up for calculation\n",
    "            source = count_freq_labels(df_emotion_ans, X=\"all\") # compute vector-values\n",
    "            source = source[[fill, 'emotion']].T\n",
    "            source.columns = source.iloc[1].str.lower() # emotion words as cols\n",
    "            source.drop('emotion', axis=0, inplace=True) # clean up emotion row\n",
    "            source.reset_index(drop=True, inplace=True) # clean up index\n",
    "            source.columns.name = None\n",
    "            photo_id_str = photo_id[0] # photo id as str\n",
    "            source.insert(0, 'photo_id', photo_id_str) # photo id as col\n",
    "            # set photo id as col for easier manipulation\n",
    "            df_emo_features = df_emo_features.set_index('photo_id') \n",
    "            # fill in vectors where the value is available\n",
    "            df_emo_features.loc[photo_id_str] = pd.Series(source.T.to_dict()[0])\n",
    "            \n",
    "            df_emo_features['photo_id'] = df_emo_features.index # index back to column\n",
    "            df_emo_features.index.name = None \n",
    "            df_emo_features.reset_index(drop=True, inplace=True) # clean up index\n",
    "    \n",
    "    return df_emo_features "
   ]
  },
  {
   "cell_type": "code",
   "execution_count": null,
   "id": "6cc669d9-0203-4777-96d4-34dfd1360be4",
   "metadata": {},
   "outputs": [],
   "source": [
    "df_emo_counts = fill_in_emotion_vectors(df_emo_answers, emotion_words_list, fill='counts')\n",
    "# df_emo_counts = df_emo_counts.fillna(0) # replace NAs with 0\n",
    "df_emo_counts = pd.concat([df_emo_counts, df_labels], axis=1) # concat metadata\n",
    "df_emo_counts.to_csv('../clean_data_mturk/forced_choice_mturk_count_emotions.csv', index=False)"
   ]
  },
  {
   "cell_type": "code",
   "execution_count": null,
   "id": "f0d21a4a-9eb8-4d7f-91e9-3c1223f98936",
   "metadata": {},
   "outputs": [],
   "source": [
    "df_emo_vectors = fill_in_emotion_vectors(df_emo_answers, emotion_words_list, fill='percent')\n",
    "df_emo_vectors = df_emo_vectors.fillna(0)\n",
    "df_emo_vectors = pd.concat([df_emo_vectors, df_labels], axis=1) # concat metadata\n",
    "df_emo_vectors.to_csv('../clean_data_mturk/forced_choice_mturk_vectors.csv', index=False)"
   ]
  },
  {
   "cell_type": "markdown",
   "id": "fb412247-cc0d-4a54-b10e-f27190cb06c2",
   "metadata": {},
   "source": [
    "# Clustering"
   ]
  },
  {
   "cell_type": "code",
   "execution_count": null,
   "id": "dd36518d-9999-4908-92b2-39e450686983",
   "metadata": {},
   "outputs": [],
   "source": [
    "from kneed import KneeLocator\n",
    "from sklearn.cluster import KMeans\n",
    "from sklearn.metrics import silhouette_score\n",
    "from sklearn import preprocessing as pp"
   ]
  },
  {
   "cell_type": "markdown",
   "id": "b0e08727-f7de-4d84-99c8-756929e4cbc1",
   "metadata": {},
   "source": [
    "## K means"
   ]
  },
  {
   "cell_type": "markdown",
   "id": "8bbb8425-32a6-4018-8390-d27abbfe9647",
   "metadata": {},
   "source": [
    "### Standarize feature matrix X"
   ]
  },
  {
   "cell_type": "code",
   "execution_count": null,
   "id": "54d02d3a-b124-47ca-a6c8-f666819c5265",
   "metadata": {},
   "outputs": [],
   "source": [
    "X = df_emo_vectors.copy().drop(['photo_id', 'ethnicity', 'sex', \\\n",
    "                                   'age', 'label', 'url', 'photoId'], axis=1)\n",
    "\n",
    "features = X.columns\n",
    "sX = pp.MinMaxScaler(copy=True)\n",
    "X.loc[:,features] = sX.fit_transform(X[features])\n",
    "\n",
    "X.describe() # mean  = 0, SD =1"
   ]
  },
  {
   "cell_type": "markdown",
   "id": "137fb4fd-28b3-42db-b816-2e6a23cec171",
   "metadata": {},
   "source": [
    "### K means evaluation to decide on number of clusters"
   ]
  },
  {
   "cell_type": "code",
   "execution_count": null,
   "id": "8a484fbf-c9d3-4edb-b411-d68a5874c3c6",
   "metadata": {},
   "outputs": [],
   "source": [
    "kmeans_kwargs = {\n",
    "    \"init\": \"random\",\n",
    "    \"n_init\": 10,\n",
    "    \"max_iter\": 300,\n",
    "    \"random_state\": 42,\n",
    "}\n",
    "\n",
    "# A list holds the SSE values for each k\n",
    "sse = []\n",
    "for k in range(1, 11):\n",
    "    kmeans = KMeans(n_clusters=k, **kmeans_kwargs)\n",
    "    kmeans.fit(X)\n",
    "    sse.append(kmeans.inertia_)"
   ]
  },
  {
   "cell_type": "code",
   "execution_count": null,
   "id": "56f34b40-7c9e-4855-87ba-83957f5f118e",
   "metadata": {},
   "outputs": [],
   "source": [
    "source = pd.DataFrame({'y': sse, 'x': range(1, 11)})"
   ]
  },
  {
   "cell_type": "code",
   "execution_count": null,
   "id": "ebb6c26b-2a58-4114-979c-9fea96ac6753",
   "metadata": {},
   "outputs": [],
   "source": [
    "chart_elbow = alt.Chart(source).mark_line().encode(\n",
    "    alt.X('x:Q', title='Number of clusters'), \n",
    "    alt.Y('y:Q', title='SSE'))"
   ]
  },
  {
   "cell_type": "code",
   "execution_count": null,
   "id": "5f8af23e-83d1-44a0-8137-853062807780",
   "metadata": {},
   "outputs": [],
   "source": [
    "kl = KneeLocator(\n",
    "    range(1, 11), sse, curve=\"convex\", direction=\"decreasing\"\n",
    ")\n",
    "\n",
    "kl.elbow"
   ]
  },
  {
   "cell_type": "code",
   "execution_count": null,
   "id": "4be5de81-ecfc-4b3d-a2cb-232660ffc6a6",
   "metadata": {},
   "outputs": [],
   "source": [
    "# A list holds the silhouette coefficients for each k\n",
    "silhouette_coefficients = []\n",
    "\n",
    "# Notice you start at 2 clusters for silhouette coefficient\n",
    "for k in range(2, 11):\n",
    "    kmeans = KMeans(n_clusters=k, **kmeans_kwargs)\n",
    "    kmeans.fit(X)\n",
    "    score = silhouette_score(X, kmeans.labels_)\n",
    "    silhouette_coefficients.append(score)"
   ]
  },
  {
   "cell_type": "code",
   "execution_count": null,
   "id": "abc48cb6-2d6e-40f0-98eb-4c107ea16f8e",
   "metadata": {},
   "outputs": [],
   "source": [
    "source = pd.DataFrame({'y': silhouette_coefficients, 'x': range(2, 11)})"
   ]
  },
  {
   "cell_type": "code",
   "execution_count": null,
   "id": "a2bcea8b-02d2-4d67-8058-0ee6da037094",
   "metadata": {},
   "outputs": [],
   "source": [
    "chart_silhouette = alt.Chart(source).mark_line().encode(\n",
    "    alt.X('x:Q', title='Number of clusters'), \n",
    "    alt.Y('y:Q', title='Silhouette coefficients'))"
   ]
  },
  {
   "cell_type": "code",
   "execution_count": null,
   "id": "bbcfc600-879e-4dfc-b887-d1e7c1eafcf7",
   "metadata": {},
   "outputs": [],
   "source": [
    "kmeans_eval = (chart_silhouette | chart_elbow)"
   ]
  },
  {
   "cell_type": "code",
   "execution_count": null,
   "id": "c5ef2d59-ed6c-4b11-9789-151cfd6545de",
   "metadata": {},
   "outputs": [],
   "source": [
    "kmeans_eval"
   ]
  },
  {
   "cell_type": "code",
   "execution_count": null,
   "id": "92598c61-3fdd-498e-aced-f78245cf5d58",
   "metadata": {},
   "outputs": [],
   "source": [
    "kmeans_eval_str = altair_saver.save(kmeans_eval, fmt='svg')\n",
    "image_title.append(\"K-means evaluation\")\n",
    "svg_str.append(kmeans_eval_str)"
   ]
  },
  {
   "cell_type": "markdown",
   "id": "e223c6e3-7ca4-4843-a560-7790ff728dba",
   "metadata": {},
   "source": [
    "**K means evaluation**: \n",
    "\n",
    "- *Silhoutte coefficients*: increase until 6 clusters; then there is little gain \n",
    "- *SSE*: the elbow is at 5, but moving to 6 grants signficant SSE reduction\n",
    "\n",
    "Combining both criteria, *6 groups seems reasonable*"
   ]
  },
  {
   "cell_type": "markdown",
   "id": "eb51eb19-9857-4963-a465-980e89e3f587",
   "metadata": {},
   "source": [
    "### K-means clusters"
   ]
  },
  {
   "cell_type": "markdown",
   "id": "1fe85d5b-1357-4791-84bb-0328e5061585",
   "metadata": {},
   "source": [
    "**K-means clustering is run only once here, since results will change with each round. The clusters are plot at the end of this section**"
   ]
  },
  {
   "cell_type": "code",
   "execution_count": null,
   "id": "06ce65cd-4234-4418-bbda-42fd69d4a00b",
   "metadata": {},
   "outputs": [],
   "source": [
    "# def k_means(n_clusters=3, n_inits=10, max_iter=500):\n",
    "    \n",
    "#     '''kmeans for a single run'''\n",
    "    \n",
    "#     kmeans = KMeans(\n",
    "#     init=\"random\",\n",
    "#     n_clusters=n_clusters,\n",
    "#     n_init=n_inits,\n",
    "#     max_iter=max_iter,\n",
    "#     random_state=42)\n",
    "#     kmeans.fit(X)\n",
    "    \n",
    "#     return kmeans"
   ]
  },
  {
   "cell_type": "code",
   "execution_count": null,
   "id": "998d6f7e-1b97-4b12-9625-9a74776b232d",
   "metadata": {},
   "outputs": [],
   "source": [
    "# k_means_run = k_means(n_clusters=6)"
   ]
  },
  {
   "cell_type": "code",
   "execution_count": null,
   "id": "b26298ec-32fb-48ca-805e-c04f927b8c07",
   "metadata": {},
   "outputs": [],
   "source": [
    "# df_labels['clusters'] = k_means_run.labels_ ## add clusters id \n",
    "\n",
    "# dfs_kmeans = [pd.DataFrame(y) for x, y in df_labels.groupby('clusters', as_index=False)] ## create a Df for each cluster\n",
    "\n",
    "# # add X, Y coordinates for photos in chart \n",
    "# for i in range(0, len(dfs_kmeans)):\n",
    "#     num_items = len(dfs_kmeans[i])\n",
    "#     dfs_kmeans[i]['x'] = np.linspace(0.1, 3.0, num=num_items)\n",
    "#     dfs_kmeans[i]['y'] = np.linspace(0.1, 3.0, num=num_items)"
   ]
  },
  {
   "cell_type": "code",
   "execution_count": null,
   "id": "3de4d48f-c125-4f99-9089-e7d2746bc32d",
   "metadata": {},
   "outputs": [],
   "source": [
    "# def grid_photos(nx=6, ny=6, cluster=0,width=600, height=600, title='title'):\n",
    "    \n",
    "#     nx, ny = (nx, ny)\n",
    "#     x = np.linspace(0, 1, nx)\n",
    "#     y = np.linspace(0, 1, ny)\n",
    "#     xv, yv = np.meshgrid(x, y)\n",
    "    \n",
    "#     dfs_kmeans[cluster]['x'] = xv.ravel()[0:len(dfs_kmeans[cluster])]\n",
    "#     dfs_kmeans[cluster]['y'] = yv.ravel()[0:len(dfs_kmeans[cluster])]\n",
    "    \n",
    "#     chart = alt.Chart(dfs_kmeans[cluster], title=title).mark_image(\n",
    "#         width=50,\n",
    "#         height=50\n",
    "#     ).encode(\n",
    "#         alt.X('x', axis=None),\n",
    "#         alt.Y('y', axis=None),\n",
    "#         url='url'\n",
    "#     )\n",
    "    \n",
    "#     text = chart.mark_text(\n",
    "#     align='center',\n",
    "#     baseline='bottom',\n",
    "#     yOffset = -25\n",
    "#     #dx=3,  # Nudges text to right so it doesn't appear on top of the bar\n",
    "#     ).encode(\n",
    "#         alt.Text('label'),\n",
    "#         color=alt.Color('label',\n",
    "#                         scale=alt.Scale(\n",
    "#                             domain=emotion_words_list,\n",
    "#                             range=['#ff4444', '#4c809c', '#9ae354', '#ffc286', '#FFA500', '#bd6499', '#c41cac', '#888db5']))\n",
    "#     )\n",
    "    \n",
    "#     return (chart + text).properties(width=width, height=height)"
   ]
  },
  {
   "cell_type": "code",
   "execution_count": null,
   "id": "305aef5d-17fe-487b-be52-6c75cb526710",
   "metadata": {},
   "outputs": [],
   "source": [
    "# dims_clusters = []\n",
    "\n",
    "# for i in range (0, 6):\n",
    "#     dims_clusters.append(dfs_kmeans[i].shape[0])\n",
    "\n",
    "    \n",
    "# dims_clusters"
   ]
  },
  {
   "cell_type": "code",
   "execution_count": null,
   "id": "64fb063e-d461-4eec-a7b8-f99425b70b8b",
   "metadata": {},
   "outputs": [],
   "source": [
    "# cluster_0 = grid_photos(nx=5, ny=5, cluster=0, width=400, height=400, title='Cluster 1')\n",
    "# cluster_1 = grid_photos(nx=6, ny=6, cluster=1, width=400, height=400, title='Cluster 2')\n",
    "# cluster_2 = grid_photos(nx=7, ny=7, cluster=2, width=400, height=400, title='Cluster 3')\n",
    "# cluster_3 = grid_photos(nx=5, ny=5, cluster=3, width=400, height=400, title='Cluster 4')\n",
    "# cluster_4 = grid_photos(nx=6, ny=6, cluster=4, width=400, height=400, title='Cluster 5')\n",
    "# cluster_5 = grid_photos(nx=7, ny=7, cluster=5, width=400, height=400, title='Cluster 6')"
   ]
  },
  {
   "cell_type": "code",
   "execution_count": null,
   "id": "2a65293e-77a8-468c-b3b0-86bf7c0d195f",
   "metadata": {},
   "outputs": [],
   "source": [
    "# k_means_clusters = ((cluster_0 | cluster_1) & \\\n",
    "# (cluster_2 | cluster_3) & \\\n",
    "# (cluster_4 | cluster_5)).configure_axis(\n",
    "#         grid=False\n",
    "#     ).configure_view(\n",
    "#         strokeOpacity=0\n",
    "#     ).configure_concat(\n",
    "#     spacing=50\n",
    "# )"
   ]
  },
  {
   "cell_type": "code",
   "execution_count": null,
   "id": "96fae3df-747f-4481-9d40-b7a0a963a0c4",
   "metadata": {},
   "outputs": [],
   "source": [
    "# k_means_clusters.display(renderer='svg')"
   ]
  },
  {
   "cell_type": "code",
   "execution_count": null,
   "id": "87e5ae89-19ec-4905-9ede-30c81791d32c",
   "metadata": {},
   "outputs": [],
   "source": [
    "# save(k_means_clusters, \"../../emotions_dashboard/data/k_means_forced_choice_6_mturk.png\")\n",
    "# save(k_means_clusters, \"../data_mturk/k_means_forced_choice_6_mturk.png\")"
   ]
  },
  {
   "cell_type": "code",
   "execution_count": null,
   "id": "a1c94ae2-059d-411a-854d-9a7dd55de831",
   "metadata": {},
   "outputs": [],
   "source": [
    "Image(filename='../data_mturk/k_means_forced_choice_6_mturk.png') "
   ]
  },
  {
   "cell_type": "markdown",
   "id": "36c6d634-dc1d-4215-9535-92ad4004010b",
   "metadata": {},
   "source": [
    "# Dataframe for dashboard"
   ]
  },
  {
   "cell_type": "code",
   "execution_count": null,
   "id": "f113ab42-75cd-4df9-8bfb-7f2c5236bd34",
   "metadata": {},
   "outputs": [],
   "source": [
    "images_strings = pd.DataFrame({'image_title': image_title, 'svg': svg_str})"
   ]
  },
  {
   "cell_type": "code",
   "execution_count": null,
   "id": "58f2eb78-8702-4639-9a41-180ce1087035",
   "metadata": {},
   "outputs": [],
   "source": [
    "images_strings.to_csv('../clean_data_mturk/forced_choice_svg_strings_mturk.csv', index=False)\n",
    "images_strings.to_csv('../../emotions_dashboard/data/forced_choice_svg_strings_mturk.csv', index=False)"
   ]
  },
  {
   "cell_type": "code",
   "execution_count": null,
   "id": "8db8334b-1230-4676-8a12-b9476744a287",
   "metadata": {},
   "outputs": [],
   "source": [
    "df_svg = pd.read_csv('../clean_data_mturk/forced_choice_svg_strings_mturk.csv')"
   ]
  },
  {
   "cell_type": "code",
   "execution_count": null,
   "id": "86bb5a77-b7ce-4c41-aea3-9a5e8e50762c",
   "metadata": {},
   "outputs": [],
   "source": [
    "df_svg['image_title']"
   ]
  }
 ],
 "metadata": {
  "kernelspec": {
   "display_name": "Python 3 (ipykernel)",
   "language": "python",
   "name": "python3"
  },
  "language_info": {
   "codemirror_mode": {
    "name": "ipython",
    "version": 3
   },
   "file_extension": ".py",
   "mimetype": "text/x-python",
   "name": "python",
   "nbconvert_exporter": "python",
   "pygments_lexer": "ipython3",
   "version": "3.9.7"
  }
 },
 "nbformat": 4,
 "nbformat_minor": 5
}
