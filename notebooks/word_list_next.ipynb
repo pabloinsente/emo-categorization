{
 "cells": [
  {
   "cell_type": "code",
   "execution_count": 1,
   "id": "af52cca3-4c24-4170-bea8-bf8a64b76dee",
   "metadata": {},
   "outputs": [],
   "source": [
    "import pandas as pd"
   ]
  },
  {
   "cell_type": "code",
   "execution_count": 4,
   "id": "53b321ba-9875-46dc-9ebd-df4e93f1f04e",
   "metadata": {},
   "outputs": [],
   "source": [
    "df = pd.read_csv('../clean_data/free_choice_emotion_uw_students.csv')"
   ]
  },
  {
   "cell_type": "code",
   "execution_count": 8,
   "id": "7a79fe6f-6ad0-41b9-900c-9e7e54b8faa2",
   "metadata": {},
   "outputs": [],
   "source": [
    "def formating_words(df, len_words=1, len_letters=2):\n",
    "    df_stack = df.stack().reset_index(drop=True) # stack as series\n",
    "    df_stack = df_stack.to_frame(name='emotion') # as DF\n",
    "    df_stack['emotion'] = df_stack['emotion'].str.strip() # remove blank spaces\n",
    "    df_stack['emotion'] = df_stack['emotion'].str.lower() # as lower case\n",
    "    df_stack['emotion'] = df_stack['emotion'].replace({'na':'none'}) \n",
    "    df_stack['len_words'] = df_stack['emotion'].str.split().apply(len) # cnt number of words\n",
    "    df_stack['len_letters'] = df_stack['emotion'].apply(len) # cont number of letters\n",
    "    # get df with single words of 3 or more letters\n",
    "    df_stack_single_word = df_stack[(df_stack['len_words'] == len_words) & (df_stack['len_letters'] > len_letters)] \n",
    "    return df_stack_single_word"
   ]
  },
  {
   "cell_type": "code",
   "execution_count": 9,
   "id": "b3e472d3-d498-4184-a054-d4a82ecfe48a",
   "metadata": {},
   "outputs": [],
   "source": [
    "def count_freq_labels(df, col):\n",
    "    df_counts = df[col].value_counts() # count word frequency \n",
    "    df_counts = df_counts.to_frame('counts') # get value_counts as df\n",
    "    df_counts['emotion'] = df_counts.index # get index as col\n",
    "    df_counts = df_counts.reset_index(drop=True) # clean index\n",
    "    df_counts['percent'] = df_counts['counts'] / df_counts['counts'].sum() # compute percentage\n",
    "    return df_counts"
   ]
  },
  {
   "cell_type": "code",
   "execution_count": 10,
   "id": "e29f767c-3388-4e85-80d7-32a42faf0322",
   "metadata": {},
   "outputs": [],
   "source": [
    "df_emo_answers = df.loc[:, 'Q2.1_1':'Q195.1_4'] # get cols with words only"
   ]
  },
  {
   "cell_type": "code",
   "execution_count": 11,
   "id": "b3342cdd-f464-4ec8-85a8-ca357d4ffbf9",
   "metadata": {},
   "outputs": [],
   "source": [
    "df_stack_single_word = formating_words(df_emo_answers)"
   ]
  },
  {
   "cell_type": "code",
   "execution_count": 12,
   "id": "d70ce0e3-435b-4ecd-bf03-787848cb5b2c",
   "metadata": {},
   "outputs": [],
   "source": [
    "df_emo_overall = count_freq_labels(df_stack_single_word, 'emotion')"
   ]
  },
  {
   "cell_type": "code",
   "execution_count": 19,
   "id": "ef3d5753-a594-4958-bf5c-ebc76177af2c",
   "metadata": {},
   "outputs": [],
   "source": [
    "df_emo_overall[df_emo_overall['counts'] > 10]['emotion'].to_csv('../clean_data/word_list_next.csv', index=False)"
   ]
  }
 ],
 "metadata": {
  "kernelspec": {
   "display_name": "Python 3 (ipykernel)",
   "language": "python",
   "name": "python3"
  },
  "language_info": {
   "codemirror_mode": {
    "name": "ipython",
    "version": 3
   },
   "file_extension": ".py",
   "mimetype": "text/x-python",
   "name": "python",
   "nbconvert_exporter": "python",
   "pygments_lexer": "ipython3",
   "version": "3.9.7"
  }
 },
 "nbformat": 4,
 "nbformat_minor": 5
}
