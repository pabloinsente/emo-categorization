{
 "cells": [
  {
   "cell_type": "code",
   "execution_count": 198,
   "id": "ffd5fb88-26c9-4781-b45a-408d2b3cf8f8",
   "metadata": {},
   "outputs": [],
   "source": [
    "import pandas as pd\n",
    "import numpy as np\n",
    "import altair as alt\n",
    "import altair_saver"
   ]
  },
  {
   "cell_type": "markdown",
   "id": "d853dbc9-91a5-430c-b601-41594bb65c54",
   "metadata": {},
   "source": [
    "## Data ingestion"
   ]
  },
  {
   "cell_type": "code",
   "execution_count": 199,
   "id": "be8df92d-3e76-4141-89c4-daee0e6154ca",
   "metadata": {},
   "outputs": [],
   "source": [
    "df = pd.read_csv('../data/emotion_free_choice_uw_students.csv')\n",
    "df_label = pd.read_csv('../data/emotion_labels.csv')"
   ]
  },
  {
   "cell_type": "code",
   "execution_count": 200,
   "id": "d4effccc-1de0-45d6-ad68-44e790f74042",
   "metadata": {},
   "outputs": [],
   "source": [
    "df_label['url'] = df_label['url'].astype(str)"
   ]
  },
  {
   "cell_type": "code",
   "execution_count": 201,
   "id": "62f7d6c8-0b0a-4a54-8377-8582815e52b0",
   "metadata": {},
   "outputs": [],
   "source": [
    "# replicate rows by 4 to match with free responses\n",
    "df_labels = pd.DataFrame(np.repeat(df_label.values, 4, axis=0))\n",
    "df_labels.columns = df_label.columns"
   ]
  },
  {
   "cell_type": "code",
   "execution_count": 202,
   "id": "49d09f59-548a-4cd0-8a9d-f8fe8e78390a",
   "metadata": {},
   "outputs": [],
   "source": [
    "df_labels.to_csv('../data/emotion_labels_free_choice.csv', index=False)"
   ]
  },
  {
   "cell_type": "code",
   "execution_count": 203,
   "id": "d2c42396-5dca-4f13-a299-64626ca3f01c",
   "metadata": {},
   "outputs": [
    {
     "name": "stdout",
     "output_type": "stream",
     "text": [
      "<class 'pandas.core.frame.DataFrame'>\n",
      "RangeIndex: 101 entries, 0 to 100\n",
      "Columns: 802 entries, StartDate to Q195.1_4\n",
      "dtypes: object(802)\n",
      "memory usage: 633.0+ KB\n"
     ]
    }
   ],
   "source": [
    "df.info()"
   ]
  },
  {
   "cell_type": "code",
   "execution_count": 204,
   "id": "bdfb7630-fc0f-4f70-947b-fd6b2f5dd1f5",
   "metadata": {},
   "outputs": [],
   "source": [
    "df = df.iloc[19:, :]  # filter out test rows"
   ]
  },
  {
   "cell_type": "code",
   "execution_count": 205,
   "id": "d513fa30-34cb-4314-aebf-7a6a441af17b",
   "metadata": {},
   "outputs": [
    {
     "name": "stdout",
     "output_type": "stream",
     "text": [
      "<class 'pandas.core.frame.DataFrame'>\n",
      "RangeIndex: 82 entries, 19 to 100\n",
      "Columns: 802 entries, StartDate to Q195.1_4\n",
      "dtypes: object(802)\n",
      "memory usage: 513.9+ KB\n"
     ]
    }
   ],
   "source": [
    "df.info()"
   ]
  },
  {
   "cell_type": "code",
   "execution_count": 206,
   "id": "58d7ead7-f3ce-4f48-8bed-44e0c61e94d8",
   "metadata": {},
   "outputs": [],
   "source": [
    "df = df[df['Finished'] =='True'] # filter out incomplete surveys"
   ]
  },
  {
   "cell_type": "code",
   "execution_count": 207,
   "id": "c52e5026-17bb-4fd8-b6c7-7c0fd010407d",
   "metadata": {},
   "outputs": [
    {
     "name": "stdout",
     "output_type": "stream",
     "text": [
      "<class 'pandas.core.frame.DataFrame'>\n",
      "Int64Index: 51 entries, 19 to 95\n",
      "Columns: 802 entries, StartDate to Q195.1_4\n",
      "dtypes: object(802)\n",
      "memory usage: 319.9+ KB\n"
     ]
    }
   ],
   "source": [
    "df.info()"
   ]
  },
  {
   "cell_type": "code",
   "execution_count": 208,
   "id": "e3f02196-2ef9-45c7-8745-e273eeccc7be",
   "metadata": {},
   "outputs": [],
   "source": [
    "df.rename(columns={\n",
    "    'Q1.2': 'sex',\n",
    "    'Q1.3_1': 'age',\n",
    "    'Q1.4': 'ethnicity',\n",
    "    'Q1.5': 'formal education',\n",
    "    'Q1.6_1': 'income'}, inplace=True)"
   ]
  },
  {
   "cell_type": "code",
   "execution_count": 209,
   "id": "57c9bad2-f874-4c4a-bc0e-77041a295d08",
   "metadata": {},
   "outputs": [],
   "source": [
    "df.to_csv('../clean_data/free_choice_emotion_uw_students.csv', index=False)"
   ]
  },
  {
   "cell_type": "code",
   "execution_count": 210,
   "id": "da12a2e4-317e-47b1-8aa9-f14571ce3e0c",
   "metadata": {},
   "outputs": [],
   "source": [
    "# placeholders to save svg strings\n",
    "svg_str = []\n",
    "image_title = []"
   ]
  },
  {
   "cell_type": "markdown",
   "id": "e483bc62-c6bb-453d-b764-87c769f3fccb",
   "metadata": {},
   "source": [
    "## Demographics"
   ]
  },
  {
   "cell_type": "code",
   "execution_count": 211,
   "id": "f1c38d81-f011-4d8b-986e-c15c54c0774e",
   "metadata": {},
   "outputs": [],
   "source": [
    "def count_freq_labels(df, X=\"all\", col=\"emotion\"):\n",
    "    if X == \"all\":\n",
    "        df_counts = df.stack().reset_index(drop=True).value_counts() # stack as series\n",
    "        df_counts = df_counts.to_frame('counts') # get value_counts as df\n",
    "        df_counts['emotion'] = df_counts.index # get index as col\n",
    "    elif X == \"stacked\":\n",
    "        df_counts = df[col].value_counts() # count word frequency\n",
    "        df_counts = df_counts.to_frame('counts') # get value_counts as df\n",
    "        df_counts['emotion'] = df_counts.index # get index as col    \n",
    "    else:\n",
    "        df_counts = df[X].reset_index(drop=True).value_counts() # stack as series\n",
    "        df_counts = df_counts.to_frame('counts') # get value_counts as df\n",
    "        df_counts[X] = df_counts.index # get index as col\n",
    "\n",
    "    df_counts = df_counts.reset_index(drop=True) # clean index\n",
    "    df_counts['percent'] = df_counts['counts'] / df_counts['counts'].sum() # compute percentage\n",
    "    return df_counts"
   ]
  },
  {
   "cell_type": "code",
   "execution_count": 212,
   "id": "14fdf161-816c-45e3-abd3-42fe93cad5f9",
   "metadata": {},
   "outputs": [],
   "source": [
    "def simple_per_bar(\n",
    "    df, title='Title', X='percent:Q', Y='emotion:N', \\\n",
    "    width=450, height=250, sort='-x', \\\n",
    "    text_size = 12, label_size = 11, title_size=12, \\\n",
    "    emotion='Some', color1='#0570b0', color2='orange'):\n",
    "    \n",
    "    bars = alt.Chart(df, title=title).mark_bar().encode(\n",
    "        alt.X(X, axis=alt.Axis(format='.0%')),\n",
    "        y=alt.Y(Y, sort=sort), \n",
    "        color=alt.condition(\n",
    "            alt.datum.emotion == emotion,\n",
    "            alt.value(color2),\n",
    "            alt.value(color1)\n",
    "        ))\n",
    "    \n",
    "    text = bars.mark_text(\n",
    "    align='left',\n",
    "    baseline='middle',\n",
    "    dx=3,  # Nudges text to right so it doesn't appear on top of the bar\n",
    "    fontSize=text_size\n",
    "    ).encode(\n",
    "        alt.Text(X, format='.1%')\n",
    "    )\n",
    "    \n",
    "    chart = (bars + text).configure_axis(\n",
    "            labelFontSize=label_size,\n",
    "            titleFontSize=title_size).properties(\n",
    "                width=width, \n",
    "                height=height)\n",
    "    \n",
    "    \n",
    "    return chart"
   ]
  },
  {
   "cell_type": "code",
   "execution_count": 213,
   "id": "feab7d3c-676f-4b3e-8c3c-cc03c6c2e8e1",
   "metadata": {},
   "outputs": [],
   "source": [
    "def simple_count_bar(\n",
    "    df, title='Title', X='counts:Q', Y='emotion:N', \\\n",
    "    width=450, height=250, sort='-x', \\\n",
    "    text_size = 12, label_size = 11, title_size=12,\n",
    "    emotion='Some', color1='#0570b0', color2='#orange'):\n",
    "    \n",
    "    bars = alt.Chart(df, title=title).mark_bar().encode(\n",
    "        alt.X(X),\n",
    "        y=alt.Y(Y, sort=sort), \n",
    "        color=alt.condition(\n",
    "            alt.datum.emotion == emotion,\n",
    "            alt.value(color2),\n",
    "            alt.value(color1)\n",
    "        ))\n",
    "    \n",
    "    text = bars.mark_text(\n",
    "    align='left',\n",
    "    baseline='middle',\n",
    "    dx=3,  # Nudges text to right so it doesn't appear on top of the bar\n",
    "    fontSize=text_size\n",
    "    ).encode(\n",
    "        alt.Text(X)\n",
    "    )\n",
    "    \n",
    "    chart = (bars + text).configure_axis(\n",
    "            labelFontSize=label_size,\n",
    "            titleFontSize=title_size).properties(\n",
    "                width=width, \n",
    "                height=height)\n",
    "    \n",
    "    \n",
    "    return chart"
   ]
  },
  {
   "cell_type": "code",
   "execution_count": 214,
   "id": "427b03c3-848f-413a-9fbf-b7d2d65681e1",
   "metadata": {},
   "outputs": [],
   "source": [
    "source = count_freq_labels(df, X=\"sex\") \n",
    "title = 'Sex | n = '+ source['counts'].sum().astype(str)\n",
    "X, Y = 'percent:Q', 'sex:N'\n",
    "w, h= 450, 100\n",
    "txs, ls, ts = 12, 12, 12\n",
    "\n",
    "chart_sex = simple_per_bar(source, title=title, X=X, Y=Y, width=w, height=h, text_size = txs, label_size = ls, title_size=ts)"
   ]
  },
  {
   "cell_type": "code",
   "execution_count": 215,
   "id": "4339abf2-e757-438b-8d2e-90993d18e3b3",
   "metadata": {},
   "outputs": [
    {
     "data": {
      "text/html": [
       "\n",
       "<div id=\"altair-viz-a887b13416644608b90f3a512d6fa0b6\"></div>\n",
       "<script type=\"text/javascript\">\n",
       "  (function(spec, embedOpt){\n",
       "    let outputDiv = document.currentScript.previousElementSibling;\n",
       "    if (outputDiv.id !== \"altair-viz-a887b13416644608b90f3a512d6fa0b6\") {\n",
       "      outputDiv = document.getElementById(\"altair-viz-a887b13416644608b90f3a512d6fa0b6\");\n",
       "    }\n",
       "    const paths = {\n",
       "      \"vega\": \"https://cdn.jsdelivr.net/npm//vega@5?noext\",\n",
       "      \"vega-lib\": \"https://cdn.jsdelivr.net/npm//vega-lib?noext\",\n",
       "      \"vega-lite\": \"https://cdn.jsdelivr.net/npm//vega-lite@4.8.1?noext\",\n",
       "      \"vega-embed\": \"https://cdn.jsdelivr.net/npm//vega-embed@6?noext\",\n",
       "    };\n",
       "\n",
       "    function loadScript(lib) {\n",
       "      return new Promise(function(resolve, reject) {\n",
       "        var s = document.createElement('script');\n",
       "        s.src = paths[lib];\n",
       "        s.async = true;\n",
       "        s.onload = () => resolve(paths[lib]);\n",
       "        s.onerror = () => reject(`Error loading script: ${paths[lib]}`);\n",
       "        document.getElementsByTagName(\"head\")[0].appendChild(s);\n",
       "      });\n",
       "    }\n",
       "\n",
       "    function showError(err) {\n",
       "      outputDiv.innerHTML = `<div class=\"error\" style=\"color:red;\">${err}</div>`;\n",
       "      throw err;\n",
       "    }\n",
       "\n",
       "    function displayChart(vegaEmbed) {\n",
       "      vegaEmbed(outputDiv, spec, embedOpt)\n",
       "        .catch(err => showError(`Javascript Error: ${err.message}<br>This usually means there's a typo in your chart specification. See the javascript console for the full traceback.`));\n",
       "    }\n",
       "\n",
       "    if(typeof define === \"function\" && define.amd) {\n",
       "      requirejs.config({paths});\n",
       "      require([\"vega-embed\"], displayChart, err => showError(`Error loading script: ${err.message}`));\n",
       "    } else if (typeof vegaEmbed === \"function\") {\n",
       "      displayChart(vegaEmbed);\n",
       "    } else {\n",
       "      loadScript(\"vega\")\n",
       "        .then(() => loadScript(\"vega-lite\"))\n",
       "        .then(() => loadScript(\"vega-embed\"))\n",
       "        .catch(showError)\n",
       "        .then(() => displayChart(vegaEmbed));\n",
       "    }\n",
       "  })({\"config\": {\"view\": {\"continuousWidth\": 400, \"continuousHeight\": 300}, \"axis\": {\"labelFontSize\": 12, \"titleFontSize\": 12}}, \"layer\": [{\"mark\": \"bar\", \"encoding\": {\"color\": {\"condition\": {\"value\": \"orange\", \"test\": \"(datum.emotion === 'Some')\"}, \"value\": \"#0570b0\"}, \"x\": {\"type\": \"quantitative\", \"axis\": {\"format\": \".0%\"}, \"field\": \"percent\"}, \"y\": {\"type\": \"nominal\", \"field\": \"sex\", \"sort\": \"-x\"}}, \"title\": \"Sex | n = 49\"}, {\"mark\": {\"type\": \"text\", \"align\": \"left\", \"baseline\": \"middle\", \"dx\": 3, \"fontSize\": 12}, \"encoding\": {\"color\": {\"condition\": {\"value\": \"orange\", \"test\": \"(datum.emotion === 'Some')\"}, \"value\": \"#0570b0\"}, \"text\": {\"type\": \"quantitative\", \"field\": \"percent\", \"format\": \".1%\"}, \"x\": {\"type\": \"quantitative\", \"axis\": {\"format\": \".0%\"}, \"field\": \"percent\"}, \"y\": {\"type\": \"nominal\", \"field\": \"sex\", \"sort\": \"-x\"}}, \"title\": \"Sex | n = 49\"}], \"data\": {\"name\": \"data-f532128b48499339a56e8d7ba73b9a75\"}, \"height\": 100, \"width\": 450, \"$schema\": \"https://vega.github.io/schema/vega-lite/v4.8.1.json\", \"datasets\": {\"data-f532128b48499339a56e8d7ba73b9a75\": [{\"counts\": 30, \"sex\": \"Female\", \"percent\": 0.6122448979591837}, {\"counts\": 18, \"sex\": \"Male\", \"percent\": 0.3673469387755102}, {\"counts\": 1, \"sex\": \"Non-binary / third gender\", \"percent\": 0.02040816326530612}]}}, {\"renderer\": \"svg\", \"mode\": \"vega-lite\"});\n",
       "</script>"
      ],
      "text/plain": [
       "alt.LayerChart(...)"
      ]
     },
     "metadata": {},
     "output_type": "display_data"
    }
   ],
   "source": [
    "chart_sex.display(renderer='svg')"
   ]
  },
  {
   "cell_type": "code",
   "execution_count": 216,
   "id": "fdcc43d1-bd77-4971-95e0-cb7997910bd0",
   "metadata": {},
   "outputs": [],
   "source": [
    "chart_sex_string = altair_saver.save(chart_sex, fmt='svg')\n",
    "image_title.append('Participants by sex')\n",
    "svg_str.append(chart_sex_string)"
   ]
  },
  {
   "cell_type": "code",
   "execution_count": 217,
   "id": "f1ff63e2-4577-4610-a865-bd32bef0757e",
   "metadata": {},
   "outputs": [
    {
     "data": {
      "text/html": [
       "\n",
       "<div id=\"altair-viz-66b5745b3e534ae789220305c30b9dc4\"></div>\n",
       "<script type=\"text/javascript\">\n",
       "  (function(spec, embedOpt){\n",
       "    let outputDiv = document.currentScript.previousElementSibling;\n",
       "    if (outputDiv.id !== \"altair-viz-66b5745b3e534ae789220305c30b9dc4\") {\n",
       "      outputDiv = document.getElementById(\"altair-viz-66b5745b3e534ae789220305c30b9dc4\");\n",
       "    }\n",
       "    const paths = {\n",
       "      \"vega\": \"https://cdn.jsdelivr.net/npm//vega@5?noext\",\n",
       "      \"vega-lib\": \"https://cdn.jsdelivr.net/npm//vega-lib?noext\",\n",
       "      \"vega-lite\": \"https://cdn.jsdelivr.net/npm//vega-lite@4.8.1?noext\",\n",
       "      \"vega-embed\": \"https://cdn.jsdelivr.net/npm//vega-embed@6?noext\",\n",
       "    };\n",
       "\n",
       "    function loadScript(lib) {\n",
       "      return new Promise(function(resolve, reject) {\n",
       "        var s = document.createElement('script');\n",
       "        s.src = paths[lib];\n",
       "        s.async = true;\n",
       "        s.onload = () => resolve(paths[lib]);\n",
       "        s.onerror = () => reject(`Error loading script: ${paths[lib]}`);\n",
       "        document.getElementsByTagName(\"head\")[0].appendChild(s);\n",
       "      });\n",
       "    }\n",
       "\n",
       "    function showError(err) {\n",
       "      outputDiv.innerHTML = `<div class=\"error\" style=\"color:red;\">${err}</div>`;\n",
       "      throw err;\n",
       "    }\n",
       "\n",
       "    function displayChart(vegaEmbed) {\n",
       "      vegaEmbed(outputDiv, spec, embedOpt)\n",
       "        .catch(err => showError(`Javascript Error: ${err.message}<br>This usually means there's a typo in your chart specification. See the javascript console for the full traceback.`));\n",
       "    }\n",
       "\n",
       "    if(typeof define === \"function\" && define.amd) {\n",
       "      requirejs.config({paths});\n",
       "      require([\"vega-embed\"], displayChart, err => showError(`Error loading script: ${err.message}`));\n",
       "    } else if (typeof vegaEmbed === \"function\") {\n",
       "      displayChart(vegaEmbed);\n",
       "    } else {\n",
       "      loadScript(\"vega\")\n",
       "        .then(() => loadScript(\"vega-lite\"))\n",
       "        .then(() => loadScript(\"vega-embed\"))\n",
       "        .catch(showError)\n",
       "        .then(() => displayChart(vegaEmbed));\n",
       "    }\n",
       "  })({\"config\": {\"view\": {\"continuousWidth\": 400, \"continuousHeight\": 300}, \"axis\": {\"labelFontSize\": 11, \"titleFontSize\": 12}}, \"layer\": [{\"mark\": \"bar\", \"encoding\": {\"color\": {\"condition\": {\"value\": \"orange\", \"test\": \"(datum.emotion === 'Some')\"}, \"value\": \"#0570b0\"}, \"x\": {\"type\": \"quantitative\", \"axis\": {\"format\": \".0%\"}, \"field\": \"percent\"}, \"y\": {\"type\": \"nominal\", \"field\": \"age\", \"sort\": \"-x\"}}, \"title\": \"Age | n = 40\"}, {\"mark\": {\"type\": \"text\", \"align\": \"left\", \"baseline\": \"middle\", \"dx\": 3, \"fontSize\": 12}, \"encoding\": {\"color\": {\"condition\": {\"value\": \"orange\", \"test\": \"(datum.emotion === 'Some')\"}, \"value\": \"#0570b0\"}, \"text\": {\"type\": \"quantitative\", \"field\": \"percent\", \"format\": \".1%\"}, \"x\": {\"type\": \"quantitative\", \"axis\": {\"format\": \".0%\"}, \"field\": \"percent\"}, \"y\": {\"type\": \"nominal\", \"field\": \"age\", \"sort\": \"-x\"}}, \"title\": \"Age | n = 40\"}], \"data\": {\"name\": \"data-c1505fd350018eb246ebeb88a5103d05\"}, \"height\": 150, \"width\": 450, \"$schema\": \"https://vega.github.io/schema/vega-lite/v4.8.1.json\", \"datasets\": {\"data-c1505fd350018eb246ebeb88a5103d05\": [{\"counts\": 31, \"age\": \"18\", \"percent\": 0.775}, {\"counts\": 7, \"age\": \"19\", \"percent\": 0.175}, {\"counts\": 2, \"age\": \"20\", \"percent\": 0.05}]}}, {\"renderer\": \"svg\", \"mode\": \"vega-lite\"});\n",
       "</script>"
      ],
      "text/plain": [
       "alt.LayerChart(...)"
      ]
     },
     "metadata": {},
     "output_type": "display_data"
    }
   ],
   "source": [
    "source = count_freq_labels(df, X=\"age\") \n",
    "title = 'Age | n = '+ source['counts'].sum().astype(str)\n",
    "X, Y = 'percent:Q', 'age:N'\n",
    "w, h= 450, 150\n",
    "txs, ls, ts = 12, 11, 12\n",
    "\n",
    "chart_age = simple_per_bar(\n",
    "    source, title=title, X=X, Y=Y, \\\n",
    "    width=w, height=h, \\\n",
    "    text_size = txs, label_size = ls, title_size=ts)\n",
    "chart_age.display(renderer='svg')"
   ]
  },
  {
   "cell_type": "code",
   "execution_count": 218,
   "id": "2ad121e1-cdd4-4b5d-8ecd-85f8c3cb833b",
   "metadata": {},
   "outputs": [],
   "source": [
    "chart_age_str = altair_saver.save(chart_age, fmt='svg')\n",
    "image_title.append('Participants by age')\n",
    "svg_str.append(chart_age_str)"
   ]
  },
  {
   "cell_type": "code",
   "execution_count": 219,
   "id": "6a1920f7-006a-492e-bf43-88df78d13f6c",
   "metadata": {},
   "outputs": [
    {
     "data": {
      "text/html": [
       "\n",
       "<div id=\"altair-viz-791766f253c543a782253ea9e06bf4eb\"></div>\n",
       "<script type=\"text/javascript\">\n",
       "  (function(spec, embedOpt){\n",
       "    let outputDiv = document.currentScript.previousElementSibling;\n",
       "    if (outputDiv.id !== \"altair-viz-791766f253c543a782253ea9e06bf4eb\") {\n",
       "      outputDiv = document.getElementById(\"altair-viz-791766f253c543a782253ea9e06bf4eb\");\n",
       "    }\n",
       "    const paths = {\n",
       "      \"vega\": \"https://cdn.jsdelivr.net/npm//vega@5?noext\",\n",
       "      \"vega-lib\": \"https://cdn.jsdelivr.net/npm//vega-lib?noext\",\n",
       "      \"vega-lite\": \"https://cdn.jsdelivr.net/npm//vega-lite@4.8.1?noext\",\n",
       "      \"vega-embed\": \"https://cdn.jsdelivr.net/npm//vega-embed@6?noext\",\n",
       "    };\n",
       "\n",
       "    function loadScript(lib) {\n",
       "      return new Promise(function(resolve, reject) {\n",
       "        var s = document.createElement('script');\n",
       "        s.src = paths[lib];\n",
       "        s.async = true;\n",
       "        s.onload = () => resolve(paths[lib]);\n",
       "        s.onerror = () => reject(`Error loading script: ${paths[lib]}`);\n",
       "        document.getElementsByTagName(\"head\")[0].appendChild(s);\n",
       "      });\n",
       "    }\n",
       "\n",
       "    function showError(err) {\n",
       "      outputDiv.innerHTML = `<div class=\"error\" style=\"color:red;\">${err}</div>`;\n",
       "      throw err;\n",
       "    }\n",
       "\n",
       "    function displayChart(vegaEmbed) {\n",
       "      vegaEmbed(outputDiv, spec, embedOpt)\n",
       "        .catch(err => showError(`Javascript Error: ${err.message}<br>This usually means there's a typo in your chart specification. See the javascript console for the full traceback.`));\n",
       "    }\n",
       "\n",
       "    if(typeof define === \"function\" && define.amd) {\n",
       "      requirejs.config({paths});\n",
       "      require([\"vega-embed\"], displayChart, err => showError(`Error loading script: ${err.message}`));\n",
       "    } else if (typeof vegaEmbed === \"function\") {\n",
       "      displayChart(vegaEmbed);\n",
       "    } else {\n",
       "      loadScript(\"vega\")\n",
       "        .then(() => loadScript(\"vega-lite\"))\n",
       "        .then(() => loadScript(\"vega-embed\"))\n",
       "        .catch(showError)\n",
       "        .then(() => displayChart(vegaEmbed));\n",
       "    }\n",
       "  })({\"config\": {\"view\": {\"continuousWidth\": 400, \"continuousHeight\": 300}, \"axis\": {\"labelFontSize\": 11, \"titleFontSize\": 12}}, \"layer\": [{\"mark\": \"bar\", \"encoding\": {\"color\": {\"condition\": {\"value\": \"orange\", \"test\": \"(datum.emotion === 'Some')\"}, \"value\": \"#0570b0\"}, \"x\": {\"type\": \"quantitative\", \"axis\": {\"format\": \".0%\"}, \"field\": \"percent\"}, \"y\": {\"type\": \"nominal\", \"field\": \"ethnicity\", \"sort\": \"-x\"}}, \"title\": \"Ethnicity | n = 49\"}, {\"mark\": {\"type\": \"text\", \"align\": \"left\", \"baseline\": \"middle\", \"dx\": 3, \"fontSize\": 12}, \"encoding\": {\"color\": {\"condition\": {\"value\": \"orange\", \"test\": \"(datum.emotion === 'Some')\"}, \"value\": \"#0570b0\"}, \"text\": {\"type\": \"quantitative\", \"field\": \"percent\", \"format\": \".1%\"}, \"x\": {\"type\": \"quantitative\", \"axis\": {\"format\": \".0%\"}, \"field\": \"percent\"}, \"y\": {\"type\": \"nominal\", \"field\": \"ethnicity\", \"sort\": \"-x\"}}, \"title\": \"Ethnicity | n = 49\"}], \"data\": {\"name\": \"data-8e06e6c63e6fb15bb270e1d70b3c64b1\"}, \"height\": 150, \"width\": 450, \"$schema\": \"https://vega.github.io/schema/vega-lite/v4.8.1.json\", \"datasets\": {\"data-8e06e6c63e6fb15bb270e1d70b3c64b1\": [{\"counts\": 33, \"ethnicity\": \"White or Caucasian\", \"percent\": 0.673469387755102}, {\"counts\": 11, \"ethnicity\": \"Asian\", \"percent\": 0.22448979591836735}, {\"counts\": 3, \"ethnicity\": \"Multiple ethnicities\", \"percent\": 0.061224489795918366}, {\"counts\": 1, \"ethnicity\": \"Other\", \"percent\": 0.02040816326530612}, {\"counts\": 1, \"ethnicity\": \"Hispanic or Latino\", \"percent\": 0.02040816326530612}]}}, {\"renderer\": \"svg\", \"mode\": \"vega-lite\"});\n",
       "</script>"
      ],
      "text/plain": [
       "alt.LayerChart(...)"
      ]
     },
     "metadata": {},
     "output_type": "display_data"
    }
   ],
   "source": [
    "source = count_freq_labels(df, X=\"ethnicity\") \n",
    "title = 'Ethnicity | n = '+ source['counts'].sum().astype(str)\n",
    "X, Y = 'percent:Q', 'ethnicity:N'\n",
    "w, h= 450, 150\n",
    "txs, ls, ts = 12, 11, 12\n",
    "\n",
    "chart_ethnicity= simple_per_bar(\n",
    "    source, title=title, X=X, Y=Y, \\\n",
    "    width=w, height=h, \\\n",
    "    text_size = txs, label_size = ls, title_size=ts)\n",
    "chart_ethnicity.display(renderer='svg')"
   ]
  },
  {
   "cell_type": "code",
   "execution_count": 220,
   "id": "382a2a5f-229d-4f53-b95b-8d7cb3e5b985",
   "metadata": {},
   "outputs": [],
   "source": [
    "chart_et_str = altair_saver.save(chart_ethnicity, fmt='svg')\n",
    "image_title.append('Participants by ethnicity')\n",
    "svg_str.append(chart_et_str)"
   ]
  },
  {
   "cell_type": "code",
   "execution_count": 221,
   "id": "b3b02fd5-9ba0-4f9e-9bb6-2c4d4f0cd643",
   "metadata": {},
   "outputs": [
    {
     "data": {
      "text/html": [
       "\n",
       "<div id=\"altair-viz-424603ebd7b74996bc609821e584daa3\"></div>\n",
       "<script type=\"text/javascript\">\n",
       "  (function(spec, embedOpt){\n",
       "    let outputDiv = document.currentScript.previousElementSibling;\n",
       "    if (outputDiv.id !== \"altair-viz-424603ebd7b74996bc609821e584daa3\") {\n",
       "      outputDiv = document.getElementById(\"altair-viz-424603ebd7b74996bc609821e584daa3\");\n",
       "    }\n",
       "    const paths = {\n",
       "      \"vega\": \"https://cdn.jsdelivr.net/npm//vega@5?noext\",\n",
       "      \"vega-lib\": \"https://cdn.jsdelivr.net/npm//vega-lib?noext\",\n",
       "      \"vega-lite\": \"https://cdn.jsdelivr.net/npm//vega-lite@4.8.1?noext\",\n",
       "      \"vega-embed\": \"https://cdn.jsdelivr.net/npm//vega-embed@6?noext\",\n",
       "    };\n",
       "\n",
       "    function loadScript(lib) {\n",
       "      return new Promise(function(resolve, reject) {\n",
       "        var s = document.createElement('script');\n",
       "        s.src = paths[lib];\n",
       "        s.async = true;\n",
       "        s.onload = () => resolve(paths[lib]);\n",
       "        s.onerror = () => reject(`Error loading script: ${paths[lib]}`);\n",
       "        document.getElementsByTagName(\"head\")[0].appendChild(s);\n",
       "      });\n",
       "    }\n",
       "\n",
       "    function showError(err) {\n",
       "      outputDiv.innerHTML = `<div class=\"error\" style=\"color:red;\">${err}</div>`;\n",
       "      throw err;\n",
       "    }\n",
       "\n",
       "    function displayChart(vegaEmbed) {\n",
       "      vegaEmbed(outputDiv, spec, embedOpt)\n",
       "        .catch(err => showError(`Javascript Error: ${err.message}<br>This usually means there's a typo in your chart specification. See the javascript console for the full traceback.`));\n",
       "    }\n",
       "\n",
       "    if(typeof define === \"function\" && define.amd) {\n",
       "      requirejs.config({paths});\n",
       "      require([\"vega-embed\"], displayChart, err => showError(`Error loading script: ${err.message}`));\n",
       "    } else if (typeof vegaEmbed === \"function\") {\n",
       "      displayChart(vegaEmbed);\n",
       "    } else {\n",
       "      loadScript(\"vega\")\n",
       "        .then(() => loadScript(\"vega-lite\"))\n",
       "        .then(() => loadScript(\"vega-embed\"))\n",
       "        .catch(showError)\n",
       "        .then(() => displayChart(vegaEmbed));\n",
       "    }\n",
       "  })({\"config\": {\"view\": {\"continuousWidth\": 400, \"continuousHeight\": 300}, \"axis\": {\"labelFontSize\": 11, \"titleFontSize\": 12}}, \"layer\": [{\"mark\": \"bar\", \"encoding\": {\"color\": {\"condition\": {\"value\": \"orange\", \"test\": \"(datum.emotion === 'Some')\"}, \"value\": \"#0570b0\"}, \"x\": {\"type\": \"quantitative\", \"axis\": {\"format\": \".0%\"}, \"field\": \"percent\"}, \"y\": {\"type\": \"nominal\", \"field\": \"formal education\", \"sort\": \"-x\"}}, \"title\": \"Formal education | n = 49\"}, {\"mark\": {\"type\": \"text\", \"align\": \"left\", \"baseline\": \"middle\", \"dx\": 3, \"fontSize\": 12}, \"encoding\": {\"color\": {\"condition\": {\"value\": \"orange\", \"test\": \"(datum.emotion === 'Some')\"}, \"value\": \"#0570b0\"}, \"text\": {\"type\": \"quantitative\", \"field\": \"percent\", \"format\": \".1%\"}, \"x\": {\"type\": \"quantitative\", \"axis\": {\"format\": \".0%\"}, \"field\": \"percent\"}, \"y\": {\"type\": \"nominal\", \"field\": \"formal education\", \"sort\": \"-x\"}}, \"title\": \"Formal education | n = 49\"}], \"data\": {\"name\": \"data-979927214065e24f5998995f1052d647\"}, \"height\": 150, \"width\": 450, \"$schema\": \"https://vega.github.io/schema/vega-lite/v4.8.1.json\", \"datasets\": {\"data-979927214065e24f5998995f1052d647\": [{\"counts\": 26, \"formal education\": \"High school graduate\", \"percent\": 0.5306122448979592}, {\"counts\": 22, \"formal education\": \"Some college\", \"percent\": 0.4489795918367347}, {\"counts\": 1, \"formal education\": \"2 year degree\", \"percent\": 0.02040816326530612}]}}, {\"renderer\": \"svg\", \"mode\": \"vega-lite\"});\n",
       "</script>"
      ],
      "text/plain": [
       "alt.LayerChart(...)"
      ]
     },
     "metadata": {},
     "output_type": "display_data"
    }
   ],
   "source": [
    "source = count_freq_labels(df, X=\"formal education\") \n",
    "title = 'Formal education | n = '+ source['counts'].sum().astype(str)\n",
    "X, Y = 'percent:Q', 'formal education:N'\n",
    "w, h= 450, 150\n",
    "txs, ls, ts = 12, 11, 12\n",
    "\n",
    "chart_formal_education= simple_per_bar(\n",
    "    source, title=title, X=X, Y=Y, width=w, height=h, text_size = txs, label_size = ls, title_size=ts)\n",
    "chart_formal_education.display(renderer='svg')"
   ]
  },
  {
   "cell_type": "code",
   "execution_count": 222,
   "id": "772ab4dc-23a2-44e8-b8e2-10ccaff58091",
   "metadata": {},
   "outputs": [],
   "source": [
    "chart_formal_education_str = altair_saver.save(chart_formal_education, fmt='svg')\n",
    "image_title.append('Participants by formal education')\n",
    "svg_str.append(chart_formal_education_str)"
   ]
  },
  {
   "cell_type": "markdown",
   "id": "edfd4fca-d6c2-4288-99b1-88b9342462bc",
   "metadata": {},
   "source": [
    "## Formating"
   ]
  },
  {
   "cell_type": "code",
   "execution_count": 223,
   "id": "e830f16d-ad56-47d0-844f-6ef6493a613a",
   "metadata": {},
   "outputs": [],
   "source": [
    "df_emo_answers = df.loc[:, 'Q2.1_1':'Q195.1_4'] # get cols with words only"
   ]
  },
  {
   "cell_type": "code",
   "execution_count": 224,
   "id": "cd16fd24-6b52-458b-8e3b-0204ead9aec1",
   "metadata": {},
   "outputs": [],
   "source": [
    "def formating_words(df, len_words=1, len_letters=2):\n",
    "    df_stack = df.stack().reset_index(drop=True) # stack as series\n",
    "    df_stack = df_stack.to_frame(name='emotion') # as DF\n",
    "    df_stack['emotion'] = df_stack['emotion'].str.strip() # remove blank spaces\n",
    "    df_stack['emotion'] = df_stack['emotion'].str.lower() # as lower case\n",
    "    df_stack['emotion'] = df_stack['emotion'].replace({'na':'none'}) \n",
    "    df_stack['len_words'] = df_stack['emotion'].str.split().apply(len) # cnt number of words\n",
    "    df_stack['len_letters'] = df_stack['emotion'].apply(len) # cont number of letters\n",
    "    # get df with single words of 3 or more letters\n",
    "    df_stack_single_word = df_stack[(df_stack['len_words'] == len_words) & (df_stack['len_letters'] > len_letters)] \n",
    "    df_stack_single_word['emotion'] = df_stack_single_word['emotion'].str.replace('[^a-zA-Z]', '') # remove non-alphabetic characters\n",
    "    df_stack_single_word = df_stack_single_word[~df_stack_single_word['emotion'].str.contains(r'[0-9]')] #drop words containing numbers\n",
    "    df_stack_single_word = df_stack_single_word[df_stack_single_word.groupby('emotion').emotion.transform(len) > 1] # keep words that ocurr > 1\n",
    "    return df_stack_single_word"
   ]
  },
  {
   "cell_type": "code",
   "execution_count": 225,
   "id": "60df8da0-21da-48e6-8257-5708b9300e1e",
   "metadata": {},
   "outputs": [
    {
     "name": "stderr",
     "output_type": "stream",
     "text": [
      "/tmp/ipykernel_4430/2691402293.py:11: FutureWarning: The default value of regex will change from True to False in a future version.\n",
      "  df_stack_single_word['emotion'] = df_stack_single_word['emotion'].str.replace('[^a-zA-Z]', '') # remove non-alphabetic characters\n",
      "/home/pablo_ubuntu/miniconda3/envs/venv/lib/python3.9/site-packages/pandas/core/frame.py:3607: SettingWithCopyWarning: \n",
      "A value is trying to be set on a copy of a slice from a DataFrame.\n",
      "Try using .loc[row_indexer,col_indexer] = value instead\n",
      "\n",
      "See the caveats in the documentation: https://pandas.pydata.org/pandas-docs/stable/user_guide/indexing.html#returning-a-view-versus-a-copy\n",
      "  self._set_item(key, value)\n"
     ]
    }
   ],
   "source": [
    "df_stack_single_word = formating_words(df_emo_answers)"
   ]
  },
  {
   "cell_type": "code",
   "execution_count": 226,
   "id": "b04e90dc-53b0-4d78-8a76-9e956ca6183f",
   "metadata": {},
   "outputs": [
    {
     "data": {
      "text/plain": [
       "1    13847\n",
       "Name: len_words, dtype: int64"
      ]
     },
     "execution_count": 226,
     "metadata": {},
     "output_type": "execute_result"
    }
   ],
   "source": [
    "df_stack_single_word['len_words'].value_counts()"
   ]
  },
  {
   "cell_type": "markdown",
   "id": "88d5fa3f-dd87-434c-b9dd-5e230fbbd229",
   "metadata": {},
   "source": [
    "## Spell checking \n",
    "**NOTE**: poor results with automated spell-check, so I did it manually for now"
   ]
  },
  {
   "cell_type": "code",
   "execution_count": 227,
   "id": "8691f5e4-dee1-44f6-a52d-a7cd6eeceb24",
   "metadata": {},
   "outputs": [],
   "source": [
    "# conda install -c conda-forge pattern \n",
    "# from pattern.en import suggest"
   ]
  },
  {
   "cell_type": "code",
   "execution_count": 228,
   "id": "c8d26779-5c1f-4c06-bbbc-2d28739d9118",
   "metadata": {},
   "outputs": [],
   "source": [
    "# df_stack_single_word['emotion_spell_check'] = df_stack_single_word['emotion'].apply(lambda x: suggest(x)[0][0])\n",
    "# df_stack_single_word['emotion'].size\n",
    "# df_stack_single_word['emotion'].size - sum(df_stack_single_word['emotion'] == df_stack_single_word['emotion_spell_check']) # number of words changed"
   ]
  },
  {
   "cell_type": "code",
   "execution_count": 229,
   "id": "40522437-5fdc-44a4-a23e-014d306dd9ff",
   "metadata": {},
   "outputs": [],
   "source": [
    "def manual_spell_check(df):\n",
    "    df.replace(['happy', 'happu', 'hapy', 'happyy', 'happyb', 'happt', 'haapy', 'hapoy'], 'happiness', inplace=True)\n",
    "    df.replace(['angry', 'angr'], 'anger', inplace=True)\n",
    "    df.replace(['sad', 'sadd', 'sadness'], 'sadness', inplace=True)\n",
    "    df.replace(['disgusted', 'disgust', 'disgusting', 'disguetsed', 'disugested'], 'disgust', inplace=True)\n",
    "    df.replace(['surprise', 'surprised', 'surpsied', 'surpise', 'surprising', 'surprisef'], 'surprise', inplace=True)\n",
    "    df.replace(['fear', 'fearful', 'fearfulness'], 'fear', inplace=True)\n",
    "    df.replace([\"frusturated\"], \"frustrated\", inplace=True)\n",
    "    \n",
    "    return df"
   ]
  },
  {
   "cell_type": "code",
   "execution_count": 230,
   "id": "42c98eb8-a4b2-422f-837a-ca2af1a718be",
   "metadata": {},
   "outputs": [],
   "source": [
    "df_stack_single_word = manual_spell_check(df_stack_single_word)"
   ]
  },
  {
   "cell_type": "markdown",
   "id": "2387f979-1364-4d50-8832-bc4567a2df83",
   "metadata": {},
   "source": [
    "## Grouping "
   ]
  },
  {
   "cell_type": "code",
   "execution_count": 231,
   "id": "26ff2c2d-bddd-4d54-ba93-2f8551c8bbe9",
   "metadata": {},
   "outputs": [],
   "source": [
    "# importing the module\n",
    "import json\n",
    " \n",
    "# synsets \n",
    "with open('../clean_data/syn_dict_emotions.json') as json_file:\n",
    "    syns = json.load(json_file)\n",
    "\n",
    "# hyponyms \n",
    "with open('../clean_data/hyp_dict_emotions.json') as json_file:\n",
    "    hyps = json.load(json_file)"
   ]
  },
  {
   "cell_type": "code",
   "execution_count": 232,
   "id": "85b4fda5-6d43-4433-9c2e-32d38c9c5186",
   "metadata": {},
   "outputs": [
    {
     "data": {
      "text/plain": [
       "happiness     1405\n",
       "sadness       1129\n",
       "anger          752\n",
       "confused       594\n",
       "surprise       528\n",
       "              ... \n",
       "yellow           2\n",
       "blurry           2\n",
       "aggressive       2\n",
       "youthful         2\n",
       "eww              2\n",
       "Name: emotion, Length: 481, dtype: int64"
      ]
     },
     "execution_count": 232,
     "metadata": {},
     "output_type": "execute_result"
    }
   ],
   "source": [
    "df_stack_single_word['emotion'].value_counts()"
   ]
  },
  {
   "cell_type": "code",
   "execution_count": 233,
   "id": "56dce3a1-99ba-4809-b0af-2e7a02cf4acb",
   "metadata": {},
   "outputs": [],
   "source": [
    "def update_dic(syns, emo, emo_variant):\n",
    "    '''to merge key variants'''\n",
    "    \n",
    "    syns[emo].extend(syns[emo_variant])\n",
    "    syns.pop(emo_variant)"
   ]
  },
  {
   "cell_type": "code",
   "execution_count": 234,
   "id": "232ec7ff-5d52-45b4-a4f0-fba347ede384",
   "metadata": {},
   "outputs": [],
   "source": [
    "update_dic(syns, emo='anger', emo_variant='angry')\n",
    "update_dic(syns, emo='disgust', emo_variant='disgusted')\n",
    "update_dic(syns, emo='sadness', emo_variant='sad')\n",
    "update_dic(syns, emo='fear', emo_variant='fearful')\n",
    "update_dic(syns, emo='surprise', emo_variant='surprised')\n",
    "update_dic(syns, emo='happiness', emo_variant='happy')"
   ]
  },
  {
   "cell_type": "code",
   "execution_count": 235,
   "id": "6836dc17-fa4e-4e7a-ab71-c3fd8dbd34d5",
   "metadata": {},
   "outputs": [
    {
     "data": {
      "text/plain": [
       "dict_keys(['anger', 'neutral', 'disgust', 'sadness', 'fear', 'surprise', 'happiness'])"
      ]
     },
     "execution_count": 235,
     "metadata": {},
     "output_type": "execute_result"
    }
   ],
   "source": [
    "syns.keys()"
   ]
  },
  {
   "cell_type": "code",
   "execution_count": 236,
   "id": "5baec445-3c2c-455c-b597-f939893b2498",
   "metadata": {},
   "outputs": [],
   "source": [
    "def grouping(df, syns):\n",
    "    '''to group (replace) by synsets and hyponyms'''\n",
    "    \n",
    "    for key in syns:\n",
    "        synset = syns[key]\n",
    "        df.replace(synset, key, inplace=True)\n",
    "    \n",
    "    return df"
   ]
  },
  {
   "cell_type": "code",
   "execution_count": 237,
   "id": "e029c835-a1df-4851-9396-f7793b1b7530",
   "metadata": {},
   "outputs": [],
   "source": [
    "df_stack_single_word = grouping(df_stack_single_word, syns)"
   ]
  },
  {
   "cell_type": "code",
   "execution_count": 238,
   "id": "0a80f2ca-fd70-4dd7-ab01-941234f42111",
   "metadata": {},
   "outputs": [
    {
     "data": {
      "text/plain": [
       "happiness    1410\n",
       "sadness      1135\n",
       "anger         766\n",
       "confused      594\n",
       "surprise      528\n",
       "             ... \n",
       "yellow          2\n",
       "blurry          2\n",
       "arrested        2\n",
       "youthful        2\n",
       "guilt           2\n",
       "Name: emotion, Length: 473, dtype: int64"
      ]
     },
     "execution_count": 238,
     "metadata": {},
     "output_type": "execute_result"
    }
   ],
   "source": [
    "df_stack_single_word['emotion'].value_counts()"
   ]
  },
  {
   "cell_type": "code",
   "execution_count": 239,
   "id": "f815b699-2383-4c51-a5cc-568d152f79d4",
   "metadata": {},
   "outputs": [],
   "source": [
    "df_stack_single_word = grouping(df_stack_single_word, hyps)"
   ]
  },
  {
   "cell_type": "code",
   "execution_count": 240,
   "id": "46845052-c7b0-4c80-a9a3-448d0d8bfa64",
   "metadata": {},
   "outputs": [
    {
     "data": {
      "text/plain": [
       "happiness    1412\n",
       "sadness      1159\n",
       "anger         782\n",
       "confused      594\n",
       "surprise      528\n",
       "             ... \n",
       "tooth           2\n",
       "arrested        2\n",
       "yellow          2\n",
       "blurry          2\n",
       "guilt           2\n",
       "Name: emotion, Length: 465, dtype: int64"
      ]
     },
     "execution_count": 240,
     "metadata": {},
     "output_type": "execute_result"
    }
   ],
   "source": [
    "df_stack_single_word['emotion'].value_counts()"
   ]
  },
  {
   "cell_type": "markdown",
   "id": "360c6136-bdb5-43df-9afc-8f4710c759f8",
   "metadata": {},
   "source": [
    "## Steamming"
   ]
  },
  {
   "cell_type": "code",
   "execution_count": 241,
   "id": "5a1e61e2-b0d6-4173-8154-0b0aaa584076",
   "metadata": {},
   "outputs": [],
   "source": [
    "# from nltk.stem import PorterStemmer\n",
    "# from nltk.stem import LancasterStemmer\n",
    "# from nltk.stem import SnowballStemmer"
   ]
  },
  {
   "cell_type": "code",
   "execution_count": 242,
   "id": "60389dd9-44bf-471e-9bce-6bab9ceb2dd2",
   "metadata": {},
   "outputs": [],
   "source": [
    "# ps = PorterStemmer()\n",
    "# ls = LancasterStemmer()\n",
    "# snowball = SnowballStemmer(language='english')"
   ]
  },
  {
   "cell_type": "code",
   "execution_count": 243,
   "id": "d7530869-e9a4-4a7b-8468-5969bc30cbae",
   "metadata": {},
   "outputs": [],
   "source": [
    "# # Porter stemmer\n",
    "# df_stack_single_word['emotion_ps_steamed'] = df_stack_single_word['emotion'].apply(lambda x: ps.stem(x))"
   ]
  },
  {
   "cell_type": "code",
   "execution_count": 244,
   "id": "ab532d7e-cf02-4769-aff3-5460801381b6",
   "metadata": {},
   "outputs": [],
   "source": [
    "# # Lancaster stemmer\n",
    "# df_stack_single_word['emotion_ls_steamed'] = df_stack_single_word['emotion'].apply(lambda x: ls.stem(x))"
   ]
  },
  {
   "cell_type": "code",
   "execution_count": 245,
   "id": "444eee6d-0e8f-4aa4-b676-c2b8d67db2db",
   "metadata": {},
   "outputs": [],
   "source": [
    "# # Snowball stemmer\n",
    "# df_stack_single_word['emotion_sb_steamed'] = df_stack_single_word['emotion'].apply(lambda x: snowball.stem(x))"
   ]
  },
  {
   "cell_type": "markdown",
   "id": "5d3e5de7-4134-477f-8457-c3121d02f148",
   "metadata": {},
   "source": [
    "## Get stacked counts datasets"
   ]
  },
  {
   "cell_type": "code",
   "execution_count": 246,
   "id": "909288ea-8571-461f-a7af-f21051b7e524",
   "metadata": {},
   "outputs": [],
   "source": [
    "def emotion_df_formated(df_emo_answers, emotion_label):\n",
    "    df_emo_cat = df_emo_answers.copy() \n",
    "    df_emo_cat_t = df_emo_cat.T # transpose\n",
    "    df_emo_cat_t['photo_id'] = df_emo_cat_t.index # get index as col\n",
    "    df_emo_cat_t = df_emo_cat_t.reset_index(drop=True) # clean index\n",
    "    df_emo_cat_t_labels = pd.concat([df_emo_cat_t, df_labels], axis=1) # add metadata cols\n",
    "    df_label =  df_emo_cat_t_labels[df_emo_cat_t_labels['label'] == emotion_label]\n",
    "    \n",
    "    return df_label\n",
    "\n",
    "def wrapper_emotion_rank(df_emo_answers, emotion_label = None, top = None):\n",
    "    df_emotion_cnt = emotion_df_formated(df_emo_answers, emotion_label=emotion_label)\n",
    "    df_emotion_ans_cnt = df_emotion_cnt.drop(['photo_id', 'ethnicity', 'sex','age', 'label', 'url', 'photoId'], axis=1)\n",
    "    df_stack_emotion_cnt = formating_words(df_emotion_ans_cnt) # clean up\n",
    "    df_stack_emotion_cnt = manual_spell_check(df_stack_emotion_cnt)\n",
    "    df_stack_emotion_cnt_clean = count_freq_labels(df_stack_emotion_cnt, X='stacked', col='emotion')\n",
    "    df_stack_emotion_cnt_clean_top = df_stack_emotion_cnt_clean[df_stack_emotion_cnt_clean['counts'] > top]\n",
    "    \n",
    "    return df_stack_emotion_cnt_clean_top"
   ]
  },
  {
   "cell_type": "code",
   "execution_count": 247,
   "id": "8d355ac4-dafc-4f42-bf36-299f41284e55",
   "metadata": {},
   "outputs": [],
   "source": [
    "# df_anger_top = wrapper_emotion_rank(df_emo_answers, emotion_label= 'anger', top=10)\n",
    "# df_disgust_top = wrapper_emotion_rank(df_emo_answers, emotion_label= 'disgust', top=10)\n",
    "# df_fear_top = wrapper_emotion_rank(df_emo_answers, emotion_label= 'fear', top=10)\n",
    "# df_happiness_top = wrapper_emotion_rank(df_emo_answers, emotion_label= 'happiness', top=10)\n",
    "# df_sadness_top = wrapper_emotion_rank(df_emo_answers, emotion_label= 'sadness', top=10)\n",
    "# df_surprise_top = wrapper_emotion_rank(df_emo_answers, emotion_label= 'surprise', top=10)"
   ]
  },
  {
   "cell_type": "code",
   "execution_count": 248,
   "id": "b083196c-b521-487e-aebf-b62d796d1af3",
   "metadata": {},
   "outputs": [],
   "source": [
    "df_emo_overall_raw = count_freq_labels(df_stack_single_word, X=\"stacked\", col='emotion')"
   ]
  },
  {
   "cell_type": "code",
   "execution_count": 249,
   "id": "a930fbd7-4819-47ab-9e37-af34ce593ba1",
   "metadata": {},
   "outputs": [],
   "source": [
    "# df_emo_overall_raw.to_csv('../clean_data/free_choice_emotion_uw_students_overall_count.csv', index=False)\n",
    "\n",
    "# df_anger_top.to_csv('../clean_data/free_choice_emotion_uw_students_anger_rank.csv', index=False)\n",
    "# df_disgust_top.to_csv('../clean_data/free_choice_emotion_uw_students_disgust_rank.csv', index=False)\n",
    "# df_fear_top.to_csv('../clean_data/free_choice_emotion_uw_students_fear_rank.csv', index=False)\n",
    "# df_happiness_top.to_csv('../clean_data/free_choice_emotion_uw_students_happiness_rank.csv', index=False)\n",
    "# df_sadness_top.to_csv('../clean_data/free_choice_emotion_uw_students_sadness_rank.csv', index=False)\n",
    "# df_surprise_top.to_csv('../clean_data/free_choice_emotion_uw_students_surprise_rank.csv', index=False)"
   ]
  },
  {
   "cell_type": "markdown",
   "id": "c8693d96-f4ba-4c34-a8d5-4ad3ff9e1bca",
   "metadata": {},
   "source": [
    "## Count frequency and plot"
   ]
  },
  {
   "cell_type": "code",
   "execution_count": 250,
   "id": "21b3d2e0-43c0-4bb5-b4b7-1017d984b7e8",
   "metadata": {},
   "outputs": [],
   "source": [
    "df_emo_overall = count_freq_labels(df_stack_single_word, X=\"stacked\", col='emotion')"
   ]
  },
  {
   "cell_type": "code",
   "execution_count": 251,
   "id": "6dd3533f-34a9-49be-9e87-a7c644fbdc7f",
   "metadata": {},
   "outputs": [],
   "source": [
    "free_choice_word_list = count_freq_labels(df_stack_single_word, 'emotion')['emotion']"
   ]
  },
  {
   "cell_type": "code",
   "execution_count": 252,
   "id": "2e5391e6-a15e-4620-9245-48123e7075b0",
   "metadata": {},
   "outputs": [],
   "source": [
    "free_choice_word_list.to_csv('../clean_data/free_choice_word_list.csv', index=False)"
   ]
  },
  {
   "cell_type": "code",
   "execution_count": 253,
   "id": "8a5a79c5-9d28-433f-b1b0-8678b65daf00",
   "metadata": {},
   "outputs": [],
   "source": [
    "df_emo_overall.to_csv('../clean_data/free_choice_emotion_uw_students_overall.csv', index=False)"
   ]
  },
  {
   "cell_type": "code",
   "execution_count": 254,
   "id": "29212eb3-fc07-409a-9179-1277d8accd74",
   "metadata": {},
   "outputs": [
    {
     "data": {
      "text/html": [
       "\n",
       "<div id=\"altair-viz-63cb6724465a493084ebf040ff17b09a\"></div>\n",
       "<script type=\"text/javascript\">\n",
       "  (function(spec, embedOpt){\n",
       "    let outputDiv = document.currentScript.previousElementSibling;\n",
       "    if (outputDiv.id !== \"altair-viz-63cb6724465a493084ebf040ff17b09a\") {\n",
       "      outputDiv = document.getElementById(\"altair-viz-63cb6724465a493084ebf040ff17b09a\");\n",
       "    }\n",
       "    const paths = {\n",
       "      \"vega\": \"https://cdn.jsdelivr.net/npm//vega@5?noext\",\n",
       "      \"vega-lib\": \"https://cdn.jsdelivr.net/npm//vega-lib?noext\",\n",
       "      \"vega-lite\": \"https://cdn.jsdelivr.net/npm//vega-lite@4.8.1?noext\",\n",
       "      \"vega-embed\": \"https://cdn.jsdelivr.net/npm//vega-embed@6?noext\",\n",
       "    };\n",
       "\n",
       "    function loadScript(lib) {\n",
       "      return new Promise(function(resolve, reject) {\n",
       "        var s = document.createElement('script');\n",
       "        s.src = paths[lib];\n",
       "        s.async = true;\n",
       "        s.onload = () => resolve(paths[lib]);\n",
       "        s.onerror = () => reject(`Error loading script: ${paths[lib]}`);\n",
       "        document.getElementsByTagName(\"head\")[0].appendChild(s);\n",
       "      });\n",
       "    }\n",
       "\n",
       "    function showError(err) {\n",
       "      outputDiv.innerHTML = `<div class=\"error\" style=\"color:red;\">${err}</div>`;\n",
       "      throw err;\n",
       "    }\n",
       "\n",
       "    function displayChart(vegaEmbed) {\n",
       "      vegaEmbed(outputDiv, spec, embedOpt)\n",
       "        .catch(err => showError(`Javascript Error: ${err.message}<br>This usually means there's a typo in your chart specification. See the javascript console for the full traceback.`));\n",
       "    }\n",
       "\n",
       "    if(typeof define === \"function\" && define.amd) {\n",
       "      requirejs.config({paths});\n",
       "      require([\"vega-embed\"], displayChart, err => showError(`Error loading script: ${err.message}`));\n",
       "    } else if (typeof vegaEmbed === \"function\") {\n",
       "      displayChart(vegaEmbed);\n",
       "    } else {\n",
       "      loadScript(\"vega\")\n",
       "        .then(() => loadScript(\"vega-lite\"))\n",
       "        .then(() => loadScript(\"vega-embed\"))\n",
       "        .catch(showError)\n",
       "        .then(() => displayChart(vegaEmbed));\n",
       "    }\n",
       "  })({\"config\": {\"view\": {\"continuousWidth\": 400, \"continuousHeight\": 300}, \"axis\": {\"labelFontSize\": 11, \"titleFontSize\": 12}}, \"layer\": [{\"mark\": \"bar\", \"encoding\": {\"color\": {\"condition\": {\"value\": \"orange\", \"test\": \"(datum.emotion === 'Some')\"}, \"value\": \"#0570b0\"}, \"x\": {\"type\": \"quantitative\", \"axis\": {\"format\": \".0%\"}, \"field\": \"percent\"}, \"y\": {\"type\": \"nominal\", \"field\": \"emotion\", \"sort\": \"-x\"}}, \"title\": \"Labels with 50 or more mentions | n = 10706\"}, {\"mark\": {\"type\": \"text\", \"align\": \"left\", \"baseline\": \"middle\", \"dx\": 3, \"fontSize\": 12}, \"encoding\": {\"color\": {\"condition\": {\"value\": \"orange\", \"test\": \"(datum.emotion === 'Some')\"}, \"value\": \"#0570b0\"}, \"text\": {\"type\": \"quantitative\", \"field\": \"percent\", \"format\": \".1%\"}, \"x\": {\"type\": \"quantitative\", \"axis\": {\"format\": \".0%\"}, \"field\": \"percent\"}, \"y\": {\"type\": \"nominal\", \"field\": \"emotion\", \"sort\": \"-x\"}}, \"title\": \"Labels with 50 or more mentions | n = 10706\"}], \"data\": {\"name\": \"data-4b70de7dcdb389cb2cfaf077e039d682\"}, \"height\": 600, \"width\": 450, \"$schema\": \"https://vega.github.io/schema/vega-lite/v4.8.1.json\", \"datasets\": {\"data-4b70de7dcdb389cb2cfaf077e039d682\": [{\"counts\": 1412, \"emotion\": \"happiness\", \"percent\": 0.1019715461832888}, {\"counts\": 1159, \"emotion\": \"sadness\", \"percent\": 0.08370044052863436}, {\"counts\": 782, \"emotion\": \"anger\", \"percent\": 0.0564743265689319}, {\"counts\": 594, \"emotion\": \"confused\", \"percent\": 0.0428973784935365}, {\"counts\": 528, \"emotion\": \"surprise\", \"percent\": 0.03813100310536578}, {\"counts\": 500, \"emotion\": \"disgust\", \"percent\": 0.03610890445583881}, {\"counts\": 499, \"emotion\": \"upset\", \"percent\": 0.036036686646927135}, {\"counts\": 484, \"emotion\": \"shocked\", \"percent\": 0.03495341951325197}, {\"counts\": 401, \"emotion\": \"mad\", \"percent\": 0.028959341373582727}, {\"counts\": 347, \"emotion\": \"scared\", \"percent\": 0.025059579692352132}, {\"counts\": 327, \"emotion\": \"none\", \"percent\": 0.023615223514118582}, {\"counts\": 298, \"emotion\": \"excited\", \"percent\": 0.02152090705567993}, {\"counts\": 296, \"emotion\": \"silly\", \"percent\": 0.021376471437856575}, {\"counts\": 278, \"emotion\": \"content\", \"percent\": 0.020076550877446378}, {\"counts\": 164, \"emotion\": \"calm\", \"percent\": 0.01184372066151513}, {\"counts\": 161, \"emotion\": \"goofy\", \"percent\": 0.011627067234780096}, {\"counts\": 158, \"emotion\": \"serious\", \"percent\": 0.011410413808045064}, {\"counts\": 157, \"emotion\": \"unhappy\", \"percent\": 0.011338195999133386}, {\"counts\": 156, \"emotion\": \"annoyed\", \"percent\": 0.01126597819022171}, {\"counts\": 125, \"emotion\": \"funny\", \"percent\": 0.009027226113959702}, {\"counts\": 124, \"emotion\": \"worried\", \"percent\": 0.008955008305048025}, {\"counts\": 119, \"emotion\": \"unpleasant\", \"percent\": 0.008593919260489637}, {\"counts\": 119, \"emotion\": \"frustrated\", \"percent\": 0.008593919260489637}, {\"counts\": 101, \"emotion\": \"uncomfortable\", \"percent\": 0.007293998700079439}, {\"counts\": 90, \"emotion\": \"disappointed\", \"percent\": 0.006499602802050986}, {\"counts\": 88, \"emotion\": \"suprised\", \"percent\": 0.006355167184227631}, {\"counts\": 84, \"emotion\": \"crying\", \"percent\": 0.00606629594858092}, {\"counts\": 79, \"emotion\": \"boring\", \"percent\": 0.005705206904022532}, {\"counts\": 79, \"emotion\": \"fear\", \"percent\": 0.005705206904022532}, {\"counts\": 78, \"emotion\": \"concerned\", \"percent\": 0.005632989095110855}, {\"counts\": 76, \"emotion\": \"smile\", \"percent\": 0.005488553477287499}, {\"counts\": 71, \"emotion\": \"focused\", \"percent\": 0.005127464432729111}, {\"counts\": 71, \"emotion\": \"interested\", \"percent\": 0.005127464432729111}, {\"counts\": 70, \"emotion\": \"intrigued\", \"percent\": 0.005055246623817434}, {\"counts\": 67, \"emotion\": \"blank\", \"percent\": 0.0048385931970824}, {\"counts\": 66, \"emotion\": \"tired\", \"percent\": 0.004766375388170723}, {\"counts\": 63, \"emotion\": \"playful\", \"percent\": 0.00454972196143569}, {\"counts\": 60, \"emotion\": \"curious\", \"percent\": 0.004333068534700657}, {\"counts\": 60, \"emotion\": \"neutral\", \"percent\": 0.004333068534700657}, {\"counts\": 57, \"emotion\": \"pleased\", \"percent\": 0.004116415107965624}, {\"counts\": 54, \"emotion\": \"bad\", \"percent\": 0.0038997616812305913}, {\"counts\": 52, \"emotion\": \"cute\", \"percent\": 0.0037553260634072363}, {\"counts\": 52, \"emotion\": \"bored\", \"percent\": 0.0037553260634072363}, {\"counts\": 50, \"emotion\": \"confident\", \"percent\": 0.003610890445583881}, {\"counts\": 50, \"emotion\": \"crazy\", \"percent\": 0.003610890445583881}]}}, {\"renderer\": \"svg\", \"mode\": \"vega-lite\"});\n",
       "</script>"
      ],
      "text/plain": [
       "alt.LayerChart(...)"
      ]
     },
     "metadata": {},
     "output_type": "display_data"
    }
   ],
   "source": [
    "source = df_emo_overall[df_emo_overall['counts'] > 49]\n",
    "title = 'Labels with 50 or more mentions | n = '+ source['counts'].sum().astype(str)\n",
    "X, Y = 'percent:Q', 'emotion:N'\n",
    "w, h= 450, 600\n",
    "txs, ls, ts = 12, 11, 12\n",
    "\n",
    "chart_overall_per = simple_per_bar(source, title=title, X=X, Y=Y, width=w, height=h, text_size = txs, label_size = ls, title_size=ts)\n",
    "chart_overall_per.display(renderer='svg')"
   ]
  },
  {
   "cell_type": "code",
   "execution_count": 255,
   "id": "844cb3e8-f9f7-4101-8255-4d6e6f198b9a",
   "metadata": {},
   "outputs": [],
   "source": [
    "chart_overall_per_str = altair_saver.save(chart_overall_per, fmt='svg')\n",
    "image_title.append('Overall results by expected label as %')\n",
    "svg_str.append(chart_overall_per_str)"
   ]
  },
  {
   "cell_type": "code",
   "execution_count": 256,
   "id": "2ce867ce-3b2d-4f2f-8b92-598b8d5ea9d7",
   "metadata": {},
   "outputs": [
    {
     "data": {
      "text/html": [
       "\n",
       "<div id=\"altair-viz-02b9ad7e63064f3aaa3cbd1ee88e5ebb\"></div>\n",
       "<script type=\"text/javascript\">\n",
       "  (function(spec, embedOpt){\n",
       "    let outputDiv = document.currentScript.previousElementSibling;\n",
       "    if (outputDiv.id !== \"altair-viz-02b9ad7e63064f3aaa3cbd1ee88e5ebb\") {\n",
       "      outputDiv = document.getElementById(\"altair-viz-02b9ad7e63064f3aaa3cbd1ee88e5ebb\");\n",
       "    }\n",
       "    const paths = {\n",
       "      \"vega\": \"https://cdn.jsdelivr.net/npm//vega@5?noext\",\n",
       "      \"vega-lib\": \"https://cdn.jsdelivr.net/npm//vega-lib?noext\",\n",
       "      \"vega-lite\": \"https://cdn.jsdelivr.net/npm//vega-lite@4.8.1?noext\",\n",
       "      \"vega-embed\": \"https://cdn.jsdelivr.net/npm//vega-embed@6?noext\",\n",
       "    };\n",
       "\n",
       "    function loadScript(lib) {\n",
       "      return new Promise(function(resolve, reject) {\n",
       "        var s = document.createElement('script');\n",
       "        s.src = paths[lib];\n",
       "        s.async = true;\n",
       "        s.onload = () => resolve(paths[lib]);\n",
       "        s.onerror = () => reject(`Error loading script: ${paths[lib]}`);\n",
       "        document.getElementsByTagName(\"head\")[0].appendChild(s);\n",
       "      });\n",
       "    }\n",
       "\n",
       "    function showError(err) {\n",
       "      outputDiv.innerHTML = `<div class=\"error\" style=\"color:red;\">${err}</div>`;\n",
       "      throw err;\n",
       "    }\n",
       "\n",
       "    function displayChart(vegaEmbed) {\n",
       "      vegaEmbed(outputDiv, spec, embedOpt)\n",
       "        .catch(err => showError(`Javascript Error: ${err.message}<br>This usually means there's a typo in your chart specification. See the javascript console for the full traceback.`));\n",
       "    }\n",
       "\n",
       "    if(typeof define === \"function\" && define.amd) {\n",
       "      requirejs.config({paths});\n",
       "      require([\"vega-embed\"], displayChart, err => showError(`Error loading script: ${err.message}`));\n",
       "    } else if (typeof vegaEmbed === \"function\") {\n",
       "      displayChart(vegaEmbed);\n",
       "    } else {\n",
       "      loadScript(\"vega\")\n",
       "        .then(() => loadScript(\"vega-lite\"))\n",
       "        .then(() => loadScript(\"vega-embed\"))\n",
       "        .catch(showError)\n",
       "        .then(() => displayChart(vegaEmbed));\n",
       "    }\n",
       "  })({\"config\": {\"view\": {\"continuousWidth\": 400, \"continuousHeight\": 300}, \"axis\": {\"labelFontSize\": 11, \"titleFontSize\": 12}}, \"layer\": [{\"mark\": \"bar\", \"encoding\": {\"color\": {\"condition\": {\"value\": \"#orange\", \"test\": \"(datum.emotion === 'Some')\"}, \"value\": \"#0570b0\"}, \"x\": {\"type\": \"quantitative\", \"field\": \"counts\"}, \"y\": {\"type\": \"nominal\", \"field\": \"emotion\", \"sort\": \"-x\"}}, \"title\": \"Labels with 50 or more mentions | n = 10706\"}, {\"mark\": {\"type\": \"text\", \"align\": \"left\", \"baseline\": \"middle\", \"dx\": 3, \"fontSize\": 12}, \"encoding\": {\"color\": {\"condition\": {\"value\": \"#orange\", \"test\": \"(datum.emotion === 'Some')\"}, \"value\": \"#0570b0\"}, \"text\": {\"type\": \"quantitative\", \"field\": \"counts\"}, \"x\": {\"type\": \"quantitative\", \"field\": \"counts\"}, \"y\": {\"type\": \"nominal\", \"field\": \"emotion\", \"sort\": \"-x\"}}, \"title\": \"Labels with 50 or more mentions | n = 10706\"}], \"data\": {\"name\": \"data-4b70de7dcdb389cb2cfaf077e039d682\"}, \"height\": 600, \"width\": 450, \"$schema\": \"https://vega.github.io/schema/vega-lite/v4.8.1.json\", \"datasets\": {\"data-4b70de7dcdb389cb2cfaf077e039d682\": [{\"counts\": 1412, \"emotion\": \"happiness\", \"percent\": 0.1019715461832888}, {\"counts\": 1159, \"emotion\": \"sadness\", \"percent\": 0.08370044052863436}, {\"counts\": 782, \"emotion\": \"anger\", \"percent\": 0.0564743265689319}, {\"counts\": 594, \"emotion\": \"confused\", \"percent\": 0.0428973784935365}, {\"counts\": 528, \"emotion\": \"surprise\", \"percent\": 0.03813100310536578}, {\"counts\": 500, \"emotion\": \"disgust\", \"percent\": 0.03610890445583881}, {\"counts\": 499, \"emotion\": \"upset\", \"percent\": 0.036036686646927135}, {\"counts\": 484, \"emotion\": \"shocked\", \"percent\": 0.03495341951325197}, {\"counts\": 401, \"emotion\": \"mad\", \"percent\": 0.028959341373582727}, {\"counts\": 347, \"emotion\": \"scared\", \"percent\": 0.025059579692352132}, {\"counts\": 327, \"emotion\": \"none\", \"percent\": 0.023615223514118582}, {\"counts\": 298, \"emotion\": \"excited\", \"percent\": 0.02152090705567993}, {\"counts\": 296, \"emotion\": \"silly\", \"percent\": 0.021376471437856575}, {\"counts\": 278, \"emotion\": \"content\", \"percent\": 0.020076550877446378}, {\"counts\": 164, \"emotion\": \"calm\", \"percent\": 0.01184372066151513}, {\"counts\": 161, \"emotion\": \"goofy\", \"percent\": 0.011627067234780096}, {\"counts\": 158, \"emotion\": \"serious\", \"percent\": 0.011410413808045064}, {\"counts\": 157, \"emotion\": \"unhappy\", \"percent\": 0.011338195999133386}, {\"counts\": 156, \"emotion\": \"annoyed\", \"percent\": 0.01126597819022171}, {\"counts\": 125, \"emotion\": \"funny\", \"percent\": 0.009027226113959702}, {\"counts\": 124, \"emotion\": \"worried\", \"percent\": 0.008955008305048025}, {\"counts\": 119, \"emotion\": \"unpleasant\", \"percent\": 0.008593919260489637}, {\"counts\": 119, \"emotion\": \"frustrated\", \"percent\": 0.008593919260489637}, {\"counts\": 101, \"emotion\": \"uncomfortable\", \"percent\": 0.007293998700079439}, {\"counts\": 90, \"emotion\": \"disappointed\", \"percent\": 0.006499602802050986}, {\"counts\": 88, \"emotion\": \"suprised\", \"percent\": 0.006355167184227631}, {\"counts\": 84, \"emotion\": \"crying\", \"percent\": 0.00606629594858092}, {\"counts\": 79, \"emotion\": \"boring\", \"percent\": 0.005705206904022532}, {\"counts\": 79, \"emotion\": \"fear\", \"percent\": 0.005705206904022532}, {\"counts\": 78, \"emotion\": \"concerned\", \"percent\": 0.005632989095110855}, {\"counts\": 76, \"emotion\": \"smile\", \"percent\": 0.005488553477287499}, {\"counts\": 71, \"emotion\": \"focused\", \"percent\": 0.005127464432729111}, {\"counts\": 71, \"emotion\": \"interested\", \"percent\": 0.005127464432729111}, {\"counts\": 70, \"emotion\": \"intrigued\", \"percent\": 0.005055246623817434}, {\"counts\": 67, \"emotion\": \"blank\", \"percent\": 0.0048385931970824}, {\"counts\": 66, \"emotion\": \"tired\", \"percent\": 0.004766375388170723}, {\"counts\": 63, \"emotion\": \"playful\", \"percent\": 0.00454972196143569}, {\"counts\": 60, \"emotion\": \"curious\", \"percent\": 0.004333068534700657}, {\"counts\": 60, \"emotion\": \"neutral\", \"percent\": 0.004333068534700657}, {\"counts\": 57, \"emotion\": \"pleased\", \"percent\": 0.004116415107965624}, {\"counts\": 54, \"emotion\": \"bad\", \"percent\": 0.0038997616812305913}, {\"counts\": 52, \"emotion\": \"cute\", \"percent\": 0.0037553260634072363}, {\"counts\": 52, \"emotion\": \"bored\", \"percent\": 0.0037553260634072363}, {\"counts\": 50, \"emotion\": \"confident\", \"percent\": 0.003610890445583881}, {\"counts\": 50, \"emotion\": \"crazy\", \"percent\": 0.003610890445583881}]}}, {\"renderer\": \"svg\", \"mode\": \"vega-lite\"});\n",
       "</script>"
      ],
      "text/plain": [
       "alt.LayerChart(...)"
      ]
     },
     "metadata": {},
     "output_type": "display_data"
    }
   ],
   "source": [
    "source = df_emo_overall[df_emo_overall['counts'] > 49]\n",
    "title = 'Labels with 50 or more mentions | n = '+ source['counts'].sum().astype(str)\n",
    "X, Y = 'counts:Q', 'emotion:N'\n",
    "w, h= 450, 600\n",
    "txs, ls, ts = 12, 11, 12\n",
    "\n",
    "chart_overall_count = simple_count_bar(source, title=title, X=X, Y=Y, width=w, height=h, text_size = txs, label_size = ls, title_size=ts)\n",
    "chart_overall_count.display(renderer='svg')"
   ]
  },
  {
   "cell_type": "code",
   "execution_count": 257,
   "id": "2239ed37-a7ac-4961-8e31-615c17964db6",
   "metadata": {},
   "outputs": [],
   "source": [
    "chart_overall_count_str = altair_saver.save(chart_overall_count, fmt='svg')\n",
    "image_title.append('Overall results by expected label as count')\n",
    "svg_str.append(chart_overall_count_str)"
   ]
  },
  {
   "cell_type": "markdown",
   "id": "4e3eaddf-437e-419a-a980-764acbf78fbe",
   "metadata": {},
   "source": [
    "## Most frequently used word for each emotion category (grouping pictures by expected-emotion)"
   ]
  },
  {
   "cell_type": "markdown",
   "id": "3df9927c-cb19-4b09-b608-5fa1cfadb4bf",
   "metadata": {},
   "source": [
    "### Anger"
   ]
  },
  {
   "cell_type": "code",
   "execution_count": 258,
   "id": "24517f07-7395-4d75-b84c-6fe547ff9697",
   "metadata": {},
   "outputs": [
    {
     "name": "stderr",
     "output_type": "stream",
     "text": [
      "/tmp/ipykernel_4430/2691402293.py:11: FutureWarning: The default value of regex will change from True to False in a future version.\n",
      "  df_stack_single_word['emotion'] = df_stack_single_word['emotion'].str.replace('[^a-zA-Z]', '') # remove non-alphabetic characters\n",
      "/home/pablo_ubuntu/miniconda3/envs/venv/lib/python3.9/site-packages/pandas/core/frame.py:3607: SettingWithCopyWarning: \n",
      "A value is trying to be set on a copy of a slice from a DataFrame.\n",
      "Try using .loc[row_indexer,col_indexer] = value instead\n",
      "\n",
      "See the caveats in the documentation: https://pandas.pydata.org/pandas-docs/stable/user_guide/indexing.html#returning-a-view-versus-a-copy\n",
      "  self._set_item(key, value)\n"
     ]
    },
    {
     "data": {
      "text/html": [
       "\n",
       "<div id=\"altair-viz-df9c9d12b0684cd8911d13c98b0aca4b\"></div>\n",
       "<script type=\"text/javascript\">\n",
       "  (function(spec, embedOpt){\n",
       "    let outputDiv = document.currentScript.previousElementSibling;\n",
       "    if (outputDiv.id !== \"altair-viz-df9c9d12b0684cd8911d13c98b0aca4b\") {\n",
       "      outputDiv = document.getElementById(\"altair-viz-df9c9d12b0684cd8911d13c98b0aca4b\");\n",
       "    }\n",
       "    const paths = {\n",
       "      \"vega\": \"https://cdn.jsdelivr.net/npm//vega@5?noext\",\n",
       "      \"vega-lib\": \"https://cdn.jsdelivr.net/npm//vega-lib?noext\",\n",
       "      \"vega-lite\": \"https://cdn.jsdelivr.net/npm//vega-lite@4.8.1?noext\",\n",
       "      \"vega-embed\": \"https://cdn.jsdelivr.net/npm//vega-embed@6?noext\",\n",
       "    };\n",
       "\n",
       "    function loadScript(lib) {\n",
       "      return new Promise(function(resolve, reject) {\n",
       "        var s = document.createElement('script');\n",
       "        s.src = paths[lib];\n",
       "        s.async = true;\n",
       "        s.onload = () => resolve(paths[lib]);\n",
       "        s.onerror = () => reject(`Error loading script: ${paths[lib]}`);\n",
       "        document.getElementsByTagName(\"head\")[0].appendChild(s);\n",
       "      });\n",
       "    }\n",
       "\n",
       "    function showError(err) {\n",
       "      outputDiv.innerHTML = `<div class=\"error\" style=\"color:red;\">${err}</div>`;\n",
       "      throw err;\n",
       "    }\n",
       "\n",
       "    function displayChart(vegaEmbed) {\n",
       "      vegaEmbed(outputDiv, spec, embedOpt)\n",
       "        .catch(err => showError(`Javascript Error: ${err.message}<br>This usually means there's a typo in your chart specification. See the javascript console for the full traceback.`));\n",
       "    }\n",
       "\n",
       "    if(typeof define === \"function\" && define.amd) {\n",
       "      requirejs.config({paths});\n",
       "      require([\"vega-embed\"], displayChart, err => showError(`Error loading script: ${err.message}`));\n",
       "    } else if (typeof vegaEmbed === \"function\") {\n",
       "      displayChart(vegaEmbed);\n",
       "    } else {\n",
       "      loadScript(\"vega\")\n",
       "        .then(() => loadScript(\"vega-lite\"))\n",
       "        .then(() => loadScript(\"vega-embed\"))\n",
       "        .catch(showError)\n",
       "        .then(() => displayChart(vegaEmbed));\n",
       "    }\n",
       "  })({\"config\": {\"view\": {\"continuousWidth\": 400, \"continuousHeight\": 300}, \"axis\": {\"labelFontSize\": 11, \"titleFontSize\": 12}}, \"layer\": [{\"mark\": \"bar\", \"encoding\": {\"color\": {\"condition\": {\"value\": \"orange\", \"test\": \"(datum.emotion === 'anger')\"}, \"value\": \"#0570b0\"}, \"x\": {\"type\": \"quantitative\", \"axis\": {\"format\": \".0%\"}, \"field\": \"percent\"}, \"y\": {\"type\": \"nominal\", \"field\": \"emotion\", \"sort\": \"-x\"}}, \"title\": \"Expcted label: anger | Labels with 10 or more mentions | n = 1631\"}, {\"mark\": {\"type\": \"text\", \"align\": \"left\", \"baseline\": \"middle\", \"dx\": 3, \"fontSize\": 12}, \"encoding\": {\"color\": {\"condition\": {\"value\": \"orange\", \"test\": \"(datum.emotion === 'anger')\"}, \"value\": \"#0570b0\"}, \"text\": {\"type\": \"quantitative\", \"field\": \"percent\", \"format\": \".1%\"}, \"x\": {\"type\": \"quantitative\", \"axis\": {\"format\": \".0%\"}, \"field\": \"percent\"}, \"y\": {\"type\": \"nominal\", \"field\": \"emotion\", \"sort\": \"-x\"}}, \"title\": \"Expcted label: anger | Labels with 10 or more mentions | n = 1631\"}], \"data\": {\"name\": \"data-e164c4562c683b76581f078e8b228b9f\"}, \"height\": 600, \"width\": 450, \"$schema\": \"https://vega.github.io/schema/vega-lite/v4.8.1.json\", \"datasets\": {\"data-e164c4562c683b76581f078e8b228b9f\": [{\"counts\": 447, \"emotion\": \"anger\", \"percent\": 0.27406499080318825}, {\"counts\": 190, \"emotion\": \"mad\", \"percent\": 0.11649294911097487}, {\"counts\": 120, \"emotion\": \"upset\", \"percent\": 0.07357449417535254}, {\"counts\": 65, \"emotion\": \"sadness\", \"percent\": 0.039852851011649294}, {\"counts\": 62, \"emotion\": \"confused\", \"percent\": 0.03801348865726548}, {\"counts\": 61, \"emotion\": \"serious\", \"percent\": 0.03740036787247088}, {\"counts\": 54, \"emotion\": \"frustrated\", \"percent\": 0.03310852237890864}, {\"counts\": 40, \"emotion\": \"none\", \"percent\": 0.024524831391784182}, {\"counts\": 29, \"emotion\": \"annoyed\", \"percent\": 0.017780502759043533}, {\"counts\": 26, \"emotion\": \"silly\", \"percent\": 0.01594114040465972}, {\"counts\": 21, \"emotion\": \"disappointed\", \"percent\": 0.012875536480686695}, {\"counts\": 18, \"emotion\": \"unhappy\", \"percent\": 0.011036174126302882}, {\"counts\": 18, \"emotion\": \"happiness\", \"percent\": 0.011036174126302882}, {\"counts\": 17, \"emotion\": \"disgust\", \"percent\": 0.010423053341508276}, {\"counts\": 16, \"emotion\": \"focused\", \"percent\": 0.009809932556713672}, {\"counts\": 14, \"emotion\": \"unpleasant\", \"percent\": 0.008583690987124463}, {\"counts\": 13, \"emotion\": \"pissed\", \"percent\": 0.00797057020232986}, {\"counts\": 13, \"emotion\": \"concerned\", \"percent\": 0.00797057020232986}, {\"counts\": 13, \"emotion\": \"calm\", \"percent\": 0.00797057020232986}, {\"counts\": 12, \"emotion\": \"goofy\", \"percent\": 0.007357449417535254}, {\"counts\": 11, \"emotion\": \"shocked\", \"percent\": 0.00674432863274065}]}}, {\"renderer\": \"svg\", \"mode\": \"vega-lite\"});\n",
       "</script>"
      ],
      "text/plain": [
       "alt.LayerChart(...)"
      ]
     },
     "metadata": {},
     "output_type": "display_data"
    }
   ],
   "source": [
    "emotion = 'anger'\n",
    "\n",
    "df_emotion = emotion_df_formated(df_emo_answers, emotion) # subset 'emotion' rows\n",
    "df_emotion_ans = df_emotion.drop(['photo_id', 'ethnicity', 'sex','age', 'label', 'url', 'photoId'], axis=1)\n",
    "df_stack_emotion = formating_words(df_emotion_ans) # clean up\n",
    "df_stack_emotion = manual_spell_check(df_stack_emotion)\n",
    "df_stack_emotion = grouping(df_stack_emotion, syns)\n",
    "df_stack_emotion = grouping(df_stack_emotion, hyps)\n",
    "\n",
    "df_stack_emotion.replace({'scared': 'fear'}, inplace=True)\n",
    "\n",
    "source = count_freq_labels(df_stack_emotion,X='stacked', col='emotion')\n",
    "source_10 = source[source['counts'] > 10]\n",
    "\n",
    "title = 'Expcted label: '+ emotion + ' | Labels with 10 or more mentions | n = '+ source['counts'].sum().astype(str)\n",
    "X, Y = 'percent:Q', 'emotion:N'\n",
    "w, h= 450, 600\n",
    "txs, ls, ts = 12, 11, 12\n",
    "\n",
    "\n",
    "chart_anger = simple_per_bar(\n",
    "    source_10, title=title, X=X, Y=Y, \\\n",
    "    width=w, height=h, emotion=emotion, \\\n",
    "    text_size = txs, label_size = ls, title_size=ts)\n",
    "chart_anger.display(renderer='svg')"
   ]
  },
  {
   "cell_type": "code",
   "execution_count": 259,
   "id": "36817d00-bf12-4fbc-818b-094d06a1b3f9",
   "metadata": {},
   "outputs": [],
   "source": [
    "chart_anger_str = altair_saver.save(chart_anger, fmt='svg')\n",
    "image_title.append(\"Images depicting 'anger'\")\n",
    "svg_str.append(chart_anger_str)"
   ]
  },
  {
   "cell_type": "markdown",
   "id": "db518d52-b7fb-41de-850c-886ff041069f",
   "metadata": {},
   "source": [
    "### Disgust"
   ]
  },
  {
   "cell_type": "code",
   "execution_count": 260,
   "id": "f4840547-189d-4364-ac4d-08a6a4d83dbf",
   "metadata": {},
   "outputs": [
    {
     "name": "stderr",
     "output_type": "stream",
     "text": [
      "/tmp/ipykernel_4430/2691402293.py:11: FutureWarning: The default value of regex will change from True to False in a future version.\n",
      "  df_stack_single_word['emotion'] = df_stack_single_word['emotion'].str.replace('[^a-zA-Z]', '') # remove non-alphabetic characters\n",
      "/home/pablo_ubuntu/miniconda3/envs/venv/lib/python3.9/site-packages/pandas/core/frame.py:3607: SettingWithCopyWarning: \n",
      "A value is trying to be set on a copy of a slice from a DataFrame.\n",
      "Try using .loc[row_indexer,col_indexer] = value instead\n",
      "\n",
      "See the caveats in the documentation: https://pandas.pydata.org/pandas-docs/stable/user_guide/indexing.html#returning-a-view-versus-a-copy\n",
      "  self._set_item(key, value)\n"
     ]
    },
    {
     "data": {
      "text/html": [
       "\n",
       "<div id=\"altair-viz-a40f26c25fa4443fa828f2e7494ea775\"></div>\n",
       "<script type=\"text/javascript\">\n",
       "  (function(spec, embedOpt){\n",
       "    let outputDiv = document.currentScript.previousElementSibling;\n",
       "    if (outputDiv.id !== \"altair-viz-a40f26c25fa4443fa828f2e7494ea775\") {\n",
       "      outputDiv = document.getElementById(\"altair-viz-a40f26c25fa4443fa828f2e7494ea775\");\n",
       "    }\n",
       "    const paths = {\n",
       "      \"vega\": \"https://cdn.jsdelivr.net/npm//vega@5?noext\",\n",
       "      \"vega-lib\": \"https://cdn.jsdelivr.net/npm//vega-lib?noext\",\n",
       "      \"vega-lite\": \"https://cdn.jsdelivr.net/npm//vega-lite@4.8.1?noext\",\n",
       "      \"vega-embed\": \"https://cdn.jsdelivr.net/npm//vega-embed@6?noext\",\n",
       "    };\n",
       "\n",
       "    function loadScript(lib) {\n",
       "      return new Promise(function(resolve, reject) {\n",
       "        var s = document.createElement('script');\n",
       "        s.src = paths[lib];\n",
       "        s.async = true;\n",
       "        s.onload = () => resolve(paths[lib]);\n",
       "        s.onerror = () => reject(`Error loading script: ${paths[lib]}`);\n",
       "        document.getElementsByTagName(\"head\")[0].appendChild(s);\n",
       "      });\n",
       "    }\n",
       "\n",
       "    function showError(err) {\n",
       "      outputDiv.innerHTML = `<div class=\"error\" style=\"color:red;\">${err}</div>`;\n",
       "      throw err;\n",
       "    }\n",
       "\n",
       "    function displayChart(vegaEmbed) {\n",
       "      vegaEmbed(outputDiv, spec, embedOpt)\n",
       "        .catch(err => showError(`Javascript Error: ${err.message}<br>This usually means there's a typo in your chart specification. See the javascript console for the full traceback.`));\n",
       "    }\n",
       "\n",
       "    if(typeof define === \"function\" && define.amd) {\n",
       "      requirejs.config({paths});\n",
       "      require([\"vega-embed\"], displayChart, err => showError(`Error loading script: ${err.message}`));\n",
       "    } else if (typeof vegaEmbed === \"function\") {\n",
       "      displayChart(vegaEmbed);\n",
       "    } else {\n",
       "      loadScript(\"vega\")\n",
       "        .then(() => loadScript(\"vega-lite\"))\n",
       "        .then(() => loadScript(\"vega-embed\"))\n",
       "        .catch(showError)\n",
       "        .then(() => displayChart(vegaEmbed));\n",
       "    }\n",
       "  })({\"config\": {\"view\": {\"continuousWidth\": 400, \"continuousHeight\": 300}, \"axis\": {\"labelFontSize\": 11, \"titleFontSize\": 12}}, \"layer\": [{\"mark\": \"bar\", \"encoding\": {\"color\": {\"condition\": {\"value\": \"orange\", \"test\": \"(datum.emotion === 'disgust')\"}, \"value\": \"#0570b0\"}, \"x\": {\"type\": \"quantitative\", \"axis\": {\"format\": \".0%\"}, \"field\": \"percent\"}, \"y\": {\"type\": \"nominal\", \"field\": \"emotion\", \"sort\": \"-x\"}}, \"title\": \"Expcted label: disgust | Labels with 10 or more mentions | n = 1602\"}, {\"mark\": {\"type\": \"text\", \"align\": \"left\", \"baseline\": \"middle\", \"dx\": 3, \"fontSize\": 12}, \"encoding\": {\"color\": {\"condition\": {\"value\": \"orange\", \"test\": \"(datum.emotion === 'disgust')\"}, \"value\": \"#0570b0\"}, \"text\": {\"type\": \"quantitative\", \"field\": \"percent\", \"format\": \".1%\"}, \"x\": {\"type\": \"quantitative\", \"axis\": {\"format\": \".0%\"}, \"field\": \"percent\"}, \"y\": {\"type\": \"nominal\", \"field\": \"emotion\", \"sort\": \"-x\"}}, \"title\": \"Expcted label: disgust | Labels with 10 or more mentions | n = 1602\"}], \"data\": {\"name\": \"data-a235dd52868334950353a0f3f06864be\"}, \"height\": 600, \"width\": 450, \"$schema\": \"https://vega.github.io/schema/vega-lite/v4.8.1.json\", \"datasets\": {\"data-a235dd52868334950353a0f3f06864be\": [{\"counts\": 293, \"emotion\": \"disgust\", \"percent\": 0.182896379525593}, {\"counts\": 142, \"emotion\": \"confused\", \"percent\": 0.08863920099875156}, {\"counts\": 132, \"emotion\": \"anger\", \"percent\": 0.08239700374531835}, {\"counts\": 89, \"emotion\": \"mad\", \"percent\": 0.05555555555555555}, {\"counts\": 69, \"emotion\": \"silly\", \"percent\": 0.04307116104868914}, {\"counts\": 66, \"emotion\": \"upset\", \"percent\": 0.04119850187265917}, {\"counts\": 54, \"emotion\": \"happiness\", \"percent\": 0.033707865168539325}, {\"counts\": 44, \"emotion\": \"annoyed\", \"percent\": 0.02746566791510612}, {\"counts\": 38, \"emotion\": \"sadness\", \"percent\": 0.02372034956304619}, {\"counts\": 36, \"emotion\": \"shocked\", \"percent\": 0.02247191011235955}, {\"counts\": 34, \"emotion\": \"none\", \"percent\": 0.02122347066167291}, {\"counts\": 31, \"emotion\": \"fear\", \"percent\": 0.019350811485642945}, {\"counts\": 31, \"emotion\": \"surprise\", \"percent\": 0.019350811485642945}, {\"counts\": 29, \"emotion\": \"goofy\", \"percent\": 0.018102372034956304}, {\"counts\": 23, \"emotion\": \"frustrated\", \"percent\": 0.01435705368289638}, {\"counts\": 22, \"emotion\": \"funny\", \"percent\": 0.01373283395755306}, {\"counts\": 22, \"emotion\": \"unhappy\", \"percent\": 0.01373283395755306}, {\"counts\": 18, \"emotion\": \"sour\", \"percent\": 0.011235955056179775}, {\"counts\": 17, \"emotion\": \"unpleasant\", \"percent\": 0.010611735330836454}, {\"counts\": 17, \"emotion\": \"gross\", \"percent\": 0.010611735330836454}, {\"counts\": 16, \"emotion\": \"cute\", \"percent\": 0.009987515605493134}, {\"counts\": 15, \"emotion\": \"playful\", \"percent\": 0.009363295880149813}, {\"counts\": 14, \"emotion\": \"hate\", \"percent\": 0.008739076154806492}, {\"counts\": 13, \"emotion\": \"uncomfortable\", \"percent\": 0.008114856429463172}, {\"counts\": 13, \"emotion\": \"weird\", \"percent\": 0.008114856429463172}]}}, {\"renderer\": \"svg\", \"mode\": \"vega-lite\"});\n",
       "</script>"
      ],
      "text/plain": [
       "alt.LayerChart(...)"
      ]
     },
     "metadata": {},
     "output_type": "display_data"
    }
   ],
   "source": [
    "emotion = 'disgust'\n",
    "\n",
    "df_emotion = emotion_df_formated(df_emo_answers, emotion) # subset 'emotion' rows\n",
    "df_emotion_ans = df_emotion.drop(['photo_id', 'ethnicity', 'sex','age', 'label', 'url', 'photoId'], axis=1)\n",
    "df_stack_emotion = formating_words(df_emotion_ans) # clean up\n",
    "df_stack_emotion = manual_spell_check(df_stack_emotion)\n",
    "df_stack_emotion = grouping(df_stack_emotion, syns)\n",
    "df_stack_emotion = grouping(df_stack_emotion, hyps)\n",
    "\n",
    "df_stack_emotion.replace({'scared': 'fear'}, inplace=True)\n",
    "\n",
    "source = count_freq_labels(df_stack_emotion,X='stacked', col='emotion')\n",
    "source_10 = source[source['counts'] > 10]\n",
    "\n",
    "title = 'Expcted label: '+ emotion + ' | Labels with 10 or more mentions | n = '+ source['counts'].sum().astype(str)\n",
    "X, Y = 'percent:Q', 'emotion:N'\n",
    "w, h= 450, 600\n",
    "txs, ls, ts = 12, 11, 12\n",
    "\n",
    "\n",
    "chart_disgust = simple_per_bar(\n",
    "    source_10, title=title, X=X, Y=Y, \\\n",
    "    width=w, height=h, emotion=emotion, \\\n",
    "    text_size = txs, label_size = ls, title_size=ts)\n",
    "chart_disgust.display(renderer='svg')"
   ]
  },
  {
   "cell_type": "code",
   "execution_count": 261,
   "id": "124a7e61-ad14-48c4-99f9-9a0b7231d5b4",
   "metadata": {},
   "outputs": [],
   "source": [
    "chart_disgust_str = altair_saver.save(chart_disgust, fmt='svg')\n",
    "image_title.append(\"Images depicting 'disgust'\")\n",
    "svg_str.append(chart_disgust_str)"
   ]
  },
  {
   "cell_type": "markdown",
   "id": "0bd073e8-0081-4e8c-9180-83285022c59a",
   "metadata": {},
   "source": [
    "### Fear"
   ]
  },
  {
   "cell_type": "code",
   "execution_count": 262,
   "id": "226e0c9c-0887-4c4d-8fad-83616d272d3c",
   "metadata": {},
   "outputs": [
    {
     "name": "stderr",
     "output_type": "stream",
     "text": [
      "/tmp/ipykernel_4430/2691402293.py:11: FutureWarning: The default value of regex will change from True to False in a future version.\n",
      "  df_stack_single_word['emotion'] = df_stack_single_word['emotion'].str.replace('[^a-zA-Z]', '') # remove non-alphabetic characters\n",
      "/home/pablo_ubuntu/miniconda3/envs/venv/lib/python3.9/site-packages/pandas/core/frame.py:3607: SettingWithCopyWarning: \n",
      "A value is trying to be set on a copy of a slice from a DataFrame.\n",
      "Try using .loc[row_indexer,col_indexer] = value instead\n",
      "\n",
      "See the caveats in the documentation: https://pandas.pydata.org/pandas-docs/stable/user_guide/indexing.html#returning-a-view-versus-a-copy\n",
      "  self._set_item(key, value)\n"
     ]
    },
    {
     "data": {
      "text/html": [
       "\n",
       "<div id=\"altair-viz-81d99350d08e4164bffcedfbca26aa57\"></div>\n",
       "<script type=\"text/javascript\">\n",
       "  (function(spec, embedOpt){\n",
       "    let outputDiv = document.currentScript.previousElementSibling;\n",
       "    if (outputDiv.id !== \"altair-viz-81d99350d08e4164bffcedfbca26aa57\") {\n",
       "      outputDiv = document.getElementById(\"altair-viz-81d99350d08e4164bffcedfbca26aa57\");\n",
       "    }\n",
       "    const paths = {\n",
       "      \"vega\": \"https://cdn.jsdelivr.net/npm//vega@5?noext\",\n",
       "      \"vega-lib\": \"https://cdn.jsdelivr.net/npm//vega-lib?noext\",\n",
       "      \"vega-lite\": \"https://cdn.jsdelivr.net/npm//vega-lite@4.8.1?noext\",\n",
       "      \"vega-embed\": \"https://cdn.jsdelivr.net/npm//vega-embed@6?noext\",\n",
       "    };\n",
       "\n",
       "    function loadScript(lib) {\n",
       "      return new Promise(function(resolve, reject) {\n",
       "        var s = document.createElement('script');\n",
       "        s.src = paths[lib];\n",
       "        s.async = true;\n",
       "        s.onload = () => resolve(paths[lib]);\n",
       "        s.onerror = () => reject(`Error loading script: ${paths[lib]}`);\n",
       "        document.getElementsByTagName(\"head\")[0].appendChild(s);\n",
       "      });\n",
       "    }\n",
       "\n",
       "    function showError(err) {\n",
       "      outputDiv.innerHTML = `<div class=\"error\" style=\"color:red;\">${err}</div>`;\n",
       "      throw err;\n",
       "    }\n",
       "\n",
       "    function displayChart(vegaEmbed) {\n",
       "      vegaEmbed(outputDiv, spec, embedOpt)\n",
       "        .catch(err => showError(`Javascript Error: ${err.message}<br>This usually means there's a typo in your chart specification. See the javascript console for the full traceback.`));\n",
       "    }\n",
       "\n",
       "    if(typeof define === \"function\" && define.amd) {\n",
       "      requirejs.config({paths});\n",
       "      require([\"vega-embed\"], displayChart, err => showError(`Error loading script: ${err.message}`));\n",
       "    } else if (typeof vegaEmbed === \"function\") {\n",
       "      displayChart(vegaEmbed);\n",
       "    } else {\n",
       "      loadScript(\"vega\")\n",
       "        .then(() => loadScript(\"vega-lite\"))\n",
       "        .then(() => loadScript(\"vega-embed\"))\n",
       "        .catch(showError)\n",
       "        .then(() => displayChart(vegaEmbed));\n",
       "    }\n",
       "  })({\"config\": {\"view\": {\"continuousWidth\": 400, \"continuousHeight\": 300}, \"axis\": {\"labelFontSize\": 11, \"titleFontSize\": 12}}, \"layer\": [{\"mark\": \"bar\", \"encoding\": {\"color\": {\"condition\": {\"value\": \"orange\", \"test\": \"(datum.emotion === 'fear')\"}, \"value\": \"#0570b0\"}, \"x\": {\"type\": \"quantitative\", \"axis\": {\"format\": \".0%\"}, \"field\": \"percent\"}, \"y\": {\"type\": \"nominal\", \"field\": \"emotion\", \"sort\": \"-x\"}}, \"title\": \"Expcted label: fear | Labels with 10 or more mentions | n = 1756\"}, {\"mark\": {\"type\": \"text\", \"align\": \"left\", \"baseline\": \"middle\", \"dx\": 3, \"fontSize\": 12}, \"encoding\": {\"color\": {\"condition\": {\"value\": \"orange\", \"test\": \"(datum.emotion === 'fear')\"}, \"value\": \"#0570b0\"}, \"text\": {\"type\": \"quantitative\", \"field\": \"percent\", \"format\": \".1%\"}, \"x\": {\"type\": \"quantitative\", \"axis\": {\"format\": \".0%\"}, \"field\": \"percent\"}, \"y\": {\"type\": \"nominal\", \"field\": \"emotion\", \"sort\": \"-x\"}}, \"title\": \"Expcted label: fear | Labels with 10 or more mentions | n = 1756\"}], \"data\": {\"name\": \"data-1a25a345c094a99562828164879e2566\"}, \"height\": 600, \"width\": 450, \"$schema\": \"https://vega.github.io/schema/vega-lite/v4.8.1.json\", \"datasets\": {\"data-1a25a345c094a99562828164879e2566\": [{\"counts\": 223, \"emotion\": \"fear\", \"percent\": 0.12699316628701596}, {\"counts\": 186, \"emotion\": \"shocked\", \"percent\": 0.10592255125284739}, {\"counts\": 162, \"emotion\": \"sadness\", \"percent\": 0.09225512528473805}, {\"counts\": 156, \"emotion\": \"surprise\", \"percent\": 0.0888382687927107}, {\"counts\": 100, \"emotion\": \"disgust\", \"percent\": 0.05694760820045558}, {\"counts\": 95, \"emotion\": \"confused\", \"percent\": 0.0541002277904328}, {\"counts\": 69, \"emotion\": \"upset\", \"percent\": 0.03929384965831435}, {\"counts\": 54, \"emotion\": \"happiness\", \"percent\": 0.030751708428246014}, {\"counts\": 53, \"emotion\": \"excited\", \"percent\": 0.03018223234624146}, {\"counts\": 50, \"emotion\": \"worried\", \"percent\": 0.02847380410022779}, {\"counts\": 32, \"emotion\": \"none\", \"percent\": 0.018223234624145785}, {\"counts\": 28, \"emotion\": \"anger\", \"percent\": 0.015945330296127564}, {\"counts\": 27, \"emotion\": \"suprised\", \"percent\": 0.015375854214123007}, {\"counts\": 27, \"emotion\": \"silly\", \"percent\": 0.015375854214123007}, {\"counts\": 18, \"emotion\": \"concerned\", \"percent\": 0.010250569476082005}, {\"counts\": 17, \"emotion\": \"mad\", \"percent\": 0.00968109339407745}, {\"counts\": 16, \"emotion\": \"goofy\", \"percent\": 0.009111617312072893}, {\"counts\": 16, \"emotion\": \"funny\", \"percent\": 0.009111617312072893}, {\"counts\": 16, \"emotion\": \"frightened\", \"percent\": 0.009111617312072893}, {\"counts\": 15, \"emotion\": \"crying\", \"percent\": 0.008542141230068337}, {\"counts\": 13, \"emotion\": \"afraid\", \"percent\": 0.007403189066059226}, {\"counts\": 13, \"emotion\": \"unhappy\", \"percent\": 0.007403189066059226}, {\"counts\": 13, \"emotion\": \"unpleasant\", \"percent\": 0.007403189066059226}, {\"counts\": 13, \"emotion\": \"uncomfortable\", \"percent\": 0.007403189066059226}, {\"counts\": 11, \"emotion\": \"nervous\", \"percent\": 0.006264236902050114}, {\"counts\": 11, \"emotion\": \"disbelief\", \"percent\": 0.006264236902050114}]}}, {\"renderer\": \"svg\", \"mode\": \"vega-lite\"});\n",
       "</script>"
      ],
      "text/plain": [
       "alt.LayerChart(...)"
      ]
     },
     "metadata": {},
     "output_type": "display_data"
    }
   ],
   "source": [
    "emotion = 'fear'\n",
    "\n",
    "df_emotion = emotion_df_formated(df_emo_answers, emotion) # subset 'emotion' rows\n",
    "df_emotion_ans = df_emotion.drop(['photo_id', 'ethnicity', 'sex','age', 'label', 'url', 'photoId'], axis=1)\n",
    "df_stack_emotion = formating_words(df_emotion_ans) # clean up\n",
    "df_stack_emotion = manual_spell_check(df_stack_emotion)\n",
    "df_stack_emotion = grouping(df_stack_emotion, syns)\n",
    "df_stack_emotion = grouping(df_stack_emotion, hyps)\n",
    "\n",
    "df_stack_emotion.replace({'scared': 'fear'}, inplace=True)\n",
    "\n",
    "source = count_freq_labels(df_stack_emotion,X='stacked', col='emotion')\n",
    "source_10 = source[source['counts'] > 10]\n",
    "\n",
    "title = 'Expcted label: '+ emotion + ' | Labels with 10 or more mentions | n = '+ source['counts'].sum().astype(str)\n",
    "X, Y = 'percent:Q', 'emotion:N'\n",
    "w, h= 450, 600\n",
    "txs, ls, ts = 12, 11, 12\n",
    "\n",
    "\n",
    "chart_fear = simple_per_bar(\n",
    "    source_10, title=title, X=X, Y=Y, \\\n",
    "    width=w, height=h, emotion=emotion, \\\n",
    "    text_size = txs, label_size = ls, title_size=ts)\n",
    "chart_fear.display(renderer='svg')"
   ]
  },
  {
   "cell_type": "code",
   "execution_count": 263,
   "id": "77cab166-6b3b-4f3e-b020-b187b3d1851e",
   "metadata": {},
   "outputs": [],
   "source": [
    "chart_fear_str = altair_saver.save(chart_fear, fmt='svg')\n",
    "image_title.append(\"Images depicting 'fear'\")\n",
    "svg_str.append(chart_fear_str)"
   ]
  },
  {
   "cell_type": "markdown",
   "id": "9321945e-348d-4bf4-8ab7-c7e492d541a9",
   "metadata": {},
   "source": [
    "### Surprise"
   ]
  },
  {
   "cell_type": "code",
   "execution_count": 264,
   "id": "f6e9a0c6-d0a8-4525-b6d7-b593dafb0a3c",
   "metadata": {},
   "outputs": [
    {
     "name": "stderr",
     "output_type": "stream",
     "text": [
      "/tmp/ipykernel_4430/2691402293.py:11: FutureWarning: The default value of regex will change from True to False in a future version.\n",
      "  df_stack_single_word['emotion'] = df_stack_single_word['emotion'].str.replace('[^a-zA-Z]', '') # remove non-alphabetic characters\n",
      "/home/pablo_ubuntu/miniconda3/envs/venv/lib/python3.9/site-packages/pandas/core/frame.py:3607: SettingWithCopyWarning: \n",
      "A value is trying to be set on a copy of a slice from a DataFrame.\n",
      "Try using .loc[row_indexer,col_indexer] = value instead\n",
      "\n",
      "See the caveats in the documentation: https://pandas.pydata.org/pandas-docs/stable/user_guide/indexing.html#returning-a-view-versus-a-copy\n",
      "  self._set_item(key, value)\n"
     ]
    },
    {
     "data": {
      "text/html": [
       "\n",
       "<div id=\"altair-viz-a978e589bc854366b1e762a195b71473\"></div>\n",
       "<script type=\"text/javascript\">\n",
       "  (function(spec, embedOpt){\n",
       "    let outputDiv = document.currentScript.previousElementSibling;\n",
       "    if (outputDiv.id !== \"altair-viz-a978e589bc854366b1e762a195b71473\") {\n",
       "      outputDiv = document.getElementById(\"altair-viz-a978e589bc854366b1e762a195b71473\");\n",
       "    }\n",
       "    const paths = {\n",
       "      \"vega\": \"https://cdn.jsdelivr.net/npm//vega@5?noext\",\n",
       "      \"vega-lib\": \"https://cdn.jsdelivr.net/npm//vega-lib?noext\",\n",
       "      \"vega-lite\": \"https://cdn.jsdelivr.net/npm//vega-lite@4.8.1?noext\",\n",
       "      \"vega-embed\": \"https://cdn.jsdelivr.net/npm//vega-embed@6?noext\",\n",
       "    };\n",
       "\n",
       "    function loadScript(lib) {\n",
       "      return new Promise(function(resolve, reject) {\n",
       "        var s = document.createElement('script');\n",
       "        s.src = paths[lib];\n",
       "        s.async = true;\n",
       "        s.onload = () => resolve(paths[lib]);\n",
       "        s.onerror = () => reject(`Error loading script: ${paths[lib]}`);\n",
       "        document.getElementsByTagName(\"head\")[0].appendChild(s);\n",
       "      });\n",
       "    }\n",
       "\n",
       "    function showError(err) {\n",
       "      outputDiv.innerHTML = `<div class=\"error\" style=\"color:red;\">${err}</div>`;\n",
       "      throw err;\n",
       "    }\n",
       "\n",
       "    function displayChart(vegaEmbed) {\n",
       "      vegaEmbed(outputDiv, spec, embedOpt)\n",
       "        .catch(err => showError(`Javascript Error: ${err.message}<br>This usually means there's a typo in your chart specification. See the javascript console for the full traceback.`));\n",
       "    }\n",
       "\n",
       "    if(typeof define === \"function\" && define.amd) {\n",
       "      requirejs.config({paths});\n",
       "      require([\"vega-embed\"], displayChart, err => showError(`Error loading script: ${err.message}`));\n",
       "    } else if (typeof vegaEmbed === \"function\") {\n",
       "      displayChart(vegaEmbed);\n",
       "    } else {\n",
       "      loadScript(\"vega\")\n",
       "        .then(() => loadScript(\"vega-lite\"))\n",
       "        .then(() => loadScript(\"vega-embed\"))\n",
       "        .catch(showError)\n",
       "        .then(() => displayChart(vegaEmbed));\n",
       "    }\n",
       "  })({\"config\": {\"view\": {\"continuousWidth\": 400, \"continuousHeight\": 300}, \"axis\": {\"labelFontSize\": 11, \"titleFontSize\": 12}}, \"layer\": [{\"mark\": \"bar\", \"encoding\": {\"color\": {\"condition\": {\"value\": \"orange\", \"test\": \"(datum.emotion === 'surprise')\"}, \"value\": \"#0570b0\"}, \"x\": {\"type\": \"quantitative\", \"axis\": {\"format\": \".0%\"}, \"field\": \"percent\"}, \"y\": {\"type\": \"nominal\", \"field\": \"emotion\", \"sort\": \"-x\"}}, \"title\": \"Expcted label: surprise | Labels with 10 or more mentions | n = 1679\"}, {\"mark\": {\"type\": \"text\", \"align\": \"left\", \"baseline\": \"middle\", \"dx\": 3, \"fontSize\": 12}, \"encoding\": {\"color\": {\"condition\": {\"value\": \"orange\", \"test\": \"(datum.emotion === 'surprise')\"}, \"value\": \"#0570b0\"}, \"text\": {\"type\": \"quantitative\", \"field\": \"percent\", \"format\": \".1%\"}, \"x\": {\"type\": \"quantitative\", \"axis\": {\"format\": \".0%\"}, \"field\": \"percent\"}, \"y\": {\"type\": \"nominal\", \"field\": \"emotion\", \"sort\": \"-x\"}}, \"title\": \"Expcted label: surprise | Labels with 10 or more mentions | n = 1679\"}], \"data\": {\"name\": \"data-443963de75d90dc6998c3030916dccb7\"}, \"height\": 600, \"width\": 450, \"$schema\": \"https://vega.github.io/schema/vega-lite/v4.8.1.json\", \"datasets\": {\"data-443963de75d90dc6998c3030916dccb7\": [{\"counts\": 272, \"emotion\": \"surprise\", \"percent\": 0.1620011911852293}, {\"counts\": 209, \"emotion\": \"shocked\", \"percent\": 0.12447885646217986}, {\"counts\": 198, \"emotion\": \"happiness\", \"percent\": 0.1179273377010125}, {\"counts\": 97, \"emotion\": \"confused\", \"percent\": 0.057772483621203095}, {\"counts\": 90, \"emotion\": \"excited\", \"percent\": 0.05360333531864205}, {\"counts\": 69, \"emotion\": \"fear\", \"percent\": 0.0410958904109589}, {\"counts\": 45, \"emotion\": \"disgust\", \"percent\": 0.026801667659321026}, {\"counts\": 42, \"emotion\": \"silly\", \"percent\": 0.02501488981536629}, {\"counts\": 38, \"emotion\": \"suprised\", \"percent\": 0.022632519356759976}, {\"counts\": 30, \"emotion\": \"none\", \"percent\": 0.01786777843954735}, {\"counts\": 27, \"emotion\": \"goofy\", \"percent\": 0.016081000595592615}, {\"counts\": 24, \"emotion\": \"funny\", \"percent\": 0.01429422275163788}, {\"counts\": 21, \"emotion\": \"interested\", \"percent\": 0.012507444907683145}, {\"counts\": 20, \"emotion\": \"intrigued\", \"percent\": 0.011911852293031567}, {\"counts\": 20, \"emotion\": \"worried\", \"percent\": 0.011911852293031567}, {\"counts\": 17, \"emotion\": \"sadness\", \"percent\": 0.01012507444907683}, {\"counts\": 17, \"emotion\": \"unhappy\", \"percent\": 0.01012507444907683}, {\"counts\": 15, \"emotion\": \"curious\", \"percent\": 0.008933889219773675}, {\"counts\": 15, \"emotion\": \"uncomfortable\", \"percent\": 0.008933889219773675}, {\"counts\": 14, \"emotion\": \"unpleasant\", \"percent\": 0.008338296605122097}, {\"counts\": 13, \"emotion\": \"suprise\", \"percent\": 0.007742703990470518}, {\"counts\": 13, \"emotion\": \"content\", \"percent\": 0.007742703990470518}, {\"counts\": 13, \"emotion\": \"crazy\", \"percent\": 0.007742703990470518}, {\"counts\": 13, \"emotion\": \"concerned\", \"percent\": 0.007742703990470518}, {\"counts\": 12, \"emotion\": \"focused\", \"percent\": 0.00714711137581894}, {\"counts\": 12, \"emotion\": \"disbelief\", \"percent\": 0.00714711137581894}, {\"counts\": 11, \"emotion\": \"boring\", \"percent\": 0.006551518761167362}]}}, {\"renderer\": \"svg\", \"mode\": \"vega-lite\"});\n",
       "</script>"
      ],
      "text/plain": [
       "alt.LayerChart(...)"
      ]
     },
     "metadata": {},
     "output_type": "display_data"
    }
   ],
   "source": [
    "emotion = 'surprise'\n",
    "\n",
    "df_emotion = emotion_df_formated(df_emo_answers, emotion) # subset 'emotion' rows\n",
    "df_emotion_ans = df_emotion.drop(['photo_id', 'ethnicity', 'sex','age', 'label', 'url', 'photoId'], axis=1)\n",
    "df_stack_emotion = formating_words(df_emotion_ans) # clean up\n",
    "df_stack_emotion = manual_spell_check(df_stack_emotion)\n",
    "df_stack_emotion = grouping(df_stack_emotion, syns)\n",
    "df_stack_emotion = grouping(df_stack_emotion, hyps)\n",
    "\n",
    "df_stack_emotion.replace({'scared': 'fear'}, inplace=True)\n",
    "\n",
    "source = count_freq_labels(df_stack_emotion,X='stacked', col='emotion')\n",
    "source_10 = source[source['counts'] > 10]\n",
    "\n",
    "title = 'Expcted label: '+ emotion + ' | Labels with 10 or more mentions | n = '+ source['counts'].sum().astype(str)\n",
    "X, Y = 'percent:Q', 'emotion:N'\n",
    "w, h= 450, 600\n",
    "txs, ls, ts = 12, 11, 12\n",
    "\n",
    "\n",
    "chart_surprise = simple_per_bar(\n",
    "    source_10, title=title, X=X, Y=Y, \\\n",
    "    width=w, height=h, emotion=emotion, \\\n",
    "    text_size = txs, label_size = ls, title_size=ts)\n",
    "chart_surprise.display(renderer='svg')"
   ]
  },
  {
   "cell_type": "code",
   "execution_count": 265,
   "id": "f1a456a0-7f88-44ee-835a-7021577a4a7d",
   "metadata": {},
   "outputs": [],
   "source": [
    "chart_surprise_str = altair_saver.save(chart_surprise, fmt='svg')\n",
    "image_title.append(\"Images depicting 'surprise'\")\n",
    "svg_str.append(chart_surprise_str)"
   ]
  },
  {
   "cell_type": "markdown",
   "id": "2c1d3a35-2813-4e74-83e3-0c387b07c2d9",
   "metadata": {},
   "source": [
    "### Happiness"
   ]
  },
  {
   "cell_type": "code",
   "execution_count": 266,
   "id": "b7f629b1-3420-43b7-9253-b93e763e9a61",
   "metadata": {},
   "outputs": [
    {
     "name": "stderr",
     "output_type": "stream",
     "text": [
      "/tmp/ipykernel_4430/2691402293.py:11: FutureWarning: The default value of regex will change from True to False in a future version.\n",
      "  df_stack_single_word['emotion'] = df_stack_single_word['emotion'].str.replace('[^a-zA-Z]', '') # remove non-alphabetic characters\n",
      "/home/pablo_ubuntu/miniconda3/envs/venv/lib/python3.9/site-packages/pandas/core/frame.py:3607: SettingWithCopyWarning: \n",
      "A value is trying to be set on a copy of a slice from a DataFrame.\n",
      "Try using .loc[row_indexer,col_indexer] = value instead\n",
      "\n",
      "See the caveats in the documentation: https://pandas.pydata.org/pandas-docs/stable/user_guide/indexing.html#returning-a-view-versus-a-copy\n",
      "  self._set_item(key, value)\n"
     ]
    },
    {
     "data": {
      "text/html": [
       "\n",
       "<div id=\"altair-viz-1fbf9823a6af44a7a6ae642cc33df0e5\"></div>\n",
       "<script type=\"text/javascript\">\n",
       "  (function(spec, embedOpt){\n",
       "    let outputDiv = document.currentScript.previousElementSibling;\n",
       "    if (outputDiv.id !== \"altair-viz-1fbf9823a6af44a7a6ae642cc33df0e5\") {\n",
       "      outputDiv = document.getElementById(\"altair-viz-1fbf9823a6af44a7a6ae642cc33df0e5\");\n",
       "    }\n",
       "    const paths = {\n",
       "      \"vega\": \"https://cdn.jsdelivr.net/npm//vega@5?noext\",\n",
       "      \"vega-lib\": \"https://cdn.jsdelivr.net/npm//vega-lib?noext\",\n",
       "      \"vega-lite\": \"https://cdn.jsdelivr.net/npm//vega-lite@4.8.1?noext\",\n",
       "      \"vega-embed\": \"https://cdn.jsdelivr.net/npm//vega-embed@6?noext\",\n",
       "    };\n",
       "\n",
       "    function loadScript(lib) {\n",
       "      return new Promise(function(resolve, reject) {\n",
       "        var s = document.createElement('script');\n",
       "        s.src = paths[lib];\n",
       "        s.async = true;\n",
       "        s.onload = () => resolve(paths[lib]);\n",
       "        s.onerror = () => reject(`Error loading script: ${paths[lib]}`);\n",
       "        document.getElementsByTagName(\"head\")[0].appendChild(s);\n",
       "      });\n",
       "    }\n",
       "\n",
       "    function showError(err) {\n",
       "      outputDiv.innerHTML = `<div class=\"error\" style=\"color:red;\">${err}</div>`;\n",
       "      throw err;\n",
       "    }\n",
       "\n",
       "    function displayChart(vegaEmbed) {\n",
       "      vegaEmbed(outputDiv, spec, embedOpt)\n",
       "        .catch(err => showError(`Javascript Error: ${err.message}<br>This usually means there's a typo in your chart specification. See the javascript console for the full traceback.`));\n",
       "    }\n",
       "\n",
       "    if(typeof define === \"function\" && define.amd) {\n",
       "      requirejs.config({paths});\n",
       "      require([\"vega-embed\"], displayChart, err => showError(`Error loading script: ${err.message}`));\n",
       "    } else if (typeof vegaEmbed === \"function\") {\n",
       "      displayChart(vegaEmbed);\n",
       "    } else {\n",
       "      loadScript(\"vega\")\n",
       "        .then(() => loadScript(\"vega-lite\"))\n",
       "        .then(() => loadScript(\"vega-embed\"))\n",
       "        .catch(showError)\n",
       "        .then(() => displayChart(vegaEmbed));\n",
       "    }\n",
       "  })({\"config\": {\"view\": {\"continuousWidth\": 400, \"continuousHeight\": 300}, \"axis\": {\"labelFontSize\": 11, \"titleFontSize\": 12}}, \"layer\": [{\"mark\": \"bar\", \"encoding\": {\"color\": {\"condition\": {\"value\": \"orange\", \"test\": \"(datum.emotion === 'happiness')\"}, \"value\": \"#0570b0\"}, \"x\": {\"type\": \"quantitative\", \"axis\": {\"format\": \".0%\"}, \"field\": \"percent\"}, \"y\": {\"type\": \"nominal\", \"field\": \"emotion\", \"sort\": \"-x\"}}, \"title\": \"Expcted label: happiness | Labels with 10 or more mentions | n = 1680\"}, {\"mark\": {\"type\": \"text\", \"align\": \"left\", \"baseline\": \"middle\", \"dx\": 3, \"fontSize\": 12}, \"encoding\": {\"color\": {\"condition\": {\"value\": \"orange\", \"test\": \"(datum.emotion === 'happiness')\"}, \"value\": \"#0570b0\"}, \"text\": {\"type\": \"quantitative\", \"field\": \"percent\", \"format\": \".1%\"}, \"x\": {\"type\": \"quantitative\", \"axis\": {\"format\": \".0%\"}, \"field\": \"percent\"}, \"y\": {\"type\": \"nominal\", \"field\": \"emotion\", \"sort\": \"-x\"}}, \"title\": \"Expcted label: happiness | Labels with 10 or more mentions | n = 1680\"}], \"data\": {\"name\": \"data-5688a58cb63e6d43994677519e626553\"}, \"height\": 600, \"width\": 450, \"$schema\": \"https://vega.github.io/schema/vega-lite/v4.8.1.json\", \"datasets\": {\"data-5688a58cb63e6d43994677519e626553\": [{\"counts\": 836, \"emotion\": \"happiness\", \"percent\": 0.4976190476190476}, {\"counts\": 120, \"emotion\": \"content\", \"percent\": 0.07142857142857142}, {\"counts\": 111, \"emotion\": \"excited\", \"percent\": 0.06607142857142857}, {\"counts\": 62, \"emotion\": \"smile\", \"percent\": 0.036904761904761905}, {\"counts\": 38, \"emotion\": \"pleased\", \"percent\": 0.02261904761904762}, {\"counts\": 31, \"emotion\": \"calm\", \"percent\": 0.018452380952380953}, {\"counts\": 27, \"emotion\": \"none\", \"percent\": 0.01607142857142857}, {\"counts\": 24, \"emotion\": \"smiling\", \"percent\": 0.014285714285714285}, {\"counts\": 17, \"emotion\": \"cheerful\", \"percent\": 0.01011904761904762}, {\"counts\": 16, \"emotion\": \"confident\", \"percent\": 0.009523809523809525}, {\"counts\": 15, \"emotion\": \"silly\", \"percent\": 0.008928571428571428}, {\"counts\": 15, \"emotion\": \"unhappy\", \"percent\": 0.008928571428571428}, {\"counts\": 14, \"emotion\": \"joyful\", \"percent\": 0.008333333333333333}, {\"counts\": 13, \"emotion\": \"unpleasant\", \"percent\": 0.007738095238095238}, {\"counts\": 13, \"emotion\": \"proud\", \"percent\": 0.007738095238095238}, {\"counts\": 12, \"emotion\": \"surprise\", \"percent\": 0.007142857142857143}, {\"counts\": 12, \"emotion\": \"uncomfortable\", \"percent\": 0.007142857142857143}, {\"counts\": 11, \"emotion\": \"thrilled\", \"percent\": 0.006547619047619048}]}}, {\"renderer\": \"svg\", \"mode\": \"vega-lite\"});\n",
       "</script>"
      ],
      "text/plain": [
       "alt.LayerChart(...)"
      ]
     },
     "metadata": {},
     "output_type": "display_data"
    }
   ],
   "source": [
    "emotion = 'happiness'\n",
    "\n",
    "df_emotion = emotion_df_formated(df_emo_answers, emotion) # subset 'emotion' rows\n",
    "df_emotion_ans = df_emotion.drop(['photo_id', 'ethnicity', 'sex','age', 'label', 'url', 'photoId'], axis=1)\n",
    "df_stack_emotion = formating_words(df_emotion_ans) # clean up\n",
    "df_stack_emotion = manual_spell_check(df_stack_emotion)\n",
    "df_stack_emotion = grouping(df_stack_emotion, syns)\n",
    "df_stack_emotion = grouping(df_stack_emotion, hyps)\n",
    "\n",
    "df_stack_emotion.replace({'scared': 'fear'}, inplace=True)\n",
    "\n",
    "source = count_freq_labels(df_stack_emotion,X='stacked', col='emotion')\n",
    "source_10 = source[source['counts'] > 10]\n",
    "\n",
    "title = 'Expcted label: '+ emotion + ' | Labels with 10 or more mentions | n = '+ source['counts'].sum().astype(str)\n",
    "X, Y = 'percent:Q', 'emotion:N'\n",
    "w, h= 450, 600\n",
    "txs, ls, ts = 12, 11, 12\n",
    "\n",
    "\n",
    "chart_happiness = simple_per_bar(\n",
    "    source_10, title=title, X=X, Y=Y, \\\n",
    "    width=w, height=h, emotion=emotion, \\\n",
    "    text_size = txs, label_size = ls, title_size=ts)\n",
    "chart_happiness.display(renderer='svg')"
   ]
  },
  {
   "cell_type": "code",
   "execution_count": 267,
   "id": "78e494df-05f1-4ab7-a789-b3341b2f6c6d",
   "metadata": {},
   "outputs": [],
   "source": [
    "chart_happiness_str = altair_saver.save(chart_happiness, fmt='svg')\n",
    "image_title.append(\"Images depicting 'happiness'\")\n",
    "svg_str.append(chart_happiness_str)"
   ]
  },
  {
   "cell_type": "markdown",
   "id": "e27dd1ae-1bc0-4700-b2ec-e4b7e50c9481",
   "metadata": {},
   "source": [
    "### Sadness"
   ]
  },
  {
   "cell_type": "code",
   "execution_count": 268,
   "id": "4d78f9e3-cec5-4dfa-9b28-d2b087fe5bbe",
   "metadata": {},
   "outputs": [
    {
     "name": "stderr",
     "output_type": "stream",
     "text": [
      "/tmp/ipykernel_4430/2691402293.py:11: FutureWarning: The default value of regex will change from True to False in a future version.\n",
      "  df_stack_single_word['emotion'] = df_stack_single_word['emotion'].str.replace('[^a-zA-Z]', '') # remove non-alphabetic characters\n",
      "/home/pablo_ubuntu/miniconda3/envs/venv/lib/python3.9/site-packages/pandas/core/frame.py:3607: SettingWithCopyWarning: \n",
      "A value is trying to be set on a copy of a slice from a DataFrame.\n",
      "Try using .loc[row_indexer,col_indexer] = value instead\n",
      "\n",
      "See the caveats in the documentation: https://pandas.pydata.org/pandas-docs/stable/user_guide/indexing.html#returning-a-view-versus-a-copy\n",
      "  self._set_item(key, value)\n"
     ]
    },
    {
     "data": {
      "text/html": [
       "\n",
       "<div id=\"altair-viz-613073e88f4f47ea9770ae2e77148fb2\"></div>\n",
       "<script type=\"text/javascript\">\n",
       "  (function(spec, embedOpt){\n",
       "    let outputDiv = document.currentScript.previousElementSibling;\n",
       "    if (outputDiv.id !== \"altair-viz-613073e88f4f47ea9770ae2e77148fb2\") {\n",
       "      outputDiv = document.getElementById(\"altair-viz-613073e88f4f47ea9770ae2e77148fb2\");\n",
       "    }\n",
       "    const paths = {\n",
       "      \"vega\": \"https://cdn.jsdelivr.net/npm//vega@5?noext\",\n",
       "      \"vega-lib\": \"https://cdn.jsdelivr.net/npm//vega-lib?noext\",\n",
       "      \"vega-lite\": \"https://cdn.jsdelivr.net/npm//vega-lite@4.8.1?noext\",\n",
       "      \"vega-embed\": \"https://cdn.jsdelivr.net/npm//vega-embed@6?noext\",\n",
       "    };\n",
       "\n",
       "    function loadScript(lib) {\n",
       "      return new Promise(function(resolve, reject) {\n",
       "        var s = document.createElement('script');\n",
       "        s.src = paths[lib];\n",
       "        s.async = true;\n",
       "        s.onload = () => resolve(paths[lib]);\n",
       "        s.onerror = () => reject(`Error loading script: ${paths[lib]}`);\n",
       "        document.getElementsByTagName(\"head\")[0].appendChild(s);\n",
       "      });\n",
       "    }\n",
       "\n",
       "    function showError(err) {\n",
       "      outputDiv.innerHTML = `<div class=\"error\" style=\"color:red;\">${err}</div>`;\n",
       "      throw err;\n",
       "    }\n",
       "\n",
       "    function displayChart(vegaEmbed) {\n",
       "      vegaEmbed(outputDiv, spec, embedOpt)\n",
       "        .catch(err => showError(`Javascript Error: ${err.message}<br>This usually means there's a typo in your chart specification. See the javascript console for the full traceback.`));\n",
       "    }\n",
       "\n",
       "    if(typeof define === \"function\" && define.amd) {\n",
       "      requirejs.config({paths});\n",
       "      require([\"vega-embed\"], displayChart, err => showError(`Error loading script: ${err.message}`));\n",
       "    } else if (typeof vegaEmbed === \"function\") {\n",
       "      displayChart(vegaEmbed);\n",
       "    } else {\n",
       "      loadScript(\"vega\")\n",
       "        .then(() => loadScript(\"vega-lite\"))\n",
       "        .then(() => loadScript(\"vega-embed\"))\n",
       "        .catch(showError)\n",
       "        .then(() => displayChart(vegaEmbed));\n",
       "    }\n",
       "  })({\"config\": {\"view\": {\"continuousWidth\": 400, \"continuousHeight\": 300}, \"axis\": {\"labelFontSize\": 11, \"titleFontSize\": 12}}, \"layer\": [{\"mark\": \"bar\", \"encoding\": {\"color\": {\"condition\": {\"value\": \"orange\", \"test\": \"(datum.emotion === 'sadness')\"}, \"value\": \"#0570b0\"}, \"x\": {\"type\": \"quantitative\", \"axis\": {\"format\": \".0%\"}, \"field\": \"percent\"}, \"y\": {\"type\": \"nominal\", \"field\": \"emotion\", \"sort\": \"-x\"}}, \"title\": \"Expcted label: sadness | Labels with 10 or more mentions | n = 1759\"}, {\"mark\": {\"type\": \"text\", \"align\": \"left\", \"baseline\": \"middle\", \"dx\": 3, \"fontSize\": 12}, \"encoding\": {\"color\": {\"condition\": {\"value\": \"orange\", \"test\": \"(datum.emotion === 'sadness')\"}, \"value\": \"#0570b0\"}, \"text\": {\"type\": \"quantitative\", \"field\": \"percent\", \"format\": \".1%\"}, \"x\": {\"type\": \"quantitative\", \"axis\": {\"format\": \".0%\"}, \"field\": \"percent\"}, \"y\": {\"type\": \"nominal\", \"field\": \"emotion\", \"sort\": \"-x\"}}, \"title\": \"Expcted label: sadness | Labels with 10 or more mentions | n = 1759\"}], \"data\": {\"name\": \"data-681fdca01f7c3edc6d5861199d353a68\"}, \"height\": 600, \"width\": 450, \"$schema\": \"https://vega.github.io/schema/vega-lite/v4.8.1.json\", \"datasets\": {\"data-681fdca01f7c3edc6d5861199d353a68\": [{\"counts\": 680, \"emotion\": \"sadness\", \"percent\": 0.3865832859579306}, {\"counts\": 170, \"emotion\": \"upset\", \"percent\": 0.09664582148948266}, {\"counts\": 66, \"emotion\": \"anger\", \"percent\": 0.03752131893121091}, {\"counts\": 53, \"emotion\": \"crying\", \"percent\": 0.030130756111426946}, {\"counts\": 41, \"emotion\": \"fear\", \"percent\": 0.023308698123934053}, {\"counts\": 38, \"emotion\": \"mad\", \"percent\": 0.02160318362706083}, {\"counts\": 37, \"emotion\": \"confused\", \"percent\": 0.021034678794769755}, {\"counts\": 31, \"emotion\": \"worried\", \"percent\": 0.01762364980102331}, {\"counts\": 30, \"emotion\": \"none\", \"percent\": 0.017055144968732235}, {\"counts\": 28, \"emotion\": \"disappointed\", \"percent\": 0.015918135304150087}, {\"counts\": 26, \"emotion\": \"unhappy\", \"percent\": 0.014781125639567936}, {\"counts\": 26, \"emotion\": \"hurt\", \"percent\": 0.014781125639567936}, {\"counts\": 24, \"emotion\": \"regretful\", \"percent\": 0.013644115974985787}, {\"counts\": 23, \"emotion\": \"depressed\", \"percent\": 0.013075611142694713}, {\"counts\": 20, \"emotion\": \"distressed\", \"percent\": 0.01137009664582149}, {\"counts\": 18, \"emotion\": \"distraught\", \"percent\": 0.01023308698123934}, {\"counts\": 17, \"emotion\": \"serious\", \"percent\": 0.009664582148948267}, {\"counts\": 16, \"emotion\": \"unpleasant\", \"percent\": 0.009096077316657191}, {\"counts\": 15, \"emotion\": \"disgust\", \"percent\": 0.008527572484366117}, {\"counts\": 15, \"emotion\": \"guilty\", \"percent\": 0.008527572484366117}, {\"counts\": 15, \"emotion\": \"frustrated\", \"percent\": 0.008527572484366117}, {\"counts\": 14, \"emotion\": \"concerned\", \"percent\": 0.007959067652075043}, {\"counts\": 14, \"emotion\": \"cry\", \"percent\": 0.007959067652075043}, {\"counts\": 14, \"emotion\": \"uncomfortable\", \"percent\": 0.007959067652075043}, {\"counts\": 13, \"emotion\": \"tired\", \"percent\": 0.007390562819783968}, {\"counts\": 12, \"emotion\": \"boring\", \"percent\": 0.006822057987492893}, {\"counts\": 12, \"emotion\": \"bad\", \"percent\": 0.006822057987492893}]}}, {\"renderer\": \"svg\", \"mode\": \"vega-lite\"});\n",
       "</script>"
      ],
      "text/plain": [
       "alt.LayerChart(...)"
      ]
     },
     "metadata": {},
     "output_type": "display_data"
    }
   ],
   "source": [
    "emotion = 'sadness'\n",
    "\n",
    "df_emotion = emotion_df_formated(df_emo_answers, emotion) # subset 'emotion' rows\n",
    "df_emotion_ans = df_emotion.drop(['photo_id', 'ethnicity', 'sex','age', 'label', 'url', 'photoId'], axis=1)\n",
    "df_stack_emotion = formating_words(df_emotion_ans) # clean up\n",
    "df_stack_emotion = manual_spell_check(df_stack_emotion)\n",
    "df_stack_emotion = grouping(df_stack_emotion, syns)\n",
    "df_stack_emotion = grouping(df_stack_emotion, hyps)\n",
    "\n",
    "df_stack_emotion.replace({'scared': 'fear'}, inplace=True)\n",
    "\n",
    "source = count_freq_labels(df_stack_emotion,X='stacked', col='emotion')\n",
    "source_10 = source[source['counts'] > 10]\n",
    "\n",
    "title = 'Expcted label: '+ emotion + ' | Labels with 10 or more mentions | n = '+ source['counts'].sum().astype(str)\n",
    "X, Y = 'percent:Q', 'emotion:N'\n",
    "w, h= 450, 600\n",
    "txs, ls, ts = 12, 11, 12\n",
    "\n",
    "\n",
    "chart_sadness = simple_per_bar(\n",
    "    source_10, title=title, X=X, Y=Y, \\\n",
    "    width=w, height=h, emotion=emotion, \\\n",
    "    text_size = txs, label_size = ls, title_size=ts)\n",
    "chart_sadness.display(renderer='svg')"
   ]
  },
  {
   "cell_type": "code",
   "execution_count": 269,
   "id": "d0ddba34-c423-4f47-a62d-33f65c23b263",
   "metadata": {},
   "outputs": [],
   "source": [
    "chart_sadness_str = altair_saver.save(chart_sadness, fmt='svg')\n",
    "image_title.append(\"Images depicting 'sadness'\")\n",
    "svg_str.append(chart_sadness_str)"
   ]
  },
  {
   "cell_type": "markdown",
   "id": "43506741-32cd-4375-8606-fa54c6a012f5",
   "metadata": {},
   "source": [
    "### Uncertain"
   ]
  },
  {
   "cell_type": "code",
   "execution_count": 270,
   "id": "7121b4a7-ced9-4fcc-9148-8532bbff3009",
   "metadata": {},
   "outputs": [
    {
     "name": "stderr",
     "output_type": "stream",
     "text": [
      "/tmp/ipykernel_4430/2691402293.py:11: FutureWarning: The default value of regex will change from True to False in a future version.\n",
      "  df_stack_single_word['emotion'] = df_stack_single_word['emotion'].str.replace('[^a-zA-Z]', '') # remove non-alphabetic characters\n",
      "/home/pablo_ubuntu/miniconda3/envs/venv/lib/python3.9/site-packages/pandas/core/frame.py:3607: SettingWithCopyWarning: \n",
      "A value is trying to be set on a copy of a slice from a DataFrame.\n",
      "Try using .loc[row_indexer,col_indexer] = value instead\n",
      "\n",
      "See the caveats in the documentation: https://pandas.pydata.org/pandas-docs/stable/user_guide/indexing.html#returning-a-view-versus-a-copy\n",
      "  self._set_item(key, value)\n"
     ]
    },
    {
     "data": {
      "text/html": [
       "\n",
       "<div id=\"altair-viz-a5aae09f317c46b48c039f21771c19bf\"></div>\n",
       "<script type=\"text/javascript\">\n",
       "  (function(spec, embedOpt){\n",
       "    let outputDiv = document.currentScript.previousElementSibling;\n",
       "    if (outputDiv.id !== \"altair-viz-a5aae09f317c46b48c039f21771c19bf\") {\n",
       "      outputDiv = document.getElementById(\"altair-viz-a5aae09f317c46b48c039f21771c19bf\");\n",
       "    }\n",
       "    const paths = {\n",
       "      \"vega\": \"https://cdn.jsdelivr.net/npm//vega@5?noext\",\n",
       "      \"vega-lib\": \"https://cdn.jsdelivr.net/npm//vega-lib?noext\",\n",
       "      \"vega-lite\": \"https://cdn.jsdelivr.net/npm//vega-lite@4.8.1?noext\",\n",
       "      \"vega-embed\": \"https://cdn.jsdelivr.net/npm//vega-embed@6?noext\",\n",
       "    };\n",
       "\n",
       "    function loadScript(lib) {\n",
       "      return new Promise(function(resolve, reject) {\n",
       "        var s = document.createElement('script');\n",
       "        s.src = paths[lib];\n",
       "        s.async = true;\n",
       "        s.onload = () => resolve(paths[lib]);\n",
       "        s.onerror = () => reject(`Error loading script: ${paths[lib]}`);\n",
       "        document.getElementsByTagName(\"head\")[0].appendChild(s);\n",
       "      });\n",
       "    }\n",
       "\n",
       "    function showError(err) {\n",
       "      outputDiv.innerHTML = `<div class=\"error\" style=\"color:red;\">${err}</div>`;\n",
       "      throw err;\n",
       "    }\n",
       "\n",
       "    function displayChart(vegaEmbed) {\n",
       "      vegaEmbed(outputDiv, spec, embedOpt)\n",
       "        .catch(err => showError(`Javascript Error: ${err.message}<br>This usually means there's a typo in your chart specification. See the javascript console for the full traceback.`));\n",
       "    }\n",
       "\n",
       "    if(typeof define === \"function\" && define.amd) {\n",
       "      requirejs.config({paths});\n",
       "      require([\"vega-embed\"], displayChart, err => showError(`Error loading script: ${err.message}`));\n",
       "    } else if (typeof vegaEmbed === \"function\") {\n",
       "      displayChart(vegaEmbed);\n",
       "    } else {\n",
       "      loadScript(\"vega\")\n",
       "        .then(() => loadScript(\"vega-lite\"))\n",
       "        .then(() => loadScript(\"vega-embed\"))\n",
       "        .catch(showError)\n",
       "        .then(() => displayChart(vegaEmbed));\n",
       "    }\n",
       "  })({\"config\": {\"view\": {\"continuousWidth\": 400, \"continuousHeight\": 300}, \"axis\": {\"labelFontSize\": 11, \"titleFontSize\": 12}}, \"layer\": [{\"mark\": \"bar\", \"encoding\": {\"color\": {\"condition\": {\"value\": \"orange\", \"test\": \"(datum.emotion === 'uncertain')\"}, \"value\": \"#0570b0\"}, \"x\": {\"type\": \"quantitative\", \"axis\": {\"format\": \".0%\"}, \"field\": \"percent\"}, \"y\": {\"type\": \"nominal\", \"field\": \"emotion\", \"sort\": \"-x\"}}, \"title\": \"Expcted label: uncertain | Labels with 10 or more mentions | n = 1489\"}, {\"mark\": {\"type\": \"text\", \"align\": \"left\", \"baseline\": \"middle\", \"dx\": 3, \"fontSize\": 12}, \"encoding\": {\"color\": {\"condition\": {\"value\": \"orange\", \"test\": \"(datum.emotion === 'uncertain')\"}, \"value\": \"#0570b0\"}, \"text\": {\"type\": \"quantitative\", \"field\": \"percent\", \"format\": \".1%\"}, \"x\": {\"type\": \"quantitative\", \"axis\": {\"format\": \".0%\"}, \"field\": \"percent\"}, \"y\": {\"type\": \"nominal\", \"field\": \"emotion\", \"sort\": \"-x\"}}, \"title\": \"Expcted label: uncertain | Labels with 10 or more mentions | n = 1489\"}], \"data\": {\"name\": \"data-2c56abeb892b49fcdde0619bea2985df\"}, \"height\": 600, \"width\": 450, \"$schema\": \"https://vega.github.io/schema/vega-lite/v4.8.1.json\", \"datasets\": {\"data-2c56abeb892b49fcdde0619bea2985df\": [{\"counts\": 158, \"emotion\": \"happiness\", \"percent\": 0.1061114842175957}, {\"counts\": 114, \"emotion\": \"silly\", \"percent\": 0.07656145063801209}, {\"counts\": 95, \"emotion\": \"confused\", \"percent\": 0.06380120886501008}, {\"counts\": 69, \"emotion\": \"goofy\", \"percent\": 0.04633982538616521}, {\"counts\": 55, \"emotion\": \"none\", \"percent\": 0.036937541974479515}, {\"counts\": 46, \"emotion\": \"funny\", \"percent\": 0.03089321692411014}, {\"counts\": 41, \"emotion\": \"surprise\", \"percent\": 0.027535258562793822}, {\"counts\": 40, \"emotion\": \"anger\", \"percent\": 0.026863666890530557}, {\"counts\": 38, \"emotion\": \"annoyed\", \"percent\": 0.02552048354600403}, {\"counts\": 36, \"emotion\": \"sadness\", \"percent\": 0.0241773002014775}, {\"counts\": 32, \"emotion\": \"shocked\", \"percent\": 0.021490933512424447}, {\"counts\": 30, \"emotion\": \"content\", \"percent\": 0.020147750167897917}, {\"counts\": 27, \"emotion\": \"excited\", \"percent\": 0.018132975151108125}, {\"counts\": 21, \"emotion\": \"upset\", \"percent\": 0.014103425117528543}, {\"counts\": 20, \"emotion\": \"disgust\", \"percent\": 0.013431833445265278}, {\"counts\": 19, \"emotion\": \"calm\", \"percent\": 0.012760241773002015}, {\"counts\": 19, \"emotion\": \"crazy\", \"percent\": 0.012760241773002015}, {\"counts\": 18, \"emotion\": \"disappointed\", \"percent\": 0.01208865010073875}, {\"counts\": 18, \"emotion\": \"unhappy\", \"percent\": 0.01208865010073875}, {\"counts\": 16, \"emotion\": \"fear\", \"percent\": 0.010745466756212223}, {\"counts\": 16, \"emotion\": \"confident\", \"percent\": 0.010745466756212223}, {\"counts\": 16, \"emotion\": \"playful\", \"percent\": 0.010745466756212223}, {\"counts\": 15, \"emotion\": \"unpleasant\", \"percent\": 0.010073875083948958}, {\"counts\": 15, \"emotion\": \"tired\", \"percent\": 0.010073875083948958}, {\"counts\": 15, \"emotion\": \"mad\", \"percent\": 0.010073875083948958}, {\"counts\": 14, \"emotion\": \"guilty\", \"percent\": 0.009402283411685695}, {\"counts\": 14, \"emotion\": \"interested\", \"percent\": 0.009402283411685695}, {\"counts\": 13, \"emotion\": \"posing\", \"percent\": 0.008730691739422432}, {\"counts\": 13, \"emotion\": \"curious\", \"percent\": 0.008730691739422432}, {\"counts\": 12, \"emotion\": \"bored\", \"percent\": 0.008059100067159167}, {\"counts\": 12, \"emotion\": \"suprised\", \"percent\": 0.008059100067159167}]}}, {\"renderer\": \"svg\", \"mode\": \"vega-lite\"});\n",
       "</script>"
      ],
      "text/plain": [
       "alt.LayerChart(...)"
      ]
     },
     "metadata": {},
     "output_type": "display_data"
    }
   ],
   "source": [
    "emotion = 'uncertain'\n",
    "\n",
    "df_emotion = emotion_df_formated(df_emo_answers, emotion) # subset 'emotion' rows\n",
    "df_emotion_ans = df_emotion.drop(['photo_id', 'ethnicity', 'sex','age', 'label', 'url', 'photoId'], axis=1)\n",
    "df_stack_emotion = formating_words(df_emotion_ans) # clean up\n",
    "df_stack_emotion = manual_spell_check(df_stack_emotion)\n",
    "df_stack_emotion = grouping(df_stack_emotion, syns)\n",
    "df_stack_emotion = grouping(df_stack_emotion, hyps)\n",
    "\n",
    "df_stack_emotion.replace({'scared': 'fear'}, inplace=True)\n",
    "\n",
    "source = count_freq_labels(df_stack_emotion,X='stacked', col='emotion')\n",
    "source_10 = source[source['counts'] > 10]\n",
    "\n",
    "title = 'Expcted label: '+ emotion + ' | Labels with 10 or more mentions | n = '+ source['counts'].sum().astype(str)\n",
    "X, Y = 'percent:Q', 'emotion:N'\n",
    "w, h= 450, 600\n",
    "txs, ls, ts = 12, 11, 12\n",
    "\n",
    "\n",
    "chart_uncertain = simple_per_bar(\n",
    "    source_10, title=title, X=X, Y=Y, \\\n",
    "    width=w, height=h, emotion=emotion, \\\n",
    "    text_size = txs, label_size = ls, title_size=ts)\n",
    "chart_uncertain.display(renderer='svg')"
   ]
  },
  {
   "cell_type": "code",
   "execution_count": 271,
   "id": "6c225102-c389-4158-8e11-bca882247356",
   "metadata": {},
   "outputs": [],
   "source": [
    "chart_uncertain_str = altair_saver.save(chart_uncertain, fmt='svg')\n",
    "image_title.append(\"Images depicting 'uncertain (unknown)'\")\n",
    "svg_str.append(chart_uncertain_str)"
   ]
  },
  {
   "cell_type": "markdown",
   "id": "33082aff-3ef8-40c6-849d-7d64516bc9f3",
   "metadata": {},
   "source": [
    "### Neutral"
   ]
  },
  {
   "cell_type": "code",
   "execution_count": 272,
   "id": "39de86d9-a1cb-4de5-ac1f-d8a3c890941c",
   "metadata": {},
   "outputs": [
    {
     "name": "stderr",
     "output_type": "stream",
     "text": [
      "/tmp/ipykernel_4430/2691402293.py:11: FutureWarning: The default value of regex will change from True to False in a future version.\n",
      "  df_stack_single_word['emotion'] = df_stack_single_word['emotion'].str.replace('[^a-zA-Z]', '') # remove non-alphabetic characters\n",
      "/home/pablo_ubuntu/miniconda3/envs/venv/lib/python3.9/site-packages/pandas/core/frame.py:3607: SettingWithCopyWarning: \n",
      "A value is trying to be set on a copy of a slice from a DataFrame.\n",
      "Try using .loc[row_indexer,col_indexer] = value instead\n",
      "\n",
      "See the caveats in the documentation: https://pandas.pydata.org/pandas-docs/stable/user_guide/indexing.html#returning-a-view-versus-a-copy\n",
      "  self._set_item(key, value)\n"
     ]
    },
    {
     "data": {
      "text/html": [
       "\n",
       "<div id=\"altair-viz-15817724c805413482f29d5b1723acd0\"></div>\n",
       "<script type=\"text/javascript\">\n",
       "  (function(spec, embedOpt){\n",
       "    let outputDiv = document.currentScript.previousElementSibling;\n",
       "    if (outputDiv.id !== \"altair-viz-15817724c805413482f29d5b1723acd0\") {\n",
       "      outputDiv = document.getElementById(\"altair-viz-15817724c805413482f29d5b1723acd0\");\n",
       "    }\n",
       "    const paths = {\n",
       "      \"vega\": \"https://cdn.jsdelivr.net/npm//vega@5?noext\",\n",
       "      \"vega-lib\": \"https://cdn.jsdelivr.net/npm//vega-lib?noext\",\n",
       "      \"vega-lite\": \"https://cdn.jsdelivr.net/npm//vega-lite@4.8.1?noext\",\n",
       "      \"vega-embed\": \"https://cdn.jsdelivr.net/npm//vega-embed@6?noext\",\n",
       "    };\n",
       "\n",
       "    function loadScript(lib) {\n",
       "      return new Promise(function(resolve, reject) {\n",
       "        var s = document.createElement('script');\n",
       "        s.src = paths[lib];\n",
       "        s.async = true;\n",
       "        s.onload = () => resolve(paths[lib]);\n",
       "        s.onerror = () => reject(`Error loading script: ${paths[lib]}`);\n",
       "        document.getElementsByTagName(\"head\")[0].appendChild(s);\n",
       "      });\n",
       "    }\n",
       "\n",
       "    function showError(err) {\n",
       "      outputDiv.innerHTML = `<div class=\"error\" style=\"color:red;\">${err}</div>`;\n",
       "      throw err;\n",
       "    }\n",
       "\n",
       "    function displayChart(vegaEmbed) {\n",
       "      vegaEmbed(outputDiv, spec, embedOpt)\n",
       "        .catch(err => showError(`Javascript Error: ${err.message}<br>This usually means there's a typo in your chart specification. See the javascript console for the full traceback.`));\n",
       "    }\n",
       "\n",
       "    if(typeof define === \"function\" && define.amd) {\n",
       "      requirejs.config({paths});\n",
       "      require([\"vega-embed\"], displayChart, err => showError(`Error loading script: ${err.message}`));\n",
       "    } else if (typeof vegaEmbed === \"function\") {\n",
       "      displayChart(vegaEmbed);\n",
       "    } else {\n",
       "      loadScript(\"vega\")\n",
       "        .then(() => loadScript(\"vega-lite\"))\n",
       "        .then(() => loadScript(\"vega-embed\"))\n",
       "        .catch(showError)\n",
       "        .then(() => displayChart(vegaEmbed));\n",
       "    }\n",
       "  })({\"config\": {\"view\": {\"continuousWidth\": 400, \"continuousHeight\": 300}, \"axis\": {\"labelFontSize\": 11, \"titleFontSize\": 12}}, \"layer\": [{\"mark\": \"bar\", \"encoding\": {\"color\": {\"condition\": {\"value\": \"orange\", \"test\": \"(datum.emotion === 'neutral')\"}, \"value\": \"#0570b0\"}, \"x\": {\"type\": \"quantitative\", \"axis\": {\"format\": \".0%\"}, \"field\": \"percent\"}, \"y\": {\"type\": \"nominal\", \"field\": \"emotion\", \"sort\": \"-x\"}}, \"title\": \"Expcted label: neutral | Labels with 10 or more mentions | n = 1411\"}, {\"mark\": {\"type\": \"text\", \"align\": \"left\", \"baseline\": \"middle\", \"dx\": 3, \"fontSize\": 12}, \"encoding\": {\"color\": {\"condition\": {\"value\": \"orange\", \"test\": \"(datum.emotion === 'neutral')\"}, \"value\": \"#0570b0\"}, \"text\": {\"type\": \"quantitative\", \"field\": \"percent\", \"format\": \".1%\"}, \"x\": {\"type\": \"quantitative\", \"axis\": {\"format\": \".0%\"}, \"field\": \"percent\"}, \"y\": {\"type\": \"nominal\", \"field\": \"emotion\", \"sort\": \"-x\"}}, \"title\": \"Expcted label: neutral | Labels with 10 or more mentions | n = 1411\"}], \"data\": {\"name\": \"data-54518ea287248897729bf376eef9017b\"}, \"height\": 600, \"width\": 450, \"$schema\": \"https://vega.github.io/schema/vega-lite/v4.8.1.json\", \"datasets\": {\"data-54518ea287248897729bf376eef9017b\": [{\"counts\": 96, \"emotion\": \"content\", \"percent\": 0.06803685329553508}, {\"counts\": 87, \"emotion\": \"happiness\", \"percent\": 0.06165839829907867}, {\"counts\": 82, \"emotion\": \"sadness\", \"percent\": 0.058114812189936214}, {\"counts\": 79, \"emotion\": \"calm\", \"percent\": 0.05598866052445074}, {\"counts\": 78, \"emotion\": \"none\", \"percent\": 0.05527994330262225}, {\"counts\": 64, \"emotion\": \"serious\", \"percent\": 0.04535790219702339}, {\"counts\": 58, \"emotion\": \"confused\", \"percent\": 0.041105598866052445}, {\"counts\": 44, \"emotion\": \"neutral\", \"percent\": 0.03118355776045358}, {\"counts\": 42, \"emotion\": \"mad\", \"percent\": 0.029766123316796598}, {\"counts\": 39, \"emotion\": \"anger\", \"percent\": 0.027639971651311126}, {\"counts\": 38, \"emotion\": \"blank\", \"percent\": 0.026931254429482635}, {\"counts\": 31, \"emotion\": \"bored\", \"percent\": 0.021970233876683204}, {\"counts\": 27, \"emotion\": \"focused\", \"percent\": 0.01913536498936924}, {\"counts\": 27, \"emotion\": \"tired\", \"percent\": 0.01913536498936924}, {\"counts\": 25, \"emotion\": \"annoyed\", \"percent\": 0.01771793054571226}, {\"counts\": 24, \"emotion\": \"unhappy\", \"percent\": 0.01700921332388377}, {\"counts\": 23, \"emotion\": \"fear\", \"percent\": 0.01630049610205528}, {\"counts\": 23, \"emotion\": \"upset\", \"percent\": 0.01630049610205528}, {\"counts\": 18, \"emotion\": \"stare\", \"percent\": 0.012756909992912827}, {\"counts\": 17, \"emotion\": \"normal\", \"percent\": 0.012048192771084338}, {\"counts\": 15, \"emotion\": \"unpleasant\", \"percent\": 0.010630758327427357}, {\"counts\": 14, \"emotion\": \"uninterested\", \"percent\": 0.009922041105598866}, {\"counts\": 13, \"emotion\": \"chilling\", \"percent\": 0.009213323883770375}, {\"counts\": 13, \"emotion\": \"uncomfortable\", \"percent\": 0.009213323883770375}, {\"counts\": 12, \"emotion\": \"unamused\", \"percent\": 0.008504606661941885}, {\"counts\": 11, \"emotion\": \"disappointed\", \"percent\": 0.007795889440113395}, {\"counts\": 11, \"emotion\": \"boring\", \"percent\": 0.007795889440113395}, {\"counts\": 11, \"emotion\": \"curious\", \"percent\": 0.007795889440113395}, {\"counts\": 11, \"emotion\": \"confident\", \"percent\": 0.007795889440113395}, {\"counts\": 11, \"emotion\": \"cool\", \"percent\": 0.007795889440113395}, {\"counts\": 11, \"emotion\": \"intrigued\", \"percent\": 0.007795889440113395}]}}, {\"renderer\": \"svg\", \"mode\": \"vega-lite\"});\n",
       "</script>"
      ],
      "text/plain": [
       "alt.LayerChart(...)"
      ]
     },
     "metadata": {},
     "output_type": "display_data"
    }
   ],
   "source": [
    "emotion = 'neutral'\n",
    "\n",
    "df_emotion = emotion_df_formated(df_emo_answers, emotion) # subset 'emotion' rows\n",
    "df_emotion_ans = df_emotion.drop(['photo_id', 'ethnicity', 'sex','age', 'label', 'url', 'photoId'], axis=1)\n",
    "df_stack_emotion = formating_words(df_emotion_ans) # clean up\n",
    "df_stack_emotion = manual_spell_check(df_stack_emotion)\n",
    "df_stack_emotion = grouping(df_stack_emotion, syns)\n",
    "df_stack_emotion = grouping(df_stack_emotion, hyps)\n",
    "\n",
    "df_stack_emotion.replace({'scared': 'fear'}, inplace=True)\n",
    "\n",
    "source = count_freq_labels(df_stack_emotion,X='stacked', col='emotion')\n",
    "source_10 = source[source['counts'] > 10]\n",
    "\n",
    "title = 'Expcted label: '+ emotion + ' | Labels with 10 or more mentions | n = '+ source['counts'].sum().astype(str)\n",
    "X, Y = 'percent:Q', 'emotion:N'\n",
    "w, h= 450, 600\n",
    "txs, ls, ts = 12, 11, 12\n",
    "\n",
    "chart_neutral = simple_per_bar(\n",
    "    source_10, title=title, X=X, Y=Y, \\\n",
    "    width=w, height=h, emotion=emotion, \\\n",
    "    text_size = txs, label_size = ls, title_size=ts)\n",
    "chart_neutral.display(renderer='svg')"
   ]
  },
  {
   "cell_type": "code",
   "execution_count": 273,
   "id": "33ffafc7-79e9-4fe2-8b09-42417634c57c",
   "metadata": {},
   "outputs": [],
   "source": [
    "chart_neutral_str = altair_saver.save(chart_neutral, fmt='svg')\n",
    "image_title.append(\"Images depicting 'neutral'\")\n",
    "svg_str.append(chart_neutral_str)"
   ]
  },
  {
   "cell_type": "markdown",
   "id": "6c859964-9f02-47c1-b752-eb006368b86f",
   "metadata": {},
   "source": [
    "## Most frequently used word for each emotion category (grouping pictures by expected-emotion), by ethnicity group"
   ]
  },
  {
   "cell_type": "code",
   "execution_count": 177,
   "id": "30a4083c-1d88-4e21-a362-7451465de3e6",
   "metadata": {},
   "outputs": [],
   "source": [
    "def simple_per_bar_concat(\n",
    "    df, title='Title', X='percent:Q', Y='emotion:N', \\\n",
    "    width=450, height=250, sort='-x', \\\n",
    "    text_size = 12, label_size = 11, title_size=12, \\\n",
    "    emotion='Some', color1='#0570b0', color2='orange'):\n",
    "    \n",
    "    bars = alt.Chart(df, title=title).mark_bar().encode(\n",
    "        alt.X(X, axis=alt.Axis(format='.0%')),\n",
    "        y=alt.Y(Y, sort=sort), \n",
    "        color=alt.condition(\n",
    "            alt.datum.emotion == emotion,\n",
    "            alt.value(color2),\n",
    "            alt.value(color1)\n",
    "        ))\n",
    "    \n",
    "    text = bars.mark_text(\n",
    "    align='left',\n",
    "    baseline='middle',\n",
    "    dx=3,  # Nudges text to right so it doesn't appear on top of the bar\n",
    "    fontSize=text_size\n",
    "    ).encode(\n",
    "        alt.Text(X, format='.1%')\n",
    "    )\n",
    "    \n",
    "    chart = (bars + text)\n",
    "    \n",
    "    return chart"
   ]
  },
  {
   "cell_type": "code",
   "execution_count": 178,
   "id": "a4bef1e0-1cf5-454b-bcf0-5c7161935b5e",
   "metadata": {},
   "outputs": [],
   "source": [
    "def emotion_df_formated_et(df_emo_answers, emotion_label, ethnicity):\n",
    "    df_emo_cat = df_emo_answers.copy() \n",
    "    df_emo_cat_t = df_emo_cat.T # transpose\n",
    "    df_emo_cat_t['photo_id'] = df_emo_cat_t.index # get index as col\n",
    "    df_emo_cat_t = df_emo_cat_t.reset_index(drop=True) # clean index\n",
    "    df_emo_cat_t_labels = pd.concat([df_emo_cat_t, df_labels], axis=1) # add metadata cols\n",
    "    df_label =  df_emo_cat_t_labels[(df_emo_cat_t_labels['label'] == emotion_label) & (df_emo_cat_t_labels['ethnicity'] == ethnicity)]\n",
    "    return df_label"
   ]
  },
  {
   "cell_type": "code",
   "execution_count": 179,
   "id": "00fb32f1-709a-4b41-83e2-463bcfc936d2",
   "metadata": {},
   "outputs": [],
   "source": [
    "def wrapper_chart_emotion(df_emo_answers, emotion, ethnicity, emotion_st='angri', n_mentions=10):\n",
    "    df = emotion_df_formated_et(df_emo_answers, emotion,  ethnicity) # subset 'anger' rows\n",
    "    df_emotion_ans = df.drop(['photo_id', 'ethnicity', 'sex','age', 'label', 'url', 'photoId'], axis=1)\n",
    "    df_stack_emotion = formating_words(df_emotion_ans) # clean up\n",
    "    df_stack_emotion['emotion_ps_steamed'] = df_stack_emotion['emotion'].apply(lambda x: ps.stem(x)) #steam\n",
    "    df_count = count_freq_labels(df_stack_emotion, X='stacked', col='emotion_ps_steamed') # count label freq\n",
    "    source = df_count[df_count['counts'] >= n_mentions]\n",
    "\n",
    "    chart = simple_per_bar_concat(\n",
    "        source, \\\n",
    "        title=f\"Expected label: {emotion} | Labels with {n_mentions} or more mentions | n= {source['counts'].sum().astype(str)}\", \\\n",
    "        emotion=emotion_st)\n",
    "    return chart"
   ]
  },
  {
   "cell_type": "markdown",
   "id": "caaeb72b-474a-486a-b356-45b1d01f6f12",
   "metadata": {},
   "source": [
    "### Anger"
   ]
  },
  {
   "cell_type": "code",
   "execution_count": 180,
   "id": "1db8bdf5-d01d-4f13-b217-24a87e07b761",
   "metadata": {},
   "outputs": [
    {
     "name": "stderr",
     "output_type": "stream",
     "text": [
      "/tmp/ipykernel_1811/2691402293.py:11: FutureWarning: The default value of regex will change from True to False in a future version.\n",
      "  df_stack_single_word['emotion'] = df_stack_single_word['emotion'].str.replace('[^a-zA-Z]', '') # remove non-alphabetic characters\n",
      "/home/pablo_ubuntu/miniconda3/envs/venv/lib/python3.9/site-packages/pandas/core/frame.py:3607: SettingWithCopyWarning: \n",
      "A value is trying to be set on a copy of a slice from a DataFrame.\n",
      "Try using .loc[row_indexer,col_indexer] = value instead\n",
      "\n",
      "See the caveats in the documentation: https://pandas.pydata.org/pandas-docs/stable/user_guide/indexing.html#returning-a-view-versus-a-copy\n",
      "  self._set_item(key, value)\n"
     ]
    }
   ],
   "source": [
    "chart_anger_bipoc = wrapper_chart_emotion(df_emo_answers, 'anger', 'bipoc', emotion_st='angri', n_mentions=10)\n",
    "chart_anger_white = wrapper_chart_emotion(df_emo_answers, 'anger', 'white', emotion_st='angri', n_mentions=10)"
   ]
  },
  {
   "cell_type": "code",
   "execution_count": 181,
   "id": "b0361e6c-54f6-4a67-b8e6-eeea07ecebcc",
   "metadata": {},
   "outputs": [],
   "source": [
    "chart_anger_layered =  (chart_anger_bipoc | chart_anger_white)"
   ]
  },
  {
   "cell_type": "code",
   "execution_count": 182,
   "id": "856c5cce-c970-4a92-a0ea-9cdb06053789",
   "metadata": {},
   "outputs": [
    {
     "data": {
      "text/html": [
       "\n",
       "<div id=\"altair-viz-5dafb9867ec8439aa275e6bb64c1b50c\"></div>\n",
       "<script type=\"text/javascript\">\n",
       "  (function(spec, embedOpt){\n",
       "    let outputDiv = document.currentScript.previousElementSibling;\n",
       "    if (outputDiv.id !== \"altair-viz-5dafb9867ec8439aa275e6bb64c1b50c\") {\n",
       "      outputDiv = document.getElementById(\"altair-viz-5dafb9867ec8439aa275e6bb64c1b50c\");\n",
       "    }\n",
       "    const paths = {\n",
       "      \"vega\": \"https://cdn.jsdelivr.net/npm//vega@5?noext\",\n",
       "      \"vega-lib\": \"https://cdn.jsdelivr.net/npm//vega-lib?noext\",\n",
       "      \"vega-lite\": \"https://cdn.jsdelivr.net/npm//vega-lite@4.8.1?noext\",\n",
       "      \"vega-embed\": \"https://cdn.jsdelivr.net/npm//vega-embed@6?noext\",\n",
       "    };\n",
       "\n",
       "    function loadScript(lib) {\n",
       "      return new Promise(function(resolve, reject) {\n",
       "        var s = document.createElement('script');\n",
       "        s.src = paths[lib];\n",
       "        s.async = true;\n",
       "        s.onload = () => resolve(paths[lib]);\n",
       "        s.onerror = () => reject(`Error loading script: ${paths[lib]}`);\n",
       "        document.getElementsByTagName(\"head\")[0].appendChild(s);\n",
       "      });\n",
       "    }\n",
       "\n",
       "    function showError(err) {\n",
       "      outputDiv.innerHTML = `<div class=\"error\" style=\"color:red;\">${err}</div>`;\n",
       "      throw err;\n",
       "    }\n",
       "\n",
       "    function displayChart(vegaEmbed) {\n",
       "      vegaEmbed(outputDiv, spec, embedOpt)\n",
       "        .catch(err => showError(`Javascript Error: ${err.message}<br>This usually means there's a typo in your chart specification. See the javascript console for the full traceback.`));\n",
       "    }\n",
       "\n",
       "    if(typeof define === \"function\" && define.amd) {\n",
       "      requirejs.config({paths});\n",
       "      require([\"vega-embed\"], displayChart, err => showError(`Error loading script: ${err.message}`));\n",
       "    } else if (typeof vegaEmbed === \"function\") {\n",
       "      displayChart(vegaEmbed);\n",
       "    } else {\n",
       "      loadScript(\"vega\")\n",
       "        .then(() => loadScript(\"vega-lite\"))\n",
       "        .then(() => loadScript(\"vega-embed\"))\n",
       "        .catch(showError)\n",
       "        .then(() => displayChart(vegaEmbed));\n",
       "    }\n",
       "  })({\"config\": {\"view\": {\"continuousWidth\": 400, \"continuousHeight\": 300}}, \"hconcat\": [{\"layer\": [{\"mark\": \"bar\", \"encoding\": {\"color\": {\"condition\": {\"value\": \"orange\", \"test\": \"(datum.emotion === 'angri')\"}, \"value\": \"#0570b0\"}, \"x\": {\"type\": \"quantitative\", \"axis\": {\"format\": \".0%\"}, \"field\": \"percent\"}, \"y\": {\"type\": \"nominal\", \"field\": \"emotion\", \"sort\": \"-x\"}}, \"title\": \"Expected label: anger | Labels with 10 or more mentions | n= 570\"}, {\"mark\": {\"type\": \"text\", \"align\": \"left\", \"baseline\": \"middle\", \"dx\": 3, \"fontSize\": 12}, \"encoding\": {\"color\": {\"condition\": {\"value\": \"orange\", \"test\": \"(datum.emotion === 'angri')\"}, \"value\": \"#0570b0\"}, \"text\": {\"type\": \"quantitative\", \"field\": \"percent\", \"format\": \".1%\"}, \"x\": {\"type\": \"quantitative\", \"axis\": {\"format\": \".0%\"}, \"field\": \"percent\"}, \"y\": {\"type\": \"nominal\", \"field\": \"emotion\", \"sort\": \"-x\"}}, \"title\": \"Expected label: anger | Labels with 10 or more mentions | n= 570\"}], \"data\": {\"name\": \"data-a26fe4e3fe323e0443bd604d8d7d3724\"}}, {\"layer\": [{\"mark\": \"bar\", \"encoding\": {\"color\": {\"condition\": {\"value\": \"orange\", \"test\": \"(datum.emotion === 'angri')\"}, \"value\": \"#0570b0\"}, \"x\": {\"type\": \"quantitative\", \"axis\": {\"format\": \".0%\"}, \"field\": \"percent\"}, \"y\": {\"type\": \"nominal\", \"field\": \"emotion\", \"sort\": \"-x\"}}, \"title\": \"Expected label: anger | Labels with 10 or more mentions | n= 573\"}, {\"mark\": {\"type\": \"text\", \"align\": \"left\", \"baseline\": \"middle\", \"dx\": 3, \"fontSize\": 12}, \"encoding\": {\"color\": {\"condition\": {\"value\": \"orange\", \"test\": \"(datum.emotion === 'angri')\"}, \"value\": \"#0570b0\"}, \"text\": {\"type\": \"quantitative\", \"field\": \"percent\", \"format\": \".1%\"}, \"x\": {\"type\": \"quantitative\", \"axis\": {\"format\": \".0%\"}, \"field\": \"percent\"}, \"y\": {\"type\": \"nominal\", \"field\": \"emotion\", \"sort\": \"-x\"}}, \"title\": \"Expected label: anger | Labels with 10 or more mentions | n= 573\"}], \"data\": {\"name\": \"data-2d92d56ff6a6667692a43f902ae44530\"}}], \"$schema\": \"https://vega.github.io/schema/vega-lite/v4.8.1.json\", \"datasets\": {\"data-a26fe4e3fe323e0443bd604d8d7d3724\": [{\"counts\": 204, \"emotion\": \"angri\", \"percent\": 0.2622107969151671}, {\"counts\": 98, \"emotion\": \"mad\", \"percent\": 0.12596401028277635}, {\"counts\": 66, \"emotion\": \"upset\", \"percent\": 0.08483290488431877}, {\"counts\": 40, \"emotion\": \"sad\", \"percent\": 0.05141388174807198}, {\"counts\": 34, \"emotion\": \"confus\", \"percent\": 0.043701799485861184}, {\"counts\": 30, \"emotion\": \"seriou\", \"percent\": 0.038560411311053984}, {\"counts\": 26, \"emotion\": \"none\", \"percent\": 0.033419023136246784}, {\"counts\": 22, \"emotion\": \"annoy\", \"percent\": 0.028277634961439587}, {\"counts\": 19, \"emotion\": \"frustrat\", \"percent\": 0.02442159383033419}, {\"counts\": 11, \"emotion\": \"disappoint\", \"percent\": 0.014138817480719794}, {\"counts\": 10, \"emotion\": \"unhappi\", \"percent\": 0.012853470437017995}, {\"counts\": 10, \"emotion\": \"anger\", \"percent\": 0.012853470437017995}], \"data-2d92d56ff6a6667692a43f902ae44530\": [{\"counts\": 204, \"emotion\": \"angri\", \"percent\": 0.2553191489361702}, {\"counts\": 92, \"emotion\": \"mad\", \"percent\": 0.11514392991239049}, {\"counts\": 54, \"emotion\": \"upset\", \"percent\": 0.06758448060075094}, {\"counts\": 37, \"emotion\": \"confus\", \"percent\": 0.04630788485607009}, {\"counts\": 31, \"emotion\": \"seriou\", \"percent\": 0.03879849812265332}, {\"counts\": 25, \"emotion\": \"sad\", \"percent\": 0.03128911138923655}, {\"counts\": 22, \"emotion\": \"silli\", \"percent\": 0.02753441802252816}, {\"counts\": 21, \"emotion\": \"frustrat\", \"percent\": 0.026282853566958697}, {\"counts\": 15, \"emotion\": \"happi\", \"percent\": 0.01877346683354193}, {\"counts\": 14, \"emotion\": \"none\", \"percent\": 0.017521902377972465}, {\"counts\": 14, \"emotion\": \"anger\", \"percent\": 0.017521902377972465}, {\"counts\": 12, \"emotion\": \"goofi\", \"percent\": 0.015018773466833541}, {\"counts\": 12, \"emotion\": \"annoy\", \"percent\": 0.015018773466833541}, {\"counts\": 10, \"emotion\": \"disgust\", \"percent\": 0.012515644555694618}, {\"counts\": 10, \"emotion\": \"disappoint\", \"percent\": 0.012515644555694618}]}}, {\"renderer\": \"svg\", \"mode\": \"vega-lite\"});\n",
       "</script>"
      ],
      "text/plain": [
       "alt.HConcatChart(...)"
      ]
     },
     "metadata": {},
     "output_type": "display_data"
    }
   ],
   "source": [
    "chart_anger_layered.display(renderer='svg')"
   ]
  },
  {
   "cell_type": "code",
   "execution_count": 183,
   "id": "197c4a49-de5b-484d-9b61-a6ff24f91e9a",
   "metadata": {},
   "outputs": [],
   "source": [
    "chart_anger_layered_str = altair_saver.save(chart_anger_layered, fmt='svg')\n",
    "image_title.append(\"'anger' by ethnicity\")\n",
    "svg_str.append(chart_anger_layered_str)"
   ]
  },
  {
   "cell_type": "markdown",
   "id": "7fd9c35a-e602-4840-b70f-94d300aeab77",
   "metadata": {},
   "source": [
    "### Disgust"
   ]
  },
  {
   "cell_type": "code",
   "execution_count": 184,
   "id": "9cd126b5-3460-499c-a179-d6da39aeb29c",
   "metadata": {},
   "outputs": [
    {
     "name": "stderr",
     "output_type": "stream",
     "text": [
      "/tmp/ipykernel_1811/2691402293.py:11: FutureWarning: The default value of regex will change from True to False in a future version.\n",
      "  df_stack_single_word['emotion'] = df_stack_single_word['emotion'].str.replace('[^a-zA-Z]', '') # remove non-alphabetic characters\n",
      "/home/pablo_ubuntu/miniconda3/envs/venv/lib/python3.9/site-packages/pandas/core/frame.py:3607: SettingWithCopyWarning: \n",
      "A value is trying to be set on a copy of a slice from a DataFrame.\n",
      "Try using .loc[row_indexer,col_indexer] = value instead\n",
      "\n",
      "See the caveats in the documentation: https://pandas.pydata.org/pandas-docs/stable/user_guide/indexing.html#returning-a-view-versus-a-copy\n",
      "  self._set_item(key, value)\n"
     ]
    }
   ],
   "source": [
    "chart_disgust_bipoc = wrapper_chart_emotion(df_emo_answers, 'disgust', 'bipoc', emotion_st='disgust', n_mentions=10)\n",
    "chart_disgust_white = wrapper_chart_emotion(df_emo_answers, 'disgust', 'white', emotion_st='disgust', n_mentions=10)"
   ]
  },
  {
   "cell_type": "code",
   "execution_count": 185,
   "id": "8828bf4d-a91c-4ba7-99a6-012287754ee5",
   "metadata": {},
   "outputs": [
    {
     "data": {
      "text/html": [
       "\n",
       "<div id=\"altair-viz-ab08ede12db745c6ba185929cf6caafb\"></div>\n",
       "<script type=\"text/javascript\">\n",
       "  (function(spec, embedOpt){\n",
       "    let outputDiv = document.currentScript.previousElementSibling;\n",
       "    if (outputDiv.id !== \"altair-viz-ab08ede12db745c6ba185929cf6caafb\") {\n",
       "      outputDiv = document.getElementById(\"altair-viz-ab08ede12db745c6ba185929cf6caafb\");\n",
       "    }\n",
       "    const paths = {\n",
       "      \"vega\": \"https://cdn.jsdelivr.net/npm//vega@5?noext\",\n",
       "      \"vega-lib\": \"https://cdn.jsdelivr.net/npm//vega-lib?noext\",\n",
       "      \"vega-lite\": \"https://cdn.jsdelivr.net/npm//vega-lite@4.8.1?noext\",\n",
       "      \"vega-embed\": \"https://cdn.jsdelivr.net/npm//vega-embed@6?noext\",\n",
       "    };\n",
       "\n",
       "    function loadScript(lib) {\n",
       "      return new Promise(function(resolve, reject) {\n",
       "        var s = document.createElement('script');\n",
       "        s.src = paths[lib];\n",
       "        s.async = true;\n",
       "        s.onload = () => resolve(paths[lib]);\n",
       "        s.onerror = () => reject(`Error loading script: ${paths[lib]}`);\n",
       "        document.getElementsByTagName(\"head\")[0].appendChild(s);\n",
       "      });\n",
       "    }\n",
       "\n",
       "    function showError(err) {\n",
       "      outputDiv.innerHTML = `<div class=\"error\" style=\"color:red;\">${err}</div>`;\n",
       "      throw err;\n",
       "    }\n",
       "\n",
       "    function displayChart(vegaEmbed) {\n",
       "      vegaEmbed(outputDiv, spec, embedOpt)\n",
       "        .catch(err => showError(`Javascript Error: ${err.message}<br>This usually means there's a typo in your chart specification. See the javascript console for the full traceback.`));\n",
       "    }\n",
       "\n",
       "    if(typeof define === \"function\" && define.amd) {\n",
       "      requirejs.config({paths});\n",
       "      require([\"vega-embed\"], displayChart, err => showError(`Error loading script: ${err.message}`));\n",
       "    } else if (typeof vegaEmbed === \"function\") {\n",
       "      displayChart(vegaEmbed);\n",
       "    } else {\n",
       "      loadScript(\"vega\")\n",
       "        .then(() => loadScript(\"vega-lite\"))\n",
       "        .then(() => loadScript(\"vega-embed\"))\n",
       "        .catch(showError)\n",
       "        .then(() => displayChart(vegaEmbed));\n",
       "    }\n",
       "  })({\"config\": {\"view\": {\"continuousWidth\": 400, \"continuousHeight\": 300}}, \"hconcat\": [{\"layer\": [{\"mark\": \"bar\", \"encoding\": {\"color\": {\"condition\": {\"value\": \"orange\", \"test\": \"(datum.emotion === 'disgust')\"}, \"value\": \"#0570b0\"}, \"x\": {\"type\": \"quantitative\", \"axis\": {\"format\": \".0%\"}, \"field\": \"percent\"}, \"y\": {\"type\": \"nominal\", \"field\": \"emotion\", \"sort\": \"-x\"}}, \"title\": \"Expected label: disgust | Labels with 10 or more mentions | n= 544\"}, {\"mark\": {\"type\": \"text\", \"align\": \"left\", \"baseline\": \"middle\", \"dx\": 3, \"fontSize\": 12}, \"encoding\": {\"color\": {\"condition\": {\"value\": \"orange\", \"test\": \"(datum.emotion === 'disgust')\"}, \"value\": \"#0570b0\"}, \"text\": {\"type\": \"quantitative\", \"field\": \"percent\", \"format\": \".1%\"}, \"x\": {\"type\": \"quantitative\", \"axis\": {\"format\": \".0%\"}, \"field\": \"percent\"}, \"y\": {\"type\": \"nominal\", \"field\": \"emotion\", \"sort\": \"-x\"}}, \"title\": \"Expected label: disgust | Labels with 10 or more mentions | n= 544\"}], \"data\": {\"name\": \"data-720fbc038212bd2b7cc51a142c48c75e\"}}, {\"layer\": [{\"mark\": \"bar\", \"encoding\": {\"color\": {\"condition\": {\"value\": \"orange\", \"test\": \"(datum.emotion === 'disgust')\"}, \"value\": \"#0570b0\"}, \"x\": {\"type\": \"quantitative\", \"axis\": {\"format\": \".0%\"}, \"field\": \"percent\"}, \"y\": {\"type\": \"nominal\", \"field\": \"emotion\", \"sort\": \"-x\"}}, \"title\": \"Expected label: disgust | Labels with 10 or more mentions | n= 607\"}, {\"mark\": {\"type\": \"text\", \"align\": \"left\", \"baseline\": \"middle\", \"dx\": 3, \"fontSize\": 12}, \"encoding\": {\"color\": {\"condition\": {\"value\": \"orange\", \"test\": \"(datum.emotion === 'disgust')\"}, \"value\": \"#0570b0\"}, \"text\": {\"type\": \"quantitative\", \"field\": \"percent\", \"format\": \".1%\"}, \"x\": {\"type\": \"quantitative\", \"axis\": {\"format\": \".0%\"}, \"field\": \"percent\"}, \"y\": {\"type\": \"nominal\", \"field\": \"emotion\", \"sort\": \"-x\"}}, \"title\": \"Expected label: disgust | Labels with 10 or more mentions | n= 607\"}], \"data\": {\"name\": \"data-2d1ba6e2dac7688472029a8bc3a76f8d\"}}], \"$schema\": \"https://vega.github.io/schema/vega-lite/v4.8.1.json\", \"datasets\": {\"data-720fbc038212bd2b7cc51a142c48c75e\": [{\"counts\": 119, \"emotion\": \"disgust\", \"percent\": 0.15616797900262466}, {\"counts\": 109, \"emotion\": \"confus\", \"percent\": 0.14304461942257218}, {\"counts\": 81, \"emotion\": \"angri\", \"percent\": 0.1062992125984252}, {\"counts\": 60, \"emotion\": \"mad\", \"percent\": 0.07874015748031496}, {\"counts\": 36, \"emotion\": \"upset\", \"percent\": 0.047244094488188976}, {\"counts\": 29, \"emotion\": \"annoy\", \"percent\": 0.03805774278215223}, {\"counts\": 23, \"emotion\": \"happi\", \"percent\": 0.030183727034120734}, {\"counts\": 23, \"emotion\": \"shock\", \"percent\": 0.030183727034120734}, {\"counts\": 18, \"emotion\": \"surpris\", \"percent\": 0.023622047244094488}, {\"counts\": 18, \"emotion\": \"none\", \"percent\": 0.023622047244094488}, {\"counts\": 16, \"emotion\": \"silli\", \"percent\": 0.02099737532808399}, {\"counts\": 12, \"emotion\": \"sad\", \"percent\": 0.015748031496062992}], \"data-2d1ba6e2dac7688472029a8bc3a76f8d\": [{\"counts\": 166, \"emotion\": \"disgust\", \"percent\": 0.21012658227848102}, {\"counts\": 53, \"emotion\": \"silli\", \"percent\": 0.0670886075949367}, {\"counts\": 43, \"emotion\": \"confus\", \"percent\": 0.05443037974683544}, {\"counts\": 36, \"emotion\": \"angri\", \"percent\": 0.04556962025316456}, {\"counts\": 31, \"emotion\": \"happi\", \"percent\": 0.039240506329113925}, {\"counts\": 30, \"emotion\": \"upset\", \"percent\": 0.0379746835443038}, {\"counts\": 29, \"emotion\": \"mad\", \"percent\": 0.03670886075949367}, {\"counts\": 26, \"emotion\": \"sad\", \"percent\": 0.03291139240506329}, {\"counts\": 24, \"emotion\": \"goofi\", \"percent\": 0.030379746835443037}, {\"counts\": 21, \"emotion\": \"annoy\", \"percent\": 0.026582278481012658}, {\"counts\": 21, \"emotion\": \"shock\", \"percent\": 0.026582278481012658}, {\"counts\": 20, \"emotion\": \"scare\", \"percent\": 0.02531645569620253}, {\"counts\": 19, \"emotion\": \"funni\", \"percent\": 0.024050632911392405}, {\"counts\": 16, \"emotion\": \"none\", \"percent\": 0.020253164556962026}, {\"counts\": 13, \"emotion\": \"unhappi\", \"percent\": 0.016455696202531647}, {\"counts\": 12, \"emotion\": \"cute\", \"percent\": 0.015189873417721518}, {\"counts\": 12, \"emotion\": \"sour\", \"percent\": 0.015189873417721518}, {\"counts\": 12, \"emotion\": \"gross\", \"percent\": 0.015189873417721518}, {\"counts\": 12, \"emotion\": \"surpris\", \"percent\": 0.015189873417721518}, {\"counts\": 11, \"emotion\": \"weird\", \"percent\": 0.013924050632911392}]}}, {\"renderer\": \"svg\", \"mode\": \"vega-lite\"});\n",
       "</script>"
      ],
      "text/plain": [
       "alt.HConcatChart(...)"
      ]
     },
     "metadata": {},
     "output_type": "display_data"
    }
   ],
   "source": [
    "chart_disgust_layered =  (chart_disgust_bipoc | chart_disgust_white)\n",
    "chart_disgust_layered.display(renderer='svg')"
   ]
  },
  {
   "cell_type": "code",
   "execution_count": 186,
   "id": "31f8789d-70fe-41ca-b6ed-abc842884fab",
   "metadata": {},
   "outputs": [],
   "source": [
    "chart_disgust_layered_str = altair_saver.save(chart_disgust_layered, fmt='svg')\n",
    "image_title.append(\"'disgust' by ethnicity\")\n",
    "svg_str.append(chart_disgust_layered_str)"
   ]
  },
  {
   "cell_type": "markdown",
   "id": "ebcaba8d-d035-470e-b05f-dbbcbf4abb34",
   "metadata": {},
   "source": [
    "### Fear"
   ]
  },
  {
   "cell_type": "code",
   "execution_count": 187,
   "id": "ef03c51e-064e-4cef-b2a6-f6f41b6bbeb3",
   "metadata": {},
   "outputs": [
    {
     "name": "stderr",
     "output_type": "stream",
     "text": [
      "/tmp/ipykernel_1811/2691402293.py:11: FutureWarning: The default value of regex will change from True to False in a future version.\n",
      "  df_stack_single_word['emotion'] = df_stack_single_word['emotion'].str.replace('[^a-zA-Z]', '') # remove non-alphabetic characters\n",
      "/home/pablo_ubuntu/miniconda3/envs/venv/lib/python3.9/site-packages/pandas/core/frame.py:3607: SettingWithCopyWarning: \n",
      "A value is trying to be set on a copy of a slice from a DataFrame.\n",
      "Try using .loc[row_indexer,col_indexer] = value instead\n",
      "\n",
      "See the caveats in the documentation: https://pandas.pydata.org/pandas-docs/stable/user_guide/indexing.html#returning-a-view-versus-a-copy\n",
      "  self._set_item(key, value)\n"
     ]
    }
   ],
   "source": [
    "chart_fear_bipoc = wrapper_chart_emotion(df_emo_answers, 'fear', 'bipoc', emotion_st='fear', n_mentions=10)\n",
    "chart_fear_white = wrapper_chart_emotion(df_emo_answers, 'fear', 'white', emotion_st='fear', n_mentions=10)"
   ]
  },
  {
   "cell_type": "code",
   "execution_count": 188,
   "id": "ee89ddf2-176c-4b02-837d-4bc1bc904a19",
   "metadata": {},
   "outputs": [
    {
     "data": {
      "text/html": [
       "\n",
       "<div id=\"altair-viz-a5fe08369fa946b9a39c14a0f1413a9e\"></div>\n",
       "<script type=\"text/javascript\">\n",
       "  (function(spec, embedOpt){\n",
       "    let outputDiv = document.currentScript.previousElementSibling;\n",
       "    if (outputDiv.id !== \"altair-viz-a5fe08369fa946b9a39c14a0f1413a9e\") {\n",
       "      outputDiv = document.getElementById(\"altair-viz-a5fe08369fa946b9a39c14a0f1413a9e\");\n",
       "    }\n",
       "    const paths = {\n",
       "      \"vega\": \"https://cdn.jsdelivr.net/npm//vega@5?noext\",\n",
       "      \"vega-lib\": \"https://cdn.jsdelivr.net/npm//vega-lib?noext\",\n",
       "      \"vega-lite\": \"https://cdn.jsdelivr.net/npm//vega-lite@4.8.1?noext\",\n",
       "      \"vega-embed\": \"https://cdn.jsdelivr.net/npm//vega-embed@6?noext\",\n",
       "    };\n",
       "\n",
       "    function loadScript(lib) {\n",
       "      return new Promise(function(resolve, reject) {\n",
       "        var s = document.createElement('script');\n",
       "        s.src = paths[lib];\n",
       "        s.async = true;\n",
       "        s.onload = () => resolve(paths[lib]);\n",
       "        s.onerror = () => reject(`Error loading script: ${paths[lib]}`);\n",
       "        document.getElementsByTagName(\"head\")[0].appendChild(s);\n",
       "      });\n",
       "    }\n",
       "\n",
       "    function showError(err) {\n",
       "      outputDiv.innerHTML = `<div class=\"error\" style=\"color:red;\">${err}</div>`;\n",
       "      throw err;\n",
       "    }\n",
       "\n",
       "    function displayChart(vegaEmbed) {\n",
       "      vegaEmbed(outputDiv, spec, embedOpt)\n",
       "        .catch(err => showError(`Javascript Error: ${err.message}<br>This usually means there's a typo in your chart specification. See the javascript console for the full traceback.`));\n",
       "    }\n",
       "\n",
       "    if(typeof define === \"function\" && define.amd) {\n",
       "      requirejs.config({paths});\n",
       "      require([\"vega-embed\"], displayChart, err => showError(`Error loading script: ${err.message}`));\n",
       "    } else if (typeof vegaEmbed === \"function\") {\n",
       "      displayChart(vegaEmbed);\n",
       "    } else {\n",
       "      loadScript(\"vega\")\n",
       "        .then(() => loadScript(\"vega-lite\"))\n",
       "        .then(() => loadScript(\"vega-embed\"))\n",
       "        .catch(showError)\n",
       "        .then(() => displayChart(vegaEmbed));\n",
       "    }\n",
       "  })({\"config\": {\"view\": {\"continuousWidth\": 400, \"continuousHeight\": 300}}, \"hconcat\": [{\"layer\": [{\"mark\": \"bar\", \"encoding\": {\"color\": {\"condition\": {\"value\": \"orange\", \"test\": \"(datum.emotion === 'fear')\"}, \"value\": \"#0570b0\"}, \"x\": {\"type\": \"quantitative\", \"axis\": {\"format\": \".0%\"}, \"field\": \"percent\"}, \"y\": {\"type\": \"nominal\", \"field\": \"emotion\", \"sort\": \"-x\"}}, \"title\": \"Expected label: fear | Labels with 10 or more mentions | n= 668\"}, {\"mark\": {\"type\": \"text\", \"align\": \"left\", \"baseline\": \"middle\", \"dx\": 3, \"fontSize\": 12}, \"encoding\": {\"color\": {\"condition\": {\"value\": \"orange\", \"test\": \"(datum.emotion === 'fear')\"}, \"value\": \"#0570b0\"}, \"text\": {\"type\": \"quantitative\", \"field\": \"percent\", \"format\": \".1%\"}, \"x\": {\"type\": \"quantitative\", \"axis\": {\"format\": \".0%\"}, \"field\": \"percent\"}, \"y\": {\"type\": \"nominal\", \"field\": \"emotion\", \"sort\": \"-x\"}}, \"title\": \"Expected label: fear | Labels with 10 or more mentions | n= 668\"}], \"data\": {\"name\": \"data-5197e287e13c588867fe2b116f487883\"}}, {\"layer\": [{\"mark\": \"bar\", \"encoding\": {\"color\": {\"condition\": {\"value\": \"orange\", \"test\": \"(datum.emotion === 'fear')\"}, \"value\": \"#0570b0\"}, \"x\": {\"type\": \"quantitative\", \"axis\": {\"format\": \".0%\"}, \"field\": \"percent\"}, \"y\": {\"type\": \"nominal\", \"field\": \"emotion\", \"sort\": \"-x\"}}, \"title\": \"Expected label: fear | Labels with 10 or more mentions | n= 649\"}, {\"mark\": {\"type\": \"text\", \"align\": \"left\", \"baseline\": \"middle\", \"dx\": 3, \"fontSize\": 12}, \"encoding\": {\"color\": {\"condition\": {\"value\": \"orange\", \"test\": \"(datum.emotion === 'fear')\"}, \"value\": \"#0570b0\"}, \"text\": {\"type\": \"quantitative\", \"field\": \"percent\", \"format\": \".1%\"}, \"x\": {\"type\": \"quantitative\", \"axis\": {\"format\": \".0%\"}, \"field\": \"percent\"}, \"y\": {\"type\": \"nominal\", \"field\": \"emotion\", \"sort\": \"-x\"}}, \"title\": \"Expected label: fear | Labels with 10 or more mentions | n= 649\"}], \"data\": {\"name\": \"data-be9cad8f89539e466e0a49a0a9fa92be\"}}], \"$schema\": \"https://vega.github.io/schema/vega-lite/v4.8.1.json\", \"datasets\": {\"data-5197e287e13c588867fe2b116f487883\": [{\"counts\": 108, \"emotion\": \"scare\", \"percent\": 0.12735849056603774}, {\"counts\": 101, \"emotion\": \"sad\", \"percent\": 0.11910377358490566}, {\"counts\": 100, \"emotion\": \"shock\", \"percent\": 0.1179245283018868}, {\"counts\": 63, \"emotion\": \"confus\", \"percent\": 0.07429245283018868}, {\"counts\": 58, \"emotion\": \"surpris\", \"percent\": 0.06839622641509434}, {\"counts\": 48, \"emotion\": \"disgust\", \"percent\": 0.05660377358490566}, {\"counts\": 39, \"emotion\": \"upset\", \"percent\": 0.045990566037735846}, {\"counts\": 28, \"emotion\": \"worri\", \"percent\": 0.0330188679245283}, {\"counts\": 18, \"emotion\": \"excit\", \"percent\": 0.02122641509433962}, {\"counts\": 18, \"emotion\": \"supris\", \"percent\": 0.02122641509433962}, {\"counts\": 15, \"emotion\": \"happi\", \"percent\": 0.01768867924528302}, {\"counts\": 15, \"emotion\": \"angri\", \"percent\": 0.01768867924528302}, {\"counts\": 13, \"emotion\": \"none\", \"percent\": 0.015330188679245283}, {\"counts\": 13, \"emotion\": \"cri\", \"percent\": 0.015330188679245283}, {\"counts\": 11, \"emotion\": \"fear\", \"percent\": 0.012971698113207548}, {\"counts\": 10, \"emotion\": \"concern\", \"percent\": 0.01179245283018868}, {\"counts\": 10, \"emotion\": \"mad\", \"percent\": 0.01179245283018868}], \"data-be9cad8f89539e466e0a49a0a9fa92be\": [{\"counts\": 125, \"emotion\": \"shock\", \"percent\": 0.14637002341920374}, {\"counts\": 98, \"emotion\": \"surpris\", \"percent\": 0.11475409836065574}, {\"counts\": 92, \"emotion\": \"scare\", \"percent\": 0.10772833723653395}, {\"counts\": 59, \"emotion\": \"sad\", \"percent\": 0.06908665105386416}, {\"counts\": 39, \"emotion\": \"happi\", \"percent\": 0.04566744730679157}, {\"counts\": 37, \"emotion\": \"confus\", \"percent\": 0.04332552693208431}, {\"counts\": 35, \"emotion\": \"excit\", \"percent\": 0.040983606557377046}, {\"counts\": 30, \"emotion\": \"upset\", \"percent\": 0.0351288056206089}, {\"counts\": 25, \"emotion\": \"silli\", \"percent\": 0.02927400468384075}, {\"counts\": 22, \"emotion\": \"worri\", \"percent\": 0.02576112412177986}, {\"counts\": 19, \"emotion\": \"supris\", \"percent\": 0.02224824355971897}, {\"counts\": 19, \"emotion\": \"none\", \"percent\": 0.02224824355971897}, {\"counts\": 14, \"emotion\": \"goofi\", \"percent\": 0.01639344262295082}, {\"counts\": 12, \"emotion\": \"funni\", \"percent\": 0.01405152224824356}, {\"counts\": 12, \"emotion\": \"disgust\", \"percent\": 0.01405152224824356}, {\"counts\": 11, \"emotion\": \"angri\", \"percent\": 0.01288056206088993}]}}, {\"renderer\": \"svg\", \"mode\": \"vega-lite\"});\n",
       "</script>"
      ],
      "text/plain": [
       "alt.HConcatChart(...)"
      ]
     },
     "metadata": {},
     "output_type": "display_data"
    }
   ],
   "source": [
    "chart_fear_layered =  (chart_fear_bipoc | chart_fear_white)\n",
    "chart_fear_layered.display(renderer='svg')"
   ]
  },
  {
   "cell_type": "code",
   "execution_count": 189,
   "id": "31d55aad-114b-4aa8-98ae-c4786ac9c248",
   "metadata": {},
   "outputs": [],
   "source": [
    "chart_fear_layered_str = altair_saver.save(chart_fear_layered, fmt='svg')\n",
    "image_title.append(\"'fear' by ethnicity\")\n",
    "svg_str.append(chart_fear_layered_str)"
   ]
  },
  {
   "cell_type": "markdown",
   "id": "977cf63b-569c-4617-97d7-ebc19e56f620",
   "metadata": {},
   "source": [
    "### Surprise"
   ]
  },
  {
   "cell_type": "code",
   "execution_count": 190,
   "id": "eabe78e8-cd99-4f97-ab73-dc5d368ae7bd",
   "metadata": {},
   "outputs": [
    {
     "name": "stderr",
     "output_type": "stream",
     "text": [
      "/tmp/ipykernel_1811/2691402293.py:11: FutureWarning: The default value of regex will change from True to False in a future version.\n",
      "  df_stack_single_word['emotion'] = df_stack_single_word['emotion'].str.replace('[^a-zA-Z]', '') # remove non-alphabetic characters\n",
      "/home/pablo_ubuntu/miniconda3/envs/venv/lib/python3.9/site-packages/pandas/core/frame.py:3607: SettingWithCopyWarning: \n",
      "A value is trying to be set on a copy of a slice from a DataFrame.\n",
      "Try using .loc[row_indexer,col_indexer] = value instead\n",
      "\n",
      "See the caveats in the documentation: https://pandas.pydata.org/pandas-docs/stable/user_guide/indexing.html#returning-a-view-versus-a-copy\n",
      "  self._set_item(key, value)\n"
     ]
    }
   ],
   "source": [
    "chart_surprise_bipoc= wrapper_chart_emotion(df_emo_answers, 'surprise', 'bipoc', emotion_st='surpris', n_mentions=10)\n",
    "chart_surprise_white = wrapper_chart_emotion(df_emo_answers, 'surprise', 'white', emotion_st='surpris', n_mentions=10)"
   ]
  },
  {
   "cell_type": "code",
   "execution_count": 191,
   "id": "dce6c56c-c2e7-496e-9b45-0cc053cd360d",
   "metadata": {},
   "outputs": [
    {
     "data": {
      "text/html": [
       "\n",
       "<div id=\"altair-viz-ea2d630182024ffdb5e7e74f591da087\"></div>\n",
       "<script type=\"text/javascript\">\n",
       "  (function(spec, embedOpt){\n",
       "    let outputDiv = document.currentScript.previousElementSibling;\n",
       "    if (outputDiv.id !== \"altair-viz-ea2d630182024ffdb5e7e74f591da087\") {\n",
       "      outputDiv = document.getElementById(\"altair-viz-ea2d630182024ffdb5e7e74f591da087\");\n",
       "    }\n",
       "    const paths = {\n",
       "      \"vega\": \"https://cdn.jsdelivr.net/npm//vega@5?noext\",\n",
       "      \"vega-lib\": \"https://cdn.jsdelivr.net/npm//vega-lib?noext\",\n",
       "      \"vega-lite\": \"https://cdn.jsdelivr.net/npm//vega-lite@4.8.1?noext\",\n",
       "      \"vega-embed\": \"https://cdn.jsdelivr.net/npm//vega-embed@6?noext\",\n",
       "    };\n",
       "\n",
       "    function loadScript(lib) {\n",
       "      return new Promise(function(resolve, reject) {\n",
       "        var s = document.createElement('script');\n",
       "        s.src = paths[lib];\n",
       "        s.async = true;\n",
       "        s.onload = () => resolve(paths[lib]);\n",
       "        s.onerror = () => reject(`Error loading script: ${paths[lib]}`);\n",
       "        document.getElementsByTagName(\"head\")[0].appendChild(s);\n",
       "      });\n",
       "    }\n",
       "\n",
       "    function showError(err) {\n",
       "      outputDiv.innerHTML = `<div class=\"error\" style=\"color:red;\">${err}</div>`;\n",
       "      throw err;\n",
       "    }\n",
       "\n",
       "    function displayChart(vegaEmbed) {\n",
       "      vegaEmbed(outputDiv, spec, embedOpt)\n",
       "        .catch(err => showError(`Javascript Error: ${err.message}<br>This usually means there's a typo in your chart specification. See the javascript console for the full traceback.`));\n",
       "    }\n",
       "\n",
       "    if(typeof define === \"function\" && define.amd) {\n",
       "      requirejs.config({paths});\n",
       "      require([\"vega-embed\"], displayChart, err => showError(`Error loading script: ${err.message}`));\n",
       "    } else if (typeof vegaEmbed === \"function\") {\n",
       "      displayChart(vegaEmbed);\n",
       "    } else {\n",
       "      loadScript(\"vega\")\n",
       "        .then(() => loadScript(\"vega-lite\"))\n",
       "        .then(() => loadScript(\"vega-embed\"))\n",
       "        .catch(showError)\n",
       "        .then(() => displayChart(vegaEmbed));\n",
       "    }\n",
       "  })({\"config\": {\"view\": {\"continuousWidth\": 400, \"continuousHeight\": 300}}, \"hconcat\": [{\"layer\": [{\"mark\": \"bar\", \"encoding\": {\"color\": {\"condition\": {\"value\": \"orange\", \"test\": \"(datum.emotion === 'surpris')\"}, \"value\": \"#0570b0\"}, \"x\": {\"type\": \"quantitative\", \"axis\": {\"format\": \".0%\"}, \"field\": \"percent\"}, \"y\": {\"type\": \"nominal\", \"field\": \"emotion\", \"sort\": \"-x\"}}, \"title\": \"Expected label: surprise | Labels with 10 or more mentions | n= 615\"}, {\"mark\": {\"type\": \"text\", \"align\": \"left\", \"baseline\": \"middle\", \"dx\": 3, \"fontSize\": 12}, \"encoding\": {\"color\": {\"condition\": {\"value\": \"orange\", \"test\": \"(datum.emotion === 'surpris')\"}, \"value\": \"#0570b0\"}, \"text\": {\"type\": \"quantitative\", \"field\": \"percent\", \"format\": \".1%\"}, \"x\": {\"type\": \"quantitative\", \"axis\": {\"format\": \".0%\"}, \"field\": \"percent\"}, \"y\": {\"type\": \"nominal\", \"field\": \"emotion\", \"sort\": \"-x\"}}, \"title\": \"Expected label: surprise | Labels with 10 or more mentions | n= 615\"}], \"data\": {\"name\": \"data-ec9e358688e5c0c44f9debce78c52270\"}}, {\"layer\": [{\"mark\": \"bar\", \"encoding\": {\"color\": {\"condition\": {\"value\": \"orange\", \"test\": \"(datum.emotion === 'surpris')\"}, \"value\": \"#0570b0\"}, \"x\": {\"type\": \"quantitative\", \"axis\": {\"format\": \".0%\"}, \"field\": \"percent\"}, \"y\": {\"type\": \"nominal\", \"field\": \"emotion\", \"sort\": \"-x\"}}, \"title\": \"Expected label: surprise | Labels with 10 or more mentions | n= 586\"}, {\"mark\": {\"type\": \"text\", \"align\": \"left\", \"baseline\": \"middle\", \"dx\": 3, \"fontSize\": 12}, \"encoding\": {\"color\": {\"condition\": {\"value\": \"orange\", \"test\": \"(datum.emotion === 'surpris')\"}, \"value\": \"#0570b0\"}, \"text\": {\"type\": \"quantitative\", \"field\": \"percent\", \"format\": \".1%\"}, \"x\": {\"type\": \"quantitative\", \"axis\": {\"format\": \".0%\"}, \"field\": \"percent\"}, \"y\": {\"type\": \"nominal\", \"field\": \"emotion\", \"sort\": \"-x\"}}, \"title\": \"Expected label: surprise | Labels with 10 or more mentions | n= 586\"}], \"data\": {\"name\": \"data-c3e15a3ae1331e18caef7bea7b8921a1\"}}], \"$schema\": \"https://vega.github.io/schema/vega-lite/v4.8.1.json\", \"datasets\": {\"data-ec9e358688e5c0c44f9debce78c52270\": [{\"counts\": 136, \"emotion\": \"happi\", \"percent\": 0.168944099378882}, {\"counts\": 124, \"emotion\": \"surpris\", \"percent\": 0.15403726708074533}, {\"counts\": 106, \"emotion\": \"shock\", \"percent\": 0.13167701863354037}, {\"counts\": 60, \"emotion\": \"confus\", \"percent\": 0.07453416149068323}, {\"counts\": 46, \"emotion\": \"excit\", \"percent\": 0.05714285714285714}, {\"counts\": 32, \"emotion\": \"scare\", \"percent\": 0.03975155279503106}, {\"counts\": 24, \"emotion\": \"supris\", \"percent\": 0.02981366459627329}, {\"counts\": 22, \"emotion\": \"silli\", \"percent\": 0.02732919254658385}, {\"counts\": 15, \"emotion\": \"goofi\", \"percent\": 0.018633540372670808}, {\"counts\": 15, \"emotion\": \"none\", \"percent\": 0.018633540372670808}, {\"counts\": 13, \"emotion\": \"funni\", \"percent\": 0.016149068322981366}, {\"counts\": 12, \"emotion\": \"worri\", \"percent\": 0.014906832298136646}, {\"counts\": 10, \"emotion\": \"interest\", \"percent\": 0.012422360248447204}], \"data-c3e15a3ae1331e18caef7bea7b8921a1\": [{\"counts\": 148, \"emotion\": \"surpris\", \"percent\": 0.18339529120198264}, {\"counts\": 146, \"emotion\": \"shock\", \"percent\": 0.1809169764560099}, {\"counts\": 62, \"emotion\": \"happi\", \"percent\": 0.0768277571251549}, {\"counts\": 46, \"emotion\": \"excit\", \"percent\": 0.057001239157372985}, {\"counts\": 37, \"emotion\": \"confus\", \"percent\": 0.04584882280049566}, {\"counts\": 28, \"emotion\": \"scare\", \"percent\": 0.03469640644361834}, {\"counts\": 27, \"emotion\": \"supris\", \"percent\": 0.03345724907063197}, {\"counts\": 20, \"emotion\": \"silli\", \"percent\": 0.024783147459727387}, {\"counts\": 15, \"emotion\": \"none\", \"percent\": 0.01858736059479554}, {\"counts\": 12, \"emotion\": \"intrigu\", \"percent\": 0.01486988847583643}, {\"counts\": 12, \"emotion\": \"goofi\", \"percent\": 0.01486988847583643}, {\"counts\": 11, \"emotion\": \"interest\", \"percent\": 0.013630731102850062}, {\"counts\": 11, \"emotion\": \"curiou\", \"percent\": 0.013630731102850062}, {\"counts\": 11, \"emotion\": \"funni\", \"percent\": 0.013630731102850062}]}}, {\"renderer\": \"svg\", \"mode\": \"vega-lite\"});\n",
       "</script>"
      ],
      "text/plain": [
       "alt.HConcatChart(...)"
      ]
     },
     "metadata": {},
     "output_type": "display_data"
    }
   ],
   "source": [
    "chart_surprise_layered =  (chart_surprise_bipoc | chart_surprise_white)\n",
    "chart_surprise_layered.display(renderer='svg')"
   ]
  },
  {
   "cell_type": "code",
   "execution_count": 192,
   "id": "7edd15b5-f8f2-4919-bcf7-c0f76daa46b9",
   "metadata": {},
   "outputs": [],
   "source": [
    "chart_surprise_layered_str = altair_saver.save(chart_surprise_layered, fmt='svg')\n",
    "image_title.append(\"'surprise' by ethnicity\")\n",
    "svg_str.append(chart_surprise_layered_str)"
   ]
  },
  {
   "cell_type": "markdown",
   "id": "b28b1abd-8ef0-44a8-9980-66b6acaee068",
   "metadata": {},
   "source": [
    "### Happiness"
   ]
  },
  {
   "cell_type": "code",
   "execution_count": 193,
   "id": "3d33aac8-eda3-487a-a2f2-c4c6ca8146c6",
   "metadata": {},
   "outputs": [
    {
     "name": "stderr",
     "output_type": "stream",
     "text": [
      "/tmp/ipykernel_1811/2691402293.py:11: FutureWarning: The default value of regex will change from True to False in a future version.\n",
      "  df_stack_single_word['emotion'] = df_stack_single_word['emotion'].str.replace('[^a-zA-Z]', '') # remove non-alphabetic characters\n",
      "/home/pablo_ubuntu/miniconda3/envs/venv/lib/python3.9/site-packages/pandas/core/frame.py:3607: SettingWithCopyWarning: \n",
      "A value is trying to be set on a copy of a slice from a DataFrame.\n",
      "Try using .loc[row_indexer,col_indexer] = value instead\n",
      "\n",
      "See the caveats in the documentation: https://pandas.pydata.org/pandas-docs/stable/user_guide/indexing.html#returning-a-view-versus-a-copy\n",
      "  self._set_item(key, value)\n"
     ]
    }
   ],
   "source": [
    "chart_happiness_bipoc = wrapper_chart_emotion(df_emo_answers, 'happiness', 'bipoc', emotion_st='happi', n_mentions=10)\n",
    "chart_happiness_white = wrapper_chart_emotion(df_emo_answers, 'happiness', 'white', emotion_st='happi', n_mentions=10)"
   ]
  },
  {
   "cell_type": "code",
   "execution_count": 194,
   "id": "0ac906cb-888d-431b-a5f3-1b092f9b272e",
   "metadata": {},
   "outputs": [
    {
     "data": {
      "text/html": [
       "\n",
       "<div id=\"altair-viz-ef37852a647b4fd991dd1ff86e9d18f5\"></div>\n",
       "<script type=\"text/javascript\">\n",
       "  (function(spec, embedOpt){\n",
       "    let outputDiv = document.currentScript.previousElementSibling;\n",
       "    if (outputDiv.id !== \"altair-viz-ef37852a647b4fd991dd1ff86e9d18f5\") {\n",
       "      outputDiv = document.getElementById(\"altair-viz-ef37852a647b4fd991dd1ff86e9d18f5\");\n",
       "    }\n",
       "    const paths = {\n",
       "      \"vega\": \"https://cdn.jsdelivr.net/npm//vega@5?noext\",\n",
       "      \"vega-lib\": \"https://cdn.jsdelivr.net/npm//vega-lib?noext\",\n",
       "      \"vega-lite\": \"https://cdn.jsdelivr.net/npm//vega-lite@4.8.1?noext\",\n",
       "      \"vega-embed\": \"https://cdn.jsdelivr.net/npm//vega-embed@6?noext\",\n",
       "    };\n",
       "\n",
       "    function loadScript(lib) {\n",
       "      return new Promise(function(resolve, reject) {\n",
       "        var s = document.createElement('script');\n",
       "        s.src = paths[lib];\n",
       "        s.async = true;\n",
       "        s.onload = () => resolve(paths[lib]);\n",
       "        s.onerror = () => reject(`Error loading script: ${paths[lib]}`);\n",
       "        document.getElementsByTagName(\"head\")[0].appendChild(s);\n",
       "      });\n",
       "    }\n",
       "\n",
       "    function showError(err) {\n",
       "      outputDiv.innerHTML = `<div class=\"error\" style=\"color:red;\">${err}</div>`;\n",
       "      throw err;\n",
       "    }\n",
       "\n",
       "    function displayChart(vegaEmbed) {\n",
       "      vegaEmbed(outputDiv, spec, embedOpt)\n",
       "        .catch(err => showError(`Javascript Error: ${err.message}<br>This usually means there's a typo in your chart specification. See the javascript console for the full traceback.`));\n",
       "    }\n",
       "\n",
       "    if(typeof define === \"function\" && define.amd) {\n",
       "      requirejs.config({paths});\n",
       "      require([\"vega-embed\"], displayChart, err => showError(`Error loading script: ${err.message}`));\n",
       "    } else if (typeof vegaEmbed === \"function\") {\n",
       "      displayChart(vegaEmbed);\n",
       "    } else {\n",
       "      loadScript(\"vega\")\n",
       "        .then(() => loadScript(\"vega-lite\"))\n",
       "        .then(() => loadScript(\"vega-embed\"))\n",
       "        .catch(showError)\n",
       "        .then(() => displayChart(vegaEmbed));\n",
       "    }\n",
       "  })({\"config\": {\"view\": {\"continuousWidth\": 400, \"continuousHeight\": 300}}, \"hconcat\": [{\"layer\": [{\"mark\": \"bar\", \"encoding\": {\"color\": {\"condition\": {\"value\": \"orange\", \"test\": \"(datum.emotion === 'happi')\"}, \"value\": \"#0570b0\"}, \"x\": {\"type\": \"quantitative\", \"axis\": {\"format\": \".0%\"}, \"field\": \"percent\"}, \"y\": {\"type\": \"nominal\", \"field\": \"emotion\", \"sort\": \"-x\"}}, \"title\": \"Expected label: happiness | Labels with 10 or more mentions | n= 638\"}, {\"mark\": {\"type\": \"text\", \"align\": \"left\", \"baseline\": \"middle\", \"dx\": 3, \"fontSize\": 12}, \"encoding\": {\"color\": {\"condition\": {\"value\": \"orange\", \"test\": \"(datum.emotion === 'happi')\"}, \"value\": \"#0570b0\"}, \"text\": {\"type\": \"quantitative\", \"field\": \"percent\", \"format\": \".1%\"}, \"x\": {\"type\": \"quantitative\", \"axis\": {\"format\": \".0%\"}, \"field\": \"percent\"}, \"y\": {\"type\": \"nominal\", \"field\": \"emotion\", \"sort\": \"-x\"}}, \"title\": \"Expected label: happiness | Labels with 10 or more mentions | n= 638\"}], \"data\": {\"name\": \"data-e146697f6d6a0369d657a00aaab184ab\"}}, {\"layer\": [{\"mark\": \"bar\", \"encoding\": {\"color\": {\"condition\": {\"value\": \"orange\", \"test\": \"(datum.emotion === 'happi')\"}, \"value\": \"#0570b0\"}, \"x\": {\"type\": \"quantitative\", \"axis\": {\"format\": \".0%\"}, \"field\": \"percent\"}, \"y\": {\"type\": \"nominal\", \"field\": \"emotion\", \"sort\": \"-x\"}}, \"title\": \"Expected label: happiness | Labels with 10 or more mentions | n= 631\"}, {\"mark\": {\"type\": \"text\", \"align\": \"left\", \"baseline\": \"middle\", \"dx\": 3, \"fontSize\": 12}, \"encoding\": {\"color\": {\"condition\": {\"value\": \"orange\", \"test\": \"(datum.emotion === 'happi')\"}, \"value\": \"#0570b0\"}, \"text\": {\"type\": \"quantitative\", \"field\": \"percent\", \"format\": \".1%\"}, \"x\": {\"type\": \"quantitative\", \"axis\": {\"format\": \".0%\"}, \"field\": \"percent\"}, \"y\": {\"type\": \"nominal\", \"field\": \"emotion\", \"sort\": \"-x\"}}, \"title\": \"Expected label: happiness | Labels with 10 or more mentions | n= 631\"}], \"data\": {\"name\": \"data-c7c2f952ce558e8add26aa8956d620a5\"}}], \"$schema\": \"https://vega.github.io/schema/vega-lite/v4.8.1.json\", \"datasets\": {\"data-e146697f6d6a0369d657a00aaab184ab\": [{\"counts\": 398, \"emotion\": \"happi\", \"percent\": 0.4877450980392157}, {\"counts\": 64, \"emotion\": \"content\", \"percent\": 0.0784313725490196}, {\"counts\": 48, \"emotion\": \"excit\", \"percent\": 0.058823529411764705}, {\"counts\": 42, \"emotion\": \"smile\", \"percent\": 0.051470588235294115}, {\"counts\": 18, \"emotion\": \"pleas\", \"percent\": 0.022058823529411766}, {\"counts\": 18, \"emotion\": \"none\", \"percent\": 0.022058823529411766}, {\"counts\": 17, \"emotion\": \"calm\", \"percent\": 0.020833333333333332}, {\"counts\": 13, \"emotion\": \"joy\", \"percent\": 0.015931372549019607}, {\"counts\": 10, \"emotion\": \"silli\", \"percent\": 0.012254901960784314}, {\"counts\": 10, \"emotion\": \"confid\", \"percent\": 0.012254901960784314}], \"data-c7c2f952ce558e8add26aa8956d620a5\": [{\"counts\": 434, \"emotion\": \"happi\", \"percent\": 0.530562347188264}, {\"counts\": 63, \"emotion\": \"excit\", \"percent\": 0.07701711491442542}, {\"counts\": 56, \"emotion\": \"content\", \"percent\": 0.06845965770171149}, {\"counts\": 44, \"emotion\": \"smile\", \"percent\": 0.05378973105134474}, {\"counts\": 20, \"emotion\": \"pleas\", \"percent\": 0.02444987775061125}, {\"counts\": 14, \"emotion\": \"calm\", \"percent\": 0.017114914425427872}]}}, {\"renderer\": \"svg\", \"mode\": \"vega-lite\"});\n",
       "</script>"
      ],
      "text/plain": [
       "alt.HConcatChart(...)"
      ]
     },
     "metadata": {},
     "output_type": "display_data"
    }
   ],
   "source": [
    "chart_happiness_layered =  (chart_happiness_bipoc | chart_happiness_white)\n",
    "chart_happiness_layered.display(renderer='svg')"
   ]
  },
  {
   "cell_type": "code",
   "execution_count": 195,
   "id": "ac57bb6c-e89e-4aa9-8b44-95c19203f760",
   "metadata": {},
   "outputs": [],
   "source": [
    "chart_happiness_layered_str = altair_saver.save(chart_happiness_layered, fmt='svg')\n",
    "image_title.append(\"'happiness' by ethnicity\")\n",
    "svg_str.append(chart_happiness_layered_str)"
   ]
  },
  {
   "cell_type": "markdown",
   "id": "6b856651-9720-4c13-a096-b7bc6e824be7",
   "metadata": {},
   "source": [
    "### Sadness"
   ]
  },
  {
   "cell_type": "code",
   "execution_count": 196,
   "id": "9e10048e-b58c-4be5-86eb-3d2ce761075a",
   "metadata": {},
   "outputs": [
    {
     "name": "stderr",
     "output_type": "stream",
     "text": [
      "/tmp/ipykernel_1811/2691402293.py:11: FutureWarning: The default value of regex will change from True to False in a future version.\n",
      "  df_stack_single_word['emotion'] = df_stack_single_word['emotion'].str.replace('[^a-zA-Z]', '') # remove non-alphabetic characters\n",
      "/home/pablo_ubuntu/miniconda3/envs/venv/lib/python3.9/site-packages/pandas/core/frame.py:3607: SettingWithCopyWarning: \n",
      "A value is trying to be set on a copy of a slice from a DataFrame.\n",
      "Try using .loc[row_indexer,col_indexer] = value instead\n",
      "\n",
      "See the caveats in the documentation: https://pandas.pydata.org/pandas-docs/stable/user_guide/indexing.html#returning-a-view-versus-a-copy\n",
      "  self._set_item(key, value)\n"
     ]
    }
   ],
   "source": [
    "chart_sadness_bipoc = wrapper_chart_emotion(df_emo_answers, 'sadness', 'bipoc',  emotion_st='sad', n_mentions=10)\n",
    "chart_sadness_white = wrapper_chart_emotion(df_emo_answers, 'sadness', 'white', emotion_st='sad', n_mentions=10)"
   ]
  },
  {
   "cell_type": "code",
   "execution_count": 197,
   "id": "dc71c2f6-fc72-492f-b099-bcd896d85aea",
   "metadata": {},
   "outputs": [
    {
     "data": {
      "text/html": [
       "\n",
       "<div id=\"altair-viz-9860c1d2c8c842188a2faa0198a3cc72\"></div>\n",
       "<script type=\"text/javascript\">\n",
       "  (function(spec, embedOpt){\n",
       "    let outputDiv = document.currentScript.previousElementSibling;\n",
       "    if (outputDiv.id !== \"altair-viz-9860c1d2c8c842188a2faa0198a3cc72\") {\n",
       "      outputDiv = document.getElementById(\"altair-viz-9860c1d2c8c842188a2faa0198a3cc72\");\n",
       "    }\n",
       "    const paths = {\n",
       "      \"vega\": \"https://cdn.jsdelivr.net/npm//vega@5?noext\",\n",
       "      \"vega-lib\": \"https://cdn.jsdelivr.net/npm//vega-lib?noext\",\n",
       "      \"vega-lite\": \"https://cdn.jsdelivr.net/npm//vega-lite@4.8.1?noext\",\n",
       "      \"vega-embed\": \"https://cdn.jsdelivr.net/npm//vega-embed@6?noext\",\n",
       "    };\n",
       "\n",
       "    function loadScript(lib) {\n",
       "      return new Promise(function(resolve, reject) {\n",
       "        var s = document.createElement('script');\n",
       "        s.src = paths[lib];\n",
       "        s.async = true;\n",
       "        s.onload = () => resolve(paths[lib]);\n",
       "        s.onerror = () => reject(`Error loading script: ${paths[lib]}`);\n",
       "        document.getElementsByTagName(\"head\")[0].appendChild(s);\n",
       "      });\n",
       "    }\n",
       "\n",
       "    function showError(err) {\n",
       "      outputDiv.innerHTML = `<div class=\"error\" style=\"color:red;\">${err}</div>`;\n",
       "      throw err;\n",
       "    }\n",
       "\n",
       "    function displayChart(vegaEmbed) {\n",
       "      vegaEmbed(outputDiv, spec, embedOpt)\n",
       "        .catch(err => showError(`Javascript Error: ${err.message}<br>This usually means there's a typo in your chart specification. See the javascript console for the full traceback.`));\n",
       "    }\n",
       "\n",
       "    if(typeof define === \"function\" && define.amd) {\n",
       "      requirejs.config({paths});\n",
       "      require([\"vega-embed\"], displayChart, err => showError(`Error loading script: ${err.message}`));\n",
       "    } else if (typeof vegaEmbed === \"function\") {\n",
       "      displayChart(vegaEmbed);\n",
       "    } else {\n",
       "      loadScript(\"vega\")\n",
       "        .then(() => loadScript(\"vega-lite\"))\n",
       "        .then(() => loadScript(\"vega-embed\"))\n",
       "        .catch(showError)\n",
       "        .then(() => displayChart(vegaEmbed));\n",
       "    }\n",
       "  })({\"config\": {\"view\": {\"continuousWidth\": 400, \"continuousHeight\": 300}}, \"hconcat\": [{\"layer\": [{\"mark\": \"bar\", \"encoding\": {\"color\": {\"condition\": {\"value\": \"orange\", \"test\": \"(datum.emotion === 'sad')\"}, \"value\": \"#0570b0\"}, \"x\": {\"type\": \"quantitative\", \"axis\": {\"format\": \".0%\"}, \"field\": \"percent\"}, \"y\": {\"type\": \"nominal\", \"field\": \"emotion\", \"sort\": \"-x\"}}, \"title\": \"Expected label: sadness | Labels with 10 or more mentions | n= 733\"}, {\"mark\": {\"type\": \"text\", \"align\": \"left\", \"baseline\": \"middle\", \"dx\": 3, \"fontSize\": 12}, \"encoding\": {\"color\": {\"condition\": {\"value\": \"orange\", \"test\": \"(datum.emotion === 'sad')\"}, \"value\": \"#0570b0\"}, \"text\": {\"type\": \"quantitative\", \"field\": \"percent\", \"format\": \".1%\"}, \"x\": {\"type\": \"quantitative\", \"axis\": {\"format\": \".0%\"}, \"field\": \"percent\"}, \"y\": {\"type\": \"nominal\", \"field\": \"emotion\", \"sort\": \"-x\"}}, \"title\": \"Expected label: sadness | Labels with 10 or more mentions | n= 733\"}], \"data\": {\"name\": \"data-3a1e209d9eb058e1afe10be09922ee75\"}}, {\"layer\": [{\"mark\": \"bar\", \"encoding\": {\"color\": {\"condition\": {\"value\": \"orange\", \"test\": \"(datum.emotion === 'sad')\"}, \"value\": \"#0570b0\"}, \"x\": {\"type\": \"quantitative\", \"axis\": {\"format\": \".0%\"}, \"field\": \"percent\"}, \"y\": {\"type\": \"nominal\", \"field\": \"emotion\", \"sort\": \"-x\"}}, \"title\": \"Expected label: sadness | Labels with 10 or more mentions | n= 615\"}, {\"mark\": {\"type\": \"text\", \"align\": \"left\", \"baseline\": \"middle\", \"dx\": 3, \"fontSize\": 12}, \"encoding\": {\"color\": {\"condition\": {\"value\": \"orange\", \"test\": \"(datum.emotion === 'sad')\"}, \"value\": \"#0570b0\"}, \"text\": {\"type\": \"quantitative\", \"field\": \"percent\", \"format\": \".1%\"}, \"x\": {\"type\": \"quantitative\", \"axis\": {\"format\": \".0%\"}, \"field\": \"percent\"}, \"y\": {\"type\": \"nominal\", \"field\": \"emotion\", \"sort\": \"-x\"}}, \"title\": \"Expected label: sadness | Labels with 10 or more mentions | n= 615\"}], \"data\": {\"name\": \"data-5bb9cf206c69b9ce0e83c2e66651b436\"}}], \"$schema\": \"https://vega.github.io/schema/vega-lite/v4.8.1.json\", \"datasets\": {\"data-3a1e209d9eb058e1afe10be09922ee75\": [{\"counts\": 343, \"emotion\": \"sad\", \"percent\": 0.3902161547212742}, {\"counts\": 89, \"emotion\": \"upset\", \"percent\": 0.1012514220705347}, {\"counts\": 35, \"emotion\": \"cri\", \"percent\": 0.03981797497155859}, {\"counts\": 29, \"emotion\": \"angri\", \"percent\": 0.03299203640500569}, {\"counts\": 27, \"emotion\": \"scare\", \"percent\": 0.030716723549488054}, {\"counts\": 24, \"emotion\": \"regret\", \"percent\": 0.027303754266211604}, {\"counts\": 23, \"emotion\": \"worri\", \"percent\": 0.026166097838452786}, {\"counts\": 21, \"emotion\": \"confus\", \"percent\": 0.023890784982935155}, {\"counts\": 17, \"emotion\": \"disappoint\", \"percent\": 0.019340159271899887}, {\"counts\": 16, \"emotion\": \"none\", \"percent\": 0.01820250284414107}, {\"counts\": 16, \"emotion\": \"distress\", \"percent\": 0.01820250284414107}, {\"counts\": 16, \"emotion\": \"depress\", \"percent\": 0.01820250284414107}, {\"counts\": 13, \"emotion\": \"disgust\", \"percent\": 0.01478953356086462}, {\"counts\": 12, \"emotion\": \"tear\", \"percent\": 0.013651877133105802}, {\"counts\": 11, \"emotion\": \"hurt\", \"percent\": 0.012514220705346985}, {\"counts\": 11, \"emotion\": \"distraught\", \"percent\": 0.012514220705346985}, {\"counts\": 10, \"emotion\": \"concern\", \"percent\": 0.011376564277588168}, {\"counts\": 10, \"emotion\": \"mad\", \"percent\": 0.011376564277588168}, {\"counts\": 10, \"emotion\": \"unhappi\", \"percent\": 0.011376564277588168}], \"data-5bb9cf206c69b9ce0e83c2e66651b436\": [{\"counts\": 314, \"emotion\": \"sad\", \"percent\": 0.3852760736196319}, {\"counts\": 81, \"emotion\": \"upset\", \"percent\": 0.09938650306748466}, {\"counts\": 33, \"emotion\": \"angri\", \"percent\": 0.04049079754601227}, {\"counts\": 32, \"emotion\": \"cri\", \"percent\": 0.0392638036809816}, {\"counts\": 28, \"emotion\": \"mad\", \"percent\": 0.0343558282208589}, {\"counts\": 18, \"emotion\": \"regret\", \"percent\": 0.022085889570552148}, {\"counts\": 18, \"emotion\": \"confus\", \"percent\": 0.022085889570552148}, {\"counts\": 16, \"emotion\": \"unhappi\", \"percent\": 0.0196319018404908}, {\"counts\": 15, \"emotion\": \"hurt\", \"percent\": 0.018404907975460124}, {\"counts\": 14, \"emotion\": \"none\", \"percent\": 0.01717791411042945}, {\"counts\": 13, \"emotion\": \"disappoint\", \"percent\": 0.015950920245398775}, {\"counts\": 12, \"emotion\": \"seriou\", \"percent\": 0.014723926380368098}, {\"counts\": 11, \"emotion\": \"guilti\", \"percent\": 0.013496932515337423}, {\"counts\": 10, \"emotion\": \"scare\", \"percent\": 0.012269938650306749}]}}, {\"renderer\": \"svg\", \"mode\": \"vega-lite\"});\n",
       "</script>"
      ],
      "text/plain": [
       "alt.HConcatChart(...)"
      ]
     },
     "metadata": {},
     "output_type": "display_data"
    }
   ],
   "source": [
    "chart_sadness_layered =  (chart_sadness_bipoc | chart_sadness_white)\n",
    "chart_sadness_layered.display(renderer='svg')"
   ]
  },
  {
   "cell_type": "code",
   "execution_count": 198,
   "id": "5fe82575-1839-4a59-bbf8-0b09fea0b8a9",
   "metadata": {},
   "outputs": [],
   "source": [
    "chart_sadness_layered_str = altair_saver.save(chart_sadness_layered, fmt='svg')\n",
    "image_title.append(\"'sadness' by ethnicity\")\n",
    "svg_str.append(chart_sadness_layered_str)"
   ]
  },
  {
   "cell_type": "markdown",
   "id": "f642a6ba-7ed4-4922-b56e-04e35a7a8e84",
   "metadata": {},
   "source": [
    "### Neutral"
   ]
  },
  {
   "cell_type": "code",
   "execution_count": 199,
   "id": "09c628b3-1d0d-4917-8fec-46a5dc5f844a",
   "metadata": {},
   "outputs": [
    {
     "name": "stderr",
     "output_type": "stream",
     "text": [
      "/tmp/ipykernel_1811/2691402293.py:11: FutureWarning: The default value of regex will change from True to False in a future version.\n",
      "  df_stack_single_word['emotion'] = df_stack_single_word['emotion'].str.replace('[^a-zA-Z]', '') # remove non-alphabetic characters\n",
      "/home/pablo_ubuntu/miniconda3/envs/venv/lib/python3.9/site-packages/pandas/core/frame.py:3607: SettingWithCopyWarning: \n",
      "A value is trying to be set on a copy of a slice from a DataFrame.\n",
      "Try using .loc[row_indexer,col_indexer] = value instead\n",
      "\n",
      "See the caveats in the documentation: https://pandas.pydata.org/pandas-docs/stable/user_guide/indexing.html#returning-a-view-versus-a-copy\n",
      "  self._set_item(key, value)\n"
     ]
    }
   ],
   "source": [
    "chart_neutral_bipoc = wrapper_chart_emotion(df_emo_answers, 'neutral', 'bipoc',  emotion_st='neutral', n_mentions=10)\n",
    "chart_neutral_white = wrapper_chart_emotion(df_emo_answers, 'neutral', 'white', emotion_st='neutral', n_mentions=10)"
   ]
  },
  {
   "cell_type": "code",
   "execution_count": 200,
   "id": "0fec59d7-413c-4212-9e22-b4862d2cd07c",
   "metadata": {},
   "outputs": [
    {
     "data": {
      "text/html": [
       "\n",
       "<div id=\"altair-viz-e26985e4dee84056a608272be34d021f\"></div>\n",
       "<script type=\"text/javascript\">\n",
       "  (function(spec, embedOpt){\n",
       "    let outputDiv = document.currentScript.previousElementSibling;\n",
       "    if (outputDiv.id !== \"altair-viz-e26985e4dee84056a608272be34d021f\") {\n",
       "      outputDiv = document.getElementById(\"altair-viz-e26985e4dee84056a608272be34d021f\");\n",
       "    }\n",
       "    const paths = {\n",
       "      \"vega\": \"https://cdn.jsdelivr.net/npm//vega@5?noext\",\n",
       "      \"vega-lib\": \"https://cdn.jsdelivr.net/npm//vega-lib?noext\",\n",
       "      \"vega-lite\": \"https://cdn.jsdelivr.net/npm//vega-lite@4.8.1?noext\",\n",
       "      \"vega-embed\": \"https://cdn.jsdelivr.net/npm//vega-embed@6?noext\",\n",
       "    };\n",
       "\n",
       "    function loadScript(lib) {\n",
       "      return new Promise(function(resolve, reject) {\n",
       "        var s = document.createElement('script');\n",
       "        s.src = paths[lib];\n",
       "        s.async = true;\n",
       "        s.onload = () => resolve(paths[lib]);\n",
       "        s.onerror = () => reject(`Error loading script: ${paths[lib]}`);\n",
       "        document.getElementsByTagName(\"head\")[0].appendChild(s);\n",
       "      });\n",
       "    }\n",
       "\n",
       "    function showError(err) {\n",
       "      outputDiv.innerHTML = `<div class=\"error\" style=\"color:red;\">${err}</div>`;\n",
       "      throw err;\n",
       "    }\n",
       "\n",
       "    function displayChart(vegaEmbed) {\n",
       "      vegaEmbed(outputDiv, spec, embedOpt)\n",
       "        .catch(err => showError(`Javascript Error: ${err.message}<br>This usually means there's a typo in your chart specification. See the javascript console for the full traceback.`));\n",
       "    }\n",
       "\n",
       "    if(typeof define === \"function\" && define.amd) {\n",
       "      requirejs.config({paths});\n",
       "      require([\"vega-embed\"], displayChart, err => showError(`Error loading script: ${err.message}`));\n",
       "    } else if (typeof vegaEmbed === \"function\") {\n",
       "      displayChart(vegaEmbed);\n",
       "    } else {\n",
       "      loadScript(\"vega\")\n",
       "        .then(() => loadScript(\"vega-lite\"))\n",
       "        .then(() => loadScript(\"vega-embed\"))\n",
       "        .catch(showError)\n",
       "        .then(() => displayChart(vegaEmbed));\n",
       "    }\n",
       "  })({\"config\": {\"view\": {\"continuousWidth\": 400, \"continuousHeight\": 300}}, \"hconcat\": [{\"layer\": [{\"mark\": \"bar\", \"encoding\": {\"color\": {\"condition\": {\"value\": \"orange\", \"test\": \"(datum.emotion === 'neutral')\"}, \"value\": \"#0570b0\"}, \"x\": {\"type\": \"quantitative\", \"axis\": {\"format\": \".0%\"}, \"field\": \"percent\"}, \"y\": {\"type\": \"nominal\", \"field\": \"emotion\", \"sort\": \"-x\"}}, \"title\": \"Expected label: neutral | Labels with 10 or more mentions | n= 477\"}, {\"mark\": {\"type\": \"text\", \"align\": \"left\", \"baseline\": \"middle\", \"dx\": 3, \"fontSize\": 12}, \"encoding\": {\"color\": {\"condition\": {\"value\": \"orange\", \"test\": \"(datum.emotion === 'neutral')\"}, \"value\": \"#0570b0\"}, \"text\": {\"type\": \"quantitative\", \"field\": \"percent\", \"format\": \".1%\"}, \"x\": {\"type\": \"quantitative\", \"axis\": {\"format\": \".0%\"}, \"field\": \"percent\"}, \"y\": {\"type\": \"nominal\", \"field\": \"emotion\", \"sort\": \"-x\"}}, \"title\": \"Expected label: neutral | Labels with 10 or more mentions | n= 477\"}], \"data\": {\"name\": \"data-a28318adcb148d694405aab9d07683ca\"}}, {\"layer\": [{\"mark\": \"bar\", \"encoding\": {\"color\": {\"condition\": {\"value\": \"orange\", \"test\": \"(datum.emotion === 'neutral')\"}, \"value\": \"#0570b0\"}, \"x\": {\"type\": \"quantitative\", \"axis\": {\"format\": \".0%\"}, \"field\": \"percent\"}, \"y\": {\"type\": \"nominal\", \"field\": \"emotion\", \"sort\": \"-x\"}}, \"title\": \"Expected label: neutral | Labels with 10 or more mentions | n= 453\"}, {\"mark\": {\"type\": \"text\", \"align\": \"left\", \"baseline\": \"middle\", \"dx\": 3, \"fontSize\": 12}, \"encoding\": {\"color\": {\"condition\": {\"value\": \"orange\", \"test\": \"(datum.emotion === 'neutral')\"}, \"value\": \"#0570b0\"}, \"text\": {\"type\": \"quantitative\", \"field\": \"percent\", \"format\": \".1%\"}, \"x\": {\"type\": \"quantitative\", \"axis\": {\"format\": \".0%\"}, \"field\": \"percent\"}, \"y\": {\"type\": \"nominal\", \"field\": \"emotion\", \"sort\": \"-x\"}}, \"title\": \"Expected label: neutral | Labels with 10 or more mentions | n= 453\"}], \"data\": {\"name\": \"data-36048c79df72c0174121c4898ec308a9\"}}], \"$schema\": \"https://vega.github.io/schema/vega-lite/v4.8.1.json\", \"datasets\": {\"data-a28318adcb148d694405aab9d07683ca\": [{\"counts\": 51, \"emotion\": \"happi\", \"percent\": 0.07456140350877193}, {\"counts\": 50, \"emotion\": \"sad\", \"percent\": 0.07309941520467836}, {\"counts\": 47, \"emotion\": \"content\", \"percent\": 0.06871345029239766}, {\"counts\": 46, \"emotion\": \"calm\", \"percent\": 0.06725146198830409}, {\"counts\": 39, \"emotion\": \"none\", \"percent\": 0.05701754385964912}, {\"counts\": 33, \"emotion\": \"seriou\", \"percent\": 0.04824561403508772}, {\"counts\": 25, \"emotion\": \"mad\", \"percent\": 0.03654970760233918}, {\"counts\": 24, \"emotion\": \"confus\", \"percent\": 0.03508771929824561}, {\"counts\": 20, \"emotion\": \"bore\", \"percent\": 0.029239766081871343}, {\"counts\": 20, \"emotion\": \"indiffer\", \"percent\": 0.029239766081871343}, {\"counts\": 17, \"emotion\": \"blank\", \"percent\": 0.024853801169590642}, {\"counts\": 17, \"emotion\": \"angri\", \"percent\": 0.024853801169590642}, {\"counts\": 14, \"emotion\": \"chill\", \"percent\": 0.02046783625730994}, {\"counts\": 14, \"emotion\": \"focus\", \"percent\": 0.02046783625730994}, {\"counts\": 14, \"emotion\": \"tire\", \"percent\": 0.02046783625730994}, {\"counts\": 13, \"emotion\": \"annoy\", \"percent\": 0.019005847953216373}, {\"counts\": 12, \"emotion\": \"normal\", \"percent\": 0.017543859649122806}, {\"counts\": 11, \"emotion\": \"stare\", \"percent\": 0.01608187134502924}, {\"counts\": 10, \"emotion\": \"unhappi\", \"percent\": 0.014619883040935672}], \"data-36048c79df72c0174121c4898ec308a9\": [{\"counts\": 49, \"emotion\": \"content\", \"percent\": 0.07446808510638298}, {\"counts\": 39, \"emotion\": \"none\", \"percent\": 0.05927051671732523}, {\"counts\": 36, \"emotion\": \"happi\", \"percent\": 0.0547112462006079}, {\"counts\": 34, \"emotion\": \"confus\", \"percent\": 0.05167173252279635}, {\"counts\": 33, \"emotion\": \"calm\", \"percent\": 0.05015197568389058}, {\"counts\": 31, \"emotion\": \"seriou\", \"percent\": 0.04711246200607903}, {\"counts\": 29, \"emotion\": \"sad\", \"percent\": 0.044072948328267476}, {\"counts\": 22, \"emotion\": \"bore\", \"percent\": 0.03343465045592705}, {\"counts\": 21, \"emotion\": \"blank\", \"percent\": 0.031914893617021274}, {\"counts\": 20, \"emotion\": \"angri\", \"percent\": 0.030395136778115502}, {\"counts\": 17, \"emotion\": \"mad\", \"percent\": 0.025835866261398176}, {\"counts\": 16, \"emotion\": \"indiffer\", \"percent\": 0.0243161094224924}, {\"counts\": 15, \"emotion\": \"upset\", \"percent\": 0.022796352583586626}, {\"counts\": 15, \"emotion\": \"stare\", \"percent\": 0.022796352583586626}, {\"counts\": 14, \"emotion\": \"unhappi\", \"percent\": 0.02127659574468085}, {\"counts\": 14, \"emotion\": \"annoy\", \"percent\": 0.02127659574468085}, {\"counts\": 13, \"emotion\": \"tire\", \"percent\": 0.019756838905775075}, {\"counts\": 13, \"emotion\": \"focus\", \"percent\": 0.019756838905775075}, {\"counts\": 12, \"emotion\": \"chill\", \"percent\": 0.0182370820668693}, {\"counts\": 10, \"emotion\": \"unpleas\", \"percent\": 0.015197568389057751}]}}, {\"renderer\": \"svg\", \"mode\": \"vega-lite\"});\n",
       "</script>"
      ],
      "text/plain": [
       "alt.HConcatChart(...)"
      ]
     },
     "metadata": {},
     "output_type": "display_data"
    }
   ],
   "source": [
    "chart_neutral_layered =  (chart_neutral_bipoc | chart_neutral_white)\n",
    "chart_neutral_layered.display(renderer='svg')"
   ]
  },
  {
   "cell_type": "code",
   "execution_count": 201,
   "id": "49754497-fbec-4f7a-ac1a-23962360479e",
   "metadata": {},
   "outputs": [],
   "source": [
    "chart_neutral_layered_str = altair_saver.save(chart_neutral_layered, fmt='svg')\n",
    "image_title.append(\"'neutral' by ethnicity\")\n",
    "svg_str.append(chart_neutral_layered_str)"
   ]
  },
  {
   "cell_type": "markdown",
   "id": "d6dfa416-a0eb-4569-83e7-7179397785f7",
   "metadata": {},
   "source": [
    "### Uncertain/Other"
   ]
  },
  {
   "cell_type": "code",
   "execution_count": 202,
   "id": "57ebdcb8-a230-4537-9c9a-e5bc25225ead",
   "metadata": {},
   "outputs": [
    {
     "name": "stderr",
     "output_type": "stream",
     "text": [
      "/tmp/ipykernel_1811/2691402293.py:11: FutureWarning: The default value of regex will change from True to False in a future version.\n",
      "  df_stack_single_word['emotion'] = df_stack_single_word['emotion'].str.replace('[^a-zA-Z]', '') # remove non-alphabetic characters\n",
      "/home/pablo_ubuntu/miniconda3/envs/venv/lib/python3.9/site-packages/pandas/core/frame.py:3607: SettingWithCopyWarning: \n",
      "A value is trying to be set on a copy of a slice from a DataFrame.\n",
      "Try using .loc[row_indexer,col_indexer] = value instead\n",
      "\n",
      "See the caveats in the documentation: https://pandas.pydata.org/pandas-docs/stable/user_guide/indexing.html#returning-a-view-versus-a-copy\n",
      "  self._set_item(key, value)\n"
     ]
    }
   ],
   "source": [
    "chart_uncertain_bipoc = wrapper_chart_emotion(df_emo_answers, 'uncertain', 'bipoc',  emotion_st='neutral', n_mentions=10)\n",
    "chart_uncertain_white = wrapper_chart_emotion(df_emo_answers, 'uncertain', 'white',  emotion_st='neutral', n_mentions=10)"
   ]
  },
  {
   "cell_type": "code",
   "execution_count": 203,
   "id": "ca81dfba-f4c1-4527-9835-66a7400d3e70",
   "metadata": {},
   "outputs": [
    {
     "data": {
      "text/html": [
       "\n",
       "<div id=\"altair-viz-3f028bafa8264b26b5af36bed63df677\"></div>\n",
       "<script type=\"text/javascript\">\n",
       "  (function(spec, embedOpt){\n",
       "    let outputDiv = document.currentScript.previousElementSibling;\n",
       "    if (outputDiv.id !== \"altair-viz-3f028bafa8264b26b5af36bed63df677\") {\n",
       "      outputDiv = document.getElementById(\"altair-viz-3f028bafa8264b26b5af36bed63df677\");\n",
       "    }\n",
       "    const paths = {\n",
       "      \"vega\": \"https://cdn.jsdelivr.net/npm//vega@5?noext\",\n",
       "      \"vega-lib\": \"https://cdn.jsdelivr.net/npm//vega-lib?noext\",\n",
       "      \"vega-lite\": \"https://cdn.jsdelivr.net/npm//vega-lite@4.8.1?noext\",\n",
       "      \"vega-embed\": \"https://cdn.jsdelivr.net/npm//vega-embed@6?noext\",\n",
       "    };\n",
       "\n",
       "    function loadScript(lib) {\n",
       "      return new Promise(function(resolve, reject) {\n",
       "        var s = document.createElement('script');\n",
       "        s.src = paths[lib];\n",
       "        s.async = true;\n",
       "        s.onload = () => resolve(paths[lib]);\n",
       "        s.onerror = () => reject(`Error loading script: ${paths[lib]}`);\n",
       "        document.getElementsByTagName(\"head\")[0].appendChild(s);\n",
       "      });\n",
       "    }\n",
       "\n",
       "    function showError(err) {\n",
       "      outputDiv.innerHTML = `<div class=\"error\" style=\"color:red;\">${err}</div>`;\n",
       "      throw err;\n",
       "    }\n",
       "\n",
       "    function displayChart(vegaEmbed) {\n",
       "      vegaEmbed(outputDiv, spec, embedOpt)\n",
       "        .catch(err => showError(`Javascript Error: ${err.message}<br>This usually means there's a typo in your chart specification. See the javascript console for the full traceback.`));\n",
       "    }\n",
       "\n",
       "    if(typeof define === \"function\" && define.amd) {\n",
       "      requirejs.config({paths});\n",
       "      require([\"vega-embed\"], displayChart, err => showError(`Error loading script: ${err.message}`));\n",
       "    } else if (typeof vegaEmbed === \"function\") {\n",
       "      displayChart(vegaEmbed);\n",
       "    } else {\n",
       "      loadScript(\"vega\")\n",
       "        .then(() => loadScript(\"vega-lite\"))\n",
       "        .then(() => loadScript(\"vega-embed\"))\n",
       "        .catch(showError)\n",
       "        .then(() => displayChart(vegaEmbed));\n",
       "    }\n",
       "  })({\"config\": {\"view\": {\"continuousWidth\": 400, \"continuousHeight\": 300}}, \"hconcat\": [{\"layer\": [{\"mark\": \"bar\", \"encoding\": {\"color\": {\"condition\": {\"value\": \"orange\", \"test\": \"(datum.emotion === 'neutral')\"}, \"value\": \"#0570b0\"}, \"x\": {\"type\": \"quantitative\", \"axis\": {\"format\": \".0%\"}, \"field\": \"percent\"}, \"y\": {\"type\": \"nominal\", \"field\": \"emotion\", \"sort\": \"-x\"}}, \"title\": \"Expected label: uncertain | Labels with 10 or more mentions | n= 444\"}, {\"mark\": {\"type\": \"text\", \"align\": \"left\", \"baseline\": \"middle\", \"dx\": 3, \"fontSize\": 12}, \"encoding\": {\"color\": {\"condition\": {\"value\": \"orange\", \"test\": \"(datum.emotion === 'neutral')\"}, \"value\": \"#0570b0\"}, \"text\": {\"type\": \"quantitative\", \"field\": \"percent\", \"format\": \".1%\"}, \"x\": {\"type\": \"quantitative\", \"axis\": {\"format\": \".0%\"}, \"field\": \"percent\"}, \"y\": {\"type\": \"nominal\", \"field\": \"emotion\", \"sort\": \"-x\"}}, \"title\": \"Expected label: uncertain | Labels with 10 or more mentions | n= 444\"}], \"data\": {\"name\": \"data-fca142addf5fb4dd37dbc4bacc1572c6\"}}, {\"layer\": [{\"mark\": \"bar\", \"encoding\": {\"color\": {\"condition\": {\"value\": \"orange\", \"test\": \"(datum.emotion === 'neutral')\"}, \"value\": \"#0570b0\"}, \"x\": {\"type\": \"quantitative\", \"axis\": {\"format\": \".0%\"}, \"field\": \"percent\"}, \"y\": {\"type\": \"nominal\", \"field\": \"emotion\", \"sort\": \"-x\"}}, \"title\": \"Expected label: uncertain | Labels with 10 or more mentions | n= 474\"}, {\"mark\": {\"type\": \"text\", \"align\": \"left\", \"baseline\": \"middle\", \"dx\": 3, \"fontSize\": 12}, \"encoding\": {\"color\": {\"condition\": {\"value\": \"orange\", \"test\": \"(datum.emotion === 'neutral')\"}, \"value\": \"#0570b0\"}, \"text\": {\"type\": \"quantitative\", \"field\": \"percent\", \"format\": \".1%\"}, \"x\": {\"type\": \"quantitative\", \"axis\": {\"format\": \".0%\"}, \"field\": \"percent\"}, \"y\": {\"type\": \"nominal\", \"field\": \"emotion\", \"sort\": \"-x\"}}, \"title\": \"Expected label: uncertain | Labels with 10 or more mentions | n= 474\"}], \"data\": {\"name\": \"data-6822c94b95405e6f4a7a28cb9952e789\"}}], \"$schema\": \"https://vega.github.io/schema/vega-lite/v4.8.1.json\", \"datasets\": {\"data-fca142addf5fb4dd37dbc4bacc1572c6\": [{\"counts\": 125, \"emotion\": \"happi\", \"percent\": 0.17507002801120447}, {\"counts\": 52, \"emotion\": \"silli\", \"percent\": 0.07282913165266107}, {\"counts\": 41, \"emotion\": \"confus\", \"percent\": 0.05742296918767507}, {\"counts\": 32, \"emotion\": \"goofi\", \"percent\": 0.04481792717086835}, {\"counts\": 26, \"emotion\": \"none\", \"percent\": 0.036414565826330535}, {\"counts\": 24, \"emotion\": \"sad\", \"percent\": 0.03361344537815126}, {\"counts\": 21, \"emotion\": \"excit\", \"percent\": 0.029411764705882353}, {\"counts\": 20, \"emotion\": \"content\", \"percent\": 0.028011204481792718}, {\"counts\": 14, \"emotion\": \"confid\", \"percent\": 0.0196078431372549}, {\"counts\": 14, \"emotion\": \"angri\", \"percent\": 0.0196078431372549}, {\"counts\": 14, \"emotion\": \"annoy\", \"percent\": 0.0196078431372549}, {\"counts\": 14, \"emotion\": \"funni\", \"percent\": 0.0196078431372549}, {\"counts\": 12, \"emotion\": \"pose\", \"percent\": 0.01680672268907563}, {\"counts\": 12, \"emotion\": \"crazi\", \"percent\": 0.01680672268907563}, {\"counts\": 12, \"emotion\": \"play\", \"percent\": 0.01680672268907563}, {\"counts\": 11, \"emotion\": \"calm\", \"percent\": 0.015406162464985995}], \"data-6822c94b95405e6f4a7a28cb9952e789\": [{\"counts\": 62, \"emotion\": \"silli\", \"percent\": 0.08671328671328671}, {\"counts\": 58, \"emotion\": \"confus\", \"percent\": 0.08111888111888112}, {\"counts\": 37, \"emotion\": \"goofi\", \"percent\": 0.05174825174825175}, {\"counts\": 36, \"emotion\": \"surpris\", \"percent\": 0.05034965034965035}, {\"counts\": 35, \"emotion\": \"shock\", \"percent\": 0.04895104895104895}, {\"counts\": 33, \"emotion\": \"happi\", \"percent\": 0.046153846153846156}, {\"counts\": 32, \"emotion\": \"funni\", \"percent\": 0.044755244755244755}, {\"counts\": 29, \"emotion\": \"none\", \"percent\": 0.04055944055944056}, {\"counts\": 26, \"emotion\": \"angri\", \"percent\": 0.03636363636363636}, {\"counts\": 24, \"emotion\": \"annoy\", \"percent\": 0.033566433566433566}, {\"counts\": 14, \"emotion\": \"guilti\", \"percent\": 0.019580419580419582}, {\"counts\": 13, \"emotion\": \"upset\", \"percent\": 0.01818181818181818}, {\"counts\": 12, \"emotion\": \"bore\", \"percent\": 0.016783216783216783}, {\"counts\": 12, \"emotion\": \"sad\", \"percent\": 0.016783216783216783}, {\"counts\": 11, \"emotion\": \"supris\", \"percent\": 0.015384615384615385}, {\"counts\": 10, \"emotion\": \"content\", \"percent\": 0.013986013986013986}, {\"counts\": 10, \"emotion\": \"disappoint\", \"percent\": 0.013986013986013986}, {\"counts\": 10, \"emotion\": \"mad\", \"percent\": 0.013986013986013986}, {\"counts\": 10, \"emotion\": \"unhappi\", \"percent\": 0.013986013986013986}]}}, {\"renderer\": \"svg\", \"mode\": \"vega-lite\"});\n",
       "</script>"
      ],
      "text/plain": [
       "alt.HConcatChart(...)"
      ]
     },
     "metadata": {},
     "output_type": "display_data"
    }
   ],
   "source": [
    "chart_uncertain_layered =  (chart_uncertain_bipoc | chart_uncertain_white)\n",
    "chart_uncertain_layered.display(renderer='svg')"
   ]
  },
  {
   "cell_type": "code",
   "execution_count": 204,
   "id": "adce9d92-7525-4849-8efd-e84f72f3491c",
   "metadata": {},
   "outputs": [],
   "source": [
    "chart_uncertain_layered_str = altair_saver.save(chart_uncertain_layered, fmt='svg')\n",
    "image_title.append(\"'uncertain' by ethnicity\")\n",
    "svg_str.append(chart_uncertain_layered_str)"
   ]
  },
  {
   "cell_type": "markdown",
   "id": "724515dd-27e3-4c52-bf63-f6633fb5a2ba",
   "metadata": {},
   "source": [
    "### Most frequently used labels by photo"
   ]
  },
  {
   "cell_type": "code",
   "execution_count": 205,
   "id": "9e54fc68-bf4a-4fc2-81f8-a2f3a71388e5",
   "metadata": {},
   "outputs": [],
   "source": [
    "def photo_chart(df_emo_answers, emotion,  i, n_mentions=2):\n",
    "    df = emotion_df_formated(df_emo_answers, emotion) # add emotion label\n",
    "    photo_id_list = df['photo_id'].tolist() # photo id to list\n",
    "    splited_photo_id = np.array_split(photo_id_list, 24) # split photo id by photo\n",
    "    df = df[df['photo_id'].isin(splited_photo_id[i])] # select photo rows   \n",
    "    df_url = df[['url']].head(1)  # get url for chart\n",
    "    \n",
    "    face = alt.Chart(df_url).mark_image(width=110, height=110, align='right', xOffset=0, yOffset=230).encode(url='url')\n",
    "    \n",
    "    df_emotion_ans = df.drop(['photo_id', 'ethnicity', 'sex', 'age', 'label', 'url', 'photoId'], axis=1) # clean cols\n",
    "    df_stack_emotion = formating_words(df_emotion_ans) # clean up words\n",
    "    df_stack_emotion['emotion_ps_steamed'] = df_stack_emotion['emotion'].apply(lambda x: ps.stem(x)) # steam\n",
    "    df_stack_emotion_count = count_freq_labels(df_stack_emotion, X=\"stacked\", col='emotion_ps_steamed') # group and count\n",
    "    source = df_stack_emotion_count[df_stack_emotion_count['counts'] >= n_mentions]\n",
    "    \n",
    "    chart = simple_per_bar(source,\\\n",
    "                           title=f\"Expected label: {emotion} | Labels with {n_mentions} or more mentions | n= {source['counts'].sum().astype(str)}\", \\\n",
    "                           X='percent:Q', Y='emotion:N', width=300, height=300)\n",
    "    \n",
    "    return chart + face"
   ]
  },
  {
   "cell_type": "code",
   "execution_count": 206,
   "id": "e1f8095a-533a-45ab-92e8-91b168c8880e",
   "metadata": {},
   "outputs": [
    {
     "name": "stderr",
     "output_type": "stream",
     "text": [
      "/tmp/ipykernel_1811/2691402293.py:11: FutureWarning: The default value of regex will change from True to False in a future version.\n",
      "  df_stack_single_word['emotion'] = df_stack_single_word['emotion'].str.replace('[^a-zA-Z]', '') # remove non-alphabetic characters\n",
      "/home/pablo_ubuntu/miniconda3/envs/venv/lib/python3.9/site-packages/pandas/core/frame.py:3607: SettingWithCopyWarning: \n",
      "A value is trying to be set on a copy of a slice from a DataFrame.\n",
      "Try using .loc[row_indexer,col_indexer] = value instead\n",
      "\n",
      "See the caveats in the documentation: https://pandas.pydata.org/pandas-docs/stable/user_guide/indexing.html#returning-a-view-versus-a-copy\n",
      "  self._set_item(key, value)\n"
     ]
    },
    {
     "data": {
      "text/html": [
       "\n",
       "<div id=\"altair-viz-c1d945ca23d540b1afac71ab303c6f3c\"></div>\n",
       "<script type=\"text/javascript\">\n",
       "  (function(spec, embedOpt){\n",
       "    let outputDiv = document.currentScript.previousElementSibling;\n",
       "    if (outputDiv.id !== \"altair-viz-c1d945ca23d540b1afac71ab303c6f3c\") {\n",
       "      outputDiv = document.getElementById(\"altair-viz-c1d945ca23d540b1afac71ab303c6f3c\");\n",
       "    }\n",
       "    const paths = {\n",
       "      \"vega\": \"https://cdn.jsdelivr.net/npm//vega@5?noext\",\n",
       "      \"vega-lib\": \"https://cdn.jsdelivr.net/npm//vega-lib?noext\",\n",
       "      \"vega-lite\": \"https://cdn.jsdelivr.net/npm//vega-lite@4.8.1?noext\",\n",
       "      \"vega-embed\": \"https://cdn.jsdelivr.net/npm//vega-embed@6?noext\",\n",
       "    };\n",
       "\n",
       "    function loadScript(lib) {\n",
       "      return new Promise(function(resolve, reject) {\n",
       "        var s = document.createElement('script');\n",
       "        s.src = paths[lib];\n",
       "        s.async = true;\n",
       "        s.onload = () => resolve(paths[lib]);\n",
       "        s.onerror = () => reject(`Error loading script: ${paths[lib]}`);\n",
       "        document.getElementsByTagName(\"head\")[0].appendChild(s);\n",
       "      });\n",
       "    }\n",
       "\n",
       "    function showError(err) {\n",
       "      outputDiv.innerHTML = `<div class=\"error\" style=\"color:red;\">${err}</div>`;\n",
       "      throw err;\n",
       "    }\n",
       "\n",
       "    function displayChart(vegaEmbed) {\n",
       "      vegaEmbed(outputDiv, spec, embedOpt)\n",
       "        .catch(err => showError(`Javascript Error: ${err.message}<br>This usually means there's a typo in your chart specification. See the javascript console for the full traceback.`));\n",
       "    }\n",
       "\n",
       "    if(typeof define === \"function\" && define.amd) {\n",
       "      requirejs.config({paths});\n",
       "      require([\"vega-embed\"], displayChart, err => showError(`Error loading script: ${err.message}`));\n",
       "    } else if (typeof vegaEmbed === \"function\") {\n",
       "      displayChart(vegaEmbed);\n",
       "    } else {\n",
       "      loadScript(\"vega\")\n",
       "        .then(() => loadScript(\"vega-lite\"))\n",
       "        .then(() => loadScript(\"vega-embed\"))\n",
       "        .catch(showError)\n",
       "        .then(() => displayChart(vegaEmbed));\n",
       "    }\n",
       "  })({\"config\": {\"view\": {\"continuousWidth\": 400, \"continuousHeight\": 300}, \"axis\": {\"labelFontSize\": 11, \"titleFontSize\": 12}}, \"layer\": [{\"mark\": \"bar\", \"encoding\": {\"color\": {\"condition\": {\"value\": \"orange\", \"test\": \"(datum.emotion === 'Some')\"}, \"value\": \"#0570b0\"}, \"x\": {\"type\": \"quantitative\", \"axis\": {\"format\": \".0%\"}, \"field\": \"percent\"}, \"y\": {\"type\": \"nominal\", \"field\": \"emotion\", \"sort\": \"-x\"}}, \"title\": \"Expected label: anger | Labels with 2 or more mentions | n= 36\"}, {\"mark\": {\"type\": \"text\", \"align\": \"left\", \"baseline\": \"middle\", \"dx\": 3, \"fontSize\": 12}, \"encoding\": {\"color\": {\"condition\": {\"value\": \"orange\", \"test\": \"(datum.emotion === 'Some')\"}, \"value\": \"#0570b0\"}, \"text\": {\"type\": \"quantitative\", \"field\": \"percent\", \"format\": \".1%\"}, \"x\": {\"type\": \"quantitative\", \"axis\": {\"format\": \".0%\"}, \"field\": \"percent\"}, \"y\": {\"type\": \"nominal\", \"field\": \"emotion\", \"sort\": \"-x\"}}, \"title\": \"Expected label: anger | Labels with 2 or more mentions | n= 36\"}, {\"data\": {\"name\": \"data-54b2d285cd54819d962f2bd59b444e40\"}, \"mark\": {\"type\": \"image\", \"align\": \"right\", \"height\": 110, \"width\": 110, \"xOffset\": 0, \"yOffset\": 230}, \"encoding\": {\"url\": {\"type\": \"nominal\", \"field\": \"url\"}}}], \"data\": {\"name\": \"data-83404731a2bac2e963fc08bf2f8a4abd\"}, \"height\": 300, \"width\": 300, \"$schema\": \"https://vega.github.io/schema/vega-lite/v4.8.1.json\", \"datasets\": {\"data-83404731a2bac2e963fc08bf2f8a4abd\": [{\"counts\": 10, \"emotion\": \"angri\", \"percent\": 0.2777777777777778}, {\"counts\": 5, \"emotion\": \"mad\", \"percent\": 0.1388888888888889}, {\"counts\": 4, \"emotion\": \"silli\", \"percent\": 0.1111111111111111}, {\"counts\": 3, \"emotion\": \"calm\", \"percent\": 0.08333333333333333}, {\"counts\": 3, \"emotion\": \"seriou\", \"percent\": 0.08333333333333333}, {\"counts\": 3, \"emotion\": \"focus\", \"percent\": 0.08333333333333333}, {\"counts\": 2, \"emotion\": \"frustrat\", \"percent\": 0.05555555555555555}, {\"counts\": 2, \"emotion\": \"confus\", \"percent\": 0.05555555555555555}, {\"counts\": 2, \"emotion\": \"intrigu\", \"percent\": 0.05555555555555555}, {\"counts\": 2, \"emotion\": \"none\", \"percent\": 0.05555555555555555}], \"data-54b2d285cd54819d962f2bd59b444e40\": [{\"url\": \"https://uwmadison.co1.qualtrics.com/ControlPanel/Graphic.php?IM=IM_bJXdODAZHOaG0rI\"}]}}, {\"mode\": \"vega-lite\"});\n",
       "</script>"
      ],
      "text/plain": [
       "alt.LayerChart(...)"
      ]
     },
     "execution_count": 206,
     "metadata": {},
     "output_type": "execute_result"
    }
   ],
   "source": [
    "photo_chart(df_emo_answers, 'anger',  0, n_mentions=2)"
   ]
  },
  {
   "cell_type": "code",
   "execution_count": 93,
   "id": "e217f91e-d775-4ade-aad3-fc5f88bc98cd",
   "metadata": {},
   "outputs": [],
   "source": [
    "# def charts_emotion_faces(df_emo_answers, emotion):\n",
    "#     charts = []\n",
    "#     for i in range(0, 24):\n",
    "#         charts.append(photo_chart(df_emo_answers, emotion,  i))\n",
    "#     return charts"
   ]
  },
  {
   "cell_type": "code",
   "execution_count": 94,
   "id": "bdba3ffd-63df-47fd-b53b-b255c367d61e",
   "metadata": {},
   "outputs": [],
   "source": [
    "# def dashboard_emotion_faces(charts, rows):\n",
    "#     if rows == 1:\n",
    "#         dashboard= (charts[0] | charts[1] | charts[2])\n",
    "#     if rows == 2:\n",
    "#         dashboard= (charts[0] | charts[1] | charts[2]) & \\\n",
    "#                    (charts[3] | charts[4] | charts[5]) \n",
    "#     if rows == 3:\n",
    "#         dashboard= (charts[0] | charts[1] | charts[2]) & \\\n",
    "#                    (charts[3] | charts[4] | charts[5]) & \\\n",
    "#                    (charts[6] | charts[7] | charts[8])\n",
    "#     if rows == 4:\n",
    "#         dashboard= (charts[0] | charts[1] | charts[2]) & \\\n",
    "#                    (charts[3] | charts[4] | charts[5]) & \\\n",
    "#                    (charts[6] | charts[7] | charts[8]) & \\\n",
    "#                    (charts[9] | charts[10] | charts[11])\n",
    "#     if rows == 5:\n",
    "#         dashboard= (charts[0] | charts[1] | charts[2]) & \\\n",
    "#                    (charts[3] | charts[4] | charts[5]) & \\\n",
    "#                    (charts[6] | charts[7] | charts[8]) & \\\n",
    "#                    (charts[9] | charts[10] | charts[11]) & \\\n",
    "#                    (charts[12] | charts[13] | charts[14]) \n",
    "#     if rows == 6:\n",
    "#         dashboard= (charts[0] | charts[1] | charts[2]) & \\\n",
    "#                    (charts[3] | charts[4] | charts[5]) & \\\n",
    "#                    (charts[6] | charts[7] | charts[8]) & \\\n",
    "#                    (charts[9] | charts[10] | charts[11]) & \\\n",
    "#                    (charts[12] | charts[13] | charts[14]) & \\\n",
    "#                    (charts[15] | charts[16] | charts[17])\n",
    "#     if rows == 7:\n",
    "#         dashboard= (charts[0] | charts[1] | charts[2]) & \\\n",
    "#                    (charts[3] | charts[4] | charts[5]) & \\\n",
    "#                    (charts[6] | charts[7] | charts[8]) & \\\n",
    "#                    (charts[9] | charts[10] | charts[11]) & \\\n",
    "#                    (charts[12] | charts[13] | charts[14]) & \\\n",
    "#                    (charts[15] | charts[16] | charts[17]) & \\\n",
    "#                    (charts[18] | charts[19] | charts[20]) \n",
    "#     if rows == 8:\n",
    "#         dashboard= (charts[0] | charts[1] | charts[2]) & \\\n",
    "#                    (charts[3] | charts[4] | charts[5]) & \\\n",
    "#                    (charts[6] | charts[7] | charts[8]) & \\\n",
    "#                    (charts[9] | charts[10] | charts[11]) & \\\n",
    "#                    (charts[12] | charts[13] | charts[14]) & \\\n",
    "#                    (charts[15] | charts[16] | charts[17]) & \\\n",
    "#                    (charts[18] | charts[19] | charts[20]) & \\\n",
    "#                    (charts[21] | charts[22] | charts[23]) \n",
    "        \n",
    "#     return dashboard"
   ]
  },
  {
   "cell_type": "code",
   "execution_count": 95,
   "id": "05da152b-2b10-450e-b9f8-10bd591f603b",
   "metadata": {},
   "outputs": [],
   "source": [
    "# charts = charts_emotion_faces(df_emo_answers, 'sadness')\n",
    "# dashboard_emotion_faces(charts, 8)"
   ]
  },
  {
   "cell_type": "markdown",
   "id": "80b28cc1-a0f4-4fee-b6c2-bd0568e47514",
   "metadata": {},
   "source": [
    "## Emotion percentages as feature vectors"
   ]
  },
  {
   "cell_type": "code",
   "execution_count": 210,
   "id": "e5e6061d-45bf-4c75-b2b0-fb84d090f692",
   "metadata": {},
   "outputs": [],
   "source": [
    "photo_ids = pd.read_csv('../clean_data/photo_ids.csv')"
   ]
  },
  {
   "cell_type": "code",
   "execution_count": 211,
   "id": "f83674b7-91a3-4ff0-8af1-1897793164cb",
   "metadata": {},
   "outputs": [],
   "source": [
    "df_emo_overall_raw = count_freq_labels(df_stack_single_word, X='stacked', col='emotion')\n",
    "emotion_words_list_steam = df_emo_overall_raw['emotion'].str.lower().tolist()\n",
    "emotion_words_list = ['happiness','neutral', 'surprise','sadness', 'disgust', 'anger', 'fear', 'uncertain']"
   ]
  },
  {
   "cell_type": "code",
   "execution_count": 212,
   "id": "9f8c99a4-7371-471c-802c-19e2864f6afb",
   "metadata": {},
   "outputs": [],
   "source": [
    "# placeholder dataframe\n",
    "index_photos = photo_ids.iloc[:, 0] + '_1'\n",
    "df_emo_features = pd.DataFrame(columns=emotion_words_list_steam) \n",
    "# add key-ids\n",
    "df_emo_features.insert(loc=0, column='photo_id', value=index_photos)"
   ]
  },
  {
   "cell_type": "code",
   "execution_count": 213,
   "id": "7db3d4ef-53c6-4967-991a-8c9814a93a9d",
   "metadata": {},
   "outputs": [],
   "source": [
    "def fill_in_emotion_vectors(df_emo_features, df_emo_answers, emotion_words_list):\n",
    "    for emo in range(0, len(emotion_words_list)):\n",
    "        \n",
    "        emotion = emotion_words_list[emo] # get emotion word\n",
    "        df_ans = emotion_df_formated(df_emo_answers, emotion) # ans for all pics of emo-word\n",
    "        photo_id_list = df_ans['photo_id'].tolist() # photo ids for the emotion word\n",
    "        splited_photo_id = np.array_split(photo_id_list, 24) # photo_id_list as an array \n",
    "        \n",
    "        for ids in range(0, len(splited_photo_id)):\n",
    "            photo_id = splited_photo_id[ids]                \n",
    "            df_single = df_ans[df_ans['photo_id'].isin(photo_id)] # get row for nth photo\n",
    "            df_emotion_ans = df_single.drop(['photo_id', 'ethnicity', 'sex', \\\n",
    "                                             'age', 'label', 'url', 'photoId'], axis=1) # clean up for calculation\n",
    "            df_stack_emotion = formating_words(df_emotion_ans) \n",
    "            df_stack_emotion['emotion_ps_steamed'] = df_stack_emotion['emotion'].apply(lambda x: ps.stem(x)) # steam\n",
    "            source = count_freq_labels(df_stack_emotion, X='stacked', col='emotion_ps_steamed') # group and count / compute vectors\n",
    "            source = source[['percent', 'emotion']].T\n",
    "            source.columns = source.iloc[1].str.lower() # emotion words as cols\n",
    "            source.drop('emotion', axis=0, inplace=True) # clean up emotion row\n",
    "            source.reset_index(drop=True, inplace=True) # clean up index\n",
    "            source.columns.name = None\n",
    "            photo_id_str = photo_id[0] # photo id as str\n",
    "            source.insert(0, 'photo_id', photo_id_str) # photo id as col\n",
    "            # set photo id as col for easier manipulation\n",
    "            df_emo_features = df_emo_features.set_index('photo_id') \n",
    "            # fill in vectors where the value is available\n",
    "            df_emo_features.loc[photo_id_str] = pd.Series(source.T.to_dict()[0])\n",
    "            \n",
    "            df_emo_features['photo_id'] = df_emo_features.index # index back to column\n",
    "            df_emo_features.index.name = None \n",
    "            df_emo_features.reset_index(drop=True, inplace=True) # clean up index\n",
    "    \n",
    "    return df_emo_features\n",
    "            "
   ]
  },
  {
   "cell_type": "code",
   "execution_count": 214,
   "id": "4e05beab-2271-4c39-902f-fd096de97225",
   "metadata": {},
   "outputs": [
    {
     "name": "stderr",
     "output_type": "stream",
     "text": [
      "/tmp/ipykernel_1811/2691402293.py:11: FutureWarning: The default value of regex will change from True to False in a future version.\n",
      "  df_stack_single_word['emotion'] = df_stack_single_word['emotion'].str.replace('[^a-zA-Z]', '') # remove non-alphabetic characters\n",
      "/home/pablo_ubuntu/miniconda3/envs/venv/lib/python3.9/site-packages/pandas/core/frame.py:3607: SettingWithCopyWarning: \n",
      "A value is trying to be set on a copy of a slice from a DataFrame.\n",
      "Try using .loc[row_indexer,col_indexer] = value instead\n",
      "\n",
      "See the caveats in the documentation: https://pandas.pydata.org/pandas-docs/stable/user_guide/indexing.html#returning-a-view-versus-a-copy\n",
      "  self._set_item(key, value)\n"
     ]
    }
   ],
   "source": [
    "df_emo_vectors = fill_in_emotion_vectors(df_emo_features, df_emo_answers, emotion_words_list)\n",
    "df_emo_vectors = df_emo_vectors.fillna(0)\n",
    "df_label_raw = pd.read_csv('../data/emotion_labels.csv')\n",
    "df_emo_vectors = pd.concat([df_emo_vectors, df_label_raw], axis=1) # concat metadata\n",
    "df_emo_vectors.to_csv('../clean_data/free_choice_uw_students_vectors.csv', index=False)"
   ]
  },
  {
   "cell_type": "markdown",
   "id": "bb3435a8-f27d-4b61-a9f3-d25922503414",
   "metadata": {},
   "source": [
    "## Emotion percentages as feature vectors - count (for sentiment analysis)"
   ]
  },
  {
   "cell_type": "code",
   "execution_count": 215,
   "id": "1216d606-73b7-40a9-b03f-2dc01dd424a7",
   "metadata": {},
   "outputs": [],
   "source": [
    "# placeholder dataframe\n",
    "index_photos = photo_ids.iloc[:, 0] + '_1'\n",
    "df_emo_features = pd.DataFrame(columns=free_choice_word_list) # CHANGE TO NOT STEAMED\n",
    "# add key-ids\n",
    "df_emo_features.insert(loc=0, column='photo_id', value=index_photos)"
   ]
  },
  {
   "cell_type": "code",
   "execution_count": 216,
   "id": "1d819e1c-7708-417e-bc94-03e0c2d516ba",
   "metadata": {},
   "outputs": [],
   "source": [
    "def fill_in_emotion_counts(df_emo_features, df_emo_answers, emotion_words_list):\n",
    "    for emo in range(0, len(emotion_words_list)):\n",
    "        \n",
    "        emotion = emotion_words_list[emo] # get emotion word\n",
    "        df_ans = emotion_df_formated(df_emo_answers, emotion) # ans for all pics of emo-word\n",
    "        photo_id_list = df_ans['photo_id'].tolist() # photo ids for the emotion word\n",
    "        splited_photo_id = np.array_split(photo_id_list, 24) # photo_id_list as an array \n",
    "        \n",
    "        for ids in range(0, len(splited_photo_id)):\n",
    "            photo_id = splited_photo_id[ids]\n",
    "            df_single = df_ans[df_ans['photo_id'].isin(photo_id)] # get row for nth photo\n",
    "            df_emotion_ans = df_single.drop(['photo_id', 'ethnicity', 'sex', \\\n",
    "                                             'age', 'label', 'url', 'photoId'], axis=1) # clean up for calculation\n",
    "            df_stack_emotion = formating_words(df_emotion_ans) \n",
    "            source = count_freq_labels(df_stack_emotion, X='stacked', col='emotion') # group and count / compute vectors   \n",
    "            ## count or percet\n",
    "            source = source[['counts', 'emotion']].T\n",
    "            source.columns = source.iloc[1].str.lower() # emotion words as cols\n",
    "            source.drop('emotion', axis=0, inplace=True) # clean up emotion row\n",
    "            source.reset_index(drop=True, inplace=True) # clean up index\n",
    "            source.columns.name = None\n",
    "            photo_id_str = photo_id[0] # photo id as str\n",
    "            source.insert(0, 'photo_id', photo_id_str) # photo id as col\n",
    "            # set photo id as col for easier manipulation\n",
    "            df_emo_features = df_emo_features.set_index('photo_id') \n",
    "            # fill in vectors where the value is available\n",
    "            df_emo_features.loc[photo_id_str] = pd.Series(source.T.to_dict()[0])\n",
    "            \n",
    "            df_emo_features['photo_id'] = df_emo_features.index # index back to column\n",
    "            df_emo_features.index.name = None \n",
    "            df_emo_features.reset_index(drop=True, inplace=True) # clean up index\n",
    "    \n",
    "    return df_emo_features\n",
    "            "
   ]
  },
  {
   "cell_type": "code",
   "execution_count": 217,
   "id": "c3edc761-8506-4b4c-9b4e-5db2ddf09147",
   "metadata": {},
   "outputs": [
    {
     "name": "stderr",
     "output_type": "stream",
     "text": [
      "/tmp/ipykernel_1811/2691402293.py:11: FutureWarning: The default value of regex will change from True to False in a future version.\n",
      "  df_stack_single_word['emotion'] = df_stack_single_word['emotion'].str.replace('[^a-zA-Z]', '') # remove non-alphabetic characters\n"
     ]
    }
   ],
   "source": [
    "df_emo_counts = fill_in_emotion_counts(df_emo_features, df_emo_answers, emotion_words_list)\n",
    "# df_emo_counts = df_emo_counts.fillna(0) # No need to fill NA as means need to be computed later ignoring them\n",
    "df_label_raw = pd.read_csv('../data/emotion_labels.csv')\n",
    "df_emo_counts = pd.concat([df_emo_counts, df_label_raw], axis=1) # concat metadata\n",
    "df_emo_counts.to_csv('../clean_data/free_choice_uw_students_count_emotions.csv', index=False)"
   ]
  },
  {
   "cell_type": "markdown",
   "id": "e663d023-c93e-421b-8583-17afa0e108e6",
   "metadata": {},
   "source": [
    "# Clustering"
   ]
  },
  {
   "cell_type": "code",
   "execution_count": 218,
   "id": "529c700d-af79-4352-9a9f-e6fd2d815492",
   "metadata": {},
   "outputs": [],
   "source": [
    "from kneed import KneeLocator\n",
    "from sklearn import preprocessing as pp\n",
    "from sklearn.cluster import KMeans\n",
    "from sklearn.decomposition import PCA\n",
    "from sklearn.metrics import silhouette_score\n",
    "from sklearn.preprocessing import MinMaxScaler\n",
    "from sklearn import decomposition"
   ]
  },
  {
   "cell_type": "code",
   "execution_count": 219,
   "id": "8dd433a6-b2f7-4933-b717-493281f45bb0",
   "metadata": {},
   "outputs": [],
   "source": [
    "X = df_emo_vectors.copy().drop(['photo_id', 'ethnicity', 'sex', \\\n",
    "                                   'age', 'label', 'url', 'photoId'], axis=1)"
   ]
  },
  {
   "cell_type": "code",
   "execution_count": 220,
   "id": "ad8f22be-db62-4d1e-ab7d-509a4ed2d95b",
   "metadata": {},
   "outputs": [],
   "source": [
    "features = X.columns\n",
    "sX = pp.MinMaxScaler(copy=True)\n",
    "X.loc[:,features] = sX.fit_transform(X[features])"
   ]
  },
  {
   "cell_type": "code",
   "execution_count": 221,
   "id": "38787092-b991-4810-adc6-9200ecd09249",
   "metadata": {},
   "outputs": [
    {
     "data": {
      "text/html": [
       "<div>\n",
       "<style scoped>\n",
       "    .dataframe tbody tr th:only-of-type {\n",
       "        vertical-align: middle;\n",
       "    }\n",
       "\n",
       "    .dataframe tbody tr th {\n",
       "        vertical-align: top;\n",
       "    }\n",
       "\n",
       "    .dataframe thead th {\n",
       "        text-align: right;\n",
       "    }\n",
       "</style>\n",
       "<table border=\"1\" class=\"dataframe\">\n",
       "  <thead>\n",
       "    <tr style=\"text-align: right;\">\n",
       "      <th></th>\n",
       "      <th>happiness</th>\n",
       "      <th>sadness</th>\n",
       "      <th>anger</th>\n",
       "      <th>confused</th>\n",
       "      <th>surprise</th>\n",
       "      <th>disgust</th>\n",
       "      <th>upset</th>\n",
       "      <th>shocked</th>\n",
       "      <th>mad</th>\n",
       "      <th>scared</th>\n",
       "      <th>...</th>\n",
       "      <th>argumentative</th>\n",
       "      <th>ferocious</th>\n",
       "      <th>youthful</th>\n",
       "      <th>aggressive</th>\n",
       "      <th>furrowed</th>\n",
       "      <th>tooth</th>\n",
       "      <th>arrested</th>\n",
       "      <th>yellow</th>\n",
       "      <th>blurry</th>\n",
       "      <th>guilt</th>\n",
       "    </tr>\n",
       "  </thead>\n",
       "  <tbody>\n",
       "    <tr>\n",
       "      <th>count</th>\n",
       "      <td>194.0</td>\n",
       "      <td>194.0</td>\n",
       "      <td>194.000000</td>\n",
       "      <td>194.0</td>\n",
       "      <td>194.0</td>\n",
       "      <td>194.000000</td>\n",
       "      <td>194.000000</td>\n",
       "      <td>194.0</td>\n",
       "      <td>194.000000</td>\n",
       "      <td>194.0</td>\n",
       "      <td>...</td>\n",
       "      <td>194.0</td>\n",
       "      <td>194.0</td>\n",
       "      <td>194.0</td>\n",
       "      <td>194.0</td>\n",
       "      <td>194.0</td>\n",
       "      <td>194.0</td>\n",
       "      <td>194.0</td>\n",
       "      <td>194.0</td>\n",
       "      <td>194.0</td>\n",
       "      <td>194.0</td>\n",
       "    </tr>\n",
       "    <tr>\n",
       "      <th>mean</th>\n",
       "      <td>0.0</td>\n",
       "      <td>0.0</td>\n",
       "      <td>0.017728</td>\n",
       "      <td>0.0</td>\n",
       "      <td>0.0</td>\n",
       "      <td>0.062790</td>\n",
       "      <td>0.218650</td>\n",
       "      <td>0.0</td>\n",
       "      <td>0.160453</td>\n",
       "      <td>0.0</td>\n",
       "      <td>...</td>\n",
       "      <td>0.0</td>\n",
       "      <td>0.0</td>\n",
       "      <td>0.0</td>\n",
       "      <td>0.0</td>\n",
       "      <td>0.0</td>\n",
       "      <td>0.0</td>\n",
       "      <td>0.0</td>\n",
       "      <td>0.0</td>\n",
       "      <td>0.0</td>\n",
       "      <td>0.0</td>\n",
       "    </tr>\n",
       "    <tr>\n",
       "      <th>std</th>\n",
       "      <td>0.0</td>\n",
       "      <td>0.0</td>\n",
       "      <td>0.123626</td>\n",
       "      <td>0.0</td>\n",
       "      <td>0.0</td>\n",
       "      <td>0.168962</td>\n",
       "      <td>0.289025</td>\n",
       "      <td>0.0</td>\n",
       "      <td>0.264665</td>\n",
       "      <td>0.0</td>\n",
       "      <td>...</td>\n",
       "      <td>0.0</td>\n",
       "      <td>0.0</td>\n",
       "      <td>0.0</td>\n",
       "      <td>0.0</td>\n",
       "      <td>0.0</td>\n",
       "      <td>0.0</td>\n",
       "      <td>0.0</td>\n",
       "      <td>0.0</td>\n",
       "      <td>0.0</td>\n",
       "      <td>0.0</td>\n",
       "    </tr>\n",
       "    <tr>\n",
       "      <th>min</th>\n",
       "      <td>0.0</td>\n",
       "      <td>0.0</td>\n",
       "      <td>0.000000</td>\n",
       "      <td>0.0</td>\n",
       "      <td>0.0</td>\n",
       "      <td>0.000000</td>\n",
       "      <td>0.000000</td>\n",
       "      <td>0.0</td>\n",
       "      <td>0.000000</td>\n",
       "      <td>0.0</td>\n",
       "      <td>...</td>\n",
       "      <td>0.0</td>\n",
       "      <td>0.0</td>\n",
       "      <td>0.0</td>\n",
       "      <td>0.0</td>\n",
       "      <td>0.0</td>\n",
       "      <td>0.0</td>\n",
       "      <td>0.0</td>\n",
       "      <td>0.0</td>\n",
       "      <td>0.0</td>\n",
       "      <td>0.0</td>\n",
       "    </tr>\n",
       "    <tr>\n",
       "      <th>25%</th>\n",
       "      <td>0.0</td>\n",
       "      <td>0.0</td>\n",
       "      <td>0.000000</td>\n",
       "      <td>0.0</td>\n",
       "      <td>0.0</td>\n",
       "      <td>0.000000</td>\n",
       "      <td>0.000000</td>\n",
       "      <td>0.0</td>\n",
       "      <td>0.000000</td>\n",
       "      <td>0.0</td>\n",
       "      <td>...</td>\n",
       "      <td>0.0</td>\n",
       "      <td>0.0</td>\n",
       "      <td>0.0</td>\n",
       "      <td>0.0</td>\n",
       "      <td>0.0</td>\n",
       "      <td>0.0</td>\n",
       "      <td>0.0</td>\n",
       "      <td>0.0</td>\n",
       "      <td>0.0</td>\n",
       "      <td>0.0</td>\n",
       "    </tr>\n",
       "    <tr>\n",
       "      <th>50%</th>\n",
       "      <td>0.0</td>\n",
       "      <td>0.0</td>\n",
       "      <td>0.000000</td>\n",
       "      <td>0.0</td>\n",
       "      <td>0.0</td>\n",
       "      <td>0.000000</td>\n",
       "      <td>0.000000</td>\n",
       "      <td>0.0</td>\n",
       "      <td>0.000000</td>\n",
       "      <td>0.0</td>\n",
       "      <td>...</td>\n",
       "      <td>0.0</td>\n",
       "      <td>0.0</td>\n",
       "      <td>0.0</td>\n",
       "      <td>0.0</td>\n",
       "      <td>0.0</td>\n",
       "      <td>0.0</td>\n",
       "      <td>0.0</td>\n",
       "      <td>0.0</td>\n",
       "      <td>0.0</td>\n",
       "      <td>0.0</td>\n",
       "    </tr>\n",
       "    <tr>\n",
       "      <th>75%</th>\n",
       "      <td>0.0</td>\n",
       "      <td>0.0</td>\n",
       "      <td>0.000000</td>\n",
       "      <td>0.0</td>\n",
       "      <td>0.0</td>\n",
       "      <td>0.000000</td>\n",
       "      <td>0.408934</td>\n",
       "      <td>0.0</td>\n",
       "      <td>0.252877</td>\n",
       "      <td>0.0</td>\n",
       "      <td>...</td>\n",
       "      <td>0.0</td>\n",
       "      <td>0.0</td>\n",
       "      <td>0.0</td>\n",
       "      <td>0.0</td>\n",
       "      <td>0.0</td>\n",
       "      <td>0.0</td>\n",
       "      <td>0.0</td>\n",
       "      <td>0.0</td>\n",
       "      <td>0.0</td>\n",
       "      <td>0.0</td>\n",
       "    </tr>\n",
       "    <tr>\n",
       "      <th>max</th>\n",
       "      <td>0.0</td>\n",
       "      <td>0.0</td>\n",
       "      <td>1.000000</td>\n",
       "      <td>0.0</td>\n",
       "      <td>0.0</td>\n",
       "      <td>1.000000</td>\n",
       "      <td>1.000000</td>\n",
       "      <td>0.0</td>\n",
       "      <td>1.000000</td>\n",
       "      <td>0.0</td>\n",
       "      <td>...</td>\n",
       "      <td>0.0</td>\n",
       "      <td>0.0</td>\n",
       "      <td>0.0</td>\n",
       "      <td>0.0</td>\n",
       "      <td>0.0</td>\n",
       "      <td>0.0</td>\n",
       "      <td>0.0</td>\n",
       "      <td>0.0</td>\n",
       "      <td>0.0</td>\n",
       "      <td>0.0</td>\n",
       "    </tr>\n",
       "  </tbody>\n",
       "</table>\n",
       "<p>8 rows × 465 columns</p>\n",
       "</div>"
      ],
      "text/plain": [
       "       happiness  sadness       anger  confused  surprise     disgust  \\\n",
       "count      194.0    194.0  194.000000     194.0     194.0  194.000000   \n",
       "mean         0.0      0.0    0.017728       0.0       0.0    0.062790   \n",
       "std          0.0      0.0    0.123626       0.0       0.0    0.168962   \n",
       "min          0.0      0.0    0.000000       0.0       0.0    0.000000   \n",
       "25%          0.0      0.0    0.000000       0.0       0.0    0.000000   \n",
       "50%          0.0      0.0    0.000000       0.0       0.0    0.000000   \n",
       "75%          0.0      0.0    0.000000       0.0       0.0    0.000000   \n",
       "max          0.0      0.0    1.000000       0.0       0.0    1.000000   \n",
       "\n",
       "            upset  shocked         mad  scared  ...  argumentative  ferocious  \\\n",
       "count  194.000000    194.0  194.000000   194.0  ...          194.0      194.0   \n",
       "mean     0.218650      0.0    0.160453     0.0  ...            0.0        0.0   \n",
       "std      0.289025      0.0    0.264665     0.0  ...            0.0        0.0   \n",
       "min      0.000000      0.0    0.000000     0.0  ...            0.0        0.0   \n",
       "25%      0.000000      0.0    0.000000     0.0  ...            0.0        0.0   \n",
       "50%      0.000000      0.0    0.000000     0.0  ...            0.0        0.0   \n",
       "75%      0.408934      0.0    0.252877     0.0  ...            0.0        0.0   \n",
       "max      1.000000      0.0    1.000000     0.0  ...            0.0        0.0   \n",
       "\n",
       "       youthful  aggressive  furrowed  tooth  arrested  yellow  blurry  guilt  \n",
       "count     194.0       194.0     194.0  194.0     194.0   194.0   194.0  194.0  \n",
       "mean        0.0         0.0       0.0    0.0       0.0     0.0     0.0    0.0  \n",
       "std         0.0         0.0       0.0    0.0       0.0     0.0     0.0    0.0  \n",
       "min         0.0         0.0       0.0    0.0       0.0     0.0     0.0    0.0  \n",
       "25%         0.0         0.0       0.0    0.0       0.0     0.0     0.0    0.0  \n",
       "50%         0.0         0.0       0.0    0.0       0.0     0.0     0.0    0.0  \n",
       "75%         0.0         0.0       0.0    0.0       0.0     0.0     0.0    0.0  \n",
       "max         0.0         0.0       0.0    0.0       0.0     0.0     0.0    0.0  \n",
       "\n",
       "[8 rows x 465 columns]"
      ]
     },
     "execution_count": 221,
     "metadata": {},
     "output_type": "execute_result"
    }
   ],
   "source": [
    "X.describe() # mean  = 0, SD =1"
   ]
  },
  {
   "cell_type": "code",
   "execution_count": 222,
   "id": "d9e26c04-1e94-478a-877e-169ed4561b0c",
   "metadata": {},
   "outputs": [],
   "source": [
    "pca = decomposition.PCA(n_components=3)\n",
    "pca.fit(X)\n",
    "X_pca = pca.transform(X)"
   ]
  },
  {
   "cell_type": "code",
   "execution_count": 223,
   "id": "564ae72b-3ef8-46cc-9f15-a39d4bdfce3b",
   "metadata": {},
   "outputs": [],
   "source": [
    "def k_means(n_clusters=3, n_inits=20, max_iter=1000, features=X):\n",
    "    kmeans = KMeans(\n",
    "    init=\"k-means++\",\n",
    "    n_clusters=n_clusters,\n",
    "    n_init=n_inits,\n",
    "    max_iter=max_iter,\n",
    "    random_state=42)\n",
    "    kmeans.fit(features)\n",
    "    \n",
    "    return kmeans"
   ]
  },
  {
   "cell_type": "code",
   "execution_count": 224,
   "id": "50b49d62-c1c3-4296-bd04-246519944873",
   "metadata": {},
   "outputs": [],
   "source": [
    "kmeans_kwargs = {\n",
    "    \"init\": \"k-means++\",\n",
    "    \"n_init\": 20,\n",
    "    \"max_iter\": 1000,\n",
    "    \"random_state\": 42,\n",
    "}\n",
    "\n",
    "# A list holds the SSE values for each k\n",
    "sse_pca = []\n",
    "for k in range(1, 100):\n",
    "    kmeans = KMeans(n_clusters=k, **kmeans_kwargs)\n",
    "    kmeans.fit(X_pca)\n",
    "    sse_pca.append(kmeans.inertia_)"
   ]
  },
  {
   "cell_type": "code",
   "execution_count": 225,
   "id": "e1764635-e904-4351-88b5-e60e12937d94",
   "metadata": {},
   "outputs": [
    {
     "data": {
      "text/plain": [
       "14"
      ]
     },
     "execution_count": 225,
     "metadata": {},
     "output_type": "execute_result"
    }
   ],
   "source": [
    "kl_pca = KneeLocator(\n",
    "    range(1, 100), sse_pca, curve=\"convex\", direction=\"decreasing\"\n",
    ")\n",
    "\n",
    "kl_pca.elbow \n",
    "# 14"
   ]
  },
  {
   "cell_type": "code",
   "execution_count": 226,
   "id": "316bf7ac-6845-4abe-a2dc-a4f90b93e1e2",
   "metadata": {},
   "outputs": [],
   "source": [
    "source = pd.DataFrame({'y': sse_pca, 'x': range(1, 100)})"
   ]
  },
  {
   "cell_type": "code",
   "execution_count": 227,
   "id": "95800159-b54a-4613-9223-00646d8e9807",
   "metadata": {},
   "outputs": [],
   "source": [
    "chart_elbow_pca = alt.Chart(source).mark_line().encode(\n",
    "    alt.X('x:Q', title='Number of clusters - PCA'), \n",
    "    alt.Y('y:Q', title='SSE'))"
   ]
  },
  {
   "cell_type": "code",
   "execution_count": 228,
   "id": "14896b89-71fb-4b99-acce-4e6c22f3b7ec",
   "metadata": {},
   "outputs": [],
   "source": [
    "# A list holds the silhouette coefficients for each k\n",
    "silhouette_coefficients_pca = []\n",
    "\n",
    "# Notice you start at 2 clusters for silhouette coefficient\n",
    "for k in range(2, 100):\n",
    "    kmeans = KMeans(n_clusters=k, **kmeans_kwargs)\n",
    "    kmeans.fit(X_pca)\n",
    "    score = silhouette_score(X_pca, kmeans.labels_)\n",
    "    silhouette_coefficients_pca.append(score)"
   ]
  },
  {
   "cell_type": "code",
   "execution_count": 229,
   "id": "460473ce-470d-4b1d-91d8-9d4dfa89354e",
   "metadata": {},
   "outputs": [],
   "source": [
    "source = pd.DataFrame({'y': silhouette_coefficients_pca, 'x': range(2, 100)})"
   ]
  },
  {
   "cell_type": "code",
   "execution_count": 230,
   "id": "21fdb62a-726d-4475-a743-3a1a68ecb3d4",
   "metadata": {},
   "outputs": [],
   "source": [
    "chart_silhouette_pca = alt.Chart(source).mark_line().encode(\n",
    "    alt.X('x:Q', title='Number of clusters - PCA'), \n",
    "    alt.Y('y:Q', title='Silhouette coefficients'))"
   ]
  },
  {
   "cell_type": "code",
   "execution_count": 231,
   "id": "157b9376-3611-4a74-8766-891c78f17d59",
   "metadata": {},
   "outputs": [],
   "source": [
    "k_means_eval_chart =  chart_silhouette_pca | chart_elbow_pca"
   ]
  },
  {
   "cell_type": "code",
   "execution_count": 232,
   "id": "c63fdb91-48d6-4209-a162-b1e787a7cdf3",
   "metadata": {},
   "outputs": [
    {
     "data": {
      "text/html": [
       "\n",
       "<div id=\"altair-viz-4f16e02d6e014c36a7f2f5d7a350cfd5\"></div>\n",
       "<script type=\"text/javascript\">\n",
       "  (function(spec, embedOpt){\n",
       "    let outputDiv = document.currentScript.previousElementSibling;\n",
       "    if (outputDiv.id !== \"altair-viz-4f16e02d6e014c36a7f2f5d7a350cfd5\") {\n",
       "      outputDiv = document.getElementById(\"altair-viz-4f16e02d6e014c36a7f2f5d7a350cfd5\");\n",
       "    }\n",
       "    const paths = {\n",
       "      \"vega\": \"https://cdn.jsdelivr.net/npm//vega@5?noext\",\n",
       "      \"vega-lib\": \"https://cdn.jsdelivr.net/npm//vega-lib?noext\",\n",
       "      \"vega-lite\": \"https://cdn.jsdelivr.net/npm//vega-lite@4.8.1?noext\",\n",
       "      \"vega-embed\": \"https://cdn.jsdelivr.net/npm//vega-embed@6?noext\",\n",
       "    };\n",
       "\n",
       "    function loadScript(lib) {\n",
       "      return new Promise(function(resolve, reject) {\n",
       "        var s = document.createElement('script');\n",
       "        s.src = paths[lib];\n",
       "        s.async = true;\n",
       "        s.onload = () => resolve(paths[lib]);\n",
       "        s.onerror = () => reject(`Error loading script: ${paths[lib]}`);\n",
       "        document.getElementsByTagName(\"head\")[0].appendChild(s);\n",
       "      });\n",
       "    }\n",
       "\n",
       "    function showError(err) {\n",
       "      outputDiv.innerHTML = `<div class=\"error\" style=\"color:red;\">${err}</div>`;\n",
       "      throw err;\n",
       "    }\n",
       "\n",
       "    function displayChart(vegaEmbed) {\n",
       "      vegaEmbed(outputDiv, spec, embedOpt)\n",
       "        .catch(err => showError(`Javascript Error: ${err.message}<br>This usually means there's a typo in your chart specification. See the javascript console for the full traceback.`));\n",
       "    }\n",
       "\n",
       "    if(typeof define === \"function\" && define.amd) {\n",
       "      requirejs.config({paths});\n",
       "      require([\"vega-embed\"], displayChart, err => showError(`Error loading script: ${err.message}`));\n",
       "    } else if (typeof vegaEmbed === \"function\") {\n",
       "      displayChart(vegaEmbed);\n",
       "    } else {\n",
       "      loadScript(\"vega\")\n",
       "        .then(() => loadScript(\"vega-lite\"))\n",
       "        .then(() => loadScript(\"vega-embed\"))\n",
       "        .catch(showError)\n",
       "        .then(() => displayChart(vegaEmbed));\n",
       "    }\n",
       "  })({\"config\": {\"view\": {\"continuousWidth\": 400, \"continuousHeight\": 300}}, \"hconcat\": [{\"data\": {\"name\": \"data-8c0cf0a1c3a0c74506a9cf21c23329c3\"}, \"mark\": \"line\", \"encoding\": {\"x\": {\"type\": \"quantitative\", \"field\": \"x\", \"title\": \"Number of clusters - PCA\"}, \"y\": {\"type\": \"quantitative\", \"field\": \"y\", \"title\": \"Silhouette coefficients\"}}}, {\"data\": {\"name\": \"data-79b6bf91a7555a2b9190812894d52e91\"}, \"mark\": \"line\", \"encoding\": {\"x\": {\"type\": \"quantitative\", \"field\": \"x\", \"title\": \"Number of clusters - PCA\"}, \"y\": {\"type\": \"quantitative\", \"field\": \"y\", \"title\": \"SSE\"}}}], \"$schema\": \"https://vega.github.io/schema/vega-lite/v4.8.1.json\", \"datasets\": {\"data-8c0cf0a1c3a0c74506a9cf21c23329c3\": [{\"y\": 0.40206415859984507, \"x\": 2}, {\"y\": 0.4393797070708219, \"x\": 3}, {\"y\": 0.4798288355295182, \"x\": 4}, {\"y\": 0.3773150183280806, \"x\": 5}, {\"y\": 0.37775739944632514, \"x\": 6}, {\"y\": 0.39590457807130325, \"x\": 7}, {\"y\": 0.39835161495712246, \"x\": 8}, {\"y\": 0.38410712556475185, \"x\": 9}, {\"y\": 0.3877522365617605, \"x\": 10}, {\"y\": 0.39475560145676464, \"x\": 11}, {\"y\": 0.4203022045609026, \"x\": 12}, {\"y\": 0.4266484295001486, \"x\": 13}, {\"y\": 0.4217133728105935, \"x\": 14}, {\"y\": 0.4173851896725065, \"x\": 15}, {\"y\": 0.417096727637199, \"x\": 16}, {\"y\": 0.41493355708377977, \"x\": 17}, {\"y\": 0.4035833587663553, \"x\": 18}, {\"y\": 0.40123276522053186, \"x\": 19}, {\"y\": 0.4211989123902041, \"x\": 20}, {\"y\": 0.406412617665913, \"x\": 21}, {\"y\": 0.4173954180794957, \"x\": 22}, {\"y\": 0.36037105046355494, \"x\": 23}, {\"y\": 0.3974157773254242, \"x\": 24}, {\"y\": 0.3900906260353437, \"x\": 25}, {\"y\": 0.3983672995654605, \"x\": 26}, {\"y\": 0.37590435945061396, \"x\": 27}, {\"y\": 0.35185419043252647, \"x\": 28}, {\"y\": 0.4014442471262655, \"x\": 29}, {\"y\": 0.3904395716065805, \"x\": 30}, {\"y\": 0.39809125015932706, \"x\": 31}, {\"y\": 0.3628448493634503, \"x\": 32}, {\"y\": 0.3966603435299397, \"x\": 33}, {\"y\": 0.3889849530569692, \"x\": 34}, {\"y\": 0.3535525322617444, \"x\": 35}, {\"y\": 0.38596545592225584, \"x\": 36}, {\"y\": 0.3751123748876969, \"x\": 37}, {\"y\": 0.4076515302797191, \"x\": 38}, {\"y\": 0.37682413167459894, \"x\": 39}, {\"y\": 0.3768419025114296, \"x\": 40}, {\"y\": 0.3667338702944799, \"x\": 41}, {\"y\": 0.37770369642242135, \"x\": 42}, {\"y\": 0.38047227433856734, \"x\": 43}, {\"y\": 0.37583916519806027, \"x\": 44}, {\"y\": 0.3727316004007424, \"x\": 45}, {\"y\": 0.38051964096164786, \"x\": 46}, {\"y\": 0.3911983047161426, \"x\": 47}, {\"y\": 0.38163002400270796, \"x\": 48}, {\"y\": 0.3859448506927475, \"x\": 49}, {\"y\": 0.3785849699661541, \"x\": 50}, {\"y\": 0.3782255172572731, \"x\": 51}, {\"y\": 0.354425225889837, \"x\": 52}, {\"y\": 0.3778162904455007, \"x\": 53}, {\"y\": 0.38475607257051914, \"x\": 54}, {\"y\": 0.34037541475766464, \"x\": 55}, {\"y\": 0.36277255727837865, \"x\": 56}, {\"y\": 0.3609646255589264, \"x\": 57}, {\"y\": 0.3628981137122289, \"x\": 58}, {\"y\": 0.36378490679059383, \"x\": 59}, {\"y\": 0.3771321203102352, \"x\": 60}, {\"y\": 0.36427449569562953, \"x\": 61}, {\"y\": 0.36850468418114407, \"x\": 62}, {\"y\": 0.36837312022061613, \"x\": 63}, {\"y\": 0.36926958651375047, \"x\": 64}, {\"y\": 0.3644448468699263, \"x\": 65}, {\"y\": 0.37021308042567685, \"x\": 66}, {\"y\": 0.37240239692575794, \"x\": 67}, {\"y\": 0.3584636032335963, \"x\": 68}, {\"y\": 0.35876060521717007, \"x\": 69}, {\"y\": 0.35078325630037294, \"x\": 70}, {\"y\": 0.35468109426693656, \"x\": 71}, {\"y\": 0.3637334204412935, \"x\": 72}, {\"y\": 0.3545281454930118, \"x\": 73}, {\"y\": 0.35767059708348753, \"x\": 74}, {\"y\": 0.353302854301342, \"x\": 75}, {\"y\": 0.3597195860775991, \"x\": 76}, {\"y\": 0.3558293527084974, \"x\": 77}, {\"y\": 0.351405589638945, \"x\": 78}, {\"y\": 0.34972169575692835, \"x\": 79}, {\"y\": 0.34612237481259117, \"x\": 80}, {\"y\": 0.3435044073777988, \"x\": 81}, {\"y\": 0.33591711139626357, \"x\": 82}, {\"y\": 0.3414037276867114, \"x\": 83}, {\"y\": 0.3437528722074965, \"x\": 84}, {\"y\": 0.33507794911365163, \"x\": 85}, {\"y\": 0.32845325383687884, \"x\": 86}, {\"y\": 0.3308793941840332, \"x\": 87}, {\"y\": 0.338427228291238, \"x\": 88}, {\"y\": 0.33327115381270467, \"x\": 89}, {\"y\": 0.32263924709741904, \"x\": 90}, {\"y\": 0.3307135469394424, \"x\": 91}, {\"y\": 0.33191356353452844, \"x\": 92}, {\"y\": 0.3325070593399521, \"x\": 93}, {\"y\": 0.3280567148631629, \"x\": 94}, {\"y\": 0.323070628271765, \"x\": 95}, {\"y\": 0.3120678092450301, \"x\": 96}, {\"y\": 0.30239712453661755, \"x\": 97}, {\"y\": 0.3245006935847323, \"x\": 98}, {\"y\": 0.31815072738372047, \"x\": 99}], \"data-79b6bf91a7555a2b9190812894d52e91\": [{\"y\": 52.522899087553725, \"x\": 1}, {\"y\": 32.81560555322997, \"x\": 2}, {\"y\": 21.531602560511708, \"x\": 3}, {\"y\": 14.829192343074867, \"x\": 4}, {\"y\": 12.615135930953505, \"x\": 5}, {\"y\": 10.776625418504363, \"x\": 6}, {\"y\": 9.08223873584006, \"x\": 7}, {\"y\": 8.125934054573841, \"x\": 8}, {\"y\": 7.333939256095612, \"x\": 9}, {\"y\": 6.69866218694109, \"x\": 10}, {\"y\": 6.110310910374247, \"x\": 11}, {\"y\": 5.573753923554419, \"x\": 12}, {\"y\": 5.140365884159603, \"x\": 13}, {\"y\": 4.572109155566605, \"x\": 14}, {\"y\": 4.3409182161822, \"x\": 15}, {\"y\": 4.131704241126348, \"x\": 16}, {\"y\": 3.853941105430765, \"x\": 17}, {\"y\": 3.735810595146829, \"x\": 18}, {\"y\": 3.48042229872643, \"x\": 19}, {\"y\": 3.3164634372973003, \"x\": 20}, {\"y\": 3.186938085944061, \"x\": 21}, {\"y\": 2.848286789967681, \"x\": 22}, {\"y\": 2.867173322757562, \"x\": 23}, {\"y\": 2.749199029597223, \"x\": 24}, {\"y\": 2.617425694202252, \"x\": 25}, {\"y\": 2.4787180373660136, \"x\": 26}, {\"y\": 2.4230432121342074, \"x\": 27}, {\"y\": 2.341806841687065, \"x\": 28}, {\"y\": 2.184265547833359, \"x\": 29}, {\"y\": 2.0962675521293512, \"x\": 30}, {\"y\": 2.0833049862768354, \"x\": 31}, {\"y\": 2.013493048632901, \"x\": 32}, {\"y\": 1.873014191871744, \"x\": 33}, {\"y\": 1.8247326114943896, \"x\": 34}, {\"y\": 1.8113684977494513, \"x\": 35}, {\"y\": 1.7128618131916464, \"x\": 36}, {\"y\": 1.7269068505916045, \"x\": 37}, {\"y\": 1.5849016268708165, \"x\": 38}, {\"y\": 1.5467027054796665, \"x\": 39}, {\"y\": 1.5023264480896226, \"x\": 40}, {\"y\": 1.4724064000863932, \"x\": 41}, {\"y\": 1.4119100143466363, \"x\": 42}, {\"y\": 1.3458584312211244, \"x\": 43}, {\"y\": 1.275660967091885, \"x\": 44}, {\"y\": 1.258181251604155, \"x\": 45}, {\"y\": 1.183032383067393, \"x\": 46}, {\"y\": 1.131362217415898, \"x\": 47}, {\"y\": 1.0911604704389468, \"x\": 48}, {\"y\": 1.0605853459733527, \"x\": 49}, {\"y\": 1.005174048903929, \"x\": 50}, {\"y\": 1.0065140200314093, \"x\": 51}, {\"y\": 0.9750854211548895, \"x\": 52}, {\"y\": 0.9305492042665227, \"x\": 53}, {\"y\": 0.8640993644952464, \"x\": 54}, {\"y\": 0.8802944808903268, \"x\": 55}, {\"y\": 0.8244477171040845, \"x\": 56}, {\"y\": 0.801221003997157, \"x\": 57}, {\"y\": 0.7747762370618458, \"x\": 58}, {\"y\": 0.7343742411158688, \"x\": 59}, {\"y\": 0.725792452094082, \"x\": 60}, {\"y\": 0.6952648674167837, \"x\": 61}, {\"y\": 0.669937510382682, \"x\": 62}, {\"y\": 0.640924050019837, \"x\": 63}, {\"y\": 0.6334769711229427, \"x\": 64}, {\"y\": 0.6001241317611181, \"x\": 65}, {\"y\": 0.5727683862363664, \"x\": 66}, {\"y\": 0.5537898253758979, \"x\": 67}, {\"y\": 0.5421947399810995, \"x\": 68}, {\"y\": 0.5110567318708559, \"x\": 69}, {\"y\": 0.5165629274837596, \"x\": 70}, {\"y\": 0.4925812753639919, \"x\": 71}, {\"y\": 0.46937121947928917, \"x\": 72}, {\"y\": 0.45304384541657294, \"x\": 73}, {\"y\": 0.4424276197840642, \"x\": 74}, {\"y\": 0.41932132481652484, \"x\": 75}, {\"y\": 0.39969836660011904, \"x\": 76}, {\"y\": 0.38066109757979943, \"x\": 77}, {\"y\": 0.38147969954546007, \"x\": 78}, {\"y\": 0.36098256383774474, \"x\": 79}, {\"y\": 0.35039249753247875, \"x\": 80}, {\"y\": 0.3477492439069727, \"x\": 81}, {\"y\": 0.33522762610260537, \"x\": 82}, {\"y\": 0.32145013383975723, \"x\": 83}, {\"y\": 0.30367614899578715, \"x\": 84}, {\"y\": 0.2967807331798228, \"x\": 85}, {\"y\": 0.2888627549184712, \"x\": 86}, {\"y\": 0.2800072798518949, \"x\": 87}, {\"y\": 0.26935247647426996, \"x\": 88}, {\"y\": 0.2521732130980001, \"x\": 89}, {\"y\": 0.24894434060255102, \"x\": 90}, {\"y\": 0.2392827036968892, \"x\": 91}, {\"y\": 0.23855581730940656, \"x\": 92}, {\"y\": 0.21995688845570854, \"x\": 93}, {\"y\": 0.22069850582777578, \"x\": 94}, {\"y\": 0.20920868798956388, \"x\": 95}, {\"y\": 0.20447754581233862, \"x\": 96}, {\"y\": 0.1965343740133932, \"x\": 97}, {\"y\": 0.1889213070682098, \"x\": 98}, {\"y\": 0.18162130928266937, \"x\": 99}]}}, {\"mode\": \"vega-lite\"});\n",
       "</script>"
      ],
      "text/plain": [
       "alt.HConcatChart(...)"
      ]
     },
     "execution_count": 232,
     "metadata": {},
     "output_type": "execute_result"
    }
   ],
   "source": [
    "k_means_eval_chart"
   ]
  },
  {
   "cell_type": "code",
   "execution_count": 233,
   "id": "5f5c2df7-24e5-480b-adc9-6aaf75da76ab",
   "metadata": {},
   "outputs": [],
   "source": [
    "k_means_eval_str = altair_saver.save(k_means_eval_chart, fmt='svg')\n",
    "image_title.append('K-means evaluation')\n",
    "svg_str.append(k_means_eval_str)"
   ]
  },
  {
   "cell_type": "code",
   "execution_count": 253,
   "id": "f2143248-29ce-47ff-a678-c9993c875ef8",
   "metadata": {},
   "outputs": [],
   "source": [
    "## RUN ONLY ONCE THEN SAVE"
   ]
  },
  {
   "cell_type": "code",
   "execution_count": 236,
   "id": "43428f02-5fd0-47e9-bb75-4870bc6286b0",
   "metadata": {},
   "outputs": [],
   "source": [
    "# k_means_run_pca = k_means(n_clusters=14, features=X_pca)"
   ]
  },
  {
   "cell_type": "code",
   "execution_count": 237,
   "id": "b848ea40-41a4-4564-8cf8-9ed03e00f76c",
   "metadata": {},
   "outputs": [],
   "source": [
    "# df_label_raw['clusters_pca'] = k_means_run_pca.labels_"
   ]
  },
  {
   "cell_type": "code",
   "execution_count": 238,
   "id": "a7d9ce47-1b3d-4d95-9015-3789fe5a13f5",
   "metadata": {},
   "outputs": [],
   "source": [
    "# dfs_kmeans_pca = [pd.DataFrame(y) for x, y in df_label_raw.groupby('clusters_pca', as_index=False)]"
   ]
  },
  {
   "cell_type": "code",
   "execution_count": 239,
   "id": "44f6f403-b496-419a-98d0-47a0735931f2",
   "metadata": {},
   "outputs": [],
   "source": [
    "## add photo coordinates\n",
    "# for i in range(0, len(dfs_kmeans_pca)):\n",
    "#     num_items = len(dfs_kmeans_pca[i])\n",
    "#     dfs_kmeans_pca[i]['x'] = np.linspace(0.1, 3.0, num=num_items)\n",
    "#     dfs_kmeans_pca[i]['y'] = np.linspace(0.1, 3.0, num=num_items)"
   ]
  },
  {
   "cell_type": "code",
   "execution_count": 240,
   "id": "d9ce26f4-c25b-44f0-b2dd-862101a95aa4",
   "metadata": {},
   "outputs": [],
   "source": [
    "# def grid_photos(dfs_kmeans=dfs_kmeans_pca, nx=6, ny=6, cluster=0, width=600, height=600,title='title'):\n",
    "    \n",
    "#     nx, ny = (nx, ny)\n",
    "#     x = np.linspace(0, 1, nx)\n",
    "#     y = np.linspace(0, 1, ny)\n",
    "#     xv, yv = np.meshgrid(x, y)\n",
    "    \n",
    "#     dfs_kmeans[cluster]['x'] = xv.ravel()[0:len(dfs_kmeans[cluster])]\n",
    "#     dfs_kmeans[cluster]['y'] = yv.ravel()[0:len(dfs_kmeans[cluster])]\n",
    "    \n",
    "#     chart = alt.Chart(dfs_kmeans[cluster], title=title).mark_image(\n",
    "#         width=50,\n",
    "#         height=50\n",
    "#     ).encode(\n",
    "#         alt.X('x', axis=None),\n",
    "#         alt.Y('y', axis=None),\n",
    "#         url='url'\n",
    "#     )\n",
    "    \n",
    "#     text = chart.mark_text(\n",
    "#     align='center',\n",
    "#     baseline='bottom',\n",
    "#     yOffset = -25\n",
    "#     ).encode(\n",
    "#         alt.Text('label'),\n",
    "#         color=alt.Color('label',\n",
    "#                         scale=alt.Scale(\n",
    "#                             domain=emotion_words_list,\n",
    "#                             range=['#ff4444', '#4c809c', '#9ae354', '#0000AA', '#FFA500', '#E4D00A', '#c41cac', '#50C878']))\n",
    "#     )\n",
    "    \n",
    "    \n",
    "#     return (chart + text).properties(width=width, height=height)"
   ]
  },
  {
   "cell_type": "code",
   "execution_count": 241,
   "id": "d2bd2bd8-9700-4b9c-ad1a-c6a9a3ff2f51",
   "metadata": {},
   "outputs": [
    {
     "data": {
      "text/plain": [
       "[5, 9, 17, 50, 8, 12, 11, 19, 9, 7, 8, 9, 13, 17]"
      ]
     },
     "execution_count": 241,
     "metadata": {},
     "output_type": "execute_result"
    }
   ],
   "source": [
    "# dims_clusters = []\n",
    "# for i in range (0, 14):\n",
    "#     dims_clusters.append(dfs_kmeans_pca[i].shape[0])\n",
    "# dims_clusters"
   ]
  },
  {
   "cell_type": "code",
   "execution_count": 250,
   "id": "7c46b3e3-9ffb-448e-868d-061eab1f9227",
   "metadata": {},
   "outputs": [],
   "source": [
    "# cluster_0 = grid_photos(dfs_kmeans = dfs_kmeans_pca, nx=3, ny=3, cluster=0,  width=400, height=400, title='Cluster 1')\n",
    "# cluster_1 = grid_photos(dfs_kmeans = dfs_kmeans_pca, nx=3, ny=3, cluster=1,  width=400, height=400, title='Cluster 2')\n",
    "# cluster_2 = grid_photos(dfs_kmeans = dfs_kmeans_pca, nx=5, ny=5, cluster=2,  width=400, height=400, title='Cluster 3')\n",
    "# cluster_3 = grid_photos(dfs_kmeans = dfs_kmeans_pca, nx=8, ny=8, cluster=3,  width=400, height=400, title='Cluster 4')\n",
    "# cluster_4 = grid_photos(dfs_kmeans = dfs_kmeans_pca, nx=3, ny=3, cluster=4,  width=400, height=400, title='Cluster 5')\n",
    "# cluster_5 = grid_photos(dfs_kmeans = dfs_kmeans_pca, nx=4, ny=4, cluster=5,  width=400, height=400, title='Cluster 6')\n",
    "# cluster_6 = grid_photos(dfs_kmeans = dfs_kmeans_pca, nx=4, ny=4, cluster=6,  width=400, height=400, title='Cluster 7')\n",
    "# cluster_7 = grid_photos(dfs_kmeans = dfs_kmeans_pca, nx=5, ny=5, cluster=7,  width=400, height=400, title='Cluster 8')\n",
    "# cluster_8 = grid_photos(dfs_kmeans = dfs_kmeans_pca, nx=3, ny=3, cluster=8,  width=400, height=400, title='Cluster 9')\n",
    "# cluster_9 = grid_photos(dfs_kmeans = dfs_kmeans_pca, nx=3, ny=3, cluster=9,  width=400, height=400, title='Cluster 10')\n",
    "# cluster_10 = grid_photos(dfs_kmeans = dfs_kmeans_pca, nx=3, ny=3, cluster=10,  width=300, height=300, title='Cluster 11')\n",
    "# cluster_11 = grid_photos(dfs_kmeans = dfs_kmeans_pca, nx=3, ny=3, cluster=11,  width=300, height=300, title='Cluster 12')\n",
    "# cluster_12 = grid_photos(dfs_kmeans = dfs_kmeans_pca, nx=4, ny=4, cluster=10,  width=300, height=300, title='Cluster 13')\n",
    "# cluster_13 = grid_photos(dfs_kmeans = dfs_kmeans_pca, nx=5, ny=5, cluster=11,  width=300, height=300, title='Cluster 14')"
   ]
  },
  {
   "cell_type": "code",
   "execution_count": 251,
   "id": "5ed7922c-25c3-4338-bd6e-9cc0a7de9b59",
   "metadata": {},
   "outputs": [],
   "source": [
    "# k_means_clusters = ((cluster_0 | cluster_1) & \\\n",
    "# (cluster_2 | cluster_3) & \\\n",
    "# (cluster_4 | cluster_5) & \\\n",
    "# (cluster_6 | cluster_7) & \\\n",
    "# (cluster_8 | cluster_9) & \\\n",
    "# (cluster_10 | cluster_11) & \\\n",
    "# (cluster_12 | cluster_13)).configure_axis(\n",
    "#         grid=False\n",
    "#     ).configure_view(\n",
    "#         strokeOpacity=0\n",
    "#     ).configure_concat(\n",
    "#     spacing=50\n",
    "# )"
   ]
  },
  {
   "cell_type": "code",
   "execution_count": 252,
   "id": "74fc694e-66e4-4c62-8c97-2b0cc72d13c7",
   "metadata": {},
   "outputs": [
    {
     "data": {
      "text/html": [
       "\n",
       "<div id=\"altair-viz-0a85c2f2cfb147fd8031971d020f4245\"></div>\n",
       "<script type=\"text/javascript\">\n",
       "  (function(spec, embedOpt){\n",
       "    let outputDiv = document.currentScript.previousElementSibling;\n",
       "    if (outputDiv.id !== \"altair-viz-0a85c2f2cfb147fd8031971d020f4245\") {\n",
       "      outputDiv = document.getElementById(\"altair-viz-0a85c2f2cfb147fd8031971d020f4245\");\n",
       "    }\n",
       "    const paths = {\n",
       "      \"vega\": \"https://cdn.jsdelivr.net/npm//vega@5?noext\",\n",
       "      \"vega-lib\": \"https://cdn.jsdelivr.net/npm//vega-lib?noext\",\n",
       "      \"vega-lite\": \"https://cdn.jsdelivr.net/npm//vega-lite@4.8.1?noext\",\n",
       "      \"vega-embed\": \"https://cdn.jsdelivr.net/npm//vega-embed@6?noext\",\n",
       "    };\n",
       "\n",
       "    function loadScript(lib) {\n",
       "      return new Promise(function(resolve, reject) {\n",
       "        var s = document.createElement('script');\n",
       "        s.src = paths[lib];\n",
       "        s.async = true;\n",
       "        s.onload = () => resolve(paths[lib]);\n",
       "        s.onerror = () => reject(`Error loading script: ${paths[lib]}`);\n",
       "        document.getElementsByTagName(\"head\")[0].appendChild(s);\n",
       "      });\n",
       "    }\n",
       "\n",
       "    function showError(err) {\n",
       "      outputDiv.innerHTML = `<div class=\"error\" style=\"color:red;\">${err}</div>`;\n",
       "      throw err;\n",
       "    }\n",
       "\n",
       "    function displayChart(vegaEmbed) {\n",
       "      vegaEmbed(outputDiv, spec, embedOpt)\n",
       "        .catch(err => showError(`Javascript Error: ${err.message}<br>This usually means there's a typo in your chart specification. See the javascript console for the full traceback.`));\n",
       "    }\n",
       "\n",
       "    if(typeof define === \"function\" && define.amd) {\n",
       "      requirejs.config({paths});\n",
       "      require([\"vega-embed\"], displayChart, err => showError(`Error loading script: ${err.message}`));\n",
       "    } else if (typeof vegaEmbed === \"function\") {\n",
       "      displayChart(vegaEmbed);\n",
       "    } else {\n",
       "      loadScript(\"vega\")\n",
       "        .then(() => loadScript(\"vega-lite\"))\n",
       "        .then(() => loadScript(\"vega-embed\"))\n",
       "        .catch(showError)\n",
       "        .then(() => displayChart(vegaEmbed));\n",
       "    }\n",
       "  })({\"config\": {\"view\": {\"continuousWidth\": 400, \"continuousHeight\": 300, \"strokeOpacity\": 0}, \"axis\": {\"grid\": false}, \"concat\": {\"spacing\": 50}}, \"vconcat\": [{\"hconcat\": [{\"layer\": [{\"mark\": {\"type\": \"image\", \"height\": 50, \"width\": 50}, \"encoding\": {\"url\": {\"type\": \"nominal\", \"field\": \"url\"}, \"x\": {\"type\": \"quantitative\", \"axis\": null, \"field\": \"x\"}, \"y\": {\"type\": \"quantitative\", \"axis\": null, \"field\": \"y\"}}, \"title\": \"Cluster 1\"}, {\"mark\": {\"type\": \"text\", \"align\": \"center\", \"baseline\": \"bottom\", \"yOffset\": -25}, \"encoding\": {\"color\": {\"type\": \"nominal\", \"field\": \"label\", \"scale\": {\"domain\": [\"happiness\", \"neutral\", \"surprise\", \"sadness\", \"disgust\", \"anger\", \"fear\", \"uncertain\"], \"range\": [\"#ff4444\", \"#4c809c\", \"#9ae354\", \"#0000AA\", \"#FFA500\", \"#E4D00A\", \"#c41cac\", \"#50C878\"]}}, \"text\": {\"type\": \"nominal\", \"field\": \"label\"}, \"url\": {\"type\": \"nominal\", \"field\": \"url\"}, \"x\": {\"type\": \"quantitative\", \"axis\": null, \"field\": \"x\"}, \"y\": {\"type\": \"quantitative\", \"axis\": null, \"field\": \"y\"}}, \"title\": \"Cluster 1\"}], \"data\": {\"name\": \"data-52e82a50e38dfa2b8adf51f36fe4ab44\"}, \"height\": 400, \"width\": 400}, {\"layer\": [{\"mark\": {\"type\": \"image\", \"height\": 50, \"width\": 50}, \"encoding\": {\"url\": {\"type\": \"nominal\", \"field\": \"url\"}, \"x\": {\"type\": \"quantitative\", \"axis\": null, \"field\": \"x\"}, \"y\": {\"type\": \"quantitative\", \"axis\": null, \"field\": \"y\"}}, \"title\": \"Cluster 2\"}, {\"mark\": {\"type\": \"text\", \"align\": \"center\", \"baseline\": \"bottom\", \"yOffset\": -25}, \"encoding\": {\"color\": {\"type\": \"nominal\", \"field\": \"label\", \"scale\": {\"domain\": [\"happiness\", \"neutral\", \"surprise\", \"sadness\", \"disgust\", \"anger\", \"fear\", \"uncertain\"], \"range\": [\"#ff4444\", \"#4c809c\", \"#9ae354\", \"#0000AA\", \"#FFA500\", \"#E4D00A\", \"#c41cac\", \"#50C878\"]}}, \"text\": {\"type\": \"nominal\", \"field\": \"label\"}, \"url\": {\"type\": \"nominal\", \"field\": \"url\"}, \"x\": {\"type\": \"quantitative\", \"axis\": null, \"field\": \"x\"}, \"y\": {\"type\": \"quantitative\", \"axis\": null, \"field\": \"y\"}}, \"title\": \"Cluster 2\"}], \"data\": {\"name\": \"data-675d5015aefba4f9a6fb7bd06b458e9d\"}, \"height\": 400, \"width\": 400}]}, {\"hconcat\": [{\"layer\": [{\"mark\": {\"type\": \"image\", \"height\": 50, \"width\": 50}, \"encoding\": {\"url\": {\"type\": \"nominal\", \"field\": \"url\"}, \"x\": {\"type\": \"quantitative\", \"axis\": null, \"field\": \"x\"}, \"y\": {\"type\": \"quantitative\", \"axis\": null, \"field\": \"y\"}}, \"title\": \"Cluster 3\"}, {\"mark\": {\"type\": \"text\", \"align\": \"center\", \"baseline\": \"bottom\", \"yOffset\": -25}, \"encoding\": {\"color\": {\"type\": \"nominal\", \"field\": \"label\", \"scale\": {\"domain\": [\"happiness\", \"neutral\", \"surprise\", \"sadness\", \"disgust\", \"anger\", \"fear\", \"uncertain\"], \"range\": [\"#ff4444\", \"#4c809c\", \"#9ae354\", \"#0000AA\", \"#FFA500\", \"#E4D00A\", \"#c41cac\", \"#50C878\"]}}, \"text\": {\"type\": \"nominal\", \"field\": \"label\"}, \"url\": {\"type\": \"nominal\", \"field\": \"url\"}, \"x\": {\"type\": \"quantitative\", \"axis\": null, \"field\": \"x\"}, \"y\": {\"type\": \"quantitative\", \"axis\": null, \"field\": \"y\"}}, \"title\": \"Cluster 3\"}], \"data\": {\"name\": \"data-5492e2aa94a70755c7f193620af2f61b\"}, \"height\": 400, \"width\": 400}, {\"layer\": [{\"mark\": {\"type\": \"image\", \"height\": 50, \"width\": 50}, \"encoding\": {\"url\": {\"type\": \"nominal\", \"field\": \"url\"}, \"x\": {\"type\": \"quantitative\", \"axis\": null, \"field\": \"x\"}, \"y\": {\"type\": \"quantitative\", \"axis\": null, \"field\": \"y\"}}, \"title\": \"Cluster 4\"}, {\"mark\": {\"type\": \"text\", \"align\": \"center\", \"baseline\": \"bottom\", \"yOffset\": -25}, \"encoding\": {\"color\": {\"type\": \"nominal\", \"field\": \"label\", \"scale\": {\"domain\": [\"happiness\", \"neutral\", \"surprise\", \"sadness\", \"disgust\", \"anger\", \"fear\", \"uncertain\"], \"range\": [\"#ff4444\", \"#4c809c\", \"#9ae354\", \"#0000AA\", \"#FFA500\", \"#E4D00A\", \"#c41cac\", \"#50C878\"]}}, \"text\": {\"type\": \"nominal\", \"field\": \"label\"}, \"url\": {\"type\": \"nominal\", \"field\": \"url\"}, \"x\": {\"type\": \"quantitative\", \"axis\": null, \"field\": \"x\"}, \"y\": {\"type\": \"quantitative\", \"axis\": null, \"field\": \"y\"}}, \"title\": \"Cluster 4\"}], \"data\": {\"name\": \"data-8943951ebd25c3b174ed82794a3a4e88\"}, \"height\": 400, \"width\": 400}]}, {\"hconcat\": [{\"layer\": [{\"mark\": {\"type\": \"image\", \"height\": 50, \"width\": 50}, \"encoding\": {\"url\": {\"type\": \"nominal\", \"field\": \"url\"}, \"x\": {\"type\": \"quantitative\", \"axis\": null, \"field\": \"x\"}, \"y\": {\"type\": \"quantitative\", \"axis\": null, \"field\": \"y\"}}, \"title\": \"Cluster 5\"}, {\"mark\": {\"type\": \"text\", \"align\": \"center\", \"baseline\": \"bottom\", \"yOffset\": -25}, \"encoding\": {\"color\": {\"type\": \"nominal\", \"field\": \"label\", \"scale\": {\"domain\": [\"happiness\", \"neutral\", \"surprise\", \"sadness\", \"disgust\", \"anger\", \"fear\", \"uncertain\"], \"range\": [\"#ff4444\", \"#4c809c\", \"#9ae354\", \"#0000AA\", \"#FFA500\", \"#E4D00A\", \"#c41cac\", \"#50C878\"]}}, \"text\": {\"type\": \"nominal\", \"field\": \"label\"}, \"url\": {\"type\": \"nominal\", \"field\": \"url\"}, \"x\": {\"type\": \"quantitative\", \"axis\": null, \"field\": \"x\"}, \"y\": {\"type\": \"quantitative\", \"axis\": null, \"field\": \"y\"}}, \"title\": \"Cluster 5\"}], \"data\": {\"name\": \"data-681d06c72577c384414a3934f9269f3b\"}, \"height\": 400, \"width\": 400}, {\"layer\": [{\"mark\": {\"type\": \"image\", \"height\": 50, \"width\": 50}, \"encoding\": {\"url\": {\"type\": \"nominal\", \"field\": \"url\"}, \"x\": {\"type\": \"quantitative\", \"axis\": null, \"field\": \"x\"}, \"y\": {\"type\": \"quantitative\", \"axis\": null, \"field\": \"y\"}}, \"title\": \"Cluster 6\"}, {\"mark\": {\"type\": \"text\", \"align\": \"center\", \"baseline\": \"bottom\", \"yOffset\": -25}, \"encoding\": {\"color\": {\"type\": \"nominal\", \"field\": \"label\", \"scale\": {\"domain\": [\"happiness\", \"neutral\", \"surprise\", \"sadness\", \"disgust\", \"anger\", \"fear\", \"uncertain\"], \"range\": [\"#ff4444\", \"#4c809c\", \"#9ae354\", \"#0000AA\", \"#FFA500\", \"#E4D00A\", \"#c41cac\", \"#50C878\"]}}, \"text\": {\"type\": \"nominal\", \"field\": \"label\"}, \"url\": {\"type\": \"nominal\", \"field\": \"url\"}, \"x\": {\"type\": \"quantitative\", \"axis\": null, \"field\": \"x\"}, \"y\": {\"type\": \"quantitative\", \"axis\": null, \"field\": \"y\"}}, \"title\": \"Cluster 6\"}], \"data\": {\"name\": \"data-da2704e9eb313194abfb5e17b191f304\"}, \"height\": 400, \"width\": 400}]}, {\"hconcat\": [{\"layer\": [{\"mark\": {\"type\": \"image\", \"height\": 50, \"width\": 50}, \"encoding\": {\"url\": {\"type\": \"nominal\", \"field\": \"url\"}, \"x\": {\"type\": \"quantitative\", \"axis\": null, \"field\": \"x\"}, \"y\": {\"type\": \"quantitative\", \"axis\": null, \"field\": \"y\"}}, \"title\": \"Cluster 7\"}, {\"mark\": {\"type\": \"text\", \"align\": \"center\", \"baseline\": \"bottom\", \"yOffset\": -25}, \"encoding\": {\"color\": {\"type\": \"nominal\", \"field\": \"label\", \"scale\": {\"domain\": [\"happiness\", \"neutral\", \"surprise\", \"sadness\", \"disgust\", \"anger\", \"fear\", \"uncertain\"], \"range\": [\"#ff4444\", \"#4c809c\", \"#9ae354\", \"#0000AA\", \"#FFA500\", \"#E4D00A\", \"#c41cac\", \"#50C878\"]}}, \"text\": {\"type\": \"nominal\", \"field\": \"label\"}, \"url\": {\"type\": \"nominal\", \"field\": \"url\"}, \"x\": {\"type\": \"quantitative\", \"axis\": null, \"field\": \"x\"}, \"y\": {\"type\": \"quantitative\", \"axis\": null, \"field\": \"y\"}}, \"title\": \"Cluster 7\"}], \"data\": {\"name\": \"data-b4c33aa95d689c998de7d1b4d6eb22fe\"}, \"height\": 400, \"width\": 400}, {\"layer\": [{\"mark\": {\"type\": \"image\", \"height\": 50, \"width\": 50}, \"encoding\": {\"url\": {\"type\": \"nominal\", \"field\": \"url\"}, \"x\": {\"type\": \"quantitative\", \"axis\": null, \"field\": \"x\"}, \"y\": {\"type\": \"quantitative\", \"axis\": null, \"field\": \"y\"}}, \"title\": \"Cluster 8\"}, {\"mark\": {\"type\": \"text\", \"align\": \"center\", \"baseline\": \"bottom\", \"yOffset\": -25}, \"encoding\": {\"color\": {\"type\": \"nominal\", \"field\": \"label\", \"scale\": {\"domain\": [\"happiness\", \"neutral\", \"surprise\", \"sadness\", \"disgust\", \"anger\", \"fear\", \"uncertain\"], \"range\": [\"#ff4444\", \"#4c809c\", \"#9ae354\", \"#0000AA\", \"#FFA500\", \"#E4D00A\", \"#c41cac\", \"#50C878\"]}}, \"text\": {\"type\": \"nominal\", \"field\": \"label\"}, \"url\": {\"type\": \"nominal\", \"field\": \"url\"}, \"x\": {\"type\": \"quantitative\", \"axis\": null, \"field\": \"x\"}, \"y\": {\"type\": \"quantitative\", \"axis\": null, \"field\": \"y\"}}, \"title\": \"Cluster 8\"}], \"data\": {\"name\": \"data-f693b167357c75011e562301f9e6be14\"}, \"height\": 400, \"width\": 400}]}, {\"hconcat\": [{\"layer\": [{\"mark\": {\"type\": \"image\", \"height\": 50, \"width\": 50}, \"encoding\": {\"url\": {\"type\": \"nominal\", \"field\": \"url\"}, \"x\": {\"type\": \"quantitative\", \"axis\": null, \"field\": \"x\"}, \"y\": {\"type\": \"quantitative\", \"axis\": null, \"field\": \"y\"}}, \"title\": \"Cluster 9\"}, {\"mark\": {\"type\": \"text\", \"align\": \"center\", \"baseline\": \"bottom\", \"yOffset\": -25}, \"encoding\": {\"color\": {\"type\": \"nominal\", \"field\": \"label\", \"scale\": {\"domain\": [\"happiness\", \"neutral\", \"surprise\", \"sadness\", \"disgust\", \"anger\", \"fear\", \"uncertain\"], \"range\": [\"#ff4444\", \"#4c809c\", \"#9ae354\", \"#0000AA\", \"#FFA500\", \"#E4D00A\", \"#c41cac\", \"#50C878\"]}}, \"text\": {\"type\": \"nominal\", \"field\": \"label\"}, \"url\": {\"type\": \"nominal\", \"field\": \"url\"}, \"x\": {\"type\": \"quantitative\", \"axis\": null, \"field\": \"x\"}, \"y\": {\"type\": \"quantitative\", \"axis\": null, \"field\": \"y\"}}, \"title\": \"Cluster 9\"}], \"data\": {\"name\": \"data-299a7c3a63380f3039e47171800f52ed\"}, \"height\": 400, \"width\": 400}, {\"layer\": [{\"mark\": {\"type\": \"image\", \"height\": 50, \"width\": 50}, \"encoding\": {\"url\": {\"type\": \"nominal\", \"field\": \"url\"}, \"x\": {\"type\": \"quantitative\", \"axis\": null, \"field\": \"x\"}, \"y\": {\"type\": \"quantitative\", \"axis\": null, \"field\": \"y\"}}, \"title\": \"Cluster 10\"}, {\"mark\": {\"type\": \"text\", \"align\": \"center\", \"baseline\": \"bottom\", \"yOffset\": -25}, \"encoding\": {\"color\": {\"type\": \"nominal\", \"field\": \"label\", \"scale\": {\"domain\": [\"happiness\", \"neutral\", \"surprise\", \"sadness\", \"disgust\", \"anger\", \"fear\", \"uncertain\"], \"range\": [\"#ff4444\", \"#4c809c\", \"#9ae354\", \"#0000AA\", \"#FFA500\", \"#E4D00A\", \"#c41cac\", \"#50C878\"]}}, \"text\": {\"type\": \"nominal\", \"field\": \"label\"}, \"url\": {\"type\": \"nominal\", \"field\": \"url\"}, \"x\": {\"type\": \"quantitative\", \"axis\": null, \"field\": \"x\"}, \"y\": {\"type\": \"quantitative\", \"axis\": null, \"field\": \"y\"}}, \"title\": \"Cluster 10\"}], \"data\": {\"name\": \"data-92670111aba232bc5d2755cf9484ee6a\"}, \"height\": 400, \"width\": 400}]}, {\"hconcat\": [{\"layer\": [{\"mark\": {\"type\": \"image\", \"height\": 50, \"width\": 50}, \"encoding\": {\"url\": {\"type\": \"nominal\", \"field\": \"url\"}, \"x\": {\"type\": \"quantitative\", \"axis\": null, \"field\": \"x\"}, \"y\": {\"type\": \"quantitative\", \"axis\": null, \"field\": \"y\"}}, \"title\": \"Cluster 11\"}, {\"mark\": {\"type\": \"text\", \"align\": \"center\", \"baseline\": \"bottom\", \"yOffset\": -25}, \"encoding\": {\"color\": {\"type\": \"nominal\", \"field\": \"label\", \"scale\": {\"domain\": [\"happiness\", \"neutral\", \"surprise\", \"sadness\", \"disgust\", \"anger\", \"fear\", \"uncertain\"], \"range\": [\"#ff4444\", \"#4c809c\", \"#9ae354\", \"#0000AA\", \"#FFA500\", \"#E4D00A\", \"#c41cac\", \"#50C878\"]}}, \"text\": {\"type\": \"nominal\", \"field\": \"label\"}, \"url\": {\"type\": \"nominal\", \"field\": \"url\"}, \"x\": {\"type\": \"quantitative\", \"axis\": null, \"field\": \"x\"}, \"y\": {\"type\": \"quantitative\", \"axis\": null, \"field\": \"y\"}}, \"title\": \"Cluster 11\"}], \"data\": {\"name\": \"data-61ac5985d1e1217ee4e5f8f970754af9\"}, \"height\": 300, \"width\": 300}, {\"layer\": [{\"mark\": {\"type\": \"image\", \"height\": 50, \"width\": 50}, \"encoding\": {\"url\": {\"type\": \"nominal\", \"field\": \"url\"}, \"x\": {\"type\": \"quantitative\", \"axis\": null, \"field\": \"x\"}, \"y\": {\"type\": \"quantitative\", \"axis\": null, \"field\": \"y\"}}, \"title\": \"Cluster 12\"}, {\"mark\": {\"type\": \"text\", \"align\": \"center\", \"baseline\": \"bottom\", \"yOffset\": -25}, \"encoding\": {\"color\": {\"type\": \"nominal\", \"field\": \"label\", \"scale\": {\"domain\": [\"happiness\", \"neutral\", \"surprise\", \"sadness\", \"disgust\", \"anger\", \"fear\", \"uncertain\"], \"range\": [\"#ff4444\", \"#4c809c\", \"#9ae354\", \"#0000AA\", \"#FFA500\", \"#E4D00A\", \"#c41cac\", \"#50C878\"]}}, \"text\": {\"type\": \"nominal\", \"field\": \"label\"}, \"url\": {\"type\": \"nominal\", \"field\": \"url\"}, \"x\": {\"type\": \"quantitative\", \"axis\": null, \"field\": \"x\"}, \"y\": {\"type\": \"quantitative\", \"axis\": null, \"field\": \"y\"}}, \"title\": \"Cluster 12\"}], \"data\": {\"name\": \"data-b43f5c3fc260e920e1ccee172dc7e09c\"}, \"height\": 300, \"width\": 300}]}, {\"hconcat\": [{\"layer\": [{\"mark\": {\"type\": \"image\", \"height\": 50, \"width\": 50}, \"encoding\": {\"url\": {\"type\": \"nominal\", \"field\": \"url\"}, \"x\": {\"type\": \"quantitative\", \"axis\": null, \"field\": \"x\"}, \"y\": {\"type\": \"quantitative\", \"axis\": null, \"field\": \"y\"}}, \"title\": \"Cluster 13\"}, {\"mark\": {\"type\": \"text\", \"align\": \"center\", \"baseline\": \"bottom\", \"yOffset\": -25}, \"encoding\": {\"color\": {\"type\": \"nominal\", \"field\": \"label\", \"scale\": {\"domain\": [\"happiness\", \"neutral\", \"surprise\", \"sadness\", \"disgust\", \"anger\", \"fear\", \"uncertain\"], \"range\": [\"#ff4444\", \"#4c809c\", \"#9ae354\", \"#0000AA\", \"#FFA500\", \"#E4D00A\", \"#c41cac\", \"#50C878\"]}}, \"text\": {\"type\": \"nominal\", \"field\": \"label\"}, \"url\": {\"type\": \"nominal\", \"field\": \"url\"}, \"x\": {\"type\": \"quantitative\", \"axis\": null, \"field\": \"x\"}, \"y\": {\"type\": \"quantitative\", \"axis\": null, \"field\": \"y\"}}, \"title\": \"Cluster 13\"}], \"data\": {\"name\": \"data-61ac5985d1e1217ee4e5f8f970754af9\"}, \"height\": 300, \"width\": 300}, {\"layer\": [{\"mark\": {\"type\": \"image\", \"height\": 50, \"width\": 50}, \"encoding\": {\"url\": {\"type\": \"nominal\", \"field\": \"url\"}, \"x\": {\"type\": \"quantitative\", \"axis\": null, \"field\": \"x\"}, \"y\": {\"type\": \"quantitative\", \"axis\": null, \"field\": \"y\"}}, \"title\": \"Cluster 14\"}, {\"mark\": {\"type\": \"text\", \"align\": \"center\", \"baseline\": \"bottom\", \"yOffset\": -25}, \"encoding\": {\"color\": {\"type\": \"nominal\", \"field\": \"label\", \"scale\": {\"domain\": [\"happiness\", \"neutral\", \"surprise\", \"sadness\", \"disgust\", \"anger\", \"fear\", \"uncertain\"], \"range\": [\"#ff4444\", \"#4c809c\", \"#9ae354\", \"#0000AA\", \"#FFA500\", \"#E4D00A\", \"#c41cac\", \"#50C878\"]}}, \"text\": {\"type\": \"nominal\", \"field\": \"label\"}, \"url\": {\"type\": \"nominal\", \"field\": \"url\"}, \"x\": {\"type\": \"quantitative\", \"axis\": null, \"field\": \"x\"}, \"y\": {\"type\": \"quantitative\", \"axis\": null, \"field\": \"y\"}}, \"title\": \"Cluster 14\"}], \"data\": {\"name\": \"data-b43f5c3fc260e920e1ccee172dc7e09c\"}, \"height\": 300, \"width\": 300}]}], \"$schema\": \"https://vega.github.io/schema/vega-lite/v4.8.1.json\", \"datasets\": {\"data-52e82a50e38dfa2b8adf51f36fe4ab44\": [{\"ethnicity\": \"white\", \"sex\": \"female\", \"age\": \"child\", \"label\": \"neutral\", \"url\": \"https://uwmadison.co1.qualtrics.com/ControlPanel/Graphic.php?IM=IM_0pPXIzq4Mrfh7ka\", \"photoId\": \" Q39.1\", \"clusters_pca\": 0, \"x\": 0.0, \"y\": 0.0}, {\"ethnicity\": \"white\", \"sex\": \"male\", \"age\": \"adult\", \"label\": \"neutral\", \"url\": \"https://uwmadison.co1.qualtrics.com/ControlPanel/Graphic.php?IM=IM_blolyGQSOOsUfLE\", \"photoId\": \" Q40.1\", \"clusters_pca\": 0, \"x\": 0.5, \"y\": 0.0}, {\"ethnicity\": \"bipoc\", \"sex\": \"male\", \"age\": \"adult\", \"label\": \"neutral\", \"url\": \"https://uwmadison.co1.qualtrics.com/ControlPanel/Graphic.php?IM=IM_3gSfRO9Zt2G8NP8\", \"photoId\": \" Q101.1\", \"clusters_pca\": 0, \"x\": 1.0, \"y\": 0.0}, {\"ethnicity\": \"white\", \"sex\": \"female\", \"age\": \"child\", \"label\": \"neutral\", \"url\": \"https://uwmadison.co1.qualtrics.com/ControlPanel/Graphic.php?IM=IM_7WGuIqyEG3TilMi\", \"photoId\": \" Q104.1\", \"clusters_pca\": 0, \"x\": 0.0, \"y\": 0.5}, {\"ethnicity\": \"white\", \"sex\": \"male\", \"age\": \"adult\", \"label\": \"sadness\", \"url\": \"https://uwmadison.co1.qualtrics.com/ControlPanel/Graphic.php?IM=IM_8AHT36OY3USaPe6\", \"photoId\": \" Q178.1\", \"clusters_pca\": 0, \"x\": 0.5, \"y\": 0.5}], \"data-675d5015aefba4f9a6fb7bd06b458e9d\": [{\"ethnicity\": \"white\", \"sex\": \"female\", \"age\": \"adult\", \"label\": \"neutral\", \"url\": \"https://uwmadison.co1.qualtrics.com/ControlPanel/Graphic.php?IM=IM_3lu3qPA43hGxJ4y\", \"photoId\": \" Q38.1\", \"clusters_pca\": 1, \"x\": 0.0, \"y\": 0.0}, {\"ethnicity\": \"white\", \"sex\": \"male\", \"age\": \"adult\", \"label\": \"sadness\", \"url\": \"https://uwmadison.co1.qualtrics.com/ControlPanel/Graphic.php?IM=IM_8j4LSlE16vL228e\", \"photoId\": \" Q48.1\", \"clusters_pca\": 1, \"x\": 0.5, \"y\": 0.0}, {\"ethnicity\": \"bipoc\", \"sex\": \"female\", \"age\": \"child\", \"label\": \"anger\", \"url\": \"https://uwmadison.co1.qualtrics.com/ControlPanel/Graphic.php?IM=IM_ehdQVRQn8kI6rNI\", \"photoId\": \" Q68.1\", \"clusters_pca\": 1, \"x\": 1.0, \"y\": 0.0}, {\"ethnicity\": \"bipoc\", \"sex\": \"male\", \"age\": \"adult\", \"label\": \"anger\", \"url\": \"https://uwmadison.co1.qualtrics.com/ControlPanel/Graphic.php?IM=IM_4OulgTPxBAgu0Qu\", \"photoId\": \" Q69.1\", \"clusters_pca\": 1, \"x\": 0.0, \"y\": 0.5}, {\"ethnicity\": \"bipoc\", \"sex\": \"male\", \"age\": \"child\", \"label\": \"uncertain\", \"url\": \"https://uwmadison.co1.qualtrics.com/ControlPanel/Graphic.php?IM=IM_eaf2nwmlYn6uJKu\", \"photoId\": \" Q126.1\", \"clusters_pca\": 1, \"x\": 0.5, \"y\": 0.5}, {\"ethnicity\": \"bipoc\", \"sex\": \"female\", \"age\": \"adult\", \"label\": \"anger\", \"url\": \"https://uwmadison.co1.qualtrics.com/ControlPanel/Graphic.php?IM=IM_9WTZdrQmZK2OL54\", \"photoId\": \" Q132.1\", \"clusters_pca\": 1, \"x\": 1.0, \"y\": 0.5}, {\"ethnicity\": \"bipoc\", \"sex\": \"male\", \"age\": \"adult\", \"label\": \"anger\", \"url\": \"https://uwmadison.co1.qualtrics.com/ControlPanel/Graphic.php?IM=IM_bkMyZNBgUg8ZlNY\", \"photoId\": \" Q134.1\", \"clusters_pca\": 1, \"x\": 0.0, \"y\": 1.0}, {\"ethnicity\": \"white\", \"sex\": \"male\", \"age\": \"child\", \"label\": \"anger\", \"url\": \"https://uwmadison.co1.qualtrics.com/ControlPanel/Graphic.php?IM=IM_5AcJkrT27k6XRmm\", \"photoId\": \" Q139.1\", \"clusters_pca\": 1, \"x\": 0.5, \"y\": 1.0}, {\"ethnicity\": \"white\", \"sex\": \"female\", \"age\": \"child\", \"label\": \"uncertain\", \"url\": \"https://uwmadison.co1.qualtrics.com/ControlPanel/Graphic.php?IM=IM_beic5cGPkQFDmhU\", \"photoId\": \" Q193.1\", \"clusters_pca\": 1, \"x\": 1.0, \"y\": 1.0}], \"data-5492e2aa94a70755c7f193620af2f61b\": [{\"ethnicity\": \"bipoc\", \"sex\": \"female\", \"age\": \"child\", \"label\": \"happiness\", \"url\": \"https://uwmadison.co1.qualtrics.com/ControlPanel/Graphic.php?IM=IM_1LJr1XMUNEEqjEq\", \"photoId\": \" Q27.1\", \"clusters_pca\": 2, \"x\": 0.0, \"y\": 0.0}, {\"ethnicity\": \"bipoc\", \"sex\": \"male\", \"age\": \"adult\", \"label\": \"happiness\", \"url\": \"https://uwmadison.co1.qualtrics.com/ControlPanel/Graphic.php?IM=IM_aVKZzBmzWSoXCXY\", \"photoId\": \" Q28.1\", \"clusters_pca\": 2, \"x\": 0.25, \"y\": 0.0}, {\"ethnicity\": \"white\", \"sex\": \"female\", \"age\": \"adult\", \"label\": \"happiness\", \"url\": \"https://uwmadison.co1.qualtrics.com/ControlPanel/Graphic.php?IM=IM_6hVt2pmEYV6YLwG\", \"photoId\": \" Q30.1\", \"clusters_pca\": 2, \"x\": 0.5, \"y\": 0.0}, {\"ethnicity\": \"white\", \"sex\": \"female\", \"age\": \"child\", \"label\": \"happiness\", \"url\": \"https://uwmadison.co1.qualtrics.com/ControlPanel/Graphic.php?IM=IM_9shhhARAg1o8QcK\", \"photoId\": \" Q31.1\", \"clusters_pca\": 2, \"x\": 0.75, \"y\": 0.0}, {\"ethnicity\": \"white\", \"sex\": \"male\", \"age\": \"child\", \"label\": \"happiness\", \"url\": \"https://uwmadison.co1.qualtrics.com/ControlPanel/Graphic.php?IM=IM_0lBpULniZBM24Pc\", \"photoId\": \" Q33.1\", \"clusters_pca\": 2, \"x\": 1.0, \"y\": 0.0}, {\"ethnicity\": \"bipoc\", \"sex\": \"female\", \"age\": \"adult\", \"label\": \"happiness\", \"url\": \"https://uwmadison.co1.qualtrics.com/ControlPanel/Graphic.php?IM=IM_0xPTvIpG1sPU3QO\", \"photoId\": \" Q91.1\", \"clusters_pca\": 2, \"x\": 0.0, \"y\": 0.25}, {\"ethnicity\": \"bipoc\", \"sex\": \"female\", \"age\": \"child\", \"label\": \"happiness\", \"url\": \"https://uwmadison.co1.qualtrics.com/ControlPanel/Graphic.php?IM=IM_cGTIBhdTVZFLwdE\", \"photoId\": \" Q92.1\", \"clusters_pca\": 2, \"x\": 0.25, \"y\": 0.25}, {\"ethnicity\": \"bipoc\", \"sex\": \"male\", \"age\": \"adult\", \"label\": \"happiness\", \"url\": \"https://uwmadison.co1.qualtrics.com/ControlPanel/Graphic.php?IM=IM_bEDlxRqiOdpCl1Q\", \"photoId\": \" Q93.1\", \"clusters_pca\": 2, \"x\": 0.5, \"y\": 0.25}, {\"ethnicity\": \"bipoc\", \"sex\": \"male\", \"age\": \"child\", \"label\": \"happiness\", \"url\": \"https://uwmadison.co1.qualtrics.com/ControlPanel/Graphic.php?IM=IM_0UkPGjTodmzqM9U\", \"photoId\": \" Q94.1\", \"clusters_pca\": 2, \"x\": 0.75, \"y\": 0.25}, {\"ethnicity\": \"white\", \"sex\": \"female\", \"age\": \"adult\", \"label\": \"happiness\", \"url\": \"https://uwmadison.co1.qualtrics.com/ControlPanel/Graphic.php?IM=IM_3sodPsRm6g6as06\", \"photoId\": \" Q95.1\", \"clusters_pca\": 2, \"x\": 1.0, \"y\": 0.25}, {\"ethnicity\": \"white\", \"sex\": \"male\", \"age\": \"adult\", \"label\": \"happiness\", \"url\": \"https://uwmadison.co1.qualtrics.com/ControlPanel/Graphic.php?IM=IM_ewCuSR8n6UYi2MK\", \"photoId\": \" Q97.1\", \"clusters_pca\": 2, \"x\": 0.0, \"y\": 0.5}, {\"ethnicity\": \"white\", \"sex\": \"male\", \"age\": \"child\", \"label\": \"happiness\", \"url\": \"https://uwmadison.co1.qualtrics.com/ControlPanel/Graphic.php?IM=IM_2hrynYgwGLMuDUG\", \"photoId\": \" Q98.1\", \"clusters_pca\": 2, \"x\": 0.25, \"y\": 0.5}, {\"ethnicity\": \"bipoc\", \"sex\": \"female\", \"age\": \"adult\", \"label\": \"happiness\", \"url\": \"https://uwmadison.co1.qualtrics.com/ControlPanel/Graphic.php?IM=IM_0GtSGAki0COJYO2\", \"photoId\": \" Q156.1\", \"clusters_pca\": 2, \"x\": 0.5, \"y\": 0.5}, {\"ethnicity\": \"bipoc\", \"sex\": \"male\", \"age\": \"child\", \"label\": \"happiness\", \"url\": \"https://uwmadison.co1.qualtrics.com/ControlPanel/Graphic.php?IM=IM_d060VdjZY82W38W\", \"photoId\": \" Q159.1\", \"clusters_pca\": 2, \"x\": 0.75, \"y\": 0.5}, {\"ethnicity\": \"white\", \"sex\": \"female\", \"age\": \"adult\", \"label\": \"happiness\", \"url\": \"https://uwmadison.co1.qualtrics.com/ControlPanel/Graphic.php?IM=IM_57Gr1XAHK9uhWES\", \"photoId\": \" Q160.1\", \"clusters_pca\": 2, \"x\": 1.0, \"y\": 0.5}, {\"ethnicity\": \"bipoc\", \"sex\": \"female\", \"age\": \"adult\", \"label\": \"uncertain\", \"url\": \"https://uwmadison.co1.qualtrics.com/ControlPanel/Graphic.php?IM=IM_bHLXUfPyLDklutg\", \"photoId\": \" Q188.1\", \"clusters_pca\": 2, \"x\": 0.0, \"y\": 0.75}, {\"ethnicity\": \"bipoc\", \"sex\": \"female\", \"age\": \"child\", \"label\": \"uncertain\", \"url\": \"https://uwmadison.co1.qualtrics.com/ControlPanel/Graphic.php?IM=IM_0MzywJJUHEiadCe\", \"photoId\": \" Q189.1\", \"clusters_pca\": 2, \"x\": 0.25, \"y\": 0.75}], \"data-8943951ebd25c3b174ed82794a3a4e88\": [{\"ethnicity\": \"bipoc\", \"sex\": \"female\", \"age\": \"adult\", \"label\": \"disgust\", \"url\": \"https://uwmadison.co1.qualtrics.com/ControlPanel/Graphic.php?IM=IM_cvFjQlP07m9S7VY\", \"photoId\": \" Q10.1\", \"clusters_pca\": 3, \"x\": 0.0, \"y\": 0.0}, {\"ethnicity\": \"white\", \"sex\": \"female\", \"age\": \"child\", \"label\": \"disgust\", \"url\": \"https://uwmadison.co1.qualtrics.com/ControlPanel/Graphic.php?IM=IM_51ruTTJP1FaUeX4\", \"photoId\": \" Q15.1\", \"clusters_pca\": 3, \"x\": 0.14285714285714285, \"y\": 0.0}, {\"ethnicity\": \"white\", \"sex\": \"male\", \"age\": \"adult\", \"label\": \"disgust\", \"url\": \"https://uwmadison.co1.qualtrics.com/ControlPanel/Graphic.php?IM=IM_4Iuz8TahQUf5rCu\", \"photoId\": \" Q16.1\", \"clusters_pca\": 3, \"x\": 0.2857142857142857, \"y\": 0.0}, {\"ethnicity\": \"bipoc\", \"sex\": \"female\", \"age\": \"child\", \"label\": \"fear\", \"url\": \"https://uwmadison.co1.qualtrics.com/ControlPanel/Graphic.php?IM=IM_4HJDfrqWWlJ7wRU\", \"photoId\": \" Q19.1\", \"clusters_pca\": 3, \"x\": 0.42857142857142855, \"y\": 0.0}, {\"ethnicity\": \"bipoc\", \"sex\": \"male\", \"age\": \"child\", \"label\": \"fear\", \"url\": \"https://uwmadison.co1.qualtrics.com/ControlPanel/Graphic.php?IM=IM_aY2MoY6bfggUc9E\", \"photoId\": \" Q21.1\", \"clusters_pca\": 3, \"x\": 0.5714285714285714, \"y\": 0.0}, {\"ethnicity\": \"white\", \"sex\": \"female\", \"age\": \"adult\", \"label\": \"fear\", \"url\": \"https://uwmadison.co1.qualtrics.com/ControlPanel/Graphic.php?IM=IM_1H2GqqCbhjjnp3g\", \"photoId\": \" Q22.1\", \"clusters_pca\": 3, \"x\": 0.7142857142857142, \"y\": 0.0}, {\"ethnicity\": \"white\", \"sex\": \"male\", \"age\": \"adult\", \"label\": \"fear\", \"url\": \"https://uwmadison.co1.qualtrics.com/ControlPanel/Graphic.php?IM=IM_1z4YnfSQVdhj1Rk\", \"photoId\": \" Q24.1\", \"clusters_pca\": 3, \"x\": 0.8571428571428571, \"y\": 0.0}, {\"ethnicity\": \"white\", \"sex\": \"male\", \"age\": \"child\", \"label\": \"fear\", \"url\": \"https://uwmadison.co1.qualtrics.com/ControlPanel/Graphic.php?IM=IM_24ukMlBx2IZMMuO\", \"photoId\": \" Q25.1\", \"clusters_pca\": 3, \"x\": 1.0, \"y\": 0.0}, {\"ethnicity\": \"bipoc\", \"sex\": \"male\", \"age\": \"child\", \"label\": \"happiness\", \"url\": \"https://uwmadison.co1.qualtrics.com/ControlPanel/Graphic.php?IM=IM_da53a1yGEedpOJg\", \"photoId\": \" Q29.1\", \"clusters_pca\": 3, \"x\": 0.0, \"y\": 0.14285714285714285}, {\"ethnicity\": \"white\", \"sex\": \"male\", \"age\": \"adult\", \"label\": \"happiness\", \"url\": \"https://uwmadison.co1.qualtrics.com/ControlPanel/Graphic.php?IM=IM_3CWGONIxkNEfLbU\", \"photoId\": \" Q32.1\", \"clusters_pca\": 3, \"x\": 0.14285714285714285, \"y\": 0.14285714285714285}, {\"ethnicity\": \"bipoc\", \"sex\": \"female\", \"age\": \"adult\", \"label\": \"surprise\", \"url\": \"https://uwmadison.co1.qualtrics.com/ControlPanel/Graphic.php?IM=IM_8FZs4DGyzYKeKQ6\", \"photoId\": \" Q50.1\", \"clusters_pca\": 3, \"x\": 0.2857142857142857, \"y\": 0.14285714285714285}, {\"ethnicity\": \"bipoc\", \"sex\": \"female\", \"age\": \"child\", \"label\": \"surprise\", \"url\": \"https://uwmadison.co1.qualtrics.com/ControlPanel/Graphic.php?IM=IM_06dsRWFrfc92PVI\", \"photoId\": \" Q51.1\", \"clusters_pca\": 3, \"x\": 0.42857142857142855, \"y\": 0.14285714285714285}, {\"ethnicity\": \"bipoc\", \"sex\": \"male\", \"age\": \"adult\", \"label\": \"surprise\", \"url\": \"https://uwmadison.co1.qualtrics.com/ControlPanel/Graphic.php?IM=IM_0JI5joczfCXyM4K\", \"photoId\": \" Q52.1\", \"clusters_pca\": 3, \"x\": 0.5714285714285714, \"y\": 0.14285714285714285}, {\"ethnicity\": \"bipoc\", \"sex\": \"male\", \"age\": \"child\", \"label\": \"surprise\", \"url\": \"https://uwmadison.co1.qualtrics.com/ControlPanel/Graphic.php?IM=IM_39MTmWdmGCliDga\", \"photoId\": \" Q53.1\", \"clusters_pca\": 3, \"x\": 0.7142857142857142, \"y\": 0.14285714285714285}, {\"ethnicity\": \"white\", \"sex\": \"female\", \"age\": \"adult\", \"label\": \"surprise\", \"url\": \"https://uwmadison.co1.qualtrics.com/ControlPanel/Graphic.php?IM=IM_1X6032Sa3Q1kaKa\", \"photoId\": \" Q54.1\", \"clusters_pca\": 3, \"x\": 0.8571428571428571, \"y\": 0.14285714285714285}, {\"ethnicity\": \"white\", \"sex\": \"female\", \"age\": \"child\", \"label\": \"surprise\", \"url\": \"https://uwmadison.co1.qualtrics.com/ControlPanel/Graphic.php?IM=IM_ah0qjH5kqDuQUhE\", \"photoId\": \" Q55.1\", \"clusters_pca\": 3, \"x\": 1.0, \"y\": 0.14285714285714285}, {\"ethnicity\": \"white\", \"sex\": \"male\", \"age\": \"adult\", \"label\": \"surprise\", \"url\": \"https://uwmadison.co1.qualtrics.com/ControlPanel/Graphic.php?IM=IM_9yvGSAqzpAmAcT4\", \"photoId\": \" Q56.1\", \"clusters_pca\": 3, \"x\": 0.0, \"y\": 0.2857142857142857}, {\"ethnicity\": \"white\", \"sex\": \"male\", \"age\": \"child\", \"label\": \"surprise\", \"url\": \"https://uwmadison.co1.qualtrics.com/ControlPanel/Graphic.php?IM=IM_dmTME6d2MAg1Tb8\", \"photoId\": \" Q57.1\", \"clusters_pca\": 3, \"x\": 0.14285714285714285, \"y\": 0.2857142857142857}, {\"ethnicity\": \"bipoc\", \"sex\": \"female\", \"age\": \"adult\", \"label\": \"uncertain\", \"url\": \"https://uwmadison.co1.qualtrics.com/ControlPanel/Graphic.php?IM=IM_6x0zlBArY56cHem\", \"photoId\": \" Q58.1\", \"clusters_pca\": 3, \"x\": 0.2857142857142857, \"y\": 0.2857142857142857}, {\"ethnicity\": \"bipoc\", \"sex\": \"male\", \"age\": \"adult\", \"label\": \"uncertain\", \"url\": \"https://uwmadison.co1.qualtrics.com/ControlPanel/Graphic.php?IM=IM_8feaAnE3DavOGFg\", \"photoId\": \" Q60.1\", \"clusters_pca\": 3, \"x\": 0.42857142857142855, \"y\": 0.2857142857142857}, {\"ethnicity\": \"white\", \"sex\": \"male\", \"age\": \"adult\", \"label\": \"uncertain\", \"url\": \"https://uwmadison.co1.qualtrics.com/ControlPanel/Graphic.php?IM=IM_81e4y8XbeDW4Ew6\", \"photoId\": \" Q64.1\", \"clusters_pca\": 3, \"x\": 0.5714285714285714, \"y\": 0.2857142857142857}, {\"ethnicity\": \"white\", \"sex\": \"male\", \"age\": \"child\", \"label\": \"uncertain\", \"url\": \"https://uwmadison.co1.qualtrics.com/ControlPanel/Graphic.php?IM=IM_6lfDwHho7YysGIS\", \"photoId\": \" Q65.1\", \"clusters_pca\": 3, \"x\": 0.7142857142857142, \"y\": 0.2857142857142857}, {\"ethnicity\": null, \"sex\": null, \"age\": null, \"label\": \"attention\", \"url\": \"https://uwmadison.co1.qualtrics.com/ControlPanel/Graphic.php?IM=IM_bHKuEbEutfv7zuu\", \"photoId\": \" Q66.1\", \"clusters_pca\": 3, \"x\": 0.8571428571428571, \"y\": 0.2857142857142857}, {\"ethnicity\": \"bipoc\", \"sex\": \"female\", \"age\": \"child\", \"label\": \"disgust\", \"url\": \"https://uwmadison.co1.qualtrics.com/ControlPanel/Graphic.php?IM=IM_e9BJyTeFPLQ7ZUq\", \"photoId\": \" Q76.1\", \"clusters_pca\": 3, \"x\": 1.0, \"y\": 0.2857142857142857}, {\"ethnicity\": \"white\", \"sex\": \"female\", \"age\": \"adult\", \"label\": \"disgust\", \"url\": \"https://uwmadison.co1.qualtrics.com/ControlPanel/Graphic.php?IM=IM_5hkOSrFORUoHopM\", \"photoId\": \" Q79.1\", \"clusters_pca\": 3, \"x\": 0.0, \"y\": 0.42857142857142855}, {\"ethnicity\": \"bipoc\", \"sex\": \"female\", \"age\": \"adult\", \"label\": \"fear\", \"url\": \"https://uwmadison.co1.qualtrics.com/ControlPanel/Graphic.php?IM=IM_9tzXvOnfZ589gH4\", \"photoId\": \" Q83.1\", \"clusters_pca\": 3, \"x\": 0.14285714285714285, \"y\": 0.42857142857142855}, {\"ethnicity\": \"bipoc\", \"sex\": \"male\", \"age\": \"adult\", \"label\": \"fear\", \"url\": \"https://uwmadison.co1.qualtrics.com/ControlPanel/Graphic.php?IM=IM_e3vAzbw1fMlXZyu\", \"photoId\": \" Q85.1\", \"clusters_pca\": 3, \"x\": 0.2857142857142857, \"y\": 0.42857142857142855}, {\"ethnicity\": \"white\", \"sex\": \"female\", \"age\": \"child\", \"label\": \"fear\", \"url\": \"https://uwmadison.co1.qualtrics.com/ControlPanel/Graphic.php?IM=IM_40G6uAIeohgXMGi\", \"photoId\": \" Q88.1\", \"clusters_pca\": 3, \"x\": 0.42857142857142855, \"y\": 0.42857142857142855}, {\"ethnicity\": \"white\", \"sex\": \"female\", \"age\": \"child\", \"label\": \"happiness\", \"url\": \"https://uwmadison.co1.qualtrics.com/ControlPanel/Graphic.php?IM=IM_aWrmbq9vyHFZmTk\", \"photoId\": \" Q96.1\", \"clusters_pca\": 3, \"x\": 0.5714285714285714, \"y\": 0.42857142857142855}, {\"ethnicity\": \"bipoc\", \"sex\": \"female\", \"age\": \"adult\", \"label\": \"surprise\", \"url\": \"https://uwmadison.co1.qualtrics.com/ControlPanel/Graphic.php?IM=IM_bjThcsBImEknzmu\", \"photoId\": \" Q115.1\", \"clusters_pca\": 3, \"x\": 0.7142857142857142, \"y\": 0.42857142857142855}, {\"ethnicity\": \"bipoc\", \"sex\": \"male\", \"age\": \"adult\", \"label\": \"surprise\", \"url\": \"https://uwmadison.co1.qualtrics.com/ControlPanel/Graphic.php?IM=IM_aaEwobdBBZ4nn02\", \"photoId\": \" Q117.1\", \"clusters_pca\": 3, \"x\": 0.8571428571428571, \"y\": 0.42857142857142855}, {\"ethnicity\": \"bipoc\", \"sex\": \"male\", \"age\": \"child\", \"label\": \"surprise\", \"url\": \"https://uwmadison.co1.qualtrics.com/ControlPanel/Graphic.php?IM=IM_cwfzFfgNMrzdDeu\", \"photoId\": \" Q118.1\", \"clusters_pca\": 3, \"x\": 1.0, \"y\": 0.42857142857142855}, {\"ethnicity\": \"white\", \"sex\": \"female\", \"age\": \"adult\", \"label\": \"surprise\", \"url\": \"https://uwmadison.co1.qualtrics.com/ControlPanel/Graphic.php?IM=IM_2s03op8efMn39Eq\", \"photoId\": \" Q119.1\", \"clusters_pca\": 3, \"x\": 0.0, \"y\": 0.5714285714285714}, {\"ethnicity\": \"white\", \"sex\": \"male\", \"age\": \"adult\", \"label\": \"surprise\", \"url\": \"https://uwmadison.co1.qualtrics.com/ControlPanel/Graphic.php?IM=IM_2004WZkMOAt3rVk\", \"photoId\": \" Q121.1\", \"clusters_pca\": 3, \"x\": 0.14285714285714285, \"y\": 0.5714285714285714}, {\"ethnicity\": \"bipoc\", \"sex\": \"male\", \"age\": \"adult\", \"label\": \"uncertain\", \"url\": \"https://uwmadison.co1.qualtrics.com/ControlPanel/Graphic.php?IM=IM_afrF8KFiXbEcR2S\", \"photoId\": \" Q125.1\", \"clusters_pca\": 3, \"x\": 0.2857142857142857, \"y\": 0.5714285714285714}, {\"ethnicity\": \"white\", \"sex\": \"female\", \"age\": \"adult\", \"label\": \"uncertain\", \"url\": \"https://uwmadison.co1.qualtrics.com/ControlPanel/Graphic.php?IM=IM_4Z2olPR08fo1FQO\", \"photoId\": \" Q127.1\", \"clusters_pca\": 3, \"x\": 0.42857142857142855, \"y\": 0.5714285714285714}, {\"ethnicity\": \"white\", \"sex\": \"male\", \"age\": \"child\", \"label\": \"uncertain\", \"url\": \"https://uwmadison.co1.qualtrics.com/ControlPanel/Graphic.php?IM=IM_eMb3pnSJgKC0VFk\", \"photoId\": \" Q130.1\", \"clusters_pca\": 3, \"x\": 0.5714285714285714, \"y\": 0.5714285714285714}, {\"ethnicity\": null, \"sex\": null, \"age\": null, \"label\": \"attention\", \"url\": \"https://uwmadison.co1.qualtrics.com/ControlPanel/Graphic.php?IM=IM_e2rLzge28QpFG6y\", \"photoId\": \" Q131.1\", \"clusters_pca\": 3, \"x\": 0.7142857142857142, \"y\": 0.5714285714285714}, {\"ethnicity\": \"white\", \"sex\": \"female\", \"age\": \"adult\", \"label\": \"disgust\", \"url\": \"https://uwmadison.co1.qualtrics.com/ControlPanel/Graphic.php?IM=IM_eKdiMX7YPesWOlU\", \"photoId\": \" Q144.1\", \"clusters_pca\": 3, \"x\": 0.8571428571428571, \"y\": 0.5714285714285714}, {\"ethnicity\": \"white\", \"sex\": \"male\", \"age\": \"adult\", \"label\": \"disgust\", \"url\": \"https://uwmadison.co1.qualtrics.com/ControlPanel/Graphic.php?IM=IM_1zU5YqWz2acbM8K\", \"photoId\": \" Q146.1\", \"clusters_pca\": 3, \"x\": 1.0, \"y\": 0.5714285714285714}, {\"ethnicity\": \"white\", \"sex\": \"male\", \"age\": \"adult\", \"label\": \"fear\", \"url\": \"https://uwmadison.co1.qualtrics.com/ControlPanel/Graphic.php?IM=IM_4Z1hhf1G3PvXBci\", \"photoId\": \" Q154.1\", \"clusters_pca\": 3, \"x\": 0.0, \"y\": 0.7142857142857142}, {\"ethnicity\": \"white\", \"sex\": \"male\", \"age\": \"child\", \"label\": \"fear\", \"url\": \"https://uwmadison.co1.qualtrics.com/ControlPanel/Graphic.php?IM=IM_9mNPsRAgBbHenPM\", \"photoId\": \" Q155.1\", \"clusters_pca\": 3, \"x\": 0.14285714285714285, \"y\": 0.7142857142857142}, {\"ethnicity\": \"bipoc\", \"sex\": \"male\", \"age\": \"adult\", \"label\": \"happiness\", \"url\": \"https://uwmadison.co1.qualtrics.com/ControlPanel/Graphic.php?IM=IM_agxa9UIrTk07jxQ\", \"photoId\": \" Q158.1\", \"clusters_pca\": 3, \"x\": 0.2857142857142857, \"y\": 0.7142857142857142}, {\"ethnicity\": \"white\", \"sex\": \"female\", \"age\": \"child\", \"label\": \"happiness\", \"url\": \"https://uwmadison.co1.qualtrics.com/ControlPanel/Graphic.php?IM=IM_d5NMiWqa2jpUDLo\", \"photoId\": \" Q161.1\", \"clusters_pca\": 3, \"x\": 0.42857142857142855, \"y\": 0.7142857142857142}, {\"ethnicity\": \"white\", \"sex\": \"male\", \"age\": \"adult\", \"label\": \"happiness\", \"url\": \"https://uwmadison.co1.qualtrics.com/ControlPanel/Graphic.php?IM=IM_3NR7AkPxBUkdOQe\", \"photoId\": \" Q162.1\", \"clusters_pca\": 3, \"x\": 0.5714285714285714, \"y\": 0.7142857142857142}, {\"ethnicity\": \"white\", \"sex\": \"male\", \"age\": \"child\", \"label\": \"happiness\", \"url\": \"https://uwmadison.co1.qualtrics.com/ControlPanel/Graphic.php?IM=IM_eWnGys8SLE5J3Cu\", \"photoId\": \" Q163.1\", \"clusters_pca\": 3, \"x\": 0.7142857142857142, \"y\": 0.7142857142857142}, {\"ethnicity\": \"bipoc\", \"sex\": \"female\", \"age\": \"adult\", \"label\": \"surprise\", \"url\": \"https://uwmadison.co1.qualtrics.com/ControlPanel/Graphic.php?IM=IM_aXfd0rmn8jfxoQ6\", \"photoId\": \" Q180.1\", \"clusters_pca\": 3, \"x\": 0.8571428571428571, \"y\": 0.7142857142857142}, {\"ethnicity\": \"bipoc\", \"sex\": \"female\", \"age\": \"child\", \"label\": \"surprise\", \"url\": \"https://uwmadison.co1.qualtrics.com/ControlPanel/Graphic.php?IM=IM_9Gq0h87bY58MZSu\", \"photoId\": \" Q181.1\", \"clusters_pca\": 3, \"x\": 1.0, \"y\": 0.7142857142857142}, {\"ethnicity\": \"white\", \"sex\": \"female\", \"age\": \"child\", \"label\": \"surprise\", \"url\": \"https://uwmadison.co1.qualtrics.com/ControlPanel/Graphic.php?IM=IM_eG4lj9qMfU2nUFg\", \"photoId\": \" Q185.1\", \"clusters_pca\": 3, \"x\": 0.0, \"y\": 0.8571428571428571}, {\"ethnicity\": \"white\", \"sex\": \"male\", \"age\": \"adult\", \"label\": \"surprise\", \"url\": \"https://uwmadison.co1.qualtrics.com/ControlPanel/Graphic.php?IM=IM_eIZrStbqVC3oHTo\", \"photoId\": \" Q186.1\", \"clusters_pca\": 3, \"x\": 0.14285714285714285, \"y\": 0.8571428571428571}], \"data-681d06c72577c384414a3934f9269f3b\": [{\"ethnicity\": \"bipoc\", \"sex\": \"female\", \"age\": \"adult\", \"label\": \"sadness\", \"url\": \"https://uwmadison.co1.qualtrics.com/ControlPanel/Graphic.php?IM=IM_6KEpMh9qlyvMRAa\", \"photoId\": \" Q42.1\", \"clusters_pca\": 4, \"x\": 0.0, \"y\": 0.0}, {\"ethnicity\": \"bipoc\", \"sex\": \"female\", \"age\": \"child\", \"label\": \"sadness\", \"url\": \"https://uwmadison.co1.qualtrics.com/ControlPanel/Graphic.php?IM=IM_etimLaMrS2pVAAS\", \"photoId\": \" Q43.1\", \"clusters_pca\": 4, \"x\": 0.5, \"y\": 0.0}, {\"ethnicity\": \"bipoc\", \"sex\": \"male\", \"age\": \"adult\", \"label\": \"sadness\", \"url\": \"https://uwmadison.co1.qualtrics.com/ControlPanel/Graphic.php?IM=IM_dbf2dyj7KGtrN2e\", \"photoId\": \" Q44.1\", \"clusters_pca\": 4, \"x\": 1.0, \"y\": 0.0}, {\"ethnicity\": \"bipoc\", \"sex\": \"female\", \"age\": \"child\", \"label\": \"fear\", \"url\": \"https://uwmadison.co1.qualtrics.com/ControlPanel/Graphic.php?IM=IM_0BVeUJelcjahWwC\", \"photoId\": \" Q84.1\", \"clusters_pca\": 4, \"x\": 0.0, \"y\": 0.5}, {\"ethnicity\": \"bipoc\", \"sex\": \"male\", \"age\": \"adult\", \"label\": \"sadness\", \"url\": \"https://uwmadison.co1.qualtrics.com/ControlPanel/Graphic.php?IM=IM_dahScWh9wdBUhlY\", \"photoId\": \" Q109.1\", \"clusters_pca\": 4, \"x\": 0.5, \"y\": 0.5}, {\"ethnicity\": \"white\", \"sex\": \"female\", \"age\": \"child\", \"label\": \"sadness\", \"url\": \"https://uwmadison.co1.qualtrics.com/ControlPanel/Graphic.php?IM=IM_0pqIA60jUTgdaQe\", \"photoId\": \" Q112.1\", \"clusters_pca\": 4, \"x\": 1.0, \"y\": 0.5}, {\"ethnicity\": \"white\", \"sex\": \"male\", \"age\": \"child\", \"label\": \"sadness\", \"url\": \"https://uwmadison.co1.qualtrics.com/ControlPanel/Graphic.php?IM=IM_5au9MLWYoSZyrj0\", \"photoId\": \" Q114.1\", \"clusters_pca\": 4, \"x\": 0.0, \"y\": 1.0}, {\"ethnicity\": \"white\", \"sex\": \"male\", \"age\": \"child\", \"label\": \"sadness\", \"url\": \"https://uwmadison.co1.qualtrics.com/ControlPanel/Graphic.php?IM=IM_cSZwt3HTocE50jk\", \"photoId\": \" Q179.1\", \"clusters_pca\": 4, \"x\": 0.5, \"y\": 1.0}], \"data-da2704e9eb313194abfb5e17b191f304\": [{\"ethnicity\": \"bipoc\", \"sex\": \"female\", \"age\": \"child\", \"label\": \"anger\", \"url\": \"https://uwmadison.co1.qualtrics.com/ControlPanel/Graphic.php?IM=IM_37SAhyROGBWVpVs\", \"photoId\": \" Q3.1\", \"clusters_pca\": 5, \"x\": 0.0, \"y\": 0.0}, {\"ethnicity\": \"bipoc\", \"sex\": \"male\", \"age\": \"adult\", \"label\": \"anger\", \"url\": \"https://uwmadison.co1.qualtrics.com/ControlPanel/Graphic.php?IM=IM_3QLhY3LefdXzwfI\", \"photoId\": \" Q4.1\", \"clusters_pca\": 5, \"x\": 0.3333333333333333, \"y\": 0.0}, {\"ethnicity\": \"white\", \"sex\": \"female\", \"age\": \"adult\", \"label\": \"anger\", \"url\": \"https://uwmadison.co1.qualtrics.com/ControlPanel/Graphic.php?IM=IM_1Amo6fqrutcZYZo\", \"photoId\": \" Q6.1\", \"clusters_pca\": 5, \"x\": 0.6666666666666666, \"y\": 0.0}, {\"ethnicity\": \"white\", \"sex\": \"female\", \"age\": \"child\", \"label\": \"anger\", \"url\": \"https://uwmadison.co1.qualtrics.com/ControlPanel/Graphic.php?IM=IM_1XqAx3FzoRDFZt4\", \"photoId\": \" Q7.1\", \"clusters_pca\": 5, \"x\": 1.0, \"y\": 0.0}, {\"ethnicity\": \"bipoc\", \"sex\": \"female\", \"age\": \"adult\", \"label\": \"anger\", \"url\": \"https://uwmadison.co1.qualtrics.com/ControlPanel/Graphic.php?IM=IM_6J5KVNyTENDNC4K\", \"photoId\": \" Q67.1\", \"clusters_pca\": 5, \"x\": 0.0, \"y\": 0.3333333333333333}, {\"ethnicity\": \"bipoc\", \"sex\": \"male\", \"age\": \"child\", \"label\": \"anger\", \"url\": \"https://uwmadison.co1.qualtrics.com/ControlPanel/Graphic.php?IM=IM_82jdttMjk3552E6\", \"photoId\": \" Q70.1\", \"clusters_pca\": 5, \"x\": 0.3333333333333333, \"y\": 0.3333333333333333}, {\"ethnicity\": \"white\", \"sex\": \"male\", \"age\": \"adult\", \"label\": \"anger\", \"url\": \"https://uwmadison.co1.qualtrics.com/ControlPanel/Graphic.php?IM=IM_eb7s42ZIPiC9Z66\", \"photoId\": \" Q73.1\", \"clusters_pca\": 5, \"x\": 0.6666666666666666, \"y\": 0.3333333333333333}, {\"ethnicity\": \"bipoc\", \"sex\": \"male\", \"age\": \"child\", \"label\": \"disgust\", \"url\": \"https://uwmadison.co1.qualtrics.com/ControlPanel/Graphic.php?IM=IM_bjzYq2UEKkXH7aC\", \"photoId\": \" Q78.1\", \"clusters_pca\": 5, \"x\": 1.0, \"y\": 0.3333333333333333}, {\"ethnicity\": \"bipoc\", \"sex\": \"female\", \"age\": \"child\", \"label\": \"anger\", \"url\": \"https://uwmadison.co1.qualtrics.com/ControlPanel/Graphic.php?IM=IM_824LzNsLYNku2OO\", \"photoId\": \" Q133.1\", \"clusters_pca\": 5, \"x\": 0.0, \"y\": 0.6666666666666666}, {\"ethnicity\": \"bipoc\", \"sex\": \"male\", \"age\": \"child\", \"label\": \"anger\", \"url\": \"https://uwmadison.co1.qualtrics.com/ControlPanel/Graphic.php?IM=IM_3rsoVFgV6TcS9fg\", \"photoId\": \" Q135.1\", \"clusters_pca\": 5, \"x\": 0.3333333333333333, \"y\": 0.6666666666666666}, {\"ethnicity\": \"white\", \"sex\": \"female\", \"age\": \"adult\", \"label\": \"anger\", \"url\": \"https://uwmadison.co1.qualtrics.com/ControlPanel/Graphic.php?IM=IM_cPfESJKHoFDaWUe\", \"photoId\": \" Q136.1\", \"clusters_pca\": 5, \"x\": 0.6666666666666666, \"y\": 0.6666666666666666}, {\"ethnicity\": \"white\", \"sex\": \"female\", \"age\": \"child\", \"label\": \"anger\", \"url\": \"https://uwmadison.co1.qualtrics.com/ControlPanel/Graphic.php?IM=IM_bHfE8z5stIRm0zI\", \"photoId\": \" Q137.1\", \"clusters_pca\": 5, \"x\": 1.0, \"y\": 0.6666666666666666}], \"data-b4c33aa95d689c998de7d1b4d6eb22fe\": [{\"ethnicity\": \"white\", \"sex\": \"male\", \"age\": \"adult\", \"label\": \"anger\", \"url\": \"https://uwmadison.co1.qualtrics.com/ControlPanel/Graphic.php?IM=IM_7PC2cgcyr5yUiOy\", \"photoId\": \" Q8.1\", \"clusters_pca\": 6, \"x\": 0.0, \"y\": 0.0}, {\"ethnicity\": \"bipoc\", \"sex\": \"female\", \"age\": \"child\", \"label\": \"disgust\", \"url\": \"https://uwmadison.co1.qualtrics.com/ControlPanel/Graphic.php?IM=IM_4Zxryb4o2ZDgHDo\", \"photoId\": \" Q11.1\", \"clusters_pca\": 6, \"x\": 0.3333333333333333, \"y\": 0.0}, {\"ethnicity\": \"bipoc\", \"sex\": \"male\", \"age\": \"adult\", \"label\": \"disgust\", \"url\": \"https://uwmadison.co1.qualtrics.com/ControlPanel/Graphic.php?IM=IM_cIvdFisSzzSMNRI\", \"photoId\": \" Q12.1\", \"clusters_pca\": 6, \"x\": 0.6666666666666666, \"y\": 0.0}, {\"ethnicity\": \"white\", \"sex\": \"male\", \"age\": \"child\", \"label\": \"disgust\", \"url\": \"https://uwmadison.co1.qualtrics.com/ControlPanel/Graphic.php?IM=IM_3dtGv9tzZmLa4Cy\", \"photoId\": \" Q17.1\", \"clusters_pca\": 6, \"x\": 1.0, \"y\": 0.0}, {\"ethnicity\": \"white\", \"sex\": \"female\", \"age\": \"child\", \"label\": \"anger\", \"url\": \"https://uwmadison.co1.qualtrics.com/ControlPanel/Graphic.php?IM=IM_3QtW28KFGllSVBI\", \"photoId\": \" Q72.1\", \"clusters_pca\": 6, \"x\": 0.0, \"y\": 0.3333333333333333}, {\"ethnicity\": \"white\", \"sex\": \"male\", \"age\": \"child\", \"label\": \"anger\", \"url\": \"https://uwmadison.co1.qualtrics.com/ControlPanel/Graphic.php?IM=IM_dhTzFnZMWrTfBGK\", \"photoId\": \" Q74.1\", \"clusters_pca\": 6, \"x\": 0.3333333333333333, \"y\": 0.3333333333333333}, {\"ethnicity\": \"white\", \"sex\": \"female\", \"age\": \"child\", \"label\": \"disgust\", \"url\": \"https://uwmadison.co1.qualtrics.com/ControlPanel/Graphic.php?IM=IM_244QOC2to2Jetca\", \"photoId\": \" Q80.1\", \"clusters_pca\": 6, \"x\": 0.6666666666666666, \"y\": 0.3333333333333333}, {\"ethnicity\": \"white\", \"sex\": \"male\", \"age\": \"child\", \"label\": \"disgust\", \"url\": \"https://uwmadison.co1.qualtrics.com/ControlPanel/Graphic.php?IM=IM_7P182C9dn0ypgtE\", \"photoId\": \" Q82.1\", \"clusters_pca\": 6, \"x\": 1.0, \"y\": 0.3333333333333333}, {\"ethnicity\": \"bipoc\", \"sex\": \"female\", \"age\": \"adult\", \"label\": \"disgust\", \"url\": \"https://uwmadison.co1.qualtrics.com/ControlPanel/Graphic.php?IM=IM_bsHb1M3p1kgjsF0\", \"photoId\": \" Q140.1\", \"clusters_pca\": 6, \"x\": 0.0, \"y\": 0.6666666666666666}, {\"ethnicity\": \"bipoc\", \"sex\": \"male\", \"age\": \"adult\", \"label\": \"disgust\", \"url\": \"https://uwmadison.co1.qualtrics.com/ControlPanel/Graphic.php?IM=IM_bemvKCbRtShtR0a\", \"photoId\": \" Q142.1\", \"clusters_pca\": 6, \"x\": 0.3333333333333333, \"y\": 0.6666666666666666}, {\"ethnicity\": \"white\", \"sex\": \"female\", \"age\": \"child\", \"label\": \"disgust\", \"url\": \"https://uwmadison.co1.qualtrics.com/ControlPanel/Graphic.php?IM=IM_0JVrdbvlyGSXcLI\", \"photoId\": \" Q145.1\", \"clusters_pca\": 6, \"x\": 0.6666666666666666, \"y\": 0.6666666666666666}], \"data-f693b167357c75011e562301f9e6be14\": [{\"ethnicity\": \"bipoc\", \"sex\": \"female\", \"age\": \"adult\", \"label\": \"neutral\", \"url\": \"https://uwmadison.co1.qualtrics.com/ControlPanel/Graphic.php?IM=IM_80TvOXpOXat9RxI\", \"photoId\": \" Q34.1\", \"clusters_pca\": 7, \"x\": 0.0, \"y\": 0.0}, {\"ethnicity\": \"bipoc\", \"sex\": \"male\", \"age\": \"adult\", \"label\": \"neutral\", \"url\": \"https://uwmadison.co1.qualtrics.com/ControlPanel/Graphic.php?IM=IM_cMDFM510Dzc4NKu\", \"photoId\": \" Q36.1\", \"clusters_pca\": 7, \"x\": 0.25, \"y\": 0.0}, {\"ethnicity\": \"bipoc\", \"sex\": \"female\", \"age\": \"child\", \"label\": \"uncertain\", \"url\": \"https://uwmadison.co1.qualtrics.com/ControlPanel/Graphic.php?IM=IM_9BqHT20xS13gotg\", \"photoId\": \" Q59.1\", \"clusters_pca\": 7, \"x\": 0.5, \"y\": 0.0}, {\"ethnicity\": \"bipoc\", \"sex\": \"female\", \"age\": \"child\", \"label\": \"surprise\", \"url\": \"https://uwmadison.co1.qualtrics.com/ControlPanel/Graphic.php?IM=IM_71mMacKzqNZRVpc\", \"photoId\": \" Q116.1\", \"clusters_pca\": 7, \"x\": 0.75, \"y\": 0.0}, {\"ethnicity\": \"white\", \"sex\": \"female\", \"age\": \"child\", \"label\": \"surprise\", \"url\": \"https://uwmadison.co1.qualtrics.com/ControlPanel/Graphic.php?IM=IM_3VrkAIN5BOdlfWm\", \"photoId\": \" Q120.1\", \"clusters_pca\": 7, \"x\": 1.0, \"y\": 0.0}, {\"ethnicity\": \"bipoc\", \"sex\": \"female\", \"age\": \"child\", \"label\": \"uncertain\", \"url\": \"https://uwmadison.co1.qualtrics.com/ControlPanel/Graphic.php?IM=IM_cJi6x6m1lHypqN8\", \"photoId\": \" Q124.1\", \"clusters_pca\": 7, \"x\": 0.0, \"y\": 0.25}, {\"ethnicity\": \"white\", \"sex\": \"female\", \"age\": \"child\", \"label\": \"uncertain\", \"url\": \"https://uwmadison.co1.qualtrics.com/ControlPanel/Graphic.php?IM=IM_8bHO7XfbqxRugTQ\", \"photoId\": \" Q128.1\", \"clusters_pca\": 7, \"x\": 0.25, \"y\": 0.25}, {\"ethnicity\": \"white\", \"sex\": \"male\", \"age\": \"adult\", \"label\": \"uncertain\", \"url\": \"https://uwmadison.co1.qualtrics.com/ControlPanel/Graphic.php?IM=IM_3wreUCj6TLHFC4K\", \"photoId\": \" Q129.1\", \"clusters_pca\": 7, \"x\": 0.5, \"y\": 0.25}, {\"ethnicity\": \"bipoc\", \"sex\": \"female\", \"age\": \"child\", \"label\": \"fear\", \"url\": \"https://uwmadison.co1.qualtrics.com/ControlPanel/Graphic.php?IM=IM_bHrOB3j3PtW4R0i\", \"photoId\": \" Q149.1\", \"clusters_pca\": 7, \"x\": 0.75, \"y\": 0.25}, {\"ethnicity\": \"white\", \"sex\": \"female\", \"age\": \"child\", \"label\": \"fear\", \"url\": \"https://uwmadison.co1.qualtrics.com/ControlPanel/Graphic.php?IM=IM_cBJFYlMueaaR03k\", \"photoId\": \" Q153.1\", \"clusters_pca\": 7, \"x\": 1.0, \"y\": 0.25}, {\"ethnicity\": \"bipoc\", \"sex\": \"female\", \"age\": \"child\", \"label\": \"sadness\", \"url\": \"https://uwmadison.co1.qualtrics.com/ControlPanel/Graphic.php?IM=IM_6AkMWXDnyOPXs6a\", \"photoId\": \" Q173.1\", \"clusters_pca\": 7, \"x\": 0.0, \"y\": 0.5}, {\"ethnicity\": \"bipoc\", \"sex\": \"male\", \"age\": \"child\", \"label\": \"sadness\", \"url\": \"https://uwmadison.co1.qualtrics.com/ControlPanel/Graphic.php?IM=IM_7365JYEsalfFK3c\", \"photoId\": \" Q175.1\", \"clusters_pca\": 7, \"x\": 0.25, \"y\": 0.5}, {\"ethnicity\": \"bipoc\", \"sex\": \"male\", \"age\": \"adult\", \"label\": \"surprise\", \"url\": \"https://uwmadison.co1.qualtrics.com/ControlPanel/Graphic.php?IM=IM_268vZXyUpVDK6MK\", \"photoId\": \" Q182.1\", \"clusters_pca\": 7, \"x\": 0.5, \"y\": 0.5}, {\"ethnicity\": \"bipoc\", \"sex\": \"male\", \"age\": \"child\", \"label\": \"surprise\", \"url\": \"https://uwmadison.co1.qualtrics.com/ControlPanel/Graphic.php?IM=IM_0V7AZ7Xi8jOjmXY\", \"photoId\": \" Q183.1\", \"clusters_pca\": 7, \"x\": 0.75, \"y\": 0.5}, {\"ethnicity\": \"white\", \"sex\": \"female\", \"age\": \"adult\", \"label\": \"surprise\", \"url\": \"https://uwmadison.co1.qualtrics.com/ControlPanel/Graphic.php?IM=IM_eeAoCMWS4pQvliK\", \"photoId\": \" Q184.1\", \"clusters_pca\": 7, \"x\": 1.0, \"y\": 0.5}, {\"ethnicity\": \"white\", \"sex\": \"male\", \"age\": \"child\", \"label\": \"surprise\", \"url\": \"https://uwmadison.co1.qualtrics.com/ControlPanel/Graphic.php?IM=IM_87ffNHa08KiAYbI\", \"photoId\": \" Q187.1\", \"clusters_pca\": 7, \"x\": 0.0, \"y\": 0.75}, {\"ethnicity\": \"bipoc\", \"sex\": \"male\", \"age\": \"child\", \"label\": \"uncertain\", \"url\": \"https://uwmadison.co1.qualtrics.com/ControlPanel/Graphic.php?IM=IM_5yvfzLfqBDAE8XY\", \"photoId\": \" Q191.1\", \"clusters_pca\": 7, \"x\": 0.25, \"y\": 0.75}, {\"ethnicity\": \"white\", \"sex\": \"female\", \"age\": \"adult\", \"label\": \"uncertain\", \"url\": \"https://uwmadison.co1.qualtrics.com/ControlPanel/Graphic.php?IM=IM_a64Cxa5gtL3OHKS\", \"photoId\": \" Q192.1\", \"clusters_pca\": 7, \"x\": 0.5, \"y\": 0.75}, {\"ethnicity\": \"white\", \"sex\": \"male\", \"age\": \"adult\", \"label\": \"uncertain\", \"url\": \"https://uwmadison.co1.qualtrics.com/ControlPanel/Graphic.php?IM=IM_8oGUDKsFJy6Upeu\", \"photoId\": \" Q194.1\", \"clusters_pca\": 7, \"x\": 0.75, \"y\": 0.75}], \"data-299a7c3a63380f3039e47171800f52ed\": [{\"ethnicity\": \"white\", \"sex\": \"male\", \"age\": \"child\", \"label\": \"neutral\", \"url\": \"https://uwmadison.co1.qualtrics.com/ControlPanel/Graphic.php?IM=IM_aVlK7szVW3JAA4K\", \"photoId\": \" Q41.1\", \"clusters_pca\": 8, \"x\": 0.0, \"y\": 0.0}, {\"ethnicity\": \"bipoc\", \"sex\": \"female\", \"age\": \"child\", \"label\": \"neutral\", \"url\": \"https://uwmadison.co1.qualtrics.com/ControlPanel/Graphic.php?IM=IM_5bFJqMaV53Zsy0K\", \"photoId\": \" Q100.1\", \"clusters_pca\": 8, \"x\": 0.5, \"y\": 0.0}, {\"ethnicity\": \"bipoc\", \"sex\": \"male\", \"age\": \"child\", \"label\": \"neutral\", \"url\": \"https://uwmadison.co1.qualtrics.com/ControlPanel/Graphic.php?IM=IM_bw2zfW24xOcYU9o\", \"photoId\": \" Q102.1\", \"clusters_pca\": 8, \"x\": 1.0, \"y\": 0.0}, {\"ethnicity\": \"white\", \"sex\": \"male\", \"age\": \"adult\", \"label\": \"neutral\", \"url\": \"https://uwmadison.co1.qualtrics.com/ControlPanel/Graphic.php?IM=IM_9zQEAVQQyKfTlUG\", \"photoId\": \" Q105.1\", \"clusters_pca\": 8, \"x\": 0.0, \"y\": 0.5}, {\"ethnicity\": \"bipoc\", \"sex\": \"female\", \"age\": \"adult\", \"label\": \"neutral\", \"url\": \"https://uwmadison.co1.qualtrics.com/ControlPanel/Graphic.php?IM=IM_8Bsr2LNg85rxVgW\", \"photoId\": \" Q164.1\", \"clusters_pca\": 8, \"x\": 0.5, \"y\": 0.5}, {\"ethnicity\": \"bipoc\", \"sex\": \"male\", \"age\": \"child\", \"label\": \"neutral\", \"url\": \"https://uwmadison.co1.qualtrics.com/ControlPanel/Graphic.php?IM=IM_bJGSnsoGjBoS3VY\", \"photoId\": \" Q167.1\", \"clusters_pca\": 8, \"x\": 1.0, \"y\": 0.5}, {\"ethnicity\": \"white\", \"sex\": \"female\", \"age\": \"adult\", \"label\": \"neutral\", \"url\": \"https://uwmadison.co1.qualtrics.com/ControlPanel/Graphic.php?IM=IM_87jMTnzp24Gs0US\", \"photoId\": \" Q168.1\", \"clusters_pca\": 8, \"x\": 0.0, \"y\": 1.0}, {\"ethnicity\": \"white\", \"sex\": \"female\", \"age\": \"child\", \"label\": \"neutral\", \"url\": \"https://uwmadison.co1.qualtrics.com/ControlPanel/Graphic.php?IM=IM_ePc7Ntc4cXqTP70\", \"photoId\": \" Q169.1\", \"clusters_pca\": 8, \"x\": 0.5, \"y\": 1.0}, {\"ethnicity\": \"white\", \"sex\": \"male\", \"age\": \"adult\", \"label\": \"neutral\", \"url\": \"https://uwmadison.co1.qualtrics.com/ControlPanel/Graphic.php?IM=IM_1X1sCzklzGvx2tg\", \"photoId\": \" Q170.1\", \"clusters_pca\": 8, \"x\": 1.0, \"y\": 1.0}], \"data-92670111aba232bc5d2755cf9484ee6a\": [{\"ethnicity\": \"bipoc\", \"sex\": \"male\", \"age\": \"child\", \"label\": \"disgust\", \"url\": \"https://uwmadison.co1.qualtrics.com/ControlPanel/Graphic.php?IM=IM_envzka9NlloQh7g\", \"photoId\": \" Q13.1\", \"clusters_pca\": 9, \"x\": 0.0, \"y\": 0.0}, {\"ethnicity\": \"white\", \"sex\": \"female\", \"age\": \"adult\", \"label\": \"disgust\", \"url\": \"https://uwmadison.co1.qualtrics.com/ControlPanel/Graphic.php?IM=IM_er3kGiV5nUJCkse\", \"photoId\": \" Q14.1\", \"clusters_pca\": 9, \"x\": 0.5, \"y\": 0.0}, {\"ethnicity\": \"white\", \"sex\": \"female\", \"age\": \"child\", \"label\": \"uncertain\", \"url\": \"https://uwmadison.co1.qualtrics.com/ControlPanel/Graphic.php?IM=IM_8jkP8HhjPXmgNPE\", \"photoId\": \" Q63.1\", \"clusters_pca\": 9, \"x\": 1.0, \"y\": 0.0}, {\"ethnicity\": \"white\", \"sex\": \"female\", \"age\": \"adult\", \"label\": \"anger\", \"url\": \"https://uwmadison.co1.qualtrics.com/ControlPanel/Graphic.php?IM=IM_b1KYrTe9d0HebfU\", \"photoId\": \" Q71.1\", \"clusters_pca\": 9, \"x\": 0.0, \"y\": 0.5}, {\"ethnicity\": \"bipoc\", \"sex\": \"male\", \"age\": \"adult\", \"label\": \"disgust\", \"url\": \"https://uwmadison.co1.qualtrics.com/ControlPanel/Graphic.php?IM=IM_1Zx26VAbwv9uFFQ\", \"photoId\": \" Q77.1\", \"clusters_pca\": 9, \"x\": 0.5, \"y\": 0.5}, {\"ethnicity\": \"white\", \"sex\": \"male\", \"age\": \"adult\", \"label\": \"disgust\", \"url\": \"https://uwmadison.co1.qualtrics.com/ControlPanel/Graphic.php?IM=IM_7aEgC4sWsfM5I5E\", \"photoId\": \" Q81.1\", \"clusters_pca\": 9, \"x\": 1.0, \"y\": 0.5}, {\"ethnicity\": \"bipoc\", \"sex\": \"female\", \"age\": \"adult\", \"label\": \"fear\", \"url\": \"https://uwmadison.co1.qualtrics.com/ControlPanel/Graphic.php?IM=IM_0MwMgspcIIF1ew6\", \"photoId\": \" Q148.1\", \"clusters_pca\": 9, \"x\": 0.0, \"y\": 1.0}], \"data-61ac5985d1e1217ee4e5f8f970754af9\": [{\"ethnicity\": \"bipoc\", \"sex\": \"female\", \"age\": \"adult\", \"label\": \"anger\", \"url\": \"https://uwmadison.co1.qualtrics.com/ControlPanel/Graphic.php?IM=IM_bJXdODAZHOaG0rI\", \"photoId\": \"Q2.1\", \"clusters_pca\": 10, \"x\": 0.0, \"y\": 0.0}, {\"ethnicity\": \"bipoc\", \"sex\": \"male\", \"age\": \"child\", \"label\": \"neutral\", \"url\": \"https://uwmadison.co1.qualtrics.com/ControlPanel/Graphic.php?IM=IM_aXk5I4i1e3iZEzk\", \"photoId\": \" Q37.1\", \"clusters_pca\": 10, \"x\": 0.3333333333333333, \"y\": 0.0}, {\"ethnicity\": \"bipoc\", \"sex\": \"female\", \"age\": \"adult\", \"label\": \"neutral\", \"url\": \"https://uwmadison.co1.qualtrics.com/ControlPanel/Graphic.php?IM=IM_39Riowawi2KEmV0\", \"photoId\": \" Q99.1\", \"clusters_pca\": 10, \"x\": 0.6666666666666666, \"y\": 0.0}, {\"ethnicity\": \"white\", \"sex\": \"male\", \"age\": \"adult\", \"label\": \"anger\", \"url\": \"https://uwmadison.co1.qualtrics.com/ControlPanel/Graphic.php?IM=IM_cCHIBQubXKS0CiO\", \"photoId\": \" Q138.1\", \"clusters_pca\": 10, \"x\": 1.0, \"y\": 0.0}, {\"ethnicity\": \"bipoc\", \"sex\": \"female\", \"age\": \"child\", \"label\": \"disgust\", \"url\": \"https://uwmadison.co1.qualtrics.com/ControlPanel/Graphic.php?IM=IM_0SwhYgwrLxTB3LM\", \"photoId\": \" Q141.1\", \"clusters_pca\": 10, \"x\": 0.0, \"y\": 0.3333333333333333}, {\"ethnicity\": \"bipoc\", \"sex\": \"male\", \"age\": \"adult\", \"label\": \"neutral\", \"url\": \"https://uwmadison.co1.qualtrics.com/ControlPanel/Graphic.php?IM=IM_2ubTkbpnURV3shw\", \"photoId\": \" Q166.1\", \"clusters_pca\": 10, \"x\": 0.3333333333333333, \"y\": 0.3333333333333333}, {\"ethnicity\": \"white\", \"sex\": \"male\", \"age\": \"child\", \"label\": \"neutral\", \"url\": \"https://uwmadison.co1.qualtrics.com/ControlPanel/Graphic.php?IM=IM_6EA9nLCkNjdA69M\", \"photoId\": \" Q171.1\", \"clusters_pca\": 10, \"x\": 0.6666666666666666, \"y\": 0.3333333333333333}, {\"ethnicity\": \"white\", \"sex\": \"female\", \"age\": \"child\", \"label\": \"sadness\", \"url\": \"https://uwmadison.co1.qualtrics.com/ControlPanel/Graphic.php?IM=IM_4ZMiIx0eAUH9slo\", \"photoId\": \" Q177.1\", \"clusters_pca\": 10, \"x\": 1.0, \"y\": 0.3333333333333333}], \"data-b43f5c3fc260e920e1ccee172dc7e09c\": [{\"ethnicity\": \"bipoc\", \"sex\": \"female\", \"age\": \"adult\", \"label\": \"happiness\", \"url\": \"https://uwmadison.co1.qualtrics.com/ControlPanel/Graphic.php?IM=IM_5uIGlackw1zchRY\", \"photoId\": \" Q26.1\", \"clusters_pca\": 11, \"x\": 0.0, \"y\": 0.0}, {\"ethnicity\": \"bipoc\", \"sex\": \"female\", \"age\": \"child\", \"label\": \"neutral\", \"url\": \"https://uwmadison.co1.qualtrics.com/ControlPanel/Graphic.php?IM=IM_9H2fzde2Rkxr2VU\", \"photoId\": \" Q35.1\", \"clusters_pca\": 11, \"x\": 0.25, \"y\": 0.0}, {\"ethnicity\": \"bipoc\", \"sex\": \"male\", \"age\": \"child\", \"label\": \"uncertain\", \"url\": \"https://uwmadison.co1.qualtrics.com/ControlPanel/Graphic.php?IM=IM_0v92GxoJl7KL9HM\", \"photoId\": \" Q61.1\", \"clusters_pca\": 11, \"x\": 0.5, \"y\": 0.0}, {\"ethnicity\": \"white\", \"sex\": \"female\", \"age\": \"adult\", \"label\": \"neutral\", \"url\": \"https://uwmadison.co1.qualtrics.com/ControlPanel/Graphic.php?IM=IM_bqKH78xvssoHVoG\", \"photoId\": \" Q103.1\", \"clusters_pca\": 11, \"x\": 0.75, \"y\": 0.0}, {\"ethnicity\": \"white\", \"sex\": \"male\", \"age\": \"child\", \"label\": \"neutral\", \"url\": \"https://uwmadison.co1.qualtrics.com/ControlPanel/Graphic.php?IM=IM_7PAyQLJg8l8nBSS\", \"photoId\": \" Q106.1\", \"clusters_pca\": 11, \"x\": 1.0, \"y\": 0.0}, {\"ethnicity\": \"bipoc\", \"sex\": \"female\", \"age\": \"adult\", \"label\": \"uncertain\", \"url\": \"https://uwmadison.co1.qualtrics.com/ControlPanel/Graphic.php?IM=IM_74kgKNSWDU7crjM\", \"photoId\": \" Q123.1\", \"clusters_pca\": 11, \"x\": 0.0, \"y\": 0.25}, {\"ethnicity\": \"bipoc\", \"sex\": \"female\", \"age\": \"child\", \"label\": \"happiness\", \"url\": \"https://uwmadison.co1.qualtrics.com/ControlPanel/Graphic.php?IM=IM_e2tmtlm0JLZje0S\", \"photoId\": \" Q157.1\", \"clusters_pca\": 11, \"x\": 0.25, \"y\": 0.25}, {\"ethnicity\": \"bipoc\", \"sex\": \"female\", \"age\": \"child\", \"label\": \"neutral\", \"url\": \"https://uwmadison.co1.qualtrics.com/ControlPanel/Graphic.php?IM=IM_dmqopZwVD7uBVVY\", \"photoId\": \" Q165.1\", \"clusters_pca\": 11, \"x\": 0.5, \"y\": 0.25}, {\"ethnicity\": \"white\", \"sex\": \"male\", \"age\": \"child\", \"label\": \"uncertain\", \"url\": \"https://uwmadison.co1.qualtrics.com/ControlPanel/Graphic.php?IM=IM_9tcpk2rnvGGXq7A\", \"photoId\": \" Q195.1\", \"clusters_pca\": 11, \"x\": 0.75, \"y\": 0.25}]}}, {\"renderer\": \"svg\", \"mode\": \"vega-lite\"});\n",
       "</script>"
      ],
      "text/plain": [
       "alt.VConcatChart(...)"
      ]
     },
     "metadata": {},
     "output_type": "display_data"
    }
   ],
   "source": [
    "# k_means_clusters.display(renderer='svg')"
   ]
  },
  {
   "cell_type": "markdown",
   "id": "9ff262c8-5492-4d7c-9875-b5a81011f9a5",
   "metadata": {},
   "source": [
    "# Dataframe for dashboard"
   ]
  },
  {
   "cell_type": "code",
   "execution_count": 246,
   "id": "705d64a6-a002-495b-bcee-0d00a1afc2c2",
   "metadata": {},
   "outputs": [],
   "source": [
    "images_strings = pd.DataFrame({'image_title': image_title, 'svg': svg_str})"
   ]
  },
  {
   "cell_type": "code",
   "execution_count": 247,
   "id": "fc6b220b-83b4-493b-b965-b3238933f95c",
   "metadata": {},
   "outputs": [],
   "source": [
    "images_strings.to_csv('../clean_data/free_choice_svg_strings.csv', index=False)\n",
    "images_strings.to_csv('../../emotions_dashboard/data/free_choice_svg_strings.csv', index=False)"
   ]
  },
  {
   "cell_type": "code",
   "execution_count": 248,
   "id": "d3fb4705-2200-4fcf-ba20-ecff9de7050e",
   "metadata": {},
   "outputs": [],
   "source": [
    "df_svg = pd.read_csv('../clean_data/free_choice_svg_strings.csv')"
   ]
  },
  {
   "cell_type": "code",
   "execution_count": 249,
   "id": "2e6a8e16-6cf3-4db6-a33d-e061a32d4248",
   "metadata": {},
   "outputs": [
    {
     "data": {
      "text/plain": [
       "0                            Participants by sex\n",
       "1                            Participants by age\n",
       "2                      Participants by ethnicity\n",
       "3               Participants by formal education\n",
       "4         Overall results by expected label as %\n",
       "5     Overall results by expected label as count\n",
       "6                       Images depicting 'anger'\n",
       "7                     Images depicting 'disgust'\n",
       "8                        Images depicting 'fear'\n",
       "9                    Images depicting 'surprise'\n",
       "10                  Images depicting 'happiness'\n",
       "11                    Images depicting 'sadness'\n",
       "12        Images depicting 'uncertain (unknown)'\n",
       "13                    Images depicting 'neutral'\n",
       "14                          'anger' by ethnicity\n",
       "15                        'disgust' by ethnicity\n",
       "16                           'fear' by ethnicity\n",
       "17                       'surprise' by ethnicity\n",
       "18                      'happiness' by ethnicity\n",
       "19                        'sadness' by ethnicity\n",
       "20                        'neutral' by ethnicity\n",
       "21                      'uncertain' by ethnicity\n",
       "22                            K-means evaluation\n",
       "Name: image_title, dtype: object"
      ]
     },
     "execution_count": 249,
     "metadata": {},
     "output_type": "execute_result"
    }
   ],
   "source": [
    "df_svg['image_title']"
   ]
  }
 ],
 "metadata": {
  "interpreter": {
   "hash": "0353e939db601dafb04d2c079fe964b10a82a41961934d9a2462ee642708624d"
  },
  "kernelspec": {
   "display_name": "Python 3 (ipykernel)",
   "language": "python",
   "name": "python3"
  },
  "language_info": {
   "codemirror_mode": {
    "name": "ipython",
    "version": 3
   },
   "file_extension": ".py",
   "mimetype": "text/x-python",
   "name": "python",
   "nbconvert_exporter": "python",
   "pygments_lexer": "ipython3",
   "version": "3.9.7"
  }
 },
 "nbformat": 4,
 "nbformat_minor": 5
}
