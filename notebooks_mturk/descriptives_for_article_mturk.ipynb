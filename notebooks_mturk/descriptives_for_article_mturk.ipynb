{
 "cells": [
  {
   "cell_type": "code",
   "execution_count": 1,
   "id": "db394d75-9c85-4857-a577-0d6874cb3ef4",
   "metadata": {},
   "outputs": [],
   "source": [
    "import pandas as pd"
   ]
  },
  {
   "cell_type": "code",
   "execution_count": 2,
   "id": "0b724293-4b00-4d24-83a5-c7b165fd3401",
   "metadata": {},
   "outputs": [],
   "source": [
    "df1 = pd.read_csv('../clean_data_mturk/free_choice_emotion_mturk.csv')\n",
    "df2 = pd.read_csv('../clean_data_mturk/forced_choice_emotion_mturk.csv')"
   ]
  },
  {
   "cell_type": "code",
   "execution_count": 3,
   "id": "6c98eacd-39b7-44ea-ad50-c6ccd72e3793",
   "metadata": {},
   "outputs": [
    {
     "data": {
      "text/plain": [
       "(38.549019607843135, 9.869071049787326)"
      ]
     },
     "execution_count": 52,
     "metadata": {},
     "output_type": "execute_result"
    }
   ],
   "source": [
    "age1 = df1['age'].dropna().astype('int32')\n",
    "age2 = df2['age'].dropna().astype('int32')\n",
    "age = pd.concat([age1, age2])\n",
    "\n",
    "age.mean(), age.std()"
   ]
  },
  {
   "cell_type": "code",
   "execution_count": 4,
   "id": "855ffa53-b3b1-4579-a09a-62e38f04322c",
   "metadata": {},
   "outputs": [
    {
     "data": {
      "text/plain": [
       "Male      67\n",
       "Female    35\n",
       "Name: sex, dtype: int64"
      ]
     },
     "execution_count": 53,
     "metadata": {},
     "output_type": "execute_result"
    }
   ],
   "source": [
    "sex1 = df1['sex'].dropna()\n",
    "sex2 = df2['sex'].dropna()\n",
    "sex = pd.concat([sex1, sex2])\n",
    "\n",
    "sex.value_counts()"
   ]
  },
  {
   "cell_type": "code",
   "execution_count": 5,
   "id": "321e7be2-2028-4bec-be3e-5273fe44e17d",
   "metadata": {},
   "outputs": [
    {
     "data": {
      "text/plain": [
       "White or Caucasian           76\n",
       "Black or African American    14\n",
       "Asian                         8\n",
       "Hispanic or Latino            3\n",
       "Multiple ethnicities          1\n",
       "Name: ethnicity, dtype: int64"
      ]
     },
     "execution_count": 54,
     "metadata": {},
     "output_type": "execute_result"
    }
   ],
   "source": [
    "et1 = df1['ethnicity'].dropna()\n",
    "et2 = df2['ethnicity'].dropna()\n",
    "et = pd.concat([et1, et2])\n",
    "\n",
    "et.value_counts()"
   ]
  },
  {
   "cell_type": "markdown",
   "id": "7becebff-7479-4a51-94ba-48b0becb9cf4",
   "metadata": {},
   "source": [
    "## Combined descriptives"
   ]
  },
  {
   "cell_type": "code",
   "execution_count": 6,
   "id": "6ff7b0ab-427b-4f0c-b8bb-36681b67ffa0",
   "metadata": {},
   "outputs": [],
   "source": [
    "df3 = pd.read_csv('../clean_data/free_choice_emotion_uw_students.csv')\n",
    "df4 = pd.read_csv('../clean_data/forced_choice_emotion_uw_students.csv')"
   ]
  },
  {
   "cell_type": "code",
   "execution_count": 7,
   "id": "fb0ea21a-e533-4c18-8e0d-6457e1e3f5dc",
   "metadata": {},
   "outputs": [
    {
     "data": {
      "text/plain": [
       "(30.81111111111111, 13.480651506648178)"
      ]
     },
     "execution_count": 56,
     "metadata": {},
     "output_type": "execute_result"
    }
   ],
   "source": [
    "## free-response\n",
    "\n",
    "age1 = df1['age'].dropna().astype('int32')\n",
    "age3 = df3['age'].dropna().astype('int32')\n",
    "age = pd.concat([age1, age3])\n",
    "\n",
    "age.mean(), age.std()"
   ]
  },
  {
   "cell_type": "code",
   "execution_count": 8,
   "id": "b5d2eceb-2d5d-4414-b5ca-80c2541bdcf6",
   "metadata": {},
   "outputs": [
    {
     "data": {
      "text/plain": [
       "Male                         49\n",
       "Female                       49\n",
       "Non-binary / third gender     1\n",
       "Name: sex, dtype: int64"
      ]
     },
     "execution_count": 57,
     "metadata": {},
     "output_type": "execute_result"
    }
   ],
   "source": [
    "## free-response\n",
    "\n",
    "sex1 = df1['sex'].dropna()\n",
    "sex3 = df3['sex'].dropna()\n",
    "sex = pd.concat([sex1, sex3])\n",
    "\n",
    "sex.value_counts()"
   ]
  },
  {
   "cell_type": "code",
   "execution_count": 9,
   "id": "904a7a8e-5d92-4455-8ab6-d10bb9131a70",
   "metadata": {},
   "outputs": [
    {
     "data": {
      "text/plain": [
       "White or Caucasian           69\n",
       "Asian                        17\n",
       "Black or African American     5\n",
       "Multiple ethnicities          4\n",
       "Hispanic or Latino            3\n",
       "Other                         1\n",
       "Name: ethnicity, dtype: int64"
      ]
     },
     "execution_count": 58,
     "metadata": {},
     "output_type": "execute_result"
    }
   ],
   "source": [
    "## free-response\n",
    "et1 = df1['ethnicity'].dropna()\n",
    "et3 = df3['ethnicity'].dropna()\n",
    "et = pd.concat([et1, et3])\n",
    "\n",
    "et.value_counts()"
   ]
  },
  {
   "cell_type": "code",
   "execution_count": 10,
   "id": "982d8d30-0f2b-40e1-ae37-e4b272e57610",
   "metadata": {},
   "outputs": [
    {
     "data": {
      "text/plain": [
       "(28.638297872340427, 11.119924057748916)"
      ]
     },
     "execution_count": 59,
     "metadata": {},
     "output_type": "execute_result"
    }
   ],
   "source": [
    "## forced-response\n",
    "\n",
    "age2 = df2['age'].dropna().astype('int32')\n",
    "age4 = df4['age'].dropna().astype('int32')\n",
    "age = pd.concat([age2, age4])\n",
    "\n",
    "age.mean(), age.std()"
   ]
  },
  {
   "cell_type": "code",
   "execution_count": 11,
   "id": "a035727e-0d46-4ae6-8043-53f10d9704e5",
   "metadata": {},
   "outputs": [
    {
     "data": {
      "text/plain": [
       "Male      56\n",
       "Female    47\n",
       "Name: sex, dtype: int64"
      ]
     },
     "execution_count": 60,
     "metadata": {},
     "output_type": "execute_result"
    }
   ],
   "source": [
    "## forced-response\n",
    "\n",
    "sex2 = df2['sex'].dropna()\n",
    "sex4 = df4['sex'].dropna()\n",
    "sex = pd.concat([sex2, sex4])\n",
    "\n",
    "sex.value_counts()"
   ]
  },
  {
   "cell_type": "code",
   "execution_count": 12,
   "id": "f39b3419-cfed-47b6-baea-ef5b734d85cf",
   "metadata": {},
   "outputs": [
    {
     "data": {
      "text/plain": [
       "White or Caucasian           71\n",
       "Asian                        12\n",
       "Black or African American    10\n",
       "Multiple ethnicities          5\n",
       "Hispanic or Latino            3\n",
       "Prefer not to say             2\n",
       "Name: ethnicity, dtype: int64"
      ]
     },
     "execution_count": 61,
     "metadata": {},
     "output_type": "execute_result"
    }
   ],
   "source": [
    "## free-response\n",
    "et2 = df2['ethnicity'].dropna()\n",
    "et4 = df4['ethnicity'].dropna()\n",
    "et = pd.concat([et2, et4])\n",
    "\n",
    "et.value_counts()"
   ]
  },
  {
   "cell_type": "markdown",
   "id": "4b0d416d-4158-4302-ab96-b2886bdfb7da",
   "metadata": {},
   "source": [
    "## Duration descriptives"
   ]
  },
  {
   "cell_type": "code",
   "execution_count": 63,
   "id": "064720d7-583c-476e-8057-df5e642a1759",
   "metadata": {},
   "outputs": [
    {
     "name": "stdout",
     "output_type": "stream",
     "text": [
      "free-response mturk: mean 3432.4285714285716, std 1873.1086905640761\n",
      "free-response uw: mean 2620.186046511628, std 1742.3232472465902\n",
      "free-response combined: mean 3052.7934782608695, std 1848.7244223645419\n"
     ]
    }
   ],
   "source": [
    "## free-response\n",
    "\n",
    "df1 = df1[df1['Duration (in seconds)']<10800]\n",
    "df3 = df3[df3['Duration (in seconds)']<10800]\n",
    "\n",
    "dur1 = df1['Duration (in seconds)'].dropna().astype('int32')\n",
    "dur3 = df3['Duration (in seconds)'].dropna().astype('int32')\n",
    "\n",
    "durationFree = pd.concat([dur1, dur3])\n",
    "\n",
    "print(f\"free-response mturk: mean {dur1.mean()}, std {dur1.std()}\")\n",
    "print(f\"free-response uw: mean {dur3.mean()}, std {dur3.std()}\")\n",
    "print(f\"free-response combined: mean {durationFree.mean()}, std {durationFree.std()}\")\n"
   ]
  },
  {
   "cell_type": "code",
   "execution_count": 64,
   "id": "7472e48a-c526-4af0-aac3-b05f48ee72a9",
   "metadata": {},
   "outputs": [
    {
     "name": "stdout",
     "output_type": "stream",
     "text": [
      "forced-response mturk: mean 1670.1568627450981, std 764.4492755585296\n",
      "forced-response uw: mean 2347.586956521739, std 2006.4587885247752\n",
      "forced-response combined: mean 1991.4123711340205, std 1518.917615939728\n"
     ]
    }
   ],
   "source": [
    "## forced-choice\n",
    "\n",
    "# drop participants that took more than 3 hours\n",
    "\n",
    "df2 = df2[df2['Duration (in seconds)']<10800]\n",
    "df4 = df4[df4['Duration (in seconds)']<10800]\n",
    "\n",
    "dur2 = df2['Duration (in seconds)'].dropna().astype('int32')\n",
    "dur4 = df4['Duration (in seconds)'].dropna().astype('int32')\n",
    "durationForced = pd.concat([dur2, dur4])\n",
    "\n",
    "print(f\"forced-response mturk: mean {dur2.mean()}, std {dur2.std()}\")\n",
    "print(f\"forced-response uw: mean {dur4.mean()}, std {dur4.std()}\")\n",
    "print(f\"forced-response combined: mean {durationForced.mean()}, std {durationForced.std()}\")"
   ]
  }
 ],
 "metadata": {
  "kernelspec": {
   "display_name": "Python 3 (ipykernel)",
   "language": "python",
   "name": "python3"
  },
  "language_info": {
   "codemirror_mode": {
    "name": "ipython",
    "version": 3
   },
   "file_extension": ".py",
   "mimetype": "text/x-python",
   "name": "python",
   "nbconvert_exporter": "python",
   "pygments_lexer": "ipython3",
   "version": "3.9.7"
  }
 },
 "nbformat": 4,
 "nbformat_minor": 5
}
