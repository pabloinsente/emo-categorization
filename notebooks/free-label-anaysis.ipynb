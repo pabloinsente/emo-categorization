{
 "cells": [
  {
   "cell_type": "code",
   "execution_count": 414,
   "id": "ffd5fb88-26c9-4781-b45a-408d2b3cf8f8",
   "metadata": {},
   "outputs": [],
   "source": [
    "import pandas as pd\n",
    "import numpy as np\n",
    "import altair as alt"
   ]
  },
  {
   "cell_type": "markdown",
   "id": "d853dbc9-91a5-430c-b601-41594bb65c54",
   "metadata": {},
   "source": [
    "## Data ingestion"
   ]
  },
  {
   "cell_type": "code",
   "execution_count": 415,
   "id": "be8df92d-3e76-4141-89c4-daee0e6154ca",
   "metadata": {},
   "outputs": [],
   "source": [
    "df = pd.read_csv('../data/emotion_free_choice_uw_students.csv')\n",
    "df_label = pd.read_csv('../data/emotion_labels.csv')"
   ]
  },
  {
   "cell_type": "code",
   "execution_count": 416,
   "id": "d4effccc-1de0-45d6-ad68-44e790f74042",
   "metadata": {},
   "outputs": [],
   "source": [
    "df_label['url'] = df_label['url'].astype(str)"
   ]
  },
  {
   "cell_type": "code",
   "execution_count": 417,
   "id": "62f7d6c8-0b0a-4a54-8377-8582815e52b0",
   "metadata": {},
   "outputs": [],
   "source": [
    "# replicate rows by 4 to match with free responses\n",
    "df_labels = pd.DataFrame(np.repeat(df_label.values, 4, axis=0))\n",
    "df_labels.columns = df_label.columns"
   ]
  },
  {
   "cell_type": "code",
   "execution_count": 418,
   "id": "49d09f59-548a-4cd0-8a9d-f8fe8e78390a",
   "metadata": {},
   "outputs": [],
   "source": [
    "df_labels.to_csv('../data/emotion_labels_free_choice.csv', index=False)"
   ]
  },
  {
   "cell_type": "code",
   "execution_count": 419,
   "id": "d2c42396-5dca-4f13-a299-64626ca3f01c",
   "metadata": {},
   "outputs": [
    {
     "name": "stdout",
     "output_type": "stream",
     "text": [
      "<class 'pandas.core.frame.DataFrame'>\n",
      "RangeIndex: 101 entries, 0 to 100\n",
      "Columns: 802 entries, StartDate to Q195.1_4\n",
      "dtypes: object(802)\n",
      "memory usage: 633.0+ KB\n"
     ]
    }
   ],
   "source": [
    "df.info()"
   ]
  },
  {
   "cell_type": "code",
   "execution_count": 420,
   "id": "bdfb7630-fc0f-4f70-947b-fd6b2f5dd1f5",
   "metadata": {},
   "outputs": [],
   "source": [
    "df = df.iloc[19:, :]  # filter out test rows"
   ]
  },
  {
   "cell_type": "code",
   "execution_count": 421,
   "id": "d513fa30-34cb-4314-aebf-7a6a441af17b",
   "metadata": {},
   "outputs": [
    {
     "name": "stdout",
     "output_type": "stream",
     "text": [
      "<class 'pandas.core.frame.DataFrame'>\n",
      "RangeIndex: 82 entries, 19 to 100\n",
      "Columns: 802 entries, StartDate to Q195.1_4\n",
      "dtypes: object(802)\n",
      "memory usage: 513.9+ KB\n"
     ]
    }
   ],
   "source": [
    "df.info()"
   ]
  },
  {
   "cell_type": "code",
   "execution_count": 422,
   "id": "58d7ead7-f3ce-4f48-8bed-44e0c61e94d8",
   "metadata": {},
   "outputs": [],
   "source": [
    "df = df[df['Finished'] =='True'] # filter out incomplete surveys"
   ]
  },
  {
   "cell_type": "code",
   "execution_count": 423,
   "id": "c52e5026-17bb-4fd8-b6c7-7c0fd010407d",
   "metadata": {},
   "outputs": [
    {
     "name": "stdout",
     "output_type": "stream",
     "text": [
      "<class 'pandas.core.frame.DataFrame'>\n",
      "Int64Index: 51 entries, 19 to 95\n",
      "Columns: 802 entries, StartDate to Q195.1_4\n",
      "dtypes: object(802)\n",
      "memory usage: 319.9+ KB\n"
     ]
    }
   ],
   "source": [
    "df.info()"
   ]
  },
  {
   "cell_type": "code",
   "execution_count": 424,
   "id": "e3f02196-2ef9-45c7-8745-e273eeccc7be",
   "metadata": {},
   "outputs": [],
   "source": [
    "df.rename(columns={\n",
    "    'Q1.2': 'sex',\n",
    "    'Q1.3_1': 'age',\n",
    "    'Q1.4': 'ethnicity',\n",
    "    'Q1.5': 'formal education',\n",
    "    'Q1.6_1': 'income'}, inplace=True)"
   ]
  },
  {
   "cell_type": "code",
   "execution_count": 425,
   "id": "57c9bad2-f874-4c4a-bc0e-77041a295d08",
   "metadata": {},
   "outputs": [],
   "source": [
    "df.to_csv('../clean_data/free_choice_emotion_uw_students.csv', index=False)"
   ]
  },
  {
   "cell_type": "code",
   "execution_count": 426,
   "id": "da12a2e4-317e-47b1-8aa9-f14571ce3e0c",
   "metadata": {},
   "outputs": [],
   "source": [
    "# placeholders to save svg strings\n",
    "svg_str = []\n",
    "image_title = []"
   ]
  },
  {
   "cell_type": "markdown",
   "id": "e483bc62-c6bb-453d-b764-87c769f3fccb",
   "metadata": {},
   "source": [
    "## Demographics"
   ]
  },
  {
   "cell_type": "code",
   "execution_count": 427,
   "id": "400c9f0d-74a7-4ca1-ac35-7a3fb3894f15",
   "metadata": {},
   "outputs": [],
   "source": [
    "def count_freq_labels(df, X=\"all\" ):\n",
    "    if X == \"all\":\n",
    "        df_counts = df.stack().reset_index(drop=True).value_counts() # stack as series\n",
    "        df_counts = df_counts.to_frame('counts') # get value_counts as df\n",
    "        df_counts['emotion'] = df_counts.index # get index as col\n",
    "    else:\n",
    "        df_counts = df[X].reset_index(drop=True).value_counts() # stack as series\n",
    "        df_counts = df_counts.to_frame('counts') # get value_counts as df\n",
    "        df_counts[X] = df_counts.index # get index as col\n",
    "\n",
    "    df_counts = df_counts.reset_index(drop=True) # clean index\n",
    "    df_counts['percent'] = df_counts['counts'] / df_counts['counts'].sum() # compute percentage\n",
    "    return df_counts"
   ]
  },
  {
   "cell_type": "code",
   "execution_count": 428,
   "id": "14fdf161-816c-45e3-abd3-42fe93cad5f9",
   "metadata": {},
   "outputs": [],
   "source": [
    "def simple_per_bar(\n",
    "    df, title='Title', X='percent:Q', Y='emotion:N', \\\n",
    "    width=450, height=250, sort='-x', \\\n",
    "    text_size = 12, label_size = 11, title_size=12, \\\n",
    "    emotion='Some', color1='#0570b0', color2='orange'):\n",
    "    \n",
    "    bars = alt.Chart(df, title=title).mark_bar().encode(\n",
    "        alt.X(X, axis=alt.Axis(format='.0%')),\n",
    "        y=alt.Y(Y, sort=sort), \n",
    "        color=alt.condition(\n",
    "            alt.datum.emotion == emotion,\n",
    "            alt.value(color2),\n",
    "            alt.value(color1)\n",
    "        ))\n",
    "    \n",
    "    text = bars.mark_text(\n",
    "    align='left',\n",
    "    baseline='middle',\n",
    "    dx=3,  # Nudges text to right so it doesn't appear on top of the bar\n",
    "    fontSize=text_size\n",
    "    ).encode(\n",
    "        alt.Text(X, format='.1%')\n",
    "    )\n",
    "    \n",
    "    chart = (bars + text).configure_axis(\n",
    "            labelFontSize=label_size,\n",
    "            titleFontSize=title_size).properties(\n",
    "                width=width, \n",
    "                height=height)\n",
    "    \n",
    "    \n",
    "    return chart"
   ]
  },
  {
   "cell_type": "code",
   "execution_count": 429,
   "id": "427b03c3-848f-413a-9fbf-b7d2d65681e1",
   "metadata": {},
   "outputs": [],
   "source": [
    "source = count_freq_labels(df, X=\"sex\") \n",
    "title = 'Sex | n = '+ source['counts'].sum().astype(str)\n",
    "X, Y = 'percent:Q', 'sex:N'\n",
    "w, h= 450, 100\n",
    "txs, ls, ts = 12, 12, 12\n",
    "\n",
    "chart_sex = simple_per_bar(source, title=title, X=X, Y=Y, width=w, height=h, text_size = txs, label_size = ls, title_size=ts)"
   ]
  },
  {
   "cell_type": "code",
   "execution_count": 430,
   "id": "4339abf2-e757-438b-8d2e-90993d18e3b3",
   "metadata": {},
   "outputs": [
    {
     "data": {
      "text/html": [
       "\n",
       "<div id=\"altair-viz-75704c5a50ec4be983b2c785ab87f769\"></div>\n",
       "<script type=\"text/javascript\">\n",
       "  (function(spec, embedOpt){\n",
       "    let outputDiv = document.currentScript.previousElementSibling;\n",
       "    if (outputDiv.id !== \"altair-viz-75704c5a50ec4be983b2c785ab87f769\") {\n",
       "      outputDiv = document.getElementById(\"altair-viz-75704c5a50ec4be983b2c785ab87f769\");\n",
       "    }\n",
       "    const paths = {\n",
       "      \"vega\": \"https://cdn.jsdelivr.net/npm//vega@5?noext\",\n",
       "      \"vega-lib\": \"https://cdn.jsdelivr.net/npm//vega-lib?noext\",\n",
       "      \"vega-lite\": \"https://cdn.jsdelivr.net/npm//vega-lite@4.8.1?noext\",\n",
       "      \"vega-embed\": \"https://cdn.jsdelivr.net/npm//vega-embed@6?noext\",\n",
       "    };\n",
       "\n",
       "    function loadScript(lib) {\n",
       "      return new Promise(function(resolve, reject) {\n",
       "        var s = document.createElement('script');\n",
       "        s.src = paths[lib];\n",
       "        s.async = true;\n",
       "        s.onload = () => resolve(paths[lib]);\n",
       "        s.onerror = () => reject(`Error loading script: ${paths[lib]}`);\n",
       "        document.getElementsByTagName(\"head\")[0].appendChild(s);\n",
       "      });\n",
       "    }\n",
       "\n",
       "    function showError(err) {\n",
       "      outputDiv.innerHTML = `<div class=\"error\" style=\"color:red;\">${err}</div>`;\n",
       "      throw err;\n",
       "    }\n",
       "\n",
       "    function displayChart(vegaEmbed) {\n",
       "      vegaEmbed(outputDiv, spec, embedOpt)\n",
       "        .catch(err => showError(`Javascript Error: ${err.message}<br>This usually means there's a typo in your chart specification. See the javascript console for the full traceback.`));\n",
       "    }\n",
       "\n",
       "    if(typeof define === \"function\" && define.amd) {\n",
       "      requirejs.config({paths});\n",
       "      require([\"vega-embed\"], displayChart, err => showError(`Error loading script: ${err.message}`));\n",
       "    } else if (typeof vegaEmbed === \"function\") {\n",
       "      displayChart(vegaEmbed);\n",
       "    } else {\n",
       "      loadScript(\"vega\")\n",
       "        .then(() => loadScript(\"vega-lite\"))\n",
       "        .then(() => loadScript(\"vega-embed\"))\n",
       "        .catch(showError)\n",
       "        .then(() => displayChart(vegaEmbed));\n",
       "    }\n",
       "  })({\"config\": {\"view\": {\"continuousWidth\": 400, \"continuousHeight\": 300}, \"axis\": {\"labelFontSize\": 12, \"titleFontSize\": 12}}, \"layer\": [{\"mark\": \"bar\", \"encoding\": {\"color\": {\"condition\": {\"value\": \"orange\", \"test\": \"(datum.emotion === 'Some')\"}, \"value\": \"#0570b0\"}, \"x\": {\"type\": \"quantitative\", \"axis\": {\"format\": \".0%\"}, \"field\": \"percent\"}, \"y\": {\"type\": \"nominal\", \"field\": \"sex\", \"sort\": \"-x\"}}, \"title\": \"Sex | n = 49\"}, {\"mark\": {\"type\": \"text\", \"align\": \"left\", \"baseline\": \"middle\", \"dx\": 3, \"fontSize\": 12}, \"encoding\": {\"color\": {\"condition\": {\"value\": \"orange\", \"test\": \"(datum.emotion === 'Some')\"}, \"value\": \"#0570b0\"}, \"text\": {\"type\": \"quantitative\", \"field\": \"percent\", \"format\": \".1%\"}, \"x\": {\"type\": \"quantitative\", \"axis\": {\"format\": \".0%\"}, \"field\": \"percent\"}, \"y\": {\"type\": \"nominal\", \"field\": \"sex\", \"sort\": \"-x\"}}, \"title\": \"Sex | n = 49\"}], \"data\": {\"name\": \"data-f532128b48499339a56e8d7ba73b9a75\"}, \"height\": 100, \"width\": 450, \"$schema\": \"https://vega.github.io/schema/vega-lite/v4.8.1.json\", \"datasets\": {\"data-f532128b48499339a56e8d7ba73b9a75\": [{\"counts\": 30, \"sex\": \"Female\", \"percent\": 0.6122448979591837}, {\"counts\": 18, \"sex\": \"Male\", \"percent\": 0.3673469387755102}, {\"counts\": 1, \"sex\": \"Non-binary / third gender\", \"percent\": 0.02040816326530612}]}}, {\"renderer\": \"svg\", \"mode\": \"vega-lite\"});\n",
       "</script>"
      ],
      "text/plain": [
       "alt.LayerChart(...)"
      ]
     },
     "metadata": {},
     "output_type": "display_data"
    }
   ],
   "source": [
    "chart_sex.display(renderer='svg')"
   ]
  },
  {
   "cell_type": "code",
   "execution_count": 431,
   "id": "fdcc43d1-bd77-4971-95e0-cb7997910bd0",
   "metadata": {},
   "outputs": [],
   "source": [
    "chart_sex_string = altair_saver.save(chart_sex, fmt='svg')\n",
    "image_title.append('Participants by sex')\n",
    "svg_str.append(chart_sex_string)"
   ]
  },
  {
   "cell_type": "code",
   "execution_count": 432,
   "id": "f1ff63e2-4577-4610-a865-bd32bef0757e",
   "metadata": {},
   "outputs": [
    {
     "data": {
      "text/html": [
       "\n",
       "<div id=\"altair-viz-9faded5e8a8d4c7e8906ea90d9644d20\"></div>\n",
       "<script type=\"text/javascript\">\n",
       "  (function(spec, embedOpt){\n",
       "    let outputDiv = document.currentScript.previousElementSibling;\n",
       "    if (outputDiv.id !== \"altair-viz-9faded5e8a8d4c7e8906ea90d9644d20\") {\n",
       "      outputDiv = document.getElementById(\"altair-viz-9faded5e8a8d4c7e8906ea90d9644d20\");\n",
       "    }\n",
       "    const paths = {\n",
       "      \"vega\": \"https://cdn.jsdelivr.net/npm//vega@5?noext\",\n",
       "      \"vega-lib\": \"https://cdn.jsdelivr.net/npm//vega-lib?noext\",\n",
       "      \"vega-lite\": \"https://cdn.jsdelivr.net/npm//vega-lite@4.8.1?noext\",\n",
       "      \"vega-embed\": \"https://cdn.jsdelivr.net/npm//vega-embed@6?noext\",\n",
       "    };\n",
       "\n",
       "    function loadScript(lib) {\n",
       "      return new Promise(function(resolve, reject) {\n",
       "        var s = document.createElement('script');\n",
       "        s.src = paths[lib];\n",
       "        s.async = true;\n",
       "        s.onload = () => resolve(paths[lib]);\n",
       "        s.onerror = () => reject(`Error loading script: ${paths[lib]}`);\n",
       "        document.getElementsByTagName(\"head\")[0].appendChild(s);\n",
       "      });\n",
       "    }\n",
       "\n",
       "    function showError(err) {\n",
       "      outputDiv.innerHTML = `<div class=\"error\" style=\"color:red;\">${err}</div>`;\n",
       "      throw err;\n",
       "    }\n",
       "\n",
       "    function displayChart(vegaEmbed) {\n",
       "      vegaEmbed(outputDiv, spec, embedOpt)\n",
       "        .catch(err => showError(`Javascript Error: ${err.message}<br>This usually means there's a typo in your chart specification. See the javascript console for the full traceback.`));\n",
       "    }\n",
       "\n",
       "    if(typeof define === \"function\" && define.amd) {\n",
       "      requirejs.config({paths});\n",
       "      require([\"vega-embed\"], displayChart, err => showError(`Error loading script: ${err.message}`));\n",
       "    } else if (typeof vegaEmbed === \"function\") {\n",
       "      displayChart(vegaEmbed);\n",
       "    } else {\n",
       "      loadScript(\"vega\")\n",
       "        .then(() => loadScript(\"vega-lite\"))\n",
       "        .then(() => loadScript(\"vega-embed\"))\n",
       "        .catch(showError)\n",
       "        .then(() => displayChart(vegaEmbed));\n",
       "    }\n",
       "  })({\"config\": {\"view\": {\"continuousWidth\": 400, \"continuousHeight\": 300}, \"axis\": {\"labelFontSize\": 11, \"titleFontSize\": 12}}, \"layer\": [{\"mark\": \"bar\", \"encoding\": {\"color\": {\"condition\": {\"value\": \"orange\", \"test\": \"(datum.emotion === 'Some')\"}, \"value\": \"#0570b0\"}, \"x\": {\"type\": \"quantitative\", \"axis\": {\"format\": \".0%\"}, \"field\": \"percent\"}, \"y\": {\"type\": \"nominal\", \"field\": \"age\", \"sort\": \"-x\"}}, \"title\": \"Age | n = 40\"}, {\"mark\": {\"type\": \"text\", \"align\": \"left\", \"baseline\": \"middle\", \"dx\": 3, \"fontSize\": 12}, \"encoding\": {\"color\": {\"condition\": {\"value\": \"orange\", \"test\": \"(datum.emotion === 'Some')\"}, \"value\": \"#0570b0\"}, \"text\": {\"type\": \"quantitative\", \"field\": \"percent\", \"format\": \".1%\"}, \"x\": {\"type\": \"quantitative\", \"axis\": {\"format\": \".0%\"}, \"field\": \"percent\"}, \"y\": {\"type\": \"nominal\", \"field\": \"age\", \"sort\": \"-x\"}}, \"title\": \"Age | n = 40\"}], \"data\": {\"name\": \"data-c1505fd350018eb246ebeb88a5103d05\"}, \"height\": 150, \"width\": 450, \"$schema\": \"https://vega.github.io/schema/vega-lite/v4.8.1.json\", \"datasets\": {\"data-c1505fd350018eb246ebeb88a5103d05\": [{\"counts\": 31, \"age\": \"18\", \"percent\": 0.775}, {\"counts\": 7, \"age\": \"19\", \"percent\": 0.175}, {\"counts\": 2, \"age\": \"20\", \"percent\": 0.05}]}}, {\"renderer\": \"svg\", \"mode\": \"vega-lite\"});\n",
       "</script>"
      ],
      "text/plain": [
       "alt.LayerChart(...)"
      ]
     },
     "metadata": {},
     "output_type": "display_data"
    }
   ],
   "source": [
    "source = count_freq_labels(df, X=\"age\") \n",
    "title = 'Age | n = '+ source['counts'].sum().astype(str)\n",
    "X, Y = 'percent:Q', 'age:N'\n",
    "w, h= 450, 150\n",
    "txs, ls, ts = 12, 11, 12\n",
    "\n",
    "chart_age = simple_per_bar(\n",
    "    source, title=title, X=X, Y=Y, \\\n",
    "    width=w, height=h, \\\n",
    "    text_size = txs, label_size = ls, title_size=ts)\n",
    "chart_age.display(renderer='svg')"
   ]
  },
  {
   "cell_type": "code",
   "execution_count": 433,
   "id": "2ad121e1-cdd4-4b5d-8ecd-85f8c3cb833b",
   "metadata": {},
   "outputs": [],
   "source": [
    "chart_age_str = altair_saver.save(chart_age, fmt='svg')\n",
    "image_title.append('Participants by age')\n",
    "svg_str.append(chart_age_str)"
   ]
  },
  {
   "cell_type": "code",
   "execution_count": 434,
   "id": "6a1920f7-006a-492e-bf43-88df78d13f6c",
   "metadata": {},
   "outputs": [
    {
     "data": {
      "text/html": [
       "\n",
       "<div id=\"altair-viz-a05fcc27c5c34beda2f3394d02ea2c44\"></div>\n",
       "<script type=\"text/javascript\">\n",
       "  (function(spec, embedOpt){\n",
       "    let outputDiv = document.currentScript.previousElementSibling;\n",
       "    if (outputDiv.id !== \"altair-viz-a05fcc27c5c34beda2f3394d02ea2c44\") {\n",
       "      outputDiv = document.getElementById(\"altair-viz-a05fcc27c5c34beda2f3394d02ea2c44\");\n",
       "    }\n",
       "    const paths = {\n",
       "      \"vega\": \"https://cdn.jsdelivr.net/npm//vega@5?noext\",\n",
       "      \"vega-lib\": \"https://cdn.jsdelivr.net/npm//vega-lib?noext\",\n",
       "      \"vega-lite\": \"https://cdn.jsdelivr.net/npm//vega-lite@4.8.1?noext\",\n",
       "      \"vega-embed\": \"https://cdn.jsdelivr.net/npm//vega-embed@6?noext\",\n",
       "    };\n",
       "\n",
       "    function loadScript(lib) {\n",
       "      return new Promise(function(resolve, reject) {\n",
       "        var s = document.createElement('script');\n",
       "        s.src = paths[lib];\n",
       "        s.async = true;\n",
       "        s.onload = () => resolve(paths[lib]);\n",
       "        s.onerror = () => reject(`Error loading script: ${paths[lib]}`);\n",
       "        document.getElementsByTagName(\"head\")[0].appendChild(s);\n",
       "      });\n",
       "    }\n",
       "\n",
       "    function showError(err) {\n",
       "      outputDiv.innerHTML = `<div class=\"error\" style=\"color:red;\">${err}</div>`;\n",
       "      throw err;\n",
       "    }\n",
       "\n",
       "    function displayChart(vegaEmbed) {\n",
       "      vegaEmbed(outputDiv, spec, embedOpt)\n",
       "        .catch(err => showError(`Javascript Error: ${err.message}<br>This usually means there's a typo in your chart specification. See the javascript console for the full traceback.`));\n",
       "    }\n",
       "\n",
       "    if(typeof define === \"function\" && define.amd) {\n",
       "      requirejs.config({paths});\n",
       "      require([\"vega-embed\"], displayChart, err => showError(`Error loading script: ${err.message}`));\n",
       "    } else if (typeof vegaEmbed === \"function\") {\n",
       "      displayChart(vegaEmbed);\n",
       "    } else {\n",
       "      loadScript(\"vega\")\n",
       "        .then(() => loadScript(\"vega-lite\"))\n",
       "        .then(() => loadScript(\"vega-embed\"))\n",
       "        .catch(showError)\n",
       "        .then(() => displayChart(vegaEmbed));\n",
       "    }\n",
       "  })({\"config\": {\"view\": {\"continuousWidth\": 400, \"continuousHeight\": 300}, \"axis\": {\"labelFontSize\": 11, \"titleFontSize\": 12}}, \"layer\": [{\"mark\": \"bar\", \"encoding\": {\"color\": {\"condition\": {\"value\": \"orange\", \"test\": \"(datum.emotion === 'Some')\"}, \"value\": \"#0570b0\"}, \"x\": {\"type\": \"quantitative\", \"axis\": {\"format\": \".0%\"}, \"field\": \"percent\"}, \"y\": {\"type\": \"nominal\", \"field\": \"ethnicity\", \"sort\": \"-x\"}}, \"title\": \"Ethnicity | n = 49\"}, {\"mark\": {\"type\": \"text\", \"align\": \"left\", \"baseline\": \"middle\", \"dx\": 3, \"fontSize\": 12}, \"encoding\": {\"color\": {\"condition\": {\"value\": \"orange\", \"test\": \"(datum.emotion === 'Some')\"}, \"value\": \"#0570b0\"}, \"text\": {\"type\": \"quantitative\", \"field\": \"percent\", \"format\": \".1%\"}, \"x\": {\"type\": \"quantitative\", \"axis\": {\"format\": \".0%\"}, \"field\": \"percent\"}, \"y\": {\"type\": \"nominal\", \"field\": \"ethnicity\", \"sort\": \"-x\"}}, \"title\": \"Ethnicity | n = 49\"}], \"data\": {\"name\": \"data-8e06e6c63e6fb15bb270e1d70b3c64b1\"}, \"height\": 150, \"width\": 450, \"$schema\": \"https://vega.github.io/schema/vega-lite/v4.8.1.json\", \"datasets\": {\"data-8e06e6c63e6fb15bb270e1d70b3c64b1\": [{\"counts\": 33, \"ethnicity\": \"White or Caucasian\", \"percent\": 0.673469387755102}, {\"counts\": 11, \"ethnicity\": \"Asian\", \"percent\": 0.22448979591836735}, {\"counts\": 3, \"ethnicity\": \"Multiple ethnicities\", \"percent\": 0.061224489795918366}, {\"counts\": 1, \"ethnicity\": \"Other\", \"percent\": 0.02040816326530612}, {\"counts\": 1, \"ethnicity\": \"Hispanic or Latino\", \"percent\": 0.02040816326530612}]}}, {\"renderer\": \"svg\", \"mode\": \"vega-lite\"});\n",
       "</script>"
      ],
      "text/plain": [
       "alt.LayerChart(...)"
      ]
     },
     "metadata": {},
     "output_type": "display_data"
    }
   ],
   "source": [
    "source = count_freq_labels(df, X=\"ethnicity\") \n",
    "title = 'Ethnicity | n = '+ source['counts'].sum().astype(str)\n",
    "X, Y = 'percent:Q', 'ethnicity:N'\n",
    "w, h= 450, 150\n",
    "txs, ls, ts = 12, 11, 12\n",
    "\n",
    "chart_ethnicity= simple_per_bar(\n",
    "    source, title=title, X=X, Y=Y, \\\n",
    "    width=w, height=h, \\\n",
    "    text_size = txs, label_size = ls, title_size=ts)\n",
    "chart_ethnicity.display(renderer='svg')"
   ]
  },
  {
   "cell_type": "code",
   "execution_count": 435,
   "id": "382a2a5f-229d-4f53-b95b-8d7cb3e5b985",
   "metadata": {},
   "outputs": [],
   "source": [
    "chart_et_str = altair_saver.save(chart_ethnicity, fmt='svg')\n",
    "image_title.append('Participants by ethnicity')\n",
    "svg_str.append(chart_et_str)"
   ]
  },
  {
   "cell_type": "code",
   "execution_count": 436,
   "id": "b3b02fd5-9ba0-4f9e-9bb6-2c4d4f0cd643",
   "metadata": {},
   "outputs": [
    {
     "data": {
      "text/html": [
       "\n",
       "<div id=\"altair-viz-111a8a7c6ed04d93b30d2d329b95f9b3\"></div>\n",
       "<script type=\"text/javascript\">\n",
       "  (function(spec, embedOpt){\n",
       "    let outputDiv = document.currentScript.previousElementSibling;\n",
       "    if (outputDiv.id !== \"altair-viz-111a8a7c6ed04d93b30d2d329b95f9b3\") {\n",
       "      outputDiv = document.getElementById(\"altair-viz-111a8a7c6ed04d93b30d2d329b95f9b3\");\n",
       "    }\n",
       "    const paths = {\n",
       "      \"vega\": \"https://cdn.jsdelivr.net/npm//vega@5?noext\",\n",
       "      \"vega-lib\": \"https://cdn.jsdelivr.net/npm//vega-lib?noext\",\n",
       "      \"vega-lite\": \"https://cdn.jsdelivr.net/npm//vega-lite@4.8.1?noext\",\n",
       "      \"vega-embed\": \"https://cdn.jsdelivr.net/npm//vega-embed@6?noext\",\n",
       "    };\n",
       "\n",
       "    function loadScript(lib) {\n",
       "      return new Promise(function(resolve, reject) {\n",
       "        var s = document.createElement('script');\n",
       "        s.src = paths[lib];\n",
       "        s.async = true;\n",
       "        s.onload = () => resolve(paths[lib]);\n",
       "        s.onerror = () => reject(`Error loading script: ${paths[lib]}`);\n",
       "        document.getElementsByTagName(\"head\")[0].appendChild(s);\n",
       "      });\n",
       "    }\n",
       "\n",
       "    function showError(err) {\n",
       "      outputDiv.innerHTML = `<div class=\"error\" style=\"color:red;\">${err}</div>`;\n",
       "      throw err;\n",
       "    }\n",
       "\n",
       "    function displayChart(vegaEmbed) {\n",
       "      vegaEmbed(outputDiv, spec, embedOpt)\n",
       "        .catch(err => showError(`Javascript Error: ${err.message}<br>This usually means there's a typo in your chart specification. See the javascript console for the full traceback.`));\n",
       "    }\n",
       "\n",
       "    if(typeof define === \"function\" && define.amd) {\n",
       "      requirejs.config({paths});\n",
       "      require([\"vega-embed\"], displayChart, err => showError(`Error loading script: ${err.message}`));\n",
       "    } else if (typeof vegaEmbed === \"function\") {\n",
       "      displayChart(vegaEmbed);\n",
       "    } else {\n",
       "      loadScript(\"vega\")\n",
       "        .then(() => loadScript(\"vega-lite\"))\n",
       "        .then(() => loadScript(\"vega-embed\"))\n",
       "        .catch(showError)\n",
       "        .then(() => displayChart(vegaEmbed));\n",
       "    }\n",
       "  })({\"config\": {\"view\": {\"continuousWidth\": 400, \"continuousHeight\": 300}, \"axis\": {\"labelFontSize\": 11, \"titleFontSize\": 12}}, \"layer\": [{\"mark\": \"bar\", \"encoding\": {\"color\": {\"condition\": {\"value\": \"orange\", \"test\": \"(datum.emotion === 'Some')\"}, \"value\": \"#0570b0\"}, \"x\": {\"type\": \"quantitative\", \"axis\": {\"format\": \".0%\"}, \"field\": \"percent\"}, \"y\": {\"type\": \"nominal\", \"field\": \"formal education\", \"sort\": \"-x\"}}, \"title\": \"Formal education | n = 49\"}, {\"mark\": {\"type\": \"text\", \"align\": \"left\", \"baseline\": \"middle\", \"dx\": 3, \"fontSize\": 12}, \"encoding\": {\"color\": {\"condition\": {\"value\": \"orange\", \"test\": \"(datum.emotion === 'Some')\"}, \"value\": \"#0570b0\"}, \"text\": {\"type\": \"quantitative\", \"field\": \"percent\", \"format\": \".1%\"}, \"x\": {\"type\": \"quantitative\", \"axis\": {\"format\": \".0%\"}, \"field\": \"percent\"}, \"y\": {\"type\": \"nominal\", \"field\": \"formal education\", \"sort\": \"-x\"}}, \"title\": \"Formal education | n = 49\"}], \"data\": {\"name\": \"data-979927214065e24f5998995f1052d647\"}, \"height\": 150, \"width\": 450, \"$schema\": \"https://vega.github.io/schema/vega-lite/v4.8.1.json\", \"datasets\": {\"data-979927214065e24f5998995f1052d647\": [{\"counts\": 26, \"formal education\": \"High school graduate\", \"percent\": 0.5306122448979592}, {\"counts\": 22, \"formal education\": \"Some college\", \"percent\": 0.4489795918367347}, {\"counts\": 1, \"formal education\": \"2 year degree\", \"percent\": 0.02040816326530612}]}}, {\"renderer\": \"svg\", \"mode\": \"vega-lite\"});\n",
       "</script>"
      ],
      "text/plain": [
       "alt.LayerChart(...)"
      ]
     },
     "metadata": {},
     "output_type": "display_data"
    }
   ],
   "source": [
    "source = count_freq_labels(df, X=\"formal education\") \n",
    "title = 'Formal education | n = '+ source['counts'].sum().astype(str)\n",
    "X, Y = 'percent:Q', 'formal education:N'\n",
    "w, h= 450, 150\n",
    "txs, ls, ts = 12, 11, 12\n",
    "\n",
    "chart_formal_education= simple_per_bar(\n",
    "    source, title=title, X=X, Y=Y, width=w, height=h, text_size = txs, label_size = ls, title_size=ts)\n",
    "chart_formal_education.display(renderer='svg')"
   ]
  },
  {
   "cell_type": "code",
   "execution_count": 437,
   "id": "772ab4dc-23a2-44e8-b8e2-10ccaff58091",
   "metadata": {},
   "outputs": [],
   "source": [
    "chart_formal_education_str = altair_saver.save(chart_formal_education, fmt='svg')\n",
    "image_title.append('Participants by formal education')\n",
    "svg_str.append(chart_formal_education_str)"
   ]
  },
  {
   "cell_type": "markdown",
   "id": "edfd4fca-d6c2-4288-99b1-88b9342462bc",
   "metadata": {},
   "source": [
    "## Formating"
   ]
  },
  {
   "cell_type": "code",
   "execution_count": 438,
   "id": "e830f16d-ad56-47d0-844f-6ef6493a613a",
   "metadata": {},
   "outputs": [],
   "source": [
    "df_emo_answers = df.loc[:, 'Q2.1_1':'Q195.1_4'] # get cols with words only"
   ]
  },
  {
   "cell_type": "code",
   "execution_count": 439,
   "id": "cd16fd24-6b52-458b-8e3b-0204ead9aec1",
   "metadata": {},
   "outputs": [],
   "source": [
    "def formating_words(df, len_words=1, len_letters=2):\n",
    "    df_stack = df.stack().reset_index(drop=True) # stack as series\n",
    "    df_stack = df_stack.to_frame(name='emotion') # as DF\n",
    "    df_stack['emotion'] = df_stack['emotion'].str.strip() # remove blank spaces\n",
    "    df_stack['emotion'] = df_stack['emotion'].str.lower() # as lower case\n",
    "    df_stack['emotion'] = df_stack['emotion'].replace({'na':'none'}) \n",
    "    df_stack['len_words'] = df_stack['emotion'].str.split().apply(len) # cnt number of words\n",
    "    df_stack['len_letters'] = df_stack['emotion'].apply(len) # cont number of letters\n",
    "    # get df with single words of 3 or more letters\n",
    "    df_stack_single_word = df_stack[(df_stack['len_words'] == len_words) & (df_stack['len_letters'] > len_letters)] \n",
    "    return df_stack_single_word"
   ]
  },
  {
   "cell_type": "code",
   "execution_count": 440,
   "id": "60df8da0-21da-48e6-8257-5708b9300e1e",
   "metadata": {},
   "outputs": [],
   "source": [
    "df_stack_single_word = formating_words(df_emo_answers)"
   ]
  },
  {
   "cell_type": "markdown",
   "id": "88d5fa3f-dd87-434c-b9dd-5e230fbbd229",
   "metadata": {},
   "source": [
    "## Spell checking \n",
    "**NOTE**: poor results so far with this"
   ]
  },
  {
   "cell_type": "code",
   "execution_count": 441,
   "id": "8691f5e4-dee1-44f6-a52d-a7cd6eeceb24",
   "metadata": {},
   "outputs": [],
   "source": [
    "# conda install -c conda-forge pattern \n",
    "# from pattern.en import suggest"
   ]
  },
  {
   "cell_type": "code",
   "execution_count": 442,
   "id": "c8d26779-5c1f-4c06-bbbc-2d28739d9118",
   "metadata": {},
   "outputs": [],
   "source": [
    "# df_stack_single_word['emotion_spell_check'] = df_stack_single_word['emotion'].apply(lambda x: suggest(x)[0][0])\n",
    "# df_stack_single_word['emotion'].size\n",
    "# df_stack_single_word['emotion'].size - sum(df_stack_single_word['emotion'] == df_stack_single_word['emotion_spell_check']) # number of words changed"
   ]
  },
  {
   "cell_type": "markdown",
   "id": "360c6136-bdb5-43df-9afc-8f4710c759f8",
   "metadata": {},
   "source": [
    "## Steamming"
   ]
  },
  {
   "cell_type": "code",
   "execution_count": 443,
   "id": "5a1e61e2-b0d6-4173-8154-0b0aaa584076",
   "metadata": {},
   "outputs": [],
   "source": [
    "from nltk.stem import PorterStemmer\n",
    "from nltk.stem import LancasterStemmer\n",
    "from nltk.stem import SnowballStemmer"
   ]
  },
  {
   "cell_type": "code",
   "execution_count": 444,
   "id": "60389dd9-44bf-471e-9bce-6bab9ceb2dd2",
   "metadata": {},
   "outputs": [],
   "source": [
    "ps = PorterStemmer()\n",
    "ls = LancasterStemmer()\n",
    "snowball = SnowballStemmer(language='english')"
   ]
  },
  {
   "cell_type": "code",
   "execution_count": 445,
   "id": "d7530869-e9a4-4a7b-8468-5969bc30cbae",
   "metadata": {},
   "outputs": [],
   "source": [
    "# Porter stemmer\n",
    "df_stack_single_word['emotion_ps_steamed'] = df_stack_single_word['emotion'].apply(lambda x: ps.stem(x))"
   ]
  },
  {
   "cell_type": "code",
   "execution_count": 446,
   "id": "ab532d7e-cf02-4769-aff3-5460801381b6",
   "metadata": {},
   "outputs": [],
   "source": [
    "# Lancaster stemmer\n",
    "df_stack_single_word['emotion_ls_steamed'] = df_stack_single_word['emotion'].apply(lambda x: ls.stem(x))"
   ]
  },
  {
   "cell_type": "code",
   "execution_count": 447,
   "id": "444eee6d-0e8f-4aa4-b676-c2b8d67db2db",
   "metadata": {},
   "outputs": [],
   "source": [
    "# Snowball stemmer\n",
    "df_stack_single_word['emotion_sb_steamed'] = df_stack_single_word['emotion'].apply(lambda x: snowball.stem(x))"
   ]
  },
  {
   "cell_type": "code",
   "execution_count": 448,
   "id": "bb3edd29-b946-4eaa-9802-d73f03dd4817",
   "metadata": {},
   "outputs": [
    {
     "data": {
      "text/html": [
       "<div>\n",
       "<style scoped>\n",
       "    .dataframe tbody tr th:only-of-type {\n",
       "        vertical-align: middle;\n",
       "    }\n",
       "\n",
       "    .dataframe tbody tr th {\n",
       "        vertical-align: top;\n",
       "    }\n",
       "\n",
       "    .dataframe thead th {\n",
       "        text-align: right;\n",
       "    }\n",
       "</style>\n",
       "<table border=\"1\" class=\"dataframe\">\n",
       "  <thead>\n",
       "    <tr style=\"text-align: right;\">\n",
       "      <th></th>\n",
       "      <th>emotion</th>\n",
       "      <th>len_words</th>\n",
       "      <th>len_letters</th>\n",
       "      <th>emotion_ps_steamed</th>\n",
       "      <th>emotion_ls_steamed</th>\n",
       "      <th>emotion_sb_steamed</th>\n",
       "    </tr>\n",
       "  </thead>\n",
       "  <tbody>\n",
       "    <tr>\n",
       "      <th>0</th>\n",
       "      <td>angry</td>\n",
       "      <td>1</td>\n",
       "      <td>5</td>\n",
       "      <td>angri</td>\n",
       "      <td>angry</td>\n",
       "      <td>angri</td>\n",
       "    </tr>\n",
       "    <tr>\n",
       "      <th>1</th>\n",
       "      <td>yelling</td>\n",
       "      <td>1</td>\n",
       "      <td>7</td>\n",
       "      <td>yell</td>\n",
       "      <td>yel</td>\n",
       "      <td>yell</td>\n",
       "    </tr>\n",
       "    <tr>\n",
       "      <th>2</th>\n",
       "      <td>yelling</td>\n",
       "      <td>1</td>\n",
       "      <td>7</td>\n",
       "      <td>yell</td>\n",
       "      <td>yel</td>\n",
       "      <td>yell</td>\n",
       "    </tr>\n",
       "  </tbody>\n",
       "</table>\n",
       "</div>"
      ],
      "text/plain": [
       "   emotion  len_words  len_letters emotion_ps_steamed emotion_ls_steamed  \\\n",
       "0    angry          1            5              angri              angry   \n",
       "1  yelling          1            7               yell                yel   \n",
       "2  yelling          1            7               yell                yel   \n",
       "\n",
       "  emotion_sb_steamed  \n",
       "0              angri  \n",
       "1               yell  \n",
       "2               yell  "
      ]
     },
     "execution_count": 448,
     "metadata": {},
     "output_type": "execute_result"
    }
   ],
   "source": [
    "df_stack_single_word.head(3)"
   ]
  },
  {
   "cell_type": "markdown",
   "id": "c8693d96-f4ba-4c34-a8d5-4ad3ff9e1bca",
   "metadata": {},
   "source": [
    "## Count frequency and plot"
   ]
  },
  {
   "cell_type": "code",
   "execution_count": 449,
   "id": "fc70bdbd-5801-4724-82f1-8ebcbe308ebe",
   "metadata": {},
   "outputs": [],
   "source": [
    "def count_freq_labels(df, col):\n",
    "    df_counts = df[col].value_counts() # count word frequency \n",
    "    df_counts = df_counts.to_frame('counts') # get value_counts as df\n",
    "    df_counts['emotion'] = df_counts.index # get index as col\n",
    "    df_counts = df_counts.reset_index(drop=True) # clean index\n",
    "    df_counts['percent'] = df_counts['counts'] / df_counts['counts'].sum() # compute percentage\n",
    "    return df_counts"
   ]
  },
  {
   "cell_type": "code",
   "execution_count": 450,
   "id": "1e377bee-7de9-46b2-8192-1467f9f5356d",
   "metadata": {},
   "outputs": [],
   "source": [
    "def simple_per_bar(df, X, Y, top, width=300, height=300, title='Title'):\n",
    "    bars = alt.Chart(df.head(top), title=title).mark_bar().encode(\n",
    "        alt.X(X, axis=alt.Axis(format='.0%')),\n",
    "        y=alt.Y(Y, sort='-x'))\n",
    "    \n",
    "    text = bars.mark_text(\n",
    "        align='left',\n",
    "        baseline='middle',\n",
    "        dx=3,  # Nudges text to right so it doesn't appear on top of the bar\n",
    "        fontSize=10\n",
    "    ).encode(\n",
    "        alt.Text(X, format='.2%')\n",
    "    )\n",
    "    \n",
    "    chart = (bars + text)\n",
    "    \n",
    "    return chart.properties(width=width, height=height)"
   ]
  },
  {
   "cell_type": "code",
   "execution_count": 451,
   "id": "03a0b905-045d-4fb9-ac35-801497caec00",
   "metadata": {},
   "outputs": [],
   "source": [
    "def simple_count_bar(df, X, Y, top, width=300, height=300, title='Title'):\n",
    "    bars = alt.Chart(df.head(top), title=title).mark_bar().encode(\n",
    "        alt.X(X),\n",
    "        y=alt.Y(Y, sort='-x'))\n",
    "    \n",
    "    text = bars.mark_text(\n",
    "    align='left',\n",
    "    baseline='middle',\n",
    "    dx=3,  # Nudges text to right so it doesn't appear on top of the bar\n",
    "    fontSize=10\n",
    "    ).encode(\n",
    "        alt.Text('counts:Q')\n",
    "    )\n",
    "    \n",
    "    chart = (bars + text)\n",
    "    \n",
    "    return chart.properties(width=width, height=height)"
   ]
  },
  {
   "cell_type": "code",
   "execution_count": 452,
   "id": "21b3d2e0-43c0-4bb5-b4b7-1017d984b7e8",
   "metadata": {},
   "outputs": [],
   "source": [
    "df_emo_overall = count_freq_labels(df_stack_single_word, 'emotion_ps_steamed')"
   ]
  },
  {
   "cell_type": "code",
   "execution_count": 453,
   "id": "6dd3533f-34a9-49be-9e87-a7c644fbdc7f",
   "metadata": {},
   "outputs": [],
   "source": [
    "free_choice_word_list = count_freq_labels(df_stack_single_word, 'emotion')['emotion']"
   ]
  },
  {
   "cell_type": "code",
   "execution_count": 454,
   "id": "2e5391e6-a15e-4620-9245-48123e7075b0",
   "metadata": {},
   "outputs": [],
   "source": [
    "free_choice_word_list.to_csv('../clean_data/free_choice_word_list.csv', index=False)"
   ]
  },
  {
   "cell_type": "code",
   "execution_count": 455,
   "id": "8a5a79c5-9d28-433f-b1b0-8678b65daf00",
   "metadata": {},
   "outputs": [],
   "source": [
    "df_emo_overall.to_csv('../clean_data/free_choice_emotion_uw_students_overall.csv', index=False)"
   ]
  },
  {
   "cell_type": "code",
   "execution_count": 456,
   "id": "d1e4ac17-617d-4f42-8708-add7e3b6cf28",
   "metadata": {},
   "outputs": [
    {
     "data": {
      "text/html": [
       "\n",
       "<div id=\"altair-viz-4dcbf5a5c8ae4403aa7474d595d11a9d\"></div>\n",
       "<script type=\"text/javascript\">\n",
       "  (function(spec, embedOpt){\n",
       "    let outputDiv = document.currentScript.previousElementSibling;\n",
       "    if (outputDiv.id !== \"altair-viz-4dcbf5a5c8ae4403aa7474d595d11a9d\") {\n",
       "      outputDiv = document.getElementById(\"altair-viz-4dcbf5a5c8ae4403aa7474d595d11a9d\");\n",
       "    }\n",
       "    const paths = {\n",
       "      \"vega\": \"https://cdn.jsdelivr.net/npm//vega@5?noext\",\n",
       "      \"vega-lib\": \"https://cdn.jsdelivr.net/npm//vega-lib?noext\",\n",
       "      \"vega-lite\": \"https://cdn.jsdelivr.net/npm//vega-lite@4.8.1?noext\",\n",
       "      \"vega-embed\": \"https://cdn.jsdelivr.net/npm//vega-embed@6?noext\",\n",
       "    };\n",
       "\n",
       "    function loadScript(lib) {\n",
       "      return new Promise(function(resolve, reject) {\n",
       "        var s = document.createElement('script');\n",
       "        s.src = paths[lib];\n",
       "        s.async = true;\n",
       "        s.onload = () => resolve(paths[lib]);\n",
       "        s.onerror = () => reject(`Error loading script: ${paths[lib]}`);\n",
       "        document.getElementsByTagName(\"head\")[0].appendChild(s);\n",
       "      });\n",
       "    }\n",
       "\n",
       "    function showError(err) {\n",
       "      outputDiv.innerHTML = `<div class=\"error\" style=\"color:red;\">${err}</div>`;\n",
       "      throw err;\n",
       "    }\n",
       "\n",
       "    function displayChart(vegaEmbed) {\n",
       "      vegaEmbed(outputDiv, spec, embedOpt)\n",
       "        .catch(err => showError(`Javascript Error: ${err.message}<br>This usually means there's a typo in your chart specification. See the javascript console for the full traceback.`));\n",
       "    }\n",
       "\n",
       "    if(typeof define === \"function\" && define.amd) {\n",
       "      requirejs.config({paths});\n",
       "      require([\"vega-embed\"], displayChart, err => showError(`Error loading script: ${err.message}`));\n",
       "    } else if (typeof vegaEmbed === \"function\") {\n",
       "      displayChart(vegaEmbed);\n",
       "    } else {\n",
       "      loadScript(\"vega\")\n",
       "        .then(() => loadScript(\"vega-lite\"))\n",
       "        .then(() => loadScript(\"vega-embed\"))\n",
       "        .catch(showError)\n",
       "        .then(() => displayChart(vegaEmbed));\n",
       "    }\n",
       "  })({\"config\": {\"view\": {\"continuousWidth\": 400, \"continuousHeight\": 300}}, \"layer\": [{\"mark\": \"bar\", \"encoding\": {\"x\": {\"type\": \"quantitative\", \"axis\": {\"format\": \".0%\"}, \"field\": \"percent\"}, \"y\": {\"type\": \"nominal\", \"field\": \"emotion\", \"sort\": \"-x\"}}, \"title\": \"Most frequently selected labels | n = 14364\"}, {\"mark\": {\"type\": \"text\", \"align\": \"left\", \"baseline\": \"middle\", \"dx\": 3, \"fontSize\": 10}, \"encoding\": {\"text\": {\"type\": \"quantitative\", \"field\": \"percent\", \"format\": \".2%\"}, \"x\": {\"type\": \"quantitative\", \"axis\": {\"format\": \".0%\"}, \"field\": \"percent\"}, \"y\": {\"type\": \"nominal\", \"field\": \"emotion\", \"sort\": \"-x\"}}, \"title\": \"Most frequently selected labels | n = 14364\"}], \"data\": {\"name\": \"data-bb1cee6000133b7c6ce961b50c4bc829\"}, \"height\": 500, \"width\": 300, \"$schema\": \"https://vega.github.io/schema/vega-lite/v4.8.1.json\", \"datasets\": {\"data-bb1cee6000133b7c6ce961b50c4bc829\": [{\"counts\": 1403, \"emotion\": \"happi\", \"percent\": 0.09767474241158451}, {\"counts\": 1129, \"emotion\": \"sad\", \"percent\": 0.07859927596769702}, {\"counts\": 711, \"emotion\": \"angri\", \"percent\": 0.04949874686716792}, {\"counts\": 633, \"emotion\": \"confus\", \"percent\": 0.04406850459482038}, {\"counts\": 588, \"emotion\": \"shock\", \"percent\": 0.04093567251461988}, {\"counts\": 529, \"emotion\": \"surpris\", \"percent\": 0.03682818156502367}, {\"counts\": 499, \"emotion\": \"upset\", \"percent\": 0.03473962684489}, {\"counts\": 403, \"emotion\": \"mad\", \"percent\": 0.028056251740462265}, {\"counts\": 400, \"emotion\": \"disgust\", \"percent\": 0.0278473962684489}, {\"counts\": 350, \"emotion\": \"scare\", \"percent\": 0.024366471734892786}, {\"counts\": 327, \"emotion\": \"none\", \"percent\": 0.022765246449456975}, {\"counts\": 303, \"emotion\": \"excit\", \"percent\": 0.02109440267335004}, {\"counts\": 296, \"emotion\": \"silli\", \"percent\": 0.020607073238652185}, {\"counts\": 280, \"emotion\": \"content\", \"percent\": 0.01949317738791423}, {\"counts\": 176, \"emotion\": \"annoy\", \"percent\": 0.012252854358117515}, {\"counts\": 164, \"emotion\": \"calm\", \"percent\": 0.011417432470064048}, {\"counts\": 161, \"emotion\": \"goofi\", \"percent\": 0.011208576998050682}, {\"counts\": 158, \"emotion\": \"seriou\", \"percent\": 0.010999721526037315}, {\"counts\": 157, \"emotion\": \"unhappi\", \"percent\": 0.010930103035366193}, {\"counts\": 131, \"emotion\": \"bore\", \"percent\": 0.009120022277917014}, {\"counts\": 126, \"emotion\": \"worri\", \"percent\": 0.008771929824561403}, {\"counts\": 125, \"emotion\": \"funni\", \"percent\": 0.00870231133389028}, {\"counts\": 122, \"emotion\": \"unpleas\", \"percent\": 0.008493455861876914}, {\"counts\": 117, \"emotion\": \"supris\", \"percent\": 0.008145363408521303}, {\"counts\": 110, \"emotion\": \"smile\", \"percent\": 0.007658033973823447}, {\"counts\": 109, \"emotion\": \"cri\", \"percent\": 0.007588415483152325}, {\"counts\": 101, \"emotion\": \"uncomfort\", \"percent\": 0.007031467557783347}, {\"counts\": 96, \"emotion\": \"frustrat\", \"percent\": 0.006683375104427736}, {\"counts\": 92, \"emotion\": \"disappoint\", \"percent\": 0.006404901141743247}, {\"counts\": 80, \"emotion\": \"concern\", \"percent\": 0.00556947925368978}, {\"counts\": 74, \"emotion\": \"interest\", \"percent\": 0.005151768309663046}, {\"counts\": 71, \"emotion\": \"focus\", \"percent\": 0.0049429128376496795}, {\"counts\": 70, \"emotion\": \"intrigu\", \"percent\": 0.004873294346978557}, {\"counts\": 67, \"emotion\": \"play\", \"percent\": 0.0046644388749651905}, {\"counts\": 67, \"emotion\": \"blank\", \"percent\": 0.0046644388749651905}, {\"counts\": 66, \"emotion\": \"tire\", \"percent\": 0.004594820384294068}, {\"counts\": 65, \"emotion\": \"stare\", \"percent\": 0.004525201893622946}, {\"counts\": 60, \"emotion\": \"curiou\", \"percent\": 0.004177109440267335}, {\"counts\": 57, \"emotion\": \"pleas\", \"percent\": 0.003968253968253968}, {\"counts\": 54, \"emotion\": \"bad\", \"percent\": 0.0037593984962406013}, {\"counts\": 53, \"emotion\": \"regret\", \"percent\": 0.003689780005569479}, {\"counts\": 52, \"emotion\": \"cute\", \"percent\": 0.003620161514898357}, {\"counts\": 52, \"emotion\": \"confid\", \"percent\": 0.003620161514898357}, {\"counts\": 51, \"emotion\": \"indiffer\", \"percent\": 0.0035505430242272346}, {\"counts\": 51, \"emotion\": \"chill\", \"percent\": 0.0035505430242272346}, {\"counts\": 50, \"emotion\": \"crazi\", \"percent\": 0.0034809245335561123}, {\"counts\": 46, \"emotion\": \"guilti\", \"percent\": 0.0032024505708716233}, {\"counts\": 45, \"emotion\": \"pose\", \"percent\": 0.003132832080200501}, {\"counts\": 44, \"emotion\": \"displeas\", \"percent\": 0.003063213589529379}, {\"counts\": 42, \"emotion\": \"hate\", \"percent\": 0.0029239766081871343}]}}, {\"mode\": \"vega-lite\"});\n",
       "</script>"
      ],
      "text/plain": [
       "alt.LayerChart(...)"
      ]
     },
     "execution_count": 456,
     "metadata": {},
     "output_type": "execute_result"
    }
   ],
   "source": [
    "df_emo_overall = count_freq_labels(df_stack_single_word, 'emotion_ps_steamed')\n",
    "simple_per_bar(df_emo_overall, 'percent:Q', 'emotion:N', width=300, height=500, top=50, title='Most frequently selected labels | n = '+df_emo_overall['counts'].sum().astype(str))"
   ]
  },
  {
   "cell_type": "code",
   "execution_count": 457,
   "id": "842cf737-814a-4a7c-aedc-63be2f6618c3",
   "metadata": {},
   "outputs": [
    {
     "data": {
      "text/html": [
       "\n",
       "<div id=\"altair-viz-708a96b68d744f639a1834c8766e5190\"></div>\n",
       "<script type=\"text/javascript\">\n",
       "  (function(spec, embedOpt){\n",
       "    let outputDiv = document.currentScript.previousElementSibling;\n",
       "    if (outputDiv.id !== \"altair-viz-708a96b68d744f639a1834c8766e5190\") {\n",
       "      outputDiv = document.getElementById(\"altair-viz-708a96b68d744f639a1834c8766e5190\");\n",
       "    }\n",
       "    const paths = {\n",
       "      \"vega\": \"https://cdn.jsdelivr.net/npm//vega@5?noext\",\n",
       "      \"vega-lib\": \"https://cdn.jsdelivr.net/npm//vega-lib?noext\",\n",
       "      \"vega-lite\": \"https://cdn.jsdelivr.net/npm//vega-lite@4.8.1?noext\",\n",
       "      \"vega-embed\": \"https://cdn.jsdelivr.net/npm//vega-embed@6?noext\",\n",
       "    };\n",
       "\n",
       "    function loadScript(lib) {\n",
       "      return new Promise(function(resolve, reject) {\n",
       "        var s = document.createElement('script');\n",
       "        s.src = paths[lib];\n",
       "        s.async = true;\n",
       "        s.onload = () => resolve(paths[lib]);\n",
       "        s.onerror = () => reject(`Error loading script: ${paths[lib]}`);\n",
       "        document.getElementsByTagName(\"head\")[0].appendChild(s);\n",
       "      });\n",
       "    }\n",
       "\n",
       "    function showError(err) {\n",
       "      outputDiv.innerHTML = `<div class=\"error\" style=\"color:red;\">${err}</div>`;\n",
       "      throw err;\n",
       "    }\n",
       "\n",
       "    function displayChart(vegaEmbed) {\n",
       "      vegaEmbed(outputDiv, spec, embedOpt)\n",
       "        .catch(err => showError(`Javascript Error: ${err.message}<br>This usually means there's a typo in your chart specification. See the javascript console for the full traceback.`));\n",
       "    }\n",
       "\n",
       "    if(typeof define === \"function\" && define.amd) {\n",
       "      requirejs.config({paths});\n",
       "      require([\"vega-embed\"], displayChart, err => showError(`Error loading script: ${err.message}`));\n",
       "    } else if (typeof vegaEmbed === \"function\") {\n",
       "      displayChart(vegaEmbed);\n",
       "    } else {\n",
       "      loadScript(\"vega\")\n",
       "        .then(() => loadScript(\"vega-lite\"))\n",
       "        .then(() => loadScript(\"vega-embed\"))\n",
       "        .catch(showError)\n",
       "        .then(() => displayChart(vegaEmbed));\n",
       "    }\n",
       "  })({\"config\": {\"view\": {\"continuousWidth\": 400, \"continuousHeight\": 300}}, \"layer\": [{\"mark\": \"bar\", \"encoding\": {\"x\": {\"type\": \"quantitative\", \"field\": \"counts\"}, \"y\": {\"type\": \"nominal\", \"field\": \"emotion\", \"sort\": \"-x\"}}, \"title\": \"Most frequently selected labels | n = 14364\"}, {\"mark\": {\"type\": \"text\", \"align\": \"left\", \"baseline\": \"middle\", \"dx\": 3, \"fontSize\": 10}, \"encoding\": {\"text\": {\"type\": \"quantitative\", \"field\": \"counts\"}, \"x\": {\"type\": \"quantitative\", \"field\": \"counts\"}, \"y\": {\"type\": \"nominal\", \"field\": \"emotion\", \"sort\": \"-x\"}}, \"title\": \"Most frequently selected labels | n = 14364\"}], \"data\": {\"name\": \"data-18886bbe634ba6358f6537708c84860f\"}, \"height\": 300, \"width\": 300, \"$schema\": \"https://vega.github.io/schema/vega-lite/v4.8.1.json\", \"datasets\": {\"data-18886bbe634ba6358f6537708c84860f\": [{\"counts\": 1403, \"emotion\": \"happi\", \"percent\": 0.09767474241158451}, {\"counts\": 1129, \"emotion\": \"sad\", \"percent\": 0.07859927596769702}, {\"counts\": 711, \"emotion\": \"angri\", \"percent\": 0.04949874686716792}, {\"counts\": 633, \"emotion\": \"confus\", \"percent\": 0.04406850459482038}, {\"counts\": 588, \"emotion\": \"shock\", \"percent\": 0.04093567251461988}, {\"counts\": 529, \"emotion\": \"surpris\", \"percent\": 0.03682818156502367}, {\"counts\": 499, \"emotion\": \"upset\", \"percent\": 0.03473962684489}, {\"counts\": 403, \"emotion\": \"mad\", \"percent\": 0.028056251740462265}, {\"counts\": 400, \"emotion\": \"disgust\", \"percent\": 0.0278473962684489}, {\"counts\": 350, \"emotion\": \"scare\", \"percent\": 0.024366471734892786}, {\"counts\": 327, \"emotion\": \"none\", \"percent\": 0.022765246449456975}, {\"counts\": 303, \"emotion\": \"excit\", \"percent\": 0.02109440267335004}, {\"counts\": 296, \"emotion\": \"silli\", \"percent\": 0.020607073238652185}, {\"counts\": 280, \"emotion\": \"content\", \"percent\": 0.01949317738791423}, {\"counts\": 176, \"emotion\": \"annoy\", \"percent\": 0.012252854358117515}, {\"counts\": 164, \"emotion\": \"calm\", \"percent\": 0.011417432470064048}, {\"counts\": 161, \"emotion\": \"goofi\", \"percent\": 0.011208576998050682}, {\"counts\": 158, \"emotion\": \"seriou\", \"percent\": 0.010999721526037315}, {\"counts\": 157, \"emotion\": \"unhappi\", \"percent\": 0.010930103035366193}, {\"counts\": 131, \"emotion\": \"bore\", \"percent\": 0.009120022277917014}]}}, {\"mode\": \"vega-lite\"});\n",
       "</script>"
      ],
      "text/plain": [
       "alt.LayerChart(...)"
      ]
     },
     "execution_count": 457,
     "metadata": {},
     "output_type": "execute_result"
    }
   ],
   "source": [
    "simple_count_bar(df_emo_overall, 'counts:Q', 'emotion:N', top=20, title='Most frequently selected labels | n = '+df_emo_overall['counts'].sum().astype(str))"
   ]
  },
  {
   "cell_type": "markdown",
   "id": "4e3eaddf-437e-419a-a980-764acbf78fbe",
   "metadata": {},
   "source": [
    "## Most frequently used word for each emotion category (grouping pictures by expected-emotion)"
   ]
  },
  {
   "cell_type": "code",
   "execution_count": 458,
   "id": "909288ea-8571-461f-a7af-f21051b7e524",
   "metadata": {},
   "outputs": [],
   "source": [
    "def df_add_label(df_emo_answers, emotion_label):\n",
    "    df_emo_cat = df_emo_answers.copy() \n",
    "    df_emo_cat_t = df_emo_cat.T # transpose\n",
    "    df_emo_cat_t['photo_id'] = df_emo_cat_t.index # get index as col\n",
    "    df_emo_cat_t = df_emo_cat_t.reset_index(drop=True) # clean index\n",
    "    df_emo_cat_t_labels = pd.concat([df_emo_cat_t, df_labels], axis=1) # add metadata cols\n",
    "    df_label =  df_emo_cat_t_labels[df_emo_cat_t_labels['label'] == emotion_label]\n",
    "    \n",
    "    return df_label"
   ]
  },
  {
   "cell_type": "code",
   "execution_count": 459,
   "id": "24517f07-7395-4d75-b84c-6fe547ff9697",
   "metadata": {},
   "outputs": [],
   "source": [
    "    df_emotion = df_add_label(df, 'anger') # subset 'emotion' rows\n",
    "    df_emotion_ans = df_emotion.drop(['photo_id', 'ethnicity', 'sex','age', 'label'], axis=1)\n",
    "    df_stack_emotion = formating_words(df_emotion_ans) # clean up\n",
    "    # df_stack_anger['emotion_spell_check'] = df_stack_single_word['emotion'].apply(lambda x: suggest(x)[0][0])\n",
    "    df_stack_emotion['emotion_ps_steamed'] = df_stack_emotion['emotion'].apply(lambda x: ps.stem(x)) #steam\n",
    "    df_stack_emotion_count = count_freq_labels(df_stack_emotion, 'emotion_ps_steamed')"
   ]
  },
  {
   "cell_type": "code",
   "execution_count": 460,
   "id": "a7fc453b-ba15-4550-bddf-dbac0ba10f77",
   "metadata": {},
   "outputs": [],
   "source": [
    "def chart_wrapper(df, emotion, title):\n",
    "    df_emotion = df_add_label(df, emotion) # subset 'emotion' rows\n",
    "    df_emotion_ans = df_emotion.drop(['photo_id', 'ethnicity', 'sex','age', 'label'], axis=1)\n",
    "    df_stack_emotion = formating_words(df_emotion_ans) # clean up\n",
    "    # df_stack_anger['emotion_spell_check'] = df_stack_single_word['emotion'].apply(lambda x: suggest(x)[0][0])\n",
    "    df_stack_emotion['emotion_ps_steamed'] = df_stack_emotion['emotion'].apply(lambda x: ps.stem(x)) #steam\n",
    "    df_stack_emotion_count = count_freq_labels(df_stack_emotion, 'emotion_ps_steamed')\n",
    "    n = df_stack_emotion_count['counts'].sum()    \n",
    "    chart = simple_per_bar(df_stack_emotion_count, 'percent:Q', 'emotion:N', top=20, title=title+\" | n= \"+n.astype(str))\n",
    "    \n",
    "    return chart"
   ]
  },
  {
   "cell_type": "markdown",
   "id": "3063a6b1-451b-4cd9-be19-20a982a8b92a",
   "metadata": {},
   "source": [
    "### Charts"
   ]
  },
  {
   "cell_type": "code",
   "execution_count": 461,
   "id": "b9602f82-6520-4eea-abd4-6cf2a4a4c438",
   "metadata": {},
   "outputs": [],
   "source": [
    "chart_anger = chart_wrapper(df_emo_answers, 'anger', 'Expected label: '+ ' anger')\n",
    "chart_disgust = chart_wrapper(df_emo_answers, 'disgust', 'Expected label: '+ ' disgust')\n",
    "chart_fear = chart_wrapper(df_emo_answers, 'fear', 'Expected label: '+ ' fear')\n",
    "chart_surprise = chart_wrapper(df_emo_answers, 'surprise', 'Expected label: '+ ' surprise')\n",
    "chart_happiness = chart_wrapper(df_emo_answers, 'happiness', 'Expected label: '+ ' happiness')\n",
    "chart_sadness = chart_wrapper(df_emo_answers, 'sadness', 'Expected label: '+ ' sadness')\n",
    "chart_uncertain = chart_wrapper(df_emo_answers, 'uncertain', 'Expected label: '+ ' uncertain')\n",
    "chart_neutral = chart_wrapper(df_emo_answers, 'neutral', 'Expected label: '+ ' neutral')"
   ]
  },
  {
   "cell_type": "code",
   "execution_count": 462,
   "id": "a80e0a0c-341d-4661-9937-e7a0949fb607",
   "metadata": {},
   "outputs": [
    {
     "data": {
      "text/html": [
       "\n",
       "<div id=\"altair-viz-a52b4f6538bb4ddc912f73585c2dccdb\"></div>\n",
       "<script type=\"text/javascript\">\n",
       "  (function(spec, embedOpt){\n",
       "    let outputDiv = document.currentScript.previousElementSibling;\n",
       "    if (outputDiv.id !== \"altair-viz-a52b4f6538bb4ddc912f73585c2dccdb\") {\n",
       "      outputDiv = document.getElementById(\"altair-viz-a52b4f6538bb4ddc912f73585c2dccdb\");\n",
       "    }\n",
       "    const paths = {\n",
       "      \"vega\": \"https://cdn.jsdelivr.net/npm//vega@5?noext\",\n",
       "      \"vega-lib\": \"https://cdn.jsdelivr.net/npm//vega-lib?noext\",\n",
       "      \"vega-lite\": \"https://cdn.jsdelivr.net/npm//vega-lite@4.8.1?noext\",\n",
       "      \"vega-embed\": \"https://cdn.jsdelivr.net/npm//vega-embed@6?noext\",\n",
       "    };\n",
       "\n",
       "    function loadScript(lib) {\n",
       "      return new Promise(function(resolve, reject) {\n",
       "        var s = document.createElement('script');\n",
       "        s.src = paths[lib];\n",
       "        s.async = true;\n",
       "        s.onload = () => resolve(paths[lib]);\n",
       "        s.onerror = () => reject(`Error loading script: ${paths[lib]}`);\n",
       "        document.getElementsByTagName(\"head\")[0].appendChild(s);\n",
       "      });\n",
       "    }\n",
       "\n",
       "    function showError(err) {\n",
       "      outputDiv.innerHTML = `<div class=\"error\" style=\"color:red;\">${err}</div>`;\n",
       "      throw err;\n",
       "    }\n",
       "\n",
       "    function displayChart(vegaEmbed) {\n",
       "      vegaEmbed(outputDiv, spec, embedOpt)\n",
       "        .catch(err => showError(`Javascript Error: ${err.message}<br>This usually means there's a typo in your chart specification. See the javascript console for the full traceback.`));\n",
       "    }\n",
       "\n",
       "    if(typeof define === \"function\" && define.amd) {\n",
       "      requirejs.config({paths});\n",
       "      require([\"vega-embed\"], displayChart, err => showError(`Error loading script: ${err.message}`));\n",
       "    } else if (typeof vegaEmbed === \"function\") {\n",
       "      displayChart(vegaEmbed);\n",
       "    } else {\n",
       "      loadScript(\"vega\")\n",
       "        .then(() => loadScript(\"vega-lite\"))\n",
       "        .then(() => loadScript(\"vega-embed\"))\n",
       "        .catch(showError)\n",
       "        .then(() => displayChart(vegaEmbed));\n",
       "    }\n",
       "  })({\"config\": {\"view\": {\"continuousWidth\": 400, \"continuousHeight\": 300}}, \"vconcat\": [{\"hconcat\": [{\"layer\": [{\"mark\": \"bar\", \"encoding\": {\"x\": {\"type\": \"quantitative\", \"axis\": {\"format\": \".0%\"}, \"field\": \"percent\"}, \"y\": {\"type\": \"nominal\", \"field\": \"emotion\", \"sort\": \"-x\"}}, \"title\": \"Expected label:  anger | n= 1882\"}, {\"mark\": {\"type\": \"text\", \"align\": \"left\", \"baseline\": \"middle\", \"dx\": 3, \"fontSize\": 10}, \"encoding\": {\"text\": {\"type\": \"quantitative\", \"field\": \"percent\", \"format\": \".2%\"}, \"x\": {\"type\": \"quantitative\", \"axis\": {\"format\": \".0%\"}, \"field\": \"percent\"}, \"y\": {\"type\": \"nominal\", \"field\": \"emotion\", \"sort\": \"-x\"}}, \"title\": \"Expected label:  anger | n= 1882\"}], \"data\": {\"name\": \"data-47c3730addeed9f7b34dd60eef7b20de\"}, \"height\": 300, \"width\": 300}, {\"layer\": [{\"mark\": \"bar\", \"encoding\": {\"x\": {\"type\": \"quantitative\", \"axis\": {\"format\": \".0%\"}, \"field\": \"percent\"}, \"y\": {\"type\": \"nominal\", \"field\": \"emotion\", \"sort\": \"-x\"}}, \"title\": \"Expected label:  disgust | n= 1859\"}, {\"mark\": {\"type\": \"text\", \"align\": \"left\", \"baseline\": \"middle\", \"dx\": 3, \"fontSize\": 10}, \"encoding\": {\"text\": {\"type\": \"quantitative\", \"field\": \"percent\", \"format\": \".2%\"}, \"x\": {\"type\": \"quantitative\", \"axis\": {\"format\": \".0%\"}, \"field\": \"percent\"}, \"y\": {\"type\": \"nominal\", \"field\": \"emotion\", \"sort\": \"-x\"}}, \"title\": \"Expected label:  disgust | n= 1859\"}], \"data\": {\"name\": \"data-ab787a3f7be1749dd0400d29215e1a19\"}, \"height\": 300, \"width\": 300}]}, {\"hconcat\": [{\"layer\": [{\"mark\": \"bar\", \"encoding\": {\"x\": {\"type\": \"quantitative\", \"axis\": {\"format\": \".0%\"}, \"field\": \"percent\"}, \"y\": {\"type\": \"nominal\", \"field\": \"emotion\", \"sort\": \"-x\"}}, \"title\": \"Expected label:  fear | n= 1968\"}, {\"mark\": {\"type\": \"text\", \"align\": \"left\", \"baseline\": \"middle\", \"dx\": 3, \"fontSize\": 10}, \"encoding\": {\"text\": {\"type\": \"quantitative\", \"field\": \"percent\", \"format\": \".2%\"}, \"x\": {\"type\": \"quantitative\", \"axis\": {\"format\": \".0%\"}, \"field\": \"percent\"}, \"y\": {\"type\": \"nominal\", \"field\": \"emotion\", \"sort\": \"-x\"}}, \"title\": \"Expected label:  fear | n= 1968\"}], \"data\": {\"name\": \"data-26d1fc5be44cbd5c66ce8b75a0a352e8\"}, \"height\": 300, \"width\": 300}, {\"layer\": [{\"mark\": \"bar\", \"encoding\": {\"x\": {\"type\": \"quantitative\", \"axis\": {\"format\": \".0%\"}, \"field\": \"percent\"}, \"y\": {\"type\": \"nominal\", \"field\": \"emotion\", \"sort\": \"-x\"}}, \"title\": \"Expected label:  surprise | n= 1922\"}, {\"mark\": {\"type\": \"text\", \"align\": \"left\", \"baseline\": \"middle\", \"dx\": 3, \"fontSize\": 10}, \"encoding\": {\"text\": {\"type\": \"quantitative\", \"field\": \"percent\", \"format\": \".2%\"}, \"x\": {\"type\": \"quantitative\", \"axis\": {\"format\": \".0%\"}, \"field\": \"percent\"}, \"y\": {\"type\": \"nominal\", \"field\": \"emotion\", \"sort\": \"-x\"}}, \"title\": \"Expected label:  surprise | n= 1922\"}], \"data\": {\"name\": \"data-72c0b522fa477c37d144ad11e2a86f05\"}, \"height\": 300, \"width\": 300}]}, {\"hconcat\": [{\"layer\": [{\"mark\": \"bar\", \"encoding\": {\"x\": {\"type\": \"quantitative\", \"axis\": {\"format\": \".0%\"}, \"field\": \"percent\"}, \"y\": {\"type\": \"nominal\", \"field\": \"emotion\", \"sort\": \"-x\"}}, \"title\": \"Expected label:  happiness | n= 1889\"}, {\"mark\": {\"type\": \"text\", \"align\": \"left\", \"baseline\": \"middle\", \"dx\": 3, \"fontSize\": 10}, \"encoding\": {\"text\": {\"type\": \"quantitative\", \"field\": \"percent\", \"format\": \".2%\"}, \"x\": {\"type\": \"quantitative\", \"axis\": {\"format\": \".0%\"}, \"field\": \"percent\"}, \"y\": {\"type\": \"nominal\", \"field\": \"emotion\", \"sort\": \"-x\"}}, \"title\": \"Expected label:  happiness | n= 1889\"}], \"data\": {\"name\": \"data-3d4648088be7417b41f02866eb216c72\"}, \"height\": 300, \"width\": 300}, {\"layer\": [{\"mark\": \"bar\", \"encoding\": {\"x\": {\"type\": \"quantitative\", \"axis\": {\"format\": \".0%\"}, \"field\": \"percent\"}, \"y\": {\"type\": \"nominal\", \"field\": \"emotion\", \"sort\": \"-x\"}}, \"title\": \"Expected label:  sadness | n= 2006\"}, {\"mark\": {\"type\": \"text\", \"align\": \"left\", \"baseline\": \"middle\", \"dx\": 3, \"fontSize\": 10}, \"encoding\": {\"text\": {\"type\": \"quantitative\", \"field\": \"percent\", \"format\": \".2%\"}, \"x\": {\"type\": \"quantitative\", \"axis\": {\"format\": \".0%\"}, \"field\": \"percent\"}, \"y\": {\"type\": \"nominal\", \"field\": \"emotion\", \"sort\": \"-x\"}}, \"title\": \"Expected label:  sadness | n= 2006\"}], \"data\": {\"name\": \"data-39f6e781a069fafd85d8fc646143b865\"}, \"height\": 300, \"width\": 300}]}, {\"hconcat\": [{\"layer\": [{\"mark\": \"bar\", \"encoding\": {\"x\": {\"type\": \"quantitative\", \"axis\": {\"format\": \".0%\"}, \"field\": \"percent\"}, \"y\": {\"type\": \"nominal\", \"field\": \"emotion\", \"sort\": \"-x\"}}, \"title\": \"Expected label:  neutral | n= 1662\"}, {\"mark\": {\"type\": \"text\", \"align\": \"left\", \"baseline\": \"middle\", \"dx\": 3, \"fontSize\": 10}, \"encoding\": {\"text\": {\"type\": \"quantitative\", \"field\": \"percent\", \"format\": \".2%\"}, \"x\": {\"type\": \"quantitative\", \"axis\": {\"format\": \".0%\"}, \"field\": \"percent\"}, \"y\": {\"type\": \"nominal\", \"field\": \"emotion\", \"sort\": \"-x\"}}, \"title\": \"Expected label:  neutral | n= 1662\"}], \"data\": {\"name\": \"data-00f2e6dde62ac15cf82f613a6841b47a\"}, \"height\": 300, \"width\": 300}, {\"layer\": [{\"mark\": \"bar\", \"encoding\": {\"x\": {\"type\": \"quantitative\", \"axis\": {\"format\": \".0%\"}, \"field\": \"percent\"}, \"y\": {\"type\": \"nominal\", \"field\": \"emotion\", \"sort\": \"-x\"}}, \"title\": \"Expected label:  uncertain | n= 1770\"}, {\"mark\": {\"type\": \"text\", \"align\": \"left\", \"baseline\": \"middle\", \"dx\": 3, \"fontSize\": 10}, \"encoding\": {\"text\": {\"type\": \"quantitative\", \"field\": \"percent\", \"format\": \".2%\"}, \"x\": {\"type\": \"quantitative\", \"axis\": {\"format\": \".0%\"}, \"field\": \"percent\"}, \"y\": {\"type\": \"nominal\", \"field\": \"emotion\", \"sort\": \"-x\"}}, \"title\": \"Expected label:  uncertain | n= 1770\"}], \"data\": {\"name\": \"data-fc304bb44a3e4b779d64acc75d8e82ed\"}, \"height\": 300, \"width\": 300}]}], \"$schema\": \"https://vega.github.io/schema/vega-lite/v4.8.1.json\", \"datasets\": {\"data-47c3730addeed9f7b34dd60eef7b20de\": [{\"counts\": 408, \"emotion\": \"angri\", \"percent\": 0.21679064824654623}, {\"counts\": 191, \"emotion\": \"mad\", \"percent\": 0.10148777895855472}, {\"counts\": 120, \"emotion\": \"upset\", \"percent\": 0.06376195536663125}, {\"counts\": 72, \"emotion\": \"confus\", \"percent\": 0.03825717321997875}, {\"counts\": 65, \"emotion\": \"sad\", \"percent\": 0.03453772582359192}, {\"counts\": 61, \"emotion\": \"seriou\", \"percent\": 0.032412327311370885}, {\"counts\": 42, \"emotion\": \"frustrat\", \"percent\": 0.022316684378320937}, {\"counts\": 40, \"emotion\": \"none\", \"percent\": 0.021253985122210415}, {\"counts\": 35, \"emotion\": \"annoy\", \"percent\": 0.018597236981934114}, {\"counts\": 26, \"emotion\": \"silli\", \"percent\": 0.01381509032943677}, {\"counts\": 24, \"emotion\": \"anger\", \"percent\": 0.012752391073326248}, {\"counts\": 21, \"emotion\": \"disappoint\", \"percent\": 0.011158342189160468}, {\"counts\": 18, \"emotion\": \"unhappi\", \"percent\": 0.009564293304994687}, {\"counts\": 18, \"emotion\": \"happi\", \"percent\": 0.009564293304994687}, {\"counts\": 17, \"emotion\": \"disgust\", \"percent\": 0.009032943676939426}, {\"counts\": 16, \"emotion\": \"focus\", \"percent\": 0.008501594048884165}, {\"counts\": 15, \"emotion\": \"unpleas\", \"percent\": 0.007970244420828906}, {\"counts\": 14, \"emotion\": \"frustur\", \"percent\": 0.007438894792773645}, {\"counts\": 13, \"emotion\": \"concern\", \"percent\": 0.006907545164718385}, {\"counts\": 13, \"emotion\": \"calm\", \"percent\": 0.006907545164718385}], \"data-ab787a3f7be1749dd0400d29215e1a19\": [{\"counts\": 286, \"emotion\": \"disgust\", \"percent\": 0.15384615384615385}, {\"counts\": 153, \"emotion\": \"confus\", \"percent\": 0.08230231307154384}, {\"counts\": 117, \"emotion\": \"angri\", \"percent\": 0.06293706293706294}, {\"counts\": 90, \"emotion\": \"mad\", \"percent\": 0.04841312533620226}, {\"counts\": 69, \"emotion\": \"silli\", \"percent\": 0.037116729424421735}, {\"counts\": 66, \"emotion\": \"upset\", \"percent\": 0.03550295857988166}, {\"counts\": 54, \"emotion\": \"happi\", \"percent\": 0.029047875201721356}, {\"counts\": 51, \"emotion\": \"annoy\", \"percent\": 0.027434104357181282}, {\"counts\": 44, \"emotion\": \"shock\", \"percent\": 0.023668639053254437}, {\"counts\": 38, \"emotion\": \"sad\", \"percent\": 0.020441097364174286}, {\"counts\": 34, \"emotion\": \"none\", \"percent\": 0.01828940290478752}, {\"counts\": 31, \"emotion\": \"surpris\", \"percent\": 0.016675632060247445}, {\"counts\": 29, \"emotion\": \"goofi\", \"percent\": 0.015599784830554062}, {\"counts\": 24, \"emotion\": \"scare\", \"percent\": 0.012910166756320602}, {\"counts\": 22, \"emotion\": \"funni\", \"percent\": 0.011834319526627219}, {\"counts\": 22, \"emotion\": \"unhappi\", \"percent\": 0.011834319526627219}, {\"counts\": 20, \"emotion\": \"gross\", \"percent\": 0.010758472296933835}, {\"counts\": 18, \"emotion\": \"unpleas\", \"percent\": 0.009682625067240451}, {\"counts\": 18, \"emotion\": \"sour\", \"percent\": 0.009682625067240451}, {\"counts\": 16, \"emotion\": \"play\", \"percent\": 0.008606777837547068}], \"data-26d1fc5be44cbd5c66ce8b75a0a352e8\": [{\"counts\": 227, \"emotion\": \"shock\", \"percent\": 0.11534552845528455}, {\"counts\": 202, \"emotion\": \"scare\", \"percent\": 0.10264227642276423}, {\"counts\": 160, \"emotion\": \"sad\", \"percent\": 0.08130081300813008}, {\"counts\": 156, \"emotion\": \"surpris\", \"percent\": 0.07926829268292683}, {\"counts\": 101, \"emotion\": \"confus\", \"percent\": 0.051321138211382115}, {\"counts\": 69, \"emotion\": \"upset\", \"percent\": 0.0350609756097561}, {\"counts\": 61, \"emotion\": \"disgust\", \"percent\": 0.030995934959349592}, {\"counts\": 54, \"emotion\": \"excit\", \"percent\": 0.027439024390243903}, {\"counts\": 54, \"emotion\": \"happi\", \"percent\": 0.027439024390243903}, {\"counts\": 51, \"emotion\": \"worri\", \"percent\": 0.025914634146341462}, {\"counts\": 37, \"emotion\": \"supris\", \"percent\": 0.018800813008130083}, {\"counts\": 32, \"emotion\": \"none\", \"percent\": 0.016260162601626018}, {\"counts\": 27, \"emotion\": \"silli\", \"percent\": 0.013719512195121951}, {\"counts\": 26, \"emotion\": \"angri\", \"percent\": 0.013211382113821139}, {\"counts\": 19, \"emotion\": \"cri\", \"percent\": 0.009654471544715448}, {\"counts\": 19, \"emotion\": \"fear\", \"percent\": 0.009654471544715448}, {\"counts\": 18, \"emotion\": \"concern\", \"percent\": 0.009146341463414634}, {\"counts\": 17, \"emotion\": \"mad\", \"percent\": 0.008638211382113821}, {\"counts\": 16, \"emotion\": \"funni\", \"percent\": 0.008130081300813009}, {\"counts\": 16, \"emotion\": \"frighten\", \"percent\": 0.008130081300813009}], \"data-72c0b522fa477c37d144ad11e2a86f05\": [{\"counts\": 273, \"emotion\": \"surpris\", \"percent\": 0.14203954214360043}, {\"counts\": 254, \"emotion\": \"shock\", \"percent\": 0.13215400624349635}, {\"counts\": 198, \"emotion\": \"happi\", \"percent\": 0.10301768990634755}, {\"counts\": 99, \"emotion\": \"confus\", \"percent\": 0.051508844953173774}, {\"counts\": 93, \"emotion\": \"excit\", \"percent\": 0.04838709677419355}, {\"counts\": 61, \"emotion\": \"scare\", \"percent\": 0.03173777315296566}, {\"counts\": 51, \"emotion\": \"supris\", \"percent\": 0.026534859521331947}, {\"counts\": 42, \"emotion\": \"silli\", \"percent\": 0.021852237252861603}, {\"counts\": 30, \"emotion\": \"none\", \"percent\": 0.015608740894901144}, {\"counts\": 27, \"emotion\": \"goofi\", \"percent\": 0.01404786680541103}, {\"counts\": 24, \"emotion\": \"funni\", \"percent\": 0.012486992715920915}, {\"counts\": 21, \"emotion\": \"interest\", \"percent\": 0.010926118626430802}, {\"counts\": 20, \"emotion\": \"intrigu\", \"percent\": 0.01040582726326743}, {\"counts\": 20, \"emotion\": \"worri\", \"percent\": 0.01040582726326743}, {\"counts\": 17, \"emotion\": \"unhappi\", \"percent\": 0.008844953173777315}, {\"counts\": 17, \"emotion\": \"sad\", \"percent\": 0.008844953173777315}, {\"counts\": 15, \"emotion\": \"curiou\", \"percent\": 0.007804370447450572}, {\"counts\": 15, \"emotion\": \"amaz\", \"percent\": 0.007804370447450572}, {\"counts\": 15, \"emotion\": \"uncomfort\", \"percent\": 0.007804370447450572}, {\"counts\": 14, \"emotion\": \"unpleas\", \"percent\": 0.007284079084287201}], \"data-3d4648088be7417b41f02866eb216c72\": [{\"counts\": 832, \"emotion\": \"happi\", \"percent\": 0.44044467972472207}, {\"counts\": 121, \"emotion\": \"content\", \"percent\": 0.06405505558496559}, {\"counts\": 112, \"emotion\": \"excit\", \"percent\": 0.059290629962943354}, {\"counts\": 87, \"emotion\": \"smile\", \"percent\": 0.04605611434621493}, {\"counts\": 38, \"emotion\": \"pleas\", \"percent\": 0.02011646373742721}, {\"counts\": 31, \"emotion\": \"calm\", \"percent\": 0.01641079936474325}, {\"counts\": 27, \"emotion\": \"none\", \"percent\": 0.014293276866066702}, {\"counts\": 19, \"emotion\": \"joy\", \"percent\": 0.010058231868713605}, {\"counts\": 17, \"emotion\": \"confid\", \"percent\": 0.008999470619375331}, {\"counts\": 17, \"emotion\": \"cheer\", \"percent\": 0.008999470619375331}, {\"counts\": 15, \"emotion\": \"silli\", \"percent\": 0.007940709370037057}, {\"counts\": 15, \"emotion\": \"unhappi\", \"percent\": 0.007940709370037057}, {\"counts\": 13, \"emotion\": \"proud\", \"percent\": 0.006881948120698782}, {\"counts\": 13, \"emotion\": \"unpleas\", \"percent\": 0.006881948120698782}, {\"counts\": 13, \"emotion\": \"surpris\", \"percent\": 0.006881948120698782}, {\"counts\": 12, \"emotion\": \"uncomfort\", \"percent\": 0.006352567496029645}, {\"counts\": 11, \"emotion\": \"thrill\", \"percent\": 0.005823186871360508}, {\"counts\": 10, \"emotion\": \"teeth\", \"percent\": 0.005293806246691371}, {\"counts\": 10, \"emotion\": \"bore\", \"percent\": 0.005293806246691371}, {\"counts\": 9, \"emotion\": \"grin\", \"percent\": 0.004764425622022234}], \"data-39f6e781a069fafd85d8fc646143b865\": [{\"counts\": 657, \"emotion\": \"sad\", \"percent\": 0.3275174476570289}, {\"counts\": 170, \"emotion\": \"upset\", \"percent\": 0.0847457627118644}, {\"counts\": 67, \"emotion\": \"cri\", \"percent\": 0.03339980059820538}, {\"counts\": 62, \"emotion\": \"angri\", \"percent\": 0.03090727816550349}, {\"counts\": 43, \"emotion\": \"regret\", \"percent\": 0.02143569292123629}, {\"counts\": 39, \"emotion\": \"confus\", \"percent\": 0.019441674975074777}, {\"counts\": 38, \"emotion\": \"mad\", \"percent\": 0.018943170488534396}, {\"counts\": 37, \"emotion\": \"scare\", \"percent\": 0.018444666001994018}, {\"counts\": 32, \"emotion\": \"worri\", \"percent\": 0.015952143569292122}, {\"counts\": 30, \"emotion\": \"disappoint\", \"percent\": 0.014955134596211365}, {\"counts\": 30, \"emotion\": \"none\", \"percent\": 0.014955134596211365}, {\"counts\": 26, \"emotion\": \"hurt\", \"percent\": 0.01296111665004985}, {\"counts\": 26, \"emotion\": \"unhappi\", \"percent\": 0.01296111665004985}, {\"counts\": 23, \"emotion\": \"depress\", \"percent\": 0.011465603190428714}, {\"counts\": 21, \"emotion\": \"distress\", \"percent\": 0.010468594217347957}, {\"counts\": 18, \"emotion\": \"distraught\", \"percent\": 0.00897308075772682}, {\"counts\": 18, \"emotion\": \"tear\", \"percent\": 0.00897308075772682}, {\"counts\": 17, \"emotion\": \"seriou\", \"percent\": 0.00847457627118644}, {\"counts\": 17, \"emotion\": \"unpleas\", \"percent\": 0.00847457627118644}, {\"counts\": 16, \"emotion\": \"disgust\", \"percent\": 0.007976071784646061}], \"data-00f2e6dde62ac15cf82f613a6841b47a\": [{\"counts\": 97, \"emotion\": \"content\", \"percent\": 0.05836341756919374}, {\"counts\": 87, \"emotion\": \"happi\", \"percent\": 0.052346570397111915}, {\"counts\": 79, \"emotion\": \"sad\", \"percent\": 0.04753309265944645}, {\"counts\": 79, \"emotion\": \"calm\", \"percent\": 0.04753309265944645}, {\"counts\": 78, \"emotion\": \"none\", \"percent\": 0.04693140794223827}, {\"counts\": 64, \"emotion\": \"seriou\", \"percent\": 0.03850782190132371}, {\"counts\": 60, \"emotion\": \"confus\", \"percent\": 0.036101083032490974}, {\"counts\": 42, \"emotion\": \"mad\", \"percent\": 0.02527075812274368}, {\"counts\": 42, \"emotion\": \"bore\", \"percent\": 0.02527075812274368}, {\"counts\": 38, \"emotion\": \"blank\", \"percent\": 0.02286401925391095}, {\"counts\": 37, \"emotion\": \"angri\", \"percent\": 0.022262334536702767}, {\"counts\": 36, \"emotion\": \"indiffer\", \"percent\": 0.021660649819494584}, {\"counts\": 27, \"emotion\": \"focus\", \"percent\": 0.016245487364620937}, {\"counts\": 27, \"emotion\": \"tire\", \"percent\": 0.016245487364620937}, {\"counts\": 27, \"emotion\": \"annoy\", \"percent\": 0.016245487364620937}, {\"counts\": 26, \"emotion\": \"stare\", \"percent\": 0.015643802647412757}, {\"counts\": 26, \"emotion\": \"chill\", \"percent\": 0.015643802647412757}, {\"counts\": 24, \"emotion\": \"unhappi\", \"percent\": 0.01444043321299639}, {\"counts\": 23, \"emotion\": \"upset\", \"percent\": 0.013838748495788207}, {\"counts\": 17, \"emotion\": \"normal\", \"percent\": 0.01022864019253911}], \"data-fc304bb44a3e4b779d64acc75d8e82ed\": [{\"counts\": 158, \"emotion\": \"happi\", \"percent\": 0.08926553672316384}, {\"counts\": 114, \"emotion\": \"silli\", \"percent\": 0.06440677966101695}, {\"counts\": 101, \"emotion\": \"confus\", \"percent\": 0.05706214689265537}, {\"counts\": 69, \"emotion\": \"goofi\", \"percent\": 0.03898305084745763}, {\"counts\": 55, \"emotion\": \"none\", \"percent\": 0.031073446327683617}, {\"counts\": 46, \"emotion\": \"funni\", \"percent\": 0.02598870056497175}, {\"counts\": 41, \"emotion\": \"surpris\", \"percent\": 0.023163841807909605}, {\"counts\": 40, \"emotion\": \"angri\", \"percent\": 0.022598870056497175}, {\"counts\": 40, \"emotion\": \"annoy\", \"percent\": 0.022598870056497175}, {\"counts\": 37, \"emotion\": \"sad\", \"percent\": 0.020903954802259886}, {\"counts\": 37, \"emotion\": \"shock\", \"percent\": 0.020903954802259886}, {\"counts\": 30, \"emotion\": \"content\", \"percent\": 0.01694915254237288}, {\"counts\": 27, \"emotion\": \"excit\", \"percent\": 0.015254237288135594}, {\"counts\": 21, \"emotion\": \"bore\", \"percent\": 0.011864406779661017}, {\"counts\": 21, \"emotion\": \"upset\", \"percent\": 0.011864406779661017}, {\"counts\": 19, \"emotion\": \"calm\", \"percent\": 0.010734463276836158}, {\"counts\": 19, \"emotion\": \"crazi\", \"percent\": 0.010734463276836158}, {\"counts\": 18, \"emotion\": \"unhappi\", \"percent\": 0.010169491525423728}, {\"counts\": 18, \"emotion\": \"disappoint\", \"percent\": 0.010169491525423728}, {\"counts\": 17, \"emotion\": \"pose\", \"percent\": 0.0096045197740113}]}}, {\"mode\": \"vega-lite\"});\n",
       "</script>"
      ],
      "text/plain": [
       "alt.VConcatChart(...)"
      ]
     },
     "execution_count": 462,
     "metadata": {},
     "output_type": "execute_result"
    }
   ],
   "source": [
    "(chart_anger | chart_disgust) & (chart_fear | chart_surprise) & (chart_happiness | chart_sadness) & (chart_neutral | chart_uncertain) "
   ]
  },
  {
   "cell_type": "markdown",
   "id": "724515dd-27e3-4c52-bf63-f6633fb5a2ba",
   "metadata": {},
   "source": [
    "### Most frequently used labels by photo"
   ]
  },
  {
   "cell_type": "code",
   "execution_count": 463,
   "id": "9e54fc68-bf4a-4fc2-81f8-a2f3a71388e5",
   "metadata": {},
   "outputs": [],
   "source": [
    "def photo_chart(df_emo_answers, emotion,  i):\n",
    "    df = df_add_label(df_emo_answers, emotion) # add emotion label\n",
    "    photo_id_list = df['photo_id'].tolist() # photo id to list\n",
    "    splited_photo_id = np.array_split(photo_id_list, 24) # split photo id by photo\n",
    "    df = df[df['photo_id'].isin(splited_photo_id[i])] # select photo rows   \n",
    "    df_url = df[['url']].head(1)  # get url for chart\n",
    "    \n",
    "    face = alt.Chart(df_url).mark_image(width=110, height=110, align='right', xOffset=0, yOffset=230).encode(url='url')\n",
    "    \n",
    "    df_emotion_ans = df.drop(['photo_id', 'ethnicity', 'sex', 'age', 'label', 'url'], axis=1) # clean cols\n",
    "    df_stack_emotion = formating_words(df_emotion_ans) # clean up words\n",
    "    df_stack_emotion['emotion_ps_steamed'] = df_stack_emotion['emotion'].apply(lambda x: ps.stem(x)) # steam\n",
    "    df_stack_emotion_count = count_freq_labels(df_stack_emotion, 'emotion_ps_steamed') # group and count\n",
    "    \n",
    "    chart = simple_per_bar(df_stack_emotion_count, 'percent:Q', 'emotion:N', width=300, height=300, top=20, title=\"Expected: \"+\" \"+emotion+\" | n = \"+    df_stack_emotion_count['counts'].sum().astype(str))\n",
    "    \n",
    "    return chart + face"
   ]
  },
  {
   "cell_type": "code",
   "execution_count": 464,
   "id": "e1f8095a-533a-45ab-92e8-91b168c8880e",
   "metadata": {},
   "outputs": [
    {
     "data": {
      "text/html": [
       "\n",
       "<div id=\"altair-viz-24969007566e466da7d29d609084f2dd\"></div>\n",
       "<script type=\"text/javascript\">\n",
       "  (function(spec, embedOpt){\n",
       "    let outputDiv = document.currentScript.previousElementSibling;\n",
       "    if (outputDiv.id !== \"altair-viz-24969007566e466da7d29d609084f2dd\") {\n",
       "      outputDiv = document.getElementById(\"altair-viz-24969007566e466da7d29d609084f2dd\");\n",
       "    }\n",
       "    const paths = {\n",
       "      \"vega\": \"https://cdn.jsdelivr.net/npm//vega@5?noext\",\n",
       "      \"vega-lib\": \"https://cdn.jsdelivr.net/npm//vega-lib?noext\",\n",
       "      \"vega-lite\": \"https://cdn.jsdelivr.net/npm//vega-lite@4.8.1?noext\",\n",
       "      \"vega-embed\": \"https://cdn.jsdelivr.net/npm//vega-embed@6?noext\",\n",
       "    };\n",
       "\n",
       "    function loadScript(lib) {\n",
       "      return new Promise(function(resolve, reject) {\n",
       "        var s = document.createElement('script');\n",
       "        s.src = paths[lib];\n",
       "        s.async = true;\n",
       "        s.onload = () => resolve(paths[lib]);\n",
       "        s.onerror = () => reject(`Error loading script: ${paths[lib]}`);\n",
       "        document.getElementsByTagName(\"head\")[0].appendChild(s);\n",
       "      });\n",
       "    }\n",
       "\n",
       "    function showError(err) {\n",
       "      outputDiv.innerHTML = `<div class=\"error\" style=\"color:red;\">${err}</div>`;\n",
       "      throw err;\n",
       "    }\n",
       "\n",
       "    function displayChart(vegaEmbed) {\n",
       "      vegaEmbed(outputDiv, spec, embedOpt)\n",
       "        .catch(err => showError(`Javascript Error: ${err.message}<br>This usually means there's a typo in your chart specification. See the javascript console for the full traceback.`));\n",
       "    }\n",
       "\n",
       "    if(typeof define === \"function\" && define.amd) {\n",
       "      requirejs.config({paths});\n",
       "      require([\"vega-embed\"], displayChart, err => showError(`Error loading script: ${err.message}`));\n",
       "    } else if (typeof vegaEmbed === \"function\") {\n",
       "      displayChart(vegaEmbed);\n",
       "    } else {\n",
       "      loadScript(\"vega\")\n",
       "        .then(() => loadScript(\"vega-lite\"))\n",
       "        .then(() => loadScript(\"vega-embed\"))\n",
       "        .catch(showError)\n",
       "        .then(() => displayChart(vegaEmbed));\n",
       "    }\n",
       "  })({\"config\": {\"view\": {\"continuousWidth\": 400, \"continuousHeight\": 300}}, \"layer\": [{\"mark\": \"bar\", \"encoding\": {\"x\": {\"type\": \"quantitative\", \"axis\": {\"format\": \".0%\"}, \"field\": \"percent\"}, \"y\": {\"type\": \"nominal\", \"field\": \"emotion\", \"sort\": \"-x\"}}, \"title\": \"Expected:  anger | n = 77\"}, {\"mark\": {\"type\": \"text\", \"align\": \"left\", \"baseline\": \"middle\", \"dx\": 3, \"fontSize\": 10}, \"encoding\": {\"text\": {\"type\": \"quantitative\", \"field\": \"percent\", \"format\": \".2%\"}, \"x\": {\"type\": \"quantitative\", \"axis\": {\"format\": \".0%\"}, \"field\": \"percent\"}, \"y\": {\"type\": \"nominal\", \"field\": \"emotion\", \"sort\": \"-x\"}}, \"title\": \"Expected:  anger | n = 77\"}, {\"data\": {\"name\": \"data-edba9728e004d60754c9b0a56514b93c\"}, \"mark\": {\"type\": \"image\", \"align\": \"right\", \"height\": 110, \"width\": 110, \"xOffset\": 0, \"yOffset\": 230}, \"encoding\": {\"url\": {\"type\": \"nominal\", \"field\": \"url\"}}}], \"data\": {\"name\": \"data-efd339a2767183d1bb351ebf80305350\"}, \"height\": 300, \"width\": 300, \"$schema\": \"https://vega.github.io/schema/vega-lite/v4.8.1.json\", \"datasets\": {\"data-efd339a2767183d1bb351ebf80305350\": [{\"counts\": 10, \"emotion\": \"silli\", \"percent\": 0.12987012987012986}, {\"counts\": 9, \"emotion\": \"angri\", \"percent\": 0.11688311688311688}, {\"counts\": 8, \"emotion\": \"happi\", \"percent\": 0.1038961038961039}, {\"counts\": 6, \"emotion\": \"goofi\", \"percent\": 0.07792207792207792}, {\"counts\": 5, \"emotion\": \"upset\", \"percent\": 0.06493506493506493}, {\"counts\": 4, \"emotion\": \"play\", \"percent\": 0.05194805194805195}, {\"counts\": 3, \"emotion\": \"funni\", \"percent\": 0.03896103896103896}, {\"counts\": 3, \"emotion\": \"smile\", \"percent\": 0.03896103896103896}, {\"counts\": 3, \"emotion\": \"mad\", \"percent\": 0.03896103896103896}, {\"counts\": 2, \"emotion\": \"teeth\", \"percent\": 0.025974025974025976}, {\"counts\": 2, \"emotion\": \"crazi\", \"percent\": 0.025974025974025976}, {\"counts\": 1, \"emotion\": \"grin\", \"percent\": 0.012987012987012988}, {\"counts\": 1, \"emotion\": \"young\", \"percent\": 0.012987012987012988}, {\"counts\": 1, \"emotion\": \"proud\", \"percent\": 0.012987012987012988}, {\"counts\": 1, \"emotion\": \"naughti\", \"percent\": 0.012987012987012988}, {\"counts\": 1, \"emotion\": \"anger\", \"percent\": 0.012987012987012988}, {\"counts\": 1, \"emotion\": \"anxiou\", \"percent\": 0.012987012987012988}, {\"counts\": 1, \"emotion\": \"shock\", \"percent\": 0.012987012987012988}, {\"counts\": 1, \"emotion\": \"well\", \"percent\": 0.012987012987012988}, {\"counts\": 1, \"emotion\": \"bother\", \"percent\": 0.012987012987012988}], \"data-edba9728e004d60754c9b0a56514b93c\": [{\"url\": \"https://uwmadison.co1.qualtrics.com/ControlPanel/Graphic.php?IM=IM_9Gfr3sYkHq3hHG6\"}]}}, {\"mode\": \"vega-lite\"});\n",
       "</script>"
      ],
      "text/plain": [
       "alt.LayerChart(...)"
      ]
     },
     "execution_count": 464,
     "metadata": {},
     "output_type": "execute_result"
    }
   ],
   "source": [
    "photo_chart(df_emo_answers, 'anger',  7)"
   ]
  },
  {
   "cell_type": "code",
   "execution_count": 465,
   "id": "e217f91e-d775-4ade-aad3-fc5f88bc98cd",
   "metadata": {},
   "outputs": [],
   "source": [
    "def charts_emotion_faces(df_emo_answers, emotion):\n",
    "    charts = []\n",
    "    for i in range(0, 24):\n",
    "        charts.append(photo_chart(df_emo_answers, emotion,  i))\n",
    "    return charts"
   ]
  },
  {
   "cell_type": "code",
   "execution_count": 466,
   "id": "bdba3ffd-63df-47fd-b53b-b255c367d61e",
   "metadata": {},
   "outputs": [],
   "source": [
    "def dashboard_emotion_faces(charts, rows):\n",
    "    if rows == 1:\n",
    "        dashboard= (charts[0] | charts[1] | charts[2])\n",
    "    if rows == 2:\n",
    "        dashboard= (charts[0] | charts[1] | charts[2]) & \\\n",
    "                   (charts[3] | charts[4] | charts[5]) \n",
    "    if rows == 3:\n",
    "        dashboard= (charts[0] | charts[1] | charts[2]) & \\\n",
    "                   (charts[3] | charts[4] | charts[5]) & \\\n",
    "                   (charts[6] | charts[7] | charts[8])\n",
    "    if rows == 4:\n",
    "        dashboard= (charts[0] | charts[1] | charts[2]) & \\\n",
    "                   (charts[3] | charts[4] | charts[5]) & \\\n",
    "                   (charts[6] | charts[7] | charts[8]) & \\\n",
    "                   (charts[9] | charts[10] | charts[11])\n",
    "    if rows == 5:\n",
    "        dashboard= (charts[0] | charts[1] | charts[2]) & \\\n",
    "                   (charts[3] | charts[4] | charts[5]) & \\\n",
    "                   (charts[6] | charts[7] | charts[8]) & \\\n",
    "                   (charts[9] | charts[10] | charts[11]) & \\\n",
    "                   (charts[12] | charts[13] | charts[14]) \n",
    "    if rows == 6:\n",
    "        dashboard= (charts[0] | charts[1] | charts[2]) & \\\n",
    "                   (charts[3] | charts[4] | charts[5]) & \\\n",
    "                   (charts[6] | charts[7] | charts[8]) & \\\n",
    "                   (charts[9] | charts[10] | charts[11]) & \\\n",
    "                   (charts[12] | charts[13] | charts[14]) & \\\n",
    "                   (charts[15] | charts[16] | charts[17])\n",
    "    if rows == 7:\n",
    "        dashboard= (charts[0] | charts[1] | charts[2]) & \\\n",
    "                   (charts[3] | charts[4] | charts[5]) & \\\n",
    "                   (charts[6] | charts[7] | charts[8]) & \\\n",
    "                   (charts[9] | charts[10] | charts[11]) & \\\n",
    "                   (charts[12] | charts[13] | charts[14]) & \\\n",
    "                   (charts[15] | charts[16] | charts[17]) & \\\n",
    "                   (charts[18] | charts[19] | charts[20]) \n",
    "    if rows == 8:\n",
    "        dashboard= (charts[0] | charts[1] | charts[2]) & \\\n",
    "                   (charts[3] | charts[4] | charts[5]) & \\\n",
    "                   (charts[6] | charts[7] | charts[8]) & \\\n",
    "                   (charts[9] | charts[10] | charts[11]) & \\\n",
    "                   (charts[12] | charts[13] | charts[14]) & \\\n",
    "                   (charts[15] | charts[16] | charts[17]) & \\\n",
    "                   (charts[18] | charts[19] | charts[20]) & \\\n",
    "                   (charts[21] | charts[22] | charts[23]) \n",
    "        \n",
    "    return dashboard"
   ]
  },
  {
   "cell_type": "code",
   "execution_count": 467,
   "id": "05da152b-2b10-450e-b9f8-10bd591f603b",
   "metadata": {},
   "outputs": [],
   "source": [
    "# charts = charts_emotion_faces(df_emo_answers, 'sadness')\n",
    "# dashboard_emotion_faces(charts, 8)"
   ]
  },
  {
   "cell_type": "markdown",
   "id": "80b28cc1-a0f4-4fee-b6c2-bd0568e47514",
   "metadata": {},
   "source": [
    "## Emotion percentages as feature vectors"
   ]
  },
  {
   "cell_type": "code",
   "execution_count": 468,
   "id": "e5e6061d-45bf-4c75-b2b0-fb84d090f692",
   "metadata": {},
   "outputs": [],
   "source": [
    "photo_ids = pd.read_csv('../clean_data/photo_ids.csv')"
   ]
  },
  {
   "cell_type": "code",
   "execution_count": 469,
   "id": "f83674b7-91a3-4ff0-8af1-1897793164cb",
   "metadata": {},
   "outputs": [],
   "source": [
    "df_emo_overall_raw = count_freq_labels(df_stack_single_word, 'emotion_ps_steamed')\n",
    "emotion_words_list_steam = df_emo_overall_raw['emotion'].str.lower().tolist()\n",
    "emotion_words_list = ['happiness','neutral', 'surprise','sadness', 'disgust', 'anger', 'fear', 'uncertain']"
   ]
  },
  {
   "cell_type": "code",
   "execution_count": 470,
   "id": "9f8c99a4-7371-471c-802c-19e2864f6afb",
   "metadata": {},
   "outputs": [],
   "source": [
    "# placeholder dataframe\n",
    "index_photos = photo_ids.iloc[:, 0] + '_1'\n",
    "df_emo_features = pd.DataFrame(columns=emotion_words_list_steam) \n",
    "# add key-ids\n",
    "df_emo_features.insert(loc=0, column='photo_id', value=index_photos)"
   ]
  },
  {
   "cell_type": "code",
   "execution_count": 471,
   "id": "7db3d4ef-53c6-4967-991a-8c9814a93a9d",
   "metadata": {},
   "outputs": [],
   "source": [
    "def fill_in_emotion_vectors(df_emo_features, df_emo_answers, emotion_words_list):\n",
    "    for emo in range(0, len(emotion_words_list)):\n",
    "        \n",
    "        emotion = emotion_words_list[emo] # get emotion word\n",
    "        df_ans = df_add_label(df_emo_answers, emotion) # ans for all pics of emo-word\n",
    "        photo_id_list = df_ans['photo_id'].tolist() # photo ids for the emotion word\n",
    "        splited_photo_id = np.array_split(photo_id_list, 24) # photo_id_list as an array \n",
    "        \n",
    "        for ids in range(0, len(splited_photo_id)):\n",
    "            photo_id = splited_photo_id[ids]\n",
    "            df_single = df_ans[df_ans['photo_id'].isin(photo_id)] # get row for nth photo\n",
    "            df_emotion_ans = df_single.drop(['photo_id', 'ethnicity', 'sex', \\\n",
    "                                             'age', 'label', 'url'], axis=1) # clean up for calculation\n",
    "            df_stack_emotion = formating_words(df_emotion_ans) \n",
    "            df_stack_emotion['emotion_ps_steamed'] = df_stack_emotion['emotion'].apply(lambda x: ps.stem(x)) # steam\n",
    "            source = count_freq_labels(df_stack_emotion, 'emotion_ps_steamed') # group and count / compute vectors\n",
    "            source = source[['percent', 'emotion']].T\n",
    "            source.columns = source.iloc[1].str.lower() # emotion words as cols\n",
    "            source.drop('emotion', axis=0, inplace=True) # clean up emotion row\n",
    "            source.reset_index(drop=True, inplace=True) # clean up index\n",
    "            source.columns.name = None\n",
    "            photo_id_str = photo_id[0] # photo id as str\n",
    "            source.insert(0, 'photo_id', photo_id_str) # photo id as col\n",
    "            # set photo id as col for easier manipulation\n",
    "            df_emo_features = df_emo_features.set_index('photo_id') \n",
    "            # fill in vectors where the value is available\n",
    "            df_emo_features.loc[photo_id_str] = pd.Series(source.T.to_dict()[0])\n",
    "            \n",
    "            df_emo_features['photo_id'] = df_emo_features.index # index back to column\n",
    "            df_emo_features.index.name = None \n",
    "            df_emo_features.reset_index(drop=True, inplace=True) # clean up index\n",
    "    \n",
    "    return df_emo_features\n",
    "            "
   ]
  },
  {
   "cell_type": "code",
   "execution_count": 520,
   "id": "4e05beab-2271-4c39-902f-fd096de97225",
   "metadata": {},
   "outputs": [],
   "source": [
    "df_emo_vectors = fill_in_emotion_vectors(df_emo_features, df_emo_answers, emotion_words_list)# df_emo_vectors = df_emo_vectors.fillna(0)\n",
    "df_emo_vectors = df_emo_vectors.fillna(0)\n",
    "df_label_raw = pd.read_csv('../data/emotion_labels.csv')\n",
    "df_emo_vectors = pd.concat([df_emo_vectors, df_label_raw], axis=1) # concat metadata\n",
    "df_emo_vectors.to_csv('../clean_data/free_choice_uw_students_vectors.csv', index=False)"
   ]
  },
  {
   "cell_type": "code",
   "execution_count": 473,
   "id": "1216d606-73b7-40a9-b03f-2dc01dd424a7",
   "metadata": {},
   "outputs": [],
   "source": [
    "# placeholder dataframe\n",
    "index_photos = photo_ids.iloc[:, 0] + '_1'\n",
    "df_emo_features = pd.DataFrame(columns=free_choice_word_list) # CHANGE TO NOT STEAMED\n",
    "# add key-ids\n",
    "df_emo_features.insert(loc=0, column='photo_id', value=index_photos)"
   ]
  },
  {
   "cell_type": "code",
   "execution_count": 474,
   "id": "1d819e1c-7708-417e-bc94-03e0c2d516ba",
   "metadata": {},
   "outputs": [],
   "source": [
    "def fill_in_emotion_counts(df_emo_features, df_emo_answers, emotion_words_list):\n",
    "    for emo in range(0, len(emotion_words_list)):\n",
    "        \n",
    "        emotion = emotion_words_list[emo] # get emotion word\n",
    "        df_ans = df_add_label(df_emo_answers, emotion) # ans for all pics of emo-word\n",
    "        photo_id_list = df_ans['photo_id'].tolist() # photo ids for the emotion word\n",
    "        splited_photo_id = np.array_split(photo_id_list, 24) # photo_id_list as an array \n",
    "        \n",
    "        for ids in range(0, len(splited_photo_id)):\n",
    "            photo_id = splited_photo_id[ids]\n",
    "            df_single = df_ans[df_ans['photo_id'].isin(photo_id)] # get row for nth photo\n",
    "            df_emotion_ans = df_single.drop(['photo_id', 'ethnicity', 'sex', \\\n",
    "                                             'age', 'label', 'url'], axis=1) # clean up for calculation\n",
    "            df_stack_emotion = formating_words(df_emotion_ans) \n",
    "            source = count_freq_labels(df_stack_emotion, 'emotion') # group and count / compute vectors   \n",
    "            ## count or percet\n",
    "            source = source[['counts', 'emotion']].T\n",
    "            source.columns = source.iloc[1].str.lower() # emotion words as cols\n",
    "            source.drop('emotion', axis=0, inplace=True) # clean up emotion row\n",
    "            source.reset_index(drop=True, inplace=True) # clean up index\n",
    "            source.columns.name = None\n",
    "            photo_id_str = photo_id[0] # photo id as str\n",
    "            source.insert(0, 'photo_id', photo_id_str) # photo id as col\n",
    "            # set photo id as col for easier manipulation\n",
    "            df_emo_features = df_emo_features.set_index('photo_id') \n",
    "            # fill in vectors where the value is available\n",
    "            df_emo_features.loc[photo_id_str] = pd.Series(source.T.to_dict()[0])\n",
    "            \n",
    "            df_emo_features['photo_id'] = df_emo_features.index # index back to column\n",
    "            df_emo_features.index.name = None \n",
    "            df_emo_features.reset_index(drop=True, inplace=True) # clean up index\n",
    "    \n",
    "    return df_emo_features\n",
    "            "
   ]
  },
  {
   "cell_type": "code",
   "execution_count": 475,
   "id": "c3edc761-8506-4b4c-9b4e-5db2ddf09147",
   "metadata": {},
   "outputs": [],
   "source": [
    "df_emo_counts = fill_in_emotion_counts(df_emo_features, df_emo_answers, emotion_words_list)\n",
    "# df_emo_counts = df_emo_counts.fillna(0) # replace NAs with 0\n",
    "df_label_raw = pd.read_csv('../data/emotion_labels.csv')\n",
    "df_emo_counts = pd.concat([df_emo_counts, df_label_raw], axis=1) # concat metadata\n",
    "df_emo_counts.to_csv('../clean_data/free_choice_uw_students_count_emotions.csv', index=False)"
   ]
  },
  {
   "cell_type": "markdown",
   "id": "e663d023-c93e-421b-8583-17afa0e108e6",
   "metadata": {},
   "source": [
    "# Clustering"
   ]
  },
  {
   "cell_type": "code",
   "execution_count": 476,
   "id": "529c700d-af79-4352-9a9f-e6fd2d815492",
   "metadata": {},
   "outputs": [],
   "source": [
    "from kneed import KneeLocator\n",
    "from sklearn import preprocessing as pp\n",
    "from sklearn.cluster import KMeans\n",
    "from sklearn.decomposition import PCA\n",
    "from sklearn.metrics import silhouette_score\n",
    "from sklearn.preprocessing import MinMaxScaler\n",
    "from sklearn import decomposition"
   ]
  },
  {
   "cell_type": "code",
   "execution_count": 477,
   "id": "8dd433a6-b2f7-4933-b717-493281f45bb0",
   "metadata": {},
   "outputs": [],
   "source": [
    "X = df_emo_vectors.copy().drop(['photo_id', 'ethnicity', 'sex', \\\n",
    "                                   'age', 'label', 'url'], axis=1)"
   ]
  },
  {
   "cell_type": "code",
   "execution_count": 478,
   "id": "ad8f22be-db62-4d1e-ab7d-509a4ed2d95b",
   "metadata": {},
   "outputs": [],
   "source": [
    "features = X.columns\n",
    "sX = pp.MinMaxScaler(copy=True)\n",
    "X.loc[:,features] = sX.fit_transform(X[features])"
   ]
  },
  {
   "cell_type": "code",
   "execution_count": 479,
   "id": "38787092-b991-4810-adc6-9200ecd09249",
   "metadata": {},
   "outputs": [],
   "source": [
    "# X.describe() # mean  = 0, SD =1"
   ]
  },
  {
   "cell_type": "code",
   "execution_count": 480,
   "id": "d9e26c04-1e94-478a-877e-169ed4561b0c",
   "metadata": {},
   "outputs": [],
   "source": [
    "# pca = decomposition.PCA(n_components=3)\n",
    "# pca.fit(X)\n",
    "# X_pca = pca.transform(X)"
   ]
  },
  {
   "cell_type": "code",
   "execution_count": 481,
   "id": "564ae72b-3ef8-46cc-9f15-a39d4bdfce3b",
   "metadata": {},
   "outputs": [],
   "source": [
    "# def k_means(n_clusters=3, n_inits=20, max_iter=1000, features=X):\n",
    "#     kmeans = KMeans(\n",
    "#     init=\"k-means++\",\n",
    "#     n_clusters=n_clusters,\n",
    "#     n_init=n_inits,\n",
    "#     max_iter=max_iter,\n",
    "#     random_state=42)\n",
    "#     kmeans.fit(features)\n",
    "    \n",
    "#     return kmeans"
   ]
  },
  {
   "cell_type": "code",
   "execution_count": 482,
   "id": "50b49d62-c1c3-4296-bd04-246519944873",
   "metadata": {},
   "outputs": [],
   "source": [
    "# kmeans_kwargs = {\n",
    "#     \"init\": \"k-means++\",\n",
    "#     \"n_init\": 20,\n",
    "#     \"max_iter\": 1000,\n",
    "#     \"random_state\": 42,\n",
    "# }\n",
    "\n",
    "# # A list holds the SSE values for each k\n",
    "# sse_pca = []\n",
    "# for k in range(1, 100):\n",
    "#     kmeans = KMeans(n_clusters=k, **kmeans_kwargs)\n",
    "#     kmeans.fit(X_pca)\n",
    "#     sse_pca.append(kmeans.inertia_)"
   ]
  },
  {
   "cell_type": "code",
   "execution_count": 483,
   "id": "e1764635-e904-4351-88b5-e60e12937d94",
   "metadata": {},
   "outputs": [],
   "source": [
    "# kl_pca = KneeLocator(\n",
    "#     range(1, 100), sse_pca, curve=\"convex\", direction=\"decreasing\"\n",
    "# )\n",
    "\n",
    "# kl_pca.elbow"
   ]
  },
  {
   "cell_type": "code",
   "execution_count": 484,
   "id": "316bf7ac-6845-4abe-a2dc-a4f90b93e1e2",
   "metadata": {},
   "outputs": [],
   "source": [
    "# source = pd.DataFrame({'y': sse_pca, 'x': range(1, 100)})"
   ]
  },
  {
   "cell_type": "code",
   "execution_count": 485,
   "id": "95800159-b54a-4613-9223-00646d8e9807",
   "metadata": {},
   "outputs": [],
   "source": [
    "# chart_elbow_pca = alt.Chart(source).mark_line().encode(\n",
    "#     alt.X('x:Q', title='Number of clusters - PCA'), \n",
    "#     alt.Y('y:Q', title='SSE'))"
   ]
  },
  {
   "cell_type": "code",
   "execution_count": 486,
   "id": "14896b89-71fb-4b99-acce-4e6c22f3b7ec",
   "metadata": {},
   "outputs": [],
   "source": [
    "# # A list holds the silhouette coefficients for each k\n",
    "# silhouette_coefficients_pca = []\n",
    "\n",
    "# # Notice you start at 2 clusters for silhouette coefficient\n",
    "# for k in range(2, 100):\n",
    "#     kmeans = KMeans(n_clusters=k, **kmeans_kwargs)\n",
    "#     kmeans.fit(X_pca)\n",
    "#     score = silhouette_score(X_pca, kmeans.labels_)\n",
    "#     silhouette_coefficients_pca.append(score)"
   ]
  },
  {
   "cell_type": "code",
   "execution_count": 487,
   "id": "460473ce-470d-4b1d-91d8-9d4dfa89354e",
   "metadata": {},
   "outputs": [],
   "source": [
    "# source = pd.DataFrame({'y': silhouette_coefficients_pca, 'x': range(2, 100)})"
   ]
  },
  {
   "cell_type": "code",
   "execution_count": 488,
   "id": "21fdb62a-726d-4475-a743-3a1a68ecb3d4",
   "metadata": {},
   "outputs": [],
   "source": [
    "# chart_silhouette_pca = alt.Chart(source).mark_line().encode(\n",
    "#     alt.X('x:Q', title='Number of clusters - PCA'), \n",
    "#     alt.Y('y:Q', title='Silhouette coefficients'))"
   ]
  },
  {
   "cell_type": "code",
   "execution_count": 489,
   "id": "157b9376-3611-4a74-8766-891c78f17d59",
   "metadata": {},
   "outputs": [],
   "source": [
    "k_means_eval_chart =  chart_silhouette_pca | chart_elbow_pca"
   ]
  },
  {
   "cell_type": "code",
   "execution_count": 490,
   "id": "c63fdb91-48d6-4209-a162-b1e787a7cdf3",
   "metadata": {},
   "outputs": [
    {
     "data": {
      "text/html": [
       "\n",
       "<div id=\"altair-viz-b4fa116fe68543d28a39164bab4a64e2\"></div>\n",
       "<script type=\"text/javascript\">\n",
       "  (function(spec, embedOpt){\n",
       "    let outputDiv = document.currentScript.previousElementSibling;\n",
       "    if (outputDiv.id !== \"altair-viz-b4fa116fe68543d28a39164bab4a64e2\") {\n",
       "      outputDiv = document.getElementById(\"altair-viz-b4fa116fe68543d28a39164bab4a64e2\");\n",
       "    }\n",
       "    const paths = {\n",
       "      \"vega\": \"https://cdn.jsdelivr.net/npm//vega@5?noext\",\n",
       "      \"vega-lib\": \"https://cdn.jsdelivr.net/npm//vega-lib?noext\",\n",
       "      \"vega-lite\": \"https://cdn.jsdelivr.net/npm//vega-lite@4.8.1?noext\",\n",
       "      \"vega-embed\": \"https://cdn.jsdelivr.net/npm//vega-embed@6?noext\",\n",
       "    };\n",
       "\n",
       "    function loadScript(lib) {\n",
       "      return new Promise(function(resolve, reject) {\n",
       "        var s = document.createElement('script');\n",
       "        s.src = paths[lib];\n",
       "        s.async = true;\n",
       "        s.onload = () => resolve(paths[lib]);\n",
       "        s.onerror = () => reject(`Error loading script: ${paths[lib]}`);\n",
       "        document.getElementsByTagName(\"head\")[0].appendChild(s);\n",
       "      });\n",
       "    }\n",
       "\n",
       "    function showError(err) {\n",
       "      outputDiv.innerHTML = `<div class=\"error\" style=\"color:red;\">${err}</div>`;\n",
       "      throw err;\n",
       "    }\n",
       "\n",
       "    function displayChart(vegaEmbed) {\n",
       "      vegaEmbed(outputDiv, spec, embedOpt)\n",
       "        .catch(err => showError(`Javascript Error: ${err.message}<br>This usually means there's a typo in your chart specification. See the javascript console for the full traceback.`));\n",
       "    }\n",
       "\n",
       "    if(typeof define === \"function\" && define.amd) {\n",
       "      requirejs.config({paths});\n",
       "      require([\"vega-embed\"], displayChart, err => showError(`Error loading script: ${err.message}`));\n",
       "    } else if (typeof vegaEmbed === \"function\") {\n",
       "      displayChart(vegaEmbed);\n",
       "    } else {\n",
       "      loadScript(\"vega\")\n",
       "        .then(() => loadScript(\"vega-lite\"))\n",
       "        .then(() => loadScript(\"vega-embed\"))\n",
       "        .catch(showError)\n",
       "        .then(() => displayChart(vegaEmbed));\n",
       "    }\n",
       "  })({\"config\": {\"view\": {\"continuousWidth\": 400, \"continuousHeight\": 300}}, \"hconcat\": [{\"data\": {\"name\": \"data-74118071fed976f5bb854cba02d6c2ba\"}, \"mark\": \"line\", \"encoding\": {\"x\": {\"type\": \"quantitative\", \"field\": \"x\", \"title\": \"Number of clusters - PCA\"}, \"y\": {\"type\": \"quantitative\", \"field\": \"y\", \"title\": \"Silhouette coefficients\"}}}, {\"data\": {\"name\": \"data-541f0ba1c791ab6f87b503823d808cf1\"}, \"mark\": \"line\", \"encoding\": {\"x\": {\"type\": \"quantitative\", \"field\": \"x\", \"title\": \"Number of clusters - PCA\"}, \"y\": {\"type\": \"quantitative\", \"field\": \"y\", \"title\": \"SSE\"}}}], \"$schema\": \"https://vega.github.io/schema/vega-lite/v4.8.1.json\", \"datasets\": {\"data-74118071fed976f5bb854cba02d6c2ba\": [{\"y\": 0.32253702554751373, \"x\": 2}, {\"y\": 0.38814297246637697, \"x\": 3}, {\"y\": 0.48026918578270283, \"x\": 4}, {\"y\": 0.41100545689474277, \"x\": 5}, {\"y\": 0.384456451626656, \"x\": 6}, {\"y\": 0.393247034930922, \"x\": 7}, {\"y\": 0.3915177376003399, \"x\": 8}, {\"y\": 0.35852459504491163, \"x\": 9}, {\"y\": 0.35170962537330563, \"x\": 10}, {\"y\": 0.3472889926425953, \"x\": 11}, {\"y\": 0.35992195366411917, \"x\": 12}, {\"y\": 0.3507830564838642, \"x\": 13}, {\"y\": 0.3363521519030111, \"x\": 14}, {\"y\": 0.3442895300802879, \"x\": 15}, {\"y\": 0.3409556715981659, \"x\": 16}, {\"y\": 0.32431766965388936, \"x\": 17}, {\"y\": 0.3019351128077669, \"x\": 18}, {\"y\": 0.30271488631280347, \"x\": 19}, {\"y\": 0.3279114311510381, \"x\": 20}, {\"y\": 0.31176001190881386, \"x\": 21}, {\"y\": 0.30444699295511846, \"x\": 22}, {\"y\": 0.3044562815202702, \"x\": 23}, {\"y\": 0.31053059463622873, \"x\": 24}, {\"y\": 0.29120371253825916, \"x\": 25}, {\"y\": 0.29244765310110005, \"x\": 26}, {\"y\": 0.29546191870298094, \"x\": 27}, {\"y\": 0.3096105852357436, \"x\": 28}, {\"y\": 0.2993388332683139, \"x\": 29}, {\"y\": 0.30257546788256967, \"x\": 30}, {\"y\": 0.3094818846607048, \"x\": 31}, {\"y\": 0.2969264802541889, \"x\": 32}, {\"y\": 0.30235643272494717, \"x\": 33}, {\"y\": 0.2962222694938777, \"x\": 34}, {\"y\": 0.31041556019452654, \"x\": 35}, {\"y\": 0.30765091767953234, \"x\": 36}, {\"y\": 0.3094540212724117, \"x\": 37}, {\"y\": 0.3102556678515407, \"x\": 38}, {\"y\": 0.31661061551941777, \"x\": 39}, {\"y\": 0.325522604286449, \"x\": 40}, {\"y\": 0.32598518028333917, \"x\": 41}, {\"y\": 0.3085638239055724, \"x\": 42}, {\"y\": 0.31536955695048985, \"x\": 43}, {\"y\": 0.31858613850502165, \"x\": 44}, {\"y\": 0.3323200142470854, \"x\": 45}, {\"y\": 0.30569400750499903, \"x\": 46}, {\"y\": 0.32983066896276964, \"x\": 47}, {\"y\": 0.31709996814453, \"x\": 48}, {\"y\": 0.3190840363799614, \"x\": 49}, {\"y\": 0.3273945557714133, \"x\": 50}, {\"y\": 0.33015557966754183, \"x\": 51}, {\"y\": 0.31135992396713386, \"x\": 52}, {\"y\": 0.3099423601908962, \"x\": 53}, {\"y\": 0.30799553911924715, \"x\": 54}, {\"y\": 0.32023357320405543, \"x\": 55}, {\"y\": 0.30736168280489934, \"x\": 56}, {\"y\": 0.3155627285811144, \"x\": 57}, {\"y\": 0.32562602455736583, \"x\": 58}, {\"y\": 0.3332290515812018, \"x\": 59}, {\"y\": 0.3186736373029721, \"x\": 60}, {\"y\": 0.3156980153818152, \"x\": 61}, {\"y\": 0.3256222337209485, \"x\": 62}, {\"y\": 0.3227798309152401, \"x\": 63}, {\"y\": 0.3236242428153049, \"x\": 64}, {\"y\": 0.30605972358078726, \"x\": 65}, {\"y\": 0.3062144095358208, \"x\": 66}, {\"y\": 0.3353764018970265, \"x\": 67}, {\"y\": 0.32985259632305014, \"x\": 68}, {\"y\": 0.33066721771714885, \"x\": 69}, {\"y\": 0.32344148678301254, \"x\": 70}, {\"y\": 0.3141579892893608, \"x\": 71}, {\"y\": 0.32747753886374575, \"x\": 72}, {\"y\": 0.32012799054471625, \"x\": 73}, {\"y\": 0.31952734267634425, \"x\": 74}, {\"y\": 0.33341402486590044, \"x\": 75}, {\"y\": 0.3264796075100284, \"x\": 76}, {\"y\": 0.32338306454554233, \"x\": 77}, {\"y\": 0.3268480192444636, \"x\": 78}, {\"y\": 0.31478479435845386, \"x\": 79}, {\"y\": 0.3067265059488469, \"x\": 80}, {\"y\": 0.3089904519414037, \"x\": 81}, {\"y\": 0.31532560031629664, \"x\": 82}, {\"y\": 0.32130058128611655, \"x\": 83}, {\"y\": 0.31362034592663696, \"x\": 84}, {\"y\": 0.31490317180309574, \"x\": 85}, {\"y\": 0.3186172386593509, \"x\": 86}, {\"y\": 0.3147094986146253, \"x\": 87}, {\"y\": 0.331006901107818, \"x\": 88}, {\"y\": 0.3034043494345431, \"x\": 89}, {\"y\": 0.3017505679313111, \"x\": 90}, {\"y\": 0.31168942647941955, \"x\": 91}, {\"y\": 0.3183866246302265, \"x\": 92}, {\"y\": 0.31554821637899166, \"x\": 93}, {\"y\": 0.29615188555247474, \"x\": 94}, {\"y\": 0.3073204551900576, \"x\": 95}, {\"y\": 0.2885619065355803, \"x\": 96}, {\"y\": 0.30578840933421025, \"x\": 97}, {\"y\": 0.30012950678664857, \"x\": 98}, {\"y\": 0.29108903256354235, \"x\": 99}], \"data-541f0ba1c791ab6f87b503823d808cf1\": [{\"y\": 239.33784942943527, \"x\": 1}, {\"y\": 171.1075026472875, \"x\": 2}, {\"y\": 108.0646556879638, \"x\": 3}, {\"y\": 60.46678366017254, \"x\": 4}, {\"y\": 51.04071658677915, \"x\": 5}, {\"y\": 44.724420556243295, \"x\": 6}, {\"y\": 39.146879733984, \"x\": 7}, {\"y\": 34.84658455717567, \"x\": 8}, {\"y\": 31.13488126438367, \"x\": 9}, {\"y\": 28.357030907105912, \"x\": 10}, {\"y\": 26.080549705066808, \"x\": 11}, {\"y\": 24.23463426796624, \"x\": 12}, {\"y\": 22.730462265003467, \"x\": 13}, {\"y\": 21.40354867385107, \"x\": 14}, {\"y\": 19.9686591411086, \"x\": 15}, {\"y\": 18.90273766388801, \"x\": 16}, {\"y\": 18.041707173270908, \"x\": 17}, {\"y\": 17.41489353713842, \"x\": 18}, {\"y\": 16.535177789226314, \"x\": 19}, {\"y\": 15.791878377741662, \"x\": 20}, {\"y\": 15.169371273442366, \"x\": 21}, {\"y\": 14.75797117969833, \"x\": 22}, {\"y\": 14.113617862742664, \"x\": 23}, {\"y\": 13.580341756890434, \"x\": 24}, {\"y\": 13.296307292531477, \"x\": 25}, {\"y\": 12.747023936164085, \"x\": 26}, {\"y\": 12.188488635060425, \"x\": 27}, {\"y\": 11.573977567773204, \"x\": 28}, {\"y\": 11.296534220857074, \"x\": 29}, {\"y\": 10.820410815452856, \"x\": 30}, {\"y\": 10.408391832485886, \"x\": 31}, {\"y\": 10.069086270845833, \"x\": 32}, {\"y\": 9.769367432184634, \"x\": 33}, {\"y\": 9.522552919362314, \"x\": 34}, {\"y\": 8.883789654559887, \"x\": 35}, {\"y\": 8.827297060409194, \"x\": 36}, {\"y\": 8.485315612264678, \"x\": 37}, {\"y\": 8.282606809941948, \"x\": 38}, {\"y\": 8.091478658619588, \"x\": 39}, {\"y\": 7.558641319161675, \"x\": 40}, {\"y\": 7.336130193748486, \"x\": 41}, {\"y\": 7.383724987083058, \"x\": 42}, {\"y\": 7.055142765758825, \"x\": 43}, {\"y\": 6.811141706907809, \"x\": 44}, {\"y\": 6.640190752001702, \"x\": 45}, {\"y\": 6.596942913181732, \"x\": 46}, {\"y\": 6.240759980387375, \"x\": 47}, {\"y\": 6.136885698291278, \"x\": 48}, {\"y\": 5.849234954844991, \"x\": 49}, {\"y\": 5.814670653640167, \"x\": 50}, {\"y\": 5.5700940029713815, \"x\": 51}, {\"y\": 5.463499597467392, \"x\": 52}, {\"y\": 5.446479933748218, \"x\": 53}, {\"y\": 5.304454522900809, \"x\": 54}, {\"y\": 4.999276170370469, \"x\": 55}, {\"y\": 4.9741493616385615, \"x\": 56}, {\"y\": 4.85575679560907, \"x\": 57}, {\"y\": 4.594662255429759, \"x\": 58}, {\"y\": 4.550892655698375, \"x\": 59}, {\"y\": 4.476781951676559, \"x\": 60}, {\"y\": 4.28558734404032, \"x\": 61}, {\"y\": 4.072002070893597, \"x\": 62}, {\"y\": 4.13281848215714, \"x\": 63}, {\"y\": 3.9936359082168993, \"x\": 64}, {\"y\": 3.896978800800701, \"x\": 65}, {\"y\": 3.768953225238993, \"x\": 66}, {\"y\": 3.6215750443339836, \"x\": 67}, {\"y\": 3.554306633259153, \"x\": 68}, {\"y\": 3.3607008237635503, \"x\": 69}, {\"y\": 3.3404656189464363, \"x\": 70}, {\"y\": 3.291753554705534, \"x\": 71}, {\"y\": 3.1378369896436955, \"x\": 72}, {\"y\": 3.044982652866484, \"x\": 73}, {\"y\": 3.068428591659639, \"x\": 74}, {\"y\": 2.937637307418509, \"x\": 75}, {\"y\": 2.886002452763346, \"x\": 76}, {\"y\": 2.7727265663070875, \"x\": 77}, {\"y\": 2.6449168204974467, \"x\": 78}, {\"y\": 2.577339689787367, \"x\": 79}, {\"y\": 2.5800562462895313, \"x\": 80}, {\"y\": 2.5088432284719455, \"x\": 81}, {\"y\": 2.3945304031520838, \"x\": 82}, {\"y\": 2.2700608275127183, \"x\": 83}, {\"y\": 2.2769192199034367, \"x\": 84}, {\"y\": 2.166644406713809, \"x\": 85}, {\"y\": 2.1329211375143284, \"x\": 86}, {\"y\": 2.035774932745137, \"x\": 87}, {\"y\": 1.9640881169552582, \"x\": 88}, {\"y\": 1.9954253250129406, \"x\": 89}, {\"y\": 1.9531839754800013, \"x\": 90}, {\"y\": 1.8767518837095973, \"x\": 91}, {\"y\": 1.794037730350446, \"x\": 92}, {\"y\": 1.7491984904408795, \"x\": 93}, {\"y\": 1.7721970617875686, \"x\": 94}, {\"y\": 1.6488519884732846, \"x\": 95}, {\"y\": 1.6916328680007997, \"x\": 96}, {\"y\": 1.5676188527007986, \"x\": 97}, {\"y\": 1.5327812932707463, \"x\": 98}, {\"y\": 1.5252465545679694, \"x\": 99}]}}, {\"mode\": \"vega-lite\"});\n",
       "</script>"
      ],
      "text/plain": [
       "alt.HConcatChart(...)"
      ]
     },
     "execution_count": 490,
     "metadata": {},
     "output_type": "execute_result"
    }
   ],
   "source": [
    "k_means_eval_chart"
   ]
  },
  {
   "cell_type": "code",
   "execution_count": 491,
   "id": "5f5c2df7-24e5-480b-adc9-6aaf75da76ab",
   "metadata": {},
   "outputs": [],
   "source": [
    "k_means_eval_str = altair_saver.save(k_means_eval_chart, fmt='svg')\n",
    "image_title.append('K-means evaluation')\n",
    "svg_str.append(k_means_eval_str)"
   ]
  },
  {
   "cell_type": "code",
   "execution_count": 492,
   "id": "530e19e3-5468-4c9b-ab35-0cb16f1834ab",
   "metadata": {},
   "outputs": [],
   "source": [
    "# k_means_run_pca = k_means(n_clusters=10, features=X_pca)"
   ]
  },
  {
   "cell_type": "code",
   "execution_count": 493,
   "id": "b848ea40-41a4-4564-8cf8-9ed03e00f76c",
   "metadata": {},
   "outputs": [],
   "source": [
    "# df_label_raw['clusters_pca'] = k_means_run_pca.labels_"
   ]
  },
  {
   "cell_type": "code",
   "execution_count": 494,
   "id": "a7d9ce47-1b3d-4d95-9015-3789fe5a13f5",
   "metadata": {},
   "outputs": [],
   "source": [
    "# dfs_kmeans_pca = [pd.DataFrame(y) for x, y in df_label_raw.groupby('clusters_pca', as_index=False)]"
   ]
  },
  {
   "cell_type": "code",
   "execution_count": 495,
   "id": "44f6f403-b496-419a-98d0-47a0735931f2",
   "metadata": {},
   "outputs": [],
   "source": [
    "# ## add photo coordinates\n",
    "# for i in range(0, len(dfs_kmeans_pca)):\n",
    "#     num_items = len(dfs_kmeans_pca[i])\n",
    "#     dfs_kmeans_pca[i]['x'] = np.linspace(0.1, 3.0, num=num_items)\n",
    "#     dfs_kmeans_pca[i]['y'] = np.linspace(0.1, 3.0, num=num_items)"
   ]
  },
  {
   "cell_type": "code",
   "execution_count": 496,
   "id": "d9ce26f4-c25b-44f0-b2dd-862101a95aa4",
   "metadata": {},
   "outputs": [],
   "source": [
    "# def grid_photos(dfs_kmeans=dfs_kmeans_pca, nx=6, ny=6, cluster=0, width=600, height=600,title='title'):\n",
    "    \n",
    "#     nx, ny = (nx, ny)\n",
    "#     x = np.linspace(0, 1, nx)\n",
    "#     y = np.linspace(0, 1, ny)\n",
    "#     xv, yv = np.meshgrid(x, y)\n",
    "    \n",
    "#     dfs_kmeans[cluster]['x'] = xv.ravel()[0:len(dfs_kmeans[cluster])]\n",
    "#     dfs_kmeans[cluster]['y'] = yv.ravel()[0:len(dfs_kmeans[cluster])]\n",
    "    \n",
    "#     chart = alt.Chart(dfs_kmeans[cluster], title=title).mark_image(\n",
    "#         width=50,\n",
    "#         height=50\n",
    "#     ).encode(\n",
    "#         alt.X('x', axis=None),\n",
    "#         alt.Y('y', axis=None),\n",
    "#         url='url'\n",
    "#     )\n",
    "    \n",
    "#     text = chart.mark_text(\n",
    "#     align='center',\n",
    "#     baseline='bottom',\n",
    "#     yOffset = -25\n",
    "#     ).encode(\n",
    "#         alt.Text('label'),\n",
    "#         color=alt.Color('label',\n",
    "#                         scale=alt.Scale(\n",
    "#                             domain=emotion_words_list,\n",
    "#                             range=['#ff4444', '#4c809c', '#9ae354', '#0000AA', '#FFA500', '#E4D00A', '#c41cac', '#50C878']))\n",
    "#     )\n",
    "    \n",
    "    \n",
    "#     return (chart + text).properties(width=width, height=height)"
   ]
  },
  {
   "cell_type": "code",
   "execution_count": 497,
   "id": "d2bd2bd8-9700-4b9c-ad1a-c6a9a3ff2f51",
   "metadata": {},
   "outputs": [],
   "source": [
    "# dims_clusters = []\n",
    "# for i in range (0, 10):\n",
    "#     dims_clusters.append(dfs_kmeans_pca[i].shape[0])\n",
    "# dims_clusters"
   ]
  },
  {
   "cell_type": "code",
   "execution_count": 498,
   "id": "7c46b3e3-9ffb-448e-868d-061eab1f9227",
   "metadata": {},
   "outputs": [],
   "source": [
    "cluster_0 = grid_photos(dfs_kmeans = dfs_kmeans_pca, nx=6, ny=6, cluster=0,  width=400, height=400, title='Cluster 1')\n",
    "cluster_1 = grid_photos(dfs_kmeans = dfs_kmeans_pca, nx=6, ny=6, cluster=1,  width=400, height=400, title='Cluster 2')\n",
    "cluster_2 = grid_photos(dfs_kmeans = dfs_kmeans_pca, nx=3, ny=3, cluster=2,  width=400, height=400, title='Cluster 3')\n",
    "cluster_3 = grid_photos(dfs_kmeans = dfs_kmeans_pca, nx=6, ny=6, cluster=3,  width=400, height=400, title='Cluster 4')\n",
    "cluster_4 = grid_photos(dfs_kmeans = dfs_kmeans_pca, nx=4, ny=4, cluster=4,  width=400, height=400, title='Cluster 5')\n",
    "cluster_5 = grid_photos(dfs_kmeans = dfs_kmeans_pca, nx=5, ny=5, cluster=5,  width=400, height=400, title='Cluster 6')\n",
    "cluster_6 = grid_photos(dfs_kmeans = dfs_kmeans_pca, nx=5, ny=5, cluster=6,  width=400, height=400, title='Cluster 7')\n",
    "cluster_7 = grid_photos(dfs_kmeans = dfs_kmeans_pca, nx=4, ny=4, cluster=7,  width=400, height=400, title='Cluster 8')\n",
    "cluster_8 = grid_photos(dfs_kmeans = dfs_kmeans_pca, nx=4, ny=4, cluster=8,  width=400, height=400, title='Cluster 9')\n",
    "cluster_9 = grid_photos(dfs_kmeans = dfs_kmeans_pca, nx=5, ny=5, cluster=9,  width=400, height=400, title='Cluster 10')\n",
    "# cluster_10 = grid_photos(dfs_kmeans = dfs_kmeans_pca, nx=4, ny=4, cluster=10,  width=300, height=300, title='Cluster 11')\n",
    "# cluster_11 = grid_photos(dfs_kmeans = dfs_kmeans_pca, nx=1, ny=1, cluster=11,  width=300, height=300, title='Cluster 12')"
   ]
  },
  {
   "cell_type": "code",
   "execution_count": 499,
   "id": "5ed7922c-25c3-4338-bd6e-9cc0a7de9b59",
   "metadata": {},
   "outputs": [],
   "source": [
    "k_means_clusters = ((cluster_0 | cluster_1) & \\\n",
    "(cluster_2 | cluster_3) & \\\n",
    "(cluster_4 | cluster_5) & \\\n",
    "(cluster_6 | cluster_7) & \\\n",
    "(cluster_8 | cluster_9)).configure_axis(\n",
    "        grid=False\n",
    "    ).configure_view(\n",
    "        strokeOpacity=0\n",
    "    ).configure_concat(\n",
    "    spacing=50\n",
    ")"
   ]
  },
  {
   "cell_type": "code",
   "execution_count": 500,
   "id": "74fc694e-66e4-4c62-8c97-2b0cc72d13c7",
   "metadata": {},
   "outputs": [
    {
     "data": {
      "text/html": [
       "\n",
       "<div id=\"altair-viz-42e971daaede4167a10a54b6bc74ca46\"></div>\n",
       "<script type=\"text/javascript\">\n",
       "  (function(spec, embedOpt){\n",
       "    let outputDiv = document.currentScript.previousElementSibling;\n",
       "    if (outputDiv.id !== \"altair-viz-42e971daaede4167a10a54b6bc74ca46\") {\n",
       "      outputDiv = document.getElementById(\"altair-viz-42e971daaede4167a10a54b6bc74ca46\");\n",
       "    }\n",
       "    const paths = {\n",
       "      \"vega\": \"https://cdn.jsdelivr.net/npm//vega@5?noext\",\n",
       "      \"vega-lib\": \"https://cdn.jsdelivr.net/npm//vega-lib?noext\",\n",
       "      \"vega-lite\": \"https://cdn.jsdelivr.net/npm//vega-lite@4.8.1?noext\",\n",
       "      \"vega-embed\": \"https://cdn.jsdelivr.net/npm//vega-embed@6?noext\",\n",
       "    };\n",
       "\n",
       "    function loadScript(lib) {\n",
       "      return new Promise(function(resolve, reject) {\n",
       "        var s = document.createElement('script');\n",
       "        s.src = paths[lib];\n",
       "        s.async = true;\n",
       "        s.onload = () => resolve(paths[lib]);\n",
       "        s.onerror = () => reject(`Error loading script: ${paths[lib]}`);\n",
       "        document.getElementsByTagName(\"head\")[0].appendChild(s);\n",
       "      });\n",
       "    }\n",
       "\n",
       "    function showError(err) {\n",
       "      outputDiv.innerHTML = `<div class=\"error\" style=\"color:red;\">${err}</div>`;\n",
       "      throw err;\n",
       "    }\n",
       "\n",
       "    function displayChart(vegaEmbed) {\n",
       "      vegaEmbed(outputDiv, spec, embedOpt)\n",
       "        .catch(err => showError(`Javascript Error: ${err.message}<br>This usually means there's a typo in your chart specification. See the javascript console for the full traceback.`));\n",
       "    }\n",
       "\n",
       "    if(typeof define === \"function\" && define.amd) {\n",
       "      requirejs.config({paths});\n",
       "      require([\"vega-embed\"], displayChart, err => showError(`Error loading script: ${err.message}`));\n",
       "    } else if (typeof vegaEmbed === \"function\") {\n",
       "      displayChart(vegaEmbed);\n",
       "    } else {\n",
       "      loadScript(\"vega\")\n",
       "        .then(() => loadScript(\"vega-lite\"))\n",
       "        .then(() => loadScript(\"vega-embed\"))\n",
       "        .catch(showError)\n",
       "        .then(() => displayChart(vegaEmbed));\n",
       "    }\n",
       "  })({\"config\": {\"view\": {\"continuousWidth\": 400, \"continuousHeight\": 300, \"strokeOpacity\": 0}, \"axis\": {\"grid\": false}, \"concat\": {\"spacing\": 50}}, \"vconcat\": [{\"hconcat\": [{\"layer\": [{\"mark\": {\"type\": \"image\", \"height\": 50, \"width\": 50}, \"encoding\": {\"url\": {\"type\": \"nominal\", \"field\": \"url\"}, \"x\": {\"type\": \"quantitative\", \"axis\": null, \"field\": \"x\"}, \"y\": {\"type\": \"quantitative\", \"axis\": null, \"field\": \"y\"}}, \"title\": \"Cluster 1\"}, {\"mark\": {\"type\": \"text\", \"align\": \"center\", \"baseline\": \"bottom\", \"yOffset\": -25}, \"encoding\": {\"color\": {\"type\": \"nominal\", \"field\": \"label\", \"scale\": {\"domain\": [\"happiness\", \"neutral\", \"surprise\", \"sadness\", \"disgust\", \"anger\", \"fear\", \"uncertain\"], \"range\": [\"#ff4444\", \"#4c809c\", \"#9ae354\", \"#0000AA\", \"#FFA500\", \"#E4D00A\", \"#c41cac\", \"#50C878\"]}}, \"text\": {\"type\": \"nominal\", \"field\": \"label\"}, \"url\": {\"type\": \"nominal\", \"field\": \"url\"}, \"x\": {\"type\": \"quantitative\", \"axis\": null, \"field\": \"x\"}, \"y\": {\"type\": \"quantitative\", \"axis\": null, \"field\": \"y\"}}, \"title\": \"Cluster 1\"}], \"data\": {\"name\": \"data-8c62a8452a1ba59acaa4e021dc3340ed\"}, \"height\": 400, \"width\": 400}, {\"layer\": [{\"mark\": {\"type\": \"image\", \"height\": 50, \"width\": 50}, \"encoding\": {\"url\": {\"type\": \"nominal\", \"field\": \"url\"}, \"x\": {\"type\": \"quantitative\", \"axis\": null, \"field\": \"x\"}, \"y\": {\"type\": \"quantitative\", \"axis\": null, \"field\": \"y\"}}, \"title\": \"Cluster 2\"}, {\"mark\": {\"type\": \"text\", \"align\": \"center\", \"baseline\": \"bottom\", \"yOffset\": -25}, \"encoding\": {\"color\": {\"type\": \"nominal\", \"field\": \"label\", \"scale\": {\"domain\": [\"happiness\", \"neutral\", \"surprise\", \"sadness\", \"disgust\", \"anger\", \"fear\", \"uncertain\"], \"range\": [\"#ff4444\", \"#4c809c\", \"#9ae354\", \"#0000AA\", \"#FFA500\", \"#E4D00A\", \"#c41cac\", \"#50C878\"]}}, \"text\": {\"type\": \"nominal\", \"field\": \"label\"}, \"url\": {\"type\": \"nominal\", \"field\": \"url\"}, \"x\": {\"type\": \"quantitative\", \"axis\": null, \"field\": \"x\"}, \"y\": {\"type\": \"quantitative\", \"axis\": null, \"field\": \"y\"}}, \"title\": \"Cluster 2\"}], \"data\": {\"name\": \"data-cdabe76a917ecd9bd35c48f16f07ca93\"}, \"height\": 400, \"width\": 400}]}, {\"hconcat\": [{\"layer\": [{\"mark\": {\"type\": \"image\", \"height\": 50, \"width\": 50}, \"encoding\": {\"url\": {\"type\": \"nominal\", \"field\": \"url\"}, \"x\": {\"type\": \"quantitative\", \"axis\": null, \"field\": \"x\"}, \"y\": {\"type\": \"quantitative\", \"axis\": null, \"field\": \"y\"}}, \"title\": \"Cluster 3\"}, {\"mark\": {\"type\": \"text\", \"align\": \"center\", \"baseline\": \"bottom\", \"yOffset\": -25}, \"encoding\": {\"color\": {\"type\": \"nominal\", \"field\": \"label\", \"scale\": {\"domain\": [\"happiness\", \"neutral\", \"surprise\", \"sadness\", \"disgust\", \"anger\", \"fear\", \"uncertain\"], \"range\": [\"#ff4444\", \"#4c809c\", \"#9ae354\", \"#0000AA\", \"#FFA500\", \"#E4D00A\", \"#c41cac\", \"#50C878\"]}}, \"text\": {\"type\": \"nominal\", \"field\": \"label\"}, \"url\": {\"type\": \"nominal\", \"field\": \"url\"}, \"x\": {\"type\": \"quantitative\", \"axis\": null, \"field\": \"x\"}, \"y\": {\"type\": \"quantitative\", \"axis\": null, \"field\": \"y\"}}, \"title\": \"Cluster 3\"}], \"data\": {\"name\": \"data-f716652719f0f5e1c32b45b8cf12ce72\"}, \"height\": 400, \"width\": 400}, {\"layer\": [{\"mark\": {\"type\": \"image\", \"height\": 50, \"width\": 50}, \"encoding\": {\"url\": {\"type\": \"nominal\", \"field\": \"url\"}, \"x\": {\"type\": \"quantitative\", \"axis\": null, \"field\": \"x\"}, \"y\": {\"type\": \"quantitative\", \"axis\": null, \"field\": \"y\"}}, \"title\": \"Cluster 4\"}, {\"mark\": {\"type\": \"text\", \"align\": \"center\", \"baseline\": \"bottom\", \"yOffset\": -25}, \"encoding\": {\"color\": {\"type\": \"nominal\", \"field\": \"label\", \"scale\": {\"domain\": [\"happiness\", \"neutral\", \"surprise\", \"sadness\", \"disgust\", \"anger\", \"fear\", \"uncertain\"], \"range\": [\"#ff4444\", \"#4c809c\", \"#9ae354\", \"#0000AA\", \"#FFA500\", \"#E4D00A\", \"#c41cac\", \"#50C878\"]}}, \"text\": {\"type\": \"nominal\", \"field\": \"label\"}, \"url\": {\"type\": \"nominal\", \"field\": \"url\"}, \"x\": {\"type\": \"quantitative\", \"axis\": null, \"field\": \"x\"}, \"y\": {\"type\": \"quantitative\", \"axis\": null, \"field\": \"y\"}}, \"title\": \"Cluster 4\"}], \"data\": {\"name\": \"data-c25763d4dac04ee90061a7eb91dab0e6\"}, \"height\": 400, \"width\": 400}]}, {\"hconcat\": [{\"layer\": [{\"mark\": {\"type\": \"image\", \"height\": 50, \"width\": 50}, \"encoding\": {\"url\": {\"type\": \"nominal\", \"field\": \"url\"}, \"x\": {\"type\": \"quantitative\", \"axis\": null, \"field\": \"x\"}, \"y\": {\"type\": \"quantitative\", \"axis\": null, \"field\": \"y\"}}, \"title\": \"Cluster 5\"}, {\"mark\": {\"type\": \"text\", \"align\": \"center\", \"baseline\": \"bottom\", \"yOffset\": -25}, \"encoding\": {\"color\": {\"type\": \"nominal\", \"field\": \"label\", \"scale\": {\"domain\": [\"happiness\", \"neutral\", \"surprise\", \"sadness\", \"disgust\", \"anger\", \"fear\", \"uncertain\"], \"range\": [\"#ff4444\", \"#4c809c\", \"#9ae354\", \"#0000AA\", \"#FFA500\", \"#E4D00A\", \"#c41cac\", \"#50C878\"]}}, \"text\": {\"type\": \"nominal\", \"field\": \"label\"}, \"url\": {\"type\": \"nominal\", \"field\": \"url\"}, \"x\": {\"type\": \"quantitative\", \"axis\": null, \"field\": \"x\"}, \"y\": {\"type\": \"quantitative\", \"axis\": null, \"field\": \"y\"}}, \"title\": \"Cluster 5\"}], \"data\": {\"name\": \"data-d9796bd29e63533b230e0061c0051bc1\"}, \"height\": 400, \"width\": 400}, {\"layer\": [{\"mark\": {\"type\": \"image\", \"height\": 50, \"width\": 50}, \"encoding\": {\"url\": {\"type\": \"nominal\", \"field\": \"url\"}, \"x\": {\"type\": \"quantitative\", \"axis\": null, \"field\": \"x\"}, \"y\": {\"type\": \"quantitative\", \"axis\": null, \"field\": \"y\"}}, \"title\": \"Cluster 6\"}, {\"mark\": {\"type\": \"text\", \"align\": \"center\", \"baseline\": \"bottom\", \"yOffset\": -25}, \"encoding\": {\"color\": {\"type\": \"nominal\", \"field\": \"label\", \"scale\": {\"domain\": [\"happiness\", \"neutral\", \"surprise\", \"sadness\", \"disgust\", \"anger\", \"fear\", \"uncertain\"], \"range\": [\"#ff4444\", \"#4c809c\", \"#9ae354\", \"#0000AA\", \"#FFA500\", \"#E4D00A\", \"#c41cac\", \"#50C878\"]}}, \"text\": {\"type\": \"nominal\", \"field\": \"label\"}, \"url\": {\"type\": \"nominal\", \"field\": \"url\"}, \"x\": {\"type\": \"quantitative\", \"axis\": null, \"field\": \"x\"}, \"y\": {\"type\": \"quantitative\", \"axis\": null, \"field\": \"y\"}}, \"title\": \"Cluster 6\"}], \"data\": {\"name\": \"data-c76861002ce1528b3e9b78f8acaad55a\"}, \"height\": 400, \"width\": 400}]}, {\"hconcat\": [{\"layer\": [{\"mark\": {\"type\": \"image\", \"height\": 50, \"width\": 50}, \"encoding\": {\"url\": {\"type\": \"nominal\", \"field\": \"url\"}, \"x\": {\"type\": \"quantitative\", \"axis\": null, \"field\": \"x\"}, \"y\": {\"type\": \"quantitative\", \"axis\": null, \"field\": \"y\"}}, \"title\": \"Cluster 7\"}, {\"mark\": {\"type\": \"text\", \"align\": \"center\", \"baseline\": \"bottom\", \"yOffset\": -25}, \"encoding\": {\"color\": {\"type\": \"nominal\", \"field\": \"label\", \"scale\": {\"domain\": [\"happiness\", \"neutral\", \"surprise\", \"sadness\", \"disgust\", \"anger\", \"fear\", \"uncertain\"], \"range\": [\"#ff4444\", \"#4c809c\", \"#9ae354\", \"#0000AA\", \"#FFA500\", \"#E4D00A\", \"#c41cac\", \"#50C878\"]}}, \"text\": {\"type\": \"nominal\", \"field\": \"label\"}, \"url\": {\"type\": \"nominal\", \"field\": \"url\"}, \"x\": {\"type\": \"quantitative\", \"axis\": null, \"field\": \"x\"}, \"y\": {\"type\": \"quantitative\", \"axis\": null, \"field\": \"y\"}}, \"title\": \"Cluster 7\"}], \"data\": {\"name\": \"data-e8dfaeb9fc727bd20a2ac9ad6910a2a7\"}, \"height\": 400, \"width\": 400}, {\"layer\": [{\"mark\": {\"type\": \"image\", \"height\": 50, \"width\": 50}, \"encoding\": {\"url\": {\"type\": \"nominal\", \"field\": \"url\"}, \"x\": {\"type\": \"quantitative\", \"axis\": null, \"field\": \"x\"}, \"y\": {\"type\": \"quantitative\", \"axis\": null, \"field\": \"y\"}}, \"title\": \"Cluster 8\"}, {\"mark\": {\"type\": \"text\", \"align\": \"center\", \"baseline\": \"bottom\", \"yOffset\": -25}, \"encoding\": {\"color\": {\"type\": \"nominal\", \"field\": \"label\", \"scale\": {\"domain\": [\"happiness\", \"neutral\", \"surprise\", \"sadness\", \"disgust\", \"anger\", \"fear\", \"uncertain\"], \"range\": [\"#ff4444\", \"#4c809c\", \"#9ae354\", \"#0000AA\", \"#FFA500\", \"#E4D00A\", \"#c41cac\", \"#50C878\"]}}, \"text\": {\"type\": \"nominal\", \"field\": \"label\"}, \"url\": {\"type\": \"nominal\", \"field\": \"url\"}, \"x\": {\"type\": \"quantitative\", \"axis\": null, \"field\": \"x\"}, \"y\": {\"type\": \"quantitative\", \"axis\": null, \"field\": \"y\"}}, \"title\": \"Cluster 8\"}], \"data\": {\"name\": \"data-88da74e4504e24c1960a211e4017771c\"}, \"height\": 400, \"width\": 400}]}, {\"hconcat\": [{\"layer\": [{\"mark\": {\"type\": \"image\", \"height\": 50, \"width\": 50}, \"encoding\": {\"url\": {\"type\": \"nominal\", \"field\": \"url\"}, \"x\": {\"type\": \"quantitative\", \"axis\": null, \"field\": \"x\"}, \"y\": {\"type\": \"quantitative\", \"axis\": null, \"field\": \"y\"}}, \"title\": \"Cluster 9\"}, {\"mark\": {\"type\": \"text\", \"align\": \"center\", \"baseline\": \"bottom\", \"yOffset\": -25}, \"encoding\": {\"color\": {\"type\": \"nominal\", \"field\": \"label\", \"scale\": {\"domain\": [\"happiness\", \"neutral\", \"surprise\", \"sadness\", \"disgust\", \"anger\", \"fear\", \"uncertain\"], \"range\": [\"#ff4444\", \"#4c809c\", \"#9ae354\", \"#0000AA\", \"#FFA500\", \"#E4D00A\", \"#c41cac\", \"#50C878\"]}}, \"text\": {\"type\": \"nominal\", \"field\": \"label\"}, \"url\": {\"type\": \"nominal\", \"field\": \"url\"}, \"x\": {\"type\": \"quantitative\", \"axis\": null, \"field\": \"x\"}, \"y\": {\"type\": \"quantitative\", \"axis\": null, \"field\": \"y\"}}, \"title\": \"Cluster 9\"}], \"data\": {\"name\": \"data-e075473426706fbae53864e867775fe8\"}, \"height\": 400, \"width\": 400}, {\"layer\": [{\"mark\": {\"type\": \"image\", \"height\": 50, \"width\": 50}, \"encoding\": {\"url\": {\"type\": \"nominal\", \"field\": \"url\"}, \"x\": {\"type\": \"quantitative\", \"axis\": null, \"field\": \"x\"}, \"y\": {\"type\": \"quantitative\", \"axis\": null, \"field\": \"y\"}}, \"title\": \"Cluster 10\"}, {\"mark\": {\"type\": \"text\", \"align\": \"center\", \"baseline\": \"bottom\", \"yOffset\": -25}, \"encoding\": {\"color\": {\"type\": \"nominal\", \"field\": \"label\", \"scale\": {\"domain\": [\"happiness\", \"neutral\", \"surprise\", \"sadness\", \"disgust\", \"anger\", \"fear\", \"uncertain\"], \"range\": [\"#ff4444\", \"#4c809c\", \"#9ae354\", \"#0000AA\", \"#FFA500\", \"#E4D00A\", \"#c41cac\", \"#50C878\"]}}, \"text\": {\"type\": \"nominal\", \"field\": \"label\"}, \"url\": {\"type\": \"nominal\", \"field\": \"url\"}, \"x\": {\"type\": \"quantitative\", \"axis\": null, \"field\": \"x\"}, \"y\": {\"type\": \"quantitative\", \"axis\": null, \"field\": \"y\"}}, \"title\": \"Cluster 10\"}], \"data\": {\"name\": \"data-5454f63dbcf1d5261f01197c832e691c\"}, \"height\": 400, \"width\": 400}]}], \"$schema\": \"https://vega.github.io/schema/vega-lite/v4.8.1.json\", \"datasets\": {\"data-8c62a8452a1ba59acaa4e021dc3340ed\": [{\"ethnicity\": \"bipoc\", \"sex\": \"female\", \"age\": \"adult\", \"label\": \"disgust\", \"url\": \"https://uwmadison.co1.qualtrics.com/ControlPanel/Graphic.php?IM=IM_cvFjQlP07m9S7VY\", \"clusters_pca\": 0, \"x\": 0.0, \"y\": 0.0}, {\"ethnicity\": \"bipoc\", \"sex\": \"female\", \"age\": \"child\", \"label\": \"fear\", \"url\": \"https://uwmadison.co1.qualtrics.com/ControlPanel/Graphic.php?IM=IM_4HJDfrqWWlJ7wRU\", \"clusters_pca\": 0, \"x\": 0.2, \"y\": 0.0}, {\"ethnicity\": \"bipoc\", \"sex\": \"male\", \"age\": \"child\", \"label\": \"fear\", \"url\": \"https://uwmadison.co1.qualtrics.com/ControlPanel/Graphic.php?IM=IM_aY2MoY6bfggUc9E\", \"clusters_pca\": 0, \"x\": 0.4, \"y\": 0.0}, {\"ethnicity\": \"white\", \"sex\": \"female\", \"age\": \"adult\", \"label\": \"fear\", \"url\": \"https://uwmadison.co1.qualtrics.com/ControlPanel/Graphic.php?IM=IM_1H2GqqCbhjjnp3g\", \"clusters_pca\": 0, \"x\": 0.6000000000000001, \"y\": 0.0}, {\"ethnicity\": \"bipoc\", \"sex\": \"female\", \"age\": \"child\", \"label\": \"surprise\", \"url\": \"https://uwmadison.co1.qualtrics.com/ControlPanel/Graphic.php?IM=IM_06dsRWFrfc92PVI\", \"clusters_pca\": 0, \"x\": 0.8, \"y\": 0.0}, {\"ethnicity\": \"bipoc\", \"sex\": \"male\", \"age\": \"adult\", \"label\": \"surprise\", \"url\": \"https://uwmadison.co1.qualtrics.com/ControlPanel/Graphic.php?IM=IM_0JI5joczfCXyM4K\", \"clusters_pca\": 0, \"x\": 1.0, \"y\": 0.0}, {\"ethnicity\": \"white\", \"sex\": \"female\", \"age\": \"adult\", \"label\": \"surprise\", \"url\": \"https://uwmadison.co1.qualtrics.com/ControlPanel/Graphic.php?IM=IM_1X6032Sa3Q1kaKa\", \"clusters_pca\": 0, \"x\": 0.0, \"y\": 0.2}, {\"ethnicity\": \"white\", \"sex\": \"female\", \"age\": \"child\", \"label\": \"surprise\", \"url\": \"https://uwmadison.co1.qualtrics.com/ControlPanel/Graphic.php?IM=IM_ah0qjH5kqDuQUhE\", \"clusters_pca\": 0, \"x\": 0.2, \"y\": 0.2}, {\"ethnicity\": \"white\", \"sex\": \"male\", \"age\": \"adult\", \"label\": \"surprise\", \"url\": \"https://uwmadison.co1.qualtrics.com/ControlPanel/Graphic.php?IM=IM_9yvGSAqzpAmAcT4\", \"clusters_pca\": 0, \"x\": 0.4, \"y\": 0.2}, {\"ethnicity\": \"white\", \"sex\": \"male\", \"age\": \"child\", \"label\": \"surprise\", \"url\": \"https://uwmadison.co1.qualtrics.com/ControlPanel/Graphic.php?IM=IM_dmTME6d2MAg1Tb8\", \"clusters_pca\": 0, \"x\": 0.6000000000000001, \"y\": 0.2}, {\"ethnicity\": \"white\", \"sex\": \"male\", \"age\": \"child\", \"label\": \"uncertain\", \"url\": \"https://uwmadison.co1.qualtrics.com/ControlPanel/Graphic.php?IM=IM_6lfDwHho7YysGIS\", \"clusters_pca\": 0, \"x\": 0.8, \"y\": 0.2}, {\"ethnicity\": \"bipoc\", \"sex\": \"male\", \"age\": \"adult\", \"label\": \"fear\", \"url\": \"https://uwmadison.co1.qualtrics.com/ControlPanel/Graphic.php?IM=IM_e3vAzbw1fMlXZyu\", \"clusters_pca\": 0, \"x\": 1.0, \"y\": 0.2}, {\"ethnicity\": \"bipoc\", \"sex\": \"male\", \"age\": \"child\", \"label\": \"fear\", \"url\": \"https://uwmadison.co1.qualtrics.com/ControlPanel/Graphic.php?IM=IM_byJrSqTzp3ZhZ9Y\", \"clusters_pca\": 0, \"x\": 0.0, \"y\": 0.4}, {\"ethnicity\": \"white\", \"sex\": \"female\", \"age\": \"child\", \"label\": \"fear\", \"url\": \"https://uwmadison.co1.qualtrics.com/ControlPanel/Graphic.php?IM=IM_40G6uAIeohgXMGi\", \"clusters_pca\": 0, \"x\": 0.2, \"y\": 0.4}, {\"ethnicity\": \"bipoc\", \"sex\": \"male\", \"age\": \"adult\", \"label\": \"surprise\", \"url\": \"https://uwmadison.co1.qualtrics.com/ControlPanel/Graphic.php?IM=IM_aaEwobdBBZ4nn02\", \"clusters_pca\": 0, \"x\": 0.4, \"y\": 0.4}, {\"ethnicity\": \"white\", \"sex\": \"female\", \"age\": \"adult\", \"label\": \"surprise\", \"url\": \"https://uwmadison.co1.qualtrics.com/ControlPanel/Graphic.php?IM=IM_2s03op8efMn39Eq\", \"clusters_pca\": 0, \"x\": 0.6000000000000001, \"y\": 0.4}, {\"ethnicity\": \"white\", \"sex\": \"female\", \"age\": \"child\", \"label\": \"surprise\", \"url\": \"https://uwmadison.co1.qualtrics.com/ControlPanel/Graphic.php?IM=IM_3VrkAIN5BOdlfWm\", \"clusters_pca\": 0, \"x\": 0.8, \"y\": 0.4}, {\"ethnicity\": \"white\", \"sex\": \"male\", \"age\": \"adult\", \"label\": \"surprise\", \"url\": \"https://uwmadison.co1.qualtrics.com/ControlPanel/Graphic.php?IM=IM_2004WZkMOAt3rVk\", \"clusters_pca\": 0, \"x\": 1.0, \"y\": 0.4}, {\"ethnicity\": \"white\", \"sex\": \"female\", \"age\": \"adult\", \"label\": \"uncertain\", \"url\": \"https://uwmadison.co1.qualtrics.com/ControlPanel/Graphic.php?IM=IM_4Z2olPR08fo1FQO\", \"clusters_pca\": 0, \"x\": 0.0, \"y\": 0.6000000000000001}, {\"ethnicity\": \"white\", \"sex\": \"female\", \"age\": \"child\", \"label\": \"uncertain\", \"url\": \"https://uwmadison.co1.qualtrics.com/ControlPanel/Graphic.php?IM=IM_8bHO7XfbqxRugTQ\", \"clusters_pca\": 0, \"x\": 0.2, \"y\": 0.6000000000000001}, {\"ethnicity\": \"bipoc\", \"sex\": \"female\", \"age\": \"child\", \"label\": \"fear\", \"url\": \"https://uwmadison.co1.qualtrics.com/ControlPanel/Graphic.php?IM=IM_bHrOB3j3PtW4R0i\", \"clusters_pca\": 0, \"x\": 0.4, \"y\": 0.6000000000000001}, {\"ethnicity\": \"white\", \"sex\": \"male\", \"age\": \"child\", \"label\": \"fear\", \"url\": \"https://uwmadison.co1.qualtrics.com/ControlPanel/Graphic.php?IM=IM_9mNPsRAgBbHenPM\", \"clusters_pca\": 0, \"x\": 0.6000000000000001, \"y\": 0.6000000000000001}, {\"ethnicity\": \"bipoc\", \"sex\": \"female\", \"age\": \"adult\", \"label\": \"surprise\", \"url\": \"https://uwmadison.co1.qualtrics.com/ControlPanel/Graphic.php?IM=IM_aXfd0rmn8jfxoQ6\", \"clusters_pca\": 0, \"x\": 0.8, \"y\": 0.6000000000000001}, {\"ethnicity\": \"bipoc\", \"sex\": \"male\", \"age\": \"adult\", \"label\": \"surprise\", \"url\": \"https://uwmadison.co1.qualtrics.com/ControlPanel/Graphic.php?IM=IM_268vZXyUpVDK6MK\", \"clusters_pca\": 0, \"x\": 1.0, \"y\": 0.6000000000000001}, {\"ethnicity\": \"bipoc\", \"sex\": \"male\", \"age\": \"child\", \"label\": \"surprise\", \"url\": \"https://uwmadison.co1.qualtrics.com/ControlPanel/Graphic.php?IM=IM_0V7AZ7Xi8jOjmXY\", \"clusters_pca\": 0, \"x\": 0.0, \"y\": 0.8}, {\"ethnicity\": \"white\", \"sex\": \"female\", \"age\": \"adult\", \"label\": \"surprise\", \"url\": \"https://uwmadison.co1.qualtrics.com/ControlPanel/Graphic.php?IM=IM_eeAoCMWS4pQvliK\", \"clusters_pca\": 0, \"x\": 0.2, \"y\": 0.8}, {\"ethnicity\": \"white\", \"sex\": \"male\", \"age\": \"adult\", \"label\": \"surprise\", \"url\": \"https://uwmadison.co1.qualtrics.com/ControlPanel/Graphic.php?IM=IM_eIZrStbqVC3oHTo\", \"clusters_pca\": 0, \"x\": 0.4, \"y\": 0.8}], \"data-cdabe76a917ecd9bd35c48f16f07ca93\": [{\"ethnicity\": \"bipoc\", \"sex\": \"female\", \"age\": \"child\", \"label\": \"anger\", \"url\": \"https://uwmadison.co1.qualtrics.com/ControlPanel/Graphic.php?IM=IM_37SAhyROGBWVpVs\", \"clusters_pca\": 1, \"x\": 0.0, \"y\": 0.0}, {\"ethnicity\": \"white\", \"sex\": \"female\", \"age\": \"adult\", \"label\": \"anger\", \"url\": \"https://uwmadison.co1.qualtrics.com/ControlPanel/Graphic.php?IM=IM_1Amo6fqrutcZYZo\", \"clusters_pca\": 1, \"x\": 0.2, \"y\": 0.0}, {\"ethnicity\": \"white\", \"sex\": \"female\", \"age\": \"child\", \"label\": \"anger\", \"url\": \"https://uwmadison.co1.qualtrics.com/ControlPanel/Graphic.php?IM=IM_1XqAx3FzoRDFZt4\", \"clusters_pca\": 1, \"x\": 0.4, \"y\": 0.0}, {\"ethnicity\": \"bipoc\", \"sex\": \"female\", \"age\": \"child\", \"label\": \"disgust\", \"url\": \"https://uwmadison.co1.qualtrics.com/ControlPanel/Graphic.php?IM=IM_4Zxryb4o2ZDgHDo\", \"clusters_pca\": 1, \"x\": 0.6000000000000001, \"y\": 0.0}, {\"ethnicity\": \"bipoc\", \"sex\": \"male\", \"age\": \"child\", \"label\": \"disgust\", \"url\": \"https://uwmadison.co1.qualtrics.com/ControlPanel/Graphic.php?IM=IM_envzka9NlloQh7g\", \"clusters_pca\": 1, \"x\": 0.8, \"y\": 0.0}, {\"ethnicity\": \"white\", \"sex\": \"female\", \"age\": \"adult\", \"label\": \"disgust\", \"url\": \"https://uwmadison.co1.qualtrics.com/ControlPanel/Graphic.php?IM=IM_er3kGiV5nUJCkse\", \"clusters_pca\": 1, \"x\": 1.0, \"y\": 0.0}, {\"ethnicity\": \"white\", \"sex\": \"female\", \"age\": \"child\", \"label\": \"uncertain\", \"url\": \"https://uwmadison.co1.qualtrics.com/ControlPanel/Graphic.php?IM=IM_8jkP8HhjPXmgNPE\", \"clusters_pca\": 1, \"x\": 0.0, \"y\": 0.2}, {\"ethnicity\": \"bipoc\", \"sex\": \"female\", \"age\": \"adult\", \"label\": \"anger\", \"url\": \"https://uwmadison.co1.qualtrics.com/ControlPanel/Graphic.php?IM=IM_6J5KVNyTENDNC4K\", \"clusters_pca\": 1, \"x\": 0.2, \"y\": 0.2}, {\"ethnicity\": \"bipoc\", \"sex\": \"male\", \"age\": \"child\", \"label\": \"anger\", \"url\": \"https://uwmadison.co1.qualtrics.com/ControlPanel/Graphic.php?IM=IM_82jdttMjk3552E6\", \"clusters_pca\": 1, \"x\": 0.4, \"y\": 0.2}, {\"ethnicity\": \"white\", \"sex\": \"female\", \"age\": \"adult\", \"label\": \"anger\", \"url\": \"https://uwmadison.co1.qualtrics.com/ControlPanel/Graphic.php?IM=IM_b1KYrTe9d0HebfU\", \"clusters_pca\": 1, \"x\": 0.6000000000000001, \"y\": 0.2}, {\"ethnicity\": \"white\", \"sex\": \"male\", \"age\": \"adult\", \"label\": \"anger\", \"url\": \"https://uwmadison.co1.qualtrics.com/ControlPanel/Graphic.php?IM=IM_eb7s42ZIPiC9Z66\", \"clusters_pca\": 1, \"x\": 0.8, \"y\": 0.2}, {\"ethnicity\": \"white\", \"sex\": \"male\", \"age\": \"child\", \"label\": \"anger\", \"url\": \"https://uwmadison.co1.qualtrics.com/ControlPanel/Graphic.php?IM=IM_dhTzFnZMWrTfBGK\", \"clusters_pca\": 1, \"x\": 1.0, \"y\": 0.2}, {\"ethnicity\": \"bipoc\", \"sex\": \"male\", \"age\": \"adult\", \"label\": \"disgust\", \"url\": \"https://uwmadison.co1.qualtrics.com/ControlPanel/Graphic.php?IM=IM_1Zx26VAbwv9uFFQ\", \"clusters_pca\": 1, \"x\": 0.0, \"y\": 0.4}, {\"ethnicity\": \"white\", \"sex\": \"female\", \"age\": \"child\", \"label\": \"disgust\", \"url\": \"https://uwmadison.co1.qualtrics.com/ControlPanel/Graphic.php?IM=IM_244QOC2to2Jetca\", \"clusters_pca\": 1, \"x\": 0.2, \"y\": 0.4}, {\"ethnicity\": \"white\", \"sex\": \"male\", \"age\": \"adult\", \"label\": \"disgust\", \"url\": \"https://uwmadison.co1.qualtrics.com/ControlPanel/Graphic.php?IM=IM_7aEgC4sWsfM5I5E\", \"clusters_pca\": 1, \"x\": 0.4, \"y\": 0.4}, {\"ethnicity\": \"white\", \"sex\": \"male\", \"age\": \"child\", \"label\": \"disgust\", \"url\": \"https://uwmadison.co1.qualtrics.com/ControlPanel/Graphic.php?IM=IM_7P182C9dn0ypgtE\", \"clusters_pca\": 1, \"x\": 0.6000000000000001, \"y\": 0.4}, {\"ethnicity\": \"bipoc\", \"sex\": \"female\", \"age\": \"adult\", \"label\": \"sadness\", \"url\": \"https://uwmadison.co1.qualtrics.com/ControlPanel/Graphic.php?IM=IM_83amQw1mO0Wac06\", \"clusters_pca\": 1, \"x\": 0.8, \"y\": 0.4}, {\"ethnicity\": \"white\", \"sex\": \"female\", \"age\": \"adult\", \"label\": \"sadness\", \"url\": \"https://uwmadison.co1.qualtrics.com/ControlPanel/Graphic.php?IM=IM_7NHotnPd2lT9Foa\", \"clusters_pca\": 1, \"x\": 1.0, \"y\": 0.4}, {\"ethnicity\": \"bipoc\", \"sex\": \"female\", \"age\": \"child\", \"label\": \"anger\", \"url\": \"https://uwmadison.co1.qualtrics.com/ControlPanel/Graphic.php?IM=IM_824LzNsLYNku2OO\", \"clusters_pca\": 1, \"x\": 0.0, \"y\": 0.6000000000000001}, {\"ethnicity\": \"bipoc\", \"sex\": \"male\", \"age\": \"adult\", \"label\": \"anger\", \"url\": \"https://uwmadison.co1.qualtrics.com/ControlPanel/Graphic.php?IM=IM_bkMyZNBgUg8ZlNY\", \"clusters_pca\": 1, \"x\": 0.2, \"y\": 0.6000000000000001}, {\"ethnicity\": \"white\", \"sex\": \"female\", \"age\": \"adult\", \"label\": \"anger\", \"url\": \"https://uwmadison.co1.qualtrics.com/ControlPanel/Graphic.php?IM=IM_cPfESJKHoFDaWUe\", \"clusters_pca\": 1, \"x\": 0.4, \"y\": 0.6000000000000001}, {\"ethnicity\": \"white\", \"sex\": \"female\", \"age\": \"child\", \"label\": \"anger\", \"url\": \"https://uwmadison.co1.qualtrics.com/ControlPanel/Graphic.php?IM=IM_bHfE8z5stIRm0zI\", \"clusters_pca\": 1, \"x\": 0.6000000000000001, \"y\": 0.6000000000000001}, {\"ethnicity\": \"white\", \"sex\": \"male\", \"age\": \"child\", \"label\": \"anger\", \"url\": \"https://uwmadison.co1.qualtrics.com/ControlPanel/Graphic.php?IM=IM_5AcJkrT27k6XRmm\", \"clusters_pca\": 1, \"x\": 0.8, \"y\": 0.6000000000000001}, {\"ethnicity\": \"bipoc\", \"sex\": \"female\", \"age\": \"adult\", \"label\": \"disgust\", \"url\": \"https://uwmadison.co1.qualtrics.com/ControlPanel/Graphic.php?IM=IM_bsHb1M3p1kgjsF0\", \"clusters_pca\": 1, \"x\": 1.0, \"y\": 0.6000000000000001}, {\"ethnicity\": \"bipoc\", \"sex\": \"male\", \"age\": \"adult\", \"label\": \"disgust\", \"url\": \"https://uwmadison.co1.qualtrics.com/ControlPanel/Graphic.php?IM=IM_bemvKCbRtShtR0a\", \"clusters_pca\": 1, \"x\": 0.0, \"y\": 0.8}, {\"ethnicity\": \"white\", \"sex\": \"female\", \"age\": \"child\", \"label\": \"disgust\", \"url\": \"https://uwmadison.co1.qualtrics.com/ControlPanel/Graphic.php?IM=IM_0JVrdbvlyGSXcLI\", \"clusters_pca\": 1, \"x\": 0.2, \"y\": 0.8}, {\"ethnicity\": \"white\", \"sex\": \"male\", \"age\": \"child\", \"label\": \"disgust\", \"url\": \"https://uwmadison.co1.qualtrics.com/ControlPanel/Graphic.php?IM=IM_74HB0t6zgma9YNw\", \"clusters_pca\": 1, \"x\": 0.4, \"y\": 0.8}, {\"ethnicity\": \"bipoc\", \"sex\": \"female\", \"age\": \"adult\", \"label\": \"sadness\", \"url\": \"https://uwmadison.co1.qualtrics.com/ControlPanel/Graphic.php?IM=IM_6A6ANrMmpt0lXFQ\", \"clusters_pca\": 1, \"x\": 0.6000000000000001, \"y\": 0.8}, {\"ethnicity\": \"white\", \"sex\": \"female\", \"age\": \"child\", \"label\": \"uncertain\", \"url\": \"https://uwmadison.co1.qualtrics.com/ControlPanel/Graphic.php?IM=IM_beic5cGPkQFDmhU\", \"clusters_pca\": 1, \"x\": 0.8, \"y\": 0.8}], \"data-f716652719f0f5e1c32b45b8cf12ce72\": [{\"ethnicity\": \"bipoc\", \"sex\": \"female\", \"age\": \"adult\", \"label\": \"happiness\", \"url\": \"https://uwmadison.co1.qualtrics.com/ControlPanel/Graphic.php?IM=IM_5uIGlackw1zchRY\", \"clusters_pca\": 2, \"x\": 0.0, \"y\": 0.0}, {\"ethnicity\": \"bipoc\", \"sex\": \"female\", \"age\": \"child\", \"label\": \"neutral\", \"url\": \"https://uwmadison.co1.qualtrics.com/ControlPanel/Graphic.php?IM=IM_9H2fzde2Rkxr2VU\", \"clusters_pca\": 2, \"x\": 0.5, \"y\": 0.0}, {\"ethnicity\": \"white\", \"sex\": \"male\", \"age\": \"child\", \"label\": \"neutral\", \"url\": \"https://uwmadison.co1.qualtrics.com/ControlPanel/Graphic.php?IM=IM_aVlK7szVW3JAA4K\", \"clusters_pca\": 2, \"x\": 1.0, \"y\": 0.0}, {\"ethnicity\": \"bipoc\", \"sex\": \"male\", \"age\": \"child\", \"label\": \"uncertain\", \"url\": \"https://uwmadison.co1.qualtrics.com/ControlPanel/Graphic.php?IM=IM_0v92GxoJl7KL9HM\", \"clusters_pca\": 2, \"x\": 0.0, \"y\": 0.5}, {\"ethnicity\": \"bipoc\", \"sex\": \"female\", \"age\": \"child\", \"label\": \"neutral\", \"url\": \"https://uwmadison.co1.qualtrics.com/ControlPanel/Graphic.php?IM=IM_dmqopZwVD7uBVVY\", \"clusters_pca\": 2, \"x\": 0.5, \"y\": 0.5}, {\"ethnicity\": \"white\", \"sex\": \"female\", \"age\": \"adult\", \"label\": \"neutral\", \"url\": \"https://uwmadison.co1.qualtrics.com/ControlPanel/Graphic.php?IM=IM_87jMTnzp24Gs0US\", \"clusters_pca\": 2, \"x\": 1.0, \"y\": 0.5}, {\"ethnicity\": \"white\", \"sex\": \"female\", \"age\": \"child\", \"label\": \"neutral\", \"url\": \"https://uwmadison.co1.qualtrics.com/ControlPanel/Graphic.php?IM=IM_ePc7Ntc4cXqTP70\", \"clusters_pca\": 2, \"x\": 0.0, \"y\": 1.0}], \"data-c25763d4dac04ee90061a7eb91dab0e6\": [{\"ethnicity\": \"white\", \"sex\": \"male\", \"age\": \"child\", \"label\": \"anger\", \"url\": \"https://uwmadison.co1.qualtrics.com/ControlPanel/Graphic.php?IM=IM_9Gfr3sYkHq3hHG6\", \"clusters_pca\": 3, \"x\": 0.0, \"y\": 0.0}, {\"ethnicity\": \"white\", \"sex\": \"female\", \"age\": \"child\", \"label\": \"disgust\", \"url\": \"https://uwmadison.co1.qualtrics.com/ControlPanel/Graphic.php?IM=IM_51ruTTJP1FaUeX4\", \"clusters_pca\": 3, \"x\": 0.2, \"y\": 0.0}, {\"ethnicity\": \"bipoc\", \"sex\": \"female\", \"age\": \"child\", \"label\": \"happiness\", \"url\": \"https://uwmadison.co1.qualtrics.com/ControlPanel/Graphic.php?IM=IM_1LJr1XMUNEEqjEq\", \"clusters_pca\": 3, \"x\": 0.4, \"y\": 0.0}, {\"ethnicity\": \"bipoc\", \"sex\": \"male\", \"age\": \"adult\", \"label\": \"happiness\", \"url\": \"https://uwmadison.co1.qualtrics.com/ControlPanel/Graphic.php?IM=IM_aVKZzBmzWSoXCXY\", \"clusters_pca\": 3, \"x\": 0.6000000000000001, \"y\": 0.0}, {\"ethnicity\": \"bipoc\", \"sex\": \"male\", \"age\": \"child\", \"label\": \"happiness\", \"url\": \"https://uwmadison.co1.qualtrics.com/ControlPanel/Graphic.php?IM=IM_da53a1yGEedpOJg\", \"clusters_pca\": 3, \"x\": 0.8, \"y\": 0.0}, {\"ethnicity\": \"white\", \"sex\": \"female\", \"age\": \"adult\", \"label\": \"happiness\", \"url\": \"https://uwmadison.co1.qualtrics.com/ControlPanel/Graphic.php?IM=IM_6hVt2pmEYV6YLwG\", \"clusters_pca\": 3, \"x\": 1.0, \"y\": 0.0}, {\"ethnicity\": \"white\", \"sex\": \"female\", \"age\": \"child\", \"label\": \"happiness\", \"url\": \"https://uwmadison.co1.qualtrics.com/ControlPanel/Graphic.php?IM=IM_9shhhARAg1o8QcK\", \"clusters_pca\": 3, \"x\": 0.0, \"y\": 0.2}, {\"ethnicity\": \"white\", \"sex\": \"male\", \"age\": \"adult\", \"label\": \"happiness\", \"url\": \"https://uwmadison.co1.qualtrics.com/ControlPanel/Graphic.php?IM=IM_3CWGONIxkNEfLbU\", \"clusters_pca\": 3, \"x\": 0.2, \"y\": 0.2}, {\"ethnicity\": \"white\", \"sex\": \"male\", \"age\": \"child\", \"label\": \"happiness\", \"url\": \"https://uwmadison.co1.qualtrics.com/ControlPanel/Graphic.php?IM=IM_0lBpULniZBM24Pc\", \"clusters_pca\": 3, \"x\": 0.4, \"y\": 0.2}, {\"ethnicity\": \"bipoc\", \"sex\": \"female\", \"age\": \"adult\", \"label\": \"uncertain\", \"url\": \"https://uwmadison.co1.qualtrics.com/ControlPanel/Graphic.php?IM=IM_6x0zlBArY56cHem\", \"clusters_pca\": 3, \"x\": 0.6000000000000001, \"y\": 0.2}, {\"ethnicity\": \"bipoc\", \"sex\": \"female\", \"age\": \"adult\", \"label\": \"happiness\", \"url\": \"https://uwmadison.co1.qualtrics.com/ControlPanel/Graphic.php?IM=IM_0xPTvIpG1sPU3QO\", \"clusters_pca\": 3, \"x\": 0.8, \"y\": 0.2}, {\"ethnicity\": \"bipoc\", \"sex\": \"female\", \"age\": \"child\", \"label\": \"happiness\", \"url\": \"https://uwmadison.co1.qualtrics.com/ControlPanel/Graphic.php?IM=IM_cGTIBhdTVZFLwdE\", \"clusters_pca\": 3, \"x\": 1.0, \"y\": 0.2}, {\"ethnicity\": \"bipoc\", \"sex\": \"male\", \"age\": \"adult\", \"label\": \"happiness\", \"url\": \"https://uwmadison.co1.qualtrics.com/ControlPanel/Graphic.php?IM=IM_bEDlxRqiOdpCl1Q\", \"clusters_pca\": 3, \"x\": 0.0, \"y\": 0.4}, {\"ethnicity\": \"bipoc\", \"sex\": \"male\", \"age\": \"child\", \"label\": \"happiness\", \"url\": \"https://uwmadison.co1.qualtrics.com/ControlPanel/Graphic.php?IM=IM_0UkPGjTodmzqM9U\", \"clusters_pca\": 3, \"x\": 0.2, \"y\": 0.4}, {\"ethnicity\": \"white\", \"sex\": \"female\", \"age\": \"adult\", \"label\": \"happiness\", \"url\": \"https://uwmadison.co1.qualtrics.com/ControlPanel/Graphic.php?IM=IM_3sodPsRm6g6as06\", \"clusters_pca\": 3, \"x\": 0.4, \"y\": 0.4}, {\"ethnicity\": \"white\", \"sex\": \"female\", \"age\": \"child\", \"label\": \"happiness\", \"url\": \"https://uwmadison.co1.qualtrics.com/ControlPanel/Graphic.php?IM=IM_aWrmbq9vyHFZmTk\", \"clusters_pca\": 3, \"x\": 0.6000000000000001, \"y\": 0.4}, {\"ethnicity\": \"white\", \"sex\": \"male\", \"age\": \"adult\", \"label\": \"happiness\", \"url\": \"https://uwmadison.co1.qualtrics.com/ControlPanel/Graphic.php?IM=IM_ewCuSR8n6UYi2MK\", \"clusters_pca\": 3, \"x\": 0.8, \"y\": 0.4}, {\"ethnicity\": \"white\", \"sex\": \"male\", \"age\": \"child\", \"label\": \"happiness\", \"url\": \"https://uwmadison.co1.qualtrics.com/ControlPanel/Graphic.php?IM=IM_2hrynYgwGLMuDUG\", \"clusters_pca\": 3, \"x\": 1.0, \"y\": 0.4}, {\"ethnicity\": \"bipoc\", \"sex\": \"female\", \"age\": \"adult\", \"label\": \"uncertain\", \"url\": \"https://uwmadison.co1.qualtrics.com/ControlPanel/Graphic.php?IM=IM_74kgKNSWDU7crjM\", \"clusters_pca\": 3, \"x\": 0.0, \"y\": 0.6000000000000001}, {\"ethnicity\": \"bipoc\", \"sex\": \"female\", \"age\": \"adult\", \"label\": \"happiness\", \"url\": \"https://uwmadison.co1.qualtrics.com/ControlPanel/Graphic.php?IM=IM_0GtSGAki0COJYO2\", \"clusters_pca\": 3, \"x\": 0.2, \"y\": 0.6000000000000001}, {\"ethnicity\": \"bipoc\", \"sex\": \"female\", \"age\": \"child\", \"label\": \"happiness\", \"url\": \"https://uwmadison.co1.qualtrics.com/ControlPanel/Graphic.php?IM=IM_e2tmtlm0JLZje0S\", \"clusters_pca\": 3, \"x\": 0.4, \"y\": 0.6000000000000001}, {\"ethnicity\": \"bipoc\", \"sex\": \"male\", \"age\": \"adult\", \"label\": \"happiness\", \"url\": \"https://uwmadison.co1.qualtrics.com/ControlPanel/Graphic.php?IM=IM_agxa9UIrTk07jxQ\", \"clusters_pca\": 3, \"x\": 0.6000000000000001, \"y\": 0.6000000000000001}, {\"ethnicity\": \"bipoc\", \"sex\": \"male\", \"age\": \"child\", \"label\": \"happiness\", \"url\": \"https://uwmadison.co1.qualtrics.com/ControlPanel/Graphic.php?IM=IM_d060VdjZY82W38W\", \"clusters_pca\": 3, \"x\": 0.8, \"y\": 0.6000000000000001}, {\"ethnicity\": \"white\", \"sex\": \"female\", \"age\": \"adult\", \"label\": \"happiness\", \"url\": \"https://uwmadison.co1.qualtrics.com/ControlPanel/Graphic.php?IM=IM_57Gr1XAHK9uhWES\", \"clusters_pca\": 3, \"x\": 1.0, \"y\": 0.6000000000000001}, {\"ethnicity\": \"white\", \"sex\": \"female\", \"age\": \"child\", \"label\": \"happiness\", \"url\": \"https://uwmadison.co1.qualtrics.com/ControlPanel/Graphic.php?IM=IM_d5NMiWqa2jpUDLo\", \"clusters_pca\": 3, \"x\": 0.0, \"y\": 0.8}, {\"ethnicity\": \"white\", \"sex\": \"male\", \"age\": \"adult\", \"label\": \"happiness\", \"url\": \"https://uwmadison.co1.qualtrics.com/ControlPanel/Graphic.php?IM=IM_3NR7AkPxBUkdOQe\", \"clusters_pca\": 3, \"x\": 0.2, \"y\": 0.8}, {\"ethnicity\": \"white\", \"sex\": \"male\", \"age\": \"child\", \"label\": \"happiness\", \"url\": \"https://uwmadison.co1.qualtrics.com/ControlPanel/Graphic.php?IM=IM_eWnGys8SLE5J3Cu\", \"clusters_pca\": 3, \"x\": 0.4, \"y\": 0.8}, {\"ethnicity\": \"bipoc\", \"sex\": \"female\", \"age\": \"adult\", \"label\": \"uncertain\", \"url\": \"https://uwmadison.co1.qualtrics.com/ControlPanel/Graphic.php?IM=IM_bHLXUfPyLDklutg\", \"clusters_pca\": 3, \"x\": 0.6000000000000001, \"y\": 0.8}, {\"ethnicity\": \"bipoc\", \"sex\": \"female\", \"age\": \"child\", \"label\": \"uncertain\", \"url\": \"https://uwmadison.co1.qualtrics.com/ControlPanel/Graphic.php?IM=IM_0MzywJJUHEiadCe\", \"clusters_pca\": 3, \"x\": 0.8, \"y\": 0.8}], \"data-d9796bd29e63533b230e0061c0051bc1\": [{\"ethnicity\": \"bipoc\", \"sex\": \"male\", \"age\": \"adult\", \"label\": \"neutral\", \"url\": \"https://uwmadison.co1.qualtrics.com/ControlPanel/Graphic.php?IM=IM_cMDFM510Dzc4NKu\", \"clusters_pca\": 4, \"x\": 0.0, \"y\": 0.0}, {\"ethnicity\": \"white\", \"sex\": \"female\", \"age\": \"adult\", \"label\": \"neutral\", \"url\": \"https://uwmadison.co1.qualtrics.com/ControlPanel/Graphic.php?IM=IM_3lu3qPA43hGxJ4y\", \"clusters_pca\": 4, \"x\": 0.3333333333333333, \"y\": 0.0}, {\"ethnicity\": \"white\", \"sex\": \"female\", \"age\": \"child\", \"label\": \"neutral\", \"url\": \"https://uwmadison.co1.qualtrics.com/ControlPanel/Graphic.php?IM=IM_0pPXIzq4Mrfh7ka\", \"clusters_pca\": 4, \"x\": 0.6666666666666666, \"y\": 0.0}, {\"ethnicity\": \"white\", \"sex\": \"male\", \"age\": \"adult\", \"label\": \"neutral\", \"url\": \"https://uwmadison.co1.qualtrics.com/ControlPanel/Graphic.php?IM=IM_blolyGQSOOsUfLE\", \"clusters_pca\": 4, \"x\": 1.0, \"y\": 0.0}, {\"ethnicity\": \"bipoc\", \"sex\": \"female\", \"age\": \"child\", \"label\": \"uncertain\", \"url\": \"https://uwmadison.co1.qualtrics.com/ControlPanel/Graphic.php?IM=IM_9BqHT20xS13gotg\", \"clusters_pca\": 4, \"x\": 0.0, \"y\": 0.3333333333333333}, {\"ethnicity\": \"bipoc\", \"sex\": \"male\", \"age\": \"adult\", \"label\": \"anger\", \"url\": \"https://uwmadison.co1.qualtrics.com/ControlPanel/Graphic.php?IM=IM_4OulgTPxBAgu0Qu\", \"clusters_pca\": 4, \"x\": 0.3333333333333333, \"y\": 0.3333333333333333}, {\"ethnicity\": \"bipoc\", \"sex\": \"female\", \"age\": \"adult\", \"label\": \"neutral\", \"url\": \"https://uwmadison.co1.qualtrics.com/ControlPanel/Graphic.php?IM=IM_39Riowawi2KEmV0\", \"clusters_pca\": 4, \"x\": 0.6666666666666666, \"y\": 0.3333333333333333}, {\"ethnicity\": \"bipoc\", \"sex\": \"male\", \"age\": \"adult\", \"label\": \"neutral\", \"url\": \"https://uwmadison.co1.qualtrics.com/ControlPanel/Graphic.php?IM=IM_3gSfRO9Zt2G8NP8\", \"clusters_pca\": 4, \"x\": 1.0, \"y\": 0.3333333333333333}, {\"ethnicity\": \"white\", \"sex\": \"female\", \"age\": \"adult\", \"label\": \"neutral\", \"url\": \"https://uwmadison.co1.qualtrics.com/ControlPanel/Graphic.php?IM=IM_bqKH78xvssoHVoG\", \"clusters_pca\": 4, \"x\": 0.0, \"y\": 0.6666666666666666}, {\"ethnicity\": \"white\", \"sex\": \"male\", \"age\": \"adult\", \"label\": \"anger\", \"url\": \"https://uwmadison.co1.qualtrics.com/ControlPanel/Graphic.php?IM=IM_cCHIBQubXKS0CiO\", \"clusters_pca\": 4, \"x\": 0.3333333333333333, \"y\": 0.6666666666666666}, {\"ethnicity\": \"bipoc\", \"sex\": \"female\", \"age\": \"adult\", \"label\": \"neutral\", \"url\": \"https://uwmadison.co1.qualtrics.com/ControlPanel/Graphic.php?IM=IM_8Bsr2LNg85rxVgW\", \"clusters_pca\": 4, \"x\": 0.6666666666666666, \"y\": 0.6666666666666666}, {\"ethnicity\": \"bipoc\", \"sex\": \"male\", \"age\": \"adult\", \"label\": \"neutral\", \"url\": \"https://uwmadison.co1.qualtrics.com/ControlPanel/Graphic.php?IM=IM_2ubTkbpnURV3shw\", \"clusters_pca\": 4, \"x\": 1.0, \"y\": 0.6666666666666666}, {\"ethnicity\": \"white\", \"sex\": \"male\", \"age\": \"child\", \"label\": \"neutral\", \"url\": \"https://uwmadison.co1.qualtrics.com/ControlPanel/Graphic.php?IM=IM_6EA9nLCkNjdA69M\", \"clusters_pca\": 4, \"x\": 0.0, \"y\": 1.0}, {\"ethnicity\": \"white\", \"sex\": \"female\", \"age\": \"child\", \"label\": \"sadness\", \"url\": \"https://uwmadison.co1.qualtrics.com/ControlPanel/Graphic.php?IM=IM_4ZMiIx0eAUH9slo\", \"clusters_pca\": 4, \"x\": 0.3333333333333333, \"y\": 1.0}], \"data-c76861002ce1528b3e9b78f8acaad55a\": [{\"ethnicity\": \"white\", \"sex\": \"male\", \"age\": \"child\", \"label\": \"disgust\", \"url\": \"https://uwmadison.co1.qualtrics.com/ControlPanel/Graphic.php?IM=IM_3dtGv9tzZmLa4Cy\", \"clusters_pca\": 5, \"x\": 0.0, \"y\": 0.0}, {\"ethnicity\": \"white\", \"sex\": \"male\", \"age\": \"child\", \"label\": \"fear\", \"url\": \"https://uwmadison.co1.qualtrics.com/ControlPanel/Graphic.php?IM=IM_24ukMlBx2IZMMuO\", \"clusters_pca\": 5, \"x\": 0.25, \"y\": 0.0}, {\"ethnicity\": \"bipoc\", \"sex\": \"female\", \"age\": \"adult\", \"label\": \"surprise\", \"url\": \"https://uwmadison.co1.qualtrics.com/ControlPanel/Graphic.php?IM=IM_8FZs4DGyzYKeKQ6\", \"clusters_pca\": 5, \"x\": 0.5, \"y\": 0.0}, {\"ethnicity\": \"bipoc\", \"sex\": \"male\", \"age\": \"child\", \"label\": \"surprise\", \"url\": \"https://uwmadison.co1.qualtrics.com/ControlPanel/Graphic.php?IM=IM_39MTmWdmGCliDga\", \"clusters_pca\": 5, \"x\": 0.75, \"y\": 0.0}, {\"ethnicity\": \"bipoc\", \"sex\": \"male\", \"age\": \"adult\", \"label\": \"uncertain\", \"url\": \"https://uwmadison.co1.qualtrics.com/ControlPanel/Graphic.php?IM=IM_8feaAnE3DavOGFg\", \"clusters_pca\": 5, \"x\": 1.0, \"y\": 0.0}, {\"ethnicity\": \"white\", \"sex\": \"male\", \"age\": \"adult\", \"label\": \"uncertain\", \"url\": \"https://uwmadison.co1.qualtrics.com/ControlPanel/Graphic.php?IM=IM_81e4y8XbeDW4Ew6\", \"clusters_pca\": 5, \"x\": 0.0, \"y\": 0.25}, {\"ethnicity\": null, \"sex\": null, \"age\": null, \"label\": \"attention\", \"url\": \"https://uwmadison.co1.qualtrics.com/ControlPanel/Graphic.php?IM=IM_bHKuEbEutfv7zuu\", \"clusters_pca\": 5, \"x\": 0.25, \"y\": 0.25}, {\"ethnicity\": \"white\", \"sex\": \"female\", \"age\": \"adult\", \"label\": \"disgust\", \"url\": \"https://uwmadison.co1.qualtrics.com/ControlPanel/Graphic.php?IM=IM_5hkOSrFORUoHopM\", \"clusters_pca\": 5, \"x\": 0.5, \"y\": 0.25}, {\"ethnicity\": \"white\", \"sex\": \"female\", \"age\": \"adult\", \"label\": \"fear\", \"url\": \"https://uwmadison.co1.qualtrics.com/ControlPanel/Graphic.php?IM=IM_5AWayt9Py1ZQmUe\", \"clusters_pca\": 5, \"x\": 0.75, \"y\": 0.25}, {\"ethnicity\": \"bipoc\", \"sex\": \"female\", \"age\": \"adult\", \"label\": \"surprise\", \"url\": \"https://uwmadison.co1.qualtrics.com/ControlPanel/Graphic.php?IM=IM_bjThcsBImEknzmu\", \"clusters_pca\": 5, \"x\": 1.0, \"y\": 0.25}, {\"ethnicity\": \"bipoc\", \"sex\": \"male\", \"age\": \"child\", \"label\": \"surprise\", \"url\": \"https://uwmadison.co1.qualtrics.com/ControlPanel/Graphic.php?IM=IM_cwfzFfgNMrzdDeu\", \"clusters_pca\": 5, \"x\": 0.0, \"y\": 0.5}, {\"ethnicity\": \"white\", \"sex\": \"male\", \"age\": \"child\", \"label\": \"surprise\", \"url\": \"https://uwmadison.co1.qualtrics.com/ControlPanel/Graphic.php?IM=IM_0Tk0DUpmSjqZP9Q\", \"clusters_pca\": 5, \"x\": 0.25, \"y\": 0.5}, {\"ethnicity\": \"bipoc\", \"sex\": \"female\", \"age\": \"child\", \"label\": \"uncertain\", \"url\": \"https://uwmadison.co1.qualtrics.com/ControlPanel/Graphic.php?IM=IM_cJi6x6m1lHypqN8\", \"clusters_pca\": 5, \"x\": 0.5, \"y\": 0.5}, {\"ethnicity\": \"bipoc\", \"sex\": \"male\", \"age\": \"adult\", \"label\": \"uncertain\", \"url\": \"https://uwmadison.co1.qualtrics.com/ControlPanel/Graphic.php?IM=IM_afrF8KFiXbEcR2S\", \"clusters_pca\": 5, \"x\": 0.75, \"y\": 0.5}, {\"ethnicity\": \"white\", \"sex\": \"male\", \"age\": \"child\", \"label\": \"uncertain\", \"url\": \"https://uwmadison.co1.qualtrics.com/ControlPanel/Graphic.php?IM=IM_eMb3pnSJgKC0VFk\", \"clusters_pca\": 5, \"x\": 1.0, \"y\": 0.5}, {\"ethnicity\": null, \"sex\": null, \"age\": null, \"label\": \"attention\", \"url\": \"https://uwmadison.co1.qualtrics.com/ControlPanel/Graphic.php?IM=IM_e2rLzge28QpFG6y\", \"clusters_pca\": 5, \"x\": 0.0, \"y\": 0.75}, {\"ethnicity\": \"bipoc\", \"sex\": \"female\", \"age\": \"child\", \"label\": \"disgust\", \"url\": \"https://uwmadison.co1.qualtrics.com/ControlPanel/Graphic.php?IM=IM_0SwhYgwrLxTB3LM\", \"clusters_pca\": 5, \"x\": 0.25, \"y\": 0.75}, {\"ethnicity\": \"white\", \"sex\": \"female\", \"age\": \"adult\", \"label\": \"disgust\", \"url\": \"https://uwmadison.co1.qualtrics.com/ControlPanel/Graphic.php?IM=IM_eKdiMX7YPesWOlU\", \"clusters_pca\": 5, \"x\": 0.5, \"y\": 0.75}, {\"ethnicity\": \"bipoc\", \"sex\": \"female\", \"age\": \"child\", \"label\": \"surprise\", \"url\": \"https://uwmadison.co1.qualtrics.com/ControlPanel/Graphic.php?IM=IM_9Gq0h87bY58MZSu\", \"clusters_pca\": 5, \"x\": 0.75, \"y\": 0.75}, {\"ethnicity\": \"white\", \"sex\": \"female\", \"age\": \"child\", \"label\": \"surprise\", \"url\": \"https://uwmadison.co1.qualtrics.com/ControlPanel/Graphic.php?IM=IM_eG4lj9qMfU2nUFg\", \"clusters_pca\": 5, \"x\": 1.0, \"y\": 0.75}, {\"ethnicity\": \"white\", \"sex\": \"male\", \"age\": \"adult\", \"label\": \"uncertain\", \"url\": \"https://uwmadison.co1.qualtrics.com/ControlPanel/Graphic.php?IM=IM_8oGUDKsFJy6Upeu\", \"clusters_pca\": 5, \"x\": 0.0, \"y\": 1.0}], \"data-e8dfaeb9fc727bd20a2ac9ad6910a2a7\": [{\"ethnicity\": \"bipoc\", \"sex\": \"male\", \"age\": \"adult\", \"label\": \"anger\", \"url\": \"https://uwmadison.co1.qualtrics.com/ControlPanel/Graphic.php?IM=IM_3QLhY3LefdXzwfI\", \"clusters_pca\": 6, \"x\": 0.0, \"y\": 0.0}, {\"ethnicity\": \"bipoc\", \"sex\": \"male\", \"age\": \"adult\", \"label\": \"disgust\", \"url\": \"https://uwmadison.co1.qualtrics.com/ControlPanel/Graphic.php?IM=IM_cIvdFisSzzSMNRI\", \"clusters_pca\": 6, \"x\": 0.25, \"y\": 0.0}, {\"ethnicity\": \"white\", \"sex\": \"female\", \"age\": \"child\", \"label\": \"fear\", \"url\": \"https://uwmadison.co1.qualtrics.com/ControlPanel/Graphic.php?IM=IM_cXRPI85VJ3YAOdo\", \"clusters_pca\": 6, \"x\": 0.5, \"y\": 0.0}, {\"ethnicity\": \"bipoc\", \"sex\": \"female\", \"age\": \"adult\", \"label\": \"sadness\", \"url\": \"https://uwmadison.co1.qualtrics.com/ControlPanel/Graphic.php?IM=IM_6KEpMh9qlyvMRAa\", \"clusters_pca\": 6, \"x\": 0.75, \"y\": 0.0}, {\"ethnicity\": \"bipoc\", \"sex\": \"female\", \"age\": \"child\", \"label\": \"sadness\", \"url\": \"https://uwmadison.co1.qualtrics.com/ControlPanel/Graphic.php?IM=IM_etimLaMrS2pVAAS\", \"clusters_pca\": 6, \"x\": 1.0, \"y\": 0.0}, {\"ethnicity\": \"bipoc\", \"sex\": \"male\", \"age\": \"adult\", \"label\": \"sadness\", \"url\": \"https://uwmadison.co1.qualtrics.com/ControlPanel/Graphic.php?IM=IM_dbf2dyj7KGtrN2e\", \"clusters_pca\": 6, \"x\": 0.0, \"y\": 0.25}, {\"ethnicity\": \"bipoc\", \"sex\": \"male\", \"age\": \"child\", \"label\": \"sadness\", \"url\": \"https://uwmadison.co1.qualtrics.com/ControlPanel/Graphic.php?IM=IM_eVzPpFKIfopOW1w\", \"clusters_pca\": 6, \"x\": 0.25, \"y\": 0.25}, {\"ethnicity\": \"white\", \"sex\": \"female\", \"age\": \"adult\", \"label\": \"sadness\", \"url\": \"https://uwmadison.co1.qualtrics.com/ControlPanel/Graphic.php?IM=IM_9EKbisrli19qicS\", \"clusters_pca\": 6, \"x\": 0.5, \"y\": 0.25}, {\"ethnicity\": \"white\", \"sex\": \"female\", \"age\": \"child\", \"label\": \"sadness\", \"url\": \"https://uwmadison.co1.qualtrics.com/ControlPanel/Graphic.php?IM=IM_55Rjm0S1oR1ox1k\", \"clusters_pca\": 6, \"x\": 0.75, \"y\": 0.25}, {\"ethnicity\": \"white\", \"sex\": \"male\", \"age\": \"child\", \"label\": \"sadness\", \"url\": \"https://uwmadison.co1.qualtrics.com/ControlPanel/Graphic.php?IM=IM_1BzaOxAnlvpmh8i\", \"clusters_pca\": 6, \"x\": 1.0, \"y\": 0.25}, {\"ethnicity\": \"bipoc\", \"sex\": \"male\", \"age\": \"child\", \"label\": \"disgust\", \"url\": \"https://uwmadison.co1.qualtrics.com/ControlPanel/Graphic.php?IM=IM_bjzYq2UEKkXH7aC\", \"clusters_pca\": 6, \"x\": 0.0, \"y\": 0.5}, {\"ethnicity\": \"bipoc\", \"sex\": \"female\", \"age\": \"child\", \"label\": \"fear\", \"url\": \"https://uwmadison.co1.qualtrics.com/ControlPanel/Graphic.php?IM=IM_0BVeUJelcjahWwC\", \"clusters_pca\": 6, \"x\": 0.25, \"y\": 0.5}, {\"ethnicity\": \"white\", \"sex\": \"male\", \"age\": \"child\", \"label\": \"fear\", \"url\": \"https://uwmadison.co1.qualtrics.com/ControlPanel/Graphic.php?IM=IM_0AKqpsdouereE5M\", \"clusters_pca\": 6, \"x\": 0.5, \"y\": 0.5}, {\"ethnicity\": \"bipoc\", \"sex\": \"female\", \"age\": \"child\", \"label\": \"sadness\", \"url\": \"https://uwmadison.co1.qualtrics.com/ControlPanel/Graphic.php?IM=IM_73Yp8FVd9OfjPP8\", \"clusters_pca\": 6, \"x\": 0.75, \"y\": 0.5}, {\"ethnicity\": \"bipoc\", \"sex\": \"male\", \"age\": \"adult\", \"label\": \"sadness\", \"url\": \"https://uwmadison.co1.qualtrics.com/ControlPanel/Graphic.php?IM=IM_dahScWh9wdBUhlY\", \"clusters_pca\": 6, \"x\": 1.0, \"y\": 0.5}, {\"ethnicity\": \"bipoc\", \"sex\": \"male\", \"age\": \"child\", \"label\": \"sadness\", \"url\": \"https://uwmadison.co1.qualtrics.com/ControlPanel/Graphic.php?IM=IM_77jUBNTFvgA7yxU\", \"clusters_pca\": 6, \"x\": 0.0, \"y\": 0.75}, {\"ethnicity\": \"white\", \"sex\": \"female\", \"age\": \"child\", \"label\": \"sadness\", \"url\": \"https://uwmadison.co1.qualtrics.com/ControlPanel/Graphic.php?IM=IM_0pqIA60jUTgdaQe\", \"clusters_pca\": 6, \"x\": 0.25, \"y\": 0.75}, {\"ethnicity\": \"white\", \"sex\": \"male\", \"age\": \"child\", \"label\": \"sadness\", \"url\": \"https://uwmadison.co1.qualtrics.com/ControlPanel/Graphic.php?IM=IM_5au9MLWYoSZyrj0\", \"clusters_pca\": 6, \"x\": 0.5, \"y\": 0.75}, {\"ethnicity\": \"bipoc\", \"sex\": \"female\", \"age\": \"adult\", \"label\": \"anger\", \"url\": \"https://uwmadison.co1.qualtrics.com/ControlPanel/Graphic.php?IM=IM_9WTZdrQmZK2OL54\", \"clusters_pca\": 6, \"x\": 0.75, \"y\": 0.75}, {\"ethnicity\": \"bipoc\", \"sex\": \"male\", \"age\": \"child\", \"label\": \"fear\", \"url\": \"https://uwmadison.co1.qualtrics.com/ControlPanel/Graphic.php?IM=IM_9mlWGWUpvpQZa5M\", \"clusters_pca\": 6, \"x\": 1.0, \"y\": 0.75}, {\"ethnicity\": \"bipoc\", \"sex\": \"male\", \"age\": \"adult\", \"label\": \"sadness\", \"url\": \"https://uwmadison.co1.qualtrics.com/ControlPanel/Graphic.php?IM=IM_0pvcXJMnnou5XxA\", \"clusters_pca\": 6, \"x\": 0.0, \"y\": 1.0}, {\"ethnicity\": \"white\", \"sex\": \"female\", \"age\": \"adult\", \"label\": \"sadness\", \"url\": \"https://uwmadison.co1.qualtrics.com/ControlPanel/Graphic.php?IM=IM_4ObHALgYpr6zhn8\", \"clusters_pca\": 6, \"x\": 0.25, \"y\": 1.0}, {\"ethnicity\": \"white\", \"sex\": \"male\", \"age\": \"child\", \"label\": \"sadness\", \"url\": \"https://uwmadison.co1.qualtrics.com/ControlPanel/Graphic.php?IM=IM_cSZwt3HTocE50jk\", \"clusters_pca\": 6, \"x\": 0.5, \"y\": 1.0}], \"data-88da74e4504e24c1960a211e4017771c\": [{\"ethnicity\": \"bipoc\", \"sex\": \"male\", \"age\": \"child\", \"label\": \"anger\", \"url\": \"https://uwmadison.co1.qualtrics.com/ControlPanel/Graphic.php?IM=IM_egtCOrU9KOm233M\", \"clusters_pca\": 7, \"x\": 0.0, \"y\": 0.0}, {\"ethnicity\": \"white\", \"sex\": \"male\", \"age\": \"adult\", \"label\": \"disgust\", \"url\": \"https://uwmadison.co1.qualtrics.com/ControlPanel/Graphic.php?IM=IM_4Iuz8TahQUf5rCu\", \"clusters_pca\": 7, \"x\": 0.3333333333333333, \"y\": 0.0}, {\"ethnicity\": \"bipoc\", \"sex\": \"female\", \"age\": \"adult\", \"label\": \"fear\", \"url\": \"https://uwmadison.co1.qualtrics.com/ControlPanel/Graphic.php?IM=IM_6qVleJUYoACmf6C\", \"clusters_pca\": 7, \"x\": 0.6666666666666666, \"y\": 0.0}, {\"ethnicity\": \"bipoc\", \"sex\": \"male\", \"age\": \"adult\", \"label\": \"fear\", \"url\": \"https://uwmadison.co1.qualtrics.com/ControlPanel/Graphic.php?IM=IM_54KW05fRgzNmLfE\", \"clusters_pca\": 7, \"x\": 1.0, \"y\": 0.0}, {\"ethnicity\": \"white\", \"sex\": \"male\", \"age\": \"adult\", \"label\": \"fear\", \"url\": \"https://uwmadison.co1.qualtrics.com/ControlPanel/Graphic.php?IM=IM_1z4YnfSQVdhj1Rk\", \"clusters_pca\": 7, \"x\": 0.0, \"y\": 0.3333333333333333}, {\"ethnicity\": \"bipoc\", \"sex\": \"female\", \"age\": \"adult\", \"label\": \"disgust\", \"url\": \"https://uwmadison.co1.qualtrics.com/ControlPanel/Graphic.php?IM=IM_0kOdQHclITzXgIC\", \"clusters_pca\": 7, \"x\": 0.3333333333333333, \"y\": 0.3333333333333333}, {\"ethnicity\": \"bipoc\", \"sex\": \"female\", \"age\": \"child\", \"label\": \"disgust\", \"url\": \"https://uwmadison.co1.qualtrics.com/ControlPanel/Graphic.php?IM=IM_e9BJyTeFPLQ7ZUq\", \"clusters_pca\": 7, \"x\": 0.6666666666666666, \"y\": 0.3333333333333333}, {\"ethnicity\": \"bipoc\", \"sex\": \"female\", \"age\": \"adult\", \"label\": \"fear\", \"url\": \"https://uwmadison.co1.qualtrics.com/ControlPanel/Graphic.php?IM=IM_9tzXvOnfZ589gH4\", \"clusters_pca\": 7, \"x\": 1.0, \"y\": 0.3333333333333333}, {\"ethnicity\": \"white\", \"sex\": \"male\", \"age\": \"adult\", \"label\": \"fear\", \"url\": \"https://uwmadison.co1.qualtrics.com/ControlPanel/Graphic.php?IM=IM_9WR2cEWgwYWx7sa\", \"clusters_pca\": 7, \"x\": 0.0, \"y\": 0.6666666666666666}, {\"ethnicity\": \"white\", \"sex\": \"male\", \"age\": \"adult\", \"label\": \"disgust\", \"url\": \"https://uwmadison.co1.qualtrics.com/ControlPanel/Graphic.php?IM=IM_1zU5YqWz2acbM8K\", \"clusters_pca\": 7, \"x\": 0.3333333333333333, \"y\": 0.6666666666666666}, {\"ethnicity\": \"bipoc\", \"sex\": \"female\", \"age\": \"adult\", \"label\": \"fear\", \"url\": \"https://uwmadison.co1.qualtrics.com/ControlPanel/Graphic.php?IM=IM_0MwMgspcIIF1ew6\", \"clusters_pca\": 7, \"x\": 0.6666666666666666, \"y\": 0.6666666666666666}, {\"ethnicity\": \"bipoc\", \"sex\": \"male\", \"age\": \"adult\", \"label\": \"fear\", \"url\": \"https://uwmadison.co1.qualtrics.com/ControlPanel/Graphic.php?IM=IM_8B72pKihkAZkIFU\", \"clusters_pca\": 7, \"x\": 1.0, \"y\": 0.6666666666666666}, {\"ethnicity\": \"white\", \"sex\": \"female\", \"age\": \"adult\", \"label\": \"fear\", \"url\": \"https://uwmadison.co1.qualtrics.com/ControlPanel/Graphic.php?IM=IM_e38mxw6nO1WY6Cq\", \"clusters_pca\": 7, \"x\": 0.0, \"y\": 1.0}, {\"ethnicity\": \"white\", \"sex\": \"male\", \"age\": \"adult\", \"label\": \"fear\", \"url\": \"https://uwmadison.co1.qualtrics.com/ControlPanel/Graphic.php?IM=IM_4Z1hhf1G3PvXBci\", \"clusters_pca\": 7, \"x\": 0.3333333333333333, \"y\": 1.0}, {\"ethnicity\": \"bipoc\", \"sex\": \"male\", \"age\": \"adult\", \"label\": \"uncertain\", \"url\": \"https://uwmadison.co1.qualtrics.com/ControlPanel/Graphic.php?IM=IM_bw6Y8TC4DgP7vAq\", \"clusters_pca\": 7, \"x\": 0.6666666666666666, \"y\": 1.0}, {\"ethnicity\": \"white\", \"sex\": \"female\", \"age\": \"adult\", \"label\": \"uncertain\", \"url\": \"https://uwmadison.co1.qualtrics.com/ControlPanel/Graphic.php?IM=IM_a64Cxa5gtL3OHKS\", \"clusters_pca\": 7, \"x\": 1.0, \"y\": 1.0}], \"data-e075473426706fbae53864e867775fe8\": [{\"ethnicity\": \"bipoc\", \"sex\": \"female\", \"age\": \"adult\", \"label\": \"neutral\", \"url\": \"https://uwmadison.co1.qualtrics.com/ControlPanel/Graphic.php?IM=IM_80TvOXpOXat9RxI\", \"clusters_pca\": 8, \"x\": 0.0, \"y\": 0.0}, {\"ethnicity\": \"bipoc\", \"sex\": \"male\", \"age\": \"child\", \"label\": \"neutral\", \"url\": \"https://uwmadison.co1.qualtrics.com/ControlPanel/Graphic.php?IM=IM_aXk5I4i1e3iZEzk\", \"clusters_pca\": 8, \"x\": 0.3333333333333333, \"y\": 0.0}, {\"ethnicity\": \"bipoc\", \"sex\": \"female\", \"age\": \"child\", \"label\": \"neutral\", \"url\": \"https://uwmadison.co1.qualtrics.com/ControlPanel/Graphic.php?IM=IM_5bFJqMaV53Zsy0K\", \"clusters_pca\": 8, \"x\": 0.6666666666666666, \"y\": 0.0}, {\"ethnicity\": \"bipoc\", \"sex\": \"male\", \"age\": \"child\", \"label\": \"neutral\", \"url\": \"https://uwmadison.co1.qualtrics.com/ControlPanel/Graphic.php?IM=IM_bw2zfW24xOcYU9o\", \"clusters_pca\": 8, \"x\": 1.0, \"y\": 0.0}, {\"ethnicity\": \"white\", \"sex\": \"female\", \"age\": \"child\", \"label\": \"neutral\", \"url\": \"https://uwmadison.co1.qualtrics.com/ControlPanel/Graphic.php?IM=IM_7WGuIqyEG3TilMi\", \"clusters_pca\": 8, \"x\": 0.0, \"y\": 0.3333333333333333}, {\"ethnicity\": \"white\", \"sex\": \"male\", \"age\": \"adult\", \"label\": \"neutral\", \"url\": \"https://uwmadison.co1.qualtrics.com/ControlPanel/Graphic.php?IM=IM_9zQEAVQQyKfTlUG\", \"clusters_pca\": 8, \"x\": 0.3333333333333333, \"y\": 0.3333333333333333}, {\"ethnicity\": \"white\", \"sex\": \"male\", \"age\": \"child\", \"label\": \"neutral\", \"url\": \"https://uwmadison.co1.qualtrics.com/ControlPanel/Graphic.php?IM=IM_7PAyQLJg8l8nBSS\", \"clusters_pca\": 8, \"x\": 0.6666666666666666, \"y\": 0.3333333333333333}, {\"ethnicity\": \"bipoc\", \"sex\": \"female\", \"age\": \"child\", \"label\": \"surprise\", \"url\": \"https://uwmadison.co1.qualtrics.com/ControlPanel/Graphic.php?IM=IM_71mMacKzqNZRVpc\", \"clusters_pca\": 8, \"x\": 1.0, \"y\": 0.3333333333333333}, {\"ethnicity\": \"bipoc\", \"sex\": \"male\", \"age\": \"child\", \"label\": \"neutral\", \"url\": \"https://uwmadison.co1.qualtrics.com/ControlPanel/Graphic.php?IM=IM_bJGSnsoGjBoS3VY\", \"clusters_pca\": 8, \"x\": 0.0, \"y\": 0.6666666666666666}, {\"ethnicity\": \"white\", \"sex\": \"male\", \"age\": \"adult\", \"label\": \"neutral\", \"url\": \"https://uwmadison.co1.qualtrics.com/ControlPanel/Graphic.php?IM=IM_1X1sCzklzGvx2tg\", \"clusters_pca\": 8, \"x\": 0.3333333333333333, \"y\": 0.6666666666666666}], \"data-5454f63dbcf1d5261f01197c832e691c\": [{\"ethnicity\": \"bipoc\", \"sex\": \"female\", \"age\": \"adult\", \"label\": \"anger\", \"url\": \"https://uwmadison.co1.qualtrics.com/ControlPanel/Graphic.php?IM=IM_bJXdODAZHOaG0rI\", \"clusters_pca\": 9, \"x\": 0.0, \"y\": 0.0}, {\"ethnicity\": \"white\", \"sex\": \"male\", \"age\": \"adult\", \"label\": \"anger\", \"url\": \"https://uwmadison.co1.qualtrics.com/ControlPanel/Graphic.php?IM=IM_7PC2cgcyr5yUiOy\", \"clusters_pca\": 9, \"x\": 0.25, \"y\": 0.0}, {\"ethnicity\": \"white\", \"sex\": \"male\", \"age\": \"adult\", \"label\": \"sadness\", \"url\": \"https://uwmadison.co1.qualtrics.com/ControlPanel/Graphic.php?IM=IM_8j4LSlE16vL228e\", \"clusters_pca\": 9, \"x\": 0.5, \"y\": 0.0}, {\"ethnicity\": \"white\", \"sex\": \"female\", \"age\": \"adult\", \"label\": \"uncertain\", \"url\": \"https://uwmadison.co1.qualtrics.com/ControlPanel/Graphic.php?IM=IM_88R1RMz4mseoRkW\", \"clusters_pca\": 9, \"x\": 0.75, \"y\": 0.0}, {\"ethnicity\": \"bipoc\", \"sex\": \"female\", \"age\": \"child\", \"label\": \"anger\", \"url\": \"https://uwmadison.co1.qualtrics.com/ControlPanel/Graphic.php?IM=IM_ehdQVRQn8kI6rNI\", \"clusters_pca\": 9, \"x\": 1.0, \"y\": 0.0}, {\"ethnicity\": \"white\", \"sex\": \"female\", \"age\": \"child\", \"label\": \"anger\", \"url\": \"https://uwmadison.co1.qualtrics.com/ControlPanel/Graphic.php?IM=IM_3QtW28KFGllSVBI\", \"clusters_pca\": 9, \"x\": 0.0, \"y\": 0.25}, {\"ethnicity\": \"white\", \"sex\": \"male\", \"age\": \"adult\", \"label\": \"sadness\", \"url\": \"https://uwmadison.co1.qualtrics.com/ControlPanel/Graphic.php?IM=IM_bNT78GDXgMqiTLU\", \"clusters_pca\": 9, \"x\": 0.25, \"y\": 0.25}, {\"ethnicity\": \"bipoc\", \"sex\": \"male\", \"age\": \"child\", \"label\": \"uncertain\", \"url\": \"https://uwmadison.co1.qualtrics.com/ControlPanel/Graphic.php?IM=IM_eaf2nwmlYn6uJKu\", \"clusters_pca\": 9, \"x\": 0.5, \"y\": 0.25}, {\"ethnicity\": \"white\", \"sex\": \"male\", \"age\": \"adult\", \"label\": \"uncertain\", \"url\": \"https://uwmadison.co1.qualtrics.com/ControlPanel/Graphic.php?IM=IM_3wreUCj6TLHFC4K\", \"clusters_pca\": 9, \"x\": 0.75, \"y\": 0.25}, {\"ethnicity\": \"bipoc\", \"sex\": \"male\", \"age\": \"child\", \"label\": \"anger\", \"url\": \"https://uwmadison.co1.qualtrics.com/ControlPanel/Graphic.php?IM=IM_3rsoVFgV6TcS9fg\", \"clusters_pca\": 9, \"x\": 1.0, \"y\": 0.25}, {\"ethnicity\": \"bipoc\", \"sex\": \"male\", \"age\": \"child\", \"label\": \"disgust\", \"url\": \"https://uwmadison.co1.qualtrics.com/ControlPanel/Graphic.php?IM=IM_7WCRz9fBbsgi9Qq\", \"clusters_pca\": 9, \"x\": 0.0, \"y\": 0.5}, {\"ethnicity\": \"white\", \"sex\": \"female\", \"age\": \"child\", \"label\": \"fear\", \"url\": \"https://uwmadison.co1.qualtrics.com/ControlPanel/Graphic.php?IM=IM_cBJFYlMueaaR03k\", \"clusters_pca\": 9, \"x\": 0.25, \"y\": 0.5}, {\"ethnicity\": \"bipoc\", \"sex\": \"female\", \"age\": \"child\", \"label\": \"sadness\", \"url\": \"https://uwmadison.co1.qualtrics.com/ControlPanel/Graphic.php?IM=IM_6AkMWXDnyOPXs6a\", \"clusters_pca\": 9, \"x\": 0.5, \"y\": 0.5}, {\"ethnicity\": \"bipoc\", \"sex\": \"male\", \"age\": \"child\", \"label\": \"sadness\", \"url\": \"https://uwmadison.co1.qualtrics.com/ControlPanel/Graphic.php?IM=IM_7365JYEsalfFK3c\", \"clusters_pca\": 9, \"x\": 0.75, \"y\": 0.5}, {\"ethnicity\": \"white\", \"sex\": \"male\", \"age\": \"adult\", \"label\": \"sadness\", \"url\": \"https://uwmadison.co1.qualtrics.com/ControlPanel/Graphic.php?IM=IM_8AHT36OY3USaPe6\", \"clusters_pca\": 9, \"x\": 1.0, \"y\": 0.5}, {\"ethnicity\": \"white\", \"sex\": \"male\", \"age\": \"child\", \"label\": \"surprise\", \"url\": \"https://uwmadison.co1.qualtrics.com/ControlPanel/Graphic.php?IM=IM_87ffNHa08KiAYbI\", \"clusters_pca\": 9, \"x\": 0.0, \"y\": 0.75}, {\"ethnicity\": \"bipoc\", \"sex\": \"male\", \"age\": \"child\", \"label\": \"uncertain\", \"url\": \"https://uwmadison.co1.qualtrics.com/ControlPanel/Graphic.php?IM=IM_5yvfzLfqBDAE8XY\", \"clusters_pca\": 9, \"x\": 0.25, \"y\": 0.75}, {\"ethnicity\": \"white\", \"sex\": \"male\", \"age\": \"child\", \"label\": \"uncertain\", \"url\": \"https://uwmadison.co1.qualtrics.com/ControlPanel/Graphic.php?IM=IM_9tcpk2rnvGGXq7A\", \"clusters_pca\": 9, \"x\": 0.5, \"y\": 0.75}]}}, {\"renderer\": \"svg\", \"mode\": \"vega-lite\"});\n",
       "</script>"
      ],
      "text/plain": [
       "alt.VConcatChart(...)"
      ]
     },
     "metadata": {},
     "output_type": "display_data"
    }
   ],
   "source": [
    "k_means_clusters.display(renderer='svg')"
   ]
  },
  {
   "cell_type": "markdown",
   "id": "9ff262c8-5492-4d7c-9875-b5a81011f9a5",
   "metadata": {},
   "source": [
    "# Dataframe for dashboard"
   ]
  },
  {
   "cell_type": "code",
   "execution_count": 516,
   "id": "705d64a6-a002-495b-bcee-0d00a1afc2c2",
   "metadata": {},
   "outputs": [],
   "source": [
    "images_strings = pd.DataFrame({'image_title': image_title, 'svg': svg_str})"
   ]
  },
  {
   "cell_type": "code",
   "execution_count": 517,
   "id": "fc6b220b-83b4-493b-b965-b3238933f95c",
   "metadata": {},
   "outputs": [],
   "source": [
    "images_strings.to_csv('../clean_data/free_choice_svg_strings.csv', index=False)\n",
    "images_strings.to_csv('../../emotions_dashboard/data/free_choice_svg_strings.csv', index=False)"
   ]
  },
  {
   "cell_type": "code",
   "execution_count": 518,
   "id": "d3fb4705-2200-4fcf-ba20-ecff9de7050e",
   "metadata": {},
   "outputs": [],
   "source": [
    "df_svg = pd.read_csv('../clean_data/free_choice_svg_strings.csv')"
   ]
  },
  {
   "cell_type": "code",
   "execution_count": 519,
   "id": "2e6a8e16-6cf3-4db6-a33d-e061a32d4248",
   "metadata": {},
   "outputs": [
    {
     "data": {
      "text/html": [
       "<div>\n",
       "<style scoped>\n",
       "    .dataframe tbody tr th:only-of-type {\n",
       "        vertical-align: middle;\n",
       "    }\n",
       "\n",
       "    .dataframe tbody tr th {\n",
       "        vertical-align: top;\n",
       "    }\n",
       "\n",
       "    .dataframe thead th {\n",
       "        text-align: right;\n",
       "    }\n",
       "</style>\n",
       "<table border=\"1\" class=\"dataframe\">\n",
       "  <thead>\n",
       "    <tr style=\"text-align: right;\">\n",
       "      <th></th>\n",
       "      <th>image_title</th>\n",
       "      <th>svg</th>\n",
       "    </tr>\n",
       "  </thead>\n",
       "  <tbody>\n",
       "    <tr>\n",
       "      <th>0</th>\n",
       "      <td>Participants by sex</td>\n",
       "      <td>&lt;svg xmlns=\"http://www.w3.org/2000/svg\" xmlns:...</td>\n",
       "    </tr>\n",
       "    <tr>\n",
       "      <th>1</th>\n",
       "      <td>Participants by age</td>\n",
       "      <td>&lt;svg xmlns=\"http://www.w3.org/2000/svg\" xmlns:...</td>\n",
       "    </tr>\n",
       "    <tr>\n",
       "      <th>2</th>\n",
       "      <td>Participants by ethnicity</td>\n",
       "      <td>&lt;svg xmlns=\"http://www.w3.org/2000/svg\" xmlns:...</td>\n",
       "    </tr>\n",
       "    <tr>\n",
       "      <th>3</th>\n",
       "      <td>Participants by formal education</td>\n",
       "      <td>&lt;svg xmlns=\"http://www.w3.org/2000/svg\" xmlns:...</td>\n",
       "    </tr>\n",
       "    <tr>\n",
       "      <th>4</th>\n",
       "      <td>K-means evaluation</td>\n",
       "      <td>&lt;svg xmlns=\"http://www.w3.org/2000/svg\" xmlns:...</td>\n",
       "    </tr>\n",
       "  </tbody>\n",
       "</table>\n",
       "</div>"
      ],
      "text/plain": [
       "                        image_title  \\\n",
       "0               Participants by sex   \n",
       "1               Participants by age   \n",
       "2         Participants by ethnicity   \n",
       "3  Participants by formal education   \n",
       "4                K-means evaluation   \n",
       "\n",
       "                                                 svg  \n",
       "0  <svg xmlns=\"http://www.w3.org/2000/svg\" xmlns:...  \n",
       "1  <svg xmlns=\"http://www.w3.org/2000/svg\" xmlns:...  \n",
       "2  <svg xmlns=\"http://www.w3.org/2000/svg\" xmlns:...  \n",
       "3  <svg xmlns=\"http://www.w3.org/2000/svg\" xmlns:...  \n",
       "4  <svg xmlns=\"http://www.w3.org/2000/svg\" xmlns:...  "
      ]
     },
     "execution_count": 519,
     "metadata": {},
     "output_type": "execute_result"
    }
   ],
   "source": [
    "df_svg"
   ]
  }
 ],
 "metadata": {
  "interpreter": {
   "hash": "0353e939db601dafb04d2c079fe964b10a82a41961934d9a2462ee642708624d"
  },
  "kernelspec": {
   "display_name": "Python 3 (ipykernel)",
   "language": "python",
   "name": "python3"
  },
  "language_info": {
   "codemirror_mode": {
    "name": "ipython",
    "version": 3
   },
   "file_extension": ".py",
   "mimetype": "text/x-python",
   "name": "python",
   "nbconvert_exporter": "python",
   "pygments_lexer": "ipython3",
   "version": "3.9.7"
  }
 },
 "nbformat": 4,
 "nbformat_minor": 5
}
