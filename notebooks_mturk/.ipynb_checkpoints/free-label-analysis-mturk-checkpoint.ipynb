{
 "cells": [
  {
   "cell_type": "code",
   "execution_count": 24,
   "id": "101c5683-899d-478f-a17c-b3d3b87262af",
   "metadata": {},
   "outputs": [],
   "source": [
    "import pandas as pd\n",
    "import numpy as np\n",
    "import altair as alt\n",
    "import altair_saver"
   ]
  },
  {
   "cell_type": "markdown",
   "id": "3c50288f-2d71-46bd-845f-39bf1ea32adb",
   "metadata": {},
   "source": [
    "## Data Ingestion"
   ]
  },
  {
   "cell_type": "code",
   "execution_count": 49,
   "id": "d514554d-f422-4e30-8e4b-40d147784416",
   "metadata": {},
   "outputs": [],
   "source": [
    "df = pd.read_csv('../data_mturk/emotion_free_choice_mturk.csv')\n",
    "df_label = pd.read_csv('../data_mturk/emotion_labels.csv')\n",
    "df_reject = pd.read_csv('../data_mturk/free_choice_mturk_rejections.csv')"
   ]
  },
  {
   "cell_type": "code",
   "execution_count": 39,
   "id": "5f57f479-f4dd-4b55-a7b7-c10abb95b91a",
   "metadata": {},
   "outputs": [],
   "source": [
    "df_label['url'] = df_label['url'].astype(str)"
   ]
  },
  {
   "cell_type": "code",
   "execution_count": 40,
   "id": "c7f0262c-26f2-4558-b746-2a188e67ae72",
   "metadata": {},
   "outputs": [],
   "source": [
    "# replicate rows by 4 to match with free responses lenght\n",
    "df_labels = pd.DataFrame(np.repeat(df_label.values, 4, axis=0))\n",
    "df_labels.columns = df_label.columns\n",
    "\n",
    "# add photo id col\n",
    "df_labels['photoId'] = df.loc[:, 'Q2.1_1':'Q195.1_4'].columns"
   ]
  },
  {
   "cell_type": "code",
   "execution_count": 41,
   "id": "4b3623bb-472a-42bb-aec4-9274cdb949f9",
   "metadata": {},
   "outputs": [],
   "source": [
    "df_labels.to_csv('../data_mturk/emotion_labels_free_choice_mturk.csv', index=False)"
   ]
  },
  {
   "cell_type": "code",
   "execution_count": 42,
   "id": "04c3a804-75e1-47a0-826b-b0cdb14d9558",
   "metadata": {},
   "outputs": [
    {
     "name": "stdout",
     "output_type": "stream",
     "text": [
      "<class 'pandas.core.frame.DataFrame'>\n",
      "RangeIndex: 96 entries, 0 to 95\n",
      "Columns: 803 entries, StartDate to random\n",
      "dtypes: object(803)\n",
      "memory usage: 602.4+ KB\n"
     ]
    }
   ],
   "source": [
    "df.info()"
   ]
  },
  {
   "cell_type": "code",
   "execution_count": 43,
   "id": "b6788212-beac-495c-a78c-b576aa577f18",
   "metadata": {},
   "outputs": [],
   "source": [
    "df = df[~df['random'].isin(df_reject['id_rand'].astype('str'))] # filter out rejected surveys\n",
    "\n",
    "df = df[df['Finished'] =='True'] # filter out incomplete surveys"
   ]
  },
  {
   "cell_type": "code",
   "execution_count": 44,
   "id": "bf723a50-5942-4cc8-8139-481e1d20ce38",
   "metadata": {},
   "outputs": [],
   "source": [
    "df = df.iloc[3:, :] # filter metadata rows"
   ]
  },
  {
   "cell_type": "code",
   "execution_count": 45,
   "id": "52a739c6-1b9c-4b56-9e73-acf90c87fc43",
   "metadata": {},
   "outputs": [
    {
     "name": "stdout",
     "output_type": "stream",
     "text": [
      "<class 'pandas.core.frame.DataFrame'>\n",
      "Int64Index: 45 entries, 5 to 81\n",
      "Columns: 803 entries, StartDate to random\n",
      "dtypes: object(803)\n",
      "memory usage: 282.7+ KB\n"
     ]
    }
   ],
   "source": [
    "df.info()"
   ]
  }
 ],
 "metadata": {
  "kernelspec": {
   "display_name": "Python 3 (ipykernel)",
   "language": "python",
   "name": "python3"
  },
  "language_info": {
   "codemirror_mode": {
    "name": "ipython",
    "version": 3
   },
   "file_extension": ".py",
   "mimetype": "text/x-python",
   "name": "python",
   "nbconvert_exporter": "python",
   "pygments_lexer": "ipython3",
   "version": "3.9.7"
  }
 },
 "nbformat": 4,
 "nbformat_minor": 5
}
