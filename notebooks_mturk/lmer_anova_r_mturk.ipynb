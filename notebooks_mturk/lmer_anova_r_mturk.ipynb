{
 "cells": [
  {
   "cell_type": "code",
   "execution_count": 83,
   "id": "48a41427",
   "metadata": {},
   "outputs": [],
   "source": [
    "library(rstatix)\n",
    "library(readr)\n",
    "library(afex)\n",
    "library(performance)\n",
    "library(RCurl)\n",
    "library(optimx)\n",
    "library(parallel)\n",
    "library(minqa)\n",
    "library(ggpubr)\n",
    "library(ez) \n",
    "# https://github.com/mike-lawrence/ez\n",
    "# library(lme4)"
   ]
  },
  {
   "cell_type": "markdown",
   "id": "c3f01f23",
   "metadata": {},
   "source": [
    "# Forced-choice survey LMER"
   ]
  },
  {
   "cell_type": "code",
   "execution_count": 84,
   "id": "a58a4058",
   "metadata": {},
   "outputs": [
    {
     "name": "stderr",
     "output_type": "stream",
     "text": [
      "\n",
      "\u001b[36m──\u001b[39m \u001b[1m\u001b[1mColumn specification\u001b[1m\u001b[22m \u001b[36m────────────────────────────────────────────────────────────────────────────────────────────────────────────\u001b[39m\n",
      "cols(\n",
      "  participantId = \u001b[32mcol_double()\u001b[39m,\n",
      "  photoId = \u001b[31mcol_character()\u001b[39m,\n",
      "  emotion = \u001b[31mcol_character()\u001b[39m,\n",
      "  ethnicity = \u001b[31mcol_character()\u001b[39m,\n",
      "  sex = \u001b[31mcol_character()\u001b[39m,\n",
      "  age = \u001b[31mcol_character()\u001b[39m,\n",
      "  label = \u001b[31mcol_character()\u001b[39m,\n",
      "  url = \u001b[31mcol_character()\u001b[39m,\n",
      "  sentimentScore = \u001b[32mcol_double()\u001b[39m,\n",
      "  sexC = \u001b[32mcol_double()\u001b[39m,\n",
      "  ageC = \u001b[32mcol_double()\u001b[39m,\n",
      "  ethnicityC = \u001b[32mcol_double()\u001b[39m\n",
      ")\n",
      "\n",
      "\n"
     ]
    }
   ],
   "source": [
    "df = read_csv(\"../clean_data_mturk/forced_choice_emotion_mturk_long_format_lmer.csv\")"
   ]
  },
  {
   "cell_type": "markdown",
   "id": "0dfe86d4",
   "metadata": {},
   "source": [
    "## Useful links about fitting LMER \n",
    "- https://bbolker.github.io/mixedmodels-misc/glmmFAQ.html#singular-models-random-effect-variances-estimated-as-zero-or-correlations-estimated-as---1\n",
    "- https://stats.stackexchange.com/questions/242109/model-failed-to-converge-warning-in-lmer\n",
    "- https://easystats.github.io/blog/posts/performance_check_collinearity/\n",
    "- https://stats.stackexchange.com/questions/449042/is-a-singular-fit-with-no-correlations-near-1-or-variances-of-zero-a-false\n",
    "- http://svmiller.com/blog/2018/06/mixed-effects-models-optimizer-checks/\n",
    "- https://joshua-nugent.github.io/allFit/\n",
    "- https://rstudio-pubs-static.s3.amazonaws.com/33653_57fc7b8e5d484c909b615d8633c01d51.html\n",
    "- https://stats.stackexchange.com/questions/323273/what-to-do-with-random-effects-correlation-that-equals-1-or-1\n",
    "- https://psych.wisc.edu/Brauer/BrauerLab/wp-content/uploads/2014/04/Brauer-and-Curtin-in-press-Psych-Methods.pdf\n",
    "- https://cran.r-project.org/web/packages/lme4/vignettes/lmerperf.html\n",
    "- https://rpubs.com/palday/lme4-singular-convergence"
   ]
  },
  {
   "cell_type": "markdown",
   "id": "2b7e1fbe",
   "metadata": {},
   "source": [
    "## Run model with Nelder-Mead opt"
   ]
  },
  {
   "cell_type": "markdown",
   "id": "13e60d16",
   "metadata": {},
   "source": [
    "**Determining random effect structure**\n",
    "\n",
    "**Random Intercept**:\n",
    "- participantId: repeated measures from same participant\n",
    "- photoId: repeated measures from same photo\n",
    "\n",
    "**Random slope**:\n",
    "- ethnicity: varies *within participantId* and *between items*\n",
    "- sex: varies *within participantId* and *between items*\n",
    "- age: varies *within participantId* and *between items*\n",
    "\n",
    "----\n",
    "- Random intercept and slope for participantId\n",
    "- Random intercept for photoId\n",
    "\n",
    "----"
   ]
  },
  {
   "cell_type": "code",
   "execution_count": 85,
   "id": "d6143c17",
   "metadata": {},
   "outputs": [],
   "source": [
    "# ---------\n",
    "# doesn't converge\n",
    "# ---------\n",
    "\n",
    "# lmer_fc_uw_max = lmer(\n",
    "#     sentimentScore ~ 1 + sexC*ethnicityC*ageC + (1 + sexC*ethnicityC*ageC|participantId) + (1 | photoId), \n",
    "#     data = df, \n",
    "#     REML = FALSE, \n",
    "#     control = lmerControl(optimizer =\"Nelder_Mead\", calc.derivs=FALSE)\n",
    "# )\n",
    "# summary(lmer_fc_uw_max)"
   ]
  },
  {
   "cell_type": "code",
   "execution_count": 86,
   "id": "4681f239",
   "metadata": {},
   "outputs": [
    {
     "data": {
      "text/plain": [
       "Linear mixed model fit by maximum likelihood . t-tests use Satterthwaite's\n",
       "  method [lmerModLmerTest]\n",
       "Formula: sentimentScore ~ 1 + sexC * ethnicityC + (1 + sexC * ethnicityC |  \n",
       "    participantId) + (1 | photoId)\n",
       "   Data: df\n",
       "Control: lmerControl(optimizer = \"Nelder_Mead\", calc.derivs = FALSE)\n",
       "\n",
       "     AIC      BIC   logLik deviance df.resid \n",
       "  2925.0   3040.4  -1446.5   2893.0     9968 \n",
       "\n",
       "Scaled residuals: \n",
       "    Min      1Q  Median      3Q     Max \n",
       "-4.2452 -0.5310 -0.0126  0.5087  4.1014 \n",
       "\n",
       "Random effects:\n",
       " Groups        Name            Variance  Std.Dev. Corr             \n",
       " photoId       (Intercept)     1.042e-01 0.322733                  \n",
       " participantId (Intercept)     1.685e-03 0.041045                  \n",
       "               sexC            7.713e-06 0.002777 -0.74            \n",
       "               ethnicityC      2.338e-04 0.015292  0.31 -0.30      \n",
       "               sexC:ethnicityC 1.143e-04 0.010691  0.47 -0.56 -0.18\n",
       " Residual                      7.128e-02 0.266978                  \n",
       "Number of obs: 9984, groups:  photoId, 192; participantId, 52\n",
       "\n",
       "Fixed effects:\n",
       "                  Estimate Std. Error         df t value Pr(>|t|)    \n",
       "(Intercept)      -0.132905   0.024125 195.796547  -5.509 1.13e-07 ***\n",
       "sexC             -0.029670   0.046890 177.862451  -0.633    0.528    \n",
       "ethnicityC       -0.006159   0.046936 178.464406  -0.131    0.896    \n",
       "sexC:ethnicityC   0.010116   0.093788 177.920645   0.108    0.914    \n",
       "---\n",
       "Signif. codes:  0 ‘***’ 0.001 ‘**’ 0.01 ‘*’ 0.05 ‘.’ 0.1 ‘ ’ 1\n",
       "\n",
       "Correlation of Fixed Effects:\n",
       "            (Intr) sexC   ethncC\n",
       "sexC        -0.001              \n",
       "ethnicityC   0.003  0.000       \n",
       "sxC:thnctyC  0.002  0.000  0.000"
      ]
     },
     "metadata": {},
     "output_type": "display_data"
    }
   ],
   "source": [
    "# -------------\n",
    "# lacks power because there is only 1 obs per cell of [participantId X photoId]\n",
    "# -------------\n",
    "\n",
    "lmer_fc_uw_full = lmer(\n",
    "    sentimentScore ~ 1 + sexC*ethnicityC + (1 + sexC*ethnicityC|participantId) + (1 | photoId), \n",
    "    data = df, \n",
    "    REML = FALSE, \n",
    "    control = lmerControl(optimizer =\"Nelder_Mead\", calc.derivs=FALSE)\n",
    ")\n",
    "summary(lmer_fc_uw_full)"
   ]
  },
  {
   "cell_type": "code",
   "execution_count": 87,
   "id": "c64d2155",
   "metadata": {},
   "outputs": [
    {
     "data": {
      "text/plain": [
       "Linear mixed model fit by maximum likelihood . t-tests use Satterthwaite's\n",
       "  method [lmerModLmerTest]\n",
       "Formula: sentimentScore ~ 1 + sexC * ethnicityC + (1 + sexC * ethnicityC |  \n",
       "    participantId)\n",
       "   Data: df\n",
       "Control: lmerControl(optimizer = \"Nelder_Mead\", calc.derivs = FALSE)\n",
       "\n",
       "     AIC      BIC   logLik deviance df.resid \n",
       " 10765.6  10873.7  -5367.8  10735.6     9969 \n",
       "\n",
       "Scaled residuals: \n",
       "    Min      1Q  Median      3Q     Max \n",
       "-1.3099 -0.8812 -0.3347  0.9213  1.9457 \n",
       "\n",
       "Random effects:\n",
       " Groups        Name            Variance  Std.Dev. Corr             \n",
       " participantId (Intercept)     1.128e-03 0.033593                  \n",
       "               sexC            3.662e-05 0.006051  0.88            \n",
       "               ethnicityC      1.780e-04 0.013341  0.56  0.35      \n",
       "               sexC:ethnicityC 9.158e-05 0.009570 -0.08 -0.31 -0.25\n",
       " Residual                      1.708e-01 0.413305                  \n",
       "Number of obs: 9984, groups:  participantId, 52\n",
       "\n",
       "Fixed effects:\n",
       "                  Estimate Std. Error         df t value Pr(>|t|)    \n",
       "(Intercept)     -1.329e-01  6.230e-03  5.071e+01 -21.334  < 2e-16 ***\n",
       "sexC            -2.967e-02  8.315e-03  1.626e+03  -3.568  0.00037 ***\n",
       "ethnicityC      -6.159e-03  8.477e-03  3.493e+02  -0.727  0.46797    \n",
       "sexC:ethnicityC  1.012e-02  1.660e-02  2.185e+03   0.609  0.54228    \n",
       "---\n",
       "Signif. codes:  0 ‘***’ 0.001 ‘**’ 0.01 ‘*’ 0.05 ‘.’ 0.1 ‘ ’ 1\n",
       "\n",
       "Correlation of Fixed Effects:\n",
       "            (Intr) sexC   ethncC\n",
       "sexC         0.067              \n",
       "ethnicityC   0.091  0.008       \n",
       "sxC:thnctyC -0.005 -0.003 -0.004"
      ]
     },
     "metadata": {},
     "output_type": "display_data"
    }
   ],
   "source": [
    "# --------------\n",
    "# it doesn't address photoId random effect, but it has better power 20+ obs per cell (i.e., participantId )\n",
    "# --------------\n",
    "\n",
    "lmer_fc_uw_partial = lmer(\n",
    "    sentimentScore ~ 1 + sexC*ethnicityC + (1 + sexC*ethnicityC|participantId), \n",
    "    data = df, REML = FALSE, \n",
    "    control = lmerControl(optimizer =\"Nelder_Mead\", calc.derivs=FALSE)\n",
    ")\n",
    "summary(lmer_fc_uw_partial)"
   ]
  },
  {
   "cell_type": "markdown",
   "id": "32d3121f",
   "metadata": {},
   "source": [
    "## Check collinearity"
   ]
  },
  {
   "cell_type": "code",
   "execution_count": 88,
   "id": "5d456cfc",
   "metadata": {},
   "outputs": [],
   "source": [
    "# check_collinearity(lmer_fc_uw_full)"
   ]
  },
  {
   "cell_type": "code",
   "execution_count": 89,
   "id": "b0607436",
   "metadata": {},
   "outputs": [
    {
     "data": {
      "text/html": [
       "<table class=\"dataframe\">\n",
       "<caption>A check_collinearity: 3 × 3</caption>\n",
       "<thead>\n",
       "\t<tr><th></th><th scope=col>Term</th><th scope=col>VIF</th><th scope=col>SE_factor</th></tr>\n",
       "\t<tr><th></th><th scope=col>&lt;chr&gt;</th><th scope=col>&lt;dbl&gt;</th><th scope=col>&lt;dbl&gt;</th></tr>\n",
       "</thead>\n",
       "<tbody>\n",
       "\t<tr><th scope=row>1</th><td>sexC           </td><td>1.000065</td><td>1.000032</td></tr>\n",
       "\t<tr><th scope=row>2</th><td>ethnicityC     </td><td>1.000077</td><td>1.000039</td></tr>\n",
       "\t<tr><th scope=row>3</th><td>sexC:ethnicityC</td><td>1.000025</td><td>1.000012</td></tr>\n",
       "</tbody>\n",
       "</table>\n"
      ],
      "text/latex": [
       "A check\\_collinearity: 3 × 3\n",
       "\\begin{tabular}{r|lll}\n",
       "  & Term & VIF & SE\\_factor\\\\\n",
       "  & <chr> & <dbl> & <dbl>\\\\\n",
       "\\hline\n",
       "\t1 & sexC            & 1.000065 & 1.000032\\\\\n",
       "\t2 & ethnicityC      & 1.000077 & 1.000039\\\\\n",
       "\t3 & sexC:ethnicityC & 1.000025 & 1.000012\\\\\n",
       "\\end{tabular}\n"
      ],
      "text/markdown": [
       "\n",
       "A check_collinearity: 3 × 3\n",
       "\n",
       "| <!--/--> | Term &lt;chr&gt; | VIF &lt;dbl&gt; | SE_factor &lt;dbl&gt; |\n",
       "|---|---|---|---|\n",
       "| 1 | sexC            | 1.000065 | 1.000032 |\n",
       "| 2 | ethnicityC      | 1.000077 | 1.000039 |\n",
       "| 3 | sexC:ethnicityC | 1.000025 | 1.000012 |\n",
       "\n"
      ],
      "text/plain": [
       "  Term            VIF      SE_factor\n",
       "1 sexC            1.000065 1.000032 \n",
       "2 ethnicityC      1.000077 1.000039 \n",
       "3 sexC:ethnicityC 1.000025 1.000012 "
      ]
     },
     "metadata": {},
     "output_type": "display_data"
    }
   ],
   "source": [
    "check_collinearity(lmer_fc_uw_partial)"
   ]
  },
  {
   "cell_type": "code",
   "execution_count": 90,
   "id": "795eb800",
   "metadata": {},
   "outputs": [],
   "source": [
    "# plot(check_collinearity(lmer_fc_uw_full))"
   ]
  },
  {
   "cell_type": "code",
   "execution_count": 91,
   "id": "d8ff97d5",
   "metadata": {},
   "outputs": [
    {
     "data": {
      "image/png": "[encoded data removed]",
      "text/plain": [
       "plot without title"
      ]
     },
     "metadata": {
      "image/png": {
       "height": 420,
       "width": 420
      }
     },
     "output_type": "display_data"
    }
   ],
   "source": [
    "plot(check_collinearity(lmer_fc_uw_partial))"
   ]
  },
  {
   "cell_type": "markdown",
   "id": "5d4eaddf",
   "metadata": {},
   "source": [
    "## Check singularity"
   ]
  },
  {
   "cell_type": "code",
   "execution_count": 92,
   "id": "136f7cd8",
   "metadata": {},
   "outputs": [
    {
     "data": {
      "text/html": [
       "0.00684764903744995"
      ],
      "text/latex": [
       "0.00684764903744995"
      ],
      "text/markdown": [
       "0.00684764903744995"
      ],
      "text/plain": [
       "[1] 0.006847649"
      ]
     },
     "metadata": {},
     "output_type": "display_data"
    }
   ],
   "source": [
    "# https://rstudio-pubs-static.s3.amazonaws.com/33653_57fc7b8e5d484c909b615d8633c01d51.html\n",
    "\n",
    "# tt = getME(lmer_fc_uw_full,\"theta\")\n",
    "# ll = getME(lmer_fc_uw_full,\"lower\")\n",
    "# tt_value = min(tt[ll==0])\n",
    "\n",
    "# https://rstudio-pubs-static.s3.amazonaws.com/33653_57fc7b8e5d484c909b615d8633c01d51.html\n",
    "tt_p = getME(lmer_fc_uw_partial,\"theta\")\n",
    "ll_p = getME(lmer_fc_uw_partial,\"lower\")\n",
    "tt_value_p = min(tt_p[ll_p==0])\n",
    "\n",
    "tt_value_p"
   ]
  },
  {
   "cell_type": "code",
   "execution_count": 93,
   "id": "487aa363",
   "metadata": {},
   "outputs": [
    {
     "data": {
      "text/html": [
       "FALSE"
      ],
      "text/latex": [
       "FALSE"
      ],
      "text/markdown": [
       "FALSE"
      ],
      "text/plain": [
       "[1] FALSE"
      ]
     },
     "metadata": {},
     "output_type": "display_data"
    }
   ],
   "source": [
    "tt_value_p < 0.000001\n",
    "# probably not a problem"
   ]
  },
  {
   "cell_type": "code",
   "execution_count": 94,
   "id": "58de89c5",
   "metadata": {},
   "outputs": [
    {
     "data": {
      "text/html": [
       "FALSE"
      ],
      "text/latex": [
       "FALSE"
      ],
      "text/markdown": [
       "FALSE"
      ],
      "text/plain": [
       "[1] FALSE"
      ]
     },
     "metadata": {},
     "output_type": "display_data"
    }
   ],
   "source": [
    "theta_p <- getME(lmer_fc_uw_partial,\"theta\")\n",
    "## diagonal elements are identifiable because they are fitted\n",
    "##  with a lower bound of zero ...\n",
    "diag.element <- getME(lmer_fc_uw_partial,\"lower\")==0\n",
    "any(theta_p[diag.element]<1e-5)\n",
    "\n",
    "# probably not a problem"
   ]
  },
  {
   "cell_type": "markdown",
   "id": "4a8f2246",
   "metadata": {},
   "source": [
    "## Testing multiple optimizers\n"
   ]
  },
  {
   "cell_type": "code",
   "execution_count": 95,
   "id": "8bc5907b",
   "metadata": {},
   "outputs": [],
   "source": [
    "# lmer_fc_uw_m = lmer(sentimentScore ~ 1 + sexC*ethnicityC + (1 + sexC*ethnicityC|participantId), data = df)"
   ]
  },
  {
   "cell_type": "code",
   "execution_count": 96,
   "id": "9d8c5a6e",
   "metadata": {},
   "outputs": [],
   "source": [
    "# ncores <- detectCores()\n",
    "# diff_optims <- allFit(lmer_fc_uw_m, maxfun = 1e5, parallel = 'multicore', ncpus = ncores)"
   ]
  },
  {
   "cell_type": "code",
   "execution_count": 97,
   "id": "bc7361f2",
   "metadata": {},
   "outputs": [],
   "source": [
    "# is.OK <- sapply(diff_optims, is, \"merMod\")\n",
    "# diff_optims.OK <- diff_optims[is.OK]\n",
    "# lapply(diff_optims.OK,function(x) x@optinfo$conv$lme4$messages)"
   ]
  },
  {
   "cell_type": "code",
   "execution_count": 98,
   "id": "f75363db",
   "metadata": {},
   "outputs": [],
   "source": [
    "# (lliks <- sort(sapply(diff_optims.OK,logLik)))"
   ]
  },
  {
   "cell_type": "markdown",
   "id": "a62cd9d0",
   "metadata": {},
   "source": [
    "## Three-way Anova "
   ]
  },
  {
   "cell_type": "markdown",
   "id": "248025c5",
   "metadata": {},
   "source": [
    "### Useful links about fitting ANOVAS\n",
    "- https://www.datanovia.com/en/lessons/repeated-measures-anova-in-r/\n",
    "- https://cran.r-project.org/web/packages/effectsize/vignettes/anovaES.html\n",
    "- https://rpkgs.datanovia.com/rstatix/reference/anova_test.html\n",
    "- https://stats.stackexchange.com/questions/11079/problem-with-anova-repeated-measures-error-model-is-singular"
   ]
  },
  {
   "cell_type": "markdown",
   "id": "650e25d3",
   "metadata": {},
   "source": [
    "### Descriptives"
   ]
  },
  {
   "cell_type": "code",
   "execution_count": 99,
   "id": "1f9a0e1c",
   "metadata": {},
   "outputs": [
    {
     "data": {
      "text/html": [
       "<table class=\"dataframe\">\n",
       "<caption>A tibble: 8 × 7</caption>\n",
       "<thead>\n",
       "\t<tr><th scope=col>ethnicity</th><th scope=col>sex</th><th scope=col>age</th><th scope=col>variable</th><th scope=col>n</th><th scope=col>mean</th><th scope=col>sd</th></tr>\n",
       "\t<tr><th scope=col>&lt;chr&gt;</th><th scope=col>&lt;chr&gt;</th><th scope=col>&lt;chr&gt;</th><th scope=col>&lt;chr&gt;</th><th scope=col>&lt;dbl&gt;</th><th scope=col>&lt;dbl&gt;</th><th scope=col>&lt;dbl&gt;</th></tr>\n",
       "</thead>\n",
       "<tbody>\n",
       "\t<tr><td>bipoc</td><td>female</td><td>adult</td><td>sentimentScore</td><td>1248</td><td>-0.144</td><td>0.426</td></tr>\n",
       "\t<tr><td>bipoc</td><td>female</td><td>child</td><td>sentimentScore</td><td>1248</td><td>-0.081</td><td>0.429</td></tr>\n",
       "\t<tr><td>bipoc</td><td>male  </td><td>adult</td><td>sentimentScore</td><td>1248</td><td>-0.183</td><td>0.398</td></tr>\n",
       "\t<tr><td>bipoc</td><td>male  </td><td>child</td><td>sentimentScore</td><td>1248</td><td>-0.111</td><td>0.413</td></tr>\n",
       "\t<tr><td>white</td><td>female</td><td>adult</td><td>sentimentScore</td><td>1248</td><td>-0.160</td><td>0.417</td></tr>\n",
       "\t<tr><td>white</td><td>female</td><td>child</td><td>sentimentScore</td><td>1248</td><td>-0.087</td><td>0.412</td></tr>\n",
       "\t<tr><td>white</td><td>male  </td><td>adult</td><td>sentimentScore</td><td>1248</td><td>-0.147</td><td>0.395</td></tr>\n",
       "\t<tr><td>white</td><td>male  </td><td>child</td><td>sentimentScore</td><td>1248</td><td>-0.149</td><td>0.419</td></tr>\n",
       "</tbody>\n",
       "</table>\n"
      ],
      "text/latex": [
       "A tibble: 8 × 7\n",
       "\\begin{tabular}{lllllll}\n",
       " ethnicity & sex & age & variable & n & mean & sd\\\\\n",
       " <chr> & <chr> & <chr> & <chr> & <dbl> & <dbl> & <dbl>\\\\\n",
       "\\hline\n",
       "\t bipoc & female & adult & sentimentScore & 1248 & -0.144 & 0.426\\\\\n",
       "\t bipoc & female & child & sentimentScore & 1248 & -0.081 & 0.429\\\\\n",
       "\t bipoc & male   & adult & sentimentScore & 1248 & -0.183 & 0.398\\\\\n",
       "\t bipoc & male   & child & sentimentScore & 1248 & -0.111 & 0.413\\\\\n",
       "\t white & female & adult & sentimentScore & 1248 & -0.160 & 0.417\\\\\n",
       "\t white & female & child & sentimentScore & 1248 & -0.087 & 0.412\\\\\n",
       "\t white & male   & adult & sentimentScore & 1248 & -0.147 & 0.395\\\\\n",
       "\t white & male   & child & sentimentScore & 1248 & -0.149 & 0.419\\\\\n",
       "\\end{tabular}\n"
      ],
      "text/markdown": [
       "\n",
       "A tibble: 8 × 7\n",
       "\n",
       "| ethnicity &lt;chr&gt; | sex &lt;chr&gt; | age &lt;chr&gt; | variable &lt;chr&gt; | n &lt;dbl&gt; | mean &lt;dbl&gt; | sd &lt;dbl&gt; |\n",
       "|---|---|---|---|---|---|---|\n",
       "| bipoc | female | adult | sentimentScore | 1248 | -0.144 | 0.426 |\n",
       "| bipoc | female | child | sentimentScore | 1248 | -0.081 | 0.429 |\n",
       "| bipoc | male   | adult | sentimentScore | 1248 | -0.183 | 0.398 |\n",
       "| bipoc | male   | child | sentimentScore | 1248 | -0.111 | 0.413 |\n",
       "| white | female | adult | sentimentScore | 1248 | -0.160 | 0.417 |\n",
       "| white | female | child | sentimentScore | 1248 | -0.087 | 0.412 |\n",
       "| white | male   | adult | sentimentScore | 1248 | -0.147 | 0.395 |\n",
       "| white | male   | child | sentimentScore | 1248 | -0.149 | 0.419 |\n",
       "\n"
      ],
      "text/plain": [
       "  ethnicity sex    age   variable       n    mean   sd   \n",
       "1 bipoc     female adult sentimentScore 1248 -0.144 0.426\n",
       "2 bipoc     female child sentimentScore 1248 -0.081 0.429\n",
       "3 bipoc     male   adult sentimentScore 1248 -0.183 0.398\n",
       "4 bipoc     male   child sentimentScore 1248 -0.111 0.413\n",
       "5 white     female adult sentimentScore 1248 -0.160 0.417\n",
       "6 white     female child sentimentScore 1248 -0.087 0.412\n",
       "7 white     male   adult sentimentScore 1248 -0.147 0.395\n",
       "8 white     male   child sentimentScore 1248 -0.149 0.419"
      ]
     },
     "metadata": {},
     "output_type": "display_data"
    }
   ],
   "source": [
    "df %>%\n",
    "  group_by(ethnicity, sex, age) %>%\n",
    "  get_summary_stats(sentimentScore, type = \"mean_sd\")"
   ]
  },
  {
   "cell_type": "code",
   "execution_count": 100,
   "id": "b7768604",
   "metadata": {},
   "outputs": [
    {
     "data": {
      "image/png": "[encoded data removed]",
      "text/plain": [
       "plot without title"
      ]
     },
     "metadata": {
      "image/png": {
       "height": 420,
       "width": 420
      }
     },
     "output_type": "display_data"
    }
   ],
   "source": [
    "# bxp <- ggboxplot(\n",
    "#   df, x = \"ethnicity\", y = \"sentimentScore\",\n",
    "#   color = \"sex\", palette = \"jco\",\n",
    "#   facet.by = \"age\", short.panel.labs = FALSE,\n",
    "#   scales = \"free\"\n",
    "#   )\n",
    "# bxp\n",
    "\n",
    "bxp <- ggboxplot(\n",
    "  df, x = \"sex\", y = \"sentimentScore\",\n",
    "  color = \"ethnicity\", palette = \"jco\",\n",
    "  facet.by = \"age\", short.panel.labs = FALSE,\n",
    "  scales = \"free\"\n",
    "  )\n",
    "bxp"
   ]
  },
  {
   "cell_type": "markdown",
   "id": "5c0ed545",
   "metadata": {},
   "source": [
    "### Check assumptions"
   ]
  },
  {
   "cell_type": "markdown",
   "id": "1083971f",
   "metadata": {},
   "source": [
    "#### Outliers"
   ]
  },
  {
   "cell_type": "code",
   "execution_count": 101,
   "id": "64f7d7eb",
   "metadata": {},
   "outputs": [
    {
     "data": {
      "text/html": [
       "<table class=\"dataframe\">\n",
       "<caption>A data.frame: 0 × 14</caption>\n",
       "<thead>\n",
       "\t<tr><th scope=col>ethnicity</th><th scope=col>sex</th><th scope=col>age</th><th scope=col>participantId</th><th scope=col>photoId</th><th scope=col>emotion</th><th scope=col>label</th><th scope=col>url</th><th scope=col>sentimentScore</th><th scope=col>sexC</th><th scope=col>ageC</th><th scope=col>ethnicityC</th><th scope=col>is.outlier</th><th scope=col>is.extreme</th></tr>\n",
       "\t<tr><th scope=col>&lt;chr&gt;</th><th scope=col>&lt;chr&gt;</th><th scope=col>&lt;chr&gt;</th><th scope=col>&lt;dbl&gt;</th><th scope=col>&lt;chr&gt;</th><th scope=col>&lt;chr&gt;</th><th scope=col>&lt;chr&gt;</th><th scope=col>&lt;chr&gt;</th><th scope=col>&lt;dbl&gt;</th><th scope=col>&lt;dbl&gt;</th><th scope=col>&lt;dbl&gt;</th><th scope=col>&lt;dbl&gt;</th><th scope=col>&lt;lgl&gt;</th><th scope=col>&lt;lgl&gt;</th></tr>\n",
       "</thead>\n",
       "<tbody>\n",
       "</tbody>\n",
       "</table>\n"
      ],
      "text/latex": [
       "A data.frame: 0 × 14\n",
       "\\begin{tabular}{llllllllllllll}\n",
       " ethnicity & sex & age & participantId & photoId & emotion & label & url & sentimentScore & sexC & ageC & ethnicityC & is.outlier & is.extreme\\\\\n",
       " <chr> & <chr> & <chr> & <dbl> & <chr> & <chr> & <chr> & <chr> & <dbl> & <dbl> & <dbl> & <dbl> & <lgl> & <lgl>\\\\\n",
       "\\hline\n",
       "\\end{tabular}\n"
      ],
      "text/markdown": [
       "\n",
       "A data.frame: 0 × 14\n",
       "\n",
       "| ethnicity &lt;chr&gt; | sex &lt;chr&gt; | age &lt;chr&gt; | participantId &lt;dbl&gt; | photoId &lt;chr&gt; | emotion &lt;chr&gt; | label &lt;chr&gt; | url &lt;chr&gt; | sentimentScore &lt;dbl&gt; | sexC &lt;dbl&gt; | ageC &lt;dbl&gt; | ethnicityC &lt;dbl&gt; | is.outlier &lt;lgl&gt; | is.extreme &lt;lgl&gt; |\n",
       "|---|---|---|---|---|---|---|---|---|---|---|---|---|---|\n",
       "\n"
      ],
      "text/plain": [
       "     ethnicity sex age participantId photoId emotion label url sentimentScore\n",
       "     sexC ageC ethnicityC is.outlier is.extreme"
      ]
     },
     "metadata": {},
     "output_type": "display_data"
    }
   ],
   "source": [
    "df %>% group_by(ethnicity, sex, age) %>% identify_outliers(sentimentScore)\n",
    "\n",
    "# no outliers"
   ]
  },
  {
   "cell_type": "markdown",
   "id": "11c353ff",
   "metadata": {},
   "source": [
    "#### Normality assumption"
   ]
  },
  {
   "cell_type": "code",
   "execution_count": 102,
   "id": "75e47863",
   "metadata": {},
   "outputs": [
    {
     "data": {
      "text/html": [
       "<table class=\"dataframe\">\n",
       "<caption>A tibble: 8 × 6</caption>\n",
       "<thead>\n",
       "\t<tr><th scope=col>ethnicity</th><th scope=col>sex</th><th scope=col>age</th><th scope=col>variable</th><th scope=col>statistic</th><th scope=col>p</th></tr>\n",
       "\t<tr><th scope=col>&lt;chr&gt;</th><th scope=col>&lt;chr&gt;</th><th scope=col>&lt;chr&gt;</th><th scope=col>&lt;chr&gt;</th><th scope=col>&lt;dbl&gt;</th><th scope=col>&lt;dbl&gt;</th></tr>\n",
       "</thead>\n",
       "<tbody>\n",
       "\t<tr><td>bipoc</td><td>female</td><td>adult</td><td>sentimentScore</td><td>0.8378745</td><td>7.961309e-34</td></tr>\n",
       "\t<tr><td>bipoc</td><td>female</td><td>child</td><td>sentimentScore</td><td>0.8518830</td><td>1.205603e-32</td></tr>\n",
       "\t<tr><td>bipoc</td><td>male  </td><td>adult</td><td>sentimentScore</td><td>0.8392209</td><td>1.025226e-33</td></tr>\n",
       "\t<tr><td>bipoc</td><td>male  </td><td>child</td><td>sentimentScore</td><td>0.8623537</td><td>1.053325e-31</td></tr>\n",
       "\t<tr><td>white</td><td>female</td><td>adult</td><td>sentimentScore</td><td>0.8415321</td><td>1.588814e-33</td></tr>\n",
       "\t<tr><td>white</td><td>female</td><td>child</td><td>sentimentScore</td><td>0.8725797</td><td>9.956419e-31</td></tr>\n",
       "\t<tr><td>white</td><td>male  </td><td>adult</td><td>sentimentScore</td><td>0.8684521</td><td>3.955224e-31</td></tr>\n",
       "\t<tr><td>white</td><td>male  </td><td>child</td><td>sentimentScore</td><td>0.8395674</td><td>1.094478e-33</td></tr>\n",
       "</tbody>\n",
       "</table>\n"
      ],
      "text/latex": [
       "A tibble: 8 × 6\n",
       "\\begin{tabular}{llllll}\n",
       " ethnicity & sex & age & variable & statistic & p\\\\\n",
       " <chr> & <chr> & <chr> & <chr> & <dbl> & <dbl>\\\\\n",
       "\\hline\n",
       "\t bipoc & female & adult & sentimentScore & 0.8378745 & 7.961309e-34\\\\\n",
       "\t bipoc & female & child & sentimentScore & 0.8518830 & 1.205603e-32\\\\\n",
       "\t bipoc & male   & adult & sentimentScore & 0.8392209 & 1.025226e-33\\\\\n",
       "\t bipoc & male   & child & sentimentScore & 0.8623537 & 1.053325e-31\\\\\n",
       "\t white & female & adult & sentimentScore & 0.8415321 & 1.588814e-33\\\\\n",
       "\t white & female & child & sentimentScore & 0.8725797 & 9.956419e-31\\\\\n",
       "\t white & male   & adult & sentimentScore & 0.8684521 & 3.955224e-31\\\\\n",
       "\t white & male   & child & sentimentScore & 0.8395674 & 1.094478e-33\\\\\n",
       "\\end{tabular}\n"
      ],
      "text/markdown": [
       "\n",
       "A tibble: 8 × 6\n",
       "\n",
       "| ethnicity &lt;chr&gt; | sex &lt;chr&gt; | age &lt;chr&gt; | variable &lt;chr&gt; | statistic &lt;dbl&gt; | p &lt;dbl&gt; |\n",
       "|---|---|---|---|---|---|\n",
       "| bipoc | female | adult | sentimentScore | 0.8378745 | 7.961309e-34 |\n",
       "| bipoc | female | child | sentimentScore | 0.8518830 | 1.205603e-32 |\n",
       "| bipoc | male   | adult | sentimentScore | 0.8392209 | 1.025226e-33 |\n",
       "| bipoc | male   | child | sentimentScore | 0.8623537 | 1.053325e-31 |\n",
       "| white | female | adult | sentimentScore | 0.8415321 | 1.588814e-33 |\n",
       "| white | female | child | sentimentScore | 0.8725797 | 9.956419e-31 |\n",
       "| white | male   | adult | sentimentScore | 0.8684521 | 3.955224e-31 |\n",
       "| white | male   | child | sentimentScore | 0.8395674 | 1.094478e-33 |\n",
       "\n"
      ],
      "text/plain": [
       "  ethnicity sex    age   variable       statistic p           \n",
       "1 bipoc     female adult sentimentScore 0.8378745 7.961309e-34\n",
       "2 bipoc     female child sentimentScore 0.8518830 1.205603e-32\n",
       "3 bipoc     male   adult sentimentScore 0.8392209 1.025226e-33\n",
       "4 bipoc     male   child sentimentScore 0.8623537 1.053325e-31\n",
       "5 white     female adult sentimentScore 0.8415321 1.588814e-33\n",
       "6 white     female child sentimentScore 0.8725797 9.956419e-31\n",
       "7 white     male   adult sentimentScore 0.8684521 3.955224e-31\n",
       "8 white     male   child sentimentScore 0.8395674 1.094478e-33"
      ]
     },
     "metadata": {},
     "output_type": "display_data"
    }
   ],
   "source": [
    "# Compute Shapiro-Wilk test for each combinations of factor levels\n",
    "\n",
    "df %>%\n",
    "  group_by(ethnicity, sex, age) %>%\n",
    "  shapiro_test(sentimentScore)"
   ]
  },
  {
   "cell_type": "code",
   "execution_count": 103,
   "id": "ba45459a",
   "metadata": {},
   "outputs": [
    {
     "data": {
      "text/html": [
       "TRUE"
      ],
      "text/latex": [
       "TRUE"
      ],
      "text/markdown": [
       "TRUE"
      ],
      "text/plain": [
       "[1] TRUE"
      ]
     },
     "metadata": {},
     "output_type": "display_data"
    }
   ],
   "source": [
    "7.961309e-34 < 0.05\n",
    "\n",
    "# not normal"
   ]
  },
  {
   "cell_type": "markdown",
   "id": "f6cd2d01",
   "metadata": {},
   "source": [
    "#### QQ plot "
   ]
  },
  {
   "cell_type": "code",
   "execution_count": 104,
   "id": "d64c5a70",
   "metadata": {},
   "outputs": [
    {
     "data": {
      "image/png": "[encoded data removed]",
      "text/plain": [
       "plot without title"
      ]
     },
     "metadata": {
      "image/png": {
       "height": 420,
       "width": 420
      }
     },
     "output_type": "display_data"
    }
   ],
   "source": [
    "ggqqplot(df, \"sentimentScore\", ggtheme = theme_bw()) +\n",
    "  facet_grid(sex + ethnicity ~ age, labeller = \"label_both\")"
   ]
  },
  {
   "cell_type": "markdown",
   "id": "7afe0297",
   "metadata": {},
   "source": [
    "**Definetively not normal data**"
   ]
  },
  {
   "cell_type": "markdown",
   "id": "08acf5e3",
   "metadata": {},
   "source": [
    "## Anova 2x2x2 computation \n",
    "\n",
    "\n",
    "My design is 2x2x2 fully-crosses, meaning will yield a singular decomposition. \n",
    "This is probably why LMER doesn't converge regardless of the optimizer and other hyper-params\n",
    "\n",
    "Guide: https://www.datanovia.com/en/lessons/repeated-measures-anova-in-r/#summary-statistics-2"
   ]
  },
  {
   "cell_type": "code",
   "execution_count": 105,
   "id": "d1d87dff",
   "metadata": {},
   "outputs": [],
   "source": [
    "df_long = df %>% select(participantId, sex, age, ethnicity, sentimentScore)"
   ]
  },
  {
   "cell_type": "code",
   "execution_count": 106,
   "id": "fb4ce589",
   "metadata": {},
   "outputs": [],
   "source": [
    "df_long = df_long %>% convert_as_factor(participantId, sex, age, ethnicity)"
   ]
  },
  {
   "cell_type": "code",
   "execution_count": 107,
   "id": "470287d0",
   "metadata": {},
   "outputs": [
    {
     "data": {
      "text/html": [
       "<table class=\"dataframe\">\n",
       "<caption>A tibble: 6 × 5</caption>\n",
       "<thead>\n",
       "\t<tr><th scope=col>participantId</th><th scope=col>sex</th><th scope=col>age</th><th scope=col>ethnicity</th><th scope=col>sentimentScore</th></tr>\n",
       "\t<tr><th scope=col>&lt;fct&gt;</th><th scope=col>&lt;fct&gt;</th><th scope=col>&lt;fct&gt;</th><th scope=col>&lt;fct&gt;</th><th scope=col>&lt;dbl&gt;</th></tr>\n",
       "</thead>\n",
       "<tbody>\n",
       "\t<tr><td>0</td><td>female</td><td>adult</td><td>bipoc</td><td>-0.5719</td></tr>\n",
       "\t<tr><td>0</td><td>male  </td><td>child</td><td>bipoc</td><td> 0.0000</td></tr>\n",
       "\t<tr><td>0</td><td>female</td><td>adult</td><td>white</td><td> 0.2732</td></tr>\n",
       "\t<tr><td>0</td><td>female</td><td>child</td><td>white</td><td>-0.4939</td></tr>\n",
       "\t<tr><td>0</td><td>male  </td><td>adult</td><td>white</td><td> 0.0000</td></tr>\n",
       "\t<tr><td>0</td><td>male  </td><td>child</td><td>white</td><td> 0.2732</td></tr>\n",
       "</tbody>\n",
       "</table>\n"
      ],
      "text/latex": [
       "A tibble: 6 × 5\n",
       "\\begin{tabular}{lllll}\n",
       " participantId & sex & age & ethnicity & sentimentScore\\\\\n",
       " <fct> & <fct> & <fct> & <fct> & <dbl>\\\\\n",
       "\\hline\n",
       "\t 0 & female & adult & bipoc & -0.5719\\\\\n",
       "\t 0 & male   & child & bipoc &  0.0000\\\\\n",
       "\t 0 & female & adult & white &  0.2732\\\\\n",
       "\t 0 & female & child & white & -0.4939\\\\\n",
       "\t 0 & male   & adult & white &  0.0000\\\\\n",
       "\t 0 & male   & child & white &  0.2732\\\\\n",
       "\\end{tabular}\n"
      ],
      "text/markdown": [
       "\n",
       "A tibble: 6 × 5\n",
       "\n",
       "| participantId &lt;fct&gt; | sex &lt;fct&gt; | age &lt;fct&gt; | ethnicity &lt;fct&gt; | sentimentScore &lt;dbl&gt; |\n",
       "|---|---|---|---|---|\n",
       "| 0 | female | adult | bipoc | -0.5719 |\n",
       "| 0 | male   | child | bipoc |  0.0000 |\n",
       "| 0 | female | adult | white |  0.2732 |\n",
       "| 0 | female | child | white | -0.4939 |\n",
       "| 0 | male   | adult | white |  0.0000 |\n",
       "| 0 | male   | child | white |  0.2732 |\n",
       "\n"
      ],
      "text/plain": [
       "  participantId sex    age   ethnicity sentimentScore\n",
       "1 0             female adult bipoc     -0.5719       \n",
       "2 0             male   child bipoc      0.0000       \n",
       "3 0             female adult white      0.2732       \n",
       "4 0             female child white     -0.4939       \n",
       "5 0             male   adult white      0.0000       \n",
       "6 0             male   child white      0.2732       "
      ]
     },
     "metadata": {},
     "output_type": "display_data"
    }
   ],
   "source": [
    "head(df_long)"
   ]
  },
  {
   "cell_type": "code",
   "execution_count": 108,
   "id": "be4a233b",
   "metadata": {},
   "outputs": [],
   "source": [
    "# res.aov <- anova_test(\n",
    "#   data = df_long, dv = sentimentScore, wid = participantId,\n",
    "#   within = c(sex, age, ethnicity)\n",
    "#   )\n",
    "# get_anova_table(res.aov)"
   ]
  },
  {
   "cell_type": "code",
   "execution_count": 109,
   "id": "72b45b01",
   "metadata": {},
   "outputs": [
    {
     "name": "stderr",
     "output_type": "stream",
     "text": [
      "Warning message:\n",
      "“Converting \"participantId\" to factor for ANOVA.”\n",
      "Warning message:\n",
      "“Converting \"sex\" to factor for ANOVA.”\n",
      "Warning message:\n",
      "“Converting \"age\" to factor for ANOVA.”\n",
      "Warning message:\n",
      "“Converting \"ethnicity\" to factor for ANOVA.”\n",
      "Warning message:\n",
      "“Collapsing data to cell means. *IF* the requested effects are a subset of the full design, you must use the \"within_full\" argument, else results may be inaccurate.”\n"
     ]
    },
    {
     "data": {
      "text/html": [
       "<strong>$ANOVA</strong> = <table class=\"dataframe\">\n",
       "<caption>A data.frame: 7 × 7</caption>\n",
       "<thead>\n",
       "\t<tr><th></th><th scope=col>Effect</th><th scope=col>DFn</th><th scope=col>DFd</th><th scope=col>F</th><th scope=col>p</th><th scope=col>p&lt;.05</th><th scope=col>ges</th></tr>\n",
       "\t<tr><th></th><th scope=col>&lt;chr&gt;</th><th scope=col>&lt;dbl&gt;</th><th scope=col>&lt;dbl&gt;</th><th scope=col>&lt;dbl&gt;</th><th scope=col>&lt;dbl&gt;</th><th scope=col>&lt;chr&gt;</th><th scope=col>&lt;dbl&gt;</th></tr>\n",
       "</thead>\n",
       "<tbody>\n",
       "\t<tr><th scope=row>2</th><td>sex              </td><td>1</td><td>51</td><td>34.696800</td><td>3.044205e-07</td><td>*</td><td>0.044310064</td></tr>\n",
       "\t<tr><th scope=row>3</th><td>age              </td><td>1</td><td>51</td><td>48.747287</td><td>5.812493e-09</td><td>*</td><td>0.122871401</td></tr>\n",
       "\t<tr><th scope=row>4</th><td>ethnicity        </td><td>1</td><td>51</td><td> 1.372816</td><td>2.467734e-01</td><td> </td><td>0.001994048</td></tr>\n",
       "\t<tr><th scope=row>5</th><td>sex:age          </td><td>1</td><td>51</td><td>11.675911</td><td>1.251359e-03</td><td>*</td><td>0.014267972</td></tr>\n",
       "\t<tr><th scope=row>6</th><td>sex:ethnicity    </td><td>1</td><td>51</td><td> 1.190732</td><td>2.803106e-01</td><td> </td><td>0.001345696</td></tr>\n",
       "\t<tr><th scope=row>7</th><td>age:ethnicity    </td><td>1</td><td>51</td><td> 6.294945</td><td>1.532789e-02</td><td>*</td><td>0.013605096</td></tr>\n",
       "\t<tr><th scope=row>8</th><td>sex:age:ethnicity</td><td>1</td><td>51</td><td>19.320724</td><td>5.616520e-05</td><td>*</td><td>0.021860759</td></tr>\n",
       "</tbody>\n",
       "</table>\n"
      ],
      "text/latex": [
       "\\textbf{\\$ANOVA} = A data.frame: 7 × 7\n",
       "\\begin{tabular}{r|lllllll}\n",
       "  & Effect & DFn & DFd & F & p & p<.05 & ges\\\\\n",
       "  & <chr> & <dbl> & <dbl> & <dbl> & <dbl> & <chr> & <dbl>\\\\\n",
       "\\hline\n",
       "\t2 & sex               & 1 & 51 & 34.696800 & 3.044205e-07 & * & 0.044310064\\\\\n",
       "\t3 & age               & 1 & 51 & 48.747287 & 5.812493e-09 & * & 0.122871401\\\\\n",
       "\t4 & ethnicity         & 1 & 51 &  1.372816 & 2.467734e-01 &   & 0.001994048\\\\\n",
       "\t5 & sex:age           & 1 & 51 & 11.675911 & 1.251359e-03 & * & 0.014267972\\\\\n",
       "\t6 & sex:ethnicity     & 1 & 51 &  1.190732 & 2.803106e-01 &   & 0.001345696\\\\\n",
       "\t7 & age:ethnicity     & 1 & 51 &  6.294945 & 1.532789e-02 & * & 0.013605096\\\\\n",
       "\t8 & sex:age:ethnicity & 1 & 51 & 19.320724 & 5.616520e-05 & * & 0.021860759\\\\\n",
       "\\end{tabular}\n"
      ],
      "text/markdown": [
       "**$ANOVA** = \n",
       "A data.frame: 7 × 7\n",
       "\n",
       "| <!--/--> | Effect &lt;chr&gt; | DFn &lt;dbl&gt; | DFd &lt;dbl&gt; | F &lt;dbl&gt; | p &lt;dbl&gt; | p&lt;.05 &lt;chr&gt; | ges &lt;dbl&gt; |\n",
       "|---|---|---|---|---|---|---|---|\n",
       "| 2 | sex               | 1 | 51 | 34.696800 | 3.044205e-07 | * | 0.044310064 |\n",
       "| 3 | age               | 1 | 51 | 48.747287 | 5.812493e-09 | * | 0.122871401 |\n",
       "| 4 | ethnicity         | 1 | 51 |  1.372816 | 2.467734e-01 | <!----> | 0.001994048 |\n",
       "| 5 | sex:age           | 1 | 51 | 11.675911 | 1.251359e-03 | * | 0.014267972 |\n",
       "| 6 | sex:ethnicity     | 1 | 51 |  1.190732 | 2.803106e-01 | <!----> | 0.001345696 |\n",
       "| 7 | age:ethnicity     | 1 | 51 |  6.294945 | 1.532789e-02 | * | 0.013605096 |\n",
       "| 8 | sex:age:ethnicity | 1 | 51 | 19.320724 | 5.616520e-05 | * | 0.021860759 |\n",
       "\n"
      ],
      "text/plain": [
       "$ANOVA\n",
       "             Effect DFn DFd         F            p p<.05         ges\n",
       "2               sex   1  51 34.696800 3.044205e-07     * 0.044310064\n",
       "3               age   1  51 48.747287 5.812493e-09     * 0.122871401\n",
       "4         ethnicity   1  51  1.372816 2.467734e-01       0.001994048\n",
       "5           sex:age   1  51 11.675911 1.251359e-03     * 0.014267972\n",
       "6     sex:ethnicity   1  51  1.190732 2.803106e-01       0.001345696\n",
       "7     age:ethnicity   1  51  6.294945 1.532789e-02     * 0.013605096\n",
       "8 sex:age:ethnicity   1  51 19.320724 5.616520e-05     * 0.021860759\n"
      ]
     },
     "metadata": {},
     "output_type": "display_data"
    }
   ],
   "source": [
    "res.aov  = ezANOVA(data=df, wid=.(participantId), dv=.(sentimentScore), within=.(sex, age, ethnicity))\n",
    "res.aov  "
   ]
  },
  {
   "cell_type": "code",
   "execution_count": 110,
   "id": "eeeb6dc0",
   "metadata": {},
   "outputs": [
    {
     "data": {
      "text/html": [
       "'0.0000561652'"
      ],
      "text/latex": [
       "'0.0000561652'"
      ],
      "text/markdown": [
       "'0.0000561652'"
      ],
      "text/plain": [
       "[1] \"0.0000561652\""
      ]
     },
     "metadata": {},
     "output_type": "display_data"
    }
   ],
   "source": [
    "format(5.616520e-05, scientific=FALSE)"
   ]
  },
  {
   "cell_type": "markdown",
   "id": "42eff25e",
   "metadata": {},
   "source": [
    "There is a statistically significant three-way interactions between age, sex, and ethnicity, Anova, $F$(1, 51) = 19.32, $p$ < 0.001, $\\eta^2_{g}=0.02$"
   ]
  },
  {
   "cell_type": "markdown",
   "id": "a4a53564",
   "metadata": {},
   "source": [
    "### Post-hoc tests\n",
    "\n",
    "https://www.datanovia.com/en/lessons/repeated-measures-anova-in-r/#post-hoc-tests-2\n",
    "\n",
    "A significant three-way interaction effect can be decomposed into:\n",
    "\n",
    "- Simple two-way interaction: run two-way interaction at each level of third variable,\n",
    "- Simple main effect: run one-way model at each level of second variable, and\n",
    "- Simple pairwise comparisons: run pairwise or other post-hoc comparisons if necessary."
   ]
  },
  {
   "cell_type": "markdown",
   "id": "51b9ad67",
   "metadata": {},
   "source": [
    "#### Simple two-way interaction"
   ]
  },
  {
   "cell_type": "code",
   "execution_count": 111,
   "id": "70d88c70",
   "metadata": {},
   "outputs": [],
   "source": [
    "df_adult = df %>% filter(age=='adult')\n",
    "df_child = df %>% filter(age=='child')"
   ]
  },
  {
   "cell_type": "code",
   "execution_count": 112,
   "id": "d4e34517",
   "metadata": {},
   "outputs": [
    {
     "name": "stderr",
     "output_type": "stream",
     "text": [
      "Warning message:\n",
      "“Converting \"participantId\" to factor for ANOVA.”\n",
      "Warning message:\n",
      "“Converting \"sex\" to factor for ANOVA.”\n",
      "Warning message:\n",
      "“Converting \"ethnicity\" to factor for ANOVA.”\n",
      "Warning message:\n",
      "“Collapsing data to cell means. *IF* the requested effects are a subset of the full design, you must use the \"within_full\" argument, else results may be inaccurate.”\n",
      "Warning message:\n",
      "“Converting \"participantId\" to factor for ANOVA.”\n",
      "Warning message:\n",
      "“Converting \"sex\" to factor for ANOVA.”\n",
      "Warning message:\n",
      "“Converting \"ethnicity\" to factor for ANOVA.”\n",
      "Warning message:\n",
      "“Collapsing data to cell means. *IF* the requested effects are a subset of the full design, you must use the \"within_full\" argument, else results may be inaccurate.”\n"
     ]
    }
   ],
   "source": [
    "adult.twoway  = ezANOVA(data=df_adult, wid=.(participantId), dv= .(sentimentScore), within=.(sex, ethnicity))\n",
    "child.twoway  = ezANOVA(data=df_child, wid=.(participantId), dv= .(sentimentScore), within=.(sex, ethnicity))"
   ]
  },
  {
   "cell_type": "code",
   "execution_count": 113,
   "id": "27193d22",
   "metadata": {},
   "outputs": [
    {
     "data": {
      "text/html": [
       "<strong>$ANOVA</strong> = <table class=\"dataframe\">\n",
       "<caption>A data.frame: 3 × 7</caption>\n",
       "<thead>\n",
       "\t<tr><th></th><th scope=col>Effect</th><th scope=col>DFn</th><th scope=col>DFd</th><th scope=col>F</th><th scope=col>p</th><th scope=col>p&lt;.05</th><th scope=col>ges</th></tr>\n",
       "\t<tr><th></th><th scope=col>&lt;chr&gt;</th><th scope=col>&lt;dbl&gt;</th><th scope=col>&lt;dbl&gt;</th><th scope=col>&lt;dbl&gt;</th><th scope=col>&lt;dbl&gt;</th><th scope=col>&lt;chr&gt;</th><th scope=col>&lt;dbl&gt;</th></tr>\n",
       "</thead>\n",
       "<tbody>\n",
       "\t<tr><th scope=row>2</th><td>sex          </td><td>1</td><td>51</td><td> 3.620761</td><td>0.0627153608</td><td> </td><td>0.009289937</td></tr>\n",
       "\t<tr><th scope=row>3</th><td>ethnicity    </td><td>1</td><td>51</td><td> 1.717396</td><td>0.1958998139</td><td> </td><td>0.005466305</td></tr>\n",
       "\t<tr><th scope=row>4</th><td>sex:ethnicity</td><td>1</td><td>51</td><td>16.678599</td><td>0.0001564685</td><td>*</td><td>0.034762297</td></tr>\n",
       "</tbody>\n",
       "</table>\n"
      ],
      "text/latex": [
       "\\textbf{\\$ANOVA} = A data.frame: 3 × 7\n",
       "\\begin{tabular}{r|lllllll}\n",
       "  & Effect & DFn & DFd & F & p & p<.05 & ges\\\\\n",
       "  & <chr> & <dbl> & <dbl> & <dbl> & <dbl> & <chr> & <dbl>\\\\\n",
       "\\hline\n",
       "\t2 & sex           & 1 & 51 &  3.620761 & 0.0627153608 &   & 0.009289937\\\\\n",
       "\t3 & ethnicity     & 1 & 51 &  1.717396 & 0.1958998139 &   & 0.005466305\\\\\n",
       "\t4 & sex:ethnicity & 1 & 51 & 16.678599 & 0.0001564685 & * & 0.034762297\\\\\n",
       "\\end{tabular}\n"
      ],
      "text/markdown": [
       "**$ANOVA** = \n",
       "A data.frame: 3 × 7\n",
       "\n",
       "| <!--/--> | Effect &lt;chr&gt; | DFn &lt;dbl&gt; | DFd &lt;dbl&gt; | F &lt;dbl&gt; | p &lt;dbl&gt; | p&lt;.05 &lt;chr&gt; | ges &lt;dbl&gt; |\n",
       "|---|---|---|---|---|---|---|---|\n",
       "| 2 | sex           | 1 | 51 |  3.620761 | 0.0627153608 | <!----> | 0.009289937 |\n",
       "| 3 | ethnicity     | 1 | 51 |  1.717396 | 0.1958998139 | <!----> | 0.005466305 |\n",
       "| 4 | sex:ethnicity | 1 | 51 | 16.678599 | 0.0001564685 | * | 0.034762297 |\n",
       "\n"
      ],
      "text/plain": [
       "$ANOVA\n",
       "         Effect DFn DFd         F            p p<.05         ges\n",
       "2           sex   1  51  3.620761 0.0627153608       0.009289937\n",
       "3     ethnicity   1  51  1.717396 0.1958998139       0.005466305\n",
       "4 sex:ethnicity   1  51 16.678599 0.0001564685     * 0.034762297\n"
      ]
     },
     "metadata": {},
     "output_type": "display_data"
    }
   ],
   "source": [
    "adult.twoway"
   ]
  },
  {
   "cell_type": "code",
   "execution_count": 114,
   "id": "1af50ff3",
   "metadata": {},
   "outputs": [
    {
     "data": {
      "text/html": [
       "<strong>$ANOVA</strong> = <table class=\"dataframe\">\n",
       "<caption>A data.frame: 3 × 7</caption>\n",
       "<thead>\n",
       "\t<tr><th></th><th scope=col>Effect</th><th scope=col>DFn</th><th scope=col>DFd</th><th scope=col>F</th><th scope=col>p</th><th scope=col>p&lt;.05</th><th scope=col>ges</th></tr>\n",
       "\t<tr><th></th><th scope=col>&lt;chr&gt;</th><th scope=col>&lt;dbl&gt;</th><th scope=col>&lt;dbl&gt;</th><th scope=col>&lt;dbl&gt;</th><th scope=col>&lt;dbl&gt;</th><th scope=col>&lt;chr&gt;</th><th scope=col>&lt;dbl&gt;</th></tr>\n",
       "</thead>\n",
       "<tbody>\n",
       "\t<tr><th scope=row>2</th><td>sex          </td><td>1</td><td>51</td><td>42.371759</td><td>3.241627e-08</td><td>*</td><td>0.09796461</td></tr>\n",
       "\t<tr><th scope=row>3</th><td>ethnicity    </td><td>1</td><td>51</td><td> 6.241895</td><td>1.574087e-02</td><td>*</td><td>0.02471915</td></tr>\n",
       "\t<tr><th scope=row>4</th><td>sex:ethnicity</td><td>1</td><td>51</td><td> 5.092612</td><td>2.834227e-02</td><td>*</td><td>0.01211572</td></tr>\n",
       "</tbody>\n",
       "</table>\n"
      ],
      "text/latex": [
       "\\textbf{\\$ANOVA} = A data.frame: 3 × 7\n",
       "\\begin{tabular}{r|lllllll}\n",
       "  & Effect & DFn & DFd & F & p & p<.05 & ges\\\\\n",
       "  & <chr> & <dbl> & <dbl> & <dbl> & <dbl> & <chr> & <dbl>\\\\\n",
       "\\hline\n",
       "\t2 & sex           & 1 & 51 & 42.371759 & 3.241627e-08 & * & 0.09796461\\\\\n",
       "\t3 & ethnicity     & 1 & 51 &  6.241895 & 1.574087e-02 & * & 0.02471915\\\\\n",
       "\t4 & sex:ethnicity & 1 & 51 &  5.092612 & 2.834227e-02 & * & 0.01211572\\\\\n",
       "\\end{tabular}\n"
      ],
      "text/markdown": [
       "**$ANOVA** = \n",
       "A data.frame: 3 × 7\n",
       "\n",
       "| <!--/--> | Effect &lt;chr&gt; | DFn &lt;dbl&gt; | DFd &lt;dbl&gt; | F &lt;dbl&gt; | p &lt;dbl&gt; | p&lt;.05 &lt;chr&gt; | ges &lt;dbl&gt; |\n",
       "|---|---|---|---|---|---|---|---|\n",
       "| 2 | sex           | 1 | 51 | 42.371759 | 3.241627e-08 | * | 0.09796461 |\n",
       "| 3 | ethnicity     | 1 | 51 |  6.241895 | 1.574087e-02 | * | 0.02471915 |\n",
       "| 4 | sex:ethnicity | 1 | 51 |  5.092612 | 2.834227e-02 | * | 0.01211572 |\n",
       "\n"
      ],
      "text/plain": [
       "$ANOVA\n",
       "         Effect DFn DFd         F            p p<.05        ges\n",
       "2           sex   1  51 42.371759 3.241627e-08     * 0.09796461\n",
       "3     ethnicity   1  51  6.241895 1.574087e-02     * 0.02471915\n",
       "4 sex:ethnicity   1  51  5.092612 2.834227e-02     * 0.01211572\n"
      ]
     },
     "metadata": {},
     "output_type": "display_data"
    }
   ],
   "source": [
    "child.twoway"
   ]
  },
  {
   "cell_type": "markdown",
   "id": "db6447f9",
   "metadata": {},
   "source": [
    "There is statistically significant simple two-way interaction between **sex** and **ethnicity** for \"adults\", F(1, 51) = 16.67, p < 0.0001, and for \"childrens\" , F(1, 51) = 5.09, p < 0.0001."
   ]
  },
  {
   "cell_type": "markdown",
   "id": "3634929e",
   "metadata": {},
   "source": [
    "#### Simple simple main effects"
   ]
  },
  {
   "cell_type": "code",
   "execution_count": 115,
   "id": "bb994e3d",
   "metadata": {},
   "outputs": [],
   "source": [
    "df_adult_male = df_adult %>% filter(sex=='male')\n",
    "df_child_female = df_child %>% filter(sex=='female')"
   ]
  },
  {
   "cell_type": "code",
   "execution_count": 116,
   "id": "5cee11bb",
   "metadata": {},
   "outputs": [
    {
     "name": "stderr",
     "output_type": "stream",
     "text": [
      "Warning message:\n",
      "“Converting \"participantId\" to factor for ANOVA.”\n",
      "Warning message:\n",
      "“Converting \"ethnicity\" to factor for ANOVA.”\n",
      "Warning message:\n",
      "“Collapsing data to cell means. *IF* the requested effects are a subset of the full design, you must use the \"within_full\" argument, else results may be inaccurate.”\n",
      "Warning message:\n",
      "“Converting \"participantId\" to factor for ANOVA.”\n",
      "Warning message:\n",
      "“Converting \"ethnicity\" to factor for ANOVA.”\n",
      "Warning message:\n",
      "“Collapsing data to cell means. *IF* the requested effects are a subset of the full design, you must use the \"within_full\" argument, else results may be inaccurate.”\n"
     ]
    }
   ],
   "source": [
    "adult_male.main  = ezANOVA(data=df_adult_male, wid=.(participantId), dv= .(sentimentScore), within=.(ethnicity))\n",
    "adult_female.main  = ezANOVA(data=df_child_female, wid=.(participantId), dv= .(sentimentScore), within=.(ethnicity))"
   ]
  },
  {
   "cell_type": "code",
   "execution_count": 117,
   "id": "24975e52",
   "metadata": {},
   "outputs": [
    {
     "data": {
      "text/html": [
       "<strong>$ANOVA</strong> = <table class=\"dataframe\">\n",
       "<caption>A data.frame: 1 × 7</caption>\n",
       "<thead>\n",
       "\t<tr><th></th><th scope=col>Effect</th><th scope=col>DFn</th><th scope=col>DFd</th><th scope=col>F</th><th scope=col>p</th><th scope=col>p&lt;.05</th><th scope=col>ges</th></tr>\n",
       "\t<tr><th></th><th scope=col>&lt;chr&gt;</th><th scope=col>&lt;dbl&gt;</th><th scope=col>&lt;dbl&gt;</th><th scope=col>&lt;dbl&gt;</th><th scope=col>&lt;dbl&gt;</th><th scope=col>&lt;chr&gt;</th><th scope=col>&lt;dbl&gt;</th></tr>\n",
       "</thead>\n",
       "<tbody>\n",
       "\t<tr><th scope=row>2</th><td>ethnicity</td><td>1</td><td>51</td><td>11.30428</td><td>0.001472679</td><td>*</td><td>0.05688387</td></tr>\n",
       "</tbody>\n",
       "</table>\n"
      ],
      "text/latex": [
       "\\textbf{\\$ANOVA} = A data.frame: 1 × 7\n",
       "\\begin{tabular}{r|lllllll}\n",
       "  & Effect & DFn & DFd & F & p & p<.05 & ges\\\\\n",
       "  & <chr> & <dbl> & <dbl> & <dbl> & <dbl> & <chr> & <dbl>\\\\\n",
       "\\hline\n",
       "\t2 & ethnicity & 1 & 51 & 11.30428 & 0.001472679 & * & 0.05688387\\\\\n",
       "\\end{tabular}\n"
      ],
      "text/markdown": [
       "**$ANOVA** = \n",
       "A data.frame: 1 × 7\n",
       "\n",
       "| <!--/--> | Effect &lt;chr&gt; | DFn &lt;dbl&gt; | DFd &lt;dbl&gt; | F &lt;dbl&gt; | p &lt;dbl&gt; | p&lt;.05 &lt;chr&gt; | ges &lt;dbl&gt; |\n",
       "|---|---|---|---|---|---|---|---|\n",
       "| 2 | ethnicity | 1 | 51 | 11.30428 | 0.001472679 | * | 0.05688387 |\n",
       "\n"
      ],
      "text/plain": [
       "$ANOVA\n",
       "     Effect DFn DFd        F           p p<.05        ges\n",
       "2 ethnicity   1  51 11.30428 0.001472679     * 0.05688387\n"
      ]
     },
     "metadata": {},
     "output_type": "display_data"
    }
   ],
   "source": [
    "adult_male.main"
   ]
  },
  {
   "cell_type": "code",
   "execution_count": 118,
   "id": "de990799",
   "metadata": {},
   "outputs": [
    {
     "data": {
      "text/html": [
       "<strong>$ANOVA</strong> = <table class=\"dataframe\">\n",
       "<caption>A data.frame: 1 × 7</caption>\n",
       "<thead>\n",
       "\t<tr><th></th><th scope=col>Effect</th><th scope=col>DFn</th><th scope=col>DFd</th><th scope=col>F</th><th scope=col>p</th><th scope=col>p&lt;.05</th><th scope=col>ges</th></tr>\n",
       "\t<tr><th></th><th scope=col>&lt;chr&gt;</th><th scope=col>&lt;dbl&gt;</th><th scope=col>&lt;dbl&gt;</th><th scope=col>&lt;dbl&gt;</th><th scope=col>&lt;dbl&gt;</th><th scope=col>&lt;chr&gt;</th><th scope=col>&lt;dbl&gt;</th></tr>\n",
       "</thead>\n",
       "<tbody>\n",
       "\t<tr><th scope=row>2</th><td>ethnicity</td><td>1</td><td>51</td><td>0.3392085</td><td>0.5628526</td><td></td><td>0.002063681</td></tr>\n",
       "</tbody>\n",
       "</table>\n"
      ],
      "text/latex": [
       "\\textbf{\\$ANOVA} = A data.frame: 1 × 7\n",
       "\\begin{tabular}{r|lllllll}\n",
       "  & Effect & DFn & DFd & F & p & p<.05 & ges\\\\\n",
       "  & <chr> & <dbl> & <dbl> & <dbl> & <dbl> & <chr> & <dbl>\\\\\n",
       "\\hline\n",
       "\t2 & ethnicity & 1 & 51 & 0.3392085 & 0.5628526 &  & 0.002063681\\\\\n",
       "\\end{tabular}\n"
      ],
      "text/markdown": [
       "**$ANOVA** = \n",
       "A data.frame: 1 × 7\n",
       "\n",
       "| <!--/--> | Effect &lt;chr&gt; | DFn &lt;dbl&gt; | DFd &lt;dbl&gt; | F &lt;dbl&gt; | p &lt;dbl&gt; | p&lt;.05 &lt;chr&gt; | ges &lt;dbl&gt; |\n",
       "|---|---|---|---|---|---|---|---|\n",
       "| 2 | ethnicity | 1 | 51 | 0.3392085 | 0.5628526 | <!----> | 0.002063681 |\n",
       "\n"
      ],
      "text/plain": [
       "$ANOVA\n",
       "     Effect DFn DFd         F         p p<.05         ges\n",
       "2 ethnicity   1  51 0.3392085 0.5628526       0.002063681\n"
      ]
     },
     "metadata": {},
     "output_type": "display_data"
    }
   ],
   "source": [
    "adult_female.main"
   ]
  },
  {
   "cell_type": "markdown",
   "id": "2360c406",
   "metadata": {},
   "source": [
    "There is a statistically significant simple main effect of **ethnicity** on **sentiment-score** for the \"**adult-males**\" group F(1, 51) = 11.3, p = 0.001, but not for the \"adult-female\" group."
   ]
  },
  {
   "cell_type": "markdown",
   "id": "c47e506e",
   "metadata": {},
   "source": [
    "#### Simple Pairwise comparisons"
   ]
  },
  {
   "cell_type": "code",
   "execution_count": 119,
   "id": "a8d162f9",
   "metadata": {},
   "outputs": [
    {
     "data": {
      "text/html": [
       "<table class=\"dataframe\">\n",
       "<caption>A rstatix_test: 4 × 10</caption>\n",
       "<thead>\n",
       "\t<tr><th scope=col>sex</th><th scope=col>age</th><th scope=col>.y.</th><th scope=col>group1</th><th scope=col>group2</th><th scope=col>n1</th><th scope=col>n2</th><th scope=col>p</th><th scope=col>p.adj</th><th scope=col>p.adj.signif</th></tr>\n",
       "\t<tr><th scope=col>&lt;chr&gt;</th><th scope=col>&lt;chr&gt;</th><th scope=col>&lt;chr&gt;</th><th scope=col>&lt;chr&gt;</th><th scope=col>&lt;chr&gt;</th><th scope=col>&lt;int&gt;</th><th scope=col>&lt;int&gt;</th><th scope=col>&lt;dbl&gt;</th><th scope=col>&lt;dbl&gt;</th><th scope=col>&lt;chr&gt;</th></tr>\n",
       "</thead>\n",
       "<tbody>\n",
       "\t<tr><td>female</td><td>adult</td><td>sentimentScore</td><td>bipoc</td><td>white</td><td>1248</td><td>1248</td><td>0.335</td><td>0.335</td><td>ns</td></tr>\n",
       "\t<tr><td>male  </td><td>adult</td><td>sentimentScore</td><td>bipoc</td><td>white</td><td>1248</td><td>1248</td><td>0.025</td><td>0.025</td><td>* </td></tr>\n",
       "\t<tr><td>female</td><td>child</td><td>sentimentScore</td><td>bipoc</td><td>white</td><td>1248</td><td>1248</td><td>0.681</td><td>0.681</td><td>ns</td></tr>\n",
       "\t<tr><td>male  </td><td>child</td><td>sentimentScore</td><td>bipoc</td><td>white</td><td>1248</td><td>1248</td><td>0.026</td><td>0.026</td><td>* </td></tr>\n",
       "</tbody>\n",
       "</table>\n"
      ],
      "text/latex": [
       "A rstatix\\_test: 4 × 10\n",
       "\\begin{tabular}{llllllllll}\n",
       " sex & age & .y. & group1 & group2 & n1 & n2 & p & p.adj & p.adj.signif\\\\\n",
       " <chr> & <chr> & <chr> & <chr> & <chr> & <int> & <int> & <dbl> & <dbl> & <chr>\\\\\n",
       "\\hline\n",
       "\t female & adult & sentimentScore & bipoc & white & 1248 & 1248 & 0.335 & 0.335 & ns\\\\\n",
       "\t male   & adult & sentimentScore & bipoc & white & 1248 & 1248 & 0.025 & 0.025 & * \\\\\n",
       "\t female & child & sentimentScore & bipoc & white & 1248 & 1248 & 0.681 & 0.681 & ns\\\\\n",
       "\t male   & child & sentimentScore & bipoc & white & 1248 & 1248 & 0.026 & 0.026 & * \\\\\n",
       "\\end{tabular}\n"
      ],
      "text/markdown": [
       "\n",
       "A rstatix_test: 4 × 10\n",
       "\n",
       "| sex &lt;chr&gt; | age &lt;chr&gt; | .y. &lt;chr&gt; | group1 &lt;chr&gt; | group2 &lt;chr&gt; | n1 &lt;int&gt; | n2 &lt;int&gt; | p &lt;dbl&gt; | p.adj &lt;dbl&gt; | p.adj.signif &lt;chr&gt; |\n",
       "|---|---|---|---|---|---|---|---|---|---|\n",
       "| female | adult | sentimentScore | bipoc | white | 1248 | 1248 | 0.335 | 0.335 | ns |\n",
       "| male   | adult | sentimentScore | bipoc | white | 1248 | 1248 | 0.025 | 0.025 | *  |\n",
       "| female | child | sentimentScore | bipoc | white | 1248 | 1248 | 0.681 | 0.681 | ns |\n",
       "| male   | child | sentimentScore | bipoc | white | 1248 | 1248 | 0.026 | 0.026 | *  |\n",
       "\n"
      ],
      "text/plain": [
       "  sex    age   .y.            group1 group2 n1   n2   p     p.adj p.adj.signif\n",
       "1 female adult sentimentScore bipoc  white  1248 1248 0.335 0.335 ns          \n",
       "2 male   adult sentimentScore bipoc  white  1248 1248 0.025 0.025 *           \n",
       "3 female child sentimentScore bipoc  white  1248 1248 0.681 0.681 ns          \n",
       "4 male   child sentimentScore bipoc  white  1248 1248 0.026 0.026 *           "
      ]
     },
     "metadata": {},
     "output_type": "display_data"
    }
   ],
   "source": [
    "pwc <- df %>%\n",
    "  group_by(age, sex) %>%\n",
    "  pairwise_t_test(sentimentScore ~ ethnicity, paired = TRUE, p.adjust.method = \"bonferroni\") %>%\n",
    "  select(-df, -statistic) # Remove details\n",
    "\n",
    "pwc"
   ]
  },
  {
   "cell_type": "code",
   "execution_count": 120,
   "id": "c9da3742",
   "metadata": {},
   "outputs": [
    {
     "data": {
      "text/html": [
       "<table class=\"dataframe\">\n",
       "<caption>A rstatix_test: 1 × 9</caption>\n",
       "<thead>\n",
       "\t<tr><th scope=col>sex</th><th scope=col>age</th><th scope=col>.y.</th><th scope=col>group1</th><th scope=col>group2</th><th scope=col>n1</th><th scope=col>n2</th><th scope=col>p.adj</th><th scope=col>p.adj.signif</th></tr>\n",
       "\t<tr><th scope=col>&lt;chr&gt;</th><th scope=col>&lt;chr&gt;</th><th scope=col>&lt;chr&gt;</th><th scope=col>&lt;chr&gt;</th><th scope=col>&lt;chr&gt;</th><th scope=col>&lt;int&gt;</th><th scope=col>&lt;int&gt;</th><th scope=col>&lt;dbl&gt;</th><th scope=col>&lt;chr&gt;</th></tr>\n",
       "</thead>\n",
       "<tbody>\n",
       "\t<tr><td>male</td><td>adult</td><td>sentimentScore</td><td>bipoc</td><td>white</td><td>1248</td><td>1248</td><td>0.025</td><td>*</td></tr>\n",
       "</tbody>\n",
       "</table>\n"
      ],
      "text/latex": [
       "A rstatix\\_test: 1 × 9\n",
       "\\begin{tabular}{lllllllll}\n",
       " sex & age & .y. & group1 & group2 & n1 & n2 & p.adj & p.adj.signif\\\\\n",
       " <chr> & <chr> & <chr> & <chr> & <chr> & <int> & <int> & <dbl> & <chr>\\\\\n",
       "\\hline\n",
       "\t male & adult & sentimentScore & bipoc & white & 1248 & 1248 & 0.025 & *\\\\\n",
       "\\end{tabular}\n"
      ],
      "text/markdown": [
       "\n",
       "A rstatix_test: 1 × 9\n",
       "\n",
       "| sex &lt;chr&gt; | age &lt;chr&gt; | .y. &lt;chr&gt; | group1 &lt;chr&gt; | group2 &lt;chr&gt; | n1 &lt;int&gt; | n2 &lt;int&gt; | p.adj &lt;dbl&gt; | p.adj.signif &lt;chr&gt; |\n",
       "|---|---|---|---|---|---|---|---|---|\n",
       "| male | adult | sentimentScore | bipoc | white | 1248 | 1248 | 0.025 | * |\n",
       "\n"
      ],
      "text/plain": [
       "  sex  age   .y.            group1 group2 n1   n2   p.adj p.adj.signif\n",
       "1 male adult sentimentScore bipoc  white  1248 1248 0.025 *           "
      ]
     },
     "metadata": {},
     "output_type": "display_data"
    }
   ],
   "source": [
    "pwc %>% filter(sex == \"male\", age == \"adult\") %>%\n",
    "  select(-p)     # remove p columns"
   ]
  },
  {
   "cell_type": "markdown",
   "id": "dcf3ef3d-593f-42ab-8759-06f4a02a6044",
   "metadata": {},
   "source": [
    "$F$(1, 51) = 19.32, $p$ < 0.001, $\\eta^2_{g}=0.02$"
   ]
  },
  {
   "cell_type": "markdown",
   "id": "07c0ff10",
   "metadata": {},
   "source": [
    "### Visualization forced-choice: box plots with p-values"
   ]
  },
  {
   "cell_type": "code",
   "execution_count": 124,
   "id": "6f44b425-df7a-42df-b6ad-ad7e7a825338",
   "metadata": {},
   "outputs": [
    {
     "data": {
      "image/png": "[encoded data removed]",
      "text/plain": [
       "plot without title"
      ]
     },
     "metadata": {
      "image/png": {
       "height": 420,
       "width": 420
      }
     },
     "output_type": "display_data"
    }
   ],
   "source": [
    "# subtitle_3way_anova = \"Anova, $F$(1, 50) = 5.19, $p$ = 0.03, $\\\\eta^2_{g}=0.009$\"\n",
    "subtitle_3way_anova = expression(paste(\"Anova, F(1, 51) = 19.32, p < 0.001, \", eta[g]^2, \"=0.02\"))\n",
    "pwc <- pwc %>% add_xy_position(x = \"sex\")\n",
    "\n",
    "bxp +  \n",
    "  stat_pvalue_manual(\n",
    "    pwc, hide.ns = TRUE, bracket.nudge.y = 0.1,\n",
    "    label = \"{p.adj}{p.adj.signif}\"\n",
    "    ) +\n",
    "  labs(\n",
    "    subtitle = subtitle_3way_anova,\n",
    "    caption = get_pwc_label(pwc)\n",
    "  )"
   ]
  },
  {
   "cell_type": "code",
   "execution_count": 123,
   "id": "d83666b4",
   "metadata": {},
   "outputs": [
    {
     "data": {
      "image/png": "[encoded data removed]",
      "text/plain": [
       "plot without title"
      ]
     },
     "metadata": {
      "image/png": {
       "height": 420,
       "width": 420
      }
     },
     "output_type": "display_data"
    }
   ],
   "source": [
    "# # subtitle_3way_anova = \"Anova, $F$(1, 50) = 5.19, $p$ = 0.03, $\\\\eta^2_{g}=0.009$\"\n",
    "# subtitle_3way_anova = expression(paste(\"Anova, F(1, 51) = 19.32, p < 0.001, \", eta[g]^2, \"=0.02\"))\n",
    "# pwc <- pwc %>% add_xy_position(x = \"sex\")\n",
    "\n",
    "# pwc.filtered <- pwc %>% \n",
    "#   filter(sex == \"male\", age == \"adult\")\n",
    "\n",
    "# bxp +  \n",
    "#   stat_pvalue_manual(\n",
    "#     pwc.filtered, hide.ns = TRUE, bracket.nudge.y = 0.1,\n",
    "#     label = \"{p.adj}{p.adj.signif}\"\n",
    "#     ) +\n",
    "#   labs(\n",
    "#     subtitle = subtitle_3way_anova,\n",
    "#     caption = get_pwc_label(pwc)\n",
    "#   )"
   ]
  },
  {
   "cell_type": "code",
   "execution_count": 125,
   "id": "a4a48ad5",
   "metadata": {},
   "outputs": [
    {
     "name": "stderr",
     "output_type": "stream",
     "text": [
      "Saving 6.67 x 6.67 in image\n",
      "\n",
      "Saving 6.67 x 6.67 in image\n",
      "\n"
     ]
    }
   ],
   "source": [
    "ggsave(\"../clean_data_mturk/anova_3way_test_forced_choice_mturk.png\")\n",
    "ggsave(\"../../emotions_dashboard/data/anova_3way_test_forced_choice_mturk.png\")"
   ]
  },
  {
   "cell_type": "markdown",
   "id": "2715c18b",
   "metadata": {},
   "source": [
    "## Report"
   ]
  },
  {
   "cell_type": "markdown",
   "id": "93955118",
   "metadata": {},
   "source": [
    "-------------------\n",
    "\n",
    "\n",
    "\n",
    "\n",
    "***PENDING...***\n",
    "\n",
    "\n",
    "\n",
    "-------------------"
   ]
  },
  {
   "cell_type": "markdown",
   "id": "82d2ca0f",
   "metadata": {},
   "source": [
    "## Anova agregated across ethnicity for between-effect"
   ]
  },
  {
   "cell_type": "code",
   "execution_count": 126,
   "id": "a518ff5c",
   "metadata": {},
   "outputs": [],
   "source": [
    "mDf = aggregate(sentimentScore ~ participantId + ethnicityC, data=df, FUN=mean)"
   ]
  },
  {
   "cell_type": "code",
   "execution_count": 127,
   "id": "97a202ff",
   "metadata": {},
   "outputs": [
    {
     "data": {
      "text/plain": [
       "             Df  Sum Sq   Mean Sq F value Pr(>F)\n",
       "ethnicityC    1 0.00099 0.0009863   0.413  0.522\n",
       "Residuals   102 0.24367 0.0023889               "
      ]
     },
     "metadata": {},
     "output_type": "display_data"
    }
   ],
   "source": [
    "summary(aov(sentimentScore ~ ethnicityC, data=mDf))     # ANOVA with just the between-effect"
   ]
  },
  {
   "cell_type": "code",
   "execution_count": 128,
   "id": "2d997ed9",
   "metadata": {},
   "outputs": [],
   "source": [
    "# Images depicting caucasian faces "
   ]
  },
  {
   "cell_type": "code",
   "execution_count": 129,
   "id": "189565f3",
   "metadata": {},
   "outputs": [
    {
     "data": {
      "text/html": [
       "<table class=\"dataframe\">\n",
       "<caption>A tibble: 2 × 5</caption>\n",
       "<thead>\n",
       "\t<tr><th scope=col>ethnicityC</th><th scope=col>variable</th><th scope=col>n</th><th scope=col>mean</th><th scope=col>sd</th></tr>\n",
       "\t<tr><th scope=col>&lt;dbl&gt;</th><th scope=col>&lt;chr&gt;</th><th scope=col>&lt;dbl&gt;</th><th scope=col>&lt;dbl&gt;</th><th scope=col>&lt;dbl&gt;</th></tr>\n",
       "</thead>\n",
       "<tbody>\n",
       "\t<tr><td>-0.5</td><td>sentimentScore</td><td>52</td><td>-0.130</td><td>0.047</td></tr>\n",
       "\t<tr><td> 0.5</td><td>sentimentScore</td><td>52</td><td>-0.136</td><td>0.051</td></tr>\n",
       "</tbody>\n",
       "</table>\n"
      ],
      "text/latex": [
       "A tibble: 2 × 5\n",
       "\\begin{tabular}{lllll}\n",
       " ethnicityC & variable & n & mean & sd\\\\\n",
       " <dbl> & <chr> & <dbl> & <dbl> & <dbl>\\\\\n",
       "\\hline\n",
       "\t -0.5 & sentimentScore & 52 & -0.130 & 0.047\\\\\n",
       "\t  0.5 & sentimentScore & 52 & -0.136 & 0.051\\\\\n",
       "\\end{tabular}\n"
      ],
      "text/markdown": [
       "\n",
       "A tibble: 2 × 5\n",
       "\n",
       "| ethnicityC &lt;dbl&gt; | variable &lt;chr&gt; | n &lt;dbl&gt; | mean &lt;dbl&gt; | sd &lt;dbl&gt; |\n",
       "|---|---|---|---|---|\n",
       "| -0.5 | sentimentScore | 52 | -0.130 | 0.047 |\n",
       "|  0.5 | sentimentScore | 52 | -0.136 | 0.051 |\n",
       "\n"
      ],
      "text/plain": [
       "  ethnicityC variable       n  mean   sd   \n",
       "1 -0.5       sentimentScore 52 -0.130 0.047\n",
       "2  0.5       sentimentScore 52 -0.136 0.051"
      ]
     },
     "metadata": {},
     "output_type": "display_data"
    }
   ],
   "source": [
    "mDf %>%\n",
    "  group_by(ethnicityC) %>%\n",
    "  get_summary_stats(sentimentScore, type = \"mean_sd\")"
   ]
  },
  {
   "cell_type": "markdown",
   "id": "b80c4a27",
   "metadata": {},
   "source": [
    "# Free-labeling"
   ]
  },
  {
   "cell_type": "code",
   "execution_count": 130,
   "id": "194d9ec4",
   "metadata": {},
   "outputs": [
    {
     "name": "stderr",
     "output_type": "stream",
     "text": [
      "\n",
      "\u001b[36m──\u001b[39m \u001b[1m\u001b[1mColumn specification\u001b[1m\u001b[22m \u001b[36m────────────────────────────────────────────────────────────────────────────────────────────────────────────\u001b[39m\n",
      "cols(\n",
      "  participantId = \u001b[32mcol_double()\u001b[39m,\n",
      "  photoId = \u001b[31mcol_character()\u001b[39m,\n",
      "  emotion = \u001b[31mcol_character()\u001b[39m,\n",
      "  ethnicity = \u001b[31mcol_character()\u001b[39m,\n",
      "  sex = \u001b[31mcol_character()\u001b[39m,\n",
      "  age = \u001b[31mcol_character()\u001b[39m,\n",
      "  label = \u001b[31mcol_character()\u001b[39m,\n",
      "  url = \u001b[31mcol_character()\u001b[39m,\n",
      "  sentimentScore = \u001b[32mcol_double()\u001b[39m,\n",
      "  sexC = \u001b[32mcol_double()\u001b[39m,\n",
      "  ageC = \u001b[32mcol_double()\u001b[39m,\n",
      "  ethnicityC = \u001b[32mcol_double()\u001b[39m\n",
      ")\n",
      "\n",
      "\n"
     ]
    }
   ],
   "source": [
    "df_free = read_csv(\"../clean_data_mturk/free_labeling_emotion_mturk_long_format_lmer.csv\")"
   ]
  },
  {
   "cell_type": "code",
   "execution_count": 186,
   "id": "24113eb3-1b7b-4e78-88a7-2648a80430d3",
   "metadata": {},
   "outputs": [],
   "source": [
    "df_free$photoId = gsub(\"\\\\..*\",\"\", df_free$photoId)"
   ]
  },
  {
   "cell_type": "markdown",
   "id": "e5e20e9c",
   "metadata": {},
   "source": [
    "## Run model with Nelder-Mead opt"
   ]
  },
  {
   "cell_type": "markdown",
   "id": "1b9c6526",
   "metadata": {},
   "source": [
    "**Determining random effect structure**\n",
    "\n",
    "**Random Intercept**:\n",
    "- participantId: repeated measures from same participant\n",
    "- photoId: repeated measures from same photo\n",
    "\n",
    "**Random slope**:\n",
    "- ethnicity: varies *within participantId* and *between photos*\n",
    "- sex: varies *within participantId* and *between photos*\n",
    "- age: varies *within participantId* and *between photos*\n",
    "\n",
    "----\n",
    "- Random intercept and slope for participantId\n",
    "- Random intercept for photoId\n",
    "----"
   ]
  },
  {
   "cell_type": "code",
   "execution_count": 189,
   "id": "5f29fc78-8444-4e2c-af49-e24d788f6bb3",
   "metadata": {},
   "outputs": [
    {
     "data": {
      "text/html": [
       "<table class=\"dataframe\">\n",
       "<caption>A tibble: 6 × 12</caption>\n",
       "<thead>\n",
       "\t<tr><th scope=col>participantId</th><th scope=col>photoId</th><th scope=col>emotion</th><th scope=col>ethnicity</th><th scope=col>sex</th><th scope=col>age</th><th scope=col>label</th><th scope=col>url</th><th scope=col>sentimentScore</th><th scope=col>sexC</th><th scope=col>ageC</th><th scope=col>ethnicityC</th></tr>\n",
       "\t<tr><th scope=col>&lt;dbl&gt;</th><th scope=col>&lt;chr&gt;</th><th scope=col>&lt;chr&gt;</th><th scope=col>&lt;chr&gt;</th><th scope=col>&lt;chr&gt;</th><th scope=col>&lt;chr&gt;</th><th scope=col>&lt;chr&gt;</th><th scope=col>&lt;chr&gt;</th><th scope=col>&lt;dbl&gt;</th><th scope=col>&lt;dbl&gt;</th><th scope=col>&lt;dbl&gt;</th><th scope=col>&lt;dbl&gt;</th></tr>\n",
       "</thead>\n",
       "<tbody>\n",
       "\t<tr><td>0</td><td>Q10</td><td>doubt    </td><td>bipoc</td><td>female</td><td>adult</td><td>disgust</td><td>https://uwmadison.co1.qualtrics.com/ControlPanel/Graphic.php?IM=IM_cvFjQlP07m9S7VY</td><td>-0.3612</td><td>-0.5</td><td>0.5</td><td>-0.5</td></tr>\n",
       "\t<tr><td>0</td><td>Q10</td><td>annoyance</td><td>bipoc</td><td>female</td><td>adult</td><td>disgust</td><td>https://uwmadison.co1.qualtrics.com/ControlPanel/Graphic.php?IM=IM_cvFjQlP07m9S7VY</td><td>-0.3182</td><td>-0.5</td><td>0.5</td><td>-0.5</td></tr>\n",
       "\t<tr><td>0</td><td>Q10</td><td>disgust  </td><td>bipoc</td><td>female</td><td>adult</td><td>disgust</td><td>https://uwmadison.co1.qualtrics.com/ControlPanel/Graphic.php?IM=IM_cvFjQlP07m9S7VY</td><td>-0.5994</td><td>-0.5</td><td>0.5</td><td>-0.5</td></tr>\n",
       "\t<tr><td>1</td><td>Q10</td><td>skeptical</td><td>bipoc</td><td>female</td><td>adult</td><td>disgust</td><td>https://uwmadison.co1.qualtrics.com/ControlPanel/Graphic.php?IM=IM_cvFjQlP07m9S7VY</td><td>-0.3182</td><td>-0.5</td><td>0.5</td><td>-0.5</td></tr>\n",
       "\t<tr><td>1</td><td>Q10</td><td>disgusted</td><td>bipoc</td><td>female</td><td>adult</td><td>disgust</td><td>https://uwmadison.co1.qualtrics.com/ControlPanel/Graphic.php?IM=IM_cvFjQlP07m9S7VY</td><td>-0.5267</td><td>-0.5</td><td>0.5</td><td>-0.5</td></tr>\n",
       "\t<tr><td>2</td><td>Q10</td><td>skeptical</td><td>bipoc</td><td>female</td><td>adult</td><td>disgust</td><td>https://uwmadison.co1.qualtrics.com/ControlPanel/Graphic.php?IM=IM_cvFjQlP07m9S7VY</td><td>-0.3182</td><td>-0.5</td><td>0.5</td><td>-0.5</td></tr>\n",
       "</tbody>\n",
       "</table>\n"
      ],
      "text/latex": [
       "A tibble: 6 × 12\n",
       "\\begin{tabular}{llllllllllll}\n",
       " participantId & photoId & emotion & ethnicity & sex & age & label & url & sentimentScore & sexC & ageC & ethnicityC\\\\\n",
       " <dbl> & <chr> & <chr> & <chr> & <chr> & <chr> & <chr> & <chr> & <dbl> & <dbl> & <dbl> & <dbl>\\\\\n",
       "\\hline\n",
       "\t 0 & Q10 & doubt     & bipoc & female & adult & disgust & https://uwmadison.co1.qualtrics.com/ControlPanel/Graphic.php?IM=IM\\_cvFjQlP07m9S7VY & -0.3612 & -0.5 & 0.5 & -0.5\\\\\n",
       "\t 0 & Q10 & annoyance & bipoc & female & adult & disgust & https://uwmadison.co1.qualtrics.com/ControlPanel/Graphic.php?IM=IM\\_cvFjQlP07m9S7VY & -0.3182 & -0.5 & 0.5 & -0.5\\\\\n",
       "\t 0 & Q10 & disgust   & bipoc & female & adult & disgust & https://uwmadison.co1.qualtrics.com/ControlPanel/Graphic.php?IM=IM\\_cvFjQlP07m9S7VY & -0.5994 & -0.5 & 0.5 & -0.5\\\\\n",
       "\t 1 & Q10 & skeptical & bipoc & female & adult & disgust & https://uwmadison.co1.qualtrics.com/ControlPanel/Graphic.php?IM=IM\\_cvFjQlP07m9S7VY & -0.3182 & -0.5 & 0.5 & -0.5\\\\\n",
       "\t 1 & Q10 & disgusted & bipoc & female & adult & disgust & https://uwmadison.co1.qualtrics.com/ControlPanel/Graphic.php?IM=IM\\_cvFjQlP07m9S7VY & -0.5267 & -0.5 & 0.5 & -0.5\\\\\n",
       "\t 2 & Q10 & skeptical & bipoc & female & adult & disgust & https://uwmadison.co1.qualtrics.com/ControlPanel/Graphic.php?IM=IM\\_cvFjQlP07m9S7VY & -0.3182 & -0.5 & 0.5 & -0.5\\\\\n",
       "\\end{tabular}\n"
      ],
      "text/markdown": [
       "\n",
       "A tibble: 6 × 12\n",
       "\n",
       "| participantId &lt;dbl&gt; | photoId &lt;chr&gt; | emotion &lt;chr&gt; | ethnicity &lt;chr&gt; | sex &lt;chr&gt; | age &lt;chr&gt; | label &lt;chr&gt; | url &lt;chr&gt; | sentimentScore &lt;dbl&gt; | sexC &lt;dbl&gt; | ageC &lt;dbl&gt; | ethnicityC &lt;dbl&gt; |\n",
       "|---|---|---|---|---|---|---|---|---|---|---|---|\n",
       "| 0 | Q10 | doubt     | bipoc | female | adult | disgust | https://uwmadison.co1.qualtrics.com/ControlPanel/Graphic.php?IM=IM_cvFjQlP07m9S7VY | -0.3612 | -0.5 | 0.5 | -0.5 |\n",
       "| 0 | Q10 | annoyance | bipoc | female | adult | disgust | https://uwmadison.co1.qualtrics.com/ControlPanel/Graphic.php?IM=IM_cvFjQlP07m9S7VY | -0.3182 | -0.5 | 0.5 | -0.5 |\n",
       "| 0 | Q10 | disgust   | bipoc | female | adult | disgust | https://uwmadison.co1.qualtrics.com/ControlPanel/Graphic.php?IM=IM_cvFjQlP07m9S7VY | -0.5994 | -0.5 | 0.5 | -0.5 |\n",
       "| 1 | Q10 | skeptical | bipoc | female | adult | disgust | https://uwmadison.co1.qualtrics.com/ControlPanel/Graphic.php?IM=IM_cvFjQlP07m9S7VY | -0.3182 | -0.5 | 0.5 | -0.5 |\n",
       "| 1 | Q10 | disgusted | bipoc | female | adult | disgust | https://uwmadison.co1.qualtrics.com/ControlPanel/Graphic.php?IM=IM_cvFjQlP07m9S7VY | -0.5267 | -0.5 | 0.5 | -0.5 |\n",
       "| 2 | Q10 | skeptical | bipoc | female | adult | disgust | https://uwmadison.co1.qualtrics.com/ControlPanel/Graphic.php?IM=IM_cvFjQlP07m9S7VY | -0.3182 | -0.5 | 0.5 | -0.5 |\n",
       "\n"
      ],
      "text/plain": [
       "  participantId photoId emotion   ethnicity sex    age   label  \n",
       "1 0             Q10     doubt     bipoc     female adult disgust\n",
       "2 0             Q10     annoyance bipoc     female adult disgust\n",
       "3 0             Q10     disgust   bipoc     female adult disgust\n",
       "4 1             Q10     skeptical bipoc     female adult disgust\n",
       "5 1             Q10     disgusted bipoc     female adult disgust\n",
       "6 2             Q10     skeptical bipoc     female adult disgust\n",
       "  url                                                                               \n",
       "1 https://uwmadison.co1.qualtrics.com/ControlPanel/Graphic.php?IM=IM_cvFjQlP07m9S7VY\n",
       "2 https://uwmadison.co1.qualtrics.com/ControlPanel/Graphic.php?IM=IM_cvFjQlP07m9S7VY\n",
       "3 https://uwmadison.co1.qualtrics.com/ControlPanel/Graphic.php?IM=IM_cvFjQlP07m9S7VY\n",
       "4 https://uwmadison.co1.qualtrics.com/ControlPanel/Graphic.php?IM=IM_cvFjQlP07m9S7VY\n",
       "5 https://uwmadison.co1.qualtrics.com/ControlPanel/Graphic.php?IM=IM_cvFjQlP07m9S7VY\n",
       "6 https://uwmadison.co1.qualtrics.com/ControlPanel/Graphic.php?IM=IM_cvFjQlP07m9S7VY\n",
       "  sentimentScore sexC ageC ethnicityC\n",
       "1 -0.3612        -0.5 0.5  -0.5      \n",
       "2 -0.3182        -0.5 0.5  -0.5      \n",
       "3 -0.5994        -0.5 0.5  -0.5      \n",
       "4 -0.3182        -0.5 0.5  -0.5      \n",
       "5 -0.5267        -0.5 0.5  -0.5      \n",
       "6 -0.3182        -0.5 0.5  -0.5      "
      ]
     },
     "metadata": {},
     "output_type": "display_data"
    }
   ],
   "source": [
    "head(df_free[order(df_free$photoId),])"
   ]
  },
  {
   "cell_type": "code",
   "execution_count": 190,
   "id": "ff223869-9dc0-4a18-90af-e3a2f5a1209c",
   "metadata": {},
   "outputs": [
    {
     "data": {
      "text/html": [
       "<table class=\"dataframe\">\n",
       "<caption>A tibble: 6 × 12</caption>\n",
       "<thead>\n",
       "\t<tr><th scope=col>participantId</th><th scope=col>photoId</th><th scope=col>emotion</th><th scope=col>ethnicity</th><th scope=col>sex</th><th scope=col>age</th><th scope=col>label</th><th scope=col>url</th><th scope=col>sentimentScore</th><th scope=col>sexC</th><th scope=col>ageC</th><th scope=col>ethnicityC</th></tr>\n",
       "\t<tr><th scope=col>&lt;dbl&gt;</th><th scope=col>&lt;chr&gt;</th><th scope=col>&lt;chr&gt;</th><th scope=col>&lt;chr&gt;</th><th scope=col>&lt;chr&gt;</th><th scope=col>&lt;chr&gt;</th><th scope=col>&lt;chr&gt;</th><th scope=col>&lt;chr&gt;</th><th scope=col>&lt;dbl&gt;</th><th scope=col>&lt;dbl&gt;</th><th scope=col>&lt;dbl&gt;</th><th scope=col>&lt;dbl&gt;</th></tr>\n",
       "</thead>\n",
       "<tbody>\n",
       "\t<tr><td>0</td><td>Q2  </td><td>boredom  </td><td>bipoc</td><td>female</td><td>adult</td><td>anger   </td><td>https://uwmadison.co1.qualtrics.com/ControlPanel/Graphic.php?IM=IM_bJXdODAZHOaG0rI</td><td>-0.3182</td><td>-0.5</td><td>0.5</td><td>-0.5</td></tr>\n",
       "\t<tr><td>0</td><td>Q117</td><td>annoyance</td><td>bipoc</td><td>male  </td><td>adult</td><td>surprise</td><td>https://uwmadison.co1.qualtrics.com/ControlPanel/Graphic.php?IM=IM_aaEwobdBBZ4nn02</td><td>-0.3182</td><td> 0.5</td><td>0.5</td><td>-0.5</td></tr>\n",
       "\t<tr><td>0</td><td>Q117</td><td>anger    </td><td>bipoc</td><td>male  </td><td>adult</td><td>surprise</td><td>https://uwmadison.co1.qualtrics.com/ControlPanel/Graphic.php?IM=IM_aaEwobdBBZ4nn02</td><td>-0.5719</td><td> 0.5</td><td>0.5</td><td>-0.5</td></tr>\n",
       "\t<tr><td>0</td><td>Q52 </td><td>surprise </td><td>bipoc</td><td>male  </td><td>adult</td><td>surprise</td><td>https://uwmadison.co1.qualtrics.com/ControlPanel/Graphic.php?IM=IM_0JI5joczfCXyM4K</td><td> 0.2732</td><td> 0.5</td><td>0.5</td><td>-0.5</td></tr>\n",
       "\t<tr><td>0</td><td>Q117</td><td>surprise </td><td>bipoc</td><td>male  </td><td>adult</td><td>surprise</td><td>https://uwmadison.co1.qualtrics.com/ControlPanel/Graphic.php?IM=IM_aaEwobdBBZ4nn02</td><td> 0.2732</td><td> 0.5</td><td>0.5</td><td>-0.5</td></tr>\n",
       "\t<tr><td>0</td><td>Q52 </td><td>anger    </td><td>bipoc</td><td>male  </td><td>adult</td><td>surprise</td><td>https://uwmadison.co1.qualtrics.com/ControlPanel/Graphic.php?IM=IM_0JI5joczfCXyM4K</td><td>-0.5719</td><td> 0.5</td><td>0.5</td><td>-0.5</td></tr>\n",
       "</tbody>\n",
       "</table>\n"
      ],
      "text/latex": [
       "A tibble: 6 × 12\n",
       "\\begin{tabular}{llllllllllll}\n",
       " participantId & photoId & emotion & ethnicity & sex & age & label & url & sentimentScore & sexC & ageC & ethnicityC\\\\\n",
       " <dbl> & <chr> & <chr> & <chr> & <chr> & <chr> & <chr> & <chr> & <dbl> & <dbl> & <dbl> & <dbl>\\\\\n",
       "\\hline\n",
       "\t 0 & Q2   & boredom   & bipoc & female & adult & anger    & https://uwmadison.co1.qualtrics.com/ControlPanel/Graphic.php?IM=IM\\_bJXdODAZHOaG0rI & -0.3182 & -0.5 & 0.5 & -0.5\\\\\n",
       "\t 0 & Q117 & annoyance & bipoc & male   & adult & surprise & https://uwmadison.co1.qualtrics.com/ControlPanel/Graphic.php?IM=IM\\_aaEwobdBBZ4nn02 & -0.3182 &  0.5 & 0.5 & -0.5\\\\\n",
       "\t 0 & Q117 & anger     & bipoc & male   & adult & surprise & https://uwmadison.co1.qualtrics.com/ControlPanel/Graphic.php?IM=IM\\_aaEwobdBBZ4nn02 & -0.5719 &  0.5 & 0.5 & -0.5\\\\\n",
       "\t 0 & Q52  & surprise  & bipoc & male   & adult & surprise & https://uwmadison.co1.qualtrics.com/ControlPanel/Graphic.php?IM=IM\\_0JI5joczfCXyM4K &  0.2732 &  0.5 & 0.5 & -0.5\\\\\n",
       "\t 0 & Q117 & surprise  & bipoc & male   & adult & surprise & https://uwmadison.co1.qualtrics.com/ControlPanel/Graphic.php?IM=IM\\_aaEwobdBBZ4nn02 &  0.2732 &  0.5 & 0.5 & -0.5\\\\\n",
       "\t 0 & Q52  & anger     & bipoc & male   & adult & surprise & https://uwmadison.co1.qualtrics.com/ControlPanel/Graphic.php?IM=IM\\_0JI5joczfCXyM4K & -0.5719 &  0.5 & 0.5 & -0.5\\\\\n",
       "\\end{tabular}\n"
      ],
      "text/markdown": [
       "\n",
       "A tibble: 6 × 12\n",
       "\n",
       "| participantId &lt;dbl&gt; | photoId &lt;chr&gt; | emotion &lt;chr&gt; | ethnicity &lt;chr&gt; | sex &lt;chr&gt; | age &lt;chr&gt; | label &lt;chr&gt; | url &lt;chr&gt; | sentimentScore &lt;dbl&gt; | sexC &lt;dbl&gt; | ageC &lt;dbl&gt; | ethnicityC &lt;dbl&gt; |\n",
       "|---|---|---|---|---|---|---|---|---|---|---|---|\n",
       "| 0 | Q2   | boredom   | bipoc | female | adult | anger    | https://uwmadison.co1.qualtrics.com/ControlPanel/Graphic.php?IM=IM_bJXdODAZHOaG0rI | -0.3182 | -0.5 | 0.5 | -0.5 |\n",
       "| 0 | Q117 | annoyance | bipoc | male   | adult | surprise | https://uwmadison.co1.qualtrics.com/ControlPanel/Graphic.php?IM=IM_aaEwobdBBZ4nn02 | -0.3182 |  0.5 | 0.5 | -0.5 |\n",
       "| 0 | Q117 | anger     | bipoc | male   | adult | surprise | https://uwmadison.co1.qualtrics.com/ControlPanel/Graphic.php?IM=IM_aaEwobdBBZ4nn02 | -0.5719 |  0.5 | 0.5 | -0.5 |\n",
       "| 0 | Q52  | surprise  | bipoc | male   | adult | surprise | https://uwmadison.co1.qualtrics.com/ControlPanel/Graphic.php?IM=IM_0JI5joczfCXyM4K |  0.2732 |  0.5 | 0.5 | -0.5 |\n",
       "| 0 | Q117 | surprise  | bipoc | male   | adult | surprise | https://uwmadison.co1.qualtrics.com/ControlPanel/Graphic.php?IM=IM_aaEwobdBBZ4nn02 |  0.2732 |  0.5 | 0.5 | -0.5 |\n",
       "| 0 | Q52  | anger     | bipoc | male   | adult | surprise | https://uwmadison.co1.qualtrics.com/ControlPanel/Graphic.php?IM=IM_0JI5joczfCXyM4K | -0.5719 |  0.5 | 0.5 | -0.5 |\n",
       "\n"
      ],
      "text/plain": [
       "  participantId photoId emotion   ethnicity sex    age   label   \n",
       "1 0             Q2      boredom   bipoc     female adult anger   \n",
       "2 0             Q117    annoyance bipoc     male   adult surprise\n",
       "3 0             Q117    anger     bipoc     male   adult surprise\n",
       "4 0             Q52     surprise  bipoc     male   adult surprise\n",
       "5 0             Q117    surprise  bipoc     male   adult surprise\n",
       "6 0             Q52     anger     bipoc     male   adult surprise\n",
       "  url                                                                               \n",
       "1 https://uwmadison.co1.qualtrics.com/ControlPanel/Graphic.php?IM=IM_bJXdODAZHOaG0rI\n",
       "2 https://uwmadison.co1.qualtrics.com/ControlPanel/Graphic.php?IM=IM_aaEwobdBBZ4nn02\n",
       "3 https://uwmadison.co1.qualtrics.com/ControlPanel/Graphic.php?IM=IM_aaEwobdBBZ4nn02\n",
       "4 https://uwmadison.co1.qualtrics.com/ControlPanel/Graphic.php?IM=IM_0JI5joczfCXyM4K\n",
       "5 https://uwmadison.co1.qualtrics.com/ControlPanel/Graphic.php?IM=IM_aaEwobdBBZ4nn02\n",
       "6 https://uwmadison.co1.qualtrics.com/ControlPanel/Graphic.php?IM=IM_0JI5joczfCXyM4K\n",
       "  sentimentScore sexC ageC ethnicityC\n",
       "1 -0.3182        -0.5 0.5  -0.5      \n",
       "2 -0.3182         0.5 0.5  -0.5      \n",
       "3 -0.5719         0.5 0.5  -0.5      \n",
       "4  0.2732         0.5 0.5  -0.5      \n",
       "5  0.2732         0.5 0.5  -0.5      \n",
       "6 -0.5719         0.5 0.5  -0.5      "
      ]
     },
     "metadata": {},
     "output_type": "display_data"
    }
   ],
   "source": [
    "head(df_free[order(df_free$participantId),])"
   ]
  },
  {
   "cell_type": "code",
   "execution_count": 191,
   "id": "d00cb65b",
   "metadata": {},
   "outputs": [
    {
     "name": "stderr",
     "output_type": "stream",
     "text": [
      "Warning message:\n",
      "“Model failed to converge with 1 negative eigenvalue: -6.4e+01”\n"
     ]
    },
    {
     "data": {
      "text/plain": [
       "Linear mixed model fit by maximum likelihood . t-tests use Satterthwaite's\n",
       "  method [lmerModLmerTest]\n",
       "Formula: sentimentScore ~ 1 + sexC * ethnicityC + (1 + sexC * ethnicityC |  \n",
       "    participantId) + (1 | photoId)\n",
       "   Data: df_free\n",
       "Control: lmerControl(optimizer = \"Nelder_Mead\", calc.derivs = FALSE)\n",
       "\n",
       "     AIC      BIC   logLik deviance df.resid \n",
       "  5083.4   5205.5  -2525.7   5051.4    15260 \n",
       "\n",
       "Scaled residuals: \n",
       "    Min      1Q  Median      3Q     Max \n",
       "-3.6237 -0.6714 -0.1129  0.6934  3.8399 \n",
       "\n",
       "Random effects:\n",
       " Groups        Name            Variance Std.Dev. Corr          \n",
       " photoId       (Intercept)     0.065399 0.25573                \n",
       " participantId (Intercept)     0.006631 0.08143                \n",
       "               sexC            0.009580 0.09788  0.22          \n",
       "               ethnicityC      0.000711 0.02667  0.78 0.27     \n",
       "               sexC:ethnicityC 0.075673 0.27509  0.24 0.98 0.39\n",
       " Residual                      0.075586 0.27493                \n",
       "Number of obs: 15276, groups:  photoId, 192; participantId, 50\n",
       "\n",
       "Fixed effects:\n",
       "                  Estimate Std. Error         df t value Pr(>|t|)    \n",
       "(Intercept)      -0.096678   0.021892 190.139206  -4.416 1.68e-05 ***\n",
       "sexC             -0.033377   0.039698 164.526120  -0.841    0.402    \n",
       "ethnicityC       -0.008972   0.037384 194.297335  -0.240    0.811    \n",
       "sexC:ethnicityC   0.055244   0.083994 298.077437   0.658    0.511    \n",
       "---\n",
       "Signif. codes:  0 ‘***’ 0.001 ‘**’ 0.01 ‘*’ 0.05 ‘.’ 0.1 ‘ ’ 1\n",
       "\n",
       "Correlation of Fixed Effects:\n",
       "            (Intr) sexC  ethncC\n",
       "sexC        0.041              \n",
       "ethnicityC  0.042  0.009       \n",
       "sxC:thnctyC 0.058  0.160 0.019 "
      ]
     },
     "metadata": {},
     "output_type": "display_data"
    }
   ],
   "source": [
    "# -------------\n",
    "# lacks power because there is only 1 obs per cell of [participantId X photoId]\n",
    "# -------------\n",
    "\n",
    "lmer_fl_uw_full = lmer(\n",
    "    sentimentScore ~ 1 + sexC*ethnicityC + (1 + sexC*ethnicityC|participantId) + (1 | photoId), \n",
    "    data = df_free,\n",
    "    REML = FALSE, \n",
    "    control = lmerControl(optimizer =\"Nelder_Mead\", calc.derivs=FALSE)\n",
    ")\n",
    "summary(lmer_fl_uw_full)"
   ]
  },
  {
   "cell_type": "code",
   "execution_count": 192,
   "id": "f294af0d-9937-41f7-8ecf-92c263d2b1ac",
   "metadata": {},
   "outputs": [
    {
     "data": {
      "text/plain": [
       "Linear mixed model fit by maximum likelihood  ['lmerModLmerTest']\n",
       "Formula: sentimentScore ~ 1 + sexC * ethnicityC + (1 + sexC * ethnicityC |  \n",
       "    participantId) + (1 | photoId)\n",
       "   Data: df_free\n",
       "      AIC       BIC    logLik  deviance  df.resid \n",
       " 5083.396  5205.541 -2525.698  5051.396     15260 \n",
       "Random effects:\n",
       " Groups        Name            Std.Dev. Corr          \n",
       " photoId       (Intercept)     0.25573                \n",
       " participantId (Intercept)     0.08143                \n",
       "               sexC            0.09788  0.22          \n",
       "               ethnicityC      0.02667  0.78 0.27     \n",
       "               sexC:ethnicityC 0.27509  0.24 0.98 0.39\n",
       " Residual                      0.27493                \n",
       "Number of obs: 15276, groups:  photoId, 192; participantId, 50\n",
       "Fixed Effects:\n",
       "    (Intercept)             sexC       ethnicityC  sexC:ethnicityC  \n",
       "      -0.096678        -0.033377        -0.008972         0.055244  "
      ]
     },
     "metadata": {},
     "output_type": "display_data"
    }
   ],
   "source": [
    "lmer_fl_uw_full"
   ]
  },
  {
   "cell_type": "code",
   "execution_count": 193,
   "id": "2a3a8738",
   "metadata": {},
   "outputs": [
    {
     "data": {
      "text/plain": [
       "Linear mixed model fit by maximum likelihood . t-tests use Satterthwaite's\n",
       "  method [lmerModLmerTest]\n",
       "Formula: sentimentScore ~ 1 + sexC * ethnicityC + (1 + sexC * ethnicityC ||  \n",
       "    participantId)\n",
       "   Data: df_free\n",
       "Control: lmerControl(optimizer = \"Nelder_Mead\", calc.derivs = FALSE)\n",
       "\n",
       "     AIC      BIC   logLik deviance df.resid \n",
       " 13891.4  13960.1  -6936.7  13873.4    15267 \n",
       "\n",
       "Scaled residuals: \n",
       "     Min       1Q   Median       3Q      Max \n",
       "-1.79471 -0.88473 -0.03478  0.82769  2.29334 \n",
       "\n",
       "Random effects:\n",
       " Groups          Name            Variance  Std.Dev. \n",
       " participantId   (Intercept)     5.507e-03 7.421e-02\n",
       " participantId.1 sexC            0.000e+00 0.000e+00\n",
       " participantId.2 ethnicityC      4.511e-11 6.717e-06\n",
       " participantId.3 sexC:ethnicityC 3.452e-11 5.876e-06\n",
       " Residual                        1.440e-01 3.795e-01\n",
       "Number of obs: 15276, groups:  participantId, 50\n",
       "\n",
       "Fixed effects:\n",
       "                  Estimate Std. Error         df t value Pr(>|t|)    \n",
       "(Intercept)     -9.857e-02  1.102e-02  5.005e+01  -8.948 5.84e-12 ***\n",
       "sexC            -2.737e-02  6.143e-03  1.523e+04  -4.455 8.45e-06 ***\n",
       "ethnicityC      -7.247e-03  6.143e-03  1.522e+04  -1.180    0.238    \n",
       "sexC:ethnicityC  5.961e-02  1.229e-02  1.523e+04   4.852 1.23e-06 ***\n",
       "---\n",
       "Signif. codes:  0 ‘***’ 0.001 ‘**’ 0.01 ‘*’ 0.05 ‘.’ 0.1 ‘ ’ 1\n",
       "\n",
       "Correlation of Fixed Effects:\n",
       "            (Intr) sexC  ethncC\n",
       "sexC        0.000              \n",
       "ethnicityC  0.002  0.001       \n",
       "sxC:thnctyC 0.001  0.007 0.000 "
      ]
     },
     "metadata": {},
     "output_type": "display_data"
    }
   ],
   "source": [
    "# --------------\n",
    "# it doesn't address photoId random effect, but it has better power 20+ obs per cell (i.e., participantId )\n",
    "# Also, I specified multiple uncorrelated random effects for the same grouping variable, so the model converge\n",
    "# --------------\n",
    "\n",
    "lmer_fl_uw_partial = lmer(\n",
    "    sentimentScore ~ 1 + sexC*ethnicityC + (1 + sexC*ethnicityC||participantId), \n",
    "    data = df_free, \n",
    "    REML = FALSE, \n",
    "    control = lmerControl(optimizer =\"Nelder_Mead\", calc.derivs=FALSE)\n",
    ")\n",
    "summary(lmer_fl_uw_partial)"
   ]
  },
  {
   "cell_type": "code",
   "execution_count": 194,
   "id": "b75689a0-d06e-419e-889b-2922528cb834",
   "metadata": {},
   "outputs": [
    {
     "data": {
      "text/plain": [
       "Linear mixed model fit by maximum likelihood  ['lmerModLmerTest']\n",
       "Formula: sentimentScore ~ 1 + sexC * ethnicityC + (1 + sexC * ethnicityC ||  \n",
       "    participantId)\n",
       "   Data: df_free\n",
       "      AIC       BIC    logLik  deviance  df.resid \n",
       "13891.351 13960.057 -6936.676 13873.351     15267 \n",
       "Random effects:\n",
       " Groups          Name            Std.Dev. \n",
       " participantId   (Intercept)     7.421e-02\n",
       " participantId.1 sexC            0.000e+00\n",
       " participantId.2 ethnicityC      6.717e-06\n",
       " participantId.3 sexC:ethnicityC 5.876e-06\n",
       " Residual                        3.795e-01\n",
       "Number of obs: 15276, groups:  participantId, 50\n",
       "Fixed Effects:\n",
       "    (Intercept)             sexC       ethnicityC  sexC:ethnicityC  \n",
       "      -0.098570        -0.027365        -0.007247         0.059611  "
      ]
     },
     "metadata": {},
     "output_type": "display_data"
    }
   ],
   "source": [
    "lmer_fl_uw_partial"
   ]
  },
  {
   "cell_type": "code",
   "execution_count": 195,
   "id": "019b9e27-3bc7-4d9f-b1ea-51f5b924907a",
   "metadata": {},
   "outputs": [
    {
     "data": {
      "text/html": [
       "0.0360757164503417"
      ],
      "text/latex": [
       "0.0360757164503417"
      ],
      "text/markdown": [
       "0.0360757164503417"
      ],
      "text/plain": [
       "[1] 0.03607572"
      ]
     },
     "metadata": {},
     "output_type": "display_data"
    }
   ],
   "source": [
    "t_2 = (-4.455)^2\n",
    "df = 1.523e+04\n",
    "\n",
    "r = sqrt(t_2 / (t_2 + df))\n",
    "r"
   ]
  },
  {
   "cell_type": "markdown",
   "id": "270f8a4a",
   "metadata": {},
   "source": [
    "## Check collinearity"
   ]
  },
  {
   "cell_type": "code",
   "execution_count": 133,
   "id": "c79f045d",
   "metadata": {},
   "outputs": [
    {
     "data": {
      "text/html": [
       "<table class=\"dataframe\">\n",
       "<caption>A check_collinearity: 3 × 3</caption>\n",
       "<thead>\n",
       "\t<tr><th></th><th scope=col>Term</th><th scope=col>VIF</th><th scope=col>SE_factor</th></tr>\n",
       "\t<tr><th></th><th scope=col>&lt;chr&gt;</th><th scope=col>&lt;dbl&gt;</th><th scope=col>&lt;dbl&gt;</th></tr>\n",
       "</thead>\n",
       "<tbody>\n",
       "\t<tr><th scope=row>1</th><td>sexC           </td><td>1.000056</td><td>1.000028</td></tr>\n",
       "\t<tr><th scope=row>2</th><td>ethnicityC     </td><td>1.000002</td><td>1.000001</td></tr>\n",
       "\t<tr><th scope=row>3</th><td>sexC:ethnicityC</td><td>1.000054</td><td>1.000027</td></tr>\n",
       "</tbody>\n",
       "</table>\n"
      ],
      "text/latex": [
       "A check\\_collinearity: 3 × 3\n",
       "\\begin{tabular}{r|lll}\n",
       "  & Term & VIF & SE\\_factor\\\\\n",
       "  & <chr> & <dbl> & <dbl>\\\\\n",
       "\\hline\n",
       "\t1 & sexC            & 1.000056 & 1.000028\\\\\n",
       "\t2 & ethnicityC      & 1.000002 & 1.000001\\\\\n",
       "\t3 & sexC:ethnicityC & 1.000054 & 1.000027\\\\\n",
       "\\end{tabular}\n"
      ],
      "text/markdown": [
       "\n",
       "A check_collinearity: 3 × 3\n",
       "\n",
       "| <!--/--> | Term &lt;chr&gt; | VIF &lt;dbl&gt; | SE_factor &lt;dbl&gt; |\n",
       "|---|---|---|---|\n",
       "| 1 | sexC            | 1.000056 | 1.000028 |\n",
       "| 2 | ethnicityC      | 1.000002 | 1.000001 |\n",
       "| 3 | sexC:ethnicityC | 1.000054 | 1.000027 |\n",
       "\n"
      ],
      "text/plain": [
       "  Term            VIF      SE_factor\n",
       "1 sexC            1.000056 1.000028 \n",
       "2 ethnicityC      1.000002 1.000001 \n",
       "3 sexC:ethnicityC 1.000054 1.000027 "
      ]
     },
     "metadata": {},
     "output_type": "display_data"
    }
   ],
   "source": [
    "check_collinearity(lmer_fl_uw_partial)"
   ]
  },
  {
   "cell_type": "code",
   "execution_count": 134,
   "id": "995c11a6",
   "metadata": {},
   "outputs": [
    {
     "data": {
      "image/png": "[encoded data removed]",
      "text/plain": [
       "plot without title"
      ]
     },
     "metadata": {
      "image/png": {
       "height": 420,
       "width": 420
      }
     },
     "output_type": "display_data"
    }
   ],
   "source": [
    "plot(check_collinearity(lmer_fl_uw_partial))"
   ]
  },
  {
   "cell_type": "markdown",
   "id": "6d596fb4",
   "metadata": {},
   "source": [
    "## Check singularity"
   ]
  },
  {
   "cell_type": "code",
   "execution_count": 135,
   "id": "da621036",
   "metadata": {},
   "outputs": [
    {
     "data": {
      "text/html": [
       "<table class=\"dataframe\">\n",
       "<caption>A check_collinearity: 3 × 3</caption>\n",
       "<thead>\n",
       "\t<tr><th></th><th scope=col>Term</th><th scope=col>VIF</th><th scope=col>SE_factor</th></tr>\n",
       "\t<tr><th></th><th scope=col>&lt;chr&gt;</th><th scope=col>&lt;dbl&gt;</th><th scope=col>&lt;dbl&gt;</th></tr>\n",
       "</thead>\n",
       "<tbody>\n",
       "\t<tr><th scope=row>1</th><td>sexC           </td><td>1.000056</td><td>1.000028</td></tr>\n",
       "\t<tr><th scope=row>2</th><td>ethnicityC     </td><td>1.000002</td><td>1.000001</td></tr>\n",
       "\t<tr><th scope=row>3</th><td>sexC:ethnicityC</td><td>1.000054</td><td>1.000027</td></tr>\n",
       "</tbody>\n",
       "</table>\n"
      ],
      "text/latex": [
       "A check\\_collinearity: 3 × 3\n",
       "\\begin{tabular}{r|lll}\n",
       "  & Term & VIF & SE\\_factor\\\\\n",
       "  & <chr> & <dbl> & <dbl>\\\\\n",
       "\\hline\n",
       "\t1 & sexC            & 1.000056 & 1.000028\\\\\n",
       "\t2 & ethnicityC      & 1.000002 & 1.000001\\\\\n",
       "\t3 & sexC:ethnicityC & 1.000054 & 1.000027\\\\\n",
       "\\end{tabular}\n"
      ],
      "text/markdown": [
       "\n",
       "A check_collinearity: 3 × 3\n",
       "\n",
       "| <!--/--> | Term &lt;chr&gt; | VIF &lt;dbl&gt; | SE_factor &lt;dbl&gt; |\n",
       "|---|---|---|---|\n",
       "| 1 | sexC            | 1.000056 | 1.000028 |\n",
       "| 2 | ethnicityC      | 1.000002 | 1.000001 |\n",
       "| 3 | sexC:ethnicityC | 1.000054 | 1.000027 |\n",
       "\n"
      ],
      "text/plain": [
       "  Term            VIF      SE_factor\n",
       "1 sexC            1.000056 1.000028 \n",
       "2 ethnicityC      1.000002 1.000001 \n",
       "3 sexC:ethnicityC 1.000054 1.000027 "
      ]
     },
     "metadata": {},
     "output_type": "display_data"
    }
   ],
   "source": [
    "check_collinearity(lmer_fl_uw_partial)"
   ]
  },
  {
   "cell_type": "code",
   "execution_count": 136,
   "id": "02a6c9fe",
   "metadata": {},
   "outputs": [
    {
     "data": {
      "text/html": [
       "0"
      ],
      "text/latex": [
       "0"
      ],
      "text/markdown": [
       "0"
      ],
      "text/plain": [
       "[1] 0"
      ]
     },
     "metadata": {},
     "output_type": "display_data"
    }
   ],
   "source": [
    "# https://rstudio-pubs-static.s3.amazonaws.com/33653_57fc7b8e5d484c909b615d8633c01d51.html\n",
    "\n",
    "\n",
    "# https://rstudio-pubs-static.s3.amazonaws.com/33653_57fc7b8e5d484c909b615d8633c01d51.html\n",
    "tt_p = getME(lmer_fl_uw_partial,\"theta\")\n",
    "ll_p = getME(lmer_fl_uw_partial,\"lower\")\n",
    "tt_value_p = min(tt_p[ll_p==0])\n",
    "\n",
    "tt_value_p"
   ]
  },
  {
   "cell_type": "code",
   "execution_count": 137,
   "id": "ba98a092",
   "metadata": {},
   "outputs": [
    {
     "data": {
      "text/html": [
       "TRUE"
      ],
      "text/latex": [
       "TRUE"
      ],
      "text/markdown": [
       "TRUE"
      ],
      "text/plain": [
       "[1] TRUE"
      ]
     },
     "metadata": {},
     "output_type": "display_data"
    }
   ],
   "source": [
    "theta_p <- getME(lmer_fl_uw_partial,\"theta\")\n",
    "## diagonal elements are identifiable because they are fitted\n",
    "##  with a lower bound of zero ...\n",
    "diag.element <- getME(lmer_fl_uw_partial,\"lower\")==0\n",
    "any(theta_p[diag.element]<1e-5)\n",
    "\n",
    "# there may be a problem"
   ]
  },
  {
   "cell_type": "markdown",
   "id": "bf81138e",
   "metadata": {},
   "source": [
    "## Three-way Anova "
   ]
  },
  {
   "cell_type": "code",
   "execution_count": 138,
   "id": "07a55087",
   "metadata": {},
   "outputs": [
    {
     "data": {
      "text/html": [
       "<table class=\"dataframe\">\n",
       "<caption>A tibble: 8 × 7</caption>\n",
       "<thead>\n",
       "\t<tr><th scope=col>ethnicity</th><th scope=col>sex</th><th scope=col>age</th><th scope=col>variable</th><th scope=col>n</th><th scope=col>mean</th><th scope=col>sd</th></tr>\n",
       "\t<tr><th scope=col>&lt;chr&gt;</th><th scope=col>&lt;chr&gt;</th><th scope=col>&lt;chr&gt;</th><th scope=col>&lt;chr&gt;</th><th scope=col>&lt;dbl&gt;</th><th scope=col>&lt;dbl&gt;</th><th scope=col>&lt;dbl&gt;</th></tr>\n",
       "</thead>\n",
       "<tbody>\n",
       "\t<tr><td>bipoc</td><td>female</td><td>adult</td><td>sentimentScore</td><td>1931</td><td>-0.091</td><td>0.390</td></tr>\n",
       "\t<tr><td>bipoc</td><td>female</td><td>child</td><td>sentimentScore</td><td>1908</td><td>-0.023</td><td>0.404</td></tr>\n",
       "\t<tr><td>bipoc</td><td>male  </td><td>adult</td><td>sentimentScore</td><td>1953</td><td>-0.159</td><td>0.364</td></tr>\n",
       "\t<tr><td>bipoc</td><td>male  </td><td>child</td><td>sentimentScore</td><td>1902</td><td>-0.071</td><td>0.394</td></tr>\n",
       "\t<tr><td>white</td><td>female</td><td>adult</td><td>sentimentScore</td><td>1908</td><td>-0.140</td><td>0.377</td></tr>\n",
       "\t<tr><td>white</td><td>female</td><td>child</td><td>sentimentScore</td><td>1886</td><td>-0.047</td><td>0.393</td></tr>\n",
       "\t<tr><td>white</td><td>male  </td><td>adult</td><td>sentimentScore</td><td>1889</td><td>-0.114</td><td>0.361</td></tr>\n",
       "\t<tr><td>white</td><td>male  </td><td>child</td><td>sentimentScore</td><td>1899</td><td>-0.068</td><td>0.396</td></tr>\n",
       "</tbody>\n",
       "</table>\n"
      ],
      "text/latex": [
       "A tibble: 8 × 7\n",
       "\\begin{tabular}{lllllll}\n",
       " ethnicity & sex & age & variable & n & mean & sd\\\\\n",
       " <chr> & <chr> & <chr> & <chr> & <dbl> & <dbl> & <dbl>\\\\\n",
       "\\hline\n",
       "\t bipoc & female & adult & sentimentScore & 1931 & -0.091 & 0.390\\\\\n",
       "\t bipoc & female & child & sentimentScore & 1908 & -0.023 & 0.404\\\\\n",
       "\t bipoc & male   & adult & sentimentScore & 1953 & -0.159 & 0.364\\\\\n",
       "\t bipoc & male   & child & sentimentScore & 1902 & -0.071 & 0.394\\\\\n",
       "\t white & female & adult & sentimentScore & 1908 & -0.140 & 0.377\\\\\n",
       "\t white & female & child & sentimentScore & 1886 & -0.047 & 0.393\\\\\n",
       "\t white & male   & adult & sentimentScore & 1889 & -0.114 & 0.361\\\\\n",
       "\t white & male   & child & sentimentScore & 1899 & -0.068 & 0.396\\\\\n",
       "\\end{tabular}\n"
      ],
      "text/markdown": [
       "\n",
       "A tibble: 8 × 7\n",
       "\n",
       "| ethnicity &lt;chr&gt; | sex &lt;chr&gt; | age &lt;chr&gt; | variable &lt;chr&gt; | n &lt;dbl&gt; | mean &lt;dbl&gt; | sd &lt;dbl&gt; |\n",
       "|---|---|---|---|---|---|---|\n",
       "| bipoc | female | adult | sentimentScore | 1931 | -0.091 | 0.390 |\n",
       "| bipoc | female | child | sentimentScore | 1908 | -0.023 | 0.404 |\n",
       "| bipoc | male   | adult | sentimentScore | 1953 | -0.159 | 0.364 |\n",
       "| bipoc | male   | child | sentimentScore | 1902 | -0.071 | 0.394 |\n",
       "| white | female | adult | sentimentScore | 1908 | -0.140 | 0.377 |\n",
       "| white | female | child | sentimentScore | 1886 | -0.047 | 0.393 |\n",
       "| white | male   | adult | sentimentScore | 1889 | -0.114 | 0.361 |\n",
       "| white | male   | child | sentimentScore | 1899 | -0.068 | 0.396 |\n",
       "\n"
      ],
      "text/plain": [
       "  ethnicity sex    age   variable       n    mean   sd   \n",
       "1 bipoc     female adult sentimentScore 1931 -0.091 0.390\n",
       "2 bipoc     female child sentimentScore 1908 -0.023 0.404\n",
       "3 bipoc     male   adult sentimentScore 1953 -0.159 0.364\n",
       "4 bipoc     male   child sentimentScore 1902 -0.071 0.394\n",
       "5 white     female adult sentimentScore 1908 -0.140 0.377\n",
       "6 white     female child sentimentScore 1886 -0.047 0.393\n",
       "7 white     male   adult sentimentScore 1889 -0.114 0.361\n",
       "8 white     male   child sentimentScore 1899 -0.068 0.396"
      ]
     },
     "metadata": {},
     "output_type": "display_data"
    }
   ],
   "source": [
    "df_free %>%\n",
    "  group_by(ethnicity, sex, age) %>%\n",
    "  get_summary_stats(sentimentScore, type = \"mean_sd\")"
   ]
  },
  {
   "cell_type": "code",
   "execution_count": 139,
   "id": "3b52cba6",
   "metadata": {},
   "outputs": [
    {
     "data": {
      "image/png": "[encoded data removed]",
      "text/plain": [
       "plot without title"
      ]
     },
     "metadata": {
      "image/png": {
       "height": 420,
       "width": 420
      }
     },
     "output_type": "display_data"
    }
   ],
   "source": [
    "bxp_free <- ggboxplot(\n",
    "  df_free, x = \"sex\", y = \"sentimentScore\",\n",
    "  color = \"ethnicity\", palette = \"jco\",\n",
    "  facet.by = \"age\", short.panel.labs = FALSE\n",
    "  )\n",
    "bxp_free"
   ]
  },
  {
   "cell_type": "markdown",
   "id": "37681cb6",
   "metadata": {},
   "source": [
    "### Check assumptions"
   ]
  },
  {
   "cell_type": "markdown",
   "id": "695bc654",
   "metadata": {},
   "source": [
    "#### Outliers"
   ]
  },
  {
   "cell_type": "code",
   "execution_count": 140,
   "id": "3d7792af",
   "metadata": {},
   "outputs": [
    {
     "data": {
      "text/html": [
       "<table class=\"dataframe\">\n",
       "<caption>A data.frame: 0 × 14</caption>\n",
       "<thead>\n",
       "\t<tr><th scope=col>ethnicity</th><th scope=col>sex</th><th scope=col>age</th><th scope=col>participantId</th><th scope=col>photoId</th><th scope=col>emotion</th><th scope=col>label</th><th scope=col>url</th><th scope=col>sentimentScore</th><th scope=col>sexC</th><th scope=col>ageC</th><th scope=col>ethnicityC</th><th scope=col>is.outlier</th><th scope=col>is.extreme</th></tr>\n",
       "\t<tr><th scope=col>&lt;chr&gt;</th><th scope=col>&lt;chr&gt;</th><th scope=col>&lt;chr&gt;</th><th scope=col>&lt;dbl&gt;</th><th scope=col>&lt;chr&gt;</th><th scope=col>&lt;chr&gt;</th><th scope=col>&lt;chr&gt;</th><th scope=col>&lt;chr&gt;</th><th scope=col>&lt;dbl&gt;</th><th scope=col>&lt;dbl&gt;</th><th scope=col>&lt;dbl&gt;</th><th scope=col>&lt;dbl&gt;</th><th scope=col>&lt;lgl&gt;</th><th scope=col>&lt;lgl&gt;</th></tr>\n",
       "</thead>\n",
       "<tbody>\n",
       "</tbody>\n",
       "</table>\n"
      ],
      "text/latex": [
       "A data.frame: 0 × 14\n",
       "\\begin{tabular}{llllllllllllll}\n",
       " ethnicity & sex & age & participantId & photoId & emotion & label & url & sentimentScore & sexC & ageC & ethnicityC & is.outlier & is.extreme\\\\\n",
       " <chr> & <chr> & <chr> & <dbl> & <chr> & <chr> & <chr> & <chr> & <dbl> & <dbl> & <dbl> & <dbl> & <lgl> & <lgl>\\\\\n",
       "\\hline\n",
       "\\end{tabular}\n"
      ],
      "text/markdown": [
       "\n",
       "A data.frame: 0 × 14\n",
       "\n",
       "| ethnicity &lt;chr&gt; | sex &lt;chr&gt; | age &lt;chr&gt; | participantId &lt;dbl&gt; | photoId &lt;chr&gt; | emotion &lt;chr&gt; | label &lt;chr&gt; | url &lt;chr&gt; | sentimentScore &lt;dbl&gt; | sexC &lt;dbl&gt; | ageC &lt;dbl&gt; | ethnicityC &lt;dbl&gt; | is.outlier &lt;lgl&gt; | is.extreme &lt;lgl&gt; |\n",
       "|---|---|---|---|---|---|---|---|---|---|---|---|---|---|\n",
       "\n"
      ],
      "text/plain": [
       "     ethnicity sex age participantId photoId emotion label url sentimentScore\n",
       "     sexC ageC ethnicityC is.outlier is.extreme"
      ]
     },
     "metadata": {},
     "output_type": "display_data"
    }
   ],
   "source": [
    "df_free %>% group_by(ethnicity, sex, age) %>% identify_outliers(sentimentScore)\n",
    "# just one not-extreme outlier"
   ]
  },
  {
   "cell_type": "markdown",
   "id": "f25694c5",
   "metadata": {},
   "source": [
    "#### Normality assumption"
   ]
  },
  {
   "cell_type": "code",
   "execution_count": 141,
   "id": "164b4a2e",
   "metadata": {},
   "outputs": [
    {
     "data": {
      "text/html": [
       "<table class=\"dataframe\">\n",
       "<caption>A tibble: 8 × 6</caption>\n",
       "<thead>\n",
       "\t<tr><th scope=col>ethnicity</th><th scope=col>sex</th><th scope=col>age</th><th scope=col>variable</th><th scope=col>statistic</th><th scope=col>p</th></tr>\n",
       "\t<tr><th scope=col>&lt;chr&gt;</th><th scope=col>&lt;chr&gt;</th><th scope=col>&lt;chr&gt;</th><th scope=col>&lt;chr&gt;</th><th scope=col>&lt;dbl&gt;</th><th scope=col>&lt;dbl&gt;</th></tr>\n",
       "</thead>\n",
       "<tbody>\n",
       "\t<tr><td>bipoc</td><td>female</td><td>adult</td><td>sentimentScore</td><td>0.8912478</td><td>7.001136e-35</td></tr>\n",
       "\t<tr><td>bipoc</td><td>female</td><td>child</td><td>sentimentScore</td><td>0.8911126</td><td>1.012841e-34</td></tr>\n",
       "\t<tr><td>bipoc</td><td>male  </td><td>adult</td><td>sentimentScore</td><td>0.8765328</td><td>8.337878e-37</td></tr>\n",
       "\t<tr><td>bipoc</td><td>male  </td><td>child</td><td>sentimentScore</td><td>0.8867083</td><td>3.249083e-35</td></tr>\n",
       "\t<tr><td>white</td><td>female</td><td>adult</td><td>sentimentScore</td><td>0.8857009</td><td>2.205369e-35</td></tr>\n",
       "\t<tr><td>white</td><td>female</td><td>child</td><td>sentimentScore</td><td>0.8970136</td><td>8.448279e-34</td></tr>\n",
       "\t<tr><td>white</td><td>male  </td><td>adult</td><td>sentimentScore</td><td>0.9064120</td><td>1.487511e-32</td></tr>\n",
       "\t<tr><td>white</td><td>male  </td><td>child</td><td>sentimentScore</td><td>0.8923242</td><td>1.686399e-34</td></tr>\n",
       "</tbody>\n",
       "</table>\n"
      ],
      "text/latex": [
       "A tibble: 8 × 6\n",
       "\\begin{tabular}{llllll}\n",
       " ethnicity & sex & age & variable & statistic & p\\\\\n",
       " <chr> & <chr> & <chr> & <chr> & <dbl> & <dbl>\\\\\n",
       "\\hline\n",
       "\t bipoc & female & adult & sentimentScore & 0.8912478 & 7.001136e-35\\\\\n",
       "\t bipoc & female & child & sentimentScore & 0.8911126 & 1.012841e-34\\\\\n",
       "\t bipoc & male   & adult & sentimentScore & 0.8765328 & 8.337878e-37\\\\\n",
       "\t bipoc & male   & child & sentimentScore & 0.8867083 & 3.249083e-35\\\\\n",
       "\t white & female & adult & sentimentScore & 0.8857009 & 2.205369e-35\\\\\n",
       "\t white & female & child & sentimentScore & 0.8970136 & 8.448279e-34\\\\\n",
       "\t white & male   & adult & sentimentScore & 0.9064120 & 1.487511e-32\\\\\n",
       "\t white & male   & child & sentimentScore & 0.8923242 & 1.686399e-34\\\\\n",
       "\\end{tabular}\n"
      ],
      "text/markdown": [
       "\n",
       "A tibble: 8 × 6\n",
       "\n",
       "| ethnicity &lt;chr&gt; | sex &lt;chr&gt; | age &lt;chr&gt; | variable &lt;chr&gt; | statistic &lt;dbl&gt; | p &lt;dbl&gt; |\n",
       "|---|---|---|---|---|---|\n",
       "| bipoc | female | adult | sentimentScore | 0.8912478 | 7.001136e-35 |\n",
       "| bipoc | female | child | sentimentScore | 0.8911126 | 1.012841e-34 |\n",
       "| bipoc | male   | adult | sentimentScore | 0.8765328 | 8.337878e-37 |\n",
       "| bipoc | male   | child | sentimentScore | 0.8867083 | 3.249083e-35 |\n",
       "| white | female | adult | sentimentScore | 0.8857009 | 2.205369e-35 |\n",
       "| white | female | child | sentimentScore | 0.8970136 | 8.448279e-34 |\n",
       "| white | male   | adult | sentimentScore | 0.9064120 | 1.487511e-32 |\n",
       "| white | male   | child | sentimentScore | 0.8923242 | 1.686399e-34 |\n",
       "\n"
      ],
      "text/plain": [
       "  ethnicity sex    age   variable       statistic p           \n",
       "1 bipoc     female adult sentimentScore 0.8912478 7.001136e-35\n",
       "2 bipoc     female child sentimentScore 0.8911126 1.012841e-34\n",
       "3 bipoc     male   adult sentimentScore 0.8765328 8.337878e-37\n",
       "4 bipoc     male   child sentimentScore 0.8867083 3.249083e-35\n",
       "5 white     female adult sentimentScore 0.8857009 2.205369e-35\n",
       "6 white     female child sentimentScore 0.8970136 8.448279e-34\n",
       "7 white     male   adult sentimentScore 0.9064120 1.487511e-32\n",
       "8 white     male   child sentimentScore 0.8923242 1.686399e-34"
      ]
     },
     "metadata": {},
     "output_type": "display_data"
    }
   ],
   "source": [
    "# Compute Shapiro-Wilk test for each combinations of factor levels\n",
    "\n",
    "df_free %>%\n",
    "  group_by(ethnicity, sex, age) %>%\n",
    "  shapiro_test(sentimentScore)"
   ]
  },
  {
   "cell_type": "markdown",
   "id": "ea1dc327",
   "metadata": {},
   "source": [
    "#### QQ plot "
   ]
  },
  {
   "cell_type": "code",
   "execution_count": 142,
   "id": "6063d05e",
   "metadata": {},
   "outputs": [
    {
     "data": {
      "image/png": "[encoded data removed]",
      "text/plain": [
       "plot without title"
      ]
     },
     "metadata": {
      "image/png": {
       "height": 420,
       "width": 420
      }
     },
     "output_type": "display_data"
    }
   ],
   "source": [
    "ggqqplot(df_free, \"sentimentScore\", ggtheme = theme_bw()) +\n",
    "  facet_grid(sex + ethnicity ~ age, labeller = \"label_both\")"
   ]
  },
  {
   "cell_type": "markdown",
   "id": "4a40e205",
   "metadata": {},
   "source": [
    "**Not normally distributed**"
   ]
  },
  {
   "cell_type": "markdown",
   "id": "8dc5d447",
   "metadata": {},
   "source": [
    "## Anova 2x2x2 computation \n"
   ]
  },
  {
   "cell_type": "code",
   "execution_count": 143,
   "id": "2c2c9660",
   "metadata": {},
   "outputs": [
    {
     "data": {
      "text/html": [
       "<table class=\"dataframe\">\n",
       "<caption>A tibble: 6 × 5</caption>\n",
       "<thead>\n",
       "\t<tr><th scope=col>participantId</th><th scope=col>sex</th><th scope=col>age</th><th scope=col>ethnicity</th><th scope=col>sentimentScore</th></tr>\n",
       "\t<tr><th scope=col>&lt;fct&gt;</th><th scope=col>&lt;fct&gt;</th><th scope=col>&lt;fct&gt;</th><th scope=col>&lt;fct&gt;</th><th scope=col>&lt;dbl&gt;</th></tr>\n",
       "</thead>\n",
       "<tbody>\n",
       "\t<tr><td>0</td><td>female</td><td>adult</td><td>bipoc</td><td>-0.3182</td></tr>\n",
       "\t<tr><td>0</td><td>male  </td><td>adult</td><td>bipoc</td><td>-0.3182</td></tr>\n",
       "\t<tr><td>0</td><td>male  </td><td>adult</td><td>bipoc</td><td>-0.5719</td></tr>\n",
       "\t<tr><td>0</td><td>male  </td><td>adult</td><td>bipoc</td><td> 0.2732</td></tr>\n",
       "\t<tr><td>0</td><td>male  </td><td>adult</td><td>bipoc</td><td> 0.2732</td></tr>\n",
       "\t<tr><td>0</td><td>male  </td><td>adult</td><td>bipoc</td><td>-0.5719</td></tr>\n",
       "</tbody>\n",
       "</table>\n"
      ],
      "text/latex": [
       "A tibble: 6 × 5\n",
       "\\begin{tabular}{lllll}\n",
       " participantId & sex & age & ethnicity & sentimentScore\\\\\n",
       " <fct> & <fct> & <fct> & <fct> & <dbl>\\\\\n",
       "\\hline\n",
       "\t 0 & female & adult & bipoc & -0.3182\\\\\n",
       "\t 0 & male   & adult & bipoc & -0.3182\\\\\n",
       "\t 0 & male   & adult & bipoc & -0.5719\\\\\n",
       "\t 0 & male   & adult & bipoc &  0.2732\\\\\n",
       "\t 0 & male   & adult & bipoc &  0.2732\\\\\n",
       "\t 0 & male   & adult & bipoc & -0.5719\\\\\n",
       "\\end{tabular}\n"
      ],
      "text/markdown": [
       "\n",
       "A tibble: 6 × 5\n",
       "\n",
       "| participantId &lt;fct&gt; | sex &lt;fct&gt; | age &lt;fct&gt; | ethnicity &lt;fct&gt; | sentimentScore &lt;dbl&gt; |\n",
       "|---|---|---|---|---|\n",
       "| 0 | female | adult | bipoc | -0.3182 |\n",
       "| 0 | male   | adult | bipoc | -0.3182 |\n",
       "| 0 | male   | adult | bipoc | -0.5719 |\n",
       "| 0 | male   | adult | bipoc |  0.2732 |\n",
       "| 0 | male   | adult | bipoc |  0.2732 |\n",
       "| 0 | male   | adult | bipoc | -0.5719 |\n",
       "\n"
      ],
      "text/plain": [
       "  participantId sex    age   ethnicity sentimentScore\n",
       "1 0             female adult bipoc     -0.3182       \n",
       "2 0             male   adult bipoc     -0.3182       \n",
       "3 0             male   adult bipoc     -0.5719       \n",
       "4 0             male   adult bipoc      0.2732       \n",
       "5 0             male   adult bipoc      0.2732       \n",
       "6 0             male   adult bipoc     -0.5719       "
      ]
     },
     "metadata": {},
     "output_type": "display_data"
    }
   ],
   "source": [
    "df_long_free = df_free %>% select(participantId, sex, age, ethnicity, sentimentScore)\n",
    "df_long_free = df_long_free %>% convert_as_factor(participantId, sex, age, ethnicity)\n",
    "head(df_long_free)"
   ]
  },
  {
   "cell_type": "code",
   "execution_count": 144,
   "id": "808149b4",
   "metadata": {},
   "outputs": [
    {
     "name": "stderr",
     "output_type": "stream",
     "text": [
      "Warning message:\n",
      "“Collapsing data to cell means. *IF* the requested effects are a subset of the full design, you must use the \"within_full\" argument, else results may be inaccurate.”\n"
     ]
    },
    {
     "data": {
      "text/html": [
       "<strong>$ANOVA</strong> = <table class=\"dataframe\">\n",
       "<caption>A data.frame: 7 × 7</caption>\n",
       "<thead>\n",
       "\t<tr><th></th><th scope=col>Effect</th><th scope=col>DFn</th><th scope=col>DFd</th><th scope=col>F</th><th scope=col>p</th><th scope=col>p&lt;.05</th><th scope=col>ges</th></tr>\n",
       "\t<tr><th></th><th scope=col>&lt;chr&gt;</th><th scope=col>&lt;dbl&gt;</th><th scope=col>&lt;dbl&gt;</th><th scope=col>&lt;dbl&gt;</th><th scope=col>&lt;dbl&gt;</th><th scope=col>&lt;chr&gt;</th><th scope=col>&lt;dbl&gt;</th></tr>\n",
       "</thead>\n",
       "<tbody>\n",
       "\t<tr><th scope=row>2</th><td>sex              </td><td>1</td><td>49</td><td>18.799583</td><td>7.210064e-05</td><td>*</td><td>0.021053255</td></tr>\n",
       "\t<tr><th scope=row>3</th><td>age              </td><td>1</td><td>49</td><td>97.962728</td><td>2.829848e-13</td><td>*</td><td>0.118577260</td></tr>\n",
       "\t<tr><th scope=row>4</th><td>ethnicity        </td><td>1</td><td>49</td><td> 3.623701</td><td>6.284403e-02</td><td> </td><td>0.003446383</td></tr>\n",
       "\t<tr><th scope=row>5</th><td>sex:age          </td><td>1</td><td>49</td><td> 4.530234</td><td>3.835453e-02</td><td>*</td><td>0.002600076</td></tr>\n",
       "\t<tr><th scope=row>6</th><td>sex:ethnicity    </td><td>1</td><td>49</td><td>32.751555</td><td>6.236788e-07</td><td>*</td><td>0.023386960</td></tr>\n",
       "\t<tr><th scope=row>7</th><td>age:ethnicity    </td><td>1</td><td>49</td><td> 4.068985</td><td>4.917320e-02</td><td>*</td><td>0.003215711</td></tr>\n",
       "\t<tr><th scope=row>8</th><td>sex:age:ethnicity</td><td>1</td><td>49</td><td> 6.912040</td><td>1.140498e-02</td><td>*</td><td>0.007216048</td></tr>\n",
       "</tbody>\n",
       "</table>\n"
      ],
      "text/latex": [
       "\\textbf{\\$ANOVA} = A data.frame: 7 × 7\n",
       "\\begin{tabular}{r|lllllll}\n",
       "  & Effect & DFn & DFd & F & p & p<.05 & ges\\\\\n",
       "  & <chr> & <dbl> & <dbl> & <dbl> & <dbl> & <chr> & <dbl>\\\\\n",
       "\\hline\n",
       "\t2 & sex               & 1 & 49 & 18.799583 & 7.210064e-05 & * & 0.021053255\\\\\n",
       "\t3 & age               & 1 & 49 & 97.962728 & 2.829848e-13 & * & 0.118577260\\\\\n",
       "\t4 & ethnicity         & 1 & 49 &  3.623701 & 6.284403e-02 &   & 0.003446383\\\\\n",
       "\t5 & sex:age           & 1 & 49 &  4.530234 & 3.835453e-02 & * & 0.002600076\\\\\n",
       "\t6 & sex:ethnicity     & 1 & 49 & 32.751555 & 6.236788e-07 & * & 0.023386960\\\\\n",
       "\t7 & age:ethnicity     & 1 & 49 &  4.068985 & 4.917320e-02 & * & 0.003215711\\\\\n",
       "\t8 & sex:age:ethnicity & 1 & 49 &  6.912040 & 1.140498e-02 & * & 0.007216048\\\\\n",
       "\\end{tabular}\n"
      ],
      "text/markdown": [
       "**$ANOVA** = \n",
       "A data.frame: 7 × 7\n",
       "\n",
       "| <!--/--> | Effect &lt;chr&gt; | DFn &lt;dbl&gt; | DFd &lt;dbl&gt; | F &lt;dbl&gt; | p &lt;dbl&gt; | p&lt;.05 &lt;chr&gt; | ges &lt;dbl&gt; |\n",
       "|---|---|---|---|---|---|---|---|\n",
       "| 2 | sex               | 1 | 49 | 18.799583 | 7.210064e-05 | * | 0.021053255 |\n",
       "| 3 | age               | 1 | 49 | 97.962728 | 2.829848e-13 | * | 0.118577260 |\n",
       "| 4 | ethnicity         | 1 | 49 |  3.623701 | 6.284403e-02 | <!----> | 0.003446383 |\n",
       "| 5 | sex:age           | 1 | 49 |  4.530234 | 3.835453e-02 | * | 0.002600076 |\n",
       "| 6 | sex:ethnicity     | 1 | 49 | 32.751555 | 6.236788e-07 | * | 0.023386960 |\n",
       "| 7 | age:ethnicity     | 1 | 49 |  4.068985 | 4.917320e-02 | * | 0.003215711 |\n",
       "| 8 | sex:age:ethnicity | 1 | 49 |  6.912040 | 1.140498e-02 | * | 0.007216048 |\n",
       "\n"
      ],
      "text/plain": [
       "$ANOVA\n",
       "             Effect DFn DFd         F            p p<.05         ges\n",
       "2               sex   1  49 18.799583 7.210064e-05     * 0.021053255\n",
       "3               age   1  49 97.962728 2.829848e-13     * 0.118577260\n",
       "4         ethnicity   1  49  3.623701 6.284403e-02       0.003446383\n",
       "5           sex:age   1  49  4.530234 3.835453e-02     * 0.002600076\n",
       "6     sex:ethnicity   1  49 32.751555 6.236788e-07     * 0.023386960\n",
       "7     age:ethnicity   1  49  4.068985 4.917320e-02     * 0.003215711\n",
       "8 sex:age:ethnicity   1  49  6.912040 1.140498e-02     * 0.007216048\n"
      ]
     },
     "metadata": {},
     "output_type": "display_data"
    }
   ],
   "source": [
    "res.aov  = ezANOVA(data=df_long_free, wid=.(participantId), dv=.(sentimentScore), within=.(sex, age, ethnicity))\n",
    "res.aov  "
   ]
  },
  {
   "cell_type": "markdown",
   "id": "e72d52b4",
   "metadata": {},
   "source": [
    "The three-way interactions between age, sex, and ethnicity, is significant, Anova, $F$(1, 49) = 6.91, $p$ < 0.01, $\\eta^2_{g}=0.007$"
   ]
  },
  {
   "cell_type": "markdown",
   "id": "c9ed156c",
   "metadata": {},
   "source": [
    "### Post-hoc tests\n"
   ]
  },
  {
   "cell_type": "markdown",
   "id": "c6a87618",
   "metadata": {},
   "source": [
    "#### simple two-way interaction"
   ]
  },
  {
   "cell_type": "code",
   "execution_count": 145,
   "id": "02805204",
   "metadata": {},
   "outputs": [],
   "source": [
    "df_free_adult = df_free %>% filter(age=='adult')\n",
    "df_free_child = df_free %>% filter(age=='child')"
   ]
  },
  {
   "cell_type": "code",
   "execution_count": 146,
   "id": "57c73588",
   "metadata": {},
   "outputs": [
    {
     "name": "stderr",
     "output_type": "stream",
     "text": [
      "Warning message:\n",
      "“Converting \"participantId\" to factor for ANOVA.”\n",
      "Warning message:\n",
      "“Converting \"sex\" to factor for ANOVA.”\n",
      "Warning message:\n",
      "“Converting \"ethnicity\" to factor for ANOVA.”\n",
      "Warning message:\n",
      "“Collapsing data to cell means. *IF* the requested effects are a subset of the full design, you must use the \"within_full\" argument, else results may be inaccurate.”\n",
      "Warning message:\n",
      "“Converting \"participantId\" to factor for ANOVA.”\n",
      "Warning message:\n",
      "“Converting \"sex\" to factor for ANOVA.”\n",
      "Warning message:\n",
      "“Converting \"ethnicity\" to factor for ANOVA.”\n",
      "Warning message:\n",
      "“Collapsing data to cell means. *IF* the requested effects are a subset of the full design, you must use the \"within_full\" argument, else results may be inaccurate.”\n"
     ]
    }
   ],
   "source": [
    "free_adult.twoway  = ezANOVA(data=df_free_adult, wid=.(participantId), dv= .(sentimentScore), within=.(sex, ethnicity))\n",
    "free_child.twoway  = ezANOVA(data=df_free_child, wid=.(participantId), dv= .(sentimentScore), within=.(sex, ethnicity))"
   ]
  },
  {
   "cell_type": "code",
   "execution_count": 147,
   "id": "37e6f918",
   "metadata": {},
   "outputs": [
    {
     "data": {
      "text/html": [
       "<strong>$ANOVA</strong> = <table class=\"dataframe\">\n",
       "<caption>A data.frame: 3 × 7</caption>\n",
       "<thead>\n",
       "\t<tr><th></th><th scope=col>Effect</th><th scope=col>DFn</th><th scope=col>DFd</th><th scope=col>F</th><th scope=col>p</th><th scope=col>p&lt;.05</th><th scope=col>ges</th></tr>\n",
       "\t<tr><th></th><th scope=col>&lt;chr&gt;</th><th scope=col>&lt;dbl&gt;</th><th scope=col>&lt;dbl&gt;</th><th scope=col>&lt;dbl&gt;</th><th scope=col>&lt;dbl&gt;</th><th scope=col>&lt;chr&gt;</th><th scope=col>&lt;dbl&gt;</th></tr>\n",
       "</thead>\n",
       "<tbody>\n",
       "\t<tr><th scope=row>2</th><td>sex          </td><td>1</td><td>49</td><td> 8.125008329</td><td>6.370744e-03</td><td>*</td><td>1.243957e-02</td></tr>\n",
       "\t<tr><th scope=row>3</th><td>ethnicity    </td><td>1</td><td>49</td><td> 0.003740261</td><td>9.514824e-01</td><td> </td><td>5.561871e-06</td></tr>\n",
       "\t<tr><th scope=row>4</th><td>sex:ethnicity</td><td>1</td><td>49</td><td>31.245499694</td><td>9.964392e-07</td><td>*</td><td>7.356160e-02</td></tr>\n",
       "</tbody>\n",
       "</table>\n"
      ],
      "text/latex": [
       "\\textbf{\\$ANOVA} = A data.frame: 3 × 7\n",
       "\\begin{tabular}{r|lllllll}\n",
       "  & Effect & DFn & DFd & F & p & p<.05 & ges\\\\\n",
       "  & <chr> & <dbl> & <dbl> & <dbl> & <dbl> & <chr> & <dbl>\\\\\n",
       "\\hline\n",
       "\t2 & sex           & 1 & 49 &  8.125008329 & 6.370744e-03 & * & 1.243957e-02\\\\\n",
       "\t3 & ethnicity     & 1 & 49 &  0.003740261 & 9.514824e-01 &   & 5.561871e-06\\\\\n",
       "\t4 & sex:ethnicity & 1 & 49 & 31.245499694 & 9.964392e-07 & * & 7.356160e-02\\\\\n",
       "\\end{tabular}\n"
      ],
      "text/markdown": [
       "**$ANOVA** = \n",
       "A data.frame: 3 × 7\n",
       "\n",
       "| <!--/--> | Effect &lt;chr&gt; | DFn &lt;dbl&gt; | DFd &lt;dbl&gt; | F &lt;dbl&gt; | p &lt;dbl&gt; | p&lt;.05 &lt;chr&gt; | ges &lt;dbl&gt; |\n",
       "|---|---|---|---|---|---|---|---|\n",
       "| 2 | sex           | 1 | 49 |  8.125008329 | 6.370744e-03 | * | 1.243957e-02 |\n",
       "| 3 | ethnicity     | 1 | 49 |  0.003740261 | 9.514824e-01 | <!----> | 5.561871e-06 |\n",
       "| 4 | sex:ethnicity | 1 | 49 | 31.245499694 | 9.964392e-07 | * | 7.356160e-02 |\n",
       "\n"
      ],
      "text/plain": [
       "$ANOVA\n",
       "         Effect DFn DFd            F            p p<.05          ges\n",
       "2           sex   1  49  8.125008329 6.370744e-03     * 1.243957e-02\n",
       "3     ethnicity   1  49  0.003740261 9.514824e-01       5.561871e-06\n",
       "4 sex:ethnicity   1  49 31.245499694 9.964392e-07     * 7.356160e-02\n"
      ]
     },
     "metadata": {},
     "output_type": "display_data"
    }
   ],
   "source": [
    "free_adult.twoway"
   ]
  },
  {
   "cell_type": "code",
   "execution_count": 148,
   "id": "13b18c04",
   "metadata": {},
   "outputs": [
    {
     "data": {
      "text/html": [
       "<strong>$ANOVA</strong> = <table class=\"dataframe\">\n",
       "<caption>A data.frame: 3 × 7</caption>\n",
       "<thead>\n",
       "\t<tr><th></th><th scope=col>Effect</th><th scope=col>DFn</th><th scope=col>DFd</th><th scope=col>F</th><th scope=col>p</th><th scope=col>p&lt;.05</th><th scope=col>ges</th></tr>\n",
       "\t<tr><th></th><th scope=col>&lt;chr&gt;</th><th scope=col>&lt;dbl&gt;</th><th scope=col>&lt;dbl&gt;</th><th scope=col>&lt;dbl&gt;</th><th scope=col>&lt;dbl&gt;</th><th scope=col>&lt;chr&gt;</th><th scope=col>&lt;dbl&gt;</th></tr>\n",
       "</thead>\n",
       "<tbody>\n",
       "\t<tr><th scope=row>2</th><td>sex          </td><td>1</td><td>49</td><td>16.890904</td><td>0.0001502439</td><td>*</td><td>0.029755252</td></tr>\n",
       "\t<tr><th scope=row>3</th><td>ethnicity    </td><td>1</td><td>49</td><td> 5.532557</td><td>0.0227281228</td><td>*</td><td>0.010376953</td></tr>\n",
       "\t<tr><th scope=row>4</th><td>sex:ethnicity</td><td>1</td><td>49</td><td> 2.804497</td><td>0.1003721035</td><td> </td><td>0.003774643</td></tr>\n",
       "</tbody>\n",
       "</table>\n"
      ],
      "text/latex": [
       "\\textbf{\\$ANOVA} = A data.frame: 3 × 7\n",
       "\\begin{tabular}{r|lllllll}\n",
       "  & Effect & DFn & DFd & F & p & p<.05 & ges\\\\\n",
       "  & <chr> & <dbl> & <dbl> & <dbl> & <dbl> & <chr> & <dbl>\\\\\n",
       "\\hline\n",
       "\t2 & sex           & 1 & 49 & 16.890904 & 0.0001502439 & * & 0.029755252\\\\\n",
       "\t3 & ethnicity     & 1 & 49 &  5.532557 & 0.0227281228 & * & 0.010376953\\\\\n",
       "\t4 & sex:ethnicity & 1 & 49 &  2.804497 & 0.1003721035 &   & 0.003774643\\\\\n",
       "\\end{tabular}\n"
      ],
      "text/markdown": [
       "**$ANOVA** = \n",
       "A data.frame: 3 × 7\n",
       "\n",
       "| <!--/--> | Effect &lt;chr&gt; | DFn &lt;dbl&gt; | DFd &lt;dbl&gt; | F &lt;dbl&gt; | p &lt;dbl&gt; | p&lt;.05 &lt;chr&gt; | ges &lt;dbl&gt; |\n",
       "|---|---|---|---|---|---|---|---|\n",
       "| 2 | sex           | 1 | 49 | 16.890904 | 0.0001502439 | * | 0.029755252 |\n",
       "| 3 | ethnicity     | 1 | 49 |  5.532557 | 0.0227281228 | * | 0.010376953 |\n",
       "| 4 | sex:ethnicity | 1 | 49 |  2.804497 | 0.1003721035 | <!----> | 0.003774643 |\n",
       "\n"
      ],
      "text/plain": [
       "$ANOVA\n",
       "         Effect DFn DFd         F            p p<.05         ges\n",
       "2           sex   1  49 16.890904 0.0001502439     * 0.029755252\n",
       "3     ethnicity   1  49  5.532557 0.0227281228     * 0.010376953\n",
       "4 sex:ethnicity   1  49  2.804497 0.1003721035       0.003774643\n"
      ]
     },
     "metadata": {},
     "output_type": "display_data"
    }
   ],
   "source": [
    "free_child.twoway"
   ]
  },
  {
   "cell_type": "markdown",
   "id": "7a22b062",
   "metadata": {},
   "source": [
    "There is statistically significant simple two-way interaction between **sex** and **ethnicity** for \"adults\", F(1, 49) = 31.25, p < 0.0001, but not for \"childrens\", F(1, 49) = 2.8,  p = 0.1"
   ]
  },
  {
   "cell_type": "markdown",
   "id": "737b657f",
   "metadata": {},
   "source": [
    "#### Simple main effect"
   ]
  },
  {
   "cell_type": "code",
   "execution_count": 149,
   "id": "a035809e",
   "metadata": {},
   "outputs": [],
   "source": [
    "df_free_adult_male = df_free_adult %>% filter(sex=='male')\n",
    "df_free_adult_female = df_free_adult %>% filter(sex=='female')\n",
    "df_free_child_male = df_free_child %>% filter(sex=='male')\n",
    "df_free_child_female = df_free_child %>% filter(sex=='female')"
   ]
  },
  {
   "cell_type": "code",
   "execution_count": 150,
   "id": "f7513438",
   "metadata": {},
   "outputs": [
    {
     "name": "stderr",
     "output_type": "stream",
     "text": [
      "Warning message:\n",
      "“Converting \"participantId\" to factor for ANOVA.”\n",
      "Warning message:\n",
      "“Converting \"ethnicity\" to factor for ANOVA.”\n",
      "Warning message:\n",
      "“Collapsing data to cell means. *IF* the requested effects are a subset of the full design, you must use the \"within_full\" argument, else results may be inaccurate.”\n",
      "Warning message:\n",
      "“Converting \"participantId\" to factor for ANOVA.”\n",
      "Warning message:\n",
      "“Converting \"ethnicity\" to factor for ANOVA.”\n",
      "Warning message:\n",
      "“Collapsing data to cell means. *IF* the requested effects are a subset of the full design, you must use the \"within_full\" argument, else results may be inaccurate.”\n",
      "Warning message:\n",
      "“Converting \"participantId\" to factor for ANOVA.”\n",
      "Warning message:\n",
      "“Converting \"ethnicity\" to factor for ANOVA.”\n",
      "Warning message:\n",
      "“Collapsing data to cell means. *IF* the requested effects are a subset of the full design, you must use the \"within_full\" argument, else results may be inaccurate.”\n",
      "Warning message:\n",
      "“Converting \"participantId\" to factor for ANOVA.”\n",
      "Warning message:\n",
      "“Converting \"ethnicity\" to factor for ANOVA.”\n",
      "Warning message:\n",
      "“Collapsing data to cell means. *IF* the requested effects are a subset of the full design, you must use the \"within_full\" argument, else results may be inaccurate.”\n"
     ]
    }
   ],
   "source": [
    "free_adult_male.main  = ezANOVA(data=df_free_adult_male, wid=.(participantId), dv= .(sentimentScore), within=.(ethnicity))\n",
    "free_adult_female.main  = ezANOVA(data=df_free_adult_female, wid=.(participantId), dv= .(sentimentScore), within=.(ethnicity))\n",
    "free_child_male.main  = ezANOVA(data=df_free_child_male, wid=.(participantId), dv= .(sentimentScore), within=.(ethnicity))\n",
    "free_child_female.main  = ezANOVA(data=df_free_child_female, wid=.(participantId), dv= .(sentimentScore), within=.(ethnicity))"
   ]
  },
  {
   "cell_type": "code",
   "execution_count": 151,
   "id": "afa194cd",
   "metadata": {},
   "outputs": [
    {
     "data": {
      "text/html": [
       "<strong>$ANOVA</strong> = <table class=\"dataframe\">\n",
       "<caption>A data.frame: 1 × 7</caption>\n",
       "<thead>\n",
       "\t<tr><th></th><th scope=col>Effect</th><th scope=col>DFn</th><th scope=col>DFd</th><th scope=col>F</th><th scope=col>p</th><th scope=col>p&lt;.05</th><th scope=col>ges</th></tr>\n",
       "\t<tr><th></th><th scope=col>&lt;chr&gt;</th><th scope=col>&lt;dbl&gt;</th><th scope=col>&lt;dbl&gt;</th><th scope=col>&lt;dbl&gt;</th><th scope=col>&lt;dbl&gt;</th><th scope=col>&lt;chr&gt;</th><th scope=col>&lt;dbl&gt;</th></tr>\n",
       "</thead>\n",
       "<tbody>\n",
       "\t<tr><th scope=row>2</th><td>ethnicity</td><td>1</td><td>49</td><td>36.23304</td><td>2.184859e-07</td><td>*</td><td>0.08781556</td></tr>\n",
       "</tbody>\n",
       "</table>\n"
      ],
      "text/latex": [
       "\\textbf{\\$ANOVA} = A data.frame: 1 × 7\n",
       "\\begin{tabular}{r|lllllll}\n",
       "  & Effect & DFn & DFd & F & p & p<.05 & ges\\\\\n",
       "  & <chr> & <dbl> & <dbl> & <dbl> & <dbl> & <chr> & <dbl>\\\\\n",
       "\\hline\n",
       "\t2 & ethnicity & 1 & 49 & 36.23304 & 2.184859e-07 & * & 0.08781556\\\\\n",
       "\\end{tabular}\n"
      ],
      "text/markdown": [
       "**$ANOVA** = \n",
       "A data.frame: 1 × 7\n",
       "\n",
       "| <!--/--> | Effect &lt;chr&gt; | DFn &lt;dbl&gt; | DFd &lt;dbl&gt; | F &lt;dbl&gt; | p &lt;dbl&gt; | p&lt;.05 &lt;chr&gt; | ges &lt;dbl&gt; |\n",
       "|---|---|---|---|---|---|---|---|\n",
       "| 2 | ethnicity | 1 | 49 | 36.23304 | 2.184859e-07 | * | 0.08781556 |\n",
       "\n"
      ],
      "text/plain": [
       "$ANOVA\n",
       "     Effect DFn DFd        F            p p<.05        ges\n",
       "2 ethnicity   1  49 36.23304 2.184859e-07     * 0.08781556\n"
      ]
     },
     "metadata": {},
     "output_type": "display_data"
    }
   ],
   "source": [
    "free_adult_male.main  "
   ]
  },
  {
   "cell_type": "code",
   "execution_count": 152,
   "id": "184021dd",
   "metadata": {},
   "outputs": [
    {
     "data": {
      "text/html": [
       "<strong>$ANOVA</strong> = <table class=\"dataframe\">\n",
       "<caption>A data.frame: 1 × 7</caption>\n",
       "<thead>\n",
       "\t<tr><th></th><th scope=col>Effect</th><th scope=col>DFn</th><th scope=col>DFd</th><th scope=col>F</th><th scope=col>p</th><th scope=col>p&lt;.05</th><th scope=col>ges</th></tr>\n",
       "\t<tr><th></th><th scope=col>&lt;chr&gt;</th><th scope=col>&lt;dbl&gt;</th><th scope=col>&lt;dbl&gt;</th><th scope=col>&lt;dbl&gt;</th><th scope=col>&lt;dbl&gt;</th><th scope=col>&lt;chr&gt;</th><th scope=col>&lt;dbl&gt;</th></tr>\n",
       "</thead>\n",
       "<tbody>\n",
       "\t<tr><th scope=row>2</th><td>ethnicity</td><td>1</td><td>49</td><td>13.68044</td><td>0.000547863</td><td>*</td><td>0.0635881</td></tr>\n",
       "</tbody>\n",
       "</table>\n"
      ],
      "text/latex": [
       "\\textbf{\\$ANOVA} = A data.frame: 1 × 7\n",
       "\\begin{tabular}{r|lllllll}\n",
       "  & Effect & DFn & DFd & F & p & p<.05 & ges\\\\\n",
       "  & <chr> & <dbl> & <dbl> & <dbl> & <dbl> & <chr> & <dbl>\\\\\n",
       "\\hline\n",
       "\t2 & ethnicity & 1 & 49 & 13.68044 & 0.000547863 & * & 0.0635881\\\\\n",
       "\\end{tabular}\n"
      ],
      "text/markdown": [
       "**$ANOVA** = \n",
       "A data.frame: 1 × 7\n",
       "\n",
       "| <!--/--> | Effect &lt;chr&gt; | DFn &lt;dbl&gt; | DFd &lt;dbl&gt; | F &lt;dbl&gt; | p &lt;dbl&gt; | p&lt;.05 &lt;chr&gt; | ges &lt;dbl&gt; |\n",
       "|---|---|---|---|---|---|---|---|\n",
       "| 2 | ethnicity | 1 | 49 | 13.68044 | 0.000547863 | * | 0.0635881 |\n",
       "\n"
      ],
      "text/plain": [
       "$ANOVA\n",
       "     Effect DFn DFd        F           p p<.05       ges\n",
       "2 ethnicity   1  49 13.68044 0.000547863     * 0.0635881\n"
      ]
     },
     "metadata": {},
     "output_type": "display_data"
    }
   ],
   "source": [
    "free_adult_female.main"
   ]
  },
  {
   "cell_type": "code",
   "execution_count": 153,
   "id": "2c7acef4",
   "metadata": {},
   "outputs": [
    {
     "data": {
      "text/html": [
       "<strong>$ANOVA</strong> = <table class=\"dataframe\">\n",
       "<caption>A data.frame: 1 × 7</caption>\n",
       "<thead>\n",
       "\t<tr><th></th><th scope=col>Effect</th><th scope=col>DFn</th><th scope=col>DFd</th><th scope=col>F</th><th scope=col>p</th><th scope=col>p&lt;.05</th><th scope=col>ges</th></tr>\n",
       "\t<tr><th></th><th scope=col>&lt;chr&gt;</th><th scope=col>&lt;dbl&gt;</th><th scope=col>&lt;dbl&gt;</th><th scope=col>&lt;dbl&gt;</th><th scope=col>&lt;dbl&gt;</th><th scope=col>&lt;chr&gt;</th><th scope=col>&lt;dbl&gt;</th></tr>\n",
       "</thead>\n",
       "<tbody>\n",
       "\t<tr><th scope=row>2</th><td>ethnicity</td><td>1</td><td>49</td><td>0.5733771</td><td>0.452546</td><td></td><td>0.00181172</td></tr>\n",
       "</tbody>\n",
       "</table>\n"
      ],
      "text/latex": [
       "\\textbf{\\$ANOVA} = A data.frame: 1 × 7\n",
       "\\begin{tabular}{r|lllllll}\n",
       "  & Effect & DFn & DFd & F & p & p<.05 & ges\\\\\n",
       "  & <chr> & <dbl> & <dbl> & <dbl> & <dbl> & <chr> & <dbl>\\\\\n",
       "\\hline\n",
       "\t2 & ethnicity & 1 & 49 & 0.5733771 & 0.452546 &  & 0.00181172\\\\\n",
       "\\end{tabular}\n"
      ],
      "text/markdown": [
       "**$ANOVA** = \n",
       "A data.frame: 1 × 7\n",
       "\n",
       "| <!--/--> | Effect &lt;chr&gt; | DFn &lt;dbl&gt; | DFd &lt;dbl&gt; | F &lt;dbl&gt; | p &lt;dbl&gt; | p&lt;.05 &lt;chr&gt; | ges &lt;dbl&gt; |\n",
       "|---|---|---|---|---|---|---|---|\n",
       "| 2 | ethnicity | 1 | 49 | 0.5733771 | 0.452546 | <!----> | 0.00181172 |\n",
       "\n"
      ],
      "text/plain": [
       "$ANOVA\n",
       "     Effect DFn DFd         F        p p<.05        ges\n",
       "2 ethnicity   1  49 0.5733771 0.452546       0.00181172\n"
      ]
     },
     "metadata": {},
     "output_type": "display_data"
    }
   ],
   "source": [
    "free_child_male.main  "
   ]
  },
  {
   "cell_type": "code",
   "execution_count": 154,
   "id": "449d107d",
   "metadata": {},
   "outputs": [
    {
     "data": {
      "text/html": [
       "<strong>$ANOVA</strong> = <table class=\"dataframe\">\n",
       "<caption>A data.frame: 1 × 7</caption>\n",
       "<thead>\n",
       "\t<tr><th></th><th scope=col>Effect</th><th scope=col>DFn</th><th scope=col>DFd</th><th scope=col>F</th><th scope=col>p</th><th scope=col>p&lt;.05</th><th scope=col>ges</th></tr>\n",
       "\t<tr><th></th><th scope=col>&lt;chr&gt;</th><th scope=col>&lt;dbl&gt;</th><th scope=col>&lt;dbl&gt;</th><th scope=col>&lt;dbl&gt;</th><th scope=col>&lt;dbl&gt;</th><th scope=col>&lt;chr&gt;</th><th scope=col>&lt;dbl&gt;</th></tr>\n",
       "</thead>\n",
       "<tbody>\n",
       "\t<tr><th scope=row>2</th><td>ethnicity</td><td>1</td><td>49</td><td>7.502595</td><td>0.008567537</td><td>*</td><td>0.02426797</td></tr>\n",
       "</tbody>\n",
       "</table>\n"
      ],
      "text/latex": [
       "\\textbf{\\$ANOVA} = A data.frame: 1 × 7\n",
       "\\begin{tabular}{r|lllllll}\n",
       "  & Effect & DFn & DFd & F & p & p<.05 & ges\\\\\n",
       "  & <chr> & <dbl> & <dbl> & <dbl> & <dbl> & <chr> & <dbl>\\\\\n",
       "\\hline\n",
       "\t2 & ethnicity & 1 & 49 & 7.502595 & 0.008567537 & * & 0.02426797\\\\\n",
       "\\end{tabular}\n"
      ],
      "text/markdown": [
       "**$ANOVA** = \n",
       "A data.frame: 1 × 7\n",
       "\n",
       "| <!--/--> | Effect &lt;chr&gt; | DFn &lt;dbl&gt; | DFd &lt;dbl&gt; | F &lt;dbl&gt; | p &lt;dbl&gt; | p&lt;.05 &lt;chr&gt; | ges &lt;dbl&gt; |\n",
       "|---|---|---|---|---|---|---|---|\n",
       "| 2 | ethnicity | 1 | 49 | 7.502595 | 0.008567537 | * | 0.02426797 |\n",
       "\n"
      ],
      "text/plain": [
       "$ANOVA\n",
       "     Effect DFn DFd        F           p p<.05        ges\n",
       "2 ethnicity   1  49 7.502595 0.008567537     * 0.02426797\n"
      ]
     },
     "metadata": {},
     "output_type": "display_data"
    }
   ],
   "source": [
    "free_child_female.main"
   ]
  },
  {
   "cell_type": "markdown",
   "id": "87773007",
   "metadata": {},
   "source": [
    "There is a statistically significant simple main effect of **ethnicity** on **sentiment-score** for the \"**adult-males**\" group, F(1, 49) = 36.23, for the \"**adult-females**\" group, F(1, 49) = 13.68, p < 0.0001, and for the **child-female** group, F(1, 49) = 7.5, p = 0.008."
   ]
  },
  {
   "cell_type": "markdown",
   "id": "ca0a242a",
   "metadata": {},
   "source": [
    "#### Simple pairwise comparisons"
   ]
  },
  {
   "cell_type": "code",
   "execution_count": 155,
   "id": "7696e5c7",
   "metadata": {},
   "outputs": [
    {
     "data": {
      "text/html": [
       "<table class=\"dataframe\">\n",
       "<caption>A rstatix_test: 4 × 11</caption>\n",
       "<thead>\n",
       "\t<tr><th></th><th scope=col>sex</th><th scope=col>age</th><th scope=col>.y.</th><th scope=col>group1</th><th scope=col>group2</th><th scope=col>n1</th><th scope=col>n2</th><th scope=col>p</th><th scope=col>p.signif</th><th scope=col>p.adj</th><th scope=col>p.adj.signif</th></tr>\n",
       "\t<tr><th></th><th scope=col>&lt;chr&gt;</th><th scope=col>&lt;chr&gt;</th><th scope=col>&lt;chr&gt;</th><th scope=col>&lt;chr&gt;</th><th scope=col>&lt;chr&gt;</th><th scope=col>&lt;int&gt;</th><th scope=col>&lt;int&gt;</th><th scope=col>&lt;dbl&gt;</th><th scope=col>&lt;chr&gt;</th><th scope=col>&lt;dbl&gt;</th><th scope=col>&lt;chr&gt;</th></tr>\n",
       "</thead>\n",
       "<tbody>\n",
       "\t<tr><th scope=row>1</th><td>female</td><td>adult</td><td>sentimentScore</td><td>bipoc</td><td>white</td><td>1931</td><td>1908</td><td>7.44e-05</td><td>****</td><td>7.44e-05</td><td>****</td></tr>\n",
       "\t<tr><th scope=row>2</th><td>male  </td><td>adult</td><td>sentimentScore</td><td>bipoc</td><td>white</td><td>1953</td><td>1889</td><td>1.32e-04</td><td>*** </td><td>1.32e-04</td><td>*** </td></tr>\n",
       "\t<tr><th scope=row>3</th><td>female</td><td>child</td><td>sentimentScore</td><td>bipoc</td><td>white</td><td>1908</td><td>1886</td><td>6.04e-02</td><td>ns  </td><td>6.04e-02</td><td>ns  </td></tr>\n",
       "\t<tr><th scope=row>4</th><td>male  </td><td>child</td><td>sentimentScore</td><td>bipoc</td><td>white</td><td>1902</td><td>1899</td><td>8.07e-01</td><td>ns  </td><td>8.07e-01</td><td>ns  </td></tr>\n",
       "</tbody>\n",
       "</table>\n"
      ],
      "text/latex": [
       "A rstatix\\_test: 4 × 11\n",
       "\\begin{tabular}{r|lllllllllll}\n",
       "  & sex & age & .y. & group1 & group2 & n1 & n2 & p & p.signif & p.adj & p.adj.signif\\\\\n",
       "  & <chr> & <chr> & <chr> & <chr> & <chr> & <int> & <int> & <dbl> & <chr> & <dbl> & <chr>\\\\\n",
       "\\hline\n",
       "\t1 & female & adult & sentimentScore & bipoc & white & 1931 & 1908 & 7.44e-05 & **** & 7.44e-05 & ****\\\\\n",
       "\t2 & male   & adult & sentimentScore & bipoc & white & 1953 & 1889 & 1.32e-04 & ***  & 1.32e-04 & *** \\\\\n",
       "\t3 & female & child & sentimentScore & bipoc & white & 1908 & 1886 & 6.04e-02 & ns   & 6.04e-02 & ns  \\\\\n",
       "\t4 & male   & child & sentimentScore & bipoc & white & 1902 & 1899 & 8.07e-01 & ns   & 8.07e-01 & ns  \\\\\n",
       "\\end{tabular}\n"
      ],
      "text/markdown": [
       "\n",
       "A rstatix_test: 4 × 11\n",
       "\n",
       "| <!--/--> | sex &lt;chr&gt; | age &lt;chr&gt; | .y. &lt;chr&gt; | group1 &lt;chr&gt; | group2 &lt;chr&gt; | n1 &lt;int&gt; | n2 &lt;int&gt; | p &lt;dbl&gt; | p.signif &lt;chr&gt; | p.adj &lt;dbl&gt; | p.adj.signif &lt;chr&gt; |\n",
       "|---|---|---|---|---|---|---|---|---|---|---|---|\n",
       "| 1 | female | adult | sentimentScore | bipoc | white | 1931 | 1908 | 7.44e-05 | **** | 7.44e-05 | **** |\n",
       "| 2 | male   | adult | sentimentScore | bipoc | white | 1953 | 1889 | 1.32e-04 | ***  | 1.32e-04 | ***  |\n",
       "| 3 | female | child | sentimentScore | bipoc | white | 1908 | 1886 | 6.04e-02 | ns   | 6.04e-02 | ns   |\n",
       "| 4 | male   | child | sentimentScore | bipoc | white | 1902 | 1899 | 8.07e-01 | ns   | 8.07e-01 | ns   |\n",
       "\n"
      ],
      "text/plain": [
       "  sex    age   .y.            group1 group2 n1   n2   p        p.signif\n",
       "1 female adult sentimentScore bipoc  white  1931 1908 7.44e-05 ****    \n",
       "2 male   adult sentimentScore bipoc  white  1953 1889 1.32e-04 ***     \n",
       "3 female child sentimentScore bipoc  white  1908 1886 6.04e-02 ns      \n",
       "4 male   child sentimentScore bipoc  white  1902 1899 8.07e-01 ns      \n",
       "  p.adj    p.adj.signif\n",
       "1 7.44e-05 ****        \n",
       "2 1.32e-04 ***         \n",
       "3 6.04e-02 ns          \n",
       "4 8.07e-01 ns          "
      ]
     },
     "metadata": {},
     "output_type": "display_data"
    }
   ],
   "source": [
    "pwc <- df_free %>%\n",
    "  group_by(age, sex) %>%\n",
    "  pairwise_t_test(sentimentScore ~ ethnicity, paired = FALSE, p.adjust.method = \"bonferroni\") \n",
    "\n",
    "pwc"
   ]
  },
  {
   "cell_type": "markdown",
   "id": "313f3b08",
   "metadata": {},
   "source": [
    "### Visualization free-labeling: box plots with p-values"
   ]
  },
  {
   "cell_type": "code",
   "execution_count": 156,
   "id": "a77591da-c7c9-433f-812f-db21cebc2d60",
   "metadata": {},
   "outputs": [
    {
     "data": {
      "image/png": "[encoded data removed]",
      "text/plain": [
       "plot without title"
      ]
     },
     "metadata": {
      "image/png": {
       "height": 420,
       "width": 420
      }
     },
     "output_type": "display_data"
    }
   ],
   "source": [
    "# subtitle_3way_anova = Anova, $F$(1, 49) = 6.91, $p$ < 0.01, $\\eta^2_{g}=0.007$\n",
    "subtitle_3way_anova_free = expression(paste(\"Anova, F(1, 49) = 6.91, p < 0.01, \",eta[g]^2, \"=0.007\"))\n",
    "pwc <- pwc %>% add_xy_position(x = \"sex\")\n",
    "\n",
    "bxp_free +  \n",
    "  stat_pvalue_manual(\n",
    "    pwc, hide.ns = TRUE, bracket.nudge.y = 0.1,\n",
    "    label = \"{p.adj}{p.adj.signif}\"\n",
    "    ) +\n",
    "  labs(\n",
    "    subtitle = subtitle_3way_anova_free,\n",
    "    caption = get_pwc_label(pwc)\n",
    "  )"
   ]
  },
  {
   "cell_type": "code",
   "execution_count": 157,
   "id": "d180db23",
   "metadata": {},
   "outputs": [],
   "source": [
    "# # subtitle_3way_anova = Anova, $F$(1, 49) = 6.91, $p$ < 0.01, $\\eta^2_{g}=0.007$\n",
    "# subtitle_3way_anova_free = expression(paste(\"Anova, F(1, 49) = 6.91, p < 0.01, \",eta[g]^2, \"=0.007\"))\n",
    "# pwc <- pwc %>% add_xy_position(x = \"sex\")\n",
    "\n",
    "# pwc.filtered <- pwc %>% \n",
    "#   filter((sex == \"male\" & age == \"adult\") | (sex == \"female\" & age == \"child\"))\n",
    "\n",
    "# bxp_free +  \n",
    "#   stat_pvalue_manual(\n",
    "#     pwc.filtered, hide.ns = TRUE, bracket.nudge.y = 0.1,\n",
    "#     label = \"{p.adj}{p.adj.signif}\"\n",
    "#     ) +\n",
    "#   labs(\n",
    "#     subtitle = subtitle_3way_anova_free,\n",
    "#     caption = get_pwc_label(pwc)\n",
    "#   )"
   ]
  },
  {
   "cell_type": "code",
   "execution_count": 158,
   "id": "adc689da",
   "metadata": {},
   "outputs": [
    {
     "name": "stderr",
     "output_type": "stream",
     "text": [
      "Saving 6.67 x 6.67 in image\n",
      "\n",
      "Saving 6.67 x 6.67 in image\n",
      "\n"
     ]
    }
   ],
   "source": [
    "ggsave(\"../clean_data_mturk/anova_3way_test_free_labeling_mturk.png\")\n",
    "ggsave(\"../../emotions_dashboard/data/anova_3way_test_free_labeling_mturk.png\")"
   ]
  },
  {
   "cell_type": "code",
   "execution_count": null,
   "id": "ba2672f5-151d-473b-9e62-f79cedbca683",
   "metadata": {},
   "outputs": [],
   "source": []
  }
 ],
 "metadata": {
  "kernelspec": {
   "display_name": "R",
   "language": "R",
   "name": "ir"
  },
  "language_info": {
   "codemirror_mode": "r",
   "file_extension": ".r",
   "mimetype": "text/x-r-source",
   "name": "R",
   "pygments_lexer": "r",
   "version": "4.0.1"
  }
 },
 "nbformat": 4,
 "nbformat_minor": 5
}
