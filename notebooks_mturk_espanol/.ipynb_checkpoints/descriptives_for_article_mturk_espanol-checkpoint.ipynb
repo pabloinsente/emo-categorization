{
 "cells": [
  {
   "cell_type": "code",
   "execution_count": 1,
   "id": "db394d75-9c85-4857-a577-0d6874cb3ef4",
   "metadata": {},
   "outputs": [],
   "source": [
    "import pandas as pd"
   ]
  },
  {
   "cell_type": "code",
   "execution_count": 2,
   "id": "0b724293-4b00-4d24-83a5-c7b165fd3401",
   "metadata": {},
   "outputs": [],
   "source": [
    "df1 = pd.read_csv('../clean_data_mturk_espanol/free_choice_emotion_mturk_espanol.csv')\n",
    "df2 = pd.read_csv('../clean_data_mturk_espanol/forced_choice_emotion_mturk_espanol.csv')"
   ]
  },
  {
   "cell_type": "code",
   "execution_count": 9,
   "id": "69b1d06e-bb60-4025-be2e-667d1ab12591",
   "metadata": {},
   "outputs": [
    {
     "data": {
      "text/plain": [
       "3748.181818181818"
      ]
     },
     "execution_count": 9,
     "metadata": {},
     "output_type": "execute_result"
    }
   ],
   "source": [
    "dur1.mean()"
   ]
  },
  {
   "cell_type": "code",
   "execution_count": 10,
   "id": "8ee6bdcc-ac76-44e1-996f-b3d4a0b8df36",
   "metadata": {},
   "outputs": [
    {
     "name": "stdout",
     "output_type": "stream",
     "text": [
      "free-response: mean 3748.181818181818, std 2509.1401223146327\n",
      "force-response: mean 2118.96875, std 1621.412933899857\n",
      "Overall: mean 2946.107692307692, std 2257.232155505089\n"
     ]
    }
   ],
   "source": [
    "dur1 = df1['Duration (in seconds)'].dropna().astype('int32')\n",
    "dur2 = df2['Duration (in seconds)'].dropna().astype('int32')\n",
    "duration = pd.concat([dur1, dur2])\n",
    "\n",
    "print(f\"free-response: mean {dur1.mean()}, std {dur1.std()}\")\n",
    "print(f\"force-response: mean {dur2.mean()}, std {dur2.std()}\")\n",
    "print(f\"Overall: mean {duration.mean()}, std {duration.std()}\")"
   ]
  },
  {
   "cell_type": "code",
   "execution_count": 4,
   "id": "6c98eacd-39b7-44ea-ad50-c6ccd72e3793",
   "metadata": {},
   "outputs": [
    {
     "data": {
      "text/plain": [
       "(37.815384615384616, 8.255476038084334)"
      ]
     },
     "execution_count": 4,
     "metadata": {},
     "output_type": "execute_result"
    }
   ],
   "source": [
    "age1 = df1['age'].dropna().astype('int32')\n",
    "age2 = df2['age'].dropna().astype('int32')\n",
    "age = pd.concat([age1, age2])\n",
    "\n",
    "age.mean(), age.std()"
   ]
  },
  {
   "cell_type": "code",
   "execution_count": 5,
   "id": "855ffa53-b3b1-4579-a09a-62e38f04322c",
   "metadata": {},
   "outputs": [
    {
     "data": {
      "text/plain": [
       "Masculino    41\n",
       "Femenino     24\n",
       "Name: sex, dtype: int64"
      ]
     },
     "execution_count": 5,
     "metadata": {},
     "output_type": "execute_result"
    }
   ],
   "source": [
    "sex1 = df1['sex'].dropna()\n",
    "sex2 = df2['sex'].dropna()\n",
    "sex = pd.concat([sex1, sex2])\n",
    "\n",
    "sex.value_counts()"
   ]
  },
  {
   "cell_type": "code",
   "execution_count": 6,
   "id": "321e7be2-2028-4bec-be3e-5273fe44e17d",
   "metadata": {},
   "outputs": [
    {
     "data": {
      "text/plain": [
       "Hispana o Latina         26\n",
       "Hispano o Latino         25\n",
       "Blanca o caucásica        7\n",
       "Blanco o caucásico        6\n",
       "Multiples etnicidades     1\n",
       "Name: ethnicity, dtype: int64"
      ]
     },
     "execution_count": 6,
     "metadata": {},
     "output_type": "execute_result"
    }
   ],
   "source": [
    "et1 = df1['ethnicity'].dropna()\n",
    "et2 = df2['ethnicity'].dropna()\n",
    "et = pd.concat([et1, et2])\n",
    "\n",
    "et.value_counts()"
   ]
  },
  {
   "cell_type": "code",
   "execution_count": 7,
   "id": "80cf6e1e-b610-494a-b91b-c127c7dff345",
   "metadata": {},
   "outputs": [
    {
     "data": {
      "text/plain": [
       "Mexico                  16\n",
       "Venezuela               10\n",
       "Colombia                 6\n",
       "Mexicana                 5\n",
       "Argentina                3\n",
       "Honduras                 2\n",
       "México                   2\n",
       "venezuela                2\n",
       "ecuador                  1\n",
       "Republica Dominicana     1\n",
       "COLOMBIANO               1\n",
       "colombia                 1\n",
       "Guatemala                1\n",
       "Venezolano               1\n",
       "Cuba                     1\n",
       "Colombiano               1\n",
       "Mexicano                 1\n",
       "Italia                   1\n",
       "Ecuador                  1\n",
       "Chile                    1\n",
       "Uruguay                  1\n",
       "VENEZUELA                1\n",
       "Ecuatoriano              1\n",
       "COLOMBIA                 1\n",
       "El Salvador              1\n",
       "Name: country, dtype: int64"
      ]
     },
     "execution_count": 7,
     "metadata": {},
     "output_type": "execute_result"
    }
   ],
   "source": [
    "ct1 = df1['country'].dropna()\n",
    "ct2 = df2['country'].dropna()\n",
    "ct = pd.concat([ct1, ct2])\n",
    "\n",
    "ct.value_counts()[1]"
   ]
  },
  {
   "cell_type": "code",
   "execution_count": 14,
   "id": "1c109af8-981a-420a-811a-0b9be658aa25",
   "metadata": {},
   "outputs": [
    {
     "data": {
      "text/plain": [
       "(33, 32)"
      ]
     },
     "execution_count": 14,
     "metadata": {},
     "output_type": "execute_result"
    }
   ],
   "source": [
    "len(age1), len(age2)"
   ]
  }
 ],
 "metadata": {
  "kernelspec": {
   "display_name": "Python 3 (ipykernel)",
   "language": "python",
   "name": "python3"
  },
  "language_info": {
   "codemirror_mode": {
    "name": "ipython",
    "version": 3
   },
   "file_extension": ".py",
   "mimetype": "text/x-python",
   "name": "python",
   "nbconvert_exporter": "python",
   "pygments_lexer": "ipython3",
   "version": "3.9.7"
  }
 },
 "nbformat": 4,
 "nbformat_minor": 5
}
