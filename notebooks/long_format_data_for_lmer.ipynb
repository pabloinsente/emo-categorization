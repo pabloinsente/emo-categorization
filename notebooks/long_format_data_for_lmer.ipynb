{
 "cells": [
  {
   "cell_type": "code",
   "execution_count": 32,
   "id": "3a00be86-2ebf-402f-b132-bf2d9d98e958",
   "metadata": {},
   "outputs": [],
   "source": [
    "import pandas as pd"
   ]
  },
  {
   "cell_type": "code",
   "execution_count": 33,
   "id": "eed4ea2f-53a3-45f4-b5f9-569b4f017de7",
   "metadata": {},
   "outputs": [],
   "source": [
    "df = pd.read_csv('../clean_data/forced_choice_emotion_uw_students.csv')\n",
    "df_labels = pd.read_csv('../data/emotion_labels.csv')"
   ]
  },
  {
   "cell_type": "code",
   "execution_count": 34,
   "id": "b4dab471-b181-4da8-a37a-4c69d145ff79",
   "metadata": {},
   "outputs": [],
   "source": [
    "df_emo_answers = df.loc[:, 'Q2.1':'Q195.1'] # subset photos"
   ]
  },
  {
   "cell_type": "markdown",
   "id": "1791c825-98ff-4007-a838-1819245300b7",
   "metadata": {},
   "source": [
    "# Long format DF"
   ]
  },
  {
   "cell_type": "code",
   "execution_count": 35,
   "id": "6f09c365-9717-4c41-a6d5-10bee08f0b7f",
   "metadata": {},
   "outputs": [
    {
     "data": {
      "text/html": [
       "<div>\n",
       "<style scoped>\n",
       "    .dataframe tbody tr th:only-of-type {\n",
       "        vertical-align: middle;\n",
       "    }\n",
       "\n",
       "    .dataframe tbody tr th {\n",
       "        vertical-align: top;\n",
       "    }\n",
       "\n",
       "    .dataframe thead th {\n",
       "        text-align: right;\n",
       "    }\n",
       "</style>\n",
       "<table border=\"1\" class=\"dataframe\">\n",
       "  <thead>\n",
       "    <tr style=\"text-align: right;\">\n",
       "      <th></th>\n",
       "      <th>participantId</th>\n",
       "      <th>Q2.1</th>\n",
       "      <th>Q3.1</th>\n",
       "      <th>Q4.1</th>\n",
       "      <th>Q5.1</th>\n",
       "      <th>Q6.1</th>\n",
       "      <th>Q7.1</th>\n",
       "      <th>Q8.1</th>\n",
       "      <th>Q9.1</th>\n",
       "      <th>Q10.1</th>\n",
       "      <th>...</th>\n",
       "      <th>Q186.1</th>\n",
       "      <th>Q187.1</th>\n",
       "      <th>Q188.1</th>\n",
       "      <th>Q189.1</th>\n",
       "      <th>Q190.1</th>\n",
       "      <th>Q191.1</th>\n",
       "      <th>Q192.1</th>\n",
       "      <th>Q193.1</th>\n",
       "      <th>Q194.1</th>\n",
       "      <th>Q195.1</th>\n",
       "    </tr>\n",
       "  </thead>\n",
       "  <tbody>\n",
       "    <tr>\n",
       "      <th>0</th>\n",
       "      <td>0</td>\n",
       "      <td>Neutral</td>\n",
       "      <td>Anger</td>\n",
       "      <td>Anger</td>\n",
       "      <td>Anger</td>\n",
       "      <td>Anger</td>\n",
       "      <td>Anger</td>\n",
       "      <td>Anger</td>\n",
       "      <td>Happiness</td>\n",
       "      <td>Disgust</td>\n",
       "      <td>...</td>\n",
       "      <td>Surprise</td>\n",
       "      <td>Neutral</td>\n",
       "      <td>Happiness</td>\n",
       "      <td>Happiness</td>\n",
       "      <td>Other</td>\n",
       "      <td>Other</td>\n",
       "      <td>Uncertain</td>\n",
       "      <td>Uncertain</td>\n",
       "      <td>Other</td>\n",
       "      <td>Neutral</td>\n",
       "    </tr>\n",
       "    <tr>\n",
       "      <th>1</th>\n",
       "      <td>1</td>\n",
       "      <td>Anger</td>\n",
       "      <td>Anger</td>\n",
       "      <td>Anger</td>\n",
       "      <td>Sadness</td>\n",
       "      <td>Anger</td>\n",
       "      <td>Anger</td>\n",
       "      <td>Fear</td>\n",
       "      <td>Anger</td>\n",
       "      <td>Other</td>\n",
       "      <td>...</td>\n",
       "      <td>Surprise</td>\n",
       "      <td>Surprise</td>\n",
       "      <td>Happiness</td>\n",
       "      <td>Happiness</td>\n",
       "      <td>Disgust</td>\n",
       "      <td>Uncertain</td>\n",
       "      <td>Other</td>\n",
       "      <td>Anger</td>\n",
       "      <td>Uncertain</td>\n",
       "      <td>Uncertain</td>\n",
       "    </tr>\n",
       "  </tbody>\n",
       "</table>\n",
       "<p>2 rows × 195 columns</p>\n",
       "</div>"
      ],
      "text/plain": [
       "   participantId     Q2.1   Q3.1   Q4.1     Q5.1   Q6.1   Q7.1   Q8.1  \\\n",
       "0              0  Neutral  Anger  Anger    Anger  Anger  Anger  Anger   \n",
       "1              1    Anger  Anger  Anger  Sadness  Anger  Anger   Fear   \n",
       "\n",
       "        Q9.1    Q10.1  ...    Q186.1    Q187.1     Q188.1     Q189.1   Q190.1  \\\n",
       "0  Happiness  Disgust  ...  Surprise   Neutral  Happiness  Happiness    Other   \n",
       "1      Anger    Other  ...  Surprise  Surprise  Happiness  Happiness  Disgust   \n",
       "\n",
       "      Q191.1     Q192.1     Q193.1     Q194.1     Q195.1  \n",
       "0      Other  Uncertain  Uncertain      Other    Neutral  \n",
       "1  Uncertain      Other      Anger  Uncertain  Uncertain  \n",
       "\n",
       "[2 rows x 195 columns]"
      ]
     },
     "execution_count": 35,
     "metadata": {},
     "output_type": "execute_result"
    }
   ],
   "source": [
    "df_emo_answers_long = df_emo_answers.reset_index()\n",
    "df_emo_answers_long['index'] = df_emo_answers_long.index\n",
    "df_emo_answers_long = df_emo_answers_long.rename(columns={'index':'participantId'})\n",
    "df_emo_answers_long.head(2)"
   ]
  },
  {
   "cell_type": "code",
   "execution_count": 36,
   "id": "59b4216f-96f3-4dd6-b332-fbcb6bbf6fa0",
   "metadata": {},
   "outputs": [],
   "source": [
    "df_labels['photoId'] =  df_labels['photoId'].str.strip()\n",
    "photoIds = df_labels['photoId'].tolist()"
   ]
  },
  {
   "cell_type": "code",
   "execution_count": 37,
   "id": "103fc155-c2e0-4a8c-9583-30bb293e50a9",
   "metadata": {},
   "outputs": [],
   "source": [
    "df_emo_answers_long = pd.melt(df_emo_answers_long, id_vars=['participantId'], value_vars=photoIds).reset_index(drop=True).sort_values(by=['participantId'])"
   ]
  },
  {
   "cell_type": "code",
   "execution_count": 38,
   "id": "fd9ef761-c2ca-41d5-a566-f200b0516d3b",
   "metadata": {},
   "outputs": [],
   "source": [
    "df_emo_answers_long = df_emo_answers_long.rename(columns={'variable':'photoId', 'value':'emotion'})"
   ]
  },
  {
   "cell_type": "code",
   "execution_count": 39,
   "id": "73ef6d9d-5859-463f-9778-a178d8c47637",
   "metadata": {},
   "outputs": [],
   "source": [
    "df_emo_answers_long_m = pd.merge(df_emo_answers_long, df_labels, how=\"left\", on=[\"photoId\"], validate=\"many_to_one\")"
   ]
  },
  {
   "cell_type": "code",
   "execution_count": 40,
   "id": "16cf294d-c586-4ea7-b045-f51e7b3b8ec5",
   "metadata": {},
   "outputs": [
    {
     "data": {
      "text/html": [
       "<div>\n",
       "<style scoped>\n",
       "    .dataframe tbody tr th:only-of-type {\n",
       "        vertical-align: middle;\n",
       "    }\n",
       "\n",
       "    .dataframe tbody tr th {\n",
       "        vertical-align: top;\n",
       "    }\n",
       "\n",
       "    .dataframe thead th {\n",
       "        text-align: right;\n",
       "    }\n",
       "</style>\n",
       "<table border=\"1\" class=\"dataframe\">\n",
       "  <thead>\n",
       "    <tr style=\"text-align: right;\">\n",
       "      <th></th>\n",
       "      <th>participantId</th>\n",
       "      <th>photoId</th>\n",
       "      <th>emotion</th>\n",
       "      <th>ethnicity</th>\n",
       "      <th>sex</th>\n",
       "      <th>age</th>\n",
       "      <th>label</th>\n",
       "      <th>url</th>\n",
       "    </tr>\n",
       "  </thead>\n",
       "  <tbody>\n",
       "    <tr>\n",
       "      <th>0</th>\n",
       "      <td>0</td>\n",
       "      <td>Q2.1</td>\n",
       "      <td>Neutral</td>\n",
       "      <td>bipoc</td>\n",
       "      <td>female</td>\n",
       "      <td>adult</td>\n",
       "      <td>anger</td>\n",
       "      <td>https://uwmadison.co1.qualtrics.com/ControlPan...</td>\n",
       "    </tr>\n",
       "    <tr>\n",
       "      <th>1</th>\n",
       "      <td>0</td>\n",
       "      <td>Q163.1</td>\n",
       "      <td>Happiness</td>\n",
       "      <td>white</td>\n",
       "      <td>male</td>\n",
       "      <td>child</td>\n",
       "      <td>happiness</td>\n",
       "      <td>https://uwmadison.co1.qualtrics.com/ControlPan...</td>\n",
       "    </tr>\n",
       "  </tbody>\n",
       "</table>\n",
       "</div>"
      ],
      "text/plain": [
       "   participantId photoId    emotion ethnicity     sex    age      label  \\\n",
       "0              0    Q2.1    Neutral     bipoc  female  adult      anger   \n",
       "1              0  Q163.1  Happiness     white    male  child  happiness   \n",
       "\n",
       "                                                 url  \n",
       "0  https://uwmadison.co1.qualtrics.com/ControlPan...  \n",
       "1  https://uwmadison.co1.qualtrics.com/ControlPan...  "
      ]
     },
     "execution_count": 40,
     "metadata": {},
     "output_type": "execute_result"
    }
   ],
   "source": [
    "df_emo_answers_long_m.head(2)"
   ]
  },
  {
   "cell_type": "markdown",
   "id": "63d3282b-ce4b-4a8e-903b-09ca6b73f83a",
   "metadata": {},
   "source": [
    "# Sentiment score"
   ]
  },
  {
   "cell_type": "code",
   "execution_count": 41,
   "id": "cf831ba4-b443-48ae-ac72-af0fa693565a",
   "metadata": {},
   "outputs": [],
   "source": [
    "from nltk.sentiment import SentimentIntensityAnalyzer"
   ]
  },
  {
   "cell_type": "code",
   "execution_count": 42,
   "id": "b691762e-d485-410e-a932-59cf11fffbcb",
   "metadata": {},
   "outputs": [],
   "source": [
    "sia = SentimentIntensityAnalyzer()"
   ]
  },
  {
   "cell_type": "code",
   "execution_count": 43,
   "id": "13f34ddc-4d3f-4e81-b4a9-6b9004e80436",
   "metadata": {},
   "outputs": [],
   "source": [
    "df_emo_answers_long_m['sentimentScore'] = df_emo_answers_long_m['emotion'].apply(lambda x: sia.polarity_scores(x)['compound'])"
   ]
  },
  {
   "cell_type": "code",
   "execution_count": 44,
   "id": "668a46cf-ffe9-47cd-a9cd-1136ae0cd49f",
   "metadata": {},
   "outputs": [
    {
     "data": {
      "text/html": [
       "<div>\n",
       "<style scoped>\n",
       "    .dataframe tbody tr th:only-of-type {\n",
       "        vertical-align: middle;\n",
       "    }\n",
       "\n",
       "    .dataframe tbody tr th {\n",
       "        vertical-align: top;\n",
       "    }\n",
       "\n",
       "    .dataframe thead th {\n",
       "        text-align: right;\n",
       "    }\n",
       "</style>\n",
       "<table border=\"1\" class=\"dataframe\">\n",
       "  <thead>\n",
       "    <tr style=\"text-align: right;\">\n",
       "      <th></th>\n",
       "      <th>participantId</th>\n",
       "      <th>photoId</th>\n",
       "      <th>emotion</th>\n",
       "      <th>ethnicity</th>\n",
       "      <th>sex</th>\n",
       "      <th>age</th>\n",
       "      <th>label</th>\n",
       "      <th>url</th>\n",
       "      <th>sentimentScore</th>\n",
       "    </tr>\n",
       "  </thead>\n",
       "  <tbody>\n",
       "    <tr>\n",
       "      <th>0</th>\n",
       "      <td>0</td>\n",
       "      <td>Q2.1</td>\n",
       "      <td>Neutral</td>\n",
       "      <td>bipoc</td>\n",
       "      <td>female</td>\n",
       "      <td>adult</td>\n",
       "      <td>anger</td>\n",
       "      <td>https://uwmadison.co1.qualtrics.com/ControlPan...</td>\n",
       "      <td>0.0000</td>\n",
       "    </tr>\n",
       "    <tr>\n",
       "      <th>1</th>\n",
       "      <td>0</td>\n",
       "      <td>Q163.1</td>\n",
       "      <td>Happiness</td>\n",
       "      <td>white</td>\n",
       "      <td>male</td>\n",
       "      <td>child</td>\n",
       "      <td>happiness</td>\n",
       "      <td>https://uwmadison.co1.qualtrics.com/ControlPan...</td>\n",
       "      <td>0.5574</td>\n",
       "    </tr>\n",
       "  </tbody>\n",
       "</table>\n",
       "</div>"
      ],
      "text/plain": [
       "   participantId photoId    emotion ethnicity     sex    age      label  \\\n",
       "0              0    Q2.1    Neutral     bipoc  female  adult      anger   \n",
       "1              0  Q163.1  Happiness     white    male  child  happiness   \n",
       "\n",
       "                                                 url  sentimentScore  \n",
       "0  https://uwmadison.co1.qualtrics.com/ControlPan...          0.0000  \n",
       "1  https://uwmadison.co1.qualtrics.com/ControlPan...          0.5574  "
      ]
     },
     "execution_count": 44,
     "metadata": {},
     "output_type": "execute_result"
    }
   ],
   "source": [
    "df_emo_answers_long_m.head(2)"
   ]
  },
  {
   "cell_type": "markdown",
   "id": "0a4ed9a0-671d-4e42-8c00-7ac395989e80",
   "metadata": {},
   "source": [
    "# LMER"
   ]
  },
  {
   "cell_type": "markdown",
   "id": "4250e64c-555a-4584-b5d8-edcf06e73988",
   "metadata": {},
   "source": [
    "## Center predictors"
   ]
  },
  {
   "cell_type": "code",
   "execution_count": 45,
   "id": "b3261213-688e-4d3b-82d1-9605a05dd20a",
   "metadata": {},
   "outputs": [],
   "source": [
    "df_emo_answers_long_m['sexC'] = df_emo_answers_long_m['sex'].replace({'female': -0.5, 'male': 0.5})\n",
    "df_emo_answers_long_m['ageC'] = df_emo_answers_long_m['age'].replace({'child': -0.5, 'adult': 0.5})\n",
    "df_emo_answers_long_m['ethnicityC'] = df_emo_answers_long_m['ethnicity'].replace({'bipoc': -0.5, 'white': 0.5})"
   ]
  },
  {
   "cell_type": "code",
   "execution_count": 46,
   "id": "a07ab656-e1a4-4319-b4b4-bdec6b6d6ded",
   "metadata": {},
   "outputs": [
    {
     "data": {
      "text/html": [
       "<div>\n",
       "<style scoped>\n",
       "    .dataframe tbody tr th:only-of-type {\n",
       "        vertical-align: middle;\n",
       "    }\n",
       "\n",
       "    .dataframe tbody tr th {\n",
       "        vertical-align: top;\n",
       "    }\n",
       "\n",
       "    .dataframe thead th {\n",
       "        text-align: right;\n",
       "    }\n",
       "</style>\n",
       "<table border=\"1\" class=\"dataframe\">\n",
       "  <thead>\n",
       "    <tr style=\"text-align: right;\">\n",
       "      <th></th>\n",
       "      <th>participantId</th>\n",
       "      <th>photoId</th>\n",
       "      <th>emotion</th>\n",
       "      <th>ethnicity</th>\n",
       "      <th>sex</th>\n",
       "      <th>age</th>\n",
       "      <th>label</th>\n",
       "      <th>url</th>\n",
       "      <th>sentimentScore</th>\n",
       "      <th>sexC</th>\n",
       "      <th>ageC</th>\n",
       "      <th>ethnicityC</th>\n",
       "    </tr>\n",
       "  </thead>\n",
       "  <tbody>\n",
       "    <tr>\n",
       "      <th>0</th>\n",
       "      <td>0</td>\n",
       "      <td>Q2.1</td>\n",
       "      <td>Neutral</td>\n",
       "      <td>bipoc</td>\n",
       "      <td>female</td>\n",
       "      <td>adult</td>\n",
       "      <td>anger</td>\n",
       "      <td>https://uwmadison.co1.qualtrics.com/ControlPan...</td>\n",
       "      <td>0.0000</td>\n",
       "      <td>-0.5</td>\n",
       "      <td>0.5</td>\n",
       "      <td>-0.5</td>\n",
       "    </tr>\n",
       "    <tr>\n",
       "      <th>1</th>\n",
       "      <td>0</td>\n",
       "      <td>Q163.1</td>\n",
       "      <td>Happiness</td>\n",
       "      <td>white</td>\n",
       "      <td>male</td>\n",
       "      <td>child</td>\n",
       "      <td>happiness</td>\n",
       "      <td>https://uwmadison.co1.qualtrics.com/ControlPan...</td>\n",
       "      <td>0.5574</td>\n",
       "      <td>0.5</td>\n",
       "      <td>-0.5</td>\n",
       "      <td>0.5</td>\n",
       "    </tr>\n",
       "  </tbody>\n",
       "</table>\n",
       "</div>"
      ],
      "text/plain": [
       "   participantId photoId    emotion ethnicity     sex    age      label  \\\n",
       "0              0    Q2.1    Neutral     bipoc  female  adult      anger   \n",
       "1              0  Q163.1  Happiness     white    male  child  happiness   \n",
       "\n",
       "                                                 url  sentimentScore  sexC  \\\n",
       "0  https://uwmadison.co1.qualtrics.com/ControlPan...          0.0000  -0.5   \n",
       "1  https://uwmadison.co1.qualtrics.com/ControlPan...          0.5574   0.5   \n",
       "\n",
       "   ageC  ethnicityC  \n",
       "0   0.5        -0.5  \n",
       "1  -0.5         0.5  "
      ]
     },
     "execution_count": 46,
     "metadata": {},
     "output_type": "execute_result"
    }
   ],
   "source": [
    "df_emo_answers_long_m.head(2)"
   ]
  },
  {
   "cell_type": "code",
   "execution_count": 47,
   "id": "8582a97c-34f0-4b7e-8fba-1d206af87c94",
   "metadata": {},
   "outputs": [],
   "source": [
    "df_emo_answers_long_m_fil = df_emo_answers_long_m[df_emo_answers_long_m['label'] != 'attention']\n",
    "df_emo_answers_long_m_fil = df_emo_answers_long_m_fil.reset_index(drop=True)"
   ]
  },
  {
   "cell_type": "code",
   "execution_count": 48,
   "id": "d33c4cd3-0885-46ee-9634-4fdfd035ee99",
   "metadata": {},
   "outputs": [],
   "source": [
    "df_emo_answers_long_m_fil.to_csv('../clean_data/forced_choice_emotion_uw_students_long_format_lmer.csv', index=False)"
   ]
  },
  {
   "cell_type": "markdown",
   "id": "76e29210-af6d-4d8c-9db5-271814941079",
   "metadata": {},
   "source": [
    "## Run model"
   ]
  },
  {
   "cell_type": "code",
   "execution_count": 18,
   "id": "b8627808-f045-4cd7-8d9e-72878aa9d61e",
   "metadata": {},
   "outputs": [],
   "source": [
    "import statsmodels.api as sm\n",
    "import statsmodels.formula.api as smf\n",
    "from statsmodels.tools.sm_exceptions import ConvergenceWarning"
   ]
  },
  {
   "cell_type": "code",
   "execution_count": 19,
   "id": "671308cb-f059-44a4-abb2-19ed10492335",
   "metadata": {},
   "outputs": [],
   "source": [
    "md = smf.mixedlm(\"sentimentScore ~  ethnicityC*sexC*ageC\", df_emo_answers_long_m_fil, groups=df_emo_answers_long_m_fil[\"participantId\"])"
   ]
  },
  {
   "cell_type": "code",
   "execution_count": 20,
   "id": "8ddfdde7-0188-4c64-b0f8-a2221ca8a3a3",
   "metadata": {},
   "outputs": [
    {
     "name": "stderr",
     "output_type": "stream",
     "text": [
      "/home/pablo_ubuntu/miniconda3/envs/venv37/lib/python3.7/site-packages/statsmodels/regression/mixed_linear_model.py:1634: UserWarning: Random effects covariance is singular\n",
      "  warnings.warn(msg)\n",
      "/home/pablo_ubuntu/miniconda3/envs/venv37/lib/python3.7/site-packages/statsmodels/regression/mixed_linear_model.py:2054: UserWarning: The random effects covariance matrix is singular.\n",
      "  warnings.warn(_warn_cov_sing)\n",
      "/home/pablo_ubuntu/miniconda3/envs/venv37/lib/python3.7/site-packages/statsmodels/regression/mixed_linear_model.py:2237: ConvergenceWarning: The MLE may be on the boundary of the parameter space.\n",
      "  warnings.warn(msg, ConvergenceWarning)\n",
      "/home/pablo_ubuntu/miniconda3/envs/venv37/lib/python3.7/site-packages/statsmodels/regression/mixed_linear_model.py:2245: UserWarning: The random effects covariance matrix is singular.\n",
      "  warnings.warn(_warn_cov_sing)\n",
      "/home/pablo_ubuntu/miniconda3/envs/venv37/lib/python3.7/site-packages/statsmodels/regression/mixed_linear_model.py:2261: ConvergenceWarning: The Hessian matrix at the estimated parameter values is not positive definite.\n",
      "  warnings.warn(msg, ConvergenceWarning)\n"
     ]
    }
   ],
   "source": [
    "mdf = md.fit(method=[\"lbfgs\"])"
   ]
  },
  {
   "cell_type": "code",
   "execution_count": 21,
   "id": "beeb4fbf-9001-4a1f-b037-a221bb431c7a",
   "metadata": {},
   "outputs": [
    {
     "name": "stdout",
     "output_type": "stream",
     "text": [
      "             Mixed Linear Model Regression Results\n",
      "===============================================================\n",
      "Model:             MixedLM  Dependent Variable:  sentimentScore\n",
      "No. Observations:  9792     Method:              REML          \n",
      "No. Groups:        51       Scale:               0.1682        \n",
      "Min. group size:   192      Log-Likelihood:      inf           \n",
      "Max. group size:   192      Converged:           Yes           \n",
      "Mean group size:   192.0                                       \n",
      "---------------------------------------------------------------\n",
      "                     Coef.  Std.Err.   z    P>|z| [0.025 0.975]\n",
      "---------------------------------------------------------------\n",
      "Intercept             0.140                                    \n",
      "ethnicityC            0.029    0.008  3.463 0.001  0.012  0.045\n",
      "sexC                 -0.016    0.008 -1.932 0.053 -0.032  0.000\n",
      "ethnicityC:sexC       0.041    0.017  2.465 0.014  0.008  0.073\n",
      "ageC                 -0.030    0.008 -3.561 0.000 -0.046 -0.013\n",
      "ethnicityC:ageC       0.040    0.017  2.416 0.016  0.008  0.073\n",
      "sexC:ageC             0.016    0.017  0.940 0.347 -0.017  0.048\n",
      "ethnicityC:sexC:ageC  0.048    0.033  1.451 0.147 -0.017  0.113\n",
      "Group Var             0.000                                    \n",
      "===============================================================\n",
      "\n"
     ]
    },
    {
     "name": "stderr",
     "output_type": "stream",
     "text": [
      "/home/pablo_ubuntu/miniconda3/envs/venv37/lib/python3.7/site-packages/statsmodels/regression/mixed_linear_model.py:2705: RuntimeWarning: invalid value encountered in sqrt\n",
      "  sdf[0:self.k_fe, 1] = np.sqrt(np.diag(self.cov_params()[0:self.k_fe]))\n"
     ]
    }
   ],
   "source": [
    "print(mdf.summary())"
   ]
  }
 ],
 "metadata": {
  "kernelspec": {
   "display_name": "Python 3 (ipykernel)",
   "language": "python",
   "name": "python3"
  },
  "language_info": {
   "codemirror_mode": {
    "name": "ipython",
    "version": 3
   },
   "file_extension": ".py",
   "mimetype": "text/x-python",
   "name": "python",
   "nbconvert_exporter": "python",
   "pygments_lexer": "ipython3",
   "version": "3.7.12"
  }
 },
 "nbformat": 4,
 "nbformat_minor": 5
}
