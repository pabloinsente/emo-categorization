{
 "cells": [
  {
   "cell_type": "code",
   "execution_count": 1,
   "id": "101a8b65-099a-4364-bc0b-59a1502235be",
   "metadata": {},
   "outputs": [],
   "source": [
    "import pandas as pd\n",
    "import numpy as np\n",
    "import altair as alt"
   ]
  },
  {
   "cell_type": "markdown",
   "id": "8cc97337-d94a-43de-bc11-c680c1cb978e",
   "metadata": {},
   "source": [
    "## Data ingestion and formating"
   ]
  },
  {
   "cell_type": "code",
   "execution_count": 2,
   "id": "bd61456b-aaeb-49ba-8d9d-7de3791b7fce",
   "metadata": {},
   "outputs": [],
   "source": [
    "df = pd.read_csv('../data/emotion_forced_choice_uw_students.csv')\n",
    "df_labels = pd.read_csv('../data/emotion_labels.csv')"
   ]
  },
  {
   "cell_type": "code",
   "execution_count": 3,
   "id": "65740250-28ec-448f-b05b-cf7936cfa6d6",
   "metadata": {},
   "outputs": [],
   "source": [
    "df = df.iloc[5:, :] # filter out test rows"
   ]
  },
  {
   "cell_type": "code",
   "execution_count": 4,
   "id": "7cd5c9bf-7025-4823-b684-f7e1c7cb37f8",
   "metadata": {},
   "outputs": [
    {
     "name": "stdout",
     "output_type": "stream",
     "text": [
      "<class 'pandas.core.frame.DataFrame'>\n",
      "RangeIndex: 81 entries, 5 to 85\n",
      "Columns: 220 entries, StartDate to Q195.1\n",
      "dtypes: object(220)\n",
      "memory usage: 139.3+ KB\n"
     ]
    }
   ],
   "source": [
    "df.info()"
   ]
  },
  {
   "cell_type": "code",
   "execution_count": 5,
   "id": "2d93d8f3-5cbd-47fa-92c1-5ece083c07f0",
   "metadata": {},
   "outputs": [],
   "source": [
    "df = df[df['Finished'] =='True'] # filter out incomplete surveys"
   ]
  },
  {
   "cell_type": "code",
   "execution_count": 6,
   "id": "ca063469-8906-4921-ab6f-8c1bcbd8639c",
   "metadata": {},
   "outputs": [
    {
     "name": "stdout",
     "output_type": "stream",
     "text": [
      "<class 'pandas.core.frame.DataFrame'>\n",
      "Int64Index: 51 entries, 5 to 85\n",
      "Columns: 220 entries, StartDate to Q195.1\n",
      "dtypes: object(220)\n",
      "memory usage: 88.1+ KB\n"
     ]
    }
   ],
   "source": [
    "df.info()"
   ]
  },
  {
   "cell_type": "code",
   "execution_count": 37,
   "id": "1ef86e0c-1df5-4c6b-97e1-9b8b1f2cccd6",
   "metadata": {},
   "outputs": [],
   "source": [
    "df.to_csv('../clean_data/forced_choice_emotion_uw_students.csv', index=False)"
   ]
  },
  {
   "cell_type": "markdown",
   "id": "3581b6ed-c1ef-4460-8c0a-c2069f3f6b0e",
   "metadata": {},
   "source": [
    "## Analysis plan:\n",
    "\n",
    "### Exploratory analsys without grouping:\n",
    "\n",
    "- Number of unique words used to describe facial expressions in the dataset\n",
    "- Words by frequency in the dataset (ranking)\n",
    "- Most frequently used word for each picture\n",
    "- Most frequently used word for each emotion category (grouping pictures by expected-emotion)\n",
    "\n",
    "### Exploratory analsys grouping with synonyms:\n",
    "\n",
    "- Group words with their synonyms:\n",
    "    - PyDictionary method\n",
    "     - Wordnet (NLTK) method\n",
    "     - spaCy method\n",
    "     - Word2Vec method\n",
    "- Number of group-words after merging by synonyms\n",
    "- Group-words by frequency in the dataset (ranking)\n",
    "- Most frequently used group-word for each picture\n",
    "- Most frequently used group-word for each emotion category\n",
    "\n",
    "Libraries: https://github.com/johnbumgarner/synonyms_discovery_aggregation\n",
    "\n",
    "### Comparison with expected word categories: \n",
    "- Comparing expected-word and given-word for each picture\n",
    "- Comparing expected-word and given-word for each emotion category (grouping pictures by expected-emotion)"
   ]
  },
  {
   "cell_type": "markdown",
   "id": "615f3688-8188-4b92-b8cf-9bec11e90b56",
   "metadata": {},
   "source": [
    "### Words by frequency for all images (ranking)"
   ]
  },
  {
   "cell_type": "code",
   "execution_count": 8,
   "id": "f8393fd1-6478-4d30-8194-255463fd266e",
   "metadata": {},
   "outputs": [],
   "source": [
    "def count_freq_labels(df):\n",
    "    df_counts = df.stack().reset_index(drop=True).value_counts() # stack as series\n",
    "    df_counts = df_counts.to_frame('counts') # get value_counts as df\n",
    "    df_counts['emotion'] = df_counts.index # get index as col\n",
    "    df_counts = df_counts.reset_index(drop=True) # clean index\n",
    "    df_counts['percent'] = df_counts['counts'] / df_counts['counts'].sum() # compute percentage\n",
    "    return df_counts"
   ]
  },
  {
   "cell_type": "code",
   "execution_count": 9,
   "id": "0046f8a9-0824-4583-a7b4-5dbcdd3653fd",
   "metadata": {},
   "outputs": [],
   "source": [
    "def simple_per_bar(df, title='Title'):\n",
    "    bars = alt.Chart(df, title=title).mark_bar().encode(\n",
    "        alt.X('percent:Q', axis=alt.Axis(format='.0%')),\n",
    "        y=alt.Y('emotion:N', sort='-x'))\n",
    "    \n",
    "    text = bars.mark_text(\n",
    "    align='left',\n",
    "    baseline='middle',\n",
    "    dx=3  # Nudges text to right so it doesn't appear on top of the bar\n",
    "    ).encode(\n",
    "        alt.Text('percent:Q', format='.1%')\n",
    "    )\n",
    "    \n",
    "    chart = (bars + text)\n",
    "    \n",
    "    return chart"
   ]
  },
  {
   "cell_type": "code",
   "execution_count": 10,
   "id": "81bccf75-ce55-4083-85ce-4c0bf254b9e9",
   "metadata": {},
   "outputs": [],
   "source": [
    "def simple_count_bar(df, title='Title'):\n",
    "    bars = alt.Chart(df, title=title).mark_bar().encode(\n",
    "        alt.X('counts:Q'),\n",
    "        y=alt.Y('emotion:N', sort='-x'))\n",
    "    \n",
    "    text = bars.mark_text(\n",
    "    align='left',\n",
    "    baseline='middle',\n",
    "    dx=3  # Nudges text to right so it doesn't appear on top of the bar\n",
    "    ).encode(\n",
    "        alt.Text('counts:Q')\n",
    "    )\n",
    "    \n",
    "    chart = (bars + text)\n",
    "    \n",
    "    return chart"
   ]
  },
  {
   "cell_type": "code",
   "execution_count": 11,
   "id": "55918490-a1d3-46ba-aef0-b7cc07b5083e",
   "metadata": {},
   "outputs": [],
   "source": [
    "df_emo_answers = df.loc[:, 'Q2.1':'Q195.1'] # subset photos"
   ]
  },
  {
   "cell_type": "code",
   "execution_count": 12,
   "id": "9c7b4424-92a0-481a-9372-c7c2f92c420c",
   "metadata": {},
   "outputs": [
    {
     "data": {
      "text/html": [
       "\n",
       "<div id=\"altair-viz-31f17c271e4f4782b8ae4f232dc6e284\"></div>\n",
       "<script type=\"text/javascript\">\n",
       "  (function(spec, embedOpt){\n",
       "    let outputDiv = document.currentScript.previousElementSibling;\n",
       "    if (outputDiv.id !== \"altair-viz-31f17c271e4f4782b8ae4f232dc6e284\") {\n",
       "      outputDiv = document.getElementById(\"altair-viz-31f17c271e4f4782b8ae4f232dc6e284\");\n",
       "    }\n",
       "    const paths = {\n",
       "      \"vega\": \"https://cdn.jsdelivr.net/npm//vega@5?noext\",\n",
       "      \"vega-lib\": \"https://cdn.jsdelivr.net/npm//vega-lib?noext\",\n",
       "      \"vega-lite\": \"https://cdn.jsdelivr.net/npm//vega-lite@4.8.1?noext\",\n",
       "      \"vega-embed\": \"https://cdn.jsdelivr.net/npm//vega-embed@6?noext\",\n",
       "    };\n",
       "\n",
       "    function loadScript(lib) {\n",
       "      return new Promise(function(resolve, reject) {\n",
       "        var s = document.createElement('script');\n",
       "        s.src = paths[lib];\n",
       "        s.async = true;\n",
       "        s.onload = () => resolve(paths[lib]);\n",
       "        s.onerror = () => reject(`Error loading script: ${paths[lib]}`);\n",
       "        document.getElementsByTagName(\"head\")[0].appendChild(s);\n",
       "      });\n",
       "    }\n",
       "\n",
       "    function showError(err) {\n",
       "      outputDiv.innerHTML = `<div class=\"error\" style=\"color:red;\">${err}</div>`;\n",
       "      throw err;\n",
       "    }\n",
       "\n",
       "    function displayChart(vegaEmbed) {\n",
       "      vegaEmbed(outputDiv, spec, embedOpt)\n",
       "        .catch(err => showError(`Javascript Error: ${err.message}<br>This usually means there's a typo in your chart specification. See the javascript console for the full traceback.`));\n",
       "    }\n",
       "\n",
       "    if(typeof define === \"function\" && define.amd) {\n",
       "      requirejs.config({paths});\n",
       "      require([\"vega-embed\"], displayChart, err => showError(`Error loading script: ${err.message}`));\n",
       "    } else if (typeof vegaEmbed === \"function\") {\n",
       "      displayChart(vegaEmbed);\n",
       "    } else {\n",
       "      loadScript(\"vega\")\n",
       "        .then(() => loadScript(\"vega-lite\"))\n",
       "        .then(() => loadScript(\"vega-embed\"))\n",
       "        .catch(showError)\n",
       "        .then(() => displayChart(vegaEmbed));\n",
       "    }\n",
       "  })({\"config\": {\"view\": {\"continuousWidth\": 400, \"continuousHeight\": 300}}, \"layer\": [{\"mark\": \"bar\", \"encoding\": {\"x\": {\"type\": \"quantitative\", \"axis\": {\"format\": \".0%\"}, \"field\": \"percent\"}, \"y\": {\"type\": \"nominal\", \"field\": \"emotion\", \"sort\": \"-x\"}}, \"title\": \"Most frequently selected labels\"}, {\"mark\": {\"type\": \"text\", \"align\": \"left\", \"baseline\": \"middle\", \"dx\": 3}, \"encoding\": {\"text\": {\"type\": \"quantitative\", \"field\": \"percent\", \"format\": \".1%\"}, \"x\": {\"type\": \"quantitative\", \"axis\": {\"format\": \".0%\"}, \"field\": \"percent\"}, \"y\": {\"type\": \"nominal\", \"field\": \"emotion\", \"sort\": \"-x\"}}, \"title\": \"Most frequently selected labels\"}], \"data\": {\"name\": \"data-005428293baed6b7594144299f5282b7\"}, \"$schema\": \"https://vega.github.io/schema/vega-lite/v4.8.1.json\", \"datasets\": {\"data-005428293baed6b7594144299f5282b7\": [{\"counts\": 1545, \"emotion\": \"Happiness\", \"percent\": 0.156155245603396}, {\"counts\": 1413, \"emotion\": \"Neutral\", \"percent\": 0.14281382656155245}, {\"counts\": 1343, \"emotion\": \"Surprise\", \"percent\": 0.13573883161512026}, {\"counts\": 1314, \"emotion\": \"Sadness\", \"percent\": 0.1328077622801698}, {\"counts\": 1114, \"emotion\": \"Disgust\", \"percent\": 0.11259349100464928}, {\"counts\": 1105, \"emotion\": \"Anger\", \"percent\": 0.11168384879725086}, {\"counts\": 739, \"emotion\": \"Other\", \"percent\": 0.07469173236304831}, {\"counts\": 671, \"emotion\": \"Fear\", \"percent\": 0.06781888012937133}, {\"counts\": 650, \"emotion\": \"Uncertain\", \"percent\": 0.06569638164544168}]}}, {\"mode\": \"vega-lite\"});\n",
       "</script>"
      ],
      "text/plain": [
       "alt.LayerChart(...)"
      ]
     },
     "execution_count": 12,
     "metadata": {},
     "output_type": "execute_result"
    }
   ],
   "source": [
    "df_emo_overall = count_freq_labels(df_emo_answers) # \n",
    "simple_per_bar(df_emo_overall, title='Most frequently selected labels')"
   ]
  },
  {
   "cell_type": "code",
   "execution_count": 13,
   "id": "abbbb332-71aa-44bd-91c9-4387146da14b",
   "metadata": {},
   "outputs": [
    {
     "data": {
      "text/html": [
       "\n",
       "<div id=\"altair-viz-7b7a7052453848c5ad3a0ab090aad24f\"></div>\n",
       "<script type=\"text/javascript\">\n",
       "  (function(spec, embedOpt){\n",
       "    let outputDiv = document.currentScript.previousElementSibling;\n",
       "    if (outputDiv.id !== \"altair-viz-7b7a7052453848c5ad3a0ab090aad24f\") {\n",
       "      outputDiv = document.getElementById(\"altair-viz-7b7a7052453848c5ad3a0ab090aad24f\");\n",
       "    }\n",
       "    const paths = {\n",
       "      \"vega\": \"https://cdn.jsdelivr.net/npm//vega@5?noext\",\n",
       "      \"vega-lib\": \"https://cdn.jsdelivr.net/npm//vega-lib?noext\",\n",
       "      \"vega-lite\": \"https://cdn.jsdelivr.net/npm//vega-lite@4.8.1?noext\",\n",
       "      \"vega-embed\": \"https://cdn.jsdelivr.net/npm//vega-embed@6?noext\",\n",
       "    };\n",
       "\n",
       "    function loadScript(lib) {\n",
       "      return new Promise(function(resolve, reject) {\n",
       "        var s = document.createElement('script');\n",
       "        s.src = paths[lib];\n",
       "        s.async = true;\n",
       "        s.onload = () => resolve(paths[lib]);\n",
       "        s.onerror = () => reject(`Error loading script: ${paths[lib]}`);\n",
       "        document.getElementsByTagName(\"head\")[0].appendChild(s);\n",
       "      });\n",
       "    }\n",
       "\n",
       "    function showError(err) {\n",
       "      outputDiv.innerHTML = `<div class=\"error\" style=\"color:red;\">${err}</div>`;\n",
       "      throw err;\n",
       "    }\n",
       "\n",
       "    function displayChart(vegaEmbed) {\n",
       "      vegaEmbed(outputDiv, spec, embedOpt)\n",
       "        .catch(err => showError(`Javascript Error: ${err.message}<br>This usually means there's a typo in your chart specification. See the javascript console for the full traceback.`));\n",
       "    }\n",
       "\n",
       "    if(typeof define === \"function\" && define.amd) {\n",
       "      requirejs.config({paths});\n",
       "      require([\"vega-embed\"], displayChart, err => showError(`Error loading script: ${err.message}`));\n",
       "    } else if (typeof vegaEmbed === \"function\") {\n",
       "      displayChart(vegaEmbed);\n",
       "    } else {\n",
       "      loadScript(\"vega\")\n",
       "        .then(() => loadScript(\"vega-lite\"))\n",
       "        .then(() => loadScript(\"vega-embed\"))\n",
       "        .catch(showError)\n",
       "        .then(() => displayChart(vegaEmbed));\n",
       "    }\n",
       "  })({\"config\": {\"view\": {\"continuousWidth\": 400, \"continuousHeight\": 300}}, \"layer\": [{\"mark\": \"bar\", \"encoding\": {\"x\": {\"type\": \"quantitative\", \"field\": \"counts\"}, \"y\": {\"type\": \"nominal\", \"field\": \"emotion\", \"sort\": \"-x\"}}, \"title\": \"Most frequently selected labels\"}, {\"mark\": {\"type\": \"text\", \"align\": \"left\", \"baseline\": \"middle\", \"dx\": 3}, \"encoding\": {\"text\": {\"type\": \"quantitative\", \"field\": \"counts\"}, \"x\": {\"type\": \"quantitative\", \"field\": \"counts\"}, \"y\": {\"type\": \"nominal\", \"field\": \"emotion\", \"sort\": \"-x\"}}, \"title\": \"Most frequently selected labels\"}], \"data\": {\"name\": \"data-005428293baed6b7594144299f5282b7\"}, \"$schema\": \"https://vega.github.io/schema/vega-lite/v4.8.1.json\", \"datasets\": {\"data-005428293baed6b7594144299f5282b7\": [{\"counts\": 1545, \"emotion\": \"Happiness\", \"percent\": 0.156155245603396}, {\"counts\": 1413, \"emotion\": \"Neutral\", \"percent\": 0.14281382656155245}, {\"counts\": 1343, \"emotion\": \"Surprise\", \"percent\": 0.13573883161512026}, {\"counts\": 1314, \"emotion\": \"Sadness\", \"percent\": 0.1328077622801698}, {\"counts\": 1114, \"emotion\": \"Disgust\", \"percent\": 0.11259349100464928}, {\"counts\": 1105, \"emotion\": \"Anger\", \"percent\": 0.11168384879725086}, {\"counts\": 739, \"emotion\": \"Other\", \"percent\": 0.07469173236304831}, {\"counts\": 671, \"emotion\": \"Fear\", \"percent\": 0.06781888012937133}, {\"counts\": 650, \"emotion\": \"Uncertain\", \"percent\": 0.06569638164544168}]}}, {\"mode\": \"vega-lite\"});\n",
       "</script>"
      ],
      "text/plain": [
       "alt.LayerChart(...)"
      ]
     },
     "execution_count": 13,
     "metadata": {},
     "output_type": "execute_result"
    }
   ],
   "source": [
    "simple_count_bar(df_emo_overall, title='Most frequently selected labels')"
   ]
  },
  {
   "cell_type": "markdown",
   "id": "68bd5682-7512-4454-9673-27bd6ad01646",
   "metadata": {},
   "source": [
    "## Most frequently used word for each emotion category (grouping pictures by expected-emotion)"
   ]
  },
  {
   "cell_type": "code",
   "execution_count": 14,
   "id": "bd79088b-ed11-47f2-8d09-14a8f4f51f11",
   "metadata": {},
   "outputs": [],
   "source": [
    "def emotion_df_formated(df_emo_answers, emotion_label):\n",
    "    df_emo_cat = df_emo_answers.copy() \n",
    "    df_emo_cat_t = df_emo_cat.T # transpose\n",
    "    df_emo_cat_t['photo_id'] = df_emo_cat_t.index # get index as col\n",
    "    df_emo_cat_t = df_emo_cat_t.reset_index(drop=True) # clean index\n",
    "    df_emo_cat_t_labels = pd.concat([df_emo_cat_t, df_labels], axis=1) # add metadata cols\n",
    "    df_label =  df_emo_cat_t_labels[df_emo_cat_t_labels['label'] == emotion_label]\n",
    "    return df_label"
   ]
  },
  {
   "cell_type": "markdown",
   "id": "2129d0c6-d8b8-4a4d-8de8-e521cbb6fec9",
   "metadata": {},
   "source": [
    "### Anger "
   ]
  },
  {
   "cell_type": "code",
   "execution_count": 15,
   "id": "ded59572-4bc5-4734-8525-5f331b776787",
   "metadata": {},
   "outputs": [],
   "source": [
    "df_anger = emotion_df_formated(df_emo_answers, 'anger') # subset 'anger' rows\n",
    "df_anger_ans = df_anger.iloc[:, 0:4] # extract answers only\n",
    "df_anger_overall = count_freq_labels(df_anger_ans) # count label freq\n",
    "chart_anger = simple_per_bar(df_anger_overall, title='Expected label: Anger')"
   ]
  },
  {
   "cell_type": "markdown",
   "id": "e67b1442-81fb-412b-ac9b-6606b2701365",
   "metadata": {},
   "source": [
    "### Disgust"
   ]
  },
  {
   "cell_type": "code",
   "execution_count": 16,
   "id": "028d3bd1-348a-4c26-acbf-38cfdaf768f9",
   "metadata": {},
   "outputs": [],
   "source": [
    "df_disgust = emotion_df_formated(df_emo_answers, 'disgust') # subset 'disgust' rows\n",
    "df_disgust_ans = df_disgust.iloc[:, 0:4] # extract answers only\n",
    "df_disgust_overall = count_freq_labels(df_disgust_ans) # count label freq\n",
    "chart_disgust = simple_per_bar(df_disgust_overall, title='Expected label: Disgust')"
   ]
  },
  {
   "cell_type": "markdown",
   "id": "474f1bfa-d0e8-40c7-9e87-59d83e961979",
   "metadata": {},
   "source": [
    "### Fear"
   ]
  },
  {
   "cell_type": "code",
   "execution_count": 17,
   "id": "61fd24eb-0c53-48c8-8435-7543dc8e56bb",
   "metadata": {},
   "outputs": [],
   "source": [
    "df_fear = emotion_df_formated(df_emo_answers, 'fear') # subset 'fear' rows\n",
    "df_fear_ans = df_fear.iloc[:, 0:4] # extract answers only\n",
    "df_fear_overall = count_freq_labels(df_fear_ans) # count label freq\n",
    "chart_fear = simple_per_bar(df_fear_overall, title='Expected label: Fear')"
   ]
  },
  {
   "cell_type": "markdown",
   "id": "c416331c-8652-407e-8275-46f6283905d8",
   "metadata": {},
   "source": [
    "### Surprise"
   ]
  },
  {
   "cell_type": "code",
   "execution_count": 18,
   "id": "741e08a9-18cb-4347-8536-a9d68dc70dcc",
   "metadata": {},
   "outputs": [],
   "source": [
    "df_surprise = emotion_df_formated(df_emo_answers, 'surprise') # subset 'surprise' rows\n",
    "df_surprise_ans = df_surprise.iloc[:, 0:4] # extract answers only\n",
    "df_surprise_overall = count_freq_labels(df_surprise_ans) # count label freq\n",
    "chart_surprise = simple_per_bar(df_surprise_overall, title='Expected label: Surprise')"
   ]
  },
  {
   "cell_type": "markdown",
   "id": "f79a758d-8367-48f6-a223-5c786c10889f",
   "metadata": {},
   "source": [
    "### Happiness"
   ]
  },
  {
   "cell_type": "code",
   "execution_count": 19,
   "id": "f1339111-e625-41e4-a070-b99acf478d2b",
   "metadata": {},
   "outputs": [],
   "source": [
    "df_happiness = emotion_df_formated(df_emo_answers, 'happiness') # subset 'hapiness' rows\n",
    "df_happiness_ans = df_happiness.iloc[:, 0:4] # extract answers only\n",
    "df_happiness_overall = count_freq_labels(df_happiness_ans) # count label freq\n",
    "chart_happiness = simple_per_bar(df_happiness_overall, title='Expected label: Happiness')"
   ]
  },
  {
   "cell_type": "markdown",
   "id": "c98001ee-d48b-4dba-b4fe-1b4ccbc3fbd2",
   "metadata": {},
   "source": [
    "### Sadness"
   ]
  },
  {
   "cell_type": "code",
   "execution_count": 20,
   "id": "188cc9db-5b06-46d4-ade2-7935126a8066",
   "metadata": {},
   "outputs": [],
   "source": [
    "df_sadness = emotion_df_formated(df_emo_answers, 'sadness') # subset 'sadness' rows\n",
    "df_sadness_ans = df_sadness.iloc[:, 0:4] # extract answers only\n",
    "df_sadness_overall = count_freq_labels(df_sadness_ans) # count label freq\n",
    "chart_sadness = simple_per_bar(df_sadness_overall, title='Expected label: Sadness')"
   ]
  },
  {
   "cell_type": "markdown",
   "id": "9fffd5e5-b2d0-4086-a2a4-3aee685406bc",
   "metadata": {},
   "source": [
    "### Uncertain"
   ]
  },
  {
   "cell_type": "code",
   "execution_count": 21,
   "id": "c2c334e5-189f-4a40-b9d0-a84e45f4bb08",
   "metadata": {},
   "outputs": [],
   "source": [
    "df_sadness = emotion_df_formated(df_emo_answers, 'sadness') # subset 'uncertain' rows\n",
    "df_sadness_ans = df_sadness.iloc[:, 0:4] # extract answers only\n",
    "df_sadness_overall = count_freq_labels(df_sadness_ans) # count label freq\n",
    "chart_uncertain = simple_per_bar(df_sadness_overall, title='Expected label: Uncertain/Other')"
   ]
  },
  {
   "cell_type": "markdown",
   "id": "ae625c18-bf09-440a-8abb-f1b0acc7c23f",
   "metadata": {},
   "source": [
    "### Neutral"
   ]
  },
  {
   "cell_type": "code",
   "execution_count": 22,
   "id": "70cbc869-9a7b-4302-86b8-1e06c577d41e",
   "metadata": {},
   "outputs": [],
   "source": [
    "df_neutral = emotion_df_formated(df_emo_answers, 'neutral') # subset 'neutral' rows\n",
    "df_neutral_ans = df_neutral.iloc[:, 0:4] # extract answers only\n",
    "df_neutral_overall = count_freq_labels(df_neutral_ans) # count label freq\n",
    "chart_neutral = simple_per_bar(df_neutral_overall, title='Expected label: Neutral')"
   ]
  },
  {
   "cell_type": "code",
   "execution_count": 23,
   "id": "f2b1f4da-4711-4d41-a671-e6d445963488",
   "metadata": {},
   "outputs": [
    {
     "data": {
      "text/html": [
       "\n",
       "<div id=\"altair-viz-e37208fecba44568b916dbaef9a3fe33\"></div>\n",
       "<script type=\"text/javascript\">\n",
       "  (function(spec, embedOpt){\n",
       "    let outputDiv = document.currentScript.previousElementSibling;\n",
       "    if (outputDiv.id !== \"altair-viz-e37208fecba44568b916dbaef9a3fe33\") {\n",
       "      outputDiv = document.getElementById(\"altair-viz-e37208fecba44568b916dbaef9a3fe33\");\n",
       "    }\n",
       "    const paths = {\n",
       "      \"vega\": \"https://cdn.jsdelivr.net/npm//vega@5?noext\",\n",
       "      \"vega-lib\": \"https://cdn.jsdelivr.net/npm//vega-lib?noext\",\n",
       "      \"vega-lite\": \"https://cdn.jsdelivr.net/npm//vega-lite@4.8.1?noext\",\n",
       "      \"vega-embed\": \"https://cdn.jsdelivr.net/npm//vega-embed@6?noext\",\n",
       "    };\n",
       "\n",
       "    function loadScript(lib) {\n",
       "      return new Promise(function(resolve, reject) {\n",
       "        var s = document.createElement('script');\n",
       "        s.src = paths[lib];\n",
       "        s.async = true;\n",
       "        s.onload = () => resolve(paths[lib]);\n",
       "        s.onerror = () => reject(`Error loading script: ${paths[lib]}`);\n",
       "        document.getElementsByTagName(\"head\")[0].appendChild(s);\n",
       "      });\n",
       "    }\n",
       "\n",
       "    function showError(err) {\n",
       "      outputDiv.innerHTML = `<div class=\"error\" style=\"color:red;\">${err}</div>`;\n",
       "      throw err;\n",
       "    }\n",
       "\n",
       "    function displayChart(vegaEmbed) {\n",
       "      vegaEmbed(outputDiv, spec, embedOpt)\n",
       "        .catch(err => showError(`Javascript Error: ${err.message}<br>This usually means there's a typo in your chart specification. See the javascript console for the full traceback.`));\n",
       "    }\n",
       "\n",
       "    if(typeof define === \"function\" && define.amd) {\n",
       "      requirejs.config({paths});\n",
       "      require([\"vega-embed\"], displayChart, err => showError(`Error loading script: ${err.message}`));\n",
       "    } else if (typeof vegaEmbed === \"function\") {\n",
       "      displayChart(vegaEmbed);\n",
       "    } else {\n",
       "      loadScript(\"vega\")\n",
       "        .then(() => loadScript(\"vega-lite\"))\n",
       "        .then(() => loadScript(\"vega-embed\"))\n",
       "        .catch(showError)\n",
       "        .then(() => displayChart(vegaEmbed));\n",
       "    }\n",
       "  })({\"config\": {\"view\": {\"continuousWidth\": 400, \"continuousHeight\": 300}}, \"vconcat\": [{\"hconcat\": [{\"layer\": [{\"mark\": \"bar\", \"encoding\": {\"x\": {\"type\": \"quantitative\", \"axis\": {\"format\": \".0%\"}, \"field\": \"percent\"}, \"y\": {\"type\": \"nominal\", \"field\": \"emotion\", \"sort\": \"-x\"}}, \"title\": \"Expected label: Anger\"}, {\"mark\": {\"type\": \"text\", \"align\": \"left\", \"baseline\": \"middle\", \"dx\": 3}, \"encoding\": {\"text\": {\"type\": \"quantitative\", \"field\": \"percent\", \"format\": \".1%\"}, \"x\": {\"type\": \"quantitative\", \"axis\": {\"format\": \".0%\"}, \"field\": \"percent\"}, \"y\": {\"type\": \"nominal\", \"field\": \"emotion\", \"sort\": \"-x\"}}, \"title\": \"Expected label: Anger\"}], \"data\": {\"name\": \"data-fc1476c212780d0025a4b9df6c674662\"}}, {\"layer\": [{\"mark\": \"bar\", \"encoding\": {\"x\": {\"type\": \"quantitative\", \"axis\": {\"format\": \".0%\"}, \"field\": \"percent\"}, \"y\": {\"type\": \"nominal\", \"field\": \"emotion\", \"sort\": \"-x\"}}, \"title\": \"Expected label: Disgust\"}, {\"mark\": {\"type\": \"text\", \"align\": \"left\", \"baseline\": \"middle\", \"dx\": 3}, \"encoding\": {\"text\": {\"type\": \"quantitative\", \"field\": \"percent\", \"format\": \".1%\"}, \"x\": {\"type\": \"quantitative\", \"axis\": {\"format\": \".0%\"}, \"field\": \"percent\"}, \"y\": {\"type\": \"nominal\", \"field\": \"emotion\", \"sort\": \"-x\"}}, \"title\": \"Expected label: Disgust\"}], \"data\": {\"name\": \"data-9bd4851a32499b1b0c3c2812359bb11b\"}}]}, {\"hconcat\": [{\"layer\": [{\"mark\": \"bar\", \"encoding\": {\"x\": {\"type\": \"quantitative\", \"axis\": {\"format\": \".0%\"}, \"field\": \"percent\"}, \"y\": {\"type\": \"nominal\", \"field\": \"emotion\", \"sort\": \"-x\"}}, \"title\": \"Expected label: Fear\"}, {\"mark\": {\"type\": \"text\", \"align\": \"left\", \"baseline\": \"middle\", \"dx\": 3}, \"encoding\": {\"text\": {\"type\": \"quantitative\", \"field\": \"percent\", \"format\": \".1%\"}, \"x\": {\"type\": \"quantitative\", \"axis\": {\"format\": \".0%\"}, \"field\": \"percent\"}, \"y\": {\"type\": \"nominal\", \"field\": \"emotion\", \"sort\": \"-x\"}}, \"title\": \"Expected label: Fear\"}], \"data\": {\"name\": \"data-9112cdb226a14694bc4d511731db68d3\"}}, {\"layer\": [{\"mark\": \"bar\", \"encoding\": {\"x\": {\"type\": \"quantitative\", \"axis\": {\"format\": \".0%\"}, \"field\": \"percent\"}, \"y\": {\"type\": \"nominal\", \"field\": \"emotion\", \"sort\": \"-x\"}}, \"title\": \"Expected label: Surprise\"}, {\"mark\": {\"type\": \"text\", \"align\": \"left\", \"baseline\": \"middle\", \"dx\": 3}, \"encoding\": {\"text\": {\"type\": \"quantitative\", \"field\": \"percent\", \"format\": \".1%\"}, \"x\": {\"type\": \"quantitative\", \"axis\": {\"format\": \".0%\"}, \"field\": \"percent\"}, \"y\": {\"type\": \"nominal\", \"field\": \"emotion\", \"sort\": \"-x\"}}, \"title\": \"Expected label: Surprise\"}], \"data\": {\"name\": \"data-a4b4ab5f258e8ccc037045c280ca4046\"}}]}, {\"hconcat\": [{\"layer\": [{\"mark\": \"bar\", \"encoding\": {\"x\": {\"type\": \"quantitative\", \"axis\": {\"format\": \".0%\"}, \"field\": \"percent\"}, \"y\": {\"type\": \"nominal\", \"field\": \"emotion\", \"sort\": \"-x\"}}, \"title\": \"Expected label: Happiness\"}, {\"mark\": {\"type\": \"text\", \"align\": \"left\", \"baseline\": \"middle\", \"dx\": 3}, \"encoding\": {\"text\": {\"type\": \"quantitative\", \"field\": \"percent\", \"format\": \".1%\"}, \"x\": {\"type\": \"quantitative\", \"axis\": {\"format\": \".0%\"}, \"field\": \"percent\"}, \"y\": {\"type\": \"nominal\", \"field\": \"emotion\", \"sort\": \"-x\"}}, \"title\": \"Expected label: Happiness\"}], \"data\": {\"name\": \"data-0538362e27c8f1e3a300cac866675dba\"}}, {\"layer\": [{\"mark\": \"bar\", \"encoding\": {\"x\": {\"type\": \"quantitative\", \"axis\": {\"format\": \".0%\"}, \"field\": \"percent\"}, \"y\": {\"type\": \"nominal\", \"field\": \"emotion\", \"sort\": \"-x\"}}, \"title\": \"Expected label: Sadness\"}, {\"mark\": {\"type\": \"text\", \"align\": \"left\", \"baseline\": \"middle\", \"dx\": 3}, \"encoding\": {\"text\": {\"type\": \"quantitative\", \"field\": \"percent\", \"format\": \".1%\"}, \"x\": {\"type\": \"quantitative\", \"axis\": {\"format\": \".0%\"}, \"field\": \"percent\"}, \"y\": {\"type\": \"nominal\", \"field\": \"emotion\", \"sort\": \"-x\"}}, \"title\": \"Expected label: Sadness\"}], \"data\": {\"name\": \"data-aed253b1cf0297ee55853b1abf5cd819\"}}]}, {\"hconcat\": [{\"layer\": [{\"mark\": \"bar\", \"encoding\": {\"x\": {\"type\": \"quantitative\", \"axis\": {\"format\": \".0%\"}, \"field\": \"percent\"}, \"y\": {\"type\": \"nominal\", \"field\": \"emotion\", \"sort\": \"-x\"}}, \"title\": \"Expected label: Neutral\"}, {\"mark\": {\"type\": \"text\", \"align\": \"left\", \"baseline\": \"middle\", \"dx\": 3}, \"encoding\": {\"text\": {\"type\": \"quantitative\", \"field\": \"percent\", \"format\": \".1%\"}, \"x\": {\"type\": \"quantitative\", \"axis\": {\"format\": \".0%\"}, \"field\": \"percent\"}, \"y\": {\"type\": \"nominal\", \"field\": \"emotion\", \"sort\": \"-x\"}}, \"title\": \"Expected label: Neutral\"}], \"data\": {\"name\": \"data-d5ddd7779528d86028d32ee2111bcae6\"}}, {\"layer\": [{\"mark\": \"bar\", \"encoding\": {\"x\": {\"type\": \"quantitative\", \"axis\": {\"format\": \".0%\"}, \"field\": \"percent\"}, \"y\": {\"type\": \"nominal\", \"field\": \"emotion\", \"sort\": \"-x\"}}, \"title\": \"Expected label: Uncertain/Other\"}, {\"mark\": {\"type\": \"text\", \"align\": \"left\", \"baseline\": \"middle\", \"dx\": 3}, \"encoding\": {\"text\": {\"type\": \"quantitative\", \"field\": \"percent\", \"format\": \".1%\"}, \"x\": {\"type\": \"quantitative\", \"axis\": {\"format\": \".0%\"}, \"field\": \"percent\"}, \"y\": {\"type\": \"nominal\", \"field\": \"emotion\", \"sort\": \"-x\"}}, \"title\": \"Expected label: Uncertain/Other\"}], \"data\": {\"name\": \"data-aed253b1cf0297ee55853b1abf5cd819\"}}]}], \"$schema\": \"https://vega.github.io/schema/vega-lite/v4.8.1.json\", \"datasets\": {\"data-fc1476c212780d0025a4b9df6c674662\": [{\"counts\": 56, \"emotion\": \"Anger\", \"percent\": 0.5833333333333334}, {\"counts\": 13, \"emotion\": \"Neutral\", \"percent\": 0.13541666666666666}, {\"counts\": 10, \"emotion\": \"Disgust\", \"percent\": 0.10416666666666667}, {\"counts\": 5, \"emotion\": \"Fear\", \"percent\": 0.052083333333333336}, {\"counts\": 4, \"emotion\": \"Sadness\", \"percent\": 0.041666666666666664}, {\"counts\": 4, \"emotion\": \"Uncertain\", \"percent\": 0.041666666666666664}, {\"counts\": 2, \"emotion\": \"Other\", \"percent\": 0.020833333333333332}, {\"counts\": 1, \"emotion\": \"Happiness\", \"percent\": 0.010416666666666666}, {\"counts\": 1, \"emotion\": \"Surprise\", \"percent\": 0.010416666666666666}], \"data-9bd4851a32499b1b0c3c2812359bb11b\": [{\"counts\": 49, \"emotion\": \"Disgust\", \"percent\": 0.5104166666666666}, {\"counts\": 14, \"emotion\": \"Anger\", \"percent\": 0.14583333333333334}, {\"counts\": 9, \"emotion\": \"Uncertain\", \"percent\": 0.09375}, {\"counts\": 8, \"emotion\": \"Other\", \"percent\": 0.08333333333333333}, {\"counts\": 5, \"emotion\": \"Surprise\", \"percent\": 0.052083333333333336}, {\"counts\": 4, \"emotion\": \"Neutral\", \"percent\": 0.041666666666666664}, {\"counts\": 4, \"emotion\": \"Fear\", \"percent\": 0.041666666666666664}, {\"counts\": 2, \"emotion\": \"Happiness\", \"percent\": 0.020833333333333332}, {\"counts\": 1, \"emotion\": \"Sadness\", \"percent\": 0.010416666666666666}], \"data-9112cdb226a14694bc4d511731db68d3\": [{\"counts\": 32, \"emotion\": \"Fear\", \"percent\": 0.3333333333333333}, {\"counts\": 28, \"emotion\": \"Surprise\", \"percent\": 0.2916666666666667}, {\"counts\": 15, \"emotion\": \"Sadness\", \"percent\": 0.15625}, {\"counts\": 5, \"emotion\": \"Disgust\", \"percent\": 0.052083333333333336}, {\"counts\": 5, \"emotion\": \"Uncertain\", \"percent\": 0.052083333333333336}, {\"counts\": 4, \"emotion\": \"Neutral\", \"percent\": 0.041666666666666664}, {\"counts\": 3, \"emotion\": \"Happiness\", \"percent\": 0.03125}, {\"counts\": 3, \"emotion\": \"Other\", \"percent\": 0.03125}, {\"counts\": 1, \"emotion\": \"Anger\", \"percent\": 0.010416666666666666}], \"data-a4b4ab5f258e8ccc037045c280ca4046\": [{\"counts\": 52, \"emotion\": \"Surprise\", \"percent\": 0.5416666666666666}, {\"counts\": 14, \"emotion\": \"Happiness\", \"percent\": 0.14583333333333334}, {\"counts\": 12, \"emotion\": \"Neutral\", \"percent\": 0.125}, {\"counts\": 9, \"emotion\": \"Fear\", \"percent\": 0.09375}, {\"counts\": 4, \"emotion\": \"Other\", \"percent\": 0.041666666666666664}, {\"counts\": 4, \"emotion\": \"Uncertain\", \"percent\": 0.041666666666666664}, {\"counts\": 1, \"emotion\": \"Anger\", \"percent\": 0.010416666666666666}], \"data-0538362e27c8f1e3a300cac866675dba\": [{\"counts\": 84, \"emotion\": \"Happiness\", \"percent\": 0.875}, {\"counts\": 9, \"emotion\": \"Neutral\", \"percent\": 0.09375}, {\"counts\": 1, \"emotion\": \"Sadness\", \"percent\": 0.010416666666666666}, {\"counts\": 1, \"emotion\": \"Uncertain\", \"percent\": 0.010416666666666666}, {\"counts\": 1, \"emotion\": \"Surprise\", \"percent\": 0.010416666666666666}], \"data-aed253b1cf0297ee55853b1abf5cd819\": [{\"counts\": 67, \"emotion\": \"Sadness\", \"percent\": 0.6979166666666666}, {\"counts\": 7, \"emotion\": \"Anger\", \"percent\": 0.07291666666666667}, {\"counts\": 5, \"emotion\": \"Uncertain\", \"percent\": 0.052083333333333336}, {\"counts\": 5, \"emotion\": \"Fear\", \"percent\": 0.052083333333333336}, {\"counts\": 5, \"emotion\": \"Neutral\", \"percent\": 0.052083333333333336}, {\"counts\": 5, \"emotion\": \"Disgust\", \"percent\": 0.052083333333333336}, {\"counts\": 2, \"emotion\": \"Other\", \"percent\": 0.020833333333333332}], \"data-d5ddd7779528d86028d32ee2111bcae6\": [{\"counts\": 73, \"emotion\": \"Neutral\", \"percent\": 0.7604166666666666}, {\"counts\": 6, \"emotion\": \"Happiness\", \"percent\": 0.0625}, {\"counts\": 6, \"emotion\": \"Uncertain\", \"percent\": 0.0625}, {\"counts\": 3, \"emotion\": \"Disgust\", \"percent\": 0.03125}, {\"counts\": 3, \"emotion\": \"Other\", \"percent\": 0.03125}, {\"counts\": 2, \"emotion\": \"Sadness\", \"percent\": 0.020833333333333332}, {\"counts\": 2, \"emotion\": \"Anger\", \"percent\": 0.020833333333333332}, {\"counts\": 1, \"emotion\": \"Fear\", \"percent\": 0.010416666666666666}]}}, {\"mode\": \"vega-lite\"});\n",
       "</script>"
      ],
      "text/plain": [
       "alt.VConcatChart(...)"
      ]
     },
     "execution_count": 23,
     "metadata": {},
     "output_type": "execute_result"
    }
   ],
   "source": [
    "(chart_anger | chart_disgust) & (chart_fear | chart_surprise) & (chart_happiness | chart_sadness) & (chart_neutral | chart_uncertain) "
   ]
  },
  {
   "cell_type": "markdown",
   "id": "48259bef-9715-408d-8218-1aa91f9e147a",
   "metadata": {},
   "source": [
    "## Most frequently used word for each emotion category (grouping pictures by expected-emotion), by ethnicity group"
   ]
  },
  {
   "cell_type": "code",
   "execution_count": 24,
   "id": "0970cc60-c68b-46e4-b026-86ee513c8b17",
   "metadata": {},
   "outputs": [],
   "source": [
    "def emotion_df_formated_2(df_emo_answers, emotion_label, ethnicity):\n",
    "    df_emo_cat = df_emo_answers.copy() \n",
    "    df_emo_cat_t = df_emo_cat.T # transpose\n",
    "    df_emo_cat_t['photo_id'] = df_emo_cat_t.index # get index as col\n",
    "    df_emo_cat_t = df_emo_cat_t.reset_index(drop=True) # clean index\n",
    "    df_emo_cat_t_labels = pd.concat([df_emo_cat_t, df_labels], axis=1) # add metadata cols\n",
    "    df_label =  df_emo_cat_t_labels[(df_emo_cat_t_labels['label'] == emotion_label) & (df_emo_cat_t_labels['ethnicity'] == ethnicity)]\n",
    "    return df_label"
   ]
  },
  {
   "cell_type": "code",
   "execution_count": 25,
   "id": "fe5259df-e475-41fd-9e9b-b2f576b6da36",
   "metadata": {},
   "outputs": [],
   "source": [
    "def wrapper_chart_emotion(df_emo_answers, emotion, ethnicity):\n",
    "    df = emotion_df_formated_2(df_emo_answers, emotion,  ethnicity) # subset 'anger' rows\n",
    "    df_ans = df.iloc[:, 0:4] # extract answers only\n",
    "    df_count = count_freq_labels(df_ans) # count label freq\n",
    "    chart = simple_per_bar(df_count, title='Expected label: '+ emotion +' - ' + ethnicity)\n",
    "    return chart"
   ]
  },
  {
   "cell_type": "markdown",
   "id": "1a604ec0-e029-4eba-98ef-a9932ce15e10",
   "metadata": {},
   "source": [
    "## Anger"
   ]
  },
  {
   "cell_type": "code",
   "execution_count": 26,
   "id": "99d342aa-d79c-4a2a-9bb3-533907741662",
   "metadata": {},
   "outputs": [],
   "source": [
    "chart_anger_bipoc = wrapper_chart_emotion(df_emo_answers, 'anger', 'bipoc')"
   ]
  },
  {
   "cell_type": "code",
   "execution_count": 27,
   "id": "8f7c83f8-067b-408c-b8d0-ba5bc1bbd9c3",
   "metadata": {},
   "outputs": [],
   "source": [
    "chart_anger_white = wrapper_chart_emotion(df_emo_answers, 'anger', 'white')"
   ]
  },
  {
   "cell_type": "markdown",
   "id": "8e002ad4-700b-4dce-b014-3abb55d89d46",
   "metadata": {},
   "source": [
    "### Disgust"
   ]
  },
  {
   "cell_type": "code",
   "execution_count": 28,
   "id": "837f0ba8-2a02-4695-b1ea-67a7234081cd",
   "metadata": {},
   "outputs": [],
   "source": [
    "chart_disgust_bipoc = wrapper_chart_emotion(df_emo_answers, 'disgust', 'bipoc')\n",
    "chart_disgust_white = wrapper_chart_emotion(df_emo_answers, 'disgust', 'white')"
   ]
  },
  {
   "cell_type": "markdown",
   "id": "f8e754a1-f659-4163-be91-c7f3ef796ec6",
   "metadata": {},
   "source": [
    "### Fear"
   ]
  },
  {
   "cell_type": "code",
   "execution_count": 29,
   "id": "1d22ad69-5abd-45dc-8490-2329b9f96fd6",
   "metadata": {},
   "outputs": [],
   "source": [
    "chart_fear_bipoc = wrapper_chart_emotion(df_emo_answers, 'fear', 'bipoc')\n",
    "chart_fear_white = wrapper_chart_emotion(df_emo_answers, 'fear', 'white')"
   ]
  },
  {
   "cell_type": "markdown",
   "id": "8b97f496-430f-4e4c-85e7-a5e3d65174a9",
   "metadata": {},
   "source": [
    "### Surprise"
   ]
  },
  {
   "cell_type": "code",
   "execution_count": 30,
   "id": "785a28be-0e85-4a1a-9542-6fdc4a973995",
   "metadata": {},
   "outputs": [],
   "source": [
    "chart_surprise_bipoc= wrapper_chart_emotion(df_emo_answers, 'surprise', 'bipoc')\n",
    "chart_surprise_white = wrapper_chart_emotion(df_emo_answers, 'surprise', 'white')"
   ]
  },
  {
   "cell_type": "markdown",
   "id": "ef5d8e32-ae37-4dbf-9eb1-6769a13b69d5",
   "metadata": {},
   "source": [
    "### Happiness"
   ]
  },
  {
   "cell_type": "code",
   "execution_count": 31,
   "id": "469bf336-40cf-4409-9e7c-c4f4f40d0fdd",
   "metadata": {},
   "outputs": [],
   "source": [
    "chart_happiness_bipoc = wrapper_chart_emotion(df_emo_answers, 'happiness', 'bipoc')\n",
    "chart_happiness_white = wrapper_chart_emotion(df_emo_answers, 'happiness', 'white')"
   ]
  },
  {
   "cell_type": "markdown",
   "id": "e83b4515-e445-49ed-aba0-a9c866ef843c",
   "metadata": {},
   "source": [
    "### Sadness"
   ]
  },
  {
   "cell_type": "code",
   "execution_count": 32,
   "id": "fc1140e4-48ec-41de-80fc-2c97fe45f0cb",
   "metadata": {},
   "outputs": [],
   "source": [
    "chart_sadness_bipoc = wrapper_chart_emotion(df_emo_answers, 'sadness', 'bipoc')\n",
    "chart_sadness_white = wrapper_chart_emotion(df_emo_answers, 'sadness', 'white')"
   ]
  },
  {
   "cell_type": "markdown",
   "id": "c56cbffc-094e-4075-94fd-ed2590499849",
   "metadata": {},
   "source": [
    "### Neutral"
   ]
  },
  {
   "cell_type": "code",
   "execution_count": 33,
   "id": "5fffa5a3-7127-48e2-b7ff-8da593824ab8",
   "metadata": {},
   "outputs": [],
   "source": [
    "chart_neutral_bipoc = wrapper_chart_emotion(df_emo_answers, 'neutral', 'bipoc')\n",
    "chart_neutral_white = wrapper_chart_emotion(df_emo_answers, 'neutral', 'white')"
   ]
  },
  {
   "cell_type": "markdown",
   "id": "c7307bde-32fc-41a4-bdb9-7d31600fc5a6",
   "metadata": {},
   "source": [
    "### Uncertain/Other"
   ]
  },
  {
   "cell_type": "code",
   "execution_count": 34,
   "id": "7c5bbf1c-8381-42ab-bc38-ef8011b221f6",
   "metadata": {},
   "outputs": [],
   "source": [
    "chart_uncertain_bipoc = wrapper_chart_emotion(df_emo_answers, 'uncertain', 'bipoc')\n",
    "chart_uncertain_white = wrapper_chart_emotion(df_emo_answers, 'uncertain', 'white')"
   ]
  },
  {
   "cell_type": "code",
   "execution_count": 35,
   "id": "b424914d-38a5-4741-b2c9-cbc4b65ed93a",
   "metadata": {},
   "outputs": [
    {
     "data": {
      "text/html": [
       "\n",
       "<div id=\"altair-viz-6f9834be76534932ae642240cc60ee29\"></div>\n",
       "<script type=\"text/javascript\">\n",
       "  (function(spec, embedOpt){\n",
       "    let outputDiv = document.currentScript.previousElementSibling;\n",
       "    if (outputDiv.id !== \"altair-viz-6f9834be76534932ae642240cc60ee29\") {\n",
       "      outputDiv = document.getElementById(\"altair-viz-6f9834be76534932ae642240cc60ee29\");\n",
       "    }\n",
       "    const paths = {\n",
       "      \"vega\": \"https://cdn.jsdelivr.net/npm//vega@5?noext\",\n",
       "      \"vega-lib\": \"https://cdn.jsdelivr.net/npm//vega-lib?noext\",\n",
       "      \"vega-lite\": \"https://cdn.jsdelivr.net/npm//vega-lite@4.8.1?noext\",\n",
       "      \"vega-embed\": \"https://cdn.jsdelivr.net/npm//vega-embed@6?noext\",\n",
       "    };\n",
       "\n",
       "    function loadScript(lib) {\n",
       "      return new Promise(function(resolve, reject) {\n",
       "        var s = document.createElement('script');\n",
       "        s.src = paths[lib];\n",
       "        s.async = true;\n",
       "        s.onload = () => resolve(paths[lib]);\n",
       "        s.onerror = () => reject(`Error loading script: ${paths[lib]}`);\n",
       "        document.getElementsByTagName(\"head\")[0].appendChild(s);\n",
       "      });\n",
       "    }\n",
       "\n",
       "    function showError(err) {\n",
       "      outputDiv.innerHTML = `<div class=\"error\" style=\"color:red;\">${err}</div>`;\n",
       "      throw err;\n",
       "    }\n",
       "\n",
       "    function displayChart(vegaEmbed) {\n",
       "      vegaEmbed(outputDiv, spec, embedOpt)\n",
       "        .catch(err => showError(`Javascript Error: ${err.message}<br>This usually means there's a typo in your chart specification. See the javascript console for the full traceback.`));\n",
       "    }\n",
       "\n",
       "    if(typeof define === \"function\" && define.amd) {\n",
       "      requirejs.config({paths});\n",
       "      require([\"vega-embed\"], displayChart, err => showError(`Error loading script: ${err.message}`));\n",
       "    } else if (typeof vegaEmbed === \"function\") {\n",
       "      displayChart(vegaEmbed);\n",
       "    } else {\n",
       "      loadScript(\"vega\")\n",
       "        .then(() => loadScript(\"vega-lite\"))\n",
       "        .then(() => loadScript(\"vega-embed\"))\n",
       "        .catch(showError)\n",
       "        .then(() => displayChart(vegaEmbed));\n",
       "    }\n",
       "  })({\"config\": {\"view\": {\"continuousWidth\": 400, \"continuousHeight\": 300}}, \"vconcat\": [{\"hconcat\": [{\"layer\": [{\"mark\": \"bar\", \"encoding\": {\"x\": {\"type\": \"quantitative\", \"axis\": {\"format\": \".0%\"}, \"field\": \"percent\"}, \"y\": {\"type\": \"nominal\", \"field\": \"emotion\", \"sort\": \"-x\"}}, \"title\": \"Expected label: anger - bipoc\"}, {\"mark\": {\"type\": \"text\", \"align\": \"left\", \"baseline\": \"middle\", \"dx\": 3}, \"encoding\": {\"text\": {\"type\": \"quantitative\", \"field\": \"percent\", \"format\": \".1%\"}, \"x\": {\"type\": \"quantitative\", \"axis\": {\"format\": \".0%\"}, \"field\": \"percent\"}, \"y\": {\"type\": \"nominal\", \"field\": \"emotion\", \"sort\": \"-x\"}}, \"title\": \"Expected label: anger - bipoc\"}], \"data\": {\"name\": \"data-d3e30682263fb35a11d4714b225233fb\"}}, {\"layer\": [{\"mark\": \"bar\", \"encoding\": {\"x\": {\"type\": \"quantitative\", \"axis\": {\"format\": \".0%\"}, \"field\": \"percent\"}, \"y\": {\"type\": \"nominal\", \"field\": \"emotion\", \"sort\": \"-x\"}}, \"title\": \"Expected label: anger - white\"}, {\"mark\": {\"type\": \"text\", \"align\": \"left\", \"baseline\": \"middle\", \"dx\": 3}, \"encoding\": {\"text\": {\"type\": \"quantitative\", \"field\": \"percent\", \"format\": \".1%\"}, \"x\": {\"type\": \"quantitative\", \"axis\": {\"format\": \".0%\"}, \"field\": \"percent\"}, \"y\": {\"type\": \"nominal\", \"field\": \"emotion\", \"sort\": \"-x\"}}, \"title\": \"Expected label: anger - white\"}], \"data\": {\"name\": \"data-9522b54f64fa749e5f44632d41c3baf8\"}}]}, {\"hconcat\": [{\"layer\": [{\"mark\": \"bar\", \"encoding\": {\"x\": {\"type\": \"quantitative\", \"axis\": {\"format\": \".0%\"}, \"field\": \"percent\"}, \"y\": {\"type\": \"nominal\", \"field\": \"emotion\", \"sort\": \"-x\"}}, \"title\": \"Expected label: disgust - bipoc\"}, {\"mark\": {\"type\": \"text\", \"align\": \"left\", \"baseline\": \"middle\", \"dx\": 3}, \"encoding\": {\"text\": {\"type\": \"quantitative\", \"field\": \"percent\", \"format\": \".1%\"}, \"x\": {\"type\": \"quantitative\", \"axis\": {\"format\": \".0%\"}, \"field\": \"percent\"}, \"y\": {\"type\": \"nominal\", \"field\": \"emotion\", \"sort\": \"-x\"}}, \"title\": \"Expected label: disgust - bipoc\"}], \"data\": {\"name\": \"data-8e8e3794d84b2e40bf6427bbe70df605\"}}, {\"layer\": [{\"mark\": \"bar\", \"encoding\": {\"x\": {\"type\": \"quantitative\", \"axis\": {\"format\": \".0%\"}, \"field\": \"percent\"}, \"y\": {\"type\": \"nominal\", \"field\": \"emotion\", \"sort\": \"-x\"}}, \"title\": \"Expected label: disgust - white\"}, {\"mark\": {\"type\": \"text\", \"align\": \"left\", \"baseline\": \"middle\", \"dx\": 3}, \"encoding\": {\"text\": {\"type\": \"quantitative\", \"field\": \"percent\", \"format\": \".1%\"}, \"x\": {\"type\": \"quantitative\", \"axis\": {\"format\": \".0%\"}, \"field\": \"percent\"}, \"y\": {\"type\": \"nominal\", \"field\": \"emotion\", \"sort\": \"-x\"}}, \"title\": \"Expected label: disgust - white\"}], \"data\": {\"name\": \"data-a353e4ddde4b2e277c6980ed7710ccd1\"}}]}, {\"hconcat\": [{\"layer\": [{\"mark\": \"bar\", \"encoding\": {\"x\": {\"type\": \"quantitative\", \"axis\": {\"format\": \".0%\"}, \"field\": \"percent\"}, \"y\": {\"type\": \"nominal\", \"field\": \"emotion\", \"sort\": \"-x\"}}, \"title\": \"Expected label: fear - bipoc\"}, {\"mark\": {\"type\": \"text\", \"align\": \"left\", \"baseline\": \"middle\", \"dx\": 3}, \"encoding\": {\"text\": {\"type\": \"quantitative\", \"field\": \"percent\", \"format\": \".1%\"}, \"x\": {\"type\": \"quantitative\", \"axis\": {\"format\": \".0%\"}, \"field\": \"percent\"}, \"y\": {\"type\": \"nominal\", \"field\": \"emotion\", \"sort\": \"-x\"}}, \"title\": \"Expected label: fear - bipoc\"}], \"data\": {\"name\": \"data-3dd3ef19f1a1e49a598f7149c62118bc\"}}, {\"layer\": [{\"mark\": \"bar\", \"encoding\": {\"x\": {\"type\": \"quantitative\", \"axis\": {\"format\": \".0%\"}, \"field\": \"percent\"}, \"y\": {\"type\": \"nominal\", \"field\": \"emotion\", \"sort\": \"-x\"}}, \"title\": \"Expected label: fear - white\"}, {\"mark\": {\"type\": \"text\", \"align\": \"left\", \"baseline\": \"middle\", \"dx\": 3}, \"encoding\": {\"text\": {\"type\": \"quantitative\", \"field\": \"percent\", \"format\": \".1%\"}, \"x\": {\"type\": \"quantitative\", \"axis\": {\"format\": \".0%\"}, \"field\": \"percent\"}, \"y\": {\"type\": \"nominal\", \"field\": \"emotion\", \"sort\": \"-x\"}}, \"title\": \"Expected label: fear - white\"}], \"data\": {\"name\": \"data-c4c3c14b9b50170313ed9acd09f5cb36\"}}]}, {\"hconcat\": [{\"layer\": [{\"mark\": \"bar\", \"encoding\": {\"x\": {\"type\": \"quantitative\", \"axis\": {\"format\": \".0%\"}, \"field\": \"percent\"}, \"y\": {\"type\": \"nominal\", \"field\": \"emotion\", \"sort\": \"-x\"}}, \"title\": \"Expected label: surprise - bipoc\"}, {\"mark\": {\"type\": \"text\", \"align\": \"left\", \"baseline\": \"middle\", \"dx\": 3}, \"encoding\": {\"text\": {\"type\": \"quantitative\", \"field\": \"percent\", \"format\": \".1%\"}, \"x\": {\"type\": \"quantitative\", \"axis\": {\"format\": \".0%\"}, \"field\": \"percent\"}, \"y\": {\"type\": \"nominal\", \"field\": \"emotion\", \"sort\": \"-x\"}}, \"title\": \"Expected label: surprise - bipoc\"}], \"data\": {\"name\": \"data-286a8b51fbe00d658aa91ba661664311\"}}, {\"layer\": [{\"mark\": \"bar\", \"encoding\": {\"x\": {\"type\": \"quantitative\", \"axis\": {\"format\": \".0%\"}, \"field\": \"percent\"}, \"y\": {\"type\": \"nominal\", \"field\": \"emotion\", \"sort\": \"-x\"}}, \"title\": \"Expected label: surprise - white\"}, {\"mark\": {\"type\": \"text\", \"align\": \"left\", \"baseline\": \"middle\", \"dx\": 3}, \"encoding\": {\"text\": {\"type\": \"quantitative\", \"field\": \"percent\", \"format\": \".1%\"}, \"x\": {\"type\": \"quantitative\", \"axis\": {\"format\": \".0%\"}, \"field\": \"percent\"}, \"y\": {\"type\": \"nominal\", \"field\": \"emotion\", \"sort\": \"-x\"}}, \"title\": \"Expected label: surprise - white\"}], \"data\": {\"name\": \"data-4590867467c02699bc6a9bc78ee6b758\"}}]}, {\"hconcat\": [{\"layer\": [{\"mark\": \"bar\", \"encoding\": {\"x\": {\"type\": \"quantitative\", \"axis\": {\"format\": \".0%\"}, \"field\": \"percent\"}, \"y\": {\"type\": \"nominal\", \"field\": \"emotion\", \"sort\": \"-x\"}}, \"title\": \"Expected label: happiness - bipoc\"}, {\"mark\": {\"type\": \"text\", \"align\": \"left\", \"baseline\": \"middle\", \"dx\": 3}, \"encoding\": {\"text\": {\"type\": \"quantitative\", \"field\": \"percent\", \"format\": \".1%\"}, \"x\": {\"type\": \"quantitative\", \"axis\": {\"format\": \".0%\"}, \"field\": \"percent\"}, \"y\": {\"type\": \"nominal\", \"field\": \"emotion\", \"sort\": \"-x\"}}, \"title\": \"Expected label: happiness - bipoc\"}], \"data\": {\"name\": \"data-a7859f14dfbceb1ec5d835ce55375386\"}}, {\"layer\": [{\"mark\": \"bar\", \"encoding\": {\"x\": {\"type\": \"quantitative\", \"axis\": {\"format\": \".0%\"}, \"field\": \"percent\"}, \"y\": {\"type\": \"nominal\", \"field\": \"emotion\", \"sort\": \"-x\"}}, \"title\": \"Expected label: happiness - white\"}, {\"mark\": {\"type\": \"text\", \"align\": \"left\", \"baseline\": \"middle\", \"dx\": 3}, \"encoding\": {\"text\": {\"type\": \"quantitative\", \"field\": \"percent\", \"format\": \".1%\"}, \"x\": {\"type\": \"quantitative\", \"axis\": {\"format\": \".0%\"}, \"field\": \"percent\"}, \"y\": {\"type\": \"nominal\", \"field\": \"emotion\", \"sort\": \"-x\"}}, \"title\": \"Expected label: happiness - white\"}], \"data\": {\"name\": \"data-f60a03dcbb963d365b7183a7d2f1b173\"}}]}, {\"hconcat\": [{\"layer\": [{\"mark\": \"bar\", \"encoding\": {\"x\": {\"type\": \"quantitative\", \"axis\": {\"format\": \".0%\"}, \"field\": \"percent\"}, \"y\": {\"type\": \"nominal\", \"field\": \"emotion\", \"sort\": \"-x\"}}, \"title\": \"Expected label: sadness - bipoc\"}, {\"mark\": {\"type\": \"text\", \"align\": \"left\", \"baseline\": \"middle\", \"dx\": 3}, \"encoding\": {\"text\": {\"type\": \"quantitative\", \"field\": \"percent\", \"format\": \".1%\"}, \"x\": {\"type\": \"quantitative\", \"axis\": {\"format\": \".0%\"}, \"field\": \"percent\"}, \"y\": {\"type\": \"nominal\", \"field\": \"emotion\", \"sort\": \"-x\"}}, \"title\": \"Expected label: sadness - bipoc\"}], \"data\": {\"name\": \"data-34066d60186c9cfb0c8522c2631a7978\"}}, {\"layer\": [{\"mark\": \"bar\", \"encoding\": {\"x\": {\"type\": \"quantitative\", \"axis\": {\"format\": \".0%\"}, \"field\": \"percent\"}, \"y\": {\"type\": \"nominal\", \"field\": \"emotion\", \"sort\": \"-x\"}}, \"title\": \"Expected label: sadness - white\"}, {\"mark\": {\"type\": \"text\", \"align\": \"left\", \"baseline\": \"middle\", \"dx\": 3}, \"encoding\": {\"text\": {\"type\": \"quantitative\", \"field\": \"percent\", \"format\": \".1%\"}, \"x\": {\"type\": \"quantitative\", \"axis\": {\"format\": \".0%\"}, \"field\": \"percent\"}, \"y\": {\"type\": \"nominal\", \"field\": \"emotion\", \"sort\": \"-x\"}}, \"title\": \"Expected label: sadness - white\"}], \"data\": {\"name\": \"data-fb6a541c781dbbf5e78b8f0a80576d5c\"}}]}, {\"hconcat\": [{\"layer\": [{\"mark\": \"bar\", \"encoding\": {\"x\": {\"type\": \"quantitative\", \"axis\": {\"format\": \".0%\"}, \"field\": \"percent\"}, \"y\": {\"type\": \"nominal\", \"field\": \"emotion\", \"sort\": \"-x\"}}, \"title\": \"Expected label: neutral - bipoc\"}, {\"mark\": {\"type\": \"text\", \"align\": \"left\", \"baseline\": \"middle\", \"dx\": 3}, \"encoding\": {\"text\": {\"type\": \"quantitative\", \"field\": \"percent\", \"format\": \".1%\"}, \"x\": {\"type\": \"quantitative\", \"axis\": {\"format\": \".0%\"}, \"field\": \"percent\"}, \"y\": {\"type\": \"nominal\", \"field\": \"emotion\", \"sort\": \"-x\"}}, \"title\": \"Expected label: neutral - bipoc\"}], \"data\": {\"name\": \"data-1c02d1187b4cbf84bd0a7df6ed96a7db\"}}, {\"layer\": [{\"mark\": \"bar\", \"encoding\": {\"x\": {\"type\": \"quantitative\", \"axis\": {\"format\": \".0%\"}, \"field\": \"percent\"}, \"y\": {\"type\": \"nominal\", \"field\": \"emotion\", \"sort\": \"-x\"}}, \"title\": \"Expected label: neutral - white\"}, {\"mark\": {\"type\": \"text\", \"align\": \"left\", \"baseline\": \"middle\", \"dx\": 3}, \"encoding\": {\"text\": {\"type\": \"quantitative\", \"field\": \"percent\", \"format\": \".1%\"}, \"x\": {\"type\": \"quantitative\", \"axis\": {\"format\": \".0%\"}, \"field\": \"percent\"}, \"y\": {\"type\": \"nominal\", \"field\": \"emotion\", \"sort\": \"-x\"}}, \"title\": \"Expected label: neutral - white\"}], \"data\": {\"name\": \"data-a111a3a5b0a70df19c15255210f8a359\"}}]}, {\"hconcat\": [{\"layer\": [{\"mark\": \"bar\", \"encoding\": {\"x\": {\"type\": \"quantitative\", \"axis\": {\"format\": \".0%\"}, \"field\": \"percent\"}, \"y\": {\"type\": \"nominal\", \"field\": \"emotion\", \"sort\": \"-x\"}}, \"title\": \"Expected label: uncertain - bipoc\"}, {\"mark\": {\"type\": \"text\", \"align\": \"left\", \"baseline\": \"middle\", \"dx\": 3}, \"encoding\": {\"text\": {\"type\": \"quantitative\", \"field\": \"percent\", \"format\": \".1%\"}, \"x\": {\"type\": \"quantitative\", \"axis\": {\"format\": \".0%\"}, \"field\": \"percent\"}, \"y\": {\"type\": \"nominal\", \"field\": \"emotion\", \"sort\": \"-x\"}}, \"title\": \"Expected label: uncertain - bipoc\"}], \"data\": {\"name\": \"data-8570077e1c24d54fac1424d5efa3e9e9\"}}, {\"layer\": [{\"mark\": \"bar\", \"encoding\": {\"x\": {\"type\": \"quantitative\", \"axis\": {\"format\": \".0%\"}, \"field\": \"percent\"}, \"y\": {\"type\": \"nominal\", \"field\": \"emotion\", \"sort\": \"-x\"}}, \"title\": \"Expected label: uncertain - white\"}, {\"mark\": {\"type\": \"text\", \"align\": \"left\", \"baseline\": \"middle\", \"dx\": 3}, \"encoding\": {\"text\": {\"type\": \"quantitative\", \"field\": \"percent\", \"format\": \".1%\"}, \"x\": {\"type\": \"quantitative\", \"axis\": {\"format\": \".0%\"}, \"field\": \"percent\"}, \"y\": {\"type\": \"nominal\", \"field\": \"emotion\", \"sort\": \"-x\"}}, \"title\": \"Expected label: uncertain - white\"}], \"data\": {\"name\": \"data-cee840eb54f8a955dd19deeef3bb6c7a\"}}]}], \"$schema\": \"https://vega.github.io/schema/vega-lite/v4.8.1.json\", \"datasets\": {\"data-d3e30682263fb35a11d4714b225233fb\": [{\"counts\": 29, \"emotion\": \"Anger\", \"percent\": 0.6041666666666666}, {\"counts\": 8, \"emotion\": \"Neutral\", \"percent\": 0.16666666666666666}, {\"counts\": 5, \"emotion\": \"Disgust\", \"percent\": 0.10416666666666667}, {\"counts\": 2, \"emotion\": \"Fear\", \"percent\": 0.041666666666666664}, {\"counts\": 2, \"emotion\": \"Sadness\", \"percent\": 0.041666666666666664}, {\"counts\": 1, \"emotion\": \"Uncertain\", \"percent\": 0.020833333333333332}, {\"counts\": 1, \"emotion\": \"Surprise\", \"percent\": 0.020833333333333332}], \"data-9522b54f64fa749e5f44632d41c3baf8\": [{\"counts\": 27, \"emotion\": \"Anger\", \"percent\": 0.5625}, {\"counts\": 5, \"emotion\": \"Neutral\", \"percent\": 0.10416666666666667}, {\"counts\": 5, \"emotion\": \"Disgust\", \"percent\": 0.10416666666666667}, {\"counts\": 3, \"emotion\": \"Fear\", \"percent\": 0.0625}, {\"counts\": 3, \"emotion\": \"Uncertain\", \"percent\": 0.0625}, {\"counts\": 2, \"emotion\": \"Sadness\", \"percent\": 0.041666666666666664}, {\"counts\": 2, \"emotion\": \"Other\", \"percent\": 0.041666666666666664}, {\"counts\": 1, \"emotion\": \"Happiness\", \"percent\": 0.020833333333333332}], \"data-8e8e3794d84b2e40bf6427bbe70df605\": [{\"counts\": 21, \"emotion\": \"Disgust\", \"percent\": 0.4375}, {\"counts\": 11, \"emotion\": \"Anger\", \"percent\": 0.22916666666666666}, {\"counts\": 7, \"emotion\": \"Other\", \"percent\": 0.14583333333333334}, {\"counts\": 3, \"emotion\": \"Uncertain\", \"percent\": 0.0625}, {\"counts\": 3, \"emotion\": \"Neutral\", \"percent\": 0.0625}, {\"counts\": 1, \"emotion\": \"Surprise\", \"percent\": 0.020833333333333332}, {\"counts\": 1, \"emotion\": \"Happiness\", \"percent\": 0.020833333333333332}, {\"counts\": 1, \"emotion\": \"Fear\", \"percent\": 0.020833333333333332}], \"data-a353e4ddde4b2e277c6980ed7710ccd1\": [{\"counts\": 28, \"emotion\": \"Disgust\", \"percent\": 0.5833333333333334}, {\"counts\": 6, \"emotion\": \"Uncertain\", \"percent\": 0.125}, {\"counts\": 4, \"emotion\": \"Surprise\", \"percent\": 0.08333333333333333}, {\"counts\": 3, \"emotion\": \"Anger\", \"percent\": 0.0625}, {\"counts\": 3, \"emotion\": \"Fear\", \"percent\": 0.0625}, {\"counts\": 1, \"emotion\": \"Neutral\", \"percent\": 0.020833333333333332}, {\"counts\": 1, \"emotion\": \"Happiness\", \"percent\": 0.020833333333333332}, {\"counts\": 1, \"emotion\": \"Other\", \"percent\": 0.020833333333333332}, {\"counts\": 1, \"emotion\": \"Sadness\", \"percent\": 0.020833333333333332}], \"data-3dd3ef19f1a1e49a598f7149c62118bc\": [{\"counts\": 16, \"emotion\": \"Fear\", \"percent\": 0.3333333333333333}, {\"counts\": 10, \"emotion\": \"Sadness\", \"percent\": 0.20833333333333334}, {\"counts\": 9, \"emotion\": \"Surprise\", \"percent\": 0.1875}, {\"counts\": 3, \"emotion\": \"Disgust\", \"percent\": 0.0625}, {\"counts\": 3, \"emotion\": \"Other\", \"percent\": 0.0625}, {\"counts\": 2, \"emotion\": \"Happiness\", \"percent\": 0.041666666666666664}, {\"counts\": 2, \"emotion\": \"Neutral\", \"percent\": 0.041666666666666664}, {\"counts\": 2, \"emotion\": \"Uncertain\", \"percent\": 0.041666666666666664}, {\"counts\": 1, \"emotion\": \"Anger\", \"percent\": 0.020833333333333332}], \"data-c4c3c14b9b50170313ed9acd09f5cb36\": [{\"counts\": 19, \"emotion\": \"Surprise\", \"percent\": 0.3958333333333333}, {\"counts\": 16, \"emotion\": \"Fear\", \"percent\": 0.3333333333333333}, {\"counts\": 5, \"emotion\": \"Sadness\", \"percent\": 0.10416666666666667}, {\"counts\": 3, \"emotion\": \"Uncertain\", \"percent\": 0.0625}, {\"counts\": 2, \"emotion\": \"Disgust\", \"percent\": 0.041666666666666664}, {\"counts\": 2, \"emotion\": \"Neutral\", \"percent\": 0.041666666666666664}, {\"counts\": 1, \"emotion\": \"Happiness\", \"percent\": 0.020833333333333332}], \"data-286a8b51fbe00d658aa91ba661664311\": [{\"counts\": 20, \"emotion\": \"Surprise\", \"percent\": 0.4166666666666667}, {\"counts\": 13, \"emotion\": \"Happiness\", \"percent\": 0.2708333333333333}, {\"counts\": 6, \"emotion\": \"Fear\", \"percent\": 0.125}, {\"counts\": 5, \"emotion\": \"Neutral\", \"percent\": 0.10416666666666667}, {\"counts\": 2, \"emotion\": \"Other\", \"percent\": 0.041666666666666664}, {\"counts\": 2, \"emotion\": \"Uncertain\", \"percent\": 0.041666666666666664}], \"data-4590867467c02699bc6a9bc78ee6b758\": [{\"counts\": 32, \"emotion\": \"Surprise\", \"percent\": 0.6666666666666666}, {\"counts\": 7, \"emotion\": \"Neutral\", \"percent\": 0.14583333333333334}, {\"counts\": 3, \"emotion\": \"Fear\", \"percent\": 0.0625}, {\"counts\": 2, \"emotion\": \"Other\", \"percent\": 0.041666666666666664}, {\"counts\": 2, \"emotion\": \"Uncertain\", \"percent\": 0.041666666666666664}, {\"counts\": 1, \"emotion\": \"Anger\", \"percent\": 0.020833333333333332}, {\"counts\": 1, \"emotion\": \"Happiness\", \"percent\": 0.020833333333333332}], \"data-a7859f14dfbceb1ec5d835ce55375386\": [{\"counts\": 43, \"emotion\": \"Happiness\", \"percent\": 0.8958333333333334}, {\"counts\": 5, \"emotion\": \"Neutral\", \"percent\": 0.10416666666666667}], \"data-f60a03dcbb963d365b7183a7d2f1b173\": [{\"counts\": 41, \"emotion\": \"Happiness\", \"percent\": 0.8541666666666666}, {\"counts\": 4, \"emotion\": \"Neutral\", \"percent\": 0.08333333333333333}, {\"counts\": 1, \"emotion\": \"Sadness\", \"percent\": 0.020833333333333332}, {\"counts\": 1, \"emotion\": \"Uncertain\", \"percent\": 0.020833333333333332}, {\"counts\": 1, \"emotion\": \"Surprise\", \"percent\": 0.020833333333333332}], \"data-34066d60186c9cfb0c8522c2631a7978\": [{\"counts\": 35, \"emotion\": \"Sadness\", \"percent\": 0.7291666666666666}, {\"counts\": 4, \"emotion\": \"Disgust\", \"percent\": 0.08333333333333333}, {\"counts\": 3, \"emotion\": \"Fear\", \"percent\": 0.0625}, {\"counts\": 3, \"emotion\": \"Anger\", \"percent\": 0.0625}, {\"counts\": 2, \"emotion\": \"Uncertain\", \"percent\": 0.041666666666666664}, {\"counts\": 1, \"emotion\": \"Neutral\", \"percent\": 0.020833333333333332}], \"data-fb6a541c781dbbf5e78b8f0a80576d5c\": [{\"counts\": 32, \"emotion\": \"Sadness\", \"percent\": 0.6666666666666666}, {\"counts\": 4, \"emotion\": \"Neutral\", \"percent\": 0.08333333333333333}, {\"counts\": 4, \"emotion\": \"Anger\", \"percent\": 0.08333333333333333}, {\"counts\": 3, \"emotion\": \"Uncertain\", \"percent\": 0.0625}, {\"counts\": 2, \"emotion\": \"Fear\", \"percent\": 0.041666666666666664}, {\"counts\": 2, \"emotion\": \"Other\", \"percent\": 0.041666666666666664}, {\"counts\": 1, \"emotion\": \"Disgust\", \"percent\": 0.020833333333333332}], \"data-1c02d1187b4cbf84bd0a7df6ed96a7db\": [{\"counts\": 39, \"emotion\": \"Neutral\", \"percent\": 0.8125}, {\"counts\": 4, \"emotion\": \"Happiness\", \"percent\": 0.08333333333333333}, {\"counts\": 3, \"emotion\": \"Uncertain\", \"percent\": 0.0625}, {\"counts\": 1, \"emotion\": \"Fear\", \"percent\": 0.020833333333333332}, {\"counts\": 1, \"emotion\": \"Sadness\", \"percent\": 0.020833333333333332}], \"data-a111a3a5b0a70df19c15255210f8a359\": [{\"counts\": 34, \"emotion\": \"Neutral\", \"percent\": 0.7083333333333334}, {\"counts\": 3, \"emotion\": \"Disgust\", \"percent\": 0.0625}, {\"counts\": 3, \"emotion\": \"Other\", \"percent\": 0.0625}, {\"counts\": 3, \"emotion\": \"Uncertain\", \"percent\": 0.0625}, {\"counts\": 2, \"emotion\": \"Anger\", \"percent\": 0.041666666666666664}, {\"counts\": 2, \"emotion\": \"Happiness\", \"percent\": 0.041666666666666664}, {\"counts\": 1, \"emotion\": \"Sadness\", \"percent\": 0.020833333333333332}], \"data-8570077e1c24d54fac1424d5efa3e9e9\": [{\"counts\": 16, \"emotion\": \"Happiness\", \"percent\": 0.3333333333333333}, {\"counts\": 11, \"emotion\": \"Other\", \"percent\": 0.22916666666666666}, {\"counts\": 11, \"emotion\": \"Neutral\", \"percent\": 0.22916666666666666}, {\"counts\": 4, \"emotion\": \"Uncertain\", \"percent\": 0.08333333333333333}, {\"counts\": 3, \"emotion\": \"Surprise\", \"percent\": 0.0625}, {\"counts\": 2, \"emotion\": \"Disgust\", \"percent\": 0.041666666666666664}, {\"counts\": 1, \"emotion\": \"Anger\", \"percent\": 0.020833333333333332}], \"data-cee840eb54f8a955dd19deeef3bb6c7a\": [{\"counts\": 11, \"emotion\": \"Other\", \"percent\": 0.22916666666666666}, {\"counts\": 9, \"emotion\": \"Surprise\", \"percent\": 0.1875}, {\"counts\": 7, \"emotion\": \"Uncertain\", \"percent\": 0.14583333333333334}, {\"counts\": 6, \"emotion\": \"Happiness\", \"percent\": 0.125}, {\"counts\": 5, \"emotion\": \"Anger\", \"percent\": 0.10416666666666667}, {\"counts\": 4, \"emotion\": \"Sadness\", \"percent\": 0.08333333333333333}, {\"counts\": 4, \"emotion\": \"Neutral\", \"percent\": 0.08333333333333333}, {\"counts\": 1, \"emotion\": \"Disgust\", \"percent\": 0.020833333333333332}, {\"counts\": 1, \"emotion\": \"Fear\", \"percent\": 0.020833333333333332}]}}, {\"mode\": \"vega-lite\"});\n",
       "</script>"
      ],
      "text/plain": [
       "alt.VConcatChart(...)"
      ]
     },
     "execution_count": 35,
     "metadata": {},
     "output_type": "execute_result"
    }
   ],
   "source": [
    "(chart_anger_bipoc | chart_anger_white) & (chart_disgust_bipoc | chart_disgust_white) & (chart_fear_bipoc | chart_fear_white) & (chart_surprise_bipoc | chart_surprise_white) & (chart_happiness_bipoc | chart_happiness_white) & (chart_sadness_bipoc | chart_sadness_white) & (chart_neutral_bipoc | chart_neutral_white) & (chart_uncertain_bipoc | chart_uncertain_white) "
   ]
  }
 ],
 "metadata": {
  "kernelspec": {
   "display_name": "Python 3 (ipykernel)",
   "language": "python",
   "name": "python3"
  },
  "language_info": {
   "codemirror_mode": {
    "name": "ipython",
    "version": 3
   },
   "file_extension": ".py",
   "mimetype": "text/x-python",
   "name": "python",
   "nbconvert_exporter": "python",
   "pygments_lexer": "ipython3",
   "version": "3.9.7"
  }
 },
 "nbformat": 4,
 "nbformat_minor": 5
}
