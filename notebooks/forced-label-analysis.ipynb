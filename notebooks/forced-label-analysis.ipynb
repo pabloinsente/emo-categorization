{
 "cells": [
  {
   "cell_type": "code",
   "execution_count": 1,
   "id": "101a8b65-099a-4364-bc0b-59a1502235be",
   "metadata": {},
   "outputs": [],
   "source": [
    "import pandas as pd\n",
    "import numpy as np\n",
    "import altair as alt"
   ]
  },
  {
   "cell_type": "markdown",
   "id": "8cc97337-d94a-43de-bc11-c680c1cb978e",
   "metadata": {},
   "source": [
    "## Data ingestion and formating"
   ]
  },
  {
   "cell_type": "code",
   "execution_count": 2,
   "id": "bd61456b-aaeb-49ba-8d9d-7de3791b7fce",
   "metadata": {},
   "outputs": [],
   "source": [
    "df = pd.read_csv('../data/emotion_forced_choice_uw_students.csv')\n",
    "df_labels = pd.read_csv('../data/emotion_labels.csv')"
   ]
  },
  {
   "cell_type": "code",
   "execution_count": 3,
   "id": "65740250-28ec-448f-b05b-cf7936cfa6d6",
   "metadata": {},
   "outputs": [],
   "source": [
    "df = df.iloc[5:, :] # filter out test rows"
   ]
  },
  {
   "cell_type": "code",
   "execution_count": 4,
   "id": "7cd5c9bf-7025-4823-b684-f7e1c7cb37f8",
   "metadata": {},
   "outputs": [
    {
     "name": "stdout",
     "output_type": "stream",
     "text": [
      "<class 'pandas.core.frame.DataFrame'>\n",
      "RangeIndex: 81 entries, 5 to 85\n",
      "Columns: 220 entries, StartDate to Q195.1\n",
      "dtypes: object(220)\n",
      "memory usage: 139.3+ KB\n"
     ]
    }
   ],
   "source": [
    "df.info()"
   ]
  },
  {
   "cell_type": "code",
   "execution_count": 5,
   "id": "2d93d8f3-5cbd-47fa-92c1-5ece083c07f0",
   "metadata": {},
   "outputs": [],
   "source": [
    "df = df[df['Finished'] =='True'] # filter out incomplete surveys"
   ]
  },
  {
   "cell_type": "code",
   "execution_count": 6,
   "id": "ca063469-8906-4921-ab6f-8c1bcbd8639c",
   "metadata": {},
   "outputs": [
    {
     "name": "stdout",
     "output_type": "stream",
     "text": [
      "<class 'pandas.core.frame.DataFrame'>\n",
      "Int64Index: 51 entries, 5 to 85\n",
      "Columns: 220 entries, StartDate to Q195.1\n",
      "dtypes: object(220)\n",
      "memory usage: 88.1+ KB\n"
     ]
    }
   ],
   "source": [
    "df.info()"
   ]
  },
  {
   "cell_type": "code",
   "execution_count": 7,
   "metadata": {},
   "outputs": [],
   "source": [
    "df.rename(columns={\n",
    "    'Q1.2': 'sex',\n",
    "    'Q1.3_1': 'age',\n",
    "    'Q1.4': 'ethnicity',\n",
    "    'Q1.5': 'formal education',\n",
    "    'Q1.6_1': 'income'}, inplace=True)"
   ]
  },
  {
   "cell_type": "code",
   "execution_count": 8,
   "metadata": {},
   "outputs": [],
   "source": [
    "df.to_csv('../clean_data/forced_choice_emotion_uw_students.csv', index=False)"
   ]
  },
  {
   "cell_type": "markdown",
   "id": "615f3688-8188-4b92-b8cf-9bec11e90b56",
   "metadata": {},
   "source": [
    "### Words by frequency for all images (ranking)"
   ]
  },
  {
   "cell_type": "code",
   "execution_count": 9,
   "id": "f8393fd1-6478-4d30-8194-255463fd266e",
   "metadata": {},
   "outputs": [],
   "source": [
    "def count_freq_labels(df, X=\"all\" ):\n",
    "    if X == \"all\":\n",
    "        df_counts = df.stack().reset_index(drop=True).value_counts() # stack as series\n",
    "        df_counts = df_counts.to_frame('counts') # get value_counts as df\n",
    "        df_counts['emotion'] = df_counts.index # get index as col\n",
    "    else:\n",
    "        df_counts = df[X].reset_index(drop=True).value_counts() # stack as series\n",
    "        df_counts = df_counts.to_frame('counts') # get value_counts as df\n",
    "        df_counts[X] = df_counts.index # get index as col\n",
    "\n",
    "    df_counts = df_counts.reset_index(drop=True) # clean index\n",
    "    df_counts['percent'] = df_counts['counts'] / df_counts['counts'].sum() # compute percentage\n",
    "    return df_counts"
   ]
  },
  {
   "cell_type": "code",
   "execution_count": 10,
   "id": "0046f8a9-0824-4583-a7b4-5dbcdd3653fd",
   "metadata": {},
   "outputs": [],
   "source": [
    "def simple_per_bar(\n",
    "    df, title='Title', X='percent:Q', Y='emotion:N', \\\n",
    "    width=450, height=250, sort='-x', \\\n",
    "    text_size = 12, label_size = 11, title_size=12, \\\n",
    "    emotion='Some', color1='#0570b0', color2='orange'):\n",
    "    \n",
    "    bars = alt.Chart(df, title=title).mark_bar().encode(\n",
    "        alt.X(X, axis=alt.Axis(format='.0%')),\n",
    "        y=alt.Y(Y, sort=sort), \n",
    "        color=alt.condition(\n",
    "            alt.datum.emotion == emotion,\n",
    "            alt.value(color2),\n",
    "            alt.value(color1)\n",
    "        ))\n",
    "    \n",
    "    text = bars.mark_text(\n",
    "    align='left',\n",
    "    baseline='middle',\n",
    "    dx=3,  # Nudges text to right so it doesn't appear on top of the bar\n",
    "    fontSize=text_size,\n",
    "    fontWeight=\"bold\"\n",
    "    ).encode(\n",
    "        alt.Text(X, format='.1%')\n",
    "    )\n",
    "    \n",
    "    chart = (bars + text).configure_axis(\n",
    "            labelFontSize=label_size,\n",
    "            titleFontSize=title_size).properties(\n",
    "                width=width, \n",
    "                height=height).display(renderer='svg')\n",
    "    \n",
    "    \n",
    "    return chart"
   ]
  },
  {
   "cell_type": "code",
   "execution_count": 11,
   "metadata": {},
   "outputs": [],
   "source": [
    "def simple_count_bar(\n",
    "    df, title='Title', X='counts:Q', Y='emotion:N', \\\n",
    "    width=450, height=250, sort='-x', \\\n",
    "    text_size = 12, label_size = 11, title_size=12,\n",
    "    emotion='Some', color1='#0570b0', color2='#orange'):\n",
    "    \n",
    "    bars = alt.Chart(df, title=title).mark_bar().encode(\n",
    "        alt.X(X),\n",
    "        y=alt.Y(Y, sort=sort), \n",
    "        color=alt.condition(\n",
    "            alt.datum.emotion == emotion,\n",
    "            alt.value(color2),\n",
    "            alt.value(color1)\n",
    "        ))\n",
    "    \n",
    "    text = bars.mark_text(\n",
    "    align='left',\n",
    "    baseline='middle',\n",
    "    dx=3,  # Nudges text to right so it doesn't appear on top of the bar\n",
    "    fontSize=text_size,\n",
    "    fontWeight=\"bold\"\n",
    "    ).encode(\n",
    "        alt.Text(X)\n",
    "    )\n",
    "    \n",
    "    chart = (bars + text).configure_axis(\n",
    "            labelFontSize=label_size,\n",
    "            titleFontSize=title_size).properties(\n",
    "                width=width, \n",
    "                height=height).display(renderer='svg')\n",
    "    \n",
    "    \n",
    "    return chart"
   ]
  },
  {
   "cell_type": "markdown",
   "metadata": {},
   "source": [
    "## Demographics"
   ]
  },
  {
   "cell_type": "code",
   "execution_count": 12,
   "metadata": {},
   "outputs": [
    {
     "data": {
      "text/html": [
       "\n",
       "<div id=\"altair-viz-506c3132be5b42d68ed6a8df6473fc9c\"></div>\n",
       "<script type=\"text/javascript\">\n",
       "  (function(spec, embedOpt){\n",
       "    let outputDiv = document.currentScript.previousElementSibling;\n",
       "    if (outputDiv.id !== \"altair-viz-506c3132be5b42d68ed6a8df6473fc9c\") {\n",
       "      outputDiv = document.getElementById(\"altair-viz-506c3132be5b42d68ed6a8df6473fc9c\");\n",
       "    }\n",
       "    const paths = {\n",
       "      \"vega\": \"https://cdn.jsdelivr.net/npm//vega@5?noext\",\n",
       "      \"vega-lib\": \"https://cdn.jsdelivr.net/npm//vega-lib?noext\",\n",
       "      \"vega-lite\": \"https://cdn.jsdelivr.net/npm//vega-lite@4.8.1?noext\",\n",
       "      \"vega-embed\": \"https://cdn.jsdelivr.net/npm//vega-embed@6?noext\",\n",
       "    };\n",
       "\n",
       "    function loadScript(lib) {\n",
       "      return new Promise(function(resolve, reject) {\n",
       "        var s = document.createElement('script');\n",
       "        s.src = paths[lib];\n",
       "        s.async = true;\n",
       "        s.onload = () => resolve(paths[lib]);\n",
       "        s.onerror = () => reject(`Error loading script: ${paths[lib]}`);\n",
       "        document.getElementsByTagName(\"head\")[0].appendChild(s);\n",
       "      });\n",
       "    }\n",
       "\n",
       "    function showError(err) {\n",
       "      outputDiv.innerHTML = `<div class=\"error\" style=\"color:red;\">${err}</div>`;\n",
       "      throw err;\n",
       "    }\n",
       "\n",
       "    function displayChart(vegaEmbed) {\n",
       "      vegaEmbed(outputDiv, spec, embedOpt)\n",
       "        .catch(err => showError(`Javascript Error: ${err.message}<br>This usually means there's a typo in your chart specification. See the javascript console for the full traceback.`));\n",
       "    }\n",
       "\n",
       "    if(typeof define === \"function\" && define.amd) {\n",
       "      requirejs.config({paths});\n",
       "      require([\"vega-embed\"], displayChart, err => showError(`Error loading script: ${err.message}`));\n",
       "    } else if (typeof vegaEmbed === \"function\") {\n",
       "      displayChart(vegaEmbed);\n",
       "    } else {\n",
       "      loadScript(\"vega\")\n",
       "        .then(() => loadScript(\"vega-lite\"))\n",
       "        .then(() => loadScript(\"vega-embed\"))\n",
       "        .catch(showError)\n",
       "        .then(() => displayChart(vegaEmbed));\n",
       "    }\n",
       "  })({\"config\": {\"view\": {\"continuousWidth\": 400, \"continuousHeight\": 300}, \"axis\": {\"labelFontSize\": 12, \"titleFontSize\": 12}}, \"layer\": [{\"mark\": \"bar\", \"encoding\": {\"color\": {\"condition\": {\"value\": \"orange\", \"test\": \"(datum.emotion === 'Some')\"}, \"value\": \"#0570b0\"}, \"x\": {\"type\": \"quantitative\", \"axis\": {\"format\": \".0%\"}, \"field\": \"percent\"}, \"y\": {\"type\": \"nominal\", \"field\": \"sex\", \"sort\": \"-x\"}}, \"title\": \"Sex | n = 51\"}, {\"mark\": {\"type\": \"text\", \"align\": \"left\", \"baseline\": \"middle\", \"dx\": 3, \"fontSize\": 12, \"fontWeight\": \"bold\"}, \"encoding\": {\"color\": {\"condition\": {\"value\": \"orange\", \"test\": \"(datum.emotion === 'Some')\"}, \"value\": \"#0570b0\"}, \"text\": {\"type\": \"quantitative\", \"field\": \"percent\", \"format\": \".1%\"}, \"x\": {\"type\": \"quantitative\", \"axis\": {\"format\": \".0%\"}, \"field\": \"percent\"}, \"y\": {\"type\": \"nominal\", \"field\": \"sex\", \"sort\": \"-x\"}}, \"title\": \"Sex | n = 51\"}], \"data\": {\"name\": \"data-bf62d92e721a11048eb671040fc8e109\"}, \"height\": 100, \"width\": 450, \"$schema\": \"https://vega.github.io/schema/vega-lite/v4.8.1.json\", \"datasets\": {\"data-bf62d92e721a11048eb671040fc8e109\": [{\"counts\": 31, \"sex\": \"Female\", \"percent\": 0.6078431372549019}, {\"counts\": 20, \"sex\": \"Male\", \"percent\": 0.39215686274509803}]}}, {\"renderer\": \"svg\", \"mode\": \"vega-lite\"});\n",
       "</script>"
      ],
      "text/plain": [
       "alt.LayerChart(...)"
      ]
     },
     "metadata": {},
     "output_type": "display_data"
    }
   ],
   "source": [
    "source = count_freq_labels(df, X=\"sex\") \n",
    "title = 'Sex | n = '+ source['counts'].sum().astype(str)\n",
    "X, Y = 'percent:Q', 'sex:N'\n",
    "w, h= 450, 100\n",
    "txs, ls, ts = 12, 12, 12\n",
    "\n",
    "chart_sex = simple_per_bar(source, title=title, X=X, Y=Y, width=w, height=h, text_size = txs, label_size = ls, title_size=ts)"
   ]
  },
  {
   "cell_type": "code",
   "execution_count": 13,
   "metadata": {},
   "outputs": [
    {
     "data": {
      "text/html": [
       "\n",
       "<div id=\"altair-viz-793eeb915ed54bb4b29efcb48d0f5ff9\"></div>\n",
       "<script type=\"text/javascript\">\n",
       "  (function(spec, embedOpt){\n",
       "    let outputDiv = document.currentScript.previousElementSibling;\n",
       "    if (outputDiv.id !== \"altair-viz-793eeb915ed54bb4b29efcb48d0f5ff9\") {\n",
       "      outputDiv = document.getElementById(\"altair-viz-793eeb915ed54bb4b29efcb48d0f5ff9\");\n",
       "    }\n",
       "    const paths = {\n",
       "      \"vega\": \"https://cdn.jsdelivr.net/npm//vega@5?noext\",\n",
       "      \"vega-lib\": \"https://cdn.jsdelivr.net/npm//vega-lib?noext\",\n",
       "      \"vega-lite\": \"https://cdn.jsdelivr.net/npm//vega-lite@4.8.1?noext\",\n",
       "      \"vega-embed\": \"https://cdn.jsdelivr.net/npm//vega-embed@6?noext\",\n",
       "    };\n",
       "\n",
       "    function loadScript(lib) {\n",
       "      return new Promise(function(resolve, reject) {\n",
       "        var s = document.createElement('script');\n",
       "        s.src = paths[lib];\n",
       "        s.async = true;\n",
       "        s.onload = () => resolve(paths[lib]);\n",
       "        s.onerror = () => reject(`Error loading script: ${paths[lib]}`);\n",
       "        document.getElementsByTagName(\"head\")[0].appendChild(s);\n",
       "      });\n",
       "    }\n",
       "\n",
       "    function showError(err) {\n",
       "      outputDiv.innerHTML = `<div class=\"error\" style=\"color:red;\">${err}</div>`;\n",
       "      throw err;\n",
       "    }\n",
       "\n",
       "    function displayChart(vegaEmbed) {\n",
       "      vegaEmbed(outputDiv, spec, embedOpt)\n",
       "        .catch(err => showError(`Javascript Error: ${err.message}<br>This usually means there's a typo in your chart specification. See the javascript console for the full traceback.`));\n",
       "    }\n",
       "\n",
       "    if(typeof define === \"function\" && define.amd) {\n",
       "      requirejs.config({paths});\n",
       "      require([\"vega-embed\"], displayChart, err => showError(`Error loading script: ${err.message}`));\n",
       "    } else if (typeof vegaEmbed === \"function\") {\n",
       "      displayChart(vegaEmbed);\n",
       "    } else {\n",
       "      loadScript(\"vega\")\n",
       "        .then(() => loadScript(\"vega-lite\"))\n",
       "        .then(() => loadScript(\"vega-embed\"))\n",
       "        .catch(showError)\n",
       "        .then(() => displayChart(vegaEmbed));\n",
       "    }\n",
       "  })({\"config\": {\"view\": {\"continuousWidth\": 400, \"continuousHeight\": 300}, \"axis\": {\"labelFontSize\": 11, \"titleFontSize\": 12}}, \"layer\": [{\"mark\": \"bar\", \"encoding\": {\"color\": {\"condition\": {\"value\": \"orange\", \"test\": \"(datum.emotion === 'Some')\"}, \"value\": \"#0570b0\"}, \"x\": {\"type\": \"quantitative\", \"axis\": {\"format\": \".0%\"}, \"field\": \"percent\"}, \"y\": {\"type\": \"nominal\", \"field\": \"age\", \"sort\": \"-x\"}}, \"title\": \"Age | n = 42\"}, {\"mark\": {\"type\": \"text\", \"align\": \"left\", \"baseline\": \"middle\", \"dx\": 3, \"fontSize\": 12, \"fontWeight\": \"bold\"}, \"encoding\": {\"color\": {\"condition\": {\"value\": \"orange\", \"test\": \"(datum.emotion === 'Some')\"}, \"value\": \"#0570b0\"}, \"text\": {\"type\": \"quantitative\", \"field\": \"percent\", \"format\": \".1%\"}, \"x\": {\"type\": \"quantitative\", \"axis\": {\"format\": \".0%\"}, \"field\": \"percent\"}, \"y\": {\"type\": \"nominal\", \"field\": \"age\", \"sort\": \"-x\"}}, \"title\": \"Age | n = 42\"}], \"data\": {\"name\": \"data-5513524e843fe4639ac43c08d0495e04\"}, \"height\": 150, \"width\": 450, \"$schema\": \"https://vega.github.io/schema/vega-lite/v4.8.1.json\", \"datasets\": {\"data-5513524e843fe4639ac43c08d0495e04\": [{\"counts\": 24, \"age\": \"18\", \"percent\": 0.5714285714285714}, {\"counts\": 6, \"age\": \"20\", \"percent\": 0.14285714285714285}, {\"counts\": 5, \"age\": \"19\", \"percent\": 0.11904761904761904}, {\"counts\": 4, \"age\": \"22\", \"percent\": 0.09523809523809523}, {\"counts\": 2, \"age\": \"21\", \"percent\": 0.047619047619047616}, {\"counts\": 1, \"age\": \"25\", \"percent\": 0.023809523809523808}]}}, {\"renderer\": \"svg\", \"mode\": \"vega-lite\"});\n",
       "</script>"
      ],
      "text/plain": [
       "alt.LayerChart(...)"
      ]
     },
     "metadata": {},
     "output_type": "display_data"
    }
   ],
   "source": [
    "source = count_freq_labels(df, X=\"age\") \n",
    "title = 'Age | n = '+ source['counts'].sum().astype(str)\n",
    "X, Y = 'percent:Q', 'age:N'\n",
    "w, h= 450, 150\n",
    "txs, ls, ts = 12, 11, 12\n",
    "\n",
    "chart_age = simple_per_bar(\n",
    "    source, title=title, X=X, Y=Y, \\\n",
    "    width=w, height=h, \\\n",
    "    text_size = txs, label_size = ls, title_size=ts)\n",
    "chart_age"
   ]
  },
  {
   "cell_type": "code",
   "execution_count": 14,
   "metadata": {},
   "outputs": [
    {
     "data": {
      "text/html": [
       "\n",
       "<div id=\"altair-viz-b4aa76ff1e7a4cd0b4c8062effb2b5c9\"></div>\n",
       "<script type=\"text/javascript\">\n",
       "  (function(spec, embedOpt){\n",
       "    let outputDiv = document.currentScript.previousElementSibling;\n",
       "    if (outputDiv.id !== \"altair-viz-b4aa76ff1e7a4cd0b4c8062effb2b5c9\") {\n",
       "      outputDiv = document.getElementById(\"altair-viz-b4aa76ff1e7a4cd0b4c8062effb2b5c9\");\n",
       "    }\n",
       "    const paths = {\n",
       "      \"vega\": \"https://cdn.jsdelivr.net/npm//vega@5?noext\",\n",
       "      \"vega-lib\": \"https://cdn.jsdelivr.net/npm//vega-lib?noext\",\n",
       "      \"vega-lite\": \"https://cdn.jsdelivr.net/npm//vega-lite@4.8.1?noext\",\n",
       "      \"vega-embed\": \"https://cdn.jsdelivr.net/npm//vega-embed@6?noext\",\n",
       "    };\n",
       "\n",
       "    function loadScript(lib) {\n",
       "      return new Promise(function(resolve, reject) {\n",
       "        var s = document.createElement('script');\n",
       "        s.src = paths[lib];\n",
       "        s.async = true;\n",
       "        s.onload = () => resolve(paths[lib]);\n",
       "        s.onerror = () => reject(`Error loading script: ${paths[lib]}`);\n",
       "        document.getElementsByTagName(\"head\")[0].appendChild(s);\n",
       "      });\n",
       "    }\n",
       "\n",
       "    function showError(err) {\n",
       "      outputDiv.innerHTML = `<div class=\"error\" style=\"color:red;\">${err}</div>`;\n",
       "      throw err;\n",
       "    }\n",
       "\n",
       "    function displayChart(vegaEmbed) {\n",
       "      vegaEmbed(outputDiv, spec, embedOpt)\n",
       "        .catch(err => showError(`Javascript Error: ${err.message}<br>This usually means there's a typo in your chart specification. See the javascript console for the full traceback.`));\n",
       "    }\n",
       "\n",
       "    if(typeof define === \"function\" && define.amd) {\n",
       "      requirejs.config({paths});\n",
       "      require([\"vega-embed\"], displayChart, err => showError(`Error loading script: ${err.message}`));\n",
       "    } else if (typeof vegaEmbed === \"function\") {\n",
       "      displayChart(vegaEmbed);\n",
       "    } else {\n",
       "      loadScript(\"vega\")\n",
       "        .then(() => loadScript(\"vega-lite\"))\n",
       "        .then(() => loadScript(\"vega-embed\"))\n",
       "        .catch(showError)\n",
       "        .then(() => displayChart(vegaEmbed));\n",
       "    }\n",
       "  })({\"config\": {\"view\": {\"continuousWidth\": 400, \"continuousHeight\": 300}, \"axis\": {\"labelFontSize\": 11, \"titleFontSize\": 12}}, \"layer\": [{\"mark\": \"bar\", \"encoding\": {\"color\": {\"condition\": {\"value\": \"orange\", \"test\": \"(datum.emotion === 'Some')\"}, \"value\": \"#0570b0\"}, \"x\": {\"type\": \"quantitative\", \"axis\": {\"format\": \".0%\"}, \"field\": \"percent\"}, \"y\": {\"type\": \"nominal\", \"field\": \"ethnicity\", \"sort\": \"-x\"}}, \"title\": \"Ethnicity | n = 51\"}, {\"mark\": {\"type\": \"text\", \"align\": \"left\", \"baseline\": \"middle\", \"dx\": 3, \"fontSize\": 12, \"fontWeight\": \"bold\"}, \"encoding\": {\"color\": {\"condition\": {\"value\": \"orange\", \"test\": \"(datum.emotion === 'Some')\"}, \"value\": \"#0570b0\"}, \"text\": {\"type\": \"quantitative\", \"field\": \"percent\", \"format\": \".1%\"}, \"x\": {\"type\": \"quantitative\", \"axis\": {\"format\": \".0%\"}, \"field\": \"percent\"}, \"y\": {\"type\": \"nominal\", \"field\": \"ethnicity\", \"sort\": \"-x\"}}, \"title\": \"Ethnicity | n = 51\"}], \"data\": {\"name\": \"data-b195e225271668466606624ce07a28dc\"}, \"height\": 150, \"width\": 450, \"$schema\": \"https://vega.github.io/schema/vega-lite/v4.8.1.json\", \"datasets\": {\"data-b195e225271668466606624ce07a28dc\": [{\"counts\": 31, \"ethnicity\": \"White or Caucasian\", \"percent\": 0.6078431372549019}, {\"counts\": 10, \"ethnicity\": \"Asian\", \"percent\": 0.19607843137254902}, {\"counts\": 5, \"ethnicity\": \"Multiple ethnicities\", \"percent\": 0.09803921568627451}, {\"counts\": 2, \"ethnicity\": \"Hispanic or Latino\", \"percent\": 0.0392156862745098}, {\"counts\": 2, \"ethnicity\": \"Prefer not to say\", \"percent\": 0.0392156862745098}, {\"counts\": 1, \"ethnicity\": \"Black or African American\", \"percent\": 0.0196078431372549}]}}, {\"renderer\": \"svg\", \"mode\": \"vega-lite\"});\n",
       "</script>"
      ],
      "text/plain": [
       "alt.LayerChart(...)"
      ]
     },
     "metadata": {},
     "output_type": "display_data"
    }
   ],
   "source": [
    "source = count_freq_labels(df, X=\"ethnicity\") \n",
    "title = 'Ethnicity | n = '+ source['counts'].sum().astype(str)\n",
    "X, Y = 'percent:Q', 'ethnicity:N'\n",
    "w, h= 450, 150\n",
    "txs, ls, ts = 12, 11, 12\n",
    "\n",
    "chart_ethnicity= simple_per_bar(\n",
    "    source, title=title, X=X, Y=Y, \\\n",
    "    width=w, height=h, \\\n",
    "    text_size = txs, label_size = ls, title_size=ts)\n",
    "chart_ethnicity"
   ]
  },
  {
   "cell_type": "code",
   "execution_count": 15,
   "metadata": {},
   "outputs": [
    {
     "data": {
      "text/html": [
       "\n",
       "<div id=\"altair-viz-229867537e194e41abe99003b39446b8\"></div>\n",
       "<script type=\"text/javascript\">\n",
       "  (function(spec, embedOpt){\n",
       "    let outputDiv = document.currentScript.previousElementSibling;\n",
       "    if (outputDiv.id !== \"altair-viz-229867537e194e41abe99003b39446b8\") {\n",
       "      outputDiv = document.getElementById(\"altair-viz-229867537e194e41abe99003b39446b8\");\n",
       "    }\n",
       "    const paths = {\n",
       "      \"vega\": \"https://cdn.jsdelivr.net/npm//vega@5?noext\",\n",
       "      \"vega-lib\": \"https://cdn.jsdelivr.net/npm//vega-lib?noext\",\n",
       "      \"vega-lite\": \"https://cdn.jsdelivr.net/npm//vega-lite@4.8.1?noext\",\n",
       "      \"vega-embed\": \"https://cdn.jsdelivr.net/npm//vega-embed@6?noext\",\n",
       "    };\n",
       "\n",
       "    function loadScript(lib) {\n",
       "      return new Promise(function(resolve, reject) {\n",
       "        var s = document.createElement('script');\n",
       "        s.src = paths[lib];\n",
       "        s.async = true;\n",
       "        s.onload = () => resolve(paths[lib]);\n",
       "        s.onerror = () => reject(`Error loading script: ${paths[lib]}`);\n",
       "        document.getElementsByTagName(\"head\")[0].appendChild(s);\n",
       "      });\n",
       "    }\n",
       "\n",
       "    function showError(err) {\n",
       "      outputDiv.innerHTML = `<div class=\"error\" style=\"color:red;\">${err}</div>`;\n",
       "      throw err;\n",
       "    }\n",
       "\n",
       "    function displayChart(vegaEmbed) {\n",
       "      vegaEmbed(outputDiv, spec, embedOpt)\n",
       "        .catch(err => showError(`Javascript Error: ${err.message}<br>This usually means there's a typo in your chart specification. See the javascript console for the full traceback.`));\n",
       "    }\n",
       "\n",
       "    if(typeof define === \"function\" && define.amd) {\n",
       "      requirejs.config({paths});\n",
       "      require([\"vega-embed\"], displayChart, err => showError(`Error loading script: ${err.message}`));\n",
       "    } else if (typeof vegaEmbed === \"function\") {\n",
       "      displayChart(vegaEmbed);\n",
       "    } else {\n",
       "      loadScript(\"vega\")\n",
       "        .then(() => loadScript(\"vega-lite\"))\n",
       "        .then(() => loadScript(\"vega-embed\"))\n",
       "        .catch(showError)\n",
       "        .then(() => displayChart(vegaEmbed));\n",
       "    }\n",
       "  })({\"config\": {\"view\": {\"continuousWidth\": 400, \"continuousHeight\": 300}, \"axis\": {\"labelFontSize\": 11, \"titleFontSize\": 12}}, \"layer\": [{\"mark\": \"bar\", \"encoding\": {\"color\": {\"condition\": {\"value\": \"orange\", \"test\": \"(datum.emotion === 'Some')\"}, \"value\": \"#0570b0\"}, \"x\": {\"type\": \"quantitative\", \"axis\": {\"format\": \".0%\"}, \"field\": \"percent\"}, \"y\": {\"type\": \"nominal\", \"field\": \"formal education\", \"sort\": \"-x\"}}, \"title\": \"Formal education | n = 51\"}, {\"mark\": {\"type\": \"text\", \"align\": \"left\", \"baseline\": \"middle\", \"dx\": 3, \"fontSize\": 12, \"fontWeight\": \"bold\"}, \"encoding\": {\"color\": {\"condition\": {\"value\": \"orange\", \"test\": \"(datum.emotion === 'Some')\"}, \"value\": \"#0570b0\"}, \"text\": {\"type\": \"quantitative\", \"field\": \"percent\", \"format\": \".1%\"}, \"x\": {\"type\": \"quantitative\", \"axis\": {\"format\": \".0%\"}, \"field\": \"percent\"}, \"y\": {\"type\": \"nominal\", \"field\": \"formal education\", \"sort\": \"-x\"}}, \"title\": \"Formal education | n = 51\"}], \"data\": {\"name\": \"data-8f5386a7aa99ae6a02857db6a7f68669\"}, \"height\": 150, \"width\": 450, \"$schema\": \"https://vega.github.io/schema/vega-lite/v4.8.1.json\", \"datasets\": {\"data-8f5386a7aa99ae6a02857db6a7f68669\": [{\"counts\": 25, \"formal education\": \"Some college\", \"percent\": 0.49019607843137253}, {\"counts\": 24, \"formal education\": \"High school graduate\", \"percent\": 0.47058823529411764}, {\"counts\": 1, \"formal education\": \"4 year degree\", \"percent\": 0.0196078431372549}, {\"counts\": 1, \"formal education\": \"Professional degree\", \"percent\": 0.0196078431372549}]}}, {\"renderer\": \"svg\", \"mode\": \"vega-lite\"});\n",
       "</script>"
      ],
      "text/plain": [
       "alt.LayerChart(...)"
      ]
     },
     "metadata": {},
     "output_type": "display_data"
    }
   ],
   "source": [
    "source = count_freq_labels(df, X=\"formal education\") \n",
    "title = 'Formal education | n = '+ source['counts'].sum().astype(str)\n",
    "X, Y = 'percent:Q', 'formal education:N'\n",
    "w, h= 450, 150\n",
    "txs, ls, ts = 12, 11, 12\n",
    "\n",
    "chart_formal_education= simple_per_bar(\n",
    "    source, title=title, X=X, Y=Y, width=w, height=h, text_size = txs, label_size = ls, title_size=ts)\n",
    "chart_formal_education"
   ]
  },
  {
   "cell_type": "markdown",
   "metadata": {},
   "source": [
    "## Overall results"
   ]
  },
  {
   "cell_type": "code",
   "execution_count": 16,
   "id": "55918490-a1d3-46ba-aef0-b7cc07b5083e",
   "metadata": {},
   "outputs": [],
   "source": [
    "df_emo_answers = df.loc[:, 'Q2.1':'Q195.1'] # subset photos"
   ]
  },
  {
   "cell_type": "code",
   "execution_count": 17,
   "metadata": {},
   "outputs": [
    {
     "data": {
      "text/html": [
       "\n",
       "<div id=\"altair-viz-4b65dcfdb66a484bbc556417985357e9\"></div>\n",
       "<script type=\"text/javascript\">\n",
       "  (function(spec, embedOpt){\n",
       "    let outputDiv = document.currentScript.previousElementSibling;\n",
       "    if (outputDiv.id !== \"altair-viz-4b65dcfdb66a484bbc556417985357e9\") {\n",
       "      outputDiv = document.getElementById(\"altair-viz-4b65dcfdb66a484bbc556417985357e9\");\n",
       "    }\n",
       "    const paths = {\n",
       "      \"vega\": \"https://cdn.jsdelivr.net/npm//vega@5?noext\",\n",
       "      \"vega-lib\": \"https://cdn.jsdelivr.net/npm//vega-lib?noext\",\n",
       "      \"vega-lite\": \"https://cdn.jsdelivr.net/npm//vega-lite@4.8.1?noext\",\n",
       "      \"vega-embed\": \"https://cdn.jsdelivr.net/npm//vega-embed@6?noext\",\n",
       "    };\n",
       "\n",
       "    function loadScript(lib) {\n",
       "      return new Promise(function(resolve, reject) {\n",
       "        var s = document.createElement('script');\n",
       "        s.src = paths[lib];\n",
       "        s.async = true;\n",
       "        s.onload = () => resolve(paths[lib]);\n",
       "        s.onerror = () => reject(`Error loading script: ${paths[lib]}`);\n",
       "        document.getElementsByTagName(\"head\")[0].appendChild(s);\n",
       "      });\n",
       "    }\n",
       "\n",
       "    function showError(err) {\n",
       "      outputDiv.innerHTML = `<div class=\"error\" style=\"color:red;\">${err}</div>`;\n",
       "      throw err;\n",
       "    }\n",
       "\n",
       "    function displayChart(vegaEmbed) {\n",
       "      vegaEmbed(outputDiv, spec, embedOpt)\n",
       "        .catch(err => showError(`Javascript Error: ${err.message}<br>This usually means there's a typo in your chart specification. See the javascript console for the full traceback.`));\n",
       "    }\n",
       "\n",
       "    if(typeof define === \"function\" && define.amd) {\n",
       "      requirejs.config({paths});\n",
       "      require([\"vega-embed\"], displayChart, err => showError(`Error loading script: ${err.message}`));\n",
       "    } else if (typeof vegaEmbed === \"function\") {\n",
       "      displayChart(vegaEmbed);\n",
       "    } else {\n",
       "      loadScript(\"vega\")\n",
       "        .then(() => loadScript(\"vega-lite\"))\n",
       "        .then(() => loadScript(\"vega-embed\"))\n",
       "        .catch(showError)\n",
       "        .then(() => displayChart(vegaEmbed));\n",
       "    }\n",
       "  })({\"config\": {\"view\": {\"continuousWidth\": 400, \"continuousHeight\": 300}, \"axis\": {\"labelFontSize\": 11, \"titleFontSize\": 12}}, \"layer\": [{\"mark\": \"bar\", \"encoding\": {\"color\": {\"condition\": {\"value\": \"orange\", \"test\": \"(datum.emotion === 'Some')\"}, \"value\": \"#0570b0\"}, \"x\": {\"type\": \"quantitative\", \"axis\": {\"format\": \".0%\"}, \"field\": \"percent\"}, \"y\": {\"type\": \"nominal\", \"field\": \"emotion\", \"sort\": \"-x\"}}, \"title\": \"Labels frequency | n = 9894\"}, {\"mark\": {\"type\": \"text\", \"align\": \"left\", \"baseline\": \"middle\", \"dx\": 3, \"fontSize\": 12, \"fontWeight\": \"bold\"}, \"encoding\": {\"color\": {\"condition\": {\"value\": \"orange\", \"test\": \"(datum.emotion === 'Some')\"}, \"value\": \"#0570b0\"}, \"text\": {\"type\": \"quantitative\", \"field\": \"percent\", \"format\": \".1%\"}, \"x\": {\"type\": \"quantitative\", \"axis\": {\"format\": \".0%\"}, \"field\": \"percent\"}, \"y\": {\"type\": \"nominal\", \"field\": \"emotion\", \"sort\": \"-x\"}}, \"title\": \"Labels frequency | n = 9894\"}], \"data\": {\"name\": \"data-005428293baed6b7594144299f5282b7\"}, \"height\": 200, \"width\": 450, \"$schema\": \"https://vega.github.io/schema/vega-lite/v4.8.1.json\", \"datasets\": {\"data-005428293baed6b7594144299f5282b7\": [{\"counts\": 1545, \"emotion\": \"Happiness\", \"percent\": 0.156155245603396}, {\"counts\": 1413, \"emotion\": \"Neutral\", \"percent\": 0.14281382656155245}, {\"counts\": 1343, \"emotion\": \"Surprise\", \"percent\": 0.13573883161512026}, {\"counts\": 1314, \"emotion\": \"Sadness\", \"percent\": 0.1328077622801698}, {\"counts\": 1114, \"emotion\": \"Disgust\", \"percent\": 0.11259349100464928}, {\"counts\": 1105, \"emotion\": \"Anger\", \"percent\": 0.11168384879725086}, {\"counts\": 739, \"emotion\": \"Other\", \"percent\": 0.07469173236304831}, {\"counts\": 671, \"emotion\": \"Fear\", \"percent\": 0.06781888012937133}, {\"counts\": 650, \"emotion\": \"Uncertain\", \"percent\": 0.06569638164544168}]}}, {\"renderer\": \"svg\", \"mode\": \"vega-lite\"});\n",
       "</script>"
      ],
      "text/plain": [
       "alt.LayerChart(...)"
      ]
     },
     "metadata": {},
     "output_type": "display_data"
    }
   ],
   "source": [
    "source = count_freq_labels(df_emo_answers, X=\"all\") \n",
    "title = 'Labels frequency | n = '+ source['counts'].sum().astype(str)\n",
    "X, Y = 'percent:Q', 'emotion:N'\n",
    "w, h= 450, 200\n",
    "txs, ls, ts = 12, 11, 12\n",
    "\n",
    "chart_overall_per = simple_per_bar(\n",
    "    source, title=title, X=X, Y=Y, width=w, height=h, text_size = txs, label_size = ls, title_size=ts)\n",
    "chart_overall_per"
   ]
  },
  {
   "cell_type": "code",
   "execution_count": 18,
   "id": "9c7b4424-92a0-481a-9372-c7c2f92c420c",
   "metadata": {},
   "outputs": [
    {
     "data": {
      "text/html": [
       "\n",
       "<div id=\"altair-viz-748e8271731d4142b67517293842dacd\"></div>\n",
       "<script type=\"text/javascript\">\n",
       "  (function(spec, embedOpt){\n",
       "    let outputDiv = document.currentScript.previousElementSibling;\n",
       "    if (outputDiv.id !== \"altair-viz-748e8271731d4142b67517293842dacd\") {\n",
       "      outputDiv = document.getElementById(\"altair-viz-748e8271731d4142b67517293842dacd\");\n",
       "    }\n",
       "    const paths = {\n",
       "      \"vega\": \"https://cdn.jsdelivr.net/npm//vega@5?noext\",\n",
       "      \"vega-lib\": \"https://cdn.jsdelivr.net/npm//vega-lib?noext\",\n",
       "      \"vega-lite\": \"https://cdn.jsdelivr.net/npm//vega-lite@4.8.1?noext\",\n",
       "      \"vega-embed\": \"https://cdn.jsdelivr.net/npm//vega-embed@6?noext\",\n",
       "    };\n",
       "\n",
       "    function loadScript(lib) {\n",
       "      return new Promise(function(resolve, reject) {\n",
       "        var s = document.createElement('script');\n",
       "        s.src = paths[lib];\n",
       "        s.async = true;\n",
       "        s.onload = () => resolve(paths[lib]);\n",
       "        s.onerror = () => reject(`Error loading script: ${paths[lib]}`);\n",
       "        document.getElementsByTagName(\"head\")[0].appendChild(s);\n",
       "      });\n",
       "    }\n",
       "\n",
       "    function showError(err) {\n",
       "      outputDiv.innerHTML = `<div class=\"error\" style=\"color:red;\">${err}</div>`;\n",
       "      throw err;\n",
       "    }\n",
       "\n",
       "    function displayChart(vegaEmbed) {\n",
       "      vegaEmbed(outputDiv, spec, embedOpt)\n",
       "        .catch(err => showError(`Javascript Error: ${err.message}<br>This usually means there's a typo in your chart specification. See the javascript console for the full traceback.`));\n",
       "    }\n",
       "\n",
       "    if(typeof define === \"function\" && define.amd) {\n",
       "      requirejs.config({paths});\n",
       "      require([\"vega-embed\"], displayChart, err => showError(`Error loading script: ${err.message}`));\n",
       "    } else if (typeof vegaEmbed === \"function\") {\n",
       "      displayChart(vegaEmbed);\n",
       "    } else {\n",
       "      loadScript(\"vega\")\n",
       "        .then(() => loadScript(\"vega-lite\"))\n",
       "        .then(() => loadScript(\"vega-embed\"))\n",
       "        .catch(showError)\n",
       "        .then(() => displayChart(vegaEmbed));\n",
       "    }\n",
       "  })({\"config\": {\"view\": {\"continuousWidth\": 400, \"continuousHeight\": 300}, \"axis\": {\"labelFontSize\": 11, \"titleFontSize\": 12}}, \"layer\": [{\"mark\": \"bar\", \"encoding\": {\"color\": {\"condition\": {\"value\": \"#orange\", \"test\": \"(datum.emotion === 'Some')\"}, \"value\": \"#0570b0\"}, \"x\": {\"type\": \"quantitative\", \"field\": \"counts\"}, \"y\": {\"type\": \"nominal\", \"field\": \"emotion\", \"sort\": \"-x\"}}, \"title\": \"Labels frequency | n = 9894\"}, {\"mark\": {\"type\": \"text\", \"align\": \"left\", \"baseline\": \"middle\", \"dx\": 3, \"fontSize\": 12, \"fontWeight\": \"bold\"}, \"encoding\": {\"color\": {\"condition\": {\"value\": \"#orange\", \"test\": \"(datum.emotion === 'Some')\"}, \"value\": \"#0570b0\"}, \"text\": {\"type\": \"quantitative\", \"field\": \"counts\"}, \"x\": {\"type\": \"quantitative\", \"field\": \"counts\"}, \"y\": {\"type\": \"nominal\", \"field\": \"emotion\", \"sort\": \"-x\"}}, \"title\": \"Labels frequency | n = 9894\"}], \"data\": {\"name\": \"data-005428293baed6b7594144299f5282b7\"}, \"height\": 200, \"width\": 450, \"$schema\": \"https://vega.github.io/schema/vega-lite/v4.8.1.json\", \"datasets\": {\"data-005428293baed6b7594144299f5282b7\": [{\"counts\": 1545, \"emotion\": \"Happiness\", \"percent\": 0.156155245603396}, {\"counts\": 1413, \"emotion\": \"Neutral\", \"percent\": 0.14281382656155245}, {\"counts\": 1343, \"emotion\": \"Surprise\", \"percent\": 0.13573883161512026}, {\"counts\": 1314, \"emotion\": \"Sadness\", \"percent\": 0.1328077622801698}, {\"counts\": 1114, \"emotion\": \"Disgust\", \"percent\": 0.11259349100464928}, {\"counts\": 1105, \"emotion\": \"Anger\", \"percent\": 0.11168384879725086}, {\"counts\": 739, \"emotion\": \"Other\", \"percent\": 0.07469173236304831}, {\"counts\": 671, \"emotion\": \"Fear\", \"percent\": 0.06781888012937133}, {\"counts\": 650, \"emotion\": \"Uncertain\", \"percent\": 0.06569638164544168}]}}, {\"renderer\": \"svg\", \"mode\": \"vega-lite\"});\n",
       "</script>"
      ],
      "text/plain": [
       "alt.LayerChart(...)"
      ]
     },
     "metadata": {},
     "output_type": "display_data"
    }
   ],
   "source": [
    "source = count_freq_labels(df_emo_answers, X=\"all\") \n",
    "title = 'Labels frequency | n = '+ source['counts'].sum().astype(str)\n",
    "X, Y = 'counts:Q', 'emotion:N'\n",
    "w, h= 450, 200\n",
    "txs, ls, ts = 12, 11, 12\n",
    "\n",
    "chart_overall_count = simple_count_bar(\n",
    "    source, title=title, X=X, Y=Y, width=w, height=h, text_size = txs, label_size = ls, title_size=ts)\n",
    "chart_overall_count"
   ]
  },
  {
   "cell_type": "markdown",
   "id": "68bd5682-7512-4454-9673-27bd6ad01646",
   "metadata": {},
   "source": [
    "## Most frequently used word for each emotion category (grouping pictures by expected-emotion)"
   ]
  },
  {
   "cell_type": "code",
   "execution_count": 19,
   "id": "bd79088b-ed11-47f2-8d09-14a8f4f51f11",
   "metadata": {},
   "outputs": [],
   "source": [
    "def emotion_df_formated(df_emo_answers, emotion_label):\n",
    "    df_emo_cat = df_emo_answers.copy() \n",
    "    df_emo_cat_t = df_emo_cat.T # transpose\n",
    "    df_emo_cat_t['photo_id'] = df_emo_cat_t.index # get index as col\n",
    "    df_emo_cat_t = df_emo_cat_t.reset_index(drop=True) # clean index\n",
    "    df_emo_cat_t_labels = pd.concat([df_emo_cat_t, df_labels], axis=1) # add metadata cols\n",
    "    df_label =  df_emo_cat_t_labels[df_emo_cat_t_labels['label'] == emotion_label]\n",
    "    return df_label"
   ]
  },
  {
   "cell_type": "code",
   "execution_count": 20,
   "metadata": {},
   "outputs": [
    {
     "data": {
      "text/html": [
       "\n",
       "<div id=\"altair-viz-7868dad697f94a1086d35af7cb71e77e\"></div>\n",
       "<script type=\"text/javascript\">\n",
       "  (function(spec, embedOpt){\n",
       "    let outputDiv = document.currentScript.previousElementSibling;\n",
       "    if (outputDiv.id !== \"altair-viz-7868dad697f94a1086d35af7cb71e77e\") {\n",
       "      outputDiv = document.getElementById(\"altair-viz-7868dad697f94a1086d35af7cb71e77e\");\n",
       "    }\n",
       "    const paths = {\n",
       "      \"vega\": \"https://cdn.jsdelivr.net/npm//vega@5?noext\",\n",
       "      \"vega-lib\": \"https://cdn.jsdelivr.net/npm//vega-lib?noext\",\n",
       "      \"vega-lite\": \"https://cdn.jsdelivr.net/npm//vega-lite@4.8.1?noext\",\n",
       "      \"vega-embed\": \"https://cdn.jsdelivr.net/npm//vega-embed@6?noext\",\n",
       "    };\n",
       "\n",
       "    function loadScript(lib) {\n",
       "      return new Promise(function(resolve, reject) {\n",
       "        var s = document.createElement('script');\n",
       "        s.src = paths[lib];\n",
       "        s.async = true;\n",
       "        s.onload = () => resolve(paths[lib]);\n",
       "        s.onerror = () => reject(`Error loading script: ${paths[lib]}`);\n",
       "        document.getElementsByTagName(\"head\")[0].appendChild(s);\n",
       "      });\n",
       "    }\n",
       "\n",
       "    function showError(err) {\n",
       "      outputDiv.innerHTML = `<div class=\"error\" style=\"color:red;\">${err}</div>`;\n",
       "      throw err;\n",
       "    }\n",
       "\n",
       "    function displayChart(vegaEmbed) {\n",
       "      vegaEmbed(outputDiv, spec, embedOpt)\n",
       "        .catch(err => showError(`Javascript Error: ${err.message}<br>This usually means there's a typo in your chart specification. See the javascript console for the full traceback.`));\n",
       "    }\n",
       "\n",
       "    if(typeof define === \"function\" && define.amd) {\n",
       "      requirejs.config({paths});\n",
       "      require([\"vega-embed\"], displayChart, err => showError(`Error loading script: ${err.message}`));\n",
       "    } else if (typeof vegaEmbed === \"function\") {\n",
       "      displayChart(vegaEmbed);\n",
       "    } else {\n",
       "      loadScript(\"vega\")\n",
       "        .then(() => loadScript(\"vega-lite\"))\n",
       "        .then(() => loadScript(\"vega-embed\"))\n",
       "        .catch(showError)\n",
       "        .then(() => displayChart(vegaEmbed));\n",
       "    }\n",
       "  })({\"config\": {\"view\": {\"continuousWidth\": 400, \"continuousHeight\": 300}, \"axis\": {\"labelFontSize\": 11, \"titleFontSize\": 12}}, \"layer\": [{\"mark\": \"bar\", \"encoding\": {\"color\": {\"condition\": {\"value\": \"orange\", \"test\": \"(datum.emotion === 'Anger')\"}, \"value\": \"#0570b0\"}, \"x\": {\"type\": \"quantitative\", \"axis\": {\"format\": \".0%\"}, \"field\": \"percent\"}, \"y\": {\"type\": \"nominal\", \"field\": \"emotion\", \"sort\": \"-x\"}}, \"title\": \"Expcted label: anger | n = 1224\"}, {\"mark\": {\"type\": \"text\", \"align\": \"left\", \"baseline\": \"middle\", \"dx\": 3, \"fontSize\": 12, \"fontWeight\": \"bold\"}, \"encoding\": {\"color\": {\"condition\": {\"value\": \"orange\", \"test\": \"(datum.emotion === 'Anger')\"}, \"value\": \"#0570b0\"}, \"text\": {\"type\": \"quantitative\", \"field\": \"percent\", \"format\": \".1%\"}, \"x\": {\"type\": \"quantitative\", \"axis\": {\"format\": \".0%\"}, \"field\": \"percent\"}, \"y\": {\"type\": \"nominal\", \"field\": \"emotion\", \"sort\": \"-x\"}}, \"title\": \"Expcted label: anger | n = 1224\"}], \"data\": {\"name\": \"data-0444eee5ec661a2d59b6cb77be3869f4\"}, \"height\": 200, \"width\": 450, \"$schema\": \"https://vega.github.io/schema/vega-lite/v4.8.1.json\", \"datasets\": {\"data-0444eee5ec661a2d59b6cb77be3869f4\": [{\"counts\": 736, \"emotion\": \"Anger\", \"percent\": 0.6013071895424836}, {\"counts\": 115, \"emotion\": \"Neutral\", \"percent\": 0.09395424836601307}, {\"counts\": 113, \"emotion\": \"Disgust\", \"percent\": 0.0923202614379085}, {\"counts\": 72, \"emotion\": \"Uncertain\", \"percent\": 0.058823529411764705}, {\"counts\": 63, \"emotion\": \"Sadness\", \"percent\": 0.051470588235294115}, {\"counts\": 62, \"emotion\": \"Other\", \"percent\": 0.05065359477124183}, {\"counts\": 26, \"emotion\": \"Fear\", \"percent\": 0.021241830065359478}, {\"counts\": 19, \"emotion\": \"Surprise\", \"percent\": 0.015522875816993464}, {\"counts\": 18, \"emotion\": \"Happiness\", \"percent\": 0.014705882352941176}]}}, {\"renderer\": \"svg\", \"mode\": \"vega-lite\"});\n",
       "</script>"
      ],
      "text/plain": [
       "alt.LayerChart(...)"
      ]
     },
     "metadata": {},
     "output_type": "display_data"
    }
   ],
   "source": [
    "emotion = 'anger'\n",
    "df_formated = emotion_df_formated(df_emo_answers, emotion) # subset 'anger' rows\n",
    "df_formated_ans = df_formated.drop(['photo_id', 'ethnicity', 'sex','age', 'label', 'url'], axis=1)\n",
    "source = count_freq_labels(df_formated_ans, X=\"all\") \n",
    "title = 'Expcted label: '+ emotion + ' | n = '+ source['counts'].sum().astype(str)\n",
    "X, Y = 'percent:Q', 'emotion:N'\n",
    "w, h= 450, 200\n",
    "txs, ls, ts = 12, 11, 12\n",
    "\n",
    "\n",
    "chart_anger = simple_per_bar(\n",
    "    source, title=title, X=X, Y=Y, \\\n",
    "    width=w, height=h, emotion=emotion.capitalize(), \\\n",
    "    text_size = txs, label_size = ls, title_size=ts)"
   ]
  },
  {
   "cell_type": "markdown",
   "id": "e67b1442-81fb-412b-ac9b-6606b2701365",
   "metadata": {},
   "source": [
    "### Disgust"
   ]
  },
  {
   "cell_type": "code",
   "execution_count": 21,
   "metadata": {},
   "outputs": [
    {
     "data": {
      "text/html": [
       "\n",
       "<div id=\"altair-viz-bdbbacd79cf24dcdbdf541631ff3f6c5\"></div>\n",
       "<script type=\"text/javascript\">\n",
       "  (function(spec, embedOpt){\n",
       "    let outputDiv = document.currentScript.previousElementSibling;\n",
       "    if (outputDiv.id !== \"altair-viz-bdbbacd79cf24dcdbdf541631ff3f6c5\") {\n",
       "      outputDiv = document.getElementById(\"altair-viz-bdbbacd79cf24dcdbdf541631ff3f6c5\");\n",
       "    }\n",
       "    const paths = {\n",
       "      \"vega\": \"https://cdn.jsdelivr.net/npm//vega@5?noext\",\n",
       "      \"vega-lib\": \"https://cdn.jsdelivr.net/npm//vega-lib?noext\",\n",
       "      \"vega-lite\": \"https://cdn.jsdelivr.net/npm//vega-lite@4.8.1?noext\",\n",
       "      \"vega-embed\": \"https://cdn.jsdelivr.net/npm//vega-embed@6?noext\",\n",
       "    };\n",
       "\n",
       "    function loadScript(lib) {\n",
       "      return new Promise(function(resolve, reject) {\n",
       "        var s = document.createElement('script');\n",
       "        s.src = paths[lib];\n",
       "        s.async = true;\n",
       "        s.onload = () => resolve(paths[lib]);\n",
       "        s.onerror = () => reject(`Error loading script: ${paths[lib]}`);\n",
       "        document.getElementsByTagName(\"head\")[0].appendChild(s);\n",
       "      });\n",
       "    }\n",
       "\n",
       "    function showError(err) {\n",
       "      outputDiv.innerHTML = `<div class=\"error\" style=\"color:red;\">${err}</div>`;\n",
       "      throw err;\n",
       "    }\n",
       "\n",
       "    function displayChart(vegaEmbed) {\n",
       "      vegaEmbed(outputDiv, spec, embedOpt)\n",
       "        .catch(err => showError(`Javascript Error: ${err.message}<br>This usually means there's a typo in your chart specification. See the javascript console for the full traceback.`));\n",
       "    }\n",
       "\n",
       "    if(typeof define === \"function\" && define.amd) {\n",
       "      requirejs.config({paths});\n",
       "      require([\"vega-embed\"], displayChart, err => showError(`Error loading script: ${err.message}`));\n",
       "    } else if (typeof vegaEmbed === \"function\") {\n",
       "      displayChart(vegaEmbed);\n",
       "    } else {\n",
       "      loadScript(\"vega\")\n",
       "        .then(() => loadScript(\"vega-lite\"))\n",
       "        .then(() => loadScript(\"vega-embed\"))\n",
       "        .catch(showError)\n",
       "        .then(() => displayChart(vegaEmbed));\n",
       "    }\n",
       "  })({\"config\": {\"view\": {\"continuousWidth\": 400, \"continuousHeight\": 300}, \"axis\": {\"labelFontSize\": 11, \"titleFontSize\": 12}}, \"layer\": [{\"mark\": \"bar\", \"encoding\": {\"color\": {\"condition\": {\"value\": \"orange\", \"test\": \"(datum.emotion === 'Disgust')\"}, \"value\": \"#0570b0\"}, \"x\": {\"type\": \"quantitative\", \"axis\": {\"format\": \".0%\"}, \"field\": \"percent\"}, \"y\": {\"type\": \"nominal\", \"field\": \"emotion\", \"sort\": \"-x\"}}, \"title\": \"Expcted label: disgust | n = 1224\"}, {\"mark\": {\"type\": \"text\", \"align\": \"left\", \"baseline\": \"middle\", \"dx\": 3, \"fontSize\": 12, \"fontWeight\": \"bold\"}, \"encoding\": {\"color\": {\"condition\": {\"value\": \"orange\", \"test\": \"(datum.emotion === 'Disgust')\"}, \"value\": \"#0570b0\"}, \"text\": {\"type\": \"quantitative\", \"field\": \"percent\", \"format\": \".1%\"}, \"x\": {\"type\": \"quantitative\", \"axis\": {\"format\": \".0%\"}, \"field\": \"percent\"}, \"y\": {\"type\": \"nominal\", \"field\": \"emotion\", \"sort\": \"-x\"}}, \"title\": \"Expcted label: disgust | n = 1224\"}], \"data\": {\"name\": \"data-dd3efb2cf2fc00cd77c303579a1989bf\"}, \"height\": 200, \"width\": 450, \"$schema\": \"https://vega.github.io/schema/vega-lite/v4.8.1.json\", \"datasets\": {\"data-dd3efb2cf2fc00cd77c303579a1989bf\": [{\"counts\": 679, \"emotion\": \"Disgust\", \"percent\": 0.5547385620915033}, {\"counts\": 148, \"emotion\": \"Anger\", \"percent\": 0.12091503267973856}, {\"counts\": 104, \"emotion\": \"Other\", \"percent\": 0.08496732026143791}, {\"counts\": 95, \"emotion\": \"Uncertain\", \"percent\": 0.07761437908496732}, {\"counts\": 64, \"emotion\": \"Happiness\", \"percent\": 0.05228758169934641}, {\"counts\": 56, \"emotion\": \"Surprise\", \"percent\": 0.0457516339869281}, {\"counts\": 36, \"emotion\": \"Fear\", \"percent\": 0.029411764705882353}, {\"counts\": 25, \"emotion\": \"Sadness\", \"percent\": 0.02042483660130719}, {\"counts\": 17, \"emotion\": \"Neutral\", \"percent\": 0.013888888888888888}]}}, {\"renderer\": \"svg\", \"mode\": \"vega-lite\"});\n",
       "</script>"
      ],
      "text/plain": [
       "alt.LayerChart(...)"
      ]
     },
     "metadata": {},
     "output_type": "display_data"
    }
   ],
   "source": [
    "emotion = 'disgust'\n",
    "df_formated = emotion_df_formated(df_emo_answers, emotion) # subset 'anger' rows\n",
    "df_formated_ans = df_formated.drop(['photo_id', 'ethnicity', 'sex','age', 'label', 'url'], axis=1)\n",
    "source = count_freq_labels(df_formated_ans, X=\"all\") \n",
    "title = 'Expcted label: '+ emotion + ' | n = '+ source['counts'].sum().astype(str)\n",
    "X, Y = 'percent:Q', 'emotion:N'\n",
    "w, h= 450, 200\n",
    "txs, ls, ts = 12, 11, 12\n",
    "\n",
    "\n",
    "chart_disgust = simple_per_bar(\n",
    "    source, title=title, X=X, Y=Y, \\\n",
    "    width=w, height=h,  emotion=emotion.capitalize(),\\\n",
    "    text_size = txs, label_size = ls, title_size=ts)"
   ]
  },
  {
   "cell_type": "markdown",
   "id": "474f1bfa-d0e8-40c7-9e87-59d83e961979",
   "metadata": {},
   "source": [
    "### Fear"
   ]
  },
  {
   "cell_type": "code",
   "execution_count": 22,
   "id": "61fd24eb-0c53-48c8-8435-7543dc8e56bb",
   "metadata": {},
   "outputs": [
    {
     "data": {
      "text/html": [
       "\n",
       "<div id=\"altair-viz-0012a41339654e1c96eecd0dbda31633\"></div>\n",
       "<script type=\"text/javascript\">\n",
       "  (function(spec, embedOpt){\n",
       "    let outputDiv = document.currentScript.previousElementSibling;\n",
       "    if (outputDiv.id !== \"altair-viz-0012a41339654e1c96eecd0dbda31633\") {\n",
       "      outputDiv = document.getElementById(\"altair-viz-0012a41339654e1c96eecd0dbda31633\");\n",
       "    }\n",
       "    const paths = {\n",
       "      \"vega\": \"https://cdn.jsdelivr.net/npm//vega@5?noext\",\n",
       "      \"vega-lib\": \"https://cdn.jsdelivr.net/npm//vega-lib?noext\",\n",
       "      \"vega-lite\": \"https://cdn.jsdelivr.net/npm//vega-lite@4.8.1?noext\",\n",
       "      \"vega-embed\": \"https://cdn.jsdelivr.net/npm//vega-embed@6?noext\",\n",
       "    };\n",
       "\n",
       "    function loadScript(lib) {\n",
       "      return new Promise(function(resolve, reject) {\n",
       "        var s = document.createElement('script');\n",
       "        s.src = paths[lib];\n",
       "        s.async = true;\n",
       "        s.onload = () => resolve(paths[lib]);\n",
       "        s.onerror = () => reject(`Error loading script: ${paths[lib]}`);\n",
       "        document.getElementsByTagName(\"head\")[0].appendChild(s);\n",
       "      });\n",
       "    }\n",
       "\n",
       "    function showError(err) {\n",
       "      outputDiv.innerHTML = `<div class=\"error\" style=\"color:red;\">${err}</div>`;\n",
       "      throw err;\n",
       "    }\n",
       "\n",
       "    function displayChart(vegaEmbed) {\n",
       "      vegaEmbed(outputDiv, spec, embedOpt)\n",
       "        .catch(err => showError(`Javascript Error: ${err.message}<br>This usually means there's a typo in your chart specification. See the javascript console for the full traceback.`));\n",
       "    }\n",
       "\n",
       "    if(typeof define === \"function\" && define.amd) {\n",
       "      requirejs.config({paths});\n",
       "      require([\"vega-embed\"], displayChart, err => showError(`Error loading script: ${err.message}`));\n",
       "    } else if (typeof vegaEmbed === \"function\") {\n",
       "      displayChart(vegaEmbed);\n",
       "    } else {\n",
       "      loadScript(\"vega\")\n",
       "        .then(() => loadScript(\"vega-lite\"))\n",
       "        .then(() => loadScript(\"vega-embed\"))\n",
       "        .catch(showError)\n",
       "        .then(() => displayChart(vegaEmbed));\n",
       "    }\n",
       "  })({\"config\": {\"view\": {\"continuousWidth\": 400, \"continuousHeight\": 300}, \"axis\": {\"labelFontSize\": 11, \"titleFontSize\": 12}}, \"layer\": [{\"mark\": \"bar\", \"encoding\": {\"color\": {\"condition\": {\"value\": \"orange\", \"test\": \"(datum.emotion === 'Fear')\"}, \"value\": \"#0570b0\"}, \"x\": {\"type\": \"quantitative\", \"axis\": {\"format\": \".0%\"}, \"field\": \"percent\"}, \"y\": {\"type\": \"nominal\", \"field\": \"emotion\", \"sort\": \"-x\"}}, \"title\": \"Expcted label: fear | n = 1224\"}, {\"mark\": {\"type\": \"text\", \"align\": \"left\", \"baseline\": \"middle\", \"dx\": 3, \"fontSize\": 12, \"fontWeight\": \"bold\"}, \"encoding\": {\"color\": {\"condition\": {\"value\": \"orange\", \"test\": \"(datum.emotion === 'Fear')\"}, \"value\": \"#0570b0\"}, \"text\": {\"type\": \"quantitative\", \"field\": \"percent\", \"format\": \".1%\"}, \"x\": {\"type\": \"quantitative\", \"axis\": {\"format\": \".0%\"}, \"field\": \"percent\"}, \"y\": {\"type\": \"nominal\", \"field\": \"emotion\", \"sort\": \"-x\"}}, \"title\": \"Expcted label: fear | n = 1224\"}], \"data\": {\"name\": \"data-acbc73da5f18567651ead97d26141680\"}, \"height\": 200, \"width\": 450, \"$schema\": \"https://vega.github.io/schema/vega-lite/v4.8.1.json\", \"datasets\": {\"data-acbc73da5f18567651ead97d26141680\": [{\"counts\": 387, \"emotion\": \"Fear\", \"percent\": 0.3161764705882353}, {\"counts\": 382, \"emotion\": \"Surprise\", \"percent\": 0.31209150326797386}, {\"counts\": 184, \"emotion\": \"Sadness\", \"percent\": 0.1503267973856209}, {\"counts\": 82, \"emotion\": \"Disgust\", \"percent\": 0.06699346405228758}, {\"counts\": 55, \"emotion\": \"Uncertain\", \"percent\": 0.04493464052287582}, {\"counts\": 50, \"emotion\": \"Other\", \"percent\": 0.04084967320261438}, {\"counts\": 31, \"emotion\": \"Neutral\", \"percent\": 0.025326797385620915}, {\"counts\": 28, \"emotion\": \"Happiness\", \"percent\": 0.02287581699346405}, {\"counts\": 25, \"emotion\": \"Anger\", \"percent\": 0.02042483660130719}]}}, {\"renderer\": \"svg\", \"mode\": \"vega-lite\"});\n",
       "</script>"
      ],
      "text/plain": [
       "alt.LayerChart(...)"
      ]
     },
     "metadata": {},
     "output_type": "display_data"
    }
   ],
   "source": [
    "emotion = 'fear'\n",
    "df_formated = emotion_df_formated(df_emo_answers, emotion) # subset 'anger' rows\n",
    "df_formated_ans = df_formated.drop(['photo_id', 'ethnicity', 'sex','age', 'label', 'url'], axis=1)\n",
    "source = count_freq_labels(df_formated_ans, X=\"all\") \n",
    "title = 'Expcted label: '+ emotion + ' | n = '+ source['counts'].sum().astype(str)\n",
    "X, Y = 'percent:Q', 'emotion:N'\n",
    "w, h= 450, 200\n",
    "txs, ls, ts = 12, 11, 12\n",
    "\n",
    "\n",
    "chart_fear = simple_per_bar(\n",
    "    source, title=title, X=X, Y=Y, \\\n",
    "    width=w, height=h,  emotion=emotion.capitalize(),\\\n",
    "    text_size = txs, label_size = ls, title_size=ts)"
   ]
  },
  {
   "cell_type": "markdown",
   "id": "c416331c-8652-407e-8275-46f6283905d8",
   "metadata": {},
   "source": [
    "### Surprise"
   ]
  },
  {
   "cell_type": "code",
   "execution_count": 23,
   "id": "741e08a9-18cb-4347-8536-a9d68dc70dcc",
   "metadata": {},
   "outputs": [
    {
     "data": {
      "text/html": [
       "\n",
       "<div id=\"altair-viz-143b7ab5d85a4717a045ba3f27b9216a\"></div>\n",
       "<script type=\"text/javascript\">\n",
       "  (function(spec, embedOpt){\n",
       "    let outputDiv = document.currentScript.previousElementSibling;\n",
       "    if (outputDiv.id !== \"altair-viz-143b7ab5d85a4717a045ba3f27b9216a\") {\n",
       "      outputDiv = document.getElementById(\"altair-viz-143b7ab5d85a4717a045ba3f27b9216a\");\n",
       "    }\n",
       "    const paths = {\n",
       "      \"vega\": \"https://cdn.jsdelivr.net/npm//vega@5?noext\",\n",
       "      \"vega-lib\": \"https://cdn.jsdelivr.net/npm//vega-lib?noext\",\n",
       "      \"vega-lite\": \"https://cdn.jsdelivr.net/npm//vega-lite@4.8.1?noext\",\n",
       "      \"vega-embed\": \"https://cdn.jsdelivr.net/npm//vega-embed@6?noext\",\n",
       "    };\n",
       "\n",
       "    function loadScript(lib) {\n",
       "      return new Promise(function(resolve, reject) {\n",
       "        var s = document.createElement('script');\n",
       "        s.src = paths[lib];\n",
       "        s.async = true;\n",
       "        s.onload = () => resolve(paths[lib]);\n",
       "        s.onerror = () => reject(`Error loading script: ${paths[lib]}`);\n",
       "        document.getElementsByTagName(\"head\")[0].appendChild(s);\n",
       "      });\n",
       "    }\n",
       "\n",
       "    function showError(err) {\n",
       "      outputDiv.innerHTML = `<div class=\"error\" style=\"color:red;\">${err}</div>`;\n",
       "      throw err;\n",
       "    }\n",
       "\n",
       "    function displayChart(vegaEmbed) {\n",
       "      vegaEmbed(outputDiv, spec, embedOpt)\n",
       "        .catch(err => showError(`Javascript Error: ${err.message}<br>This usually means there's a typo in your chart specification. See the javascript console for the full traceback.`));\n",
       "    }\n",
       "\n",
       "    if(typeof define === \"function\" && define.amd) {\n",
       "      requirejs.config({paths});\n",
       "      require([\"vega-embed\"], displayChart, err => showError(`Error loading script: ${err.message}`));\n",
       "    } else if (typeof vegaEmbed === \"function\") {\n",
       "      displayChart(vegaEmbed);\n",
       "    } else {\n",
       "      loadScript(\"vega\")\n",
       "        .then(() => loadScript(\"vega-lite\"))\n",
       "        .then(() => loadScript(\"vega-embed\"))\n",
       "        .catch(showError)\n",
       "        .then(() => displayChart(vegaEmbed));\n",
       "    }\n",
       "  })({\"config\": {\"view\": {\"continuousWidth\": 400, \"continuousHeight\": 300}, \"axis\": {\"labelFontSize\": 11, \"titleFontSize\": 12}}, \"layer\": [{\"mark\": \"bar\", \"encoding\": {\"color\": {\"condition\": {\"value\": \"orange\", \"test\": \"(datum.emotion === 'Surprise')\"}, \"value\": \"#0570b0\"}, \"x\": {\"type\": \"quantitative\", \"axis\": {\"format\": \".0%\"}, \"field\": \"percent\"}, \"y\": {\"type\": \"nominal\", \"field\": \"emotion\", \"sort\": \"-x\"}}, \"title\": \"Expcted label: surprise | n = 1224\"}, {\"mark\": {\"type\": \"text\", \"align\": \"left\", \"baseline\": \"middle\", \"dx\": 3, \"fontSize\": 12, \"fontWeight\": \"bold\"}, \"encoding\": {\"color\": {\"condition\": {\"value\": \"orange\", \"test\": \"(datum.emotion === 'Surprise')\"}, \"value\": \"#0570b0\"}, \"text\": {\"type\": \"quantitative\", \"field\": \"percent\", \"format\": \".1%\"}, \"x\": {\"type\": \"quantitative\", \"axis\": {\"format\": \".0%\"}, \"field\": \"percent\"}, \"y\": {\"type\": \"nominal\", \"field\": \"emotion\", \"sort\": \"-x\"}}, \"title\": \"Expcted label: surprise | n = 1224\"}], \"data\": {\"name\": \"data-79cfd20cfa81e2ea2e67bcb99bdd2386\"}, \"height\": 200, \"width\": 450, \"$schema\": \"https://vega.github.io/schema/vega-lite/v4.8.1.json\", \"datasets\": {\"data-79cfd20cfa81e2ea2e67bcb99bdd2386\": [{\"counts\": 707, \"emotion\": \"Surprise\", \"percent\": 0.5776143790849673}, {\"counts\": 138, \"emotion\": \"Happiness\", \"percent\": 0.11274509803921569}, {\"counts\": 103, \"emotion\": \"Fear\", \"percent\": 0.08415032679738563}, {\"counts\": 94, \"emotion\": \"Neutral\", \"percent\": 0.07679738562091504}, {\"counts\": 79, \"emotion\": \"Other\", \"percent\": 0.06454248366013073}, {\"counts\": 58, \"emotion\": \"Uncertain\", \"percent\": 0.04738562091503268}, {\"counts\": 23, \"emotion\": \"Anger\", \"percent\": 0.018790849673202614}, {\"counts\": 16, \"emotion\": \"Disgust\", \"percent\": 0.013071895424836602}, {\"counts\": 6, \"emotion\": \"Sadness\", \"percent\": 0.004901960784313725}]}}, {\"renderer\": \"svg\", \"mode\": \"vega-lite\"});\n",
       "</script>"
      ],
      "text/plain": [
       "alt.LayerChart(...)"
      ]
     },
     "metadata": {},
     "output_type": "display_data"
    }
   ],
   "source": [
    "emotion = 'surprise'\n",
    "df_formated = emotion_df_formated(df_emo_answers, emotion) # subset 'anger' rows\n",
    "df_formated_ans = df_formated.drop(['photo_id', 'ethnicity', 'sex','age', 'label', 'url'], axis=1)\n",
    "source = count_freq_labels(df_formated_ans, X=\"all\") \n",
    "title = 'Expcted label: '+ emotion + ' | n = '+ source['counts'].sum().astype(str)\n",
    "X, Y = 'percent:Q', 'emotion:N'\n",
    "w, h= 450, 200\n",
    "txs, ls, ts = 12, 11, 12\n",
    "\n",
    "\n",
    "chart_surprise = simple_per_bar(\n",
    "    source, title=title, X=X, Y=Y, \\\n",
    "    width=w, height=h,  emotion=emotion.capitalize(), \\\n",
    "    text_size = txs, label_size = ls, title_size=ts)"
   ]
  },
  {
   "cell_type": "markdown",
   "id": "f79a758d-8367-48f6-a223-5c786c10889f",
   "metadata": {},
   "source": [
    "### Happiness"
   ]
  },
  {
   "cell_type": "code",
   "execution_count": 24,
   "id": "f1339111-e625-41e4-a070-b99acf478d2b",
   "metadata": {},
   "outputs": [
    {
     "data": {
      "text/html": [
       "\n",
       "<div id=\"altair-viz-a1ba89e3cc18475fa52361472f70d502\"></div>\n",
       "<script type=\"text/javascript\">\n",
       "  (function(spec, embedOpt){\n",
       "    let outputDiv = document.currentScript.previousElementSibling;\n",
       "    if (outputDiv.id !== \"altair-viz-a1ba89e3cc18475fa52361472f70d502\") {\n",
       "      outputDiv = document.getElementById(\"altair-viz-a1ba89e3cc18475fa52361472f70d502\");\n",
       "    }\n",
       "    const paths = {\n",
       "      \"vega\": \"https://cdn.jsdelivr.net/npm//vega@5?noext\",\n",
       "      \"vega-lib\": \"https://cdn.jsdelivr.net/npm//vega-lib?noext\",\n",
       "      \"vega-lite\": \"https://cdn.jsdelivr.net/npm//vega-lite@4.8.1?noext\",\n",
       "      \"vega-embed\": \"https://cdn.jsdelivr.net/npm//vega-embed@6?noext\",\n",
       "    };\n",
       "\n",
       "    function loadScript(lib) {\n",
       "      return new Promise(function(resolve, reject) {\n",
       "        var s = document.createElement('script');\n",
       "        s.src = paths[lib];\n",
       "        s.async = true;\n",
       "        s.onload = () => resolve(paths[lib]);\n",
       "        s.onerror = () => reject(`Error loading script: ${paths[lib]}`);\n",
       "        document.getElementsByTagName(\"head\")[0].appendChild(s);\n",
       "      });\n",
       "    }\n",
       "\n",
       "    function showError(err) {\n",
       "      outputDiv.innerHTML = `<div class=\"error\" style=\"color:red;\">${err}</div>`;\n",
       "      throw err;\n",
       "    }\n",
       "\n",
       "    function displayChart(vegaEmbed) {\n",
       "      vegaEmbed(outputDiv, spec, embedOpt)\n",
       "        .catch(err => showError(`Javascript Error: ${err.message}<br>This usually means there's a typo in your chart specification. See the javascript console for the full traceback.`));\n",
       "    }\n",
       "\n",
       "    if(typeof define === \"function\" && define.amd) {\n",
       "      requirejs.config({paths});\n",
       "      require([\"vega-embed\"], displayChart, err => showError(`Error loading script: ${err.message}`));\n",
       "    } else if (typeof vegaEmbed === \"function\") {\n",
       "      displayChart(vegaEmbed);\n",
       "    } else {\n",
       "      loadScript(\"vega\")\n",
       "        .then(() => loadScript(\"vega-lite\"))\n",
       "        .then(() => loadScript(\"vega-embed\"))\n",
       "        .catch(showError)\n",
       "        .then(() => displayChart(vegaEmbed));\n",
       "    }\n",
       "  })({\"config\": {\"view\": {\"continuousWidth\": 400, \"continuousHeight\": 300}, \"axis\": {\"labelFontSize\": 11, \"titleFontSize\": 12}}, \"layer\": [{\"mark\": \"bar\", \"encoding\": {\"color\": {\"condition\": {\"value\": \"orange\", \"test\": \"(datum.emotion === 'Happiness')\"}, \"value\": \"#0570b0\"}, \"x\": {\"type\": \"quantitative\", \"axis\": {\"format\": \".0%\"}, \"field\": \"percent\"}, \"y\": {\"type\": \"nominal\", \"field\": \"emotion\", \"sort\": \"-x\"}}, \"title\": \"Expcted label: happiness | n = 1224\"}, {\"mark\": {\"type\": \"text\", \"align\": \"left\", \"baseline\": \"middle\", \"dx\": 3, \"fontSize\": 12, \"fontWeight\": \"bold\"}, \"encoding\": {\"color\": {\"condition\": {\"value\": \"orange\", \"test\": \"(datum.emotion === 'Happiness')\"}, \"value\": \"#0570b0\"}, \"text\": {\"type\": \"quantitative\", \"field\": \"percent\", \"format\": \".1%\"}, \"x\": {\"type\": \"quantitative\", \"axis\": {\"format\": \".0%\"}, \"field\": \"percent\"}, \"y\": {\"type\": \"nominal\", \"field\": \"emotion\", \"sort\": \"-x\"}}, \"title\": \"Expcted label: happiness | n = 1224\"}], \"data\": {\"name\": \"data-7cee1d4f4dd3b1e48e7752e5a01463e4\"}, \"height\": 200, \"width\": 450, \"$schema\": \"https://vega.github.io/schema/vega-lite/v4.8.1.json\", \"datasets\": {\"data-7cee1d4f4dd3b1e48e7752e5a01463e4\": [{\"counts\": 1044, \"emotion\": \"Happiness\", \"percent\": 0.8529411764705882}, {\"counts\": 76, \"emotion\": \"Neutral\", \"percent\": 0.06209150326797386}, {\"counts\": 31, \"emotion\": \"Uncertain\", \"percent\": 0.025326797385620915}, {\"counts\": 25, \"emotion\": \"Other\", \"percent\": 0.02042483660130719}, {\"counts\": 18, \"emotion\": \"Surprise\", \"percent\": 0.014705882352941176}, {\"counts\": 9, \"emotion\": \"Disgust\", \"percent\": 0.007352941176470588}, {\"counts\": 8, \"emotion\": \"Fear\", \"percent\": 0.006535947712418301}, {\"counts\": 7, \"emotion\": \"Sadness\", \"percent\": 0.005718954248366013}, {\"counts\": 6, \"emotion\": \"Anger\", \"percent\": 0.004901960784313725}]}}, {\"renderer\": \"svg\", \"mode\": \"vega-lite\"});\n",
       "</script>"
      ],
      "text/plain": [
       "alt.LayerChart(...)"
      ]
     },
     "metadata": {},
     "output_type": "display_data"
    }
   ],
   "source": [
    "emotion = 'happiness'\n",
    "df_formated = emotion_df_formated(df_emo_answers, emotion) # subset 'anger' rows\n",
    "df_formated_ans = df_formated.drop(['photo_id', 'ethnicity', 'sex','age', 'label', 'url'], axis=1)\n",
    "source = count_freq_labels(df_formated_ans, X=\"all\") \n",
    "title = 'Expcted label: '+ emotion + ' | n = '+ source['counts'].sum().astype(str)\n",
    "X, Y = 'percent:Q', 'emotion:N'\n",
    "w, h= 450, 200\n",
    "txs, ls, ts = 12, 11, 12\n",
    "\n",
    "\n",
    "chart_happiness = simple_per_bar(\n",
    "    source, title=title, X=X, Y=Y, \\\n",
    "    width=w, height=h,  emotion=emotion.capitalize(),\\\n",
    "    text_size = txs, label_size = ls, title_size=ts)"
   ]
  },
  {
   "cell_type": "markdown",
   "id": "c98001ee-d48b-4dba-b4fe-1b4ccbc3fbd2",
   "metadata": {},
   "source": [
    "### Sadness"
   ]
  },
  {
   "cell_type": "code",
   "execution_count": 25,
   "id": "188cc9db-5b06-46d4-ade2-7935126a8066",
   "metadata": {},
   "outputs": [
    {
     "data": {
      "text/html": [
       "\n",
       "<div id=\"altair-viz-b5abd59a0ff1419f89778c282b0d9b6f\"></div>\n",
       "<script type=\"text/javascript\">\n",
       "  (function(spec, embedOpt){\n",
       "    let outputDiv = document.currentScript.previousElementSibling;\n",
       "    if (outputDiv.id !== \"altair-viz-b5abd59a0ff1419f89778c282b0d9b6f\") {\n",
       "      outputDiv = document.getElementById(\"altair-viz-b5abd59a0ff1419f89778c282b0d9b6f\");\n",
       "    }\n",
       "    const paths = {\n",
       "      \"vega\": \"https://cdn.jsdelivr.net/npm//vega@5?noext\",\n",
       "      \"vega-lib\": \"https://cdn.jsdelivr.net/npm//vega-lib?noext\",\n",
       "      \"vega-lite\": \"https://cdn.jsdelivr.net/npm//vega-lite@4.8.1?noext\",\n",
       "      \"vega-embed\": \"https://cdn.jsdelivr.net/npm//vega-embed@6?noext\",\n",
       "    };\n",
       "\n",
       "    function loadScript(lib) {\n",
       "      return new Promise(function(resolve, reject) {\n",
       "        var s = document.createElement('script');\n",
       "        s.src = paths[lib];\n",
       "        s.async = true;\n",
       "        s.onload = () => resolve(paths[lib]);\n",
       "        s.onerror = () => reject(`Error loading script: ${paths[lib]}`);\n",
       "        document.getElementsByTagName(\"head\")[0].appendChild(s);\n",
       "      });\n",
       "    }\n",
       "\n",
       "    function showError(err) {\n",
       "      outputDiv.innerHTML = `<div class=\"error\" style=\"color:red;\">${err}</div>`;\n",
       "      throw err;\n",
       "    }\n",
       "\n",
       "    function displayChart(vegaEmbed) {\n",
       "      vegaEmbed(outputDiv, spec, embedOpt)\n",
       "        .catch(err => showError(`Javascript Error: ${err.message}<br>This usually means there's a typo in your chart specification. See the javascript console for the full traceback.`));\n",
       "    }\n",
       "\n",
       "    if(typeof define === \"function\" && define.amd) {\n",
       "      requirejs.config({paths});\n",
       "      require([\"vega-embed\"], displayChart, err => showError(`Error loading script: ${err.message}`));\n",
       "    } else if (typeof vegaEmbed === \"function\") {\n",
       "      displayChart(vegaEmbed);\n",
       "    } else {\n",
       "      loadScript(\"vega\")\n",
       "        .then(() => loadScript(\"vega-lite\"))\n",
       "        .then(() => loadScript(\"vega-embed\"))\n",
       "        .catch(showError)\n",
       "        .then(() => displayChart(vegaEmbed));\n",
       "    }\n",
       "  })({\"config\": {\"view\": {\"continuousWidth\": 400, \"continuousHeight\": 300}, \"axis\": {\"labelFontSize\": 11, \"titleFontSize\": 12}}, \"layer\": [{\"mark\": \"bar\", \"encoding\": {\"color\": {\"condition\": {\"value\": \"orange\", \"test\": \"(datum.emotion === 'Sadness')\"}, \"value\": \"#0570b0\"}, \"x\": {\"type\": \"quantitative\", \"axis\": {\"format\": \".0%\"}, \"field\": \"percent\"}, \"y\": {\"type\": \"nominal\", \"field\": \"emotion\", \"sort\": \"-x\"}}, \"title\": \"Expcted label: sadness | n = 1224\"}, {\"mark\": {\"type\": \"text\", \"align\": \"left\", \"baseline\": \"middle\", \"dx\": 3, \"fontSize\": 12, \"fontWeight\": \"bold\"}, \"encoding\": {\"color\": {\"condition\": {\"value\": \"orange\", \"test\": \"(datum.emotion === 'Sadness')\"}, \"value\": \"#0570b0\"}, \"text\": {\"type\": \"quantitative\", \"field\": \"percent\", \"format\": \".1%\"}, \"x\": {\"type\": \"quantitative\", \"axis\": {\"format\": \".0%\"}, \"field\": \"percent\"}, \"y\": {\"type\": \"nominal\", \"field\": \"emotion\", \"sort\": \"-x\"}}, \"title\": \"Expcted label: sadness | n = 1224\"}], \"data\": {\"name\": \"data-9a3ee8fe91518f8b0f29f5cb62c759f7\"}, \"height\": 200, \"width\": 450, \"$schema\": \"https://vega.github.io/schema/vega-lite/v4.8.1.json\", \"datasets\": {\"data-9a3ee8fe91518f8b0f29f5cb62c759f7\": [{\"counts\": 852, \"emotion\": \"Sadness\", \"percent\": 0.696078431372549}, {\"counts\": 97, \"emotion\": \"Neutral\", \"percent\": 0.07924836601307189}, {\"counts\": 62, \"emotion\": \"Disgust\", \"percent\": 0.05065359477124183}, {\"counts\": 60, \"emotion\": \"Fear\", \"percent\": 0.049019607843137254}, {\"counts\": 58, \"emotion\": \"Anger\", \"percent\": 0.04738562091503268}, {\"counts\": 42, \"emotion\": \"Uncertain\", \"percent\": 0.03431372549019608}, {\"counts\": 36, \"emotion\": \"Other\", \"percent\": 0.029411764705882353}, {\"counts\": 13, \"emotion\": \"Surprise\", \"percent\": 0.010620915032679739}, {\"counts\": 4, \"emotion\": \"Happiness\", \"percent\": 0.0032679738562091504}]}}, {\"renderer\": \"svg\", \"mode\": \"vega-lite\"});\n",
       "</script>"
      ],
      "text/plain": [
       "alt.LayerChart(...)"
      ]
     },
     "metadata": {},
     "output_type": "display_data"
    }
   ],
   "source": [
    "emotion = 'sadness'\n",
    "df_formated = emotion_df_formated(df_emo_answers, emotion) # subset 'anger' rows\n",
    "df_formated_ans = df_formated.drop(['photo_id', 'ethnicity', 'sex','age', 'label', 'url'], axis=1)\n",
    "source = count_freq_labels(df_formated_ans, X=\"all\") \n",
    "title = 'Expcted label: '+ emotion + ' | n = '+ source['counts'].sum().astype(str)\n",
    "X, Y = 'percent:Q', 'emotion:N'\n",
    "w, h= 450, 200\n",
    "txs, ls, ts = 12, 11, 12\n",
    "\n",
    "\n",
    "chart_sadness = simple_per_bar(\n",
    "    source, title=title, X=X, Y=Y, \\\n",
    "    width=w, height=h,  emotion=emotion.capitalize(),\\\n",
    "    text_size = txs, label_size = ls, title_size=ts)"
   ]
  },
  {
   "cell_type": "markdown",
   "id": "9fffd5e5-b2d0-4086-a2a4-3aee685406bc",
   "metadata": {},
   "source": [
    "### Uncertain"
   ]
  },
  {
   "cell_type": "code",
   "execution_count": 26,
   "id": "c2c334e5-189f-4a40-b9d0-a84e45f4bb08",
   "metadata": {},
   "outputs": [
    {
     "data": {
      "text/html": [
       "\n",
       "<div id=\"altair-viz-2ded070389f34ed4822eb17515097466\"></div>\n",
       "<script type=\"text/javascript\">\n",
       "  (function(spec, embedOpt){\n",
       "    let outputDiv = document.currentScript.previousElementSibling;\n",
       "    if (outputDiv.id !== \"altair-viz-2ded070389f34ed4822eb17515097466\") {\n",
       "      outputDiv = document.getElementById(\"altair-viz-2ded070389f34ed4822eb17515097466\");\n",
       "    }\n",
       "    const paths = {\n",
       "      \"vega\": \"https://cdn.jsdelivr.net/npm//vega@5?noext\",\n",
       "      \"vega-lib\": \"https://cdn.jsdelivr.net/npm//vega-lib?noext\",\n",
       "      \"vega-lite\": \"https://cdn.jsdelivr.net/npm//vega-lite@4.8.1?noext\",\n",
       "      \"vega-embed\": \"https://cdn.jsdelivr.net/npm//vega-embed@6?noext\",\n",
       "    };\n",
       "\n",
       "    function loadScript(lib) {\n",
       "      return new Promise(function(resolve, reject) {\n",
       "        var s = document.createElement('script');\n",
       "        s.src = paths[lib];\n",
       "        s.async = true;\n",
       "        s.onload = () => resolve(paths[lib]);\n",
       "        s.onerror = () => reject(`Error loading script: ${paths[lib]}`);\n",
       "        document.getElementsByTagName(\"head\")[0].appendChild(s);\n",
       "      });\n",
       "    }\n",
       "\n",
       "    function showError(err) {\n",
       "      outputDiv.innerHTML = `<div class=\"error\" style=\"color:red;\">${err}</div>`;\n",
       "      throw err;\n",
       "    }\n",
       "\n",
       "    function displayChart(vegaEmbed) {\n",
       "      vegaEmbed(outputDiv, spec, embedOpt)\n",
       "        .catch(err => showError(`Javascript Error: ${err.message}<br>This usually means there's a typo in your chart specification. See the javascript console for the full traceback.`));\n",
       "    }\n",
       "\n",
       "    if(typeof define === \"function\" && define.amd) {\n",
       "      requirejs.config({paths});\n",
       "      require([\"vega-embed\"], displayChart, err => showError(`Error loading script: ${err.message}`));\n",
       "    } else if (typeof vegaEmbed === \"function\") {\n",
       "      displayChart(vegaEmbed);\n",
       "    } else {\n",
       "      loadScript(\"vega\")\n",
       "        .then(() => loadScript(\"vega-lite\"))\n",
       "        .then(() => loadScript(\"vega-embed\"))\n",
       "        .catch(showError)\n",
       "        .then(() => displayChart(vegaEmbed));\n",
       "    }\n",
       "  })({\"config\": {\"view\": {\"continuousWidth\": 400, \"continuousHeight\": 300}, \"axis\": {\"labelFontSize\": 11, \"titleFontSize\": 12}}, \"layer\": [{\"mark\": \"bar\", \"encoding\": {\"color\": {\"condition\": {\"value\": \"orange\", \"test\": \"(datum.emotion === 'Uncertain')\"}, \"value\": \"#0570b0\"}, \"x\": {\"type\": \"quantitative\", \"axis\": {\"format\": \".0%\"}, \"field\": \"percent\"}, \"y\": {\"type\": \"nominal\", \"field\": \"emotion\", \"sort\": \"-x\"}}, \"title\": \"Expcted label: uncertain | n = 1224\"}, {\"mark\": {\"type\": \"text\", \"align\": \"left\", \"baseline\": \"middle\", \"dx\": 3, \"fontSize\": 12, \"fontWeight\": \"bold\"}, \"encoding\": {\"color\": {\"condition\": {\"value\": \"orange\", \"test\": \"(datum.emotion === 'Uncertain')\"}, \"value\": \"#0570b0\"}, \"text\": {\"type\": \"quantitative\", \"field\": \"percent\", \"format\": \".1%\"}, \"x\": {\"type\": \"quantitative\", \"axis\": {\"format\": \".0%\"}, \"field\": \"percent\"}, \"y\": {\"type\": \"nominal\", \"field\": \"emotion\", \"sort\": \"-x\"}}, \"title\": \"Expcted label: uncertain | n = 1224\"}], \"data\": {\"name\": \"data-320f3266f98e538001bea778a048223c\"}, \"height\": 200, \"width\": 450, \"$schema\": \"https://vega.github.io/schema/vega-lite/v4.8.1.json\", \"datasets\": {\"data-320f3266f98e538001bea778a048223c\": [{\"counts\": 296, \"emotion\": \"Other\", \"percent\": 0.24183006535947713}, {\"counts\": 204, \"emotion\": \"Happiness\", \"percent\": 0.16666666666666666}, {\"counts\": 201, \"emotion\": \"Uncertain\", \"percent\": 0.1642156862745098}, {\"counts\": 147, \"emotion\": \"Neutral\", \"percent\": 0.12009803921568628}, {\"counts\": 129, \"emotion\": \"Surprise\", \"percent\": 0.1053921568627451}, {\"counts\": 117, \"emotion\": \"Disgust\", \"percent\": 0.09558823529411764}, {\"counts\": 59, \"emotion\": \"Anger\", \"percent\": 0.04820261437908497}, {\"counts\": 46, \"emotion\": \"Sadness\", \"percent\": 0.03758169934640523}, {\"counts\": 25, \"emotion\": \"Fear\", \"percent\": 0.02042483660130719}]}}, {\"renderer\": \"svg\", \"mode\": \"vega-lite\"});\n",
       "</script>"
      ],
      "text/plain": [
       "alt.LayerChart(...)"
      ]
     },
     "metadata": {},
     "output_type": "display_data"
    }
   ],
   "source": [
    "emotion = 'uncertain'\n",
    "df_formated = emotion_df_formated(df_emo_answers, emotion) # subset 'anger' rows\n",
    "df_formated_ans = df_formated.drop(['photo_id', 'ethnicity', 'sex','age', 'label', 'url'], axis=1)\n",
    "source = count_freq_labels(df_formated_ans, X=\"all\") \n",
    "title = 'Expcted label: '+ emotion + ' | n = '+ source['counts'].sum().astype(str)\n",
    "X, Y = 'percent:Q', 'emotion:N'\n",
    "w, h= 450, 200\n",
    "txs, ls, ts = 12, 11, 12\n",
    "\n",
    "\n",
    "chart_uncertain = simple_per_bar(\n",
    "    source, title=title, X=X, Y=Y, \\\n",
    "    width=w, height=h,  emotion=emotion.capitalize(),\\\n",
    "    text_size = txs, label_size = ls, title_size=ts)"
   ]
  },
  {
   "cell_type": "markdown",
   "id": "ae625c18-bf09-440a-8abb-f1b0acc7c23f",
   "metadata": {},
   "source": [
    "### Neutral"
   ]
  },
  {
   "cell_type": "code",
   "execution_count": 27,
   "id": "70cbc869-9a7b-4302-86b8-1e06c577d41e",
   "metadata": {},
   "outputs": [
    {
     "data": {
      "text/html": [
       "\n",
       "<div id=\"altair-viz-02ea13a110b74f57a2a95bd228a0f7f1\"></div>\n",
       "<script type=\"text/javascript\">\n",
       "  (function(spec, embedOpt){\n",
       "    let outputDiv = document.currentScript.previousElementSibling;\n",
       "    if (outputDiv.id !== \"altair-viz-02ea13a110b74f57a2a95bd228a0f7f1\") {\n",
       "      outputDiv = document.getElementById(\"altair-viz-02ea13a110b74f57a2a95bd228a0f7f1\");\n",
       "    }\n",
       "    const paths = {\n",
       "      \"vega\": \"https://cdn.jsdelivr.net/npm//vega@5?noext\",\n",
       "      \"vega-lib\": \"https://cdn.jsdelivr.net/npm//vega-lib?noext\",\n",
       "      \"vega-lite\": \"https://cdn.jsdelivr.net/npm//vega-lite@4.8.1?noext\",\n",
       "      \"vega-embed\": \"https://cdn.jsdelivr.net/npm//vega-embed@6?noext\",\n",
       "    };\n",
       "\n",
       "    function loadScript(lib) {\n",
       "      return new Promise(function(resolve, reject) {\n",
       "        var s = document.createElement('script');\n",
       "        s.src = paths[lib];\n",
       "        s.async = true;\n",
       "        s.onload = () => resolve(paths[lib]);\n",
       "        s.onerror = () => reject(`Error loading script: ${paths[lib]}`);\n",
       "        document.getElementsByTagName(\"head\")[0].appendChild(s);\n",
       "      });\n",
       "    }\n",
       "\n",
       "    function showError(err) {\n",
       "      outputDiv.innerHTML = `<div class=\"error\" style=\"color:red;\">${err}</div>`;\n",
       "      throw err;\n",
       "    }\n",
       "\n",
       "    function displayChart(vegaEmbed) {\n",
       "      vegaEmbed(outputDiv, spec, embedOpt)\n",
       "        .catch(err => showError(`Javascript Error: ${err.message}<br>This usually means there's a typo in your chart specification. See the javascript console for the full traceback.`));\n",
       "    }\n",
       "\n",
       "    if(typeof define === \"function\" && define.amd) {\n",
       "      requirejs.config({paths});\n",
       "      require([\"vega-embed\"], displayChart, err => showError(`Error loading script: ${err.message}`));\n",
       "    } else if (typeof vegaEmbed === \"function\") {\n",
       "      displayChart(vegaEmbed);\n",
       "    } else {\n",
       "      loadScript(\"vega\")\n",
       "        .then(() => loadScript(\"vega-lite\"))\n",
       "        .then(() => loadScript(\"vega-embed\"))\n",
       "        .catch(showError)\n",
       "        .then(() => displayChart(vegaEmbed));\n",
       "    }\n",
       "  })({\"config\": {\"view\": {\"continuousWidth\": 400, \"continuousHeight\": 300}, \"axis\": {\"labelFontSize\": 11, \"titleFontSize\": 12}}, \"layer\": [{\"mark\": \"bar\", \"encoding\": {\"color\": {\"condition\": {\"value\": \"orange\", \"test\": \"(datum.emotion === 'Neutral')\"}, \"value\": \"#0570b0\"}, \"x\": {\"type\": \"quantitative\", \"axis\": {\"format\": \".0%\"}, \"field\": \"percent\"}, \"y\": {\"type\": \"nominal\", \"field\": \"emotion\", \"sort\": \"-x\"}}, \"title\": \"Expcted label: neutral | n = 1224\"}, {\"mark\": {\"type\": \"text\", \"align\": \"left\", \"baseline\": \"middle\", \"dx\": 3, \"fontSize\": 12, \"fontWeight\": \"bold\"}, \"encoding\": {\"color\": {\"condition\": {\"value\": \"orange\", \"test\": \"(datum.emotion === 'Neutral')\"}, \"value\": \"#0570b0\"}, \"text\": {\"type\": \"quantitative\", \"field\": \"percent\", \"format\": \".1%\"}, \"x\": {\"type\": \"quantitative\", \"axis\": {\"format\": \".0%\"}, \"field\": \"percent\"}, \"y\": {\"type\": \"nominal\", \"field\": \"emotion\", \"sort\": \"-x\"}}, \"title\": \"Expcted label: neutral | n = 1224\"}], \"data\": {\"name\": \"data-53db3f552fc2000375011c1265028d69\"}, \"height\": 200, \"width\": 450, \"$schema\": \"https://vega.github.io/schema/vega-lite/v4.8.1.json\", \"datasets\": {\"data-53db3f552fc2000375011c1265028d69\": [{\"counts\": 835, \"emotion\": \"Neutral\", \"percent\": 0.6821895424836601}, {\"counts\": 95, \"emotion\": \"Uncertain\", \"percent\": 0.07761437908496732}, {\"counts\": 86, \"emotion\": \"Other\", \"percent\": 0.07026143790849673}, {\"counts\": 46, \"emotion\": \"Anger\", \"percent\": 0.03758169934640523}, {\"counts\": 45, \"emotion\": \"Happiness\", \"percent\": 0.03676470588235294}, {\"counts\": 41, \"emotion\": \"Sadness\", \"percent\": 0.03349673202614379}, {\"counts\": 35, \"emotion\": \"Disgust\", \"percent\": 0.028594771241830064}, {\"counts\": 22, \"emotion\": \"Fear\", \"percent\": 0.017973856209150325}, {\"counts\": 19, \"emotion\": \"Surprise\", \"percent\": 0.015522875816993464}]}}, {\"renderer\": \"svg\", \"mode\": \"vega-lite\"});\n",
       "</script>"
      ],
      "text/plain": [
       "alt.LayerChart(...)"
      ]
     },
     "metadata": {},
     "output_type": "display_data"
    }
   ],
   "source": [
    "emotion = 'neutral'\n",
    "df_formated = emotion_df_formated(df_emo_answers, emotion) # subset 'anger' rows\n",
    "df_formated_ans = df_formated.drop(['photo_id', 'ethnicity', 'sex','age', 'label', 'url'], axis=1)\n",
    "source = count_freq_labels(df_formated_ans, X=\"all\") \n",
    "title = 'Expcted label: '+ emotion + ' | n = '+ source['counts'].sum().astype(str)\n",
    "X, Y = 'percent:Q', 'emotion:N'\n",
    "w, h= 450, 200\n",
    "txs, ls, ts = 12, 11, 12\n",
    "\n",
    "\n",
    "chart_neutral = simple_per_bar(\n",
    "    source, title=title, X=X, Y=Y, \\\n",
    "    width=w, height=h,  emotion=emotion.capitalize(),\\\n",
    "    text_size = txs, label_size = ls, title_size=ts)"
   ]
  },
  {
   "cell_type": "markdown",
   "id": "48259bef-9715-408d-8218-1aa91f9e147a",
   "metadata": {},
   "source": [
    "## Most frequently used word for each emotion category (grouping pictures by expected-emotion), by ethnicity group"
   ]
  },
  {
   "cell_type": "code",
   "execution_count": 28,
   "id": "0970cc60-c68b-46e4-b026-86ee513c8b17",
   "metadata": {},
   "outputs": [],
   "source": [
    "def emotion_df_formated_et(df_emo_answers, emotion_label, ethnicity):\n",
    "    df_emo_cat = df_emo_answers.copy() \n",
    "    df_emo_cat_t = df_emo_cat.T # transpose\n",
    "    df_emo_cat_t['photo_id'] = df_emo_cat_t.index # get index as col\n",
    "    df_emo_cat_t = df_emo_cat_t.reset_index(drop=True) # clean index\n",
    "    df_emo_cat_t_labels = pd.concat([df_emo_cat_t, df_labels], axis=1) # add metadata cols\n",
    "    df_label =  df_emo_cat_t_labels[(df_emo_cat_t_labels['label'] == emotion_label) & (df_emo_cat_t_labels['ethnicity'] == ethnicity)]\n",
    "    return df_label"
   ]
  },
  {
   "cell_type": "code",
   "execution_count": 29,
   "id": "fe5259df-e475-41fd-9e9b-b2f576b6da36",
   "metadata": {},
   "outputs": [],
   "source": [
    "def wrapper_chart_emotion(df_emo_answers, emotion, ethnicity):\n",
    "    df = emotion_df_formated_et(df_emo_answers, emotion,  ethnicity) # subset 'anger' rows\n",
    "    df_formated_ans = df.drop(['photo_id', 'ethnicity', 'sex','age', 'label', 'url'], axis=1)\n",
    "    df_count = count_freq_labels(df_formated_ans) # count label freq\n",
    "    chart = simple_per_bar(\n",
    "        df_count, \\\n",
    "        title='Expected label: '+ emotion + ' | n = '+ df_count['counts'].sum().astype(str), \\\n",
    "         emotion=emotion.capitalize())\n",
    "    return chart"
   ]
  },
  {
   "cell_type": "markdown",
   "id": "1a604ec0-e029-4eba-98ef-a9932ce15e10",
   "metadata": {},
   "source": [
    "## Anger"
   ]
  },
  {
   "cell_type": "code",
   "execution_count": 41,
   "id": "99d342aa-d79c-4a2a-9bb3-533907741662",
   "metadata": {},
   "outputs": [
    {
     "data": {
      "text/html": [
       "\n",
       "<div id=\"altair-viz-2bc5f8dac5064b1ca3a701adae8dc683\"></div>\n",
       "<script type=\"text/javascript\">\n",
       "  (function(spec, embedOpt){\n",
       "    let outputDiv = document.currentScript.previousElementSibling;\n",
       "    if (outputDiv.id !== \"altair-viz-2bc5f8dac5064b1ca3a701adae8dc683\") {\n",
       "      outputDiv = document.getElementById(\"altair-viz-2bc5f8dac5064b1ca3a701adae8dc683\");\n",
       "    }\n",
       "    const paths = {\n",
       "      \"vega\": \"https://cdn.jsdelivr.net/npm//vega@5?noext\",\n",
       "      \"vega-lib\": \"https://cdn.jsdelivr.net/npm//vega-lib?noext\",\n",
       "      \"vega-lite\": \"https://cdn.jsdelivr.net/npm//vega-lite@4.8.1?noext\",\n",
       "      \"vega-embed\": \"https://cdn.jsdelivr.net/npm//vega-embed@6?noext\",\n",
       "    };\n",
       "\n",
       "    function loadScript(lib) {\n",
       "      return new Promise(function(resolve, reject) {\n",
       "        var s = document.createElement('script');\n",
       "        s.src = paths[lib];\n",
       "        s.async = true;\n",
       "        s.onload = () => resolve(paths[lib]);\n",
       "        s.onerror = () => reject(`Error loading script: ${paths[lib]}`);\n",
       "        document.getElementsByTagName(\"head\")[0].appendChild(s);\n",
       "      });\n",
       "    }\n",
       "\n",
       "    function showError(err) {\n",
       "      outputDiv.innerHTML = `<div class=\"error\" style=\"color:red;\">${err}</div>`;\n",
       "      throw err;\n",
       "    }\n",
       "\n",
       "    function displayChart(vegaEmbed) {\n",
       "      vegaEmbed(outputDiv, spec, embedOpt)\n",
       "        .catch(err => showError(`Javascript Error: ${err.message}<br>This usually means there's a typo in your chart specification. See the javascript console for the full traceback.`));\n",
       "    }\n",
       "\n",
       "    if(typeof define === \"function\" && define.amd) {\n",
       "      requirejs.config({paths});\n",
       "      require([\"vega-embed\"], displayChart, err => showError(`Error loading script: ${err.message}`));\n",
       "    } else if (typeof vegaEmbed === \"function\") {\n",
       "      displayChart(vegaEmbed);\n",
       "    } else {\n",
       "      loadScript(\"vega\")\n",
       "        .then(() => loadScript(\"vega-lite\"))\n",
       "        .then(() => loadScript(\"vega-embed\"))\n",
       "        .catch(showError)\n",
       "        .then(() => displayChart(vegaEmbed));\n",
       "    }\n",
       "  })({\"config\": {\"view\": {\"continuousWidth\": 400, \"continuousHeight\": 300}, \"axis\": {\"labelFontSize\": 11, \"titleFontSize\": 12}}, \"layer\": [{\"mark\": \"bar\", \"encoding\": {\"color\": {\"condition\": {\"value\": \"orange\", \"test\": \"(datum.emotion === 'Anger')\"}, \"value\": \"#0570b0\"}, \"x\": {\"type\": \"quantitative\", \"axis\": {\"format\": \".0%\"}, \"field\": \"percent\"}, \"y\": {\"type\": \"nominal\", \"field\": \"emotion\", \"sort\": \"-x\"}}, \"title\": \"Expected label: anger | n = 612\"}, {\"mark\": {\"type\": \"text\", \"align\": \"left\", \"baseline\": \"middle\", \"dx\": 3, \"fontSize\": 12, \"fontWeight\": \"bold\"}, \"encoding\": {\"color\": {\"condition\": {\"value\": \"orange\", \"test\": \"(datum.emotion === 'Anger')\"}, \"value\": \"#0570b0\"}, \"text\": {\"type\": \"quantitative\", \"field\": \"percent\", \"format\": \".1%\"}, \"x\": {\"type\": \"quantitative\", \"axis\": {\"format\": \".0%\"}, \"field\": \"percent\"}, \"y\": {\"type\": \"nominal\", \"field\": \"emotion\", \"sort\": \"-x\"}}, \"title\": \"Expected label: anger | n = 612\"}], \"data\": {\"name\": \"data-bbf99e2495c89bd756430db8d7945573\"}, \"height\": 250, \"width\": 450, \"$schema\": \"https://vega.github.io/schema/vega-lite/v4.8.1.json\", \"datasets\": {\"data-bbf99e2495c89bd756430db8d7945573\": [{\"counts\": 365, \"emotion\": \"Anger\", \"percent\": 0.5964052287581699}, {\"counts\": 62, \"emotion\": \"Disgust\", \"percent\": 0.10130718954248366}, {\"counts\": 57, \"emotion\": \"Neutral\", \"percent\": 0.09313725490196079}, {\"counts\": 42, \"emotion\": \"Sadness\", \"percent\": 0.06862745098039216}, {\"counts\": 31, \"emotion\": \"Uncertain\", \"percent\": 0.05065359477124183}, {\"counts\": 24, \"emotion\": \"Other\", \"percent\": 0.0392156862745098}, {\"counts\": 16, \"emotion\": \"Fear\", \"percent\": 0.026143790849673203}, {\"counts\": 13, \"emotion\": \"Surprise\", \"percent\": 0.021241830065359478}, {\"counts\": 2, \"emotion\": \"Happiness\", \"percent\": 0.0032679738562091504}]}}, {\"renderer\": \"svg\", \"mode\": \"vega-lite\"});\n",
       "</script>"
      ],
      "text/plain": [
       "alt.LayerChart(...)"
      ]
     },
     "metadata": {},
     "output_type": "display_data"
    },
    {
     "data": {
      "text/html": [
       "\n",
       "<div id=\"altair-viz-2a4dcd243cf5499cada50ef161472faf\"></div>\n",
       "<script type=\"text/javascript\">\n",
       "  (function(spec, embedOpt){\n",
       "    let outputDiv = document.currentScript.previousElementSibling;\n",
       "    if (outputDiv.id !== \"altair-viz-2a4dcd243cf5499cada50ef161472faf\") {\n",
       "      outputDiv = document.getElementById(\"altair-viz-2a4dcd243cf5499cada50ef161472faf\");\n",
       "    }\n",
       "    const paths = {\n",
       "      \"vega\": \"https://cdn.jsdelivr.net/npm//vega@5?noext\",\n",
       "      \"vega-lib\": \"https://cdn.jsdelivr.net/npm//vega-lib?noext\",\n",
       "      \"vega-lite\": \"https://cdn.jsdelivr.net/npm//vega-lite@4.8.1?noext\",\n",
       "      \"vega-embed\": \"https://cdn.jsdelivr.net/npm//vega-embed@6?noext\",\n",
       "    };\n",
       "\n",
       "    function loadScript(lib) {\n",
       "      return new Promise(function(resolve, reject) {\n",
       "        var s = document.createElement('script');\n",
       "        s.src = paths[lib];\n",
       "        s.async = true;\n",
       "        s.onload = () => resolve(paths[lib]);\n",
       "        s.onerror = () => reject(`Error loading script: ${paths[lib]}`);\n",
       "        document.getElementsByTagName(\"head\")[0].appendChild(s);\n",
       "      });\n",
       "    }\n",
       "\n",
       "    function showError(err) {\n",
       "      outputDiv.innerHTML = `<div class=\"error\" style=\"color:red;\">${err}</div>`;\n",
       "      throw err;\n",
       "    }\n",
       "\n",
       "    function displayChart(vegaEmbed) {\n",
       "      vegaEmbed(outputDiv, spec, embedOpt)\n",
       "        .catch(err => showError(`Javascript Error: ${err.message}<br>This usually means there's a typo in your chart specification. See the javascript console for the full traceback.`));\n",
       "    }\n",
       "\n",
       "    if(typeof define === \"function\" && define.amd) {\n",
       "      requirejs.config({paths});\n",
       "      require([\"vega-embed\"], displayChart, err => showError(`Error loading script: ${err.message}`));\n",
       "    } else if (typeof vegaEmbed === \"function\") {\n",
       "      displayChart(vegaEmbed);\n",
       "    } else {\n",
       "      loadScript(\"vega\")\n",
       "        .then(() => loadScript(\"vega-lite\"))\n",
       "        .then(() => loadScript(\"vega-embed\"))\n",
       "        .catch(showError)\n",
       "        .then(() => displayChart(vegaEmbed));\n",
       "    }\n",
       "  })({\"config\": {\"view\": {\"continuousWidth\": 400, \"continuousHeight\": 300}, \"axis\": {\"labelFontSize\": 11, \"titleFontSize\": 12}}, \"layer\": [{\"mark\": \"bar\", \"encoding\": {\"color\": {\"condition\": {\"value\": \"orange\", \"test\": \"(datum.emotion === 'Anger')\"}, \"value\": \"#0570b0\"}, \"x\": {\"type\": \"quantitative\", \"axis\": {\"format\": \".0%\"}, \"field\": \"percent\"}, \"y\": {\"type\": \"nominal\", \"field\": \"emotion\", \"sort\": \"-x\"}}, \"title\": \"Expected label: anger | n = 612\"}, {\"mark\": {\"type\": \"text\", \"align\": \"left\", \"baseline\": \"middle\", \"dx\": 3, \"fontSize\": 12, \"fontWeight\": \"bold\"}, \"encoding\": {\"color\": {\"condition\": {\"value\": \"orange\", \"test\": \"(datum.emotion === 'Anger')\"}, \"value\": \"#0570b0\"}, \"text\": {\"type\": \"quantitative\", \"field\": \"percent\", \"format\": \".1%\"}, \"x\": {\"type\": \"quantitative\", \"axis\": {\"format\": \".0%\"}, \"field\": \"percent\"}, \"y\": {\"type\": \"nominal\", \"field\": \"emotion\", \"sort\": \"-x\"}}, \"title\": \"Expected label: anger | n = 612\"}], \"data\": {\"name\": \"data-644e8876f17a491aa692cb7806f52d62\"}, \"height\": 250, \"width\": 450, \"$schema\": \"https://vega.github.io/schema/vega-lite/v4.8.1.json\", \"datasets\": {\"data-644e8876f17a491aa692cb7806f52d62\": [{\"counts\": 371, \"emotion\": \"Anger\", \"percent\": 0.6062091503267973}, {\"counts\": 58, \"emotion\": \"Neutral\", \"percent\": 0.09477124183006536}, {\"counts\": 51, \"emotion\": \"Disgust\", \"percent\": 0.08333333333333333}, {\"counts\": 41, \"emotion\": \"Uncertain\", \"percent\": 0.06699346405228758}, {\"counts\": 38, \"emotion\": \"Other\", \"percent\": 0.06209150326797386}, {\"counts\": 21, \"emotion\": \"Sadness\", \"percent\": 0.03431372549019608}, {\"counts\": 16, \"emotion\": \"Happiness\", \"percent\": 0.026143790849673203}, {\"counts\": 10, \"emotion\": \"Fear\", \"percent\": 0.016339869281045753}, {\"counts\": 6, \"emotion\": \"Surprise\", \"percent\": 0.00980392156862745}]}}, {\"renderer\": \"svg\", \"mode\": \"vega-lite\"});\n",
       "</script>"
      ],
      "text/plain": [
       "alt.LayerChart(...)"
      ]
     },
     "metadata": {},
     "output_type": "display_data"
    }
   ],
   "source": [
    "chart_anger_bipoc = wrapper_chart_emotion(df_emo_answers, 'anger', 'bipoc')\n",
    "chart_anger_white = wrapper_chart_emotion(df_emo_answers, 'anger', 'white')"
   ]
  },
  {
   "cell_type": "markdown",
   "id": "8e002ad4-700b-4dce-b014-3abb55d89d46",
   "metadata": {},
   "source": [
    "### Disgust"
   ]
  },
  {
   "cell_type": "code",
   "execution_count": 32,
   "id": "837f0ba8-2a02-4695-b1ea-67a7234081cd",
   "metadata": {},
   "outputs": [
    {
     "data": {
      "text/html": [
       "\n",
       "<div id=\"altair-viz-c1b5c0e77c8a49e1b3901a771cb769fe\"></div>\n",
       "<script type=\"text/javascript\">\n",
       "  (function(spec, embedOpt){\n",
       "    let outputDiv = document.currentScript.previousElementSibling;\n",
       "    if (outputDiv.id !== \"altair-viz-c1b5c0e77c8a49e1b3901a771cb769fe\") {\n",
       "      outputDiv = document.getElementById(\"altair-viz-c1b5c0e77c8a49e1b3901a771cb769fe\");\n",
       "    }\n",
       "    const paths = {\n",
       "      \"vega\": \"https://cdn.jsdelivr.net/npm//vega@5?noext\",\n",
       "      \"vega-lib\": \"https://cdn.jsdelivr.net/npm//vega-lib?noext\",\n",
       "      \"vega-lite\": \"https://cdn.jsdelivr.net/npm//vega-lite@4.8.1?noext\",\n",
       "      \"vega-embed\": \"https://cdn.jsdelivr.net/npm//vega-embed@6?noext\",\n",
       "    };\n",
       "\n",
       "    function loadScript(lib) {\n",
       "      return new Promise(function(resolve, reject) {\n",
       "        var s = document.createElement('script');\n",
       "        s.src = paths[lib];\n",
       "        s.async = true;\n",
       "        s.onload = () => resolve(paths[lib]);\n",
       "        s.onerror = () => reject(`Error loading script: ${paths[lib]}`);\n",
       "        document.getElementsByTagName(\"head\")[0].appendChild(s);\n",
       "      });\n",
       "    }\n",
       "\n",
       "    function showError(err) {\n",
       "      outputDiv.innerHTML = `<div class=\"error\" style=\"color:red;\">${err}</div>`;\n",
       "      throw err;\n",
       "    }\n",
       "\n",
       "    function displayChart(vegaEmbed) {\n",
       "      vegaEmbed(outputDiv, spec, embedOpt)\n",
       "        .catch(err => showError(`Javascript Error: ${err.message}<br>This usually means there's a typo in your chart specification. See the javascript console for the full traceback.`));\n",
       "    }\n",
       "\n",
       "    if(typeof define === \"function\" && define.amd) {\n",
       "      requirejs.config({paths});\n",
       "      require([\"vega-embed\"], displayChart, err => showError(`Error loading script: ${err.message}`));\n",
       "    } else if (typeof vegaEmbed === \"function\") {\n",
       "      displayChart(vegaEmbed);\n",
       "    } else {\n",
       "      loadScript(\"vega\")\n",
       "        .then(() => loadScript(\"vega-lite\"))\n",
       "        .then(() => loadScript(\"vega-embed\"))\n",
       "        .catch(showError)\n",
       "        .then(() => displayChart(vegaEmbed));\n",
       "    }\n",
       "  })({\"config\": {\"view\": {\"continuousWidth\": 400, \"continuousHeight\": 300}, \"axis\": {\"labelFontSize\": 11, \"titleFontSize\": 12}}, \"layer\": [{\"mark\": \"bar\", \"encoding\": {\"color\": {\"condition\": {\"value\": \"orange\", \"test\": \"(datum.emotion === 'Disgust')\"}, \"value\": \"#0570b0\"}, \"x\": {\"type\": \"quantitative\", \"axis\": {\"format\": \".0%\"}, \"field\": \"percent\"}, \"y\": {\"type\": \"nominal\", \"field\": \"emotion\", \"sort\": \"-x\"}}, \"title\": \"Expected label: disgust | n = 612\"}, {\"mark\": {\"type\": \"text\", \"align\": \"left\", \"baseline\": \"middle\", \"dx\": 3, \"fontSize\": 12, \"fontWeight\": \"bold\"}, \"encoding\": {\"color\": {\"condition\": {\"value\": \"orange\", \"test\": \"(datum.emotion === 'Disgust')\"}, \"value\": \"#0570b0\"}, \"text\": {\"type\": \"quantitative\", \"field\": \"percent\", \"format\": \".1%\"}, \"x\": {\"type\": \"quantitative\", \"axis\": {\"format\": \".0%\"}, \"field\": \"percent\"}, \"y\": {\"type\": \"nominal\", \"field\": \"emotion\", \"sort\": \"-x\"}}, \"title\": \"Expected label: disgust | n = 612\"}], \"data\": {\"name\": \"data-980ff1d94f9ee7e3a9e843d41e430de0\"}, \"height\": 250, \"width\": 450, \"$schema\": \"https://vega.github.io/schema/vega-lite/v4.8.1.json\", \"datasets\": {\"data-980ff1d94f9ee7e3a9e843d41e430de0\": [{\"counts\": 322, \"emotion\": \"Disgust\", \"percent\": 0.5261437908496732}, {\"counts\": 97, \"emotion\": \"Anger\", \"percent\": 0.15849673202614378}, {\"counts\": 64, \"emotion\": \"Other\", \"percent\": 0.10457516339869281}, {\"counts\": 58, \"emotion\": \"Uncertain\", \"percent\": 0.09477124183006536}, {\"counts\": 30, \"emotion\": \"Surprise\", \"percent\": 0.049019607843137254}, {\"counts\": 17, \"emotion\": \"Happiness\", \"percent\": 0.027777777777777776}, {\"counts\": 8, \"emotion\": \"Sadness\", \"percent\": 0.013071895424836602}, {\"counts\": 8, \"emotion\": \"Neutral\", \"percent\": 0.013071895424836602}, {\"counts\": 8, \"emotion\": \"Fear\", \"percent\": 0.013071895424836602}]}}, {\"renderer\": \"svg\", \"mode\": \"vega-lite\"});\n",
       "</script>"
      ],
      "text/plain": [
       "alt.LayerChart(...)"
      ]
     },
     "metadata": {},
     "output_type": "display_data"
    },
    {
     "data": {
      "text/html": [
       "\n",
       "<div id=\"altair-viz-d3046893c4da4794aafeb655c3d8fd60\"></div>\n",
       "<script type=\"text/javascript\">\n",
       "  (function(spec, embedOpt){\n",
       "    let outputDiv = document.currentScript.previousElementSibling;\n",
       "    if (outputDiv.id !== \"altair-viz-d3046893c4da4794aafeb655c3d8fd60\") {\n",
       "      outputDiv = document.getElementById(\"altair-viz-d3046893c4da4794aafeb655c3d8fd60\");\n",
       "    }\n",
       "    const paths = {\n",
       "      \"vega\": \"https://cdn.jsdelivr.net/npm//vega@5?noext\",\n",
       "      \"vega-lib\": \"https://cdn.jsdelivr.net/npm//vega-lib?noext\",\n",
       "      \"vega-lite\": \"https://cdn.jsdelivr.net/npm//vega-lite@4.8.1?noext\",\n",
       "      \"vega-embed\": \"https://cdn.jsdelivr.net/npm//vega-embed@6?noext\",\n",
       "    };\n",
       "\n",
       "    function loadScript(lib) {\n",
       "      return new Promise(function(resolve, reject) {\n",
       "        var s = document.createElement('script');\n",
       "        s.src = paths[lib];\n",
       "        s.async = true;\n",
       "        s.onload = () => resolve(paths[lib]);\n",
       "        s.onerror = () => reject(`Error loading script: ${paths[lib]}`);\n",
       "        document.getElementsByTagName(\"head\")[0].appendChild(s);\n",
       "      });\n",
       "    }\n",
       "\n",
       "    function showError(err) {\n",
       "      outputDiv.innerHTML = `<div class=\"error\" style=\"color:red;\">${err}</div>`;\n",
       "      throw err;\n",
       "    }\n",
       "\n",
       "    function displayChart(vegaEmbed) {\n",
       "      vegaEmbed(outputDiv, spec, embedOpt)\n",
       "        .catch(err => showError(`Javascript Error: ${err.message}<br>This usually means there's a typo in your chart specification. See the javascript console for the full traceback.`));\n",
       "    }\n",
       "\n",
       "    if(typeof define === \"function\" && define.amd) {\n",
       "      requirejs.config({paths});\n",
       "      require([\"vega-embed\"], displayChart, err => showError(`Error loading script: ${err.message}`));\n",
       "    } else if (typeof vegaEmbed === \"function\") {\n",
       "      displayChart(vegaEmbed);\n",
       "    } else {\n",
       "      loadScript(\"vega\")\n",
       "        .then(() => loadScript(\"vega-lite\"))\n",
       "        .then(() => loadScript(\"vega-embed\"))\n",
       "        .catch(showError)\n",
       "        .then(() => displayChart(vegaEmbed));\n",
       "    }\n",
       "  })({\"config\": {\"view\": {\"continuousWidth\": 400, \"continuousHeight\": 300}, \"axis\": {\"labelFontSize\": 11, \"titleFontSize\": 12}}, \"layer\": [{\"mark\": \"bar\", \"encoding\": {\"color\": {\"condition\": {\"value\": \"orange\", \"test\": \"(datum.emotion === 'Disgust')\"}, \"value\": \"#0570b0\"}, \"x\": {\"type\": \"quantitative\", \"axis\": {\"format\": \".0%\"}, \"field\": \"percent\"}, \"y\": {\"type\": \"nominal\", \"field\": \"emotion\", \"sort\": \"-x\"}}, \"title\": \"Expected label: disgust | n = 612\"}, {\"mark\": {\"type\": \"text\", \"align\": \"left\", \"baseline\": \"middle\", \"dx\": 3, \"fontSize\": 12, \"fontWeight\": \"bold\"}, \"encoding\": {\"color\": {\"condition\": {\"value\": \"orange\", \"test\": \"(datum.emotion === 'Disgust')\"}, \"value\": \"#0570b0\"}, \"text\": {\"type\": \"quantitative\", \"field\": \"percent\", \"format\": \".1%\"}, \"x\": {\"type\": \"quantitative\", \"axis\": {\"format\": \".0%\"}, \"field\": \"percent\"}, \"y\": {\"type\": \"nominal\", \"field\": \"emotion\", \"sort\": \"-x\"}}, \"title\": \"Expected label: disgust | n = 612\"}], \"data\": {\"name\": \"data-bbcdd9cc0ab83caf0358bbf0e11a2013\"}, \"height\": 250, \"width\": 450, \"$schema\": \"https://vega.github.io/schema/vega-lite/v4.8.1.json\", \"datasets\": {\"data-bbcdd9cc0ab83caf0358bbf0e11a2013\": [{\"counts\": 357, \"emotion\": \"Disgust\", \"percent\": 0.5833333333333334}, {\"counts\": 51, \"emotion\": \"Anger\", \"percent\": 0.08333333333333333}, {\"counts\": 47, \"emotion\": \"Happiness\", \"percent\": 0.07679738562091504}, {\"counts\": 40, \"emotion\": \"Other\", \"percent\": 0.06535947712418301}, {\"counts\": 37, \"emotion\": \"Uncertain\", \"percent\": 0.06045751633986928}, {\"counts\": 28, \"emotion\": \"Fear\", \"percent\": 0.0457516339869281}, {\"counts\": 26, \"emotion\": \"Surprise\", \"percent\": 0.042483660130718956}, {\"counts\": 17, \"emotion\": \"Sadness\", \"percent\": 0.027777777777777776}, {\"counts\": 9, \"emotion\": \"Neutral\", \"percent\": 0.014705882352941176}]}}, {\"renderer\": \"svg\", \"mode\": \"vega-lite\"});\n",
       "</script>"
      ],
      "text/plain": [
       "alt.LayerChart(...)"
      ]
     },
     "metadata": {},
     "output_type": "display_data"
    }
   ],
   "source": [
    "chart_disgust_bipoc = wrapper_chart_emotion(df_emo_answers, 'disgust', 'bipoc')\n",
    "chart_disgust_white = wrapper_chart_emotion(df_emo_answers, 'disgust', 'white')"
   ]
  },
  {
   "cell_type": "markdown",
   "id": "f8e754a1-f659-4163-be91-c7f3ef796ec6",
   "metadata": {},
   "source": [
    "### Fear"
   ]
  },
  {
   "cell_type": "code",
   "execution_count": 33,
   "id": "1d22ad69-5abd-45dc-8490-2329b9f96fd6",
   "metadata": {},
   "outputs": [
    {
     "data": {
      "text/html": [
       "\n",
       "<div id=\"altair-viz-82b9bd2e4a5249f4a4c005ac1baf06e0\"></div>\n",
       "<script type=\"text/javascript\">\n",
       "  (function(spec, embedOpt){\n",
       "    let outputDiv = document.currentScript.previousElementSibling;\n",
       "    if (outputDiv.id !== \"altair-viz-82b9bd2e4a5249f4a4c005ac1baf06e0\") {\n",
       "      outputDiv = document.getElementById(\"altair-viz-82b9bd2e4a5249f4a4c005ac1baf06e0\");\n",
       "    }\n",
       "    const paths = {\n",
       "      \"vega\": \"https://cdn.jsdelivr.net/npm//vega@5?noext\",\n",
       "      \"vega-lib\": \"https://cdn.jsdelivr.net/npm//vega-lib?noext\",\n",
       "      \"vega-lite\": \"https://cdn.jsdelivr.net/npm//vega-lite@4.8.1?noext\",\n",
       "      \"vega-embed\": \"https://cdn.jsdelivr.net/npm//vega-embed@6?noext\",\n",
       "    };\n",
       "\n",
       "    function loadScript(lib) {\n",
       "      return new Promise(function(resolve, reject) {\n",
       "        var s = document.createElement('script');\n",
       "        s.src = paths[lib];\n",
       "        s.async = true;\n",
       "        s.onload = () => resolve(paths[lib]);\n",
       "        s.onerror = () => reject(`Error loading script: ${paths[lib]}`);\n",
       "        document.getElementsByTagName(\"head\")[0].appendChild(s);\n",
       "      });\n",
       "    }\n",
       "\n",
       "    function showError(err) {\n",
       "      outputDiv.innerHTML = `<div class=\"error\" style=\"color:red;\">${err}</div>`;\n",
       "      throw err;\n",
       "    }\n",
       "\n",
       "    function displayChart(vegaEmbed) {\n",
       "      vegaEmbed(outputDiv, spec, embedOpt)\n",
       "        .catch(err => showError(`Javascript Error: ${err.message}<br>This usually means there's a typo in your chart specification. See the javascript console for the full traceback.`));\n",
       "    }\n",
       "\n",
       "    if(typeof define === \"function\" && define.amd) {\n",
       "      requirejs.config({paths});\n",
       "      require([\"vega-embed\"], displayChart, err => showError(`Error loading script: ${err.message}`));\n",
       "    } else if (typeof vegaEmbed === \"function\") {\n",
       "      displayChart(vegaEmbed);\n",
       "    } else {\n",
       "      loadScript(\"vega\")\n",
       "        .then(() => loadScript(\"vega-lite\"))\n",
       "        .then(() => loadScript(\"vega-embed\"))\n",
       "        .catch(showError)\n",
       "        .then(() => displayChart(vegaEmbed));\n",
       "    }\n",
       "  })({\"config\": {\"view\": {\"continuousWidth\": 400, \"continuousHeight\": 300}, \"axis\": {\"labelFontSize\": 11, \"titleFontSize\": 12}}, \"layer\": [{\"mark\": \"bar\", \"encoding\": {\"color\": {\"condition\": {\"value\": \"orange\", \"test\": \"(datum.emotion === 'Fear')\"}, \"value\": \"#0570b0\"}, \"x\": {\"type\": \"quantitative\", \"axis\": {\"format\": \".0%\"}, \"field\": \"percent\"}, \"y\": {\"type\": \"nominal\", \"field\": \"emotion\", \"sort\": \"-x\"}}, \"title\": \"Expected label: fear | n = 612\"}, {\"mark\": {\"type\": \"text\", \"align\": \"left\", \"baseline\": \"middle\", \"dx\": 3, \"fontSize\": 12, \"fontWeight\": \"bold\"}, \"encoding\": {\"color\": {\"condition\": {\"value\": \"orange\", \"test\": \"(datum.emotion === 'Fear')\"}, \"value\": \"#0570b0\"}, \"text\": {\"type\": \"quantitative\", \"field\": \"percent\", \"format\": \".1%\"}, \"x\": {\"type\": \"quantitative\", \"axis\": {\"format\": \".0%\"}, \"field\": \"percent\"}, \"y\": {\"type\": \"nominal\", \"field\": \"emotion\", \"sort\": \"-x\"}}, \"title\": \"Expected label: fear | n = 612\"}], \"data\": {\"name\": \"data-6ef3b826ce8111159020d6dc77e3c2b3\"}, \"height\": 250, \"width\": 450, \"$schema\": \"https://vega.github.io/schema/vega-lite/v4.8.1.json\", \"datasets\": {\"data-6ef3b826ce8111159020d6dc77e3c2b3\": [{\"counts\": 215, \"emotion\": \"Fear\", \"percent\": 0.35130718954248363}, {\"counts\": 130, \"emotion\": \"Sadness\", \"percent\": 0.21241830065359477}, {\"counts\": 125, \"emotion\": \"Surprise\", \"percent\": 0.2042483660130719}, {\"counts\": 60, \"emotion\": \"Disgust\", \"percent\": 0.09803921568627451}, {\"counts\": 25, \"emotion\": \"Uncertain\", \"percent\": 0.04084967320261438}, {\"counts\": 23, \"emotion\": \"Other\", \"percent\": 0.03758169934640523}, {\"counts\": 14, \"emotion\": \"Neutral\", \"percent\": 0.02287581699346405}, {\"counts\": 11, \"emotion\": \"Anger\", \"percent\": 0.017973856209150325}, {\"counts\": 9, \"emotion\": \"Happiness\", \"percent\": 0.014705882352941176}]}}, {\"renderer\": \"svg\", \"mode\": \"vega-lite\"});\n",
       "</script>"
      ],
      "text/plain": [
       "alt.LayerChart(...)"
      ]
     },
     "metadata": {},
     "output_type": "display_data"
    },
    {
     "data": {
      "text/html": [
       "\n",
       "<div id=\"altair-viz-75e02a9c550345e089e06e792c555867\"></div>\n",
       "<script type=\"text/javascript\">\n",
       "  (function(spec, embedOpt){\n",
       "    let outputDiv = document.currentScript.previousElementSibling;\n",
       "    if (outputDiv.id !== \"altair-viz-75e02a9c550345e089e06e792c555867\") {\n",
       "      outputDiv = document.getElementById(\"altair-viz-75e02a9c550345e089e06e792c555867\");\n",
       "    }\n",
       "    const paths = {\n",
       "      \"vega\": \"https://cdn.jsdelivr.net/npm//vega@5?noext\",\n",
       "      \"vega-lib\": \"https://cdn.jsdelivr.net/npm//vega-lib?noext\",\n",
       "      \"vega-lite\": \"https://cdn.jsdelivr.net/npm//vega-lite@4.8.1?noext\",\n",
       "      \"vega-embed\": \"https://cdn.jsdelivr.net/npm//vega-embed@6?noext\",\n",
       "    };\n",
       "\n",
       "    function loadScript(lib) {\n",
       "      return new Promise(function(resolve, reject) {\n",
       "        var s = document.createElement('script');\n",
       "        s.src = paths[lib];\n",
       "        s.async = true;\n",
       "        s.onload = () => resolve(paths[lib]);\n",
       "        s.onerror = () => reject(`Error loading script: ${paths[lib]}`);\n",
       "        document.getElementsByTagName(\"head\")[0].appendChild(s);\n",
       "      });\n",
       "    }\n",
       "\n",
       "    function showError(err) {\n",
       "      outputDiv.innerHTML = `<div class=\"error\" style=\"color:red;\">${err}</div>`;\n",
       "      throw err;\n",
       "    }\n",
       "\n",
       "    function displayChart(vegaEmbed) {\n",
       "      vegaEmbed(outputDiv, spec, embedOpt)\n",
       "        .catch(err => showError(`Javascript Error: ${err.message}<br>This usually means there's a typo in your chart specification. See the javascript console for the full traceback.`));\n",
       "    }\n",
       "\n",
       "    if(typeof define === \"function\" && define.amd) {\n",
       "      requirejs.config({paths});\n",
       "      require([\"vega-embed\"], displayChart, err => showError(`Error loading script: ${err.message}`));\n",
       "    } else if (typeof vegaEmbed === \"function\") {\n",
       "      displayChart(vegaEmbed);\n",
       "    } else {\n",
       "      loadScript(\"vega\")\n",
       "        .then(() => loadScript(\"vega-lite\"))\n",
       "        .then(() => loadScript(\"vega-embed\"))\n",
       "        .catch(showError)\n",
       "        .then(() => displayChart(vegaEmbed));\n",
       "    }\n",
       "  })({\"config\": {\"view\": {\"continuousWidth\": 400, \"continuousHeight\": 300}, \"axis\": {\"labelFontSize\": 11, \"titleFontSize\": 12}}, \"layer\": [{\"mark\": \"bar\", \"encoding\": {\"color\": {\"condition\": {\"value\": \"orange\", \"test\": \"(datum.emotion === 'Fear')\"}, \"value\": \"#0570b0\"}, \"x\": {\"type\": \"quantitative\", \"axis\": {\"format\": \".0%\"}, \"field\": \"percent\"}, \"y\": {\"type\": \"nominal\", \"field\": \"emotion\", \"sort\": \"-x\"}}, \"title\": \"Expected label: fear | n = 612\"}, {\"mark\": {\"type\": \"text\", \"align\": \"left\", \"baseline\": \"middle\", \"dx\": 3, \"fontSize\": 12, \"fontWeight\": \"bold\"}, \"encoding\": {\"color\": {\"condition\": {\"value\": \"orange\", \"test\": \"(datum.emotion === 'Fear')\"}, \"value\": \"#0570b0\"}, \"text\": {\"type\": \"quantitative\", \"field\": \"percent\", \"format\": \".1%\"}, \"x\": {\"type\": \"quantitative\", \"axis\": {\"format\": \".0%\"}, \"field\": \"percent\"}, \"y\": {\"type\": \"nominal\", \"field\": \"emotion\", \"sort\": \"-x\"}}, \"title\": \"Expected label: fear | n = 612\"}], \"data\": {\"name\": \"data-945e7ec9df9a402881b3dbc41ea3be9d\"}, \"height\": 250, \"width\": 450, \"$schema\": \"https://vega.github.io/schema/vega-lite/v4.8.1.json\", \"datasets\": {\"data-945e7ec9df9a402881b3dbc41ea3be9d\": [{\"counts\": 257, \"emotion\": \"Surprise\", \"percent\": 0.4199346405228758}, {\"counts\": 172, \"emotion\": \"Fear\", \"percent\": 0.28104575163398693}, {\"counts\": 54, \"emotion\": \"Sadness\", \"percent\": 0.08823529411764706}, {\"counts\": 30, \"emotion\": \"Uncertain\", \"percent\": 0.049019607843137254}, {\"counts\": 27, \"emotion\": \"Other\", \"percent\": 0.04411764705882353}, {\"counts\": 22, \"emotion\": \"Disgust\", \"percent\": 0.03594771241830065}, {\"counts\": 19, \"emotion\": \"Happiness\", \"percent\": 0.03104575163398693}, {\"counts\": 17, \"emotion\": \"Neutral\", \"percent\": 0.027777777777777776}, {\"counts\": 14, \"emotion\": \"Anger\", \"percent\": 0.02287581699346405}]}}, {\"renderer\": \"svg\", \"mode\": \"vega-lite\"});\n",
       "</script>"
      ],
      "text/plain": [
       "alt.LayerChart(...)"
      ]
     },
     "metadata": {},
     "output_type": "display_data"
    }
   ],
   "source": [
    "chart_fear_bipoc = wrapper_chart_emotion(df_emo_answers, 'fear', 'bipoc')\n",
    "chart_fear_white = wrapper_chart_emotion(df_emo_answers, 'fear', 'white')"
   ]
  },
  {
   "cell_type": "markdown",
   "id": "8b97f496-430f-4e4c-85e7-a5e3d65174a9",
   "metadata": {},
   "source": [
    "### Surprise"
   ]
  },
  {
   "cell_type": "code",
   "execution_count": 34,
   "id": "785a28be-0e85-4a1a-9542-6fdc4a973995",
   "metadata": {},
   "outputs": [
    {
     "data": {
      "text/html": [
       "\n",
       "<div id=\"altair-viz-ebac6c7813e049c18d80488d0243bcd2\"></div>\n",
       "<script type=\"text/javascript\">\n",
       "  (function(spec, embedOpt){\n",
       "    let outputDiv = document.currentScript.previousElementSibling;\n",
       "    if (outputDiv.id !== \"altair-viz-ebac6c7813e049c18d80488d0243bcd2\") {\n",
       "      outputDiv = document.getElementById(\"altair-viz-ebac6c7813e049c18d80488d0243bcd2\");\n",
       "    }\n",
       "    const paths = {\n",
       "      \"vega\": \"https://cdn.jsdelivr.net/npm//vega@5?noext\",\n",
       "      \"vega-lib\": \"https://cdn.jsdelivr.net/npm//vega-lib?noext\",\n",
       "      \"vega-lite\": \"https://cdn.jsdelivr.net/npm//vega-lite@4.8.1?noext\",\n",
       "      \"vega-embed\": \"https://cdn.jsdelivr.net/npm//vega-embed@6?noext\",\n",
       "    };\n",
       "\n",
       "    function loadScript(lib) {\n",
       "      return new Promise(function(resolve, reject) {\n",
       "        var s = document.createElement('script');\n",
       "        s.src = paths[lib];\n",
       "        s.async = true;\n",
       "        s.onload = () => resolve(paths[lib]);\n",
       "        s.onerror = () => reject(`Error loading script: ${paths[lib]}`);\n",
       "        document.getElementsByTagName(\"head\")[0].appendChild(s);\n",
       "      });\n",
       "    }\n",
       "\n",
       "    function showError(err) {\n",
       "      outputDiv.innerHTML = `<div class=\"error\" style=\"color:red;\">${err}</div>`;\n",
       "      throw err;\n",
       "    }\n",
       "\n",
       "    function displayChart(vegaEmbed) {\n",
       "      vegaEmbed(outputDiv, spec, embedOpt)\n",
       "        .catch(err => showError(`Javascript Error: ${err.message}<br>This usually means there's a typo in your chart specification. See the javascript console for the full traceback.`));\n",
       "    }\n",
       "\n",
       "    if(typeof define === \"function\" && define.amd) {\n",
       "      requirejs.config({paths});\n",
       "      require([\"vega-embed\"], displayChart, err => showError(`Error loading script: ${err.message}`));\n",
       "    } else if (typeof vegaEmbed === \"function\") {\n",
       "      displayChart(vegaEmbed);\n",
       "    } else {\n",
       "      loadScript(\"vega\")\n",
       "        .then(() => loadScript(\"vega-lite\"))\n",
       "        .then(() => loadScript(\"vega-embed\"))\n",
       "        .catch(showError)\n",
       "        .then(() => displayChart(vegaEmbed));\n",
       "    }\n",
       "  })({\"config\": {\"view\": {\"continuousWidth\": 400, \"continuousHeight\": 300}, \"axis\": {\"labelFontSize\": 11, \"titleFontSize\": 12}}, \"layer\": [{\"mark\": \"bar\", \"encoding\": {\"color\": {\"condition\": {\"value\": \"orange\", \"test\": \"(datum.emotion === 'Surprise')\"}, \"value\": \"#0570b0\"}, \"x\": {\"type\": \"quantitative\", \"axis\": {\"format\": \".0%\"}, \"field\": \"percent\"}, \"y\": {\"type\": \"nominal\", \"field\": \"emotion\", \"sort\": \"-x\"}}, \"title\": \"Expected label: surprise | n = 612\"}, {\"mark\": {\"type\": \"text\", \"align\": \"left\", \"baseline\": \"middle\", \"dx\": 3, \"fontSize\": 12, \"fontWeight\": \"bold\"}, \"encoding\": {\"color\": {\"condition\": {\"value\": \"orange\", \"test\": \"(datum.emotion === 'Surprise')\"}, \"value\": \"#0570b0\"}, \"text\": {\"type\": \"quantitative\", \"field\": \"percent\", \"format\": \".1%\"}, \"x\": {\"type\": \"quantitative\", \"axis\": {\"format\": \".0%\"}, \"field\": \"percent\"}, \"y\": {\"type\": \"nominal\", \"field\": \"emotion\", \"sort\": \"-x\"}}, \"title\": \"Expected label: surprise | n = 612\"}], \"data\": {\"name\": \"data-9ff22a6675815b87860de89618359ea2\"}, \"height\": 250, \"width\": 450, \"$schema\": \"https://vega.github.io/schema/vega-lite/v4.8.1.json\", \"datasets\": {\"data-9ff22a6675815b87860de89618359ea2\": [{\"counts\": 310, \"emotion\": \"Surprise\", \"percent\": 0.5065359477124183}, {\"counts\": 111, \"emotion\": \"Happiness\", \"percent\": 0.18137254901960784}, {\"counts\": 62, \"emotion\": \"Fear\", \"percent\": 0.10130718954248366}, {\"counts\": 40, \"emotion\": \"Neutral\", \"percent\": 0.06535947712418301}, {\"counts\": 39, \"emotion\": \"Other\", \"percent\": 0.06372549019607843}, {\"counts\": 31, \"emotion\": \"Uncertain\", \"percent\": 0.05065359477124183}, {\"counts\": 9, \"emotion\": \"Disgust\", \"percent\": 0.014705882352941176}, {\"counts\": 6, \"emotion\": \"Anger\", \"percent\": 0.00980392156862745}, {\"counts\": 4, \"emotion\": \"Sadness\", \"percent\": 0.006535947712418301}]}}, {\"renderer\": \"svg\", \"mode\": \"vega-lite\"});\n",
       "</script>"
      ],
      "text/plain": [
       "alt.LayerChart(...)"
      ]
     },
     "metadata": {},
     "output_type": "display_data"
    },
    {
     "data": {
      "text/html": [
       "\n",
       "<div id=\"altair-viz-d16ad79f97fa4054aedfd7d5728797bb\"></div>\n",
       "<script type=\"text/javascript\">\n",
       "  (function(spec, embedOpt){\n",
       "    let outputDiv = document.currentScript.previousElementSibling;\n",
       "    if (outputDiv.id !== \"altair-viz-d16ad79f97fa4054aedfd7d5728797bb\") {\n",
       "      outputDiv = document.getElementById(\"altair-viz-d16ad79f97fa4054aedfd7d5728797bb\");\n",
       "    }\n",
       "    const paths = {\n",
       "      \"vega\": \"https://cdn.jsdelivr.net/npm//vega@5?noext\",\n",
       "      \"vega-lib\": \"https://cdn.jsdelivr.net/npm//vega-lib?noext\",\n",
       "      \"vega-lite\": \"https://cdn.jsdelivr.net/npm//vega-lite@4.8.1?noext\",\n",
       "      \"vega-embed\": \"https://cdn.jsdelivr.net/npm//vega-embed@6?noext\",\n",
       "    };\n",
       "\n",
       "    function loadScript(lib) {\n",
       "      return new Promise(function(resolve, reject) {\n",
       "        var s = document.createElement('script');\n",
       "        s.src = paths[lib];\n",
       "        s.async = true;\n",
       "        s.onload = () => resolve(paths[lib]);\n",
       "        s.onerror = () => reject(`Error loading script: ${paths[lib]}`);\n",
       "        document.getElementsByTagName(\"head\")[0].appendChild(s);\n",
       "      });\n",
       "    }\n",
       "\n",
       "    function showError(err) {\n",
       "      outputDiv.innerHTML = `<div class=\"error\" style=\"color:red;\">${err}</div>`;\n",
       "      throw err;\n",
       "    }\n",
       "\n",
       "    function displayChart(vegaEmbed) {\n",
       "      vegaEmbed(outputDiv, spec, embedOpt)\n",
       "        .catch(err => showError(`Javascript Error: ${err.message}<br>This usually means there's a typo in your chart specification. See the javascript console for the full traceback.`));\n",
       "    }\n",
       "\n",
       "    if(typeof define === \"function\" && define.amd) {\n",
       "      requirejs.config({paths});\n",
       "      require([\"vega-embed\"], displayChart, err => showError(`Error loading script: ${err.message}`));\n",
       "    } else if (typeof vegaEmbed === \"function\") {\n",
       "      displayChart(vegaEmbed);\n",
       "    } else {\n",
       "      loadScript(\"vega\")\n",
       "        .then(() => loadScript(\"vega-lite\"))\n",
       "        .then(() => loadScript(\"vega-embed\"))\n",
       "        .catch(showError)\n",
       "        .then(() => displayChart(vegaEmbed));\n",
       "    }\n",
       "  })({\"config\": {\"view\": {\"continuousWidth\": 400, \"continuousHeight\": 300}, \"axis\": {\"labelFontSize\": 11, \"titleFontSize\": 12}}, \"layer\": [{\"mark\": \"bar\", \"encoding\": {\"color\": {\"condition\": {\"value\": \"orange\", \"test\": \"(datum.emotion === 'Surprise')\"}, \"value\": \"#0570b0\"}, \"x\": {\"type\": \"quantitative\", \"axis\": {\"format\": \".0%\"}, \"field\": \"percent\"}, \"y\": {\"type\": \"nominal\", \"field\": \"emotion\", \"sort\": \"-x\"}}, \"title\": \"Expected label: surprise | n = 612\"}, {\"mark\": {\"type\": \"text\", \"align\": \"left\", \"baseline\": \"middle\", \"dx\": 3, \"fontSize\": 12, \"fontWeight\": \"bold\"}, \"encoding\": {\"color\": {\"condition\": {\"value\": \"orange\", \"test\": \"(datum.emotion === 'Surprise')\"}, \"value\": \"#0570b0\"}, \"text\": {\"type\": \"quantitative\", \"field\": \"percent\", \"format\": \".1%\"}, \"x\": {\"type\": \"quantitative\", \"axis\": {\"format\": \".0%\"}, \"field\": \"percent\"}, \"y\": {\"type\": \"nominal\", \"field\": \"emotion\", \"sort\": \"-x\"}}, \"title\": \"Expected label: surprise | n = 612\"}], \"data\": {\"name\": \"data-e001393093cceb2dd2e026ca4b80f619\"}, \"height\": 250, \"width\": 450, \"$schema\": \"https://vega.github.io/schema/vega-lite/v4.8.1.json\", \"datasets\": {\"data-e001393093cceb2dd2e026ca4b80f619\": [{\"counts\": 397, \"emotion\": \"Surprise\", \"percent\": 0.6486928104575164}, {\"counts\": 54, \"emotion\": \"Neutral\", \"percent\": 0.08823529411764706}, {\"counts\": 41, \"emotion\": \"Fear\", \"percent\": 0.06699346405228758}, {\"counts\": 40, \"emotion\": \"Other\", \"percent\": 0.06535947712418301}, {\"counts\": 27, \"emotion\": \"Happiness\", \"percent\": 0.04411764705882353}, {\"counts\": 27, \"emotion\": \"Uncertain\", \"percent\": 0.04411764705882353}, {\"counts\": 17, \"emotion\": \"Anger\", \"percent\": 0.027777777777777776}, {\"counts\": 7, \"emotion\": \"Disgust\", \"percent\": 0.011437908496732025}, {\"counts\": 2, \"emotion\": \"Sadness\", \"percent\": 0.0032679738562091504}]}}, {\"renderer\": \"svg\", \"mode\": \"vega-lite\"});\n",
       "</script>"
      ],
      "text/plain": [
       "alt.LayerChart(...)"
      ]
     },
     "metadata": {},
     "output_type": "display_data"
    }
   ],
   "source": [
    "chart_surprise_bipoc= wrapper_chart_emotion(df_emo_answers, 'surprise', 'bipoc')\n",
    "chart_surprise_white = wrapper_chart_emotion(df_emo_answers, 'surprise', 'white')"
   ]
  },
  {
   "cell_type": "markdown",
   "id": "ef5d8e32-ae37-4dbf-9eb1-6769a13b69d5",
   "metadata": {},
   "source": [
    "### Happiness"
   ]
  },
  {
   "cell_type": "code",
   "execution_count": 35,
   "id": "469bf336-40cf-4409-9e7c-c4f4f40d0fdd",
   "metadata": {},
   "outputs": [
    {
     "data": {
      "text/html": [
       "\n",
       "<div id=\"altair-viz-b6f99f085ee44d29ac9ba61299eea9c0\"></div>\n",
       "<script type=\"text/javascript\">\n",
       "  (function(spec, embedOpt){\n",
       "    let outputDiv = document.currentScript.previousElementSibling;\n",
       "    if (outputDiv.id !== \"altair-viz-b6f99f085ee44d29ac9ba61299eea9c0\") {\n",
       "      outputDiv = document.getElementById(\"altair-viz-b6f99f085ee44d29ac9ba61299eea9c0\");\n",
       "    }\n",
       "    const paths = {\n",
       "      \"vega\": \"https://cdn.jsdelivr.net/npm//vega@5?noext\",\n",
       "      \"vega-lib\": \"https://cdn.jsdelivr.net/npm//vega-lib?noext\",\n",
       "      \"vega-lite\": \"https://cdn.jsdelivr.net/npm//vega-lite@4.8.1?noext\",\n",
       "      \"vega-embed\": \"https://cdn.jsdelivr.net/npm//vega-embed@6?noext\",\n",
       "    };\n",
       "\n",
       "    function loadScript(lib) {\n",
       "      return new Promise(function(resolve, reject) {\n",
       "        var s = document.createElement('script');\n",
       "        s.src = paths[lib];\n",
       "        s.async = true;\n",
       "        s.onload = () => resolve(paths[lib]);\n",
       "        s.onerror = () => reject(`Error loading script: ${paths[lib]}`);\n",
       "        document.getElementsByTagName(\"head\")[0].appendChild(s);\n",
       "      });\n",
       "    }\n",
       "\n",
       "    function showError(err) {\n",
       "      outputDiv.innerHTML = `<div class=\"error\" style=\"color:red;\">${err}</div>`;\n",
       "      throw err;\n",
       "    }\n",
       "\n",
       "    function displayChart(vegaEmbed) {\n",
       "      vegaEmbed(outputDiv, spec, embedOpt)\n",
       "        .catch(err => showError(`Javascript Error: ${err.message}<br>This usually means there's a typo in your chart specification. See the javascript console for the full traceback.`));\n",
       "    }\n",
       "\n",
       "    if(typeof define === \"function\" && define.amd) {\n",
       "      requirejs.config({paths});\n",
       "      require([\"vega-embed\"], displayChart, err => showError(`Error loading script: ${err.message}`));\n",
       "    } else if (typeof vegaEmbed === \"function\") {\n",
       "      displayChart(vegaEmbed);\n",
       "    } else {\n",
       "      loadScript(\"vega\")\n",
       "        .then(() => loadScript(\"vega-lite\"))\n",
       "        .then(() => loadScript(\"vega-embed\"))\n",
       "        .catch(showError)\n",
       "        .then(() => displayChart(vegaEmbed));\n",
       "    }\n",
       "  })({\"config\": {\"view\": {\"continuousWidth\": 400, \"continuousHeight\": 300}, \"axis\": {\"labelFontSize\": 11, \"titleFontSize\": 12}}, \"layer\": [{\"mark\": \"bar\", \"encoding\": {\"color\": {\"condition\": {\"value\": \"orange\", \"test\": \"(datum.emotion === 'Happiness')\"}, \"value\": \"#0570b0\"}, \"x\": {\"type\": \"quantitative\", \"axis\": {\"format\": \".0%\"}, \"field\": \"percent\"}, \"y\": {\"type\": \"nominal\", \"field\": \"emotion\", \"sort\": \"-x\"}}, \"title\": \"Expected label: happiness | n = 612\"}, {\"mark\": {\"type\": \"text\", \"align\": \"left\", \"baseline\": \"middle\", \"dx\": 3, \"fontSize\": 12, \"fontWeight\": \"bold\"}, \"encoding\": {\"color\": {\"condition\": {\"value\": \"orange\", \"test\": \"(datum.emotion === 'Happiness')\"}, \"value\": \"#0570b0\"}, \"text\": {\"type\": \"quantitative\", \"field\": \"percent\", \"format\": \".1%\"}, \"x\": {\"type\": \"quantitative\", \"axis\": {\"format\": \".0%\"}, \"field\": \"percent\"}, \"y\": {\"type\": \"nominal\", \"field\": \"emotion\", \"sort\": \"-x\"}}, \"title\": \"Expected label: happiness | n = 612\"}], \"data\": {\"name\": \"data-785c7dac3d446409862d6521fd9b0b88\"}, \"height\": 250, \"width\": 450, \"$schema\": \"https://vega.github.io/schema/vega-lite/v4.8.1.json\", \"datasets\": {\"data-785c7dac3d446409862d6521fd9b0b88\": [{\"counts\": 498, \"emotion\": \"Happiness\", \"percent\": 0.8137254901960784}, {\"counts\": 60, \"emotion\": \"Neutral\", \"percent\": 0.09803921568627451}, {\"counts\": 16, \"emotion\": \"Other\", \"percent\": 0.026143790849673203}, {\"counts\": 14, \"emotion\": \"Uncertain\", \"percent\": 0.02287581699346405}, {\"counts\": 7, \"emotion\": \"Surprise\", \"percent\": 0.011437908496732025}, {\"counts\": 6, \"emotion\": \"Disgust\", \"percent\": 0.00980392156862745}, {\"counts\": 4, \"emotion\": \"Sadness\", \"percent\": 0.006535947712418301}, {\"counts\": 4, \"emotion\": \"Fear\", \"percent\": 0.006535947712418301}, {\"counts\": 3, \"emotion\": \"Anger\", \"percent\": 0.004901960784313725}]}}, {\"renderer\": \"svg\", \"mode\": \"vega-lite\"});\n",
       "</script>"
      ],
      "text/plain": [
       "alt.LayerChart(...)"
      ]
     },
     "metadata": {},
     "output_type": "display_data"
    },
    {
     "data": {
      "text/html": [
       "\n",
       "<div id=\"altair-viz-ec4579d3c15d49e696891cea3cadddfc\"></div>\n",
       "<script type=\"text/javascript\">\n",
       "  (function(spec, embedOpt){\n",
       "    let outputDiv = document.currentScript.previousElementSibling;\n",
       "    if (outputDiv.id !== \"altair-viz-ec4579d3c15d49e696891cea3cadddfc\") {\n",
       "      outputDiv = document.getElementById(\"altair-viz-ec4579d3c15d49e696891cea3cadddfc\");\n",
       "    }\n",
       "    const paths = {\n",
       "      \"vega\": \"https://cdn.jsdelivr.net/npm//vega@5?noext\",\n",
       "      \"vega-lib\": \"https://cdn.jsdelivr.net/npm//vega-lib?noext\",\n",
       "      \"vega-lite\": \"https://cdn.jsdelivr.net/npm//vega-lite@4.8.1?noext\",\n",
       "      \"vega-embed\": \"https://cdn.jsdelivr.net/npm//vega-embed@6?noext\",\n",
       "    };\n",
       "\n",
       "    function loadScript(lib) {\n",
       "      return new Promise(function(resolve, reject) {\n",
       "        var s = document.createElement('script');\n",
       "        s.src = paths[lib];\n",
       "        s.async = true;\n",
       "        s.onload = () => resolve(paths[lib]);\n",
       "        s.onerror = () => reject(`Error loading script: ${paths[lib]}`);\n",
       "        document.getElementsByTagName(\"head\")[0].appendChild(s);\n",
       "      });\n",
       "    }\n",
       "\n",
       "    function showError(err) {\n",
       "      outputDiv.innerHTML = `<div class=\"error\" style=\"color:red;\">${err}</div>`;\n",
       "      throw err;\n",
       "    }\n",
       "\n",
       "    function displayChart(vegaEmbed) {\n",
       "      vegaEmbed(outputDiv, spec, embedOpt)\n",
       "        .catch(err => showError(`Javascript Error: ${err.message}<br>This usually means there's a typo in your chart specification. See the javascript console for the full traceback.`));\n",
       "    }\n",
       "\n",
       "    if(typeof define === \"function\" && define.amd) {\n",
       "      requirejs.config({paths});\n",
       "      require([\"vega-embed\"], displayChart, err => showError(`Error loading script: ${err.message}`));\n",
       "    } else if (typeof vegaEmbed === \"function\") {\n",
       "      displayChart(vegaEmbed);\n",
       "    } else {\n",
       "      loadScript(\"vega\")\n",
       "        .then(() => loadScript(\"vega-lite\"))\n",
       "        .then(() => loadScript(\"vega-embed\"))\n",
       "        .catch(showError)\n",
       "        .then(() => displayChart(vegaEmbed));\n",
       "    }\n",
       "  })({\"config\": {\"view\": {\"continuousWidth\": 400, \"continuousHeight\": 300}, \"axis\": {\"labelFontSize\": 11, \"titleFontSize\": 12}}, \"layer\": [{\"mark\": \"bar\", \"encoding\": {\"color\": {\"condition\": {\"value\": \"orange\", \"test\": \"(datum.emotion === 'Happiness')\"}, \"value\": \"#0570b0\"}, \"x\": {\"type\": \"quantitative\", \"axis\": {\"format\": \".0%\"}, \"field\": \"percent\"}, \"y\": {\"type\": \"nominal\", \"field\": \"emotion\", \"sort\": \"-x\"}}, \"title\": \"Expected label: happiness | n = 612\"}, {\"mark\": {\"type\": \"text\", \"align\": \"left\", \"baseline\": \"middle\", \"dx\": 3, \"fontSize\": 12, \"fontWeight\": \"bold\"}, \"encoding\": {\"color\": {\"condition\": {\"value\": \"orange\", \"test\": \"(datum.emotion === 'Happiness')\"}, \"value\": \"#0570b0\"}, \"text\": {\"type\": \"quantitative\", \"field\": \"percent\", \"format\": \".1%\"}, \"x\": {\"type\": \"quantitative\", \"axis\": {\"format\": \".0%\"}, \"field\": \"percent\"}, \"y\": {\"type\": \"nominal\", \"field\": \"emotion\", \"sort\": \"-x\"}}, \"title\": \"Expected label: happiness | n = 612\"}], \"data\": {\"name\": \"data-2c9005b1e010e195756778af56522023\"}, \"height\": 250, \"width\": 450, \"$schema\": \"https://vega.github.io/schema/vega-lite/v4.8.1.json\", \"datasets\": {\"data-2c9005b1e010e195756778af56522023\": [{\"counts\": 546, \"emotion\": \"Happiness\", \"percent\": 0.8921568627450981}, {\"counts\": 17, \"emotion\": \"Uncertain\", \"percent\": 0.027777777777777776}, {\"counts\": 16, \"emotion\": \"Neutral\", \"percent\": 0.026143790849673203}, {\"counts\": 11, \"emotion\": \"Surprise\", \"percent\": 0.017973856209150325}, {\"counts\": 9, \"emotion\": \"Other\", \"percent\": 0.014705882352941176}, {\"counts\": 4, \"emotion\": \"Fear\", \"percent\": 0.006535947712418301}, {\"counts\": 3, \"emotion\": \"Disgust\", \"percent\": 0.004901960784313725}, {\"counts\": 3, \"emotion\": \"Sadness\", \"percent\": 0.004901960784313725}, {\"counts\": 3, \"emotion\": \"Anger\", \"percent\": 0.004901960784313725}]}}, {\"renderer\": \"svg\", \"mode\": \"vega-lite\"});\n",
       "</script>"
      ],
      "text/plain": [
       "alt.LayerChart(...)"
      ]
     },
     "metadata": {},
     "output_type": "display_data"
    }
   ],
   "source": [
    "chart_happiness_bipoc = wrapper_chart_emotion(df_emo_answers, 'happiness', 'bipoc')\n",
    "chart_happiness_white = wrapper_chart_emotion(df_emo_answers, 'happiness', 'white')"
   ]
  },
  {
   "cell_type": "markdown",
   "id": "e83b4515-e445-49ed-aba0-a9c866ef843c",
   "metadata": {},
   "source": [
    "### Sadness"
   ]
  },
  {
   "cell_type": "code",
   "execution_count": 36,
   "id": "fc1140e4-48ec-41de-80fc-2c97fe45f0cb",
   "metadata": {},
   "outputs": [
    {
     "data": {
      "text/html": [
       "\n",
       "<div id=\"altair-viz-00e3405bd1944f1485fd4f1c6fa788c6\"></div>\n",
       "<script type=\"text/javascript\">\n",
       "  (function(spec, embedOpt){\n",
       "    let outputDiv = document.currentScript.previousElementSibling;\n",
       "    if (outputDiv.id !== \"altair-viz-00e3405bd1944f1485fd4f1c6fa788c6\") {\n",
       "      outputDiv = document.getElementById(\"altair-viz-00e3405bd1944f1485fd4f1c6fa788c6\");\n",
       "    }\n",
       "    const paths = {\n",
       "      \"vega\": \"https://cdn.jsdelivr.net/npm//vega@5?noext\",\n",
       "      \"vega-lib\": \"https://cdn.jsdelivr.net/npm//vega-lib?noext\",\n",
       "      \"vega-lite\": \"https://cdn.jsdelivr.net/npm//vega-lite@4.8.1?noext\",\n",
       "      \"vega-embed\": \"https://cdn.jsdelivr.net/npm//vega-embed@6?noext\",\n",
       "    };\n",
       "\n",
       "    function loadScript(lib) {\n",
       "      return new Promise(function(resolve, reject) {\n",
       "        var s = document.createElement('script');\n",
       "        s.src = paths[lib];\n",
       "        s.async = true;\n",
       "        s.onload = () => resolve(paths[lib]);\n",
       "        s.onerror = () => reject(`Error loading script: ${paths[lib]}`);\n",
       "        document.getElementsByTagName(\"head\")[0].appendChild(s);\n",
       "      });\n",
       "    }\n",
       "\n",
       "    function showError(err) {\n",
       "      outputDiv.innerHTML = `<div class=\"error\" style=\"color:red;\">${err}</div>`;\n",
       "      throw err;\n",
       "    }\n",
       "\n",
       "    function displayChart(vegaEmbed) {\n",
       "      vegaEmbed(outputDiv, spec, embedOpt)\n",
       "        .catch(err => showError(`Javascript Error: ${err.message}<br>This usually means there's a typo in your chart specification. See the javascript console for the full traceback.`));\n",
       "    }\n",
       "\n",
       "    if(typeof define === \"function\" && define.amd) {\n",
       "      requirejs.config({paths});\n",
       "      require([\"vega-embed\"], displayChart, err => showError(`Error loading script: ${err.message}`));\n",
       "    } else if (typeof vegaEmbed === \"function\") {\n",
       "      displayChart(vegaEmbed);\n",
       "    } else {\n",
       "      loadScript(\"vega\")\n",
       "        .then(() => loadScript(\"vega-lite\"))\n",
       "        .then(() => loadScript(\"vega-embed\"))\n",
       "        .catch(showError)\n",
       "        .then(() => displayChart(vegaEmbed));\n",
       "    }\n",
       "  })({\"config\": {\"view\": {\"continuousWidth\": 400, \"continuousHeight\": 300}, \"axis\": {\"labelFontSize\": 11, \"titleFontSize\": 12}}, \"layer\": [{\"mark\": \"bar\", \"encoding\": {\"color\": {\"condition\": {\"value\": \"orange\", \"test\": \"(datum.emotion === 'Sadness')\"}, \"value\": \"#0570b0\"}, \"x\": {\"type\": \"quantitative\", \"axis\": {\"format\": \".0%\"}, \"field\": \"percent\"}, \"y\": {\"type\": \"nominal\", \"field\": \"emotion\", \"sort\": \"-x\"}}, \"title\": \"Expected label: sadness | n = 612\"}, {\"mark\": {\"type\": \"text\", \"align\": \"left\", \"baseline\": \"middle\", \"dx\": 3, \"fontSize\": 12, \"fontWeight\": \"bold\"}, \"encoding\": {\"color\": {\"condition\": {\"value\": \"orange\", \"test\": \"(datum.emotion === 'Sadness')\"}, \"value\": \"#0570b0\"}, \"text\": {\"type\": \"quantitative\", \"field\": \"percent\", \"format\": \".1%\"}, \"x\": {\"type\": \"quantitative\", \"axis\": {\"format\": \".0%\"}, \"field\": \"percent\"}, \"y\": {\"type\": \"nominal\", \"field\": \"emotion\", \"sort\": \"-x\"}}, \"title\": \"Expected label: sadness | n = 612\"}], \"data\": {\"name\": \"data-09907e4ce8aaeebe17f3c69559763b3e\"}, \"height\": 250, \"width\": 450, \"$schema\": \"https://vega.github.io/schema/vega-lite/v4.8.1.json\", \"datasets\": {\"data-09907e4ce8aaeebe17f3c69559763b3e\": [{\"counts\": 439, \"emotion\": \"Sadness\", \"percent\": 0.7173202614379085}, {\"counts\": 44, \"emotion\": \"Fear\", \"percent\": 0.0718954248366013}, {\"counts\": 41, \"emotion\": \"Disgust\", \"percent\": 0.06699346405228758}, {\"counts\": 27, \"emotion\": \"Anger\", \"percent\": 0.04411764705882353}, {\"counts\": 18, \"emotion\": \"Other\", \"percent\": 0.029411764705882353}, {\"counts\": 17, \"emotion\": \"Uncertain\", \"percent\": 0.027777777777777776}, {\"counts\": 17, \"emotion\": \"Neutral\", \"percent\": 0.027777777777777776}, {\"counts\": 5, \"emotion\": \"Surprise\", \"percent\": 0.008169934640522876}, {\"counts\": 4, \"emotion\": \"Happiness\", \"percent\": 0.006535947712418301}]}}, {\"renderer\": \"svg\", \"mode\": \"vega-lite\"});\n",
       "</script>"
      ],
      "text/plain": [
       "alt.LayerChart(...)"
      ]
     },
     "metadata": {},
     "output_type": "display_data"
    },
    {
     "data": {
      "text/html": [
       "\n",
       "<div id=\"altair-viz-932ad7c09a894a6584aefbe7ded13b15\"></div>\n",
       "<script type=\"text/javascript\">\n",
       "  (function(spec, embedOpt){\n",
       "    let outputDiv = document.currentScript.previousElementSibling;\n",
       "    if (outputDiv.id !== \"altair-viz-932ad7c09a894a6584aefbe7ded13b15\") {\n",
       "      outputDiv = document.getElementById(\"altair-viz-932ad7c09a894a6584aefbe7ded13b15\");\n",
       "    }\n",
       "    const paths = {\n",
       "      \"vega\": \"https://cdn.jsdelivr.net/npm//vega@5?noext\",\n",
       "      \"vega-lib\": \"https://cdn.jsdelivr.net/npm//vega-lib?noext\",\n",
       "      \"vega-lite\": \"https://cdn.jsdelivr.net/npm//vega-lite@4.8.1?noext\",\n",
       "      \"vega-embed\": \"https://cdn.jsdelivr.net/npm//vega-embed@6?noext\",\n",
       "    };\n",
       "\n",
       "    function loadScript(lib) {\n",
       "      return new Promise(function(resolve, reject) {\n",
       "        var s = document.createElement('script');\n",
       "        s.src = paths[lib];\n",
       "        s.async = true;\n",
       "        s.onload = () => resolve(paths[lib]);\n",
       "        s.onerror = () => reject(`Error loading script: ${paths[lib]}`);\n",
       "        document.getElementsByTagName(\"head\")[0].appendChild(s);\n",
       "      });\n",
       "    }\n",
       "\n",
       "    function showError(err) {\n",
       "      outputDiv.innerHTML = `<div class=\"error\" style=\"color:red;\">${err}</div>`;\n",
       "      throw err;\n",
       "    }\n",
       "\n",
       "    function displayChart(vegaEmbed) {\n",
       "      vegaEmbed(outputDiv, spec, embedOpt)\n",
       "        .catch(err => showError(`Javascript Error: ${err.message}<br>This usually means there's a typo in your chart specification. See the javascript console for the full traceback.`));\n",
       "    }\n",
       "\n",
       "    if(typeof define === \"function\" && define.amd) {\n",
       "      requirejs.config({paths});\n",
       "      require([\"vega-embed\"], displayChart, err => showError(`Error loading script: ${err.message}`));\n",
       "    } else if (typeof vegaEmbed === \"function\") {\n",
       "      displayChart(vegaEmbed);\n",
       "    } else {\n",
       "      loadScript(\"vega\")\n",
       "        .then(() => loadScript(\"vega-lite\"))\n",
       "        .then(() => loadScript(\"vega-embed\"))\n",
       "        .catch(showError)\n",
       "        .then(() => displayChart(vegaEmbed));\n",
       "    }\n",
       "  })({\"config\": {\"view\": {\"continuousWidth\": 400, \"continuousHeight\": 300}, \"axis\": {\"labelFontSize\": 11, \"titleFontSize\": 12}}, \"layer\": [{\"mark\": \"bar\", \"encoding\": {\"color\": {\"condition\": {\"value\": \"orange\", \"test\": \"(datum.emotion === 'Sadness')\"}, \"value\": \"#0570b0\"}, \"x\": {\"type\": \"quantitative\", \"axis\": {\"format\": \".0%\"}, \"field\": \"percent\"}, \"y\": {\"type\": \"nominal\", \"field\": \"emotion\", \"sort\": \"-x\"}}, \"title\": \"Expected label: sadness | n = 612\"}, {\"mark\": {\"type\": \"text\", \"align\": \"left\", \"baseline\": \"middle\", \"dx\": 3, \"fontSize\": 12, \"fontWeight\": \"bold\"}, \"encoding\": {\"color\": {\"condition\": {\"value\": \"orange\", \"test\": \"(datum.emotion === 'Sadness')\"}, \"value\": \"#0570b0\"}, \"text\": {\"type\": \"quantitative\", \"field\": \"percent\", \"format\": \".1%\"}, \"x\": {\"type\": \"quantitative\", \"axis\": {\"format\": \".0%\"}, \"field\": \"percent\"}, \"y\": {\"type\": \"nominal\", \"field\": \"emotion\", \"sort\": \"-x\"}}, \"title\": \"Expected label: sadness | n = 612\"}], \"data\": {\"name\": \"data-56b7d5e494421edcb550566288845614\"}, \"height\": 250, \"width\": 450, \"$schema\": \"https://vega.github.io/schema/vega-lite/v4.8.1.json\", \"datasets\": {\"data-56b7d5e494421edcb550566288845614\": [{\"counts\": 413, \"emotion\": \"Sadness\", \"percent\": 0.6748366013071896}, {\"counts\": 80, \"emotion\": \"Neutral\", \"percent\": 0.13071895424836602}, {\"counts\": 31, \"emotion\": \"Anger\", \"percent\": 0.05065359477124183}, {\"counts\": 25, \"emotion\": \"Uncertain\", \"percent\": 0.04084967320261438}, {\"counts\": 21, \"emotion\": \"Disgust\", \"percent\": 0.03431372549019608}, {\"counts\": 18, \"emotion\": \"Other\", \"percent\": 0.029411764705882353}, {\"counts\": 16, \"emotion\": \"Fear\", \"percent\": 0.026143790849673203}, {\"counts\": 8, \"emotion\": \"Surprise\", \"percent\": 0.013071895424836602}]}}, {\"renderer\": \"svg\", \"mode\": \"vega-lite\"});\n",
       "</script>"
      ],
      "text/plain": [
       "alt.LayerChart(...)"
      ]
     },
     "metadata": {},
     "output_type": "display_data"
    }
   ],
   "source": [
    "chart_sadness_bipoc = wrapper_chart_emotion(df_emo_answers, 'sadness', 'bipoc')\n",
    "chart_sadness_white = wrapper_chart_emotion(df_emo_answers, 'sadness', 'white')"
   ]
  },
  {
   "cell_type": "markdown",
   "id": "c56cbffc-094e-4075-94fd-ed2590499849",
   "metadata": {},
   "source": [
    "### Neutral"
   ]
  },
  {
   "cell_type": "code",
   "execution_count": 37,
   "id": "5fffa5a3-7127-48e2-b7ff-8da593824ab8",
   "metadata": {},
   "outputs": [
    {
     "data": {
      "text/html": [
       "\n",
       "<div id=\"altair-viz-4a766104b0bd46f8947d5ec183c28070\"></div>\n",
       "<script type=\"text/javascript\">\n",
       "  (function(spec, embedOpt){\n",
       "    let outputDiv = document.currentScript.previousElementSibling;\n",
       "    if (outputDiv.id !== \"altair-viz-4a766104b0bd46f8947d5ec183c28070\") {\n",
       "      outputDiv = document.getElementById(\"altair-viz-4a766104b0bd46f8947d5ec183c28070\");\n",
       "    }\n",
       "    const paths = {\n",
       "      \"vega\": \"https://cdn.jsdelivr.net/npm//vega@5?noext\",\n",
       "      \"vega-lib\": \"https://cdn.jsdelivr.net/npm//vega-lib?noext\",\n",
       "      \"vega-lite\": \"https://cdn.jsdelivr.net/npm//vega-lite@4.8.1?noext\",\n",
       "      \"vega-embed\": \"https://cdn.jsdelivr.net/npm//vega-embed@6?noext\",\n",
       "    };\n",
       "\n",
       "    function loadScript(lib) {\n",
       "      return new Promise(function(resolve, reject) {\n",
       "        var s = document.createElement('script');\n",
       "        s.src = paths[lib];\n",
       "        s.async = true;\n",
       "        s.onload = () => resolve(paths[lib]);\n",
       "        s.onerror = () => reject(`Error loading script: ${paths[lib]}`);\n",
       "        document.getElementsByTagName(\"head\")[0].appendChild(s);\n",
       "      });\n",
       "    }\n",
       "\n",
       "    function showError(err) {\n",
       "      outputDiv.innerHTML = `<div class=\"error\" style=\"color:red;\">${err}</div>`;\n",
       "      throw err;\n",
       "    }\n",
       "\n",
       "    function displayChart(vegaEmbed) {\n",
       "      vegaEmbed(outputDiv, spec, embedOpt)\n",
       "        .catch(err => showError(`Javascript Error: ${err.message}<br>This usually means there's a typo in your chart specification. See the javascript console for the full traceback.`));\n",
       "    }\n",
       "\n",
       "    if(typeof define === \"function\" && define.amd) {\n",
       "      requirejs.config({paths});\n",
       "      require([\"vega-embed\"], displayChart, err => showError(`Error loading script: ${err.message}`));\n",
       "    } else if (typeof vegaEmbed === \"function\") {\n",
       "      displayChart(vegaEmbed);\n",
       "    } else {\n",
       "      loadScript(\"vega\")\n",
       "        .then(() => loadScript(\"vega-lite\"))\n",
       "        .then(() => loadScript(\"vega-embed\"))\n",
       "        .catch(showError)\n",
       "        .then(() => displayChart(vegaEmbed));\n",
       "    }\n",
       "  })({\"config\": {\"view\": {\"continuousWidth\": 400, \"continuousHeight\": 300}, \"axis\": {\"labelFontSize\": 11, \"titleFontSize\": 12}}, \"layer\": [{\"mark\": \"bar\", \"encoding\": {\"color\": {\"condition\": {\"value\": \"orange\", \"test\": \"(datum.emotion === 'Neutral')\"}, \"value\": \"#0570b0\"}, \"x\": {\"type\": \"quantitative\", \"axis\": {\"format\": \".0%\"}, \"field\": \"percent\"}, \"y\": {\"type\": \"nominal\", \"field\": \"emotion\", \"sort\": \"-x\"}}, \"title\": \"Expected label: neutral | n = 612\"}, {\"mark\": {\"type\": \"text\", \"align\": \"left\", \"baseline\": \"middle\", \"dx\": 3, \"fontSize\": 12, \"fontWeight\": \"bold\"}, \"encoding\": {\"color\": {\"condition\": {\"value\": \"orange\", \"test\": \"(datum.emotion === 'Neutral')\"}, \"value\": \"#0570b0\"}, \"text\": {\"type\": \"quantitative\", \"field\": \"percent\", \"format\": \".1%\"}, \"x\": {\"type\": \"quantitative\", \"axis\": {\"format\": \".0%\"}, \"field\": \"percent\"}, \"y\": {\"type\": \"nominal\", \"field\": \"emotion\", \"sort\": \"-x\"}}, \"title\": \"Expected label: neutral | n = 612\"}], \"data\": {\"name\": \"data-ebc9178f96395503f24082f684818dff\"}, \"height\": 250, \"width\": 450, \"$schema\": \"https://vega.github.io/schema/vega-lite/v4.8.1.json\", \"datasets\": {\"data-ebc9178f96395503f24082f684818dff\": [{\"counts\": 403, \"emotion\": \"Neutral\", \"percent\": 0.6584967320261438}, {\"counts\": 56, \"emotion\": \"Uncertain\", \"percent\": 0.0915032679738562}, {\"counts\": 41, \"emotion\": \"Other\", \"percent\": 0.06699346405228758}, {\"counts\": 29, \"emotion\": \"Anger\", \"percent\": 0.04738562091503268}, {\"counts\": 29, \"emotion\": \"Sadness\", \"percent\": 0.04738562091503268}, {\"counts\": 27, \"emotion\": \"Happiness\", \"percent\": 0.04411764705882353}, {\"counts\": 11, \"emotion\": \"Disgust\", \"percent\": 0.017973856209150325}, {\"counts\": 10, \"emotion\": \"Fear\", \"percent\": 0.016339869281045753}, {\"counts\": 6, \"emotion\": \"Surprise\", \"percent\": 0.00980392156862745}]}}, {\"renderer\": \"svg\", \"mode\": \"vega-lite\"});\n",
       "</script>"
      ],
      "text/plain": [
       "alt.LayerChart(...)"
      ]
     },
     "metadata": {},
     "output_type": "display_data"
    },
    {
     "data": {
      "text/html": [
       "\n",
       "<div id=\"altair-viz-86ee7b369f9d416ba0de726fb14d8bbf\"></div>\n",
       "<script type=\"text/javascript\">\n",
       "  (function(spec, embedOpt){\n",
       "    let outputDiv = document.currentScript.previousElementSibling;\n",
       "    if (outputDiv.id !== \"altair-viz-86ee7b369f9d416ba0de726fb14d8bbf\") {\n",
       "      outputDiv = document.getElementById(\"altair-viz-86ee7b369f9d416ba0de726fb14d8bbf\");\n",
       "    }\n",
       "    const paths = {\n",
       "      \"vega\": \"https://cdn.jsdelivr.net/npm//vega@5?noext\",\n",
       "      \"vega-lib\": \"https://cdn.jsdelivr.net/npm//vega-lib?noext\",\n",
       "      \"vega-lite\": \"https://cdn.jsdelivr.net/npm//vega-lite@4.8.1?noext\",\n",
       "      \"vega-embed\": \"https://cdn.jsdelivr.net/npm//vega-embed@6?noext\",\n",
       "    };\n",
       "\n",
       "    function loadScript(lib) {\n",
       "      return new Promise(function(resolve, reject) {\n",
       "        var s = document.createElement('script');\n",
       "        s.src = paths[lib];\n",
       "        s.async = true;\n",
       "        s.onload = () => resolve(paths[lib]);\n",
       "        s.onerror = () => reject(`Error loading script: ${paths[lib]}`);\n",
       "        document.getElementsByTagName(\"head\")[0].appendChild(s);\n",
       "      });\n",
       "    }\n",
       "\n",
       "    function showError(err) {\n",
       "      outputDiv.innerHTML = `<div class=\"error\" style=\"color:red;\">${err}</div>`;\n",
       "      throw err;\n",
       "    }\n",
       "\n",
       "    function displayChart(vegaEmbed) {\n",
       "      vegaEmbed(outputDiv, spec, embedOpt)\n",
       "        .catch(err => showError(`Javascript Error: ${err.message}<br>This usually means there's a typo in your chart specification. See the javascript console for the full traceback.`));\n",
       "    }\n",
       "\n",
       "    if(typeof define === \"function\" && define.amd) {\n",
       "      requirejs.config({paths});\n",
       "      require([\"vega-embed\"], displayChart, err => showError(`Error loading script: ${err.message}`));\n",
       "    } else if (typeof vegaEmbed === \"function\") {\n",
       "      displayChart(vegaEmbed);\n",
       "    } else {\n",
       "      loadScript(\"vega\")\n",
       "        .then(() => loadScript(\"vega-lite\"))\n",
       "        .then(() => loadScript(\"vega-embed\"))\n",
       "        .catch(showError)\n",
       "        .then(() => displayChart(vegaEmbed));\n",
       "    }\n",
       "  })({\"config\": {\"view\": {\"continuousWidth\": 400, \"continuousHeight\": 300}, \"axis\": {\"labelFontSize\": 11, \"titleFontSize\": 12}}, \"layer\": [{\"mark\": \"bar\", \"encoding\": {\"color\": {\"condition\": {\"value\": \"orange\", \"test\": \"(datum.emotion === 'Neutral')\"}, \"value\": \"#0570b0\"}, \"x\": {\"type\": \"quantitative\", \"axis\": {\"format\": \".0%\"}, \"field\": \"percent\"}, \"y\": {\"type\": \"nominal\", \"field\": \"emotion\", \"sort\": \"-x\"}}, \"title\": \"Expected label: neutral | n = 612\"}, {\"mark\": {\"type\": \"text\", \"align\": \"left\", \"baseline\": \"middle\", \"dx\": 3, \"fontSize\": 12, \"fontWeight\": \"bold\"}, \"encoding\": {\"color\": {\"condition\": {\"value\": \"orange\", \"test\": \"(datum.emotion === 'Neutral')\"}, \"value\": \"#0570b0\"}, \"text\": {\"type\": \"quantitative\", \"field\": \"percent\", \"format\": \".1%\"}, \"x\": {\"type\": \"quantitative\", \"axis\": {\"format\": \".0%\"}, \"field\": \"percent\"}, \"y\": {\"type\": \"nominal\", \"field\": \"emotion\", \"sort\": \"-x\"}}, \"title\": \"Expected label: neutral | n = 612\"}], \"data\": {\"name\": \"data-50fab6b9baed5813eb2358653a420b46\"}, \"height\": 250, \"width\": 450, \"$schema\": \"https://vega.github.io/schema/vega-lite/v4.8.1.json\", \"datasets\": {\"data-50fab6b9baed5813eb2358653a420b46\": [{\"counts\": 432, \"emotion\": \"Neutral\", \"percent\": 0.7058823529411765}, {\"counts\": 45, \"emotion\": \"Other\", \"percent\": 0.07352941176470588}, {\"counts\": 39, \"emotion\": \"Uncertain\", \"percent\": 0.06372549019607843}, {\"counts\": 24, \"emotion\": \"Disgust\", \"percent\": 0.0392156862745098}, {\"counts\": 18, \"emotion\": \"Happiness\", \"percent\": 0.029411764705882353}, {\"counts\": 17, \"emotion\": \"Anger\", \"percent\": 0.027777777777777776}, {\"counts\": 13, \"emotion\": \"Surprise\", \"percent\": 0.021241830065359478}, {\"counts\": 12, \"emotion\": \"Sadness\", \"percent\": 0.0196078431372549}, {\"counts\": 12, \"emotion\": \"Fear\", \"percent\": 0.0196078431372549}]}}, {\"renderer\": \"svg\", \"mode\": \"vega-lite\"});\n",
       "</script>"
      ],
      "text/plain": [
       "alt.LayerChart(...)"
      ]
     },
     "metadata": {},
     "output_type": "display_data"
    }
   ],
   "source": [
    "chart_neutral_bipoc = wrapper_chart_emotion(df_emo_answers, 'neutral', 'bipoc')\n",
    "chart_neutral_white = wrapper_chart_emotion(df_emo_answers, 'neutral', 'white')"
   ]
  },
  {
   "cell_type": "markdown",
   "id": "c7307bde-32fc-41a4-bdb9-7d31600fc5a6",
   "metadata": {},
   "source": [
    "### Uncertain/Other"
   ]
  },
  {
   "cell_type": "code",
   "execution_count": 38,
   "id": "7c5bbf1c-8381-42ab-bc38-ef8011b221f6",
   "metadata": {},
   "outputs": [
    {
     "data": {
      "text/html": [
       "\n",
       "<div id=\"altair-viz-3a58b1d22d704106bd7c3d9b43d39ee2\"></div>\n",
       "<script type=\"text/javascript\">\n",
       "  (function(spec, embedOpt){\n",
       "    let outputDiv = document.currentScript.previousElementSibling;\n",
       "    if (outputDiv.id !== \"altair-viz-3a58b1d22d704106bd7c3d9b43d39ee2\") {\n",
       "      outputDiv = document.getElementById(\"altair-viz-3a58b1d22d704106bd7c3d9b43d39ee2\");\n",
       "    }\n",
       "    const paths = {\n",
       "      \"vega\": \"https://cdn.jsdelivr.net/npm//vega@5?noext\",\n",
       "      \"vega-lib\": \"https://cdn.jsdelivr.net/npm//vega-lib?noext\",\n",
       "      \"vega-lite\": \"https://cdn.jsdelivr.net/npm//vega-lite@4.8.1?noext\",\n",
       "      \"vega-embed\": \"https://cdn.jsdelivr.net/npm//vega-embed@6?noext\",\n",
       "    };\n",
       "\n",
       "    function loadScript(lib) {\n",
       "      return new Promise(function(resolve, reject) {\n",
       "        var s = document.createElement('script');\n",
       "        s.src = paths[lib];\n",
       "        s.async = true;\n",
       "        s.onload = () => resolve(paths[lib]);\n",
       "        s.onerror = () => reject(`Error loading script: ${paths[lib]}`);\n",
       "        document.getElementsByTagName(\"head\")[0].appendChild(s);\n",
       "      });\n",
       "    }\n",
       "\n",
       "    function showError(err) {\n",
       "      outputDiv.innerHTML = `<div class=\"error\" style=\"color:red;\">${err}</div>`;\n",
       "      throw err;\n",
       "    }\n",
       "\n",
       "    function displayChart(vegaEmbed) {\n",
       "      vegaEmbed(outputDiv, spec, embedOpt)\n",
       "        .catch(err => showError(`Javascript Error: ${err.message}<br>This usually means there's a typo in your chart specification. See the javascript console for the full traceback.`));\n",
       "    }\n",
       "\n",
       "    if(typeof define === \"function\" && define.amd) {\n",
       "      requirejs.config({paths});\n",
       "      require([\"vega-embed\"], displayChart, err => showError(`Error loading script: ${err.message}`));\n",
       "    } else if (typeof vegaEmbed === \"function\") {\n",
       "      displayChart(vegaEmbed);\n",
       "    } else {\n",
       "      loadScript(\"vega\")\n",
       "        .then(() => loadScript(\"vega-lite\"))\n",
       "        .then(() => loadScript(\"vega-embed\"))\n",
       "        .catch(showError)\n",
       "        .then(() => displayChart(vegaEmbed));\n",
       "    }\n",
       "  })({\"config\": {\"view\": {\"continuousWidth\": 400, \"continuousHeight\": 300}, \"axis\": {\"labelFontSize\": 11, \"titleFontSize\": 12}}, \"layer\": [{\"mark\": \"bar\", \"encoding\": {\"color\": {\"condition\": {\"value\": \"orange\", \"test\": \"(datum.emotion === 'Uncertain')\"}, \"value\": \"#0570b0\"}, \"x\": {\"type\": \"quantitative\", \"axis\": {\"format\": \".0%\"}, \"field\": \"percent\"}, \"y\": {\"type\": \"nominal\", \"field\": \"emotion\", \"sort\": \"-x\"}}, \"title\": \"Expected label: uncertain | n = 612\"}, {\"mark\": {\"type\": \"text\", \"align\": \"left\", \"baseline\": \"middle\", \"dx\": 3, \"fontSize\": 12, \"fontWeight\": \"bold\"}, \"encoding\": {\"color\": {\"condition\": {\"value\": \"orange\", \"test\": \"(datum.emotion === 'Uncertain')\"}, \"value\": \"#0570b0\"}, \"text\": {\"type\": \"quantitative\", \"field\": \"percent\", \"format\": \".1%\"}, \"x\": {\"type\": \"quantitative\", \"axis\": {\"format\": \".0%\"}, \"field\": \"percent\"}, \"y\": {\"type\": \"nominal\", \"field\": \"emotion\", \"sort\": \"-x\"}}, \"title\": \"Expected label: uncertain | n = 612\"}], \"data\": {\"name\": \"data-3af8cb3587f2adb97fe69a0eb5b6590e\"}, \"height\": 250, \"width\": 450, \"$schema\": \"https://vega.github.io/schema/vega-lite/v4.8.1.json\", \"datasets\": {\"data-3af8cb3587f2adb97fe69a0eb5b6590e\": [{\"counts\": 160, \"emotion\": \"Other\", \"percent\": 0.26143790849673204}, {\"counts\": 153, \"emotion\": \"Happiness\", \"percent\": 0.25}, {\"counts\": 103, \"emotion\": \"Uncertain\", \"percent\": 0.16830065359477125}, {\"counts\": 87, \"emotion\": \"Neutral\", \"percent\": 0.14215686274509803}, {\"counts\": 53, \"emotion\": \"Disgust\", \"percent\": 0.08660130718954248}, {\"counts\": 17, \"emotion\": \"Sadness\", \"percent\": 0.027777777777777776}, {\"counts\": 14, \"emotion\": \"Surprise\", \"percent\": 0.02287581699346405}, {\"counts\": 13, \"emotion\": \"Fear\", \"percent\": 0.021241830065359478}, {\"counts\": 12, \"emotion\": \"Anger\", \"percent\": 0.0196078431372549}]}}, {\"renderer\": \"svg\", \"mode\": \"vega-lite\"});\n",
       "</script>"
      ],
      "text/plain": [
       "alt.LayerChart(...)"
      ]
     },
     "metadata": {},
     "output_type": "display_data"
    },
    {
     "data": {
      "text/html": [
       "\n",
       "<div id=\"altair-viz-d6c61c55961b4077957031c2a9dee4a3\"></div>\n",
       "<script type=\"text/javascript\">\n",
       "  (function(spec, embedOpt){\n",
       "    let outputDiv = document.currentScript.previousElementSibling;\n",
       "    if (outputDiv.id !== \"altair-viz-d6c61c55961b4077957031c2a9dee4a3\") {\n",
       "      outputDiv = document.getElementById(\"altair-viz-d6c61c55961b4077957031c2a9dee4a3\");\n",
       "    }\n",
       "    const paths = {\n",
       "      \"vega\": \"https://cdn.jsdelivr.net/npm//vega@5?noext\",\n",
       "      \"vega-lib\": \"https://cdn.jsdelivr.net/npm//vega-lib?noext\",\n",
       "      \"vega-lite\": \"https://cdn.jsdelivr.net/npm//vega-lite@4.8.1?noext\",\n",
       "      \"vega-embed\": \"https://cdn.jsdelivr.net/npm//vega-embed@6?noext\",\n",
       "    };\n",
       "\n",
       "    function loadScript(lib) {\n",
       "      return new Promise(function(resolve, reject) {\n",
       "        var s = document.createElement('script');\n",
       "        s.src = paths[lib];\n",
       "        s.async = true;\n",
       "        s.onload = () => resolve(paths[lib]);\n",
       "        s.onerror = () => reject(`Error loading script: ${paths[lib]}`);\n",
       "        document.getElementsByTagName(\"head\")[0].appendChild(s);\n",
       "      });\n",
       "    }\n",
       "\n",
       "    function showError(err) {\n",
       "      outputDiv.innerHTML = `<div class=\"error\" style=\"color:red;\">${err}</div>`;\n",
       "      throw err;\n",
       "    }\n",
       "\n",
       "    function displayChart(vegaEmbed) {\n",
       "      vegaEmbed(outputDiv, spec, embedOpt)\n",
       "        .catch(err => showError(`Javascript Error: ${err.message}<br>This usually means there's a typo in your chart specification. See the javascript console for the full traceback.`));\n",
       "    }\n",
       "\n",
       "    if(typeof define === \"function\" && define.amd) {\n",
       "      requirejs.config({paths});\n",
       "      require([\"vega-embed\"], displayChart, err => showError(`Error loading script: ${err.message}`));\n",
       "    } else if (typeof vegaEmbed === \"function\") {\n",
       "      displayChart(vegaEmbed);\n",
       "    } else {\n",
       "      loadScript(\"vega\")\n",
       "        .then(() => loadScript(\"vega-lite\"))\n",
       "        .then(() => loadScript(\"vega-embed\"))\n",
       "        .catch(showError)\n",
       "        .then(() => displayChart(vegaEmbed));\n",
       "    }\n",
       "  })({\"config\": {\"view\": {\"continuousWidth\": 400, \"continuousHeight\": 300}, \"axis\": {\"labelFontSize\": 11, \"titleFontSize\": 12}}, \"layer\": [{\"mark\": \"bar\", \"encoding\": {\"color\": {\"condition\": {\"value\": \"orange\", \"test\": \"(datum.emotion === 'Uncertain')\"}, \"value\": \"#0570b0\"}, \"x\": {\"type\": \"quantitative\", \"axis\": {\"format\": \".0%\"}, \"field\": \"percent\"}, \"y\": {\"type\": \"nominal\", \"field\": \"emotion\", \"sort\": \"-x\"}}, \"title\": \"Expected label: uncertain | n = 612\"}, {\"mark\": {\"type\": \"text\", \"align\": \"left\", \"baseline\": \"middle\", \"dx\": 3, \"fontSize\": 12, \"fontWeight\": \"bold\"}, \"encoding\": {\"color\": {\"condition\": {\"value\": \"orange\", \"test\": \"(datum.emotion === 'Uncertain')\"}, \"value\": \"#0570b0\"}, \"text\": {\"type\": \"quantitative\", \"field\": \"percent\", \"format\": \".1%\"}, \"x\": {\"type\": \"quantitative\", \"axis\": {\"format\": \".0%\"}, \"field\": \"percent\"}, \"y\": {\"type\": \"nominal\", \"field\": \"emotion\", \"sort\": \"-x\"}}, \"title\": \"Expected label: uncertain | n = 612\"}], \"data\": {\"name\": \"data-8d1f40d23cbb99f5e5571998f3592fe7\"}, \"height\": 250, \"width\": 450, \"$schema\": \"https://vega.github.io/schema/vega-lite/v4.8.1.json\", \"datasets\": {\"data-8d1f40d23cbb99f5e5571998f3592fe7\": [{\"counts\": 136, \"emotion\": \"Other\", \"percent\": 0.2222222222222222}, {\"counts\": 115, \"emotion\": \"Surprise\", \"percent\": 0.18790849673202614}, {\"counts\": 98, \"emotion\": \"Uncertain\", \"percent\": 0.16013071895424835}, {\"counts\": 64, \"emotion\": \"Disgust\", \"percent\": 0.10457516339869281}, {\"counts\": 60, \"emotion\": \"Neutral\", \"percent\": 0.09803921568627451}, {\"counts\": 51, \"emotion\": \"Happiness\", \"percent\": 0.08333333333333333}, {\"counts\": 47, \"emotion\": \"Anger\", \"percent\": 0.07679738562091504}, {\"counts\": 29, \"emotion\": \"Sadness\", \"percent\": 0.04738562091503268}, {\"counts\": 12, \"emotion\": \"Fear\", \"percent\": 0.0196078431372549}]}}, {\"renderer\": \"svg\", \"mode\": \"vega-lite\"});\n",
       "</script>"
      ],
      "text/plain": [
       "alt.LayerChart(...)"
      ]
     },
     "metadata": {},
     "output_type": "display_data"
    }
   ],
   "source": [
    "chart_uncertain_bipoc = wrapper_chart_emotion(df_emo_answers, 'uncertain', 'bipoc')\n",
    "chart_uncertain_white = wrapper_chart_emotion(df_emo_answers, 'uncertain', 'white')"
   ]
  },
  {
   "cell_type": "code",
   "execution_count": 39,
   "metadata": {},
   "outputs": [
    {
     "data": {
      "text/plain": [
       "['Happiness',\n",
       " 'Neutral',\n",
       " 'Surprise',\n",
       " 'Sadness',\n",
       " 'Disgust',\n",
       " 'Anger',\n",
       " 'Other',\n",
       " 'Fear',\n",
       " 'Uncertain']"
      ]
     },
     "execution_count": 39,
     "metadata": {},
     "output_type": "execute_result"
    }
   ],
   "source": [
    "count_freq_labels(df_emo_answers, X=\"all\")['emotion'].tolist() "
   ]
  }
 ],
 "metadata": {
  "interpreter": {
   "hash": "0353e939db601dafb04d2c079fe964b10a82a41961934d9a2462ee642708624d"
  },
  "kernelspec": {
   "display_name": "Python 3.9.7 64-bit ('venv': conda)",
   "name": "python3"
  },
  "language_info": {
   "codemirror_mode": {
    "name": "ipython",
    "version": 3
   },
   "file_extension": ".py",
   "mimetype": "text/x-python",
   "name": "python",
   "nbconvert_exporter": "python",
   "pygments_lexer": "ipython3",
   "version": "3.9.7"
  }
 },
 "nbformat": 4,
 "nbformat_minor": 5
}
