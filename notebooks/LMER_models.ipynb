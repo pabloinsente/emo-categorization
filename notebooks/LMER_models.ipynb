{
 "cells": [
  {
   "cell_type": "code",
   "execution_count": 35,
   "id": "3a00be86-2ebf-402f-b132-bf2d9d98e958",
   "metadata": {},
   "outputs": [],
   "source": [
    "import pandas as pd"
   ]
  },
  {
   "cell_type": "code",
   "execution_count": 36,
   "id": "eed4ea2f-53a3-45f4-b5f9-569b4f017de7",
   "metadata": {},
   "outputs": [],
   "source": [
    "df = pd.read_csv('../clean_data/forced_choice_emotion_uw_students.csv')\n",
    "df_labels = pd.read_csv('../data/emotion_labels.csv')"
   ]
  },
  {
   "cell_type": "code",
   "execution_count": 37,
   "id": "b4dab471-b181-4da8-a37a-4c69d145ff79",
   "metadata": {},
   "outputs": [],
   "source": [
    "df_emo_answers = df.loc[:, 'Q2.1':'Q195.1'] # subset photos"
   ]
  },
  {
   "cell_type": "markdown",
   "id": "1791c825-98ff-4007-a838-1819245300b7",
   "metadata": {},
   "source": [
    "# Long format DF"
   ]
  },
  {
   "cell_type": "code",
   "execution_count": 38,
   "id": "6f09c365-9717-4c41-a6d5-10bee08f0b7f",
   "metadata": {},
   "outputs": [
    {
     "data": {
      "text/html": [
       "<div>\n",
       "<style scoped>\n",
       "    .dataframe tbody tr th:only-of-type {\n",
       "        vertical-align: middle;\n",
       "    }\n",
       "\n",
       "    .dataframe tbody tr th {\n",
       "        vertical-align: top;\n",
       "    }\n",
       "\n",
       "    .dataframe thead th {\n",
       "        text-align: right;\n",
       "    }\n",
       "</style>\n",
       "<table border=\"1\" class=\"dataframe\">\n",
       "  <thead>\n",
       "    <tr style=\"text-align: right;\">\n",
       "      <th></th>\n",
       "      <th>participantId</th>\n",
       "      <th>Q2.1</th>\n",
       "      <th>Q3.1</th>\n",
       "      <th>Q4.1</th>\n",
       "      <th>Q5.1</th>\n",
       "      <th>Q6.1</th>\n",
       "      <th>Q7.1</th>\n",
       "      <th>Q8.1</th>\n",
       "      <th>Q9.1</th>\n",
       "      <th>Q10.1</th>\n",
       "      <th>...</th>\n",
       "      <th>Q186.1</th>\n",
       "      <th>Q187.1</th>\n",
       "      <th>Q188.1</th>\n",
       "      <th>Q189.1</th>\n",
       "      <th>Q190.1</th>\n",
       "      <th>Q191.1</th>\n",
       "      <th>Q192.1</th>\n",
       "      <th>Q193.1</th>\n",
       "      <th>Q194.1</th>\n",
       "      <th>Q195.1</th>\n",
       "    </tr>\n",
       "  </thead>\n",
       "  <tbody>\n",
       "    <tr>\n",
       "      <th>0</th>\n",
       "      <td>0</td>\n",
       "      <td>Neutral</td>\n",
       "      <td>Anger</td>\n",
       "      <td>Anger</td>\n",
       "      <td>Anger</td>\n",
       "      <td>Anger</td>\n",
       "      <td>Anger</td>\n",
       "      <td>Anger</td>\n",
       "      <td>Happiness</td>\n",
       "      <td>Disgust</td>\n",
       "      <td>...</td>\n",
       "      <td>Surprise</td>\n",
       "      <td>Neutral</td>\n",
       "      <td>Happiness</td>\n",
       "      <td>Happiness</td>\n",
       "      <td>Other</td>\n",
       "      <td>Other</td>\n",
       "      <td>Uncertain</td>\n",
       "      <td>Uncertain</td>\n",
       "      <td>Other</td>\n",
       "      <td>Neutral</td>\n",
       "    </tr>\n",
       "    <tr>\n",
       "      <th>1</th>\n",
       "      <td>1</td>\n",
       "      <td>Anger</td>\n",
       "      <td>Anger</td>\n",
       "      <td>Anger</td>\n",
       "      <td>Sadness</td>\n",
       "      <td>Anger</td>\n",
       "      <td>Anger</td>\n",
       "      <td>Fear</td>\n",
       "      <td>Anger</td>\n",
       "      <td>Other</td>\n",
       "      <td>...</td>\n",
       "      <td>Surprise</td>\n",
       "      <td>Surprise</td>\n",
       "      <td>Happiness</td>\n",
       "      <td>Happiness</td>\n",
       "      <td>Disgust</td>\n",
       "      <td>Uncertain</td>\n",
       "      <td>Other</td>\n",
       "      <td>Anger</td>\n",
       "      <td>Uncertain</td>\n",
       "      <td>Uncertain</td>\n",
       "    </tr>\n",
       "  </tbody>\n",
       "</table>\n",
       "<p>2 rows × 195 columns</p>\n",
       "</div>"
      ],
      "text/plain": [
       "   participantId     Q2.1   Q3.1   Q4.1     Q5.1   Q6.1   Q7.1   Q8.1  \\\n",
       "0              0  Neutral  Anger  Anger    Anger  Anger  Anger  Anger   \n",
       "1              1    Anger  Anger  Anger  Sadness  Anger  Anger   Fear   \n",
       "\n",
       "        Q9.1    Q10.1  ...    Q186.1    Q187.1     Q188.1     Q189.1   Q190.1  \\\n",
       "0  Happiness  Disgust  ...  Surprise   Neutral  Happiness  Happiness    Other   \n",
       "1      Anger    Other  ...  Surprise  Surprise  Happiness  Happiness  Disgust   \n",
       "\n",
       "      Q191.1     Q192.1     Q193.1     Q194.1     Q195.1  \n",
       "0      Other  Uncertain  Uncertain      Other    Neutral  \n",
       "1  Uncertain      Other      Anger  Uncertain  Uncertain  \n",
       "\n",
       "[2 rows x 195 columns]"
      ]
     },
     "execution_count": 38,
     "metadata": {},
     "output_type": "execute_result"
    }
   ],
   "source": [
    "df_emo_answers_long = df_emo_answers.reset_index()\n",
    "df_emo_answers_long['index'] = df_emo_answers_long.index\n",
    "df_emo_answers_long = df_emo_answers_long.rename(columns={'index':'participantId'})\n",
    "df_emo_answers_long.head(2)"
   ]
  },
  {
   "cell_type": "code",
   "execution_count": 39,
   "id": "59b4216f-96f3-4dd6-b332-fbcb6bbf6fa0",
   "metadata": {},
   "outputs": [],
   "source": [
    "df_labels['photoId'] =  df_labels['photoId'].str.strip()\n",
    "photoIds = df_labels['photoId'].tolist()"
   ]
  },
  {
   "cell_type": "code",
   "execution_count": 40,
   "id": "103fc155-c2e0-4a8c-9583-30bb293e50a9",
   "metadata": {},
   "outputs": [],
   "source": [
    "df_emo_answers_long = pd.melt(df_emo_answers_long, id_vars=['participantId'], value_vars=photoIds).reset_index(drop=True).sort_values(by=['participantId'])"
   ]
  },
  {
   "cell_type": "code",
   "execution_count": 41,
   "id": "fd9ef761-c2ca-41d5-a566-f200b0516d3b",
   "metadata": {},
   "outputs": [],
   "source": [
    "df_emo_answers_long = df_emo_answers_long.rename(columns={'variable':'photoId', 'value':'emotion'})"
   ]
  },
  {
   "cell_type": "code",
   "execution_count": 42,
   "id": "73ef6d9d-5859-463f-9778-a178d8c47637",
   "metadata": {},
   "outputs": [],
   "source": [
    "df_emo_answers_long_m = pd.merge(df_emo_answers_long, df_labels, how=\"left\", on=[\"photoId\"], validate=\"many_to_one\")"
   ]
  },
  {
   "cell_type": "code",
   "execution_count": 43,
   "id": "16cf294d-c586-4ea7-b045-f51e7b3b8ec5",
   "metadata": {},
   "outputs": [
    {
     "data": {
      "text/html": [
       "<div>\n",
       "<style scoped>\n",
       "    .dataframe tbody tr th:only-of-type {\n",
       "        vertical-align: middle;\n",
       "    }\n",
       "\n",
       "    .dataframe tbody tr th {\n",
       "        vertical-align: top;\n",
       "    }\n",
       "\n",
       "    .dataframe thead th {\n",
       "        text-align: right;\n",
       "    }\n",
       "</style>\n",
       "<table border=\"1\" class=\"dataframe\">\n",
       "  <thead>\n",
       "    <tr style=\"text-align: right;\">\n",
       "      <th></th>\n",
       "      <th>participantId</th>\n",
       "      <th>photoId</th>\n",
       "      <th>emotion</th>\n",
       "      <th>ethnicity</th>\n",
       "      <th>sex</th>\n",
       "      <th>age</th>\n",
       "      <th>label</th>\n",
       "      <th>url</th>\n",
       "    </tr>\n",
       "  </thead>\n",
       "  <tbody>\n",
       "    <tr>\n",
       "      <th>0</th>\n",
       "      <td>0</td>\n",
       "      <td>Q2.1</td>\n",
       "      <td>Neutral</td>\n",
       "      <td>bipoc</td>\n",
       "      <td>female</td>\n",
       "      <td>adult</td>\n",
       "      <td>anger</td>\n",
       "      <td>https://uwmadison.co1.qualtrics.com/ControlPan...</td>\n",
       "    </tr>\n",
       "    <tr>\n",
       "      <th>1</th>\n",
       "      <td>0</td>\n",
       "      <td>Q163.1</td>\n",
       "      <td>Happiness</td>\n",
       "      <td>white</td>\n",
       "      <td>male</td>\n",
       "      <td>child</td>\n",
       "      <td>happiness</td>\n",
       "      <td>https://uwmadison.co1.qualtrics.com/ControlPan...</td>\n",
       "    </tr>\n",
       "  </tbody>\n",
       "</table>\n",
       "</div>"
      ],
      "text/plain": [
       "   participantId photoId    emotion ethnicity     sex    age      label  \\\n",
       "0              0    Q2.1    Neutral     bipoc  female  adult      anger   \n",
       "1              0  Q163.1  Happiness     white    male  child  happiness   \n",
       "\n",
       "                                                 url  \n",
       "0  https://uwmadison.co1.qualtrics.com/ControlPan...  \n",
       "1  https://uwmadison.co1.qualtrics.com/ControlPan...  "
      ]
     },
     "execution_count": 43,
     "metadata": {},
     "output_type": "execute_result"
    }
   ],
   "source": [
    "df_emo_answers_long_m.head(2)"
   ]
  },
  {
   "cell_type": "code",
   "execution_count": 44,
   "id": "034b89b5-eb49-4997-8bf9-91df006dffac",
   "metadata": {},
   "outputs": [],
   "source": [
    "df_emo_answers_long_m.to_csv('../clean_data/forced_choice_emotion_uw_students_long_format.csv', index=False)"
   ]
  },
  {
   "cell_type": "markdown",
   "id": "63d3282b-ce4b-4a8e-903b-09ca6b73f83a",
   "metadata": {},
   "source": [
    "# Sentiment score"
   ]
  },
  {
   "cell_type": "code",
   "execution_count": 45,
   "id": "cf831ba4-b443-48ae-ac72-af0fa693565a",
   "metadata": {},
   "outputs": [],
   "source": [
    "from nltk.sentiment import SentimentIntensityAnalyzer"
   ]
  },
  {
   "cell_type": "code",
   "execution_count": 46,
   "id": "b691762e-d485-410e-a932-59cf11fffbcb",
   "metadata": {},
   "outputs": [],
   "source": [
    "sia = SentimentIntensityAnalyzer()"
   ]
  },
  {
   "cell_type": "code",
   "execution_count": 48,
   "id": "13f34ddc-4d3f-4e81-b4a9-6b9004e80436",
   "metadata": {},
   "outputs": [],
   "source": [
    "df_emo_answers_long_m['sentimentScore'] = df_emo_answers_long_m['emotion'].apply(lambda x: sia.polarity_scores(x)['compound'])"
   ]
  },
  {
   "cell_type": "code",
   "execution_count": 49,
   "id": "668a46cf-ffe9-47cd-a9cd-1136ae0cd49f",
   "metadata": {},
   "outputs": [
    {
     "data": {
      "text/html": [
       "<div>\n",
       "<style scoped>\n",
       "    .dataframe tbody tr th:only-of-type {\n",
       "        vertical-align: middle;\n",
       "    }\n",
       "\n",
       "    .dataframe tbody tr th {\n",
       "        vertical-align: top;\n",
       "    }\n",
       "\n",
       "    .dataframe thead th {\n",
       "        text-align: right;\n",
       "    }\n",
       "</style>\n",
       "<table border=\"1\" class=\"dataframe\">\n",
       "  <thead>\n",
       "    <tr style=\"text-align: right;\">\n",
       "      <th></th>\n",
       "      <th>participantId</th>\n",
       "      <th>photoId</th>\n",
       "      <th>emotion</th>\n",
       "      <th>ethnicity</th>\n",
       "      <th>sex</th>\n",
       "      <th>age</th>\n",
       "      <th>label</th>\n",
       "      <th>url</th>\n",
       "      <th>sentimentScore</th>\n",
       "    </tr>\n",
       "  </thead>\n",
       "  <tbody>\n",
       "    <tr>\n",
       "      <th>0</th>\n",
       "      <td>0</td>\n",
       "      <td>Q2.1</td>\n",
       "      <td>Neutral</td>\n",
       "      <td>bipoc</td>\n",
       "      <td>female</td>\n",
       "      <td>adult</td>\n",
       "      <td>anger</td>\n",
       "      <td>https://uwmadison.co1.qualtrics.com/ControlPan...</td>\n",
       "      <td>0.0000</td>\n",
       "    </tr>\n",
       "    <tr>\n",
       "      <th>1</th>\n",
       "      <td>0</td>\n",
       "      <td>Q163.1</td>\n",
       "      <td>Happiness</td>\n",
       "      <td>white</td>\n",
       "      <td>male</td>\n",
       "      <td>child</td>\n",
       "      <td>happiness</td>\n",
       "      <td>https://uwmadison.co1.qualtrics.com/ControlPan...</td>\n",
       "      <td>0.5574</td>\n",
       "    </tr>\n",
       "  </tbody>\n",
       "</table>\n",
       "</div>"
      ],
      "text/plain": [
       "   participantId photoId    emotion ethnicity     sex    age      label  \\\n",
       "0              0    Q2.1    Neutral     bipoc  female  adult      anger   \n",
       "1              0  Q163.1  Happiness     white    male  child  happiness   \n",
       "\n",
       "                                                 url  sentimentScore  \n",
       "0  https://uwmadison.co1.qualtrics.com/ControlPan...          0.0000  \n",
       "1  https://uwmadison.co1.qualtrics.com/ControlPan...          0.5574  "
      ]
     },
     "execution_count": 49,
     "metadata": {},
     "output_type": "execute_result"
    }
   ],
   "source": [
    "df_emo_answers_long_m.head(2)"
   ]
  },
  {
   "cell_type": "markdown",
   "id": "0a4ed9a0-671d-4e42-8c00-7ac395989e80",
   "metadata": {},
   "source": [
    "# LMER"
   ]
  },
  {
   "cell_type": "markdown",
   "id": "4250e64c-555a-4584-b5d8-edcf06e73988",
   "metadata": {},
   "source": [
    "## Center predictors"
   ]
  },
  {
   "cell_type": "code",
   "execution_count": 50,
   "id": "b3261213-688e-4d3b-82d1-9605a05dd20a",
   "metadata": {},
   "outputs": [],
   "source": [
    "df_emo_answers_long_m['sexC'] = df_emo_answers_long_m['sex'].replace({'female': -0.5, 'male': 0.5})\n",
    "df_emo_answers_long_m['ageC'] = df_emo_answers_long_m['age'].replace({'child': -0.5, 'adult': 0.5})\n",
    "df_emo_answers_long_m['ethnicityC'] = df_emo_answers_long_m['ethnicity'].replace({'bipoc': -0.5, 'white': 0.5})"
   ]
  },
  {
   "cell_type": "code",
   "execution_count": 51,
   "id": "a07ab656-e1a4-4319-b4b4-bdec6b6d6ded",
   "metadata": {},
   "outputs": [
    {
     "data": {
      "text/html": [
       "<div>\n",
       "<style scoped>\n",
       "    .dataframe tbody tr th:only-of-type {\n",
       "        vertical-align: middle;\n",
       "    }\n",
       "\n",
       "    .dataframe tbody tr th {\n",
       "        vertical-align: top;\n",
       "    }\n",
       "\n",
       "    .dataframe thead th {\n",
       "        text-align: right;\n",
       "    }\n",
       "</style>\n",
       "<table border=\"1\" class=\"dataframe\">\n",
       "  <thead>\n",
       "    <tr style=\"text-align: right;\">\n",
       "      <th></th>\n",
       "      <th>participantId</th>\n",
       "      <th>photoId</th>\n",
       "      <th>emotion</th>\n",
       "      <th>ethnicity</th>\n",
       "      <th>sex</th>\n",
       "      <th>age</th>\n",
       "      <th>label</th>\n",
       "      <th>url</th>\n",
       "      <th>sentimentScore</th>\n",
       "      <th>sexC</th>\n",
       "      <th>ageC</th>\n",
       "      <th>ethnicityC</th>\n",
       "    </tr>\n",
       "  </thead>\n",
       "  <tbody>\n",
       "    <tr>\n",
       "      <th>0</th>\n",
       "      <td>0</td>\n",
       "      <td>Q2.1</td>\n",
       "      <td>Neutral</td>\n",
       "      <td>bipoc</td>\n",
       "      <td>female</td>\n",
       "      <td>adult</td>\n",
       "      <td>anger</td>\n",
       "      <td>https://uwmadison.co1.qualtrics.com/ControlPan...</td>\n",
       "      <td>0.0000</td>\n",
       "      <td>-0.5</td>\n",
       "      <td>0.5</td>\n",
       "      <td>-0.5</td>\n",
       "    </tr>\n",
       "    <tr>\n",
       "      <th>1</th>\n",
       "      <td>0</td>\n",
       "      <td>Q163.1</td>\n",
       "      <td>Happiness</td>\n",
       "      <td>white</td>\n",
       "      <td>male</td>\n",
       "      <td>child</td>\n",
       "      <td>happiness</td>\n",
       "      <td>https://uwmadison.co1.qualtrics.com/ControlPan...</td>\n",
       "      <td>0.5574</td>\n",
       "      <td>0.5</td>\n",
       "      <td>-0.5</td>\n",
       "      <td>0.5</td>\n",
       "    </tr>\n",
       "  </tbody>\n",
       "</table>\n",
       "</div>"
      ],
      "text/plain": [
       "   participantId photoId    emotion ethnicity     sex    age      label  \\\n",
       "0              0    Q2.1    Neutral     bipoc  female  adult      anger   \n",
       "1              0  Q163.1  Happiness     white    male  child  happiness   \n",
       "\n",
       "                                                 url  sentimentScore  sexC  \\\n",
       "0  https://uwmadison.co1.qualtrics.com/ControlPan...          0.0000  -0.5   \n",
       "1  https://uwmadison.co1.qualtrics.com/ControlPan...          0.5574   0.5   \n",
       "\n",
       "   ageC  ethnicityC  \n",
       "0   0.5        -0.5  \n",
       "1  -0.5         0.5  "
      ]
     },
     "execution_count": 51,
     "metadata": {},
     "output_type": "execute_result"
    }
   ],
   "source": [
    "df_emo_answers_long_m.head(2)"
   ]
  },
  {
   "cell_type": "code",
   "execution_count": 73,
   "id": "8582a97c-34f0-4b7e-8fba-1d206af87c94",
   "metadata": {},
   "outputs": [],
   "source": [
    "df_emo_answers_long_m_fil = df_emo_answers_long_m[df_emo_answers_long_m['label'] != 'attention']\n",
    "df_emo_answers_long_m_fil = df_emo_answers_long_m_fil.reset_index(drop=True)"
   ]
  },
  {
   "cell_type": "markdown",
   "id": "76e29210-af6d-4d8c-9db5-271814941079",
   "metadata": {},
   "source": [
    "## Run model"
   ]
  },
  {
   "cell_type": "code",
   "execution_count": 78,
   "id": "694a91a4-946f-4a45-8f8b-f7bdcdd79946",
   "metadata": {},
   "outputs": [],
   "source": [
    "# model = Lmer('sentimentScore ~ ethnicityC + sexC + (ethnicityC+sexC|participantId)', data=df_emo_answers_long_m)"
   ]
  },
  {
   "cell_type": "code",
   "execution_count": null,
   "id": "2891b62e-fcd3-45d7-8a92-eb51514030a0",
   "metadata": {},
   "outputs": [],
   "source": [
    "# model.fit()"
   ]
  },
  {
   "cell_type": "code",
   "execution_count": 76,
   "id": "e15a5e3d-f22b-437b-b5c0-48df1f4bb79a",
   "metadata": {},
   "outputs": [],
   "source": [
    "# model_int = Lmer('sentimentScore ~ ethnicityC + sexC + (ethnicityC+sexC|participantId)', data=df_emo_answers_long_m)"
   ]
  },
  {
   "cell_type": "code",
   "execution_count": 77,
   "id": "22004fc8-d998-4a25-9b8a-b2cf21a020f9",
   "metadata": {},
   "outputs": [],
   "source": [
    "# model_int.fit()"
   ]
  },
  {
   "cell_type": "code",
   "execution_count": 98,
   "id": "b8627808-f045-4cd7-8d9e-72878aa9d61e",
   "metadata": {},
   "outputs": [],
   "source": [
    "import statsmodels.api as sm\n",
    "import statsmodels.formula.api as smf\n",
    "from statsmodels.tools.sm_exceptions import ConvergenceWarning"
   ]
  },
  {
   "cell_type": "code",
   "execution_count": 99,
   "id": "671308cb-f059-44a4-abb2-19ed10492335",
   "metadata": {},
   "outputs": [],
   "source": [
    "md = smf.mixedlm(\"sentimentScore ~  ethnicityC*sexC*ageC\", df_emo_answers_long_m_fil, groups=df_emo_answers_long_m_fil[\"participantId\"])"
   ]
  },
  {
   "cell_type": "code",
   "execution_count": 100,
   "id": "8ddfdde7-0188-4c64-b0f8-a2221ca8a3a3",
   "metadata": {},
   "outputs": [
    {
     "name": "stderr",
     "output_type": "stream",
     "text": [
      "/home/pablo_ubuntu/miniconda3/envs/venv/lib/python3.9/site-packages/statsmodels/regression/mixed_linear_model.py:1634: UserWarning: Random effects covariance is singular\n",
      "  warnings.warn(msg)\n",
      "/home/pablo_ubuntu/miniconda3/envs/venv/lib/python3.9/site-packages/statsmodels/regression/mixed_linear_model.py:2054: UserWarning: The random effects covariance matrix is singular.\n",
      "  warnings.warn(_warn_cov_sing)\n",
      "/home/pablo_ubuntu/miniconda3/envs/venv/lib/python3.9/site-packages/statsmodels/regression/mixed_linear_model.py:2237: ConvergenceWarning: The MLE may be on the boundary of the parameter space.\n",
      "  warnings.warn(msg, ConvergenceWarning)\n",
      "/home/pablo_ubuntu/miniconda3/envs/venv/lib/python3.9/site-packages/statsmodels/regression/mixed_linear_model.py:2245: UserWarning: The random effects covariance matrix is singular.\n",
      "  warnings.warn(_warn_cov_sing)\n",
      "/home/pablo_ubuntu/miniconda3/envs/venv/lib/python3.9/site-packages/statsmodels/regression/mixed_linear_model.py:2261: ConvergenceWarning: The Hessian matrix at the estimated parameter values is not positive definite.\n",
      "  warnings.warn(msg, ConvergenceWarning)\n"
     ]
    }
   ],
   "source": [
    "mdf = md.fit(method=[\"lbfgs\"])"
   ]
  },
  {
   "cell_type": "code",
   "execution_count": 101,
   "id": "beeb4fbf-9001-4a1f-b037-a221bb431c7a",
   "metadata": {},
   "outputs": [
    {
     "name": "stdout",
     "output_type": "stream",
     "text": [
      "             Mixed Linear Model Regression Results\n",
      "===============================================================\n",
      "Model:             MixedLM  Dependent Variable:  sentimentScore\n",
      "No. Observations:  9792     Method:              REML          \n",
      "No. Groups:        51       Scale:               0.1682        \n",
      "Min. group size:   192      Log-Likelihood:      inf           \n",
      "Max. group size:   192      Converged:           Yes           \n",
      "Mean group size:   192.0                                       \n",
      "---------------------------------------------------------------\n",
      "                     Coef.  Std.Err.   z    P>|z| [0.025 0.975]\n",
      "---------------------------------------------------------------\n",
      "Intercept             0.035                                    \n",
      "ethnicityC            0.029    0.008  3.463 0.001  0.012  0.045\n",
      "sexC                 -0.016    0.008 -1.932 0.053 -0.032  0.000\n",
      "ethnicityC:sexC       0.041    0.017  2.465 0.014  0.008  0.073\n",
      "ageC                 -0.030    0.008 -3.561 0.000 -0.046 -0.013\n",
      "ethnicityC:ageC       0.040    0.017  2.416 0.016  0.008  0.073\n",
      "sexC:ageC             0.016    0.017  0.940 0.347 -0.017  0.048\n",
      "ethnicityC:sexC:ageC  0.048    0.033  1.451 0.147 -0.017  0.113\n",
      "Group Var             0.000                                    \n",
      "===============================================================\n",
      "\n"
     ]
    },
    {
     "name": "stderr",
     "output_type": "stream",
     "text": [
      "/home/pablo_ubuntu/miniconda3/envs/venv/lib/python3.9/site-packages/statsmodels/regression/mixed_linear_model.py:2705: RuntimeWarning: invalid value encountered in sqrt\n",
      "  sdf[0:self.k_fe, 1] = np.sqrt(np.diag(self.cov_params()[0:self.k_fe]))\n"
     ]
    }
   ],
   "source": [
    "print(mdf.summary())"
   ]
  },
  {
   "cell_type": "code",
   "execution_count": 102,
   "id": "6dc6381c-7774-4b4d-82db-adc3f6a1d3ec",
   "metadata": {},
   "outputs": [
    {
     "ename": "ModuleNotFoundError",
     "evalue": "No module named 'rpy2'",
     "output_type": "error",
     "traceback": [
      "\u001b[0;31m---------------------------------------------------------------------------\u001b[0m",
      "\u001b[0;31mModuleNotFoundError\u001b[0m                       Traceback (most recent call last)",
      "\u001b[0;32m/tmp/ipykernel_8840/1837600852.py\u001b[0m in \u001b[0;36m<module>\u001b[0;34m\u001b[0m\n\u001b[0;32m----> 1\u001b[0;31m \u001b[0mget_ipython\u001b[0m\u001b[0;34m(\u001b[0m\u001b[0;34m)\u001b[0m\u001b[0;34m.\u001b[0m\u001b[0mrun_line_magic\u001b[0m\u001b[0;34m(\u001b[0m\u001b[0;34m'load_ext'\u001b[0m\u001b[0;34m,\u001b[0m \u001b[0;34m'rpy2.ipython'\u001b[0m\u001b[0;34m)\u001b[0m\u001b[0;34m\u001b[0m\u001b[0;34m\u001b[0m\u001b[0m\n\u001b[0m",
      "\u001b[0;32m~/miniconda3/envs/venv/lib/python3.9/site-packages/IPython/core/interactiveshell.py\u001b[0m in \u001b[0;36mrun_line_magic\u001b[0;34m(self, magic_name, line, _stack_depth)\u001b[0m\n\u001b[1;32m   2346\u001b[0m                 \u001b[0mkwargs\u001b[0m\u001b[0;34m[\u001b[0m\u001b[0;34m'local_ns'\u001b[0m\u001b[0;34m]\u001b[0m \u001b[0;34m=\u001b[0m \u001b[0mself\u001b[0m\u001b[0;34m.\u001b[0m\u001b[0mget_local_scope\u001b[0m\u001b[0;34m(\u001b[0m\u001b[0mstack_depth\u001b[0m\u001b[0;34m)\u001b[0m\u001b[0;34m\u001b[0m\u001b[0;34m\u001b[0m\u001b[0m\n\u001b[1;32m   2347\u001b[0m             \u001b[0;32mwith\u001b[0m \u001b[0mself\u001b[0m\u001b[0;34m.\u001b[0m\u001b[0mbuiltin_trap\u001b[0m\u001b[0;34m:\u001b[0m\u001b[0;34m\u001b[0m\u001b[0;34m\u001b[0m\u001b[0m\n\u001b[0;32m-> 2348\u001b[0;31m                 \u001b[0mresult\u001b[0m \u001b[0;34m=\u001b[0m \u001b[0mfn\u001b[0m\u001b[0;34m(\u001b[0m\u001b[0;34m*\u001b[0m\u001b[0margs\u001b[0m\u001b[0;34m,\u001b[0m \u001b[0;34m**\u001b[0m\u001b[0mkwargs\u001b[0m\u001b[0;34m)\u001b[0m\u001b[0;34m\u001b[0m\u001b[0;34m\u001b[0m\u001b[0m\n\u001b[0m\u001b[1;32m   2349\u001b[0m             \u001b[0;32mreturn\u001b[0m \u001b[0mresult\u001b[0m\u001b[0;34m\u001b[0m\u001b[0;34m\u001b[0m\u001b[0m\n\u001b[1;32m   2350\u001b[0m \u001b[0;34m\u001b[0m\u001b[0m\n",
      "\u001b[0;32m~/miniconda3/envs/venv/lib/python3.9/site-packages/decorator.py\u001b[0m in \u001b[0;36mfun\u001b[0;34m(*args, **kw)\u001b[0m\n\u001b[1;32m    230\u001b[0m             \u001b[0;32mif\u001b[0m \u001b[0;32mnot\u001b[0m \u001b[0mkwsyntax\u001b[0m\u001b[0;34m:\u001b[0m\u001b[0;34m\u001b[0m\u001b[0;34m\u001b[0m\u001b[0m\n\u001b[1;32m    231\u001b[0m                 \u001b[0margs\u001b[0m\u001b[0;34m,\u001b[0m \u001b[0mkw\u001b[0m \u001b[0;34m=\u001b[0m \u001b[0mfix\u001b[0m\u001b[0;34m(\u001b[0m\u001b[0margs\u001b[0m\u001b[0;34m,\u001b[0m \u001b[0mkw\u001b[0m\u001b[0;34m,\u001b[0m \u001b[0msig\u001b[0m\u001b[0;34m)\u001b[0m\u001b[0;34m\u001b[0m\u001b[0;34m\u001b[0m\u001b[0m\n\u001b[0;32m--> 232\u001b[0;31m             \u001b[0;32mreturn\u001b[0m \u001b[0mcaller\u001b[0m\u001b[0;34m(\u001b[0m\u001b[0mfunc\u001b[0m\u001b[0;34m,\u001b[0m \u001b[0;34m*\u001b[0m\u001b[0;34m(\u001b[0m\u001b[0mextras\u001b[0m \u001b[0;34m+\u001b[0m \u001b[0margs\u001b[0m\u001b[0;34m)\u001b[0m\u001b[0;34m,\u001b[0m \u001b[0;34m**\u001b[0m\u001b[0mkw\u001b[0m\u001b[0;34m)\u001b[0m\u001b[0;34m\u001b[0m\u001b[0;34m\u001b[0m\u001b[0m\n\u001b[0m\u001b[1;32m    233\u001b[0m     \u001b[0mfun\u001b[0m\u001b[0;34m.\u001b[0m\u001b[0m__name__\u001b[0m \u001b[0;34m=\u001b[0m \u001b[0mfunc\u001b[0m\u001b[0;34m.\u001b[0m\u001b[0m__name__\u001b[0m\u001b[0;34m\u001b[0m\u001b[0;34m\u001b[0m\u001b[0m\n\u001b[1;32m    234\u001b[0m     \u001b[0mfun\u001b[0m\u001b[0;34m.\u001b[0m\u001b[0m__doc__\u001b[0m \u001b[0;34m=\u001b[0m \u001b[0mfunc\u001b[0m\u001b[0;34m.\u001b[0m\u001b[0m__doc__\u001b[0m\u001b[0;34m\u001b[0m\u001b[0;34m\u001b[0m\u001b[0m\n",
      "\u001b[0;32m~/miniconda3/envs/venv/lib/python3.9/site-packages/IPython/core/magic.py\u001b[0m in \u001b[0;36m<lambda>\u001b[0;34m(f, *a, **k)\u001b[0m\n\u001b[1;32m    185\u001b[0m     \u001b[0;31m# but it's overkill for just that one bit of state.\u001b[0m\u001b[0;34m\u001b[0m\u001b[0;34m\u001b[0m\u001b[0m\n\u001b[1;32m    186\u001b[0m     \u001b[0;32mdef\u001b[0m \u001b[0mmagic_deco\u001b[0m\u001b[0;34m(\u001b[0m\u001b[0marg\u001b[0m\u001b[0;34m)\u001b[0m\u001b[0;34m:\u001b[0m\u001b[0;34m\u001b[0m\u001b[0;34m\u001b[0m\u001b[0m\n\u001b[0;32m--> 187\u001b[0;31m         \u001b[0mcall\u001b[0m \u001b[0;34m=\u001b[0m \u001b[0;32mlambda\u001b[0m \u001b[0mf\u001b[0m\u001b[0;34m,\u001b[0m \u001b[0;34m*\u001b[0m\u001b[0ma\u001b[0m\u001b[0;34m,\u001b[0m \u001b[0;34m**\u001b[0m\u001b[0mk\u001b[0m\u001b[0;34m:\u001b[0m \u001b[0mf\u001b[0m\u001b[0;34m(\u001b[0m\u001b[0;34m*\u001b[0m\u001b[0ma\u001b[0m\u001b[0;34m,\u001b[0m \u001b[0;34m**\u001b[0m\u001b[0mk\u001b[0m\u001b[0;34m)\u001b[0m\u001b[0;34m\u001b[0m\u001b[0;34m\u001b[0m\u001b[0m\n\u001b[0m\u001b[1;32m    188\u001b[0m \u001b[0;34m\u001b[0m\u001b[0m\n\u001b[1;32m    189\u001b[0m         \u001b[0;32mif\u001b[0m \u001b[0mcallable\u001b[0m\u001b[0;34m(\u001b[0m\u001b[0marg\u001b[0m\u001b[0;34m)\u001b[0m\u001b[0;34m:\u001b[0m\u001b[0;34m\u001b[0m\u001b[0;34m\u001b[0m\u001b[0m\n",
      "\u001b[0;32m~/miniconda3/envs/venv/lib/python3.9/site-packages/IPython/core/magics/extension.py\u001b[0m in \u001b[0;36mload_ext\u001b[0;34m(self, module_str)\u001b[0m\n\u001b[1;32m     31\u001b[0m         \u001b[0;32mif\u001b[0m \u001b[0;32mnot\u001b[0m \u001b[0mmodule_str\u001b[0m\u001b[0;34m:\u001b[0m\u001b[0;34m\u001b[0m\u001b[0;34m\u001b[0m\u001b[0m\n\u001b[1;32m     32\u001b[0m             \u001b[0;32mraise\u001b[0m \u001b[0mUsageError\u001b[0m\u001b[0;34m(\u001b[0m\u001b[0;34m'Missing module name.'\u001b[0m\u001b[0;34m)\u001b[0m\u001b[0;34m\u001b[0m\u001b[0;34m\u001b[0m\u001b[0m\n\u001b[0;32m---> 33\u001b[0;31m         \u001b[0mres\u001b[0m \u001b[0;34m=\u001b[0m \u001b[0mself\u001b[0m\u001b[0;34m.\u001b[0m\u001b[0mshell\u001b[0m\u001b[0;34m.\u001b[0m\u001b[0mextension_manager\u001b[0m\u001b[0;34m.\u001b[0m\u001b[0mload_extension\u001b[0m\u001b[0;34m(\u001b[0m\u001b[0mmodule_str\u001b[0m\u001b[0;34m)\u001b[0m\u001b[0;34m\u001b[0m\u001b[0;34m\u001b[0m\u001b[0m\n\u001b[0m\u001b[1;32m     34\u001b[0m \u001b[0;34m\u001b[0m\u001b[0m\n\u001b[1;32m     35\u001b[0m         \u001b[0;32mif\u001b[0m \u001b[0mres\u001b[0m \u001b[0;34m==\u001b[0m \u001b[0;34m'already loaded'\u001b[0m\u001b[0;34m:\u001b[0m\u001b[0;34m\u001b[0m\u001b[0;34m\u001b[0m\u001b[0m\n",
      "\u001b[0;32m~/miniconda3/envs/venv/lib/python3.9/site-packages/IPython/core/extensions.py\u001b[0m in \u001b[0;36mload_extension\u001b[0;34m(self, module_str)\u001b[0m\n\u001b[1;32m     78\u001b[0m             \u001b[0;32mif\u001b[0m \u001b[0mmodule_str\u001b[0m \u001b[0;32mnot\u001b[0m \u001b[0;32min\u001b[0m \u001b[0msys\u001b[0m\u001b[0;34m.\u001b[0m\u001b[0mmodules\u001b[0m\u001b[0;34m:\u001b[0m\u001b[0;34m\u001b[0m\u001b[0;34m\u001b[0m\u001b[0m\n\u001b[1;32m     79\u001b[0m                 \u001b[0;32mwith\u001b[0m \u001b[0mprepended_to_syspath\u001b[0m\u001b[0;34m(\u001b[0m\u001b[0mself\u001b[0m\u001b[0;34m.\u001b[0m\u001b[0mipython_extension_dir\u001b[0m\u001b[0;34m)\u001b[0m\u001b[0;34m:\u001b[0m\u001b[0;34m\u001b[0m\u001b[0;34m\u001b[0m\u001b[0m\n\u001b[0;32m---> 80\u001b[0;31m                     \u001b[0mmod\u001b[0m \u001b[0;34m=\u001b[0m \u001b[0mimport_module\u001b[0m\u001b[0;34m(\u001b[0m\u001b[0mmodule_str\u001b[0m\u001b[0;34m)\u001b[0m\u001b[0;34m\u001b[0m\u001b[0;34m\u001b[0m\u001b[0m\n\u001b[0m\u001b[1;32m     81\u001b[0m                     \u001b[0;32mif\u001b[0m \u001b[0mmod\u001b[0m\u001b[0;34m.\u001b[0m\u001b[0m__file__\u001b[0m\u001b[0;34m.\u001b[0m\u001b[0mstartswith\u001b[0m\u001b[0;34m(\u001b[0m\u001b[0mself\u001b[0m\u001b[0;34m.\u001b[0m\u001b[0mipython_extension_dir\u001b[0m\u001b[0;34m)\u001b[0m\u001b[0;34m:\u001b[0m\u001b[0;34m\u001b[0m\u001b[0;34m\u001b[0m\u001b[0m\n\u001b[1;32m     82\u001b[0m                         print((\"Loading extensions from {dir} is deprecated. \"\n",
      "\u001b[0;32m~/miniconda3/envs/venv/lib/python3.9/importlib/__init__.py\u001b[0m in \u001b[0;36mimport_module\u001b[0;34m(name, package)\u001b[0m\n\u001b[1;32m    125\u001b[0m                 \u001b[0;32mbreak\u001b[0m\u001b[0;34m\u001b[0m\u001b[0;34m\u001b[0m\u001b[0m\n\u001b[1;32m    126\u001b[0m             \u001b[0mlevel\u001b[0m \u001b[0;34m+=\u001b[0m \u001b[0;36m1\u001b[0m\u001b[0;34m\u001b[0m\u001b[0;34m\u001b[0m\u001b[0m\n\u001b[0;32m--> 127\u001b[0;31m     \u001b[0;32mreturn\u001b[0m \u001b[0m_bootstrap\u001b[0m\u001b[0;34m.\u001b[0m\u001b[0m_gcd_import\u001b[0m\u001b[0;34m(\u001b[0m\u001b[0mname\u001b[0m\u001b[0;34m[\u001b[0m\u001b[0mlevel\u001b[0m\u001b[0;34m:\u001b[0m\u001b[0;34m]\u001b[0m\u001b[0;34m,\u001b[0m \u001b[0mpackage\u001b[0m\u001b[0;34m,\u001b[0m \u001b[0mlevel\u001b[0m\u001b[0;34m)\u001b[0m\u001b[0;34m\u001b[0m\u001b[0;34m\u001b[0m\u001b[0m\n\u001b[0m\u001b[1;32m    128\u001b[0m \u001b[0;34m\u001b[0m\u001b[0m\n\u001b[1;32m    129\u001b[0m \u001b[0;34m\u001b[0m\u001b[0m\n",
      "\u001b[0;32m~/miniconda3/envs/venv/lib/python3.9/importlib/_bootstrap.py\u001b[0m in \u001b[0;36m_gcd_import\u001b[0;34m(name, package, level)\u001b[0m\n",
      "\u001b[0;32m~/miniconda3/envs/venv/lib/python3.9/importlib/_bootstrap.py\u001b[0m in \u001b[0;36m_find_and_load\u001b[0;34m(name, import_)\u001b[0m\n",
      "\u001b[0;32m~/miniconda3/envs/venv/lib/python3.9/importlib/_bootstrap.py\u001b[0m in \u001b[0;36m_find_and_load_unlocked\u001b[0;34m(name, import_)\u001b[0m\n",
      "\u001b[0;32m~/miniconda3/envs/venv/lib/python3.9/importlib/_bootstrap.py\u001b[0m in \u001b[0;36m_call_with_frames_removed\u001b[0;34m(f, *args, **kwds)\u001b[0m\n",
      "\u001b[0;32m~/miniconda3/envs/venv/lib/python3.9/importlib/_bootstrap.py\u001b[0m in \u001b[0;36m_gcd_import\u001b[0;34m(name, package, level)\u001b[0m\n",
      "\u001b[0;32m~/miniconda3/envs/venv/lib/python3.9/importlib/_bootstrap.py\u001b[0m in \u001b[0;36m_find_and_load\u001b[0;34m(name, import_)\u001b[0m\n",
      "\u001b[0;32m~/miniconda3/envs/venv/lib/python3.9/importlib/_bootstrap.py\u001b[0m in \u001b[0;36m_find_and_load_unlocked\u001b[0;34m(name, import_)\u001b[0m\n",
      "\u001b[0;31mModuleNotFoundError\u001b[0m: No module named 'rpy2'"
     ]
    }
   ],
   "source": [
    "%load_ext rpy2.ipython"
   ]
  },
  {
   "cell_type": "code",
   "execution_count": null,
   "id": "6888e143-2231-4f6b-a1b2-ac6f2a56df5e",
   "metadata": {},
   "outputs": [],
   "source": []
  }
 ],
 "metadata": {
  "kernelspec": {
   "display_name": "Python 3 (ipykernel)",
   "language": "python",
   "name": "python3"
  },
  "language_info": {
   "codemirror_mode": {
    "name": "ipython",
    "version": 3
   },
   "file_extension": ".py",
   "mimetype": "text/x-python",
   "name": "python",
   "nbconvert_exporter": "python",
   "pygments_lexer": "ipython3",
   "version": "3.9.7"
  }
 },
 "nbformat": 4,
 "nbformat_minor": 5
}
