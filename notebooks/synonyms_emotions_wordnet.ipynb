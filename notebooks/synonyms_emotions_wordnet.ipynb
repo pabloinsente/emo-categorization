{
 "cells": [
  {
   "cell_type": "code",
   "execution_count": 1,
   "id": "00d431dd-f3e4-4798-8bfa-30c550e846c1",
   "metadata": {},
   "outputs": [],
   "source": [
    "import nltk\n",
    "import json\n",
    "from nltk.corpus import wordnet"
   ]
  },
  {
   "cell_type": "code",
   "execution_count": 2,
   "id": "19cad2f4-7912-45cd-9431-02cbf5ab2b10",
   "metadata": {},
   "outputs": [],
   "source": [
    "# get syns and ants from wordnet\n",
    "\n",
    "def syns(word):\n",
    "\n",
    "    synonyms = []\n",
    "    antonyms = []\n",
    "\n",
    "    for syn in wordnet.synsets(word):\n",
    "        for l in syn.lemmas():\n",
    "            synonyms.append(l.name())\n",
    "            if l.antonyms():\n",
    "                antonyms.append(l.antonyms()[0].name())\n",
    "    \n",
    "    return synonyms, antonyms"
   ]
  },
  {
   "cell_type": "code",
   "execution_count": 3,
   "id": "941b8a61-e8a0-4e2c-a1ea-96dba888f985",
   "metadata": {},
   "outputs": [],
   "source": [
    "syns_dic ={\n",
    "    'anger': [],\n",
    "    'angry':  [],\n",
    "    'neutral': [],\n",
    "    'disgust': [],\n",
    "    'disgusted': [],\n",
    "    'sadness': [],\n",
    "    'sad': [],\n",
    "    'fear': [],\n",
    "    'fearful': [],\n",
    "    'surprise': [],\n",
    "    'surprised': [],\n",
    "    'happiness': [],\n",
    "    'happy': []\n",
    "          }"
   ]
  },
  {
   "cell_type": "code",
   "execution_count": 4,
   "id": "9e750367-8805-4cb5-a155-549dae7204f5",
   "metadata": {},
   "outputs": [],
   "source": [
    "# loop over keys to get syns\n",
    "for key in syns_dic:\n",
    "    syn, ant = syns(key)\n",
    "    syns_dic[key] = list(set(syn))"
   ]
  },
  {
   "cell_type": "code",
   "execution_count": 5,
   "id": "c0b1a3bd-598c-4f85-8e6c-b28ed0ceed86",
   "metadata": {},
   "outputs": [
    {
     "data": {
      "text/plain": [
       "{'anger': ['see_red', 'ire', 'anger', 'choler', 'wrath', 'angriness', 'ira'],\n",
       " 'angry': ['furious', 'angry', 'raging', 'wild', 'tempestuous'],\n",
       " 'neutral': ['impersonal',\n",
       "  'neutral',\n",
       "  'achromatic',\n",
       "  'electroneutral',\n",
       "  'inert',\n",
       "  'indifferent'],\n",
       " 'disgust': ['revolt',\n",
       "  'churn_up',\n",
       "  'disgust',\n",
       "  'sicken',\n",
       "  'repel',\n",
       "  'gross_out',\n",
       "  'nauseate'],\n",
       " 'disgusted': ['revolt',\n",
       "  'disgusted',\n",
       "  'churn_up',\n",
       "  'disgust',\n",
       "  'sicken',\n",
       "  'tired_of',\n",
       "  'repel',\n",
       "  'gross_out',\n",
       "  'nauseate',\n",
       "  'sick_of',\n",
       "  'sick',\n",
       "  'fed_up'],\n",
       " 'sadness': ['gloominess',\n",
       "  'sadness',\n",
       "  'lugubriousness',\n",
       "  'sorrowfulness',\n",
       "  'unhappiness',\n",
       "  'sorrow'],\n",
       " 'sad': ['pitiful', 'sorry', 'deplorable', 'distressing', 'lamentable', 'sad'],\n",
       " 'fear': ['concern',\n",
       "  'fear',\n",
       "  'revere',\n",
       "  'fearfulness',\n",
       "  'dread',\n",
       "  'veneration',\n",
       "  'venerate',\n",
       "  'care',\n",
       "  'reverence',\n",
       "  'awe',\n",
       "  'fright'],\n",
       " 'fearful': ['dreadful',\n",
       "  'horrendous',\n",
       "  'terrible',\n",
       "  'frightening',\n",
       "  'dread',\n",
       "  'dreaded',\n",
       "  'frightful',\n",
       "  'direful',\n",
       "  'trepid',\n",
       "  'fearful',\n",
       "  'timorous',\n",
       "  'awful',\n",
       "  'fearsome',\n",
       "  'dire',\n",
       "  'cowardly',\n",
       "  'horrific'],\n",
       " 'surprise': ['surprise', 'storm', 'surprisal'],\n",
       " 'surprised': ['surprise', 'surprised', 'storm'],\n",
       " 'happiness': ['happiness', 'felicity'],\n",
       " 'happy': ['happy', 'glad', 'felicitous', 'well-chosen']}"
      ]
     },
     "execution_count": 5,
     "metadata": {},
     "output_type": "execute_result"
    }
   ],
   "source": [
    "syns_dic"
   ]
  },
  {
   "cell_type": "code",
   "execution_count": 6,
   "id": "32188e20-3949-431d-9452-b774ef4332ac",
   "metadata": {},
   "outputs": [],
   "source": [
    "# create json object from dictionary\n",
    "json = json.dumps(syns_dic)"
   ]
  },
  {
   "cell_type": "code",
   "execution_count": 7,
   "id": "ed42748f-3a1e-40bb-89d1-529e5702b167",
   "metadata": {},
   "outputs": [],
   "source": [
    "# open file for writing, \"w\" \n",
    "f = open(\"../clean_data/syn_dict_emotions.json\",\"w\")\n",
    "\n",
    "# write json object to file\n",
    "f.write(json)\n",
    "\n",
    "# close file\n",
    "f.close()"
   ]
  },
  {
   "cell_type": "code",
   "execution_count": null,
   "id": "8f4cd830-a1ef-45d8-8c76-a4297e70c87e",
   "metadata": {},
   "outputs": [],
   "source": []
  }
 ],
 "metadata": {
  "kernelspec": {
   "display_name": "Python 3 (ipykernel)",
   "language": "python",
   "name": "python3"
  },
  "language_info": {
   "codemirror_mode": {
    "name": "ipython",
    "version": 3
   },
   "file_extension": ".py",
   "mimetype": "text/x-python",
   "name": "python",
   "nbconvert_exporter": "python",
   "pygments_lexer": "ipython3",
   "version": "3.9.7"
  }
 },
 "nbformat": 4,
 "nbformat_minor": 5
}
