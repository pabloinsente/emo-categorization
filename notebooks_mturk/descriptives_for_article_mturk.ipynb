{
 "cells": [
  {
   "cell_type": "code",
   "execution_count": 1,
   "id": "db394d75-9c85-4857-a577-0d6874cb3ef4",
   "metadata": {},
   "outputs": [],
   "source": [
    "import pandas as pd"
   ]
  },
  {
   "cell_type": "code",
   "execution_count": 2,
   "id": "0b724293-4b00-4d24-83a5-c7b165fd3401",
   "metadata": {},
   "outputs": [],
   "source": [
    "df1 = pd.read_csv('../clean_data_mturk/free_choice_emotion_mturk.csv')\n",
    "df2 = pd.read_csv('../clean_data_mturk/forced_choice_emotion_mturk.csv')"
   ]
  },
  {
   "cell_type": "code",
   "execution_count": 3,
   "id": "6c98eacd-39b7-44ea-ad50-c6ccd72e3793",
   "metadata": {},
   "outputs": [
    {
     "data": {
      "text/plain": [
       "(38.549019607843135, 9.869071049787326)"
      ]
     },
     "execution_count": 3,
     "metadata": {},
     "output_type": "execute_result"
    }
   ],
   "source": [
    "age1 = df1['age'].dropna().astype('int32')\n",
    "age2 = df2['age'].dropna().astype('int32')\n",
    "age = pd.concat([age1, age2])\n",
    "\n",
    "age.mean(), age.std()"
   ]
  },
  {
   "cell_type": "code",
   "execution_count": 4,
   "id": "855ffa53-b3b1-4579-a09a-62e38f04322c",
   "metadata": {},
   "outputs": [
    {
     "data": {
      "text/plain": [
       "Male      67\n",
       "Female    35\n",
       "Name: sex, dtype: int64"
      ]
     },
     "execution_count": 4,
     "metadata": {},
     "output_type": "execute_result"
    }
   ],
   "source": [
    "sex1 = df1['sex'].dropna()\n",
    "sex2 = df2['sex'].dropna()\n",
    "sex = pd.concat([sex1, sex2])\n",
    "\n",
    "sex.value_counts()"
   ]
  },
  {
   "cell_type": "code",
   "execution_count": 5,
   "id": "321e7be2-2028-4bec-be3e-5273fe44e17d",
   "metadata": {},
   "outputs": [
    {
     "data": {
      "text/plain": [
       "White or Caucasian           76\n",
       "Black or African American    14\n",
       "Asian                         8\n",
       "Hispanic or Latino            3\n",
       "Multiple ethnicities          1\n",
       "Name: ethnicity, dtype: int64"
      ]
     },
     "execution_count": 5,
     "metadata": {},
     "output_type": "execute_result"
    }
   ],
   "source": [
    "et1 = df1['ethnicity'].dropna()\n",
    "et2 = df2['ethnicity'].dropna()\n",
    "et = pd.concat([et1, et2])\n",
    "\n",
    "et.value_counts()"
   ]
  }
 ],
 "metadata": {
  "kernelspec": {
   "display_name": "Python 3 (ipykernel)",
   "language": "python",
   "name": "python3"
  },
  "language_info": {
   "codemirror_mode": {
    "name": "ipython",
    "version": 3
   },
   "file_extension": ".py",
   "mimetype": "text/x-python",
   "name": "python",
   "nbconvert_exporter": "python",
   "pygments_lexer": "ipython3",
   "version": "3.9.7"
  }
 },
 "nbformat": 4,
 "nbformat_minor": 5
}
