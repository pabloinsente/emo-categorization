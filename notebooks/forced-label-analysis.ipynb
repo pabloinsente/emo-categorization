{
 "cells": [
  {
   "cell_type": "code",
   "execution_count": 111,
   "id": "101a8b65-099a-4364-bc0b-59a1502235be",
   "metadata": {},
   "outputs": [],
   "source": [
    "import pandas as pd\n",
    "import numpy as np\n",
    "import altair as alt"
   ]
  },
  {
   "cell_type": "markdown",
   "id": "8cc97337-d94a-43de-bc11-c680c1cb978e",
   "metadata": {},
   "source": [
    "## Data ingestion and formating"
   ]
  },
  {
   "cell_type": "code",
   "execution_count": 112,
   "id": "bd61456b-aaeb-49ba-8d9d-7de3791b7fce",
   "metadata": {},
   "outputs": [],
   "source": [
    "df = pd.read_csv('../data/emotion_forced_choice_uw_students.csv')\n",
    "df_labels = pd.read_csv('../data/emotion_labels.csv')"
   ]
  },
  {
   "cell_type": "code",
   "execution_count": 113,
   "id": "65740250-28ec-448f-b05b-cf7936cfa6d6",
   "metadata": {},
   "outputs": [],
   "source": [
    "df = df.iloc[5:, :] # filter out test rows"
   ]
  },
  {
   "cell_type": "code",
   "execution_count": 114,
   "id": "7cd5c9bf-7025-4823-b684-f7e1c7cb37f8",
   "metadata": {},
   "outputs": [
    {
     "name": "stdout",
     "output_type": "stream",
     "text": [
      "<class 'pandas.core.frame.DataFrame'>\n",
      "RangeIndex: 81 entries, 5 to 85\n",
      "Columns: 220 entries, StartDate to Q195.1\n",
      "dtypes: object(220)\n",
      "memory usage: 139.3+ KB\n"
     ]
    }
   ],
   "source": [
    "df.info()"
   ]
  },
  {
   "cell_type": "code",
   "execution_count": 115,
   "id": "2d93d8f3-5cbd-47fa-92c1-5ece083c07f0",
   "metadata": {},
   "outputs": [],
   "source": [
    "df = df[df['Finished'] =='True'] # filter out incomplete surveys"
   ]
  },
  {
   "cell_type": "code",
   "execution_count": 116,
   "id": "ca063469-8906-4921-ab6f-8c1bcbd8639c",
   "metadata": {},
   "outputs": [
    {
     "name": "stdout",
     "output_type": "stream",
     "text": [
      "<class 'pandas.core.frame.DataFrame'>\n",
      "Int64Index: 51 entries, 5 to 85\n",
      "Columns: 220 entries, StartDate to Q195.1\n",
      "dtypes: object(220)\n",
      "memory usage: 88.1+ KB\n"
     ]
    }
   ],
   "source": [
    "df.info()"
   ]
  },
  {
   "cell_type": "code",
   "execution_count": 117,
   "id": "22413776",
   "metadata": {},
   "outputs": [],
   "source": [
    "df.rename(columns={\n",
    "    'Q1.2': 'sex',\n",
    "    'Q1.3_1': 'age',\n",
    "    'Q1.4': 'ethnicity',\n",
    "    'Q1.5': 'formal education',\n",
    "    'Q1.6_1': 'income'}, inplace=True)"
   ]
  },
  {
   "cell_type": "code",
   "execution_count": 118,
   "id": "80bf73e6",
   "metadata": {},
   "outputs": [],
   "source": [
    "df.to_csv('../clean_data/forced_choice_emotion_uw_students.csv', index=False)"
   ]
  },
  {
   "cell_type": "markdown",
   "id": "615f3688-8188-4b92-b8cf-9bec11e90b56",
   "metadata": {},
   "source": [
    "### Words by frequency for all images (ranking)"
   ]
  },
  {
   "cell_type": "code",
   "execution_count": 119,
   "id": "f8393fd1-6478-4d30-8194-255463fd266e",
   "metadata": {},
   "outputs": [],
   "source": [
    "def count_freq_labels(df, X=\"all\" ):\n",
    "    if X == \"all\":\n",
    "        df_counts = df.stack().reset_index(drop=True).value_counts() # stack as series\n",
    "        df_counts = df_counts.to_frame('counts') # get value_counts as df\n",
    "        df_counts['emotion'] = df_counts.index # get index as col\n",
    "    else:\n",
    "        df_counts = df[X].reset_index(drop=True).value_counts() # stack as series\n",
    "        df_counts = df_counts.to_frame('counts') # get value_counts as df\n",
    "        df_counts[X] = df_counts.index # get index as col\n",
    "\n",
    "    df_counts = df_counts.reset_index(drop=True) # clean index\n",
    "    df_counts['percent'] = df_counts['counts'] / df_counts['counts'].sum() # compute percentage\n",
    "    return df_counts"
   ]
  },
  {
   "cell_type": "code",
   "execution_count": 120,
   "id": "0046f8a9-0824-4583-a7b4-5dbcdd3653fd",
   "metadata": {},
   "outputs": [],
   "source": [
    "def simple_per_bar(\n",
    "    df, title='Title', X='percent:Q', Y='emotion:N', \\\n",
    "    width=450, height=250, sort='-x', \\\n",
    "    text_size = 12, label_size = 11, title_size=12, \\\n",
    "    emotion='Some', color1='#0570b0', color2='orange'):\n",
    "    \n",
    "    bars = alt.Chart(df, title=title).mark_bar().encode(\n",
    "        alt.X(X, axis=alt.Axis(format='.0%')),\n",
    "        y=alt.Y(Y, sort=sort), \n",
    "        color=alt.condition(\n",
    "            alt.datum.emotion == emotion,\n",
    "            alt.value(color2),\n",
    "            alt.value(color1)\n",
    "        ))\n",
    "    \n",
    "    text = bars.mark_text(\n",
    "    align='left',\n",
    "    baseline='middle',\n",
    "    dx=3,  # Nudges text to right so it doesn't appear on top of the bar\n",
    "    fontSize=text_size\n",
    "    ).encode(\n",
    "        alt.Text(X, format='.1%')\n",
    "    )\n",
    "    \n",
    "    chart = (bars + text).configure_axis(\n",
    "            labelFontSize=label_size,\n",
    "            titleFontSize=title_size).properties(\n",
    "                width=width, \n",
    "                height=height).display(renderer='svg')\n",
    "    \n",
    "    \n",
    "    return chart"
   ]
  },
  {
   "cell_type": "code",
   "execution_count": 121,
   "id": "c77aecf8",
   "metadata": {},
   "outputs": [],
   "source": [
    "def simple_count_bar(\n",
    "    \n",
    "    df, title='Title', X='counts:Q', Y='emotion:N', \\\n",
    "    width=450, height=250, sort='-x', \\\n",
    "    text_size = 12, label_size = 11, title_size=12,\n",
    "    emotion='Some', color1='#0570b0', color2='#orange'):\n",
    "    \n",
    "    bars = alt.Chart(df, title=title).mark_bar().encode(\n",
    "        alt.X(X),\n",
    "        y=alt.Y(Y, sort=sort), \n",
    "        color=alt.condition(\n",
    "            alt.datum.emotion == emotion,\n",
    "            alt.value(color2),\n",
    "            alt.value(color1)\n",
    "        ))\n",
    "    \n",
    "    text = bars.mark_text(\n",
    "    align='left',\n",
    "    baseline='middle',\n",
    "    dx=3,  # Nudges text to right so it doesn't appear on top of the bar\n",
    "    fontSize=text_size\n",
    "    ).encode(\n",
    "        alt.Text(X)\n",
    "    )\n",
    "    \n",
    "    chart = (bars + text).configure_axis(\n",
    "            labelFontSize=label_size,\n",
    "            titleFontSize=title_size).properties(\n",
    "                width=width, \n",
    "                height=height).display(renderer='svg')\n",
    "    \n",
    "    \n",
    "    return chart"
   ]
  },
  {
   "cell_type": "markdown",
   "id": "e94cd0e1",
   "metadata": {},
   "source": [
    "## Demographics"
   ]
  },
  {
   "cell_type": "code",
   "execution_count": 122,
   "id": "f9f7276a",
   "metadata": {},
   "outputs": [
    {
     "data": {
      "text/html": [
       "\n",
       "<div id=\"altair-viz-293ac2f7fd214a59973bff192b8fd9dd\"></div>\n",
       "<script type=\"text/javascript\">\n",
       "  (function(spec, embedOpt){\n",
       "    let outputDiv = document.currentScript.previousElementSibling;\n",
       "    if (outputDiv.id !== \"altair-viz-293ac2f7fd214a59973bff192b8fd9dd\") {\n",
       "      outputDiv = document.getElementById(\"altair-viz-293ac2f7fd214a59973bff192b8fd9dd\");\n",
       "    }\n",
       "    const paths = {\n",
       "      \"vega\": \"https://cdn.jsdelivr.net/npm//vega@5?noext\",\n",
       "      \"vega-lib\": \"https://cdn.jsdelivr.net/npm//vega-lib?noext\",\n",
       "      \"vega-lite\": \"https://cdn.jsdelivr.net/npm//vega-lite@4.8.1?noext\",\n",
       "      \"vega-embed\": \"https://cdn.jsdelivr.net/npm//vega-embed@6?noext\",\n",
       "    };\n",
       "\n",
       "    function loadScript(lib) {\n",
       "      return new Promise(function(resolve, reject) {\n",
       "        var s = document.createElement('script');\n",
       "        s.src = paths[lib];\n",
       "        s.async = true;\n",
       "        s.onload = () => resolve(paths[lib]);\n",
       "        s.onerror = () => reject(`Error loading script: ${paths[lib]}`);\n",
       "        document.getElementsByTagName(\"head\")[0].appendChild(s);\n",
       "      });\n",
       "    }\n",
       "\n",
       "    function showError(err) {\n",
       "      outputDiv.innerHTML = `<div class=\"error\" style=\"color:red;\">${err}</div>`;\n",
       "      throw err;\n",
       "    }\n",
       "\n",
       "    function displayChart(vegaEmbed) {\n",
       "      vegaEmbed(outputDiv, spec, embedOpt)\n",
       "        .catch(err => showError(`Javascript Error: ${err.message}<br>This usually means there's a typo in your chart specification. See the javascript console for the full traceback.`));\n",
       "    }\n",
       "\n",
       "    if(typeof define === \"function\" && define.amd) {\n",
       "      requirejs.config({paths});\n",
       "      require([\"vega-embed\"], displayChart, err => showError(`Error loading script: ${err.message}`));\n",
       "    } else if (typeof vegaEmbed === \"function\") {\n",
       "      displayChart(vegaEmbed);\n",
       "    } else {\n",
       "      loadScript(\"vega\")\n",
       "        .then(() => loadScript(\"vega-lite\"))\n",
       "        .then(() => loadScript(\"vega-embed\"))\n",
       "        .catch(showError)\n",
       "        .then(() => displayChart(vegaEmbed));\n",
       "    }\n",
       "  })({\"config\": {\"view\": {\"continuousWidth\": 400, \"continuousHeight\": 300}, \"axis\": {\"labelFontSize\": 12, \"titleFontSize\": 12}}, \"layer\": [{\"mark\": \"bar\", \"encoding\": {\"color\": {\"condition\": {\"value\": \"orange\", \"test\": \"(datum.emotion === 'Some')\"}, \"value\": \"#0570b0\"}, \"x\": {\"type\": \"quantitative\", \"axis\": {\"format\": \".0%\"}, \"field\": \"percent\"}, \"y\": {\"type\": \"nominal\", \"field\": \"sex\", \"sort\": \"-x\"}}, \"title\": \"Sex | n = 51\"}, {\"mark\": {\"type\": \"text\", \"align\": \"left\", \"baseline\": \"middle\", \"dx\": 3, \"fontSize\": 12}, \"encoding\": {\"color\": {\"condition\": {\"value\": \"orange\", \"test\": \"(datum.emotion === 'Some')\"}, \"value\": \"#0570b0\"}, \"text\": {\"type\": \"quantitative\", \"field\": \"percent\", \"format\": \".1%\"}, \"x\": {\"type\": \"quantitative\", \"axis\": {\"format\": \".0%\"}, \"field\": \"percent\"}, \"y\": {\"type\": \"nominal\", \"field\": \"sex\", \"sort\": \"-x\"}}, \"title\": \"Sex | n = 51\"}], \"data\": {\"name\": \"data-bf62d92e721a11048eb671040fc8e109\"}, \"height\": 100, \"width\": 450, \"$schema\": \"https://vega.github.io/schema/vega-lite/v4.8.1.json\", \"datasets\": {\"data-bf62d92e721a11048eb671040fc8e109\": [{\"counts\": 31, \"sex\": \"Female\", \"percent\": 0.6078431372549019}, {\"counts\": 20, \"sex\": \"Male\", \"percent\": 0.39215686274509803}]}}, {\"renderer\": \"svg\", \"mode\": \"vega-lite\"});\n",
       "</script>"
      ],
      "text/plain": [
       "alt.LayerChart(...)"
      ]
     },
     "metadata": {},
     "output_type": "display_data"
    }
   ],
   "source": [
    "source = count_freq_labels(df, X=\"sex\") \n",
    "title = 'Sex | n = '+ source['counts'].sum().astype(str)\n",
    "X, Y = 'percent:Q', 'sex:N'\n",
    "w, h= 450, 100\n",
    "txs, ls, ts = 12, 12, 12\n",
    "\n",
    "chart_sex = simple_per_bar(source, title=title, X=X, Y=Y, width=w, height=h, text_size = txs, label_size = ls, title_size=ts)"
   ]
  },
  {
   "cell_type": "code",
   "execution_count": 123,
   "id": "f36ea449",
   "metadata": {},
   "outputs": [
    {
     "data": {
      "text/html": [
       "\n",
       "<div id=\"altair-viz-82a39f6696ce49e2b2986cfc799ff09f\"></div>\n",
       "<script type=\"text/javascript\">\n",
       "  (function(spec, embedOpt){\n",
       "    let outputDiv = document.currentScript.previousElementSibling;\n",
       "    if (outputDiv.id !== \"altair-viz-82a39f6696ce49e2b2986cfc799ff09f\") {\n",
       "      outputDiv = document.getElementById(\"altair-viz-82a39f6696ce49e2b2986cfc799ff09f\");\n",
       "    }\n",
       "    const paths = {\n",
       "      \"vega\": \"https://cdn.jsdelivr.net/npm//vega@5?noext\",\n",
       "      \"vega-lib\": \"https://cdn.jsdelivr.net/npm//vega-lib?noext\",\n",
       "      \"vega-lite\": \"https://cdn.jsdelivr.net/npm//vega-lite@4.8.1?noext\",\n",
       "      \"vega-embed\": \"https://cdn.jsdelivr.net/npm//vega-embed@6?noext\",\n",
       "    };\n",
       "\n",
       "    function loadScript(lib) {\n",
       "      return new Promise(function(resolve, reject) {\n",
       "        var s = document.createElement('script');\n",
       "        s.src = paths[lib];\n",
       "        s.async = true;\n",
       "        s.onload = () => resolve(paths[lib]);\n",
       "        s.onerror = () => reject(`Error loading script: ${paths[lib]}`);\n",
       "        document.getElementsByTagName(\"head\")[0].appendChild(s);\n",
       "      });\n",
       "    }\n",
       "\n",
       "    function showError(err) {\n",
       "      outputDiv.innerHTML = `<div class=\"error\" style=\"color:red;\">${err}</div>`;\n",
       "      throw err;\n",
       "    }\n",
       "\n",
       "    function displayChart(vegaEmbed) {\n",
       "      vegaEmbed(outputDiv, spec, embedOpt)\n",
       "        .catch(err => showError(`Javascript Error: ${err.message}<br>This usually means there's a typo in your chart specification. See the javascript console for the full traceback.`));\n",
       "    }\n",
       "\n",
       "    if(typeof define === \"function\" && define.amd) {\n",
       "      requirejs.config({paths});\n",
       "      require([\"vega-embed\"], displayChart, err => showError(`Error loading script: ${err.message}`));\n",
       "    } else if (typeof vegaEmbed === \"function\") {\n",
       "      displayChart(vegaEmbed);\n",
       "    } else {\n",
       "      loadScript(\"vega\")\n",
       "        .then(() => loadScript(\"vega-lite\"))\n",
       "        .then(() => loadScript(\"vega-embed\"))\n",
       "        .catch(showError)\n",
       "        .then(() => displayChart(vegaEmbed));\n",
       "    }\n",
       "  })({\"config\": {\"view\": {\"continuousWidth\": 400, \"continuousHeight\": 300}, \"axis\": {\"labelFontSize\": 11, \"titleFontSize\": 12}}, \"layer\": [{\"mark\": \"bar\", \"encoding\": {\"color\": {\"condition\": {\"value\": \"orange\", \"test\": \"(datum.emotion === 'Some')\"}, \"value\": \"#0570b0\"}, \"x\": {\"type\": \"quantitative\", \"axis\": {\"format\": \".0%\"}, \"field\": \"percent\"}, \"y\": {\"type\": \"nominal\", \"field\": \"age\", \"sort\": \"-x\"}}, \"title\": \"Age | n = 42\"}, {\"mark\": {\"type\": \"text\", \"align\": \"left\", \"baseline\": \"middle\", \"dx\": 3, \"fontSize\": 12}, \"encoding\": {\"color\": {\"condition\": {\"value\": \"orange\", \"test\": \"(datum.emotion === 'Some')\"}, \"value\": \"#0570b0\"}, \"text\": {\"type\": \"quantitative\", \"field\": \"percent\", \"format\": \".1%\"}, \"x\": {\"type\": \"quantitative\", \"axis\": {\"format\": \".0%\"}, \"field\": \"percent\"}, \"y\": {\"type\": \"nominal\", \"field\": \"age\", \"sort\": \"-x\"}}, \"title\": \"Age | n = 42\"}], \"data\": {\"name\": \"data-5513524e843fe4639ac43c08d0495e04\"}, \"height\": 150, \"width\": 450, \"$schema\": \"https://vega.github.io/schema/vega-lite/v4.8.1.json\", \"datasets\": {\"data-5513524e843fe4639ac43c08d0495e04\": [{\"counts\": 24, \"age\": \"18\", \"percent\": 0.5714285714285714}, {\"counts\": 6, \"age\": \"20\", \"percent\": 0.14285714285714285}, {\"counts\": 5, \"age\": \"19\", \"percent\": 0.11904761904761904}, {\"counts\": 4, \"age\": \"22\", \"percent\": 0.09523809523809523}, {\"counts\": 2, \"age\": \"21\", \"percent\": 0.047619047619047616}, {\"counts\": 1, \"age\": \"25\", \"percent\": 0.023809523809523808}]}}, {\"renderer\": \"svg\", \"mode\": \"vega-lite\"});\n",
       "</script>"
      ],
      "text/plain": [
       "alt.LayerChart(...)"
      ]
     },
     "metadata": {},
     "output_type": "display_data"
    }
   ],
   "source": [
    "source = count_freq_labels(df, X=\"age\") \n",
    "title = 'Age | n = '+ source['counts'].sum().astype(str)\n",
    "X, Y = 'percent:Q', 'age:N'\n",
    "w, h= 450, 150\n",
    "txs, ls, ts = 12, 11, 12\n",
    "\n",
    "chart_age = simple_per_bar(\n",
    "    source, title=title, X=X, Y=Y, \\\n",
    "    width=w, height=h, \\\n",
    "    text_size = txs, label_size = ls, title_size=ts)\n",
    "chart_age"
   ]
  },
  {
   "cell_type": "code",
   "execution_count": 124,
   "id": "137bca40",
   "metadata": {},
   "outputs": [
    {
     "data": {
      "text/html": [
       "\n",
       "<div id=\"altair-viz-f321f21d57d0475287efc468d0dc2c99\"></div>\n",
       "<script type=\"text/javascript\">\n",
       "  (function(spec, embedOpt){\n",
       "    let outputDiv = document.currentScript.previousElementSibling;\n",
       "    if (outputDiv.id !== \"altair-viz-f321f21d57d0475287efc468d0dc2c99\") {\n",
       "      outputDiv = document.getElementById(\"altair-viz-f321f21d57d0475287efc468d0dc2c99\");\n",
       "    }\n",
       "    const paths = {\n",
       "      \"vega\": \"https://cdn.jsdelivr.net/npm//vega@5?noext\",\n",
       "      \"vega-lib\": \"https://cdn.jsdelivr.net/npm//vega-lib?noext\",\n",
       "      \"vega-lite\": \"https://cdn.jsdelivr.net/npm//vega-lite@4.8.1?noext\",\n",
       "      \"vega-embed\": \"https://cdn.jsdelivr.net/npm//vega-embed@6?noext\",\n",
       "    };\n",
       "\n",
       "    function loadScript(lib) {\n",
       "      return new Promise(function(resolve, reject) {\n",
       "        var s = document.createElement('script');\n",
       "        s.src = paths[lib];\n",
       "        s.async = true;\n",
       "        s.onload = () => resolve(paths[lib]);\n",
       "        s.onerror = () => reject(`Error loading script: ${paths[lib]}`);\n",
       "        document.getElementsByTagName(\"head\")[0].appendChild(s);\n",
       "      });\n",
       "    }\n",
       "\n",
       "    function showError(err) {\n",
       "      outputDiv.innerHTML = `<div class=\"error\" style=\"color:red;\">${err}</div>`;\n",
       "      throw err;\n",
       "    }\n",
       "\n",
       "    function displayChart(vegaEmbed) {\n",
       "      vegaEmbed(outputDiv, spec, embedOpt)\n",
       "        .catch(err => showError(`Javascript Error: ${err.message}<br>This usually means there's a typo in your chart specification. See the javascript console for the full traceback.`));\n",
       "    }\n",
       "\n",
       "    if(typeof define === \"function\" && define.amd) {\n",
       "      requirejs.config({paths});\n",
       "      require([\"vega-embed\"], displayChart, err => showError(`Error loading script: ${err.message}`));\n",
       "    } else if (typeof vegaEmbed === \"function\") {\n",
       "      displayChart(vegaEmbed);\n",
       "    } else {\n",
       "      loadScript(\"vega\")\n",
       "        .then(() => loadScript(\"vega-lite\"))\n",
       "        .then(() => loadScript(\"vega-embed\"))\n",
       "        .catch(showError)\n",
       "        .then(() => displayChart(vegaEmbed));\n",
       "    }\n",
       "  })({\"config\": {\"view\": {\"continuousWidth\": 400, \"continuousHeight\": 300}, \"axis\": {\"labelFontSize\": 11, \"titleFontSize\": 12}}, \"layer\": [{\"mark\": \"bar\", \"encoding\": {\"color\": {\"condition\": {\"value\": \"orange\", \"test\": \"(datum.emotion === 'Some')\"}, \"value\": \"#0570b0\"}, \"x\": {\"type\": \"quantitative\", \"axis\": {\"format\": \".0%\"}, \"field\": \"percent\"}, \"y\": {\"type\": \"nominal\", \"field\": \"ethnicity\", \"sort\": \"-x\"}}, \"title\": \"Ethnicity | n = 51\"}, {\"mark\": {\"type\": \"text\", \"align\": \"left\", \"baseline\": \"middle\", \"dx\": 3, \"fontSize\": 12}, \"encoding\": {\"color\": {\"condition\": {\"value\": \"orange\", \"test\": \"(datum.emotion === 'Some')\"}, \"value\": \"#0570b0\"}, \"text\": {\"type\": \"quantitative\", \"field\": \"percent\", \"format\": \".1%\"}, \"x\": {\"type\": \"quantitative\", \"axis\": {\"format\": \".0%\"}, \"field\": \"percent\"}, \"y\": {\"type\": \"nominal\", \"field\": \"ethnicity\", \"sort\": \"-x\"}}, \"title\": \"Ethnicity | n = 51\"}], \"data\": {\"name\": \"data-b195e225271668466606624ce07a28dc\"}, \"height\": 150, \"width\": 450, \"$schema\": \"https://vega.github.io/schema/vega-lite/v4.8.1.json\", \"datasets\": {\"data-b195e225271668466606624ce07a28dc\": [{\"counts\": 31, \"ethnicity\": \"White or Caucasian\", \"percent\": 0.6078431372549019}, {\"counts\": 10, \"ethnicity\": \"Asian\", \"percent\": 0.19607843137254902}, {\"counts\": 5, \"ethnicity\": \"Multiple ethnicities\", \"percent\": 0.09803921568627451}, {\"counts\": 2, \"ethnicity\": \"Hispanic or Latino\", \"percent\": 0.0392156862745098}, {\"counts\": 2, \"ethnicity\": \"Prefer not to say\", \"percent\": 0.0392156862745098}, {\"counts\": 1, \"ethnicity\": \"Black or African American\", \"percent\": 0.0196078431372549}]}}, {\"renderer\": \"svg\", \"mode\": \"vega-lite\"});\n",
       "</script>"
      ],
      "text/plain": [
       "alt.LayerChart(...)"
      ]
     },
     "metadata": {},
     "output_type": "display_data"
    }
   ],
   "source": [
    "source = count_freq_labels(df, X=\"ethnicity\") \n",
    "title = 'Ethnicity | n = '+ source['counts'].sum().astype(str)\n",
    "X, Y = 'percent:Q', 'ethnicity:N'\n",
    "w, h= 450, 150\n",
    "txs, ls, ts = 12, 11, 12\n",
    "\n",
    "chart_ethnicity= simple_per_bar(\n",
    "    source, title=title, X=X, Y=Y, \\\n",
    "    width=w, height=h, \\\n",
    "    text_size = txs, label_size = ls, title_size=ts)\n",
    "chart_ethnicity"
   ]
  },
  {
   "cell_type": "code",
   "execution_count": 125,
   "id": "ad64ff6f",
   "metadata": {},
   "outputs": [
    {
     "data": {
      "text/html": [
       "\n",
       "<div id=\"altair-viz-a6716e6e8c814522bea7c18cb60c0cd3\"></div>\n",
       "<script type=\"text/javascript\">\n",
       "  (function(spec, embedOpt){\n",
       "    let outputDiv = document.currentScript.previousElementSibling;\n",
       "    if (outputDiv.id !== \"altair-viz-a6716e6e8c814522bea7c18cb60c0cd3\") {\n",
       "      outputDiv = document.getElementById(\"altair-viz-a6716e6e8c814522bea7c18cb60c0cd3\");\n",
       "    }\n",
       "    const paths = {\n",
       "      \"vega\": \"https://cdn.jsdelivr.net/npm//vega@5?noext\",\n",
       "      \"vega-lib\": \"https://cdn.jsdelivr.net/npm//vega-lib?noext\",\n",
       "      \"vega-lite\": \"https://cdn.jsdelivr.net/npm//vega-lite@4.8.1?noext\",\n",
       "      \"vega-embed\": \"https://cdn.jsdelivr.net/npm//vega-embed@6?noext\",\n",
       "    };\n",
       "\n",
       "    function loadScript(lib) {\n",
       "      return new Promise(function(resolve, reject) {\n",
       "        var s = document.createElement('script');\n",
       "        s.src = paths[lib];\n",
       "        s.async = true;\n",
       "        s.onload = () => resolve(paths[lib]);\n",
       "        s.onerror = () => reject(`Error loading script: ${paths[lib]}`);\n",
       "        document.getElementsByTagName(\"head\")[0].appendChild(s);\n",
       "      });\n",
       "    }\n",
       "\n",
       "    function showError(err) {\n",
       "      outputDiv.innerHTML = `<div class=\"error\" style=\"color:red;\">${err}</div>`;\n",
       "      throw err;\n",
       "    }\n",
       "\n",
       "    function displayChart(vegaEmbed) {\n",
       "      vegaEmbed(outputDiv, spec, embedOpt)\n",
       "        .catch(err => showError(`Javascript Error: ${err.message}<br>This usually means there's a typo in your chart specification. See the javascript console for the full traceback.`));\n",
       "    }\n",
       "\n",
       "    if(typeof define === \"function\" && define.amd) {\n",
       "      requirejs.config({paths});\n",
       "      require([\"vega-embed\"], displayChart, err => showError(`Error loading script: ${err.message}`));\n",
       "    } else if (typeof vegaEmbed === \"function\") {\n",
       "      displayChart(vegaEmbed);\n",
       "    } else {\n",
       "      loadScript(\"vega\")\n",
       "        .then(() => loadScript(\"vega-lite\"))\n",
       "        .then(() => loadScript(\"vega-embed\"))\n",
       "        .catch(showError)\n",
       "        .then(() => displayChart(vegaEmbed));\n",
       "    }\n",
       "  })({\"config\": {\"view\": {\"continuousWidth\": 400, \"continuousHeight\": 300}, \"axis\": {\"labelFontSize\": 11, \"titleFontSize\": 12}}, \"layer\": [{\"mark\": \"bar\", \"encoding\": {\"color\": {\"condition\": {\"value\": \"orange\", \"test\": \"(datum.emotion === 'Some')\"}, \"value\": \"#0570b0\"}, \"x\": {\"type\": \"quantitative\", \"axis\": {\"format\": \".0%\"}, \"field\": \"percent\"}, \"y\": {\"type\": \"nominal\", \"field\": \"formal education\", \"sort\": \"-x\"}}, \"title\": \"Formal education | n = 51\"}, {\"mark\": {\"type\": \"text\", \"align\": \"left\", \"baseline\": \"middle\", \"dx\": 3, \"fontSize\": 12}, \"encoding\": {\"color\": {\"condition\": {\"value\": \"orange\", \"test\": \"(datum.emotion === 'Some')\"}, \"value\": \"#0570b0\"}, \"text\": {\"type\": \"quantitative\", \"field\": \"percent\", \"format\": \".1%\"}, \"x\": {\"type\": \"quantitative\", \"axis\": {\"format\": \".0%\"}, \"field\": \"percent\"}, \"y\": {\"type\": \"nominal\", \"field\": \"formal education\", \"sort\": \"-x\"}}, \"title\": \"Formal education | n = 51\"}], \"data\": {\"name\": \"data-8f5386a7aa99ae6a02857db6a7f68669\"}, \"height\": 150, \"width\": 450, \"$schema\": \"https://vega.github.io/schema/vega-lite/v4.8.1.json\", \"datasets\": {\"data-8f5386a7aa99ae6a02857db6a7f68669\": [{\"counts\": 25, \"formal education\": \"Some college\", \"percent\": 0.49019607843137253}, {\"counts\": 24, \"formal education\": \"High school graduate\", \"percent\": 0.47058823529411764}, {\"counts\": 1, \"formal education\": \"4 year degree\", \"percent\": 0.0196078431372549}, {\"counts\": 1, \"formal education\": \"Professional degree\", \"percent\": 0.0196078431372549}]}}, {\"renderer\": \"svg\", \"mode\": \"vega-lite\"});\n",
       "</script>"
      ],
      "text/plain": [
       "alt.LayerChart(...)"
      ]
     },
     "metadata": {},
     "output_type": "display_data"
    }
   ],
   "source": [
    "source = count_freq_labels(df, X=\"formal education\") \n",
    "title = 'Formal education | n = '+ source['counts'].sum().astype(str)\n",
    "X, Y = 'percent:Q', 'formal education:N'\n",
    "w, h= 450, 150\n",
    "txs, ls, ts = 12, 11, 12\n",
    "\n",
    "chart_formal_education= simple_per_bar(\n",
    "    source, title=title, X=X, Y=Y, width=w, height=h, text_size = txs, label_size = ls, title_size=ts)\n",
    "chart_formal_education"
   ]
  },
  {
   "cell_type": "markdown",
   "id": "deddd709",
   "metadata": {},
   "source": [
    "## Overall results"
   ]
  },
  {
   "cell_type": "code",
   "execution_count": 190,
   "id": "55918490-a1d3-46ba-aef0-b7cc07b5083e",
   "metadata": {},
   "outputs": [],
   "source": [
    "df_emo_answers = df.loc[:, 'Q2.1':'Q195.1'] # subset photos\n",
    "df_emo_answers.columns.to_frame().reset_index(drop=True).to_csv('../clean_data/photo_ids.csv', index=False)"
   ]
  },
  {
   "cell_type": "code",
   "execution_count": 127,
   "id": "2cb6219e",
   "metadata": {},
   "outputs": [
    {
     "data": {
      "text/html": [
       "\n",
       "<div id=\"altair-viz-defdb082894c4f18a3370f4d70ad49a6\"></div>\n",
       "<script type=\"text/javascript\">\n",
       "  (function(spec, embedOpt){\n",
       "    let outputDiv = document.currentScript.previousElementSibling;\n",
       "    if (outputDiv.id !== \"altair-viz-defdb082894c4f18a3370f4d70ad49a6\") {\n",
       "      outputDiv = document.getElementById(\"altair-viz-defdb082894c4f18a3370f4d70ad49a6\");\n",
       "    }\n",
       "    const paths = {\n",
       "      \"vega\": \"https://cdn.jsdelivr.net/npm//vega@5?noext\",\n",
       "      \"vega-lib\": \"https://cdn.jsdelivr.net/npm//vega-lib?noext\",\n",
       "      \"vega-lite\": \"https://cdn.jsdelivr.net/npm//vega-lite@4.8.1?noext\",\n",
       "      \"vega-embed\": \"https://cdn.jsdelivr.net/npm//vega-embed@6?noext\",\n",
       "    };\n",
       "\n",
       "    function loadScript(lib) {\n",
       "      return new Promise(function(resolve, reject) {\n",
       "        var s = document.createElement('script');\n",
       "        s.src = paths[lib];\n",
       "        s.async = true;\n",
       "        s.onload = () => resolve(paths[lib]);\n",
       "        s.onerror = () => reject(`Error loading script: ${paths[lib]}`);\n",
       "        document.getElementsByTagName(\"head\")[0].appendChild(s);\n",
       "      });\n",
       "    }\n",
       "\n",
       "    function showError(err) {\n",
       "      outputDiv.innerHTML = `<div class=\"error\" style=\"color:red;\">${err}</div>`;\n",
       "      throw err;\n",
       "    }\n",
       "\n",
       "    function displayChart(vegaEmbed) {\n",
       "      vegaEmbed(outputDiv, spec, embedOpt)\n",
       "        .catch(err => showError(`Javascript Error: ${err.message}<br>This usually means there's a typo in your chart specification. See the javascript console for the full traceback.`));\n",
       "    }\n",
       "\n",
       "    if(typeof define === \"function\" && define.amd) {\n",
       "      requirejs.config({paths});\n",
       "      require([\"vega-embed\"], displayChart, err => showError(`Error loading script: ${err.message}`));\n",
       "    } else if (typeof vegaEmbed === \"function\") {\n",
       "      displayChart(vegaEmbed);\n",
       "    } else {\n",
       "      loadScript(\"vega\")\n",
       "        .then(() => loadScript(\"vega-lite\"))\n",
       "        .then(() => loadScript(\"vega-embed\"))\n",
       "        .catch(showError)\n",
       "        .then(() => displayChart(vegaEmbed));\n",
       "    }\n",
       "  })({\"config\": {\"view\": {\"continuousWidth\": 400, \"continuousHeight\": 300}, \"axis\": {\"labelFontSize\": 11, \"titleFontSize\": 12}}, \"layer\": [{\"mark\": \"bar\", \"encoding\": {\"color\": {\"condition\": {\"value\": \"orange\", \"test\": \"(datum.emotion === 'Some')\"}, \"value\": \"#0570b0\"}, \"x\": {\"type\": \"quantitative\", \"axis\": {\"format\": \".0%\"}, \"field\": \"percent\"}, \"y\": {\"type\": \"nominal\", \"field\": \"emotion\", \"sort\": \"-x\"}}, \"title\": \"Labels frequency | n = 9894\"}, {\"mark\": {\"type\": \"text\", \"align\": \"left\", \"baseline\": \"middle\", \"dx\": 3, \"fontSize\": 12}, \"encoding\": {\"color\": {\"condition\": {\"value\": \"orange\", \"test\": \"(datum.emotion === 'Some')\"}, \"value\": \"#0570b0\"}, \"text\": {\"type\": \"quantitative\", \"field\": \"percent\", \"format\": \".1%\"}, \"x\": {\"type\": \"quantitative\", \"axis\": {\"format\": \".0%\"}, \"field\": \"percent\"}, \"y\": {\"type\": \"nominal\", \"field\": \"emotion\", \"sort\": \"-x\"}}, \"title\": \"Labels frequency | n = 9894\"}], \"data\": {\"name\": \"data-005428293baed6b7594144299f5282b7\"}, \"height\": 200, \"width\": 450, \"$schema\": \"https://vega.github.io/schema/vega-lite/v4.8.1.json\", \"datasets\": {\"data-005428293baed6b7594144299f5282b7\": [{\"counts\": 1545, \"emotion\": \"Happiness\", \"percent\": 0.156155245603396}, {\"counts\": 1413, \"emotion\": \"Neutral\", \"percent\": 0.14281382656155245}, {\"counts\": 1343, \"emotion\": \"Surprise\", \"percent\": 0.13573883161512026}, {\"counts\": 1314, \"emotion\": \"Sadness\", \"percent\": 0.1328077622801698}, {\"counts\": 1114, \"emotion\": \"Disgust\", \"percent\": 0.11259349100464928}, {\"counts\": 1105, \"emotion\": \"Anger\", \"percent\": 0.11168384879725086}, {\"counts\": 739, \"emotion\": \"Other\", \"percent\": 0.07469173236304831}, {\"counts\": 671, \"emotion\": \"Fear\", \"percent\": 0.06781888012937133}, {\"counts\": 650, \"emotion\": \"Uncertain\", \"percent\": 0.06569638164544168}]}}, {\"renderer\": \"svg\", \"mode\": \"vega-lite\"});\n",
       "</script>"
      ],
      "text/plain": [
       "alt.LayerChart(...)"
      ]
     },
     "metadata": {},
     "output_type": "display_data"
    }
   ],
   "source": [
    "source = count_freq_labels(df_emo_answers, X=\"all\") \n",
    "\n",
    "# save list of emotions words to avoid repeating this computation later\n",
    "emotion_words_list = source['emotion'].str.lower().tolist()\n",
    "emotion_words_list.remove('other')\n",
    "\n",
    "title = 'Labels frequency | n = '+ source['counts'].sum().astype(str)\n",
    "X, Y = 'percent:Q', 'emotion:N'\n",
    "w, h= 450, 200\n",
    "txs, ls, ts = 12, 11, 12\n",
    "\n",
    "chart_overall_per = simple_per_bar(\n",
    "    source, title=title, X=X, Y=Y, width=w, height=h, text_size = txs, label_size = ls, title_size=ts)\n",
    "chart_overall_per"
   ]
  },
  {
   "cell_type": "code",
   "execution_count": 128,
   "id": "9c7b4424-92a0-481a-9372-c7c2f92c420c",
   "metadata": {},
   "outputs": [
    {
     "data": {
      "text/html": [
       "\n",
       "<div id=\"altair-viz-0e0aee12c8af4e208d251aa644b39b1d\"></div>\n",
       "<script type=\"text/javascript\">\n",
       "  (function(spec, embedOpt){\n",
       "    let outputDiv = document.currentScript.previousElementSibling;\n",
       "    if (outputDiv.id !== \"altair-viz-0e0aee12c8af4e208d251aa644b39b1d\") {\n",
       "      outputDiv = document.getElementById(\"altair-viz-0e0aee12c8af4e208d251aa644b39b1d\");\n",
       "    }\n",
       "    const paths = {\n",
       "      \"vega\": \"https://cdn.jsdelivr.net/npm//vega@5?noext\",\n",
       "      \"vega-lib\": \"https://cdn.jsdelivr.net/npm//vega-lib?noext\",\n",
       "      \"vega-lite\": \"https://cdn.jsdelivr.net/npm//vega-lite@4.8.1?noext\",\n",
       "      \"vega-embed\": \"https://cdn.jsdelivr.net/npm//vega-embed@6?noext\",\n",
       "    };\n",
       "\n",
       "    function loadScript(lib) {\n",
       "      return new Promise(function(resolve, reject) {\n",
       "        var s = document.createElement('script');\n",
       "        s.src = paths[lib];\n",
       "        s.async = true;\n",
       "        s.onload = () => resolve(paths[lib]);\n",
       "        s.onerror = () => reject(`Error loading script: ${paths[lib]}`);\n",
       "        document.getElementsByTagName(\"head\")[0].appendChild(s);\n",
       "      });\n",
       "    }\n",
       "\n",
       "    function showError(err) {\n",
       "      outputDiv.innerHTML = `<div class=\"error\" style=\"color:red;\">${err}</div>`;\n",
       "      throw err;\n",
       "    }\n",
       "\n",
       "    function displayChart(vegaEmbed) {\n",
       "      vegaEmbed(outputDiv, spec, embedOpt)\n",
       "        .catch(err => showError(`Javascript Error: ${err.message}<br>This usually means there's a typo in your chart specification. See the javascript console for the full traceback.`));\n",
       "    }\n",
       "\n",
       "    if(typeof define === \"function\" && define.amd) {\n",
       "      requirejs.config({paths});\n",
       "      require([\"vega-embed\"], displayChart, err => showError(`Error loading script: ${err.message}`));\n",
       "    } else if (typeof vegaEmbed === \"function\") {\n",
       "      displayChart(vegaEmbed);\n",
       "    } else {\n",
       "      loadScript(\"vega\")\n",
       "        .then(() => loadScript(\"vega-lite\"))\n",
       "        .then(() => loadScript(\"vega-embed\"))\n",
       "        .catch(showError)\n",
       "        .then(() => displayChart(vegaEmbed));\n",
       "    }\n",
       "  })({\"config\": {\"view\": {\"continuousWidth\": 400, \"continuousHeight\": 300}, \"axis\": {\"labelFontSize\": 11, \"titleFontSize\": 12}}, \"layer\": [{\"mark\": \"bar\", \"encoding\": {\"color\": {\"condition\": {\"value\": \"#orange\", \"test\": \"(datum.emotion === 'Some')\"}, \"value\": \"#0570b0\"}, \"x\": {\"type\": \"quantitative\", \"field\": \"counts\"}, \"y\": {\"type\": \"nominal\", \"field\": \"emotion\", \"sort\": \"-x\"}}, \"title\": \"Labels frequency | n = 9894\"}, {\"mark\": {\"type\": \"text\", \"align\": \"left\", \"baseline\": \"middle\", \"dx\": 3, \"fontSize\": 12}, \"encoding\": {\"color\": {\"condition\": {\"value\": \"#orange\", \"test\": \"(datum.emotion === 'Some')\"}, \"value\": \"#0570b0\"}, \"text\": {\"type\": \"quantitative\", \"field\": \"counts\"}, \"x\": {\"type\": \"quantitative\", \"field\": \"counts\"}, \"y\": {\"type\": \"nominal\", \"field\": \"emotion\", \"sort\": \"-x\"}}, \"title\": \"Labels frequency | n = 9894\"}], \"data\": {\"name\": \"data-005428293baed6b7594144299f5282b7\"}, \"height\": 200, \"width\": 450, \"$schema\": \"https://vega.github.io/schema/vega-lite/v4.8.1.json\", \"datasets\": {\"data-005428293baed6b7594144299f5282b7\": [{\"counts\": 1545, \"emotion\": \"Happiness\", \"percent\": 0.156155245603396}, {\"counts\": 1413, \"emotion\": \"Neutral\", \"percent\": 0.14281382656155245}, {\"counts\": 1343, \"emotion\": \"Surprise\", \"percent\": 0.13573883161512026}, {\"counts\": 1314, \"emotion\": \"Sadness\", \"percent\": 0.1328077622801698}, {\"counts\": 1114, \"emotion\": \"Disgust\", \"percent\": 0.11259349100464928}, {\"counts\": 1105, \"emotion\": \"Anger\", \"percent\": 0.11168384879725086}, {\"counts\": 739, \"emotion\": \"Other\", \"percent\": 0.07469173236304831}, {\"counts\": 671, \"emotion\": \"Fear\", \"percent\": 0.06781888012937133}, {\"counts\": 650, \"emotion\": \"Uncertain\", \"percent\": 0.06569638164544168}]}}, {\"renderer\": \"svg\", \"mode\": \"vega-lite\"});\n",
       "</script>"
      ],
      "text/plain": [
       "alt.LayerChart(...)"
      ]
     },
     "metadata": {},
     "output_type": "display_data"
    }
   ],
   "source": [
    "source = count_freq_labels(df_emo_answers, X=\"all\") \n",
    "title = 'Labels frequency | n = '+ source['counts'].sum().astype(str)\n",
    "X, Y = 'counts:Q', 'emotion:N'\n",
    "w, h= 450, 200\n",
    "txs, ls, ts = 12, 11, 12\n",
    "\n",
    "chart_overall_count = simple_count_bar(\n",
    "    source, title=title, X=X, Y=Y, width=w, height=h, text_size = txs, label_size = ls, title_size=ts)\n",
    "chart_overall_count"
   ]
  },
  {
   "cell_type": "markdown",
   "id": "68bd5682-7512-4454-9673-27bd6ad01646",
   "metadata": {},
   "source": [
    "## Most frequently used word for each emotion category (grouping pictures by expected-emotion)"
   ]
  },
  {
   "cell_type": "code",
   "execution_count": 129,
   "id": "bd79088b-ed11-47f2-8d09-14a8f4f51f11",
   "metadata": {},
   "outputs": [],
   "source": [
    "def emotion_df_formated(df_emo_answers, emotion_label):\n",
    "    df_emo_cat = df_emo_answers.copy() \n",
    "    df_emo_cat_t = df_emo_cat.T # transpose\n",
    "    df_emo_cat_t['photo_id'] = df_emo_cat_t.index # get index as col\n",
    "    df_emo_cat_t = df_emo_cat_t.reset_index(drop=True) # clean index\n",
    "    df_emo_cat_t_labels = pd.concat([df_emo_cat_t, df_labels], axis=1) # add metadata cols\n",
    "    df_label =  df_emo_cat_t_labels[df_emo_cat_t_labels['label'] == emotion_label]\n",
    "    return df_label"
   ]
  },
  {
   "cell_type": "code",
   "execution_count": 130,
   "id": "f5a83f30",
   "metadata": {},
   "outputs": [
    {
     "data": {
      "text/html": [
       "\n",
       "<div id=\"altair-viz-ede92f3a909148649234b0199cdd511f\"></div>\n",
       "<script type=\"text/javascript\">\n",
       "  (function(spec, embedOpt){\n",
       "    let outputDiv = document.currentScript.previousElementSibling;\n",
       "    if (outputDiv.id !== \"altair-viz-ede92f3a909148649234b0199cdd511f\") {\n",
       "      outputDiv = document.getElementById(\"altair-viz-ede92f3a909148649234b0199cdd511f\");\n",
       "    }\n",
       "    const paths = {\n",
       "      \"vega\": \"https://cdn.jsdelivr.net/npm//vega@5?noext\",\n",
       "      \"vega-lib\": \"https://cdn.jsdelivr.net/npm//vega-lib?noext\",\n",
       "      \"vega-lite\": \"https://cdn.jsdelivr.net/npm//vega-lite@4.8.1?noext\",\n",
       "      \"vega-embed\": \"https://cdn.jsdelivr.net/npm//vega-embed@6?noext\",\n",
       "    };\n",
       "\n",
       "    function loadScript(lib) {\n",
       "      return new Promise(function(resolve, reject) {\n",
       "        var s = document.createElement('script');\n",
       "        s.src = paths[lib];\n",
       "        s.async = true;\n",
       "        s.onload = () => resolve(paths[lib]);\n",
       "        s.onerror = () => reject(`Error loading script: ${paths[lib]}`);\n",
       "        document.getElementsByTagName(\"head\")[0].appendChild(s);\n",
       "      });\n",
       "    }\n",
       "\n",
       "    function showError(err) {\n",
       "      outputDiv.innerHTML = `<div class=\"error\" style=\"color:red;\">${err}</div>`;\n",
       "      throw err;\n",
       "    }\n",
       "\n",
       "    function displayChart(vegaEmbed) {\n",
       "      vegaEmbed(outputDiv, spec, embedOpt)\n",
       "        .catch(err => showError(`Javascript Error: ${err.message}<br>This usually means there's a typo in your chart specification. See the javascript console for the full traceback.`));\n",
       "    }\n",
       "\n",
       "    if(typeof define === \"function\" && define.amd) {\n",
       "      requirejs.config({paths});\n",
       "      require([\"vega-embed\"], displayChart, err => showError(`Error loading script: ${err.message}`));\n",
       "    } else if (typeof vegaEmbed === \"function\") {\n",
       "      displayChart(vegaEmbed);\n",
       "    } else {\n",
       "      loadScript(\"vega\")\n",
       "        .then(() => loadScript(\"vega-lite\"))\n",
       "        .then(() => loadScript(\"vega-embed\"))\n",
       "        .catch(showError)\n",
       "        .then(() => displayChart(vegaEmbed));\n",
       "    }\n",
       "  })({\"config\": {\"view\": {\"continuousWidth\": 400, \"continuousHeight\": 300}, \"axis\": {\"labelFontSize\": 11, \"titleFontSize\": 12}}, \"layer\": [{\"mark\": \"bar\", \"encoding\": {\"color\": {\"condition\": {\"value\": \"orange\", \"test\": \"(datum.emotion === 'Anger')\"}, \"value\": \"#0570b0\"}, \"x\": {\"type\": \"quantitative\", \"axis\": {\"format\": \".0%\"}, \"field\": \"percent\"}, \"y\": {\"type\": \"nominal\", \"field\": \"emotion\", \"sort\": \"-x\"}}, \"title\": \"Expcted label: anger | n = 1224\"}, {\"mark\": {\"type\": \"text\", \"align\": \"left\", \"baseline\": \"middle\", \"dx\": 3, \"fontSize\": 12}, \"encoding\": {\"color\": {\"condition\": {\"value\": \"orange\", \"test\": \"(datum.emotion === 'Anger')\"}, \"value\": \"#0570b0\"}, \"text\": {\"type\": \"quantitative\", \"field\": \"percent\", \"format\": \".1%\"}, \"x\": {\"type\": \"quantitative\", \"axis\": {\"format\": \".0%\"}, \"field\": \"percent\"}, \"y\": {\"type\": \"nominal\", \"field\": \"emotion\", \"sort\": \"-x\"}}, \"title\": \"Expcted label: anger | n = 1224\"}], \"data\": {\"name\": \"data-0444eee5ec661a2d59b6cb77be3869f4\"}, \"height\": 200, \"width\": 450, \"$schema\": \"https://vega.github.io/schema/vega-lite/v4.8.1.json\", \"datasets\": {\"data-0444eee5ec661a2d59b6cb77be3869f4\": [{\"counts\": 736, \"emotion\": \"Anger\", \"percent\": 0.6013071895424836}, {\"counts\": 115, \"emotion\": \"Neutral\", \"percent\": 0.09395424836601307}, {\"counts\": 113, \"emotion\": \"Disgust\", \"percent\": 0.0923202614379085}, {\"counts\": 72, \"emotion\": \"Uncertain\", \"percent\": 0.058823529411764705}, {\"counts\": 63, \"emotion\": \"Sadness\", \"percent\": 0.051470588235294115}, {\"counts\": 62, \"emotion\": \"Other\", \"percent\": 0.05065359477124183}, {\"counts\": 26, \"emotion\": \"Fear\", \"percent\": 0.021241830065359478}, {\"counts\": 19, \"emotion\": \"Surprise\", \"percent\": 0.015522875816993464}, {\"counts\": 18, \"emotion\": \"Happiness\", \"percent\": 0.014705882352941176}]}}, {\"renderer\": \"svg\", \"mode\": \"vega-lite\"});\n",
       "</script>"
      ],
      "text/plain": [
       "alt.LayerChart(...)"
      ]
     },
     "metadata": {},
     "output_type": "display_data"
    }
   ],
   "source": [
    "emotion = 'anger'\n",
    "df_formated = emotion_df_formated(df_emo_answers, emotion) # subset 'anger' rows\n",
    "df_formated_ans = df_formated.drop(['photo_id', 'ethnicity', 'sex','age', 'label', 'url'], axis=1)\n",
    "source = count_freq_labels(df_formated_ans, X=\"all\") \n",
    "title = 'Expcted label: '+ emotion + ' | n = '+ source['counts'].sum().astype(str)\n",
    "X, Y = 'percent:Q', 'emotion:N'\n",
    "w, h= 450, 200\n",
    "txs, ls, ts = 12, 11, 12\n",
    "\n",
    "\n",
    "chart_anger = simple_per_bar(\n",
    "    source, title=title, X=X, Y=Y, \\\n",
    "    width=w, height=h, emotion=emotion.capitalize(), \\\n",
    "    text_size = txs, label_size = ls, title_size=ts)"
   ]
  },
  {
   "cell_type": "markdown",
   "id": "e67b1442-81fb-412b-ac9b-6606b2701365",
   "metadata": {},
   "source": [
    "### Disgust"
   ]
  },
  {
   "cell_type": "code",
   "execution_count": 131,
   "id": "d1e35410",
   "metadata": {},
   "outputs": [
    {
     "data": {
      "text/html": [
       "\n",
       "<div id=\"altair-viz-bf41631fd7124ed1b2f57dc2b7a3a8c5\"></div>\n",
       "<script type=\"text/javascript\">\n",
       "  (function(spec, embedOpt){\n",
       "    let outputDiv = document.currentScript.previousElementSibling;\n",
       "    if (outputDiv.id !== \"altair-viz-bf41631fd7124ed1b2f57dc2b7a3a8c5\") {\n",
       "      outputDiv = document.getElementById(\"altair-viz-bf41631fd7124ed1b2f57dc2b7a3a8c5\");\n",
       "    }\n",
       "    const paths = {\n",
       "      \"vega\": \"https://cdn.jsdelivr.net/npm//vega@5?noext\",\n",
       "      \"vega-lib\": \"https://cdn.jsdelivr.net/npm//vega-lib?noext\",\n",
       "      \"vega-lite\": \"https://cdn.jsdelivr.net/npm//vega-lite@4.8.1?noext\",\n",
       "      \"vega-embed\": \"https://cdn.jsdelivr.net/npm//vega-embed@6?noext\",\n",
       "    };\n",
       "\n",
       "    function loadScript(lib) {\n",
       "      return new Promise(function(resolve, reject) {\n",
       "        var s = document.createElement('script');\n",
       "        s.src = paths[lib];\n",
       "        s.async = true;\n",
       "        s.onload = () => resolve(paths[lib]);\n",
       "        s.onerror = () => reject(`Error loading script: ${paths[lib]}`);\n",
       "        document.getElementsByTagName(\"head\")[0].appendChild(s);\n",
       "      });\n",
       "    }\n",
       "\n",
       "    function showError(err) {\n",
       "      outputDiv.innerHTML = `<div class=\"error\" style=\"color:red;\">${err}</div>`;\n",
       "      throw err;\n",
       "    }\n",
       "\n",
       "    function displayChart(vegaEmbed) {\n",
       "      vegaEmbed(outputDiv, spec, embedOpt)\n",
       "        .catch(err => showError(`Javascript Error: ${err.message}<br>This usually means there's a typo in your chart specification. See the javascript console for the full traceback.`));\n",
       "    }\n",
       "\n",
       "    if(typeof define === \"function\" && define.amd) {\n",
       "      requirejs.config({paths});\n",
       "      require([\"vega-embed\"], displayChart, err => showError(`Error loading script: ${err.message}`));\n",
       "    } else if (typeof vegaEmbed === \"function\") {\n",
       "      displayChart(vegaEmbed);\n",
       "    } else {\n",
       "      loadScript(\"vega\")\n",
       "        .then(() => loadScript(\"vega-lite\"))\n",
       "        .then(() => loadScript(\"vega-embed\"))\n",
       "        .catch(showError)\n",
       "        .then(() => displayChart(vegaEmbed));\n",
       "    }\n",
       "  })({\"config\": {\"view\": {\"continuousWidth\": 400, \"continuousHeight\": 300}, \"axis\": {\"labelFontSize\": 11, \"titleFontSize\": 12}}, \"layer\": [{\"mark\": \"bar\", \"encoding\": {\"color\": {\"condition\": {\"value\": \"orange\", \"test\": \"(datum.emotion === 'Disgust')\"}, \"value\": \"#0570b0\"}, \"x\": {\"type\": \"quantitative\", \"axis\": {\"format\": \".0%\"}, \"field\": \"percent\"}, \"y\": {\"type\": \"nominal\", \"field\": \"emotion\", \"sort\": \"-x\"}}, \"title\": \"Expcted label: disgust | n = 1224\"}, {\"mark\": {\"type\": \"text\", \"align\": \"left\", \"baseline\": \"middle\", \"dx\": 3, \"fontSize\": 12}, \"encoding\": {\"color\": {\"condition\": {\"value\": \"orange\", \"test\": \"(datum.emotion === 'Disgust')\"}, \"value\": \"#0570b0\"}, \"text\": {\"type\": \"quantitative\", \"field\": \"percent\", \"format\": \".1%\"}, \"x\": {\"type\": \"quantitative\", \"axis\": {\"format\": \".0%\"}, \"field\": \"percent\"}, \"y\": {\"type\": \"nominal\", \"field\": \"emotion\", \"sort\": \"-x\"}}, \"title\": \"Expcted label: disgust | n = 1224\"}], \"data\": {\"name\": \"data-dd3efb2cf2fc00cd77c303579a1989bf\"}, \"height\": 200, \"width\": 450, \"$schema\": \"https://vega.github.io/schema/vega-lite/v4.8.1.json\", \"datasets\": {\"data-dd3efb2cf2fc00cd77c303579a1989bf\": [{\"counts\": 679, \"emotion\": \"Disgust\", \"percent\": 0.5547385620915033}, {\"counts\": 148, \"emotion\": \"Anger\", \"percent\": 0.12091503267973856}, {\"counts\": 104, \"emotion\": \"Other\", \"percent\": 0.08496732026143791}, {\"counts\": 95, \"emotion\": \"Uncertain\", \"percent\": 0.07761437908496732}, {\"counts\": 64, \"emotion\": \"Happiness\", \"percent\": 0.05228758169934641}, {\"counts\": 56, \"emotion\": \"Surprise\", \"percent\": 0.0457516339869281}, {\"counts\": 36, \"emotion\": \"Fear\", \"percent\": 0.029411764705882353}, {\"counts\": 25, \"emotion\": \"Sadness\", \"percent\": 0.02042483660130719}, {\"counts\": 17, \"emotion\": \"Neutral\", \"percent\": 0.013888888888888888}]}}, {\"renderer\": \"svg\", \"mode\": \"vega-lite\"});\n",
       "</script>"
      ],
      "text/plain": [
       "alt.LayerChart(...)"
      ]
     },
     "metadata": {},
     "output_type": "display_data"
    }
   ],
   "source": [
    "emotion = 'disgust'\n",
    "df_formated = emotion_df_formated(df_emo_answers, emotion) # subset 'anger' rows\n",
    "df_formated_ans = df_formated.drop(['photo_id', 'ethnicity', 'sex','age', 'label', 'url'], axis=1)\n",
    "source = count_freq_labels(df_formated_ans, X=\"all\") \n",
    "title = 'Expcted label: '+ emotion + ' | n = '+ source['counts'].sum().astype(str)\n",
    "X, Y = 'percent:Q', 'emotion:N'\n",
    "w, h= 450, 200\n",
    "txs, ls, ts = 12, 11, 12\n",
    "\n",
    "\n",
    "chart_disgust = simple_per_bar(\n",
    "    source, title=title, X=X, Y=Y, \\\n",
    "    width=w, height=h,  emotion=emotion.capitalize(),\\\n",
    "    text_size = txs, label_size = ls, title_size=ts)"
   ]
  },
  {
   "cell_type": "markdown",
   "id": "474f1bfa-d0e8-40c7-9e87-59d83e961979",
   "metadata": {},
   "source": [
    "### Fear"
   ]
  },
  {
   "cell_type": "code",
   "execution_count": 132,
   "id": "61fd24eb-0c53-48c8-8435-7543dc8e56bb",
   "metadata": {},
   "outputs": [
    {
     "data": {
      "text/html": [
       "\n",
       "<div id=\"altair-viz-518ca0350fb54a62a6a5ed4a4ed595b2\"></div>\n",
       "<script type=\"text/javascript\">\n",
       "  (function(spec, embedOpt){\n",
       "    let outputDiv = document.currentScript.previousElementSibling;\n",
       "    if (outputDiv.id !== \"altair-viz-518ca0350fb54a62a6a5ed4a4ed595b2\") {\n",
       "      outputDiv = document.getElementById(\"altair-viz-518ca0350fb54a62a6a5ed4a4ed595b2\");\n",
       "    }\n",
       "    const paths = {\n",
       "      \"vega\": \"https://cdn.jsdelivr.net/npm//vega@5?noext\",\n",
       "      \"vega-lib\": \"https://cdn.jsdelivr.net/npm//vega-lib?noext\",\n",
       "      \"vega-lite\": \"https://cdn.jsdelivr.net/npm//vega-lite@4.8.1?noext\",\n",
       "      \"vega-embed\": \"https://cdn.jsdelivr.net/npm//vega-embed@6?noext\",\n",
       "    };\n",
       "\n",
       "    function loadScript(lib) {\n",
       "      return new Promise(function(resolve, reject) {\n",
       "        var s = document.createElement('script');\n",
       "        s.src = paths[lib];\n",
       "        s.async = true;\n",
       "        s.onload = () => resolve(paths[lib]);\n",
       "        s.onerror = () => reject(`Error loading script: ${paths[lib]}`);\n",
       "        document.getElementsByTagName(\"head\")[0].appendChild(s);\n",
       "      });\n",
       "    }\n",
       "\n",
       "    function showError(err) {\n",
       "      outputDiv.innerHTML = `<div class=\"error\" style=\"color:red;\">${err}</div>`;\n",
       "      throw err;\n",
       "    }\n",
       "\n",
       "    function displayChart(vegaEmbed) {\n",
       "      vegaEmbed(outputDiv, spec, embedOpt)\n",
       "        .catch(err => showError(`Javascript Error: ${err.message}<br>This usually means there's a typo in your chart specification. See the javascript console for the full traceback.`));\n",
       "    }\n",
       "\n",
       "    if(typeof define === \"function\" && define.amd) {\n",
       "      requirejs.config({paths});\n",
       "      require([\"vega-embed\"], displayChart, err => showError(`Error loading script: ${err.message}`));\n",
       "    } else if (typeof vegaEmbed === \"function\") {\n",
       "      displayChart(vegaEmbed);\n",
       "    } else {\n",
       "      loadScript(\"vega\")\n",
       "        .then(() => loadScript(\"vega-lite\"))\n",
       "        .then(() => loadScript(\"vega-embed\"))\n",
       "        .catch(showError)\n",
       "        .then(() => displayChart(vegaEmbed));\n",
       "    }\n",
       "  })({\"config\": {\"view\": {\"continuousWidth\": 400, \"continuousHeight\": 300}, \"axis\": {\"labelFontSize\": 11, \"titleFontSize\": 12}}, \"layer\": [{\"mark\": \"bar\", \"encoding\": {\"color\": {\"condition\": {\"value\": \"orange\", \"test\": \"(datum.emotion === 'Fear')\"}, \"value\": \"#0570b0\"}, \"x\": {\"type\": \"quantitative\", \"axis\": {\"format\": \".0%\"}, \"field\": \"percent\"}, \"y\": {\"type\": \"nominal\", \"field\": \"emotion\", \"sort\": \"-x\"}}, \"title\": \"Expcted label: fear | n = 1224\"}, {\"mark\": {\"type\": \"text\", \"align\": \"left\", \"baseline\": \"middle\", \"dx\": 3, \"fontSize\": 12}, \"encoding\": {\"color\": {\"condition\": {\"value\": \"orange\", \"test\": \"(datum.emotion === 'Fear')\"}, \"value\": \"#0570b0\"}, \"text\": {\"type\": \"quantitative\", \"field\": \"percent\", \"format\": \".1%\"}, \"x\": {\"type\": \"quantitative\", \"axis\": {\"format\": \".0%\"}, \"field\": \"percent\"}, \"y\": {\"type\": \"nominal\", \"field\": \"emotion\", \"sort\": \"-x\"}}, \"title\": \"Expcted label: fear | n = 1224\"}], \"data\": {\"name\": \"data-acbc73da5f18567651ead97d26141680\"}, \"height\": 200, \"width\": 450, \"$schema\": \"https://vega.github.io/schema/vega-lite/v4.8.1.json\", \"datasets\": {\"data-acbc73da5f18567651ead97d26141680\": [{\"counts\": 387, \"emotion\": \"Fear\", \"percent\": 0.3161764705882353}, {\"counts\": 382, \"emotion\": \"Surprise\", \"percent\": 0.31209150326797386}, {\"counts\": 184, \"emotion\": \"Sadness\", \"percent\": 0.1503267973856209}, {\"counts\": 82, \"emotion\": \"Disgust\", \"percent\": 0.06699346405228758}, {\"counts\": 55, \"emotion\": \"Uncertain\", \"percent\": 0.04493464052287582}, {\"counts\": 50, \"emotion\": \"Other\", \"percent\": 0.04084967320261438}, {\"counts\": 31, \"emotion\": \"Neutral\", \"percent\": 0.025326797385620915}, {\"counts\": 28, \"emotion\": \"Happiness\", \"percent\": 0.02287581699346405}, {\"counts\": 25, \"emotion\": \"Anger\", \"percent\": 0.02042483660130719}]}}, {\"renderer\": \"svg\", \"mode\": \"vega-lite\"});\n",
       "</script>"
      ],
      "text/plain": [
       "alt.LayerChart(...)"
      ]
     },
     "metadata": {},
     "output_type": "display_data"
    }
   ],
   "source": [
    "emotion = 'fear'\n",
    "df_formated = emotion_df_formated(df_emo_answers, emotion) # subset 'anger' rows\n",
    "df_formated_ans = df_formated.drop(['photo_id', 'ethnicity', 'sex','age', 'label', 'url'], axis=1)\n",
    "source = count_freq_labels(df_formated_ans, X=\"all\") \n",
    "title = 'Expcted label: '+ emotion + ' | n = '+ source['counts'].sum().astype(str)\n",
    "X, Y = 'percent:Q', 'emotion:N'\n",
    "w, h= 450, 200\n",
    "txs, ls, ts = 12, 11, 12\n",
    "\n",
    "\n",
    "chart_fear = simple_per_bar(\n",
    "    source, title=title, X=X, Y=Y, \\\n",
    "    width=w, height=h,  emotion=emotion.capitalize(),\\\n",
    "    text_size = txs, label_size = ls, title_size=ts)"
   ]
  },
  {
   "cell_type": "markdown",
   "id": "c416331c-8652-407e-8275-46f6283905d8",
   "metadata": {},
   "source": [
    "### Surprise"
   ]
  },
  {
   "cell_type": "code",
   "execution_count": 133,
   "id": "741e08a9-18cb-4347-8536-a9d68dc70dcc",
   "metadata": {},
   "outputs": [
    {
     "data": {
      "text/html": [
       "\n",
       "<div id=\"altair-viz-446d9165a6324bdb9b5e5d428c890507\"></div>\n",
       "<script type=\"text/javascript\">\n",
       "  (function(spec, embedOpt){\n",
       "    let outputDiv = document.currentScript.previousElementSibling;\n",
       "    if (outputDiv.id !== \"altair-viz-446d9165a6324bdb9b5e5d428c890507\") {\n",
       "      outputDiv = document.getElementById(\"altair-viz-446d9165a6324bdb9b5e5d428c890507\");\n",
       "    }\n",
       "    const paths = {\n",
       "      \"vega\": \"https://cdn.jsdelivr.net/npm//vega@5?noext\",\n",
       "      \"vega-lib\": \"https://cdn.jsdelivr.net/npm//vega-lib?noext\",\n",
       "      \"vega-lite\": \"https://cdn.jsdelivr.net/npm//vega-lite@4.8.1?noext\",\n",
       "      \"vega-embed\": \"https://cdn.jsdelivr.net/npm//vega-embed@6?noext\",\n",
       "    };\n",
       "\n",
       "    function loadScript(lib) {\n",
       "      return new Promise(function(resolve, reject) {\n",
       "        var s = document.createElement('script');\n",
       "        s.src = paths[lib];\n",
       "        s.async = true;\n",
       "        s.onload = () => resolve(paths[lib]);\n",
       "        s.onerror = () => reject(`Error loading script: ${paths[lib]}`);\n",
       "        document.getElementsByTagName(\"head\")[0].appendChild(s);\n",
       "      });\n",
       "    }\n",
       "\n",
       "    function showError(err) {\n",
       "      outputDiv.innerHTML = `<div class=\"error\" style=\"color:red;\">${err}</div>`;\n",
       "      throw err;\n",
       "    }\n",
       "\n",
       "    function displayChart(vegaEmbed) {\n",
       "      vegaEmbed(outputDiv, spec, embedOpt)\n",
       "        .catch(err => showError(`Javascript Error: ${err.message}<br>This usually means there's a typo in your chart specification. See the javascript console for the full traceback.`));\n",
       "    }\n",
       "\n",
       "    if(typeof define === \"function\" && define.amd) {\n",
       "      requirejs.config({paths});\n",
       "      require([\"vega-embed\"], displayChart, err => showError(`Error loading script: ${err.message}`));\n",
       "    } else if (typeof vegaEmbed === \"function\") {\n",
       "      displayChart(vegaEmbed);\n",
       "    } else {\n",
       "      loadScript(\"vega\")\n",
       "        .then(() => loadScript(\"vega-lite\"))\n",
       "        .then(() => loadScript(\"vega-embed\"))\n",
       "        .catch(showError)\n",
       "        .then(() => displayChart(vegaEmbed));\n",
       "    }\n",
       "  })({\"config\": {\"view\": {\"continuousWidth\": 400, \"continuousHeight\": 300}, \"axis\": {\"labelFontSize\": 11, \"titleFontSize\": 12}}, \"layer\": [{\"mark\": \"bar\", \"encoding\": {\"color\": {\"condition\": {\"value\": \"orange\", \"test\": \"(datum.emotion === 'Surprise')\"}, \"value\": \"#0570b0\"}, \"x\": {\"type\": \"quantitative\", \"axis\": {\"format\": \".0%\"}, \"field\": \"percent\"}, \"y\": {\"type\": \"nominal\", \"field\": \"emotion\", \"sort\": \"-x\"}}, \"title\": \"Expcted label: surprise | n = 1224\"}, {\"mark\": {\"type\": \"text\", \"align\": \"left\", \"baseline\": \"middle\", \"dx\": 3, \"fontSize\": 12}, \"encoding\": {\"color\": {\"condition\": {\"value\": \"orange\", \"test\": \"(datum.emotion === 'Surprise')\"}, \"value\": \"#0570b0\"}, \"text\": {\"type\": \"quantitative\", \"field\": \"percent\", \"format\": \".1%\"}, \"x\": {\"type\": \"quantitative\", \"axis\": {\"format\": \".0%\"}, \"field\": \"percent\"}, \"y\": {\"type\": \"nominal\", \"field\": \"emotion\", \"sort\": \"-x\"}}, \"title\": \"Expcted label: surprise | n = 1224\"}], \"data\": {\"name\": \"data-79cfd20cfa81e2ea2e67bcb99bdd2386\"}, \"height\": 200, \"width\": 450, \"$schema\": \"https://vega.github.io/schema/vega-lite/v4.8.1.json\", \"datasets\": {\"data-79cfd20cfa81e2ea2e67bcb99bdd2386\": [{\"counts\": 707, \"emotion\": \"Surprise\", \"percent\": 0.5776143790849673}, {\"counts\": 138, \"emotion\": \"Happiness\", \"percent\": 0.11274509803921569}, {\"counts\": 103, \"emotion\": \"Fear\", \"percent\": 0.08415032679738563}, {\"counts\": 94, \"emotion\": \"Neutral\", \"percent\": 0.07679738562091504}, {\"counts\": 79, \"emotion\": \"Other\", \"percent\": 0.06454248366013073}, {\"counts\": 58, \"emotion\": \"Uncertain\", \"percent\": 0.04738562091503268}, {\"counts\": 23, \"emotion\": \"Anger\", \"percent\": 0.018790849673202614}, {\"counts\": 16, \"emotion\": \"Disgust\", \"percent\": 0.013071895424836602}, {\"counts\": 6, \"emotion\": \"Sadness\", \"percent\": 0.004901960784313725}]}}, {\"renderer\": \"svg\", \"mode\": \"vega-lite\"});\n",
       "</script>"
      ],
      "text/plain": [
       "alt.LayerChart(...)"
      ]
     },
     "metadata": {},
     "output_type": "display_data"
    }
   ],
   "source": [
    "emotion = 'surprise'\n",
    "df_formated = emotion_df_formated(df_emo_answers, emotion) # subset 'anger' rows\n",
    "df_formated_ans = df_formated.drop(['photo_id', 'ethnicity', 'sex','age', 'label', 'url'], axis=1)\n",
    "source = count_freq_labels(df_formated_ans, X=\"all\") \n",
    "title = 'Expcted label: '+ emotion + ' | n = '+ source['counts'].sum().astype(str)\n",
    "X, Y = 'percent:Q', 'emotion:N'\n",
    "w, h= 450, 200\n",
    "txs, ls, ts = 12, 11, 12\n",
    "\n",
    "\n",
    "chart_surprise = simple_per_bar(\n",
    "    source, title=title, X=X, Y=Y, \\\n",
    "    width=w, height=h,  emotion=emotion.capitalize(), \\\n",
    "    text_size = txs, label_size = ls, title_size=ts)"
   ]
  },
  {
   "cell_type": "markdown",
   "id": "f79a758d-8367-48f6-a223-5c786c10889f",
   "metadata": {},
   "source": [
    "### Happiness"
   ]
  },
  {
   "cell_type": "code",
   "execution_count": 134,
   "id": "f1339111-e625-41e4-a070-b99acf478d2b",
   "metadata": {},
   "outputs": [
    {
     "data": {
      "text/html": [
       "\n",
       "<div id=\"altair-viz-b0bc0cfd1e3b499e9b1fbefeb75ae4ac\"></div>\n",
       "<script type=\"text/javascript\">\n",
       "  (function(spec, embedOpt){\n",
       "    let outputDiv = document.currentScript.previousElementSibling;\n",
       "    if (outputDiv.id !== \"altair-viz-b0bc0cfd1e3b499e9b1fbefeb75ae4ac\") {\n",
       "      outputDiv = document.getElementById(\"altair-viz-b0bc0cfd1e3b499e9b1fbefeb75ae4ac\");\n",
       "    }\n",
       "    const paths = {\n",
       "      \"vega\": \"https://cdn.jsdelivr.net/npm//vega@5?noext\",\n",
       "      \"vega-lib\": \"https://cdn.jsdelivr.net/npm//vega-lib?noext\",\n",
       "      \"vega-lite\": \"https://cdn.jsdelivr.net/npm//vega-lite@4.8.1?noext\",\n",
       "      \"vega-embed\": \"https://cdn.jsdelivr.net/npm//vega-embed@6?noext\",\n",
       "    };\n",
       "\n",
       "    function loadScript(lib) {\n",
       "      return new Promise(function(resolve, reject) {\n",
       "        var s = document.createElement('script');\n",
       "        s.src = paths[lib];\n",
       "        s.async = true;\n",
       "        s.onload = () => resolve(paths[lib]);\n",
       "        s.onerror = () => reject(`Error loading script: ${paths[lib]}`);\n",
       "        document.getElementsByTagName(\"head\")[0].appendChild(s);\n",
       "      });\n",
       "    }\n",
       "\n",
       "    function showError(err) {\n",
       "      outputDiv.innerHTML = `<div class=\"error\" style=\"color:red;\">${err}</div>`;\n",
       "      throw err;\n",
       "    }\n",
       "\n",
       "    function displayChart(vegaEmbed) {\n",
       "      vegaEmbed(outputDiv, spec, embedOpt)\n",
       "        .catch(err => showError(`Javascript Error: ${err.message}<br>This usually means there's a typo in your chart specification. See the javascript console for the full traceback.`));\n",
       "    }\n",
       "\n",
       "    if(typeof define === \"function\" && define.amd) {\n",
       "      requirejs.config({paths});\n",
       "      require([\"vega-embed\"], displayChart, err => showError(`Error loading script: ${err.message}`));\n",
       "    } else if (typeof vegaEmbed === \"function\") {\n",
       "      displayChart(vegaEmbed);\n",
       "    } else {\n",
       "      loadScript(\"vega\")\n",
       "        .then(() => loadScript(\"vega-lite\"))\n",
       "        .then(() => loadScript(\"vega-embed\"))\n",
       "        .catch(showError)\n",
       "        .then(() => displayChart(vegaEmbed));\n",
       "    }\n",
       "  })({\"config\": {\"view\": {\"continuousWidth\": 400, \"continuousHeight\": 300}, \"axis\": {\"labelFontSize\": 11, \"titleFontSize\": 12}}, \"layer\": [{\"mark\": \"bar\", \"encoding\": {\"color\": {\"condition\": {\"value\": \"orange\", \"test\": \"(datum.emotion === 'Happiness')\"}, \"value\": \"#0570b0\"}, \"x\": {\"type\": \"quantitative\", \"axis\": {\"format\": \".0%\"}, \"field\": \"percent\"}, \"y\": {\"type\": \"nominal\", \"field\": \"emotion\", \"sort\": \"-x\"}}, \"title\": \"Expcted label: happiness | n = 1224\"}, {\"mark\": {\"type\": \"text\", \"align\": \"left\", \"baseline\": \"middle\", \"dx\": 3, \"fontSize\": 12}, \"encoding\": {\"color\": {\"condition\": {\"value\": \"orange\", \"test\": \"(datum.emotion === 'Happiness')\"}, \"value\": \"#0570b0\"}, \"text\": {\"type\": \"quantitative\", \"field\": \"percent\", \"format\": \".1%\"}, \"x\": {\"type\": \"quantitative\", \"axis\": {\"format\": \".0%\"}, \"field\": \"percent\"}, \"y\": {\"type\": \"nominal\", \"field\": \"emotion\", \"sort\": \"-x\"}}, \"title\": \"Expcted label: happiness | n = 1224\"}], \"data\": {\"name\": \"data-7cee1d4f4dd3b1e48e7752e5a01463e4\"}, \"height\": 200, \"width\": 450, \"$schema\": \"https://vega.github.io/schema/vega-lite/v4.8.1.json\", \"datasets\": {\"data-7cee1d4f4dd3b1e48e7752e5a01463e4\": [{\"counts\": 1044, \"emotion\": \"Happiness\", \"percent\": 0.8529411764705882}, {\"counts\": 76, \"emotion\": \"Neutral\", \"percent\": 0.06209150326797386}, {\"counts\": 31, \"emotion\": \"Uncertain\", \"percent\": 0.025326797385620915}, {\"counts\": 25, \"emotion\": \"Other\", \"percent\": 0.02042483660130719}, {\"counts\": 18, \"emotion\": \"Surprise\", \"percent\": 0.014705882352941176}, {\"counts\": 9, \"emotion\": \"Disgust\", \"percent\": 0.007352941176470588}, {\"counts\": 8, \"emotion\": \"Fear\", \"percent\": 0.006535947712418301}, {\"counts\": 7, \"emotion\": \"Sadness\", \"percent\": 0.005718954248366013}, {\"counts\": 6, \"emotion\": \"Anger\", \"percent\": 0.004901960784313725}]}}, {\"renderer\": \"svg\", \"mode\": \"vega-lite\"});\n",
       "</script>"
      ],
      "text/plain": [
       "alt.LayerChart(...)"
      ]
     },
     "metadata": {},
     "output_type": "display_data"
    }
   ],
   "source": [
    "emotion = 'happiness'\n",
    "df_formated = emotion_df_formated(df_emo_answers, emotion) # subset 'anger' rows\n",
    "df_formated_ans = df_formated.drop(['photo_id', 'ethnicity', 'sex','age', 'label', 'url'], axis=1)\n",
    "source = count_freq_labels(df_formated_ans, X=\"all\") \n",
    "title = 'Expcted label: '+ emotion + ' | n = '+ source['counts'].sum().astype(str)\n",
    "X, Y = 'percent:Q', 'emotion:N'\n",
    "w, h= 450, 200\n",
    "txs, ls, ts = 12, 11, 12\n",
    "\n",
    "\n",
    "chart_happiness = simple_per_bar(\n",
    "    source, title=title, X=X, Y=Y, \\\n",
    "    width=w, height=h,  emotion=emotion.capitalize(),\\\n",
    "    text_size = txs, label_size = ls, title_size=ts)"
   ]
  },
  {
   "cell_type": "markdown",
   "id": "c98001ee-d48b-4dba-b4fe-1b4ccbc3fbd2",
   "metadata": {},
   "source": [
    "### Sadness"
   ]
  },
  {
   "cell_type": "code",
   "execution_count": 135,
   "id": "188cc9db-5b06-46d4-ade2-7935126a8066",
   "metadata": {},
   "outputs": [
    {
     "data": {
      "text/html": [
       "\n",
       "<div id=\"altair-viz-d2ffdd51fefd404f84a77fb4b0cf572a\"></div>\n",
       "<script type=\"text/javascript\">\n",
       "  (function(spec, embedOpt){\n",
       "    let outputDiv = document.currentScript.previousElementSibling;\n",
       "    if (outputDiv.id !== \"altair-viz-d2ffdd51fefd404f84a77fb4b0cf572a\") {\n",
       "      outputDiv = document.getElementById(\"altair-viz-d2ffdd51fefd404f84a77fb4b0cf572a\");\n",
       "    }\n",
       "    const paths = {\n",
       "      \"vega\": \"https://cdn.jsdelivr.net/npm//vega@5?noext\",\n",
       "      \"vega-lib\": \"https://cdn.jsdelivr.net/npm//vega-lib?noext\",\n",
       "      \"vega-lite\": \"https://cdn.jsdelivr.net/npm//vega-lite@4.8.1?noext\",\n",
       "      \"vega-embed\": \"https://cdn.jsdelivr.net/npm//vega-embed@6?noext\",\n",
       "    };\n",
       "\n",
       "    function loadScript(lib) {\n",
       "      return new Promise(function(resolve, reject) {\n",
       "        var s = document.createElement('script');\n",
       "        s.src = paths[lib];\n",
       "        s.async = true;\n",
       "        s.onload = () => resolve(paths[lib]);\n",
       "        s.onerror = () => reject(`Error loading script: ${paths[lib]}`);\n",
       "        document.getElementsByTagName(\"head\")[0].appendChild(s);\n",
       "      });\n",
       "    }\n",
       "\n",
       "    function showError(err) {\n",
       "      outputDiv.innerHTML = `<div class=\"error\" style=\"color:red;\">${err}</div>`;\n",
       "      throw err;\n",
       "    }\n",
       "\n",
       "    function displayChart(vegaEmbed) {\n",
       "      vegaEmbed(outputDiv, spec, embedOpt)\n",
       "        .catch(err => showError(`Javascript Error: ${err.message}<br>This usually means there's a typo in your chart specification. See the javascript console for the full traceback.`));\n",
       "    }\n",
       "\n",
       "    if(typeof define === \"function\" && define.amd) {\n",
       "      requirejs.config({paths});\n",
       "      require([\"vega-embed\"], displayChart, err => showError(`Error loading script: ${err.message}`));\n",
       "    } else if (typeof vegaEmbed === \"function\") {\n",
       "      displayChart(vegaEmbed);\n",
       "    } else {\n",
       "      loadScript(\"vega\")\n",
       "        .then(() => loadScript(\"vega-lite\"))\n",
       "        .then(() => loadScript(\"vega-embed\"))\n",
       "        .catch(showError)\n",
       "        .then(() => displayChart(vegaEmbed));\n",
       "    }\n",
       "  })({\"config\": {\"view\": {\"continuousWidth\": 400, \"continuousHeight\": 300}, \"axis\": {\"labelFontSize\": 11, \"titleFontSize\": 12}}, \"layer\": [{\"mark\": \"bar\", \"encoding\": {\"color\": {\"condition\": {\"value\": \"orange\", \"test\": \"(datum.emotion === 'Sadness')\"}, \"value\": \"#0570b0\"}, \"x\": {\"type\": \"quantitative\", \"axis\": {\"format\": \".0%\"}, \"field\": \"percent\"}, \"y\": {\"type\": \"nominal\", \"field\": \"emotion\", \"sort\": \"-x\"}}, \"title\": \"Expcted label: sadness | n = 1224\"}, {\"mark\": {\"type\": \"text\", \"align\": \"left\", \"baseline\": \"middle\", \"dx\": 3, \"fontSize\": 12}, \"encoding\": {\"color\": {\"condition\": {\"value\": \"orange\", \"test\": \"(datum.emotion === 'Sadness')\"}, \"value\": \"#0570b0\"}, \"text\": {\"type\": \"quantitative\", \"field\": \"percent\", \"format\": \".1%\"}, \"x\": {\"type\": \"quantitative\", \"axis\": {\"format\": \".0%\"}, \"field\": \"percent\"}, \"y\": {\"type\": \"nominal\", \"field\": \"emotion\", \"sort\": \"-x\"}}, \"title\": \"Expcted label: sadness | n = 1224\"}], \"data\": {\"name\": \"data-9a3ee8fe91518f8b0f29f5cb62c759f7\"}, \"height\": 200, \"width\": 450, \"$schema\": \"https://vega.github.io/schema/vega-lite/v4.8.1.json\", \"datasets\": {\"data-9a3ee8fe91518f8b0f29f5cb62c759f7\": [{\"counts\": 852, \"emotion\": \"Sadness\", \"percent\": 0.696078431372549}, {\"counts\": 97, \"emotion\": \"Neutral\", \"percent\": 0.07924836601307189}, {\"counts\": 62, \"emotion\": \"Disgust\", \"percent\": 0.05065359477124183}, {\"counts\": 60, \"emotion\": \"Fear\", \"percent\": 0.049019607843137254}, {\"counts\": 58, \"emotion\": \"Anger\", \"percent\": 0.04738562091503268}, {\"counts\": 42, \"emotion\": \"Uncertain\", \"percent\": 0.03431372549019608}, {\"counts\": 36, \"emotion\": \"Other\", \"percent\": 0.029411764705882353}, {\"counts\": 13, \"emotion\": \"Surprise\", \"percent\": 0.010620915032679739}, {\"counts\": 4, \"emotion\": \"Happiness\", \"percent\": 0.0032679738562091504}]}}, {\"renderer\": \"svg\", \"mode\": \"vega-lite\"});\n",
       "</script>"
      ],
      "text/plain": [
       "alt.LayerChart(...)"
      ]
     },
     "metadata": {},
     "output_type": "display_data"
    }
   ],
   "source": [
    "emotion = 'sadness'\n",
    "df_formated = emotion_df_formated(df_emo_answers, emotion) # subset 'anger' rows\n",
    "df_formated_ans = df_formated.drop(['photo_id', 'ethnicity', 'sex','age', 'label', 'url'], axis=1)\n",
    "source = count_freq_labels(df_formated_ans, X=\"all\") \n",
    "title = 'Expcted label: '+ emotion + ' | n = '+ source['counts'].sum().astype(str)\n",
    "X, Y = 'percent:Q', 'emotion:N'\n",
    "w, h= 450, 200\n",
    "txs, ls, ts = 12, 11, 12\n",
    "\n",
    "\n",
    "chart_sadness = simple_per_bar(\n",
    "    source, title=title, X=X, Y=Y, \\\n",
    "    width=w, height=h,  emotion=emotion.capitalize(),\\\n",
    "    text_size = txs, label_size = ls, title_size=ts)"
   ]
  },
  {
   "cell_type": "markdown",
   "id": "9fffd5e5-b2d0-4086-a2a4-3aee685406bc",
   "metadata": {},
   "source": [
    "### Uncertain"
   ]
  },
  {
   "cell_type": "code",
   "execution_count": 136,
   "id": "c2c334e5-189f-4a40-b9d0-a84e45f4bb08",
   "metadata": {},
   "outputs": [
    {
     "data": {
      "text/html": [
       "\n",
       "<div id=\"altair-viz-639af2a143004008a5df9003ae033fbc\"></div>\n",
       "<script type=\"text/javascript\">\n",
       "  (function(spec, embedOpt){\n",
       "    let outputDiv = document.currentScript.previousElementSibling;\n",
       "    if (outputDiv.id !== \"altair-viz-639af2a143004008a5df9003ae033fbc\") {\n",
       "      outputDiv = document.getElementById(\"altair-viz-639af2a143004008a5df9003ae033fbc\");\n",
       "    }\n",
       "    const paths = {\n",
       "      \"vega\": \"https://cdn.jsdelivr.net/npm//vega@5?noext\",\n",
       "      \"vega-lib\": \"https://cdn.jsdelivr.net/npm//vega-lib?noext\",\n",
       "      \"vega-lite\": \"https://cdn.jsdelivr.net/npm//vega-lite@4.8.1?noext\",\n",
       "      \"vega-embed\": \"https://cdn.jsdelivr.net/npm//vega-embed@6?noext\",\n",
       "    };\n",
       "\n",
       "    function loadScript(lib) {\n",
       "      return new Promise(function(resolve, reject) {\n",
       "        var s = document.createElement('script');\n",
       "        s.src = paths[lib];\n",
       "        s.async = true;\n",
       "        s.onload = () => resolve(paths[lib]);\n",
       "        s.onerror = () => reject(`Error loading script: ${paths[lib]}`);\n",
       "        document.getElementsByTagName(\"head\")[0].appendChild(s);\n",
       "      });\n",
       "    }\n",
       "\n",
       "    function showError(err) {\n",
       "      outputDiv.innerHTML = `<div class=\"error\" style=\"color:red;\">${err}</div>`;\n",
       "      throw err;\n",
       "    }\n",
       "\n",
       "    function displayChart(vegaEmbed) {\n",
       "      vegaEmbed(outputDiv, spec, embedOpt)\n",
       "        .catch(err => showError(`Javascript Error: ${err.message}<br>This usually means there's a typo in your chart specification. See the javascript console for the full traceback.`));\n",
       "    }\n",
       "\n",
       "    if(typeof define === \"function\" && define.amd) {\n",
       "      requirejs.config({paths});\n",
       "      require([\"vega-embed\"], displayChart, err => showError(`Error loading script: ${err.message}`));\n",
       "    } else if (typeof vegaEmbed === \"function\") {\n",
       "      displayChart(vegaEmbed);\n",
       "    } else {\n",
       "      loadScript(\"vega\")\n",
       "        .then(() => loadScript(\"vega-lite\"))\n",
       "        .then(() => loadScript(\"vega-embed\"))\n",
       "        .catch(showError)\n",
       "        .then(() => displayChart(vegaEmbed));\n",
       "    }\n",
       "  })({\"config\": {\"view\": {\"continuousWidth\": 400, \"continuousHeight\": 300}, \"axis\": {\"labelFontSize\": 11, \"titleFontSize\": 12}}, \"layer\": [{\"mark\": \"bar\", \"encoding\": {\"color\": {\"condition\": {\"value\": \"orange\", \"test\": \"(datum.emotion === 'Uncertain')\"}, \"value\": \"#0570b0\"}, \"x\": {\"type\": \"quantitative\", \"axis\": {\"format\": \".0%\"}, \"field\": \"percent\"}, \"y\": {\"type\": \"nominal\", \"field\": \"emotion\", \"sort\": \"-x\"}}, \"title\": \"Expcted label: uncertain | n = 1224\"}, {\"mark\": {\"type\": \"text\", \"align\": \"left\", \"baseline\": \"middle\", \"dx\": 3, \"fontSize\": 12}, \"encoding\": {\"color\": {\"condition\": {\"value\": \"orange\", \"test\": \"(datum.emotion === 'Uncertain')\"}, \"value\": \"#0570b0\"}, \"text\": {\"type\": \"quantitative\", \"field\": \"percent\", \"format\": \".1%\"}, \"x\": {\"type\": \"quantitative\", \"axis\": {\"format\": \".0%\"}, \"field\": \"percent\"}, \"y\": {\"type\": \"nominal\", \"field\": \"emotion\", \"sort\": \"-x\"}}, \"title\": \"Expcted label: uncertain | n = 1224\"}], \"data\": {\"name\": \"data-320f3266f98e538001bea778a048223c\"}, \"height\": 200, \"width\": 450, \"$schema\": \"https://vega.github.io/schema/vega-lite/v4.8.1.json\", \"datasets\": {\"data-320f3266f98e538001bea778a048223c\": [{\"counts\": 296, \"emotion\": \"Other\", \"percent\": 0.24183006535947713}, {\"counts\": 204, \"emotion\": \"Happiness\", \"percent\": 0.16666666666666666}, {\"counts\": 201, \"emotion\": \"Uncertain\", \"percent\": 0.1642156862745098}, {\"counts\": 147, \"emotion\": \"Neutral\", \"percent\": 0.12009803921568628}, {\"counts\": 129, \"emotion\": \"Surprise\", \"percent\": 0.1053921568627451}, {\"counts\": 117, \"emotion\": \"Disgust\", \"percent\": 0.09558823529411764}, {\"counts\": 59, \"emotion\": \"Anger\", \"percent\": 0.04820261437908497}, {\"counts\": 46, \"emotion\": \"Sadness\", \"percent\": 0.03758169934640523}, {\"counts\": 25, \"emotion\": \"Fear\", \"percent\": 0.02042483660130719}]}}, {\"renderer\": \"svg\", \"mode\": \"vega-lite\"});\n",
       "</script>"
      ],
      "text/plain": [
       "alt.LayerChart(...)"
      ]
     },
     "metadata": {},
     "output_type": "display_data"
    }
   ],
   "source": [
    "emotion = 'uncertain'\n",
    "df_formated = emotion_df_formated(df_emo_answers, emotion) # subset 'anger' rows\n",
    "df_formated_ans = df_formated.drop(['photo_id', 'ethnicity', 'sex','age', 'label', 'url'], axis=1)\n",
    "source = count_freq_labels(df_formated_ans, X=\"all\") \n",
    "title = 'Expcted label: '+ emotion + ' | n = '+ source['counts'].sum().astype(str)\n",
    "X, Y = 'percent:Q', 'emotion:N'\n",
    "w, h= 450, 200\n",
    "txs, ls, ts = 12, 11, 12\n",
    "\n",
    "\n",
    "chart_uncertain = simple_per_bar(\n",
    "    source, title=title, X=X, Y=Y, \\\n",
    "    width=w, height=h,  emotion=emotion.capitalize(),\\\n",
    "    text_size = txs, label_size = ls, title_size=ts)"
   ]
  },
  {
   "cell_type": "markdown",
   "id": "ae625c18-bf09-440a-8abb-f1b0acc7c23f",
   "metadata": {},
   "source": [
    "### Neutral"
   ]
  },
  {
   "cell_type": "code",
   "execution_count": 137,
   "id": "70cbc869-9a7b-4302-86b8-1e06c577d41e",
   "metadata": {},
   "outputs": [
    {
     "data": {
      "text/html": [
       "\n",
       "<div id=\"altair-viz-764a06d0fa2844b4961344ad19760678\"></div>\n",
       "<script type=\"text/javascript\">\n",
       "  (function(spec, embedOpt){\n",
       "    let outputDiv = document.currentScript.previousElementSibling;\n",
       "    if (outputDiv.id !== \"altair-viz-764a06d0fa2844b4961344ad19760678\") {\n",
       "      outputDiv = document.getElementById(\"altair-viz-764a06d0fa2844b4961344ad19760678\");\n",
       "    }\n",
       "    const paths = {\n",
       "      \"vega\": \"https://cdn.jsdelivr.net/npm//vega@5?noext\",\n",
       "      \"vega-lib\": \"https://cdn.jsdelivr.net/npm//vega-lib?noext\",\n",
       "      \"vega-lite\": \"https://cdn.jsdelivr.net/npm//vega-lite@4.8.1?noext\",\n",
       "      \"vega-embed\": \"https://cdn.jsdelivr.net/npm//vega-embed@6?noext\",\n",
       "    };\n",
       "\n",
       "    function loadScript(lib) {\n",
       "      return new Promise(function(resolve, reject) {\n",
       "        var s = document.createElement('script');\n",
       "        s.src = paths[lib];\n",
       "        s.async = true;\n",
       "        s.onload = () => resolve(paths[lib]);\n",
       "        s.onerror = () => reject(`Error loading script: ${paths[lib]}`);\n",
       "        document.getElementsByTagName(\"head\")[0].appendChild(s);\n",
       "      });\n",
       "    }\n",
       "\n",
       "    function showError(err) {\n",
       "      outputDiv.innerHTML = `<div class=\"error\" style=\"color:red;\">${err}</div>`;\n",
       "      throw err;\n",
       "    }\n",
       "\n",
       "    function displayChart(vegaEmbed) {\n",
       "      vegaEmbed(outputDiv, spec, embedOpt)\n",
       "        .catch(err => showError(`Javascript Error: ${err.message}<br>This usually means there's a typo in your chart specification. See the javascript console for the full traceback.`));\n",
       "    }\n",
       "\n",
       "    if(typeof define === \"function\" && define.amd) {\n",
       "      requirejs.config({paths});\n",
       "      require([\"vega-embed\"], displayChart, err => showError(`Error loading script: ${err.message}`));\n",
       "    } else if (typeof vegaEmbed === \"function\") {\n",
       "      displayChart(vegaEmbed);\n",
       "    } else {\n",
       "      loadScript(\"vega\")\n",
       "        .then(() => loadScript(\"vega-lite\"))\n",
       "        .then(() => loadScript(\"vega-embed\"))\n",
       "        .catch(showError)\n",
       "        .then(() => displayChart(vegaEmbed));\n",
       "    }\n",
       "  })({\"config\": {\"view\": {\"continuousWidth\": 400, \"continuousHeight\": 300}, \"axis\": {\"labelFontSize\": 11, \"titleFontSize\": 12}}, \"layer\": [{\"mark\": \"bar\", \"encoding\": {\"color\": {\"condition\": {\"value\": \"orange\", \"test\": \"(datum.emotion === 'Neutral')\"}, \"value\": \"#0570b0\"}, \"x\": {\"type\": \"quantitative\", \"axis\": {\"format\": \".0%\"}, \"field\": \"percent\"}, \"y\": {\"type\": \"nominal\", \"field\": \"emotion\", \"sort\": \"-x\"}}, \"title\": \"Expcted label: neutral | n = 1224\"}, {\"mark\": {\"type\": \"text\", \"align\": \"left\", \"baseline\": \"middle\", \"dx\": 3, \"fontSize\": 12}, \"encoding\": {\"color\": {\"condition\": {\"value\": \"orange\", \"test\": \"(datum.emotion === 'Neutral')\"}, \"value\": \"#0570b0\"}, \"text\": {\"type\": \"quantitative\", \"field\": \"percent\", \"format\": \".1%\"}, \"x\": {\"type\": \"quantitative\", \"axis\": {\"format\": \".0%\"}, \"field\": \"percent\"}, \"y\": {\"type\": \"nominal\", \"field\": \"emotion\", \"sort\": \"-x\"}}, \"title\": \"Expcted label: neutral | n = 1224\"}], \"data\": {\"name\": \"data-53db3f552fc2000375011c1265028d69\"}, \"height\": 200, \"width\": 450, \"$schema\": \"https://vega.github.io/schema/vega-lite/v4.8.1.json\", \"datasets\": {\"data-53db3f552fc2000375011c1265028d69\": [{\"counts\": 835, \"emotion\": \"Neutral\", \"percent\": 0.6821895424836601}, {\"counts\": 95, \"emotion\": \"Uncertain\", \"percent\": 0.07761437908496732}, {\"counts\": 86, \"emotion\": \"Other\", \"percent\": 0.07026143790849673}, {\"counts\": 46, \"emotion\": \"Anger\", \"percent\": 0.03758169934640523}, {\"counts\": 45, \"emotion\": \"Happiness\", \"percent\": 0.03676470588235294}, {\"counts\": 41, \"emotion\": \"Sadness\", \"percent\": 0.03349673202614379}, {\"counts\": 35, \"emotion\": \"Disgust\", \"percent\": 0.028594771241830064}, {\"counts\": 22, \"emotion\": \"Fear\", \"percent\": 0.017973856209150325}, {\"counts\": 19, \"emotion\": \"Surprise\", \"percent\": 0.015522875816993464}]}}, {\"renderer\": \"svg\", \"mode\": \"vega-lite\"});\n",
       "</script>"
      ],
      "text/plain": [
       "alt.LayerChart(...)"
      ]
     },
     "metadata": {},
     "output_type": "display_data"
    }
   ],
   "source": [
    "emotion = 'neutral'\n",
    "df_formated = emotion_df_formated(df_emo_answers, emotion) # subset 'anger' rows\n",
    "df_formated_ans = df_formated.drop(['photo_id', 'ethnicity', 'sex','age', 'label', 'url'], axis=1)\n",
    "source = count_freq_labels(df_formated_ans, X=\"all\") \n",
    "title = 'Expcted label: '+ emotion + ' | n = '+ source['counts'].sum().astype(str)\n",
    "X, Y = 'percent:Q', 'emotion:N'\n",
    "w, h= 450, 200\n",
    "txs, ls, ts = 12, 11, 12\n",
    "\n",
    "\n",
    "chart_neutral = simple_per_bar(\n",
    "    source, title=title, X=X, Y=Y, \\\n",
    "    width=w, height=h,  emotion=emotion.capitalize(),\\\n",
    "    text_size = txs, label_size = ls, title_size=ts)"
   ]
  },
  {
   "cell_type": "markdown",
   "id": "48259bef-9715-408d-8218-1aa91f9e147a",
   "metadata": {},
   "source": [
    "## Most frequently used word for each emotion category (grouping pictures by expected-emotion), by ethnicity group"
   ]
  },
  {
   "cell_type": "code",
   "execution_count": 138,
   "id": "0970cc60-c68b-46e4-b026-86ee513c8b17",
   "metadata": {},
   "outputs": [],
   "source": [
    "def emotion_df_formated_et(df_emo_answers, emotion_label, ethnicity):\n",
    "    df_emo_cat = df_emo_answers.copy() \n",
    "    df_emo_cat_t = df_emo_cat.T # transpose\n",
    "    df_emo_cat_t['photo_id'] = df_emo_cat_t.index # get index as col\n",
    "    df_emo_cat_t = df_emo_cat_t.reset_index(drop=True) # clean index\n",
    "    df_emo_cat_t_labels = pd.concat([df_emo_cat_t, df_labels], axis=1) # add metadata cols\n",
    "    df_label =  df_emo_cat_t_labels[(df_emo_cat_t_labels['label'] == emotion_label) & (df_emo_cat_t_labels['ethnicity'] == ethnicity)]\n",
    "    return df_label"
   ]
  },
  {
   "cell_type": "code",
   "execution_count": 139,
   "id": "fe5259df-e475-41fd-9e9b-b2f576b6da36",
   "metadata": {},
   "outputs": [],
   "source": [
    "def wrapper_chart_emotion(df_emo_answers, emotion, ethnicity):\n",
    "    df = emotion_df_formated_et(df_emo_answers, emotion,  ethnicity) # subset 'anger' rows\n",
    "    df_formated_ans = df.drop(['photo_id', 'ethnicity', 'sex','age', 'label', 'url'], axis=1)\n",
    "    df_count = count_freq_labels(df_formated_ans) # count label freq\n",
    "    chart = simple_per_bar(\n",
    "        df_count, \\\n",
    "        title='Expected label: '+ emotion + ' | n = '+ df_count['counts'].sum().astype(str), \\\n",
    "         emotion=emotion.capitalize())\n",
    "    return chart"
   ]
  },
  {
   "cell_type": "markdown",
   "id": "1a604ec0-e029-4eba-98ef-a9932ce15e10",
   "metadata": {},
   "source": [
    "## Anger"
   ]
  },
  {
   "cell_type": "code",
   "execution_count": 140,
   "id": "99d342aa-d79c-4a2a-9bb3-533907741662",
   "metadata": {},
   "outputs": [
    {
     "data": {
      "text/html": [
       "\n",
       "<div id=\"altair-viz-bb9d39fea4134c65a44040a80f412674\"></div>\n",
       "<script type=\"text/javascript\">\n",
       "  (function(spec, embedOpt){\n",
       "    let outputDiv = document.currentScript.previousElementSibling;\n",
       "    if (outputDiv.id !== \"altair-viz-bb9d39fea4134c65a44040a80f412674\") {\n",
       "      outputDiv = document.getElementById(\"altair-viz-bb9d39fea4134c65a44040a80f412674\");\n",
       "    }\n",
       "    const paths = {\n",
       "      \"vega\": \"https://cdn.jsdelivr.net/npm//vega@5?noext\",\n",
       "      \"vega-lib\": \"https://cdn.jsdelivr.net/npm//vega-lib?noext\",\n",
       "      \"vega-lite\": \"https://cdn.jsdelivr.net/npm//vega-lite@4.8.1?noext\",\n",
       "      \"vega-embed\": \"https://cdn.jsdelivr.net/npm//vega-embed@6?noext\",\n",
       "    };\n",
       "\n",
       "    function loadScript(lib) {\n",
       "      return new Promise(function(resolve, reject) {\n",
       "        var s = document.createElement('script');\n",
       "        s.src = paths[lib];\n",
       "        s.async = true;\n",
       "        s.onload = () => resolve(paths[lib]);\n",
       "        s.onerror = () => reject(`Error loading script: ${paths[lib]}`);\n",
       "        document.getElementsByTagName(\"head\")[0].appendChild(s);\n",
       "      });\n",
       "    }\n",
       "\n",
       "    function showError(err) {\n",
       "      outputDiv.innerHTML = `<div class=\"error\" style=\"color:red;\">${err}</div>`;\n",
       "      throw err;\n",
       "    }\n",
       "\n",
       "    function displayChart(vegaEmbed) {\n",
       "      vegaEmbed(outputDiv, spec, embedOpt)\n",
       "        .catch(err => showError(`Javascript Error: ${err.message}<br>This usually means there's a typo in your chart specification. See the javascript console for the full traceback.`));\n",
       "    }\n",
       "\n",
       "    if(typeof define === \"function\" && define.amd) {\n",
       "      requirejs.config({paths});\n",
       "      require([\"vega-embed\"], displayChart, err => showError(`Error loading script: ${err.message}`));\n",
       "    } else if (typeof vegaEmbed === \"function\") {\n",
       "      displayChart(vegaEmbed);\n",
       "    } else {\n",
       "      loadScript(\"vega\")\n",
       "        .then(() => loadScript(\"vega-lite\"))\n",
       "        .then(() => loadScript(\"vega-embed\"))\n",
       "        .catch(showError)\n",
       "        .then(() => displayChart(vegaEmbed));\n",
       "    }\n",
       "  })({\"config\": {\"view\": {\"continuousWidth\": 400, \"continuousHeight\": 300}, \"axis\": {\"labelFontSize\": 11, \"titleFontSize\": 12}}, \"layer\": [{\"mark\": \"bar\", \"encoding\": {\"color\": {\"condition\": {\"value\": \"orange\", \"test\": \"(datum.emotion === 'Anger')\"}, \"value\": \"#0570b0\"}, \"x\": {\"type\": \"quantitative\", \"axis\": {\"format\": \".0%\"}, \"field\": \"percent\"}, \"y\": {\"type\": \"nominal\", \"field\": \"emotion\", \"sort\": \"-x\"}}, \"title\": \"Expected label: anger | n = 612\"}, {\"mark\": {\"type\": \"text\", \"align\": \"left\", \"baseline\": \"middle\", \"dx\": 3, \"fontSize\": 12}, \"encoding\": {\"color\": {\"condition\": {\"value\": \"orange\", \"test\": \"(datum.emotion === 'Anger')\"}, \"value\": \"#0570b0\"}, \"text\": {\"type\": \"quantitative\", \"field\": \"percent\", \"format\": \".1%\"}, \"x\": {\"type\": \"quantitative\", \"axis\": {\"format\": \".0%\"}, \"field\": \"percent\"}, \"y\": {\"type\": \"nominal\", \"field\": \"emotion\", \"sort\": \"-x\"}}, \"title\": \"Expected label: anger | n = 612\"}], \"data\": {\"name\": \"data-bbf99e2495c89bd756430db8d7945573\"}, \"height\": 250, \"width\": 450, \"$schema\": \"https://vega.github.io/schema/vega-lite/v4.8.1.json\", \"datasets\": {\"data-bbf99e2495c89bd756430db8d7945573\": [{\"counts\": 365, \"emotion\": \"Anger\", \"percent\": 0.5964052287581699}, {\"counts\": 62, \"emotion\": \"Disgust\", \"percent\": 0.10130718954248366}, {\"counts\": 57, \"emotion\": \"Neutral\", \"percent\": 0.09313725490196079}, {\"counts\": 42, \"emotion\": \"Sadness\", \"percent\": 0.06862745098039216}, {\"counts\": 31, \"emotion\": \"Uncertain\", \"percent\": 0.05065359477124183}, {\"counts\": 24, \"emotion\": \"Other\", \"percent\": 0.0392156862745098}, {\"counts\": 16, \"emotion\": \"Fear\", \"percent\": 0.026143790849673203}, {\"counts\": 13, \"emotion\": \"Surprise\", \"percent\": 0.021241830065359478}, {\"counts\": 2, \"emotion\": \"Happiness\", \"percent\": 0.0032679738562091504}]}}, {\"renderer\": \"svg\", \"mode\": \"vega-lite\"});\n",
       "</script>"
      ],
      "text/plain": [
       "alt.LayerChart(...)"
      ]
     },
     "metadata": {},
     "output_type": "display_data"
    },
    {
     "data": {
      "text/html": [
       "\n",
       "<div id=\"altair-viz-8e9c8950a7a742d4bbf0d96fd802d3db\"></div>\n",
       "<script type=\"text/javascript\">\n",
       "  (function(spec, embedOpt){\n",
       "    let outputDiv = document.currentScript.previousElementSibling;\n",
       "    if (outputDiv.id !== \"altair-viz-8e9c8950a7a742d4bbf0d96fd802d3db\") {\n",
       "      outputDiv = document.getElementById(\"altair-viz-8e9c8950a7a742d4bbf0d96fd802d3db\");\n",
       "    }\n",
       "    const paths = {\n",
       "      \"vega\": \"https://cdn.jsdelivr.net/npm//vega@5?noext\",\n",
       "      \"vega-lib\": \"https://cdn.jsdelivr.net/npm//vega-lib?noext\",\n",
       "      \"vega-lite\": \"https://cdn.jsdelivr.net/npm//vega-lite@4.8.1?noext\",\n",
       "      \"vega-embed\": \"https://cdn.jsdelivr.net/npm//vega-embed@6?noext\",\n",
       "    };\n",
       "\n",
       "    function loadScript(lib) {\n",
       "      return new Promise(function(resolve, reject) {\n",
       "        var s = document.createElement('script');\n",
       "        s.src = paths[lib];\n",
       "        s.async = true;\n",
       "        s.onload = () => resolve(paths[lib]);\n",
       "        s.onerror = () => reject(`Error loading script: ${paths[lib]}`);\n",
       "        document.getElementsByTagName(\"head\")[0].appendChild(s);\n",
       "      });\n",
       "    }\n",
       "\n",
       "    function showError(err) {\n",
       "      outputDiv.innerHTML = `<div class=\"error\" style=\"color:red;\">${err}</div>`;\n",
       "      throw err;\n",
       "    }\n",
       "\n",
       "    function displayChart(vegaEmbed) {\n",
       "      vegaEmbed(outputDiv, spec, embedOpt)\n",
       "        .catch(err => showError(`Javascript Error: ${err.message}<br>This usually means there's a typo in your chart specification. See the javascript console for the full traceback.`));\n",
       "    }\n",
       "\n",
       "    if(typeof define === \"function\" && define.amd) {\n",
       "      requirejs.config({paths});\n",
       "      require([\"vega-embed\"], displayChart, err => showError(`Error loading script: ${err.message}`));\n",
       "    } else if (typeof vegaEmbed === \"function\") {\n",
       "      displayChart(vegaEmbed);\n",
       "    } else {\n",
       "      loadScript(\"vega\")\n",
       "        .then(() => loadScript(\"vega-lite\"))\n",
       "        .then(() => loadScript(\"vega-embed\"))\n",
       "        .catch(showError)\n",
       "        .then(() => displayChart(vegaEmbed));\n",
       "    }\n",
       "  })({\"config\": {\"view\": {\"continuousWidth\": 400, \"continuousHeight\": 300}, \"axis\": {\"labelFontSize\": 11, \"titleFontSize\": 12}}, \"layer\": [{\"mark\": \"bar\", \"encoding\": {\"color\": {\"condition\": {\"value\": \"orange\", \"test\": \"(datum.emotion === 'Anger')\"}, \"value\": \"#0570b0\"}, \"x\": {\"type\": \"quantitative\", \"axis\": {\"format\": \".0%\"}, \"field\": \"percent\"}, \"y\": {\"type\": \"nominal\", \"field\": \"emotion\", \"sort\": \"-x\"}}, \"title\": \"Expected label: anger | n = 612\"}, {\"mark\": {\"type\": \"text\", \"align\": \"left\", \"baseline\": \"middle\", \"dx\": 3, \"fontSize\": 12}, \"encoding\": {\"color\": {\"condition\": {\"value\": \"orange\", \"test\": \"(datum.emotion === 'Anger')\"}, \"value\": \"#0570b0\"}, \"text\": {\"type\": \"quantitative\", \"field\": \"percent\", \"format\": \".1%\"}, \"x\": {\"type\": \"quantitative\", \"axis\": {\"format\": \".0%\"}, \"field\": \"percent\"}, \"y\": {\"type\": \"nominal\", \"field\": \"emotion\", \"sort\": \"-x\"}}, \"title\": \"Expected label: anger | n = 612\"}], \"data\": {\"name\": \"data-644e8876f17a491aa692cb7806f52d62\"}, \"height\": 250, \"width\": 450, \"$schema\": \"https://vega.github.io/schema/vega-lite/v4.8.1.json\", \"datasets\": {\"data-644e8876f17a491aa692cb7806f52d62\": [{\"counts\": 371, \"emotion\": \"Anger\", \"percent\": 0.6062091503267973}, {\"counts\": 58, \"emotion\": \"Neutral\", \"percent\": 0.09477124183006536}, {\"counts\": 51, \"emotion\": \"Disgust\", \"percent\": 0.08333333333333333}, {\"counts\": 41, \"emotion\": \"Uncertain\", \"percent\": 0.06699346405228758}, {\"counts\": 38, \"emotion\": \"Other\", \"percent\": 0.06209150326797386}, {\"counts\": 21, \"emotion\": \"Sadness\", \"percent\": 0.03431372549019608}, {\"counts\": 16, \"emotion\": \"Happiness\", \"percent\": 0.026143790849673203}, {\"counts\": 10, \"emotion\": \"Fear\", \"percent\": 0.016339869281045753}, {\"counts\": 6, \"emotion\": \"Surprise\", \"percent\": 0.00980392156862745}]}}, {\"renderer\": \"svg\", \"mode\": \"vega-lite\"});\n",
       "</script>"
      ],
      "text/plain": [
       "alt.LayerChart(...)"
      ]
     },
     "metadata": {},
     "output_type": "display_data"
    }
   ],
   "source": [
    "chart_anger_bipoc = wrapper_chart_emotion(df_emo_answers, 'anger', 'bipoc')\n",
    "chart_anger_white = wrapper_chart_emotion(df_emo_answers, 'anger', 'white')"
   ]
  },
  {
   "cell_type": "markdown",
   "id": "8e002ad4-700b-4dce-b014-3abb55d89d46",
   "metadata": {},
   "source": [
    "### Disgust"
   ]
  },
  {
   "cell_type": "code",
   "execution_count": 141,
   "id": "837f0ba8-2a02-4695-b1ea-67a7234081cd",
   "metadata": {},
   "outputs": [
    {
     "data": {
      "text/html": [
       "\n",
       "<div id=\"altair-viz-7bf936f84b074af786c95d5f25380bf0\"></div>\n",
       "<script type=\"text/javascript\">\n",
       "  (function(spec, embedOpt){\n",
       "    let outputDiv = document.currentScript.previousElementSibling;\n",
       "    if (outputDiv.id !== \"altair-viz-7bf936f84b074af786c95d5f25380bf0\") {\n",
       "      outputDiv = document.getElementById(\"altair-viz-7bf936f84b074af786c95d5f25380bf0\");\n",
       "    }\n",
       "    const paths = {\n",
       "      \"vega\": \"https://cdn.jsdelivr.net/npm//vega@5?noext\",\n",
       "      \"vega-lib\": \"https://cdn.jsdelivr.net/npm//vega-lib?noext\",\n",
       "      \"vega-lite\": \"https://cdn.jsdelivr.net/npm//vega-lite@4.8.1?noext\",\n",
       "      \"vega-embed\": \"https://cdn.jsdelivr.net/npm//vega-embed@6?noext\",\n",
       "    };\n",
       "\n",
       "    function loadScript(lib) {\n",
       "      return new Promise(function(resolve, reject) {\n",
       "        var s = document.createElement('script');\n",
       "        s.src = paths[lib];\n",
       "        s.async = true;\n",
       "        s.onload = () => resolve(paths[lib]);\n",
       "        s.onerror = () => reject(`Error loading script: ${paths[lib]}`);\n",
       "        document.getElementsByTagName(\"head\")[0].appendChild(s);\n",
       "      });\n",
       "    }\n",
       "\n",
       "    function showError(err) {\n",
       "      outputDiv.innerHTML = `<div class=\"error\" style=\"color:red;\">${err}</div>`;\n",
       "      throw err;\n",
       "    }\n",
       "\n",
       "    function displayChart(vegaEmbed) {\n",
       "      vegaEmbed(outputDiv, spec, embedOpt)\n",
       "        .catch(err => showError(`Javascript Error: ${err.message}<br>This usually means there's a typo in your chart specification. See the javascript console for the full traceback.`));\n",
       "    }\n",
       "\n",
       "    if(typeof define === \"function\" && define.amd) {\n",
       "      requirejs.config({paths});\n",
       "      require([\"vega-embed\"], displayChart, err => showError(`Error loading script: ${err.message}`));\n",
       "    } else if (typeof vegaEmbed === \"function\") {\n",
       "      displayChart(vegaEmbed);\n",
       "    } else {\n",
       "      loadScript(\"vega\")\n",
       "        .then(() => loadScript(\"vega-lite\"))\n",
       "        .then(() => loadScript(\"vega-embed\"))\n",
       "        .catch(showError)\n",
       "        .then(() => displayChart(vegaEmbed));\n",
       "    }\n",
       "  })({\"config\": {\"view\": {\"continuousWidth\": 400, \"continuousHeight\": 300}, \"axis\": {\"labelFontSize\": 11, \"titleFontSize\": 12}}, \"layer\": [{\"mark\": \"bar\", \"encoding\": {\"color\": {\"condition\": {\"value\": \"orange\", \"test\": \"(datum.emotion === 'Disgust')\"}, \"value\": \"#0570b0\"}, \"x\": {\"type\": \"quantitative\", \"axis\": {\"format\": \".0%\"}, \"field\": \"percent\"}, \"y\": {\"type\": \"nominal\", \"field\": \"emotion\", \"sort\": \"-x\"}}, \"title\": \"Expected label: disgust | n = 612\"}, {\"mark\": {\"type\": \"text\", \"align\": \"left\", \"baseline\": \"middle\", \"dx\": 3, \"fontSize\": 12}, \"encoding\": {\"color\": {\"condition\": {\"value\": \"orange\", \"test\": \"(datum.emotion === 'Disgust')\"}, \"value\": \"#0570b0\"}, \"text\": {\"type\": \"quantitative\", \"field\": \"percent\", \"format\": \".1%\"}, \"x\": {\"type\": \"quantitative\", \"axis\": {\"format\": \".0%\"}, \"field\": \"percent\"}, \"y\": {\"type\": \"nominal\", \"field\": \"emotion\", \"sort\": \"-x\"}}, \"title\": \"Expected label: disgust | n = 612\"}], \"data\": {\"name\": \"data-980ff1d94f9ee7e3a9e843d41e430de0\"}, \"height\": 250, \"width\": 450, \"$schema\": \"https://vega.github.io/schema/vega-lite/v4.8.1.json\", \"datasets\": {\"data-980ff1d94f9ee7e3a9e843d41e430de0\": [{\"counts\": 322, \"emotion\": \"Disgust\", \"percent\": 0.5261437908496732}, {\"counts\": 97, \"emotion\": \"Anger\", \"percent\": 0.15849673202614378}, {\"counts\": 64, \"emotion\": \"Other\", \"percent\": 0.10457516339869281}, {\"counts\": 58, \"emotion\": \"Uncertain\", \"percent\": 0.09477124183006536}, {\"counts\": 30, \"emotion\": \"Surprise\", \"percent\": 0.049019607843137254}, {\"counts\": 17, \"emotion\": \"Happiness\", \"percent\": 0.027777777777777776}, {\"counts\": 8, \"emotion\": \"Sadness\", \"percent\": 0.013071895424836602}, {\"counts\": 8, \"emotion\": \"Neutral\", \"percent\": 0.013071895424836602}, {\"counts\": 8, \"emotion\": \"Fear\", \"percent\": 0.013071895424836602}]}}, {\"renderer\": \"svg\", \"mode\": \"vega-lite\"});\n",
       "</script>"
      ],
      "text/plain": [
       "alt.LayerChart(...)"
      ]
     },
     "metadata": {},
     "output_type": "display_data"
    },
    {
     "data": {
      "text/html": [
       "\n",
       "<div id=\"altair-viz-5bbf9e2ee84340c6aad51537dc7a55e4\"></div>\n",
       "<script type=\"text/javascript\">\n",
       "  (function(spec, embedOpt){\n",
       "    let outputDiv = document.currentScript.previousElementSibling;\n",
       "    if (outputDiv.id !== \"altair-viz-5bbf9e2ee84340c6aad51537dc7a55e4\") {\n",
       "      outputDiv = document.getElementById(\"altair-viz-5bbf9e2ee84340c6aad51537dc7a55e4\");\n",
       "    }\n",
       "    const paths = {\n",
       "      \"vega\": \"https://cdn.jsdelivr.net/npm//vega@5?noext\",\n",
       "      \"vega-lib\": \"https://cdn.jsdelivr.net/npm//vega-lib?noext\",\n",
       "      \"vega-lite\": \"https://cdn.jsdelivr.net/npm//vega-lite@4.8.1?noext\",\n",
       "      \"vega-embed\": \"https://cdn.jsdelivr.net/npm//vega-embed@6?noext\",\n",
       "    };\n",
       "\n",
       "    function loadScript(lib) {\n",
       "      return new Promise(function(resolve, reject) {\n",
       "        var s = document.createElement('script');\n",
       "        s.src = paths[lib];\n",
       "        s.async = true;\n",
       "        s.onload = () => resolve(paths[lib]);\n",
       "        s.onerror = () => reject(`Error loading script: ${paths[lib]}`);\n",
       "        document.getElementsByTagName(\"head\")[0].appendChild(s);\n",
       "      });\n",
       "    }\n",
       "\n",
       "    function showError(err) {\n",
       "      outputDiv.innerHTML = `<div class=\"error\" style=\"color:red;\">${err}</div>`;\n",
       "      throw err;\n",
       "    }\n",
       "\n",
       "    function displayChart(vegaEmbed) {\n",
       "      vegaEmbed(outputDiv, spec, embedOpt)\n",
       "        .catch(err => showError(`Javascript Error: ${err.message}<br>This usually means there's a typo in your chart specification. See the javascript console for the full traceback.`));\n",
       "    }\n",
       "\n",
       "    if(typeof define === \"function\" && define.amd) {\n",
       "      requirejs.config({paths});\n",
       "      require([\"vega-embed\"], displayChart, err => showError(`Error loading script: ${err.message}`));\n",
       "    } else if (typeof vegaEmbed === \"function\") {\n",
       "      displayChart(vegaEmbed);\n",
       "    } else {\n",
       "      loadScript(\"vega\")\n",
       "        .then(() => loadScript(\"vega-lite\"))\n",
       "        .then(() => loadScript(\"vega-embed\"))\n",
       "        .catch(showError)\n",
       "        .then(() => displayChart(vegaEmbed));\n",
       "    }\n",
       "  })({\"config\": {\"view\": {\"continuousWidth\": 400, \"continuousHeight\": 300}, \"axis\": {\"labelFontSize\": 11, \"titleFontSize\": 12}}, \"layer\": [{\"mark\": \"bar\", \"encoding\": {\"color\": {\"condition\": {\"value\": \"orange\", \"test\": \"(datum.emotion === 'Disgust')\"}, \"value\": \"#0570b0\"}, \"x\": {\"type\": \"quantitative\", \"axis\": {\"format\": \".0%\"}, \"field\": \"percent\"}, \"y\": {\"type\": \"nominal\", \"field\": \"emotion\", \"sort\": \"-x\"}}, \"title\": \"Expected label: disgust | n = 612\"}, {\"mark\": {\"type\": \"text\", \"align\": \"left\", \"baseline\": \"middle\", \"dx\": 3, \"fontSize\": 12}, \"encoding\": {\"color\": {\"condition\": {\"value\": \"orange\", \"test\": \"(datum.emotion === 'Disgust')\"}, \"value\": \"#0570b0\"}, \"text\": {\"type\": \"quantitative\", \"field\": \"percent\", \"format\": \".1%\"}, \"x\": {\"type\": \"quantitative\", \"axis\": {\"format\": \".0%\"}, \"field\": \"percent\"}, \"y\": {\"type\": \"nominal\", \"field\": \"emotion\", \"sort\": \"-x\"}}, \"title\": \"Expected label: disgust | n = 612\"}], \"data\": {\"name\": \"data-bbcdd9cc0ab83caf0358bbf0e11a2013\"}, \"height\": 250, \"width\": 450, \"$schema\": \"https://vega.github.io/schema/vega-lite/v4.8.1.json\", \"datasets\": {\"data-bbcdd9cc0ab83caf0358bbf0e11a2013\": [{\"counts\": 357, \"emotion\": \"Disgust\", \"percent\": 0.5833333333333334}, {\"counts\": 51, \"emotion\": \"Anger\", \"percent\": 0.08333333333333333}, {\"counts\": 47, \"emotion\": \"Happiness\", \"percent\": 0.07679738562091504}, {\"counts\": 40, \"emotion\": \"Other\", \"percent\": 0.06535947712418301}, {\"counts\": 37, \"emotion\": \"Uncertain\", \"percent\": 0.06045751633986928}, {\"counts\": 28, \"emotion\": \"Fear\", \"percent\": 0.0457516339869281}, {\"counts\": 26, \"emotion\": \"Surprise\", \"percent\": 0.042483660130718956}, {\"counts\": 17, \"emotion\": \"Sadness\", \"percent\": 0.027777777777777776}, {\"counts\": 9, \"emotion\": \"Neutral\", \"percent\": 0.014705882352941176}]}}, {\"renderer\": \"svg\", \"mode\": \"vega-lite\"});\n",
       "</script>"
      ],
      "text/plain": [
       "alt.LayerChart(...)"
      ]
     },
     "metadata": {},
     "output_type": "display_data"
    }
   ],
   "source": [
    "chart_disgust_bipoc = wrapper_chart_emotion(df_emo_answers, 'disgust', 'bipoc')\n",
    "chart_disgust_white = wrapper_chart_emotion(df_emo_answers, 'disgust', 'white')"
   ]
  },
  {
   "cell_type": "markdown",
   "id": "f8e754a1-f659-4163-be91-c7f3ef796ec6",
   "metadata": {},
   "source": [
    "### Fear"
   ]
  },
  {
   "cell_type": "code",
   "execution_count": 142,
   "id": "1d22ad69-5abd-45dc-8490-2329b9f96fd6",
   "metadata": {},
   "outputs": [
    {
     "data": {
      "text/html": [
       "\n",
       "<div id=\"altair-viz-962514b82ffd4f13bfdd4154e984456c\"></div>\n",
       "<script type=\"text/javascript\">\n",
       "  (function(spec, embedOpt){\n",
       "    let outputDiv = document.currentScript.previousElementSibling;\n",
       "    if (outputDiv.id !== \"altair-viz-962514b82ffd4f13bfdd4154e984456c\") {\n",
       "      outputDiv = document.getElementById(\"altair-viz-962514b82ffd4f13bfdd4154e984456c\");\n",
       "    }\n",
       "    const paths = {\n",
       "      \"vega\": \"https://cdn.jsdelivr.net/npm//vega@5?noext\",\n",
       "      \"vega-lib\": \"https://cdn.jsdelivr.net/npm//vega-lib?noext\",\n",
       "      \"vega-lite\": \"https://cdn.jsdelivr.net/npm//vega-lite@4.8.1?noext\",\n",
       "      \"vega-embed\": \"https://cdn.jsdelivr.net/npm//vega-embed@6?noext\",\n",
       "    };\n",
       "\n",
       "    function loadScript(lib) {\n",
       "      return new Promise(function(resolve, reject) {\n",
       "        var s = document.createElement('script');\n",
       "        s.src = paths[lib];\n",
       "        s.async = true;\n",
       "        s.onload = () => resolve(paths[lib]);\n",
       "        s.onerror = () => reject(`Error loading script: ${paths[lib]}`);\n",
       "        document.getElementsByTagName(\"head\")[0].appendChild(s);\n",
       "      });\n",
       "    }\n",
       "\n",
       "    function showError(err) {\n",
       "      outputDiv.innerHTML = `<div class=\"error\" style=\"color:red;\">${err}</div>`;\n",
       "      throw err;\n",
       "    }\n",
       "\n",
       "    function displayChart(vegaEmbed) {\n",
       "      vegaEmbed(outputDiv, spec, embedOpt)\n",
       "        .catch(err => showError(`Javascript Error: ${err.message}<br>This usually means there's a typo in your chart specification. See the javascript console for the full traceback.`));\n",
       "    }\n",
       "\n",
       "    if(typeof define === \"function\" && define.amd) {\n",
       "      requirejs.config({paths});\n",
       "      require([\"vega-embed\"], displayChart, err => showError(`Error loading script: ${err.message}`));\n",
       "    } else if (typeof vegaEmbed === \"function\") {\n",
       "      displayChart(vegaEmbed);\n",
       "    } else {\n",
       "      loadScript(\"vega\")\n",
       "        .then(() => loadScript(\"vega-lite\"))\n",
       "        .then(() => loadScript(\"vega-embed\"))\n",
       "        .catch(showError)\n",
       "        .then(() => displayChart(vegaEmbed));\n",
       "    }\n",
       "  })({\"config\": {\"view\": {\"continuousWidth\": 400, \"continuousHeight\": 300}, \"axis\": {\"labelFontSize\": 11, \"titleFontSize\": 12}}, \"layer\": [{\"mark\": \"bar\", \"encoding\": {\"color\": {\"condition\": {\"value\": \"orange\", \"test\": \"(datum.emotion === 'Fear')\"}, \"value\": \"#0570b0\"}, \"x\": {\"type\": \"quantitative\", \"axis\": {\"format\": \".0%\"}, \"field\": \"percent\"}, \"y\": {\"type\": \"nominal\", \"field\": \"emotion\", \"sort\": \"-x\"}}, \"title\": \"Expected label: fear | n = 612\"}, {\"mark\": {\"type\": \"text\", \"align\": \"left\", \"baseline\": \"middle\", \"dx\": 3, \"fontSize\": 12}, \"encoding\": {\"color\": {\"condition\": {\"value\": \"orange\", \"test\": \"(datum.emotion === 'Fear')\"}, \"value\": \"#0570b0\"}, \"text\": {\"type\": \"quantitative\", \"field\": \"percent\", \"format\": \".1%\"}, \"x\": {\"type\": \"quantitative\", \"axis\": {\"format\": \".0%\"}, \"field\": \"percent\"}, \"y\": {\"type\": \"nominal\", \"field\": \"emotion\", \"sort\": \"-x\"}}, \"title\": \"Expected label: fear | n = 612\"}], \"data\": {\"name\": \"data-6ef3b826ce8111159020d6dc77e3c2b3\"}, \"height\": 250, \"width\": 450, \"$schema\": \"https://vega.github.io/schema/vega-lite/v4.8.1.json\", \"datasets\": {\"data-6ef3b826ce8111159020d6dc77e3c2b3\": [{\"counts\": 215, \"emotion\": \"Fear\", \"percent\": 0.35130718954248363}, {\"counts\": 130, \"emotion\": \"Sadness\", \"percent\": 0.21241830065359477}, {\"counts\": 125, \"emotion\": \"Surprise\", \"percent\": 0.2042483660130719}, {\"counts\": 60, \"emotion\": \"Disgust\", \"percent\": 0.09803921568627451}, {\"counts\": 25, \"emotion\": \"Uncertain\", \"percent\": 0.04084967320261438}, {\"counts\": 23, \"emotion\": \"Other\", \"percent\": 0.03758169934640523}, {\"counts\": 14, \"emotion\": \"Neutral\", \"percent\": 0.02287581699346405}, {\"counts\": 11, \"emotion\": \"Anger\", \"percent\": 0.017973856209150325}, {\"counts\": 9, \"emotion\": \"Happiness\", \"percent\": 0.014705882352941176}]}}, {\"renderer\": \"svg\", \"mode\": \"vega-lite\"});\n",
       "</script>"
      ],
      "text/plain": [
       "alt.LayerChart(...)"
      ]
     },
     "metadata": {},
     "output_type": "display_data"
    },
    {
     "data": {
      "text/html": [
       "\n",
       "<div id=\"altair-viz-0a3a56aaf14f43c9939386866cf8dce5\"></div>\n",
       "<script type=\"text/javascript\">\n",
       "  (function(spec, embedOpt){\n",
       "    let outputDiv = document.currentScript.previousElementSibling;\n",
       "    if (outputDiv.id !== \"altair-viz-0a3a56aaf14f43c9939386866cf8dce5\") {\n",
       "      outputDiv = document.getElementById(\"altair-viz-0a3a56aaf14f43c9939386866cf8dce5\");\n",
       "    }\n",
       "    const paths = {\n",
       "      \"vega\": \"https://cdn.jsdelivr.net/npm//vega@5?noext\",\n",
       "      \"vega-lib\": \"https://cdn.jsdelivr.net/npm//vega-lib?noext\",\n",
       "      \"vega-lite\": \"https://cdn.jsdelivr.net/npm//vega-lite@4.8.1?noext\",\n",
       "      \"vega-embed\": \"https://cdn.jsdelivr.net/npm//vega-embed@6?noext\",\n",
       "    };\n",
       "\n",
       "    function loadScript(lib) {\n",
       "      return new Promise(function(resolve, reject) {\n",
       "        var s = document.createElement('script');\n",
       "        s.src = paths[lib];\n",
       "        s.async = true;\n",
       "        s.onload = () => resolve(paths[lib]);\n",
       "        s.onerror = () => reject(`Error loading script: ${paths[lib]}`);\n",
       "        document.getElementsByTagName(\"head\")[0].appendChild(s);\n",
       "      });\n",
       "    }\n",
       "\n",
       "    function showError(err) {\n",
       "      outputDiv.innerHTML = `<div class=\"error\" style=\"color:red;\">${err}</div>`;\n",
       "      throw err;\n",
       "    }\n",
       "\n",
       "    function displayChart(vegaEmbed) {\n",
       "      vegaEmbed(outputDiv, spec, embedOpt)\n",
       "        .catch(err => showError(`Javascript Error: ${err.message}<br>This usually means there's a typo in your chart specification. See the javascript console for the full traceback.`));\n",
       "    }\n",
       "\n",
       "    if(typeof define === \"function\" && define.amd) {\n",
       "      requirejs.config({paths});\n",
       "      require([\"vega-embed\"], displayChart, err => showError(`Error loading script: ${err.message}`));\n",
       "    } else if (typeof vegaEmbed === \"function\") {\n",
       "      displayChart(vegaEmbed);\n",
       "    } else {\n",
       "      loadScript(\"vega\")\n",
       "        .then(() => loadScript(\"vega-lite\"))\n",
       "        .then(() => loadScript(\"vega-embed\"))\n",
       "        .catch(showError)\n",
       "        .then(() => displayChart(vegaEmbed));\n",
       "    }\n",
       "  })({\"config\": {\"view\": {\"continuousWidth\": 400, \"continuousHeight\": 300}, \"axis\": {\"labelFontSize\": 11, \"titleFontSize\": 12}}, \"layer\": [{\"mark\": \"bar\", \"encoding\": {\"color\": {\"condition\": {\"value\": \"orange\", \"test\": \"(datum.emotion === 'Fear')\"}, \"value\": \"#0570b0\"}, \"x\": {\"type\": \"quantitative\", \"axis\": {\"format\": \".0%\"}, \"field\": \"percent\"}, \"y\": {\"type\": \"nominal\", \"field\": \"emotion\", \"sort\": \"-x\"}}, \"title\": \"Expected label: fear | n = 612\"}, {\"mark\": {\"type\": \"text\", \"align\": \"left\", \"baseline\": \"middle\", \"dx\": 3, \"fontSize\": 12}, \"encoding\": {\"color\": {\"condition\": {\"value\": \"orange\", \"test\": \"(datum.emotion === 'Fear')\"}, \"value\": \"#0570b0\"}, \"text\": {\"type\": \"quantitative\", \"field\": \"percent\", \"format\": \".1%\"}, \"x\": {\"type\": \"quantitative\", \"axis\": {\"format\": \".0%\"}, \"field\": \"percent\"}, \"y\": {\"type\": \"nominal\", \"field\": \"emotion\", \"sort\": \"-x\"}}, \"title\": \"Expected label: fear | n = 612\"}], \"data\": {\"name\": \"data-945e7ec9df9a402881b3dbc41ea3be9d\"}, \"height\": 250, \"width\": 450, \"$schema\": \"https://vega.github.io/schema/vega-lite/v4.8.1.json\", \"datasets\": {\"data-945e7ec9df9a402881b3dbc41ea3be9d\": [{\"counts\": 257, \"emotion\": \"Surprise\", \"percent\": 0.4199346405228758}, {\"counts\": 172, \"emotion\": \"Fear\", \"percent\": 0.28104575163398693}, {\"counts\": 54, \"emotion\": \"Sadness\", \"percent\": 0.08823529411764706}, {\"counts\": 30, \"emotion\": \"Uncertain\", \"percent\": 0.049019607843137254}, {\"counts\": 27, \"emotion\": \"Other\", \"percent\": 0.04411764705882353}, {\"counts\": 22, \"emotion\": \"Disgust\", \"percent\": 0.03594771241830065}, {\"counts\": 19, \"emotion\": \"Happiness\", \"percent\": 0.03104575163398693}, {\"counts\": 17, \"emotion\": \"Neutral\", \"percent\": 0.027777777777777776}, {\"counts\": 14, \"emotion\": \"Anger\", \"percent\": 0.02287581699346405}]}}, {\"renderer\": \"svg\", \"mode\": \"vega-lite\"});\n",
       "</script>"
      ],
      "text/plain": [
       "alt.LayerChart(...)"
      ]
     },
     "metadata": {},
     "output_type": "display_data"
    }
   ],
   "source": [
    "chart_fear_bipoc = wrapper_chart_emotion(df_emo_answers, 'fear', 'bipoc')\n",
    "chart_fear_white = wrapper_chart_emotion(df_emo_answers, 'fear', 'white')"
   ]
  },
  {
   "cell_type": "markdown",
   "id": "8b97f496-430f-4e4c-85e7-a5e3d65174a9",
   "metadata": {},
   "source": [
    "### Surprise"
   ]
  },
  {
   "cell_type": "code",
   "execution_count": 143,
   "id": "785a28be-0e85-4a1a-9542-6fdc4a973995",
   "metadata": {},
   "outputs": [
    {
     "data": {
      "text/html": [
       "\n",
       "<div id=\"altair-viz-70eae719780d495eafca77d495a71a87\"></div>\n",
       "<script type=\"text/javascript\">\n",
       "  (function(spec, embedOpt){\n",
       "    let outputDiv = document.currentScript.previousElementSibling;\n",
       "    if (outputDiv.id !== \"altair-viz-70eae719780d495eafca77d495a71a87\") {\n",
       "      outputDiv = document.getElementById(\"altair-viz-70eae719780d495eafca77d495a71a87\");\n",
       "    }\n",
       "    const paths = {\n",
       "      \"vega\": \"https://cdn.jsdelivr.net/npm//vega@5?noext\",\n",
       "      \"vega-lib\": \"https://cdn.jsdelivr.net/npm//vega-lib?noext\",\n",
       "      \"vega-lite\": \"https://cdn.jsdelivr.net/npm//vega-lite@4.8.1?noext\",\n",
       "      \"vega-embed\": \"https://cdn.jsdelivr.net/npm//vega-embed@6?noext\",\n",
       "    };\n",
       "\n",
       "    function loadScript(lib) {\n",
       "      return new Promise(function(resolve, reject) {\n",
       "        var s = document.createElement('script');\n",
       "        s.src = paths[lib];\n",
       "        s.async = true;\n",
       "        s.onload = () => resolve(paths[lib]);\n",
       "        s.onerror = () => reject(`Error loading script: ${paths[lib]}`);\n",
       "        document.getElementsByTagName(\"head\")[0].appendChild(s);\n",
       "      });\n",
       "    }\n",
       "\n",
       "    function showError(err) {\n",
       "      outputDiv.innerHTML = `<div class=\"error\" style=\"color:red;\">${err}</div>`;\n",
       "      throw err;\n",
       "    }\n",
       "\n",
       "    function displayChart(vegaEmbed) {\n",
       "      vegaEmbed(outputDiv, spec, embedOpt)\n",
       "        .catch(err => showError(`Javascript Error: ${err.message}<br>This usually means there's a typo in your chart specification. See the javascript console for the full traceback.`));\n",
       "    }\n",
       "\n",
       "    if(typeof define === \"function\" && define.amd) {\n",
       "      requirejs.config({paths});\n",
       "      require([\"vega-embed\"], displayChart, err => showError(`Error loading script: ${err.message}`));\n",
       "    } else if (typeof vegaEmbed === \"function\") {\n",
       "      displayChart(vegaEmbed);\n",
       "    } else {\n",
       "      loadScript(\"vega\")\n",
       "        .then(() => loadScript(\"vega-lite\"))\n",
       "        .then(() => loadScript(\"vega-embed\"))\n",
       "        .catch(showError)\n",
       "        .then(() => displayChart(vegaEmbed));\n",
       "    }\n",
       "  })({\"config\": {\"view\": {\"continuousWidth\": 400, \"continuousHeight\": 300}, \"axis\": {\"labelFontSize\": 11, \"titleFontSize\": 12}}, \"layer\": [{\"mark\": \"bar\", \"encoding\": {\"color\": {\"condition\": {\"value\": \"orange\", \"test\": \"(datum.emotion === 'Surprise')\"}, \"value\": \"#0570b0\"}, \"x\": {\"type\": \"quantitative\", \"axis\": {\"format\": \".0%\"}, \"field\": \"percent\"}, \"y\": {\"type\": \"nominal\", \"field\": \"emotion\", \"sort\": \"-x\"}}, \"title\": \"Expected label: surprise | n = 612\"}, {\"mark\": {\"type\": \"text\", \"align\": \"left\", \"baseline\": \"middle\", \"dx\": 3, \"fontSize\": 12}, \"encoding\": {\"color\": {\"condition\": {\"value\": \"orange\", \"test\": \"(datum.emotion === 'Surprise')\"}, \"value\": \"#0570b0\"}, \"text\": {\"type\": \"quantitative\", \"field\": \"percent\", \"format\": \".1%\"}, \"x\": {\"type\": \"quantitative\", \"axis\": {\"format\": \".0%\"}, \"field\": \"percent\"}, \"y\": {\"type\": \"nominal\", \"field\": \"emotion\", \"sort\": \"-x\"}}, \"title\": \"Expected label: surprise | n = 612\"}], \"data\": {\"name\": \"data-9ff22a6675815b87860de89618359ea2\"}, \"height\": 250, \"width\": 450, \"$schema\": \"https://vega.github.io/schema/vega-lite/v4.8.1.json\", \"datasets\": {\"data-9ff22a6675815b87860de89618359ea2\": [{\"counts\": 310, \"emotion\": \"Surprise\", \"percent\": 0.5065359477124183}, {\"counts\": 111, \"emotion\": \"Happiness\", \"percent\": 0.18137254901960784}, {\"counts\": 62, \"emotion\": \"Fear\", \"percent\": 0.10130718954248366}, {\"counts\": 40, \"emotion\": \"Neutral\", \"percent\": 0.06535947712418301}, {\"counts\": 39, \"emotion\": \"Other\", \"percent\": 0.06372549019607843}, {\"counts\": 31, \"emotion\": \"Uncertain\", \"percent\": 0.05065359477124183}, {\"counts\": 9, \"emotion\": \"Disgust\", \"percent\": 0.014705882352941176}, {\"counts\": 6, \"emotion\": \"Anger\", \"percent\": 0.00980392156862745}, {\"counts\": 4, \"emotion\": \"Sadness\", \"percent\": 0.006535947712418301}]}}, {\"renderer\": \"svg\", \"mode\": \"vega-lite\"});\n",
       "</script>"
      ],
      "text/plain": [
       "alt.LayerChart(...)"
      ]
     },
     "metadata": {},
     "output_type": "display_data"
    },
    {
     "data": {
      "text/html": [
       "\n",
       "<div id=\"altair-viz-30ce5747b7a0409d8bccf107bd9d60f2\"></div>\n",
       "<script type=\"text/javascript\">\n",
       "  (function(spec, embedOpt){\n",
       "    let outputDiv = document.currentScript.previousElementSibling;\n",
       "    if (outputDiv.id !== \"altair-viz-30ce5747b7a0409d8bccf107bd9d60f2\") {\n",
       "      outputDiv = document.getElementById(\"altair-viz-30ce5747b7a0409d8bccf107bd9d60f2\");\n",
       "    }\n",
       "    const paths = {\n",
       "      \"vega\": \"https://cdn.jsdelivr.net/npm//vega@5?noext\",\n",
       "      \"vega-lib\": \"https://cdn.jsdelivr.net/npm//vega-lib?noext\",\n",
       "      \"vega-lite\": \"https://cdn.jsdelivr.net/npm//vega-lite@4.8.1?noext\",\n",
       "      \"vega-embed\": \"https://cdn.jsdelivr.net/npm//vega-embed@6?noext\",\n",
       "    };\n",
       "\n",
       "    function loadScript(lib) {\n",
       "      return new Promise(function(resolve, reject) {\n",
       "        var s = document.createElement('script');\n",
       "        s.src = paths[lib];\n",
       "        s.async = true;\n",
       "        s.onload = () => resolve(paths[lib]);\n",
       "        s.onerror = () => reject(`Error loading script: ${paths[lib]}`);\n",
       "        document.getElementsByTagName(\"head\")[0].appendChild(s);\n",
       "      });\n",
       "    }\n",
       "\n",
       "    function showError(err) {\n",
       "      outputDiv.innerHTML = `<div class=\"error\" style=\"color:red;\">${err}</div>`;\n",
       "      throw err;\n",
       "    }\n",
       "\n",
       "    function displayChart(vegaEmbed) {\n",
       "      vegaEmbed(outputDiv, spec, embedOpt)\n",
       "        .catch(err => showError(`Javascript Error: ${err.message}<br>This usually means there's a typo in your chart specification. See the javascript console for the full traceback.`));\n",
       "    }\n",
       "\n",
       "    if(typeof define === \"function\" && define.amd) {\n",
       "      requirejs.config({paths});\n",
       "      require([\"vega-embed\"], displayChart, err => showError(`Error loading script: ${err.message}`));\n",
       "    } else if (typeof vegaEmbed === \"function\") {\n",
       "      displayChart(vegaEmbed);\n",
       "    } else {\n",
       "      loadScript(\"vega\")\n",
       "        .then(() => loadScript(\"vega-lite\"))\n",
       "        .then(() => loadScript(\"vega-embed\"))\n",
       "        .catch(showError)\n",
       "        .then(() => displayChart(vegaEmbed));\n",
       "    }\n",
       "  })({\"config\": {\"view\": {\"continuousWidth\": 400, \"continuousHeight\": 300}, \"axis\": {\"labelFontSize\": 11, \"titleFontSize\": 12}}, \"layer\": [{\"mark\": \"bar\", \"encoding\": {\"color\": {\"condition\": {\"value\": \"orange\", \"test\": \"(datum.emotion === 'Surprise')\"}, \"value\": \"#0570b0\"}, \"x\": {\"type\": \"quantitative\", \"axis\": {\"format\": \".0%\"}, \"field\": \"percent\"}, \"y\": {\"type\": \"nominal\", \"field\": \"emotion\", \"sort\": \"-x\"}}, \"title\": \"Expected label: surprise | n = 612\"}, {\"mark\": {\"type\": \"text\", \"align\": \"left\", \"baseline\": \"middle\", \"dx\": 3, \"fontSize\": 12}, \"encoding\": {\"color\": {\"condition\": {\"value\": \"orange\", \"test\": \"(datum.emotion === 'Surprise')\"}, \"value\": \"#0570b0\"}, \"text\": {\"type\": \"quantitative\", \"field\": \"percent\", \"format\": \".1%\"}, \"x\": {\"type\": \"quantitative\", \"axis\": {\"format\": \".0%\"}, \"field\": \"percent\"}, \"y\": {\"type\": \"nominal\", \"field\": \"emotion\", \"sort\": \"-x\"}}, \"title\": \"Expected label: surprise | n = 612\"}], \"data\": {\"name\": \"data-e001393093cceb2dd2e026ca4b80f619\"}, \"height\": 250, \"width\": 450, \"$schema\": \"https://vega.github.io/schema/vega-lite/v4.8.1.json\", \"datasets\": {\"data-e001393093cceb2dd2e026ca4b80f619\": [{\"counts\": 397, \"emotion\": \"Surprise\", \"percent\": 0.6486928104575164}, {\"counts\": 54, \"emotion\": \"Neutral\", \"percent\": 0.08823529411764706}, {\"counts\": 41, \"emotion\": \"Fear\", \"percent\": 0.06699346405228758}, {\"counts\": 40, \"emotion\": \"Other\", \"percent\": 0.06535947712418301}, {\"counts\": 27, \"emotion\": \"Happiness\", \"percent\": 0.04411764705882353}, {\"counts\": 27, \"emotion\": \"Uncertain\", \"percent\": 0.04411764705882353}, {\"counts\": 17, \"emotion\": \"Anger\", \"percent\": 0.027777777777777776}, {\"counts\": 7, \"emotion\": \"Disgust\", \"percent\": 0.011437908496732025}, {\"counts\": 2, \"emotion\": \"Sadness\", \"percent\": 0.0032679738562091504}]}}, {\"renderer\": \"svg\", \"mode\": \"vega-lite\"});\n",
       "</script>"
      ],
      "text/plain": [
       "alt.LayerChart(...)"
      ]
     },
     "metadata": {},
     "output_type": "display_data"
    }
   ],
   "source": [
    "chart_surprise_bipoc= wrapper_chart_emotion(df_emo_answers, 'surprise', 'bipoc')\n",
    "chart_surprise_white = wrapper_chart_emotion(df_emo_answers, 'surprise', 'white')"
   ]
  },
  {
   "cell_type": "markdown",
   "id": "ef5d8e32-ae37-4dbf-9eb1-6769a13b69d5",
   "metadata": {},
   "source": [
    "### Happiness"
   ]
  },
  {
   "cell_type": "code",
   "execution_count": 144,
   "id": "469bf336-40cf-4409-9e7c-c4f4f40d0fdd",
   "metadata": {},
   "outputs": [
    {
     "data": {
      "text/html": [
       "\n",
       "<div id=\"altair-viz-3ec75a69fe7a41b891d1a79ac0b05f1a\"></div>\n",
       "<script type=\"text/javascript\">\n",
       "  (function(spec, embedOpt){\n",
       "    let outputDiv = document.currentScript.previousElementSibling;\n",
       "    if (outputDiv.id !== \"altair-viz-3ec75a69fe7a41b891d1a79ac0b05f1a\") {\n",
       "      outputDiv = document.getElementById(\"altair-viz-3ec75a69fe7a41b891d1a79ac0b05f1a\");\n",
       "    }\n",
       "    const paths = {\n",
       "      \"vega\": \"https://cdn.jsdelivr.net/npm//vega@5?noext\",\n",
       "      \"vega-lib\": \"https://cdn.jsdelivr.net/npm//vega-lib?noext\",\n",
       "      \"vega-lite\": \"https://cdn.jsdelivr.net/npm//vega-lite@4.8.1?noext\",\n",
       "      \"vega-embed\": \"https://cdn.jsdelivr.net/npm//vega-embed@6?noext\",\n",
       "    };\n",
       "\n",
       "    function loadScript(lib) {\n",
       "      return new Promise(function(resolve, reject) {\n",
       "        var s = document.createElement('script');\n",
       "        s.src = paths[lib];\n",
       "        s.async = true;\n",
       "        s.onload = () => resolve(paths[lib]);\n",
       "        s.onerror = () => reject(`Error loading script: ${paths[lib]}`);\n",
       "        document.getElementsByTagName(\"head\")[0].appendChild(s);\n",
       "      });\n",
       "    }\n",
       "\n",
       "    function showError(err) {\n",
       "      outputDiv.innerHTML = `<div class=\"error\" style=\"color:red;\">${err}</div>`;\n",
       "      throw err;\n",
       "    }\n",
       "\n",
       "    function displayChart(vegaEmbed) {\n",
       "      vegaEmbed(outputDiv, spec, embedOpt)\n",
       "        .catch(err => showError(`Javascript Error: ${err.message}<br>This usually means there's a typo in your chart specification. See the javascript console for the full traceback.`));\n",
       "    }\n",
       "\n",
       "    if(typeof define === \"function\" && define.amd) {\n",
       "      requirejs.config({paths});\n",
       "      require([\"vega-embed\"], displayChart, err => showError(`Error loading script: ${err.message}`));\n",
       "    } else if (typeof vegaEmbed === \"function\") {\n",
       "      displayChart(vegaEmbed);\n",
       "    } else {\n",
       "      loadScript(\"vega\")\n",
       "        .then(() => loadScript(\"vega-lite\"))\n",
       "        .then(() => loadScript(\"vega-embed\"))\n",
       "        .catch(showError)\n",
       "        .then(() => displayChart(vegaEmbed));\n",
       "    }\n",
       "  })({\"config\": {\"view\": {\"continuousWidth\": 400, \"continuousHeight\": 300}, \"axis\": {\"labelFontSize\": 11, \"titleFontSize\": 12}}, \"layer\": [{\"mark\": \"bar\", \"encoding\": {\"color\": {\"condition\": {\"value\": \"orange\", \"test\": \"(datum.emotion === 'Happiness')\"}, \"value\": \"#0570b0\"}, \"x\": {\"type\": \"quantitative\", \"axis\": {\"format\": \".0%\"}, \"field\": \"percent\"}, \"y\": {\"type\": \"nominal\", \"field\": \"emotion\", \"sort\": \"-x\"}}, \"title\": \"Expected label: happiness | n = 612\"}, {\"mark\": {\"type\": \"text\", \"align\": \"left\", \"baseline\": \"middle\", \"dx\": 3, \"fontSize\": 12}, \"encoding\": {\"color\": {\"condition\": {\"value\": \"orange\", \"test\": \"(datum.emotion === 'Happiness')\"}, \"value\": \"#0570b0\"}, \"text\": {\"type\": \"quantitative\", \"field\": \"percent\", \"format\": \".1%\"}, \"x\": {\"type\": \"quantitative\", \"axis\": {\"format\": \".0%\"}, \"field\": \"percent\"}, \"y\": {\"type\": \"nominal\", \"field\": \"emotion\", \"sort\": \"-x\"}}, \"title\": \"Expected label: happiness | n = 612\"}], \"data\": {\"name\": \"data-785c7dac3d446409862d6521fd9b0b88\"}, \"height\": 250, \"width\": 450, \"$schema\": \"https://vega.github.io/schema/vega-lite/v4.8.1.json\", \"datasets\": {\"data-785c7dac3d446409862d6521fd9b0b88\": [{\"counts\": 498, \"emotion\": \"Happiness\", \"percent\": 0.8137254901960784}, {\"counts\": 60, \"emotion\": \"Neutral\", \"percent\": 0.09803921568627451}, {\"counts\": 16, \"emotion\": \"Other\", \"percent\": 0.026143790849673203}, {\"counts\": 14, \"emotion\": \"Uncertain\", \"percent\": 0.02287581699346405}, {\"counts\": 7, \"emotion\": \"Surprise\", \"percent\": 0.011437908496732025}, {\"counts\": 6, \"emotion\": \"Disgust\", \"percent\": 0.00980392156862745}, {\"counts\": 4, \"emotion\": \"Sadness\", \"percent\": 0.006535947712418301}, {\"counts\": 4, \"emotion\": \"Fear\", \"percent\": 0.006535947712418301}, {\"counts\": 3, \"emotion\": \"Anger\", \"percent\": 0.004901960784313725}]}}, {\"renderer\": \"svg\", \"mode\": \"vega-lite\"});\n",
       "</script>"
      ],
      "text/plain": [
       "alt.LayerChart(...)"
      ]
     },
     "metadata": {},
     "output_type": "display_data"
    },
    {
     "data": {
      "text/html": [
       "\n",
       "<div id=\"altair-viz-996b2f441fbc4794803e589305c9d2d2\"></div>\n",
       "<script type=\"text/javascript\">\n",
       "  (function(spec, embedOpt){\n",
       "    let outputDiv = document.currentScript.previousElementSibling;\n",
       "    if (outputDiv.id !== \"altair-viz-996b2f441fbc4794803e589305c9d2d2\") {\n",
       "      outputDiv = document.getElementById(\"altair-viz-996b2f441fbc4794803e589305c9d2d2\");\n",
       "    }\n",
       "    const paths = {\n",
       "      \"vega\": \"https://cdn.jsdelivr.net/npm//vega@5?noext\",\n",
       "      \"vega-lib\": \"https://cdn.jsdelivr.net/npm//vega-lib?noext\",\n",
       "      \"vega-lite\": \"https://cdn.jsdelivr.net/npm//vega-lite@4.8.1?noext\",\n",
       "      \"vega-embed\": \"https://cdn.jsdelivr.net/npm//vega-embed@6?noext\",\n",
       "    };\n",
       "\n",
       "    function loadScript(lib) {\n",
       "      return new Promise(function(resolve, reject) {\n",
       "        var s = document.createElement('script');\n",
       "        s.src = paths[lib];\n",
       "        s.async = true;\n",
       "        s.onload = () => resolve(paths[lib]);\n",
       "        s.onerror = () => reject(`Error loading script: ${paths[lib]}`);\n",
       "        document.getElementsByTagName(\"head\")[0].appendChild(s);\n",
       "      });\n",
       "    }\n",
       "\n",
       "    function showError(err) {\n",
       "      outputDiv.innerHTML = `<div class=\"error\" style=\"color:red;\">${err}</div>`;\n",
       "      throw err;\n",
       "    }\n",
       "\n",
       "    function displayChart(vegaEmbed) {\n",
       "      vegaEmbed(outputDiv, spec, embedOpt)\n",
       "        .catch(err => showError(`Javascript Error: ${err.message}<br>This usually means there's a typo in your chart specification. See the javascript console for the full traceback.`));\n",
       "    }\n",
       "\n",
       "    if(typeof define === \"function\" && define.amd) {\n",
       "      requirejs.config({paths});\n",
       "      require([\"vega-embed\"], displayChart, err => showError(`Error loading script: ${err.message}`));\n",
       "    } else if (typeof vegaEmbed === \"function\") {\n",
       "      displayChart(vegaEmbed);\n",
       "    } else {\n",
       "      loadScript(\"vega\")\n",
       "        .then(() => loadScript(\"vega-lite\"))\n",
       "        .then(() => loadScript(\"vega-embed\"))\n",
       "        .catch(showError)\n",
       "        .then(() => displayChart(vegaEmbed));\n",
       "    }\n",
       "  })({\"config\": {\"view\": {\"continuousWidth\": 400, \"continuousHeight\": 300}, \"axis\": {\"labelFontSize\": 11, \"titleFontSize\": 12}}, \"layer\": [{\"mark\": \"bar\", \"encoding\": {\"color\": {\"condition\": {\"value\": \"orange\", \"test\": \"(datum.emotion === 'Happiness')\"}, \"value\": \"#0570b0\"}, \"x\": {\"type\": \"quantitative\", \"axis\": {\"format\": \".0%\"}, \"field\": \"percent\"}, \"y\": {\"type\": \"nominal\", \"field\": \"emotion\", \"sort\": \"-x\"}}, \"title\": \"Expected label: happiness | n = 612\"}, {\"mark\": {\"type\": \"text\", \"align\": \"left\", \"baseline\": \"middle\", \"dx\": 3, \"fontSize\": 12}, \"encoding\": {\"color\": {\"condition\": {\"value\": \"orange\", \"test\": \"(datum.emotion === 'Happiness')\"}, \"value\": \"#0570b0\"}, \"text\": {\"type\": \"quantitative\", \"field\": \"percent\", \"format\": \".1%\"}, \"x\": {\"type\": \"quantitative\", \"axis\": {\"format\": \".0%\"}, \"field\": \"percent\"}, \"y\": {\"type\": \"nominal\", \"field\": \"emotion\", \"sort\": \"-x\"}}, \"title\": \"Expected label: happiness | n = 612\"}], \"data\": {\"name\": \"data-2c9005b1e010e195756778af56522023\"}, \"height\": 250, \"width\": 450, \"$schema\": \"https://vega.github.io/schema/vega-lite/v4.8.1.json\", \"datasets\": {\"data-2c9005b1e010e195756778af56522023\": [{\"counts\": 546, \"emotion\": \"Happiness\", \"percent\": 0.8921568627450981}, {\"counts\": 17, \"emotion\": \"Uncertain\", \"percent\": 0.027777777777777776}, {\"counts\": 16, \"emotion\": \"Neutral\", \"percent\": 0.026143790849673203}, {\"counts\": 11, \"emotion\": \"Surprise\", \"percent\": 0.017973856209150325}, {\"counts\": 9, \"emotion\": \"Other\", \"percent\": 0.014705882352941176}, {\"counts\": 4, \"emotion\": \"Fear\", \"percent\": 0.006535947712418301}, {\"counts\": 3, \"emotion\": \"Disgust\", \"percent\": 0.004901960784313725}, {\"counts\": 3, \"emotion\": \"Sadness\", \"percent\": 0.004901960784313725}, {\"counts\": 3, \"emotion\": \"Anger\", \"percent\": 0.004901960784313725}]}}, {\"renderer\": \"svg\", \"mode\": \"vega-lite\"});\n",
       "</script>"
      ],
      "text/plain": [
       "alt.LayerChart(...)"
      ]
     },
     "metadata": {},
     "output_type": "display_data"
    }
   ],
   "source": [
    "chart_happiness_bipoc = wrapper_chart_emotion(df_emo_answers, 'happiness', 'bipoc')\n",
    "chart_happiness_white = wrapper_chart_emotion(df_emo_answers, 'happiness', 'white')"
   ]
  },
  {
   "cell_type": "markdown",
   "id": "e83b4515-e445-49ed-aba0-a9c866ef843c",
   "metadata": {},
   "source": [
    "### Sadness"
   ]
  },
  {
   "cell_type": "code",
   "execution_count": 145,
   "id": "fc1140e4-48ec-41de-80fc-2c97fe45f0cb",
   "metadata": {},
   "outputs": [
    {
     "data": {
      "text/html": [
       "\n",
       "<div id=\"altair-viz-0ee216de7b184d0d9d99f05f09a410d6\"></div>\n",
       "<script type=\"text/javascript\">\n",
       "  (function(spec, embedOpt){\n",
       "    let outputDiv = document.currentScript.previousElementSibling;\n",
       "    if (outputDiv.id !== \"altair-viz-0ee216de7b184d0d9d99f05f09a410d6\") {\n",
       "      outputDiv = document.getElementById(\"altair-viz-0ee216de7b184d0d9d99f05f09a410d6\");\n",
       "    }\n",
       "    const paths = {\n",
       "      \"vega\": \"https://cdn.jsdelivr.net/npm//vega@5?noext\",\n",
       "      \"vega-lib\": \"https://cdn.jsdelivr.net/npm//vega-lib?noext\",\n",
       "      \"vega-lite\": \"https://cdn.jsdelivr.net/npm//vega-lite@4.8.1?noext\",\n",
       "      \"vega-embed\": \"https://cdn.jsdelivr.net/npm//vega-embed@6?noext\",\n",
       "    };\n",
       "\n",
       "    function loadScript(lib) {\n",
       "      return new Promise(function(resolve, reject) {\n",
       "        var s = document.createElement('script');\n",
       "        s.src = paths[lib];\n",
       "        s.async = true;\n",
       "        s.onload = () => resolve(paths[lib]);\n",
       "        s.onerror = () => reject(`Error loading script: ${paths[lib]}`);\n",
       "        document.getElementsByTagName(\"head\")[0].appendChild(s);\n",
       "      });\n",
       "    }\n",
       "\n",
       "    function showError(err) {\n",
       "      outputDiv.innerHTML = `<div class=\"error\" style=\"color:red;\">${err}</div>`;\n",
       "      throw err;\n",
       "    }\n",
       "\n",
       "    function displayChart(vegaEmbed) {\n",
       "      vegaEmbed(outputDiv, spec, embedOpt)\n",
       "        .catch(err => showError(`Javascript Error: ${err.message}<br>This usually means there's a typo in your chart specification. See the javascript console for the full traceback.`));\n",
       "    }\n",
       "\n",
       "    if(typeof define === \"function\" && define.amd) {\n",
       "      requirejs.config({paths});\n",
       "      require([\"vega-embed\"], displayChart, err => showError(`Error loading script: ${err.message}`));\n",
       "    } else if (typeof vegaEmbed === \"function\") {\n",
       "      displayChart(vegaEmbed);\n",
       "    } else {\n",
       "      loadScript(\"vega\")\n",
       "        .then(() => loadScript(\"vega-lite\"))\n",
       "        .then(() => loadScript(\"vega-embed\"))\n",
       "        .catch(showError)\n",
       "        .then(() => displayChart(vegaEmbed));\n",
       "    }\n",
       "  })({\"config\": {\"view\": {\"continuousWidth\": 400, \"continuousHeight\": 300}, \"axis\": {\"labelFontSize\": 11, \"titleFontSize\": 12}}, \"layer\": [{\"mark\": \"bar\", \"encoding\": {\"color\": {\"condition\": {\"value\": \"orange\", \"test\": \"(datum.emotion === 'Sadness')\"}, \"value\": \"#0570b0\"}, \"x\": {\"type\": \"quantitative\", \"axis\": {\"format\": \".0%\"}, \"field\": \"percent\"}, \"y\": {\"type\": \"nominal\", \"field\": \"emotion\", \"sort\": \"-x\"}}, \"title\": \"Expected label: sadness | n = 612\"}, {\"mark\": {\"type\": \"text\", \"align\": \"left\", \"baseline\": \"middle\", \"dx\": 3, \"fontSize\": 12}, \"encoding\": {\"color\": {\"condition\": {\"value\": \"orange\", \"test\": \"(datum.emotion === 'Sadness')\"}, \"value\": \"#0570b0\"}, \"text\": {\"type\": \"quantitative\", \"field\": \"percent\", \"format\": \".1%\"}, \"x\": {\"type\": \"quantitative\", \"axis\": {\"format\": \".0%\"}, \"field\": \"percent\"}, \"y\": {\"type\": \"nominal\", \"field\": \"emotion\", \"sort\": \"-x\"}}, \"title\": \"Expected label: sadness | n = 612\"}], \"data\": {\"name\": \"data-09907e4ce8aaeebe17f3c69559763b3e\"}, \"height\": 250, \"width\": 450, \"$schema\": \"https://vega.github.io/schema/vega-lite/v4.8.1.json\", \"datasets\": {\"data-09907e4ce8aaeebe17f3c69559763b3e\": [{\"counts\": 439, \"emotion\": \"Sadness\", \"percent\": 0.7173202614379085}, {\"counts\": 44, \"emotion\": \"Fear\", \"percent\": 0.0718954248366013}, {\"counts\": 41, \"emotion\": \"Disgust\", \"percent\": 0.06699346405228758}, {\"counts\": 27, \"emotion\": \"Anger\", \"percent\": 0.04411764705882353}, {\"counts\": 18, \"emotion\": \"Other\", \"percent\": 0.029411764705882353}, {\"counts\": 17, \"emotion\": \"Uncertain\", \"percent\": 0.027777777777777776}, {\"counts\": 17, \"emotion\": \"Neutral\", \"percent\": 0.027777777777777776}, {\"counts\": 5, \"emotion\": \"Surprise\", \"percent\": 0.008169934640522876}, {\"counts\": 4, \"emotion\": \"Happiness\", \"percent\": 0.006535947712418301}]}}, {\"renderer\": \"svg\", \"mode\": \"vega-lite\"});\n",
       "</script>"
      ],
      "text/plain": [
       "alt.LayerChart(...)"
      ]
     },
     "metadata": {},
     "output_type": "display_data"
    },
    {
     "data": {
      "text/html": [
       "\n",
       "<div id=\"altair-viz-c434b96898994b6b951ee415bad21c31\"></div>\n",
       "<script type=\"text/javascript\">\n",
       "  (function(spec, embedOpt){\n",
       "    let outputDiv = document.currentScript.previousElementSibling;\n",
       "    if (outputDiv.id !== \"altair-viz-c434b96898994b6b951ee415bad21c31\") {\n",
       "      outputDiv = document.getElementById(\"altair-viz-c434b96898994b6b951ee415bad21c31\");\n",
       "    }\n",
       "    const paths = {\n",
       "      \"vega\": \"https://cdn.jsdelivr.net/npm//vega@5?noext\",\n",
       "      \"vega-lib\": \"https://cdn.jsdelivr.net/npm//vega-lib?noext\",\n",
       "      \"vega-lite\": \"https://cdn.jsdelivr.net/npm//vega-lite@4.8.1?noext\",\n",
       "      \"vega-embed\": \"https://cdn.jsdelivr.net/npm//vega-embed@6?noext\",\n",
       "    };\n",
       "\n",
       "    function loadScript(lib) {\n",
       "      return new Promise(function(resolve, reject) {\n",
       "        var s = document.createElement('script');\n",
       "        s.src = paths[lib];\n",
       "        s.async = true;\n",
       "        s.onload = () => resolve(paths[lib]);\n",
       "        s.onerror = () => reject(`Error loading script: ${paths[lib]}`);\n",
       "        document.getElementsByTagName(\"head\")[0].appendChild(s);\n",
       "      });\n",
       "    }\n",
       "\n",
       "    function showError(err) {\n",
       "      outputDiv.innerHTML = `<div class=\"error\" style=\"color:red;\">${err}</div>`;\n",
       "      throw err;\n",
       "    }\n",
       "\n",
       "    function displayChart(vegaEmbed) {\n",
       "      vegaEmbed(outputDiv, spec, embedOpt)\n",
       "        .catch(err => showError(`Javascript Error: ${err.message}<br>This usually means there's a typo in your chart specification. See the javascript console for the full traceback.`));\n",
       "    }\n",
       "\n",
       "    if(typeof define === \"function\" && define.amd) {\n",
       "      requirejs.config({paths});\n",
       "      require([\"vega-embed\"], displayChart, err => showError(`Error loading script: ${err.message}`));\n",
       "    } else if (typeof vegaEmbed === \"function\") {\n",
       "      displayChart(vegaEmbed);\n",
       "    } else {\n",
       "      loadScript(\"vega\")\n",
       "        .then(() => loadScript(\"vega-lite\"))\n",
       "        .then(() => loadScript(\"vega-embed\"))\n",
       "        .catch(showError)\n",
       "        .then(() => displayChart(vegaEmbed));\n",
       "    }\n",
       "  })({\"config\": {\"view\": {\"continuousWidth\": 400, \"continuousHeight\": 300}, \"axis\": {\"labelFontSize\": 11, \"titleFontSize\": 12}}, \"layer\": [{\"mark\": \"bar\", \"encoding\": {\"color\": {\"condition\": {\"value\": \"orange\", \"test\": \"(datum.emotion === 'Sadness')\"}, \"value\": \"#0570b0\"}, \"x\": {\"type\": \"quantitative\", \"axis\": {\"format\": \".0%\"}, \"field\": \"percent\"}, \"y\": {\"type\": \"nominal\", \"field\": \"emotion\", \"sort\": \"-x\"}}, \"title\": \"Expected label: sadness | n = 612\"}, {\"mark\": {\"type\": \"text\", \"align\": \"left\", \"baseline\": \"middle\", \"dx\": 3, \"fontSize\": 12}, \"encoding\": {\"color\": {\"condition\": {\"value\": \"orange\", \"test\": \"(datum.emotion === 'Sadness')\"}, \"value\": \"#0570b0\"}, \"text\": {\"type\": \"quantitative\", \"field\": \"percent\", \"format\": \".1%\"}, \"x\": {\"type\": \"quantitative\", \"axis\": {\"format\": \".0%\"}, \"field\": \"percent\"}, \"y\": {\"type\": \"nominal\", \"field\": \"emotion\", \"sort\": \"-x\"}}, \"title\": \"Expected label: sadness | n = 612\"}], \"data\": {\"name\": \"data-56b7d5e494421edcb550566288845614\"}, \"height\": 250, \"width\": 450, \"$schema\": \"https://vega.github.io/schema/vega-lite/v4.8.1.json\", \"datasets\": {\"data-56b7d5e494421edcb550566288845614\": [{\"counts\": 413, \"emotion\": \"Sadness\", \"percent\": 0.6748366013071896}, {\"counts\": 80, \"emotion\": \"Neutral\", \"percent\": 0.13071895424836602}, {\"counts\": 31, \"emotion\": \"Anger\", \"percent\": 0.05065359477124183}, {\"counts\": 25, \"emotion\": \"Uncertain\", \"percent\": 0.04084967320261438}, {\"counts\": 21, \"emotion\": \"Disgust\", \"percent\": 0.03431372549019608}, {\"counts\": 18, \"emotion\": \"Other\", \"percent\": 0.029411764705882353}, {\"counts\": 16, \"emotion\": \"Fear\", \"percent\": 0.026143790849673203}, {\"counts\": 8, \"emotion\": \"Surprise\", \"percent\": 0.013071895424836602}]}}, {\"renderer\": \"svg\", \"mode\": \"vega-lite\"});\n",
       "</script>"
      ],
      "text/plain": [
       "alt.LayerChart(...)"
      ]
     },
     "metadata": {},
     "output_type": "display_data"
    }
   ],
   "source": [
    "chart_sadness_bipoc = wrapper_chart_emotion(df_emo_answers, 'sadness', 'bipoc')\n",
    "chart_sadness_white = wrapper_chart_emotion(df_emo_answers, 'sadness', 'white')"
   ]
  },
  {
   "cell_type": "markdown",
   "id": "c56cbffc-094e-4075-94fd-ed2590499849",
   "metadata": {},
   "source": [
    "### Neutral"
   ]
  },
  {
   "cell_type": "code",
   "execution_count": 146,
   "id": "5fffa5a3-7127-48e2-b7ff-8da593824ab8",
   "metadata": {},
   "outputs": [
    {
     "data": {
      "text/html": [
       "\n",
       "<div id=\"altair-viz-2b4f03260f10424fa6deaf7c2ce7a36d\"></div>\n",
       "<script type=\"text/javascript\">\n",
       "  (function(spec, embedOpt){\n",
       "    let outputDiv = document.currentScript.previousElementSibling;\n",
       "    if (outputDiv.id !== \"altair-viz-2b4f03260f10424fa6deaf7c2ce7a36d\") {\n",
       "      outputDiv = document.getElementById(\"altair-viz-2b4f03260f10424fa6deaf7c2ce7a36d\");\n",
       "    }\n",
       "    const paths = {\n",
       "      \"vega\": \"https://cdn.jsdelivr.net/npm//vega@5?noext\",\n",
       "      \"vega-lib\": \"https://cdn.jsdelivr.net/npm//vega-lib?noext\",\n",
       "      \"vega-lite\": \"https://cdn.jsdelivr.net/npm//vega-lite@4.8.1?noext\",\n",
       "      \"vega-embed\": \"https://cdn.jsdelivr.net/npm//vega-embed@6?noext\",\n",
       "    };\n",
       "\n",
       "    function loadScript(lib) {\n",
       "      return new Promise(function(resolve, reject) {\n",
       "        var s = document.createElement('script');\n",
       "        s.src = paths[lib];\n",
       "        s.async = true;\n",
       "        s.onload = () => resolve(paths[lib]);\n",
       "        s.onerror = () => reject(`Error loading script: ${paths[lib]}`);\n",
       "        document.getElementsByTagName(\"head\")[0].appendChild(s);\n",
       "      });\n",
       "    }\n",
       "\n",
       "    function showError(err) {\n",
       "      outputDiv.innerHTML = `<div class=\"error\" style=\"color:red;\">${err}</div>`;\n",
       "      throw err;\n",
       "    }\n",
       "\n",
       "    function displayChart(vegaEmbed) {\n",
       "      vegaEmbed(outputDiv, spec, embedOpt)\n",
       "        .catch(err => showError(`Javascript Error: ${err.message}<br>This usually means there's a typo in your chart specification. See the javascript console for the full traceback.`));\n",
       "    }\n",
       "\n",
       "    if(typeof define === \"function\" && define.amd) {\n",
       "      requirejs.config({paths});\n",
       "      require([\"vega-embed\"], displayChart, err => showError(`Error loading script: ${err.message}`));\n",
       "    } else if (typeof vegaEmbed === \"function\") {\n",
       "      displayChart(vegaEmbed);\n",
       "    } else {\n",
       "      loadScript(\"vega\")\n",
       "        .then(() => loadScript(\"vega-lite\"))\n",
       "        .then(() => loadScript(\"vega-embed\"))\n",
       "        .catch(showError)\n",
       "        .then(() => displayChart(vegaEmbed));\n",
       "    }\n",
       "  })({\"config\": {\"view\": {\"continuousWidth\": 400, \"continuousHeight\": 300}, \"axis\": {\"labelFontSize\": 11, \"titleFontSize\": 12}}, \"layer\": [{\"mark\": \"bar\", \"encoding\": {\"color\": {\"condition\": {\"value\": \"orange\", \"test\": \"(datum.emotion === 'Neutral')\"}, \"value\": \"#0570b0\"}, \"x\": {\"type\": \"quantitative\", \"axis\": {\"format\": \".0%\"}, \"field\": \"percent\"}, \"y\": {\"type\": \"nominal\", \"field\": \"emotion\", \"sort\": \"-x\"}}, \"title\": \"Expected label: neutral | n = 612\"}, {\"mark\": {\"type\": \"text\", \"align\": \"left\", \"baseline\": \"middle\", \"dx\": 3, \"fontSize\": 12}, \"encoding\": {\"color\": {\"condition\": {\"value\": \"orange\", \"test\": \"(datum.emotion === 'Neutral')\"}, \"value\": \"#0570b0\"}, \"text\": {\"type\": \"quantitative\", \"field\": \"percent\", \"format\": \".1%\"}, \"x\": {\"type\": \"quantitative\", \"axis\": {\"format\": \".0%\"}, \"field\": \"percent\"}, \"y\": {\"type\": \"nominal\", \"field\": \"emotion\", \"sort\": \"-x\"}}, \"title\": \"Expected label: neutral | n = 612\"}], \"data\": {\"name\": \"data-ebc9178f96395503f24082f684818dff\"}, \"height\": 250, \"width\": 450, \"$schema\": \"https://vega.github.io/schema/vega-lite/v4.8.1.json\", \"datasets\": {\"data-ebc9178f96395503f24082f684818dff\": [{\"counts\": 403, \"emotion\": \"Neutral\", \"percent\": 0.6584967320261438}, {\"counts\": 56, \"emotion\": \"Uncertain\", \"percent\": 0.0915032679738562}, {\"counts\": 41, \"emotion\": \"Other\", \"percent\": 0.06699346405228758}, {\"counts\": 29, \"emotion\": \"Anger\", \"percent\": 0.04738562091503268}, {\"counts\": 29, \"emotion\": \"Sadness\", \"percent\": 0.04738562091503268}, {\"counts\": 27, \"emotion\": \"Happiness\", \"percent\": 0.04411764705882353}, {\"counts\": 11, \"emotion\": \"Disgust\", \"percent\": 0.017973856209150325}, {\"counts\": 10, \"emotion\": \"Fear\", \"percent\": 0.016339869281045753}, {\"counts\": 6, \"emotion\": \"Surprise\", \"percent\": 0.00980392156862745}]}}, {\"renderer\": \"svg\", \"mode\": \"vega-lite\"});\n",
       "</script>"
      ],
      "text/plain": [
       "alt.LayerChart(...)"
      ]
     },
     "metadata": {},
     "output_type": "display_data"
    },
    {
     "data": {
      "text/html": [
       "\n",
       "<div id=\"altair-viz-f3a774047c404a2ca90097b7b14a566e\"></div>\n",
       "<script type=\"text/javascript\">\n",
       "  (function(spec, embedOpt){\n",
       "    let outputDiv = document.currentScript.previousElementSibling;\n",
       "    if (outputDiv.id !== \"altair-viz-f3a774047c404a2ca90097b7b14a566e\") {\n",
       "      outputDiv = document.getElementById(\"altair-viz-f3a774047c404a2ca90097b7b14a566e\");\n",
       "    }\n",
       "    const paths = {\n",
       "      \"vega\": \"https://cdn.jsdelivr.net/npm//vega@5?noext\",\n",
       "      \"vega-lib\": \"https://cdn.jsdelivr.net/npm//vega-lib?noext\",\n",
       "      \"vega-lite\": \"https://cdn.jsdelivr.net/npm//vega-lite@4.8.1?noext\",\n",
       "      \"vega-embed\": \"https://cdn.jsdelivr.net/npm//vega-embed@6?noext\",\n",
       "    };\n",
       "\n",
       "    function loadScript(lib) {\n",
       "      return new Promise(function(resolve, reject) {\n",
       "        var s = document.createElement('script');\n",
       "        s.src = paths[lib];\n",
       "        s.async = true;\n",
       "        s.onload = () => resolve(paths[lib]);\n",
       "        s.onerror = () => reject(`Error loading script: ${paths[lib]}`);\n",
       "        document.getElementsByTagName(\"head\")[0].appendChild(s);\n",
       "      });\n",
       "    }\n",
       "\n",
       "    function showError(err) {\n",
       "      outputDiv.innerHTML = `<div class=\"error\" style=\"color:red;\">${err}</div>`;\n",
       "      throw err;\n",
       "    }\n",
       "\n",
       "    function displayChart(vegaEmbed) {\n",
       "      vegaEmbed(outputDiv, spec, embedOpt)\n",
       "        .catch(err => showError(`Javascript Error: ${err.message}<br>This usually means there's a typo in your chart specification. See the javascript console for the full traceback.`));\n",
       "    }\n",
       "\n",
       "    if(typeof define === \"function\" && define.amd) {\n",
       "      requirejs.config({paths});\n",
       "      require([\"vega-embed\"], displayChart, err => showError(`Error loading script: ${err.message}`));\n",
       "    } else if (typeof vegaEmbed === \"function\") {\n",
       "      displayChart(vegaEmbed);\n",
       "    } else {\n",
       "      loadScript(\"vega\")\n",
       "        .then(() => loadScript(\"vega-lite\"))\n",
       "        .then(() => loadScript(\"vega-embed\"))\n",
       "        .catch(showError)\n",
       "        .then(() => displayChart(vegaEmbed));\n",
       "    }\n",
       "  })({\"config\": {\"view\": {\"continuousWidth\": 400, \"continuousHeight\": 300}, \"axis\": {\"labelFontSize\": 11, \"titleFontSize\": 12}}, \"layer\": [{\"mark\": \"bar\", \"encoding\": {\"color\": {\"condition\": {\"value\": \"orange\", \"test\": \"(datum.emotion === 'Neutral')\"}, \"value\": \"#0570b0\"}, \"x\": {\"type\": \"quantitative\", \"axis\": {\"format\": \".0%\"}, \"field\": \"percent\"}, \"y\": {\"type\": \"nominal\", \"field\": \"emotion\", \"sort\": \"-x\"}}, \"title\": \"Expected label: neutral | n = 612\"}, {\"mark\": {\"type\": \"text\", \"align\": \"left\", \"baseline\": \"middle\", \"dx\": 3, \"fontSize\": 12}, \"encoding\": {\"color\": {\"condition\": {\"value\": \"orange\", \"test\": \"(datum.emotion === 'Neutral')\"}, \"value\": \"#0570b0\"}, \"text\": {\"type\": \"quantitative\", \"field\": \"percent\", \"format\": \".1%\"}, \"x\": {\"type\": \"quantitative\", \"axis\": {\"format\": \".0%\"}, \"field\": \"percent\"}, \"y\": {\"type\": \"nominal\", \"field\": \"emotion\", \"sort\": \"-x\"}}, \"title\": \"Expected label: neutral | n = 612\"}], \"data\": {\"name\": \"data-50fab6b9baed5813eb2358653a420b46\"}, \"height\": 250, \"width\": 450, \"$schema\": \"https://vega.github.io/schema/vega-lite/v4.8.1.json\", \"datasets\": {\"data-50fab6b9baed5813eb2358653a420b46\": [{\"counts\": 432, \"emotion\": \"Neutral\", \"percent\": 0.7058823529411765}, {\"counts\": 45, \"emotion\": \"Other\", \"percent\": 0.07352941176470588}, {\"counts\": 39, \"emotion\": \"Uncertain\", \"percent\": 0.06372549019607843}, {\"counts\": 24, \"emotion\": \"Disgust\", \"percent\": 0.0392156862745098}, {\"counts\": 18, \"emotion\": \"Happiness\", \"percent\": 0.029411764705882353}, {\"counts\": 17, \"emotion\": \"Anger\", \"percent\": 0.027777777777777776}, {\"counts\": 13, \"emotion\": \"Surprise\", \"percent\": 0.021241830065359478}, {\"counts\": 12, \"emotion\": \"Sadness\", \"percent\": 0.0196078431372549}, {\"counts\": 12, \"emotion\": \"Fear\", \"percent\": 0.0196078431372549}]}}, {\"renderer\": \"svg\", \"mode\": \"vega-lite\"});\n",
       "</script>"
      ],
      "text/plain": [
       "alt.LayerChart(...)"
      ]
     },
     "metadata": {},
     "output_type": "display_data"
    }
   ],
   "source": [
    "chart_neutral_bipoc = wrapper_chart_emotion(df_emo_answers, 'neutral', 'bipoc')\n",
    "chart_neutral_white = wrapper_chart_emotion(df_emo_answers, 'neutral', 'white')"
   ]
  },
  {
   "cell_type": "markdown",
   "id": "c7307bde-32fc-41a4-bdb9-7d31600fc5a6",
   "metadata": {},
   "source": [
    "### Uncertain/Other"
   ]
  },
  {
   "cell_type": "code",
   "execution_count": 147,
   "id": "7c5bbf1c-8381-42ab-bc38-ef8011b221f6",
   "metadata": {},
   "outputs": [
    {
     "data": {
      "text/html": [
       "\n",
       "<div id=\"altair-viz-76bdd22281ae4df38e6511c63fee0d1f\"></div>\n",
       "<script type=\"text/javascript\">\n",
       "  (function(spec, embedOpt){\n",
       "    let outputDiv = document.currentScript.previousElementSibling;\n",
       "    if (outputDiv.id !== \"altair-viz-76bdd22281ae4df38e6511c63fee0d1f\") {\n",
       "      outputDiv = document.getElementById(\"altair-viz-76bdd22281ae4df38e6511c63fee0d1f\");\n",
       "    }\n",
       "    const paths = {\n",
       "      \"vega\": \"https://cdn.jsdelivr.net/npm//vega@5?noext\",\n",
       "      \"vega-lib\": \"https://cdn.jsdelivr.net/npm//vega-lib?noext\",\n",
       "      \"vega-lite\": \"https://cdn.jsdelivr.net/npm//vega-lite@4.8.1?noext\",\n",
       "      \"vega-embed\": \"https://cdn.jsdelivr.net/npm//vega-embed@6?noext\",\n",
       "    };\n",
       "\n",
       "    function loadScript(lib) {\n",
       "      return new Promise(function(resolve, reject) {\n",
       "        var s = document.createElement('script');\n",
       "        s.src = paths[lib];\n",
       "        s.async = true;\n",
       "        s.onload = () => resolve(paths[lib]);\n",
       "        s.onerror = () => reject(`Error loading script: ${paths[lib]}`);\n",
       "        document.getElementsByTagName(\"head\")[0].appendChild(s);\n",
       "      });\n",
       "    }\n",
       "\n",
       "    function showError(err) {\n",
       "      outputDiv.innerHTML = `<div class=\"error\" style=\"color:red;\">${err}</div>`;\n",
       "      throw err;\n",
       "    }\n",
       "\n",
       "    function displayChart(vegaEmbed) {\n",
       "      vegaEmbed(outputDiv, spec, embedOpt)\n",
       "        .catch(err => showError(`Javascript Error: ${err.message}<br>This usually means there's a typo in your chart specification. See the javascript console for the full traceback.`));\n",
       "    }\n",
       "\n",
       "    if(typeof define === \"function\" && define.amd) {\n",
       "      requirejs.config({paths});\n",
       "      require([\"vega-embed\"], displayChart, err => showError(`Error loading script: ${err.message}`));\n",
       "    } else if (typeof vegaEmbed === \"function\") {\n",
       "      displayChart(vegaEmbed);\n",
       "    } else {\n",
       "      loadScript(\"vega\")\n",
       "        .then(() => loadScript(\"vega-lite\"))\n",
       "        .then(() => loadScript(\"vega-embed\"))\n",
       "        .catch(showError)\n",
       "        .then(() => displayChart(vegaEmbed));\n",
       "    }\n",
       "  })({\"config\": {\"view\": {\"continuousWidth\": 400, \"continuousHeight\": 300}, \"axis\": {\"labelFontSize\": 11, \"titleFontSize\": 12}}, \"layer\": [{\"mark\": \"bar\", \"encoding\": {\"color\": {\"condition\": {\"value\": \"orange\", \"test\": \"(datum.emotion === 'Uncertain')\"}, \"value\": \"#0570b0\"}, \"x\": {\"type\": \"quantitative\", \"axis\": {\"format\": \".0%\"}, \"field\": \"percent\"}, \"y\": {\"type\": \"nominal\", \"field\": \"emotion\", \"sort\": \"-x\"}}, \"title\": \"Expected label: uncertain | n = 612\"}, {\"mark\": {\"type\": \"text\", \"align\": \"left\", \"baseline\": \"middle\", \"dx\": 3, \"fontSize\": 12}, \"encoding\": {\"color\": {\"condition\": {\"value\": \"orange\", \"test\": \"(datum.emotion === 'Uncertain')\"}, \"value\": \"#0570b0\"}, \"text\": {\"type\": \"quantitative\", \"field\": \"percent\", \"format\": \".1%\"}, \"x\": {\"type\": \"quantitative\", \"axis\": {\"format\": \".0%\"}, \"field\": \"percent\"}, \"y\": {\"type\": \"nominal\", \"field\": \"emotion\", \"sort\": \"-x\"}}, \"title\": \"Expected label: uncertain | n = 612\"}], \"data\": {\"name\": \"data-3af8cb3587f2adb97fe69a0eb5b6590e\"}, \"height\": 250, \"width\": 450, \"$schema\": \"https://vega.github.io/schema/vega-lite/v4.8.1.json\", \"datasets\": {\"data-3af8cb3587f2adb97fe69a0eb5b6590e\": [{\"counts\": 160, \"emotion\": \"Other\", \"percent\": 0.26143790849673204}, {\"counts\": 153, \"emotion\": \"Happiness\", \"percent\": 0.25}, {\"counts\": 103, \"emotion\": \"Uncertain\", \"percent\": 0.16830065359477125}, {\"counts\": 87, \"emotion\": \"Neutral\", \"percent\": 0.14215686274509803}, {\"counts\": 53, \"emotion\": \"Disgust\", \"percent\": 0.08660130718954248}, {\"counts\": 17, \"emotion\": \"Sadness\", \"percent\": 0.027777777777777776}, {\"counts\": 14, \"emotion\": \"Surprise\", \"percent\": 0.02287581699346405}, {\"counts\": 13, \"emotion\": \"Fear\", \"percent\": 0.021241830065359478}, {\"counts\": 12, \"emotion\": \"Anger\", \"percent\": 0.0196078431372549}]}}, {\"renderer\": \"svg\", \"mode\": \"vega-lite\"});\n",
       "</script>"
      ],
      "text/plain": [
       "alt.LayerChart(...)"
      ]
     },
     "metadata": {},
     "output_type": "display_data"
    },
    {
     "data": {
      "text/html": [
       "\n",
       "<div id=\"altair-viz-0ebac4276dbf42ab8c6b10516845327b\"></div>\n",
       "<script type=\"text/javascript\">\n",
       "  (function(spec, embedOpt){\n",
       "    let outputDiv = document.currentScript.previousElementSibling;\n",
       "    if (outputDiv.id !== \"altair-viz-0ebac4276dbf42ab8c6b10516845327b\") {\n",
       "      outputDiv = document.getElementById(\"altair-viz-0ebac4276dbf42ab8c6b10516845327b\");\n",
       "    }\n",
       "    const paths = {\n",
       "      \"vega\": \"https://cdn.jsdelivr.net/npm//vega@5?noext\",\n",
       "      \"vega-lib\": \"https://cdn.jsdelivr.net/npm//vega-lib?noext\",\n",
       "      \"vega-lite\": \"https://cdn.jsdelivr.net/npm//vega-lite@4.8.1?noext\",\n",
       "      \"vega-embed\": \"https://cdn.jsdelivr.net/npm//vega-embed@6?noext\",\n",
       "    };\n",
       "\n",
       "    function loadScript(lib) {\n",
       "      return new Promise(function(resolve, reject) {\n",
       "        var s = document.createElement('script');\n",
       "        s.src = paths[lib];\n",
       "        s.async = true;\n",
       "        s.onload = () => resolve(paths[lib]);\n",
       "        s.onerror = () => reject(`Error loading script: ${paths[lib]}`);\n",
       "        document.getElementsByTagName(\"head\")[0].appendChild(s);\n",
       "      });\n",
       "    }\n",
       "\n",
       "    function showError(err) {\n",
       "      outputDiv.innerHTML = `<div class=\"error\" style=\"color:red;\">${err}</div>`;\n",
       "      throw err;\n",
       "    }\n",
       "\n",
       "    function displayChart(vegaEmbed) {\n",
       "      vegaEmbed(outputDiv, spec, embedOpt)\n",
       "        .catch(err => showError(`Javascript Error: ${err.message}<br>This usually means there's a typo in your chart specification. See the javascript console for the full traceback.`));\n",
       "    }\n",
       "\n",
       "    if(typeof define === \"function\" && define.amd) {\n",
       "      requirejs.config({paths});\n",
       "      require([\"vega-embed\"], displayChart, err => showError(`Error loading script: ${err.message}`));\n",
       "    } else if (typeof vegaEmbed === \"function\") {\n",
       "      displayChart(vegaEmbed);\n",
       "    } else {\n",
       "      loadScript(\"vega\")\n",
       "        .then(() => loadScript(\"vega-lite\"))\n",
       "        .then(() => loadScript(\"vega-embed\"))\n",
       "        .catch(showError)\n",
       "        .then(() => displayChart(vegaEmbed));\n",
       "    }\n",
       "  })({\"config\": {\"view\": {\"continuousWidth\": 400, \"continuousHeight\": 300}, \"axis\": {\"labelFontSize\": 11, \"titleFontSize\": 12}}, \"layer\": [{\"mark\": \"bar\", \"encoding\": {\"color\": {\"condition\": {\"value\": \"orange\", \"test\": \"(datum.emotion === 'Uncertain')\"}, \"value\": \"#0570b0\"}, \"x\": {\"type\": \"quantitative\", \"axis\": {\"format\": \".0%\"}, \"field\": \"percent\"}, \"y\": {\"type\": \"nominal\", \"field\": \"emotion\", \"sort\": \"-x\"}}, \"title\": \"Expected label: uncertain | n = 612\"}, {\"mark\": {\"type\": \"text\", \"align\": \"left\", \"baseline\": \"middle\", \"dx\": 3, \"fontSize\": 12}, \"encoding\": {\"color\": {\"condition\": {\"value\": \"orange\", \"test\": \"(datum.emotion === 'Uncertain')\"}, \"value\": \"#0570b0\"}, \"text\": {\"type\": \"quantitative\", \"field\": \"percent\", \"format\": \".1%\"}, \"x\": {\"type\": \"quantitative\", \"axis\": {\"format\": \".0%\"}, \"field\": \"percent\"}, \"y\": {\"type\": \"nominal\", \"field\": \"emotion\", \"sort\": \"-x\"}}, \"title\": \"Expected label: uncertain | n = 612\"}], \"data\": {\"name\": \"data-8d1f40d23cbb99f5e5571998f3592fe7\"}, \"height\": 250, \"width\": 450, \"$schema\": \"https://vega.github.io/schema/vega-lite/v4.8.1.json\", \"datasets\": {\"data-8d1f40d23cbb99f5e5571998f3592fe7\": [{\"counts\": 136, \"emotion\": \"Other\", \"percent\": 0.2222222222222222}, {\"counts\": 115, \"emotion\": \"Surprise\", \"percent\": 0.18790849673202614}, {\"counts\": 98, \"emotion\": \"Uncertain\", \"percent\": 0.16013071895424835}, {\"counts\": 64, \"emotion\": \"Disgust\", \"percent\": 0.10457516339869281}, {\"counts\": 60, \"emotion\": \"Neutral\", \"percent\": 0.09803921568627451}, {\"counts\": 51, \"emotion\": \"Happiness\", \"percent\": 0.08333333333333333}, {\"counts\": 47, \"emotion\": \"Anger\", \"percent\": 0.07679738562091504}, {\"counts\": 29, \"emotion\": \"Sadness\", \"percent\": 0.04738562091503268}, {\"counts\": 12, \"emotion\": \"Fear\", \"percent\": 0.0196078431372549}]}}, {\"renderer\": \"svg\", \"mode\": \"vega-lite\"});\n",
       "</script>"
      ],
      "text/plain": [
       "alt.LayerChart(...)"
      ]
     },
     "metadata": {},
     "output_type": "display_data"
    }
   ],
   "source": [
    "chart_uncertain_bipoc = wrapper_chart_emotion(df_emo_answers, 'uncertain', 'bipoc')\n",
    "chart_uncertain_white = wrapper_chart_emotion(df_emo_answers, 'uncertain', 'white')"
   ]
  },
  {
   "cell_type": "markdown",
   "id": "b6a4081e-d15d-4438-aebb-5961b9c4145e",
   "metadata": {},
   "source": [
    "## Emotion percentages as feature vectors"
   ]
  },
  {
   "cell_type": "code",
   "execution_count": 148,
   "id": "20b14175-26c5-4e04-b7c9-f84f4563c816",
   "metadata": {},
   "outputs": [],
   "source": [
    "# placeholder dataframe\n",
    "df_emo_features = pd.DataFrame(columns = emotion_words_list) \n",
    "\n",
    "# add key-ids\n",
    "df_emo_features.insert(loc=0, column='photo_id', value=df_emo_answers.columns) "
   ]
  },
  {
   "cell_type": "code",
   "execution_count": 149,
   "id": "346de52c-31ee-493f-a362-dcb850541725",
   "metadata": {},
   "outputs": [],
   "source": [
    "df_emo_answers = df.loc[:, 'Q2.1':'Q195.1'] # subset photos"
   ]
  },
  {
   "cell_type": "code",
   "execution_count": 150,
   "id": "8db90b89-96fc-4a73-aa61-f068d3b67d35",
   "metadata": {},
   "outputs": [],
   "source": [
    "def fill_in_emotion_vectors(df_emo_features, df_emo_answers, emotion_words_list):\n",
    "    for emo in range(0, len(emotion_words_list)):\n",
    "        \n",
    "        emotion = emotion_words_list[emo] # get emotion word\n",
    "        df_ans = emotion_df_formated(df_emo_answers, emotion) # ans for all pics of emo-word\n",
    "        photo_id_list = df_ans['photo_id'].tolist() # photo ids for the emotion word\n",
    "        splited_photo_id = np.array_split(photo_id_list, 24) # photo_id_list as an array \n",
    "        \n",
    "        for ids in range(0, len(splited_photo_id)):\n",
    "            photo_id = splited_photo_id[ids]  \n",
    "            df_single = df_ans[df_ans['photo_id'].isin(photo_id)] # get row for nth photo\n",
    "            df_emotion_ans = df_single.drop(['photo_id', 'ethnicity', 'sex', \\\n",
    "                                             'age', 'label', 'url'], axis=1) # clean up for calculation\n",
    "            source = count_freq_labels(df_emotion_ans, X=\"all\") # compute vector-values\n",
    "            source = source[['percent', 'emotion']].T\n",
    "            source.columns = source.iloc[1].str.lower() # emotion words as cols\n",
    "            source.drop('emotion', axis=0, inplace=True) # clean up emotion row\n",
    "            source.reset_index(drop=True, inplace=True) # clean up index\n",
    "            source.columns.name = None\n",
    "            photo_id_str = photo_id[0] # photo id as str\n",
    "            source.insert(0, 'photo_id', photo_id_str) # photo id as col\n",
    "            # set photo id as col for easier manipulation\n",
    "            df_emo_features = df_emo_features.set_index('photo_id') \n",
    "            # fill in vectors where the value is available\n",
    "            df_emo_features.loc[photo_id_str] = pd.Series(source.T.to_dict()[0])\n",
    "            \n",
    "            df_emo_features['photo_id'] = df_emo_features.index # index back to column\n",
    "            df_emo_features.index.name = None \n",
    "            df_emo_features.reset_index(drop=True, inplace=True) # clean up index\n",
    "    \n",
    "    return df_emo_features \n",
    "            \n"
   ]
  },
  {
   "cell_type": "code",
   "execution_count": 151,
   "id": "637e0c5e-700e-4f2f-bfa6-42cce789ced0",
   "metadata": {},
   "outputs": [],
   "source": [
    "df_emo_vectors = fill_in_emotion_vectors(df_emo_features, df_emo_answers, emotion_words_list)"
   ]
  },
  {
   "cell_type": "code",
   "execution_count": 152,
   "id": "78d32428-6834-469d-872e-6b4b7adb3560",
   "metadata": {},
   "outputs": [],
   "source": [
    "df_emo_vectors = df_emo_vectors.fillna(0)"
   ]
  },
  {
   "cell_type": "code",
   "execution_count": 153,
   "id": "687ca444-fb67-48ca-98a2-1530be1e9485",
   "metadata": {},
   "outputs": [],
   "source": [
    "df_emo_vectors = pd.concat([df_emo_vectors, df_labels], axis=1) # concat metadata"
   ]
  },
  {
   "cell_type": "code",
   "execution_count": 154,
   "id": "d3e70d7f-9586-4737-b0ac-12a65ed96745",
   "metadata": {},
   "outputs": [],
   "source": [
    "df_emo_vectors.to_csv('../clean_data/forced_choice_uw_students_vectors.csv', index=False)"
   ]
  },
  {
   "cell_type": "markdown",
   "id": "96582b42-af57-4e58-8ed8-4323e9626b40",
   "metadata": {},
   "source": [
    "# Clustering"
   ]
  },
  {
   "cell_type": "code",
   "execution_count": 159,
   "id": "d7b9d6ff-a3ec-40a2-b46b-792654526221",
   "metadata": {},
   "outputs": [],
   "source": [
    "from kneed import KneeLocator\n",
    "from sklearn.cluster import KMeans\n",
    "from sklearn.metrics import silhouette_score\n",
    "from sklearn import preprocessing as pp"
   ]
  },
  {
   "cell_type": "markdown",
   "id": "85cc5307-29c4-4147-8201-05cbf012c87f",
   "metadata": {},
   "source": [
    "## K means"
   ]
  },
  {
   "cell_type": "markdown",
   "id": "cc3a90ff-6da4-4689-af34-ebc8cbc460aa",
   "metadata": {},
   "source": [
    "### Standarize feature matrix X"
   ]
  },
  {
   "cell_type": "code",
   "execution_count": 160,
   "id": "e26076df-3207-45cf-a816-4bae0c084e5e",
   "metadata": {},
   "outputs": [],
   "source": [
    "X = df_emo_vectors.copy().drop(['photo_id', 'ethnicity', 'sex', \\\n",
    "                                   'age', 'label', 'url'], axis=1)"
   ]
  },
  {
   "cell_type": "code",
   "execution_count": 161,
   "id": "48121141-6aaa-477f-85e4-a7512107d547",
   "metadata": {},
   "outputs": [],
   "source": [
    "features = X.columns\n",
    "sX = pp.StandardScaler(copy=True)\n",
    "X.loc[:,features] = sX.fit_transform(X[features])"
   ]
  },
  {
   "cell_type": "code",
   "execution_count": 162,
   "id": "a82f5d08-ede3-4c6f-82fb-fae497ab2d93",
   "metadata": {},
   "outputs": [
    {
     "data": {
      "text/html": [
       "<div>\n",
       "<style scoped>\n",
       "    .dataframe tbody tr th:only-of-type {\n",
       "        vertical-align: middle;\n",
       "    }\n",
       "\n",
       "    .dataframe tbody tr th {\n",
       "        vertical-align: top;\n",
       "    }\n",
       "\n",
       "    .dataframe thead th {\n",
       "        text-align: right;\n",
       "    }\n",
       "</style>\n",
       "<table border=\"1\" class=\"dataframe\">\n",
       "  <thead>\n",
       "    <tr style=\"text-align: right;\">\n",
       "      <th></th>\n",
       "      <th>happiness</th>\n",
       "      <th>neutral</th>\n",
       "      <th>surprise</th>\n",
       "      <th>sadness</th>\n",
       "      <th>disgust</th>\n",
       "      <th>anger</th>\n",
       "      <th>fear</th>\n",
       "      <th>uncertain</th>\n",
       "    </tr>\n",
       "  </thead>\n",
       "  <tbody>\n",
       "    <tr>\n",
       "      <th>count</th>\n",
       "      <td>1.940000e+02</td>\n",
       "      <td>1.940000e+02</td>\n",
       "      <td>1.940000e+02</td>\n",
       "      <td>1.940000e+02</td>\n",
       "      <td>1.940000e+02</td>\n",
       "      <td>1.940000e+02</td>\n",
       "      <td>1.940000e+02</td>\n",
       "      <td>1.940000e+02</td>\n",
       "    </tr>\n",
       "    <tr>\n",
       "      <th>mean</th>\n",
       "      <td>-5.264975e-17</td>\n",
       "      <td>2.323456e-16</td>\n",
       "      <td>-3.490907e-17</td>\n",
       "      <td>5.722799e-19</td>\n",
       "      <td>3.862889e-17</td>\n",
       "      <td>-3.777047e-17</td>\n",
       "      <td>7.153499e-19</td>\n",
       "      <td>-7.325183e-17</td>\n",
       "    </tr>\n",
       "    <tr>\n",
       "      <th>std</th>\n",
       "      <td>1.002587e+00</td>\n",
       "      <td>1.002587e+00</td>\n",
       "      <td>1.002587e+00</td>\n",
       "      <td>1.002587e+00</td>\n",
       "      <td>1.002587e+00</td>\n",
       "      <td>1.002587e+00</td>\n",
       "      <td>1.002587e+00</td>\n",
       "      <td>1.002587e+00</td>\n",
       "    </tr>\n",
       "    <tr>\n",
       "      <th>min</th>\n",
       "      <td>-5.276933e-01</td>\n",
       "      <td>-6.218201e-01</td>\n",
       "      <td>-5.762526e-01</td>\n",
       "      <td>-4.810820e-01</td>\n",
       "      <td>-5.701140e-01</td>\n",
       "      <td>-5.196366e-01</td>\n",
       "      <td>-5.261521e-01</td>\n",
       "      <td>-1.010593e+00</td>\n",
       "    </tr>\n",
       "    <tr>\n",
       "      <th>25%</th>\n",
       "      <td>-5.276933e-01</td>\n",
       "      <td>-6.218201e-01</td>\n",
       "      <td>-5.762526e-01</td>\n",
       "      <td>-4.810820e-01</td>\n",
       "      <td>-5.701140e-01</td>\n",
       "      <td>-5.196366e-01</td>\n",
       "      <td>-5.261521e-01</td>\n",
       "      <td>-7.085053e-01</td>\n",
       "    </tr>\n",
       "    <tr>\n",
       "      <th>50%</th>\n",
       "      <td>-4.614328e-01</td>\n",
       "      <td>-4.936688e-01</td>\n",
       "      <td>-4.930113e-01</td>\n",
       "      <td>-4.048321e-01</td>\n",
       "      <td>-4.707411e-01</td>\n",
       "      <td>-4.280748e-01</td>\n",
       "      <td>-3.731183e-01</td>\n",
       "      <td>-4.064173e-01</td>\n",
       "    </tr>\n",
       "    <tr>\n",
       "      <th>75%</th>\n",
       "      <td>-2.129559e-01</td>\n",
       "      <td>-2.378066e-02</td>\n",
       "      <td>-7.680507e-02</td>\n",
       "      <td>-2.523322e-01</td>\n",
       "      <td>-7.324915e-02</td>\n",
       "      <td>-6.182778e-02</td>\n",
       "      <td>-1.053093e-01</td>\n",
       "      <td>4.998466e-01</td>\n",
       "    </tr>\n",
       "    <tr>\n",
       "      <th>max</th>\n",
       "      <td>2.785333e+00</td>\n",
       "      <td>3.051851e+00</td>\n",
       "      <td>3.336086e+00</td>\n",
       "      <td>3.255164e+00</td>\n",
       "      <td>4.100416e+00</td>\n",
       "      <td>3.783766e+00</td>\n",
       "      <td>4.676995e+00</td>\n",
       "      <td>3.520726e+00</td>\n",
       "    </tr>\n",
       "  </tbody>\n",
       "</table>\n",
       "</div>"
      ],
      "text/plain": [
       "          happiness       neutral      surprise       sadness       disgust  \\\n",
       "count  1.940000e+02  1.940000e+02  1.940000e+02  1.940000e+02  1.940000e+02   \n",
       "mean  -5.264975e-17  2.323456e-16 -3.490907e-17  5.722799e-19  3.862889e-17   \n",
       "std    1.002587e+00  1.002587e+00  1.002587e+00  1.002587e+00  1.002587e+00   \n",
       "min   -5.276933e-01 -6.218201e-01 -5.762526e-01 -4.810820e-01 -5.701140e-01   \n",
       "25%   -5.276933e-01 -6.218201e-01 -5.762526e-01 -4.810820e-01 -5.701140e-01   \n",
       "50%   -4.614328e-01 -4.936688e-01 -4.930113e-01 -4.048321e-01 -4.707411e-01   \n",
       "75%   -2.129559e-01 -2.378066e-02 -7.680507e-02 -2.523322e-01 -7.324915e-02   \n",
       "max    2.785333e+00  3.051851e+00  3.336086e+00  3.255164e+00  4.100416e+00   \n",
       "\n",
       "              anger          fear     uncertain  \n",
       "count  1.940000e+02  1.940000e+02  1.940000e+02  \n",
       "mean  -3.777047e-17  7.153499e-19 -7.325183e-17  \n",
       "std    1.002587e+00  1.002587e+00  1.002587e+00  \n",
       "min   -5.196366e-01 -5.261521e-01 -1.010593e+00  \n",
       "25%   -5.196366e-01 -5.261521e-01 -7.085053e-01  \n",
       "50%   -4.280748e-01 -3.731183e-01 -4.064173e-01  \n",
       "75%   -6.182778e-02 -1.053093e-01  4.998466e-01  \n",
       "max    3.783766e+00  4.676995e+00  3.520726e+00  "
      ]
     },
     "execution_count": 162,
     "metadata": {},
     "output_type": "execute_result"
    }
   ],
   "source": [
    "X.describe() # mean  = 0, SD =1"
   ]
  },
  {
   "cell_type": "code",
   "execution_count": 163,
   "id": "9719bfe9-cb99-4066-999d-9ca0faf6d91d",
   "metadata": {},
   "outputs": [],
   "source": [
    "def k_means(n_clusters=3, n_inits=10, max_iter=500):\n",
    "    kmeans = KMeans(\n",
    "    init=\"random\",\n",
    "    n_clusters=n_clusters,\n",
    "    n_init=n_inits,\n",
    "    max_iter=max_iter,\n",
    "    random_state=42)\n",
    "    kmeans.fit(X)\n",
    "    \n",
    "    return kmeans"
   ]
  },
  {
   "cell_type": "code",
   "execution_count": 164,
   "id": "01ecf001-12ab-4c39-90d7-0858a8ac85c1",
   "metadata": {},
   "outputs": [],
   "source": [
    "k_means_run = k_means()"
   ]
  },
  {
   "cell_type": "code",
   "execution_count": 165,
   "id": "332dc80c-16aa-40f9-8f2c-a982329f5dc8",
   "metadata": {},
   "outputs": [],
   "source": [
    "kmeans_kwargs = {\n",
    "    \"init\": \"random\",\n",
    "    \"n_init\": 10,\n",
    "    \"max_iter\": 300,\n",
    "    \"random_state\": 42,\n",
    "}\n",
    "\n",
    "# A list holds the SSE values for each k\n",
    "sse = []\n",
    "for k in range(1, 11):\n",
    "    kmeans = KMeans(n_clusters=k, **kmeans_kwargs)\n",
    "    kmeans.fit(X)\n",
    "    sse.append(kmeans.inertia_)"
   ]
  },
  {
   "cell_type": "code",
   "execution_count": 166,
   "id": "51dcee20-81d9-4af5-93da-29979a19fabc",
   "metadata": {},
   "outputs": [],
   "source": [
    "source = pd.DataFrame({'y': sse, 'x': range(1, 11)})"
   ]
  },
  {
   "cell_type": "code",
   "execution_count": 167,
   "id": "3793978f-7fe6-46c7-9059-bc6fd10aecaa",
   "metadata": {},
   "outputs": [],
   "source": [
    "chart_elbow = alt.Chart(source).mark_line().encode(\n",
    "    alt.X('x:Q', title='Number of clusters'), \n",
    "    alt.Y('y:Q', title='SSE'))"
   ]
  },
  {
   "cell_type": "code",
   "execution_count": 168,
   "id": "1a5f28d4-f806-4d6a-a1b3-77353c66a850",
   "metadata": {},
   "outputs": [
    {
     "data": {
      "text/plain": [
       "6"
      ]
     },
     "execution_count": 168,
     "metadata": {},
     "output_type": "execute_result"
    }
   ],
   "source": [
    "kl = KneeLocator(\n",
    "    range(1, 11), sse, curve=\"convex\", direction=\"decreasing\"\n",
    ")\n",
    "\n",
    "kl.elbow"
   ]
  },
  {
   "cell_type": "code",
   "execution_count": 169,
   "id": "6a2a25bf-8c8e-4d34-9654-5b5989e6df62",
   "metadata": {},
   "outputs": [],
   "source": [
    "# A list holds the silhouette coefficients for each k\n",
    "silhouette_coefficients = []\n",
    "\n",
    "# Notice you start at 2 clusters for silhouette coefficient\n",
    "for k in range(2, 11):\n",
    "    kmeans = KMeans(n_clusters=k, **kmeans_kwargs)\n",
    "    kmeans.fit(X)\n",
    "    score = silhouette_score(X, kmeans.labels_)\n",
    "    silhouette_coefficients.append(score)"
   ]
  },
  {
   "cell_type": "code",
   "execution_count": 170,
   "id": "cfd8567d-cdb4-4d92-a448-d7ec4166bbcd",
   "metadata": {},
   "outputs": [],
   "source": [
    "source = pd.DataFrame({'y': silhouette_coefficients, 'x': range(2, 11)})"
   ]
  },
  {
   "cell_type": "code",
   "execution_count": 171,
   "id": "08eea32a-bd11-4314-9a35-ba3f135d1c51",
   "metadata": {},
   "outputs": [],
   "source": [
    "chart_silhouette = alt.Chart(source).mark_line().encode(\n",
    "    alt.X('x:Q', title='Number of clusters'), \n",
    "    alt.Y('y:Q', title='Silhouette coefficients'))"
   ]
  },
  {
   "cell_type": "code",
   "execution_count": 172,
   "id": "9297336e-37aa-4736-a0d4-fb46a2464752",
   "metadata": {},
   "outputs": [
    {
     "data": {
      "text/html": [
       "\n",
       "<div id=\"altair-viz-ac1da21e54e74678a76657b5e8855063\"></div>\n",
       "<script type=\"text/javascript\">\n",
       "  (function(spec, embedOpt){\n",
       "    let outputDiv = document.currentScript.previousElementSibling;\n",
       "    if (outputDiv.id !== \"altair-viz-ac1da21e54e74678a76657b5e8855063\") {\n",
       "      outputDiv = document.getElementById(\"altair-viz-ac1da21e54e74678a76657b5e8855063\");\n",
       "    }\n",
       "    const paths = {\n",
       "      \"vega\": \"https://cdn.jsdelivr.net/npm//vega@5?noext\",\n",
       "      \"vega-lib\": \"https://cdn.jsdelivr.net/npm//vega-lib?noext\",\n",
       "      \"vega-lite\": \"https://cdn.jsdelivr.net/npm//vega-lite@4.8.1?noext\",\n",
       "      \"vega-embed\": \"https://cdn.jsdelivr.net/npm//vega-embed@6?noext\",\n",
       "    };\n",
       "\n",
       "    function loadScript(lib) {\n",
       "      return new Promise(function(resolve, reject) {\n",
       "        var s = document.createElement('script');\n",
       "        s.src = paths[lib];\n",
       "        s.async = true;\n",
       "        s.onload = () => resolve(paths[lib]);\n",
       "        s.onerror = () => reject(`Error loading script: ${paths[lib]}`);\n",
       "        document.getElementsByTagName(\"head\")[0].appendChild(s);\n",
       "      });\n",
       "    }\n",
       "\n",
       "    function showError(err) {\n",
       "      outputDiv.innerHTML = `<div class=\"error\" style=\"color:red;\">${err}</div>`;\n",
       "      throw err;\n",
       "    }\n",
       "\n",
       "    function displayChart(vegaEmbed) {\n",
       "      vegaEmbed(outputDiv, spec, embedOpt)\n",
       "        .catch(err => showError(`Javascript Error: ${err.message}<br>This usually means there's a typo in your chart specification. See the javascript console for the full traceback.`));\n",
       "    }\n",
       "\n",
       "    if(typeof define === \"function\" && define.amd) {\n",
       "      requirejs.config({paths});\n",
       "      require([\"vega-embed\"], displayChart, err => showError(`Error loading script: ${err.message}`));\n",
       "    } else if (typeof vegaEmbed === \"function\") {\n",
       "      displayChart(vegaEmbed);\n",
       "    } else {\n",
       "      loadScript(\"vega\")\n",
       "        .then(() => loadScript(\"vega-lite\"))\n",
       "        .then(() => loadScript(\"vega-embed\"))\n",
       "        .catch(showError)\n",
       "        .then(() => displayChart(vegaEmbed));\n",
       "    }\n",
       "  })({\"config\": {\"view\": {\"continuousWidth\": 400, \"continuousHeight\": 300}}, \"hconcat\": [{\"data\": {\"name\": \"data-d4d99c9ef1daddc9e50271dd27d12054\"}, \"mark\": \"line\", \"encoding\": {\"x\": {\"type\": \"quantitative\", \"field\": \"x\", \"title\": \"Number of clusters\"}, \"y\": {\"type\": \"quantitative\", \"field\": \"y\", \"title\": \"Silhouette coefficients\"}}}, {\"data\": {\"name\": \"data-7c5c2c6184bd14a3a1318e92aa2f363d\"}, \"mark\": \"line\", \"encoding\": {\"x\": {\"type\": \"quantitative\", \"field\": \"x\", \"title\": \"Number of clusters\"}, \"y\": {\"type\": \"quantitative\", \"field\": \"y\", \"title\": \"SSE\"}}}], \"$schema\": \"https://vega.github.io/schema/vega-lite/v4.8.1.json\", \"datasets\": {\"data-d4d99c9ef1daddc9e50271dd27d12054\": [{\"y\": 0.2040875897986279, \"x\": 2}, {\"y\": 0.24472340545858115, \"x\": 3}, {\"y\": 0.3228956651130875, \"x\": 4}, {\"y\": 0.3747794923947065, \"x\": 5}, {\"y\": 0.447073665139646, \"x\": 6}, {\"y\": 0.4808994764984768, \"x\": 7}, {\"y\": 0.49809610111994734, \"x\": 8}, {\"y\": 0.4784383471750964, \"x\": 9}, {\"y\": 0.4718231719970103, \"x\": 10}], \"data-7c5c2c6184bd14a3a1318e92aa2f363d\": [{\"y\": 1552.0000000000007, \"x\": 1}, {\"y\": 1297.1297044841363, \"x\": 2}, {\"y\": 1082.329849776996, \"x\": 3}, {\"y\": 857.9237096474063, \"x\": 4}, {\"y\": 713.1450567200866, \"x\": 5}, {\"y\": 512.6155170579689, \"x\": 6}, {\"y\": 390.77118432849426, \"x\": 7}, {\"y\": 293.703917021356, \"x\": 8}, {\"y\": 265.2768186861505, \"x\": 9}, {\"y\": 241.11592607908747, \"x\": 10}]}}, {\"mode\": \"vega-lite\"});\n",
       "</script>"
      ],
      "text/plain": [
       "alt.HConcatChart(...)"
      ]
     },
     "execution_count": 172,
     "metadata": {},
     "output_type": "execute_result"
    }
   ],
   "source": [
    "chart_silhouette | chart_elbow"
   ]
  },
  {
   "cell_type": "code",
   "execution_count": 173,
   "id": "d0c88128-ff05-48eb-8517-23535ca222ca",
   "metadata": {},
   "outputs": [],
   "source": [
    "k_means_run = k_means(n_clusters=6)"
   ]
  },
  {
   "cell_type": "code",
   "execution_count": 174,
   "id": "b813bf7d-a948-410c-842e-60f988ec90f4",
   "metadata": {},
   "outputs": [],
   "source": [
    "df_labels['clusters'] = k_means_run.labels_"
   ]
  },
  {
   "cell_type": "code",
   "execution_count": 175,
   "id": "73344f6d-2563-401d-9ad0-c410a74b65b6",
   "metadata": {},
   "outputs": [],
   "source": [
    "dfs_kmeans = [pd.DataFrame(y) for x, y in df_labels.groupby('clusters', as_index=False)]"
   ]
  },
  {
   "cell_type": "code",
   "execution_count": 176,
   "id": "0af2588e-8bdf-4f94-bed2-5a48b9d2197b",
   "metadata": {},
   "outputs": [],
   "source": [
    "for i in range(0, len(dfs_kmeans)):\n",
    "    num_items = len(dfs_kmeans[i])\n",
    "    dfs_kmeans[i]['x'] = np.linspace(0.1, 3.0, num=num_items)\n",
    "    dfs_kmeans[i]['y'] = np.linspace(0.1, 3.0, num=num_items)"
   ]
  },
  {
   "cell_type": "code",
   "execution_count": 177,
   "id": "8ce6d0f8-03f5-4169-aebf-374a076bb074",
   "metadata": {},
   "outputs": [],
   "source": [
    "def grid_photos(nx=6, ny=6, cluster=0, title='title'):\n",
    "    \n",
    "    nx, ny = (nx, ny)\n",
    "    x = np.linspace(0, 1, nx)\n",
    "    y = np.linspace(0, 1, ny)\n",
    "    xv, yv = np.meshgrid(x, y)\n",
    "    \n",
    "    dfs_kmeans[cluster]['x'] = xv.ravel()[0:len(dfs_kmeans[cluster])]\n",
    "    dfs_kmeans[cluster]['y'] = yv.ravel()[0:len(dfs_kmeans[cluster])]\n",
    "    \n",
    "    chart = alt.Chart(dfs_kmeans[cluster], title=title).mark_image(\n",
    "        width=50,\n",
    "        height=50\n",
    "    ).encode(\n",
    "        alt.X('x', axis=None),\n",
    "        alt.Y('y', axis=None),\n",
    "        url='url'\n",
    "    )\n",
    "    \n",
    "    text = chart.mark_text(\n",
    "    align='center',\n",
    "    baseline='bottom',\n",
    "    yOffset = -25\n",
    "    #dx=3,  # Nudges text to right so it doesn't appear on top of the bar\n",
    "    ).encode(\n",
    "        alt.Text('label')\n",
    "    )\n",
    "    \n",
    "    return (chart + text)"
   ]
  },
  {
   "cell_type": "code",
   "execution_count": 178,
   "id": "a858a0b0-0961-49ec-93f3-7bd1b45bee12",
   "metadata": {},
   "outputs": [],
   "source": [
    "cluster_0 = grid_photos(nx=8, ny=8, cluster=0, title='Cluster 1')\n",
    "cluster_1 = grid_photos(nx=8, ny=8, cluster=1, title='Cluster 2')\n",
    "cluster_2 = grid_photos(nx=9, ny=9, cluster=2, title='Cluster 3')\n",
    "cluster_3 = grid_photos(nx=8, ny=8, cluster=3, title='Cluster 4')\n",
    "cluster_4 = grid_photos(nx=8, ny=8, cluster=4, title='Cluster 5')\n",
    "cluster_5 = grid_photos(nx=8, ny=8, cluster=5, title='Cluster 6')"
   ]
  },
  {
   "cell_type": "code",
   "execution_count": 179,
   "id": "54344d44-1b06-4026-9003-de9dedef9e56",
   "metadata": {},
   "outputs": [
    {
     "data": {
      "text/html": [
       "\n",
       "<div id=\"altair-viz-b162c0c62ef6456e9f27b7538a6487b7\"></div>\n",
       "<script type=\"text/javascript\">\n",
       "  (function(spec, embedOpt){\n",
       "    let outputDiv = document.currentScript.previousElementSibling;\n",
       "    if (outputDiv.id !== \"altair-viz-b162c0c62ef6456e9f27b7538a6487b7\") {\n",
       "      outputDiv = document.getElementById(\"altair-viz-b162c0c62ef6456e9f27b7538a6487b7\");\n",
       "    }\n",
       "    const paths = {\n",
       "      \"vega\": \"https://cdn.jsdelivr.net/npm//vega@5?noext\",\n",
       "      \"vega-lib\": \"https://cdn.jsdelivr.net/npm//vega-lib?noext\",\n",
       "      \"vega-lite\": \"https://cdn.jsdelivr.net/npm//vega-lite@4.8.1?noext\",\n",
       "      \"vega-embed\": \"https://cdn.jsdelivr.net/npm//vega-embed@6?noext\",\n",
       "    };\n",
       "\n",
       "    function loadScript(lib) {\n",
       "      return new Promise(function(resolve, reject) {\n",
       "        var s = document.createElement('script');\n",
       "        s.src = paths[lib];\n",
       "        s.async = true;\n",
       "        s.onload = () => resolve(paths[lib]);\n",
       "        s.onerror = () => reject(`Error loading script: ${paths[lib]}`);\n",
       "        document.getElementsByTagName(\"head\")[0].appendChild(s);\n",
       "      });\n",
       "    }\n",
       "\n",
       "    function showError(err) {\n",
       "      outputDiv.innerHTML = `<div class=\"error\" style=\"color:red;\">${err}</div>`;\n",
       "      throw err;\n",
       "    }\n",
       "\n",
       "    function displayChart(vegaEmbed) {\n",
       "      vegaEmbed(outputDiv, spec, embedOpt)\n",
       "        .catch(err => showError(`Javascript Error: ${err.message}<br>This usually means there's a typo in your chart specification. See the javascript console for the full traceback.`));\n",
       "    }\n",
       "\n",
       "    if(typeof define === \"function\" && define.amd) {\n",
       "      requirejs.config({paths});\n",
       "      require([\"vega-embed\"], displayChart, err => showError(`Error loading script: ${err.message}`));\n",
       "    } else if (typeof vegaEmbed === \"function\") {\n",
       "      displayChart(vegaEmbed);\n",
       "    } else {\n",
       "      loadScript(\"vega\")\n",
       "        .then(() => loadScript(\"vega-lite\"))\n",
       "        .then(() => loadScript(\"vega-embed\"))\n",
       "        .catch(showError)\n",
       "        .then(() => displayChart(vegaEmbed));\n",
       "    }\n",
       "  })({\"config\": {\"view\": {\"continuousWidth\": 400, \"continuousHeight\": 300, \"strokeOpacity\": 0}, \"axis\": {\"grid\": false}, \"concat\": {\"spacing\": 50}}, \"vconcat\": [{\"hconcat\": [{\"layer\": [{\"mark\": {\"type\": \"image\", \"height\": 50, \"width\": 50}, \"encoding\": {\"url\": {\"type\": \"nominal\", \"field\": \"url\"}, \"x\": {\"type\": \"quantitative\", \"axis\": null, \"field\": \"x\"}, \"y\": {\"type\": \"quantitative\", \"axis\": null, \"field\": \"y\"}}, \"title\": \"Cluster 1\"}, {\"mark\": {\"type\": \"text\", \"align\": \"center\", \"baseline\": \"bottom\", \"yOffset\": -25}, \"encoding\": {\"text\": {\"type\": \"nominal\", \"field\": \"label\"}, \"url\": {\"type\": \"nominal\", \"field\": \"url\"}, \"x\": {\"type\": \"quantitative\", \"axis\": null, \"field\": \"x\"}, \"y\": {\"type\": \"quantitative\", \"axis\": null, \"field\": \"y\"}}, \"title\": \"Cluster 1\"}], \"data\": {\"name\": \"data-f284f38076b6f00e86c9ada4865d5ad0\"}}, {\"layer\": [{\"mark\": {\"type\": \"image\", \"height\": 50, \"width\": 50}, \"encoding\": {\"url\": {\"type\": \"nominal\", \"field\": \"url\"}, \"x\": {\"type\": \"quantitative\", \"axis\": null, \"field\": \"x\"}, \"y\": {\"type\": \"quantitative\", \"axis\": null, \"field\": \"y\"}}, \"title\": \"Cluster 2\"}, {\"mark\": {\"type\": \"text\", \"align\": \"center\", \"baseline\": \"bottom\", \"yOffset\": -25}, \"encoding\": {\"text\": {\"type\": \"nominal\", \"field\": \"label\"}, \"url\": {\"type\": \"nominal\", \"field\": \"url\"}, \"x\": {\"type\": \"quantitative\", \"axis\": null, \"field\": \"x\"}, \"y\": {\"type\": \"quantitative\", \"axis\": null, \"field\": \"y\"}}, \"title\": \"Cluster 2\"}], \"data\": {\"name\": \"data-987f665edea4377b0d6530b03e1d31f8\"}}]}, {\"hconcat\": [{\"layer\": [{\"mark\": {\"type\": \"image\", \"height\": 50, \"width\": 50}, \"encoding\": {\"url\": {\"type\": \"nominal\", \"field\": \"url\"}, \"x\": {\"type\": \"quantitative\", \"axis\": null, \"field\": \"x\"}, \"y\": {\"type\": \"quantitative\", \"axis\": null, \"field\": \"y\"}}, \"title\": \"Cluster 3\"}, {\"mark\": {\"type\": \"text\", \"align\": \"center\", \"baseline\": \"bottom\", \"yOffset\": -25}, \"encoding\": {\"text\": {\"type\": \"nominal\", \"field\": \"label\"}, \"url\": {\"type\": \"nominal\", \"field\": \"url\"}, \"x\": {\"type\": \"quantitative\", \"axis\": null, \"field\": \"x\"}, \"y\": {\"type\": \"quantitative\", \"axis\": null, \"field\": \"y\"}}, \"title\": \"Cluster 3\"}], \"data\": {\"name\": \"data-9b88090fbaab3213111816b9c6a3b1bf\"}}, {\"layer\": [{\"mark\": {\"type\": \"image\", \"height\": 50, \"width\": 50}, \"encoding\": {\"url\": {\"type\": \"nominal\", \"field\": \"url\"}, \"x\": {\"type\": \"quantitative\", \"axis\": null, \"field\": \"x\"}, \"y\": {\"type\": \"quantitative\", \"axis\": null, \"field\": \"y\"}}, \"title\": \"Cluster 4\"}, {\"mark\": {\"type\": \"text\", \"align\": \"center\", \"baseline\": \"bottom\", \"yOffset\": -25}, \"encoding\": {\"text\": {\"type\": \"nominal\", \"field\": \"label\"}, \"url\": {\"type\": \"nominal\", \"field\": \"url\"}, \"x\": {\"type\": \"quantitative\", \"axis\": null, \"field\": \"x\"}, \"y\": {\"type\": \"quantitative\", \"axis\": null, \"field\": \"y\"}}, \"title\": \"Cluster 4\"}], \"data\": {\"name\": \"data-8795a2af9cec3dbe25a9aa266cf9a554\"}}]}, {\"hconcat\": [{\"layer\": [{\"mark\": {\"type\": \"image\", \"height\": 50, \"width\": 50}, \"encoding\": {\"url\": {\"type\": \"nominal\", \"field\": \"url\"}, \"x\": {\"type\": \"quantitative\", \"axis\": null, \"field\": \"x\"}, \"y\": {\"type\": \"quantitative\", \"axis\": null, \"field\": \"y\"}}, \"title\": \"Cluster 5\"}, {\"mark\": {\"type\": \"text\", \"align\": \"center\", \"baseline\": \"bottom\", \"yOffset\": -25}, \"encoding\": {\"text\": {\"type\": \"nominal\", \"field\": \"label\"}, \"url\": {\"type\": \"nominal\", \"field\": \"url\"}, \"x\": {\"type\": \"quantitative\", \"axis\": null, \"field\": \"x\"}, \"y\": {\"type\": \"quantitative\", \"axis\": null, \"field\": \"y\"}}, \"title\": \"Cluster 5\"}], \"data\": {\"name\": \"data-94e05a0e42f60f9b4baa583b5aeecbb8\"}}, {\"layer\": [{\"mark\": {\"type\": \"image\", \"height\": 50, \"width\": 50}, \"encoding\": {\"url\": {\"type\": \"nominal\", \"field\": \"url\"}, \"x\": {\"type\": \"quantitative\", \"axis\": null, \"field\": \"x\"}, \"y\": {\"type\": \"quantitative\", \"axis\": null, \"field\": \"y\"}}, \"title\": \"Cluster 6\"}, {\"mark\": {\"type\": \"text\", \"align\": \"center\", \"baseline\": \"bottom\", \"yOffset\": -25}, \"encoding\": {\"text\": {\"type\": \"nominal\", \"field\": \"label\"}, \"url\": {\"type\": \"nominal\", \"field\": \"url\"}, \"x\": {\"type\": \"quantitative\", \"axis\": null, \"field\": \"x\"}, \"y\": {\"type\": \"quantitative\", \"axis\": null, \"field\": \"y\"}}, \"title\": \"Cluster 6\"}], \"data\": {\"name\": \"data-1dd44cef0aa467005f525ce6ed18fd2e\"}}]}], \"$schema\": \"https://vega.github.io/schema/vega-lite/v4.8.1.json\", \"datasets\": {\"data-f284f38076b6f00e86c9ada4865d5ad0\": [{\"ethnicity\": \"white\", \"sex\": \"female\", \"age\": \"child\", \"label\": \"disgust\", \"url\": \"https://uwmadison.co1.qualtrics.com/ControlPanel/Graphic.php?IM=IM_51ruTTJP1FaUeX4\", \"clusters\": 0, \"x\": 0.0, \"y\": 0.0}, {\"ethnicity\": \"bipoc\", \"sex\": \"female\", \"age\": \"child\", \"label\": \"happiness\", \"url\": \"https://uwmadison.co1.qualtrics.com/ControlPanel/Graphic.php?IM=IM_1LJr1XMUNEEqjEq\", \"clusters\": 0, \"x\": 0.14285714285714285, \"y\": 0.0}, {\"ethnicity\": \"bipoc\", \"sex\": \"male\", \"age\": \"adult\", \"label\": \"happiness\", \"url\": \"https://uwmadison.co1.qualtrics.com/ControlPanel/Graphic.php?IM=IM_aVKZzBmzWSoXCXY\", \"clusters\": 0, \"x\": 0.2857142857142857, \"y\": 0.0}, {\"ethnicity\": \"bipoc\", \"sex\": \"male\", \"age\": \"child\", \"label\": \"happiness\", \"url\": \"https://uwmadison.co1.qualtrics.com/ControlPanel/Graphic.php?IM=IM_da53a1yGEedpOJg\", \"clusters\": 0, \"x\": 0.42857142857142855, \"y\": 0.0}, {\"ethnicity\": \"white\", \"sex\": \"female\", \"age\": \"adult\", \"label\": \"happiness\", \"url\": \"https://uwmadison.co1.qualtrics.com/ControlPanel/Graphic.php?IM=IM_6hVt2pmEYV6YLwG\", \"clusters\": 0, \"x\": 0.5714285714285714, \"y\": 0.0}, {\"ethnicity\": \"white\", \"sex\": \"female\", \"age\": \"child\", \"label\": \"happiness\", \"url\": \"https://uwmadison.co1.qualtrics.com/ControlPanel/Graphic.php?IM=IM_9shhhARAg1o8QcK\", \"clusters\": 0, \"x\": 0.7142857142857142, \"y\": 0.0}, {\"ethnicity\": \"white\", \"sex\": \"male\", \"age\": \"adult\", \"label\": \"happiness\", \"url\": \"https://uwmadison.co1.qualtrics.com/ControlPanel/Graphic.php?IM=IM_3CWGONIxkNEfLbU\", \"clusters\": 0, \"x\": 0.8571428571428571, \"y\": 0.0}, {\"ethnicity\": \"white\", \"sex\": \"male\", \"age\": \"child\", \"label\": \"happiness\", \"url\": \"https://uwmadison.co1.qualtrics.com/ControlPanel/Graphic.php?IM=IM_0lBpULniZBM24Pc\", \"clusters\": 0, \"x\": 1.0, \"y\": 0.0}, {\"ethnicity\": \"bipoc\", \"sex\": \"male\", \"age\": \"child\", \"label\": \"surprise\", \"url\": \"https://uwmadison.co1.qualtrics.com/ControlPanel/Graphic.php?IM=IM_39MTmWdmGCliDga\", \"clusters\": 0, \"x\": 0.0, \"y\": 0.14285714285714285}, {\"ethnicity\": \"bipoc\", \"sex\": \"female\", \"age\": \"adult\", \"label\": \"uncertain\", \"url\": \"https://uwmadison.co1.qualtrics.com/ControlPanel/Graphic.php?IM=IM_6x0zlBArY56cHem\", \"clusters\": 0, \"x\": 0.14285714285714285, \"y\": 0.14285714285714285}, {\"ethnicity\": \"bipoc\", \"sex\": \"female\", \"age\": \"adult\", \"label\": \"happiness\", \"url\": \"https://uwmadison.co1.qualtrics.com/ControlPanel/Graphic.php?IM=IM_0xPTvIpG1sPU3QO\", \"clusters\": 0, \"x\": 0.2857142857142857, \"y\": 0.14285714285714285}, {\"ethnicity\": \"bipoc\", \"sex\": \"female\", \"age\": \"child\", \"label\": \"happiness\", \"url\": \"https://uwmadison.co1.qualtrics.com/ControlPanel/Graphic.php?IM=IM_cGTIBhdTVZFLwdE\", \"clusters\": 0, \"x\": 0.42857142857142855, \"y\": 0.14285714285714285}, {\"ethnicity\": \"bipoc\", \"sex\": \"male\", \"age\": \"adult\", \"label\": \"happiness\", \"url\": \"https://uwmadison.co1.qualtrics.com/ControlPanel/Graphic.php?IM=IM_bEDlxRqiOdpCl1Q\", \"clusters\": 0, \"x\": 0.5714285714285714, \"y\": 0.14285714285714285}, {\"ethnicity\": \"bipoc\", \"sex\": \"male\", \"age\": \"child\", \"label\": \"happiness\", \"url\": \"https://uwmadison.co1.qualtrics.com/ControlPanel/Graphic.php?IM=IM_0UkPGjTodmzqM9U\", \"clusters\": 0, \"x\": 0.7142857142857142, \"y\": 0.14285714285714285}, {\"ethnicity\": \"white\", \"sex\": \"female\", \"age\": \"adult\", \"label\": \"happiness\", \"url\": \"https://uwmadison.co1.qualtrics.com/ControlPanel/Graphic.php?IM=IM_3sodPsRm6g6as06\", \"clusters\": 0, \"x\": 0.8571428571428571, \"y\": 0.14285714285714285}, {\"ethnicity\": \"white\", \"sex\": \"female\", \"age\": \"child\", \"label\": \"happiness\", \"url\": \"https://uwmadison.co1.qualtrics.com/ControlPanel/Graphic.php?IM=IM_aWrmbq9vyHFZmTk\", \"clusters\": 0, \"x\": 1.0, \"y\": 0.14285714285714285}, {\"ethnicity\": \"white\", \"sex\": \"male\", \"age\": \"adult\", \"label\": \"happiness\", \"url\": \"https://uwmadison.co1.qualtrics.com/ControlPanel/Graphic.php?IM=IM_ewCuSR8n6UYi2MK\", \"clusters\": 0, \"x\": 0.0, \"y\": 0.2857142857142857}, {\"ethnicity\": \"white\", \"sex\": \"male\", \"age\": \"child\", \"label\": \"happiness\", \"url\": \"https://uwmadison.co1.qualtrics.com/ControlPanel/Graphic.php?IM=IM_2hrynYgwGLMuDUG\", \"clusters\": 0, \"x\": 0.14285714285714285, \"y\": 0.2857142857142857}, {\"ethnicity\": \"bipoc\", \"sex\": \"male\", \"age\": \"adult\", \"label\": \"uncertain\", \"url\": \"https://uwmadison.co1.qualtrics.com/ControlPanel/Graphic.php?IM=IM_afrF8KFiXbEcR2S\", \"clusters\": 0, \"x\": 0.2857142857142857, \"y\": 0.2857142857142857}, {\"ethnicity\": \"white\", \"sex\": \"male\", \"age\": \"child\", \"label\": \"uncertain\", \"url\": \"https://uwmadison.co1.qualtrics.com/ControlPanel/Graphic.php?IM=IM_eMb3pnSJgKC0VFk\", \"clusters\": 0, \"x\": 0.42857142857142855, \"y\": 0.2857142857142857}, {\"ethnicity\": \"bipoc\", \"sex\": \"female\", \"age\": \"adult\", \"label\": \"happiness\", \"url\": \"https://uwmadison.co1.qualtrics.com/ControlPanel/Graphic.php?IM=IM_0GtSGAki0COJYO2\", \"clusters\": 0, \"x\": 0.5714285714285714, \"y\": 0.2857142857142857}, {\"ethnicity\": \"bipoc\", \"sex\": \"female\", \"age\": \"child\", \"label\": \"happiness\", \"url\": \"https://uwmadison.co1.qualtrics.com/ControlPanel/Graphic.php?IM=IM_e2tmtlm0JLZje0S\", \"clusters\": 0, \"x\": 0.7142857142857142, \"y\": 0.2857142857142857}, {\"ethnicity\": \"bipoc\", \"sex\": \"male\", \"age\": \"adult\", \"label\": \"happiness\", \"url\": \"https://uwmadison.co1.qualtrics.com/ControlPanel/Graphic.php?IM=IM_agxa9UIrTk07jxQ\", \"clusters\": 0, \"x\": 0.8571428571428571, \"y\": 0.2857142857142857}, {\"ethnicity\": \"bipoc\", \"sex\": \"male\", \"age\": \"child\", \"label\": \"happiness\", \"url\": \"https://uwmadison.co1.qualtrics.com/ControlPanel/Graphic.php?IM=IM_d060VdjZY82W38W\", \"clusters\": 0, \"x\": 1.0, \"y\": 0.2857142857142857}, {\"ethnicity\": \"white\", \"sex\": \"female\", \"age\": \"adult\", \"label\": \"happiness\", \"url\": \"https://uwmadison.co1.qualtrics.com/ControlPanel/Graphic.php?IM=IM_57Gr1XAHK9uhWES\", \"clusters\": 0, \"x\": 0.0, \"y\": 0.42857142857142855}, {\"ethnicity\": \"white\", \"sex\": \"female\", \"age\": \"child\", \"label\": \"happiness\", \"url\": \"https://uwmadison.co1.qualtrics.com/ControlPanel/Graphic.php?IM=IM_d5NMiWqa2jpUDLo\", \"clusters\": 0, \"x\": 0.14285714285714285, \"y\": 0.42857142857142855}, {\"ethnicity\": \"white\", \"sex\": \"male\", \"age\": \"adult\", \"label\": \"happiness\", \"url\": \"https://uwmadison.co1.qualtrics.com/ControlPanel/Graphic.php?IM=IM_3NR7AkPxBUkdOQe\", \"clusters\": 0, \"x\": 0.2857142857142857, \"y\": 0.42857142857142855}, {\"ethnicity\": \"white\", \"sex\": \"male\", \"age\": \"child\", \"label\": \"happiness\", \"url\": \"https://uwmadison.co1.qualtrics.com/ControlPanel/Graphic.php?IM=IM_eWnGys8SLE5J3Cu\", \"clusters\": 0, \"x\": 0.42857142857142855, \"y\": 0.42857142857142855}, {\"ethnicity\": \"bipoc\", \"sex\": \"female\", \"age\": \"child\", \"label\": \"surprise\", \"url\": \"https://uwmadison.co1.qualtrics.com/ControlPanel/Graphic.php?IM=IM_9Gq0h87bY58MZSu\", \"clusters\": 0, \"x\": 0.5714285714285714, \"y\": 0.42857142857142855}, {\"ethnicity\": \"bipoc\", \"sex\": \"female\", \"age\": \"adult\", \"label\": \"uncertain\", \"url\": \"https://uwmadison.co1.qualtrics.com/ControlPanel/Graphic.php?IM=IM_bHLXUfPyLDklutg\", \"clusters\": 0, \"x\": 0.7142857142857142, \"y\": 0.42857142857142855}, {\"ethnicity\": \"bipoc\", \"sex\": \"female\", \"age\": \"child\", \"label\": \"uncertain\", \"url\": \"https://uwmadison.co1.qualtrics.com/ControlPanel/Graphic.php?IM=IM_0MzywJJUHEiadCe\", \"clusters\": 0, \"x\": 0.8571428571428571, \"y\": 0.42857142857142855}], \"data-987f665edea4377b0d6530b03e1d31f8\": [{\"ethnicity\": \"bipoc\", \"sex\": \"female\", \"age\": \"child\", \"label\": \"anger\", \"url\": \"https://uwmadison.co1.qualtrics.com/ControlPanel/Graphic.php?IM=IM_37SAhyROGBWVpVs\", \"clusters\": 1, \"x\": 0.0, \"y\": 0.0}, {\"ethnicity\": \"bipoc\", \"sex\": \"male\", \"age\": \"adult\", \"label\": \"anger\", \"url\": \"https://uwmadison.co1.qualtrics.com/ControlPanel/Graphic.php?IM=IM_3QLhY3LefdXzwfI\", \"clusters\": 1, \"x\": 0.14285714285714285, \"y\": 0.0}, {\"ethnicity\": \"white\", \"sex\": \"female\", \"age\": \"adult\", \"label\": \"anger\", \"url\": \"https://uwmadison.co1.qualtrics.com/ControlPanel/Graphic.php?IM=IM_1Amo6fqrutcZYZo\", \"clusters\": 1, \"x\": 0.2857142857142857, \"y\": 0.0}, {\"ethnicity\": \"white\", \"sex\": \"female\", \"age\": \"child\", \"label\": \"anger\", \"url\": \"https://uwmadison.co1.qualtrics.com/ControlPanel/Graphic.php?IM=IM_1XqAx3FzoRDFZt4\", \"clusters\": 1, \"x\": 0.42857142857142855, \"y\": 0.0}, {\"ethnicity\": \"white\", \"sex\": \"male\", \"age\": \"child\", \"label\": \"anger\", \"url\": \"https://uwmadison.co1.qualtrics.com/ControlPanel/Graphic.php?IM=IM_9Gfr3sYkHq3hHG6\", \"clusters\": 1, \"x\": 0.5714285714285714, \"y\": 0.0}, {\"ethnicity\": \"bipoc\", \"sex\": \"female\", \"age\": \"adult\", \"label\": \"anger\", \"url\": \"https://uwmadison.co1.qualtrics.com/ControlPanel/Graphic.php?IM=IM_6J5KVNyTENDNC4K\", \"clusters\": 1, \"x\": 0.7142857142857142, \"y\": 0.0}, {\"ethnicity\": \"bipoc\", \"sex\": \"female\", \"age\": \"child\", \"label\": \"anger\", \"url\": \"https://uwmadison.co1.qualtrics.com/ControlPanel/Graphic.php?IM=IM_ehdQVRQn8kI6rNI\", \"clusters\": 1, \"x\": 0.8571428571428571, \"y\": 0.0}, {\"ethnicity\": \"bipoc\", \"sex\": \"male\", \"age\": \"child\", \"label\": \"anger\", \"url\": \"https://uwmadison.co1.qualtrics.com/ControlPanel/Graphic.php?IM=IM_82jdttMjk3552E6\", \"clusters\": 1, \"x\": 1.0, \"y\": 0.0}, {\"ethnicity\": \"white\", \"sex\": \"female\", \"age\": \"adult\", \"label\": \"anger\", \"url\": \"https://uwmadison.co1.qualtrics.com/ControlPanel/Graphic.php?IM=IM_b1KYrTe9d0HebfU\", \"clusters\": 1, \"x\": 0.0, \"y\": 0.14285714285714285}, {\"ethnicity\": \"white\", \"sex\": \"male\", \"age\": \"adult\", \"label\": \"anger\", \"url\": \"https://uwmadison.co1.qualtrics.com/ControlPanel/Graphic.php?IM=IM_eb7s42ZIPiC9Z66\", \"clusters\": 1, \"x\": 0.14285714285714285, \"y\": 0.14285714285714285}, {\"ethnicity\": \"white\", \"sex\": \"male\", \"age\": \"child\", \"label\": \"anger\", \"url\": \"https://uwmadison.co1.qualtrics.com/ControlPanel/Graphic.php?IM=IM_dhTzFnZMWrTfBGK\", \"clusters\": 1, \"x\": 0.2857142857142857, \"y\": 0.14285714285714285}, {\"ethnicity\": \"bipoc\", \"sex\": \"female\", \"age\": \"adult\", \"label\": \"anger\", \"url\": \"https://uwmadison.co1.qualtrics.com/ControlPanel/Graphic.php?IM=IM_9WTZdrQmZK2OL54\", \"clusters\": 1, \"x\": 0.42857142857142855, \"y\": 0.14285714285714285}, {\"ethnicity\": \"bipoc\", \"sex\": \"female\", \"age\": \"child\", \"label\": \"anger\", \"url\": \"https://uwmadison.co1.qualtrics.com/ControlPanel/Graphic.php?IM=IM_824LzNsLYNku2OO\", \"clusters\": 1, \"x\": 0.5714285714285714, \"y\": 0.14285714285714285}, {\"ethnicity\": \"bipoc\", \"sex\": \"male\", \"age\": \"adult\", \"label\": \"anger\", \"url\": \"https://uwmadison.co1.qualtrics.com/ControlPanel/Graphic.php?IM=IM_bkMyZNBgUg8ZlNY\", \"clusters\": 1, \"x\": 0.7142857142857142, \"y\": 0.14285714285714285}, {\"ethnicity\": \"bipoc\", \"sex\": \"male\", \"age\": \"child\", \"label\": \"anger\", \"url\": \"https://uwmadison.co1.qualtrics.com/ControlPanel/Graphic.php?IM=IM_3rsoVFgV6TcS9fg\", \"clusters\": 1, \"x\": 0.8571428571428571, \"y\": 0.14285714285714285}, {\"ethnicity\": \"white\", \"sex\": \"female\", \"age\": \"adult\", \"label\": \"anger\", \"url\": \"https://uwmadison.co1.qualtrics.com/ControlPanel/Graphic.php?IM=IM_cPfESJKHoFDaWUe\", \"clusters\": 1, \"x\": 1.0, \"y\": 0.14285714285714285}, {\"ethnicity\": \"white\", \"sex\": \"female\", \"age\": \"child\", \"label\": \"anger\", \"url\": \"https://uwmadison.co1.qualtrics.com/ControlPanel/Graphic.php?IM=IM_bHfE8z5stIRm0zI\", \"clusters\": 1, \"x\": 0.0, \"y\": 0.2857142857142857}, {\"ethnicity\": \"white\", \"sex\": \"male\", \"age\": \"child\", \"label\": \"anger\", \"url\": \"https://uwmadison.co1.qualtrics.com/ControlPanel/Graphic.php?IM=IM_5AcJkrT27k6XRmm\", \"clusters\": 1, \"x\": 0.14285714285714285, \"y\": 0.2857142857142857}], \"data-9b88090fbaab3213111816b9c6a3b1bf\": [{\"ethnicity\": \"bipoc\", \"sex\": \"female\", \"age\": \"adult\", \"label\": \"fear\", \"url\": \"https://uwmadison.co1.qualtrics.com/ControlPanel/Graphic.php?IM=IM_6qVleJUYoACmf6C\", \"clusters\": 2, \"x\": 0.0, \"y\": 0.0}, {\"ethnicity\": \"bipoc\", \"sex\": \"female\", \"age\": \"child\", \"label\": \"fear\", \"url\": \"https://uwmadison.co1.qualtrics.com/ControlPanel/Graphic.php?IM=IM_4HJDfrqWWlJ7wRU\", \"clusters\": 2, \"x\": 0.125, \"y\": 0.0}, {\"ethnicity\": \"bipoc\", \"sex\": \"male\", \"age\": \"adult\", \"label\": \"fear\", \"url\": \"https://uwmadison.co1.qualtrics.com/ControlPanel/Graphic.php?IM=IM_54KW05fRgzNmLfE\", \"clusters\": 2, \"x\": 0.25, \"y\": 0.0}, {\"ethnicity\": \"bipoc\", \"sex\": \"male\", \"age\": \"child\", \"label\": \"fear\", \"url\": \"https://uwmadison.co1.qualtrics.com/ControlPanel/Graphic.php?IM=IM_aY2MoY6bfggUc9E\", \"clusters\": 2, \"x\": 0.375, \"y\": 0.0}, {\"ethnicity\": \"white\", \"sex\": \"female\", \"age\": \"adult\", \"label\": \"fear\", \"url\": \"https://uwmadison.co1.qualtrics.com/ControlPanel/Graphic.php?IM=IM_1H2GqqCbhjjnp3g\", \"clusters\": 2, \"x\": 0.5, \"y\": 0.0}, {\"ethnicity\": \"white\", \"sex\": \"female\", \"age\": \"child\", \"label\": \"fear\", \"url\": \"https://uwmadison.co1.qualtrics.com/ControlPanel/Graphic.php?IM=IM_cXRPI85VJ3YAOdo\", \"clusters\": 2, \"x\": 0.625, \"y\": 0.0}, {\"ethnicity\": \"white\", \"sex\": \"male\", \"age\": \"adult\", \"label\": \"fear\", \"url\": \"https://uwmadison.co1.qualtrics.com/ControlPanel/Graphic.php?IM=IM_1z4YnfSQVdhj1Rk\", \"clusters\": 2, \"x\": 0.75, \"y\": 0.0}, {\"ethnicity\": \"white\", \"sex\": \"male\", \"age\": \"child\", \"label\": \"fear\", \"url\": \"https://uwmadison.co1.qualtrics.com/ControlPanel/Graphic.php?IM=IM_24ukMlBx2IZMMuO\", \"clusters\": 2, \"x\": 0.875, \"y\": 0.0}, {\"ethnicity\": \"bipoc\", \"sex\": \"female\", \"age\": \"adult\", \"label\": \"surprise\", \"url\": \"https://uwmadison.co1.qualtrics.com/ControlPanel/Graphic.php?IM=IM_8FZs4DGyzYKeKQ6\", \"clusters\": 2, \"x\": 1.0, \"y\": 0.0}, {\"ethnicity\": \"bipoc\", \"sex\": \"female\", \"age\": \"child\", \"label\": \"surprise\", \"url\": \"https://uwmadison.co1.qualtrics.com/ControlPanel/Graphic.php?IM=IM_06dsRWFrfc92PVI\", \"clusters\": 2, \"x\": 0.0, \"y\": 0.125}, {\"ethnicity\": \"bipoc\", \"sex\": \"male\", \"age\": \"adult\", \"label\": \"surprise\", \"url\": \"https://uwmadison.co1.qualtrics.com/ControlPanel/Graphic.php?IM=IM_0JI5joczfCXyM4K\", \"clusters\": 2, \"x\": 0.125, \"y\": 0.125}, {\"ethnicity\": \"white\", \"sex\": \"female\", \"age\": \"adult\", \"label\": \"surprise\", \"url\": \"https://uwmadison.co1.qualtrics.com/ControlPanel/Graphic.php?IM=IM_1X6032Sa3Q1kaKa\", \"clusters\": 2, \"x\": 0.25, \"y\": 0.125}, {\"ethnicity\": \"white\", \"sex\": \"female\", \"age\": \"child\", \"label\": \"surprise\", \"url\": \"https://uwmadison.co1.qualtrics.com/ControlPanel/Graphic.php?IM=IM_ah0qjH5kqDuQUhE\", \"clusters\": 2, \"x\": 0.375, \"y\": 0.125}, {\"ethnicity\": \"white\", \"sex\": \"male\", \"age\": \"adult\", \"label\": \"surprise\", \"url\": \"https://uwmadison.co1.qualtrics.com/ControlPanel/Graphic.php?IM=IM_9yvGSAqzpAmAcT4\", \"clusters\": 2, \"x\": 0.5, \"y\": 0.125}, {\"ethnicity\": \"white\", \"sex\": \"male\", \"age\": \"child\", \"label\": \"surprise\", \"url\": \"https://uwmadison.co1.qualtrics.com/ControlPanel/Graphic.php?IM=IM_dmTME6d2MAg1Tb8\", \"clusters\": 2, \"x\": 0.625, \"y\": 0.125}, {\"ethnicity\": null, \"sex\": null, \"age\": null, \"label\": \"attention\", \"url\": \"https://uwmadison.co1.qualtrics.com/ControlPanel/Graphic.php?IM=IM_bHKuEbEutfv7zuu\", \"clusters\": 2, \"x\": 0.75, \"y\": 0.125}, {\"ethnicity\": \"bipoc\", \"sex\": \"female\", \"age\": \"adult\", \"label\": \"fear\", \"url\": \"https://uwmadison.co1.qualtrics.com/ControlPanel/Graphic.php?IM=IM_9tzXvOnfZ589gH4\", \"clusters\": 2, \"x\": 0.875, \"y\": 0.125}, {\"ethnicity\": \"bipoc\", \"sex\": \"male\", \"age\": \"adult\", \"label\": \"fear\", \"url\": \"https://uwmadison.co1.qualtrics.com/ControlPanel/Graphic.php?IM=IM_e3vAzbw1fMlXZyu\", \"clusters\": 2, \"x\": 1.0, \"y\": 0.125}, {\"ethnicity\": \"bipoc\", \"sex\": \"male\", \"age\": \"child\", \"label\": \"fear\", \"url\": \"https://uwmadison.co1.qualtrics.com/ControlPanel/Graphic.php?IM=IM_byJrSqTzp3ZhZ9Y\", \"clusters\": 2, \"x\": 0.0, \"y\": 0.25}, {\"ethnicity\": \"white\", \"sex\": \"female\", \"age\": \"adult\", \"label\": \"fear\", \"url\": \"https://uwmadison.co1.qualtrics.com/ControlPanel/Graphic.php?IM=IM_5AWayt9Py1ZQmUe\", \"clusters\": 2, \"x\": 0.125, \"y\": 0.25}, {\"ethnicity\": \"white\", \"sex\": \"female\", \"age\": \"child\", \"label\": \"fear\", \"url\": \"https://uwmadison.co1.qualtrics.com/ControlPanel/Graphic.php?IM=IM_40G6uAIeohgXMGi\", \"clusters\": 2, \"x\": 0.25, \"y\": 0.25}, {\"ethnicity\": \"bipoc\", \"sex\": \"female\", \"age\": \"adult\", \"label\": \"surprise\", \"url\": \"https://uwmadison.co1.qualtrics.com/ControlPanel/Graphic.php?IM=IM_bjThcsBImEknzmu\", \"clusters\": 2, \"x\": 0.375, \"y\": 0.25}, {\"ethnicity\": \"bipoc\", \"sex\": \"male\", \"age\": \"adult\", \"label\": \"surprise\", \"url\": \"https://uwmadison.co1.qualtrics.com/ControlPanel/Graphic.php?IM=IM_aaEwobdBBZ4nn02\", \"clusters\": 2, \"x\": 0.5, \"y\": 0.25}, {\"ethnicity\": \"bipoc\", \"sex\": \"male\", \"age\": \"child\", \"label\": \"surprise\", \"url\": \"https://uwmadison.co1.qualtrics.com/ControlPanel/Graphic.php?IM=IM_cwfzFfgNMrzdDeu\", \"clusters\": 2, \"x\": 0.625, \"y\": 0.25}, {\"ethnicity\": \"white\", \"sex\": \"female\", \"age\": \"adult\", \"label\": \"surprise\", \"url\": \"https://uwmadison.co1.qualtrics.com/ControlPanel/Graphic.php?IM=IM_2s03op8efMn39Eq\", \"clusters\": 2, \"x\": 0.75, \"y\": 0.25}, {\"ethnicity\": \"white\", \"sex\": \"female\", \"age\": \"child\", \"label\": \"surprise\", \"url\": \"https://uwmadison.co1.qualtrics.com/ControlPanel/Graphic.php?IM=IM_3VrkAIN5BOdlfWm\", \"clusters\": 2, \"x\": 0.875, \"y\": 0.25}, {\"ethnicity\": \"white\", \"sex\": \"male\", \"age\": \"adult\", \"label\": \"surprise\", \"url\": \"https://uwmadison.co1.qualtrics.com/ControlPanel/Graphic.php?IM=IM_2004WZkMOAt3rVk\", \"clusters\": 2, \"x\": 1.0, \"y\": 0.25}, {\"ethnicity\": \"white\", \"sex\": \"male\", \"age\": \"child\", \"label\": \"surprise\", \"url\": \"https://uwmadison.co1.qualtrics.com/ControlPanel/Graphic.php?IM=IM_0Tk0DUpmSjqZP9Q\", \"clusters\": 2, \"x\": 0.0, \"y\": 0.375}, {\"ethnicity\": \"white\", \"sex\": \"female\", \"age\": \"adult\", \"label\": \"uncertain\", \"url\": \"https://uwmadison.co1.qualtrics.com/ControlPanel/Graphic.php?IM=IM_4Z2olPR08fo1FQO\", \"clusters\": 2, \"x\": 0.125, \"y\": 0.375}, {\"ethnicity\": null, \"sex\": null, \"age\": null, \"label\": \"attention\", \"url\": \"https://uwmadison.co1.qualtrics.com/ControlPanel/Graphic.php?IM=IM_e2rLzge28QpFG6y\", \"clusters\": 2, \"x\": 0.25, \"y\": 0.375}, {\"ethnicity\": \"white\", \"sex\": \"male\", \"age\": \"adult\", \"label\": \"disgust\", \"url\": \"https://uwmadison.co1.qualtrics.com/ControlPanel/Graphic.php?IM=IM_1zU5YqWz2acbM8K\", \"clusters\": 2, \"x\": 0.375, \"y\": 0.375}, {\"ethnicity\": \"bipoc\", \"sex\": \"female\", \"age\": \"adult\", \"label\": \"fear\", \"url\": \"https://uwmadison.co1.qualtrics.com/ControlPanel/Graphic.php?IM=IM_0MwMgspcIIF1ew6\", \"clusters\": 2, \"x\": 0.5, \"y\": 0.375}, {\"ethnicity\": \"bipoc\", \"sex\": \"female\", \"age\": \"child\", \"label\": \"fear\", \"url\": \"https://uwmadison.co1.qualtrics.com/ControlPanel/Graphic.php?IM=IM_bHrOB3j3PtW4R0i\", \"clusters\": 2, \"x\": 0.625, \"y\": 0.375}, {\"ethnicity\": \"white\", \"sex\": \"female\", \"age\": \"adult\", \"label\": \"fear\", \"url\": \"https://uwmadison.co1.qualtrics.com/ControlPanel/Graphic.php?IM=IM_e38mxw6nO1WY6Cq\", \"clusters\": 2, \"x\": 0.75, \"y\": 0.375}, {\"ethnicity\": \"white\", \"sex\": \"female\", \"age\": \"child\", \"label\": \"fear\", \"url\": \"https://uwmadison.co1.qualtrics.com/ControlPanel/Graphic.php?IM=IM_cBJFYlMueaaR03k\", \"clusters\": 2, \"x\": 0.875, \"y\": 0.375}, {\"ethnicity\": \"white\", \"sex\": \"male\", \"age\": \"adult\", \"label\": \"fear\", \"url\": \"https://uwmadison.co1.qualtrics.com/ControlPanel/Graphic.php?IM=IM_4Z1hhf1G3PvXBci\", \"clusters\": 2, \"x\": 1.0, \"y\": 0.375}, {\"ethnicity\": \"white\", \"sex\": \"male\", \"age\": \"child\", \"label\": \"fear\", \"url\": \"https://uwmadison.co1.qualtrics.com/ControlPanel/Graphic.php?IM=IM_9mNPsRAgBbHenPM\", \"clusters\": 2, \"x\": 0.0, \"y\": 0.5}, {\"ethnicity\": \"bipoc\", \"sex\": \"female\", \"age\": \"adult\", \"label\": \"surprise\", \"url\": \"https://uwmadison.co1.qualtrics.com/ControlPanel/Graphic.php?IM=IM_aXfd0rmn8jfxoQ6\", \"clusters\": 2, \"x\": 0.125, \"y\": 0.5}, {\"ethnicity\": \"bipoc\", \"sex\": \"male\", \"age\": \"adult\", \"label\": \"surprise\", \"url\": \"https://uwmadison.co1.qualtrics.com/ControlPanel/Graphic.php?IM=IM_268vZXyUpVDK6MK\", \"clusters\": 2, \"x\": 0.25, \"y\": 0.5}, {\"ethnicity\": \"bipoc\", \"sex\": \"male\", \"age\": \"child\", \"label\": \"surprise\", \"url\": \"https://uwmadison.co1.qualtrics.com/ControlPanel/Graphic.php?IM=IM_0V7AZ7Xi8jOjmXY\", \"clusters\": 2, \"x\": 0.375, \"y\": 0.5}, {\"ethnicity\": \"white\", \"sex\": \"female\", \"age\": \"adult\", \"label\": \"surprise\", \"url\": \"https://uwmadison.co1.qualtrics.com/ControlPanel/Graphic.php?IM=IM_eeAoCMWS4pQvliK\", \"clusters\": 2, \"x\": 0.5, \"y\": 0.5}, {\"ethnicity\": \"white\", \"sex\": \"female\", \"age\": \"child\", \"label\": \"surprise\", \"url\": \"https://uwmadison.co1.qualtrics.com/ControlPanel/Graphic.php?IM=IM_eG4lj9qMfU2nUFg\", \"clusters\": 2, \"x\": 0.625, \"y\": 0.5}, {\"ethnicity\": \"white\", \"sex\": \"male\", \"age\": \"adult\", \"label\": \"surprise\", \"url\": \"https://uwmadison.co1.qualtrics.com/ControlPanel/Graphic.php?IM=IM_eIZrStbqVC3oHTo\", \"clusters\": 2, \"x\": 0.75, \"y\": 0.5}, {\"ethnicity\": \"white\", \"sex\": \"male\", \"age\": \"child\", \"label\": \"surprise\", \"url\": \"https://uwmadison.co1.qualtrics.com/ControlPanel/Graphic.php?IM=IM_87ffNHa08KiAYbI\", \"clusters\": 2, \"x\": 0.875, \"y\": 0.5}], \"data-8795a2af9cec3dbe25a9aa266cf9a554\": [{\"ethnicity\": \"bipoc\", \"sex\": \"female\", \"age\": \"adult\", \"label\": \"anger\", \"url\": \"https://uwmadison.co1.qualtrics.com/ControlPanel/Graphic.php?IM=IM_bJXdODAZHOaG0rI\", \"clusters\": 3, \"x\": 0.0, \"y\": 0.0}, {\"ethnicity\": \"white\", \"sex\": \"male\", \"age\": \"adult\", \"label\": \"anger\", \"url\": \"https://uwmadison.co1.qualtrics.com/ControlPanel/Graphic.php?IM=IM_7PC2cgcyr5yUiOy\", \"clusters\": 3, \"x\": 0.14285714285714285, \"y\": 0.0}, {\"ethnicity\": \"bipoc\", \"sex\": \"female\", \"age\": \"adult\", \"label\": \"happiness\", \"url\": \"https://uwmadison.co1.qualtrics.com/ControlPanel/Graphic.php?IM=IM_5uIGlackw1zchRY\", \"clusters\": 3, \"x\": 0.2857142857142857, \"y\": 0.0}, {\"ethnicity\": \"bipoc\", \"sex\": \"female\", \"age\": \"adult\", \"label\": \"neutral\", \"url\": \"https://uwmadison.co1.qualtrics.com/ControlPanel/Graphic.php?IM=IM_80TvOXpOXat9RxI\", \"clusters\": 3, \"x\": 0.42857142857142855, \"y\": 0.0}, {\"ethnicity\": \"bipoc\", \"sex\": \"female\", \"age\": \"child\", \"label\": \"neutral\", \"url\": \"https://uwmadison.co1.qualtrics.com/ControlPanel/Graphic.php?IM=IM_9H2fzde2Rkxr2VU\", \"clusters\": 3, \"x\": 0.5714285714285714, \"y\": 0.0}, {\"ethnicity\": \"bipoc\", \"sex\": \"male\", \"age\": \"adult\", \"label\": \"neutral\", \"url\": \"https://uwmadison.co1.qualtrics.com/ControlPanel/Graphic.php?IM=IM_cMDFM510Dzc4NKu\", \"clusters\": 3, \"x\": 0.7142857142857142, \"y\": 0.0}, {\"ethnicity\": \"bipoc\", \"sex\": \"male\", \"age\": \"child\", \"label\": \"neutral\", \"url\": \"https://uwmadison.co1.qualtrics.com/ControlPanel/Graphic.php?IM=IM_aXk5I4i1e3iZEzk\", \"clusters\": 3, \"x\": 0.8571428571428571, \"y\": 0.0}, {\"ethnicity\": \"white\", \"sex\": \"female\", \"age\": \"adult\", \"label\": \"neutral\", \"url\": \"https://uwmadison.co1.qualtrics.com/ControlPanel/Graphic.php?IM=IM_3lu3qPA43hGxJ4y\", \"clusters\": 3, \"x\": 1.0, \"y\": 0.0}, {\"ethnicity\": \"white\", \"sex\": \"female\", \"age\": \"child\", \"label\": \"neutral\", \"url\": \"https://uwmadison.co1.qualtrics.com/ControlPanel/Graphic.php?IM=IM_0pPXIzq4Mrfh7ka\", \"clusters\": 3, \"x\": 0.0, \"y\": 0.14285714285714285}, {\"ethnicity\": \"white\", \"sex\": \"male\", \"age\": \"adult\", \"label\": \"neutral\", \"url\": \"https://uwmadison.co1.qualtrics.com/ControlPanel/Graphic.php?IM=IM_blolyGQSOOsUfLE\", \"clusters\": 3, \"x\": 0.14285714285714285, \"y\": 0.14285714285714285}, {\"ethnicity\": \"white\", \"sex\": \"male\", \"age\": \"child\", \"label\": \"neutral\", \"url\": \"https://uwmadison.co1.qualtrics.com/ControlPanel/Graphic.php?IM=IM_aVlK7szVW3JAA4K\", \"clusters\": 3, \"x\": 0.2857142857142857, \"y\": 0.14285714285714285}, {\"ethnicity\": \"white\", \"sex\": \"male\", \"age\": \"adult\", \"label\": \"sadness\", \"url\": \"https://uwmadison.co1.qualtrics.com/ControlPanel/Graphic.php?IM=IM_8j4LSlE16vL228e\", \"clusters\": 3, \"x\": 0.42857142857142855, \"y\": 0.14285714285714285}, {\"ethnicity\": \"bipoc\", \"sex\": \"female\", \"age\": \"child\", \"label\": \"uncertain\", \"url\": \"https://uwmadison.co1.qualtrics.com/ControlPanel/Graphic.php?IM=IM_9BqHT20xS13gotg\", \"clusters\": 3, \"x\": 0.5714285714285714, \"y\": 0.14285714285714285}, {\"ethnicity\": \"bipoc\", \"sex\": \"male\", \"age\": \"adult\", \"label\": \"uncertain\", \"url\": \"https://uwmadison.co1.qualtrics.com/ControlPanel/Graphic.php?IM=IM_8feaAnE3DavOGFg\", \"clusters\": 3, \"x\": 0.7142857142857142, \"y\": 0.14285714285714285}, {\"ethnicity\": \"bipoc\", \"sex\": \"male\", \"age\": \"child\", \"label\": \"uncertain\", \"url\": \"https://uwmadison.co1.qualtrics.com/ControlPanel/Graphic.php?IM=IM_0v92GxoJl7KL9HM\", \"clusters\": 3, \"x\": 0.8571428571428571, \"y\": 0.14285714285714285}, {\"ethnicity\": \"bipoc\", \"sex\": \"male\", \"age\": \"adult\", \"label\": \"anger\", \"url\": \"https://uwmadison.co1.qualtrics.com/ControlPanel/Graphic.php?IM=IM_4OulgTPxBAgu0Qu\", \"clusters\": 3, \"x\": 1.0, \"y\": 0.14285714285714285}, {\"ethnicity\": \"bipoc\", \"sex\": \"female\", \"age\": \"adult\", \"label\": \"neutral\", \"url\": \"https://uwmadison.co1.qualtrics.com/ControlPanel/Graphic.php?IM=IM_39Riowawi2KEmV0\", \"clusters\": 3, \"x\": 0.0, \"y\": 0.2857142857142857}, {\"ethnicity\": \"bipoc\", \"sex\": \"female\", \"age\": \"child\", \"label\": \"neutral\", \"url\": \"https://uwmadison.co1.qualtrics.com/ControlPanel/Graphic.php?IM=IM_5bFJqMaV53Zsy0K\", \"clusters\": 3, \"x\": 0.14285714285714285, \"y\": 0.2857142857142857}, {\"ethnicity\": \"bipoc\", \"sex\": \"male\", \"age\": \"adult\", \"label\": \"neutral\", \"url\": \"https://uwmadison.co1.qualtrics.com/ControlPanel/Graphic.php?IM=IM_3gSfRO9Zt2G8NP8\", \"clusters\": 3, \"x\": 0.2857142857142857, \"y\": 0.2857142857142857}, {\"ethnicity\": \"bipoc\", \"sex\": \"male\", \"age\": \"child\", \"label\": \"neutral\", \"url\": \"https://uwmadison.co1.qualtrics.com/ControlPanel/Graphic.php?IM=IM_bw2zfW24xOcYU9o\", \"clusters\": 3, \"x\": 0.42857142857142855, \"y\": 0.2857142857142857}, {\"ethnicity\": \"white\", \"sex\": \"female\", \"age\": \"adult\", \"label\": \"neutral\", \"url\": \"https://uwmadison.co1.qualtrics.com/ControlPanel/Graphic.php?IM=IM_bqKH78xvssoHVoG\", \"clusters\": 3, \"x\": 0.5714285714285714, \"y\": 0.2857142857142857}, {\"ethnicity\": \"white\", \"sex\": \"female\", \"age\": \"child\", \"label\": \"neutral\", \"url\": \"https://uwmadison.co1.qualtrics.com/ControlPanel/Graphic.php?IM=IM_7WGuIqyEG3TilMi\", \"clusters\": 3, \"x\": 0.7142857142857142, \"y\": 0.2857142857142857}, {\"ethnicity\": \"white\", \"sex\": \"male\", \"age\": \"adult\", \"label\": \"neutral\", \"url\": \"https://uwmadison.co1.qualtrics.com/ControlPanel/Graphic.php?IM=IM_9zQEAVQQyKfTlUG\", \"clusters\": 3, \"x\": 0.8571428571428571, \"y\": 0.2857142857142857}, {\"ethnicity\": \"white\", \"sex\": \"male\", \"age\": \"child\", \"label\": \"neutral\", \"url\": \"https://uwmadison.co1.qualtrics.com/ControlPanel/Graphic.php?IM=IM_7PAyQLJg8l8nBSS\", \"clusters\": 3, \"x\": 1.0, \"y\": 0.2857142857142857}, {\"ethnicity\": \"bipoc\", \"sex\": \"female\", \"age\": \"child\", \"label\": \"surprise\", \"url\": \"https://uwmadison.co1.qualtrics.com/ControlPanel/Graphic.php?IM=IM_71mMacKzqNZRVpc\", \"clusters\": 3, \"x\": 0.0, \"y\": 0.42857142857142855}, {\"ethnicity\": \"white\", \"sex\": \"female\", \"age\": \"child\", \"label\": \"uncertain\", \"url\": \"https://uwmadison.co1.qualtrics.com/ControlPanel/Graphic.php?IM=IM_8bHO7XfbqxRugTQ\", \"clusters\": 3, \"x\": 0.14285714285714285, \"y\": 0.42857142857142855}, {\"ethnicity\": \"white\", \"sex\": \"male\", \"age\": \"adult\", \"label\": \"anger\", \"url\": \"https://uwmadison.co1.qualtrics.com/ControlPanel/Graphic.php?IM=IM_cCHIBQubXKS0CiO\", \"clusters\": 3, \"x\": 0.2857142857142857, \"y\": 0.42857142857142855}, {\"ethnicity\": \"bipoc\", \"sex\": \"female\", \"age\": \"adult\", \"label\": \"neutral\", \"url\": \"https://uwmadison.co1.qualtrics.com/ControlPanel/Graphic.php?IM=IM_8Bsr2LNg85rxVgW\", \"clusters\": 3, \"x\": 0.42857142857142855, \"y\": 0.42857142857142855}, {\"ethnicity\": \"bipoc\", \"sex\": \"female\", \"age\": \"child\", \"label\": \"neutral\", \"url\": \"https://uwmadison.co1.qualtrics.com/ControlPanel/Graphic.php?IM=IM_dmqopZwVD7uBVVY\", \"clusters\": 3, \"x\": 0.5714285714285714, \"y\": 0.42857142857142855}, {\"ethnicity\": \"bipoc\", \"sex\": \"male\", \"age\": \"adult\", \"label\": \"neutral\", \"url\": \"https://uwmadison.co1.qualtrics.com/ControlPanel/Graphic.php?IM=IM_2ubTkbpnURV3shw\", \"clusters\": 3, \"x\": 0.7142857142857142, \"y\": 0.42857142857142855}, {\"ethnicity\": \"bipoc\", \"sex\": \"male\", \"age\": \"child\", \"label\": \"neutral\", \"url\": \"https://uwmadison.co1.qualtrics.com/ControlPanel/Graphic.php?IM=IM_bJGSnsoGjBoS3VY\", \"clusters\": 3, \"x\": 0.8571428571428571, \"y\": 0.42857142857142855}, {\"ethnicity\": \"white\", \"sex\": \"female\", \"age\": \"adult\", \"label\": \"neutral\", \"url\": \"https://uwmadison.co1.qualtrics.com/ControlPanel/Graphic.php?IM=IM_87jMTnzp24Gs0US\", \"clusters\": 3, \"x\": 1.0, \"y\": 0.42857142857142855}, {\"ethnicity\": \"white\", \"sex\": \"female\", \"age\": \"child\", \"label\": \"neutral\", \"url\": \"https://uwmadison.co1.qualtrics.com/ControlPanel/Graphic.php?IM=IM_ePc7Ntc4cXqTP70\", \"clusters\": 3, \"x\": 0.0, \"y\": 0.5714285714285714}, {\"ethnicity\": \"white\", \"sex\": \"male\", \"age\": \"adult\", \"label\": \"neutral\", \"url\": \"https://uwmadison.co1.qualtrics.com/ControlPanel/Graphic.php?IM=IM_1X1sCzklzGvx2tg\", \"clusters\": 3, \"x\": 0.14285714285714285, \"y\": 0.5714285714285714}, {\"ethnicity\": \"white\", \"sex\": \"male\", \"age\": \"child\", \"label\": \"neutral\", \"url\": \"https://uwmadison.co1.qualtrics.com/ControlPanel/Graphic.php?IM=IM_6EA9nLCkNjdA69M\", \"clusters\": 3, \"x\": 0.2857142857142857, \"y\": 0.5714285714285714}, {\"ethnicity\": \"white\", \"sex\": \"female\", \"age\": \"child\", \"label\": \"sadness\", \"url\": \"https://uwmadison.co1.qualtrics.com/ControlPanel/Graphic.php?IM=IM_4ZMiIx0eAUH9slo\", \"clusters\": 3, \"x\": 0.42857142857142855, \"y\": 0.5714285714285714}, {\"ethnicity\": \"white\", \"sex\": \"male\", \"age\": \"adult\", \"label\": \"sadness\", \"url\": \"https://uwmadison.co1.qualtrics.com/ControlPanel/Graphic.php?IM=IM_8AHT36OY3USaPe6\", \"clusters\": 3, \"x\": 0.5714285714285714, \"y\": 0.5714285714285714}, {\"ethnicity\": \"white\", \"sex\": \"male\", \"age\": \"child\", \"label\": \"uncertain\", \"url\": \"https://uwmadison.co1.qualtrics.com/ControlPanel/Graphic.php?IM=IM_9tcpk2rnvGGXq7A\", \"clusters\": 3, \"x\": 0.7142857142857142, \"y\": 0.5714285714285714}], \"data-94e05a0e42f60f9b4baa583b5aeecbb8\": [{\"ethnicity\": \"bipoc\", \"sex\": \"female\", \"age\": \"adult\", \"label\": \"sadness\", \"url\": \"https://uwmadison.co1.qualtrics.com/ControlPanel/Graphic.php?IM=IM_6KEpMh9qlyvMRAa\", \"clusters\": 4, \"x\": 0.0, \"y\": 0.0}, {\"ethnicity\": \"bipoc\", \"sex\": \"female\", \"age\": \"child\", \"label\": \"sadness\", \"url\": \"https://uwmadison.co1.qualtrics.com/ControlPanel/Graphic.php?IM=IM_etimLaMrS2pVAAS\", \"clusters\": 4, \"x\": 0.14285714285714285, \"y\": 0.0}, {\"ethnicity\": \"bipoc\", \"sex\": \"male\", \"age\": \"adult\", \"label\": \"sadness\", \"url\": \"https://uwmadison.co1.qualtrics.com/ControlPanel/Graphic.php?IM=IM_dbf2dyj7KGtrN2e\", \"clusters\": 4, \"x\": 0.2857142857142857, \"y\": 0.0}, {\"ethnicity\": \"bipoc\", \"sex\": \"male\", \"age\": \"child\", \"label\": \"sadness\", \"url\": \"https://uwmadison.co1.qualtrics.com/ControlPanel/Graphic.php?IM=IM_eVzPpFKIfopOW1w\", \"clusters\": 4, \"x\": 0.42857142857142855, \"y\": 0.0}, {\"ethnicity\": \"white\", \"sex\": \"female\", \"age\": \"adult\", \"label\": \"sadness\", \"url\": \"https://uwmadison.co1.qualtrics.com/ControlPanel/Graphic.php?IM=IM_9EKbisrli19qicS\", \"clusters\": 4, \"x\": 0.5714285714285714, \"y\": 0.0}, {\"ethnicity\": \"white\", \"sex\": \"female\", \"age\": \"child\", \"label\": \"sadness\", \"url\": \"https://uwmadison.co1.qualtrics.com/ControlPanel/Graphic.php?IM=IM_55Rjm0S1oR1ox1k\", \"clusters\": 4, \"x\": 0.7142857142857142, \"y\": 0.0}, {\"ethnicity\": \"white\", \"sex\": \"male\", \"age\": \"child\", \"label\": \"sadness\", \"url\": \"https://uwmadison.co1.qualtrics.com/ControlPanel/Graphic.php?IM=IM_1BzaOxAnlvpmh8i\", \"clusters\": 4, \"x\": 0.8571428571428571, \"y\": 0.0}, {\"ethnicity\": \"white\", \"sex\": \"female\", \"age\": \"child\", \"label\": \"uncertain\", \"url\": \"https://uwmadison.co1.qualtrics.com/ControlPanel/Graphic.php?IM=IM_8jkP8HhjPXmgNPE\", \"clusters\": 4, \"x\": 1.0, \"y\": 0.0}, {\"ethnicity\": \"bipoc\", \"sex\": \"female\", \"age\": \"child\", \"label\": \"fear\", \"url\": \"https://uwmadison.co1.qualtrics.com/ControlPanel/Graphic.php?IM=IM_0BVeUJelcjahWwC\", \"clusters\": 4, \"x\": 0.0, \"y\": 0.14285714285714285}, {\"ethnicity\": \"white\", \"sex\": \"male\", \"age\": \"child\", \"label\": \"fear\", \"url\": \"https://uwmadison.co1.qualtrics.com/ControlPanel/Graphic.php?IM=IM_0AKqpsdouereE5M\", \"clusters\": 4, \"x\": 0.14285714285714285, \"y\": 0.14285714285714285}, {\"ethnicity\": \"bipoc\", \"sex\": \"female\", \"age\": \"adult\", \"label\": \"sadness\", \"url\": \"https://uwmadison.co1.qualtrics.com/ControlPanel/Graphic.php?IM=IM_83amQw1mO0Wac06\", \"clusters\": 4, \"x\": 0.2857142857142857, \"y\": 0.14285714285714285}, {\"ethnicity\": \"bipoc\", \"sex\": \"female\", \"age\": \"child\", \"label\": \"sadness\", \"url\": \"https://uwmadison.co1.qualtrics.com/ControlPanel/Graphic.php?IM=IM_73Yp8FVd9OfjPP8\", \"clusters\": 4, \"x\": 0.42857142857142855, \"y\": 0.14285714285714285}, {\"ethnicity\": \"bipoc\", \"sex\": \"male\", \"age\": \"adult\", \"label\": \"sadness\", \"url\": \"https://uwmadison.co1.qualtrics.com/ControlPanel/Graphic.php?IM=IM_dahScWh9wdBUhlY\", \"clusters\": 4, \"x\": 0.5714285714285714, \"y\": 0.14285714285714285}, {\"ethnicity\": \"bipoc\", \"sex\": \"male\", \"age\": \"child\", \"label\": \"sadness\", \"url\": \"https://uwmadison.co1.qualtrics.com/ControlPanel/Graphic.php?IM=IM_77jUBNTFvgA7yxU\", \"clusters\": 4, \"x\": 0.7142857142857142, \"y\": 0.14285714285714285}, {\"ethnicity\": \"white\", \"sex\": \"female\", \"age\": \"adult\", \"label\": \"sadness\", \"url\": \"https://uwmadison.co1.qualtrics.com/ControlPanel/Graphic.php?IM=IM_7NHotnPd2lT9Foa\", \"clusters\": 4, \"x\": 0.8571428571428571, \"y\": 0.14285714285714285}, {\"ethnicity\": \"white\", \"sex\": \"female\", \"age\": \"child\", \"label\": \"sadness\", \"url\": \"https://uwmadison.co1.qualtrics.com/ControlPanel/Graphic.php?IM=IM_0pqIA60jUTgdaQe\", \"clusters\": 4, \"x\": 1.0, \"y\": 0.14285714285714285}, {\"ethnicity\": \"white\", \"sex\": \"male\", \"age\": \"adult\", \"label\": \"sadness\", \"url\": \"https://uwmadison.co1.qualtrics.com/ControlPanel/Graphic.php?IM=IM_bNT78GDXgMqiTLU\", \"clusters\": 4, \"x\": 0.0, \"y\": 0.2857142857142857}, {\"ethnicity\": \"white\", \"sex\": \"male\", \"age\": \"child\", \"label\": \"sadness\", \"url\": \"https://uwmadison.co1.qualtrics.com/ControlPanel/Graphic.php?IM=IM_5au9MLWYoSZyrj0\", \"clusters\": 4, \"x\": 0.14285714285714285, \"y\": 0.2857142857142857}, {\"ethnicity\": \"bipoc\", \"sex\": \"male\", \"age\": \"adult\", \"label\": \"fear\", \"url\": \"https://uwmadison.co1.qualtrics.com/ControlPanel/Graphic.php?IM=IM_8B72pKihkAZkIFU\", \"clusters\": 4, \"x\": 0.2857142857142857, \"y\": 0.2857142857142857}, {\"ethnicity\": \"bipoc\", \"sex\": \"male\", \"age\": \"child\", \"label\": \"fear\", \"url\": \"https://uwmadison.co1.qualtrics.com/ControlPanel/Graphic.php?IM=IM_9mlWGWUpvpQZa5M\", \"clusters\": 4, \"x\": 0.42857142857142855, \"y\": 0.2857142857142857}, {\"ethnicity\": \"bipoc\", \"sex\": \"female\", \"age\": \"child\", \"label\": \"sadness\", \"url\": \"https://uwmadison.co1.qualtrics.com/ControlPanel/Graphic.php?IM=IM_6AkMWXDnyOPXs6a\", \"clusters\": 4, \"x\": 0.5714285714285714, \"y\": 0.2857142857142857}, {\"ethnicity\": \"bipoc\", \"sex\": \"male\", \"age\": \"adult\", \"label\": \"sadness\", \"url\": \"https://uwmadison.co1.qualtrics.com/ControlPanel/Graphic.php?IM=IM_0pvcXJMnnou5XxA\", \"clusters\": 4, \"x\": 0.7142857142857142, \"y\": 0.2857142857142857}, {\"ethnicity\": \"bipoc\", \"sex\": \"male\", \"age\": \"child\", \"label\": \"sadness\", \"url\": \"https://uwmadison.co1.qualtrics.com/ControlPanel/Graphic.php?IM=IM_7365JYEsalfFK3c\", \"clusters\": 4, \"x\": 0.8571428571428571, \"y\": 0.2857142857142857}, {\"ethnicity\": \"white\", \"sex\": \"female\", \"age\": \"adult\", \"label\": \"sadness\", \"url\": \"https://uwmadison.co1.qualtrics.com/ControlPanel/Graphic.php?IM=IM_4ObHALgYpr6zhn8\", \"clusters\": 4, \"x\": 1.0, \"y\": 0.2857142857142857}, {\"ethnicity\": \"white\", \"sex\": \"male\", \"age\": \"child\", \"label\": \"sadness\", \"url\": \"https://uwmadison.co1.qualtrics.com/ControlPanel/Graphic.php?IM=IM_cSZwt3HTocE50jk\", \"clusters\": 4, \"x\": 0.0, \"y\": 0.42857142857142855}], \"data-1dd44cef0aa467005f525ce6ed18fd2e\": [{\"ethnicity\": \"bipoc\", \"sex\": \"male\", \"age\": \"child\", \"label\": \"anger\", \"url\": \"https://uwmadison.co1.qualtrics.com/ControlPanel/Graphic.php?IM=IM_egtCOrU9KOm233M\", \"clusters\": 5, \"x\": 0.0, \"y\": 0.0}, {\"ethnicity\": \"bipoc\", \"sex\": \"female\", \"age\": \"adult\", \"label\": \"disgust\", \"url\": \"https://uwmadison.co1.qualtrics.com/ControlPanel/Graphic.php?IM=IM_cvFjQlP07m9S7VY\", \"clusters\": 5, \"x\": 0.14285714285714285, \"y\": 0.0}, {\"ethnicity\": \"bipoc\", \"sex\": \"female\", \"age\": \"child\", \"label\": \"disgust\", \"url\": \"https://uwmadison.co1.qualtrics.com/ControlPanel/Graphic.php?IM=IM_4Zxryb4o2ZDgHDo\", \"clusters\": 5, \"x\": 0.2857142857142857, \"y\": 0.0}, {\"ethnicity\": \"bipoc\", \"sex\": \"male\", \"age\": \"adult\", \"label\": \"disgust\", \"url\": \"https://uwmadison.co1.qualtrics.com/ControlPanel/Graphic.php?IM=IM_cIvdFisSzzSMNRI\", \"clusters\": 5, \"x\": 0.42857142857142855, \"y\": 0.0}, {\"ethnicity\": \"bipoc\", \"sex\": \"male\", \"age\": \"child\", \"label\": \"disgust\", \"url\": \"https://uwmadison.co1.qualtrics.com/ControlPanel/Graphic.php?IM=IM_envzka9NlloQh7g\", \"clusters\": 5, \"x\": 0.5714285714285714, \"y\": 0.0}, {\"ethnicity\": \"white\", \"sex\": \"female\", \"age\": \"adult\", \"label\": \"disgust\", \"url\": \"https://uwmadison.co1.qualtrics.com/ControlPanel/Graphic.php?IM=IM_er3kGiV5nUJCkse\", \"clusters\": 5, \"x\": 0.7142857142857142, \"y\": 0.0}, {\"ethnicity\": \"white\", \"sex\": \"male\", \"age\": \"adult\", \"label\": \"disgust\", \"url\": \"https://uwmadison.co1.qualtrics.com/ControlPanel/Graphic.php?IM=IM_4Iuz8TahQUf5rCu\", \"clusters\": 5, \"x\": 0.8571428571428571, \"y\": 0.0}, {\"ethnicity\": \"white\", \"sex\": \"male\", \"age\": \"child\", \"label\": \"disgust\", \"url\": \"https://uwmadison.co1.qualtrics.com/ControlPanel/Graphic.php?IM=IM_3dtGv9tzZmLa4Cy\", \"clusters\": 5, \"x\": 1.0, \"y\": 0.0}, {\"ethnicity\": \"white\", \"sex\": \"female\", \"age\": \"adult\", \"label\": \"uncertain\", \"url\": \"https://uwmadison.co1.qualtrics.com/ControlPanel/Graphic.php?IM=IM_88R1RMz4mseoRkW\", \"clusters\": 5, \"x\": 0.0, \"y\": 0.14285714285714285}, {\"ethnicity\": \"white\", \"sex\": \"male\", \"age\": \"adult\", \"label\": \"uncertain\", \"url\": \"https://uwmadison.co1.qualtrics.com/ControlPanel/Graphic.php?IM=IM_81e4y8XbeDW4Ew6\", \"clusters\": 5, \"x\": 0.14285714285714285, \"y\": 0.14285714285714285}, {\"ethnicity\": \"white\", \"sex\": \"male\", \"age\": \"child\", \"label\": \"uncertain\", \"url\": \"https://uwmadison.co1.qualtrics.com/ControlPanel/Graphic.php?IM=IM_6lfDwHho7YysGIS\", \"clusters\": 5, \"x\": 0.2857142857142857, \"y\": 0.14285714285714285}, {\"ethnicity\": \"white\", \"sex\": \"female\", \"age\": \"child\", \"label\": \"anger\", \"url\": \"https://uwmadison.co1.qualtrics.com/ControlPanel/Graphic.php?IM=IM_3QtW28KFGllSVBI\", \"clusters\": 5, \"x\": 0.42857142857142855, \"y\": 0.14285714285714285}, {\"ethnicity\": \"bipoc\", \"sex\": \"female\", \"age\": \"adult\", \"label\": \"disgust\", \"url\": \"https://uwmadison.co1.qualtrics.com/ControlPanel/Graphic.php?IM=IM_0kOdQHclITzXgIC\", \"clusters\": 5, \"x\": 0.5714285714285714, \"y\": 0.14285714285714285}, {\"ethnicity\": \"bipoc\", \"sex\": \"female\", \"age\": \"child\", \"label\": \"disgust\", \"url\": \"https://uwmadison.co1.qualtrics.com/ControlPanel/Graphic.php?IM=IM_e9BJyTeFPLQ7ZUq\", \"clusters\": 5, \"x\": 0.7142857142857142, \"y\": 0.14285714285714285}, {\"ethnicity\": \"bipoc\", \"sex\": \"male\", \"age\": \"adult\", \"label\": \"disgust\", \"url\": \"https://uwmadison.co1.qualtrics.com/ControlPanel/Graphic.php?IM=IM_1Zx26VAbwv9uFFQ\", \"clusters\": 5, \"x\": 0.8571428571428571, \"y\": 0.14285714285714285}, {\"ethnicity\": \"bipoc\", \"sex\": \"male\", \"age\": \"child\", \"label\": \"disgust\", \"url\": \"https://uwmadison.co1.qualtrics.com/ControlPanel/Graphic.php?IM=IM_bjzYq2UEKkXH7aC\", \"clusters\": 5, \"x\": 1.0, \"y\": 0.14285714285714285}, {\"ethnicity\": \"white\", \"sex\": \"female\", \"age\": \"adult\", \"label\": \"disgust\", \"url\": \"https://uwmadison.co1.qualtrics.com/ControlPanel/Graphic.php?IM=IM_5hkOSrFORUoHopM\", \"clusters\": 5, \"x\": 0.0, \"y\": 0.2857142857142857}, {\"ethnicity\": \"white\", \"sex\": \"female\", \"age\": \"child\", \"label\": \"disgust\", \"url\": \"https://uwmadison.co1.qualtrics.com/ControlPanel/Graphic.php?IM=IM_244QOC2to2Jetca\", \"clusters\": 5, \"x\": 0.14285714285714285, \"y\": 0.2857142857142857}, {\"ethnicity\": \"white\", \"sex\": \"male\", \"age\": \"adult\", \"label\": \"disgust\", \"url\": \"https://uwmadison.co1.qualtrics.com/ControlPanel/Graphic.php?IM=IM_7aEgC4sWsfM5I5E\", \"clusters\": 5, \"x\": 0.2857142857142857, \"y\": 0.2857142857142857}, {\"ethnicity\": \"white\", \"sex\": \"male\", \"age\": \"child\", \"label\": \"disgust\", \"url\": \"https://uwmadison.co1.qualtrics.com/ControlPanel/Graphic.php?IM=IM_7P182C9dn0ypgtE\", \"clusters\": 5, \"x\": 0.42857142857142855, \"y\": 0.2857142857142857}, {\"ethnicity\": \"white\", \"sex\": \"male\", \"age\": \"adult\", \"label\": \"fear\", \"url\": \"https://uwmadison.co1.qualtrics.com/ControlPanel/Graphic.php?IM=IM_9WR2cEWgwYWx7sa\", \"clusters\": 5, \"x\": 0.5714285714285714, \"y\": 0.2857142857142857}, {\"ethnicity\": \"bipoc\", \"sex\": \"female\", \"age\": \"adult\", \"label\": \"uncertain\", \"url\": \"https://uwmadison.co1.qualtrics.com/ControlPanel/Graphic.php?IM=IM_74kgKNSWDU7crjM\", \"clusters\": 5, \"x\": 0.7142857142857142, \"y\": 0.2857142857142857}, {\"ethnicity\": \"bipoc\", \"sex\": \"female\", \"age\": \"child\", \"label\": \"uncertain\", \"url\": \"https://uwmadison.co1.qualtrics.com/ControlPanel/Graphic.php?IM=IM_cJi6x6m1lHypqN8\", \"clusters\": 5, \"x\": 0.8571428571428571, \"y\": 0.2857142857142857}, {\"ethnicity\": \"bipoc\", \"sex\": \"male\", \"age\": \"child\", \"label\": \"uncertain\", \"url\": \"https://uwmadison.co1.qualtrics.com/ControlPanel/Graphic.php?IM=IM_eaf2nwmlYn6uJKu\", \"clusters\": 5, \"x\": 1.0, \"y\": 0.2857142857142857}, {\"ethnicity\": \"white\", \"sex\": \"male\", \"age\": \"adult\", \"label\": \"uncertain\", \"url\": \"https://uwmadison.co1.qualtrics.com/ControlPanel/Graphic.php?IM=IM_3wreUCj6TLHFC4K\", \"clusters\": 5, \"x\": 0.0, \"y\": 0.42857142857142855}, {\"ethnicity\": \"bipoc\", \"sex\": \"female\", \"age\": \"adult\", \"label\": \"disgust\", \"url\": \"https://uwmadison.co1.qualtrics.com/ControlPanel/Graphic.php?IM=IM_bsHb1M3p1kgjsF0\", \"clusters\": 5, \"x\": 0.14285714285714285, \"y\": 0.42857142857142855}, {\"ethnicity\": \"bipoc\", \"sex\": \"female\", \"age\": \"child\", \"label\": \"disgust\", \"url\": \"https://uwmadison.co1.qualtrics.com/ControlPanel/Graphic.php?IM=IM_0SwhYgwrLxTB3LM\", \"clusters\": 5, \"x\": 0.2857142857142857, \"y\": 0.42857142857142855}, {\"ethnicity\": \"bipoc\", \"sex\": \"male\", \"age\": \"adult\", \"label\": \"disgust\", \"url\": \"https://uwmadison.co1.qualtrics.com/ControlPanel/Graphic.php?IM=IM_bemvKCbRtShtR0a\", \"clusters\": 5, \"x\": 0.42857142857142855, \"y\": 0.42857142857142855}, {\"ethnicity\": \"bipoc\", \"sex\": \"male\", \"age\": \"child\", \"label\": \"disgust\", \"url\": \"https://uwmadison.co1.qualtrics.com/ControlPanel/Graphic.php?IM=IM_7WCRz9fBbsgi9Qq\", \"clusters\": 5, \"x\": 0.5714285714285714, \"y\": 0.42857142857142855}, {\"ethnicity\": \"white\", \"sex\": \"female\", \"age\": \"adult\", \"label\": \"disgust\", \"url\": \"https://uwmadison.co1.qualtrics.com/ControlPanel/Graphic.php?IM=IM_eKdiMX7YPesWOlU\", \"clusters\": 5, \"x\": 0.7142857142857142, \"y\": 0.42857142857142855}, {\"ethnicity\": \"white\", \"sex\": \"female\", \"age\": \"child\", \"label\": \"disgust\", \"url\": \"https://uwmadison.co1.qualtrics.com/ControlPanel/Graphic.php?IM=IM_0JVrdbvlyGSXcLI\", \"clusters\": 5, \"x\": 0.8571428571428571, \"y\": 0.42857142857142855}, {\"ethnicity\": \"white\", \"sex\": \"male\", \"age\": \"child\", \"label\": \"disgust\", \"url\": \"https://uwmadison.co1.qualtrics.com/ControlPanel/Graphic.php?IM=IM_74HB0t6zgma9YNw\", \"clusters\": 5, \"x\": 1.0, \"y\": 0.42857142857142855}, {\"ethnicity\": \"bipoc\", \"sex\": \"female\", \"age\": \"adult\", \"label\": \"sadness\", \"url\": \"https://uwmadison.co1.qualtrics.com/ControlPanel/Graphic.php?IM=IM_6A6ANrMmpt0lXFQ\", \"clusters\": 5, \"x\": 0.0, \"y\": 0.5714285714285714}, {\"ethnicity\": \"bipoc\", \"sex\": \"male\", \"age\": \"adult\", \"label\": \"uncertain\", \"url\": \"https://uwmadison.co1.qualtrics.com/ControlPanel/Graphic.php?IM=IM_bw6Y8TC4DgP7vAq\", \"clusters\": 5, \"x\": 0.14285714285714285, \"y\": 0.5714285714285714}, {\"ethnicity\": \"bipoc\", \"sex\": \"male\", \"age\": \"child\", \"label\": \"uncertain\", \"url\": \"https://uwmadison.co1.qualtrics.com/ControlPanel/Graphic.php?IM=IM_5yvfzLfqBDAE8XY\", \"clusters\": 5, \"x\": 0.2857142857142857, \"y\": 0.5714285714285714}, {\"ethnicity\": \"white\", \"sex\": \"female\", \"age\": \"adult\", \"label\": \"uncertain\", \"url\": \"https://uwmadison.co1.qualtrics.com/ControlPanel/Graphic.php?IM=IM_a64Cxa5gtL3OHKS\", \"clusters\": 5, \"x\": 0.42857142857142855, \"y\": 0.5714285714285714}, {\"ethnicity\": \"white\", \"sex\": \"female\", \"age\": \"child\", \"label\": \"uncertain\", \"url\": \"https://uwmadison.co1.qualtrics.com/ControlPanel/Graphic.php?IM=IM_beic5cGPkQFDmhU\", \"clusters\": 5, \"x\": 0.5714285714285714, \"y\": 0.5714285714285714}, {\"ethnicity\": \"white\", \"sex\": \"male\", \"age\": \"adult\", \"label\": \"uncertain\", \"url\": \"https://uwmadison.co1.qualtrics.com/ControlPanel/Graphic.php?IM=IM_8oGUDKsFJy6Upeu\", \"clusters\": 5, \"x\": 0.7142857142857142, \"y\": 0.5714285714285714}]}}, {\"mode\": \"vega-lite\"});\n",
       "</script>"
      ],
      "text/plain": [
       "alt.VConcatChart(...)"
      ]
     },
     "execution_count": 179,
     "metadata": {},
     "output_type": "execute_result"
    }
   ],
   "source": [
    "((cluster_0 | cluster_1) & \\\n",
    "(cluster_2 | cluster_3) & \\\n",
    "(cluster_4 | cluster_5)).configure_axis(\n",
    "        grid=False\n",
    "    ).configure_view(\n",
    "        strokeOpacity=0\n",
    "    ).configure_concat(\n",
    "    spacing=50\n",
    ")"
   ]
  },
  {
   "cell_type": "code",
   "execution_count": null,
   "id": "1a9ba9e7-6b1a-4485-a1a3-0069aa5524de",
   "metadata": {},
   "outputs": [],
   "source": []
  }
 ],
 "metadata": {
  "interpreter": {
   "hash": "0353e939db601dafb04d2c079fe964b10a82a41961934d9a2462ee642708624d"
  },
  "kernelspec": {
   "display_name": "Python 3 (ipykernel)",
   "language": "python",
   "name": "python3"
  },
  "language_info": {
   "codemirror_mode": {
    "name": "ipython",
    "version": 3
   },
   "file_extension": ".py",
   "mimetype": "text/x-python",
   "name": "python",
   "nbconvert_exporter": "python",
   "pygments_lexer": "ipython3",
   "version": "3.9.7"
  }
 },
 "nbformat": 4,
 "nbformat_minor": 5
}
