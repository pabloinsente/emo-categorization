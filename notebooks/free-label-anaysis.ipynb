{
 "cells": [
  {
   "cell_type": "code",
   "execution_count": 1,
   "id": "ffd5fb88-26c9-4781-b45a-408d2b3cf8f8",
   "metadata": {},
   "outputs": [],
   "source": [
    "import pandas as pd\n",
    "import numpy as np\n",
    "import altair as alt"
   ]
  },
  {
   "cell_type": "markdown",
   "id": "d853dbc9-91a5-430c-b601-41594bb65c54",
   "metadata": {},
   "source": [
    "## Data ingestion"
   ]
  },
  {
   "cell_type": "code",
   "execution_count": 2,
   "id": "be8df92d-3e76-4141-89c4-daee0e6154ca",
   "metadata": {},
   "outputs": [],
   "source": [
    "df = pd.read_csv('../data/emotion_free_choice_uw_students.csv')\n",
    "df_label = pd.read_csv('../data/emotion_labels.csv')"
   ]
  },
  {
   "cell_type": "code",
   "execution_count": 3,
   "id": "d4effccc-1de0-45d6-ad68-44e790f74042",
   "metadata": {},
   "outputs": [],
   "source": [
    "df_label['url'] = df_label['url'].astype(str)"
   ]
  },
  {
   "cell_type": "code",
   "execution_count": 4,
   "id": "62f7d6c8-0b0a-4a54-8377-8582815e52b0",
   "metadata": {},
   "outputs": [],
   "source": [
    "# replicate rows by 4 to match with free responses\n",
    "df_labels = pd.DataFrame(np.repeat(df_label.values, 4, axis=0))\n",
    "df_labels.columns = df_label.columns"
   ]
  },
  {
   "cell_type": "code",
   "execution_count": 5,
   "id": "49d09f59-548a-4cd0-8a9d-f8fe8e78390a",
   "metadata": {},
   "outputs": [],
   "source": [
    "df_labels.to_csv('../data/emotion_labels_free_choice.csv', index=False)"
   ]
  },
  {
   "cell_type": "code",
   "execution_count": 6,
   "id": "d2c42396-5dca-4f13-a299-64626ca3f01c",
   "metadata": {},
   "outputs": [
    {
     "name": "stdout",
     "output_type": "stream",
     "text": [
      "<class 'pandas.core.frame.DataFrame'>\n",
      "RangeIndex: 101 entries, 0 to 100\n",
      "Columns: 802 entries, StartDate to Q195.1_4\n",
      "dtypes: object(802)\n",
      "memory usage: 633.0+ KB\n"
     ]
    }
   ],
   "source": [
    "df.info()"
   ]
  },
  {
   "cell_type": "code",
   "execution_count": 7,
   "id": "bdfb7630-fc0f-4f70-947b-fd6b2f5dd1f5",
   "metadata": {},
   "outputs": [],
   "source": [
    "df = df.iloc[19:, :]  # filter out test rows"
   ]
  },
  {
   "cell_type": "code",
   "execution_count": 8,
   "id": "d513fa30-34cb-4314-aebf-7a6a441af17b",
   "metadata": {},
   "outputs": [
    {
     "name": "stdout",
     "output_type": "stream",
     "text": [
      "<class 'pandas.core.frame.DataFrame'>\n",
      "RangeIndex: 82 entries, 19 to 100\n",
      "Columns: 802 entries, StartDate to Q195.1_4\n",
      "dtypes: object(802)\n",
      "memory usage: 513.9+ KB\n"
     ]
    }
   ],
   "source": [
    "df.info()"
   ]
  },
  {
   "cell_type": "code",
   "execution_count": 9,
   "id": "58d7ead7-f3ce-4f48-8bed-44e0c61e94d8",
   "metadata": {},
   "outputs": [],
   "source": [
    "df = df[df['Finished'] =='True'] # filter out incomplete surveys"
   ]
  },
  {
   "cell_type": "code",
   "execution_count": 10,
   "id": "c52e5026-17bb-4fd8-b6c7-7c0fd010407d",
   "metadata": {},
   "outputs": [
    {
     "name": "stdout",
     "output_type": "stream",
     "text": [
      "<class 'pandas.core.frame.DataFrame'>\n",
      "Int64Index: 51 entries, 19 to 95\n",
      "Columns: 802 entries, StartDate to Q195.1_4\n",
      "dtypes: object(802)\n",
      "memory usage: 319.9+ KB\n"
     ]
    }
   ],
   "source": [
    "df.info()"
   ]
  },
  {
   "cell_type": "code",
   "execution_count": 11,
   "id": "57c9bad2-f874-4c4a-bc0e-77041a295d08",
   "metadata": {},
   "outputs": [],
   "source": [
    "df.to_csv('../clean_data/free_choice_emotion_uw_students.csv', index=False)"
   ]
  },
  {
   "cell_type": "markdown",
   "id": "edfd4fca-d6c2-4288-99b1-88b9342462bc",
   "metadata": {},
   "source": [
    "## Formating"
   ]
  },
  {
   "cell_type": "code",
   "execution_count": 12,
   "id": "e830f16d-ad56-47d0-844f-6ef6493a613a",
   "metadata": {},
   "outputs": [],
   "source": [
    "df_emo_answers = df.loc[:, 'Q2.1_1':'Q195.1_4'] # get cols with words only"
   ]
  },
  {
   "cell_type": "code",
   "execution_count": 13,
   "id": "cd16fd24-6b52-458b-8e3b-0204ead9aec1",
   "metadata": {},
   "outputs": [],
   "source": [
    "def formating_words(df, len_words=1, len_letters=2):\n",
    "    df_stack = df.stack().reset_index(drop=True) # stack as series\n",
    "    df_stack = df_stack.to_frame(name='emotion') # as DF\n",
    "    df_stack['emotion'] = df_stack['emotion'].str.strip() # remove blank spaces\n",
    "    df_stack['emotion'] = df_stack['emotion'].str.lower() # as lower case\n",
    "    df_stack['emotion'] = df_stack['emotion'].replace({'na':'none'}) \n",
    "    df_stack['len_words'] = df_stack['emotion'].str.split().apply(len) # cnt number of words\n",
    "    df_stack['len_letters'] = df_stack['emotion'].apply(len) # cont number of letters\n",
    "    # get df with single words of 3 or more letters\n",
    "    df_stack_single_word = df_stack[(df_stack['len_words'] == len_words) & (df_stack['len_letters'] > len_letters)] \n",
    "    return df_stack_single_word"
   ]
  },
  {
   "cell_type": "code",
   "execution_count": 14,
   "id": "60df8da0-21da-48e6-8257-5708b9300e1e",
   "metadata": {},
   "outputs": [],
   "source": [
    "df_stack_single_word = formating_words(df_emo_answers)"
   ]
  },
  {
   "cell_type": "markdown",
   "id": "88d5fa3f-dd87-434c-b9dd-5e230fbbd229",
   "metadata": {},
   "source": [
    "## Spell checking \n",
    "**NOTE**: poor results so far with this"
   ]
  },
  {
   "cell_type": "code",
   "execution_count": 15,
   "id": "8691f5e4-dee1-44f6-a52d-a7cd6eeceb24",
   "metadata": {},
   "outputs": [],
   "source": [
    "# conda install -c conda-forge pattern \n",
    "# from pattern.en import suggest"
   ]
  },
  {
   "cell_type": "code",
   "execution_count": 16,
   "id": "c8d26779-5c1f-4c06-bbbc-2d28739d9118",
   "metadata": {},
   "outputs": [],
   "source": [
    "# df_stack_single_word['emotion_spell_check'] = df_stack_single_word['emotion'].apply(lambda x: suggest(x)[0][0])\n",
    "# df_stack_single_word['emotion'].size\n",
    "# df_stack_single_word['emotion'].size - sum(df_stack_single_word['emotion'] == df_stack_single_word['emotion_spell_check']) # number of words changed"
   ]
  },
  {
   "cell_type": "markdown",
   "id": "360c6136-bdb5-43df-9afc-8f4710c759f8",
   "metadata": {},
   "source": [
    "## Steamming"
   ]
  },
  {
   "cell_type": "code",
   "execution_count": 17,
   "id": "5a1e61e2-b0d6-4173-8154-0b0aaa584076",
   "metadata": {},
   "outputs": [],
   "source": [
    "from nltk.stem import PorterStemmer\n",
    "from nltk.stem import LancasterStemmer\n",
    "from nltk.stem import SnowballStemmer"
   ]
  },
  {
   "cell_type": "code",
   "execution_count": 18,
   "id": "60389dd9-44bf-471e-9bce-6bab9ceb2dd2",
   "metadata": {},
   "outputs": [],
   "source": [
    "ps = PorterStemmer()\n",
    "ls = LancasterStemmer()\n",
    "snowball = SnowballStemmer(language='english')"
   ]
  },
  {
   "cell_type": "code",
   "execution_count": 19,
   "id": "d7530869-e9a4-4a7b-8468-5969bc30cbae",
   "metadata": {},
   "outputs": [],
   "source": [
    "# Porter stemmer\n",
    "df_stack_single_word['emotion_ps_steamed'] = df_stack_single_word['emotion'].apply(lambda x: ps.stem(x))"
   ]
  },
  {
   "cell_type": "code",
   "execution_count": null,
   "id": "ab532d7e-cf02-4769-aff3-5460801381b6",
   "metadata": {},
   "outputs": [],
   "source": [
    "# Lancaster stemmer\n",
    "df_stack_single_word['emotion_ls_steamed'] = df_stack_single_word['emotion'].apply(lambda x: ls.stem(x))"
   ]
  },
  {
   "cell_type": "code",
   "execution_count": 21,
   "id": "444eee6d-0e8f-4aa4-b676-c2b8d67db2db",
   "metadata": {},
   "outputs": [],
   "source": [
    "# Snowball stemmer\n",
    "df_stack_single_word['emotion_sb_steamed'] = df_stack_single_word['emotion'].apply(lambda x: snowball.stem(x))"
   ]
  },
  {
   "cell_type": "code",
   "execution_count": 22,
   "id": "bb3edd29-b946-4eaa-9802-d73f03dd4817",
   "metadata": {},
   "outputs": [
    {
     "data": {
      "text/html": [
       "<div>\n",
       "<style scoped>\n",
       "    .dataframe tbody tr th:only-of-type {\n",
       "        vertical-align: middle;\n",
       "    }\n",
       "\n",
       "    .dataframe tbody tr th {\n",
       "        vertical-align: top;\n",
       "    }\n",
       "\n",
       "    .dataframe thead th {\n",
       "        text-align: right;\n",
       "    }\n",
       "</style>\n",
       "<table border=\"1\" class=\"dataframe\">\n",
       "  <thead>\n",
       "    <tr style=\"text-align: right;\">\n",
       "      <th></th>\n",
       "      <th>emotion</th>\n",
       "      <th>len_words</th>\n",
       "      <th>len_letters</th>\n",
       "      <th>emotion_ps_steamed</th>\n",
       "      <th>emotion_ls_steamed</th>\n",
       "      <th>emotion_sb_steamed</th>\n",
       "    </tr>\n",
       "  </thead>\n",
       "  <tbody>\n",
       "    <tr>\n",
       "      <th>0</th>\n",
       "      <td>angry</td>\n",
       "      <td>1</td>\n",
       "      <td>5</td>\n",
       "      <td>angri</td>\n",
       "      <td>angry</td>\n",
       "      <td>angri</td>\n",
       "    </tr>\n",
       "    <tr>\n",
       "      <th>1</th>\n",
       "      <td>yelling</td>\n",
       "      <td>1</td>\n",
       "      <td>7</td>\n",
       "      <td>yell</td>\n",
       "      <td>yel</td>\n",
       "      <td>yell</td>\n",
       "    </tr>\n",
       "    <tr>\n",
       "      <th>2</th>\n",
       "      <td>yelling</td>\n",
       "      <td>1</td>\n",
       "      <td>7</td>\n",
       "      <td>yell</td>\n",
       "      <td>yel</td>\n",
       "      <td>yell</td>\n",
       "    </tr>\n",
       "  </tbody>\n",
       "</table>\n",
       "</div>"
      ],
      "text/plain": [
       "   emotion  len_words  len_letters emotion_ps_steamed emotion_ls_steamed  \\\n",
       "0    angry          1            5              angri              angry   \n",
       "1  yelling          1            7               yell                yel   \n",
       "2  yelling          1            7               yell                yel   \n",
       "\n",
       "  emotion_sb_steamed  \n",
       "0              angri  \n",
       "1               yell  \n",
       "2               yell  "
      ]
     },
     "execution_count": 22,
     "metadata": {},
     "output_type": "execute_result"
    }
   ],
   "source": [
    "df_stack_single_word.head(3)"
   ]
  },
  {
   "cell_type": "markdown",
   "id": "c8693d96-f4ba-4c34-a8d5-4ad3ff9e1bca",
   "metadata": {},
   "source": [
    "## Count frequency and plot"
   ]
  },
  {
   "cell_type": "code",
   "execution_count": 23,
   "id": "fc70bdbd-5801-4724-82f1-8ebcbe308ebe",
   "metadata": {},
   "outputs": [],
   "source": [
    "def count_freq_labels(df, col):\n",
    "    df_counts = df[col].value_counts() # count word frequency \n",
    "    df_counts = df_counts.to_frame('counts') # get value_counts as df\n",
    "    df_counts['emotion'] = df_counts.index # get index as col\n",
    "    df_counts = df_counts.reset_index(drop=True) # clean index\n",
    "    df_counts['percent'] = df_counts['counts'] / df_counts['counts'].sum() # compute percentage\n",
    "    return df_counts"
   ]
  },
  {
   "cell_type": "code",
   "execution_count": 24,
   "id": "1e377bee-7de9-46b2-8192-1467f9f5356d",
   "metadata": {},
   "outputs": [],
   "source": [
    "def simple_per_bar(df, X, Y, top, width=300, height=300, title='Title'):\n",
    "    bars = alt.Chart(df.head(top), title=title).mark_bar().encode(\n",
    "        alt.X(X, axis=alt.Axis(format='.0%')),\n",
    "        y=alt.Y(Y, sort='-x'))\n",
    "    \n",
    "    text = bars.mark_text(\n",
    "        align='left',\n",
    "        baseline='middle',\n",
    "        dx=3,  # Nudges text to right so it doesn't appear on top of the bar\n",
    "        fontSize=10\n",
    "    ).encode(\n",
    "        alt.Text(X, format='.2%')\n",
    "    )\n",
    "    \n",
    "    chart = (bars + text)\n",
    "    \n",
    "    return chart.properties(width=width, height=height)"
   ]
  },
  {
   "cell_type": "code",
   "execution_count": 25,
   "id": "03a0b905-045d-4fb9-ac35-801497caec00",
   "metadata": {},
   "outputs": [],
   "source": [
    "def simple_count_bar(df, X, Y, top, width=300, height=300, title='Title'):\n",
    "    bars = alt.Chart(df.head(top), title=title).mark_bar().encode(\n",
    "        alt.X(X),\n",
    "        y=alt.Y(Y, sort='-x'))\n",
    "    \n",
    "    text = bars.mark_text(\n",
    "    align='left',\n",
    "    baseline='middle',\n",
    "    dx=3,  # Nudges text to right so it doesn't appear on top of the bar\n",
    "    fontSize=10\n",
    "    ).encode(\n",
    "        alt.Text('counts:Q')\n",
    "    )\n",
    "    \n",
    "    chart = (bars + text)\n",
    "    \n",
    "    return chart.properties(width=width, height=height)"
   ]
  },
  {
   "cell_type": "code",
   "execution_count": 26,
   "id": "21b3d2e0-43c0-4bb5-b4b7-1017d984b7e8",
   "metadata": {},
   "outputs": [],
   "source": [
    "df_emo_overall = count_freq_labels(df_stack_single_word, 'emotion_ps_steamed')\n"
   ]
  },
  {
   "cell_type": "code",
   "execution_count": 27,
   "id": "8a5a79c5-9d28-433f-b1b0-8678b65daf00",
   "metadata": {},
   "outputs": [],
   "source": [
    "df_emo_overall.to_csv('../clean_data/free_choice_emotion_uw_students_overall.csv', index=False)"
   ]
  },
  {
   "cell_type": "code",
   "execution_count": 28,
   "id": "d1e4ac17-617d-4f42-8708-add7e3b6cf28",
   "metadata": {},
   "outputs": [
    {
     "data": {
      "text/html": [
       "\n",
       "<div id=\"altair-viz-6d8f87735c9d42558e75149831e7abe8\"></div>\n",
       "<script type=\"text/javascript\">\n",
       "  (function(spec, embedOpt){\n",
       "    let outputDiv = document.currentScript.previousElementSibling;\n",
       "    if (outputDiv.id !== \"altair-viz-6d8f87735c9d42558e75149831e7abe8\") {\n",
       "      outputDiv = document.getElementById(\"altair-viz-6d8f87735c9d42558e75149831e7abe8\");\n",
       "    }\n",
       "    const paths = {\n",
       "      \"vega\": \"https://cdn.jsdelivr.net/npm//vega@5?noext\",\n",
       "      \"vega-lib\": \"https://cdn.jsdelivr.net/npm//vega-lib?noext\",\n",
       "      \"vega-lite\": \"https://cdn.jsdelivr.net/npm//vega-lite@4.8.1?noext\",\n",
       "      \"vega-embed\": \"https://cdn.jsdelivr.net/npm//vega-embed@6?noext\",\n",
       "    };\n",
       "\n",
       "    function loadScript(lib) {\n",
       "      return new Promise(function(resolve, reject) {\n",
       "        var s = document.createElement('script');\n",
       "        s.src = paths[lib];\n",
       "        s.async = true;\n",
       "        s.onload = () => resolve(paths[lib]);\n",
       "        s.onerror = () => reject(`Error loading script: ${paths[lib]}`);\n",
       "        document.getElementsByTagName(\"head\")[0].appendChild(s);\n",
       "      });\n",
       "    }\n",
       "\n",
       "    function showError(err) {\n",
       "      outputDiv.innerHTML = `<div class=\"error\" style=\"color:red;\">${err}</div>`;\n",
       "      throw err;\n",
       "    }\n",
       "\n",
       "    function displayChart(vegaEmbed) {\n",
       "      vegaEmbed(outputDiv, spec, embedOpt)\n",
       "        .catch(err => showError(`Javascript Error: ${err.message}<br>This usually means there's a typo in your chart specification. See the javascript console for the full traceback.`));\n",
       "    }\n",
       "\n",
       "    if(typeof define === \"function\" && define.amd) {\n",
       "      requirejs.config({paths});\n",
       "      require([\"vega-embed\"], displayChart, err => showError(`Error loading script: ${err.message}`));\n",
       "    } else if (typeof vegaEmbed === \"function\") {\n",
       "      displayChart(vegaEmbed);\n",
       "    } else {\n",
       "      loadScript(\"vega\")\n",
       "        .then(() => loadScript(\"vega-lite\"))\n",
       "        .then(() => loadScript(\"vega-embed\"))\n",
       "        .catch(showError)\n",
       "        .then(() => displayChart(vegaEmbed));\n",
       "    }\n",
       "  })({\"config\": {\"view\": {\"continuousWidth\": 400, \"continuousHeight\": 300}}, \"layer\": [{\"mark\": \"bar\", \"encoding\": {\"x\": {\"type\": \"quantitative\", \"axis\": {\"format\": \".0%\"}, \"field\": \"percent\"}, \"y\": {\"type\": \"nominal\", \"field\": \"emotion\", \"sort\": \"-x\"}}, \"title\": \"Most frequently selected labels | n = 14364\"}, {\"mark\": {\"type\": \"text\", \"align\": \"left\", \"baseline\": \"middle\", \"dx\": 3, \"fontSize\": 10}, \"encoding\": {\"text\": {\"type\": \"quantitative\", \"field\": \"percent\", \"format\": \".2%\"}, \"x\": {\"type\": \"quantitative\", \"axis\": {\"format\": \".0%\"}, \"field\": \"percent\"}, \"y\": {\"type\": \"nominal\", \"field\": \"emotion\", \"sort\": \"-x\"}}, \"title\": \"Most frequently selected labels | n = 14364\"}], \"data\": {\"name\": \"data-bb1cee6000133b7c6ce961b50c4bc829\"}, \"height\": 500, \"width\": 300, \"$schema\": \"https://vega.github.io/schema/vega-lite/v4.8.1.json\", \"datasets\": {\"data-bb1cee6000133b7c6ce961b50c4bc829\": [{\"counts\": 1403, \"emotion\": \"happi\", \"percent\": 0.09767474241158451}, {\"counts\": 1129, \"emotion\": \"sad\", \"percent\": 0.07859927596769702}, {\"counts\": 711, \"emotion\": \"angri\", \"percent\": 0.04949874686716792}, {\"counts\": 633, \"emotion\": \"confus\", \"percent\": 0.04406850459482038}, {\"counts\": 588, \"emotion\": \"shock\", \"percent\": 0.04093567251461988}, {\"counts\": 529, \"emotion\": \"surpris\", \"percent\": 0.03682818156502367}, {\"counts\": 499, \"emotion\": \"upset\", \"percent\": 0.03473962684489}, {\"counts\": 403, \"emotion\": \"mad\", \"percent\": 0.028056251740462265}, {\"counts\": 400, \"emotion\": \"disgust\", \"percent\": 0.0278473962684489}, {\"counts\": 350, \"emotion\": \"scare\", \"percent\": 0.024366471734892786}, {\"counts\": 327, \"emotion\": \"none\", \"percent\": 0.022765246449456975}, {\"counts\": 303, \"emotion\": \"excit\", \"percent\": 0.02109440267335004}, {\"counts\": 296, \"emotion\": \"silli\", \"percent\": 0.020607073238652185}, {\"counts\": 280, \"emotion\": \"content\", \"percent\": 0.01949317738791423}, {\"counts\": 176, \"emotion\": \"annoy\", \"percent\": 0.012252854358117515}, {\"counts\": 164, \"emotion\": \"calm\", \"percent\": 0.011417432470064048}, {\"counts\": 161, \"emotion\": \"goofi\", \"percent\": 0.011208576998050682}, {\"counts\": 158, \"emotion\": \"seriou\", \"percent\": 0.010999721526037315}, {\"counts\": 157, \"emotion\": \"unhappi\", \"percent\": 0.010930103035366193}, {\"counts\": 131, \"emotion\": \"bore\", \"percent\": 0.009120022277917014}, {\"counts\": 126, \"emotion\": \"worri\", \"percent\": 0.008771929824561403}, {\"counts\": 125, \"emotion\": \"funni\", \"percent\": 0.00870231133389028}, {\"counts\": 122, \"emotion\": \"unpleas\", \"percent\": 0.008493455861876914}, {\"counts\": 117, \"emotion\": \"supris\", \"percent\": 0.008145363408521303}, {\"counts\": 110, \"emotion\": \"smile\", \"percent\": 0.007658033973823447}, {\"counts\": 109, \"emotion\": \"cri\", \"percent\": 0.007588415483152325}, {\"counts\": 101, \"emotion\": \"uncomfort\", \"percent\": 0.007031467557783347}, {\"counts\": 96, \"emotion\": \"frustrat\", \"percent\": 0.006683375104427736}, {\"counts\": 92, \"emotion\": \"disappoint\", \"percent\": 0.006404901141743247}, {\"counts\": 80, \"emotion\": \"concern\", \"percent\": 0.00556947925368978}, {\"counts\": 74, \"emotion\": \"interest\", \"percent\": 0.005151768309663046}, {\"counts\": 71, \"emotion\": \"focus\", \"percent\": 0.0049429128376496795}, {\"counts\": 70, \"emotion\": \"intrigu\", \"percent\": 0.004873294346978557}, {\"counts\": 67, \"emotion\": \"play\", \"percent\": 0.0046644388749651905}, {\"counts\": 67, \"emotion\": \"blank\", \"percent\": 0.0046644388749651905}, {\"counts\": 66, \"emotion\": \"tire\", \"percent\": 0.004594820384294068}, {\"counts\": 65, \"emotion\": \"stare\", \"percent\": 0.004525201893622946}, {\"counts\": 60, \"emotion\": \"curiou\", \"percent\": 0.004177109440267335}, {\"counts\": 57, \"emotion\": \"pleas\", \"percent\": 0.003968253968253968}, {\"counts\": 54, \"emotion\": \"bad\", \"percent\": 0.0037593984962406013}, {\"counts\": 53, \"emotion\": \"regret\", \"percent\": 0.003689780005569479}, {\"counts\": 52, \"emotion\": \"cute\", \"percent\": 0.003620161514898357}, {\"counts\": 52, \"emotion\": \"confid\", \"percent\": 0.003620161514898357}, {\"counts\": 51, \"emotion\": \"indiffer\", \"percent\": 0.0035505430242272346}, {\"counts\": 51, \"emotion\": \"chill\", \"percent\": 0.0035505430242272346}, {\"counts\": 50, \"emotion\": \"crazi\", \"percent\": 0.0034809245335561123}, {\"counts\": 46, \"emotion\": \"guilti\", \"percent\": 0.0032024505708716233}, {\"counts\": 45, \"emotion\": \"pose\", \"percent\": 0.003132832080200501}, {\"counts\": 44, \"emotion\": \"displeas\", \"percent\": 0.003063213589529379}, {\"counts\": 42, \"emotion\": \"hate\", \"percent\": 0.0029239766081871343}]}}, {\"mode\": \"vega-lite\"});\n",
       "</script>"
      ],
      "text/plain": [
       "alt.LayerChart(...)"
      ]
     },
     "execution_count": 28,
     "metadata": {},
     "output_type": "execute_result"
    }
   ],
   "source": [
    "df_emo_overall = count_freq_labels(df_stack_single_word, 'emotion_ps_steamed')\n",
    "simple_per_bar(df_emo_overall, 'percent:Q', 'emotion:N', width=300, height=500, top=50, title='Most frequently selected labels | n = '+df_emo_overall['counts'].sum().astype(str))"
   ]
  },
  {
   "cell_type": "code",
   "execution_count": 29,
   "id": "842cf737-814a-4a7c-aedc-63be2f6618c3",
   "metadata": {},
   "outputs": [
    {
     "data": {
      "text/html": [
       "\n",
       "<div id=\"altair-viz-9103bc2434f7406690da97b62bce6f11\"></div>\n",
       "<script type=\"text/javascript\">\n",
       "  (function(spec, embedOpt){\n",
       "    let outputDiv = document.currentScript.previousElementSibling;\n",
       "    if (outputDiv.id !== \"altair-viz-9103bc2434f7406690da97b62bce6f11\") {\n",
       "      outputDiv = document.getElementById(\"altair-viz-9103bc2434f7406690da97b62bce6f11\");\n",
       "    }\n",
       "    const paths = {\n",
       "      \"vega\": \"https://cdn.jsdelivr.net/npm//vega@5?noext\",\n",
       "      \"vega-lib\": \"https://cdn.jsdelivr.net/npm//vega-lib?noext\",\n",
       "      \"vega-lite\": \"https://cdn.jsdelivr.net/npm//vega-lite@4.8.1?noext\",\n",
       "      \"vega-embed\": \"https://cdn.jsdelivr.net/npm//vega-embed@6?noext\",\n",
       "    };\n",
       "\n",
       "    function loadScript(lib) {\n",
       "      return new Promise(function(resolve, reject) {\n",
       "        var s = document.createElement('script');\n",
       "        s.src = paths[lib];\n",
       "        s.async = true;\n",
       "        s.onload = () => resolve(paths[lib]);\n",
       "        s.onerror = () => reject(`Error loading script: ${paths[lib]}`);\n",
       "        document.getElementsByTagName(\"head\")[0].appendChild(s);\n",
       "      });\n",
       "    }\n",
       "\n",
       "    function showError(err) {\n",
       "      outputDiv.innerHTML = `<div class=\"error\" style=\"color:red;\">${err}</div>`;\n",
       "      throw err;\n",
       "    }\n",
       "\n",
       "    function displayChart(vegaEmbed) {\n",
       "      vegaEmbed(outputDiv, spec, embedOpt)\n",
       "        .catch(err => showError(`Javascript Error: ${err.message}<br>This usually means there's a typo in your chart specification. See the javascript console for the full traceback.`));\n",
       "    }\n",
       "\n",
       "    if(typeof define === \"function\" && define.amd) {\n",
       "      requirejs.config({paths});\n",
       "      require([\"vega-embed\"], displayChart, err => showError(`Error loading script: ${err.message}`));\n",
       "    } else if (typeof vegaEmbed === \"function\") {\n",
       "      displayChart(vegaEmbed);\n",
       "    } else {\n",
       "      loadScript(\"vega\")\n",
       "        .then(() => loadScript(\"vega-lite\"))\n",
       "        .then(() => loadScript(\"vega-embed\"))\n",
       "        .catch(showError)\n",
       "        .then(() => displayChart(vegaEmbed));\n",
       "    }\n",
       "  })({\"config\": {\"view\": {\"continuousWidth\": 400, \"continuousHeight\": 300}}, \"layer\": [{\"mark\": \"bar\", \"encoding\": {\"x\": {\"type\": \"quantitative\", \"field\": \"counts\"}, \"y\": {\"type\": \"nominal\", \"field\": \"emotion\", \"sort\": \"-x\"}}, \"title\": \"Most frequently selected labels | n = 14364\"}, {\"mark\": {\"type\": \"text\", \"align\": \"left\", \"baseline\": \"middle\", \"dx\": 3, \"fontSize\": 10}, \"encoding\": {\"text\": {\"type\": \"quantitative\", \"field\": \"counts\"}, \"x\": {\"type\": \"quantitative\", \"field\": \"counts\"}, \"y\": {\"type\": \"nominal\", \"field\": \"emotion\", \"sort\": \"-x\"}}, \"title\": \"Most frequently selected labels | n = 14364\"}], \"data\": {\"name\": \"data-18886bbe634ba6358f6537708c84860f\"}, \"height\": 300, \"width\": 300, \"$schema\": \"https://vega.github.io/schema/vega-lite/v4.8.1.json\", \"datasets\": {\"data-18886bbe634ba6358f6537708c84860f\": [{\"counts\": 1403, \"emotion\": \"happi\", \"percent\": 0.09767474241158451}, {\"counts\": 1129, \"emotion\": \"sad\", \"percent\": 0.07859927596769702}, {\"counts\": 711, \"emotion\": \"angri\", \"percent\": 0.04949874686716792}, {\"counts\": 633, \"emotion\": \"confus\", \"percent\": 0.04406850459482038}, {\"counts\": 588, \"emotion\": \"shock\", \"percent\": 0.04093567251461988}, {\"counts\": 529, \"emotion\": \"surpris\", \"percent\": 0.03682818156502367}, {\"counts\": 499, \"emotion\": \"upset\", \"percent\": 0.03473962684489}, {\"counts\": 403, \"emotion\": \"mad\", \"percent\": 0.028056251740462265}, {\"counts\": 400, \"emotion\": \"disgust\", \"percent\": 0.0278473962684489}, {\"counts\": 350, \"emotion\": \"scare\", \"percent\": 0.024366471734892786}, {\"counts\": 327, \"emotion\": \"none\", \"percent\": 0.022765246449456975}, {\"counts\": 303, \"emotion\": \"excit\", \"percent\": 0.02109440267335004}, {\"counts\": 296, \"emotion\": \"silli\", \"percent\": 0.020607073238652185}, {\"counts\": 280, \"emotion\": \"content\", \"percent\": 0.01949317738791423}, {\"counts\": 176, \"emotion\": \"annoy\", \"percent\": 0.012252854358117515}, {\"counts\": 164, \"emotion\": \"calm\", \"percent\": 0.011417432470064048}, {\"counts\": 161, \"emotion\": \"goofi\", \"percent\": 0.011208576998050682}, {\"counts\": 158, \"emotion\": \"seriou\", \"percent\": 0.010999721526037315}, {\"counts\": 157, \"emotion\": \"unhappi\", \"percent\": 0.010930103035366193}, {\"counts\": 131, \"emotion\": \"bore\", \"percent\": 0.009120022277917014}]}}, {\"mode\": \"vega-lite\"});\n",
       "</script>"
      ],
      "text/plain": [
       "alt.LayerChart(...)"
      ]
     },
     "execution_count": 29,
     "metadata": {},
     "output_type": "execute_result"
    }
   ],
   "source": [
    "simple_count_bar(df_emo_overall, 'counts:Q', 'emotion:N', top=20, title='Most frequently selected labels | n = '+df_emo_overall['counts'].sum().astype(str))"
   ]
  },
  {
   "cell_type": "markdown",
   "id": "4e3eaddf-437e-419a-a980-764acbf78fbe",
   "metadata": {},
   "source": [
    "## Most frequently used word for each emotion category (grouping pictures by expected-emotion)"
   ]
  },
  {
   "cell_type": "code",
   "execution_count": 30,
   "id": "909288ea-8571-461f-a7af-f21051b7e524",
   "metadata": {},
   "outputs": [],
   "source": [
    "def df_add_label(df_emo_answers, emotion_label):\n",
    "    df_emo_cat = df_emo_answers.copy() \n",
    "    df_emo_cat_t = df_emo_cat.T # transpose\n",
    "    df_emo_cat_t['photo_id'] = df_emo_cat_t.index # get index as col\n",
    "    df_emo_cat_t = df_emo_cat_t.reset_index(drop=True) # clean index\n",
    "    df_emo_cat_t_labels = pd.concat([df_emo_cat_t, df_labels], axis=1) # add metadata cols\n",
    "    df_label =  df_emo_cat_t_labels[df_emo_cat_t_labels['label'] == emotion_label]\n",
    "    \n",
    "    return df_label"
   ]
  },
  {
   "cell_type": "code",
   "execution_count": 31,
   "id": "24517f07-7395-4d75-b84c-6fe547ff9697",
   "metadata": {},
   "outputs": [],
   "source": [
    "    df_emotion = df_add_label(df, 'anger') # subset 'emotion' rows\n",
    "    df_emotion_ans = df_emotion.drop(['photo_id', 'ethnicity', 'sex','age', 'label'], axis=1)\n",
    "    df_stack_emotion = formating_words(df_emotion_ans) # clean up\n",
    "    # df_stack_anger['emotion_spell_check'] = df_stack_single_word['emotion'].apply(lambda x: suggest(x)[0][0])\n",
    "    df_stack_emotion['emotion_ps_steamed'] = df_stack_emotion['emotion'].apply(lambda x: ps.stem(x)) #steam\n",
    "    df_stack_emotion_count = count_freq_labels(df_stack_emotion, 'emotion_ps_steamed')"
   ]
  },
  {
   "cell_type": "code",
   "execution_count": 32,
   "id": "a7fc453b-ba15-4550-bddf-dbac0ba10f77",
   "metadata": {},
   "outputs": [],
   "source": [
    "def chart_wrapper(df, emotion, title):\n",
    "    df_emotion = df_add_label(df, emotion) # subset 'emotion' rows\n",
    "    df_emotion_ans = df_emotion.drop(['photo_id', 'ethnicity', 'sex','age', 'label'], axis=1)\n",
    "    df_stack_emotion = formating_words(df_emotion_ans) # clean up\n",
    "    # df_stack_anger['emotion_spell_check'] = df_stack_single_word['emotion'].apply(lambda x: suggest(x)[0][0])\n",
    "    df_stack_emotion['emotion_ps_steamed'] = df_stack_emotion['emotion'].apply(lambda x: ps.stem(x)) #steam\n",
    "    df_stack_emotion_count = count_freq_labels(df_stack_emotion, 'emotion_ps_steamed')\n",
    "    n = df_stack_emotion_count['counts'].sum()    \n",
    "    chart = simple_per_bar(df_stack_emotion_count, 'percent:Q', 'emotion:N', top=20, title=title+\" | n= \"+n.astype(str))\n",
    "    \n",
    "    return chart"
   ]
  },
  {
   "cell_type": "markdown",
   "id": "3063a6b1-451b-4cd9-be19-20a982a8b92a",
   "metadata": {},
   "source": [
    "### Charts"
   ]
  },
  {
   "cell_type": "code",
   "execution_count": 33,
   "id": "b9602f82-6520-4eea-abd4-6cf2a4a4c438",
   "metadata": {},
   "outputs": [],
   "source": [
    "chart_anger = chart_wrapper(df_emo_answers, 'anger', 'Expected label: '+ ' anger')\n",
    "chart_disgust = chart_wrapper(df_emo_answers, 'disgust', 'Expected label: '+ ' disgust')\n",
    "chart_fear = chart_wrapper(df_emo_answers, 'fear', 'Expected label: '+ ' fear')\n",
    "chart_surprise = chart_wrapper(df_emo_answers, 'surprise', 'Expected label: '+ ' surprise')\n",
    "chart_happiness = chart_wrapper(df_emo_answers, 'happiness', 'Expected label: '+ ' happiness')\n",
    "chart_sadness = chart_wrapper(df_emo_answers, 'sadness', 'Expected label: '+ ' sadness')\n",
    "chart_uncertain = chart_wrapper(df_emo_answers, 'uncertain', 'Expected label: '+ ' uncertain')\n",
    "chart_neutral = chart_wrapper(df_emo_answers, 'neutral', 'Expected label: '+ ' neutral')"
   ]
  },
  {
   "cell_type": "code",
   "execution_count": 34,
   "id": "a80e0a0c-341d-4661-9937-e7a0949fb607",
   "metadata": {},
   "outputs": [
    {
     "data": {
      "text/html": [
       "\n",
       "<div id=\"altair-viz-a763fa9d7a6f408f9fd85675ade26016\"></div>\n",
       "<script type=\"text/javascript\">\n",
       "  (function(spec, embedOpt){\n",
       "    let outputDiv = document.currentScript.previousElementSibling;\n",
       "    if (outputDiv.id !== \"altair-viz-a763fa9d7a6f408f9fd85675ade26016\") {\n",
       "      outputDiv = document.getElementById(\"altair-viz-a763fa9d7a6f408f9fd85675ade26016\");\n",
       "    }\n",
       "    const paths = {\n",
       "      \"vega\": \"https://cdn.jsdelivr.net/npm//vega@5?noext\",\n",
       "      \"vega-lib\": \"https://cdn.jsdelivr.net/npm//vega-lib?noext\",\n",
       "      \"vega-lite\": \"https://cdn.jsdelivr.net/npm//vega-lite@4.8.1?noext\",\n",
       "      \"vega-embed\": \"https://cdn.jsdelivr.net/npm//vega-embed@6?noext\",\n",
       "    };\n",
       "\n",
       "    function loadScript(lib) {\n",
       "      return new Promise(function(resolve, reject) {\n",
       "        var s = document.createElement('script');\n",
       "        s.src = paths[lib];\n",
       "        s.async = true;\n",
       "        s.onload = () => resolve(paths[lib]);\n",
       "        s.onerror = () => reject(`Error loading script: ${paths[lib]}`);\n",
       "        document.getElementsByTagName(\"head\")[0].appendChild(s);\n",
       "      });\n",
       "    }\n",
       "\n",
       "    function showError(err) {\n",
       "      outputDiv.innerHTML = `<div class=\"error\" style=\"color:red;\">${err}</div>`;\n",
       "      throw err;\n",
       "    }\n",
       "\n",
       "    function displayChart(vegaEmbed) {\n",
       "      vegaEmbed(outputDiv, spec, embedOpt)\n",
       "        .catch(err => showError(`Javascript Error: ${err.message}<br>This usually means there's a typo in your chart specification. See the javascript console for the full traceback.`));\n",
       "    }\n",
       "\n",
       "    if(typeof define === \"function\" && define.amd) {\n",
       "      requirejs.config({paths});\n",
       "      require([\"vega-embed\"], displayChart, err => showError(`Error loading script: ${err.message}`));\n",
       "    } else if (typeof vegaEmbed === \"function\") {\n",
       "      displayChart(vegaEmbed);\n",
       "    } else {\n",
       "      loadScript(\"vega\")\n",
       "        .then(() => loadScript(\"vega-lite\"))\n",
       "        .then(() => loadScript(\"vega-embed\"))\n",
       "        .catch(showError)\n",
       "        .then(() => displayChart(vegaEmbed));\n",
       "    }\n",
       "  })({\"config\": {\"view\": {\"continuousWidth\": 400, \"continuousHeight\": 300}}, \"vconcat\": [{\"hconcat\": [{\"layer\": [{\"mark\": \"bar\", \"encoding\": {\"x\": {\"type\": \"quantitative\", \"axis\": {\"format\": \".0%\"}, \"field\": \"percent\"}, \"y\": {\"type\": \"nominal\", \"field\": \"emotion\", \"sort\": \"-x\"}}, \"title\": \"Expected label:  anger | n= 1882\"}, {\"mark\": {\"type\": \"text\", \"align\": \"left\", \"baseline\": \"middle\", \"dx\": 3, \"fontSize\": 10}, \"encoding\": {\"text\": {\"type\": \"quantitative\", \"field\": \"percent\", \"format\": \".2%\"}, \"x\": {\"type\": \"quantitative\", \"axis\": {\"format\": \".0%\"}, \"field\": \"percent\"}, \"y\": {\"type\": \"nominal\", \"field\": \"emotion\", \"sort\": \"-x\"}}, \"title\": \"Expected label:  anger | n= 1882\"}], \"data\": {\"name\": \"data-47c3730addeed9f7b34dd60eef7b20de\"}, \"height\": 300, \"width\": 300}, {\"layer\": [{\"mark\": \"bar\", \"encoding\": {\"x\": {\"type\": \"quantitative\", \"axis\": {\"format\": \".0%\"}, \"field\": \"percent\"}, \"y\": {\"type\": \"nominal\", \"field\": \"emotion\", \"sort\": \"-x\"}}, \"title\": \"Expected label:  disgust | n= 1859\"}, {\"mark\": {\"type\": \"text\", \"align\": \"left\", \"baseline\": \"middle\", \"dx\": 3, \"fontSize\": 10}, \"encoding\": {\"text\": {\"type\": \"quantitative\", \"field\": \"percent\", \"format\": \".2%\"}, \"x\": {\"type\": \"quantitative\", \"axis\": {\"format\": \".0%\"}, \"field\": \"percent\"}, \"y\": {\"type\": \"nominal\", \"field\": \"emotion\", \"sort\": \"-x\"}}, \"title\": \"Expected label:  disgust | n= 1859\"}], \"data\": {\"name\": \"data-ab787a3f7be1749dd0400d29215e1a19\"}, \"height\": 300, \"width\": 300}]}, {\"hconcat\": [{\"layer\": [{\"mark\": \"bar\", \"encoding\": {\"x\": {\"type\": \"quantitative\", \"axis\": {\"format\": \".0%\"}, \"field\": \"percent\"}, \"y\": {\"type\": \"nominal\", \"field\": \"emotion\", \"sort\": \"-x\"}}, \"title\": \"Expected label:  fear | n= 1968\"}, {\"mark\": {\"type\": \"text\", \"align\": \"left\", \"baseline\": \"middle\", \"dx\": 3, \"fontSize\": 10}, \"encoding\": {\"text\": {\"type\": \"quantitative\", \"field\": \"percent\", \"format\": \".2%\"}, \"x\": {\"type\": \"quantitative\", \"axis\": {\"format\": \".0%\"}, \"field\": \"percent\"}, \"y\": {\"type\": \"nominal\", \"field\": \"emotion\", \"sort\": \"-x\"}}, \"title\": \"Expected label:  fear | n= 1968\"}], \"data\": {\"name\": \"data-26d1fc5be44cbd5c66ce8b75a0a352e8\"}, \"height\": 300, \"width\": 300}, {\"layer\": [{\"mark\": \"bar\", \"encoding\": {\"x\": {\"type\": \"quantitative\", \"axis\": {\"format\": \".0%\"}, \"field\": \"percent\"}, \"y\": {\"type\": \"nominal\", \"field\": \"emotion\", \"sort\": \"-x\"}}, \"title\": \"Expected label:  surprise | n= 1922\"}, {\"mark\": {\"type\": \"text\", \"align\": \"left\", \"baseline\": \"middle\", \"dx\": 3, \"fontSize\": 10}, \"encoding\": {\"text\": {\"type\": \"quantitative\", \"field\": \"percent\", \"format\": \".2%\"}, \"x\": {\"type\": \"quantitative\", \"axis\": {\"format\": \".0%\"}, \"field\": \"percent\"}, \"y\": {\"type\": \"nominal\", \"field\": \"emotion\", \"sort\": \"-x\"}}, \"title\": \"Expected label:  surprise | n= 1922\"}], \"data\": {\"name\": \"data-72c0b522fa477c37d144ad11e2a86f05\"}, \"height\": 300, \"width\": 300}]}, {\"hconcat\": [{\"layer\": [{\"mark\": \"bar\", \"encoding\": {\"x\": {\"type\": \"quantitative\", \"axis\": {\"format\": \".0%\"}, \"field\": \"percent\"}, \"y\": {\"type\": \"nominal\", \"field\": \"emotion\", \"sort\": \"-x\"}}, \"title\": \"Expected label:  happiness | n= 1889\"}, {\"mark\": {\"type\": \"text\", \"align\": \"left\", \"baseline\": \"middle\", \"dx\": 3, \"fontSize\": 10}, \"encoding\": {\"text\": {\"type\": \"quantitative\", \"field\": \"percent\", \"format\": \".2%\"}, \"x\": {\"type\": \"quantitative\", \"axis\": {\"format\": \".0%\"}, \"field\": \"percent\"}, \"y\": {\"type\": \"nominal\", \"field\": \"emotion\", \"sort\": \"-x\"}}, \"title\": \"Expected label:  happiness | n= 1889\"}], \"data\": {\"name\": \"data-3d4648088be7417b41f02866eb216c72\"}, \"height\": 300, \"width\": 300}, {\"layer\": [{\"mark\": \"bar\", \"encoding\": {\"x\": {\"type\": \"quantitative\", \"axis\": {\"format\": \".0%\"}, \"field\": \"percent\"}, \"y\": {\"type\": \"nominal\", \"field\": \"emotion\", \"sort\": \"-x\"}}, \"title\": \"Expected label:  sadness | n= 2006\"}, {\"mark\": {\"type\": \"text\", \"align\": \"left\", \"baseline\": \"middle\", \"dx\": 3, \"fontSize\": 10}, \"encoding\": {\"text\": {\"type\": \"quantitative\", \"field\": \"percent\", \"format\": \".2%\"}, \"x\": {\"type\": \"quantitative\", \"axis\": {\"format\": \".0%\"}, \"field\": \"percent\"}, \"y\": {\"type\": \"nominal\", \"field\": \"emotion\", \"sort\": \"-x\"}}, \"title\": \"Expected label:  sadness | n= 2006\"}], \"data\": {\"name\": \"data-39f6e781a069fafd85d8fc646143b865\"}, \"height\": 300, \"width\": 300}]}, {\"hconcat\": [{\"layer\": [{\"mark\": \"bar\", \"encoding\": {\"x\": {\"type\": \"quantitative\", \"axis\": {\"format\": \".0%\"}, \"field\": \"percent\"}, \"y\": {\"type\": \"nominal\", \"field\": \"emotion\", \"sort\": \"-x\"}}, \"title\": \"Expected label:  neutral | n= 1662\"}, {\"mark\": {\"type\": \"text\", \"align\": \"left\", \"baseline\": \"middle\", \"dx\": 3, \"fontSize\": 10}, \"encoding\": {\"text\": {\"type\": \"quantitative\", \"field\": \"percent\", \"format\": \".2%\"}, \"x\": {\"type\": \"quantitative\", \"axis\": {\"format\": \".0%\"}, \"field\": \"percent\"}, \"y\": {\"type\": \"nominal\", \"field\": \"emotion\", \"sort\": \"-x\"}}, \"title\": \"Expected label:  neutral | n= 1662\"}], \"data\": {\"name\": \"data-00f2e6dde62ac15cf82f613a6841b47a\"}, \"height\": 300, \"width\": 300}, {\"layer\": [{\"mark\": \"bar\", \"encoding\": {\"x\": {\"type\": \"quantitative\", \"axis\": {\"format\": \".0%\"}, \"field\": \"percent\"}, \"y\": {\"type\": \"nominal\", \"field\": \"emotion\", \"sort\": \"-x\"}}, \"title\": \"Expected label:  uncertain | n= 1770\"}, {\"mark\": {\"type\": \"text\", \"align\": \"left\", \"baseline\": \"middle\", \"dx\": 3, \"fontSize\": 10}, \"encoding\": {\"text\": {\"type\": \"quantitative\", \"field\": \"percent\", \"format\": \".2%\"}, \"x\": {\"type\": \"quantitative\", \"axis\": {\"format\": \".0%\"}, \"field\": \"percent\"}, \"y\": {\"type\": \"nominal\", \"field\": \"emotion\", \"sort\": \"-x\"}}, \"title\": \"Expected label:  uncertain | n= 1770\"}], \"data\": {\"name\": \"data-fc304bb44a3e4b779d64acc75d8e82ed\"}, \"height\": 300, \"width\": 300}]}], \"$schema\": \"https://vega.github.io/schema/vega-lite/v4.8.1.json\", \"datasets\": {\"data-47c3730addeed9f7b34dd60eef7b20de\": [{\"counts\": 408, \"emotion\": \"angri\", \"percent\": 0.21679064824654623}, {\"counts\": 191, \"emotion\": \"mad\", \"percent\": 0.10148777895855472}, {\"counts\": 120, \"emotion\": \"upset\", \"percent\": 0.06376195536663125}, {\"counts\": 72, \"emotion\": \"confus\", \"percent\": 0.03825717321997875}, {\"counts\": 65, \"emotion\": \"sad\", \"percent\": 0.03453772582359192}, {\"counts\": 61, \"emotion\": \"seriou\", \"percent\": 0.032412327311370885}, {\"counts\": 42, \"emotion\": \"frustrat\", \"percent\": 0.022316684378320937}, {\"counts\": 40, \"emotion\": \"none\", \"percent\": 0.021253985122210415}, {\"counts\": 35, \"emotion\": \"annoy\", \"percent\": 0.018597236981934114}, {\"counts\": 26, \"emotion\": \"silli\", \"percent\": 0.01381509032943677}, {\"counts\": 24, \"emotion\": \"anger\", \"percent\": 0.012752391073326248}, {\"counts\": 21, \"emotion\": \"disappoint\", \"percent\": 0.011158342189160468}, {\"counts\": 18, \"emotion\": \"unhappi\", \"percent\": 0.009564293304994687}, {\"counts\": 18, \"emotion\": \"happi\", \"percent\": 0.009564293304994687}, {\"counts\": 17, \"emotion\": \"disgust\", \"percent\": 0.009032943676939426}, {\"counts\": 16, \"emotion\": \"focus\", \"percent\": 0.008501594048884165}, {\"counts\": 15, \"emotion\": \"unpleas\", \"percent\": 0.007970244420828906}, {\"counts\": 14, \"emotion\": \"frustur\", \"percent\": 0.007438894792773645}, {\"counts\": 13, \"emotion\": \"concern\", \"percent\": 0.006907545164718385}, {\"counts\": 13, \"emotion\": \"calm\", \"percent\": 0.006907545164718385}], \"data-ab787a3f7be1749dd0400d29215e1a19\": [{\"counts\": 286, \"emotion\": \"disgust\", \"percent\": 0.15384615384615385}, {\"counts\": 153, \"emotion\": \"confus\", \"percent\": 0.08230231307154384}, {\"counts\": 117, \"emotion\": \"angri\", \"percent\": 0.06293706293706294}, {\"counts\": 90, \"emotion\": \"mad\", \"percent\": 0.04841312533620226}, {\"counts\": 69, \"emotion\": \"silli\", \"percent\": 0.037116729424421735}, {\"counts\": 66, \"emotion\": \"upset\", \"percent\": 0.03550295857988166}, {\"counts\": 54, \"emotion\": \"happi\", \"percent\": 0.029047875201721356}, {\"counts\": 51, \"emotion\": \"annoy\", \"percent\": 0.027434104357181282}, {\"counts\": 44, \"emotion\": \"shock\", \"percent\": 0.023668639053254437}, {\"counts\": 38, \"emotion\": \"sad\", \"percent\": 0.020441097364174286}, {\"counts\": 34, \"emotion\": \"none\", \"percent\": 0.01828940290478752}, {\"counts\": 31, \"emotion\": \"surpris\", \"percent\": 0.016675632060247445}, {\"counts\": 29, \"emotion\": \"goofi\", \"percent\": 0.015599784830554062}, {\"counts\": 24, \"emotion\": \"scare\", \"percent\": 0.012910166756320602}, {\"counts\": 22, \"emotion\": \"funni\", \"percent\": 0.011834319526627219}, {\"counts\": 22, \"emotion\": \"unhappi\", \"percent\": 0.011834319526627219}, {\"counts\": 20, \"emotion\": \"gross\", \"percent\": 0.010758472296933835}, {\"counts\": 18, \"emotion\": \"unpleas\", \"percent\": 0.009682625067240451}, {\"counts\": 18, \"emotion\": \"sour\", \"percent\": 0.009682625067240451}, {\"counts\": 16, \"emotion\": \"play\", \"percent\": 0.008606777837547068}], \"data-26d1fc5be44cbd5c66ce8b75a0a352e8\": [{\"counts\": 227, \"emotion\": \"shock\", \"percent\": 0.11534552845528455}, {\"counts\": 202, \"emotion\": \"scare\", \"percent\": 0.10264227642276423}, {\"counts\": 160, \"emotion\": \"sad\", \"percent\": 0.08130081300813008}, {\"counts\": 156, \"emotion\": \"surpris\", \"percent\": 0.07926829268292683}, {\"counts\": 101, \"emotion\": \"confus\", \"percent\": 0.051321138211382115}, {\"counts\": 69, \"emotion\": \"upset\", \"percent\": 0.0350609756097561}, {\"counts\": 61, \"emotion\": \"disgust\", \"percent\": 0.030995934959349592}, {\"counts\": 54, \"emotion\": \"excit\", \"percent\": 0.027439024390243903}, {\"counts\": 54, \"emotion\": \"happi\", \"percent\": 0.027439024390243903}, {\"counts\": 51, \"emotion\": \"worri\", \"percent\": 0.025914634146341462}, {\"counts\": 37, \"emotion\": \"supris\", \"percent\": 0.018800813008130083}, {\"counts\": 32, \"emotion\": \"none\", \"percent\": 0.016260162601626018}, {\"counts\": 27, \"emotion\": \"silli\", \"percent\": 0.013719512195121951}, {\"counts\": 26, \"emotion\": \"angri\", \"percent\": 0.013211382113821139}, {\"counts\": 19, \"emotion\": \"cri\", \"percent\": 0.009654471544715448}, {\"counts\": 19, \"emotion\": \"fear\", \"percent\": 0.009654471544715448}, {\"counts\": 18, \"emotion\": \"concern\", \"percent\": 0.009146341463414634}, {\"counts\": 17, \"emotion\": \"mad\", \"percent\": 0.008638211382113821}, {\"counts\": 16, \"emotion\": \"funni\", \"percent\": 0.008130081300813009}, {\"counts\": 16, \"emotion\": \"frighten\", \"percent\": 0.008130081300813009}], \"data-72c0b522fa477c37d144ad11e2a86f05\": [{\"counts\": 273, \"emotion\": \"surpris\", \"percent\": 0.14203954214360043}, {\"counts\": 254, \"emotion\": \"shock\", \"percent\": 0.13215400624349635}, {\"counts\": 198, \"emotion\": \"happi\", \"percent\": 0.10301768990634755}, {\"counts\": 99, \"emotion\": \"confus\", \"percent\": 0.051508844953173774}, {\"counts\": 93, \"emotion\": \"excit\", \"percent\": 0.04838709677419355}, {\"counts\": 61, \"emotion\": \"scare\", \"percent\": 0.03173777315296566}, {\"counts\": 51, \"emotion\": \"supris\", \"percent\": 0.026534859521331947}, {\"counts\": 42, \"emotion\": \"silli\", \"percent\": 0.021852237252861603}, {\"counts\": 30, \"emotion\": \"none\", \"percent\": 0.015608740894901144}, {\"counts\": 27, \"emotion\": \"goofi\", \"percent\": 0.01404786680541103}, {\"counts\": 24, \"emotion\": \"funni\", \"percent\": 0.012486992715920915}, {\"counts\": 21, \"emotion\": \"interest\", \"percent\": 0.010926118626430802}, {\"counts\": 20, \"emotion\": \"intrigu\", \"percent\": 0.01040582726326743}, {\"counts\": 20, \"emotion\": \"worri\", \"percent\": 0.01040582726326743}, {\"counts\": 17, \"emotion\": \"unhappi\", \"percent\": 0.008844953173777315}, {\"counts\": 17, \"emotion\": \"sad\", \"percent\": 0.008844953173777315}, {\"counts\": 15, \"emotion\": \"curiou\", \"percent\": 0.007804370447450572}, {\"counts\": 15, \"emotion\": \"amaz\", \"percent\": 0.007804370447450572}, {\"counts\": 15, \"emotion\": \"uncomfort\", \"percent\": 0.007804370447450572}, {\"counts\": 14, \"emotion\": \"unpleas\", \"percent\": 0.007284079084287201}], \"data-3d4648088be7417b41f02866eb216c72\": [{\"counts\": 832, \"emotion\": \"happi\", \"percent\": 0.44044467972472207}, {\"counts\": 121, \"emotion\": \"content\", \"percent\": 0.06405505558496559}, {\"counts\": 112, \"emotion\": \"excit\", \"percent\": 0.059290629962943354}, {\"counts\": 87, \"emotion\": \"smile\", \"percent\": 0.04605611434621493}, {\"counts\": 38, \"emotion\": \"pleas\", \"percent\": 0.02011646373742721}, {\"counts\": 31, \"emotion\": \"calm\", \"percent\": 0.01641079936474325}, {\"counts\": 27, \"emotion\": \"none\", \"percent\": 0.014293276866066702}, {\"counts\": 19, \"emotion\": \"joy\", \"percent\": 0.010058231868713605}, {\"counts\": 17, \"emotion\": \"confid\", \"percent\": 0.008999470619375331}, {\"counts\": 17, \"emotion\": \"cheer\", \"percent\": 0.008999470619375331}, {\"counts\": 15, \"emotion\": \"silli\", \"percent\": 0.007940709370037057}, {\"counts\": 15, \"emotion\": \"unhappi\", \"percent\": 0.007940709370037057}, {\"counts\": 13, \"emotion\": \"proud\", \"percent\": 0.006881948120698782}, {\"counts\": 13, \"emotion\": \"unpleas\", \"percent\": 0.006881948120698782}, {\"counts\": 13, \"emotion\": \"surpris\", \"percent\": 0.006881948120698782}, {\"counts\": 12, \"emotion\": \"uncomfort\", \"percent\": 0.006352567496029645}, {\"counts\": 11, \"emotion\": \"thrill\", \"percent\": 0.005823186871360508}, {\"counts\": 10, \"emotion\": \"teeth\", \"percent\": 0.005293806246691371}, {\"counts\": 10, \"emotion\": \"bore\", \"percent\": 0.005293806246691371}, {\"counts\": 9, \"emotion\": \"grin\", \"percent\": 0.004764425622022234}], \"data-39f6e781a069fafd85d8fc646143b865\": [{\"counts\": 657, \"emotion\": \"sad\", \"percent\": 0.3275174476570289}, {\"counts\": 170, \"emotion\": \"upset\", \"percent\": 0.0847457627118644}, {\"counts\": 67, \"emotion\": \"cri\", \"percent\": 0.03339980059820538}, {\"counts\": 62, \"emotion\": \"angri\", \"percent\": 0.03090727816550349}, {\"counts\": 43, \"emotion\": \"regret\", \"percent\": 0.02143569292123629}, {\"counts\": 39, \"emotion\": \"confus\", \"percent\": 0.019441674975074777}, {\"counts\": 38, \"emotion\": \"mad\", \"percent\": 0.018943170488534396}, {\"counts\": 37, \"emotion\": \"scare\", \"percent\": 0.018444666001994018}, {\"counts\": 32, \"emotion\": \"worri\", \"percent\": 0.015952143569292122}, {\"counts\": 30, \"emotion\": \"disappoint\", \"percent\": 0.014955134596211365}, {\"counts\": 30, \"emotion\": \"none\", \"percent\": 0.014955134596211365}, {\"counts\": 26, \"emotion\": \"hurt\", \"percent\": 0.01296111665004985}, {\"counts\": 26, \"emotion\": \"unhappi\", \"percent\": 0.01296111665004985}, {\"counts\": 23, \"emotion\": \"depress\", \"percent\": 0.011465603190428714}, {\"counts\": 21, \"emotion\": \"distress\", \"percent\": 0.010468594217347957}, {\"counts\": 18, \"emotion\": \"distraught\", \"percent\": 0.00897308075772682}, {\"counts\": 18, \"emotion\": \"tear\", \"percent\": 0.00897308075772682}, {\"counts\": 17, \"emotion\": \"seriou\", \"percent\": 0.00847457627118644}, {\"counts\": 17, \"emotion\": \"unpleas\", \"percent\": 0.00847457627118644}, {\"counts\": 16, \"emotion\": \"disgust\", \"percent\": 0.007976071784646061}], \"data-00f2e6dde62ac15cf82f613a6841b47a\": [{\"counts\": 97, \"emotion\": \"content\", \"percent\": 0.05836341756919374}, {\"counts\": 87, \"emotion\": \"happi\", \"percent\": 0.052346570397111915}, {\"counts\": 79, \"emotion\": \"sad\", \"percent\": 0.04753309265944645}, {\"counts\": 79, \"emotion\": \"calm\", \"percent\": 0.04753309265944645}, {\"counts\": 78, \"emotion\": \"none\", \"percent\": 0.04693140794223827}, {\"counts\": 64, \"emotion\": \"seriou\", \"percent\": 0.03850782190132371}, {\"counts\": 60, \"emotion\": \"confus\", \"percent\": 0.036101083032490974}, {\"counts\": 42, \"emotion\": \"mad\", \"percent\": 0.02527075812274368}, {\"counts\": 42, \"emotion\": \"bore\", \"percent\": 0.02527075812274368}, {\"counts\": 38, \"emotion\": \"blank\", \"percent\": 0.02286401925391095}, {\"counts\": 37, \"emotion\": \"angri\", \"percent\": 0.022262334536702767}, {\"counts\": 36, \"emotion\": \"indiffer\", \"percent\": 0.021660649819494584}, {\"counts\": 27, \"emotion\": \"focus\", \"percent\": 0.016245487364620937}, {\"counts\": 27, \"emotion\": \"tire\", \"percent\": 0.016245487364620937}, {\"counts\": 27, \"emotion\": \"annoy\", \"percent\": 0.016245487364620937}, {\"counts\": 26, \"emotion\": \"stare\", \"percent\": 0.015643802647412757}, {\"counts\": 26, \"emotion\": \"chill\", \"percent\": 0.015643802647412757}, {\"counts\": 24, \"emotion\": \"unhappi\", \"percent\": 0.01444043321299639}, {\"counts\": 23, \"emotion\": \"upset\", \"percent\": 0.013838748495788207}, {\"counts\": 17, \"emotion\": \"normal\", \"percent\": 0.01022864019253911}], \"data-fc304bb44a3e4b779d64acc75d8e82ed\": [{\"counts\": 158, \"emotion\": \"happi\", \"percent\": 0.08926553672316384}, {\"counts\": 114, \"emotion\": \"silli\", \"percent\": 0.06440677966101695}, {\"counts\": 101, \"emotion\": \"confus\", \"percent\": 0.05706214689265537}, {\"counts\": 69, \"emotion\": \"goofi\", \"percent\": 0.03898305084745763}, {\"counts\": 55, \"emotion\": \"none\", \"percent\": 0.031073446327683617}, {\"counts\": 46, \"emotion\": \"funni\", \"percent\": 0.02598870056497175}, {\"counts\": 41, \"emotion\": \"surpris\", \"percent\": 0.023163841807909605}, {\"counts\": 40, \"emotion\": \"angri\", \"percent\": 0.022598870056497175}, {\"counts\": 40, \"emotion\": \"annoy\", \"percent\": 0.022598870056497175}, {\"counts\": 37, \"emotion\": \"sad\", \"percent\": 0.020903954802259886}, {\"counts\": 37, \"emotion\": \"shock\", \"percent\": 0.020903954802259886}, {\"counts\": 30, \"emotion\": \"content\", \"percent\": 0.01694915254237288}, {\"counts\": 27, \"emotion\": \"excit\", \"percent\": 0.015254237288135594}, {\"counts\": 21, \"emotion\": \"bore\", \"percent\": 0.011864406779661017}, {\"counts\": 21, \"emotion\": \"upset\", \"percent\": 0.011864406779661017}, {\"counts\": 19, \"emotion\": \"calm\", \"percent\": 0.010734463276836158}, {\"counts\": 19, \"emotion\": \"crazi\", \"percent\": 0.010734463276836158}, {\"counts\": 18, \"emotion\": \"unhappi\", \"percent\": 0.010169491525423728}, {\"counts\": 18, \"emotion\": \"disappoint\", \"percent\": 0.010169491525423728}, {\"counts\": 17, \"emotion\": \"pose\", \"percent\": 0.0096045197740113}]}}, {\"mode\": \"vega-lite\"});\n",
       "</script>"
      ],
      "text/plain": [
       "alt.VConcatChart(...)"
      ]
     },
     "execution_count": 34,
     "metadata": {},
     "output_type": "execute_result"
    }
   ],
   "source": [
    "(chart_anger | chart_disgust) & (chart_fear | chart_surprise) & (chart_happiness | chart_sadness) & (chart_neutral | chart_uncertain) "
   ]
  },
  {
   "cell_type": "markdown",
   "id": "724515dd-27e3-4c52-bf63-f6633fb5a2ba",
   "metadata": {},
   "source": [
    "### Most frequently used labels by photo"
   ]
  },
  {
   "cell_type": "code",
   "execution_count": 35,
   "id": "9e54fc68-bf4a-4fc2-81f8-a2f3a71388e5",
   "metadata": {},
   "outputs": [],
   "source": [
    "def photo_chart(df_emo_answers, emotion,  i):\n",
    "    df = df_add_label(df_emo_answers, emotion) # add emotion label\n",
    "    photo_id_list = df['photo_id'].tolist() # photo id to list\n",
    "    splited_photo_id = np.array_split(photo_id_list, 24) # split photo id by photo\n",
    "    df = df[df['photo_id'].isin(splited_photo_id[i])] # select photo rows   \n",
    "    df_url = df[['url']].head(1)  # get url for chart\n",
    "    \n",
    "    face = alt.Chart(df_url).mark_image(width=110, height=110, align='right', xOffset=0, yOffset=230).encode(url='url')\n",
    "    \n",
    "    df_emotion_ans = df.drop(['photo_id', 'ethnicity', 'sex', 'age', 'label', 'url'], axis=1) # clean cols\n",
    "    df_stack_emotion = formating_words(df_emotion_ans) # clean up words\n",
    "    df_stack_emotion['emotion_ps_steamed'] = df_stack_emotion['emotion'].apply(lambda x: ps.stem(x)) # steam\n",
    "    df_stack_emotion_count = count_freq_labels(df_stack_emotion, 'emotion_ps_steamed') # group and count\n",
    "    \n",
    "    chart = simple_per_bar(df_stack_emotion_count, 'percent:Q', 'emotion:N', width=300, height=300, top=20, title=\"Expected: \"+\" \"+emotion+\" | n = \"+    df_stack_emotion_count['counts'].sum().astype(str))\n",
    "    \n",
    "    return chart + face"
   ]
  },
  {
   "cell_type": "code",
   "execution_count": 36,
   "id": "e1f8095a-533a-45ab-92e8-91b168c8880e",
   "metadata": {},
   "outputs": [
    {
     "data": {
      "text/html": [
       "\n",
       "<div id=\"altair-viz-b654e696b8014ac9a54d9891e5082166\"></div>\n",
       "<script type=\"text/javascript\">\n",
       "  (function(spec, embedOpt){\n",
       "    let outputDiv = document.currentScript.previousElementSibling;\n",
       "    if (outputDiv.id !== \"altair-viz-b654e696b8014ac9a54d9891e5082166\") {\n",
       "      outputDiv = document.getElementById(\"altair-viz-b654e696b8014ac9a54d9891e5082166\");\n",
       "    }\n",
       "    const paths = {\n",
       "      \"vega\": \"https://cdn.jsdelivr.net/npm//vega@5?noext\",\n",
       "      \"vega-lib\": \"https://cdn.jsdelivr.net/npm//vega-lib?noext\",\n",
       "      \"vega-lite\": \"https://cdn.jsdelivr.net/npm//vega-lite@4.8.1?noext\",\n",
       "      \"vega-embed\": \"https://cdn.jsdelivr.net/npm//vega-embed@6?noext\",\n",
       "    };\n",
       "\n",
       "    function loadScript(lib) {\n",
       "      return new Promise(function(resolve, reject) {\n",
       "        var s = document.createElement('script');\n",
       "        s.src = paths[lib];\n",
       "        s.async = true;\n",
       "        s.onload = () => resolve(paths[lib]);\n",
       "        s.onerror = () => reject(`Error loading script: ${paths[lib]}`);\n",
       "        document.getElementsByTagName(\"head\")[0].appendChild(s);\n",
       "      });\n",
       "    }\n",
       "\n",
       "    function showError(err) {\n",
       "      outputDiv.innerHTML = `<div class=\"error\" style=\"color:red;\">${err}</div>`;\n",
       "      throw err;\n",
       "    }\n",
       "\n",
       "    function displayChart(vegaEmbed) {\n",
       "      vegaEmbed(outputDiv, spec, embedOpt)\n",
       "        .catch(err => showError(`Javascript Error: ${err.message}<br>This usually means there's a typo in your chart specification. See the javascript console for the full traceback.`));\n",
       "    }\n",
       "\n",
       "    if(typeof define === \"function\" && define.amd) {\n",
       "      requirejs.config({paths});\n",
       "      require([\"vega-embed\"], displayChart, err => showError(`Error loading script: ${err.message}`));\n",
       "    } else if (typeof vegaEmbed === \"function\") {\n",
       "      displayChart(vegaEmbed);\n",
       "    } else {\n",
       "      loadScript(\"vega\")\n",
       "        .then(() => loadScript(\"vega-lite\"))\n",
       "        .then(() => loadScript(\"vega-embed\"))\n",
       "        .catch(showError)\n",
       "        .then(() => displayChart(vegaEmbed));\n",
       "    }\n",
       "  })({\"config\": {\"view\": {\"continuousWidth\": 400, \"continuousHeight\": 300}}, \"layer\": [{\"mark\": \"bar\", \"encoding\": {\"x\": {\"type\": \"quantitative\", \"axis\": {\"format\": \".0%\"}, \"field\": \"percent\"}, \"y\": {\"type\": \"nominal\", \"field\": \"emotion\", \"sort\": \"-x\"}}, \"title\": \"Expected:  anger | n = 77\"}, {\"mark\": {\"type\": \"text\", \"align\": \"left\", \"baseline\": \"middle\", \"dx\": 3, \"fontSize\": 10}, \"encoding\": {\"text\": {\"type\": \"quantitative\", \"field\": \"percent\", \"format\": \".2%\"}, \"x\": {\"type\": \"quantitative\", \"axis\": {\"format\": \".0%\"}, \"field\": \"percent\"}, \"y\": {\"type\": \"nominal\", \"field\": \"emotion\", \"sort\": \"-x\"}}, \"title\": \"Expected:  anger | n = 77\"}, {\"data\": {\"name\": \"data-edba9728e004d60754c9b0a56514b93c\"}, \"mark\": {\"type\": \"image\", \"align\": \"right\", \"height\": 110, \"width\": 110, \"xOffset\": 0, \"yOffset\": 230}, \"encoding\": {\"url\": {\"type\": \"nominal\", \"field\": \"url\"}}}], \"data\": {\"name\": \"data-efd339a2767183d1bb351ebf80305350\"}, \"height\": 300, \"width\": 300, \"$schema\": \"https://vega.github.io/schema/vega-lite/v4.8.1.json\", \"datasets\": {\"data-efd339a2767183d1bb351ebf80305350\": [{\"counts\": 10, \"emotion\": \"silli\", \"percent\": 0.12987012987012986}, {\"counts\": 9, \"emotion\": \"angri\", \"percent\": 0.11688311688311688}, {\"counts\": 8, \"emotion\": \"happi\", \"percent\": 0.1038961038961039}, {\"counts\": 6, \"emotion\": \"goofi\", \"percent\": 0.07792207792207792}, {\"counts\": 5, \"emotion\": \"upset\", \"percent\": 0.06493506493506493}, {\"counts\": 4, \"emotion\": \"play\", \"percent\": 0.05194805194805195}, {\"counts\": 3, \"emotion\": \"funni\", \"percent\": 0.03896103896103896}, {\"counts\": 3, \"emotion\": \"smile\", \"percent\": 0.03896103896103896}, {\"counts\": 3, \"emotion\": \"mad\", \"percent\": 0.03896103896103896}, {\"counts\": 2, \"emotion\": \"teeth\", \"percent\": 0.025974025974025976}, {\"counts\": 2, \"emotion\": \"crazi\", \"percent\": 0.025974025974025976}, {\"counts\": 1, \"emotion\": \"grin\", \"percent\": 0.012987012987012988}, {\"counts\": 1, \"emotion\": \"young\", \"percent\": 0.012987012987012988}, {\"counts\": 1, \"emotion\": \"proud\", \"percent\": 0.012987012987012988}, {\"counts\": 1, \"emotion\": \"naughti\", \"percent\": 0.012987012987012988}, {\"counts\": 1, \"emotion\": \"anger\", \"percent\": 0.012987012987012988}, {\"counts\": 1, \"emotion\": \"anxiou\", \"percent\": 0.012987012987012988}, {\"counts\": 1, \"emotion\": \"shock\", \"percent\": 0.012987012987012988}, {\"counts\": 1, \"emotion\": \"well\", \"percent\": 0.012987012987012988}, {\"counts\": 1, \"emotion\": \"bother\", \"percent\": 0.012987012987012988}], \"data-edba9728e004d60754c9b0a56514b93c\": [{\"url\": \"https://uwmadison.co1.qualtrics.com/ControlPanel/Graphic.php?IM=IM_9Gfr3sYkHq3hHG6\"}]}}, {\"mode\": \"vega-lite\"});\n",
       "</script>"
      ],
      "text/plain": [
       "alt.LayerChart(...)"
      ]
     },
     "execution_count": 36,
     "metadata": {},
     "output_type": "execute_result"
    }
   ],
   "source": [
    "photo_chart(df_emo_answers, 'anger',  7)"
   ]
  },
  {
   "cell_type": "code",
   "execution_count": 37,
   "id": "e217f91e-d775-4ade-aad3-fc5f88bc98cd",
   "metadata": {},
   "outputs": [],
   "source": [
    "def charts_emotion_faces(df_emo_answers, emotion):\n",
    "    charts = []\n",
    "    for i in range(0, 24):\n",
    "        charts.append(photo_chart(df_emo_answers, emotion,  i))\n",
    "    return charts"
   ]
  },
  {
   "cell_type": "code",
   "execution_count": 38,
   "id": "bdba3ffd-63df-47fd-b53b-b255c367d61e",
   "metadata": {},
   "outputs": [],
   "source": [
    "def dashboard_emotion_faces(charts, rows):\n",
    "    if rows == 1:\n",
    "        dashboard= (charts[0] | charts[1] | charts[2])\n",
    "    if rows == 2:\n",
    "        dashboard= (charts[0] | charts[1] | charts[2]) & \\\n",
    "                   (charts[3] | charts[4] | charts[5]) \n",
    "    if rows == 3:\n",
    "        dashboard= (charts[0] | charts[1] | charts[2]) & \\\n",
    "                   (charts[3] | charts[4] | charts[5]) & \\\n",
    "                   (charts[6] | charts[7] | charts[8])\n",
    "    if rows == 4:\n",
    "        dashboard= (charts[0] | charts[1] | charts[2]) & \\\n",
    "                   (charts[3] | charts[4] | charts[5]) & \\\n",
    "                   (charts[6] | charts[7] | charts[8]) & \\\n",
    "                   (charts[9] | charts[10] | charts[11])\n",
    "    if rows == 5:\n",
    "        dashboard= (charts[0] | charts[1] | charts[2]) & \\\n",
    "                   (charts[3] | charts[4] | charts[5]) & \\\n",
    "                   (charts[6] | charts[7] | charts[8]) & \\\n",
    "                   (charts[9] | charts[10] | charts[11]) & \\\n",
    "                   (charts[12] | charts[13] | charts[14]) \n",
    "    if rows == 6:\n",
    "        dashboard= (charts[0] | charts[1] | charts[2]) & \\\n",
    "                   (charts[3] | charts[4] | charts[5]) & \\\n",
    "                   (charts[6] | charts[7] | charts[8]) & \\\n",
    "                   (charts[9] | charts[10] | charts[11]) & \\\n",
    "                   (charts[12] | charts[13] | charts[14]) & \\\n",
    "                   (charts[15] | charts[16] | charts[17])\n",
    "    if rows == 7:\n",
    "        dashboard= (charts[0] | charts[1] | charts[2]) & \\\n",
    "                   (charts[3] | charts[4] | charts[5]) & \\\n",
    "                   (charts[6] | charts[7] | charts[8]) & \\\n",
    "                   (charts[9] | charts[10] | charts[11]) & \\\n",
    "                   (charts[12] | charts[13] | charts[14]) & \\\n",
    "                   (charts[15] | charts[16] | charts[17]) & \\\n",
    "                   (charts[18] | charts[19] | charts[20]) \n",
    "    if rows == 8:\n",
    "        dashboard= (charts[0] | charts[1] | charts[2]) & \\\n",
    "                   (charts[3] | charts[4] | charts[5]) & \\\n",
    "                   (charts[6] | charts[7] | charts[8]) & \\\n",
    "                   (charts[9] | charts[10] | charts[11]) & \\\n",
    "                   (charts[12] | charts[13] | charts[14]) & \\\n",
    "                   (charts[15] | charts[16] | charts[17]) & \\\n",
    "                   (charts[18] | charts[19] | charts[20]) & \\\n",
    "                   (charts[21] | charts[22] | charts[23]) \n",
    "        \n",
    "    return dashboard"
   ]
  },
  {
   "cell_type": "code",
   "execution_count": 39,
   "id": "05da152b-2b10-450e-b9f8-10bd591f603b",
   "metadata": {},
   "outputs": [
    {
     "data": {
      "text/html": [
       "\n",
       "<div id=\"altair-viz-cd8fb4b56ecc4d48a1cf254632fa3bd0\"></div>\n",
       "<script type=\"text/javascript\">\n",
       "  (function(spec, embedOpt){\n",
       "    let outputDiv = document.currentScript.previousElementSibling;\n",
       "    if (outputDiv.id !== \"altair-viz-cd8fb4b56ecc4d48a1cf254632fa3bd0\") {\n",
       "      outputDiv = document.getElementById(\"altair-viz-cd8fb4b56ecc4d48a1cf254632fa3bd0\");\n",
       "    }\n",
       "    const paths = {\n",
       "      \"vega\": \"https://cdn.jsdelivr.net/npm//vega@5?noext\",\n",
       "      \"vega-lib\": \"https://cdn.jsdelivr.net/npm//vega-lib?noext\",\n",
       "      \"vega-lite\": \"https://cdn.jsdelivr.net/npm//vega-lite@4.8.1?noext\",\n",
       "      \"vega-embed\": \"https://cdn.jsdelivr.net/npm//vega-embed@6?noext\",\n",
       "    };\n",
       "\n",
       "    function loadScript(lib) {\n",
       "      return new Promise(function(resolve, reject) {\n",
       "        var s = document.createElement('script');\n",
       "        s.src = paths[lib];\n",
       "        s.async = true;\n",
       "        s.onload = () => resolve(paths[lib]);\n",
       "        s.onerror = () => reject(`Error loading script: ${paths[lib]}`);\n",
       "        document.getElementsByTagName(\"head\")[0].appendChild(s);\n",
       "      });\n",
       "    }\n",
       "\n",
       "    function showError(err) {\n",
       "      outputDiv.innerHTML = `<div class=\"error\" style=\"color:red;\">${err}</div>`;\n",
       "      throw err;\n",
       "    }\n",
       "\n",
       "    function displayChart(vegaEmbed) {\n",
       "      vegaEmbed(outputDiv, spec, embedOpt)\n",
       "        .catch(err => showError(`Javascript Error: ${err.message}<br>This usually means there's a typo in your chart specification. See the javascript console for the full traceback.`));\n",
       "    }\n",
       "\n",
       "    if(typeof define === \"function\" && define.amd) {\n",
       "      requirejs.config({paths});\n",
       "      require([\"vega-embed\"], displayChart, err => showError(`Error loading script: ${err.message}`));\n",
       "    } else if (typeof vegaEmbed === \"function\") {\n",
       "      displayChart(vegaEmbed);\n",
       "    } else {\n",
       "      loadScript(\"vega\")\n",
       "        .then(() => loadScript(\"vega-lite\"))\n",
       "        .then(() => loadScript(\"vega-embed\"))\n",
       "        .catch(showError)\n",
       "        .then(() => displayChart(vegaEmbed));\n",
       "    }\n",
       "  })({\"config\": {\"view\": {\"continuousWidth\": 400, \"continuousHeight\": 300}}, \"vconcat\": [{\"hconcat\": [{\"layer\": [{\"mark\": \"bar\", \"encoding\": {\"x\": {\"type\": \"quantitative\", \"axis\": {\"format\": \".0%\"}, \"field\": \"percent\"}, \"y\": {\"type\": \"nominal\", \"field\": \"emotion\", \"sort\": \"-x\"}}, \"title\": \"Expected:  sadness | n = 91\"}, {\"mark\": {\"type\": \"text\", \"align\": \"left\", \"baseline\": \"middle\", \"dx\": 3, \"fontSize\": 10}, \"encoding\": {\"text\": {\"type\": \"quantitative\", \"field\": \"percent\", \"format\": \".2%\"}, \"x\": {\"type\": \"quantitative\", \"axis\": {\"format\": \".0%\"}, \"field\": \"percent\"}, \"y\": {\"type\": \"nominal\", \"field\": \"emotion\", \"sort\": \"-x\"}}, \"title\": \"Expected:  sadness | n = 91\"}, {\"data\": {\"name\": \"data-d563a92ed207f398ca3c200101cde81e\"}, \"mark\": {\"type\": \"image\", \"align\": \"right\", \"height\": 110, \"width\": 110, \"xOffset\": 0, \"yOffset\": 230}, \"encoding\": {\"url\": {\"type\": \"nominal\", \"field\": \"url\"}}}], \"data\": {\"name\": \"data-a288b2088f5505f8ec3f5f8c708e5aa1\"}, \"height\": 300, \"width\": 300}, {\"layer\": [{\"mark\": \"bar\", \"encoding\": {\"x\": {\"type\": \"quantitative\", \"axis\": {\"format\": \".0%\"}, \"field\": \"percent\"}, \"y\": {\"type\": \"nominal\", \"field\": \"emotion\", \"sort\": \"-x\"}}, \"title\": \"Expected:  sadness | n = 91\"}, {\"mark\": {\"type\": \"text\", \"align\": \"left\", \"baseline\": \"middle\", \"dx\": 3, \"fontSize\": 10}, \"encoding\": {\"text\": {\"type\": \"quantitative\", \"field\": \"percent\", \"format\": \".2%\"}, \"x\": {\"type\": \"quantitative\", \"axis\": {\"format\": \".0%\"}, \"field\": \"percent\"}, \"y\": {\"type\": \"nominal\", \"field\": \"emotion\", \"sort\": \"-x\"}}, \"title\": \"Expected:  sadness | n = 91\"}, {\"data\": {\"name\": \"data-4592c73db2ef795926a5d6ac6ffa9160\"}, \"mark\": {\"type\": \"image\", \"align\": \"right\", \"height\": 110, \"width\": 110, \"xOffset\": 0, \"yOffset\": 230}, \"encoding\": {\"url\": {\"type\": \"nominal\", \"field\": \"url\"}}}], \"data\": {\"name\": \"data-05ecf4d0669a5f698acbc3affca17536\"}, \"height\": 300, \"width\": 300}, {\"layer\": [{\"mark\": \"bar\", \"encoding\": {\"x\": {\"type\": \"quantitative\", \"axis\": {\"format\": \".0%\"}, \"field\": \"percent\"}, \"y\": {\"type\": \"nominal\", \"field\": \"emotion\", \"sort\": \"-x\"}}, \"title\": \"Expected:  sadness | n = 91\"}, {\"mark\": {\"type\": \"text\", \"align\": \"left\", \"baseline\": \"middle\", \"dx\": 3, \"fontSize\": 10}, \"encoding\": {\"text\": {\"type\": \"quantitative\", \"field\": \"percent\", \"format\": \".2%\"}, \"x\": {\"type\": \"quantitative\", \"axis\": {\"format\": \".0%\"}, \"field\": \"percent\"}, \"y\": {\"type\": \"nominal\", \"field\": \"emotion\", \"sort\": \"-x\"}}, \"title\": \"Expected:  sadness | n = 91\"}, {\"data\": {\"name\": \"data-b086b74ab8720a490694baeb9285dbad\"}, \"mark\": {\"type\": \"image\", \"align\": \"right\", \"height\": 110, \"width\": 110, \"xOffset\": 0, \"yOffset\": 230}, \"encoding\": {\"url\": {\"type\": \"nominal\", \"field\": \"url\"}}}], \"data\": {\"name\": \"data-7e9a67574ce1f1b823ff078caa59b6fe\"}, \"height\": 300, \"width\": 300}]}, {\"hconcat\": [{\"layer\": [{\"mark\": \"bar\", \"encoding\": {\"x\": {\"type\": \"quantitative\", \"axis\": {\"format\": \".0%\"}, \"field\": \"percent\"}, \"y\": {\"type\": \"nominal\", \"field\": \"emotion\", \"sort\": \"-x\"}}, \"title\": \"Expected:  sadness | n = 87\"}, {\"mark\": {\"type\": \"text\", \"align\": \"left\", \"baseline\": \"middle\", \"dx\": 3, \"fontSize\": 10}, \"encoding\": {\"text\": {\"type\": \"quantitative\", \"field\": \"percent\", \"format\": \".2%\"}, \"x\": {\"type\": \"quantitative\", \"axis\": {\"format\": \".0%\"}, \"field\": \"percent\"}, \"y\": {\"type\": \"nominal\", \"field\": \"emotion\", \"sort\": \"-x\"}}, \"title\": \"Expected:  sadness | n = 87\"}, {\"data\": {\"name\": \"data-6cc58dcb2671ae731f8051a26145906d\"}, \"mark\": {\"type\": \"image\", \"align\": \"right\", \"height\": 110, \"width\": 110, \"xOffset\": 0, \"yOffset\": 230}, \"encoding\": {\"url\": {\"type\": \"nominal\", \"field\": \"url\"}}}], \"data\": {\"name\": \"data-1ae8dedbab25f9e4923b0ad31dc01e64\"}, \"height\": 300, \"width\": 300}, {\"layer\": [{\"mark\": \"bar\", \"encoding\": {\"x\": {\"type\": \"quantitative\", \"axis\": {\"format\": \".0%\"}, \"field\": \"percent\"}, \"y\": {\"type\": \"nominal\", \"field\": \"emotion\", \"sort\": \"-x\"}}, \"title\": \"Expected:  sadness | n = 90\"}, {\"mark\": {\"type\": \"text\", \"align\": \"left\", \"baseline\": \"middle\", \"dx\": 3, \"fontSize\": 10}, \"encoding\": {\"text\": {\"type\": \"quantitative\", \"field\": \"percent\", \"format\": \".2%\"}, \"x\": {\"type\": \"quantitative\", \"axis\": {\"format\": \".0%\"}, \"field\": \"percent\"}, \"y\": {\"type\": \"nominal\", \"field\": \"emotion\", \"sort\": \"-x\"}}, \"title\": \"Expected:  sadness | n = 90\"}, {\"data\": {\"name\": \"data-2cebe9b780a03822f088dc12c7c2c863\"}, \"mark\": {\"type\": \"image\", \"align\": \"right\", \"height\": 110, \"width\": 110, \"xOffset\": 0, \"yOffset\": 230}, \"encoding\": {\"url\": {\"type\": \"nominal\", \"field\": \"url\"}}}], \"data\": {\"name\": \"data-5f90c164b208527e102599d940e4c14d\"}, \"height\": 300, \"width\": 300}, {\"layer\": [{\"mark\": \"bar\", \"encoding\": {\"x\": {\"type\": \"quantitative\", \"axis\": {\"format\": \".0%\"}, \"field\": \"percent\"}, \"y\": {\"type\": \"nominal\", \"field\": \"emotion\", \"sort\": \"-x\"}}, \"title\": \"Expected:  sadness | n = 83\"}, {\"mark\": {\"type\": \"text\", \"align\": \"left\", \"baseline\": \"middle\", \"dx\": 3, \"fontSize\": 10}, \"encoding\": {\"text\": {\"type\": \"quantitative\", \"field\": \"percent\", \"format\": \".2%\"}, \"x\": {\"type\": \"quantitative\", \"axis\": {\"format\": \".0%\"}, \"field\": \"percent\"}, \"y\": {\"type\": \"nominal\", \"field\": \"emotion\", \"sort\": \"-x\"}}, \"title\": \"Expected:  sadness | n = 83\"}, {\"data\": {\"name\": \"data-a0133874cd2af2a18d4e61b34658d72f\"}, \"mark\": {\"type\": \"image\", \"align\": \"right\", \"height\": 110, \"width\": 110, \"xOffset\": 0, \"yOffset\": 230}, \"encoding\": {\"url\": {\"type\": \"nominal\", \"field\": \"url\"}}}], \"data\": {\"name\": \"data-f5a817ef082892af4b925ff84cd30484\"}, \"height\": 300, \"width\": 300}]}, {\"hconcat\": [{\"layer\": [{\"mark\": \"bar\", \"encoding\": {\"x\": {\"type\": \"quantitative\", \"axis\": {\"format\": \".0%\"}, \"field\": \"percent\"}, \"y\": {\"type\": \"nominal\", \"field\": \"emotion\", \"sort\": \"-x\"}}, \"title\": \"Expected:  sadness | n = 75\"}, {\"mark\": {\"type\": \"text\", \"align\": \"left\", \"baseline\": \"middle\", \"dx\": 3, \"fontSize\": 10}, \"encoding\": {\"text\": {\"type\": \"quantitative\", \"field\": \"percent\", \"format\": \".2%\"}, \"x\": {\"type\": \"quantitative\", \"axis\": {\"format\": \".0%\"}, \"field\": \"percent\"}, \"y\": {\"type\": \"nominal\", \"field\": \"emotion\", \"sort\": \"-x\"}}, \"title\": \"Expected:  sadness | n = 75\"}, {\"data\": {\"name\": \"data-9c9ac5180961ec16998ae5c21ff60c17\"}, \"mark\": {\"type\": \"image\", \"align\": \"right\", \"height\": 110, \"width\": 110, \"xOffset\": 0, \"yOffset\": 230}, \"encoding\": {\"url\": {\"type\": \"nominal\", \"field\": \"url\"}}}], \"data\": {\"name\": \"data-aa1eba6e1129fec8196199b1a7c621ab\"}, \"height\": 300, \"width\": 300}, {\"layer\": [{\"mark\": \"bar\", \"encoding\": {\"x\": {\"type\": \"quantitative\", \"axis\": {\"format\": \".0%\"}, \"field\": \"percent\"}, \"y\": {\"type\": \"nominal\", \"field\": \"emotion\", \"sort\": \"-x\"}}, \"title\": \"Expected:  sadness | n = 88\"}, {\"mark\": {\"type\": \"text\", \"align\": \"left\", \"baseline\": \"middle\", \"dx\": 3, \"fontSize\": 10}, \"encoding\": {\"text\": {\"type\": \"quantitative\", \"field\": \"percent\", \"format\": \".2%\"}, \"x\": {\"type\": \"quantitative\", \"axis\": {\"format\": \".0%\"}, \"field\": \"percent\"}, \"y\": {\"type\": \"nominal\", \"field\": \"emotion\", \"sort\": \"-x\"}}, \"title\": \"Expected:  sadness | n = 88\"}, {\"data\": {\"name\": \"data-9f7e819361029bf6eaaf2aa5ab0a92d9\"}, \"mark\": {\"type\": \"image\", \"align\": \"right\", \"height\": 110, \"width\": 110, \"xOffset\": 0, \"yOffset\": 230}, \"encoding\": {\"url\": {\"type\": \"nominal\", \"field\": \"url\"}}}], \"data\": {\"name\": \"data-1e5a11e6da784abc63e7f8806e3219a5\"}, \"height\": 300, \"width\": 300}, {\"layer\": [{\"mark\": \"bar\", \"encoding\": {\"x\": {\"type\": \"quantitative\", \"axis\": {\"format\": \".0%\"}, \"field\": \"percent\"}, \"y\": {\"type\": \"nominal\", \"field\": \"emotion\", \"sort\": \"-x\"}}, \"title\": \"Expected:  sadness | n = 79\"}, {\"mark\": {\"type\": \"text\", \"align\": \"left\", \"baseline\": \"middle\", \"dx\": 3, \"fontSize\": 10}, \"encoding\": {\"text\": {\"type\": \"quantitative\", \"field\": \"percent\", \"format\": \".2%\"}, \"x\": {\"type\": \"quantitative\", \"axis\": {\"format\": \".0%\"}, \"field\": \"percent\"}, \"y\": {\"type\": \"nominal\", \"field\": \"emotion\", \"sort\": \"-x\"}}, \"title\": \"Expected:  sadness | n = 79\"}, {\"data\": {\"name\": \"data-c54c36fd7dbbda09b193a800259ddca3\"}, \"mark\": {\"type\": \"image\", \"align\": \"right\", \"height\": 110, \"width\": 110, \"xOffset\": 0, \"yOffset\": 230}, \"encoding\": {\"url\": {\"type\": \"nominal\", \"field\": \"url\"}}}], \"data\": {\"name\": \"data-d73c82a85c37fd07c918298d02e25d63\"}, \"height\": 300, \"width\": 300}]}, {\"hconcat\": [{\"layer\": [{\"mark\": \"bar\", \"encoding\": {\"x\": {\"type\": \"quantitative\", \"axis\": {\"format\": \".0%\"}, \"field\": \"percent\"}, \"y\": {\"type\": \"nominal\", \"field\": \"emotion\", \"sort\": \"-x\"}}, \"title\": \"Expected:  sadness | n = 86\"}, {\"mark\": {\"type\": \"text\", \"align\": \"left\", \"baseline\": \"middle\", \"dx\": 3, \"fontSize\": 10}, \"encoding\": {\"text\": {\"type\": \"quantitative\", \"field\": \"percent\", \"format\": \".2%\"}, \"x\": {\"type\": \"quantitative\", \"axis\": {\"format\": \".0%\"}, \"field\": \"percent\"}, \"y\": {\"type\": \"nominal\", \"field\": \"emotion\", \"sort\": \"-x\"}}, \"title\": \"Expected:  sadness | n = 86\"}, {\"data\": {\"name\": \"data-643ecce14ace7a57b58cb48acbd2ce27\"}, \"mark\": {\"type\": \"image\", \"align\": \"right\", \"height\": 110, \"width\": 110, \"xOffset\": 0, \"yOffset\": 230}, \"encoding\": {\"url\": {\"type\": \"nominal\", \"field\": \"url\"}}}], \"data\": {\"name\": \"data-084869a94b2f88eee85c0e0525125757\"}, \"height\": 300, \"width\": 300}, {\"layer\": [{\"mark\": \"bar\", \"encoding\": {\"x\": {\"type\": \"quantitative\", \"axis\": {\"format\": \".0%\"}, \"field\": \"percent\"}, \"y\": {\"type\": \"nominal\", \"field\": \"emotion\", \"sort\": \"-x\"}}, \"title\": \"Expected:  sadness | n = 90\"}, {\"mark\": {\"type\": \"text\", \"align\": \"left\", \"baseline\": \"middle\", \"dx\": 3, \"fontSize\": 10}, \"encoding\": {\"text\": {\"type\": \"quantitative\", \"field\": \"percent\", \"format\": \".2%\"}, \"x\": {\"type\": \"quantitative\", \"axis\": {\"format\": \".0%\"}, \"field\": \"percent\"}, \"y\": {\"type\": \"nominal\", \"field\": \"emotion\", \"sort\": \"-x\"}}, \"title\": \"Expected:  sadness | n = 90\"}, {\"data\": {\"name\": \"data-61bb5a8917149edd20b156233eb7c0e2\"}, \"mark\": {\"type\": \"image\", \"align\": \"right\", \"height\": 110, \"width\": 110, \"xOffset\": 0, \"yOffset\": 230}, \"encoding\": {\"url\": {\"type\": \"nominal\", \"field\": \"url\"}}}], \"data\": {\"name\": \"data-5858e290081b9636c98bbc3898267e11\"}, \"height\": 300, \"width\": 300}, {\"layer\": [{\"mark\": \"bar\", \"encoding\": {\"x\": {\"type\": \"quantitative\", \"axis\": {\"format\": \".0%\"}, \"field\": \"percent\"}, \"y\": {\"type\": \"nominal\", \"field\": \"emotion\", \"sort\": \"-x\"}}, \"title\": \"Expected:  sadness | n = 86\"}, {\"mark\": {\"type\": \"text\", \"align\": \"left\", \"baseline\": \"middle\", \"dx\": 3, \"fontSize\": 10}, \"encoding\": {\"text\": {\"type\": \"quantitative\", \"field\": \"percent\", \"format\": \".2%\"}, \"x\": {\"type\": \"quantitative\", \"axis\": {\"format\": \".0%\"}, \"field\": \"percent\"}, \"y\": {\"type\": \"nominal\", \"field\": \"emotion\", \"sort\": \"-x\"}}, \"title\": \"Expected:  sadness | n = 86\"}, {\"data\": {\"name\": \"data-3f19fe7f317c57a89a2e911aa36d7680\"}, \"mark\": {\"type\": \"image\", \"align\": \"right\", \"height\": 110, \"width\": 110, \"xOffset\": 0, \"yOffset\": 230}, \"encoding\": {\"url\": {\"type\": \"nominal\", \"field\": \"url\"}}}], \"data\": {\"name\": \"data-586e6bc3f6d6910ed200f87533e8b51f\"}, \"height\": 300, \"width\": 300}]}, {\"hconcat\": [{\"layer\": [{\"mark\": \"bar\", \"encoding\": {\"x\": {\"type\": \"quantitative\", \"axis\": {\"format\": \".0%\"}, \"field\": \"percent\"}, \"y\": {\"type\": \"nominal\", \"field\": \"emotion\", \"sort\": \"-x\"}}, \"title\": \"Expected:  sadness | n = 82\"}, {\"mark\": {\"type\": \"text\", \"align\": \"left\", \"baseline\": \"middle\", \"dx\": 3, \"fontSize\": 10}, \"encoding\": {\"text\": {\"type\": \"quantitative\", \"field\": \"percent\", \"format\": \".2%\"}, \"x\": {\"type\": \"quantitative\", \"axis\": {\"format\": \".0%\"}, \"field\": \"percent\"}, \"y\": {\"type\": \"nominal\", \"field\": \"emotion\", \"sort\": \"-x\"}}, \"title\": \"Expected:  sadness | n = 82\"}, {\"data\": {\"name\": \"data-e4f7f6762e39cfd2dbb1e1d69778069f\"}, \"mark\": {\"type\": \"image\", \"align\": \"right\", \"height\": 110, \"width\": 110, \"xOffset\": 0, \"yOffset\": 230}, \"encoding\": {\"url\": {\"type\": \"nominal\", \"field\": \"url\"}}}], \"data\": {\"name\": \"data-92ae4e02599f267aff7aaa7e56d11a47\"}, \"height\": 300, \"width\": 300}, {\"layer\": [{\"mark\": \"bar\", \"encoding\": {\"x\": {\"type\": \"quantitative\", \"axis\": {\"format\": \".0%\"}, \"field\": \"percent\"}, \"y\": {\"type\": \"nominal\", \"field\": \"emotion\", \"sort\": \"-x\"}}, \"title\": \"Expected:  sadness | n = 76\"}, {\"mark\": {\"type\": \"text\", \"align\": \"left\", \"baseline\": \"middle\", \"dx\": 3, \"fontSize\": 10}, \"encoding\": {\"text\": {\"type\": \"quantitative\", \"field\": \"percent\", \"format\": \".2%\"}, \"x\": {\"type\": \"quantitative\", \"axis\": {\"format\": \".0%\"}, \"field\": \"percent\"}, \"y\": {\"type\": \"nominal\", \"field\": \"emotion\", \"sort\": \"-x\"}}, \"title\": \"Expected:  sadness | n = 76\"}, {\"data\": {\"name\": \"data-44dcd4c3f6017385f1b2b75421286d2a\"}, \"mark\": {\"type\": \"image\", \"align\": \"right\", \"height\": 110, \"width\": 110, \"xOffset\": 0, \"yOffset\": 230}, \"encoding\": {\"url\": {\"type\": \"nominal\", \"field\": \"url\"}}}], \"data\": {\"name\": \"data-e8b51997f9fa475278deb52062dfc9a1\"}, \"height\": 300, \"width\": 300}, {\"layer\": [{\"mark\": \"bar\", \"encoding\": {\"x\": {\"type\": \"quantitative\", \"axis\": {\"format\": \".0%\"}, \"field\": \"percent\"}, \"y\": {\"type\": \"nominal\", \"field\": \"emotion\", \"sort\": \"-x\"}}, \"title\": \"Expected:  sadness | n = 73\"}, {\"mark\": {\"type\": \"text\", \"align\": \"left\", \"baseline\": \"middle\", \"dx\": 3, \"fontSize\": 10}, \"encoding\": {\"text\": {\"type\": \"quantitative\", \"field\": \"percent\", \"format\": \".2%\"}, \"x\": {\"type\": \"quantitative\", \"axis\": {\"format\": \".0%\"}, \"field\": \"percent\"}, \"y\": {\"type\": \"nominal\", \"field\": \"emotion\", \"sort\": \"-x\"}}, \"title\": \"Expected:  sadness | n = 73\"}, {\"data\": {\"name\": \"data-04ae5af523165c2ae3aea9a5ebd85061\"}, \"mark\": {\"type\": \"image\", \"align\": \"right\", \"height\": 110, \"width\": 110, \"xOffset\": 0, \"yOffset\": 230}, \"encoding\": {\"url\": {\"type\": \"nominal\", \"field\": \"url\"}}}], \"data\": {\"name\": \"data-14fea5983639ee6259d7ed767b2af08a\"}, \"height\": 300, \"width\": 300}]}, {\"hconcat\": [{\"layer\": [{\"mark\": \"bar\", \"encoding\": {\"x\": {\"type\": \"quantitative\", \"axis\": {\"format\": \".0%\"}, \"field\": \"percent\"}, \"y\": {\"type\": \"nominal\", \"field\": \"emotion\", \"sort\": \"-x\"}}, \"title\": \"Expected:  sadness | n = 83\"}, {\"mark\": {\"type\": \"text\", \"align\": \"left\", \"baseline\": \"middle\", \"dx\": 3, \"fontSize\": 10}, \"encoding\": {\"text\": {\"type\": \"quantitative\", \"field\": \"percent\", \"format\": \".2%\"}, \"x\": {\"type\": \"quantitative\", \"axis\": {\"format\": \".0%\"}, \"field\": \"percent\"}, \"y\": {\"type\": \"nominal\", \"field\": \"emotion\", \"sort\": \"-x\"}}, \"title\": \"Expected:  sadness | n = 83\"}, {\"data\": {\"name\": \"data-ad73eb88b8e644787982a60c08325c57\"}, \"mark\": {\"type\": \"image\", \"align\": \"right\", \"height\": 110, \"width\": 110, \"xOffset\": 0, \"yOffset\": 230}, \"encoding\": {\"url\": {\"type\": \"nominal\", \"field\": \"url\"}}}], \"data\": {\"name\": \"data-5d9e07d3958b704dcf7f7863d840891d\"}, \"height\": 300, \"width\": 300}, {\"layer\": [{\"mark\": \"bar\", \"encoding\": {\"x\": {\"type\": \"quantitative\", \"axis\": {\"format\": \".0%\"}, \"field\": \"percent\"}, \"y\": {\"type\": \"nominal\", \"field\": \"emotion\", \"sort\": \"-x\"}}, \"title\": \"Expected:  sadness | n = 70\"}, {\"mark\": {\"type\": \"text\", \"align\": \"left\", \"baseline\": \"middle\", \"dx\": 3, \"fontSize\": 10}, \"encoding\": {\"text\": {\"type\": \"quantitative\", \"field\": \"percent\", \"format\": \".2%\"}, \"x\": {\"type\": \"quantitative\", \"axis\": {\"format\": \".0%\"}, \"field\": \"percent\"}, \"y\": {\"type\": \"nominal\", \"field\": \"emotion\", \"sort\": \"-x\"}}, \"title\": \"Expected:  sadness | n = 70\"}, {\"data\": {\"name\": \"data-d7fce5ea956e7dfe0d108717eca9165b\"}, \"mark\": {\"type\": \"image\", \"align\": \"right\", \"height\": 110, \"width\": 110, \"xOffset\": 0, \"yOffset\": 230}, \"encoding\": {\"url\": {\"type\": \"nominal\", \"field\": \"url\"}}}], \"data\": {\"name\": \"data-f23e9c933d0609c4296d07f6b3a723d9\"}, \"height\": 300, \"width\": 300}, {\"layer\": [{\"mark\": \"bar\", \"encoding\": {\"x\": {\"type\": \"quantitative\", \"axis\": {\"format\": \".0%\"}, \"field\": \"percent\"}, \"y\": {\"type\": \"nominal\", \"field\": \"emotion\", \"sort\": \"-x\"}}, \"title\": \"Expected:  sadness | n = 65\"}, {\"mark\": {\"type\": \"text\", \"align\": \"left\", \"baseline\": \"middle\", \"dx\": 3, \"fontSize\": 10}, \"encoding\": {\"text\": {\"type\": \"quantitative\", \"field\": \"percent\", \"format\": \".2%\"}, \"x\": {\"type\": \"quantitative\", \"axis\": {\"format\": \".0%\"}, \"field\": \"percent\"}, \"y\": {\"type\": \"nominal\", \"field\": \"emotion\", \"sort\": \"-x\"}}, \"title\": \"Expected:  sadness | n = 65\"}, {\"data\": {\"name\": \"data-8661fdd81041e8437ebc5244c58ce1c2\"}, \"mark\": {\"type\": \"image\", \"align\": \"right\", \"height\": 110, \"width\": 110, \"xOffset\": 0, \"yOffset\": 230}, \"encoding\": {\"url\": {\"type\": \"nominal\", \"field\": \"url\"}}}], \"data\": {\"name\": \"data-68b592b12536fc48191dbe43e85a803a\"}, \"height\": 300, \"width\": 300}]}, {\"hconcat\": [{\"layer\": [{\"mark\": \"bar\", \"encoding\": {\"x\": {\"type\": \"quantitative\", \"axis\": {\"format\": \".0%\"}, \"field\": \"percent\"}, \"y\": {\"type\": \"nominal\", \"field\": \"emotion\", \"sort\": \"-x\"}}, \"title\": \"Expected:  sadness | n = 84\"}, {\"mark\": {\"type\": \"text\", \"align\": \"left\", \"baseline\": \"middle\", \"dx\": 3, \"fontSize\": 10}, \"encoding\": {\"text\": {\"type\": \"quantitative\", \"field\": \"percent\", \"format\": \".2%\"}, \"x\": {\"type\": \"quantitative\", \"axis\": {\"format\": \".0%\"}, \"field\": \"percent\"}, \"y\": {\"type\": \"nominal\", \"field\": \"emotion\", \"sort\": \"-x\"}}, \"title\": \"Expected:  sadness | n = 84\"}, {\"data\": {\"name\": \"data-43d260537f3e736ea19410898df7c080\"}, \"mark\": {\"type\": \"image\", \"align\": \"right\", \"height\": 110, \"width\": 110, \"xOffset\": 0, \"yOffset\": 230}, \"encoding\": {\"url\": {\"type\": \"nominal\", \"field\": \"url\"}}}], \"data\": {\"name\": \"data-97e40d138458feef67f0ab74627c38a0\"}, \"height\": 300, \"width\": 300}, {\"layer\": [{\"mark\": \"bar\", \"encoding\": {\"x\": {\"type\": \"quantitative\", \"axis\": {\"format\": \".0%\"}, \"field\": \"percent\"}, \"y\": {\"type\": \"nominal\", \"field\": \"emotion\", \"sort\": \"-x\"}}, \"title\": \"Expected:  sadness | n = 62\"}, {\"mark\": {\"type\": \"text\", \"align\": \"left\", \"baseline\": \"middle\", \"dx\": 3, \"fontSize\": 10}, \"encoding\": {\"text\": {\"type\": \"quantitative\", \"field\": \"percent\", \"format\": \".2%\"}, \"x\": {\"type\": \"quantitative\", \"axis\": {\"format\": \".0%\"}, \"field\": \"percent\"}, \"y\": {\"type\": \"nominal\", \"field\": \"emotion\", \"sort\": \"-x\"}}, \"title\": \"Expected:  sadness | n = 62\"}, {\"data\": {\"name\": \"data-7fbb60f8eceae05cf33b5ca951ccda07\"}, \"mark\": {\"type\": \"image\", \"align\": \"right\", \"height\": 110, \"width\": 110, \"xOffset\": 0, \"yOffset\": 230}, \"encoding\": {\"url\": {\"type\": \"nominal\", \"field\": \"url\"}}}], \"data\": {\"name\": \"data-041e057e62d6e18cca896f75cee8559a\"}, \"height\": 300, \"width\": 300}, {\"layer\": [{\"mark\": \"bar\", \"encoding\": {\"x\": {\"type\": \"quantitative\", \"axis\": {\"format\": \".0%\"}, \"field\": \"percent\"}, \"y\": {\"type\": \"nominal\", \"field\": \"emotion\", \"sort\": \"-x\"}}, \"title\": \"Expected:  sadness | n = 75\"}, {\"mark\": {\"type\": \"text\", \"align\": \"left\", \"baseline\": \"middle\", \"dx\": 3, \"fontSize\": 10}, \"encoding\": {\"text\": {\"type\": \"quantitative\", \"field\": \"percent\", \"format\": \".2%\"}, \"x\": {\"type\": \"quantitative\", \"axis\": {\"format\": \".0%\"}, \"field\": \"percent\"}, \"y\": {\"type\": \"nominal\", \"field\": \"emotion\", \"sort\": \"-x\"}}, \"title\": \"Expected:  sadness | n = 75\"}, {\"data\": {\"name\": \"data-bb5f8934a37917e9cfd232cd430ea230\"}, \"mark\": {\"type\": \"image\", \"align\": \"right\", \"height\": 110, \"width\": 110, \"xOffset\": 0, \"yOffset\": 230}, \"encoding\": {\"url\": {\"type\": \"nominal\", \"field\": \"url\"}}}], \"data\": {\"name\": \"data-6941422ed9665b32ace82c03f5d781f9\"}, \"height\": 300, \"width\": 300}]}, {\"hconcat\": [{\"layer\": [{\"mark\": \"bar\", \"encoding\": {\"x\": {\"type\": \"quantitative\", \"axis\": {\"format\": \".0%\"}, \"field\": \"percent\"}, \"y\": {\"type\": \"nominal\", \"field\": \"emotion\", \"sort\": \"-x\"}}, \"title\": \"Expected:  sadness | n = 65\"}, {\"mark\": {\"type\": \"text\", \"align\": \"left\", \"baseline\": \"middle\", \"dx\": 3, \"fontSize\": 10}, \"encoding\": {\"text\": {\"type\": \"quantitative\", \"field\": \"percent\", \"format\": \".2%\"}, \"x\": {\"type\": \"quantitative\", \"axis\": {\"format\": \".0%\"}, \"field\": \"percent\"}, \"y\": {\"type\": \"nominal\", \"field\": \"emotion\", \"sort\": \"-x\"}}, \"title\": \"Expected:  sadness | n = 65\"}, {\"data\": {\"name\": \"data-a94c73cf63e9c1cab63d12610311c423\"}, \"mark\": {\"type\": \"image\", \"align\": \"right\", \"height\": 110, \"width\": 110, \"xOffset\": 0, \"yOffset\": 230}, \"encoding\": {\"url\": {\"type\": \"nominal\", \"field\": \"url\"}}}], \"data\": {\"name\": \"data-71f6cfb90f025670fc2791c92a63a9e4\"}, \"height\": 300, \"width\": 300}, {\"layer\": [{\"mark\": \"bar\", \"encoding\": {\"x\": {\"type\": \"quantitative\", \"axis\": {\"format\": \".0%\"}, \"field\": \"percent\"}, \"y\": {\"type\": \"nominal\", \"field\": \"emotion\", \"sort\": \"-x\"}}, \"title\": \"Expected:  sadness | n = 61\"}, {\"mark\": {\"type\": \"text\", \"align\": \"left\", \"baseline\": \"middle\", \"dx\": 3, \"fontSize\": 10}, \"encoding\": {\"text\": {\"type\": \"quantitative\", \"field\": \"percent\", \"format\": \".2%\"}, \"x\": {\"type\": \"quantitative\", \"axis\": {\"format\": \".0%\"}, \"field\": \"percent\"}, \"y\": {\"type\": \"nominal\", \"field\": \"emotion\", \"sort\": \"-x\"}}, \"title\": \"Expected:  sadness | n = 61\"}, {\"data\": {\"name\": \"data-2543ab1291cdc5eae971e9c1d31cc182\"}, \"mark\": {\"type\": \"image\", \"align\": \"right\", \"height\": 110, \"width\": 110, \"xOffset\": 0, \"yOffset\": 230}, \"encoding\": {\"url\": {\"type\": \"nominal\", \"field\": \"url\"}}}], \"data\": {\"name\": \"data-39d5c10cfbad23f3690796893203c187\"}, \"height\": 300, \"width\": 300}, {\"layer\": [{\"mark\": \"bar\", \"encoding\": {\"x\": {\"type\": \"quantitative\", \"axis\": {\"format\": \".0%\"}, \"field\": \"percent\"}, \"y\": {\"type\": \"nominal\", \"field\": \"emotion\", \"sort\": \"-x\"}}, \"title\": \"Expected:  sadness | n = 77\"}, {\"mark\": {\"type\": \"text\", \"align\": \"left\", \"baseline\": \"middle\", \"dx\": 3, \"fontSize\": 10}, \"encoding\": {\"text\": {\"type\": \"quantitative\", \"field\": \"percent\", \"format\": \".2%\"}, \"x\": {\"type\": \"quantitative\", \"axis\": {\"format\": \".0%\"}, \"field\": \"percent\"}, \"y\": {\"type\": \"nominal\", \"field\": \"emotion\", \"sort\": \"-x\"}}, \"title\": \"Expected:  sadness | n = 77\"}, {\"data\": {\"name\": \"data-8152b5d2c2d746ec86f0c35da021f883\"}, \"mark\": {\"type\": \"image\", \"align\": \"right\", \"height\": 110, \"width\": 110, \"xOffset\": 0, \"yOffset\": 230}, \"encoding\": {\"url\": {\"type\": \"nominal\", \"field\": \"url\"}}}], \"data\": {\"name\": \"data-b6b70d48ad59df8c08f9a507164696e3\"}, \"height\": 300, \"width\": 300}]}], \"$schema\": \"https://vega.github.io/schema/vega-lite/v4.8.1.json\", \"datasets\": {\"data-a288b2088f5505f8ec3f5f8c708e5aa1\": [{\"counts\": 29, \"emotion\": \"sad\", \"percent\": 0.31868131868131866}, {\"counts\": 8, \"emotion\": \"upset\", \"percent\": 0.08791208791208792}, {\"counts\": 3, \"emotion\": \"cri\", \"percent\": 0.03296703296703297}, {\"counts\": 3, \"emotion\": \"worri\", \"percent\": 0.03296703296703297}, {\"counts\": 3, \"emotion\": \"confus\", \"percent\": 0.03296703296703297}, {\"counts\": 2, \"emotion\": \"hurt\", \"percent\": 0.02197802197802198}, {\"counts\": 2, \"emotion\": \"shock\", \"percent\": 0.02197802197802198}, {\"counts\": 2, \"emotion\": \"overwhelm\", \"percent\": 0.02197802197802198}, {\"counts\": 2, \"emotion\": \"tear\", \"percent\": 0.02197802197802198}, {\"counts\": 2, \"emotion\": \"scare\", \"percent\": 0.02197802197802198}, {\"counts\": 2, \"emotion\": \"sorrow\", \"percent\": 0.02197802197802198}, {\"counts\": 2, \"emotion\": \"concern\", \"percent\": 0.02197802197802198}, {\"counts\": 2, \"emotion\": \"distraught\", \"percent\": 0.02197802197802198}, {\"counts\": 2, \"emotion\": \"depress\", \"percent\": 0.02197802197802198}, {\"counts\": 1, \"emotion\": \"wrinkl\", \"percent\": 0.01098901098901099}, {\"counts\": 1, \"emotion\": \"anxiou\", \"percent\": 0.01098901098901099}, {\"counts\": 1, \"emotion\": \"wise\", \"percent\": 0.01098901098901099}, {\"counts\": 1, \"emotion\": \"unfamiliar\", \"percent\": 0.01098901098901099}, {\"counts\": 1, \"emotion\": \"distress\", \"percent\": 0.01098901098901099}, {\"counts\": 1, \"emotion\": \"anger\", \"percent\": 0.01098901098901099}], \"data-d563a92ed207f398ca3c200101cde81e\": [{\"url\": \"https://uwmadison.co1.qualtrics.com/ControlPanel/Graphic.php?IM=IM_6KEpMh9qlyvMRAa\"}], \"data-05ecf4d0669a5f698acbc3affca17536\": [{\"counts\": 43, \"emotion\": \"sad\", \"percent\": 0.4725274725274725}, {\"counts\": 6, \"emotion\": \"cri\", \"percent\": 0.06593406593406594}, {\"counts\": 5, \"emotion\": \"upset\", \"percent\": 0.054945054945054944}, {\"counts\": 4, \"emotion\": \"scare\", \"percent\": 0.04395604395604396}, {\"counts\": 3, \"emotion\": \"worri\", \"percent\": 0.03296703296703297}, {\"counts\": 3, \"emotion\": \"distress\", \"percent\": 0.03296703296703297}, {\"counts\": 2, \"emotion\": \"distraught\", \"percent\": 0.02197802197802198}, {\"counts\": 2, \"emotion\": \"tear\", \"percent\": 0.02197802197802198}, {\"counts\": 2, \"emotion\": \"unhappi\", \"percent\": 0.02197802197802198}, {\"counts\": 2, \"emotion\": \"heartbroken\", \"percent\": 0.02197802197802198}, {\"counts\": 2, \"emotion\": \"pink\", \"percent\": 0.02197802197802198}, {\"counts\": 1, \"emotion\": \"hurt\", \"percent\": 0.01098901098901099}, {\"counts\": 1, \"emotion\": \"regret\", \"percent\": 0.01098901098901099}, {\"counts\": 1, \"emotion\": \"frustrat\", \"percent\": 0.01098901098901099}, {\"counts\": 1, \"emotion\": \"helpless\", \"percent\": 0.01098901098901099}, {\"counts\": 1, \"emotion\": \"anger\", \"percent\": 0.01098901098901099}, {\"counts\": 1, \"emotion\": \"disappoint\", \"percent\": 0.01098901098901099}, {\"counts\": 1, \"emotion\": \"horrifi\", \"percent\": 0.01098901098901099}, {\"counts\": 1, \"emotion\": \"depress\", \"percent\": 0.01098901098901099}, {\"counts\": 1, \"emotion\": \"overwhelm\", \"percent\": 0.01098901098901099}], \"data-4592c73db2ef795926a5d6ac6ffa9160\": [{\"url\": \"https://uwmadison.co1.qualtrics.com/ControlPanel/Graphic.php?IM=IM_etimLaMrS2pVAAS\"}], \"data-7e9a67574ce1f1b823ff078caa59b6fe\": [{\"counts\": 33, \"emotion\": \"sad\", \"percent\": 0.3626373626373626}, {\"counts\": 8, \"emotion\": \"upset\", \"percent\": 0.08791208791208792}, {\"counts\": 5, \"emotion\": \"disappoint\", \"percent\": 0.054945054945054944}, {\"counts\": 3, \"emotion\": \"distress\", \"percent\": 0.03296703296703297}, {\"counts\": 3, \"emotion\": \"hurt\", \"percent\": 0.03296703296703297}, {\"counts\": 2, \"emotion\": \"depress\", \"percent\": 0.02197802197802198}, {\"counts\": 2, \"emotion\": \"confus\", \"percent\": 0.02197802197802198}, {\"counts\": 2, \"emotion\": \"heartbroken\", \"percent\": 0.02197802197802198}, {\"counts\": 2, \"emotion\": \"shock\", \"percent\": 0.02197802197802198}, {\"counts\": 2, \"emotion\": \"angri\", \"percent\": 0.02197802197802198}, {\"counts\": 2, \"emotion\": \"concern\", \"percent\": 0.02197802197802198}, {\"counts\": 1, \"emotion\": \"conflict\", \"percent\": 0.01098901098901099}, {\"counts\": 1, \"emotion\": \"bad\", \"percent\": 0.01098901098901099}, {\"counts\": 1, \"emotion\": \"supris\", \"percent\": 0.01098901098901099}, {\"counts\": 1, \"emotion\": \"distraught\", \"percent\": 0.01098901098901099}, {\"counts\": 1, \"emotion\": \"seriou\", \"percent\": 0.01098901098901099}, {\"counts\": 1, \"emotion\": \"winc\", \"percent\": 0.01098901098901099}, {\"counts\": 1, \"emotion\": \"unpleas\", \"percent\": 0.01098901098901099}, {\"counts\": 1, \"emotion\": \"fear\", \"percent\": 0.01098901098901099}, {\"counts\": 1, \"emotion\": \"tear\", \"percent\": 0.01098901098901099}], \"data-b086b74ab8720a490694baeb9285dbad\": [{\"url\": \"https://uwmadison.co1.qualtrics.com/ControlPanel/Graphic.php?IM=IM_dbf2dyj7KGtrN2e\"}], \"data-1ae8dedbab25f9e4923b0ad31dc01e64\": [{\"counts\": 37, \"emotion\": \"sad\", \"percent\": 0.42528735632183906}, {\"counts\": 10, \"emotion\": \"upset\", \"percent\": 0.11494252873563218}, {\"counts\": 7, \"emotion\": \"cri\", \"percent\": 0.08045977011494253}, {\"counts\": 3, \"emotion\": \"distress\", \"percent\": 0.034482758620689655}, {\"counts\": 2, \"emotion\": \"worri\", \"percent\": 0.022988505747126436}, {\"counts\": 2, \"emotion\": \"loss\", \"percent\": 0.022988505747126436}, {\"counts\": 2, \"emotion\": \"disappoint\", \"percent\": 0.022988505747126436}, {\"counts\": 2, \"emotion\": \"helpless\", \"percent\": 0.022988505747126436}, {\"counts\": 2, \"emotion\": \"tear\", \"percent\": 0.022988505747126436}, {\"counts\": 1, \"emotion\": \"mad\", \"percent\": 0.011494252873563218}, {\"counts\": 1, \"emotion\": \"angri\", \"percent\": 0.011494252873563218}, {\"counts\": 1, \"emotion\": \"heartbroken\", \"percent\": 0.011494252873563218}, {\"counts\": 1, \"emotion\": \"confus\", \"percent\": 0.011494252873563218}, {\"counts\": 1, \"emotion\": \"depress\", \"percent\": 0.011494252873563218}, {\"counts\": 1, \"emotion\": \"pout\", \"percent\": 0.011494252873563218}, {\"counts\": 1, \"emotion\": \"embarrass\", \"percent\": 0.011494252873563218}, {\"counts\": 1, \"emotion\": \"disgust\", \"percent\": 0.011494252873563218}, {\"counts\": 1, \"emotion\": \"homeless\", \"percent\": 0.011494252873563218}, {\"counts\": 1, \"emotion\": \"scare\", \"percent\": 0.011494252873563218}, {\"counts\": 1, \"emotion\": \"emot\", \"percent\": 0.011494252873563218}], \"data-6cc58dcb2671ae731f8051a26145906d\": [{\"url\": \"https://uwmadison.co1.qualtrics.com/ControlPanel/Graphic.php?IM=IM_eVzPpFKIfopOW1w\"}], \"data-5f90c164b208527e102599d940e4c14d\": [{\"counts\": 39, \"emotion\": \"sad\", \"percent\": 0.43333333333333335}, {\"counts\": 6, \"emotion\": \"cri\", \"percent\": 0.06666666666666667}, {\"counts\": 6, \"emotion\": \"upset\", \"percent\": 0.06666666666666667}, {\"counts\": 3, \"emotion\": \"guilti\", \"percent\": 0.03333333333333333}, {\"counts\": 3, \"emotion\": \"angri\", \"percent\": 0.03333333333333333}, {\"counts\": 3, \"emotion\": \"depress\", \"percent\": 0.03333333333333333}, {\"counts\": 2, \"emotion\": \"tear\", \"percent\": 0.022222222222222223}, {\"counts\": 2, \"emotion\": \"disappoint\", \"percent\": 0.022222222222222223}, {\"counts\": 2, \"emotion\": \"regret\", \"percent\": 0.022222222222222223}, {\"counts\": 2, \"emotion\": \"hurt\", \"percent\": 0.022222222222222223}, {\"counts\": 2, \"emotion\": \"lone\", \"percent\": 0.022222222222222223}, {\"counts\": 1, \"emotion\": \"stress\", \"percent\": 0.011111111111111112}, {\"counts\": 1, \"emotion\": \"struggl\", \"percent\": 0.011111111111111112}, {\"counts\": 1, \"emotion\": \"helpless\", \"percent\": 0.011111111111111112}, {\"counts\": 1, \"emotion\": \"fear\", \"percent\": 0.011111111111111112}, {\"counts\": 1, \"emotion\": \"relat\", \"percent\": 0.011111111111111112}, {\"counts\": 1, \"emotion\": \"oppos\", \"percent\": 0.011111111111111112}, {\"counts\": 1, \"emotion\": \"empathi\", \"percent\": 0.011111111111111112}, {\"counts\": 1, \"emotion\": \"puffi\", \"percent\": 0.011111111111111112}, {\"counts\": 1, \"emotion\": \"heartbroken\", \"percent\": 0.011111111111111112}], \"data-2cebe9b780a03822f088dc12c7c2c863\": [{\"url\": \"https://uwmadison.co1.qualtrics.com/ControlPanel/Graphic.php?IM=IM_9EKbisrli19qicS\"}], \"data-f5a817ef082892af4b925ff84cd30484\": [{\"counts\": 36, \"emotion\": \"sad\", \"percent\": 0.43373493975903615}, {\"counts\": 9, \"emotion\": \"upset\", \"percent\": 0.10843373493975904}, {\"counts\": 6, \"emotion\": \"cri\", \"percent\": 0.07228915662650602}, {\"counts\": 2, \"emotion\": \"mad\", \"percent\": 0.024096385542168676}, {\"counts\": 2, \"emotion\": \"unhappi\", \"percent\": 0.024096385542168676}, {\"counts\": 1, \"emotion\": \"fat\", \"percent\": 0.012048192771084338}, {\"counts\": 1, \"emotion\": \"unpleas\", \"percent\": 0.012048192771084338}, {\"counts\": 1, \"emotion\": \"strang\", \"percent\": 0.012048192771084338}, {\"counts\": 1, \"emotion\": \"bad\", \"percent\": 0.012048192771084338}, {\"counts\": 1, \"emotion\": \"worri\", \"percent\": 0.012048192771084338}, {\"counts\": 1, \"emotion\": \"hurt\", \"percent\": 0.012048192771084338}, {\"counts\": 1, \"emotion\": \"frustrat\", \"percent\": 0.012048192771084338}, {\"counts\": 1, \"emotion\": \"child\", \"percent\": 0.012048192771084338}, {\"counts\": 1, \"emotion\": \"anxiou\", \"percent\": 0.012048192771084338}, {\"counts\": 1, \"emotion\": \"disappoint\", \"percent\": 0.012048192771084338}, {\"counts\": 1, \"emotion\": \"ugli\", \"percent\": 0.012048192771084338}, {\"counts\": 1, \"emotion\": \"mourn\", \"percent\": 0.012048192771084338}, {\"counts\": 1, \"emotion\": \"anger\", \"percent\": 0.012048192771084338}, {\"counts\": 1, \"emotion\": \"cranki\", \"percent\": 0.012048192771084338}, {\"counts\": 1, \"emotion\": \"angri\", \"percent\": 0.012048192771084338}], \"data-a0133874cd2af2a18d4e61b34658d72f\": [{\"url\": \"https://uwmadison.co1.qualtrics.com/ControlPanel/Graphic.php?IM=IM_55Rjm0S1oR1ox1k\"}], \"data-aa1eba6e1129fec8196199b1a7c621ab\": [{\"counts\": 8, \"emotion\": \"sad\", \"percent\": 0.10666666666666667}, {\"counts\": 6, \"emotion\": \"confus\", \"percent\": 0.08}, {\"counts\": 4, \"emotion\": \"calm\", \"percent\": 0.05333333333333334}, {\"counts\": 4, \"emotion\": \"angri\", \"percent\": 0.05333333333333334}, {\"counts\": 4, \"emotion\": \"upset\", \"percent\": 0.05333333333333334}, {\"counts\": 3, \"emotion\": \"mad\", \"percent\": 0.04}, {\"counts\": 3, \"emotion\": \"seriou\", \"percent\": 0.04}, {\"counts\": 2, \"emotion\": \"focus\", \"percent\": 0.02666666666666667}, {\"counts\": 2, \"emotion\": \"concern\", \"percent\": 0.02666666666666667}, {\"counts\": 2, \"emotion\": \"disgust\", \"percent\": 0.02666666666666667}, {\"counts\": 2, \"emotion\": \"disappoint\", \"percent\": 0.02666666666666667}, {\"counts\": 1, \"emotion\": \"bad\", \"percent\": 0.013333333333333334}, {\"counts\": 1, \"emotion\": \"stern\", \"percent\": 0.013333333333333334}, {\"counts\": 1, \"emotion\": \"mellow\", \"percent\": 0.013333333333333334}, {\"counts\": 1, \"emotion\": \"examin\", \"percent\": 0.013333333333333334}, {\"counts\": 1, \"emotion\": \"lost\", \"percent\": 0.013333333333333334}, {\"counts\": 1, \"emotion\": \"frown\", \"percent\": 0.013333333333333334}, {\"counts\": 1, \"emotion\": \"neutral\", \"percent\": 0.013333333333333334}, {\"counts\": 1, \"emotion\": \"strong\", \"percent\": 0.013333333333333334}, {\"counts\": 1, \"emotion\": \"stoic\", \"percent\": 0.013333333333333334}], \"data-9c9ac5180961ec16998ae5c21ff60c17\": [{\"url\": \"https://uwmadison.co1.qualtrics.com/ControlPanel/Graphic.php?IM=IM_8j4LSlE16vL228e\"}], \"data-1e5a11e6da784abc63e7f8806e3219a5\": [{\"counts\": 41, \"emotion\": \"sad\", \"percent\": 0.4659090909090909}, {\"counts\": 10, \"emotion\": \"upset\", \"percent\": 0.11363636363636363}, {\"counts\": 2, \"emotion\": \"unhappi\", \"percent\": 0.022727272727272728}, {\"counts\": 2, \"emotion\": \"confus\", \"percent\": 0.022727272727272728}, {\"counts\": 2, \"emotion\": \"disappoint\", \"percent\": 0.022727272727272728}, {\"counts\": 2, \"emotion\": \"cri\", \"percent\": 0.022727272727272728}, {\"counts\": 1, \"emotion\": \"worri\", \"percent\": 0.011363636363636364}, {\"counts\": 1, \"emotion\": \"frustrat\", \"percent\": 0.011363636363636364}, {\"counts\": 1, \"emotion\": \"white\", \"percent\": 0.011363636363636364}, {\"counts\": 1, \"emotion\": \"beg\", \"percent\": 0.011363636363636364}, {\"counts\": 1, \"emotion\": \"teaful\", \"percent\": 0.011363636363636364}, {\"counts\": 1, \"emotion\": \"hungri\", \"percent\": 0.011363636363636364}, {\"counts\": 1, \"emotion\": \"hopeless\", \"percent\": 0.011363636363636364}, {\"counts\": 1, \"emotion\": \"hurt\", \"percent\": 0.011363636363636364}, {\"counts\": 1, \"emotion\": \"stun\", \"percent\": 0.011363636363636364}, {\"counts\": 1, \"emotion\": \"bad\", \"percent\": 0.011363636363636364}, {\"counts\": 1, \"emotion\": \"apathi\", \"percent\": 0.011363636363636364}, {\"counts\": 1, \"emotion\": \"fake\", \"percent\": 0.011363636363636364}, {\"counts\": 1, \"emotion\": \"miss\", \"percent\": 0.011363636363636364}, {\"counts\": 1, \"emotion\": \"distraught\", \"percent\": 0.011363636363636364}], \"data-9f7e819361029bf6eaaf2aa5ab0a92d9\": [{\"url\": \"https://uwmadison.co1.qualtrics.com/ControlPanel/Graphic.php?IM=IM_1BzaOxAnlvpmh8i\"}], \"data-d73c82a85c37fd07c918298d02e25d63\": [{\"counts\": 23, \"emotion\": \"sad\", \"percent\": 0.2911392405063291}, {\"counts\": 8, \"emotion\": \"upset\", \"percent\": 0.10126582278481013}, {\"counts\": 8, \"emotion\": \"regret\", \"percent\": 0.10126582278481013}, {\"counts\": 5, \"emotion\": \"tire\", \"percent\": 0.06329113924050633}, {\"counts\": 2, \"emotion\": \"worri\", \"percent\": 0.02531645569620253}, {\"counts\": 2, \"emotion\": \"scare\", \"percent\": 0.02531645569620253}, {\"counts\": 2, \"emotion\": \"shock\", \"percent\": 0.02531645569620253}, {\"counts\": 2, \"emotion\": \"unhappi\", \"percent\": 0.02531645569620253}, {\"counts\": 2, \"emotion\": \"angri\", \"percent\": 0.02531645569620253}, {\"counts\": 2, \"emotion\": \"guilti\", \"percent\": 0.02531645569620253}, {\"counts\": 1, \"emotion\": \"orang\", \"percent\": 0.012658227848101266}, {\"counts\": 1, \"emotion\": \"dissapoint\", \"percent\": 0.012658227848101266}, {\"counts\": 1, \"emotion\": \"depress\", \"percent\": 0.012658227848101266}, {\"counts\": 1, \"emotion\": \"displeas\", \"percent\": 0.012658227848101266}, {\"counts\": 1, \"emotion\": \"uncomfort\", \"percent\": 0.012658227848101266}, {\"counts\": 1, \"emotion\": \"jail\", \"percent\": 0.012658227848101266}, {\"counts\": 1, \"emotion\": \"betray\", \"percent\": 0.012658227848101266}, {\"counts\": 1, \"emotion\": \"unsur\", \"percent\": 0.012658227848101266}, {\"counts\": 1, \"emotion\": \"hurt\", \"percent\": 0.012658227848101266}, {\"counts\": 1, \"emotion\": \"dishevl\", \"percent\": 0.012658227848101266}], \"data-c54c36fd7dbbda09b193a800259ddca3\": [{\"url\": \"https://uwmadison.co1.qualtrics.com/ControlPanel/Graphic.php?IM=IM_83amQw1mO0Wac06\"}], \"data-084869a94b2f88eee85c0e0525125757\": [{\"counts\": 24, \"emotion\": \"sad\", \"percent\": 0.27906976744186046}, {\"counts\": 13, \"emotion\": \"upset\", \"percent\": 0.1511627906976744}, {\"counts\": 12, \"emotion\": \"angri\", \"percent\": 0.13953488372093023}, {\"counts\": 4, \"emotion\": \"mad\", \"percent\": 0.046511627906976744}, {\"counts\": 3, \"emotion\": \"frustrat\", \"percent\": 0.03488372093023256}, {\"counts\": 2, \"emotion\": \"cri\", \"percent\": 0.023255813953488372}, {\"counts\": 2, \"emotion\": \"displeas\", \"percent\": 0.023255813953488372}, {\"counts\": 2, \"emotion\": \"unhappi\", \"percent\": 0.023255813953488372}, {\"counts\": 2, \"emotion\": \"distress\", \"percent\": 0.023255813953488372}, {\"counts\": 2, \"emotion\": \"scare\", \"percent\": 0.023255813953488372}, {\"counts\": 2, \"emotion\": \"hungri\", \"percent\": 0.023255813953488372}, {\"counts\": 1, \"emotion\": \"teeth\", \"percent\": 0.011627906976744186}, {\"counts\": 1, \"emotion\": \"want\", \"percent\": 0.011627906976744186}, {\"counts\": 1, \"emotion\": \"afraid\", \"percent\": 0.011627906976744186}, {\"counts\": 1, \"emotion\": \"tear\", \"percent\": 0.011627906976744186}, {\"counts\": 1, \"emotion\": \"uncomfort\", \"percent\": 0.011627906976744186}, {\"counts\": 1, \"emotion\": \"babi\", \"percent\": 0.011627906976744186}, {\"counts\": 1, \"emotion\": \"annoy\", \"percent\": 0.011627906976744186}, {\"counts\": 1, \"emotion\": \"yell\", \"percent\": 0.011627906976744186}, {\"counts\": 1, \"emotion\": \"open\", \"percent\": 0.011627906976744186}], \"data-643ecce14ace7a57b58cb48acbd2ce27\": [{\"url\": \"https://uwmadison.co1.qualtrics.com/ControlPanel/Graphic.php?IM=IM_73Yp8FVd9OfjPP8\"}], \"data-5858e290081b9636c98bbc3898267e11\": [{\"counts\": 36, \"emotion\": \"sad\", \"percent\": 0.4}, {\"counts\": 10, \"emotion\": \"upset\", \"percent\": 0.1111111111111111}, {\"counts\": 8, \"emotion\": \"regret\", \"percent\": 0.08888888888888889}, {\"counts\": 7, \"emotion\": \"cri\", \"percent\": 0.07777777777777778}, {\"counts\": 3, \"emotion\": \"disappoint\", \"percent\": 0.03333333333333333}, {\"counts\": 3, \"emotion\": \"tear\", \"percent\": 0.03333333333333333}, {\"counts\": 2, \"emotion\": \"distraught\", \"percent\": 0.022222222222222223}, {\"counts\": 2, \"emotion\": \"scare\", \"percent\": 0.022222222222222223}, {\"counts\": 2, \"emotion\": \"worri\", \"percent\": 0.022222222222222223}, {\"counts\": 1, \"emotion\": \"creepi\", \"percent\": 0.011111111111111112}, {\"counts\": 1, \"emotion\": \"anxiou\", \"percent\": 0.011111111111111112}, {\"counts\": 1, \"emotion\": \"crt\", \"percent\": 0.011111111111111112}, {\"counts\": 1, \"emotion\": \"mourn\", \"percent\": 0.011111111111111112}, {\"counts\": 1, \"emotion\": \"remors\", \"percent\": 0.011111111111111112}, {\"counts\": 1, \"emotion\": \"hurt\", \"percent\": 0.011111111111111112}, {\"counts\": 1, \"emotion\": \"depress\", \"percent\": 0.011111111111111112}, {\"counts\": 1, \"emotion\": \"angri\", \"percent\": 0.011111111111111112}, {\"counts\": 1, \"emotion\": \"desper\", \"percent\": 0.011111111111111112}, {\"counts\": 1, \"emotion\": \"guilti\", \"percent\": 0.011111111111111112}, {\"counts\": 1, \"emotion\": \"da\", \"percent\": 0.011111111111111112}], \"data-61bb5a8917149edd20b156233eb7c0e2\": [{\"url\": \"https://uwmadison.co1.qualtrics.com/ControlPanel/Graphic.php?IM=IM_dahScWh9wdBUhlY\"}], \"data-586e6bc3f6d6910ed200f87533e8b51f\": [{\"counts\": 26, \"emotion\": \"sad\", \"percent\": 0.3023255813953488}, {\"counts\": 13, \"emotion\": \"upset\", \"percent\": 0.1511627906976744}, {\"counts\": 7, \"emotion\": \"cri\", \"percent\": 0.08139534883720931}, {\"counts\": 7, \"emotion\": \"angri\", \"percent\": 0.08139534883720931}, {\"counts\": 4, \"emotion\": \"frustrat\", \"percent\": 0.046511627906976744}, {\"counts\": 4, \"emotion\": \"scare\", \"percent\": 0.046511627906976744}, {\"counts\": 3, \"emotion\": \"mad\", \"percent\": 0.03488372093023256}, {\"counts\": 2, \"emotion\": \"distress\", \"percent\": 0.023255813953488372}, {\"counts\": 2, \"emotion\": \"uncomfort\", \"percent\": 0.023255813953488372}, {\"counts\": 1, \"emotion\": \"unpleas\", \"percent\": 0.011627906976744186}, {\"counts\": 1, \"emotion\": \"none\", \"percent\": 0.011627906976744186}, {\"counts\": 1, \"emotion\": \"frustur\", \"percent\": 0.011627906976744186}, {\"counts\": 1, \"emotion\": \"hurt\", \"percent\": 0.011627906976744186}, {\"counts\": 1, \"emotion\": \"tantrum\", \"percent\": 0.011627906976744186}, {\"counts\": 1, \"emotion\": \"unhappi\", \"percent\": 0.011627906976744186}, {\"counts\": 1, \"emotion\": \"sob\", \"percent\": 0.011627906976744186}, {\"counts\": 1, \"emotion\": \"fruser\", \"percent\": 0.011627906976744186}, {\"counts\": 1, \"emotion\": \"distraught\", \"percent\": 0.011627906976744186}, {\"counts\": 1, \"emotion\": \"surpris\", \"percent\": 0.011627906976744186}, {\"counts\": 1, \"emotion\": \"scream\", \"percent\": 0.011627906976744186}], \"data-3f19fe7f317c57a89a2e911aa36d7680\": [{\"url\": \"https://uwmadison.co1.qualtrics.com/ControlPanel/Graphic.php?IM=IM_77jUBNTFvgA7yxU\"}], \"data-92ae4e02599f267aff7aaa7e56d11a47\": [{\"counts\": 17, \"emotion\": \"sad\", \"percent\": 0.2073170731707317}, {\"counts\": 8, \"emotion\": \"upset\", \"percent\": 0.0975609756097561}, {\"counts\": 7, \"emotion\": \"angri\", \"percent\": 0.08536585365853659}, {\"counts\": 7, \"emotion\": \"regret\", \"percent\": 0.08536585365853659}, {\"counts\": 6, \"emotion\": \"mad\", \"percent\": 0.07317073170731707}, {\"counts\": 4, \"emotion\": \"guilti\", \"percent\": 0.04878048780487805}, {\"counts\": 2, \"emotion\": \"unpleas\", \"percent\": 0.024390243902439025}, {\"counts\": 2, \"emotion\": \"seriou\", \"percent\": 0.024390243902439025}, {\"counts\": 2, \"emotion\": \"cri\", \"percent\": 0.024390243902439025}, {\"counts\": 2, \"emotion\": \"hurt\", \"percent\": 0.024390243902439025}, {\"counts\": 2, \"emotion\": \"tire\", \"percent\": 0.024390243902439025}, {\"counts\": 1, \"emotion\": \"dislik\", \"percent\": 0.012195121951219513}, {\"counts\": 1, \"emotion\": \"dissaponit\", \"percent\": 0.012195121951219513}, {\"counts\": 1, \"emotion\": \"embarrass\", \"percent\": 0.012195121951219513}, {\"counts\": 1, \"emotion\": \"remors\", \"percent\": 0.012195121951219513}, {\"counts\": 1, \"emotion\": \"ugli\", \"percent\": 0.012195121951219513}, {\"counts\": 1, \"emotion\": \"stress\", \"percent\": 0.012195121951219513}, {\"counts\": 1, \"emotion\": \"afraid\", \"percent\": 0.012195121951219513}, {\"counts\": 1, \"emotion\": \"distraught\", \"percent\": 0.012195121951219513}, {\"counts\": 1, \"emotion\": \"scare\", \"percent\": 0.012195121951219513}], \"data-e4f7f6762e39cfd2dbb1e1d69778069f\": [{\"url\": \"https://uwmadison.co1.qualtrics.com/ControlPanel/Graphic.php?IM=IM_7NHotnPd2lT9Foa\"}], \"data-e8b51997f9fa475278deb52062dfc9a1\": [{\"counts\": 42, \"emotion\": \"sad\", \"percent\": 0.5526315789473685}, {\"counts\": 9, \"emotion\": \"upset\", \"percent\": 0.11842105263157894}, {\"counts\": 3, \"emotion\": \"unhappi\", \"percent\": 0.039473684210526314}, {\"counts\": 2, \"emotion\": \"displeas\", \"percent\": 0.02631578947368421}, {\"counts\": 2, \"emotion\": \"worri\", \"percent\": 0.02631578947368421}, {\"counts\": 2, \"emotion\": \"disappoint\", \"percent\": 0.02631578947368421}, {\"counts\": 2, \"emotion\": \"hurt\", \"percent\": 0.02631578947368421}, {\"counts\": 2, \"emotion\": \"cri\", \"percent\": 0.02631578947368421}, {\"counts\": 1, \"emotion\": \"tear\", \"percent\": 0.013157894736842105}, {\"counts\": 1, \"emotion\": \"put-off\", \"percent\": 0.013157894736842105}, {\"counts\": 1, \"emotion\": \"frown\", \"percent\": 0.013157894736842105}, {\"counts\": 1, \"emotion\": \"depress\", \"percent\": 0.013157894736842105}, {\"counts\": 1, \"emotion\": \"sorri\", \"percent\": 0.013157894736842105}, {\"counts\": 1, \"emotion\": \"pouti\", \"percent\": 0.013157894736842105}, {\"counts\": 1, \"emotion\": \"frustrat\", \"percent\": 0.013157894736842105}, {\"counts\": 1, \"emotion\": \"mourn\", \"percent\": 0.013157894736842105}, {\"counts\": 1, \"emotion\": \"scare\", \"percent\": 0.013157894736842105}, {\"counts\": 1, \"emotion\": \"bad\", \"percent\": 0.013157894736842105}, {\"counts\": 1, \"emotion\": \"fat\", \"percent\": 0.013157894736842105}, {\"counts\": 1, \"emotion\": \"ugli\", \"percent\": 0.013157894736842105}], \"data-44dcd4c3f6017385f1b2b75421286d2a\": [{\"url\": \"https://uwmadison.co1.qualtrics.com/ControlPanel/Graphic.php?IM=IM_0pqIA60jUTgdaQe\"}], \"data-14fea5983639ee6259d7ed767b2af08a\": [{\"counts\": 17, \"emotion\": \"sad\", \"percent\": 0.2328767123287671}, {\"counts\": 4, \"emotion\": \"regret\", \"percent\": 0.0547945205479452}, {\"counts\": 4, \"emotion\": \"seriou\", \"percent\": 0.0547945205479452}, {\"counts\": 3, \"emotion\": \"guilti\", \"percent\": 0.0410958904109589}, {\"counts\": 3, \"emotion\": \"tire\", \"percent\": 0.0410958904109589}, {\"counts\": 3, \"emotion\": \"upset\", \"percent\": 0.0410958904109589}, {\"counts\": 2, \"emotion\": \"bore\", \"percent\": 0.0273972602739726}, {\"counts\": 2, \"emotion\": \"unhappi\", \"percent\": 0.0273972602739726}, {\"counts\": 2, \"emotion\": \"chill\", \"percent\": 0.0273972602739726}, {\"counts\": 2, \"emotion\": \"none\", \"percent\": 0.0273972602739726}, {\"counts\": 2, \"emotion\": \"calm\", \"percent\": 0.0273972602739726}, {\"counts\": 1, \"emotion\": \"blank\", \"percent\": 0.0136986301369863}, {\"counts\": 1, \"emotion\": \"dissaponit\", \"percent\": 0.0136986301369863}, {\"counts\": 1, \"emotion\": \"uncomfort\", \"percent\": 0.0136986301369863}, {\"counts\": 1, \"emotion\": \"confus\", \"percent\": 0.0136986301369863}, {\"counts\": 1, \"emotion\": \"ugli\", \"percent\": 0.0136986301369863}, {\"counts\": 1, \"emotion\": \"bad\", \"percent\": 0.0136986301369863}, {\"counts\": 1, \"emotion\": \"mourn\", \"percent\": 0.0136986301369863}, {\"counts\": 1, \"emotion\": \"mad\", \"percent\": 0.0136986301369863}, {\"counts\": 1, \"emotion\": \"worri\", \"percent\": 0.0136986301369863}], \"data-04ae5af523165c2ae3aea9a5ebd85061\": [{\"url\": \"https://uwmadison.co1.qualtrics.com/ControlPanel/Graphic.php?IM=IM_bNT78GDXgMqiTLU\"}], \"data-5d9e07d3958b704dcf7f7863d840891d\": [{\"counts\": 36, \"emotion\": \"sad\", \"percent\": 0.43373493975903615}, {\"counts\": 10, \"emotion\": \"upset\", \"percent\": 0.12048192771084337}, {\"counts\": 6, \"emotion\": \"cri\", \"percent\": 0.07228915662650602}, {\"counts\": 4, \"emotion\": \"hurt\", \"percent\": 0.04819277108433735}, {\"counts\": 3, \"emotion\": \"angri\", \"percent\": 0.03614457831325301}, {\"counts\": 2, \"emotion\": \"distress\", \"percent\": 0.024096385542168676}, {\"counts\": 2, \"emotion\": \"unhappi\", \"percent\": 0.024096385542168676}, {\"counts\": 2, \"emotion\": \"frustrat\", \"percent\": 0.024096385542168676}, {\"counts\": 1, \"emotion\": \"none\", \"percent\": 0.012048192771084338}, {\"counts\": 1, \"emotion\": \"need\", \"percent\": 0.012048192771084338}, {\"counts\": 1, \"emotion\": \"scare\", \"percent\": 0.012048192771084338}, {\"counts\": 1, \"emotion\": \"unpleasnat\", \"percent\": 0.012048192771084338}, {\"counts\": 1, \"emotion\": \"distraught\", \"percent\": 0.012048192771084338}, {\"counts\": 1, \"emotion\": \"tantrum\", \"percent\": 0.012048192771084338}, {\"counts\": 1, \"emotion\": \"bad\", \"percent\": 0.012048192771084338}, {\"counts\": 1, \"emotion\": \"suffer\", \"percent\": 0.012048192771084338}, {\"counts\": 1, \"emotion\": \"cute\", \"percent\": 0.012048192771084338}, {\"counts\": 1, \"emotion\": \"babi\", \"percent\": 0.012048192771084338}, {\"counts\": 1, \"emotion\": \"uncomfort\", \"percent\": 0.012048192771084338}, {\"counts\": 1, \"emotion\": \"mad\", \"percent\": 0.012048192771084338}], \"data-ad73eb88b8e644787982a60c08325c57\": [{\"url\": \"https://uwmadison.co1.qualtrics.com/ControlPanel/Graphic.php?IM=IM_5au9MLWYoSZyrj0\"}], \"data-f23e9c933d0609c4296d07f6b3a723d9\": [{\"counts\": 11, \"emotion\": \"disgust\", \"percent\": 0.15714285714285714}, {\"counts\": 8, \"emotion\": \"sad\", \"percent\": 0.11428571428571428}, {\"counts\": 8, \"emotion\": \"confus\", \"percent\": 0.11428571428571428}, {\"counts\": 5, \"emotion\": \"annoy\", \"percent\": 0.07142857142857142}, {\"counts\": 3, \"emotion\": \"angri\", \"percent\": 0.04285714285714286}, {\"counts\": 3, \"emotion\": \"none\", \"percent\": 0.04285714285714286}, {\"counts\": 2, \"emotion\": \"upset\", \"percent\": 0.02857142857142857}, {\"counts\": 2, \"emotion\": \"mad\", \"percent\": 0.02857142857142857}, {\"counts\": 2, \"emotion\": \"depress\", \"percent\": 0.02857142857142857}, {\"counts\": 2, \"emotion\": \"concern\", \"percent\": 0.02857142857142857}, {\"counts\": 1, \"emotion\": \"stare\", \"percent\": 0.014285714285714285}, {\"counts\": 1, \"emotion\": \"worri\", \"percent\": 0.014285714285714285}, {\"counts\": 1, \"emotion\": \"unhappi\", \"percent\": 0.014285714285714285}, {\"counts\": 1, \"emotion\": \"regret\", \"percent\": 0.014285714285714285}, {\"counts\": 1, \"emotion\": \"irrit\", \"percent\": 0.014285714285714285}, {\"counts\": 1, \"emotion\": \"displeas\", \"percent\": 0.014285714285714285}, {\"counts\": 1, \"emotion\": \"stress\", \"percent\": 0.014285714285714285}, {\"counts\": 1, \"emotion\": \"frustrat\", \"percent\": 0.014285714285714285}, {\"counts\": 1, \"emotion\": \"uncomfort\", \"percent\": 0.014285714285714285}, {\"counts\": 1, \"emotion\": \"old\", \"percent\": 0.014285714285714285}], \"data-d7fce5ea956e7dfe0d108717eca9165b\": [{\"url\": \"https://uwmadison.co1.qualtrics.com/ControlPanel/Graphic.php?IM=IM_6A6ANrMmpt0lXFQ\"}], \"data-68b592b12536fc48191dbe43e85a803a\": [{\"counts\": 20, \"emotion\": \"sad\", \"percent\": 0.3076923076923077}, {\"counts\": 6, \"emotion\": \"worri\", \"percent\": 0.09230769230769231}, {\"counts\": 5, \"emotion\": \"none\", \"percent\": 0.07692307692307693}, {\"counts\": 5, \"emotion\": \"confus\", \"percent\": 0.07692307692307693}, {\"counts\": 4, \"emotion\": \"scare\", \"percent\": 0.06153846153846154}, {\"counts\": 3, \"emotion\": \"concern\", \"percent\": 0.046153846153846156}, {\"counts\": 2, \"emotion\": \"disappoint\", \"percent\": 0.03076923076923077}, {\"counts\": 2, \"emotion\": \"seriou\", \"percent\": 0.03076923076923077}, {\"counts\": 1, \"emotion\": \"hopeless\", \"percent\": 0.015384615384615385}, {\"counts\": 1, \"emotion\": \"depress\", \"percent\": 0.015384615384615385}, {\"counts\": 1, \"emotion\": \"indiffer\", \"percent\": 0.015384615384615385}, {\"counts\": 1, \"emotion\": \"hurt\", \"percent\": 0.015384615384615385}, {\"counts\": 1, \"emotion\": \"innoc\", \"percent\": 0.015384615384615385}, {\"counts\": 1, \"emotion\": \"tire\", \"percent\": 0.015384615384615385}, {\"counts\": 1, \"emotion\": \"tear\", \"percent\": 0.015384615384615385}, {\"counts\": 1, \"emotion\": \"lone\", \"percent\": 0.015384615384615385}, {\"counts\": 1, \"emotion\": \"naiv\", \"percent\": 0.015384615384615385}, {\"counts\": 1, \"emotion\": \"shock\", \"percent\": 0.015384615384615385}, {\"counts\": 1, \"emotion\": \"blank\", \"percent\": 0.015384615384615385}, {\"counts\": 1, \"emotion\": \"sassi\", \"percent\": 0.015384615384615385}], \"data-8661fdd81041e8437ebc5244c58ce1c2\": [{\"url\": \"https://uwmadison.co1.qualtrics.com/ControlPanel/Graphic.php?IM=IM_6AkMWXDnyOPXs6a\"}], \"data-97e40d138458feef67f0ab74627c38a0\": [{\"counts\": 37, \"emotion\": \"sad\", \"percent\": 0.44047619047619047}, {\"counts\": 10, \"emotion\": \"upset\", \"percent\": 0.11904761904761904}, {\"counts\": 6, \"emotion\": \"regret\", \"percent\": 0.07142857142857142}, {\"counts\": 3, \"emotion\": \"depress\", \"percent\": 0.03571428571428571}, {\"counts\": 3, \"emotion\": \"scare\", \"percent\": 0.03571428571428571}, {\"counts\": 1, \"emotion\": \"efwfwefew\", \"percent\": 0.011904761904761904}, {\"counts\": 1, \"emotion\": \"uncomfort\", \"percent\": 0.011904761904761904}, {\"counts\": 1, \"emotion\": \"tear\", \"percent\": 0.011904761904761904}, {\"counts\": 1, \"emotion\": \"hopeless\", \"percent\": 0.011904761904761904}, {\"counts\": 1, \"emotion\": \"apprehens\", \"percent\": 0.011904761904761904}, {\"counts\": 1, \"emotion\": \"frustrat\", \"percent\": 0.011904761904761904}, {\"counts\": 1, \"emotion\": \"worri\", \"percent\": 0.011904761904761904}, {\"counts\": 1, \"emotion\": \"unhappi\", \"percent\": 0.011904761904761904}, {\"counts\": 1, \"emotion\": \"dissapoint\", \"percent\": 0.011904761904761904}, {\"counts\": 1, \"emotion\": \"troubl\", \"percent\": 0.011904761904761904}, {\"counts\": 1, \"emotion\": \"guilti\", \"percent\": 0.011904761904761904}, {\"counts\": 1, \"emotion\": \"distress\", \"percent\": 0.011904761904761904}, {\"counts\": 1, \"emotion\": \"cri\", \"percent\": 0.011904761904761904}, {\"counts\": 1, \"emotion\": \"weari\", \"percent\": 0.011904761904761904}, {\"counts\": 1, \"emotion\": \"malcont\", \"percent\": 0.011904761904761904}], \"data-43d260537f3e736ea19410898df7c080\": [{\"url\": \"https://uwmadison.co1.qualtrics.com/ControlPanel/Graphic.php?IM=IM_0pvcXJMnnou5XxA\"}], \"data-041e057e62d6e18cca896f75cee8559a\": [{\"counts\": 27, \"emotion\": \"sad\", \"percent\": 0.43548387096774194}, {\"counts\": 6, \"emotion\": \"none\", \"percent\": 0.0967741935483871}, {\"counts\": 3, \"emotion\": \"worri\", \"percent\": 0.04838709677419355}, {\"counts\": 2, \"emotion\": \"depress\", \"percent\": 0.03225806451612903}, {\"counts\": 2, \"emotion\": \"upset\", \"percent\": 0.03225806451612903}, {\"counts\": 2, \"emotion\": \"concern\", \"percent\": 0.03225806451612903}, {\"counts\": 2, \"emotion\": \"scare\", \"percent\": 0.03225806451612903}, {\"counts\": 2, \"emotion\": \"content\", \"percent\": 0.03225806451612903}, {\"counts\": 1, \"emotion\": \"distress\", \"percent\": 0.016129032258064516}, {\"counts\": 1, \"emotion\": \"nervou\", \"percent\": 0.016129032258064516}, {\"counts\": 1, \"emotion\": \"chill\", \"percent\": 0.016129032258064516}, {\"counts\": 1, \"emotion\": \"disappoint\", \"percent\": 0.016129032258064516}, {\"counts\": 1, \"emotion\": \"jealou\", \"percent\": 0.016129032258064516}, {\"counts\": 1, \"emotion\": \"despair\", \"percent\": 0.016129032258064516}, {\"counts\": 1, \"emotion\": \"confus\", \"percent\": 0.016129032258064516}, {\"counts\": 1, \"emotion\": \"curiou\", \"percent\": 0.016129032258064516}, {\"counts\": 1, \"emotion\": \"care\", \"percent\": 0.016129032258064516}, {\"counts\": 1, \"emotion\": \"cute\", \"percent\": 0.016129032258064516}, {\"counts\": 1, \"emotion\": \"cri\", \"percent\": 0.016129032258064516}, {\"counts\": 1, \"emotion\": \"seriou\", \"percent\": 0.016129032258064516}], \"data-7fbb60f8eceae05cf33b5ca951ccda07\": [{\"url\": \"https://uwmadison.co1.qualtrics.com/ControlPanel/Graphic.php?IM=IM_7365JYEsalfFK3c\"}], \"data-6941422ed9665b32ace82c03f5d781f9\": [{\"counts\": 29, \"emotion\": \"sad\", \"percent\": 0.38666666666666666}, {\"counts\": 7, \"emotion\": \"upset\", \"percent\": 0.09333333333333334}, {\"counts\": 6, \"emotion\": \"regret\", \"percent\": 0.08}, {\"counts\": 3, \"emotion\": \"cri\", \"percent\": 0.04}, {\"counts\": 3, \"emotion\": \"scare\", \"percent\": 0.04}, {\"counts\": 2, \"emotion\": \"none\", \"percent\": 0.02666666666666667}, {\"counts\": 2, \"emotion\": \"unhappi\", \"percent\": 0.02666666666666667}, {\"counts\": 2, \"emotion\": \"remors\", \"percent\": 0.02666666666666667}, {\"counts\": 2, \"emotion\": \"tear\", \"percent\": 0.02666666666666667}, {\"counts\": 1, \"emotion\": \"hate\", \"percent\": 0.013333333333333334}, {\"counts\": 1, \"emotion\": \"devast\", \"percent\": 0.013333333333333334}, {\"counts\": 1, \"emotion\": \"weari\", \"percent\": 0.013333333333333334}, {\"counts\": 1, \"emotion\": \"terrifi\", \"percent\": 0.013333333333333334}, {\"counts\": 1, \"emotion\": \"uncomfort\", \"percent\": 0.013333333333333334}, {\"counts\": 1, \"emotion\": \"distraught\", \"percent\": 0.013333333333333334}, {\"counts\": 1, \"emotion\": \"mourn\", \"percent\": 0.013333333333333334}, {\"counts\": 1, \"emotion\": \"uncertain\", \"percent\": 0.013333333333333334}, {\"counts\": 1, \"emotion\": \"hurt\", \"percent\": 0.013333333333333334}, {\"counts\": 1, \"emotion\": \"worri\", \"percent\": 0.013333333333333334}, {\"counts\": 1, \"emotion\": \"mad\", \"percent\": 0.013333333333333334}], \"data-bb5f8934a37917e9cfd232cd430ea230\": [{\"url\": \"https://uwmadison.co1.qualtrics.com/ControlPanel/Graphic.php?IM=IM_4ObHALgYpr6zhn8\"}], \"data-71f6cfb90f025670fc2791c92a63a9e4\": [{\"counts\": 11, \"emotion\": \"sad\", \"percent\": 0.16923076923076924}, {\"counts\": 8, \"emotion\": \"mad\", \"percent\": 0.12307692307692308}, {\"counts\": 7, \"emotion\": \"angri\", \"percent\": 0.1076923076923077}, {\"counts\": 4, \"emotion\": \"none\", \"percent\": 0.06153846153846154}, {\"counts\": 3, \"emotion\": \"upset\", \"percent\": 0.046153846153846156}, {\"counts\": 3, \"emotion\": \"annoy\", \"percent\": 0.046153846153846156}, {\"counts\": 2, \"emotion\": \"pout\", \"percent\": 0.03076923076923077}, {\"counts\": 2, \"emotion\": \"focus\", \"percent\": 0.03076923076923077}, {\"counts\": 2, \"emotion\": \"content\", \"percent\": 0.03076923076923077}, {\"counts\": 2, \"emotion\": \"blank\", \"percent\": 0.03076923076923077}, {\"counts\": 1, \"emotion\": \"needi\", \"percent\": 0.015384615384615385}, {\"counts\": 1, \"emotion\": \"irrit\", \"percent\": 0.015384615384615385}, {\"counts\": 1, \"emotion\": \"frustrat\", \"percent\": 0.015384615384615385}, {\"counts\": 1, \"emotion\": \"attent\", \"percent\": 0.015384615384615385}, {\"counts\": 1, \"emotion\": \"uncomfort\", \"percent\": 0.015384615384615385}, {\"counts\": 1, \"emotion\": \"sassi\", \"percent\": 0.015384615384615385}, {\"counts\": 1, \"emotion\": \"pretti\", \"percent\": 0.015384615384615385}, {\"counts\": 1, \"emotion\": \"indiffer\", \"percent\": 0.015384615384615385}, {\"counts\": 1, \"emotion\": \"critic\", \"percent\": 0.015384615384615385}, {\"counts\": 1, \"emotion\": \"unhappi\", \"percent\": 0.015384615384615385}], \"data-a94c73cf63e9c1cab63d12610311c423\": [{\"url\": \"https://uwmadison.co1.qualtrics.com/ControlPanel/Graphic.php?IM=IM_4ZMiIx0eAUH9slo\"}], \"data-39d5c10cfbad23f3690796893203c187\": [{\"counts\": 8, \"emotion\": \"confus\", \"percent\": 0.13114754098360656}, {\"counts\": 8, \"emotion\": \"sad\", \"percent\": 0.13114754098360656}, {\"counts\": 3, \"emotion\": \"angri\", \"percent\": 0.04918032786885246}, {\"counts\": 2, \"emotion\": \"bore\", \"percent\": 0.03278688524590164}, {\"counts\": 2, \"emotion\": \"blank\", \"percent\": 0.03278688524590164}, {\"counts\": 2, \"emotion\": \"concern\", \"percent\": 0.03278688524590164}, {\"counts\": 2, \"emotion\": \"seriou\", \"percent\": 0.03278688524590164}, {\"counts\": 2, \"emotion\": \"none\", \"percent\": 0.03278688524590164}, {\"counts\": 2, \"emotion\": \"question\", \"percent\": 0.03278688524590164}, {\"counts\": 2, \"emotion\": \"disappoint\", \"percent\": 0.03278688524590164}, {\"counts\": 2, \"emotion\": \"interest\", \"percent\": 0.03278688524590164}, {\"counts\": 2, \"emotion\": \"upset\", \"percent\": 0.03278688524590164}, {\"counts\": 1, \"emotion\": \"stare\", \"percent\": 0.01639344262295082}, {\"counts\": 1, \"emotion\": \"emotionless\", \"percent\": 0.01639344262295082}, {\"counts\": 1, \"emotion\": \"uncomfort\", \"percent\": 0.01639344262295082}, {\"counts\": 1, \"emotion\": \"worri\", \"percent\": 0.01639344262295082}, {\"counts\": 1, \"emotion\": \"disbelief\", \"percent\": 0.01639344262295082}, {\"counts\": 1, \"emotion\": \"check\", \"percent\": 0.01639344262295082}, {\"counts\": 1, \"emotion\": \"indiffer\", \"percent\": 0.01639344262295082}, {\"counts\": 1, \"emotion\": \"lost\", \"percent\": 0.01639344262295082}], \"data-2543ab1291cdc5eae971e9c1d31cc182\": [{\"url\": \"https://uwmadison.co1.qualtrics.com/ControlPanel/Graphic.php?IM=IM_8AHT36OY3USaPe6\"}], \"data-b6b70d48ad59df8c08f9a507164696e3\": [{\"counts\": 30, \"emotion\": \"sad\", \"percent\": 0.38961038961038963}, {\"counts\": 10, \"emotion\": \"upset\", \"percent\": 0.12987012987012986}, {\"counts\": 4, \"emotion\": \"mad\", \"percent\": 0.05194805194805195}, {\"counts\": 4, \"emotion\": \"cri\", \"percent\": 0.05194805194805195}, {\"counts\": 4, \"emotion\": \"angri\", \"percent\": 0.05194805194805195}, {\"counts\": 2, \"emotion\": \"none\", \"percent\": 0.025974025974025976}, {\"counts\": 2, \"emotion\": \"distraught\", \"percent\": 0.025974025974025976}, {\"counts\": 2, \"emotion\": \"tantrum\", \"percent\": 0.025974025974025976}, {\"counts\": 2, \"emotion\": \"distress\", \"percent\": 0.025974025974025976}, {\"counts\": 2, \"emotion\": \"scare\", \"percent\": 0.025974025974025976}, {\"counts\": 2, \"emotion\": \"scream\", \"percent\": 0.025974025974025976}, {\"counts\": 1, \"emotion\": \"show\", \"percent\": 0.012987012987012988}, {\"counts\": 1, \"emotion\": \"bad\", \"percent\": 0.012987012987012988}, {\"counts\": 1, \"emotion\": \"unpleas\", \"percent\": 0.012987012987012988}, {\"counts\": 1, \"emotion\": \"cranki\", \"percent\": 0.012987012987012988}, {\"counts\": 1, \"emotion\": \"fruster\", \"percent\": 0.012987012987012988}, {\"counts\": 1, \"emotion\": \"unhappi\", \"percent\": 0.012987012987012988}, {\"counts\": 1, \"emotion\": \"dislik\", \"percent\": 0.012987012987012988}, {\"counts\": 1, \"emotion\": \"kid\", \"percent\": 0.012987012987012988}, {\"counts\": 1, \"emotion\": \"uncomfort\", \"percent\": 0.012987012987012988}], \"data-8152b5d2c2d746ec86f0c35da021f883\": [{\"url\": \"https://uwmadison.co1.qualtrics.com/ControlPanel/Graphic.php?IM=IM_cSZwt3HTocE50jk\"}]}}, {\"mode\": \"vega-lite\"});\n",
       "</script>"
      ],
      "text/plain": [
       "alt.VConcatChart(...)"
      ]
     },
     "execution_count": 39,
     "metadata": {},
     "output_type": "execute_result"
    }
   ],
   "source": [
    "charts = charts_emotion_faces(df_emo_answers, 'sadness')\n",
    "dashboard_emotion_faces(charts, 8)"
   ]
  },
  {
   "cell_type": "code",
   "execution_count": null,
   "id": "17905301-3276-49ff-b995-4aca5e7308d5",
   "metadata": {},
   "outputs": [],
   "source": []
  }
 ],
 "metadata": {
  "interpreter": {
   "hash": "0353e939db601dafb04d2c079fe964b10a82a41961934d9a2462ee642708624d"
  },
  "kernelspec": {
   "display_name": "Python 3 (ipykernel)",
   "language": "python",
   "name": "python3"
  },
  "language_info": {
   "codemirror_mode": {
    "name": "ipython",
    "version": 3
   },
   "file_extension": ".py",
   "mimetype": "text/x-python",
   "name": "python",
   "nbconvert_exporter": "python",
   "pygments_lexer": "ipython3",
   "version": "3.9.7"
  }
 },
 "nbformat": 4,
 "nbformat_minor": 5
}
