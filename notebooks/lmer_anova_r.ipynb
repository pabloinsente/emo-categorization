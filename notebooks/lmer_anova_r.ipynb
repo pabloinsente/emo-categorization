{
 "cells": [
  {
   "cell_type": "code",
   "execution_count": 1,
   "id": "f5727e69",
   "metadata": {},
   "outputs": [
    {
     "name": "stderr",
     "output_type": "stream",
     "text": [
      "Warning message:\n",
      "“package ‘rstatix’ was built under R version 4.0.3”\n",
      "\n",
      "Attaching package: ‘rstatix’\n",
      "\n",
      "\n",
      "The following object is masked from ‘package:stats’:\n",
      "\n",
      "    filter\n",
      "\n",
      "\n",
      "Warning message:\n",
      "“package ‘readr’ was built under R version 4.0.5”\n",
      "Warning message:\n",
      "“package ‘afex’ was built under R version 4.0.5”\n",
      "Loading required package: lme4\n",
      "\n",
      "Warning message:\n",
      "“package ‘lme4’ was built under R version 4.0.5”\n",
      "Loading required package: Matrix\n",
      "\n",
      "Warning message:\n",
      "“package ‘Matrix’ was built under R version 4.0.5”\n",
      "************\n",
      "Welcome to afex. For support visit: http://afex.singmann.science/\n",
      "\n",
      "- Functions for ANOVAs: aov_car(), aov_ez(), and aov_4()\n",
      "- Methods for calculating p-values with mixed(): 'S', 'KR', 'LRT', and 'PB'\n",
      "- 'afex_aov' and 'mixed' objects can be passed to emmeans() for follow-up tests\n",
      "- NEWS: emmeans() for ANOVA models now uses model = 'multivariate' as default.\n",
      "- Get and set global package options with: afex_options()\n",
      "- Set orthogonal sum-to-zero contrasts globally: set_sum_contrasts()\n",
      "- For example analyses see: browseVignettes(\"afex\")\n",
      "************\n",
      "\n",
      "\n",
      "Attaching package: ‘afex’\n",
      "\n",
      "\n",
      "The following object is masked from ‘package:lme4’:\n",
      "\n",
      "    lmer\n",
      "\n",
      "\n",
      "Warning message:\n",
      "“package ‘performance’ was built under R version 4.0.5”\n",
      "Warning message:\n",
      "“package ‘optimx’ was built under R version 4.0.5”\n",
      "Warning message:\n",
      "“package ‘minqa’ was built under R version 4.0.3”\n",
      "Warning message:\n",
      "“package ‘ggpubr’ was built under R version 4.0.5”\n",
      "Loading required package: ggplot2\n",
      "\n",
      "Warning message:\n",
      "“package ‘ggplot2’ was built under R version 4.0.5”\n",
      "Warning message:\n",
      "“package ‘ez’ was built under R version 4.0.5”\n"
     ]
    }
   ],
   "source": [
    "library(rstatix)\n",
    "library(readr)\n",
    "# library(lme4)\n",
    "library(afex)\n",
    "library(performance)\n",
    "library(RCurl)\n",
    "library(optimx)\n",
    "library(parallel)\n",
    "library(minqa)\n",
    "library(ggpubr)\n",
    "library(ez) \n",
    "# https://github.com/mike-lawrence/ez"
   ]
  },
  {
   "cell_type": "markdown",
   "id": "0cfe7352",
   "metadata": {},
   "source": [
    "# Forced-choice survey LMER"
   ]
  },
  {
   "cell_type": "code",
   "execution_count": 2,
   "id": "2586ede7",
   "metadata": {},
   "outputs": [
    {
     "name": "stderr",
     "output_type": "stream",
     "text": [
      "\n",
      "\u001b[36m──\u001b[39m \u001b[1m\u001b[1mColumn specification\u001b[1m\u001b[22m \u001b[36m──────────────────────────────────────────────────────────────────────────────────────\u001b[39m\n",
      "cols(\n",
      "  participantId = \u001b[32mcol_double()\u001b[39m,\n",
      "  photoId = \u001b[31mcol_character()\u001b[39m,\n",
      "  emotion = \u001b[31mcol_character()\u001b[39m,\n",
      "  ethnicity = \u001b[31mcol_character()\u001b[39m,\n",
      "  sex = \u001b[31mcol_character()\u001b[39m,\n",
      "  age = \u001b[31mcol_character()\u001b[39m,\n",
      "  label = \u001b[31mcol_character()\u001b[39m,\n",
      "  url = \u001b[31mcol_character()\u001b[39m,\n",
      "  sentimentScore = \u001b[32mcol_double()\u001b[39m,\n",
      "  sexC = \u001b[32mcol_double()\u001b[39m,\n",
      "  ageC = \u001b[32mcol_double()\u001b[39m,\n",
      "  ethnicityC = \u001b[32mcol_double()\u001b[39m\n",
      ")\n",
      "\n",
      "\n"
     ]
    }
   ],
   "source": [
    "df = read_csv(\"../clean_data/forced_choice_emotion_uw_students_long_format_lmer.csv\")"
   ]
  },
  {
   "cell_type": "markdown",
   "id": "13c07fd3",
   "metadata": {},
   "source": [
    "## Useful links about fitting LMER \n",
    "- https://bbolker.github.io/mixedmodels-misc/glmmFAQ.html#singular-models-random-effect-variances-estimated-as-zero-or-correlations-estimated-as---1\n",
    "- https://stats.stackexchange.com/questions/242109/model-failed-to-converge-warning-in-lmer\n",
    "- https://easystats.github.io/blog/posts/performance_check_collinearity/\n",
    "- https://stats.stackexchange.com/questions/449042/is-a-singular-fit-with-no-correlations-near-1-or-variances-of-zero-a-false\n",
    "- http://svmiller.com/blog/2018/06/mixed-effects-models-optimizer-checks/\n",
    "- https://joshua-nugent.github.io/allFit/\n",
    "- https://rstudio-pubs-static.s3.amazonaws.com/33653_57fc7b8e5d484c909b615d8633c01d51.html\n",
    "- https://stats.stackexchange.com/questions/323273/what-to-do-with-random-effects-correlation-that-equals-1-or-1\n",
    "- https://psych.wisc.edu/Brauer/BrauerLab/wp-content/uploads/2014/04/Brauer-and-Curtin-in-press-Psych-Methods.pdf\n",
    "- https://cran.r-project.org/web/packages/lme4/vignettes/lmerperf.html\n",
    "- https://rpubs.com/palday/lme4-singular-convergence"
   ]
  },
  {
   "cell_type": "markdown",
   "id": "6e8b701c",
   "metadata": {},
   "source": [
    "## Run model with Nelder-Mead opt"
   ]
  },
  {
   "cell_type": "markdown",
   "id": "b8007677",
   "metadata": {},
   "source": [
    "**Determining random effect structure**\n",
    "\n",
    "**Random Intercept**:\n",
    "- participantId: repeated measures from same participant\n",
    "- photoId: repeated measures from same photo\n",
    "\n",
    "**Random slope**:\n",
    "- ethnicity: varies *within participantId* and *between items*\n",
    "- sex: varies *within participantId* and *between items*\n",
    "- age: varies *within participantId* and *between items*\n",
    "\n",
    "----\n",
    "- Random intercept and slope for participantId\n",
    "- Random intercept for photoId\n",
    "\n",
    "----"
   ]
  },
  {
   "cell_type": "code",
   "execution_count": 3,
   "id": "16086e72",
   "metadata": {},
   "outputs": [],
   "source": [
    "# ---------\n",
    "# doesn't converge\n",
    "# ---------\n",
    "\n",
    "# lmer_fc_uw_max = lmer(\n",
    "#     sentimentScore ~ 1 + sexC*ethnicityC*ageC + (1 + sexC*ethnicityC*ageC|participantId) + (1 | photoId), \n",
    "#     data = df, \n",
    "#     REML = FALSE, \n",
    "#     control = lmerControl(optimizer =\"Nelder_Mead\", calc.derivs=FALSE)\n",
    "# )\n",
    "# summary(lmer_fc_uw_max)"
   ]
  },
  {
   "cell_type": "code",
   "execution_count": 4,
   "id": "5f8bd397",
   "metadata": {},
   "outputs": [
    {
     "data": {
      "text/plain": [
       "Linear mixed model fit by maximum likelihood . t-tests use Satterthwaite's\n",
       "  method [lmerModLmerTest]\n",
       "Formula: sentimentScore ~ 1 + sexC * ethnicityC + (1 + sexC * ethnicityC |  \n",
       "    participantId) + (1 | photoId)\n",
       "   Data: df\n",
       "Control: lmerControl(optimizer = \"Nelder_Mead\", calc.derivs = FALSE)\n",
       "\n",
       "     AIC      BIC   logLik deviance df.resid \n",
       "  2049.7   2164.7  -1008.9   2017.7     9776 \n",
       "\n",
       "Scaled residuals: \n",
       "    Min      1Q  Median      3Q     Max \n",
       "-4.1517 -0.4843  0.0146  0.4421  4.5059 \n",
       "\n",
       "Random effects:\n",
       " Groups        Name            Variance  Std.Dev. Corr             \n",
       " photoId       (Intercept)     1.034e-01 0.321522                  \n",
       " participantId (Intercept)     1.080e-03 0.032865                  \n",
       "               sexC            9.943e-06 0.003153 -0.36            \n",
       "               ethnicityC      2.270e-05 0.004765 -0.21  0.59      \n",
       "               sexC:ethnicityC 1.161e-03 0.034069  0.07 -0.95 -0.49\n",
       " Residual                      6.545e-02 0.255828                  \n",
       "Number of obs: 9792, groups:  photoId, 192; participantId, 51\n",
       "\n",
       "Fixed effects:\n",
       "                 Estimate Std. Error        df t value Pr(>|t|)    \n",
       "(Intercept)      -0.11533    0.02380 204.90107  -4.846 2.48e-06 ***\n",
       "sexC             -0.01601    0.04670 191.82369  -0.343    0.732    \n",
       "ethnicityC        0.02871    0.04670 191.82102   0.615    0.539    \n",
       "sexC:ethnicityC   0.04087    0.09351 192.63127   0.437    0.663    \n",
       "---\n",
       "Signif. codes:  0 ‘***’ 0.001 ‘**’ 0.01 ‘*’ 0.05 ‘.’ 0.1 ‘ ’ 1\n",
       "\n",
       "Correlation of Fixed Effects:\n",
       "            (Intr) sexC   ethncC\n",
       "sexC        -0.001              \n",
       "ethnicityC  -0.001  0.000       \n",
       "sxC:thnctyC  0.001  0.000  0.000"
      ]
     },
     "metadata": {},
     "output_type": "display_data"
    }
   ],
   "source": [
    "# -------------\n",
    "# lacks power because there is only 1 obs per cell of [participantId X photoId]\n",
    "# -------------\n",
    "\n",
    "lmer_fc_uw_full = lmer(\n",
    "    sentimentScore ~ 1 + sexC*ethnicityC + (1 + sexC*ethnicityC|participantId) + (1 | photoId), \n",
    "    data = df, \n",
    "    REML = FALSE, \n",
    "    control = lmerControl(optimizer =\"Nelder_Mead\", calc.derivs=FALSE)\n",
    ")\n",
    "summary(lmer_fc_uw_full)"
   ]
  },
  {
   "cell_type": "code",
   "execution_count": 5,
   "id": "f766f457",
   "metadata": {},
   "outputs": [
    {
     "data": {
      "text/plain": [
       "Linear mixed model fit by maximum likelihood . t-tests use Satterthwaite's\n",
       "  method [lmerModLmerTest]\n",
       "Formula: sentimentScore ~ 1 + sexC * ethnicityC + (1 + sexC * ethnicityC |  \n",
       "    participantId)\n",
       "   Data: df\n",
       "Control: lmerControl(optimizer = \"Nelder_Mead\", calc.derivs = FALSE)\n",
       "\n",
       "     AIC      BIC   logLik deviance df.resid \n",
       " 10453.6  10561.5  -5211.8  10423.6     9777 \n",
       "\n",
       "Scaled residuals: \n",
       "    Min      1Q  Median      3Q     Max \n",
       "-1.2719 -0.9327  0.1997  0.9007  1.7652 \n",
       "\n",
       "Random effects:\n",
       " Groups        Name            Variance  Std.Dev.  Corr             \n",
       " participantId (Intercept)     5.006e-04 0.0223734                  \n",
       "               sexC            1.391e-06 0.0011792 -1.00            \n",
       "               ethnicityC      7.550e-07 0.0008689 -0.99  0.99      \n",
       "               sexC:ethnicityC 6.703e-06 0.0025890  0.86 -0.86 -0.84\n",
       " Residual                      1.694e-01 0.4115362                  \n",
       "Number of obs: 9792, groups:  participantId, 51\n",
       "\n",
       "Fixed effects:\n",
       "                  Estimate Std. Error         df t value Pr(>|t|)    \n",
       "(Intercept)     -1.153e-01  5.207e-03  5.106e+01 -22.149  < 2e-16 ***\n",
       "sexC            -1.602e-02  8.319e-03  8.130e+03  -1.925  0.05426 .  \n",
       "ethnicityC       2.871e-02  8.319e-03  8.805e+03   3.451  0.00056 ***\n",
       "sexC:ethnicityC  4.087e-02  1.664e-02  7.666e+03   2.456  0.01407 *  \n",
       "---\n",
       "Signif. codes:  0 ‘***’ 0.001 ‘**’ 0.01 ‘*’ 0.05 ‘.’ 0.1 ‘ ’ 1\n",
       "\n",
       "Correlation of Fixed Effects:\n",
       "            (Intr) sexC   ethncC\n",
       "sexC        -0.012              \n",
       "ethnicityC  -0.009  0.000       \n",
       "sxC:thnctyC  0.011  0.000  0.000"
      ]
     },
     "metadata": {},
     "output_type": "display_data"
    }
   ],
   "source": [
    "# --------------\n",
    "# it doesn't address photoId random effect, but it has better power 20+ obs per cell (i.e., participantId )\n",
    "# --------------\n",
    "\n",
    "lmer_fc_uw_partial = lmer(\n",
    "    sentimentScore ~ 1 + sexC*ethnicityC + (1 + sexC*ethnicityC|participantId), \n",
    "    data = df, REML = FALSE, \n",
    "    control = lmerControl(optimizer =\"Nelder_Mead\", calc.derivs=FALSE)\n",
    ")\n",
    "summary(lmer_fc_uw_partial)"
   ]
  },
  {
   "cell_type": "markdown",
   "id": "95a3a3e6",
   "metadata": {},
   "source": [
    "## Check collinearity"
   ]
  },
  {
   "cell_type": "code",
   "execution_count": 6,
   "id": "1cf6d106",
   "metadata": {},
   "outputs": [],
   "source": [
    "# check_collinearity(lmer_fc_uw_full)"
   ]
  },
  {
   "cell_type": "code",
   "execution_count": 7,
   "id": "cf377a1b",
   "metadata": {},
   "outputs": [
    {
     "data": {
      "text/html": [
       "<table class=\"dataframe\">\n",
       "<caption>A check_collinearity: 3 × 3</caption>\n",
       "<thead>\n",
       "\t<tr><th></th><th scope=col>Term</th><th scope=col>VIF</th><th scope=col>SE_factor</th></tr>\n",
       "\t<tr><th></th><th scope=col>&lt;chr&gt;</th><th scope=col>&lt;dbl&gt;</th><th scope=col>&lt;dbl&gt;</th></tr>\n",
       "</thead>\n",
       "<tbody>\n",
       "\t<tr><th scope=row>1</th><td>sexC           </td><td>1</td><td>1</td></tr>\n",
       "\t<tr><th scope=row>2</th><td>ethnicityC     </td><td>1</td><td>1</td></tr>\n",
       "\t<tr><th scope=row>3</th><td>sexC:ethnicityC</td><td>1</td><td>1</td></tr>\n",
       "</tbody>\n",
       "</table>\n"
      ],
      "text/latex": [
       "A check\\_collinearity: 3 × 3\n",
       "\\begin{tabular}{r|lll}\n",
       "  & Term & VIF & SE\\_factor\\\\\n",
       "  & <chr> & <dbl> & <dbl>\\\\\n",
       "\\hline\n",
       "\t1 & sexC            & 1 & 1\\\\\n",
       "\t2 & ethnicityC      & 1 & 1\\\\\n",
       "\t3 & sexC:ethnicityC & 1 & 1\\\\\n",
       "\\end{tabular}\n"
      ],
      "text/markdown": [
       "\n",
       "A check_collinearity: 3 × 3\n",
       "\n",
       "| <!--/--> | Term &lt;chr&gt; | VIF &lt;dbl&gt; | SE_factor &lt;dbl&gt; |\n",
       "|---|---|---|---|\n",
       "| 1 | sexC            | 1 | 1 |\n",
       "| 2 | ethnicityC      | 1 | 1 |\n",
       "| 3 | sexC:ethnicityC | 1 | 1 |\n",
       "\n"
      ],
      "text/plain": [
       "  Term            VIF SE_factor\n",
       "1 sexC            1   1        \n",
       "2 ethnicityC      1   1        \n",
       "3 sexC:ethnicityC 1   1        "
      ]
     },
     "metadata": {},
     "output_type": "display_data"
    }
   ],
   "source": [
    "check_collinearity(lmer_fc_uw_partial)"
   ]
  },
  {
   "cell_type": "code",
   "execution_count": 8,
   "id": "afd41393",
   "metadata": {},
   "outputs": [],
   "source": [
    "# plot(check_collinearity(lmer_fc_uw_full))"
   ]
  },
  {
   "cell_type": "code",
   "execution_count": 9,
   "id": "8cd0ccbc",
   "metadata": {},
   "outputs": [
    {
     "data": {
      "image/png": "[encoded data removed]",
      "text/plain": [
       "plot without title"
      ]
     },
     "metadata": {
      "image/png": {
       "height": 420,
       "width": 420
      }
     },
     "output_type": "display_data"
    }
   ],
   "source": [
    "plot(check_collinearity(lmer_fc_uw_partial))"
   ]
  },
  {
   "cell_type": "markdown",
   "id": "c1289809",
   "metadata": {},
   "source": [
    "## Check singularity"
   ]
  },
  {
   "cell_type": "code",
   "execution_count": 10,
   "id": "e0b68a13",
   "metadata": {},
   "outputs": [
    {
     "data": {
      "text/html": [
       "0.000128365022550146"
      ],
      "text/latex": [
       "0.000128365022550146"
      ],
      "text/markdown": [
       "0.000128365022550146"
      ],
      "text/plain": [
       "[1] 0.000128365"
      ]
     },
     "metadata": {},
     "output_type": "display_data"
    }
   ],
   "source": [
    "# https://rstudio-pubs-static.s3.amazonaws.com/33653_57fc7b8e5d484c909b615d8633c01d51.html\n",
    "\n",
    "# tt = getME(lmer_fc_uw_full,\"theta\")\n",
    "# ll = getME(lmer_fc_uw_full,\"lower\")\n",
    "# tt_value = min(tt[ll==0])\n",
    "\n",
    "# https://rstudio-pubs-static.s3.amazonaws.com/33653_57fc7b8e5d484c909b615d8633c01d51.html\n",
    "tt_p = getME(lmer_fc_uw_partial,\"theta\")\n",
    "ll_p = getME(lmer_fc_uw_partial,\"lower\")\n",
    "tt_value_p = min(tt_p[ll_p==0])\n",
    "\n",
    "tt_value_p"
   ]
  },
  {
   "cell_type": "code",
   "execution_count": 11,
   "id": "e56a0703",
   "metadata": {},
   "outputs": [
    {
     "data": {
      "text/html": [
       "FALSE"
      ],
      "text/latex": [
       "FALSE"
      ],
      "text/markdown": [
       "FALSE"
      ],
      "text/plain": [
       "[1] FALSE"
      ]
     },
     "metadata": {},
     "output_type": "display_data"
    }
   ],
   "source": [
    "tt_value_p < 0.000001\n",
    "# probably not a problem"
   ]
  },
  {
   "cell_type": "code",
   "execution_count": 12,
   "id": "d833e6ad",
   "metadata": {},
   "outputs": [
    {
     "data": {
      "text/html": [
       "FALSE"
      ],
      "text/latex": [
       "FALSE"
      ],
      "text/markdown": [
       "FALSE"
      ],
      "text/plain": [
       "[1] FALSE"
      ]
     },
     "metadata": {},
     "output_type": "display_data"
    }
   ],
   "source": [
    "theta_p <- getME(lmer_fc_uw_partial,\"theta\")\n",
    "## diagonal elements are identifiable because they are fitted\n",
    "##  with a lower bound of zero ...\n",
    "diag.element <- getME(lmer_fc_uw_partial,\"lower\")==0\n",
    "any(theta_p[diag.element]<1e-5)\n",
    "\n",
    "# probably not a problem"
   ]
  },
  {
   "cell_type": "markdown",
   "id": "d3780c2b",
   "metadata": {},
   "source": [
    "## Testing multiple optimizers\n"
   ]
  },
  {
   "cell_type": "code",
   "execution_count": 13,
   "id": "83548c76",
   "metadata": {},
   "outputs": [],
   "source": [
    "# lmer_fc_uw_m = lmer(sentimentScore ~ 1 + sexC*ethnicityC + (1 + sexC*ethnicityC|participantId), data = df)"
   ]
  },
  {
   "cell_type": "code",
   "execution_count": 14,
   "id": "27cd7469",
   "metadata": {},
   "outputs": [],
   "source": [
    "# ncores <- detectCores()\n",
    "# diff_optims <- allFit(lmer_fc_uw_m, maxfun = 1e5, parallel = 'multicore', ncpus = ncores)"
   ]
  },
  {
   "cell_type": "code",
   "execution_count": 15,
   "id": "4ec4369b",
   "metadata": {},
   "outputs": [],
   "source": [
    "# is.OK <- sapply(diff_optims, is, \"merMod\")\n",
    "# diff_optims.OK <- diff_optims[is.OK]\n",
    "# lapply(diff_optims.OK,function(x) x@optinfo$conv$lme4$messages)"
   ]
  },
  {
   "cell_type": "code",
   "execution_count": 16,
   "id": "6c10e8e2",
   "metadata": {},
   "outputs": [],
   "source": [
    "# (lliks <- sort(sapply(diff_optims.OK,logLik)))"
   ]
  },
  {
   "cell_type": "markdown",
   "id": "ce471cdc",
   "metadata": {},
   "source": [
    "## Three-way Anova "
   ]
  },
  {
   "cell_type": "markdown",
   "id": "ee697406",
   "metadata": {},
   "source": [
    "### Useful links about fitting ANOVAS\n",
    "- https://www.datanovia.com/en/lessons/repeated-measures-anova-in-r/\n",
    "- https://cran.r-project.org/web/packages/effectsize/vignettes/anovaES.html\n",
    "- https://rpkgs.datanovia.com/rstatix/reference/anova_test.html\n",
    "- https://stats.stackexchange.com/questions/11079/problem-with-anova-repeated-measures-error-model-is-singular"
   ]
  },
  {
   "cell_type": "markdown",
   "id": "6d542e1b",
   "metadata": {},
   "source": [
    "### Descriptives"
   ]
  },
  {
   "cell_type": "code",
   "execution_count": 17,
   "id": "d3a216b2",
   "metadata": {},
   "outputs": [
    {
     "data": {
      "text/html": [
       "<table class=\"dataframe\">\n",
       "<caption>A tibble: 8 × 7</caption>\n",
       "<thead>\n",
       "\t<tr><th scope=col>ethnicity</th><th scope=col>sex</th><th scope=col>age</th><th scope=col>variable</th><th scope=col>n</th><th scope=col>mean</th><th scope=col>sd</th></tr>\n",
       "\t<tr><th scope=col>&lt;chr&gt;</th><th scope=col>&lt;chr&gt;</th><th scope=col>&lt;chr&gt;</th><th scope=col>&lt;chr&gt;</th><th scope=col>&lt;dbl&gt;</th><th scope=col>&lt;dbl&gt;</th><th scope=col>&lt;dbl&gt;</th></tr>\n",
       "</thead>\n",
       "<tbody>\n",
       "\t<tr><td>bipoc</td><td>female</td><td>adult</td><td>sentimentScore</td><td>1224</td><td>-0.134</td><td>0.417</td></tr>\n",
       "\t<tr><td>bipoc</td><td>female</td><td>child</td><td>sentimentScore</td><td>1224</td><td>-0.089</td><td>0.418</td></tr>\n",
       "\t<tr><td>bipoc</td><td>male  </td><td>adult</td><td>sentimentScore</td><td>1224</td><td>-0.175</td><td>0.406</td></tr>\n",
       "\t<tr><td>bipoc</td><td>male  </td><td>child</td><td>sentimentScore</td><td>1224</td><td>-0.121</td><td>0.416</td></tr>\n",
       "\t<tr><td>white</td><td>female</td><td>adult</td><td>sentimentScore</td><td>1224</td><td>-0.118</td><td>0.410</td></tr>\n",
       "\t<tr><td>white</td><td>female</td><td>child</td><td>sentimentScore</td><td>1224</td><td>-0.089</td><td>0.412</td></tr>\n",
       "\t<tr><td>white</td><td>male  </td><td>adult</td><td>sentimentScore</td><td>1224</td><td>-0.094</td><td>0.395</td></tr>\n",
       "\t<tr><td>white</td><td>male  </td><td>child</td><td>sentimentScore</td><td>1224</td><td>-0.104</td><td>0.420</td></tr>\n",
       "</tbody>\n",
       "</table>\n"
      ],
      "text/latex": [
       "A tibble: 8 × 7\n",
       "\\begin{tabular}{lllllll}\n",
       " ethnicity & sex & age & variable & n & mean & sd\\\\\n",
       " <chr> & <chr> & <chr> & <chr> & <dbl> & <dbl> & <dbl>\\\\\n",
       "\\hline\n",
       "\t bipoc & female & adult & sentimentScore & 1224 & -0.134 & 0.417\\\\\n",
       "\t bipoc & female & child & sentimentScore & 1224 & -0.089 & 0.418\\\\\n",
       "\t bipoc & male   & adult & sentimentScore & 1224 & -0.175 & 0.406\\\\\n",
       "\t bipoc & male   & child & sentimentScore & 1224 & -0.121 & 0.416\\\\\n",
       "\t white & female & adult & sentimentScore & 1224 & -0.118 & 0.410\\\\\n",
       "\t white & female & child & sentimentScore & 1224 & -0.089 & 0.412\\\\\n",
       "\t white & male   & adult & sentimentScore & 1224 & -0.094 & 0.395\\\\\n",
       "\t white & male   & child & sentimentScore & 1224 & -0.104 & 0.420\\\\\n",
       "\\end{tabular}\n"
      ],
      "text/markdown": [
       "\n",
       "A tibble: 8 × 7\n",
       "\n",
       "| ethnicity &lt;chr&gt; | sex &lt;chr&gt; | age &lt;chr&gt; | variable &lt;chr&gt; | n &lt;dbl&gt; | mean &lt;dbl&gt; | sd &lt;dbl&gt; |\n",
       "|---|---|---|---|---|---|---|\n",
       "| bipoc | female | adult | sentimentScore | 1224 | -0.134 | 0.417 |\n",
       "| bipoc | female | child | sentimentScore | 1224 | -0.089 | 0.418 |\n",
       "| bipoc | male   | adult | sentimentScore | 1224 | -0.175 | 0.406 |\n",
       "| bipoc | male   | child | sentimentScore | 1224 | -0.121 | 0.416 |\n",
       "| white | female | adult | sentimentScore | 1224 | -0.118 | 0.410 |\n",
       "| white | female | child | sentimentScore | 1224 | -0.089 | 0.412 |\n",
       "| white | male   | adult | sentimentScore | 1224 | -0.094 | 0.395 |\n",
       "| white | male   | child | sentimentScore | 1224 | -0.104 | 0.420 |\n",
       "\n"
      ],
      "text/plain": [
       "  ethnicity sex    age   variable       n    mean   sd   \n",
       "1 bipoc     female adult sentimentScore 1224 -0.134 0.417\n",
       "2 bipoc     female child sentimentScore 1224 -0.089 0.418\n",
       "3 bipoc     male   adult sentimentScore 1224 -0.175 0.406\n",
       "4 bipoc     male   child sentimentScore 1224 -0.121 0.416\n",
       "5 white     female adult sentimentScore 1224 -0.118 0.410\n",
       "6 white     female child sentimentScore 1224 -0.089 0.412\n",
       "7 white     male   adult sentimentScore 1224 -0.094 0.395\n",
       "8 white     male   child sentimentScore 1224 -0.104 0.420"
      ]
     },
     "metadata": {},
     "output_type": "display_data"
    }
   ],
   "source": [
    "df %>%\n",
    "  group_by(ethnicity, sex, age) %>%\n",
    "  get_summary_stats(sentimentScore, type = \"mean_sd\")"
   ]
  },
  {
   "cell_type": "code",
   "execution_count": 18,
   "id": "605c29ca",
   "metadata": {},
   "outputs": [
    {
     "data": {
      "image/png": "[encoded data removed]",
      "text/plain": [
       "plot without title"
      ]
     },
     "metadata": {
      "image/png": {
       "height": 420,
       "width": 420
      }
     },
     "output_type": "display_data"
    }
   ],
   "source": [
    "bxp <- ggboxplot(\n",
    "  df, x = \"ethnicity\", y = \"sentimentScore\",\n",
    "  color = \"sex\", palette = \"jco\",\n",
    "  facet.by = \"age\", short.panel.labs = FALSE,\n",
    "  scales = \"free\"\n",
    "  )\n",
    "bxp"
   ]
  },
  {
   "cell_type": "markdown",
   "id": "0696a29f",
   "metadata": {},
   "source": [
    "### Check assumptions"
   ]
  },
  {
   "cell_type": "markdown",
   "id": "2d2950d6",
   "metadata": {},
   "source": [
    "#### Outliers"
   ]
  },
  {
   "cell_type": "code",
   "execution_count": 19,
   "id": "e8758822",
   "metadata": {},
   "outputs": [
    {
     "data": {
      "text/html": [
       "<table class=\"dataframe\">\n",
       "<caption>A data.frame: 0 × 14</caption>\n",
       "<thead>\n",
       "\t<tr><th scope=col>ethnicity</th><th scope=col>sex</th><th scope=col>age</th><th scope=col>participantId</th><th scope=col>photoId</th><th scope=col>emotion</th><th scope=col>label</th><th scope=col>url</th><th scope=col>sentimentScore</th><th scope=col>sexC</th><th scope=col>ageC</th><th scope=col>ethnicityC</th><th scope=col>is.outlier</th><th scope=col>is.extreme</th></tr>\n",
       "\t<tr><th scope=col>&lt;chr&gt;</th><th scope=col>&lt;chr&gt;</th><th scope=col>&lt;chr&gt;</th><th scope=col>&lt;dbl&gt;</th><th scope=col>&lt;chr&gt;</th><th scope=col>&lt;chr&gt;</th><th scope=col>&lt;chr&gt;</th><th scope=col>&lt;chr&gt;</th><th scope=col>&lt;dbl&gt;</th><th scope=col>&lt;dbl&gt;</th><th scope=col>&lt;dbl&gt;</th><th scope=col>&lt;dbl&gt;</th><th scope=col>&lt;lgl&gt;</th><th scope=col>&lt;lgl&gt;</th></tr>\n",
       "</thead>\n",
       "<tbody>\n",
       "</tbody>\n",
       "</table>\n"
      ],
      "text/latex": [
       "A data.frame: 0 × 14\n",
       "\\begin{tabular}{llllllllllllll}\n",
       " ethnicity & sex & age & participantId & photoId & emotion & label & url & sentimentScore & sexC & ageC & ethnicityC & is.outlier & is.extreme\\\\\n",
       " <chr> & <chr> & <chr> & <dbl> & <chr> & <chr> & <chr> & <chr> & <dbl> & <dbl> & <dbl> & <dbl> & <lgl> & <lgl>\\\\\n",
       "\\hline\n",
       "\\end{tabular}\n"
      ],
      "text/markdown": [
       "\n",
       "A data.frame: 0 × 14\n",
       "\n",
       "| ethnicity &lt;chr&gt; | sex &lt;chr&gt; | age &lt;chr&gt; | participantId &lt;dbl&gt; | photoId &lt;chr&gt; | emotion &lt;chr&gt; | label &lt;chr&gt; | url &lt;chr&gt; | sentimentScore &lt;dbl&gt; | sexC &lt;dbl&gt; | ageC &lt;dbl&gt; | ethnicityC &lt;dbl&gt; | is.outlier &lt;lgl&gt; | is.extreme &lt;lgl&gt; |\n",
       "|---|---|---|---|---|---|---|---|---|---|---|---|---|---|\n",
       "\n"
      ],
      "text/plain": [
       "     ethnicity sex age participantId photoId emotion label url sentimentScore\n",
       "     sexC ageC ethnicityC is.outlier is.extreme"
      ]
     },
     "metadata": {},
     "output_type": "display_data"
    }
   ],
   "source": [
    "df %>% group_by(ethnicity, sex, age) %>% identify_outliers(sentimentScore)\n",
    "\n",
    "# no outliers"
   ]
  },
  {
   "cell_type": "markdown",
   "id": "4e4d85f4",
   "metadata": {},
   "source": [
    "#### Normality assumption"
   ]
  },
  {
   "cell_type": "code",
   "execution_count": 20,
   "id": "68f73141",
   "metadata": {},
   "outputs": [
    {
     "data": {
      "text/html": [
       "<table class=\"dataframe\">\n",
       "<caption>A tibble: 8 × 6</caption>\n",
       "<thead>\n",
       "\t<tr><th scope=col>ethnicity</th><th scope=col>sex</th><th scope=col>age</th><th scope=col>variable</th><th scope=col>statistic</th><th scope=col>p</th></tr>\n",
       "\t<tr><th scope=col>&lt;chr&gt;</th><th scope=col>&lt;chr&gt;</th><th scope=col>&lt;chr&gt;</th><th scope=col>&lt;chr&gt;</th><th scope=col>&lt;dbl&gt;</th><th scope=col>&lt;dbl&gt;</th></tr>\n",
       "</thead>\n",
       "<tbody>\n",
       "\t<tr><td>bipoc</td><td>female</td><td>adult</td><td>sentimentScore</td><td>0.8573349</td><td>6.875608e-32</td></tr>\n",
       "\t<tr><td>bipoc</td><td>female</td><td>child</td><td>sentimentScore</td><td>0.8650087</td><td>3.461563e-31</td></tr>\n",
       "\t<tr><td>bipoc</td><td>male  </td><td>adult</td><td>sentimentScore</td><td>0.8444974</td><td>5.333350e-33</td></tr>\n",
       "\t<tr><td>bipoc</td><td>male  </td><td>child</td><td>sentimentScore</td><td>0.8590749</td><td>9.858681e-32</td></tr>\n",
       "\t<tr><td>white</td><td>female</td><td>adult</td><td>sentimentScore</td><td>0.8656738</td><td>3.995529e-31</td></tr>\n",
       "\t<tr><td>white</td><td>female</td><td>child</td><td>sentimentScore</td><td>0.8739884</td><td>2.521951e-30</td></tr>\n",
       "\t<tr><td>white</td><td>male  </td><td>adult</td><td>sentimentScore</td><td>0.8864712</td><td>4.836086e-29</td></tr>\n",
       "\t<tr><td>white</td><td>male  </td><td>child</td><td>sentimentScore</td><td>0.8626490</td><td>2.089945e-31</td></tr>\n",
       "</tbody>\n",
       "</table>\n"
      ],
      "text/latex": [
       "A tibble: 8 × 6\n",
       "\\begin{tabular}{llllll}\n",
       " ethnicity & sex & age & variable & statistic & p\\\\\n",
       " <chr> & <chr> & <chr> & <chr> & <dbl> & <dbl>\\\\\n",
       "\\hline\n",
       "\t bipoc & female & adult & sentimentScore & 0.8573349 & 6.875608e-32\\\\\n",
       "\t bipoc & female & child & sentimentScore & 0.8650087 & 3.461563e-31\\\\\n",
       "\t bipoc & male   & adult & sentimentScore & 0.8444974 & 5.333350e-33\\\\\n",
       "\t bipoc & male   & child & sentimentScore & 0.8590749 & 9.858681e-32\\\\\n",
       "\t white & female & adult & sentimentScore & 0.8656738 & 3.995529e-31\\\\\n",
       "\t white & female & child & sentimentScore & 0.8739884 & 2.521951e-30\\\\\n",
       "\t white & male   & adult & sentimentScore & 0.8864712 & 4.836086e-29\\\\\n",
       "\t white & male   & child & sentimentScore & 0.8626490 & 2.089945e-31\\\\\n",
       "\\end{tabular}\n"
      ],
      "text/markdown": [
       "\n",
       "A tibble: 8 × 6\n",
       "\n",
       "| ethnicity &lt;chr&gt; | sex &lt;chr&gt; | age &lt;chr&gt; | variable &lt;chr&gt; | statistic &lt;dbl&gt; | p &lt;dbl&gt; |\n",
       "|---|---|---|---|---|---|\n",
       "| bipoc | female | adult | sentimentScore | 0.8573349 | 6.875608e-32 |\n",
       "| bipoc | female | child | sentimentScore | 0.8650087 | 3.461563e-31 |\n",
       "| bipoc | male   | adult | sentimentScore | 0.8444974 | 5.333350e-33 |\n",
       "| bipoc | male   | child | sentimentScore | 0.8590749 | 9.858681e-32 |\n",
       "| white | female | adult | sentimentScore | 0.8656738 | 3.995529e-31 |\n",
       "| white | female | child | sentimentScore | 0.8739884 | 2.521951e-30 |\n",
       "| white | male   | adult | sentimentScore | 0.8864712 | 4.836086e-29 |\n",
       "| white | male   | child | sentimentScore | 0.8626490 | 2.089945e-31 |\n",
       "\n"
      ],
      "text/plain": [
       "  ethnicity sex    age   variable       statistic p           \n",
       "1 bipoc     female adult sentimentScore 0.8573349 6.875608e-32\n",
       "2 bipoc     female child sentimentScore 0.8650087 3.461563e-31\n",
       "3 bipoc     male   adult sentimentScore 0.8444974 5.333350e-33\n",
       "4 bipoc     male   child sentimentScore 0.8590749 9.858681e-32\n",
       "5 white     female adult sentimentScore 0.8656738 3.995529e-31\n",
       "6 white     female child sentimentScore 0.8739884 2.521951e-30\n",
       "7 white     male   adult sentimentScore 0.8864712 4.836086e-29\n",
       "8 white     male   child sentimentScore 0.8626490 2.089945e-31"
      ]
     },
     "metadata": {},
     "output_type": "display_data"
    }
   ],
   "source": [
    "# Compute Shapiro-Wilk test for each combinations of factor levels\n",
    "\n",
    "df %>%\n",
    "  group_by(ethnicity, sex, age) %>%\n",
    "  shapiro_test(sentimentScore)"
   ]
  },
  {
   "cell_type": "code",
   "execution_count": 21,
   "id": "37523e44",
   "metadata": {},
   "outputs": [
    {
     "data": {
      "text/html": [
       "TRUE"
      ],
      "text/latex": [
       "TRUE"
      ],
      "text/markdown": [
       "TRUE"
      ],
      "text/plain": [
       "[1] TRUE"
      ]
     },
     "metadata": {},
     "output_type": "display_data"
    }
   ],
   "source": [
    "3.461563e-31 < 0.05\n",
    "\n",
    "# not normal"
   ]
  },
  {
   "cell_type": "markdown",
   "id": "4db0e73c",
   "metadata": {},
   "source": [
    "#### QQ plot "
   ]
  },
  {
   "cell_type": "code",
   "execution_count": 22,
   "id": "df0105a2",
   "metadata": {},
   "outputs": [
    {
     "data": {
      "image/png": "[encoded data removed]",
      "text/plain": [
       "plot without title"
      ]
     },
     "metadata": {
      "image/png": {
       "height": 420,
       "width": 420
      }
     },
     "output_type": "display_data"
    }
   ],
   "source": [
    "ggqqplot(df, \"sentimentScore\", ggtheme = theme_bw()) +\n",
    "  facet_grid(sex + ethnicity ~ age, labeller = \"label_both\")"
   ]
  },
  {
   "cell_type": "markdown",
   "id": "fa732a94",
   "metadata": {},
   "source": [
    "**Definetively not normal data**"
   ]
  },
  {
   "cell_type": "markdown",
   "id": "b6375cdd",
   "metadata": {},
   "source": [
    "## Anova 2x2x2 computation \n",
    "\n",
    "\n",
    "My design is 2x2x2 fully-crosses, meaning will yield a singular decomposition. \n",
    "This is probably why LMER doesn't converge regardless of the optimizer and other hyper-params\n",
    "\n",
    "Guide: https://www.datanovia.com/en/lessons/repeated-measures-anova-in-r/#summary-statistics-2"
   ]
  },
  {
   "cell_type": "code",
   "execution_count": 23,
   "id": "d7ef76ba",
   "metadata": {},
   "outputs": [],
   "source": [
    "df_long = df %>% select(participantId, sex, age, ethnicity, sentimentScore)"
   ]
  },
  {
   "cell_type": "code",
   "execution_count": 24,
   "id": "020b5d1b",
   "metadata": {},
   "outputs": [],
   "source": [
    "df_long = df_long %>% convert_as_factor(participantId, sex, age, ethnicity)"
   ]
  },
  {
   "cell_type": "code",
   "execution_count": 25,
   "id": "88bea667",
   "metadata": {},
   "outputs": [
    {
     "data": {
      "text/html": [
       "<table class=\"dataframe\">\n",
       "<caption>A tibble: 6 × 5</caption>\n",
       "<thead>\n",
       "\t<tr><th scope=col>participantId</th><th scope=col>sex</th><th scope=col>age</th><th scope=col>ethnicity</th><th scope=col>sentimentScore</th></tr>\n",
       "\t<tr><th scope=col>&lt;fct&gt;</th><th scope=col>&lt;fct&gt;</th><th scope=col>&lt;fct&gt;</th><th scope=col>&lt;fct&gt;</th><th scope=col>&lt;dbl&gt;</th></tr>\n",
       "</thead>\n",
       "<tbody>\n",
       "\t<tr><td>0</td><td>female</td><td>adult</td><td>bipoc</td><td> 0.0000</td></tr>\n",
       "\t<tr><td>0</td><td>male  </td><td>child</td><td>white</td><td> 0.5574</td></tr>\n",
       "\t<tr><td>0</td><td>male  </td><td>adult</td><td>bipoc</td><td>-0.5994</td></tr>\n",
       "\t<tr><td>0</td><td>male  </td><td>child</td><td>bipoc</td><td>-0.5994</td></tr>\n",
       "\t<tr><td>0</td><td>male  </td><td>adult</td><td>white</td><td> 0.5574</td></tr>\n",
       "\t<tr><td>0</td><td>female</td><td>adult</td><td>white</td><td>-0.2960</td></tr>\n",
       "</tbody>\n",
       "</table>\n"
      ],
      "text/latex": [
       "A tibble: 6 × 5\n",
       "\\begin{tabular}{lllll}\n",
       " participantId & sex & age & ethnicity & sentimentScore\\\\\n",
       " <fct> & <fct> & <fct> & <fct> & <dbl>\\\\\n",
       "\\hline\n",
       "\t 0 & female & adult & bipoc &  0.0000\\\\\n",
       "\t 0 & male   & child & white &  0.5574\\\\\n",
       "\t 0 & male   & adult & bipoc & -0.5994\\\\\n",
       "\t 0 & male   & child & bipoc & -0.5994\\\\\n",
       "\t 0 & male   & adult & white &  0.5574\\\\\n",
       "\t 0 & female & adult & white & -0.2960\\\\\n",
       "\\end{tabular}\n"
      ],
      "text/markdown": [
       "\n",
       "A tibble: 6 × 5\n",
       "\n",
       "| participantId &lt;fct&gt; | sex &lt;fct&gt; | age &lt;fct&gt; | ethnicity &lt;fct&gt; | sentimentScore &lt;dbl&gt; |\n",
       "|---|---|---|---|---|\n",
       "| 0 | female | adult | bipoc |  0.0000 |\n",
       "| 0 | male   | child | white |  0.5574 |\n",
       "| 0 | male   | adult | bipoc | -0.5994 |\n",
       "| 0 | male   | child | bipoc | -0.5994 |\n",
       "| 0 | male   | adult | white |  0.5574 |\n",
       "| 0 | female | adult | white | -0.2960 |\n",
       "\n"
      ],
      "text/plain": [
       "  participantId sex    age   ethnicity sentimentScore\n",
       "1 0             female adult bipoc      0.0000       \n",
       "2 0             male   child white      0.5574       \n",
       "3 0             male   adult bipoc     -0.5994       \n",
       "4 0             male   child bipoc     -0.5994       \n",
       "5 0             male   adult white      0.5574       \n",
       "6 0             female adult white     -0.2960       "
      ]
     },
     "metadata": {},
     "output_type": "display_data"
    }
   ],
   "source": [
    "head(df_long)"
   ]
  },
  {
   "cell_type": "code",
   "execution_count": 26,
   "id": "774aad57",
   "metadata": {},
   "outputs": [],
   "source": [
    "# res.aov <- anova_test(\n",
    "#   data = df_long, dv = sentimentScore, wid = participantId,\n",
    "#   within = c(sex, age, ethnicity)\n",
    "#   )\n",
    "# get_anova_table(res.aov)"
   ]
  },
  {
   "cell_type": "code",
   "execution_count": 27,
   "id": "74b2c93a",
   "metadata": {},
   "outputs": [
    {
     "name": "stderr",
     "output_type": "stream",
     "text": [
      "Warning message:\n",
      "“Converting \"participantId\" to factor for ANOVA.”\n",
      "Warning message:\n",
      "“Converting \"sex\" to factor for ANOVA.”\n",
      "Warning message:\n",
      "“Converting \"age\" to factor for ANOVA.”\n",
      "Warning message:\n",
      "“Converting \"ethnicity\" to factor for ANOVA.”\n",
      "Warning message:\n",
      "“Collapsing data to cell means. *IF* the requested effects are a subset of the full design, you must use the \"within_full\" argument, else results may be inaccurate.”\n"
     ]
    },
    {
     "data": {
      "text/html": [
       "<strong>$ANOVA</strong> = <table class=\"dataframe\">\n",
       "<caption>A data.frame: 7 × 7</caption>\n",
       "<thead>\n",
       "\t<tr><th></th><th scope=col>Effect</th><th scope=col>DFn</th><th scope=col>DFd</th><th scope=col>F</th><th scope=col>p</th><th scope=col>p&lt;.05</th><th scope=col>ges</th></tr>\n",
       "\t<tr><th></th><th scope=col>&lt;chr&gt;</th><th scope=col>&lt;dbl&gt;</th><th scope=col>&lt;dbl&gt;</th><th scope=col>&lt;dbl&gt;</th><th scope=col>&lt;dbl&gt;</th><th scope=col>&lt;chr&gt;</th><th scope=col>&lt;dbl&gt;</th></tr>\n",
       "</thead>\n",
       "<tbody>\n",
       "\t<tr><th scope=row>2</th><td>sex              </td><td>1</td><td>50</td><td> 9.521419</td><td>3.306335e-03</td><td>*</td><td>0.016548360</td></tr>\n",
       "\t<tr><th scope=row>3</th><td>age              </td><td>1</td><td>50</td><td>21.604378</td><td>2.475379e-05</td><td>*</td><td>0.054099828</td></tr>\n",
       "\t<tr><th scope=row>4</th><td>ethnicity        </td><td>1</td><td>50</td><td>31.530648</td><td>8.618142e-07</td><td>*</td><td>0.051307750</td></tr>\n",
       "\t<tr><th scope=row>5</th><td>sex:age          </td><td>1</td><td>50</td><td> 2.852944</td><td>9.743446e-02</td><td> </td><td>0.003967705</td></tr>\n",
       "\t<tr><th scope=row>6</th><td>sex:ethnicity    </td><td>1</td><td>50</td><td>13.324762</td><td>6.258531e-04</td><td>*</td><td>0.026661649</td></tr>\n",
       "\t<tr><th scope=row>7</th><td>age:ethnicity    </td><td>1</td><td>50</td><td>19.737606</td><td>4.929783e-05</td><td>*</td><td>0.025649119</td></tr>\n",
       "\t<tr><th scope=row>8</th><td>sex:age:ethnicity</td><td>1</td><td>50</td><td> 5.194152</td><td>2.696674e-02</td><td>*</td><td>0.009402510</td></tr>\n",
       "</tbody>\n",
       "</table>\n"
      ],
      "text/latex": [
       "\\textbf{\\$ANOVA} = A data.frame: 7 × 7\n",
       "\\begin{tabular}{r|lllllll}\n",
       "  & Effect & DFn & DFd & F & p & p<.05 & ges\\\\\n",
       "  & <chr> & <dbl> & <dbl> & <dbl> & <dbl> & <chr> & <dbl>\\\\\n",
       "\\hline\n",
       "\t2 & sex               & 1 & 50 &  9.521419 & 3.306335e-03 & * & 0.016548360\\\\\n",
       "\t3 & age               & 1 & 50 & 21.604378 & 2.475379e-05 & * & 0.054099828\\\\\n",
       "\t4 & ethnicity         & 1 & 50 & 31.530648 & 8.618142e-07 & * & 0.051307750\\\\\n",
       "\t5 & sex:age           & 1 & 50 &  2.852944 & 9.743446e-02 &   & 0.003967705\\\\\n",
       "\t6 & sex:ethnicity     & 1 & 50 & 13.324762 & 6.258531e-04 & * & 0.026661649\\\\\n",
       "\t7 & age:ethnicity     & 1 & 50 & 19.737606 & 4.929783e-05 & * & 0.025649119\\\\\n",
       "\t8 & sex:age:ethnicity & 1 & 50 &  5.194152 & 2.696674e-02 & * & 0.009402510\\\\\n",
       "\\end{tabular}\n"
      ],
      "text/markdown": [
       "**$ANOVA** = \n",
       "A data.frame: 7 × 7\n",
       "\n",
       "| <!--/--> | Effect &lt;chr&gt; | DFn &lt;dbl&gt; | DFd &lt;dbl&gt; | F &lt;dbl&gt; | p &lt;dbl&gt; | p&lt;.05 &lt;chr&gt; | ges &lt;dbl&gt; |\n",
       "|---|---|---|---|---|---|---|---|\n",
       "| 2 | sex               | 1 | 50 |  9.521419 | 3.306335e-03 | * | 0.016548360 |\n",
       "| 3 | age               | 1 | 50 | 21.604378 | 2.475379e-05 | * | 0.054099828 |\n",
       "| 4 | ethnicity         | 1 | 50 | 31.530648 | 8.618142e-07 | * | 0.051307750 |\n",
       "| 5 | sex:age           | 1 | 50 |  2.852944 | 9.743446e-02 | <!----> | 0.003967705 |\n",
       "| 6 | sex:ethnicity     | 1 | 50 | 13.324762 | 6.258531e-04 | * | 0.026661649 |\n",
       "| 7 | age:ethnicity     | 1 | 50 | 19.737606 | 4.929783e-05 | * | 0.025649119 |\n",
       "| 8 | sex:age:ethnicity | 1 | 50 |  5.194152 | 2.696674e-02 | * | 0.009402510 |\n",
       "\n"
      ],
      "text/plain": [
       "$ANOVA\n",
       "             Effect DFn DFd         F            p p<.05         ges\n",
       "2               sex   1  50  9.521419 3.306335e-03     * 0.016548360\n",
       "3               age   1  50 21.604378 2.475379e-05     * 0.054099828\n",
       "4         ethnicity   1  50 31.530648 8.618142e-07     * 0.051307750\n",
       "5           sex:age   1  50  2.852944 9.743446e-02       0.003967705\n",
       "6     sex:ethnicity   1  50 13.324762 6.258531e-04     * 0.026661649\n",
       "7     age:ethnicity   1  50 19.737606 4.929783e-05     * 0.025649119\n",
       "8 sex:age:ethnicity   1  50  5.194152 2.696674e-02     * 0.009402510\n"
      ]
     },
     "metadata": {},
     "output_type": "display_data"
    }
   ],
   "source": [
    "res.aov  = ezANOVA(data=df, wid=.(participantId), dv=.(sentimentScore), within=.(sex, age, ethnicity))\n",
    "res.aov  "
   ]
  },
  {
   "cell_type": "code",
   "execution_count": 28,
   "id": "78e9867b",
   "metadata": {},
   "outputs": [
    {
     "data": {
      "text/html": [
       "'0.02696674'"
      ],
      "text/latex": [
       "'0.02696674'"
      ],
      "text/markdown": [
       "'0.02696674'"
      ],
      "text/plain": [
       "[1] \"0.02696674\""
      ]
     },
     "metadata": {},
     "output_type": "display_data"
    }
   ],
   "source": [
    "format(2.696674e-02, scientific=FALSE)"
   ]
  },
  {
   "cell_type": "markdown",
   "id": "2965548d",
   "metadata": {},
   "source": [
    "There is a statistically significant three-way interactions between age, sex, and ethnicity, Anova, $F$(1, 50) = 5.19, $p$ = 0.03, $\\eta^2_{g}=0.009$"
   ]
  },
  {
   "cell_type": "markdown",
   "id": "9f203bd1",
   "metadata": {},
   "source": [
    "### Post-hoc tests\n",
    "\n",
    "multiple pairwise paired t-tests between the levels of the within-subjects factor"
   ]
  },
  {
   "cell_type": "code",
   "execution_count": 29,
   "id": "677d1ea7",
   "metadata": {},
   "outputs": [
    {
     "data": {
      "text/html": [
       "<table class=\"dataframe\">\n",
       "<caption>A rstatix_test: 4 × 10</caption>\n",
       "<thead>\n",
       "\t<tr><th scope=col>sex</th><th scope=col>age</th><th scope=col>.y.</th><th scope=col>group1</th><th scope=col>group2</th><th scope=col>n1</th><th scope=col>n2</th><th scope=col>p</th><th scope=col>p.adj</th><th scope=col>p.adj.signif</th></tr>\n",
       "\t<tr><th scope=col>&lt;chr&gt;</th><th scope=col>&lt;chr&gt;</th><th scope=col>&lt;chr&gt;</th><th scope=col>&lt;chr&gt;</th><th scope=col>&lt;chr&gt;</th><th scope=col>&lt;int&gt;</th><th scope=col>&lt;int&gt;</th><th scope=col>&lt;dbl&gt;</th><th scope=col>&lt;dbl&gt;</th><th scope=col>&lt;chr&gt;</th></tr>\n",
       "</thead>\n",
       "<tbody>\n",
       "\t<tr><td>female</td><td>adult</td><td>sentimentScore</td><td>bipoc</td><td>white</td><td>1224</td><td>1224</td><td>3.34e-01</td><td>3.34e-01</td><td>ns  </td></tr>\n",
       "\t<tr><td>male  </td><td>adult</td><td>sentimentScore</td><td>bipoc</td><td>white</td><td>1224</td><td>1224</td><td>8.88e-07</td><td>8.88e-07</td><td>****</td></tr>\n",
       "\t<tr><td>female</td><td>child</td><td>sentimentScore</td><td>bipoc</td><td>white</td><td>1224</td><td>1224</td><td>9.87e-01</td><td>9.87e-01</td><td>ns  </td></tr>\n",
       "\t<tr><td>male  </td><td>child</td><td>sentimentScore</td><td>bipoc</td><td>white</td><td>1224</td><td>1224</td><td>2.97e-01</td><td>2.97e-01</td><td>ns  </td></tr>\n",
       "</tbody>\n",
       "</table>\n"
      ],
      "text/latex": [
       "A rstatix\\_test: 4 × 10\n",
       "\\begin{tabular}{llllllllll}\n",
       " sex & age & .y. & group1 & group2 & n1 & n2 & p & p.adj & p.adj.signif\\\\\n",
       " <chr> & <chr> & <chr> & <chr> & <chr> & <int> & <int> & <dbl> & <dbl> & <chr>\\\\\n",
       "\\hline\n",
       "\t female & adult & sentimentScore & bipoc & white & 1224 & 1224 & 3.34e-01 & 3.34e-01 & ns  \\\\\n",
       "\t male   & adult & sentimentScore & bipoc & white & 1224 & 1224 & 8.88e-07 & 8.88e-07 & ****\\\\\n",
       "\t female & child & sentimentScore & bipoc & white & 1224 & 1224 & 9.87e-01 & 9.87e-01 & ns  \\\\\n",
       "\t male   & child & sentimentScore & bipoc & white & 1224 & 1224 & 2.97e-01 & 2.97e-01 & ns  \\\\\n",
       "\\end{tabular}\n"
      ],
      "text/markdown": [
       "\n",
       "A rstatix_test: 4 × 10\n",
       "\n",
       "| sex &lt;chr&gt; | age &lt;chr&gt; | .y. &lt;chr&gt; | group1 &lt;chr&gt; | group2 &lt;chr&gt; | n1 &lt;int&gt; | n2 &lt;int&gt; | p &lt;dbl&gt; | p.adj &lt;dbl&gt; | p.adj.signif &lt;chr&gt; |\n",
       "|---|---|---|---|---|---|---|---|---|---|\n",
       "| female | adult | sentimentScore | bipoc | white | 1224 | 1224 | 3.34e-01 | 3.34e-01 | ns   |\n",
       "| male   | adult | sentimentScore | bipoc | white | 1224 | 1224 | 8.88e-07 | 8.88e-07 | **** |\n",
       "| female | child | sentimentScore | bipoc | white | 1224 | 1224 | 9.87e-01 | 9.87e-01 | ns   |\n",
       "| male   | child | sentimentScore | bipoc | white | 1224 | 1224 | 2.97e-01 | 2.97e-01 | ns   |\n",
       "\n"
      ],
      "text/plain": [
       "  sex    age   .y.            group1 group2 n1   n2   p        p.adj   \n",
       "1 female adult sentimentScore bipoc  white  1224 1224 3.34e-01 3.34e-01\n",
       "2 male   adult sentimentScore bipoc  white  1224 1224 8.88e-07 8.88e-07\n",
       "3 female child sentimentScore bipoc  white  1224 1224 9.87e-01 9.87e-01\n",
       "4 male   child sentimentScore bipoc  white  1224 1224 2.97e-01 2.97e-01\n",
       "  p.adj.signif\n",
       "1 ns          \n",
       "2 ****        \n",
       "3 ns          \n",
       "4 ns          "
      ]
     },
     "metadata": {},
     "output_type": "display_data"
    }
   ],
   "source": [
    "# Pairwise comparisons\n",
    "pwc <- df %>%\n",
    "  group_by(age, sex) %>%\n",
    "  pairwise_t_test(sentimentScore ~ ethnicity, paired = TRUE, p.adjust.method = \"bonferroni\") %>%\n",
    "  select(-df, -statistic) # Remove details\n",
    "\n",
    "pwc"
   ]
  },
  {
   "cell_type": "code",
   "execution_count": 30,
   "id": "9b9d228c",
   "metadata": {},
   "outputs": [
    {
     "data": {
      "image/png": "[encoded data removed]",
      "text/plain": [
       "plot without title"
      ]
     },
     "metadata": {
      "image/png": {
       "height": 420,
       "width": 420
      }
     },
     "output_type": "display_data"
    }
   ],
   "source": [
    "# Visualization: box plots with p-values\n",
    "# subtitle_3way_anova = \"Anova, $F$(1, 50) = 5.19, $p$ = 0.03, $\\\\eta^2_{g}=0.009$\"\n",
    "subtitle_3way_anova = expression(paste(\"Anova, F(1, 50) = 5.19, p = 0.03, \",eta[g]^2, \"=0.009\"))\n",
    "pwc <- pwc %>% add_xy_position(x = \"ethnicity\")\n",
    "\n",
    "bxp +  \n",
    "  stat_pvalue_manual(\n",
    "    pwc, hide.ns = TRUE, bracket.nudge.y = 0.1,\n",
    "    label = \"{p.adj}{p.adj.signif}\"\n",
    "    ) +\n",
    "  labs(\n",
    "    subtitle = subtitle_3way_anova,\n",
    "    caption = get_pwc_label(pwc)\n",
    "  )"
   ]
  },
  {
   "cell_type": "code",
   "execution_count": 31,
   "id": "d0c12673",
   "metadata": {},
   "outputs": [
    {
     "name": "stderr",
     "output_type": "stream",
     "text": [
      "Saving 6.67 x 6.67 in image\n",
      "\n",
      "Saving 6.67 x 6.67 in image\n",
      "\n"
     ]
    }
   ],
   "source": [
    "ggsave(\"../clean_data/anova_3way_test_forced_choice.png\")\n",
    "ggsave(\"../../emotions_dashboard/data/anova_3way_test_forced_choice.png\")"
   ]
  },
  {
   "cell_type": "markdown",
   "id": "d6bae177",
   "metadata": {},
   "source": [
    "## Report"
   ]
  },
  {
   "cell_type": "markdown",
   "id": "8cc34f45",
   "metadata": {},
   "source": [
    "-------------------\n",
    "\n",
    "\n",
    "\n",
    "\n",
    "***PENDING...***\n",
    "\n",
    "\n",
    "\n",
    "-------------------"
   ]
  },
  {
   "cell_type": "markdown",
   "id": "2fe30d89",
   "metadata": {},
   "source": [
    "## Anova agrgegated across ethnicity for between-effect"
   ]
  },
  {
   "cell_type": "code",
   "execution_count": 32,
   "id": "3cbc09df",
   "metadata": {},
   "outputs": [],
   "source": [
    "mDf = aggregate(sentimentScore ~ participantId + ethnicityC, data=df, FUN=mean)"
   ]
  },
  {
   "cell_type": "code",
   "execution_count": 33,
   "id": "0f670f0c",
   "metadata": {},
   "outputs": [
    {
     "data": {
      "text/plain": [
       "             Df  Sum Sq  Mean Sq F value   Pr(>F)    \n",
       "ethnicityC    1 0.02102 0.021020   12.05 0.000764 ***\n",
       "Residuals   100 0.17436 0.001744                     \n",
       "---\n",
       "Signif. codes:  0 ‘***’ 0.001 ‘**’ 0.01 ‘*’ 0.05 ‘.’ 0.1 ‘ ’ 1"
      ]
     },
     "metadata": {},
     "output_type": "display_data"
    }
   ],
   "source": [
    "summary(aov(sentimentScore ~ ethnicityC, data=mDf))     # ANOVA with just the between-effect"
   ]
  },
  {
   "cell_type": "code",
   "execution_count": 34,
   "id": "3daef07d",
   "metadata": {},
   "outputs": [],
   "source": [
    "# Images depicting caucasian faces "
   ]
  },
  {
   "cell_type": "code",
   "execution_count": 35,
   "id": "d8834420",
   "metadata": {},
   "outputs": [
    {
     "data": {
      "text/html": [
       "<table class=\"dataframe\">\n",
       "<caption>A tibble: 2 × 5</caption>\n",
       "<thead>\n",
       "\t<tr><th scope=col>ethnicityC</th><th scope=col>variable</th><th scope=col>n</th><th scope=col>mean</th><th scope=col>sd</th></tr>\n",
       "\t<tr><th scope=col>&lt;dbl&gt;</th><th scope=col>&lt;chr&gt;</th><th scope=col>&lt;dbl&gt;</th><th scope=col>&lt;dbl&gt;</th><th scope=col>&lt;dbl&gt;</th></tr>\n",
       "</thead>\n",
       "<tbody>\n",
       "\t<tr><td>-0.5</td><td>sentimentScore</td><td>51</td><td>-0.130</td><td>0.042</td></tr>\n",
       "\t<tr><td> 0.5</td><td>sentimentScore</td><td>51</td><td>-0.101</td><td>0.041</td></tr>\n",
       "</tbody>\n",
       "</table>\n"
      ],
      "text/latex": [
       "A tibble: 2 × 5\n",
       "\\begin{tabular}{lllll}\n",
       " ethnicityC & variable & n & mean & sd\\\\\n",
       " <dbl> & <chr> & <dbl> & <dbl> & <dbl>\\\\\n",
       "\\hline\n",
       "\t -0.5 & sentimentScore & 51 & -0.130 & 0.042\\\\\n",
       "\t  0.5 & sentimentScore & 51 & -0.101 & 0.041\\\\\n",
       "\\end{tabular}\n"
      ],
      "text/markdown": [
       "\n",
       "A tibble: 2 × 5\n",
       "\n",
       "| ethnicityC &lt;dbl&gt; | variable &lt;chr&gt; | n &lt;dbl&gt; | mean &lt;dbl&gt; | sd &lt;dbl&gt; |\n",
       "|---|---|---|---|---|\n",
       "| -0.5 | sentimentScore | 51 | -0.130 | 0.042 |\n",
       "|  0.5 | sentimentScore | 51 | -0.101 | 0.041 |\n",
       "\n"
      ],
      "text/plain": [
       "  ethnicityC variable       n  mean   sd   \n",
       "1 -0.5       sentimentScore 51 -0.130 0.042\n",
       "2  0.5       sentimentScore 51 -0.101 0.041"
      ]
     },
     "metadata": {},
     "output_type": "display_data"
    }
   ],
   "source": [
    "mDf %>%\n",
    "  group_by(ethnicityC) %>%\n",
    "  get_summary_stats(sentimentScore, type = \"mean_sd\")"
   ]
  },
  {
   "cell_type": "code",
   "execution_count": 36,
   "id": "1cb30382",
   "metadata": {},
   "outputs": [
    {
     "data": {
      "text/html": [
       "-0.029"
      ],
      "text/latex": [
       "-0.029"
      ],
      "text/markdown": [
       "-0.029"
      ],
      "text/plain": [
       "[1] -0.029"
      ]
     },
     "metadata": {},
     "output_type": "display_data"
    }
   ],
   "source": [
    "-0.130 - (-0.101)"
   ]
  },
  {
   "cell_type": "markdown",
   "id": "d6ab0af9",
   "metadata": {},
   "source": [
    "# Free-labeling"
   ]
  },
  {
   "cell_type": "code",
   "execution_count": 37,
   "id": "49d62e84",
   "metadata": {},
   "outputs": [
    {
     "name": "stderr",
     "output_type": "stream",
     "text": [
      "\n",
      "\u001b[36m──\u001b[39m \u001b[1m\u001b[1mColumn specification\u001b[1m\u001b[22m \u001b[36m──────────────────────────────────────────────────────────────────────────────────────\u001b[39m\n",
      "cols(\n",
      "  participantId = \u001b[32mcol_double()\u001b[39m,\n",
      "  photoId = \u001b[31mcol_character()\u001b[39m,\n",
      "  emotion = \u001b[31mcol_character()\u001b[39m,\n",
      "  ethnicity = \u001b[31mcol_character()\u001b[39m,\n",
      "  sex = \u001b[31mcol_character()\u001b[39m,\n",
      "  age = \u001b[31mcol_character()\u001b[39m,\n",
      "  label = \u001b[31mcol_character()\u001b[39m,\n",
      "  url = \u001b[31mcol_character()\u001b[39m,\n",
      "  sentimentScore = \u001b[32mcol_double()\u001b[39m,\n",
      "  sexC = \u001b[32mcol_double()\u001b[39m,\n",
      "  ageC = \u001b[32mcol_double()\u001b[39m,\n",
      "  ethnicityC = \u001b[32mcol_double()\u001b[39m\n",
      ")\n",
      "\n",
      "\n"
     ]
    }
   ],
   "source": [
    "df_free = read_csv(\"../clean_data/free_labeling_emotion_uw_students_long_format_lmer.csv\")"
   ]
  },
  {
   "cell_type": "code",
   "execution_count": 38,
   "id": "81319cbd",
   "metadata": {},
   "outputs": [
    {
     "data": {
      "text/html": [
       "<table class=\"dataframe\">\n",
       "<caption>A spec_tbl_df: 14609 × 12</caption>\n",
       "<thead>\n",
       "\t<tr><th scope=col>participantId</th><th scope=col>photoId</th><th scope=col>emotion</th><th scope=col>ethnicity</th><th scope=col>sex</th><th scope=col>age</th><th scope=col>label</th><th scope=col>url</th><th scope=col>sentimentScore</th><th scope=col>sexC</th><th scope=col>ageC</th><th scope=col>ethnicityC</th></tr>\n",
       "\t<tr><th scope=col>&lt;dbl&gt;</th><th scope=col>&lt;chr&gt;</th><th scope=col>&lt;chr&gt;</th><th scope=col>&lt;chr&gt;</th><th scope=col>&lt;chr&gt;</th><th scope=col>&lt;chr&gt;</th><th scope=col>&lt;chr&gt;</th><th scope=col>&lt;chr&gt;</th><th scope=col>&lt;dbl&gt;</th><th scope=col>&lt;dbl&gt;</th><th scope=col>&lt;dbl&gt;</th><th scope=col>&lt;dbl&gt;</th></tr>\n",
       "</thead>\n",
       "<tbody>\n",
       "\t<tr><td>0</td><td>Q2.1_1  </td><td>angry      </td><td>bipoc</td><td>female</td><td>adult</td><td>anger    </td><td>https://uwmadison.co1.qualtrics.com/ControlPanel/Graphic.php?IM=IM_bJXdODAZHOaG0rI</td><td>-0.5106</td><td>-0.5</td><td> 0.5</td><td>-0.5</td></tr>\n",
       "\t<tr><td>0</td><td>Q102.1_1</td><td>bored      </td><td>bipoc</td><td>male  </td><td>child</td><td>neutral  </td><td>https://uwmadison.co1.qualtrics.com/ControlPanel/Graphic.php?IM=IM_bw2zfW24xOcYU9o</td><td>-0.2732</td><td> 0.5</td><td>-0.5</td><td>-0.5</td></tr>\n",
       "\t<tr><td>0</td><td>Q103.1_1</td><td>bored      </td><td>white</td><td>female</td><td>adult</td><td>neutral  </td><td>https://uwmadison.co1.qualtrics.com/ControlPanel/Graphic.php?IM=IM_bqKH78xvssoHVoG</td><td>-0.2732</td><td>-0.5</td><td> 0.5</td><td> 0.5</td></tr>\n",
       "\t<tr><td>0</td><td>Q194.1_1</td><td>funny      </td><td>white</td><td>male  </td><td>adult</td><td>uncertain</td><td>https://uwmadison.co1.qualtrics.com/ControlPanel/Graphic.php?IM=IM_8oGUDKsFJy6Upeu</td><td> 0.4404</td><td> 0.5</td><td> 0.5</td><td> 0.5</td></tr>\n",
       "\t<tr><td>0</td><td>Q104.1_1</td><td>scared     </td><td>white</td><td>female</td><td>child</td><td>neutral  </td><td>https://uwmadison.co1.qualtrics.com/ControlPanel/Graphic.php?IM=IM_7WGuIqyEG3TilMi</td><td>-0.4404</td><td>-0.5</td><td>-0.5</td><td> 0.5</td></tr>\n",
       "\t<tr><td>0</td><td>Q101.1_1</td><td>sad        </td><td>bipoc</td><td>male  </td><td>adult</td><td>neutral  </td><td>https://uwmadison.co1.qualtrics.com/ControlPanel/Graphic.php?IM=IM_3gSfRO9Zt2G8NP8</td><td>-0.4767</td><td> 0.5</td><td> 0.5</td><td>-0.5</td></tr>\n",
       "\t<tr><td>0</td><td>Q97.1_2 </td><td>happy      </td><td>white</td><td>male  </td><td>adult</td><td>happiness</td><td>https://uwmadison.co1.qualtrics.com/ControlPanel/Graphic.php?IM=IM_ewCuSR8n6UYi2MK</td><td> 0.5719</td><td> 0.5</td><td> 0.5</td><td> 0.5</td></tr>\n",
       "\t<tr><td>0</td><td>Q98.1_1 </td><td>happy      </td><td>white</td><td>male  </td><td>child</td><td>happiness</td><td>https://uwmadison.co1.qualtrics.com/ControlPanel/Graphic.php?IM=IM_2hrynYgwGLMuDUG</td><td> 0.5719</td><td> 0.5</td><td>-0.5</td><td> 0.5</td></tr>\n",
       "\t<tr><td>0</td><td>Q100.1_1</td><td>sad        </td><td>bipoc</td><td>female</td><td>child</td><td>neutral  </td><td>https://uwmadison.co1.qualtrics.com/ControlPanel/Graphic.php?IM=IM_5bFJqMaV53Zsy0K</td><td>-0.4767</td><td>-0.5</td><td>-0.5</td><td>-0.5</td></tr>\n",
       "\t<tr><td>0</td><td>Q99.1_1 </td><td>bored      </td><td>bipoc</td><td>female</td><td>adult</td><td>neutral  </td><td>https://uwmadison.co1.qualtrics.com/ControlPanel/Graphic.php?IM=IM_39Riowawi2KEmV0</td><td>-0.2732</td><td>-0.5</td><td> 0.5</td><td>-0.5</td></tr>\n",
       "\t<tr><td>0</td><td>Q110.1_1</td><td>crying     </td><td>bipoc</td><td>male  </td><td>child</td><td>sadness  </td><td>https://uwmadison.co1.qualtrics.com/ControlPanel/Graphic.php?IM=IM_77jUBNTFvgA7yxU</td><td>-0.4767</td><td> 0.5</td><td>-0.5</td><td>-0.5</td></tr>\n",
       "\t<tr><td>0</td><td>Q111.1_1</td><td>sad        </td><td>white</td><td>female</td><td>adult</td><td>sadness  </td><td>https://uwmadison.co1.qualtrics.com/ControlPanel/Graphic.php?IM=IM_7NHotnPd2lT9Foa</td><td>-0.4767</td><td>-0.5</td><td> 0.5</td><td> 0.5</td></tr>\n",
       "\t<tr><td>0</td><td>Q112.1_1</td><td>sad        </td><td>white</td><td>female</td><td>child</td><td>sadness  </td><td>https://uwmadison.co1.qualtrics.com/ControlPanel/Graphic.php?IM=IM_0pqIA60jUTgdaQe</td><td>-0.4767</td><td>-0.5</td><td>-0.5</td><td> 0.5</td></tr>\n",
       "\t<tr><td>0</td><td>Q7.1_1  </td><td>angry      </td><td>white</td><td>female</td><td>child</td><td>anger    </td><td>https://uwmadison.co1.qualtrics.com/ControlPanel/Graphic.php?IM=IM_1XqAx3FzoRDFZt4</td><td>-0.5106</td><td>-0.5</td><td>-0.5</td><td> 0.5</td></tr>\n",
       "\t<tr><td>0</td><td>Q105.1_1</td><td>bored      </td><td>white</td><td>male  </td><td>adult</td><td>neutral  </td><td>https://uwmadison.co1.qualtrics.com/ControlPanel/Graphic.php?IM=IM_9zQEAVQQyKfTlUG</td><td>-0.2732</td><td> 0.5</td><td> 0.5</td><td> 0.5</td></tr>\n",
       "\t<tr><td>0</td><td>Q106.1_1</td><td>bored      </td><td>white</td><td>male  </td><td>child</td><td>neutral  </td><td>https://uwmadison.co1.qualtrics.com/ControlPanel/Graphic.php?IM=IM_7PAyQLJg8l8nBSS</td><td>-0.2732</td><td> 0.5</td><td>-0.5</td><td> 0.5</td></tr>\n",
       "\t<tr><td>0</td><td>Q109.1_1</td><td>sad        </td><td>bipoc</td><td>male  </td><td>adult</td><td>sadness  </td><td>https://uwmadison.co1.qualtrics.com/ControlPanel/Graphic.php?IM=IM_dahScWh9wdBUhlY</td><td>-0.4767</td><td> 0.5</td><td> 0.5</td><td>-0.5</td></tr>\n",
       "\t<tr><td>0</td><td>Q107.1_1</td><td>sad        </td><td>bipoc</td><td>female</td><td>adult</td><td>sadness  </td><td>https://uwmadison.co1.qualtrics.com/ControlPanel/Graphic.php?IM=IM_83amQw1mO0Wac06</td><td>-0.4767</td><td>-0.5</td><td> 0.5</td><td>-0.5</td></tr>\n",
       "\t<tr><td>0</td><td>Q108.1_1</td><td>crying     </td><td>bipoc</td><td>female</td><td>child</td><td>sadness  </td><td>https://uwmadison.co1.qualtrics.com/ControlPanel/Graphic.php?IM=IM_73Yp8FVd9OfjPP8</td><td>-0.4767</td><td>-0.5</td><td>-0.5</td><td>-0.5</td></tr>\n",
       "\t<tr><td>0</td><td>Q85.1_1 </td><td>confused   </td><td>bipoc</td><td>male  </td><td>adult</td><td>fear     </td><td>https://uwmadison.co1.qualtrics.com/ControlPanel/Graphic.php?IM=IM_e3vAzbw1fMlXZyu</td><td>-0.3182</td><td> 0.5</td><td> 0.5</td><td>-0.5</td></tr>\n",
       "\t<tr><td>0</td><td>Q86.1_1 </td><td>sad        </td><td>bipoc</td><td>male  </td><td>child</td><td>fear     </td><td>https://uwmadison.co1.qualtrics.com/ControlPanel/Graphic.php?IM=IM_byJrSqTzp3ZhZ9Y</td><td>-0.4767</td><td> 0.5</td><td>-0.5</td><td>-0.5</td></tr>\n",
       "\t<tr><td>0</td><td>Q87.1_1 </td><td>excited    </td><td>white</td><td>female</td><td>adult</td><td>fear     </td><td>https://uwmadison.co1.qualtrics.com/ControlPanel/Graphic.php?IM=IM_5AWayt9Py1ZQmUe</td><td> 0.3400</td><td>-0.5</td><td> 0.5</td><td> 0.5</td></tr>\n",
       "\t<tr><td>0</td><td>Q88.1_1 </td><td>surprised  </td><td>white</td><td>female</td><td>child</td><td>fear     </td><td>https://uwmadison.co1.qualtrics.com/ControlPanel/Graphic.php?IM=IM_40G6uAIeohgXMGi</td><td> 0.2263</td><td>-0.5</td><td>-0.5</td><td> 0.5</td></tr>\n",
       "\t<tr><td>0</td><td>Q81.1_1 </td><td>grossed out</td><td>white</td><td>male  </td><td>adult</td><td>disgust  </td><td>https://uwmadison.co1.qualtrics.com/ControlPanel/Graphic.php?IM=IM_7aEgC4sWsfM5I5E</td><td>-0.1027</td><td> 0.5</td><td> 0.5</td><td> 0.5</td></tr>\n",
       "\t<tr><td>0</td><td>Q84.1_1 </td><td>sad        </td><td>bipoc</td><td>female</td><td>child</td><td>fear     </td><td>https://uwmadison.co1.qualtrics.com/ControlPanel/Graphic.php?IM=IM_0BVeUJelcjahWwC</td><td>-0.4767</td><td>-0.5</td><td>-0.5</td><td>-0.5</td></tr>\n",
       "\t<tr><td>0</td><td>Q83.1_1 </td><td>scared     </td><td>bipoc</td><td>female</td><td>adult</td><td>fear     </td><td>https://uwmadison.co1.qualtrics.com/ControlPanel/Graphic.php?IM=IM_9tzXvOnfZ589gH4</td><td>-0.4404</td><td>-0.5</td><td> 0.5</td><td>-0.5</td></tr>\n",
       "\t<tr><td>0</td><td>Q82.1_1 </td><td>sour       </td><td>white</td><td>male  </td><td>child</td><td>disgust  </td><td>https://uwmadison.co1.qualtrics.com/ControlPanel/Graphic.php?IM=IM_7P182C9dn0ypgtE</td><td> 0.0000</td><td> 0.5</td><td>-0.5</td><td> 0.5</td></tr>\n",
       "\t<tr><td>0</td><td>Q8.1_3  </td><td>scolding   </td><td>white</td><td>male  </td><td>adult</td><td>anger    </td><td>https://uwmadison.co1.qualtrics.com/ControlPanel/Graphic.php?IM=IM_7PC2cgcyr5yUiOy</td><td> 0.0000</td><td> 0.5</td><td> 0.5</td><td> 0.5</td></tr>\n",
       "\t<tr><td>0</td><td>Q93.1_1 </td><td>smiling    </td><td>bipoc</td><td>male  </td><td>adult</td><td>happiness</td><td>https://uwmadison.co1.qualtrics.com/ControlPanel/Graphic.php?IM=IM_bEDlxRqiOdpCl1Q</td><td> 0.4588</td><td> 0.5</td><td> 0.5</td><td>-0.5</td></tr>\n",
       "\t<tr><td>0</td><td>Q94.1_1 </td><td>smiling    </td><td>bipoc</td><td>male  </td><td>child</td><td>happiness</td><td>https://uwmadison.co1.qualtrics.com/ControlPanel/Graphic.php?IM=IM_0UkPGjTodmzqM9U</td><td> 0.4588</td><td> 0.5</td><td>-0.5</td><td>-0.5</td></tr>\n",
       "\t<tr><td>⋮</td><td>⋮</td><td>⋮</td><td>⋮</td><td>⋮</td><td>⋮</td><td>⋮</td><td>⋮</td><td>⋮</td><td>⋮</td><td>⋮</td><td>⋮</td></tr>\n",
       "\t<tr><td>50</td><td>Q125.1_3</td><td>excited   </td><td>bipoc</td><td>male  </td><td>adult</td><td>uncertain</td><td>https://uwmadison.co1.qualtrics.com/ControlPanel/Graphic.php?IM=IM_afrF8KFiXbEcR2S</td><td> 0.3400</td><td> 0.5</td><td> 0.5</td><td>-0.5</td></tr>\n",
       "\t<tr><td>50</td><td>Q125.1_2</td><td>scary     </td><td>bipoc</td><td>male  </td><td>adult</td><td>uncertain</td><td>https://uwmadison.co1.qualtrics.com/ControlPanel/Graphic.php?IM=IM_afrF8KFiXbEcR2S</td><td>-0.4939</td><td> 0.5</td><td> 0.5</td><td>-0.5</td></tr>\n",
       "\t<tr><td>50</td><td>Q125.1_1</td><td>happy     </td><td>bipoc</td><td>male  </td><td>adult</td><td>uncertain</td><td>https://uwmadison.co1.qualtrics.com/ControlPanel/Graphic.php?IM=IM_afrF8KFiXbEcR2S</td><td> 0.5719</td><td> 0.5</td><td> 0.5</td><td>-0.5</td></tr>\n",
       "\t<tr><td>50</td><td>Q124.1_3</td><td>silly     </td><td>bipoc</td><td>female</td><td>child</td><td>uncertain</td><td>https://uwmadison.co1.qualtrics.com/ControlPanel/Graphic.php?IM=IM_cJi6x6m1lHypqN8</td><td> 0.0258</td><td>-0.5</td><td>-0.5</td><td>-0.5</td></tr>\n",
       "\t<tr><td>50</td><td>Q124.1_2</td><td>funny     </td><td>bipoc</td><td>female</td><td>child</td><td>uncertain</td><td>https://uwmadison.co1.qualtrics.com/ControlPanel/Graphic.php?IM=IM_cJi6x6m1lHypqN8</td><td> 0.4404</td><td>-0.5</td><td>-0.5</td><td>-0.5</td></tr>\n",
       "\t<tr><td>50</td><td>Q124.1_1</td><td>goofy     </td><td>bipoc</td><td>female</td><td>child</td><td>uncertain</td><td>https://uwmadison.co1.qualtrics.com/ControlPanel/Graphic.php?IM=IM_cJi6x6m1lHypqN8</td><td> 0.0000</td><td>-0.5</td><td>-0.5</td><td>-0.5</td></tr>\n",
       "\t<tr><td>50</td><td>Q126.1_2</td><td>frustrated</td><td>bipoc</td><td>male  </td><td>child</td><td>uncertain</td><td>https://uwmadison.co1.qualtrics.com/ControlPanel/Graphic.php?IM=IM_eaf2nwmlYn6uJKu</td><td>-0.5267</td><td> 0.5</td><td>-0.5</td><td>-0.5</td></tr>\n",
       "\t<tr><td>50</td><td>Q123.1_2</td><td>goofy     </td><td>bipoc</td><td>female</td><td>adult</td><td>uncertain</td><td>https://uwmadison.co1.qualtrics.com/ControlPanel/Graphic.php?IM=IM_74kgKNSWDU7crjM</td><td> 0.0000</td><td>-0.5</td><td> 0.5</td><td>-0.5</td></tr>\n",
       "\t<tr><td>50</td><td>Q123.1_1</td><td>silly     </td><td>bipoc</td><td>female</td><td>adult</td><td>uncertain</td><td>https://uwmadison.co1.qualtrics.com/ControlPanel/Graphic.php?IM=IM_74kgKNSWDU7crjM</td><td> 0.0258</td><td>-0.5</td><td> 0.5</td><td>-0.5</td></tr>\n",
       "\t<tr><td>50</td><td>Q122.1_3</td><td>shocked   </td><td>white</td><td>male  </td><td>child</td><td>surprise </td><td>https://uwmadison.co1.qualtrics.com/ControlPanel/Graphic.php?IM=IM_0Tk0DUpmSjqZP9Q</td><td>-0.3182</td><td> 0.5</td><td>-0.5</td><td> 0.5</td></tr>\n",
       "\t<tr><td>50</td><td>Q122.1_2</td><td>scared    </td><td>white</td><td>male  </td><td>child</td><td>surprise </td><td>https://uwmadison.co1.qualtrics.com/ControlPanel/Graphic.php?IM=IM_0Tk0DUpmSjqZP9Q</td><td>-0.4404</td><td> 0.5</td><td>-0.5</td><td> 0.5</td></tr>\n",
       "\t<tr><td>50</td><td>Q122.1_1</td><td>happy     </td><td>white</td><td>male  </td><td>child</td><td>surprise </td><td>https://uwmadison.co1.qualtrics.com/ControlPanel/Graphic.php?IM=IM_0Tk0DUpmSjqZP9Q</td><td> 0.5719</td><td> 0.5</td><td>-0.5</td><td> 0.5</td></tr>\n",
       "\t<tr><td>50</td><td>Q121.1_3</td><td>afraid    </td><td>white</td><td>male  </td><td>adult</td><td>surprise </td><td>https://uwmadison.co1.qualtrics.com/ControlPanel/Graphic.php?IM=IM_2004WZkMOAt3rVk</td><td> 0.0000</td><td> 0.5</td><td> 0.5</td><td> 0.5</td></tr>\n",
       "\t<tr><td>50</td><td>Q121.1_2</td><td>shocked   </td><td>white</td><td>male  </td><td>adult</td><td>surprise </td><td>https://uwmadison.co1.qualtrics.com/ControlPanel/Graphic.php?IM=IM_2004WZkMOAt3rVk</td><td>-0.3182</td><td> 0.5</td><td> 0.5</td><td> 0.5</td></tr>\n",
       "\t<tr><td>50</td><td>Q123.1_3</td><td>funny     </td><td>bipoc</td><td>female</td><td>adult</td><td>uncertain</td><td>https://uwmadison.co1.qualtrics.com/ControlPanel/Graphic.php?IM=IM_74kgKNSWDU7crjM</td><td> 0.4404</td><td>-0.5</td><td> 0.5</td><td>-0.5</td></tr>\n",
       "\t<tr><td>50</td><td>Q132.1_3</td><td>frustrated</td><td>bipoc</td><td>female</td><td>adult</td><td>anger    </td><td>https://uwmadison.co1.qualtrics.com/ControlPanel/Graphic.php?IM=IM_9WTZdrQmZK2OL54</td><td>-0.5267</td><td>-0.5</td><td> 0.5</td><td>-0.5</td></tr>\n",
       "\t<tr><td>50</td><td>Q126.1_3</td><td>confused  </td><td>bipoc</td><td>male  </td><td>child</td><td>uncertain</td><td>https://uwmadison.co1.qualtrics.com/ControlPanel/Graphic.php?IM=IM_eaf2nwmlYn6uJKu</td><td>-0.3182</td><td> 0.5</td><td>-0.5</td><td>-0.5</td></tr>\n",
       "\t<tr><td>50</td><td>Q127.1_1</td><td>suspivious</td><td>white</td><td>female</td><td>adult</td><td>uncertain</td><td>https://uwmadison.co1.qualtrics.com/ControlPanel/Graphic.php?IM=IM_4Z2olPR08fo1FQO</td><td> 0.0000</td><td>-0.5</td><td> 0.5</td><td> 0.5</td></tr>\n",
       "\t<tr><td>50</td><td>Q132.1_1</td><td>mad       </td><td>bipoc</td><td>female</td><td>adult</td><td>anger    </td><td>https://uwmadison.co1.qualtrics.com/ControlPanel/Graphic.php?IM=IM_9WTZdrQmZK2OL54</td><td>-0.4939</td><td>-0.5</td><td> 0.5</td><td>-0.5</td></tr>\n",
       "\t<tr><td>50</td><td>Q130.1_3</td><td>silly     </td><td>white</td><td>male  </td><td>child</td><td>uncertain</td><td>https://uwmadison.co1.qualtrics.com/ControlPanel/Graphic.php?IM=IM_eMb3pnSJgKC0VFk</td><td> 0.0258</td><td> 0.5</td><td>-0.5</td><td> 0.5</td></tr>\n",
       "\t<tr><td>50</td><td>Q130.1_2</td><td>goofy     </td><td>white</td><td>male  </td><td>child</td><td>uncertain</td><td>https://uwmadison.co1.qualtrics.com/ControlPanel/Graphic.php?IM=IM_eMb3pnSJgKC0VFk</td><td> 0.0000</td><td> 0.5</td><td>-0.5</td><td> 0.5</td></tr>\n",
       "\t<tr><td>50</td><td>Q130.1_1</td><td>funny     </td><td>white</td><td>male  </td><td>child</td><td>uncertain</td><td>https://uwmadison.co1.qualtrics.com/ControlPanel/Graphic.php?IM=IM_eMb3pnSJgKC0VFk</td><td> 0.4404</td><td> 0.5</td><td>-0.5</td><td> 0.5</td></tr>\n",
       "\t<tr><td>50</td><td>Q129.1_2</td><td>goofy     </td><td>white</td><td>male  </td><td>adult</td><td>uncertain</td><td>https://uwmadison.co1.qualtrics.com/ControlPanel/Graphic.php?IM=IM_3wreUCj6TLHFC4K</td><td> 0.0000</td><td> 0.5</td><td> 0.5</td><td> 0.5</td></tr>\n",
       "\t<tr><td>50</td><td>Q129.1_1</td><td>funny     </td><td>white</td><td>male  </td><td>adult</td><td>uncertain</td><td>https://uwmadison.co1.qualtrics.com/ControlPanel/Graphic.php?IM=IM_3wreUCj6TLHFC4K</td><td> 0.4404</td><td> 0.5</td><td> 0.5</td><td> 0.5</td></tr>\n",
       "\t<tr><td>50</td><td>Q128.1_3</td><td>surprised </td><td>white</td><td>female</td><td>child</td><td>uncertain</td><td>https://uwmadison.co1.qualtrics.com/ControlPanel/Graphic.php?IM=IM_8bHO7XfbqxRugTQ</td><td> 0.2263</td><td>-0.5</td><td>-0.5</td><td> 0.5</td></tr>\n",
       "\t<tr><td>50</td><td>Q128.1_2</td><td>curious   </td><td>white</td><td>female</td><td>child</td><td>uncertain</td><td>https://uwmadison.co1.qualtrics.com/ControlPanel/Graphic.php?IM=IM_8bHO7XfbqxRugTQ</td><td> 0.3182</td><td>-0.5</td><td>-0.5</td><td> 0.5</td></tr>\n",
       "\t<tr><td>50</td><td>Q128.1_1</td><td>happy     </td><td>white</td><td>female</td><td>child</td><td>uncertain</td><td>https://uwmadison.co1.qualtrics.com/ControlPanel/Graphic.php?IM=IM_8bHO7XfbqxRugTQ</td><td> 0.5719</td><td>-0.5</td><td>-0.5</td><td> 0.5</td></tr>\n",
       "\t<tr><td>50</td><td>Q127.1_3</td><td>interested</td><td>white</td><td>female</td><td>adult</td><td>uncertain</td><td>https://uwmadison.co1.qualtrics.com/ControlPanel/Graphic.php?IM=IM_4Z2olPR08fo1FQO</td><td> 0.4019</td><td>-0.5</td><td> 0.5</td><td> 0.5</td></tr>\n",
       "\t<tr><td>50</td><td>Q127.1_2</td><td>suprised  </td><td>white</td><td>female</td><td>adult</td><td>uncertain</td><td>https://uwmadison.co1.qualtrics.com/ControlPanel/Graphic.php?IM=IM_4Z2olPR08fo1FQO</td><td> 0.0000</td><td>-0.5</td><td> 0.5</td><td> 0.5</td></tr>\n",
       "\t<tr><td>50</td><td>Q129.1_3</td><td>silly     </td><td>white</td><td>male  </td><td>adult</td><td>uncertain</td><td>https://uwmadison.co1.qualtrics.com/ControlPanel/Graphic.php?IM=IM_3wreUCj6TLHFC4K</td><td> 0.0258</td><td> 0.5</td><td> 0.5</td><td> 0.5</td></tr>\n",
       "</tbody>\n",
       "</table>\n"
      ],
      "text/latex": [
       "A spec\\_tbl\\_df: 14609 × 12\n",
       "\\begin{tabular}{llllllllllll}\n",
       " participantId & photoId & emotion & ethnicity & sex & age & label & url & sentimentScore & sexC & ageC & ethnicityC\\\\\n",
       " <dbl> & <chr> & <chr> & <chr> & <chr> & <chr> & <chr> & <chr> & <dbl> & <dbl> & <dbl> & <dbl>\\\\\n",
       "\\hline\n",
       "\t 0 & Q2.1\\_1   & angry       & bipoc & female & adult & anger     & https://uwmadison.co1.qualtrics.com/ControlPanel/Graphic.php?IM=IM\\_bJXdODAZHOaG0rI & -0.5106 & -0.5 &  0.5 & -0.5\\\\\n",
       "\t 0 & Q102.1\\_1 & bored       & bipoc & male   & child & neutral   & https://uwmadison.co1.qualtrics.com/ControlPanel/Graphic.php?IM=IM\\_bw2zfW24xOcYU9o & -0.2732 &  0.5 & -0.5 & -0.5\\\\\n",
       "\t 0 & Q103.1\\_1 & bored       & white & female & adult & neutral   & https://uwmadison.co1.qualtrics.com/ControlPanel/Graphic.php?IM=IM\\_bqKH78xvssoHVoG & -0.2732 & -0.5 &  0.5 &  0.5\\\\\n",
       "\t 0 & Q194.1\\_1 & funny       & white & male   & adult & uncertain & https://uwmadison.co1.qualtrics.com/ControlPanel/Graphic.php?IM=IM\\_8oGUDKsFJy6Upeu &  0.4404 &  0.5 &  0.5 &  0.5\\\\\n",
       "\t 0 & Q104.1\\_1 & scared      & white & female & child & neutral   & https://uwmadison.co1.qualtrics.com/ControlPanel/Graphic.php?IM=IM\\_7WGuIqyEG3TilMi & -0.4404 & -0.5 & -0.5 &  0.5\\\\\n",
       "\t 0 & Q101.1\\_1 & sad         & bipoc & male   & adult & neutral   & https://uwmadison.co1.qualtrics.com/ControlPanel/Graphic.php?IM=IM\\_3gSfRO9Zt2G8NP8 & -0.4767 &  0.5 &  0.5 & -0.5\\\\\n",
       "\t 0 & Q97.1\\_2  & happy       & white & male   & adult & happiness & https://uwmadison.co1.qualtrics.com/ControlPanel/Graphic.php?IM=IM\\_ewCuSR8n6UYi2MK &  0.5719 &  0.5 &  0.5 &  0.5\\\\\n",
       "\t 0 & Q98.1\\_1  & happy       & white & male   & child & happiness & https://uwmadison.co1.qualtrics.com/ControlPanel/Graphic.php?IM=IM\\_2hrynYgwGLMuDUG &  0.5719 &  0.5 & -0.5 &  0.5\\\\\n",
       "\t 0 & Q100.1\\_1 & sad         & bipoc & female & child & neutral   & https://uwmadison.co1.qualtrics.com/ControlPanel/Graphic.php?IM=IM\\_5bFJqMaV53Zsy0K & -0.4767 & -0.5 & -0.5 & -0.5\\\\\n",
       "\t 0 & Q99.1\\_1  & bored       & bipoc & female & adult & neutral   & https://uwmadison.co1.qualtrics.com/ControlPanel/Graphic.php?IM=IM\\_39Riowawi2KEmV0 & -0.2732 & -0.5 &  0.5 & -0.5\\\\\n",
       "\t 0 & Q110.1\\_1 & crying      & bipoc & male   & child & sadness   & https://uwmadison.co1.qualtrics.com/ControlPanel/Graphic.php?IM=IM\\_77jUBNTFvgA7yxU & -0.4767 &  0.5 & -0.5 & -0.5\\\\\n",
       "\t 0 & Q111.1\\_1 & sad         & white & female & adult & sadness   & https://uwmadison.co1.qualtrics.com/ControlPanel/Graphic.php?IM=IM\\_7NHotnPd2lT9Foa & -0.4767 & -0.5 &  0.5 &  0.5\\\\\n",
       "\t 0 & Q112.1\\_1 & sad         & white & female & child & sadness   & https://uwmadison.co1.qualtrics.com/ControlPanel/Graphic.php?IM=IM\\_0pqIA60jUTgdaQe & -0.4767 & -0.5 & -0.5 &  0.5\\\\\n",
       "\t 0 & Q7.1\\_1   & angry       & white & female & child & anger     & https://uwmadison.co1.qualtrics.com/ControlPanel/Graphic.php?IM=IM\\_1XqAx3FzoRDFZt4 & -0.5106 & -0.5 & -0.5 &  0.5\\\\\n",
       "\t 0 & Q105.1\\_1 & bored       & white & male   & adult & neutral   & https://uwmadison.co1.qualtrics.com/ControlPanel/Graphic.php?IM=IM\\_9zQEAVQQyKfTlUG & -0.2732 &  0.5 &  0.5 &  0.5\\\\\n",
       "\t 0 & Q106.1\\_1 & bored       & white & male   & child & neutral   & https://uwmadison.co1.qualtrics.com/ControlPanel/Graphic.php?IM=IM\\_7PAyQLJg8l8nBSS & -0.2732 &  0.5 & -0.5 &  0.5\\\\\n",
       "\t 0 & Q109.1\\_1 & sad         & bipoc & male   & adult & sadness   & https://uwmadison.co1.qualtrics.com/ControlPanel/Graphic.php?IM=IM\\_dahScWh9wdBUhlY & -0.4767 &  0.5 &  0.5 & -0.5\\\\\n",
       "\t 0 & Q107.1\\_1 & sad         & bipoc & female & adult & sadness   & https://uwmadison.co1.qualtrics.com/ControlPanel/Graphic.php?IM=IM\\_83amQw1mO0Wac06 & -0.4767 & -0.5 &  0.5 & -0.5\\\\\n",
       "\t 0 & Q108.1\\_1 & crying      & bipoc & female & child & sadness   & https://uwmadison.co1.qualtrics.com/ControlPanel/Graphic.php?IM=IM\\_73Yp8FVd9OfjPP8 & -0.4767 & -0.5 & -0.5 & -0.5\\\\\n",
       "\t 0 & Q85.1\\_1  & confused    & bipoc & male   & adult & fear      & https://uwmadison.co1.qualtrics.com/ControlPanel/Graphic.php?IM=IM\\_e3vAzbw1fMlXZyu & -0.3182 &  0.5 &  0.5 & -0.5\\\\\n",
       "\t 0 & Q86.1\\_1  & sad         & bipoc & male   & child & fear      & https://uwmadison.co1.qualtrics.com/ControlPanel/Graphic.php?IM=IM\\_byJrSqTzp3ZhZ9Y & -0.4767 &  0.5 & -0.5 & -0.5\\\\\n",
       "\t 0 & Q87.1\\_1  & excited     & white & female & adult & fear      & https://uwmadison.co1.qualtrics.com/ControlPanel/Graphic.php?IM=IM\\_5AWayt9Py1ZQmUe &  0.3400 & -0.5 &  0.5 &  0.5\\\\\n",
       "\t 0 & Q88.1\\_1  & surprised   & white & female & child & fear      & https://uwmadison.co1.qualtrics.com/ControlPanel/Graphic.php?IM=IM\\_40G6uAIeohgXMGi &  0.2263 & -0.5 & -0.5 &  0.5\\\\\n",
       "\t 0 & Q81.1\\_1  & grossed out & white & male   & adult & disgust   & https://uwmadison.co1.qualtrics.com/ControlPanel/Graphic.php?IM=IM\\_7aEgC4sWsfM5I5E & -0.1027 &  0.5 &  0.5 &  0.5\\\\\n",
       "\t 0 & Q84.1\\_1  & sad         & bipoc & female & child & fear      & https://uwmadison.co1.qualtrics.com/ControlPanel/Graphic.php?IM=IM\\_0BVeUJelcjahWwC & -0.4767 & -0.5 & -0.5 & -0.5\\\\\n",
       "\t 0 & Q83.1\\_1  & scared      & bipoc & female & adult & fear      & https://uwmadison.co1.qualtrics.com/ControlPanel/Graphic.php?IM=IM\\_9tzXvOnfZ589gH4 & -0.4404 & -0.5 &  0.5 & -0.5\\\\\n",
       "\t 0 & Q82.1\\_1  & sour        & white & male   & child & disgust   & https://uwmadison.co1.qualtrics.com/ControlPanel/Graphic.php?IM=IM\\_7P182C9dn0ypgtE &  0.0000 &  0.5 & -0.5 &  0.5\\\\\n",
       "\t 0 & Q8.1\\_3   & scolding    & white & male   & adult & anger     & https://uwmadison.co1.qualtrics.com/ControlPanel/Graphic.php?IM=IM\\_7PC2cgcyr5yUiOy &  0.0000 &  0.5 &  0.5 &  0.5\\\\\n",
       "\t 0 & Q93.1\\_1  & smiling     & bipoc & male   & adult & happiness & https://uwmadison.co1.qualtrics.com/ControlPanel/Graphic.php?IM=IM\\_bEDlxRqiOdpCl1Q &  0.4588 &  0.5 &  0.5 & -0.5\\\\\n",
       "\t 0 & Q94.1\\_1  & smiling     & bipoc & male   & child & happiness & https://uwmadison.co1.qualtrics.com/ControlPanel/Graphic.php?IM=IM\\_0UkPGjTodmzqM9U &  0.4588 &  0.5 & -0.5 & -0.5\\\\\n",
       "\t ⋮ & ⋮ & ⋮ & ⋮ & ⋮ & ⋮ & ⋮ & ⋮ & ⋮ & ⋮ & ⋮ & ⋮\\\\\n",
       "\t 50 & Q125.1\\_3 & excited    & bipoc & male   & adult & uncertain & https://uwmadison.co1.qualtrics.com/ControlPanel/Graphic.php?IM=IM\\_afrF8KFiXbEcR2S &  0.3400 &  0.5 &  0.5 & -0.5\\\\\n",
       "\t 50 & Q125.1\\_2 & scary      & bipoc & male   & adult & uncertain & https://uwmadison.co1.qualtrics.com/ControlPanel/Graphic.php?IM=IM\\_afrF8KFiXbEcR2S & -0.4939 &  0.5 &  0.5 & -0.5\\\\\n",
       "\t 50 & Q125.1\\_1 & happy      & bipoc & male   & adult & uncertain & https://uwmadison.co1.qualtrics.com/ControlPanel/Graphic.php?IM=IM\\_afrF8KFiXbEcR2S &  0.5719 &  0.5 &  0.5 & -0.5\\\\\n",
       "\t 50 & Q124.1\\_3 & silly      & bipoc & female & child & uncertain & https://uwmadison.co1.qualtrics.com/ControlPanel/Graphic.php?IM=IM\\_cJi6x6m1lHypqN8 &  0.0258 & -0.5 & -0.5 & -0.5\\\\\n",
       "\t 50 & Q124.1\\_2 & funny      & bipoc & female & child & uncertain & https://uwmadison.co1.qualtrics.com/ControlPanel/Graphic.php?IM=IM\\_cJi6x6m1lHypqN8 &  0.4404 & -0.5 & -0.5 & -0.5\\\\\n",
       "\t 50 & Q124.1\\_1 & goofy      & bipoc & female & child & uncertain & https://uwmadison.co1.qualtrics.com/ControlPanel/Graphic.php?IM=IM\\_cJi6x6m1lHypqN8 &  0.0000 & -0.5 & -0.5 & -0.5\\\\\n",
       "\t 50 & Q126.1\\_2 & frustrated & bipoc & male   & child & uncertain & https://uwmadison.co1.qualtrics.com/ControlPanel/Graphic.php?IM=IM\\_eaf2nwmlYn6uJKu & -0.5267 &  0.5 & -0.5 & -0.5\\\\\n",
       "\t 50 & Q123.1\\_2 & goofy      & bipoc & female & adult & uncertain & https://uwmadison.co1.qualtrics.com/ControlPanel/Graphic.php?IM=IM\\_74kgKNSWDU7crjM &  0.0000 & -0.5 &  0.5 & -0.5\\\\\n",
       "\t 50 & Q123.1\\_1 & silly      & bipoc & female & adult & uncertain & https://uwmadison.co1.qualtrics.com/ControlPanel/Graphic.php?IM=IM\\_74kgKNSWDU7crjM &  0.0258 & -0.5 &  0.5 & -0.5\\\\\n",
       "\t 50 & Q122.1\\_3 & shocked    & white & male   & child & surprise  & https://uwmadison.co1.qualtrics.com/ControlPanel/Graphic.php?IM=IM\\_0Tk0DUpmSjqZP9Q & -0.3182 &  0.5 & -0.5 &  0.5\\\\\n",
       "\t 50 & Q122.1\\_2 & scared     & white & male   & child & surprise  & https://uwmadison.co1.qualtrics.com/ControlPanel/Graphic.php?IM=IM\\_0Tk0DUpmSjqZP9Q & -0.4404 &  0.5 & -0.5 &  0.5\\\\\n",
       "\t 50 & Q122.1\\_1 & happy      & white & male   & child & surprise  & https://uwmadison.co1.qualtrics.com/ControlPanel/Graphic.php?IM=IM\\_0Tk0DUpmSjqZP9Q &  0.5719 &  0.5 & -0.5 &  0.5\\\\\n",
       "\t 50 & Q121.1\\_3 & afraid     & white & male   & adult & surprise  & https://uwmadison.co1.qualtrics.com/ControlPanel/Graphic.php?IM=IM\\_2004WZkMOAt3rVk &  0.0000 &  0.5 &  0.5 &  0.5\\\\\n",
       "\t 50 & Q121.1\\_2 & shocked    & white & male   & adult & surprise  & https://uwmadison.co1.qualtrics.com/ControlPanel/Graphic.php?IM=IM\\_2004WZkMOAt3rVk & -0.3182 &  0.5 &  0.5 &  0.5\\\\\n",
       "\t 50 & Q123.1\\_3 & funny      & bipoc & female & adult & uncertain & https://uwmadison.co1.qualtrics.com/ControlPanel/Graphic.php?IM=IM\\_74kgKNSWDU7crjM &  0.4404 & -0.5 &  0.5 & -0.5\\\\\n",
       "\t 50 & Q132.1\\_3 & frustrated & bipoc & female & adult & anger     & https://uwmadison.co1.qualtrics.com/ControlPanel/Graphic.php?IM=IM\\_9WTZdrQmZK2OL54 & -0.5267 & -0.5 &  0.5 & -0.5\\\\\n",
       "\t 50 & Q126.1\\_3 & confused   & bipoc & male   & child & uncertain & https://uwmadison.co1.qualtrics.com/ControlPanel/Graphic.php?IM=IM\\_eaf2nwmlYn6uJKu & -0.3182 &  0.5 & -0.5 & -0.5\\\\\n",
       "\t 50 & Q127.1\\_1 & suspivious & white & female & adult & uncertain & https://uwmadison.co1.qualtrics.com/ControlPanel/Graphic.php?IM=IM\\_4Z2olPR08fo1FQO &  0.0000 & -0.5 &  0.5 &  0.5\\\\\n",
       "\t 50 & Q132.1\\_1 & mad        & bipoc & female & adult & anger     & https://uwmadison.co1.qualtrics.com/ControlPanel/Graphic.php?IM=IM\\_9WTZdrQmZK2OL54 & -0.4939 & -0.5 &  0.5 & -0.5\\\\\n",
       "\t 50 & Q130.1\\_3 & silly      & white & male   & child & uncertain & https://uwmadison.co1.qualtrics.com/ControlPanel/Graphic.php?IM=IM\\_eMb3pnSJgKC0VFk &  0.0258 &  0.5 & -0.5 &  0.5\\\\\n",
       "\t 50 & Q130.1\\_2 & goofy      & white & male   & child & uncertain & https://uwmadison.co1.qualtrics.com/ControlPanel/Graphic.php?IM=IM\\_eMb3pnSJgKC0VFk &  0.0000 &  0.5 & -0.5 &  0.5\\\\\n",
       "\t 50 & Q130.1\\_1 & funny      & white & male   & child & uncertain & https://uwmadison.co1.qualtrics.com/ControlPanel/Graphic.php?IM=IM\\_eMb3pnSJgKC0VFk &  0.4404 &  0.5 & -0.5 &  0.5\\\\\n",
       "\t 50 & Q129.1\\_2 & goofy      & white & male   & adult & uncertain & https://uwmadison.co1.qualtrics.com/ControlPanel/Graphic.php?IM=IM\\_3wreUCj6TLHFC4K &  0.0000 &  0.5 &  0.5 &  0.5\\\\\n",
       "\t 50 & Q129.1\\_1 & funny      & white & male   & adult & uncertain & https://uwmadison.co1.qualtrics.com/ControlPanel/Graphic.php?IM=IM\\_3wreUCj6TLHFC4K &  0.4404 &  0.5 &  0.5 &  0.5\\\\\n",
       "\t 50 & Q128.1\\_3 & surprised  & white & female & child & uncertain & https://uwmadison.co1.qualtrics.com/ControlPanel/Graphic.php?IM=IM\\_8bHO7XfbqxRugTQ &  0.2263 & -0.5 & -0.5 &  0.5\\\\\n",
       "\t 50 & Q128.1\\_2 & curious    & white & female & child & uncertain & https://uwmadison.co1.qualtrics.com/ControlPanel/Graphic.php?IM=IM\\_8bHO7XfbqxRugTQ &  0.3182 & -0.5 & -0.5 &  0.5\\\\\n",
       "\t 50 & Q128.1\\_1 & happy      & white & female & child & uncertain & https://uwmadison.co1.qualtrics.com/ControlPanel/Graphic.php?IM=IM\\_8bHO7XfbqxRugTQ &  0.5719 & -0.5 & -0.5 &  0.5\\\\\n",
       "\t 50 & Q127.1\\_3 & interested & white & female & adult & uncertain & https://uwmadison.co1.qualtrics.com/ControlPanel/Graphic.php?IM=IM\\_4Z2olPR08fo1FQO &  0.4019 & -0.5 &  0.5 &  0.5\\\\\n",
       "\t 50 & Q127.1\\_2 & suprised   & white & female & adult & uncertain & https://uwmadison.co1.qualtrics.com/ControlPanel/Graphic.php?IM=IM\\_4Z2olPR08fo1FQO &  0.0000 & -0.5 &  0.5 &  0.5\\\\\n",
       "\t 50 & Q129.1\\_3 & silly      & white & male   & adult & uncertain & https://uwmadison.co1.qualtrics.com/ControlPanel/Graphic.php?IM=IM\\_3wreUCj6TLHFC4K &  0.0258 &  0.5 &  0.5 &  0.5\\\\\n",
       "\\end{tabular}\n"
      ],
      "text/markdown": [
       "\n",
       "A spec_tbl_df: 14609 × 12\n",
       "\n",
       "| participantId &lt;dbl&gt; | photoId &lt;chr&gt; | emotion &lt;chr&gt; | ethnicity &lt;chr&gt; | sex &lt;chr&gt; | age &lt;chr&gt; | label &lt;chr&gt; | url &lt;chr&gt; | sentimentScore &lt;dbl&gt; | sexC &lt;dbl&gt; | ageC &lt;dbl&gt; | ethnicityC &lt;dbl&gt; |\n",
       "|---|---|---|---|---|---|---|---|---|---|---|---|\n",
       "| 0 | Q2.1_1   | angry       | bipoc | female | adult | anger     | https://uwmadison.co1.qualtrics.com/ControlPanel/Graphic.php?IM=IM_bJXdODAZHOaG0rI | -0.5106 | -0.5 |  0.5 | -0.5 |\n",
       "| 0 | Q102.1_1 | bored       | bipoc | male   | child | neutral   | https://uwmadison.co1.qualtrics.com/ControlPanel/Graphic.php?IM=IM_bw2zfW24xOcYU9o | -0.2732 |  0.5 | -0.5 | -0.5 |\n",
       "| 0 | Q103.1_1 | bored       | white | female | adult | neutral   | https://uwmadison.co1.qualtrics.com/ControlPanel/Graphic.php?IM=IM_bqKH78xvssoHVoG | -0.2732 | -0.5 |  0.5 |  0.5 |\n",
       "| 0 | Q194.1_1 | funny       | white | male   | adult | uncertain | https://uwmadison.co1.qualtrics.com/ControlPanel/Graphic.php?IM=IM_8oGUDKsFJy6Upeu |  0.4404 |  0.5 |  0.5 |  0.5 |\n",
       "| 0 | Q104.1_1 | scared      | white | female | child | neutral   | https://uwmadison.co1.qualtrics.com/ControlPanel/Graphic.php?IM=IM_7WGuIqyEG3TilMi | -0.4404 | -0.5 | -0.5 |  0.5 |\n",
       "| 0 | Q101.1_1 | sad         | bipoc | male   | adult | neutral   | https://uwmadison.co1.qualtrics.com/ControlPanel/Graphic.php?IM=IM_3gSfRO9Zt2G8NP8 | -0.4767 |  0.5 |  0.5 | -0.5 |\n",
       "| 0 | Q97.1_2  | happy       | white | male   | adult | happiness | https://uwmadison.co1.qualtrics.com/ControlPanel/Graphic.php?IM=IM_ewCuSR8n6UYi2MK |  0.5719 |  0.5 |  0.5 |  0.5 |\n",
       "| 0 | Q98.1_1  | happy       | white | male   | child | happiness | https://uwmadison.co1.qualtrics.com/ControlPanel/Graphic.php?IM=IM_2hrynYgwGLMuDUG |  0.5719 |  0.5 | -0.5 |  0.5 |\n",
       "| 0 | Q100.1_1 | sad         | bipoc | female | child | neutral   | https://uwmadison.co1.qualtrics.com/ControlPanel/Graphic.php?IM=IM_5bFJqMaV53Zsy0K | -0.4767 | -0.5 | -0.5 | -0.5 |\n",
       "| 0 | Q99.1_1  | bored       | bipoc | female | adult | neutral   | https://uwmadison.co1.qualtrics.com/ControlPanel/Graphic.php?IM=IM_39Riowawi2KEmV0 | -0.2732 | -0.5 |  0.5 | -0.5 |\n",
       "| 0 | Q110.1_1 | crying      | bipoc | male   | child | sadness   | https://uwmadison.co1.qualtrics.com/ControlPanel/Graphic.php?IM=IM_77jUBNTFvgA7yxU | -0.4767 |  0.5 | -0.5 | -0.5 |\n",
       "| 0 | Q111.1_1 | sad         | white | female | adult | sadness   | https://uwmadison.co1.qualtrics.com/ControlPanel/Graphic.php?IM=IM_7NHotnPd2lT9Foa | -0.4767 | -0.5 |  0.5 |  0.5 |\n",
       "| 0 | Q112.1_1 | sad         | white | female | child | sadness   | https://uwmadison.co1.qualtrics.com/ControlPanel/Graphic.php?IM=IM_0pqIA60jUTgdaQe | -0.4767 | -0.5 | -0.5 |  0.5 |\n",
       "| 0 | Q7.1_1   | angry       | white | female | child | anger     | https://uwmadison.co1.qualtrics.com/ControlPanel/Graphic.php?IM=IM_1XqAx3FzoRDFZt4 | -0.5106 | -0.5 | -0.5 |  0.5 |\n",
       "| 0 | Q105.1_1 | bored       | white | male   | adult | neutral   | https://uwmadison.co1.qualtrics.com/ControlPanel/Graphic.php?IM=IM_9zQEAVQQyKfTlUG | -0.2732 |  0.5 |  0.5 |  0.5 |\n",
       "| 0 | Q106.1_1 | bored       | white | male   | child | neutral   | https://uwmadison.co1.qualtrics.com/ControlPanel/Graphic.php?IM=IM_7PAyQLJg8l8nBSS | -0.2732 |  0.5 | -0.5 |  0.5 |\n",
       "| 0 | Q109.1_1 | sad         | bipoc | male   | adult | sadness   | https://uwmadison.co1.qualtrics.com/ControlPanel/Graphic.php?IM=IM_dahScWh9wdBUhlY | -0.4767 |  0.5 |  0.5 | -0.5 |\n",
       "| 0 | Q107.1_1 | sad         | bipoc | female | adult | sadness   | https://uwmadison.co1.qualtrics.com/ControlPanel/Graphic.php?IM=IM_83amQw1mO0Wac06 | -0.4767 | -0.5 |  0.5 | -0.5 |\n",
       "| 0 | Q108.1_1 | crying      | bipoc | female | child | sadness   | https://uwmadison.co1.qualtrics.com/ControlPanel/Graphic.php?IM=IM_73Yp8FVd9OfjPP8 | -0.4767 | -0.5 | -0.5 | -0.5 |\n",
       "| 0 | Q85.1_1  | confused    | bipoc | male   | adult | fear      | https://uwmadison.co1.qualtrics.com/ControlPanel/Graphic.php?IM=IM_e3vAzbw1fMlXZyu | -0.3182 |  0.5 |  0.5 | -0.5 |\n",
       "| 0 | Q86.1_1  | sad         | bipoc | male   | child | fear      | https://uwmadison.co1.qualtrics.com/ControlPanel/Graphic.php?IM=IM_byJrSqTzp3ZhZ9Y | -0.4767 |  0.5 | -0.5 | -0.5 |\n",
       "| 0 | Q87.1_1  | excited     | white | female | adult | fear      | https://uwmadison.co1.qualtrics.com/ControlPanel/Graphic.php?IM=IM_5AWayt9Py1ZQmUe |  0.3400 | -0.5 |  0.5 |  0.5 |\n",
       "| 0 | Q88.1_1  | surprised   | white | female | child | fear      | https://uwmadison.co1.qualtrics.com/ControlPanel/Graphic.php?IM=IM_40G6uAIeohgXMGi |  0.2263 | -0.5 | -0.5 |  0.5 |\n",
       "| 0 | Q81.1_1  | grossed out | white | male   | adult | disgust   | https://uwmadison.co1.qualtrics.com/ControlPanel/Graphic.php?IM=IM_7aEgC4sWsfM5I5E | -0.1027 |  0.5 |  0.5 |  0.5 |\n",
       "| 0 | Q84.1_1  | sad         | bipoc | female | child | fear      | https://uwmadison.co1.qualtrics.com/ControlPanel/Graphic.php?IM=IM_0BVeUJelcjahWwC | -0.4767 | -0.5 | -0.5 | -0.5 |\n",
       "| 0 | Q83.1_1  | scared      | bipoc | female | adult | fear      | https://uwmadison.co1.qualtrics.com/ControlPanel/Graphic.php?IM=IM_9tzXvOnfZ589gH4 | -0.4404 | -0.5 |  0.5 | -0.5 |\n",
       "| 0 | Q82.1_1  | sour        | white | male   | child | disgust   | https://uwmadison.co1.qualtrics.com/ControlPanel/Graphic.php?IM=IM_7P182C9dn0ypgtE |  0.0000 |  0.5 | -0.5 |  0.5 |\n",
       "| 0 | Q8.1_3   | scolding    | white | male   | adult | anger     | https://uwmadison.co1.qualtrics.com/ControlPanel/Graphic.php?IM=IM_7PC2cgcyr5yUiOy |  0.0000 |  0.5 |  0.5 |  0.5 |\n",
       "| 0 | Q93.1_1  | smiling     | bipoc | male   | adult | happiness | https://uwmadison.co1.qualtrics.com/ControlPanel/Graphic.php?IM=IM_bEDlxRqiOdpCl1Q |  0.4588 |  0.5 |  0.5 | -0.5 |\n",
       "| 0 | Q94.1_1  | smiling     | bipoc | male   | child | happiness | https://uwmadison.co1.qualtrics.com/ControlPanel/Graphic.php?IM=IM_0UkPGjTodmzqM9U |  0.4588 |  0.5 | -0.5 | -0.5 |\n",
       "| ⋮ | ⋮ | ⋮ | ⋮ | ⋮ | ⋮ | ⋮ | ⋮ | ⋮ | ⋮ | ⋮ | ⋮ |\n",
       "| 50 | Q125.1_3 | excited    | bipoc | male   | adult | uncertain | https://uwmadison.co1.qualtrics.com/ControlPanel/Graphic.php?IM=IM_afrF8KFiXbEcR2S |  0.3400 |  0.5 |  0.5 | -0.5 |\n",
       "| 50 | Q125.1_2 | scary      | bipoc | male   | adult | uncertain | https://uwmadison.co1.qualtrics.com/ControlPanel/Graphic.php?IM=IM_afrF8KFiXbEcR2S | -0.4939 |  0.5 |  0.5 | -0.5 |\n",
       "| 50 | Q125.1_1 | happy      | bipoc | male   | adult | uncertain | https://uwmadison.co1.qualtrics.com/ControlPanel/Graphic.php?IM=IM_afrF8KFiXbEcR2S |  0.5719 |  0.5 |  0.5 | -0.5 |\n",
       "| 50 | Q124.1_3 | silly      | bipoc | female | child | uncertain | https://uwmadison.co1.qualtrics.com/ControlPanel/Graphic.php?IM=IM_cJi6x6m1lHypqN8 |  0.0258 | -0.5 | -0.5 | -0.5 |\n",
       "| 50 | Q124.1_2 | funny      | bipoc | female | child | uncertain | https://uwmadison.co1.qualtrics.com/ControlPanel/Graphic.php?IM=IM_cJi6x6m1lHypqN8 |  0.4404 | -0.5 | -0.5 | -0.5 |\n",
       "| 50 | Q124.1_1 | goofy      | bipoc | female | child | uncertain | https://uwmadison.co1.qualtrics.com/ControlPanel/Graphic.php?IM=IM_cJi6x6m1lHypqN8 |  0.0000 | -0.5 | -0.5 | -0.5 |\n",
       "| 50 | Q126.1_2 | frustrated | bipoc | male   | child | uncertain | https://uwmadison.co1.qualtrics.com/ControlPanel/Graphic.php?IM=IM_eaf2nwmlYn6uJKu | -0.5267 |  0.5 | -0.5 | -0.5 |\n",
       "| 50 | Q123.1_2 | goofy      | bipoc | female | adult | uncertain | https://uwmadison.co1.qualtrics.com/ControlPanel/Graphic.php?IM=IM_74kgKNSWDU7crjM |  0.0000 | -0.5 |  0.5 | -0.5 |\n",
       "| 50 | Q123.1_1 | silly      | bipoc | female | adult | uncertain | https://uwmadison.co1.qualtrics.com/ControlPanel/Graphic.php?IM=IM_74kgKNSWDU7crjM |  0.0258 | -0.5 |  0.5 | -0.5 |\n",
       "| 50 | Q122.1_3 | shocked    | white | male   | child | surprise  | https://uwmadison.co1.qualtrics.com/ControlPanel/Graphic.php?IM=IM_0Tk0DUpmSjqZP9Q | -0.3182 |  0.5 | -0.5 |  0.5 |\n",
       "| 50 | Q122.1_2 | scared     | white | male   | child | surprise  | https://uwmadison.co1.qualtrics.com/ControlPanel/Graphic.php?IM=IM_0Tk0DUpmSjqZP9Q | -0.4404 |  0.5 | -0.5 |  0.5 |\n",
       "| 50 | Q122.1_1 | happy      | white | male   | child | surprise  | https://uwmadison.co1.qualtrics.com/ControlPanel/Graphic.php?IM=IM_0Tk0DUpmSjqZP9Q |  0.5719 |  0.5 | -0.5 |  0.5 |\n",
       "| 50 | Q121.1_3 | afraid     | white | male   | adult | surprise  | https://uwmadison.co1.qualtrics.com/ControlPanel/Graphic.php?IM=IM_2004WZkMOAt3rVk |  0.0000 |  0.5 |  0.5 |  0.5 |\n",
       "| 50 | Q121.1_2 | shocked    | white | male   | adult | surprise  | https://uwmadison.co1.qualtrics.com/ControlPanel/Graphic.php?IM=IM_2004WZkMOAt3rVk | -0.3182 |  0.5 |  0.5 |  0.5 |\n",
       "| 50 | Q123.1_3 | funny      | bipoc | female | adult | uncertain | https://uwmadison.co1.qualtrics.com/ControlPanel/Graphic.php?IM=IM_74kgKNSWDU7crjM |  0.4404 | -0.5 |  0.5 | -0.5 |\n",
       "| 50 | Q132.1_3 | frustrated | bipoc | female | adult | anger     | https://uwmadison.co1.qualtrics.com/ControlPanel/Graphic.php?IM=IM_9WTZdrQmZK2OL54 | -0.5267 | -0.5 |  0.5 | -0.5 |\n",
       "| 50 | Q126.1_3 | confused   | bipoc | male   | child | uncertain | https://uwmadison.co1.qualtrics.com/ControlPanel/Graphic.php?IM=IM_eaf2nwmlYn6uJKu | -0.3182 |  0.5 | -0.5 | -0.5 |\n",
       "| 50 | Q127.1_1 | suspivious | white | female | adult | uncertain | https://uwmadison.co1.qualtrics.com/ControlPanel/Graphic.php?IM=IM_4Z2olPR08fo1FQO |  0.0000 | -0.5 |  0.5 |  0.5 |\n",
       "| 50 | Q132.1_1 | mad        | bipoc | female | adult | anger     | https://uwmadison.co1.qualtrics.com/ControlPanel/Graphic.php?IM=IM_9WTZdrQmZK2OL54 | -0.4939 | -0.5 |  0.5 | -0.5 |\n",
       "| 50 | Q130.1_3 | silly      | white | male   | child | uncertain | https://uwmadison.co1.qualtrics.com/ControlPanel/Graphic.php?IM=IM_eMb3pnSJgKC0VFk |  0.0258 |  0.5 | -0.5 |  0.5 |\n",
       "| 50 | Q130.1_2 | goofy      | white | male   | child | uncertain | https://uwmadison.co1.qualtrics.com/ControlPanel/Graphic.php?IM=IM_eMb3pnSJgKC0VFk |  0.0000 |  0.5 | -0.5 |  0.5 |\n",
       "| 50 | Q130.1_1 | funny      | white | male   | child | uncertain | https://uwmadison.co1.qualtrics.com/ControlPanel/Graphic.php?IM=IM_eMb3pnSJgKC0VFk |  0.4404 |  0.5 | -0.5 |  0.5 |\n",
       "| 50 | Q129.1_2 | goofy      | white | male   | adult | uncertain | https://uwmadison.co1.qualtrics.com/ControlPanel/Graphic.php?IM=IM_3wreUCj6TLHFC4K |  0.0000 |  0.5 |  0.5 |  0.5 |\n",
       "| 50 | Q129.1_1 | funny      | white | male   | adult | uncertain | https://uwmadison.co1.qualtrics.com/ControlPanel/Graphic.php?IM=IM_3wreUCj6TLHFC4K |  0.4404 |  0.5 |  0.5 |  0.5 |\n",
       "| 50 | Q128.1_3 | surprised  | white | female | child | uncertain | https://uwmadison.co1.qualtrics.com/ControlPanel/Graphic.php?IM=IM_8bHO7XfbqxRugTQ |  0.2263 | -0.5 | -0.5 |  0.5 |\n",
       "| 50 | Q128.1_2 | curious    | white | female | child | uncertain | https://uwmadison.co1.qualtrics.com/ControlPanel/Graphic.php?IM=IM_8bHO7XfbqxRugTQ |  0.3182 | -0.5 | -0.5 |  0.5 |\n",
       "| 50 | Q128.1_1 | happy      | white | female | child | uncertain | https://uwmadison.co1.qualtrics.com/ControlPanel/Graphic.php?IM=IM_8bHO7XfbqxRugTQ |  0.5719 | -0.5 | -0.5 |  0.5 |\n",
       "| 50 | Q127.1_3 | interested | white | female | adult | uncertain | https://uwmadison.co1.qualtrics.com/ControlPanel/Graphic.php?IM=IM_4Z2olPR08fo1FQO |  0.4019 | -0.5 |  0.5 |  0.5 |\n",
       "| 50 | Q127.1_2 | suprised   | white | female | adult | uncertain | https://uwmadison.co1.qualtrics.com/ControlPanel/Graphic.php?IM=IM_4Z2olPR08fo1FQO |  0.0000 | -0.5 |  0.5 |  0.5 |\n",
       "| 50 | Q129.1_3 | silly      | white | male   | adult | uncertain | https://uwmadison.co1.qualtrics.com/ControlPanel/Graphic.php?IM=IM_3wreUCj6TLHFC4K |  0.0258 |  0.5 |  0.5 |  0.5 |\n",
       "\n"
      ],
      "text/plain": [
       "      participantId photoId  emotion     ethnicity sex    age   label    \n",
       "1     0             Q2.1_1   angry       bipoc     female adult anger    \n",
       "2     0             Q102.1_1 bored       bipoc     male   child neutral  \n",
       "3     0             Q103.1_1 bored       white     female adult neutral  \n",
       "4     0             Q194.1_1 funny       white     male   adult uncertain\n",
       "5     0             Q104.1_1 scared      white     female child neutral  \n",
       "6     0             Q101.1_1 sad         bipoc     male   adult neutral  \n",
       "7     0             Q97.1_2  happy       white     male   adult happiness\n",
       "8     0             Q98.1_1  happy       white     male   child happiness\n",
       "9     0             Q100.1_1 sad         bipoc     female child neutral  \n",
       "10    0             Q99.1_1  bored       bipoc     female adult neutral  \n",
       "11    0             Q110.1_1 crying      bipoc     male   child sadness  \n",
       "12    0             Q111.1_1 sad         white     female adult sadness  \n",
       "13    0             Q112.1_1 sad         white     female child sadness  \n",
       "14    0             Q7.1_1   angry       white     female child anger    \n",
       "15    0             Q105.1_1 bored       white     male   adult neutral  \n",
       "16    0             Q106.1_1 bored       white     male   child neutral  \n",
       "17    0             Q109.1_1 sad         bipoc     male   adult sadness  \n",
       "18    0             Q107.1_1 sad         bipoc     female adult sadness  \n",
       "19    0             Q108.1_1 crying      bipoc     female child sadness  \n",
       "20    0             Q85.1_1  confused    bipoc     male   adult fear     \n",
       "21    0             Q86.1_1  sad         bipoc     male   child fear     \n",
       "22    0             Q87.1_1  excited     white     female adult fear     \n",
       "23    0             Q88.1_1  surprised   white     female child fear     \n",
       "24    0             Q81.1_1  grossed out white     male   adult disgust  \n",
       "25    0             Q84.1_1  sad         bipoc     female child fear     \n",
       "26    0             Q83.1_1  scared      bipoc     female adult fear     \n",
       "27    0             Q82.1_1  sour        white     male   child disgust  \n",
       "28    0             Q8.1_3   scolding    white     male   adult anger    \n",
       "29    0             Q93.1_1  smiling     bipoc     male   adult happiness\n",
       "30    0             Q94.1_1  smiling     bipoc     male   child happiness\n",
       "⋮     ⋮             ⋮        ⋮           ⋮         ⋮      ⋮     ⋮        \n",
       "14580 50            Q125.1_3 excited     bipoc     male   adult uncertain\n",
       "14581 50            Q125.1_2 scary       bipoc     male   adult uncertain\n",
       "14582 50            Q125.1_1 happy       bipoc     male   adult uncertain\n",
       "14583 50            Q124.1_3 silly       bipoc     female child uncertain\n",
       "14584 50            Q124.1_2 funny       bipoc     female child uncertain\n",
       "14585 50            Q124.1_1 goofy       bipoc     female child uncertain\n",
       "14586 50            Q126.1_2 frustrated  bipoc     male   child uncertain\n",
       "14587 50            Q123.1_2 goofy       bipoc     female adult uncertain\n",
       "14588 50            Q123.1_1 silly       bipoc     female adult uncertain\n",
       "14589 50            Q122.1_3 shocked     white     male   child surprise \n",
       "14590 50            Q122.1_2 scared      white     male   child surprise \n",
       "14591 50            Q122.1_1 happy       white     male   child surprise \n",
       "14592 50            Q121.1_3 afraid      white     male   adult surprise \n",
       "14593 50            Q121.1_2 shocked     white     male   adult surprise \n",
       "14594 50            Q123.1_3 funny       bipoc     female adult uncertain\n",
       "14595 50            Q132.1_3 frustrated  bipoc     female adult anger    \n",
       "14596 50            Q126.1_3 confused    bipoc     male   child uncertain\n",
       "14597 50            Q127.1_1 suspivious  white     female adult uncertain\n",
       "14598 50            Q132.1_1 mad         bipoc     female adult anger    \n",
       "14599 50            Q130.1_3 silly       white     male   child uncertain\n",
       "14600 50            Q130.1_2 goofy       white     male   child uncertain\n",
       "14601 50            Q130.1_1 funny       white     male   child uncertain\n",
       "14602 50            Q129.1_2 goofy       white     male   adult uncertain\n",
       "14603 50            Q129.1_1 funny       white     male   adult uncertain\n",
       "14604 50            Q128.1_3 surprised   white     female child uncertain\n",
       "14605 50            Q128.1_2 curious     white     female child uncertain\n",
       "14606 50            Q128.1_1 happy       white     female child uncertain\n",
       "14607 50            Q127.1_3 interested  white     female adult uncertain\n",
       "14608 50            Q127.1_2 suprised    white     female adult uncertain\n",
       "14609 50            Q129.1_3 silly       white     male   adult uncertain\n",
       "      url                                                                               \n",
       "1     https://uwmadison.co1.qualtrics.com/ControlPanel/Graphic.php?IM=IM_bJXdODAZHOaG0rI\n",
       "2     https://uwmadison.co1.qualtrics.com/ControlPanel/Graphic.php?IM=IM_bw2zfW24xOcYU9o\n",
       "3     https://uwmadison.co1.qualtrics.com/ControlPanel/Graphic.php?IM=IM_bqKH78xvssoHVoG\n",
       "4     https://uwmadison.co1.qualtrics.com/ControlPanel/Graphic.php?IM=IM_8oGUDKsFJy6Upeu\n",
       "5     https://uwmadison.co1.qualtrics.com/ControlPanel/Graphic.php?IM=IM_7WGuIqyEG3TilMi\n",
       "6     https://uwmadison.co1.qualtrics.com/ControlPanel/Graphic.php?IM=IM_3gSfRO9Zt2G8NP8\n",
       "7     https://uwmadison.co1.qualtrics.com/ControlPanel/Graphic.php?IM=IM_ewCuSR8n6UYi2MK\n",
       "8     https://uwmadison.co1.qualtrics.com/ControlPanel/Graphic.php?IM=IM_2hrynYgwGLMuDUG\n",
       "9     https://uwmadison.co1.qualtrics.com/ControlPanel/Graphic.php?IM=IM_5bFJqMaV53Zsy0K\n",
       "10    https://uwmadison.co1.qualtrics.com/ControlPanel/Graphic.php?IM=IM_39Riowawi2KEmV0\n",
       "11    https://uwmadison.co1.qualtrics.com/ControlPanel/Graphic.php?IM=IM_77jUBNTFvgA7yxU\n",
       "12    https://uwmadison.co1.qualtrics.com/ControlPanel/Graphic.php?IM=IM_7NHotnPd2lT9Foa\n",
       "13    https://uwmadison.co1.qualtrics.com/ControlPanel/Graphic.php?IM=IM_0pqIA60jUTgdaQe\n",
       "14    https://uwmadison.co1.qualtrics.com/ControlPanel/Graphic.php?IM=IM_1XqAx3FzoRDFZt4\n",
       "15    https://uwmadison.co1.qualtrics.com/ControlPanel/Graphic.php?IM=IM_9zQEAVQQyKfTlUG\n",
       "16    https://uwmadison.co1.qualtrics.com/ControlPanel/Graphic.php?IM=IM_7PAyQLJg8l8nBSS\n",
       "17    https://uwmadison.co1.qualtrics.com/ControlPanel/Graphic.php?IM=IM_dahScWh9wdBUhlY\n",
       "18    https://uwmadison.co1.qualtrics.com/ControlPanel/Graphic.php?IM=IM_83amQw1mO0Wac06\n",
       "19    https://uwmadison.co1.qualtrics.com/ControlPanel/Graphic.php?IM=IM_73Yp8FVd9OfjPP8\n",
       "20    https://uwmadison.co1.qualtrics.com/ControlPanel/Graphic.php?IM=IM_e3vAzbw1fMlXZyu\n",
       "21    https://uwmadison.co1.qualtrics.com/ControlPanel/Graphic.php?IM=IM_byJrSqTzp3ZhZ9Y\n",
       "22    https://uwmadison.co1.qualtrics.com/ControlPanel/Graphic.php?IM=IM_5AWayt9Py1ZQmUe\n",
       "23    https://uwmadison.co1.qualtrics.com/ControlPanel/Graphic.php?IM=IM_40G6uAIeohgXMGi\n",
       "24    https://uwmadison.co1.qualtrics.com/ControlPanel/Graphic.php?IM=IM_7aEgC4sWsfM5I5E\n",
       "25    https://uwmadison.co1.qualtrics.com/ControlPanel/Graphic.php?IM=IM_0BVeUJelcjahWwC\n",
       "26    https://uwmadison.co1.qualtrics.com/ControlPanel/Graphic.php?IM=IM_9tzXvOnfZ589gH4\n",
       "27    https://uwmadison.co1.qualtrics.com/ControlPanel/Graphic.php?IM=IM_7P182C9dn0ypgtE\n",
       "28    https://uwmadison.co1.qualtrics.com/ControlPanel/Graphic.php?IM=IM_7PC2cgcyr5yUiOy\n",
       "29    https://uwmadison.co1.qualtrics.com/ControlPanel/Graphic.php?IM=IM_bEDlxRqiOdpCl1Q\n",
       "30    https://uwmadison.co1.qualtrics.com/ControlPanel/Graphic.php?IM=IM_0UkPGjTodmzqM9U\n",
       "⋮     ⋮                                                                                 \n",
       "14580 https://uwmadison.co1.qualtrics.com/ControlPanel/Graphic.php?IM=IM_afrF8KFiXbEcR2S\n",
       "14581 https://uwmadison.co1.qualtrics.com/ControlPanel/Graphic.php?IM=IM_afrF8KFiXbEcR2S\n",
       "14582 https://uwmadison.co1.qualtrics.com/ControlPanel/Graphic.php?IM=IM_afrF8KFiXbEcR2S\n",
       "14583 https://uwmadison.co1.qualtrics.com/ControlPanel/Graphic.php?IM=IM_cJi6x6m1lHypqN8\n",
       "14584 https://uwmadison.co1.qualtrics.com/ControlPanel/Graphic.php?IM=IM_cJi6x6m1lHypqN8\n",
       "14585 https://uwmadison.co1.qualtrics.com/ControlPanel/Graphic.php?IM=IM_cJi6x6m1lHypqN8\n",
       "14586 https://uwmadison.co1.qualtrics.com/ControlPanel/Graphic.php?IM=IM_eaf2nwmlYn6uJKu\n",
       "14587 https://uwmadison.co1.qualtrics.com/ControlPanel/Graphic.php?IM=IM_74kgKNSWDU7crjM\n",
       "14588 https://uwmadison.co1.qualtrics.com/ControlPanel/Graphic.php?IM=IM_74kgKNSWDU7crjM\n",
       "14589 https://uwmadison.co1.qualtrics.com/ControlPanel/Graphic.php?IM=IM_0Tk0DUpmSjqZP9Q\n",
       "14590 https://uwmadison.co1.qualtrics.com/ControlPanel/Graphic.php?IM=IM_0Tk0DUpmSjqZP9Q\n",
       "14591 https://uwmadison.co1.qualtrics.com/ControlPanel/Graphic.php?IM=IM_0Tk0DUpmSjqZP9Q\n",
       "14592 https://uwmadison.co1.qualtrics.com/ControlPanel/Graphic.php?IM=IM_2004WZkMOAt3rVk\n",
       "14593 https://uwmadison.co1.qualtrics.com/ControlPanel/Graphic.php?IM=IM_2004WZkMOAt3rVk\n",
       "14594 https://uwmadison.co1.qualtrics.com/ControlPanel/Graphic.php?IM=IM_74kgKNSWDU7crjM\n",
       "14595 https://uwmadison.co1.qualtrics.com/ControlPanel/Graphic.php?IM=IM_9WTZdrQmZK2OL54\n",
       "14596 https://uwmadison.co1.qualtrics.com/ControlPanel/Graphic.php?IM=IM_eaf2nwmlYn6uJKu\n",
       "14597 https://uwmadison.co1.qualtrics.com/ControlPanel/Graphic.php?IM=IM_4Z2olPR08fo1FQO\n",
       "14598 https://uwmadison.co1.qualtrics.com/ControlPanel/Graphic.php?IM=IM_9WTZdrQmZK2OL54\n",
       "14599 https://uwmadison.co1.qualtrics.com/ControlPanel/Graphic.php?IM=IM_eMb3pnSJgKC0VFk\n",
       "14600 https://uwmadison.co1.qualtrics.com/ControlPanel/Graphic.php?IM=IM_eMb3pnSJgKC0VFk\n",
       "14601 https://uwmadison.co1.qualtrics.com/ControlPanel/Graphic.php?IM=IM_eMb3pnSJgKC0VFk\n",
       "14602 https://uwmadison.co1.qualtrics.com/ControlPanel/Graphic.php?IM=IM_3wreUCj6TLHFC4K\n",
       "14603 https://uwmadison.co1.qualtrics.com/ControlPanel/Graphic.php?IM=IM_3wreUCj6TLHFC4K\n",
       "14604 https://uwmadison.co1.qualtrics.com/ControlPanel/Graphic.php?IM=IM_8bHO7XfbqxRugTQ\n",
       "14605 https://uwmadison.co1.qualtrics.com/ControlPanel/Graphic.php?IM=IM_8bHO7XfbqxRugTQ\n",
       "14606 https://uwmadison.co1.qualtrics.com/ControlPanel/Graphic.php?IM=IM_8bHO7XfbqxRugTQ\n",
       "14607 https://uwmadison.co1.qualtrics.com/ControlPanel/Graphic.php?IM=IM_4Z2olPR08fo1FQO\n",
       "14608 https://uwmadison.co1.qualtrics.com/ControlPanel/Graphic.php?IM=IM_4Z2olPR08fo1FQO\n",
       "14609 https://uwmadison.co1.qualtrics.com/ControlPanel/Graphic.php?IM=IM_3wreUCj6TLHFC4K\n",
       "      sentimentScore sexC ageC ethnicityC\n",
       "1     -0.5106        -0.5  0.5 -0.5      \n",
       "2     -0.2732         0.5 -0.5 -0.5      \n",
       "3     -0.2732        -0.5  0.5  0.5      \n",
       "4      0.4404         0.5  0.5  0.5      \n",
       "5     -0.4404        -0.5 -0.5  0.5      \n",
       "6     -0.4767         0.5  0.5 -0.5      \n",
       "7      0.5719         0.5  0.5  0.5      \n",
       "8      0.5719         0.5 -0.5  0.5      \n",
       "9     -0.4767        -0.5 -0.5 -0.5      \n",
       "10    -0.2732        -0.5  0.5 -0.5      \n",
       "11    -0.4767         0.5 -0.5 -0.5      \n",
       "12    -0.4767        -0.5  0.5  0.5      \n",
       "13    -0.4767        -0.5 -0.5  0.5      \n",
       "14    -0.5106        -0.5 -0.5  0.5      \n",
       "15    -0.2732         0.5  0.5  0.5      \n",
       "16    -0.2732         0.5 -0.5  0.5      \n",
       "17    -0.4767         0.5  0.5 -0.5      \n",
       "18    -0.4767        -0.5  0.5 -0.5      \n",
       "19    -0.4767        -0.5 -0.5 -0.5      \n",
       "20    -0.3182         0.5  0.5 -0.5      \n",
       "21    -0.4767         0.5 -0.5 -0.5      \n",
       "22     0.3400        -0.5  0.5  0.5      \n",
       "23     0.2263        -0.5 -0.5  0.5      \n",
       "24    -0.1027         0.5  0.5  0.5      \n",
       "25    -0.4767        -0.5 -0.5 -0.5      \n",
       "26    -0.4404        -0.5  0.5 -0.5      \n",
       "27     0.0000         0.5 -0.5  0.5      \n",
       "28     0.0000         0.5  0.5  0.5      \n",
       "29     0.4588         0.5  0.5 -0.5      \n",
       "30     0.4588         0.5 -0.5 -0.5      \n",
       "⋮     ⋮              ⋮    ⋮    ⋮         \n",
       "14580  0.3400         0.5  0.5 -0.5      \n",
       "14581 -0.4939         0.5  0.5 -0.5      \n",
       "14582  0.5719         0.5  0.5 -0.5      \n",
       "14583  0.0258        -0.5 -0.5 -0.5      \n",
       "14584  0.4404        -0.5 -0.5 -0.5      \n",
       "14585  0.0000        -0.5 -0.5 -0.5      \n",
       "14586 -0.5267         0.5 -0.5 -0.5      \n",
       "14587  0.0000        -0.5  0.5 -0.5      \n",
       "14588  0.0258        -0.5  0.5 -0.5      \n",
       "14589 -0.3182         0.5 -0.5  0.5      \n",
       "14590 -0.4404         0.5 -0.5  0.5      \n",
       "14591  0.5719         0.5 -0.5  0.5      \n",
       "14592  0.0000         0.5  0.5  0.5      \n",
       "14593 -0.3182         0.5  0.5  0.5      \n",
       "14594  0.4404        -0.5  0.5 -0.5      \n",
       "14595 -0.5267        -0.5  0.5 -0.5      \n",
       "14596 -0.3182         0.5 -0.5 -0.5      \n",
       "14597  0.0000        -0.5  0.5  0.5      \n",
       "14598 -0.4939        -0.5  0.5 -0.5      \n",
       "14599  0.0258         0.5 -0.5  0.5      \n",
       "14600  0.0000         0.5 -0.5  0.5      \n",
       "14601  0.4404         0.5 -0.5  0.5      \n",
       "14602  0.0000         0.5  0.5  0.5      \n",
       "14603  0.4404         0.5  0.5  0.5      \n",
       "14604  0.2263        -0.5 -0.5  0.5      \n",
       "14605  0.3182        -0.5 -0.5  0.5      \n",
       "14606  0.5719        -0.5 -0.5  0.5      \n",
       "14607  0.4019        -0.5  0.5  0.5      \n",
       "14608  0.0000        -0.5  0.5  0.5      \n",
       "14609  0.0258         0.5  0.5  0.5      "
      ]
     },
     "metadata": {},
     "output_type": "display_data"
    }
   ],
   "source": [
    "df_free"
   ]
  },
  {
   "cell_type": "markdown",
   "id": "cc57dd18",
   "metadata": {},
   "source": [
    "## Run model with Nelder-Mead opt"
   ]
  },
  {
   "cell_type": "markdown",
   "id": "459829df",
   "metadata": {},
   "source": [
    "**Determining random effect structure**\n",
    "\n",
    "**Random Intercept**:\n",
    "- participantId: repeated measures from same participant\n",
    "- photoId: repeated measures from same photo\n",
    "\n",
    "**Random slope**:\n",
    "- ethnicity: varies *within participantId* and *between items*\n",
    "- sex: varies *within participantId* and *between items*\n",
    "- age: varies *within participantId* and *between items*\n",
    "\n",
    "----\n",
    "- Random intercept and slope for participantId\n",
    "- Random intercept for photoId\n",
    "\n",
    "----"
   ]
  },
  {
   "cell_type": "code",
   "execution_count": null,
   "id": "c59fe43a",
   "metadata": {},
   "outputs": [],
   "source": [
    "# -------------\n",
    "# lacks power because there is only 1 obs per cell of [participantId X photoId]\n",
    "# -------------\n",
    "\n",
    "lmer_fl_uw_full = lmer(\n",
    "    sentimentScore ~ 1 + sexC*ethnicityC + (1 + sexC*ethnicityC|participantId) + (1 | photoId), \n",
    "    data = df_free,\n",
    "    REML = FALSE, \n",
    "    control = lmerControl(optimizer =\"Nelder_Mead\", calc.derivs=FALSE)\n",
    ")\n",
    "summary(lmer_fl_uw_full)"
   ]
  },
  {
   "cell_type": "code",
   "execution_count": null,
   "id": "597e291e",
   "metadata": {},
   "outputs": [],
   "source": [
    "# --------------\n",
    "# it doesn't address photoId random effect, but it has better power 20+ obs per cell (i.e., participantId )\n",
    "# Also, I specified multiple uncorrelated random effects for the same grouping variable, so the model converge\n",
    "# --------------\n",
    "\n",
    "lmer_fl_uw_partial = lmer(\n",
    "    sentimentScore ~ 1 + sexC*ethnicityC + (1 + sexC*ethnicityC||participantId), \n",
    "    data = df_free, \n",
    "    REML = FALSE, \n",
    "    control = lmerControl(optimizer =\"Nelder_Mead\", calc.derivs=FALSE)\n",
    ")\n",
    "summary(lmer_fl_uw_partial)"
   ]
  },
  {
   "cell_type": "markdown",
   "id": "03c57725",
   "metadata": {},
   "source": [
    "## Check collinearity"
   ]
  },
  {
   "cell_type": "code",
   "execution_count": null,
   "id": "6ed827ae",
   "metadata": {},
   "outputs": [],
   "source": [
    "check_collinearity(lmer_fl_uw_partial)"
   ]
  },
  {
   "cell_type": "code",
   "execution_count": null,
   "id": "0023493e",
   "metadata": {},
   "outputs": [],
   "source": [
    "plot(check_collinearity(lmer_fl_uw_partial))"
   ]
  },
  {
   "cell_type": "markdown",
   "id": "e1466a5f",
   "metadata": {},
   "source": [
    "## Check singularity"
   ]
  },
  {
   "cell_type": "code",
   "execution_count": null,
   "id": "b230117e",
   "metadata": {},
   "outputs": [],
   "source": [
    "check_collinearity(lmer_fl_uw_partial)"
   ]
  },
  {
   "cell_type": "code",
   "execution_count": null,
   "id": "31f8be0b",
   "metadata": {},
   "outputs": [],
   "source": [
    "# https://rstudio-pubs-static.s3.amazonaws.com/33653_57fc7b8e5d484c909b615d8633c01d51.html\n",
    "\n",
    "\n",
    "# https://rstudio-pubs-static.s3.amazonaws.com/33653_57fc7b8e5d484c909b615d8633c01d51.html\n",
    "tt_p = getME(lmer_fl_uw_partial,\"theta\")\n",
    "ll_p = getME(lmer_fl_uw_partial,\"lower\")\n",
    "tt_value_p = min(tt_p[ll_p==0])\n",
    "\n",
    "tt_value_p"
   ]
  },
  {
   "cell_type": "code",
   "execution_count": null,
   "id": "4026c931",
   "metadata": {},
   "outputs": [],
   "source": [
    "theta_p <- getME(lmer_fl_uw_partial,\"theta\")\n",
    "## diagonal elements are identifiable because they are fitted\n",
    "##  with a lower bound of zero ...\n",
    "diag.element <- getME(lmer_fl_uw_partial,\"lower\")==0\n",
    "any(theta_p[diag.element]<1e-5)\n",
    "\n",
    "# there may be a problem"
   ]
  },
  {
   "cell_type": "markdown",
   "id": "28d433cc",
   "metadata": {},
   "source": [
    "## Three-way Anova "
   ]
  },
  {
   "cell_type": "code",
   "execution_count": null,
   "id": "94cbaaba",
   "metadata": {},
   "outputs": [],
   "source": [
    "df_free %>%\n",
    "  group_by(ethnicity, sex, age) %>%\n",
    "  get_summary_stats(sentimentScore, type = \"mean_sd\")"
   ]
  },
  {
   "cell_type": "code",
   "execution_count": null,
   "id": "60f38505",
   "metadata": {},
   "outputs": [],
   "source": [
    "bxp_free <- ggboxplot(\n",
    "  df_free, x = \"ethnicity\", y = \"sentimentScore\",\n",
    "  color = \"sex\", palette = \"jco\",\n",
    "  facet.by = \"age\", short.panel.labs = FALSE\n",
    "  )\n",
    "bxp_free"
   ]
  },
  {
   "cell_type": "markdown",
   "id": "8b549e25",
   "metadata": {},
   "source": [
    "### Check assumptions"
   ]
  },
  {
   "cell_type": "markdown",
   "id": "0513d4f5",
   "metadata": {},
   "source": [
    "#### Outliers"
   ]
  },
  {
   "cell_type": "code",
   "execution_count": null,
   "id": "87a2eb22",
   "metadata": {},
   "outputs": [],
   "source": [
    "df_free %>% group_by(ethnicity, sex, age) %>% identify_outliers(sentimentScore)\n",
    "# just one not-extreme outlier"
   ]
  },
  {
   "cell_type": "markdown",
   "id": "3a13c122",
   "metadata": {},
   "source": [
    "#### Normality assumption"
   ]
  },
  {
   "cell_type": "code",
   "execution_count": null,
   "id": "07a71533",
   "metadata": {},
   "outputs": [],
   "source": [
    "# Compute Shapiro-Wilk test for each combinations of factor levels\n",
    "\n",
    "df_free %>%\n",
    "  group_by(ethnicity, sex, age) %>%\n",
    "  shapiro_test(sentimentScore)"
   ]
  },
  {
   "cell_type": "markdown",
   "id": "413c9909",
   "metadata": {},
   "source": [
    "#### QQ plot "
   ]
  },
  {
   "cell_type": "code",
   "execution_count": null,
   "id": "f6f2631d",
   "metadata": {},
   "outputs": [],
   "source": [
    "ggqqplot(df_free, \"sentimentScore\", ggtheme = theme_bw()) +\n",
    "  facet_grid(sex + ethnicity ~ age, labeller = \"label_both\")"
   ]
  },
  {
   "cell_type": "markdown",
   "id": "0cd226c0",
   "metadata": {},
   "source": [
    "**Not normally distributed**"
   ]
  },
  {
   "cell_type": "markdown",
   "id": "03452523",
   "metadata": {},
   "source": [
    "## Anova 2x2x2 computation \n"
   ]
  },
  {
   "cell_type": "code",
   "execution_count": null,
   "id": "a94f5d5c",
   "metadata": {},
   "outputs": [],
   "source": [
    "df_long_free = df_free %>% select(participantId, sex, age, ethnicity, sentimentScore)\n",
    "df_long_free = df_long_free %>% convert_as_factor(participantId, sex, age, ethnicity)\n",
    "head(df_long_free)"
   ]
  },
  {
   "cell_type": "code",
   "execution_count": null,
   "id": "8b05f77b",
   "metadata": {},
   "outputs": [],
   "source": [
    "res.aov  = ezANOVA(data=df_long_free, wid=.(participantId), dv=.(sentimentScore), within=.(sex, age, ethnicity))\n",
    "res.aov  "
   ]
  },
  {
   "cell_type": "markdown",
   "id": "800f3db8",
   "metadata": {},
   "source": [
    "The three-way interactions between age, sex, and ethnicity, was not significant, Anova, $F$(1, 48) = 0.76, $p$ = 0.3, $\\eta^2_{g}=0.001$"
   ]
  },
  {
   "cell_type": "markdown",
   "id": "9ecce9de",
   "metadata": {},
   "source": [
    "## Post-hoc tests\n",
    "\n",
    "multiple pairwise paired t-tests between the levels of the within-subjects factor"
   ]
  },
  {
   "cell_type": "code",
   "execution_count": null,
   "id": "a928ec84",
   "metadata": {},
   "outputs": [],
   "source": [
    "df_free %>%\n",
    "  group_by(age, sex)\n",
    "\n",
    "which(is.na(tmp))"
   ]
  },
  {
   "cell_type": "code",
   "execution_count": null,
   "id": "7be2c958",
   "metadata": {},
   "outputs": [],
   "source": [
    "# Pairwise comparisons\n",
    "pwc <- df_free %>%\n",
    "  group_by(age, sex) %>%\n",
    "  pairwise_t_test(sentimentScore ~ ethnicity, paired = FALSE, p.adjust.method = \"bonferroni\") \n",
    "\n",
    "pwc"
   ]
  },
  {
   "cell_type": "code",
   "execution_count": null,
   "id": "fafa71f7",
   "metadata": {},
   "outputs": [],
   "source": [
    "# Visualization: box plots with p-values\n",
    "# subtitle_3way_anova = Anova, $F$(1, 48) = 0.76, $p$ = 0.3, $\\eta^2_{g}=0.001$\n",
    "subtitle_3way_anova_free = expression(paste(\"Anova, F(1, 48) = 0.76, p = 0.3, \",eta[g]^2, \"=0.001\"))\n",
    "pwc <- pwc %>% add_xy_position(x = \"ethnicity\")\n",
    "\n",
    "bxp_free +  \n",
    "  stat_pvalue_manual(\n",
    "    pwc, hide.ns = TRUE, bracket.nudge.y = 0.1,\n",
    "    label = \"{p.adj}{p.adj.signif}\"\n",
    "    ) +\n",
    "  labs(\n",
    "    subtitle = subtitle_3way_anova_free,\n",
    "    caption = get_pwc_label(pwc)\n",
    "  )"
   ]
  },
  {
   "cell_type": "code",
   "execution_count": null,
   "id": "4a4f7618",
   "metadata": {},
   "outputs": [],
   "source": [
    "ggsave(\"../clean_data/anova_3way_test_free_labeling.png\")\n",
    "ggsave(\"../../emotions_dashboard/data/anova_3way_test_free_labeling.png\")"
   ]
  }
 ],
 "metadata": {
  "kernelspec": {
   "display_name": "R",
   "language": "R",
   "name": "ir"
  },
  "language_info": {
   "codemirror_mode": "r",
   "file_extension": ".r",
   "mimetype": "text/x-r-source",
   "name": "R",
   "pygments_lexer": "r",
   "version": "4.0.1"
  }
 },
 "nbformat": 4,
 "nbformat_minor": 5
}
