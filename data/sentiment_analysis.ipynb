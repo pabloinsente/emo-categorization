{
 "cells": [
  {
   "cell_type": "code",
   "execution_count": 180,
   "id": "f6572b0c-8342-4b8b-a54e-f1dd6725dcdd",
   "metadata": {},
   "outputs": [],
   "source": [
    "import nltk\n",
    "import pandas as pd\n",
    "from nltk.sentiment import SentimentIntensityAnalyzer\n",
    "import altair as alt"
   ]
  },
  {
   "cell_type": "markdown",
   "id": "8e0adba2-c4d0-4310-a4e6-31d23680df0a",
   "metadata": {},
   "source": [
    "# Forced choice sentiment scores"
   ]
  },
  {
   "cell_type": "code",
   "execution_count": 115,
   "id": "ceb51689-8a4c-47b3-bf05-cc1497fc89c7",
   "metadata": {},
   "outputs": [],
   "source": [
    "forced_choice_df = pd.read_csv('../clean_data/forced_choice_uw_students_count_emotions.csv')"
   ]
  },
  {
   "cell_type": "code",
   "execution_count": 116,
   "id": "ad58355b-078f-487c-8b1b-9a2552795f6d",
   "metadata": {},
   "outputs": [],
   "source": [
    "sia = SentimentIntensityAnalyzer()"
   ]
  },
  {
   "cell_type": "code",
   "execution_count": 117,
   "id": "3b700753-b04a-4289-a808-66bff7abcde2",
   "metadata": {},
   "outputs": [],
   "source": [
    "forced_choice_emo_list = ['happiness', 'neutral', 'surprise' , 'sadness', 'disgust', 'anger', 'fear', 'uncertain']"
   ]
  },
  {
   "cell_type": "code",
   "execution_count": 118,
   "id": "328b4e00-44f0-4661-9b98-0976e1a0e289",
   "metadata": {},
   "outputs": [],
   "source": [
    "emo_scores_forced = dict.fromkeys(forced_choice_emo_list) # placeholder dic with emotion-keys"
   ]
  },
  {
   "cell_type": "code",
   "execution_count": 119,
   "id": "78243b10-fce7-4a48-9868-59b75dc3bdc9",
   "metadata": {},
   "outputs": [],
   "source": [
    "emo_scores_forced.update({k: sia.polarity_scores(k) for k, v in emo_scores_forced.items()}) # dic with sentiment scores for each emotion word"
   ]
  },
  {
   "cell_type": "code",
   "execution_count": 138,
   "id": "0ca7d840-8207-4acd-81f7-086792e92acb",
   "metadata": {},
   "outputs": [],
   "source": [
    "def sentiment_matrix(dic_scores = emo_scores_forced, count_matrix = forced_choice_df, sentiment='compound', emo_list=forced_choice_emo_list):\n",
    "    scores_df = pd.DataFrame(columns=emo_list, index=range(0,194)) #placeholder dataframe \n",
    "    for emo in dic_scores:\n",
    "        scores_df[emo] = count_matrix[emo] * dic_scores[emo][sentiment] \n",
    "    scores_df[f\"mean-{sentiment}\"] = scores_df.mean(axis=1)\n",
    "    return scores_df"
   ]
  },
  {
   "cell_type": "code",
   "execution_count": 142,
   "id": "468c8fc2-179f-4215-b486-0d00913d37f1",
   "metadata": {},
   "outputs": [],
   "source": [
    "forced_compound = sentiment_matrix(dic_scores = emo_scores_forced, count_matrix = forced_choice_df, sentiment='compound', emo_list=forced_choice_emo_list)\n",
    "forced_neg = sentiment_matrix(dic_scores = emo_scores_forced, count_matrix = forced_choice_df, sentiment='neg', emo_list=forced_choice_emo_list)\n",
    "forced_pos = sentiment_matrix(dic_scores = emo_scores_forced, count_matrix = forced_choice_df, sentiment='pos', emo_list=forced_choice_emo_list)\n",
    "forced_neu = sentiment_matrix(dic_scores = emo_scores_forced, count_matrix = forced_choice_df, sentiment='neu', emo_list=forced_choice_emo_list)"
   ]
  },
  {
   "cell_type": "code",
   "execution_count": 93,
   "id": "48759d85-78f3-4f32-a8d7-b41411c69614",
   "metadata": {},
   "outputs": [],
   "source": [
    "# forced_choice_df.to_csv('../clean_data/forced_choice_df_uw_students_sentiment_scores.csv', index=False)"
   ]
  },
  {
   "cell_type": "markdown",
   "id": "ea479432-17f1-4ce5-8466-a266cbaf2b03",
   "metadata": {},
   "source": [
    "# Free labeling sentiment scores"
   ]
  },
  {
   "cell_type": "code",
   "execution_count": 165,
   "id": "13a60fb4-86bd-4130-b01d-2f3eb516b133",
   "metadata": {},
   "outputs": [],
   "source": [
    "free_labeling_df = pd.read_csv('../clean_data/free_choice_uw_students_count_emotions.csv')\n",
    "free_labeling_emo_list = pd.read_csv('../clean_data/free_choice_word_list.csv')\n",
    "free_labeling_emo_list = free_labeling_emo_list['emotion'].tolist()"
   ]
  },
  {
   "cell_type": "code",
   "execution_count": 166,
   "id": "b1647634-5617-4b51-b1ee-0265e6772e8d",
   "metadata": {},
   "outputs": [],
   "source": [
    "emo_scores_free = dict.fromkeys(free_labeling_emo_list)"
   ]
  },
  {
   "cell_type": "code",
   "execution_count": 169,
   "id": "a8b40013-a396-41b4-8106-1d7eaa0df264",
   "metadata": {},
   "outputs": [],
   "source": [
    "emo_scores_free.update({k: sia.polarity_scores(k) for k, v in emo_scores_free.items()}) # dic with sentiment scores for each emotion word"
   ]
  },
  {
   "cell_type": "code",
   "execution_count": 171,
   "id": "7f3afa24-85a4-4769-9e54-b6f09ebb940b",
   "metadata": {},
   "outputs": [],
   "source": [
    "free_compound = sentiment_matrix(dic_scores = emo_scores_free, count_matrix = free_labeling_df, sentiment='compound', emo_list=free_labeling_emo_list)\n",
    "free_neg = sentiment_matrix(dic_scores = emo_scores_free, count_matrix = free_labeling_df, sentiment='neg', emo_list=free_labeling_emo_list)\n",
    "free_pos = sentiment_matrix(dic_scores = emo_scores_free, count_matrix = free_labeling_df, sentiment='pos', emo_list=free_labeling_emo_list)\n",
    "free_neu = sentiment_matrix(dic_scores = emo_scores_free, count_matrix = free_labeling_df, sentiment='neu', emo_list=free_labeling_emo_list)"
   ]
  },
  {
   "cell_type": "code",
   "execution_count": 94,
   "id": "9c8902a8-3540-4277-b102-82f34b404b7c",
   "metadata": {},
   "outputs": [],
   "source": [
    "# free_labeling_df.to_csv('../clean_data/free_labeling_df_uw_students_sentiment_scores.csv', index=False)"
   ]
  },
  {
   "cell_type": "markdown",
   "id": "3348b419-051b-463e-be4c-92630a601aa0",
   "metadata": {},
   "source": [
    "# Regression analysis - Free-labeling"
   ]
  },
  {
   "cell_type": "code",
   "execution_count": 192,
   "id": "b60ce1bc-63b6-43ab-add2-bc0022fd680d",
   "metadata": {},
   "outputs": [],
   "source": [
    "reg_free = pd.DataFrame({'sex':free_labeling_df['sex'], 'age':free_labeling_df['age'], 'ethnicity':free_labeling_df['ethnicity'], 'mean-compound':free_compound['mean-compound']}) \n",
    "# X_free = pd.DataFrame({'sex':free_labeling_df['sex'], 'age':free_labeling_df['age'], 'ethnicity':free_labeling_df['ethnicity']})\n",
    "# Y_free = pd.DataFrame({'mean-compound':free_compound['mean-compound']})"
   ]
  },
  {
   "cell_type": "code",
   "execution_count": 229,
   "id": "b1bfddd3-6acc-44ea-bcd9-e0d280bcb7ea",
   "metadata": {},
   "outputs": [],
   "source": [
    "reg_free = reg_free.dropna()"
   ]
  },
  {
   "cell_type": "markdown",
   "id": "3fbb26b7-792f-457c-8324-43641cecb52d",
   "metadata": {},
   "source": [
    "## Descriptives plots"
   ]
  },
  {
   "cell_type": "code",
   "execution_count": 231,
   "id": "3e0b0016-003a-42ba-9c49-7131f336892f",
   "metadata": {},
   "outputs": [
    {
     "data": {
      "text/html": [
       "\n",
       "<div id=\"altair-viz-255307f40112496bbb7f5d923fc73f95\"></div>\n",
       "<script type=\"text/javascript\">\n",
       "  (function(spec, embedOpt){\n",
       "    let outputDiv = document.currentScript.previousElementSibling;\n",
       "    if (outputDiv.id !== \"altair-viz-255307f40112496bbb7f5d923fc73f95\") {\n",
       "      outputDiv = document.getElementById(\"altair-viz-255307f40112496bbb7f5d923fc73f95\");\n",
       "    }\n",
       "    const paths = {\n",
       "      \"vega\": \"https://cdn.jsdelivr.net/npm//vega@5?noext\",\n",
       "      \"vega-lib\": \"https://cdn.jsdelivr.net/npm//vega-lib?noext\",\n",
       "      \"vega-lite\": \"https://cdn.jsdelivr.net/npm//vega-lite@4.8.1?noext\",\n",
       "      \"vega-embed\": \"https://cdn.jsdelivr.net/npm//vega-embed@6?noext\",\n",
       "    };\n",
       "\n",
       "    function loadScript(lib) {\n",
       "      return new Promise(function(resolve, reject) {\n",
       "        var s = document.createElement('script');\n",
       "        s.src = paths[lib];\n",
       "        s.async = true;\n",
       "        s.onload = () => resolve(paths[lib]);\n",
       "        s.onerror = () => reject(`Error loading script: ${paths[lib]}`);\n",
       "        document.getElementsByTagName(\"head\")[0].appendChild(s);\n",
       "      });\n",
       "    }\n",
       "\n",
       "    function showError(err) {\n",
       "      outputDiv.innerHTML = `<div class=\"error\" style=\"color:red;\">${err}</div>`;\n",
       "      throw err;\n",
       "    }\n",
       "\n",
       "    function displayChart(vegaEmbed) {\n",
       "      vegaEmbed(outputDiv, spec, embedOpt)\n",
       "        .catch(err => showError(`Javascript Error: ${err.message}<br>This usually means there's a typo in your chart specification. See the javascript console for the full traceback.`));\n",
       "    }\n",
       "\n",
       "    if(typeof define === \"function\" && define.amd) {\n",
       "      requirejs.config({paths});\n",
       "      require([\"vega-embed\"], displayChart, err => showError(`Error loading script: ${err.message}`));\n",
       "    } else if (typeof vegaEmbed === \"function\") {\n",
       "      displayChart(vegaEmbed);\n",
       "    } else {\n",
       "      loadScript(\"vega\")\n",
       "        .then(() => loadScript(\"vega-lite\"))\n",
       "        .then(() => loadScript(\"vega-embed\"))\n",
       "        .catch(showError)\n",
       "        .then(() => displayChart(vegaEmbed));\n",
       "    }\n",
       "  })({\"config\": {\"view\": {\"continuousWidth\": 400, \"continuousHeight\": 300}}, \"data\": {\"name\": \"data-d97987b2c58b310d0a50664131c91f89\"}, \"mark\": \"bar\", \"encoding\": {\"x\": {\"type\": \"quantitative\", \"bin\": {\"maxbins\": 30}, \"field\": \"mean-compound\"}, \"y\": {\"type\": \"quantitative\", \"aggregate\": \"count\"}}, \"$schema\": \"https://vega.github.io/schema/vega-lite/v4.8.1.json\", \"datasets\": {\"data-d97987b2c58b310d0a50664131c91f89\": [{\"sex\": \"female\", \"age\": \"adult\", \"ethnicity\": \"bipoc\", \"mean-compound\": -0.008747633136094673}, {\"sex\": \"female\", \"age\": \"child\", \"ethnicity\": \"bipoc\", \"mean-compound\": -0.02549072978303747}, {\"sex\": \"male\", \"age\": \"adult\", \"ethnicity\": \"bipoc\", \"mean-compound\": -0.0313008875739645}, {\"sex\": \"male\", \"age\": \"child\", \"ethnicity\": \"bipoc\", \"mean-compound\": -0.02001952662721893}, {\"sex\": \"female\", \"age\": \"adult\", \"ethnicity\": \"white\", \"mean-compound\": -0.018724753451676523}, {\"sex\": \"female\", \"age\": \"child\", \"ethnicity\": \"white\", \"mean-compound\": -0.033768934911242596}, {\"sex\": \"male\", \"age\": \"adult\", \"ethnicity\": \"white\", \"mean-compound\": -0.016314595660749505}, {\"sex\": \"male\", \"age\": \"child\", \"ethnicity\": \"white\", \"mean-compound\": -0.0016985207100591719}, {\"sex\": \"female\", \"age\": \"adult\", \"ethnicity\": \"bipoc\", \"mean-compound\": -0.016403846153846147}, {\"sex\": \"female\", \"age\": \"child\", \"ethnicity\": \"bipoc\", \"mean-compound\": -0.016130473372781066}, {\"sex\": \"male\", \"age\": \"adult\", \"ethnicity\": \"bipoc\", \"mean-compound\": -0.029880571992110454}, {\"sex\": \"male\", \"age\": \"child\", \"ethnicity\": \"bipoc\", \"mean-compound\": -0.012775345167652863}, {\"sex\": \"female\", \"age\": \"adult\", \"ethnicity\": \"white\", \"mean-compound\": -0.028577317554240624}, {\"sex\": \"female\", \"age\": \"child\", \"ethnicity\": \"white\", \"mean-compound\": 0.012955917159763311}, {\"sex\": \"male\", \"age\": \"adult\", \"ethnicity\": \"white\", \"mean-compound\": -0.022757692307692305}, {\"sex\": \"male\", \"age\": \"child\", \"ethnicity\": \"white\", \"mean-compound\": -0.009934023668639054}, {\"sex\": \"female\", \"age\": \"adult\", \"ethnicity\": \"bipoc\", \"mean-compound\": -0.026855818540433927}, {\"sex\": \"female\", \"age\": \"child\", \"ethnicity\": \"bipoc\", \"mean-compound\": -0.01324230769230769}, {\"sex\": \"male\", \"age\": \"adult\", \"ethnicity\": \"bipoc\", \"mean-compound\": -0.024313313609467455}, {\"sex\": \"male\", \"age\": \"child\", \"ethnicity\": \"bipoc\", \"mean-compound\": 0.0010004930966469427}, {\"sex\": \"female\", \"age\": \"adult\", \"ethnicity\": \"white\", \"mean-compound\": 0.0020549309664694283}, {\"sex\": \"female\", \"age\": \"child\", \"ethnicity\": \"white\", \"mean-compound\": -0.035551282051282045}, {\"sex\": \"male\", \"age\": \"adult\", \"ethnicity\": \"white\", \"mean-compound\": -0.013323372781065086}, {\"sex\": \"male\", \"age\": \"child\", \"ethnicity\": \"white\", \"mean-compound\": 0.01319921104536489}, {\"sex\": \"female\", \"age\": \"adult\", \"ethnicity\": \"bipoc\", \"mean-compound\": 0.015753155818540438}, {\"sex\": \"female\", \"age\": \"child\", \"ethnicity\": \"bipoc\", \"mean-compound\": 0.03557189349112425}, {\"sex\": \"male\", \"age\": \"adult\", \"ethnicity\": \"bipoc\", \"mean-compound\": 0.022919625246548326}, {\"sex\": \"male\", \"age\": \"child\", \"ethnicity\": \"bipoc\", \"mean-compound\": 0.03870502958579881}, {\"sex\": \"female\", \"age\": \"adult\", \"ethnicity\": \"white\", \"mean-compound\": 0.023200098619329385}, {\"sex\": \"female\", \"age\": \"child\", \"ethnicity\": \"white\", \"mean-compound\": 0.028451775147928994}, {\"sex\": \"male\", \"age\": \"adult\", \"ethnicity\": \"white\", \"mean-compound\": 0.03301124260355028}, {\"sex\": \"male\", \"age\": \"child\", \"ethnicity\": \"white\", \"mean-compound\": 0.03450739644970414}, {\"sex\": \"female\", \"age\": \"adult\", \"ethnicity\": \"bipoc\", \"mean-compound\": -0.010173471400394473}, {\"sex\": \"female\", \"age\": \"child\", \"ethnicity\": \"bipoc\", \"mean-compound\": 0.017706607495069037}, {\"sex\": \"male\", \"age\": \"adult\", \"ethnicity\": \"bipoc\", \"mean-compound\": -0.014393589743589742}, {\"sex\": \"male\", \"age\": \"child\", \"ethnicity\": \"bipoc\", \"mean-compound\": -0.002962130177514793}, {\"sex\": \"female\", \"age\": \"adult\", \"ethnicity\": \"white\", \"mean-compound\": -0.014680670611439841}, {\"sex\": \"female\", \"age\": \"child\", \"ethnicity\": \"white\", \"mean-compound\": -0.00891597633136095}, {\"sex\": \"male\", \"age\": \"adult\", \"ethnicity\": \"white\", \"mean-compound\": -0.010829191321499013}, {\"sex\": \"male\", \"age\": \"child\", \"ethnicity\": \"white\", \"mean-compound\": 0.0007467455621301772}, {\"sex\": \"female\", \"age\": \"adult\", \"ethnicity\": \"bipoc\", \"mean-compound\": -0.030966173570019722}, {\"sex\": \"female\", \"age\": \"child\", \"ethnicity\": \"bipoc\", \"mean-compound\": -0.03799102564102562}, {\"sex\": \"male\", \"age\": \"adult\", \"ethnicity\": \"bipoc\", \"mean-compound\": -0.034220019723865874}, {\"sex\": \"male\", \"age\": \"child\", \"ethnicity\": \"bipoc\", \"mean-compound\": -0.0355275147928994}, {\"sex\": \"female\", \"age\": \"adult\", \"ethnicity\": \"white\", \"mean-compound\": -0.03639408284023669}, {\"sex\": \"female\", \"age\": \"child\", \"ethnicity\": \"white\", \"mean-compound\": -0.03330897435897436}, {\"sex\": \"male\", \"age\": \"adult\", \"ethnicity\": \"white\", \"mean-compound\": -0.013067455621301774}, {\"sex\": \"male\", \"age\": \"child\", \"ethnicity\": \"white\", \"mean-compound\": -0.034722682445759365}, {\"sex\": \"female\", \"age\": \"adult\", \"ethnicity\": \"bipoc\", \"mean-compound\": 0.009444378698224853}, {\"sex\": \"female\", \"age\": \"child\", \"ethnicity\": \"bipoc\", \"mean-compound\": 0.005420710059171599}, {\"sex\": \"male\", \"age\": \"adult\", \"ethnicity\": \"bipoc\", \"mean-compound\": -0.0027621301775147926}, {\"sex\": \"male\", \"age\": \"child\", \"ethnicity\": \"bipoc\", \"mean-compound\": 0.023407396449704142}, {\"sex\": \"female\", \"age\": \"adult\", \"ethnicity\": \"white\", \"mean-compound\": 0.004577810650887575}, {\"sex\": \"female\", \"age\": \"child\", \"ethnicity\": \"white\", \"mean-compound\": 0.007907199211045364}, {\"sex\": \"male\", \"age\": \"adult\", \"ethnicity\": \"white\", \"mean-compound\": -0.003976232741617356}, {\"sex\": \"male\", \"age\": \"child\", \"ethnicity\": \"white\", \"mean-compound\": 0.0052857001972386585}, {\"sex\": \"female\", \"age\": \"adult\", \"ethnicity\": \"bipoc\", \"mean-compound\": 0.013749802761341225}, {\"sex\": \"female\", \"age\": \"child\", \"ethnicity\": \"bipoc\", \"mean-compound\": -0.011958974358974354}, {\"sex\": \"male\", \"age\": \"adult\", \"ethnicity\": \"bipoc\", \"mean-compound\": 0.007219822485207102}, {\"sex\": \"male\", \"age\": \"child\", \"ethnicity\": \"bipoc\", \"mean-compound\": -0.0007533530571992109}, {\"sex\": \"female\", \"age\": \"adult\", \"ethnicity\": \"white\", \"mean-compound\": -0.010753944773175542}, {\"sex\": \"female\", \"age\": \"child\", \"ethnicity\": \"white\", \"mean-compound\": -0.01621134122287969}, {\"sex\": \"male\", \"age\": \"adult\", \"ethnicity\": \"white\", \"mean-compound\": -0.003942800788954635}, {\"sex\": \"male\", \"age\": \"child\", \"ethnicity\": \"white\", \"mean-compound\": -0.0046469428007889545}, {\"sex\": \"female\", \"age\": \"adult\", \"ethnicity\": \"bipoc\", \"mean-compound\": -0.03275522682445759}, {\"sex\": \"female\", \"age\": \"child\", \"ethnicity\": \"bipoc\", \"mean-compound\": -0.02264822485207101}, {\"sex\": \"male\", \"age\": \"adult\", \"ethnicity\": \"bipoc\", \"mean-compound\": -0.015204043392504928}, {\"sex\": \"male\", \"age\": \"child\", \"ethnicity\": \"bipoc\", \"mean-compound\": -0.031069625246548327}, {\"sex\": \"female\", \"age\": \"adult\", \"ethnicity\": \"white\", \"mean-compound\": -0.023245562130177515}, {\"sex\": \"female\", \"age\": \"child\", \"ethnicity\": \"white\", \"mean-compound\": -0.018528895463510844}, {\"sex\": \"male\", \"age\": \"adult\", \"ethnicity\": \"white\", \"mean-compound\": -0.029643491124260356}, {\"sex\": \"male\", \"age\": \"child\", \"ethnicity\": \"white\", \"mean-compound\": -0.02722524654832348}, {\"sex\": \"female\", \"age\": \"adult\", \"ethnicity\": \"bipoc\", \"mean-compound\": -0.021694773175542404}, {\"sex\": \"female\", \"age\": \"child\", \"ethnicity\": \"bipoc\", \"mean-compound\": -0.018174753451676535}, {\"sex\": \"male\", \"age\": \"adult\", \"ethnicity\": \"bipoc\", \"mean-compound\": -0.023599704142011832}, {\"sex\": \"male\", \"age\": \"child\", \"ethnicity\": \"bipoc\", \"mean-compound\": -0.03311005917159763}, {\"sex\": \"female\", \"age\": \"adult\", \"ethnicity\": \"white\", \"mean-compound\": -0.01891725838264299}, {\"sex\": \"female\", \"age\": \"child\", \"ethnicity\": \"white\", \"mean-compound\": -0.005935798816568048}, {\"sex\": \"male\", \"age\": \"adult\", \"ethnicity\": \"white\", \"mean-compound\": -0.028822879684418143}, {\"sex\": \"male\", \"age\": \"child\", \"ethnicity\": \"white\", \"mean-compound\": -0.025326331360946752}, {\"sex\": \"female\", \"age\": \"adult\", \"ethnicity\": \"bipoc\", \"mean-compound\": -0.025413116370808682}, {\"sex\": \"female\", \"age\": \"child\", \"ethnicity\": \"bipoc\", \"mean-compound\": -0.03544270216962525}, {\"sex\": \"male\", \"age\": \"adult\", \"ethnicity\": \"bipoc\", \"mean-compound\": -0.017075147928994082}, {\"sex\": \"male\", \"age\": \"child\", \"ethnicity\": \"bipoc\", \"mean-compound\": -0.014854142011834314}, {\"sex\": \"female\", \"age\": \"adult\", \"ethnicity\": \"white\", \"mean-compound\": 0.0018651873767258384}, {\"sex\": \"female\", \"age\": \"child\", \"ethnicity\": \"white\", \"mean-compound\": -0.000674950690335306}, {\"sex\": \"male\", \"age\": \"adult\", \"ethnicity\": \"white\", \"mean-compound\": -0.018303550295857982}, {\"sex\": \"male\", \"age\": \"child\", \"ethnicity\": \"white\", \"mean-compound\": -0.025246548323471403}, {\"sex\": \"female\", \"age\": \"adult\", \"ethnicity\": \"bipoc\", \"mean-compound\": 0.027084812623274168}, {\"sex\": \"female\", \"age\": \"child\", \"ethnicity\": \"bipoc\", \"mean-compound\": 0.025308579881656804}, {\"sex\": \"male\", \"age\": \"adult\", \"ethnicity\": \"bipoc\", \"mean-compound\": 0.02874940828402367}, {\"sex\": \"male\", \"age\": \"child\", \"ethnicity\": \"bipoc\", \"mean-compound\": 0.02463510848126233}, {\"sex\": \"female\", \"age\": \"adult\", \"ethnicity\": \"white\", \"mean-compound\": 0.017706213017751483}, {\"sex\": \"female\", \"age\": \"child\", \"ethnicity\": \"white\", \"mean-compound\": 0.022994773175542403}, {\"sex\": \"male\", \"age\": \"adult\", \"ethnicity\": \"white\", \"mean-compound\": 0.026115483234714004}, {\"sex\": \"male\", \"age\": \"child\", \"ethnicity\": \"white\", \"mean-compound\": 0.029344082840236686}, {\"sex\": \"female\", \"age\": \"adult\", \"ethnicity\": \"bipoc\", \"mean-compound\": -0.01994506903353057}, {\"sex\": \"female\", \"age\": \"child\", \"ethnicity\": \"bipoc\", \"mean-compound\": 0.0017857001972386589}, {\"sex\": \"male\", \"age\": \"adult\", \"ethnicity\": \"bipoc\", \"mean-compound\": -0.01173372781065089}, {\"sex\": \"male\", \"age\": \"child\", \"ethnicity\": \"bipoc\", \"mean-compound\": -0.004904240631163708}, {\"sex\": \"female\", \"age\": \"adult\", \"ethnicity\": \"white\", \"mean-compound\": -0.00919457593688363}, {\"sex\": \"female\", \"age\": \"child\", \"ethnicity\": \"white\", \"mean-compound\": -0.011681065088757393}, {\"sex\": \"male\", \"age\": \"adult\", \"ethnicity\": \"white\", \"mean-compound\": -0.001452169625246548}, {\"sex\": \"male\", \"age\": \"child\", \"ethnicity\": \"white\", \"mean-compound\": -0.006883136094674557}, {\"sex\": \"female\", \"age\": \"adult\", \"ethnicity\": \"bipoc\", \"mean-compound\": -0.030022386587771205}, {\"sex\": \"female\", \"age\": \"child\", \"ethnicity\": \"bipoc\", \"mean-compound\": -0.0331129191321499}, {\"sex\": \"male\", \"age\": \"adult\", \"ethnicity\": \"bipoc\", \"mean-compound\": -0.03693727810650887}, {\"sex\": \"male\", \"age\": \"child\", \"ethnicity\": \"bipoc\", \"mean-compound\": -0.03637672583826431}, {\"sex\": \"female\", \"age\": \"adult\", \"ethnicity\": \"white\", \"mean-compound\": -0.030374556213017753}, {\"sex\": \"female\", \"age\": \"child\", \"ethnicity\": \"white\", \"mean-compound\": -0.031665088757396445}, {\"sex\": \"male\", \"age\": \"adult\", \"ethnicity\": \"white\", \"mean-compound\": -0.02114625246548323}, {\"sex\": \"male\", \"age\": \"child\", \"ethnicity\": \"white\", \"mean-compound\": -0.03477869822485208}, {\"sex\": \"female\", \"age\": \"adult\", \"ethnicity\": \"bipoc\", \"mean-compound\": 0.026019329388560157}, {\"sex\": \"female\", \"age\": \"child\", \"ethnicity\": \"bipoc\", \"mean-compound\": -0.006793885601577909}, {\"sex\": \"male\", \"age\": \"adult\", \"ethnicity\": \"bipoc\", \"mean-compound\": -0.01564615384615384}, {\"sex\": \"male\", \"age\": \"child\", \"ethnicity\": \"bipoc\", \"mean-compound\": 0.0016118343195266256}, {\"sex\": \"female\", \"age\": \"adult\", \"ethnicity\": \"white\", \"mean-compound\": 0.002460650887573965}, {\"sex\": \"female\", \"age\": \"child\", \"ethnicity\": \"white\", \"mean-compound\": -0.007056213017751479}, {\"sex\": \"male\", \"age\": \"adult\", \"ethnicity\": \"white\", \"mean-compound\": -0.00775207100591716}, {\"sex\": \"male\", \"age\": \"child\", \"ethnicity\": \"white\", \"mean-compound\": -0.0018582840236686395}, {\"sex\": \"female\", \"age\": \"adult\", \"ethnicity\": \"bipoc\", \"mean-compound\": 0.003134714003944773}, {\"sex\": \"female\", \"age\": \"child\", \"ethnicity\": \"bipoc\", \"mean-compound\": 0.0063704142011834315}, {\"sex\": \"male\", \"age\": \"adult\", \"ethnicity\": \"bipoc\", \"mean-compound\": 0.009494378698224854}, {\"sex\": \"male\", \"age\": \"child\", \"ethnicity\": \"bipoc\", \"mean-compound\": -0.015946055226824452}, {\"sex\": \"female\", \"age\": \"adult\", \"ethnicity\": \"white\", \"mean-compound\": -0.0030445759368836296}, {\"sex\": \"female\", \"age\": \"child\", \"ethnicity\": \"white\", \"mean-compound\": -0.0034034516765285984}, {\"sex\": \"male\", \"age\": \"adult\", \"ethnicity\": \"white\", \"mean-compound\": -0.011529684418145954}, {\"sex\": \"male\", \"age\": \"child\", \"ethnicity\": \"white\", \"mean-compound\": 0.01874230769230769}, {\"sex\": \"female\", \"age\": \"adult\", \"ethnicity\": \"bipoc\", \"mean-compound\": -0.015871005917159762}, {\"sex\": \"female\", \"age\": \"child\", \"ethnicity\": \"bipoc\", \"mean-compound\": -0.026360157790927013}, {\"sex\": \"male\", \"age\": \"adult\", \"ethnicity\": \"bipoc\", \"mean-compound\": -0.020779487179487174}, {\"sex\": \"male\", \"age\": \"child\", \"ethnicity\": \"bipoc\", \"mean-compound\": -0.02059644970414202}, {\"sex\": \"female\", \"age\": \"adult\", \"ethnicity\": \"white\", \"mean-compound\": -0.017448717948717943}, {\"sex\": \"female\", \"age\": \"child\", \"ethnicity\": \"white\", \"mean-compound\": -0.025974852071005916}, {\"sex\": \"male\", \"age\": \"adult\", \"ethnicity\": \"white\", \"mean-compound\": -0.008871005917159763}, {\"sex\": \"male\", \"age\": \"child\", \"ethnicity\": \"white\", \"mean-compound\": -0.022212031558185408}, {\"sex\": \"female\", \"age\": \"adult\", \"ethnicity\": \"bipoc\", \"mean-compound\": -0.022634615384615378}, {\"sex\": \"female\", \"age\": \"child\", \"ethnicity\": \"bipoc\", \"mean-compound\": 0.0015851084812623269}, {\"sex\": \"male\", \"age\": \"adult\", \"ethnicity\": \"bipoc\", \"mean-compound\": -0.02050009861932939}, {\"sex\": \"male\", \"age\": \"child\", \"ethnicity\": \"bipoc\", \"mean-compound\": -0.018198323471400397}, {\"sex\": \"female\", \"age\": \"adult\", \"ethnicity\": \"white\", \"mean-compound\": -0.002881360946745561}, {\"sex\": \"female\", \"age\": \"child\", \"ethnicity\": \"white\", \"mean-compound\": -0.015401084812623271}, {\"sex\": \"male\", \"age\": \"adult\", \"ethnicity\": \"white\", \"mean-compound\": -0.024409664694280072}, {\"sex\": \"male\", \"age\": \"child\", \"ethnicity\": \"white\", \"mean-compound\": -0.027749309664694275}, {\"sex\": \"female\", \"age\": \"adult\", \"ethnicity\": \"bipoc\", \"mean-compound\": -0.025605226824457598}, {\"sex\": \"female\", \"age\": \"child\", \"ethnicity\": \"bipoc\", \"mean-compound\": -0.00662938856015779}, {\"sex\": \"male\", \"age\": \"adult\", \"ethnicity\": \"bipoc\", \"mean-compound\": -0.022682445759368827}, {\"sex\": \"male\", \"age\": \"child\", \"ethnicity\": \"bipoc\", \"mean-compound\": -0.030157199211045368}, {\"sex\": \"female\", \"age\": \"adult\", \"ethnicity\": \"white\", \"mean-compound\": -0.02211429980276134}, {\"sex\": \"female\", \"age\": \"child\", \"ethnicity\": \"white\", \"mean-compound\": -0.007322287968441816}, {\"sex\": \"male\", \"age\": \"adult\", \"ethnicity\": \"white\", \"mean-compound\": -0.005232544378698225}, {\"sex\": \"male\", \"age\": \"child\", \"ethnicity\": \"white\", \"mean-compound\": -0.013336094674556213}, {\"sex\": \"female\", \"age\": \"adult\", \"ethnicity\": \"bipoc\", \"mean-compound\": 0.022737968441814596}, {\"sex\": \"female\", \"age\": \"child\", \"ethnicity\": \"bipoc\", \"mean-compound\": 0.016025443786982247}, {\"sex\": \"male\", \"age\": \"adult\", \"ethnicity\": \"bipoc\", \"mean-compound\": 0.023601873767258384}, {\"sex\": \"male\", \"age\": \"child\", \"ethnicity\": \"bipoc\", \"mean-compound\": 0.03115236686390533}, {\"sex\": \"female\", \"age\": \"adult\", \"ethnicity\": \"white\", \"mean-compound\": 0.025416666666666667}, {\"sex\": \"female\", \"age\": \"child\", \"ethnicity\": \"white\", \"mean-compound\": 0.02829526627218935}, {\"sex\": \"male\", \"age\": \"adult\", \"ethnicity\": \"white\", \"mean-compound\": 0.02915039447731756}, {\"sex\": \"male\", \"age\": \"child\", \"ethnicity\": \"white\", \"mean-compound\": 0.025416173570019726}, {\"sex\": \"female\", \"age\": \"adult\", \"ethnicity\": \"bipoc\", \"mean-compound\": -0.0007160749506903354}, {\"sex\": \"female\", \"age\": \"child\", \"ethnicity\": \"bipoc\", \"mean-compound\": 0.009143491124260354}, {\"sex\": \"male\", \"age\": \"adult\", \"ethnicity\": \"bipoc\", \"mean-compound\": -0.011885009861932938}, {\"sex\": \"male\", \"age\": \"child\", \"ethnicity\": \"bipoc\", \"mean-compound\": -0.0046637080867850105}, {\"sex\": \"female\", \"age\": \"adult\", \"ethnicity\": \"white\", \"mean-compound\": 0.010230078895463509}, {\"sex\": \"female\", \"age\": \"child\", \"ethnicity\": \"white\", \"mean-compound\": 0.002078205128205128}, {\"sex\": \"male\", \"age\": \"adult\", \"ethnicity\": \"white\", \"mean-compound\": -0.0001225838264299807}, {\"sex\": \"male\", \"age\": \"child\", \"ethnicity\": \"white\", \"mean-compound\": -0.004396153846153847}, {\"sex\": \"female\", \"age\": \"adult\", \"ethnicity\": \"bipoc\", \"mean-compound\": -0.024257790927021697}, {\"sex\": \"female\", \"age\": \"child\", \"ethnicity\": \"bipoc\", \"mean-compound\": -0.01885917159763314}, {\"sex\": \"male\", \"age\": \"adult\", \"ethnicity\": \"bipoc\", \"mean-compound\": -0.03530562130177514}, {\"sex\": \"male\", \"age\": \"child\", \"ethnicity\": \"bipoc\", \"mean-compound\": -0.016960848126232744}, {\"sex\": \"female\", \"age\": \"adult\", \"ethnicity\": \"white\", \"mean-compound\": -0.02965226824457593}, {\"sex\": \"female\", \"age\": \"child\", \"ethnicity\": \"white\", \"mean-compound\": -0.018451183431952668}, {\"sex\": \"male\", \"age\": \"adult\", \"ethnicity\": \"white\", \"mean-compound\": -0.012365976331360945}, {\"sex\": \"male\", \"age\": \"child\", \"ethnicity\": \"white\", \"mean-compound\": -0.031171893491124265}, {\"sex\": \"female\", \"age\": \"adult\", \"ethnicity\": \"bipoc\", \"mean-compound\": -0.0008040433925049305}, {\"sex\": \"female\", \"age\": \"child\", \"ethnicity\": \"bipoc\", \"mean-compound\": 0.02692041420118343}, {\"sex\": \"male\", \"age\": \"adult\", \"ethnicity\": \"bipoc\", \"mean-compound\": -0.005781262327416174}, {\"sex\": \"male\", \"age\": \"child\", \"ethnicity\": \"bipoc\", \"mean-compound\": -0.004176725838264299}, {\"sex\": \"female\", \"age\": \"adult\", \"ethnicity\": \"white\", \"mean-compound\": 0.0023239644970414206}, {\"sex\": \"female\", \"age\": \"child\", \"ethnicity\": \"white\", \"mean-compound\": 0.011880473372781069}, {\"sex\": \"male\", \"age\": \"adult\", \"ethnicity\": \"white\", \"mean-compound\": -0.001450788954635108}, {\"sex\": \"male\", \"age\": \"child\", \"ethnicity\": \"white\", \"mean-compound\": -0.008830374753451676}, {\"sex\": \"female\", \"age\": \"adult\", \"ethnicity\": \"bipoc\", \"mean-compound\": 0.015191222879684418}, {\"sex\": \"female\", \"age\": \"child\", \"ethnicity\": \"bipoc\", \"mean-compound\": 0.028268639053254437}, {\"sex\": \"male\", \"age\": \"adult\", \"ethnicity\": \"bipoc\", \"mean-compound\": -0.012468540433925047}, {\"sex\": \"male\", \"age\": \"child\", \"ethnicity\": \"bipoc\", \"mean-compound\": -0.010073076923076919}, {\"sex\": \"female\", \"age\": \"adult\", \"ethnicity\": \"white\", \"mean-compound\": -0.01330335305719921}, {\"sex\": \"female\", \"age\": \"child\", \"ethnicity\": \"white\", \"mean-compound\": -0.0087025641025641}, {\"sex\": \"male\", \"age\": \"adult\", \"ethnicity\": \"white\", \"mean-compound\": -0.006714201183431954}, {\"sex\": \"male\", \"age\": \"child\", \"ethnicity\": \"white\", \"mean-compound\": -0.0026187376725838258}]}}, {\"mode\": \"vega-lite\"});\n",
       "</script>"
      ],
      "text/plain": [
       "alt.Chart(...)"
      ]
     },
     "execution_count": 231,
     "metadata": {},
     "output_type": "execute_result"
    }
   ],
   "source": [
    "hist_free_all = alt.Chart(reg_free).mark_bar().encode(\n",
    "    alt.X('mean-compound:Q',bin=alt.Bin(maxbins=30)),\n",
    "    y='count()')\n",
    "hist_free_all"
   ]
  },
  {
   "cell_type": "markdown",
   "id": "3b5e0981-dc79-4413-bdcc-a45751d465f5",
   "metadata": {},
   "source": [
    "### Sex"
   ]
  },
  {
   "cell_type": "code",
   "execution_count": 232,
   "id": "12120833-17b0-4361-a7d6-5f5894488bc1",
   "metadata": {},
   "outputs": [],
   "source": [
    "# source = reg_free[reg_free['sex']=='female']\n",
    "# hist_free_female = alt.Chart(source).mark_bar().encode(\n",
    "#     alt.X('mean-compound:Q',bin=alt.Bin(maxbins=30)),\n",
    "#     y='count()')\n",
    "# source = reg_free[reg_free['sex']=='male']\n",
    "# hist_free_male = alt.Chart(source).mark_bar().encode(\n",
    "#     alt.X('mean-compound:Q',bin=alt.Bin(maxbins=30)),\n",
    "#     y='count()')"
   ]
  },
  {
   "cell_type": "code",
   "execution_count": 235,
   "id": "de1b23fc-898e-43a4-9869-a76b5fef4e93",
   "metadata": {},
   "outputs": [
    {
     "data": {
      "text/html": [
       "\n",
       "<div id=\"altair-viz-106cb84818d0482085d6b6d79753478a\"></div>\n",
       "<script type=\"text/javascript\">\n",
       "  (function(spec, embedOpt){\n",
       "    let outputDiv = document.currentScript.previousElementSibling;\n",
       "    if (outputDiv.id !== \"altair-viz-106cb84818d0482085d6b6d79753478a\") {\n",
       "      outputDiv = document.getElementById(\"altair-viz-106cb84818d0482085d6b6d79753478a\");\n",
       "    }\n",
       "    const paths = {\n",
       "      \"vega\": \"https://cdn.jsdelivr.net/npm//vega@5?noext\",\n",
       "      \"vega-lib\": \"https://cdn.jsdelivr.net/npm//vega-lib?noext\",\n",
       "      \"vega-lite\": \"https://cdn.jsdelivr.net/npm//vega-lite@4.8.1?noext\",\n",
       "      \"vega-embed\": \"https://cdn.jsdelivr.net/npm//vega-embed@6?noext\",\n",
       "    };\n",
       "\n",
       "    function loadScript(lib) {\n",
       "      return new Promise(function(resolve, reject) {\n",
       "        var s = document.createElement('script');\n",
       "        s.src = paths[lib];\n",
       "        s.async = true;\n",
       "        s.onload = () => resolve(paths[lib]);\n",
       "        s.onerror = () => reject(`Error loading script: ${paths[lib]}`);\n",
       "        document.getElementsByTagName(\"head\")[0].appendChild(s);\n",
       "      });\n",
       "    }\n",
       "\n",
       "    function showError(err) {\n",
       "      outputDiv.innerHTML = `<div class=\"error\" style=\"color:red;\">${err}</div>`;\n",
       "      throw err;\n",
       "    }\n",
       "\n",
       "    function displayChart(vegaEmbed) {\n",
       "      vegaEmbed(outputDiv, spec, embedOpt)\n",
       "        .catch(err => showError(`Javascript Error: ${err.message}<br>This usually means there's a typo in your chart specification. See the javascript console for the full traceback.`));\n",
       "    }\n",
       "\n",
       "    if(typeof define === \"function\" && define.amd) {\n",
       "      requirejs.config({paths});\n",
       "      require([\"vega-embed\"], displayChart, err => showError(`Error loading script: ${err.message}`));\n",
       "    } else if (typeof vegaEmbed === \"function\") {\n",
       "      displayChart(vegaEmbed);\n",
       "    } else {\n",
       "      loadScript(\"vega\")\n",
       "        .then(() => loadScript(\"vega-lite\"))\n",
       "        .then(() => loadScript(\"vega-embed\"))\n",
       "        .catch(showError)\n",
       "        .then(() => displayChart(vegaEmbed));\n",
       "    }\n",
       "  })({\"config\": {\"view\": {\"continuousWidth\": 400, \"continuousHeight\": 300}}, \"data\": {\"name\": \"data-d97987b2c58b310d0a50664131c91f89\"}, \"mark\": {\"type\": \"area\", \"interpolate\": \"step\", \"opacity\": 0.5}, \"encoding\": {\"color\": {\"type\": \"nominal\", \"field\": \"sex\"}, \"x\": {\"type\": \"quantitative\", \"bin\": {\"maxbins\": 30}, \"field\": \"mean-compound\"}, \"y\": {\"type\": \"quantitative\", \"aggregate\": \"count\", \"stack\": null}}, \"$schema\": \"https://vega.github.io/schema/vega-lite/v4.8.1.json\", \"datasets\": {\"data-d97987b2c58b310d0a50664131c91f89\": [{\"sex\": \"female\", \"age\": \"adult\", \"ethnicity\": \"bipoc\", \"mean-compound\": -0.008747633136094673}, {\"sex\": \"female\", \"age\": \"child\", \"ethnicity\": \"bipoc\", \"mean-compound\": -0.02549072978303747}, {\"sex\": \"male\", \"age\": \"adult\", \"ethnicity\": \"bipoc\", \"mean-compound\": -0.0313008875739645}, {\"sex\": \"male\", \"age\": \"child\", \"ethnicity\": \"bipoc\", \"mean-compound\": -0.02001952662721893}, {\"sex\": \"female\", \"age\": \"adult\", \"ethnicity\": \"white\", \"mean-compound\": -0.018724753451676523}, {\"sex\": \"female\", \"age\": \"child\", \"ethnicity\": \"white\", \"mean-compound\": -0.033768934911242596}, {\"sex\": \"male\", \"age\": \"adult\", \"ethnicity\": \"white\", \"mean-compound\": -0.016314595660749505}, {\"sex\": \"male\", \"age\": \"child\", \"ethnicity\": \"white\", \"mean-compound\": -0.0016985207100591719}, {\"sex\": \"female\", \"age\": \"adult\", \"ethnicity\": \"bipoc\", \"mean-compound\": -0.016403846153846147}, {\"sex\": \"female\", \"age\": \"child\", \"ethnicity\": \"bipoc\", \"mean-compound\": -0.016130473372781066}, {\"sex\": \"male\", \"age\": \"adult\", \"ethnicity\": \"bipoc\", \"mean-compound\": -0.029880571992110454}, {\"sex\": \"male\", \"age\": \"child\", \"ethnicity\": \"bipoc\", \"mean-compound\": -0.012775345167652863}, {\"sex\": \"female\", \"age\": \"adult\", \"ethnicity\": \"white\", \"mean-compound\": -0.028577317554240624}, {\"sex\": \"female\", \"age\": \"child\", \"ethnicity\": \"white\", \"mean-compound\": 0.012955917159763311}, {\"sex\": \"male\", \"age\": \"adult\", \"ethnicity\": \"white\", \"mean-compound\": -0.022757692307692305}, {\"sex\": \"male\", \"age\": \"child\", \"ethnicity\": \"white\", \"mean-compound\": -0.009934023668639054}, {\"sex\": \"female\", \"age\": \"adult\", \"ethnicity\": \"bipoc\", \"mean-compound\": -0.026855818540433927}, {\"sex\": \"female\", \"age\": \"child\", \"ethnicity\": \"bipoc\", \"mean-compound\": -0.01324230769230769}, {\"sex\": \"male\", \"age\": \"adult\", \"ethnicity\": \"bipoc\", \"mean-compound\": -0.024313313609467455}, {\"sex\": \"male\", \"age\": \"child\", \"ethnicity\": \"bipoc\", \"mean-compound\": 0.0010004930966469427}, {\"sex\": \"female\", \"age\": \"adult\", \"ethnicity\": \"white\", \"mean-compound\": 0.0020549309664694283}, {\"sex\": \"female\", \"age\": \"child\", \"ethnicity\": \"white\", \"mean-compound\": -0.035551282051282045}, {\"sex\": \"male\", \"age\": \"adult\", \"ethnicity\": \"white\", \"mean-compound\": -0.013323372781065086}, {\"sex\": \"male\", \"age\": \"child\", \"ethnicity\": \"white\", \"mean-compound\": 0.01319921104536489}, {\"sex\": \"female\", \"age\": \"adult\", \"ethnicity\": \"bipoc\", \"mean-compound\": 0.015753155818540438}, {\"sex\": \"female\", \"age\": \"child\", \"ethnicity\": \"bipoc\", \"mean-compound\": 0.03557189349112425}, {\"sex\": \"male\", \"age\": \"adult\", \"ethnicity\": \"bipoc\", \"mean-compound\": 0.022919625246548326}, {\"sex\": \"male\", \"age\": \"child\", \"ethnicity\": \"bipoc\", \"mean-compound\": 0.03870502958579881}, {\"sex\": \"female\", \"age\": \"adult\", \"ethnicity\": \"white\", \"mean-compound\": 0.023200098619329385}, {\"sex\": \"female\", \"age\": \"child\", \"ethnicity\": \"white\", \"mean-compound\": 0.028451775147928994}, {\"sex\": \"male\", \"age\": \"adult\", \"ethnicity\": \"white\", \"mean-compound\": 0.03301124260355028}, {\"sex\": \"male\", \"age\": \"child\", \"ethnicity\": \"white\", \"mean-compound\": 0.03450739644970414}, {\"sex\": \"female\", \"age\": \"adult\", \"ethnicity\": \"bipoc\", \"mean-compound\": -0.010173471400394473}, {\"sex\": \"female\", \"age\": \"child\", \"ethnicity\": \"bipoc\", \"mean-compound\": 0.017706607495069037}, {\"sex\": \"male\", \"age\": \"adult\", \"ethnicity\": \"bipoc\", \"mean-compound\": -0.014393589743589742}, {\"sex\": \"male\", \"age\": \"child\", \"ethnicity\": \"bipoc\", \"mean-compound\": -0.002962130177514793}, {\"sex\": \"female\", \"age\": \"adult\", \"ethnicity\": \"white\", \"mean-compound\": -0.014680670611439841}, {\"sex\": \"female\", \"age\": \"child\", \"ethnicity\": \"white\", \"mean-compound\": -0.00891597633136095}, {\"sex\": \"male\", \"age\": \"adult\", \"ethnicity\": \"white\", \"mean-compound\": -0.010829191321499013}, {\"sex\": \"male\", \"age\": \"child\", \"ethnicity\": \"white\", \"mean-compound\": 0.0007467455621301772}, {\"sex\": \"female\", \"age\": \"adult\", \"ethnicity\": \"bipoc\", \"mean-compound\": -0.030966173570019722}, {\"sex\": \"female\", \"age\": \"child\", \"ethnicity\": \"bipoc\", \"mean-compound\": -0.03799102564102562}, {\"sex\": \"male\", \"age\": \"adult\", \"ethnicity\": \"bipoc\", \"mean-compound\": -0.034220019723865874}, {\"sex\": \"male\", \"age\": \"child\", \"ethnicity\": \"bipoc\", \"mean-compound\": -0.0355275147928994}, {\"sex\": \"female\", \"age\": \"adult\", \"ethnicity\": \"white\", \"mean-compound\": -0.03639408284023669}, {\"sex\": \"female\", \"age\": \"child\", \"ethnicity\": \"white\", \"mean-compound\": -0.03330897435897436}, {\"sex\": \"male\", \"age\": \"adult\", \"ethnicity\": \"white\", \"mean-compound\": -0.013067455621301774}, {\"sex\": \"male\", \"age\": \"child\", \"ethnicity\": \"white\", \"mean-compound\": -0.034722682445759365}, {\"sex\": \"female\", \"age\": \"adult\", \"ethnicity\": \"bipoc\", \"mean-compound\": 0.009444378698224853}, {\"sex\": \"female\", \"age\": \"child\", \"ethnicity\": \"bipoc\", \"mean-compound\": 0.005420710059171599}, {\"sex\": \"male\", \"age\": \"adult\", \"ethnicity\": \"bipoc\", \"mean-compound\": -0.0027621301775147926}, {\"sex\": \"male\", \"age\": \"child\", \"ethnicity\": \"bipoc\", \"mean-compound\": 0.023407396449704142}, {\"sex\": \"female\", \"age\": \"adult\", \"ethnicity\": \"white\", \"mean-compound\": 0.004577810650887575}, {\"sex\": \"female\", \"age\": \"child\", \"ethnicity\": \"white\", \"mean-compound\": 0.007907199211045364}, {\"sex\": \"male\", \"age\": \"adult\", \"ethnicity\": \"white\", \"mean-compound\": -0.003976232741617356}, {\"sex\": \"male\", \"age\": \"child\", \"ethnicity\": \"white\", \"mean-compound\": 0.0052857001972386585}, {\"sex\": \"female\", \"age\": \"adult\", \"ethnicity\": \"bipoc\", \"mean-compound\": 0.013749802761341225}, {\"sex\": \"female\", \"age\": \"child\", \"ethnicity\": \"bipoc\", \"mean-compound\": -0.011958974358974354}, {\"sex\": \"male\", \"age\": \"adult\", \"ethnicity\": \"bipoc\", \"mean-compound\": 0.007219822485207102}, {\"sex\": \"male\", \"age\": \"child\", \"ethnicity\": \"bipoc\", \"mean-compound\": -0.0007533530571992109}, {\"sex\": \"female\", \"age\": \"adult\", \"ethnicity\": \"white\", \"mean-compound\": -0.010753944773175542}, {\"sex\": \"female\", \"age\": \"child\", \"ethnicity\": \"white\", \"mean-compound\": -0.01621134122287969}, {\"sex\": \"male\", \"age\": \"adult\", \"ethnicity\": \"white\", \"mean-compound\": -0.003942800788954635}, {\"sex\": \"male\", \"age\": \"child\", \"ethnicity\": \"white\", \"mean-compound\": -0.0046469428007889545}, {\"sex\": \"female\", \"age\": \"adult\", \"ethnicity\": \"bipoc\", \"mean-compound\": -0.03275522682445759}, {\"sex\": \"female\", \"age\": \"child\", \"ethnicity\": \"bipoc\", \"mean-compound\": -0.02264822485207101}, {\"sex\": \"male\", \"age\": \"adult\", \"ethnicity\": \"bipoc\", \"mean-compound\": -0.015204043392504928}, {\"sex\": \"male\", \"age\": \"child\", \"ethnicity\": \"bipoc\", \"mean-compound\": -0.031069625246548327}, {\"sex\": \"female\", \"age\": \"adult\", \"ethnicity\": \"white\", \"mean-compound\": -0.023245562130177515}, {\"sex\": \"female\", \"age\": \"child\", \"ethnicity\": \"white\", \"mean-compound\": -0.018528895463510844}, {\"sex\": \"male\", \"age\": \"adult\", \"ethnicity\": \"white\", \"mean-compound\": -0.029643491124260356}, {\"sex\": \"male\", \"age\": \"child\", \"ethnicity\": \"white\", \"mean-compound\": -0.02722524654832348}, {\"sex\": \"female\", \"age\": \"adult\", \"ethnicity\": \"bipoc\", \"mean-compound\": -0.021694773175542404}, {\"sex\": \"female\", \"age\": \"child\", \"ethnicity\": \"bipoc\", \"mean-compound\": -0.018174753451676535}, {\"sex\": \"male\", \"age\": \"adult\", \"ethnicity\": \"bipoc\", \"mean-compound\": -0.023599704142011832}, {\"sex\": \"male\", \"age\": \"child\", \"ethnicity\": \"bipoc\", \"mean-compound\": -0.03311005917159763}, {\"sex\": \"female\", \"age\": \"adult\", \"ethnicity\": \"white\", \"mean-compound\": -0.01891725838264299}, {\"sex\": \"female\", \"age\": \"child\", \"ethnicity\": \"white\", \"mean-compound\": -0.005935798816568048}, {\"sex\": \"male\", \"age\": \"adult\", \"ethnicity\": \"white\", \"mean-compound\": -0.028822879684418143}, {\"sex\": \"male\", \"age\": \"child\", \"ethnicity\": \"white\", \"mean-compound\": -0.025326331360946752}, {\"sex\": \"female\", \"age\": \"adult\", \"ethnicity\": \"bipoc\", \"mean-compound\": -0.025413116370808682}, {\"sex\": \"female\", \"age\": \"child\", \"ethnicity\": \"bipoc\", \"mean-compound\": -0.03544270216962525}, {\"sex\": \"male\", \"age\": \"adult\", \"ethnicity\": \"bipoc\", \"mean-compound\": -0.017075147928994082}, {\"sex\": \"male\", \"age\": \"child\", \"ethnicity\": \"bipoc\", \"mean-compound\": -0.014854142011834314}, {\"sex\": \"female\", \"age\": \"adult\", \"ethnicity\": \"white\", \"mean-compound\": 0.0018651873767258384}, {\"sex\": \"female\", \"age\": \"child\", \"ethnicity\": \"white\", \"mean-compound\": -0.000674950690335306}, {\"sex\": \"male\", \"age\": \"adult\", \"ethnicity\": \"white\", \"mean-compound\": -0.018303550295857982}, {\"sex\": \"male\", \"age\": \"child\", \"ethnicity\": \"white\", \"mean-compound\": -0.025246548323471403}, {\"sex\": \"female\", \"age\": \"adult\", \"ethnicity\": \"bipoc\", \"mean-compound\": 0.027084812623274168}, {\"sex\": \"female\", \"age\": \"child\", \"ethnicity\": \"bipoc\", \"mean-compound\": 0.025308579881656804}, {\"sex\": \"male\", \"age\": \"adult\", \"ethnicity\": \"bipoc\", \"mean-compound\": 0.02874940828402367}, {\"sex\": \"male\", \"age\": \"child\", \"ethnicity\": \"bipoc\", \"mean-compound\": 0.02463510848126233}, {\"sex\": \"female\", \"age\": \"adult\", \"ethnicity\": \"white\", \"mean-compound\": 0.017706213017751483}, {\"sex\": \"female\", \"age\": \"child\", \"ethnicity\": \"white\", \"mean-compound\": 0.022994773175542403}, {\"sex\": \"male\", \"age\": \"adult\", \"ethnicity\": \"white\", \"mean-compound\": 0.026115483234714004}, {\"sex\": \"male\", \"age\": \"child\", \"ethnicity\": \"white\", \"mean-compound\": 0.029344082840236686}, {\"sex\": \"female\", \"age\": \"adult\", \"ethnicity\": \"bipoc\", \"mean-compound\": -0.01994506903353057}, {\"sex\": \"female\", \"age\": \"child\", \"ethnicity\": \"bipoc\", \"mean-compound\": 0.0017857001972386589}, {\"sex\": \"male\", \"age\": \"adult\", \"ethnicity\": \"bipoc\", \"mean-compound\": -0.01173372781065089}, {\"sex\": \"male\", \"age\": \"child\", \"ethnicity\": \"bipoc\", \"mean-compound\": -0.004904240631163708}, {\"sex\": \"female\", \"age\": \"adult\", \"ethnicity\": \"white\", \"mean-compound\": -0.00919457593688363}, {\"sex\": \"female\", \"age\": \"child\", \"ethnicity\": \"white\", \"mean-compound\": -0.011681065088757393}, {\"sex\": \"male\", \"age\": \"adult\", \"ethnicity\": \"white\", \"mean-compound\": -0.001452169625246548}, {\"sex\": \"male\", \"age\": \"child\", \"ethnicity\": \"white\", \"mean-compound\": -0.006883136094674557}, {\"sex\": \"female\", \"age\": \"adult\", \"ethnicity\": \"bipoc\", \"mean-compound\": -0.030022386587771205}, {\"sex\": \"female\", \"age\": \"child\", \"ethnicity\": \"bipoc\", \"mean-compound\": -0.0331129191321499}, {\"sex\": \"male\", \"age\": \"adult\", \"ethnicity\": \"bipoc\", \"mean-compound\": -0.03693727810650887}, {\"sex\": \"male\", \"age\": \"child\", \"ethnicity\": \"bipoc\", \"mean-compound\": -0.03637672583826431}, {\"sex\": \"female\", \"age\": \"adult\", \"ethnicity\": \"white\", \"mean-compound\": -0.030374556213017753}, {\"sex\": \"female\", \"age\": \"child\", \"ethnicity\": \"white\", \"mean-compound\": -0.031665088757396445}, {\"sex\": \"male\", \"age\": \"adult\", \"ethnicity\": \"white\", \"mean-compound\": -0.02114625246548323}, {\"sex\": \"male\", \"age\": \"child\", \"ethnicity\": \"white\", \"mean-compound\": -0.03477869822485208}, {\"sex\": \"female\", \"age\": \"adult\", \"ethnicity\": \"bipoc\", \"mean-compound\": 0.026019329388560157}, {\"sex\": \"female\", \"age\": \"child\", \"ethnicity\": \"bipoc\", \"mean-compound\": -0.006793885601577909}, {\"sex\": \"male\", \"age\": \"adult\", \"ethnicity\": \"bipoc\", \"mean-compound\": -0.01564615384615384}, {\"sex\": \"male\", \"age\": \"child\", \"ethnicity\": \"bipoc\", \"mean-compound\": 0.0016118343195266256}, {\"sex\": \"female\", \"age\": \"adult\", \"ethnicity\": \"white\", \"mean-compound\": 0.002460650887573965}, {\"sex\": \"female\", \"age\": \"child\", \"ethnicity\": \"white\", \"mean-compound\": -0.007056213017751479}, {\"sex\": \"male\", \"age\": \"adult\", \"ethnicity\": \"white\", \"mean-compound\": -0.00775207100591716}, {\"sex\": \"male\", \"age\": \"child\", \"ethnicity\": \"white\", \"mean-compound\": -0.0018582840236686395}, {\"sex\": \"female\", \"age\": \"adult\", \"ethnicity\": \"bipoc\", \"mean-compound\": 0.003134714003944773}, {\"sex\": \"female\", \"age\": \"child\", \"ethnicity\": \"bipoc\", \"mean-compound\": 0.0063704142011834315}, {\"sex\": \"male\", \"age\": \"adult\", \"ethnicity\": \"bipoc\", \"mean-compound\": 0.009494378698224854}, {\"sex\": \"male\", \"age\": \"child\", \"ethnicity\": \"bipoc\", \"mean-compound\": -0.015946055226824452}, {\"sex\": \"female\", \"age\": \"adult\", \"ethnicity\": \"white\", \"mean-compound\": -0.0030445759368836296}, {\"sex\": \"female\", \"age\": \"child\", \"ethnicity\": \"white\", \"mean-compound\": -0.0034034516765285984}, {\"sex\": \"male\", \"age\": \"adult\", \"ethnicity\": \"white\", \"mean-compound\": -0.011529684418145954}, {\"sex\": \"male\", \"age\": \"child\", \"ethnicity\": \"white\", \"mean-compound\": 0.01874230769230769}, {\"sex\": \"female\", \"age\": \"adult\", \"ethnicity\": \"bipoc\", \"mean-compound\": -0.015871005917159762}, {\"sex\": \"female\", \"age\": \"child\", \"ethnicity\": \"bipoc\", \"mean-compound\": -0.026360157790927013}, {\"sex\": \"male\", \"age\": \"adult\", \"ethnicity\": \"bipoc\", \"mean-compound\": -0.020779487179487174}, {\"sex\": \"male\", \"age\": \"child\", \"ethnicity\": \"bipoc\", \"mean-compound\": -0.02059644970414202}, {\"sex\": \"female\", \"age\": \"adult\", \"ethnicity\": \"white\", \"mean-compound\": -0.017448717948717943}, {\"sex\": \"female\", \"age\": \"child\", \"ethnicity\": \"white\", \"mean-compound\": -0.025974852071005916}, {\"sex\": \"male\", \"age\": \"adult\", \"ethnicity\": \"white\", \"mean-compound\": -0.008871005917159763}, {\"sex\": \"male\", \"age\": \"child\", \"ethnicity\": \"white\", \"mean-compound\": -0.022212031558185408}, {\"sex\": \"female\", \"age\": \"adult\", \"ethnicity\": \"bipoc\", \"mean-compound\": -0.022634615384615378}, {\"sex\": \"female\", \"age\": \"child\", \"ethnicity\": \"bipoc\", \"mean-compound\": 0.0015851084812623269}, {\"sex\": \"male\", \"age\": \"adult\", \"ethnicity\": \"bipoc\", \"mean-compound\": -0.02050009861932939}, {\"sex\": \"male\", \"age\": \"child\", \"ethnicity\": \"bipoc\", \"mean-compound\": -0.018198323471400397}, {\"sex\": \"female\", \"age\": \"adult\", \"ethnicity\": \"white\", \"mean-compound\": -0.002881360946745561}, {\"sex\": \"female\", \"age\": \"child\", \"ethnicity\": \"white\", \"mean-compound\": -0.015401084812623271}, {\"sex\": \"male\", \"age\": \"adult\", \"ethnicity\": \"white\", \"mean-compound\": -0.024409664694280072}, {\"sex\": \"male\", \"age\": \"child\", \"ethnicity\": \"white\", \"mean-compound\": -0.027749309664694275}, {\"sex\": \"female\", \"age\": \"adult\", \"ethnicity\": \"bipoc\", \"mean-compound\": -0.025605226824457598}, {\"sex\": \"female\", \"age\": \"child\", \"ethnicity\": \"bipoc\", \"mean-compound\": -0.00662938856015779}, {\"sex\": \"male\", \"age\": \"adult\", \"ethnicity\": \"bipoc\", \"mean-compound\": -0.022682445759368827}, {\"sex\": \"male\", \"age\": \"child\", \"ethnicity\": \"bipoc\", \"mean-compound\": -0.030157199211045368}, {\"sex\": \"female\", \"age\": \"adult\", \"ethnicity\": \"white\", \"mean-compound\": -0.02211429980276134}, {\"sex\": \"female\", \"age\": \"child\", \"ethnicity\": \"white\", \"mean-compound\": -0.007322287968441816}, {\"sex\": \"male\", \"age\": \"adult\", \"ethnicity\": \"white\", \"mean-compound\": -0.005232544378698225}, {\"sex\": \"male\", \"age\": \"child\", \"ethnicity\": \"white\", \"mean-compound\": -0.013336094674556213}, {\"sex\": \"female\", \"age\": \"adult\", \"ethnicity\": \"bipoc\", \"mean-compound\": 0.022737968441814596}, {\"sex\": \"female\", \"age\": \"child\", \"ethnicity\": \"bipoc\", \"mean-compound\": 0.016025443786982247}, {\"sex\": \"male\", \"age\": \"adult\", \"ethnicity\": \"bipoc\", \"mean-compound\": 0.023601873767258384}, {\"sex\": \"male\", \"age\": \"child\", \"ethnicity\": \"bipoc\", \"mean-compound\": 0.03115236686390533}, {\"sex\": \"female\", \"age\": \"adult\", \"ethnicity\": \"white\", \"mean-compound\": 0.025416666666666667}, {\"sex\": \"female\", \"age\": \"child\", \"ethnicity\": \"white\", \"mean-compound\": 0.02829526627218935}, {\"sex\": \"male\", \"age\": \"adult\", \"ethnicity\": \"white\", \"mean-compound\": 0.02915039447731756}, {\"sex\": \"male\", \"age\": \"child\", \"ethnicity\": \"white\", \"mean-compound\": 0.025416173570019726}, {\"sex\": \"female\", \"age\": \"adult\", \"ethnicity\": \"bipoc\", \"mean-compound\": -0.0007160749506903354}, {\"sex\": \"female\", \"age\": \"child\", \"ethnicity\": \"bipoc\", \"mean-compound\": 0.009143491124260354}, {\"sex\": \"male\", \"age\": \"adult\", \"ethnicity\": \"bipoc\", \"mean-compound\": -0.011885009861932938}, {\"sex\": \"male\", \"age\": \"child\", \"ethnicity\": \"bipoc\", \"mean-compound\": -0.0046637080867850105}, {\"sex\": \"female\", \"age\": \"adult\", \"ethnicity\": \"white\", \"mean-compound\": 0.010230078895463509}, {\"sex\": \"female\", \"age\": \"child\", \"ethnicity\": \"white\", \"mean-compound\": 0.002078205128205128}, {\"sex\": \"male\", \"age\": \"adult\", \"ethnicity\": \"white\", \"mean-compound\": -0.0001225838264299807}, {\"sex\": \"male\", \"age\": \"child\", \"ethnicity\": \"white\", \"mean-compound\": -0.004396153846153847}, {\"sex\": \"female\", \"age\": \"adult\", \"ethnicity\": \"bipoc\", \"mean-compound\": -0.024257790927021697}, {\"sex\": \"female\", \"age\": \"child\", \"ethnicity\": \"bipoc\", \"mean-compound\": -0.01885917159763314}, {\"sex\": \"male\", \"age\": \"adult\", \"ethnicity\": \"bipoc\", \"mean-compound\": -0.03530562130177514}, {\"sex\": \"male\", \"age\": \"child\", \"ethnicity\": \"bipoc\", \"mean-compound\": -0.016960848126232744}, {\"sex\": \"female\", \"age\": \"adult\", \"ethnicity\": \"white\", \"mean-compound\": -0.02965226824457593}, {\"sex\": \"female\", \"age\": \"child\", \"ethnicity\": \"white\", \"mean-compound\": -0.018451183431952668}, {\"sex\": \"male\", \"age\": \"adult\", \"ethnicity\": \"white\", \"mean-compound\": -0.012365976331360945}, {\"sex\": \"male\", \"age\": \"child\", \"ethnicity\": \"white\", \"mean-compound\": -0.031171893491124265}, {\"sex\": \"female\", \"age\": \"adult\", \"ethnicity\": \"bipoc\", \"mean-compound\": -0.0008040433925049305}, {\"sex\": \"female\", \"age\": \"child\", \"ethnicity\": \"bipoc\", \"mean-compound\": 0.02692041420118343}, {\"sex\": \"male\", \"age\": \"adult\", \"ethnicity\": \"bipoc\", \"mean-compound\": -0.005781262327416174}, {\"sex\": \"male\", \"age\": \"child\", \"ethnicity\": \"bipoc\", \"mean-compound\": -0.004176725838264299}, {\"sex\": \"female\", \"age\": \"adult\", \"ethnicity\": \"white\", \"mean-compound\": 0.0023239644970414206}, {\"sex\": \"female\", \"age\": \"child\", \"ethnicity\": \"white\", \"mean-compound\": 0.011880473372781069}, {\"sex\": \"male\", \"age\": \"adult\", \"ethnicity\": \"white\", \"mean-compound\": -0.001450788954635108}, {\"sex\": \"male\", \"age\": \"child\", \"ethnicity\": \"white\", \"mean-compound\": -0.008830374753451676}, {\"sex\": \"female\", \"age\": \"adult\", \"ethnicity\": \"bipoc\", \"mean-compound\": 0.015191222879684418}, {\"sex\": \"female\", \"age\": \"child\", \"ethnicity\": \"bipoc\", \"mean-compound\": 0.028268639053254437}, {\"sex\": \"male\", \"age\": \"adult\", \"ethnicity\": \"bipoc\", \"mean-compound\": -0.012468540433925047}, {\"sex\": \"male\", \"age\": \"child\", \"ethnicity\": \"bipoc\", \"mean-compound\": -0.010073076923076919}, {\"sex\": \"female\", \"age\": \"adult\", \"ethnicity\": \"white\", \"mean-compound\": -0.01330335305719921}, {\"sex\": \"female\", \"age\": \"child\", \"ethnicity\": \"white\", \"mean-compound\": -0.0087025641025641}, {\"sex\": \"male\", \"age\": \"adult\", \"ethnicity\": \"white\", \"mean-compound\": -0.006714201183431954}, {\"sex\": \"male\", \"age\": \"child\", \"ethnicity\": \"white\", \"mean-compound\": -0.0026187376725838258}]}}, {\"mode\": \"vega-lite\"});\n",
       "</script>"
      ],
      "text/plain": [
       "alt.Chart(...)"
      ]
     },
     "execution_count": 235,
     "metadata": {},
     "output_type": "execute_result"
    }
   ],
   "source": [
    "source = reg_free\n",
    "alt.Chart(source).mark_area(\n",
    "    opacity=0.5,\n",
    "    interpolate='step'\n",
    ").encode(\n",
    "    alt.X('mean-compound:Q', bin=alt.Bin(maxbins=30)),\n",
    "    alt.Y('count()',  stack=None),\n",
    "    alt.Color('sex'))"
   ]
  },
  {
   "cell_type": "markdown",
   "id": "3ebcdda2-5eb8-4bc2-b9f6-b937ba232f69",
   "metadata": {},
   "source": [
    "### Ethnicity"
   ]
  },
  {
   "cell_type": "code",
   "execution_count": 238,
   "id": "32c60154-8f77-4c94-ae48-9be27930a0be",
   "metadata": {},
   "outputs": [],
   "source": [
    "# source = reg_free[reg_free['ethnicity']=='bipoc']\n",
    "# hist_free_bipoc = alt.Chart(source).mark_bar().encode(\n",
    "#     alt.X('mean-compound:Q',bin=alt.Bin(maxbins=30)),\n",
    "#     y='count()')\n",
    "# source = reg_free[reg_free['ethnicity']=='white']\n",
    "# hist_free_white = alt.Chart(source).mark_bar().encode(\n",
    "#     alt.X('mean-compound:Q',bin=alt.Bin(maxbins=30)),\n",
    "#     y='count()')"
   ]
  },
  {
   "cell_type": "code",
   "execution_count": 240,
   "id": "4abf3c57-7775-4836-bab0-f09991f3e9ef",
   "metadata": {},
   "outputs": [
    {
     "data": {
      "text/html": [
       "\n",
       "<div id=\"altair-viz-afc1908cf7bf445998d2e04941ad1a55\"></div>\n",
       "<script type=\"text/javascript\">\n",
       "  (function(spec, embedOpt){\n",
       "    let outputDiv = document.currentScript.previousElementSibling;\n",
       "    if (outputDiv.id !== \"altair-viz-afc1908cf7bf445998d2e04941ad1a55\") {\n",
       "      outputDiv = document.getElementById(\"altair-viz-afc1908cf7bf445998d2e04941ad1a55\");\n",
       "    }\n",
       "    const paths = {\n",
       "      \"vega\": \"https://cdn.jsdelivr.net/npm//vega@5?noext\",\n",
       "      \"vega-lib\": \"https://cdn.jsdelivr.net/npm//vega-lib?noext\",\n",
       "      \"vega-lite\": \"https://cdn.jsdelivr.net/npm//vega-lite@4.8.1?noext\",\n",
       "      \"vega-embed\": \"https://cdn.jsdelivr.net/npm//vega-embed@6?noext\",\n",
       "    };\n",
       "\n",
       "    function loadScript(lib) {\n",
       "      return new Promise(function(resolve, reject) {\n",
       "        var s = document.createElement('script');\n",
       "        s.src = paths[lib];\n",
       "        s.async = true;\n",
       "        s.onload = () => resolve(paths[lib]);\n",
       "        s.onerror = () => reject(`Error loading script: ${paths[lib]}`);\n",
       "        document.getElementsByTagName(\"head\")[0].appendChild(s);\n",
       "      });\n",
       "    }\n",
       "\n",
       "    function showError(err) {\n",
       "      outputDiv.innerHTML = `<div class=\"error\" style=\"color:red;\">${err}</div>`;\n",
       "      throw err;\n",
       "    }\n",
       "\n",
       "    function displayChart(vegaEmbed) {\n",
       "      vegaEmbed(outputDiv, spec, embedOpt)\n",
       "        .catch(err => showError(`Javascript Error: ${err.message}<br>This usually means there's a typo in your chart specification. See the javascript console for the full traceback.`));\n",
       "    }\n",
       "\n",
       "    if(typeof define === \"function\" && define.amd) {\n",
       "      requirejs.config({paths});\n",
       "      require([\"vega-embed\"], displayChart, err => showError(`Error loading script: ${err.message}`));\n",
       "    } else if (typeof vegaEmbed === \"function\") {\n",
       "      displayChart(vegaEmbed);\n",
       "    } else {\n",
       "      loadScript(\"vega\")\n",
       "        .then(() => loadScript(\"vega-lite\"))\n",
       "        .then(() => loadScript(\"vega-embed\"))\n",
       "        .catch(showError)\n",
       "        .then(() => displayChart(vegaEmbed));\n",
       "    }\n",
       "  })({\"config\": {\"view\": {\"continuousWidth\": 400, \"continuousHeight\": 300}}, \"data\": {\"name\": \"data-d97987b2c58b310d0a50664131c91f89\"}, \"mark\": {\"type\": \"area\", \"interpolate\": \"step\", \"opacity\": 0.5}, \"encoding\": {\"color\": {\"type\": \"nominal\", \"field\": \"ethnicity\"}, \"x\": {\"type\": \"quantitative\", \"bin\": {\"maxbins\": 30}, \"field\": \"mean-compound\"}, \"y\": {\"type\": \"quantitative\", \"aggregate\": \"count\", \"stack\": null}}, \"$schema\": \"https://vega.github.io/schema/vega-lite/v4.8.1.json\", \"datasets\": {\"data-d97987b2c58b310d0a50664131c91f89\": [{\"sex\": \"female\", \"age\": \"adult\", \"ethnicity\": \"bipoc\", \"mean-compound\": -0.008747633136094673}, {\"sex\": \"female\", \"age\": \"child\", \"ethnicity\": \"bipoc\", \"mean-compound\": -0.02549072978303747}, {\"sex\": \"male\", \"age\": \"adult\", \"ethnicity\": \"bipoc\", \"mean-compound\": -0.0313008875739645}, {\"sex\": \"male\", \"age\": \"child\", \"ethnicity\": \"bipoc\", \"mean-compound\": -0.02001952662721893}, {\"sex\": \"female\", \"age\": \"adult\", \"ethnicity\": \"white\", \"mean-compound\": -0.018724753451676523}, {\"sex\": \"female\", \"age\": \"child\", \"ethnicity\": \"white\", \"mean-compound\": -0.033768934911242596}, {\"sex\": \"male\", \"age\": \"adult\", \"ethnicity\": \"white\", \"mean-compound\": -0.016314595660749505}, {\"sex\": \"male\", \"age\": \"child\", \"ethnicity\": \"white\", \"mean-compound\": -0.0016985207100591719}, {\"sex\": \"female\", \"age\": \"adult\", \"ethnicity\": \"bipoc\", \"mean-compound\": -0.016403846153846147}, {\"sex\": \"female\", \"age\": \"child\", \"ethnicity\": \"bipoc\", \"mean-compound\": -0.016130473372781066}, {\"sex\": \"male\", \"age\": \"adult\", \"ethnicity\": \"bipoc\", \"mean-compound\": -0.029880571992110454}, {\"sex\": \"male\", \"age\": \"child\", \"ethnicity\": \"bipoc\", \"mean-compound\": -0.012775345167652863}, {\"sex\": \"female\", \"age\": \"adult\", \"ethnicity\": \"white\", \"mean-compound\": -0.028577317554240624}, {\"sex\": \"female\", \"age\": \"child\", \"ethnicity\": \"white\", \"mean-compound\": 0.012955917159763311}, {\"sex\": \"male\", \"age\": \"adult\", \"ethnicity\": \"white\", \"mean-compound\": -0.022757692307692305}, {\"sex\": \"male\", \"age\": \"child\", \"ethnicity\": \"white\", \"mean-compound\": -0.009934023668639054}, {\"sex\": \"female\", \"age\": \"adult\", \"ethnicity\": \"bipoc\", \"mean-compound\": -0.026855818540433927}, {\"sex\": \"female\", \"age\": \"child\", \"ethnicity\": \"bipoc\", \"mean-compound\": -0.01324230769230769}, {\"sex\": \"male\", \"age\": \"adult\", \"ethnicity\": \"bipoc\", \"mean-compound\": -0.024313313609467455}, {\"sex\": \"male\", \"age\": \"child\", \"ethnicity\": \"bipoc\", \"mean-compound\": 0.0010004930966469427}, {\"sex\": \"female\", \"age\": \"adult\", \"ethnicity\": \"white\", \"mean-compound\": 0.0020549309664694283}, {\"sex\": \"female\", \"age\": \"child\", \"ethnicity\": \"white\", \"mean-compound\": -0.035551282051282045}, {\"sex\": \"male\", \"age\": \"adult\", \"ethnicity\": \"white\", \"mean-compound\": -0.013323372781065086}, {\"sex\": \"male\", \"age\": \"child\", \"ethnicity\": \"white\", \"mean-compound\": 0.01319921104536489}, {\"sex\": \"female\", \"age\": \"adult\", \"ethnicity\": \"bipoc\", \"mean-compound\": 0.015753155818540438}, {\"sex\": \"female\", \"age\": \"child\", \"ethnicity\": \"bipoc\", \"mean-compound\": 0.03557189349112425}, {\"sex\": \"male\", \"age\": \"adult\", \"ethnicity\": \"bipoc\", \"mean-compound\": 0.022919625246548326}, {\"sex\": \"male\", \"age\": \"child\", \"ethnicity\": \"bipoc\", \"mean-compound\": 0.03870502958579881}, {\"sex\": \"female\", \"age\": \"adult\", \"ethnicity\": \"white\", \"mean-compound\": 0.023200098619329385}, {\"sex\": \"female\", \"age\": \"child\", \"ethnicity\": \"white\", \"mean-compound\": 0.028451775147928994}, {\"sex\": \"male\", \"age\": \"adult\", \"ethnicity\": \"white\", \"mean-compound\": 0.03301124260355028}, {\"sex\": \"male\", \"age\": \"child\", \"ethnicity\": \"white\", \"mean-compound\": 0.03450739644970414}, {\"sex\": \"female\", \"age\": \"adult\", \"ethnicity\": \"bipoc\", \"mean-compound\": -0.010173471400394473}, {\"sex\": \"female\", \"age\": \"child\", \"ethnicity\": \"bipoc\", \"mean-compound\": 0.017706607495069037}, {\"sex\": \"male\", \"age\": \"adult\", \"ethnicity\": \"bipoc\", \"mean-compound\": -0.014393589743589742}, {\"sex\": \"male\", \"age\": \"child\", \"ethnicity\": \"bipoc\", \"mean-compound\": -0.002962130177514793}, {\"sex\": \"female\", \"age\": \"adult\", \"ethnicity\": \"white\", \"mean-compound\": -0.014680670611439841}, {\"sex\": \"female\", \"age\": \"child\", \"ethnicity\": \"white\", \"mean-compound\": -0.00891597633136095}, {\"sex\": \"male\", \"age\": \"adult\", \"ethnicity\": \"white\", \"mean-compound\": -0.010829191321499013}, {\"sex\": \"male\", \"age\": \"child\", \"ethnicity\": \"white\", \"mean-compound\": 0.0007467455621301772}, {\"sex\": \"female\", \"age\": \"adult\", \"ethnicity\": \"bipoc\", \"mean-compound\": -0.030966173570019722}, {\"sex\": \"female\", \"age\": \"child\", \"ethnicity\": \"bipoc\", \"mean-compound\": -0.03799102564102562}, {\"sex\": \"male\", \"age\": \"adult\", \"ethnicity\": \"bipoc\", \"mean-compound\": -0.034220019723865874}, {\"sex\": \"male\", \"age\": \"child\", \"ethnicity\": \"bipoc\", \"mean-compound\": -0.0355275147928994}, {\"sex\": \"female\", \"age\": \"adult\", \"ethnicity\": \"white\", \"mean-compound\": -0.03639408284023669}, {\"sex\": \"female\", \"age\": \"child\", \"ethnicity\": \"white\", \"mean-compound\": -0.03330897435897436}, {\"sex\": \"male\", \"age\": \"adult\", \"ethnicity\": \"white\", \"mean-compound\": -0.013067455621301774}, {\"sex\": \"male\", \"age\": \"child\", \"ethnicity\": \"white\", \"mean-compound\": -0.034722682445759365}, {\"sex\": \"female\", \"age\": \"adult\", \"ethnicity\": \"bipoc\", \"mean-compound\": 0.009444378698224853}, {\"sex\": \"female\", \"age\": \"child\", \"ethnicity\": \"bipoc\", \"mean-compound\": 0.005420710059171599}, {\"sex\": \"male\", \"age\": \"adult\", \"ethnicity\": \"bipoc\", \"mean-compound\": -0.0027621301775147926}, {\"sex\": \"male\", \"age\": \"child\", \"ethnicity\": \"bipoc\", \"mean-compound\": 0.023407396449704142}, {\"sex\": \"female\", \"age\": \"adult\", \"ethnicity\": \"white\", \"mean-compound\": 0.004577810650887575}, {\"sex\": \"female\", \"age\": \"child\", \"ethnicity\": \"white\", \"mean-compound\": 0.007907199211045364}, {\"sex\": \"male\", \"age\": \"adult\", \"ethnicity\": \"white\", \"mean-compound\": -0.003976232741617356}, {\"sex\": \"male\", \"age\": \"child\", \"ethnicity\": \"white\", \"mean-compound\": 0.0052857001972386585}, {\"sex\": \"female\", \"age\": \"adult\", \"ethnicity\": \"bipoc\", \"mean-compound\": 0.013749802761341225}, {\"sex\": \"female\", \"age\": \"child\", \"ethnicity\": \"bipoc\", \"mean-compound\": -0.011958974358974354}, {\"sex\": \"male\", \"age\": \"adult\", \"ethnicity\": \"bipoc\", \"mean-compound\": 0.007219822485207102}, {\"sex\": \"male\", \"age\": \"child\", \"ethnicity\": \"bipoc\", \"mean-compound\": -0.0007533530571992109}, {\"sex\": \"female\", \"age\": \"adult\", \"ethnicity\": \"white\", \"mean-compound\": -0.010753944773175542}, {\"sex\": \"female\", \"age\": \"child\", \"ethnicity\": \"white\", \"mean-compound\": -0.01621134122287969}, {\"sex\": \"male\", \"age\": \"adult\", \"ethnicity\": \"white\", \"mean-compound\": -0.003942800788954635}, {\"sex\": \"male\", \"age\": \"child\", \"ethnicity\": \"white\", \"mean-compound\": -0.0046469428007889545}, {\"sex\": \"female\", \"age\": \"adult\", \"ethnicity\": \"bipoc\", \"mean-compound\": -0.03275522682445759}, {\"sex\": \"female\", \"age\": \"child\", \"ethnicity\": \"bipoc\", \"mean-compound\": -0.02264822485207101}, {\"sex\": \"male\", \"age\": \"adult\", \"ethnicity\": \"bipoc\", \"mean-compound\": -0.015204043392504928}, {\"sex\": \"male\", \"age\": \"child\", \"ethnicity\": \"bipoc\", \"mean-compound\": -0.031069625246548327}, {\"sex\": \"female\", \"age\": \"adult\", \"ethnicity\": \"white\", \"mean-compound\": -0.023245562130177515}, {\"sex\": \"female\", \"age\": \"child\", \"ethnicity\": \"white\", \"mean-compound\": -0.018528895463510844}, {\"sex\": \"male\", \"age\": \"adult\", \"ethnicity\": \"white\", \"mean-compound\": -0.029643491124260356}, {\"sex\": \"male\", \"age\": \"child\", \"ethnicity\": \"white\", \"mean-compound\": -0.02722524654832348}, {\"sex\": \"female\", \"age\": \"adult\", \"ethnicity\": \"bipoc\", \"mean-compound\": -0.021694773175542404}, {\"sex\": \"female\", \"age\": \"child\", \"ethnicity\": \"bipoc\", \"mean-compound\": -0.018174753451676535}, {\"sex\": \"male\", \"age\": \"adult\", \"ethnicity\": \"bipoc\", \"mean-compound\": -0.023599704142011832}, {\"sex\": \"male\", \"age\": \"child\", \"ethnicity\": \"bipoc\", \"mean-compound\": -0.03311005917159763}, {\"sex\": \"female\", \"age\": \"adult\", \"ethnicity\": \"white\", \"mean-compound\": -0.01891725838264299}, {\"sex\": \"female\", \"age\": \"child\", \"ethnicity\": \"white\", \"mean-compound\": -0.005935798816568048}, {\"sex\": \"male\", \"age\": \"adult\", \"ethnicity\": \"white\", \"mean-compound\": -0.028822879684418143}, {\"sex\": \"male\", \"age\": \"child\", \"ethnicity\": \"white\", \"mean-compound\": -0.025326331360946752}, {\"sex\": \"female\", \"age\": \"adult\", \"ethnicity\": \"bipoc\", \"mean-compound\": -0.025413116370808682}, {\"sex\": \"female\", \"age\": \"child\", \"ethnicity\": \"bipoc\", \"mean-compound\": -0.03544270216962525}, {\"sex\": \"male\", \"age\": \"adult\", \"ethnicity\": \"bipoc\", \"mean-compound\": -0.017075147928994082}, {\"sex\": \"male\", \"age\": \"child\", \"ethnicity\": \"bipoc\", \"mean-compound\": -0.014854142011834314}, {\"sex\": \"female\", \"age\": \"adult\", \"ethnicity\": \"white\", \"mean-compound\": 0.0018651873767258384}, {\"sex\": \"female\", \"age\": \"child\", \"ethnicity\": \"white\", \"mean-compound\": -0.000674950690335306}, {\"sex\": \"male\", \"age\": \"adult\", \"ethnicity\": \"white\", \"mean-compound\": -0.018303550295857982}, {\"sex\": \"male\", \"age\": \"child\", \"ethnicity\": \"white\", \"mean-compound\": -0.025246548323471403}, {\"sex\": \"female\", \"age\": \"adult\", \"ethnicity\": \"bipoc\", \"mean-compound\": 0.027084812623274168}, {\"sex\": \"female\", \"age\": \"child\", \"ethnicity\": \"bipoc\", \"mean-compound\": 0.025308579881656804}, {\"sex\": \"male\", \"age\": \"adult\", \"ethnicity\": \"bipoc\", \"mean-compound\": 0.02874940828402367}, {\"sex\": \"male\", \"age\": \"child\", \"ethnicity\": \"bipoc\", \"mean-compound\": 0.02463510848126233}, {\"sex\": \"female\", \"age\": \"adult\", \"ethnicity\": \"white\", \"mean-compound\": 0.017706213017751483}, {\"sex\": \"female\", \"age\": \"child\", \"ethnicity\": \"white\", \"mean-compound\": 0.022994773175542403}, {\"sex\": \"male\", \"age\": \"adult\", \"ethnicity\": \"white\", \"mean-compound\": 0.026115483234714004}, {\"sex\": \"male\", \"age\": \"child\", \"ethnicity\": \"white\", \"mean-compound\": 0.029344082840236686}, {\"sex\": \"female\", \"age\": \"adult\", \"ethnicity\": \"bipoc\", \"mean-compound\": -0.01994506903353057}, {\"sex\": \"female\", \"age\": \"child\", \"ethnicity\": \"bipoc\", \"mean-compound\": 0.0017857001972386589}, {\"sex\": \"male\", \"age\": \"adult\", \"ethnicity\": \"bipoc\", \"mean-compound\": -0.01173372781065089}, {\"sex\": \"male\", \"age\": \"child\", \"ethnicity\": \"bipoc\", \"mean-compound\": -0.004904240631163708}, {\"sex\": \"female\", \"age\": \"adult\", \"ethnicity\": \"white\", \"mean-compound\": -0.00919457593688363}, {\"sex\": \"female\", \"age\": \"child\", \"ethnicity\": \"white\", \"mean-compound\": -0.011681065088757393}, {\"sex\": \"male\", \"age\": \"adult\", \"ethnicity\": \"white\", \"mean-compound\": -0.001452169625246548}, {\"sex\": \"male\", \"age\": \"child\", \"ethnicity\": \"white\", \"mean-compound\": -0.006883136094674557}, {\"sex\": \"female\", \"age\": \"adult\", \"ethnicity\": \"bipoc\", \"mean-compound\": -0.030022386587771205}, {\"sex\": \"female\", \"age\": \"child\", \"ethnicity\": \"bipoc\", \"mean-compound\": -0.0331129191321499}, {\"sex\": \"male\", \"age\": \"adult\", \"ethnicity\": \"bipoc\", \"mean-compound\": -0.03693727810650887}, {\"sex\": \"male\", \"age\": \"child\", \"ethnicity\": \"bipoc\", \"mean-compound\": -0.03637672583826431}, {\"sex\": \"female\", \"age\": \"adult\", \"ethnicity\": \"white\", \"mean-compound\": -0.030374556213017753}, {\"sex\": \"female\", \"age\": \"child\", \"ethnicity\": \"white\", \"mean-compound\": -0.031665088757396445}, {\"sex\": \"male\", \"age\": \"adult\", \"ethnicity\": \"white\", \"mean-compound\": -0.02114625246548323}, {\"sex\": \"male\", \"age\": \"child\", \"ethnicity\": \"white\", \"mean-compound\": -0.03477869822485208}, {\"sex\": \"female\", \"age\": \"adult\", \"ethnicity\": \"bipoc\", \"mean-compound\": 0.026019329388560157}, {\"sex\": \"female\", \"age\": \"child\", \"ethnicity\": \"bipoc\", \"mean-compound\": -0.006793885601577909}, {\"sex\": \"male\", \"age\": \"adult\", \"ethnicity\": \"bipoc\", \"mean-compound\": -0.01564615384615384}, {\"sex\": \"male\", \"age\": \"child\", \"ethnicity\": \"bipoc\", \"mean-compound\": 0.0016118343195266256}, {\"sex\": \"female\", \"age\": \"adult\", \"ethnicity\": \"white\", \"mean-compound\": 0.002460650887573965}, {\"sex\": \"female\", \"age\": \"child\", \"ethnicity\": \"white\", \"mean-compound\": -0.007056213017751479}, {\"sex\": \"male\", \"age\": \"adult\", \"ethnicity\": \"white\", \"mean-compound\": -0.00775207100591716}, {\"sex\": \"male\", \"age\": \"child\", \"ethnicity\": \"white\", \"mean-compound\": -0.0018582840236686395}, {\"sex\": \"female\", \"age\": \"adult\", \"ethnicity\": \"bipoc\", \"mean-compound\": 0.003134714003944773}, {\"sex\": \"female\", \"age\": \"child\", \"ethnicity\": \"bipoc\", \"mean-compound\": 0.0063704142011834315}, {\"sex\": \"male\", \"age\": \"adult\", \"ethnicity\": \"bipoc\", \"mean-compound\": 0.009494378698224854}, {\"sex\": \"male\", \"age\": \"child\", \"ethnicity\": \"bipoc\", \"mean-compound\": -0.015946055226824452}, {\"sex\": \"female\", \"age\": \"adult\", \"ethnicity\": \"white\", \"mean-compound\": -0.0030445759368836296}, {\"sex\": \"female\", \"age\": \"child\", \"ethnicity\": \"white\", \"mean-compound\": -0.0034034516765285984}, {\"sex\": \"male\", \"age\": \"adult\", \"ethnicity\": \"white\", \"mean-compound\": -0.011529684418145954}, {\"sex\": \"male\", \"age\": \"child\", \"ethnicity\": \"white\", \"mean-compound\": 0.01874230769230769}, {\"sex\": \"female\", \"age\": \"adult\", \"ethnicity\": \"bipoc\", \"mean-compound\": -0.015871005917159762}, {\"sex\": \"female\", \"age\": \"child\", \"ethnicity\": \"bipoc\", \"mean-compound\": -0.026360157790927013}, {\"sex\": \"male\", \"age\": \"adult\", \"ethnicity\": \"bipoc\", \"mean-compound\": -0.020779487179487174}, {\"sex\": \"male\", \"age\": \"child\", \"ethnicity\": \"bipoc\", \"mean-compound\": -0.02059644970414202}, {\"sex\": \"female\", \"age\": \"adult\", \"ethnicity\": \"white\", \"mean-compound\": -0.017448717948717943}, {\"sex\": \"female\", \"age\": \"child\", \"ethnicity\": \"white\", \"mean-compound\": -0.025974852071005916}, {\"sex\": \"male\", \"age\": \"adult\", \"ethnicity\": \"white\", \"mean-compound\": -0.008871005917159763}, {\"sex\": \"male\", \"age\": \"child\", \"ethnicity\": \"white\", \"mean-compound\": -0.022212031558185408}, {\"sex\": \"female\", \"age\": \"adult\", \"ethnicity\": \"bipoc\", \"mean-compound\": -0.022634615384615378}, {\"sex\": \"female\", \"age\": \"child\", \"ethnicity\": \"bipoc\", \"mean-compound\": 0.0015851084812623269}, {\"sex\": \"male\", \"age\": \"adult\", \"ethnicity\": \"bipoc\", \"mean-compound\": -0.02050009861932939}, {\"sex\": \"male\", \"age\": \"child\", \"ethnicity\": \"bipoc\", \"mean-compound\": -0.018198323471400397}, {\"sex\": \"female\", \"age\": \"adult\", \"ethnicity\": \"white\", \"mean-compound\": -0.002881360946745561}, {\"sex\": \"female\", \"age\": \"child\", \"ethnicity\": \"white\", \"mean-compound\": -0.015401084812623271}, {\"sex\": \"male\", \"age\": \"adult\", \"ethnicity\": \"white\", \"mean-compound\": -0.024409664694280072}, {\"sex\": \"male\", \"age\": \"child\", \"ethnicity\": \"white\", \"mean-compound\": -0.027749309664694275}, {\"sex\": \"female\", \"age\": \"adult\", \"ethnicity\": \"bipoc\", \"mean-compound\": -0.025605226824457598}, {\"sex\": \"female\", \"age\": \"child\", \"ethnicity\": \"bipoc\", \"mean-compound\": -0.00662938856015779}, {\"sex\": \"male\", \"age\": \"adult\", \"ethnicity\": \"bipoc\", \"mean-compound\": -0.022682445759368827}, {\"sex\": \"male\", \"age\": \"child\", \"ethnicity\": \"bipoc\", \"mean-compound\": -0.030157199211045368}, {\"sex\": \"female\", \"age\": \"adult\", \"ethnicity\": \"white\", \"mean-compound\": -0.02211429980276134}, {\"sex\": \"female\", \"age\": \"child\", \"ethnicity\": \"white\", \"mean-compound\": -0.007322287968441816}, {\"sex\": \"male\", \"age\": \"adult\", \"ethnicity\": \"white\", \"mean-compound\": -0.005232544378698225}, {\"sex\": \"male\", \"age\": \"child\", \"ethnicity\": \"white\", \"mean-compound\": -0.013336094674556213}, {\"sex\": \"female\", \"age\": \"adult\", \"ethnicity\": \"bipoc\", \"mean-compound\": 0.022737968441814596}, {\"sex\": \"female\", \"age\": \"child\", \"ethnicity\": \"bipoc\", \"mean-compound\": 0.016025443786982247}, {\"sex\": \"male\", \"age\": \"adult\", \"ethnicity\": \"bipoc\", \"mean-compound\": 0.023601873767258384}, {\"sex\": \"male\", \"age\": \"child\", \"ethnicity\": \"bipoc\", \"mean-compound\": 0.03115236686390533}, {\"sex\": \"female\", \"age\": \"adult\", \"ethnicity\": \"white\", \"mean-compound\": 0.025416666666666667}, {\"sex\": \"female\", \"age\": \"child\", \"ethnicity\": \"white\", \"mean-compound\": 0.02829526627218935}, {\"sex\": \"male\", \"age\": \"adult\", \"ethnicity\": \"white\", \"mean-compound\": 0.02915039447731756}, {\"sex\": \"male\", \"age\": \"child\", \"ethnicity\": \"white\", \"mean-compound\": 0.025416173570019726}, {\"sex\": \"female\", \"age\": \"adult\", \"ethnicity\": \"bipoc\", \"mean-compound\": -0.0007160749506903354}, {\"sex\": \"female\", \"age\": \"child\", \"ethnicity\": \"bipoc\", \"mean-compound\": 0.009143491124260354}, {\"sex\": \"male\", \"age\": \"adult\", \"ethnicity\": \"bipoc\", \"mean-compound\": -0.011885009861932938}, {\"sex\": \"male\", \"age\": \"child\", \"ethnicity\": \"bipoc\", \"mean-compound\": -0.0046637080867850105}, {\"sex\": \"female\", \"age\": \"adult\", \"ethnicity\": \"white\", \"mean-compound\": 0.010230078895463509}, {\"sex\": \"female\", \"age\": \"child\", \"ethnicity\": \"white\", \"mean-compound\": 0.002078205128205128}, {\"sex\": \"male\", \"age\": \"adult\", \"ethnicity\": \"white\", \"mean-compound\": -0.0001225838264299807}, {\"sex\": \"male\", \"age\": \"child\", \"ethnicity\": \"white\", \"mean-compound\": -0.004396153846153847}, {\"sex\": \"female\", \"age\": \"adult\", \"ethnicity\": \"bipoc\", \"mean-compound\": -0.024257790927021697}, {\"sex\": \"female\", \"age\": \"child\", \"ethnicity\": \"bipoc\", \"mean-compound\": -0.01885917159763314}, {\"sex\": \"male\", \"age\": \"adult\", \"ethnicity\": \"bipoc\", \"mean-compound\": -0.03530562130177514}, {\"sex\": \"male\", \"age\": \"child\", \"ethnicity\": \"bipoc\", \"mean-compound\": -0.016960848126232744}, {\"sex\": \"female\", \"age\": \"adult\", \"ethnicity\": \"white\", \"mean-compound\": -0.02965226824457593}, {\"sex\": \"female\", \"age\": \"child\", \"ethnicity\": \"white\", \"mean-compound\": -0.018451183431952668}, {\"sex\": \"male\", \"age\": \"adult\", \"ethnicity\": \"white\", \"mean-compound\": -0.012365976331360945}, {\"sex\": \"male\", \"age\": \"child\", \"ethnicity\": \"white\", \"mean-compound\": -0.031171893491124265}, {\"sex\": \"female\", \"age\": \"adult\", \"ethnicity\": \"bipoc\", \"mean-compound\": -0.0008040433925049305}, {\"sex\": \"female\", \"age\": \"child\", \"ethnicity\": \"bipoc\", \"mean-compound\": 0.02692041420118343}, {\"sex\": \"male\", \"age\": \"adult\", \"ethnicity\": \"bipoc\", \"mean-compound\": -0.005781262327416174}, {\"sex\": \"male\", \"age\": \"child\", \"ethnicity\": \"bipoc\", \"mean-compound\": -0.004176725838264299}, {\"sex\": \"female\", \"age\": \"adult\", \"ethnicity\": \"white\", \"mean-compound\": 0.0023239644970414206}, {\"sex\": \"female\", \"age\": \"child\", \"ethnicity\": \"white\", \"mean-compound\": 0.011880473372781069}, {\"sex\": \"male\", \"age\": \"adult\", \"ethnicity\": \"white\", \"mean-compound\": -0.001450788954635108}, {\"sex\": \"male\", \"age\": \"child\", \"ethnicity\": \"white\", \"mean-compound\": -0.008830374753451676}, {\"sex\": \"female\", \"age\": \"adult\", \"ethnicity\": \"bipoc\", \"mean-compound\": 0.015191222879684418}, {\"sex\": \"female\", \"age\": \"child\", \"ethnicity\": \"bipoc\", \"mean-compound\": 0.028268639053254437}, {\"sex\": \"male\", \"age\": \"adult\", \"ethnicity\": \"bipoc\", \"mean-compound\": -0.012468540433925047}, {\"sex\": \"male\", \"age\": \"child\", \"ethnicity\": \"bipoc\", \"mean-compound\": -0.010073076923076919}, {\"sex\": \"female\", \"age\": \"adult\", \"ethnicity\": \"white\", \"mean-compound\": -0.01330335305719921}, {\"sex\": \"female\", \"age\": \"child\", \"ethnicity\": \"white\", \"mean-compound\": -0.0087025641025641}, {\"sex\": \"male\", \"age\": \"adult\", \"ethnicity\": \"white\", \"mean-compound\": -0.006714201183431954}, {\"sex\": \"male\", \"age\": \"child\", \"ethnicity\": \"white\", \"mean-compound\": -0.0026187376725838258}]}}, {\"mode\": \"vega-lite\"});\n",
       "</script>"
      ],
      "text/plain": [
       "alt.Chart(...)"
      ]
     },
     "execution_count": 240,
     "metadata": {},
     "output_type": "execute_result"
    }
   ],
   "source": [
    "source = reg_free\n",
    "alt.Chart(source).mark_area(\n",
    "    opacity=0.5,\n",
    "    interpolate='step'\n",
    ").encode(\n",
    "    alt.X('mean-compound:Q', bin=alt.Bin(maxbins=30)),\n",
    "    alt.Y('count()',  stack=None),\n",
    "    alt.Color('ethnicity'))"
   ]
  },
  {
   "cell_type": "markdown",
   "id": "ea25bdea-0cf3-4f7a-aa5b-30db7d8cfbcf",
   "metadata": {},
   "source": [
    "### Age"
   ]
  },
  {
   "cell_type": "code",
   "execution_count": 241,
   "id": "0d309abd-6f28-4ebe-b476-07d8200977ab",
   "metadata": {},
   "outputs": [
    {
     "data": {
      "text/html": [
       "\n",
       "<div id=\"altair-viz-942e88355535476d9f2a95b47ce9bcf0\"></div>\n",
       "<script type=\"text/javascript\">\n",
       "  (function(spec, embedOpt){\n",
       "    let outputDiv = document.currentScript.previousElementSibling;\n",
       "    if (outputDiv.id !== \"altair-viz-942e88355535476d9f2a95b47ce9bcf0\") {\n",
       "      outputDiv = document.getElementById(\"altair-viz-942e88355535476d9f2a95b47ce9bcf0\");\n",
       "    }\n",
       "    const paths = {\n",
       "      \"vega\": \"https://cdn.jsdelivr.net/npm//vega@5?noext\",\n",
       "      \"vega-lib\": \"https://cdn.jsdelivr.net/npm//vega-lib?noext\",\n",
       "      \"vega-lite\": \"https://cdn.jsdelivr.net/npm//vega-lite@4.8.1?noext\",\n",
       "      \"vega-embed\": \"https://cdn.jsdelivr.net/npm//vega-embed@6?noext\",\n",
       "    };\n",
       "\n",
       "    function loadScript(lib) {\n",
       "      return new Promise(function(resolve, reject) {\n",
       "        var s = document.createElement('script');\n",
       "        s.src = paths[lib];\n",
       "        s.async = true;\n",
       "        s.onload = () => resolve(paths[lib]);\n",
       "        s.onerror = () => reject(`Error loading script: ${paths[lib]}`);\n",
       "        document.getElementsByTagName(\"head\")[0].appendChild(s);\n",
       "      });\n",
       "    }\n",
       "\n",
       "    function showError(err) {\n",
       "      outputDiv.innerHTML = `<div class=\"error\" style=\"color:red;\">${err}</div>`;\n",
       "      throw err;\n",
       "    }\n",
       "\n",
       "    function displayChart(vegaEmbed) {\n",
       "      vegaEmbed(outputDiv, spec, embedOpt)\n",
       "        .catch(err => showError(`Javascript Error: ${err.message}<br>This usually means there's a typo in your chart specification. See the javascript console for the full traceback.`));\n",
       "    }\n",
       "\n",
       "    if(typeof define === \"function\" && define.amd) {\n",
       "      requirejs.config({paths});\n",
       "      require([\"vega-embed\"], displayChart, err => showError(`Error loading script: ${err.message}`));\n",
       "    } else if (typeof vegaEmbed === \"function\") {\n",
       "      displayChart(vegaEmbed);\n",
       "    } else {\n",
       "      loadScript(\"vega\")\n",
       "        .then(() => loadScript(\"vega-lite\"))\n",
       "        .then(() => loadScript(\"vega-embed\"))\n",
       "        .catch(showError)\n",
       "        .then(() => displayChart(vegaEmbed));\n",
       "    }\n",
       "  })({\"config\": {\"view\": {\"continuousWidth\": 400, \"continuousHeight\": 300}}, \"data\": {\"name\": \"data-d97987b2c58b310d0a50664131c91f89\"}, \"mark\": {\"type\": \"area\", \"interpolate\": \"step\", \"opacity\": 0.5}, \"encoding\": {\"color\": {\"type\": \"nominal\", \"field\": \"age\"}, \"x\": {\"type\": \"quantitative\", \"bin\": {\"maxbins\": 30}, \"field\": \"mean-compound\"}, \"y\": {\"type\": \"quantitative\", \"aggregate\": \"count\", \"stack\": null}}, \"$schema\": \"https://vega.github.io/schema/vega-lite/v4.8.1.json\", \"datasets\": {\"data-d97987b2c58b310d0a50664131c91f89\": [{\"sex\": \"female\", \"age\": \"adult\", \"ethnicity\": \"bipoc\", \"mean-compound\": -0.008747633136094673}, {\"sex\": \"female\", \"age\": \"child\", \"ethnicity\": \"bipoc\", \"mean-compound\": -0.02549072978303747}, {\"sex\": \"male\", \"age\": \"adult\", \"ethnicity\": \"bipoc\", \"mean-compound\": -0.0313008875739645}, {\"sex\": \"male\", \"age\": \"child\", \"ethnicity\": \"bipoc\", \"mean-compound\": -0.02001952662721893}, {\"sex\": \"female\", \"age\": \"adult\", \"ethnicity\": \"white\", \"mean-compound\": -0.018724753451676523}, {\"sex\": \"female\", \"age\": \"child\", \"ethnicity\": \"white\", \"mean-compound\": -0.033768934911242596}, {\"sex\": \"male\", \"age\": \"adult\", \"ethnicity\": \"white\", \"mean-compound\": -0.016314595660749505}, {\"sex\": \"male\", \"age\": \"child\", \"ethnicity\": \"white\", \"mean-compound\": -0.0016985207100591719}, {\"sex\": \"female\", \"age\": \"adult\", \"ethnicity\": \"bipoc\", \"mean-compound\": -0.016403846153846147}, {\"sex\": \"female\", \"age\": \"child\", \"ethnicity\": \"bipoc\", \"mean-compound\": -0.016130473372781066}, {\"sex\": \"male\", \"age\": \"adult\", \"ethnicity\": \"bipoc\", \"mean-compound\": -0.029880571992110454}, {\"sex\": \"male\", \"age\": \"child\", \"ethnicity\": \"bipoc\", \"mean-compound\": -0.012775345167652863}, {\"sex\": \"female\", \"age\": \"adult\", \"ethnicity\": \"white\", \"mean-compound\": -0.028577317554240624}, {\"sex\": \"female\", \"age\": \"child\", \"ethnicity\": \"white\", \"mean-compound\": 0.012955917159763311}, {\"sex\": \"male\", \"age\": \"adult\", \"ethnicity\": \"white\", \"mean-compound\": -0.022757692307692305}, {\"sex\": \"male\", \"age\": \"child\", \"ethnicity\": \"white\", \"mean-compound\": -0.009934023668639054}, {\"sex\": \"female\", \"age\": \"adult\", \"ethnicity\": \"bipoc\", \"mean-compound\": -0.026855818540433927}, {\"sex\": \"female\", \"age\": \"child\", \"ethnicity\": \"bipoc\", \"mean-compound\": -0.01324230769230769}, {\"sex\": \"male\", \"age\": \"adult\", \"ethnicity\": \"bipoc\", \"mean-compound\": -0.024313313609467455}, {\"sex\": \"male\", \"age\": \"child\", \"ethnicity\": \"bipoc\", \"mean-compound\": 0.0010004930966469427}, {\"sex\": \"female\", \"age\": \"adult\", \"ethnicity\": \"white\", \"mean-compound\": 0.0020549309664694283}, {\"sex\": \"female\", \"age\": \"child\", \"ethnicity\": \"white\", \"mean-compound\": -0.035551282051282045}, {\"sex\": \"male\", \"age\": \"adult\", \"ethnicity\": \"white\", \"mean-compound\": -0.013323372781065086}, {\"sex\": \"male\", \"age\": \"child\", \"ethnicity\": \"white\", \"mean-compound\": 0.01319921104536489}, {\"sex\": \"female\", \"age\": \"adult\", \"ethnicity\": \"bipoc\", \"mean-compound\": 0.015753155818540438}, {\"sex\": \"female\", \"age\": \"child\", \"ethnicity\": \"bipoc\", \"mean-compound\": 0.03557189349112425}, {\"sex\": \"male\", \"age\": \"adult\", \"ethnicity\": \"bipoc\", \"mean-compound\": 0.022919625246548326}, {\"sex\": \"male\", \"age\": \"child\", \"ethnicity\": \"bipoc\", \"mean-compound\": 0.03870502958579881}, {\"sex\": \"female\", \"age\": \"adult\", \"ethnicity\": \"white\", \"mean-compound\": 0.023200098619329385}, {\"sex\": \"female\", \"age\": \"child\", \"ethnicity\": \"white\", \"mean-compound\": 0.028451775147928994}, {\"sex\": \"male\", \"age\": \"adult\", \"ethnicity\": \"white\", \"mean-compound\": 0.03301124260355028}, {\"sex\": \"male\", \"age\": \"child\", \"ethnicity\": \"white\", \"mean-compound\": 0.03450739644970414}, {\"sex\": \"female\", \"age\": \"adult\", \"ethnicity\": \"bipoc\", \"mean-compound\": -0.010173471400394473}, {\"sex\": \"female\", \"age\": \"child\", \"ethnicity\": \"bipoc\", \"mean-compound\": 0.017706607495069037}, {\"sex\": \"male\", \"age\": \"adult\", \"ethnicity\": \"bipoc\", \"mean-compound\": -0.014393589743589742}, {\"sex\": \"male\", \"age\": \"child\", \"ethnicity\": \"bipoc\", \"mean-compound\": -0.002962130177514793}, {\"sex\": \"female\", \"age\": \"adult\", \"ethnicity\": \"white\", \"mean-compound\": -0.014680670611439841}, {\"sex\": \"female\", \"age\": \"child\", \"ethnicity\": \"white\", \"mean-compound\": -0.00891597633136095}, {\"sex\": \"male\", \"age\": \"adult\", \"ethnicity\": \"white\", \"mean-compound\": -0.010829191321499013}, {\"sex\": \"male\", \"age\": \"child\", \"ethnicity\": \"white\", \"mean-compound\": 0.0007467455621301772}, {\"sex\": \"female\", \"age\": \"adult\", \"ethnicity\": \"bipoc\", \"mean-compound\": -0.030966173570019722}, {\"sex\": \"female\", \"age\": \"child\", \"ethnicity\": \"bipoc\", \"mean-compound\": -0.03799102564102562}, {\"sex\": \"male\", \"age\": \"adult\", \"ethnicity\": \"bipoc\", \"mean-compound\": -0.034220019723865874}, {\"sex\": \"male\", \"age\": \"child\", \"ethnicity\": \"bipoc\", \"mean-compound\": -0.0355275147928994}, {\"sex\": \"female\", \"age\": \"adult\", \"ethnicity\": \"white\", \"mean-compound\": -0.03639408284023669}, {\"sex\": \"female\", \"age\": \"child\", \"ethnicity\": \"white\", \"mean-compound\": -0.03330897435897436}, {\"sex\": \"male\", \"age\": \"adult\", \"ethnicity\": \"white\", \"mean-compound\": -0.013067455621301774}, {\"sex\": \"male\", \"age\": \"child\", \"ethnicity\": \"white\", \"mean-compound\": -0.034722682445759365}, {\"sex\": \"female\", \"age\": \"adult\", \"ethnicity\": \"bipoc\", \"mean-compound\": 0.009444378698224853}, {\"sex\": \"female\", \"age\": \"child\", \"ethnicity\": \"bipoc\", \"mean-compound\": 0.005420710059171599}, {\"sex\": \"male\", \"age\": \"adult\", \"ethnicity\": \"bipoc\", \"mean-compound\": -0.0027621301775147926}, {\"sex\": \"male\", \"age\": \"child\", \"ethnicity\": \"bipoc\", \"mean-compound\": 0.023407396449704142}, {\"sex\": \"female\", \"age\": \"adult\", \"ethnicity\": \"white\", \"mean-compound\": 0.004577810650887575}, {\"sex\": \"female\", \"age\": \"child\", \"ethnicity\": \"white\", \"mean-compound\": 0.007907199211045364}, {\"sex\": \"male\", \"age\": \"adult\", \"ethnicity\": \"white\", \"mean-compound\": -0.003976232741617356}, {\"sex\": \"male\", \"age\": \"child\", \"ethnicity\": \"white\", \"mean-compound\": 0.0052857001972386585}, {\"sex\": \"female\", \"age\": \"adult\", \"ethnicity\": \"bipoc\", \"mean-compound\": 0.013749802761341225}, {\"sex\": \"female\", \"age\": \"child\", \"ethnicity\": \"bipoc\", \"mean-compound\": -0.011958974358974354}, {\"sex\": \"male\", \"age\": \"adult\", \"ethnicity\": \"bipoc\", \"mean-compound\": 0.007219822485207102}, {\"sex\": \"male\", \"age\": \"child\", \"ethnicity\": \"bipoc\", \"mean-compound\": -0.0007533530571992109}, {\"sex\": \"female\", \"age\": \"adult\", \"ethnicity\": \"white\", \"mean-compound\": -0.010753944773175542}, {\"sex\": \"female\", \"age\": \"child\", \"ethnicity\": \"white\", \"mean-compound\": -0.01621134122287969}, {\"sex\": \"male\", \"age\": \"adult\", \"ethnicity\": \"white\", \"mean-compound\": -0.003942800788954635}, {\"sex\": \"male\", \"age\": \"child\", \"ethnicity\": \"white\", \"mean-compound\": -0.0046469428007889545}, {\"sex\": \"female\", \"age\": \"adult\", \"ethnicity\": \"bipoc\", \"mean-compound\": -0.03275522682445759}, {\"sex\": \"female\", \"age\": \"child\", \"ethnicity\": \"bipoc\", \"mean-compound\": -0.02264822485207101}, {\"sex\": \"male\", \"age\": \"adult\", \"ethnicity\": \"bipoc\", \"mean-compound\": -0.015204043392504928}, {\"sex\": \"male\", \"age\": \"child\", \"ethnicity\": \"bipoc\", \"mean-compound\": -0.031069625246548327}, {\"sex\": \"female\", \"age\": \"adult\", \"ethnicity\": \"white\", \"mean-compound\": -0.023245562130177515}, {\"sex\": \"female\", \"age\": \"child\", \"ethnicity\": \"white\", \"mean-compound\": -0.018528895463510844}, {\"sex\": \"male\", \"age\": \"adult\", \"ethnicity\": \"white\", \"mean-compound\": -0.029643491124260356}, {\"sex\": \"male\", \"age\": \"child\", \"ethnicity\": \"white\", \"mean-compound\": -0.02722524654832348}, {\"sex\": \"female\", \"age\": \"adult\", \"ethnicity\": \"bipoc\", \"mean-compound\": -0.021694773175542404}, {\"sex\": \"female\", \"age\": \"child\", \"ethnicity\": \"bipoc\", \"mean-compound\": -0.018174753451676535}, {\"sex\": \"male\", \"age\": \"adult\", \"ethnicity\": \"bipoc\", \"mean-compound\": -0.023599704142011832}, {\"sex\": \"male\", \"age\": \"child\", \"ethnicity\": \"bipoc\", \"mean-compound\": -0.03311005917159763}, {\"sex\": \"female\", \"age\": \"adult\", \"ethnicity\": \"white\", \"mean-compound\": -0.01891725838264299}, {\"sex\": \"female\", \"age\": \"child\", \"ethnicity\": \"white\", \"mean-compound\": -0.005935798816568048}, {\"sex\": \"male\", \"age\": \"adult\", \"ethnicity\": \"white\", \"mean-compound\": -0.028822879684418143}, {\"sex\": \"male\", \"age\": \"child\", \"ethnicity\": \"white\", \"mean-compound\": -0.025326331360946752}, {\"sex\": \"female\", \"age\": \"adult\", \"ethnicity\": \"bipoc\", \"mean-compound\": -0.025413116370808682}, {\"sex\": \"female\", \"age\": \"child\", \"ethnicity\": \"bipoc\", \"mean-compound\": -0.03544270216962525}, {\"sex\": \"male\", \"age\": \"adult\", \"ethnicity\": \"bipoc\", \"mean-compound\": -0.017075147928994082}, {\"sex\": \"male\", \"age\": \"child\", \"ethnicity\": \"bipoc\", \"mean-compound\": -0.014854142011834314}, {\"sex\": \"female\", \"age\": \"adult\", \"ethnicity\": \"white\", \"mean-compound\": 0.0018651873767258384}, {\"sex\": \"female\", \"age\": \"child\", \"ethnicity\": \"white\", \"mean-compound\": -0.000674950690335306}, {\"sex\": \"male\", \"age\": \"adult\", \"ethnicity\": \"white\", \"mean-compound\": -0.018303550295857982}, {\"sex\": \"male\", \"age\": \"child\", \"ethnicity\": \"white\", \"mean-compound\": -0.025246548323471403}, {\"sex\": \"female\", \"age\": \"adult\", \"ethnicity\": \"bipoc\", \"mean-compound\": 0.027084812623274168}, {\"sex\": \"female\", \"age\": \"child\", \"ethnicity\": \"bipoc\", \"mean-compound\": 0.025308579881656804}, {\"sex\": \"male\", \"age\": \"adult\", \"ethnicity\": \"bipoc\", \"mean-compound\": 0.02874940828402367}, {\"sex\": \"male\", \"age\": \"child\", \"ethnicity\": \"bipoc\", \"mean-compound\": 0.02463510848126233}, {\"sex\": \"female\", \"age\": \"adult\", \"ethnicity\": \"white\", \"mean-compound\": 0.017706213017751483}, {\"sex\": \"female\", \"age\": \"child\", \"ethnicity\": \"white\", \"mean-compound\": 0.022994773175542403}, {\"sex\": \"male\", \"age\": \"adult\", \"ethnicity\": \"white\", \"mean-compound\": 0.026115483234714004}, {\"sex\": \"male\", \"age\": \"child\", \"ethnicity\": \"white\", \"mean-compound\": 0.029344082840236686}, {\"sex\": \"female\", \"age\": \"adult\", \"ethnicity\": \"bipoc\", \"mean-compound\": -0.01994506903353057}, {\"sex\": \"female\", \"age\": \"child\", \"ethnicity\": \"bipoc\", \"mean-compound\": 0.0017857001972386589}, {\"sex\": \"male\", \"age\": \"adult\", \"ethnicity\": \"bipoc\", \"mean-compound\": -0.01173372781065089}, {\"sex\": \"male\", \"age\": \"child\", \"ethnicity\": \"bipoc\", \"mean-compound\": -0.004904240631163708}, {\"sex\": \"female\", \"age\": \"adult\", \"ethnicity\": \"white\", \"mean-compound\": -0.00919457593688363}, {\"sex\": \"female\", \"age\": \"child\", \"ethnicity\": \"white\", \"mean-compound\": -0.011681065088757393}, {\"sex\": \"male\", \"age\": \"adult\", \"ethnicity\": \"white\", \"mean-compound\": -0.001452169625246548}, {\"sex\": \"male\", \"age\": \"child\", \"ethnicity\": \"white\", \"mean-compound\": -0.006883136094674557}, {\"sex\": \"female\", \"age\": \"adult\", \"ethnicity\": \"bipoc\", \"mean-compound\": -0.030022386587771205}, {\"sex\": \"female\", \"age\": \"child\", \"ethnicity\": \"bipoc\", \"mean-compound\": -0.0331129191321499}, {\"sex\": \"male\", \"age\": \"adult\", \"ethnicity\": \"bipoc\", \"mean-compound\": -0.03693727810650887}, {\"sex\": \"male\", \"age\": \"child\", \"ethnicity\": \"bipoc\", \"mean-compound\": -0.03637672583826431}, {\"sex\": \"female\", \"age\": \"adult\", \"ethnicity\": \"white\", \"mean-compound\": -0.030374556213017753}, {\"sex\": \"female\", \"age\": \"child\", \"ethnicity\": \"white\", \"mean-compound\": -0.031665088757396445}, {\"sex\": \"male\", \"age\": \"adult\", \"ethnicity\": \"white\", \"mean-compound\": -0.02114625246548323}, {\"sex\": \"male\", \"age\": \"child\", \"ethnicity\": \"white\", \"mean-compound\": -0.03477869822485208}, {\"sex\": \"female\", \"age\": \"adult\", \"ethnicity\": \"bipoc\", \"mean-compound\": 0.026019329388560157}, {\"sex\": \"female\", \"age\": \"child\", \"ethnicity\": \"bipoc\", \"mean-compound\": -0.006793885601577909}, {\"sex\": \"male\", \"age\": \"adult\", \"ethnicity\": \"bipoc\", \"mean-compound\": -0.01564615384615384}, {\"sex\": \"male\", \"age\": \"child\", \"ethnicity\": \"bipoc\", \"mean-compound\": 0.0016118343195266256}, {\"sex\": \"female\", \"age\": \"adult\", \"ethnicity\": \"white\", \"mean-compound\": 0.002460650887573965}, {\"sex\": \"female\", \"age\": \"child\", \"ethnicity\": \"white\", \"mean-compound\": -0.007056213017751479}, {\"sex\": \"male\", \"age\": \"adult\", \"ethnicity\": \"white\", \"mean-compound\": -0.00775207100591716}, {\"sex\": \"male\", \"age\": \"child\", \"ethnicity\": \"white\", \"mean-compound\": -0.0018582840236686395}, {\"sex\": \"female\", \"age\": \"adult\", \"ethnicity\": \"bipoc\", \"mean-compound\": 0.003134714003944773}, {\"sex\": \"female\", \"age\": \"child\", \"ethnicity\": \"bipoc\", \"mean-compound\": 0.0063704142011834315}, {\"sex\": \"male\", \"age\": \"adult\", \"ethnicity\": \"bipoc\", \"mean-compound\": 0.009494378698224854}, {\"sex\": \"male\", \"age\": \"child\", \"ethnicity\": \"bipoc\", \"mean-compound\": -0.015946055226824452}, {\"sex\": \"female\", \"age\": \"adult\", \"ethnicity\": \"white\", \"mean-compound\": -0.0030445759368836296}, {\"sex\": \"female\", \"age\": \"child\", \"ethnicity\": \"white\", \"mean-compound\": -0.0034034516765285984}, {\"sex\": \"male\", \"age\": \"adult\", \"ethnicity\": \"white\", \"mean-compound\": -0.011529684418145954}, {\"sex\": \"male\", \"age\": \"child\", \"ethnicity\": \"white\", \"mean-compound\": 0.01874230769230769}, {\"sex\": \"female\", \"age\": \"adult\", \"ethnicity\": \"bipoc\", \"mean-compound\": -0.015871005917159762}, {\"sex\": \"female\", \"age\": \"child\", \"ethnicity\": \"bipoc\", \"mean-compound\": -0.026360157790927013}, {\"sex\": \"male\", \"age\": \"adult\", \"ethnicity\": \"bipoc\", \"mean-compound\": -0.020779487179487174}, {\"sex\": \"male\", \"age\": \"child\", \"ethnicity\": \"bipoc\", \"mean-compound\": -0.02059644970414202}, {\"sex\": \"female\", \"age\": \"adult\", \"ethnicity\": \"white\", \"mean-compound\": -0.017448717948717943}, {\"sex\": \"female\", \"age\": \"child\", \"ethnicity\": \"white\", \"mean-compound\": -0.025974852071005916}, {\"sex\": \"male\", \"age\": \"adult\", \"ethnicity\": \"white\", \"mean-compound\": -0.008871005917159763}, {\"sex\": \"male\", \"age\": \"child\", \"ethnicity\": \"white\", \"mean-compound\": -0.022212031558185408}, {\"sex\": \"female\", \"age\": \"adult\", \"ethnicity\": \"bipoc\", \"mean-compound\": -0.022634615384615378}, {\"sex\": \"female\", \"age\": \"child\", \"ethnicity\": \"bipoc\", \"mean-compound\": 0.0015851084812623269}, {\"sex\": \"male\", \"age\": \"adult\", \"ethnicity\": \"bipoc\", \"mean-compound\": -0.02050009861932939}, {\"sex\": \"male\", \"age\": \"child\", \"ethnicity\": \"bipoc\", \"mean-compound\": -0.018198323471400397}, {\"sex\": \"female\", \"age\": \"adult\", \"ethnicity\": \"white\", \"mean-compound\": -0.002881360946745561}, {\"sex\": \"female\", \"age\": \"child\", \"ethnicity\": \"white\", \"mean-compound\": -0.015401084812623271}, {\"sex\": \"male\", \"age\": \"adult\", \"ethnicity\": \"white\", \"mean-compound\": -0.024409664694280072}, {\"sex\": \"male\", \"age\": \"child\", \"ethnicity\": \"white\", \"mean-compound\": -0.027749309664694275}, {\"sex\": \"female\", \"age\": \"adult\", \"ethnicity\": \"bipoc\", \"mean-compound\": -0.025605226824457598}, {\"sex\": \"female\", \"age\": \"child\", \"ethnicity\": \"bipoc\", \"mean-compound\": -0.00662938856015779}, {\"sex\": \"male\", \"age\": \"adult\", \"ethnicity\": \"bipoc\", \"mean-compound\": -0.022682445759368827}, {\"sex\": \"male\", \"age\": \"child\", \"ethnicity\": \"bipoc\", \"mean-compound\": -0.030157199211045368}, {\"sex\": \"female\", \"age\": \"adult\", \"ethnicity\": \"white\", \"mean-compound\": -0.02211429980276134}, {\"sex\": \"female\", \"age\": \"child\", \"ethnicity\": \"white\", \"mean-compound\": -0.007322287968441816}, {\"sex\": \"male\", \"age\": \"adult\", \"ethnicity\": \"white\", \"mean-compound\": -0.005232544378698225}, {\"sex\": \"male\", \"age\": \"child\", \"ethnicity\": \"white\", \"mean-compound\": -0.013336094674556213}, {\"sex\": \"female\", \"age\": \"adult\", \"ethnicity\": \"bipoc\", \"mean-compound\": 0.022737968441814596}, {\"sex\": \"female\", \"age\": \"child\", \"ethnicity\": \"bipoc\", \"mean-compound\": 0.016025443786982247}, {\"sex\": \"male\", \"age\": \"adult\", \"ethnicity\": \"bipoc\", \"mean-compound\": 0.023601873767258384}, {\"sex\": \"male\", \"age\": \"child\", \"ethnicity\": \"bipoc\", \"mean-compound\": 0.03115236686390533}, {\"sex\": \"female\", \"age\": \"adult\", \"ethnicity\": \"white\", \"mean-compound\": 0.025416666666666667}, {\"sex\": \"female\", \"age\": \"child\", \"ethnicity\": \"white\", \"mean-compound\": 0.02829526627218935}, {\"sex\": \"male\", \"age\": \"adult\", \"ethnicity\": \"white\", \"mean-compound\": 0.02915039447731756}, {\"sex\": \"male\", \"age\": \"child\", \"ethnicity\": \"white\", \"mean-compound\": 0.025416173570019726}, {\"sex\": \"female\", \"age\": \"adult\", \"ethnicity\": \"bipoc\", \"mean-compound\": -0.0007160749506903354}, {\"sex\": \"female\", \"age\": \"child\", \"ethnicity\": \"bipoc\", \"mean-compound\": 0.009143491124260354}, {\"sex\": \"male\", \"age\": \"adult\", \"ethnicity\": \"bipoc\", \"mean-compound\": -0.011885009861932938}, {\"sex\": \"male\", \"age\": \"child\", \"ethnicity\": \"bipoc\", \"mean-compound\": -0.0046637080867850105}, {\"sex\": \"female\", \"age\": \"adult\", \"ethnicity\": \"white\", \"mean-compound\": 0.010230078895463509}, {\"sex\": \"female\", \"age\": \"child\", \"ethnicity\": \"white\", \"mean-compound\": 0.002078205128205128}, {\"sex\": \"male\", \"age\": \"adult\", \"ethnicity\": \"white\", \"mean-compound\": -0.0001225838264299807}, {\"sex\": \"male\", \"age\": \"child\", \"ethnicity\": \"white\", \"mean-compound\": -0.004396153846153847}, {\"sex\": \"female\", \"age\": \"adult\", \"ethnicity\": \"bipoc\", \"mean-compound\": -0.024257790927021697}, {\"sex\": \"female\", \"age\": \"child\", \"ethnicity\": \"bipoc\", \"mean-compound\": -0.01885917159763314}, {\"sex\": \"male\", \"age\": \"adult\", \"ethnicity\": \"bipoc\", \"mean-compound\": -0.03530562130177514}, {\"sex\": \"male\", \"age\": \"child\", \"ethnicity\": \"bipoc\", \"mean-compound\": -0.016960848126232744}, {\"sex\": \"female\", \"age\": \"adult\", \"ethnicity\": \"white\", \"mean-compound\": -0.02965226824457593}, {\"sex\": \"female\", \"age\": \"child\", \"ethnicity\": \"white\", \"mean-compound\": -0.018451183431952668}, {\"sex\": \"male\", \"age\": \"adult\", \"ethnicity\": \"white\", \"mean-compound\": -0.012365976331360945}, {\"sex\": \"male\", \"age\": \"child\", \"ethnicity\": \"white\", \"mean-compound\": -0.031171893491124265}, {\"sex\": \"female\", \"age\": \"adult\", \"ethnicity\": \"bipoc\", \"mean-compound\": -0.0008040433925049305}, {\"sex\": \"female\", \"age\": \"child\", \"ethnicity\": \"bipoc\", \"mean-compound\": 0.02692041420118343}, {\"sex\": \"male\", \"age\": \"adult\", \"ethnicity\": \"bipoc\", \"mean-compound\": -0.005781262327416174}, {\"sex\": \"male\", \"age\": \"child\", \"ethnicity\": \"bipoc\", \"mean-compound\": -0.004176725838264299}, {\"sex\": \"female\", \"age\": \"adult\", \"ethnicity\": \"white\", \"mean-compound\": 0.0023239644970414206}, {\"sex\": \"female\", \"age\": \"child\", \"ethnicity\": \"white\", \"mean-compound\": 0.011880473372781069}, {\"sex\": \"male\", \"age\": \"adult\", \"ethnicity\": \"white\", \"mean-compound\": -0.001450788954635108}, {\"sex\": \"male\", \"age\": \"child\", \"ethnicity\": \"white\", \"mean-compound\": -0.008830374753451676}, {\"sex\": \"female\", \"age\": \"adult\", \"ethnicity\": \"bipoc\", \"mean-compound\": 0.015191222879684418}, {\"sex\": \"female\", \"age\": \"child\", \"ethnicity\": \"bipoc\", \"mean-compound\": 0.028268639053254437}, {\"sex\": \"male\", \"age\": \"adult\", \"ethnicity\": \"bipoc\", \"mean-compound\": -0.012468540433925047}, {\"sex\": \"male\", \"age\": \"child\", \"ethnicity\": \"bipoc\", \"mean-compound\": -0.010073076923076919}, {\"sex\": \"female\", \"age\": \"adult\", \"ethnicity\": \"white\", \"mean-compound\": -0.01330335305719921}, {\"sex\": \"female\", \"age\": \"child\", \"ethnicity\": \"white\", \"mean-compound\": -0.0087025641025641}, {\"sex\": \"male\", \"age\": \"adult\", \"ethnicity\": \"white\", \"mean-compound\": -0.006714201183431954}, {\"sex\": \"male\", \"age\": \"child\", \"ethnicity\": \"white\", \"mean-compound\": -0.0026187376725838258}]}}, {\"mode\": \"vega-lite\"});\n",
       "</script>"
      ],
      "text/plain": [
       "alt.Chart(...)"
      ]
     },
     "execution_count": 241,
     "metadata": {},
     "output_type": "execute_result"
    }
   ],
   "source": [
    "source = reg_free\n",
    "alt.Chart(source).mark_area(\n",
    "    opacity=0.5,\n",
    "    interpolate='step'\n",
    ").encode(\n",
    "    alt.X('mean-compound:Q', bin=alt.Bin(maxbins=30)),\n",
    "    alt.Y('count()',  stack=None),\n",
    "    alt.Color('age'))"
   ]
  },
  {
   "cell_type": "markdown",
   "id": "8e2b95fc-52f0-4e54-8873-bf02aef0d812",
   "metadata": {},
   "source": [
    "## Mean and error bar showing confidence interval"
   ]
  },
  {
   "cell_type": "code",
   "execution_count": 319,
   "id": "3f14eee0-f3d6-4702-b4dc-c0fc1bb948de",
   "metadata": {},
   "outputs": [],
   "source": [
    "reg_free['groups'] = reg_free['ethnicity']+'_'+reg_free['sex']+'_'+reg_free['age']"
   ]
  },
  {
   "cell_type": "code",
   "execution_count": 334,
   "id": "a747397b-0f8a-4bdd-a22a-3b8a4cfed289",
   "metadata": {},
   "outputs": [],
   "source": [
    "error_bars = alt.Chart(reg_free).mark_errorbar(extent='ci').encode(\n",
    "    x=alt.X('mean-compound:Q', scale=alt.Scale(zero=False), title='mean-sentiment'),\n",
    "    y=alt.Y('groups:N'),\n",
    "    color=alt.Color('ethnicity:N')\n",
    "  \n",
    ")\n",
    "\n",
    "points = alt.Chart(reg_free).mark_point(filled=True, color='black').encode(\n",
    "    x=alt.X('mean-compound:Q', aggregate='mean', title='mean-sentiment'),\n",
    "    y=alt.Y('groups:N'),\n",
    "    color=alt.Color('ethnicity:N'))\n",
    "\n",
    "rule = alt.Chart(reg_free).mark_rule(color='red').encode(\n",
    "    x=alt.X('mean-compound:Q', aggregate='mean'))"
   ]
  },
  {
   "cell_type": "code",
   "execution_count": 335,
   "id": "c6468017-de58-410e-8ca6-022b27064dfa",
   "metadata": {},
   "outputs": [
    {
     "data": {
      "text/html": [
       "\n",
       "<div id=\"altair-viz-4c65e08975c04cac9aacae5ff11dbf1e\"></div>\n",
       "<script type=\"text/javascript\">\n",
       "  (function(spec, embedOpt){\n",
       "    let outputDiv = document.currentScript.previousElementSibling;\n",
       "    if (outputDiv.id !== \"altair-viz-4c65e08975c04cac9aacae5ff11dbf1e\") {\n",
       "      outputDiv = document.getElementById(\"altair-viz-4c65e08975c04cac9aacae5ff11dbf1e\");\n",
       "    }\n",
       "    const paths = {\n",
       "      \"vega\": \"https://cdn.jsdelivr.net/npm//vega@5?noext\",\n",
       "      \"vega-lib\": \"https://cdn.jsdelivr.net/npm//vega-lib?noext\",\n",
       "      \"vega-lite\": \"https://cdn.jsdelivr.net/npm//vega-lite@4.8.1?noext\",\n",
       "      \"vega-embed\": \"https://cdn.jsdelivr.net/npm//vega-embed@6?noext\",\n",
       "    };\n",
       "\n",
       "    function loadScript(lib) {\n",
       "      return new Promise(function(resolve, reject) {\n",
       "        var s = document.createElement('script');\n",
       "        s.src = paths[lib];\n",
       "        s.async = true;\n",
       "        s.onload = () => resolve(paths[lib]);\n",
       "        s.onerror = () => reject(`Error loading script: ${paths[lib]}`);\n",
       "        document.getElementsByTagName(\"head\")[0].appendChild(s);\n",
       "      });\n",
       "    }\n",
       "\n",
       "    function showError(err) {\n",
       "      outputDiv.innerHTML = `<div class=\"error\" style=\"color:red;\">${err}</div>`;\n",
       "      throw err;\n",
       "    }\n",
       "\n",
       "    function displayChart(vegaEmbed) {\n",
       "      vegaEmbed(outputDiv, spec, embedOpt)\n",
       "        .catch(err => showError(`Javascript Error: ${err.message}<br>This usually means there's a typo in your chart specification. See the javascript console for the full traceback.`));\n",
       "    }\n",
       "\n",
       "    if(typeof define === \"function\" && define.amd) {\n",
       "      requirejs.config({paths});\n",
       "      require([\"vega-embed\"], displayChart, err => showError(`Error loading script: ${err.message}`));\n",
       "    } else if (typeof vegaEmbed === \"function\") {\n",
       "      displayChart(vegaEmbed);\n",
       "    } else {\n",
       "      loadScript(\"vega\")\n",
       "        .then(() => loadScript(\"vega-lite\"))\n",
       "        .then(() => loadScript(\"vega-embed\"))\n",
       "        .catch(showError)\n",
       "        .then(() => displayChart(vegaEmbed));\n",
       "    }\n",
       "  })({\"config\": {\"view\": {\"continuousWidth\": 400, \"continuousHeight\": 300}}, \"layer\": [{\"mark\": {\"type\": \"errorbar\", \"extent\": \"ci\"}, \"encoding\": {\"color\": {\"type\": \"nominal\", \"field\": \"ethnicity\"}, \"x\": {\"type\": \"quantitative\", \"field\": \"mean-compound\", \"scale\": {\"zero\": false}, \"title\": \"mean-sentiment\"}, \"y\": {\"type\": \"nominal\", \"field\": \"groups\"}}}, {\"mark\": {\"type\": \"point\", \"color\": \"black\", \"filled\": true}, \"encoding\": {\"color\": {\"type\": \"nominal\", \"field\": \"ethnicity\"}, \"x\": {\"type\": \"quantitative\", \"aggregate\": \"mean\", \"field\": \"mean-compound\", \"title\": \"mean-sentiment\"}, \"y\": {\"type\": \"nominal\", \"field\": \"groups\"}}}, {\"mark\": {\"type\": \"rule\", \"color\": \"red\"}, \"encoding\": {\"x\": {\"type\": \"quantitative\", \"aggregate\": \"mean\", \"field\": \"mean-compound\"}}}], \"data\": {\"name\": \"data-c61e5167388f8fc5cb93d219de137cf8\"}, \"$schema\": \"https://vega.github.io/schema/vega-lite/v4.8.1.json\", \"datasets\": {\"data-c61e5167388f8fc5cb93d219de137cf8\": [{\"sex\": \"female\", \"age\": \"adult\", \"ethnicity\": \"bipoc\", \"mean-compound\": -0.008747633136094673, \"groups\": \"bipoc_female_adult\"}, {\"sex\": \"female\", \"age\": \"child\", \"ethnicity\": \"bipoc\", \"mean-compound\": -0.02549072978303747, \"groups\": \"bipoc_female_child\"}, {\"sex\": \"male\", \"age\": \"adult\", \"ethnicity\": \"bipoc\", \"mean-compound\": -0.0313008875739645, \"groups\": \"bipoc_male_adult\"}, {\"sex\": \"male\", \"age\": \"child\", \"ethnicity\": \"bipoc\", \"mean-compound\": -0.02001952662721893, \"groups\": \"bipoc_male_child\"}, {\"sex\": \"female\", \"age\": \"adult\", \"ethnicity\": \"white\", \"mean-compound\": -0.018724753451676523, \"groups\": \"white_female_adult\"}, {\"sex\": \"female\", \"age\": \"child\", \"ethnicity\": \"white\", \"mean-compound\": -0.033768934911242596, \"groups\": \"white_female_child\"}, {\"sex\": \"male\", \"age\": \"adult\", \"ethnicity\": \"white\", \"mean-compound\": -0.016314595660749505, \"groups\": \"white_male_adult\"}, {\"sex\": \"male\", \"age\": \"child\", \"ethnicity\": \"white\", \"mean-compound\": -0.0016985207100591719, \"groups\": \"white_male_child\"}, {\"sex\": \"female\", \"age\": \"adult\", \"ethnicity\": \"bipoc\", \"mean-compound\": -0.016403846153846147, \"groups\": \"bipoc_female_adult\"}, {\"sex\": \"female\", \"age\": \"child\", \"ethnicity\": \"bipoc\", \"mean-compound\": -0.016130473372781066, \"groups\": \"bipoc_female_child\"}, {\"sex\": \"male\", \"age\": \"adult\", \"ethnicity\": \"bipoc\", \"mean-compound\": -0.029880571992110454, \"groups\": \"bipoc_male_adult\"}, {\"sex\": \"male\", \"age\": \"child\", \"ethnicity\": \"bipoc\", \"mean-compound\": -0.012775345167652863, \"groups\": \"bipoc_male_child\"}, {\"sex\": \"female\", \"age\": \"adult\", \"ethnicity\": \"white\", \"mean-compound\": -0.028577317554240624, \"groups\": \"white_female_adult\"}, {\"sex\": \"female\", \"age\": \"child\", \"ethnicity\": \"white\", \"mean-compound\": 0.012955917159763311, \"groups\": \"white_female_child\"}, {\"sex\": \"male\", \"age\": \"adult\", \"ethnicity\": \"white\", \"mean-compound\": -0.022757692307692305, \"groups\": \"white_male_adult\"}, {\"sex\": \"male\", \"age\": \"child\", \"ethnicity\": \"white\", \"mean-compound\": -0.009934023668639054, \"groups\": \"white_male_child\"}, {\"sex\": \"female\", \"age\": \"adult\", \"ethnicity\": \"bipoc\", \"mean-compound\": -0.026855818540433927, \"groups\": \"bipoc_female_adult\"}, {\"sex\": \"female\", \"age\": \"child\", \"ethnicity\": \"bipoc\", \"mean-compound\": -0.01324230769230769, \"groups\": \"bipoc_female_child\"}, {\"sex\": \"male\", \"age\": \"adult\", \"ethnicity\": \"bipoc\", \"mean-compound\": -0.024313313609467455, \"groups\": \"bipoc_male_adult\"}, {\"sex\": \"male\", \"age\": \"child\", \"ethnicity\": \"bipoc\", \"mean-compound\": 0.0010004930966469427, \"groups\": \"bipoc_male_child\"}, {\"sex\": \"female\", \"age\": \"adult\", \"ethnicity\": \"white\", \"mean-compound\": 0.0020549309664694283, \"groups\": \"white_female_adult\"}, {\"sex\": \"female\", \"age\": \"child\", \"ethnicity\": \"white\", \"mean-compound\": -0.035551282051282045, \"groups\": \"white_female_child\"}, {\"sex\": \"male\", \"age\": \"adult\", \"ethnicity\": \"white\", \"mean-compound\": -0.013323372781065086, \"groups\": \"white_male_adult\"}, {\"sex\": \"male\", \"age\": \"child\", \"ethnicity\": \"white\", \"mean-compound\": 0.01319921104536489, \"groups\": \"white_male_child\"}, {\"sex\": \"female\", \"age\": \"adult\", \"ethnicity\": \"bipoc\", \"mean-compound\": 0.015753155818540438, \"groups\": \"bipoc_female_adult\"}, {\"sex\": \"female\", \"age\": \"child\", \"ethnicity\": \"bipoc\", \"mean-compound\": 0.03557189349112425, \"groups\": \"bipoc_female_child\"}, {\"sex\": \"male\", \"age\": \"adult\", \"ethnicity\": \"bipoc\", \"mean-compound\": 0.022919625246548326, \"groups\": \"bipoc_male_adult\"}, {\"sex\": \"male\", \"age\": \"child\", \"ethnicity\": \"bipoc\", \"mean-compound\": 0.03870502958579881, \"groups\": \"bipoc_male_child\"}, {\"sex\": \"female\", \"age\": \"adult\", \"ethnicity\": \"white\", \"mean-compound\": 0.023200098619329385, \"groups\": \"white_female_adult\"}, {\"sex\": \"female\", \"age\": \"child\", \"ethnicity\": \"white\", \"mean-compound\": 0.028451775147928994, \"groups\": \"white_female_child\"}, {\"sex\": \"male\", \"age\": \"adult\", \"ethnicity\": \"white\", \"mean-compound\": 0.03301124260355028, \"groups\": \"white_male_adult\"}, {\"sex\": \"male\", \"age\": \"child\", \"ethnicity\": \"white\", \"mean-compound\": 0.03450739644970414, \"groups\": \"white_male_child\"}, {\"sex\": \"female\", \"age\": \"adult\", \"ethnicity\": \"bipoc\", \"mean-compound\": -0.010173471400394473, \"groups\": \"bipoc_female_adult\"}, {\"sex\": \"female\", \"age\": \"child\", \"ethnicity\": \"bipoc\", \"mean-compound\": 0.017706607495069037, \"groups\": \"bipoc_female_child\"}, {\"sex\": \"male\", \"age\": \"adult\", \"ethnicity\": \"bipoc\", \"mean-compound\": -0.014393589743589742, \"groups\": \"bipoc_male_adult\"}, {\"sex\": \"male\", \"age\": \"child\", \"ethnicity\": \"bipoc\", \"mean-compound\": -0.002962130177514793, \"groups\": \"bipoc_male_child\"}, {\"sex\": \"female\", \"age\": \"adult\", \"ethnicity\": \"white\", \"mean-compound\": -0.014680670611439841, \"groups\": \"white_female_adult\"}, {\"sex\": \"female\", \"age\": \"child\", \"ethnicity\": \"white\", \"mean-compound\": -0.00891597633136095, \"groups\": \"white_female_child\"}, {\"sex\": \"male\", \"age\": \"adult\", \"ethnicity\": \"white\", \"mean-compound\": -0.010829191321499013, \"groups\": \"white_male_adult\"}, {\"sex\": \"male\", \"age\": \"child\", \"ethnicity\": \"white\", \"mean-compound\": 0.0007467455621301772, \"groups\": \"white_male_child\"}, {\"sex\": \"female\", \"age\": \"adult\", \"ethnicity\": \"bipoc\", \"mean-compound\": -0.030966173570019722, \"groups\": \"bipoc_female_adult\"}, {\"sex\": \"female\", \"age\": \"child\", \"ethnicity\": \"bipoc\", \"mean-compound\": -0.03799102564102562, \"groups\": \"bipoc_female_child\"}, {\"sex\": \"male\", \"age\": \"adult\", \"ethnicity\": \"bipoc\", \"mean-compound\": -0.034220019723865874, \"groups\": \"bipoc_male_adult\"}, {\"sex\": \"male\", \"age\": \"child\", \"ethnicity\": \"bipoc\", \"mean-compound\": -0.0355275147928994, \"groups\": \"bipoc_male_child\"}, {\"sex\": \"female\", \"age\": \"adult\", \"ethnicity\": \"white\", \"mean-compound\": -0.03639408284023669, \"groups\": \"white_female_adult\"}, {\"sex\": \"female\", \"age\": \"child\", \"ethnicity\": \"white\", \"mean-compound\": -0.03330897435897436, \"groups\": \"white_female_child\"}, {\"sex\": \"male\", \"age\": \"adult\", \"ethnicity\": \"white\", \"mean-compound\": -0.013067455621301774, \"groups\": \"white_male_adult\"}, {\"sex\": \"male\", \"age\": \"child\", \"ethnicity\": \"white\", \"mean-compound\": -0.034722682445759365, \"groups\": \"white_male_child\"}, {\"sex\": \"female\", \"age\": \"adult\", \"ethnicity\": \"bipoc\", \"mean-compound\": 0.009444378698224853, \"groups\": \"bipoc_female_adult\"}, {\"sex\": \"female\", \"age\": \"child\", \"ethnicity\": \"bipoc\", \"mean-compound\": 0.005420710059171599, \"groups\": \"bipoc_female_child\"}, {\"sex\": \"male\", \"age\": \"adult\", \"ethnicity\": \"bipoc\", \"mean-compound\": -0.0027621301775147926, \"groups\": \"bipoc_male_adult\"}, {\"sex\": \"male\", \"age\": \"child\", \"ethnicity\": \"bipoc\", \"mean-compound\": 0.023407396449704142, \"groups\": \"bipoc_male_child\"}, {\"sex\": \"female\", \"age\": \"adult\", \"ethnicity\": \"white\", \"mean-compound\": 0.004577810650887575, \"groups\": \"white_female_adult\"}, {\"sex\": \"female\", \"age\": \"child\", \"ethnicity\": \"white\", \"mean-compound\": 0.007907199211045364, \"groups\": \"white_female_child\"}, {\"sex\": \"male\", \"age\": \"adult\", \"ethnicity\": \"white\", \"mean-compound\": -0.003976232741617356, \"groups\": \"white_male_adult\"}, {\"sex\": \"male\", \"age\": \"child\", \"ethnicity\": \"white\", \"mean-compound\": 0.0052857001972386585, \"groups\": \"white_male_child\"}, {\"sex\": \"female\", \"age\": \"adult\", \"ethnicity\": \"bipoc\", \"mean-compound\": 0.013749802761341225, \"groups\": \"bipoc_female_adult\"}, {\"sex\": \"female\", \"age\": \"child\", \"ethnicity\": \"bipoc\", \"mean-compound\": -0.011958974358974354, \"groups\": \"bipoc_female_child\"}, {\"sex\": \"male\", \"age\": \"adult\", \"ethnicity\": \"bipoc\", \"mean-compound\": 0.007219822485207102, \"groups\": \"bipoc_male_adult\"}, {\"sex\": \"male\", \"age\": \"child\", \"ethnicity\": \"bipoc\", \"mean-compound\": -0.0007533530571992109, \"groups\": \"bipoc_male_child\"}, {\"sex\": \"female\", \"age\": \"adult\", \"ethnicity\": \"white\", \"mean-compound\": -0.010753944773175542, \"groups\": \"white_female_adult\"}, {\"sex\": \"female\", \"age\": \"child\", \"ethnicity\": \"white\", \"mean-compound\": -0.01621134122287969, \"groups\": \"white_female_child\"}, {\"sex\": \"male\", \"age\": \"adult\", \"ethnicity\": \"white\", \"mean-compound\": -0.003942800788954635, \"groups\": \"white_male_adult\"}, {\"sex\": \"male\", \"age\": \"child\", \"ethnicity\": \"white\", \"mean-compound\": -0.0046469428007889545, \"groups\": \"white_male_child\"}, {\"sex\": \"female\", \"age\": \"adult\", \"ethnicity\": \"bipoc\", \"mean-compound\": -0.03275522682445759, \"groups\": \"bipoc_female_adult\"}, {\"sex\": \"female\", \"age\": \"child\", \"ethnicity\": \"bipoc\", \"mean-compound\": -0.02264822485207101, \"groups\": \"bipoc_female_child\"}, {\"sex\": \"male\", \"age\": \"adult\", \"ethnicity\": \"bipoc\", \"mean-compound\": -0.015204043392504928, \"groups\": \"bipoc_male_adult\"}, {\"sex\": \"male\", \"age\": \"child\", \"ethnicity\": \"bipoc\", \"mean-compound\": -0.031069625246548327, \"groups\": \"bipoc_male_child\"}, {\"sex\": \"female\", \"age\": \"adult\", \"ethnicity\": \"white\", \"mean-compound\": -0.023245562130177515, \"groups\": \"white_female_adult\"}, {\"sex\": \"female\", \"age\": \"child\", \"ethnicity\": \"white\", \"mean-compound\": -0.018528895463510844, \"groups\": \"white_female_child\"}, {\"sex\": \"male\", \"age\": \"adult\", \"ethnicity\": \"white\", \"mean-compound\": -0.029643491124260356, \"groups\": \"white_male_adult\"}, {\"sex\": \"male\", \"age\": \"child\", \"ethnicity\": \"white\", \"mean-compound\": -0.02722524654832348, \"groups\": \"white_male_child\"}, {\"sex\": \"female\", \"age\": \"adult\", \"ethnicity\": \"bipoc\", \"mean-compound\": -0.021694773175542404, \"groups\": \"bipoc_female_adult\"}, {\"sex\": \"female\", \"age\": \"child\", \"ethnicity\": \"bipoc\", \"mean-compound\": -0.018174753451676535, \"groups\": \"bipoc_female_child\"}, {\"sex\": \"male\", \"age\": \"adult\", \"ethnicity\": \"bipoc\", \"mean-compound\": -0.023599704142011832, \"groups\": \"bipoc_male_adult\"}, {\"sex\": \"male\", \"age\": \"child\", \"ethnicity\": \"bipoc\", \"mean-compound\": -0.03311005917159763, \"groups\": \"bipoc_male_child\"}, {\"sex\": \"female\", \"age\": \"adult\", \"ethnicity\": \"white\", \"mean-compound\": -0.01891725838264299, \"groups\": \"white_female_adult\"}, {\"sex\": \"female\", \"age\": \"child\", \"ethnicity\": \"white\", \"mean-compound\": -0.005935798816568048, \"groups\": \"white_female_child\"}, {\"sex\": \"male\", \"age\": \"adult\", \"ethnicity\": \"white\", \"mean-compound\": -0.028822879684418143, \"groups\": \"white_male_adult\"}, {\"sex\": \"male\", \"age\": \"child\", \"ethnicity\": \"white\", \"mean-compound\": -0.025326331360946752, \"groups\": \"white_male_child\"}, {\"sex\": \"female\", \"age\": \"adult\", \"ethnicity\": \"bipoc\", \"mean-compound\": -0.025413116370808682, \"groups\": \"bipoc_female_adult\"}, {\"sex\": \"female\", \"age\": \"child\", \"ethnicity\": \"bipoc\", \"mean-compound\": -0.03544270216962525, \"groups\": \"bipoc_female_child\"}, {\"sex\": \"male\", \"age\": \"adult\", \"ethnicity\": \"bipoc\", \"mean-compound\": -0.017075147928994082, \"groups\": \"bipoc_male_adult\"}, {\"sex\": \"male\", \"age\": \"child\", \"ethnicity\": \"bipoc\", \"mean-compound\": -0.014854142011834314, \"groups\": \"bipoc_male_child\"}, {\"sex\": \"female\", \"age\": \"adult\", \"ethnicity\": \"white\", \"mean-compound\": 0.0018651873767258384, \"groups\": \"white_female_adult\"}, {\"sex\": \"female\", \"age\": \"child\", \"ethnicity\": \"white\", \"mean-compound\": -0.000674950690335306, \"groups\": \"white_female_child\"}, {\"sex\": \"male\", \"age\": \"adult\", \"ethnicity\": \"white\", \"mean-compound\": -0.018303550295857982, \"groups\": \"white_male_adult\"}, {\"sex\": \"male\", \"age\": \"child\", \"ethnicity\": \"white\", \"mean-compound\": -0.025246548323471403, \"groups\": \"white_male_child\"}, {\"sex\": \"female\", \"age\": \"adult\", \"ethnicity\": \"bipoc\", \"mean-compound\": 0.027084812623274168, \"groups\": \"bipoc_female_adult\"}, {\"sex\": \"female\", \"age\": \"child\", \"ethnicity\": \"bipoc\", \"mean-compound\": 0.025308579881656804, \"groups\": \"bipoc_female_child\"}, {\"sex\": \"male\", \"age\": \"adult\", \"ethnicity\": \"bipoc\", \"mean-compound\": 0.02874940828402367, \"groups\": \"bipoc_male_adult\"}, {\"sex\": \"male\", \"age\": \"child\", \"ethnicity\": \"bipoc\", \"mean-compound\": 0.02463510848126233, \"groups\": \"bipoc_male_child\"}, {\"sex\": \"female\", \"age\": \"adult\", \"ethnicity\": \"white\", \"mean-compound\": 0.017706213017751483, \"groups\": \"white_female_adult\"}, {\"sex\": \"female\", \"age\": \"child\", \"ethnicity\": \"white\", \"mean-compound\": 0.022994773175542403, \"groups\": \"white_female_child\"}, {\"sex\": \"male\", \"age\": \"adult\", \"ethnicity\": \"white\", \"mean-compound\": 0.026115483234714004, \"groups\": \"white_male_adult\"}, {\"sex\": \"male\", \"age\": \"child\", \"ethnicity\": \"white\", \"mean-compound\": 0.029344082840236686, \"groups\": \"white_male_child\"}, {\"sex\": \"female\", \"age\": \"adult\", \"ethnicity\": \"bipoc\", \"mean-compound\": -0.01994506903353057, \"groups\": \"bipoc_female_adult\"}, {\"sex\": \"female\", \"age\": \"child\", \"ethnicity\": \"bipoc\", \"mean-compound\": 0.0017857001972386589, \"groups\": \"bipoc_female_child\"}, {\"sex\": \"male\", \"age\": \"adult\", \"ethnicity\": \"bipoc\", \"mean-compound\": -0.01173372781065089, \"groups\": \"bipoc_male_adult\"}, {\"sex\": \"male\", \"age\": \"child\", \"ethnicity\": \"bipoc\", \"mean-compound\": -0.004904240631163708, \"groups\": \"bipoc_male_child\"}, {\"sex\": \"female\", \"age\": \"adult\", \"ethnicity\": \"white\", \"mean-compound\": -0.00919457593688363, \"groups\": \"white_female_adult\"}, {\"sex\": \"female\", \"age\": \"child\", \"ethnicity\": \"white\", \"mean-compound\": -0.011681065088757393, \"groups\": \"white_female_child\"}, {\"sex\": \"male\", \"age\": \"adult\", \"ethnicity\": \"white\", \"mean-compound\": -0.001452169625246548, \"groups\": \"white_male_adult\"}, {\"sex\": \"male\", \"age\": \"child\", \"ethnicity\": \"white\", \"mean-compound\": -0.006883136094674557, \"groups\": \"white_male_child\"}, {\"sex\": \"female\", \"age\": \"adult\", \"ethnicity\": \"bipoc\", \"mean-compound\": -0.030022386587771205, \"groups\": \"bipoc_female_adult\"}, {\"sex\": \"female\", \"age\": \"child\", \"ethnicity\": \"bipoc\", \"mean-compound\": -0.0331129191321499, \"groups\": \"bipoc_female_child\"}, {\"sex\": \"male\", \"age\": \"adult\", \"ethnicity\": \"bipoc\", \"mean-compound\": -0.03693727810650887, \"groups\": \"bipoc_male_adult\"}, {\"sex\": \"male\", \"age\": \"child\", \"ethnicity\": \"bipoc\", \"mean-compound\": -0.03637672583826431, \"groups\": \"bipoc_male_child\"}, {\"sex\": \"female\", \"age\": \"adult\", \"ethnicity\": \"white\", \"mean-compound\": -0.030374556213017753, \"groups\": \"white_female_adult\"}, {\"sex\": \"female\", \"age\": \"child\", \"ethnicity\": \"white\", \"mean-compound\": -0.031665088757396445, \"groups\": \"white_female_child\"}, {\"sex\": \"male\", \"age\": \"adult\", \"ethnicity\": \"white\", \"mean-compound\": -0.02114625246548323, \"groups\": \"white_male_adult\"}, {\"sex\": \"male\", \"age\": \"child\", \"ethnicity\": \"white\", \"mean-compound\": -0.03477869822485208, \"groups\": \"white_male_child\"}, {\"sex\": \"female\", \"age\": \"adult\", \"ethnicity\": \"bipoc\", \"mean-compound\": 0.026019329388560157, \"groups\": \"bipoc_female_adult\"}, {\"sex\": \"female\", \"age\": \"child\", \"ethnicity\": \"bipoc\", \"mean-compound\": -0.006793885601577909, \"groups\": \"bipoc_female_child\"}, {\"sex\": \"male\", \"age\": \"adult\", \"ethnicity\": \"bipoc\", \"mean-compound\": -0.01564615384615384, \"groups\": \"bipoc_male_adult\"}, {\"sex\": \"male\", \"age\": \"child\", \"ethnicity\": \"bipoc\", \"mean-compound\": 0.0016118343195266256, \"groups\": \"bipoc_male_child\"}, {\"sex\": \"female\", \"age\": \"adult\", \"ethnicity\": \"white\", \"mean-compound\": 0.002460650887573965, \"groups\": \"white_female_adult\"}, {\"sex\": \"female\", \"age\": \"child\", \"ethnicity\": \"white\", \"mean-compound\": -0.007056213017751479, \"groups\": \"white_female_child\"}, {\"sex\": \"male\", \"age\": \"adult\", \"ethnicity\": \"white\", \"mean-compound\": -0.00775207100591716, \"groups\": \"white_male_adult\"}, {\"sex\": \"male\", \"age\": \"child\", \"ethnicity\": \"white\", \"mean-compound\": -0.0018582840236686395, \"groups\": \"white_male_child\"}, {\"sex\": \"female\", \"age\": \"adult\", \"ethnicity\": \"bipoc\", \"mean-compound\": 0.003134714003944773, \"groups\": \"bipoc_female_adult\"}, {\"sex\": \"female\", \"age\": \"child\", \"ethnicity\": \"bipoc\", \"mean-compound\": 0.0063704142011834315, \"groups\": \"bipoc_female_child\"}, {\"sex\": \"male\", \"age\": \"adult\", \"ethnicity\": \"bipoc\", \"mean-compound\": 0.009494378698224854, \"groups\": \"bipoc_male_adult\"}, {\"sex\": \"male\", \"age\": \"child\", \"ethnicity\": \"bipoc\", \"mean-compound\": -0.015946055226824452, \"groups\": \"bipoc_male_child\"}, {\"sex\": \"female\", \"age\": \"adult\", \"ethnicity\": \"white\", \"mean-compound\": -0.0030445759368836296, \"groups\": \"white_female_adult\"}, {\"sex\": \"female\", \"age\": \"child\", \"ethnicity\": \"white\", \"mean-compound\": -0.0034034516765285984, \"groups\": \"white_female_child\"}, {\"sex\": \"male\", \"age\": \"adult\", \"ethnicity\": \"white\", \"mean-compound\": -0.011529684418145954, \"groups\": \"white_male_adult\"}, {\"sex\": \"male\", \"age\": \"child\", \"ethnicity\": \"white\", \"mean-compound\": 0.01874230769230769, \"groups\": \"white_male_child\"}, {\"sex\": \"female\", \"age\": \"adult\", \"ethnicity\": \"bipoc\", \"mean-compound\": -0.015871005917159762, \"groups\": \"bipoc_female_adult\"}, {\"sex\": \"female\", \"age\": \"child\", \"ethnicity\": \"bipoc\", \"mean-compound\": -0.026360157790927013, \"groups\": \"bipoc_female_child\"}, {\"sex\": \"male\", \"age\": \"adult\", \"ethnicity\": \"bipoc\", \"mean-compound\": -0.020779487179487174, \"groups\": \"bipoc_male_adult\"}, {\"sex\": \"male\", \"age\": \"child\", \"ethnicity\": \"bipoc\", \"mean-compound\": -0.02059644970414202, \"groups\": \"bipoc_male_child\"}, {\"sex\": \"female\", \"age\": \"adult\", \"ethnicity\": \"white\", \"mean-compound\": -0.017448717948717943, \"groups\": \"white_female_adult\"}, {\"sex\": \"female\", \"age\": \"child\", \"ethnicity\": \"white\", \"mean-compound\": -0.025974852071005916, \"groups\": \"white_female_child\"}, {\"sex\": \"male\", \"age\": \"adult\", \"ethnicity\": \"white\", \"mean-compound\": -0.008871005917159763, \"groups\": \"white_male_adult\"}, {\"sex\": \"male\", \"age\": \"child\", \"ethnicity\": \"white\", \"mean-compound\": -0.022212031558185408, \"groups\": \"white_male_child\"}, {\"sex\": \"female\", \"age\": \"adult\", \"ethnicity\": \"bipoc\", \"mean-compound\": -0.022634615384615378, \"groups\": \"bipoc_female_adult\"}, {\"sex\": \"female\", \"age\": \"child\", \"ethnicity\": \"bipoc\", \"mean-compound\": 0.0015851084812623269, \"groups\": \"bipoc_female_child\"}, {\"sex\": \"male\", \"age\": \"adult\", \"ethnicity\": \"bipoc\", \"mean-compound\": -0.02050009861932939, \"groups\": \"bipoc_male_adult\"}, {\"sex\": \"male\", \"age\": \"child\", \"ethnicity\": \"bipoc\", \"mean-compound\": -0.018198323471400397, \"groups\": \"bipoc_male_child\"}, {\"sex\": \"female\", \"age\": \"adult\", \"ethnicity\": \"white\", \"mean-compound\": -0.002881360946745561, \"groups\": \"white_female_adult\"}, {\"sex\": \"female\", \"age\": \"child\", \"ethnicity\": \"white\", \"mean-compound\": -0.015401084812623271, \"groups\": \"white_female_child\"}, {\"sex\": \"male\", \"age\": \"adult\", \"ethnicity\": \"white\", \"mean-compound\": -0.024409664694280072, \"groups\": \"white_male_adult\"}, {\"sex\": \"male\", \"age\": \"child\", \"ethnicity\": \"white\", \"mean-compound\": -0.027749309664694275, \"groups\": \"white_male_child\"}, {\"sex\": \"female\", \"age\": \"adult\", \"ethnicity\": \"bipoc\", \"mean-compound\": -0.025605226824457598, \"groups\": \"bipoc_female_adult\"}, {\"sex\": \"female\", \"age\": \"child\", \"ethnicity\": \"bipoc\", \"mean-compound\": -0.00662938856015779, \"groups\": \"bipoc_female_child\"}, {\"sex\": \"male\", \"age\": \"adult\", \"ethnicity\": \"bipoc\", \"mean-compound\": -0.022682445759368827, \"groups\": \"bipoc_male_adult\"}, {\"sex\": \"male\", \"age\": \"child\", \"ethnicity\": \"bipoc\", \"mean-compound\": -0.030157199211045368, \"groups\": \"bipoc_male_child\"}, {\"sex\": \"female\", \"age\": \"adult\", \"ethnicity\": \"white\", \"mean-compound\": -0.02211429980276134, \"groups\": \"white_female_adult\"}, {\"sex\": \"female\", \"age\": \"child\", \"ethnicity\": \"white\", \"mean-compound\": -0.007322287968441816, \"groups\": \"white_female_child\"}, {\"sex\": \"male\", \"age\": \"adult\", \"ethnicity\": \"white\", \"mean-compound\": -0.005232544378698225, \"groups\": \"white_male_adult\"}, {\"sex\": \"male\", \"age\": \"child\", \"ethnicity\": \"white\", \"mean-compound\": -0.013336094674556213, \"groups\": \"white_male_child\"}, {\"sex\": \"female\", \"age\": \"adult\", \"ethnicity\": \"bipoc\", \"mean-compound\": 0.022737968441814596, \"groups\": \"bipoc_female_adult\"}, {\"sex\": \"female\", \"age\": \"child\", \"ethnicity\": \"bipoc\", \"mean-compound\": 0.016025443786982247, \"groups\": \"bipoc_female_child\"}, {\"sex\": \"male\", \"age\": \"adult\", \"ethnicity\": \"bipoc\", \"mean-compound\": 0.023601873767258384, \"groups\": \"bipoc_male_adult\"}, {\"sex\": \"male\", \"age\": \"child\", \"ethnicity\": \"bipoc\", \"mean-compound\": 0.03115236686390533, \"groups\": \"bipoc_male_child\"}, {\"sex\": \"female\", \"age\": \"adult\", \"ethnicity\": \"white\", \"mean-compound\": 0.025416666666666667, \"groups\": \"white_female_adult\"}, {\"sex\": \"female\", \"age\": \"child\", \"ethnicity\": \"white\", \"mean-compound\": 0.02829526627218935, \"groups\": \"white_female_child\"}, {\"sex\": \"male\", \"age\": \"adult\", \"ethnicity\": \"white\", \"mean-compound\": 0.02915039447731756, \"groups\": \"white_male_adult\"}, {\"sex\": \"male\", \"age\": \"child\", \"ethnicity\": \"white\", \"mean-compound\": 0.025416173570019726, \"groups\": \"white_male_child\"}, {\"sex\": \"female\", \"age\": \"adult\", \"ethnicity\": \"bipoc\", \"mean-compound\": -0.0007160749506903354, \"groups\": \"bipoc_female_adult\"}, {\"sex\": \"female\", \"age\": \"child\", \"ethnicity\": \"bipoc\", \"mean-compound\": 0.009143491124260354, \"groups\": \"bipoc_female_child\"}, {\"sex\": \"male\", \"age\": \"adult\", \"ethnicity\": \"bipoc\", \"mean-compound\": -0.011885009861932938, \"groups\": \"bipoc_male_adult\"}, {\"sex\": \"male\", \"age\": \"child\", \"ethnicity\": \"bipoc\", \"mean-compound\": -0.0046637080867850105, \"groups\": \"bipoc_male_child\"}, {\"sex\": \"female\", \"age\": \"adult\", \"ethnicity\": \"white\", \"mean-compound\": 0.010230078895463509, \"groups\": \"white_female_adult\"}, {\"sex\": \"female\", \"age\": \"child\", \"ethnicity\": \"white\", \"mean-compound\": 0.002078205128205128, \"groups\": \"white_female_child\"}, {\"sex\": \"male\", \"age\": \"adult\", \"ethnicity\": \"white\", \"mean-compound\": -0.0001225838264299807, \"groups\": \"white_male_adult\"}, {\"sex\": \"male\", \"age\": \"child\", \"ethnicity\": \"white\", \"mean-compound\": -0.004396153846153847, \"groups\": \"white_male_child\"}, {\"sex\": \"female\", \"age\": \"adult\", \"ethnicity\": \"bipoc\", \"mean-compound\": -0.024257790927021697, \"groups\": \"bipoc_female_adult\"}, {\"sex\": \"female\", \"age\": \"child\", \"ethnicity\": \"bipoc\", \"mean-compound\": -0.01885917159763314, \"groups\": \"bipoc_female_child\"}, {\"sex\": \"male\", \"age\": \"adult\", \"ethnicity\": \"bipoc\", \"mean-compound\": -0.03530562130177514, \"groups\": \"bipoc_male_adult\"}, {\"sex\": \"male\", \"age\": \"child\", \"ethnicity\": \"bipoc\", \"mean-compound\": -0.016960848126232744, \"groups\": \"bipoc_male_child\"}, {\"sex\": \"female\", \"age\": \"adult\", \"ethnicity\": \"white\", \"mean-compound\": -0.02965226824457593, \"groups\": \"white_female_adult\"}, {\"sex\": \"female\", \"age\": \"child\", \"ethnicity\": \"white\", \"mean-compound\": -0.018451183431952668, \"groups\": \"white_female_child\"}, {\"sex\": \"male\", \"age\": \"adult\", \"ethnicity\": \"white\", \"mean-compound\": -0.012365976331360945, \"groups\": \"white_male_adult\"}, {\"sex\": \"male\", \"age\": \"child\", \"ethnicity\": \"white\", \"mean-compound\": -0.031171893491124265, \"groups\": \"white_male_child\"}, {\"sex\": \"female\", \"age\": \"adult\", \"ethnicity\": \"bipoc\", \"mean-compound\": -0.0008040433925049305, \"groups\": \"bipoc_female_adult\"}, {\"sex\": \"female\", \"age\": \"child\", \"ethnicity\": \"bipoc\", \"mean-compound\": 0.02692041420118343, \"groups\": \"bipoc_female_child\"}, {\"sex\": \"male\", \"age\": \"adult\", \"ethnicity\": \"bipoc\", \"mean-compound\": -0.005781262327416174, \"groups\": \"bipoc_male_adult\"}, {\"sex\": \"male\", \"age\": \"child\", \"ethnicity\": \"bipoc\", \"mean-compound\": -0.004176725838264299, \"groups\": \"bipoc_male_child\"}, {\"sex\": \"female\", \"age\": \"adult\", \"ethnicity\": \"white\", \"mean-compound\": 0.0023239644970414206, \"groups\": \"white_female_adult\"}, {\"sex\": \"female\", \"age\": \"child\", \"ethnicity\": \"white\", \"mean-compound\": 0.011880473372781069, \"groups\": \"white_female_child\"}, {\"sex\": \"male\", \"age\": \"adult\", \"ethnicity\": \"white\", \"mean-compound\": -0.001450788954635108, \"groups\": \"white_male_adult\"}, {\"sex\": \"male\", \"age\": \"child\", \"ethnicity\": \"white\", \"mean-compound\": -0.008830374753451676, \"groups\": \"white_male_child\"}, {\"sex\": \"female\", \"age\": \"adult\", \"ethnicity\": \"bipoc\", \"mean-compound\": 0.015191222879684418, \"groups\": \"bipoc_female_adult\"}, {\"sex\": \"female\", \"age\": \"child\", \"ethnicity\": \"bipoc\", \"mean-compound\": 0.028268639053254437, \"groups\": \"bipoc_female_child\"}, {\"sex\": \"male\", \"age\": \"adult\", \"ethnicity\": \"bipoc\", \"mean-compound\": -0.012468540433925047, \"groups\": \"bipoc_male_adult\"}, {\"sex\": \"male\", \"age\": \"child\", \"ethnicity\": \"bipoc\", \"mean-compound\": -0.010073076923076919, \"groups\": \"bipoc_male_child\"}, {\"sex\": \"female\", \"age\": \"adult\", \"ethnicity\": \"white\", \"mean-compound\": -0.01330335305719921, \"groups\": \"white_female_adult\"}, {\"sex\": \"female\", \"age\": \"child\", \"ethnicity\": \"white\", \"mean-compound\": -0.0087025641025641, \"groups\": \"white_female_child\"}, {\"sex\": \"male\", \"age\": \"adult\", \"ethnicity\": \"white\", \"mean-compound\": -0.006714201183431954, \"groups\": \"white_male_adult\"}, {\"sex\": \"male\", \"age\": \"child\", \"ethnicity\": \"white\", \"mean-compound\": -0.0026187376725838258, \"groups\": \"white_male_child\"}]}}, {\"mode\": \"vega-lite\"});\n",
       "</script>"
      ],
      "text/plain": [
       "alt.LayerChart(...)"
      ]
     },
     "execution_count": 335,
     "metadata": {},
     "output_type": "execute_result"
    }
   ],
   "source": [
    "(error_bars + points + rule)"
   ]
  },
  {
   "cell_type": "markdown",
   "id": "8c14253e-29b5-4c43-8c9a-a14353f063bd",
   "metadata": {},
   "source": [
    "## Model"
   ]
  },
  {
   "cell_type": "code",
   "execution_count": 367,
   "id": "93dab50a-f5d9-479e-b567-3e88879dc3a2",
   "metadata": {},
   "outputs": [],
   "source": [
    "import statsmodels.api as sm\n",
    "from statsmodels.formula.api import ols\n",
    "from statsmodels.graphics.api import interaction_plot, abline_plot\n",
    "from statsmodels.stats.anova import anova_lm"
   ]
  },
  {
   "cell_type": "code",
   "execution_count": 372,
   "id": "fcb46eea-4f5f-4643-9247-b5b96e840225",
   "metadata": {},
   "outputs": [],
   "source": [
    "# center independent variables\n",
    "reg_free['sexC'] = reg_free['sex'].replace({'female': -0.5, 'male': 0.5})\n",
    "reg_free['ageC'] = reg_free['age'].replace({'child': -0.5, 'adult': 0.5})\n",
    "reg_free['ethnicityC'] = reg_free['ethnicity'].replace({'bipoc': -0.5, 'white': 0.5})"
   ]
  },
  {
   "cell_type": "code",
   "execution_count": 375,
   "id": "74ab1152-2d3d-49c9-a461-4254efdc825f",
   "metadata": {},
   "outputs": [],
   "source": [
    "reg_free_r = reg_free.rename(columns={\"mean-compound\": \"sentiment\" })"
   ]
  },
  {
   "cell_type": "code",
   "execution_count": 376,
   "id": "cf6ccf80-31c0-48c8-85f6-d0cb773fa063",
   "metadata": {},
   "outputs": [
    {
     "data": {
      "text/html": [
       "<div>\n",
       "<style scoped>\n",
       "    .dataframe tbody tr th:only-of-type {\n",
       "        vertical-align: middle;\n",
       "    }\n",
       "\n",
       "    .dataframe tbody tr th {\n",
       "        vertical-align: top;\n",
       "    }\n",
       "\n",
       "    .dataframe thead th {\n",
       "        text-align: right;\n",
       "    }\n",
       "</style>\n",
       "<table border=\"1\" class=\"dataframe\">\n",
       "  <thead>\n",
       "    <tr style=\"text-align: right;\">\n",
       "      <th></th>\n",
       "      <th>sex</th>\n",
       "      <th>age</th>\n",
       "      <th>ethnicity</th>\n",
       "      <th>sentiment</th>\n",
       "      <th>groups</th>\n",
       "      <th>sexC</th>\n",
       "      <th>ageC</th>\n",
       "      <th>ethnicityC</th>\n",
       "    </tr>\n",
       "  </thead>\n",
       "  <tbody>\n",
       "    <tr>\n",
       "      <th>0</th>\n",
       "      <td>female</td>\n",
       "      <td>adult</td>\n",
       "      <td>bipoc</td>\n",
       "      <td>-0.008748</td>\n",
       "      <td>bipoc_female_adult</td>\n",
       "      <td>-0.5</td>\n",
       "      <td>0.5</td>\n",
       "      <td>-0.5</td>\n",
       "    </tr>\n",
       "    <tr>\n",
       "      <th>1</th>\n",
       "      <td>female</td>\n",
       "      <td>child</td>\n",
       "      <td>bipoc</td>\n",
       "      <td>-0.025491</td>\n",
       "      <td>bipoc_female_child</td>\n",
       "      <td>-0.5</td>\n",
       "      <td>-0.5</td>\n",
       "      <td>-0.5</td>\n",
       "    </tr>\n",
       "    <tr>\n",
       "      <th>2</th>\n",
       "      <td>male</td>\n",
       "      <td>adult</td>\n",
       "      <td>bipoc</td>\n",
       "      <td>-0.031301</td>\n",
       "      <td>bipoc_male_adult</td>\n",
       "      <td>0.5</td>\n",
       "      <td>0.5</td>\n",
       "      <td>-0.5</td>\n",
       "    </tr>\n",
       "    <tr>\n",
       "      <th>3</th>\n",
       "      <td>male</td>\n",
       "      <td>child</td>\n",
       "      <td>bipoc</td>\n",
       "      <td>-0.020020</td>\n",
       "      <td>bipoc_male_child</td>\n",
       "      <td>0.5</td>\n",
       "      <td>-0.5</td>\n",
       "      <td>-0.5</td>\n",
       "    </tr>\n",
       "    <tr>\n",
       "      <th>4</th>\n",
       "      <td>female</td>\n",
       "      <td>adult</td>\n",
       "      <td>white</td>\n",
       "      <td>-0.018725</td>\n",
       "      <td>white_female_adult</td>\n",
       "      <td>-0.5</td>\n",
       "      <td>0.5</td>\n",
       "      <td>0.5</td>\n",
       "    </tr>\n",
       "    <tr>\n",
       "      <th>...</th>\n",
       "      <td>...</td>\n",
       "      <td>...</td>\n",
       "      <td>...</td>\n",
       "      <td>...</td>\n",
       "      <td>...</td>\n",
       "      <td>...</td>\n",
       "      <td>...</td>\n",
       "      <td>...</td>\n",
       "    </tr>\n",
       "    <tr>\n",
       "      <th>189</th>\n",
       "      <td>male</td>\n",
       "      <td>child</td>\n",
       "      <td>bipoc</td>\n",
       "      <td>-0.010073</td>\n",
       "      <td>bipoc_male_child</td>\n",
       "      <td>0.5</td>\n",
       "      <td>-0.5</td>\n",
       "      <td>-0.5</td>\n",
       "    </tr>\n",
       "    <tr>\n",
       "      <th>190</th>\n",
       "      <td>female</td>\n",
       "      <td>adult</td>\n",
       "      <td>white</td>\n",
       "      <td>-0.013303</td>\n",
       "      <td>white_female_adult</td>\n",
       "      <td>-0.5</td>\n",
       "      <td>0.5</td>\n",
       "      <td>0.5</td>\n",
       "    </tr>\n",
       "    <tr>\n",
       "      <th>191</th>\n",
       "      <td>female</td>\n",
       "      <td>child</td>\n",
       "      <td>white</td>\n",
       "      <td>-0.008703</td>\n",
       "      <td>white_female_child</td>\n",
       "      <td>-0.5</td>\n",
       "      <td>-0.5</td>\n",
       "      <td>0.5</td>\n",
       "    </tr>\n",
       "    <tr>\n",
       "      <th>192</th>\n",
       "      <td>male</td>\n",
       "      <td>adult</td>\n",
       "      <td>white</td>\n",
       "      <td>-0.006714</td>\n",
       "      <td>white_male_adult</td>\n",
       "      <td>0.5</td>\n",
       "      <td>0.5</td>\n",
       "      <td>0.5</td>\n",
       "    </tr>\n",
       "    <tr>\n",
       "      <th>193</th>\n",
       "      <td>male</td>\n",
       "      <td>child</td>\n",
       "      <td>white</td>\n",
       "      <td>-0.002619</td>\n",
       "      <td>white_male_child</td>\n",
       "      <td>0.5</td>\n",
       "      <td>-0.5</td>\n",
       "      <td>0.5</td>\n",
       "    </tr>\n",
       "  </tbody>\n",
       "</table>\n",
       "<p>192 rows × 8 columns</p>\n",
       "</div>"
      ],
      "text/plain": [
       "        sex    age ethnicity  sentiment              groups  sexC  ageC  \\\n",
       "0    female  adult     bipoc  -0.008748  bipoc_female_adult  -0.5   0.5   \n",
       "1    female  child     bipoc  -0.025491  bipoc_female_child  -0.5  -0.5   \n",
       "2      male  adult     bipoc  -0.031301    bipoc_male_adult   0.5   0.5   \n",
       "3      male  child     bipoc  -0.020020    bipoc_male_child   0.5  -0.5   \n",
       "4    female  adult     white  -0.018725  white_female_adult  -0.5   0.5   \n",
       "..      ...    ...       ...        ...                 ...   ...   ...   \n",
       "189    male  child     bipoc  -0.010073    bipoc_male_child   0.5  -0.5   \n",
       "190  female  adult     white  -0.013303  white_female_adult  -0.5   0.5   \n",
       "191  female  child     white  -0.008703  white_female_child  -0.5  -0.5   \n",
       "192    male  adult     white  -0.006714    white_male_adult   0.5   0.5   \n",
       "193    male  child     white  -0.002619    white_male_child   0.5  -0.5   \n",
       "\n",
       "     ethnicityC  \n",
       "0          -0.5  \n",
       "1          -0.5  \n",
       "2          -0.5  \n",
       "3          -0.5  \n",
       "4           0.5  \n",
       "..          ...  \n",
       "189        -0.5  \n",
       "190         0.5  \n",
       "191         0.5  \n",
       "192         0.5  \n",
       "193         0.5  \n",
       "\n",
       "[192 rows x 8 columns]"
      ]
     },
     "execution_count": 376,
     "metadata": {},
     "output_type": "execute_result"
    }
   ],
   "source": []
  },
  {
   "cell_type": "code",
   "execution_count": 379,
   "id": "932897b9-c850-4c55-b20c-1d192a11cc13",
   "metadata": {},
   "outputs": [
    {
     "name": "stdout",
     "output_type": "stream",
     "text": [
      "                            OLS Regression Results                            \n",
      "==============================================================================\n",
      "Dep. Variable:              sentiment   R-squared:                       0.007\n",
      "Model:                            OLS   Adj. R-squared:                 -0.009\n",
      "Method:                 Least Squares   F-statistic:                    0.4204\n",
      "Date:                Tue, 02 Nov 2021   Prob (F-statistic):              0.739\n",
      "Time:                        18:35:43   Log-Likelihood:                 489.52\n",
      "No. Observations:                 192   AIC:                            -971.0\n",
      "Df Residuals:                     188   BIC:                            -958.0\n",
      "Df Model:                           3                                         \n",
      "Covariance Type:            nonrobust                                         \n",
      "==============================================================================\n",
      "                 coef    std err          t      P>|t|      [0.025      0.975]\n",
      "------------------------------------------------------------------------------\n",
      "Intercept     -0.0076      0.001     -5.487      0.000      -0.010      -0.005\n",
      "sexC          -0.0019      0.003     -0.681      0.497      -0.007       0.004\n",
      "ethnicityC     0.0008      0.003      0.298      0.766      -0.005       0.006\n",
      "ageC          -0.0023      0.003     -0.842      0.401      -0.008       0.003\n",
      "==============================================================================\n",
      "Omnibus:                       11.424   Durbin-Watson:                   0.765\n",
      "Prob(Omnibus):                  0.003   Jarque-Bera (JB):               10.545\n",
      "Skew:                           0.509   Prob(JB):                      0.00513\n",
      "Kurtosis:                       2.470   Cond. No.                         2.00\n",
      "==============================================================================\n",
      "\n",
      "Notes:\n",
      "[1] Standard Errors assume that the covariance matrix of the errors is correctly specified.\n"
     ]
    }
   ],
   "source": [
    "formula = \"sentiment ~ sexC+ethnicityC+ageC\"\n",
    "lm = ols(formula, data=reg_free_r).fit()\n",
    "print(lm.summary())"
   ]
  },
  {
   "cell_type": "code",
   "execution_count": 390,
   "id": "6fe01477-4df7-4f31-9797-e2415bba12fa",
   "metadata": {},
   "outputs": [],
   "source": [
    "infl = lm.get_influence()\n",
    "# print(infl.summary_table())"
   ]
  },
  {
   "cell_type": "code",
   "execution_count": 380,
   "id": "bf2dfc30-581e-4a41-8a11-1e3a5beb324e",
   "metadata": {},
   "outputs": [
    {
     "name": "stdout",
     "output_type": "stream",
     "text": [
      "                            OLS Regression Results                            \n",
      "==============================================================================\n",
      "Dep. Variable:              sentiment   R-squared:                       0.013\n",
      "Model:                            OLS   Adj. R-squared:                 -0.025\n",
      "Method:                 Least Squares   F-statistic:                    0.3330\n",
      "Date:                Tue, 02 Nov 2021   Prob (F-statistic):              0.938\n",
      "Time:                        18:36:02   Log-Likelihood:                 490.09\n",
      "No. Observations:                 192   AIC:                            -964.2\n",
      "Df Residuals:                     184   BIC:                            -938.1\n",
      "Df Model:                           7                                         \n",
      "Covariance Type:            nonrobust                                         \n",
      "========================================================================================\n",
      "                           coef    std err          t      P>|t|      [0.025      0.975]\n",
      "----------------------------------------------------------------------------------------\n",
      "Intercept               -0.0076      0.001     -5.444      0.000      -0.010      -0.005\n",
      "sexC                    -0.0019      0.003     -0.676      0.500      -0.007       0.004\n",
      "ethnicityC               0.0008      0.003      0.296      0.768      -0.005       0.006\n",
      "sexC:ethnicityC          0.0049      0.006      0.888      0.376      -0.006       0.016\n",
      "ageC                    -0.0023      0.003     -0.835      0.405      -0.008       0.003\n",
      "sexC:ageC               -0.0004      0.006     -0.066      0.947      -0.011       0.011\n",
      "ethnicityC:ageC          0.0030      0.006      0.536      0.592      -0.008       0.014\n",
      "sexC:ethnicityC:ageC     0.0010      0.011      0.090      0.928      -0.021       0.023\n",
      "==============================================================================\n",
      "Omnibus:                       11.441   Durbin-Watson:                   0.755\n",
      "Prob(Omnibus):                  0.003   Jarque-Bera (JB):               10.535\n",
      "Skew:                           0.508   Prob(JB):                      0.00516\n",
      "Kurtosis:                       2.468   Cond. No.                         8.00\n",
      "==============================================================================\n",
      "\n",
      "Notes:\n",
      "[1] Standard Errors assume that the covariance matrix of the errors is correctly specified.\n"
     ]
    }
   ],
   "source": [
    "lm_interX = ols(\"sentiment ~ sexC*ethnicityC*ageC\", data=reg_free_r).fit()\n",
    "print(lm_interX.summary())"
   ]
  },
  {
   "cell_type": "code",
   "execution_count": 392,
   "id": "5f2c0904-2aea-42dd-8eb2-efadcc0f5b25",
   "metadata": {},
   "outputs": [],
   "source": [
    "infl_interX = lm_interX.get_influence()\n",
    "# print(infl_interX.summary_table())"
   ]
  },
  {
   "cell_type": "code",
   "execution_count": 393,
   "id": "ab623134-81ab-4056-b945-dcdc1a46d64f",
   "metadata": {},
   "outputs": [
    {
     "name": "stdout",
     "output_type": "stream",
     "text": [
      "   df_resid       ssr  df_diff   ss_diff        F    Pr(>F)\n",
      "0     188.0  0.068595      0.0       NaN      NaN       NaN\n",
      "1     184.0  0.068192      4.0  0.000404  0.27226  0.895585\n"
     ]
    }
   ],
   "source": [
    "table1 = anova_lm(lm, lm_interX)\n",
    "print(table1)"
   ]
  },
  {
   "cell_type": "markdown",
   "id": "84ded727-04d0-4678-98ee-8b65f3173a47",
   "metadata": {},
   "source": [
    "# Regression analysis forced-choice"
   ]
  },
  {
   "cell_type": "code",
   "execution_count": null,
   "id": "b6ece0ca-b16d-485a-a665-a0477edd7079",
   "metadata": {},
   "outputs": [],
   "source": [
    "X_free = pd.DataFrame({'sex':free_labeling_df['sex'], 'age':free_labeling_df['age'], 'ethnicity':free_labeling_df['ethnicity']})\n",
    "Y_free = pd.DataFrame({'mean-compound':free_compound['mean-compound']})"
   ]
  }
 ],
 "metadata": {
  "kernelspec": {
   "display_name": "Python 3 (ipykernel)",
   "language": "python",
   "name": "python3"
  },
  "language_info": {
   "codemirror_mode": {
    "name": "ipython",
    "version": 3
   },
   "file_extension": ".py",
   "mimetype": "text/x-python",
   "name": "python",
   "nbconvert_exporter": "python",
   "pygments_lexer": "ipython3",
   "version": "3.9.7"
  }
 },
 "nbformat": 4,
 "nbformat_minor": 5
}
