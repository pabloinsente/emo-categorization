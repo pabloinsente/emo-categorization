{
 "cells": [
  {
   "cell_type": "code",
   "execution_count": 177,
   "id": "6c70e18a-0b76-4ceb-bc91-92ef91c5b9b7",
   "metadata": {},
   "outputs": [],
   "source": [
    "import pandas as pd\n",
    "import numpy as np\n",
    "\n",
    "pd.options.mode.chained_assignment = None"
   ]
  },
  {
   "cell_type": "code",
   "execution_count": 178,
   "id": "c5663b99-e35f-439e-979c-817e29f31a34",
   "metadata": {},
   "outputs": [],
   "source": [
    "## ANGER dfs\n",
    "df_abf = pd.read_csv('../../emo-ranking-next/anger_bipoc_female/responses.csv')\n",
    "df_abm = pd.read_csv('../../emo-ranking-next/anger_bipoc_male/responses.csv')\n",
    "df_awf = pd.read_csv('../../emo-ranking-next/anger_white_female/responses.csv')\n",
    "df_awm = pd.read_csv('../../emo-ranking-next/anger_white_male/responses.csv')\n",
    "\n",
    "## DISGUST dfs\n",
    "df_dbf = pd.read_csv('../../emo-ranking-next/disgust_bipoc_female/responses.csv')\n",
    "df_dbm = pd.read_csv('../../emo-ranking-next/disgust_bipoc_male/responses.csv')\n",
    "df_dwf = pd.read_csv('../../emo-ranking-next/disgust_white_female/responses.csv')\n",
    "df_dwm = pd.read_csv('../../emo-ranking-next/disgust_white_male/responses.csv')"
   ]
  },
  {
   "cell_type": "code",
   "execution_count": 179,
   "id": "aff0400f-5812-465c-ab99-02171d7f62a4",
   "metadata": {},
   "outputs": [],
   "source": [
    "def manual_spell_check(df):\n",
    "    df.replace(['happy'], 'happiness', inplace=True)\n",
    "    df.replace(['angry'], 'anger', inplace=True)\n",
    "    df.replace(['sad'], 'sadness', inplace=True)\n",
    "    df.replace(['disgusted'], 'disgust', inplace=True)\n",
    "    df.replace(['surprised'], 'surprise', inplace=True)\n",
    "    df.replace(['fearful'], 'fear', inplace=True)\n",
    "    df.replace(['frusturated'], 'frustrated', inplace=True)\n",
    "\n",
    "\n",
    "    return df"
   ]
  },
  {
   "cell_type": "code",
   "execution_count": 180,
   "id": "0a448254-c076-4bdb-bae2-6591b20c47fc",
   "metadata": {},
   "outputs": [],
   "source": [
    "def subset_trials(df, label, sex, ethnicity):\n",
    "    \n",
    "    # subset [label] rows\n",
    "    df_sub = df[(df['target_left'] == label) | (df['target_right'] == label)]\n",
    "    \n",
    "    # create target \n",
    "    df_sub['target_label'] = label\n",
    "    df_sub['correct'] = np.where(df_sub['target_winner']==label, 1, 0)\n",
    "    \n",
    "    # add sex and ethnicity cols\n",
    "    df_sub['sex'] = sex\n",
    "    df_sub['ethnicity'] = ethnicity\n",
    "    \n",
    "    # dedup \n",
    "    df_temp = df_sub[['target_right', 'target_left']]\n",
    "    indices = df_temp.apply(lambda r: sorted(r), axis = 1).drop_duplicates().index.tolist()\n",
    "    df_sub = df_sub.loc[indices]\n",
    "\n",
    "    return df_sub "
   ]
  },
  {
   "cell_type": "code",
   "execution_count": 181,
   "id": "55f5a04d-6cc9-4089-bd9a-00591a9f27d5",
   "metadata": {},
   "outputs": [],
   "source": [
    "def wrapper(df, label, sex, ethnicity):\n",
    "    df = manual_spell_check(df)\n",
    "    df_s = subset_trials(df, label=label, sex=sex, ethnicity=ethnicity)\n",
    "    \n",
    "    return df_s"
   ]
  },
  {
   "cell_type": "markdown",
   "id": "8c26fa0c-137a-45b7-8912-50d3e8e90935",
   "metadata": {},
   "source": [
    "## Anger dfs"
   ]
  },
  {
   "cell_type": "code",
   "execution_count": 182,
   "id": "89e84901-d4a3-46a0-ba1f-6dabbf9d2b70",
   "metadata": {},
   "outputs": [
    {
     "data": {
      "text/plain": [
       "(0.52, 0.6, 0.71875, 0.3684210526315789)"
      ]
     },
     "execution_count": 182,
     "metadata": {},
     "output_type": "execute_result"
    }
   ],
   "source": [
    "df_abf_s = wrapper(df_abf, 'anger', 'female', 'bipoc')\n",
    "df_abm_s = wrapper(df_abm, 'anger', 'male', 'bipoc')\n",
    "df_awf_s = wrapper(df_awf, 'anger', 'female', 'white')\n",
    "df_awm_s = wrapper(df_awm, 'anger', 'male', 'white')\n",
    "\n",
    "df_abf_s['correct'].mean(), df_abm_s['correct'].mean(), df_awf_s['correct'].mean(), df_awm_s['correct'].mean()"
   ]
  },
  {
   "cell_type": "code",
   "execution_count": 183,
   "id": "dd7793f8-09db-48a1-a401-af75350aa2fd",
   "metadata": {},
   "outputs": [
    {
     "data": {
      "text/plain": [
       "0.5742574257425742"
      ]
     },
     "execution_count": 183,
     "metadata": {},
     "output_type": "execute_result"
    }
   ],
   "source": [
    "df_anger = pd.concat([df_abf_s, df_abm_s, df_awf_s, df_awm_s], ignore_index=True)['correct']\n",
    "df_anger.mean()"
   ]
  },
  {
   "cell_type": "markdown",
   "id": "85b90cdb-3dae-4b8f-8993-7cf0ac39ff07",
   "metadata": {},
   "source": [
    "## Disgust dfs"
   ]
  },
  {
   "cell_type": "code",
   "execution_count": 184,
   "id": "6d02b10a-577f-4258-88dd-fc8b9d15bc78",
   "metadata": {},
   "outputs": [
    {
     "data": {
      "text/plain": [
       "(0.8529411764705882,\n",
       " 0.9310344827586207,\n",
       " 0.8108108108108109,\n",
       " 0.7272727272727273)"
      ]
     },
     "execution_count": 184,
     "metadata": {},
     "output_type": "execute_result"
    }
   ],
   "source": [
    "df_dbf_s = wrapper(df_dbf, 'disgust', 'female', 'bipoc')\n",
    "df_dbm_s = wrapper(df_dbm, 'disgust', 'male', 'bipoc')\n",
    "df_dwf_s = wrapper(df_dwf, 'disgust', 'female', 'white')\n",
    "df_dwm_s = wrapper(df_dwm, 'disgust', 'male', 'white')\n",
    "\n",
    "df_dbf_s['correct'].mean(), df_dbm_s['correct'].mean(), df_dwf_s['correct'].mean(), df_dwm_s['correct'].mean()"
   ]
  },
  {
   "cell_type": "code",
   "execution_count": 185,
   "id": "81d15465-2a5a-409a-aba3-3738cfd14d1d",
   "metadata": {},
   "outputs": [
    {
     "data": {
      "text/plain": [
       "0.8360655737704918"
      ]
     },
     "execution_count": 185,
     "metadata": {},
     "output_type": "execute_result"
    }
   ],
   "source": [
    "df_disgust = pd.concat([df_dbf_s, df_dbm_s, df_dwf_s, df_dwm_s], ignore_index=True)['correct']\n",
    "df_disgust.mean()"
   ]
  }
 ],
 "metadata": {
  "kernelspec": {
   "display_name": "Python 3 (ipykernel)",
   "language": "python",
   "name": "python3"
  },
  "language_info": {
   "codemirror_mode": {
    "name": "ipython",
    "version": 3
   },
   "file_extension": ".py",
   "mimetype": "text/x-python",
   "name": "python",
   "nbconvert_exporter": "python",
   "pygments_lexer": "ipython3",
   "version": "3.9.7"
  }
 },
 "nbformat": 4,
 "nbformat_minor": 5
}
