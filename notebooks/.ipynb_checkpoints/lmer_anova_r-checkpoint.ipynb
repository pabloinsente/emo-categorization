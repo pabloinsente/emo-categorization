{
 "cells": [
  {
   "cell_type": "code",
   "execution_count": 1,
   "id": "48a41427",
   "metadata": {},
   "outputs": [
    {
     "name": "stderr",
     "output_type": "stream",
     "text": [
      "Warning message:\n",
      "“package ‘rstatix’ was built under R version 4.0.3”\n",
      "\n",
      "Attaching package: ‘rstatix’\n",
      "\n",
      "\n",
      "The following object is masked from ‘package:stats’:\n",
      "\n",
      "    filter\n",
      "\n",
      "\n",
      "Warning message:\n",
      "“package ‘readr’ was built under R version 4.0.5”\n",
      "Warning message:\n",
      "“package ‘afex’ was built under R version 4.0.5”\n",
      "Loading required package: lme4\n",
      "\n",
      "Warning message:\n",
      "“package ‘lme4’ was built under R version 4.0.5”\n",
      "Loading required package: Matrix\n",
      "\n",
      "Warning message:\n",
      "“package ‘Matrix’ was built under R version 4.0.5”\n",
      "************\n",
      "Welcome to afex. For support visit: http://afex.singmann.science/\n",
      "\n",
      "- Functions for ANOVAs: aov_car(), aov_ez(), and aov_4()\n",
      "- Methods for calculating p-values with mixed(): 'S', 'KR', 'LRT', and 'PB'\n",
      "- 'afex_aov' and 'mixed' objects can be passed to emmeans() for follow-up tests\n",
      "- NEWS: emmeans() for ANOVA models now uses model = 'multivariate' as default.\n",
      "- Get and set global package options with: afex_options()\n",
      "- Set orthogonal sum-to-zero contrasts globally: set_sum_contrasts()\n",
      "- For example analyses see: browseVignettes(\"afex\")\n",
      "************\n",
      "\n",
      "\n",
      "Attaching package: ‘afex’\n",
      "\n",
      "\n",
      "The following object is masked from ‘package:lme4’:\n",
      "\n",
      "    lmer\n",
      "\n",
      "\n",
      "Warning message:\n",
      "“package ‘performance’ was built under R version 4.0.5”\n",
      "Warning message:\n",
      "“package ‘optimx’ was built under R version 4.0.5”\n",
      "Warning message:\n",
      "“package ‘minqa’ was built under R version 4.0.3”\n",
      "Warning message:\n",
      "“package ‘ggpubr’ was built under R version 4.0.5”\n",
      "Loading required package: ggplot2\n",
      "\n",
      "Warning message:\n",
      "“package ‘ggplot2’ was built under R version 4.0.5”\n",
      "Warning message:\n",
      "“package ‘ez’ was built under R version 4.0.5”\n"
     ]
    }
   ],
   "source": [
    "library(rstatix)\n",
    "library(readr)\n",
    "# library(lme4)\n",
    "library(afex)\n",
    "library(performance)\n",
    "library(RCurl)\n",
    "library(optimx)\n",
    "library(parallel)\n",
    "library(minqa)\n",
    "library(ggpubr)\n",
    "library(ez) \n",
    "# https://github.com/mike-lawrence/ez"
   ]
  },
  {
   "cell_type": "markdown",
   "id": "c3f01f23",
   "metadata": {},
   "source": [
    "# Forced-choice survey LMER"
   ]
  },
  {
   "cell_type": "code",
   "execution_count": 2,
   "id": "a58a4058",
   "metadata": {},
   "outputs": [
    {
     "name": "stderr",
     "output_type": "stream",
     "text": [
      "\n",
      "\u001b[36m──\u001b[39m \u001b[1m\u001b[1mColumn specification\u001b[1m\u001b[22m \u001b[36m──────────────────────────────────────────────────────────────────────────────────────\u001b[39m\n",
      "cols(\n",
      "  participantId = \u001b[32mcol_double()\u001b[39m,\n",
      "  photoId = \u001b[31mcol_character()\u001b[39m,\n",
      "  emotion = \u001b[31mcol_character()\u001b[39m,\n",
      "  ethnicity = \u001b[31mcol_character()\u001b[39m,\n",
      "  sex = \u001b[31mcol_character()\u001b[39m,\n",
      "  age = \u001b[31mcol_character()\u001b[39m,\n",
      "  label = \u001b[31mcol_character()\u001b[39m,\n",
      "  url = \u001b[31mcol_character()\u001b[39m,\n",
      "  sentimentScore = \u001b[32mcol_double()\u001b[39m,\n",
      "  sexC = \u001b[32mcol_double()\u001b[39m,\n",
      "  ageC = \u001b[32mcol_double()\u001b[39m,\n",
      "  ethnicityC = \u001b[32mcol_double()\u001b[39m\n",
      ")\n",
      "\n",
      "\n"
     ]
    }
   ],
   "source": [
    "df = read_csv(\"../clean_data/forced_choice_emotion_uw_students_long_format_lmer.csv\")"
   ]
  },
  {
   "cell_type": "markdown",
   "id": "0dfe86d4",
   "metadata": {},
   "source": [
    "## Useful links about fitting LMER \n",
    "- https://bbolker.github.io/mixedmodels-misc/glmmFAQ.html#singular-models-random-effect-variances-estimated-as-zero-or-correlations-estimated-as---1\n",
    "- https://stats.stackexchange.com/questions/242109/model-failed-to-converge-warning-in-lmer\n",
    "- https://easystats.github.io/blog/posts/performance_check_collinearity/\n",
    "- https://stats.stackexchange.com/questions/449042/is-a-singular-fit-with-no-correlations-near-1-or-variances-of-zero-a-false\n",
    "- http://svmiller.com/blog/2018/06/mixed-effects-models-optimizer-checks/\n",
    "- https://joshua-nugent.github.io/allFit/\n",
    "- https://rstudio-pubs-static.s3.amazonaws.com/33653_57fc7b8e5d484c909b615d8633c01d51.html\n",
    "- https://stats.stackexchange.com/questions/323273/what-to-do-with-random-effects-correlation-that-equals-1-or-1\n",
    "- https://psych.wisc.edu/Brauer/BrauerLab/wp-content/uploads/2014/04/Brauer-and-Curtin-in-press-Psych-Methods.pdf\n",
    "- https://cran.r-project.org/web/packages/lme4/vignettes/lmerperf.html\n",
    "- https://rpubs.com/palday/lme4-singular-convergence"
   ]
  },
  {
   "cell_type": "markdown",
   "id": "2b7e1fbe",
   "metadata": {},
   "source": [
    "## Run model with Nelder-Mead opt"
   ]
  },
  {
   "cell_type": "markdown",
   "id": "13e60d16",
   "metadata": {},
   "source": [
    "**Determining random effect structure**\n",
    "\n",
    "**Random Intercept**:\n",
    "- participantId: repeated measures from same participant\n",
    "- photoId: repeated measures from same photo\n",
    "\n",
    "**Random slope**:\n",
    "- ethnicity: varies *within participantId* and *between items*\n",
    "- sex: varies *within participantId* and *between items*\n",
    "- age: varies *within participantId* and *between items*\n",
    "\n",
    "----\n",
    "- Random intercept and slope for participantId\n",
    "- Random intercept for photoId\n",
    "\n",
    "----"
   ]
  },
  {
   "cell_type": "code",
   "execution_count": 3,
   "id": "d6143c17",
   "metadata": {},
   "outputs": [],
   "source": [
    "# ---------\n",
    "# doesn't converge\n",
    "# ---------\n",
    "\n",
    "# lmer_fc_uw_max = lmer(\n",
    "#     sentimentScore ~ 1 + sexC*ethnicityC*ageC + (1 + sexC*ethnicityC*ageC|participantId) + (1 | photoId), \n",
    "#     data = df, \n",
    "#     REML = FALSE, \n",
    "#     control = lmerControl(optimizer =\"Nelder_Mead\", calc.derivs=FALSE)\n",
    "# )\n",
    "# summary(lmer_fc_uw_max)"
   ]
  },
  {
   "cell_type": "code",
   "execution_count": 4,
   "id": "4681f239",
   "metadata": {},
   "outputs": [
    {
     "data": {
      "text/plain": [
       "Linear mixed model fit by maximum likelihood . t-tests use Satterthwaite's\n",
       "  method [lmerModLmerTest]\n",
       "Formula: sentimentScore ~ 1 + sexC * ethnicityC + (1 + sexC * ethnicityC |  \n",
       "    participantId) + (1 | photoId)\n",
       "   Data: df\n",
       "Control: lmerControl(optimizer = \"Nelder_Mead\", calc.derivs = FALSE)\n",
       "\n",
       "     AIC      BIC   logLik deviance df.resid \n",
       "  2049.7   2164.7  -1008.9   2017.7     9776 \n",
       "\n",
       "Scaled residuals: \n",
       "    Min      1Q  Median      3Q     Max \n",
       "-4.1517 -0.4843  0.0146  0.4421  4.5059 \n",
       "\n",
       "Random effects:\n",
       " Groups        Name            Variance  Std.Dev. Corr             \n",
       " photoId       (Intercept)     1.034e-01 0.321522                  \n",
       " participantId (Intercept)     1.080e-03 0.032865                  \n",
       "               sexC            9.943e-06 0.003153 -0.36            \n",
       "               ethnicityC      2.270e-05 0.004765 -0.21  0.59      \n",
       "               sexC:ethnicityC 1.161e-03 0.034069  0.07 -0.95 -0.49\n",
       " Residual                      6.545e-02 0.255828                  \n",
       "Number of obs: 9792, groups:  photoId, 192; participantId, 51\n",
       "\n",
       "Fixed effects:\n",
       "                 Estimate Std. Error        df t value Pr(>|t|)    \n",
       "(Intercept)      -0.11533    0.02380 204.90107  -4.846 2.48e-06 ***\n",
       "sexC             -0.01601    0.04670 191.82369  -0.343    0.732    \n",
       "ethnicityC        0.02871    0.04670 191.82102   0.615    0.539    \n",
       "sexC:ethnicityC   0.04087    0.09351 192.63127   0.437    0.663    \n",
       "---\n",
       "Signif. codes:  0 ‘***’ 0.001 ‘**’ 0.01 ‘*’ 0.05 ‘.’ 0.1 ‘ ’ 1\n",
       "\n",
       "Correlation of Fixed Effects:\n",
       "            (Intr) sexC   ethncC\n",
       "sexC        -0.001              \n",
       "ethnicityC  -0.001  0.000       \n",
       "sxC:thnctyC  0.001  0.000  0.000"
      ]
     },
     "metadata": {},
     "output_type": "display_data"
    }
   ],
   "source": [
    "# -------------\n",
    "# lacks power because there is only 1 obs per cell of [participantId X photoId]\n",
    "# -------------\n",
    "\n",
    "lmer_fc_uw_full = lmer(\n",
    "    sentimentScore ~ 1 + sexC*ethnicityC + (1 + sexC*ethnicityC|participantId) + (1 | photoId), \n",
    "    data = df, \n",
    "    REML = FALSE, \n",
    "    control = lmerControl(optimizer =\"Nelder_Mead\", calc.derivs=FALSE)\n",
    ")\n",
    "summary(lmer_fc_uw_full)"
   ]
  },
  {
   "cell_type": "code",
   "execution_count": 5,
   "id": "c64d2155",
   "metadata": {},
   "outputs": [
    {
     "data": {
      "text/plain": [
       "Linear mixed model fit by maximum likelihood . t-tests use Satterthwaite's\n",
       "  method [lmerModLmerTest]\n",
       "Formula: sentimentScore ~ 1 + sexC * ethnicityC + (1 + sexC * ethnicityC |  \n",
       "    participantId)\n",
       "   Data: df\n",
       "Control: lmerControl(optimizer = \"Nelder_Mead\", calc.derivs = FALSE)\n",
       "\n",
       "     AIC      BIC   logLik deviance df.resid \n",
       " 10453.6  10561.5  -5211.8  10423.6     9777 \n",
       "\n",
       "Scaled residuals: \n",
       "    Min      1Q  Median      3Q     Max \n",
       "-1.2719 -0.9327  0.1997  0.9007  1.7652 \n",
       "\n",
       "Random effects:\n",
       " Groups        Name            Variance  Std.Dev.  Corr             \n",
       " participantId (Intercept)     5.006e-04 0.0223734                  \n",
       "               sexC            1.391e-06 0.0011792 -1.00            \n",
       "               ethnicityC      7.550e-07 0.0008689 -0.99  0.99      \n",
       "               sexC:ethnicityC 6.703e-06 0.0025890  0.86 -0.86 -0.84\n",
       " Residual                      1.694e-01 0.4115362                  \n",
       "Number of obs: 9792, groups:  participantId, 51\n",
       "\n",
       "Fixed effects:\n",
       "                  Estimate Std. Error         df t value Pr(>|t|)    \n",
       "(Intercept)     -1.153e-01  5.207e-03  5.106e+01 -22.149  < 2e-16 ***\n",
       "sexC            -1.602e-02  8.319e-03  8.130e+03  -1.925  0.05426 .  \n",
       "ethnicityC       2.871e-02  8.319e-03  8.805e+03   3.451  0.00056 ***\n",
       "sexC:ethnicityC  4.087e-02  1.664e-02  7.666e+03   2.456  0.01407 *  \n",
       "---\n",
       "Signif. codes:  0 ‘***’ 0.001 ‘**’ 0.01 ‘*’ 0.05 ‘.’ 0.1 ‘ ’ 1\n",
       "\n",
       "Correlation of Fixed Effects:\n",
       "            (Intr) sexC   ethncC\n",
       "sexC        -0.012              \n",
       "ethnicityC  -0.009  0.000       \n",
       "sxC:thnctyC  0.011  0.000  0.000"
      ]
     },
     "metadata": {},
     "output_type": "display_data"
    }
   ],
   "source": [
    "# --------------\n",
    "# it doesn't address photoId random effect, but it has better power 20+ obs per cell (i.e., participantId )\n",
    "# --------------\n",
    "\n",
    "lmer_fc_uw_partial = lmer(\n",
    "    sentimentScore ~ 1 + sexC*ethnicityC + (1 + sexC*ethnicityC|participantId), \n",
    "    data = df, REML = FALSE, \n",
    "    control = lmerControl(optimizer =\"Nelder_Mead\", calc.derivs=FALSE)\n",
    ")\n",
    "summary(lmer_fc_uw_partial)"
   ]
  },
  {
   "cell_type": "markdown",
   "id": "32d3121f",
   "metadata": {},
   "source": [
    "## Check collinearity"
   ]
  },
  {
   "cell_type": "code",
   "execution_count": 6,
   "id": "5d456cfc",
   "metadata": {},
   "outputs": [],
   "source": [
    "# check_collinearity(lmer_fc_uw_full)"
   ]
  },
  {
   "cell_type": "code",
   "execution_count": 7,
   "id": "b0607436",
   "metadata": {},
   "outputs": [
    {
     "data": {
      "text/html": [
       "<table class=\"dataframe\">\n",
       "<caption>A check_collinearity: 3 × 3</caption>\n",
       "<thead>\n",
       "\t<tr><th></th><th scope=col>Term</th><th scope=col>VIF</th><th scope=col>SE_factor</th></tr>\n",
       "\t<tr><th></th><th scope=col>&lt;chr&gt;</th><th scope=col>&lt;dbl&gt;</th><th scope=col>&lt;dbl&gt;</th></tr>\n",
       "</thead>\n",
       "<tbody>\n",
       "\t<tr><th scope=row>1</th><td>sexC           </td><td>1</td><td>1</td></tr>\n",
       "\t<tr><th scope=row>2</th><td>ethnicityC     </td><td>1</td><td>1</td></tr>\n",
       "\t<tr><th scope=row>3</th><td>sexC:ethnicityC</td><td>1</td><td>1</td></tr>\n",
       "</tbody>\n",
       "</table>\n"
      ],
      "text/latex": [
       "A check\\_collinearity: 3 × 3\n",
       "\\begin{tabular}{r|lll}\n",
       "  & Term & VIF & SE\\_factor\\\\\n",
       "  & <chr> & <dbl> & <dbl>\\\\\n",
       "\\hline\n",
       "\t1 & sexC            & 1 & 1\\\\\n",
       "\t2 & ethnicityC      & 1 & 1\\\\\n",
       "\t3 & sexC:ethnicityC & 1 & 1\\\\\n",
       "\\end{tabular}\n"
      ],
      "text/markdown": [
       "\n",
       "A check_collinearity: 3 × 3\n",
       "\n",
       "| <!--/--> | Term &lt;chr&gt; | VIF &lt;dbl&gt; | SE_factor &lt;dbl&gt; |\n",
       "|---|---|---|---|\n",
       "| 1 | sexC            | 1 | 1 |\n",
       "| 2 | ethnicityC      | 1 | 1 |\n",
       "| 3 | sexC:ethnicityC | 1 | 1 |\n",
       "\n"
      ],
      "text/plain": [
       "  Term            VIF SE_factor\n",
       "1 sexC            1   1        \n",
       "2 ethnicityC      1   1        \n",
       "3 sexC:ethnicityC 1   1        "
      ]
     },
     "metadata": {},
     "output_type": "display_data"
    }
   ],
   "source": [
    "check_collinearity(lmer_fc_uw_partial)"
   ]
  },
  {
   "cell_type": "code",
   "execution_count": 8,
   "id": "795eb800",
   "metadata": {},
   "outputs": [],
   "source": [
    "# plot(check_collinearity(lmer_fc_uw_full))"
   ]
  },
  {
   "cell_type": "code",
   "execution_count": 9,
   "id": "d8ff97d5",
   "metadata": {},
   "outputs": [
    {
     "data": {
      "image/png": "[encoded data removed]",
      "text/plain": [
       "plot without title"
      ]
     },
     "metadata": {
      "image/png": {
       "height": 420,
       "width": 420
      }
     },
     "output_type": "display_data"
    }
   ],
   "source": [
    "plot(check_collinearity(lmer_fc_uw_partial))"
   ]
  },
  {
   "cell_type": "markdown",
   "id": "5d4eaddf",
   "metadata": {},
   "source": [
    "## Check singularity"
   ]
  },
  {
   "cell_type": "code",
   "execution_count": 10,
   "id": "136f7cd8",
   "metadata": {},
   "outputs": [
    {
     "data": {
      "text/html": [
       "0.000128365022550146"
      ],
      "text/latex": [
       "0.000128365022550146"
      ],
      "text/markdown": [
       "0.000128365022550146"
      ],
      "text/plain": [
       "[1] 0.000128365"
      ]
     },
     "metadata": {},
     "output_type": "display_data"
    }
   ],
   "source": [
    "# https://rstudio-pubs-static.s3.amazonaws.com/33653_57fc7b8e5d484c909b615d8633c01d51.html\n",
    "\n",
    "# tt = getME(lmer_fc_uw_full,\"theta\")\n",
    "# ll = getME(lmer_fc_uw_full,\"lower\")\n",
    "# tt_value = min(tt[ll==0])\n",
    "\n",
    "# https://rstudio-pubs-static.s3.amazonaws.com/33653_57fc7b8e5d484c909b615d8633c01d51.html\n",
    "tt_p = getME(lmer_fc_uw_partial,\"theta\")\n",
    "ll_p = getME(lmer_fc_uw_partial,\"lower\")\n",
    "tt_value_p = min(tt_p[ll_p==0])\n",
    "\n",
    "tt_value_p"
   ]
  },
  {
   "cell_type": "code",
   "execution_count": 11,
   "id": "487aa363",
   "metadata": {},
   "outputs": [
    {
     "data": {
      "text/html": [
       "FALSE"
      ],
      "text/latex": [
       "FALSE"
      ],
      "text/markdown": [
       "FALSE"
      ],
      "text/plain": [
       "[1] FALSE"
      ]
     },
     "metadata": {},
     "output_type": "display_data"
    }
   ],
   "source": [
    "tt_value_p < 0.000001\n",
    "# probably not a problem"
   ]
  },
  {
   "cell_type": "code",
   "execution_count": 12,
   "id": "58de89c5",
   "metadata": {},
   "outputs": [
    {
     "data": {
      "text/html": [
       "FALSE"
      ],
      "text/latex": [
       "FALSE"
      ],
      "text/markdown": [
       "FALSE"
      ],
      "text/plain": [
       "[1] FALSE"
      ]
     },
     "metadata": {},
     "output_type": "display_data"
    }
   ],
   "source": [
    "theta_p <- getME(lmer_fc_uw_partial,\"theta\")\n",
    "## diagonal elements are identifiable because they are fitted\n",
    "##  with a lower bound of zero ...\n",
    "diag.element <- getME(lmer_fc_uw_partial,\"lower\")==0\n",
    "any(theta_p[diag.element]<1e-5)\n",
    "\n",
    "# probably not a problem"
   ]
  },
  {
   "cell_type": "markdown",
   "id": "4a8f2246",
   "metadata": {},
   "source": [
    "## Testing multiple optimizers\n"
   ]
  },
  {
   "cell_type": "code",
   "execution_count": 13,
   "id": "8bc5907b",
   "metadata": {},
   "outputs": [],
   "source": [
    "# lmer_fc_uw_m = lmer(sentimentScore ~ 1 + sexC*ethnicityC + (1 + sexC*ethnicityC|participantId), data = df)"
   ]
  },
  {
   "cell_type": "code",
   "execution_count": 14,
   "id": "9d8c5a6e",
   "metadata": {},
   "outputs": [],
   "source": [
    "# ncores <- detectCores()\n",
    "# diff_optims <- allFit(lmer_fc_uw_m, maxfun = 1e5, parallel = 'multicore', ncpus = ncores)"
   ]
  },
  {
   "cell_type": "code",
   "execution_count": 15,
   "id": "bc7361f2",
   "metadata": {},
   "outputs": [],
   "source": [
    "# is.OK <- sapply(diff_optims, is, \"merMod\")\n",
    "# diff_optims.OK <- diff_optims[is.OK]\n",
    "# lapply(diff_optims.OK,function(x) x@optinfo$conv$lme4$messages)"
   ]
  },
  {
   "cell_type": "code",
   "execution_count": 16,
   "id": "f75363db",
   "metadata": {},
   "outputs": [],
   "source": [
    "# (lliks <- sort(sapply(diff_optims.OK,logLik)))"
   ]
  },
  {
   "cell_type": "markdown",
   "id": "a62cd9d0",
   "metadata": {},
   "source": [
    "## Three-way Anova "
   ]
  },
  {
   "cell_type": "markdown",
   "id": "248025c5",
   "metadata": {},
   "source": [
    "### Useful links about fitting ANOVAS\n",
    "- https://www.datanovia.com/en/lessons/repeated-measures-anova-in-r/\n",
    "- https://cran.r-project.org/web/packages/effectsize/vignettes/anovaES.html\n",
    "- https://rpkgs.datanovia.com/rstatix/reference/anova_test.html\n",
    "- https://stats.stackexchange.com/questions/11079/problem-with-anova-repeated-measures-error-model-is-singular"
   ]
  },
  {
   "cell_type": "markdown",
   "id": "650e25d3",
   "metadata": {},
   "source": [
    "### Descriptives"
   ]
  },
  {
   "cell_type": "code",
   "execution_count": 17,
   "id": "1f9a0e1c",
   "metadata": {},
   "outputs": [
    {
     "data": {
      "text/html": [
       "<table class=\"dataframe\">\n",
       "<caption>A tibble: 8 × 7</caption>\n",
       "<thead>\n",
       "\t<tr><th scope=col>ethnicity</th><th scope=col>sex</th><th scope=col>age</th><th scope=col>variable</th><th scope=col>n</th><th scope=col>mean</th><th scope=col>sd</th></tr>\n",
       "\t<tr><th scope=col>&lt;chr&gt;</th><th scope=col>&lt;chr&gt;</th><th scope=col>&lt;chr&gt;</th><th scope=col>&lt;chr&gt;</th><th scope=col>&lt;dbl&gt;</th><th scope=col>&lt;dbl&gt;</th><th scope=col>&lt;dbl&gt;</th></tr>\n",
       "</thead>\n",
       "<tbody>\n",
       "\t<tr><td>bipoc</td><td>female</td><td>adult</td><td>sentimentScore</td><td>1224</td><td>-0.134</td><td>0.417</td></tr>\n",
       "\t<tr><td>bipoc</td><td>female</td><td>child</td><td>sentimentScore</td><td>1224</td><td>-0.089</td><td>0.418</td></tr>\n",
       "\t<tr><td>bipoc</td><td>male  </td><td>adult</td><td>sentimentScore</td><td>1224</td><td>-0.175</td><td>0.406</td></tr>\n",
       "\t<tr><td>bipoc</td><td>male  </td><td>child</td><td>sentimentScore</td><td>1224</td><td>-0.121</td><td>0.416</td></tr>\n",
       "\t<tr><td>white</td><td>female</td><td>adult</td><td>sentimentScore</td><td>1224</td><td>-0.118</td><td>0.410</td></tr>\n",
       "\t<tr><td>white</td><td>female</td><td>child</td><td>sentimentScore</td><td>1224</td><td>-0.089</td><td>0.412</td></tr>\n",
       "\t<tr><td>white</td><td>male  </td><td>adult</td><td>sentimentScore</td><td>1224</td><td>-0.094</td><td>0.395</td></tr>\n",
       "\t<tr><td>white</td><td>male  </td><td>child</td><td>sentimentScore</td><td>1224</td><td>-0.104</td><td>0.420</td></tr>\n",
       "</tbody>\n",
       "</table>\n"
      ],
      "text/latex": [
       "A tibble: 8 × 7\n",
       "\\begin{tabular}{lllllll}\n",
       " ethnicity & sex & age & variable & n & mean & sd\\\\\n",
       " <chr> & <chr> & <chr> & <chr> & <dbl> & <dbl> & <dbl>\\\\\n",
       "\\hline\n",
       "\t bipoc & female & adult & sentimentScore & 1224 & -0.134 & 0.417\\\\\n",
       "\t bipoc & female & child & sentimentScore & 1224 & -0.089 & 0.418\\\\\n",
       "\t bipoc & male   & adult & sentimentScore & 1224 & -0.175 & 0.406\\\\\n",
       "\t bipoc & male   & child & sentimentScore & 1224 & -0.121 & 0.416\\\\\n",
       "\t white & female & adult & sentimentScore & 1224 & -0.118 & 0.410\\\\\n",
       "\t white & female & child & sentimentScore & 1224 & -0.089 & 0.412\\\\\n",
       "\t white & male   & adult & sentimentScore & 1224 & -0.094 & 0.395\\\\\n",
       "\t white & male   & child & sentimentScore & 1224 & -0.104 & 0.420\\\\\n",
       "\\end{tabular}\n"
      ],
      "text/markdown": [
       "\n",
       "A tibble: 8 × 7\n",
       "\n",
       "| ethnicity &lt;chr&gt; | sex &lt;chr&gt; | age &lt;chr&gt; | variable &lt;chr&gt; | n &lt;dbl&gt; | mean &lt;dbl&gt; | sd &lt;dbl&gt; |\n",
       "|---|---|---|---|---|---|---|\n",
       "| bipoc | female | adult | sentimentScore | 1224 | -0.134 | 0.417 |\n",
       "| bipoc | female | child | sentimentScore | 1224 | -0.089 | 0.418 |\n",
       "| bipoc | male   | adult | sentimentScore | 1224 | -0.175 | 0.406 |\n",
       "| bipoc | male   | child | sentimentScore | 1224 | -0.121 | 0.416 |\n",
       "| white | female | adult | sentimentScore | 1224 | -0.118 | 0.410 |\n",
       "| white | female | child | sentimentScore | 1224 | -0.089 | 0.412 |\n",
       "| white | male   | adult | sentimentScore | 1224 | -0.094 | 0.395 |\n",
       "| white | male   | child | sentimentScore | 1224 | -0.104 | 0.420 |\n",
       "\n"
      ],
      "text/plain": [
       "  ethnicity sex    age   variable       n    mean   sd   \n",
       "1 bipoc     female adult sentimentScore 1224 -0.134 0.417\n",
       "2 bipoc     female child sentimentScore 1224 -0.089 0.418\n",
       "3 bipoc     male   adult sentimentScore 1224 -0.175 0.406\n",
       "4 bipoc     male   child sentimentScore 1224 -0.121 0.416\n",
       "5 white     female adult sentimentScore 1224 -0.118 0.410\n",
       "6 white     female child sentimentScore 1224 -0.089 0.412\n",
       "7 white     male   adult sentimentScore 1224 -0.094 0.395\n",
       "8 white     male   child sentimentScore 1224 -0.104 0.420"
      ]
     },
     "metadata": {},
     "output_type": "display_data"
    }
   ],
   "source": [
    "df %>%\n",
    "  group_by(ethnicity, sex, age) %>%\n",
    "  get_summary_stats(sentimentScore, type = \"mean_sd\")"
   ]
  },
  {
   "cell_type": "code",
   "execution_count": 94,
   "id": "b7768604",
   "metadata": {},
   "outputs": [
    {
     "data": {
      "image/png": "[encoded data removed]",
      "text/plain": [
       "plot without title"
      ]
     },
     "metadata": {
      "image/png": {
       "height": 420,
       "width": 420
      }
     },
     "output_type": "display_data"
    }
   ],
   "source": [
    "# bxp <- ggboxplot(\n",
    "#   df, x = \"ethnicity\", y = \"sentimentScore\",\n",
    "#   color = \"sex\", palette = \"jco\",\n",
    "#   facet.by = \"age\", short.panel.labs = FALSE,\n",
    "#   scales = \"free\"\n",
    "#   )\n",
    "# bxp\n",
    "\n",
    "bxp <- ggboxplot(\n",
    "  df, x = \"sex\", y = \"sentimentScore\",\n",
    "  color = \"ethnicity\", palette = \"jco\",\n",
    "  facet.by = \"age\", short.panel.labs = FALSE,\n",
    "  scales = \"free\"\n",
    "  )\n",
    "bxp"
   ]
  },
  {
   "cell_type": "markdown",
   "id": "5c0ed545",
   "metadata": {},
   "source": [
    "### Check assumptions"
   ]
  },
  {
   "cell_type": "markdown",
   "id": "1083971f",
   "metadata": {},
   "source": [
    "#### Outliers"
   ]
  },
  {
   "cell_type": "code",
   "execution_count": 19,
   "id": "64f7d7eb",
   "metadata": {},
   "outputs": [
    {
     "data": {
      "text/html": [
       "<table class=\"dataframe\">\n",
       "<caption>A data.frame: 0 × 14</caption>\n",
       "<thead>\n",
       "\t<tr><th scope=col>ethnicity</th><th scope=col>sex</th><th scope=col>age</th><th scope=col>participantId</th><th scope=col>photoId</th><th scope=col>emotion</th><th scope=col>label</th><th scope=col>url</th><th scope=col>sentimentScore</th><th scope=col>sexC</th><th scope=col>ageC</th><th scope=col>ethnicityC</th><th scope=col>is.outlier</th><th scope=col>is.extreme</th></tr>\n",
       "\t<tr><th scope=col>&lt;chr&gt;</th><th scope=col>&lt;chr&gt;</th><th scope=col>&lt;chr&gt;</th><th scope=col>&lt;dbl&gt;</th><th scope=col>&lt;chr&gt;</th><th scope=col>&lt;chr&gt;</th><th scope=col>&lt;chr&gt;</th><th scope=col>&lt;chr&gt;</th><th scope=col>&lt;dbl&gt;</th><th scope=col>&lt;dbl&gt;</th><th scope=col>&lt;dbl&gt;</th><th scope=col>&lt;dbl&gt;</th><th scope=col>&lt;lgl&gt;</th><th scope=col>&lt;lgl&gt;</th></tr>\n",
       "</thead>\n",
       "<tbody>\n",
       "</tbody>\n",
       "</table>\n"
      ],
      "text/latex": [
       "A data.frame: 0 × 14\n",
       "\\begin{tabular}{llllllllllllll}\n",
       " ethnicity & sex & age & participantId & photoId & emotion & label & url & sentimentScore & sexC & ageC & ethnicityC & is.outlier & is.extreme\\\\\n",
       " <chr> & <chr> & <chr> & <dbl> & <chr> & <chr> & <chr> & <chr> & <dbl> & <dbl> & <dbl> & <dbl> & <lgl> & <lgl>\\\\\n",
       "\\hline\n",
       "\\end{tabular}\n"
      ],
      "text/markdown": [
       "\n",
       "A data.frame: 0 × 14\n",
       "\n",
       "| ethnicity &lt;chr&gt; | sex &lt;chr&gt; | age &lt;chr&gt; | participantId &lt;dbl&gt; | photoId &lt;chr&gt; | emotion &lt;chr&gt; | label &lt;chr&gt; | url &lt;chr&gt; | sentimentScore &lt;dbl&gt; | sexC &lt;dbl&gt; | ageC &lt;dbl&gt; | ethnicityC &lt;dbl&gt; | is.outlier &lt;lgl&gt; | is.extreme &lt;lgl&gt; |\n",
       "|---|---|---|---|---|---|---|---|---|---|---|---|---|---|\n",
       "\n"
      ],
      "text/plain": [
       "     ethnicity sex age participantId photoId emotion label url sentimentScore\n",
       "     sexC ageC ethnicityC is.outlier is.extreme"
      ]
     },
     "metadata": {},
     "output_type": "display_data"
    }
   ],
   "source": [
    "df %>% group_by(ethnicity, sex, age) %>% identify_outliers(sentimentScore)\n",
    "\n",
    "# no outliers"
   ]
  },
  {
   "cell_type": "markdown",
   "id": "11c353ff",
   "metadata": {},
   "source": [
    "#### Normality assumption"
   ]
  },
  {
   "cell_type": "code",
   "execution_count": 20,
   "id": "75e47863",
   "metadata": {},
   "outputs": [
    {
     "data": {
      "text/html": [
       "<table class=\"dataframe\">\n",
       "<caption>A tibble: 8 × 6</caption>\n",
       "<thead>\n",
       "\t<tr><th scope=col>ethnicity</th><th scope=col>sex</th><th scope=col>age</th><th scope=col>variable</th><th scope=col>statistic</th><th scope=col>p</th></tr>\n",
       "\t<tr><th scope=col>&lt;chr&gt;</th><th scope=col>&lt;chr&gt;</th><th scope=col>&lt;chr&gt;</th><th scope=col>&lt;chr&gt;</th><th scope=col>&lt;dbl&gt;</th><th scope=col>&lt;dbl&gt;</th></tr>\n",
       "</thead>\n",
       "<tbody>\n",
       "\t<tr><td>bipoc</td><td>female</td><td>adult</td><td>sentimentScore</td><td>0.8573349</td><td>6.875608e-32</td></tr>\n",
       "\t<tr><td>bipoc</td><td>female</td><td>child</td><td>sentimentScore</td><td>0.8650087</td><td>3.461563e-31</td></tr>\n",
       "\t<tr><td>bipoc</td><td>male  </td><td>adult</td><td>sentimentScore</td><td>0.8444974</td><td>5.333350e-33</td></tr>\n",
       "\t<tr><td>bipoc</td><td>male  </td><td>child</td><td>sentimentScore</td><td>0.8590749</td><td>9.858681e-32</td></tr>\n",
       "\t<tr><td>white</td><td>female</td><td>adult</td><td>sentimentScore</td><td>0.8656738</td><td>3.995529e-31</td></tr>\n",
       "\t<tr><td>white</td><td>female</td><td>child</td><td>sentimentScore</td><td>0.8739884</td><td>2.521951e-30</td></tr>\n",
       "\t<tr><td>white</td><td>male  </td><td>adult</td><td>sentimentScore</td><td>0.8864712</td><td>4.836086e-29</td></tr>\n",
       "\t<tr><td>white</td><td>male  </td><td>child</td><td>sentimentScore</td><td>0.8626490</td><td>2.089945e-31</td></tr>\n",
       "</tbody>\n",
       "</table>\n"
      ],
      "text/latex": [
       "A tibble: 8 × 6\n",
       "\\begin{tabular}{llllll}\n",
       " ethnicity & sex & age & variable & statistic & p\\\\\n",
       " <chr> & <chr> & <chr> & <chr> & <dbl> & <dbl>\\\\\n",
       "\\hline\n",
       "\t bipoc & female & adult & sentimentScore & 0.8573349 & 6.875608e-32\\\\\n",
       "\t bipoc & female & child & sentimentScore & 0.8650087 & 3.461563e-31\\\\\n",
       "\t bipoc & male   & adult & sentimentScore & 0.8444974 & 5.333350e-33\\\\\n",
       "\t bipoc & male   & child & sentimentScore & 0.8590749 & 9.858681e-32\\\\\n",
       "\t white & female & adult & sentimentScore & 0.8656738 & 3.995529e-31\\\\\n",
       "\t white & female & child & sentimentScore & 0.8739884 & 2.521951e-30\\\\\n",
       "\t white & male   & adult & sentimentScore & 0.8864712 & 4.836086e-29\\\\\n",
       "\t white & male   & child & sentimentScore & 0.8626490 & 2.089945e-31\\\\\n",
       "\\end{tabular}\n"
      ],
      "text/markdown": [
       "\n",
       "A tibble: 8 × 6\n",
       "\n",
       "| ethnicity &lt;chr&gt; | sex &lt;chr&gt; | age &lt;chr&gt; | variable &lt;chr&gt; | statistic &lt;dbl&gt; | p &lt;dbl&gt; |\n",
       "|---|---|---|---|---|---|\n",
       "| bipoc | female | adult | sentimentScore | 0.8573349 | 6.875608e-32 |\n",
       "| bipoc | female | child | sentimentScore | 0.8650087 | 3.461563e-31 |\n",
       "| bipoc | male   | adult | sentimentScore | 0.8444974 | 5.333350e-33 |\n",
       "| bipoc | male   | child | sentimentScore | 0.8590749 | 9.858681e-32 |\n",
       "| white | female | adult | sentimentScore | 0.8656738 | 3.995529e-31 |\n",
       "| white | female | child | sentimentScore | 0.8739884 | 2.521951e-30 |\n",
       "| white | male   | adult | sentimentScore | 0.8864712 | 4.836086e-29 |\n",
       "| white | male   | child | sentimentScore | 0.8626490 | 2.089945e-31 |\n",
       "\n"
      ],
      "text/plain": [
       "  ethnicity sex    age   variable       statistic p           \n",
       "1 bipoc     female adult sentimentScore 0.8573349 6.875608e-32\n",
       "2 bipoc     female child sentimentScore 0.8650087 3.461563e-31\n",
       "3 bipoc     male   adult sentimentScore 0.8444974 5.333350e-33\n",
       "4 bipoc     male   child sentimentScore 0.8590749 9.858681e-32\n",
       "5 white     female adult sentimentScore 0.8656738 3.995529e-31\n",
       "6 white     female child sentimentScore 0.8739884 2.521951e-30\n",
       "7 white     male   adult sentimentScore 0.8864712 4.836086e-29\n",
       "8 white     male   child sentimentScore 0.8626490 2.089945e-31"
      ]
     },
     "metadata": {},
     "output_type": "display_data"
    }
   ],
   "source": [
    "# Compute Shapiro-Wilk test for each combinations of factor levels\n",
    "\n",
    "df %>%\n",
    "  group_by(ethnicity, sex, age) %>%\n",
    "  shapiro_test(sentimentScore)"
   ]
  },
  {
   "cell_type": "code",
   "execution_count": 21,
   "id": "ba45459a",
   "metadata": {},
   "outputs": [
    {
     "data": {
      "text/html": [
       "TRUE"
      ],
      "text/latex": [
       "TRUE"
      ],
      "text/markdown": [
       "TRUE"
      ],
      "text/plain": [
       "[1] TRUE"
      ]
     },
     "metadata": {},
     "output_type": "display_data"
    }
   ],
   "source": [
    "3.461563e-31 < 0.05\n",
    "\n",
    "# not normal"
   ]
  },
  {
   "cell_type": "markdown",
   "id": "f6cd2d01",
   "metadata": {},
   "source": [
    "#### QQ plot "
   ]
  },
  {
   "cell_type": "code",
   "execution_count": 22,
   "id": "d64c5a70",
   "metadata": {},
   "outputs": [
    {
     "data": {
      "image/png": "[encoded data removed]",
      "text/plain": [
       "plot without title"
      ]
     },
     "metadata": {
      "image/png": {
       "height": 420,
       "width": 420
      }
     },
     "output_type": "display_data"
    }
   ],
   "source": [
    "ggqqplot(df, \"sentimentScore\", ggtheme = theme_bw()) +\n",
    "  facet_grid(sex + ethnicity ~ age, labeller = \"label_both\")"
   ]
  },
  {
   "cell_type": "markdown",
   "id": "7afe0297",
   "metadata": {},
   "source": [
    "**Definetively not normal data**"
   ]
  },
  {
   "cell_type": "markdown",
   "id": "08acf5e3",
   "metadata": {},
   "source": [
    "## Anova 2x2x2 computation \n",
    "\n",
    "\n",
    "My design is 2x2x2 fully-crosses, meaning will yield a singular decomposition. \n",
    "This is probably why LMER doesn't converge regardless of the optimizer and other hyper-params\n",
    "\n",
    "Guide: https://www.datanovia.com/en/lessons/repeated-measures-anova-in-r/#summary-statistics-2"
   ]
  },
  {
   "cell_type": "code",
   "execution_count": 23,
   "id": "d1d87dff",
   "metadata": {},
   "outputs": [],
   "source": [
    "df_long = df %>% select(participantId, sex, age, ethnicity, sentimentScore)"
   ]
  },
  {
   "cell_type": "code",
   "execution_count": 24,
   "id": "fb4ce589",
   "metadata": {},
   "outputs": [],
   "source": [
    "df_long = df_long %>% convert_as_factor(participantId, sex, age, ethnicity)"
   ]
  },
  {
   "cell_type": "code",
   "execution_count": 25,
   "id": "470287d0",
   "metadata": {},
   "outputs": [
    {
     "data": {
      "text/html": [
       "<table class=\"dataframe\">\n",
       "<caption>A tibble: 6 × 5</caption>\n",
       "<thead>\n",
       "\t<tr><th scope=col>participantId</th><th scope=col>sex</th><th scope=col>age</th><th scope=col>ethnicity</th><th scope=col>sentimentScore</th></tr>\n",
       "\t<tr><th scope=col>&lt;fct&gt;</th><th scope=col>&lt;fct&gt;</th><th scope=col>&lt;fct&gt;</th><th scope=col>&lt;fct&gt;</th><th scope=col>&lt;dbl&gt;</th></tr>\n",
       "</thead>\n",
       "<tbody>\n",
       "\t<tr><td>0</td><td>female</td><td>adult</td><td>bipoc</td><td> 0.0000</td></tr>\n",
       "\t<tr><td>0</td><td>male  </td><td>child</td><td>white</td><td> 0.5574</td></tr>\n",
       "\t<tr><td>0</td><td>male  </td><td>adult</td><td>bipoc</td><td>-0.5994</td></tr>\n",
       "\t<tr><td>0</td><td>male  </td><td>child</td><td>bipoc</td><td>-0.5994</td></tr>\n",
       "\t<tr><td>0</td><td>male  </td><td>adult</td><td>white</td><td> 0.5574</td></tr>\n",
       "\t<tr><td>0</td><td>female</td><td>adult</td><td>white</td><td>-0.2960</td></tr>\n",
       "</tbody>\n",
       "</table>\n"
      ],
      "text/latex": [
       "A tibble: 6 × 5\n",
       "\\begin{tabular}{lllll}\n",
       " participantId & sex & age & ethnicity & sentimentScore\\\\\n",
       " <fct> & <fct> & <fct> & <fct> & <dbl>\\\\\n",
       "\\hline\n",
       "\t 0 & female & adult & bipoc &  0.0000\\\\\n",
       "\t 0 & male   & child & white &  0.5574\\\\\n",
       "\t 0 & male   & adult & bipoc & -0.5994\\\\\n",
       "\t 0 & male   & child & bipoc & -0.5994\\\\\n",
       "\t 0 & male   & adult & white &  0.5574\\\\\n",
       "\t 0 & female & adult & white & -0.2960\\\\\n",
       "\\end{tabular}\n"
      ],
      "text/markdown": [
       "\n",
       "A tibble: 6 × 5\n",
       "\n",
       "| participantId &lt;fct&gt; | sex &lt;fct&gt; | age &lt;fct&gt; | ethnicity &lt;fct&gt; | sentimentScore &lt;dbl&gt; |\n",
       "|---|---|---|---|---|\n",
       "| 0 | female | adult | bipoc |  0.0000 |\n",
       "| 0 | male   | child | white |  0.5574 |\n",
       "| 0 | male   | adult | bipoc | -0.5994 |\n",
       "| 0 | male   | child | bipoc | -0.5994 |\n",
       "| 0 | male   | adult | white |  0.5574 |\n",
       "| 0 | female | adult | white | -0.2960 |\n",
       "\n"
      ],
      "text/plain": [
       "  participantId sex    age   ethnicity sentimentScore\n",
       "1 0             female adult bipoc      0.0000       \n",
       "2 0             male   child white      0.5574       \n",
       "3 0             male   adult bipoc     -0.5994       \n",
       "4 0             male   child bipoc     -0.5994       \n",
       "5 0             male   adult white      0.5574       \n",
       "6 0             female adult white     -0.2960       "
      ]
     },
     "metadata": {},
     "output_type": "display_data"
    }
   ],
   "source": [
    "head(df_long)"
   ]
  },
  {
   "cell_type": "code",
   "execution_count": 26,
   "id": "be4a233b",
   "metadata": {},
   "outputs": [],
   "source": [
    "# res.aov <- anova_test(\n",
    "#   data = df_long, dv = sentimentScore, wid = participantId,\n",
    "#   within = c(sex, age, ethnicity)\n",
    "#   )\n",
    "# get_anova_table(res.aov)"
   ]
  },
  {
   "cell_type": "code",
   "execution_count": 27,
   "id": "72b45b01",
   "metadata": {},
   "outputs": [
    {
     "name": "stderr",
     "output_type": "stream",
     "text": [
      "Warning message:\n",
      "“Converting \"participantId\" to factor for ANOVA.”\n",
      "Warning message:\n",
      "“Converting \"sex\" to factor for ANOVA.”\n",
      "Warning message:\n",
      "“Converting \"age\" to factor for ANOVA.”\n",
      "Warning message:\n",
      "“Converting \"ethnicity\" to factor for ANOVA.”\n",
      "Warning message:\n",
      "“Collapsing data to cell means. *IF* the requested effects are a subset of the full design, you must use the \"within_full\" argument, else results may be inaccurate.”\n"
     ]
    },
    {
     "data": {
      "text/html": [
       "<strong>$ANOVA</strong> = <table class=\"dataframe\">\n",
       "<caption>A data.frame: 7 × 7</caption>\n",
       "<thead>\n",
       "\t<tr><th></th><th scope=col>Effect</th><th scope=col>DFn</th><th scope=col>DFd</th><th scope=col>F</th><th scope=col>p</th><th scope=col>p&lt;.05</th><th scope=col>ges</th></tr>\n",
       "\t<tr><th></th><th scope=col>&lt;chr&gt;</th><th scope=col>&lt;dbl&gt;</th><th scope=col>&lt;dbl&gt;</th><th scope=col>&lt;dbl&gt;</th><th scope=col>&lt;dbl&gt;</th><th scope=col>&lt;chr&gt;</th><th scope=col>&lt;dbl&gt;</th></tr>\n",
       "</thead>\n",
       "<tbody>\n",
       "\t<tr><th scope=row>2</th><td>sex              </td><td>1</td><td>50</td><td> 9.521419</td><td>3.306335e-03</td><td>*</td><td>0.016548360</td></tr>\n",
       "\t<tr><th scope=row>3</th><td>age              </td><td>1</td><td>50</td><td>21.604378</td><td>2.475379e-05</td><td>*</td><td>0.054099828</td></tr>\n",
       "\t<tr><th scope=row>4</th><td>ethnicity        </td><td>1</td><td>50</td><td>31.530648</td><td>8.618142e-07</td><td>*</td><td>0.051307750</td></tr>\n",
       "\t<tr><th scope=row>5</th><td>sex:age          </td><td>1</td><td>50</td><td> 2.852944</td><td>9.743446e-02</td><td> </td><td>0.003967705</td></tr>\n",
       "\t<tr><th scope=row>6</th><td>sex:ethnicity    </td><td>1</td><td>50</td><td>13.324762</td><td>6.258531e-04</td><td>*</td><td>0.026661649</td></tr>\n",
       "\t<tr><th scope=row>7</th><td>age:ethnicity    </td><td>1</td><td>50</td><td>19.737606</td><td>4.929783e-05</td><td>*</td><td>0.025649119</td></tr>\n",
       "\t<tr><th scope=row>8</th><td>sex:age:ethnicity</td><td>1</td><td>50</td><td> 5.194152</td><td>2.696674e-02</td><td>*</td><td>0.009402510</td></tr>\n",
       "</tbody>\n",
       "</table>\n"
      ],
      "text/latex": [
       "\\textbf{\\$ANOVA} = A data.frame: 7 × 7\n",
       "\\begin{tabular}{r|lllllll}\n",
       "  & Effect & DFn & DFd & F & p & p<.05 & ges\\\\\n",
       "  & <chr> & <dbl> & <dbl> & <dbl> & <dbl> & <chr> & <dbl>\\\\\n",
       "\\hline\n",
       "\t2 & sex               & 1 & 50 &  9.521419 & 3.306335e-03 & * & 0.016548360\\\\\n",
       "\t3 & age               & 1 & 50 & 21.604378 & 2.475379e-05 & * & 0.054099828\\\\\n",
       "\t4 & ethnicity         & 1 & 50 & 31.530648 & 8.618142e-07 & * & 0.051307750\\\\\n",
       "\t5 & sex:age           & 1 & 50 &  2.852944 & 9.743446e-02 &   & 0.003967705\\\\\n",
       "\t6 & sex:ethnicity     & 1 & 50 & 13.324762 & 6.258531e-04 & * & 0.026661649\\\\\n",
       "\t7 & age:ethnicity     & 1 & 50 & 19.737606 & 4.929783e-05 & * & 0.025649119\\\\\n",
       "\t8 & sex:age:ethnicity & 1 & 50 &  5.194152 & 2.696674e-02 & * & 0.009402510\\\\\n",
       "\\end{tabular}\n"
      ],
      "text/markdown": [
       "**$ANOVA** = \n",
       "A data.frame: 7 × 7\n",
       "\n",
       "| <!--/--> | Effect &lt;chr&gt; | DFn &lt;dbl&gt; | DFd &lt;dbl&gt; | F &lt;dbl&gt; | p &lt;dbl&gt; | p&lt;.05 &lt;chr&gt; | ges &lt;dbl&gt; |\n",
       "|---|---|---|---|---|---|---|---|\n",
       "| 2 | sex               | 1 | 50 |  9.521419 | 3.306335e-03 | * | 0.016548360 |\n",
       "| 3 | age               | 1 | 50 | 21.604378 | 2.475379e-05 | * | 0.054099828 |\n",
       "| 4 | ethnicity         | 1 | 50 | 31.530648 | 8.618142e-07 | * | 0.051307750 |\n",
       "| 5 | sex:age           | 1 | 50 |  2.852944 | 9.743446e-02 | <!----> | 0.003967705 |\n",
       "| 6 | sex:ethnicity     | 1 | 50 | 13.324762 | 6.258531e-04 | * | 0.026661649 |\n",
       "| 7 | age:ethnicity     | 1 | 50 | 19.737606 | 4.929783e-05 | * | 0.025649119 |\n",
       "| 8 | sex:age:ethnicity | 1 | 50 |  5.194152 | 2.696674e-02 | * | 0.009402510 |\n",
       "\n"
      ],
      "text/plain": [
       "$ANOVA\n",
       "             Effect DFn DFd         F            p p<.05         ges\n",
       "2               sex   1  50  9.521419 3.306335e-03     * 0.016548360\n",
       "3               age   1  50 21.604378 2.475379e-05     * 0.054099828\n",
       "4         ethnicity   1  50 31.530648 8.618142e-07     * 0.051307750\n",
       "5           sex:age   1  50  2.852944 9.743446e-02       0.003967705\n",
       "6     sex:ethnicity   1  50 13.324762 6.258531e-04     * 0.026661649\n",
       "7     age:ethnicity   1  50 19.737606 4.929783e-05     * 0.025649119\n",
       "8 sex:age:ethnicity   1  50  5.194152 2.696674e-02     * 0.009402510\n"
      ]
     },
     "metadata": {},
     "output_type": "display_data"
    }
   ],
   "source": [
    "res.aov  = ezANOVA(data=df, wid=.(participantId), dv=.(sentimentScore), within=.(sex, age, ethnicity))\n",
    "res.aov  "
   ]
  },
  {
   "cell_type": "code",
   "execution_count": 28,
   "id": "eeeb6dc0",
   "metadata": {},
   "outputs": [
    {
     "data": {
      "text/html": [
       "'0.02696674'"
      ],
      "text/latex": [
       "'0.02696674'"
      ],
      "text/markdown": [
       "'0.02696674'"
      ],
      "text/plain": [
       "[1] \"0.02696674\""
      ]
     },
     "metadata": {},
     "output_type": "display_data"
    }
   ],
   "source": [
    "format(2.696674e-02, scientific=FALSE)"
   ]
  },
  {
   "cell_type": "markdown",
   "id": "42eff25e",
   "metadata": {},
   "source": [
    "There is a statistically significant three-way interactions between age, sex, and ethnicity, Anova, $F$(1, 50) = 5.19, $p$ = 0.03, $\\eta^2_{g}=0.009$"
   ]
  },
  {
   "cell_type": "markdown",
   "id": "a4a53564",
   "metadata": {},
   "source": [
    "### Post-hoc tests\n",
    "\n",
    "https://www.datanovia.com/en/lessons/repeated-measures-anova-in-r/#post-hoc-tests-2\n",
    "\n",
    "A significant three-way interaction effect can be decomposed into:\n",
    "\n",
    "- Simple two-way interaction: run two-way interaction at each level of third variable,\n",
    "- Simple main effect: run one-way model at each level of second variable, and\n",
    "- Simple pairwise comparisons: run pairwise or other post-hoc comparisons if necessary."
   ]
  },
  {
   "cell_type": "markdown",
   "id": "51b9ad67",
   "metadata": {},
   "source": [
    "#### Simple two-way interaction"
   ]
  },
  {
   "cell_type": "code",
   "execution_count": 72,
   "id": "70d88c70",
   "metadata": {},
   "outputs": [],
   "source": [
    "df_adult = df %>% filter(age=='adult')\n",
    "df_child = df %>% filter(age=='child')"
   ]
  },
  {
   "cell_type": "code",
   "execution_count": 75,
   "id": "d4e34517",
   "metadata": {},
   "outputs": [
    {
     "name": "stderr",
     "output_type": "stream",
     "text": [
      "Warning message:\n",
      "“Converting \"participantId\" to factor for ANOVA.”\n",
      "Warning message:\n",
      "“Converting \"sex\" to factor for ANOVA.”\n",
      "Warning message:\n",
      "“Converting \"ethnicity\" to factor for ANOVA.”\n",
      "Warning message:\n",
      "“Collapsing data to cell means. *IF* the requested effects are a subset of the full design, you must use the \"within_full\" argument, else results may be inaccurate.”\n",
      "Warning message:\n",
      "“Converting \"participantId\" to factor for ANOVA.”\n",
      "Warning message:\n",
      "“Converting \"sex\" to factor for ANOVA.”\n",
      "Warning message:\n",
      "“Converting \"ethnicity\" to factor for ANOVA.”\n",
      "Warning message:\n",
      "“Collapsing data to cell means. *IF* the requested effects are a subset of the full design, you must use the \"within_full\" argument, else results may be inaccurate.”\n"
     ]
    }
   ],
   "source": [
    "adult.twoway  = ezANOVA(data=df_adult, wid=.(participantId), dv= .(sentimentScore), within=.(sex, ethnicity))\n",
    "child.twoway  = ezANOVA(data=df_child, wid=.(participantId), dv= .(sentimentScore), within=.(sex, ethnicity))"
   ]
  },
  {
   "cell_type": "code",
   "execution_count": 76,
   "id": "27193d22",
   "metadata": {},
   "outputs": [
    {
     "data": {
      "text/html": [
       "<strong>$ANOVA</strong> = <table class=\"dataframe\">\n",
       "<caption>A data.frame: 3 × 7</caption>\n",
       "<thead>\n",
       "\t<tr><th></th><th scope=col>Effect</th><th scope=col>DFn</th><th scope=col>DFd</th><th scope=col>F</th><th scope=col>p</th><th scope=col>p&lt;.05</th><th scope=col>ges</th></tr>\n",
       "\t<tr><th></th><th scope=col>&lt;chr&gt;</th><th scope=col>&lt;dbl&gt;</th><th scope=col>&lt;dbl&gt;</th><th scope=col>&lt;dbl&gt;</th><th scope=col>&lt;dbl&gt;</th><th scope=col>&lt;chr&gt;</th><th scope=col>&lt;dbl&gt;</th></tr>\n",
       "</thead>\n",
       "<tbody>\n",
       "\t<tr><th scope=row>2</th><td>sex          </td><td>1</td><td>50</td><td> 1.490899</td><td>2.278037e-01</td><td> </td><td>0.004790347</td></tr>\n",
       "\t<tr><th scope=row>3</th><td>ethnicity    </td><td>1</td><td>50</td><td>45.074712</td><td>1.683223e-08</td><td>*</td><td>0.144664819</td></tr>\n",
       "\t<tr><th scope=row>4</th><td>sex:ethnicity</td><td>1</td><td>50</td><td>13.878048</td><td>4.966296e-04</td><td>*</td><td>0.069780059</td></tr>\n",
       "</tbody>\n",
       "</table>\n"
      ],
      "text/latex": [
       "\\textbf{\\$ANOVA} = A data.frame: 3 × 7\n",
       "\\begin{tabular}{r|lllllll}\n",
       "  & Effect & DFn & DFd & F & p & p<.05 & ges\\\\\n",
       "  & <chr> & <dbl> & <dbl> & <dbl> & <dbl> & <chr> & <dbl>\\\\\n",
       "\\hline\n",
       "\t2 & sex           & 1 & 50 &  1.490899 & 2.278037e-01 &   & 0.004790347\\\\\n",
       "\t3 & ethnicity     & 1 & 50 & 45.074712 & 1.683223e-08 & * & 0.144664819\\\\\n",
       "\t4 & sex:ethnicity & 1 & 50 & 13.878048 & 4.966296e-04 & * & 0.069780059\\\\\n",
       "\\end{tabular}\n"
      ],
      "text/markdown": [
       "**$ANOVA** = \n",
       "A data.frame: 3 × 7\n",
       "\n",
       "| <!--/--> | Effect &lt;chr&gt; | DFn &lt;dbl&gt; | DFd &lt;dbl&gt; | F &lt;dbl&gt; | p &lt;dbl&gt; | p&lt;.05 &lt;chr&gt; | ges &lt;dbl&gt; |\n",
       "|---|---|---|---|---|---|---|---|\n",
       "| 2 | sex           | 1 | 50 |  1.490899 | 2.278037e-01 | <!----> | 0.004790347 |\n",
       "| 3 | ethnicity     | 1 | 50 | 45.074712 | 1.683223e-08 | * | 0.144664819 |\n",
       "| 4 | sex:ethnicity | 1 | 50 | 13.878048 | 4.966296e-04 | * | 0.069780059 |\n",
       "\n"
      ],
      "text/plain": [
       "$ANOVA\n",
       "         Effect DFn DFd         F            p p<.05         ges\n",
       "2           sex   1  50  1.490899 2.278037e-01       0.004790347\n",
       "3     ethnicity   1  50 45.074712 1.683223e-08     * 0.144664819\n",
       "4 sex:ethnicity   1  50 13.878048 4.966296e-04     * 0.069780059\n"
      ]
     },
     "metadata": {},
     "output_type": "display_data"
    }
   ],
   "source": [
    "adult.twoway"
   ]
  },
  {
   "cell_type": "code",
   "execution_count": 77,
   "id": "1af50ff3",
   "metadata": {},
   "outputs": [
    {
     "data": {
      "text/html": [
       "<strong>$ANOVA</strong> = <table class=\"dataframe\">\n",
       "<caption>A data.frame: 3 × 7</caption>\n",
       "<thead>\n",
       "\t<tr><th></th><th scope=col>Effect</th><th scope=col>DFn</th><th scope=col>DFd</th><th scope=col>F</th><th scope=col>p</th><th scope=col>p&lt;.05</th><th scope=col>ges</th></tr>\n",
       "\t<tr><th></th><th scope=col>&lt;chr&gt;</th><th scope=col>&lt;dbl&gt;</th><th scope=col>&lt;dbl&gt;</th><th scope=col>&lt;dbl&gt;</th><th scope=col>&lt;dbl&gt;</th><th scope=col>&lt;chr&gt;</th><th scope=col>&lt;dbl&gt;</th></tr>\n",
       "</thead>\n",
       "<tbody>\n",
       "\t<tr><th scope=row>2</th><td>sex          </td><td>1</td><td>50</td><td>11.094252</td><td>0.001633397</td><td>*</td><td>0.033331676</td></tr>\n",
       "\t<tr><th scope=row>3</th><td>ethnicity    </td><td>1</td><td>50</td><td> 1.872582</td><td>0.177297353</td><td> </td><td>0.004563006</td></tr>\n",
       "\t<tr><th scope=row>4</th><td>sex:ethnicity</td><td>1</td><td>50</td><td> 1.664337</td><td>0.202953640</td><td> </td><td>0.004279434</td></tr>\n",
       "</tbody>\n",
       "</table>\n"
      ],
      "text/latex": [
       "\\textbf{\\$ANOVA} = A data.frame: 3 × 7\n",
       "\\begin{tabular}{r|lllllll}\n",
       "  & Effect & DFn & DFd & F & p & p<.05 & ges\\\\\n",
       "  & <chr> & <dbl> & <dbl> & <dbl> & <dbl> & <chr> & <dbl>\\\\\n",
       "\\hline\n",
       "\t2 & sex           & 1 & 50 & 11.094252 & 0.001633397 & * & 0.033331676\\\\\n",
       "\t3 & ethnicity     & 1 & 50 &  1.872582 & 0.177297353 &   & 0.004563006\\\\\n",
       "\t4 & sex:ethnicity & 1 & 50 &  1.664337 & 0.202953640 &   & 0.004279434\\\\\n",
       "\\end{tabular}\n"
      ],
      "text/markdown": [
       "**$ANOVA** = \n",
       "A data.frame: 3 × 7\n",
       "\n",
       "| <!--/--> | Effect &lt;chr&gt; | DFn &lt;dbl&gt; | DFd &lt;dbl&gt; | F &lt;dbl&gt; | p &lt;dbl&gt; | p&lt;.05 &lt;chr&gt; | ges &lt;dbl&gt; |\n",
       "|---|---|---|---|---|---|---|---|\n",
       "| 2 | sex           | 1 | 50 | 11.094252 | 0.001633397 | * | 0.033331676 |\n",
       "| 3 | ethnicity     | 1 | 50 |  1.872582 | 0.177297353 | <!----> | 0.004563006 |\n",
       "| 4 | sex:ethnicity | 1 | 50 |  1.664337 | 0.202953640 | <!----> | 0.004279434 |\n",
       "\n"
      ],
      "text/plain": [
       "$ANOVA\n",
       "         Effect DFn DFd         F           p p<.05         ges\n",
       "2           sex   1  50 11.094252 0.001633397     * 0.033331676\n",
       "3     ethnicity   1  50  1.872582 0.177297353       0.004563006\n",
       "4 sex:ethnicity   1  50  1.664337 0.202953640       0.004279434\n"
      ]
     },
     "metadata": {},
     "output_type": "display_data"
    }
   ],
   "source": [
    "child.twoway"
   ]
  },
  {
   "cell_type": "markdown",
   "id": "db6447f9",
   "metadata": {},
   "source": [
    "There is statistically significant simple two-way interaction between **sex** and **ethnicity** for \"adults\", F(1, 50) = 13.88, p < 0.0001, but not for \"childrens\" , F(1, 50) = 1.66, p = 0.2."
   ]
  },
  {
   "cell_type": "markdown",
   "id": "3634929e",
   "metadata": {},
   "source": [
    "#### Simple simple main effects"
   ]
  },
  {
   "cell_type": "code",
   "execution_count": 102,
   "id": "bb994e3d",
   "metadata": {},
   "outputs": [],
   "source": [
    "df_adult_male = df_adult %>% filter(sex=='male')\n",
    "df_child_female = df_child %>% filter(sex=='female')"
   ]
  },
  {
   "cell_type": "code",
   "execution_count": 103,
   "id": "5cee11bb",
   "metadata": {},
   "outputs": [
    {
     "name": "stderr",
     "output_type": "stream",
     "text": [
      "Warning message:\n",
      "“Converting \"participantId\" to factor for ANOVA.”\n",
      "Warning message:\n",
      "“Converting \"ethnicity\" to factor for ANOVA.”\n",
      "Warning message:\n",
      "“Collapsing data to cell means. *IF* the requested effects are a subset of the full design, you must use the \"within_full\" argument, else results may be inaccurate.”\n",
      "Warning message:\n",
      "“Converting \"participantId\" to factor for ANOVA.”\n",
      "Warning message:\n",
      "“Converting \"ethnicity\" to factor for ANOVA.”\n",
      "Warning message:\n",
      "“Collapsing data to cell means. *IF* the requested effects are a subset of the full design, you must use the \"within_full\" argument, else results may be inaccurate.”\n"
     ]
    }
   ],
   "source": [
    "adult_male.main  = ezANOVA(data=df_adult_male, wid=.(participantId), dv= .(sentimentScore), within=.(ethnicity))\n",
    "adult_female.main  = ezANOVA(data=df_child_female, wid=.(participantId), dv= .(sentimentScore), within=.(ethnicity))"
   ]
  },
  {
   "cell_type": "code",
   "execution_count": 104,
   "id": "24975e52",
   "metadata": {},
   "outputs": [
    {
     "data": {
      "text/html": [
       "<strong>$ANOVA</strong> = <table class=\"dataframe\">\n",
       "<caption>A data.frame: 1 × 7</caption>\n",
       "<thead>\n",
       "\t<tr><th></th><th scope=col>Effect</th><th scope=col>DFn</th><th scope=col>DFd</th><th scope=col>F</th><th scope=col>p</th><th scope=col>p&lt;.05</th><th scope=col>ges</th></tr>\n",
       "\t<tr><th></th><th scope=col>&lt;chr&gt;</th><th scope=col>&lt;dbl&gt;</th><th scope=col>&lt;dbl&gt;</th><th scope=col>&lt;dbl&gt;</th><th scope=col>&lt;dbl&gt;</th><th scope=col>&lt;chr&gt;</th><th scope=col>&lt;dbl&gt;</th></tr>\n",
       "</thead>\n",
       "<tbody>\n",
       "\t<tr><th scope=row>2</th><td>ethnicity</td><td>1</td><td>50</td><td>43.14119</td><td>2.843831e-08</td><td>*</td><td>0.3085971</td></tr>\n",
       "</tbody>\n",
       "</table>\n"
      ],
      "text/latex": [
       "\\textbf{\\$ANOVA} = A data.frame: 1 × 7\n",
       "\\begin{tabular}{r|lllllll}\n",
       "  & Effect & DFn & DFd & F & p & p<.05 & ges\\\\\n",
       "  & <chr> & <dbl> & <dbl> & <dbl> & <dbl> & <chr> & <dbl>\\\\\n",
       "\\hline\n",
       "\t2 & ethnicity & 1 & 50 & 43.14119 & 2.843831e-08 & * & 0.3085971\\\\\n",
       "\\end{tabular}\n"
      ],
      "text/markdown": [
       "**$ANOVA** = \n",
       "A data.frame: 1 × 7\n",
       "\n",
       "| <!--/--> | Effect &lt;chr&gt; | DFn &lt;dbl&gt; | DFd &lt;dbl&gt; | F &lt;dbl&gt; | p &lt;dbl&gt; | p&lt;.05 &lt;chr&gt; | ges &lt;dbl&gt; |\n",
       "|---|---|---|---|---|---|---|---|\n",
       "| 2 | ethnicity | 1 | 50 | 43.14119 | 2.843831e-08 | * | 0.3085971 |\n",
       "\n"
      ],
      "text/plain": [
       "$ANOVA\n",
       "     Effect DFn DFd        F            p p<.05       ges\n",
       "2 ethnicity   1  50 43.14119 2.843831e-08     * 0.3085971\n"
      ]
     },
     "metadata": {},
     "output_type": "display_data"
    }
   ],
   "source": [
    "adult_male.main"
   ]
  },
  {
   "cell_type": "code",
   "execution_count": 105,
   "id": "de990799",
   "metadata": {},
   "outputs": [
    {
     "data": {
      "text/html": [
       "<strong>$ANOVA</strong> = <table class=\"dataframe\">\n",
       "<caption>A data.frame: 1 × 7</caption>\n",
       "<thead>\n",
       "\t<tr><th></th><th scope=col>Effect</th><th scope=col>DFn</th><th scope=col>DFd</th><th scope=col>F</th><th scope=col>p</th><th scope=col>p&lt;.05</th><th scope=col>ges</th></tr>\n",
       "\t<tr><th></th><th scope=col>&lt;chr&gt;</th><th scope=col>&lt;dbl&gt;</th><th scope=col>&lt;dbl&gt;</th><th scope=col>&lt;dbl&gt;</th><th scope=col>&lt;dbl&gt;</th><th scope=col>&lt;chr&gt;</th><th scope=col>&lt;dbl&gt;</th></tr>\n",
       "</thead>\n",
       "<tbody>\n",
       "\t<tr><th scope=row>2</th><td>ethnicity</td><td>1</td><td>50</td><td>0.0009107473</td><td>0.9760448</td><td></td><td>4.669057e-06</td></tr>\n",
       "</tbody>\n",
       "</table>\n"
      ],
      "text/latex": [
       "\\textbf{\\$ANOVA} = A data.frame: 1 × 7\n",
       "\\begin{tabular}{r|lllllll}\n",
       "  & Effect & DFn & DFd & F & p & p<.05 & ges\\\\\n",
       "  & <chr> & <dbl> & <dbl> & <dbl> & <dbl> & <chr> & <dbl>\\\\\n",
       "\\hline\n",
       "\t2 & ethnicity & 1 & 50 & 0.0009107473 & 0.9760448 &  & 4.669057e-06\\\\\n",
       "\\end{tabular}\n"
      ],
      "text/markdown": [
       "**$ANOVA** = \n",
       "A data.frame: 1 × 7\n",
       "\n",
       "| <!--/--> | Effect &lt;chr&gt; | DFn &lt;dbl&gt; | DFd &lt;dbl&gt; | F &lt;dbl&gt; | p &lt;dbl&gt; | p&lt;.05 &lt;chr&gt; | ges &lt;dbl&gt; |\n",
       "|---|---|---|---|---|---|---|---|\n",
       "| 2 | ethnicity | 1 | 50 | 0.0009107473 | 0.9760448 | <!----> | 4.669057e-06 |\n",
       "\n"
      ],
      "text/plain": [
       "$ANOVA\n",
       "     Effect DFn DFd            F         p p<.05          ges\n",
       "2 ethnicity   1  50 0.0009107473 0.9760448       4.669057e-06\n"
      ]
     },
     "metadata": {},
     "output_type": "display_data"
    }
   ],
   "source": [
    "adult_female.main"
   ]
  },
  {
   "cell_type": "markdown",
   "id": "2360c406",
   "metadata": {},
   "source": [
    "There is a statistically significant simple main effect of **ethnicity** on **sentiment-score** for the \"**adult-males**\" group F(1, 50) = 43.14, p < 0.0001, but not for the \"adult-female\" group."
   ]
  },
  {
   "cell_type": "markdown",
   "id": "c47e506e",
   "metadata": {},
   "source": [
    "#### Simple Pairwise comparisons"
   ]
  },
  {
   "cell_type": "code",
   "execution_count": 29,
   "id": "a8d162f9",
   "metadata": {},
   "outputs": [
    {
     "data": {
      "text/html": [
       "<table class=\"dataframe\">\n",
       "<caption>A rstatix_test: 4 × 10</caption>\n",
       "<thead>\n",
       "\t<tr><th scope=col>sex</th><th scope=col>age</th><th scope=col>.y.</th><th scope=col>group1</th><th scope=col>group2</th><th scope=col>n1</th><th scope=col>n2</th><th scope=col>p</th><th scope=col>p.adj</th><th scope=col>p.adj.signif</th></tr>\n",
       "\t<tr><th scope=col>&lt;chr&gt;</th><th scope=col>&lt;chr&gt;</th><th scope=col>&lt;chr&gt;</th><th scope=col>&lt;chr&gt;</th><th scope=col>&lt;chr&gt;</th><th scope=col>&lt;int&gt;</th><th scope=col>&lt;int&gt;</th><th scope=col>&lt;dbl&gt;</th><th scope=col>&lt;dbl&gt;</th><th scope=col>&lt;chr&gt;</th></tr>\n",
       "</thead>\n",
       "<tbody>\n",
       "\t<tr><td>female</td><td>adult</td><td>sentimentScore</td><td>bipoc</td><td>white</td><td>1224</td><td>1224</td><td>3.34e-01</td><td>3.34e-01</td><td>ns  </td></tr>\n",
       "\t<tr><td>male  </td><td>adult</td><td>sentimentScore</td><td>bipoc</td><td>white</td><td>1224</td><td>1224</td><td>8.88e-07</td><td>8.88e-07</td><td>****</td></tr>\n",
       "\t<tr><td>female</td><td>child</td><td>sentimentScore</td><td>bipoc</td><td>white</td><td>1224</td><td>1224</td><td>9.87e-01</td><td>9.87e-01</td><td>ns  </td></tr>\n",
       "\t<tr><td>male  </td><td>child</td><td>sentimentScore</td><td>bipoc</td><td>white</td><td>1224</td><td>1224</td><td>2.97e-01</td><td>2.97e-01</td><td>ns  </td></tr>\n",
       "</tbody>\n",
       "</table>\n"
      ],
      "text/latex": [
       "A rstatix\\_test: 4 × 10\n",
       "\\begin{tabular}{llllllllll}\n",
       " sex & age & .y. & group1 & group2 & n1 & n2 & p & p.adj & p.adj.signif\\\\\n",
       " <chr> & <chr> & <chr> & <chr> & <chr> & <int> & <int> & <dbl> & <dbl> & <chr>\\\\\n",
       "\\hline\n",
       "\t female & adult & sentimentScore & bipoc & white & 1224 & 1224 & 3.34e-01 & 3.34e-01 & ns  \\\\\n",
       "\t male   & adult & sentimentScore & bipoc & white & 1224 & 1224 & 8.88e-07 & 8.88e-07 & ****\\\\\n",
       "\t female & child & sentimentScore & bipoc & white & 1224 & 1224 & 9.87e-01 & 9.87e-01 & ns  \\\\\n",
       "\t male   & child & sentimentScore & bipoc & white & 1224 & 1224 & 2.97e-01 & 2.97e-01 & ns  \\\\\n",
       "\\end{tabular}\n"
      ],
      "text/markdown": [
       "\n",
       "A rstatix_test: 4 × 10\n",
       "\n",
       "| sex &lt;chr&gt; | age &lt;chr&gt; | .y. &lt;chr&gt; | group1 &lt;chr&gt; | group2 &lt;chr&gt; | n1 &lt;int&gt; | n2 &lt;int&gt; | p &lt;dbl&gt; | p.adj &lt;dbl&gt; | p.adj.signif &lt;chr&gt; |\n",
       "|---|---|---|---|---|---|---|---|---|---|\n",
       "| female | adult | sentimentScore | bipoc | white | 1224 | 1224 | 3.34e-01 | 3.34e-01 | ns   |\n",
       "| male   | adult | sentimentScore | bipoc | white | 1224 | 1224 | 8.88e-07 | 8.88e-07 | **** |\n",
       "| female | child | sentimentScore | bipoc | white | 1224 | 1224 | 9.87e-01 | 9.87e-01 | ns   |\n",
       "| male   | child | sentimentScore | bipoc | white | 1224 | 1224 | 2.97e-01 | 2.97e-01 | ns   |\n",
       "\n"
      ],
      "text/plain": [
       "  sex    age   .y.            group1 group2 n1   n2   p        p.adj   \n",
       "1 female adult sentimentScore bipoc  white  1224 1224 3.34e-01 3.34e-01\n",
       "2 male   adult sentimentScore bipoc  white  1224 1224 8.88e-07 8.88e-07\n",
       "3 female child sentimentScore bipoc  white  1224 1224 9.87e-01 9.87e-01\n",
       "4 male   child sentimentScore bipoc  white  1224 1224 2.97e-01 2.97e-01\n",
       "  p.adj.signif\n",
       "1 ns          \n",
       "2 ****        \n",
       "3 ns          \n",
       "4 ns          "
      ]
     },
     "metadata": {},
     "output_type": "display_data"
    }
   ],
   "source": [
    "pwc <- df %>%\n",
    "  group_by(age, sex) %>%\n",
    "  pairwise_t_test(sentimentScore ~ ethnicity, paired = TRUE, p.adjust.method = \"bonferroni\") %>%\n",
    "  select(-df, -statistic) # Remove details\n",
    "\n",
    "pwc"
   ]
  },
  {
   "cell_type": "code",
   "execution_count": 91,
   "id": "c9da3742",
   "metadata": {},
   "outputs": [
    {
     "data": {
      "text/html": [
       "<table class=\"dataframe\">\n",
       "<caption>A rstatix_test: 1 × 14</caption>\n",
       "<thead>\n",
       "\t<tr><th scope=col>sex</th><th scope=col>age</th><th scope=col>.y.</th><th scope=col>group1</th><th scope=col>group2</th><th scope=col>n1</th><th scope=col>n2</th><th scope=col>p.signif</th><th scope=col>p.adj</th><th scope=col>p.adj.signif</th><th scope=col>y.position</th><th scope=col>groups</th><th scope=col>xmin</th><th scope=col>xmax</th></tr>\n",
       "\t<tr><th scope=col>&lt;chr&gt;</th><th scope=col>&lt;chr&gt;</th><th scope=col>&lt;chr&gt;</th><th scope=col>&lt;chr&gt;</th><th scope=col>&lt;chr&gt;</th><th scope=col>&lt;int&gt;</th><th scope=col>&lt;int&gt;</th><th scope=col>&lt;chr&gt;</th><th scope=col>&lt;dbl&gt;</th><th scope=col>&lt;chr&gt;</th><th scope=col>&lt;dbl&gt;</th><th scope=col>&lt;named list&gt;</th><th scope=col>&lt;dbl&gt;</th><th scope=col>&lt;dbl&gt;</th></tr>\n",
       "</thead>\n",
       "<tbody>\n",
       "\t<tr><td>male</td><td>adult</td><td>sentimentScore</td><td>bipoc</td><td>white</td><td>1865</td><td>1792</td><td>****</td><td>2.26e-07</td><td>****</td><td>0.77708</td><td>bipoc, white</td><td>1</td><td>2</td></tr>\n",
       "</tbody>\n",
       "</table>\n"
      ],
      "text/latex": [
       "A rstatix\\_test: 1 × 14\n",
       "\\begin{tabular}{llllllllllllll}\n",
       " sex & age & .y. & group1 & group2 & n1 & n2 & p.signif & p.adj & p.adj.signif & y.position & groups & xmin & xmax\\\\\n",
       " <chr> & <chr> & <chr> & <chr> & <chr> & <int> & <int> & <chr> & <dbl> & <chr> & <dbl> & <named list> & <dbl> & <dbl>\\\\\n",
       "\\hline\n",
       "\t male & adult & sentimentScore & bipoc & white & 1865 & 1792 & **** & 2.26e-07 & **** & 0.77708 & bipoc, white & 1 & 2\\\\\n",
       "\\end{tabular}\n"
      ],
      "text/markdown": [
       "\n",
       "A rstatix_test: 1 × 14\n",
       "\n",
       "| sex &lt;chr&gt; | age &lt;chr&gt; | .y. &lt;chr&gt; | group1 &lt;chr&gt; | group2 &lt;chr&gt; | n1 &lt;int&gt; | n2 &lt;int&gt; | p.signif &lt;chr&gt; | p.adj &lt;dbl&gt; | p.adj.signif &lt;chr&gt; | y.position &lt;dbl&gt; | groups &lt;named list&gt; | xmin &lt;dbl&gt; | xmax &lt;dbl&gt; |\n",
       "|---|---|---|---|---|---|---|---|---|---|---|---|---|---|\n",
       "| male | adult | sentimentScore | bipoc | white | 1865 | 1792 | **** | 2.26e-07 | **** | 0.77708 | bipoc, white | 1 | 2 |\n",
       "\n"
      ],
      "text/plain": [
       "  sex  age   .y.            group1 group2 n1   n2   p.signif p.adj   \n",
       "1 male adult sentimentScore bipoc  white  1865 1792 ****     2.26e-07\n",
       "  p.adj.signif y.position groups       xmin xmax\n",
       "1 ****         0.77708    bipoc, white 1    2   "
      ]
     },
     "metadata": {},
     "output_type": "display_data"
    }
   ],
   "source": [
    "pwc %>% filter(sex == \"male\", age == \"adult\") %>%\n",
    "  select(-p)     # remove p columns"
   ]
  },
  {
   "cell_type": "markdown",
   "id": "07c0ff10",
   "metadata": {},
   "source": [
    "### Visualization forced-choice: box plots with p-values"
   ]
  },
  {
   "cell_type": "code",
   "execution_count": 128,
   "id": "d83666b4",
   "metadata": {},
   "outputs": [
    {
     "data": {
      "image/png": "[encoded data removed]",
      "text/plain": [
       "plot without title"
      ]
     },
     "metadata": {
      "image/png": {
       "height": 420,
       "width": 420
      }
     },
     "output_type": "display_data"
    }
   ],
   "source": [
    "# subtitle_3way_anova = \"Anova, $F$(1, 50) = 5.19, $p$ = 0.03, $\\\\eta^2_{g}=0.009$\"\n",
    "subtitle_3way_anova = expression(paste(\"Anova, F(1, 50) = 5.19, p = 0.03, \",eta[g]^2, \"=0.009\"))\n",
    "pwc <- pwc %>% add_xy_position(x = \"sex\")\n",
    "\n",
    "pwc.filtered <- pwc %>% \n",
    "  filter(sex == \"male\", age == \"adult\")\n",
    "\n",
    "bxp +  \n",
    "  stat_pvalue_manual(\n",
    "    pwc.filtered, hide.ns = TRUE, bracket.nudge.y = 0.1,\n",
    "    label = \"{p.adj}{p.adj.signif}\"\n",
    "    ) +\n",
    "  labs(\n",
    "    subtitle = subtitle_3way_anova,\n",
    "    caption = get_pwc_label(pwc)\n",
    "  )"
   ]
  },
  {
   "cell_type": "code",
   "execution_count": 129,
   "id": "a4a48ad5",
   "metadata": {},
   "outputs": [
    {
     "name": "stderr",
     "output_type": "stream",
     "text": [
      "Saving 6.67 x 6.67 in image\n",
      "\n",
      "Saving 6.67 x 6.67 in image\n",
      "\n"
     ]
    }
   ],
   "source": [
    "ggsave(\"../clean_data/anova_3way_test_forced_choice.png\")\n",
    "ggsave(\"../../emotions_dashboard/data/anova_3way_test_forced_choice.png\")"
   ]
  },
  {
   "cell_type": "markdown",
   "id": "2715c18b",
   "metadata": {},
   "source": [
    "## Report"
   ]
  },
  {
   "cell_type": "markdown",
   "id": "93955118",
   "metadata": {},
   "source": [
    "-------------------\n",
    "\n",
    "\n",
    "\n",
    "\n",
    "***PENDING...***\n",
    "\n",
    "\n",
    "\n",
    "-------------------"
   ]
  },
  {
   "cell_type": "markdown",
   "id": "82d2ca0f",
   "metadata": {},
   "source": [
    "## Anova agrgegated across ethnicity for between-effect"
   ]
  },
  {
   "cell_type": "code",
   "execution_count": 32,
   "id": "a518ff5c",
   "metadata": {},
   "outputs": [],
   "source": [
    "mDf = aggregate(sentimentScore ~ participantId + ethnicityC, data=df, FUN=mean)"
   ]
  },
  {
   "cell_type": "code",
   "execution_count": 33,
   "id": "97a202ff",
   "metadata": {},
   "outputs": [
    {
     "data": {
      "text/plain": [
       "             Df  Sum Sq  Mean Sq F value   Pr(>F)    \n",
       "ethnicityC    1 0.02102 0.021020   12.05 0.000764 ***\n",
       "Residuals   100 0.17436 0.001744                     \n",
       "---\n",
       "Signif. codes:  0 ‘***’ 0.001 ‘**’ 0.01 ‘*’ 0.05 ‘.’ 0.1 ‘ ’ 1"
      ]
     },
     "metadata": {},
     "output_type": "display_data"
    }
   ],
   "source": [
    "summary(aov(sentimentScore ~ ethnicityC, data=mDf))     # ANOVA with just the between-effect"
   ]
  },
  {
   "cell_type": "code",
   "execution_count": 34,
   "id": "2d997ed9",
   "metadata": {},
   "outputs": [],
   "source": [
    "# Images depicting caucasian faces "
   ]
  },
  {
   "cell_type": "code",
   "execution_count": 35,
   "id": "189565f3",
   "metadata": {},
   "outputs": [
    {
     "data": {
      "text/html": [
       "<table class=\"dataframe\">\n",
       "<caption>A tibble: 2 × 5</caption>\n",
       "<thead>\n",
       "\t<tr><th scope=col>ethnicityC</th><th scope=col>variable</th><th scope=col>n</th><th scope=col>mean</th><th scope=col>sd</th></tr>\n",
       "\t<tr><th scope=col>&lt;dbl&gt;</th><th scope=col>&lt;chr&gt;</th><th scope=col>&lt;dbl&gt;</th><th scope=col>&lt;dbl&gt;</th><th scope=col>&lt;dbl&gt;</th></tr>\n",
       "</thead>\n",
       "<tbody>\n",
       "\t<tr><td>-0.5</td><td>sentimentScore</td><td>51</td><td>-0.130</td><td>0.042</td></tr>\n",
       "\t<tr><td> 0.5</td><td>sentimentScore</td><td>51</td><td>-0.101</td><td>0.041</td></tr>\n",
       "</tbody>\n",
       "</table>\n"
      ],
      "text/latex": [
       "A tibble: 2 × 5\n",
       "\\begin{tabular}{lllll}\n",
       " ethnicityC & variable & n & mean & sd\\\\\n",
       " <dbl> & <chr> & <dbl> & <dbl> & <dbl>\\\\\n",
       "\\hline\n",
       "\t -0.5 & sentimentScore & 51 & -0.130 & 0.042\\\\\n",
       "\t  0.5 & sentimentScore & 51 & -0.101 & 0.041\\\\\n",
       "\\end{tabular}\n"
      ],
      "text/markdown": [
       "\n",
       "A tibble: 2 × 5\n",
       "\n",
       "| ethnicityC &lt;dbl&gt; | variable &lt;chr&gt; | n &lt;dbl&gt; | mean &lt;dbl&gt; | sd &lt;dbl&gt; |\n",
       "|---|---|---|---|---|\n",
       "| -0.5 | sentimentScore | 51 | -0.130 | 0.042 |\n",
       "|  0.5 | sentimentScore | 51 | -0.101 | 0.041 |\n",
       "\n"
      ],
      "text/plain": [
       "  ethnicityC variable       n  mean   sd   \n",
       "1 -0.5       sentimentScore 51 -0.130 0.042\n",
       "2  0.5       sentimentScore 51 -0.101 0.041"
      ]
     },
     "metadata": {},
     "output_type": "display_data"
    }
   ],
   "source": [
    "mDf %>%\n",
    "  group_by(ethnicityC) %>%\n",
    "  get_summary_stats(sentimentScore, type = \"mean_sd\")"
   ]
  },
  {
   "cell_type": "code",
   "execution_count": 36,
   "id": "da393a3a",
   "metadata": {},
   "outputs": [
    {
     "data": {
      "text/html": [
       "-0.029"
      ],
      "text/latex": [
       "-0.029"
      ],
      "text/markdown": [
       "-0.029"
      ],
      "text/plain": [
       "[1] -0.029"
      ]
     },
     "metadata": {},
     "output_type": "display_data"
    }
   ],
   "source": [
    "-0.130 - (-0.101)"
   ]
  },
  {
   "cell_type": "markdown",
   "id": "b80c4a27",
   "metadata": {},
   "source": [
    "# Free-labeling"
   ]
  },
  {
   "cell_type": "code",
   "execution_count": 37,
   "id": "194d9ec4",
   "metadata": {},
   "outputs": [
    {
     "name": "stderr",
     "output_type": "stream",
     "text": [
      "\n",
      "\u001b[36m──\u001b[39m \u001b[1m\u001b[1mColumn specification\u001b[1m\u001b[22m \u001b[36m──────────────────────────────────────────────────────────────────────────────────────\u001b[39m\n",
      "cols(\n",
      "  participantId = \u001b[32mcol_double()\u001b[39m,\n",
      "  photoId = \u001b[31mcol_character()\u001b[39m,\n",
      "  emotion = \u001b[31mcol_character()\u001b[39m,\n",
      "  ethnicity = \u001b[31mcol_character()\u001b[39m,\n",
      "  sex = \u001b[31mcol_character()\u001b[39m,\n",
      "  age = \u001b[31mcol_character()\u001b[39m,\n",
      "  label = \u001b[31mcol_character()\u001b[39m,\n",
      "  url = \u001b[31mcol_character()\u001b[39m,\n",
      "  sentimentScore = \u001b[32mcol_double()\u001b[39m,\n",
      "  sexC = \u001b[32mcol_double()\u001b[39m,\n",
      "  ageC = \u001b[32mcol_double()\u001b[39m,\n",
      "  ethnicityC = \u001b[32mcol_double()\u001b[39m\n",
      ")\n",
      "\n",
      "\n"
     ]
    }
   ],
   "source": [
    "df_free = read_csv(\"../clean_data/free_labeling_emotion_uw_students_long_format_lmer.csv\")"
   ]
  },
  {
   "cell_type": "markdown",
   "id": "e5e20e9c",
   "metadata": {},
   "source": [
    "## Run model with Nelder-Mead opt"
   ]
  },
  {
   "cell_type": "markdown",
   "id": "1b9c6526",
   "metadata": {},
   "source": [
    "**Determining random effect structure**\n",
    "\n",
    "**Random Intercept**:\n",
    "- participantId: repeated measures from same participant\n",
    "- photoId: repeated measures from same photo\n",
    "\n",
    "**Random slope**:\n",
    "- ethnicity: varies *within participantId* and *between items*\n",
    "- sex: varies *within participantId* and *between items*\n",
    "- age: varies *within participantId* and *between items*\n",
    "\n",
    "----\n",
    "- Random intercept and slope for participantId\n",
    "- Random intercept for photoId\n",
    "\n",
    "----"
   ]
  },
  {
   "cell_type": "code",
   "execution_count": 38,
   "id": "d00cb65b",
   "metadata": {},
   "outputs": [
    {
     "name": "stderr",
     "output_type": "stream",
     "text": [
      "Warning message:\n",
      "“Model failed to converge with 1 negative eigenvalue: -2.9e+01”\n"
     ]
    },
    {
     "data": {
      "text/plain": [
       "Linear mixed model fit by maximum likelihood . t-tests use Satterthwaite's\n",
       "  method [lmerModLmerTest]\n",
       "Formula: sentimentScore ~ 1 + sexC * ethnicityC + (1 + sexC * ethnicityC |  \n",
       "    participantId) + (1 | photoId)\n",
       "   Data: df_free\n",
       "Control: lmerControl(optimizer = \"Nelder_Mead\", calc.derivs = FALSE)\n",
       "\n",
       "     AIC      BIC   logLik deviance df.resid \n",
       "  4375.2   4496.6  -2171.6   4343.2    14593 \n",
       "\n",
       "Scaled residuals: \n",
       "    Min      1Q  Median      3Q     Max \n",
       "-3.8514 -0.6501 -0.0968  0.6190  4.1113 \n",
       "\n",
       "Random effects:\n",
       " Groups        Name            Variance  Std.Dev. Corr             \n",
       " photoId       (Intercept)     0.0478190 0.21868                   \n",
       " participantId (Intercept)     0.0037712 0.06141                   \n",
       "               sexC            0.0006181 0.02486  -0.24            \n",
       "               ethnicityC      0.2004767 0.44775  -0.35  0.62      \n",
       "               sexC:ethnicityC 0.0178609 0.13364  -0.40  0.71  0.98\n",
       " Residual                      0.0680487 0.26086                   \n",
       "Number of obs: 14609, groups:  photoId, 717; participantId, 49\n",
       "\n",
       "Fixed effects:\n",
       "                 Estimate Std. Error        df t value Pr(>|t|)    \n",
       "(Intercept)      -0.08821    0.01254 107.07669  -7.036 1.96e-10 ***\n",
       "sexC             -0.02352    0.01797 565.77027  -1.309    0.191    \n",
       "ethnicityC        0.02008    0.06643 147.71729   0.302    0.763    \n",
       "sexC:ethnicityC   0.05506    0.04000   9.15953   1.377    0.201    \n",
       "---\n",
       "Signif. codes:  0 ‘***’ 0.001 ‘**’ 0.01 ‘*’ 0.05 ‘.’ 0.1 ‘ ’ 1\n",
       "\n",
       "Correlation of Fixed Effects:\n",
       "            (Intr) sexC   ethncC\n",
       "sexC        -0.031              \n",
       "ethnicityC  -0.232  0.117       \n",
       "sxC:thnctyC -0.136  0.071  0.452"
      ]
     },
     "metadata": {},
     "output_type": "display_data"
    }
   ],
   "source": [
    "# -------------\n",
    "# lacks power because there is only 1 obs per cell of [participantId X photoId]\n",
    "# -------------\n",
    "\n",
    "lmer_fl_uw_full = lmer(\n",
    "    sentimentScore ~ 1 + sexC*ethnicityC + (1 + sexC*ethnicityC|participantId) + (1 | photoId), \n",
    "    data = df_free,\n",
    "    REML = FALSE, \n",
    "    control = lmerControl(optimizer =\"Nelder_Mead\", calc.derivs=FALSE)\n",
    ")\n",
    "summary(lmer_fl_uw_full)"
   ]
  },
  {
   "cell_type": "code",
   "execution_count": 39,
   "id": "2a3a8738",
   "metadata": {},
   "outputs": [
    {
     "data": {
      "text/plain": [
       "Linear mixed model fit by maximum likelihood . t-tests use Satterthwaite's\n",
       "  method [lmerModLmerTest]\n",
       "Formula: sentimentScore ~ 1 + sexC * ethnicityC + (1 + sexC * ethnicityC ||  \n",
       "    participantId)\n",
       "   Data: df_free\n",
       "Control: lmerControl(optimizer = \"Nelder_Mead\", calc.derivs = FALSE)\n",
       "\n",
       "     AIC      BIC   logLik deviance df.resid \n",
       " 11995.0  12063.3  -5988.5  11977.0    14600 \n",
       "\n",
       "Scaled residuals: \n",
       "     Min       1Q   Median       3Q      Max \n",
       "-1.93267 -0.88103 -0.03271  0.65051  2.60020 \n",
       "\n",
       "Random effects:\n",
       " Groups          Name            Variance  Std.Dev.\n",
       " participantId   (Intercept)     0.0031665 0.05627 \n",
       " participantId.1 sexC            0.0000000 0.00000 \n",
       " participantId.2 ethnicityC      0.0003014 0.01736 \n",
       " participantId.3 sexC:ethnicityC 0.0000000 0.00000 \n",
       " Residual                        0.1319555 0.36326 \n",
       "Number of obs: 14609, groups:  participantId, 49\n",
       "\n",
       "Fixed effects:\n",
       "                  Estimate Std. Error         df t value Pr(>|t|)    \n",
       "(Intercept)     -9.833e-02  8.703e-03  5.101e+01 -11.299 1.70e-15 ***\n",
       "sexC            -2.333e-02  6.013e-03  1.454e+04  -3.879 0.000105 ***\n",
       "ethnicityC       1.119e-02  6.603e-03  5.137e+01   1.694 0.096262 .  \n",
       "sexC:ethnicityC  6.394e-02  1.203e-02  1.454e+04   5.317 1.07e-07 ***\n",
       "---\n",
       "Signif. codes:  0 ‘***’ 0.001 ‘**’ 0.01 ‘*’ 0.05 ‘.’ 0.1 ‘ ’ 1\n",
       "\n",
       "Correlation of Fixed Effects:\n",
       "            (Intr) sexC   ethncC\n",
       "sexC        -0.001              \n",
       "ethnicityC   0.001  0.009       \n",
       "sxC:thnctyC  0.005  0.001 -0.001"
      ]
     },
     "metadata": {},
     "output_type": "display_data"
    }
   ],
   "source": [
    "# --------------\n",
    "# it doesn't address photoId random effect, but it has better power 20+ obs per cell (i.e., participantId )\n",
    "# Also, I specified multiple uncorrelated random effects for the same grouping variable, so the model converge\n",
    "# --------------\n",
    "\n",
    "lmer_fl_uw_partial = lmer(\n",
    "    sentimentScore ~ 1 + sexC*ethnicityC + (1 + sexC*ethnicityC||participantId), \n",
    "    data = df_free, \n",
    "    REML = FALSE, \n",
    "    control = lmerControl(optimizer =\"Nelder_Mead\", calc.derivs=FALSE)\n",
    ")\n",
    "summary(lmer_fl_uw_partial)"
   ]
  },
  {
   "cell_type": "markdown",
   "id": "270f8a4a",
   "metadata": {},
   "source": [
    "## Check collinearity"
   ]
  },
  {
   "cell_type": "code",
   "execution_count": 40,
   "id": "c79f045d",
   "metadata": {},
   "outputs": [
    {
     "data": {
      "text/html": [
       "<table class=\"dataframe\">\n",
       "<caption>A check_collinearity: 3 × 3</caption>\n",
       "<thead>\n",
       "\t<tr><th></th><th scope=col>Term</th><th scope=col>VIF</th><th scope=col>SE_factor</th></tr>\n",
       "\t<tr><th></th><th scope=col>&lt;chr&gt;</th><th scope=col>&lt;dbl&gt;</th><th scope=col>&lt;dbl&gt;</th></tr>\n",
       "</thead>\n",
       "<tbody>\n",
       "\t<tr><th scope=row>1</th><td>sexC           </td><td>1.000081</td><td>1.000041</td></tr>\n",
       "\t<tr><th scope=row>2</th><td>ethnicityC     </td><td>1.000082</td><td>1.000041</td></tr>\n",
       "\t<tr><th scope=row>3</th><td>sexC:ethnicityC</td><td>1.000003</td><td>1.000002</td></tr>\n",
       "</tbody>\n",
       "</table>\n"
      ],
      "text/latex": [
       "A check\\_collinearity: 3 × 3\n",
       "\\begin{tabular}{r|lll}\n",
       "  & Term & VIF & SE\\_factor\\\\\n",
       "  & <chr> & <dbl> & <dbl>\\\\\n",
       "\\hline\n",
       "\t1 & sexC            & 1.000081 & 1.000041\\\\\n",
       "\t2 & ethnicityC      & 1.000082 & 1.000041\\\\\n",
       "\t3 & sexC:ethnicityC & 1.000003 & 1.000002\\\\\n",
       "\\end{tabular}\n"
      ],
      "text/markdown": [
       "\n",
       "A check_collinearity: 3 × 3\n",
       "\n",
       "| <!--/--> | Term &lt;chr&gt; | VIF &lt;dbl&gt; | SE_factor &lt;dbl&gt; |\n",
       "|---|---|---|---|\n",
       "| 1 | sexC            | 1.000081 | 1.000041 |\n",
       "| 2 | ethnicityC      | 1.000082 | 1.000041 |\n",
       "| 3 | sexC:ethnicityC | 1.000003 | 1.000002 |\n",
       "\n"
      ],
      "text/plain": [
       "  Term            VIF      SE_factor\n",
       "1 sexC            1.000081 1.000041 \n",
       "2 ethnicityC      1.000082 1.000041 \n",
       "3 sexC:ethnicityC 1.000003 1.000002 "
      ]
     },
     "metadata": {},
     "output_type": "display_data"
    }
   ],
   "source": [
    "check_collinearity(lmer_fl_uw_partial)"
   ]
  },
  {
   "cell_type": "code",
   "execution_count": 41,
   "id": "995c11a6",
   "metadata": {},
   "outputs": [
    {
     "data": {
      "image/png": "[encoded data removed]",
      "text/plain": [
       "plot without title"
      ]
     },
     "metadata": {
      "image/png": {
       "height": 420,
       "width": 420
      }
     },
     "output_type": "display_data"
    }
   ],
   "source": [
    "plot(check_collinearity(lmer_fl_uw_partial))"
   ]
  },
  {
   "cell_type": "markdown",
   "id": "6d596fb4",
   "metadata": {},
   "source": [
    "## Check singularity"
   ]
  },
  {
   "cell_type": "code",
   "execution_count": 42,
   "id": "da621036",
   "metadata": {},
   "outputs": [
    {
     "data": {
      "text/html": [
       "<table class=\"dataframe\">\n",
       "<caption>A check_collinearity: 3 × 3</caption>\n",
       "<thead>\n",
       "\t<tr><th></th><th scope=col>Term</th><th scope=col>VIF</th><th scope=col>SE_factor</th></tr>\n",
       "\t<tr><th></th><th scope=col>&lt;chr&gt;</th><th scope=col>&lt;dbl&gt;</th><th scope=col>&lt;dbl&gt;</th></tr>\n",
       "</thead>\n",
       "<tbody>\n",
       "\t<tr><th scope=row>1</th><td>sexC           </td><td>1.000081</td><td>1.000041</td></tr>\n",
       "\t<tr><th scope=row>2</th><td>ethnicityC     </td><td>1.000082</td><td>1.000041</td></tr>\n",
       "\t<tr><th scope=row>3</th><td>sexC:ethnicityC</td><td>1.000003</td><td>1.000002</td></tr>\n",
       "</tbody>\n",
       "</table>\n"
      ],
      "text/latex": [
       "A check\\_collinearity: 3 × 3\n",
       "\\begin{tabular}{r|lll}\n",
       "  & Term & VIF & SE\\_factor\\\\\n",
       "  & <chr> & <dbl> & <dbl>\\\\\n",
       "\\hline\n",
       "\t1 & sexC            & 1.000081 & 1.000041\\\\\n",
       "\t2 & ethnicityC      & 1.000082 & 1.000041\\\\\n",
       "\t3 & sexC:ethnicityC & 1.000003 & 1.000002\\\\\n",
       "\\end{tabular}\n"
      ],
      "text/markdown": [
       "\n",
       "A check_collinearity: 3 × 3\n",
       "\n",
       "| <!--/--> | Term &lt;chr&gt; | VIF &lt;dbl&gt; | SE_factor &lt;dbl&gt; |\n",
       "|---|---|---|---|\n",
       "| 1 | sexC            | 1.000081 | 1.000041 |\n",
       "| 2 | ethnicityC      | 1.000082 | 1.000041 |\n",
       "| 3 | sexC:ethnicityC | 1.000003 | 1.000002 |\n",
       "\n"
      ],
      "text/plain": [
       "  Term            VIF      SE_factor\n",
       "1 sexC            1.000081 1.000041 \n",
       "2 ethnicityC      1.000082 1.000041 \n",
       "3 sexC:ethnicityC 1.000003 1.000002 "
      ]
     },
     "metadata": {},
     "output_type": "display_data"
    }
   ],
   "source": [
    "check_collinearity(lmer_fl_uw_partial)"
   ]
  },
  {
   "cell_type": "code",
   "execution_count": 43,
   "id": "02a6c9fe",
   "metadata": {},
   "outputs": [
    {
     "data": {
      "text/html": [
       "0"
      ],
      "text/latex": [
       "0"
      ],
      "text/markdown": [
       "0"
      ],
      "text/plain": [
       "[1] 0"
      ]
     },
     "metadata": {},
     "output_type": "display_data"
    }
   ],
   "source": [
    "# https://rstudio-pubs-static.s3.amazonaws.com/33653_57fc7b8e5d484c909b615d8633c01d51.html\n",
    "\n",
    "\n",
    "# https://rstudio-pubs-static.s3.amazonaws.com/33653_57fc7b8e5d484c909b615d8633c01d51.html\n",
    "tt_p = getME(lmer_fl_uw_partial,\"theta\")\n",
    "ll_p = getME(lmer_fl_uw_partial,\"lower\")\n",
    "tt_value_p = min(tt_p[ll_p==0])\n",
    "\n",
    "tt_value_p"
   ]
  },
  {
   "cell_type": "code",
   "execution_count": 44,
   "id": "ba98a092",
   "metadata": {},
   "outputs": [
    {
     "data": {
      "text/html": [
       "TRUE"
      ],
      "text/latex": [
       "TRUE"
      ],
      "text/markdown": [
       "TRUE"
      ],
      "text/plain": [
       "[1] TRUE"
      ]
     },
     "metadata": {},
     "output_type": "display_data"
    }
   ],
   "source": [
    "theta_p <- getME(lmer_fl_uw_partial,\"theta\")\n",
    "## diagonal elements are identifiable because they are fitted\n",
    "##  with a lower bound of zero ...\n",
    "diag.element <- getME(lmer_fl_uw_partial,\"lower\")==0\n",
    "any(theta_p[diag.element]<1e-5)\n",
    "\n",
    "# there may be a problem"
   ]
  },
  {
   "cell_type": "markdown",
   "id": "bf81138e",
   "metadata": {},
   "source": [
    "## Three-way Anova "
   ]
  },
  {
   "cell_type": "code",
   "execution_count": 45,
   "id": "07a55087",
   "metadata": {},
   "outputs": [
    {
     "data": {
      "text/html": [
       "<table class=\"dataframe\">\n",
       "<caption>A tibble: 8 × 7</caption>\n",
       "<thead>\n",
       "\t<tr><th scope=col>ethnicity</th><th scope=col>sex</th><th scope=col>age</th><th scope=col>variable</th><th scope=col>n</th><th scope=col>mean</th><th scope=col>sd</th></tr>\n",
       "\t<tr><th scope=col>&lt;chr&gt;</th><th scope=col>&lt;chr&gt;</th><th scope=col>&lt;chr&gt;</th><th scope=col>&lt;chr&gt;</th><th scope=col>&lt;dbl&gt;</th><th scope=col>&lt;dbl&gt;</th><th scope=col>&lt;dbl&gt;</th></tr>\n",
       "</thead>\n",
       "<tbody>\n",
       "\t<tr><td>bipoc</td><td>female</td><td>adult</td><td>sentimentScore</td><td>1830</td><td>-0.101</td><td>0.373</td></tr>\n",
       "\t<tr><td>bipoc</td><td>female</td><td>child</td><td>sentimentScore</td><td>1788</td><td>-0.057</td><td>0.388</td></tr>\n",
       "\t<tr><td>bipoc</td><td>male  </td><td>adult</td><td>sentimentScore</td><td>1865</td><td>-0.160</td><td>0.351</td></tr>\n",
       "\t<tr><td>bipoc</td><td>male  </td><td>child</td><td>sentimentScore</td><td>1831</td><td>-0.107</td><td>0.380</td></tr>\n",
       "\t<tr><td>white</td><td>female</td><td>adult</td><td>sentimentScore</td><td>1845</td><td>-0.106</td><td>0.360</td></tr>\n",
       "\t<tr><td>white</td><td>female</td><td>child</td><td>sentimentScore</td><td>1830</td><td>-0.094</td><td>0.369</td></tr>\n",
       "\t<tr><td>white</td><td>male  </td><td>adult</td><td>sentimentScore</td><td>1792</td><td>-0.100</td><td>0.347</td></tr>\n",
       "\t<tr><td>white</td><td>male  </td><td>child</td><td>sentimentScore</td><td>1828</td><td>-0.085</td><td>0.376</td></tr>\n",
       "</tbody>\n",
       "</table>\n"
      ],
      "text/latex": [
       "A tibble: 8 × 7\n",
       "\\begin{tabular}{lllllll}\n",
       " ethnicity & sex & age & variable & n & mean & sd\\\\\n",
       " <chr> & <chr> & <chr> & <chr> & <dbl> & <dbl> & <dbl>\\\\\n",
       "\\hline\n",
       "\t bipoc & female & adult & sentimentScore & 1830 & -0.101 & 0.373\\\\\n",
       "\t bipoc & female & child & sentimentScore & 1788 & -0.057 & 0.388\\\\\n",
       "\t bipoc & male   & adult & sentimentScore & 1865 & -0.160 & 0.351\\\\\n",
       "\t bipoc & male   & child & sentimentScore & 1831 & -0.107 & 0.380\\\\\n",
       "\t white & female & adult & sentimentScore & 1845 & -0.106 & 0.360\\\\\n",
       "\t white & female & child & sentimentScore & 1830 & -0.094 & 0.369\\\\\n",
       "\t white & male   & adult & sentimentScore & 1792 & -0.100 & 0.347\\\\\n",
       "\t white & male   & child & sentimentScore & 1828 & -0.085 & 0.376\\\\\n",
       "\\end{tabular}\n"
      ],
      "text/markdown": [
       "\n",
       "A tibble: 8 × 7\n",
       "\n",
       "| ethnicity &lt;chr&gt; | sex &lt;chr&gt; | age &lt;chr&gt; | variable &lt;chr&gt; | n &lt;dbl&gt; | mean &lt;dbl&gt; | sd &lt;dbl&gt; |\n",
       "|---|---|---|---|---|---|---|\n",
       "| bipoc | female | adult | sentimentScore | 1830 | -0.101 | 0.373 |\n",
       "| bipoc | female | child | sentimentScore | 1788 | -0.057 | 0.388 |\n",
       "| bipoc | male   | adult | sentimentScore | 1865 | -0.160 | 0.351 |\n",
       "| bipoc | male   | child | sentimentScore | 1831 | -0.107 | 0.380 |\n",
       "| white | female | adult | sentimentScore | 1845 | -0.106 | 0.360 |\n",
       "| white | female | child | sentimentScore | 1830 | -0.094 | 0.369 |\n",
       "| white | male   | adult | sentimentScore | 1792 | -0.100 | 0.347 |\n",
       "| white | male   | child | sentimentScore | 1828 | -0.085 | 0.376 |\n",
       "\n"
      ],
      "text/plain": [
       "  ethnicity sex    age   variable       n    mean   sd   \n",
       "1 bipoc     female adult sentimentScore 1830 -0.101 0.373\n",
       "2 bipoc     female child sentimentScore 1788 -0.057 0.388\n",
       "3 bipoc     male   adult sentimentScore 1865 -0.160 0.351\n",
       "4 bipoc     male   child sentimentScore 1831 -0.107 0.380\n",
       "5 white     female adult sentimentScore 1845 -0.106 0.360\n",
       "6 white     female child sentimentScore 1830 -0.094 0.369\n",
       "7 white     male   adult sentimentScore 1792 -0.100 0.347\n",
       "8 white     male   child sentimentScore 1828 -0.085 0.376"
      ]
     },
     "metadata": {},
     "output_type": "display_data"
    }
   ],
   "source": [
    "df_free %>%\n",
    "  group_by(ethnicity, sex, age) %>%\n",
    "  get_summary_stats(sentimentScore, type = \"mean_sd\")"
   ]
  },
  {
   "cell_type": "code",
   "execution_count": 96,
   "id": "3b52cba6",
   "metadata": {},
   "outputs": [
    {
     "data": {
      "image/png": "[encoded data removed]",
      "text/plain": [
       "plot without title"
      ]
     },
     "metadata": {
      "image/png": {
       "height": 420,
       "width": 420
      }
     },
     "output_type": "display_data"
    }
   ],
   "source": [
    "bxp_free <- ggboxplot(\n",
    "  df_free, x = \"sex\", y = \"sentimentScore\",\n",
    "  color = \"ethnicity\", palette = \"jco\",\n",
    "  facet.by = \"age\", short.panel.labs = FALSE\n",
    "  )\n",
    "bxp_free"
   ]
  },
  {
   "cell_type": "markdown",
   "id": "37681cb6",
   "metadata": {},
   "source": [
    "### Check assumptions"
   ]
  },
  {
   "cell_type": "markdown",
   "id": "695bc654",
   "metadata": {},
   "source": [
    "#### Outliers"
   ]
  },
  {
   "cell_type": "code",
   "execution_count": 47,
   "id": "3d7792af",
   "metadata": {},
   "outputs": [
    {
     "data": {
      "text/html": [
       "<table class=\"dataframe\">\n",
       "<caption>A tibble: 1 × 14</caption>\n",
       "<thead>\n",
       "\t<tr><th scope=col>ethnicity</th><th scope=col>sex</th><th scope=col>age</th><th scope=col>participantId</th><th scope=col>photoId</th><th scope=col>emotion</th><th scope=col>label</th><th scope=col>url</th><th scope=col>sentimentScore</th><th scope=col>sexC</th><th scope=col>ageC</th><th scope=col>ethnicityC</th><th scope=col>is.outlier</th><th scope=col>is.extreme</th></tr>\n",
       "\t<tr><th scope=col>&lt;chr&gt;</th><th scope=col>&lt;chr&gt;</th><th scope=col>&lt;chr&gt;</th><th scope=col>&lt;dbl&gt;</th><th scope=col>&lt;chr&gt;</th><th scope=col>&lt;chr&gt;</th><th scope=col>&lt;chr&gt;</th><th scope=col>&lt;chr&gt;</th><th scope=col>&lt;dbl&gt;</th><th scope=col>&lt;dbl&gt;</th><th scope=col>&lt;dbl&gt;</th><th scope=col>&lt;dbl&gt;</th><th scope=col>&lt;lgl&gt;</th><th scope=col>&lt;lgl&gt;</th></tr>\n",
       "</thead>\n",
       "<tbody>\n",
       "\t<tr><td>bipoc</td><td>male</td><td>adult</td><td>8</td><td>Q166.1_1</td><td>Care free</td><td>neutral</td><td>https://uwmadison.co1.qualtrics.com/ControlPanel/Graphic.php?IM=IM_2ubTkbpnURV3shw</td><td>0.7579</td><td>0.5</td><td>0.5</td><td>-0.5</td><td>TRUE</td><td>FALSE</td></tr>\n",
       "</tbody>\n",
       "</table>\n"
      ],
      "text/latex": [
       "A tibble: 1 × 14\n",
       "\\begin{tabular}{llllllllllllll}\n",
       " ethnicity & sex & age & participantId & photoId & emotion & label & url & sentimentScore & sexC & ageC & ethnicityC & is.outlier & is.extreme\\\\\n",
       " <chr> & <chr> & <chr> & <dbl> & <chr> & <chr> & <chr> & <chr> & <dbl> & <dbl> & <dbl> & <dbl> & <lgl> & <lgl>\\\\\n",
       "\\hline\n",
       "\t bipoc & male & adult & 8 & Q166.1\\_1 & Care free & neutral & https://uwmadison.co1.qualtrics.com/ControlPanel/Graphic.php?IM=IM\\_2ubTkbpnURV3shw & 0.7579 & 0.5 & 0.5 & -0.5 & TRUE & FALSE\\\\\n",
       "\\end{tabular}\n"
      ],
      "text/markdown": [
       "\n",
       "A tibble: 1 × 14\n",
       "\n",
       "| ethnicity &lt;chr&gt; | sex &lt;chr&gt; | age &lt;chr&gt; | participantId &lt;dbl&gt; | photoId &lt;chr&gt; | emotion &lt;chr&gt; | label &lt;chr&gt; | url &lt;chr&gt; | sentimentScore &lt;dbl&gt; | sexC &lt;dbl&gt; | ageC &lt;dbl&gt; | ethnicityC &lt;dbl&gt; | is.outlier &lt;lgl&gt; | is.extreme &lt;lgl&gt; |\n",
       "|---|---|---|---|---|---|---|---|---|---|---|---|---|---|\n",
       "| bipoc | male | adult | 8 | Q166.1_1 | Care free | neutral | https://uwmadison.co1.qualtrics.com/ControlPanel/Graphic.php?IM=IM_2ubTkbpnURV3shw | 0.7579 | 0.5 | 0.5 | -0.5 | TRUE | FALSE |\n",
       "\n"
      ],
      "text/plain": [
       "  ethnicity sex  age   participantId photoId  emotion   label  \n",
       "1 bipoc     male adult 8             Q166.1_1 Care free neutral\n",
       "  url                                                                               \n",
       "1 https://uwmadison.co1.qualtrics.com/ControlPanel/Graphic.php?IM=IM_2ubTkbpnURV3shw\n",
       "  sentimentScore sexC ageC ethnicityC is.outlier is.extreme\n",
       "1 0.7579         0.5  0.5  -0.5       TRUE       FALSE     "
      ]
     },
     "metadata": {},
     "output_type": "display_data"
    }
   ],
   "source": [
    "df_free %>% group_by(ethnicity, sex, age) %>% identify_outliers(sentimentScore)\n",
    "# just one not-extreme outlier"
   ]
  },
  {
   "cell_type": "markdown",
   "id": "f25694c5",
   "metadata": {},
   "source": [
    "#### Normality assumption"
   ]
  },
  {
   "cell_type": "code",
   "execution_count": 48,
   "id": "164b4a2e",
   "metadata": {},
   "outputs": [
    {
     "data": {
      "text/html": [
       "<table class=\"dataframe\">\n",
       "<caption>A tibble: 8 × 6</caption>\n",
       "<thead>\n",
       "\t<tr><th scope=col>ethnicity</th><th scope=col>sex</th><th scope=col>age</th><th scope=col>variable</th><th scope=col>statistic</th><th scope=col>p</th></tr>\n",
       "\t<tr><th scope=col>&lt;chr&gt;</th><th scope=col>&lt;chr&gt;</th><th scope=col>&lt;chr&gt;</th><th scope=col>&lt;chr&gt;</th><th scope=col>&lt;dbl&gt;</th><th scope=col>&lt;dbl&gt;</th></tr>\n",
       "</thead>\n",
       "<tbody>\n",
       "\t<tr><td>bipoc</td><td>female</td><td>adult</td><td>sentimentScore</td><td>0.8860512</td><td>1.012998e-34</td></tr>\n",
       "\t<tr><td>bipoc</td><td>female</td><td>child</td><td>sentimentScore</td><td>0.8850780</td><td>1.709675e-34</td></tr>\n",
       "\t<tr><td>bipoc</td><td>male  </td><td>adult</td><td>sentimentScore</td><td>0.8734110</td><td>1.888130e-36</td></tr>\n",
       "\t<tr><td>bipoc</td><td>male  </td><td>child</td><td>sentimentScore</td><td>0.8738930</td><td>4.057388e-36</td></tr>\n",
       "\t<tr><td>white</td><td>female</td><td>adult</td><td>sentimentScore</td><td>0.9000859</td><td>4.437113e-33</td></tr>\n",
       "\t<tr><td>white</td><td>female</td><td>child</td><td>sentimentScore</td><td>0.8863609</td><td>1.102801e-34</td></tr>\n",
       "\t<tr><td>white</td><td>male  </td><td>adult</td><td>sentimentScore</td><td>0.9097998</td><td>2.462343e-31</td></tr>\n",
       "\t<tr><td>white</td><td>male  </td><td>child</td><td>sentimentScore</td><td>0.8893221</td><td>2.602755e-34</td></tr>\n",
       "</tbody>\n",
       "</table>\n"
      ],
      "text/latex": [
       "A tibble: 8 × 6\n",
       "\\begin{tabular}{llllll}\n",
       " ethnicity & sex & age & variable & statistic & p\\\\\n",
       " <chr> & <chr> & <chr> & <chr> & <dbl> & <dbl>\\\\\n",
       "\\hline\n",
       "\t bipoc & female & adult & sentimentScore & 0.8860512 & 1.012998e-34\\\\\n",
       "\t bipoc & female & child & sentimentScore & 0.8850780 & 1.709675e-34\\\\\n",
       "\t bipoc & male   & adult & sentimentScore & 0.8734110 & 1.888130e-36\\\\\n",
       "\t bipoc & male   & child & sentimentScore & 0.8738930 & 4.057388e-36\\\\\n",
       "\t white & female & adult & sentimentScore & 0.9000859 & 4.437113e-33\\\\\n",
       "\t white & female & child & sentimentScore & 0.8863609 & 1.102801e-34\\\\\n",
       "\t white & male   & adult & sentimentScore & 0.9097998 & 2.462343e-31\\\\\n",
       "\t white & male   & child & sentimentScore & 0.8893221 & 2.602755e-34\\\\\n",
       "\\end{tabular}\n"
      ],
      "text/markdown": [
       "\n",
       "A tibble: 8 × 6\n",
       "\n",
       "| ethnicity &lt;chr&gt; | sex &lt;chr&gt; | age &lt;chr&gt; | variable &lt;chr&gt; | statistic &lt;dbl&gt; | p &lt;dbl&gt; |\n",
       "|---|---|---|---|---|---|\n",
       "| bipoc | female | adult | sentimentScore | 0.8860512 | 1.012998e-34 |\n",
       "| bipoc | female | child | sentimentScore | 0.8850780 | 1.709675e-34 |\n",
       "| bipoc | male   | adult | sentimentScore | 0.8734110 | 1.888130e-36 |\n",
       "| bipoc | male   | child | sentimentScore | 0.8738930 | 4.057388e-36 |\n",
       "| white | female | adult | sentimentScore | 0.9000859 | 4.437113e-33 |\n",
       "| white | female | child | sentimentScore | 0.8863609 | 1.102801e-34 |\n",
       "| white | male   | adult | sentimentScore | 0.9097998 | 2.462343e-31 |\n",
       "| white | male   | child | sentimentScore | 0.8893221 | 2.602755e-34 |\n",
       "\n"
      ],
      "text/plain": [
       "  ethnicity sex    age   variable       statistic p           \n",
       "1 bipoc     female adult sentimentScore 0.8860512 1.012998e-34\n",
       "2 bipoc     female child sentimentScore 0.8850780 1.709675e-34\n",
       "3 bipoc     male   adult sentimentScore 0.8734110 1.888130e-36\n",
       "4 bipoc     male   child sentimentScore 0.8738930 4.057388e-36\n",
       "5 white     female adult sentimentScore 0.9000859 4.437113e-33\n",
       "6 white     female child sentimentScore 0.8863609 1.102801e-34\n",
       "7 white     male   adult sentimentScore 0.9097998 2.462343e-31\n",
       "8 white     male   child sentimentScore 0.8893221 2.602755e-34"
      ]
     },
     "metadata": {},
     "output_type": "display_data"
    }
   ],
   "source": [
    "# Compute Shapiro-Wilk test for each combinations of factor levels\n",
    "\n",
    "df_free %>%\n",
    "  group_by(ethnicity, sex, age) %>%\n",
    "  shapiro_test(sentimentScore)"
   ]
  },
  {
   "cell_type": "markdown",
   "id": "ea1dc327",
   "metadata": {},
   "source": [
    "#### QQ plot "
   ]
  },
  {
   "cell_type": "code",
   "execution_count": 49,
   "id": "6063d05e",
   "metadata": {},
   "outputs": [
    {
     "data": {
      "image/png": "[encoded data removed]",
      "text/plain": [
       "plot without title"
      ]
     },
     "metadata": {
      "image/png": {
       "height": 420,
       "width": 420
      }
     },
     "output_type": "display_data"
    }
   ],
   "source": [
    "ggqqplot(df_free, \"sentimentScore\", ggtheme = theme_bw()) +\n",
    "  facet_grid(sex + ethnicity ~ age, labeller = \"label_both\")"
   ]
  },
  {
   "cell_type": "markdown",
   "id": "4a40e205",
   "metadata": {},
   "source": [
    "**Not normally distributed**"
   ]
  },
  {
   "cell_type": "markdown",
   "id": "8dc5d447",
   "metadata": {},
   "source": [
    "## Anova 2x2x2 computation \n"
   ]
  },
  {
   "cell_type": "code",
   "execution_count": 50,
   "id": "2c2c9660",
   "metadata": {},
   "outputs": [
    {
     "data": {
      "text/html": [
       "<table class=\"dataframe\">\n",
       "<caption>A tibble: 6 × 5</caption>\n",
       "<thead>\n",
       "\t<tr><th scope=col>participantId</th><th scope=col>sex</th><th scope=col>age</th><th scope=col>ethnicity</th><th scope=col>sentimentScore</th></tr>\n",
       "\t<tr><th scope=col>&lt;fct&gt;</th><th scope=col>&lt;fct&gt;</th><th scope=col>&lt;fct&gt;</th><th scope=col>&lt;fct&gt;</th><th scope=col>&lt;dbl&gt;</th></tr>\n",
       "</thead>\n",
       "<tbody>\n",
       "\t<tr><td>0</td><td>female</td><td>adult</td><td>bipoc</td><td>-0.5106</td></tr>\n",
       "\t<tr><td>0</td><td>male  </td><td>child</td><td>bipoc</td><td>-0.2732</td></tr>\n",
       "\t<tr><td>0</td><td>female</td><td>adult</td><td>white</td><td>-0.2732</td></tr>\n",
       "\t<tr><td>0</td><td>male  </td><td>adult</td><td>white</td><td> 0.4404</td></tr>\n",
       "\t<tr><td>0</td><td>female</td><td>child</td><td>white</td><td>-0.4404</td></tr>\n",
       "\t<tr><td>0</td><td>male  </td><td>adult</td><td>bipoc</td><td>-0.4767</td></tr>\n",
       "</tbody>\n",
       "</table>\n"
      ],
      "text/latex": [
       "A tibble: 6 × 5\n",
       "\\begin{tabular}{lllll}\n",
       " participantId & sex & age & ethnicity & sentimentScore\\\\\n",
       " <fct> & <fct> & <fct> & <fct> & <dbl>\\\\\n",
       "\\hline\n",
       "\t 0 & female & adult & bipoc & -0.5106\\\\\n",
       "\t 0 & male   & child & bipoc & -0.2732\\\\\n",
       "\t 0 & female & adult & white & -0.2732\\\\\n",
       "\t 0 & male   & adult & white &  0.4404\\\\\n",
       "\t 0 & female & child & white & -0.4404\\\\\n",
       "\t 0 & male   & adult & bipoc & -0.4767\\\\\n",
       "\\end{tabular}\n"
      ],
      "text/markdown": [
       "\n",
       "A tibble: 6 × 5\n",
       "\n",
       "| participantId &lt;fct&gt; | sex &lt;fct&gt; | age &lt;fct&gt; | ethnicity &lt;fct&gt; | sentimentScore &lt;dbl&gt; |\n",
       "|---|---|---|---|---|\n",
       "| 0 | female | adult | bipoc | -0.5106 |\n",
       "| 0 | male   | child | bipoc | -0.2732 |\n",
       "| 0 | female | adult | white | -0.2732 |\n",
       "| 0 | male   | adult | white |  0.4404 |\n",
       "| 0 | female | child | white | -0.4404 |\n",
       "| 0 | male   | adult | bipoc | -0.4767 |\n",
       "\n"
      ],
      "text/plain": [
       "  participantId sex    age   ethnicity sentimentScore\n",
       "1 0             female adult bipoc     -0.5106       \n",
       "2 0             male   child bipoc     -0.2732       \n",
       "3 0             female adult white     -0.2732       \n",
       "4 0             male   adult white      0.4404       \n",
       "5 0             female child white     -0.4404       \n",
       "6 0             male   adult bipoc     -0.4767       "
      ]
     },
     "metadata": {},
     "output_type": "display_data"
    }
   ],
   "source": [
    "df_long_free = df_free %>% select(participantId, sex, age, ethnicity, sentimentScore)\n",
    "df_long_free = df_long_free %>% convert_as_factor(participantId, sex, age, ethnicity)\n",
    "head(df_long_free)"
   ]
  },
  {
   "cell_type": "code",
   "execution_count": 51,
   "id": "808149b4",
   "metadata": {},
   "outputs": [
    {
     "name": "stderr",
     "output_type": "stream",
     "text": [
      "Warning message:\n",
      "“Collapsing data to cell means. *IF* the requested effects are a subset of the full design, you must use the \"within_full\" argument, else results may be inaccurate.”\n"
     ]
    },
    {
     "data": {
      "text/html": [
       "<strong>$ANOVA</strong> = <table class=\"dataframe\">\n",
       "<caption>A data.frame: 7 × 7</caption>\n",
       "<thead>\n",
       "\t<tr><th></th><th scope=col>Effect</th><th scope=col>DFn</th><th scope=col>DFd</th><th scope=col>F</th><th scope=col>p</th><th scope=col>p&lt;.05</th><th scope=col>ges</th></tr>\n",
       "\t<tr><th></th><th scope=col>&lt;chr&gt;</th><th scope=col>&lt;dbl&gt;</th><th scope=col>&lt;dbl&gt;</th><th scope=col>&lt;dbl&gt;</th><th scope=col>&lt;dbl&gt;</th><th scope=col>&lt;chr&gt;</th><th scope=col>&lt;dbl&gt;</th></tr>\n",
       "</thead>\n",
       "<tbody>\n",
       "\t<tr><th scope=row>2</th><td>sex              </td><td>1</td><td>48</td><td>13.5056850</td><td>5.987629e-04</td><td>*</td><td>0.018562510</td></tr>\n",
       "\t<tr><th scope=row>3</th><td>age              </td><td>1</td><td>48</td><td>35.0222475</td><td>3.344998e-07</td><td>*</td><td>0.055183948</td></tr>\n",
       "\t<tr><th scope=row>4</th><td>ethnicity        </td><td>1</td><td>48</td><td> 1.1370187</td><td>2.916174e-01</td><td> </td><td>0.002015791</td></tr>\n",
       "\t<tr><th scope=row>5</th><td>sex:age          </td><td>1</td><td>48</td><td> 2.5565130</td><td>1.164032e-01</td><td> </td><td>0.003493807</td></tr>\n",
       "\t<tr><th scope=row>6</th><td>sex:ethnicity    </td><td>1</td><td>48</td><td>51.0112282</td><td>4.452414e-09</td><td>*</td><td>0.047460153</td></tr>\n",
       "\t<tr><th scope=row>7</th><td>age:ethnicity    </td><td>1</td><td>48</td><td> 7.4225692</td><td>8.958564e-03</td><td>*</td><td>0.010535720</td></tr>\n",
       "\t<tr><th scope=row>8</th><td>sex:age:ethnicity</td><td>1</td><td>48</td><td> 0.7581551</td><td>3.882405e-01</td><td> </td><td>0.001132038</td></tr>\n",
       "</tbody>\n",
       "</table>\n"
      ],
      "text/latex": [
       "\\textbf{\\$ANOVA} = A data.frame: 7 × 7\n",
       "\\begin{tabular}{r|lllllll}\n",
       "  & Effect & DFn & DFd & F & p & p<.05 & ges\\\\\n",
       "  & <chr> & <dbl> & <dbl> & <dbl> & <dbl> & <chr> & <dbl>\\\\\n",
       "\\hline\n",
       "\t2 & sex               & 1 & 48 & 13.5056850 & 5.987629e-04 & * & 0.018562510\\\\\n",
       "\t3 & age               & 1 & 48 & 35.0222475 & 3.344998e-07 & * & 0.055183948\\\\\n",
       "\t4 & ethnicity         & 1 & 48 &  1.1370187 & 2.916174e-01 &   & 0.002015791\\\\\n",
       "\t5 & sex:age           & 1 & 48 &  2.5565130 & 1.164032e-01 &   & 0.003493807\\\\\n",
       "\t6 & sex:ethnicity     & 1 & 48 & 51.0112282 & 4.452414e-09 & * & 0.047460153\\\\\n",
       "\t7 & age:ethnicity     & 1 & 48 &  7.4225692 & 8.958564e-03 & * & 0.010535720\\\\\n",
       "\t8 & sex:age:ethnicity & 1 & 48 &  0.7581551 & 3.882405e-01 &   & 0.001132038\\\\\n",
       "\\end{tabular}\n"
      ],
      "text/markdown": [
       "**$ANOVA** = \n",
       "A data.frame: 7 × 7\n",
       "\n",
       "| <!--/--> | Effect &lt;chr&gt; | DFn &lt;dbl&gt; | DFd &lt;dbl&gt; | F &lt;dbl&gt; | p &lt;dbl&gt; | p&lt;.05 &lt;chr&gt; | ges &lt;dbl&gt; |\n",
       "|---|---|---|---|---|---|---|---|\n",
       "| 2 | sex               | 1 | 48 | 13.5056850 | 5.987629e-04 | * | 0.018562510 |\n",
       "| 3 | age               | 1 | 48 | 35.0222475 | 3.344998e-07 | * | 0.055183948 |\n",
       "| 4 | ethnicity         | 1 | 48 |  1.1370187 | 2.916174e-01 | <!----> | 0.002015791 |\n",
       "| 5 | sex:age           | 1 | 48 |  2.5565130 | 1.164032e-01 | <!----> | 0.003493807 |\n",
       "| 6 | sex:ethnicity     | 1 | 48 | 51.0112282 | 4.452414e-09 | * | 0.047460153 |\n",
       "| 7 | age:ethnicity     | 1 | 48 |  7.4225692 | 8.958564e-03 | * | 0.010535720 |\n",
       "| 8 | sex:age:ethnicity | 1 | 48 |  0.7581551 | 3.882405e-01 | <!----> | 0.001132038 |\n",
       "\n"
      ],
      "text/plain": [
       "$ANOVA\n",
       "             Effect DFn DFd          F            p p<.05         ges\n",
       "2               sex   1  48 13.5056850 5.987629e-04     * 0.018562510\n",
       "3               age   1  48 35.0222475 3.344998e-07     * 0.055183948\n",
       "4         ethnicity   1  48  1.1370187 2.916174e-01       0.002015791\n",
       "5           sex:age   1  48  2.5565130 1.164032e-01       0.003493807\n",
       "6     sex:ethnicity   1  48 51.0112282 4.452414e-09     * 0.047460153\n",
       "7     age:ethnicity   1  48  7.4225692 8.958564e-03     * 0.010535720\n",
       "8 sex:age:ethnicity   1  48  0.7581551 3.882405e-01       0.001132038\n"
      ]
     },
     "metadata": {},
     "output_type": "display_data"
    }
   ],
   "source": [
    "res.aov  = ezANOVA(data=df_long_free, wid=.(participantId), dv=.(sentimentScore), within=.(sex, age, ethnicity))\n",
    "res.aov  "
   ]
  },
  {
   "cell_type": "markdown",
   "id": "e72d52b4",
   "metadata": {},
   "source": [
    "The three-way interactions between age, sex, and ethnicity, was not significant, Anova, $F$(1, 48) = 0.76, $p$ = 0.3, $\\eta^2_{g}=0.001$"
   ]
  },
  {
   "cell_type": "markdown",
   "id": "c9ed156c",
   "metadata": {},
   "source": [
    "### Post-hoc tests\n"
   ]
  },
  {
   "cell_type": "markdown",
   "id": "c6a87618",
   "metadata": {},
   "source": [
    "#### simple two-way interaction"
   ]
  },
  {
   "cell_type": "code",
   "execution_count": 97,
   "id": "02805204",
   "metadata": {},
   "outputs": [],
   "source": [
    "df_free_adult = df_free %>% filter(age=='adult')\n",
    "df_free_child = df_free %>% filter(age=='child')"
   ]
  },
  {
   "cell_type": "code",
   "execution_count": 98,
   "id": "57c73588",
   "metadata": {},
   "outputs": [
    {
     "name": "stderr",
     "output_type": "stream",
     "text": [
      "Warning message:\n",
      "“Converting \"participantId\" to factor for ANOVA.”\n",
      "Warning message:\n",
      "“Converting \"sex\" to factor for ANOVA.”\n",
      "Warning message:\n",
      "“Converting \"ethnicity\" to factor for ANOVA.”\n",
      "Warning message:\n",
      "“Collapsing data to cell means. *IF* the requested effects are a subset of the full design, you must use the \"within_full\" argument, else results may be inaccurate.”\n",
      "Warning message:\n",
      "“Converting \"participantId\" to factor for ANOVA.”\n",
      "Warning message:\n",
      "“Converting \"sex\" to factor for ANOVA.”\n",
      "Warning message:\n",
      "“Converting \"ethnicity\" to factor for ANOVA.”\n",
      "Warning message:\n",
      "“Collapsing data to cell means. *IF* the requested effects are a subset of the full design, you must use the \"within_full\" argument, else results may be inaccurate.”\n"
     ]
    }
   ],
   "source": [
    "free_adult.twoway  = ezANOVA(data=df_free_adult, wid=.(participantId), dv= .(sentimentScore), within=.(sex, ethnicity))\n",
    "free_child.twoway  = ezANOVA(data=df_free_child, wid=.(participantId), dv= .(sentimentScore), within=.(sex, ethnicity))"
   ]
  },
  {
   "cell_type": "code",
   "execution_count": 99,
   "id": "37e6f918",
   "metadata": {},
   "outputs": [
    {
     "data": {
      "text/html": [
       "<strong>$ANOVA</strong> = <table class=\"dataframe\">\n",
       "<caption>A data.frame: 3 × 7</caption>\n",
       "<thead>\n",
       "\t<tr><th></th><th scope=col>Effect</th><th scope=col>DFn</th><th scope=col>DFd</th><th scope=col>F</th><th scope=col>p</th><th scope=col>p&lt;.05</th><th scope=col>ges</th></tr>\n",
       "\t<tr><th></th><th scope=col>&lt;chr&gt;</th><th scope=col>&lt;dbl&gt;</th><th scope=col>&lt;dbl&gt;</th><th scope=col>&lt;dbl&gt;</th><th scope=col>&lt;dbl&gt;</th><th scope=col>&lt;chr&gt;</th><th scope=col>&lt;dbl&gt;</th></tr>\n",
       "</thead>\n",
       "<tbody>\n",
       "\t<tr><th scope=row>2</th><td>sex          </td><td>1</td><td>48</td><td>13.793866</td><td>5.314441e-04</td><td>*</td><td>0.03702583</td></tr>\n",
       "\t<tr><th scope=row>3</th><td>ethnicity    </td><td>1</td><td>48</td><td> 7.144881</td><td>1.024147e-02</td><td>*</td><td>0.02133247</td></tr>\n",
       "\t<tr><th scope=row>4</th><td>sex:ethnicity</td><td>1</td><td>48</td><td>18.827261</td><td>7.330171e-05</td><td>*</td><td>0.06151718</td></tr>\n",
       "</tbody>\n",
       "</table>\n"
      ],
      "text/latex": [
       "\\textbf{\\$ANOVA} = A data.frame: 3 × 7\n",
       "\\begin{tabular}{r|lllllll}\n",
       "  & Effect & DFn & DFd & F & p & p<.05 & ges\\\\\n",
       "  & <chr> & <dbl> & <dbl> & <dbl> & <dbl> & <chr> & <dbl>\\\\\n",
       "\\hline\n",
       "\t2 & sex           & 1 & 48 & 13.793866 & 5.314441e-04 & * & 0.03702583\\\\\n",
       "\t3 & ethnicity     & 1 & 48 &  7.144881 & 1.024147e-02 & * & 0.02133247\\\\\n",
       "\t4 & sex:ethnicity & 1 & 48 & 18.827261 & 7.330171e-05 & * & 0.06151718\\\\\n",
       "\\end{tabular}\n"
      ],
      "text/markdown": [
       "**$ANOVA** = \n",
       "A data.frame: 3 × 7\n",
       "\n",
       "| <!--/--> | Effect &lt;chr&gt; | DFn &lt;dbl&gt; | DFd &lt;dbl&gt; | F &lt;dbl&gt; | p &lt;dbl&gt; | p&lt;.05 &lt;chr&gt; | ges &lt;dbl&gt; |\n",
       "|---|---|---|---|---|---|---|---|\n",
       "| 2 | sex           | 1 | 48 | 13.793866 | 5.314441e-04 | * | 0.03702583 |\n",
       "| 3 | ethnicity     | 1 | 48 |  7.144881 | 1.024147e-02 | * | 0.02133247 |\n",
       "| 4 | sex:ethnicity | 1 | 48 | 18.827261 | 7.330171e-05 | * | 0.06151718 |\n",
       "\n"
      ],
      "text/plain": [
       "$ANOVA\n",
       "         Effect DFn DFd         F            p p<.05        ges\n",
       "2           sex   1  48 13.793866 5.314441e-04     * 0.03702583\n",
       "3     ethnicity   1  48  7.144881 1.024147e-02     * 0.02133247\n",
       "4 sex:ethnicity   1  48 18.827261 7.330171e-05     * 0.06151718\n"
      ]
     },
     "metadata": {},
     "output_type": "display_data"
    }
   ],
   "source": [
    "free_adult.twoway"
   ]
  },
  {
   "cell_type": "code",
   "execution_count": 100,
   "id": "13b18c04",
   "metadata": {},
   "outputs": [
    {
     "data": {
      "text/html": [
       "<strong>$ANOVA</strong> = <table class=\"dataframe\">\n",
       "<caption>A data.frame: 3 × 7</caption>\n",
       "<thead>\n",
       "\t<tr><th></th><th scope=col>Effect</th><th scope=col>DFn</th><th scope=col>DFd</th><th scope=col>F</th><th scope=col>p</th><th scope=col>p&lt;.05</th><th scope=col>ges</th></tr>\n",
       "\t<tr><th></th><th scope=col>&lt;chr&gt;</th><th scope=col>&lt;dbl&gt;</th><th scope=col>&lt;dbl&gt;</th><th scope=col>&lt;dbl&gt;</th><th scope=col>&lt;dbl&gt;</th><th scope=col>&lt;chr&gt;</th><th scope=col>&lt;dbl&gt;</th></tr>\n",
       "</thead>\n",
       "<tbody>\n",
       "\t<tr><th scope=row>2</th><td>sex          </td><td>1</td><td>48</td><td> 2.240323</td><td>1.410000e-01</td><td> </td><td>0.006136523</td></tr>\n",
       "\t<tr><th scope=row>3</th><td>ethnicity    </td><td>1</td><td>48</td><td> 1.012458</td><td>3.193604e-01</td><td> </td><td>0.003403745</td></tr>\n",
       "\t<tr><th scope=row>4</th><td>sex:ethnicity</td><td>1</td><td>48</td><td>24.980396</td><td>8.115683e-06</td><td>*</td><td>0.034907984</td></tr>\n",
       "</tbody>\n",
       "</table>\n"
      ],
      "text/latex": [
       "\\textbf{\\$ANOVA} = A data.frame: 3 × 7\n",
       "\\begin{tabular}{r|lllllll}\n",
       "  & Effect & DFn & DFd & F & p & p<.05 & ges\\\\\n",
       "  & <chr> & <dbl> & <dbl> & <dbl> & <dbl> & <chr> & <dbl>\\\\\n",
       "\\hline\n",
       "\t2 & sex           & 1 & 48 &  2.240323 & 1.410000e-01 &   & 0.006136523\\\\\n",
       "\t3 & ethnicity     & 1 & 48 &  1.012458 & 3.193604e-01 &   & 0.003403745\\\\\n",
       "\t4 & sex:ethnicity & 1 & 48 & 24.980396 & 8.115683e-06 & * & 0.034907984\\\\\n",
       "\\end{tabular}\n"
      ],
      "text/markdown": [
       "**$ANOVA** = \n",
       "A data.frame: 3 × 7\n",
       "\n",
       "| <!--/--> | Effect &lt;chr&gt; | DFn &lt;dbl&gt; | DFd &lt;dbl&gt; | F &lt;dbl&gt; | p &lt;dbl&gt; | p&lt;.05 &lt;chr&gt; | ges &lt;dbl&gt; |\n",
       "|---|---|---|---|---|---|---|---|\n",
       "| 2 | sex           | 1 | 48 |  2.240323 | 1.410000e-01 | <!----> | 0.006136523 |\n",
       "| 3 | ethnicity     | 1 | 48 |  1.012458 | 3.193604e-01 | <!----> | 0.003403745 |\n",
       "| 4 | sex:ethnicity | 1 | 48 | 24.980396 | 8.115683e-06 | * | 0.034907984 |\n",
       "\n"
      ],
      "text/plain": [
       "$ANOVA\n",
       "         Effect DFn DFd         F            p p<.05         ges\n",
       "2           sex   1  48  2.240323 1.410000e-01       0.006136523\n",
       "3     ethnicity   1  48  1.012458 3.193604e-01       0.003403745\n",
       "4 sex:ethnicity   1  48 24.980396 8.115683e-06     * 0.034907984\n"
      ]
     },
     "metadata": {},
     "output_type": "display_data"
    }
   ],
   "source": [
    "free_child.twoway"
   ]
  },
  {
   "cell_type": "markdown",
   "id": "7a22b062",
   "metadata": {},
   "source": [
    "There is statistically significant simple two-way interaction between **sex** and **ethnicity** for \"adults\", F(1, 48) = 18.83, p < 0.0001,and for \"childrens\" , F(1, 48) = 24.98,  p < 0.0001"
   ]
  },
  {
   "cell_type": "markdown",
   "id": "737b657f",
   "metadata": {},
   "source": [
    "#### Simple main effect"
   ]
  },
  {
   "cell_type": "code",
   "execution_count": 111,
   "id": "a035809e",
   "metadata": {},
   "outputs": [],
   "source": [
    "df_free_adult_male = df_free_adult %>% filter(sex=='male')\n",
    "df_free_adult_female = df_free_adult %>% filter(sex=='female')\n",
    "df_free_child_male = df_free_child %>% filter(sex=='male')\n",
    "df_free_child_female = df_free_child %>% filter(sex=='female')"
   ]
  },
  {
   "cell_type": "code",
   "execution_count": 112,
   "id": "f7513438",
   "metadata": {},
   "outputs": [
    {
     "name": "stderr",
     "output_type": "stream",
     "text": [
      "Warning message:\n",
      "“Converting \"participantId\" to factor for ANOVA.”\n",
      "Warning message:\n",
      "“Converting \"ethnicity\" to factor for ANOVA.”\n",
      "Warning message:\n",
      "“Collapsing data to cell means. *IF* the requested effects are a subset of the full design, you must use the \"within_full\" argument, else results may be inaccurate.”\n",
      "Warning message:\n",
      "“Converting \"participantId\" to factor for ANOVA.”\n",
      "Warning message:\n",
      "“Converting \"ethnicity\" to factor for ANOVA.”\n",
      "Warning message:\n",
      "“Collapsing data to cell means. *IF* the requested effects are a subset of the full design, you must use the \"within_full\" argument, else results may be inaccurate.”\n",
      "Warning message:\n",
      "“Converting \"participantId\" to factor for ANOVA.”\n",
      "Warning message:\n",
      "“Converting \"ethnicity\" to factor for ANOVA.”\n",
      "Warning message:\n",
      "“Collapsing data to cell means. *IF* the requested effects are a subset of the full design, you must use the \"within_full\" argument, else results may be inaccurate.”\n",
      "Warning message:\n",
      "“Converting \"participantId\" to factor for ANOVA.”\n",
      "Warning message:\n",
      "“Converting \"ethnicity\" to factor for ANOVA.”\n",
      "Warning message:\n",
      "“Collapsing data to cell means. *IF* the requested effects are a subset of the full design, you must use the \"within_full\" argument, else results may be inaccurate.”\n"
     ]
    }
   ],
   "source": [
    "free_adult_male.main  = ezANOVA(data=df_free_adult_male, wid=.(participantId), dv= .(sentimentScore), within=.(ethnicity))\n",
    "free_adult_female.main  = ezANOVA(data=df_free_adult_female, wid=.(participantId), dv= .(sentimentScore), within=.(ethnicity))\n",
    "free_child_male.main  = ezANOVA(data=df_free_child_male, wid=.(participantId), dv= .(sentimentScore), within=.(ethnicity))\n",
    "free_child_female.main  = ezANOVA(data=df_free_child_female, wid=.(participantId), dv= .(sentimentScore), within=.(ethnicity))"
   ]
  },
  {
   "cell_type": "code",
   "execution_count": 113,
   "id": "afa194cd",
   "metadata": {},
   "outputs": [
    {
     "data": {
      "text/html": [
       "<strong>$ANOVA</strong> = <table class=\"dataframe\">\n",
       "<caption>A data.frame: 1 × 7</caption>\n",
       "<thead>\n",
       "\t<tr><th></th><th scope=col>Effect</th><th scope=col>DFn</th><th scope=col>DFd</th><th scope=col>F</th><th scope=col>p</th><th scope=col>p&lt;.05</th><th scope=col>ges</th></tr>\n",
       "\t<tr><th></th><th scope=col>&lt;chr&gt;</th><th scope=col>&lt;dbl&gt;</th><th scope=col>&lt;dbl&gt;</th><th scope=col>&lt;dbl&gt;</th><th scope=col>&lt;dbl&gt;</th><th scope=col>&lt;chr&gt;</th><th scope=col>&lt;dbl&gt;</th></tr>\n",
       "</thead>\n",
       "<tbody>\n",
       "\t<tr><th scope=row>2</th><td>ethnicity</td><td>1</td><td>48</td><td>33.29143</td><td>5.621743e-07</td><td>*</td><td>0.1624612</td></tr>\n",
       "</tbody>\n",
       "</table>\n"
      ],
      "text/latex": [
       "\\textbf{\\$ANOVA} = A data.frame: 1 × 7\n",
       "\\begin{tabular}{r|lllllll}\n",
       "  & Effect & DFn & DFd & F & p & p<.05 & ges\\\\\n",
       "  & <chr> & <dbl> & <dbl> & <dbl> & <dbl> & <chr> & <dbl>\\\\\n",
       "\\hline\n",
       "\t2 & ethnicity & 1 & 48 & 33.29143 & 5.621743e-07 & * & 0.1624612\\\\\n",
       "\\end{tabular}\n"
      ],
      "text/markdown": [
       "**$ANOVA** = \n",
       "A data.frame: 1 × 7\n",
       "\n",
       "| <!--/--> | Effect &lt;chr&gt; | DFn &lt;dbl&gt; | DFd &lt;dbl&gt; | F &lt;dbl&gt; | p &lt;dbl&gt; | p&lt;.05 &lt;chr&gt; | ges &lt;dbl&gt; |\n",
       "|---|---|---|---|---|---|---|---|\n",
       "| 2 | ethnicity | 1 | 48 | 33.29143 | 5.621743e-07 | * | 0.1624612 |\n",
       "\n"
      ],
      "text/plain": [
       "$ANOVA\n",
       "     Effect DFn DFd        F            p p<.05       ges\n",
       "2 ethnicity   1  48 33.29143 5.621743e-07     * 0.1624612\n"
      ]
     },
     "metadata": {},
     "output_type": "display_data"
    }
   ],
   "source": [
    "free_adult_male.main  "
   ]
  },
  {
   "cell_type": "code",
   "execution_count": 114,
   "id": "184021dd",
   "metadata": {},
   "outputs": [
    {
     "data": {
      "text/html": [
       "<strong>$ANOVA</strong> = <table class=\"dataframe\">\n",
       "<caption>A data.frame: 1 × 7</caption>\n",
       "<thead>\n",
       "\t<tr><th></th><th scope=col>Effect</th><th scope=col>DFn</th><th scope=col>DFd</th><th scope=col>F</th><th scope=col>p</th><th scope=col>p&lt;.05</th><th scope=col>ges</th></tr>\n",
       "\t<tr><th></th><th scope=col>&lt;chr&gt;</th><th scope=col>&lt;dbl&gt;</th><th scope=col>&lt;dbl&gt;</th><th scope=col>&lt;dbl&gt;</th><th scope=col>&lt;dbl&gt;</th><th scope=col>&lt;chr&gt;</th><th scope=col>&lt;dbl&gt;</th></tr>\n",
       "</thead>\n",
       "<tbody>\n",
       "\t<tr><th scope=row>2</th><td>ethnicity</td><td>1</td><td>48</td><td>1.437861</td><td>0.2363719</td><td></td><td>0.01002616</td></tr>\n",
       "</tbody>\n",
       "</table>\n"
      ],
      "text/latex": [
       "\\textbf{\\$ANOVA} = A data.frame: 1 × 7\n",
       "\\begin{tabular}{r|lllllll}\n",
       "  & Effect & DFn & DFd & F & p & p<.05 & ges\\\\\n",
       "  & <chr> & <dbl> & <dbl> & <dbl> & <dbl> & <chr> & <dbl>\\\\\n",
       "\\hline\n",
       "\t2 & ethnicity & 1 & 48 & 1.437861 & 0.2363719 &  & 0.01002616\\\\\n",
       "\\end{tabular}\n"
      ],
      "text/markdown": [
       "**$ANOVA** = \n",
       "A data.frame: 1 × 7\n",
       "\n",
       "| <!--/--> | Effect &lt;chr&gt; | DFn &lt;dbl&gt; | DFd &lt;dbl&gt; | F &lt;dbl&gt; | p &lt;dbl&gt; | p&lt;.05 &lt;chr&gt; | ges &lt;dbl&gt; |\n",
       "|---|---|---|---|---|---|---|---|\n",
       "| 2 | ethnicity | 1 | 48 | 1.437861 | 0.2363719 | <!----> | 0.01002616 |\n",
       "\n"
      ],
      "text/plain": [
       "$ANOVA\n",
       "     Effect DFn DFd        F         p p<.05        ges\n",
       "2 ethnicity   1  48 1.437861 0.2363719       0.01002616\n"
      ]
     },
     "metadata": {},
     "output_type": "display_data"
    }
   ],
   "source": [
    "free_adult_female.main"
   ]
  },
  {
   "cell_type": "code",
   "execution_count": 115,
   "id": "2c7acef4",
   "metadata": {},
   "outputs": [
    {
     "data": {
      "text/html": [
       "<strong>$ANOVA</strong> = <table class=\"dataframe\">\n",
       "<caption>A data.frame: 1 × 7</caption>\n",
       "<thead>\n",
       "\t<tr><th></th><th scope=col>Effect</th><th scope=col>DFn</th><th scope=col>DFd</th><th scope=col>F</th><th scope=col>p</th><th scope=col>p&lt;.05</th><th scope=col>ges</th></tr>\n",
       "\t<tr><th></th><th scope=col>&lt;chr&gt;</th><th scope=col>&lt;dbl&gt;</th><th scope=col>&lt;dbl&gt;</th><th scope=col>&lt;dbl&gt;</th><th scope=col>&lt;dbl&gt;</th><th scope=col>&lt;chr&gt;</th><th scope=col>&lt;dbl&gt;</th></tr>\n",
       "</thead>\n",
       "<tbody>\n",
       "\t<tr><th scope=row>2</th><td>ethnicity</td><td>1</td><td>48</td><td>3.525245</td><td>0.06652439</td><td></td><td>0.01726557</td></tr>\n",
       "</tbody>\n",
       "</table>\n"
      ],
      "text/latex": [
       "\\textbf{\\$ANOVA} = A data.frame: 1 × 7\n",
       "\\begin{tabular}{r|lllllll}\n",
       "  & Effect & DFn & DFd & F & p & p<.05 & ges\\\\\n",
       "  & <chr> & <dbl> & <dbl> & <dbl> & <dbl> & <chr> & <dbl>\\\\\n",
       "\\hline\n",
       "\t2 & ethnicity & 1 & 48 & 3.525245 & 0.06652439 &  & 0.01726557\\\\\n",
       "\\end{tabular}\n"
      ],
      "text/markdown": [
       "**$ANOVA** = \n",
       "A data.frame: 1 × 7\n",
       "\n",
       "| <!--/--> | Effect &lt;chr&gt; | DFn &lt;dbl&gt; | DFd &lt;dbl&gt; | F &lt;dbl&gt; | p &lt;dbl&gt; | p&lt;.05 &lt;chr&gt; | ges &lt;dbl&gt; |\n",
       "|---|---|---|---|---|---|---|---|\n",
       "| 2 | ethnicity | 1 | 48 | 3.525245 | 0.06652439 | <!----> | 0.01726557 |\n",
       "\n"
      ],
      "text/plain": [
       "$ANOVA\n",
       "     Effect DFn DFd        F          p p<.05        ges\n",
       "2 ethnicity   1  48 3.525245 0.06652439       0.01726557\n"
      ]
     },
     "metadata": {},
     "output_type": "display_data"
    }
   ],
   "source": [
    "free_child_male.main  "
   ]
  },
  {
   "cell_type": "code",
   "execution_count": 116,
   "id": "449d107d",
   "metadata": {},
   "outputs": [
    {
     "data": {
      "text/html": [
       "<strong>$ANOVA</strong> = <table class=\"dataframe\">\n",
       "<caption>A data.frame: 1 × 7</caption>\n",
       "<thead>\n",
       "\t<tr><th></th><th scope=col>Effect</th><th scope=col>DFn</th><th scope=col>DFd</th><th scope=col>F</th><th scope=col>p</th><th scope=col>p&lt;.05</th><th scope=col>ges</th></tr>\n",
       "\t<tr><th></th><th scope=col>&lt;chr&gt;</th><th scope=col>&lt;dbl&gt;</th><th scope=col>&lt;dbl&gt;</th><th scope=col>&lt;dbl&gt;</th><th scope=col>&lt;dbl&gt;</th><th scope=col>&lt;chr&gt;</th><th scope=col>&lt;dbl&gt;</th></tr>\n",
       "</thead>\n",
       "<tbody>\n",
       "\t<tr><th scope=row>2</th><td>ethnicity</td><td>1</td><td>48</td><td>13.09902</td><td>0.0007093603</td><td>*</td><td>0.05756169</td></tr>\n",
       "</tbody>\n",
       "</table>\n"
      ],
      "text/latex": [
       "\\textbf{\\$ANOVA} = A data.frame: 1 × 7\n",
       "\\begin{tabular}{r|lllllll}\n",
       "  & Effect & DFn & DFd & F & p & p<.05 & ges\\\\\n",
       "  & <chr> & <dbl> & <dbl> & <dbl> & <dbl> & <chr> & <dbl>\\\\\n",
       "\\hline\n",
       "\t2 & ethnicity & 1 & 48 & 13.09902 & 0.0007093603 & * & 0.05756169\\\\\n",
       "\\end{tabular}\n"
      ],
      "text/markdown": [
       "**$ANOVA** = \n",
       "A data.frame: 1 × 7\n",
       "\n",
       "| <!--/--> | Effect &lt;chr&gt; | DFn &lt;dbl&gt; | DFd &lt;dbl&gt; | F &lt;dbl&gt; | p &lt;dbl&gt; | p&lt;.05 &lt;chr&gt; | ges &lt;dbl&gt; |\n",
       "|---|---|---|---|---|---|---|---|\n",
       "| 2 | ethnicity | 1 | 48 | 13.09902 | 0.0007093603 | * | 0.05756169 |\n",
       "\n"
      ],
      "text/plain": [
       "$ANOVA\n",
       "     Effect DFn DFd        F            p p<.05        ges\n",
       "2 ethnicity   1  48 13.09902 0.0007093603     * 0.05756169\n"
      ]
     },
     "metadata": {},
     "output_type": "display_data"
    }
   ],
   "source": [
    "free_child_female.main"
   ]
  },
  {
   "cell_type": "markdown",
   "id": "87773007",
   "metadata": {},
   "source": [
    "There is a statistically significant simple main effect of **ethnicity** on **sentiment-score** for the \"**adult-males**\" group, F(1, 48) = 33.29, p < 0.0001, and for the \"child-female\" group, F(1, 48) = 13.09, p < 0.0001."
   ]
  },
  {
   "cell_type": "markdown",
   "id": "ca0a242a",
   "metadata": {},
   "source": [
    "#### Simple pairwise comparisons"
   ]
  },
  {
   "cell_type": "code",
   "execution_count": 52,
   "id": "7696e5c7",
   "metadata": {},
   "outputs": [
    {
     "data": {
      "text/html": [
       "<table class=\"dataframe\">\n",
       "<caption>A rstatix_test: 4 × 11</caption>\n",
       "<thead>\n",
       "\t<tr><th></th><th scope=col>sex</th><th scope=col>age</th><th scope=col>.y.</th><th scope=col>group1</th><th scope=col>group2</th><th scope=col>n1</th><th scope=col>n2</th><th scope=col>p</th><th scope=col>p.signif</th><th scope=col>p.adj</th><th scope=col>p.adj.signif</th></tr>\n",
       "\t<tr><th></th><th scope=col>&lt;chr&gt;</th><th scope=col>&lt;chr&gt;</th><th scope=col>&lt;chr&gt;</th><th scope=col>&lt;chr&gt;</th><th scope=col>&lt;chr&gt;</th><th scope=col>&lt;int&gt;</th><th scope=col>&lt;int&gt;</th><th scope=col>&lt;dbl&gt;</th><th scope=col>&lt;chr&gt;</th><th scope=col>&lt;dbl&gt;</th><th scope=col>&lt;chr&gt;</th></tr>\n",
       "</thead>\n",
       "<tbody>\n",
       "\t<tr><th scope=row>1</th><td>female</td><td>adult</td><td>sentimentScore</td><td>bipoc</td><td>white</td><td>1830</td><td>1845</td><td>6.91e-01</td><td>ns  </td><td>6.91e-01</td><td>ns  </td></tr>\n",
       "\t<tr><th scope=row>2</th><td>male  </td><td>adult</td><td>sentimentScore</td><td>bipoc</td><td>white</td><td>1865</td><td>1792</td><td>2.26e-07</td><td>****</td><td>2.26e-07</td><td>****</td></tr>\n",
       "\t<tr><th scope=row>3</th><td>female</td><td>child</td><td>sentimentScore</td><td>bipoc</td><td>white</td><td>1788</td><td>1830</td><td>3.11e-03</td><td>**  </td><td>3.11e-03</td><td>**  </td></tr>\n",
       "\t<tr><th scope=row>4</th><td>male  </td><td>child</td><td>sentimentScore</td><td>bipoc</td><td>white</td><td>1831</td><td>1828</td><td>7.98e-02</td><td>ns  </td><td>7.98e-02</td><td>ns  </td></tr>\n",
       "</tbody>\n",
       "</table>\n"
      ],
      "text/latex": [
       "A rstatix\\_test: 4 × 11\n",
       "\\begin{tabular}{r|lllllllllll}\n",
       "  & sex & age & .y. & group1 & group2 & n1 & n2 & p & p.signif & p.adj & p.adj.signif\\\\\n",
       "  & <chr> & <chr> & <chr> & <chr> & <chr> & <int> & <int> & <dbl> & <chr> & <dbl> & <chr>\\\\\n",
       "\\hline\n",
       "\t1 & female & adult & sentimentScore & bipoc & white & 1830 & 1845 & 6.91e-01 & ns   & 6.91e-01 & ns  \\\\\n",
       "\t2 & male   & adult & sentimentScore & bipoc & white & 1865 & 1792 & 2.26e-07 & **** & 2.26e-07 & ****\\\\\n",
       "\t3 & female & child & sentimentScore & bipoc & white & 1788 & 1830 & 3.11e-03 & **   & 3.11e-03 & **  \\\\\n",
       "\t4 & male   & child & sentimentScore & bipoc & white & 1831 & 1828 & 7.98e-02 & ns   & 7.98e-02 & ns  \\\\\n",
       "\\end{tabular}\n"
      ],
      "text/markdown": [
       "\n",
       "A rstatix_test: 4 × 11\n",
       "\n",
       "| <!--/--> | sex &lt;chr&gt; | age &lt;chr&gt; | .y. &lt;chr&gt; | group1 &lt;chr&gt; | group2 &lt;chr&gt; | n1 &lt;int&gt; | n2 &lt;int&gt; | p &lt;dbl&gt; | p.signif &lt;chr&gt; | p.adj &lt;dbl&gt; | p.adj.signif &lt;chr&gt; |\n",
       "|---|---|---|---|---|---|---|---|---|---|---|---|\n",
       "| 1 | female | adult | sentimentScore | bipoc | white | 1830 | 1845 | 6.91e-01 | ns   | 6.91e-01 | ns   |\n",
       "| 2 | male   | adult | sentimentScore | bipoc | white | 1865 | 1792 | 2.26e-07 | **** | 2.26e-07 | **** |\n",
       "| 3 | female | child | sentimentScore | bipoc | white | 1788 | 1830 | 3.11e-03 | **   | 3.11e-03 | **   |\n",
       "| 4 | male   | child | sentimentScore | bipoc | white | 1831 | 1828 | 7.98e-02 | ns   | 7.98e-02 | ns   |\n",
       "\n"
      ],
      "text/plain": [
       "  sex    age   .y.            group1 group2 n1   n2   p        p.signif\n",
       "1 female adult sentimentScore bipoc  white  1830 1845 6.91e-01 ns      \n",
       "2 male   adult sentimentScore bipoc  white  1865 1792 2.26e-07 ****    \n",
       "3 female child sentimentScore bipoc  white  1788 1830 3.11e-03 **      \n",
       "4 male   child sentimentScore bipoc  white  1831 1828 7.98e-02 ns      \n",
       "  p.adj    p.adj.signif\n",
       "1 6.91e-01 ns          \n",
       "2 2.26e-07 ****        \n",
       "3 3.11e-03 **          \n",
       "4 7.98e-02 ns          "
      ]
     },
     "metadata": {},
     "output_type": "display_data"
    }
   ],
   "source": [
    "pwc <- df_free %>%\n",
    "  group_by(age, sex) %>%\n",
    "  pairwise_t_test(sentimentScore ~ ethnicity, paired = FALSE, p.adjust.method = \"bonferroni\") \n",
    "\n",
    "pwc"
   ]
  },
  {
   "cell_type": "markdown",
   "id": "313f3b08",
   "metadata": {},
   "source": [
    "### Visualization free-labeling: box plots with p-values"
   ]
  },
  {
   "cell_type": "code",
   "execution_count": 126,
   "id": "d180db23",
   "metadata": {},
   "outputs": [
    {
     "data": {
      "image/png": "[encoded data removed]",
      "text/plain": [
       "plot without title"
      ]
     },
     "metadata": {
      "image/png": {
       "height": 420,
       "width": 420
      }
     },
     "output_type": "display_data"
    }
   ],
   "source": [
    "# subtitle_3way_anova = Anova, $F$(1, 48) = 0.76, $p$ = 0.3, $\\eta^2_{g}=0.001$\n",
    "subtitle_3way_anova_free = expression(paste(\"Anova, F(1, 48) = 0.76, p = 0.3, \",eta[g]^2, \"=0.001\"))\n",
    "pwc <- pwc %>% add_xy_position(x = \"sex\")\n",
    "\n",
    "pwc.filtered <- pwc %>% \n",
    "  filter((sex == \"male\" & age == \"adult\") | (sex == \"female\" & age == \"child\"))\n",
    "\n",
    "bxp_free +  \n",
    "  stat_pvalue_manual(\n",
    "    pwc.filtered, hide.ns = TRUE, bracket.nudge.y = 0.1,\n",
    "    label = \"{p.adj}{p.adj.signif}\"\n",
    "    ) +\n",
    "  labs(\n",
    "    subtitle = subtitle_3way_anova_free,\n",
    "    caption = get_pwc_label(pwc)\n",
    "  )"
   ]
  },
  {
   "cell_type": "code",
   "execution_count": 127,
   "id": "adc689da",
   "metadata": {},
   "outputs": [
    {
     "name": "stderr",
     "output_type": "stream",
     "text": [
      "Saving 6.67 x 6.67 in image\n",
      "\n",
      "Saving 6.67 x 6.67 in image\n",
      "\n"
     ]
    }
   ],
   "source": [
    "ggsave(\"../clean_data/anova_3way_test_free_labeling.png\")\n",
    "ggsave(\"../../emotions_dashboard/data/anova_3way_test_free_labeling.png\")"
   ]
  }
 ],
 "metadata": {
  "kernelspec": {
   "display_name": "R",
   "language": "R",
   "name": "ir"
  },
  "language_info": {
   "codemirror_mode": "r",
   "file_extension": ".r",
   "mimetype": "text/x-r-source",
   "name": "R",
   "pygments_lexer": "r",
   "version": "4.0.1"
  }
 },
 "nbformat": 4,
 "nbformat_minor": 5
}
